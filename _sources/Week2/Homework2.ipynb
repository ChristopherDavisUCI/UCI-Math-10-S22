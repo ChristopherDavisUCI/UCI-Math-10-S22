{
 "cells": [
  {
   "cell_type": "markdown",
   "metadata": {
    "cell_id": "da8dd2f3-c83a-4eed-95dd-f15cc108b701",
    "deepnote_cell_height": 193.1875,
    "deepnote_cell_type": "markdown",
    "tags": []
   },
   "source": [
    "# Homework 2\n",
    "\n",
    "Author: BLANK\n",
    "\n",
    "Collaborators: BLANK\n",
    "\n",
    "References: [BLANK](https://www.kaggle.com/)"
   ]
  },
  {
   "cell_type": "markdown",
   "metadata": {
    "cell_id": "9838a6acd4a84754aced4cc02a22a868",
    "deepnote_cell_height": 214.984375,
    "deepnote_cell_type": "markdown",
    "tags": []
   },
   "source": [
    "## Question 1\n",
    "\n",
    "* Load the \"penguins\" dataset using the [load_dataset function](https://seaborn.pydata.org/generated/seaborn.load_dataset.html) from the Seaborn library. Save this dataset with the variable name `df`.  (Don't forget to import Seaborn.  Assign Seaborn the abbreviation `sns`.)\n",
    "\n",
    "* How many rows are there in this dataset?  How many columns?  Answer this question using code, and then put the answer in a markdown cell.  (So your notebook should include both the code cell to find the answer, as well as the markdown cell giving the answer.)"
   ]
  },
  {
   "cell_type": "markdown",
   "metadata": {
    "cell_id": "4e1e636fa2744b75ad28e1eedf35241a",
    "deepnote_cell_height": 198.59375,
    "deepnote_cell_type": "markdown",
    "tags": []
   },
   "source": [
    "## Question 2\n",
    "\n",
    "* Which of the columns in the penguins dataset include missing data?  Make a list of them using list comprehension.\n",
    "\n",
    "* Same question for the rows.\n",
    "\n",
    "* Display the sub-DataFrame of `df` which contains all the columns but only the rows which are missing data.\n",
    "\n",
    "* Check that your sub-DataFrame is correct: the median value in the `flipper_length_mm` column should be 193.0."
   ]
  },
  {
   "cell_type": "markdown",
   "metadata": {
    "cell_id": "f7c45c651478494b84c63b1c463ef5cf",
    "deepnote_cell_height": 147.796875,
    "deepnote_cell_type": "markdown",
    "tags": []
   },
   "source": [
    "## Question 3\n",
    "\n",
    "* Evaluate `df.corr()` to view the correlations between the different numeric columns in the DataFrame.\n",
    "* Which two columns are the most negatively correlated?  Answer in a markdown cell. "
   ]
  },
  {
   "cell_type": "markdown",
   "metadata": {
    "cell_id": "148452854bb14ab8859ea1a3901c0cd2",
    "deepnote_cell_height": 440.59375,
    "deepnote_cell_type": "markdown",
    "tags": []
   },
   "source": [
    "## Question 4\n",
    "\n",
    "* Find a picture illustrating negative correlation (nothing to do with penguins).  Upload that picture into Deepnote (the same way you upload a csv file into Deepnote), and replace the below penguins picture with your negative correlation picture.  Also update the link to indicate where the picture came from.\n",
    "\n",
    "![a picture of penguins](../images/penguins.jpg)\n",
    "(Source: [flickr](https://www.flickr.com/photos/antarcticabound/5220534077))"
   ]
  },
  {
   "cell_type": "markdown",
   "metadata": {
    "cell_id": "051297ed2f024813800732d5ac994062",
    "deepnote_cell_height": 217.984375,
    "deepnote_cell_type": "markdown",
    "tags": []
   },
   "source": [
    "## Question 5\n",
    "\n",
    "* For the two most negatively correlated columns in the penguins DataFrame, draw a scatter plot of those columns using Altair and `mark_circle`.\n",
    "\n",
    "* By default, Altair includes zero in the x and y-axes.  Remove zero from both axes using [this method](https://altair-viz.github.io/user_guide/customization.html#adjusting-axis-limits).  (This should have the effect of zooming in on the data.)\n",
    "\n",
    "* Can you see how the data is indeed negatively correlated?"
   ]
  },
  {
   "cell_type": "markdown",
   "metadata": {
    "cell_id": "eb59472c2ac347468682e3e3ce597963",
    "deepnote_cell_height": 122.390625,
    "deepnote_cell_type": "markdown",
    "tags": []
   },
   "source": [
    "## Question 6\n",
    "\n",
    "* Add color to your chart encoding the species of the penguins."
   ]
  },
  {
   "cell_type": "markdown",
   "metadata": {
    "cell_id": "a364a2f1bc804e1cb0cabd1de65995b5",
    "deepnote_cell_height": 220.984375,
    "deepnote_cell_type": "markdown",
    "tags": []
   },
   "source": [
    "## Question 7\n",
    "\n",
    "* Do these columns seem negatively correlated for the Gentoo species?  Answer in a markdown cell using the Altair chart.\n",
    "\n",
    "* Make a sub-DataFrame called `df_gentoo` which contains only the \"Gentoo\" species and which contains only the two columns of interest.\n",
    "\n",
    "* Compute `df_gentoo.corr()` for this new DataFrame.\n",
    "\n",
    "* Does the result match what you thought visually?  Answer in one sentence in a markdown cell."
   ]
  },
  {
   "cell_type": "markdown",
   "metadata": {
    "cell_id": "11dd924a589e42ada7220a4f8ca9da38",
    "deepnote_cell_height": 167.1875,
    "deepnote_cell_type": "markdown",
    "tags": []
   },
   "source": [
    "## Question 8\n",
    "\n",
    "* Using a for loop and f-strings, for each species in `df`, print a sentence of the form \"The correlation between colA and colB for the {???} species is {???}\".  (Replace colA and colB with the names of the columns you have been using above.  In the Gentoo line, you should see the same number that you calculated above.)"
   ]
  },
  {
   "cell_type": "markdown",
   "metadata": {
    "cell_id": "fd19fa9071794715b9b0af8c4c2890b9",
    "deepnote_cell_height": 130.796875,
    "deepnote_cell_type": "markdown",
    "tags": []
   },
   "source": [
    "## Question 9\n",
    "\n",
    "Choose one example from the [Altair example gallery](https://altair-viz.github.io/gallery/index.html) and make a chart from the penguins data using that same technique.  Give a link to the original example from the Altair gallery in a markdown cell."
   ]
  },
  {
   "cell_type": "markdown",
   "metadata": {
    "cell_id": "0916d945b3ef4327b730a7b27646441d",
    "deepnote_cell_height": 130.796875,
    "deepnote_cell_type": "markdown",
    "tags": []
   },
   "source": [
    "## Submission\n",
    "\n",
    "To submit this homework, go to the Share option at the top right, and share the project to create a link, and then submit that link on Canvas."
   ]
  },
  {
   "cell_type": "markdown",
   "metadata": {
    "created_in_deepnote_cell": true,
    "deepnote_cell_type": "markdown",
    "tags": []
   },
   "source": [
    "<a style='text-decoration:none;line-height:16px;display:flex;color:#5B5B62;padding:10px;justify-content:end;' href='https://deepnote.com?utm_source=created-in-deepnote-cell&projectId=97df4c0f-3b94-4abb-b490-51ee8672b094' target=\"_blank\">\n",
    "<img alt='Created in deepnote.com' style='display:inline;max-height:16px;margin:0px;margin-right:7.5px;' src='data:image/svg+xml;base64,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' > </img>\n",
    "Created in <span style='font-weight:600;margin-left:4px;'>Deepnote</span></a>"
   ]
  }
 ],
 "metadata": {
  "deepnote": {
   "is_reactive": false
  },
  "deepnote_execution_queue": [],
  "deepnote_notebook_id": "a1370835-9338-4810-998d-6574d58adab0",
  "kernelspec": {
   "display_name": "Python 3 (ipykernel)",
   "language": "python",
   "name": "python3"
  },
  "language_info": {
   "codemirror_mode": {
    "name": "ipython",
    "version": 3
   },
   "file_extension": ".py",
   "mimetype": "text/x-python",
   "name": "python",
   "nbconvert_exporter": "python",
   "pygments_lexer": "ipython3",
   "version": "3.7.12"
  }
 },
 "nbformat": 4,
 "nbformat_minor": 4
}
