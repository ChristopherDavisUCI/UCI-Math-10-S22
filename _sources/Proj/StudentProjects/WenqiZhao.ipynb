{
 "cells": [
  {
   "cell_type": "markdown",
   "source": "# Pokemon \n\nAuthor: Wenqi Zhao\n\nCourse Project, UC Irvine, Math 10, S22",
   "metadata": {
    "tags": [],
    "cell_id": "098969f5-ac0d-4245-bbc2-f824edd4e15f",
    "deepnote_cell_type": "markdown",
    "deepnote_cell_height": 156.734375
   }
  },
  {
   "cell_type": "markdown",
   "source": "## Introduction\n<font color = red>\n\nI chose a dataset about Pokemon Pet, which is a Japanese Animated TV series that most of us have seen during our childhood. The data set contains each Pokemon pet's features: name, type, attack, defense, total. So in my project, I would make great use of machine learning such as linear or logistic prediction, which using the pokemon pets' feature (types, attack, defense, and speed )as input to predict its species and the name of the pet.",
   "metadata": {
    "cell_id": "1232c27a-f5e2-426a-91e0-f6cfebd8a611",
    "tags": [],
    "deepnote_cell_type": "markdown",
    "deepnote_cell_height": 197.921875
   }
  },
  {
   "cell_type": "markdown",
   "source": "## Main portion of the project\n\n(You can either have all one section or divide into multiple sections)",
   "metadata": {
    "cell_id": "5100f2c6-6407-41f2-9bb2-1a62540d8662",
    "tags": [],
    "deepnote_cell_type": "markdown",
    "deepnote_cell_height": 108.359375
   }
  },
  {
   "cell_type": "markdown",
   "source": "<Font Size = 5>\nImport and Clean Dataset",
   "metadata": {
    "cell_id": "a2c5970ab420440b837690f5756702c1",
    "tags": [],
    "deepnote_cell_type": "markdown",
    "deepnote_cell_height": 68.359375
   }
  },
  {
   "cell_type": "code",
   "metadata": {
    "cell_id": "75ad2e1221cb48d5992a8abd1b70543e",
    "tags": [],
    "deepnote_to_be_reexecuted": false,
    "source_hash": "850e66c4",
    "execution_start": 1654751748941,
    "execution_millis": 96,
    "deepnote_table_state": {
     "pageSize": 10,
     "pageIndex": 0,
     "filters": [],
     "sortBy": []
    },
    "deepnote_table_loading": false,
    "deepnote_cell_type": "code",
    "deepnote_cell_height": 653.875
   },
   "source": "import pandas as pd\ndf=pd.read_csv(\"Pokemon.csv\") #Read the dataset\ndf=df.dropna(axis=1) #Clean the data\ndf",
   "execution_count": null,
   "outputs": [
    {
     "output_type": "execute_result",
     "execution_count": 1,
     "data": {
      "application/vnd.deepnote.dataframe.v3+json": {
       "column_count": 12,
       "row_count": 800,
       "columns": [
        {
         "name": "#",
         "dtype": "int64",
         "stats": {
          "unique_count": 721,
          "nan_count": 0,
          "min": "1",
          "max": "721",
          "histogram": [
           {
            "bin_start": 1,
            "bin_end": 73,
            "count": 79
           },
           {
            "bin_start": 73,
            "bin_end": 145,
            "count": 78
           },
           {
            "bin_start": 145,
            "bin_end": 217,
            "count": 78
           },
           {
            "bin_start": 217,
            "bin_end": 289,
            "count": 78
           },
           {
            "bin_start": 289,
            "bin_end": 361,
            "count": 82
           },
           {
            "bin_start": 361,
            "bin_end": 433,
            "count": 86
           },
           {
            "bin_start": 433,
            "bin_end": 505,
            "count": 83
           },
           {
            "bin_start": 505,
            "bin_end": 577,
            "count": 74
           },
           {
            "bin_start": 577,
            "bin_end": 649,
            "count": 79
           },
           {
            "bin_start": 649,
            "bin_end": 721,
            "count": 83
           }
          ]
         }
        },
        {
         "name": "Name",
         "dtype": "object",
         "stats": {
          "unique_count": 800,
          "nan_count": 0,
          "categories": [
           {
            "name": "Bulbasaur",
            "count": 1
           },
           {
            "name": "Ivysaur",
            "count": 1
           },
           {
            "name": "798 others",
            "count": 798
           }
          ]
         }
        },
        {
         "name": "Type 1",
         "dtype": "object",
         "stats": {
          "unique_count": 18,
          "nan_count": 0,
          "categories": [
           {
            "name": "Water",
            "count": 112
           },
           {
            "name": "Normal",
            "count": 98
           },
           {
            "name": "16 others",
            "count": 590
           }
          ]
         }
        },
        {
         "name": "Total",
         "dtype": "int64",
         "stats": {
          "unique_count": 200,
          "nan_count": 0,
          "min": "180",
          "max": "780",
          "histogram": [
           {
            "bin_start": 180,
            "bin_end": 240,
            "count": 29
           },
           {
            "bin_start": 240,
            "bin_end": 300,
            "count": 73
           },
           {
            "bin_start": 300,
            "bin_end": 360,
            "count": 154
           },
           {
            "bin_start": 360,
            "bin_end": 420,
            "count": 97
           },
           {
            "bin_start": 420,
            "bin_end": 480,
            "count": 115
           },
           {
            "bin_start": 480,
            "bin_end": 540,
            "count": 198
           },
           {
            "bin_start": 540,
            "bin_end": 600,
            "count": 49
           },
           {
            "bin_start": 600,
            "bin_end": 660,
            "count": 52
           },
           {
            "bin_start": 660,
            "bin_end": 720,
            "count": 27
           },
           {
            "bin_start": 720,
            "bin_end": 780,
            "count": 6
           }
          ]
         }
        },
        {
         "name": "HP",
         "dtype": "int64",
         "stats": {
          "unique_count": 94,
          "nan_count": 0,
          "min": "1",
          "max": "255",
          "histogram": [
           {
            "bin_start": 1,
            "bin_end": 26.4,
            "count": 10
           },
           {
            "bin_start": 26.4,
            "bin_end": 51.8,
            "count": 202
           },
           {
            "bin_start": 51.8,
            "bin_end": 77.19999999999999,
            "count": 336
           },
           {
            "bin_start": 77.19999999999999,
            "bin_end": 102.6,
            "count": 186
           },
           {
            "bin_start": 102.6,
            "bin_end": 128,
            "count": 50
           },
           {
            "bin_start": 128,
            "bin_end": 153.39999999999998,
            "count": 10
           },
           {
            "bin_start": 153.39999999999998,
            "bin_end": 178.79999999999998,
            "count": 3
           },
           {
            "bin_start": 178.79999999999998,
            "bin_end": 204.2,
            "count": 1
           },
           {
            "bin_start": 204.2,
            "bin_end": 229.6,
            "count": 0
           },
           {
            "bin_start": 229.6,
            "bin_end": 255,
            "count": 2
           }
          ]
         }
        },
        {
         "name": "Attack",
         "dtype": "int64",
         "stats": {
          "unique_count": 111,
          "nan_count": 0,
          "min": "5",
          "max": "190",
          "histogram": [
           {
            "bin_start": 5,
            "bin_end": 23.5,
            "count": 16
           },
           {
            "bin_start": 23.5,
            "bin_end": 42,
            "count": 71
           },
           {
            "bin_start": 42,
            "bin_end": 60.5,
            "count": 173
           },
           {
            "bin_start": 60.5,
            "bin_end": 79,
            "count": 161
           },
           {
            "bin_start": 79,
            "bin_end": 97.5,
            "count": 166
           },
           {
            "bin_start": 97.5,
            "bin_end": 116,
            "count": 101
           },
           {
            "bin_start": 116,
            "bin_end": 134.5,
            "count": 65
           },
           {
            "bin_start": 134.5,
            "bin_end": 153,
            "count": 29
           },
           {
            "bin_start": 153,
            "bin_end": 171.5,
            "count": 13
           },
           {
            "bin_start": 171.5,
            "bin_end": 190,
            "count": 5
           }
          ]
         }
        },
        {
         "name": "Defense",
         "dtype": "int64",
         "stats": {
          "unique_count": 103,
          "nan_count": 0,
          "min": "5",
          "max": "230",
          "histogram": [
           {
            "bin_start": 5,
            "bin_end": 27.5,
            "count": 14
           },
           {
            "bin_start": 27.5,
            "bin_end": 50,
            "count": 149
           },
           {
            "bin_start": 50,
            "bin_end": 72.5,
            "count": 283
           },
           {
            "bin_start": 72.5,
            "bin_end": 95,
            "count": 170
           },
           {
            "bin_start": 95,
            "bin_end": 117.5,
            "count": 111
           },
           {
            "bin_start": 117.5,
            "bin_end": 140,
            "count": 45
           },
           {
            "bin_start": 140,
            "bin_end": 162.5,
            "count": 18
           },
           {
            "bin_start": 162.5,
            "bin_end": 185,
            "count": 5
           },
           {
            "bin_start": 185,
            "bin_end": 207.5,
            "count": 2
           },
           {
            "bin_start": 207.5,
            "bin_end": 230,
            "count": 3
           }
          ]
         }
        },
        {
         "name": "Sp. Atk",
         "dtype": "int64",
         "stats": {
          "unique_count": 105,
          "nan_count": 0,
          "min": "10",
          "max": "194",
          "histogram": [
           {
            "bin_start": 10,
            "bin_end": 28.4,
            "count": 31
           },
           {
            "bin_start": 28.4,
            "bin_end": 46.8,
            "count": 162
           },
           {
            "bin_start": 46.8,
            "bin_end": 65.19999999999999,
            "count": 218
           },
           {
            "bin_start": 65.19999999999999,
            "bin_end": 83.6,
            "count": 121
           },
           {
            "bin_start": 83.6,
            "bin_end": 102,
            "count": 123
           },
           {
            "bin_start": 102,
            "bin_end": 120.39999999999999,
            "count": 75
           },
           {
            "bin_start": 120.39999999999999,
            "bin_end": 138.79999999999998,
            "count": 38
           },
           {
            "bin_start": 138.79999999999998,
            "bin_end": 157.2,
            "count": 19
           },
           {
            "bin_start": 157.2,
            "bin_end": 175.6,
            "count": 9
           },
           {
            "bin_start": 175.6,
            "bin_end": 194,
            "count": 4
           }
          ]
         }
        },
        {
         "name": "Sp. Def",
         "dtype": "int64",
         "stats": {
          "unique_count": 92,
          "nan_count": 0,
          "min": "20",
          "max": "230",
          "histogram": [
           {
            "bin_start": 20,
            "bin_end": 41,
            "count": 97
           },
           {
            "bin_start": 41,
            "bin_end": 62,
            "count": 230
           },
           {
            "bin_start": 62,
            "bin_end": 83,
            "count": 223
           },
           {
            "bin_start": 83,
            "bin_end": 104,
            "count": 148
           },
           {
            "bin_start": 104,
            "bin_end": 125,
            "count": 67
           },
           {
            "bin_start": 125,
            "bin_end": 146,
            "count": 21
           },
           {
            "bin_start": 146,
            "bin_end": 167,
            "count": 12
           },
           {
            "bin_start": 167,
            "bin_end": 188,
            "count": 0
           },
           {
            "bin_start": 188,
            "bin_end": 209,
            "count": 1
           },
           {
            "bin_start": 209,
            "bin_end": 230,
            "count": 1
           }
          ]
         }
        },
        {
         "name": "Speed",
         "dtype": "int64",
         "stats": {
          "unique_count": 108,
          "nan_count": 0,
          "min": "5",
          "max": "180",
          "histogram": [
           {
            "bin_start": 5,
            "bin_end": 22.5,
            "count": 30
           },
           {
            "bin_start": 22.5,
            "bin_end": 40,
            "count": 97
           },
           {
            "bin_start": 40,
            "bin_end": 57.5,
            "count": 183
           },
           {
            "bin_start": 57.5,
            "bin_end": 75,
            "count": 168
           },
           {
            "bin_start": 75,
            "bin_end": 92.5,
            "count": 144
           },
           {
            "bin_start": 92.5,
            "bin_end": 110,
            "count": 108
           },
           {
            "bin_start": 110,
            "bin_end": 127.5,
            "count": 50
           },
           {
            "bin_start": 127.5,
            "bin_end": 145,
            "count": 11
           },
           {
            "bin_start": 145,
            "bin_end": 162.5,
            "count": 8
           },
           {
            "bin_start": 162.5,
            "bin_end": 180,
            "count": 1
           }
          ]
         }
        },
        {
         "name": "Generation",
         "dtype": "int64",
         "stats": {
          "unique_count": 6,
          "nan_count": 0,
          "min": "1",
          "max": "6",
          "histogram": [
           {
            "bin_start": 1,
            "bin_end": 1.5,
            "count": 166
           },
           {
            "bin_start": 1.5,
            "bin_end": 2,
            "count": 0
           },
           {
            "bin_start": 2,
            "bin_end": 2.5,
            "count": 106
           },
           {
            "bin_start": 2.5,
            "bin_end": 3,
            "count": 0
           },
           {
            "bin_start": 3,
            "bin_end": 3.5,
            "count": 160
           },
           {
            "bin_start": 3.5,
            "bin_end": 4,
            "count": 0
           },
           {
            "bin_start": 4,
            "bin_end": 4.5,
            "count": 121
           },
           {
            "bin_start": 4.5,
            "bin_end": 5,
            "count": 0
           },
           {
            "bin_start": 5,
            "bin_end": 5.5,
            "count": 165
           },
           {
            "bin_start": 5.5,
            "bin_end": 6,
            "count": 82
           }
          ]
         }
        },
        {
         "name": "Legendary",
         "dtype": "bool",
         "stats": {
          "unique_count": 2,
          "nan_count": 0,
          "categories": [
           {
            "name": "False",
            "count": 735
           },
           {
            "name": "True",
            "count": 65
           }
          ]
         }
        },
        {
         "name": "_deepnote_index_column",
         "dtype": "int64"
        }
       ],
       "rows": [
        {
         "#": 1,
         "Name": "Bulbasaur",
         "Type 1": "Grass",
         "Total": 318,
         "HP": 45,
         "Attack": 49,
         "Defense": 49,
         "Sp. Atk": 65,
         "Sp. Def": 65,
         "Speed": 45,
         "Generation": 1,
         "Legendary": false,
         "_deepnote_index_column": 0
        },
        {
         "#": 2,
         "Name": "Ivysaur",
         "Type 1": "Grass",
         "Total": 405,
         "HP": 60,
         "Attack": 62,
         "Defense": 63,
         "Sp. Atk": 80,
         "Sp. Def": 80,
         "Speed": 60,
         "Generation": 1,
         "Legendary": false,
         "_deepnote_index_column": 1
        },
        {
         "#": 3,
         "Name": "Venusaur",
         "Type 1": "Grass",
         "Total": 525,
         "HP": 80,
         "Attack": 82,
         "Defense": 83,
         "Sp. Atk": 100,
         "Sp. Def": 100,
         "Speed": 80,
         "Generation": 1,
         "Legendary": false,
         "_deepnote_index_column": 2
        },
        {
         "#": 3,
         "Name": "VenusaurMega Venusaur",
         "Type 1": "Grass",
         "Total": 625,
         "HP": 80,
         "Attack": 100,
         "Defense": 123,
         "Sp. Atk": 122,
         "Sp. Def": 120,
         "Speed": 80,
         "Generation": 1,
         "Legendary": false,
         "_deepnote_index_column": 3
        },
        {
         "#": 4,
         "Name": "Charmander",
         "Type 1": "Fire",
         "Total": 309,
         "HP": 39,
         "Attack": 52,
         "Defense": 43,
         "Sp. Atk": 60,
         "Sp. Def": 50,
         "Speed": 65,
         "Generation": 1,
         "Legendary": false,
         "_deepnote_index_column": 4
        },
        {
         "#": 5,
         "Name": "Charmeleon",
         "Type 1": "Fire",
         "Total": 405,
         "HP": 58,
         "Attack": 64,
         "Defense": 58,
         "Sp. Atk": 80,
         "Sp. Def": 65,
         "Speed": 80,
         "Generation": 1,
         "Legendary": false,
         "_deepnote_index_column": 5
        },
        {
         "#": 6,
         "Name": "Charizard",
         "Type 1": "Fire",
         "Total": 534,
         "HP": 78,
         "Attack": 84,
         "Defense": 78,
         "Sp. Atk": 109,
         "Sp. Def": 85,
         "Speed": 100,
         "Generation": 1,
         "Legendary": false,
         "_deepnote_index_column": 6
        },
        {
         "#": 6,
         "Name": "CharizardMega Charizard X",
         "Type 1": "Fire",
         "Total": 634,
         "HP": 78,
         "Attack": 130,
         "Defense": 111,
         "Sp. Atk": 130,
         "Sp. Def": 85,
         "Speed": 100,
         "Generation": 1,
         "Legendary": false,
         "_deepnote_index_column": 7
        },
        {
         "#": 6,
         "Name": "CharizardMega Charizard Y",
         "Type 1": "Fire",
         "Total": 634,
         "HP": 78,
         "Attack": 104,
         "Defense": 78,
         "Sp. Atk": 159,
         "Sp. Def": 115,
         "Speed": 100,
         "Generation": 1,
         "Legendary": false,
         "_deepnote_index_column": 8
        },
        {
         "#": 7,
         "Name": "Squirtle",
         "Type 1": "Water",
         "Total": 314,
         "HP": 44,
         "Attack": 48,
         "Defense": 65,
         "Sp. Atk": 50,
         "Sp. Def": 64,
         "Speed": 43,
         "Generation": 1,
         "Legendary": false,
         "_deepnote_index_column": 9
        }
       ]
      },
      "text/plain": "       #                   Name   Type 1  Total  HP  Attack  Defense  Sp. Atk  \\\n0      1              Bulbasaur    Grass    318  45      49       49       65   \n1      2                Ivysaur    Grass    405  60      62       63       80   \n2      3               Venusaur    Grass    525  80      82       83      100   \n3      3  VenusaurMega Venusaur    Grass    625  80     100      123      122   \n4      4             Charmander     Fire    309  39      52       43       60   \n..   ...                    ...      ...    ...  ..     ...      ...      ...   \n795  719                Diancie     Rock    600  50     100      150      100   \n796  719    DiancieMega Diancie     Rock    700  50     160      110      160   \n797  720    HoopaHoopa Confined  Psychic    600  80     110       60      150   \n798  720     HoopaHoopa Unbound  Psychic    680  80     160       60      170   \n799  721              Volcanion     Fire    600  80     110      120      130   \n\n     Sp. Def  Speed  Generation  Legendary  \n0         65     45           1      False  \n1         80     60           1      False  \n2        100     80           1      False  \n3        120     80           1      False  \n4         50     65           1      False  \n..       ...    ...         ...        ...  \n795      150     50           6       True  \n796      110    110           6       True  \n797      130     70           6       True  \n798      130     80           6       True  \n799       90     70           6       True  \n\n[800 rows x 12 columns]",
      "text/html": "<div>\n<style scoped>\n    .dataframe tbody tr th:only-of-type {\n        vertical-align: middle;\n    }\n\n    .dataframe tbody tr th {\n        vertical-align: top;\n    }\n\n    .dataframe thead th {\n        text-align: right;\n    }\n</style>\n<table border=\"1\" class=\"dataframe\">\n  <thead>\n    <tr style=\"text-align: right;\">\n      <th></th>\n      <th>#</th>\n      <th>Name</th>\n      <th>Type 1</th>\n      <th>Total</th>\n      <th>HP</th>\n      <th>Attack</th>\n      <th>Defense</th>\n      <th>Sp. Atk</th>\n      <th>Sp. Def</th>\n      <th>Speed</th>\n      <th>Generation</th>\n      <th>Legendary</th>\n    </tr>\n  </thead>\n  <tbody>\n    <tr>\n      <th>0</th>\n      <td>1</td>\n      <td>Bulbasaur</td>\n      <td>Grass</td>\n      <td>318</td>\n      <td>45</td>\n      <td>49</td>\n      <td>49</td>\n      <td>65</td>\n      <td>65</td>\n      <td>45</td>\n      <td>1</td>\n      <td>False</td>\n    </tr>\n    <tr>\n      <th>1</th>\n      <td>2</td>\n      <td>Ivysaur</td>\n      <td>Grass</td>\n      <td>405</td>\n      <td>60</td>\n      <td>62</td>\n      <td>63</td>\n      <td>80</td>\n      <td>80</td>\n      <td>60</td>\n      <td>1</td>\n      <td>False</td>\n    </tr>\n    <tr>\n      <th>2</th>\n      <td>3</td>\n      <td>Venusaur</td>\n      <td>Grass</td>\n      <td>525</td>\n      <td>80</td>\n      <td>82</td>\n      <td>83</td>\n      <td>100</td>\n      <td>100</td>\n      <td>80</td>\n      <td>1</td>\n      <td>False</td>\n    </tr>\n    <tr>\n      <th>3</th>\n      <td>3</td>\n      <td>VenusaurMega Venusaur</td>\n      <td>Grass</td>\n      <td>625</td>\n      <td>80</td>\n      <td>100</td>\n      <td>123</td>\n      <td>122</td>\n      <td>120</td>\n      <td>80</td>\n      <td>1</td>\n      <td>False</td>\n    </tr>\n    <tr>\n      <th>4</th>\n      <td>4</td>\n      <td>Charmander</td>\n      <td>Fire</td>\n      <td>309</td>\n      <td>39</td>\n      <td>52</td>\n      <td>43</td>\n      <td>60</td>\n      <td>50</td>\n      <td>65</td>\n      <td>1</td>\n      <td>False</td>\n    </tr>\n    <tr>\n      <th>...</th>\n      <td>...</td>\n      <td>...</td>\n      <td>...</td>\n      <td>...</td>\n      <td>...</td>\n      <td>...</td>\n      <td>...</td>\n      <td>...</td>\n      <td>...</td>\n      <td>...</td>\n      <td>...</td>\n      <td>...</td>\n    </tr>\n    <tr>\n      <th>795</th>\n      <td>719</td>\n      <td>Diancie</td>\n      <td>Rock</td>\n      <td>600</td>\n      <td>50</td>\n      <td>100</td>\n      <td>150</td>\n      <td>100</td>\n      <td>150</td>\n      <td>50</td>\n      <td>6</td>\n      <td>True</td>\n    </tr>\n    <tr>\n      <th>796</th>\n      <td>719</td>\n      <td>DiancieMega Diancie</td>\n      <td>Rock</td>\n      <td>700</td>\n      <td>50</td>\n      <td>160</td>\n      <td>110</td>\n      <td>160</td>\n      <td>110</td>\n      <td>110</td>\n      <td>6</td>\n      <td>True</td>\n    </tr>\n    <tr>\n      <th>797</th>\n      <td>720</td>\n      <td>HoopaHoopa Confined</td>\n      <td>Psychic</td>\n      <td>600</td>\n      <td>80</td>\n      <td>110</td>\n      <td>60</td>\n      <td>150</td>\n      <td>130</td>\n      <td>70</td>\n      <td>6</td>\n      <td>True</td>\n    </tr>\n    <tr>\n      <th>798</th>\n      <td>720</td>\n      <td>HoopaHoopa Unbound</td>\n      <td>Psychic</td>\n      <td>680</td>\n      <td>80</td>\n      <td>160</td>\n      <td>60</td>\n      <td>170</td>\n      <td>130</td>\n      <td>80</td>\n      <td>6</td>\n      <td>True</td>\n    </tr>\n    <tr>\n      <th>799</th>\n      <td>721</td>\n      <td>Volcanion</td>\n      <td>Fire</td>\n      <td>600</td>\n      <td>80</td>\n      <td>110</td>\n      <td>120</td>\n      <td>130</td>\n      <td>90</td>\n      <td>70</td>\n      <td>6</td>\n      <td>True</td>\n    </tr>\n  </tbody>\n</table>\n<p>800 rows × 12 columns</p>\n</div>"
     },
     "metadata": {}
    }
   ]
  },
  {
   "cell_type": "markdown",
   "source": "<Font size = 5>\nA Brief Intro of my Dataset",
   "metadata": {
    "cell_id": "f959a24067324c1db39086f2b47e556d",
    "tags": [],
    "deepnote_cell_type": "markdown",
    "deepnote_cell_height": 68.359375
   }
  },
  {
   "cell_type": "markdown",
   "source": "<Font Color = red>\nName: Name of each pokemon;\nType 1: Each pokemon has a type, this determines weakness/resistance to attacks;\nType 2: Some pokemon are dual type and have 2;\nTotal: sum of all stats that come after this, a general guide to how strong a pokemon is;\nHP: hit points, or health, defines how much damage a pokemon can withstand before fainting;\nAttack: the base modifier for normal attacks (eg. Scratch, Punch);\nDefense: the base damage resistance against normal attacks;\nSP Atk: special attack, the base modifier for special attacks (e.g. fire blast, bubble beam);\nSP Def: the base damage resistance against special attacks;\nSpeed: determines which pokemon attacks first each round;",
   "metadata": {
    "cell_id": "3acdb968bdcc45a495cdb805d35aebd3",
    "tags": [],
    "deepnote_cell_type": "markdown",
    "deepnote_cell_height": 209.109375
   }
  },
  {
   "cell_type": "code",
   "metadata": {
    "cell_id": "5287b422522c4af493e6dd6d8502ccaf",
    "tags": [],
    "deepnote_to_be_reexecuted": false,
    "source_hash": "f88152d9",
    "execution_start": 1654751749123,
    "execution_millis": 10,
    "deepnote_table_state": {
     "pageSize": 25,
     "pageIndex": 0,
     "filters": [],
     "sortBy": []
    },
    "deepnote_table_loading": false,
    "deepnote_cell_type": "code",
    "deepnote_cell_height": 517.890625
   },
   "source": "df.describe()",
   "execution_count": null,
   "outputs": [
    {
     "output_type": "execute_result",
     "execution_count": 2,
     "data": {
      "application/vnd.deepnote.dataframe.v3+json": {
       "column_count": 9,
       "row_count": 8,
       "columns": [
        {
         "name": "#",
         "dtype": "float64",
         "stats": {
          "unique_count": 8,
          "nan_count": 0,
          "min": "1.0",
          "max": "800.0",
          "histogram": [
           {
            "bin_start": 1,
            "bin_end": 80.9,
            "count": 1
           },
           {
            "bin_start": 80.9,
            "bin_end": 160.8,
            "count": 0
           },
           {
            "bin_start": 160.8,
            "bin_end": 240.70000000000002,
            "count": 2
           },
           {
            "bin_start": 240.70000000000002,
            "bin_end": 320.6,
            "count": 0
           },
           {
            "bin_start": 320.6,
            "bin_end": 400.5,
            "count": 2
           },
           {
            "bin_start": 400.5,
            "bin_end": 480.40000000000003,
            "count": 0
           },
           {
            "bin_start": 480.40000000000003,
            "bin_end": 560.3000000000001,
            "count": 1
           },
           {
            "bin_start": 560.3000000000001,
            "bin_end": 640.2,
            "count": 0
           },
           {
            "bin_start": 640.2,
            "bin_end": 720.1,
            "count": 0
           },
           {
            "bin_start": 720.1,
            "bin_end": 800,
            "count": 2
           }
          ]
         }
        },
        {
         "name": "Total",
         "dtype": "float64",
         "stats": {
          "unique_count": 8,
          "nan_count": 0,
          "min": "119.96303975551899",
          "max": "800.0",
          "histogram": [
           {
            "bin_start": 119.96303975551899,
            "bin_end": 187.96673577996708,
            "count": 2
           },
           {
            "bin_start": 187.96673577996708,
            "bin_end": 255.97043180441517,
            "count": 0
           },
           {
            "bin_start": 255.97043180441517,
            "bin_end": 323.9741278288633,
            "count": 0
           },
           {
            "bin_start": 323.9741278288633,
            "bin_end": 391.97782385331135,
            "count": 1
           },
           {
            "bin_start": 391.97782385331135,
            "bin_end": 459.98151987775947,
            "count": 2
           },
           {
            "bin_start": 459.98151987775947,
            "bin_end": 527.9852159022075,
            "count": 1
           },
           {
            "bin_start": 527.9852159022075,
            "bin_end": 595.9889119266556,
            "count": 0
           },
           {
            "bin_start": 595.9889119266556,
            "bin_end": 663.9926079511038,
            "count": 0
           },
           {
            "bin_start": 663.9926079511038,
            "bin_end": 731.9963039755519,
            "count": 0
           },
           {
            "bin_start": 731.9963039755519,
            "bin_end": 800,
            "count": 2
           }
          ]
         }
        },
        {
         "name": "HP",
         "dtype": "float64",
         "stats": {
          "unique_count": 8,
          "nan_count": 0,
          "min": "1.0",
          "max": "800.0",
          "histogram": [
           {
            "bin_start": 1,
            "bin_end": 80.9,
            "count": 6
           },
           {
            "bin_start": 80.9,
            "bin_end": 160.8,
            "count": 0
           },
           {
            "bin_start": 160.8,
            "bin_end": 240.70000000000002,
            "count": 0
           },
           {
            "bin_start": 240.70000000000002,
            "bin_end": 320.6,
            "count": 1
           },
           {
            "bin_start": 320.6,
            "bin_end": 400.5,
            "count": 0
           },
           {
            "bin_start": 400.5,
            "bin_end": 480.40000000000003,
            "count": 0
           },
           {
            "bin_start": 480.40000000000003,
            "bin_end": 560.3000000000001,
            "count": 0
           },
           {
            "bin_start": 560.3000000000001,
            "bin_end": 640.2,
            "count": 0
           },
           {
            "bin_start": 640.2,
            "bin_end": 720.1,
            "count": 0
           },
           {
            "bin_start": 720.1,
            "bin_end": 800,
            "count": 1
           }
          ]
         }
        },
        {
         "name": "Attack",
         "dtype": "float64",
         "stats": {
          "unique_count": 8,
          "nan_count": 0,
          "min": "5.0",
          "max": "800.0",
          "histogram": [
           {
            "bin_start": 5,
            "bin_end": 84.5,
            "count": 5
           },
           {
            "bin_start": 84.5,
            "bin_end": 164,
            "count": 1
           },
           {
            "bin_start": 164,
            "bin_end": 243.5,
            "count": 1
           },
           {
            "bin_start": 243.5,
            "bin_end": 323,
            "count": 0
           },
           {
            "bin_start": 323,
            "bin_end": 402.5,
            "count": 0
           },
           {
            "bin_start": 402.5,
            "bin_end": 482,
            "count": 0
           },
           {
            "bin_start": 482,
            "bin_end": 561.5,
            "count": 0
           },
           {
            "bin_start": 561.5,
            "bin_end": 641,
            "count": 0
           },
           {
            "bin_start": 641,
            "bin_end": 720.5,
            "count": 0
           },
           {
            "bin_start": 720.5,
            "bin_end": 800,
            "count": 1
           }
          ]
         }
        },
        {
         "name": "Defense",
         "dtype": "float64",
         "stats": {
          "unique_count": 8,
          "nan_count": 0,
          "min": "5.0",
          "max": "800.0",
          "histogram": [
           {
            "bin_start": 5,
            "bin_end": 84.5,
            "count": 5
           },
           {
            "bin_start": 84.5,
            "bin_end": 164,
            "count": 1
           },
           {
            "bin_start": 164,
            "bin_end": 243.5,
            "count": 1
           },
           {
            "bin_start": 243.5,
            "bin_end": 323,
            "count": 0
           },
           {
            "bin_start": 323,
            "bin_end": 402.5,
            "count": 0
           },
           {
            "bin_start": 402.5,
            "bin_end": 482,
            "count": 0
           },
           {
            "bin_start": 482,
            "bin_end": 561.5,
            "count": 0
           },
           {
            "bin_start": 561.5,
            "bin_end": 641,
            "count": 0
           },
           {
            "bin_start": 641,
            "bin_end": 720.5,
            "count": 0
           },
           {
            "bin_start": 720.5,
            "bin_end": 800,
            "count": 1
           }
          ]
         }
        },
        {
         "name": "Sp. Atk",
         "dtype": "float64",
         "stats": {
          "unique_count": 8,
          "nan_count": 0,
          "min": "10.0",
          "max": "800.0",
          "histogram": [
           {
            "bin_start": 10,
            "bin_end": 89,
            "count": 5
           },
           {
            "bin_start": 89,
            "bin_end": 168,
            "count": 1
           },
           {
            "bin_start": 168,
            "bin_end": 247,
            "count": 1
           },
           {
            "bin_start": 247,
            "bin_end": 326,
            "count": 0
           },
           {
            "bin_start": 326,
            "bin_end": 405,
            "count": 0
           },
           {
            "bin_start": 405,
            "bin_end": 484,
            "count": 0
           },
           {
            "bin_start": 484,
            "bin_end": 563,
            "count": 0
           },
           {
            "bin_start": 563,
            "bin_end": 642,
            "count": 0
           },
           {
            "bin_start": 642,
            "bin_end": 721,
            "count": 0
           },
           {
            "bin_start": 721,
            "bin_end": 800,
            "count": 1
           }
          ]
         }
        },
        {
         "name": "Sp. Def",
         "dtype": "float64",
         "stats": {
          "unique_count": 8,
          "nan_count": 0,
          "min": "20.0",
          "max": "800.0",
          "histogram": [
           {
            "bin_start": 20,
            "bin_end": 98,
            "count": 6
           },
           {
            "bin_start": 98,
            "bin_end": 176,
            "count": 0
           },
           {
            "bin_start": 176,
            "bin_end": 254,
            "count": 1
           },
           {
            "bin_start": 254,
            "bin_end": 332,
            "count": 0
           },
           {
            "bin_start": 332,
            "bin_end": 410,
            "count": 0
           },
           {
            "bin_start": 410,
            "bin_end": 488,
            "count": 0
           },
           {
            "bin_start": 488,
            "bin_end": 566,
            "count": 0
           },
           {
            "bin_start": 566,
            "bin_end": 644,
            "count": 0
           },
           {
            "bin_start": 644,
            "bin_end": 722,
            "count": 0
           },
           {
            "bin_start": 722,
            "bin_end": 800,
            "count": 1
           }
          ]
         }
        },
        {
         "name": "Speed",
         "dtype": "float64",
         "stats": {
          "unique_count": 8,
          "nan_count": 0,
          "min": "5.0",
          "max": "800.0",
          "histogram": [
           {
            "bin_start": 5,
            "bin_end": 84.5,
            "count": 5
           },
           {
            "bin_start": 84.5,
            "bin_end": 164,
            "count": 1
           },
           {
            "bin_start": 164,
            "bin_end": 243.5,
            "count": 1
           },
           {
            "bin_start": 243.5,
            "bin_end": 323,
            "count": 0
           },
           {
            "bin_start": 323,
            "bin_end": 402.5,
            "count": 0
           },
           {
            "bin_start": 402.5,
            "bin_end": 482,
            "count": 0
           },
           {
            "bin_start": 482,
            "bin_end": 561.5,
            "count": 0
           },
           {
            "bin_start": 561.5,
            "bin_end": 641,
            "count": 0
           },
           {
            "bin_start": 641,
            "bin_end": 720.5,
            "count": 0
           },
           {
            "bin_start": 720.5,
            "bin_end": 800,
            "count": 1
           }
          ]
         }
        },
        {
         "name": "Generation",
         "dtype": "float64",
         "stats": {
          "unique_count": 8,
          "nan_count": 0,
          "min": "1.0",
          "max": "800.0",
          "histogram": [
           {
            "bin_start": 1,
            "bin_end": 80.9,
            "count": 7
           },
           {
            "bin_start": 80.9,
            "bin_end": 160.8,
            "count": 0
           },
           {
            "bin_start": 160.8,
            "bin_end": 240.70000000000002,
            "count": 0
           },
           {
            "bin_start": 240.70000000000002,
            "bin_end": 320.6,
            "count": 0
           },
           {
            "bin_start": 320.6,
            "bin_end": 400.5,
            "count": 0
           },
           {
            "bin_start": 400.5,
            "bin_end": 480.40000000000003,
            "count": 0
           },
           {
            "bin_start": 480.40000000000003,
            "bin_end": 560.3000000000001,
            "count": 0
           },
           {
            "bin_start": 560.3000000000001,
            "bin_end": 640.2,
            "count": 0
           },
           {
            "bin_start": 640.2,
            "bin_end": 720.1,
            "count": 0
           },
           {
            "bin_start": 720.1,
            "bin_end": 800,
            "count": 1
           }
          ]
         }
        },
        {
         "name": "_deepnote_index_column",
         "dtype": "object"
        }
       ],
       "rows": [
        {
         "#": 800,
         "Total": 800,
         "HP": 800,
         "Attack": 800,
         "Defense": 800,
         "Sp. Atk": 800,
         "Sp. Def": 800,
         "Speed": 800,
         "Generation": 800,
         "_deepnote_index_column": "count"
        },
        {
         "#": 362.81375,
         "Total": 435.1025,
         "HP": 69.25875,
         "Attack": 79.00125,
         "Defense": 73.8425,
         "Sp. Atk": 72.82,
         "Sp. Def": 71.9025,
         "Speed": 68.2775,
         "Generation": 3.32375,
         "_deepnote_index_column": "mean"
        },
        {
         "#": 208.34379756406662,
         "Total": 119.96303975551899,
         "HP": 25.53466903233207,
         "Attack": 32.45736586949845,
         "Defense": 31.183500559332934,
         "Sp. Atk": 32.7222941688016,
         "Sp. Def": 27.82891579711746,
         "Speed": 29.060473717161464,
         "Generation": 1.6612904004849451,
         "_deepnote_index_column": "std"
        },
        {
         "#": 1,
         "Total": 180,
         "HP": 1,
         "Attack": 5,
         "Defense": 5,
         "Sp. Atk": 10,
         "Sp. Def": 20,
         "Speed": 5,
         "Generation": 1,
         "_deepnote_index_column": "min"
        },
        {
         "#": 184.75,
         "Total": 330,
         "HP": 50,
         "Attack": 55,
         "Defense": 50,
         "Sp. Atk": 49.75,
         "Sp. Def": 50,
         "Speed": 45,
         "Generation": 2,
         "_deepnote_index_column": "25%"
        },
        {
         "#": 364.5,
         "Total": 450,
         "HP": 65,
         "Attack": 75,
         "Defense": 70,
         "Sp. Atk": 65,
         "Sp. Def": 70,
         "Speed": 65,
         "Generation": 3,
         "_deepnote_index_column": "50%"
        },
        {
         "#": 539.25,
         "Total": 515,
         "HP": 80,
         "Attack": 100,
         "Defense": 90,
         "Sp. Atk": 95,
         "Sp. Def": 90,
         "Speed": 90,
         "Generation": 5,
         "_deepnote_index_column": "75%"
        },
        {
         "#": 721,
         "Total": 780,
         "HP": 255,
         "Attack": 190,
         "Defense": 230,
         "Sp. Atk": 194,
         "Sp. Def": 230,
         "Speed": 180,
         "Generation": 6,
         "_deepnote_index_column": "max"
        }
       ]
      },
      "text/plain": "                #      Total          HP      Attack     Defense     Sp. Atk  \\\ncount  800.000000  800.00000  800.000000  800.000000  800.000000  800.000000   \nmean   362.813750  435.10250   69.258750   79.001250   73.842500   72.820000   \nstd    208.343798  119.96304   25.534669   32.457366   31.183501   32.722294   \nmin      1.000000  180.00000    1.000000    5.000000    5.000000   10.000000   \n25%    184.750000  330.00000   50.000000   55.000000   50.000000   49.750000   \n50%    364.500000  450.00000   65.000000   75.000000   70.000000   65.000000   \n75%    539.250000  515.00000   80.000000  100.000000   90.000000   95.000000   \nmax    721.000000  780.00000  255.000000  190.000000  230.000000  194.000000   \n\n          Sp. Def       Speed  Generation  \ncount  800.000000  800.000000   800.00000  \nmean    71.902500   68.277500     3.32375  \nstd     27.828916   29.060474     1.66129  \nmin     20.000000    5.000000     1.00000  \n25%     50.000000   45.000000     2.00000  \n50%     70.000000   65.000000     3.00000  \n75%     90.000000   90.000000     5.00000  \nmax    230.000000  180.000000     6.00000  ",
      "text/html": "<div>\n<style scoped>\n    .dataframe tbody tr th:only-of-type {\n        vertical-align: middle;\n    }\n\n    .dataframe tbody tr th {\n        vertical-align: top;\n    }\n\n    .dataframe thead th {\n        text-align: right;\n    }\n</style>\n<table border=\"1\" class=\"dataframe\">\n  <thead>\n    <tr style=\"text-align: right;\">\n      <th></th>\n      <th>#</th>\n      <th>Total</th>\n      <th>HP</th>\n      <th>Attack</th>\n      <th>Defense</th>\n      <th>Sp. Atk</th>\n      <th>Sp. Def</th>\n      <th>Speed</th>\n      <th>Generation</th>\n    </tr>\n  </thead>\n  <tbody>\n    <tr>\n      <th>count</th>\n      <td>800.000000</td>\n      <td>800.00000</td>\n      <td>800.000000</td>\n      <td>800.000000</td>\n      <td>800.000000</td>\n      <td>800.000000</td>\n      <td>800.000000</td>\n      <td>800.000000</td>\n      <td>800.00000</td>\n    </tr>\n    <tr>\n      <th>mean</th>\n      <td>362.813750</td>\n      <td>435.10250</td>\n      <td>69.258750</td>\n      <td>79.001250</td>\n      <td>73.842500</td>\n      <td>72.820000</td>\n      <td>71.902500</td>\n      <td>68.277500</td>\n      <td>3.32375</td>\n    </tr>\n    <tr>\n      <th>std</th>\n      <td>208.343798</td>\n      <td>119.96304</td>\n      <td>25.534669</td>\n      <td>32.457366</td>\n      <td>31.183501</td>\n      <td>32.722294</td>\n      <td>27.828916</td>\n      <td>29.060474</td>\n      <td>1.66129</td>\n    </tr>\n    <tr>\n      <th>min</th>\n      <td>1.000000</td>\n      <td>180.00000</td>\n      <td>1.000000</td>\n      <td>5.000000</td>\n      <td>5.000000</td>\n      <td>10.000000</td>\n      <td>20.000000</td>\n      <td>5.000000</td>\n      <td>1.00000</td>\n    </tr>\n    <tr>\n      <th>25%</th>\n      <td>184.750000</td>\n      <td>330.00000</td>\n      <td>50.000000</td>\n      <td>55.000000</td>\n      <td>50.000000</td>\n      <td>49.750000</td>\n      <td>50.000000</td>\n      <td>45.000000</td>\n      <td>2.00000</td>\n    </tr>\n    <tr>\n      <th>50%</th>\n      <td>364.500000</td>\n      <td>450.00000</td>\n      <td>65.000000</td>\n      <td>75.000000</td>\n      <td>70.000000</td>\n      <td>65.000000</td>\n      <td>70.000000</td>\n      <td>65.000000</td>\n      <td>3.00000</td>\n    </tr>\n    <tr>\n      <th>75%</th>\n      <td>539.250000</td>\n      <td>515.00000</td>\n      <td>80.000000</td>\n      <td>100.000000</td>\n      <td>90.000000</td>\n      <td>95.000000</td>\n      <td>90.000000</td>\n      <td>90.000000</td>\n      <td>5.00000</td>\n    </tr>\n    <tr>\n      <th>max</th>\n      <td>721.000000</td>\n      <td>780.00000</td>\n      <td>255.000000</td>\n      <td>190.000000</td>\n      <td>230.000000</td>\n      <td>194.000000</td>\n      <td>230.000000</td>\n      <td>180.000000</td>\n      <td>6.00000</td>\n    </tr>\n  </tbody>\n</table>\n</div>"
     },
     "metadata": {}
    }
   ]
  },
  {
   "cell_type": "code",
   "metadata": {
    "cell_id": "49a68dd48c03439c86d688ff4a1739a5",
    "tags": [],
    "deepnote_to_be_reexecuted": false,
    "source_hash": "25d43fa0",
    "execution_start": 1654751749183,
    "execution_millis": 2,
    "deepnote_cell_type": "code",
    "deepnote_cell_height": 156.546875,
    "deepnote_output_heights": [
     59.59375
    ]
   },
   "source": "df.columns",
   "execution_count": null,
   "outputs": [
    {
     "output_type": "execute_result",
     "execution_count": 3,
     "data": {
      "text/plain": "Index(['#', 'Name', 'Type 1', 'Total', 'HP', 'Attack', 'Defense', 'Sp. Atk',\n       'Sp. Def', 'Speed', 'Generation', 'Legendary'],\n      dtype='object')"
     },
     "metadata": {}
    }
   ]
  },
  {
   "cell_type": "markdown",
   "source": "<Font size = 5>\nMake charts to see each Pokemon's attack and defense value",
   "metadata": {
    "cell_id": "544241899ca74f82ae2a97281febbdd4",
    "tags": [],
    "deepnote_cell_type": "markdown",
    "deepnote_cell_height": 106.75
   }
  },
  {
   "cell_type": "code",
   "metadata": {
    "cell_id": "4ee6f4022f9b4e94956ae547f526445c",
    "tags": [],
    "deepnote_to_be_reexecuted": false,
    "source_hash": "59fd0e79",
    "execution_start": 1654751749183,
    "execution_millis": 562,
    "deepnote_cell_type": "code",
    "deepnote_cell_height": 853.9375,
    "deepnote_output_heights": [
     522.984375
    ]
   },
   "source": "import altair as alt\nbrush = alt.selection_interval()\nc1 = alt.Chart(df).mark_point().encode(\n    x='Attack',\n    y='Defense',\n    color='Name'\n).add_selection(brush)\n\nc2= alt.Chart(df).mark_bar().encode(\n    x = 'Name',\n    y='Defense'\n).transform_filter(brush)\n\nc1|c2",
   "execution_count": null,
   "outputs": [
    {
     "output_type": "execute_result",
     "execution_count": 4,
     "data": {
      "text/html": "\n<div id=\"altair-viz-93ca54c35053497a8fe0c3ff92f23cf9\"></div>\n<script type=\"text/javascript\">\n  (function(spec, embedOpt){\n    let outputDiv = document.currentScript.previousElementSibling;\n    if (outputDiv.id !== \"altair-viz-93ca54c35053497a8fe0c3ff92f23cf9\") {\n      outputDiv = document.getElementById(\"altair-viz-93ca54c35053497a8fe0c3ff92f23cf9\");\n    }\n    const paths = {\n      \"vega\": \"https://cdn.jsdelivr.net/npm//vega@5?noext\",\n      \"vega-lib\": \"https://cdn.jsdelivr.net/npm//vega-lib?noext\",\n      \"vega-lite\": \"https://cdn.jsdelivr.net/npm//vega-lite@4.8.1?noext\",\n      \"vega-embed\": \"https://cdn.jsdelivr.net/npm//vega-embed@6?noext\",\n    };\n\n    function loadScript(lib) {\n      return new Promise(function(resolve, reject) {\n        var s = document.createElement('script');\n        s.src = paths[lib];\n        s.async = true;\n        s.onload = () => resolve(paths[lib]);\n        s.onerror = () => reject(`Error loading script: ${paths[lib]}`);\n        document.getElementsByTagName(\"head\")[0].appendChild(s);\n      });\n    }\n\n    function showError(err) {\n      outputDiv.innerHTML = `<div class=\"error\" style=\"color:red;\">${err}</div>`;\n      throw err;\n    }\n\n    function displayChart(vegaEmbed) {\n      vegaEmbed(outputDiv, spec, embedOpt)\n        .catch(err => showError(`Javascript Error: ${err.message}<br>This usually means there's a typo in your chart specification. See the javascript console for the full traceback.`));\n    }\n\n    if(typeof define === \"function\" && define.amd) {\n      requirejs.config({paths});\n      require([\"vega-embed\"], displayChart, err => showError(`Error loading script: ${err.message}`));\n    } else if (typeof vegaEmbed === \"function\") {\n      displayChart(vegaEmbed);\n    } else {\n      loadScript(\"vega\")\n        .then(() => loadScript(\"vega-lite\"))\n        .then(() => loadScript(\"vega-embed\"))\n        .catch(showError)\n        .then(() => displayChart(vegaEmbed));\n    }\n  })({\"config\": {\"view\": {\"continuousWidth\": 400, \"continuousHeight\": 300}}, \"hconcat\": [{\"mark\": \"point\", \"encoding\": {\"color\": {\"type\": \"nominal\", \"field\": \"Name\"}, \"x\": {\"type\": \"quantitative\", \"field\": \"Attack\"}, \"y\": {\"type\": \"quantitative\", \"field\": \"Defense\"}}, \"selection\": {\"selector001\": {\"type\": \"interval\"}}}, {\"mark\": \"bar\", \"encoding\": {\"x\": {\"type\": \"nominal\", \"field\": \"Name\"}, \"y\": {\"type\": \"quantitative\", \"field\": \"Defense\"}}, \"transform\": [{\"filter\": {\"selection\": \"selector001\"}}]}], \"data\": {\"name\": \"data-a882a41f14413cba532d419f7328d3d3\"}, \"$schema\": \"https://vega.github.io/schema/vega-lite/v4.8.1.json\", \"datasets\": {\"data-a882a41f14413cba532d419f7328d3d3\": [{\"#\": 1, \"Name\": \"Bulbasaur\", \"Type 1\": \"Grass\", \"Total\": 318, \"HP\": 45, \"Attack\": 49, \"Defense\": 49, \"Sp. Atk\": 65, \"Sp. Def\": 65, \"Speed\": 45, \"Generation\": 1, \"Legendary\": false}, {\"#\": 2, \"Name\": \"Ivysaur\", \"Type 1\": \"Grass\", \"Total\": 405, \"HP\": 60, \"Attack\": 62, \"Defense\": 63, \"Sp. Atk\": 80, \"Sp. Def\": 80, \"Speed\": 60, \"Generation\": 1, \"Legendary\": false}, {\"#\": 3, \"Name\": \"Venusaur\", \"Type 1\": \"Grass\", \"Total\": 525, \"HP\": 80, \"Attack\": 82, \"Defense\": 83, \"Sp. Atk\": 100, \"Sp. Def\": 100, \"Speed\": 80, \"Generation\": 1, \"Legendary\": false}, {\"#\": 3, \"Name\": \"VenusaurMega Venusaur\", \"Type 1\": \"Grass\", \"Total\": 625, \"HP\": 80, \"Attack\": 100, \"Defense\": 123, \"Sp. Atk\": 122, \"Sp. Def\": 120, \"Speed\": 80, \"Generation\": 1, \"Legendary\": false}, {\"#\": 4, \"Name\": \"Charmander\", \"Type 1\": \"Fire\", \"Total\": 309, \"HP\": 39, \"Attack\": 52, \"Defense\": 43, \"Sp. Atk\": 60, \"Sp. Def\": 50, \"Speed\": 65, \"Generation\": 1, \"Legendary\": false}, {\"#\": 5, \"Name\": \"Charmeleon\", \"Type 1\": \"Fire\", \"Total\": 405, \"HP\": 58, \"Attack\": 64, \"Defense\": 58, \"Sp. Atk\": 80, \"Sp. Def\": 65, \"Speed\": 80, \"Generation\": 1, \"Legendary\": false}, {\"#\": 6, \"Name\": \"Charizard\", \"Type 1\": \"Fire\", \"Total\": 534, \"HP\": 78, \"Attack\": 84, \"Defense\": 78, \"Sp. Atk\": 109, \"Sp. Def\": 85, \"Speed\": 100, \"Generation\": 1, \"Legendary\": false}, {\"#\": 6, \"Name\": \"CharizardMega Charizard X\", \"Type 1\": \"Fire\", \"Total\": 634, \"HP\": 78, \"Attack\": 130, \"Defense\": 111, \"Sp. Atk\": 130, \"Sp. Def\": 85, \"Speed\": 100, \"Generation\": 1, \"Legendary\": false}, {\"#\": 6, \"Name\": \"CharizardMega Charizard Y\", \"Type 1\": \"Fire\", \"Total\": 634, \"HP\": 78, \"Attack\": 104, \"Defense\": 78, \"Sp. Atk\": 159, \"Sp. Def\": 115, \"Speed\": 100, \"Generation\": 1, \"Legendary\": false}, {\"#\": 7, \"Name\": \"Squirtle\", \"Type 1\": \"Water\", \"Total\": 314, \"HP\": 44, \"Attack\": 48, \"Defense\": 65, \"Sp. Atk\": 50, \"Sp. Def\": 64, \"Speed\": 43, \"Generation\": 1, \"Legendary\": false}, {\"#\": 8, \"Name\": \"Wartortle\", \"Type 1\": \"Water\", \"Total\": 405, \"HP\": 59, \"Attack\": 63, \"Defense\": 80, \"Sp. Atk\": 65, \"Sp. Def\": 80, \"Speed\": 58, \"Generation\": 1, \"Legendary\": false}, {\"#\": 9, \"Name\": \"Blastoise\", \"Type 1\": \"Water\", \"Total\": 530, \"HP\": 79, \"Attack\": 83, \"Defense\": 100, \"Sp. Atk\": 85, \"Sp. Def\": 105, \"Speed\": 78, \"Generation\": 1, \"Legendary\": false}, {\"#\": 9, \"Name\": \"BlastoiseMega Blastoise\", \"Type 1\": \"Water\", \"Total\": 630, \"HP\": 79, \"Attack\": 103, \"Defense\": 120, \"Sp. Atk\": 135, \"Sp. Def\": 115, \"Speed\": 78, \"Generation\": 1, \"Legendary\": false}, {\"#\": 10, \"Name\": \"Caterpie\", \"Type 1\": \"Bug\", \"Total\": 195, \"HP\": 45, \"Attack\": 30, \"Defense\": 35, \"Sp. Atk\": 20, \"Sp. Def\": 20, \"Speed\": 45, \"Generation\": 1, \"Legendary\": false}, {\"#\": 11, \"Name\": \"Metapod\", \"Type 1\": \"Bug\", \"Total\": 205, \"HP\": 50, \"Attack\": 20, \"Defense\": 55, \"Sp. Atk\": 25, \"Sp. Def\": 25, \"Speed\": 30, \"Generation\": 1, \"Legendary\": false}, {\"#\": 12, \"Name\": \"Butterfree\", \"Type 1\": \"Bug\", \"Total\": 395, \"HP\": 60, \"Attack\": 45, \"Defense\": 50, \"Sp. Atk\": 90, \"Sp. Def\": 80, \"Speed\": 70, \"Generation\": 1, \"Legendary\": false}, {\"#\": 13, \"Name\": \"Weedle\", \"Type 1\": \"Bug\", \"Total\": 195, \"HP\": 40, \"Attack\": 35, \"Defense\": 30, \"Sp. Atk\": 20, \"Sp. Def\": 20, \"Speed\": 50, \"Generation\": 1, \"Legendary\": false}, {\"#\": 14, \"Name\": \"Kakuna\", \"Type 1\": \"Bug\", \"Total\": 205, \"HP\": 45, \"Attack\": 25, \"Defense\": 50, \"Sp. Atk\": 25, \"Sp. Def\": 25, \"Speed\": 35, \"Generation\": 1, \"Legendary\": false}, {\"#\": 15, \"Name\": \"Beedrill\", \"Type 1\": \"Bug\", \"Total\": 395, \"HP\": 65, \"Attack\": 90, \"Defense\": 40, \"Sp. Atk\": 45, \"Sp. Def\": 80, \"Speed\": 75, \"Generation\": 1, \"Legendary\": false}, {\"#\": 15, \"Name\": \"BeedrillMega Beedrill\", \"Type 1\": \"Bug\", \"Total\": 495, \"HP\": 65, \"Attack\": 150, \"Defense\": 40, \"Sp. Atk\": 15, \"Sp. Def\": 80, \"Speed\": 145, \"Generation\": 1, \"Legendary\": false}, {\"#\": 16, \"Name\": \"Pidgey\", \"Type 1\": \"Normal\", \"Total\": 251, \"HP\": 40, \"Attack\": 45, \"Defense\": 40, \"Sp. Atk\": 35, \"Sp. Def\": 35, \"Speed\": 56, \"Generation\": 1, \"Legendary\": false}, {\"#\": 17, \"Name\": \"Pidgeotto\", \"Type 1\": \"Normal\", \"Total\": 349, \"HP\": 63, \"Attack\": 60, \"Defense\": 55, \"Sp. Atk\": 50, \"Sp. Def\": 50, \"Speed\": 71, \"Generation\": 1, \"Legendary\": false}, {\"#\": 18, \"Name\": \"Pidgeot\", \"Type 1\": \"Normal\", \"Total\": 479, \"HP\": 83, \"Attack\": 80, \"Defense\": 75, \"Sp. Atk\": 70, \"Sp. Def\": 70, \"Speed\": 101, \"Generation\": 1, \"Legendary\": false}, {\"#\": 18, \"Name\": \"PidgeotMega Pidgeot\", \"Type 1\": \"Normal\", \"Total\": 579, \"HP\": 83, \"Attack\": 80, \"Defense\": 80, \"Sp. Atk\": 135, \"Sp. Def\": 80, \"Speed\": 121, \"Generation\": 1, \"Legendary\": false}, {\"#\": 19, \"Name\": \"Rattata\", \"Type 1\": \"Normal\", \"Total\": 253, \"HP\": 30, \"Attack\": 56, \"Defense\": 35, \"Sp. Atk\": 25, \"Sp. Def\": 35, \"Speed\": 72, \"Generation\": 1, \"Legendary\": false}, {\"#\": 20, \"Name\": \"Raticate\", \"Type 1\": \"Normal\", \"Total\": 413, \"HP\": 55, \"Attack\": 81, \"Defense\": 60, \"Sp. Atk\": 50, \"Sp. Def\": 70, \"Speed\": 97, \"Generation\": 1, \"Legendary\": false}, {\"#\": 21, \"Name\": \"Spearow\", \"Type 1\": \"Normal\", \"Total\": 262, \"HP\": 40, \"Attack\": 60, \"Defense\": 30, \"Sp. Atk\": 31, \"Sp. Def\": 31, \"Speed\": 70, \"Generation\": 1, \"Legendary\": false}, {\"#\": 22, \"Name\": \"Fearow\", \"Type 1\": \"Normal\", \"Total\": 442, \"HP\": 65, \"Attack\": 90, \"Defense\": 65, \"Sp. Atk\": 61, \"Sp. Def\": 61, \"Speed\": 100, \"Generation\": 1, \"Legendary\": false}, {\"#\": 23, \"Name\": \"Ekans\", \"Type 1\": \"Poison\", \"Total\": 288, \"HP\": 35, \"Attack\": 60, \"Defense\": 44, \"Sp. Atk\": 40, \"Sp. Def\": 54, \"Speed\": 55, \"Generation\": 1, \"Legendary\": false}, {\"#\": 24, \"Name\": \"Arbok\", \"Type 1\": \"Poison\", \"Total\": 438, \"HP\": 60, \"Attack\": 85, \"Defense\": 69, \"Sp. Atk\": 65, \"Sp. Def\": 79, \"Speed\": 80, \"Generation\": 1, \"Legendary\": false}, {\"#\": 25, \"Name\": \"Pikachu\", \"Type 1\": \"Electric\", \"Total\": 320, \"HP\": 35, \"Attack\": 55, \"Defense\": 40, \"Sp. Atk\": 50, \"Sp. Def\": 50, \"Speed\": 90, \"Generation\": 1, \"Legendary\": false}, {\"#\": 26, \"Name\": \"Raichu\", \"Type 1\": \"Electric\", \"Total\": 485, \"HP\": 60, \"Attack\": 90, \"Defense\": 55, \"Sp. Atk\": 90, \"Sp. Def\": 80, \"Speed\": 110, \"Generation\": 1, \"Legendary\": false}, {\"#\": 27, \"Name\": \"Sandshrew\", \"Type 1\": \"Ground\", \"Total\": 300, \"HP\": 50, \"Attack\": 75, \"Defense\": 85, \"Sp. Atk\": 20, \"Sp. Def\": 30, \"Speed\": 40, \"Generation\": 1, \"Legendary\": false}, {\"#\": 28, \"Name\": \"Sandslash\", \"Type 1\": \"Ground\", \"Total\": 450, \"HP\": 75, \"Attack\": 100, \"Defense\": 110, \"Sp. Atk\": 45, \"Sp. Def\": 55, \"Speed\": 65, \"Generation\": 1, \"Legendary\": false}, {\"#\": 29, \"Name\": \"Nidoran\\u2640\", \"Type 1\": \"Poison\", \"Total\": 275, \"HP\": 55, \"Attack\": 47, \"Defense\": 52, \"Sp. Atk\": 40, \"Sp. Def\": 40, \"Speed\": 41, \"Generation\": 1, \"Legendary\": false}, {\"#\": 30, \"Name\": \"Nidorina\", \"Type 1\": \"Poison\", \"Total\": 365, \"HP\": 70, \"Attack\": 62, \"Defense\": 67, \"Sp. Atk\": 55, \"Sp. Def\": 55, \"Speed\": 56, \"Generation\": 1, \"Legendary\": false}, {\"#\": 31, \"Name\": \"Nidoqueen\", \"Type 1\": \"Poison\", \"Total\": 505, \"HP\": 90, \"Attack\": 92, \"Defense\": 87, \"Sp. Atk\": 75, \"Sp. Def\": 85, \"Speed\": 76, \"Generation\": 1, \"Legendary\": false}, {\"#\": 32, \"Name\": \"Nidoran\\u2642\", \"Type 1\": \"Poison\", \"Total\": 273, \"HP\": 46, \"Attack\": 57, \"Defense\": 40, \"Sp. Atk\": 40, \"Sp. Def\": 40, \"Speed\": 50, \"Generation\": 1, \"Legendary\": false}, {\"#\": 33, \"Name\": \"Nidorino\", \"Type 1\": \"Poison\", \"Total\": 365, \"HP\": 61, \"Attack\": 72, \"Defense\": 57, \"Sp. Atk\": 55, \"Sp. Def\": 55, \"Speed\": 65, \"Generation\": 1, \"Legendary\": false}, {\"#\": 34, \"Name\": \"Nidoking\", \"Type 1\": \"Poison\", \"Total\": 505, \"HP\": 81, \"Attack\": 102, \"Defense\": 77, \"Sp. Atk\": 85, \"Sp. Def\": 75, \"Speed\": 85, \"Generation\": 1, \"Legendary\": false}, {\"#\": 35, \"Name\": \"Clefairy\", \"Type 1\": \"Fairy\", \"Total\": 323, \"HP\": 70, \"Attack\": 45, \"Defense\": 48, \"Sp. Atk\": 60, \"Sp. Def\": 65, \"Speed\": 35, \"Generation\": 1, \"Legendary\": false}, {\"#\": 36, \"Name\": \"Clefable\", \"Type 1\": \"Fairy\", \"Total\": 483, \"HP\": 95, \"Attack\": 70, \"Defense\": 73, \"Sp. Atk\": 95, \"Sp. Def\": 90, \"Speed\": 60, \"Generation\": 1, \"Legendary\": false}, {\"#\": 37, \"Name\": \"Vulpix\", \"Type 1\": \"Fire\", \"Total\": 299, \"HP\": 38, \"Attack\": 41, \"Defense\": 40, \"Sp. Atk\": 50, \"Sp. Def\": 65, \"Speed\": 65, \"Generation\": 1, \"Legendary\": false}, {\"#\": 38, \"Name\": \"Ninetales\", \"Type 1\": \"Fire\", \"Total\": 505, \"HP\": 73, \"Attack\": 76, \"Defense\": 75, \"Sp. Atk\": 81, \"Sp. Def\": 100, \"Speed\": 100, \"Generation\": 1, \"Legendary\": false}, {\"#\": 39, \"Name\": \"Jigglypuff\", \"Type 1\": \"Normal\", \"Total\": 270, \"HP\": 115, \"Attack\": 45, \"Defense\": 20, \"Sp. Atk\": 45, \"Sp. Def\": 25, \"Speed\": 20, \"Generation\": 1, \"Legendary\": false}, {\"#\": 40, \"Name\": \"Wigglytuff\", \"Type 1\": \"Normal\", \"Total\": 435, \"HP\": 140, \"Attack\": 70, \"Defense\": 45, \"Sp. Atk\": 85, \"Sp. Def\": 50, \"Speed\": 45, \"Generation\": 1, \"Legendary\": false}, {\"#\": 41, \"Name\": \"Zubat\", \"Type 1\": \"Poison\", \"Total\": 245, \"HP\": 40, \"Attack\": 45, \"Defense\": 35, \"Sp. Atk\": 30, \"Sp. Def\": 40, \"Speed\": 55, \"Generation\": 1, \"Legendary\": false}, {\"#\": 42, \"Name\": \"Golbat\", \"Type 1\": \"Poison\", \"Total\": 455, \"HP\": 75, \"Attack\": 80, \"Defense\": 70, \"Sp. Atk\": 65, \"Sp. Def\": 75, \"Speed\": 90, \"Generation\": 1, \"Legendary\": false}, {\"#\": 43, \"Name\": \"Oddish\", \"Type 1\": \"Grass\", \"Total\": 320, \"HP\": 45, \"Attack\": 50, \"Defense\": 55, \"Sp. Atk\": 75, \"Sp. Def\": 65, \"Speed\": 30, \"Generation\": 1, \"Legendary\": false}, {\"#\": 44, \"Name\": \"Gloom\", \"Type 1\": \"Grass\", \"Total\": 395, \"HP\": 60, \"Attack\": 65, \"Defense\": 70, \"Sp. Atk\": 85, \"Sp. Def\": 75, \"Speed\": 40, \"Generation\": 1, \"Legendary\": false}, {\"#\": 45, \"Name\": \"Vileplume\", \"Type 1\": \"Grass\", \"Total\": 490, \"HP\": 75, \"Attack\": 80, \"Defense\": 85, \"Sp. Atk\": 110, \"Sp. Def\": 90, \"Speed\": 50, \"Generation\": 1, \"Legendary\": false}, {\"#\": 46, \"Name\": \"Paras\", \"Type 1\": \"Bug\", \"Total\": 285, \"HP\": 35, \"Attack\": 70, \"Defense\": 55, \"Sp. Atk\": 45, \"Sp. Def\": 55, \"Speed\": 25, \"Generation\": 1, \"Legendary\": false}, {\"#\": 47, \"Name\": \"Parasect\", \"Type 1\": \"Bug\", \"Total\": 405, \"HP\": 60, \"Attack\": 95, \"Defense\": 80, \"Sp. Atk\": 60, \"Sp. Def\": 80, \"Speed\": 30, \"Generation\": 1, \"Legendary\": false}, {\"#\": 48, \"Name\": \"Venonat\", \"Type 1\": \"Bug\", \"Total\": 305, \"HP\": 60, \"Attack\": 55, \"Defense\": 50, \"Sp. Atk\": 40, \"Sp. Def\": 55, \"Speed\": 45, \"Generation\": 1, \"Legendary\": false}, {\"#\": 49, \"Name\": \"Venomoth\", \"Type 1\": \"Bug\", \"Total\": 450, \"HP\": 70, \"Attack\": 65, \"Defense\": 60, \"Sp. Atk\": 90, \"Sp. Def\": 75, \"Speed\": 90, \"Generation\": 1, \"Legendary\": false}, {\"#\": 50, \"Name\": \"Diglett\", \"Type 1\": \"Ground\", \"Total\": 265, \"HP\": 10, \"Attack\": 55, \"Defense\": 25, \"Sp. Atk\": 35, \"Sp. Def\": 45, \"Speed\": 95, \"Generation\": 1, \"Legendary\": false}, {\"#\": 51, \"Name\": \"Dugtrio\", \"Type 1\": \"Ground\", \"Total\": 405, \"HP\": 35, \"Attack\": 80, \"Defense\": 50, \"Sp. Atk\": 50, \"Sp. Def\": 70, \"Speed\": 120, \"Generation\": 1, \"Legendary\": false}, {\"#\": 52, \"Name\": \"Meowth\", \"Type 1\": \"Normal\", \"Total\": 290, \"HP\": 40, \"Attack\": 45, \"Defense\": 35, \"Sp. Atk\": 40, \"Sp. Def\": 40, \"Speed\": 90, \"Generation\": 1, \"Legendary\": false}, {\"#\": 53, \"Name\": \"Persian\", \"Type 1\": \"Normal\", \"Total\": 440, \"HP\": 65, \"Attack\": 70, \"Defense\": 60, \"Sp. Atk\": 65, \"Sp. Def\": 65, \"Speed\": 115, \"Generation\": 1, \"Legendary\": false}, {\"#\": 54, \"Name\": \"Psyduck\", \"Type 1\": \"Water\", \"Total\": 320, \"HP\": 50, \"Attack\": 52, \"Defense\": 48, \"Sp. Atk\": 65, \"Sp. Def\": 50, \"Speed\": 55, \"Generation\": 1, \"Legendary\": false}, {\"#\": 55, \"Name\": \"Golduck\", \"Type 1\": \"Water\", \"Total\": 500, \"HP\": 80, \"Attack\": 82, \"Defense\": 78, \"Sp. Atk\": 95, \"Sp. Def\": 80, \"Speed\": 85, \"Generation\": 1, \"Legendary\": false}, {\"#\": 56, \"Name\": \"Mankey\", \"Type 1\": \"Fighting\", \"Total\": 305, \"HP\": 40, \"Attack\": 80, \"Defense\": 35, \"Sp. Atk\": 35, \"Sp. Def\": 45, \"Speed\": 70, \"Generation\": 1, \"Legendary\": false}, {\"#\": 57, \"Name\": \"Primeape\", \"Type 1\": \"Fighting\", \"Total\": 455, \"HP\": 65, \"Attack\": 105, \"Defense\": 60, \"Sp. Atk\": 60, \"Sp. Def\": 70, \"Speed\": 95, \"Generation\": 1, \"Legendary\": false}, {\"#\": 58, \"Name\": \"Growlithe\", \"Type 1\": \"Fire\", \"Total\": 350, \"HP\": 55, \"Attack\": 70, \"Defense\": 45, \"Sp. Atk\": 70, \"Sp. Def\": 50, \"Speed\": 60, \"Generation\": 1, \"Legendary\": false}, {\"#\": 59, \"Name\": \"Arcanine\", \"Type 1\": \"Fire\", \"Total\": 555, \"HP\": 90, \"Attack\": 110, \"Defense\": 80, \"Sp. Atk\": 100, \"Sp. Def\": 80, \"Speed\": 95, \"Generation\": 1, \"Legendary\": false}, {\"#\": 60, \"Name\": \"Poliwag\", \"Type 1\": \"Water\", \"Total\": 300, \"HP\": 40, \"Attack\": 50, \"Defense\": 40, \"Sp. Atk\": 40, \"Sp. Def\": 40, \"Speed\": 90, \"Generation\": 1, \"Legendary\": false}, {\"#\": 61, \"Name\": \"Poliwhirl\", \"Type 1\": \"Water\", \"Total\": 385, \"HP\": 65, \"Attack\": 65, \"Defense\": 65, \"Sp. Atk\": 50, \"Sp. Def\": 50, \"Speed\": 90, \"Generation\": 1, \"Legendary\": false}, {\"#\": 62, \"Name\": \"Poliwrath\", \"Type 1\": \"Water\", \"Total\": 510, \"HP\": 90, \"Attack\": 95, \"Defense\": 95, \"Sp. Atk\": 70, \"Sp. Def\": 90, \"Speed\": 70, \"Generation\": 1, \"Legendary\": false}, {\"#\": 63, \"Name\": \"Abra\", \"Type 1\": \"Psychic\", \"Total\": 310, \"HP\": 25, \"Attack\": 20, \"Defense\": 15, \"Sp. Atk\": 105, \"Sp. Def\": 55, \"Speed\": 90, \"Generation\": 1, \"Legendary\": false}, {\"#\": 64, \"Name\": \"Kadabra\", \"Type 1\": \"Psychic\", \"Total\": 400, \"HP\": 40, \"Attack\": 35, \"Defense\": 30, \"Sp. Atk\": 120, \"Sp. Def\": 70, \"Speed\": 105, \"Generation\": 1, \"Legendary\": false}, {\"#\": 65, \"Name\": \"Alakazam\", \"Type 1\": \"Psychic\", \"Total\": 500, \"HP\": 55, \"Attack\": 50, \"Defense\": 45, \"Sp. Atk\": 135, \"Sp. Def\": 95, \"Speed\": 120, \"Generation\": 1, \"Legendary\": false}, {\"#\": 65, \"Name\": \"AlakazamMega Alakazam\", \"Type 1\": \"Psychic\", \"Total\": 590, \"HP\": 55, \"Attack\": 50, \"Defense\": 65, \"Sp. Atk\": 175, \"Sp. Def\": 95, \"Speed\": 150, \"Generation\": 1, \"Legendary\": false}, {\"#\": 66, \"Name\": \"Machop\", \"Type 1\": \"Fighting\", \"Total\": 305, \"HP\": 70, \"Attack\": 80, \"Defense\": 50, \"Sp. Atk\": 35, \"Sp. Def\": 35, \"Speed\": 35, \"Generation\": 1, \"Legendary\": false}, {\"#\": 67, \"Name\": \"Machoke\", \"Type 1\": \"Fighting\", \"Total\": 405, \"HP\": 80, \"Attack\": 100, \"Defense\": 70, \"Sp. Atk\": 50, \"Sp. Def\": 60, \"Speed\": 45, \"Generation\": 1, \"Legendary\": false}, {\"#\": 68, \"Name\": \"Machamp\", \"Type 1\": \"Fighting\", \"Total\": 505, \"HP\": 90, \"Attack\": 130, \"Defense\": 80, \"Sp. Atk\": 65, \"Sp. Def\": 85, \"Speed\": 55, \"Generation\": 1, \"Legendary\": false}, {\"#\": 69, \"Name\": \"Bellsprout\", \"Type 1\": \"Grass\", \"Total\": 300, \"HP\": 50, \"Attack\": 75, \"Defense\": 35, \"Sp. Atk\": 70, \"Sp. Def\": 30, \"Speed\": 40, \"Generation\": 1, \"Legendary\": false}, {\"#\": 70, \"Name\": \"Weepinbell\", \"Type 1\": \"Grass\", \"Total\": 390, \"HP\": 65, \"Attack\": 90, \"Defense\": 50, \"Sp. Atk\": 85, \"Sp. Def\": 45, \"Speed\": 55, \"Generation\": 1, \"Legendary\": false}, {\"#\": 71, \"Name\": \"Victreebel\", \"Type 1\": \"Grass\", \"Total\": 490, \"HP\": 80, \"Attack\": 105, \"Defense\": 65, \"Sp. Atk\": 100, \"Sp. Def\": 70, \"Speed\": 70, \"Generation\": 1, \"Legendary\": false}, {\"#\": 72, \"Name\": \"Tentacool\", \"Type 1\": \"Water\", \"Total\": 335, \"HP\": 40, \"Attack\": 40, \"Defense\": 35, \"Sp. Atk\": 50, \"Sp. Def\": 100, \"Speed\": 70, \"Generation\": 1, \"Legendary\": false}, {\"#\": 73, \"Name\": \"Tentacruel\", \"Type 1\": \"Water\", \"Total\": 515, \"HP\": 80, \"Attack\": 70, \"Defense\": 65, \"Sp. Atk\": 80, \"Sp. Def\": 120, \"Speed\": 100, \"Generation\": 1, \"Legendary\": false}, {\"#\": 74, \"Name\": \"Geodude\", \"Type 1\": \"Rock\", \"Total\": 300, \"HP\": 40, \"Attack\": 80, \"Defense\": 100, \"Sp. Atk\": 30, \"Sp. Def\": 30, \"Speed\": 20, \"Generation\": 1, \"Legendary\": false}, {\"#\": 75, \"Name\": \"Graveler\", \"Type 1\": \"Rock\", \"Total\": 390, \"HP\": 55, \"Attack\": 95, \"Defense\": 115, \"Sp. Atk\": 45, \"Sp. Def\": 45, \"Speed\": 35, \"Generation\": 1, \"Legendary\": false}, {\"#\": 76, \"Name\": \"Golem\", \"Type 1\": \"Rock\", \"Total\": 495, \"HP\": 80, \"Attack\": 120, \"Defense\": 130, \"Sp. Atk\": 55, \"Sp. Def\": 65, \"Speed\": 45, \"Generation\": 1, \"Legendary\": false}, {\"#\": 77, \"Name\": \"Ponyta\", \"Type 1\": \"Fire\", \"Total\": 410, \"HP\": 50, \"Attack\": 85, \"Defense\": 55, \"Sp. Atk\": 65, \"Sp. Def\": 65, \"Speed\": 90, \"Generation\": 1, \"Legendary\": false}, {\"#\": 78, \"Name\": \"Rapidash\", \"Type 1\": \"Fire\", \"Total\": 500, \"HP\": 65, \"Attack\": 100, \"Defense\": 70, \"Sp. Atk\": 80, \"Sp. Def\": 80, \"Speed\": 105, \"Generation\": 1, \"Legendary\": false}, {\"#\": 79, \"Name\": \"Slowpoke\", \"Type 1\": \"Water\", \"Total\": 315, \"HP\": 90, \"Attack\": 65, \"Defense\": 65, \"Sp. Atk\": 40, \"Sp. Def\": 40, \"Speed\": 15, \"Generation\": 1, \"Legendary\": false}, {\"#\": 80, \"Name\": \"Slowbro\", \"Type 1\": \"Water\", \"Total\": 490, \"HP\": 95, \"Attack\": 75, \"Defense\": 110, \"Sp. Atk\": 100, \"Sp. Def\": 80, \"Speed\": 30, \"Generation\": 1, \"Legendary\": false}, {\"#\": 80, \"Name\": \"SlowbroMega Slowbro\", \"Type 1\": \"Water\", \"Total\": 590, \"HP\": 95, \"Attack\": 75, \"Defense\": 180, \"Sp. Atk\": 130, \"Sp. Def\": 80, \"Speed\": 30, \"Generation\": 1, \"Legendary\": false}, {\"#\": 81, \"Name\": \"Magnemite\", \"Type 1\": \"Electric\", \"Total\": 325, \"HP\": 25, \"Attack\": 35, \"Defense\": 70, \"Sp. Atk\": 95, \"Sp. Def\": 55, \"Speed\": 45, \"Generation\": 1, \"Legendary\": false}, {\"#\": 82, \"Name\": \"Magneton\", \"Type 1\": \"Electric\", \"Total\": 465, \"HP\": 50, \"Attack\": 60, \"Defense\": 95, \"Sp. Atk\": 120, \"Sp. Def\": 70, \"Speed\": 70, \"Generation\": 1, \"Legendary\": false}, {\"#\": 83, \"Name\": \"Farfetch'd\", \"Type 1\": \"Normal\", \"Total\": 352, \"HP\": 52, \"Attack\": 65, \"Defense\": 55, \"Sp. Atk\": 58, \"Sp. Def\": 62, \"Speed\": 60, \"Generation\": 1, \"Legendary\": false}, {\"#\": 84, \"Name\": \"Doduo\", \"Type 1\": \"Normal\", \"Total\": 310, \"HP\": 35, \"Attack\": 85, \"Defense\": 45, \"Sp. Atk\": 35, \"Sp. Def\": 35, \"Speed\": 75, \"Generation\": 1, \"Legendary\": false}, {\"#\": 85, \"Name\": \"Dodrio\", \"Type 1\": \"Normal\", \"Total\": 460, \"HP\": 60, \"Attack\": 110, \"Defense\": 70, \"Sp. Atk\": 60, \"Sp. Def\": 60, \"Speed\": 100, \"Generation\": 1, \"Legendary\": false}, {\"#\": 86, \"Name\": \"Seel\", \"Type 1\": \"Water\", \"Total\": 325, \"HP\": 65, \"Attack\": 45, \"Defense\": 55, \"Sp. Atk\": 45, \"Sp. Def\": 70, \"Speed\": 45, \"Generation\": 1, \"Legendary\": false}, {\"#\": 87, \"Name\": \"Dewgong\", \"Type 1\": \"Water\", \"Total\": 475, \"HP\": 90, \"Attack\": 70, \"Defense\": 80, \"Sp. Atk\": 70, \"Sp. Def\": 95, \"Speed\": 70, \"Generation\": 1, \"Legendary\": false}, {\"#\": 88, \"Name\": \"Grimer\", \"Type 1\": \"Poison\", \"Total\": 325, \"HP\": 80, \"Attack\": 80, \"Defense\": 50, \"Sp. Atk\": 40, \"Sp. Def\": 50, \"Speed\": 25, \"Generation\": 1, \"Legendary\": false}, {\"#\": 89, \"Name\": \"Muk\", \"Type 1\": \"Poison\", \"Total\": 500, \"HP\": 105, \"Attack\": 105, \"Defense\": 75, \"Sp. Atk\": 65, \"Sp. Def\": 100, \"Speed\": 50, \"Generation\": 1, \"Legendary\": false}, {\"#\": 90, \"Name\": \"Shellder\", \"Type 1\": \"Water\", \"Total\": 305, \"HP\": 30, \"Attack\": 65, \"Defense\": 100, \"Sp. Atk\": 45, \"Sp. Def\": 25, \"Speed\": 40, \"Generation\": 1, \"Legendary\": false}, {\"#\": 91, \"Name\": \"Cloyster\", \"Type 1\": \"Water\", \"Total\": 525, \"HP\": 50, \"Attack\": 95, \"Defense\": 180, \"Sp. Atk\": 85, \"Sp. Def\": 45, \"Speed\": 70, \"Generation\": 1, \"Legendary\": false}, {\"#\": 92, \"Name\": \"Gastly\", \"Type 1\": \"Ghost\", \"Total\": 310, \"HP\": 30, \"Attack\": 35, \"Defense\": 30, \"Sp. Atk\": 100, \"Sp. Def\": 35, \"Speed\": 80, \"Generation\": 1, \"Legendary\": false}, {\"#\": 93, \"Name\": \"Haunter\", \"Type 1\": \"Ghost\", \"Total\": 405, \"HP\": 45, \"Attack\": 50, \"Defense\": 45, \"Sp. Atk\": 115, \"Sp. Def\": 55, \"Speed\": 95, \"Generation\": 1, \"Legendary\": false}, {\"#\": 94, \"Name\": \"Gengar\", \"Type 1\": \"Ghost\", \"Total\": 500, \"HP\": 60, \"Attack\": 65, \"Defense\": 60, \"Sp. Atk\": 130, \"Sp. Def\": 75, \"Speed\": 110, \"Generation\": 1, \"Legendary\": false}, {\"#\": 94, \"Name\": \"GengarMega Gengar\", \"Type 1\": \"Ghost\", \"Total\": 600, \"HP\": 60, \"Attack\": 65, \"Defense\": 80, \"Sp. Atk\": 170, \"Sp. Def\": 95, \"Speed\": 130, \"Generation\": 1, \"Legendary\": false}, {\"#\": 95, \"Name\": \"Onix\", \"Type 1\": \"Rock\", \"Total\": 385, \"HP\": 35, \"Attack\": 45, \"Defense\": 160, \"Sp. Atk\": 30, \"Sp. Def\": 45, \"Speed\": 70, \"Generation\": 1, \"Legendary\": false}, {\"#\": 96, \"Name\": \"Drowzee\", \"Type 1\": \"Psychic\", \"Total\": 328, \"HP\": 60, \"Attack\": 48, \"Defense\": 45, \"Sp. Atk\": 43, \"Sp. Def\": 90, \"Speed\": 42, \"Generation\": 1, \"Legendary\": false}, {\"#\": 97, \"Name\": \"Hypno\", \"Type 1\": \"Psychic\", \"Total\": 483, \"HP\": 85, \"Attack\": 73, \"Defense\": 70, \"Sp. Atk\": 73, \"Sp. Def\": 115, \"Speed\": 67, \"Generation\": 1, \"Legendary\": false}, {\"#\": 98, \"Name\": \"Krabby\", \"Type 1\": \"Water\", \"Total\": 325, \"HP\": 30, \"Attack\": 105, \"Defense\": 90, \"Sp. Atk\": 25, \"Sp. Def\": 25, \"Speed\": 50, \"Generation\": 1, \"Legendary\": false}, {\"#\": 99, \"Name\": \"Kingler\", \"Type 1\": \"Water\", \"Total\": 475, \"HP\": 55, \"Attack\": 130, \"Defense\": 115, \"Sp. Atk\": 50, \"Sp. Def\": 50, \"Speed\": 75, \"Generation\": 1, \"Legendary\": false}, {\"#\": 100, \"Name\": \"Voltorb\", \"Type 1\": \"Electric\", \"Total\": 330, \"HP\": 40, \"Attack\": 30, \"Defense\": 50, \"Sp. Atk\": 55, \"Sp. Def\": 55, \"Speed\": 100, \"Generation\": 1, \"Legendary\": false}, {\"#\": 101, \"Name\": \"Electrode\", \"Type 1\": \"Electric\", \"Total\": 480, \"HP\": 60, \"Attack\": 50, \"Defense\": 70, \"Sp. Atk\": 80, \"Sp. Def\": 80, \"Speed\": 140, \"Generation\": 1, \"Legendary\": false}, {\"#\": 102, \"Name\": \"Exeggcute\", \"Type 1\": \"Grass\", \"Total\": 325, \"HP\": 60, \"Attack\": 40, \"Defense\": 80, \"Sp. Atk\": 60, \"Sp. Def\": 45, \"Speed\": 40, \"Generation\": 1, \"Legendary\": false}, {\"#\": 103, \"Name\": \"Exeggutor\", \"Type 1\": \"Grass\", \"Total\": 520, \"HP\": 95, \"Attack\": 95, \"Defense\": 85, \"Sp. Atk\": 125, \"Sp. Def\": 65, \"Speed\": 55, \"Generation\": 1, \"Legendary\": false}, {\"#\": 104, \"Name\": \"Cubone\", \"Type 1\": \"Ground\", \"Total\": 320, \"HP\": 50, \"Attack\": 50, \"Defense\": 95, \"Sp. Atk\": 40, \"Sp. Def\": 50, \"Speed\": 35, \"Generation\": 1, \"Legendary\": false}, {\"#\": 105, \"Name\": \"Marowak\", \"Type 1\": \"Ground\", \"Total\": 425, \"HP\": 60, \"Attack\": 80, \"Defense\": 110, \"Sp. Atk\": 50, \"Sp. Def\": 80, \"Speed\": 45, \"Generation\": 1, \"Legendary\": false}, {\"#\": 106, \"Name\": \"Hitmonlee\", \"Type 1\": \"Fighting\", \"Total\": 455, \"HP\": 50, \"Attack\": 120, \"Defense\": 53, \"Sp. Atk\": 35, \"Sp. Def\": 110, \"Speed\": 87, \"Generation\": 1, \"Legendary\": false}, {\"#\": 107, \"Name\": \"Hitmonchan\", \"Type 1\": \"Fighting\", \"Total\": 455, \"HP\": 50, \"Attack\": 105, \"Defense\": 79, \"Sp. Atk\": 35, \"Sp. Def\": 110, \"Speed\": 76, \"Generation\": 1, \"Legendary\": false}, {\"#\": 108, \"Name\": \"Lickitung\", \"Type 1\": \"Normal\", \"Total\": 385, \"HP\": 90, \"Attack\": 55, \"Defense\": 75, \"Sp. Atk\": 60, \"Sp. Def\": 75, \"Speed\": 30, \"Generation\": 1, \"Legendary\": false}, {\"#\": 109, \"Name\": \"Koffing\", \"Type 1\": \"Poison\", \"Total\": 340, \"HP\": 40, \"Attack\": 65, \"Defense\": 95, \"Sp. Atk\": 60, \"Sp. Def\": 45, \"Speed\": 35, \"Generation\": 1, \"Legendary\": false}, {\"#\": 110, \"Name\": \"Weezing\", \"Type 1\": \"Poison\", \"Total\": 490, \"HP\": 65, \"Attack\": 90, \"Defense\": 120, \"Sp. Atk\": 85, \"Sp. Def\": 70, \"Speed\": 60, \"Generation\": 1, \"Legendary\": false}, {\"#\": 111, \"Name\": \"Rhyhorn\", \"Type 1\": \"Ground\", \"Total\": 345, \"HP\": 80, \"Attack\": 85, \"Defense\": 95, \"Sp. Atk\": 30, \"Sp. Def\": 30, \"Speed\": 25, \"Generation\": 1, \"Legendary\": false}, {\"#\": 112, \"Name\": \"Rhydon\", \"Type 1\": \"Ground\", \"Total\": 485, \"HP\": 105, \"Attack\": 130, \"Defense\": 120, \"Sp. Atk\": 45, \"Sp. Def\": 45, \"Speed\": 40, \"Generation\": 1, \"Legendary\": false}, {\"#\": 113, \"Name\": \"Chansey\", \"Type 1\": \"Normal\", \"Total\": 450, \"HP\": 250, \"Attack\": 5, \"Defense\": 5, \"Sp. Atk\": 35, \"Sp. Def\": 105, \"Speed\": 50, \"Generation\": 1, \"Legendary\": false}, {\"#\": 114, \"Name\": \"Tangela\", \"Type 1\": \"Grass\", \"Total\": 435, \"HP\": 65, \"Attack\": 55, \"Defense\": 115, \"Sp. Atk\": 100, \"Sp. Def\": 40, \"Speed\": 60, \"Generation\": 1, \"Legendary\": false}, {\"#\": 115, \"Name\": \"Kangaskhan\", \"Type 1\": \"Normal\", \"Total\": 490, \"HP\": 105, \"Attack\": 95, \"Defense\": 80, \"Sp. Atk\": 40, \"Sp. Def\": 80, \"Speed\": 90, \"Generation\": 1, \"Legendary\": false}, {\"#\": 115, \"Name\": \"KangaskhanMega Kangaskhan\", \"Type 1\": \"Normal\", \"Total\": 590, \"HP\": 105, \"Attack\": 125, \"Defense\": 100, \"Sp. Atk\": 60, \"Sp. Def\": 100, \"Speed\": 100, \"Generation\": 1, \"Legendary\": false}, {\"#\": 116, \"Name\": \"Horsea\", \"Type 1\": \"Water\", \"Total\": 295, \"HP\": 30, \"Attack\": 40, \"Defense\": 70, \"Sp. Atk\": 70, \"Sp. Def\": 25, \"Speed\": 60, \"Generation\": 1, \"Legendary\": false}, {\"#\": 117, \"Name\": \"Seadra\", \"Type 1\": \"Water\", \"Total\": 440, \"HP\": 55, \"Attack\": 65, \"Defense\": 95, \"Sp. Atk\": 95, \"Sp. Def\": 45, \"Speed\": 85, \"Generation\": 1, \"Legendary\": false}, {\"#\": 118, \"Name\": \"Goldeen\", \"Type 1\": \"Water\", \"Total\": 320, \"HP\": 45, \"Attack\": 67, \"Defense\": 60, \"Sp. Atk\": 35, \"Sp. Def\": 50, \"Speed\": 63, \"Generation\": 1, \"Legendary\": false}, {\"#\": 119, \"Name\": \"Seaking\", \"Type 1\": \"Water\", \"Total\": 450, \"HP\": 80, \"Attack\": 92, \"Defense\": 65, \"Sp. Atk\": 65, \"Sp. Def\": 80, \"Speed\": 68, \"Generation\": 1, \"Legendary\": false}, {\"#\": 120, \"Name\": \"Staryu\", \"Type 1\": \"Water\", \"Total\": 340, \"HP\": 30, \"Attack\": 45, \"Defense\": 55, \"Sp. Atk\": 70, \"Sp. Def\": 55, \"Speed\": 85, \"Generation\": 1, \"Legendary\": false}, {\"#\": 121, \"Name\": \"Starmie\", \"Type 1\": \"Water\", \"Total\": 520, \"HP\": 60, \"Attack\": 75, \"Defense\": 85, \"Sp. Atk\": 100, \"Sp. Def\": 85, \"Speed\": 115, \"Generation\": 1, \"Legendary\": false}, {\"#\": 122, \"Name\": \"Mr. Mime\", \"Type 1\": \"Psychic\", \"Total\": 460, \"HP\": 40, \"Attack\": 45, \"Defense\": 65, \"Sp. Atk\": 100, \"Sp. Def\": 120, \"Speed\": 90, \"Generation\": 1, \"Legendary\": false}, {\"#\": 123, \"Name\": \"Scyther\", \"Type 1\": \"Bug\", \"Total\": 500, \"HP\": 70, \"Attack\": 110, \"Defense\": 80, \"Sp. Atk\": 55, \"Sp. Def\": 80, \"Speed\": 105, \"Generation\": 1, \"Legendary\": false}, {\"#\": 124, \"Name\": \"Jynx\", \"Type 1\": \"Ice\", \"Total\": 455, \"HP\": 65, \"Attack\": 50, \"Defense\": 35, \"Sp. Atk\": 115, \"Sp. Def\": 95, \"Speed\": 95, \"Generation\": 1, \"Legendary\": false}, {\"#\": 125, \"Name\": \"Electabuzz\", \"Type 1\": \"Electric\", \"Total\": 490, \"HP\": 65, \"Attack\": 83, \"Defense\": 57, \"Sp. Atk\": 95, \"Sp. Def\": 85, \"Speed\": 105, \"Generation\": 1, \"Legendary\": false}, {\"#\": 126, \"Name\": \"Magmar\", \"Type 1\": \"Fire\", \"Total\": 495, \"HP\": 65, \"Attack\": 95, \"Defense\": 57, \"Sp. Atk\": 100, \"Sp. Def\": 85, \"Speed\": 93, \"Generation\": 1, \"Legendary\": false}, {\"#\": 127, \"Name\": \"Pinsir\", \"Type 1\": \"Bug\", \"Total\": 500, \"HP\": 65, \"Attack\": 125, \"Defense\": 100, \"Sp. Atk\": 55, \"Sp. Def\": 70, \"Speed\": 85, \"Generation\": 1, \"Legendary\": false}, {\"#\": 127, \"Name\": \"PinsirMega Pinsir\", \"Type 1\": \"Bug\", \"Total\": 600, \"HP\": 65, \"Attack\": 155, \"Defense\": 120, \"Sp. Atk\": 65, \"Sp. Def\": 90, \"Speed\": 105, \"Generation\": 1, \"Legendary\": false}, {\"#\": 128, \"Name\": \"Tauros\", \"Type 1\": \"Normal\", \"Total\": 490, \"HP\": 75, \"Attack\": 100, \"Defense\": 95, \"Sp. Atk\": 40, \"Sp. Def\": 70, \"Speed\": 110, \"Generation\": 1, \"Legendary\": false}, {\"#\": 129, \"Name\": \"Magikarp\", \"Type 1\": \"Water\", \"Total\": 200, \"HP\": 20, \"Attack\": 10, \"Defense\": 55, \"Sp. Atk\": 15, \"Sp. Def\": 20, \"Speed\": 80, \"Generation\": 1, \"Legendary\": false}, {\"#\": 130, \"Name\": \"Gyarados\", \"Type 1\": \"Water\", \"Total\": 540, \"HP\": 95, \"Attack\": 125, \"Defense\": 79, \"Sp. Atk\": 60, \"Sp. Def\": 100, \"Speed\": 81, \"Generation\": 1, \"Legendary\": false}, {\"#\": 130, \"Name\": \"GyaradosMega Gyarados\", \"Type 1\": \"Water\", \"Total\": 640, \"HP\": 95, \"Attack\": 155, \"Defense\": 109, \"Sp. Atk\": 70, \"Sp. Def\": 130, \"Speed\": 81, \"Generation\": 1, \"Legendary\": false}, {\"#\": 131, \"Name\": \"Lapras\", \"Type 1\": \"Water\", \"Total\": 535, \"HP\": 130, \"Attack\": 85, \"Defense\": 80, \"Sp. Atk\": 85, \"Sp. Def\": 95, \"Speed\": 60, \"Generation\": 1, \"Legendary\": false}, {\"#\": 132, \"Name\": \"Ditto\", \"Type 1\": \"Normal\", \"Total\": 288, \"HP\": 48, \"Attack\": 48, \"Defense\": 48, \"Sp. Atk\": 48, \"Sp. Def\": 48, \"Speed\": 48, \"Generation\": 1, \"Legendary\": false}, {\"#\": 133, \"Name\": \"Eevee\", \"Type 1\": \"Normal\", \"Total\": 325, \"HP\": 55, \"Attack\": 55, \"Defense\": 50, \"Sp. Atk\": 45, \"Sp. Def\": 65, \"Speed\": 55, \"Generation\": 1, \"Legendary\": false}, {\"#\": 134, \"Name\": \"Vaporeon\", \"Type 1\": \"Water\", \"Total\": 525, \"HP\": 130, \"Attack\": 65, \"Defense\": 60, \"Sp. Atk\": 110, \"Sp. Def\": 95, \"Speed\": 65, \"Generation\": 1, \"Legendary\": false}, {\"#\": 135, \"Name\": \"Jolteon\", \"Type 1\": \"Electric\", \"Total\": 525, \"HP\": 65, \"Attack\": 65, \"Defense\": 60, \"Sp. Atk\": 110, \"Sp. Def\": 95, \"Speed\": 130, \"Generation\": 1, \"Legendary\": false}, {\"#\": 136, \"Name\": \"Flareon\", \"Type 1\": \"Fire\", \"Total\": 525, \"HP\": 65, \"Attack\": 130, \"Defense\": 60, \"Sp. Atk\": 95, \"Sp. Def\": 110, \"Speed\": 65, \"Generation\": 1, \"Legendary\": false}, {\"#\": 137, \"Name\": \"Porygon\", \"Type 1\": \"Normal\", \"Total\": 395, \"HP\": 65, \"Attack\": 60, \"Defense\": 70, \"Sp. Atk\": 85, \"Sp. Def\": 75, \"Speed\": 40, \"Generation\": 1, \"Legendary\": false}, {\"#\": 138, \"Name\": \"Omanyte\", \"Type 1\": \"Rock\", \"Total\": 355, \"HP\": 35, \"Attack\": 40, \"Defense\": 100, \"Sp. Atk\": 90, \"Sp. Def\": 55, \"Speed\": 35, \"Generation\": 1, \"Legendary\": false}, {\"#\": 139, \"Name\": \"Omastar\", \"Type 1\": \"Rock\", \"Total\": 495, \"HP\": 70, \"Attack\": 60, \"Defense\": 125, \"Sp. Atk\": 115, \"Sp. Def\": 70, \"Speed\": 55, \"Generation\": 1, \"Legendary\": false}, {\"#\": 140, \"Name\": \"Kabuto\", \"Type 1\": \"Rock\", \"Total\": 355, \"HP\": 30, \"Attack\": 80, \"Defense\": 90, \"Sp. Atk\": 55, \"Sp. Def\": 45, \"Speed\": 55, \"Generation\": 1, \"Legendary\": false}, {\"#\": 141, \"Name\": \"Kabutops\", \"Type 1\": \"Rock\", \"Total\": 495, \"HP\": 60, \"Attack\": 115, \"Defense\": 105, \"Sp. Atk\": 65, \"Sp. Def\": 70, \"Speed\": 80, \"Generation\": 1, \"Legendary\": false}, {\"#\": 142, \"Name\": \"Aerodactyl\", \"Type 1\": \"Rock\", \"Total\": 515, \"HP\": 80, \"Attack\": 105, \"Defense\": 65, \"Sp. Atk\": 60, \"Sp. Def\": 75, \"Speed\": 130, \"Generation\": 1, \"Legendary\": false}, {\"#\": 142, \"Name\": \"AerodactylMega Aerodactyl\", \"Type 1\": \"Rock\", \"Total\": 615, \"HP\": 80, \"Attack\": 135, \"Defense\": 85, \"Sp. Atk\": 70, \"Sp. Def\": 95, \"Speed\": 150, \"Generation\": 1, \"Legendary\": false}, {\"#\": 143, \"Name\": \"Snorlax\", \"Type 1\": \"Normal\", \"Total\": 540, \"HP\": 160, \"Attack\": 110, \"Defense\": 65, \"Sp. Atk\": 65, \"Sp. Def\": 110, \"Speed\": 30, \"Generation\": 1, \"Legendary\": false}, {\"#\": 144, \"Name\": \"Articuno\", \"Type 1\": \"Ice\", \"Total\": 580, \"HP\": 90, \"Attack\": 85, \"Defense\": 100, \"Sp. Atk\": 95, \"Sp. Def\": 125, \"Speed\": 85, \"Generation\": 1, \"Legendary\": true}, {\"#\": 145, \"Name\": \"Zapdos\", \"Type 1\": \"Electric\", \"Total\": 580, \"HP\": 90, \"Attack\": 90, \"Defense\": 85, \"Sp. Atk\": 125, \"Sp. Def\": 90, \"Speed\": 100, \"Generation\": 1, \"Legendary\": true}, {\"#\": 146, \"Name\": \"Moltres\", \"Type 1\": \"Fire\", \"Total\": 580, \"HP\": 90, \"Attack\": 100, \"Defense\": 90, \"Sp. Atk\": 125, \"Sp. Def\": 85, \"Speed\": 90, \"Generation\": 1, \"Legendary\": true}, {\"#\": 147, \"Name\": \"Dratini\", \"Type 1\": \"Dragon\", \"Total\": 300, \"HP\": 41, \"Attack\": 64, \"Defense\": 45, \"Sp. Atk\": 50, \"Sp. Def\": 50, \"Speed\": 50, \"Generation\": 1, \"Legendary\": false}, {\"#\": 148, \"Name\": \"Dragonair\", \"Type 1\": \"Dragon\", \"Total\": 420, \"HP\": 61, \"Attack\": 84, \"Defense\": 65, \"Sp. Atk\": 70, \"Sp. Def\": 70, \"Speed\": 70, \"Generation\": 1, \"Legendary\": false}, {\"#\": 149, \"Name\": \"Dragonite\", \"Type 1\": \"Dragon\", \"Total\": 600, \"HP\": 91, \"Attack\": 134, \"Defense\": 95, \"Sp. Atk\": 100, \"Sp. Def\": 100, \"Speed\": 80, \"Generation\": 1, \"Legendary\": false}, {\"#\": 150, \"Name\": \"Mewtwo\", \"Type 1\": \"Psychic\", \"Total\": 680, \"HP\": 106, \"Attack\": 110, \"Defense\": 90, \"Sp. Atk\": 154, \"Sp. Def\": 90, \"Speed\": 130, \"Generation\": 1, \"Legendary\": true}, {\"#\": 150, \"Name\": \"MewtwoMega Mewtwo X\", \"Type 1\": \"Psychic\", \"Total\": 780, \"HP\": 106, \"Attack\": 190, \"Defense\": 100, \"Sp. Atk\": 154, \"Sp. Def\": 100, \"Speed\": 130, \"Generation\": 1, \"Legendary\": true}, {\"#\": 150, \"Name\": \"MewtwoMega Mewtwo Y\", \"Type 1\": \"Psychic\", \"Total\": 780, \"HP\": 106, \"Attack\": 150, \"Defense\": 70, \"Sp. Atk\": 194, \"Sp. Def\": 120, \"Speed\": 140, \"Generation\": 1, \"Legendary\": true}, {\"#\": 151, \"Name\": \"Mew\", \"Type 1\": \"Psychic\", \"Total\": 600, \"HP\": 100, \"Attack\": 100, \"Defense\": 100, \"Sp. Atk\": 100, \"Sp. Def\": 100, \"Speed\": 100, \"Generation\": 1, \"Legendary\": false}, {\"#\": 152, \"Name\": \"Chikorita\", \"Type 1\": \"Grass\", \"Total\": 318, \"HP\": 45, \"Attack\": 49, \"Defense\": 65, \"Sp. Atk\": 49, \"Sp. Def\": 65, \"Speed\": 45, \"Generation\": 2, \"Legendary\": false}, {\"#\": 153, \"Name\": \"Bayleef\", \"Type 1\": \"Grass\", \"Total\": 405, \"HP\": 60, \"Attack\": 62, \"Defense\": 80, \"Sp. Atk\": 63, \"Sp. Def\": 80, \"Speed\": 60, \"Generation\": 2, \"Legendary\": false}, {\"#\": 154, \"Name\": \"Meganium\", \"Type 1\": \"Grass\", \"Total\": 525, \"HP\": 80, \"Attack\": 82, \"Defense\": 100, \"Sp. Atk\": 83, \"Sp. Def\": 100, \"Speed\": 80, \"Generation\": 2, \"Legendary\": false}, {\"#\": 155, \"Name\": \"Cyndaquil\", \"Type 1\": \"Fire\", \"Total\": 309, \"HP\": 39, \"Attack\": 52, \"Defense\": 43, \"Sp. Atk\": 60, \"Sp. Def\": 50, \"Speed\": 65, \"Generation\": 2, \"Legendary\": false}, {\"#\": 156, \"Name\": \"Quilava\", \"Type 1\": \"Fire\", \"Total\": 405, \"HP\": 58, \"Attack\": 64, \"Defense\": 58, \"Sp. Atk\": 80, \"Sp. Def\": 65, \"Speed\": 80, \"Generation\": 2, \"Legendary\": false}, {\"#\": 157, \"Name\": \"Typhlosion\", \"Type 1\": \"Fire\", \"Total\": 534, \"HP\": 78, \"Attack\": 84, \"Defense\": 78, \"Sp. Atk\": 109, \"Sp. Def\": 85, \"Speed\": 100, \"Generation\": 2, \"Legendary\": false}, {\"#\": 158, \"Name\": \"Totodile\", \"Type 1\": \"Water\", \"Total\": 314, \"HP\": 50, \"Attack\": 65, \"Defense\": 64, \"Sp. Atk\": 44, \"Sp. Def\": 48, \"Speed\": 43, \"Generation\": 2, \"Legendary\": false}, {\"#\": 159, \"Name\": \"Croconaw\", \"Type 1\": \"Water\", \"Total\": 405, \"HP\": 65, \"Attack\": 80, \"Defense\": 80, \"Sp. Atk\": 59, \"Sp. Def\": 63, \"Speed\": 58, \"Generation\": 2, \"Legendary\": false}, {\"#\": 160, \"Name\": \"Feraligatr\", \"Type 1\": \"Water\", \"Total\": 530, \"HP\": 85, \"Attack\": 105, \"Defense\": 100, \"Sp. Atk\": 79, \"Sp. Def\": 83, \"Speed\": 78, \"Generation\": 2, \"Legendary\": false}, {\"#\": 161, \"Name\": \"Sentret\", \"Type 1\": \"Normal\", \"Total\": 215, \"HP\": 35, \"Attack\": 46, \"Defense\": 34, \"Sp. Atk\": 35, \"Sp. Def\": 45, \"Speed\": 20, \"Generation\": 2, \"Legendary\": false}, {\"#\": 162, \"Name\": \"Furret\", \"Type 1\": \"Normal\", \"Total\": 415, \"HP\": 85, \"Attack\": 76, \"Defense\": 64, \"Sp. Atk\": 45, \"Sp. Def\": 55, \"Speed\": 90, \"Generation\": 2, \"Legendary\": false}, {\"#\": 163, \"Name\": \"Hoothoot\", \"Type 1\": \"Normal\", \"Total\": 262, \"HP\": 60, \"Attack\": 30, \"Defense\": 30, \"Sp. Atk\": 36, \"Sp. Def\": 56, \"Speed\": 50, \"Generation\": 2, \"Legendary\": false}, {\"#\": 164, \"Name\": \"Noctowl\", \"Type 1\": \"Normal\", \"Total\": 442, \"HP\": 100, \"Attack\": 50, \"Defense\": 50, \"Sp. Atk\": 76, \"Sp. Def\": 96, \"Speed\": 70, \"Generation\": 2, \"Legendary\": false}, {\"#\": 165, \"Name\": \"Ledyba\", \"Type 1\": \"Bug\", \"Total\": 265, \"HP\": 40, \"Attack\": 20, \"Defense\": 30, \"Sp. Atk\": 40, \"Sp. Def\": 80, \"Speed\": 55, \"Generation\": 2, \"Legendary\": false}, {\"#\": 166, \"Name\": \"Ledian\", \"Type 1\": \"Bug\", \"Total\": 390, \"HP\": 55, \"Attack\": 35, \"Defense\": 50, \"Sp. Atk\": 55, \"Sp. Def\": 110, \"Speed\": 85, \"Generation\": 2, \"Legendary\": false}, {\"#\": 167, \"Name\": \"Spinarak\", \"Type 1\": \"Bug\", \"Total\": 250, \"HP\": 40, \"Attack\": 60, \"Defense\": 40, \"Sp. Atk\": 40, \"Sp. Def\": 40, \"Speed\": 30, \"Generation\": 2, \"Legendary\": false}, {\"#\": 168, \"Name\": \"Ariados\", \"Type 1\": \"Bug\", \"Total\": 390, \"HP\": 70, \"Attack\": 90, \"Defense\": 70, \"Sp. Atk\": 60, \"Sp. Def\": 60, \"Speed\": 40, \"Generation\": 2, \"Legendary\": false}, {\"#\": 169, \"Name\": \"Crobat\", \"Type 1\": \"Poison\", \"Total\": 535, \"HP\": 85, \"Attack\": 90, \"Defense\": 80, \"Sp. Atk\": 70, \"Sp. Def\": 80, \"Speed\": 130, \"Generation\": 2, \"Legendary\": false}, {\"#\": 170, \"Name\": \"Chinchou\", \"Type 1\": \"Water\", \"Total\": 330, \"HP\": 75, \"Attack\": 38, \"Defense\": 38, \"Sp. Atk\": 56, \"Sp. Def\": 56, \"Speed\": 67, \"Generation\": 2, \"Legendary\": false}, {\"#\": 171, \"Name\": \"Lanturn\", \"Type 1\": \"Water\", \"Total\": 460, \"HP\": 125, \"Attack\": 58, \"Defense\": 58, \"Sp. Atk\": 76, \"Sp. Def\": 76, \"Speed\": 67, \"Generation\": 2, \"Legendary\": false}, {\"#\": 172, \"Name\": \"Pichu\", \"Type 1\": \"Electric\", \"Total\": 205, \"HP\": 20, \"Attack\": 40, \"Defense\": 15, \"Sp. Atk\": 35, \"Sp. Def\": 35, \"Speed\": 60, \"Generation\": 2, \"Legendary\": false}, {\"#\": 173, \"Name\": \"Cleffa\", \"Type 1\": \"Fairy\", \"Total\": 218, \"HP\": 50, \"Attack\": 25, \"Defense\": 28, \"Sp. Atk\": 45, \"Sp. Def\": 55, \"Speed\": 15, \"Generation\": 2, \"Legendary\": false}, {\"#\": 174, \"Name\": \"Igglybuff\", \"Type 1\": \"Normal\", \"Total\": 210, \"HP\": 90, \"Attack\": 30, \"Defense\": 15, \"Sp. Atk\": 40, \"Sp. Def\": 20, \"Speed\": 15, \"Generation\": 2, \"Legendary\": false}, {\"#\": 175, \"Name\": \"Togepi\", \"Type 1\": \"Fairy\", \"Total\": 245, \"HP\": 35, \"Attack\": 20, \"Defense\": 65, \"Sp. Atk\": 40, \"Sp. Def\": 65, \"Speed\": 20, \"Generation\": 2, \"Legendary\": false}, {\"#\": 176, \"Name\": \"Togetic\", \"Type 1\": \"Fairy\", \"Total\": 405, \"HP\": 55, \"Attack\": 40, \"Defense\": 85, \"Sp. Atk\": 80, \"Sp. Def\": 105, \"Speed\": 40, \"Generation\": 2, \"Legendary\": false}, {\"#\": 177, \"Name\": \"Natu\", \"Type 1\": \"Psychic\", \"Total\": 320, \"HP\": 40, \"Attack\": 50, \"Defense\": 45, \"Sp. Atk\": 70, \"Sp. Def\": 45, \"Speed\": 70, \"Generation\": 2, \"Legendary\": false}, {\"#\": 178, \"Name\": \"Xatu\", \"Type 1\": \"Psychic\", \"Total\": 470, \"HP\": 65, \"Attack\": 75, \"Defense\": 70, \"Sp. Atk\": 95, \"Sp. Def\": 70, \"Speed\": 95, \"Generation\": 2, \"Legendary\": false}, {\"#\": 179, \"Name\": \"Mareep\", \"Type 1\": \"Electric\", \"Total\": 280, \"HP\": 55, \"Attack\": 40, \"Defense\": 40, \"Sp. Atk\": 65, \"Sp. Def\": 45, \"Speed\": 35, \"Generation\": 2, \"Legendary\": false}, {\"#\": 180, \"Name\": \"Flaaffy\", \"Type 1\": \"Electric\", \"Total\": 365, \"HP\": 70, \"Attack\": 55, \"Defense\": 55, \"Sp. Atk\": 80, \"Sp. Def\": 60, \"Speed\": 45, \"Generation\": 2, \"Legendary\": false}, {\"#\": 181, \"Name\": \"Ampharos\", \"Type 1\": \"Electric\", \"Total\": 510, \"HP\": 90, \"Attack\": 75, \"Defense\": 85, \"Sp. Atk\": 115, \"Sp. Def\": 90, \"Speed\": 55, \"Generation\": 2, \"Legendary\": false}, {\"#\": 181, \"Name\": \"AmpharosMega Ampharos\", \"Type 1\": \"Electric\", \"Total\": 610, \"HP\": 90, \"Attack\": 95, \"Defense\": 105, \"Sp. Atk\": 165, \"Sp. Def\": 110, \"Speed\": 45, \"Generation\": 2, \"Legendary\": false}, {\"#\": 182, \"Name\": \"Bellossom\", \"Type 1\": \"Grass\", \"Total\": 490, \"HP\": 75, \"Attack\": 80, \"Defense\": 95, \"Sp. Atk\": 90, \"Sp. Def\": 100, \"Speed\": 50, \"Generation\": 2, \"Legendary\": false}, {\"#\": 183, \"Name\": \"Marill\", \"Type 1\": \"Water\", \"Total\": 250, \"HP\": 70, \"Attack\": 20, \"Defense\": 50, \"Sp. Atk\": 20, \"Sp. Def\": 50, \"Speed\": 40, \"Generation\": 2, \"Legendary\": false}, {\"#\": 184, \"Name\": \"Azumarill\", \"Type 1\": \"Water\", \"Total\": 420, \"HP\": 100, \"Attack\": 50, \"Defense\": 80, \"Sp. Atk\": 60, \"Sp. Def\": 80, \"Speed\": 50, \"Generation\": 2, \"Legendary\": false}, {\"#\": 185, \"Name\": \"Sudowoodo\", \"Type 1\": \"Rock\", \"Total\": 410, \"HP\": 70, \"Attack\": 100, \"Defense\": 115, \"Sp. Atk\": 30, \"Sp. Def\": 65, \"Speed\": 30, \"Generation\": 2, \"Legendary\": false}, {\"#\": 186, \"Name\": \"Politoed\", \"Type 1\": \"Water\", \"Total\": 500, \"HP\": 90, \"Attack\": 75, \"Defense\": 75, \"Sp. Atk\": 90, \"Sp. Def\": 100, \"Speed\": 70, \"Generation\": 2, \"Legendary\": false}, {\"#\": 187, \"Name\": \"Hoppip\", \"Type 1\": \"Grass\", \"Total\": 250, \"HP\": 35, \"Attack\": 35, \"Defense\": 40, \"Sp. Atk\": 35, \"Sp. Def\": 55, \"Speed\": 50, \"Generation\": 2, \"Legendary\": false}, {\"#\": 188, \"Name\": \"Skiploom\", \"Type 1\": \"Grass\", \"Total\": 340, \"HP\": 55, \"Attack\": 45, \"Defense\": 50, \"Sp. Atk\": 45, \"Sp. Def\": 65, \"Speed\": 80, \"Generation\": 2, \"Legendary\": false}, {\"#\": 189, \"Name\": \"Jumpluff\", \"Type 1\": \"Grass\", \"Total\": 460, \"HP\": 75, \"Attack\": 55, \"Defense\": 70, \"Sp. Atk\": 55, \"Sp. Def\": 95, \"Speed\": 110, \"Generation\": 2, \"Legendary\": false}, {\"#\": 190, \"Name\": \"Aipom\", \"Type 1\": \"Normal\", \"Total\": 360, \"HP\": 55, \"Attack\": 70, \"Defense\": 55, \"Sp. Atk\": 40, \"Sp. Def\": 55, \"Speed\": 85, \"Generation\": 2, \"Legendary\": false}, {\"#\": 191, \"Name\": \"Sunkern\", \"Type 1\": \"Grass\", \"Total\": 180, \"HP\": 30, \"Attack\": 30, \"Defense\": 30, \"Sp. Atk\": 30, \"Sp. Def\": 30, \"Speed\": 30, \"Generation\": 2, \"Legendary\": false}, {\"#\": 192, \"Name\": \"Sunflora\", \"Type 1\": \"Grass\", \"Total\": 425, \"HP\": 75, \"Attack\": 75, \"Defense\": 55, \"Sp. Atk\": 105, \"Sp. Def\": 85, \"Speed\": 30, \"Generation\": 2, \"Legendary\": false}, {\"#\": 193, \"Name\": \"Yanma\", \"Type 1\": \"Bug\", \"Total\": 390, \"HP\": 65, \"Attack\": 65, \"Defense\": 45, \"Sp. Atk\": 75, \"Sp. Def\": 45, \"Speed\": 95, \"Generation\": 2, \"Legendary\": false}, {\"#\": 194, \"Name\": \"Wooper\", \"Type 1\": \"Water\", \"Total\": 210, \"HP\": 55, \"Attack\": 45, \"Defense\": 45, \"Sp. Atk\": 25, \"Sp. Def\": 25, \"Speed\": 15, \"Generation\": 2, \"Legendary\": false}, {\"#\": 195, \"Name\": \"Quagsire\", \"Type 1\": \"Water\", \"Total\": 430, \"HP\": 95, \"Attack\": 85, \"Defense\": 85, \"Sp. Atk\": 65, \"Sp. Def\": 65, \"Speed\": 35, \"Generation\": 2, \"Legendary\": false}, {\"#\": 196, \"Name\": \"Espeon\", \"Type 1\": \"Psychic\", \"Total\": 525, \"HP\": 65, \"Attack\": 65, \"Defense\": 60, \"Sp. Atk\": 130, \"Sp. Def\": 95, \"Speed\": 110, \"Generation\": 2, \"Legendary\": false}, {\"#\": 197, \"Name\": \"Umbreon\", \"Type 1\": \"Dark\", \"Total\": 525, \"HP\": 95, \"Attack\": 65, \"Defense\": 110, \"Sp. Atk\": 60, \"Sp. Def\": 130, \"Speed\": 65, \"Generation\": 2, \"Legendary\": false}, {\"#\": 198, \"Name\": \"Murkrow\", \"Type 1\": \"Dark\", \"Total\": 405, \"HP\": 60, \"Attack\": 85, \"Defense\": 42, \"Sp. Atk\": 85, \"Sp. Def\": 42, \"Speed\": 91, \"Generation\": 2, \"Legendary\": false}, {\"#\": 199, \"Name\": \"Slowking\", \"Type 1\": \"Water\", \"Total\": 490, \"HP\": 95, \"Attack\": 75, \"Defense\": 80, \"Sp. Atk\": 100, \"Sp. Def\": 110, \"Speed\": 30, \"Generation\": 2, \"Legendary\": false}, {\"#\": 200, \"Name\": \"Misdreavus\", \"Type 1\": \"Ghost\", \"Total\": 435, \"HP\": 60, \"Attack\": 60, \"Defense\": 60, \"Sp. Atk\": 85, \"Sp. Def\": 85, \"Speed\": 85, \"Generation\": 2, \"Legendary\": false}, {\"#\": 201, \"Name\": \"Unown\", \"Type 1\": \"Psychic\", \"Total\": 336, \"HP\": 48, \"Attack\": 72, \"Defense\": 48, \"Sp. Atk\": 72, \"Sp. Def\": 48, \"Speed\": 48, \"Generation\": 2, \"Legendary\": false}, {\"#\": 202, \"Name\": \"Wobbuffet\", \"Type 1\": \"Psychic\", \"Total\": 405, \"HP\": 190, \"Attack\": 33, \"Defense\": 58, \"Sp. Atk\": 33, \"Sp. Def\": 58, \"Speed\": 33, \"Generation\": 2, \"Legendary\": false}, {\"#\": 203, \"Name\": \"Girafarig\", \"Type 1\": \"Normal\", \"Total\": 455, \"HP\": 70, \"Attack\": 80, \"Defense\": 65, \"Sp. Atk\": 90, \"Sp. Def\": 65, \"Speed\": 85, \"Generation\": 2, \"Legendary\": false}, {\"#\": 204, \"Name\": \"Pineco\", \"Type 1\": \"Bug\", \"Total\": 290, \"HP\": 50, \"Attack\": 65, \"Defense\": 90, \"Sp. Atk\": 35, \"Sp. Def\": 35, \"Speed\": 15, \"Generation\": 2, \"Legendary\": false}, {\"#\": 205, \"Name\": \"Forretress\", \"Type 1\": \"Bug\", \"Total\": 465, \"HP\": 75, \"Attack\": 90, \"Defense\": 140, \"Sp. Atk\": 60, \"Sp. Def\": 60, \"Speed\": 40, \"Generation\": 2, \"Legendary\": false}, {\"#\": 206, \"Name\": \"Dunsparce\", \"Type 1\": \"Normal\", \"Total\": 415, \"HP\": 100, \"Attack\": 70, \"Defense\": 70, \"Sp. Atk\": 65, \"Sp. Def\": 65, \"Speed\": 45, \"Generation\": 2, \"Legendary\": false}, {\"#\": 207, \"Name\": \"Gligar\", \"Type 1\": \"Ground\", \"Total\": 430, \"HP\": 65, \"Attack\": 75, \"Defense\": 105, \"Sp. Atk\": 35, \"Sp. Def\": 65, \"Speed\": 85, \"Generation\": 2, \"Legendary\": false}, {\"#\": 208, \"Name\": \"Steelix\", \"Type 1\": \"Steel\", \"Total\": 510, \"HP\": 75, \"Attack\": 85, \"Defense\": 200, \"Sp. Atk\": 55, \"Sp. Def\": 65, \"Speed\": 30, \"Generation\": 2, \"Legendary\": false}, {\"#\": 208, \"Name\": \"SteelixMega Steelix\", \"Type 1\": \"Steel\", \"Total\": 610, \"HP\": 75, \"Attack\": 125, \"Defense\": 230, \"Sp. Atk\": 55, \"Sp. Def\": 95, \"Speed\": 30, \"Generation\": 2, \"Legendary\": false}, {\"#\": 209, \"Name\": \"Snubbull\", \"Type 1\": \"Fairy\", \"Total\": 300, \"HP\": 60, \"Attack\": 80, \"Defense\": 50, \"Sp. Atk\": 40, \"Sp. Def\": 40, \"Speed\": 30, \"Generation\": 2, \"Legendary\": false}, {\"#\": 210, \"Name\": \"Granbull\", \"Type 1\": \"Fairy\", \"Total\": 450, \"HP\": 90, \"Attack\": 120, \"Defense\": 75, \"Sp. Atk\": 60, \"Sp. Def\": 60, \"Speed\": 45, \"Generation\": 2, \"Legendary\": false}, {\"#\": 211, \"Name\": \"Qwilfish\", \"Type 1\": \"Water\", \"Total\": 430, \"HP\": 65, \"Attack\": 95, \"Defense\": 75, \"Sp. Atk\": 55, \"Sp. Def\": 55, \"Speed\": 85, \"Generation\": 2, \"Legendary\": false}, {\"#\": 212, \"Name\": \"Scizor\", \"Type 1\": \"Bug\", \"Total\": 500, \"HP\": 70, \"Attack\": 130, \"Defense\": 100, \"Sp. Atk\": 55, \"Sp. Def\": 80, \"Speed\": 65, \"Generation\": 2, \"Legendary\": false}, {\"#\": 212, \"Name\": \"ScizorMega Scizor\", \"Type 1\": \"Bug\", \"Total\": 600, \"HP\": 70, \"Attack\": 150, \"Defense\": 140, \"Sp. Atk\": 65, \"Sp. Def\": 100, \"Speed\": 75, \"Generation\": 2, \"Legendary\": false}, {\"#\": 213, \"Name\": \"Shuckle\", \"Type 1\": \"Bug\", \"Total\": 505, \"HP\": 20, \"Attack\": 10, \"Defense\": 230, \"Sp. Atk\": 10, \"Sp. Def\": 230, \"Speed\": 5, \"Generation\": 2, \"Legendary\": false}, {\"#\": 214, \"Name\": \"Heracross\", \"Type 1\": \"Bug\", \"Total\": 500, \"HP\": 80, \"Attack\": 125, \"Defense\": 75, \"Sp. Atk\": 40, \"Sp. Def\": 95, \"Speed\": 85, \"Generation\": 2, \"Legendary\": false}, {\"#\": 214, \"Name\": \"HeracrossMega Heracross\", \"Type 1\": \"Bug\", \"Total\": 600, \"HP\": 80, \"Attack\": 185, \"Defense\": 115, \"Sp. Atk\": 40, \"Sp. Def\": 105, \"Speed\": 75, \"Generation\": 2, \"Legendary\": false}, {\"#\": 215, \"Name\": \"Sneasel\", \"Type 1\": \"Dark\", \"Total\": 430, \"HP\": 55, \"Attack\": 95, \"Defense\": 55, \"Sp. Atk\": 35, \"Sp. Def\": 75, \"Speed\": 115, \"Generation\": 2, \"Legendary\": false}, {\"#\": 216, \"Name\": \"Teddiursa\", \"Type 1\": \"Normal\", \"Total\": 330, \"HP\": 60, \"Attack\": 80, \"Defense\": 50, \"Sp. Atk\": 50, \"Sp. Def\": 50, \"Speed\": 40, \"Generation\": 2, \"Legendary\": false}, {\"#\": 217, \"Name\": \"Ursaring\", \"Type 1\": \"Normal\", \"Total\": 500, \"HP\": 90, \"Attack\": 130, \"Defense\": 75, \"Sp. Atk\": 75, \"Sp. Def\": 75, \"Speed\": 55, \"Generation\": 2, \"Legendary\": false}, {\"#\": 218, \"Name\": \"Slugma\", \"Type 1\": \"Fire\", \"Total\": 250, \"HP\": 40, \"Attack\": 40, \"Defense\": 40, \"Sp. Atk\": 70, \"Sp. Def\": 40, \"Speed\": 20, \"Generation\": 2, \"Legendary\": false}, {\"#\": 219, \"Name\": \"Magcargo\", \"Type 1\": \"Fire\", \"Total\": 410, \"HP\": 50, \"Attack\": 50, \"Defense\": 120, \"Sp. Atk\": 80, \"Sp. Def\": 80, \"Speed\": 30, \"Generation\": 2, \"Legendary\": false}, {\"#\": 220, \"Name\": \"Swinub\", \"Type 1\": \"Ice\", \"Total\": 250, \"HP\": 50, \"Attack\": 50, \"Defense\": 40, \"Sp. Atk\": 30, \"Sp. Def\": 30, \"Speed\": 50, \"Generation\": 2, \"Legendary\": false}, {\"#\": 221, \"Name\": \"Piloswine\", \"Type 1\": \"Ice\", \"Total\": 450, \"HP\": 100, \"Attack\": 100, \"Defense\": 80, \"Sp. Atk\": 60, \"Sp. Def\": 60, \"Speed\": 50, \"Generation\": 2, \"Legendary\": false}, {\"#\": 222, \"Name\": \"Corsola\", \"Type 1\": \"Water\", \"Total\": 380, \"HP\": 55, \"Attack\": 55, \"Defense\": 85, \"Sp. Atk\": 65, \"Sp. Def\": 85, \"Speed\": 35, \"Generation\": 2, \"Legendary\": false}, {\"#\": 223, \"Name\": \"Remoraid\", \"Type 1\": \"Water\", \"Total\": 300, \"HP\": 35, \"Attack\": 65, \"Defense\": 35, \"Sp. Atk\": 65, \"Sp. Def\": 35, \"Speed\": 65, \"Generation\": 2, \"Legendary\": false}, {\"#\": 224, \"Name\": \"Octillery\", \"Type 1\": \"Water\", \"Total\": 480, \"HP\": 75, \"Attack\": 105, \"Defense\": 75, \"Sp. Atk\": 105, \"Sp. Def\": 75, \"Speed\": 45, \"Generation\": 2, \"Legendary\": false}, {\"#\": 225, \"Name\": \"Delibird\", \"Type 1\": \"Ice\", \"Total\": 330, \"HP\": 45, \"Attack\": 55, \"Defense\": 45, \"Sp. Atk\": 65, \"Sp. Def\": 45, \"Speed\": 75, \"Generation\": 2, \"Legendary\": false}, {\"#\": 226, \"Name\": \"Mantine\", \"Type 1\": \"Water\", \"Total\": 465, \"HP\": 65, \"Attack\": 40, \"Defense\": 70, \"Sp. Atk\": 80, \"Sp. Def\": 140, \"Speed\": 70, \"Generation\": 2, \"Legendary\": false}, {\"#\": 227, \"Name\": \"Skarmory\", \"Type 1\": \"Steel\", \"Total\": 465, \"HP\": 65, \"Attack\": 80, \"Defense\": 140, \"Sp. Atk\": 40, \"Sp. Def\": 70, \"Speed\": 70, \"Generation\": 2, \"Legendary\": false}, {\"#\": 228, \"Name\": \"Houndour\", \"Type 1\": \"Dark\", \"Total\": 330, \"HP\": 45, \"Attack\": 60, \"Defense\": 30, \"Sp. Atk\": 80, \"Sp. Def\": 50, \"Speed\": 65, \"Generation\": 2, \"Legendary\": false}, {\"#\": 229, \"Name\": \"Houndoom\", \"Type 1\": \"Dark\", \"Total\": 500, \"HP\": 75, \"Attack\": 90, \"Defense\": 50, \"Sp. Atk\": 110, \"Sp. Def\": 80, \"Speed\": 95, \"Generation\": 2, \"Legendary\": false}, {\"#\": 229, \"Name\": \"HoundoomMega Houndoom\", \"Type 1\": \"Dark\", \"Total\": 600, \"HP\": 75, \"Attack\": 90, \"Defense\": 90, \"Sp. Atk\": 140, \"Sp. Def\": 90, \"Speed\": 115, \"Generation\": 2, \"Legendary\": false}, {\"#\": 230, \"Name\": \"Kingdra\", \"Type 1\": \"Water\", \"Total\": 540, \"HP\": 75, \"Attack\": 95, \"Defense\": 95, \"Sp. Atk\": 95, \"Sp. Def\": 95, \"Speed\": 85, \"Generation\": 2, \"Legendary\": false}, {\"#\": 231, \"Name\": \"Phanpy\", \"Type 1\": \"Ground\", \"Total\": 330, \"HP\": 90, \"Attack\": 60, \"Defense\": 60, \"Sp. Atk\": 40, \"Sp. Def\": 40, \"Speed\": 40, \"Generation\": 2, \"Legendary\": false}, {\"#\": 232, \"Name\": \"Donphan\", \"Type 1\": \"Ground\", \"Total\": 500, \"HP\": 90, \"Attack\": 120, \"Defense\": 120, \"Sp. Atk\": 60, \"Sp. Def\": 60, \"Speed\": 50, \"Generation\": 2, \"Legendary\": false}, {\"#\": 233, \"Name\": \"Porygon2\", \"Type 1\": \"Normal\", \"Total\": 515, \"HP\": 85, \"Attack\": 80, \"Defense\": 90, \"Sp. Atk\": 105, \"Sp. Def\": 95, \"Speed\": 60, \"Generation\": 2, \"Legendary\": false}, {\"#\": 234, \"Name\": \"Stantler\", \"Type 1\": \"Normal\", \"Total\": 465, \"HP\": 73, \"Attack\": 95, \"Defense\": 62, \"Sp. Atk\": 85, \"Sp. Def\": 65, \"Speed\": 85, \"Generation\": 2, \"Legendary\": false}, {\"#\": 235, \"Name\": \"Smeargle\", \"Type 1\": \"Normal\", \"Total\": 250, \"HP\": 55, \"Attack\": 20, \"Defense\": 35, \"Sp. Atk\": 20, \"Sp. Def\": 45, \"Speed\": 75, \"Generation\": 2, \"Legendary\": false}, {\"#\": 236, \"Name\": \"Tyrogue\", \"Type 1\": \"Fighting\", \"Total\": 210, \"HP\": 35, \"Attack\": 35, \"Defense\": 35, \"Sp. Atk\": 35, \"Sp. Def\": 35, \"Speed\": 35, \"Generation\": 2, \"Legendary\": false}, {\"#\": 237, \"Name\": \"Hitmontop\", \"Type 1\": \"Fighting\", \"Total\": 455, \"HP\": 50, \"Attack\": 95, \"Defense\": 95, \"Sp. Atk\": 35, \"Sp. Def\": 110, \"Speed\": 70, \"Generation\": 2, \"Legendary\": false}, {\"#\": 238, \"Name\": \"Smoochum\", \"Type 1\": \"Ice\", \"Total\": 305, \"HP\": 45, \"Attack\": 30, \"Defense\": 15, \"Sp. Atk\": 85, \"Sp. Def\": 65, \"Speed\": 65, \"Generation\": 2, \"Legendary\": false}, {\"#\": 239, \"Name\": \"Elekid\", \"Type 1\": \"Electric\", \"Total\": 360, \"HP\": 45, \"Attack\": 63, \"Defense\": 37, \"Sp. Atk\": 65, \"Sp. Def\": 55, \"Speed\": 95, \"Generation\": 2, \"Legendary\": false}, {\"#\": 240, \"Name\": \"Magby\", \"Type 1\": \"Fire\", \"Total\": 365, \"HP\": 45, \"Attack\": 75, \"Defense\": 37, \"Sp. Atk\": 70, \"Sp. Def\": 55, \"Speed\": 83, \"Generation\": 2, \"Legendary\": false}, {\"#\": 241, \"Name\": \"Miltank\", \"Type 1\": \"Normal\", \"Total\": 490, \"HP\": 95, \"Attack\": 80, \"Defense\": 105, \"Sp. Atk\": 40, \"Sp. Def\": 70, \"Speed\": 100, \"Generation\": 2, \"Legendary\": false}, {\"#\": 242, \"Name\": \"Blissey\", \"Type 1\": \"Normal\", \"Total\": 540, \"HP\": 255, \"Attack\": 10, \"Defense\": 10, \"Sp. Atk\": 75, \"Sp. Def\": 135, \"Speed\": 55, \"Generation\": 2, \"Legendary\": false}, {\"#\": 243, \"Name\": \"Raikou\", \"Type 1\": \"Electric\", \"Total\": 580, \"HP\": 90, \"Attack\": 85, \"Defense\": 75, \"Sp. Atk\": 115, \"Sp. Def\": 100, \"Speed\": 115, \"Generation\": 2, \"Legendary\": true}, {\"#\": 244, \"Name\": \"Entei\", \"Type 1\": \"Fire\", \"Total\": 580, \"HP\": 115, \"Attack\": 115, \"Defense\": 85, \"Sp. Atk\": 90, \"Sp. Def\": 75, \"Speed\": 100, \"Generation\": 2, \"Legendary\": true}, {\"#\": 245, \"Name\": \"Suicune\", \"Type 1\": \"Water\", \"Total\": 580, \"HP\": 100, \"Attack\": 75, \"Defense\": 115, \"Sp. Atk\": 90, \"Sp. Def\": 115, \"Speed\": 85, \"Generation\": 2, \"Legendary\": true}, {\"#\": 246, \"Name\": \"Larvitar\", \"Type 1\": \"Rock\", \"Total\": 300, \"HP\": 50, \"Attack\": 64, \"Defense\": 50, \"Sp. Atk\": 45, \"Sp. Def\": 50, \"Speed\": 41, \"Generation\": 2, \"Legendary\": false}, {\"#\": 247, \"Name\": \"Pupitar\", \"Type 1\": \"Rock\", \"Total\": 410, \"HP\": 70, \"Attack\": 84, \"Defense\": 70, \"Sp. Atk\": 65, \"Sp. Def\": 70, \"Speed\": 51, \"Generation\": 2, \"Legendary\": false}, {\"#\": 248, \"Name\": \"Tyranitar\", \"Type 1\": \"Rock\", \"Total\": 600, \"HP\": 100, \"Attack\": 134, \"Defense\": 110, \"Sp. Atk\": 95, \"Sp. Def\": 100, \"Speed\": 61, \"Generation\": 2, \"Legendary\": false}, {\"#\": 248, \"Name\": \"TyranitarMega Tyranitar\", \"Type 1\": \"Rock\", \"Total\": 700, \"HP\": 100, \"Attack\": 164, \"Defense\": 150, \"Sp. Atk\": 95, \"Sp. Def\": 120, \"Speed\": 71, \"Generation\": 2, \"Legendary\": false}, {\"#\": 249, \"Name\": \"Lugia\", \"Type 1\": \"Psychic\", \"Total\": 680, \"HP\": 106, \"Attack\": 90, \"Defense\": 130, \"Sp. Atk\": 90, \"Sp. Def\": 154, \"Speed\": 110, \"Generation\": 2, \"Legendary\": true}, {\"#\": 250, \"Name\": \"Ho-oh\", \"Type 1\": \"Fire\", \"Total\": 680, \"HP\": 106, \"Attack\": 130, \"Defense\": 90, \"Sp. Atk\": 110, \"Sp. Def\": 154, \"Speed\": 90, \"Generation\": 2, \"Legendary\": true}, {\"#\": 251, \"Name\": \"Celebi\", \"Type 1\": \"Psychic\", \"Total\": 600, \"HP\": 100, \"Attack\": 100, \"Defense\": 100, \"Sp. Atk\": 100, \"Sp. Def\": 100, \"Speed\": 100, \"Generation\": 2, \"Legendary\": false}, {\"#\": 252, \"Name\": \"Treecko\", \"Type 1\": \"Grass\", \"Total\": 310, \"HP\": 40, \"Attack\": 45, \"Defense\": 35, \"Sp. Atk\": 65, \"Sp. Def\": 55, \"Speed\": 70, \"Generation\": 3, \"Legendary\": false}, {\"#\": 253, \"Name\": \"Grovyle\", \"Type 1\": \"Grass\", \"Total\": 405, \"HP\": 50, \"Attack\": 65, \"Defense\": 45, \"Sp. Atk\": 85, \"Sp. Def\": 65, \"Speed\": 95, \"Generation\": 3, \"Legendary\": false}, {\"#\": 254, \"Name\": \"Sceptile\", \"Type 1\": \"Grass\", \"Total\": 530, \"HP\": 70, \"Attack\": 85, \"Defense\": 65, \"Sp. Atk\": 105, \"Sp. Def\": 85, \"Speed\": 120, \"Generation\": 3, \"Legendary\": false}, {\"#\": 254, \"Name\": \"SceptileMega Sceptile\", \"Type 1\": \"Grass\", \"Total\": 630, \"HP\": 70, \"Attack\": 110, \"Defense\": 75, \"Sp. Atk\": 145, \"Sp. Def\": 85, \"Speed\": 145, \"Generation\": 3, \"Legendary\": false}, {\"#\": 255, \"Name\": \"Torchic\", \"Type 1\": \"Fire\", \"Total\": 310, \"HP\": 45, \"Attack\": 60, \"Defense\": 40, \"Sp. Atk\": 70, \"Sp. Def\": 50, \"Speed\": 45, \"Generation\": 3, \"Legendary\": false}, {\"#\": 256, \"Name\": \"Combusken\", \"Type 1\": \"Fire\", \"Total\": 405, \"HP\": 60, \"Attack\": 85, \"Defense\": 60, \"Sp. Atk\": 85, \"Sp. Def\": 60, \"Speed\": 55, \"Generation\": 3, \"Legendary\": false}, {\"#\": 257, \"Name\": \"Blaziken\", \"Type 1\": \"Fire\", \"Total\": 530, \"HP\": 80, \"Attack\": 120, \"Defense\": 70, \"Sp. Atk\": 110, \"Sp. Def\": 70, \"Speed\": 80, \"Generation\": 3, \"Legendary\": false}, {\"#\": 257, \"Name\": \"BlazikenMega Blaziken\", \"Type 1\": \"Fire\", \"Total\": 630, \"HP\": 80, \"Attack\": 160, \"Defense\": 80, \"Sp. Atk\": 130, \"Sp. Def\": 80, \"Speed\": 100, \"Generation\": 3, \"Legendary\": false}, {\"#\": 258, \"Name\": \"Mudkip\", \"Type 1\": \"Water\", \"Total\": 310, \"HP\": 50, \"Attack\": 70, \"Defense\": 50, \"Sp. Atk\": 50, \"Sp. Def\": 50, \"Speed\": 40, \"Generation\": 3, \"Legendary\": false}, {\"#\": 259, \"Name\": \"Marshtomp\", \"Type 1\": \"Water\", \"Total\": 405, \"HP\": 70, \"Attack\": 85, \"Defense\": 70, \"Sp. Atk\": 60, \"Sp. Def\": 70, \"Speed\": 50, \"Generation\": 3, \"Legendary\": false}, {\"#\": 260, \"Name\": \"Swampert\", \"Type 1\": \"Water\", \"Total\": 535, \"HP\": 100, \"Attack\": 110, \"Defense\": 90, \"Sp. Atk\": 85, \"Sp. Def\": 90, \"Speed\": 60, \"Generation\": 3, \"Legendary\": false}, {\"#\": 260, \"Name\": \"SwampertMega Swampert\", \"Type 1\": \"Water\", \"Total\": 635, \"HP\": 100, \"Attack\": 150, \"Defense\": 110, \"Sp. Atk\": 95, \"Sp. Def\": 110, \"Speed\": 70, \"Generation\": 3, \"Legendary\": false}, {\"#\": 261, \"Name\": \"Poochyena\", \"Type 1\": \"Dark\", \"Total\": 220, \"HP\": 35, \"Attack\": 55, \"Defense\": 35, \"Sp. Atk\": 30, \"Sp. Def\": 30, \"Speed\": 35, \"Generation\": 3, \"Legendary\": false}, {\"#\": 262, \"Name\": \"Mightyena\", \"Type 1\": \"Dark\", \"Total\": 420, \"HP\": 70, \"Attack\": 90, \"Defense\": 70, \"Sp. Atk\": 60, \"Sp. Def\": 60, \"Speed\": 70, \"Generation\": 3, \"Legendary\": false}, {\"#\": 263, \"Name\": \"Zigzagoon\", \"Type 1\": \"Normal\", \"Total\": 240, \"HP\": 38, \"Attack\": 30, \"Defense\": 41, \"Sp. Atk\": 30, \"Sp. Def\": 41, \"Speed\": 60, \"Generation\": 3, \"Legendary\": false}, {\"#\": 264, \"Name\": \"Linoone\", \"Type 1\": \"Normal\", \"Total\": 420, \"HP\": 78, \"Attack\": 70, \"Defense\": 61, \"Sp. Atk\": 50, \"Sp. Def\": 61, \"Speed\": 100, \"Generation\": 3, \"Legendary\": false}, {\"#\": 265, \"Name\": \"Wurmple\", \"Type 1\": \"Bug\", \"Total\": 195, \"HP\": 45, \"Attack\": 45, \"Defense\": 35, \"Sp. Atk\": 20, \"Sp. Def\": 30, \"Speed\": 20, \"Generation\": 3, \"Legendary\": false}, {\"#\": 266, \"Name\": \"Silcoon\", \"Type 1\": \"Bug\", \"Total\": 205, \"HP\": 50, \"Attack\": 35, \"Defense\": 55, \"Sp. Atk\": 25, \"Sp. Def\": 25, \"Speed\": 15, \"Generation\": 3, \"Legendary\": false}, {\"#\": 267, \"Name\": \"Beautifly\", \"Type 1\": \"Bug\", \"Total\": 395, \"HP\": 60, \"Attack\": 70, \"Defense\": 50, \"Sp. Atk\": 100, \"Sp. Def\": 50, \"Speed\": 65, \"Generation\": 3, \"Legendary\": false}, {\"#\": 268, \"Name\": \"Cascoon\", \"Type 1\": \"Bug\", \"Total\": 205, \"HP\": 50, \"Attack\": 35, \"Defense\": 55, \"Sp. Atk\": 25, \"Sp. Def\": 25, \"Speed\": 15, \"Generation\": 3, \"Legendary\": false}, {\"#\": 269, \"Name\": \"Dustox\", \"Type 1\": \"Bug\", \"Total\": 385, \"HP\": 60, \"Attack\": 50, \"Defense\": 70, \"Sp. Atk\": 50, \"Sp. Def\": 90, \"Speed\": 65, \"Generation\": 3, \"Legendary\": false}, {\"#\": 270, \"Name\": \"Lotad\", \"Type 1\": \"Water\", \"Total\": 220, \"HP\": 40, \"Attack\": 30, \"Defense\": 30, \"Sp. Atk\": 40, \"Sp. Def\": 50, \"Speed\": 30, \"Generation\": 3, \"Legendary\": false}, {\"#\": 271, \"Name\": \"Lombre\", \"Type 1\": \"Water\", \"Total\": 340, \"HP\": 60, \"Attack\": 50, \"Defense\": 50, \"Sp. Atk\": 60, \"Sp. Def\": 70, \"Speed\": 50, \"Generation\": 3, \"Legendary\": false}, {\"#\": 272, \"Name\": \"Ludicolo\", \"Type 1\": \"Water\", \"Total\": 480, \"HP\": 80, \"Attack\": 70, \"Defense\": 70, \"Sp. Atk\": 90, \"Sp. Def\": 100, \"Speed\": 70, \"Generation\": 3, \"Legendary\": false}, {\"#\": 273, \"Name\": \"Seedot\", \"Type 1\": \"Grass\", \"Total\": 220, \"HP\": 40, \"Attack\": 40, \"Defense\": 50, \"Sp. Atk\": 30, \"Sp. Def\": 30, \"Speed\": 30, \"Generation\": 3, \"Legendary\": false}, {\"#\": 274, \"Name\": \"Nuzleaf\", \"Type 1\": \"Grass\", \"Total\": 340, \"HP\": 70, \"Attack\": 70, \"Defense\": 40, \"Sp. Atk\": 60, \"Sp. Def\": 40, \"Speed\": 60, \"Generation\": 3, \"Legendary\": false}, {\"#\": 275, \"Name\": \"Shiftry\", \"Type 1\": \"Grass\", \"Total\": 480, \"HP\": 90, \"Attack\": 100, \"Defense\": 60, \"Sp. Atk\": 90, \"Sp. Def\": 60, \"Speed\": 80, \"Generation\": 3, \"Legendary\": false}, {\"#\": 276, \"Name\": \"Taillow\", \"Type 1\": \"Normal\", \"Total\": 270, \"HP\": 40, \"Attack\": 55, \"Defense\": 30, \"Sp. Atk\": 30, \"Sp. Def\": 30, \"Speed\": 85, \"Generation\": 3, \"Legendary\": false}, {\"#\": 277, \"Name\": \"Swellow\", \"Type 1\": \"Normal\", \"Total\": 430, \"HP\": 60, \"Attack\": 85, \"Defense\": 60, \"Sp. Atk\": 50, \"Sp. Def\": 50, \"Speed\": 125, \"Generation\": 3, \"Legendary\": false}, {\"#\": 278, \"Name\": \"Wingull\", \"Type 1\": \"Water\", \"Total\": 270, \"HP\": 40, \"Attack\": 30, \"Defense\": 30, \"Sp. Atk\": 55, \"Sp. Def\": 30, \"Speed\": 85, \"Generation\": 3, \"Legendary\": false}, {\"#\": 279, \"Name\": \"Pelipper\", \"Type 1\": \"Water\", \"Total\": 430, \"HP\": 60, \"Attack\": 50, \"Defense\": 100, \"Sp. Atk\": 85, \"Sp. Def\": 70, \"Speed\": 65, \"Generation\": 3, \"Legendary\": false}, {\"#\": 280, \"Name\": \"Ralts\", \"Type 1\": \"Psychic\", \"Total\": 198, \"HP\": 28, \"Attack\": 25, \"Defense\": 25, \"Sp. Atk\": 45, \"Sp. Def\": 35, \"Speed\": 40, \"Generation\": 3, \"Legendary\": false}, {\"#\": 281, \"Name\": \"Kirlia\", \"Type 1\": \"Psychic\", \"Total\": 278, \"HP\": 38, \"Attack\": 35, \"Defense\": 35, \"Sp. Atk\": 65, \"Sp. Def\": 55, \"Speed\": 50, \"Generation\": 3, \"Legendary\": false}, {\"#\": 282, \"Name\": \"Gardevoir\", \"Type 1\": \"Psychic\", \"Total\": 518, \"HP\": 68, \"Attack\": 65, \"Defense\": 65, \"Sp. Atk\": 125, \"Sp. Def\": 115, \"Speed\": 80, \"Generation\": 3, \"Legendary\": false}, {\"#\": 282, \"Name\": \"GardevoirMega Gardevoir\", \"Type 1\": \"Psychic\", \"Total\": 618, \"HP\": 68, \"Attack\": 85, \"Defense\": 65, \"Sp. Atk\": 165, \"Sp. Def\": 135, \"Speed\": 100, \"Generation\": 3, \"Legendary\": false}, {\"#\": 283, \"Name\": \"Surskit\", \"Type 1\": \"Bug\", \"Total\": 269, \"HP\": 40, \"Attack\": 30, \"Defense\": 32, \"Sp. Atk\": 50, \"Sp. Def\": 52, \"Speed\": 65, \"Generation\": 3, \"Legendary\": false}, {\"#\": 284, \"Name\": \"Masquerain\", \"Type 1\": \"Bug\", \"Total\": 414, \"HP\": 70, \"Attack\": 60, \"Defense\": 62, \"Sp. Atk\": 80, \"Sp. Def\": 82, \"Speed\": 60, \"Generation\": 3, \"Legendary\": false}, {\"#\": 285, \"Name\": \"Shroomish\", \"Type 1\": \"Grass\", \"Total\": 295, \"HP\": 60, \"Attack\": 40, \"Defense\": 60, \"Sp. Atk\": 40, \"Sp. Def\": 60, \"Speed\": 35, \"Generation\": 3, \"Legendary\": false}, {\"#\": 286, \"Name\": \"Breloom\", \"Type 1\": \"Grass\", \"Total\": 460, \"HP\": 60, \"Attack\": 130, \"Defense\": 80, \"Sp. Atk\": 60, \"Sp. Def\": 60, \"Speed\": 70, \"Generation\": 3, \"Legendary\": false}, {\"#\": 287, \"Name\": \"Slakoth\", \"Type 1\": \"Normal\", \"Total\": 280, \"HP\": 60, \"Attack\": 60, \"Defense\": 60, \"Sp. Atk\": 35, \"Sp. Def\": 35, \"Speed\": 30, \"Generation\": 3, \"Legendary\": false}, {\"#\": 288, \"Name\": \"Vigoroth\", \"Type 1\": \"Normal\", \"Total\": 440, \"HP\": 80, \"Attack\": 80, \"Defense\": 80, \"Sp. Atk\": 55, \"Sp. Def\": 55, \"Speed\": 90, \"Generation\": 3, \"Legendary\": false}, {\"#\": 289, \"Name\": \"Slaking\", \"Type 1\": \"Normal\", \"Total\": 670, \"HP\": 150, \"Attack\": 160, \"Defense\": 100, \"Sp. Atk\": 95, \"Sp. Def\": 65, \"Speed\": 100, \"Generation\": 3, \"Legendary\": false}, {\"#\": 290, \"Name\": \"Nincada\", \"Type 1\": \"Bug\", \"Total\": 266, \"HP\": 31, \"Attack\": 45, \"Defense\": 90, \"Sp. Atk\": 30, \"Sp. Def\": 30, \"Speed\": 40, \"Generation\": 3, \"Legendary\": false}, {\"#\": 291, \"Name\": \"Ninjask\", \"Type 1\": \"Bug\", \"Total\": 456, \"HP\": 61, \"Attack\": 90, \"Defense\": 45, \"Sp. Atk\": 50, \"Sp. Def\": 50, \"Speed\": 160, \"Generation\": 3, \"Legendary\": false}, {\"#\": 292, \"Name\": \"Shedinja\", \"Type 1\": \"Bug\", \"Total\": 236, \"HP\": 1, \"Attack\": 90, \"Defense\": 45, \"Sp. Atk\": 30, \"Sp. Def\": 30, \"Speed\": 40, \"Generation\": 3, \"Legendary\": false}, {\"#\": 293, \"Name\": \"Whismur\", \"Type 1\": \"Normal\", \"Total\": 240, \"HP\": 64, \"Attack\": 51, \"Defense\": 23, \"Sp. Atk\": 51, \"Sp. Def\": 23, \"Speed\": 28, \"Generation\": 3, \"Legendary\": false}, {\"#\": 294, \"Name\": \"Loudred\", \"Type 1\": \"Normal\", \"Total\": 360, \"HP\": 84, \"Attack\": 71, \"Defense\": 43, \"Sp. Atk\": 71, \"Sp. Def\": 43, \"Speed\": 48, \"Generation\": 3, \"Legendary\": false}, {\"#\": 295, \"Name\": \"Exploud\", \"Type 1\": \"Normal\", \"Total\": 490, \"HP\": 104, \"Attack\": 91, \"Defense\": 63, \"Sp. Atk\": 91, \"Sp. Def\": 73, \"Speed\": 68, \"Generation\": 3, \"Legendary\": false}, {\"#\": 296, \"Name\": \"Makuhita\", \"Type 1\": \"Fighting\", \"Total\": 237, \"HP\": 72, \"Attack\": 60, \"Defense\": 30, \"Sp. Atk\": 20, \"Sp. Def\": 30, \"Speed\": 25, \"Generation\": 3, \"Legendary\": false}, {\"#\": 297, \"Name\": \"Hariyama\", \"Type 1\": \"Fighting\", \"Total\": 474, \"HP\": 144, \"Attack\": 120, \"Defense\": 60, \"Sp. Atk\": 40, \"Sp. Def\": 60, \"Speed\": 50, \"Generation\": 3, \"Legendary\": false}, {\"#\": 298, \"Name\": \"Azurill\", \"Type 1\": \"Normal\", \"Total\": 190, \"HP\": 50, \"Attack\": 20, \"Defense\": 40, \"Sp. Atk\": 20, \"Sp. Def\": 40, \"Speed\": 20, \"Generation\": 3, \"Legendary\": false}, {\"#\": 299, \"Name\": \"Nosepass\", \"Type 1\": \"Rock\", \"Total\": 375, \"HP\": 30, \"Attack\": 45, \"Defense\": 135, \"Sp. Atk\": 45, \"Sp. Def\": 90, \"Speed\": 30, \"Generation\": 3, \"Legendary\": false}, {\"#\": 300, \"Name\": \"Skitty\", \"Type 1\": \"Normal\", \"Total\": 260, \"HP\": 50, \"Attack\": 45, \"Defense\": 45, \"Sp. Atk\": 35, \"Sp. Def\": 35, \"Speed\": 50, \"Generation\": 3, \"Legendary\": false}, {\"#\": 301, \"Name\": \"Delcatty\", \"Type 1\": \"Normal\", \"Total\": 380, \"HP\": 70, \"Attack\": 65, \"Defense\": 65, \"Sp. Atk\": 55, \"Sp. Def\": 55, \"Speed\": 70, \"Generation\": 3, \"Legendary\": false}, {\"#\": 302, \"Name\": \"Sableye\", \"Type 1\": \"Dark\", \"Total\": 380, \"HP\": 50, \"Attack\": 75, \"Defense\": 75, \"Sp. Atk\": 65, \"Sp. Def\": 65, \"Speed\": 50, \"Generation\": 3, \"Legendary\": false}, {\"#\": 302, \"Name\": \"SableyeMega Sableye\", \"Type 1\": \"Dark\", \"Total\": 480, \"HP\": 50, \"Attack\": 85, \"Defense\": 125, \"Sp. Atk\": 85, \"Sp. Def\": 115, \"Speed\": 20, \"Generation\": 3, \"Legendary\": false}, {\"#\": 303, \"Name\": \"Mawile\", \"Type 1\": \"Steel\", \"Total\": 380, \"HP\": 50, \"Attack\": 85, \"Defense\": 85, \"Sp. Atk\": 55, \"Sp. Def\": 55, \"Speed\": 50, \"Generation\": 3, \"Legendary\": false}, {\"#\": 303, \"Name\": \"MawileMega Mawile\", \"Type 1\": \"Steel\", \"Total\": 480, \"HP\": 50, \"Attack\": 105, \"Defense\": 125, \"Sp. Atk\": 55, \"Sp. Def\": 95, \"Speed\": 50, \"Generation\": 3, \"Legendary\": false}, {\"#\": 304, \"Name\": \"Aron\", \"Type 1\": \"Steel\", \"Total\": 330, \"HP\": 50, \"Attack\": 70, \"Defense\": 100, \"Sp. Atk\": 40, \"Sp. Def\": 40, \"Speed\": 30, \"Generation\": 3, \"Legendary\": false}, {\"#\": 305, \"Name\": \"Lairon\", \"Type 1\": \"Steel\", \"Total\": 430, \"HP\": 60, \"Attack\": 90, \"Defense\": 140, \"Sp. Atk\": 50, \"Sp. Def\": 50, \"Speed\": 40, \"Generation\": 3, \"Legendary\": false}, {\"#\": 306, \"Name\": \"Aggron\", \"Type 1\": \"Steel\", \"Total\": 530, \"HP\": 70, \"Attack\": 110, \"Defense\": 180, \"Sp. Atk\": 60, \"Sp. Def\": 60, \"Speed\": 50, \"Generation\": 3, \"Legendary\": false}, {\"#\": 306, \"Name\": \"AggronMega Aggron\", \"Type 1\": \"Steel\", \"Total\": 630, \"HP\": 70, \"Attack\": 140, \"Defense\": 230, \"Sp. Atk\": 60, \"Sp. Def\": 80, \"Speed\": 50, \"Generation\": 3, \"Legendary\": false}, {\"#\": 307, \"Name\": \"Meditite\", \"Type 1\": \"Fighting\", \"Total\": 280, \"HP\": 30, \"Attack\": 40, \"Defense\": 55, \"Sp. Atk\": 40, \"Sp. Def\": 55, \"Speed\": 60, \"Generation\": 3, \"Legendary\": false}, {\"#\": 308, \"Name\": \"Medicham\", \"Type 1\": \"Fighting\", \"Total\": 410, \"HP\": 60, \"Attack\": 60, \"Defense\": 75, \"Sp. Atk\": 60, \"Sp. Def\": 75, \"Speed\": 80, \"Generation\": 3, \"Legendary\": false}, {\"#\": 308, \"Name\": \"MedichamMega Medicham\", \"Type 1\": \"Fighting\", \"Total\": 510, \"HP\": 60, \"Attack\": 100, \"Defense\": 85, \"Sp. Atk\": 80, \"Sp. Def\": 85, \"Speed\": 100, \"Generation\": 3, \"Legendary\": false}, {\"#\": 309, \"Name\": \"Electrike\", \"Type 1\": \"Electric\", \"Total\": 295, \"HP\": 40, \"Attack\": 45, \"Defense\": 40, \"Sp. Atk\": 65, \"Sp. Def\": 40, \"Speed\": 65, \"Generation\": 3, \"Legendary\": false}, {\"#\": 310, \"Name\": \"Manectric\", \"Type 1\": \"Electric\", \"Total\": 475, \"HP\": 70, \"Attack\": 75, \"Defense\": 60, \"Sp. Atk\": 105, \"Sp. Def\": 60, \"Speed\": 105, \"Generation\": 3, \"Legendary\": false}, {\"#\": 310, \"Name\": \"ManectricMega Manectric\", \"Type 1\": \"Electric\", \"Total\": 575, \"HP\": 70, \"Attack\": 75, \"Defense\": 80, \"Sp. Atk\": 135, \"Sp. Def\": 80, \"Speed\": 135, \"Generation\": 3, \"Legendary\": false}, {\"#\": 311, \"Name\": \"Plusle\", \"Type 1\": \"Electric\", \"Total\": 405, \"HP\": 60, \"Attack\": 50, \"Defense\": 40, \"Sp. Atk\": 85, \"Sp. Def\": 75, \"Speed\": 95, \"Generation\": 3, \"Legendary\": false}, {\"#\": 312, \"Name\": \"Minun\", \"Type 1\": \"Electric\", \"Total\": 405, \"HP\": 60, \"Attack\": 40, \"Defense\": 50, \"Sp. Atk\": 75, \"Sp. Def\": 85, \"Speed\": 95, \"Generation\": 3, \"Legendary\": false}, {\"#\": 313, \"Name\": \"Volbeat\", \"Type 1\": \"Bug\", \"Total\": 400, \"HP\": 65, \"Attack\": 73, \"Defense\": 55, \"Sp. Atk\": 47, \"Sp. Def\": 75, \"Speed\": 85, \"Generation\": 3, \"Legendary\": false}, {\"#\": 314, \"Name\": \"Illumise\", \"Type 1\": \"Bug\", \"Total\": 400, \"HP\": 65, \"Attack\": 47, \"Defense\": 55, \"Sp. Atk\": 73, \"Sp. Def\": 75, \"Speed\": 85, \"Generation\": 3, \"Legendary\": false}, {\"#\": 315, \"Name\": \"Roselia\", \"Type 1\": \"Grass\", \"Total\": 400, \"HP\": 50, \"Attack\": 60, \"Defense\": 45, \"Sp. Atk\": 100, \"Sp. Def\": 80, \"Speed\": 65, \"Generation\": 3, \"Legendary\": false}, {\"#\": 316, \"Name\": \"Gulpin\", \"Type 1\": \"Poison\", \"Total\": 302, \"HP\": 70, \"Attack\": 43, \"Defense\": 53, \"Sp. Atk\": 43, \"Sp. Def\": 53, \"Speed\": 40, \"Generation\": 3, \"Legendary\": false}, {\"#\": 317, \"Name\": \"Swalot\", \"Type 1\": \"Poison\", \"Total\": 467, \"HP\": 100, \"Attack\": 73, \"Defense\": 83, \"Sp. Atk\": 73, \"Sp. Def\": 83, \"Speed\": 55, \"Generation\": 3, \"Legendary\": false}, {\"#\": 318, \"Name\": \"Carvanha\", \"Type 1\": \"Water\", \"Total\": 305, \"HP\": 45, \"Attack\": 90, \"Defense\": 20, \"Sp. Atk\": 65, \"Sp. Def\": 20, \"Speed\": 65, \"Generation\": 3, \"Legendary\": false}, {\"#\": 319, \"Name\": \"Sharpedo\", \"Type 1\": \"Water\", \"Total\": 460, \"HP\": 70, \"Attack\": 120, \"Defense\": 40, \"Sp. Atk\": 95, \"Sp. Def\": 40, \"Speed\": 95, \"Generation\": 3, \"Legendary\": false}, {\"#\": 319, \"Name\": \"SharpedoMega Sharpedo\", \"Type 1\": \"Water\", \"Total\": 560, \"HP\": 70, \"Attack\": 140, \"Defense\": 70, \"Sp. Atk\": 110, \"Sp. Def\": 65, \"Speed\": 105, \"Generation\": 3, \"Legendary\": false}, {\"#\": 320, \"Name\": \"Wailmer\", \"Type 1\": \"Water\", \"Total\": 400, \"HP\": 130, \"Attack\": 70, \"Defense\": 35, \"Sp. Atk\": 70, \"Sp. Def\": 35, \"Speed\": 60, \"Generation\": 3, \"Legendary\": false}, {\"#\": 321, \"Name\": \"Wailord\", \"Type 1\": \"Water\", \"Total\": 500, \"HP\": 170, \"Attack\": 90, \"Defense\": 45, \"Sp. Atk\": 90, \"Sp. Def\": 45, \"Speed\": 60, \"Generation\": 3, \"Legendary\": false}, {\"#\": 322, \"Name\": \"Numel\", \"Type 1\": \"Fire\", \"Total\": 305, \"HP\": 60, \"Attack\": 60, \"Defense\": 40, \"Sp. Atk\": 65, \"Sp. Def\": 45, \"Speed\": 35, \"Generation\": 3, \"Legendary\": false}, {\"#\": 323, \"Name\": \"Camerupt\", \"Type 1\": \"Fire\", \"Total\": 460, \"HP\": 70, \"Attack\": 100, \"Defense\": 70, \"Sp. Atk\": 105, \"Sp. Def\": 75, \"Speed\": 40, \"Generation\": 3, \"Legendary\": false}, {\"#\": 323, \"Name\": \"CameruptMega Camerupt\", \"Type 1\": \"Fire\", \"Total\": 560, \"HP\": 70, \"Attack\": 120, \"Defense\": 100, \"Sp. Atk\": 145, \"Sp. Def\": 105, \"Speed\": 20, \"Generation\": 3, \"Legendary\": false}, {\"#\": 324, \"Name\": \"Torkoal\", \"Type 1\": \"Fire\", \"Total\": 470, \"HP\": 70, \"Attack\": 85, \"Defense\": 140, \"Sp. Atk\": 85, \"Sp. Def\": 70, \"Speed\": 20, \"Generation\": 3, \"Legendary\": false}, {\"#\": 325, \"Name\": \"Spoink\", \"Type 1\": \"Psychic\", \"Total\": 330, \"HP\": 60, \"Attack\": 25, \"Defense\": 35, \"Sp. Atk\": 70, \"Sp. Def\": 80, \"Speed\": 60, \"Generation\": 3, \"Legendary\": false}, {\"#\": 326, \"Name\": \"Grumpig\", \"Type 1\": \"Psychic\", \"Total\": 470, \"HP\": 80, \"Attack\": 45, \"Defense\": 65, \"Sp. Atk\": 90, \"Sp. Def\": 110, \"Speed\": 80, \"Generation\": 3, \"Legendary\": false}, {\"#\": 327, \"Name\": \"Spinda\", \"Type 1\": \"Normal\", \"Total\": 360, \"HP\": 60, \"Attack\": 60, \"Defense\": 60, \"Sp. Atk\": 60, \"Sp. Def\": 60, \"Speed\": 60, \"Generation\": 3, \"Legendary\": false}, {\"#\": 328, \"Name\": \"Trapinch\", \"Type 1\": \"Ground\", \"Total\": 290, \"HP\": 45, \"Attack\": 100, \"Defense\": 45, \"Sp. Atk\": 45, \"Sp. Def\": 45, \"Speed\": 10, \"Generation\": 3, \"Legendary\": false}, {\"#\": 329, \"Name\": \"Vibrava\", \"Type 1\": \"Ground\", \"Total\": 340, \"HP\": 50, \"Attack\": 70, \"Defense\": 50, \"Sp. Atk\": 50, \"Sp. Def\": 50, \"Speed\": 70, \"Generation\": 3, \"Legendary\": false}, {\"#\": 330, \"Name\": \"Flygon\", \"Type 1\": \"Ground\", \"Total\": 520, \"HP\": 80, \"Attack\": 100, \"Defense\": 80, \"Sp. Atk\": 80, \"Sp. Def\": 80, \"Speed\": 100, \"Generation\": 3, \"Legendary\": false}, {\"#\": 331, \"Name\": \"Cacnea\", \"Type 1\": \"Grass\", \"Total\": 335, \"HP\": 50, \"Attack\": 85, \"Defense\": 40, \"Sp. Atk\": 85, \"Sp. Def\": 40, \"Speed\": 35, \"Generation\": 3, \"Legendary\": false}, {\"#\": 332, \"Name\": \"Cacturne\", \"Type 1\": \"Grass\", \"Total\": 475, \"HP\": 70, \"Attack\": 115, \"Defense\": 60, \"Sp. Atk\": 115, \"Sp. Def\": 60, \"Speed\": 55, \"Generation\": 3, \"Legendary\": false}, {\"#\": 333, \"Name\": \"Swablu\", \"Type 1\": \"Normal\", \"Total\": 310, \"HP\": 45, \"Attack\": 40, \"Defense\": 60, \"Sp. Atk\": 40, \"Sp. Def\": 75, \"Speed\": 50, \"Generation\": 3, \"Legendary\": false}, {\"#\": 334, \"Name\": \"Altaria\", \"Type 1\": \"Dragon\", \"Total\": 490, \"HP\": 75, \"Attack\": 70, \"Defense\": 90, \"Sp. Atk\": 70, \"Sp. Def\": 105, \"Speed\": 80, \"Generation\": 3, \"Legendary\": false}, {\"#\": 334, \"Name\": \"AltariaMega Altaria\", \"Type 1\": \"Dragon\", \"Total\": 590, \"HP\": 75, \"Attack\": 110, \"Defense\": 110, \"Sp. Atk\": 110, \"Sp. Def\": 105, \"Speed\": 80, \"Generation\": 3, \"Legendary\": false}, {\"#\": 335, \"Name\": \"Zangoose\", \"Type 1\": \"Normal\", \"Total\": 458, \"HP\": 73, \"Attack\": 115, \"Defense\": 60, \"Sp. Atk\": 60, \"Sp. Def\": 60, \"Speed\": 90, \"Generation\": 3, \"Legendary\": false}, {\"#\": 336, \"Name\": \"Seviper\", \"Type 1\": \"Poison\", \"Total\": 458, \"HP\": 73, \"Attack\": 100, \"Defense\": 60, \"Sp. Atk\": 100, \"Sp. Def\": 60, \"Speed\": 65, \"Generation\": 3, \"Legendary\": false}, {\"#\": 337, \"Name\": \"Lunatone\", \"Type 1\": \"Rock\", \"Total\": 440, \"HP\": 70, \"Attack\": 55, \"Defense\": 65, \"Sp. Atk\": 95, \"Sp. Def\": 85, \"Speed\": 70, \"Generation\": 3, \"Legendary\": false}, {\"#\": 338, \"Name\": \"Solrock\", \"Type 1\": \"Rock\", \"Total\": 440, \"HP\": 70, \"Attack\": 95, \"Defense\": 85, \"Sp. Atk\": 55, \"Sp. Def\": 65, \"Speed\": 70, \"Generation\": 3, \"Legendary\": false}, {\"#\": 339, \"Name\": \"Barboach\", \"Type 1\": \"Water\", \"Total\": 288, \"HP\": 50, \"Attack\": 48, \"Defense\": 43, \"Sp. Atk\": 46, \"Sp. Def\": 41, \"Speed\": 60, \"Generation\": 3, \"Legendary\": false}, {\"#\": 340, \"Name\": \"Whiscash\", \"Type 1\": \"Water\", \"Total\": 468, \"HP\": 110, \"Attack\": 78, \"Defense\": 73, \"Sp. Atk\": 76, \"Sp. Def\": 71, \"Speed\": 60, \"Generation\": 3, \"Legendary\": false}, {\"#\": 341, \"Name\": \"Corphish\", \"Type 1\": \"Water\", \"Total\": 308, \"HP\": 43, \"Attack\": 80, \"Defense\": 65, \"Sp. Atk\": 50, \"Sp. Def\": 35, \"Speed\": 35, \"Generation\": 3, \"Legendary\": false}, {\"#\": 342, \"Name\": \"Crawdaunt\", \"Type 1\": \"Water\", \"Total\": 468, \"HP\": 63, \"Attack\": 120, \"Defense\": 85, \"Sp. Atk\": 90, \"Sp. Def\": 55, \"Speed\": 55, \"Generation\": 3, \"Legendary\": false}, {\"#\": 343, \"Name\": \"Baltoy\", \"Type 1\": \"Ground\", \"Total\": 300, \"HP\": 40, \"Attack\": 40, \"Defense\": 55, \"Sp. Atk\": 40, \"Sp. Def\": 70, \"Speed\": 55, \"Generation\": 3, \"Legendary\": false}, {\"#\": 344, \"Name\": \"Claydol\", \"Type 1\": \"Ground\", \"Total\": 500, \"HP\": 60, \"Attack\": 70, \"Defense\": 105, \"Sp. Atk\": 70, \"Sp. Def\": 120, \"Speed\": 75, \"Generation\": 3, \"Legendary\": false}, {\"#\": 345, \"Name\": \"Lileep\", \"Type 1\": \"Rock\", \"Total\": 355, \"HP\": 66, \"Attack\": 41, \"Defense\": 77, \"Sp. Atk\": 61, \"Sp. Def\": 87, \"Speed\": 23, \"Generation\": 3, \"Legendary\": false}, {\"#\": 346, \"Name\": \"Cradily\", \"Type 1\": \"Rock\", \"Total\": 495, \"HP\": 86, \"Attack\": 81, \"Defense\": 97, \"Sp. Atk\": 81, \"Sp. Def\": 107, \"Speed\": 43, \"Generation\": 3, \"Legendary\": false}, {\"#\": 347, \"Name\": \"Anorith\", \"Type 1\": \"Rock\", \"Total\": 355, \"HP\": 45, \"Attack\": 95, \"Defense\": 50, \"Sp. Atk\": 40, \"Sp. Def\": 50, \"Speed\": 75, \"Generation\": 3, \"Legendary\": false}, {\"#\": 348, \"Name\": \"Armaldo\", \"Type 1\": \"Rock\", \"Total\": 495, \"HP\": 75, \"Attack\": 125, \"Defense\": 100, \"Sp. Atk\": 70, \"Sp. Def\": 80, \"Speed\": 45, \"Generation\": 3, \"Legendary\": false}, {\"#\": 349, \"Name\": \"Feebas\", \"Type 1\": \"Water\", \"Total\": 200, \"HP\": 20, \"Attack\": 15, \"Defense\": 20, \"Sp. Atk\": 10, \"Sp. Def\": 55, \"Speed\": 80, \"Generation\": 3, \"Legendary\": false}, {\"#\": 350, \"Name\": \"Milotic\", \"Type 1\": \"Water\", \"Total\": 540, \"HP\": 95, \"Attack\": 60, \"Defense\": 79, \"Sp. Atk\": 100, \"Sp. Def\": 125, \"Speed\": 81, \"Generation\": 3, \"Legendary\": false}, {\"#\": 351, \"Name\": \"Castform\", \"Type 1\": \"Normal\", \"Total\": 420, \"HP\": 70, \"Attack\": 70, \"Defense\": 70, \"Sp. Atk\": 70, \"Sp. Def\": 70, \"Speed\": 70, \"Generation\": 3, \"Legendary\": false}, {\"#\": 352, \"Name\": \"Kecleon\", \"Type 1\": \"Normal\", \"Total\": 440, \"HP\": 60, \"Attack\": 90, \"Defense\": 70, \"Sp. Atk\": 60, \"Sp. Def\": 120, \"Speed\": 40, \"Generation\": 3, \"Legendary\": false}, {\"#\": 353, \"Name\": \"Shuppet\", \"Type 1\": \"Ghost\", \"Total\": 295, \"HP\": 44, \"Attack\": 75, \"Defense\": 35, \"Sp. Atk\": 63, \"Sp. Def\": 33, \"Speed\": 45, \"Generation\": 3, \"Legendary\": false}, {\"#\": 354, \"Name\": \"Banette\", \"Type 1\": \"Ghost\", \"Total\": 455, \"HP\": 64, \"Attack\": 115, \"Defense\": 65, \"Sp. Atk\": 83, \"Sp. Def\": 63, \"Speed\": 65, \"Generation\": 3, \"Legendary\": false}, {\"#\": 354, \"Name\": \"BanetteMega Banette\", \"Type 1\": \"Ghost\", \"Total\": 555, \"HP\": 64, \"Attack\": 165, \"Defense\": 75, \"Sp. Atk\": 93, \"Sp. Def\": 83, \"Speed\": 75, \"Generation\": 3, \"Legendary\": false}, {\"#\": 355, \"Name\": \"Duskull\", \"Type 1\": \"Ghost\", \"Total\": 295, \"HP\": 20, \"Attack\": 40, \"Defense\": 90, \"Sp. Atk\": 30, \"Sp. Def\": 90, \"Speed\": 25, \"Generation\": 3, \"Legendary\": false}, {\"#\": 356, \"Name\": \"Dusclops\", \"Type 1\": \"Ghost\", \"Total\": 455, \"HP\": 40, \"Attack\": 70, \"Defense\": 130, \"Sp. Atk\": 60, \"Sp. Def\": 130, \"Speed\": 25, \"Generation\": 3, \"Legendary\": false}, {\"#\": 357, \"Name\": \"Tropius\", \"Type 1\": \"Grass\", \"Total\": 460, \"HP\": 99, \"Attack\": 68, \"Defense\": 83, \"Sp. Atk\": 72, \"Sp. Def\": 87, \"Speed\": 51, \"Generation\": 3, \"Legendary\": false}, {\"#\": 358, \"Name\": \"Chimecho\", \"Type 1\": \"Psychic\", \"Total\": 425, \"HP\": 65, \"Attack\": 50, \"Defense\": 70, \"Sp. Atk\": 95, \"Sp. Def\": 80, \"Speed\": 65, \"Generation\": 3, \"Legendary\": false}, {\"#\": 359, \"Name\": \"Absol\", \"Type 1\": \"Dark\", \"Total\": 465, \"HP\": 65, \"Attack\": 130, \"Defense\": 60, \"Sp. Atk\": 75, \"Sp. Def\": 60, \"Speed\": 75, \"Generation\": 3, \"Legendary\": false}, {\"#\": 359, \"Name\": \"AbsolMega Absol\", \"Type 1\": \"Dark\", \"Total\": 565, \"HP\": 65, \"Attack\": 150, \"Defense\": 60, \"Sp. Atk\": 115, \"Sp. Def\": 60, \"Speed\": 115, \"Generation\": 3, \"Legendary\": false}, {\"#\": 360, \"Name\": \"Wynaut\", \"Type 1\": \"Psychic\", \"Total\": 260, \"HP\": 95, \"Attack\": 23, \"Defense\": 48, \"Sp. Atk\": 23, \"Sp. Def\": 48, \"Speed\": 23, \"Generation\": 3, \"Legendary\": false}, {\"#\": 361, \"Name\": \"Snorunt\", \"Type 1\": \"Ice\", \"Total\": 300, \"HP\": 50, \"Attack\": 50, \"Defense\": 50, \"Sp. Atk\": 50, \"Sp. Def\": 50, \"Speed\": 50, \"Generation\": 3, \"Legendary\": false}, {\"#\": 362, \"Name\": \"Glalie\", \"Type 1\": \"Ice\", \"Total\": 480, \"HP\": 80, \"Attack\": 80, \"Defense\": 80, \"Sp. Atk\": 80, \"Sp. Def\": 80, \"Speed\": 80, \"Generation\": 3, \"Legendary\": false}, {\"#\": 362, \"Name\": \"GlalieMega Glalie\", \"Type 1\": \"Ice\", \"Total\": 580, \"HP\": 80, \"Attack\": 120, \"Defense\": 80, \"Sp. Atk\": 120, \"Sp. Def\": 80, \"Speed\": 100, \"Generation\": 3, \"Legendary\": false}, {\"#\": 363, \"Name\": \"Spheal\", \"Type 1\": \"Ice\", \"Total\": 290, \"HP\": 70, \"Attack\": 40, \"Defense\": 50, \"Sp. Atk\": 55, \"Sp. Def\": 50, \"Speed\": 25, \"Generation\": 3, \"Legendary\": false}, {\"#\": 364, \"Name\": \"Sealeo\", \"Type 1\": \"Ice\", \"Total\": 410, \"HP\": 90, \"Attack\": 60, \"Defense\": 70, \"Sp. Atk\": 75, \"Sp. Def\": 70, \"Speed\": 45, \"Generation\": 3, \"Legendary\": false}, {\"#\": 365, \"Name\": \"Walrein\", \"Type 1\": \"Ice\", \"Total\": 530, \"HP\": 110, \"Attack\": 80, \"Defense\": 90, \"Sp. Atk\": 95, \"Sp. Def\": 90, \"Speed\": 65, \"Generation\": 3, \"Legendary\": false}, {\"#\": 366, \"Name\": \"Clamperl\", \"Type 1\": \"Water\", \"Total\": 345, \"HP\": 35, \"Attack\": 64, \"Defense\": 85, \"Sp. Atk\": 74, \"Sp. Def\": 55, \"Speed\": 32, \"Generation\": 3, \"Legendary\": false}, {\"#\": 367, \"Name\": \"Huntail\", \"Type 1\": \"Water\", \"Total\": 485, \"HP\": 55, \"Attack\": 104, \"Defense\": 105, \"Sp. Atk\": 94, \"Sp. Def\": 75, \"Speed\": 52, \"Generation\": 3, \"Legendary\": false}, {\"#\": 368, \"Name\": \"Gorebyss\", \"Type 1\": \"Water\", \"Total\": 485, \"HP\": 55, \"Attack\": 84, \"Defense\": 105, \"Sp. Atk\": 114, \"Sp. Def\": 75, \"Speed\": 52, \"Generation\": 3, \"Legendary\": false}, {\"#\": 369, \"Name\": \"Relicanth\", \"Type 1\": \"Water\", \"Total\": 485, \"HP\": 100, \"Attack\": 90, \"Defense\": 130, \"Sp. Atk\": 45, \"Sp. Def\": 65, \"Speed\": 55, \"Generation\": 3, \"Legendary\": false}, {\"#\": 370, \"Name\": \"Luvdisc\", \"Type 1\": \"Water\", \"Total\": 330, \"HP\": 43, \"Attack\": 30, \"Defense\": 55, \"Sp. Atk\": 40, \"Sp. Def\": 65, \"Speed\": 97, \"Generation\": 3, \"Legendary\": false}, {\"#\": 371, \"Name\": \"Bagon\", \"Type 1\": \"Dragon\", \"Total\": 300, \"HP\": 45, \"Attack\": 75, \"Defense\": 60, \"Sp. Atk\": 40, \"Sp. Def\": 30, \"Speed\": 50, \"Generation\": 3, \"Legendary\": false}, {\"#\": 372, \"Name\": \"Shelgon\", \"Type 1\": \"Dragon\", \"Total\": 420, \"HP\": 65, \"Attack\": 95, \"Defense\": 100, \"Sp. Atk\": 60, \"Sp. Def\": 50, \"Speed\": 50, \"Generation\": 3, \"Legendary\": false}, {\"#\": 373, \"Name\": \"Salamence\", \"Type 1\": \"Dragon\", \"Total\": 600, \"HP\": 95, \"Attack\": 135, \"Defense\": 80, \"Sp. Atk\": 110, \"Sp. Def\": 80, \"Speed\": 100, \"Generation\": 3, \"Legendary\": false}, {\"#\": 373, \"Name\": \"SalamenceMega Salamence\", \"Type 1\": \"Dragon\", \"Total\": 700, \"HP\": 95, \"Attack\": 145, \"Defense\": 130, \"Sp. Atk\": 120, \"Sp. Def\": 90, \"Speed\": 120, \"Generation\": 3, \"Legendary\": false}, {\"#\": 374, \"Name\": \"Beldum\", \"Type 1\": \"Steel\", \"Total\": 300, \"HP\": 40, \"Attack\": 55, \"Defense\": 80, \"Sp. Atk\": 35, \"Sp. Def\": 60, \"Speed\": 30, \"Generation\": 3, \"Legendary\": false}, {\"#\": 375, \"Name\": \"Metang\", \"Type 1\": \"Steel\", \"Total\": 420, \"HP\": 60, \"Attack\": 75, \"Defense\": 100, \"Sp. Atk\": 55, \"Sp. Def\": 80, \"Speed\": 50, \"Generation\": 3, \"Legendary\": false}, {\"#\": 376, \"Name\": \"Metagross\", \"Type 1\": \"Steel\", \"Total\": 600, \"HP\": 80, \"Attack\": 135, \"Defense\": 130, \"Sp. Atk\": 95, \"Sp. Def\": 90, \"Speed\": 70, \"Generation\": 3, \"Legendary\": false}, {\"#\": 376, \"Name\": \"MetagrossMega Metagross\", \"Type 1\": \"Steel\", \"Total\": 700, \"HP\": 80, \"Attack\": 145, \"Defense\": 150, \"Sp. Atk\": 105, \"Sp. Def\": 110, \"Speed\": 110, \"Generation\": 3, \"Legendary\": false}, {\"#\": 377, \"Name\": \"Regirock\", \"Type 1\": \"Rock\", \"Total\": 580, \"HP\": 80, \"Attack\": 100, \"Defense\": 200, \"Sp. Atk\": 50, \"Sp. Def\": 100, \"Speed\": 50, \"Generation\": 3, \"Legendary\": true}, {\"#\": 378, \"Name\": \"Regice\", \"Type 1\": \"Ice\", \"Total\": 580, \"HP\": 80, \"Attack\": 50, \"Defense\": 100, \"Sp. Atk\": 100, \"Sp. Def\": 200, \"Speed\": 50, \"Generation\": 3, \"Legendary\": true}, {\"#\": 379, \"Name\": \"Registeel\", \"Type 1\": \"Steel\", \"Total\": 580, \"HP\": 80, \"Attack\": 75, \"Defense\": 150, \"Sp. Atk\": 75, \"Sp. Def\": 150, \"Speed\": 50, \"Generation\": 3, \"Legendary\": true}, {\"#\": 380, \"Name\": \"Latias\", \"Type 1\": \"Dragon\", \"Total\": 600, \"HP\": 80, \"Attack\": 80, \"Defense\": 90, \"Sp. Atk\": 110, \"Sp. Def\": 130, \"Speed\": 110, \"Generation\": 3, \"Legendary\": true}, {\"#\": 380, \"Name\": \"LatiasMega Latias\", \"Type 1\": \"Dragon\", \"Total\": 700, \"HP\": 80, \"Attack\": 100, \"Defense\": 120, \"Sp. Atk\": 140, \"Sp. Def\": 150, \"Speed\": 110, \"Generation\": 3, \"Legendary\": true}, {\"#\": 381, \"Name\": \"Latios\", \"Type 1\": \"Dragon\", \"Total\": 600, \"HP\": 80, \"Attack\": 90, \"Defense\": 80, \"Sp. Atk\": 130, \"Sp. Def\": 110, \"Speed\": 110, \"Generation\": 3, \"Legendary\": true}, {\"#\": 381, \"Name\": \"LatiosMega Latios\", \"Type 1\": \"Dragon\", \"Total\": 700, \"HP\": 80, \"Attack\": 130, \"Defense\": 100, \"Sp. Atk\": 160, \"Sp. Def\": 120, \"Speed\": 110, \"Generation\": 3, \"Legendary\": true}, {\"#\": 382, \"Name\": \"Kyogre\", \"Type 1\": \"Water\", \"Total\": 670, \"HP\": 100, \"Attack\": 100, \"Defense\": 90, \"Sp. Atk\": 150, \"Sp. Def\": 140, \"Speed\": 90, \"Generation\": 3, \"Legendary\": true}, {\"#\": 382, \"Name\": \"KyogrePrimal Kyogre\", \"Type 1\": \"Water\", \"Total\": 770, \"HP\": 100, \"Attack\": 150, \"Defense\": 90, \"Sp. Atk\": 180, \"Sp. Def\": 160, \"Speed\": 90, \"Generation\": 3, \"Legendary\": true}, {\"#\": 383, \"Name\": \"Groudon\", \"Type 1\": \"Ground\", \"Total\": 670, \"HP\": 100, \"Attack\": 150, \"Defense\": 140, \"Sp. Atk\": 100, \"Sp. Def\": 90, \"Speed\": 90, \"Generation\": 3, \"Legendary\": true}, {\"#\": 383, \"Name\": \"GroudonPrimal Groudon\", \"Type 1\": \"Ground\", \"Total\": 770, \"HP\": 100, \"Attack\": 180, \"Defense\": 160, \"Sp. Atk\": 150, \"Sp. Def\": 90, \"Speed\": 90, \"Generation\": 3, \"Legendary\": true}, {\"#\": 384, \"Name\": \"Rayquaza\", \"Type 1\": \"Dragon\", \"Total\": 680, \"HP\": 105, \"Attack\": 150, \"Defense\": 90, \"Sp. Atk\": 150, \"Sp. Def\": 90, \"Speed\": 95, \"Generation\": 3, \"Legendary\": true}, {\"#\": 384, \"Name\": \"RayquazaMega Rayquaza\", \"Type 1\": \"Dragon\", \"Total\": 780, \"HP\": 105, \"Attack\": 180, \"Defense\": 100, \"Sp. Atk\": 180, \"Sp. Def\": 100, \"Speed\": 115, \"Generation\": 3, \"Legendary\": true}, {\"#\": 385, \"Name\": \"Jirachi\", \"Type 1\": \"Steel\", \"Total\": 600, \"HP\": 100, \"Attack\": 100, \"Defense\": 100, \"Sp. Atk\": 100, \"Sp. Def\": 100, \"Speed\": 100, \"Generation\": 3, \"Legendary\": true}, {\"#\": 386, \"Name\": \"DeoxysNormal Forme\", \"Type 1\": \"Psychic\", \"Total\": 600, \"HP\": 50, \"Attack\": 150, \"Defense\": 50, \"Sp. Atk\": 150, \"Sp. Def\": 50, \"Speed\": 150, \"Generation\": 3, \"Legendary\": true}, {\"#\": 386, \"Name\": \"DeoxysAttack Forme\", \"Type 1\": \"Psychic\", \"Total\": 600, \"HP\": 50, \"Attack\": 180, \"Defense\": 20, \"Sp. Atk\": 180, \"Sp. Def\": 20, \"Speed\": 150, \"Generation\": 3, \"Legendary\": true}, {\"#\": 386, \"Name\": \"DeoxysDefense Forme\", \"Type 1\": \"Psychic\", \"Total\": 600, \"HP\": 50, \"Attack\": 70, \"Defense\": 160, \"Sp. Atk\": 70, \"Sp. Def\": 160, \"Speed\": 90, \"Generation\": 3, \"Legendary\": true}, {\"#\": 386, \"Name\": \"DeoxysSpeed Forme\", \"Type 1\": \"Psychic\", \"Total\": 600, \"HP\": 50, \"Attack\": 95, \"Defense\": 90, \"Sp. Atk\": 95, \"Sp. Def\": 90, \"Speed\": 180, \"Generation\": 3, \"Legendary\": true}, {\"#\": 387, \"Name\": \"Turtwig\", \"Type 1\": \"Grass\", \"Total\": 318, \"HP\": 55, \"Attack\": 68, \"Defense\": 64, \"Sp. Atk\": 45, \"Sp. Def\": 55, \"Speed\": 31, \"Generation\": 4, \"Legendary\": false}, {\"#\": 388, \"Name\": \"Grotle\", \"Type 1\": \"Grass\", \"Total\": 405, \"HP\": 75, \"Attack\": 89, \"Defense\": 85, \"Sp. Atk\": 55, \"Sp. Def\": 65, \"Speed\": 36, \"Generation\": 4, \"Legendary\": false}, {\"#\": 389, \"Name\": \"Torterra\", \"Type 1\": \"Grass\", \"Total\": 525, \"HP\": 95, \"Attack\": 109, \"Defense\": 105, \"Sp. Atk\": 75, \"Sp. Def\": 85, \"Speed\": 56, \"Generation\": 4, \"Legendary\": false}, {\"#\": 390, \"Name\": \"Chimchar\", \"Type 1\": \"Fire\", \"Total\": 309, \"HP\": 44, \"Attack\": 58, \"Defense\": 44, \"Sp. Atk\": 58, \"Sp. Def\": 44, \"Speed\": 61, \"Generation\": 4, \"Legendary\": false}, {\"#\": 391, \"Name\": \"Monferno\", \"Type 1\": \"Fire\", \"Total\": 405, \"HP\": 64, \"Attack\": 78, \"Defense\": 52, \"Sp. Atk\": 78, \"Sp. Def\": 52, \"Speed\": 81, \"Generation\": 4, \"Legendary\": false}, {\"#\": 392, \"Name\": \"Infernape\", \"Type 1\": \"Fire\", \"Total\": 534, \"HP\": 76, \"Attack\": 104, \"Defense\": 71, \"Sp. Atk\": 104, \"Sp. Def\": 71, \"Speed\": 108, \"Generation\": 4, \"Legendary\": false}, {\"#\": 393, \"Name\": \"Piplup\", \"Type 1\": \"Water\", \"Total\": 314, \"HP\": 53, \"Attack\": 51, \"Defense\": 53, \"Sp. Atk\": 61, \"Sp. Def\": 56, \"Speed\": 40, \"Generation\": 4, \"Legendary\": false}, {\"#\": 394, \"Name\": \"Prinplup\", \"Type 1\": \"Water\", \"Total\": 405, \"HP\": 64, \"Attack\": 66, \"Defense\": 68, \"Sp. Atk\": 81, \"Sp. Def\": 76, \"Speed\": 50, \"Generation\": 4, \"Legendary\": false}, {\"#\": 395, \"Name\": \"Empoleon\", \"Type 1\": \"Water\", \"Total\": 530, \"HP\": 84, \"Attack\": 86, \"Defense\": 88, \"Sp. Atk\": 111, \"Sp. Def\": 101, \"Speed\": 60, \"Generation\": 4, \"Legendary\": false}, {\"#\": 396, \"Name\": \"Starly\", \"Type 1\": \"Normal\", \"Total\": 245, \"HP\": 40, \"Attack\": 55, \"Defense\": 30, \"Sp. Atk\": 30, \"Sp. Def\": 30, \"Speed\": 60, \"Generation\": 4, \"Legendary\": false}, {\"#\": 397, \"Name\": \"Staravia\", \"Type 1\": \"Normal\", \"Total\": 340, \"HP\": 55, \"Attack\": 75, \"Defense\": 50, \"Sp. Atk\": 40, \"Sp. Def\": 40, \"Speed\": 80, \"Generation\": 4, \"Legendary\": false}, {\"#\": 398, \"Name\": \"Staraptor\", \"Type 1\": \"Normal\", \"Total\": 485, \"HP\": 85, \"Attack\": 120, \"Defense\": 70, \"Sp. Atk\": 50, \"Sp. Def\": 60, \"Speed\": 100, \"Generation\": 4, \"Legendary\": false}, {\"#\": 399, \"Name\": \"Bidoof\", \"Type 1\": \"Normal\", \"Total\": 250, \"HP\": 59, \"Attack\": 45, \"Defense\": 40, \"Sp. Atk\": 35, \"Sp. Def\": 40, \"Speed\": 31, \"Generation\": 4, \"Legendary\": false}, {\"#\": 400, \"Name\": \"Bibarel\", \"Type 1\": \"Normal\", \"Total\": 410, \"HP\": 79, \"Attack\": 85, \"Defense\": 60, \"Sp. Atk\": 55, \"Sp. Def\": 60, \"Speed\": 71, \"Generation\": 4, \"Legendary\": false}, {\"#\": 401, \"Name\": \"Kricketot\", \"Type 1\": \"Bug\", \"Total\": 194, \"HP\": 37, \"Attack\": 25, \"Defense\": 41, \"Sp. Atk\": 25, \"Sp. Def\": 41, \"Speed\": 25, \"Generation\": 4, \"Legendary\": false}, {\"#\": 402, \"Name\": \"Kricketune\", \"Type 1\": \"Bug\", \"Total\": 384, \"HP\": 77, \"Attack\": 85, \"Defense\": 51, \"Sp. Atk\": 55, \"Sp. Def\": 51, \"Speed\": 65, \"Generation\": 4, \"Legendary\": false}, {\"#\": 403, \"Name\": \"Shinx\", \"Type 1\": \"Electric\", \"Total\": 263, \"HP\": 45, \"Attack\": 65, \"Defense\": 34, \"Sp. Atk\": 40, \"Sp. Def\": 34, \"Speed\": 45, \"Generation\": 4, \"Legendary\": false}, {\"#\": 404, \"Name\": \"Luxio\", \"Type 1\": \"Electric\", \"Total\": 363, \"HP\": 60, \"Attack\": 85, \"Defense\": 49, \"Sp. Atk\": 60, \"Sp. Def\": 49, \"Speed\": 60, \"Generation\": 4, \"Legendary\": false}, {\"#\": 405, \"Name\": \"Luxray\", \"Type 1\": \"Electric\", \"Total\": 523, \"HP\": 80, \"Attack\": 120, \"Defense\": 79, \"Sp. Atk\": 95, \"Sp. Def\": 79, \"Speed\": 70, \"Generation\": 4, \"Legendary\": false}, {\"#\": 406, \"Name\": \"Budew\", \"Type 1\": \"Grass\", \"Total\": 280, \"HP\": 40, \"Attack\": 30, \"Defense\": 35, \"Sp. Atk\": 50, \"Sp. Def\": 70, \"Speed\": 55, \"Generation\": 4, \"Legendary\": false}, {\"#\": 407, \"Name\": \"Roserade\", \"Type 1\": \"Grass\", \"Total\": 515, \"HP\": 60, \"Attack\": 70, \"Defense\": 65, \"Sp. Atk\": 125, \"Sp. Def\": 105, \"Speed\": 90, \"Generation\": 4, \"Legendary\": false}, {\"#\": 408, \"Name\": \"Cranidos\", \"Type 1\": \"Rock\", \"Total\": 350, \"HP\": 67, \"Attack\": 125, \"Defense\": 40, \"Sp. Atk\": 30, \"Sp. Def\": 30, \"Speed\": 58, \"Generation\": 4, \"Legendary\": false}, {\"#\": 409, \"Name\": \"Rampardos\", \"Type 1\": \"Rock\", \"Total\": 495, \"HP\": 97, \"Attack\": 165, \"Defense\": 60, \"Sp. Atk\": 65, \"Sp. Def\": 50, \"Speed\": 58, \"Generation\": 4, \"Legendary\": false}, {\"#\": 410, \"Name\": \"Shieldon\", \"Type 1\": \"Rock\", \"Total\": 350, \"HP\": 30, \"Attack\": 42, \"Defense\": 118, \"Sp. Atk\": 42, \"Sp. Def\": 88, \"Speed\": 30, \"Generation\": 4, \"Legendary\": false}, {\"#\": 411, \"Name\": \"Bastiodon\", \"Type 1\": \"Rock\", \"Total\": 495, \"HP\": 60, \"Attack\": 52, \"Defense\": 168, \"Sp. Atk\": 47, \"Sp. Def\": 138, \"Speed\": 30, \"Generation\": 4, \"Legendary\": false}, {\"#\": 412, \"Name\": \"Burmy\", \"Type 1\": \"Bug\", \"Total\": 224, \"HP\": 40, \"Attack\": 29, \"Defense\": 45, \"Sp. Atk\": 29, \"Sp. Def\": 45, \"Speed\": 36, \"Generation\": 4, \"Legendary\": false}, {\"#\": 413, \"Name\": \"WormadamPlant Cloak\", \"Type 1\": \"Bug\", \"Total\": 424, \"HP\": 60, \"Attack\": 59, \"Defense\": 85, \"Sp. Atk\": 79, \"Sp. Def\": 105, \"Speed\": 36, \"Generation\": 4, \"Legendary\": false}, {\"#\": 413, \"Name\": \"WormadamSandy Cloak\", \"Type 1\": \"Bug\", \"Total\": 424, \"HP\": 60, \"Attack\": 79, \"Defense\": 105, \"Sp. Atk\": 59, \"Sp. Def\": 85, \"Speed\": 36, \"Generation\": 4, \"Legendary\": false}, {\"#\": 413, \"Name\": \"WormadamTrash Cloak\", \"Type 1\": \"Bug\", \"Total\": 424, \"HP\": 60, \"Attack\": 69, \"Defense\": 95, \"Sp. Atk\": 69, \"Sp. Def\": 95, \"Speed\": 36, \"Generation\": 4, \"Legendary\": false}, {\"#\": 414, \"Name\": \"Mothim\", \"Type 1\": \"Bug\", \"Total\": 424, \"HP\": 70, \"Attack\": 94, \"Defense\": 50, \"Sp. Atk\": 94, \"Sp. Def\": 50, \"Speed\": 66, \"Generation\": 4, \"Legendary\": false}, {\"#\": 415, \"Name\": \"Combee\", \"Type 1\": \"Bug\", \"Total\": 244, \"HP\": 30, \"Attack\": 30, \"Defense\": 42, \"Sp. Atk\": 30, \"Sp. Def\": 42, \"Speed\": 70, \"Generation\": 4, \"Legendary\": false}, {\"#\": 416, \"Name\": \"Vespiquen\", \"Type 1\": \"Bug\", \"Total\": 474, \"HP\": 70, \"Attack\": 80, \"Defense\": 102, \"Sp. Atk\": 80, \"Sp. Def\": 102, \"Speed\": 40, \"Generation\": 4, \"Legendary\": false}, {\"#\": 417, \"Name\": \"Pachirisu\", \"Type 1\": \"Electric\", \"Total\": 405, \"HP\": 60, \"Attack\": 45, \"Defense\": 70, \"Sp. Atk\": 45, \"Sp. Def\": 90, \"Speed\": 95, \"Generation\": 4, \"Legendary\": false}, {\"#\": 418, \"Name\": \"Buizel\", \"Type 1\": \"Water\", \"Total\": 330, \"HP\": 55, \"Attack\": 65, \"Defense\": 35, \"Sp. Atk\": 60, \"Sp. Def\": 30, \"Speed\": 85, \"Generation\": 4, \"Legendary\": false}, {\"#\": 419, \"Name\": \"Floatzel\", \"Type 1\": \"Water\", \"Total\": 495, \"HP\": 85, \"Attack\": 105, \"Defense\": 55, \"Sp. Atk\": 85, \"Sp. Def\": 50, \"Speed\": 115, \"Generation\": 4, \"Legendary\": false}, {\"#\": 420, \"Name\": \"Cherubi\", \"Type 1\": \"Grass\", \"Total\": 275, \"HP\": 45, \"Attack\": 35, \"Defense\": 45, \"Sp. Atk\": 62, \"Sp. Def\": 53, \"Speed\": 35, \"Generation\": 4, \"Legendary\": false}, {\"#\": 421, \"Name\": \"Cherrim\", \"Type 1\": \"Grass\", \"Total\": 450, \"HP\": 70, \"Attack\": 60, \"Defense\": 70, \"Sp. Atk\": 87, \"Sp. Def\": 78, \"Speed\": 85, \"Generation\": 4, \"Legendary\": false}, {\"#\": 422, \"Name\": \"Shellos\", \"Type 1\": \"Water\", \"Total\": 325, \"HP\": 76, \"Attack\": 48, \"Defense\": 48, \"Sp. Atk\": 57, \"Sp. Def\": 62, \"Speed\": 34, \"Generation\": 4, \"Legendary\": false}, {\"#\": 423, \"Name\": \"Gastrodon\", \"Type 1\": \"Water\", \"Total\": 475, \"HP\": 111, \"Attack\": 83, \"Defense\": 68, \"Sp. Atk\": 92, \"Sp. Def\": 82, \"Speed\": 39, \"Generation\": 4, \"Legendary\": false}, {\"#\": 424, \"Name\": \"Ambipom\", \"Type 1\": \"Normal\", \"Total\": 482, \"HP\": 75, \"Attack\": 100, \"Defense\": 66, \"Sp. Atk\": 60, \"Sp. Def\": 66, \"Speed\": 115, \"Generation\": 4, \"Legendary\": false}, {\"#\": 425, \"Name\": \"Drifloon\", \"Type 1\": \"Ghost\", \"Total\": 348, \"HP\": 90, \"Attack\": 50, \"Defense\": 34, \"Sp. Atk\": 60, \"Sp. Def\": 44, \"Speed\": 70, \"Generation\": 4, \"Legendary\": false}, {\"#\": 426, \"Name\": \"Drifblim\", \"Type 1\": \"Ghost\", \"Total\": 498, \"HP\": 150, \"Attack\": 80, \"Defense\": 44, \"Sp. Atk\": 90, \"Sp. Def\": 54, \"Speed\": 80, \"Generation\": 4, \"Legendary\": false}, {\"#\": 427, \"Name\": \"Buneary\", \"Type 1\": \"Normal\", \"Total\": 350, \"HP\": 55, \"Attack\": 66, \"Defense\": 44, \"Sp. Atk\": 44, \"Sp. Def\": 56, \"Speed\": 85, \"Generation\": 4, \"Legendary\": false}, {\"#\": 428, \"Name\": \"Lopunny\", \"Type 1\": \"Normal\", \"Total\": 480, \"HP\": 65, \"Attack\": 76, \"Defense\": 84, \"Sp. Atk\": 54, \"Sp. Def\": 96, \"Speed\": 105, \"Generation\": 4, \"Legendary\": false}, {\"#\": 428, \"Name\": \"LopunnyMega Lopunny\", \"Type 1\": \"Normal\", \"Total\": 580, \"HP\": 65, \"Attack\": 136, \"Defense\": 94, \"Sp. Atk\": 54, \"Sp. Def\": 96, \"Speed\": 135, \"Generation\": 4, \"Legendary\": false}, {\"#\": 429, \"Name\": \"Mismagius\", \"Type 1\": \"Ghost\", \"Total\": 495, \"HP\": 60, \"Attack\": 60, \"Defense\": 60, \"Sp. Atk\": 105, \"Sp. Def\": 105, \"Speed\": 105, \"Generation\": 4, \"Legendary\": false}, {\"#\": 430, \"Name\": \"Honchkrow\", \"Type 1\": \"Dark\", \"Total\": 505, \"HP\": 100, \"Attack\": 125, \"Defense\": 52, \"Sp. Atk\": 105, \"Sp. Def\": 52, \"Speed\": 71, \"Generation\": 4, \"Legendary\": false}, {\"#\": 431, \"Name\": \"Glameow\", \"Type 1\": \"Normal\", \"Total\": 310, \"HP\": 49, \"Attack\": 55, \"Defense\": 42, \"Sp. Atk\": 42, \"Sp. Def\": 37, \"Speed\": 85, \"Generation\": 4, \"Legendary\": false}, {\"#\": 432, \"Name\": \"Purugly\", \"Type 1\": \"Normal\", \"Total\": 452, \"HP\": 71, \"Attack\": 82, \"Defense\": 64, \"Sp. Atk\": 64, \"Sp. Def\": 59, \"Speed\": 112, \"Generation\": 4, \"Legendary\": false}, {\"#\": 433, \"Name\": \"Chingling\", \"Type 1\": \"Psychic\", \"Total\": 285, \"HP\": 45, \"Attack\": 30, \"Defense\": 50, \"Sp. Atk\": 65, \"Sp. Def\": 50, \"Speed\": 45, \"Generation\": 4, \"Legendary\": false}, {\"#\": 434, \"Name\": \"Stunky\", \"Type 1\": \"Poison\", \"Total\": 329, \"HP\": 63, \"Attack\": 63, \"Defense\": 47, \"Sp. Atk\": 41, \"Sp. Def\": 41, \"Speed\": 74, \"Generation\": 4, \"Legendary\": false}, {\"#\": 435, \"Name\": \"Skuntank\", \"Type 1\": \"Poison\", \"Total\": 479, \"HP\": 103, \"Attack\": 93, \"Defense\": 67, \"Sp. Atk\": 71, \"Sp. Def\": 61, \"Speed\": 84, \"Generation\": 4, \"Legendary\": false}, {\"#\": 436, \"Name\": \"Bronzor\", \"Type 1\": \"Steel\", \"Total\": 300, \"HP\": 57, \"Attack\": 24, \"Defense\": 86, \"Sp. Atk\": 24, \"Sp. Def\": 86, \"Speed\": 23, \"Generation\": 4, \"Legendary\": false}, {\"#\": 437, \"Name\": \"Bronzong\", \"Type 1\": \"Steel\", \"Total\": 500, \"HP\": 67, \"Attack\": 89, \"Defense\": 116, \"Sp. Atk\": 79, \"Sp. Def\": 116, \"Speed\": 33, \"Generation\": 4, \"Legendary\": false}, {\"#\": 438, \"Name\": \"Bonsly\", \"Type 1\": \"Rock\", \"Total\": 290, \"HP\": 50, \"Attack\": 80, \"Defense\": 95, \"Sp. Atk\": 10, \"Sp. Def\": 45, \"Speed\": 10, \"Generation\": 4, \"Legendary\": false}, {\"#\": 439, \"Name\": \"Mime Jr.\", \"Type 1\": \"Psychic\", \"Total\": 310, \"HP\": 20, \"Attack\": 25, \"Defense\": 45, \"Sp. Atk\": 70, \"Sp. Def\": 90, \"Speed\": 60, \"Generation\": 4, \"Legendary\": false}, {\"#\": 440, \"Name\": \"Happiny\", \"Type 1\": \"Normal\", \"Total\": 220, \"HP\": 100, \"Attack\": 5, \"Defense\": 5, \"Sp. Atk\": 15, \"Sp. Def\": 65, \"Speed\": 30, \"Generation\": 4, \"Legendary\": false}, {\"#\": 441, \"Name\": \"Chatot\", \"Type 1\": \"Normal\", \"Total\": 411, \"HP\": 76, \"Attack\": 65, \"Defense\": 45, \"Sp. Atk\": 92, \"Sp. Def\": 42, \"Speed\": 91, \"Generation\": 4, \"Legendary\": false}, {\"#\": 442, \"Name\": \"Spiritomb\", \"Type 1\": \"Ghost\", \"Total\": 485, \"HP\": 50, \"Attack\": 92, \"Defense\": 108, \"Sp. Atk\": 92, \"Sp. Def\": 108, \"Speed\": 35, \"Generation\": 4, \"Legendary\": false}, {\"#\": 443, \"Name\": \"Gible\", \"Type 1\": \"Dragon\", \"Total\": 300, \"HP\": 58, \"Attack\": 70, \"Defense\": 45, \"Sp. Atk\": 40, \"Sp. Def\": 45, \"Speed\": 42, \"Generation\": 4, \"Legendary\": false}, {\"#\": 444, \"Name\": \"Gabite\", \"Type 1\": \"Dragon\", \"Total\": 410, \"HP\": 68, \"Attack\": 90, \"Defense\": 65, \"Sp. Atk\": 50, \"Sp. Def\": 55, \"Speed\": 82, \"Generation\": 4, \"Legendary\": false}, {\"#\": 445, \"Name\": \"Garchomp\", \"Type 1\": \"Dragon\", \"Total\": 600, \"HP\": 108, \"Attack\": 130, \"Defense\": 95, \"Sp. Atk\": 80, \"Sp. Def\": 85, \"Speed\": 102, \"Generation\": 4, \"Legendary\": false}, {\"#\": 445, \"Name\": \"GarchompMega Garchomp\", \"Type 1\": \"Dragon\", \"Total\": 700, \"HP\": 108, \"Attack\": 170, \"Defense\": 115, \"Sp. Atk\": 120, \"Sp. Def\": 95, \"Speed\": 92, \"Generation\": 4, \"Legendary\": false}, {\"#\": 446, \"Name\": \"Munchlax\", \"Type 1\": \"Normal\", \"Total\": 390, \"HP\": 135, \"Attack\": 85, \"Defense\": 40, \"Sp. Atk\": 40, \"Sp. Def\": 85, \"Speed\": 5, \"Generation\": 4, \"Legendary\": false}, {\"#\": 447, \"Name\": \"Riolu\", \"Type 1\": \"Fighting\", \"Total\": 285, \"HP\": 40, \"Attack\": 70, \"Defense\": 40, \"Sp. Atk\": 35, \"Sp. Def\": 40, \"Speed\": 60, \"Generation\": 4, \"Legendary\": false}, {\"#\": 448, \"Name\": \"Lucario\", \"Type 1\": \"Fighting\", \"Total\": 525, \"HP\": 70, \"Attack\": 110, \"Defense\": 70, \"Sp. Atk\": 115, \"Sp. Def\": 70, \"Speed\": 90, \"Generation\": 4, \"Legendary\": false}, {\"#\": 448, \"Name\": \"LucarioMega Lucario\", \"Type 1\": \"Fighting\", \"Total\": 625, \"HP\": 70, \"Attack\": 145, \"Defense\": 88, \"Sp. Atk\": 140, \"Sp. Def\": 70, \"Speed\": 112, \"Generation\": 4, \"Legendary\": false}, {\"#\": 449, \"Name\": \"Hippopotas\", \"Type 1\": \"Ground\", \"Total\": 330, \"HP\": 68, \"Attack\": 72, \"Defense\": 78, \"Sp. Atk\": 38, \"Sp. Def\": 42, \"Speed\": 32, \"Generation\": 4, \"Legendary\": false}, {\"#\": 450, \"Name\": \"Hippowdon\", \"Type 1\": \"Ground\", \"Total\": 525, \"HP\": 108, \"Attack\": 112, \"Defense\": 118, \"Sp. Atk\": 68, \"Sp. Def\": 72, \"Speed\": 47, \"Generation\": 4, \"Legendary\": false}, {\"#\": 451, \"Name\": \"Skorupi\", \"Type 1\": \"Poison\", \"Total\": 330, \"HP\": 40, \"Attack\": 50, \"Defense\": 90, \"Sp. Atk\": 30, \"Sp. Def\": 55, \"Speed\": 65, \"Generation\": 4, \"Legendary\": false}, {\"#\": 452, \"Name\": \"Drapion\", \"Type 1\": \"Poison\", \"Total\": 500, \"HP\": 70, \"Attack\": 90, \"Defense\": 110, \"Sp. Atk\": 60, \"Sp. Def\": 75, \"Speed\": 95, \"Generation\": 4, \"Legendary\": false}, {\"#\": 453, \"Name\": \"Croagunk\", \"Type 1\": \"Poison\", \"Total\": 300, \"HP\": 48, \"Attack\": 61, \"Defense\": 40, \"Sp. Atk\": 61, \"Sp. Def\": 40, \"Speed\": 50, \"Generation\": 4, \"Legendary\": false}, {\"#\": 454, \"Name\": \"Toxicroak\", \"Type 1\": \"Poison\", \"Total\": 490, \"HP\": 83, \"Attack\": 106, \"Defense\": 65, \"Sp. Atk\": 86, \"Sp. Def\": 65, \"Speed\": 85, \"Generation\": 4, \"Legendary\": false}, {\"#\": 455, \"Name\": \"Carnivine\", \"Type 1\": \"Grass\", \"Total\": 454, \"HP\": 74, \"Attack\": 100, \"Defense\": 72, \"Sp. Atk\": 90, \"Sp. Def\": 72, \"Speed\": 46, \"Generation\": 4, \"Legendary\": false}, {\"#\": 456, \"Name\": \"Finneon\", \"Type 1\": \"Water\", \"Total\": 330, \"HP\": 49, \"Attack\": 49, \"Defense\": 56, \"Sp. Atk\": 49, \"Sp. Def\": 61, \"Speed\": 66, \"Generation\": 4, \"Legendary\": false}, {\"#\": 457, \"Name\": \"Lumineon\", \"Type 1\": \"Water\", \"Total\": 460, \"HP\": 69, \"Attack\": 69, \"Defense\": 76, \"Sp. Atk\": 69, \"Sp. Def\": 86, \"Speed\": 91, \"Generation\": 4, \"Legendary\": false}, {\"#\": 458, \"Name\": \"Mantyke\", \"Type 1\": \"Water\", \"Total\": 345, \"HP\": 45, \"Attack\": 20, \"Defense\": 50, \"Sp. Atk\": 60, \"Sp. Def\": 120, \"Speed\": 50, \"Generation\": 4, \"Legendary\": false}, {\"#\": 459, \"Name\": \"Snover\", \"Type 1\": \"Grass\", \"Total\": 334, \"HP\": 60, \"Attack\": 62, \"Defense\": 50, \"Sp. Atk\": 62, \"Sp. Def\": 60, \"Speed\": 40, \"Generation\": 4, \"Legendary\": false}, {\"#\": 460, \"Name\": \"Abomasnow\", \"Type 1\": \"Grass\", \"Total\": 494, \"HP\": 90, \"Attack\": 92, \"Defense\": 75, \"Sp. Atk\": 92, \"Sp. Def\": 85, \"Speed\": 60, \"Generation\": 4, \"Legendary\": false}, {\"#\": 460, \"Name\": \"AbomasnowMega Abomasnow\", \"Type 1\": \"Grass\", \"Total\": 594, \"HP\": 90, \"Attack\": 132, \"Defense\": 105, \"Sp. Atk\": 132, \"Sp. Def\": 105, \"Speed\": 30, \"Generation\": 4, \"Legendary\": false}, {\"#\": 461, \"Name\": \"Weavile\", \"Type 1\": \"Dark\", \"Total\": 510, \"HP\": 70, \"Attack\": 120, \"Defense\": 65, \"Sp. Atk\": 45, \"Sp. Def\": 85, \"Speed\": 125, \"Generation\": 4, \"Legendary\": false}, {\"#\": 462, \"Name\": \"Magnezone\", \"Type 1\": \"Electric\", \"Total\": 535, \"HP\": 70, \"Attack\": 70, \"Defense\": 115, \"Sp. Atk\": 130, \"Sp. Def\": 90, \"Speed\": 60, \"Generation\": 4, \"Legendary\": false}, {\"#\": 463, \"Name\": \"Lickilicky\", \"Type 1\": \"Normal\", \"Total\": 515, \"HP\": 110, \"Attack\": 85, \"Defense\": 95, \"Sp. Atk\": 80, \"Sp. Def\": 95, \"Speed\": 50, \"Generation\": 4, \"Legendary\": false}, {\"#\": 464, \"Name\": \"Rhyperior\", \"Type 1\": \"Ground\", \"Total\": 535, \"HP\": 115, \"Attack\": 140, \"Defense\": 130, \"Sp. Atk\": 55, \"Sp. Def\": 55, \"Speed\": 40, \"Generation\": 4, \"Legendary\": false}, {\"#\": 465, \"Name\": \"Tangrowth\", \"Type 1\": \"Grass\", \"Total\": 535, \"HP\": 100, \"Attack\": 100, \"Defense\": 125, \"Sp. Atk\": 110, \"Sp. Def\": 50, \"Speed\": 50, \"Generation\": 4, \"Legendary\": false}, {\"#\": 466, \"Name\": \"Electivire\", \"Type 1\": \"Electric\", \"Total\": 540, \"HP\": 75, \"Attack\": 123, \"Defense\": 67, \"Sp. Atk\": 95, \"Sp. Def\": 85, \"Speed\": 95, \"Generation\": 4, \"Legendary\": false}, {\"#\": 467, \"Name\": \"Magmortar\", \"Type 1\": \"Fire\", \"Total\": 540, \"HP\": 75, \"Attack\": 95, \"Defense\": 67, \"Sp. Atk\": 125, \"Sp. Def\": 95, \"Speed\": 83, \"Generation\": 4, \"Legendary\": false}, {\"#\": 468, \"Name\": \"Togekiss\", \"Type 1\": \"Fairy\", \"Total\": 545, \"HP\": 85, \"Attack\": 50, \"Defense\": 95, \"Sp. Atk\": 120, \"Sp. Def\": 115, \"Speed\": 80, \"Generation\": 4, \"Legendary\": false}, {\"#\": 469, \"Name\": \"Yanmega\", \"Type 1\": \"Bug\", \"Total\": 515, \"HP\": 86, \"Attack\": 76, \"Defense\": 86, \"Sp. Atk\": 116, \"Sp. Def\": 56, \"Speed\": 95, \"Generation\": 4, \"Legendary\": false}, {\"#\": 470, \"Name\": \"Leafeon\", \"Type 1\": \"Grass\", \"Total\": 525, \"HP\": 65, \"Attack\": 110, \"Defense\": 130, \"Sp. Atk\": 60, \"Sp. Def\": 65, \"Speed\": 95, \"Generation\": 4, \"Legendary\": false}, {\"#\": 471, \"Name\": \"Glaceon\", \"Type 1\": \"Ice\", \"Total\": 525, \"HP\": 65, \"Attack\": 60, \"Defense\": 110, \"Sp. Atk\": 130, \"Sp. Def\": 95, \"Speed\": 65, \"Generation\": 4, \"Legendary\": false}, {\"#\": 472, \"Name\": \"Gliscor\", \"Type 1\": \"Ground\", \"Total\": 510, \"HP\": 75, \"Attack\": 95, \"Defense\": 125, \"Sp. Atk\": 45, \"Sp. Def\": 75, \"Speed\": 95, \"Generation\": 4, \"Legendary\": false}, {\"#\": 473, \"Name\": \"Mamoswine\", \"Type 1\": \"Ice\", \"Total\": 530, \"HP\": 110, \"Attack\": 130, \"Defense\": 80, \"Sp. Atk\": 70, \"Sp. Def\": 60, \"Speed\": 80, \"Generation\": 4, \"Legendary\": false}, {\"#\": 474, \"Name\": \"Porygon-Z\", \"Type 1\": \"Normal\", \"Total\": 535, \"HP\": 85, \"Attack\": 80, \"Defense\": 70, \"Sp. Atk\": 135, \"Sp. Def\": 75, \"Speed\": 90, \"Generation\": 4, \"Legendary\": false}, {\"#\": 475, \"Name\": \"Gallade\", \"Type 1\": \"Psychic\", \"Total\": 518, \"HP\": 68, \"Attack\": 125, \"Defense\": 65, \"Sp. Atk\": 65, \"Sp. Def\": 115, \"Speed\": 80, \"Generation\": 4, \"Legendary\": false}, {\"#\": 475, \"Name\": \"GalladeMega Gallade\", \"Type 1\": \"Psychic\", \"Total\": 618, \"HP\": 68, \"Attack\": 165, \"Defense\": 95, \"Sp. Atk\": 65, \"Sp. Def\": 115, \"Speed\": 110, \"Generation\": 4, \"Legendary\": false}, {\"#\": 476, \"Name\": \"Probopass\", \"Type 1\": \"Rock\", \"Total\": 525, \"HP\": 60, \"Attack\": 55, \"Defense\": 145, \"Sp. Atk\": 75, \"Sp. Def\": 150, \"Speed\": 40, \"Generation\": 4, \"Legendary\": false}, {\"#\": 477, \"Name\": \"Dusknoir\", \"Type 1\": \"Ghost\", \"Total\": 525, \"HP\": 45, \"Attack\": 100, \"Defense\": 135, \"Sp. Atk\": 65, \"Sp. Def\": 135, \"Speed\": 45, \"Generation\": 4, \"Legendary\": false}, {\"#\": 478, \"Name\": \"Froslass\", \"Type 1\": \"Ice\", \"Total\": 480, \"HP\": 70, \"Attack\": 80, \"Defense\": 70, \"Sp. Atk\": 80, \"Sp. Def\": 70, \"Speed\": 110, \"Generation\": 4, \"Legendary\": false}, {\"#\": 479, \"Name\": \"Rotom\", \"Type 1\": \"Electric\", \"Total\": 440, \"HP\": 50, \"Attack\": 50, \"Defense\": 77, \"Sp. Atk\": 95, \"Sp. Def\": 77, \"Speed\": 91, \"Generation\": 4, \"Legendary\": false}, {\"#\": 479, \"Name\": \"RotomHeat Rotom\", \"Type 1\": \"Electric\", \"Total\": 520, \"HP\": 50, \"Attack\": 65, \"Defense\": 107, \"Sp. Atk\": 105, \"Sp. Def\": 107, \"Speed\": 86, \"Generation\": 4, \"Legendary\": false}, {\"#\": 479, \"Name\": \"RotomWash Rotom\", \"Type 1\": \"Electric\", \"Total\": 520, \"HP\": 50, \"Attack\": 65, \"Defense\": 107, \"Sp. Atk\": 105, \"Sp. Def\": 107, \"Speed\": 86, \"Generation\": 4, \"Legendary\": false}, {\"#\": 479, \"Name\": \"RotomFrost Rotom\", \"Type 1\": \"Electric\", \"Total\": 520, \"HP\": 50, \"Attack\": 65, \"Defense\": 107, \"Sp. Atk\": 105, \"Sp. Def\": 107, \"Speed\": 86, \"Generation\": 4, \"Legendary\": false}, {\"#\": 479, \"Name\": \"RotomFan Rotom\", \"Type 1\": \"Electric\", \"Total\": 520, \"HP\": 50, \"Attack\": 65, \"Defense\": 107, \"Sp. Atk\": 105, \"Sp. Def\": 107, \"Speed\": 86, \"Generation\": 4, \"Legendary\": false}, {\"#\": 479, \"Name\": \"RotomMow Rotom\", \"Type 1\": \"Electric\", \"Total\": 520, \"HP\": 50, \"Attack\": 65, \"Defense\": 107, \"Sp. Atk\": 105, \"Sp. Def\": 107, \"Speed\": 86, \"Generation\": 4, \"Legendary\": false}, {\"#\": 480, \"Name\": \"Uxie\", \"Type 1\": \"Psychic\", \"Total\": 580, \"HP\": 75, \"Attack\": 75, \"Defense\": 130, \"Sp. Atk\": 75, \"Sp. Def\": 130, \"Speed\": 95, \"Generation\": 4, \"Legendary\": true}, {\"#\": 481, \"Name\": \"Mesprit\", \"Type 1\": \"Psychic\", \"Total\": 580, \"HP\": 80, \"Attack\": 105, \"Defense\": 105, \"Sp. Atk\": 105, \"Sp. Def\": 105, \"Speed\": 80, \"Generation\": 4, \"Legendary\": true}, {\"#\": 482, \"Name\": \"Azelf\", \"Type 1\": \"Psychic\", \"Total\": 580, \"HP\": 75, \"Attack\": 125, \"Defense\": 70, \"Sp. Atk\": 125, \"Sp. Def\": 70, \"Speed\": 115, \"Generation\": 4, \"Legendary\": true}, {\"#\": 483, \"Name\": \"Dialga\", \"Type 1\": \"Steel\", \"Total\": 680, \"HP\": 100, \"Attack\": 120, \"Defense\": 120, \"Sp. Atk\": 150, \"Sp. Def\": 100, \"Speed\": 90, \"Generation\": 4, \"Legendary\": true}, {\"#\": 484, \"Name\": \"Palkia\", \"Type 1\": \"Water\", \"Total\": 680, \"HP\": 90, \"Attack\": 120, \"Defense\": 100, \"Sp. Atk\": 150, \"Sp. Def\": 120, \"Speed\": 100, \"Generation\": 4, \"Legendary\": true}, {\"#\": 485, \"Name\": \"Heatran\", \"Type 1\": \"Fire\", \"Total\": 600, \"HP\": 91, \"Attack\": 90, \"Defense\": 106, \"Sp. Atk\": 130, \"Sp. Def\": 106, \"Speed\": 77, \"Generation\": 4, \"Legendary\": true}, {\"#\": 486, \"Name\": \"Regigigas\", \"Type 1\": \"Normal\", \"Total\": 670, \"HP\": 110, \"Attack\": 160, \"Defense\": 110, \"Sp. Atk\": 80, \"Sp. Def\": 110, \"Speed\": 100, \"Generation\": 4, \"Legendary\": true}, {\"#\": 487, \"Name\": \"GiratinaAltered Forme\", \"Type 1\": \"Ghost\", \"Total\": 680, \"HP\": 150, \"Attack\": 100, \"Defense\": 120, \"Sp. Atk\": 100, \"Sp. Def\": 120, \"Speed\": 90, \"Generation\": 4, \"Legendary\": true}, {\"#\": 487, \"Name\": \"GiratinaOrigin Forme\", \"Type 1\": \"Ghost\", \"Total\": 680, \"HP\": 150, \"Attack\": 120, \"Defense\": 100, \"Sp. Atk\": 120, \"Sp. Def\": 100, \"Speed\": 90, \"Generation\": 4, \"Legendary\": true}, {\"#\": 488, \"Name\": \"Cresselia\", \"Type 1\": \"Psychic\", \"Total\": 600, \"HP\": 120, \"Attack\": 70, \"Defense\": 120, \"Sp. Atk\": 75, \"Sp. Def\": 130, \"Speed\": 85, \"Generation\": 4, \"Legendary\": false}, {\"#\": 489, \"Name\": \"Phione\", \"Type 1\": \"Water\", \"Total\": 480, \"HP\": 80, \"Attack\": 80, \"Defense\": 80, \"Sp. Atk\": 80, \"Sp. Def\": 80, \"Speed\": 80, \"Generation\": 4, \"Legendary\": false}, {\"#\": 490, \"Name\": \"Manaphy\", \"Type 1\": \"Water\", \"Total\": 600, \"HP\": 100, \"Attack\": 100, \"Defense\": 100, \"Sp. Atk\": 100, \"Sp. Def\": 100, \"Speed\": 100, \"Generation\": 4, \"Legendary\": false}, {\"#\": 491, \"Name\": \"Darkrai\", \"Type 1\": \"Dark\", \"Total\": 600, \"HP\": 70, \"Attack\": 90, \"Defense\": 90, \"Sp. Atk\": 135, \"Sp. Def\": 90, \"Speed\": 125, \"Generation\": 4, \"Legendary\": true}, {\"#\": 492, \"Name\": \"ShayminLand Forme\", \"Type 1\": \"Grass\", \"Total\": 600, \"HP\": 100, \"Attack\": 100, \"Defense\": 100, \"Sp. Atk\": 100, \"Sp. Def\": 100, \"Speed\": 100, \"Generation\": 4, \"Legendary\": true}, {\"#\": 492, \"Name\": \"ShayminSky Forme\", \"Type 1\": \"Grass\", \"Total\": 600, \"HP\": 100, \"Attack\": 103, \"Defense\": 75, \"Sp. Atk\": 120, \"Sp. Def\": 75, \"Speed\": 127, \"Generation\": 4, \"Legendary\": true}, {\"#\": 493, \"Name\": \"Arceus\", \"Type 1\": \"Normal\", \"Total\": 720, \"HP\": 120, \"Attack\": 120, \"Defense\": 120, \"Sp. Atk\": 120, \"Sp. Def\": 120, \"Speed\": 120, \"Generation\": 4, \"Legendary\": true}, {\"#\": 494, \"Name\": \"Victini\", \"Type 1\": \"Psychic\", \"Total\": 600, \"HP\": 100, \"Attack\": 100, \"Defense\": 100, \"Sp. Atk\": 100, \"Sp. Def\": 100, \"Speed\": 100, \"Generation\": 5, \"Legendary\": true}, {\"#\": 495, \"Name\": \"Snivy\", \"Type 1\": \"Grass\", \"Total\": 308, \"HP\": 45, \"Attack\": 45, \"Defense\": 55, \"Sp. Atk\": 45, \"Sp. Def\": 55, \"Speed\": 63, \"Generation\": 5, \"Legendary\": false}, {\"#\": 496, \"Name\": \"Servine\", \"Type 1\": \"Grass\", \"Total\": 413, \"HP\": 60, \"Attack\": 60, \"Defense\": 75, \"Sp. Atk\": 60, \"Sp. Def\": 75, \"Speed\": 83, \"Generation\": 5, \"Legendary\": false}, {\"#\": 497, \"Name\": \"Serperior\", \"Type 1\": \"Grass\", \"Total\": 528, \"HP\": 75, \"Attack\": 75, \"Defense\": 95, \"Sp. Atk\": 75, \"Sp. Def\": 95, \"Speed\": 113, \"Generation\": 5, \"Legendary\": false}, {\"#\": 498, \"Name\": \"Tepig\", \"Type 1\": \"Fire\", \"Total\": 308, \"HP\": 65, \"Attack\": 63, \"Defense\": 45, \"Sp. Atk\": 45, \"Sp. Def\": 45, \"Speed\": 45, \"Generation\": 5, \"Legendary\": false}, {\"#\": 499, \"Name\": \"Pignite\", \"Type 1\": \"Fire\", \"Total\": 418, \"HP\": 90, \"Attack\": 93, \"Defense\": 55, \"Sp. Atk\": 70, \"Sp. Def\": 55, \"Speed\": 55, \"Generation\": 5, \"Legendary\": false}, {\"#\": 500, \"Name\": \"Emboar\", \"Type 1\": \"Fire\", \"Total\": 528, \"HP\": 110, \"Attack\": 123, \"Defense\": 65, \"Sp. Atk\": 100, \"Sp. Def\": 65, \"Speed\": 65, \"Generation\": 5, \"Legendary\": false}, {\"#\": 501, \"Name\": \"Oshawott\", \"Type 1\": \"Water\", \"Total\": 308, \"HP\": 55, \"Attack\": 55, \"Defense\": 45, \"Sp. Atk\": 63, \"Sp. Def\": 45, \"Speed\": 45, \"Generation\": 5, \"Legendary\": false}, {\"#\": 502, \"Name\": \"Dewott\", \"Type 1\": \"Water\", \"Total\": 413, \"HP\": 75, \"Attack\": 75, \"Defense\": 60, \"Sp. Atk\": 83, \"Sp. Def\": 60, \"Speed\": 60, \"Generation\": 5, \"Legendary\": false}, {\"#\": 503, \"Name\": \"Samurott\", \"Type 1\": \"Water\", \"Total\": 528, \"HP\": 95, \"Attack\": 100, \"Defense\": 85, \"Sp. Atk\": 108, \"Sp. Def\": 70, \"Speed\": 70, \"Generation\": 5, \"Legendary\": false}, {\"#\": 504, \"Name\": \"Patrat\", \"Type 1\": \"Normal\", \"Total\": 255, \"HP\": 45, \"Attack\": 55, \"Defense\": 39, \"Sp. Atk\": 35, \"Sp. Def\": 39, \"Speed\": 42, \"Generation\": 5, \"Legendary\": false}, {\"#\": 505, \"Name\": \"Watchog\", \"Type 1\": \"Normal\", \"Total\": 420, \"HP\": 60, \"Attack\": 85, \"Defense\": 69, \"Sp. Atk\": 60, \"Sp. Def\": 69, \"Speed\": 77, \"Generation\": 5, \"Legendary\": false}, {\"#\": 506, \"Name\": \"Lillipup\", \"Type 1\": \"Normal\", \"Total\": 275, \"HP\": 45, \"Attack\": 60, \"Defense\": 45, \"Sp. Atk\": 25, \"Sp. Def\": 45, \"Speed\": 55, \"Generation\": 5, \"Legendary\": false}, {\"#\": 507, \"Name\": \"Herdier\", \"Type 1\": \"Normal\", \"Total\": 370, \"HP\": 65, \"Attack\": 80, \"Defense\": 65, \"Sp. Atk\": 35, \"Sp. Def\": 65, \"Speed\": 60, \"Generation\": 5, \"Legendary\": false}, {\"#\": 508, \"Name\": \"Stoutland\", \"Type 1\": \"Normal\", \"Total\": 500, \"HP\": 85, \"Attack\": 110, \"Defense\": 90, \"Sp. Atk\": 45, \"Sp. Def\": 90, \"Speed\": 80, \"Generation\": 5, \"Legendary\": false}, {\"#\": 509, \"Name\": \"Purrloin\", \"Type 1\": \"Dark\", \"Total\": 281, \"HP\": 41, \"Attack\": 50, \"Defense\": 37, \"Sp. Atk\": 50, \"Sp. Def\": 37, \"Speed\": 66, \"Generation\": 5, \"Legendary\": false}, {\"#\": 510, \"Name\": \"Liepard\", \"Type 1\": \"Dark\", \"Total\": 446, \"HP\": 64, \"Attack\": 88, \"Defense\": 50, \"Sp. Atk\": 88, \"Sp. Def\": 50, \"Speed\": 106, \"Generation\": 5, \"Legendary\": false}, {\"#\": 511, \"Name\": \"Pansage\", \"Type 1\": \"Grass\", \"Total\": 316, \"HP\": 50, \"Attack\": 53, \"Defense\": 48, \"Sp. Atk\": 53, \"Sp. Def\": 48, \"Speed\": 64, \"Generation\": 5, \"Legendary\": false}, {\"#\": 512, \"Name\": \"Simisage\", \"Type 1\": \"Grass\", \"Total\": 498, \"HP\": 75, \"Attack\": 98, \"Defense\": 63, \"Sp. Atk\": 98, \"Sp. Def\": 63, \"Speed\": 101, \"Generation\": 5, \"Legendary\": false}, {\"#\": 513, \"Name\": \"Pansear\", \"Type 1\": \"Fire\", \"Total\": 316, \"HP\": 50, \"Attack\": 53, \"Defense\": 48, \"Sp. Atk\": 53, \"Sp. Def\": 48, \"Speed\": 64, \"Generation\": 5, \"Legendary\": false}, {\"#\": 514, \"Name\": \"Simisear\", \"Type 1\": \"Fire\", \"Total\": 498, \"HP\": 75, \"Attack\": 98, \"Defense\": 63, \"Sp. Atk\": 98, \"Sp. Def\": 63, \"Speed\": 101, \"Generation\": 5, \"Legendary\": false}, {\"#\": 515, \"Name\": \"Panpour\", \"Type 1\": \"Water\", \"Total\": 316, \"HP\": 50, \"Attack\": 53, \"Defense\": 48, \"Sp. Atk\": 53, \"Sp. Def\": 48, \"Speed\": 64, \"Generation\": 5, \"Legendary\": false}, {\"#\": 516, \"Name\": \"Simipour\", \"Type 1\": \"Water\", \"Total\": 498, \"HP\": 75, \"Attack\": 98, \"Defense\": 63, \"Sp. Atk\": 98, \"Sp. Def\": 63, \"Speed\": 101, \"Generation\": 5, \"Legendary\": false}, {\"#\": 517, \"Name\": \"Munna\", \"Type 1\": \"Psychic\", \"Total\": 292, \"HP\": 76, \"Attack\": 25, \"Defense\": 45, \"Sp. Atk\": 67, \"Sp. Def\": 55, \"Speed\": 24, \"Generation\": 5, \"Legendary\": false}, {\"#\": 518, \"Name\": \"Musharna\", \"Type 1\": \"Psychic\", \"Total\": 487, \"HP\": 116, \"Attack\": 55, \"Defense\": 85, \"Sp. Atk\": 107, \"Sp. Def\": 95, \"Speed\": 29, \"Generation\": 5, \"Legendary\": false}, {\"#\": 519, \"Name\": \"Pidove\", \"Type 1\": \"Normal\", \"Total\": 264, \"HP\": 50, \"Attack\": 55, \"Defense\": 50, \"Sp. Atk\": 36, \"Sp. Def\": 30, \"Speed\": 43, \"Generation\": 5, \"Legendary\": false}, {\"#\": 520, \"Name\": \"Tranquill\", \"Type 1\": \"Normal\", \"Total\": 358, \"HP\": 62, \"Attack\": 77, \"Defense\": 62, \"Sp. Atk\": 50, \"Sp. Def\": 42, \"Speed\": 65, \"Generation\": 5, \"Legendary\": false}, {\"#\": 521, \"Name\": \"Unfezant\", \"Type 1\": \"Normal\", \"Total\": 488, \"HP\": 80, \"Attack\": 115, \"Defense\": 80, \"Sp. Atk\": 65, \"Sp. Def\": 55, \"Speed\": 93, \"Generation\": 5, \"Legendary\": false}, {\"#\": 522, \"Name\": \"Blitzle\", \"Type 1\": \"Electric\", \"Total\": 295, \"HP\": 45, \"Attack\": 60, \"Defense\": 32, \"Sp. Atk\": 50, \"Sp. Def\": 32, \"Speed\": 76, \"Generation\": 5, \"Legendary\": false}, {\"#\": 523, \"Name\": \"Zebstrika\", \"Type 1\": \"Electric\", \"Total\": 497, \"HP\": 75, \"Attack\": 100, \"Defense\": 63, \"Sp. Atk\": 80, \"Sp. Def\": 63, \"Speed\": 116, \"Generation\": 5, \"Legendary\": false}, {\"#\": 524, \"Name\": \"Roggenrola\", \"Type 1\": \"Rock\", \"Total\": 280, \"HP\": 55, \"Attack\": 75, \"Defense\": 85, \"Sp. Atk\": 25, \"Sp. Def\": 25, \"Speed\": 15, \"Generation\": 5, \"Legendary\": false}, {\"#\": 525, \"Name\": \"Boldore\", \"Type 1\": \"Rock\", \"Total\": 390, \"HP\": 70, \"Attack\": 105, \"Defense\": 105, \"Sp. Atk\": 50, \"Sp. Def\": 40, \"Speed\": 20, \"Generation\": 5, \"Legendary\": false}, {\"#\": 526, \"Name\": \"Gigalith\", \"Type 1\": \"Rock\", \"Total\": 515, \"HP\": 85, \"Attack\": 135, \"Defense\": 130, \"Sp. Atk\": 60, \"Sp. Def\": 80, \"Speed\": 25, \"Generation\": 5, \"Legendary\": false}, {\"#\": 527, \"Name\": \"Woobat\", \"Type 1\": \"Psychic\", \"Total\": 313, \"HP\": 55, \"Attack\": 45, \"Defense\": 43, \"Sp. Atk\": 55, \"Sp. Def\": 43, \"Speed\": 72, \"Generation\": 5, \"Legendary\": false}, {\"#\": 528, \"Name\": \"Swoobat\", \"Type 1\": \"Psychic\", \"Total\": 425, \"HP\": 67, \"Attack\": 57, \"Defense\": 55, \"Sp. Atk\": 77, \"Sp. Def\": 55, \"Speed\": 114, \"Generation\": 5, \"Legendary\": false}, {\"#\": 529, \"Name\": \"Drilbur\", \"Type 1\": \"Ground\", \"Total\": 328, \"HP\": 60, \"Attack\": 85, \"Defense\": 40, \"Sp. Atk\": 30, \"Sp. Def\": 45, \"Speed\": 68, \"Generation\": 5, \"Legendary\": false}, {\"#\": 530, \"Name\": \"Excadrill\", \"Type 1\": \"Ground\", \"Total\": 508, \"HP\": 110, \"Attack\": 135, \"Defense\": 60, \"Sp. Atk\": 50, \"Sp. Def\": 65, \"Speed\": 88, \"Generation\": 5, \"Legendary\": false}, {\"#\": 531, \"Name\": \"Audino\", \"Type 1\": \"Normal\", \"Total\": 445, \"HP\": 103, \"Attack\": 60, \"Defense\": 86, \"Sp. Atk\": 60, \"Sp. Def\": 86, \"Speed\": 50, \"Generation\": 5, \"Legendary\": false}, {\"#\": 531, \"Name\": \"AudinoMega Audino\", \"Type 1\": \"Normal\", \"Total\": 545, \"HP\": 103, \"Attack\": 60, \"Defense\": 126, \"Sp. Atk\": 80, \"Sp. Def\": 126, \"Speed\": 50, \"Generation\": 5, \"Legendary\": false}, {\"#\": 532, \"Name\": \"Timburr\", \"Type 1\": \"Fighting\", \"Total\": 305, \"HP\": 75, \"Attack\": 80, \"Defense\": 55, \"Sp. Atk\": 25, \"Sp. Def\": 35, \"Speed\": 35, \"Generation\": 5, \"Legendary\": false}, {\"#\": 533, \"Name\": \"Gurdurr\", \"Type 1\": \"Fighting\", \"Total\": 405, \"HP\": 85, \"Attack\": 105, \"Defense\": 85, \"Sp. Atk\": 40, \"Sp. Def\": 50, \"Speed\": 40, \"Generation\": 5, \"Legendary\": false}, {\"#\": 534, \"Name\": \"Conkeldurr\", \"Type 1\": \"Fighting\", \"Total\": 505, \"HP\": 105, \"Attack\": 140, \"Defense\": 95, \"Sp. Atk\": 55, \"Sp. Def\": 65, \"Speed\": 45, \"Generation\": 5, \"Legendary\": false}, {\"#\": 535, \"Name\": \"Tympole\", \"Type 1\": \"Water\", \"Total\": 294, \"HP\": 50, \"Attack\": 50, \"Defense\": 40, \"Sp. Atk\": 50, \"Sp. Def\": 40, \"Speed\": 64, \"Generation\": 5, \"Legendary\": false}, {\"#\": 536, \"Name\": \"Palpitoad\", \"Type 1\": \"Water\", \"Total\": 384, \"HP\": 75, \"Attack\": 65, \"Defense\": 55, \"Sp. Atk\": 65, \"Sp. Def\": 55, \"Speed\": 69, \"Generation\": 5, \"Legendary\": false}, {\"#\": 537, \"Name\": \"Seismitoad\", \"Type 1\": \"Water\", \"Total\": 509, \"HP\": 105, \"Attack\": 95, \"Defense\": 75, \"Sp. Atk\": 85, \"Sp. Def\": 75, \"Speed\": 74, \"Generation\": 5, \"Legendary\": false}, {\"#\": 538, \"Name\": \"Throh\", \"Type 1\": \"Fighting\", \"Total\": 465, \"HP\": 120, \"Attack\": 100, \"Defense\": 85, \"Sp. Atk\": 30, \"Sp. Def\": 85, \"Speed\": 45, \"Generation\": 5, \"Legendary\": false}, {\"#\": 539, \"Name\": \"Sawk\", \"Type 1\": \"Fighting\", \"Total\": 465, \"HP\": 75, \"Attack\": 125, \"Defense\": 75, \"Sp. Atk\": 30, \"Sp. Def\": 75, \"Speed\": 85, \"Generation\": 5, \"Legendary\": false}, {\"#\": 540, \"Name\": \"Sewaddle\", \"Type 1\": \"Bug\", \"Total\": 310, \"HP\": 45, \"Attack\": 53, \"Defense\": 70, \"Sp. Atk\": 40, \"Sp. Def\": 60, \"Speed\": 42, \"Generation\": 5, \"Legendary\": false}, {\"#\": 541, \"Name\": \"Swadloon\", \"Type 1\": \"Bug\", \"Total\": 380, \"HP\": 55, \"Attack\": 63, \"Defense\": 90, \"Sp. Atk\": 50, \"Sp. Def\": 80, \"Speed\": 42, \"Generation\": 5, \"Legendary\": false}, {\"#\": 542, \"Name\": \"Leavanny\", \"Type 1\": \"Bug\", \"Total\": 500, \"HP\": 75, \"Attack\": 103, \"Defense\": 80, \"Sp. Atk\": 70, \"Sp. Def\": 80, \"Speed\": 92, \"Generation\": 5, \"Legendary\": false}, {\"#\": 543, \"Name\": \"Venipede\", \"Type 1\": \"Bug\", \"Total\": 260, \"HP\": 30, \"Attack\": 45, \"Defense\": 59, \"Sp. Atk\": 30, \"Sp. Def\": 39, \"Speed\": 57, \"Generation\": 5, \"Legendary\": false}, {\"#\": 544, \"Name\": \"Whirlipede\", \"Type 1\": \"Bug\", \"Total\": 360, \"HP\": 40, \"Attack\": 55, \"Defense\": 99, \"Sp. Atk\": 40, \"Sp. Def\": 79, \"Speed\": 47, \"Generation\": 5, \"Legendary\": false}, {\"#\": 545, \"Name\": \"Scolipede\", \"Type 1\": \"Bug\", \"Total\": 485, \"HP\": 60, \"Attack\": 100, \"Defense\": 89, \"Sp. Atk\": 55, \"Sp. Def\": 69, \"Speed\": 112, \"Generation\": 5, \"Legendary\": false}, {\"#\": 546, \"Name\": \"Cottonee\", \"Type 1\": \"Grass\", \"Total\": 280, \"HP\": 40, \"Attack\": 27, \"Defense\": 60, \"Sp. Atk\": 37, \"Sp. Def\": 50, \"Speed\": 66, \"Generation\": 5, \"Legendary\": false}, {\"#\": 547, \"Name\": \"Whimsicott\", \"Type 1\": \"Grass\", \"Total\": 480, \"HP\": 60, \"Attack\": 67, \"Defense\": 85, \"Sp. Atk\": 77, \"Sp. Def\": 75, \"Speed\": 116, \"Generation\": 5, \"Legendary\": false}, {\"#\": 548, \"Name\": \"Petilil\", \"Type 1\": \"Grass\", \"Total\": 280, \"HP\": 45, \"Attack\": 35, \"Defense\": 50, \"Sp. Atk\": 70, \"Sp. Def\": 50, \"Speed\": 30, \"Generation\": 5, \"Legendary\": false}, {\"#\": 549, \"Name\": \"Lilligant\", \"Type 1\": \"Grass\", \"Total\": 480, \"HP\": 70, \"Attack\": 60, \"Defense\": 75, \"Sp. Atk\": 110, \"Sp. Def\": 75, \"Speed\": 90, \"Generation\": 5, \"Legendary\": false}, {\"#\": 550, \"Name\": \"Basculin\", \"Type 1\": \"Water\", \"Total\": 460, \"HP\": 70, \"Attack\": 92, \"Defense\": 65, \"Sp. Atk\": 80, \"Sp. Def\": 55, \"Speed\": 98, \"Generation\": 5, \"Legendary\": false}, {\"#\": 551, \"Name\": \"Sandile\", \"Type 1\": \"Ground\", \"Total\": 292, \"HP\": 50, \"Attack\": 72, \"Defense\": 35, \"Sp. Atk\": 35, \"Sp. Def\": 35, \"Speed\": 65, \"Generation\": 5, \"Legendary\": false}, {\"#\": 552, \"Name\": \"Krokorok\", \"Type 1\": \"Ground\", \"Total\": 351, \"HP\": 60, \"Attack\": 82, \"Defense\": 45, \"Sp. Atk\": 45, \"Sp. Def\": 45, \"Speed\": 74, \"Generation\": 5, \"Legendary\": false}, {\"#\": 553, \"Name\": \"Krookodile\", \"Type 1\": \"Ground\", \"Total\": 519, \"HP\": 95, \"Attack\": 117, \"Defense\": 80, \"Sp. Atk\": 65, \"Sp. Def\": 70, \"Speed\": 92, \"Generation\": 5, \"Legendary\": false}, {\"#\": 554, \"Name\": \"Darumaka\", \"Type 1\": \"Fire\", \"Total\": 315, \"HP\": 70, \"Attack\": 90, \"Defense\": 45, \"Sp. Atk\": 15, \"Sp. Def\": 45, \"Speed\": 50, \"Generation\": 5, \"Legendary\": false}, {\"#\": 555, \"Name\": \"DarmanitanStandard Mode\", \"Type 1\": \"Fire\", \"Total\": 480, \"HP\": 105, \"Attack\": 140, \"Defense\": 55, \"Sp. Atk\": 30, \"Sp. Def\": 55, \"Speed\": 95, \"Generation\": 5, \"Legendary\": false}, {\"#\": 555, \"Name\": \"DarmanitanZen Mode\", \"Type 1\": \"Fire\", \"Total\": 540, \"HP\": 105, \"Attack\": 30, \"Defense\": 105, \"Sp. Atk\": 140, \"Sp. Def\": 105, \"Speed\": 55, \"Generation\": 5, \"Legendary\": false}, {\"#\": 556, \"Name\": \"Maractus\", \"Type 1\": \"Grass\", \"Total\": 461, \"HP\": 75, \"Attack\": 86, \"Defense\": 67, \"Sp. Atk\": 106, \"Sp. Def\": 67, \"Speed\": 60, \"Generation\": 5, \"Legendary\": false}, {\"#\": 557, \"Name\": \"Dwebble\", \"Type 1\": \"Bug\", \"Total\": 325, \"HP\": 50, \"Attack\": 65, \"Defense\": 85, \"Sp. Atk\": 35, \"Sp. Def\": 35, \"Speed\": 55, \"Generation\": 5, \"Legendary\": false}, {\"#\": 558, \"Name\": \"Crustle\", \"Type 1\": \"Bug\", \"Total\": 475, \"HP\": 70, \"Attack\": 95, \"Defense\": 125, \"Sp. Atk\": 65, \"Sp. Def\": 75, \"Speed\": 45, \"Generation\": 5, \"Legendary\": false}, {\"#\": 559, \"Name\": \"Scraggy\", \"Type 1\": \"Dark\", \"Total\": 348, \"HP\": 50, \"Attack\": 75, \"Defense\": 70, \"Sp. Atk\": 35, \"Sp. Def\": 70, \"Speed\": 48, \"Generation\": 5, \"Legendary\": false}, {\"#\": 560, \"Name\": \"Scrafty\", \"Type 1\": \"Dark\", \"Total\": 488, \"HP\": 65, \"Attack\": 90, \"Defense\": 115, \"Sp. Atk\": 45, \"Sp. Def\": 115, \"Speed\": 58, \"Generation\": 5, \"Legendary\": false}, {\"#\": 561, \"Name\": \"Sigilyph\", \"Type 1\": \"Psychic\", \"Total\": 490, \"HP\": 72, \"Attack\": 58, \"Defense\": 80, \"Sp. Atk\": 103, \"Sp. Def\": 80, \"Speed\": 97, \"Generation\": 5, \"Legendary\": false}, {\"#\": 562, \"Name\": \"Yamask\", \"Type 1\": \"Ghost\", \"Total\": 303, \"HP\": 38, \"Attack\": 30, \"Defense\": 85, \"Sp. Atk\": 55, \"Sp. Def\": 65, \"Speed\": 30, \"Generation\": 5, \"Legendary\": false}, {\"#\": 563, \"Name\": \"Cofagrigus\", \"Type 1\": \"Ghost\", \"Total\": 483, \"HP\": 58, \"Attack\": 50, \"Defense\": 145, \"Sp. Atk\": 95, \"Sp. Def\": 105, \"Speed\": 30, \"Generation\": 5, \"Legendary\": false}, {\"#\": 564, \"Name\": \"Tirtouga\", \"Type 1\": \"Water\", \"Total\": 355, \"HP\": 54, \"Attack\": 78, \"Defense\": 103, \"Sp. Atk\": 53, \"Sp. Def\": 45, \"Speed\": 22, \"Generation\": 5, \"Legendary\": false}, {\"#\": 565, \"Name\": \"Carracosta\", \"Type 1\": \"Water\", \"Total\": 495, \"HP\": 74, \"Attack\": 108, \"Defense\": 133, \"Sp. Atk\": 83, \"Sp. Def\": 65, \"Speed\": 32, \"Generation\": 5, \"Legendary\": false}, {\"#\": 566, \"Name\": \"Archen\", \"Type 1\": \"Rock\", \"Total\": 401, \"HP\": 55, \"Attack\": 112, \"Defense\": 45, \"Sp. Atk\": 74, \"Sp. Def\": 45, \"Speed\": 70, \"Generation\": 5, \"Legendary\": false}, {\"#\": 567, \"Name\": \"Archeops\", \"Type 1\": \"Rock\", \"Total\": 567, \"HP\": 75, \"Attack\": 140, \"Defense\": 65, \"Sp. Atk\": 112, \"Sp. Def\": 65, \"Speed\": 110, \"Generation\": 5, \"Legendary\": false}, {\"#\": 568, \"Name\": \"Trubbish\", \"Type 1\": \"Poison\", \"Total\": 329, \"HP\": 50, \"Attack\": 50, \"Defense\": 62, \"Sp. Atk\": 40, \"Sp. Def\": 62, \"Speed\": 65, \"Generation\": 5, \"Legendary\": false}, {\"#\": 569, \"Name\": \"Garbodor\", \"Type 1\": \"Poison\", \"Total\": 474, \"HP\": 80, \"Attack\": 95, \"Defense\": 82, \"Sp. Atk\": 60, \"Sp. Def\": 82, \"Speed\": 75, \"Generation\": 5, \"Legendary\": false}, {\"#\": 570, \"Name\": \"Zorua\", \"Type 1\": \"Dark\", \"Total\": 330, \"HP\": 40, \"Attack\": 65, \"Defense\": 40, \"Sp. Atk\": 80, \"Sp. Def\": 40, \"Speed\": 65, \"Generation\": 5, \"Legendary\": false}, {\"#\": 571, \"Name\": \"Zoroark\", \"Type 1\": \"Dark\", \"Total\": 510, \"HP\": 60, \"Attack\": 105, \"Defense\": 60, \"Sp. Atk\": 120, \"Sp. Def\": 60, \"Speed\": 105, \"Generation\": 5, \"Legendary\": false}, {\"#\": 572, \"Name\": \"Minccino\", \"Type 1\": \"Normal\", \"Total\": 300, \"HP\": 55, \"Attack\": 50, \"Defense\": 40, \"Sp. Atk\": 40, \"Sp. Def\": 40, \"Speed\": 75, \"Generation\": 5, \"Legendary\": false}, {\"#\": 573, \"Name\": \"Cinccino\", \"Type 1\": \"Normal\", \"Total\": 470, \"HP\": 75, \"Attack\": 95, \"Defense\": 60, \"Sp. Atk\": 65, \"Sp. Def\": 60, \"Speed\": 115, \"Generation\": 5, \"Legendary\": false}, {\"#\": 574, \"Name\": \"Gothita\", \"Type 1\": \"Psychic\", \"Total\": 290, \"HP\": 45, \"Attack\": 30, \"Defense\": 50, \"Sp. Atk\": 55, \"Sp. Def\": 65, \"Speed\": 45, \"Generation\": 5, \"Legendary\": false}, {\"#\": 575, \"Name\": \"Gothorita\", \"Type 1\": \"Psychic\", \"Total\": 390, \"HP\": 60, \"Attack\": 45, \"Defense\": 70, \"Sp. Atk\": 75, \"Sp. Def\": 85, \"Speed\": 55, \"Generation\": 5, \"Legendary\": false}, {\"#\": 576, \"Name\": \"Gothitelle\", \"Type 1\": \"Psychic\", \"Total\": 490, \"HP\": 70, \"Attack\": 55, \"Defense\": 95, \"Sp. Atk\": 95, \"Sp. Def\": 110, \"Speed\": 65, \"Generation\": 5, \"Legendary\": false}, {\"#\": 577, \"Name\": \"Solosis\", \"Type 1\": \"Psychic\", \"Total\": 290, \"HP\": 45, \"Attack\": 30, \"Defense\": 40, \"Sp. Atk\": 105, \"Sp. Def\": 50, \"Speed\": 20, \"Generation\": 5, \"Legendary\": false}, {\"#\": 578, \"Name\": \"Duosion\", \"Type 1\": \"Psychic\", \"Total\": 370, \"HP\": 65, \"Attack\": 40, \"Defense\": 50, \"Sp. Atk\": 125, \"Sp. Def\": 60, \"Speed\": 30, \"Generation\": 5, \"Legendary\": false}, {\"#\": 579, \"Name\": \"Reuniclus\", \"Type 1\": \"Psychic\", \"Total\": 490, \"HP\": 110, \"Attack\": 65, \"Defense\": 75, \"Sp. Atk\": 125, \"Sp. Def\": 85, \"Speed\": 30, \"Generation\": 5, \"Legendary\": false}, {\"#\": 580, \"Name\": \"Ducklett\", \"Type 1\": \"Water\", \"Total\": 305, \"HP\": 62, \"Attack\": 44, \"Defense\": 50, \"Sp. Atk\": 44, \"Sp. Def\": 50, \"Speed\": 55, \"Generation\": 5, \"Legendary\": false}, {\"#\": 581, \"Name\": \"Swanna\", \"Type 1\": \"Water\", \"Total\": 473, \"HP\": 75, \"Attack\": 87, \"Defense\": 63, \"Sp. Atk\": 87, \"Sp. Def\": 63, \"Speed\": 98, \"Generation\": 5, \"Legendary\": false}, {\"#\": 582, \"Name\": \"Vanillite\", \"Type 1\": \"Ice\", \"Total\": 305, \"HP\": 36, \"Attack\": 50, \"Defense\": 50, \"Sp. Atk\": 65, \"Sp. Def\": 60, \"Speed\": 44, \"Generation\": 5, \"Legendary\": false}, {\"#\": 583, \"Name\": \"Vanillish\", \"Type 1\": \"Ice\", \"Total\": 395, \"HP\": 51, \"Attack\": 65, \"Defense\": 65, \"Sp. Atk\": 80, \"Sp. Def\": 75, \"Speed\": 59, \"Generation\": 5, \"Legendary\": false}, {\"#\": 584, \"Name\": \"Vanilluxe\", \"Type 1\": \"Ice\", \"Total\": 535, \"HP\": 71, \"Attack\": 95, \"Defense\": 85, \"Sp. Atk\": 110, \"Sp. Def\": 95, \"Speed\": 79, \"Generation\": 5, \"Legendary\": false}, {\"#\": 585, \"Name\": \"Deerling\", \"Type 1\": \"Normal\", \"Total\": 335, \"HP\": 60, \"Attack\": 60, \"Defense\": 50, \"Sp. Atk\": 40, \"Sp. Def\": 50, \"Speed\": 75, \"Generation\": 5, \"Legendary\": false}, {\"#\": 586, \"Name\": \"Sawsbuck\", \"Type 1\": \"Normal\", \"Total\": 475, \"HP\": 80, \"Attack\": 100, \"Defense\": 70, \"Sp. Atk\": 60, \"Sp. Def\": 70, \"Speed\": 95, \"Generation\": 5, \"Legendary\": false}, {\"#\": 587, \"Name\": \"Emolga\", \"Type 1\": \"Electric\", \"Total\": 428, \"HP\": 55, \"Attack\": 75, \"Defense\": 60, \"Sp. Atk\": 75, \"Sp. Def\": 60, \"Speed\": 103, \"Generation\": 5, \"Legendary\": false}, {\"#\": 588, \"Name\": \"Karrablast\", \"Type 1\": \"Bug\", \"Total\": 315, \"HP\": 50, \"Attack\": 75, \"Defense\": 45, \"Sp. Atk\": 40, \"Sp. Def\": 45, \"Speed\": 60, \"Generation\": 5, \"Legendary\": false}, {\"#\": 589, \"Name\": \"Escavalier\", \"Type 1\": \"Bug\", \"Total\": 495, \"HP\": 70, \"Attack\": 135, \"Defense\": 105, \"Sp. Atk\": 60, \"Sp. Def\": 105, \"Speed\": 20, \"Generation\": 5, \"Legendary\": false}, {\"#\": 590, \"Name\": \"Foongus\", \"Type 1\": \"Grass\", \"Total\": 294, \"HP\": 69, \"Attack\": 55, \"Defense\": 45, \"Sp. Atk\": 55, \"Sp. Def\": 55, \"Speed\": 15, \"Generation\": 5, \"Legendary\": false}, {\"#\": 591, \"Name\": \"Amoonguss\", \"Type 1\": \"Grass\", \"Total\": 464, \"HP\": 114, \"Attack\": 85, \"Defense\": 70, \"Sp. Atk\": 85, \"Sp. Def\": 80, \"Speed\": 30, \"Generation\": 5, \"Legendary\": false}, {\"#\": 592, \"Name\": \"Frillish\", \"Type 1\": \"Water\", \"Total\": 335, \"HP\": 55, \"Attack\": 40, \"Defense\": 50, \"Sp. Atk\": 65, \"Sp. Def\": 85, \"Speed\": 40, \"Generation\": 5, \"Legendary\": false}, {\"#\": 593, \"Name\": \"Jellicent\", \"Type 1\": \"Water\", \"Total\": 480, \"HP\": 100, \"Attack\": 60, \"Defense\": 70, \"Sp. Atk\": 85, \"Sp. Def\": 105, \"Speed\": 60, \"Generation\": 5, \"Legendary\": false}, {\"#\": 594, \"Name\": \"Alomomola\", \"Type 1\": \"Water\", \"Total\": 470, \"HP\": 165, \"Attack\": 75, \"Defense\": 80, \"Sp. Atk\": 40, \"Sp. Def\": 45, \"Speed\": 65, \"Generation\": 5, \"Legendary\": false}, {\"#\": 595, \"Name\": \"Joltik\", \"Type 1\": \"Bug\", \"Total\": 319, \"HP\": 50, \"Attack\": 47, \"Defense\": 50, \"Sp. Atk\": 57, \"Sp. Def\": 50, \"Speed\": 65, \"Generation\": 5, \"Legendary\": false}, {\"#\": 596, \"Name\": \"Galvantula\", \"Type 1\": \"Bug\", \"Total\": 472, \"HP\": 70, \"Attack\": 77, \"Defense\": 60, \"Sp. Atk\": 97, \"Sp. Def\": 60, \"Speed\": 108, \"Generation\": 5, \"Legendary\": false}, {\"#\": 597, \"Name\": \"Ferroseed\", \"Type 1\": \"Grass\", \"Total\": 305, \"HP\": 44, \"Attack\": 50, \"Defense\": 91, \"Sp. Atk\": 24, \"Sp. Def\": 86, \"Speed\": 10, \"Generation\": 5, \"Legendary\": false}, {\"#\": 598, \"Name\": \"Ferrothorn\", \"Type 1\": \"Grass\", \"Total\": 489, \"HP\": 74, \"Attack\": 94, \"Defense\": 131, \"Sp. Atk\": 54, \"Sp. Def\": 116, \"Speed\": 20, \"Generation\": 5, \"Legendary\": false}, {\"#\": 599, \"Name\": \"Klink\", \"Type 1\": \"Steel\", \"Total\": 300, \"HP\": 40, \"Attack\": 55, \"Defense\": 70, \"Sp. Atk\": 45, \"Sp. Def\": 60, \"Speed\": 30, \"Generation\": 5, \"Legendary\": false}, {\"#\": 600, \"Name\": \"Klang\", \"Type 1\": \"Steel\", \"Total\": 440, \"HP\": 60, \"Attack\": 80, \"Defense\": 95, \"Sp. Atk\": 70, \"Sp. Def\": 85, \"Speed\": 50, \"Generation\": 5, \"Legendary\": false}, {\"#\": 601, \"Name\": \"Klinklang\", \"Type 1\": \"Steel\", \"Total\": 520, \"HP\": 60, \"Attack\": 100, \"Defense\": 115, \"Sp. Atk\": 70, \"Sp. Def\": 85, \"Speed\": 90, \"Generation\": 5, \"Legendary\": false}, {\"#\": 602, \"Name\": \"Tynamo\", \"Type 1\": \"Electric\", \"Total\": 275, \"HP\": 35, \"Attack\": 55, \"Defense\": 40, \"Sp. Atk\": 45, \"Sp. Def\": 40, \"Speed\": 60, \"Generation\": 5, \"Legendary\": false}, {\"#\": 603, \"Name\": \"Eelektrik\", \"Type 1\": \"Electric\", \"Total\": 405, \"HP\": 65, \"Attack\": 85, \"Defense\": 70, \"Sp. Atk\": 75, \"Sp. Def\": 70, \"Speed\": 40, \"Generation\": 5, \"Legendary\": false}, {\"#\": 604, \"Name\": \"Eelektross\", \"Type 1\": \"Electric\", \"Total\": 515, \"HP\": 85, \"Attack\": 115, \"Defense\": 80, \"Sp. Atk\": 105, \"Sp. Def\": 80, \"Speed\": 50, \"Generation\": 5, \"Legendary\": false}, {\"#\": 605, \"Name\": \"Elgyem\", \"Type 1\": \"Psychic\", \"Total\": 335, \"HP\": 55, \"Attack\": 55, \"Defense\": 55, \"Sp. Atk\": 85, \"Sp. Def\": 55, \"Speed\": 30, \"Generation\": 5, \"Legendary\": false}, {\"#\": 606, \"Name\": \"Beheeyem\", \"Type 1\": \"Psychic\", \"Total\": 485, \"HP\": 75, \"Attack\": 75, \"Defense\": 75, \"Sp. Atk\": 125, \"Sp. Def\": 95, \"Speed\": 40, \"Generation\": 5, \"Legendary\": false}, {\"#\": 607, \"Name\": \"Litwick\", \"Type 1\": \"Ghost\", \"Total\": 275, \"HP\": 50, \"Attack\": 30, \"Defense\": 55, \"Sp. Atk\": 65, \"Sp. Def\": 55, \"Speed\": 20, \"Generation\": 5, \"Legendary\": false}, {\"#\": 608, \"Name\": \"Lampent\", \"Type 1\": \"Ghost\", \"Total\": 370, \"HP\": 60, \"Attack\": 40, \"Defense\": 60, \"Sp. Atk\": 95, \"Sp. Def\": 60, \"Speed\": 55, \"Generation\": 5, \"Legendary\": false}, {\"#\": 609, \"Name\": \"Chandelure\", \"Type 1\": \"Ghost\", \"Total\": 520, \"HP\": 60, \"Attack\": 55, \"Defense\": 90, \"Sp. Atk\": 145, \"Sp. Def\": 90, \"Speed\": 80, \"Generation\": 5, \"Legendary\": false}, {\"#\": 610, \"Name\": \"Axew\", \"Type 1\": \"Dragon\", \"Total\": 320, \"HP\": 46, \"Attack\": 87, \"Defense\": 60, \"Sp. Atk\": 30, \"Sp. Def\": 40, \"Speed\": 57, \"Generation\": 5, \"Legendary\": false}, {\"#\": 611, \"Name\": \"Fraxure\", \"Type 1\": \"Dragon\", \"Total\": 410, \"HP\": 66, \"Attack\": 117, \"Defense\": 70, \"Sp. Atk\": 40, \"Sp. Def\": 50, \"Speed\": 67, \"Generation\": 5, \"Legendary\": false}, {\"#\": 612, \"Name\": \"Haxorus\", \"Type 1\": \"Dragon\", \"Total\": 540, \"HP\": 76, \"Attack\": 147, \"Defense\": 90, \"Sp. Atk\": 60, \"Sp. Def\": 70, \"Speed\": 97, \"Generation\": 5, \"Legendary\": false}, {\"#\": 613, \"Name\": \"Cubchoo\", \"Type 1\": \"Ice\", \"Total\": 305, \"HP\": 55, \"Attack\": 70, \"Defense\": 40, \"Sp. Atk\": 60, \"Sp. Def\": 40, \"Speed\": 40, \"Generation\": 5, \"Legendary\": false}, {\"#\": 614, \"Name\": \"Beartic\", \"Type 1\": \"Ice\", \"Total\": 485, \"HP\": 95, \"Attack\": 110, \"Defense\": 80, \"Sp. Atk\": 70, \"Sp. Def\": 80, \"Speed\": 50, \"Generation\": 5, \"Legendary\": false}, {\"#\": 615, \"Name\": \"Cryogonal\", \"Type 1\": \"Ice\", \"Total\": 485, \"HP\": 70, \"Attack\": 50, \"Defense\": 30, \"Sp. Atk\": 95, \"Sp. Def\": 135, \"Speed\": 105, \"Generation\": 5, \"Legendary\": false}, {\"#\": 616, \"Name\": \"Shelmet\", \"Type 1\": \"Bug\", \"Total\": 305, \"HP\": 50, \"Attack\": 40, \"Defense\": 85, \"Sp. Atk\": 40, \"Sp. Def\": 65, \"Speed\": 25, \"Generation\": 5, \"Legendary\": false}, {\"#\": 617, \"Name\": \"Accelgor\", \"Type 1\": \"Bug\", \"Total\": 495, \"HP\": 80, \"Attack\": 70, \"Defense\": 40, \"Sp. Atk\": 100, \"Sp. Def\": 60, \"Speed\": 145, \"Generation\": 5, \"Legendary\": false}, {\"#\": 618, \"Name\": \"Stunfisk\", \"Type 1\": \"Ground\", \"Total\": 471, \"HP\": 109, \"Attack\": 66, \"Defense\": 84, \"Sp. Atk\": 81, \"Sp. Def\": 99, \"Speed\": 32, \"Generation\": 5, \"Legendary\": false}, {\"#\": 619, \"Name\": \"Mienfoo\", \"Type 1\": \"Fighting\", \"Total\": 350, \"HP\": 45, \"Attack\": 85, \"Defense\": 50, \"Sp. Atk\": 55, \"Sp. Def\": 50, \"Speed\": 65, \"Generation\": 5, \"Legendary\": false}, {\"#\": 620, \"Name\": \"Mienshao\", \"Type 1\": \"Fighting\", \"Total\": 510, \"HP\": 65, \"Attack\": 125, \"Defense\": 60, \"Sp. Atk\": 95, \"Sp. Def\": 60, \"Speed\": 105, \"Generation\": 5, \"Legendary\": false}, {\"#\": 621, \"Name\": \"Druddigon\", \"Type 1\": \"Dragon\", \"Total\": 485, \"HP\": 77, \"Attack\": 120, \"Defense\": 90, \"Sp. Atk\": 60, \"Sp. Def\": 90, \"Speed\": 48, \"Generation\": 5, \"Legendary\": false}, {\"#\": 622, \"Name\": \"Golett\", \"Type 1\": \"Ground\", \"Total\": 303, \"HP\": 59, \"Attack\": 74, \"Defense\": 50, \"Sp. Atk\": 35, \"Sp. Def\": 50, \"Speed\": 35, \"Generation\": 5, \"Legendary\": false}, {\"#\": 623, \"Name\": \"Golurk\", \"Type 1\": \"Ground\", \"Total\": 483, \"HP\": 89, \"Attack\": 124, \"Defense\": 80, \"Sp. Atk\": 55, \"Sp. Def\": 80, \"Speed\": 55, \"Generation\": 5, \"Legendary\": false}, {\"#\": 624, \"Name\": \"Pawniard\", \"Type 1\": \"Dark\", \"Total\": 340, \"HP\": 45, \"Attack\": 85, \"Defense\": 70, \"Sp. Atk\": 40, \"Sp. Def\": 40, \"Speed\": 60, \"Generation\": 5, \"Legendary\": false}, {\"#\": 625, \"Name\": \"Bisharp\", \"Type 1\": \"Dark\", \"Total\": 490, \"HP\": 65, \"Attack\": 125, \"Defense\": 100, \"Sp. Atk\": 60, \"Sp. Def\": 70, \"Speed\": 70, \"Generation\": 5, \"Legendary\": false}, {\"#\": 626, \"Name\": \"Bouffalant\", \"Type 1\": \"Normal\", \"Total\": 490, \"HP\": 95, \"Attack\": 110, \"Defense\": 95, \"Sp. Atk\": 40, \"Sp. Def\": 95, \"Speed\": 55, \"Generation\": 5, \"Legendary\": false}, {\"#\": 627, \"Name\": \"Rufflet\", \"Type 1\": \"Normal\", \"Total\": 350, \"HP\": 70, \"Attack\": 83, \"Defense\": 50, \"Sp. Atk\": 37, \"Sp. Def\": 50, \"Speed\": 60, \"Generation\": 5, \"Legendary\": false}, {\"#\": 628, \"Name\": \"Braviary\", \"Type 1\": \"Normal\", \"Total\": 510, \"HP\": 100, \"Attack\": 123, \"Defense\": 75, \"Sp. Atk\": 57, \"Sp. Def\": 75, \"Speed\": 80, \"Generation\": 5, \"Legendary\": false}, {\"#\": 629, \"Name\": \"Vullaby\", \"Type 1\": \"Dark\", \"Total\": 370, \"HP\": 70, \"Attack\": 55, \"Defense\": 75, \"Sp. Atk\": 45, \"Sp. Def\": 65, \"Speed\": 60, \"Generation\": 5, \"Legendary\": false}, {\"#\": 630, \"Name\": \"Mandibuzz\", \"Type 1\": \"Dark\", \"Total\": 510, \"HP\": 110, \"Attack\": 65, \"Defense\": 105, \"Sp. Atk\": 55, \"Sp. Def\": 95, \"Speed\": 80, \"Generation\": 5, \"Legendary\": false}, {\"#\": 631, \"Name\": \"Heatmor\", \"Type 1\": \"Fire\", \"Total\": 484, \"HP\": 85, \"Attack\": 97, \"Defense\": 66, \"Sp. Atk\": 105, \"Sp. Def\": 66, \"Speed\": 65, \"Generation\": 5, \"Legendary\": false}, {\"#\": 632, \"Name\": \"Durant\", \"Type 1\": \"Bug\", \"Total\": 484, \"HP\": 58, \"Attack\": 109, \"Defense\": 112, \"Sp. Atk\": 48, \"Sp. Def\": 48, \"Speed\": 109, \"Generation\": 5, \"Legendary\": false}, {\"#\": 633, \"Name\": \"Deino\", \"Type 1\": \"Dark\", \"Total\": 300, \"HP\": 52, \"Attack\": 65, \"Defense\": 50, \"Sp. Atk\": 45, \"Sp. Def\": 50, \"Speed\": 38, \"Generation\": 5, \"Legendary\": false}, {\"#\": 634, \"Name\": \"Zweilous\", \"Type 1\": \"Dark\", \"Total\": 420, \"HP\": 72, \"Attack\": 85, \"Defense\": 70, \"Sp. Atk\": 65, \"Sp. Def\": 70, \"Speed\": 58, \"Generation\": 5, \"Legendary\": false}, {\"#\": 635, \"Name\": \"Hydreigon\", \"Type 1\": \"Dark\", \"Total\": 600, \"HP\": 92, \"Attack\": 105, \"Defense\": 90, \"Sp. Atk\": 125, \"Sp. Def\": 90, \"Speed\": 98, \"Generation\": 5, \"Legendary\": false}, {\"#\": 636, \"Name\": \"Larvesta\", \"Type 1\": \"Bug\", \"Total\": 360, \"HP\": 55, \"Attack\": 85, \"Defense\": 55, \"Sp. Atk\": 50, \"Sp. Def\": 55, \"Speed\": 60, \"Generation\": 5, \"Legendary\": false}, {\"#\": 637, \"Name\": \"Volcarona\", \"Type 1\": \"Bug\", \"Total\": 550, \"HP\": 85, \"Attack\": 60, \"Defense\": 65, \"Sp. Atk\": 135, \"Sp. Def\": 105, \"Speed\": 100, \"Generation\": 5, \"Legendary\": false}, {\"#\": 638, \"Name\": \"Cobalion\", \"Type 1\": \"Steel\", \"Total\": 580, \"HP\": 91, \"Attack\": 90, \"Defense\": 129, \"Sp. Atk\": 90, \"Sp. Def\": 72, \"Speed\": 108, \"Generation\": 5, \"Legendary\": true}, {\"#\": 639, \"Name\": \"Terrakion\", \"Type 1\": \"Rock\", \"Total\": 580, \"HP\": 91, \"Attack\": 129, \"Defense\": 90, \"Sp. Atk\": 72, \"Sp. Def\": 90, \"Speed\": 108, \"Generation\": 5, \"Legendary\": true}, {\"#\": 640, \"Name\": \"Virizion\", \"Type 1\": \"Grass\", \"Total\": 580, \"HP\": 91, \"Attack\": 90, \"Defense\": 72, \"Sp. Atk\": 90, \"Sp. Def\": 129, \"Speed\": 108, \"Generation\": 5, \"Legendary\": true}, {\"#\": 641, \"Name\": \"TornadusIncarnate Forme\", \"Type 1\": \"Flying\", \"Total\": 580, \"HP\": 79, \"Attack\": 115, \"Defense\": 70, \"Sp. Atk\": 125, \"Sp. Def\": 80, \"Speed\": 111, \"Generation\": 5, \"Legendary\": true}, {\"#\": 641, \"Name\": \"TornadusTherian Forme\", \"Type 1\": \"Flying\", \"Total\": 580, \"HP\": 79, \"Attack\": 100, \"Defense\": 80, \"Sp. Atk\": 110, \"Sp. Def\": 90, \"Speed\": 121, \"Generation\": 5, \"Legendary\": true}, {\"#\": 642, \"Name\": \"ThundurusIncarnate Forme\", \"Type 1\": \"Electric\", \"Total\": 580, \"HP\": 79, \"Attack\": 115, \"Defense\": 70, \"Sp. Atk\": 125, \"Sp. Def\": 80, \"Speed\": 111, \"Generation\": 5, \"Legendary\": true}, {\"#\": 642, \"Name\": \"ThundurusTherian Forme\", \"Type 1\": \"Electric\", \"Total\": 580, \"HP\": 79, \"Attack\": 105, \"Defense\": 70, \"Sp. Atk\": 145, \"Sp. Def\": 80, \"Speed\": 101, \"Generation\": 5, \"Legendary\": true}, {\"#\": 643, \"Name\": \"Reshiram\", \"Type 1\": \"Dragon\", \"Total\": 680, \"HP\": 100, \"Attack\": 120, \"Defense\": 100, \"Sp. Atk\": 150, \"Sp. Def\": 120, \"Speed\": 90, \"Generation\": 5, \"Legendary\": true}, {\"#\": 644, \"Name\": \"Zekrom\", \"Type 1\": \"Dragon\", \"Total\": 680, \"HP\": 100, \"Attack\": 150, \"Defense\": 120, \"Sp. Atk\": 120, \"Sp. Def\": 100, \"Speed\": 90, \"Generation\": 5, \"Legendary\": true}, {\"#\": 645, \"Name\": \"LandorusIncarnate Forme\", \"Type 1\": \"Ground\", \"Total\": 600, \"HP\": 89, \"Attack\": 125, \"Defense\": 90, \"Sp. Atk\": 115, \"Sp. Def\": 80, \"Speed\": 101, \"Generation\": 5, \"Legendary\": true}, {\"#\": 645, \"Name\": \"LandorusTherian Forme\", \"Type 1\": \"Ground\", \"Total\": 600, \"HP\": 89, \"Attack\": 145, \"Defense\": 90, \"Sp. Atk\": 105, \"Sp. Def\": 80, \"Speed\": 91, \"Generation\": 5, \"Legendary\": true}, {\"#\": 646, \"Name\": \"Kyurem\", \"Type 1\": \"Dragon\", \"Total\": 660, \"HP\": 125, \"Attack\": 130, \"Defense\": 90, \"Sp. Atk\": 130, \"Sp. Def\": 90, \"Speed\": 95, \"Generation\": 5, \"Legendary\": true}, {\"#\": 646, \"Name\": \"KyuremBlack Kyurem\", \"Type 1\": \"Dragon\", \"Total\": 700, \"HP\": 125, \"Attack\": 170, \"Defense\": 100, \"Sp. Atk\": 120, \"Sp. Def\": 90, \"Speed\": 95, \"Generation\": 5, \"Legendary\": true}, {\"#\": 646, \"Name\": \"KyuremWhite Kyurem\", \"Type 1\": \"Dragon\", \"Total\": 700, \"HP\": 125, \"Attack\": 120, \"Defense\": 90, \"Sp. Atk\": 170, \"Sp. Def\": 100, \"Speed\": 95, \"Generation\": 5, \"Legendary\": true}, {\"#\": 647, \"Name\": \"KeldeoOrdinary Forme\", \"Type 1\": \"Water\", \"Total\": 580, \"HP\": 91, \"Attack\": 72, \"Defense\": 90, \"Sp. Atk\": 129, \"Sp. Def\": 90, \"Speed\": 108, \"Generation\": 5, \"Legendary\": false}, {\"#\": 647, \"Name\": \"KeldeoResolute Forme\", \"Type 1\": \"Water\", \"Total\": 580, \"HP\": 91, \"Attack\": 72, \"Defense\": 90, \"Sp. Atk\": 129, \"Sp. Def\": 90, \"Speed\": 108, \"Generation\": 5, \"Legendary\": false}, {\"#\": 648, \"Name\": \"MeloettaAria Forme\", \"Type 1\": \"Normal\", \"Total\": 600, \"HP\": 100, \"Attack\": 77, \"Defense\": 77, \"Sp. Atk\": 128, \"Sp. Def\": 128, \"Speed\": 90, \"Generation\": 5, \"Legendary\": false}, {\"#\": 648, \"Name\": \"MeloettaPirouette Forme\", \"Type 1\": \"Normal\", \"Total\": 600, \"HP\": 100, \"Attack\": 128, \"Defense\": 90, \"Sp. Atk\": 77, \"Sp. Def\": 77, \"Speed\": 128, \"Generation\": 5, \"Legendary\": false}, {\"#\": 649, \"Name\": \"Genesect\", \"Type 1\": \"Bug\", \"Total\": 600, \"HP\": 71, \"Attack\": 120, \"Defense\": 95, \"Sp. Atk\": 120, \"Sp. Def\": 95, \"Speed\": 99, \"Generation\": 5, \"Legendary\": false}, {\"#\": 650, \"Name\": \"Chespin\", \"Type 1\": \"Grass\", \"Total\": 313, \"HP\": 56, \"Attack\": 61, \"Defense\": 65, \"Sp. Atk\": 48, \"Sp. Def\": 45, \"Speed\": 38, \"Generation\": 6, \"Legendary\": false}, {\"#\": 651, \"Name\": \"Quilladin\", \"Type 1\": \"Grass\", \"Total\": 405, \"HP\": 61, \"Attack\": 78, \"Defense\": 95, \"Sp. Atk\": 56, \"Sp. Def\": 58, \"Speed\": 57, \"Generation\": 6, \"Legendary\": false}, {\"#\": 652, \"Name\": \"Chesnaught\", \"Type 1\": \"Grass\", \"Total\": 530, \"HP\": 88, \"Attack\": 107, \"Defense\": 122, \"Sp. Atk\": 74, \"Sp. Def\": 75, \"Speed\": 64, \"Generation\": 6, \"Legendary\": false}, {\"#\": 653, \"Name\": \"Fennekin\", \"Type 1\": \"Fire\", \"Total\": 307, \"HP\": 40, \"Attack\": 45, \"Defense\": 40, \"Sp. Atk\": 62, \"Sp. Def\": 60, \"Speed\": 60, \"Generation\": 6, \"Legendary\": false}, {\"#\": 654, \"Name\": \"Braixen\", \"Type 1\": \"Fire\", \"Total\": 409, \"HP\": 59, \"Attack\": 59, \"Defense\": 58, \"Sp. Atk\": 90, \"Sp. Def\": 70, \"Speed\": 73, \"Generation\": 6, \"Legendary\": false}, {\"#\": 655, \"Name\": \"Delphox\", \"Type 1\": \"Fire\", \"Total\": 534, \"HP\": 75, \"Attack\": 69, \"Defense\": 72, \"Sp. Atk\": 114, \"Sp. Def\": 100, \"Speed\": 104, \"Generation\": 6, \"Legendary\": false}, {\"#\": 656, \"Name\": \"Froakie\", \"Type 1\": \"Water\", \"Total\": 314, \"HP\": 41, \"Attack\": 56, \"Defense\": 40, \"Sp. Atk\": 62, \"Sp. Def\": 44, \"Speed\": 71, \"Generation\": 6, \"Legendary\": false}, {\"#\": 657, \"Name\": \"Frogadier\", \"Type 1\": \"Water\", \"Total\": 405, \"HP\": 54, \"Attack\": 63, \"Defense\": 52, \"Sp. Atk\": 83, \"Sp. Def\": 56, \"Speed\": 97, \"Generation\": 6, \"Legendary\": false}, {\"#\": 658, \"Name\": \"Greninja\", \"Type 1\": \"Water\", \"Total\": 530, \"HP\": 72, \"Attack\": 95, \"Defense\": 67, \"Sp. Atk\": 103, \"Sp. Def\": 71, \"Speed\": 122, \"Generation\": 6, \"Legendary\": false}, {\"#\": 659, \"Name\": \"Bunnelby\", \"Type 1\": \"Normal\", \"Total\": 237, \"HP\": 38, \"Attack\": 36, \"Defense\": 38, \"Sp. Atk\": 32, \"Sp. Def\": 36, \"Speed\": 57, \"Generation\": 6, \"Legendary\": false}, {\"#\": 660, \"Name\": \"Diggersby\", \"Type 1\": \"Normal\", \"Total\": 423, \"HP\": 85, \"Attack\": 56, \"Defense\": 77, \"Sp. Atk\": 50, \"Sp. Def\": 77, \"Speed\": 78, \"Generation\": 6, \"Legendary\": false}, {\"#\": 661, \"Name\": \"Fletchling\", \"Type 1\": \"Normal\", \"Total\": 278, \"HP\": 45, \"Attack\": 50, \"Defense\": 43, \"Sp. Atk\": 40, \"Sp. Def\": 38, \"Speed\": 62, \"Generation\": 6, \"Legendary\": false}, {\"#\": 662, \"Name\": \"Fletchinder\", \"Type 1\": \"Fire\", \"Total\": 382, \"HP\": 62, \"Attack\": 73, \"Defense\": 55, \"Sp. Atk\": 56, \"Sp. Def\": 52, \"Speed\": 84, \"Generation\": 6, \"Legendary\": false}, {\"#\": 663, \"Name\": \"Talonflame\", \"Type 1\": \"Fire\", \"Total\": 499, \"HP\": 78, \"Attack\": 81, \"Defense\": 71, \"Sp. Atk\": 74, \"Sp. Def\": 69, \"Speed\": 126, \"Generation\": 6, \"Legendary\": false}, {\"#\": 664, \"Name\": \"Scatterbug\", \"Type 1\": \"Bug\", \"Total\": 200, \"HP\": 38, \"Attack\": 35, \"Defense\": 40, \"Sp. Atk\": 27, \"Sp. Def\": 25, \"Speed\": 35, \"Generation\": 6, \"Legendary\": false}, {\"#\": 665, \"Name\": \"Spewpa\", \"Type 1\": \"Bug\", \"Total\": 213, \"HP\": 45, \"Attack\": 22, \"Defense\": 60, \"Sp. Atk\": 27, \"Sp. Def\": 30, \"Speed\": 29, \"Generation\": 6, \"Legendary\": false}, {\"#\": 666, \"Name\": \"Vivillon\", \"Type 1\": \"Bug\", \"Total\": 411, \"HP\": 80, \"Attack\": 52, \"Defense\": 50, \"Sp. Atk\": 90, \"Sp. Def\": 50, \"Speed\": 89, \"Generation\": 6, \"Legendary\": false}, {\"#\": 667, \"Name\": \"Litleo\", \"Type 1\": \"Fire\", \"Total\": 369, \"HP\": 62, \"Attack\": 50, \"Defense\": 58, \"Sp. Atk\": 73, \"Sp. Def\": 54, \"Speed\": 72, \"Generation\": 6, \"Legendary\": false}, {\"#\": 668, \"Name\": \"Pyroar\", \"Type 1\": \"Fire\", \"Total\": 507, \"HP\": 86, \"Attack\": 68, \"Defense\": 72, \"Sp. Atk\": 109, \"Sp. Def\": 66, \"Speed\": 106, \"Generation\": 6, \"Legendary\": false}, {\"#\": 669, \"Name\": \"Flab\\u00e9b\\u00e9\", \"Type 1\": \"Fairy\", \"Total\": 303, \"HP\": 44, \"Attack\": 38, \"Defense\": 39, \"Sp. Atk\": 61, \"Sp. Def\": 79, \"Speed\": 42, \"Generation\": 6, \"Legendary\": false}, {\"#\": 670, \"Name\": \"Floette\", \"Type 1\": \"Fairy\", \"Total\": 371, \"HP\": 54, \"Attack\": 45, \"Defense\": 47, \"Sp. Atk\": 75, \"Sp. Def\": 98, \"Speed\": 52, \"Generation\": 6, \"Legendary\": false}, {\"#\": 671, \"Name\": \"Florges\", \"Type 1\": \"Fairy\", \"Total\": 552, \"HP\": 78, \"Attack\": 65, \"Defense\": 68, \"Sp. Atk\": 112, \"Sp. Def\": 154, \"Speed\": 75, \"Generation\": 6, \"Legendary\": false}, {\"#\": 672, \"Name\": \"Skiddo\", \"Type 1\": \"Grass\", \"Total\": 350, \"HP\": 66, \"Attack\": 65, \"Defense\": 48, \"Sp. Atk\": 62, \"Sp. Def\": 57, \"Speed\": 52, \"Generation\": 6, \"Legendary\": false}, {\"#\": 673, \"Name\": \"Gogoat\", \"Type 1\": \"Grass\", \"Total\": 531, \"HP\": 123, \"Attack\": 100, \"Defense\": 62, \"Sp. Atk\": 97, \"Sp. Def\": 81, \"Speed\": 68, \"Generation\": 6, \"Legendary\": false}, {\"#\": 674, \"Name\": \"Pancham\", \"Type 1\": \"Fighting\", \"Total\": 348, \"HP\": 67, \"Attack\": 82, \"Defense\": 62, \"Sp. Atk\": 46, \"Sp. Def\": 48, \"Speed\": 43, \"Generation\": 6, \"Legendary\": false}, {\"#\": 675, \"Name\": \"Pangoro\", \"Type 1\": \"Fighting\", \"Total\": 495, \"HP\": 95, \"Attack\": 124, \"Defense\": 78, \"Sp. Atk\": 69, \"Sp. Def\": 71, \"Speed\": 58, \"Generation\": 6, \"Legendary\": false}, {\"#\": 676, \"Name\": \"Furfrou\", \"Type 1\": \"Normal\", \"Total\": 472, \"HP\": 75, \"Attack\": 80, \"Defense\": 60, \"Sp. Atk\": 65, \"Sp. Def\": 90, \"Speed\": 102, \"Generation\": 6, \"Legendary\": false}, {\"#\": 677, \"Name\": \"Espurr\", \"Type 1\": \"Psychic\", \"Total\": 355, \"HP\": 62, \"Attack\": 48, \"Defense\": 54, \"Sp. Atk\": 63, \"Sp. Def\": 60, \"Speed\": 68, \"Generation\": 6, \"Legendary\": false}, {\"#\": 678, \"Name\": \"MeowsticMale\", \"Type 1\": \"Psychic\", \"Total\": 466, \"HP\": 74, \"Attack\": 48, \"Defense\": 76, \"Sp. Atk\": 83, \"Sp. Def\": 81, \"Speed\": 104, \"Generation\": 6, \"Legendary\": false}, {\"#\": 678, \"Name\": \"MeowsticFemale\", \"Type 1\": \"Psychic\", \"Total\": 466, \"HP\": 74, \"Attack\": 48, \"Defense\": 76, \"Sp. Atk\": 83, \"Sp. Def\": 81, \"Speed\": 104, \"Generation\": 6, \"Legendary\": false}, {\"#\": 679, \"Name\": \"Honedge\", \"Type 1\": \"Steel\", \"Total\": 325, \"HP\": 45, \"Attack\": 80, \"Defense\": 100, \"Sp. Atk\": 35, \"Sp. Def\": 37, \"Speed\": 28, \"Generation\": 6, \"Legendary\": false}, {\"#\": 680, \"Name\": \"Doublade\", \"Type 1\": \"Steel\", \"Total\": 448, \"HP\": 59, \"Attack\": 110, \"Defense\": 150, \"Sp. Atk\": 45, \"Sp. Def\": 49, \"Speed\": 35, \"Generation\": 6, \"Legendary\": false}, {\"#\": 681, \"Name\": \"AegislashBlade Forme\", \"Type 1\": \"Steel\", \"Total\": 520, \"HP\": 60, \"Attack\": 150, \"Defense\": 50, \"Sp. Atk\": 150, \"Sp. Def\": 50, \"Speed\": 60, \"Generation\": 6, \"Legendary\": false}, {\"#\": 681, \"Name\": \"AegislashShield Forme\", \"Type 1\": \"Steel\", \"Total\": 520, \"HP\": 60, \"Attack\": 50, \"Defense\": 150, \"Sp. Atk\": 50, \"Sp. Def\": 150, \"Speed\": 60, \"Generation\": 6, \"Legendary\": false}, {\"#\": 682, \"Name\": \"Spritzee\", \"Type 1\": \"Fairy\", \"Total\": 341, \"HP\": 78, \"Attack\": 52, \"Defense\": 60, \"Sp. Atk\": 63, \"Sp. Def\": 65, \"Speed\": 23, \"Generation\": 6, \"Legendary\": false}, {\"#\": 683, \"Name\": \"Aromatisse\", \"Type 1\": \"Fairy\", \"Total\": 462, \"HP\": 101, \"Attack\": 72, \"Defense\": 72, \"Sp. Atk\": 99, \"Sp. Def\": 89, \"Speed\": 29, \"Generation\": 6, \"Legendary\": false}, {\"#\": 684, \"Name\": \"Swirlix\", \"Type 1\": \"Fairy\", \"Total\": 341, \"HP\": 62, \"Attack\": 48, \"Defense\": 66, \"Sp. Atk\": 59, \"Sp. Def\": 57, \"Speed\": 49, \"Generation\": 6, \"Legendary\": false}, {\"#\": 685, \"Name\": \"Slurpuff\", \"Type 1\": \"Fairy\", \"Total\": 480, \"HP\": 82, \"Attack\": 80, \"Defense\": 86, \"Sp. Atk\": 85, \"Sp. Def\": 75, \"Speed\": 72, \"Generation\": 6, \"Legendary\": false}, {\"#\": 686, \"Name\": \"Inkay\", \"Type 1\": \"Dark\", \"Total\": 288, \"HP\": 53, \"Attack\": 54, \"Defense\": 53, \"Sp. Atk\": 37, \"Sp. Def\": 46, \"Speed\": 45, \"Generation\": 6, \"Legendary\": false}, {\"#\": 687, \"Name\": \"Malamar\", \"Type 1\": \"Dark\", \"Total\": 482, \"HP\": 86, \"Attack\": 92, \"Defense\": 88, \"Sp. Atk\": 68, \"Sp. Def\": 75, \"Speed\": 73, \"Generation\": 6, \"Legendary\": false}, {\"#\": 688, \"Name\": \"Binacle\", \"Type 1\": \"Rock\", \"Total\": 306, \"HP\": 42, \"Attack\": 52, \"Defense\": 67, \"Sp. Atk\": 39, \"Sp. Def\": 56, \"Speed\": 50, \"Generation\": 6, \"Legendary\": false}, {\"#\": 689, \"Name\": \"Barbaracle\", \"Type 1\": \"Rock\", \"Total\": 500, \"HP\": 72, \"Attack\": 105, \"Defense\": 115, \"Sp. Atk\": 54, \"Sp. Def\": 86, \"Speed\": 68, \"Generation\": 6, \"Legendary\": false}, {\"#\": 690, \"Name\": \"Skrelp\", \"Type 1\": \"Poison\", \"Total\": 320, \"HP\": 50, \"Attack\": 60, \"Defense\": 60, \"Sp. Atk\": 60, \"Sp. Def\": 60, \"Speed\": 30, \"Generation\": 6, \"Legendary\": false}, {\"#\": 691, \"Name\": \"Dragalge\", \"Type 1\": \"Poison\", \"Total\": 494, \"HP\": 65, \"Attack\": 75, \"Defense\": 90, \"Sp. Atk\": 97, \"Sp. Def\": 123, \"Speed\": 44, \"Generation\": 6, \"Legendary\": false}, {\"#\": 692, \"Name\": \"Clauncher\", \"Type 1\": \"Water\", \"Total\": 330, \"HP\": 50, \"Attack\": 53, \"Defense\": 62, \"Sp. Atk\": 58, \"Sp. Def\": 63, \"Speed\": 44, \"Generation\": 6, \"Legendary\": false}, {\"#\": 693, \"Name\": \"Clawitzer\", \"Type 1\": \"Water\", \"Total\": 500, \"HP\": 71, \"Attack\": 73, \"Defense\": 88, \"Sp. Atk\": 120, \"Sp. Def\": 89, \"Speed\": 59, \"Generation\": 6, \"Legendary\": false}, {\"#\": 694, \"Name\": \"Helioptile\", \"Type 1\": \"Electric\", \"Total\": 289, \"HP\": 44, \"Attack\": 38, \"Defense\": 33, \"Sp. Atk\": 61, \"Sp. Def\": 43, \"Speed\": 70, \"Generation\": 6, \"Legendary\": false}, {\"#\": 695, \"Name\": \"Heliolisk\", \"Type 1\": \"Electric\", \"Total\": 481, \"HP\": 62, \"Attack\": 55, \"Defense\": 52, \"Sp. Atk\": 109, \"Sp. Def\": 94, \"Speed\": 109, \"Generation\": 6, \"Legendary\": false}, {\"#\": 696, \"Name\": \"Tyrunt\", \"Type 1\": \"Rock\", \"Total\": 362, \"HP\": 58, \"Attack\": 89, \"Defense\": 77, \"Sp. Atk\": 45, \"Sp. Def\": 45, \"Speed\": 48, \"Generation\": 6, \"Legendary\": false}, {\"#\": 697, \"Name\": \"Tyrantrum\", \"Type 1\": \"Rock\", \"Total\": 521, \"HP\": 82, \"Attack\": 121, \"Defense\": 119, \"Sp. Atk\": 69, \"Sp. Def\": 59, \"Speed\": 71, \"Generation\": 6, \"Legendary\": false}, {\"#\": 698, \"Name\": \"Amaura\", \"Type 1\": \"Rock\", \"Total\": 362, \"HP\": 77, \"Attack\": 59, \"Defense\": 50, \"Sp. Atk\": 67, \"Sp. Def\": 63, \"Speed\": 46, \"Generation\": 6, \"Legendary\": false}, {\"#\": 699, \"Name\": \"Aurorus\", \"Type 1\": \"Rock\", \"Total\": 521, \"HP\": 123, \"Attack\": 77, \"Defense\": 72, \"Sp. Atk\": 99, \"Sp. Def\": 92, \"Speed\": 58, \"Generation\": 6, \"Legendary\": false}, {\"#\": 700, \"Name\": \"Sylveon\", \"Type 1\": \"Fairy\", \"Total\": 525, \"HP\": 95, \"Attack\": 65, \"Defense\": 65, \"Sp. Atk\": 110, \"Sp. Def\": 130, \"Speed\": 60, \"Generation\": 6, \"Legendary\": false}, {\"#\": 701, \"Name\": \"Hawlucha\", \"Type 1\": \"Fighting\", \"Total\": 500, \"HP\": 78, \"Attack\": 92, \"Defense\": 75, \"Sp. Atk\": 74, \"Sp. Def\": 63, \"Speed\": 118, \"Generation\": 6, \"Legendary\": false}, {\"#\": 702, \"Name\": \"Dedenne\", \"Type 1\": \"Electric\", \"Total\": 431, \"HP\": 67, \"Attack\": 58, \"Defense\": 57, \"Sp. Atk\": 81, \"Sp. Def\": 67, \"Speed\": 101, \"Generation\": 6, \"Legendary\": false}, {\"#\": 703, \"Name\": \"Carbink\", \"Type 1\": \"Rock\", \"Total\": 500, \"HP\": 50, \"Attack\": 50, \"Defense\": 150, \"Sp. Atk\": 50, \"Sp. Def\": 150, \"Speed\": 50, \"Generation\": 6, \"Legendary\": false}, {\"#\": 704, \"Name\": \"Goomy\", \"Type 1\": \"Dragon\", \"Total\": 300, \"HP\": 45, \"Attack\": 50, \"Defense\": 35, \"Sp. Atk\": 55, \"Sp. Def\": 75, \"Speed\": 40, \"Generation\": 6, \"Legendary\": false}, {\"#\": 705, \"Name\": \"Sliggoo\", \"Type 1\": \"Dragon\", \"Total\": 452, \"HP\": 68, \"Attack\": 75, \"Defense\": 53, \"Sp. Atk\": 83, \"Sp. Def\": 113, \"Speed\": 60, \"Generation\": 6, \"Legendary\": false}, {\"#\": 706, \"Name\": \"Goodra\", \"Type 1\": \"Dragon\", \"Total\": 600, \"HP\": 90, \"Attack\": 100, \"Defense\": 70, \"Sp. Atk\": 110, \"Sp. Def\": 150, \"Speed\": 80, \"Generation\": 6, \"Legendary\": false}, {\"#\": 707, \"Name\": \"Klefki\", \"Type 1\": \"Steel\", \"Total\": 470, \"HP\": 57, \"Attack\": 80, \"Defense\": 91, \"Sp. Atk\": 80, \"Sp. Def\": 87, \"Speed\": 75, \"Generation\": 6, \"Legendary\": false}, {\"#\": 708, \"Name\": \"Phantump\", \"Type 1\": \"Ghost\", \"Total\": 309, \"HP\": 43, \"Attack\": 70, \"Defense\": 48, \"Sp. Atk\": 50, \"Sp. Def\": 60, \"Speed\": 38, \"Generation\": 6, \"Legendary\": false}, {\"#\": 709, \"Name\": \"Trevenant\", \"Type 1\": \"Ghost\", \"Total\": 474, \"HP\": 85, \"Attack\": 110, \"Defense\": 76, \"Sp. Atk\": 65, \"Sp. Def\": 82, \"Speed\": 56, \"Generation\": 6, \"Legendary\": false}, {\"#\": 710, \"Name\": \"PumpkabooAverage Size\", \"Type 1\": \"Ghost\", \"Total\": 335, \"HP\": 49, \"Attack\": 66, \"Defense\": 70, \"Sp. Atk\": 44, \"Sp. Def\": 55, \"Speed\": 51, \"Generation\": 6, \"Legendary\": false}, {\"#\": 710, \"Name\": \"PumpkabooSmall Size\", \"Type 1\": \"Ghost\", \"Total\": 335, \"HP\": 44, \"Attack\": 66, \"Defense\": 70, \"Sp. Atk\": 44, \"Sp. Def\": 55, \"Speed\": 56, \"Generation\": 6, \"Legendary\": false}, {\"#\": 710, \"Name\": \"PumpkabooLarge Size\", \"Type 1\": \"Ghost\", \"Total\": 335, \"HP\": 54, \"Attack\": 66, \"Defense\": 70, \"Sp. Atk\": 44, \"Sp. Def\": 55, \"Speed\": 46, \"Generation\": 6, \"Legendary\": false}, {\"#\": 710, \"Name\": \"PumpkabooSuper Size\", \"Type 1\": \"Ghost\", \"Total\": 335, \"HP\": 59, \"Attack\": 66, \"Defense\": 70, \"Sp. Atk\": 44, \"Sp. Def\": 55, \"Speed\": 41, \"Generation\": 6, \"Legendary\": false}, {\"#\": 711, \"Name\": \"GourgeistAverage Size\", \"Type 1\": \"Ghost\", \"Total\": 494, \"HP\": 65, \"Attack\": 90, \"Defense\": 122, \"Sp. Atk\": 58, \"Sp. Def\": 75, \"Speed\": 84, \"Generation\": 6, \"Legendary\": false}, {\"#\": 711, \"Name\": \"GourgeistSmall Size\", \"Type 1\": \"Ghost\", \"Total\": 494, \"HP\": 55, \"Attack\": 85, \"Defense\": 122, \"Sp. Atk\": 58, \"Sp. Def\": 75, \"Speed\": 99, \"Generation\": 6, \"Legendary\": false}, {\"#\": 711, \"Name\": \"GourgeistLarge Size\", \"Type 1\": \"Ghost\", \"Total\": 494, \"HP\": 75, \"Attack\": 95, \"Defense\": 122, \"Sp. Atk\": 58, \"Sp. Def\": 75, \"Speed\": 69, \"Generation\": 6, \"Legendary\": false}, {\"#\": 711, \"Name\": \"GourgeistSuper Size\", \"Type 1\": \"Ghost\", \"Total\": 494, \"HP\": 85, \"Attack\": 100, \"Defense\": 122, \"Sp. Atk\": 58, \"Sp. Def\": 75, \"Speed\": 54, \"Generation\": 6, \"Legendary\": false}, {\"#\": 712, \"Name\": \"Bergmite\", \"Type 1\": \"Ice\", \"Total\": 304, \"HP\": 55, \"Attack\": 69, \"Defense\": 85, \"Sp. Atk\": 32, \"Sp. Def\": 35, \"Speed\": 28, \"Generation\": 6, \"Legendary\": false}, {\"#\": 713, \"Name\": \"Avalugg\", \"Type 1\": \"Ice\", \"Total\": 514, \"HP\": 95, \"Attack\": 117, \"Defense\": 184, \"Sp. Atk\": 44, \"Sp. Def\": 46, \"Speed\": 28, \"Generation\": 6, \"Legendary\": false}, {\"#\": 714, \"Name\": \"Noibat\", \"Type 1\": \"Flying\", \"Total\": 245, \"HP\": 40, \"Attack\": 30, \"Defense\": 35, \"Sp. Atk\": 45, \"Sp. Def\": 40, \"Speed\": 55, \"Generation\": 6, \"Legendary\": false}, {\"#\": 715, \"Name\": \"Noivern\", \"Type 1\": \"Flying\", \"Total\": 535, \"HP\": 85, \"Attack\": 70, \"Defense\": 80, \"Sp. Atk\": 97, \"Sp. Def\": 80, \"Speed\": 123, \"Generation\": 6, \"Legendary\": false}, {\"#\": 716, \"Name\": \"Xerneas\", \"Type 1\": \"Fairy\", \"Total\": 680, \"HP\": 126, \"Attack\": 131, \"Defense\": 95, \"Sp. Atk\": 131, \"Sp. Def\": 98, \"Speed\": 99, \"Generation\": 6, \"Legendary\": true}, {\"#\": 717, \"Name\": \"Yveltal\", \"Type 1\": \"Dark\", \"Total\": 680, \"HP\": 126, \"Attack\": 131, \"Defense\": 95, \"Sp. Atk\": 131, \"Sp. Def\": 98, \"Speed\": 99, \"Generation\": 6, \"Legendary\": true}, {\"#\": 718, \"Name\": \"Zygarde50% Forme\", \"Type 1\": \"Dragon\", \"Total\": 600, \"HP\": 108, \"Attack\": 100, \"Defense\": 121, \"Sp. Atk\": 81, \"Sp. Def\": 95, \"Speed\": 95, \"Generation\": 6, \"Legendary\": true}, {\"#\": 719, \"Name\": \"Diancie\", \"Type 1\": \"Rock\", \"Total\": 600, \"HP\": 50, \"Attack\": 100, \"Defense\": 150, \"Sp. Atk\": 100, \"Sp. Def\": 150, \"Speed\": 50, \"Generation\": 6, \"Legendary\": true}, {\"#\": 719, \"Name\": \"DiancieMega Diancie\", \"Type 1\": \"Rock\", \"Total\": 700, \"HP\": 50, \"Attack\": 160, \"Defense\": 110, \"Sp. Atk\": 160, \"Sp. Def\": 110, \"Speed\": 110, \"Generation\": 6, \"Legendary\": true}, {\"#\": 720, \"Name\": \"HoopaHoopa Confined\", \"Type 1\": \"Psychic\", \"Total\": 600, \"HP\": 80, \"Attack\": 110, \"Defense\": 60, \"Sp. Atk\": 150, \"Sp. Def\": 130, \"Speed\": 70, \"Generation\": 6, \"Legendary\": true}, {\"#\": 720, \"Name\": \"HoopaHoopa Unbound\", \"Type 1\": \"Psychic\", \"Total\": 680, \"HP\": 80, \"Attack\": 160, \"Defense\": 60, \"Sp. Atk\": 170, \"Sp. Def\": 130, \"Speed\": 80, \"Generation\": 6, \"Legendary\": true}, {\"#\": 721, \"Name\": \"Volcanion\", \"Type 1\": \"Fire\", \"Total\": 600, \"HP\": 80, \"Attack\": 110, \"Defense\": 120, \"Sp. Atk\": 130, \"Sp. Def\": 90, \"Speed\": 70, \"Generation\": 6, \"Legendary\": true}]}}, {\"mode\": \"vega-lite\"});\n</script>",
      "text/plain": "alt.HConcatChart(...)"
     },
     "metadata": {}
    }
   ]
  },
  {
   "cell_type": "markdown",
   "source": "<font color = blue>\nFrom the graphs above, we can tell that there might be a positive relationship between pokemon's attack and defense. Let's predict the trend by drawing a regression line using linear regression from machine learning.",
   "metadata": {
    "cell_id": "2b9896f367bb43fd885d253550c210ad",
    "tags": [],
    "deepnote_cell_type": "markdown",
    "deepnote_cell_height": 97.140625
   }
  },
  {
   "cell_type": "markdown",
   "source": "<Font Size=5, font color = red>\nThen, I am interested in finding the relationship between pokemon's attack and defense by linear Regression.",
   "metadata": {
    "cell_id": "5a602c581ee84ee28147ab7c79ccafa8",
    "tags": [],
    "deepnote_cell_type": "markdown",
    "deepnote_cell_height": 106.75
   }
  },
  {
   "cell_type": "code",
   "metadata": {
    "cell_id": "bfd80b6d558d4ef6ace3e68bf34c543b",
    "tags": [],
    "deepnote_to_be_reexecuted": false,
    "source_hash": "1d223713",
    "execution_start": 1654751749738,
    "execution_millis": 1288,
    "deepnote_cell_type": "code",
    "deepnote_cell_height": 502.90625
   },
   "source": "#reference: week6 Monday notebook\nfrom sklearn.linear_model import LinearRegression #Import\nreg=LinearRegression()#create/instantiate\nreg.fit(df[[\"Attack\"]],df[[\"Defense\"]]) #Fit attack as input, defense as output\nreg.predict(df[[\"Attack\"]]) #Make our prediction\ndf[\"Pred\"]=reg.predict(df[[\"Attack\"]]) #Add a new column named as \"Pred\"\ndf.head()",
   "execution_count": null,
   "outputs": [
    {
     "output_type": "execute_result",
     "execution_count": 5,
     "data": {
      "application/vnd.deepnote.dataframe.v3+json": {
       "column_count": 13,
       "row_count": 5,
       "columns": [
        {
         "name": "#",
         "dtype": "int64",
         "stats": {
          "unique_count": 4,
          "nan_count": 0,
          "min": "1",
          "max": "4",
          "histogram": [
           {
            "bin_start": 1,
            "bin_end": 1.3,
            "count": 1
           },
           {
            "bin_start": 1.3,
            "bin_end": 1.6,
            "count": 0
           },
           {
            "bin_start": 1.6,
            "bin_end": 1.9,
            "count": 0
           },
           {
            "bin_start": 1.9,
            "bin_end": 2.2,
            "count": 1
           },
           {
            "bin_start": 2.2,
            "bin_end": 2.5,
            "count": 0
           },
           {
            "bin_start": 2.5,
            "bin_end": 2.8,
            "count": 0
           },
           {
            "bin_start": 2.8,
            "bin_end": 3.1,
            "count": 2
           },
           {
            "bin_start": 3.1,
            "bin_end": 3.4,
            "count": 0
           },
           {
            "bin_start": 3.4,
            "bin_end": 3.6999999999999997,
            "count": 0
           },
           {
            "bin_start": 3.6999999999999997,
            "bin_end": 4,
            "count": 1
           }
          ]
         }
        },
        {
         "name": "Name",
         "dtype": "object",
         "stats": {
          "unique_count": 5,
          "nan_count": 0,
          "categories": [
           {
            "name": "Bulbasaur",
            "count": 1
           },
           {
            "name": "Ivysaur",
            "count": 1
           },
           {
            "name": "3 others",
            "count": 3
           }
          ]
         }
        },
        {
         "name": "Type 1",
         "dtype": "object",
         "stats": {
          "unique_count": 2,
          "nan_count": 0,
          "categories": [
           {
            "name": "Grass",
            "count": 4
           },
           {
            "name": "Fire",
            "count": 1
           }
          ]
         }
        },
        {
         "name": "Total",
         "dtype": "int64",
         "stats": {
          "unique_count": 5,
          "nan_count": 0,
          "min": "309",
          "max": "625",
          "histogram": [
           {
            "bin_start": 309,
            "bin_end": 340.6,
            "count": 2
           },
           {
            "bin_start": 340.6,
            "bin_end": 372.2,
            "count": 0
           },
           {
            "bin_start": 372.2,
            "bin_end": 403.8,
            "count": 0
           },
           {
            "bin_start": 403.8,
            "bin_end": 435.4,
            "count": 1
           },
           {
            "bin_start": 435.4,
            "bin_end": 467,
            "count": 0
           },
           {
            "bin_start": 467,
            "bin_end": 498.6,
            "count": 0
           },
           {
            "bin_start": 498.6,
            "bin_end": 530.2,
            "count": 1
           },
           {
            "bin_start": 530.2,
            "bin_end": 561.8,
            "count": 0
           },
           {
            "bin_start": 561.8,
            "bin_end": 593.4000000000001,
            "count": 0
           },
           {
            "bin_start": 593.4000000000001,
            "bin_end": 625,
            "count": 1
           }
          ]
         }
        },
        {
         "name": "HP",
         "dtype": "int64",
         "stats": {
          "unique_count": 4,
          "nan_count": 0,
          "min": "39",
          "max": "80",
          "histogram": [
           {
            "bin_start": 39,
            "bin_end": 43.1,
            "count": 1
           },
           {
            "bin_start": 43.1,
            "bin_end": 47.2,
            "count": 1
           },
           {
            "bin_start": 47.2,
            "bin_end": 51.3,
            "count": 0
           },
           {
            "bin_start": 51.3,
            "bin_end": 55.4,
            "count": 0
           },
           {
            "bin_start": 55.4,
            "bin_end": 59.5,
            "count": 0
           },
           {
            "bin_start": 59.5,
            "bin_end": 63.599999999999994,
            "count": 1
           },
           {
            "bin_start": 63.599999999999994,
            "bin_end": 67.69999999999999,
            "count": 0
           },
           {
            "bin_start": 67.69999999999999,
            "bin_end": 71.8,
            "count": 0
           },
           {
            "bin_start": 71.8,
            "bin_end": 75.9,
            "count": 0
           },
           {
            "bin_start": 75.9,
            "bin_end": 80,
            "count": 2
           }
          ]
         }
        },
        {
         "name": "Attack",
         "dtype": "int64",
         "stats": {
          "unique_count": 5,
          "nan_count": 0,
          "min": "49",
          "max": "100",
          "histogram": [
           {
            "bin_start": 49,
            "bin_end": 54.1,
            "count": 2
           },
           {
            "bin_start": 54.1,
            "bin_end": 59.2,
            "count": 0
           },
           {
            "bin_start": 59.2,
            "bin_end": 64.3,
            "count": 1
           },
           {
            "bin_start": 64.3,
            "bin_end": 69.4,
            "count": 0
           },
           {
            "bin_start": 69.4,
            "bin_end": 74.5,
            "count": 0
           },
           {
            "bin_start": 74.5,
            "bin_end": 79.6,
            "count": 0
           },
           {
            "bin_start": 79.6,
            "bin_end": 84.69999999999999,
            "count": 1
           },
           {
            "bin_start": 84.69999999999999,
            "bin_end": 89.8,
            "count": 0
           },
           {
            "bin_start": 89.8,
            "bin_end": 94.9,
            "count": 0
           },
           {
            "bin_start": 94.9,
            "bin_end": 100,
            "count": 1
           }
          ]
         }
        },
        {
         "name": "Defense",
         "dtype": "int64",
         "stats": {
          "unique_count": 5,
          "nan_count": 0,
          "min": "43",
          "max": "123",
          "histogram": [
           {
            "bin_start": 43,
            "bin_end": 51,
            "count": 2
           },
           {
            "bin_start": 51,
            "bin_end": 59,
            "count": 0
           },
           {
            "bin_start": 59,
            "bin_end": 67,
            "count": 1
           },
           {
            "bin_start": 67,
            "bin_end": 75,
            "count": 0
           },
           {
            "bin_start": 75,
            "bin_end": 83,
            "count": 0
           },
           {
            "bin_start": 83,
            "bin_end": 91,
            "count": 1
           },
           {
            "bin_start": 91,
            "bin_end": 99,
            "count": 0
           },
           {
            "bin_start": 99,
            "bin_end": 107,
            "count": 0
           },
           {
            "bin_start": 107,
            "bin_end": 115,
            "count": 0
           },
           {
            "bin_start": 115,
            "bin_end": 123,
            "count": 1
           }
          ]
         }
        },
        {
         "name": "Sp. Atk",
         "dtype": "int64",
         "stats": {
          "unique_count": 5,
          "nan_count": 0,
          "min": "60",
          "max": "122",
          "histogram": [
           {
            "bin_start": 60,
            "bin_end": 66.2,
            "count": 2
           },
           {
            "bin_start": 66.2,
            "bin_end": 72.4,
            "count": 0
           },
           {
            "bin_start": 72.4,
            "bin_end": 78.6,
            "count": 0
           },
           {
            "bin_start": 78.6,
            "bin_end": 84.8,
            "count": 1
           },
           {
            "bin_start": 84.8,
            "bin_end": 91,
            "count": 0
           },
           {
            "bin_start": 91,
            "bin_end": 97.2,
            "count": 0
           },
           {
            "bin_start": 97.2,
            "bin_end": 103.4,
            "count": 1
           },
           {
            "bin_start": 103.4,
            "bin_end": 109.6,
            "count": 0
           },
           {
            "bin_start": 109.6,
            "bin_end": 115.80000000000001,
            "count": 0
           },
           {
            "bin_start": 115.80000000000001,
            "bin_end": 122,
            "count": 1
           }
          ]
         }
        },
        {
         "name": "Sp. Def",
         "dtype": "int64",
         "stats": {
          "unique_count": 5,
          "nan_count": 0,
          "min": "50",
          "max": "120",
          "histogram": [
           {
            "bin_start": 50,
            "bin_end": 57,
            "count": 1
           },
           {
            "bin_start": 57,
            "bin_end": 64,
            "count": 0
           },
           {
            "bin_start": 64,
            "bin_end": 71,
            "count": 1
           },
           {
            "bin_start": 71,
            "bin_end": 78,
            "count": 0
           },
           {
            "bin_start": 78,
            "bin_end": 85,
            "count": 1
           },
           {
            "bin_start": 85,
            "bin_end": 92,
            "count": 0
           },
           {
            "bin_start": 92,
            "bin_end": 99,
            "count": 0
           },
           {
            "bin_start": 99,
            "bin_end": 106,
            "count": 1
           },
           {
            "bin_start": 106,
            "bin_end": 113,
            "count": 0
           },
           {
            "bin_start": 113,
            "bin_end": 120,
            "count": 1
           }
          ]
         }
        },
        {
         "name": "Speed",
         "dtype": "int64",
         "stats": {
          "unique_count": 4,
          "nan_count": 0,
          "min": "45",
          "max": "80",
          "histogram": [
           {
            "bin_start": 45,
            "bin_end": 48.5,
            "count": 1
           },
           {
            "bin_start": 48.5,
            "bin_end": 52,
            "count": 0
           },
           {
            "bin_start": 52,
            "bin_end": 55.5,
            "count": 0
           },
           {
            "bin_start": 55.5,
            "bin_end": 59,
            "count": 0
           },
           {
            "bin_start": 59,
            "bin_end": 62.5,
            "count": 1
           },
           {
            "bin_start": 62.5,
            "bin_end": 66,
            "count": 1
           },
           {
            "bin_start": 66,
            "bin_end": 69.5,
            "count": 0
           },
           {
            "bin_start": 69.5,
            "bin_end": 73,
            "count": 0
           },
           {
            "bin_start": 73,
            "bin_end": 76.5,
            "count": 0
           },
           {
            "bin_start": 76.5,
            "bin_end": 80,
            "count": 2
           }
          ]
         }
        },
        {
         "name": "Generation",
         "dtype": "int64",
         "stats": {
          "unique_count": 1,
          "nan_count": 0,
          "min": "1",
          "max": "1",
          "histogram": [
           {
            "bin_start": 0.5,
            "bin_end": 0.6,
            "count": 0
           },
           {
            "bin_start": 0.6,
            "bin_end": 0.7,
            "count": 0
           },
           {
            "bin_start": 0.7,
            "bin_end": 0.8,
            "count": 0
           },
           {
            "bin_start": 0.8,
            "bin_end": 0.9,
            "count": 0
           },
           {
            "bin_start": 0.9,
            "bin_end": 1,
            "count": 0
           },
           {
            "bin_start": 1,
            "bin_end": 1.1,
            "count": 5
           },
           {
            "bin_start": 1.1,
            "bin_end": 1.2000000000000002,
            "count": 0
           },
           {
            "bin_start": 1.2000000000000002,
            "bin_end": 1.3,
            "count": 0
           },
           {
            "bin_start": 1.3,
            "bin_end": 1.4,
            "count": 0
           },
           {
            "bin_start": 1.4,
            "bin_end": 1.5,
            "count": 0
           }
          ]
         }
        },
        {
         "name": "Legendary",
         "dtype": "bool",
         "stats": {
          "unique_count": 1,
          "nan_count": 0,
          "categories": [
           {
            "name": "False",
            "count": 5
           }
          ]
         }
        },
        {
         "name": "Pred",
         "dtype": "float64",
         "stats": {
          "unique_count": 5,
          "nan_count": 0,
          "min": "61.197880524178565",
          "max": "82.69283800984644",
          "histogram": [
           {
            "bin_start": 61.197880524178565,
            "bin_end": 63.34737627274535,
            "count": 2
           },
           {
            "bin_start": 63.34737627274535,
            "bin_end": 65.49687202131214,
            "count": 0
           },
           {
            "bin_start": 65.49687202131214,
            "bin_end": 67.64636776987894,
            "count": 1
           },
           {
            "bin_start": 67.64636776987894,
            "bin_end": 69.79586351844571,
            "count": 0
           },
           {
            "bin_start": 69.79586351844571,
            "bin_end": 71.9453592670125,
            "count": 0
           },
           {
            "bin_start": 71.9453592670125,
            "bin_end": 74.0948550155793,
            "count": 0
           },
           {
            "bin_start": 74.0948550155793,
            "bin_end": 76.24435076414608,
            "count": 1
           },
           {
            "bin_start": 76.24435076414608,
            "bin_end": 78.39384651271287,
            "count": 0
           },
           {
            "bin_start": 78.39384651271287,
            "bin_end": 80.54334226127966,
            "count": 0
           },
           {
            "bin_start": 80.54334226127966,
            "bin_end": 82.69283800984644,
            "count": 1
           }
          ]
         }
        },
        {
         "name": "_deepnote_index_column",
         "dtype": "int64"
        }
       ],
       "rows": [
        {
         "#": 1,
         "Name": "Bulbasaur",
         "Type 1": "Grass",
         "Total": 318,
         "HP": 45,
         "Attack": 49,
         "Defense": 49,
         "Sp. Atk": 65,
         "Sp. Def": 65,
         "Speed": 45,
         "Generation": 1,
         "Legendary": false,
         "Pred": 61.197880524178565,
         "_deepnote_index_column": 0
        },
        {
         "#": 2,
         "Name": "Ivysaur",
         "Type 1": "Grass",
         "Total": 405,
         "HP": 60,
         "Attack": 62,
         "Defense": 63,
         "Sp. Atk": 80,
         "Sp. Def": 80,
         "Speed": 60,
         "Generation": 1,
         "Legendary": false,
         "Pred": 66.67698733425077,
         "_deepnote_index_column": 1
        },
        {
         "#": 3,
         "Name": "Venusaur",
         "Type 1": "Grass",
         "Total": 525,
         "HP": 80,
         "Attack": 82,
         "Defense": 83,
         "Sp. Atk": 100,
         "Sp. Def": 100,
         "Speed": 80,
         "Generation": 1,
         "Legendary": false,
         "Pred": 75.10638242666954,
         "_deepnote_index_column": 2
        },
        {
         "#": 3,
         "Name": "VenusaurMega Venusaur",
         "Type 1": "Grass",
         "Total": 625,
         "HP": 80,
         "Attack": 100,
         "Defense": 123,
         "Sp. Atk": 122,
         "Sp. Def": 120,
         "Speed": 80,
         "Generation": 1,
         "Legendary": false,
         "Pred": 82.69283800984644,
         "_deepnote_index_column": 3
        },
        {
         "#": 4,
         "Name": "Charmander",
         "Type 1": "Fire",
         "Total": 309,
         "HP": 39,
         "Attack": 52,
         "Defense": 43,
         "Sp. Atk": 60,
         "Sp. Def": 50,
         "Speed": 65,
         "Generation": 1,
         "Legendary": false,
         "Pred": 62.46228978804138,
         "_deepnote_index_column": 4
        }
       ]
      },
      "text/plain": "   #                   Name Type 1  Total  HP  Attack  Defense  Sp. Atk  \\\n0  1              Bulbasaur  Grass    318  45      49       49       65   \n1  2                Ivysaur  Grass    405  60      62       63       80   \n2  3               Venusaur  Grass    525  80      82       83      100   \n3  3  VenusaurMega Venusaur  Grass    625  80     100      123      122   \n4  4             Charmander   Fire    309  39      52       43       60   \n\n   Sp. Def  Speed  Generation  Legendary       Pred  \n0       65     45           1      False  61.197881  \n1       80     60           1      False  66.676987  \n2      100     80           1      False  75.106382  \n3      120     80           1      False  82.692838  \n4       50     65           1      False  62.462290  ",
      "text/html": "<div>\n<style scoped>\n    .dataframe tbody tr th:only-of-type {\n        vertical-align: middle;\n    }\n\n    .dataframe tbody tr th {\n        vertical-align: top;\n    }\n\n    .dataframe thead th {\n        text-align: right;\n    }\n</style>\n<table border=\"1\" class=\"dataframe\">\n  <thead>\n    <tr style=\"text-align: right;\">\n      <th></th>\n      <th>#</th>\n      <th>Name</th>\n      <th>Type 1</th>\n      <th>Total</th>\n      <th>HP</th>\n      <th>Attack</th>\n      <th>Defense</th>\n      <th>Sp. Atk</th>\n      <th>Sp. Def</th>\n      <th>Speed</th>\n      <th>Generation</th>\n      <th>Legendary</th>\n      <th>Pred</th>\n    </tr>\n  </thead>\n  <tbody>\n    <tr>\n      <th>0</th>\n      <td>1</td>\n      <td>Bulbasaur</td>\n      <td>Grass</td>\n      <td>318</td>\n      <td>45</td>\n      <td>49</td>\n      <td>49</td>\n      <td>65</td>\n      <td>65</td>\n      <td>45</td>\n      <td>1</td>\n      <td>False</td>\n      <td>61.197881</td>\n    </tr>\n    <tr>\n      <th>1</th>\n      <td>2</td>\n      <td>Ivysaur</td>\n      <td>Grass</td>\n      <td>405</td>\n      <td>60</td>\n      <td>62</td>\n      <td>63</td>\n      <td>80</td>\n      <td>80</td>\n      <td>60</td>\n      <td>1</td>\n      <td>False</td>\n      <td>66.676987</td>\n    </tr>\n    <tr>\n      <th>2</th>\n      <td>3</td>\n      <td>Venusaur</td>\n      <td>Grass</td>\n      <td>525</td>\n      <td>80</td>\n      <td>82</td>\n      <td>83</td>\n      <td>100</td>\n      <td>100</td>\n      <td>80</td>\n      <td>1</td>\n      <td>False</td>\n      <td>75.106382</td>\n    </tr>\n    <tr>\n      <th>3</th>\n      <td>3</td>\n      <td>VenusaurMega Venusaur</td>\n      <td>Grass</td>\n      <td>625</td>\n      <td>80</td>\n      <td>100</td>\n      <td>123</td>\n      <td>122</td>\n      <td>120</td>\n      <td>80</td>\n      <td>1</td>\n      <td>False</td>\n      <td>82.692838</td>\n    </tr>\n    <tr>\n      <th>4</th>\n      <td>4</td>\n      <td>Charmander</td>\n      <td>Fire</td>\n      <td>309</td>\n      <td>39</td>\n      <td>52</td>\n      <td>43</td>\n      <td>60</td>\n      <td>50</td>\n      <td>65</td>\n      <td>1</td>\n      <td>False</td>\n      <td>62.462290</td>\n    </tr>\n  </tbody>\n</table>\n</div>"
     },
     "metadata": {}
    }
   ]
  },
  {
   "cell_type": "markdown",
   "source": "<font size=5>\nMake Charts with our Linear Regression line",
   "metadata": {
    "cell_id": "35d722c5f5d143ae9bc1408dcfe9b8b9",
    "tags": [],
    "deepnote_cell_type": "markdown",
    "deepnote_cell_height": 68.359375
   }
  },
  {
   "cell_type": "code",
   "metadata": {
    "cell_id": "6347e7cc77c04d72969a781d642a309b",
    "tags": [],
    "deepnote_to_be_reexecuted": false,
    "source_hash": "722e909a",
    "execution_start": 1654751750851,
    "execution_millis": 241,
    "deepnote_cell_type": "code",
    "deepnote_cell_height": 619.953125
   },
   "source": "#draw the linear regression line prediction chart\nc = alt.Chart(df).mark_circle().encode(\n    x=\"Attack\",\n    y=\"Defense\"\n)\nc1=alt.Chart(df).mark_line(color=\"red\").encode(\n    x=\"Attack\",\n    y=\"Pred\"\n)\nc+c1",
   "execution_count": null,
   "outputs": [
    {
     "output_type": "execute_result",
     "execution_count": 6,
     "data": {
      "text/html": "\n<div id=\"altair-viz-306138fde590488e9381d0972de9c050\"></div>\n<script type=\"text/javascript\">\n  (function(spec, embedOpt){\n    let outputDiv = document.currentScript.previousElementSibling;\n    if (outputDiv.id !== \"altair-viz-306138fde590488e9381d0972de9c050\") {\n      outputDiv = document.getElementById(\"altair-viz-306138fde590488e9381d0972de9c050\");\n    }\n    const paths = {\n      \"vega\": \"https://cdn.jsdelivr.net/npm//vega@5?noext\",\n      \"vega-lib\": \"https://cdn.jsdelivr.net/npm//vega-lib?noext\",\n      \"vega-lite\": \"https://cdn.jsdelivr.net/npm//vega-lite@4.8.1?noext\",\n      \"vega-embed\": \"https://cdn.jsdelivr.net/npm//vega-embed@6?noext\",\n    };\n\n    function loadScript(lib) {\n      return new Promise(function(resolve, reject) {\n        var s = document.createElement('script');\n        s.src = paths[lib];\n        s.async = true;\n        s.onload = () => resolve(paths[lib]);\n        s.onerror = () => reject(`Error loading script: ${paths[lib]}`);\n        document.getElementsByTagName(\"head\")[0].appendChild(s);\n      });\n    }\n\n    function showError(err) {\n      outputDiv.innerHTML = `<div class=\"error\" style=\"color:red;\">${err}</div>`;\n      throw err;\n    }\n\n    function displayChart(vegaEmbed) {\n      vegaEmbed(outputDiv, spec, embedOpt)\n        .catch(err => showError(`Javascript Error: ${err.message}<br>This usually means there's a typo in your chart specification. See the javascript console for the full traceback.`));\n    }\n\n    if(typeof define === \"function\" && define.amd) {\n      requirejs.config({paths});\n      require([\"vega-embed\"], displayChart, err => showError(`Error loading script: ${err.message}`));\n    } else if (typeof vegaEmbed === \"function\") {\n      displayChart(vegaEmbed);\n    } else {\n      loadScript(\"vega\")\n        .then(() => loadScript(\"vega-lite\"))\n        .then(() => loadScript(\"vega-embed\"))\n        .catch(showError)\n        .then(() => displayChart(vegaEmbed));\n    }\n  })({\"config\": {\"view\": {\"continuousWidth\": 400, \"continuousHeight\": 300}}, \"layer\": [{\"mark\": \"circle\", \"encoding\": {\"x\": {\"type\": \"quantitative\", \"field\": \"Attack\"}, \"y\": {\"type\": \"quantitative\", \"field\": \"Defense\"}}}, {\"mark\": {\"type\": \"line\", \"color\": \"red\"}, \"encoding\": {\"x\": {\"type\": \"quantitative\", \"field\": \"Attack\"}, \"y\": {\"type\": \"quantitative\", \"field\": \"Pred\"}}}], \"data\": {\"name\": \"data-019bfefaf3b5c7d4998940c218a17392\"}, \"$schema\": \"https://vega.github.io/schema/vega-lite/v4.8.1.json\", \"datasets\": {\"data-019bfefaf3b5c7d4998940c218a17392\": [{\"#\": 1, \"Name\": \"Bulbasaur\", \"Type 1\": \"Grass\", \"Total\": 318, \"HP\": 45, \"Attack\": 49, \"Defense\": 49, \"Sp. Atk\": 65, \"Sp. Def\": 65, \"Speed\": 45, \"Generation\": 1, \"Legendary\": false, \"Pred\": 61.197880524178565}, {\"#\": 2, \"Name\": \"Ivysaur\", \"Type 1\": \"Grass\", \"Total\": 405, \"HP\": 60, \"Attack\": 62, \"Defense\": 63, \"Sp. Atk\": 80, \"Sp. Def\": 80, \"Speed\": 60, \"Generation\": 1, \"Legendary\": false, \"Pred\": 66.67698733425077}, {\"#\": 3, \"Name\": \"Venusaur\", \"Type 1\": \"Grass\", \"Total\": 525, \"HP\": 80, \"Attack\": 82, \"Defense\": 83, \"Sp. Atk\": 100, \"Sp. Def\": 100, \"Speed\": 80, \"Generation\": 1, \"Legendary\": false, \"Pred\": 75.10638242666954}, {\"#\": 3, \"Name\": \"VenusaurMega Venusaur\", \"Type 1\": \"Grass\", \"Total\": 625, \"HP\": 80, \"Attack\": 100, \"Defense\": 123, \"Sp. Atk\": 122, \"Sp. Def\": 120, \"Speed\": 80, \"Generation\": 1, \"Legendary\": false, \"Pred\": 82.69283800984644}, {\"#\": 4, \"Name\": \"Charmander\", \"Type 1\": \"Fire\", \"Total\": 309, \"HP\": 39, \"Attack\": 52, \"Defense\": 43, \"Sp. Atk\": 60, \"Sp. Def\": 50, \"Speed\": 65, \"Generation\": 1, \"Legendary\": false, \"Pred\": 62.46228978804138}, {\"#\": 5, \"Name\": \"Charmeleon\", \"Type 1\": \"Fire\", \"Total\": 405, \"HP\": 58, \"Attack\": 64, \"Defense\": 58, \"Sp. Atk\": 80, \"Sp. Def\": 65, \"Speed\": 80, \"Generation\": 1, \"Legendary\": false, \"Pred\": 67.51992684349264}, {\"#\": 6, \"Name\": \"Charizard\", \"Type 1\": \"Fire\", \"Total\": 534, \"HP\": 78, \"Attack\": 84, \"Defense\": 78, \"Sp. Atk\": 109, \"Sp. Def\": 85, \"Speed\": 100, \"Generation\": 1, \"Legendary\": false, \"Pred\": 75.94932193591141}, {\"#\": 6, \"Name\": \"CharizardMega Charizard X\", \"Type 1\": \"Fire\", \"Total\": 634, \"HP\": 78, \"Attack\": 130, \"Defense\": 111, \"Sp. Atk\": 130, \"Sp. Def\": 85, \"Speed\": 100, \"Generation\": 1, \"Legendary\": false, \"Pred\": 95.33693064847459}, {\"#\": 6, \"Name\": \"CharizardMega Charizard Y\", \"Type 1\": \"Fire\", \"Total\": 634, \"HP\": 78, \"Attack\": 104, \"Defense\": 78, \"Sp. Atk\": 159, \"Sp. Def\": 115, \"Speed\": 100, \"Generation\": 1, \"Legendary\": false, \"Pred\": 84.37871702833019}, {\"#\": 7, \"Name\": \"Squirtle\", \"Type 1\": \"Water\", \"Total\": 314, \"HP\": 44, \"Attack\": 48, \"Defense\": 65, \"Sp. Atk\": 50, \"Sp. Def\": 64, \"Speed\": 43, \"Generation\": 1, \"Legendary\": false, \"Pred\": 60.77641076955763}, {\"#\": 8, \"Name\": \"Wartortle\", \"Type 1\": \"Water\", \"Total\": 405, \"HP\": 59, \"Attack\": 63, \"Defense\": 80, \"Sp. Atk\": 65, \"Sp. Def\": 80, \"Speed\": 58, \"Generation\": 1, \"Legendary\": false, \"Pred\": 67.0984570888717}, {\"#\": 9, \"Name\": \"Blastoise\", \"Type 1\": \"Water\", \"Total\": 530, \"HP\": 79, \"Attack\": 83, \"Defense\": 100, \"Sp. Atk\": 85, \"Sp. Def\": 105, \"Speed\": 78, \"Generation\": 1, \"Legendary\": false, \"Pred\": 75.52785218129048}, {\"#\": 9, \"Name\": \"BlastoiseMega Blastoise\", \"Type 1\": \"Water\", \"Total\": 630, \"HP\": 79, \"Attack\": 103, \"Defense\": 120, \"Sp. Atk\": 135, \"Sp. Def\": 115, \"Speed\": 78, \"Generation\": 1, \"Legendary\": false, \"Pred\": 83.95724727370924}, {\"#\": 10, \"Name\": \"Caterpie\", \"Type 1\": \"Bug\", \"Total\": 195, \"HP\": 45, \"Attack\": 30, \"Defense\": 35, \"Sp. Atk\": 20, \"Sp. Def\": 20, \"Speed\": 45, \"Generation\": 1, \"Legendary\": false, \"Pred\": 53.189955186380736}, {\"#\": 11, \"Name\": \"Metapod\", \"Type 1\": \"Bug\", \"Total\": 205, \"HP\": 50, \"Attack\": 20, \"Defense\": 55, \"Sp. Atk\": 25, \"Sp. Def\": 25, \"Speed\": 30, \"Generation\": 1, \"Legendary\": false, \"Pred\": 48.97525764017135}, {\"#\": 12, \"Name\": \"Butterfree\", \"Type 1\": \"Bug\", \"Total\": 395, \"HP\": 60, \"Attack\": 45, \"Defense\": 50, \"Sp. Atk\": 90, \"Sp. Def\": 80, \"Speed\": 70, \"Generation\": 1, \"Legendary\": false, \"Pred\": 59.51200150569481}, {\"#\": 13, \"Name\": \"Weedle\", \"Type 1\": \"Bug\", \"Total\": 195, \"HP\": 40, \"Attack\": 35, \"Defense\": 30, \"Sp. Atk\": 20, \"Sp. Def\": 20, \"Speed\": 50, \"Generation\": 1, \"Legendary\": false, \"Pred\": 55.297303959485426}, {\"#\": 14, \"Name\": \"Kakuna\", \"Type 1\": \"Bug\", \"Total\": 205, \"HP\": 45, \"Attack\": 25, \"Defense\": 50, \"Sp. Atk\": 25, \"Sp. Def\": 25, \"Speed\": 35, \"Generation\": 1, \"Legendary\": false, \"Pred\": 51.08260641327604}, {\"#\": 15, \"Name\": \"Beedrill\", \"Type 1\": \"Bug\", \"Total\": 395, \"HP\": 65, \"Attack\": 90, \"Defense\": 40, \"Sp. Atk\": 45, \"Sp. Def\": 80, \"Speed\": 75, \"Generation\": 1, \"Legendary\": false, \"Pred\": 78.47814046363705}, {\"#\": 15, \"Name\": \"BeedrillMega Beedrill\", \"Type 1\": \"Bug\", \"Total\": 495, \"HP\": 65, \"Attack\": 150, \"Defense\": 40, \"Sp. Atk\": 15, \"Sp. Def\": 80, \"Speed\": 145, \"Generation\": 1, \"Legendary\": false, \"Pred\": 103.76632574089336}, {\"#\": 16, \"Name\": \"Pidgey\", \"Type 1\": \"Normal\", \"Total\": 251, \"HP\": 40, \"Attack\": 45, \"Defense\": 40, \"Sp. Atk\": 35, \"Sp. Def\": 35, \"Speed\": 56, \"Generation\": 1, \"Legendary\": false, \"Pred\": 59.51200150569481}, {\"#\": 17, \"Name\": \"Pidgeotto\", \"Type 1\": \"Normal\", \"Total\": 349, \"HP\": 63, \"Attack\": 60, \"Defense\": 55, \"Sp. Atk\": 50, \"Sp. Def\": 50, \"Speed\": 71, \"Generation\": 1, \"Legendary\": false, \"Pred\": 65.8340478250089}, {\"#\": 18, \"Name\": \"Pidgeot\", \"Type 1\": \"Normal\", \"Total\": 479, \"HP\": 83, \"Attack\": 80, \"Defense\": 75, \"Sp. Atk\": 70, \"Sp. Def\": 70, \"Speed\": 101, \"Generation\": 1, \"Legendary\": false, \"Pred\": 74.26344291742765}, {\"#\": 18, \"Name\": \"PidgeotMega Pidgeot\", \"Type 1\": \"Normal\", \"Total\": 579, \"HP\": 83, \"Attack\": 80, \"Defense\": 80, \"Sp. Atk\": 135, \"Sp. Def\": 80, \"Speed\": 121, \"Generation\": 1, \"Legendary\": false, \"Pred\": 74.26344291742765}, {\"#\": 19, \"Name\": \"Rattata\", \"Type 1\": \"Normal\", \"Total\": 253, \"HP\": 30, \"Attack\": 56, \"Defense\": 35, \"Sp. Atk\": 25, \"Sp. Def\": 35, \"Speed\": 72, \"Generation\": 1, \"Legendary\": false, \"Pred\": 64.14816880652513}, {\"#\": 20, \"Name\": \"Raticate\", \"Type 1\": \"Normal\", \"Total\": 413, \"HP\": 55, \"Attack\": 81, \"Defense\": 60, \"Sp. Atk\": 50, \"Sp. Def\": 70, \"Speed\": 97, \"Generation\": 1, \"Legendary\": false, \"Pred\": 74.6849126720486}, {\"#\": 21, \"Name\": \"Spearow\", \"Type 1\": \"Normal\", \"Total\": 262, \"HP\": 40, \"Attack\": 60, \"Defense\": 30, \"Sp. Atk\": 31, \"Sp. Def\": 31, \"Speed\": 70, \"Generation\": 1, \"Legendary\": false, \"Pred\": 65.8340478250089}, {\"#\": 22, \"Name\": \"Fearow\", \"Type 1\": \"Normal\", \"Total\": 442, \"HP\": 65, \"Attack\": 90, \"Defense\": 65, \"Sp. Atk\": 61, \"Sp. Def\": 61, \"Speed\": 100, \"Generation\": 1, \"Legendary\": false, \"Pred\": 78.47814046363705}, {\"#\": 23, \"Name\": \"Ekans\", \"Type 1\": \"Poison\", \"Total\": 288, \"HP\": 35, \"Attack\": 60, \"Defense\": 44, \"Sp. Atk\": 40, \"Sp. Def\": 54, \"Speed\": 55, \"Generation\": 1, \"Legendary\": false, \"Pred\": 65.8340478250089}, {\"#\": 24, \"Name\": \"Arbok\", \"Type 1\": \"Poison\", \"Total\": 438, \"HP\": 60, \"Attack\": 85, \"Defense\": 69, \"Sp. Atk\": 65, \"Sp. Def\": 79, \"Speed\": 80, \"Generation\": 1, \"Legendary\": false, \"Pred\": 76.37079169053236}, {\"#\": 25, \"Name\": \"Pikachu\", \"Type 1\": \"Electric\", \"Total\": 320, \"HP\": 35, \"Attack\": 55, \"Defense\": 40, \"Sp. Atk\": 50, \"Sp. Def\": 50, \"Speed\": 90, \"Generation\": 1, \"Legendary\": false, \"Pred\": 63.7266990519042}, {\"#\": 26, \"Name\": \"Raichu\", \"Type 1\": \"Electric\", \"Total\": 485, \"HP\": 60, \"Attack\": 90, \"Defense\": 55, \"Sp. Atk\": 90, \"Sp. Def\": 80, \"Speed\": 110, \"Generation\": 1, \"Legendary\": false, \"Pred\": 78.47814046363705}, {\"#\": 27, \"Name\": \"Sandshrew\", \"Type 1\": \"Ground\", \"Total\": 300, \"HP\": 50, \"Attack\": 75, \"Defense\": 85, \"Sp. Atk\": 20, \"Sp. Def\": 30, \"Speed\": 40, \"Generation\": 1, \"Legendary\": false, \"Pred\": 72.15609414432296}, {\"#\": 28, \"Name\": \"Sandslash\", \"Type 1\": \"Ground\", \"Total\": 450, \"HP\": 75, \"Attack\": 100, \"Defense\": 110, \"Sp. Atk\": 45, \"Sp. Def\": 55, \"Speed\": 65, \"Generation\": 1, \"Legendary\": false, \"Pred\": 82.69283800984644}, {\"#\": 29, \"Name\": \"Nidoran\\u2640\", \"Type 1\": \"Poison\", \"Total\": 275, \"HP\": 55, \"Attack\": 47, \"Defense\": 52, \"Sp. Atk\": 40, \"Sp. Def\": 40, \"Speed\": 41, \"Generation\": 1, \"Legendary\": false, \"Pred\": 60.354941014936685}, {\"#\": 30, \"Name\": \"Nidorina\", \"Type 1\": \"Poison\", \"Total\": 365, \"HP\": 70, \"Attack\": 62, \"Defense\": 67, \"Sp. Atk\": 55, \"Sp. Def\": 55, \"Speed\": 56, \"Generation\": 1, \"Legendary\": false, \"Pred\": 66.67698733425077}, {\"#\": 31, \"Name\": \"Nidoqueen\", \"Type 1\": \"Poison\", \"Total\": 505, \"HP\": 90, \"Attack\": 92, \"Defense\": 87, \"Sp. Atk\": 75, \"Sp. Def\": 85, \"Speed\": 76, \"Generation\": 1, \"Legendary\": false, \"Pred\": 79.32107997287892}, {\"#\": 32, \"Name\": \"Nidoran\\u2642\", \"Type 1\": \"Poison\", \"Total\": 273, \"HP\": 46, \"Attack\": 57, \"Defense\": 40, \"Sp. Atk\": 40, \"Sp. Def\": 40, \"Speed\": 50, \"Generation\": 1, \"Legendary\": false, \"Pred\": 64.56963856114608}, {\"#\": 33, \"Name\": \"Nidorino\", \"Type 1\": \"Poison\", \"Total\": 365, \"HP\": 61, \"Attack\": 72, \"Defense\": 57, \"Sp. Atk\": 55, \"Sp. Def\": 55, \"Speed\": 65, \"Generation\": 1, \"Legendary\": false, \"Pred\": 70.89168488046016}, {\"#\": 34, \"Name\": \"Nidoking\", \"Type 1\": \"Poison\", \"Total\": 505, \"HP\": 81, \"Attack\": 102, \"Defense\": 77, \"Sp. Atk\": 85, \"Sp. Def\": 75, \"Speed\": 85, \"Generation\": 1, \"Legendary\": false, \"Pred\": 83.5357775190883}, {\"#\": 35, \"Name\": \"Clefairy\", \"Type 1\": \"Fairy\", \"Total\": 323, \"HP\": 70, \"Attack\": 45, \"Defense\": 48, \"Sp. Atk\": 60, \"Sp. Def\": 65, \"Speed\": 35, \"Generation\": 1, \"Legendary\": false, \"Pred\": 59.51200150569481}, {\"#\": 36, \"Name\": \"Clefable\", \"Type 1\": \"Fairy\", \"Total\": 483, \"HP\": 95, \"Attack\": 70, \"Defense\": 73, \"Sp. Atk\": 95, \"Sp. Def\": 90, \"Speed\": 60, \"Generation\": 1, \"Legendary\": false, \"Pred\": 70.04874537121827}, {\"#\": 37, \"Name\": \"Vulpix\", \"Type 1\": \"Fire\", \"Total\": 299, \"HP\": 38, \"Attack\": 41, \"Defense\": 40, \"Sp. Atk\": 50, \"Sp. Def\": 65, \"Speed\": 65, \"Generation\": 1, \"Legendary\": false, \"Pred\": 57.82612248721106}, {\"#\": 38, \"Name\": \"Ninetales\", \"Type 1\": \"Fire\", \"Total\": 505, \"HP\": 73, \"Attack\": 76, \"Defense\": 75, \"Sp. Atk\": 81, \"Sp. Def\": 100, \"Speed\": 100, \"Generation\": 1, \"Legendary\": false, \"Pred\": 72.57756389894391}, {\"#\": 39, \"Name\": \"Jigglypuff\", \"Type 1\": \"Normal\", \"Total\": 270, \"HP\": 115, \"Attack\": 45, \"Defense\": 20, \"Sp. Atk\": 45, \"Sp. Def\": 25, \"Speed\": 20, \"Generation\": 1, \"Legendary\": false, \"Pred\": 59.51200150569481}, {\"#\": 40, \"Name\": \"Wigglytuff\", \"Type 1\": \"Normal\", \"Total\": 435, \"HP\": 140, \"Attack\": 70, \"Defense\": 45, \"Sp. Atk\": 85, \"Sp. Def\": 50, \"Speed\": 45, \"Generation\": 1, \"Legendary\": false, \"Pred\": 70.04874537121827}, {\"#\": 41, \"Name\": \"Zubat\", \"Type 1\": \"Poison\", \"Total\": 245, \"HP\": 40, \"Attack\": 45, \"Defense\": 35, \"Sp. Atk\": 30, \"Sp. Def\": 40, \"Speed\": 55, \"Generation\": 1, \"Legendary\": false, \"Pred\": 59.51200150569481}, {\"#\": 42, \"Name\": \"Golbat\", \"Type 1\": \"Poison\", \"Total\": 455, \"HP\": 75, \"Attack\": 80, \"Defense\": 70, \"Sp. Atk\": 65, \"Sp. Def\": 75, \"Speed\": 90, \"Generation\": 1, \"Legendary\": false, \"Pred\": 74.26344291742765}, {\"#\": 43, \"Name\": \"Oddish\", \"Type 1\": \"Grass\", \"Total\": 320, \"HP\": 45, \"Attack\": 50, \"Defense\": 55, \"Sp. Atk\": 75, \"Sp. Def\": 65, \"Speed\": 30, \"Generation\": 1, \"Legendary\": false, \"Pred\": 61.6193502787995}, {\"#\": 44, \"Name\": \"Gloom\", \"Type 1\": \"Grass\", \"Total\": 395, \"HP\": 60, \"Attack\": 65, \"Defense\": 70, \"Sp. Atk\": 85, \"Sp. Def\": 75, \"Speed\": 40, \"Generation\": 1, \"Legendary\": false, \"Pred\": 67.94139659811358}, {\"#\": 45, \"Name\": \"Vileplume\", \"Type 1\": \"Grass\", \"Total\": 490, \"HP\": 75, \"Attack\": 80, \"Defense\": 85, \"Sp. Atk\": 110, \"Sp. Def\": 90, \"Speed\": 50, \"Generation\": 1, \"Legendary\": false, \"Pred\": 74.26344291742765}, {\"#\": 46, \"Name\": \"Paras\", \"Type 1\": \"Bug\", \"Total\": 285, \"HP\": 35, \"Attack\": 70, \"Defense\": 55, \"Sp. Atk\": 45, \"Sp. Def\": 55, \"Speed\": 25, \"Generation\": 1, \"Legendary\": false, \"Pred\": 70.04874537121827}, {\"#\": 47, \"Name\": \"Parasect\", \"Type 1\": \"Bug\", \"Total\": 405, \"HP\": 60, \"Attack\": 95, \"Defense\": 80, \"Sp. Atk\": 60, \"Sp. Def\": 80, \"Speed\": 30, \"Generation\": 1, \"Legendary\": false, \"Pred\": 80.58548923674174}, {\"#\": 48, \"Name\": \"Venonat\", \"Type 1\": \"Bug\", \"Total\": 305, \"HP\": 60, \"Attack\": 55, \"Defense\": 50, \"Sp. Atk\": 40, \"Sp. Def\": 55, \"Speed\": 45, \"Generation\": 1, \"Legendary\": false, \"Pred\": 63.7266990519042}, {\"#\": 49, \"Name\": \"Venomoth\", \"Type 1\": \"Bug\", \"Total\": 450, \"HP\": 70, \"Attack\": 65, \"Defense\": 60, \"Sp. Atk\": 90, \"Sp. Def\": 75, \"Speed\": 90, \"Generation\": 1, \"Legendary\": false, \"Pred\": 67.94139659811358}, {\"#\": 50, \"Name\": \"Diglett\", \"Type 1\": \"Ground\", \"Total\": 265, \"HP\": 10, \"Attack\": 55, \"Defense\": 25, \"Sp. Atk\": 35, \"Sp. Def\": 45, \"Speed\": 95, \"Generation\": 1, \"Legendary\": false, \"Pred\": 63.7266990519042}, {\"#\": 51, \"Name\": \"Dugtrio\", \"Type 1\": \"Ground\", \"Total\": 405, \"HP\": 35, \"Attack\": 80, \"Defense\": 50, \"Sp. Atk\": 50, \"Sp. Def\": 70, \"Speed\": 120, \"Generation\": 1, \"Legendary\": false, \"Pred\": 74.26344291742765}, {\"#\": 52, \"Name\": \"Meowth\", \"Type 1\": \"Normal\", \"Total\": 290, \"HP\": 40, \"Attack\": 45, \"Defense\": 35, \"Sp. Atk\": 40, \"Sp. Def\": 40, \"Speed\": 90, \"Generation\": 1, \"Legendary\": false, \"Pred\": 59.51200150569481}, {\"#\": 53, \"Name\": \"Persian\", \"Type 1\": \"Normal\", \"Total\": 440, \"HP\": 65, \"Attack\": 70, \"Defense\": 60, \"Sp. Atk\": 65, \"Sp. Def\": 65, \"Speed\": 115, \"Generation\": 1, \"Legendary\": false, \"Pred\": 70.04874537121827}, {\"#\": 54, \"Name\": \"Psyduck\", \"Type 1\": \"Water\", \"Total\": 320, \"HP\": 50, \"Attack\": 52, \"Defense\": 48, \"Sp. Atk\": 65, \"Sp. Def\": 50, \"Speed\": 55, \"Generation\": 1, \"Legendary\": false, \"Pred\": 62.46228978804138}, {\"#\": 55, \"Name\": \"Golduck\", \"Type 1\": \"Water\", \"Total\": 500, \"HP\": 80, \"Attack\": 82, \"Defense\": 78, \"Sp. Atk\": 95, \"Sp. Def\": 80, \"Speed\": 85, \"Generation\": 1, \"Legendary\": false, \"Pred\": 75.10638242666954}, {\"#\": 56, \"Name\": \"Mankey\", \"Type 1\": \"Fighting\", \"Total\": 305, \"HP\": 40, \"Attack\": 80, \"Defense\": 35, \"Sp. Atk\": 35, \"Sp. Def\": 45, \"Speed\": 70, \"Generation\": 1, \"Legendary\": false, \"Pred\": 74.26344291742765}, {\"#\": 57, \"Name\": \"Primeape\", \"Type 1\": \"Fighting\", \"Total\": 455, \"HP\": 65, \"Attack\": 105, \"Defense\": 60, \"Sp. Atk\": 60, \"Sp. Def\": 70, \"Speed\": 95, \"Generation\": 1, \"Legendary\": false, \"Pred\": 84.80018678295113}, {\"#\": 58, \"Name\": \"Growlithe\", \"Type 1\": \"Fire\", \"Total\": 350, \"HP\": 55, \"Attack\": 70, \"Defense\": 45, \"Sp. Atk\": 70, \"Sp. Def\": 50, \"Speed\": 60, \"Generation\": 1, \"Legendary\": false, \"Pred\": 70.04874537121827}, {\"#\": 59, \"Name\": \"Arcanine\", \"Type 1\": \"Fire\", \"Total\": 555, \"HP\": 90, \"Attack\": 110, \"Defense\": 80, \"Sp. Atk\": 100, \"Sp. Def\": 80, \"Speed\": 95, \"Generation\": 1, \"Legendary\": false, \"Pred\": 86.90753555605582}, {\"#\": 60, \"Name\": \"Poliwag\", \"Type 1\": \"Water\", \"Total\": 300, \"HP\": 40, \"Attack\": 50, \"Defense\": 40, \"Sp. Atk\": 40, \"Sp. Def\": 40, \"Speed\": 90, \"Generation\": 1, \"Legendary\": false, \"Pred\": 61.6193502787995}, {\"#\": 61, \"Name\": \"Poliwhirl\", \"Type 1\": \"Water\", \"Total\": 385, \"HP\": 65, \"Attack\": 65, \"Defense\": 65, \"Sp. Atk\": 50, \"Sp. Def\": 50, \"Speed\": 90, \"Generation\": 1, \"Legendary\": false, \"Pred\": 67.94139659811358}, {\"#\": 62, \"Name\": \"Poliwrath\", \"Type 1\": \"Water\", \"Total\": 510, \"HP\": 90, \"Attack\": 95, \"Defense\": 95, \"Sp. Atk\": 70, \"Sp. Def\": 90, \"Speed\": 70, \"Generation\": 1, \"Legendary\": false, \"Pred\": 80.58548923674174}, {\"#\": 63, \"Name\": \"Abra\", \"Type 1\": \"Psychic\", \"Total\": 310, \"HP\": 25, \"Attack\": 20, \"Defense\": 15, \"Sp. Atk\": 105, \"Sp. Def\": 55, \"Speed\": 90, \"Generation\": 1, \"Legendary\": false, \"Pred\": 48.97525764017135}, {\"#\": 64, \"Name\": \"Kadabra\", \"Type 1\": \"Psychic\", \"Total\": 400, \"HP\": 40, \"Attack\": 35, \"Defense\": 30, \"Sp. Atk\": 120, \"Sp. Def\": 70, \"Speed\": 105, \"Generation\": 1, \"Legendary\": false, \"Pred\": 55.297303959485426}, {\"#\": 65, \"Name\": \"Alakazam\", \"Type 1\": \"Psychic\", \"Total\": 500, \"HP\": 55, \"Attack\": 50, \"Defense\": 45, \"Sp. Atk\": 135, \"Sp. Def\": 95, \"Speed\": 120, \"Generation\": 1, \"Legendary\": false, \"Pred\": 61.6193502787995}, {\"#\": 65, \"Name\": \"AlakazamMega Alakazam\", \"Type 1\": \"Psychic\", \"Total\": 590, \"HP\": 55, \"Attack\": 50, \"Defense\": 65, \"Sp. Atk\": 175, \"Sp. Def\": 95, \"Speed\": 150, \"Generation\": 1, \"Legendary\": false, \"Pred\": 61.6193502787995}, {\"#\": 66, \"Name\": \"Machop\", \"Type 1\": \"Fighting\", \"Total\": 305, \"HP\": 70, \"Attack\": 80, \"Defense\": 50, \"Sp. Atk\": 35, \"Sp. Def\": 35, \"Speed\": 35, \"Generation\": 1, \"Legendary\": false, \"Pred\": 74.26344291742765}, {\"#\": 67, \"Name\": \"Machoke\", \"Type 1\": \"Fighting\", \"Total\": 405, \"HP\": 80, \"Attack\": 100, \"Defense\": 70, \"Sp. Atk\": 50, \"Sp. Def\": 60, \"Speed\": 45, \"Generation\": 1, \"Legendary\": false, \"Pred\": 82.69283800984644}, {\"#\": 68, \"Name\": \"Machamp\", \"Type 1\": \"Fighting\", \"Total\": 505, \"HP\": 90, \"Attack\": 130, \"Defense\": 80, \"Sp. Atk\": 65, \"Sp. Def\": 85, \"Speed\": 55, \"Generation\": 1, \"Legendary\": false, \"Pred\": 95.33693064847459}, {\"#\": 69, \"Name\": \"Bellsprout\", \"Type 1\": \"Grass\", \"Total\": 300, \"HP\": 50, \"Attack\": 75, \"Defense\": 35, \"Sp. Atk\": 70, \"Sp. Def\": 30, \"Speed\": 40, \"Generation\": 1, \"Legendary\": false, \"Pred\": 72.15609414432296}, {\"#\": 70, \"Name\": \"Weepinbell\", \"Type 1\": \"Grass\", \"Total\": 390, \"HP\": 65, \"Attack\": 90, \"Defense\": 50, \"Sp. Atk\": 85, \"Sp. Def\": 45, \"Speed\": 55, \"Generation\": 1, \"Legendary\": false, \"Pred\": 78.47814046363705}, {\"#\": 71, \"Name\": \"Victreebel\", \"Type 1\": \"Grass\", \"Total\": 490, \"HP\": 80, \"Attack\": 105, \"Defense\": 65, \"Sp. Atk\": 100, \"Sp. Def\": 70, \"Speed\": 70, \"Generation\": 1, \"Legendary\": false, \"Pred\": 84.80018678295113}, {\"#\": 72, \"Name\": \"Tentacool\", \"Type 1\": \"Water\", \"Total\": 335, \"HP\": 40, \"Attack\": 40, \"Defense\": 35, \"Sp. Atk\": 50, \"Sp. Def\": 100, \"Speed\": 70, \"Generation\": 1, \"Legendary\": false, \"Pred\": 57.40465273259012}, {\"#\": 73, \"Name\": \"Tentacruel\", \"Type 1\": \"Water\", \"Total\": 515, \"HP\": 80, \"Attack\": 70, \"Defense\": 65, \"Sp. Atk\": 80, \"Sp. Def\": 120, \"Speed\": 100, \"Generation\": 1, \"Legendary\": false, \"Pred\": 70.04874537121827}, {\"#\": 74, \"Name\": \"Geodude\", \"Type 1\": \"Rock\", \"Total\": 300, \"HP\": 40, \"Attack\": 80, \"Defense\": 100, \"Sp. Atk\": 30, \"Sp. Def\": 30, \"Speed\": 20, \"Generation\": 1, \"Legendary\": false, \"Pred\": 74.26344291742765}, {\"#\": 75, \"Name\": \"Graveler\", \"Type 1\": \"Rock\", \"Total\": 390, \"HP\": 55, \"Attack\": 95, \"Defense\": 115, \"Sp. Atk\": 45, \"Sp. Def\": 45, \"Speed\": 35, \"Generation\": 1, \"Legendary\": false, \"Pred\": 80.58548923674174}, {\"#\": 76, \"Name\": \"Golem\", \"Type 1\": \"Rock\", \"Total\": 495, \"HP\": 80, \"Attack\": 120, \"Defense\": 130, \"Sp. Atk\": 55, \"Sp. Def\": 65, \"Speed\": 45, \"Generation\": 1, \"Legendary\": false, \"Pred\": 91.1222331022652}, {\"#\": 77, \"Name\": \"Ponyta\", \"Type 1\": \"Fire\", \"Total\": 410, \"HP\": 50, \"Attack\": 85, \"Defense\": 55, \"Sp. Atk\": 65, \"Sp. Def\": 65, \"Speed\": 90, \"Generation\": 1, \"Legendary\": false, \"Pred\": 76.37079169053236}, {\"#\": 78, \"Name\": \"Rapidash\", \"Type 1\": \"Fire\", \"Total\": 500, \"HP\": 65, \"Attack\": 100, \"Defense\": 70, \"Sp. Atk\": 80, \"Sp. Def\": 80, \"Speed\": 105, \"Generation\": 1, \"Legendary\": false, \"Pred\": 82.69283800984644}, {\"#\": 79, \"Name\": \"Slowpoke\", \"Type 1\": \"Water\", \"Total\": 315, \"HP\": 90, \"Attack\": 65, \"Defense\": 65, \"Sp. Atk\": 40, \"Sp. Def\": 40, \"Speed\": 15, \"Generation\": 1, \"Legendary\": false, \"Pred\": 67.94139659811358}, {\"#\": 80, \"Name\": \"Slowbro\", \"Type 1\": \"Water\", \"Total\": 490, \"HP\": 95, \"Attack\": 75, \"Defense\": 110, \"Sp. Atk\": 100, \"Sp. Def\": 80, \"Speed\": 30, \"Generation\": 1, \"Legendary\": false, \"Pred\": 72.15609414432296}, {\"#\": 80, \"Name\": \"SlowbroMega Slowbro\", \"Type 1\": \"Water\", \"Total\": 590, \"HP\": 95, \"Attack\": 75, \"Defense\": 180, \"Sp. Atk\": 130, \"Sp. Def\": 80, \"Speed\": 30, \"Generation\": 1, \"Legendary\": false, \"Pred\": 72.15609414432296}, {\"#\": 81, \"Name\": \"Magnemite\", \"Type 1\": \"Electric\", \"Total\": 325, \"HP\": 25, \"Attack\": 35, \"Defense\": 70, \"Sp. Atk\": 95, \"Sp. Def\": 55, \"Speed\": 45, \"Generation\": 1, \"Legendary\": false, \"Pred\": 55.297303959485426}, {\"#\": 82, \"Name\": \"Magneton\", \"Type 1\": \"Electric\", \"Total\": 465, \"HP\": 50, \"Attack\": 60, \"Defense\": 95, \"Sp. Atk\": 120, \"Sp. Def\": 70, \"Speed\": 70, \"Generation\": 1, \"Legendary\": false, \"Pred\": 65.8340478250089}, {\"#\": 83, \"Name\": \"Farfetch'd\", \"Type 1\": \"Normal\", \"Total\": 352, \"HP\": 52, \"Attack\": 65, \"Defense\": 55, \"Sp. Atk\": 58, \"Sp. Def\": 62, \"Speed\": 60, \"Generation\": 1, \"Legendary\": false, \"Pred\": 67.94139659811358}, {\"#\": 84, \"Name\": \"Doduo\", \"Type 1\": \"Normal\", \"Total\": 310, \"HP\": 35, \"Attack\": 85, \"Defense\": 45, \"Sp. Atk\": 35, \"Sp. Def\": 35, \"Speed\": 75, \"Generation\": 1, \"Legendary\": false, \"Pred\": 76.37079169053236}, {\"#\": 85, \"Name\": \"Dodrio\", \"Type 1\": \"Normal\", \"Total\": 460, \"HP\": 60, \"Attack\": 110, \"Defense\": 70, \"Sp. Atk\": 60, \"Sp. Def\": 60, \"Speed\": 100, \"Generation\": 1, \"Legendary\": false, \"Pred\": 86.90753555605582}, {\"#\": 86, \"Name\": \"Seel\", \"Type 1\": \"Water\", \"Total\": 325, \"HP\": 65, \"Attack\": 45, \"Defense\": 55, \"Sp. Atk\": 45, \"Sp. Def\": 70, \"Speed\": 45, \"Generation\": 1, \"Legendary\": false, \"Pred\": 59.51200150569481}, {\"#\": 87, \"Name\": \"Dewgong\", \"Type 1\": \"Water\", \"Total\": 475, \"HP\": 90, \"Attack\": 70, \"Defense\": 80, \"Sp. Atk\": 70, \"Sp. Def\": 95, \"Speed\": 70, \"Generation\": 1, \"Legendary\": false, \"Pred\": 70.04874537121827}, {\"#\": 88, \"Name\": \"Grimer\", \"Type 1\": \"Poison\", \"Total\": 325, \"HP\": 80, \"Attack\": 80, \"Defense\": 50, \"Sp. Atk\": 40, \"Sp. Def\": 50, \"Speed\": 25, \"Generation\": 1, \"Legendary\": false, \"Pred\": 74.26344291742765}, {\"#\": 89, \"Name\": \"Muk\", \"Type 1\": \"Poison\", \"Total\": 500, \"HP\": 105, \"Attack\": 105, \"Defense\": 75, \"Sp. Atk\": 65, \"Sp. Def\": 100, \"Speed\": 50, \"Generation\": 1, \"Legendary\": false, \"Pred\": 84.80018678295113}, {\"#\": 90, \"Name\": \"Shellder\", \"Type 1\": \"Water\", \"Total\": 305, \"HP\": 30, \"Attack\": 65, \"Defense\": 100, \"Sp. Atk\": 45, \"Sp. Def\": 25, \"Speed\": 40, \"Generation\": 1, \"Legendary\": false, \"Pred\": 67.94139659811358}, {\"#\": 91, \"Name\": \"Cloyster\", \"Type 1\": \"Water\", \"Total\": 525, \"HP\": 50, \"Attack\": 95, \"Defense\": 180, \"Sp. Atk\": 85, \"Sp. Def\": 45, \"Speed\": 70, \"Generation\": 1, \"Legendary\": false, \"Pred\": 80.58548923674174}, {\"#\": 92, \"Name\": \"Gastly\", \"Type 1\": \"Ghost\", \"Total\": 310, \"HP\": 30, \"Attack\": 35, \"Defense\": 30, \"Sp. Atk\": 100, \"Sp. Def\": 35, \"Speed\": 80, \"Generation\": 1, \"Legendary\": false, \"Pred\": 55.297303959485426}, {\"#\": 93, \"Name\": \"Haunter\", \"Type 1\": \"Ghost\", \"Total\": 405, \"HP\": 45, \"Attack\": 50, \"Defense\": 45, \"Sp. Atk\": 115, \"Sp. Def\": 55, \"Speed\": 95, \"Generation\": 1, \"Legendary\": false, \"Pred\": 61.6193502787995}, {\"#\": 94, \"Name\": \"Gengar\", \"Type 1\": \"Ghost\", \"Total\": 500, \"HP\": 60, \"Attack\": 65, \"Defense\": 60, \"Sp. Atk\": 130, \"Sp. Def\": 75, \"Speed\": 110, \"Generation\": 1, \"Legendary\": false, \"Pred\": 67.94139659811358}, {\"#\": 94, \"Name\": \"GengarMega Gengar\", \"Type 1\": \"Ghost\", \"Total\": 600, \"HP\": 60, \"Attack\": 65, \"Defense\": 80, \"Sp. Atk\": 170, \"Sp. Def\": 95, \"Speed\": 130, \"Generation\": 1, \"Legendary\": false, \"Pred\": 67.94139659811358}, {\"#\": 95, \"Name\": \"Onix\", \"Type 1\": \"Rock\", \"Total\": 385, \"HP\": 35, \"Attack\": 45, \"Defense\": 160, \"Sp. Atk\": 30, \"Sp. Def\": 45, \"Speed\": 70, \"Generation\": 1, \"Legendary\": false, \"Pred\": 59.51200150569481}, {\"#\": 96, \"Name\": \"Drowzee\", \"Type 1\": \"Psychic\", \"Total\": 328, \"HP\": 60, \"Attack\": 48, \"Defense\": 45, \"Sp. Atk\": 43, \"Sp. Def\": 90, \"Speed\": 42, \"Generation\": 1, \"Legendary\": false, \"Pred\": 60.77641076955763}, {\"#\": 97, \"Name\": \"Hypno\", \"Type 1\": \"Psychic\", \"Total\": 483, \"HP\": 85, \"Attack\": 73, \"Defense\": 70, \"Sp. Atk\": 73, \"Sp. Def\": 115, \"Speed\": 67, \"Generation\": 1, \"Legendary\": false, \"Pred\": 71.31315463508109}, {\"#\": 98, \"Name\": \"Krabby\", \"Type 1\": \"Water\", \"Total\": 325, \"HP\": 30, \"Attack\": 105, \"Defense\": 90, \"Sp. Atk\": 25, \"Sp. Def\": 25, \"Speed\": 50, \"Generation\": 1, \"Legendary\": false, \"Pred\": 84.80018678295113}, {\"#\": 99, \"Name\": \"Kingler\", \"Type 1\": \"Water\", \"Total\": 475, \"HP\": 55, \"Attack\": 130, \"Defense\": 115, \"Sp. Atk\": 50, \"Sp. Def\": 50, \"Speed\": 75, \"Generation\": 1, \"Legendary\": false, \"Pred\": 95.33693064847459}, {\"#\": 100, \"Name\": \"Voltorb\", \"Type 1\": \"Electric\", \"Total\": 330, \"HP\": 40, \"Attack\": 30, \"Defense\": 50, \"Sp. Atk\": 55, \"Sp. Def\": 55, \"Speed\": 100, \"Generation\": 1, \"Legendary\": false, \"Pred\": 53.189955186380736}, {\"#\": 101, \"Name\": \"Electrode\", \"Type 1\": \"Electric\", \"Total\": 480, \"HP\": 60, \"Attack\": 50, \"Defense\": 70, \"Sp. Atk\": 80, \"Sp. Def\": 80, \"Speed\": 140, \"Generation\": 1, \"Legendary\": false, \"Pred\": 61.6193502787995}, {\"#\": 102, \"Name\": \"Exeggcute\", \"Type 1\": \"Grass\", \"Total\": 325, \"HP\": 60, \"Attack\": 40, \"Defense\": 80, \"Sp. Atk\": 60, \"Sp. Def\": 45, \"Speed\": 40, \"Generation\": 1, \"Legendary\": false, \"Pred\": 57.40465273259012}, {\"#\": 103, \"Name\": \"Exeggutor\", \"Type 1\": \"Grass\", \"Total\": 520, \"HP\": 95, \"Attack\": 95, \"Defense\": 85, \"Sp. Atk\": 125, \"Sp. Def\": 65, \"Speed\": 55, \"Generation\": 1, \"Legendary\": false, \"Pred\": 80.58548923674174}, {\"#\": 104, \"Name\": \"Cubone\", \"Type 1\": \"Ground\", \"Total\": 320, \"HP\": 50, \"Attack\": 50, \"Defense\": 95, \"Sp. Atk\": 40, \"Sp. Def\": 50, \"Speed\": 35, \"Generation\": 1, \"Legendary\": false, \"Pred\": 61.6193502787995}, {\"#\": 105, \"Name\": \"Marowak\", \"Type 1\": \"Ground\", \"Total\": 425, \"HP\": 60, \"Attack\": 80, \"Defense\": 110, \"Sp. Atk\": 50, \"Sp. Def\": 80, \"Speed\": 45, \"Generation\": 1, \"Legendary\": false, \"Pred\": 74.26344291742765}, {\"#\": 106, \"Name\": \"Hitmonlee\", \"Type 1\": \"Fighting\", \"Total\": 455, \"HP\": 50, \"Attack\": 120, \"Defense\": 53, \"Sp. Atk\": 35, \"Sp. Def\": 110, \"Speed\": 87, \"Generation\": 1, \"Legendary\": false, \"Pred\": 91.1222331022652}, {\"#\": 107, \"Name\": \"Hitmonchan\", \"Type 1\": \"Fighting\", \"Total\": 455, \"HP\": 50, \"Attack\": 105, \"Defense\": 79, \"Sp. Atk\": 35, \"Sp. Def\": 110, \"Speed\": 76, \"Generation\": 1, \"Legendary\": false, \"Pred\": 84.80018678295113}, {\"#\": 108, \"Name\": \"Lickitung\", \"Type 1\": \"Normal\", \"Total\": 385, \"HP\": 90, \"Attack\": 55, \"Defense\": 75, \"Sp. Atk\": 60, \"Sp. Def\": 75, \"Speed\": 30, \"Generation\": 1, \"Legendary\": false, \"Pred\": 63.7266990519042}, {\"#\": 109, \"Name\": \"Koffing\", \"Type 1\": \"Poison\", \"Total\": 340, \"HP\": 40, \"Attack\": 65, \"Defense\": 95, \"Sp. Atk\": 60, \"Sp. Def\": 45, \"Speed\": 35, \"Generation\": 1, \"Legendary\": false, \"Pred\": 67.94139659811358}, {\"#\": 110, \"Name\": \"Weezing\", \"Type 1\": \"Poison\", \"Total\": 490, \"HP\": 65, \"Attack\": 90, \"Defense\": 120, \"Sp. Atk\": 85, \"Sp. Def\": 70, \"Speed\": 60, \"Generation\": 1, \"Legendary\": false, \"Pred\": 78.47814046363705}, {\"#\": 111, \"Name\": \"Rhyhorn\", \"Type 1\": \"Ground\", \"Total\": 345, \"HP\": 80, \"Attack\": 85, \"Defense\": 95, \"Sp. Atk\": 30, \"Sp. Def\": 30, \"Speed\": 25, \"Generation\": 1, \"Legendary\": false, \"Pred\": 76.37079169053236}, {\"#\": 112, \"Name\": \"Rhydon\", \"Type 1\": \"Ground\", \"Total\": 485, \"HP\": 105, \"Attack\": 130, \"Defense\": 120, \"Sp. Atk\": 45, \"Sp. Def\": 45, \"Speed\": 40, \"Generation\": 1, \"Legendary\": false, \"Pred\": 95.33693064847459}, {\"#\": 113, \"Name\": \"Chansey\", \"Type 1\": \"Normal\", \"Total\": 450, \"HP\": 250, \"Attack\": 5, \"Defense\": 5, \"Sp. Atk\": 35, \"Sp. Def\": 105, \"Speed\": 50, \"Generation\": 1, \"Legendary\": false, \"Pred\": 42.65321132085727}, {\"#\": 114, \"Name\": \"Tangela\", \"Type 1\": \"Grass\", \"Total\": 435, \"HP\": 65, \"Attack\": 55, \"Defense\": 115, \"Sp. Atk\": 100, \"Sp. Def\": 40, \"Speed\": 60, \"Generation\": 1, \"Legendary\": false, \"Pred\": 63.7266990519042}, {\"#\": 115, \"Name\": \"Kangaskhan\", \"Type 1\": \"Normal\", \"Total\": 490, \"HP\": 105, \"Attack\": 95, \"Defense\": 80, \"Sp. Atk\": 40, \"Sp. Def\": 80, \"Speed\": 90, \"Generation\": 1, \"Legendary\": false, \"Pred\": 80.58548923674174}, {\"#\": 115, \"Name\": \"KangaskhanMega Kangaskhan\", \"Type 1\": \"Normal\", \"Total\": 590, \"HP\": 105, \"Attack\": 125, \"Defense\": 100, \"Sp. Atk\": 60, \"Sp. Def\": 100, \"Speed\": 100, \"Generation\": 1, \"Legendary\": false, \"Pred\": 93.22958187536989}, {\"#\": 116, \"Name\": \"Horsea\", \"Type 1\": \"Water\", \"Total\": 295, \"HP\": 30, \"Attack\": 40, \"Defense\": 70, \"Sp. Atk\": 70, \"Sp. Def\": 25, \"Speed\": 60, \"Generation\": 1, \"Legendary\": false, \"Pred\": 57.40465273259012}, {\"#\": 117, \"Name\": \"Seadra\", \"Type 1\": \"Water\", \"Total\": 440, \"HP\": 55, \"Attack\": 65, \"Defense\": 95, \"Sp. Atk\": 95, \"Sp. Def\": 45, \"Speed\": 85, \"Generation\": 1, \"Legendary\": false, \"Pred\": 67.94139659811358}, {\"#\": 118, \"Name\": \"Goldeen\", \"Type 1\": \"Water\", \"Total\": 320, \"HP\": 45, \"Attack\": 67, \"Defense\": 60, \"Sp. Atk\": 35, \"Sp. Def\": 50, \"Speed\": 63, \"Generation\": 1, \"Legendary\": false, \"Pred\": 68.78433610735546}, {\"#\": 119, \"Name\": \"Seaking\", \"Type 1\": \"Water\", \"Total\": 450, \"HP\": 80, \"Attack\": 92, \"Defense\": 65, \"Sp. Atk\": 65, \"Sp. Def\": 80, \"Speed\": 68, \"Generation\": 1, \"Legendary\": false, \"Pred\": 79.32107997287892}, {\"#\": 120, \"Name\": \"Staryu\", \"Type 1\": \"Water\", \"Total\": 340, \"HP\": 30, \"Attack\": 45, \"Defense\": 55, \"Sp. Atk\": 70, \"Sp. Def\": 55, \"Speed\": 85, \"Generation\": 1, \"Legendary\": false, \"Pred\": 59.51200150569481}, {\"#\": 121, \"Name\": \"Starmie\", \"Type 1\": \"Water\", \"Total\": 520, \"HP\": 60, \"Attack\": 75, \"Defense\": 85, \"Sp. Atk\": 100, \"Sp. Def\": 85, \"Speed\": 115, \"Generation\": 1, \"Legendary\": false, \"Pred\": 72.15609414432296}, {\"#\": 122, \"Name\": \"Mr. Mime\", \"Type 1\": \"Psychic\", \"Total\": 460, \"HP\": 40, \"Attack\": 45, \"Defense\": 65, \"Sp. Atk\": 100, \"Sp. Def\": 120, \"Speed\": 90, \"Generation\": 1, \"Legendary\": false, \"Pred\": 59.51200150569481}, {\"#\": 123, \"Name\": \"Scyther\", \"Type 1\": \"Bug\", \"Total\": 500, \"HP\": 70, \"Attack\": 110, \"Defense\": 80, \"Sp. Atk\": 55, \"Sp. Def\": 80, \"Speed\": 105, \"Generation\": 1, \"Legendary\": false, \"Pred\": 86.90753555605582}, {\"#\": 124, \"Name\": \"Jynx\", \"Type 1\": \"Ice\", \"Total\": 455, \"HP\": 65, \"Attack\": 50, \"Defense\": 35, \"Sp. Atk\": 115, \"Sp. Def\": 95, \"Speed\": 95, \"Generation\": 1, \"Legendary\": false, \"Pred\": 61.6193502787995}, {\"#\": 125, \"Name\": \"Electabuzz\", \"Type 1\": \"Electric\", \"Total\": 490, \"HP\": 65, \"Attack\": 83, \"Defense\": 57, \"Sp. Atk\": 95, \"Sp. Def\": 85, \"Speed\": 105, \"Generation\": 1, \"Legendary\": false, \"Pred\": 75.52785218129048}, {\"#\": 126, \"Name\": \"Magmar\", \"Type 1\": \"Fire\", \"Total\": 495, \"HP\": 65, \"Attack\": 95, \"Defense\": 57, \"Sp. Atk\": 100, \"Sp. Def\": 85, \"Speed\": 93, \"Generation\": 1, \"Legendary\": false, \"Pred\": 80.58548923674174}, {\"#\": 127, \"Name\": \"Pinsir\", \"Type 1\": \"Bug\", \"Total\": 500, \"HP\": 65, \"Attack\": 125, \"Defense\": 100, \"Sp. Atk\": 55, \"Sp. Def\": 70, \"Speed\": 85, \"Generation\": 1, \"Legendary\": false, \"Pred\": 93.22958187536989}, {\"#\": 127, \"Name\": \"PinsirMega Pinsir\", \"Type 1\": \"Bug\", \"Total\": 600, \"HP\": 65, \"Attack\": 155, \"Defense\": 120, \"Sp. Atk\": 65, \"Sp. Def\": 90, \"Speed\": 105, \"Generation\": 1, \"Legendary\": false, \"Pred\": 105.87367451399805}, {\"#\": 128, \"Name\": \"Tauros\", \"Type 1\": \"Normal\", \"Total\": 490, \"HP\": 75, \"Attack\": 100, \"Defense\": 95, \"Sp. Atk\": 40, \"Sp. Def\": 70, \"Speed\": 110, \"Generation\": 1, \"Legendary\": false, \"Pred\": 82.69283800984644}, {\"#\": 129, \"Name\": \"Magikarp\", \"Type 1\": \"Water\", \"Total\": 200, \"HP\": 20, \"Attack\": 10, \"Defense\": 55, \"Sp. Atk\": 15, \"Sp. Def\": 20, \"Speed\": 80, \"Generation\": 1, \"Legendary\": false, \"Pred\": 44.76056009396196}, {\"#\": 130, \"Name\": \"Gyarados\", \"Type 1\": \"Water\", \"Total\": 540, \"HP\": 95, \"Attack\": 125, \"Defense\": 79, \"Sp. Atk\": 60, \"Sp. Def\": 100, \"Speed\": 81, \"Generation\": 1, \"Legendary\": false, \"Pred\": 93.22958187536989}, {\"#\": 130, \"Name\": \"GyaradosMega Gyarados\", \"Type 1\": \"Water\", \"Total\": 640, \"HP\": 95, \"Attack\": 155, \"Defense\": 109, \"Sp. Atk\": 70, \"Sp. Def\": 130, \"Speed\": 81, \"Generation\": 1, \"Legendary\": false, \"Pred\": 105.87367451399805}, {\"#\": 131, \"Name\": \"Lapras\", \"Type 1\": \"Water\", \"Total\": 535, \"HP\": 130, \"Attack\": 85, \"Defense\": 80, \"Sp. Atk\": 85, \"Sp. Def\": 95, \"Speed\": 60, \"Generation\": 1, \"Legendary\": false, \"Pred\": 76.37079169053236}, {\"#\": 132, \"Name\": \"Ditto\", \"Type 1\": \"Normal\", \"Total\": 288, \"HP\": 48, \"Attack\": 48, \"Defense\": 48, \"Sp. Atk\": 48, \"Sp. Def\": 48, \"Speed\": 48, \"Generation\": 1, \"Legendary\": false, \"Pred\": 60.77641076955763}, {\"#\": 133, \"Name\": \"Eevee\", \"Type 1\": \"Normal\", \"Total\": 325, \"HP\": 55, \"Attack\": 55, \"Defense\": 50, \"Sp. Atk\": 45, \"Sp. Def\": 65, \"Speed\": 55, \"Generation\": 1, \"Legendary\": false, \"Pred\": 63.7266990519042}, {\"#\": 134, \"Name\": \"Vaporeon\", \"Type 1\": \"Water\", \"Total\": 525, \"HP\": 130, \"Attack\": 65, \"Defense\": 60, \"Sp. Atk\": 110, \"Sp. Def\": 95, \"Speed\": 65, \"Generation\": 1, \"Legendary\": false, \"Pred\": 67.94139659811358}, {\"#\": 135, \"Name\": \"Jolteon\", \"Type 1\": \"Electric\", \"Total\": 525, \"HP\": 65, \"Attack\": 65, \"Defense\": 60, \"Sp. Atk\": 110, \"Sp. Def\": 95, \"Speed\": 130, \"Generation\": 1, \"Legendary\": false, \"Pred\": 67.94139659811358}, {\"#\": 136, \"Name\": \"Flareon\", \"Type 1\": \"Fire\", \"Total\": 525, \"HP\": 65, \"Attack\": 130, \"Defense\": 60, \"Sp. Atk\": 95, \"Sp. Def\": 110, \"Speed\": 65, \"Generation\": 1, \"Legendary\": false, \"Pred\": 95.33693064847459}, {\"#\": 137, \"Name\": \"Porygon\", \"Type 1\": \"Normal\", \"Total\": 395, \"HP\": 65, \"Attack\": 60, \"Defense\": 70, \"Sp. Atk\": 85, \"Sp. Def\": 75, \"Speed\": 40, \"Generation\": 1, \"Legendary\": false, \"Pred\": 65.8340478250089}, {\"#\": 138, \"Name\": \"Omanyte\", \"Type 1\": \"Rock\", \"Total\": 355, \"HP\": 35, \"Attack\": 40, \"Defense\": 100, \"Sp. Atk\": 90, \"Sp. Def\": 55, \"Speed\": 35, \"Generation\": 1, \"Legendary\": false, \"Pred\": 57.40465273259012}, {\"#\": 139, \"Name\": \"Omastar\", \"Type 1\": \"Rock\", \"Total\": 495, \"HP\": 70, \"Attack\": 60, \"Defense\": 125, \"Sp. Atk\": 115, \"Sp. Def\": 70, \"Speed\": 55, \"Generation\": 1, \"Legendary\": false, \"Pred\": 65.8340478250089}, {\"#\": 140, \"Name\": \"Kabuto\", \"Type 1\": \"Rock\", \"Total\": 355, \"HP\": 30, \"Attack\": 80, \"Defense\": 90, \"Sp. Atk\": 55, \"Sp. Def\": 45, \"Speed\": 55, \"Generation\": 1, \"Legendary\": false, \"Pred\": 74.26344291742765}, {\"#\": 141, \"Name\": \"Kabutops\", \"Type 1\": \"Rock\", \"Total\": 495, \"HP\": 60, \"Attack\": 115, \"Defense\": 105, \"Sp. Atk\": 65, \"Sp. Def\": 70, \"Speed\": 80, \"Generation\": 1, \"Legendary\": false, \"Pred\": 89.01488432916051}, {\"#\": 142, \"Name\": \"Aerodactyl\", \"Type 1\": \"Rock\", \"Total\": 515, \"HP\": 80, \"Attack\": 105, \"Defense\": 65, \"Sp. Atk\": 60, \"Sp. Def\": 75, \"Speed\": 130, \"Generation\": 1, \"Legendary\": false, \"Pred\": 84.80018678295113}, {\"#\": 142, \"Name\": \"AerodactylMega Aerodactyl\", \"Type 1\": \"Rock\", \"Total\": 615, \"HP\": 80, \"Attack\": 135, \"Defense\": 85, \"Sp. Atk\": 70, \"Sp. Def\": 95, \"Speed\": 150, \"Generation\": 1, \"Legendary\": false, \"Pred\": 97.44427942157928}, {\"#\": 143, \"Name\": \"Snorlax\", \"Type 1\": \"Normal\", \"Total\": 540, \"HP\": 160, \"Attack\": 110, \"Defense\": 65, \"Sp. Atk\": 65, \"Sp. Def\": 110, \"Speed\": 30, \"Generation\": 1, \"Legendary\": false, \"Pred\": 86.90753555605582}, {\"#\": 144, \"Name\": \"Articuno\", \"Type 1\": \"Ice\", \"Total\": 580, \"HP\": 90, \"Attack\": 85, \"Defense\": 100, \"Sp. Atk\": 95, \"Sp. Def\": 125, \"Speed\": 85, \"Generation\": 1, \"Legendary\": true, \"Pred\": 76.37079169053236}, {\"#\": 145, \"Name\": \"Zapdos\", \"Type 1\": \"Electric\", \"Total\": 580, \"HP\": 90, \"Attack\": 90, \"Defense\": 85, \"Sp. Atk\": 125, \"Sp. Def\": 90, \"Speed\": 100, \"Generation\": 1, \"Legendary\": true, \"Pred\": 78.47814046363705}, {\"#\": 146, \"Name\": \"Moltres\", \"Type 1\": \"Fire\", \"Total\": 580, \"HP\": 90, \"Attack\": 100, \"Defense\": 90, \"Sp. Atk\": 125, \"Sp. Def\": 85, \"Speed\": 90, \"Generation\": 1, \"Legendary\": true, \"Pred\": 82.69283800984644}, {\"#\": 147, \"Name\": \"Dratini\", \"Type 1\": \"Dragon\", \"Total\": 300, \"HP\": 41, \"Attack\": 64, \"Defense\": 45, \"Sp. Atk\": 50, \"Sp. Def\": 50, \"Speed\": 50, \"Generation\": 1, \"Legendary\": false, \"Pred\": 67.51992684349264}, {\"#\": 148, \"Name\": \"Dragonair\", \"Type 1\": \"Dragon\", \"Total\": 420, \"HP\": 61, \"Attack\": 84, \"Defense\": 65, \"Sp. Atk\": 70, \"Sp. Def\": 70, \"Speed\": 70, \"Generation\": 1, \"Legendary\": false, \"Pred\": 75.94932193591141}, {\"#\": 149, \"Name\": \"Dragonite\", \"Type 1\": \"Dragon\", \"Total\": 600, \"HP\": 91, \"Attack\": 134, \"Defense\": 95, \"Sp. Atk\": 100, \"Sp. Def\": 100, \"Speed\": 80, \"Generation\": 1, \"Legendary\": false, \"Pred\": 97.02280966695835}, {\"#\": 150, \"Name\": \"Mewtwo\", \"Type 1\": \"Psychic\", \"Total\": 680, \"HP\": 106, \"Attack\": 110, \"Defense\": 90, \"Sp. Atk\": 154, \"Sp. Def\": 90, \"Speed\": 130, \"Generation\": 1, \"Legendary\": true, \"Pred\": 86.90753555605582}, {\"#\": 150, \"Name\": \"MewtwoMega Mewtwo X\", \"Type 1\": \"Psychic\", \"Total\": 780, \"HP\": 106, \"Attack\": 190, \"Defense\": 100, \"Sp. Atk\": 154, \"Sp. Def\": 100, \"Speed\": 130, \"Generation\": 1, \"Legendary\": true, \"Pred\": 120.6251159257309}, {\"#\": 150, \"Name\": \"MewtwoMega Mewtwo Y\", \"Type 1\": \"Psychic\", \"Total\": 780, \"HP\": 106, \"Attack\": 150, \"Defense\": 70, \"Sp. Atk\": 194, \"Sp. Def\": 120, \"Speed\": 140, \"Generation\": 1, \"Legendary\": true, \"Pred\": 103.76632574089336}, {\"#\": 151, \"Name\": \"Mew\", \"Type 1\": \"Psychic\", \"Total\": 600, \"HP\": 100, \"Attack\": 100, \"Defense\": 100, \"Sp. Atk\": 100, \"Sp. Def\": 100, \"Speed\": 100, \"Generation\": 1, \"Legendary\": false, \"Pred\": 82.69283800984644}, {\"#\": 152, \"Name\": \"Chikorita\", \"Type 1\": \"Grass\", \"Total\": 318, \"HP\": 45, \"Attack\": 49, \"Defense\": 65, \"Sp. Atk\": 49, \"Sp. Def\": 65, \"Speed\": 45, \"Generation\": 2, \"Legendary\": false, \"Pred\": 61.197880524178565}, {\"#\": 153, \"Name\": \"Bayleef\", \"Type 1\": \"Grass\", \"Total\": 405, \"HP\": 60, \"Attack\": 62, \"Defense\": 80, \"Sp. Atk\": 63, \"Sp. Def\": 80, \"Speed\": 60, \"Generation\": 2, \"Legendary\": false, \"Pred\": 66.67698733425077}, {\"#\": 154, \"Name\": \"Meganium\", \"Type 1\": \"Grass\", \"Total\": 525, \"HP\": 80, \"Attack\": 82, \"Defense\": 100, \"Sp. Atk\": 83, \"Sp. Def\": 100, \"Speed\": 80, \"Generation\": 2, \"Legendary\": false, \"Pred\": 75.10638242666954}, {\"#\": 155, \"Name\": \"Cyndaquil\", \"Type 1\": \"Fire\", \"Total\": 309, \"HP\": 39, \"Attack\": 52, \"Defense\": 43, \"Sp. Atk\": 60, \"Sp. Def\": 50, \"Speed\": 65, \"Generation\": 2, \"Legendary\": false, \"Pred\": 62.46228978804138}, {\"#\": 156, \"Name\": \"Quilava\", \"Type 1\": \"Fire\", \"Total\": 405, \"HP\": 58, \"Attack\": 64, \"Defense\": 58, \"Sp. Atk\": 80, \"Sp. Def\": 65, \"Speed\": 80, \"Generation\": 2, \"Legendary\": false, \"Pred\": 67.51992684349264}, {\"#\": 157, \"Name\": \"Typhlosion\", \"Type 1\": \"Fire\", \"Total\": 534, \"HP\": 78, \"Attack\": 84, \"Defense\": 78, \"Sp. Atk\": 109, \"Sp. Def\": 85, \"Speed\": 100, \"Generation\": 2, \"Legendary\": false, \"Pred\": 75.94932193591141}, {\"#\": 158, \"Name\": \"Totodile\", \"Type 1\": \"Water\", \"Total\": 314, \"HP\": 50, \"Attack\": 65, \"Defense\": 64, \"Sp. Atk\": 44, \"Sp. Def\": 48, \"Speed\": 43, \"Generation\": 2, \"Legendary\": false, \"Pred\": 67.94139659811358}, {\"#\": 159, \"Name\": \"Croconaw\", \"Type 1\": \"Water\", \"Total\": 405, \"HP\": 65, \"Attack\": 80, \"Defense\": 80, \"Sp. Atk\": 59, \"Sp. Def\": 63, \"Speed\": 58, \"Generation\": 2, \"Legendary\": false, \"Pred\": 74.26344291742765}, {\"#\": 160, \"Name\": \"Feraligatr\", \"Type 1\": \"Water\", \"Total\": 530, \"HP\": 85, \"Attack\": 105, \"Defense\": 100, \"Sp. Atk\": 79, \"Sp. Def\": 83, \"Speed\": 78, \"Generation\": 2, \"Legendary\": false, \"Pred\": 84.80018678295113}, {\"#\": 161, \"Name\": \"Sentret\", \"Type 1\": \"Normal\", \"Total\": 215, \"HP\": 35, \"Attack\": 46, \"Defense\": 34, \"Sp. Atk\": 35, \"Sp. Def\": 45, \"Speed\": 20, \"Generation\": 2, \"Legendary\": false, \"Pred\": 59.933471260315756}, {\"#\": 162, \"Name\": \"Furret\", \"Type 1\": \"Normal\", \"Total\": 415, \"HP\": 85, \"Attack\": 76, \"Defense\": 64, \"Sp. Atk\": 45, \"Sp. Def\": 55, \"Speed\": 90, \"Generation\": 2, \"Legendary\": false, \"Pred\": 72.57756389894391}, {\"#\": 163, \"Name\": \"Hoothoot\", \"Type 1\": \"Normal\", \"Total\": 262, \"HP\": 60, \"Attack\": 30, \"Defense\": 30, \"Sp. Atk\": 36, \"Sp. Def\": 56, \"Speed\": 50, \"Generation\": 2, \"Legendary\": false, \"Pred\": 53.189955186380736}, {\"#\": 164, \"Name\": \"Noctowl\", \"Type 1\": \"Normal\", \"Total\": 442, \"HP\": 100, \"Attack\": 50, \"Defense\": 50, \"Sp. Atk\": 76, \"Sp. Def\": 96, \"Speed\": 70, \"Generation\": 2, \"Legendary\": false, \"Pred\": 61.6193502787995}, {\"#\": 165, \"Name\": \"Ledyba\", \"Type 1\": \"Bug\", \"Total\": 265, \"HP\": 40, \"Attack\": 20, \"Defense\": 30, \"Sp. Atk\": 40, \"Sp. Def\": 80, \"Speed\": 55, \"Generation\": 2, \"Legendary\": false, \"Pred\": 48.97525764017135}, {\"#\": 166, \"Name\": \"Ledian\", \"Type 1\": \"Bug\", \"Total\": 390, \"HP\": 55, \"Attack\": 35, \"Defense\": 50, \"Sp. Atk\": 55, \"Sp. Def\": 110, \"Speed\": 85, \"Generation\": 2, \"Legendary\": false, \"Pred\": 55.297303959485426}, {\"#\": 167, \"Name\": \"Spinarak\", \"Type 1\": \"Bug\", \"Total\": 250, \"HP\": 40, \"Attack\": 60, \"Defense\": 40, \"Sp. Atk\": 40, \"Sp. Def\": 40, \"Speed\": 30, \"Generation\": 2, \"Legendary\": false, \"Pred\": 65.8340478250089}, {\"#\": 168, \"Name\": \"Ariados\", \"Type 1\": \"Bug\", \"Total\": 390, \"HP\": 70, \"Attack\": 90, \"Defense\": 70, \"Sp. Atk\": 60, \"Sp. Def\": 60, \"Speed\": 40, \"Generation\": 2, \"Legendary\": false, \"Pred\": 78.47814046363705}, {\"#\": 169, \"Name\": \"Crobat\", \"Type 1\": \"Poison\", \"Total\": 535, \"HP\": 85, \"Attack\": 90, \"Defense\": 80, \"Sp. Atk\": 70, \"Sp. Def\": 80, \"Speed\": 130, \"Generation\": 2, \"Legendary\": false, \"Pred\": 78.47814046363705}, {\"#\": 170, \"Name\": \"Chinchou\", \"Type 1\": \"Water\", \"Total\": 330, \"HP\": 75, \"Attack\": 38, \"Defense\": 38, \"Sp. Atk\": 56, \"Sp. Def\": 56, \"Speed\": 67, \"Generation\": 2, \"Legendary\": false, \"Pred\": 56.56171322334824}, {\"#\": 171, \"Name\": \"Lanturn\", \"Type 1\": \"Water\", \"Total\": 460, \"HP\": 125, \"Attack\": 58, \"Defense\": 58, \"Sp. Atk\": 76, \"Sp. Def\": 76, \"Speed\": 67, \"Generation\": 2, \"Legendary\": false, \"Pred\": 64.99110831576701}, {\"#\": 172, \"Name\": \"Pichu\", \"Type 1\": \"Electric\", \"Total\": 205, \"HP\": 20, \"Attack\": 40, \"Defense\": 15, \"Sp. Atk\": 35, \"Sp. Def\": 35, \"Speed\": 60, \"Generation\": 2, \"Legendary\": false, \"Pred\": 57.40465273259012}, {\"#\": 173, \"Name\": \"Cleffa\", \"Type 1\": \"Fairy\", \"Total\": 218, \"HP\": 50, \"Attack\": 25, \"Defense\": 28, \"Sp. Atk\": 45, \"Sp. Def\": 55, \"Speed\": 15, \"Generation\": 2, \"Legendary\": false, \"Pred\": 51.08260641327604}, {\"#\": 174, \"Name\": \"Igglybuff\", \"Type 1\": \"Normal\", \"Total\": 210, \"HP\": 90, \"Attack\": 30, \"Defense\": 15, \"Sp. Atk\": 40, \"Sp. Def\": 20, \"Speed\": 15, \"Generation\": 2, \"Legendary\": false, \"Pred\": 53.189955186380736}, {\"#\": 175, \"Name\": \"Togepi\", \"Type 1\": \"Fairy\", \"Total\": 245, \"HP\": 35, \"Attack\": 20, \"Defense\": 65, \"Sp. Atk\": 40, \"Sp. Def\": 65, \"Speed\": 20, \"Generation\": 2, \"Legendary\": false, \"Pred\": 48.97525764017135}, {\"#\": 176, \"Name\": \"Togetic\", \"Type 1\": \"Fairy\", \"Total\": 405, \"HP\": 55, \"Attack\": 40, \"Defense\": 85, \"Sp. Atk\": 80, \"Sp. Def\": 105, \"Speed\": 40, \"Generation\": 2, \"Legendary\": false, \"Pred\": 57.40465273259012}, {\"#\": 177, \"Name\": \"Natu\", \"Type 1\": \"Psychic\", \"Total\": 320, \"HP\": 40, \"Attack\": 50, \"Defense\": 45, \"Sp. Atk\": 70, \"Sp. Def\": 45, \"Speed\": 70, \"Generation\": 2, \"Legendary\": false, \"Pred\": 61.6193502787995}, {\"#\": 178, \"Name\": \"Xatu\", \"Type 1\": \"Psychic\", \"Total\": 470, \"HP\": 65, \"Attack\": 75, \"Defense\": 70, \"Sp. Atk\": 95, \"Sp. Def\": 70, \"Speed\": 95, \"Generation\": 2, \"Legendary\": false, \"Pred\": 72.15609414432296}, {\"#\": 179, \"Name\": \"Mareep\", \"Type 1\": \"Electric\", \"Total\": 280, \"HP\": 55, \"Attack\": 40, \"Defense\": 40, \"Sp. Atk\": 65, \"Sp. Def\": 45, \"Speed\": 35, \"Generation\": 2, \"Legendary\": false, \"Pred\": 57.40465273259012}, {\"#\": 180, \"Name\": \"Flaaffy\", \"Type 1\": \"Electric\", \"Total\": 365, \"HP\": 70, \"Attack\": 55, \"Defense\": 55, \"Sp. Atk\": 80, \"Sp. Def\": 60, \"Speed\": 45, \"Generation\": 2, \"Legendary\": false, \"Pred\": 63.7266990519042}, {\"#\": 181, \"Name\": \"Ampharos\", \"Type 1\": \"Electric\", \"Total\": 510, \"HP\": 90, \"Attack\": 75, \"Defense\": 85, \"Sp. Atk\": 115, \"Sp. Def\": 90, \"Speed\": 55, \"Generation\": 2, \"Legendary\": false, \"Pred\": 72.15609414432296}, {\"#\": 181, \"Name\": \"AmpharosMega Ampharos\", \"Type 1\": \"Electric\", \"Total\": 610, \"HP\": 90, \"Attack\": 95, \"Defense\": 105, \"Sp. Atk\": 165, \"Sp. Def\": 110, \"Speed\": 45, \"Generation\": 2, \"Legendary\": false, \"Pred\": 80.58548923674174}, {\"#\": 182, \"Name\": \"Bellossom\", \"Type 1\": \"Grass\", \"Total\": 490, \"HP\": 75, \"Attack\": 80, \"Defense\": 95, \"Sp. Atk\": 90, \"Sp. Def\": 100, \"Speed\": 50, \"Generation\": 2, \"Legendary\": false, \"Pred\": 74.26344291742765}, {\"#\": 183, \"Name\": \"Marill\", \"Type 1\": \"Water\", \"Total\": 250, \"HP\": 70, \"Attack\": 20, \"Defense\": 50, \"Sp. Atk\": 20, \"Sp. Def\": 50, \"Speed\": 40, \"Generation\": 2, \"Legendary\": false, \"Pred\": 48.97525764017135}, {\"#\": 184, \"Name\": \"Azumarill\", \"Type 1\": \"Water\", \"Total\": 420, \"HP\": 100, \"Attack\": 50, \"Defense\": 80, \"Sp. Atk\": 60, \"Sp. Def\": 80, \"Speed\": 50, \"Generation\": 2, \"Legendary\": false, \"Pred\": 61.6193502787995}, {\"#\": 185, \"Name\": \"Sudowoodo\", \"Type 1\": \"Rock\", \"Total\": 410, \"HP\": 70, \"Attack\": 100, \"Defense\": 115, \"Sp. Atk\": 30, \"Sp. Def\": 65, \"Speed\": 30, \"Generation\": 2, \"Legendary\": false, \"Pred\": 82.69283800984644}, {\"#\": 186, \"Name\": \"Politoed\", \"Type 1\": \"Water\", \"Total\": 500, \"HP\": 90, \"Attack\": 75, \"Defense\": 75, \"Sp. Atk\": 90, \"Sp. Def\": 100, \"Speed\": 70, \"Generation\": 2, \"Legendary\": false, \"Pred\": 72.15609414432296}, {\"#\": 187, \"Name\": \"Hoppip\", \"Type 1\": \"Grass\", \"Total\": 250, \"HP\": 35, \"Attack\": 35, \"Defense\": 40, \"Sp. Atk\": 35, \"Sp. Def\": 55, \"Speed\": 50, \"Generation\": 2, \"Legendary\": false, \"Pred\": 55.297303959485426}, {\"#\": 188, \"Name\": \"Skiploom\", \"Type 1\": \"Grass\", \"Total\": 340, \"HP\": 55, \"Attack\": 45, \"Defense\": 50, \"Sp. Atk\": 45, \"Sp. Def\": 65, \"Speed\": 80, \"Generation\": 2, \"Legendary\": false, \"Pred\": 59.51200150569481}, {\"#\": 189, \"Name\": \"Jumpluff\", \"Type 1\": \"Grass\", \"Total\": 460, \"HP\": 75, \"Attack\": 55, \"Defense\": 70, \"Sp. Atk\": 55, \"Sp. Def\": 95, \"Speed\": 110, \"Generation\": 2, \"Legendary\": false, \"Pred\": 63.7266990519042}, {\"#\": 190, \"Name\": \"Aipom\", \"Type 1\": \"Normal\", \"Total\": 360, \"HP\": 55, \"Attack\": 70, \"Defense\": 55, \"Sp. Atk\": 40, \"Sp. Def\": 55, \"Speed\": 85, \"Generation\": 2, \"Legendary\": false, \"Pred\": 70.04874537121827}, {\"#\": 191, \"Name\": \"Sunkern\", \"Type 1\": \"Grass\", \"Total\": 180, \"HP\": 30, \"Attack\": 30, \"Defense\": 30, \"Sp. Atk\": 30, \"Sp. Def\": 30, \"Speed\": 30, \"Generation\": 2, \"Legendary\": false, \"Pred\": 53.189955186380736}, {\"#\": 192, \"Name\": \"Sunflora\", \"Type 1\": \"Grass\", \"Total\": 425, \"HP\": 75, \"Attack\": 75, \"Defense\": 55, \"Sp. Atk\": 105, \"Sp. Def\": 85, \"Speed\": 30, \"Generation\": 2, \"Legendary\": false, \"Pred\": 72.15609414432296}, {\"#\": 193, \"Name\": \"Yanma\", \"Type 1\": \"Bug\", \"Total\": 390, \"HP\": 65, \"Attack\": 65, \"Defense\": 45, \"Sp. Atk\": 75, \"Sp. Def\": 45, \"Speed\": 95, \"Generation\": 2, \"Legendary\": false, \"Pred\": 67.94139659811358}, {\"#\": 194, \"Name\": \"Wooper\", \"Type 1\": \"Water\", \"Total\": 210, \"HP\": 55, \"Attack\": 45, \"Defense\": 45, \"Sp. Atk\": 25, \"Sp. Def\": 25, \"Speed\": 15, \"Generation\": 2, \"Legendary\": false, \"Pred\": 59.51200150569481}, {\"#\": 195, \"Name\": \"Quagsire\", \"Type 1\": \"Water\", \"Total\": 430, \"HP\": 95, \"Attack\": 85, \"Defense\": 85, \"Sp. Atk\": 65, \"Sp. Def\": 65, \"Speed\": 35, \"Generation\": 2, \"Legendary\": false, \"Pred\": 76.37079169053236}, {\"#\": 196, \"Name\": \"Espeon\", \"Type 1\": \"Psychic\", \"Total\": 525, \"HP\": 65, \"Attack\": 65, \"Defense\": 60, \"Sp. Atk\": 130, \"Sp. Def\": 95, \"Speed\": 110, \"Generation\": 2, \"Legendary\": false, \"Pred\": 67.94139659811358}, {\"#\": 197, \"Name\": \"Umbreon\", \"Type 1\": \"Dark\", \"Total\": 525, \"HP\": 95, \"Attack\": 65, \"Defense\": 110, \"Sp. Atk\": 60, \"Sp. Def\": 130, \"Speed\": 65, \"Generation\": 2, \"Legendary\": false, \"Pred\": 67.94139659811358}, {\"#\": 198, \"Name\": \"Murkrow\", \"Type 1\": \"Dark\", \"Total\": 405, \"HP\": 60, \"Attack\": 85, \"Defense\": 42, \"Sp. Atk\": 85, \"Sp. Def\": 42, \"Speed\": 91, \"Generation\": 2, \"Legendary\": false, \"Pred\": 76.37079169053236}, {\"#\": 199, \"Name\": \"Slowking\", \"Type 1\": \"Water\", \"Total\": 490, \"HP\": 95, \"Attack\": 75, \"Defense\": 80, \"Sp. Atk\": 100, \"Sp. Def\": 110, \"Speed\": 30, \"Generation\": 2, \"Legendary\": false, \"Pred\": 72.15609414432296}, {\"#\": 200, \"Name\": \"Misdreavus\", \"Type 1\": \"Ghost\", \"Total\": 435, \"HP\": 60, \"Attack\": 60, \"Defense\": 60, \"Sp. Atk\": 85, \"Sp. Def\": 85, \"Speed\": 85, \"Generation\": 2, \"Legendary\": false, \"Pred\": 65.8340478250089}, {\"#\": 201, \"Name\": \"Unown\", \"Type 1\": \"Psychic\", \"Total\": 336, \"HP\": 48, \"Attack\": 72, \"Defense\": 48, \"Sp. Atk\": 72, \"Sp. Def\": 48, \"Speed\": 48, \"Generation\": 2, \"Legendary\": false, \"Pred\": 70.89168488046016}, {\"#\": 202, \"Name\": \"Wobbuffet\", \"Type 1\": \"Psychic\", \"Total\": 405, \"HP\": 190, \"Attack\": 33, \"Defense\": 58, \"Sp. Atk\": 33, \"Sp. Def\": 58, \"Speed\": 33, \"Generation\": 2, \"Legendary\": false, \"Pred\": 54.454364450243546}, {\"#\": 203, \"Name\": \"Girafarig\", \"Type 1\": \"Normal\", \"Total\": 455, \"HP\": 70, \"Attack\": 80, \"Defense\": 65, \"Sp. Atk\": 90, \"Sp. Def\": 65, \"Speed\": 85, \"Generation\": 2, \"Legendary\": false, \"Pred\": 74.26344291742765}, {\"#\": 204, \"Name\": \"Pineco\", \"Type 1\": \"Bug\", \"Total\": 290, \"HP\": 50, \"Attack\": 65, \"Defense\": 90, \"Sp. Atk\": 35, \"Sp. Def\": 35, \"Speed\": 15, \"Generation\": 2, \"Legendary\": false, \"Pred\": 67.94139659811358}, {\"#\": 205, \"Name\": \"Forretress\", \"Type 1\": \"Bug\", \"Total\": 465, \"HP\": 75, \"Attack\": 90, \"Defense\": 140, \"Sp. Atk\": 60, \"Sp. Def\": 60, \"Speed\": 40, \"Generation\": 2, \"Legendary\": false, \"Pred\": 78.47814046363705}, {\"#\": 206, \"Name\": \"Dunsparce\", \"Type 1\": \"Normal\", \"Total\": 415, \"HP\": 100, \"Attack\": 70, \"Defense\": 70, \"Sp. Atk\": 65, \"Sp. Def\": 65, \"Speed\": 45, \"Generation\": 2, \"Legendary\": false, \"Pred\": 70.04874537121827}, {\"#\": 207, \"Name\": \"Gligar\", \"Type 1\": \"Ground\", \"Total\": 430, \"HP\": 65, \"Attack\": 75, \"Defense\": 105, \"Sp. Atk\": 35, \"Sp. Def\": 65, \"Speed\": 85, \"Generation\": 2, \"Legendary\": false, \"Pred\": 72.15609414432296}, {\"#\": 208, \"Name\": \"Steelix\", \"Type 1\": \"Steel\", \"Total\": 510, \"HP\": 75, \"Attack\": 85, \"Defense\": 200, \"Sp. Atk\": 55, \"Sp. Def\": 65, \"Speed\": 30, \"Generation\": 2, \"Legendary\": false, \"Pred\": 76.37079169053236}, {\"#\": 208, \"Name\": \"SteelixMega Steelix\", \"Type 1\": \"Steel\", \"Total\": 610, \"HP\": 75, \"Attack\": 125, \"Defense\": 230, \"Sp. Atk\": 55, \"Sp. Def\": 95, \"Speed\": 30, \"Generation\": 2, \"Legendary\": false, \"Pred\": 93.22958187536989}, {\"#\": 209, \"Name\": \"Snubbull\", \"Type 1\": \"Fairy\", \"Total\": 300, \"HP\": 60, \"Attack\": 80, \"Defense\": 50, \"Sp. Atk\": 40, \"Sp. Def\": 40, \"Speed\": 30, \"Generation\": 2, \"Legendary\": false, \"Pred\": 74.26344291742765}, {\"#\": 210, \"Name\": \"Granbull\", \"Type 1\": \"Fairy\", \"Total\": 450, \"HP\": 90, \"Attack\": 120, \"Defense\": 75, \"Sp. Atk\": 60, \"Sp. Def\": 60, \"Speed\": 45, \"Generation\": 2, \"Legendary\": false, \"Pred\": 91.1222331022652}, {\"#\": 211, \"Name\": \"Qwilfish\", \"Type 1\": \"Water\", \"Total\": 430, \"HP\": 65, \"Attack\": 95, \"Defense\": 75, \"Sp. Atk\": 55, \"Sp. Def\": 55, \"Speed\": 85, \"Generation\": 2, \"Legendary\": false, \"Pred\": 80.58548923674174}, {\"#\": 212, \"Name\": \"Scizor\", \"Type 1\": \"Bug\", \"Total\": 500, \"HP\": 70, \"Attack\": 130, \"Defense\": 100, \"Sp. Atk\": 55, \"Sp. Def\": 80, \"Speed\": 65, \"Generation\": 2, \"Legendary\": false, \"Pred\": 95.33693064847459}, {\"#\": 212, \"Name\": \"ScizorMega Scizor\", \"Type 1\": \"Bug\", \"Total\": 600, \"HP\": 70, \"Attack\": 150, \"Defense\": 140, \"Sp. Atk\": 65, \"Sp. Def\": 100, \"Speed\": 75, \"Generation\": 2, \"Legendary\": false, \"Pred\": 103.76632574089336}, {\"#\": 213, \"Name\": \"Shuckle\", \"Type 1\": \"Bug\", \"Total\": 505, \"HP\": 20, \"Attack\": 10, \"Defense\": 230, \"Sp. Atk\": 10, \"Sp. Def\": 230, \"Speed\": 5, \"Generation\": 2, \"Legendary\": false, \"Pred\": 44.76056009396196}, {\"#\": 214, \"Name\": \"Heracross\", \"Type 1\": \"Bug\", \"Total\": 500, \"HP\": 80, \"Attack\": 125, \"Defense\": 75, \"Sp. Atk\": 40, \"Sp. Def\": 95, \"Speed\": 85, \"Generation\": 2, \"Legendary\": false, \"Pred\": 93.22958187536989}, {\"#\": 214, \"Name\": \"HeracrossMega Heracross\", \"Type 1\": \"Bug\", \"Total\": 600, \"HP\": 80, \"Attack\": 185, \"Defense\": 115, \"Sp. Atk\": 40, \"Sp. Def\": 105, \"Speed\": 75, \"Generation\": 2, \"Legendary\": false, \"Pred\": 118.5177671526262}, {\"#\": 215, \"Name\": \"Sneasel\", \"Type 1\": \"Dark\", \"Total\": 430, \"HP\": 55, \"Attack\": 95, \"Defense\": 55, \"Sp. Atk\": 35, \"Sp. Def\": 75, \"Speed\": 115, \"Generation\": 2, \"Legendary\": false, \"Pred\": 80.58548923674174}, {\"#\": 216, \"Name\": \"Teddiursa\", \"Type 1\": \"Normal\", \"Total\": 330, \"HP\": 60, \"Attack\": 80, \"Defense\": 50, \"Sp. Atk\": 50, \"Sp. Def\": 50, \"Speed\": 40, \"Generation\": 2, \"Legendary\": false, \"Pred\": 74.26344291742765}, {\"#\": 217, \"Name\": \"Ursaring\", \"Type 1\": \"Normal\", \"Total\": 500, \"HP\": 90, \"Attack\": 130, \"Defense\": 75, \"Sp. Atk\": 75, \"Sp. Def\": 75, \"Speed\": 55, \"Generation\": 2, \"Legendary\": false, \"Pred\": 95.33693064847459}, {\"#\": 218, \"Name\": \"Slugma\", \"Type 1\": \"Fire\", \"Total\": 250, \"HP\": 40, \"Attack\": 40, \"Defense\": 40, \"Sp. Atk\": 70, \"Sp. Def\": 40, \"Speed\": 20, \"Generation\": 2, \"Legendary\": false, \"Pred\": 57.40465273259012}, {\"#\": 219, \"Name\": \"Magcargo\", \"Type 1\": \"Fire\", \"Total\": 410, \"HP\": 50, \"Attack\": 50, \"Defense\": 120, \"Sp. Atk\": 80, \"Sp. Def\": 80, \"Speed\": 30, \"Generation\": 2, \"Legendary\": false, \"Pred\": 61.6193502787995}, {\"#\": 220, \"Name\": \"Swinub\", \"Type 1\": \"Ice\", \"Total\": 250, \"HP\": 50, \"Attack\": 50, \"Defense\": 40, \"Sp. Atk\": 30, \"Sp. Def\": 30, \"Speed\": 50, \"Generation\": 2, \"Legendary\": false, \"Pred\": 61.6193502787995}, {\"#\": 221, \"Name\": \"Piloswine\", \"Type 1\": \"Ice\", \"Total\": 450, \"HP\": 100, \"Attack\": 100, \"Defense\": 80, \"Sp. Atk\": 60, \"Sp. Def\": 60, \"Speed\": 50, \"Generation\": 2, \"Legendary\": false, \"Pred\": 82.69283800984644}, {\"#\": 222, \"Name\": \"Corsola\", \"Type 1\": \"Water\", \"Total\": 380, \"HP\": 55, \"Attack\": 55, \"Defense\": 85, \"Sp. Atk\": 65, \"Sp. Def\": 85, \"Speed\": 35, \"Generation\": 2, \"Legendary\": false, \"Pred\": 63.7266990519042}, {\"#\": 223, \"Name\": \"Remoraid\", \"Type 1\": \"Water\", \"Total\": 300, \"HP\": 35, \"Attack\": 65, \"Defense\": 35, \"Sp. Atk\": 65, \"Sp. Def\": 35, \"Speed\": 65, \"Generation\": 2, \"Legendary\": false, \"Pred\": 67.94139659811358}, {\"#\": 224, \"Name\": \"Octillery\", \"Type 1\": \"Water\", \"Total\": 480, \"HP\": 75, \"Attack\": 105, \"Defense\": 75, \"Sp. Atk\": 105, \"Sp. Def\": 75, \"Speed\": 45, \"Generation\": 2, \"Legendary\": false, \"Pred\": 84.80018678295113}, {\"#\": 225, \"Name\": \"Delibird\", \"Type 1\": \"Ice\", \"Total\": 330, \"HP\": 45, \"Attack\": 55, \"Defense\": 45, \"Sp. Atk\": 65, \"Sp. Def\": 45, \"Speed\": 75, \"Generation\": 2, \"Legendary\": false, \"Pred\": 63.7266990519042}, {\"#\": 226, \"Name\": \"Mantine\", \"Type 1\": \"Water\", \"Total\": 465, \"HP\": 65, \"Attack\": 40, \"Defense\": 70, \"Sp. Atk\": 80, \"Sp. Def\": 140, \"Speed\": 70, \"Generation\": 2, \"Legendary\": false, \"Pred\": 57.40465273259012}, {\"#\": 227, \"Name\": \"Skarmory\", \"Type 1\": \"Steel\", \"Total\": 465, \"HP\": 65, \"Attack\": 80, \"Defense\": 140, \"Sp. Atk\": 40, \"Sp. Def\": 70, \"Speed\": 70, \"Generation\": 2, \"Legendary\": false, \"Pred\": 74.26344291742765}, {\"#\": 228, \"Name\": \"Houndour\", \"Type 1\": \"Dark\", \"Total\": 330, \"HP\": 45, \"Attack\": 60, \"Defense\": 30, \"Sp. Atk\": 80, \"Sp. Def\": 50, \"Speed\": 65, \"Generation\": 2, \"Legendary\": false, \"Pred\": 65.8340478250089}, {\"#\": 229, \"Name\": \"Houndoom\", \"Type 1\": \"Dark\", \"Total\": 500, \"HP\": 75, \"Attack\": 90, \"Defense\": 50, \"Sp. Atk\": 110, \"Sp. Def\": 80, \"Speed\": 95, \"Generation\": 2, \"Legendary\": false, \"Pred\": 78.47814046363705}, {\"#\": 229, \"Name\": \"HoundoomMega Houndoom\", \"Type 1\": \"Dark\", \"Total\": 600, \"HP\": 75, \"Attack\": 90, \"Defense\": 90, \"Sp. Atk\": 140, \"Sp. Def\": 90, \"Speed\": 115, \"Generation\": 2, \"Legendary\": false, \"Pred\": 78.47814046363705}, {\"#\": 230, \"Name\": \"Kingdra\", \"Type 1\": \"Water\", \"Total\": 540, \"HP\": 75, \"Attack\": 95, \"Defense\": 95, \"Sp. Atk\": 95, \"Sp. Def\": 95, \"Speed\": 85, \"Generation\": 2, \"Legendary\": false, \"Pred\": 80.58548923674174}, {\"#\": 231, \"Name\": \"Phanpy\", \"Type 1\": \"Ground\", \"Total\": 330, \"HP\": 90, \"Attack\": 60, \"Defense\": 60, \"Sp. Atk\": 40, \"Sp. Def\": 40, \"Speed\": 40, \"Generation\": 2, \"Legendary\": false, \"Pred\": 65.8340478250089}, {\"#\": 232, \"Name\": \"Donphan\", \"Type 1\": \"Ground\", \"Total\": 500, \"HP\": 90, \"Attack\": 120, \"Defense\": 120, \"Sp. Atk\": 60, \"Sp. Def\": 60, \"Speed\": 50, \"Generation\": 2, \"Legendary\": false, \"Pred\": 91.1222331022652}, {\"#\": 233, \"Name\": \"Porygon2\", \"Type 1\": \"Normal\", \"Total\": 515, \"HP\": 85, \"Attack\": 80, \"Defense\": 90, \"Sp. Atk\": 105, \"Sp. Def\": 95, \"Speed\": 60, \"Generation\": 2, \"Legendary\": false, \"Pred\": 74.26344291742765}, {\"#\": 234, \"Name\": \"Stantler\", \"Type 1\": \"Normal\", \"Total\": 465, \"HP\": 73, \"Attack\": 95, \"Defense\": 62, \"Sp. Atk\": 85, \"Sp. Def\": 65, \"Speed\": 85, \"Generation\": 2, \"Legendary\": false, \"Pred\": 80.58548923674174}, {\"#\": 235, \"Name\": \"Smeargle\", \"Type 1\": \"Normal\", \"Total\": 250, \"HP\": 55, \"Attack\": 20, \"Defense\": 35, \"Sp. Atk\": 20, \"Sp. Def\": 45, \"Speed\": 75, \"Generation\": 2, \"Legendary\": false, \"Pred\": 48.97525764017135}, {\"#\": 236, \"Name\": \"Tyrogue\", \"Type 1\": \"Fighting\", \"Total\": 210, \"HP\": 35, \"Attack\": 35, \"Defense\": 35, \"Sp. Atk\": 35, \"Sp. Def\": 35, \"Speed\": 35, \"Generation\": 2, \"Legendary\": false, \"Pred\": 55.297303959485426}, {\"#\": 237, \"Name\": \"Hitmontop\", \"Type 1\": \"Fighting\", \"Total\": 455, \"HP\": 50, \"Attack\": 95, \"Defense\": 95, \"Sp. Atk\": 35, \"Sp. Def\": 110, \"Speed\": 70, \"Generation\": 2, \"Legendary\": false, \"Pred\": 80.58548923674174}, {\"#\": 238, \"Name\": \"Smoochum\", \"Type 1\": \"Ice\", \"Total\": 305, \"HP\": 45, \"Attack\": 30, \"Defense\": 15, \"Sp. Atk\": 85, \"Sp. Def\": 65, \"Speed\": 65, \"Generation\": 2, \"Legendary\": false, \"Pred\": 53.189955186380736}, {\"#\": 239, \"Name\": \"Elekid\", \"Type 1\": \"Electric\", \"Total\": 360, \"HP\": 45, \"Attack\": 63, \"Defense\": 37, \"Sp. Atk\": 65, \"Sp. Def\": 55, \"Speed\": 95, \"Generation\": 2, \"Legendary\": false, \"Pred\": 67.0984570888717}, {\"#\": 240, \"Name\": \"Magby\", \"Type 1\": \"Fire\", \"Total\": 365, \"HP\": 45, \"Attack\": 75, \"Defense\": 37, \"Sp. Atk\": 70, \"Sp. Def\": 55, \"Speed\": 83, \"Generation\": 2, \"Legendary\": false, \"Pred\": 72.15609414432296}, {\"#\": 241, \"Name\": \"Miltank\", \"Type 1\": \"Normal\", \"Total\": 490, \"HP\": 95, \"Attack\": 80, \"Defense\": 105, \"Sp. Atk\": 40, \"Sp. Def\": 70, \"Speed\": 100, \"Generation\": 2, \"Legendary\": false, \"Pred\": 74.26344291742765}, {\"#\": 242, \"Name\": \"Blissey\", \"Type 1\": \"Normal\", \"Total\": 540, \"HP\": 255, \"Attack\": 10, \"Defense\": 10, \"Sp. Atk\": 75, \"Sp. Def\": 135, \"Speed\": 55, \"Generation\": 2, \"Legendary\": false, \"Pred\": 44.76056009396196}, {\"#\": 243, \"Name\": \"Raikou\", \"Type 1\": \"Electric\", \"Total\": 580, \"HP\": 90, \"Attack\": 85, \"Defense\": 75, \"Sp. Atk\": 115, \"Sp. Def\": 100, \"Speed\": 115, \"Generation\": 2, \"Legendary\": true, \"Pred\": 76.37079169053236}, {\"#\": 244, \"Name\": \"Entei\", \"Type 1\": \"Fire\", \"Total\": 580, \"HP\": 115, \"Attack\": 115, \"Defense\": 85, \"Sp. Atk\": 90, \"Sp. Def\": 75, \"Speed\": 100, \"Generation\": 2, \"Legendary\": true, \"Pred\": 89.01488432916051}, {\"#\": 245, \"Name\": \"Suicune\", \"Type 1\": \"Water\", \"Total\": 580, \"HP\": 100, \"Attack\": 75, \"Defense\": 115, \"Sp. Atk\": 90, \"Sp. Def\": 115, \"Speed\": 85, \"Generation\": 2, \"Legendary\": true, \"Pred\": 72.15609414432296}, {\"#\": 246, \"Name\": \"Larvitar\", \"Type 1\": \"Rock\", \"Total\": 300, \"HP\": 50, \"Attack\": 64, \"Defense\": 50, \"Sp. Atk\": 45, \"Sp. Def\": 50, \"Speed\": 41, \"Generation\": 2, \"Legendary\": false, \"Pred\": 67.51992684349264}, {\"#\": 247, \"Name\": \"Pupitar\", \"Type 1\": \"Rock\", \"Total\": 410, \"HP\": 70, \"Attack\": 84, \"Defense\": 70, \"Sp. Atk\": 65, \"Sp. Def\": 70, \"Speed\": 51, \"Generation\": 2, \"Legendary\": false, \"Pred\": 75.94932193591141}, {\"#\": 248, \"Name\": \"Tyranitar\", \"Type 1\": \"Rock\", \"Total\": 600, \"HP\": 100, \"Attack\": 134, \"Defense\": 110, \"Sp. Atk\": 95, \"Sp. Def\": 100, \"Speed\": 61, \"Generation\": 2, \"Legendary\": false, \"Pred\": 97.02280966695835}, {\"#\": 248, \"Name\": \"TyranitarMega Tyranitar\", \"Type 1\": \"Rock\", \"Total\": 700, \"HP\": 100, \"Attack\": 164, \"Defense\": 150, \"Sp. Atk\": 95, \"Sp. Def\": 120, \"Speed\": 71, \"Generation\": 2, \"Legendary\": false, \"Pred\": 109.6669023055865}, {\"#\": 249, \"Name\": \"Lugia\", \"Type 1\": \"Psychic\", \"Total\": 680, \"HP\": 106, \"Attack\": 90, \"Defense\": 130, \"Sp. Atk\": 90, \"Sp. Def\": 154, \"Speed\": 110, \"Generation\": 2, \"Legendary\": true, \"Pred\": 78.47814046363705}, {\"#\": 250, \"Name\": \"Ho-oh\", \"Type 1\": \"Fire\", \"Total\": 680, \"HP\": 106, \"Attack\": 130, \"Defense\": 90, \"Sp. Atk\": 110, \"Sp. Def\": 154, \"Speed\": 90, \"Generation\": 2, \"Legendary\": true, \"Pred\": 95.33693064847459}, {\"#\": 251, \"Name\": \"Celebi\", \"Type 1\": \"Psychic\", \"Total\": 600, \"HP\": 100, \"Attack\": 100, \"Defense\": 100, \"Sp. Atk\": 100, \"Sp. Def\": 100, \"Speed\": 100, \"Generation\": 2, \"Legendary\": false, \"Pred\": 82.69283800984644}, {\"#\": 252, \"Name\": \"Treecko\", \"Type 1\": \"Grass\", \"Total\": 310, \"HP\": 40, \"Attack\": 45, \"Defense\": 35, \"Sp. Atk\": 65, \"Sp. Def\": 55, \"Speed\": 70, \"Generation\": 3, \"Legendary\": false, \"Pred\": 59.51200150569481}, {\"#\": 253, \"Name\": \"Grovyle\", \"Type 1\": \"Grass\", \"Total\": 405, \"HP\": 50, \"Attack\": 65, \"Defense\": 45, \"Sp. Atk\": 85, \"Sp. Def\": 65, \"Speed\": 95, \"Generation\": 3, \"Legendary\": false, \"Pred\": 67.94139659811358}, {\"#\": 254, \"Name\": \"Sceptile\", \"Type 1\": \"Grass\", \"Total\": 530, \"HP\": 70, \"Attack\": 85, \"Defense\": 65, \"Sp. Atk\": 105, \"Sp. Def\": 85, \"Speed\": 120, \"Generation\": 3, \"Legendary\": false, \"Pred\": 76.37079169053236}, {\"#\": 254, \"Name\": \"SceptileMega Sceptile\", \"Type 1\": \"Grass\", \"Total\": 630, \"HP\": 70, \"Attack\": 110, \"Defense\": 75, \"Sp. Atk\": 145, \"Sp. Def\": 85, \"Speed\": 145, \"Generation\": 3, \"Legendary\": false, \"Pred\": 86.90753555605582}, {\"#\": 255, \"Name\": \"Torchic\", \"Type 1\": \"Fire\", \"Total\": 310, \"HP\": 45, \"Attack\": 60, \"Defense\": 40, \"Sp. Atk\": 70, \"Sp. Def\": 50, \"Speed\": 45, \"Generation\": 3, \"Legendary\": false, \"Pred\": 65.8340478250089}, {\"#\": 256, \"Name\": \"Combusken\", \"Type 1\": \"Fire\", \"Total\": 405, \"HP\": 60, \"Attack\": 85, \"Defense\": 60, \"Sp. Atk\": 85, \"Sp. Def\": 60, \"Speed\": 55, \"Generation\": 3, \"Legendary\": false, \"Pred\": 76.37079169053236}, {\"#\": 257, \"Name\": \"Blaziken\", \"Type 1\": \"Fire\", \"Total\": 530, \"HP\": 80, \"Attack\": 120, \"Defense\": 70, \"Sp. Atk\": 110, \"Sp. Def\": 70, \"Speed\": 80, \"Generation\": 3, \"Legendary\": false, \"Pred\": 91.1222331022652}, {\"#\": 257, \"Name\": \"BlazikenMega Blaziken\", \"Type 1\": \"Fire\", \"Total\": 630, \"HP\": 80, \"Attack\": 160, \"Defense\": 80, \"Sp. Atk\": 130, \"Sp. Def\": 80, \"Speed\": 100, \"Generation\": 3, \"Legendary\": false, \"Pred\": 107.98102328710274}, {\"#\": 258, \"Name\": \"Mudkip\", \"Type 1\": \"Water\", \"Total\": 310, \"HP\": 50, \"Attack\": 70, \"Defense\": 50, \"Sp. Atk\": 50, \"Sp. Def\": 50, \"Speed\": 40, \"Generation\": 3, \"Legendary\": false, \"Pred\": 70.04874537121827}, {\"#\": 259, \"Name\": \"Marshtomp\", \"Type 1\": \"Water\", \"Total\": 405, \"HP\": 70, \"Attack\": 85, \"Defense\": 70, \"Sp. Atk\": 60, \"Sp. Def\": 70, \"Speed\": 50, \"Generation\": 3, \"Legendary\": false, \"Pred\": 76.37079169053236}, {\"#\": 260, \"Name\": \"Swampert\", \"Type 1\": \"Water\", \"Total\": 535, \"HP\": 100, \"Attack\": 110, \"Defense\": 90, \"Sp. Atk\": 85, \"Sp. Def\": 90, \"Speed\": 60, \"Generation\": 3, \"Legendary\": false, \"Pred\": 86.90753555605582}, {\"#\": 260, \"Name\": \"SwampertMega Swampert\", \"Type 1\": \"Water\", \"Total\": 635, \"HP\": 100, \"Attack\": 150, \"Defense\": 110, \"Sp. Atk\": 95, \"Sp. Def\": 110, \"Speed\": 70, \"Generation\": 3, \"Legendary\": false, \"Pred\": 103.76632574089336}, {\"#\": 261, \"Name\": \"Poochyena\", \"Type 1\": \"Dark\", \"Total\": 220, \"HP\": 35, \"Attack\": 55, \"Defense\": 35, \"Sp. Atk\": 30, \"Sp. Def\": 30, \"Speed\": 35, \"Generation\": 3, \"Legendary\": false, \"Pred\": 63.7266990519042}, {\"#\": 262, \"Name\": \"Mightyena\", \"Type 1\": \"Dark\", \"Total\": 420, \"HP\": 70, \"Attack\": 90, \"Defense\": 70, \"Sp. Atk\": 60, \"Sp. Def\": 60, \"Speed\": 70, \"Generation\": 3, \"Legendary\": false, \"Pred\": 78.47814046363705}, {\"#\": 263, \"Name\": \"Zigzagoon\", \"Type 1\": \"Normal\", \"Total\": 240, \"HP\": 38, \"Attack\": 30, \"Defense\": 41, \"Sp. Atk\": 30, \"Sp. Def\": 41, \"Speed\": 60, \"Generation\": 3, \"Legendary\": false, \"Pred\": 53.189955186380736}, {\"#\": 264, \"Name\": \"Linoone\", \"Type 1\": \"Normal\", \"Total\": 420, \"HP\": 78, \"Attack\": 70, \"Defense\": 61, \"Sp. Atk\": 50, \"Sp. Def\": 61, \"Speed\": 100, \"Generation\": 3, \"Legendary\": false, \"Pred\": 70.04874537121827}, {\"#\": 265, \"Name\": \"Wurmple\", \"Type 1\": \"Bug\", \"Total\": 195, \"HP\": 45, \"Attack\": 45, \"Defense\": 35, \"Sp. Atk\": 20, \"Sp. Def\": 30, \"Speed\": 20, \"Generation\": 3, \"Legendary\": false, \"Pred\": 59.51200150569481}, {\"#\": 266, \"Name\": \"Silcoon\", \"Type 1\": \"Bug\", \"Total\": 205, \"HP\": 50, \"Attack\": 35, \"Defense\": 55, \"Sp. Atk\": 25, \"Sp. Def\": 25, \"Speed\": 15, \"Generation\": 3, \"Legendary\": false, \"Pred\": 55.297303959485426}, {\"#\": 267, \"Name\": \"Beautifly\", \"Type 1\": \"Bug\", \"Total\": 395, \"HP\": 60, \"Attack\": 70, \"Defense\": 50, \"Sp. Atk\": 100, \"Sp. Def\": 50, \"Speed\": 65, \"Generation\": 3, \"Legendary\": false, \"Pred\": 70.04874537121827}, {\"#\": 268, \"Name\": \"Cascoon\", \"Type 1\": \"Bug\", \"Total\": 205, \"HP\": 50, \"Attack\": 35, \"Defense\": 55, \"Sp. Atk\": 25, \"Sp. Def\": 25, \"Speed\": 15, \"Generation\": 3, \"Legendary\": false, \"Pred\": 55.297303959485426}, {\"#\": 269, \"Name\": \"Dustox\", \"Type 1\": \"Bug\", \"Total\": 385, \"HP\": 60, \"Attack\": 50, \"Defense\": 70, \"Sp. Atk\": 50, \"Sp. Def\": 90, \"Speed\": 65, \"Generation\": 3, \"Legendary\": false, \"Pred\": 61.6193502787995}, {\"#\": 270, \"Name\": \"Lotad\", \"Type 1\": \"Water\", \"Total\": 220, \"HP\": 40, \"Attack\": 30, \"Defense\": 30, \"Sp. Atk\": 40, \"Sp. Def\": 50, \"Speed\": 30, \"Generation\": 3, \"Legendary\": false, \"Pred\": 53.189955186380736}, {\"#\": 271, \"Name\": \"Lombre\", \"Type 1\": \"Water\", \"Total\": 340, \"HP\": 60, \"Attack\": 50, \"Defense\": 50, \"Sp. Atk\": 60, \"Sp. Def\": 70, \"Speed\": 50, \"Generation\": 3, \"Legendary\": false, \"Pred\": 61.6193502787995}, {\"#\": 272, \"Name\": \"Ludicolo\", \"Type 1\": \"Water\", \"Total\": 480, \"HP\": 80, \"Attack\": 70, \"Defense\": 70, \"Sp. Atk\": 90, \"Sp. Def\": 100, \"Speed\": 70, \"Generation\": 3, \"Legendary\": false, \"Pred\": 70.04874537121827}, {\"#\": 273, \"Name\": \"Seedot\", \"Type 1\": \"Grass\", \"Total\": 220, \"HP\": 40, \"Attack\": 40, \"Defense\": 50, \"Sp. Atk\": 30, \"Sp. Def\": 30, \"Speed\": 30, \"Generation\": 3, \"Legendary\": false, \"Pred\": 57.40465273259012}, {\"#\": 274, \"Name\": \"Nuzleaf\", \"Type 1\": \"Grass\", \"Total\": 340, \"HP\": 70, \"Attack\": 70, \"Defense\": 40, \"Sp. Atk\": 60, \"Sp. Def\": 40, \"Speed\": 60, \"Generation\": 3, \"Legendary\": false, \"Pred\": 70.04874537121827}, {\"#\": 275, \"Name\": \"Shiftry\", \"Type 1\": \"Grass\", \"Total\": 480, \"HP\": 90, \"Attack\": 100, \"Defense\": 60, \"Sp. Atk\": 90, \"Sp. Def\": 60, \"Speed\": 80, \"Generation\": 3, \"Legendary\": false, \"Pred\": 82.69283800984644}, {\"#\": 276, \"Name\": \"Taillow\", \"Type 1\": \"Normal\", \"Total\": 270, \"HP\": 40, \"Attack\": 55, \"Defense\": 30, \"Sp. Atk\": 30, \"Sp. Def\": 30, \"Speed\": 85, \"Generation\": 3, \"Legendary\": false, \"Pred\": 63.7266990519042}, {\"#\": 277, \"Name\": \"Swellow\", \"Type 1\": \"Normal\", \"Total\": 430, \"HP\": 60, \"Attack\": 85, \"Defense\": 60, \"Sp. Atk\": 50, \"Sp. Def\": 50, \"Speed\": 125, \"Generation\": 3, \"Legendary\": false, \"Pred\": 76.37079169053236}, {\"#\": 278, \"Name\": \"Wingull\", \"Type 1\": \"Water\", \"Total\": 270, \"HP\": 40, \"Attack\": 30, \"Defense\": 30, \"Sp. Atk\": 55, \"Sp. Def\": 30, \"Speed\": 85, \"Generation\": 3, \"Legendary\": false, \"Pred\": 53.189955186380736}, {\"#\": 279, \"Name\": \"Pelipper\", \"Type 1\": \"Water\", \"Total\": 430, \"HP\": 60, \"Attack\": 50, \"Defense\": 100, \"Sp. Atk\": 85, \"Sp. Def\": 70, \"Speed\": 65, \"Generation\": 3, \"Legendary\": false, \"Pred\": 61.6193502787995}, {\"#\": 280, \"Name\": \"Ralts\", \"Type 1\": \"Psychic\", \"Total\": 198, \"HP\": 28, \"Attack\": 25, \"Defense\": 25, \"Sp. Atk\": 45, \"Sp. Def\": 35, \"Speed\": 40, \"Generation\": 3, \"Legendary\": false, \"Pred\": 51.08260641327604}, {\"#\": 281, \"Name\": \"Kirlia\", \"Type 1\": \"Psychic\", \"Total\": 278, \"HP\": 38, \"Attack\": 35, \"Defense\": 35, \"Sp. Atk\": 65, \"Sp. Def\": 55, \"Speed\": 50, \"Generation\": 3, \"Legendary\": false, \"Pred\": 55.297303959485426}, {\"#\": 282, \"Name\": \"Gardevoir\", \"Type 1\": \"Psychic\", \"Total\": 518, \"HP\": 68, \"Attack\": 65, \"Defense\": 65, \"Sp. Atk\": 125, \"Sp. Def\": 115, \"Speed\": 80, \"Generation\": 3, \"Legendary\": false, \"Pred\": 67.94139659811358}, {\"#\": 282, \"Name\": \"GardevoirMega Gardevoir\", \"Type 1\": \"Psychic\", \"Total\": 618, \"HP\": 68, \"Attack\": 85, \"Defense\": 65, \"Sp. Atk\": 165, \"Sp. Def\": 135, \"Speed\": 100, \"Generation\": 3, \"Legendary\": false, \"Pred\": 76.37079169053236}, {\"#\": 283, \"Name\": \"Surskit\", \"Type 1\": \"Bug\", \"Total\": 269, \"HP\": 40, \"Attack\": 30, \"Defense\": 32, \"Sp. Atk\": 50, \"Sp. Def\": 52, \"Speed\": 65, \"Generation\": 3, \"Legendary\": false, \"Pred\": 53.189955186380736}, {\"#\": 284, \"Name\": \"Masquerain\", \"Type 1\": \"Bug\", \"Total\": 414, \"HP\": 70, \"Attack\": 60, \"Defense\": 62, \"Sp. Atk\": 80, \"Sp. Def\": 82, \"Speed\": 60, \"Generation\": 3, \"Legendary\": false, \"Pred\": 65.8340478250089}, {\"#\": 285, \"Name\": \"Shroomish\", \"Type 1\": \"Grass\", \"Total\": 295, \"HP\": 60, \"Attack\": 40, \"Defense\": 60, \"Sp. Atk\": 40, \"Sp. Def\": 60, \"Speed\": 35, \"Generation\": 3, \"Legendary\": false, \"Pred\": 57.40465273259012}, {\"#\": 286, \"Name\": \"Breloom\", \"Type 1\": \"Grass\", \"Total\": 460, \"HP\": 60, \"Attack\": 130, \"Defense\": 80, \"Sp. Atk\": 60, \"Sp. Def\": 60, \"Speed\": 70, \"Generation\": 3, \"Legendary\": false, \"Pred\": 95.33693064847459}, {\"#\": 287, \"Name\": \"Slakoth\", \"Type 1\": \"Normal\", \"Total\": 280, \"HP\": 60, \"Attack\": 60, \"Defense\": 60, \"Sp. Atk\": 35, \"Sp. Def\": 35, \"Speed\": 30, \"Generation\": 3, \"Legendary\": false, \"Pred\": 65.8340478250089}, {\"#\": 288, \"Name\": \"Vigoroth\", \"Type 1\": \"Normal\", \"Total\": 440, \"HP\": 80, \"Attack\": 80, \"Defense\": 80, \"Sp. Atk\": 55, \"Sp. Def\": 55, \"Speed\": 90, \"Generation\": 3, \"Legendary\": false, \"Pred\": 74.26344291742765}, {\"#\": 289, \"Name\": \"Slaking\", \"Type 1\": \"Normal\", \"Total\": 670, \"HP\": 150, \"Attack\": 160, \"Defense\": 100, \"Sp. Atk\": 95, \"Sp. Def\": 65, \"Speed\": 100, \"Generation\": 3, \"Legendary\": false, \"Pred\": 107.98102328710274}, {\"#\": 290, \"Name\": \"Nincada\", \"Type 1\": \"Bug\", \"Total\": 266, \"HP\": 31, \"Attack\": 45, \"Defense\": 90, \"Sp. Atk\": 30, \"Sp. Def\": 30, \"Speed\": 40, \"Generation\": 3, \"Legendary\": false, \"Pred\": 59.51200150569481}, {\"#\": 291, \"Name\": \"Ninjask\", \"Type 1\": \"Bug\", \"Total\": 456, \"HP\": 61, \"Attack\": 90, \"Defense\": 45, \"Sp. Atk\": 50, \"Sp. Def\": 50, \"Speed\": 160, \"Generation\": 3, \"Legendary\": false, \"Pred\": 78.47814046363705}, {\"#\": 292, \"Name\": \"Shedinja\", \"Type 1\": \"Bug\", \"Total\": 236, \"HP\": 1, \"Attack\": 90, \"Defense\": 45, \"Sp. Atk\": 30, \"Sp. Def\": 30, \"Speed\": 40, \"Generation\": 3, \"Legendary\": false, \"Pred\": 78.47814046363705}, {\"#\": 293, \"Name\": \"Whismur\", \"Type 1\": \"Normal\", \"Total\": 240, \"HP\": 64, \"Attack\": 51, \"Defense\": 23, \"Sp. Atk\": 51, \"Sp. Def\": 23, \"Speed\": 28, \"Generation\": 3, \"Legendary\": false, \"Pred\": 62.040820033420445}, {\"#\": 294, \"Name\": \"Loudred\", \"Type 1\": \"Normal\", \"Total\": 360, \"HP\": 84, \"Attack\": 71, \"Defense\": 43, \"Sp. Atk\": 71, \"Sp. Def\": 43, \"Speed\": 48, \"Generation\": 3, \"Legendary\": false, \"Pred\": 70.47021512583922}, {\"#\": 295, \"Name\": \"Exploud\", \"Type 1\": \"Normal\", \"Total\": 490, \"HP\": 104, \"Attack\": 91, \"Defense\": 63, \"Sp. Atk\": 91, \"Sp. Def\": 73, \"Speed\": 68, \"Generation\": 3, \"Legendary\": false, \"Pred\": 78.89961021825798}, {\"#\": 296, \"Name\": \"Makuhita\", \"Type 1\": \"Fighting\", \"Total\": 237, \"HP\": 72, \"Attack\": 60, \"Defense\": 30, \"Sp. Atk\": 20, \"Sp. Def\": 30, \"Speed\": 25, \"Generation\": 3, \"Legendary\": false, \"Pred\": 65.8340478250089}, {\"#\": 297, \"Name\": \"Hariyama\", \"Type 1\": \"Fighting\", \"Total\": 474, \"HP\": 144, \"Attack\": 120, \"Defense\": 60, \"Sp. Atk\": 40, \"Sp. Def\": 60, \"Speed\": 50, \"Generation\": 3, \"Legendary\": false, \"Pred\": 91.1222331022652}, {\"#\": 298, \"Name\": \"Azurill\", \"Type 1\": \"Normal\", \"Total\": 190, \"HP\": 50, \"Attack\": 20, \"Defense\": 40, \"Sp. Atk\": 20, \"Sp. Def\": 40, \"Speed\": 20, \"Generation\": 3, \"Legendary\": false, \"Pred\": 48.97525764017135}, {\"#\": 299, \"Name\": \"Nosepass\", \"Type 1\": \"Rock\", \"Total\": 375, \"HP\": 30, \"Attack\": 45, \"Defense\": 135, \"Sp. Atk\": 45, \"Sp. Def\": 90, \"Speed\": 30, \"Generation\": 3, \"Legendary\": false, \"Pred\": 59.51200150569481}, {\"#\": 300, \"Name\": \"Skitty\", \"Type 1\": \"Normal\", \"Total\": 260, \"HP\": 50, \"Attack\": 45, \"Defense\": 45, \"Sp. Atk\": 35, \"Sp. Def\": 35, \"Speed\": 50, \"Generation\": 3, \"Legendary\": false, \"Pred\": 59.51200150569481}, {\"#\": 301, \"Name\": \"Delcatty\", \"Type 1\": \"Normal\", \"Total\": 380, \"HP\": 70, \"Attack\": 65, \"Defense\": 65, \"Sp. Atk\": 55, \"Sp. Def\": 55, \"Speed\": 70, \"Generation\": 3, \"Legendary\": false, \"Pred\": 67.94139659811358}, {\"#\": 302, \"Name\": \"Sableye\", \"Type 1\": \"Dark\", \"Total\": 380, \"HP\": 50, \"Attack\": 75, \"Defense\": 75, \"Sp. Atk\": 65, \"Sp. Def\": 65, \"Speed\": 50, \"Generation\": 3, \"Legendary\": false, \"Pred\": 72.15609414432296}, {\"#\": 302, \"Name\": \"SableyeMega Sableye\", \"Type 1\": \"Dark\", \"Total\": 480, \"HP\": 50, \"Attack\": 85, \"Defense\": 125, \"Sp. Atk\": 85, \"Sp. Def\": 115, \"Speed\": 20, \"Generation\": 3, \"Legendary\": false, \"Pred\": 76.37079169053236}, {\"#\": 303, \"Name\": \"Mawile\", \"Type 1\": \"Steel\", \"Total\": 380, \"HP\": 50, \"Attack\": 85, \"Defense\": 85, \"Sp. Atk\": 55, \"Sp. Def\": 55, \"Speed\": 50, \"Generation\": 3, \"Legendary\": false, \"Pred\": 76.37079169053236}, {\"#\": 303, \"Name\": \"MawileMega Mawile\", \"Type 1\": \"Steel\", \"Total\": 480, \"HP\": 50, \"Attack\": 105, \"Defense\": 125, \"Sp. Atk\": 55, \"Sp. Def\": 95, \"Speed\": 50, \"Generation\": 3, \"Legendary\": false, \"Pred\": 84.80018678295113}, {\"#\": 304, \"Name\": \"Aron\", \"Type 1\": \"Steel\", \"Total\": 330, \"HP\": 50, \"Attack\": 70, \"Defense\": 100, \"Sp. Atk\": 40, \"Sp. Def\": 40, \"Speed\": 30, \"Generation\": 3, \"Legendary\": false, \"Pred\": 70.04874537121827}, {\"#\": 305, \"Name\": \"Lairon\", \"Type 1\": \"Steel\", \"Total\": 430, \"HP\": 60, \"Attack\": 90, \"Defense\": 140, \"Sp. Atk\": 50, \"Sp. Def\": 50, \"Speed\": 40, \"Generation\": 3, \"Legendary\": false, \"Pred\": 78.47814046363705}, {\"#\": 306, \"Name\": \"Aggron\", \"Type 1\": \"Steel\", \"Total\": 530, \"HP\": 70, \"Attack\": 110, \"Defense\": 180, \"Sp. Atk\": 60, \"Sp. Def\": 60, \"Speed\": 50, \"Generation\": 3, \"Legendary\": false, \"Pred\": 86.90753555605582}, {\"#\": 306, \"Name\": \"AggronMega Aggron\", \"Type 1\": \"Steel\", \"Total\": 630, \"HP\": 70, \"Attack\": 140, \"Defense\": 230, \"Sp. Atk\": 60, \"Sp. Def\": 80, \"Speed\": 50, \"Generation\": 3, \"Legendary\": false, \"Pred\": 99.55162819468397}, {\"#\": 307, \"Name\": \"Meditite\", \"Type 1\": \"Fighting\", \"Total\": 280, \"HP\": 30, \"Attack\": 40, \"Defense\": 55, \"Sp. Atk\": 40, \"Sp. Def\": 55, \"Speed\": 60, \"Generation\": 3, \"Legendary\": false, \"Pred\": 57.40465273259012}, {\"#\": 308, \"Name\": \"Medicham\", \"Type 1\": \"Fighting\", \"Total\": 410, \"HP\": 60, \"Attack\": 60, \"Defense\": 75, \"Sp. Atk\": 60, \"Sp. Def\": 75, \"Speed\": 80, \"Generation\": 3, \"Legendary\": false, \"Pred\": 65.8340478250089}, {\"#\": 308, \"Name\": \"MedichamMega Medicham\", \"Type 1\": \"Fighting\", \"Total\": 510, \"HP\": 60, \"Attack\": 100, \"Defense\": 85, \"Sp. Atk\": 80, \"Sp. Def\": 85, \"Speed\": 100, \"Generation\": 3, \"Legendary\": false, \"Pred\": 82.69283800984644}, {\"#\": 309, \"Name\": \"Electrike\", \"Type 1\": \"Electric\", \"Total\": 295, \"HP\": 40, \"Attack\": 45, \"Defense\": 40, \"Sp. Atk\": 65, \"Sp. Def\": 40, \"Speed\": 65, \"Generation\": 3, \"Legendary\": false, \"Pred\": 59.51200150569481}, {\"#\": 310, \"Name\": \"Manectric\", \"Type 1\": \"Electric\", \"Total\": 475, \"HP\": 70, \"Attack\": 75, \"Defense\": 60, \"Sp. Atk\": 105, \"Sp. Def\": 60, \"Speed\": 105, \"Generation\": 3, \"Legendary\": false, \"Pred\": 72.15609414432296}, {\"#\": 310, \"Name\": \"ManectricMega Manectric\", \"Type 1\": \"Electric\", \"Total\": 575, \"HP\": 70, \"Attack\": 75, \"Defense\": 80, \"Sp. Atk\": 135, \"Sp. Def\": 80, \"Speed\": 135, \"Generation\": 3, \"Legendary\": false, \"Pred\": 72.15609414432296}, {\"#\": 311, \"Name\": \"Plusle\", \"Type 1\": \"Electric\", \"Total\": 405, \"HP\": 60, \"Attack\": 50, \"Defense\": 40, \"Sp. Atk\": 85, \"Sp. Def\": 75, \"Speed\": 95, \"Generation\": 3, \"Legendary\": false, \"Pred\": 61.6193502787995}, {\"#\": 312, \"Name\": \"Minun\", \"Type 1\": \"Electric\", \"Total\": 405, \"HP\": 60, \"Attack\": 40, \"Defense\": 50, \"Sp. Atk\": 75, \"Sp. Def\": 85, \"Speed\": 95, \"Generation\": 3, \"Legendary\": false, \"Pred\": 57.40465273259012}, {\"#\": 313, \"Name\": \"Volbeat\", \"Type 1\": \"Bug\", \"Total\": 400, \"HP\": 65, \"Attack\": 73, \"Defense\": 55, \"Sp. Atk\": 47, \"Sp. Def\": 75, \"Speed\": 85, \"Generation\": 3, \"Legendary\": false, \"Pred\": 71.31315463508109}, {\"#\": 314, \"Name\": \"Illumise\", \"Type 1\": \"Bug\", \"Total\": 400, \"HP\": 65, \"Attack\": 47, \"Defense\": 55, \"Sp. Atk\": 73, \"Sp. Def\": 75, \"Speed\": 85, \"Generation\": 3, \"Legendary\": false, \"Pred\": 60.354941014936685}, {\"#\": 315, \"Name\": \"Roselia\", \"Type 1\": \"Grass\", \"Total\": 400, \"HP\": 50, \"Attack\": 60, \"Defense\": 45, \"Sp. Atk\": 100, \"Sp. Def\": 80, \"Speed\": 65, \"Generation\": 3, \"Legendary\": false, \"Pred\": 65.8340478250089}, {\"#\": 316, \"Name\": \"Gulpin\", \"Type 1\": \"Poison\", \"Total\": 302, \"HP\": 70, \"Attack\": 43, \"Defense\": 53, \"Sp. Atk\": 43, \"Sp. Def\": 53, \"Speed\": 40, \"Generation\": 3, \"Legendary\": false, \"Pred\": 58.66906199645294}, {\"#\": 317, \"Name\": \"Swalot\", \"Type 1\": \"Poison\", \"Total\": 467, \"HP\": 100, \"Attack\": 73, \"Defense\": 83, \"Sp. Atk\": 73, \"Sp. Def\": 83, \"Speed\": 55, \"Generation\": 3, \"Legendary\": false, \"Pred\": 71.31315463508109}, {\"#\": 318, \"Name\": \"Carvanha\", \"Type 1\": \"Water\", \"Total\": 305, \"HP\": 45, \"Attack\": 90, \"Defense\": 20, \"Sp. Atk\": 65, \"Sp. Def\": 20, \"Speed\": 65, \"Generation\": 3, \"Legendary\": false, \"Pred\": 78.47814046363705}, {\"#\": 319, \"Name\": \"Sharpedo\", \"Type 1\": \"Water\", \"Total\": 460, \"HP\": 70, \"Attack\": 120, \"Defense\": 40, \"Sp. Atk\": 95, \"Sp. Def\": 40, \"Speed\": 95, \"Generation\": 3, \"Legendary\": false, \"Pred\": 91.1222331022652}, {\"#\": 319, \"Name\": \"SharpedoMega Sharpedo\", \"Type 1\": \"Water\", \"Total\": 560, \"HP\": 70, \"Attack\": 140, \"Defense\": 70, \"Sp. Atk\": 110, \"Sp. Def\": 65, \"Speed\": 105, \"Generation\": 3, \"Legendary\": false, \"Pred\": 99.55162819468397}, {\"#\": 320, \"Name\": \"Wailmer\", \"Type 1\": \"Water\", \"Total\": 400, \"HP\": 130, \"Attack\": 70, \"Defense\": 35, \"Sp. Atk\": 70, \"Sp. Def\": 35, \"Speed\": 60, \"Generation\": 3, \"Legendary\": false, \"Pred\": 70.04874537121827}, {\"#\": 321, \"Name\": \"Wailord\", \"Type 1\": \"Water\", \"Total\": 500, \"HP\": 170, \"Attack\": 90, \"Defense\": 45, \"Sp. Atk\": 90, \"Sp. Def\": 45, \"Speed\": 60, \"Generation\": 3, \"Legendary\": false, \"Pred\": 78.47814046363705}, {\"#\": 322, \"Name\": \"Numel\", \"Type 1\": \"Fire\", \"Total\": 305, \"HP\": 60, \"Attack\": 60, \"Defense\": 40, \"Sp. Atk\": 65, \"Sp. Def\": 45, \"Speed\": 35, \"Generation\": 3, \"Legendary\": false, \"Pred\": 65.8340478250089}, {\"#\": 323, \"Name\": \"Camerupt\", \"Type 1\": \"Fire\", \"Total\": 460, \"HP\": 70, \"Attack\": 100, \"Defense\": 70, \"Sp. Atk\": 105, \"Sp. Def\": 75, \"Speed\": 40, \"Generation\": 3, \"Legendary\": false, \"Pred\": 82.69283800984644}, {\"#\": 323, \"Name\": \"CameruptMega Camerupt\", \"Type 1\": \"Fire\", \"Total\": 560, \"HP\": 70, \"Attack\": 120, \"Defense\": 100, \"Sp. Atk\": 145, \"Sp. Def\": 105, \"Speed\": 20, \"Generation\": 3, \"Legendary\": false, \"Pred\": 91.1222331022652}, {\"#\": 324, \"Name\": \"Torkoal\", \"Type 1\": \"Fire\", \"Total\": 470, \"HP\": 70, \"Attack\": 85, \"Defense\": 140, \"Sp. Atk\": 85, \"Sp. Def\": 70, \"Speed\": 20, \"Generation\": 3, \"Legendary\": false, \"Pred\": 76.37079169053236}, {\"#\": 325, \"Name\": \"Spoink\", \"Type 1\": \"Psychic\", \"Total\": 330, \"HP\": 60, \"Attack\": 25, \"Defense\": 35, \"Sp. Atk\": 70, \"Sp. Def\": 80, \"Speed\": 60, \"Generation\": 3, \"Legendary\": false, \"Pred\": 51.08260641327604}, {\"#\": 326, \"Name\": \"Grumpig\", \"Type 1\": \"Psychic\", \"Total\": 470, \"HP\": 80, \"Attack\": 45, \"Defense\": 65, \"Sp. Atk\": 90, \"Sp. Def\": 110, \"Speed\": 80, \"Generation\": 3, \"Legendary\": false, \"Pred\": 59.51200150569481}, {\"#\": 327, \"Name\": \"Spinda\", \"Type 1\": \"Normal\", \"Total\": 360, \"HP\": 60, \"Attack\": 60, \"Defense\": 60, \"Sp. Atk\": 60, \"Sp. Def\": 60, \"Speed\": 60, \"Generation\": 3, \"Legendary\": false, \"Pred\": 65.8340478250089}, {\"#\": 328, \"Name\": \"Trapinch\", \"Type 1\": \"Ground\", \"Total\": 290, \"HP\": 45, \"Attack\": 100, \"Defense\": 45, \"Sp. Atk\": 45, \"Sp. Def\": 45, \"Speed\": 10, \"Generation\": 3, \"Legendary\": false, \"Pred\": 82.69283800984644}, {\"#\": 329, \"Name\": \"Vibrava\", \"Type 1\": \"Ground\", \"Total\": 340, \"HP\": 50, \"Attack\": 70, \"Defense\": 50, \"Sp. Atk\": 50, \"Sp. Def\": 50, \"Speed\": 70, \"Generation\": 3, \"Legendary\": false, \"Pred\": 70.04874537121827}, {\"#\": 330, \"Name\": \"Flygon\", \"Type 1\": \"Ground\", \"Total\": 520, \"HP\": 80, \"Attack\": 100, \"Defense\": 80, \"Sp. Atk\": 80, \"Sp. Def\": 80, \"Speed\": 100, \"Generation\": 3, \"Legendary\": false, \"Pred\": 82.69283800984644}, {\"#\": 331, \"Name\": \"Cacnea\", \"Type 1\": \"Grass\", \"Total\": 335, \"HP\": 50, \"Attack\": 85, \"Defense\": 40, \"Sp. Atk\": 85, \"Sp. Def\": 40, \"Speed\": 35, \"Generation\": 3, \"Legendary\": false, \"Pred\": 76.37079169053236}, {\"#\": 332, \"Name\": \"Cacturne\", \"Type 1\": \"Grass\", \"Total\": 475, \"HP\": 70, \"Attack\": 115, \"Defense\": 60, \"Sp. Atk\": 115, \"Sp. Def\": 60, \"Speed\": 55, \"Generation\": 3, \"Legendary\": false, \"Pred\": 89.01488432916051}, {\"#\": 333, \"Name\": \"Swablu\", \"Type 1\": \"Normal\", \"Total\": 310, \"HP\": 45, \"Attack\": 40, \"Defense\": 60, \"Sp. Atk\": 40, \"Sp. Def\": 75, \"Speed\": 50, \"Generation\": 3, \"Legendary\": false, \"Pred\": 57.40465273259012}, {\"#\": 334, \"Name\": \"Altaria\", \"Type 1\": \"Dragon\", \"Total\": 490, \"HP\": 75, \"Attack\": 70, \"Defense\": 90, \"Sp. Atk\": 70, \"Sp. Def\": 105, \"Speed\": 80, \"Generation\": 3, \"Legendary\": false, \"Pred\": 70.04874537121827}, {\"#\": 334, \"Name\": \"AltariaMega Altaria\", \"Type 1\": \"Dragon\", \"Total\": 590, \"HP\": 75, \"Attack\": 110, \"Defense\": 110, \"Sp. Atk\": 110, \"Sp. Def\": 105, \"Speed\": 80, \"Generation\": 3, \"Legendary\": false, \"Pred\": 86.90753555605582}, {\"#\": 335, \"Name\": \"Zangoose\", \"Type 1\": \"Normal\", \"Total\": 458, \"HP\": 73, \"Attack\": 115, \"Defense\": 60, \"Sp. Atk\": 60, \"Sp. Def\": 60, \"Speed\": 90, \"Generation\": 3, \"Legendary\": false, \"Pred\": 89.01488432916051}, {\"#\": 336, \"Name\": \"Seviper\", \"Type 1\": \"Poison\", \"Total\": 458, \"HP\": 73, \"Attack\": 100, \"Defense\": 60, \"Sp. Atk\": 100, \"Sp. Def\": 60, \"Speed\": 65, \"Generation\": 3, \"Legendary\": false, \"Pred\": 82.69283800984644}, {\"#\": 337, \"Name\": \"Lunatone\", \"Type 1\": \"Rock\", \"Total\": 440, \"HP\": 70, \"Attack\": 55, \"Defense\": 65, \"Sp. Atk\": 95, \"Sp. Def\": 85, \"Speed\": 70, \"Generation\": 3, \"Legendary\": false, \"Pred\": 63.7266990519042}, {\"#\": 338, \"Name\": \"Solrock\", \"Type 1\": \"Rock\", \"Total\": 440, \"HP\": 70, \"Attack\": 95, \"Defense\": 85, \"Sp. Atk\": 55, \"Sp. Def\": 65, \"Speed\": 70, \"Generation\": 3, \"Legendary\": false, \"Pred\": 80.58548923674174}, {\"#\": 339, \"Name\": \"Barboach\", \"Type 1\": \"Water\", \"Total\": 288, \"HP\": 50, \"Attack\": 48, \"Defense\": 43, \"Sp. Atk\": 46, \"Sp. Def\": 41, \"Speed\": 60, \"Generation\": 3, \"Legendary\": false, \"Pred\": 60.77641076955763}, {\"#\": 340, \"Name\": \"Whiscash\", \"Type 1\": \"Water\", \"Total\": 468, \"HP\": 110, \"Attack\": 78, \"Defense\": 73, \"Sp. Atk\": 76, \"Sp. Def\": 71, \"Speed\": 60, \"Generation\": 3, \"Legendary\": false, \"Pred\": 73.4205034081858}, {\"#\": 341, \"Name\": \"Corphish\", \"Type 1\": \"Water\", \"Total\": 308, \"HP\": 43, \"Attack\": 80, \"Defense\": 65, \"Sp. Atk\": 50, \"Sp. Def\": 35, \"Speed\": 35, \"Generation\": 3, \"Legendary\": false, \"Pred\": 74.26344291742765}, {\"#\": 342, \"Name\": \"Crawdaunt\", \"Type 1\": \"Water\", \"Total\": 468, \"HP\": 63, \"Attack\": 120, \"Defense\": 85, \"Sp. Atk\": 90, \"Sp. Def\": 55, \"Speed\": 55, \"Generation\": 3, \"Legendary\": false, \"Pred\": 91.1222331022652}, {\"#\": 343, \"Name\": \"Baltoy\", \"Type 1\": \"Ground\", \"Total\": 300, \"HP\": 40, \"Attack\": 40, \"Defense\": 55, \"Sp. Atk\": 40, \"Sp. Def\": 70, \"Speed\": 55, \"Generation\": 3, \"Legendary\": false, \"Pred\": 57.40465273259012}, {\"#\": 344, \"Name\": \"Claydol\", \"Type 1\": \"Ground\", \"Total\": 500, \"HP\": 60, \"Attack\": 70, \"Defense\": 105, \"Sp. Atk\": 70, \"Sp. Def\": 120, \"Speed\": 75, \"Generation\": 3, \"Legendary\": false, \"Pred\": 70.04874537121827}, {\"#\": 345, \"Name\": \"Lileep\", \"Type 1\": \"Rock\", \"Total\": 355, \"HP\": 66, \"Attack\": 41, \"Defense\": 77, \"Sp. Atk\": 61, \"Sp. Def\": 87, \"Speed\": 23, \"Generation\": 3, \"Legendary\": false, \"Pred\": 57.82612248721106}, {\"#\": 346, \"Name\": \"Cradily\", \"Type 1\": \"Rock\", \"Total\": 495, \"HP\": 86, \"Attack\": 81, \"Defense\": 97, \"Sp. Atk\": 81, \"Sp. Def\": 107, \"Speed\": 43, \"Generation\": 3, \"Legendary\": false, \"Pred\": 74.6849126720486}, {\"#\": 347, \"Name\": \"Anorith\", \"Type 1\": \"Rock\", \"Total\": 355, \"HP\": 45, \"Attack\": 95, \"Defense\": 50, \"Sp. Atk\": 40, \"Sp. Def\": 50, \"Speed\": 75, \"Generation\": 3, \"Legendary\": false, \"Pred\": 80.58548923674174}, {\"#\": 348, \"Name\": \"Armaldo\", \"Type 1\": \"Rock\", \"Total\": 495, \"HP\": 75, \"Attack\": 125, \"Defense\": 100, \"Sp. Atk\": 70, \"Sp. Def\": 80, \"Speed\": 45, \"Generation\": 3, \"Legendary\": false, \"Pred\": 93.22958187536989}, {\"#\": 349, \"Name\": \"Feebas\", \"Type 1\": \"Water\", \"Total\": 200, \"HP\": 20, \"Attack\": 15, \"Defense\": 20, \"Sp. Atk\": 10, \"Sp. Def\": 55, \"Speed\": 80, \"Generation\": 3, \"Legendary\": false, \"Pred\": 46.86790886706665}, {\"#\": 350, \"Name\": \"Milotic\", \"Type 1\": \"Water\", \"Total\": 540, \"HP\": 95, \"Attack\": 60, \"Defense\": 79, \"Sp. Atk\": 100, \"Sp. Def\": 125, \"Speed\": 81, \"Generation\": 3, \"Legendary\": false, \"Pred\": 65.8340478250089}, {\"#\": 351, \"Name\": \"Castform\", \"Type 1\": \"Normal\", \"Total\": 420, \"HP\": 70, \"Attack\": 70, \"Defense\": 70, \"Sp. Atk\": 70, \"Sp. Def\": 70, \"Speed\": 70, \"Generation\": 3, \"Legendary\": false, \"Pred\": 70.04874537121827}, {\"#\": 352, \"Name\": \"Kecleon\", \"Type 1\": \"Normal\", \"Total\": 440, \"HP\": 60, \"Attack\": 90, \"Defense\": 70, \"Sp. Atk\": 60, \"Sp. Def\": 120, \"Speed\": 40, \"Generation\": 3, \"Legendary\": false, \"Pred\": 78.47814046363705}, {\"#\": 353, \"Name\": \"Shuppet\", \"Type 1\": \"Ghost\", \"Total\": 295, \"HP\": 44, \"Attack\": 75, \"Defense\": 35, \"Sp. Atk\": 63, \"Sp. Def\": 33, \"Speed\": 45, \"Generation\": 3, \"Legendary\": false, \"Pred\": 72.15609414432296}, {\"#\": 354, \"Name\": \"Banette\", \"Type 1\": \"Ghost\", \"Total\": 455, \"HP\": 64, \"Attack\": 115, \"Defense\": 65, \"Sp. Atk\": 83, \"Sp. Def\": 63, \"Speed\": 65, \"Generation\": 3, \"Legendary\": false, \"Pred\": 89.01488432916051}, {\"#\": 354, \"Name\": \"BanetteMega Banette\", \"Type 1\": \"Ghost\", \"Total\": 555, \"HP\": 64, \"Attack\": 165, \"Defense\": 75, \"Sp. Atk\": 93, \"Sp. Def\": 83, \"Speed\": 75, \"Generation\": 3, \"Legendary\": false, \"Pred\": 110.08837206020743}, {\"#\": 355, \"Name\": \"Duskull\", \"Type 1\": \"Ghost\", \"Total\": 295, \"HP\": 20, \"Attack\": 40, \"Defense\": 90, \"Sp. Atk\": 30, \"Sp. Def\": 90, \"Speed\": 25, \"Generation\": 3, \"Legendary\": false, \"Pred\": 57.40465273259012}, {\"#\": 356, \"Name\": \"Dusclops\", \"Type 1\": \"Ghost\", \"Total\": 455, \"HP\": 40, \"Attack\": 70, \"Defense\": 130, \"Sp. Atk\": 60, \"Sp. Def\": 130, \"Speed\": 25, \"Generation\": 3, \"Legendary\": false, \"Pred\": 70.04874537121827}, {\"#\": 357, \"Name\": \"Tropius\", \"Type 1\": \"Grass\", \"Total\": 460, \"HP\": 99, \"Attack\": 68, \"Defense\": 83, \"Sp. Atk\": 72, \"Sp. Def\": 87, \"Speed\": 51, \"Generation\": 3, \"Legendary\": false, \"Pred\": 69.2058058619764}, {\"#\": 358, \"Name\": \"Chimecho\", \"Type 1\": \"Psychic\", \"Total\": 425, \"HP\": 65, \"Attack\": 50, \"Defense\": 70, \"Sp. Atk\": 95, \"Sp. Def\": 80, \"Speed\": 65, \"Generation\": 3, \"Legendary\": false, \"Pred\": 61.6193502787995}, {\"#\": 359, \"Name\": \"Absol\", \"Type 1\": \"Dark\", \"Total\": 465, \"HP\": 65, \"Attack\": 130, \"Defense\": 60, \"Sp. Atk\": 75, \"Sp. Def\": 60, \"Speed\": 75, \"Generation\": 3, \"Legendary\": false, \"Pred\": 95.33693064847459}, {\"#\": 359, \"Name\": \"AbsolMega Absol\", \"Type 1\": \"Dark\", \"Total\": 565, \"HP\": 65, \"Attack\": 150, \"Defense\": 60, \"Sp. Atk\": 115, \"Sp. Def\": 60, \"Speed\": 115, \"Generation\": 3, \"Legendary\": false, \"Pred\": 103.76632574089336}, {\"#\": 360, \"Name\": \"Wynaut\", \"Type 1\": \"Psychic\", \"Total\": 260, \"HP\": 95, \"Attack\": 23, \"Defense\": 48, \"Sp. Atk\": 23, \"Sp. Def\": 48, \"Speed\": 23, \"Generation\": 3, \"Legendary\": false, \"Pred\": 50.239666904034166}, {\"#\": 361, \"Name\": \"Snorunt\", \"Type 1\": \"Ice\", \"Total\": 300, \"HP\": 50, \"Attack\": 50, \"Defense\": 50, \"Sp. Atk\": 50, \"Sp. Def\": 50, \"Speed\": 50, \"Generation\": 3, \"Legendary\": false, \"Pred\": 61.6193502787995}, {\"#\": 362, \"Name\": \"Glalie\", \"Type 1\": \"Ice\", \"Total\": 480, \"HP\": 80, \"Attack\": 80, \"Defense\": 80, \"Sp. Atk\": 80, \"Sp. Def\": 80, \"Speed\": 80, \"Generation\": 3, \"Legendary\": false, \"Pred\": 74.26344291742765}, {\"#\": 362, \"Name\": \"GlalieMega Glalie\", \"Type 1\": \"Ice\", \"Total\": 580, \"HP\": 80, \"Attack\": 120, \"Defense\": 80, \"Sp. Atk\": 120, \"Sp. Def\": 80, \"Speed\": 100, \"Generation\": 3, \"Legendary\": false, \"Pred\": 91.1222331022652}, {\"#\": 363, \"Name\": \"Spheal\", \"Type 1\": \"Ice\", \"Total\": 290, \"HP\": 70, \"Attack\": 40, \"Defense\": 50, \"Sp. Atk\": 55, \"Sp. Def\": 50, \"Speed\": 25, \"Generation\": 3, \"Legendary\": false, \"Pred\": 57.40465273259012}, {\"#\": 364, \"Name\": \"Sealeo\", \"Type 1\": \"Ice\", \"Total\": 410, \"HP\": 90, \"Attack\": 60, \"Defense\": 70, \"Sp. Atk\": 75, \"Sp. Def\": 70, \"Speed\": 45, \"Generation\": 3, \"Legendary\": false, \"Pred\": 65.8340478250089}, {\"#\": 365, \"Name\": \"Walrein\", \"Type 1\": \"Ice\", \"Total\": 530, \"HP\": 110, \"Attack\": 80, \"Defense\": 90, \"Sp. Atk\": 95, \"Sp. Def\": 90, \"Speed\": 65, \"Generation\": 3, \"Legendary\": false, \"Pred\": 74.26344291742765}, {\"#\": 366, \"Name\": \"Clamperl\", \"Type 1\": \"Water\", \"Total\": 345, \"HP\": 35, \"Attack\": 64, \"Defense\": 85, \"Sp. Atk\": 74, \"Sp. Def\": 55, \"Speed\": 32, \"Generation\": 3, \"Legendary\": false, \"Pred\": 67.51992684349264}, {\"#\": 367, \"Name\": \"Huntail\", \"Type 1\": \"Water\", \"Total\": 485, \"HP\": 55, \"Attack\": 104, \"Defense\": 105, \"Sp. Atk\": 94, \"Sp. Def\": 75, \"Speed\": 52, \"Generation\": 3, \"Legendary\": false, \"Pred\": 84.37871702833019}, {\"#\": 368, \"Name\": \"Gorebyss\", \"Type 1\": \"Water\", \"Total\": 485, \"HP\": 55, \"Attack\": 84, \"Defense\": 105, \"Sp. Atk\": 114, \"Sp. Def\": 75, \"Speed\": 52, \"Generation\": 3, \"Legendary\": false, \"Pred\": 75.94932193591141}, {\"#\": 369, \"Name\": \"Relicanth\", \"Type 1\": \"Water\", \"Total\": 485, \"HP\": 100, \"Attack\": 90, \"Defense\": 130, \"Sp. Atk\": 45, \"Sp. Def\": 65, \"Speed\": 55, \"Generation\": 3, \"Legendary\": false, \"Pred\": 78.47814046363705}, {\"#\": 370, \"Name\": \"Luvdisc\", \"Type 1\": \"Water\", \"Total\": 330, \"HP\": 43, \"Attack\": 30, \"Defense\": 55, \"Sp. Atk\": 40, \"Sp. Def\": 65, \"Speed\": 97, \"Generation\": 3, \"Legendary\": false, \"Pred\": 53.189955186380736}, {\"#\": 371, \"Name\": \"Bagon\", \"Type 1\": \"Dragon\", \"Total\": 300, \"HP\": 45, \"Attack\": 75, \"Defense\": 60, \"Sp. Atk\": 40, \"Sp. Def\": 30, \"Speed\": 50, \"Generation\": 3, \"Legendary\": false, \"Pred\": 72.15609414432296}, {\"#\": 372, \"Name\": \"Shelgon\", \"Type 1\": \"Dragon\", \"Total\": 420, \"HP\": 65, \"Attack\": 95, \"Defense\": 100, \"Sp. Atk\": 60, \"Sp. Def\": 50, \"Speed\": 50, \"Generation\": 3, \"Legendary\": false, \"Pred\": 80.58548923674174}, {\"#\": 373, \"Name\": \"Salamence\", \"Type 1\": \"Dragon\", \"Total\": 600, \"HP\": 95, \"Attack\": 135, \"Defense\": 80, \"Sp. Atk\": 110, \"Sp. Def\": 80, \"Speed\": 100, \"Generation\": 3, \"Legendary\": false, \"Pred\": 97.44427942157928}, {\"#\": 373, \"Name\": \"SalamenceMega Salamence\", \"Type 1\": \"Dragon\", \"Total\": 700, \"HP\": 95, \"Attack\": 145, \"Defense\": 130, \"Sp. Atk\": 120, \"Sp. Def\": 90, \"Speed\": 120, \"Generation\": 3, \"Legendary\": false, \"Pred\": 101.65897696778867}, {\"#\": 374, \"Name\": \"Beldum\", \"Type 1\": \"Steel\", \"Total\": 300, \"HP\": 40, \"Attack\": 55, \"Defense\": 80, \"Sp. Atk\": 35, \"Sp. Def\": 60, \"Speed\": 30, \"Generation\": 3, \"Legendary\": false, \"Pred\": 63.7266990519042}, {\"#\": 375, \"Name\": \"Metang\", \"Type 1\": \"Steel\", \"Total\": 420, \"HP\": 60, \"Attack\": 75, \"Defense\": 100, \"Sp. Atk\": 55, \"Sp. Def\": 80, \"Speed\": 50, \"Generation\": 3, \"Legendary\": false, \"Pred\": 72.15609414432296}, {\"#\": 376, \"Name\": \"Metagross\", \"Type 1\": \"Steel\", \"Total\": 600, \"HP\": 80, \"Attack\": 135, \"Defense\": 130, \"Sp. Atk\": 95, \"Sp. Def\": 90, \"Speed\": 70, \"Generation\": 3, \"Legendary\": false, \"Pred\": 97.44427942157928}, {\"#\": 376, \"Name\": \"MetagrossMega Metagross\", \"Type 1\": \"Steel\", \"Total\": 700, \"HP\": 80, \"Attack\": 145, \"Defense\": 150, \"Sp. Atk\": 105, \"Sp. Def\": 110, \"Speed\": 110, \"Generation\": 3, \"Legendary\": false, \"Pred\": 101.65897696778867}, {\"#\": 377, \"Name\": \"Regirock\", \"Type 1\": \"Rock\", \"Total\": 580, \"HP\": 80, \"Attack\": 100, \"Defense\": 200, \"Sp. Atk\": 50, \"Sp. Def\": 100, \"Speed\": 50, \"Generation\": 3, \"Legendary\": true, \"Pred\": 82.69283800984644}, {\"#\": 378, \"Name\": \"Regice\", \"Type 1\": \"Ice\", \"Total\": 580, \"HP\": 80, \"Attack\": 50, \"Defense\": 100, \"Sp. Atk\": 100, \"Sp. Def\": 200, \"Speed\": 50, \"Generation\": 3, \"Legendary\": true, \"Pred\": 61.6193502787995}, {\"#\": 379, \"Name\": \"Registeel\", \"Type 1\": \"Steel\", \"Total\": 580, \"HP\": 80, \"Attack\": 75, \"Defense\": 150, \"Sp. Atk\": 75, \"Sp. Def\": 150, \"Speed\": 50, \"Generation\": 3, \"Legendary\": true, \"Pred\": 72.15609414432296}, {\"#\": 380, \"Name\": \"Latias\", \"Type 1\": \"Dragon\", \"Total\": 600, \"HP\": 80, \"Attack\": 80, \"Defense\": 90, \"Sp. Atk\": 110, \"Sp. Def\": 130, \"Speed\": 110, \"Generation\": 3, \"Legendary\": true, \"Pred\": 74.26344291742765}, {\"#\": 380, \"Name\": \"LatiasMega Latias\", \"Type 1\": \"Dragon\", \"Total\": 700, \"HP\": 80, \"Attack\": 100, \"Defense\": 120, \"Sp. Atk\": 140, \"Sp. Def\": 150, \"Speed\": 110, \"Generation\": 3, \"Legendary\": true, \"Pred\": 82.69283800984644}, {\"#\": 381, \"Name\": \"Latios\", \"Type 1\": \"Dragon\", \"Total\": 600, \"HP\": 80, \"Attack\": 90, \"Defense\": 80, \"Sp. Atk\": 130, \"Sp. Def\": 110, \"Speed\": 110, \"Generation\": 3, \"Legendary\": true, \"Pred\": 78.47814046363705}, {\"#\": 381, \"Name\": \"LatiosMega Latios\", \"Type 1\": \"Dragon\", \"Total\": 700, \"HP\": 80, \"Attack\": 130, \"Defense\": 100, \"Sp. Atk\": 160, \"Sp. Def\": 120, \"Speed\": 110, \"Generation\": 3, \"Legendary\": true, \"Pred\": 95.33693064847459}, {\"#\": 382, \"Name\": \"Kyogre\", \"Type 1\": \"Water\", \"Total\": 670, \"HP\": 100, \"Attack\": 100, \"Defense\": 90, \"Sp. Atk\": 150, \"Sp. Def\": 140, \"Speed\": 90, \"Generation\": 3, \"Legendary\": true, \"Pred\": 82.69283800984644}, {\"#\": 382, \"Name\": \"KyogrePrimal Kyogre\", \"Type 1\": \"Water\", \"Total\": 770, \"HP\": 100, \"Attack\": 150, \"Defense\": 90, \"Sp. Atk\": 180, \"Sp. Def\": 160, \"Speed\": 90, \"Generation\": 3, \"Legendary\": true, \"Pred\": 103.76632574089336}, {\"#\": 383, \"Name\": \"Groudon\", \"Type 1\": \"Ground\", \"Total\": 670, \"HP\": 100, \"Attack\": 150, \"Defense\": 140, \"Sp. Atk\": 100, \"Sp. Def\": 90, \"Speed\": 90, \"Generation\": 3, \"Legendary\": true, \"Pred\": 103.76632574089336}, {\"#\": 383, \"Name\": \"GroudonPrimal Groudon\", \"Type 1\": \"Ground\", \"Total\": 770, \"HP\": 100, \"Attack\": 180, \"Defense\": 160, \"Sp. Atk\": 150, \"Sp. Def\": 90, \"Speed\": 90, \"Generation\": 3, \"Legendary\": true, \"Pred\": 116.41041837952152}, {\"#\": 384, \"Name\": \"Rayquaza\", \"Type 1\": \"Dragon\", \"Total\": 680, \"HP\": 105, \"Attack\": 150, \"Defense\": 90, \"Sp. Atk\": 150, \"Sp. Def\": 90, \"Speed\": 95, \"Generation\": 3, \"Legendary\": true, \"Pred\": 103.76632574089336}, {\"#\": 384, \"Name\": \"RayquazaMega Rayquaza\", \"Type 1\": \"Dragon\", \"Total\": 780, \"HP\": 105, \"Attack\": 180, \"Defense\": 100, \"Sp. Atk\": 180, \"Sp. Def\": 100, \"Speed\": 115, \"Generation\": 3, \"Legendary\": true, \"Pred\": 116.41041837952152}, {\"#\": 385, \"Name\": \"Jirachi\", \"Type 1\": \"Steel\", \"Total\": 600, \"HP\": 100, \"Attack\": 100, \"Defense\": 100, \"Sp. Atk\": 100, \"Sp. Def\": 100, \"Speed\": 100, \"Generation\": 3, \"Legendary\": true, \"Pred\": 82.69283800984644}, {\"#\": 386, \"Name\": \"DeoxysNormal Forme\", \"Type 1\": \"Psychic\", \"Total\": 600, \"HP\": 50, \"Attack\": 150, \"Defense\": 50, \"Sp. Atk\": 150, \"Sp. Def\": 50, \"Speed\": 150, \"Generation\": 3, \"Legendary\": true, \"Pred\": 103.76632574089336}, {\"#\": 386, \"Name\": \"DeoxysAttack Forme\", \"Type 1\": \"Psychic\", \"Total\": 600, \"HP\": 50, \"Attack\": 180, \"Defense\": 20, \"Sp. Atk\": 180, \"Sp. Def\": 20, \"Speed\": 150, \"Generation\": 3, \"Legendary\": true, \"Pred\": 116.41041837952152}, {\"#\": 386, \"Name\": \"DeoxysDefense Forme\", \"Type 1\": \"Psychic\", \"Total\": 600, \"HP\": 50, \"Attack\": 70, \"Defense\": 160, \"Sp. Atk\": 70, \"Sp. Def\": 160, \"Speed\": 90, \"Generation\": 3, \"Legendary\": true, \"Pred\": 70.04874537121827}, {\"#\": 386, \"Name\": \"DeoxysSpeed Forme\", \"Type 1\": \"Psychic\", \"Total\": 600, \"HP\": 50, \"Attack\": 95, \"Defense\": 90, \"Sp. Atk\": 95, \"Sp. Def\": 90, \"Speed\": 180, \"Generation\": 3, \"Legendary\": true, \"Pred\": 80.58548923674174}, {\"#\": 387, \"Name\": \"Turtwig\", \"Type 1\": \"Grass\", \"Total\": 318, \"HP\": 55, \"Attack\": 68, \"Defense\": 64, \"Sp. Atk\": 45, \"Sp. Def\": 55, \"Speed\": 31, \"Generation\": 4, \"Legendary\": false, \"Pred\": 69.2058058619764}, {\"#\": 388, \"Name\": \"Grotle\", \"Type 1\": \"Grass\", \"Total\": 405, \"HP\": 75, \"Attack\": 89, \"Defense\": 85, \"Sp. Atk\": 55, \"Sp. Def\": 65, \"Speed\": 36, \"Generation\": 4, \"Legendary\": false, \"Pred\": 78.05667070901612}, {\"#\": 389, \"Name\": \"Torterra\", \"Type 1\": \"Grass\", \"Total\": 525, \"HP\": 95, \"Attack\": 109, \"Defense\": 105, \"Sp. Atk\": 75, \"Sp. Def\": 85, \"Speed\": 56, \"Generation\": 4, \"Legendary\": false, \"Pred\": 86.48606580143488}, {\"#\": 390, \"Name\": \"Chimchar\", \"Type 1\": \"Fire\", \"Total\": 309, \"HP\": 44, \"Attack\": 58, \"Defense\": 44, \"Sp. Atk\": 58, \"Sp. Def\": 44, \"Speed\": 61, \"Generation\": 4, \"Legendary\": false, \"Pred\": 64.99110831576701}, {\"#\": 391, \"Name\": \"Monferno\", \"Type 1\": \"Fire\", \"Total\": 405, \"HP\": 64, \"Attack\": 78, \"Defense\": 52, \"Sp. Atk\": 78, \"Sp. Def\": 52, \"Speed\": 81, \"Generation\": 4, \"Legendary\": false, \"Pred\": 73.4205034081858}, {\"#\": 392, \"Name\": \"Infernape\", \"Type 1\": \"Fire\", \"Total\": 534, \"HP\": 76, \"Attack\": 104, \"Defense\": 71, \"Sp. Atk\": 104, \"Sp. Def\": 71, \"Speed\": 108, \"Generation\": 4, \"Legendary\": false, \"Pred\": 84.37871702833019}, {\"#\": 393, \"Name\": \"Piplup\", \"Type 1\": \"Water\", \"Total\": 314, \"HP\": 53, \"Attack\": 51, \"Defense\": 53, \"Sp. Atk\": 61, \"Sp. Def\": 56, \"Speed\": 40, \"Generation\": 4, \"Legendary\": false, \"Pred\": 62.040820033420445}, {\"#\": 394, \"Name\": \"Prinplup\", \"Type 1\": \"Water\", \"Total\": 405, \"HP\": 64, \"Attack\": 66, \"Defense\": 68, \"Sp. Atk\": 81, \"Sp. Def\": 76, \"Speed\": 50, \"Generation\": 4, \"Legendary\": false, \"Pred\": 68.36286635273453}, {\"#\": 395, \"Name\": \"Empoleon\", \"Type 1\": \"Water\", \"Total\": 530, \"HP\": 84, \"Attack\": 86, \"Defense\": 88, \"Sp. Atk\": 111, \"Sp. Def\": 101, \"Speed\": 60, \"Generation\": 4, \"Legendary\": false, \"Pred\": 76.79226144515329}, {\"#\": 396, \"Name\": \"Starly\", \"Type 1\": \"Normal\", \"Total\": 245, \"HP\": 40, \"Attack\": 55, \"Defense\": 30, \"Sp. Atk\": 30, \"Sp. Def\": 30, \"Speed\": 60, \"Generation\": 4, \"Legendary\": false, \"Pred\": 63.7266990519042}, {\"#\": 397, \"Name\": \"Staravia\", \"Type 1\": \"Normal\", \"Total\": 340, \"HP\": 55, \"Attack\": 75, \"Defense\": 50, \"Sp. Atk\": 40, \"Sp. Def\": 40, \"Speed\": 80, \"Generation\": 4, \"Legendary\": false, \"Pred\": 72.15609414432296}, {\"#\": 398, \"Name\": \"Staraptor\", \"Type 1\": \"Normal\", \"Total\": 485, \"HP\": 85, \"Attack\": 120, \"Defense\": 70, \"Sp. Atk\": 50, \"Sp. Def\": 60, \"Speed\": 100, \"Generation\": 4, \"Legendary\": false, \"Pred\": 91.1222331022652}, {\"#\": 399, \"Name\": \"Bidoof\", \"Type 1\": \"Normal\", \"Total\": 250, \"HP\": 59, \"Attack\": 45, \"Defense\": 40, \"Sp. Atk\": 35, \"Sp. Def\": 40, \"Speed\": 31, \"Generation\": 4, \"Legendary\": false, \"Pred\": 59.51200150569481}, {\"#\": 400, \"Name\": \"Bibarel\", \"Type 1\": \"Normal\", \"Total\": 410, \"HP\": 79, \"Attack\": 85, \"Defense\": 60, \"Sp. Atk\": 55, \"Sp. Def\": 60, \"Speed\": 71, \"Generation\": 4, \"Legendary\": false, \"Pred\": 76.37079169053236}, {\"#\": 401, \"Name\": \"Kricketot\", \"Type 1\": \"Bug\", \"Total\": 194, \"HP\": 37, \"Attack\": 25, \"Defense\": 41, \"Sp. Atk\": 25, \"Sp. Def\": 41, \"Speed\": 25, \"Generation\": 4, \"Legendary\": false, \"Pred\": 51.08260641327604}, {\"#\": 402, \"Name\": \"Kricketune\", \"Type 1\": \"Bug\", \"Total\": 384, \"HP\": 77, \"Attack\": 85, \"Defense\": 51, \"Sp. Atk\": 55, \"Sp. Def\": 51, \"Speed\": 65, \"Generation\": 4, \"Legendary\": false, \"Pred\": 76.37079169053236}, {\"#\": 403, \"Name\": \"Shinx\", \"Type 1\": \"Electric\", \"Total\": 263, \"HP\": 45, \"Attack\": 65, \"Defense\": 34, \"Sp. Atk\": 40, \"Sp. Def\": 34, \"Speed\": 45, \"Generation\": 4, \"Legendary\": false, \"Pred\": 67.94139659811358}, {\"#\": 404, \"Name\": \"Luxio\", \"Type 1\": \"Electric\", \"Total\": 363, \"HP\": 60, \"Attack\": 85, \"Defense\": 49, \"Sp. Atk\": 60, \"Sp. Def\": 49, \"Speed\": 60, \"Generation\": 4, \"Legendary\": false, \"Pred\": 76.37079169053236}, {\"#\": 405, \"Name\": \"Luxray\", \"Type 1\": \"Electric\", \"Total\": 523, \"HP\": 80, \"Attack\": 120, \"Defense\": 79, \"Sp. Atk\": 95, \"Sp. Def\": 79, \"Speed\": 70, \"Generation\": 4, \"Legendary\": false, \"Pred\": 91.1222331022652}, {\"#\": 406, \"Name\": \"Budew\", \"Type 1\": \"Grass\", \"Total\": 280, \"HP\": 40, \"Attack\": 30, \"Defense\": 35, \"Sp. Atk\": 50, \"Sp. Def\": 70, \"Speed\": 55, \"Generation\": 4, \"Legendary\": false, \"Pred\": 53.189955186380736}, {\"#\": 407, \"Name\": \"Roserade\", \"Type 1\": \"Grass\", \"Total\": 515, \"HP\": 60, \"Attack\": 70, \"Defense\": 65, \"Sp. Atk\": 125, \"Sp. Def\": 105, \"Speed\": 90, \"Generation\": 4, \"Legendary\": false, \"Pred\": 70.04874537121827}, {\"#\": 408, \"Name\": \"Cranidos\", \"Type 1\": \"Rock\", \"Total\": 350, \"HP\": 67, \"Attack\": 125, \"Defense\": 40, \"Sp. Atk\": 30, \"Sp. Def\": 30, \"Speed\": 58, \"Generation\": 4, \"Legendary\": false, \"Pred\": 93.22958187536989}, {\"#\": 409, \"Name\": \"Rampardos\", \"Type 1\": \"Rock\", \"Total\": 495, \"HP\": 97, \"Attack\": 165, \"Defense\": 60, \"Sp. Atk\": 65, \"Sp. Def\": 50, \"Speed\": 58, \"Generation\": 4, \"Legendary\": false, \"Pred\": 110.08837206020743}, {\"#\": 410, \"Name\": \"Shieldon\", \"Type 1\": \"Rock\", \"Total\": 350, \"HP\": 30, \"Attack\": 42, \"Defense\": 118, \"Sp. Atk\": 42, \"Sp. Def\": 88, \"Speed\": 30, \"Generation\": 4, \"Legendary\": false, \"Pred\": 58.247592241831995}, {\"#\": 411, \"Name\": \"Bastiodon\", \"Type 1\": \"Rock\", \"Total\": 495, \"HP\": 60, \"Attack\": 52, \"Defense\": 168, \"Sp. Atk\": 47, \"Sp. Def\": 138, \"Speed\": 30, \"Generation\": 4, \"Legendary\": false, \"Pred\": 62.46228978804138}, {\"#\": 412, \"Name\": \"Burmy\", \"Type 1\": \"Bug\", \"Total\": 224, \"HP\": 40, \"Attack\": 29, \"Defense\": 45, \"Sp. Atk\": 29, \"Sp. Def\": 45, \"Speed\": 36, \"Generation\": 4, \"Legendary\": false, \"Pred\": 52.7684854317598}, {\"#\": 413, \"Name\": \"WormadamPlant Cloak\", \"Type 1\": \"Bug\", \"Total\": 424, \"HP\": 60, \"Attack\": 59, \"Defense\": 85, \"Sp. Atk\": 79, \"Sp. Def\": 105, \"Speed\": 36, \"Generation\": 4, \"Legendary\": false, \"Pred\": 65.41257807038795}, {\"#\": 413, \"Name\": \"WormadamSandy Cloak\", \"Type 1\": \"Bug\", \"Total\": 424, \"HP\": 60, \"Attack\": 79, \"Defense\": 105, \"Sp. Atk\": 59, \"Sp. Def\": 85, \"Speed\": 36, \"Generation\": 4, \"Legendary\": false, \"Pred\": 73.84197316280672}, {\"#\": 413, \"Name\": \"WormadamTrash Cloak\", \"Type 1\": \"Bug\", \"Total\": 424, \"HP\": 60, \"Attack\": 69, \"Defense\": 95, \"Sp. Atk\": 69, \"Sp. Def\": 95, \"Speed\": 36, \"Generation\": 4, \"Legendary\": false, \"Pred\": 69.62727561659733}, {\"#\": 414, \"Name\": \"Mothim\", \"Type 1\": \"Bug\", \"Total\": 424, \"HP\": 70, \"Attack\": 94, \"Defense\": 50, \"Sp. Atk\": 94, \"Sp. Def\": 50, \"Speed\": 66, \"Generation\": 4, \"Legendary\": false, \"Pred\": 80.1640194821208}, {\"#\": 415, \"Name\": \"Combee\", \"Type 1\": \"Bug\", \"Total\": 244, \"HP\": 30, \"Attack\": 30, \"Defense\": 42, \"Sp. Atk\": 30, \"Sp. Def\": 42, \"Speed\": 70, \"Generation\": 4, \"Legendary\": false, \"Pred\": 53.189955186380736}, {\"#\": 416, \"Name\": \"Vespiquen\", \"Type 1\": \"Bug\", \"Total\": 474, \"HP\": 70, \"Attack\": 80, \"Defense\": 102, \"Sp. Atk\": 80, \"Sp. Def\": 102, \"Speed\": 40, \"Generation\": 4, \"Legendary\": false, \"Pred\": 74.26344291742765}, {\"#\": 417, \"Name\": \"Pachirisu\", \"Type 1\": \"Electric\", \"Total\": 405, \"HP\": 60, \"Attack\": 45, \"Defense\": 70, \"Sp. Atk\": 45, \"Sp. Def\": 90, \"Speed\": 95, \"Generation\": 4, \"Legendary\": false, \"Pred\": 59.51200150569481}, {\"#\": 418, \"Name\": \"Buizel\", \"Type 1\": \"Water\", \"Total\": 330, \"HP\": 55, \"Attack\": 65, \"Defense\": 35, \"Sp. Atk\": 60, \"Sp. Def\": 30, \"Speed\": 85, \"Generation\": 4, \"Legendary\": false, \"Pred\": 67.94139659811358}, {\"#\": 419, \"Name\": \"Floatzel\", \"Type 1\": \"Water\", \"Total\": 495, \"HP\": 85, \"Attack\": 105, \"Defense\": 55, \"Sp. Atk\": 85, \"Sp. Def\": 50, \"Speed\": 115, \"Generation\": 4, \"Legendary\": false, \"Pred\": 84.80018678295113}, {\"#\": 420, \"Name\": \"Cherubi\", \"Type 1\": \"Grass\", \"Total\": 275, \"HP\": 45, \"Attack\": 35, \"Defense\": 45, \"Sp. Atk\": 62, \"Sp. Def\": 53, \"Speed\": 35, \"Generation\": 4, \"Legendary\": false, \"Pred\": 55.297303959485426}, {\"#\": 421, \"Name\": \"Cherrim\", \"Type 1\": \"Grass\", \"Total\": 450, \"HP\": 70, \"Attack\": 60, \"Defense\": 70, \"Sp. Atk\": 87, \"Sp. Def\": 78, \"Speed\": 85, \"Generation\": 4, \"Legendary\": false, \"Pred\": 65.8340478250089}, {\"#\": 422, \"Name\": \"Shellos\", \"Type 1\": \"Water\", \"Total\": 325, \"HP\": 76, \"Attack\": 48, \"Defense\": 48, \"Sp. Atk\": 57, \"Sp. Def\": 62, \"Speed\": 34, \"Generation\": 4, \"Legendary\": false, \"Pred\": 60.77641076955763}, {\"#\": 423, \"Name\": \"Gastrodon\", \"Type 1\": \"Water\", \"Total\": 475, \"HP\": 111, \"Attack\": 83, \"Defense\": 68, \"Sp. Atk\": 92, \"Sp. Def\": 82, \"Speed\": 39, \"Generation\": 4, \"Legendary\": false, \"Pred\": 75.52785218129048}, {\"#\": 424, \"Name\": \"Ambipom\", \"Type 1\": \"Normal\", \"Total\": 482, \"HP\": 75, \"Attack\": 100, \"Defense\": 66, \"Sp. Atk\": 60, \"Sp. Def\": 66, \"Speed\": 115, \"Generation\": 4, \"Legendary\": false, \"Pred\": 82.69283800984644}, {\"#\": 425, \"Name\": \"Drifloon\", \"Type 1\": \"Ghost\", \"Total\": 348, \"HP\": 90, \"Attack\": 50, \"Defense\": 34, \"Sp. Atk\": 60, \"Sp. Def\": 44, \"Speed\": 70, \"Generation\": 4, \"Legendary\": false, \"Pred\": 61.6193502787995}, {\"#\": 426, \"Name\": \"Drifblim\", \"Type 1\": \"Ghost\", \"Total\": 498, \"HP\": 150, \"Attack\": 80, \"Defense\": 44, \"Sp. Atk\": 90, \"Sp. Def\": 54, \"Speed\": 80, \"Generation\": 4, \"Legendary\": false, \"Pred\": 74.26344291742765}, {\"#\": 427, \"Name\": \"Buneary\", \"Type 1\": \"Normal\", \"Total\": 350, \"HP\": 55, \"Attack\": 66, \"Defense\": 44, \"Sp. Atk\": 44, \"Sp. Def\": 56, \"Speed\": 85, \"Generation\": 4, \"Legendary\": false, \"Pred\": 68.36286635273453}, {\"#\": 428, \"Name\": \"Lopunny\", \"Type 1\": \"Normal\", \"Total\": 480, \"HP\": 65, \"Attack\": 76, \"Defense\": 84, \"Sp. Atk\": 54, \"Sp. Def\": 96, \"Speed\": 105, \"Generation\": 4, \"Legendary\": false, \"Pred\": 72.57756389894391}, {\"#\": 428, \"Name\": \"LopunnyMega Lopunny\", \"Type 1\": \"Normal\", \"Total\": 580, \"HP\": 65, \"Attack\": 136, \"Defense\": 94, \"Sp. Atk\": 54, \"Sp. Def\": 96, \"Speed\": 135, \"Generation\": 4, \"Legendary\": false, \"Pred\": 97.86574917620021}, {\"#\": 429, \"Name\": \"Mismagius\", \"Type 1\": \"Ghost\", \"Total\": 495, \"HP\": 60, \"Attack\": 60, \"Defense\": 60, \"Sp. Atk\": 105, \"Sp. Def\": 105, \"Speed\": 105, \"Generation\": 4, \"Legendary\": false, \"Pred\": 65.8340478250089}, {\"#\": 430, \"Name\": \"Honchkrow\", \"Type 1\": \"Dark\", \"Total\": 505, \"HP\": 100, \"Attack\": 125, \"Defense\": 52, \"Sp. Atk\": 105, \"Sp. Def\": 52, \"Speed\": 71, \"Generation\": 4, \"Legendary\": false, \"Pred\": 93.22958187536989}, {\"#\": 431, \"Name\": \"Glameow\", \"Type 1\": \"Normal\", \"Total\": 310, \"HP\": 49, \"Attack\": 55, \"Defense\": 42, \"Sp. Atk\": 42, \"Sp. Def\": 37, \"Speed\": 85, \"Generation\": 4, \"Legendary\": false, \"Pred\": 63.7266990519042}, {\"#\": 432, \"Name\": \"Purugly\", \"Type 1\": \"Normal\", \"Total\": 452, \"HP\": 71, \"Attack\": 82, \"Defense\": 64, \"Sp. Atk\": 64, \"Sp. Def\": 59, \"Speed\": 112, \"Generation\": 4, \"Legendary\": false, \"Pred\": 75.10638242666954}, {\"#\": 433, \"Name\": \"Chingling\", \"Type 1\": \"Psychic\", \"Total\": 285, \"HP\": 45, \"Attack\": 30, \"Defense\": 50, \"Sp. Atk\": 65, \"Sp. Def\": 50, \"Speed\": 45, \"Generation\": 4, \"Legendary\": false, \"Pred\": 53.189955186380736}, {\"#\": 434, \"Name\": \"Stunky\", \"Type 1\": \"Poison\", \"Total\": 329, \"HP\": 63, \"Attack\": 63, \"Defense\": 47, \"Sp. Atk\": 41, \"Sp. Def\": 41, \"Speed\": 74, \"Generation\": 4, \"Legendary\": false, \"Pred\": 67.0984570888717}, {\"#\": 435, \"Name\": \"Skuntank\", \"Type 1\": \"Poison\", \"Total\": 479, \"HP\": 103, \"Attack\": 93, \"Defense\": 67, \"Sp. Atk\": 71, \"Sp. Def\": 61, \"Speed\": 84, \"Generation\": 4, \"Legendary\": false, \"Pred\": 79.74254972749986}, {\"#\": 436, \"Name\": \"Bronzor\", \"Type 1\": \"Steel\", \"Total\": 300, \"HP\": 57, \"Attack\": 24, \"Defense\": 86, \"Sp. Atk\": 24, \"Sp. Def\": 86, \"Speed\": 23, \"Generation\": 4, \"Legendary\": false, \"Pred\": 50.6611366586551}, {\"#\": 437, \"Name\": \"Bronzong\", \"Type 1\": \"Steel\", \"Total\": 500, \"HP\": 67, \"Attack\": 89, \"Defense\": 116, \"Sp. Atk\": 79, \"Sp. Def\": 116, \"Speed\": 33, \"Generation\": 4, \"Legendary\": false, \"Pred\": 78.05667070901612}, {\"#\": 438, \"Name\": \"Bonsly\", \"Type 1\": \"Rock\", \"Total\": 290, \"HP\": 50, \"Attack\": 80, \"Defense\": 95, \"Sp. Atk\": 10, \"Sp. Def\": 45, \"Speed\": 10, \"Generation\": 4, \"Legendary\": false, \"Pred\": 74.26344291742765}, {\"#\": 439, \"Name\": \"Mime Jr.\", \"Type 1\": \"Psychic\", \"Total\": 310, \"HP\": 20, \"Attack\": 25, \"Defense\": 45, \"Sp. Atk\": 70, \"Sp. Def\": 90, \"Speed\": 60, \"Generation\": 4, \"Legendary\": false, \"Pred\": 51.08260641327604}, {\"#\": 440, \"Name\": \"Happiny\", \"Type 1\": \"Normal\", \"Total\": 220, \"HP\": 100, \"Attack\": 5, \"Defense\": 5, \"Sp. Atk\": 15, \"Sp. Def\": 65, \"Speed\": 30, \"Generation\": 4, \"Legendary\": false, \"Pred\": 42.65321132085727}, {\"#\": 441, \"Name\": \"Chatot\", \"Type 1\": \"Normal\", \"Total\": 411, \"HP\": 76, \"Attack\": 65, \"Defense\": 45, \"Sp. Atk\": 92, \"Sp. Def\": 42, \"Speed\": 91, \"Generation\": 4, \"Legendary\": false, \"Pred\": 67.94139659811358}, {\"#\": 442, \"Name\": \"Spiritomb\", \"Type 1\": \"Ghost\", \"Total\": 485, \"HP\": 50, \"Attack\": 92, \"Defense\": 108, \"Sp. Atk\": 92, \"Sp. Def\": 108, \"Speed\": 35, \"Generation\": 4, \"Legendary\": false, \"Pred\": 79.32107997287892}, {\"#\": 443, \"Name\": \"Gible\", \"Type 1\": \"Dragon\", \"Total\": 300, \"HP\": 58, \"Attack\": 70, \"Defense\": 45, \"Sp. Atk\": 40, \"Sp. Def\": 45, \"Speed\": 42, \"Generation\": 4, \"Legendary\": false, \"Pred\": 70.04874537121827}, {\"#\": 444, \"Name\": \"Gabite\", \"Type 1\": \"Dragon\", \"Total\": 410, \"HP\": 68, \"Attack\": 90, \"Defense\": 65, \"Sp. Atk\": 50, \"Sp. Def\": 55, \"Speed\": 82, \"Generation\": 4, \"Legendary\": false, \"Pred\": 78.47814046363705}, {\"#\": 445, \"Name\": \"Garchomp\", \"Type 1\": \"Dragon\", \"Total\": 600, \"HP\": 108, \"Attack\": 130, \"Defense\": 95, \"Sp. Atk\": 80, \"Sp. Def\": 85, \"Speed\": 102, \"Generation\": 4, \"Legendary\": false, \"Pred\": 95.33693064847459}, {\"#\": 445, \"Name\": \"GarchompMega Garchomp\", \"Type 1\": \"Dragon\", \"Total\": 700, \"HP\": 108, \"Attack\": 170, \"Defense\": 115, \"Sp. Atk\": 120, \"Sp. Def\": 95, \"Speed\": 92, \"Generation\": 4, \"Legendary\": false, \"Pred\": 112.19572083331214}, {\"#\": 446, \"Name\": \"Munchlax\", \"Type 1\": \"Normal\", \"Total\": 390, \"HP\": 135, \"Attack\": 85, \"Defense\": 40, \"Sp. Atk\": 40, \"Sp. Def\": 85, \"Speed\": 5, \"Generation\": 4, \"Legendary\": false, \"Pred\": 76.37079169053236}, {\"#\": 447, \"Name\": \"Riolu\", \"Type 1\": \"Fighting\", \"Total\": 285, \"HP\": 40, \"Attack\": 70, \"Defense\": 40, \"Sp. Atk\": 35, \"Sp. Def\": 40, \"Speed\": 60, \"Generation\": 4, \"Legendary\": false, \"Pred\": 70.04874537121827}, {\"#\": 448, \"Name\": \"Lucario\", \"Type 1\": \"Fighting\", \"Total\": 525, \"HP\": 70, \"Attack\": 110, \"Defense\": 70, \"Sp. Atk\": 115, \"Sp. Def\": 70, \"Speed\": 90, \"Generation\": 4, \"Legendary\": false, \"Pred\": 86.90753555605582}, {\"#\": 448, \"Name\": \"LucarioMega Lucario\", \"Type 1\": \"Fighting\", \"Total\": 625, \"HP\": 70, \"Attack\": 145, \"Defense\": 88, \"Sp. Atk\": 140, \"Sp. Def\": 70, \"Speed\": 112, \"Generation\": 4, \"Legendary\": false, \"Pred\": 101.65897696778867}, {\"#\": 449, \"Name\": \"Hippopotas\", \"Type 1\": \"Ground\", \"Total\": 330, \"HP\": 68, \"Attack\": 72, \"Defense\": 78, \"Sp. Atk\": 38, \"Sp. Def\": 42, \"Speed\": 32, \"Generation\": 4, \"Legendary\": false, \"Pred\": 70.89168488046016}, {\"#\": 450, \"Name\": \"Hippowdon\", \"Type 1\": \"Ground\", \"Total\": 525, \"HP\": 108, \"Attack\": 112, \"Defense\": 118, \"Sp. Atk\": 68, \"Sp. Def\": 72, \"Speed\": 47, \"Generation\": 4, \"Legendary\": false, \"Pred\": 87.75047506529769}, {\"#\": 451, \"Name\": \"Skorupi\", \"Type 1\": \"Poison\", \"Total\": 330, \"HP\": 40, \"Attack\": 50, \"Defense\": 90, \"Sp. Atk\": 30, \"Sp. Def\": 55, \"Speed\": 65, \"Generation\": 4, \"Legendary\": false, \"Pred\": 61.6193502787995}, {\"#\": 452, \"Name\": \"Drapion\", \"Type 1\": \"Poison\", \"Total\": 500, \"HP\": 70, \"Attack\": 90, \"Defense\": 110, \"Sp. Atk\": 60, \"Sp. Def\": 75, \"Speed\": 95, \"Generation\": 4, \"Legendary\": false, \"Pred\": 78.47814046363705}, {\"#\": 453, \"Name\": \"Croagunk\", \"Type 1\": \"Poison\", \"Total\": 300, \"HP\": 48, \"Attack\": 61, \"Defense\": 40, \"Sp. Atk\": 61, \"Sp. Def\": 40, \"Speed\": 50, \"Generation\": 4, \"Legendary\": false, \"Pred\": 66.25551757962982}, {\"#\": 454, \"Name\": \"Toxicroak\", \"Type 1\": \"Poison\", \"Total\": 490, \"HP\": 83, \"Attack\": 106, \"Defense\": 65, \"Sp. Atk\": 86, \"Sp. Def\": 65, \"Speed\": 85, \"Generation\": 4, \"Legendary\": false, \"Pred\": 85.22165653757207}, {\"#\": 455, \"Name\": \"Carnivine\", \"Type 1\": \"Grass\", \"Total\": 454, \"HP\": 74, \"Attack\": 100, \"Defense\": 72, \"Sp. Atk\": 90, \"Sp. Def\": 72, \"Speed\": 46, \"Generation\": 4, \"Legendary\": false, \"Pred\": 82.69283800984644}, {\"#\": 456, \"Name\": \"Finneon\", \"Type 1\": \"Water\", \"Total\": 330, \"HP\": 49, \"Attack\": 49, \"Defense\": 56, \"Sp. Atk\": 49, \"Sp. Def\": 61, \"Speed\": 66, \"Generation\": 4, \"Legendary\": false, \"Pred\": 61.197880524178565}, {\"#\": 457, \"Name\": \"Lumineon\", \"Type 1\": \"Water\", \"Total\": 460, \"HP\": 69, \"Attack\": 69, \"Defense\": 76, \"Sp. Atk\": 69, \"Sp. Def\": 86, \"Speed\": 91, \"Generation\": 4, \"Legendary\": false, \"Pred\": 69.62727561659733}, {\"#\": 458, \"Name\": \"Mantyke\", \"Type 1\": \"Water\", \"Total\": 345, \"HP\": 45, \"Attack\": 20, \"Defense\": 50, \"Sp. Atk\": 60, \"Sp. Def\": 120, \"Speed\": 50, \"Generation\": 4, \"Legendary\": false, \"Pred\": 48.97525764017135}, {\"#\": 459, \"Name\": \"Snover\", \"Type 1\": \"Grass\", \"Total\": 334, \"HP\": 60, \"Attack\": 62, \"Defense\": 50, \"Sp. Atk\": 62, \"Sp. Def\": 60, \"Speed\": 40, \"Generation\": 4, \"Legendary\": false, \"Pred\": 66.67698733425077}, {\"#\": 460, \"Name\": \"Abomasnow\", \"Type 1\": \"Grass\", \"Total\": 494, \"HP\": 90, \"Attack\": 92, \"Defense\": 75, \"Sp. Atk\": 92, \"Sp. Def\": 85, \"Speed\": 60, \"Generation\": 4, \"Legendary\": false, \"Pred\": 79.32107997287892}, {\"#\": 460, \"Name\": \"AbomasnowMega Abomasnow\", \"Type 1\": \"Grass\", \"Total\": 594, \"HP\": 90, \"Attack\": 132, \"Defense\": 105, \"Sp. Atk\": 132, \"Sp. Def\": 105, \"Speed\": 30, \"Generation\": 4, \"Legendary\": false, \"Pred\": 96.17987015771646}, {\"#\": 461, \"Name\": \"Weavile\", \"Type 1\": \"Dark\", \"Total\": 510, \"HP\": 70, \"Attack\": 120, \"Defense\": 65, \"Sp. Atk\": 45, \"Sp. Def\": 85, \"Speed\": 125, \"Generation\": 4, \"Legendary\": false, \"Pred\": 91.1222331022652}, {\"#\": 462, \"Name\": \"Magnezone\", \"Type 1\": \"Electric\", \"Total\": 535, \"HP\": 70, \"Attack\": 70, \"Defense\": 115, \"Sp. Atk\": 130, \"Sp. Def\": 90, \"Speed\": 60, \"Generation\": 4, \"Legendary\": false, \"Pred\": 70.04874537121827}, {\"#\": 463, \"Name\": \"Lickilicky\", \"Type 1\": \"Normal\", \"Total\": 515, \"HP\": 110, \"Attack\": 85, \"Defense\": 95, \"Sp. Atk\": 80, \"Sp. Def\": 95, \"Speed\": 50, \"Generation\": 4, \"Legendary\": false, \"Pred\": 76.37079169053236}, {\"#\": 464, \"Name\": \"Rhyperior\", \"Type 1\": \"Ground\", \"Total\": 535, \"HP\": 115, \"Attack\": 140, \"Defense\": 130, \"Sp. Atk\": 55, \"Sp. Def\": 55, \"Speed\": 40, \"Generation\": 4, \"Legendary\": false, \"Pred\": 99.55162819468397}, {\"#\": 465, \"Name\": \"Tangrowth\", \"Type 1\": \"Grass\", \"Total\": 535, \"HP\": 100, \"Attack\": 100, \"Defense\": 125, \"Sp. Atk\": 110, \"Sp. Def\": 50, \"Speed\": 50, \"Generation\": 4, \"Legendary\": false, \"Pred\": 82.69283800984644}, {\"#\": 466, \"Name\": \"Electivire\", \"Type 1\": \"Electric\", \"Total\": 540, \"HP\": 75, \"Attack\": 123, \"Defense\": 67, \"Sp. Atk\": 95, \"Sp. Def\": 85, \"Speed\": 95, \"Generation\": 4, \"Legendary\": false, \"Pred\": 92.38664236612803}, {\"#\": 467, \"Name\": \"Magmortar\", \"Type 1\": \"Fire\", \"Total\": 540, \"HP\": 75, \"Attack\": 95, \"Defense\": 67, \"Sp. Atk\": 125, \"Sp. Def\": 95, \"Speed\": 83, \"Generation\": 4, \"Legendary\": false, \"Pred\": 80.58548923674174}, {\"#\": 468, \"Name\": \"Togekiss\", \"Type 1\": \"Fairy\", \"Total\": 545, \"HP\": 85, \"Attack\": 50, \"Defense\": 95, \"Sp. Atk\": 120, \"Sp. Def\": 115, \"Speed\": 80, \"Generation\": 4, \"Legendary\": false, \"Pred\": 61.6193502787995}, {\"#\": 469, \"Name\": \"Yanmega\", \"Type 1\": \"Bug\", \"Total\": 515, \"HP\": 86, \"Attack\": 76, \"Defense\": 86, \"Sp. Atk\": 116, \"Sp. Def\": 56, \"Speed\": 95, \"Generation\": 4, \"Legendary\": false, \"Pred\": 72.57756389894391}, {\"#\": 470, \"Name\": \"Leafeon\", \"Type 1\": \"Grass\", \"Total\": 525, \"HP\": 65, \"Attack\": 110, \"Defense\": 130, \"Sp. Atk\": 60, \"Sp. Def\": 65, \"Speed\": 95, \"Generation\": 4, \"Legendary\": false, \"Pred\": 86.90753555605582}, {\"#\": 471, \"Name\": \"Glaceon\", \"Type 1\": \"Ice\", \"Total\": 525, \"HP\": 65, \"Attack\": 60, \"Defense\": 110, \"Sp. Atk\": 130, \"Sp. Def\": 95, \"Speed\": 65, \"Generation\": 4, \"Legendary\": false, \"Pred\": 65.8340478250089}, {\"#\": 472, \"Name\": \"Gliscor\", \"Type 1\": \"Ground\", \"Total\": 510, \"HP\": 75, \"Attack\": 95, \"Defense\": 125, \"Sp. Atk\": 45, \"Sp. Def\": 75, \"Speed\": 95, \"Generation\": 4, \"Legendary\": false, \"Pred\": 80.58548923674174}, {\"#\": 473, \"Name\": \"Mamoswine\", \"Type 1\": \"Ice\", \"Total\": 530, \"HP\": 110, \"Attack\": 130, \"Defense\": 80, \"Sp. Atk\": 70, \"Sp. Def\": 60, \"Speed\": 80, \"Generation\": 4, \"Legendary\": false, \"Pred\": 95.33693064847459}, {\"#\": 474, \"Name\": \"Porygon-Z\", \"Type 1\": \"Normal\", \"Total\": 535, \"HP\": 85, \"Attack\": 80, \"Defense\": 70, \"Sp. Atk\": 135, \"Sp. Def\": 75, \"Speed\": 90, \"Generation\": 4, \"Legendary\": false, \"Pred\": 74.26344291742765}, {\"#\": 475, \"Name\": \"Gallade\", \"Type 1\": \"Psychic\", \"Total\": 518, \"HP\": 68, \"Attack\": 125, \"Defense\": 65, \"Sp. Atk\": 65, \"Sp. Def\": 115, \"Speed\": 80, \"Generation\": 4, \"Legendary\": false, \"Pred\": 93.22958187536989}, {\"#\": 475, \"Name\": \"GalladeMega Gallade\", \"Type 1\": \"Psychic\", \"Total\": 618, \"HP\": 68, \"Attack\": 165, \"Defense\": 95, \"Sp. Atk\": 65, \"Sp. Def\": 115, \"Speed\": 110, \"Generation\": 4, \"Legendary\": false, \"Pred\": 110.08837206020743}, {\"#\": 476, \"Name\": \"Probopass\", \"Type 1\": \"Rock\", \"Total\": 525, \"HP\": 60, \"Attack\": 55, \"Defense\": 145, \"Sp. Atk\": 75, \"Sp. Def\": 150, \"Speed\": 40, \"Generation\": 4, \"Legendary\": false, \"Pred\": 63.7266990519042}, {\"#\": 477, \"Name\": \"Dusknoir\", \"Type 1\": \"Ghost\", \"Total\": 525, \"HP\": 45, \"Attack\": 100, \"Defense\": 135, \"Sp. Atk\": 65, \"Sp. Def\": 135, \"Speed\": 45, \"Generation\": 4, \"Legendary\": false, \"Pred\": 82.69283800984644}, {\"#\": 478, \"Name\": \"Froslass\", \"Type 1\": \"Ice\", \"Total\": 480, \"HP\": 70, \"Attack\": 80, \"Defense\": 70, \"Sp. Atk\": 80, \"Sp. Def\": 70, \"Speed\": 110, \"Generation\": 4, \"Legendary\": false, \"Pred\": 74.26344291742765}, {\"#\": 479, \"Name\": \"Rotom\", \"Type 1\": \"Electric\", \"Total\": 440, \"HP\": 50, \"Attack\": 50, \"Defense\": 77, \"Sp. Atk\": 95, \"Sp. Def\": 77, \"Speed\": 91, \"Generation\": 4, \"Legendary\": false, \"Pred\": 61.6193502787995}, {\"#\": 479, \"Name\": \"RotomHeat Rotom\", \"Type 1\": \"Electric\", \"Total\": 520, \"HP\": 50, \"Attack\": 65, \"Defense\": 107, \"Sp. Atk\": 105, \"Sp. Def\": 107, \"Speed\": 86, \"Generation\": 4, \"Legendary\": false, \"Pred\": 67.94139659811358}, {\"#\": 479, \"Name\": \"RotomWash Rotom\", \"Type 1\": \"Electric\", \"Total\": 520, \"HP\": 50, \"Attack\": 65, \"Defense\": 107, \"Sp. Atk\": 105, \"Sp. Def\": 107, \"Speed\": 86, \"Generation\": 4, \"Legendary\": false, \"Pred\": 67.94139659811358}, {\"#\": 479, \"Name\": \"RotomFrost Rotom\", \"Type 1\": \"Electric\", \"Total\": 520, \"HP\": 50, \"Attack\": 65, \"Defense\": 107, \"Sp. Atk\": 105, \"Sp. Def\": 107, \"Speed\": 86, \"Generation\": 4, \"Legendary\": false, \"Pred\": 67.94139659811358}, {\"#\": 479, \"Name\": \"RotomFan Rotom\", \"Type 1\": \"Electric\", \"Total\": 520, \"HP\": 50, \"Attack\": 65, \"Defense\": 107, \"Sp. Atk\": 105, \"Sp. Def\": 107, \"Speed\": 86, \"Generation\": 4, \"Legendary\": false, \"Pred\": 67.94139659811358}, {\"#\": 479, \"Name\": \"RotomMow Rotom\", \"Type 1\": \"Electric\", \"Total\": 520, \"HP\": 50, \"Attack\": 65, \"Defense\": 107, \"Sp. Atk\": 105, \"Sp. Def\": 107, \"Speed\": 86, \"Generation\": 4, \"Legendary\": false, \"Pred\": 67.94139659811358}, {\"#\": 480, \"Name\": \"Uxie\", \"Type 1\": \"Psychic\", \"Total\": 580, \"HP\": 75, \"Attack\": 75, \"Defense\": 130, \"Sp. Atk\": 75, \"Sp. Def\": 130, \"Speed\": 95, \"Generation\": 4, \"Legendary\": true, \"Pred\": 72.15609414432296}, {\"#\": 481, \"Name\": \"Mesprit\", \"Type 1\": \"Psychic\", \"Total\": 580, \"HP\": 80, \"Attack\": 105, \"Defense\": 105, \"Sp. Atk\": 105, \"Sp. Def\": 105, \"Speed\": 80, \"Generation\": 4, \"Legendary\": true, \"Pred\": 84.80018678295113}, {\"#\": 482, \"Name\": \"Azelf\", \"Type 1\": \"Psychic\", \"Total\": 580, \"HP\": 75, \"Attack\": 125, \"Defense\": 70, \"Sp. Atk\": 125, \"Sp. Def\": 70, \"Speed\": 115, \"Generation\": 4, \"Legendary\": true, \"Pred\": 93.22958187536989}, {\"#\": 483, \"Name\": \"Dialga\", \"Type 1\": \"Steel\", \"Total\": 680, \"HP\": 100, \"Attack\": 120, \"Defense\": 120, \"Sp. Atk\": 150, \"Sp. Def\": 100, \"Speed\": 90, \"Generation\": 4, \"Legendary\": true, \"Pred\": 91.1222331022652}, {\"#\": 484, \"Name\": \"Palkia\", \"Type 1\": \"Water\", \"Total\": 680, \"HP\": 90, \"Attack\": 120, \"Defense\": 100, \"Sp. Atk\": 150, \"Sp. Def\": 120, \"Speed\": 100, \"Generation\": 4, \"Legendary\": true, \"Pred\": 91.1222331022652}, {\"#\": 485, \"Name\": \"Heatran\", \"Type 1\": \"Fire\", \"Total\": 600, \"HP\": 91, \"Attack\": 90, \"Defense\": 106, \"Sp. Atk\": 130, \"Sp. Def\": 106, \"Speed\": 77, \"Generation\": 4, \"Legendary\": true, \"Pred\": 78.47814046363705}, {\"#\": 486, \"Name\": \"Regigigas\", \"Type 1\": \"Normal\", \"Total\": 670, \"HP\": 110, \"Attack\": 160, \"Defense\": 110, \"Sp. Atk\": 80, \"Sp. Def\": 110, \"Speed\": 100, \"Generation\": 4, \"Legendary\": true, \"Pred\": 107.98102328710274}, {\"#\": 487, \"Name\": \"GiratinaAltered Forme\", \"Type 1\": \"Ghost\", \"Total\": 680, \"HP\": 150, \"Attack\": 100, \"Defense\": 120, \"Sp. Atk\": 100, \"Sp. Def\": 120, \"Speed\": 90, \"Generation\": 4, \"Legendary\": true, \"Pred\": 82.69283800984644}, {\"#\": 487, \"Name\": \"GiratinaOrigin Forme\", \"Type 1\": \"Ghost\", \"Total\": 680, \"HP\": 150, \"Attack\": 120, \"Defense\": 100, \"Sp. Atk\": 120, \"Sp. Def\": 100, \"Speed\": 90, \"Generation\": 4, \"Legendary\": true, \"Pred\": 91.1222331022652}, {\"#\": 488, \"Name\": \"Cresselia\", \"Type 1\": \"Psychic\", \"Total\": 600, \"HP\": 120, \"Attack\": 70, \"Defense\": 120, \"Sp. Atk\": 75, \"Sp. Def\": 130, \"Speed\": 85, \"Generation\": 4, \"Legendary\": false, \"Pred\": 70.04874537121827}, {\"#\": 489, \"Name\": \"Phione\", \"Type 1\": \"Water\", \"Total\": 480, \"HP\": 80, \"Attack\": 80, \"Defense\": 80, \"Sp. Atk\": 80, \"Sp. Def\": 80, \"Speed\": 80, \"Generation\": 4, \"Legendary\": false, \"Pred\": 74.26344291742765}, {\"#\": 490, \"Name\": \"Manaphy\", \"Type 1\": \"Water\", \"Total\": 600, \"HP\": 100, \"Attack\": 100, \"Defense\": 100, \"Sp. Atk\": 100, \"Sp. Def\": 100, \"Speed\": 100, \"Generation\": 4, \"Legendary\": false, \"Pred\": 82.69283800984644}, {\"#\": 491, \"Name\": \"Darkrai\", \"Type 1\": \"Dark\", \"Total\": 600, \"HP\": 70, \"Attack\": 90, \"Defense\": 90, \"Sp. Atk\": 135, \"Sp. Def\": 90, \"Speed\": 125, \"Generation\": 4, \"Legendary\": true, \"Pred\": 78.47814046363705}, {\"#\": 492, \"Name\": \"ShayminLand Forme\", \"Type 1\": \"Grass\", \"Total\": 600, \"HP\": 100, \"Attack\": 100, \"Defense\": 100, \"Sp. Atk\": 100, \"Sp. Def\": 100, \"Speed\": 100, \"Generation\": 4, \"Legendary\": true, \"Pred\": 82.69283800984644}, {\"#\": 492, \"Name\": \"ShayminSky Forme\", \"Type 1\": \"Grass\", \"Total\": 600, \"HP\": 100, \"Attack\": 103, \"Defense\": 75, \"Sp. Atk\": 120, \"Sp. Def\": 75, \"Speed\": 127, \"Generation\": 4, \"Legendary\": true, \"Pred\": 83.95724727370924}, {\"#\": 493, \"Name\": \"Arceus\", \"Type 1\": \"Normal\", \"Total\": 720, \"HP\": 120, \"Attack\": 120, \"Defense\": 120, \"Sp. Atk\": 120, \"Sp. Def\": 120, \"Speed\": 120, \"Generation\": 4, \"Legendary\": true, \"Pred\": 91.1222331022652}, {\"#\": 494, \"Name\": \"Victini\", \"Type 1\": \"Psychic\", \"Total\": 600, \"HP\": 100, \"Attack\": 100, \"Defense\": 100, \"Sp. Atk\": 100, \"Sp. Def\": 100, \"Speed\": 100, \"Generation\": 5, \"Legendary\": true, \"Pred\": 82.69283800984644}, {\"#\": 495, \"Name\": \"Snivy\", \"Type 1\": \"Grass\", \"Total\": 308, \"HP\": 45, \"Attack\": 45, \"Defense\": 55, \"Sp. Atk\": 45, \"Sp. Def\": 55, \"Speed\": 63, \"Generation\": 5, \"Legendary\": false, \"Pred\": 59.51200150569481}, {\"#\": 496, \"Name\": \"Servine\", \"Type 1\": \"Grass\", \"Total\": 413, \"HP\": 60, \"Attack\": 60, \"Defense\": 75, \"Sp. Atk\": 60, \"Sp. Def\": 75, \"Speed\": 83, \"Generation\": 5, \"Legendary\": false, \"Pred\": 65.8340478250089}, {\"#\": 497, \"Name\": \"Serperior\", \"Type 1\": \"Grass\", \"Total\": 528, \"HP\": 75, \"Attack\": 75, \"Defense\": 95, \"Sp. Atk\": 75, \"Sp. Def\": 95, \"Speed\": 113, \"Generation\": 5, \"Legendary\": false, \"Pred\": 72.15609414432296}, {\"#\": 498, \"Name\": \"Tepig\", \"Type 1\": \"Fire\", \"Total\": 308, \"HP\": 65, \"Attack\": 63, \"Defense\": 45, \"Sp. Atk\": 45, \"Sp. Def\": 45, \"Speed\": 45, \"Generation\": 5, \"Legendary\": false, \"Pred\": 67.0984570888717}, {\"#\": 499, \"Name\": \"Pignite\", \"Type 1\": \"Fire\", \"Total\": 418, \"HP\": 90, \"Attack\": 93, \"Defense\": 55, \"Sp. Atk\": 70, \"Sp. Def\": 55, \"Speed\": 55, \"Generation\": 5, \"Legendary\": false, \"Pred\": 79.74254972749986}, {\"#\": 500, \"Name\": \"Emboar\", \"Type 1\": \"Fire\", \"Total\": 528, \"HP\": 110, \"Attack\": 123, \"Defense\": 65, \"Sp. Atk\": 100, \"Sp. Def\": 65, \"Speed\": 65, \"Generation\": 5, \"Legendary\": false, \"Pred\": 92.38664236612803}, {\"#\": 501, \"Name\": \"Oshawott\", \"Type 1\": \"Water\", \"Total\": 308, \"HP\": 55, \"Attack\": 55, \"Defense\": 45, \"Sp. Atk\": 63, \"Sp. Def\": 45, \"Speed\": 45, \"Generation\": 5, \"Legendary\": false, \"Pred\": 63.7266990519042}, {\"#\": 502, \"Name\": \"Dewott\", \"Type 1\": \"Water\", \"Total\": 413, \"HP\": 75, \"Attack\": 75, \"Defense\": 60, \"Sp. Atk\": 83, \"Sp. Def\": 60, \"Speed\": 60, \"Generation\": 5, \"Legendary\": false, \"Pred\": 72.15609414432296}, {\"#\": 503, \"Name\": \"Samurott\", \"Type 1\": \"Water\", \"Total\": 528, \"HP\": 95, \"Attack\": 100, \"Defense\": 85, \"Sp. Atk\": 108, \"Sp. Def\": 70, \"Speed\": 70, \"Generation\": 5, \"Legendary\": false, \"Pred\": 82.69283800984644}, {\"#\": 504, \"Name\": \"Patrat\", \"Type 1\": \"Normal\", \"Total\": 255, \"HP\": 45, \"Attack\": 55, \"Defense\": 39, \"Sp. Atk\": 35, \"Sp. Def\": 39, \"Speed\": 42, \"Generation\": 5, \"Legendary\": false, \"Pred\": 63.7266990519042}, {\"#\": 505, \"Name\": \"Watchog\", \"Type 1\": \"Normal\", \"Total\": 420, \"HP\": 60, \"Attack\": 85, \"Defense\": 69, \"Sp. Atk\": 60, \"Sp. Def\": 69, \"Speed\": 77, \"Generation\": 5, \"Legendary\": false, \"Pred\": 76.37079169053236}, {\"#\": 506, \"Name\": \"Lillipup\", \"Type 1\": \"Normal\", \"Total\": 275, \"HP\": 45, \"Attack\": 60, \"Defense\": 45, \"Sp. Atk\": 25, \"Sp. Def\": 45, \"Speed\": 55, \"Generation\": 5, \"Legendary\": false, \"Pred\": 65.8340478250089}, {\"#\": 507, \"Name\": \"Herdier\", \"Type 1\": \"Normal\", \"Total\": 370, \"HP\": 65, \"Attack\": 80, \"Defense\": 65, \"Sp. Atk\": 35, \"Sp. Def\": 65, \"Speed\": 60, \"Generation\": 5, \"Legendary\": false, \"Pred\": 74.26344291742765}, {\"#\": 508, \"Name\": \"Stoutland\", \"Type 1\": \"Normal\", \"Total\": 500, \"HP\": 85, \"Attack\": 110, \"Defense\": 90, \"Sp. Atk\": 45, \"Sp. Def\": 90, \"Speed\": 80, \"Generation\": 5, \"Legendary\": false, \"Pred\": 86.90753555605582}, {\"#\": 509, \"Name\": \"Purrloin\", \"Type 1\": \"Dark\", \"Total\": 281, \"HP\": 41, \"Attack\": 50, \"Defense\": 37, \"Sp. Atk\": 50, \"Sp. Def\": 37, \"Speed\": 66, \"Generation\": 5, \"Legendary\": false, \"Pred\": 61.6193502787995}, {\"#\": 510, \"Name\": \"Liepard\", \"Type 1\": \"Dark\", \"Total\": 446, \"HP\": 64, \"Attack\": 88, \"Defense\": 50, \"Sp. Atk\": 88, \"Sp. Def\": 50, \"Speed\": 106, \"Generation\": 5, \"Legendary\": false, \"Pred\": 77.63520095439517}, {\"#\": 511, \"Name\": \"Pansage\", \"Type 1\": \"Grass\", \"Total\": 316, \"HP\": 50, \"Attack\": 53, \"Defense\": 48, \"Sp. Atk\": 53, \"Sp. Def\": 48, \"Speed\": 64, \"Generation\": 5, \"Legendary\": false, \"Pred\": 62.88375954266232}, {\"#\": 512, \"Name\": \"Simisage\", \"Type 1\": \"Grass\", \"Total\": 498, \"HP\": 75, \"Attack\": 98, \"Defense\": 63, \"Sp. Atk\": 98, \"Sp. Def\": 63, \"Speed\": 101, \"Generation\": 5, \"Legendary\": false, \"Pred\": 81.84989850060455}, {\"#\": 513, \"Name\": \"Pansear\", \"Type 1\": \"Fire\", \"Total\": 316, \"HP\": 50, \"Attack\": 53, \"Defense\": 48, \"Sp. Atk\": 53, \"Sp. Def\": 48, \"Speed\": 64, \"Generation\": 5, \"Legendary\": false, \"Pred\": 62.88375954266232}, {\"#\": 514, \"Name\": \"Simisear\", \"Type 1\": \"Fire\", \"Total\": 498, \"HP\": 75, \"Attack\": 98, \"Defense\": 63, \"Sp. Atk\": 98, \"Sp. Def\": 63, \"Speed\": 101, \"Generation\": 5, \"Legendary\": false, \"Pred\": 81.84989850060455}, {\"#\": 515, \"Name\": \"Panpour\", \"Type 1\": \"Water\", \"Total\": 316, \"HP\": 50, \"Attack\": 53, \"Defense\": 48, \"Sp. Atk\": 53, \"Sp. Def\": 48, \"Speed\": 64, \"Generation\": 5, \"Legendary\": false, \"Pred\": 62.88375954266232}, {\"#\": 516, \"Name\": \"Simipour\", \"Type 1\": \"Water\", \"Total\": 498, \"HP\": 75, \"Attack\": 98, \"Defense\": 63, \"Sp. Atk\": 98, \"Sp. Def\": 63, \"Speed\": 101, \"Generation\": 5, \"Legendary\": false, \"Pred\": 81.84989850060455}, {\"#\": 517, \"Name\": \"Munna\", \"Type 1\": \"Psychic\", \"Total\": 292, \"HP\": 76, \"Attack\": 25, \"Defense\": 45, \"Sp. Atk\": 67, \"Sp. Def\": 55, \"Speed\": 24, \"Generation\": 5, \"Legendary\": false, \"Pred\": 51.08260641327604}, {\"#\": 518, \"Name\": \"Musharna\", \"Type 1\": \"Psychic\", \"Total\": 487, \"HP\": 116, \"Attack\": 55, \"Defense\": 85, \"Sp. Atk\": 107, \"Sp. Def\": 95, \"Speed\": 29, \"Generation\": 5, \"Legendary\": false, \"Pred\": 63.7266990519042}, {\"#\": 519, \"Name\": \"Pidove\", \"Type 1\": \"Normal\", \"Total\": 264, \"HP\": 50, \"Attack\": 55, \"Defense\": 50, \"Sp. Atk\": 36, \"Sp. Def\": 30, \"Speed\": 43, \"Generation\": 5, \"Legendary\": false, \"Pred\": 63.7266990519042}, {\"#\": 520, \"Name\": \"Tranquill\", \"Type 1\": \"Normal\", \"Total\": 358, \"HP\": 62, \"Attack\": 77, \"Defense\": 62, \"Sp. Atk\": 50, \"Sp. Def\": 42, \"Speed\": 65, \"Generation\": 5, \"Legendary\": false, \"Pred\": 72.99903365356485}, {\"#\": 521, \"Name\": \"Unfezant\", \"Type 1\": \"Normal\", \"Total\": 488, \"HP\": 80, \"Attack\": 115, \"Defense\": 80, \"Sp. Atk\": 65, \"Sp. Def\": 55, \"Speed\": 93, \"Generation\": 5, \"Legendary\": false, \"Pred\": 89.01488432916051}, {\"#\": 522, \"Name\": \"Blitzle\", \"Type 1\": \"Electric\", \"Total\": 295, \"HP\": 45, \"Attack\": 60, \"Defense\": 32, \"Sp. Atk\": 50, \"Sp. Def\": 32, \"Speed\": 76, \"Generation\": 5, \"Legendary\": false, \"Pred\": 65.8340478250089}, {\"#\": 523, \"Name\": \"Zebstrika\", \"Type 1\": \"Electric\", \"Total\": 497, \"HP\": 75, \"Attack\": 100, \"Defense\": 63, \"Sp. Atk\": 80, \"Sp. Def\": 63, \"Speed\": 116, \"Generation\": 5, \"Legendary\": false, \"Pred\": 82.69283800984644}, {\"#\": 524, \"Name\": \"Roggenrola\", \"Type 1\": \"Rock\", \"Total\": 280, \"HP\": 55, \"Attack\": 75, \"Defense\": 85, \"Sp. Atk\": 25, \"Sp. Def\": 25, \"Speed\": 15, \"Generation\": 5, \"Legendary\": false, \"Pred\": 72.15609414432296}, {\"#\": 525, \"Name\": \"Boldore\", \"Type 1\": \"Rock\", \"Total\": 390, \"HP\": 70, \"Attack\": 105, \"Defense\": 105, \"Sp. Atk\": 50, \"Sp. Def\": 40, \"Speed\": 20, \"Generation\": 5, \"Legendary\": false, \"Pred\": 84.80018678295113}, {\"#\": 526, \"Name\": \"Gigalith\", \"Type 1\": \"Rock\", \"Total\": 515, \"HP\": 85, \"Attack\": 135, \"Defense\": 130, \"Sp. Atk\": 60, \"Sp. Def\": 80, \"Speed\": 25, \"Generation\": 5, \"Legendary\": false, \"Pred\": 97.44427942157928}, {\"#\": 527, \"Name\": \"Woobat\", \"Type 1\": \"Psychic\", \"Total\": 313, \"HP\": 55, \"Attack\": 45, \"Defense\": 43, \"Sp. Atk\": 55, \"Sp. Def\": 43, \"Speed\": 72, \"Generation\": 5, \"Legendary\": false, \"Pred\": 59.51200150569481}, {\"#\": 528, \"Name\": \"Swoobat\", \"Type 1\": \"Psychic\", \"Total\": 425, \"HP\": 67, \"Attack\": 57, \"Defense\": 55, \"Sp. Atk\": 77, \"Sp. Def\": 55, \"Speed\": 114, \"Generation\": 5, \"Legendary\": false, \"Pred\": 64.56963856114608}, {\"#\": 529, \"Name\": \"Drilbur\", \"Type 1\": \"Ground\", \"Total\": 328, \"HP\": 60, \"Attack\": 85, \"Defense\": 40, \"Sp. Atk\": 30, \"Sp. Def\": 45, \"Speed\": 68, \"Generation\": 5, \"Legendary\": false, \"Pred\": 76.37079169053236}, {\"#\": 530, \"Name\": \"Excadrill\", \"Type 1\": \"Ground\", \"Total\": 508, \"HP\": 110, \"Attack\": 135, \"Defense\": 60, \"Sp. Atk\": 50, \"Sp. Def\": 65, \"Speed\": 88, \"Generation\": 5, \"Legendary\": false, \"Pred\": 97.44427942157928}, {\"#\": 531, \"Name\": \"Audino\", \"Type 1\": \"Normal\", \"Total\": 445, \"HP\": 103, \"Attack\": 60, \"Defense\": 86, \"Sp. Atk\": 60, \"Sp. Def\": 86, \"Speed\": 50, \"Generation\": 5, \"Legendary\": false, \"Pred\": 65.8340478250089}, {\"#\": 531, \"Name\": \"AudinoMega Audino\", \"Type 1\": \"Normal\", \"Total\": 545, \"HP\": 103, \"Attack\": 60, \"Defense\": 126, \"Sp. Atk\": 80, \"Sp. Def\": 126, \"Speed\": 50, \"Generation\": 5, \"Legendary\": false, \"Pred\": 65.8340478250089}, {\"#\": 532, \"Name\": \"Timburr\", \"Type 1\": \"Fighting\", \"Total\": 305, \"HP\": 75, \"Attack\": 80, \"Defense\": 55, \"Sp. Atk\": 25, \"Sp. Def\": 35, \"Speed\": 35, \"Generation\": 5, \"Legendary\": false, \"Pred\": 74.26344291742765}, {\"#\": 533, \"Name\": \"Gurdurr\", \"Type 1\": \"Fighting\", \"Total\": 405, \"HP\": 85, \"Attack\": 105, \"Defense\": 85, \"Sp. Atk\": 40, \"Sp. Def\": 50, \"Speed\": 40, \"Generation\": 5, \"Legendary\": false, \"Pred\": 84.80018678295113}, {\"#\": 534, \"Name\": \"Conkeldurr\", \"Type 1\": \"Fighting\", \"Total\": 505, \"HP\": 105, \"Attack\": 140, \"Defense\": 95, \"Sp. Atk\": 55, \"Sp. Def\": 65, \"Speed\": 45, \"Generation\": 5, \"Legendary\": false, \"Pred\": 99.55162819468397}, {\"#\": 535, \"Name\": \"Tympole\", \"Type 1\": \"Water\", \"Total\": 294, \"HP\": 50, \"Attack\": 50, \"Defense\": 40, \"Sp. Atk\": 50, \"Sp. Def\": 40, \"Speed\": 64, \"Generation\": 5, \"Legendary\": false, \"Pred\": 61.6193502787995}, {\"#\": 536, \"Name\": \"Palpitoad\", \"Type 1\": \"Water\", \"Total\": 384, \"HP\": 75, \"Attack\": 65, \"Defense\": 55, \"Sp. Atk\": 65, \"Sp. Def\": 55, \"Speed\": 69, \"Generation\": 5, \"Legendary\": false, \"Pred\": 67.94139659811358}, {\"#\": 537, \"Name\": \"Seismitoad\", \"Type 1\": \"Water\", \"Total\": 509, \"HP\": 105, \"Attack\": 95, \"Defense\": 75, \"Sp. Atk\": 85, \"Sp. Def\": 75, \"Speed\": 74, \"Generation\": 5, \"Legendary\": false, \"Pred\": 80.58548923674174}, {\"#\": 538, \"Name\": \"Throh\", \"Type 1\": \"Fighting\", \"Total\": 465, \"HP\": 120, \"Attack\": 100, \"Defense\": 85, \"Sp. Atk\": 30, \"Sp. Def\": 85, \"Speed\": 45, \"Generation\": 5, \"Legendary\": false, \"Pred\": 82.69283800984644}, {\"#\": 539, \"Name\": \"Sawk\", \"Type 1\": \"Fighting\", \"Total\": 465, \"HP\": 75, \"Attack\": 125, \"Defense\": 75, \"Sp. Atk\": 30, \"Sp. Def\": 75, \"Speed\": 85, \"Generation\": 5, \"Legendary\": false, \"Pred\": 93.22958187536989}, {\"#\": 540, \"Name\": \"Sewaddle\", \"Type 1\": \"Bug\", \"Total\": 310, \"HP\": 45, \"Attack\": 53, \"Defense\": 70, \"Sp. Atk\": 40, \"Sp. Def\": 60, \"Speed\": 42, \"Generation\": 5, \"Legendary\": false, \"Pred\": 62.88375954266232}, {\"#\": 541, \"Name\": \"Swadloon\", \"Type 1\": \"Bug\", \"Total\": 380, \"HP\": 55, \"Attack\": 63, \"Defense\": 90, \"Sp. Atk\": 50, \"Sp. Def\": 80, \"Speed\": 42, \"Generation\": 5, \"Legendary\": false, \"Pred\": 67.0984570888717}, {\"#\": 542, \"Name\": \"Leavanny\", \"Type 1\": \"Bug\", \"Total\": 500, \"HP\": 75, \"Attack\": 103, \"Defense\": 80, \"Sp. Atk\": 70, \"Sp. Def\": 80, \"Speed\": 92, \"Generation\": 5, \"Legendary\": false, \"Pred\": 83.95724727370924}, {\"#\": 543, \"Name\": \"Venipede\", \"Type 1\": \"Bug\", \"Total\": 260, \"HP\": 30, \"Attack\": 45, \"Defense\": 59, \"Sp. Atk\": 30, \"Sp. Def\": 39, \"Speed\": 57, \"Generation\": 5, \"Legendary\": false, \"Pred\": 59.51200150569481}, {\"#\": 544, \"Name\": \"Whirlipede\", \"Type 1\": \"Bug\", \"Total\": 360, \"HP\": 40, \"Attack\": 55, \"Defense\": 99, \"Sp. Atk\": 40, \"Sp. Def\": 79, \"Speed\": 47, \"Generation\": 5, \"Legendary\": false, \"Pred\": 63.7266990519042}, {\"#\": 545, \"Name\": \"Scolipede\", \"Type 1\": \"Bug\", \"Total\": 485, \"HP\": 60, \"Attack\": 100, \"Defense\": 89, \"Sp. Atk\": 55, \"Sp. Def\": 69, \"Speed\": 112, \"Generation\": 5, \"Legendary\": false, \"Pred\": 82.69283800984644}, {\"#\": 546, \"Name\": \"Cottonee\", \"Type 1\": \"Grass\", \"Total\": 280, \"HP\": 40, \"Attack\": 27, \"Defense\": 60, \"Sp. Atk\": 37, \"Sp. Def\": 50, \"Speed\": 66, \"Generation\": 5, \"Legendary\": false, \"Pred\": 51.92554592251792}, {\"#\": 547, \"Name\": \"Whimsicott\", \"Type 1\": \"Grass\", \"Total\": 480, \"HP\": 60, \"Attack\": 67, \"Defense\": 85, \"Sp. Atk\": 77, \"Sp. Def\": 75, \"Speed\": 116, \"Generation\": 5, \"Legendary\": false, \"Pred\": 68.78433610735546}, {\"#\": 548, \"Name\": \"Petilil\", \"Type 1\": \"Grass\", \"Total\": 280, \"HP\": 45, \"Attack\": 35, \"Defense\": 50, \"Sp. Atk\": 70, \"Sp. Def\": 50, \"Speed\": 30, \"Generation\": 5, \"Legendary\": false, \"Pred\": 55.297303959485426}, {\"#\": 549, \"Name\": \"Lilligant\", \"Type 1\": \"Grass\", \"Total\": 480, \"HP\": 70, \"Attack\": 60, \"Defense\": 75, \"Sp. Atk\": 110, \"Sp. Def\": 75, \"Speed\": 90, \"Generation\": 5, \"Legendary\": false, \"Pred\": 65.8340478250089}, {\"#\": 550, \"Name\": \"Basculin\", \"Type 1\": \"Water\", \"Total\": 460, \"HP\": 70, \"Attack\": 92, \"Defense\": 65, \"Sp. Atk\": 80, \"Sp. Def\": 55, \"Speed\": 98, \"Generation\": 5, \"Legendary\": false, \"Pred\": 79.32107997287892}, {\"#\": 551, \"Name\": \"Sandile\", \"Type 1\": \"Ground\", \"Total\": 292, \"HP\": 50, \"Attack\": 72, \"Defense\": 35, \"Sp. Atk\": 35, \"Sp. Def\": 35, \"Speed\": 65, \"Generation\": 5, \"Legendary\": false, \"Pred\": 70.89168488046016}, {\"#\": 552, \"Name\": \"Krokorok\", \"Type 1\": \"Ground\", \"Total\": 351, \"HP\": 60, \"Attack\": 82, \"Defense\": 45, \"Sp. Atk\": 45, \"Sp. Def\": 45, \"Speed\": 74, \"Generation\": 5, \"Legendary\": false, \"Pred\": 75.10638242666954}, {\"#\": 553, \"Name\": \"Krookodile\", \"Type 1\": \"Ground\", \"Total\": 519, \"HP\": 95, \"Attack\": 117, \"Defense\": 80, \"Sp. Atk\": 65, \"Sp. Def\": 70, \"Speed\": 92, \"Generation\": 5, \"Legendary\": false, \"Pred\": 89.8578238384024}, {\"#\": 554, \"Name\": \"Darumaka\", \"Type 1\": \"Fire\", \"Total\": 315, \"HP\": 70, \"Attack\": 90, \"Defense\": 45, \"Sp. Atk\": 15, \"Sp. Def\": 45, \"Speed\": 50, \"Generation\": 5, \"Legendary\": false, \"Pred\": 78.47814046363705}, {\"#\": 555, \"Name\": \"DarmanitanStandard Mode\", \"Type 1\": \"Fire\", \"Total\": 480, \"HP\": 105, \"Attack\": 140, \"Defense\": 55, \"Sp. Atk\": 30, \"Sp. Def\": 55, \"Speed\": 95, \"Generation\": 5, \"Legendary\": false, \"Pred\": 99.55162819468397}, {\"#\": 555, \"Name\": \"DarmanitanZen Mode\", \"Type 1\": \"Fire\", \"Total\": 540, \"HP\": 105, \"Attack\": 30, \"Defense\": 105, \"Sp. Atk\": 140, \"Sp. Def\": 105, \"Speed\": 55, \"Generation\": 5, \"Legendary\": false, \"Pred\": 53.189955186380736}, {\"#\": 556, \"Name\": \"Maractus\", \"Type 1\": \"Grass\", \"Total\": 461, \"HP\": 75, \"Attack\": 86, \"Defense\": 67, \"Sp. Atk\": 106, \"Sp. Def\": 67, \"Speed\": 60, \"Generation\": 5, \"Legendary\": false, \"Pred\": 76.79226144515329}, {\"#\": 557, \"Name\": \"Dwebble\", \"Type 1\": \"Bug\", \"Total\": 325, \"HP\": 50, \"Attack\": 65, \"Defense\": 85, \"Sp. Atk\": 35, \"Sp. Def\": 35, \"Speed\": 55, \"Generation\": 5, \"Legendary\": false, \"Pred\": 67.94139659811358}, {\"#\": 558, \"Name\": \"Crustle\", \"Type 1\": \"Bug\", \"Total\": 475, \"HP\": 70, \"Attack\": 95, \"Defense\": 125, \"Sp. Atk\": 65, \"Sp. Def\": 75, \"Speed\": 45, \"Generation\": 5, \"Legendary\": false, \"Pred\": 80.58548923674174}, {\"#\": 559, \"Name\": \"Scraggy\", \"Type 1\": \"Dark\", \"Total\": 348, \"HP\": 50, \"Attack\": 75, \"Defense\": 70, \"Sp. Atk\": 35, \"Sp. Def\": 70, \"Speed\": 48, \"Generation\": 5, \"Legendary\": false, \"Pred\": 72.15609414432296}, {\"#\": 560, \"Name\": \"Scrafty\", \"Type 1\": \"Dark\", \"Total\": 488, \"HP\": 65, \"Attack\": 90, \"Defense\": 115, \"Sp. Atk\": 45, \"Sp. Def\": 115, \"Speed\": 58, \"Generation\": 5, \"Legendary\": false, \"Pred\": 78.47814046363705}, {\"#\": 561, \"Name\": \"Sigilyph\", \"Type 1\": \"Psychic\", \"Total\": 490, \"HP\": 72, \"Attack\": 58, \"Defense\": 80, \"Sp. Atk\": 103, \"Sp. Def\": 80, \"Speed\": 97, \"Generation\": 5, \"Legendary\": false, \"Pred\": 64.99110831576701}, {\"#\": 562, \"Name\": \"Yamask\", \"Type 1\": \"Ghost\", \"Total\": 303, \"HP\": 38, \"Attack\": 30, \"Defense\": 85, \"Sp. Atk\": 55, \"Sp. Def\": 65, \"Speed\": 30, \"Generation\": 5, \"Legendary\": false, \"Pred\": 53.189955186380736}, {\"#\": 563, \"Name\": \"Cofagrigus\", \"Type 1\": \"Ghost\", \"Total\": 483, \"HP\": 58, \"Attack\": 50, \"Defense\": 145, \"Sp. Atk\": 95, \"Sp. Def\": 105, \"Speed\": 30, \"Generation\": 5, \"Legendary\": false, \"Pred\": 61.6193502787995}, {\"#\": 564, \"Name\": \"Tirtouga\", \"Type 1\": \"Water\", \"Total\": 355, \"HP\": 54, \"Attack\": 78, \"Defense\": 103, \"Sp. Atk\": 53, \"Sp. Def\": 45, \"Speed\": 22, \"Generation\": 5, \"Legendary\": false, \"Pred\": 73.4205034081858}, {\"#\": 565, \"Name\": \"Carracosta\", \"Type 1\": \"Water\", \"Total\": 495, \"HP\": 74, \"Attack\": 108, \"Defense\": 133, \"Sp. Atk\": 83, \"Sp. Def\": 65, \"Speed\": 32, \"Generation\": 5, \"Legendary\": false, \"Pred\": 86.06459604681393}, {\"#\": 566, \"Name\": \"Archen\", \"Type 1\": \"Rock\", \"Total\": 401, \"HP\": 55, \"Attack\": 112, \"Defense\": 45, \"Sp. Atk\": 74, \"Sp. Def\": 45, \"Speed\": 70, \"Generation\": 5, \"Legendary\": false, \"Pred\": 87.75047506529769}, {\"#\": 567, \"Name\": \"Archeops\", \"Type 1\": \"Rock\", \"Total\": 567, \"HP\": 75, \"Attack\": 140, \"Defense\": 65, \"Sp. Atk\": 112, \"Sp. Def\": 65, \"Speed\": 110, \"Generation\": 5, \"Legendary\": false, \"Pred\": 99.55162819468397}, {\"#\": 568, \"Name\": \"Trubbish\", \"Type 1\": \"Poison\", \"Total\": 329, \"HP\": 50, \"Attack\": 50, \"Defense\": 62, \"Sp. Atk\": 40, \"Sp. Def\": 62, \"Speed\": 65, \"Generation\": 5, \"Legendary\": false, \"Pred\": 61.6193502787995}, {\"#\": 569, \"Name\": \"Garbodor\", \"Type 1\": \"Poison\", \"Total\": 474, \"HP\": 80, \"Attack\": 95, \"Defense\": 82, \"Sp. Atk\": 60, \"Sp. Def\": 82, \"Speed\": 75, \"Generation\": 5, \"Legendary\": false, \"Pred\": 80.58548923674174}, {\"#\": 570, \"Name\": \"Zorua\", \"Type 1\": \"Dark\", \"Total\": 330, \"HP\": 40, \"Attack\": 65, \"Defense\": 40, \"Sp. Atk\": 80, \"Sp. Def\": 40, \"Speed\": 65, \"Generation\": 5, \"Legendary\": false, \"Pred\": 67.94139659811358}, {\"#\": 571, \"Name\": \"Zoroark\", \"Type 1\": \"Dark\", \"Total\": 510, \"HP\": 60, \"Attack\": 105, \"Defense\": 60, \"Sp. Atk\": 120, \"Sp. Def\": 60, \"Speed\": 105, \"Generation\": 5, \"Legendary\": false, \"Pred\": 84.80018678295113}, {\"#\": 572, \"Name\": \"Minccino\", \"Type 1\": \"Normal\", \"Total\": 300, \"HP\": 55, \"Attack\": 50, \"Defense\": 40, \"Sp. Atk\": 40, \"Sp. Def\": 40, \"Speed\": 75, \"Generation\": 5, \"Legendary\": false, \"Pred\": 61.6193502787995}, {\"#\": 573, \"Name\": \"Cinccino\", \"Type 1\": \"Normal\", \"Total\": 470, \"HP\": 75, \"Attack\": 95, \"Defense\": 60, \"Sp. Atk\": 65, \"Sp. Def\": 60, \"Speed\": 115, \"Generation\": 5, \"Legendary\": false, \"Pred\": 80.58548923674174}, {\"#\": 574, \"Name\": \"Gothita\", \"Type 1\": \"Psychic\", \"Total\": 290, \"HP\": 45, \"Attack\": 30, \"Defense\": 50, \"Sp. Atk\": 55, \"Sp. Def\": 65, \"Speed\": 45, \"Generation\": 5, \"Legendary\": false, \"Pred\": 53.189955186380736}, {\"#\": 575, \"Name\": \"Gothorita\", \"Type 1\": \"Psychic\", \"Total\": 390, \"HP\": 60, \"Attack\": 45, \"Defense\": 70, \"Sp. Atk\": 75, \"Sp. Def\": 85, \"Speed\": 55, \"Generation\": 5, \"Legendary\": false, \"Pred\": 59.51200150569481}, {\"#\": 576, \"Name\": \"Gothitelle\", \"Type 1\": \"Psychic\", \"Total\": 490, \"HP\": 70, \"Attack\": 55, \"Defense\": 95, \"Sp. Atk\": 95, \"Sp. Def\": 110, \"Speed\": 65, \"Generation\": 5, \"Legendary\": false, \"Pred\": 63.7266990519042}, {\"#\": 577, \"Name\": \"Solosis\", \"Type 1\": \"Psychic\", \"Total\": 290, \"HP\": 45, \"Attack\": 30, \"Defense\": 40, \"Sp. Atk\": 105, \"Sp. Def\": 50, \"Speed\": 20, \"Generation\": 5, \"Legendary\": false, \"Pred\": 53.189955186380736}, {\"#\": 578, \"Name\": \"Duosion\", \"Type 1\": \"Psychic\", \"Total\": 370, \"HP\": 65, \"Attack\": 40, \"Defense\": 50, \"Sp. Atk\": 125, \"Sp. Def\": 60, \"Speed\": 30, \"Generation\": 5, \"Legendary\": false, \"Pred\": 57.40465273259012}, {\"#\": 579, \"Name\": \"Reuniclus\", \"Type 1\": \"Psychic\", \"Total\": 490, \"HP\": 110, \"Attack\": 65, \"Defense\": 75, \"Sp. Atk\": 125, \"Sp. Def\": 85, \"Speed\": 30, \"Generation\": 5, \"Legendary\": false, \"Pred\": 67.94139659811358}, {\"#\": 580, \"Name\": \"Ducklett\", \"Type 1\": \"Water\", \"Total\": 305, \"HP\": 62, \"Attack\": 44, \"Defense\": 50, \"Sp. Atk\": 44, \"Sp. Def\": 50, \"Speed\": 55, \"Generation\": 5, \"Legendary\": false, \"Pred\": 59.09053175107387}, {\"#\": 581, \"Name\": \"Swanna\", \"Type 1\": \"Water\", \"Total\": 473, \"HP\": 75, \"Attack\": 87, \"Defense\": 63, \"Sp. Atk\": 87, \"Sp. Def\": 63, \"Speed\": 98, \"Generation\": 5, \"Legendary\": false, \"Pred\": 77.21373119977423}, {\"#\": 582, \"Name\": \"Vanillite\", \"Type 1\": \"Ice\", \"Total\": 305, \"HP\": 36, \"Attack\": 50, \"Defense\": 50, \"Sp. Atk\": 65, \"Sp. Def\": 60, \"Speed\": 44, \"Generation\": 5, \"Legendary\": false, \"Pred\": 61.6193502787995}, {\"#\": 583, \"Name\": \"Vanillish\", \"Type 1\": \"Ice\", \"Total\": 395, \"HP\": 51, \"Attack\": 65, \"Defense\": 65, \"Sp. Atk\": 80, \"Sp. Def\": 75, \"Speed\": 59, \"Generation\": 5, \"Legendary\": false, \"Pred\": 67.94139659811358}, {\"#\": 584, \"Name\": \"Vanilluxe\", \"Type 1\": \"Ice\", \"Total\": 535, \"HP\": 71, \"Attack\": 95, \"Defense\": 85, \"Sp. Atk\": 110, \"Sp. Def\": 95, \"Speed\": 79, \"Generation\": 5, \"Legendary\": false, \"Pred\": 80.58548923674174}, {\"#\": 585, \"Name\": \"Deerling\", \"Type 1\": \"Normal\", \"Total\": 335, \"HP\": 60, \"Attack\": 60, \"Defense\": 50, \"Sp. Atk\": 40, \"Sp. Def\": 50, \"Speed\": 75, \"Generation\": 5, \"Legendary\": false, \"Pred\": 65.8340478250089}, {\"#\": 586, \"Name\": \"Sawsbuck\", \"Type 1\": \"Normal\", \"Total\": 475, \"HP\": 80, \"Attack\": 100, \"Defense\": 70, \"Sp. Atk\": 60, \"Sp. Def\": 70, \"Speed\": 95, \"Generation\": 5, \"Legendary\": false, \"Pred\": 82.69283800984644}, {\"#\": 587, \"Name\": \"Emolga\", \"Type 1\": \"Electric\", \"Total\": 428, \"HP\": 55, \"Attack\": 75, \"Defense\": 60, \"Sp. Atk\": 75, \"Sp. Def\": 60, \"Speed\": 103, \"Generation\": 5, \"Legendary\": false, \"Pred\": 72.15609414432296}, {\"#\": 588, \"Name\": \"Karrablast\", \"Type 1\": \"Bug\", \"Total\": 315, \"HP\": 50, \"Attack\": 75, \"Defense\": 45, \"Sp. Atk\": 40, \"Sp. Def\": 45, \"Speed\": 60, \"Generation\": 5, \"Legendary\": false, \"Pred\": 72.15609414432296}, {\"#\": 589, \"Name\": \"Escavalier\", \"Type 1\": \"Bug\", \"Total\": 495, \"HP\": 70, \"Attack\": 135, \"Defense\": 105, \"Sp. Atk\": 60, \"Sp. Def\": 105, \"Speed\": 20, \"Generation\": 5, \"Legendary\": false, \"Pred\": 97.44427942157928}, {\"#\": 590, \"Name\": \"Foongus\", \"Type 1\": \"Grass\", \"Total\": 294, \"HP\": 69, \"Attack\": 55, \"Defense\": 45, \"Sp. Atk\": 55, \"Sp. Def\": 55, \"Speed\": 15, \"Generation\": 5, \"Legendary\": false, \"Pred\": 63.7266990519042}, {\"#\": 591, \"Name\": \"Amoonguss\", \"Type 1\": \"Grass\", \"Total\": 464, \"HP\": 114, \"Attack\": 85, \"Defense\": 70, \"Sp. Atk\": 85, \"Sp. Def\": 80, \"Speed\": 30, \"Generation\": 5, \"Legendary\": false, \"Pred\": 76.37079169053236}, {\"#\": 592, \"Name\": \"Frillish\", \"Type 1\": \"Water\", \"Total\": 335, \"HP\": 55, \"Attack\": 40, \"Defense\": 50, \"Sp. Atk\": 65, \"Sp. Def\": 85, \"Speed\": 40, \"Generation\": 5, \"Legendary\": false, \"Pred\": 57.40465273259012}, {\"#\": 593, \"Name\": \"Jellicent\", \"Type 1\": \"Water\", \"Total\": 480, \"HP\": 100, \"Attack\": 60, \"Defense\": 70, \"Sp. Atk\": 85, \"Sp. Def\": 105, \"Speed\": 60, \"Generation\": 5, \"Legendary\": false, \"Pred\": 65.8340478250089}, {\"#\": 594, \"Name\": \"Alomomola\", \"Type 1\": \"Water\", \"Total\": 470, \"HP\": 165, \"Attack\": 75, \"Defense\": 80, \"Sp. Atk\": 40, \"Sp. Def\": 45, \"Speed\": 65, \"Generation\": 5, \"Legendary\": false, \"Pred\": 72.15609414432296}, {\"#\": 595, \"Name\": \"Joltik\", \"Type 1\": \"Bug\", \"Total\": 319, \"HP\": 50, \"Attack\": 47, \"Defense\": 50, \"Sp. Atk\": 57, \"Sp. Def\": 50, \"Speed\": 65, \"Generation\": 5, \"Legendary\": false, \"Pred\": 60.354941014936685}, {\"#\": 596, \"Name\": \"Galvantula\", \"Type 1\": \"Bug\", \"Total\": 472, \"HP\": 70, \"Attack\": 77, \"Defense\": 60, \"Sp. Atk\": 97, \"Sp. Def\": 60, \"Speed\": 108, \"Generation\": 5, \"Legendary\": false, \"Pred\": 72.99903365356485}, {\"#\": 597, \"Name\": \"Ferroseed\", \"Type 1\": \"Grass\", \"Total\": 305, \"HP\": 44, \"Attack\": 50, \"Defense\": 91, \"Sp. Atk\": 24, \"Sp. Def\": 86, \"Speed\": 10, \"Generation\": 5, \"Legendary\": false, \"Pred\": 61.6193502787995}, {\"#\": 598, \"Name\": \"Ferrothorn\", \"Type 1\": \"Grass\", \"Total\": 489, \"HP\": 74, \"Attack\": 94, \"Defense\": 131, \"Sp. Atk\": 54, \"Sp. Def\": 116, \"Speed\": 20, \"Generation\": 5, \"Legendary\": false, \"Pred\": 80.1640194821208}, {\"#\": 599, \"Name\": \"Klink\", \"Type 1\": \"Steel\", \"Total\": 300, \"HP\": 40, \"Attack\": 55, \"Defense\": 70, \"Sp. Atk\": 45, \"Sp. Def\": 60, \"Speed\": 30, \"Generation\": 5, \"Legendary\": false, \"Pred\": 63.7266990519042}, {\"#\": 600, \"Name\": \"Klang\", \"Type 1\": \"Steel\", \"Total\": 440, \"HP\": 60, \"Attack\": 80, \"Defense\": 95, \"Sp. Atk\": 70, \"Sp. Def\": 85, \"Speed\": 50, \"Generation\": 5, \"Legendary\": false, \"Pred\": 74.26344291742765}, {\"#\": 601, \"Name\": \"Klinklang\", \"Type 1\": \"Steel\", \"Total\": 520, \"HP\": 60, \"Attack\": 100, \"Defense\": 115, \"Sp. Atk\": 70, \"Sp. Def\": 85, \"Speed\": 90, \"Generation\": 5, \"Legendary\": false, \"Pred\": 82.69283800984644}, {\"#\": 602, \"Name\": \"Tynamo\", \"Type 1\": \"Electric\", \"Total\": 275, \"HP\": 35, \"Attack\": 55, \"Defense\": 40, \"Sp. Atk\": 45, \"Sp. Def\": 40, \"Speed\": 60, \"Generation\": 5, \"Legendary\": false, \"Pred\": 63.7266990519042}, {\"#\": 603, \"Name\": \"Eelektrik\", \"Type 1\": \"Electric\", \"Total\": 405, \"HP\": 65, \"Attack\": 85, \"Defense\": 70, \"Sp. Atk\": 75, \"Sp. Def\": 70, \"Speed\": 40, \"Generation\": 5, \"Legendary\": false, \"Pred\": 76.37079169053236}, {\"#\": 604, \"Name\": \"Eelektross\", \"Type 1\": \"Electric\", \"Total\": 515, \"HP\": 85, \"Attack\": 115, \"Defense\": 80, \"Sp. Atk\": 105, \"Sp. Def\": 80, \"Speed\": 50, \"Generation\": 5, \"Legendary\": false, \"Pred\": 89.01488432916051}, {\"#\": 605, \"Name\": \"Elgyem\", \"Type 1\": \"Psychic\", \"Total\": 335, \"HP\": 55, \"Attack\": 55, \"Defense\": 55, \"Sp. Atk\": 85, \"Sp. Def\": 55, \"Speed\": 30, \"Generation\": 5, \"Legendary\": false, \"Pred\": 63.7266990519042}, {\"#\": 606, \"Name\": \"Beheeyem\", \"Type 1\": \"Psychic\", \"Total\": 485, \"HP\": 75, \"Attack\": 75, \"Defense\": 75, \"Sp. Atk\": 125, \"Sp. Def\": 95, \"Speed\": 40, \"Generation\": 5, \"Legendary\": false, \"Pred\": 72.15609414432296}, {\"#\": 607, \"Name\": \"Litwick\", \"Type 1\": \"Ghost\", \"Total\": 275, \"HP\": 50, \"Attack\": 30, \"Defense\": 55, \"Sp. Atk\": 65, \"Sp. Def\": 55, \"Speed\": 20, \"Generation\": 5, \"Legendary\": false, \"Pred\": 53.189955186380736}, {\"#\": 608, \"Name\": \"Lampent\", \"Type 1\": \"Ghost\", \"Total\": 370, \"HP\": 60, \"Attack\": 40, \"Defense\": 60, \"Sp. Atk\": 95, \"Sp. Def\": 60, \"Speed\": 55, \"Generation\": 5, \"Legendary\": false, \"Pred\": 57.40465273259012}, {\"#\": 609, \"Name\": \"Chandelure\", \"Type 1\": \"Ghost\", \"Total\": 520, \"HP\": 60, \"Attack\": 55, \"Defense\": 90, \"Sp. Atk\": 145, \"Sp. Def\": 90, \"Speed\": 80, \"Generation\": 5, \"Legendary\": false, \"Pred\": 63.7266990519042}, {\"#\": 610, \"Name\": \"Axew\", \"Type 1\": \"Dragon\", \"Total\": 320, \"HP\": 46, \"Attack\": 87, \"Defense\": 60, \"Sp. Atk\": 30, \"Sp. Def\": 40, \"Speed\": 57, \"Generation\": 5, \"Legendary\": false, \"Pred\": 77.21373119977423}, {\"#\": 611, \"Name\": \"Fraxure\", \"Type 1\": \"Dragon\", \"Total\": 410, \"HP\": 66, \"Attack\": 117, \"Defense\": 70, \"Sp. Atk\": 40, \"Sp. Def\": 50, \"Speed\": 67, \"Generation\": 5, \"Legendary\": false, \"Pred\": 89.8578238384024}, {\"#\": 612, \"Name\": \"Haxorus\", \"Type 1\": \"Dragon\", \"Total\": 540, \"HP\": 76, \"Attack\": 147, \"Defense\": 90, \"Sp. Atk\": 60, \"Sp. Def\": 70, \"Speed\": 97, \"Generation\": 5, \"Legendary\": false, \"Pred\": 102.50191647703053}, {\"#\": 613, \"Name\": \"Cubchoo\", \"Type 1\": \"Ice\", \"Total\": 305, \"HP\": 55, \"Attack\": 70, \"Defense\": 40, \"Sp. Atk\": 60, \"Sp. Def\": 40, \"Speed\": 40, \"Generation\": 5, \"Legendary\": false, \"Pred\": 70.04874537121827}, {\"#\": 614, \"Name\": \"Beartic\", \"Type 1\": \"Ice\", \"Total\": 485, \"HP\": 95, \"Attack\": 110, \"Defense\": 80, \"Sp. Atk\": 70, \"Sp. Def\": 80, \"Speed\": 50, \"Generation\": 5, \"Legendary\": false, \"Pred\": 86.90753555605582}, {\"#\": 615, \"Name\": \"Cryogonal\", \"Type 1\": \"Ice\", \"Total\": 485, \"HP\": 70, \"Attack\": 50, \"Defense\": 30, \"Sp. Atk\": 95, \"Sp. Def\": 135, \"Speed\": 105, \"Generation\": 5, \"Legendary\": false, \"Pred\": 61.6193502787995}, {\"#\": 616, \"Name\": \"Shelmet\", \"Type 1\": \"Bug\", \"Total\": 305, \"HP\": 50, \"Attack\": 40, \"Defense\": 85, \"Sp. Atk\": 40, \"Sp. Def\": 65, \"Speed\": 25, \"Generation\": 5, \"Legendary\": false, \"Pred\": 57.40465273259012}, {\"#\": 617, \"Name\": \"Accelgor\", \"Type 1\": \"Bug\", \"Total\": 495, \"HP\": 80, \"Attack\": 70, \"Defense\": 40, \"Sp. Atk\": 100, \"Sp. Def\": 60, \"Speed\": 145, \"Generation\": 5, \"Legendary\": false, \"Pred\": 70.04874537121827}, {\"#\": 618, \"Name\": \"Stunfisk\", \"Type 1\": \"Ground\", \"Total\": 471, \"HP\": 109, \"Attack\": 66, \"Defense\": 84, \"Sp. Atk\": 81, \"Sp. Def\": 99, \"Speed\": 32, \"Generation\": 5, \"Legendary\": false, \"Pred\": 68.36286635273453}, {\"#\": 619, \"Name\": \"Mienfoo\", \"Type 1\": \"Fighting\", \"Total\": 350, \"HP\": 45, \"Attack\": 85, \"Defense\": 50, \"Sp. Atk\": 55, \"Sp. Def\": 50, \"Speed\": 65, \"Generation\": 5, \"Legendary\": false, \"Pred\": 76.37079169053236}, {\"#\": 620, \"Name\": \"Mienshao\", \"Type 1\": \"Fighting\", \"Total\": 510, \"HP\": 65, \"Attack\": 125, \"Defense\": 60, \"Sp. Atk\": 95, \"Sp. Def\": 60, \"Speed\": 105, \"Generation\": 5, \"Legendary\": false, \"Pred\": 93.22958187536989}, {\"#\": 621, \"Name\": \"Druddigon\", \"Type 1\": \"Dragon\", \"Total\": 485, \"HP\": 77, \"Attack\": 120, \"Defense\": 90, \"Sp. Atk\": 60, \"Sp. Def\": 90, \"Speed\": 48, \"Generation\": 5, \"Legendary\": false, \"Pred\": 91.1222331022652}, {\"#\": 622, \"Name\": \"Golett\", \"Type 1\": \"Ground\", \"Total\": 303, \"HP\": 59, \"Attack\": 74, \"Defense\": 50, \"Sp. Atk\": 35, \"Sp. Def\": 50, \"Speed\": 35, \"Generation\": 5, \"Legendary\": false, \"Pred\": 71.73462438970203}, {\"#\": 623, \"Name\": \"Golurk\", \"Type 1\": \"Ground\", \"Total\": 483, \"HP\": 89, \"Attack\": 124, \"Defense\": 80, \"Sp. Atk\": 55, \"Sp. Def\": 80, \"Speed\": 55, \"Generation\": 5, \"Legendary\": false, \"Pred\": 92.80811212074896}, {\"#\": 624, \"Name\": \"Pawniard\", \"Type 1\": \"Dark\", \"Total\": 340, \"HP\": 45, \"Attack\": 85, \"Defense\": 70, \"Sp. Atk\": 40, \"Sp. Def\": 40, \"Speed\": 60, \"Generation\": 5, \"Legendary\": false, \"Pred\": 76.37079169053236}, {\"#\": 625, \"Name\": \"Bisharp\", \"Type 1\": \"Dark\", \"Total\": 490, \"HP\": 65, \"Attack\": 125, \"Defense\": 100, \"Sp. Atk\": 60, \"Sp. Def\": 70, \"Speed\": 70, \"Generation\": 5, \"Legendary\": false, \"Pred\": 93.22958187536989}, {\"#\": 626, \"Name\": \"Bouffalant\", \"Type 1\": \"Normal\", \"Total\": 490, \"HP\": 95, \"Attack\": 110, \"Defense\": 95, \"Sp. Atk\": 40, \"Sp. Def\": 95, \"Speed\": 55, \"Generation\": 5, \"Legendary\": false, \"Pred\": 86.90753555605582}, {\"#\": 627, \"Name\": \"Rufflet\", \"Type 1\": \"Normal\", \"Total\": 350, \"HP\": 70, \"Attack\": 83, \"Defense\": 50, \"Sp. Atk\": 37, \"Sp. Def\": 50, \"Speed\": 60, \"Generation\": 5, \"Legendary\": false, \"Pred\": 75.52785218129048}, {\"#\": 628, \"Name\": \"Braviary\", \"Type 1\": \"Normal\", \"Total\": 510, \"HP\": 100, \"Attack\": 123, \"Defense\": 75, \"Sp. Atk\": 57, \"Sp. Def\": 75, \"Speed\": 80, \"Generation\": 5, \"Legendary\": false, \"Pred\": 92.38664236612803}, {\"#\": 629, \"Name\": \"Vullaby\", \"Type 1\": \"Dark\", \"Total\": 370, \"HP\": 70, \"Attack\": 55, \"Defense\": 75, \"Sp. Atk\": 45, \"Sp. Def\": 65, \"Speed\": 60, \"Generation\": 5, \"Legendary\": false, \"Pred\": 63.7266990519042}, {\"#\": 630, \"Name\": \"Mandibuzz\", \"Type 1\": \"Dark\", \"Total\": 510, \"HP\": 110, \"Attack\": 65, \"Defense\": 105, \"Sp. Atk\": 55, \"Sp. Def\": 95, \"Speed\": 80, \"Generation\": 5, \"Legendary\": false, \"Pred\": 67.94139659811358}, {\"#\": 631, \"Name\": \"Heatmor\", \"Type 1\": \"Fire\", \"Total\": 484, \"HP\": 85, \"Attack\": 97, \"Defense\": 66, \"Sp. Atk\": 105, \"Sp. Def\": 66, \"Speed\": 65, \"Generation\": 5, \"Legendary\": false, \"Pred\": 81.42842874598361}, {\"#\": 632, \"Name\": \"Durant\", \"Type 1\": \"Bug\", \"Total\": 484, \"HP\": 58, \"Attack\": 109, \"Defense\": 112, \"Sp. Atk\": 48, \"Sp. Def\": 48, \"Speed\": 109, \"Generation\": 5, \"Legendary\": false, \"Pred\": 86.48606580143488}, {\"#\": 633, \"Name\": \"Deino\", \"Type 1\": \"Dark\", \"Total\": 300, \"HP\": 52, \"Attack\": 65, \"Defense\": 50, \"Sp. Atk\": 45, \"Sp. Def\": 50, \"Speed\": 38, \"Generation\": 5, \"Legendary\": false, \"Pred\": 67.94139659811358}, {\"#\": 634, \"Name\": \"Zweilous\", \"Type 1\": \"Dark\", \"Total\": 420, \"HP\": 72, \"Attack\": 85, \"Defense\": 70, \"Sp. Atk\": 65, \"Sp. Def\": 70, \"Speed\": 58, \"Generation\": 5, \"Legendary\": false, \"Pred\": 76.37079169053236}, {\"#\": 635, \"Name\": \"Hydreigon\", \"Type 1\": \"Dark\", \"Total\": 600, \"HP\": 92, \"Attack\": 105, \"Defense\": 90, \"Sp. Atk\": 125, \"Sp. Def\": 90, \"Speed\": 98, \"Generation\": 5, \"Legendary\": false, \"Pred\": 84.80018678295113}, {\"#\": 636, \"Name\": \"Larvesta\", \"Type 1\": \"Bug\", \"Total\": 360, \"HP\": 55, \"Attack\": 85, \"Defense\": 55, \"Sp. Atk\": 50, \"Sp. Def\": 55, \"Speed\": 60, \"Generation\": 5, \"Legendary\": false, \"Pred\": 76.37079169053236}, {\"#\": 637, \"Name\": \"Volcarona\", \"Type 1\": \"Bug\", \"Total\": 550, \"HP\": 85, \"Attack\": 60, \"Defense\": 65, \"Sp. Atk\": 135, \"Sp. Def\": 105, \"Speed\": 100, \"Generation\": 5, \"Legendary\": false, \"Pred\": 65.8340478250089}, {\"#\": 638, \"Name\": \"Cobalion\", \"Type 1\": \"Steel\", \"Total\": 580, \"HP\": 91, \"Attack\": 90, \"Defense\": 129, \"Sp. Atk\": 90, \"Sp. Def\": 72, \"Speed\": 108, \"Generation\": 5, \"Legendary\": true, \"Pred\": 78.47814046363705}, {\"#\": 639, \"Name\": \"Terrakion\", \"Type 1\": \"Rock\", \"Total\": 580, \"HP\": 91, \"Attack\": 129, \"Defense\": 90, \"Sp. Atk\": 72, \"Sp. Def\": 90, \"Speed\": 108, \"Generation\": 5, \"Legendary\": true, \"Pred\": 94.91546089385365}, {\"#\": 640, \"Name\": \"Virizion\", \"Type 1\": \"Grass\", \"Total\": 580, \"HP\": 91, \"Attack\": 90, \"Defense\": 72, \"Sp. Atk\": 90, \"Sp. Def\": 129, \"Speed\": 108, \"Generation\": 5, \"Legendary\": true, \"Pred\": 78.47814046363705}, {\"#\": 641, \"Name\": \"TornadusIncarnate Forme\", \"Type 1\": \"Flying\", \"Total\": 580, \"HP\": 79, \"Attack\": 115, \"Defense\": 70, \"Sp. Atk\": 125, \"Sp. Def\": 80, \"Speed\": 111, \"Generation\": 5, \"Legendary\": true, \"Pred\": 89.01488432916051}, {\"#\": 641, \"Name\": \"TornadusTherian Forme\", \"Type 1\": \"Flying\", \"Total\": 580, \"HP\": 79, \"Attack\": 100, \"Defense\": 80, \"Sp. Atk\": 110, \"Sp. Def\": 90, \"Speed\": 121, \"Generation\": 5, \"Legendary\": true, \"Pred\": 82.69283800984644}, {\"#\": 642, \"Name\": \"ThundurusIncarnate Forme\", \"Type 1\": \"Electric\", \"Total\": 580, \"HP\": 79, \"Attack\": 115, \"Defense\": 70, \"Sp. Atk\": 125, \"Sp. Def\": 80, \"Speed\": 111, \"Generation\": 5, \"Legendary\": true, \"Pred\": 89.01488432916051}, {\"#\": 642, \"Name\": \"ThundurusTherian Forme\", \"Type 1\": \"Electric\", \"Total\": 580, \"HP\": 79, \"Attack\": 105, \"Defense\": 70, \"Sp. Atk\": 145, \"Sp. Def\": 80, \"Speed\": 101, \"Generation\": 5, \"Legendary\": true, \"Pred\": 84.80018678295113}, {\"#\": 643, \"Name\": \"Reshiram\", \"Type 1\": \"Dragon\", \"Total\": 680, \"HP\": 100, \"Attack\": 120, \"Defense\": 100, \"Sp. Atk\": 150, \"Sp. Def\": 120, \"Speed\": 90, \"Generation\": 5, \"Legendary\": true, \"Pred\": 91.1222331022652}, {\"#\": 644, \"Name\": \"Zekrom\", \"Type 1\": \"Dragon\", \"Total\": 680, \"HP\": 100, \"Attack\": 150, \"Defense\": 120, \"Sp. Atk\": 120, \"Sp. Def\": 100, \"Speed\": 90, \"Generation\": 5, \"Legendary\": true, \"Pred\": 103.76632574089336}, {\"#\": 645, \"Name\": \"LandorusIncarnate Forme\", \"Type 1\": \"Ground\", \"Total\": 600, \"HP\": 89, \"Attack\": 125, \"Defense\": 90, \"Sp. Atk\": 115, \"Sp. Def\": 80, \"Speed\": 101, \"Generation\": 5, \"Legendary\": true, \"Pred\": 93.22958187536989}, {\"#\": 645, \"Name\": \"LandorusTherian Forme\", \"Type 1\": \"Ground\", \"Total\": 600, \"HP\": 89, \"Attack\": 145, \"Defense\": 90, \"Sp. Atk\": 105, \"Sp. Def\": 80, \"Speed\": 91, \"Generation\": 5, \"Legendary\": true, \"Pred\": 101.65897696778867}, {\"#\": 646, \"Name\": \"Kyurem\", \"Type 1\": \"Dragon\", \"Total\": 660, \"HP\": 125, \"Attack\": 130, \"Defense\": 90, \"Sp. Atk\": 130, \"Sp. Def\": 90, \"Speed\": 95, \"Generation\": 5, \"Legendary\": true, \"Pred\": 95.33693064847459}, {\"#\": 646, \"Name\": \"KyuremBlack Kyurem\", \"Type 1\": \"Dragon\", \"Total\": 700, \"HP\": 125, \"Attack\": 170, \"Defense\": 100, \"Sp. Atk\": 120, \"Sp. Def\": 90, \"Speed\": 95, \"Generation\": 5, \"Legendary\": true, \"Pred\": 112.19572083331214}, {\"#\": 646, \"Name\": \"KyuremWhite Kyurem\", \"Type 1\": \"Dragon\", \"Total\": 700, \"HP\": 125, \"Attack\": 120, \"Defense\": 90, \"Sp. Atk\": 170, \"Sp. Def\": 100, \"Speed\": 95, \"Generation\": 5, \"Legendary\": true, \"Pred\": 91.1222331022652}, {\"#\": 647, \"Name\": \"KeldeoOrdinary Forme\", \"Type 1\": \"Water\", \"Total\": 580, \"HP\": 91, \"Attack\": 72, \"Defense\": 90, \"Sp. Atk\": 129, \"Sp. Def\": 90, \"Speed\": 108, \"Generation\": 5, \"Legendary\": false, \"Pred\": 70.89168488046016}, {\"#\": 647, \"Name\": \"KeldeoResolute Forme\", \"Type 1\": \"Water\", \"Total\": 580, \"HP\": 91, \"Attack\": 72, \"Defense\": 90, \"Sp. Atk\": 129, \"Sp. Def\": 90, \"Speed\": 108, \"Generation\": 5, \"Legendary\": false, \"Pred\": 70.89168488046016}, {\"#\": 648, \"Name\": \"MeloettaAria Forme\", \"Type 1\": \"Normal\", \"Total\": 600, \"HP\": 100, \"Attack\": 77, \"Defense\": 77, \"Sp. Atk\": 128, \"Sp. Def\": 128, \"Speed\": 90, \"Generation\": 5, \"Legendary\": false, \"Pred\": 72.99903365356485}, {\"#\": 648, \"Name\": \"MeloettaPirouette Forme\", \"Type 1\": \"Normal\", \"Total\": 600, \"HP\": 100, \"Attack\": 128, \"Defense\": 90, \"Sp. Atk\": 77, \"Sp. Def\": 77, \"Speed\": 128, \"Generation\": 5, \"Legendary\": false, \"Pred\": 94.49399113923272}, {\"#\": 649, \"Name\": \"Genesect\", \"Type 1\": \"Bug\", \"Total\": 600, \"HP\": 71, \"Attack\": 120, \"Defense\": 95, \"Sp. Atk\": 120, \"Sp. Def\": 95, \"Speed\": 99, \"Generation\": 5, \"Legendary\": false, \"Pred\": 91.1222331022652}, {\"#\": 650, \"Name\": \"Chespin\", \"Type 1\": \"Grass\", \"Total\": 313, \"HP\": 56, \"Attack\": 61, \"Defense\": 65, \"Sp. Atk\": 48, \"Sp. Def\": 45, \"Speed\": 38, \"Generation\": 6, \"Legendary\": false, \"Pred\": 66.25551757962982}, {\"#\": 651, \"Name\": \"Quilladin\", \"Type 1\": \"Grass\", \"Total\": 405, \"HP\": 61, \"Attack\": 78, \"Defense\": 95, \"Sp. Atk\": 56, \"Sp. Def\": 58, \"Speed\": 57, \"Generation\": 6, \"Legendary\": false, \"Pred\": 73.4205034081858}, {\"#\": 652, \"Name\": \"Chesnaught\", \"Type 1\": \"Grass\", \"Total\": 530, \"HP\": 88, \"Attack\": 107, \"Defense\": 122, \"Sp. Atk\": 74, \"Sp. Def\": 75, \"Speed\": 64, \"Generation\": 6, \"Legendary\": false, \"Pred\": 85.643126292193}, {\"#\": 653, \"Name\": \"Fennekin\", \"Type 1\": \"Fire\", \"Total\": 307, \"HP\": 40, \"Attack\": 45, \"Defense\": 40, \"Sp. Atk\": 62, \"Sp. Def\": 60, \"Speed\": 60, \"Generation\": 6, \"Legendary\": false, \"Pred\": 59.51200150569481}, {\"#\": 654, \"Name\": \"Braixen\", \"Type 1\": \"Fire\", \"Total\": 409, \"HP\": 59, \"Attack\": 59, \"Defense\": 58, \"Sp. Atk\": 90, \"Sp. Def\": 70, \"Speed\": 73, \"Generation\": 6, \"Legendary\": false, \"Pred\": 65.41257807038795}, {\"#\": 655, \"Name\": \"Delphox\", \"Type 1\": \"Fire\", \"Total\": 534, \"HP\": 75, \"Attack\": 69, \"Defense\": 72, \"Sp. Atk\": 114, \"Sp. Def\": 100, \"Speed\": 104, \"Generation\": 6, \"Legendary\": false, \"Pred\": 69.62727561659733}, {\"#\": 656, \"Name\": \"Froakie\", \"Type 1\": \"Water\", \"Total\": 314, \"HP\": 41, \"Attack\": 56, \"Defense\": 40, \"Sp. Atk\": 62, \"Sp. Def\": 44, \"Speed\": 71, \"Generation\": 6, \"Legendary\": false, \"Pred\": 64.14816880652513}, {\"#\": 657, \"Name\": \"Frogadier\", \"Type 1\": \"Water\", \"Total\": 405, \"HP\": 54, \"Attack\": 63, \"Defense\": 52, \"Sp. Atk\": 83, \"Sp. Def\": 56, \"Speed\": 97, \"Generation\": 6, \"Legendary\": false, \"Pred\": 67.0984570888717}, {\"#\": 658, \"Name\": \"Greninja\", \"Type 1\": \"Water\", \"Total\": 530, \"HP\": 72, \"Attack\": 95, \"Defense\": 67, \"Sp. Atk\": 103, \"Sp. Def\": 71, \"Speed\": 122, \"Generation\": 6, \"Legendary\": false, \"Pred\": 80.58548923674174}, {\"#\": 659, \"Name\": \"Bunnelby\", \"Type 1\": \"Normal\", \"Total\": 237, \"HP\": 38, \"Attack\": 36, \"Defense\": 38, \"Sp. Atk\": 32, \"Sp. Def\": 36, \"Speed\": 57, \"Generation\": 6, \"Legendary\": false, \"Pred\": 55.71877371410636}, {\"#\": 660, \"Name\": \"Diggersby\", \"Type 1\": \"Normal\", \"Total\": 423, \"HP\": 85, \"Attack\": 56, \"Defense\": 77, \"Sp. Atk\": 50, \"Sp. Def\": 77, \"Speed\": 78, \"Generation\": 6, \"Legendary\": false, \"Pred\": 64.14816880652513}, {\"#\": 661, \"Name\": \"Fletchling\", \"Type 1\": \"Normal\", \"Total\": 278, \"HP\": 45, \"Attack\": 50, \"Defense\": 43, \"Sp. Atk\": 40, \"Sp. Def\": 38, \"Speed\": 62, \"Generation\": 6, \"Legendary\": false, \"Pred\": 61.6193502787995}, {\"#\": 662, \"Name\": \"Fletchinder\", \"Type 1\": \"Fire\", \"Total\": 382, \"HP\": 62, \"Attack\": 73, \"Defense\": 55, \"Sp. Atk\": 56, \"Sp. Def\": 52, \"Speed\": 84, \"Generation\": 6, \"Legendary\": false, \"Pred\": 71.31315463508109}, {\"#\": 663, \"Name\": \"Talonflame\", \"Type 1\": \"Fire\", \"Total\": 499, \"HP\": 78, \"Attack\": 81, \"Defense\": 71, \"Sp. Atk\": 74, \"Sp. Def\": 69, \"Speed\": 126, \"Generation\": 6, \"Legendary\": false, \"Pred\": 74.6849126720486}, {\"#\": 664, \"Name\": \"Scatterbug\", \"Type 1\": \"Bug\", \"Total\": 200, \"HP\": 38, \"Attack\": 35, \"Defense\": 40, \"Sp. Atk\": 27, \"Sp. Def\": 25, \"Speed\": 35, \"Generation\": 6, \"Legendary\": false, \"Pred\": 55.297303959485426}, {\"#\": 665, \"Name\": \"Spewpa\", \"Type 1\": \"Bug\", \"Total\": 213, \"HP\": 45, \"Attack\": 22, \"Defense\": 60, \"Sp. Atk\": 27, \"Sp. Def\": 30, \"Speed\": 29, \"Generation\": 6, \"Legendary\": false, \"Pred\": 49.81819714941322}, {\"#\": 666, \"Name\": \"Vivillon\", \"Type 1\": \"Bug\", \"Total\": 411, \"HP\": 80, \"Attack\": 52, \"Defense\": 50, \"Sp. Atk\": 90, \"Sp. Def\": 50, \"Speed\": 89, \"Generation\": 6, \"Legendary\": false, \"Pred\": 62.46228978804138}, {\"#\": 667, \"Name\": \"Litleo\", \"Type 1\": \"Fire\", \"Total\": 369, \"HP\": 62, \"Attack\": 50, \"Defense\": 58, \"Sp. Atk\": 73, \"Sp. Def\": 54, \"Speed\": 72, \"Generation\": 6, \"Legendary\": false, \"Pred\": 61.6193502787995}, {\"#\": 668, \"Name\": \"Pyroar\", \"Type 1\": \"Fire\", \"Total\": 507, \"HP\": 86, \"Attack\": 68, \"Defense\": 72, \"Sp. Atk\": 109, \"Sp. Def\": 66, \"Speed\": 106, \"Generation\": 6, \"Legendary\": false, \"Pred\": 69.2058058619764}, {\"#\": 669, \"Name\": \"Flab\\u00e9b\\u00e9\", \"Type 1\": \"Fairy\", \"Total\": 303, \"HP\": 44, \"Attack\": 38, \"Defense\": 39, \"Sp. Atk\": 61, \"Sp. Def\": 79, \"Speed\": 42, \"Generation\": 6, \"Legendary\": false, \"Pred\": 56.56171322334824}, {\"#\": 670, \"Name\": \"Floette\", \"Type 1\": \"Fairy\", \"Total\": 371, \"HP\": 54, \"Attack\": 45, \"Defense\": 47, \"Sp. Atk\": 75, \"Sp. Def\": 98, \"Speed\": 52, \"Generation\": 6, \"Legendary\": false, \"Pred\": 59.51200150569481}, {\"#\": 671, \"Name\": \"Florges\", \"Type 1\": \"Fairy\", \"Total\": 552, \"HP\": 78, \"Attack\": 65, \"Defense\": 68, \"Sp. Atk\": 112, \"Sp. Def\": 154, \"Speed\": 75, \"Generation\": 6, \"Legendary\": false, \"Pred\": 67.94139659811358}, {\"#\": 672, \"Name\": \"Skiddo\", \"Type 1\": \"Grass\", \"Total\": 350, \"HP\": 66, \"Attack\": 65, \"Defense\": 48, \"Sp. Atk\": 62, \"Sp. Def\": 57, \"Speed\": 52, \"Generation\": 6, \"Legendary\": false, \"Pred\": 67.94139659811358}, {\"#\": 673, \"Name\": \"Gogoat\", \"Type 1\": \"Grass\", \"Total\": 531, \"HP\": 123, \"Attack\": 100, \"Defense\": 62, \"Sp. Atk\": 97, \"Sp. Def\": 81, \"Speed\": 68, \"Generation\": 6, \"Legendary\": false, \"Pred\": 82.69283800984644}, {\"#\": 674, \"Name\": \"Pancham\", \"Type 1\": \"Fighting\", \"Total\": 348, \"HP\": 67, \"Attack\": 82, \"Defense\": 62, \"Sp. Atk\": 46, \"Sp. Def\": 48, \"Speed\": 43, \"Generation\": 6, \"Legendary\": false, \"Pred\": 75.10638242666954}, {\"#\": 675, \"Name\": \"Pangoro\", \"Type 1\": \"Fighting\", \"Total\": 495, \"HP\": 95, \"Attack\": 124, \"Defense\": 78, \"Sp. Atk\": 69, \"Sp. Def\": 71, \"Speed\": 58, \"Generation\": 6, \"Legendary\": false, \"Pred\": 92.80811212074896}, {\"#\": 676, \"Name\": \"Furfrou\", \"Type 1\": \"Normal\", \"Total\": 472, \"HP\": 75, \"Attack\": 80, \"Defense\": 60, \"Sp. Atk\": 65, \"Sp. Def\": 90, \"Speed\": 102, \"Generation\": 6, \"Legendary\": false, \"Pred\": 74.26344291742765}, {\"#\": 677, \"Name\": \"Espurr\", \"Type 1\": \"Psychic\", \"Total\": 355, \"HP\": 62, \"Attack\": 48, \"Defense\": 54, \"Sp. Atk\": 63, \"Sp. Def\": 60, \"Speed\": 68, \"Generation\": 6, \"Legendary\": false, \"Pred\": 60.77641076955763}, {\"#\": 678, \"Name\": \"MeowsticMale\", \"Type 1\": \"Psychic\", \"Total\": 466, \"HP\": 74, \"Attack\": 48, \"Defense\": 76, \"Sp. Atk\": 83, \"Sp. Def\": 81, \"Speed\": 104, \"Generation\": 6, \"Legendary\": false, \"Pred\": 60.77641076955763}, {\"#\": 678, \"Name\": \"MeowsticFemale\", \"Type 1\": \"Psychic\", \"Total\": 466, \"HP\": 74, \"Attack\": 48, \"Defense\": 76, \"Sp. Atk\": 83, \"Sp. Def\": 81, \"Speed\": 104, \"Generation\": 6, \"Legendary\": false, \"Pred\": 60.77641076955763}, {\"#\": 679, \"Name\": \"Honedge\", \"Type 1\": \"Steel\", \"Total\": 325, \"HP\": 45, \"Attack\": 80, \"Defense\": 100, \"Sp. Atk\": 35, \"Sp. Def\": 37, \"Speed\": 28, \"Generation\": 6, \"Legendary\": false, \"Pred\": 74.26344291742765}, {\"#\": 680, \"Name\": \"Doublade\", \"Type 1\": \"Steel\", \"Total\": 448, \"HP\": 59, \"Attack\": 110, \"Defense\": 150, \"Sp. Atk\": 45, \"Sp. Def\": 49, \"Speed\": 35, \"Generation\": 6, \"Legendary\": false, \"Pred\": 86.90753555605582}, {\"#\": 681, \"Name\": \"AegislashBlade Forme\", \"Type 1\": \"Steel\", \"Total\": 520, \"HP\": 60, \"Attack\": 150, \"Defense\": 50, \"Sp. Atk\": 150, \"Sp. Def\": 50, \"Speed\": 60, \"Generation\": 6, \"Legendary\": false, \"Pred\": 103.76632574089336}, {\"#\": 681, \"Name\": \"AegislashShield Forme\", \"Type 1\": \"Steel\", \"Total\": 520, \"HP\": 60, \"Attack\": 50, \"Defense\": 150, \"Sp. Atk\": 50, \"Sp. Def\": 150, \"Speed\": 60, \"Generation\": 6, \"Legendary\": false, \"Pred\": 61.6193502787995}, {\"#\": 682, \"Name\": \"Spritzee\", \"Type 1\": \"Fairy\", \"Total\": 341, \"HP\": 78, \"Attack\": 52, \"Defense\": 60, \"Sp. Atk\": 63, \"Sp. Def\": 65, \"Speed\": 23, \"Generation\": 6, \"Legendary\": false, \"Pred\": 62.46228978804138}, {\"#\": 683, \"Name\": \"Aromatisse\", \"Type 1\": \"Fairy\", \"Total\": 462, \"HP\": 101, \"Attack\": 72, \"Defense\": 72, \"Sp. Atk\": 99, \"Sp. Def\": 89, \"Speed\": 29, \"Generation\": 6, \"Legendary\": false, \"Pred\": 70.89168488046016}, {\"#\": 684, \"Name\": \"Swirlix\", \"Type 1\": \"Fairy\", \"Total\": 341, \"HP\": 62, \"Attack\": 48, \"Defense\": 66, \"Sp. Atk\": 59, \"Sp. Def\": 57, \"Speed\": 49, \"Generation\": 6, \"Legendary\": false, \"Pred\": 60.77641076955763}, {\"#\": 685, \"Name\": \"Slurpuff\", \"Type 1\": \"Fairy\", \"Total\": 480, \"HP\": 82, \"Attack\": 80, \"Defense\": 86, \"Sp. Atk\": 85, \"Sp. Def\": 75, \"Speed\": 72, \"Generation\": 6, \"Legendary\": false, \"Pred\": 74.26344291742765}, {\"#\": 686, \"Name\": \"Inkay\", \"Type 1\": \"Dark\", \"Total\": 288, \"HP\": 53, \"Attack\": 54, \"Defense\": 53, \"Sp. Atk\": 37, \"Sp. Def\": 46, \"Speed\": 45, \"Generation\": 6, \"Legendary\": false, \"Pred\": 63.30522929728326}, {\"#\": 687, \"Name\": \"Malamar\", \"Type 1\": \"Dark\", \"Total\": 482, \"HP\": 86, \"Attack\": 92, \"Defense\": 88, \"Sp. Atk\": 68, \"Sp. Def\": 75, \"Speed\": 73, \"Generation\": 6, \"Legendary\": false, \"Pred\": 79.32107997287892}, {\"#\": 688, \"Name\": \"Binacle\", \"Type 1\": \"Rock\", \"Total\": 306, \"HP\": 42, \"Attack\": 52, \"Defense\": 67, \"Sp. Atk\": 39, \"Sp. Def\": 56, \"Speed\": 50, \"Generation\": 6, \"Legendary\": false, \"Pred\": 62.46228978804138}, {\"#\": 689, \"Name\": \"Barbaracle\", \"Type 1\": \"Rock\", \"Total\": 500, \"HP\": 72, \"Attack\": 105, \"Defense\": 115, \"Sp. Atk\": 54, \"Sp. Def\": 86, \"Speed\": 68, \"Generation\": 6, \"Legendary\": false, \"Pred\": 84.80018678295113}, {\"#\": 690, \"Name\": \"Skrelp\", \"Type 1\": \"Poison\", \"Total\": 320, \"HP\": 50, \"Attack\": 60, \"Defense\": 60, \"Sp. Atk\": 60, \"Sp. Def\": 60, \"Speed\": 30, \"Generation\": 6, \"Legendary\": false, \"Pred\": 65.8340478250089}, {\"#\": 691, \"Name\": \"Dragalge\", \"Type 1\": \"Poison\", \"Total\": 494, \"HP\": 65, \"Attack\": 75, \"Defense\": 90, \"Sp. Atk\": 97, \"Sp. Def\": 123, \"Speed\": 44, \"Generation\": 6, \"Legendary\": false, \"Pred\": 72.15609414432296}, {\"#\": 692, \"Name\": \"Clauncher\", \"Type 1\": \"Water\", \"Total\": 330, \"HP\": 50, \"Attack\": 53, \"Defense\": 62, \"Sp. Atk\": 58, \"Sp. Def\": 63, \"Speed\": 44, \"Generation\": 6, \"Legendary\": false, \"Pred\": 62.88375954266232}, {\"#\": 693, \"Name\": \"Clawitzer\", \"Type 1\": \"Water\", \"Total\": 500, \"HP\": 71, \"Attack\": 73, \"Defense\": 88, \"Sp. Atk\": 120, \"Sp. Def\": 89, \"Speed\": 59, \"Generation\": 6, \"Legendary\": false, \"Pred\": 71.31315463508109}, {\"#\": 694, \"Name\": \"Helioptile\", \"Type 1\": \"Electric\", \"Total\": 289, \"HP\": 44, \"Attack\": 38, \"Defense\": 33, \"Sp. Atk\": 61, \"Sp. Def\": 43, \"Speed\": 70, \"Generation\": 6, \"Legendary\": false, \"Pred\": 56.56171322334824}, {\"#\": 695, \"Name\": \"Heliolisk\", \"Type 1\": \"Electric\", \"Total\": 481, \"HP\": 62, \"Attack\": 55, \"Defense\": 52, \"Sp. Atk\": 109, \"Sp. Def\": 94, \"Speed\": 109, \"Generation\": 6, \"Legendary\": false, \"Pred\": 63.7266990519042}, {\"#\": 696, \"Name\": \"Tyrunt\", \"Type 1\": \"Rock\", \"Total\": 362, \"HP\": 58, \"Attack\": 89, \"Defense\": 77, \"Sp. Atk\": 45, \"Sp. Def\": 45, \"Speed\": 48, \"Generation\": 6, \"Legendary\": false, \"Pred\": 78.05667070901612}, {\"#\": 697, \"Name\": \"Tyrantrum\", \"Type 1\": \"Rock\", \"Total\": 521, \"HP\": 82, \"Attack\": 121, \"Defense\": 119, \"Sp. Atk\": 69, \"Sp. Def\": 59, \"Speed\": 71, \"Generation\": 6, \"Legendary\": false, \"Pred\": 91.54370285688614}, {\"#\": 698, \"Name\": \"Amaura\", \"Type 1\": \"Rock\", \"Total\": 362, \"HP\": 77, \"Attack\": 59, \"Defense\": 50, \"Sp. Atk\": 67, \"Sp. Def\": 63, \"Speed\": 46, \"Generation\": 6, \"Legendary\": false, \"Pred\": 65.41257807038795}, {\"#\": 699, \"Name\": \"Aurorus\", \"Type 1\": \"Rock\", \"Total\": 521, \"HP\": 123, \"Attack\": 77, \"Defense\": 72, \"Sp. Atk\": 99, \"Sp. Def\": 92, \"Speed\": 58, \"Generation\": 6, \"Legendary\": false, \"Pred\": 72.99903365356485}, {\"#\": 700, \"Name\": \"Sylveon\", \"Type 1\": \"Fairy\", \"Total\": 525, \"HP\": 95, \"Attack\": 65, \"Defense\": 65, \"Sp. Atk\": 110, \"Sp. Def\": 130, \"Speed\": 60, \"Generation\": 6, \"Legendary\": false, \"Pred\": 67.94139659811358}, {\"#\": 701, \"Name\": \"Hawlucha\", \"Type 1\": \"Fighting\", \"Total\": 500, \"HP\": 78, \"Attack\": 92, \"Defense\": 75, \"Sp. Atk\": 74, \"Sp. Def\": 63, \"Speed\": 118, \"Generation\": 6, \"Legendary\": false, \"Pred\": 79.32107997287892}, {\"#\": 702, \"Name\": \"Dedenne\", \"Type 1\": \"Electric\", \"Total\": 431, \"HP\": 67, \"Attack\": 58, \"Defense\": 57, \"Sp. Atk\": 81, \"Sp. Def\": 67, \"Speed\": 101, \"Generation\": 6, \"Legendary\": false, \"Pred\": 64.99110831576701}, {\"#\": 703, \"Name\": \"Carbink\", \"Type 1\": \"Rock\", \"Total\": 500, \"HP\": 50, \"Attack\": 50, \"Defense\": 150, \"Sp. Atk\": 50, \"Sp. Def\": 150, \"Speed\": 50, \"Generation\": 6, \"Legendary\": false, \"Pred\": 61.6193502787995}, {\"#\": 704, \"Name\": \"Goomy\", \"Type 1\": \"Dragon\", \"Total\": 300, \"HP\": 45, \"Attack\": 50, \"Defense\": 35, \"Sp. Atk\": 55, \"Sp. Def\": 75, \"Speed\": 40, \"Generation\": 6, \"Legendary\": false, \"Pred\": 61.6193502787995}, {\"#\": 705, \"Name\": \"Sliggoo\", \"Type 1\": \"Dragon\", \"Total\": 452, \"HP\": 68, \"Attack\": 75, \"Defense\": 53, \"Sp. Atk\": 83, \"Sp. Def\": 113, \"Speed\": 60, \"Generation\": 6, \"Legendary\": false, \"Pred\": 72.15609414432296}, {\"#\": 706, \"Name\": \"Goodra\", \"Type 1\": \"Dragon\", \"Total\": 600, \"HP\": 90, \"Attack\": 100, \"Defense\": 70, \"Sp. Atk\": 110, \"Sp. Def\": 150, \"Speed\": 80, \"Generation\": 6, \"Legendary\": false, \"Pred\": 82.69283800984644}, {\"#\": 707, \"Name\": \"Klefki\", \"Type 1\": \"Steel\", \"Total\": 470, \"HP\": 57, \"Attack\": 80, \"Defense\": 91, \"Sp. Atk\": 80, \"Sp. Def\": 87, \"Speed\": 75, \"Generation\": 6, \"Legendary\": false, \"Pred\": 74.26344291742765}, {\"#\": 708, \"Name\": \"Phantump\", \"Type 1\": \"Ghost\", \"Total\": 309, \"HP\": 43, \"Attack\": 70, \"Defense\": 48, \"Sp. Atk\": 50, \"Sp. Def\": 60, \"Speed\": 38, \"Generation\": 6, \"Legendary\": false, \"Pred\": 70.04874537121827}, {\"#\": 709, \"Name\": \"Trevenant\", \"Type 1\": \"Ghost\", \"Total\": 474, \"HP\": 85, \"Attack\": 110, \"Defense\": 76, \"Sp. Atk\": 65, \"Sp. Def\": 82, \"Speed\": 56, \"Generation\": 6, \"Legendary\": false, \"Pred\": 86.90753555605582}, {\"#\": 710, \"Name\": \"PumpkabooAverage Size\", \"Type 1\": \"Ghost\", \"Total\": 335, \"HP\": 49, \"Attack\": 66, \"Defense\": 70, \"Sp. Atk\": 44, \"Sp. Def\": 55, \"Speed\": 51, \"Generation\": 6, \"Legendary\": false, \"Pred\": 68.36286635273453}, {\"#\": 710, \"Name\": \"PumpkabooSmall Size\", \"Type 1\": \"Ghost\", \"Total\": 335, \"HP\": 44, \"Attack\": 66, \"Defense\": 70, \"Sp. Atk\": 44, \"Sp. Def\": 55, \"Speed\": 56, \"Generation\": 6, \"Legendary\": false, \"Pred\": 68.36286635273453}, {\"#\": 710, \"Name\": \"PumpkabooLarge Size\", \"Type 1\": \"Ghost\", \"Total\": 335, \"HP\": 54, \"Attack\": 66, \"Defense\": 70, \"Sp. Atk\": 44, \"Sp. Def\": 55, \"Speed\": 46, \"Generation\": 6, \"Legendary\": false, \"Pred\": 68.36286635273453}, {\"#\": 710, \"Name\": \"PumpkabooSuper Size\", \"Type 1\": \"Ghost\", \"Total\": 335, \"HP\": 59, \"Attack\": 66, \"Defense\": 70, \"Sp. Atk\": 44, \"Sp. Def\": 55, \"Speed\": 41, \"Generation\": 6, \"Legendary\": false, \"Pred\": 68.36286635273453}, {\"#\": 711, \"Name\": \"GourgeistAverage Size\", \"Type 1\": \"Ghost\", \"Total\": 494, \"HP\": 65, \"Attack\": 90, \"Defense\": 122, \"Sp. Atk\": 58, \"Sp. Def\": 75, \"Speed\": 84, \"Generation\": 6, \"Legendary\": false, \"Pred\": 78.47814046363705}, {\"#\": 711, \"Name\": \"GourgeistSmall Size\", \"Type 1\": \"Ghost\", \"Total\": 494, \"HP\": 55, \"Attack\": 85, \"Defense\": 122, \"Sp. Atk\": 58, \"Sp. Def\": 75, \"Speed\": 99, \"Generation\": 6, \"Legendary\": false, \"Pred\": 76.37079169053236}, {\"#\": 711, \"Name\": \"GourgeistLarge Size\", \"Type 1\": \"Ghost\", \"Total\": 494, \"HP\": 75, \"Attack\": 95, \"Defense\": 122, \"Sp. Atk\": 58, \"Sp. Def\": 75, \"Speed\": 69, \"Generation\": 6, \"Legendary\": false, \"Pred\": 80.58548923674174}, {\"#\": 711, \"Name\": \"GourgeistSuper Size\", \"Type 1\": \"Ghost\", \"Total\": 494, \"HP\": 85, \"Attack\": 100, \"Defense\": 122, \"Sp. Atk\": 58, \"Sp. Def\": 75, \"Speed\": 54, \"Generation\": 6, \"Legendary\": false, \"Pred\": 82.69283800984644}, {\"#\": 712, \"Name\": \"Bergmite\", \"Type 1\": \"Ice\", \"Total\": 304, \"HP\": 55, \"Attack\": 69, \"Defense\": 85, \"Sp. Atk\": 32, \"Sp. Def\": 35, \"Speed\": 28, \"Generation\": 6, \"Legendary\": false, \"Pred\": 69.62727561659733}, {\"#\": 713, \"Name\": \"Avalugg\", \"Type 1\": \"Ice\", \"Total\": 514, \"HP\": 95, \"Attack\": 117, \"Defense\": 184, \"Sp. Atk\": 44, \"Sp. Def\": 46, \"Speed\": 28, \"Generation\": 6, \"Legendary\": false, \"Pred\": 89.8578238384024}, {\"#\": 714, \"Name\": \"Noibat\", \"Type 1\": \"Flying\", \"Total\": 245, \"HP\": 40, \"Attack\": 30, \"Defense\": 35, \"Sp. Atk\": 45, \"Sp. Def\": 40, \"Speed\": 55, \"Generation\": 6, \"Legendary\": false, \"Pred\": 53.189955186380736}, {\"#\": 715, \"Name\": \"Noivern\", \"Type 1\": \"Flying\", \"Total\": 535, \"HP\": 85, \"Attack\": 70, \"Defense\": 80, \"Sp. Atk\": 97, \"Sp. Def\": 80, \"Speed\": 123, \"Generation\": 6, \"Legendary\": false, \"Pred\": 70.04874537121827}, {\"#\": 716, \"Name\": \"Xerneas\", \"Type 1\": \"Fairy\", \"Total\": 680, \"HP\": 126, \"Attack\": 131, \"Defense\": 95, \"Sp. Atk\": 131, \"Sp. Def\": 98, \"Speed\": 99, \"Generation\": 6, \"Legendary\": true, \"Pred\": 95.75840040309552}, {\"#\": 717, \"Name\": \"Yveltal\", \"Type 1\": \"Dark\", \"Total\": 680, \"HP\": 126, \"Attack\": 131, \"Defense\": 95, \"Sp. Atk\": 131, \"Sp. Def\": 98, \"Speed\": 99, \"Generation\": 6, \"Legendary\": true, \"Pred\": 95.75840040309552}, {\"#\": 718, \"Name\": \"Zygarde50% Forme\", \"Type 1\": \"Dragon\", \"Total\": 600, \"HP\": 108, \"Attack\": 100, \"Defense\": 121, \"Sp. Atk\": 81, \"Sp. Def\": 95, \"Speed\": 95, \"Generation\": 6, \"Legendary\": true, \"Pred\": 82.69283800984644}, {\"#\": 719, \"Name\": \"Diancie\", \"Type 1\": \"Rock\", \"Total\": 600, \"HP\": 50, \"Attack\": 100, \"Defense\": 150, \"Sp. Atk\": 100, \"Sp. Def\": 150, \"Speed\": 50, \"Generation\": 6, \"Legendary\": true, \"Pred\": 82.69283800984644}, {\"#\": 719, \"Name\": \"DiancieMega Diancie\", \"Type 1\": \"Rock\", \"Total\": 700, \"HP\": 50, \"Attack\": 160, \"Defense\": 110, \"Sp. Atk\": 160, \"Sp. Def\": 110, \"Speed\": 110, \"Generation\": 6, \"Legendary\": true, \"Pred\": 107.98102328710274}, {\"#\": 720, \"Name\": \"HoopaHoopa Confined\", \"Type 1\": \"Psychic\", \"Total\": 600, \"HP\": 80, \"Attack\": 110, \"Defense\": 60, \"Sp. Atk\": 150, \"Sp. Def\": 130, \"Speed\": 70, \"Generation\": 6, \"Legendary\": true, \"Pred\": 86.90753555605582}, {\"#\": 720, \"Name\": \"HoopaHoopa Unbound\", \"Type 1\": \"Psychic\", \"Total\": 680, \"HP\": 80, \"Attack\": 160, \"Defense\": 60, \"Sp. Atk\": 170, \"Sp. Def\": 130, \"Speed\": 80, \"Generation\": 6, \"Legendary\": true, \"Pred\": 107.98102328710274}, {\"#\": 721, \"Name\": \"Volcanion\", \"Type 1\": \"Fire\", \"Total\": 600, \"HP\": 80, \"Attack\": 110, \"Defense\": 120, \"Sp. Atk\": 130, \"Sp. Def\": 90, \"Speed\": 70, \"Generation\": 6, \"Legendary\": true, \"Pred\": 86.90753555605582}]}}, {\"mode\": \"vega-lite\"});\n</script>",
      "text/plain": "alt.LayerChart(...)"
     },
     "metadata": {}
    }
   ]
  },
  {
   "cell_type": "markdown",
   "source": "By the graph above, we can easily confirm that there is a positive trend between Attack and Defense for each Pokemon. ",
   "metadata": {
    "cell_id": "80dbdfddfbd64fda8c2547853c9e7723",
    "tags": [],
    "deepnote_cell_type": "markdown",
    "deepnote_cell_height": 74.75
   }
  },
  {
   "cell_type": "markdown",
   "source": "<Font Size =5>\nNext, I am interested in predicting the Pokemon's generation by Pokemon's attack and Defense",
   "metadata": {
    "cell_id": "9f8cc42cb763462f853da7d9b57f672b",
    "tags": [],
    "deepnote_cell_type": "markdown",
    "deepnote_cell_height": 106.75
   }
  },
  {
   "cell_type": "code",
   "metadata": {
    "cell_id": "111b8932f5d542189d60d8f0dd4c3ed9",
    "tags": [],
    "deepnote_to_be_reexecuted": false,
    "source_hash": "27b920d0",
    "execution_start": 1654751750929,
    "execution_millis": 60,
    "deepnote_cell_type": "code",
    "deepnote_cell_height": 170.953125
   },
   "source": "from sklearn.neighbors import KNeighborsClassifier\nfrom sklearn.preprocessing import StandardScaler\nfrom sklearn.metrics import log_loss\nfrom sklearn.model_selection import train_test_split\nfrom sklearn.metrics import mean_squared_error, mean_absolute_error\nimport numpy as np",
   "execution_count": null,
   "outputs": []
  },
  {
   "cell_type": "markdown",
   "source": "Before we do any further prediction, we need to make the generations become string instead of \"int\", so the numbers in the generation column don't actually have any numerical meaning, but only represents level, and then rename the column to avoid the two being messed up\n\n",
   "metadata": {
    "cell_id": "4384b82f418b4ec095ef4be4f6a38d53",
    "tags": [],
    "deepnote_cell_type": "markdown",
    "deepnote_cell_height": 97.140625
   }
  },
  {
   "cell_type": "code",
   "metadata": {
    "cell_id": "cdab63571b5d46738deb7ac326412992",
    "tags": [],
    "deepnote_to_be_reexecuted": false,
    "source_hash": "17f0fe63",
    "execution_start": 1654751751007,
    "execution_millis": 4,
    "deepnote_cell_type": "code",
    "deepnote_cell_height": 80.953125
   },
   "source": "df[\"Generation1\"]=df[\"Generation\"].apply(str)",
   "execution_count": null,
   "outputs": []
  },
  {
   "cell_type": "code",
   "metadata": {
    "cell_id": "46d4d38ae1464c598d1e9cf710a2fdee",
    "tags": [],
    "deepnote_to_be_reexecuted": false,
    "source_hash": "7dd47c73",
    "execution_start": 1654751751022,
    "execution_millis": 1,
    "deepnote_cell_type": "code",
    "deepnote_cell_height": 98.953125
   },
   "source": "cols=[\"Attack\",\"Defense\"] #Make a sub dataframe that only containes the necessary input that we want\ndf[\"is_1\"]=(df[\"Generation1\"]==\"1\") #Make the new colnmn that returns \"True\" if the pokemon's generation is one, otherwise returns \"False\" ",
   "execution_count": null,
   "outputs": []
  },
  {
   "cell_type": "markdown",
   "source": "Since the original dataset is a little large, make a train test split to divide dataset would make better and more accurate prediction",
   "metadata": {
    "cell_id": "5faa7d47334f41e485487127580a7fce",
    "tags": [],
    "deepnote_cell_type": "markdown",
    "deepnote_cell_height": 74.75
   }
  },
  {
   "cell_type": "code",
   "metadata": {
    "cell_id": "82cb73f06fea45768562a1b830c5644b",
    "tags": [],
    "deepnote_to_be_reexecuted": false,
    "source_hash": "3f0b8411",
    "execution_start": 1654751751042,
    "execution_millis": 3,
    "deepnote_cell_type": "code",
    "deepnote_cell_height": 80.953125
   },
   "source": "X_train, X_test, y_train, y_test = train_test_split(df[cols], df[\"is_1\"], test_size=0.2, random_state=0)",
   "execution_count": null,
   "outputs": []
  },
  {
   "cell_type": "code",
   "metadata": {
    "cell_id": "be33a5730eb24d9da873049726b73f8c",
    "tags": [],
    "deepnote_to_be_reexecuted": false,
    "source_hash": "9370c421",
    "execution_start": 1654751751050,
    "execution_millis": 44,
    "deepnote_cell_type": "code",
    "deepnote_cell_height": 171.953125
   },
   "source": "from sklearn.linear_model import LogisticRegression #import\nclf=LogisticRegression()\nclf.fit(X_train, y_train) #fit\n(clf.predict(X_test) == y_test).sum() # How often were we correct?",
   "execution_count": null,
   "outputs": [
    {
     "output_type": "execute_result",
     "execution_count": 11,
     "data": {
      "text/plain": "131"
     },
     "metadata": {}
    }
   ]
  },
  {
   "cell_type": "code",
   "metadata": {
    "cell_id": "16dcac17984247188a36b278cf525564",
    "tags": [],
    "deepnote_to_be_reexecuted": false,
    "source_hash": "aba83c0e",
    "execution_start": 1654751751083,
    "execution_millis": 11,
    "deepnote_cell_type": "code",
    "deepnote_cell_height": 135.9375
   },
   "source": "# The proportion from the whole dataset that we made correct prediction\n(clf.predict(X_test) == y_test).sum()/len(X_test)",
   "execution_count": null,
   "outputs": [
    {
     "output_type": "execute_result",
     "execution_count": 12,
     "data": {
      "text/plain": "0.81875"
     },
     "metadata": {}
    }
   ]
  },
  {
   "cell_type": "markdown",
   "source": "Since clf.coef_would return a length-2 array, we need to make sure that we get the right coefficient by specifing the index",
   "metadata": {
    "cell_id": "b6eb19cbc17948bf900445bc604582df",
    "tags": [],
    "deepnote_to_be_reexecuted": false,
    "source_hash": "fd5b5e6e",
    "execution_start": 1654749641850,
    "execution_millis": 5,
    "deepnote_cell_type": "markdown",
    "deepnote_cell_height": 74.75
   }
  },
  {
   "cell_type": "code",
   "metadata": {
    "cell_id": "c14a5dffe5934bdea81e373020872e1a",
    "tags": [],
    "deepnote_to_be_reexecuted": false,
    "source_hash": "41e15e20",
    "execution_start": 1654751751139,
    "execution_millis": 2,
    "deepnote_cell_type": "code",
    "deepnote_cell_height": 153.953125
   },
   "source": "clf.coef_\nAttack_coef,Defense_coef=clf.coef_[0]\nDefense_coef",
   "execution_count": null,
   "outputs": [
    {
     "output_type": "execute_result",
     "execution_count": 13,
     "data": {
      "text/plain": "-0.004358914889161834"
     },
     "metadata": {}
    }
   ]
  },
  {
   "cell_type": "markdown",
   "source": "What does our model predict if we have the attack is 140 and the defense is 87?",
   "metadata": {
    "cell_id": "db2c1adac05f4da599354421d3401f2d",
    "tags": [],
    "deepnote_cell_type": "markdown",
    "deepnote_cell_height": 52.359375
   }
  },
  {
   "cell_type": "code",
   "metadata": {
    "cell_id": "51ee3f94436c4528b5547af7d84700df",
    "tags": [],
    "deepnote_to_be_reexecuted": false,
    "source_hash": "1626cbeb",
    "execution_start": 1654751751140,
    "execution_millis": 1,
    "deepnote_cell_type": "code",
    "deepnote_cell_height": 172.140625,
    "deepnote_output_heights": [
     21.1875
    ]
   },
   "source": "sigmoid = lambda x: 1/(1+np.exp(-x))\nAttack = 140\nDefense = 87\nsigmoid(Attack_coef*Attack+Defense_coef*Defense+clf.intercept_)",
   "execution_count": null,
   "outputs": [
    {
     "output_type": "execute_result",
     "execution_count": 14,
     "data": {
      "text/plain": "array([0.22464458])"
     },
     "metadata": {}
    }
   ]
  },
  {
   "cell_type": "markdown",
   "source": "Hence, we can interpret this as our model predicts that this pokemon with(attack 140 and Defense 87) has a 22% chance of being a 1th generation Pokemon. Double check with predict_proba",
   "metadata": {
    "cell_id": "0b47ed8542e0439bb5a9a8640da0a9f5",
    "tags": [],
    "deepnote_cell_type": "markdown",
    "deepnote_cell_height": 74.75
   }
  },
  {
   "cell_type": "code",
   "metadata": {
    "cell_id": "c6faa1406d4b408f8c26379c02c6c586",
    "tags": [],
    "deepnote_to_be_reexecuted": false,
    "source_hash": "de16faa4",
    "execution_start": 1654751751150,
    "execution_millis": 0,
    "deepnote_cell_type": "code",
    "deepnote_cell_height": 187.984375,
    "deepnote_output_heights": [
     null,
     21.1875
    ]
   },
   "source": "clf.predict_proba([[Attack,Defense]]) #The first array says that there is a 77.53% chance of this pokemon is not a 1st generation, and the second array gives the same result as the sigmoid function gives.",
   "execution_count": null,
   "outputs": [
    {
     "name": "stderr",
     "text": "/shared-libs/python3.7/py/lib/python3.7/site-packages/sklearn/base.py:451: UserWarning: X does not have valid feature names, but LogisticRegression was fitted with feature names\n  \"X does not have valid feature names, but\"\n",
     "output_type": "stream"
    },
    {
     "output_type": "execute_result",
     "execution_count": 15,
     "data": {
      "text/plain": "array([[0.77535542, 0.22464458]])"
     },
     "metadata": {}
    }
   ]
  },
  {
   "cell_type": "code",
   "metadata": {
    "cell_id": "b1b6977326bd4414b7746eb7f1685632",
    "tags": [],
    "deepnote_to_be_reexecuted": false,
    "source_hash": "42cfa5d2",
    "execution_start": 1654751751205,
    "execution_millis": 5,
    "deepnote_cell_type": "code",
    "deepnote_cell_height": 134.953125
   },
   "source": "clf = KNeighborsClassifier()\nclf.fit(X_train, y_train)\nloss_train=log_loss(y_train, clf.predict_proba(X_train))\nloss_test=log_loss(y_test,clf.predict_proba(X_test))",
   "execution_count": null,
   "outputs": []
  },
  {
   "cell_type": "code",
   "metadata": {
    "cell_id": "4811e7f16aaa42809552a66245d41436",
    "tags": [],
    "deepnote_to_be_reexecuted": false,
    "source_hash": "1629cd6a",
    "execution_start": 1654751751207,
    "execution_millis": 3,
    "deepnote_cell_type": "code",
    "deepnote_cell_height": 118.140625,
    "deepnote_output_heights": [
     21.1875
    ]
   },
   "source": "loss_train #the log loss for x_train and y_train is about 0.379",
   "execution_count": null,
   "outputs": [
    {
     "output_type": "execute_result",
     "execution_count": 17,
     "data": {
      "text/plain": "0.37936574298643205"
     },
     "metadata": {}
    }
   ]
  },
  {
   "cell_type": "code",
   "metadata": {
    "cell_id": "c7c0b60310ea4a2a99c593b2fc5efd85",
    "tags": [],
    "deepnote_to_be_reexecuted": false,
    "source_hash": "6b149199",
    "execution_start": 1654751751207,
    "execution_millis": 4,
    "deepnote_cell_type": "code",
    "deepnote_cell_height": 118.140625,
    "deepnote_output_heights": [
     21.1875
    ]
   },
   "source": "loss_test #the log loss for x_test and y_test is about 2.110",
   "execution_count": null,
   "outputs": [
    {
     "output_type": "execute_result",
     "execution_count": 18,
     "data": {
      "text/plain": "2.110437076931544"
     },
     "metadata": {}
    }
   ]
  },
  {
   "cell_type": "markdown",
   "source": "Since the log loss of the testing data is larger, so there is a sign of overfitting. And from the coefficient that we get from the logistic prediction, we can tell that there is little relationship between the input:attack and defense with the output:Pokemon's generation. It is not what we think that bigger attack and defense value lead to higher generation. Instead, different generations of pokemon might give the same amount of attack and defense.",
   "metadata": {
    "cell_id": "6c5f528d7c314687a5103072a9b0897d",
    "tags": [],
    "deepnote_cell_type": "markdown",
    "deepnote_cell_height": 141.9375
   }
  },
  {
   "cell_type": "markdown",
   "source": "Since there is little connection between Pokemon's Attack and Defense with Pokemon's generation. I am interested in finding how does attack and defense related to the special attack of the pokemons.",
   "metadata": {
    "cell_id": "ee2d5945eecb490bbda35bd7aa905cbc",
    "tags": [],
    "deepnote_cell_type": "markdown",
    "deepnote_cell_height": 74.75
   }
  },
  {
   "cell_type": "markdown",
   "source": "<Font size = 5>\nNext, I wonder How does Attack and Defense are related to the Sp.Atk(which mean special attck) of a pokemon",
   "metadata": {
    "cell_id": "242f7066f06e448daf50b5cf5906294c",
    "tags": [],
    "deepnote_cell_type": "markdown",
    "deepnote_cell_height": 106.75
   }
  },
  {
   "cell_type": "code",
   "metadata": {
    "cell_id": "4e36846c39c347b18846b197906d610b",
    "tags": [],
    "deepnote_to_be_reexecuted": false,
    "source_hash": "f77a4443",
    "execution_start": 1654751751219,
    "execution_millis": 17,
    "deepnote_cell_type": "code",
    "deepnote_cell_height": 599.875
   },
   "source": "df[cols]",
   "execution_count": null,
   "outputs": [
    {
     "output_type": "execute_result",
     "execution_count": 19,
     "data": {
      "application/vnd.deepnote.dataframe.v3+json": {
       "column_count": 2,
       "row_count": 800,
       "columns": [
        {
         "name": "Attack",
         "dtype": "int64",
         "stats": {
          "unique_count": 111,
          "nan_count": 0,
          "min": "5",
          "max": "190",
          "histogram": [
           {
            "bin_start": 5,
            "bin_end": 23.5,
            "count": 16
           },
           {
            "bin_start": 23.5,
            "bin_end": 42,
            "count": 71
           },
           {
            "bin_start": 42,
            "bin_end": 60.5,
            "count": 173
           },
           {
            "bin_start": 60.5,
            "bin_end": 79,
            "count": 161
           },
           {
            "bin_start": 79,
            "bin_end": 97.5,
            "count": 166
           },
           {
            "bin_start": 97.5,
            "bin_end": 116,
            "count": 101
           },
           {
            "bin_start": 116,
            "bin_end": 134.5,
            "count": 65
           },
           {
            "bin_start": 134.5,
            "bin_end": 153,
            "count": 29
           },
           {
            "bin_start": 153,
            "bin_end": 171.5,
            "count": 13
           },
           {
            "bin_start": 171.5,
            "bin_end": 190,
            "count": 5
           }
          ]
         }
        },
        {
         "name": "Defense",
         "dtype": "int64",
         "stats": {
          "unique_count": 103,
          "nan_count": 0,
          "min": "5",
          "max": "230",
          "histogram": [
           {
            "bin_start": 5,
            "bin_end": 27.5,
            "count": 14
           },
           {
            "bin_start": 27.5,
            "bin_end": 50,
            "count": 149
           },
           {
            "bin_start": 50,
            "bin_end": 72.5,
            "count": 283
           },
           {
            "bin_start": 72.5,
            "bin_end": 95,
            "count": 170
           },
           {
            "bin_start": 95,
            "bin_end": 117.5,
            "count": 111
           },
           {
            "bin_start": 117.5,
            "bin_end": 140,
            "count": 45
           },
           {
            "bin_start": 140,
            "bin_end": 162.5,
            "count": 18
           },
           {
            "bin_start": 162.5,
            "bin_end": 185,
            "count": 5
           },
           {
            "bin_start": 185,
            "bin_end": 207.5,
            "count": 2
           },
           {
            "bin_start": 207.5,
            "bin_end": 230,
            "count": 3
           }
          ]
         }
        },
        {
         "name": "_deepnote_index_column",
         "dtype": "int64"
        }
       ],
       "rows": [
        {
         "Attack": 49,
         "Defense": 49,
         "_deepnote_index_column": 0
        },
        {
         "Attack": 62,
         "Defense": 63,
         "_deepnote_index_column": 1
        },
        {
         "Attack": 82,
         "Defense": 83,
         "_deepnote_index_column": 2
        },
        {
         "Attack": 100,
         "Defense": 123,
         "_deepnote_index_column": 3
        },
        {
         "Attack": 52,
         "Defense": 43,
         "_deepnote_index_column": 4
        },
        {
         "Attack": 64,
         "Defense": 58,
         "_deepnote_index_column": 5
        },
        {
         "Attack": 84,
         "Defense": 78,
         "_deepnote_index_column": 6
        },
        {
         "Attack": 130,
         "Defense": 111,
         "_deepnote_index_column": 7
        },
        {
         "Attack": 104,
         "Defense": 78,
         "_deepnote_index_column": 8
        },
        {
         "Attack": 48,
         "Defense": 65,
         "_deepnote_index_column": 9
        }
       ]
      },
      "text/plain": "     Attack  Defense\n0        49       49\n1        62       63\n2        82       83\n3       100      123\n4        52       43\n..      ...      ...\n795     100      150\n796     160      110\n797     110       60\n798     160       60\n799     110      120\n\n[800 rows x 2 columns]",
      "text/html": "<div>\n<style scoped>\n    .dataframe tbody tr th:only-of-type {\n        vertical-align: middle;\n    }\n\n    .dataframe tbody tr th {\n        vertical-align: top;\n    }\n\n    .dataframe thead th {\n        text-align: right;\n    }\n</style>\n<table border=\"1\" class=\"dataframe\">\n  <thead>\n    <tr style=\"text-align: right;\">\n      <th></th>\n      <th>Attack</th>\n      <th>Defense</th>\n    </tr>\n  </thead>\n  <tbody>\n    <tr>\n      <th>0</th>\n      <td>49</td>\n      <td>49</td>\n    </tr>\n    <tr>\n      <th>1</th>\n      <td>62</td>\n      <td>63</td>\n    </tr>\n    <tr>\n      <th>2</th>\n      <td>82</td>\n      <td>83</td>\n    </tr>\n    <tr>\n      <th>3</th>\n      <td>100</td>\n      <td>123</td>\n    </tr>\n    <tr>\n      <th>4</th>\n      <td>52</td>\n      <td>43</td>\n    </tr>\n    <tr>\n      <th>...</th>\n      <td>...</td>\n      <td>...</td>\n    </tr>\n    <tr>\n      <th>795</th>\n      <td>100</td>\n      <td>150</td>\n    </tr>\n    <tr>\n      <th>796</th>\n      <td>160</td>\n      <td>110</td>\n    </tr>\n    <tr>\n      <th>797</th>\n      <td>110</td>\n      <td>60</td>\n    </tr>\n    <tr>\n      <th>798</th>\n      <td>160</td>\n      <td>60</td>\n    </tr>\n    <tr>\n      <th>799</th>\n      <td>110</td>\n      <td>120</td>\n    </tr>\n  </tbody>\n</table>\n<p>800 rows × 2 columns</p>\n</div>"
     },
     "metadata": {}
    }
   ]
  },
  {
   "cell_type": "markdown",
   "source": "I still want to divide my dataset into two datasets and make my prediction.",
   "metadata": {
    "cell_id": "e41a816846014d4ea99e2ebc84cec4cd",
    "tags": [],
    "deepnote_cell_type": "markdown",
    "deepnote_cell_height": 52.359375
   }
  },
  {
   "cell_type": "code",
   "metadata": {
    "cell_id": "748e1ce1a08840f7b35bef79de915a3b",
    "tags": [],
    "deepnote_to_be_reexecuted": false,
    "source_hash": "3e8ebe8a",
    "execution_start": 1654751751299,
    "execution_millis": 1428541,
    "deepnote_cell_type": "code",
    "deepnote_cell_height": 80.953125
   },
   "source": "X_train1, X_test1, y_train1, y_test1 = train_test_split(df[cols], df[\"Sp. Atk\"], train_size=0.25)",
   "execution_count": null,
   "outputs": []
  },
  {
   "cell_type": "code",
   "metadata": {
    "cell_id": "ee15d60b3c164ec893ba214559044295",
    "tags": [],
    "deepnote_to_be_reexecuted": false,
    "source_hash": "f6ed5f64",
    "execution_start": 1654751751299,
    "execution_millis": 17,
    "deepnote_cell_type": "code",
    "deepnote_cell_height": 599.875
   },
   "source": "X_train1",
   "execution_count": null,
   "outputs": [
    {
     "output_type": "execute_result",
     "execution_count": 21,
     "data": {
      "application/vnd.deepnote.dataframe.v3+json": {
       "column_count": 2,
       "row_count": 200,
       "columns": [
        {
         "name": "Attack",
         "dtype": "int64",
         "stats": {
          "unique_count": 66,
          "nan_count": 0,
          "min": "5",
          "max": "180",
          "histogram": [
           {
            "bin_start": 5,
            "bin_end": 22.5,
            "count": 4
           },
           {
            "bin_start": 22.5,
            "bin_end": 40,
            "count": 13
           },
           {
            "bin_start": 40,
            "bin_end": 57.5,
            "count": 49
           },
           {
            "bin_start": 57.5,
            "bin_end": 75,
            "count": 38
           },
           {
            "bin_start": 75,
            "bin_end": 92.5,
            "count": 38
           },
           {
            "bin_start": 92.5,
            "bin_end": 110,
            "count": 25
           },
           {
            "bin_start": 110,
            "bin_end": 127.5,
            "count": 18
           },
           {
            "bin_start": 127.5,
            "bin_end": 145,
            "count": 10
           },
           {
            "bin_start": 145,
            "bin_end": 162.5,
            "count": 3
           },
           {
            "bin_start": 162.5,
            "bin_end": 180,
            "count": 2
           }
          ]
         }
        },
        {
         "name": "Defense",
         "dtype": "int64",
         "stats": {
          "unique_count": 63,
          "nan_count": 0,
          "min": "5",
          "max": "230",
          "histogram": [
           {
            "bin_start": 5,
            "bin_end": 27.5,
            "count": 2
           },
           {
            "bin_start": 27.5,
            "bin_end": 50,
            "count": 46
           },
           {
            "bin_start": 50,
            "bin_end": 72.5,
            "count": 69
           },
           {
            "bin_start": 72.5,
            "bin_end": 95,
            "count": 36
           },
           {
            "bin_start": 95,
            "bin_end": 117.5,
            "count": 29
           },
           {
            "bin_start": 117.5,
            "bin_end": 140,
            "count": 12
           },
           {
            "bin_start": 140,
            "bin_end": 162.5,
            "count": 3
           },
           {
            "bin_start": 162.5,
            "bin_end": 185,
            "count": 0
           },
           {
            "bin_start": 185,
            "bin_end": 207.5,
            "count": 2
           },
           {
            "bin_start": 207.5,
            "bin_end": 230,
            "count": 1
           }
          ]
         }
        },
        {
         "name": "_deepnote_index_column",
         "dtype": "int64"
        }
       ],
       "rows": [
        {
         "Attack": 55,
         "Defense": 52,
         "_deepnote_index_column": 765
        },
        {
         "Attack": 57,
         "Defense": 55,
         "_deepnote_index_column": 587
        },
        {
         "Attack": 85,
         "Defense": 100,
         "_deepnote_index_column": 156
        },
        {
         "Attack": 132,
         "Defense": 105,
         "_deepnote_index_column": 511
        },
        {
         "Attack": 70,
         "Defense": 130,
         "_deepnote_index_column": 389
        },
        {
         "Attack": 55,
         "Defense": 50,
         "_deepnote_index_column": 144
        },
        {
         "Attack": 130,
         "Defense": 60,
         "_deepnote_index_column": 392
        },
        {
         "Attack": 125,
         "Defense": 100,
         "_deepnote_index_column": 136
        },
        {
         "Attack": 82,
         "Defense": 100,
         "_deepnote_index_column": 168
        },
        {
         "Attack": 130,
         "Defense": 80,
         "_deepnote_index_column": 310
        }
       ]
      },
      "text/plain": "     Attack  Defense\n765      55       52\n587      57       55\n156      85      100\n511     132      105\n389      70      130\n..      ...      ...\n267     134      110\n509      62       50\n668      30       55\n223      85      200\n406      75       60\n\n[200 rows x 2 columns]",
      "text/html": "<div>\n<style scoped>\n    .dataframe tbody tr th:only-of-type {\n        vertical-align: middle;\n    }\n\n    .dataframe tbody tr th {\n        vertical-align: top;\n    }\n\n    .dataframe thead th {\n        text-align: right;\n    }\n</style>\n<table border=\"1\" class=\"dataframe\">\n  <thead>\n    <tr style=\"text-align: right;\">\n      <th></th>\n      <th>Attack</th>\n      <th>Defense</th>\n    </tr>\n  </thead>\n  <tbody>\n    <tr>\n      <th>765</th>\n      <td>55</td>\n      <td>52</td>\n    </tr>\n    <tr>\n      <th>587</th>\n      <td>57</td>\n      <td>55</td>\n    </tr>\n    <tr>\n      <th>156</th>\n      <td>85</td>\n      <td>100</td>\n    </tr>\n    <tr>\n      <th>511</th>\n      <td>132</td>\n      <td>105</td>\n    </tr>\n    <tr>\n      <th>389</th>\n      <td>70</td>\n      <td>130</td>\n    </tr>\n    <tr>\n      <th>...</th>\n      <td>...</td>\n      <td>...</td>\n    </tr>\n    <tr>\n      <th>267</th>\n      <td>134</td>\n      <td>110</td>\n    </tr>\n    <tr>\n      <th>509</th>\n      <td>62</td>\n      <td>50</td>\n    </tr>\n    <tr>\n      <th>668</th>\n      <td>30</td>\n      <td>55</td>\n    </tr>\n    <tr>\n      <th>223</th>\n      <td>85</td>\n      <td>200</td>\n    </tr>\n    <tr>\n      <th>406</th>\n      <td>75</td>\n      <td>60</td>\n    </tr>\n  </tbody>\n</table>\n<p>200 rows × 2 columns</p>\n</div>"
     },
     "metadata": {}
    }
   ]
  },
  {
   "cell_type": "markdown",
   "source": "<font size =4>Make our prediction and find the MSE and MAE to evaluate the prediction performance",
   "metadata": {
    "cell_id": "d8d07b77fec343748ae897d7d72e30c5",
    "tags": [],
    "deepnote_cell_type": "markdown",
    "deepnote_cell_height": 87.546875
   }
  },
  {
   "cell_type": "code",
   "metadata": {
    "cell_id": "2c4976e23dda4387b21ada98aabce594",
    "tags": [],
    "deepnote_to_be_reexecuted": false,
    "source_hash": "353a2fc7",
    "execution_start": 1654751751362,
    "execution_millis": 2,
    "deepnote_cell_type": "code",
    "deepnote_cell_height": 368.578125
   },
   "source": "from sklearn.linear_model import LinearRegression\nfrom sklearn.metrics import mean_squared_error\nreg1=LinearRegression()\nreg1.fit(X_train1,y_train1)\nMSE1 = mean_squared_error(y_train1,reg1.predict(X_train1))\nMAE1 = mean_absolute_error(y_train1,reg1.predict(X_train1))\nX_train1[\"Pred\"]=reg1.predict(X_train1)\nX_test1[\"Pred\"]=reg1.predict(X_test1)\nprint(f\"the coefficients of reg1 are {reg1.coef_}\")\nprint(f\"the intercept of reg1 is {reg1.intercept_}.\")\nprint(f'The Mean square error is {MSE1:.3f}')\nprint(f'The Mean absolute error is {MAE1:.3f}')",
   "execution_count": null,
   "outputs": [
    {
     "name": "stdout",
     "text": "the coefficients of reg1 are [0.45471745 0.01710352]\nthe intercept of reg1 is 33.51731900993459.\nThe Mean square error is 789.539\nThe Mean absolute error is 22.997\n",
     "output_type": "stream"
    }
   ]
  },
  {
   "cell_type": "markdown",
   "source": "in this case the MSE is much greater than MAE because MSE punishes outlier very heavily. ",
   "metadata": {
    "cell_id": "b98b78a5278c415f8648a00b51fcacfa",
    "tags": [],
    "deepnote_cell_type": "markdown",
    "deepnote_cell_height": 52.359375
   }
  },
  {
   "cell_type": "code",
   "metadata": {
    "cell_id": "c6563b5212f44c21941f9d795b9784af",
    "tags": [],
    "deepnote_to_be_reexecuted": false,
    "source_hash": "1de58c10",
    "execution_start": 1654751751434,
    "execution_millis": 14,
    "deepnote_cell_type": "code",
    "deepnote_cell_height": 655.9375,
    "deepnote_output_heights": [
     360.984375
    ]
   },
   "source": "#Make chart of both the prediction\n #draw the linear regression line prediction chart\nc3 = alt.Chart(X_train1).mark_circle().encode(\n    x=\"Attack\",\n    y=\"Defense\"\n)\nc4=alt.Chart(X_train1).mark_line(color=\"red\").encode(\n    x=\"Attack\",\n    y=\"Pred\"\n)\nc3+c4\n",
   "execution_count": null,
   "outputs": [
    {
     "output_type": "execute_result",
     "execution_count": 23,
     "data": {
      "text/html": "\n<div id=\"altair-viz-cef55af729204921845ac254c20a33a5\"></div>\n<script type=\"text/javascript\">\n  (function(spec, embedOpt){\n    let outputDiv = document.currentScript.previousElementSibling;\n    if (outputDiv.id !== \"altair-viz-cef55af729204921845ac254c20a33a5\") {\n      outputDiv = document.getElementById(\"altair-viz-cef55af729204921845ac254c20a33a5\");\n    }\n    const paths = {\n      \"vega\": \"https://cdn.jsdelivr.net/npm//vega@5?noext\",\n      \"vega-lib\": \"https://cdn.jsdelivr.net/npm//vega-lib?noext\",\n      \"vega-lite\": \"https://cdn.jsdelivr.net/npm//vega-lite@4.8.1?noext\",\n      \"vega-embed\": \"https://cdn.jsdelivr.net/npm//vega-embed@6?noext\",\n    };\n\n    function loadScript(lib) {\n      return new Promise(function(resolve, reject) {\n        var s = document.createElement('script');\n        s.src = paths[lib];\n        s.async = true;\n        s.onload = () => resolve(paths[lib]);\n        s.onerror = () => reject(`Error loading script: ${paths[lib]}`);\n        document.getElementsByTagName(\"head\")[0].appendChild(s);\n      });\n    }\n\n    function showError(err) {\n      outputDiv.innerHTML = `<div class=\"error\" style=\"color:red;\">${err}</div>`;\n      throw err;\n    }\n\n    function displayChart(vegaEmbed) {\n      vegaEmbed(outputDiv, spec, embedOpt)\n        .catch(err => showError(`Javascript Error: ${err.message}<br>This usually means there's a typo in your chart specification. See the javascript console for the full traceback.`));\n    }\n\n    if(typeof define === \"function\" && define.amd) {\n      requirejs.config({paths});\n      require([\"vega-embed\"], displayChart, err => showError(`Error loading script: ${err.message}`));\n    } else if (typeof vegaEmbed === \"function\") {\n      displayChart(vegaEmbed);\n    } else {\n      loadScript(\"vega\")\n        .then(() => loadScript(\"vega-lite\"))\n        .then(() => loadScript(\"vega-embed\"))\n        .catch(showError)\n        .then(() => displayChart(vegaEmbed));\n    }\n  })({\"config\": {\"view\": {\"continuousWidth\": 400, \"continuousHeight\": 300}}, \"layer\": [{\"mark\": \"circle\", \"encoding\": {\"x\": {\"type\": \"quantitative\", \"field\": \"Attack\"}, \"y\": {\"type\": \"quantitative\", \"field\": \"Defense\"}}}, {\"mark\": {\"type\": \"line\", \"color\": \"red\"}, \"encoding\": {\"x\": {\"type\": \"quantitative\", \"field\": \"Attack\"}, \"y\": {\"type\": \"quantitative\", \"field\": \"Pred\"}}}], \"data\": {\"name\": \"data-b0a9bbbe76724ae4572610ad083d3060\"}, \"$schema\": \"https://vega.github.io/schema/vega-lite/v4.8.1.json\", \"datasets\": {\"data-b0a9bbbe76724ae4572610ad083d3060\": [{\"Attack\": 55, \"Defense\": 52, \"Pred\": 59.41616167624534}, {\"Attack\": 57, \"Defense\": 55, \"Pred\": 60.37690713313298}, {\"Attack\": 85, \"Defense\": 100, \"Pred\": 73.87865409330745}, {\"Attack\": 132, \"Defense\": 105, \"Pred\": 95.33589168834702}, {\"Attack\": 70, \"Defense\": 130, \"Pred\": 67.57099803223106}, {\"Attack\": 55, \"Defense\": 50, \"Pred\": 59.38195463374702}, {\"Attack\": 130, \"Defense\": 60, \"Pred\": 93.65679833899463}, {\"Attack\": 125, \"Defense\": 100, \"Pred\": 92.06735195611066}, {\"Attack\": 82, \"Defense\": 100, \"Pred\": 72.51450175359722}, {\"Attack\": 130, \"Defense\": 80, \"Pred\": 93.99886876397784}, {\"Attack\": 55, \"Defense\": 70, \"Pred\": 59.724025058730234}, {\"Attack\": 89, \"Defense\": 77, \"Pred\": 75.30414289085708}, {\"Attack\": 80, \"Defense\": 86, \"Pred\": 71.3656175629688}, {\"Attack\": 90, \"Defense\": 80, \"Pred\": 75.81017090117464}, {\"Attack\": 110, \"Defense\": 76, \"Pred\": 84.83610574757961}, {\"Attack\": 109, \"Defense\": 112, \"Pred\": 84.9971150659793}, {\"Attack\": 20, \"Defense\": 55, \"Pred\": 43.552361610040016}, {\"Attack\": 100, \"Defense\": 120, \"Pred\": 81.04148621684186}, {\"Attack\": 90, \"Defense\": 106, \"Pred\": 76.2548624536528}, {\"Attack\": 60, \"Defense\": 70, \"Pred\": 61.99761229158063}, {\"Attack\": 70, \"Defense\": 45, \"Pred\": 66.11719872605242}, {\"Attack\": 75, \"Defense\": 35, \"Pred\": 68.21975074641122}, {\"Attack\": 55, \"Defense\": 55, \"Pred\": 59.46747223999282}, {\"Attack\": 110, \"Defense\": 95, \"Pred\": 85.16107265131365}, {\"Attack\": 95, \"Defense\": 95, \"Pred\": 78.34031095276245}, {\"Attack\": 75, \"Defense\": 70, \"Pred\": 68.81837399013183}, {\"Attack\": 70, \"Defense\": 45, \"Pred\": 66.11719872605242}, {\"Attack\": 53, \"Defense\": 70, \"Pred\": 58.81459016559007}, {\"Attack\": 40, \"Defense\": 40, \"Pred\": 52.39015772270422}, {\"Attack\": 110, \"Defense\": 65, \"Pred\": 84.64796701383884}, {\"Attack\": 52, \"Defense\": 43, \"Pred\": 57.89807764529266}, {\"Attack\": 50, \"Defense\": 40, \"Pred\": 56.93733218840501}, {\"Attack\": 180, \"Defense\": 20, \"Pred\": 115.70852981753222}, {\"Attack\": 110, \"Defense\": 120, \"Pred\": 85.58866068254267}, {\"Attack\": 75, \"Defense\": 53, \"Pred\": 68.5276141288961}, {\"Attack\": 67, \"Defense\": 60, \"Pred\": 65.00959920507958}, {\"Attack\": 94, \"Defense\": 131, \"Pred\": 78.50132027116214}, {\"Attack\": 40, \"Defense\": 50, \"Pred\": 52.56119293519582}, {\"Attack\": 170, \"Defense\": 115, \"Pred\": 112.78618987050166}, {\"Attack\": 50, \"Defense\": 62, \"Pred\": 57.313609655886545}, {\"Attack\": 80, \"Defense\": 140, \"Pred\": 72.28920771042347}, {\"Attack\": 105, \"Defense\": 75, \"Pred\": 82.54541499348004}, {\"Attack\": 95, \"Defense\": 67, \"Pred\": 77.86141235778595}, {\"Attack\": 55, \"Defense\": 99, \"Pred\": 60.22002717495589}, {\"Attack\": 45, \"Defense\": 50, \"Pred\": 54.83478016804622}, {\"Attack\": 30, \"Defense\": 32, \"Pred\": 47.70615508701013}, {\"Attack\": 66, \"Defense\": 70, \"Pred\": 64.72591697100111}, {\"Attack\": 120, \"Defense\": 100, \"Pred\": 89.79376472326025}, {\"Attack\": 115, \"Defense\": 65, \"Pred\": 86.92155424668923}, {\"Attack\": 24, \"Defense\": 86, \"Pred\": 45.90144055504432}, {\"Attack\": 112, \"Defense\": 45, \"Pred\": 85.21533148199578}, {\"Attack\": 38, \"Defense\": 33, \"Pred\": 51.360998180819934}, {\"Attack\": 95, \"Defense\": 122, \"Pred\": 78.80210602648978}, {\"Attack\": 85, \"Defense\": 40, \"Pred\": 72.85244281835782}, {\"Attack\": 112, \"Defense\": 118, \"Pred\": 86.4638885331845}, {\"Attack\": 68, \"Defense\": 72, \"Pred\": 65.6695589066396}, {\"Attack\": 84, \"Defense\": 70, \"Pred\": 72.91083100926255}, {\"Attack\": 92, \"Defense\": 65, \"Pred\": 76.4630529755774}, {\"Attack\": 120, \"Defense\": 95, \"Pred\": 89.70824711701445}, {\"Attack\": 120, \"Defense\": 90, \"Pred\": 89.62272951076865}, {\"Attack\": 136, \"Defense\": 94, \"Pred\": 96.96662274088658}, {\"Attack\": 45, \"Defense\": 48, \"Pred\": 54.8005731255479}, {\"Attack\": 25, \"Defense\": 41, \"Pred\": 45.58649954540217}, {\"Attack\": 55, \"Defense\": 30, \"Pred\": 59.03988420876381}, {\"Attack\": 70, \"Defense\": 50, \"Pred\": 66.20271633229822}, {\"Attack\": 50, \"Defense\": 145, \"Pred\": 58.733201919566866}, {\"Attack\": 65, \"Defense\": 60, \"Pred\": 64.10016431193942}, {\"Attack\": 49, \"Defense\": 65, \"Pred\": 56.91020277306394}, {\"Attack\": 107, \"Defense\": 122, \"Pred\": 84.25871538533073}, {\"Attack\": 85, \"Defense\": 40, \"Pred\": 72.85244281835782}, {\"Attack\": 48, \"Defense\": 76, \"Pred\": 56.64362406023463}, {\"Attack\": 50, \"Defense\": 37, \"Pred\": 56.88602162465753}, {\"Attack\": 45, \"Defense\": 50, \"Pred\": 54.83478016804622}, {\"Attack\": 49, \"Defense\": 56, \"Pred\": 56.7562710818215}, {\"Attack\": 100, \"Defense\": 110, \"Pred\": 80.87045100435026}, {\"Attack\": 82, \"Defense\": 83, \"Pred\": 72.22374189236149}, {\"Attack\": 35, \"Defense\": 40, \"Pred\": 50.116570489853814}, {\"Attack\": 140, \"Defense\": 55, \"Pred\": 98.11845519844962}, {\"Attack\": 60, \"Defense\": 30, \"Pred\": 61.31347144161421}, {\"Attack\": 80, \"Defense\": 95, \"Pred\": 71.51954925421126}, {\"Attack\": 100, \"Defense\": 90, \"Pred\": 80.52838057936705}, {\"Attack\": 70, \"Defense\": 55, \"Pred\": 66.28823393854402}, {\"Attack\": 120, \"Defense\": 75, \"Pred\": 89.36617669203125}, {\"Attack\": 25, \"Defense\": 35, \"Pred\": 45.483878417907206}, {\"Attack\": 70, \"Defense\": 61, \"Pred\": 66.390855066039}, {\"Attack\": 120, \"Defense\": 120, \"Pred\": 90.13583514824346}, {\"Attack\": 150, \"Defense\": 70, \"Pred\": 102.92218248288785}, {\"Attack\": 45, \"Defense\": 35, \"Pred\": 54.57822734930881}, {\"Attack\": 40, \"Defense\": 85, \"Pred\": 53.15981617891644}, {\"Attack\": 80, \"Defense\": 65, \"Pred\": 71.00644361673643}, {\"Attack\": 48, \"Defense\": 65, \"Pred\": 56.45548532649387}, {\"Attack\": 129, \"Defense\": 90, \"Pred\": 93.71518652989937}, {\"Attack\": 130, \"Defense\": 90, \"Pred\": 94.16990397646944}, {\"Attack\": 117, \"Defense\": 80, \"Pred\": 88.0875419585668}, {\"Attack\": 85, \"Defense\": 40, \"Pred\": 72.85244281835782}, {\"Attack\": 65, \"Defense\": 45, \"Pred\": 63.84361149320202}, {\"Attack\": 10, \"Defense\": 230, \"Pred\": 41.9983033629423}, {\"Attack\": 30, \"Defense\": 30, \"Pred\": 47.67194804451181}, {\"Attack\": 70, \"Defense\": 40, \"Pred\": 66.03168111980662}, {\"Attack\": 40, \"Defense\": 90, \"Pred\": 53.24533378516224}, {\"Attack\": 100, \"Defense\": 200, \"Pred\": 82.4097679167747}, {\"Attack\": 55, \"Defense\": 42, \"Pred\": 59.245126463753735}, {\"Attack\": 50, \"Defense\": 40, \"Pred\": 56.93733218840501}, {\"Attack\": 78, \"Defense\": 52, \"Pred\": 69.87466294735718}, {\"Attack\": 98, \"Defense\": 63, \"Pred\": 79.15715061249955}, {\"Attack\": 60, \"Defense\": 79, \"Pred\": 62.15154398282307}, {\"Attack\": 90, \"Defense\": 55, \"Pred\": 75.38258286994562}, {\"Attack\": 93, \"Defense\": 55, \"Pred\": 76.74673520965587}, {\"Attack\": 55, \"Defense\": 39, \"Pred\": 59.19381590000626}, {\"Attack\": 95, \"Defense\": 55, \"Pred\": 77.65617010279604}, {\"Attack\": 100, \"Defense\": 120, \"Pred\": 81.04148621684186}, {\"Attack\": 42, \"Defense\": 118, \"Pred\": 54.63366727327889}, {\"Attack\": 120, \"Defense\": 80, \"Pred\": 89.45169429827703}, {\"Attack\": 102, \"Defense\": 77, \"Pred\": 81.21546969626812}, {\"Attack\": 100, \"Defense\": 85, \"Pred\": 80.44286297312124}, {\"Attack\": 56, \"Defense\": 40, \"Pred\": 59.6656368678255}, {\"Attack\": 69, \"Defense\": 76, \"Pred\": 66.19269043820631}, {\"Attack\": 70, \"Defense\": 70, \"Pred\": 66.54478675728143}, {\"Attack\": 65, \"Defense\": 100, \"Pred\": 64.78430516190585}, {\"Attack\": 80, \"Defense\": 65, \"Pred\": 71.00644361673643}, {\"Attack\": 65, \"Defense\": 105, \"Pred\": 64.86982276815165}, {\"Attack\": 47, \"Defense\": 50, \"Pred\": 55.74421506118638}, {\"Attack\": 70, \"Defense\": 60, \"Pred\": 66.37375154478983}, {\"Attack\": 70, \"Defense\": 65, \"Pred\": 66.45926915103563}, {\"Attack\": 50, \"Defense\": 40, \"Pred\": 56.93733218840501}, {\"Attack\": 50, \"Defense\": 50, \"Pred\": 57.10836740089662}, {\"Attack\": 55, \"Defense\": 145, \"Pred\": 61.00678915241727}, {\"Attack\": 60, \"Defense\": 60, \"Pred\": 61.82657707908902}, {\"Attack\": 47, \"Defense\": 52, \"Pred\": 55.7784221036847}, {\"Attack\": 140, \"Defense\": 130, \"Pred\": 99.40121929213666}, {\"Attack\": 10, \"Defense\": 55, \"Pred\": 39.00518714433922}, {\"Attack\": 105, \"Defense\": 65, \"Pred\": 82.37437978098843}, {\"Attack\": 84, \"Defense\": 78, \"Pred\": 73.04765917925585}, {\"Attack\": 115, \"Defense\": 60, \"Pred\": 86.83603664044344}, {\"Attack\": 40, \"Defense\": 70, \"Pred\": 52.903263360179025}, {\"Attack\": 5, \"Defense\": 5, \"Pred\": 35.87642384903079}, {\"Attack\": 89, \"Defense\": 116, \"Pred\": 75.97118021957434}, {\"Attack\": 35, \"Defense\": 45, \"Pred\": 50.202088096099615}, {\"Attack\": 130, \"Defense\": 95, \"Pred\": 94.25542158271526}, {\"Attack\": 50, \"Defense\": 43, \"Pred\": 56.988642752152494}, {\"Attack\": 65, \"Defense\": 107, \"Pred\": 64.90402981064997}, {\"Attack\": 100, \"Defense\": 100, \"Pred\": 80.69941579185866}, {\"Attack\": 85, \"Defense\": 69, \"Pred\": 73.34844493458347}, {\"Attack\": 95, \"Defense\": 67, \"Pred\": 77.86141235778595}, {\"Attack\": 70, \"Defense\": 73, \"Pred\": 66.5960973210289}, {\"Attack\": 92, \"Defense\": 75, \"Pred\": 76.634088188069}, {\"Attack\": 60, \"Defense\": 32, \"Pred\": 61.347678484112535}, {\"Attack\": 60, \"Defense\": 75, \"Pred\": 62.08312989782643}, {\"Attack\": 60, \"Defense\": 60, \"Pred\": 61.82657707908902}, {\"Attack\": 70, \"Defense\": 50, \"Pred\": 66.20271633229822}, {\"Attack\": 25, \"Defense\": 50, \"Pred\": 45.74043123664462}, {\"Attack\": 85, \"Defense\": 55, \"Pred\": 73.10899563709523}, {\"Attack\": 53, \"Defense\": 48, \"Pred\": 58.43831269810854}, {\"Attack\": 155, \"Defense\": 109, \"Pred\": 105.86280704445551}, {\"Attack\": 62, \"Defense\": 63, \"Pred\": 62.787322535976664}, {\"Attack\": 120, \"Defense\": 60, \"Pred\": 89.10962387329383}, {\"Attack\": 90, \"Defense\": 40, \"Pred\": 75.12603005120822}, {\"Attack\": 50, \"Defense\": 30, \"Pred\": 56.766296975913406}, {\"Attack\": 105, \"Defense\": 105, \"Pred\": 83.05852063095486}, {\"Attack\": 55, \"Defense\": 90, \"Pred\": 60.06609548371344}, {\"Attack\": 46, \"Defense\": 34, \"Pred\": 55.01584127462973}, {\"Attack\": 66, \"Defense\": 44, \"Pred\": 64.28122541852294}, {\"Attack\": 75, \"Defense\": 105, \"Pred\": 69.41699723385244}, {\"Attack\": 75, \"Defense\": 80, \"Pred\": 68.98940920262343}, {\"Attack\": 85, \"Defense\": 45, \"Pred\": 72.93796042460362}, {\"Attack\": 50, \"Defense\": 58, \"Pred\": 57.245195570889905}, {\"Attack\": 80, \"Defense\": 105, \"Pred\": 71.69058446670286}, {\"Attack\": 75, \"Defense\": 85, \"Pred\": 69.07492680886924}, {\"Attack\": 79, \"Defense\": 105, \"Pred\": 71.23586702013276}, {\"Attack\": 95, \"Defense\": 80, \"Pred\": 78.08375813402503}, {\"Attack\": 60, \"Defense\": 45, \"Pred\": 61.570024260351616}, {\"Attack\": 115, \"Defense\": 85, \"Pred\": 87.26362467167243}, {\"Attack\": 90, \"Defense\": 50, \"Pred\": 75.29706526369982}, {\"Attack\": 55, \"Defense\": 95, \"Pred\": 60.15161308995924}, {\"Attack\": 60, \"Defense\": 75, \"Pred\": 62.08312989782643}, {\"Attack\": 75, \"Defense\": 85, \"Pred\": 69.07492680886924}, {\"Attack\": 103, \"Defense\": 75, \"Pred\": 81.63598010033988}, {\"Attack\": 60, \"Defense\": 70, \"Pred\": 61.99761229158063}, {\"Attack\": 103, \"Defense\": 120, \"Pred\": 82.4056385565521}, {\"Attack\": 75, \"Defense\": 115, \"Pred\": 69.58803244634404}, {\"Attack\": 150, \"Defense\": 60, \"Pred\": 102.75114727039625}, {\"Attack\": 40, \"Defense\": 35, \"Pred\": 52.304640116458415}, {\"Attack\": 55, \"Defense\": 45, \"Pred\": 59.29643702750122}, {\"Attack\": 30, \"Defense\": 42, \"Pred\": 47.877190299501734}, {\"Attack\": 63, \"Defense\": 37, \"Pred\": 62.797348430068574}, {\"Attack\": 35, \"Defense\": 40, \"Pred\": 50.116570489853814}, {\"Attack\": 30, \"Defense\": 30, \"Pred\": 47.67194804451181}, {\"Attack\": 45, \"Defense\": 55, \"Pred\": 54.920297774292024}, {\"Attack\": 70, \"Defense\": 40, \"Pred\": 66.03168111980662}, {\"Attack\": 105, \"Defense\": 100, \"Pred\": 82.97300302470904}, {\"Attack\": 60, \"Defense\": 60, \"Pred\": 61.82657707908902}, {\"Attack\": 40, \"Defense\": 60, \"Pred\": 52.73222814768742}, {\"Attack\": 65, \"Defense\": 55, \"Pred\": 64.01464670569362}, {\"Attack\": 50, \"Defense\": 80, \"Pred\": 57.621473038371434}, {\"Attack\": 52, \"Defense\": 48, \"Pred\": 57.98359525153846}, {\"Attack\": 134, \"Defense\": 110, \"Pred\": 96.33084418773298}, {\"Attack\": 62, \"Defense\": 50, \"Pred\": 62.564976759737576}, {\"Attack\": 30, \"Defense\": 55, \"Pred\": 48.099536075740815}, {\"Attack\": 85, \"Defense\": 200, \"Pred\": 75.58900621822349}, {\"Attack\": 75, \"Defense\": 60, \"Pred\": 68.64733877764023}]}}, {\"mode\": \"vega-lite\"});\n</script>",
      "text/plain": "alt.LayerChart(...)"
     },
     "metadata": {}
    }
   ]
  },
  {
   "cell_type": "markdown",
   "source": "This chart suggests that my prediction is underfitting and needs more degrees. Overall, the output special attack has a positive relationship with the inputs:attack and defense. As the attack and defense increases, the special attack is also likely to increase. ",
   "metadata": {
    "cell_id": "e38d044d2a2a48dbb27bd5fca29eb745",
    "tags": [],
    "deepnote_cell_type": "markdown",
    "deepnote_cell_height": 97.140625
   }
  },
  {
   "cell_type": "markdown",
   "source": "<font size =5>\nUse KNeighborRegressor to adjust the underfitting of the previous prediction.",
   "metadata": {
    "cell_id": "3151496547134a7caecc1a4cffec080d",
    "tags": [],
    "deepnote_cell_type": "markdown",
    "deepnote_cell_height": 106.75
   }
  },
  {
   "cell_type": "code",
   "metadata": {
    "cell_id": "12c69f62d7e5414bad87c8fa25ee1362",
    "tags": [],
    "deepnote_to_be_reexecuted": false,
    "source_hash": "1b718a37",
    "execution_start": 1654751751459,
    "execution_millis": 44,
    "deepnote_cell_type": "code",
    "deepnote_cell_height": 350.578125
   },
   "source": "from sklearn.neighbors import KNeighborsRegressor, KNeighborsClassifier\nreg2 = KNeighborsRegressor(n_neighbors=10, weights='uniform')\nreg2.fit(X_train1,y_train1)\nMAE2_test=mean_absolute_error(reg2.predict(X_test1), y_test1)\nMAE2_train=mean_absolute_error(reg2.predict(X_train1), y_train1)\nMSE2_test=mean_squared_error(reg2.predict(X_test1), y_test1)\nMSE2_train=mean_squared_error(reg2.predict(X_train1), y_train1)\nprint(f\"the mean squared error for X_train1 is {MSE2_test}\")\nprint(f\"the mean squared error X_test1 is {MSE2_train}\")\nprint(f\"the mean absolute error for X_train1 is {MAE2_test}\")\nprint(f\"the mean absolute error X_test1 is {MAE2_train}\")",
   "execution_count": null,
   "outputs": [
    {
     "name": "stdout",
     "text": "the mean squared error for X_train1 is 922.33005\nthe mean squared error X_test1 is 764.9995499999999\nthe mean absolute error for X_train1 is 24.20116666666667\nthe mean absolute error X_test1 is 22.3525\n",
     "output_type": "stream"
    }
   ]
  },
  {
   "cell_type": "markdown",
   "source": "The MSEs are similar and the MAEs are also similar , with reg performing just slightly better on the training data. That suggests that for this training set, we are not overfitting the data when using K=10.\n\n",
   "metadata": {
    "cell_id": "aee3b5f85f5e4174b213708214f063a0",
    "tags": [],
    "deepnote_cell_type": "markdown",
    "deepnote_cell_height": 74.75
   }
  },
  {
   "cell_type": "code",
   "metadata": {
    "cell_id": "c2df1b1fea7642fbaf5370711ed85b1e",
    "tags": [],
    "deepnote_to_be_reexecuted": false,
    "source_hash": "35b7ddef",
    "execution_start": 1654751751559,
    "execution_millis": 12,
    "deepnote_cell_type": "code",
    "deepnote_cell_height": 98.953125
   },
   "source": "X_train1[\"Pred\"]=reg2.predict(X_train1)\nX_test1[\"Pred\"]=reg2.predict(X_test1)",
   "execution_count": null,
   "outputs": []
  },
  {
   "cell_type": "code",
   "metadata": {
    "cell_id": "9e44c35b762d4118a28b40ed5f2f00b3",
    "tags": [],
    "deepnote_to_be_reexecuted": false,
    "source_hash": "7aaa52b",
    "execution_start": 1654751751560,
    "execution_millis": 72,
    "deepnote_cell_type": "code",
    "deepnote_cell_height": 655.9375,
    "deepnote_output_heights": [
     360.984375
    ]
   },
   "source": "#Make chart of both the prediction\n #draw the linear regression line prediction chart\nc4 = alt.Chart(X_train1).mark_circle().encode(\n    x=\"Attack\",\n    y=\"Defense\"\n)\nc5=alt.Chart(X_train1).mark_line(color=\"red\").encode(\n    x=\"Attack\",\n    y=\"Pred\"\n)\nc4+c5\n#The chart still suggests overffiting where the prediction is too stick to the datas that we provided that fails to predict future trend.",
   "execution_count": null,
   "outputs": [
    {
     "output_type": "execute_result",
     "execution_count": 26,
     "data": {
      "text/html": "\n<div id=\"altair-viz-ef6ab94e79244c0590a3f0cc6f293e6c\"></div>\n<script type=\"text/javascript\">\n  (function(spec, embedOpt){\n    let outputDiv = document.currentScript.previousElementSibling;\n    if (outputDiv.id !== \"altair-viz-ef6ab94e79244c0590a3f0cc6f293e6c\") {\n      outputDiv = document.getElementById(\"altair-viz-ef6ab94e79244c0590a3f0cc6f293e6c\");\n    }\n    const paths = {\n      \"vega\": \"https://cdn.jsdelivr.net/npm//vega@5?noext\",\n      \"vega-lib\": \"https://cdn.jsdelivr.net/npm//vega-lib?noext\",\n      \"vega-lite\": \"https://cdn.jsdelivr.net/npm//vega-lite@4.8.1?noext\",\n      \"vega-embed\": \"https://cdn.jsdelivr.net/npm//vega-embed@6?noext\",\n    };\n\n    function loadScript(lib) {\n      return new Promise(function(resolve, reject) {\n        var s = document.createElement('script');\n        s.src = paths[lib];\n        s.async = true;\n        s.onload = () => resolve(paths[lib]);\n        s.onerror = () => reject(`Error loading script: ${paths[lib]}`);\n        document.getElementsByTagName(\"head\")[0].appendChild(s);\n      });\n    }\n\n    function showError(err) {\n      outputDiv.innerHTML = `<div class=\"error\" style=\"color:red;\">${err}</div>`;\n      throw err;\n    }\n\n    function displayChart(vegaEmbed) {\n      vegaEmbed(outputDiv, spec, embedOpt)\n        .catch(err => showError(`Javascript Error: ${err.message}<br>This usually means there's a typo in your chart specification. See the javascript console for the full traceback.`));\n    }\n\n    if(typeof define === \"function\" && define.amd) {\n      requirejs.config({paths});\n      require([\"vega-embed\"], displayChart, err => showError(`Error loading script: ${err.message}`));\n    } else if (typeof vegaEmbed === \"function\") {\n      displayChart(vegaEmbed);\n    } else {\n      loadScript(\"vega\")\n        .then(() => loadScript(\"vega-lite\"))\n        .then(() => loadScript(\"vega-embed\"))\n        .catch(showError)\n        .then(() => displayChart(vegaEmbed));\n    }\n  })({\"config\": {\"view\": {\"continuousWidth\": 400, \"continuousHeight\": 300}}, \"layer\": [{\"mark\": \"circle\", \"encoding\": {\"x\": {\"type\": \"quantitative\", \"field\": \"Attack\"}, \"y\": {\"type\": \"quantitative\", \"field\": \"Defense\"}}}, {\"mark\": {\"type\": \"line\", \"color\": \"red\"}, \"encoding\": {\"x\": {\"type\": \"quantitative\", \"field\": \"Attack\"}, \"y\": {\"type\": \"quantitative\", \"field\": \"Pred\"}}}], \"data\": {\"name\": \"data-24681aad3c8b225cccf60f48f6d447b8\"}, \"$schema\": \"https://vega.github.io/schema/vega-lite/v4.8.1.json\", \"datasets\": {\"data-24681aad3c8b225cccf60f48f6d447b8\": [{\"Attack\": 55, \"Defense\": 52, \"Pred\": 66.0}, {\"Attack\": 57, \"Defense\": 55, \"Pred\": 70.4}, {\"Attack\": 85, \"Defense\": 100, \"Pred\": 76.7}, {\"Attack\": 132, \"Defense\": 105, \"Pred\": 94.3}, {\"Attack\": 70, \"Defense\": 130, \"Pred\": 68.8}, {\"Attack\": 55, \"Defense\": 50, \"Pred\": 71.1}, {\"Attack\": 130, \"Defense\": 60, \"Pred\": 76.3}, {\"Attack\": 125, \"Defense\": 100, \"Pred\": 94.3}, {\"Attack\": 82, \"Defense\": 100, \"Pred\": 75.7}, {\"Attack\": 130, \"Defense\": 80, \"Pred\": 79.1}, {\"Attack\": 55, \"Defense\": 70, \"Pred\": 64.9}, {\"Attack\": 89, \"Defense\": 77, \"Pred\": 87.1}, {\"Attack\": 80, \"Defense\": 86, \"Pred\": 88.2}, {\"Attack\": 90, \"Defense\": 80, \"Pred\": 75.8}, {\"Attack\": 110, \"Defense\": 76, \"Pred\": 85.8}, {\"Attack\": 109, \"Defense\": 112, \"Pred\": 92.4}, {\"Attack\": 20, \"Defense\": 55, \"Pred\": 37.9}, {\"Attack\": 100, \"Defense\": 120, \"Pred\": 86.3}, {\"Attack\": 90, \"Defense\": 106, \"Pred\": 77.1}, {\"Attack\": 60, \"Defense\": 70, \"Pred\": 76.0}, {\"Attack\": 70, \"Defense\": 45, \"Pred\": 62.7}, {\"Attack\": 75, \"Defense\": 35, \"Pred\": 60.2}, {\"Attack\": 55, \"Defense\": 55, \"Pred\": 69.1}, {\"Attack\": 110, \"Defense\": 95, \"Pred\": 89.4}, {\"Attack\": 95, \"Defense\": 95, \"Pred\": 87.7}, {\"Attack\": 75, \"Defense\": 70, \"Pred\": 68.7}, {\"Attack\": 70, \"Defense\": 45, \"Pred\": 62.7}, {\"Attack\": 53, \"Defense\": 70, \"Pred\": 64.9}, {\"Attack\": 40, \"Defense\": 40, \"Pred\": 50.5}, {\"Attack\": 110, \"Defense\": 65, \"Pred\": 83.6}, {\"Attack\": 52, \"Defense\": 43, \"Pred\": 50.5}, {\"Attack\": 50, \"Defense\": 40, \"Pred\": 47.4}, {\"Attack\": 180, \"Defense\": 20, \"Pred\": 96.6}, {\"Attack\": 110, \"Defense\": 120, \"Pred\": 90.5}, {\"Attack\": 75, \"Defense\": 53, \"Pred\": 61.1}, {\"Attack\": 67, \"Defense\": 60, \"Pred\": 62.0}, {\"Attack\": 94, \"Defense\": 131, \"Pred\": 85.5}, {\"Attack\": 40, \"Defense\": 50, \"Pred\": 63.9}, {\"Attack\": 170, \"Defense\": 115, \"Pred\": 100.2}, {\"Attack\": 50, \"Defense\": 62, \"Pred\": 55.3}, {\"Attack\": 80, \"Defense\": 140, \"Pred\": 83.1}, {\"Attack\": 105, \"Defense\": 75, \"Pred\": 81.8}, {\"Attack\": 95, \"Defense\": 67, \"Pred\": 78.5}, {\"Attack\": 55, \"Defense\": 99, \"Pred\": 75.5}, {\"Attack\": 45, \"Defense\": 50, \"Pred\": 58.6}, {\"Attack\": 30, \"Defense\": 32, \"Pred\": 42.4}, {\"Attack\": 66, \"Defense\": 70, \"Pred\": 80.4}, {\"Attack\": 120, \"Defense\": 100, \"Pred\": 92.4}, {\"Attack\": 115, \"Defense\": 65, \"Pred\": 77.8}, {\"Attack\": 24, \"Defense\": 86, \"Pred\": 58.2}, {\"Attack\": 112, \"Defense\": 45, \"Pred\": 72.5}, {\"Attack\": 38, \"Defense\": 33, \"Pred\": 43.4}, {\"Attack\": 95, \"Defense\": 122, \"Pred\": 94.5}, {\"Attack\": 85, \"Defense\": 40, \"Pred\": 61.6}, {\"Attack\": 112, \"Defense\": 118, \"Pred\": 90.5}, {\"Attack\": 68, \"Defense\": 72, \"Pred\": 77.9}, {\"Attack\": 84, \"Defense\": 70, \"Pred\": 70.8}, {\"Attack\": 92, \"Defense\": 65, \"Pred\": 78.5}, {\"Attack\": 120, \"Defense\": 95, \"Pred\": 91.2}, {\"Attack\": 120, \"Defense\": 90, \"Pred\": 89.7}, {\"Attack\": 136, \"Defense\": 94, \"Pred\": 85.8}, {\"Attack\": 45, \"Defense\": 48, \"Pred\": 57.7}, {\"Attack\": 25, \"Defense\": 41, \"Pred\": 40.0}, {\"Attack\": 55, \"Defense\": 30, \"Pred\": 47.2}, {\"Attack\": 70, \"Defense\": 50, \"Pred\": 63.4}, {\"Attack\": 50, \"Defense\": 145, \"Pred\": 64.7}, {\"Attack\": 65, \"Defense\": 60, \"Pred\": 64.5}, {\"Attack\": 49, \"Defense\": 65, \"Pred\": 54.4}, {\"Attack\": 107, \"Defense\": 122, \"Pred\": 85.8}, {\"Attack\": 85, \"Defense\": 40, \"Pred\": 61.6}, {\"Attack\": 48, \"Defense\": 76, \"Pred\": 64.7}, {\"Attack\": 50, \"Defense\": 37, \"Pred\": 50.0}, {\"Attack\": 45, \"Defense\": 50, \"Pred\": 58.6}, {\"Attack\": 49, \"Defense\": 56, \"Pred\": 58.4}, {\"Attack\": 100, \"Defense\": 110, \"Pred\": 94.0}, {\"Attack\": 82, \"Defense\": 83, \"Pred\": 86.4}, {\"Attack\": 35, \"Defense\": 40, \"Pred\": 44.6}, {\"Attack\": 140, \"Defense\": 55, \"Pred\": 84.6}, {\"Attack\": 60, \"Defense\": 30, \"Pred\": 53.4}, {\"Attack\": 80, \"Defense\": 95, \"Pred\": 69.2}, {\"Attack\": 100, \"Defense\": 90, \"Pred\": 83.9}, {\"Attack\": 70, \"Defense\": 55, \"Pred\": 58.8}, {\"Attack\": 120, \"Defense\": 75, \"Pred\": 70.8}, {\"Attack\": 25, \"Defense\": 35, \"Pred\": 43.6}, {\"Attack\": 70, \"Defense\": 61, \"Pred\": 63.0}, {\"Attack\": 120, \"Defense\": 120, \"Pred\": 94.2}, {\"Attack\": 150, \"Defense\": 70, \"Pred\": 87.0}, {\"Attack\": 45, \"Defense\": 35, \"Pred\": 54.6}, {\"Attack\": 40, \"Defense\": 85, \"Pred\": 66.7}, {\"Attack\": 80, \"Defense\": 65, \"Pred\": 58.5}, {\"Attack\": 48, \"Defense\": 65, \"Pred\": 55.6}, {\"Attack\": 129, \"Defense\": 90, \"Pred\": 89.6}, {\"Attack\": 130, \"Defense\": 90, \"Pred\": 89.6}, {\"Attack\": 117, \"Defense\": 80, \"Pred\": 82.8}, {\"Attack\": 85, \"Defense\": 40, \"Pred\": 61.6}, {\"Attack\": 65, \"Defense\": 45, \"Pred\": 66.6}, {\"Attack\": 10, \"Defense\": 230, \"Pred\": 57.1}, {\"Attack\": 30, \"Defense\": 30, \"Pred\": 42.4}, {\"Attack\": 70, \"Defense\": 40, \"Pred\": 63.2}, {\"Attack\": 40, \"Defense\": 90, \"Pred\": 66.7}, {\"Attack\": 100, \"Defense\": 200, \"Pred\": 70.1}, {\"Attack\": 55, \"Defense\": 42, \"Pred\": 54.9}, {\"Attack\": 50, \"Defense\": 40, \"Pred\": 47.4}, {\"Attack\": 78, \"Defense\": 52, \"Pred\": 59.6}, {\"Attack\": 98, \"Defense\": 63, \"Pred\": 83.1}, {\"Attack\": 60, \"Defense\": 79, \"Pred\": 76.9}, {\"Attack\": 90, \"Defense\": 55, \"Pred\": 77.1}, {\"Attack\": 93, \"Defense\": 55, \"Pred\": 77.1}, {\"Attack\": 55, \"Defense\": 39, \"Pred\": 49.9}, {\"Attack\": 95, \"Defense\": 55, \"Pred\": 79.6}, {\"Attack\": 100, \"Defense\": 120, \"Pred\": 86.3}, {\"Attack\": 42, \"Defense\": 118, \"Pred\": 72.7}, {\"Attack\": 120, \"Defense\": 80, \"Pred\": 84.2}, {\"Attack\": 102, \"Defense\": 77, \"Pred\": 82.7}, {\"Attack\": 100, \"Defense\": 85, \"Pred\": 86.4}, {\"Attack\": 56, \"Defense\": 40, \"Pred\": 54.9}, {\"Attack\": 69, \"Defense\": 76, \"Pred\": 82.2}, {\"Attack\": 70, \"Defense\": 70, \"Pred\": 64.7}, {\"Attack\": 65, \"Defense\": 100, \"Pred\": 68.9}, {\"Attack\": 80, \"Defense\": 65, \"Pred\": 58.5}, {\"Attack\": 65, \"Defense\": 105, \"Pred\": 70.9}, {\"Attack\": 47, \"Defense\": 50, \"Pred\": 56.4}, {\"Attack\": 70, \"Defense\": 60, \"Pred\": 64.8}, {\"Attack\": 70, \"Defense\": 65, \"Pred\": 63.3}, {\"Attack\": 50, \"Defense\": 40, \"Pred\": 47.4}, {\"Attack\": 50, \"Defense\": 50, \"Pred\": 62.4}, {\"Attack\": 55, \"Defense\": 145, \"Pred\": 65.1}, {\"Attack\": 60, \"Defense\": 60, \"Pred\": 76.1}, {\"Attack\": 47, \"Defense\": 52, \"Pred\": 58.4}, {\"Attack\": 140, \"Defense\": 130, \"Pred\": 83.9}, {\"Attack\": 10, \"Defense\": 55, \"Pred\": 37.9}, {\"Attack\": 105, \"Defense\": 65, \"Pred\": 93.9}, {\"Attack\": 84, \"Defense\": 78, \"Pred\": 82.8}, {\"Attack\": 115, \"Defense\": 60, \"Pred\": 74.2}, {\"Attack\": 40, \"Defense\": 70, \"Pred\": 61.2}, {\"Attack\": 5, \"Defense\": 5, \"Pred\": 38.9}, {\"Attack\": 89, \"Defense\": 116, \"Pred\": 87.6}, {\"Attack\": 35, \"Defense\": 45, \"Pred\": 49.9}, {\"Attack\": 130, \"Defense\": 95, \"Pred\": 90.8}, {\"Attack\": 50, \"Defense\": 43, \"Pred\": 52.0}, {\"Attack\": 65, \"Defense\": 107, \"Pred\": 64.7}, {\"Attack\": 100, \"Defense\": 100, \"Pred\": 77.2}, {\"Attack\": 85, \"Defense\": 69, \"Pred\": 70.3}, {\"Attack\": 95, \"Defense\": 67, \"Pred\": 78.5}, {\"Attack\": 70, \"Defense\": 73, \"Pred\": 80.2}, {\"Attack\": 92, \"Defense\": 75, \"Pred\": 83.6}, {\"Attack\": 60, \"Defense\": 32, \"Pred\": 54.9}, {\"Attack\": 60, \"Defense\": 75, \"Pred\": 74.9}, {\"Attack\": 60, \"Defense\": 60, \"Pred\": 76.1}, {\"Attack\": 70, \"Defense\": 50, \"Pred\": 63.4}, {\"Attack\": 25, \"Defense\": 50, \"Pred\": 43.9}, {\"Attack\": 85, \"Defense\": 55, \"Pred\": 66.6}, {\"Attack\": 53, \"Defense\": 48, \"Pred\": 58.6}, {\"Attack\": 155, \"Defense\": 109, \"Pred\": 86.3}, {\"Attack\": 62, \"Defense\": 63, \"Pred\": 70.6}, {\"Attack\": 120, \"Defense\": 60, \"Pred\": 75.7}, {\"Attack\": 90, \"Defense\": 40, \"Pred\": 58.0}, {\"Attack\": 50, \"Defense\": 30, \"Pred\": 45.0}, {\"Attack\": 105, \"Defense\": 105, \"Pred\": 79.0}, {\"Attack\": 55, \"Defense\": 90, \"Pred\": 76.8}, {\"Attack\": 46, \"Defense\": 34, \"Pred\": 54.6}, {\"Attack\": 66, \"Defense\": 44, \"Pred\": 66.6}, {\"Attack\": 75, \"Defense\": 105, \"Pred\": 67.7}, {\"Attack\": 75, \"Defense\": 80, \"Pred\": 86.2}, {\"Attack\": 85, \"Defense\": 45, \"Pred\": 62.3}, {\"Attack\": 50, \"Defense\": 58, \"Pred\": 60.0}, {\"Attack\": 80, \"Defense\": 105, \"Pred\": 73.6}, {\"Attack\": 75, \"Defense\": 85, \"Pred\": 82.3}, {\"Attack\": 79, \"Defense\": 105, \"Pred\": 76.2}, {\"Attack\": 95, \"Defense\": 80, \"Pred\": 88.3}, {\"Attack\": 60, \"Defense\": 45, \"Pred\": 58.3}, {\"Attack\": 115, \"Defense\": 85, \"Pred\": 87.0}, {\"Attack\": 90, \"Defense\": 50, \"Pred\": 58.0}, {\"Attack\": 55, \"Defense\": 95, \"Pred\": 75.5}, {\"Attack\": 60, \"Defense\": 75, \"Pred\": 74.9}, {\"Attack\": 75, \"Defense\": 85, \"Pred\": 82.3}, {\"Attack\": 103, \"Defense\": 75, \"Pred\": 82.7}, {\"Attack\": 60, \"Defense\": 70, \"Pred\": 76.0}, {\"Attack\": 103, \"Defense\": 120, \"Pred\": 85.2}, {\"Attack\": 75, \"Defense\": 115, \"Pred\": 70.1}, {\"Attack\": 150, \"Defense\": 60, \"Pred\": 83.0}, {\"Attack\": 40, \"Defense\": 35, \"Pred\": 47.0}, {\"Attack\": 55, \"Defense\": 45, \"Pred\": 55.7}, {\"Attack\": 30, \"Defense\": 42, \"Pred\": 43.4}, {\"Attack\": 63, \"Defense\": 37, \"Pred\": 58.1}, {\"Attack\": 35, \"Defense\": 40, \"Pred\": 44.6}, {\"Attack\": 30, \"Defense\": 30, \"Pred\": 42.4}, {\"Attack\": 45, \"Defense\": 55, \"Pred\": 61.4}, {\"Attack\": 70, \"Defense\": 40, \"Pred\": 63.2}, {\"Attack\": 105, \"Defense\": 100, \"Pred\": 78.7}, {\"Attack\": 60, \"Defense\": 60, \"Pred\": 76.1}, {\"Attack\": 40, \"Defense\": 60, \"Pred\": 58.6}, {\"Attack\": 65, \"Defense\": 55, \"Pred\": 61.2}, {\"Attack\": 50, \"Defense\": 80, \"Pred\": 80.8}, {\"Attack\": 52, \"Defense\": 48, \"Pred\": 58.4}, {\"Attack\": 134, \"Defense\": 110, \"Pred\": 87.8}, {\"Attack\": 62, \"Defense\": 50, \"Pred\": 68.7}, {\"Attack\": 30, \"Defense\": 55, \"Pred\": 46.4}, {\"Attack\": 85, \"Defense\": 200, \"Pred\": 70.1}, {\"Attack\": 75, \"Defense\": 60, \"Pred\": 59.6}]}}, {\"mode\": \"vega-lite\"});\n</script>",
      "text/plain": "alt.LayerChart(...)"
     },
     "metadata": {}
    }
   ]
  },
  {
   "cell_type": "code",
   "metadata": {
    "cell_id": "8ef726eafa63457da63e24c15e0346cb",
    "tags": [],
    "deepnote_to_be_reexecuted": false,
    "source_hash": "b1cffa08",
    "execution_start": 1654751751637,
    "execution_millis": 46,
    "deepnote_cell_type": "code",
    "deepnote_cell_height": 637.953125
   },
   "source": "c6 = alt.Chart(X_test1).mark_circle().encode(\n    x=\"Attack\",\n    y=\"Defense\"\n)\nc7=alt.Chart(X_test1).mark_line(color=\"red\").encode(\n    x=\"Attack\",\n    y=\"Pred\"\n)\nc6+c7\n# similar result will happen to the test chart\n",
   "execution_count": null,
   "outputs": [
    {
     "output_type": "execute_result",
     "execution_count": 27,
     "data": {
      "text/html": "\n<div id=\"altair-viz-d0b0f4412ce549b9b2e86f73941891a3\"></div>\n<script type=\"text/javascript\">\n  (function(spec, embedOpt){\n    let outputDiv = document.currentScript.previousElementSibling;\n    if (outputDiv.id !== \"altair-viz-d0b0f4412ce549b9b2e86f73941891a3\") {\n      outputDiv = document.getElementById(\"altair-viz-d0b0f4412ce549b9b2e86f73941891a3\");\n    }\n    const paths = {\n      \"vega\": \"https://cdn.jsdelivr.net/npm//vega@5?noext\",\n      \"vega-lib\": \"https://cdn.jsdelivr.net/npm//vega-lib?noext\",\n      \"vega-lite\": \"https://cdn.jsdelivr.net/npm//vega-lite@4.8.1?noext\",\n      \"vega-embed\": \"https://cdn.jsdelivr.net/npm//vega-embed@6?noext\",\n    };\n\n    function loadScript(lib) {\n      return new Promise(function(resolve, reject) {\n        var s = document.createElement('script');\n        s.src = paths[lib];\n        s.async = true;\n        s.onload = () => resolve(paths[lib]);\n        s.onerror = () => reject(`Error loading script: ${paths[lib]}`);\n        document.getElementsByTagName(\"head\")[0].appendChild(s);\n      });\n    }\n\n    function showError(err) {\n      outputDiv.innerHTML = `<div class=\"error\" style=\"color:red;\">${err}</div>`;\n      throw err;\n    }\n\n    function displayChart(vegaEmbed) {\n      vegaEmbed(outputDiv, spec, embedOpt)\n        .catch(err => showError(`Javascript Error: ${err.message}<br>This usually means there's a typo in your chart specification. See the javascript console for the full traceback.`));\n    }\n\n    if(typeof define === \"function\" && define.amd) {\n      requirejs.config({paths});\n      require([\"vega-embed\"], displayChart, err => showError(`Error loading script: ${err.message}`));\n    } else if (typeof vegaEmbed === \"function\") {\n      displayChart(vegaEmbed);\n    } else {\n      loadScript(\"vega\")\n        .then(() => loadScript(\"vega-lite\"))\n        .then(() => loadScript(\"vega-embed\"))\n        .catch(showError)\n        .then(() => displayChart(vegaEmbed));\n    }\n  })({\"config\": {\"view\": {\"continuousWidth\": 400, \"continuousHeight\": 300}}, \"layer\": [{\"mark\": \"circle\", \"encoding\": {\"x\": {\"type\": \"quantitative\", \"field\": \"Attack\"}, \"y\": {\"type\": \"quantitative\", \"field\": \"Defense\"}}}, {\"mark\": {\"type\": \"line\", \"color\": \"red\"}, \"encoding\": {\"x\": {\"type\": \"quantitative\", \"field\": \"Attack\"}, \"y\": {\"type\": \"quantitative\", \"field\": \"Pred\"}}}], \"data\": {\"name\": \"data-a26a56eadbb28f824d881fb4340d1f3d\"}, \"$schema\": \"https://vega.github.io/schema/vega-lite/v4.8.1.json\", \"datasets\": {\"data-a26a56eadbb28f824d881fb4340d1f3d\": [{\"Attack\": 90, \"Defense\": 90, \"Pred\": 81.0}, {\"Attack\": 55, \"Defense\": 65, \"Pred\": 59.6}, {\"Attack\": 73, \"Defense\": 55, \"Pred\": 55.6}, {\"Attack\": 80, \"Defense\": 95, \"Pred\": 69.2}, {\"Attack\": 38, \"Defense\": 39, \"Pred\": 47.5}, {\"Attack\": 95, \"Defense\": 85, \"Pred\": 84.8}, {\"Attack\": 60, \"Defense\": 45, \"Pred\": 58.3}, {\"Attack\": 72, \"Defense\": 90, \"Pred\": 74.7}, {\"Attack\": 60, \"Defense\": 40, \"Pred\": 59.8}, {\"Attack\": 41, \"Defense\": 40, \"Pred\": 51.5}, {\"Attack\": 130, \"Defense\": 120, \"Pred\": 86.8}, {\"Attack\": 70, \"Defense\": 35, \"Pred\": 60.2}, {\"Attack\": 95, \"Defense\": 50, \"Pred\": 63.8}, {\"Attack\": 105, \"Defense\": 60, \"Pred\": 85.9}, {\"Attack\": 65, \"Defense\": 68, \"Pred\": 79.0}, {\"Attack\": 100, \"Defense\": 66, \"Pred\": 86.1}, {\"Attack\": 65, \"Defense\": 90, \"Pred\": 80.9}, {\"Attack\": 77, \"Defense\": 60, \"Pred\": 62.6}, {\"Attack\": 85, \"Defense\": 125, \"Pred\": 88.6}, {\"Attack\": 68, \"Defense\": 64, \"Pred\": 67.8}, {\"Attack\": 135, \"Defense\": 60, \"Pred\": 89.2}, {\"Attack\": 98, \"Defense\": 63, \"Pred\": 83.1}, {\"Attack\": 65, \"Defense\": 107, \"Pred\": 64.7}, {\"Attack\": 125, \"Defense\": 100, \"Pred\": 94.3}, {\"Attack\": 40, \"Defense\": 80, \"Pred\": 53.1}, {\"Attack\": 110, \"Defense\": 60, \"Pred\": 82.5}, {\"Attack\": 73, \"Defense\": 55, \"Pred\": 55.6}, {\"Attack\": 150, \"Defense\": 140, \"Pred\": 83.9}, {\"Attack\": 50, \"Defense\": 95, \"Pred\": 73.3}, {\"Attack\": 40, \"Defense\": 55, \"Pred\": 62.1}, {\"Attack\": 115, \"Defense\": 70, \"Pred\": 77.8}, {\"Attack\": 85, \"Defense\": 69, \"Pred\": 70.3}, {\"Attack\": 95, \"Defense\": 115, \"Pred\": 91.4}, {\"Attack\": 100, \"Defense\": 85, \"Pred\": 86.4}, {\"Attack\": 55, \"Defense\": 45, \"Pred\": 55.7}, {\"Attack\": 110, \"Defense\": 70, \"Pred\": 82.3}, {\"Attack\": 55, \"Defense\": 45, \"Pred\": 55.7}, {\"Attack\": 75, \"Defense\": 60, \"Pred\": 59.6}, {\"Attack\": 77, \"Defense\": 72, \"Pred\": 75.8}, {\"Attack\": 85, \"Defense\": 65, \"Pred\": 73.3}, {\"Attack\": 155, \"Defense\": 120, \"Pred\": 85.1}, {\"Attack\": 58, \"Defense\": 58, \"Pred\": 77.1}, {\"Attack\": 65, \"Defense\": 85, \"Pred\": 94.8}, {\"Attack\": 100, \"Defense\": 70, \"Pred\": 89.5}, {\"Attack\": 128, \"Defense\": 90, \"Pred\": 89.6}, {\"Attack\": 85, \"Defense\": 70, \"Pred\": 70.3}, {\"Attack\": 72, \"Defense\": 48, \"Pred\": 64.5}, {\"Attack\": 165, \"Defense\": 60, \"Pred\": 95.0}, {\"Attack\": 110, \"Defense\": 150, \"Pred\": 85.9}, {\"Attack\": 59, \"Defense\": 85, \"Pred\": 85.1}, {\"Attack\": 65, \"Defense\": 107, \"Pred\": 64.7}, {\"Attack\": 95, \"Defense\": 75, \"Pred\": 91.2}, {\"Attack\": 30, \"Defense\": 41, \"Pred\": 40.0}, {\"Attack\": 85, \"Defense\": 60, \"Pred\": 65.8}, {\"Attack\": 80, \"Defense\": 50, \"Pred\": 60.1}, {\"Attack\": 75, \"Defense\": 150, \"Pred\": 79.1}, {\"Attack\": 180, \"Defense\": 100, \"Pred\": 104.5}, {\"Attack\": 50, \"Defense\": 65, \"Pred\": 55.9}, {\"Attack\": 40, \"Defense\": 100, \"Pred\": 64.4}, {\"Attack\": 100, \"Defense\": 100, \"Pred\": 77.2}, {\"Attack\": 50, \"Defense\": 50, \"Pred\": 62.4}, {\"Attack\": 59, \"Defense\": 50, \"Pred\": 73.6}, {\"Attack\": 80, \"Defense\": 50, \"Pred\": 60.1}, {\"Attack\": 125, \"Defense\": 90, \"Pred\": 93.2}, {\"Attack\": 95, \"Defense\": 60, \"Pred\": 79.6}, {\"Attack\": 150, \"Defense\": 50, \"Pred\": 84.6}, {\"Attack\": 90, \"Defense\": 45, \"Pred\": 58.0}, {\"Attack\": 145, \"Defense\": 90, \"Pred\": 94.2}, {\"Attack\": 89, \"Defense\": 85, \"Pred\": 82.8}, {\"Attack\": 120, \"Defense\": 40, \"Pred\": 62.2}, {\"Attack\": 50, \"Defense\": 40, \"Pred\": 47.4}, {\"Attack\": 100, \"Defense\": 70, \"Pred\": 89.5}, {\"Attack\": 30, \"Defense\": 30, \"Pred\": 42.4}, {\"Attack\": 68, \"Defense\": 83, \"Pred\": 86.8}, {\"Attack\": 90, \"Defense\": 130, \"Pred\": 83.0}, {\"Attack\": 55, \"Defense\": 40, \"Pred\": 49.9}, {\"Attack\": 76, \"Defense\": 75, \"Pred\": 80.7}, {\"Attack\": 82, \"Defense\": 62, \"Pred\": 62.3}, {\"Attack\": 75, \"Defense\": 90, \"Pred\": 77.3}, {\"Attack\": 95, \"Defense\": 105, \"Pred\": 91.1}, {\"Attack\": 90, \"Defense\": 120, \"Pred\": 87.1}, {\"Attack\": 64, \"Defense\": 58, \"Pred\": 64.5}, {\"Attack\": 110, \"Defense\": 90, \"Pred\": 79.4}, {\"Attack\": 65, \"Defense\": 95, \"Pred\": 71.5}, {\"Attack\": 80, \"Defense\": 90, \"Pred\": 93.2}, {\"Attack\": 75, \"Defense\": 75, \"Pred\": 80.7}, {\"Attack\": 58, \"Defense\": 44, \"Pred\": 57.9}, {\"Attack\": 40, \"Defense\": 50, \"Pred\": 63.9}, {\"Attack\": 66, \"Defense\": 70, \"Pred\": 80.4}, {\"Attack\": 40, \"Defense\": 15, \"Pred\": 47.7}, {\"Attack\": 60, \"Defense\": 55, \"Pred\": 75.3}, {\"Attack\": 100, \"Defense\": 100, \"Pred\": 77.2}, {\"Attack\": 60, \"Defense\": 126, \"Pred\": 64.2}, {\"Attack\": 103, \"Defense\": 80, \"Pred\": 88.4}, {\"Attack\": 50, \"Defense\": 70, \"Pred\": 60.9}, {\"Attack\": 120, \"Defense\": 100, \"Pred\": 92.4}, {\"Attack\": 30, \"Defense\": 35, \"Pred\": 42.4}, {\"Attack\": 104, \"Defense\": 78, \"Pred\": 81.4}, {\"Attack\": 20, \"Defense\": 35, \"Pred\": 40.0}, {\"Attack\": 92, \"Defense\": 65, \"Pred\": 78.5}, {\"Attack\": 52, \"Defense\": 50, \"Pred\": 61.8}, {\"Attack\": 65, \"Defense\": 60, \"Pred\": 64.5}, {\"Attack\": 75, \"Defense\": 45, \"Pred\": 64.3}, {\"Attack\": 44, \"Defense\": 50, \"Pred\": 58.6}, {\"Attack\": 65, \"Defense\": 35, \"Pred\": 60.9}, {\"Attack\": 72, \"Defense\": 78, \"Pred\": 76.2}, {\"Attack\": 90, \"Defense\": 80, \"Pred\": 75.8}, {\"Attack\": 105, \"Defense\": 85, \"Pred\": 78.5}, {\"Attack\": 45, \"Defense\": 35, \"Pred\": 54.6}, {\"Attack\": 150, \"Defense\": 90, \"Pred\": 94.2}, {\"Attack\": 130, \"Defense\": 100, \"Pred\": 94.3}, {\"Attack\": 60, \"Defense\": 75, \"Pred\": 74.9}, {\"Attack\": 73, \"Defense\": 88, \"Pred\": 80.7}, {\"Attack\": 45, \"Defense\": 35, \"Pred\": 54.6}, {\"Attack\": 75, \"Defense\": 80, \"Pred\": 86.2}, {\"Attack\": 80, \"Defense\": 80, \"Pred\": 82.9}, {\"Attack\": 145, \"Defense\": 130, \"Pred\": 78.9}, {\"Attack\": 91, \"Defense\": 63, \"Pred\": 77.6}, {\"Attack\": 45, \"Defense\": 45, \"Pred\": 56.2}, {\"Attack\": 65, \"Defense\": 95, \"Pred\": 71.5}, {\"Attack\": 120, \"Defense\": 100, \"Pred\": 92.4}, {\"Attack\": 25, \"Defense\": 25, \"Pred\": 42.4}, {\"Attack\": 63, \"Defense\": 52, \"Pred\": 68.3}, {\"Attack\": 121, \"Defense\": 119, \"Pred\": 94.2}, {\"Attack\": 69, \"Defense\": 95, \"Pred\": 66.2}, {\"Attack\": 80, \"Defense\": 44, \"Pred\": 61.4}, {\"Attack\": 100, \"Defense\": 100, \"Pred\": 77.2}, {\"Attack\": 66, \"Defense\": 84, \"Pred\": 94.8}, {\"Attack\": 48, \"Defense\": 48, \"Pred\": 57.0}, {\"Attack\": 120, \"Defense\": 70, \"Pred\": 74.8}, {\"Attack\": 100, \"Defense\": 135, \"Pred\": 87.8}, {\"Attack\": 131, \"Defense\": 95, \"Pred\": 90.8}, {\"Attack\": 45, \"Defense\": 59, \"Pred\": 57.6}, {\"Attack\": 100, \"Defense\": 70, \"Pred\": 89.5}, {\"Attack\": 105, \"Defense\": 70, \"Pred\": 90.9}, {\"Attack\": 35, \"Defense\": 30, \"Pred\": 46.9}, {\"Attack\": 52, \"Defense\": 43, \"Pred\": 50.5}, {\"Attack\": 82, \"Defense\": 78, \"Pred\": 85.4}, {\"Attack\": 85, \"Defense\": 55, \"Pred\": 66.6}, {\"Attack\": 50, \"Defense\": 40, \"Pred\": 47.4}, {\"Attack\": 130, \"Defense\": 75, \"Pred\": 77.2}, {\"Attack\": 82, \"Defense\": 64, \"Pred\": 62.3}, {\"Attack\": 45, \"Defense\": 70, \"Pred\": 60.5}, {\"Attack\": 84, \"Defense\": 78, \"Pred\": 82.8}, {\"Attack\": 80, \"Defense\": 80, \"Pred\": 82.9}, {\"Attack\": 120, \"Defense\": 79, \"Pred\": 80.5}, {\"Attack\": 5, \"Defense\": 5, \"Pred\": 38.9}, {\"Attack\": 150, \"Defense\": 40, \"Pred\": 96.6}, {\"Attack\": 150, \"Defense\": 50, \"Pred\": 84.6}, {\"Attack\": 64, \"Defense\": 85, \"Pred\": 94.8}, {\"Attack\": 65, \"Defense\": 34, \"Pred\": 53.9}, {\"Attack\": 40, \"Defense\": 85, \"Pred\": 66.7}, {\"Attack\": 75, \"Defense\": 130, \"Pred\": 62.0}, {\"Attack\": 75, \"Defense\": 70, \"Pred\": 68.7}, {\"Attack\": 95, \"Defense\": 57, \"Pred\": 79.6}, {\"Attack\": 75, \"Defense\": 35, \"Pred\": 60.2}, {\"Attack\": 90, \"Defense\": 50, \"Pred\": 58.0}, {\"Attack\": 65, \"Defense\": 55, \"Pred\": 61.2}, {\"Attack\": 35, \"Defense\": 55, \"Pred\": 60.2}, {\"Attack\": 50, \"Defense\": 45, \"Pred\": 54.5}, {\"Attack\": 120, \"Defense\": 120, \"Pred\": 94.2}, {\"Attack\": 80, \"Defense\": 70, \"Pred\": 72.9}, {\"Attack\": 55, \"Defense\": 80, \"Pred\": 81.5}, {\"Attack\": 27, \"Defense\": 60, \"Pred\": 48.7}, {\"Attack\": 50, \"Defense\": 150, \"Pred\": 65.6}, {\"Attack\": 65, \"Defense\": 110, \"Pred\": 62.4}, {\"Attack\": 95, \"Defense\": 90, \"Pred\": 81.9}, {\"Attack\": 75, \"Defense\": 85, \"Pred\": 82.3}, {\"Attack\": 80, \"Defense\": 50, \"Pred\": 60.1}, {\"Attack\": 75, \"Defense\": 60, \"Pred\": 59.6}, {\"Attack\": 76, \"Defense\": 64, \"Pred\": 56.0}, {\"Attack\": 135, \"Defense\": 85, \"Pred\": 81.1}, {\"Attack\": 100, \"Defense\": 115, \"Pred\": 91.4}, {\"Attack\": 60, \"Defense\": 40, \"Pred\": 59.8}, {\"Attack\": 83, \"Defense\": 50, \"Pred\": 66.1}, {\"Attack\": 98, \"Defense\": 63, \"Pred\": 83.1}, {\"Attack\": 88, \"Defense\": 50, \"Pred\": 58.0}, {\"Attack\": 60, \"Defense\": 60, \"Pred\": 76.1}, {\"Attack\": 90, \"Defense\": 20, \"Pred\": 58.8}, {\"Attack\": 125, \"Defense\": 60, \"Pred\": 72.2}, {\"Attack\": 43, \"Defense\": 53, \"Pred\": 61.6}, {\"Attack\": 100, \"Defense\": 63, \"Pred\": 84.6}, {\"Attack\": 80, \"Defense\": 90, \"Pred\": 93.2}, {\"Attack\": 76, \"Defense\": 84, \"Pred\": 82.3}, {\"Attack\": 80, \"Defense\": 65, \"Pred\": 58.5}, {\"Attack\": 60, \"Defense\": 40, \"Pred\": 59.8}, {\"Attack\": 20, \"Defense\": 15, \"Pred\": 40.4}, {\"Attack\": 75, \"Defense\": 55, \"Pred\": 55.6}, {\"Attack\": 90, \"Defense\": 70, \"Pred\": 87.4}, {\"Attack\": 50, \"Defense\": 70, \"Pred\": 60.9}, {\"Attack\": 70, \"Defense\": 105, \"Pred\": 67.7}, {\"Attack\": 29, \"Defense\": 45, \"Pred\": 45.9}, {\"Attack\": 35, \"Defense\": 50, \"Pred\": 51.4}, {\"Attack\": 40, \"Defense\": 50, \"Pred\": 63.9}, {\"Attack\": 30, \"Defense\": 55, \"Pred\": 46.4}, {\"Attack\": 95, \"Defense\": 180, \"Pred\": 70.6}, {\"Attack\": 115, \"Defense\": 80, \"Pred\": 85.3}, {\"Attack\": 135, \"Defense\": 130, \"Pred\": 78.7}, {\"Attack\": 100, \"Defense\": 150, \"Pred\": 87.8}, {\"Attack\": 78, \"Defense\": 95, \"Pred\": 69.2}, {\"Attack\": 53, \"Defense\": 48, \"Pred\": 58.6}, {\"Attack\": 115, \"Defense\": 105, \"Pred\": 85.0}, {\"Attack\": 35, \"Defense\": 35, \"Pred\": 46.1}, {\"Attack\": 105, \"Defense\": 55, \"Pred\": 82.8}, {\"Attack\": 45, \"Defense\": 55, \"Pred\": 61.4}, {\"Attack\": 65, \"Defense\": 48, \"Pred\": 65.1}, {\"Attack\": 48, \"Defense\": 66, \"Pred\": 59.4}, {\"Attack\": 60, \"Defense\": 60, \"Pred\": 76.1}, {\"Attack\": 66, \"Defense\": 70, \"Pred\": 80.4}, {\"Attack\": 80, \"Defense\": 55, \"Pred\": 64.1}, {\"Attack\": 65, \"Defense\": 107, \"Pred\": 64.7}, {\"Attack\": 45, \"Defense\": 70, \"Pred\": 60.5}, {\"Attack\": 108, \"Defense\": 133, \"Pred\": 86.7}, {\"Attack\": 77, \"Defense\": 62, \"Pred\": 59.6}, {\"Attack\": 35, \"Defense\": 30, \"Pred\": 46.9}, {\"Attack\": 57, \"Defense\": 40, \"Pred\": 57.4}, {\"Attack\": 105, \"Defense\": 60, \"Pred\": 85.9}, {\"Attack\": 72, \"Defense\": 35, \"Pred\": 60.2}, {\"Attack\": 60, \"Defense\": 70, \"Pred\": 76.0}, {\"Attack\": 33, \"Defense\": 58, \"Pred\": 59.7}, {\"Attack\": 60, \"Defense\": 65, \"Pred\": 68.6}, {\"Attack\": 135, \"Defense\": 130, \"Pred\": 78.7}, {\"Attack\": 95, \"Defense\": 125, \"Pred\": 94.5}, {\"Attack\": 125, \"Defense\": 52, \"Pred\": 72.2}, {\"Attack\": 75, \"Defense\": 75, \"Pred\": 80.7}, {\"Attack\": 73, \"Defense\": 83, \"Pred\": 86.2}, {\"Attack\": 92, \"Defense\": 75, \"Pred\": 83.6}, {\"Attack\": 115, \"Defense\": 80, \"Pred\": 85.3}, {\"Attack\": 125, \"Defense\": 230, \"Pred\": 72.1}, {\"Attack\": 86, \"Defense\": 88, \"Pred\": 82.9}, {\"Attack\": 51, \"Defense\": 53, \"Pred\": 63.6}, {\"Attack\": 55, \"Defense\": 70, \"Pred\": 64.9}, {\"Attack\": 40, \"Defense\": 60, \"Pred\": 58.6}, {\"Attack\": 70, \"Defense\": 70, \"Pred\": 64.7}, {\"Attack\": 85, \"Defense\": 70, \"Pred\": 70.3}, {\"Attack\": 85, \"Defense\": 49, \"Pred\": 62.3}, {\"Attack\": 55, \"Defense\": 75, \"Pred\": 71.9}, {\"Attack\": 81, \"Defense\": 71, \"Pred\": 73.9}, {\"Attack\": 100, \"Defense\": 72, \"Pred\": 89.5}, {\"Attack\": 100, \"Defense\": 90, \"Pred\": 83.9}, {\"Attack\": 109, \"Defense\": 105, \"Pred\": 88.0}, {\"Attack\": 48, \"Defense\": 54, \"Pred\": 58.4}, {\"Attack\": 85, \"Defense\": 140, \"Pred\": 83.0}, {\"Attack\": 90, \"Defense\": 65, \"Pred\": 78.5}, {\"Attack\": 55, \"Defense\": 50, \"Pred\": 71.1}, {\"Attack\": 67, \"Defense\": 85, \"Pred\": 94.8}, {\"Attack\": 50, \"Defense\": 70, \"Pred\": 60.9}, {\"Attack\": 84, \"Defense\": 65, \"Pred\": 64.8}, {\"Attack\": 60, \"Defense\": 62, \"Pred\": 73.9}, {\"Attack\": 90, \"Defense\": 85, \"Pred\": 82.8}, {\"Attack\": 90, \"Defense\": 122, \"Pred\": 90.5}, {\"Attack\": 100, \"Defense\": 123, \"Pred\": 88.3}, {\"Attack\": 85, \"Defense\": 122, \"Pred\": 81.0}, {\"Attack\": 130, \"Defense\": 80, \"Pred\": 79.1}, {\"Attack\": 130, \"Defense\": 115, \"Pred\": 87.4}, {\"Attack\": 105, \"Defense\": 90, \"Pred\": 78.4}, {\"Attack\": 50, \"Defense\": 50, \"Pred\": 62.4}, {\"Attack\": 80, \"Defense\": 75, \"Pred\": 75.9}, {\"Attack\": 45, \"Defense\": 135, \"Pred\": 64.7}, {\"Attack\": 80, \"Defense\": 35, \"Pred\": 57.3}, {\"Attack\": 117, \"Defense\": 70, \"Pred\": 77.8}, {\"Attack\": 48, \"Defense\": 48, \"Pred\": 57.0}, {\"Attack\": 125, \"Defense\": 70, \"Pred\": 74.8}, {\"Attack\": 110, \"Defense\": 80, \"Pred\": 86.5}, {\"Attack\": 100, \"Defense\": 80, \"Pred\": 83.9}, {\"Attack\": 125, \"Defense\": 100, \"Pred\": 94.3}, {\"Attack\": 94, \"Defense\": 50, \"Pred\": 63.8}, {\"Attack\": 45, \"Defense\": 40, \"Pred\": 49.0}, {\"Attack\": 140, \"Defense\": 70, \"Pred\": 89.6}, {\"Attack\": 85, \"Defense\": 85, \"Pred\": 85.9}, {\"Attack\": 45, \"Defense\": 40, \"Pred\": 49.0}, {\"Attack\": 50, \"Defense\": 50, \"Pred\": 62.4}, {\"Attack\": 25, \"Defense\": 45, \"Pred\": 41.4}, {\"Attack\": 45, \"Defense\": 160, \"Pred\": 67.1}, {\"Attack\": 80, \"Defense\": 100, \"Pred\": 71.2}, {\"Attack\": 105, \"Defense\": 65, \"Pred\": 93.9}, {\"Attack\": 52, \"Defense\": 67, \"Pred\": 61.2}, {\"Attack\": 80, \"Defense\": 91, \"Pred\": 84.2}, {\"Attack\": 125, \"Defense\": 40, \"Pred\": 71.7}, {\"Attack\": 95, \"Defense\": 100, \"Pred\": 86.2}, {\"Attack\": 110, \"Defense\": 110, \"Pred\": 92.9}, {\"Attack\": 120, \"Defense\": 70, \"Pred\": 74.8}, {\"Attack\": 50, \"Defense\": 34, \"Pred\": 49.2}, {\"Attack\": 72, \"Defense\": 90, \"Pred\": 74.7}, {\"Attack\": 81, \"Defense\": 60, \"Pred\": 64.1}, {\"Attack\": 160, \"Defense\": 60, \"Pred\": 95.0}, {\"Attack\": 65, \"Defense\": 80, \"Pred\": 87.2}, {\"Attack\": 70, \"Defense\": 40, \"Pred\": 63.2}, {\"Attack\": 51, \"Defense\": 23, \"Pred\": 48.0}, {\"Attack\": 45, \"Defense\": 20, \"Pred\": 44.7}, {\"Attack\": 60, \"Defense\": 30, \"Pred\": 53.4}, {\"Attack\": 65, \"Defense\": 35, \"Pred\": 60.9}, {\"Attack\": 75, \"Defense\": 100, \"Pred\": 67.7}, {\"Attack\": 130, \"Defense\": 100, \"Pred\": 94.3}, {\"Attack\": 110, \"Defense\": 80, \"Pred\": 86.5}, {\"Attack\": 120, \"Defense\": 120, \"Pred\": 94.2}, {\"Attack\": 92, \"Defense\": 87, \"Pred\": 82.8}, {\"Attack\": 124, \"Defense\": 80, \"Pred\": 84.2}, {\"Attack\": 55, \"Defense\": 85, \"Pred\": 77.8}, {\"Attack\": 30, \"Defense\": 85, \"Pred\": 68.6}, {\"Attack\": 120, \"Defense\": 65, \"Pred\": 74.8}, {\"Attack\": 20, \"Defense\": 65, \"Pred\": 43.6}, {\"Attack\": 55, \"Defense\": 55, \"Pred\": 69.1}, {\"Attack\": 60, \"Defense\": 125, \"Pred\": 64.2}, {\"Attack\": 100, \"Defense\": 60, \"Pred\": 79.6}, {\"Attack\": 75, \"Defense\": 37, \"Pred\": 60.2}, {\"Attack\": 100, \"Defense\": 80, \"Pred\": 83.9}, {\"Attack\": 95, \"Defense\": 95, \"Pred\": 87.7}, {\"Attack\": 50, \"Defense\": 45, \"Pred\": 54.5}, {\"Attack\": 41, \"Defense\": 77, \"Pred\": 60.2}, {\"Attack\": 70, \"Defense\": 160, \"Pred\": 70.6}, {\"Attack\": 125, \"Defense\": 75, \"Pred\": 72.5}, {\"Attack\": 90, \"Defense\": 110, \"Pred\": 78.9}, {\"Attack\": 105, \"Defense\": 90, \"Pred\": 78.4}, {\"Attack\": 65, \"Defense\": 50, \"Pred\": 65.1}, {\"Attack\": 80, \"Defense\": 80, \"Pred\": 82.9}, {\"Attack\": 69, \"Defense\": 85, \"Pred\": 88.8}, {\"Attack\": 71, \"Defense\": 43, \"Pred\": 63.2}, {\"Attack\": 45, \"Defense\": 65, \"Pred\": 59.4}, {\"Attack\": 95, \"Defense\": 95, \"Pred\": 87.7}, {\"Attack\": 100, \"Defense\": 80, \"Pred\": 83.9}, {\"Attack\": 65, \"Defense\": 70, \"Pred\": 80.4}, {\"Attack\": 30, \"Defense\": 50, \"Pred\": 43.9}, {\"Attack\": 30, \"Defense\": 105, \"Pred\": 66.9}, {\"Attack\": 61, \"Defense\": 40, \"Pred\": 59.8}, {\"Attack\": 80, \"Defense\": 90, \"Pred\": 93.2}, {\"Attack\": 86, \"Defense\": 67, \"Pred\": 77.1}, {\"Attack\": 60, \"Defense\": 70, \"Pred\": 76.0}, {\"Attack\": 65, \"Defense\": 64, \"Pred\": 66.4}, {\"Attack\": 95, \"Defense\": 125, \"Pred\": 94.5}, {\"Attack\": 75, \"Defense\": 180, \"Pred\": 65.6}, {\"Attack\": 22, \"Defense\": 60, \"Pred\": 48.7}, {\"Attack\": 130, \"Defense\": 90, \"Pred\": 89.6}, {\"Attack\": 65, \"Defense\": 60, \"Pred\": 64.5}, {\"Attack\": 125, \"Defense\": 100, \"Pred\": 94.3}, {\"Attack\": 77, \"Defense\": 77, \"Pred\": 81.8}, {\"Attack\": 72, \"Defense\": 57, \"Pred\": 58.8}, {\"Attack\": 100, \"Defense\": 89, \"Pred\": 83.9}, {\"Attack\": 35, \"Defense\": 55, \"Pred\": 60.2}, {\"Attack\": 58, \"Defense\": 57, \"Pred\": 72.3}, {\"Attack\": 80, \"Defense\": 102, \"Pred\": 73.2}, {\"Attack\": 165, \"Defense\": 95, \"Pred\": 106.2}, {\"Attack\": 63, \"Defense\": 90, \"Pred\": 77.5}, {\"Attack\": 84, \"Defense\": 105, \"Pred\": 75.1}, {\"Attack\": 90, \"Defense\": 45, \"Pred\": 58.0}, {\"Attack\": 180, \"Defense\": 160, \"Pred\": 78.9}, {\"Attack\": 135, \"Defense\": 80, \"Pred\": 89.5}, {\"Attack\": 105, \"Defense\": 75, \"Pred\": 81.8}, {\"Attack\": 55, \"Defense\": 40, \"Pred\": 49.9}, {\"Attack\": 75, \"Defense\": 85, \"Pred\": 82.3}, {\"Attack\": 95, \"Defense\": 85, \"Pred\": 84.8}, {\"Attack\": 85, \"Defense\": 85, \"Pred\": 85.9}, {\"Attack\": 55, \"Defense\": 85, \"Pred\": 77.8}, {\"Attack\": 45, \"Defense\": 45, \"Pred\": 56.2}, {\"Attack\": 104, \"Defense\": 105, \"Pred\": 85.2}, {\"Attack\": 105, \"Defense\": 115, \"Pred\": 90.3}, {\"Attack\": 85, \"Defense\": 42, \"Pred\": 61.6}, {\"Attack\": 110, \"Defense\": 75, \"Pred\": 79.8}, {\"Attack\": 85, \"Defense\": 80, \"Pred\": 86.3}, {\"Attack\": 150, \"Defense\": 90, \"Pred\": 94.2}, {\"Attack\": 30, \"Defense\": 50, \"Pred\": 43.9}, {\"Attack\": 130, \"Defense\": 111, \"Pred\": 93.9}, {\"Attack\": 85, \"Defense\": 51, \"Pred\": 66.1}, {\"Attack\": 70, \"Defense\": 70, \"Pred\": 64.7}, {\"Attack\": 130, \"Defense\": 60, \"Pred\": 76.3}, {\"Attack\": 75, \"Defense\": 80, \"Pred\": 86.2}, {\"Attack\": 110, \"Defense\": 80, \"Pred\": 86.5}, {\"Attack\": 90, \"Defense\": 140, \"Pred\": 87.0}, {\"Attack\": 47, \"Defense\": 55, \"Pred\": 55.9}, {\"Attack\": 165, \"Defense\": 75, \"Pred\": 92.0}, {\"Attack\": 90, \"Defense\": 45, \"Pred\": 58.0}, {\"Attack\": 30, \"Defense\": 35, \"Pred\": 42.4}, {\"Attack\": 58, \"Defense\": 80, \"Pred\": 81.5}, {\"Attack\": 80, \"Defense\": 85, \"Pred\": 86.8}, {\"Attack\": 123, \"Defense\": 65, \"Pred\": 74.8}, {\"Attack\": 70, \"Defense\": 50, \"Pred\": 63.4}, {\"Attack\": 97, \"Defense\": 66, \"Pred\": 83.5}, {\"Attack\": 35, \"Defense\": 30, \"Pred\": 46.9}, {\"Attack\": 120, \"Defense\": 130, \"Pred\": 90.5}, {\"Attack\": 70, \"Defense\": 48, \"Pred\": 62.7}, {\"Attack\": 125, \"Defense\": 79, \"Pred\": 84.2}, {\"Attack\": 40, \"Defense\": 50, \"Pred\": 63.9}, {\"Attack\": 80, \"Defense\": 70, \"Pred\": 72.9}, {\"Attack\": 100, \"Defense\": 122, \"Pred\": 88.3}, {\"Attack\": 110, \"Defense\": 90, \"Pred\": 79.4}, {\"Attack\": 30, \"Defense\": 15, \"Pred\": 43.4}, {\"Attack\": 30, \"Defense\": 50, \"Pred\": 43.9}, {\"Attack\": 80, \"Defense\": 110, \"Pred\": 78.6}, {\"Attack\": 65, \"Defense\": 65, \"Pred\": 67.1}, {\"Attack\": 70, \"Defense\": 45, \"Pred\": 62.7}, {\"Attack\": 53, \"Defense\": 48, \"Pred\": 58.6}, {\"Attack\": 55, \"Defense\": 25, \"Pred\": 47.2}, {\"Attack\": 50, \"Defense\": 91, \"Pred\": 73.8}, {\"Attack\": 40, \"Defense\": 50, \"Pred\": 63.9}, {\"Attack\": 20, \"Defense\": 30, \"Pred\": 39.9}, {\"Attack\": 100, \"Defense\": 115, \"Pred\": 91.4}, {\"Attack\": 147, \"Defense\": 90, \"Pred\": 94.2}, {\"Attack\": 20, \"Defense\": 50, \"Pred\": 37.9}, {\"Attack\": 20, \"Defense\": 50, \"Pred\": 37.9}, {\"Attack\": 104, \"Defense\": 71, \"Pred\": 88.6}, {\"Attack\": 160, \"Defense\": 110, \"Pred\": 86.3}, {\"Attack\": 83, \"Defense\": 57, \"Pred\": 67.1}, {\"Attack\": 75, \"Defense\": 110, \"Pred\": 67.7}, {\"Attack\": 100, \"Defense\": 121, \"Pred\": 86.3}, {\"Attack\": 134, \"Defense\": 95, \"Pred\": 94.3}, {\"Attack\": 54, \"Defense\": 53, \"Pred\": 65.6}, {\"Attack\": 125, \"Defense\": 75, \"Pred\": 72.5}, {\"Attack\": 50, \"Defense\": 35, \"Pred\": 47.0}, {\"Attack\": 100, \"Defense\": 100, \"Pred\": 77.2}, {\"Attack\": 48, \"Defense\": 76, \"Pred\": 64.7}, {\"Attack\": 59, \"Defense\": 58, \"Pred\": 78.8}, {\"Attack\": 45, \"Defense\": 65, \"Pred\": 59.4}, {\"Attack\": 145, \"Defense\": 88, \"Pred\": 94.2}, {\"Attack\": 70, \"Defense\": 100, \"Pred\": 61.7}, {\"Attack\": 65, \"Defense\": 60, \"Pred\": 64.5}, {\"Attack\": 90, \"Defense\": 129, \"Pred\": 81.5}, {\"Attack\": 140, \"Defense\": 230, \"Pred\": 72.1}, {\"Attack\": 45, \"Defense\": 40, \"Pred\": 49.0}, {\"Attack\": 85, \"Defense\": 95, \"Pred\": 76.7}, {\"Attack\": 50, \"Defense\": 100, \"Pred\": 69.7}, {\"Attack\": 82, \"Defense\": 45, \"Pred\": 60.9}, {\"Attack\": 55, \"Defense\": 115, \"Pred\": 71.2}, {\"Attack\": 35, \"Defense\": 50, \"Pred\": 51.4}, {\"Attack\": 70, \"Defense\": 115, \"Pred\": 65.1}, {\"Attack\": 95, \"Defense\": 75, \"Pred\": 91.2}, {\"Attack\": 49, \"Defense\": 49, \"Pred\": 55.5}, {\"Attack\": 85, \"Defense\": 65, \"Pred\": 73.3}, {\"Attack\": 45, \"Defense\": 35, \"Pred\": 54.6}, {\"Attack\": 72, \"Defense\": 72, \"Pred\": 75.7}, {\"Attack\": 80, \"Defense\": 80, \"Pred\": 82.9}, {\"Attack\": 73, \"Defense\": 70, \"Pred\": 67.2}, {\"Attack\": 75, \"Defense\": 60, \"Pred\": 59.6}, {\"Attack\": 70, \"Defense\": 55, \"Pred\": 58.8}, {\"Attack\": 160, \"Defense\": 80, \"Pred\": 92.5}, {\"Attack\": 100, \"Defense\": 62, \"Pred\": 83.1}, {\"Attack\": 66, \"Defense\": 70, \"Pred\": 80.4}, {\"Attack\": 190, \"Defense\": 100, \"Pred\": 104.5}, {\"Attack\": 65, \"Defense\": 40, \"Pred\": 68.1}, {\"Attack\": 20, \"Defense\": 40, \"Pred\": 36.3}, {\"Attack\": 65, \"Defense\": 45, \"Pred\": 66.6}, {\"Attack\": 45, \"Defense\": 43, \"Pred\": 57.7}, {\"Attack\": 53, \"Defense\": 62, \"Pred\": 58.6}, {\"Attack\": 160, \"Defense\": 100, \"Pred\": 100.2}, {\"Attack\": 55, \"Defense\": 75, \"Pred\": 71.9}, {\"Attack\": 65, \"Defense\": 65, \"Pred\": 67.1}, {\"Attack\": 120, \"Defense\": 85, \"Pred\": 84.2}, {\"Attack\": 100, \"Defense\": 85, \"Pred\": 86.4}, {\"Attack\": 36, \"Defense\": 38, \"Pred\": 45.5}, {\"Attack\": 83, \"Defense\": 68, \"Pred\": 61.8}, {\"Attack\": 87, \"Defense\": 60, \"Pred\": 66.0}, {\"Attack\": 35, \"Defense\": 70, \"Pred\": 63.7}, {\"Attack\": 62, \"Defense\": 80, \"Pred\": 90.4}, {\"Attack\": 64, \"Defense\": 58, \"Pred\": 64.5}, {\"Attack\": 60, \"Defense\": 50, \"Pred\": 73.6}, {\"Attack\": 92, \"Defense\": 108, \"Pred\": 80.5}, {\"Attack\": 81, \"Defense\": 97, \"Pred\": 72.2}, {\"Attack\": 70, \"Defense\": 65, \"Pred\": 63.3}, {\"Attack\": 100, \"Defense\": 95, \"Pred\": 78.4}, {\"Attack\": 70, \"Defense\": 80, \"Pred\": 77.7}, {\"Attack\": 63, \"Defense\": 45, \"Pred\": 68.6}, {\"Attack\": 105, \"Defense\": 79, \"Pred\": 80.5}, {\"Attack\": 120, \"Defense\": 90, \"Pred\": 89.7}, {\"Attack\": 120, \"Defense\": 100, \"Pred\": 92.4}, {\"Attack\": 85, \"Defense\": 70, \"Pred\": 70.3}, {\"Attack\": 105, \"Defense\": 125, \"Pred\": 85.2}, {\"Attack\": 125, \"Defense\": 65, \"Pred\": 71.3}, {\"Attack\": 105, \"Defense\": 105, \"Pred\": 79.0}, {\"Attack\": 78, \"Defense\": 73, \"Pred\": 75.8}, {\"Attack\": 93, \"Defense\": 67, \"Pred\": 74.0}, {\"Attack\": 50, \"Defense\": 90, \"Pred\": 80.3}, {\"Attack\": 45, \"Defense\": 90, \"Pred\": 74.3}, {\"Attack\": 117, \"Defense\": 184, \"Pred\": 72.1}, {\"Attack\": 100, \"Defense\": 70, \"Pred\": 89.5}, {\"Attack\": 50, \"Defense\": 45, \"Pred\": 54.5}, {\"Attack\": 83, \"Defense\": 100, \"Pred\": 76.7}, {\"Attack\": 65, \"Defense\": 65, \"Pred\": 67.1}, {\"Attack\": 60, \"Defense\": 60, \"Pred\": 76.1}, {\"Attack\": 100, \"Defense\": 60, \"Pred\": 79.6}, {\"Attack\": 70, \"Defense\": 40, \"Pred\": 63.2}, {\"Attack\": 85, \"Defense\": 60, \"Pred\": 65.8}, {\"Attack\": 56, \"Defense\": 35, \"Pred\": 42.4}, {\"Attack\": 90, \"Defense\": 115, \"Pred\": 88.1}, {\"Attack\": 120, \"Defense\": 53, \"Pred\": 66.7}, {\"Attack\": 80, \"Defense\": 100, \"Pred\": 71.2}, {\"Attack\": 90, \"Defense\": 70, \"Pred\": 87.4}, {\"Attack\": 95, \"Defense\": 85, \"Pred\": 84.8}, {\"Attack\": 160, \"Defense\": 110, \"Pred\": 86.3}, {\"Attack\": 25, \"Defense\": 45, \"Pred\": 41.4}, {\"Attack\": 30, \"Defense\": 40, \"Pred\": 44.5}, {\"Attack\": 15, \"Defense\": 20, \"Pred\": 38.9}, {\"Attack\": 48, \"Defense\": 43, \"Pred\": 54.7}, {\"Attack\": 65, \"Defense\": 65, \"Pred\": 67.1}, {\"Attack\": 164, \"Defense\": 150, \"Pred\": 83.9}, {\"Attack\": 90, \"Defense\": 72, \"Pred\": 83.6}, {\"Attack\": 60, \"Defense\": 95, \"Pred\": 77.0}, {\"Attack\": 123, \"Defense\": 75, \"Pred\": 71.5}, {\"Attack\": 85, \"Defense\": 50, \"Pred\": 66.1}, {\"Attack\": 23, \"Defense\": 48, \"Pred\": 37.9}, {\"Attack\": 69, \"Defense\": 72, \"Pred\": 77.9}, {\"Attack\": 90, \"Defense\": 90, \"Pred\": 81.0}, {\"Attack\": 60, \"Defense\": 44, \"Pred\": 59.5}, {\"Attack\": 55, \"Defense\": 50, \"Pred\": 71.1}, {\"Attack\": 30, \"Defense\": 35, \"Pred\": 42.4}, {\"Attack\": 150, \"Defense\": 120, \"Pred\": 85.1}, {\"Attack\": 50, \"Defense\": 150, \"Pred\": 65.6}, {\"Attack\": 30, \"Defense\": 15, \"Pred\": 43.4}, {\"Attack\": 40, \"Defense\": 40, \"Pred\": 50.5}, {\"Attack\": 65, \"Defense\": 65, \"Pred\": 67.1}, {\"Attack\": 85, \"Defense\": 70, \"Pred\": 70.3}, {\"Attack\": 60, \"Defense\": 110, \"Pred\": 71.1}, {\"Attack\": 70, \"Defense\": 80, \"Pred\": 77.7}, {\"Attack\": 52, \"Defense\": 168, \"Pred\": 66.6}, {\"Attack\": 64, \"Defense\": 45, \"Pred\": 68.1}, {\"Attack\": 78, \"Defense\": 103, \"Pred\": 70.2}, {\"Attack\": 131, \"Defense\": 95, \"Pred\": 90.8}, {\"Attack\": 75, \"Defense\": 50, \"Pred\": 62.1}, {\"Attack\": 25, \"Defense\": 28, \"Pred\": 42.4}, {\"Attack\": 185, \"Defense\": 115, \"Pred\": 100.2}, {\"Attack\": 65, \"Defense\": 65, \"Pred\": 67.1}, {\"Attack\": 170, \"Defense\": 100, \"Pred\": 104.5}, {\"Attack\": 65, \"Defense\": 60, \"Pred\": 64.5}, {\"Attack\": 95, \"Defense\": 62, \"Pred\": 77.1}, {\"Attack\": 45, \"Defense\": 40, \"Pred\": 49.0}, {\"Attack\": 140, \"Defense\": 65, \"Pred\": 90.7}, {\"Attack\": 65, \"Defense\": 107, \"Pred\": 64.7}, {\"Attack\": 124, \"Defense\": 78, \"Pred\": 80.5}, {\"Attack\": 85, \"Defense\": 70, \"Pred\": 70.3}, {\"Attack\": 80, \"Defense\": 95, \"Pred\": 69.2}, {\"Attack\": 50, \"Defense\": 95, \"Pred\": 73.3}, {\"Attack\": 50, \"Defense\": 35, \"Pred\": 47.0}, {\"Attack\": 85, \"Defense\": 75, \"Pred\": 84.3}, {\"Attack\": 100, \"Defense\": 45, \"Pred\": 58.9}, {\"Attack\": 70, \"Defense\": 90, \"Pred\": 78.4}, {\"Attack\": 85, \"Defense\": 95, \"Pred\": 76.7}, {\"Attack\": 56, \"Defense\": 77, \"Pred\": 71.4}, {\"Attack\": 66, \"Defense\": 68, \"Pred\": 79.0}, {\"Attack\": 90, \"Defense\": 140, \"Pred\": 87.0}, {\"Attack\": 150, \"Defense\": 110, \"Pred\": 86.3}, {\"Attack\": 92, \"Defense\": 88, \"Pred\": 82.8}, {\"Attack\": 140, \"Defense\": 95, \"Pred\": 86.8}, {\"Attack\": 90, \"Defense\": 70, \"Pred\": 87.4}, {\"Attack\": 45, \"Defense\": 55, \"Pred\": 61.4}, {\"Attack\": 115, \"Defense\": 70, \"Pred\": 77.8}, {\"Attack\": 35, \"Defense\": 35, \"Pred\": 46.1}, {\"Attack\": 110, \"Defense\": 70, \"Pred\": 82.3}, {\"Attack\": 100, \"Defense\": 100, \"Pred\": 77.2}, {\"Attack\": 75, \"Defense\": 95, \"Pred\": 63.7}, {\"Attack\": 87, \"Defense\": 63, \"Pred\": 76.8}, {\"Attack\": 135, \"Defense\": 105, \"Pred\": 94.3}, {\"Attack\": 63, \"Defense\": 47, \"Pred\": 66.6}, {\"Attack\": 30, \"Defense\": 30, \"Pred\": 42.4}, {\"Attack\": 50, \"Defense\": 55, \"Pred\": 62.3}, {\"Attack\": 40, \"Defense\": 60, \"Pred\": 58.6}, {\"Attack\": 62, \"Defense\": 67, \"Pred\": 76.1}, {\"Attack\": 123, \"Defense\": 67, \"Pred\": 74.8}, {\"Attack\": 48, \"Defense\": 45, \"Pred\": 58.7}, {\"Attack\": 45, \"Defense\": 47, \"Pred\": 57.7}, {\"Attack\": 110, \"Defense\": 180, \"Pred\": 71.1}, {\"Attack\": 80, \"Defense\": 80, \"Pred\": 82.9}, {\"Attack\": 40, \"Defense\": 55, \"Pred\": 62.1}, {\"Attack\": 70, \"Defense\": 120, \"Pred\": 60.8}, {\"Attack\": 55, \"Defense\": 30, \"Pred\": 47.2}, {\"Attack\": 65, \"Defense\": 45, \"Pred\": 66.6}, {\"Attack\": 61, \"Defense\": 65, \"Pred\": 68.6}, {\"Attack\": 50, \"Defense\": 120, \"Pred\": 70.2}, {\"Attack\": 50, \"Defense\": 77, \"Pred\": 68.2}, {\"Attack\": 90, \"Defense\": 45, \"Pred\": 58.0}, {\"Attack\": 110, \"Defense\": 90, \"Pred\": 79.4}, {\"Attack\": 80, \"Defense\": 50, \"Pred\": 60.1}, {\"Attack\": 63, \"Defense\": 80, \"Pred\": 82.4}, {\"Attack\": 150, \"Defense\": 140, \"Pred\": 83.9}, {\"Attack\": 80, \"Defense\": 90, \"Pred\": 93.2}, {\"Attack\": 40, \"Defense\": 70, \"Pred\": 61.2}, {\"Attack\": 106, \"Defense\": 65, \"Pred\": 93.9}, {\"Attack\": 80, \"Defense\": 60, \"Pred\": 63.1}, {\"Attack\": 60, \"Defense\": 86, \"Pred\": 80.9}, {\"Attack\": 80, \"Defense\": 70, \"Pred\": 72.9}, {\"Attack\": 95, \"Defense\": 80, \"Pred\": 88.3}, {\"Attack\": 130, \"Defense\": 80, \"Pred\": 79.1}, {\"Attack\": 65, \"Defense\": 75, \"Pred\": 82.4}, {\"Attack\": 52, \"Defense\": 60, \"Pred\": 62.7}, {\"Attack\": 60, \"Defense\": 30, \"Pred\": 53.4}, {\"Attack\": 110, \"Defense\": 130, \"Pred\": 86.7}, {\"Attack\": 90, \"Defense\": 65, \"Pred\": 78.5}, {\"Attack\": 100, \"Defense\": 70, \"Pred\": 89.5}, {\"Attack\": 85, \"Defense\": 60, \"Pred\": 65.8}, {\"Attack\": 50, \"Defense\": 100, \"Pred\": 69.7}, {\"Attack\": 90, \"Defense\": 130, \"Pred\": 83.0}, {\"Attack\": 95, \"Defense\": 82, \"Pred\": 88.3}, {\"Attack\": 64, \"Defense\": 50, \"Pred\": 65.1}, {\"Attack\": 76, \"Defense\": 86, \"Pred\": 87.1}, {\"Attack\": 55, \"Defense\": 35, \"Pred\": 44.4}, {\"Attack\": 115, \"Defense\": 60, \"Pred\": 74.2}, {\"Attack\": 74, \"Defense\": 50, \"Pred\": 60.5}, {\"Attack\": 145, \"Defense\": 150, \"Pred\": 85.9}, {\"Attack\": 80, \"Defense\": 50, \"Pred\": 60.1}, {\"Attack\": 38, \"Defense\": 38, \"Pred\": 45.0}, {\"Attack\": 10, \"Defense\": 10, \"Pred\": 38.9}, {\"Attack\": 100, \"Defense\": 125, \"Pred\": 88.3}, {\"Attack\": 75, \"Defense\": 75, \"Pred\": 80.7}]}}, {\"mode\": \"vega-lite\"});\n</script>",
      "text/plain": "alt.LayerChart(...)"
     },
     "metadata": {}
    }
   ]
  },
  {
   "cell_type": "markdown",
   "source": "Determine which value affects the special attack more : Attack or Defense",
   "metadata": {
    "cell_id": "6f908d328b5449edac973afafcdecc41",
    "tags": [],
    "deepnote_cell_type": "markdown",
    "deepnote_cell_height": 52.359375
   }
  },
  {
   "cell_type": "code",
   "metadata": {
    "cell_id": "b27f9fd31a70464a8764e18e80be14f7",
    "tags": [],
    "deepnote_to_be_reexecuted": false,
    "source_hash": "e284502d",
    "execution_start": 1654751751687,
    "execution_millis": 74,
    "deepnote_cell_type": "code",
    "deepnote_cell_height": 601.953125
   },
   "source": "c8 = alt.Chart(X_test1).mark_line().encode(\n    x=\"Attack\",\n    y=\"Pred\"\n)\nc9=alt.Chart(X_test1).mark_line(color=\"red\").encode(\n    x=\"Defense\",\n    y=\"Pred\"\n)\nc8+c9",
   "execution_count": null,
   "outputs": [
    {
     "output_type": "execute_result",
     "execution_count": 28,
     "data": {
      "text/html": "\n<div id=\"altair-viz-9ead159725644f10a5b5fc2979c44f72\"></div>\n<script type=\"text/javascript\">\n  (function(spec, embedOpt){\n    let outputDiv = document.currentScript.previousElementSibling;\n    if (outputDiv.id !== \"altair-viz-9ead159725644f10a5b5fc2979c44f72\") {\n      outputDiv = document.getElementById(\"altair-viz-9ead159725644f10a5b5fc2979c44f72\");\n    }\n    const paths = {\n      \"vega\": \"https://cdn.jsdelivr.net/npm//vega@5?noext\",\n      \"vega-lib\": \"https://cdn.jsdelivr.net/npm//vega-lib?noext\",\n      \"vega-lite\": \"https://cdn.jsdelivr.net/npm//vega-lite@4.8.1?noext\",\n      \"vega-embed\": \"https://cdn.jsdelivr.net/npm//vega-embed@6?noext\",\n    };\n\n    function loadScript(lib) {\n      return new Promise(function(resolve, reject) {\n        var s = document.createElement('script');\n        s.src = paths[lib];\n        s.async = true;\n        s.onload = () => resolve(paths[lib]);\n        s.onerror = () => reject(`Error loading script: ${paths[lib]}`);\n        document.getElementsByTagName(\"head\")[0].appendChild(s);\n      });\n    }\n\n    function showError(err) {\n      outputDiv.innerHTML = `<div class=\"error\" style=\"color:red;\">${err}</div>`;\n      throw err;\n    }\n\n    function displayChart(vegaEmbed) {\n      vegaEmbed(outputDiv, spec, embedOpt)\n        .catch(err => showError(`Javascript Error: ${err.message}<br>This usually means there's a typo in your chart specification. See the javascript console for the full traceback.`));\n    }\n\n    if(typeof define === \"function\" && define.amd) {\n      requirejs.config({paths});\n      require([\"vega-embed\"], displayChart, err => showError(`Error loading script: ${err.message}`));\n    } else if (typeof vegaEmbed === \"function\") {\n      displayChart(vegaEmbed);\n    } else {\n      loadScript(\"vega\")\n        .then(() => loadScript(\"vega-lite\"))\n        .then(() => loadScript(\"vega-embed\"))\n        .catch(showError)\n        .then(() => displayChart(vegaEmbed));\n    }\n  })({\"config\": {\"view\": {\"continuousWidth\": 400, \"continuousHeight\": 300}}, \"layer\": [{\"mark\": \"line\", \"encoding\": {\"x\": {\"type\": \"quantitative\", \"field\": \"Attack\"}, \"y\": {\"type\": \"quantitative\", \"field\": \"Pred\"}}}, {\"mark\": {\"type\": \"line\", \"color\": \"red\"}, \"encoding\": {\"x\": {\"type\": \"quantitative\", \"field\": \"Defense\"}, \"y\": {\"type\": \"quantitative\", \"field\": \"Pred\"}}}], \"data\": {\"name\": \"data-a26a56eadbb28f824d881fb4340d1f3d\"}, \"$schema\": \"https://vega.github.io/schema/vega-lite/v4.8.1.json\", \"datasets\": {\"data-a26a56eadbb28f824d881fb4340d1f3d\": [{\"Attack\": 90, \"Defense\": 90, \"Pred\": 81.0}, {\"Attack\": 55, \"Defense\": 65, \"Pred\": 59.6}, {\"Attack\": 73, \"Defense\": 55, \"Pred\": 55.6}, {\"Attack\": 80, \"Defense\": 95, \"Pred\": 69.2}, {\"Attack\": 38, \"Defense\": 39, \"Pred\": 47.5}, {\"Attack\": 95, \"Defense\": 85, \"Pred\": 84.8}, {\"Attack\": 60, \"Defense\": 45, \"Pred\": 58.3}, {\"Attack\": 72, \"Defense\": 90, \"Pred\": 74.7}, {\"Attack\": 60, \"Defense\": 40, \"Pred\": 59.8}, {\"Attack\": 41, \"Defense\": 40, \"Pred\": 51.5}, {\"Attack\": 130, \"Defense\": 120, \"Pred\": 86.8}, {\"Attack\": 70, \"Defense\": 35, \"Pred\": 60.2}, {\"Attack\": 95, \"Defense\": 50, \"Pred\": 63.8}, {\"Attack\": 105, \"Defense\": 60, \"Pred\": 85.9}, {\"Attack\": 65, \"Defense\": 68, \"Pred\": 79.0}, {\"Attack\": 100, \"Defense\": 66, \"Pred\": 86.1}, {\"Attack\": 65, \"Defense\": 90, \"Pred\": 80.9}, {\"Attack\": 77, \"Defense\": 60, \"Pred\": 62.6}, {\"Attack\": 85, \"Defense\": 125, \"Pred\": 88.6}, {\"Attack\": 68, \"Defense\": 64, \"Pred\": 67.8}, {\"Attack\": 135, \"Defense\": 60, \"Pred\": 89.2}, {\"Attack\": 98, \"Defense\": 63, \"Pred\": 83.1}, {\"Attack\": 65, \"Defense\": 107, \"Pred\": 64.7}, {\"Attack\": 125, \"Defense\": 100, \"Pred\": 94.3}, {\"Attack\": 40, \"Defense\": 80, \"Pred\": 53.1}, {\"Attack\": 110, \"Defense\": 60, \"Pred\": 82.5}, {\"Attack\": 73, \"Defense\": 55, \"Pred\": 55.6}, {\"Attack\": 150, \"Defense\": 140, \"Pred\": 83.9}, {\"Attack\": 50, \"Defense\": 95, \"Pred\": 73.3}, {\"Attack\": 40, \"Defense\": 55, \"Pred\": 62.1}, {\"Attack\": 115, \"Defense\": 70, \"Pred\": 77.8}, {\"Attack\": 85, \"Defense\": 69, \"Pred\": 70.3}, {\"Attack\": 95, \"Defense\": 115, \"Pred\": 91.4}, {\"Attack\": 100, \"Defense\": 85, \"Pred\": 86.4}, {\"Attack\": 55, \"Defense\": 45, \"Pred\": 55.7}, {\"Attack\": 110, \"Defense\": 70, \"Pred\": 82.3}, {\"Attack\": 55, \"Defense\": 45, \"Pred\": 55.7}, {\"Attack\": 75, \"Defense\": 60, \"Pred\": 59.6}, {\"Attack\": 77, \"Defense\": 72, \"Pred\": 75.8}, {\"Attack\": 85, \"Defense\": 65, \"Pred\": 73.3}, {\"Attack\": 155, \"Defense\": 120, \"Pred\": 85.1}, {\"Attack\": 58, \"Defense\": 58, \"Pred\": 77.1}, {\"Attack\": 65, \"Defense\": 85, \"Pred\": 94.8}, {\"Attack\": 100, \"Defense\": 70, \"Pred\": 89.5}, {\"Attack\": 128, \"Defense\": 90, \"Pred\": 89.6}, {\"Attack\": 85, \"Defense\": 70, \"Pred\": 70.3}, {\"Attack\": 72, \"Defense\": 48, \"Pred\": 64.5}, {\"Attack\": 165, \"Defense\": 60, \"Pred\": 95.0}, {\"Attack\": 110, \"Defense\": 150, \"Pred\": 85.9}, {\"Attack\": 59, \"Defense\": 85, \"Pred\": 85.1}, {\"Attack\": 65, \"Defense\": 107, \"Pred\": 64.7}, {\"Attack\": 95, \"Defense\": 75, \"Pred\": 91.2}, {\"Attack\": 30, \"Defense\": 41, \"Pred\": 40.0}, {\"Attack\": 85, \"Defense\": 60, \"Pred\": 65.8}, {\"Attack\": 80, \"Defense\": 50, \"Pred\": 60.1}, {\"Attack\": 75, \"Defense\": 150, \"Pred\": 79.1}, {\"Attack\": 180, \"Defense\": 100, \"Pred\": 104.5}, {\"Attack\": 50, \"Defense\": 65, \"Pred\": 55.9}, {\"Attack\": 40, \"Defense\": 100, \"Pred\": 64.4}, {\"Attack\": 100, \"Defense\": 100, \"Pred\": 77.2}, {\"Attack\": 50, \"Defense\": 50, \"Pred\": 62.4}, {\"Attack\": 59, \"Defense\": 50, \"Pred\": 73.6}, {\"Attack\": 80, \"Defense\": 50, \"Pred\": 60.1}, {\"Attack\": 125, \"Defense\": 90, \"Pred\": 93.2}, {\"Attack\": 95, \"Defense\": 60, \"Pred\": 79.6}, {\"Attack\": 150, \"Defense\": 50, \"Pred\": 84.6}, {\"Attack\": 90, \"Defense\": 45, \"Pred\": 58.0}, {\"Attack\": 145, \"Defense\": 90, \"Pred\": 94.2}, {\"Attack\": 89, \"Defense\": 85, \"Pred\": 82.8}, {\"Attack\": 120, \"Defense\": 40, \"Pred\": 62.2}, {\"Attack\": 50, \"Defense\": 40, \"Pred\": 47.4}, {\"Attack\": 100, \"Defense\": 70, \"Pred\": 89.5}, {\"Attack\": 30, \"Defense\": 30, \"Pred\": 42.4}, {\"Attack\": 68, \"Defense\": 83, \"Pred\": 86.8}, {\"Attack\": 90, \"Defense\": 130, \"Pred\": 83.0}, {\"Attack\": 55, \"Defense\": 40, \"Pred\": 49.9}, {\"Attack\": 76, \"Defense\": 75, \"Pred\": 80.7}, {\"Attack\": 82, \"Defense\": 62, \"Pred\": 62.3}, {\"Attack\": 75, \"Defense\": 90, \"Pred\": 77.3}, {\"Attack\": 95, \"Defense\": 105, \"Pred\": 91.1}, {\"Attack\": 90, \"Defense\": 120, \"Pred\": 87.1}, {\"Attack\": 64, \"Defense\": 58, \"Pred\": 64.5}, {\"Attack\": 110, \"Defense\": 90, \"Pred\": 79.4}, {\"Attack\": 65, \"Defense\": 95, \"Pred\": 71.5}, {\"Attack\": 80, \"Defense\": 90, \"Pred\": 93.2}, {\"Attack\": 75, \"Defense\": 75, \"Pred\": 80.7}, {\"Attack\": 58, \"Defense\": 44, \"Pred\": 57.9}, {\"Attack\": 40, \"Defense\": 50, \"Pred\": 63.9}, {\"Attack\": 66, \"Defense\": 70, \"Pred\": 80.4}, {\"Attack\": 40, \"Defense\": 15, \"Pred\": 47.7}, {\"Attack\": 60, \"Defense\": 55, \"Pred\": 75.3}, {\"Attack\": 100, \"Defense\": 100, \"Pred\": 77.2}, {\"Attack\": 60, \"Defense\": 126, \"Pred\": 64.2}, {\"Attack\": 103, \"Defense\": 80, \"Pred\": 88.4}, {\"Attack\": 50, \"Defense\": 70, \"Pred\": 60.9}, {\"Attack\": 120, \"Defense\": 100, \"Pred\": 92.4}, {\"Attack\": 30, \"Defense\": 35, \"Pred\": 42.4}, {\"Attack\": 104, \"Defense\": 78, \"Pred\": 81.4}, {\"Attack\": 20, \"Defense\": 35, \"Pred\": 40.0}, {\"Attack\": 92, \"Defense\": 65, \"Pred\": 78.5}, {\"Attack\": 52, \"Defense\": 50, \"Pred\": 61.8}, {\"Attack\": 65, \"Defense\": 60, \"Pred\": 64.5}, {\"Attack\": 75, \"Defense\": 45, \"Pred\": 64.3}, {\"Attack\": 44, \"Defense\": 50, \"Pred\": 58.6}, {\"Attack\": 65, \"Defense\": 35, \"Pred\": 60.9}, {\"Attack\": 72, \"Defense\": 78, \"Pred\": 76.2}, {\"Attack\": 90, \"Defense\": 80, \"Pred\": 75.8}, {\"Attack\": 105, \"Defense\": 85, \"Pred\": 78.5}, {\"Attack\": 45, \"Defense\": 35, \"Pred\": 54.6}, {\"Attack\": 150, \"Defense\": 90, \"Pred\": 94.2}, {\"Attack\": 130, \"Defense\": 100, \"Pred\": 94.3}, {\"Attack\": 60, \"Defense\": 75, \"Pred\": 74.9}, {\"Attack\": 73, \"Defense\": 88, \"Pred\": 80.7}, {\"Attack\": 45, \"Defense\": 35, \"Pred\": 54.6}, {\"Attack\": 75, \"Defense\": 80, \"Pred\": 86.2}, {\"Attack\": 80, \"Defense\": 80, \"Pred\": 82.9}, {\"Attack\": 145, \"Defense\": 130, \"Pred\": 78.9}, {\"Attack\": 91, \"Defense\": 63, \"Pred\": 77.6}, {\"Attack\": 45, \"Defense\": 45, \"Pred\": 56.2}, {\"Attack\": 65, \"Defense\": 95, \"Pred\": 71.5}, {\"Attack\": 120, \"Defense\": 100, \"Pred\": 92.4}, {\"Attack\": 25, \"Defense\": 25, \"Pred\": 42.4}, {\"Attack\": 63, \"Defense\": 52, \"Pred\": 68.3}, {\"Attack\": 121, \"Defense\": 119, \"Pred\": 94.2}, {\"Attack\": 69, \"Defense\": 95, \"Pred\": 66.2}, {\"Attack\": 80, \"Defense\": 44, \"Pred\": 61.4}, {\"Attack\": 100, \"Defense\": 100, \"Pred\": 77.2}, {\"Attack\": 66, \"Defense\": 84, \"Pred\": 94.8}, {\"Attack\": 48, \"Defense\": 48, \"Pred\": 57.0}, {\"Attack\": 120, \"Defense\": 70, \"Pred\": 74.8}, {\"Attack\": 100, \"Defense\": 135, \"Pred\": 87.8}, {\"Attack\": 131, \"Defense\": 95, \"Pred\": 90.8}, {\"Attack\": 45, \"Defense\": 59, \"Pred\": 57.6}, {\"Attack\": 100, \"Defense\": 70, \"Pred\": 89.5}, {\"Attack\": 105, \"Defense\": 70, \"Pred\": 90.9}, {\"Attack\": 35, \"Defense\": 30, \"Pred\": 46.9}, {\"Attack\": 52, \"Defense\": 43, \"Pred\": 50.5}, {\"Attack\": 82, \"Defense\": 78, \"Pred\": 85.4}, {\"Attack\": 85, \"Defense\": 55, \"Pred\": 66.6}, {\"Attack\": 50, \"Defense\": 40, \"Pred\": 47.4}, {\"Attack\": 130, \"Defense\": 75, \"Pred\": 77.2}, {\"Attack\": 82, \"Defense\": 64, \"Pred\": 62.3}, {\"Attack\": 45, \"Defense\": 70, \"Pred\": 60.5}, {\"Attack\": 84, \"Defense\": 78, \"Pred\": 82.8}, {\"Attack\": 80, \"Defense\": 80, \"Pred\": 82.9}, {\"Attack\": 120, \"Defense\": 79, \"Pred\": 80.5}, {\"Attack\": 5, \"Defense\": 5, \"Pred\": 38.9}, {\"Attack\": 150, \"Defense\": 40, \"Pred\": 96.6}, {\"Attack\": 150, \"Defense\": 50, \"Pred\": 84.6}, {\"Attack\": 64, \"Defense\": 85, \"Pred\": 94.8}, {\"Attack\": 65, \"Defense\": 34, \"Pred\": 53.9}, {\"Attack\": 40, \"Defense\": 85, \"Pred\": 66.7}, {\"Attack\": 75, \"Defense\": 130, \"Pred\": 62.0}, {\"Attack\": 75, \"Defense\": 70, \"Pred\": 68.7}, {\"Attack\": 95, \"Defense\": 57, \"Pred\": 79.6}, {\"Attack\": 75, \"Defense\": 35, \"Pred\": 60.2}, {\"Attack\": 90, \"Defense\": 50, \"Pred\": 58.0}, {\"Attack\": 65, \"Defense\": 55, \"Pred\": 61.2}, {\"Attack\": 35, \"Defense\": 55, \"Pred\": 60.2}, {\"Attack\": 50, \"Defense\": 45, \"Pred\": 54.5}, {\"Attack\": 120, \"Defense\": 120, \"Pred\": 94.2}, {\"Attack\": 80, \"Defense\": 70, \"Pred\": 72.9}, {\"Attack\": 55, \"Defense\": 80, \"Pred\": 81.5}, {\"Attack\": 27, \"Defense\": 60, \"Pred\": 48.7}, {\"Attack\": 50, \"Defense\": 150, \"Pred\": 65.6}, {\"Attack\": 65, \"Defense\": 110, \"Pred\": 62.4}, {\"Attack\": 95, \"Defense\": 90, \"Pred\": 81.9}, {\"Attack\": 75, \"Defense\": 85, \"Pred\": 82.3}, {\"Attack\": 80, \"Defense\": 50, \"Pred\": 60.1}, {\"Attack\": 75, \"Defense\": 60, \"Pred\": 59.6}, {\"Attack\": 76, \"Defense\": 64, \"Pred\": 56.0}, {\"Attack\": 135, \"Defense\": 85, \"Pred\": 81.1}, {\"Attack\": 100, \"Defense\": 115, \"Pred\": 91.4}, {\"Attack\": 60, \"Defense\": 40, \"Pred\": 59.8}, {\"Attack\": 83, \"Defense\": 50, \"Pred\": 66.1}, {\"Attack\": 98, \"Defense\": 63, \"Pred\": 83.1}, {\"Attack\": 88, \"Defense\": 50, \"Pred\": 58.0}, {\"Attack\": 60, \"Defense\": 60, \"Pred\": 76.1}, {\"Attack\": 90, \"Defense\": 20, \"Pred\": 58.8}, {\"Attack\": 125, \"Defense\": 60, \"Pred\": 72.2}, {\"Attack\": 43, \"Defense\": 53, \"Pred\": 61.6}, {\"Attack\": 100, \"Defense\": 63, \"Pred\": 84.6}, {\"Attack\": 80, \"Defense\": 90, \"Pred\": 93.2}, {\"Attack\": 76, \"Defense\": 84, \"Pred\": 82.3}, {\"Attack\": 80, \"Defense\": 65, \"Pred\": 58.5}, {\"Attack\": 60, \"Defense\": 40, \"Pred\": 59.8}, {\"Attack\": 20, \"Defense\": 15, \"Pred\": 40.4}, {\"Attack\": 75, \"Defense\": 55, \"Pred\": 55.6}, {\"Attack\": 90, \"Defense\": 70, \"Pred\": 87.4}, {\"Attack\": 50, \"Defense\": 70, \"Pred\": 60.9}, {\"Attack\": 70, \"Defense\": 105, \"Pred\": 67.7}, {\"Attack\": 29, \"Defense\": 45, \"Pred\": 45.9}, {\"Attack\": 35, \"Defense\": 50, \"Pred\": 51.4}, {\"Attack\": 40, \"Defense\": 50, \"Pred\": 63.9}, {\"Attack\": 30, \"Defense\": 55, \"Pred\": 46.4}, {\"Attack\": 95, \"Defense\": 180, \"Pred\": 70.6}, {\"Attack\": 115, \"Defense\": 80, \"Pred\": 85.3}, {\"Attack\": 135, \"Defense\": 130, \"Pred\": 78.7}, {\"Attack\": 100, \"Defense\": 150, \"Pred\": 87.8}, {\"Attack\": 78, \"Defense\": 95, \"Pred\": 69.2}, {\"Attack\": 53, \"Defense\": 48, \"Pred\": 58.6}, {\"Attack\": 115, \"Defense\": 105, \"Pred\": 85.0}, {\"Attack\": 35, \"Defense\": 35, \"Pred\": 46.1}, {\"Attack\": 105, \"Defense\": 55, \"Pred\": 82.8}, {\"Attack\": 45, \"Defense\": 55, \"Pred\": 61.4}, {\"Attack\": 65, \"Defense\": 48, \"Pred\": 65.1}, {\"Attack\": 48, \"Defense\": 66, \"Pred\": 59.4}, {\"Attack\": 60, \"Defense\": 60, \"Pred\": 76.1}, {\"Attack\": 66, \"Defense\": 70, \"Pred\": 80.4}, {\"Attack\": 80, \"Defense\": 55, \"Pred\": 64.1}, {\"Attack\": 65, \"Defense\": 107, \"Pred\": 64.7}, {\"Attack\": 45, \"Defense\": 70, \"Pred\": 60.5}, {\"Attack\": 108, \"Defense\": 133, \"Pred\": 86.7}, {\"Attack\": 77, \"Defense\": 62, \"Pred\": 59.6}, {\"Attack\": 35, \"Defense\": 30, \"Pred\": 46.9}, {\"Attack\": 57, \"Defense\": 40, \"Pred\": 57.4}, {\"Attack\": 105, \"Defense\": 60, \"Pred\": 85.9}, {\"Attack\": 72, \"Defense\": 35, \"Pred\": 60.2}, {\"Attack\": 60, \"Defense\": 70, \"Pred\": 76.0}, {\"Attack\": 33, \"Defense\": 58, \"Pred\": 59.7}, {\"Attack\": 60, \"Defense\": 65, \"Pred\": 68.6}, {\"Attack\": 135, \"Defense\": 130, \"Pred\": 78.7}, {\"Attack\": 95, \"Defense\": 125, \"Pred\": 94.5}, {\"Attack\": 125, \"Defense\": 52, \"Pred\": 72.2}, {\"Attack\": 75, \"Defense\": 75, \"Pred\": 80.7}, {\"Attack\": 73, \"Defense\": 83, \"Pred\": 86.2}, {\"Attack\": 92, \"Defense\": 75, \"Pred\": 83.6}, {\"Attack\": 115, \"Defense\": 80, \"Pred\": 85.3}, {\"Attack\": 125, \"Defense\": 230, \"Pred\": 72.1}, {\"Attack\": 86, \"Defense\": 88, \"Pred\": 82.9}, {\"Attack\": 51, \"Defense\": 53, \"Pred\": 63.6}, {\"Attack\": 55, \"Defense\": 70, \"Pred\": 64.9}, {\"Attack\": 40, \"Defense\": 60, \"Pred\": 58.6}, {\"Attack\": 70, \"Defense\": 70, \"Pred\": 64.7}, {\"Attack\": 85, \"Defense\": 70, \"Pred\": 70.3}, {\"Attack\": 85, \"Defense\": 49, \"Pred\": 62.3}, {\"Attack\": 55, \"Defense\": 75, \"Pred\": 71.9}, {\"Attack\": 81, \"Defense\": 71, \"Pred\": 73.9}, {\"Attack\": 100, \"Defense\": 72, \"Pred\": 89.5}, {\"Attack\": 100, \"Defense\": 90, \"Pred\": 83.9}, {\"Attack\": 109, \"Defense\": 105, \"Pred\": 88.0}, {\"Attack\": 48, \"Defense\": 54, \"Pred\": 58.4}, {\"Attack\": 85, \"Defense\": 140, \"Pred\": 83.0}, {\"Attack\": 90, \"Defense\": 65, \"Pred\": 78.5}, {\"Attack\": 55, \"Defense\": 50, \"Pred\": 71.1}, {\"Attack\": 67, \"Defense\": 85, \"Pred\": 94.8}, {\"Attack\": 50, \"Defense\": 70, \"Pred\": 60.9}, {\"Attack\": 84, \"Defense\": 65, \"Pred\": 64.8}, {\"Attack\": 60, \"Defense\": 62, \"Pred\": 73.9}, {\"Attack\": 90, \"Defense\": 85, \"Pred\": 82.8}, {\"Attack\": 90, \"Defense\": 122, \"Pred\": 90.5}, {\"Attack\": 100, \"Defense\": 123, \"Pred\": 88.3}, {\"Attack\": 85, \"Defense\": 122, \"Pred\": 81.0}, {\"Attack\": 130, \"Defense\": 80, \"Pred\": 79.1}, {\"Attack\": 130, \"Defense\": 115, \"Pred\": 87.4}, {\"Attack\": 105, \"Defense\": 90, \"Pred\": 78.4}, {\"Attack\": 50, \"Defense\": 50, \"Pred\": 62.4}, {\"Attack\": 80, \"Defense\": 75, \"Pred\": 75.9}, {\"Attack\": 45, \"Defense\": 135, \"Pred\": 64.7}, {\"Attack\": 80, \"Defense\": 35, \"Pred\": 57.3}, {\"Attack\": 117, \"Defense\": 70, \"Pred\": 77.8}, {\"Attack\": 48, \"Defense\": 48, \"Pred\": 57.0}, {\"Attack\": 125, \"Defense\": 70, \"Pred\": 74.8}, {\"Attack\": 110, \"Defense\": 80, \"Pred\": 86.5}, {\"Attack\": 100, \"Defense\": 80, \"Pred\": 83.9}, {\"Attack\": 125, \"Defense\": 100, \"Pred\": 94.3}, {\"Attack\": 94, \"Defense\": 50, \"Pred\": 63.8}, {\"Attack\": 45, \"Defense\": 40, \"Pred\": 49.0}, {\"Attack\": 140, \"Defense\": 70, \"Pred\": 89.6}, {\"Attack\": 85, \"Defense\": 85, \"Pred\": 85.9}, {\"Attack\": 45, \"Defense\": 40, \"Pred\": 49.0}, {\"Attack\": 50, \"Defense\": 50, \"Pred\": 62.4}, {\"Attack\": 25, \"Defense\": 45, \"Pred\": 41.4}, {\"Attack\": 45, \"Defense\": 160, \"Pred\": 67.1}, {\"Attack\": 80, \"Defense\": 100, \"Pred\": 71.2}, {\"Attack\": 105, \"Defense\": 65, \"Pred\": 93.9}, {\"Attack\": 52, \"Defense\": 67, \"Pred\": 61.2}, {\"Attack\": 80, \"Defense\": 91, \"Pred\": 84.2}, {\"Attack\": 125, \"Defense\": 40, \"Pred\": 71.7}, {\"Attack\": 95, \"Defense\": 100, \"Pred\": 86.2}, {\"Attack\": 110, \"Defense\": 110, \"Pred\": 92.9}, {\"Attack\": 120, \"Defense\": 70, \"Pred\": 74.8}, {\"Attack\": 50, \"Defense\": 34, \"Pred\": 49.2}, {\"Attack\": 72, \"Defense\": 90, \"Pred\": 74.7}, {\"Attack\": 81, \"Defense\": 60, \"Pred\": 64.1}, {\"Attack\": 160, \"Defense\": 60, \"Pred\": 95.0}, {\"Attack\": 65, \"Defense\": 80, \"Pred\": 87.2}, {\"Attack\": 70, \"Defense\": 40, \"Pred\": 63.2}, {\"Attack\": 51, \"Defense\": 23, \"Pred\": 48.0}, {\"Attack\": 45, \"Defense\": 20, \"Pred\": 44.7}, {\"Attack\": 60, \"Defense\": 30, \"Pred\": 53.4}, {\"Attack\": 65, \"Defense\": 35, \"Pred\": 60.9}, {\"Attack\": 75, \"Defense\": 100, \"Pred\": 67.7}, {\"Attack\": 130, \"Defense\": 100, \"Pred\": 94.3}, {\"Attack\": 110, \"Defense\": 80, \"Pred\": 86.5}, {\"Attack\": 120, \"Defense\": 120, \"Pred\": 94.2}, {\"Attack\": 92, \"Defense\": 87, \"Pred\": 82.8}, {\"Attack\": 124, \"Defense\": 80, \"Pred\": 84.2}, {\"Attack\": 55, \"Defense\": 85, \"Pred\": 77.8}, {\"Attack\": 30, \"Defense\": 85, \"Pred\": 68.6}, {\"Attack\": 120, \"Defense\": 65, \"Pred\": 74.8}, {\"Attack\": 20, \"Defense\": 65, \"Pred\": 43.6}, {\"Attack\": 55, \"Defense\": 55, \"Pred\": 69.1}, {\"Attack\": 60, \"Defense\": 125, \"Pred\": 64.2}, {\"Attack\": 100, \"Defense\": 60, \"Pred\": 79.6}, {\"Attack\": 75, \"Defense\": 37, \"Pred\": 60.2}, {\"Attack\": 100, \"Defense\": 80, \"Pred\": 83.9}, {\"Attack\": 95, \"Defense\": 95, \"Pred\": 87.7}, {\"Attack\": 50, \"Defense\": 45, \"Pred\": 54.5}, {\"Attack\": 41, \"Defense\": 77, \"Pred\": 60.2}, {\"Attack\": 70, \"Defense\": 160, \"Pred\": 70.6}, {\"Attack\": 125, \"Defense\": 75, \"Pred\": 72.5}, {\"Attack\": 90, \"Defense\": 110, \"Pred\": 78.9}, {\"Attack\": 105, \"Defense\": 90, \"Pred\": 78.4}, {\"Attack\": 65, \"Defense\": 50, \"Pred\": 65.1}, {\"Attack\": 80, \"Defense\": 80, \"Pred\": 82.9}, {\"Attack\": 69, \"Defense\": 85, \"Pred\": 88.8}, {\"Attack\": 71, \"Defense\": 43, \"Pred\": 63.2}, {\"Attack\": 45, \"Defense\": 65, \"Pred\": 59.4}, {\"Attack\": 95, \"Defense\": 95, \"Pred\": 87.7}, {\"Attack\": 100, \"Defense\": 80, \"Pred\": 83.9}, {\"Attack\": 65, \"Defense\": 70, \"Pred\": 80.4}, {\"Attack\": 30, \"Defense\": 50, \"Pred\": 43.9}, {\"Attack\": 30, \"Defense\": 105, \"Pred\": 66.9}, {\"Attack\": 61, \"Defense\": 40, \"Pred\": 59.8}, {\"Attack\": 80, \"Defense\": 90, \"Pred\": 93.2}, {\"Attack\": 86, \"Defense\": 67, \"Pred\": 77.1}, {\"Attack\": 60, \"Defense\": 70, \"Pred\": 76.0}, {\"Attack\": 65, \"Defense\": 64, \"Pred\": 66.4}, {\"Attack\": 95, \"Defense\": 125, \"Pred\": 94.5}, {\"Attack\": 75, \"Defense\": 180, \"Pred\": 65.6}, {\"Attack\": 22, \"Defense\": 60, \"Pred\": 48.7}, {\"Attack\": 130, \"Defense\": 90, \"Pred\": 89.6}, {\"Attack\": 65, \"Defense\": 60, \"Pred\": 64.5}, {\"Attack\": 125, \"Defense\": 100, \"Pred\": 94.3}, {\"Attack\": 77, \"Defense\": 77, \"Pred\": 81.8}, {\"Attack\": 72, \"Defense\": 57, \"Pred\": 58.8}, {\"Attack\": 100, \"Defense\": 89, \"Pred\": 83.9}, {\"Attack\": 35, \"Defense\": 55, \"Pred\": 60.2}, {\"Attack\": 58, \"Defense\": 57, \"Pred\": 72.3}, {\"Attack\": 80, \"Defense\": 102, \"Pred\": 73.2}, {\"Attack\": 165, \"Defense\": 95, \"Pred\": 106.2}, {\"Attack\": 63, \"Defense\": 90, \"Pred\": 77.5}, {\"Attack\": 84, \"Defense\": 105, \"Pred\": 75.1}, {\"Attack\": 90, \"Defense\": 45, \"Pred\": 58.0}, {\"Attack\": 180, \"Defense\": 160, \"Pred\": 78.9}, {\"Attack\": 135, \"Defense\": 80, \"Pred\": 89.5}, {\"Attack\": 105, \"Defense\": 75, \"Pred\": 81.8}, {\"Attack\": 55, \"Defense\": 40, \"Pred\": 49.9}, {\"Attack\": 75, \"Defense\": 85, \"Pred\": 82.3}, {\"Attack\": 95, \"Defense\": 85, \"Pred\": 84.8}, {\"Attack\": 85, \"Defense\": 85, \"Pred\": 85.9}, {\"Attack\": 55, \"Defense\": 85, \"Pred\": 77.8}, {\"Attack\": 45, \"Defense\": 45, \"Pred\": 56.2}, {\"Attack\": 104, \"Defense\": 105, \"Pred\": 85.2}, {\"Attack\": 105, \"Defense\": 115, \"Pred\": 90.3}, {\"Attack\": 85, \"Defense\": 42, \"Pred\": 61.6}, {\"Attack\": 110, \"Defense\": 75, \"Pred\": 79.8}, {\"Attack\": 85, \"Defense\": 80, \"Pred\": 86.3}, {\"Attack\": 150, \"Defense\": 90, \"Pred\": 94.2}, {\"Attack\": 30, \"Defense\": 50, \"Pred\": 43.9}, {\"Attack\": 130, \"Defense\": 111, \"Pred\": 93.9}, {\"Attack\": 85, \"Defense\": 51, \"Pred\": 66.1}, {\"Attack\": 70, \"Defense\": 70, \"Pred\": 64.7}, {\"Attack\": 130, \"Defense\": 60, \"Pred\": 76.3}, {\"Attack\": 75, \"Defense\": 80, \"Pred\": 86.2}, {\"Attack\": 110, \"Defense\": 80, \"Pred\": 86.5}, {\"Attack\": 90, \"Defense\": 140, \"Pred\": 87.0}, {\"Attack\": 47, \"Defense\": 55, \"Pred\": 55.9}, {\"Attack\": 165, \"Defense\": 75, \"Pred\": 92.0}, {\"Attack\": 90, \"Defense\": 45, \"Pred\": 58.0}, {\"Attack\": 30, \"Defense\": 35, \"Pred\": 42.4}, {\"Attack\": 58, \"Defense\": 80, \"Pred\": 81.5}, {\"Attack\": 80, \"Defense\": 85, \"Pred\": 86.8}, {\"Attack\": 123, \"Defense\": 65, \"Pred\": 74.8}, {\"Attack\": 70, \"Defense\": 50, \"Pred\": 63.4}, {\"Attack\": 97, \"Defense\": 66, \"Pred\": 83.5}, {\"Attack\": 35, \"Defense\": 30, \"Pred\": 46.9}, {\"Attack\": 120, \"Defense\": 130, \"Pred\": 90.5}, {\"Attack\": 70, \"Defense\": 48, \"Pred\": 62.7}, {\"Attack\": 125, \"Defense\": 79, \"Pred\": 84.2}, {\"Attack\": 40, \"Defense\": 50, \"Pred\": 63.9}, {\"Attack\": 80, \"Defense\": 70, \"Pred\": 72.9}, {\"Attack\": 100, \"Defense\": 122, \"Pred\": 88.3}, {\"Attack\": 110, \"Defense\": 90, \"Pred\": 79.4}, {\"Attack\": 30, \"Defense\": 15, \"Pred\": 43.4}, {\"Attack\": 30, \"Defense\": 50, \"Pred\": 43.9}, {\"Attack\": 80, \"Defense\": 110, \"Pred\": 78.6}, {\"Attack\": 65, \"Defense\": 65, \"Pred\": 67.1}, {\"Attack\": 70, \"Defense\": 45, \"Pred\": 62.7}, {\"Attack\": 53, \"Defense\": 48, \"Pred\": 58.6}, {\"Attack\": 55, \"Defense\": 25, \"Pred\": 47.2}, {\"Attack\": 50, \"Defense\": 91, \"Pred\": 73.8}, {\"Attack\": 40, \"Defense\": 50, \"Pred\": 63.9}, {\"Attack\": 20, \"Defense\": 30, \"Pred\": 39.9}, {\"Attack\": 100, \"Defense\": 115, \"Pred\": 91.4}, {\"Attack\": 147, \"Defense\": 90, \"Pred\": 94.2}, {\"Attack\": 20, \"Defense\": 50, \"Pred\": 37.9}, {\"Attack\": 20, \"Defense\": 50, \"Pred\": 37.9}, {\"Attack\": 104, \"Defense\": 71, \"Pred\": 88.6}, {\"Attack\": 160, \"Defense\": 110, \"Pred\": 86.3}, {\"Attack\": 83, \"Defense\": 57, \"Pred\": 67.1}, {\"Attack\": 75, \"Defense\": 110, \"Pred\": 67.7}, {\"Attack\": 100, \"Defense\": 121, \"Pred\": 86.3}, {\"Attack\": 134, \"Defense\": 95, \"Pred\": 94.3}, {\"Attack\": 54, \"Defense\": 53, \"Pred\": 65.6}, {\"Attack\": 125, \"Defense\": 75, \"Pred\": 72.5}, {\"Attack\": 50, \"Defense\": 35, \"Pred\": 47.0}, {\"Attack\": 100, \"Defense\": 100, \"Pred\": 77.2}, {\"Attack\": 48, \"Defense\": 76, \"Pred\": 64.7}, {\"Attack\": 59, \"Defense\": 58, \"Pred\": 78.8}, {\"Attack\": 45, \"Defense\": 65, \"Pred\": 59.4}, {\"Attack\": 145, \"Defense\": 88, \"Pred\": 94.2}, {\"Attack\": 70, \"Defense\": 100, \"Pred\": 61.7}, {\"Attack\": 65, \"Defense\": 60, \"Pred\": 64.5}, {\"Attack\": 90, \"Defense\": 129, \"Pred\": 81.5}, {\"Attack\": 140, \"Defense\": 230, \"Pred\": 72.1}, {\"Attack\": 45, \"Defense\": 40, \"Pred\": 49.0}, {\"Attack\": 85, \"Defense\": 95, \"Pred\": 76.7}, {\"Attack\": 50, \"Defense\": 100, \"Pred\": 69.7}, {\"Attack\": 82, \"Defense\": 45, \"Pred\": 60.9}, {\"Attack\": 55, \"Defense\": 115, \"Pred\": 71.2}, {\"Attack\": 35, \"Defense\": 50, \"Pred\": 51.4}, {\"Attack\": 70, \"Defense\": 115, \"Pred\": 65.1}, {\"Attack\": 95, \"Defense\": 75, \"Pred\": 91.2}, {\"Attack\": 49, \"Defense\": 49, \"Pred\": 55.5}, {\"Attack\": 85, \"Defense\": 65, \"Pred\": 73.3}, {\"Attack\": 45, \"Defense\": 35, \"Pred\": 54.6}, {\"Attack\": 72, \"Defense\": 72, \"Pred\": 75.7}, {\"Attack\": 80, \"Defense\": 80, \"Pred\": 82.9}, {\"Attack\": 73, \"Defense\": 70, \"Pred\": 67.2}, {\"Attack\": 75, \"Defense\": 60, \"Pred\": 59.6}, {\"Attack\": 70, \"Defense\": 55, \"Pred\": 58.8}, {\"Attack\": 160, \"Defense\": 80, \"Pred\": 92.5}, {\"Attack\": 100, \"Defense\": 62, \"Pred\": 83.1}, {\"Attack\": 66, \"Defense\": 70, \"Pred\": 80.4}, {\"Attack\": 190, \"Defense\": 100, \"Pred\": 104.5}, {\"Attack\": 65, \"Defense\": 40, \"Pred\": 68.1}, {\"Attack\": 20, \"Defense\": 40, \"Pred\": 36.3}, {\"Attack\": 65, \"Defense\": 45, \"Pred\": 66.6}, {\"Attack\": 45, \"Defense\": 43, \"Pred\": 57.7}, {\"Attack\": 53, \"Defense\": 62, \"Pred\": 58.6}, {\"Attack\": 160, \"Defense\": 100, \"Pred\": 100.2}, {\"Attack\": 55, \"Defense\": 75, \"Pred\": 71.9}, {\"Attack\": 65, \"Defense\": 65, \"Pred\": 67.1}, {\"Attack\": 120, \"Defense\": 85, \"Pred\": 84.2}, {\"Attack\": 100, \"Defense\": 85, \"Pred\": 86.4}, {\"Attack\": 36, \"Defense\": 38, \"Pred\": 45.5}, {\"Attack\": 83, \"Defense\": 68, \"Pred\": 61.8}, {\"Attack\": 87, \"Defense\": 60, \"Pred\": 66.0}, {\"Attack\": 35, \"Defense\": 70, \"Pred\": 63.7}, {\"Attack\": 62, \"Defense\": 80, \"Pred\": 90.4}, {\"Attack\": 64, \"Defense\": 58, \"Pred\": 64.5}, {\"Attack\": 60, \"Defense\": 50, \"Pred\": 73.6}, {\"Attack\": 92, \"Defense\": 108, \"Pred\": 80.5}, {\"Attack\": 81, \"Defense\": 97, \"Pred\": 72.2}, {\"Attack\": 70, \"Defense\": 65, \"Pred\": 63.3}, {\"Attack\": 100, \"Defense\": 95, \"Pred\": 78.4}, {\"Attack\": 70, \"Defense\": 80, \"Pred\": 77.7}, {\"Attack\": 63, \"Defense\": 45, \"Pred\": 68.6}, {\"Attack\": 105, \"Defense\": 79, \"Pred\": 80.5}, {\"Attack\": 120, \"Defense\": 90, \"Pred\": 89.7}, {\"Attack\": 120, \"Defense\": 100, \"Pred\": 92.4}, {\"Attack\": 85, \"Defense\": 70, \"Pred\": 70.3}, {\"Attack\": 105, \"Defense\": 125, \"Pred\": 85.2}, {\"Attack\": 125, \"Defense\": 65, \"Pred\": 71.3}, {\"Attack\": 105, \"Defense\": 105, \"Pred\": 79.0}, {\"Attack\": 78, \"Defense\": 73, \"Pred\": 75.8}, {\"Attack\": 93, \"Defense\": 67, \"Pred\": 74.0}, {\"Attack\": 50, \"Defense\": 90, \"Pred\": 80.3}, {\"Attack\": 45, \"Defense\": 90, \"Pred\": 74.3}, {\"Attack\": 117, \"Defense\": 184, \"Pred\": 72.1}, {\"Attack\": 100, \"Defense\": 70, \"Pred\": 89.5}, {\"Attack\": 50, \"Defense\": 45, \"Pred\": 54.5}, {\"Attack\": 83, \"Defense\": 100, \"Pred\": 76.7}, {\"Attack\": 65, \"Defense\": 65, \"Pred\": 67.1}, {\"Attack\": 60, \"Defense\": 60, \"Pred\": 76.1}, {\"Attack\": 100, \"Defense\": 60, \"Pred\": 79.6}, {\"Attack\": 70, \"Defense\": 40, \"Pred\": 63.2}, {\"Attack\": 85, \"Defense\": 60, \"Pred\": 65.8}, {\"Attack\": 56, \"Defense\": 35, \"Pred\": 42.4}, {\"Attack\": 90, \"Defense\": 115, \"Pred\": 88.1}, {\"Attack\": 120, \"Defense\": 53, \"Pred\": 66.7}, {\"Attack\": 80, \"Defense\": 100, \"Pred\": 71.2}, {\"Attack\": 90, \"Defense\": 70, \"Pred\": 87.4}, {\"Attack\": 95, \"Defense\": 85, \"Pred\": 84.8}, {\"Attack\": 160, \"Defense\": 110, \"Pred\": 86.3}, {\"Attack\": 25, \"Defense\": 45, \"Pred\": 41.4}, {\"Attack\": 30, \"Defense\": 40, \"Pred\": 44.5}, {\"Attack\": 15, \"Defense\": 20, \"Pred\": 38.9}, {\"Attack\": 48, \"Defense\": 43, \"Pred\": 54.7}, {\"Attack\": 65, \"Defense\": 65, \"Pred\": 67.1}, {\"Attack\": 164, \"Defense\": 150, \"Pred\": 83.9}, {\"Attack\": 90, \"Defense\": 72, \"Pred\": 83.6}, {\"Attack\": 60, \"Defense\": 95, \"Pred\": 77.0}, {\"Attack\": 123, \"Defense\": 75, \"Pred\": 71.5}, {\"Attack\": 85, \"Defense\": 50, \"Pred\": 66.1}, {\"Attack\": 23, \"Defense\": 48, \"Pred\": 37.9}, {\"Attack\": 69, \"Defense\": 72, \"Pred\": 77.9}, {\"Attack\": 90, \"Defense\": 90, \"Pred\": 81.0}, {\"Attack\": 60, \"Defense\": 44, \"Pred\": 59.5}, {\"Attack\": 55, \"Defense\": 50, \"Pred\": 71.1}, {\"Attack\": 30, \"Defense\": 35, \"Pred\": 42.4}, {\"Attack\": 150, \"Defense\": 120, \"Pred\": 85.1}, {\"Attack\": 50, \"Defense\": 150, \"Pred\": 65.6}, {\"Attack\": 30, \"Defense\": 15, \"Pred\": 43.4}, {\"Attack\": 40, \"Defense\": 40, \"Pred\": 50.5}, {\"Attack\": 65, \"Defense\": 65, \"Pred\": 67.1}, {\"Attack\": 85, \"Defense\": 70, \"Pred\": 70.3}, {\"Attack\": 60, \"Defense\": 110, \"Pred\": 71.1}, {\"Attack\": 70, \"Defense\": 80, \"Pred\": 77.7}, {\"Attack\": 52, \"Defense\": 168, \"Pred\": 66.6}, {\"Attack\": 64, \"Defense\": 45, \"Pred\": 68.1}, {\"Attack\": 78, \"Defense\": 103, \"Pred\": 70.2}, {\"Attack\": 131, \"Defense\": 95, \"Pred\": 90.8}, {\"Attack\": 75, \"Defense\": 50, \"Pred\": 62.1}, {\"Attack\": 25, \"Defense\": 28, \"Pred\": 42.4}, {\"Attack\": 185, \"Defense\": 115, \"Pred\": 100.2}, {\"Attack\": 65, \"Defense\": 65, \"Pred\": 67.1}, {\"Attack\": 170, \"Defense\": 100, \"Pred\": 104.5}, {\"Attack\": 65, \"Defense\": 60, \"Pred\": 64.5}, {\"Attack\": 95, \"Defense\": 62, \"Pred\": 77.1}, {\"Attack\": 45, \"Defense\": 40, \"Pred\": 49.0}, {\"Attack\": 140, \"Defense\": 65, \"Pred\": 90.7}, {\"Attack\": 65, \"Defense\": 107, \"Pred\": 64.7}, {\"Attack\": 124, \"Defense\": 78, \"Pred\": 80.5}, {\"Attack\": 85, \"Defense\": 70, \"Pred\": 70.3}, {\"Attack\": 80, \"Defense\": 95, \"Pred\": 69.2}, {\"Attack\": 50, \"Defense\": 95, \"Pred\": 73.3}, {\"Attack\": 50, \"Defense\": 35, \"Pred\": 47.0}, {\"Attack\": 85, \"Defense\": 75, \"Pred\": 84.3}, {\"Attack\": 100, \"Defense\": 45, \"Pred\": 58.9}, {\"Attack\": 70, \"Defense\": 90, \"Pred\": 78.4}, {\"Attack\": 85, \"Defense\": 95, \"Pred\": 76.7}, {\"Attack\": 56, \"Defense\": 77, \"Pred\": 71.4}, {\"Attack\": 66, \"Defense\": 68, \"Pred\": 79.0}, {\"Attack\": 90, \"Defense\": 140, \"Pred\": 87.0}, {\"Attack\": 150, \"Defense\": 110, \"Pred\": 86.3}, {\"Attack\": 92, \"Defense\": 88, \"Pred\": 82.8}, {\"Attack\": 140, \"Defense\": 95, \"Pred\": 86.8}, {\"Attack\": 90, \"Defense\": 70, \"Pred\": 87.4}, {\"Attack\": 45, \"Defense\": 55, \"Pred\": 61.4}, {\"Attack\": 115, \"Defense\": 70, \"Pred\": 77.8}, {\"Attack\": 35, \"Defense\": 35, \"Pred\": 46.1}, {\"Attack\": 110, \"Defense\": 70, \"Pred\": 82.3}, {\"Attack\": 100, \"Defense\": 100, \"Pred\": 77.2}, {\"Attack\": 75, \"Defense\": 95, \"Pred\": 63.7}, {\"Attack\": 87, \"Defense\": 63, \"Pred\": 76.8}, {\"Attack\": 135, \"Defense\": 105, \"Pred\": 94.3}, {\"Attack\": 63, \"Defense\": 47, \"Pred\": 66.6}, {\"Attack\": 30, \"Defense\": 30, \"Pred\": 42.4}, {\"Attack\": 50, \"Defense\": 55, \"Pred\": 62.3}, {\"Attack\": 40, \"Defense\": 60, \"Pred\": 58.6}, {\"Attack\": 62, \"Defense\": 67, \"Pred\": 76.1}, {\"Attack\": 123, \"Defense\": 67, \"Pred\": 74.8}, {\"Attack\": 48, \"Defense\": 45, \"Pred\": 58.7}, {\"Attack\": 45, \"Defense\": 47, \"Pred\": 57.7}, {\"Attack\": 110, \"Defense\": 180, \"Pred\": 71.1}, {\"Attack\": 80, \"Defense\": 80, \"Pred\": 82.9}, {\"Attack\": 40, \"Defense\": 55, \"Pred\": 62.1}, {\"Attack\": 70, \"Defense\": 120, \"Pred\": 60.8}, {\"Attack\": 55, \"Defense\": 30, \"Pred\": 47.2}, {\"Attack\": 65, \"Defense\": 45, \"Pred\": 66.6}, {\"Attack\": 61, \"Defense\": 65, \"Pred\": 68.6}, {\"Attack\": 50, \"Defense\": 120, \"Pred\": 70.2}, {\"Attack\": 50, \"Defense\": 77, \"Pred\": 68.2}, {\"Attack\": 90, \"Defense\": 45, \"Pred\": 58.0}, {\"Attack\": 110, \"Defense\": 90, \"Pred\": 79.4}, {\"Attack\": 80, \"Defense\": 50, \"Pred\": 60.1}, {\"Attack\": 63, \"Defense\": 80, \"Pred\": 82.4}, {\"Attack\": 150, \"Defense\": 140, \"Pred\": 83.9}, {\"Attack\": 80, \"Defense\": 90, \"Pred\": 93.2}, {\"Attack\": 40, \"Defense\": 70, \"Pred\": 61.2}, {\"Attack\": 106, \"Defense\": 65, \"Pred\": 93.9}, {\"Attack\": 80, \"Defense\": 60, \"Pred\": 63.1}, {\"Attack\": 60, \"Defense\": 86, \"Pred\": 80.9}, {\"Attack\": 80, \"Defense\": 70, \"Pred\": 72.9}, {\"Attack\": 95, \"Defense\": 80, \"Pred\": 88.3}, {\"Attack\": 130, \"Defense\": 80, \"Pred\": 79.1}, {\"Attack\": 65, \"Defense\": 75, \"Pred\": 82.4}, {\"Attack\": 52, \"Defense\": 60, \"Pred\": 62.7}, {\"Attack\": 60, \"Defense\": 30, \"Pred\": 53.4}, {\"Attack\": 110, \"Defense\": 130, \"Pred\": 86.7}, {\"Attack\": 90, \"Defense\": 65, \"Pred\": 78.5}, {\"Attack\": 100, \"Defense\": 70, \"Pred\": 89.5}, {\"Attack\": 85, \"Defense\": 60, \"Pred\": 65.8}, {\"Attack\": 50, \"Defense\": 100, \"Pred\": 69.7}, {\"Attack\": 90, \"Defense\": 130, \"Pred\": 83.0}, {\"Attack\": 95, \"Defense\": 82, \"Pred\": 88.3}, {\"Attack\": 64, \"Defense\": 50, \"Pred\": 65.1}, {\"Attack\": 76, \"Defense\": 86, \"Pred\": 87.1}, {\"Attack\": 55, \"Defense\": 35, \"Pred\": 44.4}, {\"Attack\": 115, \"Defense\": 60, \"Pred\": 74.2}, {\"Attack\": 74, \"Defense\": 50, \"Pred\": 60.5}, {\"Attack\": 145, \"Defense\": 150, \"Pred\": 85.9}, {\"Attack\": 80, \"Defense\": 50, \"Pred\": 60.1}, {\"Attack\": 38, \"Defense\": 38, \"Pred\": 45.0}, {\"Attack\": 10, \"Defense\": 10, \"Pred\": 38.9}, {\"Attack\": 100, \"Defense\": 125, \"Pred\": 88.3}, {\"Attack\": 75, \"Defense\": 75, \"Pred\": 80.7}]}}, {\"mode\": \"vega-lite\"});\n</script>",
      "text/plain": "alt.LayerChart(...)"
     },
     "metadata": {}
    }
   ]
  },
  {
   "cell_type": "markdown",
   "source": "By the chart above, we can visualize that the attack value influence the special attack value more than the defense value as the blue line increases as the prediction of our special attack increases.",
   "metadata": {
    "cell_id": "bf8f42716379490d9f10bce203e7e3a1",
    "tags": [],
    "deepnote_cell_type": "markdown",
    "deepnote_cell_height": 74.75
   }
  },
  {
   "cell_type": "markdown",
   "source": "<font size =5>\nTest different values of n_neighbors and see how the MAEs for with test_error and train_error vary.\n",
   "metadata": {
    "cell_id": "0bc36e10899749b587d86b301eb39c06",
    "tags": [],
    "deepnote_cell_type": "markdown",
    "deepnote_cell_height": 106.75
   }
  },
  {
   "cell_type": "code",
   "metadata": {
    "cell_id": "fdd68867a5f946df85c58ab0128ab774",
    "tags": [],
    "deepnote_to_be_reexecuted": false,
    "source_hash": "12ed54ed",
    "execution_start": 1654751751775,
    "execution_millis": 15,
    "deepnote_cell_type": "code",
    "deepnote_cell_height": 225.9375
   },
   "source": "def get_scores(k):\n    reg3 = KNeighborsRegressor(n_neighbors=k)\n    reg3.fit(X_train1, y_train1)\n    train_error = mean_absolute_error(reg3.predict(X_train1), y_train1)\n    test_error = mean_absolute_error(reg3.predict(X_test1), y_test1)\n    return (train_error, test_error)\nget_scores(20)",
   "execution_count": null,
   "outputs": [
    {
     "output_type": "execute_result",
     "execution_count": 29,
     "data": {
      "text/plain": "(22.612250000000003, 24.16025)"
     },
     "metadata": {}
    }
   ]
  },
  {
   "cell_type": "code",
   "metadata": {
    "cell_id": "e27896578a2d47f7a7416d6b2fe442fe",
    "tags": [],
    "deepnote_to_be_reexecuted": false,
    "source_hash": "1444f565",
    "execution_start": 1654751751838,
    "execution_millis": 3581,
    "deepnote_cell_type": "code",
    "deepnote_cell_height": 152.96875
   },
   "source": "df_scores = pd.DataFrame({\"k\":range(1,150),\"train_error\":np.nan,\"test_error\":np.nan})\nfor i in df_scores.index:\n    df_scores.loc[i,[\"train_error\",\"test_error\"]] = get_scores(df_scores.loc[i,\"k\"])\ndf_scores[\"kinv\"] = 1/df_scores.k \n#When we plot a test error curve, we want higher flexibility which also means higher variance on the right. But since higher value of K correspond to lower flexibility, so we need to add a new column to the dataframe containing the reciprocals of the K values.",
   "execution_count": null,
   "outputs": []
  },
  {
   "cell_type": "code",
   "metadata": {
    "cell_id": "f43653b09f60418dae3d80c63796f844",
    "tags": [],
    "deepnote_to_be_reexecuted": false,
    "source_hash": "eaca3edb",
    "execution_start": 1654751755423,
    "execution_millis": 87,
    "deepnote_cell_type": "code",
    "deepnote_cell_height": 601.953125
   },
   "source": "ctrain = alt.Chart(df_scores).mark_line().encode(\n    x = \"kinv\",\n    y = \"train_error\"\n)\nctest = alt.Chart(df_scores).mark_line(color=\"orange\").encode(\n    x = \"kinv\",\n    y = \"test_error\"\n)\nctrain+ctest",
   "execution_count": null,
   "outputs": [
    {
     "output_type": "execute_result",
     "execution_count": 31,
     "data": {
      "text/html": "\n<div id=\"altair-viz-2ba53dae1bf44a3e8dbbf13219dfbaaf\"></div>\n<script type=\"text/javascript\">\n  (function(spec, embedOpt){\n    let outputDiv = document.currentScript.previousElementSibling;\n    if (outputDiv.id !== \"altair-viz-2ba53dae1bf44a3e8dbbf13219dfbaaf\") {\n      outputDiv = document.getElementById(\"altair-viz-2ba53dae1bf44a3e8dbbf13219dfbaaf\");\n    }\n    const paths = {\n      \"vega\": \"https://cdn.jsdelivr.net/npm//vega@5?noext\",\n      \"vega-lib\": \"https://cdn.jsdelivr.net/npm//vega-lib?noext\",\n      \"vega-lite\": \"https://cdn.jsdelivr.net/npm//vega-lite@4.8.1?noext\",\n      \"vega-embed\": \"https://cdn.jsdelivr.net/npm//vega-embed@6?noext\",\n    };\n\n    function loadScript(lib) {\n      return new Promise(function(resolve, reject) {\n        var s = document.createElement('script');\n        s.src = paths[lib];\n        s.async = true;\n        s.onload = () => resolve(paths[lib]);\n        s.onerror = () => reject(`Error loading script: ${paths[lib]}`);\n        document.getElementsByTagName(\"head\")[0].appendChild(s);\n      });\n    }\n\n    function showError(err) {\n      outputDiv.innerHTML = `<div class=\"error\" style=\"color:red;\">${err}</div>`;\n      throw err;\n    }\n\n    function displayChart(vegaEmbed) {\n      vegaEmbed(outputDiv, spec, embedOpt)\n        .catch(err => showError(`Javascript Error: ${err.message}<br>This usually means there's a typo in your chart specification. See the javascript console for the full traceback.`));\n    }\n\n    if(typeof define === \"function\" && define.amd) {\n      requirejs.config({paths});\n      require([\"vega-embed\"], displayChart, err => showError(`Error loading script: ${err.message}`));\n    } else if (typeof vegaEmbed === \"function\") {\n      displayChart(vegaEmbed);\n    } else {\n      loadScript(\"vega\")\n        .then(() => loadScript(\"vega-lite\"))\n        .then(() => loadScript(\"vega-embed\"))\n        .catch(showError)\n        .then(() => displayChart(vegaEmbed));\n    }\n  })({\"config\": {\"view\": {\"continuousWidth\": 400, \"continuousHeight\": 300}}, \"layer\": [{\"mark\": \"line\", \"encoding\": {\"x\": {\"type\": \"quantitative\", \"field\": \"kinv\"}, \"y\": {\"type\": \"quantitative\", \"field\": \"train_error\"}}}, {\"mark\": {\"type\": \"line\", \"color\": \"orange\"}, \"encoding\": {\"x\": {\"type\": \"quantitative\", \"field\": \"kinv\"}, \"y\": {\"type\": \"quantitative\", \"field\": \"test_error\"}}}], \"data\": {\"name\": \"data-0cccd133063ce9d27fa543314c85f01a\"}, \"$schema\": \"https://vega.github.io/schema/vega-lite/v4.8.1.json\", \"datasets\": {\"data-0cccd133063ce9d27fa543314c85f01a\": [{\"k\": 1, \"train_error\": 2.93, \"test_error\": 30.95, \"kinv\": 1.0}, {\"k\": 2, \"train_error\": 15.455, \"test_error\": 27.52, \"kinv\": 0.5}, {\"k\": 3, \"train_error\": 18.72333333333333, \"test_error\": 26.20611111111111, \"kinv\": 0.3333333333333333}, {\"k\": 4, \"train_error\": 19.1775, \"test_error\": 25.316666666666666, \"kinv\": 0.25}, {\"k\": 5, \"train_error\": 20.155, \"test_error\": 24.909666666666666, \"kinv\": 0.2}, {\"k\": 6, \"train_error\": 21.648333333333333, \"test_error\": 24.55527777777778, \"kinv\": 0.16666666666666666}, {\"k\": 7, \"train_error\": 22.12142857142857, \"test_error\": 24.399285714285714, \"kinv\": 0.14285714285714285}, {\"k\": 8, \"train_error\": 22.0175, \"test_error\": 24.448541666666667, \"kinv\": 0.125}, {\"k\": 9, \"train_error\": 21.935555555555556, \"test_error\": 24.327777777777776, \"kinv\": 0.1111111111111111}, {\"k\": 10, \"train_error\": 21.7715, \"test_error\": 24.328333333333333, \"kinv\": 0.1}, {\"k\": 11, \"train_error\": 21.888636363636362, \"test_error\": 24.262424242424242, \"kinv\": 0.09090909090909091}, {\"k\": 12, \"train_error\": 22.03416666666667, \"test_error\": 24.247083333333332, \"kinv\": 0.08333333333333333}, {\"k\": 13, \"train_error\": 22.197307692307696, \"test_error\": 24.2448717948718, \"kinv\": 0.07692307692307693}, {\"k\": 14, \"train_error\": 22.18607142857143, \"test_error\": 24.2975, \"kinv\": 0.07142857142857142}, {\"k\": 15, \"train_error\": 22.385, \"test_error\": 24.363777777777777, \"kinv\": 0.06666666666666667}, {\"k\": 16, \"train_error\": 22.5015625, \"test_error\": 24.3228125, \"kinv\": 0.0625}, {\"k\": 17, \"train_error\": 22.639117647058825, \"test_error\": 24.3228431372549, \"kinv\": 0.058823529411764705}, {\"k\": 18, \"train_error\": 22.478888888888886, \"test_error\": 24.15611111111111, \"kinv\": 0.05555555555555555}, {\"k\": 19, \"train_error\": 22.606052631578947, \"test_error\": 24.124035087719296, \"kinv\": 0.05263157894736842}, {\"k\": 20, \"train_error\": 22.612250000000003, \"test_error\": 24.16025, \"kinv\": 0.05}, {\"k\": 21, \"train_error\": 22.821190476190477, \"test_error\": 24.18515873015873, \"kinv\": 0.047619047619047616}, {\"k\": 22, \"train_error\": 22.831818181818186, \"test_error\": 24.216136363636362, \"kinv\": 0.045454545454545456}, {\"k\": 23, \"train_error\": 22.905434782608694, \"test_error\": 24.223260869565216, \"kinv\": 0.043478260869565216}, {\"k\": 24, \"train_error\": 22.94104166666667, \"test_error\": 24.206944444444446, \"kinv\": 0.041666666666666664}, {\"k\": 25, \"train_error\": 22.9554, \"test_error\": 24.13, \"kinv\": 0.04}, {\"k\": 26, \"train_error\": 23.09403846153846, \"test_error\": 24.090705128205126, \"kinv\": 0.038461538461538464}, {\"k\": 27, \"train_error\": 23.118888888888886, \"test_error\": 24.158888888888892, \"kinv\": 0.037037037037037035}, {\"k\": 28, \"train_error\": 23.099464285714284, \"test_error\": 24.18767857142857, \"kinv\": 0.03571428571428571}, {\"k\": 29, \"train_error\": 23.00603448275862, \"test_error\": 24.1566091954023, \"kinv\": 0.034482758620689655}, {\"k\": 30, \"train_error\": 23.033166666666666, \"test_error\": 24.152555555555555, \"kinv\": 0.03333333333333333}, {\"k\": 31, \"train_error\": 23.087419354838712, \"test_error\": 24.151505376344083, \"kinv\": 0.03225806451612903}, {\"k\": 32, \"train_error\": 23.11421875, \"test_error\": 24.221458333333334, \"kinv\": 0.03125}, {\"k\": 33, \"train_error\": 23.045909090909092, \"test_error\": 24.22742424242424, \"kinv\": 0.030303030303030304}, {\"k\": 34, \"train_error\": 23.03911764705882, \"test_error\": 24.212647058823528, \"kinv\": 0.029411764705882353}, {\"k\": 35, \"train_error\": 23.010428571428573, \"test_error\": 24.247476190476192, \"kinv\": 0.02857142857142857}, {\"k\": 36, \"train_error\": 22.87861111111111, \"test_error\": 24.195555555555558, \"kinv\": 0.027777777777777776}, {\"k\": 37, \"train_error\": 22.875675675675677, \"test_error\": 24.261666666666667, \"kinv\": 0.02702702702702703}, {\"k\": 38, \"train_error\": 22.813157894736843, \"test_error\": 24.233421052631577, \"kinv\": 0.02631578947368421}, {\"k\": 39, \"train_error\": 22.830512820512823, \"test_error\": 24.224358974358974, \"kinv\": 0.02564102564102564}, {\"k\": 40, \"train_error\": 22.903000000000002, \"test_error\": 24.216875, \"kinv\": 0.025}, {\"k\": 41, \"train_error\": 22.89951219512195, \"test_error\": 24.223048780487808, \"kinv\": 0.024390243902439025}, {\"k\": 42, \"train_error\": 22.944166666666664, \"test_error\": 24.245198412698414, \"kinv\": 0.023809523809523808}, {\"k\": 43, \"train_error\": 22.90872093023256, \"test_error\": 24.238720930232557, \"kinv\": 0.023255813953488372}, {\"k\": 44, \"train_error\": 23.040795454545457, \"test_error\": 24.209431818181816, \"kinv\": 0.022727272727272728}, {\"k\": 45, \"train_error\": 23.024444444444445, \"test_error\": 24.19648148148148, \"kinv\": 0.022222222222222223}, {\"k\": 46, \"train_error\": 23.03728260869565, \"test_error\": 24.246666666666666, \"kinv\": 0.021739130434782608}, {\"k\": 47, \"train_error\": 23.062553191489364, \"test_error\": 24.232375886524824, \"kinv\": 0.02127659574468085}, {\"k\": 48, \"train_error\": 23.097291666666663, \"test_error\": 24.18996527777778, \"kinv\": 0.020833333333333332}, {\"k\": 49, \"train_error\": 23.073979591836732, \"test_error\": 24.18755102040816, \"kinv\": 0.02040816326530612}, {\"k\": 50, \"train_error\": 23.1102, \"test_error\": 24.188166666666667, \"kinv\": 0.02}, {\"k\": 51, \"train_error\": 23.197745098039213, \"test_error\": 24.188954248366013, \"kinv\": 0.0196078431372549}, {\"k\": 52, \"train_error\": 23.224711538461538, \"test_error\": 24.178237179487176, \"kinv\": 0.019230769230769232}, {\"k\": 53, \"train_error\": 23.179905660377358, \"test_error\": 24.203742138364778, \"kinv\": 0.018867924528301886}, {\"k\": 54, \"train_error\": 23.194629629629627, \"test_error\": 24.18762345679012, \"kinv\": 0.018518518518518517}, {\"k\": 55, \"train_error\": 23.161272727272728, \"test_error\": 24.198242424242423, \"kinv\": 0.01818181818181818}, {\"k\": 56, \"train_error\": 23.155, \"test_error\": 24.21300595238095, \"kinv\": 0.017857142857142856}, {\"k\": 57, \"train_error\": 23.139561403508768, \"test_error\": 24.179766081871346, \"kinv\": 0.017543859649122806}, {\"k\": 58, \"train_error\": 23.158620689655173, \"test_error\": 24.201522988505747, \"kinv\": 0.017241379310344827}, {\"k\": 59, \"train_error\": 23.140508474576272, \"test_error\": 24.229322033898303, \"kinv\": 0.01694915254237288}, {\"k\": 60, \"train_error\": 23.16925, \"test_error\": 24.26986111111111, \"kinv\": 0.016666666666666666}, {\"k\": 61, \"train_error\": 23.19483606557377, \"test_error\": 24.286202185792348, \"kinv\": 0.01639344262295082}, {\"k\": 62, \"train_error\": 23.172741935483874, \"test_error\": 24.261854838709677, \"kinv\": 0.016129032258064516}, {\"k\": 63, \"train_error\": 23.242380952380955, \"test_error\": 24.265608465608462, \"kinv\": 0.015873015873015872}, {\"k\": 64, \"train_error\": 23.290078125, \"test_error\": 24.274557291666667, \"kinv\": 0.015625}, {\"k\": 65, \"train_error\": 23.31646153846154, \"test_error\": 24.313333333333333, \"kinv\": 0.015384615384615385}, {\"k\": 66, \"train_error\": 23.29840909090909, \"test_error\": 24.33772727272727, \"kinv\": 0.015151515151515152}, {\"k\": 67, \"train_error\": 23.25, \"test_error\": 24.34542288557214, \"kinv\": 0.014925373134328358}, {\"k\": 68, \"train_error\": 23.282941176470587, \"test_error\": 24.356323529411767, \"kinv\": 0.014705882352941176}, {\"k\": 69, \"train_error\": 23.28159420289855, \"test_error\": 24.36045893719807, \"kinv\": 0.014492753623188406}, {\"k\": 70, \"train_error\": 23.296214285714285, \"test_error\": 24.382452380952383, \"kinv\": 0.014285714285714285}, {\"k\": 71, \"train_error\": 23.304014084507045, \"test_error\": 24.39575117370892, \"kinv\": 0.014084507042253521}, {\"k\": 72, \"train_error\": 23.310902777777773, \"test_error\": 24.413449074074077, \"kinv\": 0.013888888888888888}, {\"k\": 73, \"train_error\": 23.341027397260273, \"test_error\": 24.409726027397262, \"kinv\": 0.0136986301369863}, {\"k\": 74, \"train_error\": 23.398783783783784, \"test_error\": 24.423941441441446, \"kinv\": 0.013513513513513514}, {\"k\": 75, \"train_error\": 23.35033333333333, \"test_error\": 24.446644444444445, \"kinv\": 0.013333333333333334}, {\"k\": 76, \"train_error\": 23.408684210526317, \"test_error\": 24.469780701754384, \"kinv\": 0.013157894736842105}, {\"k\": 77, \"train_error\": 23.37987012987013, \"test_error\": 24.45047619047619, \"kinv\": 0.012987012987012988}, {\"k\": 78, \"train_error\": 23.392692307692304, \"test_error\": 24.424786324786325, \"kinv\": 0.01282051282051282}, {\"k\": 79, \"train_error\": 23.398797468354427, \"test_error\": 24.46637130801688, \"kinv\": 0.012658227848101266}, {\"k\": 80, \"train_error\": 23.371937500000005, \"test_error\": 24.4865625, \"kinv\": 0.0125}, {\"k\": 81, \"train_error\": 23.386296296296294, \"test_error\": 24.506604938271604, \"kinv\": 0.012345679012345678}, {\"k\": 82, \"train_error\": 23.378231707317074, \"test_error\": 24.504674796747967, \"kinv\": 0.012195121951219513}, {\"k\": 83, \"train_error\": 23.39710843373494, \"test_error\": 24.508333333333333, \"kinv\": 0.012048192771084338}, {\"k\": 84, \"train_error\": 23.38904761904762, \"test_error\": 24.50811507936508, \"kinv\": 0.011904761904761904}, {\"k\": 85, \"train_error\": 23.36105882352941, \"test_error\": 24.524745098039215, \"kinv\": 0.011764705882352941}, {\"k\": 86, \"train_error\": 23.345058139534885, \"test_error\": 24.534011627906978, \"kinv\": 0.011627906976744186}, {\"k\": 87, \"train_error\": 23.355057471264374, \"test_error\": 24.52992337164751, \"kinv\": 0.011494252873563218}, {\"k\": 88, \"train_error\": 23.31681818181818, \"test_error\": 24.52808712121212, \"kinv\": 0.011363636363636364}, {\"k\": 89, \"train_error\": 23.294438202247193, \"test_error\": 24.540280898876404, \"kinv\": 0.011235955056179775}, {\"k\": 90, \"train_error\": 23.27977777777778, \"test_error\": 24.55361111111111, \"kinv\": 0.011111111111111112}, {\"k\": 91, \"train_error\": 23.300164835164832, \"test_error\": 24.559285714285714, \"kinv\": 0.01098901098901099}, {\"k\": 92, \"train_error\": 23.31375, \"test_error\": 24.580670289855075, \"kinv\": 0.010869565217391304}, {\"k\": 93, \"train_error\": 23.32752688172043, \"test_error\": 24.602992831541222, \"kinv\": 0.010752688172043012}, {\"k\": 94, \"train_error\": 23.340638297872342, \"test_error\": 24.5965780141844, \"kinv\": 0.010638297872340425}, {\"k\": 95, \"train_error\": 23.334157894736844, \"test_error\": 24.606719298245615, \"kinv\": 0.010526315789473684}, {\"k\": 96, \"train_error\": 23.3578125, \"test_error\": 24.635989583333334, \"kinv\": 0.010416666666666666}, {\"k\": 97, \"train_error\": 23.355927835051542, \"test_error\": 24.612972508591064, \"kinv\": 0.010309278350515464}, {\"k\": 98, \"train_error\": 23.323775510204083, \"test_error\": 24.623656462585036, \"kinv\": 0.01020408163265306}, {\"k\": 99, \"train_error\": 23.341717171717175, \"test_error\": 24.63190235690236, \"kinv\": 0.010101010101010102}, {\"k\": 100, \"train_error\": 23.324850000000005, \"test_error\": 24.625216666666667, \"kinv\": 0.01}, {\"k\": 101, \"train_error\": 23.365693069306932, \"test_error\": 24.650247524752473, \"kinv\": 0.009900990099009901}, {\"k\": 102, \"train_error\": 23.362107843137256, \"test_error\": 24.668382352941176, \"kinv\": 0.00980392156862745}, {\"k\": 103, \"train_error\": 23.36033980582524, \"test_error\": 24.674223300970873, \"kinv\": 0.009708737864077669}, {\"k\": 104, \"train_error\": 23.338509615384613, \"test_error\": 24.681682692307692, \"kinv\": 0.009615384615384616}, {\"k\": 105, \"train_error\": 23.349190476190476, \"test_error\": 24.69047619047619, \"kinv\": 0.009523809523809525}, {\"k\": 106, \"train_error\": 23.34985849056604, \"test_error\": 24.701808176100627, \"kinv\": 0.009433962264150943}, {\"k\": 107, \"train_error\": 23.34163551401869, \"test_error\": 24.694065420560747, \"kinv\": 0.009345794392523364}, {\"k\": 108, \"train_error\": 23.36685185185185, \"test_error\": 24.707021604938273, \"kinv\": 0.009259259259259259}, {\"k\": 109, \"train_error\": 23.349266055045874, \"test_error\": 24.70784403669725, \"kinv\": 0.009174311926605505}, {\"k\": 110, \"train_error\": 23.381545454545453, \"test_error\": 24.730772727272726, \"kinv\": 0.00909090909090909}, {\"k\": 111, \"train_error\": 23.399459459459464, \"test_error\": 24.72870870870871, \"kinv\": 0.009009009009009009}, {\"k\": 112, \"train_error\": 23.3984375, \"test_error\": 24.737410714285716, \"kinv\": 0.008928571428571428}, {\"k\": 113, \"train_error\": 23.436592920353984, \"test_error\": 24.74253687315634, \"kinv\": 0.008849557522123894}, {\"k\": 114, \"train_error\": 23.445394736842104, \"test_error\": 24.75030701754386, \"kinv\": 0.008771929824561403}, {\"k\": 115, \"train_error\": 23.47608695652174, \"test_error\": 24.779217391304346, \"kinv\": 0.008695652173913044}, {\"k\": 116, \"train_error\": 23.490387931034483, \"test_error\": 24.798477011494253, \"kinv\": 0.008620689655172414}, {\"k\": 117, \"train_error\": 23.501794871794868, \"test_error\": 24.824529914529915, \"kinv\": 0.008547008547008548}, {\"k\": 118, \"train_error\": 23.503177966101692, \"test_error\": 24.84728813559322, \"kinv\": 0.00847457627118644}, {\"k\": 119, \"train_error\": 23.53705882352941, \"test_error\": 24.850854341736696, \"kinv\": 0.008403361344537815}, {\"k\": 120, \"train_error\": 23.546, \"test_error\": 24.865458333333336, \"kinv\": 0.008333333333333333}, {\"k\": 121, \"train_error\": 23.587685950413224, \"test_error\": 24.880192837465565, \"kinv\": 0.008264462809917356}, {\"k\": 122, \"train_error\": 23.647172131147542, \"test_error\": 24.9017349726776, \"kinv\": 0.00819672131147541}, {\"k\": 123, \"train_error\": 23.690243902439025, \"test_error\": 24.918279132791326, \"kinv\": 0.008130081300813009}, {\"k\": 124, \"train_error\": 23.691612903225806, \"test_error\": 24.938494623655917, \"kinv\": 0.008064516129032258}, {\"k\": 125, \"train_error\": 23.710680000000004, \"test_error\": 24.93933333333333, \"kinv\": 0.008}, {\"k\": 126, \"train_error\": 23.760753968253965, \"test_error\": 24.96489417989418, \"kinv\": 0.007936507936507936}, {\"k\": 127, \"train_error\": 23.784133858267715, \"test_error\": 24.976522309711285, \"kinv\": 0.007874015748031496}, {\"k\": 128, \"train_error\": 23.78140625, \"test_error\": 24.99725260416667, \"kinv\": 0.0078125}, {\"k\": 129, \"train_error\": 23.801821705426356, \"test_error\": 25.00188630490956, \"kinv\": 0.007751937984496124}, {\"k\": 130, \"train_error\": 23.805230769230764, \"test_error\": 25.0100641025641, \"kinv\": 0.007692307692307693}, {\"k\": 131, \"train_error\": 23.80179389312977, \"test_error\": 25.026692111959285, \"kinv\": 0.007633587786259542}, {\"k\": 132, \"train_error\": 23.79757575757576, \"test_error\": 25.046603535353537, \"kinv\": 0.007575757575757576}, {\"k\": 133, \"train_error\": 23.807819548872175, \"test_error\": 25.042882205513784, \"kinv\": 0.007518796992481203}, {\"k\": 134, \"train_error\": 23.808656716417907, \"test_error\": 25.050435323383088, \"kinv\": 0.007462686567164179}, {\"k\": 135, \"train_error\": 23.816703703703702, \"test_error\": 25.065506172839505, \"kinv\": 0.007407407407407408}, {\"k\": 136, \"train_error\": 23.840845588235293, \"test_error\": 25.07811274509804, \"kinv\": 0.007352941176470588}, {\"k\": 137, \"train_error\": 23.837481751824818, \"test_error\": 25.098771289537716, \"kinv\": 0.0072992700729927005}, {\"k\": 138, \"train_error\": 23.867753623188406, \"test_error\": 25.11554347826087, \"kinv\": 0.007246376811594203}, {\"k\": 139, \"train_error\": 23.897841726618708, \"test_error\": 25.126834532374097, \"kinv\": 0.007194244604316547}, {\"k\": 140, \"train_error\": 23.918000000000003, \"test_error\": 25.12752380952381, \"kinv\": 0.007142857142857143}, {\"k\": 141, \"train_error\": 23.943652482269503, \"test_error\": 25.143475177304964, \"kinv\": 0.0070921985815602835}, {\"k\": 142, \"train_error\": 23.958169014084504, \"test_error\": 25.15426056338028, \"kinv\": 0.007042253521126761}, {\"k\": 143, \"train_error\": 23.96129370629371, \"test_error\": 25.179265734265737, \"kinv\": 0.006993006993006993}, {\"k\": 144, \"train_error\": 23.954444444444444, \"test_error\": 25.19880787037037, \"kinv\": 0.006944444444444444}, {\"k\": 145, \"train_error\": 23.943241379310347, \"test_error\": 25.2027816091954, \"kinv\": 0.006896551724137931}, {\"k\": 146, \"train_error\": 23.947431506849316, \"test_error\": 25.201484018264843, \"kinv\": 0.00684931506849315}, {\"k\": 147, \"train_error\": 23.9321768707483, \"test_error\": 25.19868480725624, \"kinv\": 0.006802721088435374}, {\"k\": 148, \"train_error\": 23.936689189189188, \"test_error\": 25.206858108108104, \"kinv\": 0.006756756756756757}, {\"k\": 149, \"train_error\": 23.94510067114094, \"test_error\": 25.216398210290826, \"kinv\": 0.006711409395973154}]}}, {\"mode\": \"vega-lite\"});\n</script>",
      "text/plain": "alt.LayerChart(...)"
     },
     "metadata": {}
    }
   ]
  },
  {
   "cell_type": "markdown",
   "source": "The blue curve is the training error, while the orange curve is the test error. From the graph, we observe that underfitting occurs for very high values of K and overfitting for smaller values of K\n\n",
   "metadata": {
    "cell_id": "b195f00ed551496ea58c1b13de36ca76",
    "tags": [],
    "deepnote_cell_type": "markdown",
    "deepnote_cell_height": 74.75
   }
  },
  {
   "cell_type": "markdown",
   "source": "## Summary\n\nEither summarize what you did, or summarize the results.  Maybe 3 sentences.",
   "metadata": {
    "cell_id": "75922aa8-c6e1-46d5-9c85-550df5b37982",
    "tags": [],
    "deepnote_cell_type": "markdown",
    "deepnote_cell_height": 108.359375
   }
  },
  {
   "cell_type": "markdown",
   "source": "For my project, I fist found out that there is a positive relationship between each Pokemon's attack and defense. Then I found out that there is a 81.9% of chance predicting the certain defense and attack corresponds to Pokemon's first generation. There is also a positive relationship between pokemon's attack and defense with pokemon's special attack. Pokemon's attack would have more influences on their special attack value.",
   "metadata": {
    "cell_id": "5343c241b8bd43438458758e6ee4286b",
    "tags": [],
    "deepnote_to_be_reexecuted": false,
    "source_hash": "b623e53d",
    "execution_start": 1654751755515,
    "execution_millis": 7,
    "deepnote_cell_type": "markdown",
    "deepnote_cell_height": 141.9375
   }
  },
  {
   "cell_type": "markdown",
   "source": "## References",
   "metadata": {
    "cell_id": "fc42153e-0b6d-4c37-9e06-ee471cfb0534",
    "tags": [],
    "deepnote_cell_type": "markdown",
    "deepnote_cell_height": 69.96875
   }
  },
  {
   "cell_type": "markdown",
   "source": "* What is the source of your dataset(s)?\nPokemon dataset: https://www.kaggle.com/datasets/abcsds/pokemon",
   "metadata": {
    "cell_id": "d3a63eb2a5bc44e0a0322bc8748d730b",
    "tags": [],
    "deepnote_cell_type": "markdown",
    "deepnote_cell_height": 91.75
   }
  },
  {
   "cell_type": "markdown",
   "source": "* Were any portions of the code or ideas taken from another source?  List those sources here and say how they were used.",
   "metadata": {
    "cell_id": "c01d9c7e85f74a0c8939eb4f9a7e7ca8",
    "tags": [],
    "deepnote_cell_type": "markdown",
    "deepnote_cell_height": 91.75
   }
  },
  {
   "cell_type": "markdown",
   "source": "Reference of code of linear regression: Week 6 Monday's lecture notebook:https://christopherdavisuci.github.io/UCI-Math-10-S22/Week6/Week6-Monday.html\nKNearest Neighbor Regressor code: from winter 2022 math10 notebook: https://christopherdavisuci.github.io/UCI-Math-10-W22/Week6/Week6-Wednesday.html\nhttps://scikit-learn.org/stable/modules/neighbors.html\nLogistic Regression for Classification: https://christopherdavisuci.github.io/UCI-Math-10-S22/Week7/Week7-Friday.html\nAnalyze the performance of prediction:https://christopherdavisuci.github.io/UCI-Math-10-S22/Week7/Week7-Monday.html\nAnalyze overfitting or underfitting: https://christopherdavisuci.github.io/UCI-Math-10-S22/Week7/Week7-Wednesday.html\n\n",
   "metadata": {
    "cell_id": "f9f55d4e199e49d9861674db4e6aa0de",
    "tags": [],
    "deepnote_cell_type": "markdown",
    "deepnote_cell_height": 231.5
   }
  },
  {
   "cell_type": "markdown",
   "source": "* List other references that you found helpful.",
   "metadata": {
    "cell_id": "451fb6af5d05487fb2893fdc7bc87a0f",
    "tags": [],
    "deepnote_to_be_reexecuted": false,
    "source_hash": "aa45eba7",
    "execution_start": 1652916033453,
    "execution_millis": 0,
    "deepnote_cell_type": "markdown",
    "deepnote_cell_height": 69.359375
   }
  },
  {
   "cell_type": "markdown",
   "source": "KNearest Neighbor Regressor: https://scikit-learn.org/stable/modules/neighbors.html\nOverfitting and Underfitting: https://machinelearningmastery.com/overfitting-and-underfitting-with-machine-learning-algorithms/\nMSE and MAE:https://stackoverflow.com/questions/66426928/how-to-calculate-mean-absolute-error-mae-and-mean-signed-error-mse-using-pan\n",
   "metadata": {
    "cell_id": "91df34bdb7674561920cbc39c69bc0e5",
    "tags": [],
    "owner_user_id": "02be19f8-8497-4212-b8d0-46ca9f1d48b9",
    "deepnote_cell_type": "markdown",
    "deepnote_cell_height": 119.53125
   }
  },
  {
   "cell_type": "markdown",
   "source": "<a style='text-decoration:none;line-height:16px;display:flex;color:#5B5B62;padding:10px;justify-content:end;' href='https://deepnote.com?utm_source=created-in-deepnote-cell&projectId=021733f9-2792-418f-8e91-463422704428' target=\"_blank\">\n<img alt='Created in deepnote.com' style='display:inline;max-height:16px;margin:0px;margin-right:7.5px;' src='data:image/svg+xml;base64,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' > </img>\nCreated in <span style='font-weight:600;margin-left:4px;'>Deepnote</span></a>",
   "metadata": {
    "tags": [],
    "created_in_deepnote_cell": true,
    "deepnote_cell_type": "markdown"
   }
  }
 ],
 "nbformat": 4,
 "nbformat_minor": 2,
 "metadata": {
  "orig_nbformat": 2,
  "deepnote": {
   "is_reactive": false
  },
  "deepnote_notebook_id": "97afb67d-06ce-4a63-bb3d-208672377dae",
  "deepnote_execution_queue": []
 }
}