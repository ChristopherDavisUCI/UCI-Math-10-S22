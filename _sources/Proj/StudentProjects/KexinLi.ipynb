{
 "cells": [
  {
   "cell_type": "markdown",
   "source": "# Unemployment Rate Data Analysis\n\nAuthor: Kexin Li, kexil17@uci.edu\n\nCourse Project, UC Irvine, Math 10, S22",
   "metadata": {
    "tags": [],
    "cell_id": "098969f5-ac0d-4245-bbc2-f824edd4e15f",
    "deepnote_cell_type": "markdown",
    "deepnote_cell_height": 156.796875
   }
  },
  {
   "cell_type": "markdown",
   "source": "## Section 1: Introduction\n\nDuring the pandemic, people around the world have been affected greatly. In this data analysis project, I will present the correlation between the unemployment rate and the covid cases confirmed as a measurement of impact from the pandemic. Specifically, I used the strategy of pandas, Altair Chart, Matplotlib, and Random Forest Regression for the analysis and visualization.",
   "metadata": {
    "cell_id": "1232c27a-f5e2-426a-91e0-f6cfebd8a611",
    "tags": [],
    "deepnote_cell_type": "markdown",
    "deepnote_cell_height": 175.59375
   }
  },
  {
   "cell_type": "markdown",
   "source": "## Section 2: Clean Dataset & Overview",
   "metadata": {
    "cell_id": "5100f2c6-6407-41f2-9bb2-1a62540d8662",
    "tags": [],
    "deepnote_cell_type": "markdown",
    "deepnote_cell_height": 70
   }
  },
  {
   "cell_type": "markdown",
   "source": "* The first step is to load the data with the imported packages. The data I will be utilizing and analyzing is the unemployment rate in the US during the pandemic and the Covid data accordingly. Here I use pandas to create dataframes of these two datasets, including the strategy of reading csv files, converting the object form of the date into datetime type, and rescaling with groupby and merge.",
   "metadata": {
    "cell_id": "d01d57ad5b3348b796b3cc40dd6309fc",
    "tags": [],
    "deepnote_cell_type": "markdown",
    "deepnote_cell_height": 136.59375
   }
  },
  {
   "cell_type": "code",
   "metadata": {
    "cell_id": "d9b0e7d20b794394b19814c4f935d17e",
    "tags": [],
    "deepnote_to_be_reexecuted": false,
    "source_hash": "33065598",
    "execution_start": 1654814572592,
    "execution_millis": 2176,
    "deepnote_cell_type": "code",
    "deepnote_cell_height": 171
   },
   "source": "# import package \nimport numpy as np \nimport pandas as pd \nimport matplotlib.pyplot as plt\nimport altair as alt\nimport seaborn as sns",
   "execution_count": null,
   "outputs": []
  },
  {
   "cell_type": "code",
   "metadata": {
    "cell_id": "7d0fbd9d84f74029875c9c5f17a8f358",
    "tags": [],
    "deepnote_to_be_reexecuted": false,
    "source_hash": "6c63fe51",
    "execution_start": 1654814574778,
    "execution_millis": 352,
    "deepnote_cell_type": "code",
    "deepnote_cell_height": 153
   },
   "source": "from sklearn.model_selection import train_test_split\nfrom sklearn.ensemble import RandomForestRegressor\nfrom sklearn.metrics import mean_squared_error, r2_score\nimport warnings\nwarnings.filterwarnings('ignore')",
   "execution_count": null,
   "outputs": []
  },
  {
   "cell_type": "markdown",
   "source": "### 1. The Unemployment Rate",
   "metadata": {
    "cell_id": "9726fcf9e00a45299f655b93df653cb2",
    "tags": [],
    "deepnote_cell_type": "markdown",
    "deepnote_cell_height": 62
   }
  },
  {
   "cell_type": "markdown",
   "source": "* For the unemployment rate, the data is read by pandas from the file `unemployment_rate_data.csv`. The data covers the US unemployment rate before and during the pandemic from the perspective of whole country.",
   "metadata": {
    "cell_id": "a5e2ad8c125e4475ad31cd90d6f71dcb",
    "tags": [],
    "deepnote_cell_type": "markdown",
    "deepnote_cell_height": 91.796875
   }
  },
  {
   "cell_type": "markdown",
   "source": "* In order for easier execution of the months and years data, here I used the `pd.to_datetime` skill to convert the forms into datetime data.",
   "metadata": {
    "cell_id": "a089d9a541e24547af2b505a2a9675a2",
    "tags": [],
    "deepnote_cell_type": "markdown",
    "deepnote_cell_height": 91.796875
   }
  },
  {
   "cell_type": "code",
   "metadata": {
    "cell_id": "e3cb17464c15479ea44fd5f74becd0c8",
    "tags": [],
    "deepnote_to_be_reexecuted": false,
    "source_hash": "71a2a335",
    "execution_start": 1654814575138,
    "execution_millis": 17,
    "deepnote_cell_type": "code",
    "deepnote_cell_height": 117
   },
   "source": "#read the csv data & clean the dataset\ndf = pd.read_csv('unemployment_rate_data.csv')\ndf.dropna(inplace = True)",
   "execution_count": null,
   "outputs": []
  },
  {
   "cell_type": "code",
   "metadata": {
    "cell_id": "3621706b5e944cd2ad5915c96f56625e",
    "tags": [],
    "deepnote_to_be_reexecuted": false,
    "source_hash": "c9847e2a",
    "execution_start": 1654814575190,
    "execution_millis": 86,
    "deepnote_cell_type": "code",
    "deepnote_cell_height": 135
   },
   "source": "#convert the date column into datetime type\ndf['date'] = pd.to_datetime(df['date'])\ndf['year'] = df['date'].dt.year\ndf['month'] = df['date'].dt.month",
   "execution_count": null,
   "outputs": []
  },
  {
   "cell_type": "code",
   "metadata": {
    "cell_id": "328e287f82894f6481357dce90215436",
    "tags": [],
    "deepnote_to_be_reexecuted": false,
    "source_hash": "f804c160",
    "execution_start": 1654814575292,
    "execution_millis": 130,
    "deepnote_cell_type": "code",
    "deepnote_cell_height": 600
   },
   "source": "df",
   "execution_count": null,
   "outputs": [
    {
     "output_type": "execute_result",
     "execution_count": 5,
     "data": {
      "application/vnd.deepnote.dataframe.v3+json": {
       "column_count": 13,
       "row_count": 887,
       "columns": [
        {
         "name": "date",
         "dtype": "datetime64[ns]",
         "stats": {
          "unique_count": 887,
          "nan_count": 0,
          "min": "1948-01-01 00:00:00",
          "max": "2021-11-01 00:00:00",
          "histogram": [
           {
            "bin_start": -694310400000000000,
            "bin_end": -461306880000000000,
            "count": 89
           },
           {
            "bin_start": -461306880000000000,
            "bin_end": -228303360000000000,
            "count": 89
           },
           {
            "bin_start": -228303360000000000,
            "bin_end": 4700160000000000,
            "count": 88
           },
           {
            "bin_start": 4700160000000000,
            "bin_end": 237703680000000000,
            "count": 89
           },
           {
            "bin_start": 237703680000000000,
            "bin_end": 470707200000000000,
            "count": 88
           },
           {
            "bin_start": 470707200000000000,
            "bin_end": 703710720000000000,
            "count": 89
           },
           {
            "bin_start": 703710720000000000,
            "bin_end": 936714240000000000,
            "count": 89
           },
           {
            "bin_start": 936714240000000000,
            "bin_end": 1169717760000000000,
            "count": 88
           },
           {
            "bin_start": 1169717760000000000,
            "bin_end": 1402721280000000000,
            "count": 89
           },
           {
            "bin_start": 1402721280000000000,
            "bin_end": 1635724800000000000,
            "count": 89
           }
          ]
         }
        },
        {
         "name": "unrate",
         "dtype": "float64",
         "stats": {
          "unique_count": 87,
          "nan_count": 0,
          "min": "2.4",
          "max": "14.4",
          "histogram": [
           {
            "bin_start": 2.4,
            "bin_end": 3.5999999999999996,
            "count": 68
           },
           {
            "bin_start": 3.5999999999999996,
            "bin_end": 4.8,
            "count": 199
           },
           {
            "bin_start": 4.8,
            "bin_end": 6,
            "count": 278
           },
           {
            "bin_start": 6,
            "bin_end": 7.199999999999999,
            "count": 170
           },
           {
            "bin_start": 7.199999999999999,
            "bin_end": 8.4,
            "count": 94
           },
           {
            "bin_start": 8.4,
            "bin_end": 9.6,
            "count": 50
           },
           {
            "bin_start": 9.6,
            "bin_end": 10.8,
            "count": 22
           },
           {
            "bin_start": 10.8,
            "bin_end": 12,
            "count": 4
           },
           {
            "bin_start": 12,
            "bin_end": 13.2,
            "count": 1
           },
           {
            "bin_start": 13.2,
            "bin_end": 14.4,
            "count": 1
           }
          ]
         }
        },
        {
         "name": "unrate_men",
         "dtype": "float64",
         "stats": {
          "unique_count": 97,
          "nan_count": 0,
          "min": "1.9",
          "max": "13.3",
          "histogram": [
           {
            "bin_start": 1.9,
            "bin_end": 3.04,
            "count": 62
           },
           {
            "bin_start": 3.04,
            "bin_end": 4.18,
            "count": 135
           },
           {
            "bin_start": 4.18,
            "bin_end": 5.32,
            "count": 261
           },
           {
            "bin_start": 5.32,
            "bin_end": 6.460000000000001,
            "count": 170
           },
           {
            "bin_start": 6.460000000000001,
            "bin_end": 7.600000000000001,
            "count": 135
           },
           {
            "bin_start": 7.600000000000001,
            "bin_end": 8.74,
            "count": 56
           },
           {
            "bin_start": 8.74,
            "bin_end": 9.88,
            "count": 30
           },
           {
            "bin_start": 9.88,
            "bin_end": 11.020000000000001,
            "count": 28
           },
           {
            "bin_start": 11.020000000000001,
            "bin_end": 12.160000000000002,
            "count": 5
           },
           {
            "bin_start": 12.160000000000002,
            "bin_end": 13.3,
            "count": 5
           }
          ]
         }
        },
        {
         "name": "unrate_women",
         "dtype": "float64",
         "stats": {
          "unique_count": 80,
          "nan_count": 0,
          "min": "2.6",
          "max": "15.7",
          "histogram": [
           {
            "bin_start": 2.6,
            "bin_end": 3.91,
            "count": 56
           },
           {
            "bin_start": 3.91,
            "bin_end": 5.220000000000001,
            "count": 263
           },
           {
            "bin_start": 5.220000000000001,
            "bin_end": 6.53,
            "count": 276
           },
           {
            "bin_start": 6.53,
            "bin_end": 7.84,
            "count": 174
           },
           {
            "bin_start": 7.84,
            "bin_end": 9.15,
            "count": 84
           },
           {
            "bin_start": 9.15,
            "bin_end": 10.46,
            "count": 30
           },
           {
            "bin_start": 10.46,
            "bin_end": 11.77,
            "count": 1
           },
           {
            "bin_start": 11.77,
            "bin_end": 13.08,
            "count": 1
           },
           {
            "bin_start": 13.08,
            "bin_end": 14.39,
            "count": 1
           },
           {
            "bin_start": 14.39,
            "bin_end": 15.7,
            "count": 1
           }
          ]
         }
        },
        {
         "name": "unrate_16_to_17",
         "dtype": "float64",
         "stats": {
          "unique_count": 224,
          "nan_count": 0,
          "min": "5.7",
          "max": "35.8",
          "histogram": [
           {
            "bin_start": 5.7,
            "bin_end": 8.71,
            "count": 25
           },
           {
            "bin_start": 8.71,
            "bin_end": 11.719999999999999,
            "count": 64
           },
           {
            "bin_start": 11.719999999999999,
            "bin_end": 14.73,
            "count": 139
           },
           {
            "bin_start": 14.73,
            "bin_end": 17.74,
            "count": 214
           },
           {
            "bin_start": 17.74,
            "bin_end": 20.75,
            "count": 215
           },
           {
            "bin_start": 20.75,
            "bin_end": 23.759999999999998,
            "count": 126
           },
           {
            "bin_start": 23.759999999999998,
            "bin_end": 26.77,
            "count": 54
           },
           {
            "bin_start": 26.77,
            "bin_end": 29.779999999999998,
            "count": 36
           },
           {
            "bin_start": 29.779999999999998,
            "bin_end": 32.79,
            "count": 11
           },
           {
            "bin_start": 32.79,
            "bin_end": 35.8,
            "count": 3
           }
          ]
         }
        },
        {
         "name": "unrate_18_to_19",
         "dtype": "float64",
         "stats": {
          "unique_count": 186,
          "nan_count": 0,
          "min": "5.2",
          "max": "33.3",
          "histogram": [
           {
            "bin_start": 5.2,
            "bin_end": 8.01,
            "count": 42
           },
           {
            "bin_start": 8.01,
            "bin_end": 10.82,
            "count": 87
           },
           {
            "bin_start": 10.82,
            "bin_end": 13.629999999999999,
            "count": 217
           },
           {
            "bin_start": 13.629999999999999,
            "bin_end": 16.439999999999998,
            "count": 273
           },
           {
            "bin_start": 16.439999999999998,
            "bin_end": 19.249999999999996,
            "count": 155
           },
           {
            "bin_start": 19.249999999999996,
            "bin_end": 22.06,
            "count": 60
           },
           {
            "bin_start": 22.06,
            "bin_end": 24.869999999999997,
            "count": 41
           },
           {
            "bin_start": 24.869999999999997,
            "bin_end": 27.679999999999996,
            "count": 10
           },
           {
            "bin_start": 27.679999999999996,
            "bin_end": 30.489999999999995,
            "count": 1
           },
           {
            "bin_start": 30.489999999999995,
            "bin_end": 33.3,
            "count": 1
           }
          ]
         }
        },
        {
         "name": "unrate_20_to_24",
         "dtype": "float64",
         "stats": {
          "unique_count": 134,
          "nan_count": 0,
          "min": "3.3",
          "max": "25.0",
          "histogram": [
           {
            "bin_start": 3.3,
            "bin_end": 5.47,
            "count": 72
           },
           {
            "bin_start": 5.47,
            "bin_end": 7.64,
            "count": 142
           },
           {
            "bin_start": 7.64,
            "bin_end": 9.809999999999999,
            "count": 341
           },
           {
            "bin_start": 9.809999999999999,
            "bin_end": 11.98,
            "count": 197
           },
           {
            "bin_start": 11.98,
            "bin_end": 14.149999999999999,
            "count": 77
           },
           {
            "bin_start": 14.149999999999999,
            "bin_end": 16.32,
            "count": 48
           },
           {
            "bin_start": 16.32,
            "bin_end": 18.49,
            "count": 7
           },
           {
            "bin_start": 18.49,
            "bin_end": 20.66,
            "count": 1
           },
           {
            "bin_start": 20.66,
            "bin_end": 22.830000000000002,
            "count": 0
           },
           {
            "bin_start": 22.830000000000002,
            "bin_end": 25,
            "count": 2
           }
          ]
         }
        },
        {
         "name": "unrate_25_to_34",
         "dtype": "float64",
         "stats": {
          "unique_count": 92,
          "nan_count": 0,
          "min": "2.0",
          "max": "14.3",
          "histogram": [
           {
            "bin_start": 2,
            "bin_end": 3.23,
            "count": 87
           },
           {
            "bin_start": 3.23,
            "bin_end": 4.46,
            "count": 176
           },
           {
            "bin_start": 4.46,
            "bin_end": 5.6899999999999995,
            "count": 265
           },
           {
            "bin_start": 5.6899999999999995,
            "bin_end": 6.92,
            "count": 180
           },
           {
            "bin_start": 6.92,
            "bin_end": 8.15,
            "count": 96
           },
           {
            "bin_start": 8.15,
            "bin_end": 9.379999999999999,
            "count": 36
           },
           {
            "bin_start": 9.379999999999999,
            "bin_end": 10.61,
            "count": 36
           },
           {
            "bin_start": 10.61,
            "bin_end": 11.84,
            "count": 9
           },
           {
            "bin_start": 11.84,
            "bin_end": 13.07,
            "count": 0
           },
           {
            "bin_start": 13.07,
            "bin_end": 14.3,
            "count": 2
           }
          ]
         }
        },
        {
         "name": "unrate_35_to_44",
         "dtype": "float64",
         "stats": {
          "unique_count": 77,
          "nan_count": 0,
          "min": "1.6",
          "max": "11.3",
          "histogram": [
           {
            "bin_start": 1.6,
            "bin_end": 2.5700000000000003,
            "count": 84
           },
           {
            "bin_start": 2.5700000000000003,
            "bin_end": 3.54,
            "count": 224
           },
           {
            "bin_start": 3.54,
            "bin_end": 4.51,
            "count": 261
           },
           {
            "bin_start": 4.51,
            "bin_end": 5.48,
            "count": 170
           },
           {
            "bin_start": 5.48,
            "bin_end": 6.450000000000001,
            "count": 75
           },
           {
            "bin_start": 6.450000000000001,
            "bin_end": 7.42,
            "count": 38
           },
           {
            "bin_start": 7.42,
            "bin_end": 8.39,
            "count": 25
           },
           {
            "bin_start": 8.39,
            "bin_end": 9.360000000000001,
            "count": 6
           },
           {
            "bin_start": 9.360000000000001,
            "bin_end": 10.33,
            "count": 3
           },
           {
            "bin_start": 10.33,
            "bin_end": 11.3,
            "count": 1
           }
          ]
         }
        },
        {
         "name": "unrate_45_to_54",
         "dtype": "float64",
         "stats": {
          "unique_count": 70,
          "nan_count": 0,
          "min": "1.5",
          "max": "12.1",
          "histogram": [
           {
            "bin_start": 1.5,
            "bin_end": 2.56,
            "count": 124
           },
           {
            "bin_start": 2.56,
            "bin_end": 3.62,
            "count": 327
           },
           {
            "bin_start": 3.62,
            "bin_end": 4.68,
            "count": 235
           },
           {
            "bin_start": 4.68,
            "bin_end": 5.74,
            "count": 119
           },
           {
            "bin_start": 5.74,
            "bin_end": 6.800000000000001,
            "count": 45
           },
           {
            "bin_start": 6.800000000000001,
            "bin_end": 7.86,
            "count": 27
           },
           {
            "bin_start": 7.86,
            "bin_end": 8.92,
            "count": 8
           },
           {
            "bin_start": 8.92,
            "bin_end": 9.98,
            "count": 0
           },
           {
            "bin_start": 9.98,
            "bin_end": 11.040000000000001,
            "count": 1
           },
           {
            "bin_start": 11.040000000000001,
            "bin_end": 12.1,
            "count": 1
           }
          ]
         }
        },
        {
         "name": "unrate_55_over",
         "dtype": "float64",
         "stats": {
          "unique_count": 63,
          "nan_count": 0,
          "min": "1.5",
          "max": "13.4",
          "histogram": [
           {
            "bin_start": 1.5,
            "bin_end": 2.69,
            "count": 115
           },
           {
            "bin_start": 2.69,
            "bin_end": 3.88,
            "count": 414
           },
           {
            "bin_start": 3.88,
            "bin_end": 5.07,
            "count": 234
           },
           {
            "bin_start": 5.07,
            "bin_end": 6.26,
            "count": 80
           },
           {
            "bin_start": 6.26,
            "bin_end": 7.449999999999999,
            "count": 36
           },
           {
            "bin_start": 7.449999999999999,
            "bin_end": 8.64,
            "count": 4
           },
           {
            "bin_start": 8.64,
            "bin_end": 9.83,
            "count": 2
           },
           {
            "bin_start": 9.83,
            "bin_end": 11.02,
            "count": 0
           },
           {
            "bin_start": 11.02,
            "bin_end": 12.209999999999999,
            "count": 1
           },
           {
            "bin_start": 12.209999999999999,
            "bin_end": 13.4,
            "count": 1
           }
          ]
         }
        },
        {
         "name": "year",
         "dtype": "int64",
         "stats": {
          "unique_count": 74,
          "nan_count": 0,
          "min": "1948",
          "max": "2021",
          "histogram": [
           {
            "bin_start": 1948,
            "bin_end": 1955.3,
            "count": 96
           },
           {
            "bin_start": 1955.3,
            "bin_end": 1962.6,
            "count": 84
           },
           {
            "bin_start": 1962.6,
            "bin_end": 1969.9,
            "count": 84
           },
           {
            "bin_start": 1969.9,
            "bin_end": 1977.2,
            "count": 96
           },
           {
            "bin_start": 1977.2,
            "bin_end": 1984.5,
            "count": 84
           },
           {
            "bin_start": 1984.5,
            "bin_end": 1991.8,
            "count": 84
           },
           {
            "bin_start": 1991.8,
            "bin_end": 1999.1,
            "count": 96
           },
           {
            "bin_start": 1999.1,
            "bin_end": 2006.4,
            "count": 84
           },
           {
            "bin_start": 2006.4,
            "bin_end": 2013.7,
            "count": 84
           },
           {
            "bin_start": 2013.7,
            "bin_end": 2021,
            "count": 95
           }
          ]
         }
        },
        {
         "name": "month",
         "dtype": "int64",
         "stats": {
          "unique_count": 12,
          "nan_count": 0,
          "min": "1",
          "max": "12",
          "histogram": [
           {
            "bin_start": 1,
            "bin_end": 2.1,
            "count": 148
           },
           {
            "bin_start": 2.1,
            "bin_end": 3.2,
            "count": 74
           },
           {
            "bin_start": 3.2,
            "bin_end": 4.300000000000001,
            "count": 74
           },
           {
            "bin_start": 4.300000000000001,
            "bin_end": 5.4,
            "count": 74
           },
           {
            "bin_start": 5.4,
            "bin_end": 6.5,
            "count": 74
           },
           {
            "bin_start": 6.5,
            "bin_end": 7.6000000000000005,
            "count": 74
           },
           {
            "bin_start": 7.6000000000000005,
            "bin_end": 8.700000000000001,
            "count": 74
           },
           {
            "bin_start": 8.700000000000001,
            "bin_end": 9.8,
            "count": 74
           },
           {
            "bin_start": 9.8,
            "bin_end": 10.9,
            "count": 74
           },
           {
            "bin_start": 10.9,
            "bin_end": 12,
            "count": 147
           }
          ]
         }
        },
        {
         "name": "_deepnote_index_column",
         "dtype": "int64"
        }
       ],
       "rows": [
        {
         "date": "1948-01-01T00:00:00.000000",
         "unrate": 4,
         "unrate_men": 4.2,
         "unrate_women": 3.5,
         "unrate_16_to_17": 10.8,
         "unrate_18_to_19": 9.6,
         "unrate_20_to_24": 6.6,
         "unrate_25_to_34": 3.6,
         "unrate_35_to_44": 2.6,
         "unrate_45_to_54": 2.7,
         "unrate_55_over": 3.6,
         "year": 1948,
         "month": 1,
         "_deepnote_index_column": 0
        },
        {
         "date": "1948-02-01T00:00:00.000000",
         "unrate": 4.7,
         "unrate_men": 4.7,
         "unrate_women": 4.8,
         "unrate_16_to_17": 15,
         "unrate_18_to_19": 9.5,
         "unrate_20_to_24": 8,
         "unrate_25_to_34": 4,
         "unrate_35_to_44": 3.2,
         "unrate_45_to_54": 3.4,
         "unrate_55_over": 4,
         "year": 1948,
         "month": 2,
         "_deepnote_index_column": 1
        },
        {
         "date": "1948-03-01T00:00:00.000000",
         "unrate": 4.5,
         "unrate_men": 4.5,
         "unrate_women": 4.4,
         "unrate_16_to_17": 13.2,
         "unrate_18_to_19": 9.3,
         "unrate_20_to_24": 8.6,
         "unrate_25_to_34": 3.5,
         "unrate_35_to_44": 3.2,
         "unrate_45_to_54": 2.9,
         "unrate_55_over": 3.5,
         "year": 1948,
         "month": 3,
         "_deepnote_index_column": 2
        },
        {
         "date": "1948-04-01T00:00:00.000000",
         "unrate": 4,
         "unrate_men": 4,
         "unrate_women": 4.1,
         "unrate_16_to_17": 9.9,
         "unrate_18_to_19": 8.1,
         "unrate_20_to_24": 6.8,
         "unrate_25_to_34": 3.5,
         "unrate_35_to_44": 3.1,
         "unrate_45_to_54": 2.9,
         "unrate_55_over": 3.2,
         "year": 1948,
         "month": 4,
         "_deepnote_index_column": 3
        },
        {
         "date": "1948-05-01T00:00:00.000000",
         "unrate": 3.4,
         "unrate_men": 3.3,
         "unrate_women": 3.4,
         "unrate_16_to_17": 6.4,
         "unrate_18_to_19": 7.2,
         "unrate_20_to_24": 6.3,
         "unrate_25_to_34": 2.8,
         "unrate_35_to_44": 2.5,
         "unrate_45_to_54": 2.3,
         "unrate_55_over": 2.9,
         "year": 1948,
         "month": 5,
         "_deepnote_index_column": 4
        },
        {
         "date": "1948-06-01T00:00:00.000000",
         "unrate": 3.9,
         "unrate_men": 3.4,
         "unrate_women": 5,
         "unrate_16_to_17": 17.7,
         "unrate_18_to_19": 9.8,
         "unrate_20_to_24": 6.3,
         "unrate_25_to_34": 2.7,
         "unrate_35_to_44": 2.2,
         "unrate_45_to_54": 2.3,
         "unrate_55_over": 2.6,
         "year": 1948,
         "month": 6,
         "_deepnote_index_column": 5
        },
        {
         "date": "1948-07-01T00:00:00.000000",
         "unrate": 3.9,
         "unrate_men": 3.5,
         "unrate_women": 4.8,
         "unrate_16_to_17": 12.2,
         "unrate_18_to_19": 10.1,
         "unrate_20_to_24": 6.4,
         "unrate_25_to_34": 3,
         "unrate_35_to_44": 2.5,
         "unrate_45_to_54": 2.4,
         "unrate_55_over": 2.7,
         "year": 1948,
         "month": 7,
         "_deepnote_index_column": 6
        },
        {
         "date": "1948-08-01T00:00:00.000000",
         "unrate": 3.6,
         "unrate_men": 3.3,
         "unrate_women": 4.5,
         "unrate_16_to_17": 7.1,
         "unrate_18_to_19": 8.9,
         "unrate_20_to_24": 5.2,
         "unrate_25_to_34": 3.5,
         "unrate_35_to_44": 2.6,
         "unrate_45_to_54": 2.6,
         "unrate_55_over": 2.8,
         "year": 1948,
         "month": 8,
         "_deepnote_index_column": 7
        },
        {
         "date": "1948-09-01T00:00:00.000000",
         "unrate": 3.4,
         "unrate_men": 3.1,
         "unrate_women": 4,
         "unrate_16_to_17": 7.6,
         "unrate_18_to_19": 7.6,
         "unrate_20_to_24": 4.9,
         "unrate_25_to_34": 3.1,
         "unrate_35_to_44": 2.4,
         "unrate_45_to_54": 2.8,
         "unrate_55_over": 2.6,
         "year": 1948,
         "month": 9,
         "_deepnote_index_column": 8
        },
        {
         "date": "1948-10-01T00:00:00.000000",
         "unrate": 2.9,
         "unrate_men": 2.6,
         "unrate_women": 3.4,
         "unrate_16_to_17": 5.7,
         "unrate_18_to_19": 6.3,
         "unrate_20_to_24": 4.6,
         "unrate_25_to_34": 2.6,
         "unrate_35_to_44": 2.1,
         "unrate_45_to_54": 2.1,
         "unrate_55_over": 2.6,
         "year": 1948,
         "month": 10,
         "_deepnote_index_column": 9
        }
       ]
      },
      "text/plain": "          date  unrate  unrate_men  unrate_women  unrate_16_to_17  \\\n0   1948-01-01     4.0         4.2           3.5             10.8   \n1   1948-02-01     4.7         4.7           4.8             15.0   \n2   1948-03-01     4.5         4.5           4.4             13.2   \n3   1948-04-01     4.0         4.0           4.1              9.9   \n4   1948-05-01     3.4         3.3           3.4              6.4   \n..         ...     ...         ...           ...              ...   \n882 2021-07-01     5.7         5.5           5.8             12.8   \n883 2021-08-01     5.3         5.1           5.5             10.7   \n884 2021-09-01     4.6         4.6           4.5              9.2   \n885 2021-10-01     4.3         4.2           4.4              8.6   \n886 2021-11-01     3.9         3.9           3.9              9.7   \n\n     unrate_18_to_19  unrate_20_to_24  unrate_25_to_34  unrate_35_to_44  \\\n0                9.6              6.6              3.6              2.6   \n1                9.5              8.0              4.0              3.2   \n2                9.3              8.6              3.5              3.2   \n3                8.1              6.8              3.5              3.1   \n4                7.2              6.3              2.8              2.5   \n..               ...              ...              ...              ...   \n882              9.9              9.5              6.3              4.8   \n883             11.0              9.1              5.8              4.4   \n884             12.6              7.7              5.0              3.8   \n885             12.7              6.8              4.5              3.6   \n886             11.0              6.6              3.8              3.6   \n\n     unrate_45_to_54  unrate_55_over  year  month  \n0                2.7             3.6  1948      1  \n1                3.4             4.0  1948      2  \n2                2.9             3.5  1948      3  \n3                2.9             3.2  1948      4  \n4                2.3             2.9  1948      5  \n..               ...             ...   ...    ...  \n882              4.0             4.6  2021      7  \n883              4.2             4.1  2021      8  \n884              3.7             3.3  2021      9  \n885              3.5             3.3  2021     10  \n886              2.8             3.1  2021     11  \n\n[887 rows x 13 columns]",
      "text/html": "<div>\n<style scoped>\n    .dataframe tbody tr th:only-of-type {\n        vertical-align: middle;\n    }\n\n    .dataframe tbody tr th {\n        vertical-align: top;\n    }\n\n    .dataframe thead th {\n        text-align: right;\n    }\n</style>\n<table border=\"1\" class=\"dataframe\">\n  <thead>\n    <tr style=\"text-align: right;\">\n      <th></th>\n      <th>date</th>\n      <th>unrate</th>\n      <th>unrate_men</th>\n      <th>unrate_women</th>\n      <th>unrate_16_to_17</th>\n      <th>unrate_18_to_19</th>\n      <th>unrate_20_to_24</th>\n      <th>unrate_25_to_34</th>\n      <th>unrate_35_to_44</th>\n      <th>unrate_45_to_54</th>\n      <th>unrate_55_over</th>\n      <th>year</th>\n      <th>month</th>\n    </tr>\n  </thead>\n  <tbody>\n    <tr>\n      <th>0</th>\n      <td>1948-01-01</td>\n      <td>4.0</td>\n      <td>4.2</td>\n      <td>3.5</td>\n      <td>10.8</td>\n      <td>9.6</td>\n      <td>6.6</td>\n      <td>3.6</td>\n      <td>2.6</td>\n      <td>2.7</td>\n      <td>3.6</td>\n      <td>1948</td>\n      <td>1</td>\n    </tr>\n    <tr>\n      <th>1</th>\n      <td>1948-02-01</td>\n      <td>4.7</td>\n      <td>4.7</td>\n      <td>4.8</td>\n      <td>15.0</td>\n      <td>9.5</td>\n      <td>8.0</td>\n      <td>4.0</td>\n      <td>3.2</td>\n      <td>3.4</td>\n      <td>4.0</td>\n      <td>1948</td>\n      <td>2</td>\n    </tr>\n    <tr>\n      <th>2</th>\n      <td>1948-03-01</td>\n      <td>4.5</td>\n      <td>4.5</td>\n      <td>4.4</td>\n      <td>13.2</td>\n      <td>9.3</td>\n      <td>8.6</td>\n      <td>3.5</td>\n      <td>3.2</td>\n      <td>2.9</td>\n      <td>3.5</td>\n      <td>1948</td>\n      <td>3</td>\n    </tr>\n    <tr>\n      <th>3</th>\n      <td>1948-04-01</td>\n      <td>4.0</td>\n      <td>4.0</td>\n      <td>4.1</td>\n      <td>9.9</td>\n      <td>8.1</td>\n      <td>6.8</td>\n      <td>3.5</td>\n      <td>3.1</td>\n      <td>2.9</td>\n      <td>3.2</td>\n      <td>1948</td>\n      <td>4</td>\n    </tr>\n    <tr>\n      <th>4</th>\n      <td>1948-05-01</td>\n      <td>3.4</td>\n      <td>3.3</td>\n      <td>3.4</td>\n      <td>6.4</td>\n      <td>7.2</td>\n      <td>6.3</td>\n      <td>2.8</td>\n      <td>2.5</td>\n      <td>2.3</td>\n      <td>2.9</td>\n      <td>1948</td>\n      <td>5</td>\n    </tr>\n    <tr>\n      <th>...</th>\n      <td>...</td>\n      <td>...</td>\n      <td>...</td>\n      <td>...</td>\n      <td>...</td>\n      <td>...</td>\n      <td>...</td>\n      <td>...</td>\n      <td>...</td>\n      <td>...</td>\n      <td>...</td>\n      <td>...</td>\n      <td>...</td>\n    </tr>\n    <tr>\n      <th>882</th>\n      <td>2021-07-01</td>\n      <td>5.7</td>\n      <td>5.5</td>\n      <td>5.8</td>\n      <td>12.8</td>\n      <td>9.9</td>\n      <td>9.5</td>\n      <td>6.3</td>\n      <td>4.8</td>\n      <td>4.0</td>\n      <td>4.6</td>\n      <td>2021</td>\n      <td>7</td>\n    </tr>\n    <tr>\n      <th>883</th>\n      <td>2021-08-01</td>\n      <td>5.3</td>\n      <td>5.1</td>\n      <td>5.5</td>\n      <td>10.7</td>\n      <td>11.0</td>\n      <td>9.1</td>\n      <td>5.8</td>\n      <td>4.4</td>\n      <td>4.2</td>\n      <td>4.1</td>\n      <td>2021</td>\n      <td>8</td>\n    </tr>\n    <tr>\n      <th>884</th>\n      <td>2021-09-01</td>\n      <td>4.6</td>\n      <td>4.6</td>\n      <td>4.5</td>\n      <td>9.2</td>\n      <td>12.6</td>\n      <td>7.7</td>\n      <td>5.0</td>\n      <td>3.8</td>\n      <td>3.7</td>\n      <td>3.3</td>\n      <td>2021</td>\n      <td>9</td>\n    </tr>\n    <tr>\n      <th>885</th>\n      <td>2021-10-01</td>\n      <td>4.3</td>\n      <td>4.2</td>\n      <td>4.4</td>\n      <td>8.6</td>\n      <td>12.7</td>\n      <td>6.8</td>\n      <td>4.5</td>\n      <td>3.6</td>\n      <td>3.5</td>\n      <td>3.3</td>\n      <td>2021</td>\n      <td>10</td>\n    </tr>\n    <tr>\n      <th>886</th>\n      <td>2021-11-01</td>\n      <td>3.9</td>\n      <td>3.9</td>\n      <td>3.9</td>\n      <td>9.7</td>\n      <td>11.0</td>\n      <td>6.6</td>\n      <td>3.8</td>\n      <td>3.6</td>\n      <td>2.8</td>\n      <td>3.1</td>\n      <td>2021</td>\n      <td>11</td>\n    </tr>\n  </tbody>\n</table>\n<p>887 rows × 13 columns</p>\n</div>"
     },
     "metadata": {}
    }
   ]
  },
  {
   "cell_type": "markdown",
   "source": "### 2. The Covid Data For Comparison and Correlational Analysis",
   "metadata": {
    "cell_id": "940e0a6ad7894a908d0f4ecc6495b50e",
    "tags": [],
    "deepnote_cell_type": "markdown",
    "deepnote_cell_height": 62
   }
  },
  {
   "cell_type": "markdown",
   "source": "* For the covid dataset, the data is read by pandas from the file `us-counties.csv`. This datasets includes a huge amount of `nan` data because of the absence of information. Therefore, an important step before analyzing the dataset is to clean the data with the strategy of `dropna` which is to drop or delete the rows with the missing values. ",
   "metadata": {
    "cell_id": "732f0ab4290243e587e401922b33b65a",
    "tags": [],
    "deepnote_cell_type": "markdown",
    "deepnote_cell_height": 114.1875
   }
  },
  {
   "cell_type": "code",
   "metadata": {
    "cell_id": "2c109e73fdda4d64b29eb6c78ad91e35",
    "tags": [],
    "deepnote_to_be_reexecuted": false,
    "source_hash": "23538330",
    "execution_start": 1654814575424,
    "execution_millis": 3393,
    "deepnote_cell_type": "code",
    "deepnote_cell_height": 780
   },
   "source": "#read the csv data & clean the dataset\ncovid_df = pd.read_csv(\"./us-counties.csv\")\ncovid_df.dropna(inplace = True)\n\n#convert the date column into datetime type\ncovid_df['date'] = pd.to_datetime(covid_df['date'] )\ncovid_df['year'] = covid_df['date'].dt.year\ncovid_df['month'] = covid_df['date'].dt.month\ncovid_df['day'] = covid_df['date'].dt.day\n\ncovid_df",
   "execution_count": null,
   "outputs": [
    {
     "output_type": "execute_result",
     "execution_count": 6,
     "data": {
      "application/vnd.deepnote.dataframe.v3+json": {
       "column_count": 9,
       "row_count": 2421549,
       "columns": [
        {
         "name": "date",
         "dtype": "datetime64[ns]"
        },
        {
         "name": "county",
         "dtype": "object"
        },
        {
         "name": "state",
         "dtype": "object"
        },
        {
         "name": "fips",
         "dtype": "float64"
        },
        {
         "name": "cases",
         "dtype": "int64"
        },
        {
         "name": "deaths",
         "dtype": "float64"
        },
        {
         "name": "year",
         "dtype": "int64"
        },
        {
         "name": "month",
         "dtype": "int64"
        },
        {
         "name": "day",
         "dtype": "int64"
        },
        {
         "name": "_deepnote_index_column",
         "dtype": "int64"
        }
       ],
       "rows": [
        {
         "date": "2020-01-21T00:00:00.000000",
         "county": "Snohomish",
         "state": "Washington",
         "fips": 53061,
         "cases": 1,
         "deaths": 0,
         "year": 2020,
         "month": 1,
         "day": 21,
         "_deepnote_index_column": 0
        },
        {
         "date": "2020-01-22T00:00:00.000000",
         "county": "Snohomish",
         "state": "Washington",
         "fips": 53061,
         "cases": 1,
         "deaths": 0,
         "year": 2020,
         "month": 1,
         "day": 22,
         "_deepnote_index_column": 1
        },
        {
         "date": "2020-01-23T00:00:00.000000",
         "county": "Snohomish",
         "state": "Washington",
         "fips": 53061,
         "cases": 1,
         "deaths": 0,
         "year": 2020,
         "month": 1,
         "day": 23,
         "_deepnote_index_column": 2
        },
        {
         "date": "2020-01-24T00:00:00.000000",
         "county": "Cook",
         "state": "Illinois",
         "fips": 17031,
         "cases": 1,
         "deaths": 0,
         "year": 2020,
         "month": 1,
         "day": 24,
         "_deepnote_index_column": 3
        },
        {
         "date": "2020-01-24T00:00:00.000000",
         "county": "Snohomish",
         "state": "Washington",
         "fips": 53061,
         "cases": 1,
         "deaths": 0,
         "year": 2020,
         "month": 1,
         "day": 24,
         "_deepnote_index_column": 4
        },
        {
         "date": "2020-01-25T00:00:00.000000",
         "county": "Orange",
         "state": "California",
         "fips": 6059,
         "cases": 1,
         "deaths": 0,
         "year": 2020,
         "month": 1,
         "day": 25,
         "_deepnote_index_column": 5
        },
        {
         "date": "2020-01-25T00:00:00.000000",
         "county": "Cook",
         "state": "Illinois",
         "fips": 17031,
         "cases": 1,
         "deaths": 0,
         "year": 2020,
         "month": 1,
         "day": 25,
         "_deepnote_index_column": 6
        },
        {
         "date": "2020-01-25T00:00:00.000000",
         "county": "Snohomish",
         "state": "Washington",
         "fips": 53061,
         "cases": 1,
         "deaths": 0,
         "year": 2020,
         "month": 1,
         "day": 25,
         "_deepnote_index_column": 7
        },
        {
         "date": "2020-01-26T00:00:00.000000",
         "county": "Maricopa",
         "state": "Arizona",
         "fips": 4013,
         "cases": 1,
         "deaths": 0,
         "year": 2020,
         "month": 1,
         "day": 26,
         "_deepnote_index_column": 8
        },
        {
         "date": "2020-01-26T00:00:00.000000",
         "county": "Los Angeles",
         "state": "California",
         "fips": 6037,
         "cases": 1,
         "deaths": 0,
         "year": 2020,
         "month": 1,
         "day": 26,
         "_deepnote_index_column": 9
        }
       ]
      },
      "text/plain": "              date      county       state     fips  cases  deaths  year  \\\n0       2020-01-21   Snohomish  Washington  53061.0      1     0.0  2020   \n1       2020-01-22   Snohomish  Washington  53061.0      1     0.0  2020   \n2       2020-01-23   Snohomish  Washington  53061.0      1     0.0  2020   \n3       2020-01-24        Cook    Illinois  17031.0      1     0.0  2020   \n4       2020-01-24   Snohomish  Washington  53061.0      1     0.0  2020   \n...            ...         ...         ...      ...    ...     ...   ...   \n2502827 2022-05-13  Sweetwater     Wyoming  56037.0  11088   126.0  2022   \n2502828 2022-05-13       Teton     Wyoming  56039.0  10074    16.0  2022   \n2502829 2022-05-13       Uinta     Wyoming  56041.0   5643    39.0  2022   \n2502830 2022-05-13    Washakie     Wyoming  56043.0   2358    44.0  2022   \n2502831 2022-05-13      Weston     Wyoming  56045.0   1588    18.0  2022   \n\n         month  day  \n0            1   21  \n1            1   22  \n2            1   23  \n3            1   24  \n4            1   24  \n...        ...  ...  \n2502827      5   13  \n2502828      5   13  \n2502829      5   13  \n2502830      5   13  \n2502831      5   13  \n\n[2421549 rows x 9 columns]",
      "text/html": "<div>\n<style scoped>\n    .dataframe tbody tr th:only-of-type {\n        vertical-align: middle;\n    }\n\n    .dataframe tbody tr th {\n        vertical-align: top;\n    }\n\n    .dataframe thead th {\n        text-align: right;\n    }\n</style>\n<table border=\"1\" class=\"dataframe\">\n  <thead>\n    <tr style=\"text-align: right;\">\n      <th></th>\n      <th>date</th>\n      <th>county</th>\n      <th>state</th>\n      <th>fips</th>\n      <th>cases</th>\n      <th>deaths</th>\n      <th>year</th>\n      <th>month</th>\n      <th>day</th>\n    </tr>\n  </thead>\n  <tbody>\n    <tr>\n      <th>0</th>\n      <td>2020-01-21</td>\n      <td>Snohomish</td>\n      <td>Washington</td>\n      <td>53061.0</td>\n      <td>1</td>\n      <td>0.0</td>\n      <td>2020</td>\n      <td>1</td>\n      <td>21</td>\n    </tr>\n    <tr>\n      <th>1</th>\n      <td>2020-01-22</td>\n      <td>Snohomish</td>\n      <td>Washington</td>\n      <td>53061.0</td>\n      <td>1</td>\n      <td>0.0</td>\n      <td>2020</td>\n      <td>1</td>\n      <td>22</td>\n    </tr>\n    <tr>\n      <th>2</th>\n      <td>2020-01-23</td>\n      <td>Snohomish</td>\n      <td>Washington</td>\n      <td>53061.0</td>\n      <td>1</td>\n      <td>0.0</td>\n      <td>2020</td>\n      <td>1</td>\n      <td>23</td>\n    </tr>\n    <tr>\n      <th>3</th>\n      <td>2020-01-24</td>\n      <td>Cook</td>\n      <td>Illinois</td>\n      <td>17031.0</td>\n      <td>1</td>\n      <td>0.0</td>\n      <td>2020</td>\n      <td>1</td>\n      <td>24</td>\n    </tr>\n    <tr>\n      <th>4</th>\n      <td>2020-01-24</td>\n      <td>Snohomish</td>\n      <td>Washington</td>\n      <td>53061.0</td>\n      <td>1</td>\n      <td>0.0</td>\n      <td>2020</td>\n      <td>1</td>\n      <td>24</td>\n    </tr>\n    <tr>\n      <th>...</th>\n      <td>...</td>\n      <td>...</td>\n      <td>...</td>\n      <td>...</td>\n      <td>...</td>\n      <td>...</td>\n      <td>...</td>\n      <td>...</td>\n      <td>...</td>\n    </tr>\n    <tr>\n      <th>2502827</th>\n      <td>2022-05-13</td>\n      <td>Sweetwater</td>\n      <td>Wyoming</td>\n      <td>56037.0</td>\n      <td>11088</td>\n      <td>126.0</td>\n      <td>2022</td>\n      <td>5</td>\n      <td>13</td>\n    </tr>\n    <tr>\n      <th>2502828</th>\n      <td>2022-05-13</td>\n      <td>Teton</td>\n      <td>Wyoming</td>\n      <td>56039.0</td>\n      <td>10074</td>\n      <td>16.0</td>\n      <td>2022</td>\n      <td>5</td>\n      <td>13</td>\n    </tr>\n    <tr>\n      <th>2502829</th>\n      <td>2022-05-13</td>\n      <td>Uinta</td>\n      <td>Wyoming</td>\n      <td>56041.0</td>\n      <td>5643</td>\n      <td>39.0</td>\n      <td>2022</td>\n      <td>5</td>\n      <td>13</td>\n    </tr>\n    <tr>\n      <th>2502830</th>\n      <td>2022-05-13</td>\n      <td>Washakie</td>\n      <td>Wyoming</td>\n      <td>56043.0</td>\n      <td>2358</td>\n      <td>44.0</td>\n      <td>2022</td>\n      <td>5</td>\n      <td>13</td>\n    </tr>\n    <tr>\n      <th>2502831</th>\n      <td>2022-05-13</td>\n      <td>Weston</td>\n      <td>Wyoming</td>\n      <td>56045.0</td>\n      <td>1588</td>\n      <td>18.0</td>\n      <td>2022</td>\n      <td>5</td>\n      <td>13</td>\n    </tr>\n  </tbody>\n</table>\n<p>2421549 rows × 9 columns</p>\n</div>"
     },
     "metadata": {}
    }
   ]
  },
  {
   "cell_type": "markdown",
   "source": "### 3. Merging and rearranging the data",
   "metadata": {
    "cell_id": "d0cf37d56e114dc9ac6684f7ec64e8fb",
    "tags": [],
    "deepnote_cell_type": "markdown",
    "deepnote_cell_height": 62
   }
  },
  {
   "cell_type": "markdown",
   "source": "* As the above cleaned datasets presented, they have the similar date column which is a clue for further merging the datasets together with rescaling the index.",
   "metadata": {
    "cell_id": "ae11cbf299b14400918afd1afbbca620",
    "tags": [],
    "deepnote_cell_type": "markdown",
    "deepnote_cell_height": 91.796875
   }
  },
  {
   "cell_type": "code",
   "metadata": {
    "cell_id": "65e2393dbb3045b681378bd4e779fc13",
    "tags": [],
    "deepnote_to_be_reexecuted": false,
    "source_hash": "223b141d",
    "execution_start": 1654814578642,
    "execution_millis": 44,
    "deepnote_cell_type": "code",
    "deepnote_cell_height": 135
   },
   "source": "#Use groupby method to rearrage the dataframe\n#merge the new monthly confirmed cases into the dataframe\nmask = covid_df['day'] == 1\nmonthly_df = covid_df[mask].groupby(['date'])[['cases', 'deaths']].sum()",
   "execution_count": null,
   "outputs": []
  },
  {
   "cell_type": "code",
   "metadata": {
    "cell_id": "6029811c62024f42a87c964a155be8a3",
    "tags": [],
    "deepnote_to_be_reexecuted": false,
    "source_hash": "a11eb4e",
    "execution_start": 1654814578687,
    "execution_millis": 1,
    "deepnote_cell_type": "code",
    "deepnote_cell_height": 153
   },
   "source": "#merge the new monthly confirmed cases into the dataframe\nmonthly_new_df = monthly_df.diff().dropna().reset_index()\ndf = pd.merge(df, monthly_new_df, on = 'date', how = 'left')\ndf = df.fillna(0)\ndf = df.tail(60)",
   "execution_count": null,
   "outputs": []
  },
  {
   "cell_type": "code",
   "metadata": {
    "cell_id": "9dcd2d332aca45429dced16833004a29",
    "tags": [],
    "deepnote_to_be_reexecuted": false,
    "source_hash": "bd5a95da",
    "execution_start": 1654814578731,
    "execution_millis": 0,
    "deepnote_cell_type": "code",
    "deepnote_cell_height": 117
   },
   "source": "# Use boolean series to determine whether the date is during the pandemic\ndf['is_covid_period'] = 0\ndf.loc[df['year'] > 2019, 'is_covid_period'] = 1",
   "execution_count": null,
   "outputs": []
  },
  {
   "cell_type": "markdown",
   "source": "* Intuitively, the covid must have an impact on the unemployment rate during the pandemic. Therefore, to confirm the intuitive guess, I checked the correlation data of the unemployment rate `unrate` and the `cases` and `deaths`.",
   "metadata": {
    "cell_id": "2ab2372934aa4ccdb24d52aa5ca7a7be",
    "tags": [],
    "deepnote_cell_type": "markdown",
    "deepnote_cell_height": 91.796875
   }
  },
  {
   "cell_type": "code",
   "metadata": {
    "cell_id": "688708b71e034dd18f1f55449f09adce",
    "tags": [],
    "deepnote_to_be_reexecuted": false,
    "source_hash": "dc0591bc",
    "execution_start": 1654814578731,
    "execution_millis": 102,
    "deepnote_cell_type": "code",
    "deepnote_cell_height": 618
   },
   "source": "# all periods\ndf.corr()",
   "execution_count": null,
   "outputs": [
    {
     "output_type": "execute_result",
     "execution_count": 10,
     "data": {
      "application/vnd.deepnote.dataframe.v3+json": {
       "column_count": 15,
       "row_count": 15,
       "columns": [
        {
         "name": "unrate",
         "dtype": "float64",
         "stats": {
          "unique_count": 15,
          "nan_count": 0,
          "min": "-0.12706647463151982",
          "max": "1.0",
          "histogram": [
           {
            "bin_start": -0.12706647463151982,
            "bin_end": -0.014359827168367839,
            "count": 1
           },
           {
            "bin_start": -0.014359827168367839,
            "bin_end": 0.09834682029478414,
            "count": 0
           },
           {
            "bin_start": 0.09834682029478414,
            "bin_end": 0.21105346775793615,
            "count": 0
           },
           {
            "bin_start": 0.21105346775793615,
            "bin_end": 0.3237601152210881,
            "count": 1
           },
           {
            "bin_start": 0.3237601152210881,
            "bin_end": 0.43646676268424006,
            "count": 1
           },
           {
            "bin_start": 0.43646676268424006,
            "bin_end": 0.5491734101473922,
            "count": 1
           },
           {
            "bin_start": 0.5491734101473922,
            "bin_end": 0.6618800576105441,
            "count": 1
           },
           {
            "bin_start": 0.6618800576105441,
            "bin_end": 0.7745867050736961,
            "count": 1
           },
           {
            "bin_start": 0.7745867050736961,
            "bin_end": 0.887293352536848,
            "count": 1
           },
           {
            "bin_start": 0.887293352536848,
            "bin_end": 1,
            "count": 8
           }
          ]
         }
        },
        {
         "name": "unrate_men",
         "dtype": "float64",
         "stats": {
          "unique_count": 15,
          "nan_count": 0,
          "min": "-0.1761266681443208",
          "max": "1.0",
          "histogram": [
           {
            "bin_start": -0.1761266681443208,
            "bin_end": -0.05851400132988871,
            "count": 1
           },
           {
            "bin_start": -0.05851400132988871,
            "bin_end": 0.05909866548454337,
            "count": 0
           },
           {
            "bin_start": 0.05909866548454337,
            "bin_end": 0.17671133229897548,
            "count": 0
           },
           {
            "bin_start": 0.17671133229897548,
            "bin_end": 0.29432399911340756,
            "count": 0
           },
           {
            "bin_start": 0.29432399911340756,
            "bin_end": 0.4119366659278396,
            "count": 1
           },
           {
            "bin_start": 0.4119366659278396,
            "bin_end": 0.5295493327422718,
            "count": 2
           },
           {
            "bin_start": 0.5295493327422718,
            "bin_end": 0.6471619995567038,
            "count": 1
           },
           {
            "bin_start": 0.6471619995567038,
            "bin_end": 0.7647746663711359,
            "count": 1
           },
           {
            "bin_start": 0.7647746663711359,
            "bin_end": 0.8823873331855681,
            "count": 1
           },
           {
            "bin_start": 0.8823873331855681,
            "bin_end": 1,
            "count": 8
           }
          ]
         }
        },
        {
         "name": "unrate_women",
         "dtype": "float64",
         "stats": {
          "unique_count": 15,
          "nan_count": 0,
          "min": "-0.08473186458008278",
          "max": "1.0",
          "histogram": [
           {
            "bin_start": -0.08473186458008278,
            "bin_end": 0.023741321877925492,
            "count": 1
           },
           {
            "bin_start": 0.023741321877925492,
            "bin_end": 0.13221450833593376,
            "count": 0
           },
           {
            "bin_start": 0.13221450833593376,
            "bin_end": 0.240687694793942,
            "count": 1
           },
           {
            "bin_start": 0.240687694793942,
            "bin_end": 0.34916088125195033,
            "count": 0
           },
           {
            "bin_start": 0.34916088125195033,
            "bin_end": 0.4576340677099586,
            "count": 2
           },
           {
            "bin_start": 0.4576340677099586,
            "bin_end": 0.5661072541679668,
            "count": 0
           },
           {
            "bin_start": 0.5661072541679668,
            "bin_end": 0.6745804406259751,
            "count": 1
           },
           {
            "bin_start": 0.6745804406259751,
            "bin_end": 0.7830536270839834,
            "count": 1
           },
           {
            "bin_start": 0.7830536270839834,
            "bin_end": 0.8915268135419917,
            "count": 0
           },
           {
            "bin_start": 0.8915268135419917,
            "bin_end": 1,
            "count": 9
           }
          ]
         }
        },
        {
         "name": "unrate_16_to_17",
         "dtype": "float64",
         "stats": {
          "unique_count": 15,
          "nan_count": 0,
          "min": "-0.2799980342154332",
          "max": "1.0",
          "histogram": [
           {
            "bin_start": -0.2799980342154332,
            "bin_end": -0.15199823079388985,
            "count": 2
           },
           {
            "bin_start": -0.15199823079388985,
            "bin_end": -0.02399842737234653,
            "count": 1
           },
           {
            "bin_start": -0.02399842737234653,
            "bin_end": 0.10400137604919679,
            "count": 2
           },
           {
            "bin_start": 0.10400137604919679,
            "bin_end": 0.23200117947074012,
            "count": 0
           },
           {
            "bin_start": 0.23200117947074012,
            "bin_end": 0.3600009828922834,
            "count": 0
           },
           {
            "bin_start": 0.3600009828922834,
            "bin_end": 0.48800078631382676,
            "count": 0
           },
           {
            "bin_start": 0.48800078631382676,
            "bin_end": 0.6160005897353702,
            "count": 0
           },
           {
            "bin_start": 0.6160005897353702,
            "bin_end": 0.7440003931569135,
            "count": 8
           },
           {
            "bin_start": 0.7440003931569135,
            "bin_end": 0.8720001965784567,
            "count": 1
           },
           {
            "bin_start": 0.8720001965784567,
            "bin_end": 1,
            "count": 1
           }
          ]
         }
        },
        {
         "name": "unrate_18_to_19",
         "dtype": "float64",
         "stats": {
          "unique_count": 15,
          "nan_count": 0,
          "min": "-0.1522302004931803",
          "max": "1.0",
          "histogram": [
           {
            "bin_start": -0.1522302004931803,
            "bin_end": -0.03700718044386228,
            "count": 1
           },
           {
            "bin_start": -0.03700718044386228,
            "bin_end": 0.07821583960545575,
            "count": 0
           },
           {
            "bin_start": 0.07821583960545575,
            "bin_end": 0.19343885965477375,
            "count": 2
           },
           {
            "bin_start": 0.19343885965477375,
            "bin_end": 0.3086618797040918,
            "count": 1
           },
           {
            "bin_start": 0.3086618797040918,
            "bin_end": 0.42388489975340987,
            "count": 1
           },
           {
            "bin_start": 0.42388489975340987,
            "bin_end": 0.5391079198027278,
            "count": 0
           },
           {
            "bin_start": 0.5391079198027278,
            "bin_end": 0.6543309398520458,
            "count": 0
           },
           {
            "bin_start": 0.6543309398520458,
            "bin_end": 0.7695539599013639,
            "count": 0
           },
           {
            "bin_start": 0.7695539599013639,
            "bin_end": 0.8847769799506819,
            "count": 7
           },
           {
            "bin_start": 0.8847769799506819,
            "bin_end": 1,
            "count": 3
           }
          ]
         }
        },
        {
         "name": "unrate_20_to_24",
         "dtype": "float64",
         "stats": {
          "unique_count": 15,
          "nan_count": 0,
          "min": "-0.1470019615546457",
          "max": "1.0",
          "histogram": [
           {
            "bin_start": -0.1470019615546457,
            "bin_end": -0.03230176539918114,
            "count": 1
           },
           {
            "bin_start": -0.03230176539918114,
            "bin_end": 0.08239843075628342,
            "count": 0
           },
           {
            "bin_start": 0.08239843075628342,
            "bin_end": 0.19709862691174798,
            "count": 0
           },
           {
            "bin_start": 0.19709862691174798,
            "bin_end": 0.3117988230672125,
            "count": 1
           },
           {
            "bin_start": 0.3117988230672125,
            "bin_end": 0.4264990192226771,
            "count": 2
           },
           {
            "bin_start": 0.4264990192226771,
            "bin_end": 0.5411992153781416,
            "count": 0
           },
           {
            "bin_start": 0.5411992153781416,
            "bin_end": 0.6558994115336062,
            "count": 1
           },
           {
            "bin_start": 0.6558994115336062,
            "bin_end": 0.7705996076890708,
            "count": 1
           },
           {
            "bin_start": 0.7705996076890708,
            "bin_end": 0.8852998038445353,
            "count": 0
           },
           {
            "bin_start": 0.8852998038445353,
            "bin_end": 1,
            "count": 9
           }
          ]
         }
        },
        {
         "name": "unrate_25_to_34",
         "dtype": "float64",
         "stats": {
          "unique_count": 15,
          "nan_count": 0,
          "min": "-0.12132470950455587",
          "max": "1.0",
          "histogram": [
           {
            "bin_start": -0.12132470950455587,
            "bin_end": -0.009192238554100271,
            "count": 1
           },
           {
            "bin_start": -0.009192238554100271,
            "bin_end": 0.10294023239635533,
            "count": 0
           },
           {
            "bin_start": 0.10294023239635533,
            "bin_end": 0.21507270334681095,
            "count": 0
           },
           {
            "bin_start": 0.21507270334681095,
            "bin_end": 0.32720517429726653,
            "count": 1
           },
           {
            "bin_start": 0.32720517429726653,
            "bin_end": 0.4393376452477221,
            "count": 1
           },
           {
            "bin_start": 0.4393376452477221,
            "bin_end": 0.5514701161981778,
            "count": 1
           },
           {
            "bin_start": 0.5514701161981778,
            "bin_end": 0.6636025871486333,
            "count": 2
           },
           {
            "bin_start": 0.6636025871486333,
            "bin_end": 0.7757350580990889,
            "count": 0
           },
           {
            "bin_start": 0.7757350580990889,
            "bin_end": 0.8878675290495445,
            "count": 1
           },
           {
            "bin_start": 0.8878675290495445,
            "bin_end": 1,
            "count": 8
           }
          ]
         }
        },
        {
         "name": "unrate_35_to_44",
         "dtype": "float64",
         "stats": {
          "unique_count": 15,
          "nan_count": 0,
          "min": "-0.1361478821641514",
          "max": "1.0",
          "histogram": [
           {
            "bin_start": -0.1361478821641514,
            "bin_end": -0.022533093947736282,
            "count": 1
           },
           {
            "bin_start": -0.022533093947736282,
            "bin_end": 0.09108169426867885,
            "count": 0
           },
           {
            "bin_start": 0.09108169426867885,
            "bin_end": 0.20469648248509398,
            "count": 0
           },
           {
            "bin_start": 0.20469648248509398,
            "bin_end": 0.3183112707015091,
            "count": 0
           },
           {
            "bin_start": 0.3183112707015091,
            "bin_end": 0.43192605891792424,
            "count": 1
           },
           {
            "bin_start": 0.43192605891792424,
            "bin_end": 0.5455408471343394,
            "count": 2
           },
           {
            "bin_start": 0.5455408471343394,
            "bin_end": 0.6591556353507545,
            "count": 1
           },
           {
            "bin_start": 0.6591556353507545,
            "bin_end": 0.7727704235671696,
            "count": 1
           },
           {
            "bin_start": 0.7727704235671696,
            "bin_end": 0.8863852117835848,
            "count": 1
           },
           {
            "bin_start": 0.8863852117835848,
            "bin_end": 1,
            "count": 8
           }
          ]
         }
        },
        {
         "name": "unrate_45_to_54",
         "dtype": "float64",
         "stats": {
          "unique_count": 15,
          "nan_count": 0,
          "min": "-0.11574875458320044",
          "max": "1.0",
          "histogram": [
           {
            "bin_start": -0.11574875458320044,
            "bin_end": -0.004173879124880403,
            "count": 1
           },
           {
            "bin_start": -0.004173879124880403,
            "bin_end": 0.10740099633343964,
            "count": 0
           },
           {
            "bin_start": 0.10740099633343964,
            "bin_end": 0.2189758717917597,
            "count": 0
           },
           {
            "bin_start": 0.2189758717917597,
            "bin_end": 0.3305507472500797,
            "count": 1
           },
           {
            "bin_start": 0.3305507472500797,
            "bin_end": 0.4421256227083997,
            "count": 1
           },
           {
            "bin_start": 0.4421256227083997,
            "bin_end": 0.5537004981667198,
            "count": 1
           },
           {
            "bin_start": 0.5537004981667198,
            "bin_end": 0.6652753736250399,
            "count": 1
           },
           {
            "bin_start": 0.6652753736250399,
            "bin_end": 0.7768502490833599,
            "count": 1
           },
           {
            "bin_start": 0.7768502490833599,
            "bin_end": 0.88842512454168,
            "count": 1
           },
           {
            "bin_start": 0.88842512454168,
            "bin_end": 1,
            "count": 8
           }
          ]
         }
        },
        {
         "name": "unrate_55_over",
         "dtype": "float64",
         "stats": {
          "unique_count": 15,
          "nan_count": 0,
          "min": "-0.09922296628732923",
          "max": "1.0",
          "histogram": [
           {
            "bin_start": -0.09922296628732923,
            "bin_end": 0.01069933034140369,
            "count": 1
           },
           {
            "bin_start": 0.01069933034140369,
            "bin_end": 0.1206216269701366,
            "count": 0
           },
           {
            "bin_start": 0.1206216269701366,
            "bin_end": 0.2305439235988695,
            "count": 0
           },
           {
            "bin_start": 0.2305439235988695,
            "bin_end": 0.3404662202276024,
            "count": 1
           },
           {
            "bin_start": 0.3404662202276024,
            "bin_end": 0.45038851685633535,
            "count": 2
           },
           {
            "bin_start": 0.45038851685633535,
            "bin_end": 0.5603108134850683,
            "count": 0
           },
           {
            "bin_start": 0.5603108134850683,
            "bin_end": 0.6702331101138013,
            "count": 1
           },
           {
            "bin_start": 0.6702331101138013,
            "bin_end": 0.7801554067425341,
            "count": 1
           },
           {
            "bin_start": 0.7801554067425341,
            "bin_end": 0.890077703371267,
            "count": 1
           },
           {
            "bin_start": 0.890077703371267,
            "bin_end": 1,
            "count": 8
           }
          ]
         }
        },
        {
         "name": "year",
         "dtype": "float64",
         "stats": {
          "unique_count": 15,
          "nan_count": 0,
          "min": "-0.1110898192662303",
          "max": "1.0",
          "histogram": [
           {
            "bin_start": -0.1110898192662303,
            "bin_end": 0.000019162660392729736,
            "count": 2
           },
           {
            "bin_start": 0.000019162660392729736,
            "bin_end": 0.11112814458701575,
            "count": 0
           },
           {
            "bin_start": 0.11112814458701575,
            "bin_end": 0.2222371265136388,
            "count": 1
           },
           {
            "bin_start": 0.2222371265136388,
            "bin_end": 0.3333461084402618,
            "count": 0
           },
           {
            "bin_start": 0.3333461084402618,
            "bin_end": 0.4444550903668848,
            "count": 7
           },
           {
            "bin_start": 0.4444550903668848,
            "bin_end": 0.5555640722935079,
            "count": 1
           },
           {
            "bin_start": 0.5555640722935079,
            "bin_end": 0.6666730542201309,
            "count": 2
           },
           {
            "bin_start": 0.6666730542201309,
            "bin_end": 0.7777820361467539,
            "count": 0
           },
           {
            "bin_start": 0.7777820361467539,
            "bin_end": 0.8888910180733769,
            "count": 1
           },
           {
            "bin_start": 0.8888910180733769,
            "bin_end": 1,
            "count": 1
           }
          ]
         }
        },
        {
         "name": "month",
         "dtype": "float64",
         "stats": {
          "unique_count": 15,
          "nan_count": 0,
          "min": "-0.2799980342154332",
          "max": "1.0",
          "histogram": [
           {
            "bin_start": -0.2799980342154332,
            "bin_end": -0.15199823079388985,
            "count": 3
           },
           {
            "bin_start": -0.15199823079388985,
            "bin_end": -0.02399842737234653,
            "count": 10
           },
           {
            "bin_start": -0.02399842737234653,
            "bin_end": 0.10400137604919679,
            "count": 1
           },
           {
            "bin_start": 0.10400137604919679,
            "bin_end": 0.23200117947074012,
            "count": 0
           },
           {
            "bin_start": 0.23200117947074012,
            "bin_end": 0.3600009828922834,
            "count": 0
           },
           {
            "bin_start": 0.3600009828922834,
            "bin_end": 0.48800078631382676,
            "count": 0
           },
           {
            "bin_start": 0.48800078631382676,
            "bin_end": 0.6160005897353702,
            "count": 0
           },
           {
            "bin_start": 0.6160005897353702,
            "bin_end": 0.7440003931569135,
            "count": 0
           },
           {
            "bin_start": 0.7440003931569135,
            "bin_end": 0.8720001965784567,
            "count": 0
           },
           {
            "bin_start": 0.8720001965784567,
            "bin_end": 1,
            "count": 1
           }
          ]
         }
        },
        {
         "name": "cases",
         "dtype": "float64",
         "stats": {
          "unique_count": 15,
          "nan_count": 0,
          "min": "-0.18829644967977782",
          "max": "1.0",
          "histogram": [
           {
            "bin_start": -0.18829644967977782,
            "bin_end": -0.06946680471180003,
            "count": 1
           },
           {
            "bin_start": -0.06946680471180003,
            "bin_end": 0.049362840256177765,
            "count": 1
           },
           {
            "bin_start": 0.049362840256177765,
            "bin_end": 0.16819248522415559,
            "count": 1
           },
           {
            "bin_start": 0.16819248522415559,
            "bin_end": 0.28702213019213335,
            "count": 5
           },
           {
            "bin_start": 0.28702213019213335,
            "bin_end": 0.4058517751601111,
            "count": 3
           },
           {
            "bin_start": 0.4058517751601111,
            "bin_end": 0.5246814201280889,
            "count": 0
           },
           {
            "bin_start": 0.5246814201280889,
            "bin_end": 0.6435110650960667,
            "count": 1
           },
           {
            "bin_start": 0.6435110650960667,
            "bin_end": 0.7623407100640445,
            "count": 1
           },
           {
            "bin_start": 0.7623407100640445,
            "bin_end": 0.8811703550320222,
            "count": 0
           },
           {
            "bin_start": 0.8811703550320222,
            "bin_end": 1,
            "count": 2
           }
          ]
         }
        },
        {
         "name": "deaths",
         "dtype": "float64",
         "stats": {
          "unique_count": 15,
          "nan_count": 0,
          "min": "-0.061118966519256225",
          "max": "1.0",
          "histogram": [
           {
            "bin_start": -0.061118966519256225,
            "bin_end": 0.0449929301326694,
            "count": 2
           },
           {
            "bin_start": 0.0449929301326694,
            "bin_end": 0.15110482678459503,
            "count": 0
           },
           {
            "bin_start": 0.15110482678459503,
            "bin_end": 0.25721672343652063,
            "count": 1
           },
           {
            "bin_start": 0.25721672343652063,
            "bin_end": 0.36332862008844624,
            "count": 0
           },
           {
            "bin_start": 0.36332862008844624,
            "bin_end": 0.46944051674037185,
            "count": 6
           },
           {
            "bin_start": 0.46944051674037185,
            "bin_end": 0.5755524133922976,
            "count": 2
           },
           {
            "bin_start": 0.5755524133922976,
            "bin_end": 0.6816643100442231,
            "count": 1
           },
           {
            "bin_start": 0.6816643100442231,
            "bin_end": 0.7877762066961488,
            "count": 1
           },
           {
            "bin_start": 0.7877762066961488,
            "bin_end": 0.8938881033480744,
            "count": 1
           },
           {
            "bin_start": 0.8938881033480744,
            "bin_end": 1,
            "count": 1
           }
          ]
         }
        },
        {
         "name": "is_covid_period",
         "dtype": "float64",
         "stats": {
          "unique_count": 15,
          "nan_count": 0,
          "min": "-0.05461607846041601",
          "max": "1.0",
          "histogram": [
           {
            "bin_start": -0.05461607846041601,
            "bin_end": 0.05084552938562559,
            "count": 2
           },
           {
            "bin_start": 0.05084552938562559,
            "bin_end": 0.15630713723166717,
            "count": 0
           },
           {
            "bin_start": 0.15630713723166717,
            "bin_end": 0.2617687450777088,
            "count": 0
           },
           {
            "bin_start": 0.2617687450777088,
            "bin_end": 0.3672303529237504,
            "count": 1
           },
           {
            "bin_start": 0.3672303529237504,
            "bin_end": 0.472691960769792,
            "count": 0
           },
           {
            "bin_start": 0.472691960769792,
            "bin_end": 0.5781535686158336,
            "count": 1
           },
           {
            "bin_start": 0.5781535686158336,
            "bin_end": 0.6836151764618751,
            "count": 8
           },
           {
            "bin_start": 0.6836151764618751,
            "bin_end": 0.7890767843079167,
            "count": 1
           },
           {
            "bin_start": 0.7890767843079167,
            "bin_end": 0.8945383921539584,
            "count": 1
           },
           {
            "bin_start": 0.8945383921539584,
            "bin_end": 1,
            "count": 1
           }
          ]
         }
        },
        {
         "name": "_deepnote_index_column",
         "dtype": "object"
        }
       ],
       "rows": [
        {
         "unrate": 1,
         "unrate_men": 0.9928351697652794,
         "unrate_women": 0.9937732627724776,
         "unrate_16_to_17": 0.7026862566905152,
         "unrate_18_to_19": 0.8799334690366095,
         "unrate_20_to_24": 0.989326455513411,
         "unrate_25_to_34": 0.9922593811746095,
         "unrate_35_to_44": 0.988000360950467,
         "unrate_45_to_54": 0.993118371746902,
         "unrate_55_over": 0.9959939199048459,
         "year": 0.40506606777106596,
         "month": -0.12706647463151982,
         "cases": 0.2734678261299277,
         "deaths": 0.4421317484697638,
         "is_covid_period": 0.6176408875477635,
         "_deepnote_index_column": "unrate"
        },
        {
         "unrate": 0.9928351697652794,
         "unrate_men": 1,
         "unrate_women": 0.9738929872729662,
         "unrate_16_to_17": 0.6804910555668471,
         "unrate_18_to_19": 0.8552125578991311,
         "unrate_20_to_24": 0.9778244787190455,
         "unrate_25_to_34": 0.987838707748918,
         "unrate_35_to_44": 0.9926509253248086,
         "unrate_45_to_54": 0.9879528966108756,
         "unrate_55_over": 0.9891735463324517,
         "year": 0.42348774525881144,
         "month": -0.1761266681443208,
         "cases": 0.31687227457713546,
         "deaths": 0.4807827857127802,
         "is_covid_period": 0.6422987045246149,
         "_deepnote_index_column": "unrate_men"
        },
        {
         "unrate": 0.9937732627724776,
         "unrate_men": 0.9738929872729662,
         "unrate_women": 1,
         "unrate_16_to_17": 0.7187473665589501,
         "unrate_18_to_19": 0.8965568187277023,
         "unrate_20_to_24": 0.9876826435124328,
         "unrate_25_to_34": 0.9833643548888829,
         "unrate_35_to_44": 0.970567422901249,
         "unrate_45_to_54": 0.9852945213446926,
         "unrate_55_over": 0.98988455967695,
         "year": 0.3768630674720254,
         "month": -0.08473186458008278,
         "cases": 0.22663220401641546,
         "deaths": 0.39782830267267133,
         "is_covid_period": 0.5798811764943251,
         "_deepnote_index_column": "unrate_women"
        },
        {
         "unrate": 0.7026862566905152,
         "unrate_men": 0.6804910555668471,
         "unrate_women": 0.7187473665589501,
         "unrate_16_to_17": 1,
         "unrate_18_to_19": 0.7820912632700943,
         "unrate_20_to_24": 0.7325234842864362,
         "unrate_25_to_34": 0.6559984277620969,
         "unrate_35_to_44": 0.6439527021970516,
         "unrate_45_to_54": 0.6700559897414327,
         "unrate_55_over": 0.6871038371008441,
         "year": -0.1110898192662303,
         "month": -0.2799980342154332,
         "cases": -0.18829644967977782,
         "deaths": 0.0026026675639705364,
         "is_covid_period": 0.039027559750287176,
         "_deepnote_index_column": "unrate_16_to_17"
        },
        {
         "unrate": 0.8799334690366095,
         "unrate_men": 0.8552125578991311,
         "unrate_women": 0.8965568187277023,
         "unrate_16_to_17": 0.7820912632700943,
         "unrate_18_to_19": 1,
         "unrate_20_to_24": 0.898318279241539,
         "unrate_25_to_34": 0.8467243071251771,
         "unrate_35_to_44": 0.8296886262691481,
         "unrate_45_to_54": 0.8695477351724393,
         "unrate_55_over": 0.875186792200294,
         "year": 0.159203688326961,
         "month": -0.1522302004931803,
         "cases": 0.08548846950261688,
         "deaths": 0.23256588700571484,
         "is_covid_period": 0.348555536904798,
         "_deepnote_index_column": "unrate_18_to_19"
        },
        {
         "unrate": 0.989326455513411,
         "unrate_men": 0.9778244787190455,
         "unrate_women": 0.9876826435124328,
         "unrate_16_to_17": 0.7325234842864362,
         "unrate_18_to_19": 0.898318279241539,
         "unrate_20_to_24": 1,
         "unrate_25_to_34": 0.973729276176128,
         "unrate_35_to_44": 0.9653005729198688,
         "unrate_45_to_54": 0.9784990364831032,
         "unrate_55_over": 0.9834377564270816,
         "year": 0.38658394487386655,
         "month": -0.1470019615546457,
         "cases": 0.19820275688359804,
         "deaths": 0.37947793802489443,
         "is_covid_period": 0.5778540538372706,
         "_deepnote_index_column": "unrate_20_to_24"
        },
        {
         "unrate": 0.9922593811746095,
         "unrate_men": 0.987838707748918,
         "unrate_women": 0.9833643548888829,
         "unrate_16_to_17": 0.6559984277620969,
         "unrate_18_to_19": 0.8467243071251771,
         "unrate_20_to_24": 0.973729276176128,
         "unrate_25_to_34": 1,
         "unrate_35_to_44": 0.9833828474534635,
         "unrate_45_to_54": 0.9825770182049364,
         "unrate_55_over": 0.9867673249351004,
         "year": 0.41907489377316404,
         "month": -0.12132470950455587,
         "cases": 0.28618670579181665,
         "deaths": 0.456472241295311,
         "is_covid_period": 0.6392792908400116,
         "_deepnote_index_column": "unrate_25_to_34"
        },
        {
         "unrate": 0.988000360950467,
         "unrate_men": 0.9926509253248086,
         "unrate_women": 0.970567422901249,
         "unrate_16_to_17": 0.6439527021970516,
         "unrate_18_to_19": 0.8296886262691481,
         "unrate_20_to_24": 0.9653005729198688,
         "unrate_25_to_34": 0.9833828474534635,
         "unrate_35_to_44": 1,
         "unrate_45_to_54": 0.983790794447642,
         "unrate_55_over": 0.9841431008128699,
         "year": 0.44743603290872336,
         "month": -0.1361478821641514,
         "cases": 0.3597810529184393,
         "deaths": 0.5185891315037994,
         "is_covid_period": 0.6716823804125496,
         "_deepnote_index_column": "unrate_35_to_44"
        },
        {
         "unrate": 0.993118371746902,
         "unrate_men": 0.9879528966108756,
         "unrate_women": 0.9852945213446926,
         "unrate_16_to_17": 0.6700559897414327,
         "unrate_18_to_19": 0.8695477351724393,
         "unrate_20_to_24": 0.9784990364831032,
         "unrate_25_to_34": 0.9825770182049364,
         "unrate_35_to_44": 0.983790794447642,
         "unrate_45_to_54": 1,
         "unrate_55_over": 0.9901147000079284,
         "year": 0.43126058062453876,
         "month": -0.11574875458320044,
         "cases": 0.299823924369322,
         "deaths": 0.452017846128475,
         "is_covid_period": 0.6330741079029855,
         "_deepnote_index_column": "unrate_45_to_54"
        },
        {
         "unrate": 0.9959939199048459,
         "unrate_men": 0.9891735463324517,
         "unrate_women": 0.98988455967695,
         "unrate_16_to_17": 0.6871038371008441,
         "unrate_18_to_19": 0.875186792200294,
         "unrate_20_to_24": 0.9834377564270816,
         "unrate_25_to_34": 0.9867673249351004,
         "unrate_35_to_44": 0.9841431008128699,
         "unrate_45_to_54": 0.9901147000079284,
         "unrate_55_over": 1,
         "year": 0.41069851989894024,
         "month": -0.09922296628732923,
         "cases": 0.27968340203808156,
         "deaths": 0.44006769425252695,
         "is_covid_period": 0.6191702003720626,
         "_deepnote_index_column": "unrate_55_over"
        }
       ]
      },
      "text/plain": "                   unrate  unrate_men  unrate_women  unrate_16_to_17  \\\nunrate           1.000000    0.992835      0.993773         0.702686   \nunrate_men       0.992835    1.000000      0.973893         0.680491   \nunrate_women     0.993773    0.973893      1.000000         0.718747   \nunrate_16_to_17  0.702686    0.680491      0.718747         1.000000   \nunrate_18_to_19  0.879933    0.855213      0.896557         0.782091   \nunrate_20_to_24  0.989326    0.977824      0.987683         0.732523   \nunrate_25_to_34  0.992259    0.987839      0.983364         0.655998   \nunrate_35_to_44  0.988000    0.992651      0.970567         0.643953   \nunrate_45_to_54  0.993118    0.987953      0.985295         0.670056   \nunrate_55_over   0.995994    0.989174      0.989885         0.687104   \nyear             0.405066    0.423488      0.376863        -0.111090   \nmonth           -0.127066   -0.176127     -0.084732        -0.279998   \ncases            0.273468    0.316872      0.226632        -0.188296   \ndeaths           0.442132    0.480783      0.397828         0.002603   \nis_covid_period  0.617641    0.642299      0.579881         0.039028   \n\n                 unrate_18_to_19  unrate_20_to_24  unrate_25_to_34  \\\nunrate                  0.879933         0.989326         0.992259   \nunrate_men              0.855213         0.977824         0.987839   \nunrate_women            0.896557         0.987683         0.983364   \nunrate_16_to_17         0.782091         0.732523         0.655998   \nunrate_18_to_19         1.000000         0.898318         0.846724   \nunrate_20_to_24         0.898318         1.000000         0.973729   \nunrate_25_to_34         0.846724         0.973729         1.000000   \nunrate_35_to_44         0.829689         0.965301         0.983383   \nunrate_45_to_54         0.869548         0.978499         0.982577   \nunrate_55_over          0.875187         0.983438         0.986767   \nyear                    0.159204         0.386584         0.419075   \nmonth                  -0.152230        -0.147002        -0.121325   \ncases                   0.085488         0.198203         0.286187   \ndeaths                  0.232566         0.379478         0.456472   \nis_covid_period         0.348556         0.577854         0.639279   \n\n                 unrate_35_to_44  unrate_45_to_54  unrate_55_over      year  \\\nunrate                  0.988000         0.993118        0.995994  0.405066   \nunrate_men              0.992651         0.987953        0.989174  0.423488   \nunrate_women            0.970567         0.985295        0.989885  0.376863   \nunrate_16_to_17         0.643953         0.670056        0.687104 -0.111090   \nunrate_18_to_19         0.829689         0.869548        0.875187  0.159204   \nunrate_20_to_24         0.965301         0.978499        0.983438  0.386584   \nunrate_25_to_34         0.983383         0.982577        0.986767  0.419075   \nunrate_35_to_44         1.000000         0.983791        0.984143  0.447436   \nunrate_45_to_54         0.983791         1.000000        0.990115  0.431261   \nunrate_55_over          0.984143         0.990115        1.000000  0.410699   \nyear                    0.447436         0.431261        0.410699  1.000000   \nmonth                  -0.136148        -0.115749       -0.099223 -0.092140   \ncases                   0.359781         0.299824        0.279683  0.629642   \ndeaths                  0.518589         0.452018        0.440068  0.664482   \nis_covid_period         0.671682         0.633074        0.619170  0.854431   \n\n                    month     cases    deaths  is_covid_period  \nunrate          -0.127066  0.273468  0.442132         0.617641  \nunrate_men      -0.176127  0.316872  0.480783         0.642299  \nunrate_women    -0.084732  0.226632  0.397828         0.579881  \nunrate_16_to_17 -0.279998 -0.188296  0.002603         0.039028  \nunrate_18_to_19 -0.152230  0.085488  0.232566         0.348556  \nunrate_20_to_24 -0.147002  0.198203  0.379478         0.577854  \nunrate_25_to_34 -0.121325  0.286187  0.456472         0.639279  \nunrate_35_to_44 -0.136148  0.359781  0.518589         0.671682  \nunrate_45_to_54 -0.115749  0.299824  0.452018         0.633074  \nunrate_55_over  -0.099223  0.279683  0.440068         0.619170  \nyear            -0.092140  0.629642  0.664482         0.854431  \nmonth            1.000000  0.013454 -0.061119        -0.054616  \ncases            0.013454  1.000000  0.887123         0.644999  \ndeaths          -0.061119  0.887123  1.000000         0.699066  \nis_covid_period -0.054616  0.644999  0.699066         1.000000  ",
      "text/html": "<div>\n<style scoped>\n    .dataframe tbody tr th:only-of-type {\n        vertical-align: middle;\n    }\n\n    .dataframe tbody tr th {\n        vertical-align: top;\n    }\n\n    .dataframe thead th {\n        text-align: right;\n    }\n</style>\n<table border=\"1\" class=\"dataframe\">\n  <thead>\n    <tr style=\"text-align: right;\">\n      <th></th>\n      <th>unrate</th>\n      <th>unrate_men</th>\n      <th>unrate_women</th>\n      <th>unrate_16_to_17</th>\n      <th>unrate_18_to_19</th>\n      <th>unrate_20_to_24</th>\n      <th>unrate_25_to_34</th>\n      <th>unrate_35_to_44</th>\n      <th>unrate_45_to_54</th>\n      <th>unrate_55_over</th>\n      <th>year</th>\n      <th>month</th>\n      <th>cases</th>\n      <th>deaths</th>\n      <th>is_covid_period</th>\n    </tr>\n  </thead>\n  <tbody>\n    <tr>\n      <th>unrate</th>\n      <td>1.000000</td>\n      <td>0.992835</td>\n      <td>0.993773</td>\n      <td>0.702686</td>\n      <td>0.879933</td>\n      <td>0.989326</td>\n      <td>0.992259</td>\n      <td>0.988000</td>\n      <td>0.993118</td>\n      <td>0.995994</td>\n      <td>0.405066</td>\n      <td>-0.127066</td>\n      <td>0.273468</td>\n      <td>0.442132</td>\n      <td>0.617641</td>\n    </tr>\n    <tr>\n      <th>unrate_men</th>\n      <td>0.992835</td>\n      <td>1.000000</td>\n      <td>0.973893</td>\n      <td>0.680491</td>\n      <td>0.855213</td>\n      <td>0.977824</td>\n      <td>0.987839</td>\n      <td>0.992651</td>\n      <td>0.987953</td>\n      <td>0.989174</td>\n      <td>0.423488</td>\n      <td>-0.176127</td>\n      <td>0.316872</td>\n      <td>0.480783</td>\n      <td>0.642299</td>\n    </tr>\n    <tr>\n      <th>unrate_women</th>\n      <td>0.993773</td>\n      <td>0.973893</td>\n      <td>1.000000</td>\n      <td>0.718747</td>\n      <td>0.896557</td>\n      <td>0.987683</td>\n      <td>0.983364</td>\n      <td>0.970567</td>\n      <td>0.985295</td>\n      <td>0.989885</td>\n      <td>0.376863</td>\n      <td>-0.084732</td>\n      <td>0.226632</td>\n      <td>0.397828</td>\n      <td>0.579881</td>\n    </tr>\n    <tr>\n      <th>unrate_16_to_17</th>\n      <td>0.702686</td>\n      <td>0.680491</td>\n      <td>0.718747</td>\n      <td>1.000000</td>\n      <td>0.782091</td>\n      <td>0.732523</td>\n      <td>0.655998</td>\n      <td>0.643953</td>\n      <td>0.670056</td>\n      <td>0.687104</td>\n      <td>-0.111090</td>\n      <td>-0.279998</td>\n      <td>-0.188296</td>\n      <td>0.002603</td>\n      <td>0.039028</td>\n    </tr>\n    <tr>\n      <th>unrate_18_to_19</th>\n      <td>0.879933</td>\n      <td>0.855213</td>\n      <td>0.896557</td>\n      <td>0.782091</td>\n      <td>1.000000</td>\n      <td>0.898318</td>\n      <td>0.846724</td>\n      <td>0.829689</td>\n      <td>0.869548</td>\n      <td>0.875187</td>\n      <td>0.159204</td>\n      <td>-0.152230</td>\n      <td>0.085488</td>\n      <td>0.232566</td>\n      <td>0.348556</td>\n    </tr>\n    <tr>\n      <th>unrate_20_to_24</th>\n      <td>0.989326</td>\n      <td>0.977824</td>\n      <td>0.987683</td>\n      <td>0.732523</td>\n      <td>0.898318</td>\n      <td>1.000000</td>\n      <td>0.973729</td>\n      <td>0.965301</td>\n      <td>0.978499</td>\n      <td>0.983438</td>\n      <td>0.386584</td>\n      <td>-0.147002</td>\n      <td>0.198203</td>\n      <td>0.379478</td>\n      <td>0.577854</td>\n    </tr>\n    <tr>\n      <th>unrate_25_to_34</th>\n      <td>0.992259</td>\n      <td>0.987839</td>\n      <td>0.983364</td>\n      <td>0.655998</td>\n      <td>0.846724</td>\n      <td>0.973729</td>\n      <td>1.000000</td>\n      <td>0.983383</td>\n      <td>0.982577</td>\n      <td>0.986767</td>\n      <td>0.419075</td>\n      <td>-0.121325</td>\n      <td>0.286187</td>\n      <td>0.456472</td>\n      <td>0.639279</td>\n    </tr>\n    <tr>\n      <th>unrate_35_to_44</th>\n      <td>0.988000</td>\n      <td>0.992651</td>\n      <td>0.970567</td>\n      <td>0.643953</td>\n      <td>0.829689</td>\n      <td>0.965301</td>\n      <td>0.983383</td>\n      <td>1.000000</td>\n      <td>0.983791</td>\n      <td>0.984143</td>\n      <td>0.447436</td>\n      <td>-0.136148</td>\n      <td>0.359781</td>\n      <td>0.518589</td>\n      <td>0.671682</td>\n    </tr>\n    <tr>\n      <th>unrate_45_to_54</th>\n      <td>0.993118</td>\n      <td>0.987953</td>\n      <td>0.985295</td>\n      <td>0.670056</td>\n      <td>0.869548</td>\n      <td>0.978499</td>\n      <td>0.982577</td>\n      <td>0.983791</td>\n      <td>1.000000</td>\n      <td>0.990115</td>\n      <td>0.431261</td>\n      <td>-0.115749</td>\n      <td>0.299824</td>\n      <td>0.452018</td>\n      <td>0.633074</td>\n    </tr>\n    <tr>\n      <th>unrate_55_over</th>\n      <td>0.995994</td>\n      <td>0.989174</td>\n      <td>0.989885</td>\n      <td>0.687104</td>\n      <td>0.875187</td>\n      <td>0.983438</td>\n      <td>0.986767</td>\n      <td>0.984143</td>\n      <td>0.990115</td>\n      <td>1.000000</td>\n      <td>0.410699</td>\n      <td>-0.099223</td>\n      <td>0.279683</td>\n      <td>0.440068</td>\n      <td>0.619170</td>\n    </tr>\n    <tr>\n      <th>year</th>\n      <td>0.405066</td>\n      <td>0.423488</td>\n      <td>0.376863</td>\n      <td>-0.111090</td>\n      <td>0.159204</td>\n      <td>0.386584</td>\n      <td>0.419075</td>\n      <td>0.447436</td>\n      <td>0.431261</td>\n      <td>0.410699</td>\n      <td>1.000000</td>\n      <td>-0.092140</td>\n      <td>0.629642</td>\n      <td>0.664482</td>\n      <td>0.854431</td>\n    </tr>\n    <tr>\n      <th>month</th>\n      <td>-0.127066</td>\n      <td>-0.176127</td>\n      <td>-0.084732</td>\n      <td>-0.279998</td>\n      <td>-0.152230</td>\n      <td>-0.147002</td>\n      <td>-0.121325</td>\n      <td>-0.136148</td>\n      <td>-0.115749</td>\n      <td>-0.099223</td>\n      <td>-0.092140</td>\n      <td>1.000000</td>\n      <td>0.013454</td>\n      <td>-0.061119</td>\n      <td>-0.054616</td>\n    </tr>\n    <tr>\n      <th>cases</th>\n      <td>0.273468</td>\n      <td>0.316872</td>\n      <td>0.226632</td>\n      <td>-0.188296</td>\n      <td>0.085488</td>\n      <td>0.198203</td>\n      <td>0.286187</td>\n      <td>0.359781</td>\n      <td>0.299824</td>\n      <td>0.279683</td>\n      <td>0.629642</td>\n      <td>0.013454</td>\n      <td>1.000000</td>\n      <td>0.887123</td>\n      <td>0.644999</td>\n    </tr>\n    <tr>\n      <th>deaths</th>\n      <td>0.442132</td>\n      <td>0.480783</td>\n      <td>0.397828</td>\n      <td>0.002603</td>\n      <td>0.232566</td>\n      <td>0.379478</td>\n      <td>0.456472</td>\n      <td>0.518589</td>\n      <td>0.452018</td>\n      <td>0.440068</td>\n      <td>0.664482</td>\n      <td>-0.061119</td>\n      <td>0.887123</td>\n      <td>1.000000</td>\n      <td>0.699066</td>\n    </tr>\n    <tr>\n      <th>is_covid_period</th>\n      <td>0.617641</td>\n      <td>0.642299</td>\n      <td>0.579881</td>\n      <td>0.039028</td>\n      <td>0.348556</td>\n      <td>0.577854</td>\n      <td>0.639279</td>\n      <td>0.671682</td>\n      <td>0.633074</td>\n      <td>0.619170</td>\n      <td>0.854431</td>\n      <td>-0.054616</td>\n      <td>0.644999</td>\n      <td>0.699066</td>\n      <td>1.000000</td>\n    </tr>\n  </tbody>\n</table>\n</div>"
     },
     "metadata": {}
    }
   ]
  },
  {
   "cell_type": "markdown",
   "source": "*  They are both positively correlated, which is a clear indication that as covid confirmed cases and death cases go up, the unemployment rate is increasing accordingly.\n\n*  Also, a more simplified way to look at the relationship is between the unemployment rate and the `is_covid_period` column. As the data presents, the correlation coeffiecient is 0.617 between the `unrate` and `is_covid_period`. Therefore, unemployment rate is greatly affected by the covid.",
   "metadata": {
    "cell_id": "5f17dc2b28de478eab7fa4efa538e48b",
    "tags": [],
    "deepnote_cell_type": "markdown",
    "deepnote_cell_height": 161.984375
   }
  },
  {
   "cell_type": "code",
   "metadata": {
    "cell_id": "b81197aa06d6404ca9571c33298f03ae",
    "tags": [],
    "deepnote_to_be_reexecuted": false,
    "source_hash": "ebbaf233",
    "execution_start": 1654814578809,
    "execution_millis": 90,
    "deepnote_cell_type": "code",
    "deepnote_cell_height": 636
   },
   "source": "mask = df['is_covid_period'] == 1\n# non COVID-19 periods\ndf[~mask].corr()",
   "execution_count": null,
   "outputs": [
    {
     "output_type": "execute_result",
     "execution_count": 11,
     "data": {
      "application/vnd.deepnote.dataframe.v3+json": {
       "column_count": 15,
       "row_count": 15,
       "columns": [
        {
         "name": "unrate",
         "dtype": "float64",
         "stats": {
          "unique_count": 12,
          "nan_count": 3,
          "min": "-0.6191242504536496",
          "max": "1.0",
          "histogram": [
           {
            "bin_start": -0.6191242504536496,
            "bin_end": -0.45721182540828464,
            "count": 2
           },
           {
            "bin_start": -0.45721182540828464,
            "bin_end": -0.2952994003629197,
            "count": 0
           },
           {
            "bin_start": -0.2952994003629197,
            "bin_end": -0.13338697531755472,
            "count": 0
           },
           {
            "bin_start": -0.13338697531755472,
            "bin_end": 0.028525449727810237,
            "count": 0
           },
           {
            "bin_start": 0.028525449727810237,
            "bin_end": 0.1904378747731752,
            "count": 0
           },
           {
            "bin_start": 0.1904378747731752,
            "bin_end": 0.35235029981854016,
            "count": 0
           },
           {
            "bin_start": 0.35235029981854016,
            "bin_end": 0.5142627248639051,
            "count": 1
           },
           {
            "bin_start": 0.5142627248639051,
            "bin_end": 0.6761751499092701,
            "count": 1
           },
           {
            "bin_start": 0.6761751499092701,
            "bin_end": 0.838087574954635,
            "count": 0
           },
           {
            "bin_start": 0.838087574954635,
            "bin_end": 1,
            "count": 8
           }
          ]
         }
        },
        {
         "name": "unrate_men",
         "dtype": "float64",
         "stats": {
          "unique_count": 12,
          "nan_count": 3,
          "min": "-0.5806149454292373",
          "max": "1.0",
          "histogram": [
           {
            "bin_start": -0.5806149454292373,
            "bin_end": -0.4225534508863136,
            "count": 2
           },
           {
            "bin_start": -0.4225534508863136,
            "bin_end": -0.26449195634338984,
            "count": 0
           },
           {
            "bin_start": -0.26449195634338984,
            "bin_end": -0.10643046180046611,
            "count": 0
           },
           {
            "bin_start": -0.10643046180046611,
            "bin_end": 0.05163103274245762,
            "count": 0
           },
           {
            "bin_start": 0.05163103274245762,
            "bin_end": 0.20969252728538135,
            "count": 0
           },
           {
            "bin_start": 0.20969252728538135,
            "bin_end": 0.3677540218283051,
            "count": 0
           },
           {
            "bin_start": 0.3677540218283051,
            "bin_end": 0.5258155163712288,
            "count": 2
           },
           {
            "bin_start": 0.5258155163712288,
            "bin_end": 0.6838770109141525,
            "count": 1
           },
           {
            "bin_start": 0.6838770109141525,
            "bin_end": 0.8419385054570763,
            "count": 1
           },
           {
            "bin_start": 0.8419385054570763,
            "bin_end": 1,
            "count": 6
           }
          ]
         }
        },
        {
         "name": "unrate_women",
         "dtype": "float64",
         "stats": {
          "unique_count": 12,
          "nan_count": 3,
          "min": "-0.5522251198919581",
          "max": "1.0",
          "histogram": [
           {
            "bin_start": -0.5522251198919581,
            "bin_end": -0.3970026079027623,
            "count": 1
           },
           {
            "bin_start": -0.3970026079027623,
            "bin_end": -0.24178009591356647,
            "count": 1
           },
           {
            "bin_start": -0.24178009591356647,
            "bin_end": -0.08655758392437063,
            "count": 0
           },
           {
            "bin_start": -0.08655758392437063,
            "bin_end": 0.06866492806482516,
            "count": 0
           },
           {
            "bin_start": 0.06866492806482516,
            "bin_end": 0.22388744005402095,
            "count": 0
           },
           {
            "bin_start": 0.22388744005402095,
            "bin_end": 0.37910995204321685,
            "count": 0
           },
           {
            "bin_start": 0.37910995204321685,
            "bin_end": 0.5343324640324125,
            "count": 1
           },
           {
            "bin_start": 0.5343324640324125,
            "bin_end": 0.6895549760216084,
            "count": 2
           },
           {
            "bin_start": 0.6895549760216084,
            "bin_end": 0.8447774880108043,
            "count": 5
           },
           {
            "bin_start": 0.8447774880108043,
            "bin_end": 1,
            "count": 2
           }
          ]
         }
        },
        {
         "name": "unrate_16_to_17",
         "dtype": "float64",
         "stats": {
          "unique_count": 12,
          "nan_count": 3,
          "min": "-0.4840025305352021",
          "max": "1.0",
          "histogram": [
           {
            "bin_start": -0.4840025305352021,
            "bin_end": -0.3356022774816819,
            "count": 1
           },
           {
            "bin_start": -0.3356022774816819,
            "bin_end": -0.1872020244281617,
            "count": 1
           },
           {
            "bin_start": -0.1872020244281617,
            "bin_end": -0.038801771374641525,
            "count": 0
           },
           {
            "bin_start": -0.038801771374641525,
            "bin_end": 0.1095984816788787,
            "count": 0
           },
           {
            "bin_start": 0.1095984816788787,
            "bin_end": 0.2579987347323989,
            "count": 1
           },
           {
            "bin_start": 0.2579987347323989,
            "bin_end": 0.40639898778591904,
            "count": 1
           },
           {
            "bin_start": 0.40639898778591904,
            "bin_end": 0.5547992408394393,
            "count": 6
           },
           {
            "bin_start": 0.5547992408394393,
            "bin_end": 0.7031994938929595,
            "count": 1
           },
           {
            "bin_start": 0.7031994938929595,
            "bin_end": 0.8515997469464798,
            "count": 0
           },
           {
            "bin_start": 0.8515997469464798,
            "bin_end": 1,
            "count": 1
           }
          ]
         }
        },
        {
         "name": "unrate_18_to_19",
         "dtype": "float64",
         "stats": {
          "unique_count": 12,
          "nan_count": 3,
          "min": "-0.3005082897657628",
          "max": "1.0",
          "histogram": [
           {
            "bin_start": -0.3005082897657628,
            "bin_end": -0.17045746078918655,
            "count": 2
           },
           {
            "bin_start": -0.17045746078918655,
            "bin_end": -0.04040663181261028,
            "count": 0
           },
           {
            "bin_start": -0.04040663181261028,
            "bin_end": 0.08964419716396599,
            "count": 0
           },
           {
            "bin_start": 0.08964419716396599,
            "bin_end": 0.21969502614054226,
            "count": 1
           },
           {
            "bin_start": 0.21969502614054226,
            "bin_end": 0.34974585511711853,
            "count": 1
           },
           {
            "bin_start": 0.34974585511711853,
            "bin_end": 0.4797966840936948,
            "count": 4
           },
           {
            "bin_start": 0.4797966840936948,
            "bin_end": 0.6098475130702711,
            "count": 3
           },
           {
            "bin_start": 0.6098475130702711,
            "bin_end": 0.7398983420468473,
            "count": 0
           },
           {
            "bin_start": 0.7398983420468473,
            "bin_end": 0.8699491710234236,
            "count": 0
           },
           {
            "bin_start": 0.8699491710234236,
            "bin_end": 1,
            "count": 1
           }
          ]
         }
        },
        {
         "name": "unrate_20_to_24",
         "dtype": "float64",
         "stats": {
          "unique_count": 12,
          "nan_count": 3,
          "min": "-0.5216185727207159",
          "max": "1.0",
          "histogram": [
           {
            "bin_start": -0.5216185727207159,
            "bin_end": -0.3694567154486443,
            "count": 1
           },
           {
            "bin_start": -0.3694567154486443,
            "bin_end": -0.21729485817657268,
            "count": 1
           },
           {
            "bin_start": -0.21729485817657268,
            "bin_end": -0.06513300090450108,
            "count": 0
           },
           {
            "bin_start": -0.06513300090450108,
            "bin_end": 0.08702885636757052,
            "count": 0
           },
           {
            "bin_start": 0.08702885636757052,
            "bin_end": 0.23919071363964206,
            "count": 0
           },
           {
            "bin_start": 0.23919071363964206,
            "bin_end": 0.3913525709117137,
            "count": 0
           },
           {
            "bin_start": 0.3913525709117137,
            "bin_end": 0.5435144281837854,
            "count": 1
           },
           {
            "bin_start": 0.5435144281837854,
            "bin_end": 0.6956762854558569,
            "count": 3
           },
           {
            "bin_start": 0.6956762854558569,
            "bin_end": 0.8478381427279285,
            "count": 5
           },
           {
            "bin_start": 0.8478381427279285,
            "bin_end": 1,
            "count": 1
           }
          ]
         }
        },
        {
         "name": "unrate_25_to_34",
         "dtype": "float64",
         "stats": {
          "unique_count": 12,
          "nan_count": 3,
          "min": "-0.6436384116343711",
          "max": "1.0",
          "histogram": [
           {
            "bin_start": -0.6436384116343711,
            "bin_end": -0.47927457047093397,
            "count": 1
           },
           {
            "bin_start": -0.47927457047093397,
            "bin_end": -0.31491072930749686,
            "count": 1
           },
           {
            "bin_start": -0.31491072930749686,
            "bin_end": -0.15054688814405975,
            "count": 0
           },
           {
            "bin_start": -0.15054688814405975,
            "bin_end": 0.013816953019377354,
            "count": 0
           },
           {
            "bin_start": 0.013816953019377354,
            "bin_end": 0.17818079418281452,
            "count": 0
           },
           {
            "bin_start": 0.17818079418281452,
            "bin_end": 0.34254463534625157,
            "count": 0
           },
           {
            "bin_start": 0.34254463534625157,
            "bin_end": 0.5069084765096886,
            "count": 2
           },
           {
            "bin_start": 0.5069084765096886,
            "bin_end": 0.6712723176731258,
            "count": 1
           },
           {
            "bin_start": 0.6712723176731258,
            "bin_end": 0.835636158836563,
            "count": 3
           },
           {
            "bin_start": 0.835636158836563,
            "bin_end": 1,
            "count": 4
           }
          ]
         }
        },
        {
         "name": "unrate_35_to_44",
         "dtype": "float64",
         "stats": {
          "unique_count": 12,
          "nan_count": 3,
          "min": "-0.6479578409800528",
          "max": "1.0",
          "histogram": [
           {
            "bin_start": -0.6479578409800528,
            "bin_end": -0.48316205688204755,
            "count": 1
           },
           {
            "bin_start": -0.48316205688204755,
            "bin_end": -0.3183662727840423,
            "count": 1
           },
           {
            "bin_start": -0.3183662727840423,
            "bin_end": -0.153570488686037,
            "count": 0
           },
           {
            "bin_start": -0.153570488686037,
            "bin_end": 0.011225295411968261,
            "count": 0
           },
           {
            "bin_start": 0.011225295411968261,
            "bin_end": 0.17602107950997348,
            "count": 0
           },
           {
            "bin_start": 0.17602107950997348,
            "bin_end": 0.3408168636079788,
            "count": 1
           },
           {
            "bin_start": 0.3408168636079788,
            "bin_end": 0.5056126477059841,
            "count": 1
           },
           {
            "bin_start": 0.5056126477059841,
            "bin_end": 0.6704084318039893,
            "count": 0
           },
           {
            "bin_start": 0.6704084318039893,
            "bin_end": 0.8352042159019946,
            "count": 3
           },
           {
            "bin_start": 0.8352042159019946,
            "bin_end": 1,
            "count": 5
           }
          ]
         }
        },
        {
         "name": "unrate_45_to_54",
         "dtype": "float64",
         "stats": {
          "unique_count": 12,
          "nan_count": 3,
          "min": "-0.5243951500544572",
          "max": "1.0",
          "histogram": [
           {
            "bin_start": -0.5243951500544572,
            "bin_end": -0.3719556350490115,
            "count": 2
           },
           {
            "bin_start": -0.3719556350490115,
            "bin_end": -0.2195161200435658,
            "count": 0
           },
           {
            "bin_start": -0.2195161200435658,
            "bin_end": -0.06707660503812007,
            "count": 0
           },
           {
            "bin_start": -0.06707660503812007,
            "bin_end": 0.08536290996732565,
            "count": 0
           },
           {
            "bin_start": 0.08536290996732565,
            "bin_end": 0.23780242497277138,
            "count": 0
           },
           {
            "bin_start": 0.23780242497277138,
            "bin_end": 0.3902419399782171,
            "count": 1
           },
           {
            "bin_start": 0.3902419399782171,
            "bin_end": 0.5426814549836629,
            "count": 1
           },
           {
            "bin_start": 0.5426814549836629,
            "bin_end": 0.6951209699891086,
            "count": 0
           },
           {
            "bin_start": 0.6951209699891086,
            "bin_end": 0.8475604849945542,
            "count": 6
           },
           {
            "bin_start": 0.8475604849945542,
            "bin_end": 1,
            "count": 2
           }
          ]
         }
        },
        {
         "name": "unrate_55_over",
         "dtype": "float64",
         "stats": {
          "unique_count": 12,
          "nan_count": 3,
          "min": "-0.6127816906107433",
          "max": "1.0",
          "histogram": [
           {
            "bin_start": -0.6127816906107433,
            "bin_end": -0.45150352154966894,
            "count": 1
           },
           {
            "bin_start": -0.45150352154966894,
            "bin_end": -0.2902253524885946,
            "count": 1
           },
           {
            "bin_start": -0.2902253524885946,
            "bin_end": -0.12894718342752026,
            "count": 0
           },
           {
            "bin_start": -0.12894718342752026,
            "bin_end": 0.03233098563355408,
            "count": 0
           },
           {
            "bin_start": 0.03233098563355408,
            "bin_end": 0.19360915469462836,
            "count": 0
           },
           {
            "bin_start": 0.19360915469462836,
            "bin_end": 0.35488732375570275,
            "count": 0
           },
           {
            "bin_start": 0.35488732375570275,
            "bin_end": 0.5161654928167771,
            "count": 2
           },
           {
            "bin_start": 0.5161654928167771,
            "bin_end": 0.6774436618778514,
            "count": 0
           },
           {
            "bin_start": 0.6774436618778514,
            "bin_end": 0.8387218309389257,
            "count": 4
           },
           {
            "bin_start": 0.8387218309389257,
            "bin_end": 1,
            "count": 4
           }
          ]
         }
        },
        {
         "name": "year",
         "dtype": "float64",
         "stats": {
          "unique_count": 12,
          "nan_count": 3,
          "min": "-0.6479578409800528",
          "max": "1.0",
          "histogram": [
           {
            "bin_start": -0.6479578409800528,
            "bin_end": -0.48316205688204755,
            "count": 6
           },
           {
            "bin_start": -0.48316205688204755,
            "bin_end": -0.3183662727840423,
            "count": 2
           },
           {
            "bin_start": -0.3183662727840423,
            "bin_end": -0.153570488686037,
            "count": 2
           },
           {
            "bin_start": -0.153570488686037,
            "bin_end": 0.011225295411968261,
            "count": 1
           },
           {
            "bin_start": 0.011225295411968261,
            "bin_end": 0.17602107950997348,
            "count": 0
           },
           {
            "bin_start": 0.17602107950997348,
            "bin_end": 0.3408168636079788,
            "count": 0
           },
           {
            "bin_start": 0.3408168636079788,
            "bin_end": 0.5056126477059841,
            "count": 0
           },
           {
            "bin_start": 0.5056126477059841,
            "bin_end": 0.6704084318039893,
            "count": 0
           },
           {
            "bin_start": 0.6704084318039893,
            "bin_end": 0.8352042159019946,
            "count": 0
           },
           {
            "bin_start": 0.8352042159019946,
            "bin_end": 1,
            "count": 1
           }
          ]
         }
        },
        {
         "name": "month",
         "dtype": "float64",
         "stats": {
          "unique_count": 12,
          "nan_count": 3,
          "min": "-0.5806149454292373",
          "max": "1.0",
          "histogram": [
           {
            "bin_start": -0.5806149454292373,
            "bin_end": -0.4225534508863136,
            "count": 7
           },
           {
            "bin_start": -0.4225534508863136,
            "bin_end": -0.26449195634338984,
            "count": 3
           },
           {
            "bin_start": -0.26449195634338984,
            "bin_end": -0.10643046180046611,
            "count": 0
           },
           {
            "bin_start": -0.10643046180046611,
            "bin_end": 0.05163103274245762,
            "count": 1
           },
           {
            "bin_start": 0.05163103274245762,
            "bin_end": 0.20969252728538135,
            "count": 0
           },
           {
            "bin_start": 0.20969252728538135,
            "bin_end": 0.3677540218283051,
            "count": 0
           },
           {
            "bin_start": 0.3677540218283051,
            "bin_end": 0.5258155163712288,
            "count": 0
           },
           {
            "bin_start": 0.5258155163712288,
            "bin_end": 0.6838770109141525,
            "count": 0
           },
           {
            "bin_start": 0.6838770109141525,
            "bin_end": 0.8419385054570763,
            "count": 0
           },
           {
            "bin_start": 0.8419385054570763,
            "bin_end": 1,
            "count": 1
           }
          ]
         }
        },
        {
         "name": "cases",
         "dtype": "float64",
         "stats": {
          "unique_count": 0,
          "nan_count": 15,
          "min": null,
          "max": null,
          "histogram": [
           {
            "bin_start": 0,
            "bin_end": 0.1,
            "count": 0
           },
           {
            "bin_start": 0.1,
            "bin_end": 0.2,
            "count": 0
           },
           {
            "bin_start": 0.2,
            "bin_end": 0.30000000000000004,
            "count": 0
           },
           {
            "bin_start": 0.30000000000000004,
            "bin_end": 0.4,
            "count": 0
           },
           {
            "bin_start": 0.4,
            "bin_end": 0.5,
            "count": 0
           },
           {
            "bin_start": 0.5,
            "bin_end": 0.6000000000000001,
            "count": 0
           },
           {
            "bin_start": 0.6000000000000001,
            "bin_end": 0.7000000000000001,
            "count": 0
           },
           {
            "bin_start": 0.7000000000000001,
            "bin_end": 0.8,
            "count": 0
           },
           {
            "bin_start": 0.8,
            "bin_end": 0.9,
            "count": 0
           },
           {
            "bin_start": 0.9,
            "bin_end": 1,
            "count": 0
           }
          ]
         }
        },
        {
         "name": "deaths",
         "dtype": "float64",
         "stats": {
          "unique_count": 0,
          "nan_count": 15,
          "min": null,
          "max": null,
          "histogram": [
           {
            "bin_start": 0,
            "bin_end": 0.1,
            "count": 0
           },
           {
            "bin_start": 0.1,
            "bin_end": 0.2,
            "count": 0
           },
           {
            "bin_start": 0.2,
            "bin_end": 0.30000000000000004,
            "count": 0
           },
           {
            "bin_start": 0.30000000000000004,
            "bin_end": 0.4,
            "count": 0
           },
           {
            "bin_start": 0.4,
            "bin_end": 0.5,
            "count": 0
           },
           {
            "bin_start": 0.5,
            "bin_end": 0.6000000000000001,
            "count": 0
           },
           {
            "bin_start": 0.6000000000000001,
            "bin_end": 0.7000000000000001,
            "count": 0
           },
           {
            "bin_start": 0.7000000000000001,
            "bin_end": 0.8,
            "count": 0
           },
           {
            "bin_start": 0.8,
            "bin_end": 0.9,
            "count": 0
           },
           {
            "bin_start": 0.9,
            "bin_end": 1,
            "count": 0
           }
          ]
         }
        },
        {
         "name": "is_covid_period",
         "dtype": "float64",
         "stats": {
          "unique_count": 0,
          "nan_count": 15,
          "min": null,
          "max": null,
          "histogram": [
           {
            "bin_start": 0,
            "bin_end": 0.1,
            "count": 0
           },
           {
            "bin_start": 0.1,
            "bin_end": 0.2,
            "count": 0
           },
           {
            "bin_start": 0.2,
            "bin_end": 0.30000000000000004,
            "count": 0
           },
           {
            "bin_start": 0.30000000000000004,
            "bin_end": 0.4,
            "count": 0
           },
           {
            "bin_start": 0.4,
            "bin_end": 0.5,
            "count": 0
           },
           {
            "bin_start": 0.5,
            "bin_end": 0.6000000000000001,
            "count": 0
           },
           {
            "bin_start": 0.6000000000000001,
            "bin_end": 0.7000000000000001,
            "count": 0
           },
           {
            "bin_start": 0.7000000000000001,
            "bin_end": 0.8,
            "count": 0
           },
           {
            "bin_start": 0.8,
            "bin_end": 0.9,
            "count": 0
           },
           {
            "bin_start": 0.9,
            "bin_end": 1,
            "count": 0
           }
          ]
         }
        },
        {
         "name": "_deepnote_index_column",
         "dtype": "object"
        }
       ],
       "rows": [
        {
         "unrate": 1,
         "unrate_men": 0.9228267780158943,
         "unrate_women": 0.8725020159371267,
         "unrate_16_to_17": 0.5681184217248901,
         "unrate_18_to_19": 0.49139607761977133,
         "unrate_20_to_24": 0.8382570789759284,
         "unrate_25_to_34": 0.9006201018675702,
         "unrate_35_to_44": 0.9115689485050507,
         "unrate_45_to_54": 0.9185243271256032,
         "unrate_55_over": 0.9263982555002309,
         "year": -0.6191242504536496,
         "month": -0.5126702663980821,
         "cases": "nan",
         "deaths": "nan",
         "is_covid_period": "nan",
         "_deepnote_index_column": "unrate"
        },
        {
         "unrate": 0.9228267780158943,
         "unrate_men": 1,
         "unrate_women": 0.629195276996572,
         "unrate_16_to_17": 0.5123107619553671,
         "unrate_18_to_19": 0.38160671441199456,
         "unrate_20_to_24": 0.7856224482509577,
         "unrate_25_to_34": 0.8966744249175097,
         "unrate_35_to_44": 0.910955563331741,
         "unrate_45_to_54": 0.845950619142458,
         "unrate_55_over": 0.8730562441300779,
         "year": -0.5462558240757065,
         "month": -0.5806149454292373,
         "cases": "nan",
         "deaths": "nan",
         "is_covid_period": "nan",
         "_deepnote_index_column": "unrate_men"
        },
        {
         "unrate": 0.8725020159371267,
         "unrate_men": 0.629195276996572,
         "unrate_women": 1,
         "unrate_16_to_17": 0.48336838802826476,
         "unrate_18_to_19": 0.5549747457203549,
         "unrate_20_to_24": 0.7135922104611357,
         "unrate_25_to_34": 0.7223938440558403,
         "unrate_35_to_44": 0.708231351551766,
         "unrate_45_to_54": 0.8170159046960264,
         "unrate_55_over": 0.7934201815838658,
         "year": -0.5522251198919581,
         "month": -0.3215898425103512,
         "cases": "nan",
         "deaths": "nan",
         "is_covid_period": "nan",
         "_deepnote_index_column": "unrate_women"
        },
        {
         "unrate": 0.5681184217248901,
         "unrate_men": 0.5123107619553671,
         "unrate_women": 0.48336838802826476,
         "unrate_16_to_17": 1,
         "unrate_18_to_19": 0.16594899695095758,
         "unrate_20_to_24": 0.46080278494551036,
         "unrate_25_to_34": 0.39705063267101587,
         "unrate_35_to_44": 0.42107338917190307,
         "unrate_45_to_54": 0.4591374344855506,
         "unrate_55_over": 0.4814743816798659,
         "year": -0.2622591776394184,
         "month": -0.4840025305352021,
         "cases": "nan",
         "deaths": "nan",
         "is_covid_period": "nan",
         "_deepnote_index_column": "unrate_16_to_17"
        },
        {
         "unrate": 0.49139607761977133,
         "unrate_men": 0.38160671441199456,
         "unrate_women": 0.5549747457203549,
         "unrate_16_to_17": 0.16594899695095758,
         "unrate_18_to_19": 1,
         "unrate_20_to_24": 0.5775859185193445,
         "unrate_25_to_34": 0.40710740858389977,
         "unrate_35_to_44": 0.3079799569583699,
         "unrate_45_to_54": 0.3631333128384005,
         "unrate_55_over": 0.3935251132039431,
         "year": -0.28880587909273847,
         "month": -0.3005082897657628,
         "cases": "nan",
         "deaths": "nan",
         "is_covid_period": "nan",
         "_deepnote_index_column": "unrate_18_to_19"
        },
        {
         "unrate": 0.8382570789759284,
         "unrate_men": 0.7856224482509577,
         "unrate_women": 0.7135922104611357,
         "unrate_16_to_17": 0.46080278494551036,
         "unrate_18_to_19": 0.5775859185193445,
         "unrate_20_to_24": 1,
         "unrate_25_to_34": 0.6375368352242998,
         "unrate_35_to_44": 0.6911308458588729,
         "unrate_45_to_54": 0.7348755990876954,
         "unrate_55_over": 0.7390982317872911,
         "year": -0.35465703838205737,
         "month": -0.5216185727207159,
         "cases": "nan",
         "deaths": "nan",
         "is_covid_period": "nan",
         "_deepnote_index_column": "unrate_20_to_24"
        },
        {
         "unrate": 0.9006201018675702,
         "unrate_men": 0.8966744249175097,
         "unrate_women": 0.7223938440558403,
         "unrate_16_to_17": 0.39705063267101587,
         "unrate_18_to_19": 0.40710740858389977,
         "unrate_20_to_24": 0.6375368352242998,
         "unrate_25_to_34": 1,
         "unrate_35_to_44": 0.8557200129429079,
         "unrate_45_to_54": 0.8222274637362917,
         "unrate_55_over": 0.8333181410871815,
         "year": -0.6436384116343711,
         "month": -0.45160752343930943,
         "cases": "nan",
         "deaths": "nan",
         "is_covid_period": "nan",
         "_deepnote_index_column": "unrate_25_to_34"
        },
        {
         "unrate": 0.9115689485050507,
         "unrate_men": 0.910955563331741,
         "unrate_women": 0.708231351551766,
         "unrate_16_to_17": 0.42107338917190307,
         "unrate_18_to_19": 0.3079799569583699,
         "unrate_20_to_24": 0.6911308458588729,
         "unrate_25_to_34": 0.8557200129429079,
         "unrate_35_to_44": 1,
         "unrate_45_to_54": 0.8303773112897077,
         "unrate_55_over": 0.8770033463764707,
         "year": -0.6479578409800528,
         "month": -0.42322151152410675,
         "cases": "nan",
         "deaths": "nan",
         "is_covid_period": "nan",
         "_deepnote_index_column": "unrate_35_to_44"
        },
        {
         "unrate": 0.9185243271256032,
         "unrate_men": 0.845950619142458,
         "unrate_women": 0.8170159046960264,
         "unrate_16_to_17": 0.4591374344855506,
         "unrate_18_to_19": 0.3631333128384005,
         "unrate_20_to_24": 0.7348755990876954,
         "unrate_25_to_34": 0.8222274637362917,
         "unrate_35_to_44": 0.8303773112897077,
         "unrate_45_to_54": 1,
         "unrate_55_over": 0.8065126293527507,
         "year": -0.4741942872116459,
         "month": -0.5243951500544572,
         "cases": "nan",
         "deaths": "nan",
         "is_covid_period": "nan",
         "_deepnote_index_column": "unrate_45_to_54"
        },
        {
         "unrate": 0.9263982555002309,
         "unrate_men": 0.8730562441300779,
         "unrate_women": 0.7934201815838658,
         "unrate_16_to_17": 0.4814743816798659,
         "unrate_18_to_19": 0.3935251132039431,
         "unrate_20_to_24": 0.7390982317872911,
         "unrate_25_to_34": 0.8333181410871815,
         "unrate_35_to_44": 0.8770033463764707,
         "unrate_45_to_54": 0.8065126293527507,
         "unrate_55_over": 1,
         "year": -0.6127816906107433,
         "month": -0.4189215316795411,
         "cases": "nan",
         "deaths": "nan",
         "is_covid_period": "nan",
         "_deepnote_index_column": "unrate_55_over"
        }
       ]
      },
      "text/plain": "                   unrate  unrate_men  unrate_women  unrate_16_to_17  \\\nunrate           1.000000    0.922827      0.872502         0.568118   \nunrate_men       0.922827    1.000000      0.629195         0.512311   \nunrate_women     0.872502    0.629195      1.000000         0.483368   \nunrate_16_to_17  0.568118    0.512311      0.483368         1.000000   \nunrate_18_to_19  0.491396    0.381607      0.554975         0.165949   \nunrate_20_to_24  0.838257    0.785622      0.713592         0.460803   \nunrate_25_to_34  0.900620    0.896674      0.722394         0.397051   \nunrate_35_to_44  0.911569    0.910956      0.708231         0.421073   \nunrate_45_to_54  0.918524    0.845951      0.817016         0.459137   \nunrate_55_over   0.926398    0.873056      0.793420         0.481474   \nyear            -0.619124   -0.546256     -0.552225        -0.262259   \nmonth           -0.512670   -0.580615     -0.321590        -0.484003   \ncases                 NaN         NaN           NaN              NaN   \ndeaths                NaN         NaN           NaN              NaN   \nis_covid_period       NaN         NaN           NaN              NaN   \n\n                 unrate_18_to_19  unrate_20_to_24  unrate_25_to_34  \\\nunrate                  0.491396         0.838257         0.900620   \nunrate_men              0.381607         0.785622         0.896674   \nunrate_women            0.554975         0.713592         0.722394   \nunrate_16_to_17         0.165949         0.460803         0.397051   \nunrate_18_to_19         1.000000         0.577586         0.407107   \nunrate_20_to_24         0.577586         1.000000         0.637537   \nunrate_25_to_34         0.407107         0.637537         1.000000   \nunrate_35_to_44         0.307980         0.691131         0.855720   \nunrate_45_to_54         0.363133         0.734876         0.822227   \nunrate_55_over          0.393525         0.739098         0.833318   \nyear                   -0.288806        -0.354657        -0.643638   \nmonth                  -0.300508        -0.521619        -0.451608   \ncases                        NaN              NaN              NaN   \ndeaths                       NaN              NaN              NaN   \nis_covid_period              NaN              NaN              NaN   \n\n                 unrate_35_to_44  unrate_45_to_54  unrate_55_over      year  \\\nunrate                  0.911569         0.918524        0.926398 -0.619124   \nunrate_men              0.910956         0.845951        0.873056 -0.546256   \nunrate_women            0.708231         0.817016        0.793420 -0.552225   \nunrate_16_to_17         0.421073         0.459137        0.481474 -0.262259   \nunrate_18_to_19         0.307980         0.363133        0.393525 -0.288806   \nunrate_20_to_24         0.691131         0.734876        0.739098 -0.354657   \nunrate_25_to_34         0.855720         0.822227        0.833318 -0.643638   \nunrate_35_to_44         1.000000         0.830377        0.877003 -0.647958   \nunrate_45_to_54         0.830377         1.000000        0.806513 -0.474194   \nunrate_55_over          0.877003         0.806513        1.000000 -0.612782   \nyear                   -0.647958        -0.474194       -0.612782  1.000000   \nmonth                  -0.423222        -0.524395       -0.418922 -0.094649   \ncases                        NaN              NaN             NaN       NaN   \ndeaths                       NaN              NaN             NaN       NaN   \nis_covid_period              NaN              NaN             NaN       NaN   \n\n                    month  cases  deaths  is_covid_period  \nunrate          -0.512670    NaN     NaN              NaN  \nunrate_men      -0.580615    NaN     NaN              NaN  \nunrate_women    -0.321590    NaN     NaN              NaN  \nunrate_16_to_17 -0.484003    NaN     NaN              NaN  \nunrate_18_to_19 -0.300508    NaN     NaN              NaN  \nunrate_20_to_24 -0.521619    NaN     NaN              NaN  \nunrate_25_to_34 -0.451608    NaN     NaN              NaN  \nunrate_35_to_44 -0.423222    NaN     NaN              NaN  \nunrate_45_to_54 -0.524395    NaN     NaN              NaN  \nunrate_55_over  -0.418922    NaN     NaN              NaN  \nyear            -0.094649    NaN     NaN              NaN  \nmonth            1.000000    NaN     NaN              NaN  \ncases                 NaN    NaN     NaN              NaN  \ndeaths                NaN    NaN     NaN              NaN  \nis_covid_period       NaN    NaN     NaN              NaN  ",
      "text/html": "<div>\n<style scoped>\n    .dataframe tbody tr th:only-of-type {\n        vertical-align: middle;\n    }\n\n    .dataframe tbody tr th {\n        vertical-align: top;\n    }\n\n    .dataframe thead th {\n        text-align: right;\n    }\n</style>\n<table border=\"1\" class=\"dataframe\">\n  <thead>\n    <tr style=\"text-align: right;\">\n      <th></th>\n      <th>unrate</th>\n      <th>unrate_men</th>\n      <th>unrate_women</th>\n      <th>unrate_16_to_17</th>\n      <th>unrate_18_to_19</th>\n      <th>unrate_20_to_24</th>\n      <th>unrate_25_to_34</th>\n      <th>unrate_35_to_44</th>\n      <th>unrate_45_to_54</th>\n      <th>unrate_55_over</th>\n      <th>year</th>\n      <th>month</th>\n      <th>cases</th>\n      <th>deaths</th>\n      <th>is_covid_period</th>\n    </tr>\n  </thead>\n  <tbody>\n    <tr>\n      <th>unrate</th>\n      <td>1.000000</td>\n      <td>0.922827</td>\n      <td>0.872502</td>\n      <td>0.568118</td>\n      <td>0.491396</td>\n      <td>0.838257</td>\n      <td>0.900620</td>\n      <td>0.911569</td>\n      <td>0.918524</td>\n      <td>0.926398</td>\n      <td>-0.619124</td>\n      <td>-0.512670</td>\n      <td>NaN</td>\n      <td>NaN</td>\n      <td>NaN</td>\n    </tr>\n    <tr>\n      <th>unrate_men</th>\n      <td>0.922827</td>\n      <td>1.000000</td>\n      <td>0.629195</td>\n      <td>0.512311</td>\n      <td>0.381607</td>\n      <td>0.785622</td>\n      <td>0.896674</td>\n      <td>0.910956</td>\n      <td>0.845951</td>\n      <td>0.873056</td>\n      <td>-0.546256</td>\n      <td>-0.580615</td>\n      <td>NaN</td>\n      <td>NaN</td>\n      <td>NaN</td>\n    </tr>\n    <tr>\n      <th>unrate_women</th>\n      <td>0.872502</td>\n      <td>0.629195</td>\n      <td>1.000000</td>\n      <td>0.483368</td>\n      <td>0.554975</td>\n      <td>0.713592</td>\n      <td>0.722394</td>\n      <td>0.708231</td>\n      <td>0.817016</td>\n      <td>0.793420</td>\n      <td>-0.552225</td>\n      <td>-0.321590</td>\n      <td>NaN</td>\n      <td>NaN</td>\n      <td>NaN</td>\n    </tr>\n    <tr>\n      <th>unrate_16_to_17</th>\n      <td>0.568118</td>\n      <td>0.512311</td>\n      <td>0.483368</td>\n      <td>1.000000</td>\n      <td>0.165949</td>\n      <td>0.460803</td>\n      <td>0.397051</td>\n      <td>0.421073</td>\n      <td>0.459137</td>\n      <td>0.481474</td>\n      <td>-0.262259</td>\n      <td>-0.484003</td>\n      <td>NaN</td>\n      <td>NaN</td>\n      <td>NaN</td>\n    </tr>\n    <tr>\n      <th>unrate_18_to_19</th>\n      <td>0.491396</td>\n      <td>0.381607</td>\n      <td>0.554975</td>\n      <td>0.165949</td>\n      <td>1.000000</td>\n      <td>0.577586</td>\n      <td>0.407107</td>\n      <td>0.307980</td>\n      <td>0.363133</td>\n      <td>0.393525</td>\n      <td>-0.288806</td>\n      <td>-0.300508</td>\n      <td>NaN</td>\n      <td>NaN</td>\n      <td>NaN</td>\n    </tr>\n    <tr>\n      <th>unrate_20_to_24</th>\n      <td>0.838257</td>\n      <td>0.785622</td>\n      <td>0.713592</td>\n      <td>0.460803</td>\n      <td>0.577586</td>\n      <td>1.000000</td>\n      <td>0.637537</td>\n      <td>0.691131</td>\n      <td>0.734876</td>\n      <td>0.739098</td>\n      <td>-0.354657</td>\n      <td>-0.521619</td>\n      <td>NaN</td>\n      <td>NaN</td>\n      <td>NaN</td>\n    </tr>\n    <tr>\n      <th>unrate_25_to_34</th>\n      <td>0.900620</td>\n      <td>0.896674</td>\n      <td>0.722394</td>\n      <td>0.397051</td>\n      <td>0.407107</td>\n      <td>0.637537</td>\n      <td>1.000000</td>\n      <td>0.855720</td>\n      <td>0.822227</td>\n      <td>0.833318</td>\n      <td>-0.643638</td>\n      <td>-0.451608</td>\n      <td>NaN</td>\n      <td>NaN</td>\n      <td>NaN</td>\n    </tr>\n    <tr>\n      <th>unrate_35_to_44</th>\n      <td>0.911569</td>\n      <td>0.910956</td>\n      <td>0.708231</td>\n      <td>0.421073</td>\n      <td>0.307980</td>\n      <td>0.691131</td>\n      <td>0.855720</td>\n      <td>1.000000</td>\n      <td>0.830377</td>\n      <td>0.877003</td>\n      <td>-0.647958</td>\n      <td>-0.423222</td>\n      <td>NaN</td>\n      <td>NaN</td>\n      <td>NaN</td>\n    </tr>\n    <tr>\n      <th>unrate_45_to_54</th>\n      <td>0.918524</td>\n      <td>0.845951</td>\n      <td>0.817016</td>\n      <td>0.459137</td>\n      <td>0.363133</td>\n      <td>0.734876</td>\n      <td>0.822227</td>\n      <td>0.830377</td>\n      <td>1.000000</td>\n      <td>0.806513</td>\n      <td>-0.474194</td>\n      <td>-0.524395</td>\n      <td>NaN</td>\n      <td>NaN</td>\n      <td>NaN</td>\n    </tr>\n    <tr>\n      <th>unrate_55_over</th>\n      <td>0.926398</td>\n      <td>0.873056</td>\n      <td>0.793420</td>\n      <td>0.481474</td>\n      <td>0.393525</td>\n      <td>0.739098</td>\n      <td>0.833318</td>\n      <td>0.877003</td>\n      <td>0.806513</td>\n      <td>1.000000</td>\n      <td>-0.612782</td>\n      <td>-0.418922</td>\n      <td>NaN</td>\n      <td>NaN</td>\n      <td>NaN</td>\n    </tr>\n    <tr>\n      <th>year</th>\n      <td>-0.619124</td>\n      <td>-0.546256</td>\n      <td>-0.552225</td>\n      <td>-0.262259</td>\n      <td>-0.288806</td>\n      <td>-0.354657</td>\n      <td>-0.643638</td>\n      <td>-0.647958</td>\n      <td>-0.474194</td>\n      <td>-0.612782</td>\n      <td>1.000000</td>\n      <td>-0.094649</td>\n      <td>NaN</td>\n      <td>NaN</td>\n      <td>NaN</td>\n    </tr>\n    <tr>\n      <th>month</th>\n      <td>-0.512670</td>\n      <td>-0.580615</td>\n      <td>-0.321590</td>\n      <td>-0.484003</td>\n      <td>-0.300508</td>\n      <td>-0.521619</td>\n      <td>-0.451608</td>\n      <td>-0.423222</td>\n      <td>-0.524395</td>\n      <td>-0.418922</td>\n      <td>-0.094649</td>\n      <td>1.000000</td>\n      <td>NaN</td>\n      <td>NaN</td>\n      <td>NaN</td>\n    </tr>\n    <tr>\n      <th>cases</th>\n      <td>NaN</td>\n      <td>NaN</td>\n      <td>NaN</td>\n      <td>NaN</td>\n      <td>NaN</td>\n      <td>NaN</td>\n      <td>NaN</td>\n      <td>NaN</td>\n      <td>NaN</td>\n      <td>NaN</td>\n      <td>NaN</td>\n      <td>NaN</td>\n      <td>NaN</td>\n      <td>NaN</td>\n      <td>NaN</td>\n    </tr>\n    <tr>\n      <th>deaths</th>\n      <td>NaN</td>\n      <td>NaN</td>\n      <td>NaN</td>\n      <td>NaN</td>\n      <td>NaN</td>\n      <td>NaN</td>\n      <td>NaN</td>\n      <td>NaN</td>\n      <td>NaN</td>\n      <td>NaN</td>\n      <td>NaN</td>\n      <td>NaN</td>\n      <td>NaN</td>\n      <td>NaN</td>\n      <td>NaN</td>\n    </tr>\n    <tr>\n      <th>is_covid_period</th>\n      <td>NaN</td>\n      <td>NaN</td>\n      <td>NaN</td>\n      <td>NaN</td>\n      <td>NaN</td>\n      <td>NaN</td>\n      <td>NaN</td>\n      <td>NaN</td>\n      <td>NaN</td>\n      <td>NaN</td>\n      <td>NaN</td>\n      <td>NaN</td>\n      <td>NaN</td>\n      <td>NaN</td>\n      <td>NaN</td>\n    </tr>\n  </tbody>\n</table>\n</div>"
     },
     "metadata": {}
    }
   ]
  },
  {
   "cell_type": "code",
   "metadata": {
    "cell_id": "958a44cae65546d7a929cd333201bc77",
    "tags": [],
    "deepnote_to_be_reexecuted": false,
    "source_hash": "32ccfe55",
    "execution_start": 1654814578903,
    "execution_millis": 103,
    "deepnote_cell_type": "code",
    "deepnote_cell_height": 618
   },
   "source": "# non COVID-19 periods\ndf[mask].corr()",
   "execution_count": null,
   "outputs": [
    {
     "output_type": "execute_result",
     "execution_count": 12,
     "data": {
      "application/vnd.deepnote.dataframe.v3+json": {
       "column_count": 15,
       "row_count": 15,
       "columns": [
        {
         "name": "unrate",
         "dtype": "float64",
         "stats": {
          "unique_count": 14,
          "nan_count": 1,
          "min": "-0.4569487288340299",
          "max": "1.0",
          "histogram": [
           {
            "bin_start": -0.4569487288340299,
            "bin_end": -0.31125385595062693,
            "count": 1
           },
           {
            "bin_start": -0.31125385595062693,
            "bin_end": -0.16555898306722394,
            "count": 1
           },
           {
            "bin_start": -0.16555898306722394,
            "bin_end": -0.01986411018382095,
            "count": 1
           },
           {
            "bin_start": -0.01986411018382095,
            "bin_end": 0.12583076269958204,
            "count": 1
           },
           {
            "bin_start": 0.12583076269958204,
            "bin_end": 0.27152563558298504,
            "count": 0
           },
           {
            "bin_start": 0.27152563558298504,
            "bin_end": 0.41722050846638803,
            "count": 0
           },
           {
            "bin_start": 0.41722050846638803,
            "bin_end": 0.5629153813497909,
            "count": 0
           },
           {
            "bin_start": 0.5629153813497909,
            "bin_end": 0.708610254233194,
            "count": 0
           },
           {
            "bin_start": 0.708610254233194,
            "bin_end": 0.8543051271165971,
            "count": 0
           },
           {
            "bin_start": 0.8543051271165971,
            "bin_end": 1,
            "count": 10
           }
          ]
         }
        },
        {
         "name": "unrate_men",
         "dtype": "float64",
         "stats": {
          "unique_count": 14,
          "nan_count": 1,
          "min": "-0.4496414966654221",
          "max": "1.0",
          "histogram": [
           {
            "bin_start": -0.4496414966654221,
            "bin_end": -0.3046773469988799,
            "count": 1
           },
           {
            "bin_start": -0.3046773469988799,
            "bin_end": -0.1597131973323377,
            "count": 1
           },
           {
            "bin_start": -0.1597131973323377,
            "bin_end": -0.01474904766579549,
            "count": 1
           },
           {
            "bin_start": -0.01474904766579549,
            "bin_end": 0.1302151020007467,
            "count": 1
           },
           {
            "bin_start": 0.1302151020007467,
            "bin_end": 0.27517925166728885,
            "count": 0
           },
           {
            "bin_start": 0.27517925166728885,
            "bin_end": 0.4201434013338311,
            "count": 0
           },
           {
            "bin_start": 0.4201434013338311,
            "bin_end": 0.5651075510003734,
            "count": 0
           },
           {
            "bin_start": 0.5651075510003734,
            "bin_end": 0.7100717006669155,
            "count": 0
           },
           {
            "bin_start": 0.7100717006669155,
            "bin_end": 0.8550358503334576,
            "count": 0
           },
           {
            "bin_start": 0.8550358503334576,
            "bin_end": 1,
            "count": 10
           }
          ]
         }
        },
        {
         "name": "unrate_women",
         "dtype": "float64",
         "stats": {
          "unique_count": 14,
          "nan_count": 1,
          "min": "-0.45801008740525545",
          "max": "1.0",
          "histogram": [
           {
            "bin_start": -0.45801008740525545,
            "bin_end": -0.3122090786647299,
            "count": 1
           },
           {
            "bin_start": -0.3122090786647299,
            "bin_end": -0.16640806992420437,
            "count": 1
           },
           {
            "bin_start": -0.16640806992420437,
            "bin_end": -0.020607061183678832,
            "count": 1
           },
           {
            "bin_start": -0.020607061183678832,
            "bin_end": 0.1251939475568467,
            "count": 1
           },
           {
            "bin_start": 0.1251939475568467,
            "bin_end": 0.2709949562973722,
            "count": 0
           },
           {
            "bin_start": 0.2709949562973722,
            "bin_end": 0.4167959650378978,
            "count": 0
           },
           {
            "bin_start": 0.4167959650378978,
            "bin_end": 0.5625969737784233,
            "count": 0
           },
           {
            "bin_start": 0.5625969737784233,
            "bin_end": 0.7083979825189488,
            "count": 0
           },
           {
            "bin_start": 0.7083979825189488,
            "bin_end": 0.8541989912594743,
            "count": 0
           },
           {
            "bin_start": 0.8541989912594743,
            "bin_end": 1,
            "count": 10
           }
          ]
         }
        },
        {
         "name": "unrate_16_to_17",
         "dtype": "float64",
         "stats": {
          "unique_count": 14,
          "nan_count": 1,
          "min": "-0.4741527877432566",
          "max": "1.0",
          "histogram": [
           {
            "bin_start": -0.4741527877432566,
            "bin_end": -0.32673750896893095,
            "count": 1
           },
           {
            "bin_start": -0.32673750896893095,
            "bin_end": -0.1793222301946053,
            "count": 2
           },
           {
            "bin_start": -0.1793222301946053,
            "bin_end": -0.03190695142027966,
            "count": 1
           },
           {
            "bin_start": -0.03190695142027966,
            "bin_end": 0.11550832735404598,
            "count": 0
           },
           {
            "bin_start": 0.11550832735404598,
            "bin_end": 0.2629236061283717,
            "count": 0
           },
           {
            "bin_start": 0.2629236061283717,
            "bin_end": 0.41033888490269727,
            "count": 0
           },
           {
            "bin_start": 0.41033888490269727,
            "bin_end": 0.5577541636770229,
            "count": 0
           },
           {
            "bin_start": 0.5577541636770229,
            "bin_end": 0.7051694424513486,
            "count": 0
           },
           {
            "bin_start": 0.7051694424513486,
            "bin_end": 0.8525847212256743,
            "count": 0
           },
           {
            "bin_start": 0.8525847212256743,
            "bin_end": 1,
            "count": 10
           }
          ]
         }
        },
        {
         "name": "unrate_18_to_19",
         "dtype": "float64",
         "stats": {
          "unique_count": 14,
          "nan_count": 1,
          "min": "-0.5322382795401728",
          "max": "1.0",
          "histogram": [
           {
            "bin_start": -0.5322382795401728,
            "bin_end": -0.3790144515861555,
            "count": 1
           },
           {
            "bin_start": -0.3790144515861555,
            "bin_end": -0.2257906236321382,
            "count": 0
           },
           {
            "bin_start": -0.2257906236321382,
            "bin_end": -0.07256679567812091,
            "count": 2
           },
           {
            "bin_start": -0.07256679567812091,
            "bin_end": 0.08065703227589638,
            "count": 1
           },
           {
            "bin_start": 0.08065703227589638,
            "bin_end": 0.2338808602299136,
            "count": 0
           },
           {
            "bin_start": 0.2338808602299136,
            "bin_end": 0.38710468818393096,
            "count": 0
           },
           {
            "bin_start": 0.38710468818393096,
            "bin_end": 0.5403285161379483,
            "count": 0
           },
           {
            "bin_start": 0.5403285161379483,
            "bin_end": 0.6935523440919655,
            "count": 0
           },
           {
            "bin_start": 0.6935523440919655,
            "bin_end": 0.8467761720459828,
            "count": 0
           },
           {
            "bin_start": 0.8467761720459828,
            "bin_end": 1,
            "count": 10
           }
          ]
         }
        },
        {
         "name": "unrate_20_to_24",
         "dtype": "float64",
         "stats": {
          "unique_count": 14,
          "nan_count": 1,
          "min": "-0.4696011993774946",
          "max": "1.0",
          "histogram": [
           {
            "bin_start": -0.4696011993774946,
            "bin_end": -0.3226410794397452,
            "count": 1
           },
           {
            "bin_start": -0.3226410794397452,
            "bin_end": -0.1756809595019957,
            "count": 1
           },
           {
            "bin_start": -0.1756809595019957,
            "bin_end": -0.02872083956424626,
            "count": 2
           },
           {
            "bin_start": -0.02872083956424626,
            "bin_end": 0.11823928037350323,
            "count": 0
           },
           {
            "bin_start": 0.11823928037350323,
            "bin_end": 0.2651994003112527,
            "count": 0
           },
           {
            "bin_start": 0.2651994003112527,
            "bin_end": 0.4121595202490021,
            "count": 0
           },
           {
            "bin_start": 0.4121595202490021,
            "bin_end": 0.5591196401867515,
            "count": 0
           },
           {
            "bin_start": 0.5591196401867515,
            "bin_end": 0.706079760124501,
            "count": 0
           },
           {
            "bin_start": 0.706079760124501,
            "bin_end": 0.8530398800622505,
            "count": 0
           },
           {
            "bin_start": 0.8530398800622505,
            "bin_end": 1,
            "count": 10
           }
          ]
         }
        },
        {
         "name": "unrate_25_to_34",
         "dtype": "float64",
         "stats": {
          "unique_count": 14,
          "nan_count": 1,
          "min": "-0.4530124132498465",
          "max": "1.0",
          "histogram": [
           {
            "bin_start": -0.4530124132498465,
            "bin_end": -0.30771117192486186,
            "count": 1
           },
           {
            "bin_start": -0.30771117192486186,
            "bin_end": -0.16240993059987718,
            "count": 1
           },
           {
            "bin_start": -0.16240993059987718,
            "bin_end": -0.017108689274892563,
            "count": 1
           },
           {
            "bin_start": -0.017108689274892563,
            "bin_end": 0.1281925520500921,
            "count": 1
           },
           {
            "bin_start": 0.1281925520500921,
            "bin_end": 0.2734937933750768,
            "count": 0
           },
           {
            "bin_start": 0.2734937933750768,
            "bin_end": 0.41879503470006135,
            "count": 0
           },
           {
            "bin_start": 0.41879503470006135,
            "bin_end": 0.5640962760250461,
            "count": 0
           },
           {
            "bin_start": 0.5640962760250461,
            "bin_end": 0.7093975173500306,
            "count": 0
           },
           {
            "bin_start": 0.7093975173500306,
            "bin_end": 0.8546987586750152,
            "count": 0
           },
           {
            "bin_start": 0.8546987586750152,
            "bin_end": 1,
            "count": 10
           }
          ]
         }
        },
        {
         "name": "unrate_35_to_44",
         "dtype": "float64",
         "stats": {
          "unique_count": 14,
          "nan_count": 1,
          "min": "-0.39535112668139216",
          "max": "1.0",
          "histogram": [
           {
            "bin_start": -0.39535112668139216,
            "bin_end": -0.25581601401325293,
            "count": 1
           },
           {
            "bin_start": -0.25581601401325293,
            "bin_end": -0.11628090134511371,
            "count": 1
           },
           {
            "bin_start": -0.11628090134511371,
            "bin_end": 0.02325421132302552,
            "count": 1
           },
           {
            "bin_start": 0.02325421132302552,
            "bin_end": 0.16278932399116475,
            "count": 1
           },
           {
            "bin_start": 0.16278932399116475,
            "bin_end": 0.302324436659304,
            "count": 0
           },
           {
            "bin_start": 0.302324436659304,
            "bin_end": 0.4418595493274432,
            "count": 0
           },
           {
            "bin_start": 0.4418595493274432,
            "bin_end": 0.5813946619955824,
            "count": 0
           },
           {
            "bin_start": 0.5813946619955824,
            "bin_end": 0.7209297746637217,
            "count": 0
           },
           {
            "bin_start": 0.7209297746637217,
            "bin_end": 0.8604648873318609,
            "count": 0
           },
           {
            "bin_start": 0.8604648873318609,
            "bin_end": 1,
            "count": 10
           }
          ]
         }
        },
        {
         "name": "unrate_45_to_54",
         "dtype": "float64",
         "stats": {
          "unique_count": 14,
          "nan_count": 1,
          "min": "-0.45023734134764176",
          "max": "1.0",
          "histogram": [
           {
            "bin_start": -0.45023734134764176,
            "bin_end": -0.3052136072128776,
            "count": 1
           },
           {
            "bin_start": -0.3052136072128776,
            "bin_end": -0.16018987307811344,
            "count": 1
           },
           {
            "bin_start": -0.16018987307811344,
            "bin_end": -0.015166138943349283,
            "count": 1
           },
           {
            "bin_start": -0.015166138943349283,
            "bin_end": 0.12985759519141488,
            "count": 1
           },
           {
            "bin_start": 0.12985759519141488,
            "bin_end": 0.2748813293261791,
            "count": 0
           },
           {
            "bin_start": 0.2748813293261791,
            "bin_end": 0.4199050634609432,
            "count": 0
           },
           {
            "bin_start": 0.4199050634609432,
            "bin_end": 0.5649287975957074,
            "count": 0
           },
           {
            "bin_start": 0.5649287975957074,
            "bin_end": 0.7099525317304716,
            "count": 0
           },
           {
            "bin_start": 0.7099525317304716,
            "bin_end": 0.8549762658652358,
            "count": 0
           },
           {
            "bin_start": 0.8549762658652358,
            "bin_end": 1,
            "count": 10
           }
          ]
         }
        },
        {
         "name": "unrate_55_over",
         "dtype": "float64",
         "stats": {
          "unique_count": 14,
          "nan_count": 1,
          "min": "-0.46721836349271284",
          "max": "1.0",
          "histogram": [
           {
            "bin_start": -0.46721836349271284,
            "bin_end": -0.32049652714344157,
            "count": 1
           },
           {
            "bin_start": -0.32049652714344157,
            "bin_end": -0.1737746907941703,
            "count": 1
           },
           {
            "bin_start": -0.1737746907941703,
            "bin_end": -0.02705285444489902,
            "count": 1
           },
           {
            "bin_start": -0.02705285444489902,
            "bin_end": 0.11966898190437225,
            "count": 1
           },
           {
            "bin_start": 0.11966898190437225,
            "bin_end": 0.2663908182536435,
            "count": 0
           },
           {
            "bin_start": 0.2663908182536435,
            "bin_end": 0.4131126546029148,
            "count": 0
           },
           {
            "bin_start": 0.4131126546029148,
            "bin_end": 0.5598344909521861,
            "count": 0
           },
           {
            "bin_start": 0.5598344909521861,
            "bin_end": 0.7065563273014573,
            "count": 0
           },
           {
            "bin_start": 0.7065563273014573,
            "bin_end": 0.8532781636507286,
            "count": 0
           },
           {
            "bin_start": 0.8532781636507286,
            "bin_end": 1,
            "count": 10
           }
          ]
         }
        },
        {
         "name": "year",
         "dtype": "float64",
         "stats": {
          "unique_count": 14,
          "nan_count": 1,
          "min": "-0.5322382795401728",
          "max": "1.0",
          "histogram": [
           {
            "bin_start": -0.5322382795401728,
            "bin_end": -0.3790144515861555,
            "count": 10
           },
           {
            "bin_start": -0.3790144515861555,
            "bin_end": -0.2257906236321382,
            "count": 0
           },
           {
            "bin_start": -0.2257906236321382,
            "bin_end": -0.07256679567812091,
            "count": 1
           },
           {
            "bin_start": -0.07256679567812091,
            "bin_end": 0.08065703227589638,
            "count": 0
           },
           {
            "bin_start": 0.08065703227589638,
            "bin_end": 0.2338808602299136,
            "count": 0
           },
           {
            "bin_start": 0.2338808602299136,
            "bin_end": 0.38710468818393096,
            "count": 0
           },
           {
            "bin_start": 0.38710468818393096,
            "bin_end": 0.5403285161379483,
            "count": 2
           },
           {
            "bin_start": 0.5403285161379483,
            "bin_end": 0.6935523440919655,
            "count": 0
           },
           {
            "bin_start": 0.6935523440919655,
            "bin_end": 0.8467761720459828,
            "count": 0
           },
           {
            "bin_start": 0.8467761720459828,
            "bin_end": 1,
            "count": 1
           }
          ]
         }
        },
        {
         "name": "month",
         "dtype": "float64",
         "stats": {
          "unique_count": 14,
          "nan_count": 1,
          "min": "-0.21242687410978286",
          "max": "1.0",
          "histogram": [
           {
            "bin_start": -0.21242687410978286,
            "bin_end": -0.09118418669880458,
            "count": 4
           },
           {
            "bin_start": -0.09118418669880458,
            "bin_end": 0.030058500712173697,
            "count": 8
           },
           {
            "bin_start": 0.030058500712173697,
            "bin_end": 0.151301188123152,
            "count": 1
           },
           {
            "bin_start": 0.151301188123152,
            "bin_end": 0.2725438755341303,
            "count": 0
           },
           {
            "bin_start": 0.2725438755341303,
            "bin_end": 0.3937865629451085,
            "count": 0
           },
           {
            "bin_start": 0.3937865629451085,
            "bin_end": 0.5150292503560868,
            "count": 0
           },
           {
            "bin_start": 0.5150292503560868,
            "bin_end": 0.636271937767065,
            "count": 0
           },
           {
            "bin_start": 0.636271937767065,
            "bin_end": 0.7575146251780434,
            "count": 0
           },
           {
            "bin_start": 0.7575146251780434,
            "bin_end": 0.8787573125890217,
            "count": 0
           },
           {
            "bin_start": 0.8787573125890217,
            "bin_end": 1,
            "count": 1
           }
          ]
         }
        },
        {
         "name": "cases",
         "dtype": "float64",
         "stats": {
          "unique_count": 14,
          "nan_count": 1,
          "min": "-0.3081880714792646",
          "max": "1.0",
          "histogram": [
           {
            "bin_start": -0.3081880714792646,
            "bin_end": -0.17736926433133812,
            "count": 8
           },
           {
            "bin_start": -0.17736926433133812,
            "bin_end": -0.046550457183411664,
            "count": 2
           },
           {
            "bin_start": -0.046550457183411664,
            "bin_end": 0.08426834996451477,
            "count": 0
           },
           {
            "bin_start": 0.08426834996451477,
            "bin_end": 0.21508715711244125,
            "count": 1
           },
           {
            "bin_start": 0.21508715711244125,
            "bin_end": 0.34590596426036774,
            "count": 0
           },
           {
            "bin_start": 0.34590596426036774,
            "bin_end": 0.4767247714082941,
            "count": 0
           },
           {
            "bin_start": 0.4767247714082941,
            "bin_end": 0.6075435785562207,
            "count": 1
           },
           {
            "bin_start": 0.6075435785562207,
            "bin_end": 0.738362385704147,
            "count": 0
           },
           {
            "bin_start": 0.738362385704147,
            "bin_end": 0.8691811928520734,
            "count": 1
           },
           {
            "bin_start": 0.8691811928520734,
            "bin_end": 1,
            "count": 1
           }
          ]
         }
        },
        {
         "name": "deaths",
         "dtype": "float64",
         "stats": {
          "unique_count": 14,
          "nan_count": 1,
          "min": "-0.05377658244251385",
          "max": "1.0",
          "histogram": [
           {
            "bin_start": -0.05377658244251385,
            "bin_end": 0.051601075801737534,
            "count": 9
           },
           {
            "bin_start": 0.051601075801737534,
            "bin_end": 0.15697873404598892,
            "count": 2
           },
           {
            "bin_start": 0.15697873404598892,
            "bin_end": 0.2623563922902403,
            "count": 0
           },
           {
            "bin_start": 0.2623563922902403,
            "bin_end": 0.3677340505344917,
            "count": 0
           },
           {
            "bin_start": 0.3677340505344917,
            "bin_end": 0.4731117087787431,
            "count": 1
           },
           {
            "bin_start": 0.4731117087787431,
            "bin_end": 0.5784893670229945,
            "count": 0
           },
           {
            "bin_start": 0.5784893670229945,
            "bin_end": 0.6838670252672459,
            "count": 0
           },
           {
            "bin_start": 0.6838670252672459,
            "bin_end": 0.7892446835114972,
            "count": 0
           },
           {
            "bin_start": 0.7892446835114972,
            "bin_end": 0.8946223417557486,
            "count": 1
           },
           {
            "bin_start": 0.8946223417557486,
            "bin_end": 1,
            "count": 1
           }
          ]
         }
        },
        {
         "name": "is_covid_period",
         "dtype": "float64",
         "stats": {
          "unique_count": 0,
          "nan_count": 15,
          "min": null,
          "max": null,
          "histogram": [
           {
            "bin_start": 0,
            "bin_end": 0.1,
            "count": 0
           },
           {
            "bin_start": 0.1,
            "bin_end": 0.2,
            "count": 0
           },
           {
            "bin_start": 0.2,
            "bin_end": 0.30000000000000004,
            "count": 0
           },
           {
            "bin_start": 0.30000000000000004,
            "bin_end": 0.4,
            "count": 0
           },
           {
            "bin_start": 0.4,
            "bin_end": 0.5,
            "count": 0
           },
           {
            "bin_start": 0.5,
            "bin_end": 0.6000000000000001,
            "count": 0
           },
           {
            "bin_start": 0.6000000000000001,
            "bin_end": 0.7000000000000001,
            "count": 0
           },
           {
            "bin_start": 0.7000000000000001,
            "bin_end": 0.8,
            "count": 0
           },
           {
            "bin_start": 0.8,
            "bin_end": 0.9,
            "count": 0
           },
           {
            "bin_start": 0.9,
            "bin_end": 1,
            "count": 0
           }
          ]
         }
        },
        {
         "name": "_deepnote_index_column",
         "dtype": "object"
        }
       ],
       "rows": [
        {
         "unrate": 1,
         "unrate_men": 0.9955085247234322,
         "unrate_women": 0.9969485475729757,
         "unrate_16_to_17": 0.9173854780288832,
         "unrate_18_to_19": 0.9295093296141204,
         "unrate_20_to_24": 0.9914138187153692,
         "unrate_25_to_34": 0.9926166008411429,
         "unrate_35_to_44": 0.9925815738962063,
         "unrate_45_to_54": 0.9922059616512815,
         "unrate_55_over": 0.9964182667301944,
         "year": -0.4569487288340299,
         "month": -0.0593147609935989,
         "cases": -0.21233444254024295,
         "deaths": 0.018820709744998543,
         "is_covid_period": "nan",
         "_deepnote_index_column": "unrate"
        },
        {
         "unrate": 0.9955085247234322,
         "unrate_men": 1,
         "unrate_women": 0.9852682645081623,
         "unrate_16_to_17": 0.9132376059976416,
         "unrate_18_to_19": 0.919998362749484,
         "unrate_20_to_24": 0.9836528401570055,
         "unrate_25_to_34": 0.9859363322115913,
         "unrate_35_to_44": 0.9953226802236722,
         "unrate_45_to_54": 0.9902038949194856,
         "unrate_55_over": 0.9932642512328207,
         "year": -0.4496414966654221,
         "month": -0.09919079059311046,
         "cases": -0.1728977603646719,
         "deaths": 0.060270993659391765,
         "is_covid_period": "nan",
         "_deepnote_index_column": "unrate_men"
        },
        {
         "unrate": 0.9969485475729757,
         "unrate_men": 0.9852682645081623,
         "unrate_women": 1,
         "unrate_16_to_17": 0.9168726425067442,
         "unrate_18_to_19": 0.9334441037929042,
         "unrate_20_to_24": 0.9915634568101768,
         "unrate_25_to_34": 0.9906668570088479,
         "unrate_35_to_44": 0.9835218595957098,
         "unrate_45_to_54": 0.9872128420614905,
         "unrate_55_over": 0.9928224079080787,
         "year": -0.45801008740525545,
         "month": -0.028699097020194003,
         "cases": -0.24102160514942494,
         "deaths": -0.0131891551828798,
         "is_covid_period": "nan",
         "_deepnote_index_column": "unrate_women"
        },
        {
         "unrate": 0.9173854780288832,
         "unrate_men": 0.9132376059976416,
         "unrate_women": 0.9168726425067442,
         "unrate_16_to_17": 1,
         "unrate_18_to_19": 0.919721286453811,
         "unrate_20_to_24": 0.9360698098477952,
         "unrate_25_to_34": 0.8868388219997841,
         "unrate_35_to_44": 0.9022126855866476,
         "unrate_45_to_54": 0.8949811597463975,
         "unrate_55_over": 0.9060183555437321,
         "year": -0.4741527877432566,
         "month": -0.21242687410978286,
         "cases": -0.3081880714792646,
         "deaths": -0.03807901917723702,
         "is_covid_period": "nan",
         "_deepnote_index_column": "unrate_16_to_17"
        },
        {
         "unrate": 0.9295093296141204,
         "unrate_men": 0.919998362749484,
         "unrate_women": 0.9334441037929042,
         "unrate_16_to_17": 0.919721286453811,
         "unrate_18_to_19": 1,
         "unrate_20_to_24": 0.9339783784332253,
         "unrate_25_to_34": 0.898635715960238,
         "unrate_35_to_44": 0.9066769275489822,
         "unrate_45_to_54": 0.9300533042867196,
         "unrate_55_over": 0.9275826002473422,
         "year": -0.5322382795401728,
         "month": -0.13064410395937542,
         "cases": -0.20260458894659605,
         "deaths": -0.017245967449598054,
         "is_covid_period": "nan",
         "_deepnote_index_column": "unrate_18_to_19"
        },
        {
         "unrate": 0.9914138187153692,
         "unrate_men": 0.9836528401570055,
         "unrate_women": 0.9915634568101768,
         "unrate_16_to_17": 0.9360698098477952,
         "unrate_18_to_19": 0.9339783784332253,
         "unrate_20_to_24": 1,
         "unrate_25_to_34": 0.979033588721455,
         "unrate_35_to_44": 0.9757156010340917,
         "unrate_45_to_54": 0.9798786050379382,
         "unrate_55_over": 0.9848432670781474,
         "year": -0.4696011993774946,
         "month": -0.10390070067593245,
         "cases": -0.2851756807037797,
         "deaths": -0.04275221560441824,
         "is_covid_period": "nan",
         "_deepnote_index_column": "unrate_20_to_24"
        },
        {
         "unrate": 0.9926166008411429,
         "unrate_men": 0.9859363322115913,
         "unrate_women": 0.9906668570088479,
         "unrate_16_to_17": 0.8868388219997841,
         "unrate_18_to_19": 0.898635715960238,
         "unrate_20_to_24": 0.979033588721455,
         "unrate_25_to_34": 1,
         "unrate_35_to_44": 0.9829678777426224,
         "unrate_45_to_54": 0.9786822915808793,
         "unrate_55_over": 0.9864698290379559,
         "year": -0.4530124132498465,
         "month": -0.04883186612343799,
         "cases": -0.2207124535272098,
         "deaths": 0.017901307760175015,
         "is_covid_period": "nan",
         "_deepnote_index_column": "unrate_25_to_34"
        },
        {
         "unrate": 0.9925815738962063,
         "unrate_men": 0.9953226802236722,
         "unrate_women": 0.9835218595957098,
         "unrate_16_to_17": 0.9022126855866476,
         "unrate_18_to_19": 0.9066769275489822,
         "unrate_20_to_24": 0.9757156010340917,
         "unrate_25_to_34": 0.9829678777426224,
         "unrate_35_to_44": 1,
         "unrate_45_to_54": 0.9871564504460326,
         "unrate_55_over": 0.9893408004122788,
         "year": -0.39535112668139216,
         "month": -0.061812635933659474,
         "cases": -0.13566222103147255,
         "deaths": 0.09679259214230772,
         "is_covid_period": "nan",
         "_deepnote_index_column": "unrate_35_to_44"
        },
        {
         "unrate": 0.9922059616512815,
         "unrate_men": 0.9902038949194856,
         "unrate_women": 0.9872128420614905,
         "unrate_16_to_17": 0.8949811597463975,
         "unrate_18_to_19": 0.9300533042867196,
         "unrate_20_to_24": 0.9798786050379382,
         "unrate_25_to_34": 0.9786822915808793,
         "unrate_35_to_44": 0.9871564504460326,
         "unrate_45_to_54": 1,
         "unrate_55_over": 0.9914702259234885,
         "year": -0.45023734134764176,
         "month": -0.02838921752153763,
         "cases": -0.18762739950121313,
         "deaths": 0.017476360506875968,
         "is_covid_period": "nan",
         "_deepnote_index_column": "unrate_45_to_54"
        },
        {
         "unrate": 0.9964182667301944,
         "unrate_men": 0.9932642512328207,
         "unrate_women": 0.9928224079080787,
         "unrate_16_to_17": 0.9060183555437321,
         "unrate_18_to_19": 0.9275826002473422,
         "unrate_20_to_24": 0.9848432670781474,
         "unrate_25_to_34": 0.9864698290379559,
         "unrate_35_to_44": 0.9893408004122788,
         "unrate_45_to_54": 0.9914702259234885,
         "unrate_55_over": 1,
         "year": -0.46721836349271284,
         "month": -0.03931879266250186,
         "cases": -0.20273512327040966,
         "deaths": 0.013082933959506968,
         "is_covid_period": "nan",
         "_deepnote_index_column": "unrate_55_over"
        }
       ]
      },
      "text/plain": "                   unrate  unrate_men  unrate_women  unrate_16_to_17  \\\nunrate           1.000000    0.995509      0.996949         0.917385   \nunrate_men       0.995509    1.000000      0.985268         0.913238   \nunrate_women     0.996949    0.985268      1.000000         0.916873   \nunrate_16_to_17  0.917385    0.913238      0.916873         1.000000   \nunrate_18_to_19  0.929509    0.919998      0.933444         0.919721   \nunrate_20_to_24  0.991414    0.983653      0.991563         0.936070   \nunrate_25_to_34  0.992617    0.985936      0.990667         0.886839   \nunrate_35_to_44  0.992582    0.995323      0.983522         0.902213   \nunrate_45_to_54  0.992206    0.990204      0.987213         0.894981   \nunrate_55_over   0.996418    0.993264      0.992822         0.906018   \nyear            -0.456949   -0.449641     -0.458010        -0.474153   \nmonth           -0.059315   -0.099191     -0.028699        -0.212427   \ncases           -0.212334   -0.172898     -0.241022        -0.308188   \ndeaths           0.018821    0.060271     -0.013189        -0.038079   \nis_covid_period       NaN         NaN           NaN              NaN   \n\n                 unrate_18_to_19  unrate_20_to_24  unrate_25_to_34  \\\nunrate                  0.929509         0.991414         0.992617   \nunrate_men              0.919998         0.983653         0.985936   \nunrate_women            0.933444         0.991563         0.990667   \nunrate_16_to_17         0.919721         0.936070         0.886839   \nunrate_18_to_19         1.000000         0.933978         0.898636   \nunrate_20_to_24         0.933978         1.000000         0.979034   \nunrate_25_to_34         0.898636         0.979034         1.000000   \nunrate_35_to_44         0.906677         0.975716         0.982968   \nunrate_45_to_54         0.930053         0.979879         0.978682   \nunrate_55_over          0.927583         0.984843         0.986470   \nyear                   -0.532238        -0.469601        -0.453012   \nmonth                  -0.130644        -0.103901        -0.048832   \ncases                  -0.202605        -0.285176        -0.220712   \ndeaths                 -0.017246        -0.042752         0.017901   \nis_covid_period              NaN              NaN              NaN   \n\n                 unrate_35_to_44  unrate_45_to_54  unrate_55_over      year  \\\nunrate                  0.992582         0.992206        0.996418 -0.456949   \nunrate_men              0.995323         0.990204        0.993264 -0.449641   \nunrate_women            0.983522         0.987213        0.992822 -0.458010   \nunrate_16_to_17         0.902213         0.894981        0.906018 -0.474153   \nunrate_18_to_19         0.906677         0.930053        0.927583 -0.532238   \nunrate_20_to_24         0.975716         0.979879        0.984843 -0.469601   \nunrate_25_to_34         0.982968         0.978682        0.986470 -0.453012   \nunrate_35_to_44         1.000000         0.987156        0.989341 -0.395351   \nunrate_45_to_54         0.987156         1.000000        0.991470 -0.450237   \nunrate_55_over          0.989341         0.991470        1.000000 -0.467218   \nyear                   -0.395351        -0.450237       -0.467218  1.000000   \nmonth                  -0.061813        -0.028389       -0.039319 -0.075094   \ncases                  -0.135662        -0.187627       -0.202735  0.478821   \ndeaths                  0.096793         0.017476        0.013083  0.437718   \nis_covid_period              NaN              NaN             NaN       NaN   \n\n                    month     cases    deaths  is_covid_period  \nunrate          -0.059315 -0.212334  0.018821              NaN  \nunrate_men      -0.099191 -0.172898  0.060271              NaN  \nunrate_women    -0.028699 -0.241022 -0.013189              NaN  \nunrate_16_to_17 -0.212427 -0.308188 -0.038079              NaN  \nunrate_18_to_19 -0.130644 -0.202605 -0.017246              NaN  \nunrate_20_to_24 -0.103901 -0.285176 -0.042752              NaN  \nunrate_25_to_34 -0.048832 -0.220712  0.017901              NaN  \nunrate_35_to_44 -0.061813 -0.135662  0.096793              NaN  \nunrate_45_to_54 -0.028389 -0.187627  0.017476              NaN  \nunrate_55_over  -0.039319 -0.202735  0.013083              NaN  \nyear            -0.075094  0.478821  0.437718              NaN  \nmonth            1.000000  0.106791 -0.053777              NaN  \ncases            0.106791  1.000000  0.798313              NaN  \ndeaths          -0.053777  0.798313  1.000000              NaN  \nis_covid_period       NaN       NaN       NaN              NaN  ",
      "text/html": "<div>\n<style scoped>\n    .dataframe tbody tr th:only-of-type {\n        vertical-align: middle;\n    }\n\n    .dataframe tbody tr th {\n        vertical-align: top;\n    }\n\n    .dataframe thead th {\n        text-align: right;\n    }\n</style>\n<table border=\"1\" class=\"dataframe\">\n  <thead>\n    <tr style=\"text-align: right;\">\n      <th></th>\n      <th>unrate</th>\n      <th>unrate_men</th>\n      <th>unrate_women</th>\n      <th>unrate_16_to_17</th>\n      <th>unrate_18_to_19</th>\n      <th>unrate_20_to_24</th>\n      <th>unrate_25_to_34</th>\n      <th>unrate_35_to_44</th>\n      <th>unrate_45_to_54</th>\n      <th>unrate_55_over</th>\n      <th>year</th>\n      <th>month</th>\n      <th>cases</th>\n      <th>deaths</th>\n      <th>is_covid_period</th>\n    </tr>\n  </thead>\n  <tbody>\n    <tr>\n      <th>unrate</th>\n      <td>1.000000</td>\n      <td>0.995509</td>\n      <td>0.996949</td>\n      <td>0.917385</td>\n      <td>0.929509</td>\n      <td>0.991414</td>\n      <td>0.992617</td>\n      <td>0.992582</td>\n      <td>0.992206</td>\n      <td>0.996418</td>\n      <td>-0.456949</td>\n      <td>-0.059315</td>\n      <td>-0.212334</td>\n      <td>0.018821</td>\n      <td>NaN</td>\n    </tr>\n    <tr>\n      <th>unrate_men</th>\n      <td>0.995509</td>\n      <td>1.000000</td>\n      <td>0.985268</td>\n      <td>0.913238</td>\n      <td>0.919998</td>\n      <td>0.983653</td>\n      <td>0.985936</td>\n      <td>0.995323</td>\n      <td>0.990204</td>\n      <td>0.993264</td>\n      <td>-0.449641</td>\n      <td>-0.099191</td>\n      <td>-0.172898</td>\n      <td>0.060271</td>\n      <td>NaN</td>\n    </tr>\n    <tr>\n      <th>unrate_women</th>\n      <td>0.996949</td>\n      <td>0.985268</td>\n      <td>1.000000</td>\n      <td>0.916873</td>\n      <td>0.933444</td>\n      <td>0.991563</td>\n      <td>0.990667</td>\n      <td>0.983522</td>\n      <td>0.987213</td>\n      <td>0.992822</td>\n      <td>-0.458010</td>\n      <td>-0.028699</td>\n      <td>-0.241022</td>\n      <td>-0.013189</td>\n      <td>NaN</td>\n    </tr>\n    <tr>\n      <th>unrate_16_to_17</th>\n      <td>0.917385</td>\n      <td>0.913238</td>\n      <td>0.916873</td>\n      <td>1.000000</td>\n      <td>0.919721</td>\n      <td>0.936070</td>\n      <td>0.886839</td>\n      <td>0.902213</td>\n      <td>0.894981</td>\n      <td>0.906018</td>\n      <td>-0.474153</td>\n      <td>-0.212427</td>\n      <td>-0.308188</td>\n      <td>-0.038079</td>\n      <td>NaN</td>\n    </tr>\n    <tr>\n      <th>unrate_18_to_19</th>\n      <td>0.929509</td>\n      <td>0.919998</td>\n      <td>0.933444</td>\n      <td>0.919721</td>\n      <td>1.000000</td>\n      <td>0.933978</td>\n      <td>0.898636</td>\n      <td>0.906677</td>\n      <td>0.930053</td>\n      <td>0.927583</td>\n      <td>-0.532238</td>\n      <td>-0.130644</td>\n      <td>-0.202605</td>\n      <td>-0.017246</td>\n      <td>NaN</td>\n    </tr>\n    <tr>\n      <th>unrate_20_to_24</th>\n      <td>0.991414</td>\n      <td>0.983653</td>\n      <td>0.991563</td>\n      <td>0.936070</td>\n      <td>0.933978</td>\n      <td>1.000000</td>\n      <td>0.979034</td>\n      <td>0.975716</td>\n      <td>0.979879</td>\n      <td>0.984843</td>\n      <td>-0.469601</td>\n      <td>-0.103901</td>\n      <td>-0.285176</td>\n      <td>-0.042752</td>\n      <td>NaN</td>\n    </tr>\n    <tr>\n      <th>unrate_25_to_34</th>\n      <td>0.992617</td>\n      <td>0.985936</td>\n      <td>0.990667</td>\n      <td>0.886839</td>\n      <td>0.898636</td>\n      <td>0.979034</td>\n      <td>1.000000</td>\n      <td>0.982968</td>\n      <td>0.978682</td>\n      <td>0.986470</td>\n      <td>-0.453012</td>\n      <td>-0.048832</td>\n      <td>-0.220712</td>\n      <td>0.017901</td>\n      <td>NaN</td>\n    </tr>\n    <tr>\n      <th>unrate_35_to_44</th>\n      <td>0.992582</td>\n      <td>0.995323</td>\n      <td>0.983522</td>\n      <td>0.902213</td>\n      <td>0.906677</td>\n      <td>0.975716</td>\n      <td>0.982968</td>\n      <td>1.000000</td>\n      <td>0.987156</td>\n      <td>0.989341</td>\n      <td>-0.395351</td>\n      <td>-0.061813</td>\n      <td>-0.135662</td>\n      <td>0.096793</td>\n      <td>NaN</td>\n    </tr>\n    <tr>\n      <th>unrate_45_to_54</th>\n      <td>0.992206</td>\n      <td>0.990204</td>\n      <td>0.987213</td>\n      <td>0.894981</td>\n      <td>0.930053</td>\n      <td>0.979879</td>\n      <td>0.978682</td>\n      <td>0.987156</td>\n      <td>1.000000</td>\n      <td>0.991470</td>\n      <td>-0.450237</td>\n      <td>-0.028389</td>\n      <td>-0.187627</td>\n      <td>0.017476</td>\n      <td>NaN</td>\n    </tr>\n    <tr>\n      <th>unrate_55_over</th>\n      <td>0.996418</td>\n      <td>0.993264</td>\n      <td>0.992822</td>\n      <td>0.906018</td>\n      <td>0.927583</td>\n      <td>0.984843</td>\n      <td>0.986470</td>\n      <td>0.989341</td>\n      <td>0.991470</td>\n      <td>1.000000</td>\n      <td>-0.467218</td>\n      <td>-0.039319</td>\n      <td>-0.202735</td>\n      <td>0.013083</td>\n      <td>NaN</td>\n    </tr>\n    <tr>\n      <th>year</th>\n      <td>-0.456949</td>\n      <td>-0.449641</td>\n      <td>-0.458010</td>\n      <td>-0.474153</td>\n      <td>-0.532238</td>\n      <td>-0.469601</td>\n      <td>-0.453012</td>\n      <td>-0.395351</td>\n      <td>-0.450237</td>\n      <td>-0.467218</td>\n      <td>1.000000</td>\n      <td>-0.075094</td>\n      <td>0.478821</td>\n      <td>0.437718</td>\n      <td>NaN</td>\n    </tr>\n    <tr>\n      <th>month</th>\n      <td>-0.059315</td>\n      <td>-0.099191</td>\n      <td>-0.028699</td>\n      <td>-0.212427</td>\n      <td>-0.130644</td>\n      <td>-0.103901</td>\n      <td>-0.048832</td>\n      <td>-0.061813</td>\n      <td>-0.028389</td>\n      <td>-0.039319</td>\n      <td>-0.075094</td>\n      <td>1.000000</td>\n      <td>0.106791</td>\n      <td>-0.053777</td>\n      <td>NaN</td>\n    </tr>\n    <tr>\n      <th>cases</th>\n      <td>-0.212334</td>\n      <td>-0.172898</td>\n      <td>-0.241022</td>\n      <td>-0.308188</td>\n      <td>-0.202605</td>\n      <td>-0.285176</td>\n      <td>-0.220712</td>\n      <td>-0.135662</td>\n      <td>-0.187627</td>\n      <td>-0.202735</td>\n      <td>0.478821</td>\n      <td>0.106791</td>\n      <td>1.000000</td>\n      <td>0.798313</td>\n      <td>NaN</td>\n    </tr>\n    <tr>\n      <th>deaths</th>\n      <td>0.018821</td>\n      <td>0.060271</td>\n      <td>-0.013189</td>\n      <td>-0.038079</td>\n      <td>-0.017246</td>\n      <td>-0.042752</td>\n      <td>0.017901</td>\n      <td>0.096793</td>\n      <td>0.017476</td>\n      <td>0.013083</td>\n      <td>0.437718</td>\n      <td>-0.053777</td>\n      <td>0.798313</td>\n      <td>1.000000</td>\n      <td>NaN</td>\n    </tr>\n    <tr>\n      <th>is_covid_period</th>\n      <td>NaN</td>\n      <td>NaN</td>\n      <td>NaN</td>\n      <td>NaN</td>\n      <td>NaN</td>\n      <td>NaN</td>\n      <td>NaN</td>\n      <td>NaN</td>\n      <td>NaN</td>\n      <td>NaN</td>\n      <td>NaN</td>\n      <td>NaN</td>\n      <td>NaN</td>\n      <td>NaN</td>\n      <td>NaN</td>\n    </tr>\n  </tbody>\n</table>\n</div>"
     },
     "metadata": {}
    }
   ]
  },
  {
   "cell_type": "markdown",
   "source": "## Section 3: Altair Charts: Which year was more severe, 2020 or 2021?",
   "metadata": {
    "cell_id": "3a71aadcb2144c2db54917979c9138d5",
    "tags": [],
    "deepnote_cell_type": "markdown",
    "deepnote_cell_height": 110
   }
  },
  {
   "cell_type": "markdown",
   "source": "* An important technique to analyze data is to visualize it. In this section, therefore, several altair charts will be presented as tools of visualization.",
   "metadata": {
    "cell_id": "240b8057834f466a98bfe808ac365c9e",
    "tags": [],
    "deepnote_cell_type": "markdown",
    "deepnote_cell_height": 91.796875
   }
  },
  {
   "cell_type": "markdown",
   "source": "* The first two charts are relatively simple and can be treated as graphs showing the correlation details mentioned in Section 2.",
   "metadata": {
    "cell_id": "c1050321937a450d9ccb6fac031139a6",
    "tags": [],
    "deepnote_to_be_reexecuted": false,
    "source_hash": "b623e53d",
    "execution_start": 1654806479364,
    "deepnote_cell_type": "markdown",
    "deepnote_cell_height": 91.796875
   }
  },
  {
   "cell_type": "code",
   "metadata": {
    "cell_id": "fbed09f52f6a4e269fe02278812c722a",
    "tags": [],
    "deepnote_to_be_reexecuted": false,
    "source_hash": "56f7e668",
    "execution_start": 1654814579012,
    "execution_millis": 53,
    "deepnote_cell_type": "code",
    "deepnote_cell_height": 458,
    "deepnote_output_heights": [
     361
    ]
   },
   "source": "alt.Chart(df[mask]).mark_point().encode(x = 'cases', y = 'unrate')",
   "execution_count": null,
   "outputs": [
    {
     "output_type": "execute_result",
     "execution_count": 13,
     "data": {
      "text/html": "\n<div id=\"altair-viz-204b780e77e34883ad82777e96fbcc65\"></div>\n<script type=\"text/javascript\">\n  (function(spec, embedOpt){\n    let outputDiv = document.currentScript.previousElementSibling;\n    if (outputDiv.id !== \"altair-viz-204b780e77e34883ad82777e96fbcc65\") {\n      outputDiv = document.getElementById(\"altair-viz-204b780e77e34883ad82777e96fbcc65\");\n    }\n    const paths = {\n      \"vega\": \"https://cdn.jsdelivr.net/npm//vega@5?noext\",\n      \"vega-lib\": \"https://cdn.jsdelivr.net/npm//vega-lib?noext\",\n      \"vega-lite\": \"https://cdn.jsdelivr.net/npm//vega-lite@4.8.1?noext\",\n      \"vega-embed\": \"https://cdn.jsdelivr.net/npm//vega-embed@6?noext\",\n    };\n\n    function loadScript(lib) {\n      return new Promise(function(resolve, reject) {\n        var s = document.createElement('script');\n        s.src = paths[lib];\n        s.async = true;\n        s.onload = () => resolve(paths[lib]);\n        s.onerror = () => reject(`Error loading script: ${paths[lib]}`);\n        document.getElementsByTagName(\"head\")[0].appendChild(s);\n      });\n    }\n\n    function showError(err) {\n      outputDiv.innerHTML = `<div class=\"error\" style=\"color:red;\">${err}</div>`;\n      throw err;\n    }\n\n    function displayChart(vegaEmbed) {\n      vegaEmbed(outputDiv, spec, embedOpt)\n        .catch(err => showError(`Javascript Error: ${err.message}<br>This usually means there's a typo in your chart specification. See the javascript console for the full traceback.`));\n    }\n\n    if(typeof define === \"function\" && define.amd) {\n      requirejs.config({paths});\n      require([\"vega-embed\"], displayChart, err => showError(`Error loading script: ${err.message}`));\n    } else if (typeof vegaEmbed === \"function\") {\n      displayChart(vegaEmbed);\n    } else {\n      loadScript(\"vega\")\n        .then(() => loadScript(\"vega-lite\"))\n        .then(() => loadScript(\"vega-embed\"))\n        .catch(showError)\n        .then(() => displayChart(vegaEmbed));\n    }\n  })({\"config\": {\"view\": {\"continuousWidth\": 400, \"continuousHeight\": 300}}, \"data\": {\"name\": \"data-3f3ca70e412e0c27c781a16efaeb3653\"}, \"mark\": \"point\", \"encoding\": {\"x\": {\"type\": \"quantitative\", \"field\": \"cases\"}, \"y\": {\"type\": \"quantitative\", \"field\": \"unrate\"}}, \"$schema\": \"https://vega.github.io/schema/vega-lite/v4.8.1.json\", \"datasets\": {\"data-3f3ca70e412e0c27c781a16efaeb3653\": [{\"date\": \"2020-01-01T00:00:00\", \"unrate\": 4.0, \"unrate_men\": 4.2, \"unrate_women\": 3.7, \"unrate_16_to_17\": 11.2, \"unrate_18_to_19\": 14.1, \"unrate_20_to_24\": 7.6, \"unrate_25_to_34\": 4.2, \"unrate_35_to_44\": 3.1, \"unrate_45_to_54\": 2.7, \"unrate_55_over\": 2.9, \"year\": 2020, \"month\": 1, \"cases\": 0.0, \"deaths\": 0.0, \"is_covid_period\": 1}, {\"date\": \"2020-02-01T00:00:00\", \"unrate\": 3.8, \"unrate_men\": 4.1, \"unrate_women\": 3.4, \"unrate_16_to_17\": 9.9, \"unrate_18_to_19\": 12.3, \"unrate_20_to_24\": 6.7, \"unrate_25_to_34\": 4.0, \"unrate_35_to_44\": 3.0, \"unrate_45_to_54\": 2.8, \"unrate_55_over\": 2.8, \"year\": 2020, \"month\": 2, \"cases\": 0.0, \"deaths\": 0.0, \"is_covid_period\": 1}, {\"date\": \"2020-03-01T00:00:00\", \"unrate\": 4.5, \"unrate_men\": 4.8, \"unrate_women\": 4.2, \"unrate_16_to_17\": 16.5, \"unrate_18_to_19\": 12.2, \"unrate_20_to_24\": 8.6, \"unrate_25_to_34\": 4.5, \"unrate_35_to_44\": 3.6, \"unrate_45_to_54\": 3.4, \"unrate_55_over\": 3.5, \"year\": 2020, \"month\": 3, \"cases\": 77.0, \"deaths\": 3.0, \"is_covid_period\": 1}, {\"date\": \"2020-04-01T00:00:00\", \"unrate\": 14.4, \"unrate_men\": 13.3, \"unrate_women\": 15.7, \"unrate_16_to_17\": 30.1, \"unrate_18_to_19\": 33.3, \"unrate_20_to_24\": 25.0, \"unrate_25_to_34\": 14.3, \"unrate_35_to_44\": 11.3, \"unrate_45_to_54\": 12.1, \"unrate_55_over\": 13.4, \"year\": 2020, \"month\": 4, \"cases\": 160074.0, \"deaths\": 3114.0, \"is_covid_period\": 1}, {\"date\": \"2020-05-01T00:00:00\", \"unrate\": 13.0, \"unrate_men\": 11.9, \"unrate_women\": 14.3, \"unrate_16_to_17\": 31.9, \"unrate_18_to_19\": 30.1, \"unrate_20_to_24\": 23.2, \"unrate_25_to_34\": 13.1, \"unrate_35_to_44\": 9.8, \"unrate_45_to_54\": 10.4, \"unrate_55_over\": 11.5, \"year\": 2020, \"month\": 5, \"cases\": 767280.0, \"deaths\": 43435.0, \"is_covid_period\": 1}, {\"date\": \"2020-06-01T00:00:00\", \"unrate\": 11.2, \"unrate_men\": 10.5, \"unrate_women\": 12.0, \"unrate_16_to_17\": 27.2, \"unrate_18_to_19\": 22.9, \"unrate_20_to_24\": 20.1, \"unrate_25_to_34\": 11.7, \"unrate_35_to_44\": 8.9, \"unrate_45_to_54\": 8.3, \"unrate_55_over\": 9.7, \"year\": 2020, \"month\": 6, \"cases\": 673076.0, \"deaths\": 37030.0, \"is_covid_period\": 1}, {\"date\": \"2020-07-01T00:00:00\", \"unrate\": 10.5, \"unrate_men\": 9.7, \"unrate_women\": 11.3, \"unrate_16_to_17\": 19.6, \"unrate_18_to_19\": 18.8, \"unrate_20_to_24\": 18.2, \"unrate_25_to_34\": 11.5, \"unrate_35_to_44\": 8.2, \"unrate_45_to_54\": 8.0, \"unrate_55_over\": 9.0, \"year\": 2020, \"month\": 7, \"cases\": 861016.0, \"deaths\": 21304.0, \"is_covid_period\": 1}, {\"date\": \"2020-08-01T00:00:00\", \"unrate\": 8.5, \"unrate_men\": 8.0, \"unrate_women\": 9.1, \"unrate_16_to_17\": 13.3, \"unrate_18_to_19\": 17.4, \"unrate_20_to_24\": 13.7, \"unrate_25_to_34\": 9.8, \"unrate_35_to_44\": 6.5, \"unrate_45_to_54\": 6.4, \"unrate_55_over\": 7.8, \"year\": 2020, \"month\": 8, \"cases\": 1898279.0, \"deaths\": 26297.0, \"is_covid_period\": 1}, {\"date\": \"2020-09-01T00:00:00\", \"unrate\": 7.7, \"unrate_men\": 7.3, \"unrate_women\": 8.0, \"unrate_16_to_17\": 14.8, \"unrate_18_to_19\": 16.8, \"unrate_20_to_24\": 12.4, \"unrate_25_to_34\": 8.4, \"unrate_35_to_44\": 6.1, \"unrate_45_to_54\": 6.2, \"unrate_55_over\": 6.6, \"year\": 2020, \"month\": 9, \"cases\": 1427776.0, \"deaths\": 28617.0, \"is_covid_period\": 1}, {\"date\": \"2020-10-01T00:00:00\", \"unrate\": 6.6, \"unrate_men\": 6.6, \"unrate_women\": 6.5, \"unrate_16_to_17\": 11.6, \"unrate_18_to_19\": 14.0, \"unrate_20_to_24\": 10.5, \"unrate_25_to_34\": 7.1, \"unrate_35_to_44\": 5.6, \"unrate_45_to_54\": 5.7, \"unrate_55_over\": 5.2, \"year\": 2020, \"month\": 10, \"cases\": 1189873.0, \"deaths\": 22680.0, \"is_covid_period\": 1}, {\"date\": \"2020-11-01T00:00:00\", \"unrate\": 6.4, \"unrate_men\": 6.6, \"unrate_women\": 6.1, \"unrate_16_to_17\": 13.9, \"unrate_18_to_19\": 12.8, \"unrate_20_to_24\": 9.9, \"unrate_25_to_34\": 6.7, \"unrate_35_to_44\": 5.4, \"unrate_45_to_54\": 5.2, \"unrate_55_over\": 5.7, \"year\": 2020, \"month\": 11, \"cases\": 1918525.0, \"deaths\": 22674.0, \"is_covid_period\": 1}, {\"date\": \"2020-12-01T00:00:00\", \"unrate\": 6.5, \"unrate_men\": 6.7, \"unrate_women\": 6.3, \"unrate_16_to_17\": 11.8, \"unrate_18_to_19\": 15.3, \"unrate_20_to_24\": 10.6, \"unrate_25_to_34\": 6.4, \"unrate_35_to_44\": 5.5, \"unrate_45_to_54\": 5.3, \"unrate_55_over\": 5.8, \"year\": 2020, \"month\": 12, \"cases\": 4423135.0, \"deaths\": 39331.0, \"is_covid_period\": 1}, {\"date\": \"2021-01-01T00:00:00\", \"unrate\": 6.8, \"unrate_men\": 7.1, \"unrate_women\": 6.5, \"unrate_16_to_17\": 15.2, \"unrate_18_to_19\": 15.9, \"unrate_20_to_24\": 10.8, \"unrate_25_to_34\": 7.2, \"unrate_35_to_44\": 6.1, \"unrate_45_to_54\": 5.2, \"unrate_55_over\": 5.6, \"year\": 2021, \"month\": 1, \"cases\": 6208462.0, \"deaths\": 75431.0, \"is_covid_period\": 1}, {\"date\": \"2021-02-01T00:00:00\", \"unrate\": 6.6, \"unrate_men\": 7.0, \"unrate_women\": 6.1, \"unrate_16_to_17\": 14.5, \"unrate_18_to_19\": 14.0, \"unrate_20_to_24\": 10.0, \"unrate_25_to_34\": 6.7, \"unrate_35_to_44\": 6.0, \"unrate_45_to_54\": 5.2, \"unrate_55_over\": 5.6, \"year\": 2021, \"month\": 2, \"cases\": 5973365.0, \"deaths\": 92418.0, \"is_covid_period\": 1}, {\"date\": \"2021-03-01T00:00:00\", \"unrate\": 6.2, \"unrate_men\": 6.5, \"unrate_women\": 5.8, \"unrate_16_to_17\": 12.0, \"unrate_18_to_19\": 12.7, \"unrate_20_to_24\": 10.4, \"unrate_25_to_34\": 7.0, \"unrate_35_to_44\": 5.4, \"unrate_45_to_54\": 4.7, \"unrate_55_over\": 4.8, \"year\": 2021, \"month\": 3, \"cases\": 2195239.0, \"deaths\": 68218.0, \"is_covid_period\": 1}, {\"date\": \"2021-04-01T00:00:00\", \"unrate\": 5.7, \"unrate_men\": 6.0, \"unrate_women\": 5.4, \"unrate_16_to_17\": 10.5, \"unrate_18_to_19\": 10.9, \"unrate_20_to_24\": 9.8, \"unrate_25_to_34\": 6.2, \"unrate_35_to_44\": 4.7, \"unrate_45_to_54\": 4.7, \"unrate_55_over\": 4.8, \"year\": 2021, \"month\": 4, \"cases\": 1733107.0, \"deaths\": 36249.0, \"is_covid_period\": 1}, {\"date\": \"2021-05-01T00:00:00\", \"unrate\": 5.5, \"unrate_men\": 5.7, \"unrate_women\": 5.2, \"unrate_16_to_17\": 9.2, \"unrate_18_to_19\": 9.7, \"unrate_20_to_24\": 10.3, \"unrate_25_to_34\": 5.5, \"unrate_35_to_44\": 4.7, \"unrate_45_to_54\": 4.5, \"unrate_55_over\": 4.6, \"year\": 2021, \"month\": 5, \"cases\": 1739825.0, \"deaths\": 23117.0, \"is_covid_period\": 1}, {\"date\": \"2021-06-01T00:00:00\", \"unrate\": 6.1, \"unrate_men\": 6.1, \"unrate_women\": 6.1, \"unrate_16_to_17\": 15.0, \"unrate_18_to_19\": 12.3, \"unrate_20_to_24\": 9.9, \"unrate_25_to_34\": 6.5, \"unrate_35_to_44\": 5.2, \"unrate_45_to_54\": 4.6, \"unrate_55_over\": 5.0, \"year\": 2021, \"month\": 6, \"cases\": 863748.0, \"deaths\": 17604.0, \"is_covid_period\": 1}, {\"date\": \"2021-07-01T00:00:00\", \"unrate\": 5.7, \"unrate_men\": 5.5, \"unrate_women\": 5.8, \"unrate_16_to_17\": 12.8, \"unrate_18_to_19\": 9.9, \"unrate_20_to_24\": 9.5, \"unrate_25_to_34\": 6.3, \"unrate_35_to_44\": 4.8, \"unrate_45_to_54\": 4.0, \"unrate_55_over\": 4.6, \"year\": 2021, \"month\": 7, \"cases\": 357445.0, \"deaths\": 8692.0, \"is_covid_period\": 1}, {\"date\": \"2021-08-01T00:00:00\", \"unrate\": 5.3, \"unrate_men\": 5.1, \"unrate_women\": 5.5, \"unrate_16_to_17\": 10.7, \"unrate_18_to_19\": 11.0, \"unrate_20_to_24\": 9.1, \"unrate_25_to_34\": 5.8, \"unrate_35_to_44\": 4.4, \"unrate_45_to_54\": 4.2, \"unrate_55_over\": 4.1, \"year\": 2021, \"month\": 8, \"cases\": 1338242.0, \"deaths\": 6896.0, \"is_covid_period\": 1}, {\"date\": \"2021-09-01T00:00:00\", \"unrate\": 4.6, \"unrate_men\": 4.6, \"unrate_women\": 4.5, \"unrate_16_to_17\": 9.2, \"unrate_18_to_19\": 12.6, \"unrate_20_to_24\": 7.7, \"unrate_25_to_34\": 5.0, \"unrate_35_to_44\": 3.8, \"unrate_45_to_54\": 3.7, \"unrate_55_over\": 3.3, \"year\": 2021, \"month\": 9, \"cases\": 4292027.0, \"deaths\": 23159.0, \"is_covid_period\": 1}, {\"date\": \"2021-10-01T00:00:00\", \"unrate\": 4.3, \"unrate_men\": 4.2, \"unrate_women\": 4.4, \"unrate_16_to_17\": 8.6, \"unrate_18_to_19\": 12.7, \"unrate_20_to_24\": 6.8, \"unrate_25_to_34\": 4.5, \"unrate_35_to_44\": 3.6, \"unrate_45_to_54\": 3.5, \"unrate_55_over\": 3.3, \"year\": 2021, \"month\": 10, \"cases\": 4075386.0, \"deaths\": 62800.0, \"is_covid_period\": 1}, {\"date\": \"2021-11-01T00:00:00\", \"unrate\": 3.9, \"unrate_men\": 3.9, \"unrate_women\": 3.9, \"unrate_16_to_17\": 9.7, \"unrate_18_to_19\": 11.0, \"unrate_20_to_24\": 6.6, \"unrate_25_to_34\": 3.8, \"unrate_35_to_44\": 3.6, \"unrate_45_to_54\": 2.8, \"unrate_55_over\": 3.1, \"year\": 2021, \"month\": 11, \"cases\": 2418980.0, \"deaths\": 47314.0, \"is_covid_period\": 1}]}}, {\"mode\": \"vega-lite\"});\n</script>",
      "text/plain": "alt.Chart(...)"
     },
     "metadata": {}
    }
   ]
  },
  {
   "cell_type": "code",
   "metadata": {
    "cell_id": "db8b75ca0e6c4a01b5c1c5377b652670",
    "tags": [],
    "deepnote_to_be_reexecuted": false,
    "source_hash": "a996a838",
    "execution_start": 1654814579072,
    "execution_millis": 63,
    "deepnote_cell_type": "code",
    "deepnote_cell_height": 458,
    "deepnote_output_heights": [
     361
    ]
   },
   "source": "alt.Chart(df[mask]).mark_point().encode(x = 'deaths', y = 'unrate')",
   "execution_count": null,
   "outputs": [
    {
     "output_type": "execute_result",
     "execution_count": 14,
     "data": {
      "text/html": "\n<div id=\"altair-viz-dd21e5d6f7ba416bbee83e4b1012c2cd\"></div>\n<script type=\"text/javascript\">\n  (function(spec, embedOpt){\n    let outputDiv = document.currentScript.previousElementSibling;\n    if (outputDiv.id !== \"altair-viz-dd21e5d6f7ba416bbee83e4b1012c2cd\") {\n      outputDiv = document.getElementById(\"altair-viz-dd21e5d6f7ba416bbee83e4b1012c2cd\");\n    }\n    const paths = {\n      \"vega\": \"https://cdn.jsdelivr.net/npm//vega@5?noext\",\n      \"vega-lib\": \"https://cdn.jsdelivr.net/npm//vega-lib?noext\",\n      \"vega-lite\": \"https://cdn.jsdelivr.net/npm//vega-lite@4.8.1?noext\",\n      \"vega-embed\": \"https://cdn.jsdelivr.net/npm//vega-embed@6?noext\",\n    };\n\n    function loadScript(lib) {\n      return new Promise(function(resolve, reject) {\n        var s = document.createElement('script');\n        s.src = paths[lib];\n        s.async = true;\n        s.onload = () => resolve(paths[lib]);\n        s.onerror = () => reject(`Error loading script: ${paths[lib]}`);\n        document.getElementsByTagName(\"head\")[0].appendChild(s);\n      });\n    }\n\n    function showError(err) {\n      outputDiv.innerHTML = `<div class=\"error\" style=\"color:red;\">${err}</div>`;\n      throw err;\n    }\n\n    function displayChart(vegaEmbed) {\n      vegaEmbed(outputDiv, spec, embedOpt)\n        .catch(err => showError(`Javascript Error: ${err.message}<br>This usually means there's a typo in your chart specification. See the javascript console for the full traceback.`));\n    }\n\n    if(typeof define === \"function\" && define.amd) {\n      requirejs.config({paths});\n      require([\"vega-embed\"], displayChart, err => showError(`Error loading script: ${err.message}`));\n    } else if (typeof vegaEmbed === \"function\") {\n      displayChart(vegaEmbed);\n    } else {\n      loadScript(\"vega\")\n        .then(() => loadScript(\"vega-lite\"))\n        .then(() => loadScript(\"vega-embed\"))\n        .catch(showError)\n        .then(() => displayChart(vegaEmbed));\n    }\n  })({\"config\": {\"view\": {\"continuousWidth\": 400, \"continuousHeight\": 300}}, \"data\": {\"name\": \"data-3f3ca70e412e0c27c781a16efaeb3653\"}, \"mark\": \"point\", \"encoding\": {\"x\": {\"type\": \"quantitative\", \"field\": \"deaths\"}, \"y\": {\"type\": \"quantitative\", \"field\": \"unrate\"}}, \"$schema\": \"https://vega.github.io/schema/vega-lite/v4.8.1.json\", \"datasets\": {\"data-3f3ca70e412e0c27c781a16efaeb3653\": [{\"date\": \"2020-01-01T00:00:00\", \"unrate\": 4.0, \"unrate_men\": 4.2, \"unrate_women\": 3.7, \"unrate_16_to_17\": 11.2, \"unrate_18_to_19\": 14.1, \"unrate_20_to_24\": 7.6, \"unrate_25_to_34\": 4.2, \"unrate_35_to_44\": 3.1, \"unrate_45_to_54\": 2.7, \"unrate_55_over\": 2.9, \"year\": 2020, \"month\": 1, \"cases\": 0.0, \"deaths\": 0.0, \"is_covid_period\": 1}, {\"date\": \"2020-02-01T00:00:00\", \"unrate\": 3.8, \"unrate_men\": 4.1, \"unrate_women\": 3.4, \"unrate_16_to_17\": 9.9, \"unrate_18_to_19\": 12.3, \"unrate_20_to_24\": 6.7, \"unrate_25_to_34\": 4.0, \"unrate_35_to_44\": 3.0, \"unrate_45_to_54\": 2.8, \"unrate_55_over\": 2.8, \"year\": 2020, \"month\": 2, \"cases\": 0.0, \"deaths\": 0.0, \"is_covid_period\": 1}, {\"date\": \"2020-03-01T00:00:00\", \"unrate\": 4.5, \"unrate_men\": 4.8, \"unrate_women\": 4.2, \"unrate_16_to_17\": 16.5, \"unrate_18_to_19\": 12.2, \"unrate_20_to_24\": 8.6, \"unrate_25_to_34\": 4.5, \"unrate_35_to_44\": 3.6, \"unrate_45_to_54\": 3.4, \"unrate_55_over\": 3.5, \"year\": 2020, \"month\": 3, \"cases\": 77.0, \"deaths\": 3.0, \"is_covid_period\": 1}, {\"date\": \"2020-04-01T00:00:00\", \"unrate\": 14.4, \"unrate_men\": 13.3, \"unrate_women\": 15.7, \"unrate_16_to_17\": 30.1, \"unrate_18_to_19\": 33.3, \"unrate_20_to_24\": 25.0, \"unrate_25_to_34\": 14.3, \"unrate_35_to_44\": 11.3, \"unrate_45_to_54\": 12.1, \"unrate_55_over\": 13.4, \"year\": 2020, \"month\": 4, \"cases\": 160074.0, \"deaths\": 3114.0, \"is_covid_period\": 1}, {\"date\": \"2020-05-01T00:00:00\", \"unrate\": 13.0, \"unrate_men\": 11.9, \"unrate_women\": 14.3, \"unrate_16_to_17\": 31.9, \"unrate_18_to_19\": 30.1, \"unrate_20_to_24\": 23.2, \"unrate_25_to_34\": 13.1, \"unrate_35_to_44\": 9.8, \"unrate_45_to_54\": 10.4, \"unrate_55_over\": 11.5, \"year\": 2020, \"month\": 5, \"cases\": 767280.0, \"deaths\": 43435.0, \"is_covid_period\": 1}, {\"date\": \"2020-06-01T00:00:00\", \"unrate\": 11.2, \"unrate_men\": 10.5, \"unrate_women\": 12.0, \"unrate_16_to_17\": 27.2, \"unrate_18_to_19\": 22.9, \"unrate_20_to_24\": 20.1, \"unrate_25_to_34\": 11.7, \"unrate_35_to_44\": 8.9, \"unrate_45_to_54\": 8.3, \"unrate_55_over\": 9.7, \"year\": 2020, \"month\": 6, \"cases\": 673076.0, \"deaths\": 37030.0, \"is_covid_period\": 1}, {\"date\": \"2020-07-01T00:00:00\", \"unrate\": 10.5, \"unrate_men\": 9.7, \"unrate_women\": 11.3, \"unrate_16_to_17\": 19.6, \"unrate_18_to_19\": 18.8, \"unrate_20_to_24\": 18.2, \"unrate_25_to_34\": 11.5, \"unrate_35_to_44\": 8.2, \"unrate_45_to_54\": 8.0, \"unrate_55_over\": 9.0, \"year\": 2020, \"month\": 7, \"cases\": 861016.0, \"deaths\": 21304.0, \"is_covid_period\": 1}, {\"date\": \"2020-08-01T00:00:00\", \"unrate\": 8.5, \"unrate_men\": 8.0, \"unrate_women\": 9.1, \"unrate_16_to_17\": 13.3, \"unrate_18_to_19\": 17.4, \"unrate_20_to_24\": 13.7, \"unrate_25_to_34\": 9.8, \"unrate_35_to_44\": 6.5, \"unrate_45_to_54\": 6.4, \"unrate_55_over\": 7.8, \"year\": 2020, \"month\": 8, \"cases\": 1898279.0, \"deaths\": 26297.0, \"is_covid_period\": 1}, {\"date\": \"2020-09-01T00:00:00\", \"unrate\": 7.7, \"unrate_men\": 7.3, \"unrate_women\": 8.0, \"unrate_16_to_17\": 14.8, \"unrate_18_to_19\": 16.8, \"unrate_20_to_24\": 12.4, \"unrate_25_to_34\": 8.4, \"unrate_35_to_44\": 6.1, \"unrate_45_to_54\": 6.2, \"unrate_55_over\": 6.6, \"year\": 2020, \"month\": 9, \"cases\": 1427776.0, \"deaths\": 28617.0, \"is_covid_period\": 1}, {\"date\": \"2020-10-01T00:00:00\", \"unrate\": 6.6, \"unrate_men\": 6.6, \"unrate_women\": 6.5, \"unrate_16_to_17\": 11.6, \"unrate_18_to_19\": 14.0, \"unrate_20_to_24\": 10.5, \"unrate_25_to_34\": 7.1, \"unrate_35_to_44\": 5.6, \"unrate_45_to_54\": 5.7, \"unrate_55_over\": 5.2, \"year\": 2020, \"month\": 10, \"cases\": 1189873.0, \"deaths\": 22680.0, \"is_covid_period\": 1}, {\"date\": \"2020-11-01T00:00:00\", \"unrate\": 6.4, \"unrate_men\": 6.6, \"unrate_women\": 6.1, \"unrate_16_to_17\": 13.9, \"unrate_18_to_19\": 12.8, \"unrate_20_to_24\": 9.9, \"unrate_25_to_34\": 6.7, \"unrate_35_to_44\": 5.4, \"unrate_45_to_54\": 5.2, \"unrate_55_over\": 5.7, \"year\": 2020, \"month\": 11, \"cases\": 1918525.0, \"deaths\": 22674.0, \"is_covid_period\": 1}, {\"date\": \"2020-12-01T00:00:00\", \"unrate\": 6.5, \"unrate_men\": 6.7, \"unrate_women\": 6.3, \"unrate_16_to_17\": 11.8, \"unrate_18_to_19\": 15.3, \"unrate_20_to_24\": 10.6, \"unrate_25_to_34\": 6.4, \"unrate_35_to_44\": 5.5, \"unrate_45_to_54\": 5.3, \"unrate_55_over\": 5.8, \"year\": 2020, \"month\": 12, \"cases\": 4423135.0, \"deaths\": 39331.0, \"is_covid_period\": 1}, {\"date\": \"2021-01-01T00:00:00\", \"unrate\": 6.8, \"unrate_men\": 7.1, \"unrate_women\": 6.5, \"unrate_16_to_17\": 15.2, \"unrate_18_to_19\": 15.9, \"unrate_20_to_24\": 10.8, \"unrate_25_to_34\": 7.2, \"unrate_35_to_44\": 6.1, \"unrate_45_to_54\": 5.2, \"unrate_55_over\": 5.6, \"year\": 2021, \"month\": 1, \"cases\": 6208462.0, \"deaths\": 75431.0, \"is_covid_period\": 1}, {\"date\": \"2021-02-01T00:00:00\", \"unrate\": 6.6, \"unrate_men\": 7.0, \"unrate_women\": 6.1, \"unrate_16_to_17\": 14.5, \"unrate_18_to_19\": 14.0, \"unrate_20_to_24\": 10.0, \"unrate_25_to_34\": 6.7, \"unrate_35_to_44\": 6.0, \"unrate_45_to_54\": 5.2, \"unrate_55_over\": 5.6, \"year\": 2021, \"month\": 2, \"cases\": 5973365.0, \"deaths\": 92418.0, \"is_covid_period\": 1}, {\"date\": \"2021-03-01T00:00:00\", \"unrate\": 6.2, \"unrate_men\": 6.5, \"unrate_women\": 5.8, \"unrate_16_to_17\": 12.0, \"unrate_18_to_19\": 12.7, \"unrate_20_to_24\": 10.4, \"unrate_25_to_34\": 7.0, \"unrate_35_to_44\": 5.4, \"unrate_45_to_54\": 4.7, \"unrate_55_over\": 4.8, \"year\": 2021, \"month\": 3, \"cases\": 2195239.0, \"deaths\": 68218.0, \"is_covid_period\": 1}, {\"date\": \"2021-04-01T00:00:00\", \"unrate\": 5.7, \"unrate_men\": 6.0, \"unrate_women\": 5.4, \"unrate_16_to_17\": 10.5, \"unrate_18_to_19\": 10.9, \"unrate_20_to_24\": 9.8, \"unrate_25_to_34\": 6.2, \"unrate_35_to_44\": 4.7, \"unrate_45_to_54\": 4.7, \"unrate_55_over\": 4.8, \"year\": 2021, \"month\": 4, \"cases\": 1733107.0, \"deaths\": 36249.0, \"is_covid_period\": 1}, {\"date\": \"2021-05-01T00:00:00\", \"unrate\": 5.5, \"unrate_men\": 5.7, \"unrate_women\": 5.2, \"unrate_16_to_17\": 9.2, \"unrate_18_to_19\": 9.7, \"unrate_20_to_24\": 10.3, \"unrate_25_to_34\": 5.5, \"unrate_35_to_44\": 4.7, \"unrate_45_to_54\": 4.5, \"unrate_55_over\": 4.6, \"year\": 2021, \"month\": 5, \"cases\": 1739825.0, \"deaths\": 23117.0, \"is_covid_period\": 1}, {\"date\": \"2021-06-01T00:00:00\", \"unrate\": 6.1, \"unrate_men\": 6.1, \"unrate_women\": 6.1, \"unrate_16_to_17\": 15.0, \"unrate_18_to_19\": 12.3, \"unrate_20_to_24\": 9.9, \"unrate_25_to_34\": 6.5, \"unrate_35_to_44\": 5.2, \"unrate_45_to_54\": 4.6, \"unrate_55_over\": 5.0, \"year\": 2021, \"month\": 6, \"cases\": 863748.0, \"deaths\": 17604.0, \"is_covid_period\": 1}, {\"date\": \"2021-07-01T00:00:00\", \"unrate\": 5.7, \"unrate_men\": 5.5, \"unrate_women\": 5.8, \"unrate_16_to_17\": 12.8, \"unrate_18_to_19\": 9.9, \"unrate_20_to_24\": 9.5, \"unrate_25_to_34\": 6.3, \"unrate_35_to_44\": 4.8, \"unrate_45_to_54\": 4.0, \"unrate_55_over\": 4.6, \"year\": 2021, \"month\": 7, \"cases\": 357445.0, \"deaths\": 8692.0, \"is_covid_period\": 1}, {\"date\": \"2021-08-01T00:00:00\", \"unrate\": 5.3, \"unrate_men\": 5.1, \"unrate_women\": 5.5, \"unrate_16_to_17\": 10.7, \"unrate_18_to_19\": 11.0, \"unrate_20_to_24\": 9.1, \"unrate_25_to_34\": 5.8, \"unrate_35_to_44\": 4.4, \"unrate_45_to_54\": 4.2, \"unrate_55_over\": 4.1, \"year\": 2021, \"month\": 8, \"cases\": 1338242.0, \"deaths\": 6896.0, \"is_covid_period\": 1}, {\"date\": \"2021-09-01T00:00:00\", \"unrate\": 4.6, \"unrate_men\": 4.6, \"unrate_women\": 4.5, \"unrate_16_to_17\": 9.2, \"unrate_18_to_19\": 12.6, \"unrate_20_to_24\": 7.7, \"unrate_25_to_34\": 5.0, \"unrate_35_to_44\": 3.8, \"unrate_45_to_54\": 3.7, \"unrate_55_over\": 3.3, \"year\": 2021, \"month\": 9, \"cases\": 4292027.0, \"deaths\": 23159.0, \"is_covid_period\": 1}, {\"date\": \"2021-10-01T00:00:00\", \"unrate\": 4.3, \"unrate_men\": 4.2, \"unrate_women\": 4.4, \"unrate_16_to_17\": 8.6, \"unrate_18_to_19\": 12.7, \"unrate_20_to_24\": 6.8, \"unrate_25_to_34\": 4.5, \"unrate_35_to_44\": 3.6, \"unrate_45_to_54\": 3.5, \"unrate_55_over\": 3.3, \"year\": 2021, \"month\": 10, \"cases\": 4075386.0, \"deaths\": 62800.0, \"is_covid_period\": 1}, {\"date\": \"2021-11-01T00:00:00\", \"unrate\": 3.9, \"unrate_men\": 3.9, \"unrate_women\": 3.9, \"unrate_16_to_17\": 9.7, \"unrate_18_to_19\": 11.0, \"unrate_20_to_24\": 6.6, \"unrate_25_to_34\": 3.8, \"unrate_35_to_44\": 3.6, \"unrate_45_to_54\": 2.8, \"unrate_55_over\": 3.1, \"year\": 2021, \"month\": 11, \"cases\": 2418980.0, \"deaths\": 47314.0, \"is_covid_period\": 1}]}}, {\"mode\": \"vega-lite\"});\n</script>",
      "text/plain": "alt.Chart(...)"
     },
     "metadata": {}
    }
   ]
  },
  {
   "cell_type": "markdown",
   "source": "* The second Altair Chart is with multi-line tooltip function. That is to say, if the mouse is stayed in the chart, the chart will automatically display the neearest point from the mouse to present the according `unrate` value. ",
   "metadata": {
    "cell_id": "24656b78fa144518a4e97616347e321e",
    "tags": [],
    "deepnote_cell_type": "markdown",
    "deepnote_cell_height": 91.796875
   }
  },
  {
   "cell_type": "code",
   "metadata": {
    "cell_id": "744961d051684f969a25978527e87401",
    "tags": [],
    "deepnote_to_be_reexecuted": false,
    "source_hash": "b24da8ba",
    "execution_start": 1654814579202,
    "execution_millis": 74,
    "deepnote_cell_type": "code",
    "deepnote_cell_height": 1296,
    "deepnote_output_heights": [
     461
    ]
   },
   "source": "# Create a selection that chooses the nearest point & selects based on x-value\nnearest = alt.selection(type='single', nearest=True, on='mouseover',\n                        fields=['unrate'], empty='none')\n\n# The basic line\nline = alt.Chart(df).mark_line(interpolate='basis').encode(\n    x='cases:Q',\n    y='unrate:Q',\n    color='year:N'\n)\n\n# Transparent selectors across the chart\nselectors = alt.Chart(df).mark_point().encode(\n    x='cases:Q',\n    opacity=alt.value(0),\n).add_selection(\n    nearest\n)\n\n# Draw points on the line\npoints = line.mark_point().encode(\n    opacity=alt.condition(nearest, alt.value(1), alt.value(0))\n)\n\n# Draw text labels near the points\ntext = line.mark_text(align='left', dx=5, dy=-5).encode(\n    text=alt.condition(nearest, 'unrate:Q', alt.value(' '))\n)\n\n# Draw a rule at the location of the selection\nrules = alt.Chart(df).mark_rule(color='gray').encode(\n    x='cases:Q',\n).transform_filter(\n    nearest\n)\n\n# Put the five layers into a chart and bind the data\nalt.layer(\n    line, selectors, points, rules, text\n).properties(\n    width=600, height=400\n)",
   "execution_count": null,
   "outputs": [
    {
     "output_type": "execute_result",
     "execution_count": 15,
     "data": {
      "text/html": "\n<div id=\"altair-viz-a507a193e7804f8090386957e1f57bdf\"></div>\n<script type=\"text/javascript\">\n  (function(spec, embedOpt){\n    let outputDiv = document.currentScript.previousElementSibling;\n    if (outputDiv.id !== \"altair-viz-a507a193e7804f8090386957e1f57bdf\") {\n      outputDiv = document.getElementById(\"altair-viz-a507a193e7804f8090386957e1f57bdf\");\n    }\n    const paths = {\n      \"vega\": \"https://cdn.jsdelivr.net/npm//vega@5?noext\",\n      \"vega-lib\": \"https://cdn.jsdelivr.net/npm//vega-lib?noext\",\n      \"vega-lite\": \"https://cdn.jsdelivr.net/npm//vega-lite@4.8.1?noext\",\n      \"vega-embed\": \"https://cdn.jsdelivr.net/npm//vega-embed@6?noext\",\n    };\n\n    function loadScript(lib) {\n      return new Promise(function(resolve, reject) {\n        var s = document.createElement('script');\n        s.src = paths[lib];\n        s.async = true;\n        s.onload = () => resolve(paths[lib]);\n        s.onerror = () => reject(`Error loading script: ${paths[lib]}`);\n        document.getElementsByTagName(\"head\")[0].appendChild(s);\n      });\n    }\n\n    function showError(err) {\n      outputDiv.innerHTML = `<div class=\"error\" style=\"color:red;\">${err}</div>`;\n      throw err;\n    }\n\n    function displayChart(vegaEmbed) {\n      vegaEmbed(outputDiv, spec, embedOpt)\n        .catch(err => showError(`Javascript Error: ${err.message}<br>This usually means there's a typo in your chart specification. See the javascript console for the full traceback.`));\n    }\n\n    if(typeof define === \"function\" && define.amd) {\n      requirejs.config({paths});\n      require([\"vega-embed\"], displayChart, err => showError(`Error loading script: ${err.message}`));\n    } else if (typeof vegaEmbed === \"function\") {\n      displayChart(vegaEmbed);\n    } else {\n      loadScript(\"vega\")\n        .then(() => loadScript(\"vega-lite\"))\n        .then(() => loadScript(\"vega-embed\"))\n        .catch(showError)\n        .then(() => displayChart(vegaEmbed));\n    }\n  })({\"config\": {\"view\": {\"continuousWidth\": 400, \"continuousHeight\": 300}}, \"layer\": [{\"mark\": {\"type\": \"line\", \"interpolate\": \"basis\"}, \"encoding\": {\"color\": {\"type\": \"nominal\", \"field\": \"year\"}, \"x\": {\"type\": \"quantitative\", \"field\": \"cases\"}, \"y\": {\"type\": \"quantitative\", \"field\": \"unrate\"}}}, {\"mark\": \"point\", \"encoding\": {\"opacity\": {\"value\": 0}, \"x\": {\"type\": \"quantitative\", \"field\": \"cases\"}}, \"selection\": {\"selector001\": {\"type\": \"single\", \"nearest\": true, \"on\": \"mouseover\", \"fields\": [\"unrate\"], \"empty\": \"none\"}}}, {\"mark\": \"point\", \"encoding\": {\"color\": {\"type\": \"nominal\", \"field\": \"year\"}, \"opacity\": {\"condition\": {\"value\": 1, \"selection\": \"selector001\"}, \"value\": 0}, \"x\": {\"type\": \"quantitative\", \"field\": \"cases\"}, \"y\": {\"type\": \"quantitative\", \"field\": \"unrate\"}}}, {\"mark\": {\"type\": \"rule\", \"color\": \"gray\"}, \"encoding\": {\"x\": {\"type\": \"quantitative\", \"field\": \"cases\"}}, \"transform\": [{\"filter\": {\"selection\": \"selector001\"}}]}, {\"mark\": {\"type\": \"text\", \"align\": \"left\", \"dx\": 5, \"dy\": -5}, \"encoding\": {\"color\": {\"type\": \"nominal\", \"field\": \"year\"}, \"text\": {\"condition\": {\"type\": \"quantitative\", \"field\": \"unrate\", \"selection\": \"selector001\"}, \"value\": \" \"}, \"x\": {\"type\": \"quantitative\", \"field\": \"cases\"}, \"y\": {\"type\": \"quantitative\", \"field\": \"unrate\"}}}], \"data\": {\"name\": \"data-17fcc358392d2aa9529e488cd5fae278\"}, \"height\": 400, \"width\": 600, \"$schema\": \"https://vega.github.io/schema/vega-lite/v4.8.1.json\", \"datasets\": {\"data-17fcc358392d2aa9529e488cd5fae278\": [{\"date\": \"2016-12-01T00:00:00\", \"unrate\": 4.5, \"unrate_men\": 4.8, \"unrate_women\": 4.1, \"unrate_16_to_17\": 15.0, \"unrate_18_to_19\": 11.5, \"unrate_20_to_24\": 7.6, \"unrate_25_to_34\": 4.6, \"unrate_35_to_44\": 4.0, \"unrate_45_to_54\": 3.3, \"unrate_55_over\": 3.5, \"year\": 2016, \"month\": 12, \"cases\": 0.0, \"deaths\": 0.0, \"is_covid_period\": 0}, {\"date\": \"2017-01-01T00:00:00\", \"unrate\": 5.1, \"unrate_men\": 5.4, \"unrate_women\": 4.9, \"unrate_16_to_17\": 15.2, \"unrate_18_to_19\": 15.5, \"unrate_20_to_24\": 9.0, \"unrate_25_to_34\": 5.4, \"unrate_35_to_44\": 4.4, \"unrate_45_to_54\": 3.6, \"unrate_55_over\": 3.8, \"year\": 2017, \"month\": 1, \"cases\": 0.0, \"deaths\": 0.0, \"is_covid_period\": 0}, {\"date\": \"2017-02-01T00:00:00\", \"unrate\": 4.9, \"unrate_men\": 5.3, \"unrate_women\": 4.6, \"unrate_16_to_17\": 17.4, \"unrate_18_to_19\": 13.5, \"unrate_20_to_24\": 8.4, \"unrate_25_to_34\": 5.1, \"unrate_35_to_44\": 4.5, \"unrate_45_to_54\": 3.5, \"unrate_55_over\": 3.7, \"year\": 2017, \"month\": 2, \"cases\": 0.0, \"deaths\": 0.0, \"is_covid_period\": 0}, {\"date\": \"2017-03-01T00:00:00\", \"unrate\": 4.6, \"unrate_men\": 4.9, \"unrate_women\": 4.1, \"unrate_16_to_17\": 17.1, \"unrate_18_to_19\": 10.8, \"unrate_20_to_24\": 7.3, \"unrate_25_to_34\": 4.7, \"unrate_35_to_44\": 4.1, \"unrate_45_to_54\": 3.4, \"unrate_55_over\": 3.5, \"year\": 2017, \"month\": 3, \"cases\": 0.0, \"deaths\": 0.0, \"is_covid_period\": 0}, {\"date\": \"2017-04-01T00:00:00\", \"unrate\": 4.1, \"unrate_men\": 4.1, \"unrate_women\": 4.1, \"unrate_16_to_17\": 17.3, \"unrate_18_to_19\": 11.1, \"unrate_20_to_24\": 6.7, \"unrate_25_to_34\": 4.1, \"unrate_35_to_44\": 3.4, \"unrate_45_to_54\": 3.2, \"unrate_55_over\": 3.0, \"year\": 2017, \"month\": 4, \"cases\": 0.0, \"deaths\": 0.0, \"is_covid_period\": 0}, {\"date\": \"2017-05-01T00:00:00\", \"unrate\": 4.1, \"unrate_men\": 4.0, \"unrate_women\": 4.2, \"unrate_16_to_17\": 13.7, \"unrate_18_to_19\": 14.6, \"unrate_20_to_24\": 6.6, \"unrate_25_to_34\": 4.6, \"unrate_35_to_44\": 3.1, \"unrate_45_to_54\": 3.0, \"unrate_55_over\": 2.8, \"year\": 2017, \"month\": 5, \"cases\": 0.0, \"deaths\": 0.0, \"is_covid_period\": 0}, {\"date\": \"2017-06-01T00:00:00\", \"unrate\": 4.5, \"unrate_men\": 4.4, \"unrate_women\": 4.7, \"unrate_16_to_17\": 17.7, \"unrate_18_to_19\": 14.9, \"unrate_20_to_24\": 8.0, \"unrate_25_to_34\": 4.3, \"unrate_35_to_44\": 3.2, \"unrate_45_to_54\": 3.4, \"unrate_55_over\": 3.1, \"year\": 2017, \"month\": 6, \"cases\": 0.0, \"deaths\": 0.0, \"is_covid_period\": 0}, {\"date\": \"2017-07-01T00:00:00\", \"unrate\": 4.6, \"unrate_men\": 4.3, \"unrate_women\": 4.9, \"unrate_16_to_17\": 17.2, \"unrate_18_to_19\": 11.4, \"unrate_20_to_24\": 7.8, \"unrate_25_to_34\": 4.7, \"unrate_35_to_44\": 3.6, \"unrate_45_to_54\": 3.3, \"unrate_55_over\": 3.4, \"year\": 2017, \"month\": 7, \"cases\": 0.0, \"deaths\": 0.0, \"is_covid_period\": 0}, {\"date\": \"2017-08-01T00:00:00\", \"unrate\": 4.5, \"unrate_men\": 4.3, \"unrate_women\": 4.8, \"unrate_16_to_17\": 14.1, \"unrate_18_to_19\": 13.2, \"unrate_20_to_24\": 6.9, \"unrate_25_to_34\": 5.0, \"unrate_35_to_44\": 3.4, \"unrate_45_to_54\": 3.7, \"unrate_55_over\": 3.3, \"year\": 2017, \"month\": 8, \"cases\": 0.0, \"deaths\": 0.0, \"is_covid_period\": 0}, {\"date\": \"2017-09-01T00:00:00\", \"unrate\": 4.1, \"unrate_men\": 4.0, \"unrate_women\": 4.2, \"unrate_16_to_17\": 11.3, \"unrate_18_to_19\": 13.7, \"unrate_20_to_24\": 7.5, \"unrate_25_to_34\": 4.2, \"unrate_35_to_44\": 3.1, \"unrate_45_to_54\": 2.9, \"unrate_55_over\": 3.1, \"year\": 2017, \"month\": 9, \"cases\": 0.0, \"deaths\": 0.0, \"is_covid_period\": 0}, {\"date\": \"2017-10-01T00:00:00\", \"unrate\": 3.9, \"unrate_men\": 3.9, \"unrate_women\": 3.8, \"unrate_16_to_17\": 13.8, \"unrate_18_to_19\": 13.2, \"unrate_20_to_24\": 7.0, \"unrate_25_to_34\": 4.3, \"unrate_35_to_44\": 2.9, \"unrate_45_to_54\": 2.5, \"unrate_55_over\": 2.9, \"year\": 2017, \"month\": 10, \"cases\": 0.0, \"deaths\": 0.0, \"is_covid_period\": 0}, {\"date\": \"2017-11-01T00:00:00\", \"unrate\": 3.9, \"unrate_men\": 4.0, \"unrate_women\": 3.8, \"unrate_16_to_17\": 17.9, \"unrate_18_to_19\": 14.2, \"unrate_20_to_24\": 6.6, \"unrate_25_to_34\": 4.1, \"unrate_35_to_44\": 2.9, \"unrate_45_to_54\": 2.5, \"unrate_55_over\": 3.0, \"year\": 2017, \"month\": 11, \"cases\": 0.0, \"deaths\": 0.0, \"is_covid_period\": 0}, {\"date\": \"2017-12-01T00:00:00\", \"unrate\": 3.9, \"unrate_men\": 4.2, \"unrate_women\": 3.7, \"unrate_16_to_17\": 12.9, \"unrate_18_to_19\": 11.3, \"unrate_20_to_24\": 6.7, \"unrate_25_to_34\": 4.3, \"unrate_35_to_44\": 3.0, \"unrate_45_to_54\": 2.7, \"unrate_55_over\": 3.2, \"year\": 2017, \"month\": 12, \"cases\": 0.0, \"deaths\": 0.0, \"is_covid_period\": 0}, {\"date\": \"2018-01-01T00:00:00\", \"unrate\": 4.5, \"unrate_men\": 4.8, \"unrate_women\": 4.2, \"unrate_16_to_17\": 14.6, \"unrate_18_to_19\": 14.5, \"unrate_20_to_24\": 8.2, \"unrate_25_to_34\": 4.7, \"unrate_35_to_44\": 3.5, \"unrate_45_to_54\": 3.3, \"unrate_55_over\": 3.3, \"year\": 2018, \"month\": 1, \"cases\": 0.0, \"deaths\": 0.0, \"is_covid_period\": 0}, {\"date\": \"2018-02-01T00:00:00\", \"unrate\": 4.4, \"unrate_men\": 4.6, \"unrate_women\": 4.1, \"unrate_16_to_17\": 15.8, \"unrate_18_to_19\": 14.0, \"unrate_20_to_24\": 7.2, \"unrate_25_to_34\": 4.6, \"unrate_35_to_44\": 3.4, \"unrate_45_to_54\": 3.1, \"unrate_55_over\": 3.5, \"year\": 2018, \"month\": 2, \"cases\": 0.0, \"deaths\": 0.0, \"is_covid_period\": 0}, {\"date\": \"2018-03-01T00:00:00\", \"unrate\": 4.1, \"unrate_men\": 4.4, \"unrate_women\": 3.8, \"unrate_16_to_17\": 15.0, \"unrate_18_to_19\": 11.5, \"unrate_20_to_24\": 6.5, \"unrate_25_to_34\": 4.3, \"unrate_35_to_44\": 3.4, \"unrate_45_to_54\": 3.1, \"unrate_55_over\": 3.3, \"year\": 2018, \"month\": 3, \"cases\": 0.0, \"deaths\": 0.0, \"is_covid_period\": 0}, {\"date\": \"2018-04-01T00:00:00\", \"unrate\": 3.7, \"unrate_men\": 3.9, \"unrate_women\": 3.4, \"unrate_16_to_17\": 14.3, \"unrate_18_to_19\": 10.3, \"unrate_20_to_24\": 6.1, \"unrate_25_to_34\": 4.1, \"unrate_35_to_44\": 2.8, \"unrate_45_to_54\": 2.7, \"unrate_55_over\": 2.8, \"year\": 2018, \"month\": 4, \"cases\": 0.0, \"deaths\": 0.0, \"is_covid_period\": 0}, {\"date\": \"2018-05-01T00:00:00\", \"unrate\": 3.6, \"unrate_men\": 3.7, \"unrate_women\": 3.4, \"unrate_16_to_17\": 15.0, \"unrate_18_to_19\": 11.8, \"unrate_20_to_24\": 7.0, \"unrate_25_to_34\": 3.6, \"unrate_35_to_44\": 2.6, \"unrate_45_to_54\": 2.5, \"unrate_55_over\": 2.5, \"year\": 2018, \"month\": 5, \"cases\": 0.0, \"deaths\": 0.0, \"is_covid_period\": 0}, {\"date\": \"2018-06-01T00:00:00\", \"unrate\": 4.2, \"unrate_men\": 4.1, \"unrate_women\": 4.2, \"unrate_16_to_17\": 17.8, \"unrate_18_to_19\": 13.2, \"unrate_20_to_24\": 8.1, \"unrate_25_to_34\": 3.9, \"unrate_35_to_44\": 2.9, \"unrate_45_to_54\": 3.0, \"unrate_55_over\": 3.0, \"year\": 2018, \"month\": 6, \"cases\": 0.0, \"deaths\": 0.0, \"is_covid_period\": 0}, {\"date\": \"2018-07-01T00:00:00\", \"unrate\": 4.1, \"unrate_men\": 3.8, \"unrate_women\": 4.5, \"unrate_16_to_17\": 14.6, \"unrate_18_to_19\": 12.8, \"unrate_20_to_24\": 7.3, \"unrate_25_to_34\": 3.6, \"unrate_35_to_44\": 3.1, \"unrate_45_to_54\": 3.1, \"unrate_55_over\": 3.3, \"year\": 2018, \"month\": 7, \"cases\": 0.0, \"deaths\": 0.0, \"is_covid_period\": 0}, {\"date\": \"2018-08-01T00:00:00\", \"unrate\": 3.9, \"unrate_men\": 3.7, \"unrate_women\": 4.3, \"unrate_16_to_17\": 12.4, \"unrate_18_to_19\": 12.3, \"unrate_20_to_24\": 6.5, \"unrate_25_to_34\": 4.3, \"unrate_35_to_44\": 2.9, \"unrate_45_to_54\": 2.7, \"unrate_55_over\": 3.2, \"year\": 2018, \"month\": 8, \"cases\": 0.0, \"deaths\": 0.0, \"is_covid_period\": 0}, {\"date\": \"2018-09-01T00:00:00\", \"unrate\": 3.6, \"unrate_men\": 3.5, \"unrate_women\": 3.6, \"unrate_16_to_17\": 11.4, \"unrate_18_to_19\": 12.9, \"unrate_20_to_24\": 6.9, \"unrate_25_to_34\": 3.3, \"unrate_35_to_44\": 2.8, \"unrate_45_to_54\": 2.5, \"unrate_55_over\": 2.8, \"year\": 2018, \"month\": 9, \"cases\": 0.0, \"deaths\": 0.0, \"is_covid_period\": 0}, {\"date\": \"2018-10-01T00:00:00\", \"unrate\": 3.5, \"unrate_men\": 3.5, \"unrate_women\": 3.6, \"unrate_16_to_17\": 9.3, \"unrate_18_to_19\": 13.0, \"unrate_20_to_24\": 6.6, \"unrate_25_to_34\": 3.6, \"unrate_35_to_44\": 2.8, \"unrate_45_to_54\": 2.5, \"unrate_55_over\": 2.6, \"year\": 2018, \"month\": 10, \"cases\": 0.0, \"deaths\": 0.0, \"is_covid_period\": 0}, {\"date\": \"2018-11-01T00:00:00\", \"unrate\": 3.5, \"unrate_men\": 3.4, \"unrate_women\": 3.5, \"unrate_16_to_17\": 12.8, \"unrate_18_to_19\": 11.4, \"unrate_20_to_24\": 6.0, \"unrate_25_to_34\": 3.5, \"unrate_35_to_44\": 2.7, \"unrate_45_to_54\": 2.4, \"unrate_55_over\": 2.8, \"year\": 2018, \"month\": 11, \"cases\": 0.0, \"deaths\": 0.0, \"is_covid_period\": 0}, {\"date\": \"2018-12-01T00:00:00\", \"unrate\": 3.7, \"unrate_men\": 4.0, \"unrate_women\": 3.4, \"unrate_16_to_17\": 12.0, \"unrate_18_to_19\": 10.4, \"unrate_20_to_24\": 6.8, \"unrate_25_to_34\": 3.9, \"unrate_35_to_44\": 2.8, \"unrate_45_to_54\": 2.9, \"unrate_55_over\": 2.8, \"year\": 2018, \"month\": 12, \"cases\": 0.0, \"deaths\": 0.0, \"is_covid_period\": 0}, {\"date\": \"2019-01-01T00:00:00\", \"unrate\": 4.4, \"unrate_men\": 4.7, \"unrate_women\": 4.1, \"unrate_16_to_17\": 14.6, \"unrate_18_to_19\": 13.3, \"unrate_20_to_24\": 8.6, \"unrate_25_to_34\": 4.4, \"unrate_35_to_44\": 3.3, \"unrate_45_to_54\": 3.3, \"unrate_55_over\": 3.5, \"year\": 2019, \"month\": 1, \"cases\": 0.0, \"deaths\": 0.0, \"is_covid_period\": 0}, {\"date\": \"2019-02-01T00:00:00\", \"unrate\": 4.1, \"unrate_men\": 4.4, \"unrate_women\": 3.8, \"unrate_16_to_17\": 17.0, \"unrate_18_to_19\": 12.5, \"unrate_20_to_24\": 7.5, \"unrate_25_to_34\": 4.4, \"unrate_35_to_44\": 2.9, \"unrate_45_to_54\": 3.1, \"unrate_55_over\": 2.9, \"year\": 2019, \"month\": 2, \"cases\": 0.0, \"deaths\": 0.0, \"is_covid_period\": 0}, {\"date\": \"2019-03-01T00:00:00\", \"unrate\": 3.9, \"unrate_men\": 4.3, \"unrate_women\": 3.5, \"unrate_16_to_17\": 12.9, \"unrate_18_to_19\": 11.8, \"unrate_20_to_24\": 7.1, \"unrate_25_to_34\": 4.1, \"unrate_35_to_44\": 3.0, \"unrate_45_to_54\": 3.1, \"unrate_55_over\": 2.8, \"year\": 2019, \"month\": 3, \"cases\": 0.0, \"deaths\": 0.0, \"is_covid_period\": 0}, {\"date\": \"2019-04-01T00:00:00\", \"unrate\": 3.3, \"unrate_men\": 3.6, \"unrate_women\": 3.1, \"unrate_16_to_17\": 14.3, \"unrate_18_to_19\": 10.6, \"unrate_20_to_24\": 5.8, \"unrate_25_to_34\": 3.6, \"unrate_35_to_44\": 2.5, \"unrate_45_to_54\": 2.4, \"unrate_55_over\": 2.4, \"year\": 2019, \"month\": 4, \"cases\": 0.0, \"deaths\": 0.0, \"is_covid_period\": 0}, {\"date\": \"2019-05-01T00:00:00\", \"unrate\": 3.4, \"unrate_men\": 3.4, \"unrate_women\": 3.3, \"unrate_16_to_17\": 14.4, \"unrate_18_to_19\": 12.0, \"unrate_20_to_24\": 7.0, \"unrate_25_to_34\": 3.2, \"unrate_35_to_44\": 2.4, \"unrate_45_to_54\": 2.3, \"unrate_55_over\": 2.5, \"year\": 2019, \"month\": 5, \"cases\": 0.0, \"deaths\": 0.0, \"is_covid_period\": 0}, {\"date\": \"2019-06-01T00:00:00\", \"unrate\": 3.8, \"unrate_men\": 3.7, \"unrate_women\": 4.0, \"unrate_16_to_17\": 18.4, \"unrate_18_to_19\": 13.1, \"unrate_20_to_24\": 6.8, \"unrate_25_to_34\": 3.5, \"unrate_35_to_44\": 2.7, \"unrate_45_to_54\": 2.7, \"unrate_55_over\": 2.9, \"year\": 2019, \"month\": 6, \"cases\": 0.0, \"deaths\": 0.0, \"is_covid_period\": 0}, {\"date\": \"2019-07-01T00:00:00\", \"unrate\": 4.0, \"unrate_men\": 3.7, \"unrate_women\": 4.3, \"unrate_16_to_17\": 17.1, \"unrate_18_to_19\": 11.2, \"unrate_20_to_24\": 7.1, \"unrate_25_to_34\": 3.8, \"unrate_35_to_44\": 2.9, \"unrate_45_to_54\": 2.9, \"unrate_55_over\": 2.9, \"year\": 2019, \"month\": 7, \"cases\": 0.0, \"deaths\": 0.0, \"is_covid_period\": 0}, {\"date\": \"2019-08-01T00:00:00\", \"unrate\": 3.8, \"unrate_men\": 3.5, \"unrate_women\": 4.1, \"unrate_16_to_17\": 11.7, \"unrate_18_to_19\": 12.3, \"unrate_20_to_24\": 6.8, \"unrate_25_to_34\": 3.8, \"unrate_35_to_44\": 2.8, \"unrate_45_to_54\": 3.0, \"unrate_55_over\": 2.7, \"year\": 2019, \"month\": 8, \"cases\": 0.0, \"deaths\": 0.0, \"is_covid_period\": 0}, {\"date\": \"2019-09-01T00:00:00\", \"unrate\": 3.3, \"unrate_men\": 3.3, \"unrate_women\": 3.4, \"unrate_16_to_17\": 10.5, \"unrate_18_to_19\": 13.1, \"unrate_20_to_24\": 6.2, \"unrate_25_to_34\": 3.3, \"unrate_35_to_44\": 2.5, \"unrate_45_to_54\": 2.6, \"unrate_55_over\": 2.3, \"year\": 2019, \"month\": 9, \"cases\": 0.0, \"deaths\": 0.0, \"is_covid_period\": 0}, {\"date\": \"2019-10-01T00:00:00\", \"unrate\": 3.3, \"unrate_men\": 3.3, \"unrate_women\": 3.3, \"unrate_16_to_17\": 12.3, \"unrate_18_to_19\": 11.3, \"unrate_20_to_24\": 6.0, \"unrate_25_to_34\": 3.6, \"unrate_35_to_44\": 2.5, \"unrate_45_to_54\": 2.3, \"unrate_55_over\": 2.4, \"year\": 2019, \"month\": 10, \"cases\": 0.0, \"deaths\": 0.0, \"is_covid_period\": 0}, {\"date\": \"2019-11-01T00:00:00\", \"unrate\": 3.3, \"unrate_men\": 3.3, \"unrate_women\": 3.3, \"unrate_16_to_17\": 12.0, \"unrate_18_to_19\": 11.4, \"unrate_20_to_24\": 5.9, \"unrate_25_to_34\": 3.4, \"unrate_35_to_44\": 2.6, \"unrate_45_to_54\": 2.3, \"unrate_55_over\": 2.5, \"year\": 2019, \"month\": 11, \"cases\": 0.0, \"deaths\": 0.0, \"is_covid_period\": 0}, {\"date\": \"2019-12-01T00:00:00\", \"unrate\": 3.4, \"unrate_men\": 3.5, \"unrate_women\": 3.2, \"unrate_16_to_17\": 11.9, \"unrate_18_to_19\": 10.4, \"unrate_20_to_24\": 6.0, \"unrate_25_to_34\": 3.5, \"unrate_35_to_44\": 2.8, \"unrate_45_to_54\": 2.5, \"unrate_55_over\": 2.3, \"year\": 2019, \"month\": 12, \"cases\": 0.0, \"deaths\": 0.0, \"is_covid_period\": 0}, {\"date\": \"2020-01-01T00:00:00\", \"unrate\": 4.0, \"unrate_men\": 4.2, \"unrate_women\": 3.7, \"unrate_16_to_17\": 11.2, \"unrate_18_to_19\": 14.1, \"unrate_20_to_24\": 7.6, \"unrate_25_to_34\": 4.2, \"unrate_35_to_44\": 3.1, \"unrate_45_to_54\": 2.7, \"unrate_55_over\": 2.9, \"year\": 2020, \"month\": 1, \"cases\": 0.0, \"deaths\": 0.0, \"is_covid_period\": 1}, {\"date\": \"2020-02-01T00:00:00\", \"unrate\": 3.8, \"unrate_men\": 4.1, \"unrate_women\": 3.4, \"unrate_16_to_17\": 9.9, \"unrate_18_to_19\": 12.3, \"unrate_20_to_24\": 6.7, \"unrate_25_to_34\": 4.0, \"unrate_35_to_44\": 3.0, \"unrate_45_to_54\": 2.8, \"unrate_55_over\": 2.8, \"year\": 2020, \"month\": 2, \"cases\": 0.0, \"deaths\": 0.0, \"is_covid_period\": 1}, {\"date\": \"2020-03-01T00:00:00\", \"unrate\": 4.5, \"unrate_men\": 4.8, \"unrate_women\": 4.2, \"unrate_16_to_17\": 16.5, \"unrate_18_to_19\": 12.2, \"unrate_20_to_24\": 8.6, \"unrate_25_to_34\": 4.5, \"unrate_35_to_44\": 3.6, \"unrate_45_to_54\": 3.4, \"unrate_55_over\": 3.5, \"year\": 2020, \"month\": 3, \"cases\": 77.0, \"deaths\": 3.0, \"is_covid_period\": 1}, {\"date\": \"2020-04-01T00:00:00\", \"unrate\": 14.4, \"unrate_men\": 13.3, \"unrate_women\": 15.7, \"unrate_16_to_17\": 30.1, \"unrate_18_to_19\": 33.3, \"unrate_20_to_24\": 25.0, \"unrate_25_to_34\": 14.3, \"unrate_35_to_44\": 11.3, \"unrate_45_to_54\": 12.1, \"unrate_55_over\": 13.4, \"year\": 2020, \"month\": 4, \"cases\": 160074.0, \"deaths\": 3114.0, \"is_covid_period\": 1}, {\"date\": \"2020-05-01T00:00:00\", \"unrate\": 13.0, \"unrate_men\": 11.9, \"unrate_women\": 14.3, \"unrate_16_to_17\": 31.9, \"unrate_18_to_19\": 30.1, \"unrate_20_to_24\": 23.2, \"unrate_25_to_34\": 13.1, \"unrate_35_to_44\": 9.8, \"unrate_45_to_54\": 10.4, \"unrate_55_over\": 11.5, \"year\": 2020, \"month\": 5, \"cases\": 767280.0, \"deaths\": 43435.0, \"is_covid_period\": 1}, {\"date\": \"2020-06-01T00:00:00\", \"unrate\": 11.2, \"unrate_men\": 10.5, \"unrate_women\": 12.0, \"unrate_16_to_17\": 27.2, \"unrate_18_to_19\": 22.9, \"unrate_20_to_24\": 20.1, \"unrate_25_to_34\": 11.7, \"unrate_35_to_44\": 8.9, \"unrate_45_to_54\": 8.3, \"unrate_55_over\": 9.7, \"year\": 2020, \"month\": 6, \"cases\": 673076.0, \"deaths\": 37030.0, \"is_covid_period\": 1}, {\"date\": \"2020-07-01T00:00:00\", \"unrate\": 10.5, \"unrate_men\": 9.7, \"unrate_women\": 11.3, \"unrate_16_to_17\": 19.6, \"unrate_18_to_19\": 18.8, \"unrate_20_to_24\": 18.2, \"unrate_25_to_34\": 11.5, \"unrate_35_to_44\": 8.2, \"unrate_45_to_54\": 8.0, \"unrate_55_over\": 9.0, \"year\": 2020, \"month\": 7, \"cases\": 861016.0, \"deaths\": 21304.0, \"is_covid_period\": 1}, {\"date\": \"2020-08-01T00:00:00\", \"unrate\": 8.5, \"unrate_men\": 8.0, \"unrate_women\": 9.1, \"unrate_16_to_17\": 13.3, \"unrate_18_to_19\": 17.4, \"unrate_20_to_24\": 13.7, \"unrate_25_to_34\": 9.8, \"unrate_35_to_44\": 6.5, \"unrate_45_to_54\": 6.4, \"unrate_55_over\": 7.8, \"year\": 2020, \"month\": 8, \"cases\": 1898279.0, \"deaths\": 26297.0, \"is_covid_period\": 1}, {\"date\": \"2020-09-01T00:00:00\", \"unrate\": 7.7, \"unrate_men\": 7.3, \"unrate_women\": 8.0, \"unrate_16_to_17\": 14.8, \"unrate_18_to_19\": 16.8, \"unrate_20_to_24\": 12.4, \"unrate_25_to_34\": 8.4, \"unrate_35_to_44\": 6.1, \"unrate_45_to_54\": 6.2, \"unrate_55_over\": 6.6, \"year\": 2020, \"month\": 9, \"cases\": 1427776.0, \"deaths\": 28617.0, \"is_covid_period\": 1}, {\"date\": \"2020-10-01T00:00:00\", \"unrate\": 6.6, \"unrate_men\": 6.6, \"unrate_women\": 6.5, \"unrate_16_to_17\": 11.6, \"unrate_18_to_19\": 14.0, \"unrate_20_to_24\": 10.5, \"unrate_25_to_34\": 7.1, \"unrate_35_to_44\": 5.6, \"unrate_45_to_54\": 5.7, \"unrate_55_over\": 5.2, \"year\": 2020, \"month\": 10, \"cases\": 1189873.0, \"deaths\": 22680.0, \"is_covid_period\": 1}, {\"date\": \"2020-11-01T00:00:00\", \"unrate\": 6.4, \"unrate_men\": 6.6, \"unrate_women\": 6.1, \"unrate_16_to_17\": 13.9, \"unrate_18_to_19\": 12.8, \"unrate_20_to_24\": 9.9, \"unrate_25_to_34\": 6.7, \"unrate_35_to_44\": 5.4, \"unrate_45_to_54\": 5.2, \"unrate_55_over\": 5.7, \"year\": 2020, \"month\": 11, \"cases\": 1918525.0, \"deaths\": 22674.0, \"is_covid_period\": 1}, {\"date\": \"2020-12-01T00:00:00\", \"unrate\": 6.5, \"unrate_men\": 6.7, \"unrate_women\": 6.3, \"unrate_16_to_17\": 11.8, \"unrate_18_to_19\": 15.3, \"unrate_20_to_24\": 10.6, \"unrate_25_to_34\": 6.4, \"unrate_35_to_44\": 5.5, \"unrate_45_to_54\": 5.3, \"unrate_55_over\": 5.8, \"year\": 2020, \"month\": 12, \"cases\": 4423135.0, \"deaths\": 39331.0, \"is_covid_period\": 1}, {\"date\": \"2021-01-01T00:00:00\", \"unrate\": 6.8, \"unrate_men\": 7.1, \"unrate_women\": 6.5, \"unrate_16_to_17\": 15.2, \"unrate_18_to_19\": 15.9, \"unrate_20_to_24\": 10.8, \"unrate_25_to_34\": 7.2, \"unrate_35_to_44\": 6.1, \"unrate_45_to_54\": 5.2, \"unrate_55_over\": 5.6, \"year\": 2021, \"month\": 1, \"cases\": 6208462.0, \"deaths\": 75431.0, \"is_covid_period\": 1}, {\"date\": \"2021-02-01T00:00:00\", \"unrate\": 6.6, \"unrate_men\": 7.0, \"unrate_women\": 6.1, \"unrate_16_to_17\": 14.5, \"unrate_18_to_19\": 14.0, \"unrate_20_to_24\": 10.0, \"unrate_25_to_34\": 6.7, \"unrate_35_to_44\": 6.0, \"unrate_45_to_54\": 5.2, \"unrate_55_over\": 5.6, \"year\": 2021, \"month\": 2, \"cases\": 5973365.0, \"deaths\": 92418.0, \"is_covid_period\": 1}, {\"date\": \"2021-03-01T00:00:00\", \"unrate\": 6.2, \"unrate_men\": 6.5, \"unrate_women\": 5.8, \"unrate_16_to_17\": 12.0, \"unrate_18_to_19\": 12.7, \"unrate_20_to_24\": 10.4, \"unrate_25_to_34\": 7.0, \"unrate_35_to_44\": 5.4, \"unrate_45_to_54\": 4.7, \"unrate_55_over\": 4.8, \"year\": 2021, \"month\": 3, \"cases\": 2195239.0, \"deaths\": 68218.0, \"is_covid_period\": 1}, {\"date\": \"2021-04-01T00:00:00\", \"unrate\": 5.7, \"unrate_men\": 6.0, \"unrate_women\": 5.4, \"unrate_16_to_17\": 10.5, \"unrate_18_to_19\": 10.9, \"unrate_20_to_24\": 9.8, \"unrate_25_to_34\": 6.2, \"unrate_35_to_44\": 4.7, \"unrate_45_to_54\": 4.7, \"unrate_55_over\": 4.8, \"year\": 2021, \"month\": 4, \"cases\": 1733107.0, \"deaths\": 36249.0, \"is_covid_period\": 1}, {\"date\": \"2021-05-01T00:00:00\", \"unrate\": 5.5, \"unrate_men\": 5.7, \"unrate_women\": 5.2, \"unrate_16_to_17\": 9.2, \"unrate_18_to_19\": 9.7, \"unrate_20_to_24\": 10.3, \"unrate_25_to_34\": 5.5, \"unrate_35_to_44\": 4.7, \"unrate_45_to_54\": 4.5, \"unrate_55_over\": 4.6, \"year\": 2021, \"month\": 5, \"cases\": 1739825.0, \"deaths\": 23117.0, \"is_covid_period\": 1}, {\"date\": \"2021-06-01T00:00:00\", \"unrate\": 6.1, \"unrate_men\": 6.1, \"unrate_women\": 6.1, \"unrate_16_to_17\": 15.0, \"unrate_18_to_19\": 12.3, \"unrate_20_to_24\": 9.9, \"unrate_25_to_34\": 6.5, \"unrate_35_to_44\": 5.2, \"unrate_45_to_54\": 4.6, \"unrate_55_over\": 5.0, \"year\": 2021, \"month\": 6, \"cases\": 863748.0, \"deaths\": 17604.0, \"is_covid_period\": 1}, {\"date\": \"2021-07-01T00:00:00\", \"unrate\": 5.7, \"unrate_men\": 5.5, \"unrate_women\": 5.8, \"unrate_16_to_17\": 12.8, \"unrate_18_to_19\": 9.9, \"unrate_20_to_24\": 9.5, \"unrate_25_to_34\": 6.3, \"unrate_35_to_44\": 4.8, \"unrate_45_to_54\": 4.0, \"unrate_55_over\": 4.6, \"year\": 2021, \"month\": 7, \"cases\": 357445.0, \"deaths\": 8692.0, \"is_covid_period\": 1}, {\"date\": \"2021-08-01T00:00:00\", \"unrate\": 5.3, \"unrate_men\": 5.1, \"unrate_women\": 5.5, \"unrate_16_to_17\": 10.7, \"unrate_18_to_19\": 11.0, \"unrate_20_to_24\": 9.1, \"unrate_25_to_34\": 5.8, \"unrate_35_to_44\": 4.4, \"unrate_45_to_54\": 4.2, \"unrate_55_over\": 4.1, \"year\": 2021, \"month\": 8, \"cases\": 1338242.0, \"deaths\": 6896.0, \"is_covid_period\": 1}, {\"date\": \"2021-09-01T00:00:00\", \"unrate\": 4.6, \"unrate_men\": 4.6, \"unrate_women\": 4.5, \"unrate_16_to_17\": 9.2, \"unrate_18_to_19\": 12.6, \"unrate_20_to_24\": 7.7, \"unrate_25_to_34\": 5.0, \"unrate_35_to_44\": 3.8, \"unrate_45_to_54\": 3.7, \"unrate_55_over\": 3.3, \"year\": 2021, \"month\": 9, \"cases\": 4292027.0, \"deaths\": 23159.0, \"is_covid_period\": 1}, {\"date\": \"2021-10-01T00:00:00\", \"unrate\": 4.3, \"unrate_men\": 4.2, \"unrate_women\": 4.4, \"unrate_16_to_17\": 8.6, \"unrate_18_to_19\": 12.7, \"unrate_20_to_24\": 6.8, \"unrate_25_to_34\": 4.5, \"unrate_35_to_44\": 3.6, \"unrate_45_to_54\": 3.5, \"unrate_55_over\": 3.3, \"year\": 2021, \"month\": 10, \"cases\": 4075386.0, \"deaths\": 62800.0, \"is_covid_period\": 1}, {\"date\": \"2021-11-01T00:00:00\", \"unrate\": 3.9, \"unrate_men\": 3.9, \"unrate_women\": 3.9, \"unrate_16_to_17\": 9.7, \"unrate_18_to_19\": 11.0, \"unrate_20_to_24\": 6.6, \"unrate_25_to_34\": 3.8, \"unrate_35_to_44\": 3.6, \"unrate_45_to_54\": 2.8, \"unrate_55_over\": 3.1, \"year\": 2021, \"month\": 11, \"cases\": 2418980.0, \"deaths\": 47314.0, \"is_covid_period\": 1}]}}, {\"mode\": \"vega-lite\"});\n</script>",
      "text/plain": "alt.LayerChart(...)"
     },
     "metadata": {}
    }
   ]
  },
  {
   "cell_type": "markdown",
   "source": "* As the above chart shows, only the 2020 and 2021 lines are displayed because before 2020 there are no data related to the `cases` as the covid was not prevailed. Thus, although the maximum and minimum cases in 2021 are both larger than those in 2020, it is less affected in terms of the unemployment rate as the fluctuation and unemployment rate are significantly lower. Also, the maximum unemployment rate is in 2020. ",
   "metadata": {
    "cell_id": "0218101a2f484ec493a17d1e7afca581",
    "tags": [],
    "deepnote_cell_type": "markdown",
    "deepnote_cell_height": 136.59375
   }
  },
  {
   "cell_type": "markdown",
   "source": "* The other way of displaying the data is the altair chart with detail selection function. This is a strategy of presenting the chart in a general chart on one side and after a click on the points, the related detailed data will be shown on the other side.",
   "metadata": {
    "cell_id": "fa61d641a8ae41c3bbb54b8d0ffbaaad",
    "tags": [],
    "deepnote_cell_type": "markdown",
    "deepnote_cell_height": 114.1875
   }
  },
  {
   "cell_type": "code",
   "metadata": {
    "cell_id": "05801f26d93a4bd8948ae048dae1adff",
    "tags": [],
    "deepnote_to_be_reexecuted": false,
    "source_hash": "1eb7ab78",
    "execution_start": 1654814579282,
    "execution_millis": 83,
    "deepnote_cell_type": "code",
    "deepnote_cell_height": 824,
    "deepnote_output_heights": [
     313
    ]
   },
   "source": "# make a chart\n\nselector = alt.selection_single(empty='all', fields=['year'])\n\nbase = alt.Chart(df).properties(\n    width=250,\n    height=250\n).add_selection(selector)\n\npoints = base.mark_point(filled=True, size=200).encode(\n    x='cases',\n    y='unrate',\n    color=alt.condition(selector, 'year:O', alt.value('lightgray'), legend=None),\n)\n\ntimeseries = base.mark_line().encode(\n    x='cases',\n    y=alt.Y('unrate', scale=alt.Scale(domain=(-15, 15))),\n    color=alt.Color('year:O', legend=None)\n).transform_filter(\n    selector\n)\n\npoints | timeseries",
   "execution_count": null,
   "outputs": [
    {
     "output_type": "execute_result",
     "execution_count": 16,
     "data": {
      "text/html": "\n<div id=\"altair-viz-1d137489397d436cab86fadfa03fcda7\"></div>\n<script type=\"text/javascript\">\n  (function(spec, embedOpt){\n    let outputDiv = document.currentScript.previousElementSibling;\n    if (outputDiv.id !== \"altair-viz-1d137489397d436cab86fadfa03fcda7\") {\n      outputDiv = document.getElementById(\"altair-viz-1d137489397d436cab86fadfa03fcda7\");\n    }\n    const paths = {\n      \"vega\": \"https://cdn.jsdelivr.net/npm//vega@5?noext\",\n      \"vega-lib\": \"https://cdn.jsdelivr.net/npm//vega-lib?noext\",\n      \"vega-lite\": \"https://cdn.jsdelivr.net/npm//vega-lite@4.8.1?noext\",\n      \"vega-embed\": \"https://cdn.jsdelivr.net/npm//vega-embed@6?noext\",\n    };\n\n    function loadScript(lib) {\n      return new Promise(function(resolve, reject) {\n        var s = document.createElement('script');\n        s.src = paths[lib];\n        s.async = true;\n        s.onload = () => resolve(paths[lib]);\n        s.onerror = () => reject(`Error loading script: ${paths[lib]}`);\n        document.getElementsByTagName(\"head\")[0].appendChild(s);\n      });\n    }\n\n    function showError(err) {\n      outputDiv.innerHTML = `<div class=\"error\" style=\"color:red;\">${err}</div>`;\n      throw err;\n    }\n\n    function displayChart(vegaEmbed) {\n      vegaEmbed(outputDiv, spec, embedOpt)\n        .catch(err => showError(`Javascript Error: ${err.message}<br>This usually means there's a typo in your chart specification. See the javascript console for the full traceback.`));\n    }\n\n    if(typeof define === \"function\" && define.amd) {\n      requirejs.config({paths});\n      require([\"vega-embed\"], displayChart, err => showError(`Error loading script: ${err.message}`));\n    } else if (typeof vegaEmbed === \"function\") {\n      displayChart(vegaEmbed);\n    } else {\n      loadScript(\"vega\")\n        .then(() => loadScript(\"vega-lite\"))\n        .then(() => loadScript(\"vega-embed\"))\n        .catch(showError)\n        .then(() => displayChart(vegaEmbed));\n    }\n  })({\"config\": {\"view\": {\"continuousWidth\": 400, \"continuousHeight\": 300}}, \"hconcat\": [{\"mark\": {\"type\": \"point\", \"filled\": true, \"size\": 200}, \"encoding\": {\"color\": {\"condition\": {\"type\": \"ordinal\", \"field\": \"year\", \"legend\": null, \"selection\": \"selector002\"}, \"value\": \"lightgray\"}, \"x\": {\"type\": \"quantitative\", \"field\": \"cases\"}, \"y\": {\"type\": \"quantitative\", \"field\": \"unrate\"}}, \"height\": 250, \"selection\": {\"selector002\": {\"type\": \"single\", \"empty\": \"all\", \"fields\": [\"year\"]}}, \"width\": 250}, {\"mark\": \"line\", \"encoding\": {\"color\": {\"type\": \"ordinal\", \"field\": \"year\", \"legend\": null}, \"x\": {\"type\": \"quantitative\", \"field\": \"cases\"}, \"y\": {\"type\": \"quantitative\", \"field\": \"unrate\", \"scale\": {\"domain\": [-15, 15]}}}, \"height\": 250, \"selection\": {\"selector002\": {\"type\": \"single\", \"empty\": \"all\", \"fields\": [\"year\"]}}, \"transform\": [{\"filter\": {\"selection\": \"selector002\"}}], \"width\": 250}], \"data\": {\"name\": \"data-17fcc358392d2aa9529e488cd5fae278\"}, \"$schema\": \"https://vega.github.io/schema/vega-lite/v4.8.1.json\", \"datasets\": {\"data-17fcc358392d2aa9529e488cd5fae278\": [{\"date\": \"2016-12-01T00:00:00\", \"unrate\": 4.5, \"unrate_men\": 4.8, \"unrate_women\": 4.1, \"unrate_16_to_17\": 15.0, \"unrate_18_to_19\": 11.5, \"unrate_20_to_24\": 7.6, \"unrate_25_to_34\": 4.6, \"unrate_35_to_44\": 4.0, \"unrate_45_to_54\": 3.3, \"unrate_55_over\": 3.5, \"year\": 2016, \"month\": 12, \"cases\": 0.0, \"deaths\": 0.0, \"is_covid_period\": 0}, {\"date\": \"2017-01-01T00:00:00\", \"unrate\": 5.1, \"unrate_men\": 5.4, \"unrate_women\": 4.9, \"unrate_16_to_17\": 15.2, \"unrate_18_to_19\": 15.5, \"unrate_20_to_24\": 9.0, \"unrate_25_to_34\": 5.4, \"unrate_35_to_44\": 4.4, \"unrate_45_to_54\": 3.6, \"unrate_55_over\": 3.8, \"year\": 2017, \"month\": 1, \"cases\": 0.0, \"deaths\": 0.0, \"is_covid_period\": 0}, {\"date\": \"2017-02-01T00:00:00\", \"unrate\": 4.9, \"unrate_men\": 5.3, \"unrate_women\": 4.6, \"unrate_16_to_17\": 17.4, \"unrate_18_to_19\": 13.5, \"unrate_20_to_24\": 8.4, \"unrate_25_to_34\": 5.1, \"unrate_35_to_44\": 4.5, \"unrate_45_to_54\": 3.5, \"unrate_55_over\": 3.7, \"year\": 2017, \"month\": 2, \"cases\": 0.0, \"deaths\": 0.0, \"is_covid_period\": 0}, {\"date\": \"2017-03-01T00:00:00\", \"unrate\": 4.6, \"unrate_men\": 4.9, \"unrate_women\": 4.1, \"unrate_16_to_17\": 17.1, \"unrate_18_to_19\": 10.8, \"unrate_20_to_24\": 7.3, \"unrate_25_to_34\": 4.7, \"unrate_35_to_44\": 4.1, \"unrate_45_to_54\": 3.4, \"unrate_55_over\": 3.5, \"year\": 2017, \"month\": 3, \"cases\": 0.0, \"deaths\": 0.0, \"is_covid_period\": 0}, {\"date\": \"2017-04-01T00:00:00\", \"unrate\": 4.1, \"unrate_men\": 4.1, \"unrate_women\": 4.1, \"unrate_16_to_17\": 17.3, \"unrate_18_to_19\": 11.1, \"unrate_20_to_24\": 6.7, \"unrate_25_to_34\": 4.1, \"unrate_35_to_44\": 3.4, \"unrate_45_to_54\": 3.2, \"unrate_55_over\": 3.0, \"year\": 2017, \"month\": 4, \"cases\": 0.0, \"deaths\": 0.0, \"is_covid_period\": 0}, {\"date\": \"2017-05-01T00:00:00\", \"unrate\": 4.1, \"unrate_men\": 4.0, \"unrate_women\": 4.2, \"unrate_16_to_17\": 13.7, \"unrate_18_to_19\": 14.6, \"unrate_20_to_24\": 6.6, \"unrate_25_to_34\": 4.6, \"unrate_35_to_44\": 3.1, \"unrate_45_to_54\": 3.0, \"unrate_55_over\": 2.8, \"year\": 2017, \"month\": 5, \"cases\": 0.0, \"deaths\": 0.0, \"is_covid_period\": 0}, {\"date\": \"2017-06-01T00:00:00\", \"unrate\": 4.5, \"unrate_men\": 4.4, \"unrate_women\": 4.7, \"unrate_16_to_17\": 17.7, \"unrate_18_to_19\": 14.9, \"unrate_20_to_24\": 8.0, \"unrate_25_to_34\": 4.3, \"unrate_35_to_44\": 3.2, \"unrate_45_to_54\": 3.4, \"unrate_55_over\": 3.1, \"year\": 2017, \"month\": 6, \"cases\": 0.0, \"deaths\": 0.0, \"is_covid_period\": 0}, {\"date\": \"2017-07-01T00:00:00\", \"unrate\": 4.6, \"unrate_men\": 4.3, \"unrate_women\": 4.9, \"unrate_16_to_17\": 17.2, \"unrate_18_to_19\": 11.4, \"unrate_20_to_24\": 7.8, \"unrate_25_to_34\": 4.7, \"unrate_35_to_44\": 3.6, \"unrate_45_to_54\": 3.3, \"unrate_55_over\": 3.4, \"year\": 2017, \"month\": 7, \"cases\": 0.0, \"deaths\": 0.0, \"is_covid_period\": 0}, {\"date\": \"2017-08-01T00:00:00\", \"unrate\": 4.5, \"unrate_men\": 4.3, \"unrate_women\": 4.8, \"unrate_16_to_17\": 14.1, \"unrate_18_to_19\": 13.2, \"unrate_20_to_24\": 6.9, \"unrate_25_to_34\": 5.0, \"unrate_35_to_44\": 3.4, \"unrate_45_to_54\": 3.7, \"unrate_55_over\": 3.3, \"year\": 2017, \"month\": 8, \"cases\": 0.0, \"deaths\": 0.0, \"is_covid_period\": 0}, {\"date\": \"2017-09-01T00:00:00\", \"unrate\": 4.1, \"unrate_men\": 4.0, \"unrate_women\": 4.2, \"unrate_16_to_17\": 11.3, \"unrate_18_to_19\": 13.7, \"unrate_20_to_24\": 7.5, \"unrate_25_to_34\": 4.2, \"unrate_35_to_44\": 3.1, \"unrate_45_to_54\": 2.9, \"unrate_55_over\": 3.1, \"year\": 2017, \"month\": 9, \"cases\": 0.0, \"deaths\": 0.0, \"is_covid_period\": 0}, {\"date\": \"2017-10-01T00:00:00\", \"unrate\": 3.9, \"unrate_men\": 3.9, \"unrate_women\": 3.8, \"unrate_16_to_17\": 13.8, \"unrate_18_to_19\": 13.2, \"unrate_20_to_24\": 7.0, \"unrate_25_to_34\": 4.3, \"unrate_35_to_44\": 2.9, \"unrate_45_to_54\": 2.5, \"unrate_55_over\": 2.9, \"year\": 2017, \"month\": 10, \"cases\": 0.0, \"deaths\": 0.0, \"is_covid_period\": 0}, {\"date\": \"2017-11-01T00:00:00\", \"unrate\": 3.9, \"unrate_men\": 4.0, \"unrate_women\": 3.8, \"unrate_16_to_17\": 17.9, \"unrate_18_to_19\": 14.2, \"unrate_20_to_24\": 6.6, \"unrate_25_to_34\": 4.1, \"unrate_35_to_44\": 2.9, \"unrate_45_to_54\": 2.5, \"unrate_55_over\": 3.0, \"year\": 2017, \"month\": 11, \"cases\": 0.0, \"deaths\": 0.0, \"is_covid_period\": 0}, {\"date\": \"2017-12-01T00:00:00\", \"unrate\": 3.9, \"unrate_men\": 4.2, \"unrate_women\": 3.7, \"unrate_16_to_17\": 12.9, \"unrate_18_to_19\": 11.3, \"unrate_20_to_24\": 6.7, \"unrate_25_to_34\": 4.3, \"unrate_35_to_44\": 3.0, \"unrate_45_to_54\": 2.7, \"unrate_55_over\": 3.2, \"year\": 2017, \"month\": 12, \"cases\": 0.0, \"deaths\": 0.0, \"is_covid_period\": 0}, {\"date\": \"2018-01-01T00:00:00\", \"unrate\": 4.5, \"unrate_men\": 4.8, \"unrate_women\": 4.2, \"unrate_16_to_17\": 14.6, \"unrate_18_to_19\": 14.5, \"unrate_20_to_24\": 8.2, \"unrate_25_to_34\": 4.7, \"unrate_35_to_44\": 3.5, \"unrate_45_to_54\": 3.3, \"unrate_55_over\": 3.3, \"year\": 2018, \"month\": 1, \"cases\": 0.0, \"deaths\": 0.0, \"is_covid_period\": 0}, {\"date\": \"2018-02-01T00:00:00\", \"unrate\": 4.4, \"unrate_men\": 4.6, \"unrate_women\": 4.1, \"unrate_16_to_17\": 15.8, \"unrate_18_to_19\": 14.0, \"unrate_20_to_24\": 7.2, \"unrate_25_to_34\": 4.6, \"unrate_35_to_44\": 3.4, \"unrate_45_to_54\": 3.1, \"unrate_55_over\": 3.5, \"year\": 2018, \"month\": 2, \"cases\": 0.0, \"deaths\": 0.0, \"is_covid_period\": 0}, {\"date\": \"2018-03-01T00:00:00\", \"unrate\": 4.1, \"unrate_men\": 4.4, \"unrate_women\": 3.8, \"unrate_16_to_17\": 15.0, \"unrate_18_to_19\": 11.5, \"unrate_20_to_24\": 6.5, \"unrate_25_to_34\": 4.3, \"unrate_35_to_44\": 3.4, \"unrate_45_to_54\": 3.1, \"unrate_55_over\": 3.3, \"year\": 2018, \"month\": 3, \"cases\": 0.0, \"deaths\": 0.0, \"is_covid_period\": 0}, {\"date\": \"2018-04-01T00:00:00\", \"unrate\": 3.7, \"unrate_men\": 3.9, \"unrate_women\": 3.4, \"unrate_16_to_17\": 14.3, \"unrate_18_to_19\": 10.3, \"unrate_20_to_24\": 6.1, \"unrate_25_to_34\": 4.1, \"unrate_35_to_44\": 2.8, \"unrate_45_to_54\": 2.7, \"unrate_55_over\": 2.8, \"year\": 2018, \"month\": 4, \"cases\": 0.0, \"deaths\": 0.0, \"is_covid_period\": 0}, {\"date\": \"2018-05-01T00:00:00\", \"unrate\": 3.6, \"unrate_men\": 3.7, \"unrate_women\": 3.4, \"unrate_16_to_17\": 15.0, \"unrate_18_to_19\": 11.8, \"unrate_20_to_24\": 7.0, \"unrate_25_to_34\": 3.6, \"unrate_35_to_44\": 2.6, \"unrate_45_to_54\": 2.5, \"unrate_55_over\": 2.5, \"year\": 2018, \"month\": 5, \"cases\": 0.0, \"deaths\": 0.0, \"is_covid_period\": 0}, {\"date\": \"2018-06-01T00:00:00\", \"unrate\": 4.2, \"unrate_men\": 4.1, \"unrate_women\": 4.2, \"unrate_16_to_17\": 17.8, \"unrate_18_to_19\": 13.2, \"unrate_20_to_24\": 8.1, \"unrate_25_to_34\": 3.9, \"unrate_35_to_44\": 2.9, \"unrate_45_to_54\": 3.0, \"unrate_55_over\": 3.0, \"year\": 2018, \"month\": 6, \"cases\": 0.0, \"deaths\": 0.0, \"is_covid_period\": 0}, {\"date\": \"2018-07-01T00:00:00\", \"unrate\": 4.1, \"unrate_men\": 3.8, \"unrate_women\": 4.5, \"unrate_16_to_17\": 14.6, \"unrate_18_to_19\": 12.8, \"unrate_20_to_24\": 7.3, \"unrate_25_to_34\": 3.6, \"unrate_35_to_44\": 3.1, \"unrate_45_to_54\": 3.1, \"unrate_55_over\": 3.3, \"year\": 2018, \"month\": 7, \"cases\": 0.0, \"deaths\": 0.0, \"is_covid_period\": 0}, {\"date\": \"2018-08-01T00:00:00\", \"unrate\": 3.9, \"unrate_men\": 3.7, \"unrate_women\": 4.3, \"unrate_16_to_17\": 12.4, \"unrate_18_to_19\": 12.3, \"unrate_20_to_24\": 6.5, \"unrate_25_to_34\": 4.3, \"unrate_35_to_44\": 2.9, \"unrate_45_to_54\": 2.7, \"unrate_55_over\": 3.2, \"year\": 2018, \"month\": 8, \"cases\": 0.0, \"deaths\": 0.0, \"is_covid_period\": 0}, {\"date\": \"2018-09-01T00:00:00\", \"unrate\": 3.6, \"unrate_men\": 3.5, \"unrate_women\": 3.6, \"unrate_16_to_17\": 11.4, \"unrate_18_to_19\": 12.9, \"unrate_20_to_24\": 6.9, \"unrate_25_to_34\": 3.3, \"unrate_35_to_44\": 2.8, \"unrate_45_to_54\": 2.5, \"unrate_55_over\": 2.8, \"year\": 2018, \"month\": 9, \"cases\": 0.0, \"deaths\": 0.0, \"is_covid_period\": 0}, {\"date\": \"2018-10-01T00:00:00\", \"unrate\": 3.5, \"unrate_men\": 3.5, \"unrate_women\": 3.6, \"unrate_16_to_17\": 9.3, \"unrate_18_to_19\": 13.0, \"unrate_20_to_24\": 6.6, \"unrate_25_to_34\": 3.6, \"unrate_35_to_44\": 2.8, \"unrate_45_to_54\": 2.5, \"unrate_55_over\": 2.6, \"year\": 2018, \"month\": 10, \"cases\": 0.0, \"deaths\": 0.0, \"is_covid_period\": 0}, {\"date\": \"2018-11-01T00:00:00\", \"unrate\": 3.5, \"unrate_men\": 3.4, \"unrate_women\": 3.5, \"unrate_16_to_17\": 12.8, \"unrate_18_to_19\": 11.4, \"unrate_20_to_24\": 6.0, \"unrate_25_to_34\": 3.5, \"unrate_35_to_44\": 2.7, \"unrate_45_to_54\": 2.4, \"unrate_55_over\": 2.8, \"year\": 2018, \"month\": 11, \"cases\": 0.0, \"deaths\": 0.0, \"is_covid_period\": 0}, {\"date\": \"2018-12-01T00:00:00\", \"unrate\": 3.7, \"unrate_men\": 4.0, \"unrate_women\": 3.4, \"unrate_16_to_17\": 12.0, \"unrate_18_to_19\": 10.4, \"unrate_20_to_24\": 6.8, \"unrate_25_to_34\": 3.9, \"unrate_35_to_44\": 2.8, \"unrate_45_to_54\": 2.9, \"unrate_55_over\": 2.8, \"year\": 2018, \"month\": 12, \"cases\": 0.0, \"deaths\": 0.0, \"is_covid_period\": 0}, {\"date\": \"2019-01-01T00:00:00\", \"unrate\": 4.4, \"unrate_men\": 4.7, \"unrate_women\": 4.1, \"unrate_16_to_17\": 14.6, \"unrate_18_to_19\": 13.3, \"unrate_20_to_24\": 8.6, \"unrate_25_to_34\": 4.4, \"unrate_35_to_44\": 3.3, \"unrate_45_to_54\": 3.3, \"unrate_55_over\": 3.5, \"year\": 2019, \"month\": 1, \"cases\": 0.0, \"deaths\": 0.0, \"is_covid_period\": 0}, {\"date\": \"2019-02-01T00:00:00\", \"unrate\": 4.1, \"unrate_men\": 4.4, \"unrate_women\": 3.8, \"unrate_16_to_17\": 17.0, \"unrate_18_to_19\": 12.5, \"unrate_20_to_24\": 7.5, \"unrate_25_to_34\": 4.4, \"unrate_35_to_44\": 2.9, \"unrate_45_to_54\": 3.1, \"unrate_55_over\": 2.9, \"year\": 2019, \"month\": 2, \"cases\": 0.0, \"deaths\": 0.0, \"is_covid_period\": 0}, {\"date\": \"2019-03-01T00:00:00\", \"unrate\": 3.9, \"unrate_men\": 4.3, \"unrate_women\": 3.5, \"unrate_16_to_17\": 12.9, \"unrate_18_to_19\": 11.8, \"unrate_20_to_24\": 7.1, \"unrate_25_to_34\": 4.1, \"unrate_35_to_44\": 3.0, \"unrate_45_to_54\": 3.1, \"unrate_55_over\": 2.8, \"year\": 2019, \"month\": 3, \"cases\": 0.0, \"deaths\": 0.0, \"is_covid_period\": 0}, {\"date\": \"2019-04-01T00:00:00\", \"unrate\": 3.3, \"unrate_men\": 3.6, \"unrate_women\": 3.1, \"unrate_16_to_17\": 14.3, \"unrate_18_to_19\": 10.6, \"unrate_20_to_24\": 5.8, \"unrate_25_to_34\": 3.6, \"unrate_35_to_44\": 2.5, \"unrate_45_to_54\": 2.4, \"unrate_55_over\": 2.4, \"year\": 2019, \"month\": 4, \"cases\": 0.0, \"deaths\": 0.0, \"is_covid_period\": 0}, {\"date\": \"2019-05-01T00:00:00\", \"unrate\": 3.4, \"unrate_men\": 3.4, \"unrate_women\": 3.3, \"unrate_16_to_17\": 14.4, \"unrate_18_to_19\": 12.0, \"unrate_20_to_24\": 7.0, \"unrate_25_to_34\": 3.2, \"unrate_35_to_44\": 2.4, \"unrate_45_to_54\": 2.3, \"unrate_55_over\": 2.5, \"year\": 2019, \"month\": 5, \"cases\": 0.0, \"deaths\": 0.0, \"is_covid_period\": 0}, {\"date\": \"2019-06-01T00:00:00\", \"unrate\": 3.8, \"unrate_men\": 3.7, \"unrate_women\": 4.0, \"unrate_16_to_17\": 18.4, \"unrate_18_to_19\": 13.1, \"unrate_20_to_24\": 6.8, \"unrate_25_to_34\": 3.5, \"unrate_35_to_44\": 2.7, \"unrate_45_to_54\": 2.7, \"unrate_55_over\": 2.9, \"year\": 2019, \"month\": 6, \"cases\": 0.0, \"deaths\": 0.0, \"is_covid_period\": 0}, {\"date\": \"2019-07-01T00:00:00\", \"unrate\": 4.0, \"unrate_men\": 3.7, \"unrate_women\": 4.3, \"unrate_16_to_17\": 17.1, \"unrate_18_to_19\": 11.2, \"unrate_20_to_24\": 7.1, \"unrate_25_to_34\": 3.8, \"unrate_35_to_44\": 2.9, \"unrate_45_to_54\": 2.9, \"unrate_55_over\": 2.9, \"year\": 2019, \"month\": 7, \"cases\": 0.0, \"deaths\": 0.0, \"is_covid_period\": 0}, {\"date\": \"2019-08-01T00:00:00\", \"unrate\": 3.8, \"unrate_men\": 3.5, \"unrate_women\": 4.1, \"unrate_16_to_17\": 11.7, \"unrate_18_to_19\": 12.3, \"unrate_20_to_24\": 6.8, \"unrate_25_to_34\": 3.8, \"unrate_35_to_44\": 2.8, \"unrate_45_to_54\": 3.0, \"unrate_55_over\": 2.7, \"year\": 2019, \"month\": 8, \"cases\": 0.0, \"deaths\": 0.0, \"is_covid_period\": 0}, {\"date\": \"2019-09-01T00:00:00\", \"unrate\": 3.3, \"unrate_men\": 3.3, \"unrate_women\": 3.4, \"unrate_16_to_17\": 10.5, \"unrate_18_to_19\": 13.1, \"unrate_20_to_24\": 6.2, \"unrate_25_to_34\": 3.3, \"unrate_35_to_44\": 2.5, \"unrate_45_to_54\": 2.6, \"unrate_55_over\": 2.3, \"year\": 2019, \"month\": 9, \"cases\": 0.0, \"deaths\": 0.0, \"is_covid_period\": 0}, {\"date\": \"2019-10-01T00:00:00\", \"unrate\": 3.3, \"unrate_men\": 3.3, \"unrate_women\": 3.3, \"unrate_16_to_17\": 12.3, \"unrate_18_to_19\": 11.3, \"unrate_20_to_24\": 6.0, \"unrate_25_to_34\": 3.6, \"unrate_35_to_44\": 2.5, \"unrate_45_to_54\": 2.3, \"unrate_55_over\": 2.4, \"year\": 2019, \"month\": 10, \"cases\": 0.0, \"deaths\": 0.0, \"is_covid_period\": 0}, {\"date\": \"2019-11-01T00:00:00\", \"unrate\": 3.3, \"unrate_men\": 3.3, \"unrate_women\": 3.3, \"unrate_16_to_17\": 12.0, \"unrate_18_to_19\": 11.4, \"unrate_20_to_24\": 5.9, \"unrate_25_to_34\": 3.4, \"unrate_35_to_44\": 2.6, \"unrate_45_to_54\": 2.3, \"unrate_55_over\": 2.5, \"year\": 2019, \"month\": 11, \"cases\": 0.0, \"deaths\": 0.0, \"is_covid_period\": 0}, {\"date\": \"2019-12-01T00:00:00\", \"unrate\": 3.4, \"unrate_men\": 3.5, \"unrate_women\": 3.2, \"unrate_16_to_17\": 11.9, \"unrate_18_to_19\": 10.4, \"unrate_20_to_24\": 6.0, \"unrate_25_to_34\": 3.5, \"unrate_35_to_44\": 2.8, \"unrate_45_to_54\": 2.5, \"unrate_55_over\": 2.3, \"year\": 2019, \"month\": 12, \"cases\": 0.0, \"deaths\": 0.0, \"is_covid_period\": 0}, {\"date\": \"2020-01-01T00:00:00\", \"unrate\": 4.0, \"unrate_men\": 4.2, \"unrate_women\": 3.7, \"unrate_16_to_17\": 11.2, \"unrate_18_to_19\": 14.1, \"unrate_20_to_24\": 7.6, \"unrate_25_to_34\": 4.2, \"unrate_35_to_44\": 3.1, \"unrate_45_to_54\": 2.7, \"unrate_55_over\": 2.9, \"year\": 2020, \"month\": 1, \"cases\": 0.0, \"deaths\": 0.0, \"is_covid_period\": 1}, {\"date\": \"2020-02-01T00:00:00\", \"unrate\": 3.8, \"unrate_men\": 4.1, \"unrate_women\": 3.4, \"unrate_16_to_17\": 9.9, \"unrate_18_to_19\": 12.3, \"unrate_20_to_24\": 6.7, \"unrate_25_to_34\": 4.0, \"unrate_35_to_44\": 3.0, \"unrate_45_to_54\": 2.8, \"unrate_55_over\": 2.8, \"year\": 2020, \"month\": 2, \"cases\": 0.0, \"deaths\": 0.0, \"is_covid_period\": 1}, {\"date\": \"2020-03-01T00:00:00\", \"unrate\": 4.5, \"unrate_men\": 4.8, \"unrate_women\": 4.2, \"unrate_16_to_17\": 16.5, \"unrate_18_to_19\": 12.2, \"unrate_20_to_24\": 8.6, \"unrate_25_to_34\": 4.5, \"unrate_35_to_44\": 3.6, \"unrate_45_to_54\": 3.4, \"unrate_55_over\": 3.5, \"year\": 2020, \"month\": 3, \"cases\": 77.0, \"deaths\": 3.0, \"is_covid_period\": 1}, {\"date\": \"2020-04-01T00:00:00\", \"unrate\": 14.4, \"unrate_men\": 13.3, \"unrate_women\": 15.7, \"unrate_16_to_17\": 30.1, \"unrate_18_to_19\": 33.3, \"unrate_20_to_24\": 25.0, \"unrate_25_to_34\": 14.3, \"unrate_35_to_44\": 11.3, \"unrate_45_to_54\": 12.1, \"unrate_55_over\": 13.4, \"year\": 2020, \"month\": 4, \"cases\": 160074.0, \"deaths\": 3114.0, \"is_covid_period\": 1}, {\"date\": \"2020-05-01T00:00:00\", \"unrate\": 13.0, \"unrate_men\": 11.9, \"unrate_women\": 14.3, \"unrate_16_to_17\": 31.9, \"unrate_18_to_19\": 30.1, \"unrate_20_to_24\": 23.2, \"unrate_25_to_34\": 13.1, \"unrate_35_to_44\": 9.8, \"unrate_45_to_54\": 10.4, \"unrate_55_over\": 11.5, \"year\": 2020, \"month\": 5, \"cases\": 767280.0, \"deaths\": 43435.0, \"is_covid_period\": 1}, {\"date\": \"2020-06-01T00:00:00\", \"unrate\": 11.2, \"unrate_men\": 10.5, \"unrate_women\": 12.0, \"unrate_16_to_17\": 27.2, \"unrate_18_to_19\": 22.9, \"unrate_20_to_24\": 20.1, \"unrate_25_to_34\": 11.7, \"unrate_35_to_44\": 8.9, \"unrate_45_to_54\": 8.3, \"unrate_55_over\": 9.7, \"year\": 2020, \"month\": 6, \"cases\": 673076.0, \"deaths\": 37030.0, \"is_covid_period\": 1}, {\"date\": \"2020-07-01T00:00:00\", \"unrate\": 10.5, \"unrate_men\": 9.7, \"unrate_women\": 11.3, \"unrate_16_to_17\": 19.6, \"unrate_18_to_19\": 18.8, \"unrate_20_to_24\": 18.2, \"unrate_25_to_34\": 11.5, \"unrate_35_to_44\": 8.2, \"unrate_45_to_54\": 8.0, \"unrate_55_over\": 9.0, \"year\": 2020, \"month\": 7, \"cases\": 861016.0, \"deaths\": 21304.0, \"is_covid_period\": 1}, {\"date\": \"2020-08-01T00:00:00\", \"unrate\": 8.5, \"unrate_men\": 8.0, \"unrate_women\": 9.1, \"unrate_16_to_17\": 13.3, \"unrate_18_to_19\": 17.4, \"unrate_20_to_24\": 13.7, \"unrate_25_to_34\": 9.8, \"unrate_35_to_44\": 6.5, \"unrate_45_to_54\": 6.4, \"unrate_55_over\": 7.8, \"year\": 2020, \"month\": 8, \"cases\": 1898279.0, \"deaths\": 26297.0, \"is_covid_period\": 1}, {\"date\": \"2020-09-01T00:00:00\", \"unrate\": 7.7, \"unrate_men\": 7.3, \"unrate_women\": 8.0, \"unrate_16_to_17\": 14.8, \"unrate_18_to_19\": 16.8, \"unrate_20_to_24\": 12.4, \"unrate_25_to_34\": 8.4, \"unrate_35_to_44\": 6.1, \"unrate_45_to_54\": 6.2, \"unrate_55_over\": 6.6, \"year\": 2020, \"month\": 9, \"cases\": 1427776.0, \"deaths\": 28617.0, \"is_covid_period\": 1}, {\"date\": \"2020-10-01T00:00:00\", \"unrate\": 6.6, \"unrate_men\": 6.6, \"unrate_women\": 6.5, \"unrate_16_to_17\": 11.6, \"unrate_18_to_19\": 14.0, \"unrate_20_to_24\": 10.5, \"unrate_25_to_34\": 7.1, \"unrate_35_to_44\": 5.6, \"unrate_45_to_54\": 5.7, \"unrate_55_over\": 5.2, \"year\": 2020, \"month\": 10, \"cases\": 1189873.0, \"deaths\": 22680.0, \"is_covid_period\": 1}, {\"date\": \"2020-11-01T00:00:00\", \"unrate\": 6.4, \"unrate_men\": 6.6, \"unrate_women\": 6.1, \"unrate_16_to_17\": 13.9, \"unrate_18_to_19\": 12.8, \"unrate_20_to_24\": 9.9, \"unrate_25_to_34\": 6.7, \"unrate_35_to_44\": 5.4, \"unrate_45_to_54\": 5.2, \"unrate_55_over\": 5.7, \"year\": 2020, \"month\": 11, \"cases\": 1918525.0, \"deaths\": 22674.0, \"is_covid_period\": 1}, {\"date\": \"2020-12-01T00:00:00\", \"unrate\": 6.5, \"unrate_men\": 6.7, \"unrate_women\": 6.3, \"unrate_16_to_17\": 11.8, \"unrate_18_to_19\": 15.3, \"unrate_20_to_24\": 10.6, \"unrate_25_to_34\": 6.4, \"unrate_35_to_44\": 5.5, \"unrate_45_to_54\": 5.3, \"unrate_55_over\": 5.8, \"year\": 2020, \"month\": 12, \"cases\": 4423135.0, \"deaths\": 39331.0, \"is_covid_period\": 1}, {\"date\": \"2021-01-01T00:00:00\", \"unrate\": 6.8, \"unrate_men\": 7.1, \"unrate_women\": 6.5, \"unrate_16_to_17\": 15.2, \"unrate_18_to_19\": 15.9, \"unrate_20_to_24\": 10.8, \"unrate_25_to_34\": 7.2, \"unrate_35_to_44\": 6.1, \"unrate_45_to_54\": 5.2, \"unrate_55_over\": 5.6, \"year\": 2021, \"month\": 1, \"cases\": 6208462.0, \"deaths\": 75431.0, \"is_covid_period\": 1}, {\"date\": \"2021-02-01T00:00:00\", \"unrate\": 6.6, \"unrate_men\": 7.0, \"unrate_women\": 6.1, \"unrate_16_to_17\": 14.5, \"unrate_18_to_19\": 14.0, \"unrate_20_to_24\": 10.0, \"unrate_25_to_34\": 6.7, \"unrate_35_to_44\": 6.0, \"unrate_45_to_54\": 5.2, \"unrate_55_over\": 5.6, \"year\": 2021, \"month\": 2, \"cases\": 5973365.0, \"deaths\": 92418.0, \"is_covid_period\": 1}, {\"date\": \"2021-03-01T00:00:00\", \"unrate\": 6.2, \"unrate_men\": 6.5, \"unrate_women\": 5.8, \"unrate_16_to_17\": 12.0, \"unrate_18_to_19\": 12.7, \"unrate_20_to_24\": 10.4, \"unrate_25_to_34\": 7.0, \"unrate_35_to_44\": 5.4, \"unrate_45_to_54\": 4.7, \"unrate_55_over\": 4.8, \"year\": 2021, \"month\": 3, \"cases\": 2195239.0, \"deaths\": 68218.0, \"is_covid_period\": 1}, {\"date\": \"2021-04-01T00:00:00\", \"unrate\": 5.7, \"unrate_men\": 6.0, \"unrate_women\": 5.4, \"unrate_16_to_17\": 10.5, \"unrate_18_to_19\": 10.9, \"unrate_20_to_24\": 9.8, \"unrate_25_to_34\": 6.2, \"unrate_35_to_44\": 4.7, \"unrate_45_to_54\": 4.7, \"unrate_55_over\": 4.8, \"year\": 2021, \"month\": 4, \"cases\": 1733107.0, \"deaths\": 36249.0, \"is_covid_period\": 1}, {\"date\": \"2021-05-01T00:00:00\", \"unrate\": 5.5, \"unrate_men\": 5.7, \"unrate_women\": 5.2, \"unrate_16_to_17\": 9.2, \"unrate_18_to_19\": 9.7, \"unrate_20_to_24\": 10.3, \"unrate_25_to_34\": 5.5, \"unrate_35_to_44\": 4.7, \"unrate_45_to_54\": 4.5, \"unrate_55_over\": 4.6, \"year\": 2021, \"month\": 5, \"cases\": 1739825.0, \"deaths\": 23117.0, \"is_covid_period\": 1}, {\"date\": \"2021-06-01T00:00:00\", \"unrate\": 6.1, \"unrate_men\": 6.1, \"unrate_women\": 6.1, \"unrate_16_to_17\": 15.0, \"unrate_18_to_19\": 12.3, \"unrate_20_to_24\": 9.9, \"unrate_25_to_34\": 6.5, \"unrate_35_to_44\": 5.2, \"unrate_45_to_54\": 4.6, \"unrate_55_over\": 5.0, \"year\": 2021, \"month\": 6, \"cases\": 863748.0, \"deaths\": 17604.0, \"is_covid_period\": 1}, {\"date\": \"2021-07-01T00:00:00\", \"unrate\": 5.7, \"unrate_men\": 5.5, \"unrate_women\": 5.8, \"unrate_16_to_17\": 12.8, \"unrate_18_to_19\": 9.9, \"unrate_20_to_24\": 9.5, \"unrate_25_to_34\": 6.3, \"unrate_35_to_44\": 4.8, \"unrate_45_to_54\": 4.0, \"unrate_55_over\": 4.6, \"year\": 2021, \"month\": 7, \"cases\": 357445.0, \"deaths\": 8692.0, \"is_covid_period\": 1}, {\"date\": \"2021-08-01T00:00:00\", \"unrate\": 5.3, \"unrate_men\": 5.1, \"unrate_women\": 5.5, \"unrate_16_to_17\": 10.7, \"unrate_18_to_19\": 11.0, \"unrate_20_to_24\": 9.1, \"unrate_25_to_34\": 5.8, \"unrate_35_to_44\": 4.4, \"unrate_45_to_54\": 4.2, \"unrate_55_over\": 4.1, \"year\": 2021, \"month\": 8, \"cases\": 1338242.0, \"deaths\": 6896.0, \"is_covid_period\": 1}, {\"date\": \"2021-09-01T00:00:00\", \"unrate\": 4.6, \"unrate_men\": 4.6, \"unrate_women\": 4.5, \"unrate_16_to_17\": 9.2, \"unrate_18_to_19\": 12.6, \"unrate_20_to_24\": 7.7, \"unrate_25_to_34\": 5.0, \"unrate_35_to_44\": 3.8, \"unrate_45_to_54\": 3.7, \"unrate_55_over\": 3.3, \"year\": 2021, \"month\": 9, \"cases\": 4292027.0, \"deaths\": 23159.0, \"is_covid_period\": 1}, {\"date\": \"2021-10-01T00:00:00\", \"unrate\": 4.3, \"unrate_men\": 4.2, \"unrate_women\": 4.4, \"unrate_16_to_17\": 8.6, \"unrate_18_to_19\": 12.7, \"unrate_20_to_24\": 6.8, \"unrate_25_to_34\": 4.5, \"unrate_35_to_44\": 3.6, \"unrate_45_to_54\": 3.5, \"unrate_55_over\": 3.3, \"year\": 2021, \"month\": 10, \"cases\": 4075386.0, \"deaths\": 62800.0, \"is_covid_period\": 1}, {\"date\": \"2021-11-01T00:00:00\", \"unrate\": 3.9, \"unrate_men\": 3.9, \"unrate_women\": 3.9, \"unrate_16_to_17\": 9.7, \"unrate_18_to_19\": 11.0, \"unrate_20_to_24\": 6.6, \"unrate_25_to_34\": 3.8, \"unrate_35_to_44\": 3.6, \"unrate_45_to_54\": 2.8, \"unrate_55_over\": 3.1, \"year\": 2021, \"month\": 11, \"cases\": 2418980.0, \"deaths\": 47314.0, \"is_covid_period\": 1}]}}, {\"mode\": \"vega-lite\"});\n</script>",
      "text/plain": "alt.HConcatChart(...)"
     },
     "metadata": {}
    }
   ]
  },
  {
   "cell_type": "markdown",
   "source": "* As we can conclude with the chart, in 2021 the US is less influenced by the pandemic as the detailed chart on the right hand side could show. This also confirmed the observation from the last chart.",
   "metadata": {
    "cell_id": "c7da518b0a114ecf90715759c6553e02",
    "tags": [],
    "deepnote_cell_type": "markdown",
    "deepnote_cell_height": 91.796875
   }
  },
  {
   "cell_type": "markdown",
   "source": "## Section 4: Scikit Learn with Random Forest Regression: Do the Newly Confirmed Cases Matter As Much As the Aggregated ones?",
   "metadata": {
    "cell_id": "3914e54d274d48608270bb8ee360c874",
    "tags": [],
    "deepnote_cell_type": "markdown",
    "deepnote_cell_height": 150
   }
  },
  {
   "cell_type": "markdown",
   "source": "* After an examination of the year of greater impact, another controversy is whether the newly confirmed covid cases or the time related factors including tendency and period are are having an impact more on the unemployment rate. \n\n* As the cases here are refering to the newly confirmed ones each month, it is not wise to speculate the earlier correlation with positive proportion.",
   "metadata": {
    "cell_id": "c1d2cc7a148941179c8291a8b68b4822",
    "tags": [],
    "deepnote_cell_type": "markdown",
    "deepnote_cell_height": 139.59375
   }
  },
  {
   "cell_type": "markdown",
   "source": "* First of all, we need to use the `train_test_split` for predicting the `RandomForestRegressor`.",
   "metadata": {
    "cell_id": "354514cc6efc46558f50148204e8d003",
    "tags": [],
    "deepnote_cell_type": "markdown",
    "deepnote_cell_height": 69.390625
   }
  },
  {
   "cell_type": "code",
   "metadata": {
    "cell_id": "34e80e593fe747ca8c61c3d7f06a68d1",
    "tags": [],
    "deepnote_to_be_reexecuted": false,
    "source_hash": "44e7b2e4",
    "execution_start": 1654814579371,
    "execution_millis": 4,
    "deepnote_cell_type": "code",
    "deepnote_cell_height": 135
   },
   "source": "# Define the necessary X and y\nX = df[['year', 'month', 'cases', 'deaths', 'is_covid_period']]\nX['time_index'] = range(len(X))\ny = df['unrate']",
   "execution_count": null,
   "outputs": []
  },
  {
   "cell_type": "code",
   "metadata": {
    "cell_id": "66213ee671bb4cf09affbb77a22aad86",
    "tags": [],
    "deepnote_to_be_reexecuted": false,
    "source_hash": "2428c753",
    "execution_start": 1654814579382,
    "execution_millis": 7,
    "deepnote_cell_type": "code",
    "deepnote_cell_height": 99
   },
   "source": "# Use the Train_test_split to define the test sets and train sets\nX_train, X_test, y_train, y_test = train_test_split(X,y ,train_size = 0.8, random_state = 42)",
   "execution_count": null,
   "outputs": []
  },
  {
   "cell_type": "code",
   "metadata": {
    "cell_id": "826fac52fc57438ba2f6ec572b8ddcad",
    "tags": [],
    "deepnote_to_be_reexecuted": false,
    "source_hash": "6aa9b77d",
    "execution_start": 1654814579392,
    "execution_millis": 178,
    "deepnote_cell_type": "code",
    "deepnote_cell_height": 207
   },
   "source": "# Initiate/Create the Random Forest Regressor\nRF = RandomForestRegressor()\n\n# Fit the train sets into the regressor\nRF.fit(X_train, y_train)\n\n# Make prediction on the test set\ny_test_pred = RF.predict(X_test)",
   "execution_count": null,
   "outputs": []
  },
  {
   "cell_type": "code",
   "metadata": {
    "cell_id": "f293155aa5c74b399b586c956108bec9",
    "tags": [],
    "deepnote_to_be_reexecuted": false,
    "source_hash": "c199f2a7",
    "execution_start": 1654814579619,
    "execution_millis": 0,
    "deepnote_cell_type": "code",
    "deepnote_cell_height": 117
   },
   "source": "# Measure the MSE for the test set, calculate the score of prediction\nMSE = mean_squared_error(y_test, y_test_pred)\nR2 = r2_score(y_test, y_test_pred)",
   "execution_count": null,
   "outputs": []
  },
  {
   "cell_type": "code",
   "metadata": {
    "cell_id": "c046e2e67ebd44ca8eb2328905c4ded9",
    "tags": [],
    "deepnote_to_be_reexecuted": false,
    "source_hash": "ea2c6d3f",
    "execution_start": 1654814579620,
    "execution_millis": 3,
    "deepnote_cell_type": "code",
    "deepnote_cell_height": 167.390625
   },
   "source": "# Display the results\nprint('MSE for Test Set:', MSE)\nprint('R-square for Test Set:', R2)",
   "execution_count": null,
   "outputs": [
    {
     "name": "stdout",
     "text": "MSE for Test Set: 0.29465975000000083\nR-square for Test Set: 0.8509938053097341\n",
     "output_type": "stream"
    }
   ]
  },
  {
   "cell_type": "code",
   "metadata": {
    "cell_id": "3debf91f1d974049b0488a83e83bab25",
    "tags": [],
    "deepnote_to_be_reexecuted": false,
    "source_hash": "db2c7651",
    "execution_start": 1654814579621,
    "execution_millis": 42,
    "deepnote_cell_type": "code",
    "deepnote_cell_height": 135
   },
   "source": "# Use the same strategy to predict on the train set as well\ny_train_pred = RF.predict(X_train)\nMSE = mean_squared_error(y_train, y_train_pred)\nR2 = r2_score(y_train, y_train_pred)",
   "execution_count": null,
   "outputs": []
  },
  {
   "cell_type": "code",
   "metadata": {
    "cell_id": "2e0cee3d5b404f4697379970205e4742",
    "tags": [],
    "deepnote_to_be_reexecuted": false,
    "source_hash": "6b443675",
    "execution_start": 1654814579663,
    "execution_millis": 7,
    "deepnote_cell_type": "code",
    "deepnote_cell_height": 149.390625
   },
   "source": "print('MSE for Train Set:', MSE)\nprint('R-square for Train Set:', R2)",
   "execution_count": null,
   "outputs": [
    {
     "name": "stdout",
     "text": "MSE for Train Set: 0.22596379166666739\nR-square for Train Set: 0.9617273770762959\n",
     "output_type": "stream"
    }
   ]
  },
  {
   "cell_type": "markdown",
   "source": "* With the test error = 0.26 and train error = 0.23, it is fair to say that there is no clue for overfitting.",
   "metadata": {
    "cell_id": "4b3ab7773e13429db55fcd1e7a3889ff",
    "tags": [],
    "deepnote_cell_type": "markdown",
    "deepnote_cell_height": 69.390625
   }
  },
  {
   "cell_type": "code",
   "metadata": {
    "cell_id": "28686bd0bca74761a44bcb1058f7a93e",
    "tags": [],
    "deepnote_to_be_reexecuted": false,
    "source_hash": "44bd2d12",
    "execution_start": 1654814579665,
    "execution_millis": 0,
    "deepnote_cell_type": "code",
    "deepnote_cell_height": 189
   },
   "source": "# Use the feature_importance tool to examine the corrensponding importance\nimportances = RF.feature_importances_\nfeatures = X.columns\n\n# Define the new dataframe, then creating a descending importance level+\nfeatures_df = pd.DataFrame({\"Feature\": features, 'importance': importances})\nfeatures_df = features_df.sort_values(\"importance\", ascending=False)",
   "execution_count": null,
   "outputs": []
  },
  {
   "cell_type": "code",
   "metadata": {
    "cell_id": "0b1852664a0841a19bd9aaad11ad669a",
    "tags": [],
    "deepnote_to_be_reexecuted": false,
    "source_hash": "faca8a36",
    "execution_start": 1654814579731,
    "execution_millis": 3,
    "deepnote_cell_type": "code",
    "deepnote_cell_height": 436
   },
   "source": "features_df",
   "execution_count": null,
   "outputs": [
    {
     "output_type": "execute_result",
     "execution_count": 25,
     "data": {
      "application/vnd.deepnote.dataframe.v3+json": {
       "column_count": 2,
       "row_count": 6,
       "columns": [
        {
         "name": "Feature",
         "dtype": "object",
         "stats": {
          "unique_count": 6,
          "nan_count": 0,
          "categories": [
           {
            "name": "time_index",
            "count": 1
           },
           {
            "name": "deaths",
            "count": 1
           },
           {
            "name": "4 others",
            "count": 4
           }
          ]
         }
        },
        {
         "name": "importance",
         "dtype": "float64",
         "stats": {
          "unique_count": 6,
          "nan_count": 0,
          "min": "0.004847689636258893",
          "max": "0.492370628111285",
          "histogram": [
           {
            "bin_start": 0.004847689636258893,
            "bin_end": 0.05359998348376151,
            "count": 3
           },
           {
            "bin_start": 0.05359998348376151,
            "bin_end": 0.10235227733126412,
            "count": 0
           },
           {
            "bin_start": 0.10235227733126412,
            "bin_end": 0.15110457117876672,
            "count": 0
           },
           {
            "bin_start": 0.15110457117876672,
            "bin_end": 0.19985686502626934,
            "count": 0
           },
           {
            "bin_start": 0.19985686502626934,
            "bin_end": 0.24860915887377197,
            "count": 2
           },
           {
            "bin_start": 0.24860915887377197,
            "bin_end": 0.2973614527212745,
            "count": 0
           },
           {
            "bin_start": 0.2973614527212745,
            "bin_end": 0.34611374656877714,
            "count": 0
           },
           {
            "bin_start": 0.34611374656877714,
            "bin_end": 0.39486604041627976,
            "count": 0
           },
           {
            "bin_start": 0.39486604041627976,
            "bin_end": 0.4436183342637824,
            "count": 0
           },
           {
            "bin_start": 0.4436183342637824,
            "bin_end": 0.492370628111285,
            "count": 1
           }
          ]
         }
        },
        {
         "name": "_deepnote_index_column",
         "dtype": "int64"
        }
       ],
       "rows": [
        {
         "Feature": "time_index",
         "importance": 0.492370628111285,
         "_deepnote_index_column": 5
        },
        {
         "Feature": "deaths",
         "importance": 0.2330339661203555,
         "_deepnote_index_column": 3
        },
        {
         "Feature": "cases",
         "importance": 0.20953432813086278,
         "_deepnote_index_column": 2
        },
        {
         "Feature": "year",
         "importance": 0.03921382702115767,
         "_deepnote_index_column": 0
        },
        {
         "Feature": "month",
         "importance": 0.020999560980080077,
         "_deepnote_index_column": 1
        },
        {
         "Feature": "is_covid_period",
         "importance": 0.004847689636258893,
         "_deepnote_index_column": 4
        }
       ]
      },
      "text/plain": "           Feature  importance\n5       time_index    0.492371\n3           deaths    0.233034\n2            cases    0.209534\n0             year    0.039214\n1            month    0.021000\n4  is_covid_period    0.004848",
      "text/html": "<div>\n<style scoped>\n    .dataframe tbody tr th:only-of-type {\n        vertical-align: middle;\n    }\n\n    .dataframe tbody tr th {\n        vertical-align: top;\n    }\n\n    .dataframe thead th {\n        text-align: right;\n    }\n</style>\n<table border=\"1\" class=\"dataframe\">\n  <thead>\n    <tr style=\"text-align: right;\">\n      <th></th>\n      <th>Feature</th>\n      <th>importance</th>\n    </tr>\n  </thead>\n  <tbody>\n    <tr>\n      <th>5</th>\n      <td>time_index</td>\n      <td>0.492371</td>\n    </tr>\n    <tr>\n      <th>3</th>\n      <td>deaths</td>\n      <td>0.233034</td>\n    </tr>\n    <tr>\n      <th>2</th>\n      <td>cases</td>\n      <td>0.209534</td>\n    </tr>\n    <tr>\n      <th>0</th>\n      <td>year</td>\n      <td>0.039214</td>\n    </tr>\n    <tr>\n      <th>1</th>\n      <td>month</td>\n      <td>0.021000</td>\n    </tr>\n    <tr>\n      <th>4</th>\n      <td>is_covid_period</td>\n      <td>0.004848</td>\n    </tr>\n  </tbody>\n</table>\n</div>"
     },
     "metadata": {}
    }
   ]
  },
  {
   "cell_type": "markdown",
   "source": "* With the above dataframe, it is surprising that the cases and death of covid is less influencing the unemployment rate with the lower `importance` value. This can be explained in terms of the definition of `cases` and `deaths` here. As the `cases` and `deaths` are both the newly confirmed cases and death data, as the time goes on, people have developed the new mode in response to the pandemic, which is of great help for us to tackle with the covid.\n* Compare to the cases and death data, `time_index` seems to be an important factor of the unemployment rate. To explain this situation, time index is defined as the time span during the pandemic. Therefore, the location of the time span is foundamental when considering the impact on `unrate`. In other words, if the specific time is in the starting point of the pandemic, the influence is larger on the unemployment rate, while if it is during the later point such as the end of 2021, the impact will be smaller because of the diminishing marginal impact.",
   "metadata": {
    "cell_id": "1b69a66a83a54bc5afeea99ca68a2f35",
    "tags": [],
    "deepnote_cell_type": "markdown",
    "deepnote_cell_height": 251.578125
   }
  },
  {
   "cell_type": "markdown",
   "source": "## Section 5: Matplotlib: Further Visualization of the Regression",
   "metadata": {
    "cell_id": "0fa976de279c43a8bfc599e09e161f70",
    "tags": [],
    "deepnote_cell_type": "markdown",
    "deepnote_cell_height": 110
   }
  },
  {
   "cell_type": "markdown",
   "source": "* With the seaborn technique, we can analyze the correlation between the unemployment rate and several factors in terms of the corresponding importance level. In this section, I have used this technique to further visualize the correlation.",
   "metadata": {
    "cell_id": "2bfbc11ba76c4417bbc2c421156385af",
    "tags": [],
    "deepnote_cell_type": "markdown",
    "deepnote_cell_height": 114.1875
   }
  },
  {
   "cell_type": "code",
   "metadata": {
    "cell_id": "cd0b382e115548808fa4a8dc74d66a82",
    "tags": [],
    "deepnote_to_be_reexecuted": false,
    "source_hash": "9d282aec",
    "execution_start": 1654814579733,
    "execution_millis": 195,
    "deepnote_cell_type": "code",
    "deepnote_cell_height": 401,
    "deepnote_output_heights": [
     268
    ]
   },
   "source": "plt.barh(features_df[::-1]['Feature'], features_df[::-1]['importance'])\nplt.xlabel(\"feature importances\", fontsize = 14)\nplt.show()",
   "execution_count": null,
   "outputs": [
    {
     "data": {
      "text/plain": "<Figure size 432x288 with 1 Axes>",
      "image/png": "[encoded data removed]"
     },
     "metadata": {
      "needs_background": "light",
      "image/png": {
       "width": 432,
       "height": 266
      }
     },
     "output_type": "display_data"
    }
   ]
  },
  {
   "cell_type": "code",
   "metadata": {
    "cell_id": "5c8201432417441681dc519f627ad6c7",
    "tags": [],
    "deepnote_to_be_reexecuted": false,
    "source_hash": "46e397f8",
    "execution_start": 1654814579982,
    "execution_millis": 270,
    "deepnote_cell_type": "code",
    "deepnote_cell_height": 455,
    "deepnote_output_heights": [
     250
    ]
   },
   "source": "unrate_pred = RF.predict(X)\nplt.plot(df['date'], df['unrate'], label = 'Observation')\nplt.plot(df['date'], unrate_pred, label = 'Prediction')\nplt.legend()\nplt.grid()\nplt.ylabel(\"unrate\", fontsize = 14)\nplt.show()",
   "execution_count": null,
   "outputs": [
    {
     "data": {
      "text/plain": "<Figure size 432x288 with 1 Axes>",
      "image/png": "[encoded data removed]"
     },
     "metadata": {
      "needs_background": "light",
      "image/png": {
       "width": 394,
       "height": 248
      }
     },
     "output_type": "display_data"
    }
   ]
  },
  {
   "cell_type": "markdown",
   "source": "* With the above Matplotlib graph, we can conclude that with a burst of unemployment rate during the beginning of 2020, the impact of the covid is decreasing as the time goes by until the end of 2022.",
   "metadata": {
    "cell_id": "c4f3d7cc44744783811f1a913b9b20e0",
    "tags": [],
    "deepnote_cell_type": "markdown",
    "deepnote_cell_height": 91.796875
   }
  },
  {
   "cell_type": "markdown",
   "source": "## Section 6: Summary\n\nIn my project of analyzing the unemployment rate during the pandemic of covid, I have divided the data analysis into 5 sections. In the first section, the data of unemployment rate and covid confirmed cases and death are loaded and cleaned using pandas. In the second section, Altair charts are conducted to visualize the correlation in the two specific years: 2020 and 2021. With the charts, we can conclude that 2020 is more influenced negatively by the covid pandemic than 2021. Then, in the next section, I have used the Random Forest Regression to find out whether the newly confirmed cases still matter that much as the aggregate cases do. The result shows the correlation is not that strong as time goes by. Last but not least, in section 5 Matplotlib is used to further visualize the section 4 correlation. With the last seaborn chart, we can make the conclusion of the diminishing impact on the unemployment rate from the covid during 2020 and 2021, and the positive proportional relationship between the cases and the unemployment rate.",
   "metadata": {
    "cell_id": "75922aa8-c6e1-46d5-9c85-550df5b37982",
    "tags": [],
    "deepnote_cell_type": "markdown",
    "deepnote_cell_height": 287.578125
   }
  },
  {
   "cell_type": "markdown",
   "source": "## References",
   "metadata": {
    "cell_id": "fc42153e-0b6d-4c37-9e06-ee471cfb0534",
    "tags": [],
    "deepnote_cell_type": "markdown",
    "deepnote_cell_height": 70
   }
  },
  {
   "cell_type": "markdown",
   "source": "* Dataset rom Kaggle, the unemployment rate in the US: [US Un.Rate](https://www.kaggle.com/datasets/axeltorbenson/unemployment-data-19482021)\n\n* Dataset from Kaggle, the Covid-19 confirmed cases in the US: [US Covid Data](https://www.kaggle.com/code/jennifersantiago/us-covid-19-eda-in-r/data)",
   "metadata": {
    "cell_id": "d3a63eb2a5bc44e0a0322bc8748d730b",
    "tags": [],
    "deepnote_cell_type": "markdown",
    "deepnote_cell_height": 94.796875
   }
  },
  {
   "cell_type": "markdown",
   "source": "* The tutorial for [RandomForestRegressor](https://scikit-learn.org/stable/modules/generated/sklearn.ensemble.RandomForestRegressor.html)\n\n* The tutorial for [Altair Chart with detail selection](https://altair-viz.github.io/gallery/select_detail.html)\n\n* The tutorial for [Altair Chart with multi-Line tooltip](https://altair-viz.github.io/gallery/multiline_tooltip.html)\n\n* The tutorial for [Matplotlib plots](https://seaborn.pydata.org/introduction.html)",
   "metadata": {
    "cell_id": "c01d9c7e85f74a0c8939eb4f9a7e7ca8",
    "tags": [],
    "owner_user_id": "02be19f8-8497-4212-b8d0-46ca9f1d48b9",
    "deepnote_cell_type": "markdown",
    "deepnote_cell_height": 356.59375
   }
  },
  {
   "cell_type": "markdown",
   "source": "<a style='text-decoration:none;line-height:16px;display:flex;color:#5B5B62;padding:10px;justify-content:end;' href='https://deepnote.com?utm_source=created-in-deepnote-cell&projectId=2f991d47-f790-46cd-9bae-e75d3c0ecbd0' target=\"_blank\">\n<img alt='Created in deepnote.com' style='display:inline;max-height:16px;margin:0px;margin-right:7.5px;' src='data:image/svg+xml;base64,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' > </img>\nCreated in <span style='font-weight:600;margin-left:4px;'>Deepnote</span></a>",
   "metadata": {
    "tags": [],
    "created_in_deepnote_cell": true,
    "deepnote_cell_type": "markdown"
   }
  }
 ],
 "nbformat": 4,
 "nbformat_minor": 2,
 "metadata": {
  "orig_nbformat": 2,
  "deepnote": {
   "is_reactive": false
  },
  "deepnote_notebook_id": "97afb67d-06ce-4a63-bb3d-208672377dae",
  "deepnote_execution_queue": []
 }
}