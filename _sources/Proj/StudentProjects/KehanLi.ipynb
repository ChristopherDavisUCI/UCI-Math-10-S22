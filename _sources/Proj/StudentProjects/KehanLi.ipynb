{
 "cells": [
  {
   "cell_type": "markdown",
   "source": "# Predict The Car Price\n\nAuthor: Kehan Li\n\nCourse Project, UC Irvine, Math 10, S22",
   "metadata": {
    "tags": [],
    "cell_id": "098969f5-ac0d-4245-bbc2-f824edd4e15f",
    "deepnote_cell_type": "markdown",
    "deepnote_cell_height": 156.796875
   }
  },
  {
   "cell_type": "markdown",
   "source": "## Introduction\n\nMy project is to build a LinearRegression and predict future vehicle prices based on historical data, which setup data is Latest_Launch, Sales_in_thousands, __year_resale_value, Passenger, Engine_size, setup, Wheelbase, Width, Length, Curb_weight, Fuel_capacity, Power_perf_factor, and found that the most correlated dataset is __year_resale_value, Engine_size, Engine_size, Curb_weight, Power_perf_factor. I tried to figure out the relationship between each variable and the final output, and chose the most significant variables to make the LinearRegression closer to the exact value. Also, I tried to build a KneighborsClassifier to determine if the car is worth buying.",
   "metadata": {
    "cell_id": "1232c27a-f5e2-426a-91e0-f6cfebd8a611",
    "tags": [],
    "deepnote_cell_type": "markdown",
    "deepnote_cell_height": 220.390625
   }
  },
  {
   "cell_type": "markdown",
   "source": "## Import data：",
   "metadata": {
    "cell_id": "a69563e42419482193574ee99af7b517",
    "tags": [],
    "deepnote_cell_type": "markdown",
    "deepnote_cell_height": 70
   }
  },
  {
   "cell_type": "code",
   "metadata": {
    "cell_id": "b1f5d2ed575d459398000863e04fd46e",
    "tags": [],
    "deepnote_to_be_reexecuted": false,
    "source_hash": "84cee5bd",
    "execution_start": 1654669305733,
    "execution_millis": 463,
    "deepnote_cell_type": "code",
    "deepnote_cell_height": 636
   },
   "source": "import pandas as pd\ndf = pd.read_csv(\"Car_sales.csv\").dropna()\ndf",
   "execution_count": null,
   "outputs": [
    {
     "output_type": "execute_result",
     "execution_count": 1,
     "data": {
      "application/vnd.deepnote.dataframe.v3+json": {
       "column_count": 16,
       "row_count": 117,
       "columns": [
        {
         "name": "Manufacturer",
         "dtype": "object",
         "stats": {
          "unique_count": 26,
          "nan_count": 0,
          "categories": [
           {
            "name": "Ford",
            "count": 10
           },
           {
            "name": "Dodge",
            "count": 9
           },
           {
            "name": "24 others",
            "count": 98
           }
          ]
         }
        },
        {
         "name": "Model",
         "dtype": "object",
         "stats": {
          "unique_count": 116,
          "nan_count": 0,
          "categories": [
           {
            "name": "Neon",
            "count": 2
           },
           {
            "name": "Integra",
            "count": 1
           },
           {
            "name": "114 others",
            "count": 114
           }
          ]
         }
        },
        {
         "name": "Sales_in_thousands",
         "dtype": "float64",
         "stats": {
          "unique_count": 117,
          "nan_count": 0,
          "min": "0.11",
          "max": "540.561",
          "histogram": [
           {
            "bin_start": 0.11,
            "bin_end": 54.155100000000004,
            "count": 76
           },
           {
            "bin_start": 54.155100000000004,
            "bin_end": 108.20020000000001,
            "count": 23
           },
           {
            "bin_start": 108.20020000000001,
            "bin_end": 162.24530000000004,
            "count": 9
           },
           {
            "bin_start": 162.24530000000004,
            "bin_end": 216.29040000000003,
            "count": 2
           },
           {
            "bin_start": 216.29040000000003,
            "bin_end": 270.3355,
            "count": 5
           },
           {
            "bin_start": 270.3355,
            "bin_end": 324.3806000000001,
            "count": 1
           },
           {
            "bin_start": 324.3806000000001,
            "bin_end": 378.42570000000006,
            "count": 0
           },
           {
            "bin_start": 378.42570000000006,
            "bin_end": 432.47080000000005,
            "count": 0
           },
           {
            "bin_start": 432.47080000000005,
            "bin_end": 486.51590000000004,
            "count": 0
           },
           {
            "bin_start": 486.51590000000004,
            "bin_end": 540.561,
            "count": 1
           }
          ]
         }
        },
        {
         "name": "__year_resale_value",
         "dtype": "float64",
         "stats": {
          "unique_count": 114,
          "nan_count": 0,
          "min": "5.16",
          "max": "67.55",
          "histogram": [
           {
            "bin_start": 5.16,
            "bin_end": 11.399000000000001,
            "count": 32
           },
           {
            "bin_start": 11.399000000000001,
            "bin_end": 17.637999999999998,
            "count": 45
           },
           {
            "bin_start": 17.637999999999998,
            "bin_end": 23.877,
            "count": 22
           },
           {
            "bin_start": 23.877,
            "bin_end": 30.116,
            "count": 5
           },
           {
            "bin_start": 30.116,
            "bin_end": 36.355000000000004,
            "count": 4
           },
           {
            "bin_start": 36.355000000000004,
            "bin_end": 42.593999999999994,
            "count": 4
           },
           {
            "bin_start": 42.593999999999994,
            "bin_end": 48.833,
            "count": 0
           },
           {
            "bin_start": 48.833,
            "bin_end": 55.072,
            "count": 1
           },
           {
            "bin_start": 55.072,
            "bin_end": 61.31099999999999,
            "count": 3
           },
           {
            "bin_start": 61.31099999999999,
            "bin_end": 67.55,
            "count": 1
           }
          ]
         }
        },
        {
         "name": "Vehicle_type",
         "dtype": "object",
         "stats": {
          "unique_count": 2,
          "nan_count": 0,
          "categories": [
           {
            "name": "Passenger",
            "count": 88
           },
           {
            "name": "Car",
            "count": 29
           }
          ]
         }
        },
        {
         "name": "Price_in_thousands",
         "dtype": "float64",
         "stats": {
          "unique_count": 116,
          "nan_count": 0,
          "min": "9.235",
          "max": "82.6",
          "histogram": [
           {
            "bin_start": 9.235,
            "bin_end": 16.5715,
            "count": 26
           },
           {
            "bin_start": 16.5715,
            "bin_end": 23.907999999999998,
            "count": 41
           },
           {
            "bin_start": 23.907999999999998,
            "bin_end": 31.244499999999995,
            "count": 22
           },
           {
            "bin_start": 31.244499999999995,
            "bin_end": 38.580999999999996,
            "count": 11
           },
           {
            "bin_start": 38.580999999999996,
            "bin_end": 45.9175,
            "count": 8
           },
           {
            "bin_start": 45.9175,
            "bin_end": 53.25399999999999,
            "count": 2
           },
           {
            "bin_start": 53.25399999999999,
            "bin_end": 60.59049999999999,
            "count": 1
           },
           {
            "bin_start": 60.59049999999999,
            "bin_end": 67.92699999999999,
            "count": 1
           },
           {
            "bin_start": 67.92699999999999,
            "bin_end": 75.2635,
            "count": 4
           },
           {
            "bin_start": 75.2635,
            "bin_end": 82.6,
            "count": 1
           }
          ]
         }
        },
        {
         "name": "Engine_size",
         "dtype": "float64",
         "stats": {
          "unique_count": 29,
          "nan_count": 0,
          "min": "1.0",
          "max": "8.0",
          "histogram": [
           {
            "bin_start": 1,
            "bin_end": 1.7,
            "count": 3
           },
           {
            "bin_start": 1.7,
            "bin_end": 2.4,
            "count": 29
           },
           {
            "bin_start": 2.4,
            "bin_end": 3.0999999999999996,
            "count": 33
           },
           {
            "bin_start": 3.0999999999999996,
            "bin_end": 3.8,
            "count": 20
           },
           {
            "bin_start": 3.8,
            "bin_end": 4.5,
            "count": 19
           },
           {
            "bin_start": 4.5,
            "bin_end": 5.199999999999999,
            "count": 10
           },
           {
            "bin_start": 5.199999999999999,
            "bin_end": 5.8999999999999995,
            "count": 2
           },
           {
            "bin_start": 5.8999999999999995,
            "bin_end": 6.6,
            "count": 0
           },
           {
            "bin_start": 6.6,
            "bin_end": 7.3,
            "count": 0
           },
           {
            "bin_start": 7.3,
            "bin_end": 8,
            "count": 1
           }
          ]
         }
        },
        {
         "name": "Horsepower",
         "dtype": "float64",
         "stats": {
          "unique_count": 57,
          "nan_count": 0,
          "min": "55.0",
          "max": "450.0",
          "histogram": [
           {
            "bin_start": 55,
            "bin_end": 94.5,
            "count": 2
           },
           {
            "bin_start": 94.5,
            "bin_end": 134,
            "count": 25
           },
           {
            "bin_start": 134,
            "bin_end": 173.5,
            "count": 31
           },
           {
            "bin_start": 173.5,
            "bin_end": 213,
            "count": 34
           },
           {
            "bin_start": 213,
            "bin_end": 252.5,
            "count": 13
           },
           {
            "bin_start": 252.5,
            "bin_end": 292,
            "count": 6
           },
           {
            "bin_start": 292,
            "bin_end": 331.5,
            "count": 4
           },
           {
            "bin_start": 331.5,
            "bin_end": 371,
            "count": 1
           },
           {
            "bin_start": 371,
            "bin_end": 410.5,
            "count": 0
           },
           {
            "bin_start": 410.5,
            "bin_end": 450,
            "count": 1
           }
          ]
         }
        },
        {
         "name": "Wheelbase",
         "dtype": "float64",
         "stats": {
          "unique_count": 74,
          "nan_count": 0,
          "min": "92.6",
          "max": "138.7",
          "histogram": [
           {
            "bin_start": 92.6,
            "bin_end": 97.21,
            "count": 11
           },
           {
            "bin_start": 97.21,
            "bin_end": 101.82,
            "count": 15
           },
           {
            "bin_start": 101.82,
            "bin_end": 106.42999999999999,
            "count": 28
           },
           {
            "bin_start": 106.42999999999999,
            "bin_end": 111.03999999999999,
            "count": 31
           },
           {
            "bin_start": 111.03999999999999,
            "bin_end": 115.64999999999999,
            "count": 21
           },
           {
            "bin_start": 115.64999999999999,
            "bin_end": 120.25999999999999,
            "count": 5
           },
           {
            "bin_start": 120.25999999999999,
            "bin_end": 124.86999999999999,
            "count": 2
           },
           {
            "bin_start": 124.86999999999999,
            "bin_end": 129.48,
            "count": 1
           },
           {
            "bin_start": 129.48,
            "bin_end": 134.08999999999997,
            "count": 1
           },
           {
            "bin_start": 134.08999999999997,
            "bin_end": 138.7,
            "count": 2
           }
          ]
         }
        },
        {
         "name": "Width",
         "dtype": "float64",
         "stats": {
          "unique_count": 66,
          "nan_count": 0,
          "min": "62.6",
          "max": "79.3",
          "histogram": [
           {
            "bin_start": 62.6,
            "bin_end": 64.27,
            "count": 1
           },
           {
            "bin_start": 64.27,
            "bin_end": 65.94,
            "count": 1
           },
           {
            "bin_start": 65.94,
            "bin_end": 67.61,
            "count": 17
           },
           {
            "bin_start": 67.61,
            "bin_end": 69.28,
            "count": 19
           },
           {
            "bin_start": 69.28,
            "bin_end": 70.95,
            "count": 25
           },
           {
            "bin_start": 70.95,
            "bin_end": 72.62,
            "count": 15
           },
           {
            "bin_start": 72.62,
            "bin_end": 74.28999999999999,
            "count": 13
           },
           {
            "bin_start": 74.28999999999999,
            "bin_end": 75.96,
            "count": 13
           },
           {
            "bin_start": 75.96,
            "bin_end": 77.63,
            "count": 5
           },
           {
            "bin_start": 77.63,
            "bin_end": 79.3,
            "count": 8
           }
          ]
         }
        },
        {
         "name": "Length",
         "dtype": "float64",
         "stats": {
          "unique_count": 102,
          "nan_count": 0,
          "min": "149.4",
          "max": "224.5",
          "histogram": [
           {
            "bin_start": 149.4,
            "bin_end": 156.91,
            "count": 2
           },
           {
            "bin_start": 156.91,
            "bin_end": 164.42000000000002,
            "count": 4
           },
           {
            "bin_start": 164.42000000000002,
            "bin_end": 171.93,
            "count": 4
           },
           {
            "bin_start": 171.93,
            "bin_end": 179.44,
            "count": 25
           },
           {
            "bin_start": 179.44,
            "bin_end": 186.95,
            "count": 23
           },
           {
            "bin_start": 186.95,
            "bin_end": 194.46,
            "count": 24
           },
           {
            "bin_start": 194.46,
            "bin_end": 201.97,
            "count": 19
           },
           {
            "bin_start": 201.97,
            "bin_end": 209.48000000000002,
            "count": 10
           },
           {
            "bin_start": 209.48000000000002,
            "bin_end": 216.99,
            "count": 4
           },
           {
            "bin_start": 216.99,
            "bin_end": 224.5,
            "count": 2
           }
          ]
         }
        },
        {
         "name": "Curb_weight",
         "dtype": "float64",
         "stats": {
          "unique_count": 113,
          "nan_count": 0,
          "min": "1.895",
          "max": "5.115",
          "histogram": [
           {
            "bin_start": 1.895,
            "bin_end": 2.217,
            "count": 1
           },
           {
            "bin_start": 2.217,
            "bin_end": 2.539,
            "count": 10
           },
           {
            "bin_start": 2.539,
            "bin_end": 2.8609999999999998,
            "count": 14
           },
           {
            "bin_start": 2.8609999999999998,
            "bin_end": 3.183,
            "count": 24
           },
           {
            "bin_start": 3.183,
            "bin_end": 3.505,
            "count": 24
           },
           {
            "bin_start": 3.505,
            "bin_end": 3.827,
            "count": 15
           },
           {
            "bin_start": 3.827,
            "bin_end": 4.149,
            "count": 21
           },
           {
            "bin_start": 4.149,
            "bin_end": 4.471,
            "count": 5
           },
           {
            "bin_start": 4.471,
            "bin_end": 4.793,
            "count": 1
           },
           {
            "bin_start": 4.793,
            "bin_end": 5.115,
            "count": 2
           }
          ]
         }
        },
        {
         "name": "Fuel_capacity",
         "dtype": "float64",
         "stats": {
          "unique_count": 45,
          "nan_count": 0,
          "min": "10.3",
          "max": "32.0",
          "histogram": [
           {
            "bin_start": 10.3,
            "bin_end": 12.47,
            "count": 6
           },
           {
            "bin_start": 12.47,
            "bin_end": 14.64,
            "count": 15
           },
           {
            "bin_start": 14.64,
            "bin_end": 16.810000000000002,
            "count": 29
           },
           {
            "bin_start": 16.810000000000002,
            "bin_end": 18.98,
            "count": 28
           },
           {
            "bin_start": 18.98,
            "bin_end": 21.15,
            "count": 26
           },
           {
            "bin_start": 21.15,
            "bin_end": 23.32,
            "count": 3
           },
           {
            "bin_start": 23.32,
            "bin_end": 25.490000000000002,
            "count": 5
           },
           {
            "bin_start": 25.490000000000002,
            "bin_end": 27.66,
            "count": 3
           },
           {
            "bin_start": 27.66,
            "bin_end": 29.830000000000002,
            "count": 0
           },
           {
            "bin_start": 29.830000000000002,
            "bin_end": 32,
            "count": 2
           }
          ]
         }
        },
        {
         "name": "Fuel_efficiency",
         "dtype": "float64",
         "stats": {
          "unique_count": 20,
          "nan_count": 0,
          "min": "15.0",
          "max": "45.0",
          "histogram": [
           {
            "bin_start": 15,
            "bin_end": 18,
            "count": 7
           },
           {
            "bin_start": 18,
            "bin_end": 21,
            "count": 12
           },
           {
            "bin_start": 21,
            "bin_end": 24,
            "count": 31
           },
           {
            "bin_start": 24,
            "bin_end": 27,
            "count": 39
           },
           {
            "bin_start": 27,
            "bin_end": 30,
            "count": 15
           },
           {
            "bin_start": 30,
            "bin_end": 33,
            "count": 8
           },
           {
            "bin_start": 33,
            "bin_end": 36,
            "count": 4
           },
           {
            "bin_start": 36,
            "bin_end": 39,
            "count": 0
           },
           {
            "bin_start": 39,
            "bin_end": 42,
            "count": 0
           },
           {
            "bin_start": 42,
            "bin_end": 45,
            "count": 1
           }
          ]
         }
        },
        {
         "name": "Latest_Launch",
         "dtype": "object",
         "stats": {
          "unique_count": 108,
          "nan_count": 0,
          "categories": [
           {
            "name": "1/29/2012",
            "count": 2
           },
           {
            "name": "2/23/2012",
            "count": 2
           },
           {
            "name": "106 others",
            "count": 113
           }
          ]
         }
        },
        {
         "name": "Power_perf_factor",
         "dtype": "float64",
         "stats": {
          "unique_count": 116,
          "nan_count": 0,
          "min": "23.27627233",
          "max": "188.144323",
          "histogram": [
           {
            "bin_start": 23.27627233,
            "bin_end": 39.763077397,
            "count": 2
           },
           {
            "bin_start": 39.763077397,
            "bin_end": 56.249882463999995,
            "count": 28
           },
           {
            "bin_start": 56.249882463999995,
            "bin_end": 72.736687531,
            "count": 34
           },
           {
            "bin_start": 72.736687531,
            "bin_end": 89.22349259799999,
            "count": 27
           },
           {
            "bin_start": 89.22349259799999,
            "bin_end": 105.710297665,
            "count": 15
           },
           {
            "bin_start": 105.710297665,
            "bin_end": 122.19710273199999,
            "count": 3
           },
           {
            "bin_start": 122.19710273199999,
            "bin_end": 138.683907799,
            "count": 5
           },
           {
            "bin_start": 138.683907799,
            "bin_end": 155.170712866,
            "count": 2
           },
           {
            "bin_start": 155.170712866,
            "bin_end": 171.657517933,
            "count": 0
           },
           {
            "bin_start": 171.657517933,
            "bin_end": 188.144323,
            "count": 1
           }
          ]
         }
        },
        {
         "name": "_deepnote_index_column",
         "dtype": "int64"
        }
       ],
       "rows": [
        {
         "Manufacturer": "Acura",
         "Model": "Integra",
         "Sales_in_thousands": 16.919,
         "__year_resale_value": 16.36,
         "Vehicle_type": "Passenger",
         "Price_in_thousands": 21.5,
         "Engine_size": 1.8,
         "Horsepower": 140,
         "Wheelbase": 101.2,
         "Width": 67.3,
         "Length": 172.4,
         "Curb_weight": 2.639,
         "Fuel_capacity": 13.2,
         "Fuel_efficiency": 28,
         "Latest_Launch": "2/2/2012",
         "Power_perf_factor": 58.28014952,
         "_deepnote_index_column": 0
        },
        {
         "Manufacturer": "Acura",
         "Model": "TL",
         "Sales_in_thousands": 39.384,
         "__year_resale_value": 19.875,
         "Vehicle_type": "Passenger",
         "Price_in_thousands": 28.4,
         "Engine_size": 3.2,
         "Horsepower": 225,
         "Wheelbase": 108.1,
         "Width": 70.3,
         "Length": 192.9,
         "Curb_weight": 3.517,
         "Fuel_capacity": 17.2,
         "Fuel_efficiency": 25,
         "Latest_Launch": "6/3/2011",
         "Power_perf_factor": 91.37077766,
         "_deepnote_index_column": 1
        },
        {
         "Manufacturer": "Acura",
         "Model": "RL",
         "Sales_in_thousands": 8.588,
         "__year_resale_value": 29.725,
         "Vehicle_type": "Passenger",
         "Price_in_thousands": 42,
         "Engine_size": 3.5,
         "Horsepower": 210,
         "Wheelbase": 114.6,
         "Width": 71.4,
         "Length": 196.6,
         "Curb_weight": 3.85,
         "Fuel_capacity": 18,
         "Fuel_efficiency": 22,
         "Latest_Launch": "3/10/2011",
         "Power_perf_factor": 91.38977933,
         "_deepnote_index_column": 3
        },
        {
         "Manufacturer": "Audi",
         "Model": "A4",
         "Sales_in_thousands": 20.397,
         "__year_resale_value": 22.255,
         "Vehicle_type": "Passenger",
         "Price_in_thousands": 23.99,
         "Engine_size": 1.8,
         "Horsepower": 150,
         "Wheelbase": 102.6,
         "Width": 68.2,
         "Length": 178,
         "Curb_weight": 2.998,
         "Fuel_capacity": 16.4,
         "Fuel_efficiency": 27,
         "Latest_Launch": "10/8/2011",
         "Power_perf_factor": 62.7776392,
         "_deepnote_index_column": 4
        },
        {
         "Manufacturer": "Audi",
         "Model": "A6",
         "Sales_in_thousands": 18.78,
         "__year_resale_value": 23.555,
         "Vehicle_type": "Passenger",
         "Price_in_thousands": 33.95,
         "Engine_size": 2.8,
         "Horsepower": 200,
         "Wheelbase": 108.7,
         "Width": 76.1,
         "Length": 192,
         "Curb_weight": 3.561,
         "Fuel_capacity": 18.5,
         "Fuel_efficiency": 22,
         "Latest_Launch": "8/9/2011",
         "Power_perf_factor": 84.56510502,
         "_deepnote_index_column": 5
        },
        {
         "Manufacturer": "Audi",
         "Model": "A8",
         "Sales_in_thousands": 1.38,
         "__year_resale_value": 39,
         "Vehicle_type": "Passenger",
         "Price_in_thousands": 62,
         "Engine_size": 4.2,
         "Horsepower": 310,
         "Wheelbase": 113,
         "Width": 74,
         "Length": 198.2,
         "Curb_weight": 3.902,
         "Fuel_capacity": 23.7,
         "Fuel_efficiency": 21,
         "Latest_Launch": "2/27/2012",
         "Power_perf_factor": 134.6568582,
         "_deepnote_index_column": 6
        },
        {
         "Manufacturer": "BMW",
         "Model": "328i",
         "Sales_in_thousands": 9.231,
         "__year_resale_value": 28.675,
         "Vehicle_type": "Passenger",
         "Price_in_thousands": 33.4,
         "Engine_size": 2.8,
         "Horsepower": 193,
         "Wheelbase": 107.3,
         "Width": 68.5,
         "Length": 176,
         "Curb_weight": 3.197,
         "Fuel_capacity": 16.6,
         "Fuel_efficiency": 24,
         "Latest_Launch": "1/29/2012",
         "Power_perf_factor": 81.87706856,
         "_deepnote_index_column": 8
        },
        {
         "Manufacturer": "BMW",
         "Model": "528i",
         "Sales_in_thousands": 17.527,
         "__year_resale_value": 36.125,
         "Vehicle_type": "Passenger",
         "Price_in_thousands": 38.9,
         "Engine_size": 2.8,
         "Horsepower": 193,
         "Wheelbase": 111.4,
         "Width": 70.9,
         "Length": 188,
         "Curb_weight": 3.472,
         "Fuel_capacity": 18.5,
         "Fuel_efficiency": 25,
         "Latest_Launch": "4/4/2011",
         "Power_perf_factor": 83.9987238,
         "_deepnote_index_column": 9
        },
        {
         "Manufacturer": "Buick",
         "Model": "Century",
         "Sales_in_thousands": 91.561,
         "__year_resale_value": 12.475,
         "Vehicle_type": "Passenger",
         "Price_in_thousands": 21.975,
         "Engine_size": 3.1,
         "Horsepower": 175,
         "Wheelbase": 109,
         "Width": 72.7,
         "Length": 194.6,
         "Curb_weight": 3.368,
         "Fuel_capacity": 17.5,
         "Fuel_efficiency": 25,
         "Latest_Launch": "11/2/2011",
         "Power_perf_factor": 71.18145132,
         "_deepnote_index_column": 10
        },
        {
         "Manufacturer": "Buick",
         "Model": "Regal",
         "Sales_in_thousands": 39.35,
         "__year_resale_value": 13.74,
         "Vehicle_type": "Passenger",
         "Price_in_thousands": 25.3,
         "Engine_size": 3.8,
         "Horsepower": 240,
         "Wheelbase": 109,
         "Width": 72.7,
         "Length": 196.2,
         "Curb_weight": 3.543,
         "Fuel_capacity": 17.5,
         "Fuel_efficiency": 23,
         "Latest_Launch": "9/3/2011",
         "Power_perf_factor": 95.63670253,
         "_deepnote_index_column": 11
        }
       ]
      },
      "text/plain": "    Manufacturer    Model  Sales_in_thousands  __year_resale_value  \\\n0          Acura  Integra              16.919               16.360   \n1          Acura       TL              39.384               19.875   \n3          Acura       RL               8.588               29.725   \n4           Audi       A4              20.397               22.255   \n5           Audi       A6              18.780               23.555   \n..           ...      ...                 ...                  ...   \n145   Volkswagen     Golf               9.761               11.425   \n146   Volkswagen    Jetta              83.721               13.240   \n147   Volkswagen   Passat              51.102               16.725   \n148   Volkswagen   Cabrio               9.569               16.575   \n149   Volkswagen      GTI               5.596               13.760   \n\n    Vehicle_type  Price_in_thousands  Engine_size  Horsepower  Wheelbase  \\\n0      Passenger               21.50          1.8       140.0      101.2   \n1      Passenger               28.40          3.2       225.0      108.1   \n3      Passenger               42.00          3.5       210.0      114.6   \n4      Passenger               23.99          1.8       150.0      102.6   \n5      Passenger               33.95          2.8       200.0      108.7   \n..           ...                 ...          ...         ...        ...   \n145    Passenger               14.90          2.0       115.0       98.9   \n146    Passenger               16.70          2.0       115.0       98.9   \n147    Passenger               21.20          1.8       150.0      106.4   \n148    Passenger               19.99          2.0       115.0       97.4   \n149    Passenger               17.50          2.0       115.0       98.9   \n\n     Width  Length  Curb_weight  Fuel_capacity  Fuel_efficiency Latest_Launch  \\\n0     67.3   172.4        2.639           13.2             28.0      2/2/2012   \n1     70.3   192.9        3.517           17.2             25.0      6/3/2011   \n3     71.4   196.6        3.850           18.0             22.0     3/10/2011   \n4     68.2   178.0        2.998           16.4             27.0     10/8/2011   \n5     76.1   192.0        3.561           18.5             22.0      8/9/2011   \n..     ...     ...          ...            ...              ...           ...   \n145   68.3   163.3        2.767           14.5             26.0     1/24/2011   \n146   68.3   172.3        2.853           14.5             26.0     8/27/2011   \n147   68.5   184.1        3.043           16.4             27.0    10/30/2012   \n148   66.7   160.4        3.079           13.7             26.0     5/31/2011   \n149   68.3   163.3        2.762           14.6             26.0      4/1/2011   \n\n     Power_perf_factor  \n0            58.280150  \n1            91.370778  \n3            91.389779  \n4            62.777639  \n5            84.565105  \n..                 ...  \n145          46.943877  \n146          47.638237  \n147          61.701381  \n148          48.907372  \n149          47.946841  \n\n[117 rows x 16 columns]",
      "text/html": "<div>\n<style scoped>\n    .dataframe tbody tr th:only-of-type {\n        vertical-align: middle;\n    }\n\n    .dataframe tbody tr th {\n        vertical-align: top;\n    }\n\n    .dataframe thead th {\n        text-align: right;\n    }\n</style>\n<table border=\"1\" class=\"dataframe\">\n  <thead>\n    <tr style=\"text-align: right;\">\n      <th></th>\n      <th>Manufacturer</th>\n      <th>Model</th>\n      <th>Sales_in_thousands</th>\n      <th>__year_resale_value</th>\n      <th>Vehicle_type</th>\n      <th>Price_in_thousands</th>\n      <th>Engine_size</th>\n      <th>Horsepower</th>\n      <th>Wheelbase</th>\n      <th>Width</th>\n      <th>Length</th>\n      <th>Curb_weight</th>\n      <th>Fuel_capacity</th>\n      <th>Fuel_efficiency</th>\n      <th>Latest_Launch</th>\n      <th>Power_perf_factor</th>\n    </tr>\n  </thead>\n  <tbody>\n    <tr>\n      <th>0</th>\n      <td>Acura</td>\n      <td>Integra</td>\n      <td>16.919</td>\n      <td>16.360</td>\n      <td>Passenger</td>\n      <td>21.50</td>\n      <td>1.8</td>\n      <td>140.0</td>\n      <td>101.2</td>\n      <td>67.3</td>\n      <td>172.4</td>\n      <td>2.639</td>\n      <td>13.2</td>\n      <td>28.0</td>\n      <td>2/2/2012</td>\n      <td>58.280150</td>\n    </tr>\n    <tr>\n      <th>1</th>\n      <td>Acura</td>\n      <td>TL</td>\n      <td>39.384</td>\n      <td>19.875</td>\n      <td>Passenger</td>\n      <td>28.40</td>\n      <td>3.2</td>\n      <td>225.0</td>\n      <td>108.1</td>\n      <td>70.3</td>\n      <td>192.9</td>\n      <td>3.517</td>\n      <td>17.2</td>\n      <td>25.0</td>\n      <td>6/3/2011</td>\n      <td>91.370778</td>\n    </tr>\n    <tr>\n      <th>3</th>\n      <td>Acura</td>\n      <td>RL</td>\n      <td>8.588</td>\n      <td>29.725</td>\n      <td>Passenger</td>\n      <td>42.00</td>\n      <td>3.5</td>\n      <td>210.0</td>\n      <td>114.6</td>\n      <td>71.4</td>\n      <td>196.6</td>\n      <td>3.850</td>\n      <td>18.0</td>\n      <td>22.0</td>\n      <td>3/10/2011</td>\n      <td>91.389779</td>\n    </tr>\n    <tr>\n      <th>4</th>\n      <td>Audi</td>\n      <td>A4</td>\n      <td>20.397</td>\n      <td>22.255</td>\n      <td>Passenger</td>\n      <td>23.99</td>\n      <td>1.8</td>\n      <td>150.0</td>\n      <td>102.6</td>\n      <td>68.2</td>\n      <td>178.0</td>\n      <td>2.998</td>\n      <td>16.4</td>\n      <td>27.0</td>\n      <td>10/8/2011</td>\n      <td>62.777639</td>\n    </tr>\n    <tr>\n      <th>5</th>\n      <td>Audi</td>\n      <td>A6</td>\n      <td>18.780</td>\n      <td>23.555</td>\n      <td>Passenger</td>\n      <td>33.95</td>\n      <td>2.8</td>\n      <td>200.0</td>\n      <td>108.7</td>\n      <td>76.1</td>\n      <td>192.0</td>\n      <td>3.561</td>\n      <td>18.5</td>\n      <td>22.0</td>\n      <td>8/9/2011</td>\n      <td>84.565105</td>\n    </tr>\n    <tr>\n      <th>...</th>\n      <td>...</td>\n      <td>...</td>\n      <td>...</td>\n      <td>...</td>\n      <td>...</td>\n      <td>...</td>\n      <td>...</td>\n      <td>...</td>\n      <td>...</td>\n      <td>...</td>\n      <td>...</td>\n      <td>...</td>\n      <td>...</td>\n      <td>...</td>\n      <td>...</td>\n      <td>...</td>\n    </tr>\n    <tr>\n      <th>145</th>\n      <td>Volkswagen</td>\n      <td>Golf</td>\n      <td>9.761</td>\n      <td>11.425</td>\n      <td>Passenger</td>\n      <td>14.90</td>\n      <td>2.0</td>\n      <td>115.0</td>\n      <td>98.9</td>\n      <td>68.3</td>\n      <td>163.3</td>\n      <td>2.767</td>\n      <td>14.5</td>\n      <td>26.0</td>\n      <td>1/24/2011</td>\n      <td>46.943877</td>\n    </tr>\n    <tr>\n      <th>146</th>\n      <td>Volkswagen</td>\n      <td>Jetta</td>\n      <td>83.721</td>\n      <td>13.240</td>\n      <td>Passenger</td>\n      <td>16.70</td>\n      <td>2.0</td>\n      <td>115.0</td>\n      <td>98.9</td>\n      <td>68.3</td>\n      <td>172.3</td>\n      <td>2.853</td>\n      <td>14.5</td>\n      <td>26.0</td>\n      <td>8/27/2011</td>\n      <td>47.638237</td>\n    </tr>\n    <tr>\n      <th>147</th>\n      <td>Volkswagen</td>\n      <td>Passat</td>\n      <td>51.102</td>\n      <td>16.725</td>\n      <td>Passenger</td>\n      <td>21.20</td>\n      <td>1.8</td>\n      <td>150.0</td>\n      <td>106.4</td>\n      <td>68.5</td>\n      <td>184.1</td>\n      <td>3.043</td>\n      <td>16.4</td>\n      <td>27.0</td>\n      <td>10/30/2012</td>\n      <td>61.701381</td>\n    </tr>\n    <tr>\n      <th>148</th>\n      <td>Volkswagen</td>\n      <td>Cabrio</td>\n      <td>9.569</td>\n      <td>16.575</td>\n      <td>Passenger</td>\n      <td>19.99</td>\n      <td>2.0</td>\n      <td>115.0</td>\n      <td>97.4</td>\n      <td>66.7</td>\n      <td>160.4</td>\n      <td>3.079</td>\n      <td>13.7</td>\n      <td>26.0</td>\n      <td>5/31/2011</td>\n      <td>48.907372</td>\n    </tr>\n    <tr>\n      <th>149</th>\n      <td>Volkswagen</td>\n      <td>GTI</td>\n      <td>5.596</td>\n      <td>13.760</td>\n      <td>Passenger</td>\n      <td>17.50</td>\n      <td>2.0</td>\n      <td>115.0</td>\n      <td>98.9</td>\n      <td>68.3</td>\n      <td>163.3</td>\n      <td>2.762</td>\n      <td>14.6</td>\n      <td>26.0</td>\n      <td>4/1/2011</td>\n      <td>47.946841</td>\n    </tr>\n  </tbody>\n</table>\n<p>117 rows × 16 columns</p>\n</div>"
     },
     "metadata": {}
    }
   ]
  },
  {
   "cell_type": "markdown",
   "source": "## Manufacturer Distribution：",
   "metadata": {
    "cell_id": "56aaa58e973a42a2ac29fcd197905ad0",
    "tags": [],
    "deepnote_cell_type": "markdown",
    "deepnote_cell_height": 70
   }
  },
  {
   "cell_type": "code",
   "metadata": {
    "cell_id": "5c1d460bdfb5451aa2437e30273f1383",
    "tags": [],
    "deepnote_to_be_reexecuted": false,
    "source_hash": "5ce2c928",
    "execution_start": 1654669305932,
    "execution_millis": 264,
    "deepnote_cell_type": "code",
    "deepnote_cell_height": 194.96875,
    "deepnote_output_heights": [
     97.96875
    ]
   },
   "source": "df.Manufacturer.unique()",
   "execution_count": null,
   "outputs": [
    {
     "output_type": "execute_result",
     "execution_count": 2,
     "data": {
      "text/plain": "array(['Acura', 'Audi', 'BMW', 'Buick', 'Cadillac', 'Chevrolet',\n       'Chrysler', 'Dodge', 'Ford', 'Honda', 'Hyundai', 'Infiniti',\n       'Jeep', 'Lexus', 'Lincoln', 'Mitsubishi', 'Mercury', 'Mercedes-B',\n       'Nissan', 'Oldsmobile', 'Plymouth', 'Pontiac', 'Porsche', 'Saturn',\n       'Toyota', 'Volkswagen'], dtype=object)"
     },
     "metadata": {}
    }
   ]
  },
  {
   "cell_type": "code",
   "metadata": {
    "cell_id": "0e6cf111a1ed4be4a0b75a754ceb057d",
    "tags": [],
    "deepnote_to_be_reexecuted": false,
    "source_hash": "c2bede23",
    "execution_start": 1654669305974,
    "execution_millis": 633749060,
    "deepnote_cell_type": "code",
    "deepnote_cell_height": 617.265625
   },
   "source": "df.Manufacturer.value_counts()",
   "execution_count": null,
   "outputs": [
    {
     "output_type": "execute_result",
     "execution_count": 3,
     "data": {
      "text/plain": "Ford          10\nDodge          9\nToyota         8\nChevrolet      8\nMitsubishi     7\nMercury        6\nHonda          5\nVolkswagen     5\nNissan         5\nPontiac        5\nChrysler       5\nOldsmobile     4\nBuick          4\nMercedes-B     4\nPlymouth       3\nAcura          3\nJeep           3\nLexus          3\nSaturn         3\nAudi           3\nPorsche        3\nHyundai        3\nCadillac       3\nBMW            2\nLincoln        2\nInfiniti       1\nName: Manufacturer, dtype: int64"
     },
     "metadata": {}
    }
   ]
  },
  {
   "cell_type": "code",
   "metadata": {
    "cell_id": "922c70f5ac42456591109eff970511f5",
    "tags": [],
    "deepnote_to_be_reexecuted": false,
    "source_hash": "9c99f364",
    "execution_start": 1654669421536,
    "execution_millis": 41,
    "deepnote_cell_type": "code",
    "deepnote_cell_height": 656
   },
   "source": "import altair as alt\nc3 = alt.Chart(df).mark_bar().encode(\n    x = \"Manufacturer\",\n    y = \"count()\",\n    color=\"Model\",\n    tooltip=[\"Model\",\"Sales_in_thousands\",\"Price_in_thousands\"]\n)\nc3",
   "execution_count": null,
   "outputs": [
    {
     "output_type": "execute_result",
     "execution_count": 12,
     "data": {
      "text/html": "\n<div id=\"altair-viz-fc30142deaa74360a7b212ce0092e18d\"></div>\n<script type=\"text/javascript\">\n  (function(spec, embedOpt){\n    let outputDiv = document.currentScript.previousElementSibling;\n    if (outputDiv.id !== \"altair-viz-fc30142deaa74360a7b212ce0092e18d\") {\n      outputDiv = document.getElementById(\"altair-viz-fc30142deaa74360a7b212ce0092e18d\");\n    }\n    const paths = {\n      \"vega\": \"https://cdn.jsdelivr.net/npm//vega@5?noext\",\n      \"vega-lib\": \"https://cdn.jsdelivr.net/npm//vega-lib?noext\",\n      \"vega-lite\": \"https://cdn.jsdelivr.net/npm//vega-lite@4.8.1?noext\",\n      \"vega-embed\": \"https://cdn.jsdelivr.net/npm//vega-embed@6?noext\",\n    };\n\n    function loadScript(lib) {\n      return new Promise(function(resolve, reject) {\n        var s = document.createElement('script');\n        s.src = paths[lib];\n        s.async = true;\n        s.onload = () => resolve(paths[lib]);\n        s.onerror = () => reject(`Error loading script: ${paths[lib]}`);\n        document.getElementsByTagName(\"head\")[0].appendChild(s);\n      });\n    }\n\n    function showError(err) {\n      outputDiv.innerHTML = `<div class=\"error\" style=\"color:red;\">${err}</div>`;\n      throw err;\n    }\n\n    function displayChart(vegaEmbed) {\n      vegaEmbed(outputDiv, spec, embedOpt)\n        .catch(err => showError(`Javascript Error: ${err.message}<br>This usually means there's a typo in your chart specification. See the javascript console for the full traceback.`));\n    }\n\n    if(typeof define === \"function\" && define.amd) {\n      requirejs.config({paths});\n      require([\"vega-embed\"], displayChart, err => showError(`Error loading script: ${err.message}`));\n    } else if (typeof vegaEmbed === \"function\") {\n      displayChart(vegaEmbed);\n    } else {\n      loadScript(\"vega\")\n        .then(() => loadScript(\"vega-lite\"))\n        .then(() => loadScript(\"vega-embed\"))\n        .catch(showError)\n        .then(() => displayChart(vegaEmbed));\n    }\n  })({\"config\": {\"view\": {\"continuousWidth\": 400, \"continuousHeight\": 300}}, \"data\": {\"name\": \"data-7e76f9f2ef1aa9cb32715c5a6a0e7c76\"}, \"mark\": \"bar\", \"encoding\": {\"color\": {\"type\": \"nominal\", \"field\": \"Model\"}, \"tooltip\": [{\"type\": \"nominal\", \"field\": \"Model\"}, {\"type\": \"quantitative\", \"field\": \"Sales_in_thousands\"}, {\"type\": \"quantitative\", \"field\": \"Price_in_thousands\"}], \"x\": {\"type\": \"nominal\", \"field\": \"Manufacturer\"}, \"y\": {\"type\": \"quantitative\", \"aggregate\": \"count\"}}, \"$schema\": \"https://vega.github.io/schema/vega-lite/v4.8.1.json\", \"datasets\": {\"data-7e76f9f2ef1aa9cb32715c5a6a0e7c76\": [{\"Manufacturer\": \"Acura\", \"Model\": \"Integra\", \"Sales_in_thousands\": 16.919, \"__year_resale_value\": 16.36, \"Vehicle_type\": \"Passenger\", \"Price_in_thousands\": 21.5, \"Engine_size\": 1.8, \"Horsepower\": 140.0, \"Wheelbase\": 101.2, \"Width\": 67.3, \"Length\": 172.4, \"Curb_weight\": 2.639, \"Fuel_capacity\": 13.2, \"Fuel_efficiency\": 28.0, \"Latest_Launch\": 1328140800000000000, \"Power_perf_factor\": 58.28014952, \"Passenger\": 1}, {\"Manufacturer\": \"Acura\", \"Model\": \"TL\", \"Sales_in_thousands\": 39.384, \"__year_resale_value\": 19.875, \"Vehicle_type\": \"Passenger\", \"Price_in_thousands\": 28.4, \"Engine_size\": 3.2, \"Horsepower\": 225.0, \"Wheelbase\": 108.1, \"Width\": 70.3, \"Length\": 192.9, \"Curb_weight\": 3.517, \"Fuel_capacity\": 17.2, \"Fuel_efficiency\": 25.0, \"Latest_Launch\": 1307059200000000000, \"Power_perf_factor\": 91.37077766, \"Passenger\": 1}, {\"Manufacturer\": \"Acura\", \"Model\": \"RL\", \"Sales_in_thousands\": 8.588, \"__year_resale_value\": 29.725, \"Vehicle_type\": \"Passenger\", \"Price_in_thousands\": 42.0, \"Engine_size\": 3.5, \"Horsepower\": 210.0, \"Wheelbase\": 114.6, \"Width\": 71.4, \"Length\": 196.6, \"Curb_weight\": 3.85, \"Fuel_capacity\": 18.0, \"Fuel_efficiency\": 22.0, \"Latest_Launch\": 1299715200000000000, \"Power_perf_factor\": 91.38977933, \"Passenger\": 1}, {\"Manufacturer\": \"Audi\", \"Model\": \"A4\", \"Sales_in_thousands\": 20.397, \"__year_resale_value\": 22.255, \"Vehicle_type\": \"Passenger\", \"Price_in_thousands\": 23.99, \"Engine_size\": 1.8, \"Horsepower\": 150.0, \"Wheelbase\": 102.6, \"Width\": 68.2, \"Length\": 178.0, \"Curb_weight\": 2.998, \"Fuel_capacity\": 16.4, \"Fuel_efficiency\": 27.0, \"Latest_Launch\": 1318032000000000000, \"Power_perf_factor\": 62.7776392, \"Passenger\": 1}, {\"Manufacturer\": \"Audi\", \"Model\": \"A6\", \"Sales_in_thousands\": 18.78, \"__year_resale_value\": 23.555, \"Vehicle_type\": \"Passenger\", \"Price_in_thousands\": 33.95, \"Engine_size\": 2.8, \"Horsepower\": 200.0, \"Wheelbase\": 108.7, \"Width\": 76.1, \"Length\": 192.0, \"Curb_weight\": 3.561, \"Fuel_capacity\": 18.5, \"Fuel_efficiency\": 22.0, \"Latest_Launch\": 1312848000000000000, \"Power_perf_factor\": 84.56510502, \"Passenger\": 1}, {\"Manufacturer\": \"Audi\", \"Model\": \"A8\", \"Sales_in_thousands\": 1.38, \"__year_resale_value\": 39.0, \"Vehicle_type\": \"Passenger\", \"Price_in_thousands\": 62.0, \"Engine_size\": 4.2, \"Horsepower\": 310.0, \"Wheelbase\": 113.0, \"Width\": 74.0, \"Length\": 198.2, \"Curb_weight\": 3.902, \"Fuel_capacity\": 23.7, \"Fuel_efficiency\": 21.0, \"Latest_Launch\": 1330300800000000000, \"Power_perf_factor\": 134.6568582, \"Passenger\": 1}, {\"Manufacturer\": \"BMW\", \"Model\": \"328i\", \"Sales_in_thousands\": 9.231, \"__year_resale_value\": 28.675, \"Vehicle_type\": \"Passenger\", \"Price_in_thousands\": 33.4, \"Engine_size\": 2.8, \"Horsepower\": 193.0, \"Wheelbase\": 107.3, \"Width\": 68.5, \"Length\": 176.0, \"Curb_weight\": 3.197, \"Fuel_capacity\": 16.6, \"Fuel_efficiency\": 24.0, \"Latest_Launch\": 1327795200000000000, \"Power_perf_factor\": 81.87706856, \"Passenger\": 1}, {\"Manufacturer\": \"BMW\", \"Model\": \"528i\", \"Sales_in_thousands\": 17.527, \"__year_resale_value\": 36.125, \"Vehicle_type\": \"Passenger\", \"Price_in_thousands\": 38.9, \"Engine_size\": 2.8, \"Horsepower\": 193.0, \"Wheelbase\": 111.4, \"Width\": 70.9, \"Length\": 188.0, \"Curb_weight\": 3.472, \"Fuel_capacity\": 18.5, \"Fuel_efficiency\": 25.0, \"Latest_Launch\": 1301875200000000000, \"Power_perf_factor\": 83.9987238, \"Passenger\": 1}, {\"Manufacturer\": \"Buick\", \"Model\": \"Century\", \"Sales_in_thousands\": 91.561, \"__year_resale_value\": 12.475, \"Vehicle_type\": \"Passenger\", \"Price_in_thousands\": 21.975, \"Engine_size\": 3.1, \"Horsepower\": 175.0, \"Wheelbase\": 109.0, \"Width\": 72.7, \"Length\": 194.6, \"Curb_weight\": 3.368, \"Fuel_capacity\": 17.5, \"Fuel_efficiency\": 25.0, \"Latest_Launch\": 1320192000000000000, \"Power_perf_factor\": 71.18145132, \"Passenger\": 1}, {\"Manufacturer\": \"Buick\", \"Model\": \"Regal\", \"Sales_in_thousands\": 39.35, \"__year_resale_value\": 13.74, \"Vehicle_type\": \"Passenger\", \"Price_in_thousands\": 25.3, \"Engine_size\": 3.8, \"Horsepower\": 240.0, \"Wheelbase\": 109.0, \"Width\": 72.7, \"Length\": 196.2, \"Curb_weight\": 3.543, \"Fuel_capacity\": 17.5, \"Fuel_efficiency\": 23.0, \"Latest_Launch\": 1315008000000000000, \"Power_perf_factor\": 95.63670253, \"Passenger\": 1}, {\"Manufacturer\": \"Buick\", \"Model\": \"Park Avenue\", \"Sales_in_thousands\": 27.851, \"__year_resale_value\": 20.19, \"Vehicle_type\": \"Passenger\", \"Price_in_thousands\": 31.965, \"Engine_size\": 3.8, \"Horsepower\": 205.0, \"Wheelbase\": 113.8, \"Width\": 74.7, \"Length\": 206.8, \"Curb_weight\": 3.778, \"Fuel_capacity\": 18.5, \"Fuel_efficiency\": 24.0, \"Latest_Launch\": 1332460800000000000, \"Power_perf_factor\": 85.82840825, \"Passenger\": 1}, {\"Manufacturer\": \"Buick\", \"Model\": \"LeSabre\", \"Sales_in_thousands\": 83.257, \"__year_resale_value\": 13.36, \"Vehicle_type\": \"Passenger\", \"Price_in_thousands\": 27.885, \"Engine_size\": 3.8, \"Horsepower\": 205.0, \"Wheelbase\": 112.2, \"Width\": 73.5, \"Length\": 200.0, \"Curb_weight\": 3.591, \"Fuel_capacity\": 17.5, \"Fuel_efficiency\": 25.0, \"Latest_Launch\": 1311379200000000000, \"Power_perf_factor\": 84.25452581, \"Passenger\": 1}, {\"Manufacturer\": \"Cadillac\", \"Model\": \"DeVille\", \"Sales_in_thousands\": 63.729, \"__year_resale_value\": 22.525, \"Vehicle_type\": \"Passenger\", \"Price_in_thousands\": 39.895, \"Engine_size\": 4.6, \"Horsepower\": 275.0, \"Wheelbase\": 115.3, \"Width\": 74.5, \"Length\": 207.2, \"Curb_weight\": 3.978, \"Fuel_capacity\": 18.5, \"Fuel_efficiency\": 22.0, \"Latest_Launch\": 1329955200000000000, \"Power_perf_factor\": 113.8545976, \"Passenger\": 1}, {\"Manufacturer\": \"Cadillac\", \"Model\": \"Eldorado\", \"Sales_in_thousands\": 6.536, \"__year_resale_value\": 25.725, \"Vehicle_type\": \"Passenger\", \"Price_in_thousands\": 39.665, \"Engine_size\": 4.6, \"Horsepower\": 275.0, \"Wheelbase\": 108.0, \"Width\": 75.5, \"Length\": 200.6, \"Curb_weight\": 3.843, \"Fuel_capacity\": 19.0, \"Fuel_efficiency\": 22.0, \"Latest_Launch\": 1322352000000000000, \"Power_perf_factor\": 113.7658739, \"Passenger\": 1}, {\"Manufacturer\": \"Cadillac\", \"Model\": \"Catera\", \"Sales_in_thousands\": 11.185, \"__year_resale_value\": 18.225, \"Vehicle_type\": \"Passenger\", \"Price_in_thousands\": 31.01, \"Engine_size\": 3.0, \"Horsepower\": 200.0, \"Wheelbase\": 107.4, \"Width\": 70.3, \"Length\": 194.8, \"Curb_weight\": 3.77, \"Fuel_capacity\": 18.0, \"Fuel_efficiency\": 22.0, \"Latest_Launch\": 1317168000000000000, \"Power_perf_factor\": 83.48309358, \"Passenger\": 1}, {\"Manufacturer\": \"Chevrolet\", \"Model\": \"Cavalier\", \"Sales_in_thousands\": 145.519, \"__year_resale_value\": 9.25, \"Vehicle_type\": \"Passenger\", \"Price_in_thousands\": 13.26, \"Engine_size\": 2.2, \"Horsepower\": 115.0, \"Wheelbase\": 104.1, \"Width\": 67.9, \"Length\": 180.9, \"Curb_weight\": 2.676, \"Fuel_capacity\": 14.3, \"Fuel_efficiency\": 27.0, \"Latest_Launch\": 1313539200000000000, \"Power_perf_factor\": 46.36334747, \"Passenger\": 1}, {\"Manufacturer\": \"Chevrolet\", \"Model\": \"Malibu\", \"Sales_in_thousands\": 135.126, \"__year_resale_value\": 11.225, \"Vehicle_type\": \"Passenger\", \"Price_in_thousands\": 16.535, \"Engine_size\": 3.1, \"Horsepower\": 170.0, \"Wheelbase\": 107.0, \"Width\": 69.4, \"Length\": 190.4, \"Curb_weight\": 3.051, \"Fuel_capacity\": 15.0, \"Fuel_efficiency\": 25.0, \"Latest_Launch\": 1332115200000000000, \"Power_perf_factor\": 67.31446216, \"Passenger\": 1}, {\"Manufacturer\": \"Chevrolet\", \"Model\": \"Lumina\", \"Sales_in_thousands\": 24.629, \"__year_resale_value\": 10.31, \"Vehicle_type\": \"Passenger\", \"Price_in_thousands\": 18.89, \"Engine_size\": 3.1, \"Horsepower\": 175.0, \"Wheelbase\": 107.5, \"Width\": 72.5, \"Length\": 200.9, \"Curb_weight\": 3.33, \"Fuel_capacity\": 16.6, \"Fuel_efficiency\": 25.0, \"Latest_Launch\": 1306195200000000000, \"Power_perf_factor\": 69.9913956, \"Passenger\": 1}, {\"Manufacturer\": \"Chevrolet\", \"Model\": \"Monte Carlo\", \"Sales_in_thousands\": 42.593, \"__year_resale_value\": 11.525, \"Vehicle_type\": \"Passenger\", \"Price_in_thousands\": 19.39, \"Engine_size\": 3.4, \"Horsepower\": 180.0, \"Wheelbase\": 110.5, \"Width\": 72.7, \"Length\": 197.9, \"Curb_weight\": 3.34, \"Fuel_capacity\": 17.0, \"Fuel_efficiency\": 27.0, \"Latest_Launch\": 1324512000000000000, \"Power_perf_factor\": 72.03091719, \"Passenger\": 1}, {\"Manufacturer\": \"Chevrolet\", \"Model\": \"Camaro\", \"Sales_in_thousands\": 26.402, \"__year_resale_value\": 13.025, \"Vehicle_type\": \"Passenger\", \"Price_in_thousands\": 24.34, \"Engine_size\": 3.8, \"Horsepower\": 200.0, \"Wheelbase\": 101.1, \"Width\": 74.1, \"Length\": 193.2, \"Curb_weight\": 3.5, \"Fuel_capacity\": 16.8, \"Fuel_efficiency\": 25.0, \"Latest_Launch\": 1319328000000000000, \"Power_perf_factor\": 81.11854333, \"Passenger\": 1}, {\"Manufacturer\": \"Chevrolet\", \"Model\": \"Corvette\", \"Sales_in_thousands\": 17.947, \"__year_resale_value\": 36.225, \"Vehicle_type\": \"Passenger\", \"Price_in_thousands\": 45.705, \"Engine_size\": 5.7, \"Horsepower\": 345.0, \"Wheelbase\": 104.5, \"Width\": 73.6, \"Length\": 179.7, \"Curb_weight\": 3.21, \"Fuel_capacity\": 19.1, \"Fuel_efficiency\": 22.0, \"Latest_Launch\": 1336780800000000000, \"Power_perf_factor\": 141.14115, \"Passenger\": 1}, {\"Manufacturer\": \"Chevrolet\", \"Model\": \"Prizm\", \"Sales_in_thousands\": 32.299, \"__year_resale_value\": 9.125, \"Vehicle_type\": \"Passenger\", \"Price_in_thousands\": 13.96, \"Engine_size\": 1.8, \"Horsepower\": 120.0, \"Wheelbase\": 97.1, \"Width\": 66.7, \"Length\": 174.3, \"Curb_weight\": 2.398, \"Fuel_capacity\": 13.2, \"Fuel_efficiency\": 33.0, \"Latest_Launch\": 1315699200000000000, \"Power_perf_factor\": 48.2976361, \"Passenger\": 1}, {\"Manufacturer\": \"Chevrolet\", \"Model\": \"Metro\", \"Sales_in_thousands\": 21.855, \"__year_resale_value\": 5.16, \"Vehicle_type\": \"Passenger\", \"Price_in_thousands\": 9.235, \"Engine_size\": 1.0, \"Horsepower\": 55.0, \"Wheelbase\": 93.1, \"Width\": 62.6, \"Length\": 149.4, \"Curb_weight\": 1.895, \"Fuel_capacity\": 10.3, \"Fuel_efficiency\": 45.0, \"Latest_Launch\": 1334275200000000000, \"Power_perf_factor\": 23.27627233, \"Passenger\": 1}, {\"Manufacturer\": \"Chrysler\", \"Model\": \"Sebring Coupe\", \"Sales_in_thousands\": 7.854, \"__year_resale_value\": 12.36, \"Vehicle_type\": \"Passenger\", \"Price_in_thousands\": 19.84, \"Engine_size\": 2.5, \"Horsepower\": 163.0, \"Wheelbase\": 103.7, \"Width\": 69.7, \"Length\": 190.9, \"Curb_weight\": 2.967, \"Fuel_capacity\": 15.9, \"Fuel_efficiency\": 24.0, \"Latest_Launch\": 1326672000000000000, \"Power_perf_factor\": 65.95718396, \"Passenger\": 1}, {\"Manufacturer\": \"Chrysler\", \"Model\": \"Sebring Conv.\", \"Sales_in_thousands\": 32.775, \"__year_resale_value\": 14.18, \"Vehicle_type\": \"Passenger\", \"Price_in_thousands\": 24.495, \"Engine_size\": 2.5, \"Horsepower\": 168.0, \"Wheelbase\": 106.0, \"Width\": 69.2, \"Length\": 193.0, \"Curb_weight\": 3.332, \"Fuel_capacity\": 16.0, \"Fuel_efficiency\": 24.0, \"Latest_Launch\": 1321488000000000000, \"Power_perf_factor\": 69.52135505, \"Passenger\": 1}, {\"Manufacturer\": \"Chrysler\", \"Model\": \"Concorde\", \"Sales_in_thousands\": 31.148, \"__year_resale_value\": 13.725, \"Vehicle_type\": \"Passenger\", \"Price_in_thousands\": 22.245, \"Engine_size\": 2.7, \"Horsepower\": 200.0, \"Wheelbase\": 113.0, \"Width\": 74.4, \"Length\": 209.1, \"Curb_weight\": 3.452, \"Fuel_capacity\": 17.0, \"Fuel_efficiency\": 26.0, \"Latest_Launch\": 1338940800000000000, \"Power_perf_factor\": 80.02378204, \"Passenger\": 1}, {\"Manufacturer\": \"Chrysler\", \"Model\": \"Cirrus\", \"Sales_in_thousands\": 32.306, \"__year_resale_value\": 12.64, \"Vehicle_type\": \"Passenger\", \"Price_in_thousands\": 16.48, \"Engine_size\": 2.0, \"Horsepower\": 132.0, \"Wheelbase\": 108.0, \"Width\": 71.0, \"Length\": 186.0, \"Curb_weight\": 2.911, \"Fuel_capacity\": 16.0, \"Fuel_efficiency\": 27.0, \"Latest_Launch\": 1317859200000000000, \"Power_perf_factor\": 53.56619987, \"Passenger\": 1}, {\"Manufacturer\": \"Chrysler\", \"Model\": \"LHS\", \"Sales_in_thousands\": 13.462, \"__year_resale_value\": 17.325, \"Vehicle_type\": \"Passenger\", \"Price_in_thousands\": 28.34, \"Engine_size\": 3.5, \"Horsepower\": 253.0, \"Wheelbase\": 113.0, \"Width\": 74.4, \"Length\": 207.7, \"Curb_weight\": 3.564, \"Fuel_capacity\": 17.0, \"Fuel_efficiency\": 23.0, \"Latest_Launch\": 1336435200000000000, \"Power_perf_factor\": 101.3292807, \"Passenger\": 1}, {\"Manufacturer\": \"Dodge\", \"Model\": \"Neon\", \"Sales_in_thousands\": 76.034, \"__year_resale_value\": 7.75, \"Vehicle_type\": \"Passenger\", \"Price_in_thousands\": 12.64, \"Engine_size\": 2.0, \"Horsepower\": 132.0, \"Wheelbase\": 105.0, \"Width\": 74.4, \"Length\": 174.4, \"Curb_weight\": 2.567, \"Fuel_capacity\": 12.5, \"Fuel_efficiency\": 29.0, \"Latest_Launch\": 1323648000000000000, \"Power_perf_factor\": 52.08489875, \"Passenger\": 1}, {\"Manufacturer\": \"Dodge\", \"Model\": \"Avenger\", \"Sales_in_thousands\": 4.734, \"__year_resale_value\": 12.545, \"Vehicle_type\": \"Passenger\", \"Price_in_thousands\": 19.045, \"Engine_size\": 2.5, \"Horsepower\": 163.0, \"Wheelbase\": 103.7, \"Width\": 69.1, \"Length\": 190.2, \"Curb_weight\": 2.879, \"Fuel_capacity\": 15.9, \"Fuel_efficiency\": 24.0, \"Latest_Launch\": 1341100800000000000, \"Power_perf_factor\": 65.65050834, \"Passenger\": 1}, {\"Manufacturer\": \"Dodge\", \"Model\": \"Stratus\", \"Sales_in_thousands\": 71.186, \"__year_resale_value\": 10.185, \"Vehicle_type\": \"Passenger\", \"Price_in_thousands\": 20.23, \"Engine_size\": 2.5, \"Horsepower\": 168.0, \"Wheelbase\": 108.0, \"Width\": 71.0, \"Length\": 186.0, \"Curb_weight\": 3.058, \"Fuel_capacity\": 16.0, \"Fuel_efficiency\": 24.0, \"Latest_Launch\": 1320019200000000000, \"Power_perf_factor\": 67.87610784, \"Passenger\": 1}, {\"Manufacturer\": \"Dodge\", \"Model\": \"Viper\", \"Sales_in_thousands\": 0.916, \"__year_resale_value\": 58.47, \"Vehicle_type\": \"Passenger\", \"Price_in_thousands\": 69.725, \"Engine_size\": 8.0, \"Horsepower\": 450.0, \"Wheelbase\": 96.2, \"Width\": 75.7, \"Length\": 176.7, \"Curb_weight\": 3.375, \"Fuel_capacity\": 19.0, \"Fuel_efficiency\": 16.0, \"Latest_Launch\": 1312675200000000000, \"Power_perf_factor\": 188.144323, \"Passenger\": 1}, {\"Manufacturer\": \"Dodge\", \"Model\": \"Ram Pickup\", \"Sales_in_thousands\": 227.061, \"__year_resale_value\": 15.06, \"Vehicle_type\": \"Car\", \"Price_in_thousands\": 19.46, \"Engine_size\": 5.2, \"Horsepower\": 230.0, \"Wheelbase\": 138.7, \"Width\": 79.3, \"Length\": 224.2, \"Curb_weight\": 4.47, \"Fuel_capacity\": 26.0, \"Fuel_efficiency\": 17.0, \"Latest_Launch\": 1330992000000000000, \"Power_perf_factor\": 90.21170005, \"Passenger\": 0}, {\"Manufacturer\": \"Dodge\", \"Model\": \"Ram Wagon\", \"Sales_in_thousands\": 16.767, \"__year_resale_value\": 15.51, \"Vehicle_type\": \"Car\", \"Price_in_thousands\": 21.315, \"Engine_size\": 3.9, \"Horsepower\": 175.0, \"Wheelbase\": 109.6, \"Width\": 78.8, \"Length\": 192.6, \"Curb_weight\": 4.245, \"Fuel_capacity\": 32.0, \"Fuel_efficiency\": 15.0, \"Latest_Launch\": 1325808000000000000, \"Power_perf_factor\": 71.13529161, \"Passenger\": 0}, {\"Manufacturer\": \"Dodge\", \"Model\": \"Ram Van\", \"Sales_in_thousands\": 31.038, \"__year_resale_value\": 13.425, \"Vehicle_type\": \"Car\", \"Price_in_thousands\": 18.575, \"Engine_size\": 3.9, \"Horsepower\": 175.0, \"Wheelbase\": 127.2, \"Width\": 78.8, \"Length\": 208.5, \"Curb_weight\": 4.298, \"Fuel_capacity\": 32.0, \"Fuel_efficiency\": 16.0, \"Latest_Launch\": 1343260800000000000, \"Power_perf_factor\": 70.07832154, \"Passenger\": 0}, {\"Manufacturer\": \"Dodge\", \"Model\": \"Dakota\", \"Sales_in_thousands\": 111.313, \"__year_resale_value\": 11.26, \"Vehicle_type\": \"Car\", \"Price_in_thousands\": 16.98, \"Engine_size\": 2.5, \"Horsepower\": 120.0, \"Wheelbase\": 131.0, \"Width\": 71.5, \"Length\": 215.0, \"Curb_weight\": 3.557, \"Fuel_capacity\": 22.0, \"Fuel_efficiency\": 19.0, \"Latest_Launch\": 1322179200000000000, \"Power_perf_factor\": 49.64500177, \"Passenger\": 0}, {\"Manufacturer\": \"Dodge\", \"Model\": \"Caravan\", \"Sales_in_thousands\": 181.749, \"__year_resale_value\": 12.025, \"Vehicle_type\": \"Car\", \"Price_in_thousands\": 19.565, \"Engine_size\": 2.4, \"Horsepower\": 150.0, \"Wheelbase\": 113.3, \"Width\": 76.8, \"Length\": 186.3, \"Curb_weight\": 3.533, \"Fuel_capacity\": 20.0, \"Fuel_efficiency\": 24.0, \"Latest_Launch\": 1314835200000000000, \"Power_perf_factor\": 61.22700031, \"Passenger\": 0}, {\"Manufacturer\": \"Ford\", \"Model\": \"Escort\", \"Sales_in_thousands\": 70.227, \"__year_resale_value\": 7.425, \"Vehicle_type\": \"Passenger\", \"Price_in_thousands\": 12.07, \"Engine_size\": 2.0, \"Horsepower\": 110.0, \"Wheelbase\": 98.4, \"Width\": 67.0, \"Length\": 174.7, \"Curb_weight\": 2.468, \"Fuel_capacity\": 12.7, \"Fuel_efficiency\": 30.0, \"Latest_Launch\": 1333152000000000000, \"Power_perf_factor\": 44.08370946, \"Passenger\": 1}, {\"Manufacturer\": \"Ford\", \"Model\": \"Mustang\", \"Sales_in_thousands\": 113.369, \"__year_resale_value\": 12.76, \"Vehicle_type\": \"Passenger\", \"Price_in_thousands\": 21.56, \"Engine_size\": 3.8, \"Horsepower\": 190.0, \"Wheelbase\": 101.3, \"Width\": 73.1, \"Length\": 183.2, \"Curb_weight\": 3.203, \"Fuel_capacity\": 15.7, \"Fuel_efficiency\": 24.0, \"Latest_Launch\": 1327968000000000000, \"Power_perf_factor\": 76.50918456, \"Passenger\": 1}, {\"Manufacturer\": \"Ford\", \"Model\": \"Contour\", \"Sales_in_thousands\": 35.068, \"__year_resale_value\": 8.835, \"Vehicle_type\": \"Passenger\", \"Price_in_thousands\": 17.035, \"Engine_size\": 2.5, \"Horsepower\": 170.0, \"Wheelbase\": 106.5, \"Width\": 69.1, \"Length\": 184.6, \"Curb_weight\": 2.769, \"Fuel_capacity\": 15.0, \"Fuel_efficiency\": 25.0, \"Latest_Launch\": 1345420800000000000, \"Power_perf_factor\": 67.35101072, \"Passenger\": 1}, {\"Manufacturer\": \"Ford\", \"Model\": \"Taurus\", \"Sales_in_thousands\": 245.815, \"__year_resale_value\": 10.055, \"Vehicle_type\": \"Passenger\", \"Price_in_thousands\": 17.885, \"Engine_size\": 3.0, \"Horsepower\": 155.0, \"Wheelbase\": 108.5, \"Width\": 73.0, \"Length\": 197.6, \"Curb_weight\": 3.368, \"Fuel_capacity\": 16.0, \"Fuel_efficiency\": 24.0, \"Latest_Launch\": 1324339200000000000, \"Power_perf_factor\": 62.5037395, \"Passenger\": 1}, {\"Manufacturer\": \"Ford\", \"Model\": \"Crown Victoria\", \"Sales_in_thousands\": 63.403, \"__year_resale_value\": 14.21, \"Vehicle_type\": \"Passenger\", \"Price_in_thousands\": 22.195, \"Engine_size\": 4.6, \"Horsepower\": 200.0, \"Wheelbase\": 114.7, \"Width\": 78.2, \"Length\": 212.0, \"Curb_weight\": 3.908, \"Fuel_capacity\": 19.0, \"Fuel_efficiency\": 21.0, \"Latest_Launch\": 1316995200000000000, \"Power_perf_factor\": 80.49953671, \"Passenger\": 1}, {\"Manufacturer\": \"Ford\", \"Model\": \"Explorer\", \"Sales_in_thousands\": 276.747, \"__year_resale_value\": 16.64, \"Vehicle_type\": \"Car\", \"Price_in_thousands\": 31.93, \"Engine_size\": 4.0, \"Horsepower\": 210.0, \"Wheelbase\": 111.6, \"Width\": 70.2, \"Length\": 190.7, \"Curb_weight\": 3.876, \"Fuel_capacity\": 21.0, \"Fuel_efficiency\": 19.0, \"Latest_Launch\": 1335312000000000000, \"Power_perf_factor\": 87.63549578, \"Passenger\": 0}, {\"Manufacturer\": \"Ford\", \"Model\": \"Windstar\", \"Sales_in_thousands\": 155.787, \"__year_resale_value\": 13.175, \"Vehicle_type\": \"Car\", \"Price_in_thousands\": 21.41, \"Engine_size\": 3.0, \"Horsepower\": 150.0, \"Wheelbase\": 120.7, \"Width\": 76.6, \"Length\": 200.9, \"Curb_weight\": 3.761, \"Fuel_capacity\": 26.0, \"Fuel_efficiency\": 21.0, \"Latest_Launch\": 1330128000000000000, \"Power_perf_factor\": 62.09504839, \"Passenger\": 0}, {\"Manufacturer\": \"Ford\", \"Model\": \"Expedition\", \"Sales_in_thousands\": 125.338, \"__year_resale_value\": 23.575, \"Vehicle_type\": \"Car\", \"Price_in_thousands\": 36.135, \"Engine_size\": 4.6, \"Horsepower\": 240.0, \"Wheelbase\": 119.0, \"Width\": 78.7, \"Length\": 204.6, \"Curb_weight\": 4.808, \"Fuel_capacity\": 26.0, \"Fuel_efficiency\": 16.0, \"Latest_Launch\": 1347580800000000000, \"Power_perf_factor\": 100.0248023, \"Passenger\": 0}, {\"Manufacturer\": \"Ford\", \"Model\": \"Ranger\", \"Sales_in_thousands\": 220.65, \"__year_resale_value\": 7.85, \"Vehicle_type\": \"Car\", \"Price_in_thousands\": 12.05, \"Engine_size\": 2.5, \"Horsepower\": 119.0, \"Wheelbase\": 117.5, \"Width\": 69.4, \"Length\": 200.7, \"Curb_weight\": 3.086, \"Fuel_capacity\": 20.0, \"Fuel_efficiency\": 23.0, \"Latest_Launch\": 1326499200000000000, \"Power_perf_factor\": 47.38953131, \"Passenger\": 0}, {\"Manufacturer\": \"Ford\", \"Model\": \"F-Series\", \"Sales_in_thousands\": 540.561, \"__year_resale_value\": 15.075, \"Vehicle_type\": \"Car\", \"Price_in_thousands\": 26.935, \"Engine_size\": 4.6, \"Horsepower\": 220.0, \"Wheelbase\": 138.5, \"Width\": 79.1, \"Length\": 224.5, \"Curb_weight\": 4.241, \"Fuel_capacity\": 25.1, \"Fuel_efficiency\": 18.0, \"Latest_Launch\": 1345075200000000000, \"Power_perf_factor\": 89.40193473, \"Passenger\": 0}, {\"Manufacturer\": \"Honda\", \"Model\": \"Civic\", \"Sales_in_thousands\": 199.685, \"__year_resale_value\": 9.85, \"Vehicle_type\": \"Passenger\", \"Price_in_thousands\": 12.885, \"Engine_size\": 1.6, \"Horsepower\": 106.0, \"Wheelbase\": 103.2, \"Width\": 67.1, \"Length\": 175.1, \"Curb_weight\": 2.339, \"Fuel_capacity\": 11.9, \"Fuel_efficiency\": 32.0, \"Latest_Launch\": 1319155200000000000, \"Power_perf_factor\": 42.87909734, \"Passenger\": 1}, {\"Manufacturer\": \"Honda\", \"Model\": \"Accord\", \"Sales_in_thousands\": 230.902, \"__year_resale_value\": 13.21, \"Vehicle_type\": \"Passenger\", \"Price_in_thousands\": 15.35, \"Engine_size\": 2.3, \"Horsepower\": 135.0, \"Wheelbase\": 106.9, \"Width\": 70.3, \"Length\": 188.8, \"Curb_weight\": 2.932, \"Fuel_capacity\": 17.1, \"Fuel_efficiency\": 27.0, \"Latest_Launch\": 1337472000000000000, \"Power_perf_factor\": 54.26954829, \"Passenger\": 1}, {\"Manufacturer\": \"Honda\", \"Model\": \"CR-V\", \"Sales_in_thousands\": 73.203, \"__year_resale_value\": 17.71, \"Vehicle_type\": \"Car\", \"Price_in_thousands\": 20.55, \"Engine_size\": 2.0, \"Horsepower\": 146.0, \"Wheelbase\": 103.2, \"Width\": 68.9, \"Length\": 177.6, \"Curb_weight\": 3.219, \"Fuel_capacity\": 15.3, \"Fuel_efficiency\": 24.0, \"Latest_Launch\": 1332288000000000000, \"Power_perf_factor\": 60.08796662, \"Passenger\": 0}, {\"Manufacturer\": \"Honda\", \"Model\": \"Passport\", \"Sales_in_thousands\": 12.855, \"__year_resale_value\": 17.525, \"Vehicle_type\": \"Car\", \"Price_in_thousands\": 26.6, \"Engine_size\": 3.2, \"Horsepower\": 205.0, \"Wheelbase\": 106.4, \"Width\": 70.4, \"Length\": 178.2, \"Curb_weight\": 3.857, \"Fuel_capacity\": 21.1, \"Fuel_efficiency\": 19.0, \"Latest_Launch\": 1349740800000000000, \"Power_perf_factor\": 83.6025008, \"Passenger\": 0}, {\"Manufacturer\": \"Honda\", \"Model\": \"Odyssey\", \"Sales_in_thousands\": 76.029, \"__year_resale_value\": 19.49, \"Vehicle_type\": \"Car\", \"Price_in_thousands\": 26.0, \"Engine_size\": 3.5, \"Horsepower\": 210.0, \"Wheelbase\": 118.1, \"Width\": 75.6, \"Length\": 201.2, \"Curb_weight\": 4.288, \"Fuel_capacity\": 20.0, \"Fuel_efficiency\": 23.0, \"Latest_Launch\": 1328659200000000000, \"Power_perf_factor\": 85.21769134, \"Passenger\": 0}, {\"Manufacturer\": \"Hyundai\", \"Model\": \"Accent\", \"Sales_in_thousands\": 41.184, \"__year_resale_value\": 5.86, \"Vehicle_type\": \"Passenger\", \"Price_in_thousands\": 9.699, \"Engine_size\": 1.5, \"Horsepower\": 92.0, \"Wheelbase\": 96.1, \"Width\": 65.7, \"Length\": 166.7, \"Curb_weight\": 2.24, \"Fuel_capacity\": 11.9, \"Fuel_efficiency\": 31.0, \"Latest_Launch\": 1347235200000000000, \"Power_perf_factor\": 36.67228358, \"Passenger\": 1}, {\"Manufacturer\": \"Hyundai\", \"Model\": \"Elantra\", \"Sales_in_thousands\": 66.692, \"__year_resale_value\": 7.825, \"Vehicle_type\": \"Passenger\", \"Price_in_thousands\": 11.799, \"Engine_size\": 2.0, \"Horsepower\": 140.0, \"Wheelbase\": 100.4, \"Width\": 66.9, \"Length\": 174.0, \"Curb_weight\": 2.626, \"Fuel_capacity\": 14.5, \"Fuel_efficiency\": 27.0, \"Latest_Launch\": 1321315200000000000, \"Power_perf_factor\": 54.59004516, \"Passenger\": 1}, {\"Manufacturer\": \"Hyundai\", \"Model\": \"Sonata\", \"Sales_in_thousands\": 29.45, \"__year_resale_value\": 8.91, \"Vehicle_type\": \"Passenger\", \"Price_in_thousands\": 14.999, \"Engine_size\": 2.4, \"Horsepower\": 148.0, \"Wheelbase\": 106.3, \"Width\": 71.6, \"Length\": 185.4, \"Curb_weight\": 3.072, \"Fuel_capacity\": 17.2, \"Fuel_efficiency\": 25.0, \"Latest_Launch\": 1339632000000000000, \"Power_perf_factor\": 58.758249, \"Passenger\": 1}, {\"Manufacturer\": \"Infiniti\", \"Model\": \"I30\", \"Sales_in_thousands\": 23.713, \"__year_resale_value\": 19.69, \"Vehicle_type\": \"Passenger\", \"Price_in_thousands\": 29.465, \"Engine_size\": 3.0, \"Horsepower\": 227.0, \"Wheelbase\": 108.3, \"Width\": 70.2, \"Length\": 193.7, \"Curb_weight\": 3.342, \"Fuel_capacity\": 18.5, \"Fuel_efficiency\": 25.0, \"Latest_Launch\": 1334448000000000000, \"Power_perf_factor\": 92.43688923, \"Passenger\": 1}, {\"Manufacturer\": \"Jeep\", \"Model\": \"Wrangler\", \"Sales_in_thousands\": 55.557, \"__year_resale_value\": 13.475, \"Vehicle_type\": \"Car\", \"Price_in_thousands\": 14.46, \"Engine_size\": 2.5, \"Horsepower\": 120.0, \"Wheelbase\": 93.4, \"Width\": 66.7, \"Length\": 152.0, \"Curb_weight\": 3.045, \"Fuel_capacity\": 19.0, \"Fuel_efficiency\": 17.0, \"Latest_Launch\": 1330819200000000000, \"Power_perf_factor\": 48.67289791, \"Passenger\": 0}, {\"Manufacturer\": \"Jeep\", \"Model\": \"Cherokee\", \"Sales_in_thousands\": 80.556, \"__year_resale_value\": 13.775, \"Vehicle_type\": \"Car\", \"Price_in_thousands\": 21.62, \"Engine_size\": 4.0, \"Horsepower\": 190.0, \"Wheelbase\": 101.4, \"Width\": 69.4, \"Length\": 167.5, \"Curb_weight\": 3.194, \"Fuel_capacity\": 20.0, \"Fuel_efficiency\": 20.0, \"Latest_Launch\": 1349395200000000000, \"Power_perf_factor\": 76.58443962, \"Passenger\": 0}, {\"Manufacturer\": \"Jeep\", \"Model\": \"Grand Cherokee\", \"Sales_in_thousands\": 157.04, \"__year_resale_value\": 18.81, \"Vehicle_type\": \"Car\", \"Price_in_thousands\": 26.895, \"Engine_size\": 4.0, \"Horsepower\": 195.0, \"Wheelbase\": 105.9, \"Width\": 72.3, \"Length\": 181.5, \"Curb_weight\": 3.88, \"Fuel_capacity\": 20.5, \"Fuel_efficiency\": 19.0, \"Latest_Launch\": 1323475200000000000, \"Power_perf_factor\": 80.38777912, \"Passenger\": 0}, {\"Manufacturer\": \"Lexus\", \"Model\": \"ES300\", \"Sales_in_thousands\": 24.072, \"__year_resale_value\": 26.975, \"Vehicle_type\": \"Passenger\", \"Price_in_thousands\": 31.505, \"Engine_size\": 3.0, \"Horsepower\": 210.0, \"Wheelbase\": 105.1, \"Width\": 70.5, \"Length\": 190.2, \"Curb_weight\": 3.373, \"Fuel_capacity\": 18.5, \"Fuel_efficiency\": 23.0, \"Latest_Launch\": 1341792000000000000, \"Power_perf_factor\": 87.21100104, \"Passenger\": 1}, {\"Manufacturer\": \"Lexus\", \"Model\": \"GS300\", \"Sales_in_thousands\": 12.698, \"__year_resale_value\": 32.075, \"Vehicle_type\": \"Passenger\", \"Price_in_thousands\": 37.805, \"Engine_size\": 3.0, \"Horsepower\": 225.0, \"Wheelbase\": 110.2, \"Width\": 70.9, \"Length\": 189.2, \"Curb_weight\": 3.638, \"Fuel_capacity\": 19.8, \"Fuel_efficiency\": 23.0, \"Latest_Launch\": 1336608000000000000, \"Power_perf_factor\": 94.9466984, \"Passenger\": 1}, {\"Manufacturer\": \"Lexus\", \"Model\": \"LS400\", \"Sales_in_thousands\": 6.375, \"__year_resale_value\": 40.375, \"Vehicle_type\": \"Passenger\", \"Price_in_thousands\": 54.005, \"Engine_size\": 4.0, \"Horsepower\": 290.0, \"Wheelbase\": 112.2, \"Width\": 72.0, \"Length\": 196.7, \"Curb_weight\": 3.89, \"Fuel_capacity\": 22.5, \"Fuel_efficiency\": 22.0, \"Latest_Launch\": 1332979200000000000, \"Power_perf_factor\": 124.4467163, \"Passenger\": 1}, {\"Manufacturer\": \"Lincoln\", \"Model\": \"Continental\", \"Sales_in_thousands\": 13.798, \"__year_resale_value\": 20.525, \"Vehicle_type\": \"Passenger\", \"Price_in_thousands\": 39.08, \"Engine_size\": 4.6, \"Horsepower\": 275.0, \"Wheelbase\": 109.0, \"Width\": 73.6, \"Length\": 208.5, \"Curb_weight\": 3.868, \"Fuel_capacity\": 20.0, \"Fuel_efficiency\": 22.0, \"Latest_Launch\": 1343952000000000000, \"Power_perf_factor\": 113.5402069, \"Passenger\": 1}, {\"Manufacturer\": \"Lincoln\", \"Model\": \"Town car\", \"Sales_in_thousands\": 48.911, \"__year_resale_value\": 21.725, \"Vehicle_type\": \"Passenger\", \"Price_in_thousands\": 43.33, \"Engine_size\": 4.6, \"Horsepower\": 215.0, \"Wheelbase\": 117.7, \"Width\": 78.2, \"Length\": 215.3, \"Curb_weight\": 4.121, \"Fuel_capacity\": 19.0, \"Fuel_efficiency\": 21.0, \"Latest_Launch\": 1338768000000000000, \"Power_perf_factor\": 93.9579169, \"Passenger\": 1}, {\"Manufacturer\": \"Mitsubishi\", \"Model\": \"Mirage\", \"Sales_in_thousands\": 26.232, \"__year_resale_value\": 8.325, \"Vehicle_type\": \"Passenger\", \"Price_in_thousands\": 13.987, \"Engine_size\": 1.8, \"Horsepower\": 113.0, \"Wheelbase\": 98.4, \"Width\": 66.5, \"Length\": 173.6, \"Curb_weight\": 2.25, \"Fuel_capacity\": 13.2, \"Fuel_efficiency\": 30.0, \"Latest_Launch\": 1335139200000000000, \"Power_perf_factor\": 45.83218056, \"Passenger\": 1}, {\"Manufacturer\": \"Mitsubishi\", \"Model\": \"Eclipse\", \"Sales_in_thousands\": 42.541, \"__year_resale_value\": 10.395, \"Vehicle_type\": \"Passenger\", \"Price_in_thousands\": 19.047, \"Engine_size\": 2.4, \"Horsepower\": 154.0, \"Wheelbase\": 100.8, \"Width\": 68.9, \"Length\": 175.4, \"Curb_weight\": 2.91, \"Fuel_capacity\": 15.9, \"Fuel_efficiency\": 24.0, \"Latest_Launch\": 1353715200000000000, \"Power_perf_factor\": 62.44196235, \"Passenger\": 1}, {\"Manufacturer\": \"Mitsubishi\", \"Model\": \"Galant\", \"Sales_in_thousands\": 55.616, \"__year_resale_value\": 10.595, \"Vehicle_type\": \"Passenger\", \"Price_in_thousands\": 17.357, \"Engine_size\": 2.4, \"Horsepower\": 145.0, \"Wheelbase\": 103.7, \"Width\": 68.5, \"Length\": 187.8, \"Curb_weight\": 2.945, \"Fuel_capacity\": 16.3, \"Fuel_efficiency\": 25.0, \"Latest_Launch\": 1327795200000000000, \"Power_perf_factor\": 58.60677292, \"Passenger\": 1}, {\"Manufacturer\": \"Mitsubishi\", \"Model\": \"Diamante\", \"Sales_in_thousands\": 5.711, \"__year_resale_value\": 16.575, \"Vehicle_type\": \"Passenger\", \"Price_in_thousands\": 24.997, \"Engine_size\": 3.5, \"Horsepower\": 210.0, \"Wheelbase\": 107.1, \"Width\": 70.3, \"Length\": 194.1, \"Curb_weight\": 3.443, \"Fuel_capacity\": 19.0, \"Fuel_efficiency\": 22.0, \"Latest_Launch\": 1346112000000000000, \"Power_perf_factor\": 84.83077858, \"Passenger\": 1}, {\"Manufacturer\": \"Mitsubishi\", \"Model\": \"3000GT\", \"Sales_in_thousands\": 0.11, \"__year_resale_value\": 20.94, \"Vehicle_type\": \"Passenger\", \"Price_in_thousands\": 25.45, \"Engine_size\": 3.0, \"Horsepower\": 161.0, \"Wheelbase\": 97.2, \"Width\": 72.4, \"Length\": 180.3, \"Curb_weight\": 3.131, \"Fuel_capacity\": 19.8, \"Fuel_efficiency\": 21.0, \"Latest_Launch\": 1340928000000000000, \"Power_perf_factor\": 67.54415494, \"Passenger\": 1}, {\"Manufacturer\": \"Mitsubishi\", \"Model\": \"Montero\", \"Sales_in_thousands\": 11.337, \"__year_resale_value\": 19.125, \"Vehicle_type\": \"Car\", \"Price_in_thousands\": 31.807, \"Engine_size\": 3.5, \"Horsepower\": 200.0, \"Wheelbase\": 107.3, \"Width\": 69.9, \"Length\": 186.6, \"Curb_weight\": 4.52, \"Fuel_capacity\": 24.3, \"Fuel_efficiency\": 18.0, \"Latest_Launch\": 1326758400000000000, \"Power_perf_factor\": 83.92081504, \"Passenger\": 0}, {\"Manufacturer\": \"Mitsubishi\", \"Model\": \"Montero Sport\", \"Sales_in_thousands\": 39.348, \"__year_resale_value\": 13.88, \"Vehicle_type\": \"Car\", \"Price_in_thousands\": 22.527, \"Engine_size\": 3.0, \"Horsepower\": 173.0, \"Wheelbase\": 107.3, \"Width\": 66.7, \"Length\": 178.3, \"Curb_weight\": 3.51, \"Fuel_capacity\": 19.5, \"Fuel_efficiency\": 20.0, \"Latest_Launch\": 1337299200000000000, \"Power_perf_factor\": 70.66094179, \"Passenger\": 0}, {\"Manufacturer\": \"Mercury\", \"Model\": \"Mystique\", \"Sales_in_thousands\": 14.351, \"__year_resale_value\": 8.8, \"Vehicle_type\": \"Passenger\", \"Price_in_thousands\": 16.24, \"Engine_size\": 2.0, \"Horsepower\": 125.0, \"Wheelbase\": 106.5, \"Width\": 69.1, \"Length\": 184.8, \"Curb_weight\": 2.769, \"Fuel_capacity\": 15.0, \"Fuel_efficiency\": 28.0, \"Latest_Launch\": 1355875200000000000, \"Power_perf_factor\": 50.99774761, \"Passenger\": 1}, {\"Manufacturer\": \"Mercury\", \"Model\": \"Cougar\", \"Sales_in_thousands\": 26.529, \"__year_resale_value\": 13.89, \"Vehicle_type\": \"Passenger\", \"Price_in_thousands\": 16.54, \"Engine_size\": 2.0, \"Horsepower\": 125.0, \"Wheelbase\": 106.4, \"Width\": 69.6, \"Length\": 185.0, \"Curb_weight\": 2.892, \"Fuel_capacity\": 16.0, \"Fuel_efficiency\": 30.0, \"Latest_Launch\": 1329955200000000000, \"Power_perf_factor\": 51.11347426, \"Passenger\": 1}, {\"Manufacturer\": \"Mercury\", \"Model\": \"Sable\", \"Sales_in_thousands\": 67.956, \"__year_resale_value\": 11.03, \"Vehicle_type\": \"Passenger\", \"Price_in_thousands\": 19.035, \"Engine_size\": 3.0, \"Horsepower\": 153.0, \"Wheelbase\": 108.5, \"Width\": 73.0, \"Length\": 199.7, \"Curb_weight\": 3.379, \"Fuel_capacity\": 16.0, \"Fuel_efficiency\": 24.0, \"Latest_Launch\": 1348272000000000000, \"Power_perf_factor\": 62.23996663, \"Passenger\": 1}, {\"Manufacturer\": \"Mercury\", \"Model\": \"Grand Marquis\", \"Sales_in_thousands\": 81.174, \"__year_resale_value\": 14.875, \"Vehicle_type\": \"Passenger\", \"Price_in_thousands\": 22.605, \"Engine_size\": 4.6, \"Horsepower\": 200.0, \"Wheelbase\": 114.7, \"Width\": 78.2, \"Length\": 212.0, \"Curb_weight\": 3.958, \"Fuel_capacity\": 19.0, \"Fuel_efficiency\": 21.0, \"Latest_Launch\": 1343088000000000000, \"Power_perf_factor\": 80.65769646, \"Passenger\": 1}, {\"Manufacturer\": \"Mercury\", \"Model\": \"Mountaineer\", \"Sales_in_thousands\": 27.609, \"__year_resale_value\": 20.43, \"Vehicle_type\": \"Car\", \"Price_in_thousands\": 27.56, \"Engine_size\": 4.0, \"Horsepower\": 210.0, \"Wheelbase\": 111.6, \"Width\": 70.2, \"Length\": 190.1, \"Curb_weight\": 3.876, \"Fuel_capacity\": 21.0, \"Fuel_efficiency\": 18.0, \"Latest_Launch\": 1202860800000000000, \"Power_perf_factor\": 85.94974425, \"Passenger\": 0}, {\"Manufacturer\": \"Mercury\", \"Model\": \"Villager\", \"Sales_in_thousands\": 20.38, \"__year_resale_value\": 14.795, \"Vehicle_type\": \"Car\", \"Price_in_thousands\": 22.51, \"Engine_size\": 3.3, \"Horsepower\": 170.0, \"Wheelbase\": 112.2, \"Width\": 74.9, \"Length\": 194.7, \"Curb_weight\": 3.944, \"Fuel_capacity\": 20.0, \"Fuel_efficiency\": 21.0, \"Latest_Launch\": 1255996800000000000, \"Power_perf_factor\": 69.671461, \"Passenger\": 0}, {\"Manufacturer\": \"Mercedes-B\", \"Model\": \"C-Class\", \"Sales_in_thousands\": 18.392, \"__year_resale_value\": 26.05, \"Vehicle_type\": \"Passenger\", \"Price_in_thousands\": 31.75, \"Engine_size\": 2.3, \"Horsepower\": 185.0, \"Wheelbase\": 105.9, \"Width\": 67.7, \"Length\": 177.4, \"Curb_weight\": 3.25, \"Fuel_capacity\": 16.4, \"Fuel_efficiency\": 26.0, \"Latest_Launch\": 1303603200000000000, \"Power_perf_factor\": 78.28073088, \"Passenger\": 1}, {\"Manufacturer\": \"Mercedes-B\", \"Model\": \"E-Class\", \"Sales_in_thousands\": 27.602, \"__year_resale_value\": 41.45, \"Vehicle_type\": \"Passenger\", \"Price_in_thousands\": 49.9, \"Engine_size\": 3.2, \"Horsepower\": 221.0, \"Wheelbase\": 111.5, \"Width\": 70.8, \"Length\": 189.4, \"Curb_weight\": 3.823, \"Fuel_capacity\": 21.1, \"Fuel_efficiency\": 25.0, \"Latest_Launch\": 1310428800000000000, \"Power_perf_factor\": 98.2497375, \"Passenger\": 1}, {\"Manufacturer\": \"Mercedes-B\", \"Model\": \"S-Class\", \"Sales_in_thousands\": 16.774, \"__year_resale_value\": 50.375, \"Vehicle_type\": \"Passenger\", \"Price_in_thousands\": 69.7, \"Engine_size\": 4.3, \"Horsepower\": 275.0, \"Wheelbase\": 121.5, \"Width\": 73.1, \"Length\": 203.1, \"Curb_weight\": 4.133, \"Fuel_capacity\": 23.2, \"Fuel_efficiency\": 21.0, \"Latest_Launch\": 1307923200000000000, \"Power_perf_factor\": 125.2738757, \"Passenger\": 1}, {\"Manufacturer\": \"Mercedes-B\", \"Model\": \"SL-Class\", \"Sales_in_thousands\": 3.311, \"__year_resale_value\": 58.6, \"Vehicle_type\": \"Passenger\", \"Price_in_thousands\": 82.6, \"Engine_size\": 5.0, \"Horsepower\": 302.0, \"Wheelbase\": 99.0, \"Width\": 71.3, \"Length\": 177.1, \"Curb_weight\": 4.125, \"Fuel_capacity\": 21.1, \"Fuel_efficiency\": 20.0, \"Latest_Launch\": 1300320000000000000, \"Power_perf_factor\": 139.9822936, \"Passenger\": 1}, {\"Manufacturer\": \"Nissan\", \"Model\": \"Sentra\", \"Sales_in_thousands\": 42.643, \"__year_resale_value\": 8.45, \"Vehicle_type\": \"Passenger\", \"Price_in_thousands\": 13.499, \"Engine_size\": 1.8, \"Horsepower\": 126.0, \"Wheelbase\": 99.8, \"Width\": 67.3, \"Length\": 177.5, \"Curb_weight\": 2.593, \"Fuel_capacity\": 13.2, \"Fuel_efficiency\": 30.0, \"Latest_Launch\": 1314748800000000000, \"Power_perf_factor\": 50.24197791, \"Passenger\": 1}, {\"Manufacturer\": \"Nissan\", \"Model\": \"Altima\", \"Sales_in_thousands\": 88.094, \"__year_resale_value\": 11.295, \"Vehicle_type\": \"Passenger\", \"Price_in_thousands\": 20.39, \"Engine_size\": 2.4, \"Horsepower\": 155.0, \"Wheelbase\": 103.1, \"Width\": 69.1, \"Length\": 183.5, \"Curb_weight\": 3.012, \"Fuel_capacity\": 15.9, \"Fuel_efficiency\": 25.0, \"Latest_Launch\": 1312243200000000000, \"Power_perf_factor\": 63.31372783, \"Passenger\": 1}, {\"Manufacturer\": \"Nissan\", \"Model\": \"Maxima\", \"Sales_in_thousands\": 79.853, \"__year_resale_value\": 15.125, \"Vehicle_type\": \"Passenger\", \"Price_in_thousands\": 26.249, \"Engine_size\": 3.0, \"Horsepower\": 222.0, \"Wheelbase\": 108.3, \"Width\": 70.3, \"Length\": 190.5, \"Curb_weight\": 3.294, \"Fuel_capacity\": 18.5, \"Fuel_efficiency\": 25.0, \"Latest_Launch\": 1304640000000000000, \"Power_perf_factor\": 89.42782031, \"Passenger\": 1}, {\"Manufacturer\": \"Nissan\", \"Model\": \"Quest\", \"Sales_in_thousands\": 27.308, \"__year_resale_value\": 15.38, \"Vehicle_type\": \"Car\", \"Price_in_thousands\": 26.399, \"Engine_size\": 3.3, \"Horsepower\": 170.0, \"Wheelbase\": 112.2, \"Width\": 74.9, \"Length\": 194.8, \"Curb_weight\": 3.991, \"Fuel_capacity\": 20.0, \"Fuel_efficiency\": 21.0, \"Latest_Launch\": 1299456000000000000, \"Power_perf_factor\": 71.17166413, \"Passenger\": 0}, {\"Manufacturer\": \"Nissan\", \"Model\": \"Pathfinder\", \"Sales_in_thousands\": 42.574, \"__year_resale_value\": 17.81, \"Vehicle_type\": \"Car\", \"Price_in_thousands\": 29.299, \"Engine_size\": 3.3, \"Horsepower\": 170.0, \"Wheelbase\": 106.3, \"Width\": 71.7, \"Length\": 182.6, \"Curb_weight\": 3.947, \"Fuel_capacity\": 21.0, \"Fuel_efficiency\": 19.0, \"Latest_Launch\": 1316908800000000000, \"Power_perf_factor\": 72.29035508, \"Passenger\": 0}, {\"Manufacturer\": \"Oldsmobile\", \"Model\": \"Cutlass\", \"Sales_in_thousands\": 1.112, \"__year_resale_value\": 11.24, \"Vehicle_type\": \"Passenger\", \"Price_in_thousands\": 18.145, \"Engine_size\": 3.1, \"Horsepower\": 150.0, \"Wheelbase\": 107.0, \"Width\": 69.4, \"Length\": 192.0, \"Curb_weight\": 3.102, \"Fuel_capacity\": 15.2, \"Fuel_efficiency\": 25.0, \"Latest_Launch\": 1306800000000000000, \"Power_perf_factor\": 60.86161155, \"Passenger\": 1}, {\"Manufacturer\": \"Oldsmobile\", \"Model\": \"Aurora\", \"Sales_in_thousands\": 14.69, \"__year_resale_value\": 19.89, \"Vehicle_type\": \"Passenger\", \"Price_in_thousands\": 36.229, \"Engine_size\": 4.0, \"Horsepower\": 250.0, \"Wheelbase\": 113.8, \"Width\": 74.4, \"Length\": 205.4, \"Curb_weight\": 3.967, \"Fuel_capacity\": 18.5, \"Fuel_efficiency\": 22.0, \"Latest_Launch\": 1297987200000000000, \"Power_perf_factor\": 103.4416926, \"Passenger\": 1}, {\"Manufacturer\": \"Oldsmobile\", \"Model\": \"Bravada\", \"Sales_in_thousands\": 20.017, \"__year_resale_value\": 19.925, \"Vehicle_type\": \"Car\", \"Price_in_thousands\": 31.598, \"Engine_size\": 4.3, \"Horsepower\": 190.0, \"Wheelbase\": 107.0, \"Width\": 67.8, \"Length\": 181.2, \"Curb_weight\": 4.068, \"Fuel_capacity\": 17.5, \"Fuel_efficiency\": 19.0, \"Latest_Launch\": 1316563200000000000, \"Power_perf_factor\": 80.51167259, \"Passenger\": 0}, {\"Manufacturer\": \"Oldsmobile\", \"Model\": \"Silhouette\", \"Sales_in_thousands\": 24.361, \"__year_resale_value\": 15.24, \"Vehicle_type\": \"Car\", \"Price_in_thousands\": 25.345, \"Engine_size\": 3.4, \"Horsepower\": 185.0, \"Wheelbase\": 120.0, \"Width\": 72.2, \"Length\": 201.4, \"Curb_weight\": 3.948, \"Fuel_capacity\": 25.0, \"Fuel_efficiency\": 22.0, \"Latest_Launch\": 1308960000000000000, \"Power_perf_factor\": 76.09657042, \"Passenger\": 0}, {\"Manufacturer\": \"Plymouth\", \"Model\": \"Neon\", \"Sales_in_thousands\": 32.734, \"__year_resale_value\": 7.75, \"Vehicle_type\": \"Passenger\", \"Price_in_thousands\": 12.64, \"Engine_size\": 2.0, \"Horsepower\": 132.0, \"Wheelbase\": 105.0, \"Width\": 74.4, \"Length\": 174.4, \"Curb_weight\": 2.559, \"Fuel_capacity\": 12.5, \"Fuel_efficiency\": 29.0, \"Latest_Launch\": 1303776000000000000, \"Power_perf_factor\": 52.08489875, \"Passenger\": 1}, {\"Manufacturer\": \"Plymouth\", \"Model\": \"Breeze\", \"Sales_in_thousands\": 5.24, \"__year_resale_value\": 9.8, \"Vehicle_type\": \"Passenger\", \"Price_in_thousands\": 16.08, \"Engine_size\": 2.0, \"Horsepower\": 132.0, \"Wheelbase\": 108.0, \"Width\": 71.0, \"Length\": 186.3, \"Curb_weight\": 2.942, \"Fuel_capacity\": 16.0, \"Fuel_efficiency\": 27.0, \"Latest_Launch\": 1321228800000000000, \"Power_perf_factor\": 53.41189767, \"Passenger\": 1}, {\"Manufacturer\": \"Plymouth\", \"Model\": \"Voyager\", \"Sales_in_thousands\": 24.155, \"__year_resale_value\": 12.025, \"Vehicle_type\": \"Car\", \"Price_in_thousands\": 18.85, \"Engine_size\": 2.4, \"Horsepower\": 150.0, \"Wheelbase\": 113.3, \"Width\": 76.8, \"Length\": 186.3, \"Curb_weight\": 3.528, \"Fuel_capacity\": 20.0, \"Fuel_efficiency\": 24.0, \"Latest_Launch\": 1303603200000000000, \"Power_perf_factor\": 60.95118512, \"Passenger\": 0}, {\"Manufacturer\": \"Pontiac\", \"Model\": \"Sunfire\", \"Sales_in_thousands\": 51.645, \"__year_resale_value\": 13.79, \"Vehicle_type\": \"Passenger\", \"Price_in_thousands\": 21.61, \"Engine_size\": 2.4, \"Horsepower\": 150.0, \"Wheelbase\": 104.1, \"Width\": 68.4, \"Length\": 181.9, \"Curb_weight\": 2.906, \"Fuel_capacity\": 15.0, \"Fuel_efficiency\": 27.0, \"Latest_Launch\": 1327449600000000000, \"Power_perf_factor\": 62.0158703, \"Passenger\": 1}, {\"Manufacturer\": \"Pontiac\", \"Model\": \"Grand Am\", \"Sales_in_thousands\": 131.097, \"__year_resale_value\": 10.29, \"Vehicle_type\": \"Passenger\", \"Price_in_thousands\": 19.72, \"Engine_size\": 3.4, \"Horsepower\": 175.0, \"Wheelbase\": 107.0, \"Width\": 70.4, \"Length\": 186.3, \"Curb_weight\": 3.091, \"Fuel_capacity\": 15.2, \"Fuel_efficiency\": 25.0, \"Latest_Launch\": 1353888000000000000, \"Power_perf_factor\": 70.38973726, \"Passenger\": 1}, {\"Manufacturer\": \"Pontiac\", \"Model\": \"Firebird\", \"Sales_in_thousands\": 19.911, \"__year_resale_value\": 17.805, \"Vehicle_type\": \"Passenger\", \"Price_in_thousands\": 25.31, \"Engine_size\": 3.8, \"Horsepower\": 200.0, \"Wheelbase\": 101.1, \"Width\": 74.5, \"Length\": 193.4, \"Curb_weight\": 3.492, \"Fuel_capacity\": 16.8, \"Fuel_efficiency\": 25.0, \"Latest_Launch\": 1339804800000000000, \"Power_perf_factor\": 81.49272616, \"Passenger\": 1}, {\"Manufacturer\": \"Pontiac\", \"Model\": \"Grand Prix\", \"Sales_in_thousands\": 92.364, \"__year_resale_value\": 14.01, \"Vehicle_type\": \"Passenger\", \"Price_in_thousands\": 21.665, \"Engine_size\": 3.8, \"Horsepower\": 195.0, \"Wheelbase\": 110.5, \"Width\": 72.7, \"Length\": 196.5, \"Curb_weight\": 3.396, \"Fuel_capacity\": 18.0, \"Fuel_efficiency\": 25.0, \"Latest_Launch\": 1350259200000000000, \"Power_perf_factor\": 78.31816813, \"Passenger\": 1}, {\"Manufacturer\": \"Pontiac\", \"Model\": \"Bonneville\", \"Sales_in_thousands\": 35.945, \"__year_resale_value\": 13.225, \"Vehicle_type\": \"Passenger\", \"Price_in_thousands\": 23.755, \"Engine_size\": 3.8, \"Horsepower\": 205.0, \"Wheelbase\": 112.2, \"Width\": 72.6, \"Length\": 202.5, \"Curb_weight\": 3.59, \"Fuel_capacity\": 17.5, \"Fuel_efficiency\": 24.0, \"Latest_Launch\": 1305676800000000000, \"Power_perf_factor\": 82.6613556, \"Passenger\": 1}, {\"Manufacturer\": \"Porsche\", \"Model\": \"Boxter\", \"Sales_in_thousands\": 8.982, \"__year_resale_value\": 41.25, \"Vehicle_type\": \"Passenger\", \"Price_in_thousands\": 41.43, \"Engine_size\": 2.7, \"Horsepower\": 217.0, \"Wheelbase\": 95.2, \"Width\": 70.1, \"Length\": 171.0, \"Curb_weight\": 2.778, \"Fuel_capacity\": 17.0, \"Fuel_efficiency\": 22.0, \"Latest_Launch\": 1329609600000000000, \"Power_perf_factor\": 93.4373307, \"Passenger\": 1}, {\"Manufacturer\": \"Porsche\", \"Model\": \"Carrera Coupe\", \"Sales_in_thousands\": 1.28, \"__year_resale_value\": 60.625, \"Vehicle_type\": \"Passenger\", \"Price_in_thousands\": 71.02, \"Engine_size\": 3.4, \"Horsepower\": 300.0, \"Wheelbase\": 92.6, \"Width\": 69.5, \"Length\": 174.5, \"Curb_weight\": 3.032, \"Fuel_capacity\": 17.0, \"Fuel_efficiency\": 21.0, \"Latest_Launch\": 1356048000000000000, \"Power_perf_factor\": 134.3909754, \"Passenger\": 1}, {\"Manufacturer\": \"Porsche\", \"Model\": \"Carrera Cabrio\", \"Sales_in_thousands\": 1.866, \"__year_resale_value\": 67.55, \"Vehicle_type\": \"Passenger\", \"Price_in_thousands\": 74.97, \"Engine_size\": 3.4, \"Horsepower\": 300.0, \"Wheelbase\": 92.6, \"Width\": 69.5, \"Length\": 174.5, \"Curb_weight\": 3.075, \"Fuel_capacity\": 17.0, \"Fuel_efficiency\": 23.0, \"Latest_Launch\": 1310342400000000000, \"Power_perf_factor\": 135.9147096, \"Passenger\": 1}, {\"Manufacturer\": \"Saturn\", \"Model\": \"SL\", \"Sales_in_thousands\": 80.62, \"__year_resale_value\": 9.2, \"Vehicle_type\": \"Passenger\", \"Price_in_thousands\": 10.685, \"Engine_size\": 1.9, \"Horsepower\": 100.0, \"Wheelbase\": 102.4, \"Width\": 66.4, \"Length\": 176.9, \"Curb_weight\": 2.332, \"Fuel_capacity\": 12.1, \"Fuel_efficiency\": 33.0, \"Latest_Launch\": 1345075200000000000, \"Power_perf_factor\": 39.98642475, \"Passenger\": 1}, {\"Manufacturer\": \"Saturn\", \"Model\": \"SC\", \"Sales_in_thousands\": 24.546, \"__year_resale_value\": 10.59, \"Vehicle_type\": \"Passenger\", \"Price_in_thousands\": 12.535, \"Engine_size\": 1.9, \"Horsepower\": 100.0, \"Wheelbase\": 102.4, \"Width\": 66.4, \"Length\": 180.0, \"Curb_weight\": 2.367, \"Fuel_capacity\": 12.1, \"Fuel_efficiency\": 33.0, \"Latest_Launch\": 1300233600000000000, \"Power_perf_factor\": 40.70007242, \"Passenger\": 1}, {\"Manufacturer\": \"Saturn\", \"Model\": \"SW\", \"Sales_in_thousands\": 5.223, \"__year_resale_value\": 10.79, \"Vehicle_type\": \"Passenger\", \"Price_in_thousands\": 14.29, \"Engine_size\": 1.9, \"Horsepower\": 124.0, \"Wheelbase\": 102.4, \"Width\": 66.4, \"Length\": 176.9, \"Curb_weight\": 2.452, \"Fuel_capacity\": 12.1, \"Fuel_efficiency\": 31.0, \"Latest_Launch\": 1295049600000000000, \"Power_perf_factor\": 49.86577367, \"Passenger\": 1}, {\"Manufacturer\": \"Toyota\", \"Model\": \"Corolla\", \"Sales_in_thousands\": 142.535, \"__year_resale_value\": 10.025, \"Vehicle_type\": \"Passenger\", \"Price_in_thousands\": 13.108, \"Engine_size\": 1.8, \"Horsepower\": 120.0, \"Wheelbase\": 97.0, \"Width\": 66.7, \"Length\": 174.0, \"Curb_weight\": 2.42, \"Fuel_capacity\": 13.2, \"Fuel_efficiency\": 33.0, \"Latest_Launch\": 1302480000000000000, \"Power_perf_factor\": 47.96897242, \"Passenger\": 1}, {\"Manufacturer\": \"Toyota\", \"Model\": \"Camry\", \"Sales_in_thousands\": 247.994, \"__year_resale_value\": 13.245, \"Vehicle_type\": \"Passenger\", \"Price_in_thousands\": 17.518, \"Engine_size\": 2.2, \"Horsepower\": 133.0, \"Wheelbase\": 105.2, \"Width\": 70.1, \"Length\": 188.5, \"Curb_weight\": 2.998, \"Fuel_capacity\": 18.5, \"Fuel_efficiency\": 27.0, \"Latest_Launch\": 1297296000000000000, \"Power_perf_factor\": 54.37241965, \"Passenger\": 1}, {\"Manufacturer\": \"Toyota\", \"Model\": \"Avalon\", \"Sales_in_thousands\": 63.849, \"__year_resale_value\": 18.14, \"Vehicle_type\": \"Passenger\", \"Price_in_thousands\": 25.545, \"Engine_size\": 3.0, \"Horsepower\": 210.0, \"Wheelbase\": 107.1, \"Width\": 71.7, \"Length\": 191.9, \"Curb_weight\": 3.417, \"Fuel_capacity\": 18.5, \"Fuel_efficiency\": 26.0, \"Latest_Launch\": 1314748800000000000, \"Power_perf_factor\": 84.91189826, \"Passenger\": 1}, {\"Manufacturer\": \"Toyota\", \"Model\": \"Celica\", \"Sales_in_thousands\": 33.269, \"__year_resale_value\": 15.445, \"Vehicle_type\": \"Passenger\", \"Price_in_thousands\": 16.875, \"Engine_size\": 1.8, \"Horsepower\": 140.0, \"Wheelbase\": 102.4, \"Width\": 68.3, \"Length\": 170.5, \"Curb_weight\": 2.425, \"Fuel_capacity\": 14.5, \"Fuel_efficiency\": 31.0, \"Latest_Launch\": 1356739200000000000, \"Power_perf_factor\": 56.49603034, \"Passenger\": 1}, {\"Manufacturer\": \"Toyota\", \"Model\": \"Tacoma\", \"Sales_in_thousands\": 84.087, \"__year_resale_value\": 9.575, \"Vehicle_type\": \"Car\", \"Price_in_thousands\": 11.528, \"Engine_size\": 2.4, \"Horsepower\": 142.0, \"Wheelbase\": 103.3, \"Width\": 66.5, \"Length\": 178.7, \"Curb_weight\": 2.58, \"Fuel_capacity\": 15.1, \"Fuel_efficiency\": 23.0, \"Latest_Launch\": 1312156800000000000, \"Power_perf_factor\": 55.29711658, \"Passenger\": 0}, {\"Manufacturer\": \"Toyota\", \"Model\": \"RAV4\", \"Sales_in_thousands\": 25.106, \"__year_resale_value\": 13.325, \"Vehicle_type\": \"Car\", \"Price_in_thousands\": 16.888, \"Engine_size\": 2.0, \"Horsepower\": 127.0, \"Wheelbase\": 94.9, \"Width\": 66.7, \"Length\": 163.8, \"Curb_weight\": 2.668, \"Fuel_capacity\": 15.3, \"Fuel_efficiency\": 27.0, \"Latest_Launch\": 1304640000000000000, \"Power_perf_factor\": 51.95510887, \"Passenger\": 0}, {\"Manufacturer\": \"Toyota\", \"Model\": \"4Runner\", \"Sales_in_thousands\": 68.411, \"__year_resale_value\": 19.425, \"Vehicle_type\": \"Car\", \"Price_in_thousands\": 22.288, \"Engine_size\": 2.7, \"Horsepower\": 150.0, \"Wheelbase\": 105.3, \"Width\": 66.5, \"Length\": 183.3, \"Curb_weight\": 3.44, \"Fuel_capacity\": 18.5, \"Fuel_efficiency\": 23.0, \"Latest_Launch\": 1299456000000000000, \"Power_perf_factor\": 62.35557713, \"Passenger\": 0}, {\"Manufacturer\": \"Toyota\", \"Model\": \"Land Cruiser\", \"Sales_in_thousands\": 9.835, \"__year_resale_value\": 34.08, \"Vehicle_type\": \"Car\", \"Price_in_thousands\": 51.728, \"Engine_size\": 4.7, \"Horsepower\": 230.0, \"Wheelbase\": 112.2, \"Width\": 76.4, \"Length\": 192.5, \"Curb_weight\": 5.115, \"Fuel_capacity\": 25.4, \"Fuel_efficiency\": 15.0, \"Latest_Launch\": 1316908800000000000, \"Power_perf_factor\": 102.5289842, \"Passenger\": 0}, {\"Manufacturer\": \"Volkswagen\", \"Model\": \"Golf\", \"Sales_in_thousands\": 9.761, \"__year_resale_value\": 11.425, \"Vehicle_type\": \"Passenger\", \"Price_in_thousands\": 14.9, \"Engine_size\": 2.0, \"Horsepower\": 115.0, \"Wheelbase\": 98.9, \"Width\": 68.3, \"Length\": 163.3, \"Curb_weight\": 2.767, \"Fuel_capacity\": 14.5, \"Fuel_efficiency\": 26.0, \"Latest_Launch\": 1295827200000000000, \"Power_perf_factor\": 46.94387676, \"Passenger\": 1}, {\"Manufacturer\": \"Volkswagen\", \"Model\": \"Jetta\", \"Sales_in_thousands\": 83.721, \"__year_resale_value\": 13.24, \"Vehicle_type\": \"Passenger\", \"Price_in_thousands\": 16.7, \"Engine_size\": 2.0, \"Horsepower\": 115.0, \"Wheelbase\": 98.9, \"Width\": 68.3, \"Length\": 172.3, \"Curb_weight\": 2.853, \"Fuel_capacity\": 14.5, \"Fuel_efficiency\": 26.0, \"Latest_Launch\": 1314403200000000000, \"Power_perf_factor\": 47.63823666, \"Passenger\": 1}, {\"Manufacturer\": \"Volkswagen\", \"Model\": \"Passat\", \"Sales_in_thousands\": 51.102, \"__year_resale_value\": 16.725, \"Vehicle_type\": \"Passenger\", \"Price_in_thousands\": 21.2, \"Engine_size\": 1.8, \"Horsepower\": 150.0, \"Wheelbase\": 106.4, \"Width\": 68.5, \"Length\": 184.1, \"Curb_weight\": 3.043, \"Fuel_capacity\": 16.4, \"Fuel_efficiency\": 27.0, \"Latest_Launch\": 1351555200000000000, \"Power_perf_factor\": 61.70138136, \"Passenger\": 1}, {\"Manufacturer\": \"Volkswagen\", \"Model\": \"Cabrio\", \"Sales_in_thousands\": 9.569, \"__year_resale_value\": 16.575, \"Vehicle_type\": \"Passenger\", \"Price_in_thousands\": 19.99, \"Engine_size\": 2.0, \"Horsepower\": 115.0, \"Wheelbase\": 97.4, \"Width\": 66.7, \"Length\": 160.4, \"Curb_weight\": 3.079, \"Fuel_capacity\": 13.7, \"Fuel_efficiency\": 26.0, \"Latest_Launch\": 1306800000000000000, \"Power_perf_factor\": 48.90737225, \"Passenger\": 1}, {\"Manufacturer\": \"Volkswagen\", \"Model\": \"GTI\", \"Sales_in_thousands\": 5.596, \"__year_resale_value\": 13.76, \"Vehicle_type\": \"Passenger\", \"Price_in_thousands\": 17.5, \"Engine_size\": 2.0, \"Horsepower\": 115.0, \"Wheelbase\": 98.9, \"Width\": 68.3, \"Length\": 163.3, \"Curb_weight\": 2.762, \"Fuel_capacity\": 14.6, \"Fuel_efficiency\": 26.0, \"Latest_Launch\": 1301616000000000000, \"Power_perf_factor\": 47.94684106, \"Passenger\": 1}]}}, {\"mode\": \"vega-lite\"});\n</script>",
      "text/plain": "alt.Chart(...)"
     },
     "metadata": {}
    }
   ]
  },
  {
   "cell_type": "markdown",
   "source": "Draw the Altair diagram based on the type and number of manufacturer. By looking at the chart above, we can say that manufacturers Dodge and Ford produce more cars than any other manufacturer.",
   "metadata": {
    "cell_id": "3f777a34c4d042bc8c95cd98232562e0",
    "tags": [],
    "deepnote_cell_type": "markdown",
    "deepnote_cell_height": 74.796875
   }
  },
  {
   "cell_type": "code",
   "metadata": {
    "cell_id": "e5559eebcb8f44c79a656fd6bf4533bf",
    "tags": [],
    "deepnote_to_be_reexecuted": false,
    "source_hash": "a0df8e0d",
    "execution_start": 1654669306536,
    "execution_millis": 2377,
    "deepnote_cell_type": "code",
    "deepnote_cell_height": 696
   },
   "source": "import plotly.express as px\navg = pd.DataFrame(df.groupby('Manufacturer')['Sales_in_thousands'].mean())\n\nfig = px.bar(df, x=avg.index, y=avg[\"Sales_in_thousands\"])\nfig.show()",
   "execution_count": null,
   "outputs": [
    {
     "data": {
      "text/html": "<html>\n<head><meta charset=\"utf-8\" /></head>\n<body>\n    <div>            <script src=\"https://cdnjs.cloudflare.com/ajax/libs/mathjax/2.7.5/MathJax.js?config=TeX-AMS-MML_SVG\"></script><script type=\"text/javascript\">if (window.MathJax && window.MathJax.Hub && && window.MathJax.Hub.Config) {window.MathJax.Hub.Config({SVG: {font: \"STIX-Web\"}});}</script>                <script type=\"text/javascript\">window.PlotlyConfig = {MathJaxConfig: 'local'};</script>\n        <script src=\"https://cdn.plot.ly/plotly-2.12.1.min.js\"></script>                <div id=\"0e87822f-9128-4e3b-9c4d-6b3f9d186b2c\" class=\"plotly-graph-div\" style=\"height:525px; width:100%;\"></div>            <script type=\"text/javascript\">                                    window.PLOTLYENV=window.PLOTLYENV || {};                                    if (document.getElementById(\"0e87822f-9128-4e3b-9c4d-6b3f9d186b2c\")) {                    Plotly.newPlot(                        \"0e87822f-9128-4e3b-9c4d-6b3f9d186b2c\",                        [{\"alignmentgroup\":\"True\",\"hovertemplate\":\"x=%{x}<br>y=%{y}<extra></extra>\",\"legendgroup\":\"\",\"marker\":{\"color\":\"#636efa\",\"pattern\":{\"shape\":\"\"}},\"name\":\"\",\"offsetgroup\":\"\",\"orientation\":\"v\",\"showlegend\":false,\"textposition\":\"auto\",\"x\":[\"Acura\",\"Audi\",\"BMW\",\"Buick\",\"Cadillac\",\"Chevrolet\",\"Chrysler\",\"Dodge\",\"Ford\",\"Honda\",\"Hyundai\",\"Infiniti\",\"Jeep\",\"Lexus\",\"Lincoln\",\"Mercedes-B\",\"Mercury\",\"Mitsubishi\",\"Nissan\",\"Oldsmobile\",\"Plymouth\",\"Pontiac\",\"Porsche\",\"Saturn\",\"Toyota\",\"Volkswagen\"],\"xaxis\":\"x\",\"y\":[21.63033333333333,13.519,13.379000000000001,60.50475,27.150000000000002,55.79625,23.509,80.08866666666668,184.69650000000001,118.53479999999999,45.77533333333333,23.713,97.71766666666667,14.381666666666666,31.3545,16.519750000000002,39.666500000000006,25.842142857142854,56.09439999999999,15.045000000000002,20.709666666666667,66.1924,4.042666666666666,36.79633333333333,84.38575,31.9498],\"yaxis\":\"y\",\"type\":\"bar\"}],                        {\"template\":{\"data\":{\"histogram2dcontour\":[{\"type\":\"histogram2dcontour\",\"colorbar\":{\"outlinewidth\":0,\"ticks\":\"\"},\"colorscale\":[[0.0,\"#0d0887\"],[0.1111111111111111,\"#46039f\"],[0.2222222222222222,\"#7201a8\"],[0.3333333333333333,\"#9c179e\"],[0.4444444444444444,\"#bd3786\"],[0.5555555555555556,\"#d8576b\"],[0.6666666666666666,\"#ed7953\"],[0.7777777777777778,\"#fb9f3a\"],[0.8888888888888888,\"#fdca26\"],[1.0,\"#f0f921\"]]}],\"choropleth\":[{\"type\":\"choropleth\",\"colorbar\":{\"outlinewidth\":0,\"ticks\":\"\"}}],\"histogram2d\":[{\"type\":\"histogram2d\",\"colorbar\":{\"outlinewidth\":0,\"ticks\":\"\"},\"colorscale\":[[0.0,\"#0d0887\"],[0.1111111111111111,\"#46039f\"],[0.2222222222222222,\"#7201a8\"],[0.3333333333333333,\"#9c179e\"],[0.4444444444444444,\"#bd3786\"],[0.5555555555555556,\"#d8576b\"],[0.6666666666666666,\"#ed7953\"],[0.7777777777777778,\"#fb9f3a\"],[0.8888888888888888,\"#fdca26\"],[1.0,\"#f0f921\"]]}],\"heatmap\":[{\"type\":\"heatmap\",\"colorbar\":{\"outlinewidth\":0,\"ticks\":\"\"},\"colorscale\":[[0.0,\"#0d0887\"],[0.1111111111111111,\"#46039f\"],[0.2222222222222222,\"#7201a8\"],[0.3333333333333333,\"#9c179e\"],[0.4444444444444444,\"#bd3786\"],[0.5555555555555556,\"#d8576b\"],[0.6666666666666666,\"#ed7953\"],[0.7777777777777778,\"#fb9f3a\"],[0.8888888888888888,\"#fdca26\"],[1.0,\"#f0f921\"]]}],\"heatmapgl\":[{\"type\":\"heatmapgl\",\"colorbar\":{\"outlinewidth\":0,\"ticks\":\"\"},\"colorscale\":[[0.0,\"#0d0887\"],[0.1111111111111111,\"#46039f\"],[0.2222222222222222,\"#7201a8\"],[0.3333333333333333,\"#9c179e\"],[0.4444444444444444,\"#bd3786\"],[0.5555555555555556,\"#d8576b\"],[0.6666666666666666,\"#ed7953\"],[0.7777777777777778,\"#fb9f3a\"],[0.8888888888888888,\"#fdca26\"],[1.0,\"#f0f921\"]]}],\"contourcarpet\":[{\"type\":\"contourcarpet\",\"colorbar\":{\"outlinewidth\":0,\"ticks\":\"\"}}],\"contour\":[{\"type\":\"contour\",\"colorbar\":{\"outlinewidth\":0,\"ticks\":\"\"},\"colorscale\":[[0.0,\"#0d0887\"],[0.1111111111111111,\"#46039f\"],[0.2222222222222222,\"#7201a8\"],[0.3333333333333333,\"#9c179e\"],[0.4444444444444444,\"#bd3786\"],[0.5555555555555556,\"#d8576b\"],[0.6666666666666666,\"#ed7953\"],[0.7777777777777778,\"#fb9f3a\"],[0.8888888888888888,\"#fdca26\"],[1.0,\"#f0f921\"]]}],\"surface\":[{\"type\":\"surface\",\"colorbar\":{\"outlinewidth\":0,\"ticks\":\"\"},\"colorscale\":[[0.0,\"#0d0887\"],[0.1111111111111111,\"#46039f\"],[0.2222222222222222,\"#7201a8\"],[0.3333333333333333,\"#9c179e\"],[0.4444444444444444,\"#bd3786\"],[0.5555555555555556,\"#d8576b\"],[0.6666666666666666,\"#ed7953\"],[0.7777777777777778,\"#fb9f3a\"],[0.8888888888888888,\"#fdca26\"],[1.0,\"#f0f921\"]]}],\"mesh3d\":[{\"type\":\"mesh3d\",\"colorbar\":{\"outlinewidth\":0,\"ticks\":\"\"}}],\"scatter\":[{\"fillpattern\":{\"fillmode\":\"overlay\",\"size\":10,\"solidity\":0.2},\"type\":\"scatter\"}],\"parcoords\":[{\"type\":\"parcoords\",\"line\":{\"colorbar\":{\"outlinewidth\":0,\"ticks\":\"\"}}}],\"scatterpolargl\":[{\"type\":\"scatterpolargl\",\"marker\":{\"colorbar\":{\"outlinewidth\":0,\"ticks\":\"\"}}}],\"bar\":[{\"error_x\":{\"color\":\"#2a3f5f\"},\"error_y\":{\"color\":\"#2a3f5f\"},\"marker\":{\"line\":{\"color\":\"#E5ECF6\",\"width\":0.5},\"pattern\":{\"fillmode\":\"overlay\",\"size\":10,\"solidity\":0.2}},\"type\":\"bar\"}],\"scattergeo\":[{\"type\":\"scattergeo\",\"marker\":{\"colorbar\":{\"outlinewidth\":0,\"ticks\":\"\"}}}],\"scatterpolar\":[{\"type\":\"scatterpolar\",\"marker\":{\"colorbar\":{\"outlinewidth\":0,\"ticks\":\"\"}}}],\"histogram\":[{\"marker\":{\"pattern\":{\"fillmode\":\"overlay\",\"size\":10,\"solidity\":0.2}},\"type\":\"histogram\"}],\"scattergl\":[{\"type\":\"scattergl\",\"marker\":{\"colorbar\":{\"outlinewidth\":0,\"ticks\":\"\"}}}],\"scatter3d\":[{\"type\":\"scatter3d\",\"line\":{\"colorbar\":{\"outlinewidth\":0,\"ticks\":\"\"}},\"marker\":{\"colorbar\":{\"outlinewidth\":0,\"ticks\":\"\"}}}],\"scattermapbox\":[{\"type\":\"scattermapbox\",\"marker\":{\"colorbar\":{\"outlinewidth\":0,\"ticks\":\"\"}}}],\"scatterternary\":[{\"type\":\"scatterternary\",\"marker\":{\"colorbar\":{\"outlinewidth\":0,\"ticks\":\"\"}}}],\"scattercarpet\":[{\"type\":\"scattercarpet\",\"marker\":{\"colorbar\":{\"outlinewidth\":0,\"ticks\":\"\"}}}],\"carpet\":[{\"aaxis\":{\"endlinecolor\":\"#2a3f5f\",\"gridcolor\":\"white\",\"linecolor\":\"white\",\"minorgridcolor\":\"white\",\"startlinecolor\":\"#2a3f5f\"},\"baxis\":{\"endlinecolor\":\"#2a3f5f\",\"gridcolor\":\"white\",\"linecolor\":\"white\",\"minorgridcolor\":\"white\",\"startlinecolor\":\"#2a3f5f\"},\"type\":\"carpet\"}],\"table\":[{\"cells\":{\"fill\":{\"color\":\"#EBF0F8\"},\"line\":{\"color\":\"white\"}},\"header\":{\"fill\":{\"color\":\"#C8D4E3\"},\"line\":{\"color\":\"white\"}},\"type\":\"table\"}],\"barpolar\":[{\"marker\":{\"line\":{\"color\":\"#E5ECF6\",\"width\":0.5},\"pattern\":{\"fillmode\":\"overlay\",\"size\":10,\"solidity\":0.2}},\"type\":\"barpolar\"}],\"pie\":[{\"automargin\":true,\"type\":\"pie\"}]},\"layout\":{\"autotypenumbers\":\"strict\",\"colorway\":[\"#636efa\",\"#EF553B\",\"#00cc96\",\"#ab63fa\",\"#FFA15A\",\"#19d3f3\",\"#FF6692\",\"#B6E880\",\"#FF97FF\",\"#FECB52\"],\"font\":{\"color\":\"#2a3f5f\"},\"hovermode\":\"closest\",\"hoverlabel\":{\"align\":\"left\"},\"paper_bgcolor\":\"white\",\"plot_bgcolor\":\"#E5ECF6\",\"polar\":{\"bgcolor\":\"#E5ECF6\",\"angularaxis\":{\"gridcolor\":\"white\",\"linecolor\":\"white\",\"ticks\":\"\"},\"radialaxis\":{\"gridcolor\":\"white\",\"linecolor\":\"white\",\"ticks\":\"\"}},\"ternary\":{\"bgcolor\":\"#E5ECF6\",\"aaxis\":{\"gridcolor\":\"white\",\"linecolor\":\"white\",\"ticks\":\"\"},\"baxis\":{\"gridcolor\":\"white\",\"linecolor\":\"white\",\"ticks\":\"\"},\"caxis\":{\"gridcolor\":\"white\",\"linecolor\":\"white\",\"ticks\":\"\"}},\"coloraxis\":{\"colorbar\":{\"outlinewidth\":0,\"ticks\":\"\"}},\"colorscale\":{\"sequential\":[[0.0,\"#0d0887\"],[0.1111111111111111,\"#46039f\"],[0.2222222222222222,\"#7201a8\"],[0.3333333333333333,\"#9c179e\"],[0.4444444444444444,\"#bd3786\"],[0.5555555555555556,\"#d8576b\"],[0.6666666666666666,\"#ed7953\"],[0.7777777777777778,\"#fb9f3a\"],[0.8888888888888888,\"#fdca26\"],[1.0,\"#f0f921\"]],\"sequentialminus\":[[0.0,\"#0d0887\"],[0.1111111111111111,\"#46039f\"],[0.2222222222222222,\"#7201a8\"],[0.3333333333333333,\"#9c179e\"],[0.4444444444444444,\"#bd3786\"],[0.5555555555555556,\"#d8576b\"],[0.6666666666666666,\"#ed7953\"],[0.7777777777777778,\"#fb9f3a\"],[0.8888888888888888,\"#fdca26\"],[1.0,\"#f0f921\"]],\"diverging\":[[0,\"#8e0152\"],[0.1,\"#c51b7d\"],[0.2,\"#de77ae\"],[0.3,\"#f1b6da\"],[0.4,\"#fde0ef\"],[0.5,\"#f7f7f7\"],[0.6,\"#e6f5d0\"],[0.7,\"#b8e186\"],[0.8,\"#7fbc41\"],[0.9,\"#4d9221\"],[1,\"#276419\"]]},\"xaxis\":{\"gridcolor\":\"white\",\"linecolor\":\"white\",\"ticks\":\"\",\"title\":{\"standoff\":15},\"zerolinecolor\":\"white\",\"automargin\":true,\"zerolinewidth\":2},\"yaxis\":{\"gridcolor\":\"white\",\"linecolor\":\"white\",\"ticks\":\"\",\"title\":{\"standoff\":15},\"zerolinecolor\":\"white\",\"automargin\":true,\"zerolinewidth\":2},\"scene\":{\"xaxis\":{\"backgroundcolor\":\"#E5ECF6\",\"gridcolor\":\"white\",\"linecolor\":\"white\",\"showbackground\":true,\"ticks\":\"\",\"zerolinecolor\":\"white\",\"gridwidth\":2},\"yaxis\":{\"backgroundcolor\":\"#E5ECF6\",\"gridcolor\":\"white\",\"linecolor\":\"white\",\"showbackground\":true,\"ticks\":\"\",\"zerolinecolor\":\"white\",\"gridwidth\":2},\"zaxis\":{\"backgroundcolor\":\"#E5ECF6\",\"gridcolor\":\"white\",\"linecolor\":\"white\",\"showbackground\":true,\"ticks\":\"\",\"zerolinecolor\":\"white\",\"gridwidth\":2}},\"shapedefaults\":{\"line\":{\"color\":\"#2a3f5f\"}},\"annotationdefaults\":{\"arrowcolor\":\"#2a3f5f\",\"arrowhead\":0,\"arrowwidth\":1},\"geo\":{\"bgcolor\":\"white\",\"landcolor\":\"#E5ECF6\",\"subunitcolor\":\"white\",\"showland\":true,\"showlakes\":true,\"lakecolor\":\"white\"},\"title\":{\"x\":0.05},\"mapbox\":{\"style\":\"light\"}}},\"xaxis\":{\"anchor\":\"y\",\"domain\":[0.0,1.0],\"title\":{\"text\":\"x\"}},\"yaxis\":{\"anchor\":\"x\",\"domain\":[0.0,1.0],\"title\":{\"text\":\"y\"}},\"legend\":{\"tracegroupgap\":0},\"margin\":{\"t\":60},\"barmode\":\"relative\"},                        {\"responsive\": true}                    ).then(function(){\n                            \nvar gd = document.getElementById('0e87822f-9128-4e3b-9c4d-6b3f9d186b2c');\nvar x = new MutationObserver(function (mutations, observer) {{\n        var display = window.getComputedStyle(gd).display;\n        if (!display || display === 'none') {{\n            console.log([gd, 'removed!']);\n            Plotly.purge(gd);\n            observer.disconnect();\n        }}\n}});\n\n// Listen for the removal of the full notebook cells\nvar notebookContainer = gd.closest('#notebook-container');\nif (notebookContainer) {{\n    x.observe(notebookContainer, {childList: true});\n}}\n\n// Listen for the clearing of the current output cell\nvar outputEl = gd.closest('.output');\nif (outputEl) {{\n    x.observe(outputEl, {childList: true});\n}}\n\n                        })                };                            </script>        </div>\n</body>\n</html>"
     },
     "metadata": {},
     "output_type": "display_data"
    }
   ]
  },
  {
   "cell_type": "markdown",
   "source": "Draw the plotly diagram based on the type of manufacturers and their sales. By looking at the chart above, We can say that the manufacturers Ford has the highest sales compared to other manufacturers.",
   "metadata": {
    "cell_id": "f9fc93d152cd4d02a5469025f64edfd5",
    "tags": [],
    "deepnote_to_be_reexecuted": false,
    "source_hash": "8ca3dc19",
    "execution_start": 1654035558828,
    "execution_millis": 264,
    "deepnote_cell_type": "markdown",
    "deepnote_cell_height": 74.796875
   }
  },
  {
   "cell_type": "markdown",
   "source": "## Create the Linear Regression for all condition:",
   "metadata": {
    "cell_id": "0d8e7c1c9c9e42cd9256b4d3f73c3bde",
    "tags": [],
    "deepnote_cell_type": "markdown",
    "deepnote_cell_height": 70
   }
  },
  {
   "cell_type": "code",
   "metadata": {
    "cell_id": "44262c8003a247fa84bf498c5fc3c98b",
    "tags": [],
    "deepnote_to_be_reexecuted": false,
    "source_hash": "52430027",
    "execution_start": 1654669308865,
    "execution_millis": 54,
    "deepnote_cell_type": "code",
    "deepnote_cell_height": 425.3125
   },
   "source": "df.dtypes",
   "execution_count": null,
   "outputs": [
    {
     "output_type": "execute_result",
     "execution_count": 6,
     "data": {
      "text/plain": "Manufacturer            object\nModel                   object\nSales_in_thousands     float64\n__year_resale_value    float64\nVehicle_type            object\nPrice_in_thousands     float64\nEngine_size            float64\nHorsepower             float64\nWheelbase              float64\nWidth                  float64\nLength                 float64\nCurb_weight            float64\nFuel_capacity          float64\nFuel_efficiency        float64\nLatest_Launch           object\nPower_perf_factor      float64\ndtype: object"
     },
     "metadata": {}
    }
   ]
  },
  {
   "cell_type": "code",
   "metadata": {
    "cell_id": "fb2dcc154fa046f3be64a4d0903af760",
    "tags": [],
    "deepnote_to_be_reexecuted": false,
    "source_hash": "2d15ec4a",
    "execution_start": 1654669308866,
    "execution_millis": 1,
    "deepnote_table_state": {
     "pageSize": 10,
     "pageIndex": 1,
     "filters": [],
     "sortBy": []
    },
    "deepnote_table_loading": false,
    "deepnote_cell_type": "code",
    "deepnote_cell_height": 117
   },
   "source": "df[\"Passenger\"]=0\ndf[\"Vehicle_type\"]==\"Passenger\"\ndf.loc[df[\"Vehicle_type\"]==\"Passenger\",\"Passenger\"]=1",
   "execution_count": null,
   "outputs": []
  },
  {
   "cell_type": "code",
   "metadata": {
    "cell_id": "ddf2b191bfdf4f2e9a1824103dd5f7d7",
    "tags": [],
    "deepnote_to_be_reexecuted": false,
    "source_hash": "2824ae68",
    "execution_start": 1654669308923,
    "execution_millis": 1,
    "deepnote_cell_type": "code",
    "deepnote_cell_height": 81
   },
   "source": "df[\"Latest_Launch\"]=pd.to_datetime(df[\"Latest_Launch\"]).astype(int)#New",
   "execution_count": null,
   "outputs": []
  },
  {
   "cell_type": "markdown",
   "source": "It Converts data type for object",
   "metadata": {
    "cell_id": "34ece05a93b84168bec8f2b5a807125e",
    "tags": [],
    "deepnote_cell_type": "markdown",
    "deepnote_cell_height": 52.390625
   }
  },
  {
   "cell_type": "code",
   "metadata": {
    "cell_id": "0002f6fe7cd247d9b0e3ab631e3b92e0",
    "tags": [],
    "deepnote_to_be_reexecuted": false,
    "source_hash": "80f4840f",
    "execution_start": 1654669659264,
    "execution_millis": 4,
    "deepnote_cell_type": "code",
    "deepnote_cell_height": 420.53125
   },
   "source": "from sklearn.linear_model import LinearRegression\nreg = LinearRegression()\ncols=['Latest_Launch','Sales_in_thousands','__year_resale_value','Passenger','Engine_size','Horsepower','Wheelbase','Width','Length','Curb_weight','Fuel_capacity','Power_perf_factor']\nreg.fit(df[cols],df[\"Price_in_thousands\"])\npd.Series(reg.coef_,index=cols)",
   "execution_count": null,
   "outputs": [
    {
     "output_type": "execute_result",
     "execution_count": 13,
     "data": {
      "text/plain": "Latest_Launch         -3.532375e-17\nSales_in_thousands    -7.167365e-03\n__year_resale_value    8.218924e-01\nPassenger             -5.986566e-03\nEngine_size           -1.527691e-02\nHorsepower            -5.138488e-02\nWheelbase              1.452939e-01\nWidth                 -9.911713e-03\nLength                -2.618168e-02\nCurb_weight            1.189987e-02\nFuel_capacity          1.283967e-01\nPower_perf_factor      2.859755e-01\ndtype: float64"
     },
     "metadata": {}
    }
   ]
  },
  {
   "cell_type": "code",
   "metadata": {
    "cell_id": "bbd647b7093d448db873352ed6671e7c",
    "tags": [],
    "deepnote_to_be_reexecuted": false,
    "source_hash": "c0bd65f9",
    "execution_start": 1654669665269,
    "execution_millis": 10,
    "deepnote_cell_type": "code",
    "deepnote_cell_height": 156.578125
   },
   "source": "reg.coef_",
   "execution_count": null,
   "outputs": [
    {
     "output_type": "execute_result",
     "execution_count": 14,
     "data": {
      "text/plain": "array([-3.53237502e-17, -7.16736497e-03,  8.21892425e-01, -5.98656606e-03,\n       -1.52769076e-02, -5.13848849e-02,  1.45293877e-01, -9.91171336e-03,\n       -2.61816793e-02,  1.18998664e-02,  1.28396731e-01,  2.85975504e-01])"
     },
     "metadata": {}
    }
   ]
  },
  {
   "cell_type": "code",
   "metadata": {
    "cell_id": "30f8818cf7944f22ab9bcb428aa2c561",
    "tags": [],
    "deepnote_to_be_reexecuted": false,
    "source_hash": "d56e6d56",
    "execution_start": 1654669687288,
    "execution_millis": 0,
    "deepnote_cell_type": "code",
    "deepnote_cell_height": 116.1875
   },
   "source": "print(f\"The equation is: Pred Price = {cols[0]} x {reg.coef_[0]} + {cols[1]} x {reg.coef_[1]}+{cols[2]} x {reg.coef_[2]}+{cols[3]} x {reg.coef_[3]}+{cols[4]} x {reg.coef_[4]}+{cols[5]} x {reg.coef_[5]} +{cols[6]} x {reg.coef_[6]}+{cols[7]} x {reg.coef_[7]}+{cols[8]} x {reg.coef_[8]}+{cols[9]} x {reg.coef_[9]}+{cols[10]} x {reg.coef_[10]}+{cols[11]} x {reg.coef_[11]}+ {reg.intercept_}\") ",
   "execution_count": null,
   "outputs": [
    {
     "name": "stdout",
     "text": "The equation is: Pred Price = Latest_Launch x -3.532375019547313e-17 + Sales_in_thousands x -0.007167364973728246+__year_resale_value x 0.8218924254079063+Passenger x -0.00598656606270679+Engine_size x -0.015276907576185477+Horsepower x -0.05138488489098564 +Wheelbase x 0.14529387667785817+Width x -0.009911713362671822+Length x -0.02618167933552728+Curb_weight x 0.01189986643110451+Fuel_capacity x 0.1283967313215668+Power_perf_factor x 0.28597550410794764+ 33.94504156612675\n",
     "output_type": "stream"
    }
   ]
  },
  {
   "cell_type": "markdown",
   "source": "We find the relationship between Price and other features",
   "metadata": {
    "cell_id": "49a5218beb634c08b7a7b6e9498e8bc2",
    "tags": [],
    "deepnote_cell_type": "markdown",
    "deepnote_cell_height": 52.390625
   }
  },
  {
   "cell_type": "code",
   "metadata": {
    "cell_id": "bd1d12e6b0c94eb7a8ac5018db3ef449",
    "tags": [],
    "deepnote_to_be_reexecuted": false,
    "source_hash": "df9b2be2",
    "execution_start": 1654669758793,
    "execution_millis": 67,
    "deepnote_cell_type": "code",
    "deepnote_cell_height": 618
   },
   "source": "df[\"Pred\"] = reg.predict(df[cols])\ndf",
   "execution_count": null,
   "outputs": [
    {
     "output_type": "execute_result",
     "execution_count": 16,
     "data": {
      "application/vnd.deepnote.dataframe.v3+json": {
       "column_count": 18,
       "row_count": 117,
       "columns": [
        {
         "name": "Manufacturer",
         "dtype": "object",
         "stats": {
          "unique_count": 26,
          "nan_count": 0,
          "categories": [
           {
            "name": "Ford",
            "count": 10
           },
           {
            "name": "Dodge",
            "count": 9
           },
           {
            "name": "24 others",
            "count": 98
           }
          ]
         }
        },
        {
         "name": "Model",
         "dtype": "object",
         "stats": {
          "unique_count": 116,
          "nan_count": 0,
          "categories": [
           {
            "name": "Neon",
            "count": 2
           },
           {
            "name": "Integra",
            "count": 1
           },
           {
            "name": "114 others",
            "count": 114
           }
          ]
         }
        },
        {
         "name": "Sales_in_thousands",
         "dtype": "float64",
         "stats": {
          "unique_count": 117,
          "nan_count": 0,
          "min": "0.11",
          "max": "540.561",
          "histogram": [
           {
            "bin_start": 0.11,
            "bin_end": 54.155100000000004,
            "count": 76
           },
           {
            "bin_start": 54.155100000000004,
            "bin_end": 108.20020000000001,
            "count": 23
           },
           {
            "bin_start": 108.20020000000001,
            "bin_end": 162.24530000000004,
            "count": 9
           },
           {
            "bin_start": 162.24530000000004,
            "bin_end": 216.29040000000003,
            "count": 2
           },
           {
            "bin_start": 216.29040000000003,
            "bin_end": 270.3355,
            "count": 5
           },
           {
            "bin_start": 270.3355,
            "bin_end": 324.3806000000001,
            "count": 1
           },
           {
            "bin_start": 324.3806000000001,
            "bin_end": 378.42570000000006,
            "count": 0
           },
           {
            "bin_start": 378.42570000000006,
            "bin_end": 432.47080000000005,
            "count": 0
           },
           {
            "bin_start": 432.47080000000005,
            "bin_end": 486.51590000000004,
            "count": 0
           },
           {
            "bin_start": 486.51590000000004,
            "bin_end": 540.561,
            "count": 1
           }
          ]
         }
        },
        {
         "name": "__year_resale_value",
         "dtype": "float64",
         "stats": {
          "unique_count": 114,
          "nan_count": 0,
          "min": "5.16",
          "max": "67.55",
          "histogram": [
           {
            "bin_start": 5.16,
            "bin_end": 11.399000000000001,
            "count": 32
           },
           {
            "bin_start": 11.399000000000001,
            "bin_end": 17.637999999999998,
            "count": 45
           },
           {
            "bin_start": 17.637999999999998,
            "bin_end": 23.877,
            "count": 22
           },
           {
            "bin_start": 23.877,
            "bin_end": 30.116,
            "count": 5
           },
           {
            "bin_start": 30.116,
            "bin_end": 36.355000000000004,
            "count": 4
           },
           {
            "bin_start": 36.355000000000004,
            "bin_end": 42.593999999999994,
            "count": 4
           },
           {
            "bin_start": 42.593999999999994,
            "bin_end": 48.833,
            "count": 0
           },
           {
            "bin_start": 48.833,
            "bin_end": 55.072,
            "count": 1
           },
           {
            "bin_start": 55.072,
            "bin_end": 61.31099999999999,
            "count": 3
           },
           {
            "bin_start": 61.31099999999999,
            "bin_end": 67.55,
            "count": 1
           }
          ]
         }
        },
        {
         "name": "Vehicle_type",
         "dtype": "object",
         "stats": {
          "unique_count": 2,
          "nan_count": 0,
          "categories": [
           {
            "name": "Passenger",
            "count": 88
           },
           {
            "name": "Car",
            "count": 29
           }
          ]
         }
        },
        {
         "name": "Price_in_thousands",
         "dtype": "float64",
         "stats": {
          "unique_count": 116,
          "nan_count": 0,
          "min": "9.235",
          "max": "82.6",
          "histogram": [
           {
            "bin_start": 9.235,
            "bin_end": 16.5715,
            "count": 26
           },
           {
            "bin_start": 16.5715,
            "bin_end": 23.907999999999998,
            "count": 41
           },
           {
            "bin_start": 23.907999999999998,
            "bin_end": 31.244499999999995,
            "count": 22
           },
           {
            "bin_start": 31.244499999999995,
            "bin_end": 38.580999999999996,
            "count": 11
           },
           {
            "bin_start": 38.580999999999996,
            "bin_end": 45.9175,
            "count": 8
           },
           {
            "bin_start": 45.9175,
            "bin_end": 53.25399999999999,
            "count": 2
           },
           {
            "bin_start": 53.25399999999999,
            "bin_end": 60.59049999999999,
            "count": 1
           },
           {
            "bin_start": 60.59049999999999,
            "bin_end": 67.92699999999999,
            "count": 1
           },
           {
            "bin_start": 67.92699999999999,
            "bin_end": 75.2635,
            "count": 4
           },
           {
            "bin_start": 75.2635,
            "bin_end": 82.6,
            "count": 1
           }
          ]
         }
        },
        {
         "name": "Engine_size",
         "dtype": "float64",
         "stats": {
          "unique_count": 29,
          "nan_count": 0,
          "min": "1.0",
          "max": "8.0",
          "histogram": [
           {
            "bin_start": 1,
            "bin_end": 1.7,
            "count": 3
           },
           {
            "bin_start": 1.7,
            "bin_end": 2.4,
            "count": 29
           },
           {
            "bin_start": 2.4,
            "bin_end": 3.0999999999999996,
            "count": 33
           },
           {
            "bin_start": 3.0999999999999996,
            "bin_end": 3.8,
            "count": 20
           },
           {
            "bin_start": 3.8,
            "bin_end": 4.5,
            "count": 19
           },
           {
            "bin_start": 4.5,
            "bin_end": 5.199999999999999,
            "count": 10
           },
           {
            "bin_start": 5.199999999999999,
            "bin_end": 5.8999999999999995,
            "count": 2
           },
           {
            "bin_start": 5.8999999999999995,
            "bin_end": 6.6,
            "count": 0
           },
           {
            "bin_start": 6.6,
            "bin_end": 7.3,
            "count": 0
           },
           {
            "bin_start": 7.3,
            "bin_end": 8,
            "count": 1
           }
          ]
         }
        },
        {
         "name": "Horsepower",
         "dtype": "float64",
         "stats": {
          "unique_count": 57,
          "nan_count": 0,
          "min": "55.0",
          "max": "450.0",
          "histogram": [
           {
            "bin_start": 55,
            "bin_end": 94.5,
            "count": 2
           },
           {
            "bin_start": 94.5,
            "bin_end": 134,
            "count": 25
           },
           {
            "bin_start": 134,
            "bin_end": 173.5,
            "count": 31
           },
           {
            "bin_start": 173.5,
            "bin_end": 213,
            "count": 34
           },
           {
            "bin_start": 213,
            "bin_end": 252.5,
            "count": 13
           },
           {
            "bin_start": 252.5,
            "bin_end": 292,
            "count": 6
           },
           {
            "bin_start": 292,
            "bin_end": 331.5,
            "count": 4
           },
           {
            "bin_start": 331.5,
            "bin_end": 371,
            "count": 1
           },
           {
            "bin_start": 371,
            "bin_end": 410.5,
            "count": 0
           },
           {
            "bin_start": 410.5,
            "bin_end": 450,
            "count": 1
           }
          ]
         }
        },
        {
         "name": "Wheelbase",
         "dtype": "float64",
         "stats": {
          "unique_count": 74,
          "nan_count": 0,
          "min": "92.6",
          "max": "138.7",
          "histogram": [
           {
            "bin_start": 92.6,
            "bin_end": 97.21,
            "count": 11
           },
           {
            "bin_start": 97.21,
            "bin_end": 101.82,
            "count": 15
           },
           {
            "bin_start": 101.82,
            "bin_end": 106.42999999999999,
            "count": 28
           },
           {
            "bin_start": 106.42999999999999,
            "bin_end": 111.03999999999999,
            "count": 31
           },
           {
            "bin_start": 111.03999999999999,
            "bin_end": 115.64999999999999,
            "count": 21
           },
           {
            "bin_start": 115.64999999999999,
            "bin_end": 120.25999999999999,
            "count": 5
           },
           {
            "bin_start": 120.25999999999999,
            "bin_end": 124.86999999999999,
            "count": 2
           },
           {
            "bin_start": 124.86999999999999,
            "bin_end": 129.48,
            "count": 1
           },
           {
            "bin_start": 129.48,
            "bin_end": 134.08999999999997,
            "count": 1
           },
           {
            "bin_start": 134.08999999999997,
            "bin_end": 138.7,
            "count": 2
           }
          ]
         }
        },
        {
         "name": "Width",
         "dtype": "float64",
         "stats": {
          "unique_count": 66,
          "nan_count": 0,
          "min": "62.6",
          "max": "79.3",
          "histogram": [
           {
            "bin_start": 62.6,
            "bin_end": 64.27,
            "count": 1
           },
           {
            "bin_start": 64.27,
            "bin_end": 65.94,
            "count": 1
           },
           {
            "bin_start": 65.94,
            "bin_end": 67.61,
            "count": 17
           },
           {
            "bin_start": 67.61,
            "bin_end": 69.28,
            "count": 19
           },
           {
            "bin_start": 69.28,
            "bin_end": 70.95,
            "count": 25
           },
           {
            "bin_start": 70.95,
            "bin_end": 72.62,
            "count": 15
           },
           {
            "bin_start": 72.62,
            "bin_end": 74.28999999999999,
            "count": 13
           },
           {
            "bin_start": 74.28999999999999,
            "bin_end": 75.96,
            "count": 13
           },
           {
            "bin_start": 75.96,
            "bin_end": 77.63,
            "count": 5
           },
           {
            "bin_start": 77.63,
            "bin_end": 79.3,
            "count": 8
           }
          ]
         }
        },
        {
         "name": "Length",
         "dtype": "float64",
         "stats": {
          "unique_count": 102,
          "nan_count": 0,
          "min": "149.4",
          "max": "224.5",
          "histogram": [
           {
            "bin_start": 149.4,
            "bin_end": 156.91,
            "count": 2
           },
           {
            "bin_start": 156.91,
            "bin_end": 164.42000000000002,
            "count": 4
           },
           {
            "bin_start": 164.42000000000002,
            "bin_end": 171.93,
            "count": 4
           },
           {
            "bin_start": 171.93,
            "bin_end": 179.44,
            "count": 25
           },
           {
            "bin_start": 179.44,
            "bin_end": 186.95,
            "count": 23
           },
           {
            "bin_start": 186.95,
            "bin_end": 194.46,
            "count": 24
           },
           {
            "bin_start": 194.46,
            "bin_end": 201.97,
            "count": 19
           },
           {
            "bin_start": 201.97,
            "bin_end": 209.48000000000002,
            "count": 10
           },
           {
            "bin_start": 209.48000000000002,
            "bin_end": 216.99,
            "count": 4
           },
           {
            "bin_start": 216.99,
            "bin_end": 224.5,
            "count": 2
           }
          ]
         }
        },
        {
         "name": "Curb_weight",
         "dtype": "float64",
         "stats": {
          "unique_count": 113,
          "nan_count": 0,
          "min": "1.895",
          "max": "5.115",
          "histogram": [
           {
            "bin_start": 1.895,
            "bin_end": 2.217,
            "count": 1
           },
           {
            "bin_start": 2.217,
            "bin_end": 2.539,
            "count": 10
           },
           {
            "bin_start": 2.539,
            "bin_end": 2.8609999999999998,
            "count": 14
           },
           {
            "bin_start": 2.8609999999999998,
            "bin_end": 3.183,
            "count": 24
           },
           {
            "bin_start": 3.183,
            "bin_end": 3.505,
            "count": 24
           },
           {
            "bin_start": 3.505,
            "bin_end": 3.827,
            "count": 15
           },
           {
            "bin_start": 3.827,
            "bin_end": 4.149,
            "count": 21
           },
           {
            "bin_start": 4.149,
            "bin_end": 4.471,
            "count": 5
           },
           {
            "bin_start": 4.471,
            "bin_end": 4.793,
            "count": 1
           },
           {
            "bin_start": 4.793,
            "bin_end": 5.115,
            "count": 2
           }
          ]
         }
        },
        {
         "name": "Fuel_capacity",
         "dtype": "float64",
         "stats": {
          "unique_count": 45,
          "nan_count": 0,
          "min": "10.3",
          "max": "32.0",
          "histogram": [
           {
            "bin_start": 10.3,
            "bin_end": 12.47,
            "count": 6
           },
           {
            "bin_start": 12.47,
            "bin_end": 14.64,
            "count": 15
           },
           {
            "bin_start": 14.64,
            "bin_end": 16.810000000000002,
            "count": 29
           },
           {
            "bin_start": 16.810000000000002,
            "bin_end": 18.98,
            "count": 28
           },
           {
            "bin_start": 18.98,
            "bin_end": 21.15,
            "count": 26
           },
           {
            "bin_start": 21.15,
            "bin_end": 23.32,
            "count": 3
           },
           {
            "bin_start": 23.32,
            "bin_end": 25.490000000000002,
            "count": 5
           },
           {
            "bin_start": 25.490000000000002,
            "bin_end": 27.66,
            "count": 3
           },
           {
            "bin_start": 27.66,
            "bin_end": 29.830000000000002,
            "count": 0
           },
           {
            "bin_start": 29.830000000000002,
            "bin_end": 32,
            "count": 2
           }
          ]
         }
        },
        {
         "name": "Fuel_efficiency",
         "dtype": "float64",
         "stats": {
          "unique_count": 20,
          "nan_count": 0,
          "min": "15.0",
          "max": "45.0",
          "histogram": [
           {
            "bin_start": 15,
            "bin_end": 18,
            "count": 7
           },
           {
            "bin_start": 18,
            "bin_end": 21,
            "count": 12
           },
           {
            "bin_start": 21,
            "bin_end": 24,
            "count": 31
           },
           {
            "bin_start": 24,
            "bin_end": 27,
            "count": 39
           },
           {
            "bin_start": 27,
            "bin_end": 30,
            "count": 15
           },
           {
            "bin_start": 30,
            "bin_end": 33,
            "count": 8
           },
           {
            "bin_start": 33,
            "bin_end": 36,
            "count": 4
           },
           {
            "bin_start": 36,
            "bin_end": 39,
            "count": 0
           },
           {
            "bin_start": 39,
            "bin_end": 42,
            "count": 0
           },
           {
            "bin_start": 42,
            "bin_end": 45,
            "count": 1
           }
          ]
         }
        },
        {
         "name": "Latest_Launch",
         "dtype": "int64",
         "stats": {
          "unique_count": 108,
          "nan_count": 0,
          "min": "1202860800000000000",
          "max": "1356739200000000000",
          "histogram": [
           {
            "bin_start": 1202860800000000000,
            "bin_end": 1218248640000000000,
            "count": 1
           },
           {
            "bin_start": 1218248640000000000,
            "bin_end": 1233636480000000000,
            "count": 0
           },
           {
            "bin_start": 1233636480000000000,
            "bin_end": 1249024320000000000,
            "count": 0
           },
           {
            "bin_start": 1249024320000000000,
            "bin_end": 1264412160000000000,
            "count": 1
           },
           {
            "bin_start": 1264412160000000000,
            "bin_end": 1279800000000000000,
            "count": 0
           },
           {
            "bin_start": 1279800000000000000,
            "bin_end": 1295187840000000000,
            "count": 1
           },
           {
            "bin_start": 1295187840000000000,
            "bin_end": 1310575680000000000,
            "count": 25
           },
           {
            "bin_start": 1310575680000000000,
            "bin_end": 1325963520000000000,
            "count": 33
           },
           {
            "bin_start": 1325963520000000000,
            "bin_end": 1341351360000000000,
            "count": 36
           },
           {
            "bin_start": 1341351360000000000,
            "bin_end": 1356739200000000000,
            "count": 20
           }
          ]
         }
        },
        {
         "name": "Power_perf_factor",
         "dtype": "float64",
         "stats": {
          "unique_count": 116,
          "nan_count": 0,
          "min": "23.27627233",
          "max": "188.144323",
          "histogram": [
           {
            "bin_start": 23.27627233,
            "bin_end": 39.763077397,
            "count": 2
           },
           {
            "bin_start": 39.763077397,
            "bin_end": 56.249882463999995,
            "count": 28
           },
           {
            "bin_start": 56.249882463999995,
            "bin_end": 72.736687531,
            "count": 34
           },
           {
            "bin_start": 72.736687531,
            "bin_end": 89.22349259799999,
            "count": 27
           },
           {
            "bin_start": 89.22349259799999,
            "bin_end": 105.710297665,
            "count": 15
           },
           {
            "bin_start": 105.710297665,
            "bin_end": 122.19710273199999,
            "count": 3
           },
           {
            "bin_start": 122.19710273199999,
            "bin_end": 138.683907799,
            "count": 5
           },
           {
            "bin_start": 138.683907799,
            "bin_end": 155.170712866,
            "count": 2
           },
           {
            "bin_start": 155.170712866,
            "bin_end": 171.657517933,
            "count": 0
           },
           {
            "bin_start": 171.657517933,
            "bin_end": 188.144323,
            "count": 1
           }
          ]
         }
        },
        {
         "name": "Passenger",
         "dtype": "int64",
         "stats": {
          "unique_count": 2,
          "nan_count": 0,
          "min": "0",
          "max": "1",
          "histogram": [
           {
            "bin_start": 0,
            "bin_end": 0.1,
            "count": 29
           },
           {
            "bin_start": 0.1,
            "bin_end": 0.2,
            "count": 0
           },
           {
            "bin_start": 0.2,
            "bin_end": 0.30000000000000004,
            "count": 0
           },
           {
            "bin_start": 0.30000000000000004,
            "bin_end": 0.4,
            "count": 0
           },
           {
            "bin_start": 0.4,
            "bin_end": 0.5,
            "count": 0
           },
           {
            "bin_start": 0.5,
            "bin_end": 0.6000000000000001,
            "count": 0
           },
           {
            "bin_start": 0.6000000000000001,
            "bin_end": 0.7000000000000001,
            "count": 0
           },
           {
            "bin_start": 0.7000000000000001,
            "bin_end": 0.8,
            "count": 0
           },
           {
            "bin_start": 0.8,
            "bin_end": 0.9,
            "count": 0
           },
           {
            "bin_start": 0.9,
            "bin_end": 1,
            "count": 88
           }
          ]
         }
        },
        {
         "name": "Pred",
         "dtype": "float64",
         "stats": {
          "unique_count": 117,
          "nan_count": 0,
          "min": "5.0466517825749335",
          "max": "77.25953454875895",
          "histogram": [
           {
            "bin_start": 5.0466517825749335,
            "bin_end": 12.267940059193334,
            "count": 6
           },
           {
            "bin_start": 12.267940059193334,
            "bin_end": 19.489228335811735,
            "count": 39
           },
           {
            "bin_start": 19.489228335811735,
            "bin_end": 26.710516612430133,
            "count": 33
           },
           {
            "bin_start": 26.710516612430133,
            "bin_end": 33.931804889048536,
            "count": 18
           },
           {
            "bin_start": 33.931804889048536,
            "bin_end": 41.15309316566694,
            "count": 8
           },
           {
            "bin_start": 41.15309316566694,
            "bin_end": 48.37438144228533,
            "count": 4
           },
           {
            "bin_start": 48.37438144228533,
            "bin_end": 55.595669718903736,
            "count": 4
           },
           {
            "bin_start": 55.595669718903736,
            "bin_end": 62.81695799552214,
            "count": 0
           },
           {
            "bin_start": 62.81695799552214,
            "bin_end": 70.03824627214053,
            "count": 2
           },
           {
            "bin_start": 70.03824627214053,
            "bin_end": 77.25953454875895,
            "count": 3
           }
          ]
         }
        },
        {
         "name": "_deepnote_index_column",
         "dtype": "int64"
        }
       ],
       "rows": [
        {
         "Manufacturer": "Buick",
         "Model": "Park Avenue",
         "Sales_in_thousands": 27.851,
         "__year_resale_value": 20.19,
         "Vehicle_type": "Passenger",
         "Price_in_thousands": 31.965,
         "Engine_size": 3.8,
         "Horsepower": 205,
         "Wheelbase": 113.8,
         "Width": 74.7,
         "Length": 206.8,
         "Curb_weight": 3.778,
         "Fuel_capacity": 18.5,
         "Fuel_efficiency": 24,
         "Latest_Launch": 1332460800000000000,
         "Power_perf_factor": 85.82840825,
         "Passenger": 1,
         "Pred": 30.018765123328333,
         "_deepnote_index_column": 12
        },
        {
         "Manufacturer": "Buick",
         "Model": "LeSabre",
         "Sales_in_thousands": 83.257,
         "__year_resale_value": 13.36,
         "Vehicle_type": "Passenger",
         "Price_in_thousands": 27.885,
         "Engine_size": 3.8,
         "Horsepower": 205,
         "Wheelbase": 112.2,
         "Width": 73.5,
         "Length": 200,
         "Curb_weight": 3.591,
         "Fuel_capacity": 17.5,
         "Fuel_efficiency": 25,
         "Latest_Launch": 1311379200000000000,
         "Power_perf_factor": 84.25452581,
         "Passenger": 1,
         "Pred": 24.129551448481223,
         "_deepnote_index_column": 13
        },
        {
         "Manufacturer": "Cadillac",
         "Model": "DeVille",
         "Sales_in_thousands": 63.729,
         "__year_resale_value": 22.525,
         "Vehicle_type": "Passenger",
         "Price_in_thousands": 39.895,
         "Engine_size": 4.6,
         "Horsepower": 275,
         "Wheelbase": 115.3,
         "Width": 74.5,
         "Length": 207.2,
         "Curb_weight": 3.978,
         "Fuel_capacity": 18.5,
         "Fuel_efficiency": 22,
         "Latest_Launch": 1329955200000000000,
         "Power_perf_factor": 113.8545976,
         "Passenger": 1,
         "Pred": 36.38671102302058,
         "_deepnote_index_column": 14
        },
        {
         "Manufacturer": "Cadillac",
         "Model": "Eldorado",
         "Sales_in_thousands": 6.536,
         "__year_resale_value": 25.725,
         "Vehicle_type": "Passenger",
         "Price_in_thousands": 39.665,
         "Engine_size": 4.6,
         "Horsepower": 275,
         "Wheelbase": 108,
         "Width": 75.5,
         "Length": 200.6,
         "Curb_weight": 3.843,
         "Fuel_capacity": 19,
         "Fuel_efficiency": 22,
         "Latest_Launch": 1322352000000000000,
         "Power_perf_factor": 113.7658739,
         "Passenger": 1,
         "Pred": 38.834724576116756,
         "_deepnote_index_column": 16
        },
        {
         "Manufacturer": "Cadillac",
         "Model": "Catera",
         "Sales_in_thousands": 11.185,
         "__year_resale_value": 18.225,
         "Vehicle_type": "Passenger",
         "Price_in_thousands": 31.01,
         "Engine_size": 3,
         "Horsepower": 200,
         "Wheelbase": 107.4,
         "Width": 70.3,
         "Length": 194.8,
         "Curb_weight": 3.77,
         "Fuel_capacity": 18,
         "Fuel_efficiency": 22,
         "Latest_Launch": 1317168000000000000,
         "Power_perf_factor": 83.48309358,
         "Passenger": 1,
         "Pred": 28.025457580005707,
         "_deepnote_index_column": 17
        },
        {
         "Manufacturer": "Chevrolet",
         "Model": "Cavalier",
         "Sales_in_thousands": 145.519,
         "__year_resale_value": 9.25,
         "Vehicle_type": "Passenger",
         "Price_in_thousands": 13.26,
         "Engine_size": 2.2,
         "Horsepower": 115,
         "Wheelbase": 104.1,
         "Width": 67.9,
         "Length": 180.9,
         "Curb_weight": 2.676,
         "Fuel_capacity": 14.3,
         "Fuel_efficiency": 27,
         "Latest_Launch": 1313539200000000000,
         "Power_perf_factor": 46.36334747,
         "Passenger": 1,
         "Pred": 12.999091017958609,
         "_deepnote_index_column": 19
        },
        {
         "Manufacturer": "Chevrolet",
         "Model": "Malibu",
         "Sales_in_thousands": 135.126,
         "__year_resale_value": 11.225,
         "Vehicle_type": "Passenger",
         "Price_in_thousands": 16.535,
         "Engine_size": 3.1,
         "Horsepower": 170,
         "Wheelbase": 107,
         "Width": 69.4,
         "Length": 190.4,
         "Curb_weight": 3.051,
         "Fuel_capacity": 15,
         "Fuel_efficiency": 25,
         "Latest_Launch": 1332115200000000000,
         "Power_perf_factor": 67.31446216,
         "Passenger": 1,
         "Pred": 17.4443315784245,
         "_deepnote_index_column": 20
        },
        {
         "Manufacturer": "Chevrolet",
         "Model": "Lumina",
         "Sales_in_thousands": 24.629,
         "__year_resale_value": 10.31,
         "Vehicle_type": "Passenger",
         "Price_in_thousands": 18.89,
         "Engine_size": 3.1,
         "Horsepower": 175,
         "Wheelbase": 107.5,
         "Width": 72.5,
         "Length": 200.9,
         "Curb_weight": 3.33,
         "Fuel_capacity": 16.6,
         "Fuel_efficiency": 25,
         "Latest_Launch": 1306195200000000000,
         "Power_perf_factor": 69.9913956,
         "Passenger": 1,
         "Pred": 18.88424473399787,
         "_deepnote_index_column": 21
        },
        {
         "Manufacturer": "Chevrolet",
         "Model": "Monte Carlo",
         "Sales_in_thousands": 42.593,
         "__year_resale_value": 11.525,
         "Vehicle_type": "Passenger",
         "Price_in_thousands": 19.39,
         "Engine_size": 3.4,
         "Horsepower": 180,
         "Wheelbase": 110.5,
         "Width": 72.7,
         "Length": 197.9,
         "Curb_weight": 3.34,
         "Fuel_capacity": 17,
         "Fuel_efficiency": 27,
         "Latest_Launch": 1324512000000000000,
         "Power_perf_factor": 72.03091719,
         "Passenger": 1,
         "Pred": 19.992739153572046,
         "_deepnote_index_column": 22
        },
        {
         "Manufacturer": "Chevrolet",
         "Model": "Camaro",
         "Sales_in_thousands": 26.402,
         "__year_resale_value": 13.025,
         "Vehicle_type": "Passenger",
         "Price_in_thousands": 24.34,
         "Engine_size": 3.8,
         "Horsepower": 200,
         "Wheelbase": 101.1,
         "Width": 74.1,
         "Length": 193.2,
         "Curb_weight": 3.5,
         "Fuel_capacity": 16.8,
         "Fuel_efficiency": 25,
         "Latest_Launch": 1319328000000000000,
         "Power_perf_factor": 81.11854333,
         "Passenger": 1,
         "Pred": 21.809412610429785,
         "_deepnote_index_column": 23
        }
       ]
      },
      "text/plain": "    Manufacturer    Model  Sales_in_thousands  __year_resale_value  \\\n0          Acura  Integra              16.919               16.360   \n1          Acura       TL              39.384               19.875   \n3          Acura       RL               8.588               29.725   \n4           Audi       A4              20.397               22.255   \n5           Audi       A6              18.780               23.555   \n..           ...      ...                 ...                  ...   \n145   Volkswagen     Golf               9.761               11.425   \n146   Volkswagen    Jetta              83.721               13.240   \n147   Volkswagen   Passat              51.102               16.725   \n148   Volkswagen   Cabrio               9.569               16.575   \n149   Volkswagen      GTI               5.596               13.760   \n\n    Vehicle_type  Price_in_thousands  Engine_size  Horsepower  Wheelbase  \\\n0      Passenger               21.50          1.8       140.0      101.2   \n1      Passenger               28.40          3.2       225.0      108.1   \n3      Passenger               42.00          3.5       210.0      114.6   \n4      Passenger               23.99          1.8       150.0      102.6   \n5      Passenger               33.95          2.8       200.0      108.7   \n..           ...                 ...          ...         ...        ...   \n145    Passenger               14.90          2.0       115.0       98.9   \n146    Passenger               16.70          2.0       115.0       98.9   \n147    Passenger               21.20          1.8       150.0      106.4   \n148    Passenger               19.99          2.0       115.0       97.4   \n149    Passenger               17.50          2.0       115.0       98.9   \n\n     Width  Length  Curb_weight  Fuel_capacity  Fuel_efficiency  \\\n0     67.3   172.4        2.639           13.2             28.0   \n1     70.3   192.9        3.517           17.2             25.0   \n3     71.4   196.6        3.850           18.0             22.0   \n4     68.2   178.0        2.998           16.4             27.0   \n5     76.1   192.0        3.561           18.5             22.0   \n..     ...     ...          ...            ...              ...   \n145   68.3   163.3        2.767           14.5             26.0   \n146   68.3   172.3        2.853           14.5             26.0   \n147   68.5   184.1        3.043           16.4             27.0   \n148   66.7   160.4        3.079           13.7             26.0   \n149   68.3   163.3        2.762           14.6             26.0   \n\n           Latest_Launch  Power_perf_factor  Passenger       Pred  \n0    1328140800000000000          58.280150          1  21.043551  \n1    1307059200000000000          91.370778          1  30.550278  \n3    1299715200000000000          91.389779          1  40.841002  \n4    1318032000000000000          62.777639          1  27.456097  \n5    1312848000000000000          84.565105          1  33.083205  \n..                   ...                ...        ...        ...  \n145  1295827200000000000          46.943877          1  16.282528  \n146  1314403200000000000          47.638237          1  16.551949  \n147  1351555200000000000          61.701381          1  21.588980  \n148  1306800000000000000          48.907372          1  20.465401  \n149  1301616000000000000          47.946841          1  18.326620  \n\n[117 rows x 18 columns]",
      "text/html": "<div>\n<style scoped>\n    .dataframe tbody tr th:only-of-type {\n        vertical-align: middle;\n    }\n\n    .dataframe tbody tr th {\n        vertical-align: top;\n    }\n\n    .dataframe thead th {\n        text-align: right;\n    }\n</style>\n<table border=\"1\" class=\"dataframe\">\n  <thead>\n    <tr style=\"text-align: right;\">\n      <th></th>\n      <th>Manufacturer</th>\n      <th>Model</th>\n      <th>Sales_in_thousands</th>\n      <th>__year_resale_value</th>\n      <th>Vehicle_type</th>\n      <th>Price_in_thousands</th>\n      <th>Engine_size</th>\n      <th>Horsepower</th>\n      <th>Wheelbase</th>\n      <th>Width</th>\n      <th>Length</th>\n      <th>Curb_weight</th>\n      <th>Fuel_capacity</th>\n      <th>Fuel_efficiency</th>\n      <th>Latest_Launch</th>\n      <th>Power_perf_factor</th>\n      <th>Passenger</th>\n      <th>Pred</th>\n    </tr>\n  </thead>\n  <tbody>\n    <tr>\n      <th>0</th>\n      <td>Acura</td>\n      <td>Integra</td>\n      <td>16.919</td>\n      <td>16.360</td>\n      <td>Passenger</td>\n      <td>21.50</td>\n      <td>1.8</td>\n      <td>140.0</td>\n      <td>101.2</td>\n      <td>67.3</td>\n      <td>172.4</td>\n      <td>2.639</td>\n      <td>13.2</td>\n      <td>28.0</td>\n      <td>1328140800000000000</td>\n      <td>58.280150</td>\n      <td>1</td>\n      <td>21.043551</td>\n    </tr>\n    <tr>\n      <th>1</th>\n      <td>Acura</td>\n      <td>TL</td>\n      <td>39.384</td>\n      <td>19.875</td>\n      <td>Passenger</td>\n      <td>28.40</td>\n      <td>3.2</td>\n      <td>225.0</td>\n      <td>108.1</td>\n      <td>70.3</td>\n      <td>192.9</td>\n      <td>3.517</td>\n      <td>17.2</td>\n      <td>25.0</td>\n      <td>1307059200000000000</td>\n      <td>91.370778</td>\n      <td>1</td>\n      <td>30.550278</td>\n    </tr>\n    <tr>\n      <th>3</th>\n      <td>Acura</td>\n      <td>RL</td>\n      <td>8.588</td>\n      <td>29.725</td>\n      <td>Passenger</td>\n      <td>42.00</td>\n      <td>3.5</td>\n      <td>210.0</td>\n      <td>114.6</td>\n      <td>71.4</td>\n      <td>196.6</td>\n      <td>3.850</td>\n      <td>18.0</td>\n      <td>22.0</td>\n      <td>1299715200000000000</td>\n      <td>91.389779</td>\n      <td>1</td>\n      <td>40.841002</td>\n    </tr>\n    <tr>\n      <th>4</th>\n      <td>Audi</td>\n      <td>A4</td>\n      <td>20.397</td>\n      <td>22.255</td>\n      <td>Passenger</td>\n      <td>23.99</td>\n      <td>1.8</td>\n      <td>150.0</td>\n      <td>102.6</td>\n      <td>68.2</td>\n      <td>178.0</td>\n      <td>2.998</td>\n      <td>16.4</td>\n      <td>27.0</td>\n      <td>1318032000000000000</td>\n      <td>62.777639</td>\n      <td>1</td>\n      <td>27.456097</td>\n    </tr>\n    <tr>\n      <th>5</th>\n      <td>Audi</td>\n      <td>A6</td>\n      <td>18.780</td>\n      <td>23.555</td>\n      <td>Passenger</td>\n      <td>33.95</td>\n      <td>2.8</td>\n      <td>200.0</td>\n      <td>108.7</td>\n      <td>76.1</td>\n      <td>192.0</td>\n      <td>3.561</td>\n      <td>18.5</td>\n      <td>22.0</td>\n      <td>1312848000000000000</td>\n      <td>84.565105</td>\n      <td>1</td>\n      <td>33.083205</td>\n    </tr>\n    <tr>\n      <th>...</th>\n      <td>...</td>\n      <td>...</td>\n      <td>...</td>\n      <td>...</td>\n      <td>...</td>\n      <td>...</td>\n      <td>...</td>\n      <td>...</td>\n      <td>...</td>\n      <td>...</td>\n      <td>...</td>\n      <td>...</td>\n      <td>...</td>\n      <td>...</td>\n      <td>...</td>\n      <td>...</td>\n      <td>...</td>\n      <td>...</td>\n    </tr>\n    <tr>\n      <th>145</th>\n      <td>Volkswagen</td>\n      <td>Golf</td>\n      <td>9.761</td>\n      <td>11.425</td>\n      <td>Passenger</td>\n      <td>14.90</td>\n      <td>2.0</td>\n      <td>115.0</td>\n      <td>98.9</td>\n      <td>68.3</td>\n      <td>163.3</td>\n      <td>2.767</td>\n      <td>14.5</td>\n      <td>26.0</td>\n      <td>1295827200000000000</td>\n      <td>46.943877</td>\n      <td>1</td>\n      <td>16.282528</td>\n    </tr>\n    <tr>\n      <th>146</th>\n      <td>Volkswagen</td>\n      <td>Jetta</td>\n      <td>83.721</td>\n      <td>13.240</td>\n      <td>Passenger</td>\n      <td>16.70</td>\n      <td>2.0</td>\n      <td>115.0</td>\n      <td>98.9</td>\n      <td>68.3</td>\n      <td>172.3</td>\n      <td>2.853</td>\n      <td>14.5</td>\n      <td>26.0</td>\n      <td>1314403200000000000</td>\n      <td>47.638237</td>\n      <td>1</td>\n      <td>16.551949</td>\n    </tr>\n    <tr>\n      <th>147</th>\n      <td>Volkswagen</td>\n      <td>Passat</td>\n      <td>51.102</td>\n      <td>16.725</td>\n      <td>Passenger</td>\n      <td>21.20</td>\n      <td>1.8</td>\n      <td>150.0</td>\n      <td>106.4</td>\n      <td>68.5</td>\n      <td>184.1</td>\n      <td>3.043</td>\n      <td>16.4</td>\n      <td>27.0</td>\n      <td>1351555200000000000</td>\n      <td>61.701381</td>\n      <td>1</td>\n      <td>21.588980</td>\n    </tr>\n    <tr>\n      <th>148</th>\n      <td>Volkswagen</td>\n      <td>Cabrio</td>\n      <td>9.569</td>\n      <td>16.575</td>\n      <td>Passenger</td>\n      <td>19.99</td>\n      <td>2.0</td>\n      <td>115.0</td>\n      <td>97.4</td>\n      <td>66.7</td>\n      <td>160.4</td>\n      <td>3.079</td>\n      <td>13.7</td>\n      <td>26.0</td>\n      <td>1306800000000000000</td>\n      <td>48.907372</td>\n      <td>1</td>\n      <td>20.465401</td>\n    </tr>\n    <tr>\n      <th>149</th>\n      <td>Volkswagen</td>\n      <td>GTI</td>\n      <td>5.596</td>\n      <td>13.760</td>\n      <td>Passenger</td>\n      <td>17.50</td>\n      <td>2.0</td>\n      <td>115.0</td>\n      <td>98.9</td>\n      <td>68.3</td>\n      <td>163.3</td>\n      <td>2.762</td>\n      <td>14.6</td>\n      <td>26.0</td>\n      <td>1301616000000000000</td>\n      <td>47.946841</td>\n      <td>1</td>\n      <td>18.326620</td>\n    </tr>\n  </tbody>\n</table>\n<p>117 rows × 18 columns</p>\n</div>"
     },
     "metadata": {}
    }
   ]
  },
  {
   "cell_type": "code",
   "metadata": {
    "cell_id": "c5ad82c9382345d88e6da870c4e7dab7",
    "tags": [],
    "deepnote_to_be_reexecuted": false,
    "source_hash": "2b780589",
    "execution_start": 1654669765875,
    "execution_millis": 0,
    "deepnote_cell_type": "code",
    "deepnote_cell_height": 81
   },
   "source": "d=df[\"Price_in_thousands\"]",
   "execution_count": null,
   "outputs": []
  },
  {
   "cell_type": "markdown",
   "source": "## Build training and test set：",
   "metadata": {
    "cell_id": "4c1245a8612444b8af92eac49f2ac91e",
    "tags": [],
    "deepnote_cell_type": "markdown",
    "deepnote_cell_height": 70
   }
  },
  {
   "cell_type": "code",
   "metadata": {
    "cell_id": "e660f825be534ee78defe5c540128e38",
    "tags": [],
    "deepnote_to_be_reexecuted": false,
    "source_hash": "358c4778",
    "execution_start": 1654669770800,
    "execution_millis": 19,
    "deepnote_cell_type": "code",
    "deepnote_cell_height": 226.1875
   },
   "source": "from sklearn.model_selection import train_test_split\nc_train,c_test,d_train,d_test = train_test_split(df[cols],d,test_size = 0.2, random_state=0)\nfrom sklearn.linear_model import LinearRegression\nmodel = LinearRegression()\nmodel.fit(c_train,d_train)\npred= model.predict(c_train)\nmodel.score(c_train, d_train)",
   "execution_count": null,
   "outputs": [
    {
     "output_type": "execute_result",
     "execution_count": 18,
     "data": {
      "text/plain": "0.9553581564437191"
     },
     "metadata": {}
    }
   ]
  },
  {
   "cell_type": "markdown",
   "source": "## Feature selection:",
   "metadata": {
    "cell_id": "81226559879e4055ac3ec3faaa627c60",
    "tags": [],
    "deepnote_cell_type": "markdown",
    "deepnote_cell_height": 70
   }
  },
  {
   "cell_type": "code",
   "metadata": {
    "cell_id": "eaee55ca22024260ac5a78a108189b09",
    "tags": [],
    "deepnote_to_be_reexecuted": false,
    "source_hash": "f0d0233c",
    "execution_start": 1654669995800,
    "execution_millis": 1,
    "deepnote_cell_type": "code",
    "deepnote_cell_height": 81
   },
   "source": "cols2=['Latest_Launch','Sales_in_thousands','__year_resale_value','Passenger','Engine_size','Horsepower','Wheelbase','Width','Length','Curb_weight','Fuel_capacity','Power_perf_factor','Price_in_thousands']",
   "execution_count": null,
   "outputs": []
  },
  {
   "cell_type": "code",
   "metadata": {
    "cell_id": "f2c7d3086ecd45f88b7cfc6d3f57c766",
    "tags": [],
    "deepnote_to_be_reexecuted": false,
    "source_hash": "763041d0",
    "execution_start": 1654670003484,
    "execution_millis": 88,
    "deepnote_cell_type": "code",
    "deepnote_cell_height": 560
   },
   "source": "c = df[cols2]\nc.corr()\ncorr = c.corr()\ncorr.style.background_gradient(cmap='coolwarm')",
   "execution_count": null,
   "outputs": [
    {
     "output_type": "execute_result",
     "execution_count": 24,
     "data": {
      "text/plain": "<pandas.io.formats.style.Styler at 0x7faf3cc8b490>",
      "text/html": "<style  type=\"text/css\" >\n#T_f30e3_row0_col0,#T_f30e3_row1_col1,#T_f30e3_row2_col2,#T_f30e3_row3_col3,#T_f30e3_row4_col4,#T_f30e3_row5_col5,#T_f30e3_row6_col6,#T_f30e3_row7_col7,#T_f30e3_row8_col8,#T_f30e3_row9_col9,#T_f30e3_row10_col10,#T_f30e3_row11_col11,#T_f30e3_row12_col12{\n            background-color:  #b40426;\n            color:  #f1f1f1;\n        }#T_f30e3_row0_col1{\n            background-color:  #a3c2fe;\n            color:  #000000;\n        }#T_f30e3_row0_col2,#T_f30e3_row0_col4{\n            background-color:  #6e90f2;\n            color:  #000000;\n        }#T_f30e3_row0_col3{\n            background-color:  #cfdaea;\n            color:  #000000;\n        }#T_f30e3_row0_col5,#T_f30e3_row0_col8{\n            background-color:  #6b8df0;\n            color:  #000000;\n        }#T_f30e3_row0_col6{\n            background-color:  #98b9ff;\n            color:  #000000;\n        }#T_f30e3_row0_col7{\n            background-color:  #82a6fb;\n            color:  #000000;\n        }#T_f30e3_row0_col9,#T_f30e3_row9_col1{\n            background-color:  #94b6ff;\n            color:  #000000;\n        }#T_f30e3_row0_col10{\n            background-color:  #bad0f8;\n            color:  #000000;\n        }#T_f30e3_row0_col11,#T_f30e3_row0_col12{\n            background-color:  #6c8ff1;\n            color:  #000000;\n        }#T_f30e3_row1_col0{\n            background-color:  #7597f6;\n            color:  #000000;\n        }#T_f30e3_row1_col2,#T_f30e3_row1_col5,#T_f30e3_row1_col11,#T_f30e3_row1_col12,#T_f30e3_row2_col1,#T_f30e3_row3_col1,#T_f30e3_row3_col4,#T_f30e3_row3_col6,#T_f30e3_row3_col7,#T_f30e3_row3_col8,#T_f30e3_row3_col9,#T_f30e3_row3_col10,#T_f30e3_row9_col0,#T_f30e3_row10_col3{\n            background-color:  #3b4cc0;\n            color:  #f1f1f1;\n        }#T_f30e3_row1_col3,#T_f30e3_row3_col11{\n            background-color:  #799cf8;\n            color:  #000000;\n        }#T_f30e3_row1_col4,#T_f30e3_row3_col0{\n            background-color:  #7699f6;\n            color:  #000000;\n        }#T_f30e3_row1_col6,#T_f30e3_row4_col6,#T_f30e3_row7_col5,#T_f30e3_row11_col7{\n            background-color:  #edd1c2;\n            color:  #000000;\n        }#T_f30e3_row1_col7,#T_f30e3_row2_col7,#T_f30e3_row10_col1,#T_f30e3_row12_col6{\n            background-color:  #a7c5fe;\n            color:  #000000;\n        }#T_f30e3_row1_col8,#T_f30e3_row8_col12{\n            background-color:  #aec9fc;\n            color:  #000000;\n        }#T_f30e3_row1_col9{\n            background-color:  #b5cdfa;\n            color:  #000000;\n        }#T_f30e3_row1_col10{\n            background-color:  #d1dae9;\n            color:  #000000;\n        }#T_f30e3_row2_col0{\n            background-color:  #3c4ec2;\n            color:  #f1f1f1;\n        }#T_f30e3_row2_col3,#T_f30e3_row11_col8,#T_f30e3_row12_col7{\n            background-color:  #c9d7f0;\n            color:  #000000;\n        }#T_f30e3_row2_col4{\n            background-color:  #f2cbb7;\n            color:  #000000;\n        }#T_f30e3_row2_col5{\n            background-color:  #ed8366;\n            color:  #000000;\n        }#T_f30e3_row2_col6{\n            background-color:  #89acfd;\n            color:  #000000;\n        }#T_f30e3_row2_col8,#T_f30e3_row8_col0{\n            background-color:  #6180e9;\n            color:  #000000;\n        }#T_f30e3_row2_col9{\n            background-color:  #edd2c3;\n            color:  #000000;\n        }#T_f30e3_row2_col10{\n            background-color:  #eed0c0;\n            color:  #000000;\n        }#T_f30e3_row2_col11{\n            background-color:  #e36b54;\n            color:  #000000;\n        }#T_f30e3_row2_col12,#T_f30e3_row12_col2{\n            background-color:  #c12b30;\n            color:  #f1f1f1;\n        }#T_f30e3_row3_col2{\n            background-color:  #9abbff;\n            color:  #000000;\n        }#T_f30e3_row3_col5,#T_f30e3_row6_col2{\n            background-color:  #7295f4;\n            color:  #000000;\n        }#T_f30e3_row3_col12,#T_f30e3_row12_col8{\n            background-color:  #92b4fe;\n            color:  #000000;\n        }#T_f30e3_row4_col0,#T_f30e3_row6_col0,#T_f30e3_row11_col0{\n            background-color:  #516ddb;\n            color:  #000000;\n        }#T_f30e3_row4_col1{\n            background-color:  #8caffe;\n            color:  #000000;\n        }#T_f30e3_row4_col2{\n            background-color:  #f5c2aa;\n            color:  #000000;\n        }#T_f30e3_row4_col3,#T_f30e3_row6_col12{\n            background-color:  #8fb1fe;\n            color:  #000000;\n        }#T_f30e3_row4_col5{\n            background-color:  #dc5d4a;\n            color:  #000000;\n        }#T_f30e3_row4_col7,#T_f30e3_row6_col7,#T_f30e3_row10_col7{\n            background-color:  #f5a081;\n            color:  #000000;\n        }#T_f30e3_row4_col8{\n            background-color:  #efcebd;\n            color:  #000000;\n        }#T_f30e3_row4_col9{\n            background-color:  #e9785d;\n            color:  #000000;\n        }#T_f30e3_row4_col10{\n            background-color:  #f39577;\n            color:  #000000;\n        }#T_f30e3_row4_col11,#T_f30e3_row11_col2,#T_f30e3_row11_col4{\n            background-color:  #e0654f;\n            color:  #000000;\n        }#T_f30e3_row4_col12,#T_f30e3_row7_col4{\n            background-color:  #f6a586;\n            color:  #000000;\n        }#T_f30e3_row5_col0{\n            background-color:  #5673e0;\n            color:  #000000;\n        }#T_f30e3_row5_col1{\n            background-color:  #5977e3;\n            color:  #000000;\n        }#T_f30e3_row5_col2{\n            background-color:  #e97a5f;\n            color:  #000000;\n        }#T_f30e3_row5_col3,#T_f30e3_row11_col3{\n            background-color:  #c0d4f5;\n            color:  #000000;\n        }#T_f30e3_row5_col4,#T_f30e3_row5_col12{\n            background-color:  #da5a49;\n            color:  #000000;\n        }#T_f30e3_row5_col6{\n            background-color:  #ccd9ed;\n            color:  #000000;\n        }#T_f30e3_row5_col7{\n            background-color:  #f1ccb8;\n            color:  #000000;\n        }#T_f30e3_row5_col8{\n            background-color:  #d2dbe8;\n            color:  #000000;\n        }#T_f30e3_row5_col9{\n            background-color:  #f6a283;\n            color:  #000000;\n        }#T_f30e3_row5_col10{\n            background-color:  #f7b599;\n            color:  #000000;\n        }#T_f30e3_row5_col11,#T_f30e3_row11_col5{\n            background-color:  #b50927;\n            color:  #f1f1f1;\n        }#T_f30e3_row6_col1{\n            background-color:  #e6d7cf;\n            color:  #000000;\n        }#T_f30e3_row6_col3{\n            background-color:  #6282ea;\n            color:  #000000;\n        }#T_f30e3_row6_col4,#T_f30e3_row9_col2{\n            background-color:  #dddcdc;\n            color:  #000000;\n        }#T_f30e3_row6_col5{\n            background-color:  #a9c6fd;\n            color:  #000000;\n        }#T_f30e3_row6_col8{\n            background-color:  #df634e;\n            color:  #000000;\n        }#T_f30e3_row6_col9{\n            background-color:  #f18d6f;\n            color:  #000000;\n        }#T_f30e3_row6_col10,#T_f30e3_row8_col9,#T_f30e3_row9_col4,#T_f30e3_row9_col7{\n            background-color:  #f08b6e;\n            color:  #000000;\n        }#T_f30e3_row6_col11{\n            background-color:  #a5c3fe;\n            color:  #000000;\n        }#T_f30e3_row7_col0{\n            background-color:  #5e7de7;\n            color:  #000000;\n        }#T_f30e3_row7_col1,#T_f30e3_row7_col2{\n            background-color:  #b2ccfb;\n            color:  #000000;\n        }#T_f30e3_row7_col3{\n            background-color:  #86a9fc;\n            color:  #000000;\n        }#T_f30e3_row7_col6,#T_f30e3_row7_col8,#T_f30e3_row9_col6{\n            background-color:  #f29274;\n            color:  #000000;\n        }#T_f30e3_row7_col9{\n            background-color:  #ea7b60;\n            color:  #000000;\n        }#T_f30e3_row7_col10{\n            background-color:  #ee8669;\n            color:  #000000;\n        }#T_f30e3_row7_col11,#T_f30e3_row10_col11{\n            background-color:  #ead4c8;\n            color:  #000000;\n        }#T_f30e3_row7_col12{\n            background-color:  #cdd9ec;\n            color:  #000000;\n        }#T_f30e3_row8_col1{\n            background-color:  #cad8ef;\n            color:  #000000;\n        }#T_f30e3_row8_col2{\n            background-color:  #88abfd;\n            color:  #000000;\n        }#T_f30e3_row8_col3{\n            background-color:  #9ebeff;\n            color:  #000000;\n        }#T_f30e3_row8_col4,#T_f30e3_row10_col8{\n            background-color:  #f2c9b4;\n            color:  #000000;\n        }#T_f30e3_row8_col5{\n            background-color:  #d7dce3;\n            color:  #000000;\n        }#T_f30e3_row8_col6{\n            background-color:  #d85646;\n            color:  #000000;\n        }#T_f30e3_row8_col7{\n            background-color:  #ef886b;\n            color:  #000000;\n        }#T_f30e3_row8_col10,#T_f30e3_row11_col9{\n            background-color:  #f6a385;\n            color:  #000000;\n        }#T_f30e3_row8_col11{\n            background-color:  #d3dbe7;\n            color:  #000000;\n        }#T_f30e3_row9_col3{\n            background-color:  #506bda;\n            color:  #000000;\n        }#T_f30e3_row9_col5{\n            background-color:  #f6bda2;\n            color:  #000000;\n        }#T_f30e3_row9_col8{\n            background-color:  #f7a688;\n            color:  #000000;\n        }#T_f30e3_row9_col10{\n            background-color:  #d55042;\n            color:  #000000;\n        }#T_f30e3_row9_col11{\n            background-color:  #f7ba9f;\n            color:  #000000;\n        }#T_f30e3_row9_col12{\n            background-color:  #f3c8b2;\n            color:  #000000;\n        }#T_f30e3_row10_col0{\n            background-color:  #5470de;\n            color:  #000000;\n        }#T_f30e3_row10_col2{\n            background-color:  #d5dbe5;\n            color:  #000000;\n        }#T_f30e3_row10_col4{\n            background-color:  #f7b497;\n            color:  #000000;\n        }#T_f30e3_row10_col5{\n            background-color:  #e9d5cb;\n            color:  #000000;\n        }#T_f30e3_row10_col6{\n            background-color:  #f4987a;\n            color:  #000000;\n        }#T_f30e3_row10_col9{\n            background-color:  #d75445;\n            color:  #000000;\n        }#T_f30e3_row10_col12{\n            background-color:  #e3d9d3;\n            color:  #000000;\n        }#T_f30e3_row11_col1{\n            background-color:  #536edd;\n            color:  #000000;\n        }#T_f30e3_row11_col6{\n            background-color:  #c7d7f0;\n            color:  #000000;\n        }#T_f30e3_row11_col10{\n            background-color:  #f7b79b;\n            color:  #000000;\n        }#T_f30e3_row11_col12{\n            background-color:  #cf453c;\n            color:  #f1f1f1;\n        }#T_f30e3_row12_col0{\n            background-color:  #3f53c6;\n            color:  #f1f1f1;\n        }#T_f30e3_row12_col1{\n            background-color:  #4055c8;\n            color:  #f1f1f1;\n        }#T_f30e3_row12_col3{\n            background-color:  #c5d6f2;\n            color:  #000000;\n        }#T_f30e3_row12_col4{\n            background-color:  #f7aa8c;\n            color:  #000000;\n        }#T_f30e3_row12_col5{\n            background-color:  #de614d;\n            color:  #000000;\n        }#T_f30e3_row12_col9{\n            background-color:  #f7b89c;\n            color:  #000000;\n        }#T_f30e3_row12_col10{\n            background-color:  #f5c4ac;\n            color:  #000000;\n        }#T_f30e3_row12_col11{\n            background-color:  #d0473d;\n            color:  #f1f1f1;\n        }</style><table id=\"T_f30e3_\" ><thead>    <tr>        <th class=\"blank level0\" ></th>        <th class=\"col_heading level0 col0\" >Latest_Launch</th>        <th class=\"col_heading level0 col1\" >Sales_in_thousands</th>        <th class=\"col_heading level0 col2\" >__year_resale_value</th>        <th class=\"col_heading level0 col3\" >Passenger</th>        <th class=\"col_heading level0 col4\" >Engine_size</th>        <th class=\"col_heading level0 col5\" >Horsepower</th>        <th class=\"col_heading level0 col6\" >Wheelbase</th>        <th class=\"col_heading level0 col7\" >Width</th>        <th class=\"col_heading level0 col8\" >Length</th>        <th class=\"col_heading level0 col9\" >Curb_weight</th>        <th class=\"col_heading level0 col10\" >Fuel_capacity</th>        <th class=\"col_heading level0 col11\" >Power_perf_factor</th>        <th class=\"col_heading level0 col12\" >Price_in_thousands</th>    </tr></thead><tbody>\n                <tr>\n                        <th id=\"T_f30e3_level0_row0\" class=\"row_heading level0 row0\" >Latest_Launch</th>\n                        <td id=\"T_f30e3_row0_col0\" class=\"data row0 col0\" >1.000000</td>\n                        <td id=\"T_f30e3_row0_col1\" class=\"data row0 col1\" >0.124997</td>\n                        <td id=\"T_f30e3_row0_col2\" class=\"data row0 col2\" >-0.066848</td>\n                        <td id=\"T_f30e3_row0_col3\" class=\"data row0 col3\" >0.125991</td>\n                        <td id=\"T_f30e3_row0_col4\" class=\"data row0 col4\" >0.010749</td>\n                        <td id=\"T_f30e3_row0_col5\" class=\"data row0 col5\" >0.024798</td>\n                        <td id=\"T_f30e3_row0_col6\" class=\"data row0 col6\" >0.008621</td>\n                        <td id=\"T_f30e3_row0_col7\" class=\"data row0 col7\" >0.050816</td>\n                        <td id=\"T_f30e3_row0_col8\" class=\"data row0 col8\" >0.059959</td>\n                        <td id=\"T_f30e3_row0_col9\" class=\"data row0 col9\" >-0.071564</td>\n                        <td id=\"T_f30e3_row0_col10\" class=\"data row0 col10\" >0.020216</td>\n                        <td id=\"T_f30e3_row0_col11\" class=\"data row0 col11\" >0.009201</td>\n                        <td id=\"T_f30e3_row0_col12\" class=\"data row0 col12\" >-0.051249</td>\n            </tr>\n            <tr>\n                        <th id=\"T_f30e3_level0_row1\" class=\"row_heading level0 row1\" >Sales_in_thousands</th>\n                        <td id=\"T_f30e3_row1_col0\" class=\"data row1 col0\" >0.124997</td>\n                        <td id=\"T_f30e3_row1_col1\" class=\"data row1 col1\" >1.000000</td>\n                        <td id=\"T_f30e3_row1_col2\" class=\"data row1 col2\" >-0.275426</td>\n                        <td id=\"T_f30e3_row1_col3\" class=\"data row1 col3\" >-0.278774</td>\n                        <td id=\"T_f30e3_row1_col4\" class=\"data row1 col4\" >0.038111</td>\n                        <td id=\"T_f30e3_row1_col5\" class=\"data row1 col5\" >-0.152538</td>\n                        <td id=\"T_f30e3_row1_col6\" class=\"data row1 col6\" >0.406839</td>\n                        <td id=\"T_f30e3_row1_col7\" class=\"data row1 col7\" >0.177802</td>\n                        <td id=\"T_f30e3_row1_col8\" class=\"data row1 col8\" >0.272336</td>\n                        <td id=\"T_f30e3_row1_col9\" class=\"data row1 col9\" >0.067184</td>\n                        <td id=\"T_f30e3_row1_col10\" class=\"data row1 col10\" >0.138045</td>\n                        <td id=\"T_f30e3_row1_col11\" class=\"data row1 col11\" >-0.175562</td>\n                        <td id=\"T_f30e3_row1_col12\" class=\"data row1 col12\" >-0.251705</td>\n            </tr>\n            <tr>\n                        <th id=\"T_f30e3_level0_row2\" class=\"row_heading level0 row2\" >__year_resale_value</th>\n                        <td id=\"T_f30e3_row2_col0\" class=\"data row2 col0\" >-0.066848</td>\n                        <td id=\"T_f30e3_row2_col1\" class=\"data row2 col1\" >-0.275426</td>\n                        <td id=\"T_f30e3_row2_col2\" class=\"data row2 col2\" >1.000000</td>\n                        <td id=\"T_f30e3_row2_col3\" class=\"data row2 col3\" >0.091679</td>\n                        <td id=\"T_f30e3_row2_col4\" class=\"data row2 col4\" >0.527187</td>\n                        <td id=\"T_f30e3_row2_col5\" class=\"data row2 col5\" >0.773110</td>\n                        <td id=\"T_f30e3_row2_col6\" class=\"data row2 col6\" >-0.053685</td>\n                        <td id=\"T_f30e3_row2_col7\" class=\"data row2 col7\" >0.178128</td>\n                        <td id=\"T_f30e3_row2_col8\" class=\"data row2 col8\" >0.025390</td>\n                        <td id=\"T_f30e3_row2_col9\" class=\"data row2 col9\" >0.363274</td>\n                        <td id=\"T_f30e3_row2_col10\" class=\"data row2 col10\" >0.324796</td>\n                        <td id=\"T_f30e3_row2_col11\" class=\"data row2 col11\" >0.829511</td>\n                        <td id=\"T_f30e3_row2_col12\" class=\"data row2 col12\" >0.954757</td>\n            </tr>\n            <tr>\n                        <th id=\"T_f30e3_level0_row3\" class=\"row_heading level0 row3\" >Passenger</th>\n                        <td id=\"T_f30e3_row3_col0\" class=\"data row3 col0\" >0.125991</td>\n                        <td id=\"T_f30e3_row3_col1\" class=\"data row3 col1\" >-0.278774</td>\n                        <td id=\"T_f30e3_row3_col2\" class=\"data row3 col2\" >0.091679</td>\n                        <td id=\"T_f30e3_row3_col3\" class=\"data row3 col3\" >1.000000</td>\n                        <td id=\"T_f30e3_row3_col4\" class=\"data row3 col4\" >-0.182515</td>\n                        <td id=\"T_f30e3_row3_col5\" class=\"data row3 col5\" >0.045867</td>\n                        <td id=\"T_f30e3_row3_col6\" class=\"data row3 col6\" >-0.385062</td>\n                        <td id=\"T_f30e3_row3_col7\" class=\"data row3 col7\" >-0.220744</td>\n                        <td id=\"T_f30e3_row3_col8\" class=\"data row3 col8\" >-0.109779</td>\n                        <td id=\"T_f30e3_row3_col9\" class=\"data row3 col9\" >-0.469247</td>\n                        <td id=\"T_f30e3_row3_col10\" class=\"data row3 col10\" >-0.586927</td>\n                        <td id=\"T_f30e3_row3_col11\" class=\"data row3 col11\" >0.051096</td>\n                        <td id=\"T_f30e3_row3_col12\" class=\"data row3 col12\" >0.076303</td>\n            </tr>\n            <tr>\n                        <th id=\"T_f30e3_level0_row4\" class=\"row_heading level0 row4\" >Engine_size</th>\n                        <td id=\"T_f30e3_row4_col0\" class=\"data row4 col0\" >0.010749</td>\n                        <td id=\"T_f30e3_row4_col1\" class=\"data row4 col1\" >0.038111</td>\n                        <td id=\"T_f30e3_row4_col2\" class=\"data row4 col2\" >0.527187</td>\n                        <td id=\"T_f30e3_row4_col3\" class=\"data row4 col3\" >-0.182515</td>\n                        <td id=\"T_f30e3_row4_col4\" class=\"data row4 col4\" >1.000000</td>\n                        <td id=\"T_f30e3_row4_col5\" class=\"data row4 col5\" >0.861618</td>\n                        <td id=\"T_f30e3_row4_col6\" class=\"data row4 col6\" >0.410020</td>\n                        <td id=\"T_f30e3_row4_col7\" class=\"data row4 col7\" >0.671756</td>\n                        <td id=\"T_f30e3_row4_col8\" class=\"data row4 col8\" >0.537343</td>\n                        <td id=\"T_f30e3_row4_col9\" class=\"data row4 col9\" >0.742831</td>\n                        <td id=\"T_f30e3_row4_col10\" class=\"data row4 col10\" >0.616862</td>\n                        <td id=\"T_f30e3_row4_col11\" class=\"data row4 col11\" >0.841005</td>\n                        <td id=\"T_f30e3_row4_col12\" class=\"data row4 col12\" >0.649170</td>\n            </tr>\n            <tr>\n                        <th id=\"T_f30e3_level0_row5\" class=\"row_heading level0 row5\" >Horsepower</th>\n                        <td id=\"T_f30e3_row5_col0\" class=\"data row5 col0\" >0.024798</td>\n                        <td id=\"T_f30e3_row5_col1\" class=\"data row5 col1\" >-0.152538</td>\n                        <td id=\"T_f30e3_row5_col2\" class=\"data row5 col2\" >0.773110</td>\n                        <td id=\"T_f30e3_row5_col3\" class=\"data row5 col3\" >0.045867</td>\n                        <td id=\"T_f30e3_row5_col4\" class=\"data row5 col4\" >0.861618</td>\n                        <td id=\"T_f30e3_row5_col5\" class=\"data row5 col5\" >1.000000</td>\n                        <td id=\"T_f30e3_row5_col6\" class=\"data row5 col6\" >0.225905</td>\n                        <td id=\"T_f30e3_row5_col7\" class=\"data row5 col7\" >0.507275</td>\n                        <td id=\"T_f30e3_row5_col8\" class=\"data row5 col8\" >0.400968</td>\n                        <td id=\"T_f30e3_row5_col9\" class=\"data row5 col9\" >0.598603</td>\n                        <td id=\"T_f30e3_row5_col10\" class=\"data row5 col10\" >0.479790</td>\n                        <td id=\"T_f30e3_row5_col11\" class=\"data row5 col11\" >0.994071</td>\n                        <td id=\"T_f30e3_row5_col12\" class=\"data row5 col12\" >0.853455</td>\n            </tr>\n            <tr>\n                        <th id=\"T_f30e3_level0_row6\" class=\"row_heading level0 row6\" >Wheelbase</th>\n                        <td id=\"T_f30e3_row6_col0\" class=\"data row6 col0\" >0.008621</td>\n                        <td id=\"T_f30e3_row6_col1\" class=\"data row6 col1\" >0.406839</td>\n                        <td id=\"T_f30e3_row6_col2\" class=\"data row6 col2\" >-0.053685</td>\n                        <td id=\"T_f30e3_row6_col3\" class=\"data row6 col3\" >-0.385062</td>\n                        <td id=\"T_f30e3_row6_col4\" class=\"data row6 col4\" >0.410020</td>\n                        <td id=\"T_f30e3_row6_col5\" class=\"data row6 col5\" >0.225905</td>\n                        <td id=\"T_f30e3_row6_col6\" class=\"data row6 col6\" >1.000000</td>\n                        <td id=\"T_f30e3_row6_col7\" class=\"data row6 col7\" >0.675559</td>\n                        <td id=\"T_f30e3_row6_col8\" class=\"data row6 col8\" >0.853669</td>\n                        <td id=\"T_f30e3_row6_col9\" class=\"data row6 col9\" >0.675609</td>\n                        <td id=\"T_f30e3_row6_col10\" class=\"data row6 col10\" >0.658654</td>\n                        <td id=\"T_f30e3_row6_col11\" class=\"data row6 col11\" >0.200228</td>\n                        <td id=\"T_f30e3_row6_col12\" class=\"data row6 col12\" >0.067042</td>\n            </tr>\n            <tr>\n                        <th id=\"T_f30e3_level0_row7\" class=\"row_heading level0 row7\" >Width</th>\n                        <td id=\"T_f30e3_row7_col0\" class=\"data row7 col0\" >0.050816</td>\n                        <td id=\"T_f30e3_row7_col1\" class=\"data row7 col1\" >0.177802</td>\n                        <td id=\"T_f30e3_row7_col2\" class=\"data row7 col2\" >0.178128</td>\n                        <td id=\"T_f30e3_row7_col3\" class=\"data row7 col3\" >-0.220744</td>\n                        <td id=\"T_f30e3_row7_col4\" class=\"data row7 col4\" >0.671756</td>\n                        <td id=\"T_f30e3_row7_col5\" class=\"data row7 col5\" >0.507275</td>\n                        <td id=\"T_f30e3_row7_col6\" class=\"data row7 col6\" >0.675559</td>\n                        <td id=\"T_f30e3_row7_col7\" class=\"data row7 col7\" >1.000000</td>\n                        <td id=\"T_f30e3_row7_col8\" class=\"data row7 col8\" >0.743226</td>\n                        <td id=\"T_f30e3_row7_col9\" class=\"data row7 col9\" >0.735957</td>\n                        <td id=\"T_f30e3_row7_col10\" class=\"data row7 col10\" >0.672191</td>\n                        <td id=\"T_f30e3_row7_col11\" class=\"data row7 col11\" >0.478889</td>\n                        <td id=\"T_f30e3_row7_col12\" class=\"data row7 col12\" >0.301292</td>\n            </tr>\n            <tr>\n                        <th id=\"T_f30e3_level0_row8\" class=\"row_heading level0 row8\" >Length</th>\n                        <td id=\"T_f30e3_row8_col0\" class=\"data row8 col0\" >0.059959</td>\n                        <td id=\"T_f30e3_row8_col1\" class=\"data row8 col1\" >0.272336</td>\n                        <td id=\"T_f30e3_row8_col2\" class=\"data row8 col2\" >0.025390</td>\n                        <td id=\"T_f30e3_row8_col3\" class=\"data row8 col3\" >-0.109779</td>\n                        <td id=\"T_f30e3_row8_col4\" class=\"data row8 col4\" >0.537343</td>\n                        <td id=\"T_f30e3_row8_col5\" class=\"data row8 col5\" >0.400968</td>\n                        <td id=\"T_f30e3_row8_col6\" class=\"data row8 col6\" >0.853669</td>\n                        <td id=\"T_f30e3_row8_col7\" class=\"data row8 col7\" >0.743226</td>\n                        <td id=\"T_f30e3_row8_col8\" class=\"data row8 col8\" >1.000000</td>\n                        <td id=\"T_f30e3_row8_col9\" class=\"data row8 col9\" >0.684305</td>\n                        <td id=\"T_f30e3_row8_col10\" class=\"data row8 col10\" >0.562504</td>\n                        <td id=\"T_f30e3_row8_col11\" class=\"data row8 col11\" >0.366831</td>\n                        <td id=\"T_f30e3_row8_col12\" class=\"data row8 col12\" >0.182592</td>\n            </tr>\n            <tr>\n                        <th id=\"T_f30e3_level0_row9\" class=\"row_heading level0 row9\" >Curb_weight</th>\n                        <td id=\"T_f30e3_row9_col0\" class=\"data row9 col0\" >-0.071564</td>\n                        <td id=\"T_f30e3_row9_col1\" class=\"data row9 col1\" >0.067184</td>\n                        <td id=\"T_f30e3_row9_col2\" class=\"data row9 col2\" >0.363274</td>\n                        <td id=\"T_f30e3_row9_col3\" class=\"data row9 col3\" >-0.469247</td>\n                        <td id=\"T_f30e3_row9_col4\" class=\"data row9 col4\" >0.742831</td>\n                        <td id=\"T_f30e3_row9_col5\" class=\"data row9 col5\" >0.598603</td>\n                        <td id=\"T_f30e3_row9_col6\" class=\"data row9 col6\" >0.675609</td>\n                        <td id=\"T_f30e3_row9_col7\" class=\"data row9 col7\" >0.735957</td>\n                        <td id=\"T_f30e3_row9_col8\" class=\"data row9 col8\" >0.684305</td>\n                        <td id=\"T_f30e3_row9_col9\" class=\"data row9 col9\" >1.000000</td>\n                        <td id=\"T_f30e3_row9_col10\" class=\"data row9 col10\" >0.847994</td>\n                        <td id=\"T_f30e3_row9_col11\" class=\"data row9 col11\" >0.597586</td>\n                        <td id=\"T_f30e3_row9_col12\" class=\"data row9 col12\" >0.511400</td>\n            </tr>\n            <tr>\n                        <th id=\"T_f30e3_level0_row10\" class=\"row_heading level0 row10\" >Fuel_capacity</th>\n                        <td id=\"T_f30e3_row10_col0\" class=\"data row10 col0\" >0.020216</td>\n                        <td id=\"T_f30e3_row10_col1\" class=\"data row10 col1\" >0.138045</td>\n                        <td id=\"T_f30e3_row10_col2\" class=\"data row10 col2\" >0.324796</td>\n                        <td id=\"T_f30e3_row10_col3\" class=\"data row10 col3\" >-0.586927</td>\n                        <td id=\"T_f30e3_row10_col4\" class=\"data row10 col4\" >0.616862</td>\n                        <td id=\"T_f30e3_row10_col5\" class=\"data row10 col5\" >0.479790</td>\n                        <td id=\"T_f30e3_row10_col6\" class=\"data row10 col6\" >0.658654</td>\n                        <td id=\"T_f30e3_row10_col7\" class=\"data row10 col7\" >0.672191</td>\n                        <td id=\"T_f30e3_row10_col8\" class=\"data row10 col8\" >0.562504</td>\n                        <td id=\"T_f30e3_row10_col9\" class=\"data row10 col9\" >0.847994</td>\n                        <td id=\"T_f30e3_row10_col10\" class=\"data row10 col10\" >1.000000</td>\n                        <td id=\"T_f30e3_row10_col11\" class=\"data row10 col11\" >0.478484</td>\n                        <td id=\"T_f30e3_row10_col12\" class=\"data row10 col12\" >0.406496</td>\n            </tr>\n            <tr>\n                        <th id=\"T_f30e3_level0_row11\" class=\"row_heading level0 row11\" >Power_perf_factor</th>\n                        <td id=\"T_f30e3_row11_col0\" class=\"data row11 col0\" >0.009201</td>\n                        <td id=\"T_f30e3_row11_col1\" class=\"data row11 col1\" >-0.175562</td>\n                        <td id=\"T_f30e3_row11_col2\" class=\"data row11 col2\" >0.829511</td>\n                        <td id=\"T_f30e3_row11_col3\" class=\"data row11 col3\" >0.051096</td>\n                        <td id=\"T_f30e3_row11_col4\" class=\"data row11 col4\" >0.841005</td>\n                        <td id=\"T_f30e3_row11_col5\" class=\"data row11 col5\" >0.994071</td>\n                        <td id=\"T_f30e3_row11_col6\" class=\"data row11 col6\" >0.200228</td>\n                        <td id=\"T_f30e3_row11_col7\" class=\"data row11 col7\" >0.478889</td>\n                        <td id=\"T_f30e3_row11_col8\" class=\"data row11 col8\" >0.366831</td>\n                        <td id=\"T_f30e3_row11_col9\" class=\"data row11 col9\" >0.597586</td>\n                        <td id=\"T_f30e3_row11_col10\" class=\"data row11 col10\" >0.478484</td>\n                        <td id=\"T_f30e3_row11_col11\" class=\"data row11 col11\" >1.000000</td>\n                        <td id=\"T_f30e3_row11_col12\" class=\"data row11 col12\" >0.905002</td>\n            </tr>\n            <tr>\n                        <th id=\"T_f30e3_level0_row12\" class=\"row_heading level0 row12\" >Price_in_thousands</th>\n                        <td id=\"T_f30e3_row12_col0\" class=\"data row12 col0\" >-0.051249</td>\n                        <td id=\"T_f30e3_row12_col1\" class=\"data row12 col1\" >-0.251705</td>\n                        <td id=\"T_f30e3_row12_col2\" class=\"data row12 col2\" >0.954757</td>\n                        <td id=\"T_f30e3_row12_col3\" class=\"data row12 col3\" >0.076303</td>\n                        <td id=\"T_f30e3_row12_col4\" class=\"data row12 col4\" >0.649170</td>\n                        <td id=\"T_f30e3_row12_col5\" class=\"data row12 col5\" >0.853455</td>\n                        <td id=\"T_f30e3_row12_col6\" class=\"data row12 col6\" >0.067042</td>\n                        <td id=\"T_f30e3_row12_col7\" class=\"data row12 col7\" >0.301292</td>\n                        <td id=\"T_f30e3_row12_col8\" class=\"data row12 col8\" >0.182592</td>\n                        <td id=\"T_f30e3_row12_col9\" class=\"data row12 col9\" >0.511400</td>\n                        <td id=\"T_f30e3_row12_col10\" class=\"data row12 col10\" >0.406496</td>\n                        <td id=\"T_f30e3_row12_col11\" class=\"data row12 col11\" >0.905002</td>\n                        <td id=\"T_f30e3_row12_col12\" class=\"data row12 col12\" >1.000000</td>\n            </tr>\n    </tbody></table>"
     },
     "metadata": {}
    }
   ]
  },
  {
   "cell_type": "markdown",
   "source": "On observing the above correlation, we can say that the pair of the variables (_year_resale_value, Price_in_thousands), (horsepower, Price_in_thousands), (horsepower, engine_size), (length, wheel_base), (curb_weight, engine_size), (fuel_capacity, curb_weight), (power_perf_factor, _year_resale_value), (power_perf_factor, price_in_thousands), (power_perf_factor, engine_size), (power_perf_factor, horsepower) have a strong positive association that means if the value of one variable increases, then the value of the other variable also increases. Similarly, the pair of variables (fuel_efficiency, engine_size), (fuel_efficiency, curb_weight), (fuel_efficiency, fuel_capacity) have a strong negative association that means as the value of one variable increases the value of other variable decreases.",
   "metadata": {
    "cell_id": "86d43c0954e74160a06bad1a9a76c9b5",
    "tags": [],
    "deepnote_cell_type": "markdown",
    "deepnote_cell_height": 186.78125
   }
  },
  {
   "cell_type": "code",
   "metadata": {
    "cell_id": "7b2f5fe1ba8648e4842009b53f3a39dc",
    "tags": [],
    "deepnote_to_be_reexecuted": false,
    "source_hash": "63a9de6",
    "execution_start": 1654670054108,
    "execution_millis": 0,
    "deepnote_cell_type": "code",
    "deepnote_cell_height": 443.125
   },
   "source": "corr = df.corr()\ncorr.sort_values([\"Price_in_thousands\"], ascending = False, inplace = True)\nprint(corr.Price_in_thousands)",
   "execution_count": null,
   "outputs": [
    {
     "name": "stdout",
     "text": "Price_in_thousands     1.000000\nPred                   0.976777\n__year_resale_value    0.954757\nPower_perf_factor      0.905002\nHorsepower             0.853455\nEngine_size            0.649170\nCurb_weight            0.511400\nFuel_capacity          0.406496\nWidth                  0.301292\nLength                 0.182592\nPassenger              0.076303\nWheelbase              0.067042\nLatest_Launch         -0.051249\nSales_in_thousands    -0.251705\nFuel_efficiency       -0.479539\nName: Price_in_thousands, dtype: float64\n",
     "output_type": "stream"
    }
   ]
  },
  {
   "cell_type": "markdown",
   "source": "We find most important features relative to target Price：__year_resale_value，Power_perf_factor,Horsepower,Engine_size,Curb_weight (>0.5)",
   "metadata": {
    "cell_id": "690484dd98e94be3904b83ccf8dacfd5",
    "tags": [],
    "deepnote_to_be_reexecuted": true,
    "source_hash": "66fe30d9",
    "deepnote_cell_type": "markdown",
    "deepnote_cell_height": 74.796875
   }
  },
  {
   "cell_type": "code",
   "metadata": {
    "cell_id": "a70cfce873cb415ca6c249a20c8dd447",
    "tags": [],
    "deepnote_to_be_reexecuted": false,
    "source_hash": "cb73c151",
    "execution_start": 1654670133783,
    "execution_millis": 460,
    "deepnote_cell_type": "code",
    "deepnote_cell_height": 329.34375
   },
   "source": "cols",
   "execution_count": null,
   "outputs": [
    {
     "output_type": "execute_result",
     "execution_count": 26,
     "data": {
      "text/plain": "['Latest_Launch',\n 'Sales_in_thousands',\n '__year_resale_value',\n 'Passenger',\n 'Engine_size',\n 'Horsepower',\n 'Wheelbase',\n 'Width',\n 'Length',\n 'Curb_weight',\n 'Fuel_capacity',\n 'Power_perf_factor']"
     },
     "metadata": {}
    }
   ]
  },
  {
   "cell_type": "code",
   "metadata": {
    "cell_id": "2111696671654364a4a7e7b6b0c53cbf",
    "tags": [],
    "deepnote_to_be_reexecuted": false,
    "source_hash": "56da13c3",
    "execution_start": 1654670141667,
    "execution_millis": 911,
    "deepnote_cell_type": "code",
    "deepnote_cell_height": 888
   },
   "source": "import altair as alt\ncols2=['__year_resale_value','Engine_size','Horsepower','Curb_weight','Power_perf_factor']\nA=[]\nfor i in cols2:\n    c=alt.Chart(df).mark_circle().encode(\n        x=i,\n        y=\"Price_in_thousands\",\n        color=\"Manufacturer\"\n    )\n    A.append(c)\nalt.vconcat(*A)",
   "execution_count": null,
   "outputs": [
    {
     "output_type": "execute_result",
     "execution_count": 27,
     "data": {
      "text/html": "\n<div id=\"altair-viz-048911b59fab410e9da0410ddf78cd9e\"></div>\n<script type=\"text/javascript\">\n  (function(spec, embedOpt){\n    let outputDiv = document.currentScript.previousElementSibling;\n    if (outputDiv.id !== \"altair-viz-048911b59fab410e9da0410ddf78cd9e\") {\n      outputDiv = document.getElementById(\"altair-viz-048911b59fab410e9da0410ddf78cd9e\");\n    }\n    const paths = {\n      \"vega\": \"https://cdn.jsdelivr.net/npm//vega@5?noext\",\n      \"vega-lib\": \"https://cdn.jsdelivr.net/npm//vega-lib?noext\",\n      \"vega-lite\": \"https://cdn.jsdelivr.net/npm//vega-lite@4.8.1?noext\",\n      \"vega-embed\": \"https://cdn.jsdelivr.net/npm//vega-embed@6?noext\",\n    };\n\n    function loadScript(lib) {\n      return new Promise(function(resolve, reject) {\n        var s = document.createElement('script');\n        s.src = paths[lib];\n        s.async = true;\n        s.onload = () => resolve(paths[lib]);\n        s.onerror = () => reject(`Error loading script: ${paths[lib]}`);\n        document.getElementsByTagName(\"head\")[0].appendChild(s);\n      });\n    }\n\n    function showError(err) {\n      outputDiv.innerHTML = `<div class=\"error\" style=\"color:red;\">${err}</div>`;\n      throw err;\n    }\n\n    function displayChart(vegaEmbed) {\n      vegaEmbed(outputDiv, spec, embedOpt)\n        .catch(err => showError(`Javascript Error: ${err.message}<br>This usually means there's a typo in your chart specification. See the javascript console for the full traceback.`));\n    }\n\n    if(typeof define === \"function\" && define.amd) {\n      requirejs.config({paths});\n      require([\"vega-embed\"], displayChart, err => showError(`Error loading script: ${err.message}`));\n    } else if (typeof vegaEmbed === \"function\") {\n      displayChart(vegaEmbed);\n    } else {\n      loadScript(\"vega\")\n        .then(() => loadScript(\"vega-lite\"))\n        .then(() => loadScript(\"vega-embed\"))\n        .catch(showError)\n        .then(() => displayChart(vegaEmbed));\n    }\n  })({\"config\": {\"view\": {\"continuousWidth\": 400, \"continuousHeight\": 300}}, \"vconcat\": [{\"mark\": \"circle\", \"encoding\": {\"color\": {\"type\": \"nominal\", \"field\": \"Manufacturer\"}, \"x\": {\"type\": \"quantitative\", \"field\": \"__year_resale_value\"}, \"y\": {\"type\": \"quantitative\", \"field\": \"Price_in_thousands\"}}}, {\"mark\": \"circle\", \"encoding\": {\"color\": {\"type\": \"nominal\", \"field\": \"Manufacturer\"}, \"x\": {\"type\": \"quantitative\", \"field\": \"Engine_size\"}, \"y\": {\"type\": \"quantitative\", \"field\": \"Price_in_thousands\"}}}, {\"mark\": \"circle\", \"encoding\": {\"color\": {\"type\": \"nominal\", \"field\": \"Manufacturer\"}, \"x\": {\"type\": \"quantitative\", \"field\": \"Horsepower\"}, \"y\": {\"type\": \"quantitative\", \"field\": \"Price_in_thousands\"}}}, {\"mark\": \"circle\", \"encoding\": {\"color\": {\"type\": \"nominal\", \"field\": \"Manufacturer\"}, \"x\": {\"type\": \"quantitative\", \"field\": \"Curb_weight\"}, \"y\": {\"type\": \"quantitative\", \"field\": \"Price_in_thousands\"}}}, {\"mark\": \"circle\", \"encoding\": {\"color\": {\"type\": \"nominal\", \"field\": \"Manufacturer\"}, \"x\": {\"type\": \"quantitative\", \"field\": \"Power_perf_factor\"}, \"y\": {\"type\": \"quantitative\", \"field\": \"Price_in_thousands\"}}}], \"data\": {\"name\": \"data-03ac32bfc5c971c748d13ac2576c0398\"}, \"$schema\": \"https://vega.github.io/schema/vega-lite/v4.8.1.json\", \"datasets\": {\"data-03ac32bfc5c971c748d13ac2576c0398\": [{\"Manufacturer\": \"Acura\", \"Model\": \"Integra\", \"Sales_in_thousands\": 16.919, \"__year_resale_value\": 16.36, \"Vehicle_type\": \"Passenger\", \"Price_in_thousands\": 21.5, \"Engine_size\": 1.8, \"Horsepower\": 140.0, \"Wheelbase\": 101.2, \"Width\": 67.3, \"Length\": 172.4, \"Curb_weight\": 2.639, \"Fuel_capacity\": 13.2, \"Fuel_efficiency\": 28.0, \"Latest_Launch\": 1328140800000000000, \"Power_perf_factor\": 58.28014952, \"Passenger\": 1, \"Pred\": 21.04355050222738}, {\"Manufacturer\": \"Acura\", \"Model\": \"TL\", \"Sales_in_thousands\": 39.384, \"__year_resale_value\": 19.875, \"Vehicle_type\": \"Passenger\", \"Price_in_thousands\": 28.4, \"Engine_size\": 3.2, \"Horsepower\": 225.0, \"Wheelbase\": 108.1, \"Width\": 70.3, \"Length\": 192.9, \"Curb_weight\": 3.517, \"Fuel_capacity\": 17.2, \"Fuel_efficiency\": 25.0, \"Latest_Launch\": 1307059200000000000, \"Power_perf_factor\": 91.37077766, \"Passenger\": 1, \"Pred\": 30.55027806339063}, {\"Manufacturer\": \"Acura\", \"Model\": \"RL\", \"Sales_in_thousands\": 8.588, \"__year_resale_value\": 29.725, \"Vehicle_type\": \"Passenger\", \"Price_in_thousands\": 42.0, \"Engine_size\": 3.5, \"Horsepower\": 210.0, \"Wheelbase\": 114.6, \"Width\": 71.4, \"Length\": 196.6, \"Curb_weight\": 3.85, \"Fuel_capacity\": 18.0, \"Fuel_efficiency\": 22.0, \"Latest_Launch\": 1299715200000000000, \"Power_perf_factor\": 91.38977933, \"Passenger\": 1, \"Pred\": 40.84100160081856}, {\"Manufacturer\": \"Audi\", \"Model\": \"A4\", \"Sales_in_thousands\": 20.397, \"__year_resale_value\": 22.255, \"Vehicle_type\": \"Passenger\", \"Price_in_thousands\": 23.99, \"Engine_size\": 1.8, \"Horsepower\": 150.0, \"Wheelbase\": 102.6, \"Width\": 68.2, \"Length\": 178.0, \"Curb_weight\": 2.998, \"Fuel_capacity\": 16.4, \"Fuel_efficiency\": 27.0, \"Latest_Launch\": 1318032000000000000, \"Power_perf_factor\": 62.7776392, \"Passenger\": 1, \"Pred\": 27.45609708347422}, {\"Manufacturer\": \"Audi\", \"Model\": \"A6\", \"Sales_in_thousands\": 18.78, \"__year_resale_value\": 23.555, \"Vehicle_type\": \"Passenger\", \"Price_in_thousands\": 33.95, \"Engine_size\": 2.8, \"Horsepower\": 200.0, \"Wheelbase\": 108.7, \"Width\": 76.1, \"Length\": 192.0, \"Curb_weight\": 3.561, \"Fuel_capacity\": 18.5, \"Fuel_efficiency\": 22.0, \"Latest_Launch\": 1312848000000000000, \"Power_perf_factor\": 84.56510502, \"Passenger\": 1, \"Pred\": 33.08320491771251}, {\"Manufacturer\": \"Audi\", \"Model\": \"A8\", \"Sales_in_thousands\": 1.38, \"__year_resale_value\": 39.0, \"Vehicle_type\": \"Passenger\", \"Price_in_thousands\": 62.0, \"Engine_size\": 4.2, \"Horsepower\": 310.0, \"Wheelbase\": 113.0, \"Width\": 74.0, \"Length\": 198.2, \"Curb_weight\": 3.902, \"Fuel_capacity\": 23.7, \"Fuel_efficiency\": 21.0, \"Latest_Launch\": 1330300800000000000, \"Power_perf_factor\": 134.6568582, \"Passenger\": 1, \"Pred\": 55.09180930317653}, {\"Manufacturer\": \"BMW\", \"Model\": \"328i\", \"Sales_in_thousands\": 9.231, \"__year_resale_value\": 28.675, \"Vehicle_type\": \"Passenger\", \"Price_in_thousands\": 33.4, \"Engine_size\": 2.8, \"Horsepower\": 193.0, \"Wheelbase\": 107.3, \"Width\": 68.5, \"Length\": 176.0, \"Curb_weight\": 3.197, \"Fuel_capacity\": 16.6, \"Fuel_efficiency\": 24.0, \"Latest_Launch\": 1327795200000000000, \"Power_perf_factor\": 81.87706856, \"Passenger\": 1, \"Pred\": 36.465264880225035}, {\"Manufacturer\": \"BMW\", \"Model\": \"528i\", \"Sales_in_thousands\": 17.527, \"__year_resale_value\": 36.125, \"Vehicle_type\": \"Passenger\", \"Price_in_thousands\": 38.9, \"Engine_size\": 2.8, \"Horsepower\": 193.0, \"Wheelbase\": 111.4, \"Width\": 70.9, \"Length\": 188.0, \"Curb_weight\": 3.472, \"Fuel_capacity\": 18.5, \"Fuel_efficiency\": 25.0, \"Latest_Launch\": 1301875200000000000, \"Power_perf_factor\": 83.9987238, \"Passenger\": 1, \"Pred\": 44.55619890462283}, {\"Manufacturer\": \"Buick\", \"Model\": \"Century\", \"Sales_in_thousands\": 91.561, \"__year_resale_value\": 12.475, \"Vehicle_type\": \"Passenger\", \"Price_in_thousands\": 21.975, \"Engine_size\": 3.1, \"Horsepower\": 175.0, \"Wheelbase\": 109.0, \"Width\": 72.7, \"Length\": 194.6, \"Curb_weight\": 3.368, \"Fuel_capacity\": 17.5, \"Fuel_efficiency\": 25.0, \"Latest_Launch\": 1320192000000000000, \"Power_perf_factor\": 71.18145132, \"Passenger\": 1, \"Pred\": 20.52673538556382}, {\"Manufacturer\": \"Buick\", \"Model\": \"Regal\", \"Sales_in_thousands\": 39.35, \"__year_resale_value\": 13.74, \"Vehicle_type\": \"Passenger\", \"Price_in_thousands\": 25.3, \"Engine_size\": 3.8, \"Horsepower\": 240.0, \"Wheelbase\": 109.0, \"Width\": 72.7, \"Length\": 196.2, \"Curb_weight\": 3.543, \"Fuel_capacity\": 17.5, \"Fuel_efficiency\": 23.0, \"Latest_Launch\": 1315008000000000000, \"Power_perf_factor\": 95.63670253, \"Passenger\": 1, \"Pred\": 25.726846146698932}, {\"Manufacturer\": \"Buick\", \"Model\": \"Park Avenue\", \"Sales_in_thousands\": 27.851, \"__year_resale_value\": 20.19, \"Vehicle_type\": \"Passenger\", \"Price_in_thousands\": 31.965, \"Engine_size\": 3.8, \"Horsepower\": 205.0, \"Wheelbase\": 113.8, \"Width\": 74.7, \"Length\": 206.8, \"Curb_weight\": 3.778, \"Fuel_capacity\": 18.5, \"Fuel_efficiency\": 24.0, \"Latest_Launch\": 1332460800000000000, \"Power_perf_factor\": 85.82840825, \"Passenger\": 1, \"Pred\": 30.018765123328333}, {\"Manufacturer\": \"Buick\", \"Model\": \"LeSabre\", \"Sales_in_thousands\": 83.257, \"__year_resale_value\": 13.36, \"Vehicle_type\": \"Passenger\", \"Price_in_thousands\": 27.885, \"Engine_size\": 3.8, \"Horsepower\": 205.0, \"Wheelbase\": 112.2, \"Width\": 73.5, \"Length\": 200.0, \"Curb_weight\": 3.591, \"Fuel_capacity\": 17.5, \"Fuel_efficiency\": 25.0, \"Latest_Launch\": 1311379200000000000, \"Power_perf_factor\": 84.25452581, \"Passenger\": 1, \"Pred\": 24.129551448481223}, {\"Manufacturer\": \"Cadillac\", \"Model\": \"DeVille\", \"Sales_in_thousands\": 63.729, \"__year_resale_value\": 22.525, \"Vehicle_type\": \"Passenger\", \"Price_in_thousands\": 39.895, \"Engine_size\": 4.6, \"Horsepower\": 275.0, \"Wheelbase\": 115.3, \"Width\": 74.5, \"Length\": 207.2, \"Curb_weight\": 3.978, \"Fuel_capacity\": 18.5, \"Fuel_efficiency\": 22.0, \"Latest_Launch\": 1329955200000000000, \"Power_perf_factor\": 113.8545976, \"Passenger\": 1, \"Pred\": 36.38671102302058}, {\"Manufacturer\": \"Cadillac\", \"Model\": \"Eldorado\", \"Sales_in_thousands\": 6.536, \"__year_resale_value\": 25.725, \"Vehicle_type\": \"Passenger\", \"Price_in_thousands\": 39.665, \"Engine_size\": 4.6, \"Horsepower\": 275.0, \"Wheelbase\": 108.0, \"Width\": 75.5, \"Length\": 200.6, \"Curb_weight\": 3.843, \"Fuel_capacity\": 19.0, \"Fuel_efficiency\": 22.0, \"Latest_Launch\": 1322352000000000000, \"Power_perf_factor\": 113.7658739, \"Passenger\": 1, \"Pred\": 38.834724576116756}, {\"Manufacturer\": \"Cadillac\", \"Model\": \"Catera\", \"Sales_in_thousands\": 11.185, \"__year_resale_value\": 18.225, \"Vehicle_type\": \"Passenger\", \"Price_in_thousands\": 31.01, \"Engine_size\": 3.0, \"Horsepower\": 200.0, \"Wheelbase\": 107.4, \"Width\": 70.3, \"Length\": 194.8, \"Curb_weight\": 3.77, \"Fuel_capacity\": 18.0, \"Fuel_efficiency\": 22.0, \"Latest_Launch\": 1317168000000000000, \"Power_perf_factor\": 83.48309358, \"Passenger\": 1, \"Pred\": 28.025457580005707}, {\"Manufacturer\": \"Chevrolet\", \"Model\": \"Cavalier\", \"Sales_in_thousands\": 145.519, \"__year_resale_value\": 9.25, \"Vehicle_type\": \"Passenger\", \"Price_in_thousands\": 13.26, \"Engine_size\": 2.2, \"Horsepower\": 115.0, \"Wheelbase\": 104.1, \"Width\": 67.9, \"Length\": 180.9, \"Curb_weight\": 2.676, \"Fuel_capacity\": 14.3, \"Fuel_efficiency\": 27.0, \"Latest_Launch\": 1313539200000000000, \"Power_perf_factor\": 46.36334747, \"Passenger\": 1, \"Pred\": 12.999091017958609}, {\"Manufacturer\": \"Chevrolet\", \"Model\": \"Malibu\", \"Sales_in_thousands\": 135.126, \"__year_resale_value\": 11.225, \"Vehicle_type\": \"Passenger\", \"Price_in_thousands\": 16.535, \"Engine_size\": 3.1, \"Horsepower\": 170.0, \"Wheelbase\": 107.0, \"Width\": 69.4, \"Length\": 190.4, \"Curb_weight\": 3.051, \"Fuel_capacity\": 15.0, \"Fuel_efficiency\": 25.0, \"Latest_Launch\": 1332115200000000000, \"Power_perf_factor\": 67.31446216, \"Passenger\": 1, \"Pred\": 17.4443315784245}, {\"Manufacturer\": \"Chevrolet\", \"Model\": \"Lumina\", \"Sales_in_thousands\": 24.629, \"__year_resale_value\": 10.31, \"Vehicle_type\": \"Passenger\", \"Price_in_thousands\": 18.89, \"Engine_size\": 3.1, \"Horsepower\": 175.0, \"Wheelbase\": 107.5, \"Width\": 72.5, \"Length\": 200.9, \"Curb_weight\": 3.33, \"Fuel_capacity\": 16.6, \"Fuel_efficiency\": 25.0, \"Latest_Launch\": 1306195200000000000, \"Power_perf_factor\": 69.9913956, \"Passenger\": 1, \"Pred\": 18.88424473399787}, {\"Manufacturer\": \"Chevrolet\", \"Model\": \"Monte Carlo\", \"Sales_in_thousands\": 42.593, \"__year_resale_value\": 11.525, \"Vehicle_type\": \"Passenger\", \"Price_in_thousands\": 19.39, \"Engine_size\": 3.4, \"Horsepower\": 180.0, \"Wheelbase\": 110.5, \"Width\": 72.7, \"Length\": 197.9, \"Curb_weight\": 3.34, \"Fuel_capacity\": 17.0, \"Fuel_efficiency\": 27.0, \"Latest_Launch\": 1324512000000000000, \"Power_perf_factor\": 72.03091719, \"Passenger\": 1, \"Pred\": 19.992739153572046}, {\"Manufacturer\": \"Chevrolet\", \"Model\": \"Camaro\", \"Sales_in_thousands\": 26.402, \"__year_resale_value\": 13.025, \"Vehicle_type\": \"Passenger\", \"Price_in_thousands\": 24.34, \"Engine_size\": 3.8, \"Horsepower\": 200.0, \"Wheelbase\": 101.1, \"Width\": 74.1, \"Length\": 193.2, \"Curb_weight\": 3.5, \"Fuel_capacity\": 16.8, \"Fuel_efficiency\": 25.0, \"Latest_Launch\": 1319328000000000000, \"Power_perf_factor\": 81.11854333, \"Passenger\": 1, \"Pred\": 21.809412610429785}, {\"Manufacturer\": \"Chevrolet\", \"Model\": \"Corvette\", \"Sales_in_thousands\": 17.947, \"__year_resale_value\": 36.225, \"Vehicle_type\": \"Passenger\", \"Price_in_thousands\": 45.705, \"Engine_size\": 5.7, \"Horsepower\": 345.0, \"Wheelbase\": 104.5, \"Width\": 73.6, \"Length\": 179.7, \"Curb_weight\": 3.21, \"Fuel_capacity\": 19.1, \"Fuel_efficiency\": 22.0, \"Latest_Launch\": 1336780800000000000, \"Power_perf_factor\": 141.14115, \"Passenger\": 1, \"Pred\": 51.150848599263426}, {\"Manufacturer\": \"Chevrolet\", \"Model\": \"Prizm\", \"Sales_in_thousands\": 32.299, \"__year_resale_value\": 9.125, \"Vehicle_type\": \"Passenger\", \"Price_in_thousands\": 13.96, \"Engine_size\": 1.8, \"Horsepower\": 120.0, \"Wheelbase\": 97.1, \"Width\": 66.7, \"Length\": 174.3, \"Curb_weight\": 2.398, \"Fuel_capacity\": 13.2, \"Fuel_efficiency\": 33.0, \"Latest_Launch\": 1315699200000000000, \"Power_perf_factor\": 48.2976361, \"Passenger\": 1, \"Pred\": 12.956981166899084}, {\"Manufacturer\": \"Chevrolet\", \"Model\": \"Metro\", \"Sales_in_thousands\": 21.855, \"__year_resale_value\": 5.16, \"Vehicle_type\": \"Passenger\", \"Price_in_thousands\": 9.235, \"Engine_size\": 1.0, \"Horsepower\": 55.0, \"Wheelbase\": 93.1, \"Width\": 62.6, \"Length\": 149.4, \"Curb_weight\": 1.895, \"Fuel_capacity\": 10.3, \"Fuel_efficiency\": 45.0, \"Latest_Launch\": 1334275200000000000, \"Power_perf_factor\": 23.27627233, \"Passenger\": 1, \"Pred\": 5.0466517825749335}, {\"Manufacturer\": \"Chrysler\", \"Model\": \"Sebring Coupe\", \"Sales_in_thousands\": 7.854, \"__year_resale_value\": 12.36, \"Vehicle_type\": \"Passenger\", \"Price_in_thousands\": 19.84, \"Engine_size\": 2.5, \"Horsepower\": 163.0, \"Wheelbase\": 103.7, \"Width\": 69.7, \"Length\": 190.9, \"Curb_weight\": 2.967, \"Fuel_capacity\": 15.9, \"Fuel_efficiency\": 24.0, \"Latest_Launch\": 1326672000000000000, \"Power_perf_factor\": 65.95718396, \"Passenger\": 1, \"Pred\": 19.081393937281398}, {\"Manufacturer\": \"Chrysler\", \"Model\": \"Sebring Conv.\", \"Sales_in_thousands\": 32.775, \"__year_resale_value\": 14.18, \"Vehicle_type\": \"Passenger\", \"Price_in_thousands\": 24.495, \"Engine_size\": 2.5, \"Horsepower\": 168.0, \"Wheelbase\": 106.0, \"Width\": 69.2, \"Length\": 193.0, \"Curb_weight\": 3.332, \"Fuel_capacity\": 16.0, \"Fuel_efficiency\": 24.0, \"Latest_Launch\": 1321488000000000000, \"Power_perf_factor\": 69.52135505, \"Passenger\": 1, \"Pred\": 21.645413140576945}, {\"Manufacturer\": \"Chrysler\", \"Model\": \"Concorde\", \"Sales_in_thousands\": 31.148, \"__year_resale_value\": 13.725, \"Vehicle_type\": \"Passenger\", \"Price_in_thousands\": 22.245, \"Engine_size\": 2.7, \"Horsepower\": 200.0, \"Wheelbase\": 113.0, \"Width\": 74.4, \"Length\": 209.1, \"Curb_weight\": 3.452, \"Fuel_capacity\": 17.0, \"Fuel_efficiency\": 26.0, \"Latest_Launch\": 1338940800000000000, \"Power_perf_factor\": 80.02378204, \"Passenger\": 1, \"Pred\": 22.696496102462866}, {\"Manufacturer\": \"Chrysler\", \"Model\": \"Cirrus\", \"Sales_in_thousands\": 32.306, \"__year_resale_value\": 12.64, \"Vehicle_type\": \"Passenger\", \"Price_in_thousands\": 16.48, \"Engine_size\": 2.0, \"Horsepower\": 132.0, \"Wheelbase\": 108.0, \"Width\": 71.0, \"Length\": 186.0, \"Curb_weight\": 2.911, \"Fuel_capacity\": 16.0, \"Fuel_efficiency\": 27.0, \"Latest_Launch\": 1317859200000000000, \"Power_perf_factor\": 53.56619987, \"Passenger\": 1, \"Pred\": 18.256962469357433}, {\"Manufacturer\": \"Chrysler\", \"Model\": \"LHS\", \"Sales_in_thousands\": 13.462, \"__year_resale_value\": 17.325, \"Vehicle_type\": \"Passenger\", \"Price_in_thousands\": 28.34, \"Engine_size\": 3.5, \"Horsepower\": 253.0, \"Wheelbase\": 113.0, \"Width\": 74.4, \"Length\": 207.7, \"Curb_weight\": 3.564, \"Fuel_capacity\": 17.0, \"Fuel_efficiency\": 23.0, \"Latest_Launch\": 1336435200000000000, \"Power_perf_factor\": 101.3292807, \"Passenger\": 1, \"Pred\": 29.265795469737995}, {\"Manufacturer\": \"Dodge\", \"Model\": \"Neon\", \"Sales_in_thousands\": 76.034, \"__year_resale_value\": 7.75, \"Vehicle_type\": \"Passenger\", \"Price_in_thousands\": 12.64, \"Engine_size\": 2.0, \"Horsepower\": 132.0, \"Wheelbase\": 105.0, \"Width\": 74.4, \"Length\": 174.4, \"Curb_weight\": 2.567, \"Fuel_capacity\": 12.5, \"Fuel_efficiency\": 29.0, \"Latest_Launch\": 1323648000000000000, \"Power_perf_factor\": 52.08489875, \"Passenger\": 1, \"Pred\": 12.67703992503003}, {\"Manufacturer\": \"Dodge\", \"Model\": \"Avenger\", \"Sales_in_thousands\": 4.734, \"__year_resale_value\": 12.545, \"Vehicle_type\": \"Passenger\", \"Price_in_thousands\": 19.045, \"Engine_size\": 2.5, \"Horsepower\": 163.0, \"Wheelbase\": 103.7, \"Width\": 69.1, \"Length\": 190.2, \"Curb_weight\": 2.879, \"Fuel_capacity\": 15.9, \"Fuel_efficiency\": 24.0, \"Latest_Launch\": 1341100800000000000, \"Power_perf_factor\": 65.65050834, \"Passenger\": 1, \"Pred\": 18.68165218815887}, {\"Manufacturer\": \"Dodge\", \"Model\": \"Stratus\", \"Sales_in_thousands\": 71.186, \"__year_resale_value\": 10.185, \"Vehicle_type\": \"Passenger\", \"Price_in_thousands\": 20.23, \"Engine_size\": 2.5, \"Horsepower\": 168.0, \"Wheelbase\": 108.0, \"Width\": 71.0, \"Length\": 186.0, \"Curb_weight\": 3.058, \"Fuel_capacity\": 16.0, \"Fuel_efficiency\": 24.0, \"Latest_Launch\": 1320019200000000000, \"Power_perf_factor\": 67.87610784, \"Passenger\": 1, \"Pred\": 18.12078823034113}, {\"Manufacturer\": \"Dodge\", \"Model\": \"Viper\", \"Sales_in_thousands\": 0.916, \"__year_resale_value\": 58.47, \"Vehicle_type\": \"Passenger\", \"Price_in_thousands\": 69.725, \"Engine_size\": 8.0, \"Horsepower\": 450.0, \"Wheelbase\": 96.2, \"Width\": 75.7, \"Length\": 176.7, \"Curb_weight\": 3.375, \"Fuel_capacity\": 19.0, \"Fuel_efficiency\": 16.0, \"Latest_Launch\": 1312675200000000000, \"Power_perf_factor\": 188.144323, \"Passenger\": 1, \"Pred\": 77.25953454875895}, {\"Manufacturer\": \"Dodge\", \"Model\": \"Ram Pickup\", \"Sales_in_thousands\": 227.061, \"__year_resale_value\": 15.06, \"Vehicle_type\": \"Car\", \"Price_in_thousands\": 19.46, \"Engine_size\": 5.2, \"Horsepower\": 230.0, \"Wheelbase\": 138.7, \"Width\": 79.3, \"Length\": 224.2, \"Curb_weight\": 4.47, \"Fuel_capacity\": 26.0, \"Fuel_efficiency\": 17.0, \"Latest_Launch\": 1330992000000000000, \"Power_perf_factor\": 90.21170005, \"Passenger\": 0, \"Pred\": 28.467893204049396}, {\"Manufacturer\": \"Dodge\", \"Model\": \"Ram Wagon\", \"Sales_in_thousands\": 16.767, \"__year_resale_value\": 15.51, \"Vehicle_type\": \"Car\", \"Price_in_thousands\": 21.315, \"Engine_size\": 3.9, \"Horsepower\": 175.0, \"Wheelbase\": 109.6, \"Width\": 78.8, \"Length\": 192.6, \"Curb_weight\": 4.245, \"Fuel_capacity\": 32.0, \"Fuel_efficiency\": 15.0, \"Latest_Launch\": 1325808000000000000, \"Power_perf_factor\": 71.13529161, \"Passenger\": 0, \"Pred\": 25.290708125277366}, {\"Manufacturer\": \"Dodge\", \"Model\": \"Ram Van\", \"Sales_in_thousands\": 31.038, \"__year_resale_value\": 13.425, \"Vehicle_type\": \"Car\", \"Price_in_thousands\": 18.575, \"Engine_size\": 3.9, \"Horsepower\": 175.0, \"Wheelbase\": 127.2, \"Width\": 78.8, \"Length\": 208.5, \"Curb_weight\": 4.298, \"Fuel_capacity\": 32.0, \"Fuel_efficiency\": 16.0, \"Latest_Launch\": 1343260800000000000, \"Power_perf_factor\": 70.07832154, \"Passenger\": 0, \"Pred\": 24.69752527777127}, {\"Manufacturer\": \"Dodge\", \"Model\": \"Dakota\", \"Sales_in_thousands\": 111.313, \"__year_resale_value\": 11.26, \"Vehicle_type\": \"Car\", \"Price_in_thousands\": 16.98, \"Engine_size\": 2.5, \"Horsepower\": 120.0, \"Wheelbase\": 131.0, \"Width\": 71.5, \"Length\": 215.0, \"Curb_weight\": 3.557, \"Fuel_capacity\": 22.0, \"Fuel_efficiency\": 19.0, \"Latest_Launch\": 1322179200000000000, \"Power_perf_factor\": 49.64500177, \"Passenger\": 0, \"Pred\": 19.253082752405547}, {\"Manufacturer\": \"Dodge\", \"Model\": \"Caravan\", \"Sales_in_thousands\": 181.749, \"__year_resale_value\": 12.025, \"Vehicle_type\": \"Car\", \"Price_in_thousands\": 19.565, \"Engine_size\": 2.4, \"Horsepower\": 150.0, \"Wheelbase\": 113.3, \"Width\": 76.8, \"Length\": 186.3, \"Curb_weight\": 3.533, \"Fuel_capacity\": 20.0, \"Fuel_efficiency\": 24.0, \"Latest_Launch\": 1314835200000000000, \"Power_perf_factor\": 61.22700031, \"Passenger\": 0, \"Pred\": 19.278658014542586}, {\"Manufacturer\": \"Ford\", \"Model\": \"Escort\", \"Sales_in_thousands\": 70.227, \"__year_resale_value\": 7.425, \"Vehicle_type\": \"Passenger\", \"Price_in_thousands\": 12.07, \"Engine_size\": 2.0, \"Horsepower\": 110.0, \"Wheelbase\": 98.4, \"Width\": 67.0, \"Length\": 174.7, \"Curb_weight\": 2.468, \"Fuel_capacity\": 12.7, \"Fuel_efficiency\": 30.0, \"Latest_Launch\": 1333152000000000000, \"Power_perf_factor\": 44.08370946, \"Passenger\": 1, \"Pred\": 10.089206028744826}, {\"Manufacturer\": \"Ford\", \"Model\": \"Mustang\", \"Sales_in_thousands\": 113.369, \"__year_resale_value\": 12.76, \"Vehicle_type\": \"Passenger\", \"Price_in_thousands\": 21.56, \"Engine_size\": 3.8, \"Horsepower\": 190.0, \"Wheelbase\": 101.3, \"Width\": 73.1, \"Length\": 183.2, \"Curb_weight\": 3.203, \"Fuel_capacity\": 15.7, \"Fuel_efficiency\": 24.0, \"Latest_Launch\": 1327968000000000000, \"Power_perf_factor\": 76.50918456, \"Passenger\": 1, \"Pred\": 20.01479145465205}, {\"Manufacturer\": \"Ford\", \"Model\": \"Contour\", \"Sales_in_thousands\": 35.068, \"__year_resale_value\": 8.835, \"Vehicle_type\": \"Passenger\", \"Price_in_thousands\": 17.035, \"Engine_size\": 2.5, \"Horsepower\": 170.0, \"Wheelbase\": 106.5, \"Width\": 69.1, \"Length\": 184.6, \"Curb_weight\": 2.769, \"Fuel_capacity\": 15.0, \"Fuel_efficiency\": 25.0, \"Latest_Launch\": 1345420800000000000, \"Power_perf_factor\": 67.35101072, \"Passenger\": 1, \"Pred\": 15.825599886538509}, {\"Manufacturer\": \"Ford\", \"Model\": \"Taurus\", \"Sales_in_thousands\": 245.815, \"__year_resale_value\": 10.055, \"Vehicle_type\": \"Passenger\", \"Price_in_thousands\": 17.885, \"Engine_size\": 3.0, \"Horsepower\": 155.0, \"Wheelbase\": 108.5, \"Width\": 73.0, \"Length\": 197.6, \"Curb_weight\": 3.368, \"Fuel_capacity\": 16.0, \"Fuel_efficiency\": 24.0, \"Latest_Launch\": 1324339200000000000, \"Power_perf_factor\": 62.5037395, \"Passenger\": 1, \"Pred\": 15.486518131621228}, {\"Manufacturer\": \"Ford\", \"Model\": \"Crown Victoria\", \"Sales_in_thousands\": 63.403, \"__year_resale_value\": 14.21, \"Vehicle_type\": \"Passenger\", \"Price_in_thousands\": 22.195, \"Engine_size\": 4.6, \"Horsepower\": 200.0, \"Wheelbase\": 114.7, \"Width\": 78.2, \"Length\": 212.0, \"Curb_weight\": 3.908, \"Fuel_capacity\": 19.0, \"Fuel_efficiency\": 21.0, \"Latest_Launch\": 1316995200000000000, \"Power_perf_factor\": 80.49953671, \"Passenger\": 1, \"Pred\": 24.141787532274964}, {\"Manufacturer\": \"Ford\", \"Model\": \"Explorer\", \"Sales_in_thousands\": 276.747, \"__year_resale_value\": 16.64, \"Vehicle_type\": \"Car\", \"Price_in_thousands\": 31.93, \"Engine_size\": 4.0, \"Horsepower\": 210.0, \"Wheelbase\": 111.6, \"Width\": 70.2, \"Length\": 190.7, \"Curb_weight\": 3.876, \"Fuel_capacity\": 21.0, \"Fuel_efficiency\": 19.0, \"Latest_Launch\": 1335312000000000000, \"Power_perf_factor\": 87.63549578, \"Passenger\": 0, \"Pred\": 25.947832225480244}, {\"Manufacturer\": \"Ford\", \"Model\": \"Windstar\", \"Sales_in_thousands\": 155.787, \"__year_resale_value\": 13.175, \"Vehicle_type\": \"Car\", \"Price_in_thousands\": 21.41, \"Engine_size\": 3.0, \"Horsepower\": 150.0, \"Wheelbase\": 120.7, \"Width\": 76.6, \"Length\": 200.9, \"Curb_weight\": 3.761, \"Fuel_capacity\": 26.0, \"Fuel_efficiency\": 21.0, \"Latest_Launch\": 1330128000000000000, \"Power_perf_factor\": 62.09504839, \"Passenger\": 0, \"Pred\": 21.57678679820819}, {\"Manufacturer\": \"Ford\", \"Model\": \"Expedition\", \"Sales_in_thousands\": 125.338, \"__year_resale_value\": 23.575, \"Vehicle_type\": \"Car\", \"Price_in_thousands\": 36.135, \"Engine_size\": 4.6, \"Horsepower\": 240.0, \"Wheelbase\": 119.0, \"Width\": 78.7, \"Length\": 204.6, \"Curb_weight\": 4.808, \"Fuel_capacity\": 26.0, \"Fuel_efficiency\": 16.0, \"Latest_Launch\": 1347580800000000000, \"Power_perf_factor\": 100.0248023, \"Passenger\": 0, \"Pred\": 35.57187933211391}, {\"Manufacturer\": \"Ford\", \"Model\": \"Ranger\", \"Sales_in_thousands\": 220.65, \"__year_resale_value\": 7.85, \"Vehicle_type\": \"Car\", \"Price_in_thousands\": 12.05, \"Engine_size\": 2.5, \"Horsepower\": 119.0, \"Wheelbase\": 117.5, \"Width\": 69.4, \"Length\": 200.7, \"Curb_weight\": 3.086, \"Fuel_capacity\": 20.0, \"Fuel_efficiency\": 23.0, \"Latest_Launch\": 1326499200000000000, \"Power_perf_factor\": 47.38953131, \"Passenger\": 0, \"Pred\": 13.091895357555899}, {\"Manufacturer\": \"Ford\", \"Model\": \"F-Series\", \"Sales_in_thousands\": 540.561, \"__year_resale_value\": 15.075, \"Vehicle_type\": \"Car\", \"Price_in_thousands\": 26.935, \"Engine_size\": 4.6, \"Horsepower\": 220.0, \"Wheelbase\": 138.5, \"Width\": 79.1, \"Length\": 224.5, \"Curb_weight\": 4.241, \"Fuel_capacity\": 25.1, \"Fuel_efficiency\": 18.0, \"Latest_Launch\": 1345075200000000000, \"Power_perf_factor\": 89.40193473, \"Passenger\": 0, \"Pred\": 25.874010116207433}, {\"Manufacturer\": \"Honda\", \"Model\": \"Civic\", \"Sales_in_thousands\": 199.685, \"__year_resale_value\": 9.85, \"Vehicle_type\": \"Passenger\", \"Price_in_thousands\": 12.885, \"Engine_size\": 1.6, \"Horsepower\": 106.0, \"Wheelbase\": 103.2, \"Width\": 67.1, \"Length\": 175.1, \"Curb_weight\": 2.339, \"Fuel_capacity\": 11.9, \"Fuel_efficiency\": 32.0, \"Latest_Launch\": 1319155200000000000, \"Power_perf_factor\": 42.87909734, \"Passenger\": 1, \"Pred\": 12.09769693380533}, {\"Manufacturer\": \"Honda\", \"Model\": \"Accord\", \"Sales_in_thousands\": 230.902, \"__year_resale_value\": 13.21, \"Vehicle_type\": \"Passenger\", \"Price_in_thousands\": 15.35, \"Engine_size\": 2.3, \"Horsepower\": 135.0, \"Wheelbase\": 106.9, \"Width\": 70.3, \"Length\": 188.8, \"Curb_weight\": 2.932, \"Fuel_capacity\": 17.1, \"Fuel_efficiency\": 27.0, \"Latest_Launch\": 1337472000000000000, \"Power_perf_factor\": 54.26954829, \"Passenger\": 1, \"Pred\": 16.56692871622837}, {\"Manufacturer\": \"Honda\", \"Model\": \"CR-V\", \"Sales_in_thousands\": 73.203, \"__year_resale_value\": 17.71, \"Vehicle_type\": \"Car\", \"Price_in_thousands\": 20.55, \"Engine_size\": 2.0, \"Horsepower\": 146.0, \"Wheelbase\": 103.2, \"Width\": 68.9, \"Length\": 177.6, \"Curb_weight\": 3.219, \"Fuel_capacity\": 15.3, \"Fuel_efficiency\": 24.0, \"Latest_Launch\": 1332288000000000000, \"Power_perf_factor\": 60.08796662, \"Passenger\": 0, \"Pred\": 22.22993526898113}, {\"Manufacturer\": \"Honda\", \"Model\": \"Passport\", \"Sales_in_thousands\": 12.855, \"__year_resale_value\": 17.525, \"Vehicle_type\": \"Car\", \"Price_in_thousands\": 26.6, \"Engine_size\": 3.2, \"Horsepower\": 205.0, \"Wheelbase\": 106.4, \"Width\": 70.4, \"Length\": 178.2, \"Curb_weight\": 3.857, \"Fuel_capacity\": 21.1, \"Fuel_efficiency\": 19.0, \"Latest_Launch\": 1349740800000000000, \"Power_perf_factor\": 83.6025008, \"Passenger\": 0, \"Pred\": 26.75512021680511}, {\"Manufacturer\": \"Honda\", \"Model\": \"Odyssey\", \"Sales_in_thousands\": 76.029, \"__year_resale_value\": 19.49, \"Vehicle_type\": \"Car\", \"Price_in_thousands\": 26.0, \"Engine_size\": 3.5, \"Horsepower\": 210.0, \"Wheelbase\": 118.1, \"Width\": 75.6, \"Length\": 201.2, \"Curb_weight\": 4.288, \"Fuel_capacity\": 20.0, \"Fuel_efficiency\": 23.0, \"Latest_Launch\": 1328659200000000000, \"Power_perf_factor\": 85.21769134, \"Passenger\": 0, \"Pred\": 29.772537583087328}, {\"Manufacturer\": \"Hyundai\", \"Model\": \"Accent\", \"Sales_in_thousands\": 41.184, \"__year_resale_value\": 5.86, \"Vehicle_type\": \"Passenger\", \"Price_in_thousands\": 9.699, \"Engine_size\": 1.5, \"Horsepower\": 92.0, \"Wheelbase\": 96.1, \"Width\": 65.7, \"Length\": 166.7, \"Curb_weight\": 2.24, \"Fuel_capacity\": 11.9, \"Fuel_efficiency\": 31.0, \"Latest_Launch\": 1347235200000000000, \"Power_perf_factor\": 36.67228358, \"Passenger\": 1, \"Pred\": 7.109447045887769}, {\"Manufacturer\": \"Hyundai\", \"Model\": \"Elantra\", \"Sales_in_thousands\": 66.692, \"__year_resale_value\": 7.825, \"Vehicle_type\": \"Passenger\", \"Price_in_thousands\": 11.799, \"Engine_size\": 2.0, \"Horsepower\": 140.0, \"Wheelbase\": 100.4, \"Width\": 66.9, \"Length\": 174.0, \"Curb_weight\": 2.626, \"Fuel_capacity\": 14.5, \"Fuel_efficiency\": 27.0, \"Latest_Launch\": 1321315200000000000, \"Power_perf_factor\": 54.59004516, \"Passenger\": 1, \"Pred\": 12.867328297310948}, {\"Manufacturer\": \"Hyundai\", \"Model\": \"Sonata\", \"Sales_in_thousands\": 29.45, \"__year_resale_value\": 8.91, \"Vehicle_type\": \"Passenger\", \"Price_in_thousands\": 14.999, \"Engine_size\": 2.4, \"Horsepower\": 148.0, \"Wheelbase\": 106.3, \"Width\": 71.6, \"Length\": 185.4, \"Curb_weight\": 3.072, \"Fuel_capacity\": 17.2, \"Fuel_efficiency\": 25.0, \"Latest_Launch\": 1339632000000000000, \"Power_perf_factor\": 58.758249, \"Passenger\": 1, \"Pred\": 15.017961060026295}, {\"Manufacturer\": \"Infiniti\", \"Model\": \"I30\", \"Sales_in_thousands\": 23.713, \"__year_resale_value\": 19.69, \"Vehicle_type\": \"Passenger\", \"Price_in_thousands\": 29.465, \"Engine_size\": 3.0, \"Horsepower\": 227.0, \"Wheelbase\": 108.3, \"Width\": 70.2, \"Length\": 193.7, \"Curb_weight\": 3.342, \"Fuel_capacity\": 18.5, \"Fuel_efficiency\": 25.0, \"Latest_Launch\": 1334448000000000000, \"Power_perf_factor\": 92.43688923, \"Passenger\": 1, \"Pred\": 29.922177894535025}, {\"Manufacturer\": \"Jeep\", \"Model\": \"Wrangler\", \"Sales_in_thousands\": 55.557, \"__year_resale_value\": 13.475, \"Vehicle_type\": \"Car\", \"Price_in_thousands\": 14.46, \"Engine_size\": 2.5, \"Horsepower\": 120.0, \"Wheelbase\": 93.4, \"Width\": 66.7, \"Length\": 152.0, \"Curb_weight\": 3.045, \"Fuel_capacity\": 19.0, \"Fuel_efficiency\": 17.0, \"Latest_Launch\": 1330819200000000000, \"Power_perf_factor\": 48.67289791, \"Passenger\": 0, \"Pred\": 16.73269231667573}, {\"Manufacturer\": \"Jeep\", \"Model\": \"Cherokee\", \"Sales_in_thousands\": 80.556, \"__year_resale_value\": 13.775, \"Vehicle_type\": \"Car\", \"Price_in_thousands\": 21.62, \"Engine_size\": 4.0, \"Horsepower\": 190.0, \"Wheelbase\": 101.4, \"Width\": 69.4, \"Length\": 167.5, \"Curb_weight\": 3.194, \"Fuel_capacity\": 20.0, \"Fuel_efficiency\": 20.0, \"Latest_Launch\": 1349395200000000000, \"Power_perf_factor\": 76.58443962, \"Passenger\": 0, \"Pred\": 21.366012179965526}, {\"Manufacturer\": \"Jeep\", \"Model\": \"Grand Cherokee\", \"Sales_in_thousands\": 157.04, \"__year_resale_value\": 18.81, \"Vehicle_type\": \"Car\", \"Price_in_thousands\": 26.895, \"Engine_size\": 4.0, \"Horsepower\": 195.0, \"Wheelbase\": 105.9, \"Width\": 72.3, \"Length\": 181.5, \"Curb_weight\": 3.88, \"Fuel_capacity\": 20.5, \"Fuel_efficiency\": 19.0, \"Latest_Launch\": 1323475200000000000, \"Power_perf_factor\": 80.38777912, \"Passenger\": 0, \"Pred\": 27.03327755029536}, {\"Manufacturer\": \"Lexus\", \"Model\": \"ES300\", \"Sales_in_thousands\": 24.072, \"__year_resale_value\": 26.975, \"Vehicle_type\": \"Passenger\", \"Price_in_thousands\": 31.505, \"Engine_size\": 3.0, \"Horsepower\": 210.0, \"Wheelbase\": 105.1, \"Width\": 70.5, \"Length\": 190.2, \"Curb_weight\": 3.373, \"Fuel_capacity\": 18.5, \"Fuel_efficiency\": 23.0, \"Latest_Launch\": 1341792000000000000, \"Power_perf_factor\": 87.21100104, \"Passenger\": 1, \"Pred\": 34.65083139592599}, {\"Manufacturer\": \"Lexus\", \"Model\": \"GS300\", \"Sales_in_thousands\": 12.698, \"__year_resale_value\": 32.075, \"Vehicle_type\": \"Passenger\", \"Price_in_thousands\": 37.805, \"Engine_size\": 3.0, \"Horsepower\": 225.0, \"Wheelbase\": 110.2, \"Width\": 70.9, \"Length\": 189.2, \"Curb_weight\": 3.638, \"Fuel_capacity\": 19.8, \"Fuel_efficiency\": 23.0, \"Latest_Launch\": 1336608000000000000, \"Power_perf_factor\": 94.9466984, \"Passenger\": 1, \"Pred\": 41.48185435488839}, {\"Manufacturer\": \"Lexus\", \"Model\": \"LS400\", \"Sales_in_thousands\": 6.375, \"__year_resale_value\": 40.375, \"Vehicle_type\": \"Passenger\", \"Price_in_thousands\": 54.005, \"Engine_size\": 4.0, \"Horsepower\": 290.0, \"Wheelbase\": 112.2, \"Width\": 72.0, \"Length\": 196.7, \"Curb_weight\": 3.89, \"Fuel_capacity\": 22.5, \"Fuel_efficiency\": 22.0, \"Latest_Launch\": 1332979200000000000, \"Power_perf_factor\": 124.4467163, \"Passenger\": 1, \"Pred\": 53.99104383841714}, {\"Manufacturer\": \"Lincoln\", \"Model\": \"Continental\", \"Sales_in_thousands\": 13.798, \"__year_resale_value\": 20.525, \"Vehicle_type\": \"Passenger\", \"Price_in_thousands\": 39.08, \"Engine_size\": 4.6, \"Horsepower\": 275.0, \"Wheelbase\": 109.0, \"Width\": 73.6, \"Length\": 208.5, \"Curb_weight\": 3.868, \"Fuel_capacity\": 20.0, \"Fuel_efficiency\": 22.0, \"Latest_Launch\": 1343952000000000000, \"Power_perf_factor\": 113.5402069, \"Passenger\": 1, \"Pred\": 33.76729141454729}, {\"Manufacturer\": \"Lincoln\", \"Model\": \"Town car\", \"Sales_in_thousands\": 48.911, \"__year_resale_value\": 21.725, \"Vehicle_type\": \"Passenger\", \"Price_in_thousands\": 43.33, \"Engine_size\": 4.6, \"Horsepower\": 215.0, \"Wheelbase\": 117.7, \"Width\": 78.2, \"Length\": 215.3, \"Curb_weight\": 4.121, \"Fuel_capacity\": 19.0, \"Fuel_efficiency\": 21.0, \"Latest_Launch\": 1338768000000000000, \"Power_perf_factor\": 93.9579169, \"Passenger\": 1, \"Pred\": 33.0830921598817}, {\"Manufacturer\": \"Mitsubishi\", \"Model\": \"Mirage\", \"Sales_in_thousands\": 26.232, \"__year_resale_value\": 8.325, \"Vehicle_type\": \"Passenger\", \"Price_in_thousands\": 13.987, \"Engine_size\": 1.8, \"Horsepower\": 113.0, \"Wheelbase\": 98.4, \"Width\": 66.5, \"Length\": 173.6, \"Curb_weight\": 2.25, \"Fuel_capacity\": 13.2, \"Fuel_efficiency\": 30.0, \"Latest_Launch\": 1335139200000000000, \"Power_perf_factor\": 45.83218056, \"Passenger\": 1, \"Pred\": 11.518322607054849}, {\"Manufacturer\": \"Mitsubishi\", \"Model\": \"Eclipse\", \"Sales_in_thousands\": 42.541, \"__year_resale_value\": 10.395, \"Vehicle_type\": \"Passenger\", \"Price_in_thousands\": 19.047, \"Engine_size\": 2.4, \"Horsepower\": 154.0, \"Wheelbase\": 100.8, \"Width\": 68.9, \"Length\": 175.4, \"Curb_weight\": 2.91, \"Fuel_capacity\": 15.9, \"Fuel_efficiency\": 24.0, \"Latest_Launch\": 1353715200000000000, \"Power_perf_factor\": 62.44196235, \"Passenger\": 1, \"Pred\": 15.712932939668967}, {\"Manufacturer\": \"Mitsubishi\", \"Model\": \"Galant\", \"Sales_in_thousands\": 55.616, \"__year_resale_value\": 10.595, \"Vehicle_type\": \"Passenger\", \"Price_in_thousands\": 17.357, \"Engine_size\": 2.4, \"Horsepower\": 145.0, \"Wheelbase\": 103.7, \"Width\": 68.5, \"Length\": 187.8, \"Curb_weight\": 2.945, \"Fuel_capacity\": 16.3, \"Fuel_efficiency\": 25.0, \"Latest_Launch\": 1327795200000000000, \"Power_perf_factor\": 58.60677292, \"Passenger\": 1, \"Pred\": 16.217322758014895}, {\"Manufacturer\": \"Mitsubishi\", \"Model\": \"Diamante\", \"Sales_in_thousands\": 5.711, \"__year_resale_value\": 16.575, \"Vehicle_type\": \"Passenger\", \"Price_in_thousands\": 24.997, \"Engine_size\": 3.5, \"Horsepower\": 210.0, \"Wheelbase\": 107.1, \"Width\": 70.3, \"Length\": 194.1, \"Curb_weight\": 3.443, \"Fuel_capacity\": 19.0, \"Fuel_efficiency\": 22.0, \"Latest_Launch\": 1346112000000000000, \"Power_perf_factor\": 84.83077858, \"Passenger\": 1, \"Pred\": 25.64932069037695}, {\"Manufacturer\": \"Mitsubishi\", \"Model\": \"3000GT\", \"Sales_in_thousands\": 0.11, \"__year_resale_value\": 20.94, \"Vehicle_type\": \"Passenger\", \"Price_in_thousands\": 25.45, \"Engine_size\": 3.0, \"Horsepower\": 161.0, \"Wheelbase\": 97.2, \"Width\": 72.4, \"Length\": 180.3, \"Curb_weight\": 3.131, \"Fuel_capacity\": 19.8, \"Fuel_efficiency\": 21.0, \"Latest_Launch\": 1340928000000000000, \"Power_perf_factor\": 67.54415494, \"Passenger\": 1, \"Pred\": 26.04317858757529}, {\"Manufacturer\": \"Mitsubishi\", \"Model\": \"Montero\", \"Sales_in_thousands\": 11.337, \"__year_resale_value\": 19.125, \"Vehicle_type\": \"Car\", \"Price_in_thousands\": 31.807, \"Engine_size\": 3.5, \"Horsepower\": 200.0, \"Wheelbase\": 107.3, \"Width\": 69.9, \"Length\": 186.6, \"Curb_weight\": 4.52, \"Fuel_capacity\": 24.3, \"Fuel_efficiency\": 18.0, \"Latest_Launch\": 1326758400000000000, \"Power_perf_factor\": 83.92081504, \"Passenger\": 0, \"Pred\": 29.57077753235694}, {\"Manufacturer\": \"Mitsubishi\", \"Model\": \"Montero Sport\", \"Sales_in_thousands\": 39.348, \"__year_resale_value\": 13.88, \"Vehicle_type\": \"Car\", \"Price_in_thousands\": 22.527, \"Engine_size\": 3.0, \"Horsepower\": 173.0, \"Wheelbase\": 107.3, \"Width\": 66.7, \"Length\": 178.3, \"Curb_weight\": 3.51, \"Fuel_capacity\": 19.5, \"Fuel_efficiency\": 20.0, \"Latest_Launch\": 1337299200000000000, \"Power_perf_factor\": 70.66094179, \"Passenger\": 0, \"Pred\": 21.910579769327878}, {\"Manufacturer\": \"Mercury\", \"Model\": \"Mystique\", \"Sales_in_thousands\": 14.351, \"__year_resale_value\": 8.8, \"Vehicle_type\": \"Passenger\", \"Price_in_thousands\": 16.24, \"Engine_size\": 2.0, \"Horsepower\": 125.0, \"Wheelbase\": 106.5, \"Width\": 69.1, \"Length\": 184.8, \"Curb_weight\": 2.769, \"Fuel_capacity\": 15.0, \"Fuel_efficiency\": 28.0, \"Latest_Launch\": 1355875200000000000, \"Power_perf_factor\": 50.99774761, \"Passenger\": 1, \"Pred\": 13.214120614089595}, {\"Manufacturer\": \"Mercury\", \"Model\": \"Cougar\", \"Sales_in_thousands\": 26.529, \"__year_resale_value\": 13.89, \"Vehicle_type\": \"Passenger\", \"Price_in_thousands\": 16.54, \"Engine_size\": 2.0, \"Horsepower\": 125.0, \"Wheelbase\": 106.4, \"Width\": 69.6, \"Length\": 185.0, \"Curb_weight\": 2.892, \"Fuel_capacity\": 16.0, \"Fuel_efficiency\": 30.0, \"Latest_Launch\": 1329955200000000000, \"Power_perf_factor\": 51.11347426, \"Passenger\": 1, \"Pred\": 18.36409431558128}, {\"Manufacturer\": \"Mercury\", \"Model\": \"Sable\", \"Sales_in_thousands\": 67.956, \"__year_resale_value\": 11.03, \"Vehicle_type\": \"Passenger\", \"Price_in_thousands\": 19.035, \"Engine_size\": 3.0, \"Horsepower\": 153.0, \"Wheelbase\": 108.5, \"Width\": 73.0, \"Length\": 199.7, \"Curb_weight\": 3.379, \"Fuel_capacity\": 16.0, \"Fuel_efficiency\": 24.0, \"Latest_Launch\": 1348272000000000000, \"Power_perf_factor\": 62.23996663, \"Passenger\": 1, \"Pred\": 16.689733926817897}, {\"Manufacturer\": \"Mercury\", \"Model\": \"Grand Marquis\", \"Sales_in_thousands\": 81.174, \"__year_resale_value\": 14.875, \"Vehicle_type\": \"Passenger\", \"Price_in_thousands\": 22.605, \"Engine_size\": 4.6, \"Horsepower\": 200.0, \"Wheelbase\": 114.7, \"Width\": 78.2, \"Length\": 212.0, \"Curb_weight\": 3.958, \"Fuel_capacity\": 19.0, \"Fuel_efficiency\": 21.0, \"Latest_Launch\": 1343088000000000000, \"Power_perf_factor\": 80.65769646, \"Passenger\": 1, \"Pred\": 23.68510401068005}, {\"Manufacturer\": \"Mercury\", \"Model\": \"Mountaineer\", \"Sales_in_thousands\": 27.609, \"__year_resale_value\": 20.43, \"Vehicle_type\": \"Car\", \"Price_in_thousands\": 27.56, \"Engine_size\": 4.0, \"Horsepower\": 210.0, \"Wheelbase\": 111.6, \"Width\": 70.2, \"Length\": 190.1, \"Curb_weight\": 3.876, \"Fuel_capacity\": 21.0, \"Fuel_efficiency\": 18.0, \"Latest_Launch\": 1202860800000000000, \"Power_perf_factor\": 85.94974425, \"Passenger\": 0, \"Pred\": 35.06076595850038}, {\"Manufacturer\": \"Mercury\", \"Model\": \"Villager\", \"Sales_in_thousands\": 20.38, \"__year_resale_value\": 14.795, \"Vehicle_type\": \"Car\", \"Price_in_thousands\": 22.51, \"Engine_size\": 3.3, \"Horsepower\": 170.0, \"Wheelbase\": 112.2, \"Width\": 74.9, \"Length\": 194.7, \"Curb_weight\": 3.944, \"Fuel_capacity\": 20.0, \"Fuel_efficiency\": 21.0, \"Latest_Launch\": 1255996800000000000, \"Power_perf_factor\": 69.671461, \"Passenger\": 0, \"Pred\": 25.80771921270178}, {\"Manufacturer\": \"Mercedes-B\", \"Model\": \"C-Class\", \"Sales_in_thousands\": 18.392, \"__year_resale_value\": 26.05, \"Vehicle_type\": \"Passenger\", \"Price_in_thousands\": 31.75, \"Engine_size\": 2.3, \"Horsepower\": 185.0, \"Wheelbase\": 105.9, \"Width\": 67.7, \"Length\": 177.4, \"Curb_weight\": 3.25, \"Fuel_capacity\": 16.4, \"Fuel_efficiency\": 26.0, \"Latest_Launch\": 1303603200000000000, \"Power_perf_factor\": 78.28073088, \"Passenger\": 1, \"Pred\": 34.229757188597354}, {\"Manufacturer\": \"Mercedes-B\", \"Model\": \"E-Class\", \"Sales_in_thousands\": 27.602, \"__year_resale_value\": 41.45, \"Vehicle_type\": \"Passenger\", \"Price_in_thousands\": 49.9, \"Engine_size\": 3.2, \"Horsepower\": 221.0, \"Wheelbase\": 111.5, \"Width\": 70.8, \"Length\": 189.4, \"Curb_weight\": 3.823, \"Fuel_capacity\": 21.1, \"Fuel_efficiency\": 25.0, \"Latest_Launch\": 1310428800000000000, \"Power_perf_factor\": 98.2497375, \"Passenger\": 1, \"Pred\": 51.50584748755403}, {\"Manufacturer\": \"Mercedes-B\", \"Model\": \"S-Class\", \"Sales_in_thousands\": 16.774, \"__year_resale_value\": 50.375, \"Vehicle_type\": \"Passenger\", \"Price_in_thousands\": 69.7, \"Engine_size\": 4.3, \"Horsepower\": 275.0, \"Wheelbase\": 121.5, \"Width\": 73.1, \"Length\": 203.1, \"Curb_weight\": 4.133, \"Fuel_capacity\": 23.2, \"Fuel_efficiency\": 21.0, \"Latest_Launch\": 1307923200000000000, \"Power_perf_factor\": 125.2738757, \"Passenger\": 1, \"Pred\": 65.28878087664236}, {\"Manufacturer\": \"Mercedes-B\", \"Model\": \"SL-Class\", \"Sales_in_thousands\": 3.311, \"__year_resale_value\": 58.6, \"Vehicle_type\": \"Passenger\", \"Price_in_thousands\": 82.6, \"Engine_size\": 5.0, \"Horsepower\": 302.0, \"Wheelbase\": 99.0, \"Width\": 71.3, \"Length\": 177.1, \"Curb_weight\": 4.125, \"Fuel_capacity\": 21.1, \"Fuel_efficiency\": 20.0, \"Latest_Launch\": 1300320000000000000, \"Power_perf_factor\": 139.9822936, \"Passenger\": 1, \"Pred\": 72.3817995307908}, {\"Manufacturer\": \"Nissan\", \"Model\": \"Sentra\", \"Sales_in_thousands\": 42.643, \"__year_resale_value\": 8.45, \"Vehicle_type\": \"Passenger\", \"Price_in_thousands\": 13.499, \"Engine_size\": 1.8, \"Horsepower\": 126.0, \"Wheelbase\": 99.8, \"Width\": 67.3, \"Length\": 177.5, \"Curb_weight\": 2.593, \"Fuel_capacity\": 13.2, \"Fuel_efficiency\": 30.0, \"Latest_Launch\": 1314748800000000000, \"Power_perf_factor\": 50.24197791, \"Passenger\": 1, \"Pred\": 12.914246607666264}, {\"Manufacturer\": \"Nissan\", \"Model\": \"Altima\", \"Sales_in_thousands\": 88.094, \"__year_resale_value\": 11.295, \"Vehicle_type\": \"Passenger\", \"Price_in_thousands\": 20.39, \"Engine_size\": 2.4, \"Horsepower\": 155.0, \"Wheelbase\": 103.1, \"Width\": 69.1, \"Length\": 183.5, \"Curb_weight\": 3.012, \"Fuel_capacity\": 15.9, \"Fuel_efficiency\": 25.0, \"Latest_Launch\": 1312243200000000000, \"Power_perf_factor\": 63.31372783, \"Passenger\": 1, \"Pred\": 17.910342159155164}, {\"Manufacturer\": \"Nissan\", \"Model\": \"Maxima\", \"Sales_in_thousands\": 79.853, \"__year_resale_value\": 15.125, \"Vehicle_type\": \"Passenger\", \"Price_in_thousands\": 26.249, \"Engine_size\": 3.0, \"Horsepower\": 222.0, \"Wheelbase\": 108.3, \"Width\": 70.3, \"Length\": 190.5, \"Curb_weight\": 3.294, \"Fuel_capacity\": 18.5, \"Fuel_efficiency\": 25.0, \"Latest_Launch\": 1304640000000000000, \"Power_perf_factor\": 89.42782031, \"Passenger\": 1, \"Pred\": 26.29941688086059}, {\"Manufacturer\": \"Nissan\", \"Model\": \"Quest\", \"Sales_in_thousands\": 27.308, \"__year_resale_value\": 15.38, \"Vehicle_type\": \"Car\", \"Price_in_thousands\": 26.399, \"Engine_size\": 3.3, \"Horsepower\": 170.0, \"Wheelbase\": 112.2, \"Width\": 74.9, \"Length\": 194.8, \"Curb_weight\": 3.991, \"Fuel_capacity\": 20.0, \"Fuel_efficiency\": 21.0, \"Latest_Launch\": 1299456000000000000, \"Power_perf_factor\": 71.17166413, \"Passenger\": 0, \"Pred\": 25.13069132468709}, {\"Manufacturer\": \"Nissan\", \"Model\": \"Pathfinder\", \"Sales_in_thousands\": 42.574, \"__year_resale_value\": 17.81, \"Vehicle_type\": \"Car\", \"Price_in_thousands\": 29.299, \"Engine_size\": 3.3, \"Horsepower\": 170.0, \"Wheelbase\": 106.3, \"Width\": 71.7, \"Length\": 182.6, \"Curb_weight\": 3.947, \"Fuel_capacity\": 21.0, \"Fuel_efficiency\": 19.0, \"Latest_Launch\": 1316908800000000000, \"Power_perf_factor\": 72.29035508, \"Passenger\": 0, \"Pred\": 26.343666021148277}, {\"Manufacturer\": \"Oldsmobile\", \"Model\": \"Cutlass\", \"Sales_in_thousands\": 1.112, \"__year_resale_value\": 11.24, \"Vehicle_type\": \"Passenger\", \"Price_in_thousands\": 18.145, \"Engine_size\": 3.1, \"Horsepower\": 150.0, \"Wheelbase\": 107.0, \"Width\": 69.4, \"Length\": 192.0, \"Curb_weight\": 3.102, \"Fuel_capacity\": 15.2, \"Fuel_efficiency\": 25.0, \"Latest_Launch\": 1306800000000000000, \"Power_perf_factor\": 60.86161155, \"Passenger\": 1, \"Pred\": 18.47815105955042}, {\"Manufacturer\": \"Oldsmobile\", \"Model\": \"Aurora\", \"Sales_in_thousands\": 14.69, \"__year_resale_value\": 19.89, \"Vehicle_type\": \"Passenger\", \"Price_in_thousands\": 36.229, \"Engine_size\": 4.0, \"Horsepower\": 250.0, \"Wheelbase\": 113.8, \"Width\": 74.4, \"Length\": 205.4, \"Curb_weight\": 3.967, \"Fuel_capacity\": 18.5, \"Fuel_efficiency\": 22.0, \"Latest_Launch\": 1297987200000000000, \"Power_perf_factor\": 103.4416926, \"Passenger\": 1, \"Pred\": 33.84773353007617}, {\"Manufacturer\": \"Oldsmobile\", \"Model\": \"Bravada\", \"Sales_in_thousands\": 20.017, \"__year_resale_value\": 19.925, \"Vehicle_type\": \"Car\", \"Price_in_thousands\": 31.598, \"Engine_size\": 4.3, \"Horsepower\": 190.0, \"Wheelbase\": 107.0, \"Width\": 67.8, \"Length\": 181.2, \"Curb_weight\": 4.068, \"Fuel_capacity\": 17.5, \"Fuel_efficiency\": 19.0, \"Latest_Launch\": 1316563200000000000, \"Power_perf_factor\": 80.51167259, \"Passenger\": 0, \"Pred\": 29.293038525695135}, {\"Manufacturer\": \"Oldsmobile\", \"Model\": \"Silhouette\", \"Sales_in_thousands\": 24.361, \"__year_resale_value\": 15.24, \"Vehicle_type\": \"Car\", \"Price_in_thousands\": 25.345, \"Engine_size\": 3.4, \"Horsepower\": 185.0, \"Wheelbase\": 120.0, \"Width\": 72.2, \"Length\": 201.4, \"Curb_weight\": 3.948, \"Fuel_capacity\": 25.0, \"Fuel_efficiency\": 22.0, \"Latest_Launch\": 1308960000000000000, \"Power_perf_factor\": 76.09657042, \"Passenger\": 0, \"Pred\": 26.96586002559786}, {\"Manufacturer\": \"Plymouth\", \"Model\": \"Neon\", \"Sales_in_thousands\": 32.734, \"__year_resale_value\": 7.75, \"Vehicle_type\": \"Passenger\", \"Price_in_thousands\": 12.64, \"Engine_size\": 2.0, \"Horsepower\": 132.0, \"Wheelbase\": 105.0, \"Width\": 74.4, \"Length\": 174.4, \"Curb_weight\": 2.559, \"Fuel_capacity\": 12.5, \"Fuel_efficiency\": 29.0, \"Latest_Launch\": 1303776000000000000, \"Power_perf_factor\": 52.08489875, \"Passenger\": 1, \"Pred\": 13.689245193345464}, {\"Manufacturer\": \"Plymouth\", \"Model\": \"Breeze\", \"Sales_in_thousands\": 5.24, \"__year_resale_value\": 9.8, \"Vehicle_type\": \"Passenger\", \"Price_in_thousands\": 16.08, \"Engine_size\": 2.0, \"Horsepower\": 132.0, \"Wheelbase\": 108.0, \"Width\": 71.0, \"Length\": 186.3, \"Curb_weight\": 2.942, \"Fuel_capacity\": 16.0, \"Fuel_efficiency\": 27.0, \"Latest_Launch\": 1321228800000000000, \"Power_perf_factor\": 53.41189767, \"Passenger\": 1, \"Pred\": 15.946140715547983}, {\"Manufacturer\": \"Plymouth\", \"Model\": \"Voyager\", \"Sales_in_thousands\": 24.155, \"__year_resale_value\": 12.025, \"Vehicle_type\": \"Car\", \"Price_in_thousands\": 18.85, \"Engine_size\": 2.4, \"Horsepower\": 150.0, \"Wheelbase\": 113.3, \"Width\": 76.8, \"Length\": 186.3, \"Curb_weight\": 3.528, \"Fuel_capacity\": 20.0, \"Fuel_efficiency\": 24.0, \"Latest_Launch\": 1303603200000000000, \"Power_perf_factor\": 60.95118512, \"Passenger\": 0, \"Pred\": 20.726012205074834}, {\"Manufacturer\": \"Pontiac\", \"Model\": \"Sunfire\", \"Sales_in_thousands\": 51.645, \"__year_resale_value\": 13.79, \"Vehicle_type\": \"Passenger\", \"Price_in_thousands\": 21.61, \"Engine_size\": 2.4, \"Horsepower\": 150.0, \"Wheelbase\": 104.1, \"Width\": 68.4, \"Length\": 181.9, \"Curb_weight\": 2.906, \"Fuel_capacity\": 15.0, \"Fuel_efficiency\": 27.0, \"Latest_Launch\": 1327449600000000000, \"Power_perf_factor\": 62.0158703, \"Passenger\": 1, \"Pred\": 19.648133253493217}, {\"Manufacturer\": \"Pontiac\", \"Model\": \"Grand Am\", \"Sales_in_thousands\": 131.097, \"__year_resale_value\": 10.29, \"Vehicle_type\": \"Passenger\", \"Price_in_thousands\": 19.72, \"Engine_size\": 3.4, \"Horsepower\": 175.0, \"Wheelbase\": 107.0, \"Width\": 70.4, \"Length\": 186.3, \"Curb_weight\": 3.091, \"Fuel_capacity\": 15.2, \"Fuel_efficiency\": 25.0, \"Latest_Launch\": 1353888000000000000, \"Power_perf_factor\": 70.38973726, \"Passenger\": 1, \"Pred\": 16.677176888991138}, {\"Manufacturer\": \"Pontiac\", \"Model\": \"Firebird\", \"Sales_in_thousands\": 19.911, \"__year_resale_value\": 17.805, \"Vehicle_type\": \"Passenger\", \"Price_in_thousands\": 25.31, \"Engine_size\": 3.8, \"Horsepower\": 200.0, \"Wheelbase\": 101.1, \"Width\": 74.5, \"Length\": 193.4, \"Curb_weight\": 3.492, \"Fuel_capacity\": 16.8, \"Fuel_efficiency\": 25.0, \"Latest_Launch\": 1339804800000000000, \"Power_perf_factor\": 81.49272616, \"Passenger\": 1, \"Pred\": 25.15897530521554}, {\"Manufacturer\": \"Pontiac\", \"Model\": \"Grand Prix\", \"Sales_in_thousands\": 92.364, \"__year_resale_value\": 14.01, \"Vehicle_type\": \"Passenger\", \"Price_in_thousands\": 21.665, \"Engine_size\": 3.8, \"Horsepower\": 195.0, \"Wheelbase\": 110.5, \"Width\": 72.7, \"Length\": 196.5, \"Curb_weight\": 3.396, \"Fuel_capacity\": 18.0, \"Fuel_efficiency\": 25.0, \"Latest_Launch\": 1350259200000000000, \"Power_perf_factor\": 78.31816813, \"Passenger\": 1, \"Pred\": 21.955760443106236}, {\"Manufacturer\": \"Pontiac\", \"Model\": \"Bonneville\", \"Sales_in_thousands\": 35.945, \"__year_resale_value\": 13.225, \"Vehicle_type\": \"Passenger\", \"Price_in_thousands\": 23.755, \"Engine_size\": 3.8, \"Horsepower\": 205.0, \"Wheelbase\": 112.2, \"Width\": 72.6, \"Length\": 202.5, \"Curb_weight\": 3.59, \"Fuel_capacity\": 17.5, \"Fuel_efficiency\": 24.0, \"Latest_Launch\": 1305676800000000000, \"Power_perf_factor\": 82.6613556, \"Passenger\": 1, \"Pred\": 24.046975285689488}, {\"Manufacturer\": \"Porsche\", \"Model\": \"Boxter\", \"Sales_in_thousands\": 8.982, \"__year_resale_value\": 41.25, \"Vehicle_type\": \"Passenger\", \"Price_in_thousands\": 41.43, \"Engine_size\": 2.7, \"Horsepower\": 217.0, \"Wheelbase\": 95.2, \"Width\": 70.1, \"Length\": 171.0, \"Curb_weight\": 2.778, \"Fuel_capacity\": 17.0, \"Fuel_efficiency\": 22.0, \"Latest_Launch\": 1329609600000000000, \"Power_perf_factor\": 93.4373307, \"Passenger\": 1, \"Pred\": 47.21586403372301}, {\"Manufacturer\": \"Porsche\", \"Model\": \"Carrera Coupe\", \"Sales_in_thousands\": 1.28, \"__year_resale_value\": 60.625, \"Vehicle_type\": \"Passenger\", \"Price_in_thousands\": 71.02, \"Engine_size\": 3.4, \"Horsepower\": 300.0, \"Wheelbase\": 92.6, \"Width\": 69.5, \"Length\": 174.5, \"Curb_weight\": 3.032, \"Fuel_capacity\": 17.0, \"Fuel_efficiency\": 21.0, \"Latest_Launch\": 1356048000000000000, \"Power_perf_factor\": 134.3909754, \"Passenger\": 1, \"Pred\": 69.23699892780033}, {\"Manufacturer\": \"Porsche\", \"Model\": \"Carrera Cabrio\", \"Sales_in_thousands\": 1.866, \"__year_resale_value\": 67.55, \"Vehicle_type\": \"Passenger\", \"Price_in_thousands\": 74.97, \"Engine_size\": 3.4, \"Horsepower\": 300.0, \"Wheelbase\": 92.6, \"Width\": 69.5, \"Length\": 174.5, \"Curb_weight\": 3.075, \"Fuel_capacity\": 17.0, \"Fuel_efficiency\": 23.0, \"Latest_Launch\": 1310342400000000000, \"Power_perf_factor\": 135.9147096, \"Passenger\": 1, \"Pred\": 76.97515944503775}, {\"Manufacturer\": \"Saturn\", \"Model\": \"SL\", \"Sales_in_thousands\": 80.62, \"__year_resale_value\": 9.2, \"Vehicle_type\": \"Passenger\", \"Price_in_thousands\": 10.685, \"Engine_size\": 1.9, \"Horsepower\": 100.0, \"Wheelbase\": 102.4, \"Width\": 66.4, \"Length\": 176.9, \"Curb_weight\": 2.332, \"Fuel_capacity\": 12.1, \"Fuel_efficiency\": 33.0, \"Latest_Launch\": 1345075200000000000, \"Power_perf_factor\": 39.98642475, \"Passenger\": 1, \"Pred\": 10.846922420155984}, {\"Manufacturer\": \"Saturn\", \"Model\": \"SC\", \"Sales_in_thousands\": 24.546, \"__year_resale_value\": 10.59, \"Vehicle_type\": \"Passenger\", \"Price_in_thousands\": 12.535, \"Engine_size\": 1.9, \"Horsepower\": 100.0, \"Wheelbase\": 102.4, \"Width\": 66.4, \"Length\": 180.0, \"Curb_weight\": 2.367, \"Fuel_capacity\": 12.1, \"Fuel_efficiency\": 33.0, \"Latest_Launch\": 1300233600000000000, \"Power_perf_factor\": 40.70007242, \"Passenger\": 1, \"Pred\": 14.098568233343805}, {\"Manufacturer\": \"Saturn\", \"Model\": \"SW\", \"Sales_in_thousands\": 5.223, \"__year_resale_value\": 10.79, \"Vehicle_type\": \"Passenger\", \"Price_in_thousands\": 14.29, \"Engine_size\": 1.9, \"Horsepower\": 124.0, \"Wheelbase\": 102.4, \"Width\": 66.4, \"Length\": 176.9, \"Curb_weight\": 2.452, \"Fuel_capacity\": 12.1, \"Fuel_efficiency\": 31.0, \"Latest_Launch\": 1295049600000000000, \"Power_perf_factor\": 49.86577367, \"Passenger\": 1, \"Pred\": 16.054663525500786}, {\"Manufacturer\": \"Toyota\", \"Model\": \"Corolla\", \"Sales_in_thousands\": 142.535, \"__year_resale_value\": 10.025, \"Vehicle_type\": \"Passenger\", \"Price_in_thousands\": 13.108, \"Engine_size\": 1.8, \"Horsepower\": 120.0, \"Wheelbase\": 97.0, \"Width\": 66.7, \"Length\": 174.0, \"Curb_weight\": 2.42, \"Fuel_capacity\": 13.2, \"Fuel_efficiency\": 33.0, \"Latest_Launch\": 1302480000000000000, \"Power_perf_factor\": 47.96897242, \"Passenger\": 1, \"Pred\": 13.27313157473067}, {\"Manufacturer\": \"Toyota\", \"Model\": \"Camry\", \"Sales_in_thousands\": 247.994, \"__year_resale_value\": 13.245, \"Vehicle_type\": \"Passenger\", \"Price_in_thousands\": 17.518, \"Engine_size\": 2.2, \"Horsepower\": 133.0, \"Wheelbase\": 105.2, \"Width\": 70.1, \"Length\": 188.5, \"Curb_weight\": 2.998, \"Fuel_capacity\": 18.5, \"Fuel_efficiency\": 27.0, \"Latest_Launch\": 1297296000000000000, \"Power_perf_factor\": 54.37241965, \"Passenger\": 1, \"Pred\": 17.969451557569343}, {\"Manufacturer\": \"Toyota\", \"Model\": \"Avalon\", \"Sales_in_thousands\": 63.849, \"__year_resale_value\": 18.14, \"Vehicle_type\": \"Passenger\", \"Price_in_thousands\": 25.545, \"Engine_size\": 3.0, \"Horsepower\": 210.0, \"Wheelbase\": 107.1, \"Width\": 71.7, \"Length\": 191.9, \"Curb_weight\": 3.417, \"Fuel_capacity\": 18.5, \"Fuel_efficiency\": 26.0, \"Latest_Launch\": 1314748800000000000, \"Power_perf_factor\": 84.91189826, \"Passenger\": 1, \"Pred\": 27.636804142239974}, {\"Manufacturer\": \"Toyota\", \"Model\": \"Celica\", \"Sales_in_thousands\": 33.269, \"__year_resale_value\": 15.445, \"Vehicle_type\": \"Passenger\", \"Price_in_thousands\": 16.875, \"Engine_size\": 1.8, \"Horsepower\": 140.0, \"Wheelbase\": 102.4, \"Width\": 68.3, \"Length\": 170.5, \"Curb_weight\": 2.425, \"Fuel_capacity\": 14.5, \"Fuel_efficiency\": 31.0, \"Latest_Launch\": 1356739200000000000, \"Power_perf_factor\": 56.49603034, \"Passenger\": 1, \"Pred\": 19.032470704869358}, {\"Manufacturer\": \"Toyota\", \"Model\": \"Tacoma\", \"Sales_in_thousands\": 84.087, \"__year_resale_value\": 9.575, \"Vehicle_type\": \"Car\", \"Price_in_thousands\": 11.528, \"Engine_size\": 2.4, \"Horsepower\": 142.0, \"Wheelbase\": 103.3, \"Width\": 66.5, \"Length\": 178.7, \"Curb_weight\": 2.58, \"Fuel_capacity\": 15.1, \"Fuel_efficiency\": 23.0, \"Latest_Launch\": 1312156800000000000, \"Power_perf_factor\": 55.29711658, \"Passenger\": 0, \"Pred\": 14.982537580643069}, {\"Manufacturer\": \"Toyota\", \"Model\": \"RAV4\", \"Sales_in_thousands\": 25.106, \"__year_resale_value\": 13.325, \"Vehicle_type\": \"Car\", \"Price_in_thousands\": 16.888, \"Engine_size\": 2.0, \"Horsepower\": 127.0, \"Wheelbase\": 94.9, \"Width\": 66.7, \"Length\": 163.8, \"Curb_weight\": 2.668, \"Fuel_capacity\": 15.3, \"Fuel_efficiency\": 27.0, \"Latest_Launch\": 1304640000000000000, \"Power_perf_factor\": 51.95510887, \"Passenger\": 0, \"Pred\": 17.768428441545936}, {\"Manufacturer\": \"Toyota\", \"Model\": \"4Runner\", \"Sales_in_thousands\": 68.411, \"__year_resale_value\": 19.425, \"Vehicle_type\": \"Car\", \"Price_in_thousands\": 22.288, \"Engine_size\": 2.7, \"Horsepower\": 150.0, \"Wheelbase\": 105.3, \"Width\": 66.5, \"Length\": 183.3, \"Curb_weight\": 3.44, \"Fuel_capacity\": 18.5, \"Fuel_efficiency\": 23.0, \"Latest_Launch\": 1299456000000000000, \"Power_perf_factor\": 62.35557713, \"Passenger\": 0, \"Pred\": 25.858992933369713}, {\"Manufacturer\": \"Toyota\", \"Model\": \"Land Cruiser\", \"Sales_in_thousands\": 9.835, \"__year_resale_value\": 34.08, \"Vehicle_type\": \"Car\", \"Price_in_thousands\": 51.728, \"Engine_size\": 4.7, \"Horsepower\": 230.0, \"Wheelbase\": 112.2, \"Width\": 76.4, \"Length\": 192.5, \"Curb_weight\": 5.115, \"Fuel_capacity\": 25.4, \"Fuel_efficiency\": 15.0, \"Latest_Launch\": 1316908800000000000, \"Power_perf_factor\": 102.5289842, \"Passenger\": 0, \"Pred\": 46.62382944244878}, {\"Manufacturer\": \"Volkswagen\", \"Model\": \"Golf\", \"Sales_in_thousands\": 9.761, \"__year_resale_value\": 11.425, \"Vehicle_type\": \"Passenger\", \"Price_in_thousands\": 14.9, \"Engine_size\": 2.0, \"Horsepower\": 115.0, \"Wheelbase\": 98.9, \"Width\": 68.3, \"Length\": 163.3, \"Curb_weight\": 2.767, \"Fuel_capacity\": 14.5, \"Fuel_efficiency\": 26.0, \"Latest_Launch\": 1295827200000000000, \"Power_perf_factor\": 46.94387676, \"Passenger\": 1, \"Pred\": 16.282527925003727}, {\"Manufacturer\": \"Volkswagen\", \"Model\": \"Jetta\", \"Sales_in_thousands\": 83.721, \"__year_resale_value\": 13.24, \"Vehicle_type\": \"Passenger\", \"Price_in_thousands\": 16.7, \"Engine_size\": 2.0, \"Horsepower\": 115.0, \"Wheelbase\": 98.9, \"Width\": 68.3, \"Length\": 172.3, \"Curb_weight\": 2.853, \"Fuel_capacity\": 14.5, \"Fuel_efficiency\": 26.0, \"Latest_Launch\": 1314403200000000000, \"Power_perf_factor\": 47.63823666, \"Passenger\": 1, \"Pred\": 16.551948576959205}, {\"Manufacturer\": \"Volkswagen\", \"Model\": \"Passat\", \"Sales_in_thousands\": 51.102, \"__year_resale_value\": 16.725, \"Vehicle_type\": \"Passenger\", \"Price_in_thousands\": 21.2, \"Engine_size\": 1.8, \"Horsepower\": 150.0, \"Wheelbase\": 106.4, \"Width\": 68.5, \"Length\": 184.1, \"Curb_weight\": 3.043, \"Fuel_capacity\": 16.4, \"Fuel_efficiency\": 27.0, \"Latest_Launch\": 1351555200000000000, \"Power_perf_factor\": 61.70138136, \"Passenger\": 1, \"Pred\": 21.5889799759629}, {\"Manufacturer\": \"Volkswagen\", \"Model\": \"Cabrio\", \"Sales_in_thousands\": 9.569, \"__year_resale_value\": 16.575, \"Vehicle_type\": \"Passenger\", \"Price_in_thousands\": 19.99, \"Engine_size\": 2.0, \"Horsepower\": 115.0, \"Wheelbase\": 97.4, \"Width\": 66.7, \"Length\": 160.4, \"Curb_weight\": 3.079, \"Fuel_capacity\": 13.7, \"Fuel_efficiency\": 26.0, \"Latest_Launch\": 1306800000000000000, \"Power_perf_factor\": 48.90737225, \"Passenger\": 1, \"Pred\": 20.465401386056715}, {\"Manufacturer\": \"Volkswagen\", \"Model\": \"GTI\", \"Sales_in_thousands\": 5.596, \"__year_resale_value\": 13.76, \"Vehicle_type\": \"Passenger\", \"Price_in_thousands\": 17.5, \"Engine_size\": 2.0, \"Horsepower\": 115.0, \"Wheelbase\": 98.9, \"Width\": 68.3, \"Length\": 163.3, \"Curb_weight\": 2.762, \"Fuel_capacity\": 14.6, \"Fuel_efficiency\": 26.0, \"Latest_Launch\": 1301616000000000000, \"Power_perf_factor\": 47.94684106, \"Passenger\": 1, \"Pred\": 18.326620083409978}]}}, {\"mode\": \"vega-lite\"});\n</script>",
      "text/plain": "alt.VConcatChart(...)"
     },
     "metadata": {}
    }
   ]
  },
  {
   "cell_type": "code",
   "metadata": {
    "cell_id": "62b585cf6ab24f7d8ae5df88a1869d3c",
    "tags": [],
    "deepnote_to_be_reexecuted": false,
    "source_hash": "a604e5b0",
    "execution_start": 1654670158868,
    "execution_millis": 680,
    "deepnote_cell_type": "code",
    "deepnote_cell_height": 658
   },
   "source": "import altair as alt\nc = alt.Chart(df).mark_circle().encode(\n    x='__year_resale_value',\n    y=\"Price_in_thousands\",\n    color=\"Manufacturer\"\n)\nc1=alt.Chart(df).mark_line(color=\"red\").encode(\n    x='__year_resale_value',\n    y='Pred',\n)\nc+c1",
   "execution_count": null,
   "outputs": [
    {
     "output_type": "execute_result",
     "execution_count": 28,
     "data": {
      "text/html": "\n<div id=\"altair-viz-06dcae5c7115415a9989a74ef344e7c9\"></div>\n<script type=\"text/javascript\">\n  (function(spec, embedOpt){\n    let outputDiv = document.currentScript.previousElementSibling;\n    if (outputDiv.id !== \"altair-viz-06dcae5c7115415a9989a74ef344e7c9\") {\n      outputDiv = document.getElementById(\"altair-viz-06dcae5c7115415a9989a74ef344e7c9\");\n    }\n    const paths = {\n      \"vega\": \"https://cdn.jsdelivr.net/npm//vega@5?noext\",\n      \"vega-lib\": \"https://cdn.jsdelivr.net/npm//vega-lib?noext\",\n      \"vega-lite\": \"https://cdn.jsdelivr.net/npm//vega-lite@4.8.1?noext\",\n      \"vega-embed\": \"https://cdn.jsdelivr.net/npm//vega-embed@6?noext\",\n    };\n\n    function loadScript(lib) {\n      return new Promise(function(resolve, reject) {\n        var s = document.createElement('script');\n        s.src = paths[lib];\n        s.async = true;\n        s.onload = () => resolve(paths[lib]);\n        s.onerror = () => reject(`Error loading script: ${paths[lib]}`);\n        document.getElementsByTagName(\"head\")[0].appendChild(s);\n      });\n    }\n\n    function showError(err) {\n      outputDiv.innerHTML = `<div class=\"error\" style=\"color:red;\">${err}</div>`;\n      throw err;\n    }\n\n    function displayChart(vegaEmbed) {\n      vegaEmbed(outputDiv, spec, embedOpt)\n        .catch(err => showError(`Javascript Error: ${err.message}<br>This usually means there's a typo in your chart specification. See the javascript console for the full traceback.`));\n    }\n\n    if(typeof define === \"function\" && define.amd) {\n      requirejs.config({paths});\n      require([\"vega-embed\"], displayChart, err => showError(`Error loading script: ${err.message}`));\n    } else if (typeof vegaEmbed === \"function\") {\n      displayChart(vegaEmbed);\n    } else {\n      loadScript(\"vega\")\n        .then(() => loadScript(\"vega-lite\"))\n        .then(() => loadScript(\"vega-embed\"))\n        .catch(showError)\n        .then(() => displayChart(vegaEmbed));\n    }\n  })({\"config\": {\"view\": {\"continuousWidth\": 400, \"continuousHeight\": 300}}, \"layer\": [{\"mark\": \"circle\", \"encoding\": {\"color\": {\"type\": \"nominal\", \"field\": \"Manufacturer\"}, \"x\": {\"type\": \"quantitative\", \"field\": \"__year_resale_value\"}, \"y\": {\"type\": \"quantitative\", \"field\": \"Price_in_thousands\"}}}, {\"mark\": {\"type\": \"line\", \"color\": \"red\"}, \"encoding\": {\"x\": {\"type\": \"quantitative\", \"field\": \"__year_resale_value\"}, \"y\": {\"type\": \"quantitative\", \"field\": \"Pred\"}}}], \"data\": {\"name\": \"data-03ac32bfc5c971c748d13ac2576c0398\"}, \"$schema\": \"https://vega.github.io/schema/vega-lite/v4.8.1.json\", \"datasets\": {\"data-03ac32bfc5c971c748d13ac2576c0398\": [{\"Manufacturer\": \"Acura\", \"Model\": \"Integra\", \"Sales_in_thousands\": 16.919, \"__year_resale_value\": 16.36, \"Vehicle_type\": \"Passenger\", \"Price_in_thousands\": 21.5, \"Engine_size\": 1.8, \"Horsepower\": 140.0, \"Wheelbase\": 101.2, \"Width\": 67.3, \"Length\": 172.4, \"Curb_weight\": 2.639, \"Fuel_capacity\": 13.2, \"Fuel_efficiency\": 28.0, \"Latest_Launch\": 1328140800000000000, \"Power_perf_factor\": 58.28014952, \"Passenger\": 1, \"Pred\": 21.04355050222738}, {\"Manufacturer\": \"Acura\", \"Model\": \"TL\", \"Sales_in_thousands\": 39.384, \"__year_resale_value\": 19.875, \"Vehicle_type\": \"Passenger\", \"Price_in_thousands\": 28.4, \"Engine_size\": 3.2, \"Horsepower\": 225.0, \"Wheelbase\": 108.1, \"Width\": 70.3, \"Length\": 192.9, \"Curb_weight\": 3.517, \"Fuel_capacity\": 17.2, \"Fuel_efficiency\": 25.0, \"Latest_Launch\": 1307059200000000000, \"Power_perf_factor\": 91.37077766, \"Passenger\": 1, \"Pred\": 30.55027806339063}, {\"Manufacturer\": \"Acura\", \"Model\": \"RL\", \"Sales_in_thousands\": 8.588, \"__year_resale_value\": 29.725, \"Vehicle_type\": \"Passenger\", \"Price_in_thousands\": 42.0, \"Engine_size\": 3.5, \"Horsepower\": 210.0, \"Wheelbase\": 114.6, \"Width\": 71.4, \"Length\": 196.6, \"Curb_weight\": 3.85, \"Fuel_capacity\": 18.0, \"Fuel_efficiency\": 22.0, \"Latest_Launch\": 1299715200000000000, \"Power_perf_factor\": 91.38977933, \"Passenger\": 1, \"Pred\": 40.84100160081856}, {\"Manufacturer\": \"Audi\", \"Model\": \"A4\", \"Sales_in_thousands\": 20.397, \"__year_resale_value\": 22.255, \"Vehicle_type\": \"Passenger\", \"Price_in_thousands\": 23.99, \"Engine_size\": 1.8, \"Horsepower\": 150.0, \"Wheelbase\": 102.6, \"Width\": 68.2, \"Length\": 178.0, \"Curb_weight\": 2.998, \"Fuel_capacity\": 16.4, \"Fuel_efficiency\": 27.0, \"Latest_Launch\": 1318032000000000000, \"Power_perf_factor\": 62.7776392, \"Passenger\": 1, \"Pred\": 27.45609708347422}, {\"Manufacturer\": \"Audi\", \"Model\": \"A6\", \"Sales_in_thousands\": 18.78, \"__year_resale_value\": 23.555, \"Vehicle_type\": \"Passenger\", \"Price_in_thousands\": 33.95, \"Engine_size\": 2.8, \"Horsepower\": 200.0, \"Wheelbase\": 108.7, \"Width\": 76.1, \"Length\": 192.0, \"Curb_weight\": 3.561, \"Fuel_capacity\": 18.5, \"Fuel_efficiency\": 22.0, \"Latest_Launch\": 1312848000000000000, \"Power_perf_factor\": 84.56510502, \"Passenger\": 1, \"Pred\": 33.08320491771251}, {\"Manufacturer\": \"Audi\", \"Model\": \"A8\", \"Sales_in_thousands\": 1.38, \"__year_resale_value\": 39.0, \"Vehicle_type\": \"Passenger\", \"Price_in_thousands\": 62.0, \"Engine_size\": 4.2, \"Horsepower\": 310.0, \"Wheelbase\": 113.0, \"Width\": 74.0, \"Length\": 198.2, \"Curb_weight\": 3.902, \"Fuel_capacity\": 23.7, \"Fuel_efficiency\": 21.0, \"Latest_Launch\": 1330300800000000000, \"Power_perf_factor\": 134.6568582, \"Passenger\": 1, \"Pred\": 55.09180930317653}, {\"Manufacturer\": \"BMW\", \"Model\": \"328i\", \"Sales_in_thousands\": 9.231, \"__year_resale_value\": 28.675, \"Vehicle_type\": \"Passenger\", \"Price_in_thousands\": 33.4, \"Engine_size\": 2.8, \"Horsepower\": 193.0, \"Wheelbase\": 107.3, \"Width\": 68.5, \"Length\": 176.0, \"Curb_weight\": 3.197, \"Fuel_capacity\": 16.6, \"Fuel_efficiency\": 24.0, \"Latest_Launch\": 1327795200000000000, \"Power_perf_factor\": 81.87706856, \"Passenger\": 1, \"Pred\": 36.465264880225035}, {\"Manufacturer\": \"BMW\", \"Model\": \"528i\", \"Sales_in_thousands\": 17.527, \"__year_resale_value\": 36.125, \"Vehicle_type\": \"Passenger\", \"Price_in_thousands\": 38.9, \"Engine_size\": 2.8, \"Horsepower\": 193.0, \"Wheelbase\": 111.4, \"Width\": 70.9, \"Length\": 188.0, \"Curb_weight\": 3.472, \"Fuel_capacity\": 18.5, \"Fuel_efficiency\": 25.0, \"Latest_Launch\": 1301875200000000000, \"Power_perf_factor\": 83.9987238, \"Passenger\": 1, \"Pred\": 44.55619890462283}, {\"Manufacturer\": \"Buick\", \"Model\": \"Century\", \"Sales_in_thousands\": 91.561, \"__year_resale_value\": 12.475, \"Vehicle_type\": \"Passenger\", \"Price_in_thousands\": 21.975, \"Engine_size\": 3.1, \"Horsepower\": 175.0, \"Wheelbase\": 109.0, \"Width\": 72.7, \"Length\": 194.6, \"Curb_weight\": 3.368, \"Fuel_capacity\": 17.5, \"Fuel_efficiency\": 25.0, \"Latest_Launch\": 1320192000000000000, \"Power_perf_factor\": 71.18145132, \"Passenger\": 1, \"Pred\": 20.52673538556382}, {\"Manufacturer\": \"Buick\", \"Model\": \"Regal\", \"Sales_in_thousands\": 39.35, \"__year_resale_value\": 13.74, \"Vehicle_type\": \"Passenger\", \"Price_in_thousands\": 25.3, \"Engine_size\": 3.8, \"Horsepower\": 240.0, \"Wheelbase\": 109.0, \"Width\": 72.7, \"Length\": 196.2, \"Curb_weight\": 3.543, \"Fuel_capacity\": 17.5, \"Fuel_efficiency\": 23.0, \"Latest_Launch\": 1315008000000000000, \"Power_perf_factor\": 95.63670253, \"Passenger\": 1, \"Pred\": 25.726846146698932}, {\"Manufacturer\": \"Buick\", \"Model\": \"Park Avenue\", \"Sales_in_thousands\": 27.851, \"__year_resale_value\": 20.19, \"Vehicle_type\": \"Passenger\", \"Price_in_thousands\": 31.965, \"Engine_size\": 3.8, \"Horsepower\": 205.0, \"Wheelbase\": 113.8, \"Width\": 74.7, \"Length\": 206.8, \"Curb_weight\": 3.778, \"Fuel_capacity\": 18.5, \"Fuel_efficiency\": 24.0, \"Latest_Launch\": 1332460800000000000, \"Power_perf_factor\": 85.82840825, \"Passenger\": 1, \"Pred\": 30.018765123328333}, {\"Manufacturer\": \"Buick\", \"Model\": \"LeSabre\", \"Sales_in_thousands\": 83.257, \"__year_resale_value\": 13.36, \"Vehicle_type\": \"Passenger\", \"Price_in_thousands\": 27.885, \"Engine_size\": 3.8, \"Horsepower\": 205.0, \"Wheelbase\": 112.2, \"Width\": 73.5, \"Length\": 200.0, \"Curb_weight\": 3.591, \"Fuel_capacity\": 17.5, \"Fuel_efficiency\": 25.0, \"Latest_Launch\": 1311379200000000000, \"Power_perf_factor\": 84.25452581, \"Passenger\": 1, \"Pred\": 24.129551448481223}, {\"Manufacturer\": \"Cadillac\", \"Model\": \"DeVille\", \"Sales_in_thousands\": 63.729, \"__year_resale_value\": 22.525, \"Vehicle_type\": \"Passenger\", \"Price_in_thousands\": 39.895, \"Engine_size\": 4.6, \"Horsepower\": 275.0, \"Wheelbase\": 115.3, \"Width\": 74.5, \"Length\": 207.2, \"Curb_weight\": 3.978, \"Fuel_capacity\": 18.5, \"Fuel_efficiency\": 22.0, \"Latest_Launch\": 1329955200000000000, \"Power_perf_factor\": 113.8545976, \"Passenger\": 1, \"Pred\": 36.38671102302058}, {\"Manufacturer\": \"Cadillac\", \"Model\": \"Eldorado\", \"Sales_in_thousands\": 6.536, \"__year_resale_value\": 25.725, \"Vehicle_type\": \"Passenger\", \"Price_in_thousands\": 39.665, \"Engine_size\": 4.6, \"Horsepower\": 275.0, \"Wheelbase\": 108.0, \"Width\": 75.5, \"Length\": 200.6, \"Curb_weight\": 3.843, \"Fuel_capacity\": 19.0, \"Fuel_efficiency\": 22.0, \"Latest_Launch\": 1322352000000000000, \"Power_perf_factor\": 113.7658739, \"Passenger\": 1, \"Pred\": 38.834724576116756}, {\"Manufacturer\": \"Cadillac\", \"Model\": \"Catera\", \"Sales_in_thousands\": 11.185, \"__year_resale_value\": 18.225, \"Vehicle_type\": \"Passenger\", \"Price_in_thousands\": 31.01, \"Engine_size\": 3.0, \"Horsepower\": 200.0, \"Wheelbase\": 107.4, \"Width\": 70.3, \"Length\": 194.8, \"Curb_weight\": 3.77, \"Fuel_capacity\": 18.0, \"Fuel_efficiency\": 22.0, \"Latest_Launch\": 1317168000000000000, \"Power_perf_factor\": 83.48309358, \"Passenger\": 1, \"Pred\": 28.025457580005707}, {\"Manufacturer\": \"Chevrolet\", \"Model\": \"Cavalier\", \"Sales_in_thousands\": 145.519, \"__year_resale_value\": 9.25, \"Vehicle_type\": \"Passenger\", \"Price_in_thousands\": 13.26, \"Engine_size\": 2.2, \"Horsepower\": 115.0, \"Wheelbase\": 104.1, \"Width\": 67.9, \"Length\": 180.9, \"Curb_weight\": 2.676, \"Fuel_capacity\": 14.3, \"Fuel_efficiency\": 27.0, \"Latest_Launch\": 1313539200000000000, \"Power_perf_factor\": 46.36334747, \"Passenger\": 1, \"Pred\": 12.999091017958609}, {\"Manufacturer\": \"Chevrolet\", \"Model\": \"Malibu\", \"Sales_in_thousands\": 135.126, \"__year_resale_value\": 11.225, \"Vehicle_type\": \"Passenger\", \"Price_in_thousands\": 16.535, \"Engine_size\": 3.1, \"Horsepower\": 170.0, \"Wheelbase\": 107.0, \"Width\": 69.4, \"Length\": 190.4, \"Curb_weight\": 3.051, \"Fuel_capacity\": 15.0, \"Fuel_efficiency\": 25.0, \"Latest_Launch\": 1332115200000000000, \"Power_perf_factor\": 67.31446216, \"Passenger\": 1, \"Pred\": 17.4443315784245}, {\"Manufacturer\": \"Chevrolet\", \"Model\": \"Lumina\", \"Sales_in_thousands\": 24.629, \"__year_resale_value\": 10.31, \"Vehicle_type\": \"Passenger\", \"Price_in_thousands\": 18.89, \"Engine_size\": 3.1, \"Horsepower\": 175.0, \"Wheelbase\": 107.5, \"Width\": 72.5, \"Length\": 200.9, \"Curb_weight\": 3.33, \"Fuel_capacity\": 16.6, \"Fuel_efficiency\": 25.0, \"Latest_Launch\": 1306195200000000000, \"Power_perf_factor\": 69.9913956, \"Passenger\": 1, \"Pred\": 18.88424473399787}, {\"Manufacturer\": \"Chevrolet\", \"Model\": \"Monte Carlo\", \"Sales_in_thousands\": 42.593, \"__year_resale_value\": 11.525, \"Vehicle_type\": \"Passenger\", \"Price_in_thousands\": 19.39, \"Engine_size\": 3.4, \"Horsepower\": 180.0, \"Wheelbase\": 110.5, \"Width\": 72.7, \"Length\": 197.9, \"Curb_weight\": 3.34, \"Fuel_capacity\": 17.0, \"Fuel_efficiency\": 27.0, \"Latest_Launch\": 1324512000000000000, \"Power_perf_factor\": 72.03091719, \"Passenger\": 1, \"Pred\": 19.992739153572046}, {\"Manufacturer\": \"Chevrolet\", \"Model\": \"Camaro\", \"Sales_in_thousands\": 26.402, \"__year_resale_value\": 13.025, \"Vehicle_type\": \"Passenger\", \"Price_in_thousands\": 24.34, \"Engine_size\": 3.8, \"Horsepower\": 200.0, \"Wheelbase\": 101.1, \"Width\": 74.1, \"Length\": 193.2, \"Curb_weight\": 3.5, \"Fuel_capacity\": 16.8, \"Fuel_efficiency\": 25.0, \"Latest_Launch\": 1319328000000000000, \"Power_perf_factor\": 81.11854333, \"Passenger\": 1, \"Pred\": 21.809412610429785}, {\"Manufacturer\": \"Chevrolet\", \"Model\": \"Corvette\", \"Sales_in_thousands\": 17.947, \"__year_resale_value\": 36.225, \"Vehicle_type\": \"Passenger\", \"Price_in_thousands\": 45.705, \"Engine_size\": 5.7, \"Horsepower\": 345.0, \"Wheelbase\": 104.5, \"Width\": 73.6, \"Length\": 179.7, \"Curb_weight\": 3.21, \"Fuel_capacity\": 19.1, \"Fuel_efficiency\": 22.0, \"Latest_Launch\": 1336780800000000000, \"Power_perf_factor\": 141.14115, \"Passenger\": 1, \"Pred\": 51.150848599263426}, {\"Manufacturer\": \"Chevrolet\", \"Model\": \"Prizm\", \"Sales_in_thousands\": 32.299, \"__year_resale_value\": 9.125, \"Vehicle_type\": \"Passenger\", \"Price_in_thousands\": 13.96, \"Engine_size\": 1.8, \"Horsepower\": 120.0, \"Wheelbase\": 97.1, \"Width\": 66.7, \"Length\": 174.3, \"Curb_weight\": 2.398, \"Fuel_capacity\": 13.2, \"Fuel_efficiency\": 33.0, \"Latest_Launch\": 1315699200000000000, \"Power_perf_factor\": 48.2976361, \"Passenger\": 1, \"Pred\": 12.956981166899084}, {\"Manufacturer\": \"Chevrolet\", \"Model\": \"Metro\", \"Sales_in_thousands\": 21.855, \"__year_resale_value\": 5.16, \"Vehicle_type\": \"Passenger\", \"Price_in_thousands\": 9.235, \"Engine_size\": 1.0, \"Horsepower\": 55.0, \"Wheelbase\": 93.1, \"Width\": 62.6, \"Length\": 149.4, \"Curb_weight\": 1.895, \"Fuel_capacity\": 10.3, \"Fuel_efficiency\": 45.0, \"Latest_Launch\": 1334275200000000000, \"Power_perf_factor\": 23.27627233, \"Passenger\": 1, \"Pred\": 5.0466517825749335}, {\"Manufacturer\": \"Chrysler\", \"Model\": \"Sebring Coupe\", \"Sales_in_thousands\": 7.854, \"__year_resale_value\": 12.36, \"Vehicle_type\": \"Passenger\", \"Price_in_thousands\": 19.84, \"Engine_size\": 2.5, \"Horsepower\": 163.0, \"Wheelbase\": 103.7, \"Width\": 69.7, \"Length\": 190.9, \"Curb_weight\": 2.967, \"Fuel_capacity\": 15.9, \"Fuel_efficiency\": 24.0, \"Latest_Launch\": 1326672000000000000, \"Power_perf_factor\": 65.95718396, \"Passenger\": 1, \"Pred\": 19.081393937281398}, {\"Manufacturer\": \"Chrysler\", \"Model\": \"Sebring Conv.\", \"Sales_in_thousands\": 32.775, \"__year_resale_value\": 14.18, \"Vehicle_type\": \"Passenger\", \"Price_in_thousands\": 24.495, \"Engine_size\": 2.5, \"Horsepower\": 168.0, \"Wheelbase\": 106.0, \"Width\": 69.2, \"Length\": 193.0, \"Curb_weight\": 3.332, \"Fuel_capacity\": 16.0, \"Fuel_efficiency\": 24.0, \"Latest_Launch\": 1321488000000000000, \"Power_perf_factor\": 69.52135505, \"Passenger\": 1, \"Pred\": 21.645413140576945}, {\"Manufacturer\": \"Chrysler\", \"Model\": \"Concorde\", \"Sales_in_thousands\": 31.148, \"__year_resale_value\": 13.725, \"Vehicle_type\": \"Passenger\", \"Price_in_thousands\": 22.245, \"Engine_size\": 2.7, \"Horsepower\": 200.0, \"Wheelbase\": 113.0, \"Width\": 74.4, \"Length\": 209.1, \"Curb_weight\": 3.452, \"Fuel_capacity\": 17.0, \"Fuel_efficiency\": 26.0, \"Latest_Launch\": 1338940800000000000, \"Power_perf_factor\": 80.02378204, \"Passenger\": 1, \"Pred\": 22.696496102462866}, {\"Manufacturer\": \"Chrysler\", \"Model\": \"Cirrus\", \"Sales_in_thousands\": 32.306, \"__year_resale_value\": 12.64, \"Vehicle_type\": \"Passenger\", \"Price_in_thousands\": 16.48, \"Engine_size\": 2.0, \"Horsepower\": 132.0, \"Wheelbase\": 108.0, \"Width\": 71.0, \"Length\": 186.0, \"Curb_weight\": 2.911, \"Fuel_capacity\": 16.0, \"Fuel_efficiency\": 27.0, \"Latest_Launch\": 1317859200000000000, \"Power_perf_factor\": 53.56619987, \"Passenger\": 1, \"Pred\": 18.256962469357433}, {\"Manufacturer\": \"Chrysler\", \"Model\": \"LHS\", \"Sales_in_thousands\": 13.462, \"__year_resale_value\": 17.325, \"Vehicle_type\": \"Passenger\", \"Price_in_thousands\": 28.34, \"Engine_size\": 3.5, \"Horsepower\": 253.0, \"Wheelbase\": 113.0, \"Width\": 74.4, \"Length\": 207.7, \"Curb_weight\": 3.564, \"Fuel_capacity\": 17.0, \"Fuel_efficiency\": 23.0, \"Latest_Launch\": 1336435200000000000, \"Power_perf_factor\": 101.3292807, \"Passenger\": 1, \"Pred\": 29.265795469737995}, {\"Manufacturer\": \"Dodge\", \"Model\": \"Neon\", \"Sales_in_thousands\": 76.034, \"__year_resale_value\": 7.75, \"Vehicle_type\": \"Passenger\", \"Price_in_thousands\": 12.64, \"Engine_size\": 2.0, \"Horsepower\": 132.0, \"Wheelbase\": 105.0, \"Width\": 74.4, \"Length\": 174.4, \"Curb_weight\": 2.567, \"Fuel_capacity\": 12.5, \"Fuel_efficiency\": 29.0, \"Latest_Launch\": 1323648000000000000, \"Power_perf_factor\": 52.08489875, \"Passenger\": 1, \"Pred\": 12.67703992503003}, {\"Manufacturer\": \"Dodge\", \"Model\": \"Avenger\", \"Sales_in_thousands\": 4.734, \"__year_resale_value\": 12.545, \"Vehicle_type\": \"Passenger\", \"Price_in_thousands\": 19.045, \"Engine_size\": 2.5, \"Horsepower\": 163.0, \"Wheelbase\": 103.7, \"Width\": 69.1, \"Length\": 190.2, \"Curb_weight\": 2.879, \"Fuel_capacity\": 15.9, \"Fuel_efficiency\": 24.0, \"Latest_Launch\": 1341100800000000000, \"Power_perf_factor\": 65.65050834, \"Passenger\": 1, \"Pred\": 18.68165218815887}, {\"Manufacturer\": \"Dodge\", \"Model\": \"Stratus\", \"Sales_in_thousands\": 71.186, \"__year_resale_value\": 10.185, \"Vehicle_type\": \"Passenger\", \"Price_in_thousands\": 20.23, \"Engine_size\": 2.5, \"Horsepower\": 168.0, \"Wheelbase\": 108.0, \"Width\": 71.0, \"Length\": 186.0, \"Curb_weight\": 3.058, \"Fuel_capacity\": 16.0, \"Fuel_efficiency\": 24.0, \"Latest_Launch\": 1320019200000000000, \"Power_perf_factor\": 67.87610784, \"Passenger\": 1, \"Pred\": 18.12078823034113}, {\"Manufacturer\": \"Dodge\", \"Model\": \"Viper\", \"Sales_in_thousands\": 0.916, \"__year_resale_value\": 58.47, \"Vehicle_type\": \"Passenger\", \"Price_in_thousands\": 69.725, \"Engine_size\": 8.0, \"Horsepower\": 450.0, \"Wheelbase\": 96.2, \"Width\": 75.7, \"Length\": 176.7, \"Curb_weight\": 3.375, \"Fuel_capacity\": 19.0, \"Fuel_efficiency\": 16.0, \"Latest_Launch\": 1312675200000000000, \"Power_perf_factor\": 188.144323, \"Passenger\": 1, \"Pred\": 77.25953454875895}, {\"Manufacturer\": \"Dodge\", \"Model\": \"Ram Pickup\", \"Sales_in_thousands\": 227.061, \"__year_resale_value\": 15.06, \"Vehicle_type\": \"Car\", \"Price_in_thousands\": 19.46, \"Engine_size\": 5.2, \"Horsepower\": 230.0, \"Wheelbase\": 138.7, \"Width\": 79.3, \"Length\": 224.2, \"Curb_weight\": 4.47, \"Fuel_capacity\": 26.0, \"Fuel_efficiency\": 17.0, \"Latest_Launch\": 1330992000000000000, \"Power_perf_factor\": 90.21170005, \"Passenger\": 0, \"Pred\": 28.467893204049396}, {\"Manufacturer\": \"Dodge\", \"Model\": \"Ram Wagon\", \"Sales_in_thousands\": 16.767, \"__year_resale_value\": 15.51, \"Vehicle_type\": \"Car\", \"Price_in_thousands\": 21.315, \"Engine_size\": 3.9, \"Horsepower\": 175.0, \"Wheelbase\": 109.6, \"Width\": 78.8, \"Length\": 192.6, \"Curb_weight\": 4.245, \"Fuel_capacity\": 32.0, \"Fuel_efficiency\": 15.0, \"Latest_Launch\": 1325808000000000000, \"Power_perf_factor\": 71.13529161, \"Passenger\": 0, \"Pred\": 25.290708125277366}, {\"Manufacturer\": \"Dodge\", \"Model\": \"Ram Van\", \"Sales_in_thousands\": 31.038, \"__year_resale_value\": 13.425, \"Vehicle_type\": \"Car\", \"Price_in_thousands\": 18.575, \"Engine_size\": 3.9, \"Horsepower\": 175.0, \"Wheelbase\": 127.2, \"Width\": 78.8, \"Length\": 208.5, \"Curb_weight\": 4.298, \"Fuel_capacity\": 32.0, \"Fuel_efficiency\": 16.0, \"Latest_Launch\": 1343260800000000000, \"Power_perf_factor\": 70.07832154, \"Passenger\": 0, \"Pred\": 24.69752527777127}, {\"Manufacturer\": \"Dodge\", \"Model\": \"Dakota\", \"Sales_in_thousands\": 111.313, \"__year_resale_value\": 11.26, \"Vehicle_type\": \"Car\", \"Price_in_thousands\": 16.98, \"Engine_size\": 2.5, \"Horsepower\": 120.0, \"Wheelbase\": 131.0, \"Width\": 71.5, \"Length\": 215.0, \"Curb_weight\": 3.557, \"Fuel_capacity\": 22.0, \"Fuel_efficiency\": 19.0, \"Latest_Launch\": 1322179200000000000, \"Power_perf_factor\": 49.64500177, \"Passenger\": 0, \"Pred\": 19.253082752405547}, {\"Manufacturer\": \"Dodge\", \"Model\": \"Caravan\", \"Sales_in_thousands\": 181.749, \"__year_resale_value\": 12.025, \"Vehicle_type\": \"Car\", \"Price_in_thousands\": 19.565, \"Engine_size\": 2.4, \"Horsepower\": 150.0, \"Wheelbase\": 113.3, \"Width\": 76.8, \"Length\": 186.3, \"Curb_weight\": 3.533, \"Fuel_capacity\": 20.0, \"Fuel_efficiency\": 24.0, \"Latest_Launch\": 1314835200000000000, \"Power_perf_factor\": 61.22700031, \"Passenger\": 0, \"Pred\": 19.278658014542586}, {\"Manufacturer\": \"Ford\", \"Model\": \"Escort\", \"Sales_in_thousands\": 70.227, \"__year_resale_value\": 7.425, \"Vehicle_type\": \"Passenger\", \"Price_in_thousands\": 12.07, \"Engine_size\": 2.0, \"Horsepower\": 110.0, \"Wheelbase\": 98.4, \"Width\": 67.0, \"Length\": 174.7, \"Curb_weight\": 2.468, \"Fuel_capacity\": 12.7, \"Fuel_efficiency\": 30.0, \"Latest_Launch\": 1333152000000000000, \"Power_perf_factor\": 44.08370946, \"Passenger\": 1, \"Pred\": 10.089206028744826}, {\"Manufacturer\": \"Ford\", \"Model\": \"Mustang\", \"Sales_in_thousands\": 113.369, \"__year_resale_value\": 12.76, \"Vehicle_type\": \"Passenger\", \"Price_in_thousands\": 21.56, \"Engine_size\": 3.8, \"Horsepower\": 190.0, \"Wheelbase\": 101.3, \"Width\": 73.1, \"Length\": 183.2, \"Curb_weight\": 3.203, \"Fuel_capacity\": 15.7, \"Fuel_efficiency\": 24.0, \"Latest_Launch\": 1327968000000000000, \"Power_perf_factor\": 76.50918456, \"Passenger\": 1, \"Pred\": 20.01479145465205}, {\"Manufacturer\": \"Ford\", \"Model\": \"Contour\", \"Sales_in_thousands\": 35.068, \"__year_resale_value\": 8.835, \"Vehicle_type\": \"Passenger\", \"Price_in_thousands\": 17.035, \"Engine_size\": 2.5, \"Horsepower\": 170.0, \"Wheelbase\": 106.5, \"Width\": 69.1, \"Length\": 184.6, \"Curb_weight\": 2.769, \"Fuel_capacity\": 15.0, \"Fuel_efficiency\": 25.0, \"Latest_Launch\": 1345420800000000000, \"Power_perf_factor\": 67.35101072, \"Passenger\": 1, \"Pred\": 15.825599886538509}, {\"Manufacturer\": \"Ford\", \"Model\": \"Taurus\", \"Sales_in_thousands\": 245.815, \"__year_resale_value\": 10.055, \"Vehicle_type\": \"Passenger\", \"Price_in_thousands\": 17.885, \"Engine_size\": 3.0, \"Horsepower\": 155.0, \"Wheelbase\": 108.5, \"Width\": 73.0, \"Length\": 197.6, \"Curb_weight\": 3.368, \"Fuel_capacity\": 16.0, \"Fuel_efficiency\": 24.0, \"Latest_Launch\": 1324339200000000000, \"Power_perf_factor\": 62.5037395, \"Passenger\": 1, \"Pred\": 15.486518131621228}, {\"Manufacturer\": \"Ford\", \"Model\": \"Crown Victoria\", \"Sales_in_thousands\": 63.403, \"__year_resale_value\": 14.21, \"Vehicle_type\": \"Passenger\", \"Price_in_thousands\": 22.195, \"Engine_size\": 4.6, \"Horsepower\": 200.0, \"Wheelbase\": 114.7, \"Width\": 78.2, \"Length\": 212.0, \"Curb_weight\": 3.908, \"Fuel_capacity\": 19.0, \"Fuel_efficiency\": 21.0, \"Latest_Launch\": 1316995200000000000, \"Power_perf_factor\": 80.49953671, \"Passenger\": 1, \"Pred\": 24.141787532274964}, {\"Manufacturer\": \"Ford\", \"Model\": \"Explorer\", \"Sales_in_thousands\": 276.747, \"__year_resale_value\": 16.64, \"Vehicle_type\": \"Car\", \"Price_in_thousands\": 31.93, \"Engine_size\": 4.0, \"Horsepower\": 210.0, \"Wheelbase\": 111.6, \"Width\": 70.2, \"Length\": 190.7, \"Curb_weight\": 3.876, \"Fuel_capacity\": 21.0, \"Fuel_efficiency\": 19.0, \"Latest_Launch\": 1335312000000000000, \"Power_perf_factor\": 87.63549578, \"Passenger\": 0, \"Pred\": 25.947832225480244}, {\"Manufacturer\": \"Ford\", \"Model\": \"Windstar\", \"Sales_in_thousands\": 155.787, \"__year_resale_value\": 13.175, \"Vehicle_type\": \"Car\", \"Price_in_thousands\": 21.41, \"Engine_size\": 3.0, \"Horsepower\": 150.0, \"Wheelbase\": 120.7, \"Width\": 76.6, \"Length\": 200.9, \"Curb_weight\": 3.761, \"Fuel_capacity\": 26.0, \"Fuel_efficiency\": 21.0, \"Latest_Launch\": 1330128000000000000, \"Power_perf_factor\": 62.09504839, \"Passenger\": 0, \"Pred\": 21.57678679820819}, {\"Manufacturer\": \"Ford\", \"Model\": \"Expedition\", \"Sales_in_thousands\": 125.338, \"__year_resale_value\": 23.575, \"Vehicle_type\": \"Car\", \"Price_in_thousands\": 36.135, \"Engine_size\": 4.6, \"Horsepower\": 240.0, \"Wheelbase\": 119.0, \"Width\": 78.7, \"Length\": 204.6, \"Curb_weight\": 4.808, \"Fuel_capacity\": 26.0, \"Fuel_efficiency\": 16.0, \"Latest_Launch\": 1347580800000000000, \"Power_perf_factor\": 100.0248023, \"Passenger\": 0, \"Pred\": 35.57187933211391}, {\"Manufacturer\": \"Ford\", \"Model\": \"Ranger\", \"Sales_in_thousands\": 220.65, \"__year_resale_value\": 7.85, \"Vehicle_type\": \"Car\", \"Price_in_thousands\": 12.05, \"Engine_size\": 2.5, \"Horsepower\": 119.0, \"Wheelbase\": 117.5, \"Width\": 69.4, \"Length\": 200.7, \"Curb_weight\": 3.086, \"Fuel_capacity\": 20.0, \"Fuel_efficiency\": 23.0, \"Latest_Launch\": 1326499200000000000, \"Power_perf_factor\": 47.38953131, \"Passenger\": 0, \"Pred\": 13.091895357555899}, {\"Manufacturer\": \"Ford\", \"Model\": \"F-Series\", \"Sales_in_thousands\": 540.561, \"__year_resale_value\": 15.075, \"Vehicle_type\": \"Car\", \"Price_in_thousands\": 26.935, \"Engine_size\": 4.6, \"Horsepower\": 220.0, \"Wheelbase\": 138.5, \"Width\": 79.1, \"Length\": 224.5, \"Curb_weight\": 4.241, \"Fuel_capacity\": 25.1, \"Fuel_efficiency\": 18.0, \"Latest_Launch\": 1345075200000000000, \"Power_perf_factor\": 89.40193473, \"Passenger\": 0, \"Pred\": 25.874010116207433}, {\"Manufacturer\": \"Honda\", \"Model\": \"Civic\", \"Sales_in_thousands\": 199.685, \"__year_resale_value\": 9.85, \"Vehicle_type\": \"Passenger\", \"Price_in_thousands\": 12.885, \"Engine_size\": 1.6, \"Horsepower\": 106.0, \"Wheelbase\": 103.2, \"Width\": 67.1, \"Length\": 175.1, \"Curb_weight\": 2.339, \"Fuel_capacity\": 11.9, \"Fuel_efficiency\": 32.0, \"Latest_Launch\": 1319155200000000000, \"Power_perf_factor\": 42.87909734, \"Passenger\": 1, \"Pred\": 12.09769693380533}, {\"Manufacturer\": \"Honda\", \"Model\": \"Accord\", \"Sales_in_thousands\": 230.902, \"__year_resale_value\": 13.21, \"Vehicle_type\": \"Passenger\", \"Price_in_thousands\": 15.35, \"Engine_size\": 2.3, \"Horsepower\": 135.0, \"Wheelbase\": 106.9, \"Width\": 70.3, \"Length\": 188.8, \"Curb_weight\": 2.932, \"Fuel_capacity\": 17.1, \"Fuel_efficiency\": 27.0, \"Latest_Launch\": 1337472000000000000, \"Power_perf_factor\": 54.26954829, \"Passenger\": 1, \"Pred\": 16.56692871622837}, {\"Manufacturer\": \"Honda\", \"Model\": \"CR-V\", \"Sales_in_thousands\": 73.203, \"__year_resale_value\": 17.71, \"Vehicle_type\": \"Car\", \"Price_in_thousands\": 20.55, \"Engine_size\": 2.0, \"Horsepower\": 146.0, \"Wheelbase\": 103.2, \"Width\": 68.9, \"Length\": 177.6, \"Curb_weight\": 3.219, \"Fuel_capacity\": 15.3, \"Fuel_efficiency\": 24.0, \"Latest_Launch\": 1332288000000000000, \"Power_perf_factor\": 60.08796662, \"Passenger\": 0, \"Pred\": 22.22993526898113}, {\"Manufacturer\": \"Honda\", \"Model\": \"Passport\", \"Sales_in_thousands\": 12.855, \"__year_resale_value\": 17.525, \"Vehicle_type\": \"Car\", \"Price_in_thousands\": 26.6, \"Engine_size\": 3.2, \"Horsepower\": 205.0, \"Wheelbase\": 106.4, \"Width\": 70.4, \"Length\": 178.2, \"Curb_weight\": 3.857, \"Fuel_capacity\": 21.1, \"Fuel_efficiency\": 19.0, \"Latest_Launch\": 1349740800000000000, \"Power_perf_factor\": 83.6025008, \"Passenger\": 0, \"Pred\": 26.75512021680511}, {\"Manufacturer\": \"Honda\", \"Model\": \"Odyssey\", \"Sales_in_thousands\": 76.029, \"__year_resale_value\": 19.49, \"Vehicle_type\": \"Car\", \"Price_in_thousands\": 26.0, \"Engine_size\": 3.5, \"Horsepower\": 210.0, \"Wheelbase\": 118.1, \"Width\": 75.6, \"Length\": 201.2, \"Curb_weight\": 4.288, \"Fuel_capacity\": 20.0, \"Fuel_efficiency\": 23.0, \"Latest_Launch\": 1328659200000000000, \"Power_perf_factor\": 85.21769134, \"Passenger\": 0, \"Pred\": 29.772537583087328}, {\"Manufacturer\": \"Hyundai\", \"Model\": \"Accent\", \"Sales_in_thousands\": 41.184, \"__year_resale_value\": 5.86, \"Vehicle_type\": \"Passenger\", \"Price_in_thousands\": 9.699, \"Engine_size\": 1.5, \"Horsepower\": 92.0, \"Wheelbase\": 96.1, \"Width\": 65.7, \"Length\": 166.7, \"Curb_weight\": 2.24, \"Fuel_capacity\": 11.9, \"Fuel_efficiency\": 31.0, \"Latest_Launch\": 1347235200000000000, \"Power_perf_factor\": 36.67228358, \"Passenger\": 1, \"Pred\": 7.109447045887769}, {\"Manufacturer\": \"Hyundai\", \"Model\": \"Elantra\", \"Sales_in_thousands\": 66.692, \"__year_resale_value\": 7.825, \"Vehicle_type\": \"Passenger\", \"Price_in_thousands\": 11.799, \"Engine_size\": 2.0, \"Horsepower\": 140.0, \"Wheelbase\": 100.4, \"Width\": 66.9, \"Length\": 174.0, \"Curb_weight\": 2.626, \"Fuel_capacity\": 14.5, \"Fuel_efficiency\": 27.0, \"Latest_Launch\": 1321315200000000000, \"Power_perf_factor\": 54.59004516, \"Passenger\": 1, \"Pred\": 12.867328297310948}, {\"Manufacturer\": \"Hyundai\", \"Model\": \"Sonata\", \"Sales_in_thousands\": 29.45, \"__year_resale_value\": 8.91, \"Vehicle_type\": \"Passenger\", \"Price_in_thousands\": 14.999, \"Engine_size\": 2.4, \"Horsepower\": 148.0, \"Wheelbase\": 106.3, \"Width\": 71.6, \"Length\": 185.4, \"Curb_weight\": 3.072, \"Fuel_capacity\": 17.2, \"Fuel_efficiency\": 25.0, \"Latest_Launch\": 1339632000000000000, \"Power_perf_factor\": 58.758249, \"Passenger\": 1, \"Pred\": 15.017961060026295}, {\"Manufacturer\": \"Infiniti\", \"Model\": \"I30\", \"Sales_in_thousands\": 23.713, \"__year_resale_value\": 19.69, \"Vehicle_type\": \"Passenger\", \"Price_in_thousands\": 29.465, \"Engine_size\": 3.0, \"Horsepower\": 227.0, \"Wheelbase\": 108.3, \"Width\": 70.2, \"Length\": 193.7, \"Curb_weight\": 3.342, \"Fuel_capacity\": 18.5, \"Fuel_efficiency\": 25.0, \"Latest_Launch\": 1334448000000000000, \"Power_perf_factor\": 92.43688923, \"Passenger\": 1, \"Pred\": 29.922177894535025}, {\"Manufacturer\": \"Jeep\", \"Model\": \"Wrangler\", \"Sales_in_thousands\": 55.557, \"__year_resale_value\": 13.475, \"Vehicle_type\": \"Car\", \"Price_in_thousands\": 14.46, \"Engine_size\": 2.5, \"Horsepower\": 120.0, \"Wheelbase\": 93.4, \"Width\": 66.7, \"Length\": 152.0, \"Curb_weight\": 3.045, \"Fuel_capacity\": 19.0, \"Fuel_efficiency\": 17.0, \"Latest_Launch\": 1330819200000000000, \"Power_perf_factor\": 48.67289791, \"Passenger\": 0, \"Pred\": 16.73269231667573}, {\"Manufacturer\": \"Jeep\", \"Model\": \"Cherokee\", \"Sales_in_thousands\": 80.556, \"__year_resale_value\": 13.775, \"Vehicle_type\": \"Car\", \"Price_in_thousands\": 21.62, \"Engine_size\": 4.0, \"Horsepower\": 190.0, \"Wheelbase\": 101.4, \"Width\": 69.4, \"Length\": 167.5, \"Curb_weight\": 3.194, \"Fuel_capacity\": 20.0, \"Fuel_efficiency\": 20.0, \"Latest_Launch\": 1349395200000000000, \"Power_perf_factor\": 76.58443962, \"Passenger\": 0, \"Pred\": 21.366012179965526}, {\"Manufacturer\": \"Jeep\", \"Model\": \"Grand Cherokee\", \"Sales_in_thousands\": 157.04, \"__year_resale_value\": 18.81, \"Vehicle_type\": \"Car\", \"Price_in_thousands\": 26.895, \"Engine_size\": 4.0, \"Horsepower\": 195.0, \"Wheelbase\": 105.9, \"Width\": 72.3, \"Length\": 181.5, \"Curb_weight\": 3.88, \"Fuel_capacity\": 20.5, \"Fuel_efficiency\": 19.0, \"Latest_Launch\": 1323475200000000000, \"Power_perf_factor\": 80.38777912, \"Passenger\": 0, \"Pred\": 27.03327755029536}, {\"Manufacturer\": \"Lexus\", \"Model\": \"ES300\", \"Sales_in_thousands\": 24.072, \"__year_resale_value\": 26.975, \"Vehicle_type\": \"Passenger\", \"Price_in_thousands\": 31.505, \"Engine_size\": 3.0, \"Horsepower\": 210.0, \"Wheelbase\": 105.1, \"Width\": 70.5, \"Length\": 190.2, \"Curb_weight\": 3.373, \"Fuel_capacity\": 18.5, \"Fuel_efficiency\": 23.0, \"Latest_Launch\": 1341792000000000000, \"Power_perf_factor\": 87.21100104, \"Passenger\": 1, \"Pred\": 34.65083139592599}, {\"Manufacturer\": \"Lexus\", \"Model\": \"GS300\", \"Sales_in_thousands\": 12.698, \"__year_resale_value\": 32.075, \"Vehicle_type\": \"Passenger\", \"Price_in_thousands\": 37.805, \"Engine_size\": 3.0, \"Horsepower\": 225.0, \"Wheelbase\": 110.2, \"Width\": 70.9, \"Length\": 189.2, \"Curb_weight\": 3.638, \"Fuel_capacity\": 19.8, \"Fuel_efficiency\": 23.0, \"Latest_Launch\": 1336608000000000000, \"Power_perf_factor\": 94.9466984, \"Passenger\": 1, \"Pred\": 41.48185435488839}, {\"Manufacturer\": \"Lexus\", \"Model\": \"LS400\", \"Sales_in_thousands\": 6.375, \"__year_resale_value\": 40.375, \"Vehicle_type\": \"Passenger\", \"Price_in_thousands\": 54.005, \"Engine_size\": 4.0, \"Horsepower\": 290.0, \"Wheelbase\": 112.2, \"Width\": 72.0, \"Length\": 196.7, \"Curb_weight\": 3.89, \"Fuel_capacity\": 22.5, \"Fuel_efficiency\": 22.0, \"Latest_Launch\": 1332979200000000000, \"Power_perf_factor\": 124.4467163, \"Passenger\": 1, \"Pred\": 53.99104383841714}, {\"Manufacturer\": \"Lincoln\", \"Model\": \"Continental\", \"Sales_in_thousands\": 13.798, \"__year_resale_value\": 20.525, \"Vehicle_type\": \"Passenger\", \"Price_in_thousands\": 39.08, \"Engine_size\": 4.6, \"Horsepower\": 275.0, \"Wheelbase\": 109.0, \"Width\": 73.6, \"Length\": 208.5, \"Curb_weight\": 3.868, \"Fuel_capacity\": 20.0, \"Fuel_efficiency\": 22.0, \"Latest_Launch\": 1343952000000000000, \"Power_perf_factor\": 113.5402069, \"Passenger\": 1, \"Pred\": 33.76729141454729}, {\"Manufacturer\": \"Lincoln\", \"Model\": \"Town car\", \"Sales_in_thousands\": 48.911, \"__year_resale_value\": 21.725, \"Vehicle_type\": \"Passenger\", \"Price_in_thousands\": 43.33, \"Engine_size\": 4.6, \"Horsepower\": 215.0, \"Wheelbase\": 117.7, \"Width\": 78.2, \"Length\": 215.3, \"Curb_weight\": 4.121, \"Fuel_capacity\": 19.0, \"Fuel_efficiency\": 21.0, \"Latest_Launch\": 1338768000000000000, \"Power_perf_factor\": 93.9579169, \"Passenger\": 1, \"Pred\": 33.0830921598817}, {\"Manufacturer\": \"Mitsubishi\", \"Model\": \"Mirage\", \"Sales_in_thousands\": 26.232, \"__year_resale_value\": 8.325, \"Vehicle_type\": \"Passenger\", \"Price_in_thousands\": 13.987, \"Engine_size\": 1.8, \"Horsepower\": 113.0, \"Wheelbase\": 98.4, \"Width\": 66.5, \"Length\": 173.6, \"Curb_weight\": 2.25, \"Fuel_capacity\": 13.2, \"Fuel_efficiency\": 30.0, \"Latest_Launch\": 1335139200000000000, \"Power_perf_factor\": 45.83218056, \"Passenger\": 1, \"Pred\": 11.518322607054849}, {\"Manufacturer\": \"Mitsubishi\", \"Model\": \"Eclipse\", \"Sales_in_thousands\": 42.541, \"__year_resale_value\": 10.395, \"Vehicle_type\": \"Passenger\", \"Price_in_thousands\": 19.047, \"Engine_size\": 2.4, \"Horsepower\": 154.0, \"Wheelbase\": 100.8, \"Width\": 68.9, \"Length\": 175.4, \"Curb_weight\": 2.91, \"Fuel_capacity\": 15.9, \"Fuel_efficiency\": 24.0, \"Latest_Launch\": 1353715200000000000, \"Power_perf_factor\": 62.44196235, \"Passenger\": 1, \"Pred\": 15.712932939668967}, {\"Manufacturer\": \"Mitsubishi\", \"Model\": \"Galant\", \"Sales_in_thousands\": 55.616, \"__year_resale_value\": 10.595, \"Vehicle_type\": \"Passenger\", \"Price_in_thousands\": 17.357, \"Engine_size\": 2.4, \"Horsepower\": 145.0, \"Wheelbase\": 103.7, \"Width\": 68.5, \"Length\": 187.8, \"Curb_weight\": 2.945, \"Fuel_capacity\": 16.3, \"Fuel_efficiency\": 25.0, \"Latest_Launch\": 1327795200000000000, \"Power_perf_factor\": 58.60677292, \"Passenger\": 1, \"Pred\": 16.217322758014895}, {\"Manufacturer\": \"Mitsubishi\", \"Model\": \"Diamante\", \"Sales_in_thousands\": 5.711, \"__year_resale_value\": 16.575, \"Vehicle_type\": \"Passenger\", \"Price_in_thousands\": 24.997, \"Engine_size\": 3.5, \"Horsepower\": 210.0, \"Wheelbase\": 107.1, \"Width\": 70.3, \"Length\": 194.1, \"Curb_weight\": 3.443, \"Fuel_capacity\": 19.0, \"Fuel_efficiency\": 22.0, \"Latest_Launch\": 1346112000000000000, \"Power_perf_factor\": 84.83077858, \"Passenger\": 1, \"Pred\": 25.64932069037695}, {\"Manufacturer\": \"Mitsubishi\", \"Model\": \"3000GT\", \"Sales_in_thousands\": 0.11, \"__year_resale_value\": 20.94, \"Vehicle_type\": \"Passenger\", \"Price_in_thousands\": 25.45, \"Engine_size\": 3.0, \"Horsepower\": 161.0, \"Wheelbase\": 97.2, \"Width\": 72.4, \"Length\": 180.3, \"Curb_weight\": 3.131, \"Fuel_capacity\": 19.8, \"Fuel_efficiency\": 21.0, \"Latest_Launch\": 1340928000000000000, \"Power_perf_factor\": 67.54415494, \"Passenger\": 1, \"Pred\": 26.04317858757529}, {\"Manufacturer\": \"Mitsubishi\", \"Model\": \"Montero\", \"Sales_in_thousands\": 11.337, \"__year_resale_value\": 19.125, \"Vehicle_type\": \"Car\", \"Price_in_thousands\": 31.807, \"Engine_size\": 3.5, \"Horsepower\": 200.0, \"Wheelbase\": 107.3, \"Width\": 69.9, \"Length\": 186.6, \"Curb_weight\": 4.52, \"Fuel_capacity\": 24.3, \"Fuel_efficiency\": 18.0, \"Latest_Launch\": 1326758400000000000, \"Power_perf_factor\": 83.92081504, \"Passenger\": 0, \"Pred\": 29.57077753235694}, {\"Manufacturer\": \"Mitsubishi\", \"Model\": \"Montero Sport\", \"Sales_in_thousands\": 39.348, \"__year_resale_value\": 13.88, \"Vehicle_type\": \"Car\", \"Price_in_thousands\": 22.527, \"Engine_size\": 3.0, \"Horsepower\": 173.0, \"Wheelbase\": 107.3, \"Width\": 66.7, \"Length\": 178.3, \"Curb_weight\": 3.51, \"Fuel_capacity\": 19.5, \"Fuel_efficiency\": 20.0, \"Latest_Launch\": 1337299200000000000, \"Power_perf_factor\": 70.66094179, \"Passenger\": 0, \"Pred\": 21.910579769327878}, {\"Manufacturer\": \"Mercury\", \"Model\": \"Mystique\", \"Sales_in_thousands\": 14.351, \"__year_resale_value\": 8.8, \"Vehicle_type\": \"Passenger\", \"Price_in_thousands\": 16.24, \"Engine_size\": 2.0, \"Horsepower\": 125.0, \"Wheelbase\": 106.5, \"Width\": 69.1, \"Length\": 184.8, \"Curb_weight\": 2.769, \"Fuel_capacity\": 15.0, \"Fuel_efficiency\": 28.0, \"Latest_Launch\": 1355875200000000000, \"Power_perf_factor\": 50.99774761, \"Passenger\": 1, \"Pred\": 13.214120614089595}, {\"Manufacturer\": \"Mercury\", \"Model\": \"Cougar\", \"Sales_in_thousands\": 26.529, \"__year_resale_value\": 13.89, \"Vehicle_type\": \"Passenger\", \"Price_in_thousands\": 16.54, \"Engine_size\": 2.0, \"Horsepower\": 125.0, \"Wheelbase\": 106.4, \"Width\": 69.6, \"Length\": 185.0, \"Curb_weight\": 2.892, \"Fuel_capacity\": 16.0, \"Fuel_efficiency\": 30.0, \"Latest_Launch\": 1329955200000000000, \"Power_perf_factor\": 51.11347426, \"Passenger\": 1, \"Pred\": 18.36409431558128}, {\"Manufacturer\": \"Mercury\", \"Model\": \"Sable\", \"Sales_in_thousands\": 67.956, \"__year_resale_value\": 11.03, \"Vehicle_type\": \"Passenger\", \"Price_in_thousands\": 19.035, \"Engine_size\": 3.0, \"Horsepower\": 153.0, \"Wheelbase\": 108.5, \"Width\": 73.0, \"Length\": 199.7, \"Curb_weight\": 3.379, \"Fuel_capacity\": 16.0, \"Fuel_efficiency\": 24.0, \"Latest_Launch\": 1348272000000000000, \"Power_perf_factor\": 62.23996663, \"Passenger\": 1, \"Pred\": 16.689733926817897}, {\"Manufacturer\": \"Mercury\", \"Model\": \"Grand Marquis\", \"Sales_in_thousands\": 81.174, \"__year_resale_value\": 14.875, \"Vehicle_type\": \"Passenger\", \"Price_in_thousands\": 22.605, \"Engine_size\": 4.6, \"Horsepower\": 200.0, \"Wheelbase\": 114.7, \"Width\": 78.2, \"Length\": 212.0, \"Curb_weight\": 3.958, \"Fuel_capacity\": 19.0, \"Fuel_efficiency\": 21.0, \"Latest_Launch\": 1343088000000000000, \"Power_perf_factor\": 80.65769646, \"Passenger\": 1, \"Pred\": 23.68510401068005}, {\"Manufacturer\": \"Mercury\", \"Model\": \"Mountaineer\", \"Sales_in_thousands\": 27.609, \"__year_resale_value\": 20.43, \"Vehicle_type\": \"Car\", \"Price_in_thousands\": 27.56, \"Engine_size\": 4.0, \"Horsepower\": 210.0, \"Wheelbase\": 111.6, \"Width\": 70.2, \"Length\": 190.1, \"Curb_weight\": 3.876, \"Fuel_capacity\": 21.0, \"Fuel_efficiency\": 18.0, \"Latest_Launch\": 1202860800000000000, \"Power_perf_factor\": 85.94974425, \"Passenger\": 0, \"Pred\": 35.06076595850038}, {\"Manufacturer\": \"Mercury\", \"Model\": \"Villager\", \"Sales_in_thousands\": 20.38, \"__year_resale_value\": 14.795, \"Vehicle_type\": \"Car\", \"Price_in_thousands\": 22.51, \"Engine_size\": 3.3, \"Horsepower\": 170.0, \"Wheelbase\": 112.2, \"Width\": 74.9, \"Length\": 194.7, \"Curb_weight\": 3.944, \"Fuel_capacity\": 20.0, \"Fuel_efficiency\": 21.0, \"Latest_Launch\": 1255996800000000000, \"Power_perf_factor\": 69.671461, \"Passenger\": 0, \"Pred\": 25.80771921270178}, {\"Manufacturer\": \"Mercedes-B\", \"Model\": \"C-Class\", \"Sales_in_thousands\": 18.392, \"__year_resale_value\": 26.05, \"Vehicle_type\": \"Passenger\", \"Price_in_thousands\": 31.75, \"Engine_size\": 2.3, \"Horsepower\": 185.0, \"Wheelbase\": 105.9, \"Width\": 67.7, \"Length\": 177.4, \"Curb_weight\": 3.25, \"Fuel_capacity\": 16.4, \"Fuel_efficiency\": 26.0, \"Latest_Launch\": 1303603200000000000, \"Power_perf_factor\": 78.28073088, \"Passenger\": 1, \"Pred\": 34.229757188597354}, {\"Manufacturer\": \"Mercedes-B\", \"Model\": \"E-Class\", \"Sales_in_thousands\": 27.602, \"__year_resale_value\": 41.45, \"Vehicle_type\": \"Passenger\", \"Price_in_thousands\": 49.9, \"Engine_size\": 3.2, \"Horsepower\": 221.0, \"Wheelbase\": 111.5, \"Width\": 70.8, \"Length\": 189.4, \"Curb_weight\": 3.823, \"Fuel_capacity\": 21.1, \"Fuel_efficiency\": 25.0, \"Latest_Launch\": 1310428800000000000, \"Power_perf_factor\": 98.2497375, \"Passenger\": 1, \"Pred\": 51.50584748755403}, {\"Manufacturer\": \"Mercedes-B\", \"Model\": \"S-Class\", \"Sales_in_thousands\": 16.774, \"__year_resale_value\": 50.375, \"Vehicle_type\": \"Passenger\", \"Price_in_thousands\": 69.7, \"Engine_size\": 4.3, \"Horsepower\": 275.0, \"Wheelbase\": 121.5, \"Width\": 73.1, \"Length\": 203.1, \"Curb_weight\": 4.133, \"Fuel_capacity\": 23.2, \"Fuel_efficiency\": 21.0, \"Latest_Launch\": 1307923200000000000, \"Power_perf_factor\": 125.2738757, \"Passenger\": 1, \"Pred\": 65.28878087664236}, {\"Manufacturer\": \"Mercedes-B\", \"Model\": \"SL-Class\", \"Sales_in_thousands\": 3.311, \"__year_resale_value\": 58.6, \"Vehicle_type\": \"Passenger\", \"Price_in_thousands\": 82.6, \"Engine_size\": 5.0, \"Horsepower\": 302.0, \"Wheelbase\": 99.0, \"Width\": 71.3, \"Length\": 177.1, \"Curb_weight\": 4.125, \"Fuel_capacity\": 21.1, \"Fuel_efficiency\": 20.0, \"Latest_Launch\": 1300320000000000000, \"Power_perf_factor\": 139.9822936, \"Passenger\": 1, \"Pred\": 72.3817995307908}, {\"Manufacturer\": \"Nissan\", \"Model\": \"Sentra\", \"Sales_in_thousands\": 42.643, \"__year_resale_value\": 8.45, \"Vehicle_type\": \"Passenger\", \"Price_in_thousands\": 13.499, \"Engine_size\": 1.8, \"Horsepower\": 126.0, \"Wheelbase\": 99.8, \"Width\": 67.3, \"Length\": 177.5, \"Curb_weight\": 2.593, \"Fuel_capacity\": 13.2, \"Fuel_efficiency\": 30.0, \"Latest_Launch\": 1314748800000000000, \"Power_perf_factor\": 50.24197791, \"Passenger\": 1, \"Pred\": 12.914246607666264}, {\"Manufacturer\": \"Nissan\", \"Model\": \"Altima\", \"Sales_in_thousands\": 88.094, \"__year_resale_value\": 11.295, \"Vehicle_type\": \"Passenger\", \"Price_in_thousands\": 20.39, \"Engine_size\": 2.4, \"Horsepower\": 155.0, \"Wheelbase\": 103.1, \"Width\": 69.1, \"Length\": 183.5, \"Curb_weight\": 3.012, \"Fuel_capacity\": 15.9, \"Fuel_efficiency\": 25.0, \"Latest_Launch\": 1312243200000000000, \"Power_perf_factor\": 63.31372783, \"Passenger\": 1, \"Pred\": 17.910342159155164}, {\"Manufacturer\": \"Nissan\", \"Model\": \"Maxima\", \"Sales_in_thousands\": 79.853, \"__year_resale_value\": 15.125, \"Vehicle_type\": \"Passenger\", \"Price_in_thousands\": 26.249, \"Engine_size\": 3.0, \"Horsepower\": 222.0, \"Wheelbase\": 108.3, \"Width\": 70.3, \"Length\": 190.5, \"Curb_weight\": 3.294, \"Fuel_capacity\": 18.5, \"Fuel_efficiency\": 25.0, \"Latest_Launch\": 1304640000000000000, \"Power_perf_factor\": 89.42782031, \"Passenger\": 1, \"Pred\": 26.29941688086059}, {\"Manufacturer\": \"Nissan\", \"Model\": \"Quest\", \"Sales_in_thousands\": 27.308, \"__year_resale_value\": 15.38, \"Vehicle_type\": \"Car\", \"Price_in_thousands\": 26.399, \"Engine_size\": 3.3, \"Horsepower\": 170.0, \"Wheelbase\": 112.2, \"Width\": 74.9, \"Length\": 194.8, \"Curb_weight\": 3.991, \"Fuel_capacity\": 20.0, \"Fuel_efficiency\": 21.0, \"Latest_Launch\": 1299456000000000000, \"Power_perf_factor\": 71.17166413, \"Passenger\": 0, \"Pred\": 25.13069132468709}, {\"Manufacturer\": \"Nissan\", \"Model\": \"Pathfinder\", \"Sales_in_thousands\": 42.574, \"__year_resale_value\": 17.81, \"Vehicle_type\": \"Car\", \"Price_in_thousands\": 29.299, \"Engine_size\": 3.3, \"Horsepower\": 170.0, \"Wheelbase\": 106.3, \"Width\": 71.7, \"Length\": 182.6, \"Curb_weight\": 3.947, \"Fuel_capacity\": 21.0, \"Fuel_efficiency\": 19.0, \"Latest_Launch\": 1316908800000000000, \"Power_perf_factor\": 72.29035508, \"Passenger\": 0, \"Pred\": 26.343666021148277}, {\"Manufacturer\": \"Oldsmobile\", \"Model\": \"Cutlass\", \"Sales_in_thousands\": 1.112, \"__year_resale_value\": 11.24, \"Vehicle_type\": \"Passenger\", \"Price_in_thousands\": 18.145, \"Engine_size\": 3.1, \"Horsepower\": 150.0, \"Wheelbase\": 107.0, \"Width\": 69.4, \"Length\": 192.0, \"Curb_weight\": 3.102, \"Fuel_capacity\": 15.2, \"Fuel_efficiency\": 25.0, \"Latest_Launch\": 1306800000000000000, \"Power_perf_factor\": 60.86161155, \"Passenger\": 1, \"Pred\": 18.47815105955042}, {\"Manufacturer\": \"Oldsmobile\", \"Model\": \"Aurora\", \"Sales_in_thousands\": 14.69, \"__year_resale_value\": 19.89, \"Vehicle_type\": \"Passenger\", \"Price_in_thousands\": 36.229, \"Engine_size\": 4.0, \"Horsepower\": 250.0, \"Wheelbase\": 113.8, \"Width\": 74.4, \"Length\": 205.4, \"Curb_weight\": 3.967, \"Fuel_capacity\": 18.5, \"Fuel_efficiency\": 22.0, \"Latest_Launch\": 1297987200000000000, \"Power_perf_factor\": 103.4416926, \"Passenger\": 1, \"Pred\": 33.84773353007617}, {\"Manufacturer\": \"Oldsmobile\", \"Model\": \"Bravada\", \"Sales_in_thousands\": 20.017, \"__year_resale_value\": 19.925, \"Vehicle_type\": \"Car\", \"Price_in_thousands\": 31.598, \"Engine_size\": 4.3, \"Horsepower\": 190.0, \"Wheelbase\": 107.0, \"Width\": 67.8, \"Length\": 181.2, \"Curb_weight\": 4.068, \"Fuel_capacity\": 17.5, \"Fuel_efficiency\": 19.0, \"Latest_Launch\": 1316563200000000000, \"Power_perf_factor\": 80.51167259, \"Passenger\": 0, \"Pred\": 29.293038525695135}, {\"Manufacturer\": \"Oldsmobile\", \"Model\": \"Silhouette\", \"Sales_in_thousands\": 24.361, \"__year_resale_value\": 15.24, \"Vehicle_type\": \"Car\", \"Price_in_thousands\": 25.345, \"Engine_size\": 3.4, \"Horsepower\": 185.0, \"Wheelbase\": 120.0, \"Width\": 72.2, \"Length\": 201.4, \"Curb_weight\": 3.948, \"Fuel_capacity\": 25.0, \"Fuel_efficiency\": 22.0, \"Latest_Launch\": 1308960000000000000, \"Power_perf_factor\": 76.09657042, \"Passenger\": 0, \"Pred\": 26.96586002559786}, {\"Manufacturer\": \"Plymouth\", \"Model\": \"Neon\", \"Sales_in_thousands\": 32.734, \"__year_resale_value\": 7.75, \"Vehicle_type\": \"Passenger\", \"Price_in_thousands\": 12.64, \"Engine_size\": 2.0, \"Horsepower\": 132.0, \"Wheelbase\": 105.0, \"Width\": 74.4, \"Length\": 174.4, \"Curb_weight\": 2.559, \"Fuel_capacity\": 12.5, \"Fuel_efficiency\": 29.0, \"Latest_Launch\": 1303776000000000000, \"Power_perf_factor\": 52.08489875, \"Passenger\": 1, \"Pred\": 13.689245193345464}, {\"Manufacturer\": \"Plymouth\", \"Model\": \"Breeze\", \"Sales_in_thousands\": 5.24, \"__year_resale_value\": 9.8, \"Vehicle_type\": \"Passenger\", \"Price_in_thousands\": 16.08, \"Engine_size\": 2.0, \"Horsepower\": 132.0, \"Wheelbase\": 108.0, \"Width\": 71.0, \"Length\": 186.3, \"Curb_weight\": 2.942, \"Fuel_capacity\": 16.0, \"Fuel_efficiency\": 27.0, \"Latest_Launch\": 1321228800000000000, \"Power_perf_factor\": 53.41189767, \"Passenger\": 1, \"Pred\": 15.946140715547983}, {\"Manufacturer\": \"Plymouth\", \"Model\": \"Voyager\", \"Sales_in_thousands\": 24.155, \"__year_resale_value\": 12.025, \"Vehicle_type\": \"Car\", \"Price_in_thousands\": 18.85, \"Engine_size\": 2.4, \"Horsepower\": 150.0, \"Wheelbase\": 113.3, \"Width\": 76.8, \"Length\": 186.3, \"Curb_weight\": 3.528, \"Fuel_capacity\": 20.0, \"Fuel_efficiency\": 24.0, \"Latest_Launch\": 1303603200000000000, \"Power_perf_factor\": 60.95118512, \"Passenger\": 0, \"Pred\": 20.726012205074834}, {\"Manufacturer\": \"Pontiac\", \"Model\": \"Sunfire\", \"Sales_in_thousands\": 51.645, \"__year_resale_value\": 13.79, \"Vehicle_type\": \"Passenger\", \"Price_in_thousands\": 21.61, \"Engine_size\": 2.4, \"Horsepower\": 150.0, \"Wheelbase\": 104.1, \"Width\": 68.4, \"Length\": 181.9, \"Curb_weight\": 2.906, \"Fuel_capacity\": 15.0, \"Fuel_efficiency\": 27.0, \"Latest_Launch\": 1327449600000000000, \"Power_perf_factor\": 62.0158703, \"Passenger\": 1, \"Pred\": 19.648133253493217}, {\"Manufacturer\": \"Pontiac\", \"Model\": \"Grand Am\", \"Sales_in_thousands\": 131.097, \"__year_resale_value\": 10.29, \"Vehicle_type\": \"Passenger\", \"Price_in_thousands\": 19.72, \"Engine_size\": 3.4, \"Horsepower\": 175.0, \"Wheelbase\": 107.0, \"Width\": 70.4, \"Length\": 186.3, \"Curb_weight\": 3.091, \"Fuel_capacity\": 15.2, \"Fuel_efficiency\": 25.0, \"Latest_Launch\": 1353888000000000000, \"Power_perf_factor\": 70.38973726, \"Passenger\": 1, \"Pred\": 16.677176888991138}, {\"Manufacturer\": \"Pontiac\", \"Model\": \"Firebird\", \"Sales_in_thousands\": 19.911, \"__year_resale_value\": 17.805, \"Vehicle_type\": \"Passenger\", \"Price_in_thousands\": 25.31, \"Engine_size\": 3.8, \"Horsepower\": 200.0, \"Wheelbase\": 101.1, \"Width\": 74.5, \"Length\": 193.4, \"Curb_weight\": 3.492, \"Fuel_capacity\": 16.8, \"Fuel_efficiency\": 25.0, \"Latest_Launch\": 1339804800000000000, \"Power_perf_factor\": 81.49272616, \"Passenger\": 1, \"Pred\": 25.15897530521554}, {\"Manufacturer\": \"Pontiac\", \"Model\": \"Grand Prix\", \"Sales_in_thousands\": 92.364, \"__year_resale_value\": 14.01, \"Vehicle_type\": \"Passenger\", \"Price_in_thousands\": 21.665, \"Engine_size\": 3.8, \"Horsepower\": 195.0, \"Wheelbase\": 110.5, \"Width\": 72.7, \"Length\": 196.5, \"Curb_weight\": 3.396, \"Fuel_capacity\": 18.0, \"Fuel_efficiency\": 25.0, \"Latest_Launch\": 1350259200000000000, \"Power_perf_factor\": 78.31816813, \"Passenger\": 1, \"Pred\": 21.955760443106236}, {\"Manufacturer\": \"Pontiac\", \"Model\": \"Bonneville\", \"Sales_in_thousands\": 35.945, \"__year_resale_value\": 13.225, \"Vehicle_type\": \"Passenger\", \"Price_in_thousands\": 23.755, \"Engine_size\": 3.8, \"Horsepower\": 205.0, \"Wheelbase\": 112.2, \"Width\": 72.6, \"Length\": 202.5, \"Curb_weight\": 3.59, \"Fuel_capacity\": 17.5, \"Fuel_efficiency\": 24.0, \"Latest_Launch\": 1305676800000000000, \"Power_perf_factor\": 82.6613556, \"Passenger\": 1, \"Pred\": 24.046975285689488}, {\"Manufacturer\": \"Porsche\", \"Model\": \"Boxter\", \"Sales_in_thousands\": 8.982, \"__year_resale_value\": 41.25, \"Vehicle_type\": \"Passenger\", \"Price_in_thousands\": 41.43, \"Engine_size\": 2.7, \"Horsepower\": 217.0, \"Wheelbase\": 95.2, \"Width\": 70.1, \"Length\": 171.0, \"Curb_weight\": 2.778, \"Fuel_capacity\": 17.0, \"Fuel_efficiency\": 22.0, \"Latest_Launch\": 1329609600000000000, \"Power_perf_factor\": 93.4373307, \"Passenger\": 1, \"Pred\": 47.21586403372301}, {\"Manufacturer\": \"Porsche\", \"Model\": \"Carrera Coupe\", \"Sales_in_thousands\": 1.28, \"__year_resale_value\": 60.625, \"Vehicle_type\": \"Passenger\", \"Price_in_thousands\": 71.02, \"Engine_size\": 3.4, \"Horsepower\": 300.0, \"Wheelbase\": 92.6, \"Width\": 69.5, \"Length\": 174.5, \"Curb_weight\": 3.032, \"Fuel_capacity\": 17.0, \"Fuel_efficiency\": 21.0, \"Latest_Launch\": 1356048000000000000, \"Power_perf_factor\": 134.3909754, \"Passenger\": 1, \"Pred\": 69.23699892780033}, {\"Manufacturer\": \"Porsche\", \"Model\": \"Carrera Cabrio\", \"Sales_in_thousands\": 1.866, \"__year_resale_value\": 67.55, \"Vehicle_type\": \"Passenger\", \"Price_in_thousands\": 74.97, \"Engine_size\": 3.4, \"Horsepower\": 300.0, \"Wheelbase\": 92.6, \"Width\": 69.5, \"Length\": 174.5, \"Curb_weight\": 3.075, \"Fuel_capacity\": 17.0, \"Fuel_efficiency\": 23.0, \"Latest_Launch\": 1310342400000000000, \"Power_perf_factor\": 135.9147096, \"Passenger\": 1, \"Pred\": 76.97515944503775}, {\"Manufacturer\": \"Saturn\", \"Model\": \"SL\", \"Sales_in_thousands\": 80.62, \"__year_resale_value\": 9.2, \"Vehicle_type\": \"Passenger\", \"Price_in_thousands\": 10.685, \"Engine_size\": 1.9, \"Horsepower\": 100.0, \"Wheelbase\": 102.4, \"Width\": 66.4, \"Length\": 176.9, \"Curb_weight\": 2.332, \"Fuel_capacity\": 12.1, \"Fuel_efficiency\": 33.0, \"Latest_Launch\": 1345075200000000000, \"Power_perf_factor\": 39.98642475, \"Passenger\": 1, \"Pred\": 10.846922420155984}, {\"Manufacturer\": \"Saturn\", \"Model\": \"SC\", \"Sales_in_thousands\": 24.546, \"__year_resale_value\": 10.59, \"Vehicle_type\": \"Passenger\", \"Price_in_thousands\": 12.535, \"Engine_size\": 1.9, \"Horsepower\": 100.0, \"Wheelbase\": 102.4, \"Width\": 66.4, \"Length\": 180.0, \"Curb_weight\": 2.367, \"Fuel_capacity\": 12.1, \"Fuel_efficiency\": 33.0, \"Latest_Launch\": 1300233600000000000, \"Power_perf_factor\": 40.70007242, \"Passenger\": 1, \"Pred\": 14.098568233343805}, {\"Manufacturer\": \"Saturn\", \"Model\": \"SW\", \"Sales_in_thousands\": 5.223, \"__year_resale_value\": 10.79, \"Vehicle_type\": \"Passenger\", \"Price_in_thousands\": 14.29, \"Engine_size\": 1.9, \"Horsepower\": 124.0, \"Wheelbase\": 102.4, \"Width\": 66.4, \"Length\": 176.9, \"Curb_weight\": 2.452, \"Fuel_capacity\": 12.1, \"Fuel_efficiency\": 31.0, \"Latest_Launch\": 1295049600000000000, \"Power_perf_factor\": 49.86577367, \"Passenger\": 1, \"Pred\": 16.054663525500786}, {\"Manufacturer\": \"Toyota\", \"Model\": \"Corolla\", \"Sales_in_thousands\": 142.535, \"__year_resale_value\": 10.025, \"Vehicle_type\": \"Passenger\", \"Price_in_thousands\": 13.108, \"Engine_size\": 1.8, \"Horsepower\": 120.0, \"Wheelbase\": 97.0, \"Width\": 66.7, \"Length\": 174.0, \"Curb_weight\": 2.42, \"Fuel_capacity\": 13.2, \"Fuel_efficiency\": 33.0, \"Latest_Launch\": 1302480000000000000, \"Power_perf_factor\": 47.96897242, \"Passenger\": 1, \"Pred\": 13.27313157473067}, {\"Manufacturer\": \"Toyota\", \"Model\": \"Camry\", \"Sales_in_thousands\": 247.994, \"__year_resale_value\": 13.245, \"Vehicle_type\": \"Passenger\", \"Price_in_thousands\": 17.518, \"Engine_size\": 2.2, \"Horsepower\": 133.0, \"Wheelbase\": 105.2, \"Width\": 70.1, \"Length\": 188.5, \"Curb_weight\": 2.998, \"Fuel_capacity\": 18.5, \"Fuel_efficiency\": 27.0, \"Latest_Launch\": 1297296000000000000, \"Power_perf_factor\": 54.37241965, \"Passenger\": 1, \"Pred\": 17.969451557569343}, {\"Manufacturer\": \"Toyota\", \"Model\": \"Avalon\", \"Sales_in_thousands\": 63.849, \"__year_resale_value\": 18.14, \"Vehicle_type\": \"Passenger\", \"Price_in_thousands\": 25.545, \"Engine_size\": 3.0, \"Horsepower\": 210.0, \"Wheelbase\": 107.1, \"Width\": 71.7, \"Length\": 191.9, \"Curb_weight\": 3.417, \"Fuel_capacity\": 18.5, \"Fuel_efficiency\": 26.0, \"Latest_Launch\": 1314748800000000000, \"Power_perf_factor\": 84.91189826, \"Passenger\": 1, \"Pred\": 27.636804142239974}, {\"Manufacturer\": \"Toyota\", \"Model\": \"Celica\", \"Sales_in_thousands\": 33.269, \"__year_resale_value\": 15.445, \"Vehicle_type\": \"Passenger\", \"Price_in_thousands\": 16.875, \"Engine_size\": 1.8, \"Horsepower\": 140.0, \"Wheelbase\": 102.4, \"Width\": 68.3, \"Length\": 170.5, \"Curb_weight\": 2.425, \"Fuel_capacity\": 14.5, \"Fuel_efficiency\": 31.0, \"Latest_Launch\": 1356739200000000000, \"Power_perf_factor\": 56.49603034, \"Passenger\": 1, \"Pred\": 19.032470704869358}, {\"Manufacturer\": \"Toyota\", \"Model\": \"Tacoma\", \"Sales_in_thousands\": 84.087, \"__year_resale_value\": 9.575, \"Vehicle_type\": \"Car\", \"Price_in_thousands\": 11.528, \"Engine_size\": 2.4, \"Horsepower\": 142.0, \"Wheelbase\": 103.3, \"Width\": 66.5, \"Length\": 178.7, \"Curb_weight\": 2.58, \"Fuel_capacity\": 15.1, \"Fuel_efficiency\": 23.0, \"Latest_Launch\": 1312156800000000000, \"Power_perf_factor\": 55.29711658, \"Passenger\": 0, \"Pred\": 14.982537580643069}, {\"Manufacturer\": \"Toyota\", \"Model\": \"RAV4\", \"Sales_in_thousands\": 25.106, \"__year_resale_value\": 13.325, \"Vehicle_type\": \"Car\", \"Price_in_thousands\": 16.888, \"Engine_size\": 2.0, \"Horsepower\": 127.0, \"Wheelbase\": 94.9, \"Width\": 66.7, \"Length\": 163.8, \"Curb_weight\": 2.668, \"Fuel_capacity\": 15.3, \"Fuel_efficiency\": 27.0, \"Latest_Launch\": 1304640000000000000, \"Power_perf_factor\": 51.95510887, \"Passenger\": 0, \"Pred\": 17.768428441545936}, {\"Manufacturer\": \"Toyota\", \"Model\": \"4Runner\", \"Sales_in_thousands\": 68.411, \"__year_resale_value\": 19.425, \"Vehicle_type\": \"Car\", \"Price_in_thousands\": 22.288, \"Engine_size\": 2.7, \"Horsepower\": 150.0, \"Wheelbase\": 105.3, \"Width\": 66.5, \"Length\": 183.3, \"Curb_weight\": 3.44, \"Fuel_capacity\": 18.5, \"Fuel_efficiency\": 23.0, \"Latest_Launch\": 1299456000000000000, \"Power_perf_factor\": 62.35557713, \"Passenger\": 0, \"Pred\": 25.858992933369713}, {\"Manufacturer\": \"Toyota\", \"Model\": \"Land Cruiser\", \"Sales_in_thousands\": 9.835, \"__year_resale_value\": 34.08, \"Vehicle_type\": \"Car\", \"Price_in_thousands\": 51.728, \"Engine_size\": 4.7, \"Horsepower\": 230.0, \"Wheelbase\": 112.2, \"Width\": 76.4, \"Length\": 192.5, \"Curb_weight\": 5.115, \"Fuel_capacity\": 25.4, \"Fuel_efficiency\": 15.0, \"Latest_Launch\": 1316908800000000000, \"Power_perf_factor\": 102.5289842, \"Passenger\": 0, \"Pred\": 46.62382944244878}, {\"Manufacturer\": \"Volkswagen\", \"Model\": \"Golf\", \"Sales_in_thousands\": 9.761, \"__year_resale_value\": 11.425, \"Vehicle_type\": \"Passenger\", \"Price_in_thousands\": 14.9, \"Engine_size\": 2.0, \"Horsepower\": 115.0, \"Wheelbase\": 98.9, \"Width\": 68.3, \"Length\": 163.3, \"Curb_weight\": 2.767, \"Fuel_capacity\": 14.5, \"Fuel_efficiency\": 26.0, \"Latest_Launch\": 1295827200000000000, \"Power_perf_factor\": 46.94387676, \"Passenger\": 1, \"Pred\": 16.282527925003727}, {\"Manufacturer\": \"Volkswagen\", \"Model\": \"Jetta\", \"Sales_in_thousands\": 83.721, \"__year_resale_value\": 13.24, \"Vehicle_type\": \"Passenger\", \"Price_in_thousands\": 16.7, \"Engine_size\": 2.0, \"Horsepower\": 115.0, \"Wheelbase\": 98.9, \"Width\": 68.3, \"Length\": 172.3, \"Curb_weight\": 2.853, \"Fuel_capacity\": 14.5, \"Fuel_efficiency\": 26.0, \"Latest_Launch\": 1314403200000000000, \"Power_perf_factor\": 47.63823666, \"Passenger\": 1, \"Pred\": 16.551948576959205}, {\"Manufacturer\": \"Volkswagen\", \"Model\": \"Passat\", \"Sales_in_thousands\": 51.102, \"__year_resale_value\": 16.725, \"Vehicle_type\": \"Passenger\", \"Price_in_thousands\": 21.2, \"Engine_size\": 1.8, \"Horsepower\": 150.0, \"Wheelbase\": 106.4, \"Width\": 68.5, \"Length\": 184.1, \"Curb_weight\": 3.043, \"Fuel_capacity\": 16.4, \"Fuel_efficiency\": 27.0, \"Latest_Launch\": 1351555200000000000, \"Power_perf_factor\": 61.70138136, \"Passenger\": 1, \"Pred\": 21.5889799759629}, {\"Manufacturer\": \"Volkswagen\", \"Model\": \"Cabrio\", \"Sales_in_thousands\": 9.569, \"__year_resale_value\": 16.575, \"Vehicle_type\": \"Passenger\", \"Price_in_thousands\": 19.99, \"Engine_size\": 2.0, \"Horsepower\": 115.0, \"Wheelbase\": 97.4, \"Width\": 66.7, \"Length\": 160.4, \"Curb_weight\": 3.079, \"Fuel_capacity\": 13.7, \"Fuel_efficiency\": 26.0, \"Latest_Launch\": 1306800000000000000, \"Power_perf_factor\": 48.90737225, \"Passenger\": 1, \"Pred\": 20.465401386056715}, {\"Manufacturer\": \"Volkswagen\", \"Model\": \"GTI\", \"Sales_in_thousands\": 5.596, \"__year_resale_value\": 13.76, \"Vehicle_type\": \"Passenger\", \"Price_in_thousands\": 17.5, \"Engine_size\": 2.0, \"Horsepower\": 115.0, \"Wheelbase\": 98.9, \"Width\": 68.3, \"Length\": 163.3, \"Curb_weight\": 2.762, \"Fuel_capacity\": 14.6, \"Fuel_efficiency\": 26.0, \"Latest_Launch\": 1301616000000000000, \"Power_perf_factor\": 47.94684106, \"Passenger\": 1, \"Pred\": 18.326620083409978}]}}, {\"mode\": \"vega-lite\"});\n</script>",
      "text/plain": "alt.LayerChart(...)"
     },
     "metadata": {}
    }
   ]
  },
  {
   "cell_type": "markdown",
   "source": "## Create the Linear Regression for 4 most important condition:",
   "metadata": {
    "cell_id": "286f190378be407ab2734e8b888e4f19",
    "tags": [],
    "deepnote_cell_type": "markdown",
    "deepnote_cell_height": 110
   }
  },
  {
   "cell_type": "code",
   "metadata": {
    "cell_id": "213f6269ee6c4abaaae5ffe9c5f720fb",
    "tags": [],
    "deepnote_to_be_reexecuted": false,
    "source_hash": "5ebfc427",
    "execution_start": 1654670258408,
    "execution_millis": 0,
    "deepnote_cell_type": "code",
    "deepnote_cell_height": 99
   },
   "source": "x=df[['__year_resale_value','Engine_size','Curb_weight','Power_perf_factor']]\ny=df['Price_in_thousands']",
   "execution_count": null,
   "outputs": []
  },
  {
   "cell_type": "code",
   "metadata": {
    "cell_id": "b394b299e64a48149c267f4aecfb8d32",
    "tags": [],
    "deepnote_to_be_reexecuted": false,
    "source_hash": "2b622edf",
    "execution_start": 1654670327485,
    "execution_millis": 0,
    "deepnote_cell_type": "code",
    "deepnote_cell_height": 135
   },
   "source": "from sklearn.preprocessing import StandardScaler\nsc = StandardScaler()\nsc.fit(x)\nx2 = sc.transform(x)",
   "execution_count": null,
   "outputs": []
  },
  {
   "cell_type": "code",
   "metadata": {
    "cell_id": "cfb17063eae04e27bac2e5d48001f651",
    "tags": [],
    "deepnote_to_be_reexecuted": false,
    "source_hash": "c47406af",
    "execution_start": 1654670263240,
    "execution_millis": 0,
    "deepnote_cell_type": "code",
    "deepnote_cell_height": 135
   },
   "source": "from sklearn.linear_model import LinearRegression\nreg2=LinearRegression()\nreg2.fit(x,y)\ndf[\"Pred2\"]=reg2.predict(x)",
   "execution_count": null,
   "outputs": []
  },
  {
   "cell_type": "code",
   "metadata": {
    "cell_id": "51fbfcb3bd3a403d8338fda0165d9c2d",
    "tags": [],
    "deepnote_to_be_reexecuted": false,
    "source_hash": "59aadfbd",
    "execution_start": 1654670272696,
    "execution_millis": 4,
    "deepnote_cell_type": "code",
    "deepnote_cell_height": 118.1875
   },
   "source": "reg2.coef_",
   "execution_count": null,
   "outputs": [
    {
     "output_type": "execute_result",
     "execution_count": 32,
     "data": {
      "text/plain": "array([ 0.79057747, -1.48836066,  3.0635297 ,  0.21038971])"
     },
     "metadata": {}
    }
   ]
  },
  {
   "cell_type": "code",
   "metadata": {
    "cell_id": "5e22edaaaeb04d80a420ced29d4aad25",
    "tags": [],
    "deepnote_to_be_reexecuted": false,
    "source_hash": "b6aa95b2",
    "execution_start": 1654670277139,
    "execution_millis": 4,
    "deepnote_cell_type": "code",
    "deepnote_cell_height": 118.1875
   },
   "source": "reg2.intercept_",
   "execution_count": null,
   "outputs": [
    {
     "output_type": "execute_result",
     "execution_count": 33,
     "data": {
      "text/plain": "-9.696273495640352"
     },
     "metadata": {}
    }
   ]
  },
  {
   "cell_type": "code",
   "metadata": {
    "cell_id": "06a4f7cc430843b3869500899bb97ff4",
    "tags": [],
    "deepnote_to_be_reexecuted": false,
    "source_hash": "6826f717",
    "execution_start": 1654670332412,
    "execution_millis": 15,
    "deepnote_cell_type": "code",
    "deepnote_cell_height": 226.1875
   },
   "source": "from sklearn.model_selection import train_test_split\nx_train,x_test,y_train,y_test = train_test_split(x2,y,test_size = 0.2, random_state=0)\nfrom sklearn.linear_model import LinearRegression\nmodel = LinearRegression()\nmodel.fit(x_train,y_train)\npred= model.predict(x_train)\nmodel.score(x_train, y_train)",
   "execution_count": null,
   "outputs": [
    {
     "output_type": "execute_result",
     "execution_count": 37,
     "data": {
      "text/plain": "0.9602604670542807"
     },
     "metadata": {}
    }
   ]
  },
  {
   "cell_type": "code",
   "metadata": {
    "cell_id": "d2b1f0a2bfdc42ecb7194d215b019690",
    "tags": [],
    "deepnote_to_be_reexecuted": false,
    "source_hash": "eb23c538",
    "execution_start": 1654670350274,
    "execution_millis": 11,
    "deepnote_cell_type": "code",
    "deepnote_cell_height": 221.390625
   },
   "source": "from sklearn.linear_model import LinearRegression\nlinear_reg = LinearRegression()\nlinear_reg.fit(x_train, y_train)\nlinear_reg.predict(x_test)\nprint(\"Accuracy on Traing set: \",linear_reg.score(x_train,y_train))\nprint(\"Accuracy on Testing set: \",linear_reg.score(x_test,y_test))",
   "execution_count": null,
   "outputs": [
    {
     "name": "stdout",
     "text": "Accuracy on Traing set:  0.9602604670542807\nAccuracy on Testing set:  0.9554237019850436\n",
     "output_type": "stream"
    }
   ]
  },
  {
   "cell_type": "markdown",
   "source": "## Check whether overfits:",
   "metadata": {
    "cell_id": "0d2fcef4e71c4c4daa0e1488fb25f3dd",
    "tags": [],
    "deepnote_cell_type": "markdown",
    "deepnote_cell_height": 70
   }
  },
  {
   "cell_type": "code",
   "metadata": {
    "cell_id": "53824dbfc4344bfd8470e34c0f378f53",
    "tags": [],
    "deepnote_to_be_reexecuted": false,
    "source_hash": "cf8e4cfb",
    "execution_start": 1654670380320,
    "execution_millis": 2,
    "deepnote_cell_type": "code",
    "deepnote_cell_height": 244.1875
   },
   "source": "from sklearn.model_selection import train_test_split\nx_train,x_test,y_train,y_test = train_test_split(x,y,test_size = 0.2)\nfrom sklearn.linear_model import LinearRegression\nlinreg = LinearRegression()\nlinreg.fit(x_train,y_train)\npred= linreg.predict(x_test)\nfrom sklearn.metrics import mean_squared_error\nmean_squared_error(y_test, pred)",
   "execution_count": null,
   "outputs": [
    {
     "output_type": "execute_result",
     "execution_count": 40,
     "data": {
      "text/plain": "16.114304344869506"
     },
     "metadata": {}
    }
   ]
  },
  {
   "cell_type": "code",
   "metadata": {
    "cell_id": "4145658da60b4cc1a345b022440ae7fa",
    "tags": [],
    "deepnote_to_be_reexecuted": false,
    "source_hash": "6004e86",
    "execution_start": 1654670387361,
    "execution_millis": 173,
    "deepnote_cell_type": "code",
    "deepnote_cell_height": 136.1875
   },
   "source": "from sklearn.metrics import r2_score\nr2_score(y_test,pred)",
   "execution_count": null,
   "outputs": [
    {
     "output_type": "execute_result",
     "execution_count": 41,
     "data": {
      "text/plain": "0.9314058140034983"
     },
     "metadata": {}
    }
   ]
  },
  {
   "cell_type": "code",
   "metadata": {
    "cell_id": "702f4c2d3cc8438982bfaa9b9a5a4195",
    "tags": [],
    "deepnote_to_be_reexecuted": false,
    "source_hash": "9f8b1448",
    "execution_start": 1654670561536,
    "execution_millis": 8,
    "deepnote_cell_type": "code",
    "deepnote_cell_height": 111.6875
   },
   "source": "print(\"Our model is explaining almost 96% of variablity of the training data\")",
   "execution_count": null,
   "outputs": [
    {
     "name": "stdout",
     "text": "Our model is explaining almost 96% of variablity of the training data\n",
     "output_type": "stream"
    }
   ]
  },
  {
   "cell_type": "markdown",
   "source": "We assume that the model is reliable.",
   "metadata": {
    "cell_id": "0c5cac8c9fc049afada113636a59f41d",
    "tags": [],
    "deepnote_to_be_reexecuted": false,
    "source_hash": "e136f9df",
    "execution_start": 1654670580225,
    "execution_millis": 11,
    "deepnote_cell_type": "markdown",
    "deepnote_cell_height": 52.390625
   }
  },
  {
   "cell_type": "markdown",
   "source": "## Create the KNeighborsClassifier to determine if the car is worth buying:",
   "metadata": {
    "cell_id": "b80f5c570ae447f58a681d0a35a3699a",
    "tags": [],
    "deepnote_cell_type": "markdown",
    "deepnote_cell_height": 110
   }
  },
  {
   "cell_type": "code",
   "metadata": {
    "cell_id": "8dc9d7a84a794721b2c837ddc9c5130d",
    "tags": [],
    "deepnote_to_be_reexecuted": false,
    "source_hash": "5886ce4c",
    "execution_start": 1654670916389,
    "execution_millis": 158,
    "deepnote_cell_type": "code",
    "deepnote_cell_height": 672
   },
   "source": "import numpy as np\nconditions = [df['Pred2'] > df['Price_in_thousands'],df['Pred2'] < df['Price_in_thousands']]\nchoices = ['Buy','Not Buy']\ndf['Trade Decision'] = np.select(conditions, choices, default='Not Buy')\ndf",
   "execution_count": null,
   "outputs": [
    {
     "output_type": "execute_result",
     "execution_count": 47,
     "data": {
      "application/vnd.deepnote.dataframe.v3+json": {
       "column_count": 20,
       "row_count": 117,
       "columns": [
        {
         "name": "Manufacturer",
         "dtype": "object",
         "stats": {
          "unique_count": 26,
          "nan_count": 0,
          "categories": [
           {
            "name": "Ford",
            "count": 10
           },
           {
            "name": "Dodge",
            "count": 9
           },
           {
            "name": "24 others",
            "count": 98
           }
          ]
         }
        },
        {
         "name": "Model",
         "dtype": "object",
         "stats": {
          "unique_count": 116,
          "nan_count": 0,
          "categories": [
           {
            "name": "Neon",
            "count": 2
           },
           {
            "name": "Integra",
            "count": 1
           },
           {
            "name": "114 others",
            "count": 114
           }
          ]
         }
        },
        {
         "name": "Sales_in_thousands",
         "dtype": "float64",
         "stats": {
          "unique_count": 117,
          "nan_count": 0,
          "min": "0.11",
          "max": "540.561",
          "histogram": [
           {
            "bin_start": 0.11,
            "bin_end": 54.155100000000004,
            "count": 76
           },
           {
            "bin_start": 54.155100000000004,
            "bin_end": 108.20020000000001,
            "count": 23
           },
           {
            "bin_start": 108.20020000000001,
            "bin_end": 162.24530000000004,
            "count": 9
           },
           {
            "bin_start": 162.24530000000004,
            "bin_end": 216.29040000000003,
            "count": 2
           },
           {
            "bin_start": 216.29040000000003,
            "bin_end": 270.3355,
            "count": 5
           },
           {
            "bin_start": 270.3355,
            "bin_end": 324.3806000000001,
            "count": 1
           },
           {
            "bin_start": 324.3806000000001,
            "bin_end": 378.42570000000006,
            "count": 0
           },
           {
            "bin_start": 378.42570000000006,
            "bin_end": 432.47080000000005,
            "count": 0
           },
           {
            "bin_start": 432.47080000000005,
            "bin_end": 486.51590000000004,
            "count": 0
           },
           {
            "bin_start": 486.51590000000004,
            "bin_end": 540.561,
            "count": 1
           }
          ]
         }
        },
        {
         "name": "__year_resale_value",
         "dtype": "float64",
         "stats": {
          "unique_count": 114,
          "nan_count": 0,
          "min": "5.16",
          "max": "67.55",
          "histogram": [
           {
            "bin_start": 5.16,
            "bin_end": 11.399000000000001,
            "count": 32
           },
           {
            "bin_start": 11.399000000000001,
            "bin_end": 17.637999999999998,
            "count": 45
           },
           {
            "bin_start": 17.637999999999998,
            "bin_end": 23.877,
            "count": 22
           },
           {
            "bin_start": 23.877,
            "bin_end": 30.116,
            "count": 5
           },
           {
            "bin_start": 30.116,
            "bin_end": 36.355000000000004,
            "count": 4
           },
           {
            "bin_start": 36.355000000000004,
            "bin_end": 42.593999999999994,
            "count": 4
           },
           {
            "bin_start": 42.593999999999994,
            "bin_end": 48.833,
            "count": 0
           },
           {
            "bin_start": 48.833,
            "bin_end": 55.072,
            "count": 1
           },
           {
            "bin_start": 55.072,
            "bin_end": 61.31099999999999,
            "count": 3
           },
           {
            "bin_start": 61.31099999999999,
            "bin_end": 67.55,
            "count": 1
           }
          ]
         }
        },
        {
         "name": "Vehicle_type",
         "dtype": "object",
         "stats": {
          "unique_count": 2,
          "nan_count": 0,
          "categories": [
           {
            "name": "Passenger",
            "count": 88
           },
           {
            "name": "Car",
            "count": 29
           }
          ]
         }
        },
        {
         "name": "Price_in_thousands",
         "dtype": "float64",
         "stats": {
          "unique_count": 116,
          "nan_count": 0,
          "min": "9.235",
          "max": "82.6",
          "histogram": [
           {
            "bin_start": 9.235,
            "bin_end": 16.5715,
            "count": 26
           },
           {
            "bin_start": 16.5715,
            "bin_end": 23.907999999999998,
            "count": 41
           },
           {
            "bin_start": 23.907999999999998,
            "bin_end": 31.244499999999995,
            "count": 22
           },
           {
            "bin_start": 31.244499999999995,
            "bin_end": 38.580999999999996,
            "count": 11
           },
           {
            "bin_start": 38.580999999999996,
            "bin_end": 45.9175,
            "count": 8
           },
           {
            "bin_start": 45.9175,
            "bin_end": 53.25399999999999,
            "count": 2
           },
           {
            "bin_start": 53.25399999999999,
            "bin_end": 60.59049999999999,
            "count": 1
           },
           {
            "bin_start": 60.59049999999999,
            "bin_end": 67.92699999999999,
            "count": 1
           },
           {
            "bin_start": 67.92699999999999,
            "bin_end": 75.2635,
            "count": 4
           },
           {
            "bin_start": 75.2635,
            "bin_end": 82.6,
            "count": 1
           }
          ]
         }
        },
        {
         "name": "Engine_size",
         "dtype": "float64",
         "stats": {
          "unique_count": 29,
          "nan_count": 0,
          "min": "1.0",
          "max": "8.0",
          "histogram": [
           {
            "bin_start": 1,
            "bin_end": 1.7,
            "count": 3
           },
           {
            "bin_start": 1.7,
            "bin_end": 2.4,
            "count": 29
           },
           {
            "bin_start": 2.4,
            "bin_end": 3.0999999999999996,
            "count": 33
           },
           {
            "bin_start": 3.0999999999999996,
            "bin_end": 3.8,
            "count": 20
           },
           {
            "bin_start": 3.8,
            "bin_end": 4.5,
            "count": 19
           },
           {
            "bin_start": 4.5,
            "bin_end": 5.199999999999999,
            "count": 10
           },
           {
            "bin_start": 5.199999999999999,
            "bin_end": 5.8999999999999995,
            "count": 2
           },
           {
            "bin_start": 5.8999999999999995,
            "bin_end": 6.6,
            "count": 0
           },
           {
            "bin_start": 6.6,
            "bin_end": 7.3,
            "count": 0
           },
           {
            "bin_start": 7.3,
            "bin_end": 8,
            "count": 1
           }
          ]
         }
        },
        {
         "name": "Horsepower",
         "dtype": "float64",
         "stats": {
          "unique_count": 57,
          "nan_count": 0,
          "min": "55.0",
          "max": "450.0",
          "histogram": [
           {
            "bin_start": 55,
            "bin_end": 94.5,
            "count": 2
           },
           {
            "bin_start": 94.5,
            "bin_end": 134,
            "count": 25
           },
           {
            "bin_start": 134,
            "bin_end": 173.5,
            "count": 31
           },
           {
            "bin_start": 173.5,
            "bin_end": 213,
            "count": 34
           },
           {
            "bin_start": 213,
            "bin_end": 252.5,
            "count": 13
           },
           {
            "bin_start": 252.5,
            "bin_end": 292,
            "count": 6
           },
           {
            "bin_start": 292,
            "bin_end": 331.5,
            "count": 4
           },
           {
            "bin_start": 331.5,
            "bin_end": 371,
            "count": 1
           },
           {
            "bin_start": 371,
            "bin_end": 410.5,
            "count": 0
           },
           {
            "bin_start": 410.5,
            "bin_end": 450,
            "count": 1
           }
          ]
         }
        },
        {
         "name": "Wheelbase",
         "dtype": "float64",
         "stats": {
          "unique_count": 74,
          "nan_count": 0,
          "min": "92.6",
          "max": "138.7",
          "histogram": [
           {
            "bin_start": 92.6,
            "bin_end": 97.21,
            "count": 11
           },
           {
            "bin_start": 97.21,
            "bin_end": 101.82,
            "count": 15
           },
           {
            "bin_start": 101.82,
            "bin_end": 106.42999999999999,
            "count": 28
           },
           {
            "bin_start": 106.42999999999999,
            "bin_end": 111.03999999999999,
            "count": 31
           },
           {
            "bin_start": 111.03999999999999,
            "bin_end": 115.64999999999999,
            "count": 21
           },
           {
            "bin_start": 115.64999999999999,
            "bin_end": 120.25999999999999,
            "count": 5
           },
           {
            "bin_start": 120.25999999999999,
            "bin_end": 124.86999999999999,
            "count": 2
           },
           {
            "bin_start": 124.86999999999999,
            "bin_end": 129.48,
            "count": 1
           },
           {
            "bin_start": 129.48,
            "bin_end": 134.08999999999997,
            "count": 1
           },
           {
            "bin_start": 134.08999999999997,
            "bin_end": 138.7,
            "count": 2
           }
          ]
         }
        },
        {
         "name": "Width",
         "dtype": "float64",
         "stats": {
          "unique_count": 66,
          "nan_count": 0,
          "min": "62.6",
          "max": "79.3",
          "histogram": [
           {
            "bin_start": 62.6,
            "bin_end": 64.27,
            "count": 1
           },
           {
            "bin_start": 64.27,
            "bin_end": 65.94,
            "count": 1
           },
           {
            "bin_start": 65.94,
            "bin_end": 67.61,
            "count": 17
           },
           {
            "bin_start": 67.61,
            "bin_end": 69.28,
            "count": 19
           },
           {
            "bin_start": 69.28,
            "bin_end": 70.95,
            "count": 25
           },
           {
            "bin_start": 70.95,
            "bin_end": 72.62,
            "count": 15
           },
           {
            "bin_start": 72.62,
            "bin_end": 74.28999999999999,
            "count": 13
           },
           {
            "bin_start": 74.28999999999999,
            "bin_end": 75.96,
            "count": 13
           },
           {
            "bin_start": 75.96,
            "bin_end": 77.63,
            "count": 5
           },
           {
            "bin_start": 77.63,
            "bin_end": 79.3,
            "count": 8
           }
          ]
         }
        },
        {
         "name": "Length",
         "dtype": "float64",
         "stats": {
          "unique_count": 102,
          "nan_count": 0,
          "min": "149.4",
          "max": "224.5",
          "histogram": [
           {
            "bin_start": 149.4,
            "bin_end": 156.91,
            "count": 2
           },
           {
            "bin_start": 156.91,
            "bin_end": 164.42000000000002,
            "count": 4
           },
           {
            "bin_start": 164.42000000000002,
            "bin_end": 171.93,
            "count": 4
           },
           {
            "bin_start": 171.93,
            "bin_end": 179.44,
            "count": 25
           },
           {
            "bin_start": 179.44,
            "bin_end": 186.95,
            "count": 23
           },
           {
            "bin_start": 186.95,
            "bin_end": 194.46,
            "count": 24
           },
           {
            "bin_start": 194.46,
            "bin_end": 201.97,
            "count": 19
           },
           {
            "bin_start": 201.97,
            "bin_end": 209.48000000000002,
            "count": 10
           },
           {
            "bin_start": 209.48000000000002,
            "bin_end": 216.99,
            "count": 4
           },
           {
            "bin_start": 216.99,
            "bin_end": 224.5,
            "count": 2
           }
          ]
         }
        },
        {
         "name": "Curb_weight",
         "dtype": "float64",
         "stats": {
          "unique_count": 113,
          "nan_count": 0,
          "min": "1.895",
          "max": "5.115",
          "histogram": [
           {
            "bin_start": 1.895,
            "bin_end": 2.217,
            "count": 1
           },
           {
            "bin_start": 2.217,
            "bin_end": 2.539,
            "count": 10
           },
           {
            "bin_start": 2.539,
            "bin_end": 2.8609999999999998,
            "count": 14
           },
           {
            "bin_start": 2.8609999999999998,
            "bin_end": 3.183,
            "count": 24
           },
           {
            "bin_start": 3.183,
            "bin_end": 3.505,
            "count": 24
           },
           {
            "bin_start": 3.505,
            "bin_end": 3.827,
            "count": 15
           },
           {
            "bin_start": 3.827,
            "bin_end": 4.149,
            "count": 21
           },
           {
            "bin_start": 4.149,
            "bin_end": 4.471,
            "count": 5
           },
           {
            "bin_start": 4.471,
            "bin_end": 4.793,
            "count": 1
           },
           {
            "bin_start": 4.793,
            "bin_end": 5.115,
            "count": 2
           }
          ]
         }
        },
        {
         "name": "Fuel_capacity",
         "dtype": "float64",
         "stats": {
          "unique_count": 45,
          "nan_count": 0,
          "min": "10.3",
          "max": "32.0",
          "histogram": [
           {
            "bin_start": 10.3,
            "bin_end": 12.47,
            "count": 6
           },
           {
            "bin_start": 12.47,
            "bin_end": 14.64,
            "count": 15
           },
           {
            "bin_start": 14.64,
            "bin_end": 16.810000000000002,
            "count": 29
           },
           {
            "bin_start": 16.810000000000002,
            "bin_end": 18.98,
            "count": 28
           },
           {
            "bin_start": 18.98,
            "bin_end": 21.15,
            "count": 26
           },
           {
            "bin_start": 21.15,
            "bin_end": 23.32,
            "count": 3
           },
           {
            "bin_start": 23.32,
            "bin_end": 25.490000000000002,
            "count": 5
           },
           {
            "bin_start": 25.490000000000002,
            "bin_end": 27.66,
            "count": 3
           },
           {
            "bin_start": 27.66,
            "bin_end": 29.830000000000002,
            "count": 0
           },
           {
            "bin_start": 29.830000000000002,
            "bin_end": 32,
            "count": 2
           }
          ]
         }
        },
        {
         "name": "Fuel_efficiency",
         "dtype": "float64",
         "stats": {
          "unique_count": 20,
          "nan_count": 0,
          "min": "15.0",
          "max": "45.0",
          "histogram": [
           {
            "bin_start": 15,
            "bin_end": 18,
            "count": 7
           },
           {
            "bin_start": 18,
            "bin_end": 21,
            "count": 12
           },
           {
            "bin_start": 21,
            "bin_end": 24,
            "count": 31
           },
           {
            "bin_start": 24,
            "bin_end": 27,
            "count": 39
           },
           {
            "bin_start": 27,
            "bin_end": 30,
            "count": 15
           },
           {
            "bin_start": 30,
            "bin_end": 33,
            "count": 8
           },
           {
            "bin_start": 33,
            "bin_end": 36,
            "count": 4
           },
           {
            "bin_start": 36,
            "bin_end": 39,
            "count": 0
           },
           {
            "bin_start": 39,
            "bin_end": 42,
            "count": 0
           },
           {
            "bin_start": 42,
            "bin_end": 45,
            "count": 1
           }
          ]
         }
        },
        {
         "name": "Latest_Launch",
         "dtype": "int64",
         "stats": {
          "unique_count": 108,
          "nan_count": 0,
          "min": "1202860800000000000",
          "max": "1356739200000000000",
          "histogram": [
           {
            "bin_start": 1202860800000000000,
            "bin_end": 1218248640000000000,
            "count": 1
           },
           {
            "bin_start": 1218248640000000000,
            "bin_end": 1233636480000000000,
            "count": 0
           },
           {
            "bin_start": 1233636480000000000,
            "bin_end": 1249024320000000000,
            "count": 0
           },
           {
            "bin_start": 1249024320000000000,
            "bin_end": 1264412160000000000,
            "count": 1
           },
           {
            "bin_start": 1264412160000000000,
            "bin_end": 1279800000000000000,
            "count": 0
           },
           {
            "bin_start": 1279800000000000000,
            "bin_end": 1295187840000000000,
            "count": 1
           },
           {
            "bin_start": 1295187840000000000,
            "bin_end": 1310575680000000000,
            "count": 25
           },
           {
            "bin_start": 1310575680000000000,
            "bin_end": 1325963520000000000,
            "count": 33
           },
           {
            "bin_start": 1325963520000000000,
            "bin_end": 1341351360000000000,
            "count": 36
           },
           {
            "bin_start": 1341351360000000000,
            "bin_end": 1356739200000000000,
            "count": 20
           }
          ]
         }
        },
        {
         "name": "Power_perf_factor",
         "dtype": "float64",
         "stats": {
          "unique_count": 116,
          "nan_count": 0,
          "min": "23.27627233",
          "max": "188.144323",
          "histogram": [
           {
            "bin_start": 23.27627233,
            "bin_end": 39.763077397,
            "count": 2
           },
           {
            "bin_start": 39.763077397,
            "bin_end": 56.249882463999995,
            "count": 28
           },
           {
            "bin_start": 56.249882463999995,
            "bin_end": 72.736687531,
            "count": 34
           },
           {
            "bin_start": 72.736687531,
            "bin_end": 89.22349259799999,
            "count": 27
           },
           {
            "bin_start": 89.22349259799999,
            "bin_end": 105.710297665,
            "count": 15
           },
           {
            "bin_start": 105.710297665,
            "bin_end": 122.19710273199999,
            "count": 3
           },
           {
            "bin_start": 122.19710273199999,
            "bin_end": 138.683907799,
            "count": 5
           },
           {
            "bin_start": 138.683907799,
            "bin_end": 155.170712866,
            "count": 2
           },
           {
            "bin_start": 155.170712866,
            "bin_end": 171.657517933,
            "count": 0
           },
           {
            "bin_start": 171.657517933,
            "bin_end": 188.144323,
            "count": 1
           }
          ]
         }
        },
        {
         "name": "Passenger",
         "dtype": "int64",
         "stats": {
          "unique_count": 2,
          "nan_count": 0,
          "min": "0",
          "max": "1",
          "histogram": [
           {
            "bin_start": 0,
            "bin_end": 0.1,
            "count": 29
           },
           {
            "bin_start": 0.1,
            "bin_end": 0.2,
            "count": 0
           },
           {
            "bin_start": 0.2,
            "bin_end": 0.30000000000000004,
            "count": 0
           },
           {
            "bin_start": 0.30000000000000004,
            "bin_end": 0.4,
            "count": 0
           },
           {
            "bin_start": 0.4,
            "bin_end": 0.5,
            "count": 0
           },
           {
            "bin_start": 0.5,
            "bin_end": 0.6000000000000001,
            "count": 0
           },
           {
            "bin_start": 0.6000000000000001,
            "bin_end": 0.7000000000000001,
            "count": 0
           },
           {
            "bin_start": 0.7000000000000001,
            "bin_end": 0.8,
            "count": 0
           },
           {
            "bin_start": 0.8,
            "bin_end": 0.9,
            "count": 0
           },
           {
            "bin_start": 0.9,
            "bin_end": 1,
            "count": 88
           }
          ]
         }
        },
        {
         "name": "Pred",
         "dtype": "float64",
         "stats": {
          "unique_count": 117,
          "nan_count": 0,
          "min": "5.0466517825749335",
          "max": "77.25953454875895",
          "histogram": [
           {
            "bin_start": 5.0466517825749335,
            "bin_end": 12.267940059193334,
            "count": 6
           },
           {
            "bin_start": 12.267940059193334,
            "bin_end": 19.489228335811735,
            "count": 39
           },
           {
            "bin_start": 19.489228335811735,
            "bin_end": 26.710516612430133,
            "count": 33
           },
           {
            "bin_start": 26.710516612430133,
            "bin_end": 33.931804889048536,
            "count": 18
           },
           {
            "bin_start": 33.931804889048536,
            "bin_end": 41.15309316566694,
            "count": 8
           },
           {
            "bin_start": 41.15309316566694,
            "bin_end": 48.37438144228533,
            "count": 4
           },
           {
            "bin_start": 48.37438144228533,
            "bin_end": 55.595669718903736,
            "count": 4
           },
           {
            "bin_start": 55.595669718903736,
            "bin_end": 62.81695799552214,
            "count": 0
           },
           {
            "bin_start": 62.81695799552214,
            "bin_end": 70.03824627214053,
            "count": 2
           },
           {
            "bin_start": 70.03824627214053,
            "bin_end": 77.25953454875895,
            "count": 3
           }
          ]
         }
        },
        {
         "name": "Pred2",
         "dtype": "float64",
         "stats": {
          "unique_count": 117,
          "nan_count": 0,
          "min": "3.597222551067542",
          "max": "76.66221853406093",
          "histogram": [
           {
            "bin_start": 3.597222551067542,
            "bin_end": 10.90372214936688,
            "count": 5
           },
           {
            "bin_start": 10.90372214936688,
            "bin_end": 18.210221747666218,
            "count": 34
           },
           {
            "bin_start": 18.210221747666218,
            "bin_end": 25.516721345965554,
            "count": 32
           },
           {
            "bin_start": 25.516721345965554,
            "bin_end": 32.82322094426489,
            "count": 22
           },
           {
            "bin_start": 32.82322094426489,
            "bin_end": 40.12972054256423,
            "count": 11
           },
           {
            "bin_start": 40.12972054256423,
            "bin_end": 47.43622014086357,
            "count": 3
           },
           {
            "bin_start": 47.43622014086357,
            "bin_end": 54.74271973916291,
            "count": 4
           },
           {
            "bin_start": 54.74271973916291,
            "bin_end": 62.04921933746225,
            "count": 1
           },
           {
            "bin_start": 62.04921933746225,
            "bin_end": 69.35571893576159,
            "count": 1
           },
           {
            "bin_start": 69.35571893576159,
            "bin_end": 76.66221853406093,
            "count": 4
           }
          ]
         }
        },
        {
         "name": "Trade Decision",
         "dtype": "object",
         "stats": {
          "unique_count": 2,
          "nan_count": 0,
          "categories": [
           {
            "name": "Not Buy",
            "count": 61
           },
           {
            "name": "Buy",
            "count": 56
           }
          ]
         }
        },
        {
         "name": "_deepnote_index_column",
         "dtype": "int64"
        }
       ],
       "rows": [
        {
         "Manufacturer": "Acura",
         "Model": "Integra",
         "Sales_in_thousands": 16.919,
         "__year_resale_value": 16.36,
         "Vehicle_type": "Passenger",
         "Price_in_thousands": 21.5,
         "Engine_size": 1.8,
         "Horsepower": 140,
         "Wheelbase": 101.2,
         "Width": 67.3,
         "Length": 172.4,
         "Curb_weight": 2.639,
         "Fuel_capacity": 13.2,
         "Fuel_efficiency": 28,
         "Latest_Launch": 1328140800000000000,
         "Power_perf_factor": 58.28014952,
         "Passenger": 1,
         "Pred": 21.04355050222738,
         "Pred2": 20.904723344076917,
         "Trade Decision": "Not Buy",
         "_deepnote_index_column": 0
        },
        {
         "Manufacturer": "Acura",
         "Model": "TL",
         "Sales_in_thousands": 39.384,
         "__year_resale_value": 19.875,
         "Vehicle_type": "Passenger",
         "Price_in_thousands": 28.4,
         "Engine_size": 3.2,
         "Horsepower": 225,
         "Wheelbase": 108.1,
         "Width": 70.3,
         "Length": 192.9,
         "Curb_weight": 3.517,
         "Fuel_capacity": 17.2,
         "Fuel_efficiency": 25,
         "Latest_Launch": 1307059200000000000,
         "Power_perf_factor": 91.37077766,
         "Passenger": 1,
         "Pred": 30.55027806339063,
         "Pred2": 31.251604938182435,
         "Trade Decision": "Buy",
         "_deepnote_index_column": 1
        },
        {
         "Manufacturer": "Acura",
         "Model": "RL",
         "Sales_in_thousands": 8.588,
         "__year_resale_value": 29.725,
         "Vehicle_type": "Passenger",
         "Price_in_thousands": 42,
         "Engine_size": 3.5,
         "Horsepower": 210,
         "Wheelbase": 114.6,
         "Width": 71.4,
         "Length": 196.6,
         "Curb_weight": 3.85,
         "Fuel_capacity": 18,
         "Fuel_efficiency": 22,
         "Latest_Launch": 1299715200000000000,
         "Power_perf_factor": 91.38977933,
         "Passenger": 1,
         "Pred": 40.84100160081856,
         "Pred2": 39.61643798802507,
         "Trade Decision": "Not Buy",
         "_deepnote_index_column": 3
        },
        {
         "Manufacturer": "Audi",
         "Model": "A4",
         "Sales_in_thousands": 20.397,
         "__year_resale_value": 22.255,
         "Vehicle_type": "Passenger",
         "Price_in_thousands": 23.99,
         "Engine_size": 1.8,
         "Horsepower": 150,
         "Wheelbase": 102.6,
         "Width": 68.2,
         "Length": 178,
         "Curb_weight": 2.998,
         "Fuel_capacity": 16.4,
         "Fuel_efficiency": 27,
         "Latest_Launch": 1318032000000000000,
         "Power_perf_factor": 62.7776392,
         "Passenger": 1,
         "Pred": 27.45609708347422,
         "Pred2": 27.61121025058915,
         "Trade Decision": "Buy",
         "_deepnote_index_column": 4
        },
        {
         "Manufacturer": "Audi",
         "Model": "A6",
         "Sales_in_thousands": 18.78,
         "__year_resale_value": 23.555,
         "Vehicle_type": "Passenger",
         "Price_in_thousands": 33.95,
         "Engine_size": 2.8,
         "Horsepower": 200,
         "Wheelbase": 108.7,
         "Width": 76.1,
         "Length": 192,
         "Curb_weight": 3.561,
         "Fuel_capacity": 18.5,
         "Fuel_efficiency": 22,
         "Latest_Launch": 1312848000000000000,
         "Power_perf_factor": 84.56510502,
         "Passenger": 1,
         "Pred": 33.08320491771251,
         "Pred2": 33.45922612050008,
         "Trade Decision": "Not Buy",
         "_deepnote_index_column": 5
        },
        {
         "Manufacturer": "Audi",
         "Model": "A8",
         "Sales_in_thousands": 1.38,
         "__year_resale_value": 39,
         "Vehicle_type": "Passenger",
         "Price_in_thousands": 62,
         "Engine_size": 4.2,
         "Horsepower": 310,
         "Wheelbase": 113,
         "Width": 74,
         "Length": 198.2,
         "Curb_weight": 3.902,
         "Fuel_capacity": 23.7,
         "Fuel_efficiency": 21,
         "Latest_Launch": 1330300800000000000,
         "Power_perf_factor": 134.6568582,
         "Passenger": 1,
         "Pred": 55.09180930317653,
         "Pred2": 55.169443253846055,
         "Trade Decision": "Not Buy",
         "_deepnote_index_column": 6
        },
        {
         "Manufacturer": "BMW",
         "Model": "328i",
         "Sales_in_thousands": 9.231,
         "__year_resale_value": 28.675,
         "Vehicle_type": "Passenger",
         "Price_in_thousands": 33.4,
         "Engine_size": 2.8,
         "Horsepower": 193,
         "Wheelbase": 107.3,
         "Width": 68.5,
         "Length": 176,
         "Curb_weight": 3.197,
         "Fuel_capacity": 16.6,
         "Fuel_efficiency": 24,
         "Latest_Launch": 1327795200000000000,
         "Power_perf_factor": 81.87706856,
         "Passenger": 1,
         "Pred": 36.465264880225035,
         "Pred2": 35.826322756915204,
         "Trade Decision": "Buy",
         "_deepnote_index_column": 8
        },
        {
         "Manufacturer": "BMW",
         "Model": "528i",
         "Sales_in_thousands": 17.527,
         "__year_resale_value": 36.125,
         "Vehicle_type": "Passenger",
         "Price_in_thousands": 38.9,
         "Engine_size": 2.8,
         "Horsepower": 193,
         "Wheelbase": 111.4,
         "Width": 70.9,
         "Length": 188,
         "Curb_weight": 3.472,
         "Fuel_capacity": 18.5,
         "Fuel_efficiency": 25,
         "Latest_Launch": 1301875200000000000,
         "Power_perf_factor": 83.9987238,
         "Passenger": 1,
         "Pred": 44.55619890462283,
         "Pred2": 43.004970021129964,
         "Trade Decision": "Buy",
         "_deepnote_index_column": 9
        },
        {
         "Manufacturer": "Buick",
         "Model": "Century",
         "Sales_in_thousands": 91.561,
         "__year_resale_value": 12.475,
         "Vehicle_type": "Passenger",
         "Price_in_thousands": 21.975,
         "Engine_size": 3.1,
         "Horsepower": 175,
         "Wheelbase": 109,
         "Width": 72.7,
         "Length": 194.6,
         "Curb_weight": 3.368,
         "Fuel_capacity": 17.5,
         "Fuel_efficiency": 25,
         "Latest_Launch": 1320192000000000000,
         "Power_perf_factor": 71.18145132,
         "Passenger": 1,
         "Pred": 20.52673538556382,
         "Pred2": 20.84607529282879,
         "Trade Decision": "Not Buy",
         "_deepnote_index_column": 10
        },
        {
         "Manufacturer": "Buick",
         "Model": "Regal",
         "Sales_in_thousands": 39.35,
         "__year_resale_value": 13.74,
         "Vehicle_type": "Passenger",
         "Price_in_thousands": 25.3,
         "Engine_size": 3.8,
         "Horsepower": 240,
         "Wheelbase": 109,
         "Width": 72.7,
         "Length": 196.2,
         "Curb_weight": 3.543,
         "Fuel_capacity": 17.5,
         "Fuel_efficiency": 23,
         "Latest_Launch": 1315008000000000000,
         "Power_perf_factor": 95.63670253,
         "Passenger": 1,
         "Pred": 25.726846146698932,
         "Pred2": 26.485554215297537,
         "Trade Decision": "Buy",
         "_deepnote_index_column": 11
        }
       ]
      },
      "text/plain": "    Manufacturer    Model  Sales_in_thousands  __year_resale_value  \\\n0          Acura  Integra              16.919               16.360   \n1          Acura       TL              39.384               19.875   \n3          Acura       RL               8.588               29.725   \n4           Audi       A4              20.397               22.255   \n5           Audi       A6              18.780               23.555   \n..           ...      ...                 ...                  ...   \n145   Volkswagen     Golf               9.761               11.425   \n146   Volkswagen    Jetta              83.721               13.240   \n147   Volkswagen   Passat              51.102               16.725   \n148   Volkswagen   Cabrio               9.569               16.575   \n149   Volkswagen      GTI               5.596               13.760   \n\n    Vehicle_type  Price_in_thousands  Engine_size  Horsepower  Wheelbase  \\\n0      Passenger               21.50          1.8       140.0      101.2   \n1      Passenger               28.40          3.2       225.0      108.1   \n3      Passenger               42.00          3.5       210.0      114.6   \n4      Passenger               23.99          1.8       150.0      102.6   \n5      Passenger               33.95          2.8       200.0      108.7   \n..           ...                 ...          ...         ...        ...   \n145    Passenger               14.90          2.0       115.0       98.9   \n146    Passenger               16.70          2.0       115.0       98.9   \n147    Passenger               21.20          1.8       150.0      106.4   \n148    Passenger               19.99          2.0       115.0       97.4   \n149    Passenger               17.50          2.0       115.0       98.9   \n\n     Width  Length  Curb_weight  Fuel_capacity  Fuel_efficiency  \\\n0     67.3   172.4        2.639           13.2             28.0   \n1     70.3   192.9        3.517           17.2             25.0   \n3     71.4   196.6        3.850           18.0             22.0   \n4     68.2   178.0        2.998           16.4             27.0   \n5     76.1   192.0        3.561           18.5             22.0   \n..     ...     ...          ...            ...              ...   \n145   68.3   163.3        2.767           14.5             26.0   \n146   68.3   172.3        2.853           14.5             26.0   \n147   68.5   184.1        3.043           16.4             27.0   \n148   66.7   160.4        3.079           13.7             26.0   \n149   68.3   163.3        2.762           14.6             26.0   \n\n           Latest_Launch  Power_perf_factor  Passenger       Pred      Pred2  \\\n0    1328140800000000000          58.280150          1  21.043551  20.904723   \n1    1307059200000000000          91.370778          1  30.550278  31.251605   \n3    1299715200000000000          91.389779          1  40.841002  39.616438   \n4    1318032000000000000          62.777639          1  27.456097  27.611210   \n5    1312848000000000000          84.565105          1  33.083205  33.459226   \n..                   ...                ...        ...        ...        ...   \n145  1295827200000000000          46.943877          1  16.282528  14.712648   \n146  1314403200000000000          47.638237          1  16.551949  16.557096   \n147  1351555200000000000          61.701381          1  21.588980  23.150742   \n148  1306800000000000000          48.907372          1  20.465401  20.153043   \n149  1301616000000000000          47.946841          1  18.326620  16.754342   \n\n    Trade Decision  \n0          Not Buy  \n1              Buy  \n3          Not Buy  \n4              Buy  \n5          Not Buy  \n..             ...  \n145        Not Buy  \n146        Not Buy  \n147            Buy  \n148            Buy  \n149        Not Buy  \n\n[117 rows x 20 columns]",
      "text/html": "<div>\n<style scoped>\n    .dataframe tbody tr th:only-of-type {\n        vertical-align: middle;\n    }\n\n    .dataframe tbody tr th {\n        vertical-align: top;\n    }\n\n    .dataframe thead th {\n        text-align: right;\n    }\n</style>\n<table border=\"1\" class=\"dataframe\">\n  <thead>\n    <tr style=\"text-align: right;\">\n      <th></th>\n      <th>Manufacturer</th>\n      <th>Model</th>\n      <th>Sales_in_thousands</th>\n      <th>__year_resale_value</th>\n      <th>Vehicle_type</th>\n      <th>Price_in_thousands</th>\n      <th>Engine_size</th>\n      <th>Horsepower</th>\n      <th>Wheelbase</th>\n      <th>Width</th>\n      <th>Length</th>\n      <th>Curb_weight</th>\n      <th>Fuel_capacity</th>\n      <th>Fuel_efficiency</th>\n      <th>Latest_Launch</th>\n      <th>Power_perf_factor</th>\n      <th>Passenger</th>\n      <th>Pred</th>\n      <th>Pred2</th>\n      <th>Trade Decision</th>\n    </tr>\n  </thead>\n  <tbody>\n    <tr>\n      <th>0</th>\n      <td>Acura</td>\n      <td>Integra</td>\n      <td>16.919</td>\n      <td>16.360</td>\n      <td>Passenger</td>\n      <td>21.50</td>\n      <td>1.8</td>\n      <td>140.0</td>\n      <td>101.2</td>\n      <td>67.3</td>\n      <td>172.4</td>\n      <td>2.639</td>\n      <td>13.2</td>\n      <td>28.0</td>\n      <td>1328140800000000000</td>\n      <td>58.280150</td>\n      <td>1</td>\n      <td>21.043551</td>\n      <td>20.904723</td>\n      <td>Not Buy</td>\n    </tr>\n    <tr>\n      <th>1</th>\n      <td>Acura</td>\n      <td>TL</td>\n      <td>39.384</td>\n      <td>19.875</td>\n      <td>Passenger</td>\n      <td>28.40</td>\n      <td>3.2</td>\n      <td>225.0</td>\n      <td>108.1</td>\n      <td>70.3</td>\n      <td>192.9</td>\n      <td>3.517</td>\n      <td>17.2</td>\n      <td>25.0</td>\n      <td>1307059200000000000</td>\n      <td>91.370778</td>\n      <td>1</td>\n      <td>30.550278</td>\n      <td>31.251605</td>\n      <td>Buy</td>\n    </tr>\n    <tr>\n      <th>3</th>\n      <td>Acura</td>\n      <td>RL</td>\n      <td>8.588</td>\n      <td>29.725</td>\n      <td>Passenger</td>\n      <td>42.00</td>\n      <td>3.5</td>\n      <td>210.0</td>\n      <td>114.6</td>\n      <td>71.4</td>\n      <td>196.6</td>\n      <td>3.850</td>\n      <td>18.0</td>\n      <td>22.0</td>\n      <td>1299715200000000000</td>\n      <td>91.389779</td>\n      <td>1</td>\n      <td>40.841002</td>\n      <td>39.616438</td>\n      <td>Not Buy</td>\n    </tr>\n    <tr>\n      <th>4</th>\n      <td>Audi</td>\n      <td>A4</td>\n      <td>20.397</td>\n      <td>22.255</td>\n      <td>Passenger</td>\n      <td>23.99</td>\n      <td>1.8</td>\n      <td>150.0</td>\n      <td>102.6</td>\n      <td>68.2</td>\n      <td>178.0</td>\n      <td>2.998</td>\n      <td>16.4</td>\n      <td>27.0</td>\n      <td>1318032000000000000</td>\n      <td>62.777639</td>\n      <td>1</td>\n      <td>27.456097</td>\n      <td>27.611210</td>\n      <td>Buy</td>\n    </tr>\n    <tr>\n      <th>5</th>\n      <td>Audi</td>\n      <td>A6</td>\n      <td>18.780</td>\n      <td>23.555</td>\n      <td>Passenger</td>\n      <td>33.95</td>\n      <td>2.8</td>\n      <td>200.0</td>\n      <td>108.7</td>\n      <td>76.1</td>\n      <td>192.0</td>\n      <td>3.561</td>\n      <td>18.5</td>\n      <td>22.0</td>\n      <td>1312848000000000000</td>\n      <td>84.565105</td>\n      <td>1</td>\n      <td>33.083205</td>\n      <td>33.459226</td>\n      <td>Not Buy</td>\n    </tr>\n    <tr>\n      <th>...</th>\n      <td>...</td>\n      <td>...</td>\n      <td>...</td>\n      <td>...</td>\n      <td>...</td>\n      <td>...</td>\n      <td>...</td>\n      <td>...</td>\n      <td>...</td>\n      <td>...</td>\n      <td>...</td>\n      <td>...</td>\n      <td>...</td>\n      <td>...</td>\n      <td>...</td>\n      <td>...</td>\n      <td>...</td>\n      <td>...</td>\n      <td>...</td>\n      <td>...</td>\n    </tr>\n    <tr>\n      <th>145</th>\n      <td>Volkswagen</td>\n      <td>Golf</td>\n      <td>9.761</td>\n      <td>11.425</td>\n      <td>Passenger</td>\n      <td>14.90</td>\n      <td>2.0</td>\n      <td>115.0</td>\n      <td>98.9</td>\n      <td>68.3</td>\n      <td>163.3</td>\n      <td>2.767</td>\n      <td>14.5</td>\n      <td>26.0</td>\n      <td>1295827200000000000</td>\n      <td>46.943877</td>\n      <td>1</td>\n      <td>16.282528</td>\n      <td>14.712648</td>\n      <td>Not Buy</td>\n    </tr>\n    <tr>\n      <th>146</th>\n      <td>Volkswagen</td>\n      <td>Jetta</td>\n      <td>83.721</td>\n      <td>13.240</td>\n      <td>Passenger</td>\n      <td>16.70</td>\n      <td>2.0</td>\n      <td>115.0</td>\n      <td>98.9</td>\n      <td>68.3</td>\n      <td>172.3</td>\n      <td>2.853</td>\n      <td>14.5</td>\n      <td>26.0</td>\n      <td>1314403200000000000</td>\n      <td>47.638237</td>\n      <td>1</td>\n      <td>16.551949</td>\n      <td>16.557096</td>\n      <td>Not Buy</td>\n    </tr>\n    <tr>\n      <th>147</th>\n      <td>Volkswagen</td>\n      <td>Passat</td>\n      <td>51.102</td>\n      <td>16.725</td>\n      <td>Passenger</td>\n      <td>21.20</td>\n      <td>1.8</td>\n      <td>150.0</td>\n      <td>106.4</td>\n      <td>68.5</td>\n      <td>184.1</td>\n      <td>3.043</td>\n      <td>16.4</td>\n      <td>27.0</td>\n      <td>1351555200000000000</td>\n      <td>61.701381</td>\n      <td>1</td>\n      <td>21.588980</td>\n      <td>23.150742</td>\n      <td>Buy</td>\n    </tr>\n    <tr>\n      <th>148</th>\n      <td>Volkswagen</td>\n      <td>Cabrio</td>\n      <td>9.569</td>\n      <td>16.575</td>\n      <td>Passenger</td>\n      <td>19.99</td>\n      <td>2.0</td>\n      <td>115.0</td>\n      <td>97.4</td>\n      <td>66.7</td>\n      <td>160.4</td>\n      <td>3.079</td>\n      <td>13.7</td>\n      <td>26.0</td>\n      <td>1306800000000000000</td>\n      <td>48.907372</td>\n      <td>1</td>\n      <td>20.465401</td>\n      <td>20.153043</td>\n      <td>Buy</td>\n    </tr>\n    <tr>\n      <th>149</th>\n      <td>Volkswagen</td>\n      <td>GTI</td>\n      <td>5.596</td>\n      <td>13.760</td>\n      <td>Passenger</td>\n      <td>17.50</td>\n      <td>2.0</td>\n      <td>115.0</td>\n      <td>98.9</td>\n      <td>68.3</td>\n      <td>163.3</td>\n      <td>2.762</td>\n      <td>14.6</td>\n      <td>26.0</td>\n      <td>1301616000000000000</td>\n      <td>47.946841</td>\n      <td>1</td>\n      <td>18.326620</td>\n      <td>16.754342</td>\n      <td>Not Buy</td>\n    </tr>\n  </tbody>\n</table>\n<p>117 rows × 20 columns</p>\n</div>"
     },
     "metadata": {}
    }
   ]
  },
  {
   "cell_type": "code",
   "metadata": {
    "cell_id": "d995241194d64ff5bc3858db08619d1c",
    "tags": [],
    "deepnote_to_be_reexecuted": false,
    "source_hash": "f1bc3789",
    "execution_start": 1654670926215,
    "execution_millis": 23,
    "deepnote_cell_type": "code",
    "deepnote_cell_height": 207
   },
   "source": "from sklearn.neighbors import KNeighborsClassifier\nfrom sklearn.metrics import log_loss\nclf = KNeighborsClassifier()\nX = df[cols]\nY = df['Trade Decision']\nX_train, X_test, Y_train, Y_test = train_test_split(X, Y, test_size=0.4)\nclf.fit(X_test,Y_test)\ndf['Pred3'] = clf.predict(X)",
   "execution_count": null,
   "outputs": []
  },
  {
   "cell_type": "code",
   "metadata": {
    "cell_id": "fc71f47e91e4497799cebc0991bbae0a",
    "tags": [],
    "deepnote_to_be_reexecuted": false,
    "source_hash": "71f16ad4",
    "execution_start": 1654670933237,
    "execution_millis": 113,
    "deepnote_cell_type": "code",
    "deepnote_cell_height": 640
   },
   "source": "c1 = alt.Chart(df).mark_circle().encode(\n    x = \"__year_resale_value\",\n    y = \"Price_in_thousands\",\n    color = 'Trade Decision'\n)\nc2 = alt.Chart(df).mark_circle().encode(\n    x = \"__year_resale_value\",\n    y = \"Price_in_thousands\",\n    color = 'Pred3'\n)\nc1|c2",
   "execution_count": null,
   "outputs": [
    {
     "output_type": "execute_result",
     "execution_count": 49,
     "data": {
      "text/html": "\n<div id=\"altair-viz-4386fa168657409188c6ae7402d85bb5\"></div>\n<script type=\"text/javascript\">\n  (function(spec, embedOpt){\n    let outputDiv = document.currentScript.previousElementSibling;\n    if (outputDiv.id !== \"altair-viz-4386fa168657409188c6ae7402d85bb5\") {\n      outputDiv = document.getElementById(\"altair-viz-4386fa168657409188c6ae7402d85bb5\");\n    }\n    const paths = {\n      \"vega\": \"https://cdn.jsdelivr.net/npm//vega@5?noext\",\n      \"vega-lib\": \"https://cdn.jsdelivr.net/npm//vega-lib?noext\",\n      \"vega-lite\": \"https://cdn.jsdelivr.net/npm//vega-lite@4.8.1?noext\",\n      \"vega-embed\": \"https://cdn.jsdelivr.net/npm//vega-embed@6?noext\",\n    };\n\n    function loadScript(lib) {\n      return new Promise(function(resolve, reject) {\n        var s = document.createElement('script');\n        s.src = paths[lib];\n        s.async = true;\n        s.onload = () => resolve(paths[lib]);\n        s.onerror = () => reject(`Error loading script: ${paths[lib]}`);\n        document.getElementsByTagName(\"head\")[0].appendChild(s);\n      });\n    }\n\n    function showError(err) {\n      outputDiv.innerHTML = `<div class=\"error\" style=\"color:red;\">${err}</div>`;\n      throw err;\n    }\n\n    function displayChart(vegaEmbed) {\n      vegaEmbed(outputDiv, spec, embedOpt)\n        .catch(err => showError(`Javascript Error: ${err.message}<br>This usually means there's a typo in your chart specification. See the javascript console for the full traceback.`));\n    }\n\n    if(typeof define === \"function\" && define.amd) {\n      requirejs.config({paths});\n      require([\"vega-embed\"], displayChart, err => showError(`Error loading script: ${err.message}`));\n    } else if (typeof vegaEmbed === \"function\") {\n      displayChart(vegaEmbed);\n    } else {\n      loadScript(\"vega\")\n        .then(() => loadScript(\"vega-lite\"))\n        .then(() => loadScript(\"vega-embed\"))\n        .catch(showError)\n        .then(() => displayChart(vegaEmbed));\n    }\n  })({\"config\": {\"view\": {\"continuousWidth\": 400, \"continuousHeight\": 300}}, \"hconcat\": [{\"mark\": \"circle\", \"encoding\": {\"color\": {\"type\": \"nominal\", \"field\": \"Trade Decision\"}, \"x\": {\"type\": \"quantitative\", \"field\": \"__year_resale_value\"}, \"y\": {\"type\": \"quantitative\", \"field\": \"Price_in_thousands\"}}}, {\"mark\": \"circle\", \"encoding\": {\"color\": {\"type\": \"nominal\", \"field\": \"Pred3\"}, \"x\": {\"type\": \"quantitative\", \"field\": \"__year_resale_value\"}, \"y\": {\"type\": \"quantitative\", \"field\": \"Price_in_thousands\"}}}], \"data\": {\"name\": \"data-56923de2ea3625c8f333059890d7bc5b\"}, \"$schema\": \"https://vega.github.io/schema/vega-lite/v4.8.1.json\", \"datasets\": {\"data-56923de2ea3625c8f333059890d7bc5b\": [{\"Manufacturer\": \"Acura\", \"Model\": \"Integra\", \"Sales_in_thousands\": 16.919, \"__year_resale_value\": 16.36, \"Vehicle_type\": \"Passenger\", \"Price_in_thousands\": 21.5, \"Engine_size\": 1.8, \"Horsepower\": 140.0, \"Wheelbase\": 101.2, \"Width\": 67.3, \"Length\": 172.4, \"Curb_weight\": 2.639, \"Fuel_capacity\": 13.2, \"Fuel_efficiency\": 28.0, \"Latest_Launch\": 1328140800000000000, \"Power_perf_factor\": 58.28014952, \"Passenger\": 1, \"Pred\": 21.04355050222738, \"Pred2\": 20.904723344076917, \"Trade Decision\": \"Not Buy\", \"Pred3\": \"Not Buy\"}, {\"Manufacturer\": \"Acura\", \"Model\": \"TL\", \"Sales_in_thousands\": 39.384, \"__year_resale_value\": 19.875, \"Vehicle_type\": \"Passenger\", \"Price_in_thousands\": 28.4, \"Engine_size\": 3.2, \"Horsepower\": 225.0, \"Wheelbase\": 108.1, \"Width\": 70.3, \"Length\": 192.9, \"Curb_weight\": 3.517, \"Fuel_capacity\": 17.2, \"Fuel_efficiency\": 25.0, \"Latest_Launch\": 1307059200000000000, \"Power_perf_factor\": 91.37077766, \"Passenger\": 1, \"Pred\": 30.55027806339063, \"Pred2\": 31.251604938182435, \"Trade Decision\": \"Buy\", \"Pred3\": \"Not Buy\"}, {\"Manufacturer\": \"Acura\", \"Model\": \"RL\", \"Sales_in_thousands\": 8.588, \"__year_resale_value\": 29.725, \"Vehicle_type\": \"Passenger\", \"Price_in_thousands\": 42.0, \"Engine_size\": 3.5, \"Horsepower\": 210.0, \"Wheelbase\": 114.6, \"Width\": 71.4, \"Length\": 196.6, \"Curb_weight\": 3.85, \"Fuel_capacity\": 18.0, \"Fuel_efficiency\": 22.0, \"Latest_Launch\": 1299715200000000000, \"Power_perf_factor\": 91.38977933, \"Passenger\": 1, \"Pred\": 40.84100160081856, \"Pred2\": 39.61643798802507, \"Trade Decision\": \"Not Buy\", \"Pred3\": \"Buy\"}, {\"Manufacturer\": \"Audi\", \"Model\": \"A4\", \"Sales_in_thousands\": 20.397, \"__year_resale_value\": 22.255, \"Vehicle_type\": \"Passenger\", \"Price_in_thousands\": 23.99, \"Engine_size\": 1.8, \"Horsepower\": 150.0, \"Wheelbase\": 102.6, \"Width\": 68.2, \"Length\": 178.0, \"Curb_weight\": 2.998, \"Fuel_capacity\": 16.4, \"Fuel_efficiency\": 27.0, \"Latest_Launch\": 1318032000000000000, \"Power_perf_factor\": 62.7776392, \"Passenger\": 1, \"Pred\": 27.45609708347422, \"Pred2\": 27.61121025058915, \"Trade Decision\": \"Buy\", \"Pred3\": \"Not Buy\"}, {\"Manufacturer\": \"Audi\", \"Model\": \"A6\", \"Sales_in_thousands\": 18.78, \"__year_resale_value\": 23.555, \"Vehicle_type\": \"Passenger\", \"Price_in_thousands\": 33.95, \"Engine_size\": 2.8, \"Horsepower\": 200.0, \"Wheelbase\": 108.7, \"Width\": 76.1, \"Length\": 192.0, \"Curb_weight\": 3.561, \"Fuel_capacity\": 18.5, \"Fuel_efficiency\": 22.0, \"Latest_Launch\": 1312848000000000000, \"Power_perf_factor\": 84.56510502, \"Passenger\": 1, \"Pred\": 33.08320491771251, \"Pred2\": 33.45922612050008, \"Trade Decision\": \"Not Buy\", \"Pred3\": \"Not Buy\"}, {\"Manufacturer\": \"Audi\", \"Model\": \"A8\", \"Sales_in_thousands\": 1.38, \"__year_resale_value\": 39.0, \"Vehicle_type\": \"Passenger\", \"Price_in_thousands\": 62.0, \"Engine_size\": 4.2, \"Horsepower\": 310.0, \"Wheelbase\": 113.0, \"Width\": 74.0, \"Length\": 198.2, \"Curb_weight\": 3.902, \"Fuel_capacity\": 23.7, \"Fuel_efficiency\": 21.0, \"Latest_Launch\": 1330300800000000000, \"Power_perf_factor\": 134.6568582, \"Passenger\": 1, \"Pred\": 55.09180930317653, \"Pred2\": 55.169443253846055, \"Trade Decision\": \"Not Buy\", \"Pred3\": \"Not Buy\"}, {\"Manufacturer\": \"BMW\", \"Model\": \"328i\", \"Sales_in_thousands\": 9.231, \"__year_resale_value\": 28.675, \"Vehicle_type\": \"Passenger\", \"Price_in_thousands\": 33.4, \"Engine_size\": 2.8, \"Horsepower\": 193.0, \"Wheelbase\": 107.3, \"Width\": 68.5, \"Length\": 176.0, \"Curb_weight\": 3.197, \"Fuel_capacity\": 16.6, \"Fuel_efficiency\": 24.0, \"Latest_Launch\": 1327795200000000000, \"Power_perf_factor\": 81.87706856, \"Passenger\": 1, \"Pred\": 36.465264880225035, \"Pred2\": 35.826322756915204, \"Trade Decision\": \"Buy\", \"Pred3\": \"Not Buy\"}, {\"Manufacturer\": \"BMW\", \"Model\": \"528i\", \"Sales_in_thousands\": 17.527, \"__year_resale_value\": 36.125, \"Vehicle_type\": \"Passenger\", \"Price_in_thousands\": 38.9, \"Engine_size\": 2.8, \"Horsepower\": 193.0, \"Wheelbase\": 111.4, \"Width\": 70.9, \"Length\": 188.0, \"Curb_weight\": 3.472, \"Fuel_capacity\": 18.5, \"Fuel_efficiency\": 25.0, \"Latest_Launch\": 1301875200000000000, \"Power_perf_factor\": 83.9987238, \"Passenger\": 1, \"Pred\": 44.55619890462283, \"Pred2\": 43.004970021129964, \"Trade Decision\": \"Buy\", \"Pred3\": \"Buy\"}, {\"Manufacturer\": \"Buick\", \"Model\": \"Century\", \"Sales_in_thousands\": 91.561, \"__year_resale_value\": 12.475, \"Vehicle_type\": \"Passenger\", \"Price_in_thousands\": 21.975, \"Engine_size\": 3.1, \"Horsepower\": 175.0, \"Wheelbase\": 109.0, \"Width\": 72.7, \"Length\": 194.6, \"Curb_weight\": 3.368, \"Fuel_capacity\": 17.5, \"Fuel_efficiency\": 25.0, \"Latest_Launch\": 1320192000000000000, \"Power_perf_factor\": 71.18145132, \"Passenger\": 1, \"Pred\": 20.52673538556382, \"Pred2\": 20.84607529282879, \"Trade Decision\": \"Not Buy\", \"Pred3\": \"Not Buy\"}, {\"Manufacturer\": \"Buick\", \"Model\": \"Regal\", \"Sales_in_thousands\": 39.35, \"__year_resale_value\": 13.74, \"Vehicle_type\": \"Passenger\", \"Price_in_thousands\": 25.3, \"Engine_size\": 3.8, \"Horsepower\": 240.0, \"Wheelbase\": 109.0, \"Width\": 72.7, \"Length\": 196.2, \"Curb_weight\": 3.543, \"Fuel_capacity\": 17.5, \"Fuel_efficiency\": 23.0, \"Latest_Launch\": 1315008000000000000, \"Power_perf_factor\": 95.63670253, \"Passenger\": 1, \"Pred\": 25.726846146698932, \"Pred2\": 26.485554215297537, \"Trade Decision\": \"Buy\", \"Pred3\": \"Not Buy\"}, {\"Manufacturer\": \"Buick\", \"Model\": \"Park Avenue\", \"Sales_in_thousands\": 27.851, \"__year_resale_value\": 20.19, \"Vehicle_type\": \"Passenger\", \"Price_in_thousands\": 31.965, \"Engine_size\": 3.8, \"Horsepower\": 205.0, \"Wheelbase\": 113.8, \"Width\": 74.7, \"Length\": 206.8, \"Curb_weight\": 3.778, \"Fuel_capacity\": 18.5, \"Fuel_efficiency\": 24.0, \"Latest_Launch\": 1332460800000000000, \"Power_perf_factor\": 85.82840825, \"Passenger\": 1, \"Pred\": 30.018765123328333, \"Pred2\": 30.241144212413044, \"Trade Decision\": \"Not Buy\", \"Pred3\": \"Not Buy\"}, {\"Manufacturer\": \"Buick\", \"Model\": \"LeSabre\", \"Sales_in_thousands\": 83.257, \"__year_resale_value\": 13.36, \"Vehicle_type\": \"Passenger\", \"Price_in_thousands\": 27.885, \"Engine_size\": 3.8, \"Horsepower\": 205.0, \"Wheelbase\": 112.2, \"Width\": 73.5, \"Length\": 200.0, \"Curb_weight\": 3.591, \"Fuel_capacity\": 17.5, \"Fuel_efficiency\": 25.0, \"Latest_Launch\": 1311379200000000000, \"Power_perf_factor\": 84.25452581, \"Passenger\": 1, \"Pred\": 24.129551448481223, \"Pred2\": 23.937491354826992, \"Trade Decision\": \"Not Buy\", \"Pred3\": \"Not Buy\"}, {\"Manufacturer\": \"Cadillac\", \"Model\": \"DeVille\", \"Sales_in_thousands\": 63.729, \"__year_resale_value\": 22.525, \"Vehicle_type\": \"Passenger\", \"Price_in_thousands\": 39.895, \"Engine_size\": 4.6, \"Horsepower\": 275.0, \"Wheelbase\": 115.3, \"Width\": 74.5, \"Length\": 207.2, \"Curb_weight\": 3.978, \"Fuel_capacity\": 18.5, \"Fuel_efficiency\": 22.0, \"Latest_Launch\": 1329955200000000000, \"Power_perf_factor\": 113.8545976, \"Passenger\": 1, \"Pred\": 36.38671102302058, \"Pred2\": 37.40558184253672, \"Trade Decision\": \"Not Buy\", \"Pred3\": \"Not Buy\"}, {\"Manufacturer\": \"Cadillac\", \"Model\": \"Eldorado\", \"Sales_in_thousands\": 6.536, \"__year_resale_value\": 25.725, \"Vehicle_type\": \"Passenger\", \"Price_in_thousands\": 39.665, \"Engine_size\": 4.6, \"Horsepower\": 275.0, \"Wheelbase\": 108.0, \"Width\": 75.5, \"Length\": 200.6, \"Curb_weight\": 3.843, \"Fuel_capacity\": 19.0, \"Fuel_efficiency\": 22.0, \"Latest_Launch\": 1322352000000000000, \"Power_perf_factor\": 113.7658739, \"Passenger\": 1, \"Pred\": 38.834724576116756, \"Pred2\": 39.50318668975798, \"Trade Decision\": \"Not Buy\", \"Pred3\": \"Buy\"}, {\"Manufacturer\": \"Cadillac\", \"Model\": \"Catera\", \"Sales_in_thousands\": 11.185, \"__year_resale_value\": 18.225, \"Vehicle_type\": \"Passenger\", \"Price_in_thousands\": 31.01, \"Engine_size\": 3.0, \"Horsepower\": 200.0, \"Wheelbase\": 107.4, \"Width\": 70.3, \"Length\": 194.8, \"Curb_weight\": 3.77, \"Fuel_capacity\": 18.0, \"Fuel_efficiency\": 22.0, \"Latest_Launch\": 1317168000000000000, \"Power_perf_factor\": 83.48309358, \"Passenger\": 1, \"Pred\": 28.025457580005707, \"Pred2\": 29.360409698681924, \"Trade Decision\": \"Not Buy\", \"Pred3\": \"Not Buy\"}, {\"Manufacturer\": \"Chevrolet\", \"Model\": \"Cavalier\", \"Sales_in_thousands\": 145.519, \"__year_resale_value\": 9.25, \"Vehicle_type\": \"Passenger\", \"Price_in_thousands\": 13.26, \"Engine_size\": 2.2, \"Horsepower\": 115.0, \"Wheelbase\": 104.1, \"Width\": 67.9, \"Length\": 180.9, \"Curb_weight\": 2.676, \"Fuel_capacity\": 14.3, \"Fuel_efficiency\": 27.0, \"Latest_Launch\": 1313539200000000000, \"Power_perf_factor\": 46.36334747, \"Passenger\": 1, \"Pred\": 12.999091017958609, \"Pred2\": 12.294551338400812, \"Trade Decision\": \"Not Buy\", \"Pred3\": \"Not Buy\"}, {\"Manufacturer\": \"Chevrolet\", \"Model\": \"Malibu\", \"Sales_in_thousands\": 135.126, \"__year_resale_value\": 11.225, \"Vehicle_type\": \"Passenger\", \"Price_in_thousands\": 16.535, \"Engine_size\": 3.1, \"Horsepower\": 170.0, \"Wheelbase\": 107.0, \"Width\": 69.4, \"Length\": 190.4, \"Curb_weight\": 3.051, \"Fuel_capacity\": 15.0, \"Fuel_efficiency\": 25.0, \"Latest_Launch\": 1332115200000000000, \"Power_perf_factor\": 67.31446216, \"Passenger\": 1, \"Pred\": 17.4443315784245, \"Pred2\": 18.073139812685806, \"Trade Decision\": \"Buy\", \"Pred3\": \"Not Buy\"}, {\"Manufacturer\": \"Chevrolet\", \"Model\": \"Lumina\", \"Sales_in_thousands\": 24.629, \"__year_resale_value\": 10.31, \"Vehicle_type\": \"Passenger\", \"Price_in_thousands\": 18.89, \"Engine_size\": 3.1, \"Horsepower\": 175.0, \"Wheelbase\": 107.5, \"Width\": 72.5, \"Length\": 200.9, \"Curb_weight\": 3.33, \"Fuel_capacity\": 16.6, \"Fuel_efficiency\": 25.0, \"Latest_Launch\": 1306195200000000000, \"Power_perf_factor\": 69.9913956, \"Passenger\": 1, \"Pred\": 18.88424473399787, \"Pred2\": 18.767685460443854, \"Trade Decision\": \"Not Buy\", \"Pred3\": \"Not Buy\"}, {\"Manufacturer\": \"Chevrolet\", \"Model\": \"Monte Carlo\", \"Sales_in_thousands\": 42.593, \"__year_resale_value\": 11.525, \"Vehicle_type\": \"Passenger\", \"Price_in_thousands\": 19.39, \"Engine_size\": 3.4, \"Horsepower\": 180.0, \"Wheelbase\": 110.5, \"Width\": 72.7, \"Length\": 197.9, \"Curb_weight\": 3.34, \"Fuel_capacity\": 17.0, \"Fuel_efficiency\": 27.0, \"Latest_Launch\": 1324512000000000000, \"Power_perf_factor\": 72.03091719, \"Passenger\": 1, \"Pred\": 19.992739153572046, \"Pred2\": 19.741458541986773, \"Trade Decision\": \"Buy\", \"Pred3\": \"Buy\"}, {\"Manufacturer\": \"Chevrolet\", \"Model\": \"Camaro\", \"Sales_in_thousands\": 26.402, \"__year_resale_value\": 13.025, \"Vehicle_type\": \"Passenger\", \"Price_in_thousands\": 24.34, \"Engine_size\": 3.8, \"Horsepower\": 200.0, \"Wheelbase\": 101.1, \"Width\": 74.1, \"Length\": 193.2, \"Curb_weight\": 3.5, \"Fuel_capacity\": 16.8, \"Fuel_efficiency\": 25.0, \"Latest_Launch\": 1319328000000000000, \"Power_perf_factor\": 81.11854333, \"Passenger\": 1, \"Pred\": 21.809412610429785, \"Pred2\": 22.734088257461483, \"Trade Decision\": \"Not Buy\", \"Pred3\": \"Not Buy\"}, {\"Manufacturer\": \"Chevrolet\", \"Model\": \"Corvette\", \"Sales_in_thousands\": 17.947, \"__year_resale_value\": 36.225, \"Vehicle_type\": \"Passenger\", \"Price_in_thousands\": 45.705, \"Engine_size\": 5.7, \"Horsepower\": 345.0, \"Wheelbase\": 104.5, \"Width\": 73.6, \"Length\": 179.7, \"Curb_weight\": 3.21, \"Fuel_capacity\": 19.1, \"Fuel_efficiency\": 22.0, \"Latest_Launch\": 1336780800000000000, \"Power_perf_factor\": 141.14115, \"Passenger\": 1, \"Pred\": 51.150848599263426, \"Pred2\": 49.98731548892408, \"Trade Decision\": \"Buy\", \"Pred3\": \"Not Buy\"}, {\"Manufacturer\": \"Chevrolet\", \"Model\": \"Prizm\", \"Sales_in_thousands\": 32.299, \"__year_resale_value\": 9.125, \"Vehicle_type\": \"Passenger\", \"Price_in_thousands\": 13.96, \"Engine_size\": 1.8, \"Horsepower\": 120.0, \"Wheelbase\": 97.1, \"Width\": 66.7, \"Length\": 174.3, \"Curb_weight\": 2.398, \"Fuel_capacity\": 13.2, \"Fuel_efficiency\": 33.0, \"Latest_Launch\": 1315699200000000000, \"Power_perf_factor\": 48.2976361, \"Passenger\": 1, \"Pred\": 12.956981166899084, \"Pred2\": 12.346366582040844, \"Trade Decision\": \"Not Buy\", \"Pred3\": \"Not Buy\"}, {\"Manufacturer\": \"Chevrolet\", \"Model\": \"Metro\", \"Sales_in_thousands\": 21.855, \"__year_resale_value\": 5.16, \"Vehicle_type\": \"Passenger\", \"Price_in_thousands\": 9.235, \"Engine_size\": 1.0, \"Horsepower\": 55.0, \"Wheelbase\": 93.1, \"Width\": 62.6, \"Length\": 149.4, \"Curb_weight\": 1.895, \"Fuel_capacity\": 10.3, \"Fuel_efficiency\": 45.0, \"Latest_Launch\": 1334275200000000000, \"Power_perf_factor\": 23.27627233, \"Passenger\": 1, \"Pred\": 5.0466517825749335, \"Pred2\": 3.597222551067542, \"Trade Decision\": \"Not Buy\", \"Pred3\": \"Not Buy\"}, {\"Manufacturer\": \"Chrysler\", \"Model\": \"Sebring Coupe\", \"Sales_in_thousands\": 7.854, \"__year_resale_value\": 12.36, \"Vehicle_type\": \"Passenger\", \"Price_in_thousands\": 19.84, \"Engine_size\": 2.5, \"Horsepower\": 163.0, \"Wheelbase\": 103.7, \"Width\": 69.7, \"Length\": 190.9, \"Curb_weight\": 2.967, \"Fuel_capacity\": 15.9, \"Fuel_efficiency\": 24.0, \"Latest_Launch\": 1326672000000000000, \"Power_perf_factor\": 65.95718396, \"Passenger\": 1, \"Pred\": 19.081393937281398, \"Pred2\": 19.32056777842846, \"Trade Decision\": \"Not Buy\", \"Pred3\": \"Buy\"}, {\"Manufacturer\": \"Chrysler\", \"Model\": \"Sebring Conv.\", \"Sales_in_thousands\": 32.775, \"__year_resale_value\": 14.18, \"Vehicle_type\": \"Passenger\", \"Price_in_thousands\": 24.495, \"Engine_size\": 2.5, \"Horsepower\": 168.0, \"Wheelbase\": 106.0, \"Width\": 69.2, \"Length\": 193.0, \"Curb_weight\": 3.332, \"Fuel_capacity\": 16.0, \"Fuel_efficiency\": 24.0, \"Latest_Launch\": 1321488000000000000, \"Power_perf_factor\": 69.52135505, \"Passenger\": 1, \"Pred\": 21.645413140576945, \"Pred2\": 22.627472037879567, \"Trade Decision\": \"Not Buy\", \"Pred3\": \"Not Buy\"}, {\"Manufacturer\": \"Chrysler\", \"Model\": \"Concorde\", \"Sales_in_thousands\": 31.148, \"__year_resale_value\": 13.725, \"Vehicle_type\": \"Passenger\", \"Price_in_thousands\": 22.245, \"Engine_size\": 2.7, \"Horsepower\": 200.0, \"Wheelbase\": 113.0, \"Width\": 74.4, \"Length\": 209.1, \"Curb_weight\": 3.452, \"Fuel_capacity\": 17.0, \"Fuel_efficiency\": 26.0, \"Latest_Launch\": 1338940800000000000, \"Power_perf_factor\": 80.02378204, \"Passenger\": 1, \"Pred\": 22.696496102462866, \"Pred2\": 24.547313278043394, \"Trade Decision\": \"Buy\", \"Pred3\": \"Buy\"}, {\"Manufacturer\": \"Chrysler\", \"Model\": \"Cirrus\", \"Sales_in_thousands\": 32.306, \"__year_resale_value\": 12.64, \"Vehicle_type\": \"Passenger\", \"Price_in_thousands\": 16.48, \"Engine_size\": 2.0, \"Horsepower\": 132.0, \"Wheelbase\": 108.0, \"Width\": 71.0, \"Length\": 186.0, \"Curb_weight\": 2.911, \"Fuel_capacity\": 16.0, \"Fuel_efficiency\": 27.0, \"Latest_Launch\": 1317859200000000000, \"Power_perf_factor\": 53.56619987, \"Passenger\": 1, \"Pred\": 18.256962469357433, \"Pred2\": 17.507616600938317, \"Trade Decision\": \"Buy\", \"Pred3\": \"Not Buy\"}, {\"Manufacturer\": \"Chrysler\", \"Model\": \"LHS\", \"Sales_in_thousands\": 13.462, \"__year_resale_value\": 17.325, \"Vehicle_type\": \"Passenger\", \"Price_in_thousands\": 28.34, \"Engine_size\": 3.5, \"Horsepower\": 253.0, \"Wheelbase\": 113.0, \"Width\": 74.4, \"Length\": 207.7, \"Curb_weight\": 3.564, \"Fuel_capacity\": 17.0, \"Fuel_efficiency\": 23.0, \"Latest_Launch\": 1336435200000000000, \"Power_perf_factor\": 101.3292807, \"Passenger\": 1, \"Pred\": 29.265795469737995, \"Pred2\": 31.028276638449743, \"Trade Decision\": \"Buy\", \"Pred3\": \"Not Buy\"}, {\"Manufacturer\": \"Dodge\", \"Model\": \"Neon\", \"Sales_in_thousands\": 76.034, \"__year_resale_value\": 7.75, \"Vehicle_type\": \"Passenger\", \"Price_in_thousands\": 12.64, \"Engine_size\": 2.0, \"Horsepower\": 132.0, \"Wheelbase\": 105.0, \"Width\": 74.4, \"Length\": 174.4, \"Curb_weight\": 2.567, \"Fuel_capacity\": 12.5, \"Fuel_efficiency\": 29.0, \"Latest_Launch\": 1323648000000000000, \"Power_perf_factor\": 52.08489875, \"Passenger\": 1, \"Pred\": 12.67703992503003, \"Pred2\": 12.276188032610136, \"Trade Decision\": \"Not Buy\", \"Pred3\": \"Buy\"}, {\"Manufacturer\": \"Dodge\", \"Model\": \"Avenger\", \"Sales_in_thousands\": 4.734, \"__year_resale_value\": 12.545, \"Vehicle_type\": \"Passenger\", \"Price_in_thousands\": 19.045, \"Engine_size\": 2.5, \"Horsepower\": 163.0, \"Wheelbase\": 103.7, \"Width\": 69.1, \"Length\": 190.2, \"Curb_weight\": 2.879, \"Fuel_capacity\": 15.9, \"Fuel_efficiency\": 24.0, \"Latest_Launch\": 1341100800000000000, \"Power_perf_factor\": 65.65050834, \"Passenger\": 1, \"Pred\": 18.68165218815887, \"Pred2\": 19.13271260236135, \"Trade Decision\": \"Buy\", \"Pred3\": \"Buy\"}, {\"Manufacturer\": \"Dodge\", \"Model\": \"Stratus\", \"Sales_in_thousands\": 71.186, \"__year_resale_value\": 10.185, \"Vehicle_type\": \"Passenger\", \"Price_in_thousands\": 20.23, \"Engine_size\": 2.5, \"Horsepower\": 168.0, \"Wheelbase\": 108.0, \"Width\": 71.0, \"Length\": 186.0, \"Curb_weight\": 3.058, \"Fuel_capacity\": 16.0, \"Fuel_efficiency\": 24.0, \"Latest_Launch\": 1320019200000000000, \"Power_perf_factor\": 67.87610784, \"Passenger\": 1, \"Pred\": 18.12078823034113, \"Pred2\": 18.283564816236833, \"Trade Decision\": \"Not Buy\", \"Pred3\": \"Not Buy\"}, {\"Manufacturer\": \"Dodge\", \"Model\": \"Viper\", \"Sales_in_thousands\": 0.916, \"__year_resale_value\": 58.47, \"Vehicle_type\": \"Passenger\", \"Price_in_thousands\": 69.725, \"Engine_size\": 8.0, \"Horsepower\": 450.0, \"Wheelbase\": 96.2, \"Width\": 75.7, \"Length\": 176.7, \"Curb_weight\": 3.375, \"Fuel_capacity\": 19.0, \"Fuel_efficiency\": 16.0, \"Latest_Launch\": 1312675200000000000, \"Power_perf_factor\": 188.144323, \"Passenger\": 1, \"Pred\": 77.25953454875895, \"Pred2\": 74.54494812636028, \"Trade Decision\": \"Buy\", \"Pred3\": \"Not Buy\"}, {\"Manufacturer\": \"Dodge\", \"Model\": \"Ram Pickup\", \"Sales_in_thousands\": 227.061, \"__year_resale_value\": 15.06, \"Vehicle_type\": \"Car\", \"Price_in_thousands\": 19.46, \"Engine_size\": 5.2, \"Horsepower\": 230.0, \"Wheelbase\": 138.7, \"Width\": 79.3, \"Length\": 224.2, \"Curb_weight\": 4.47, \"Fuel_capacity\": 26.0, \"Fuel_efficiency\": 17.0, \"Latest_Launch\": 1330992000000000000, \"Power_perf_factor\": 90.21170005, \"Passenger\": 0, \"Pred\": 28.467893204049396, \"Pred2\": 27.143938899031017, \"Trade Decision\": \"Buy\", \"Pred3\": \"Not Buy\"}, {\"Manufacturer\": \"Dodge\", \"Model\": \"Ram Wagon\", \"Sales_in_thousands\": 16.767, \"__year_resale_value\": 15.51, \"Vehicle_type\": \"Car\", \"Price_in_thousands\": 21.315, \"Engine_size\": 3.9, \"Horsepower\": 175.0, \"Wheelbase\": 109.6, \"Width\": 78.8, \"Length\": 192.6, \"Curb_weight\": 4.245, \"Fuel_capacity\": 32.0, \"Fuel_efficiency\": 15.0, \"Latest_Launch\": 1325808000000000000, \"Power_perf_factor\": 71.13529161, \"Passenger\": 0, \"Pred\": 25.290708125277366, \"Pred2\": 24.73179341613275, \"Trade Decision\": \"Buy\", \"Pred3\": \"Buy\"}, {\"Manufacturer\": \"Dodge\", \"Model\": \"Ram Van\", \"Sales_in_thousands\": 31.038, \"__year_resale_value\": 13.425, \"Vehicle_type\": \"Car\", \"Price_in_thousands\": 18.575, \"Engine_size\": 3.9, \"Horsepower\": 175.0, \"Wheelbase\": 127.2, \"Width\": 78.8, \"Length\": 208.5, \"Curb_weight\": 4.298, \"Fuel_capacity\": 32.0, \"Fuel_efficiency\": 16.0, \"Latest_Launch\": 1343260800000000000, \"Power_perf_factor\": 70.07832154, \"Passenger\": 0, \"Pred\": 24.69752527777127, \"Pred2\": 23.023430835777187, \"Trade Decision\": \"Buy\", \"Pred3\": \"Buy\"}, {\"Manufacturer\": \"Dodge\", \"Model\": \"Dakota\", \"Sales_in_thousands\": 111.313, \"__year_resale_value\": 11.26, \"Vehicle_type\": \"Car\", \"Price_in_thousands\": 16.98, \"Engine_size\": 2.5, \"Horsepower\": 120.0, \"Wheelbase\": 131.0, \"Width\": 71.5, \"Length\": 215.0, \"Curb_weight\": 3.557, \"Fuel_capacity\": 22.0, \"Fuel_efficiency\": 19.0, \"Latest_Launch\": 1322179200000000000, \"Power_perf_factor\": 49.64500177, \"Passenger\": 0, \"Pred\": 19.253082752405547, \"Pred2\": 16.82649982205506, \"Trade Decision\": \"Not Buy\", \"Pred3\": \"Not Buy\"}, {\"Manufacturer\": \"Dodge\", \"Model\": \"Caravan\", \"Sales_in_thousands\": 181.749, \"__year_resale_value\": 12.025, \"Vehicle_type\": \"Car\", \"Price_in_thousands\": 19.565, \"Engine_size\": 2.4, \"Horsepower\": 150.0, \"Wheelbase\": 113.3, \"Width\": 76.8, \"Length\": 186.3, \"Curb_weight\": 3.533, \"Fuel_capacity\": 20.0, \"Fuel_efficiency\": 24.0, \"Latest_Launch\": 1314835200000000000, \"Power_perf_factor\": 61.22700031, \"Passenger\": 0, \"Pred\": 19.278658014542586, \"Pred2\": 19.943336242647046, \"Trade Decision\": \"Buy\", \"Pred3\": \"Not Buy\"}, {\"Manufacturer\": \"Ford\", \"Model\": \"Escort\", \"Sales_in_thousands\": 70.227, \"__year_resale_value\": 7.425, \"Vehicle_type\": \"Passenger\", \"Price_in_thousands\": 12.07, \"Engine_size\": 2.0, \"Horsepower\": 110.0, \"Wheelbase\": 98.4, \"Width\": 67.0, \"Length\": 174.7, \"Curb_weight\": 2.468, \"Fuel_capacity\": 12.7, \"Fuel_efficiency\": 30.0, \"Latest_Launch\": 1333152000000000000, \"Power_perf_factor\": 44.08370946, \"Passenger\": 1, \"Pred\": 10.089206028744826, \"Pred2\": 10.032593027788526, \"Trade Decision\": \"Not Buy\", \"Pred3\": \"Not Buy\"}, {\"Manufacturer\": \"Ford\", \"Model\": \"Mustang\", \"Sales_in_thousands\": 113.369, \"__year_resale_value\": 12.76, \"Vehicle_type\": \"Passenger\", \"Price_in_thousands\": 21.56, \"Engine_size\": 3.8, \"Horsepower\": 190.0, \"Wheelbase\": 101.3, \"Width\": 73.1, \"Length\": 183.2, \"Curb_weight\": 3.203, \"Fuel_capacity\": 15.7, \"Fuel_efficiency\": 24.0, \"Latest_Launch\": 1327968000000000000, \"Power_perf_factor\": 76.50918456, \"Passenger\": 1, \"Pred\": 20.01479145465205, \"Pred2\": 20.644955255275274, \"Trade Decision\": \"Not Buy\", \"Pred3\": \"Not Buy\"}, {\"Manufacturer\": \"Ford\", \"Model\": \"Contour\", \"Sales_in_thousands\": 35.068, \"__year_resale_value\": 8.835, \"Vehicle_type\": \"Passenger\", \"Price_in_thousands\": 17.035, \"Engine_size\": 2.5, \"Horsepower\": 170.0, \"Wheelbase\": 106.5, \"Width\": 69.1, \"Length\": 184.6, \"Curb_weight\": 2.769, \"Fuel_capacity\": 15.0, \"Fuel_efficiency\": 25.0, \"Latest_Launch\": 1345420800000000000, \"Power_perf_factor\": 67.35101072, \"Passenger\": 1, \"Pred\": 15.825599886538509, \"Pred2\": 16.22045011410973, \"Trade Decision\": \"Not Buy\", \"Pred3\": \"Buy\"}, {\"Manufacturer\": \"Ford\", \"Model\": \"Taurus\", \"Sales_in_thousands\": 245.815, \"__year_resale_value\": 10.055, \"Vehicle_type\": \"Passenger\", \"Price_in_thousands\": 17.885, \"Engine_size\": 3.0, \"Horsepower\": 155.0, \"Wheelbase\": 108.5, \"Width\": 73.0, \"Length\": 197.6, \"Curb_weight\": 3.368, \"Fuel_capacity\": 16.0, \"Fuel_efficiency\": 24.0, \"Latest_Launch\": 1324339200000000000, \"Power_perf_factor\": 62.5037395, \"Passenger\": 1, \"Pred\": 15.486518131621228, \"Pred2\": 17.25601261244119, \"Trade Decision\": \"Not Buy\", \"Pred3\": \"Buy\"}, {\"Manufacturer\": \"Ford\", \"Model\": \"Crown Victoria\", \"Sales_in_thousands\": 63.403, \"__year_resale_value\": 14.21, \"Vehicle_type\": \"Passenger\", \"Price_in_thousands\": 22.195, \"Engine_size\": 4.6, \"Horsepower\": 200.0, \"Wheelbase\": 114.7, \"Width\": 78.2, \"Length\": 212.0, \"Curb_weight\": 3.908, \"Fuel_capacity\": 19.0, \"Fuel_efficiency\": 21.0, \"Latest_Launch\": 1316995200000000000, \"Power_perf_factor\": 80.49953671, \"Passenger\": 1, \"Pred\": 24.141787532274964, \"Pred2\": 23.599921531382083, \"Trade Decision\": \"Buy\", \"Pred3\": \"Not Buy\"}, {\"Manufacturer\": \"Ford\", \"Model\": \"Explorer\", \"Sales_in_thousands\": 276.747, \"__year_resale_value\": 16.64, \"Vehicle_type\": \"Car\", \"Price_in_thousands\": 31.93, \"Engine_size\": 4.0, \"Horsepower\": 210.0, \"Wheelbase\": 111.6, \"Width\": 70.2, \"Length\": 190.7, \"Curb_weight\": 3.876, \"Fuel_capacity\": 21.0, \"Fuel_efficiency\": 19.0, \"Latest_Launch\": 1335312000000000000, \"Power_perf_factor\": 87.63549578, \"Passenger\": 0, \"Pred\": 25.947832225480244, \"Pred2\": 27.81734058506216, \"Trade Decision\": \"Not Buy\", \"Pred3\": \"Not Buy\"}, {\"Manufacturer\": \"Ford\", \"Model\": \"Windstar\", \"Sales_in_thousands\": 155.787, \"__year_resale_value\": 13.175, \"Vehicle_type\": \"Car\", \"Price_in_thousands\": 21.41, \"Engine_size\": 3.0, \"Horsepower\": 150.0, \"Wheelbase\": 120.7, \"Width\": 76.6, \"Length\": 200.9, \"Curb_weight\": 3.761, \"Fuel_capacity\": 26.0, \"Fuel_efficiency\": 21.0, \"Latest_Launch\": 1330128000000000000, \"Power_perf_factor\": 62.09504839, \"Passenger\": 0, \"Pred\": 21.57678679820819, \"Pred2\": 20.84059709555071, \"Trade Decision\": \"Not Buy\", \"Pred3\": \"Not Buy\"}, {\"Manufacturer\": \"Ford\", \"Model\": \"Expedition\", \"Sales_in_thousands\": 125.338, \"__year_resale_value\": 23.575, \"Vehicle_type\": \"Car\", \"Price_in_thousands\": 36.135, \"Engine_size\": 4.6, \"Horsepower\": 240.0, \"Wheelbase\": 119.0, \"Width\": 78.7, \"Length\": 204.6, \"Curb_weight\": 4.808, \"Fuel_capacity\": 26.0, \"Fuel_efficiency\": 16.0, \"Latest_Launch\": 1347580800000000000, \"Power_perf_factor\": 100.0248023, \"Passenger\": 0, \"Pred\": 35.57187933211391, \"Pred2\": 37.86877123542075, \"Trade Decision\": \"Buy\", \"Pred3\": \"Buy\"}, {\"Manufacturer\": \"Ford\", \"Model\": \"Ranger\", \"Sales_in_thousands\": 220.65, \"__year_resale_value\": 7.85, \"Vehicle_type\": \"Car\", \"Price_in_thousands\": 12.05, \"Engine_size\": 2.5, \"Horsepower\": 119.0, \"Wheelbase\": 117.5, \"Width\": 69.4, \"Length\": 200.7, \"Curb_weight\": 3.086, \"Fuel_capacity\": 20.0, \"Fuel_efficiency\": 23.0, \"Latest_Launch\": 1326499200000000000, \"Power_perf_factor\": 47.38953131, \"Passenger\": 0, \"Pred\": 13.091895357555899, \"Pred2\": 12.213180377893924, \"Trade Decision\": \"Buy\", \"Pred3\": \"Buy\"}, {\"Manufacturer\": \"Ford\", \"Model\": \"F-Series\", \"Sales_in_thousands\": 540.561, \"__year_resale_value\": 15.075, \"Vehicle_type\": \"Car\", \"Price_in_thousands\": 26.935, \"Engine_size\": 4.6, \"Horsepower\": 220.0, \"Wheelbase\": 138.5, \"Width\": 79.1, \"Length\": 224.5, \"Curb_weight\": 4.241, \"Fuel_capacity\": 25.1, \"Fuel_efficiency\": 18.0, \"Latest_Launch\": 1345075200000000000, \"Power_perf_factor\": 89.40193473, \"Passenger\": 0, \"Pred\": 25.874010116207433, \"Pred2\": 27.1768993643331, \"Trade Decision\": \"Buy\", \"Pred3\": \"Buy\"}, {\"Manufacturer\": \"Honda\", \"Model\": \"Civic\", \"Sales_in_thousands\": 199.685, \"__year_resale_value\": 9.85, \"Vehicle_type\": \"Passenger\", \"Price_in_thousands\": 12.885, \"Engine_size\": 1.6, \"Horsepower\": 106.0, \"Wheelbase\": 103.2, \"Width\": 67.1, \"Length\": 175.1, \"Curb_weight\": 2.339, \"Fuel_capacity\": 11.9, \"Fuel_efficiency\": 32.0, \"Latest_Launch\": 1319155200000000000, \"Power_perf_factor\": 42.87909734, \"Passenger\": 1, \"Pred\": 12.09769693380533, \"Pred2\": 11.896454336151137, \"Trade Decision\": \"Not Buy\", \"Pred3\": \"Not Buy\"}, {\"Manufacturer\": \"Honda\", \"Model\": \"Accord\", \"Sales_in_thousands\": 230.902, \"__year_resale_value\": 13.21, \"Vehicle_type\": \"Passenger\", \"Price_in_thousands\": 15.35, \"Engine_size\": 2.3, \"Horsepower\": 135.0, \"Wheelbase\": 106.9, \"Width\": 70.3, \"Length\": 188.8, \"Curb_weight\": 2.932, \"Fuel_capacity\": 17.1, \"Fuel_efficiency\": 27.0, \"Latest_Launch\": 1337472000000000000, \"Power_perf_factor\": 54.26954829, \"Passenger\": 1, \"Pred\": 16.56692871622837, \"Pred2\": 17.724048955433815, \"Trade Decision\": \"Buy\", \"Pred3\": \"Not Buy\"}, {\"Manufacturer\": \"Honda\", \"Model\": \"CR-V\", \"Sales_in_thousands\": 73.203, \"__year_resale_value\": 17.71, \"Vehicle_type\": \"Car\", \"Price_in_thousands\": 20.55, \"Engine_size\": 2.0, \"Horsepower\": 146.0, \"Wheelbase\": 103.2, \"Width\": 68.9, \"Length\": 177.6, \"Curb_weight\": 3.219, \"Fuel_capacity\": 15.3, \"Fuel_efficiency\": 24.0, \"Latest_Launch\": 1332288000000000000, \"Power_perf_factor\": 60.08796662, \"Passenger\": 0, \"Pred\": 22.22993526898113, \"Pred2\": 23.831524141553476, \"Trade Decision\": \"Buy\", \"Pred3\": \"Not Buy\"}, {\"Manufacturer\": \"Honda\", \"Model\": \"Passport\", \"Sales_in_thousands\": 12.855, \"__year_resale_value\": 17.525, \"Vehicle_type\": \"Car\", \"Price_in_thousands\": 26.6, \"Engine_size\": 3.2, \"Horsepower\": 205.0, \"Wheelbase\": 106.4, \"Width\": 70.4, \"Length\": 178.2, \"Curb_weight\": 3.857, \"Fuel_capacity\": 21.1, \"Fuel_efficiency\": 19.0, \"Latest_Launch\": 1349740800000000000, \"Power_perf_factor\": 83.6025008, \"Passenger\": 0, \"Pred\": 26.75512021680511, \"Pred2\": 28.800982470920868, \"Trade Decision\": \"Buy\", \"Pred3\": \"Not Buy\"}, {\"Manufacturer\": \"Honda\", \"Model\": \"Odyssey\", \"Sales_in_thousands\": 76.029, \"__year_resale_value\": 19.49, \"Vehicle_type\": \"Car\", \"Price_in_thousands\": 26.0, \"Engine_size\": 3.5, \"Horsepower\": 210.0, \"Wheelbase\": 118.1, \"Width\": 75.6, \"Length\": 201.2, \"Curb_weight\": 4.288, \"Fuel_capacity\": 20.0, \"Fuel_efficiency\": 23.0, \"Latest_Launch\": 1328659200000000000, \"Power_perf_factor\": 85.21769134, \"Passenger\": 0, \"Pred\": 29.772537583087328, \"Pred2\": 31.568159775989105, \"Trade Decision\": \"Buy\", \"Pred3\": \"Not Buy\"}, {\"Manufacturer\": \"Hyundai\", \"Model\": \"Accent\", \"Sales_in_thousands\": 41.184, \"__year_resale_value\": 5.86, \"Vehicle_type\": \"Passenger\", \"Price_in_thousands\": 9.699, \"Engine_size\": 1.5, \"Horsepower\": 92.0, \"Wheelbase\": 96.1, \"Width\": 65.7, \"Length\": 166.7, \"Curb_weight\": 2.24, \"Fuel_capacity\": 11.9, \"Fuel_efficiency\": 31.0, \"Latest_Launch\": 1347235200000000000, \"Power_perf_factor\": 36.67228358, \"Passenger\": 1, \"Pred\": 7.109447045887769, \"Pred2\": 7.281747107419623, \"Trade Decision\": \"Not Buy\", \"Pred3\": \"Buy\"}, {\"Manufacturer\": \"Hyundai\", \"Model\": \"Elantra\", \"Sales_in_thousands\": 66.692, \"__year_resale_value\": 7.825, \"Vehicle_type\": \"Passenger\", \"Price_in_thousands\": 11.799, \"Engine_size\": 2.0, \"Horsepower\": 140.0, \"Wheelbase\": 100.4, \"Width\": 66.9, \"Length\": 174.0, \"Curb_weight\": 2.626, \"Fuel_capacity\": 14.5, \"Fuel_efficiency\": 27.0, \"Latest_Launch\": 1321315200000000000, \"Power_perf_factor\": 54.59004516, \"Passenger\": 1, \"Pred\": 12.867328297310948, \"Pred2\": 13.043286619552077, \"Trade Decision\": \"Buy\", \"Pred3\": \"Not Buy\"}, {\"Manufacturer\": \"Hyundai\", \"Model\": \"Sonata\", \"Sales_in_thousands\": 29.45, \"__year_resale_value\": 8.91, \"Vehicle_type\": \"Passenger\", \"Price_in_thousands\": 14.999, \"Engine_size\": 2.4, \"Horsepower\": 148.0, \"Wheelbase\": 106.3, \"Width\": 71.6, \"Length\": 185.4, \"Curb_weight\": 3.072, \"Fuel_capacity\": 17.2, \"Fuel_efficiency\": 25.0, \"Latest_Launch\": 1339632000000000000, \"Power_perf_factor\": 58.758249, \"Passenger\": 1, \"Pred\": 15.017961060026295, \"Pred2\": 15.549000353852247, \"Trade Decision\": \"Buy\", \"Pred3\": \"Buy\"}, {\"Manufacturer\": \"Infiniti\", \"Model\": \"I30\", \"Sales_in_thousands\": 23.713, \"__year_resale_value\": 19.69, \"Vehicle_type\": \"Passenger\", \"Price_in_thousands\": 29.465, \"Engine_size\": 3.0, \"Horsepower\": 227.0, \"Wheelbase\": 108.3, \"Width\": 70.2, \"Length\": 193.7, \"Curb_weight\": 3.342, \"Fuel_capacity\": 18.5, \"Fuel_efficiency\": 25.0, \"Latest_Launch\": 1334448000000000000, \"Power_perf_factor\": 92.43688923, \"Passenger\": 1, \"Pred\": 29.922177894535025, \"Pred2\": 31.09120144228368, \"Trade Decision\": \"Buy\", \"Pred3\": \"Not Buy\"}, {\"Manufacturer\": \"Jeep\", \"Model\": \"Wrangler\", \"Sales_in_thousands\": 55.557, \"__year_resale_value\": 13.475, \"Vehicle_type\": \"Car\", \"Price_in_thousands\": 14.46, \"Engine_size\": 2.5, \"Horsepower\": 120.0, \"Wheelbase\": 93.4, \"Width\": 66.7, \"Length\": 152.0, \"Curb_weight\": 3.045, \"Fuel_capacity\": 19.0, \"Fuel_efficiency\": 17.0, \"Latest_Launch\": 1330819200000000000, \"Power_perf_factor\": 48.67289791, \"Passenger\": 0, \"Pred\": 16.73269231667573, \"Pred2\": 16.804581065989147, \"Trade Decision\": \"Buy\", \"Pred3\": \"Not Buy\"}, {\"Manufacturer\": \"Jeep\", \"Model\": \"Cherokee\", \"Sales_in_thousands\": 80.556, \"__year_resale_value\": 13.775, \"Vehicle_type\": \"Car\", \"Price_in_thousands\": 21.62, \"Engine_size\": 4.0, \"Horsepower\": 190.0, \"Wheelbase\": 101.4, \"Width\": 69.4, \"Length\": 167.5, \"Curb_weight\": 3.194, \"Fuel_capacity\": 20.0, \"Fuel_efficiency\": 20.0, \"Latest_Launch\": 1349395200000000000, \"Power_perf_factor\": 76.58443962, \"Passenger\": 0, \"Pred\": 21.366012179965526, \"Pred2\": 21.13798038046016, \"Trade Decision\": \"Not Buy\", \"Pred3\": \"Not Buy\"}, {\"Manufacturer\": \"Jeep\", \"Model\": \"Grand Cherokee\", \"Sales_in_thousands\": 157.04, \"__year_resale_value\": 18.81, \"Vehicle_type\": \"Car\", \"Price_in_thousands\": 26.895, \"Engine_size\": 4.0, \"Horsepower\": 195.0, \"Wheelbase\": 105.9, \"Width\": 72.3, \"Length\": 181.5, \"Curb_weight\": 3.88, \"Fuel_capacity\": 20.5, \"Fuel_efficiency\": 19.0, \"Latest_Launch\": 1323475200000000000, \"Power_perf_factor\": 80.38777912, \"Passenger\": 0, \"Pred\": 27.03327755029536, \"Pred2\": 28.020302819983197, \"Trade Decision\": \"Buy\", \"Pred3\": \"Buy\"}, {\"Manufacturer\": \"Lexus\", \"Model\": \"ES300\", \"Sales_in_thousands\": 24.072, \"__year_resale_value\": 26.975, \"Vehicle_type\": \"Passenger\", \"Price_in_thousands\": 31.505, \"Engine_size\": 3.0, \"Horsepower\": 210.0, \"Wheelbase\": 105.1, \"Width\": 70.5, \"Length\": 190.2, \"Curb_weight\": 3.373, \"Fuel_capacity\": 18.5, \"Fuel_efficiency\": 23.0, \"Latest_Launch\": 1341792000000000000, \"Power_perf_factor\": 87.21100104, \"Passenger\": 1, \"Pred\": 34.65083139592599, \"Pred2\": 35.84605465229518, \"Trade Decision\": \"Buy\", \"Pred3\": \"Buy\"}, {\"Manufacturer\": \"Lexus\", \"Model\": \"GS300\", \"Sales_in_thousands\": 12.698, \"__year_resale_value\": 32.075, \"Vehicle_type\": \"Passenger\", \"Price_in_thousands\": 37.805, \"Engine_size\": 3.0, \"Horsepower\": 225.0, \"Wheelbase\": 110.2, \"Width\": 70.9, \"Length\": 189.2, \"Curb_weight\": 3.638, \"Fuel_capacity\": 19.8, \"Fuel_efficiency\": 23.0, \"Latest_Launch\": 1336608000000000000, \"Power_perf_factor\": 94.9466984, \"Passenger\": 1, \"Pred\": 41.48185435488839, \"Pred2\": 42.31734624746021, \"Trade Decision\": \"Buy\", \"Pred3\": \"Not Buy\"}, {\"Manufacturer\": \"Lexus\", \"Model\": \"LS400\", \"Sales_in_thousands\": 6.375, \"__year_resale_value\": 40.375, \"Vehicle_type\": \"Passenger\", \"Price_in_thousands\": 54.005, \"Engine_size\": 4.0, \"Horsepower\": 290.0, \"Wheelbase\": 112.2, \"Width\": 72.0, \"Length\": 196.7, \"Curb_weight\": 3.89, \"Fuel_capacity\": 22.5, \"Fuel_efficiency\": 22.0, \"Latest_Launch\": 1332979200000000000, \"Power_perf_factor\": 124.4467163, \"Passenger\": 1, \"Pred\": 53.99104383841714, \"Pred2\": 54.369288271092074, \"Trade Decision\": \"Buy\", \"Pred3\": \"Not Buy\"}, {\"Manufacturer\": \"Lincoln\", \"Model\": \"Continental\", \"Sales_in_thousands\": 13.798, \"__year_resale_value\": 20.525, \"Vehicle_type\": \"Passenger\", \"Price_in_thousands\": 39.08, \"Engine_size\": 4.6, \"Horsepower\": 275.0, \"Wheelbase\": 109.0, \"Width\": 73.6, \"Length\": 208.5, \"Curb_weight\": 3.868, \"Fuel_capacity\": 20.0, \"Fuel_efficiency\": 22.0, \"Latest_Launch\": 1343952000000000000, \"Power_perf_factor\": 113.5402069, \"Passenger\": 1, \"Pred\": 33.76729141454729, \"Pred2\": 35.421294062994434, \"Trade Decision\": \"Not Buy\", \"Pred3\": \"Buy\"}, {\"Manufacturer\": \"Lincoln\", \"Model\": \"Town car\", \"Sales_in_thousands\": 48.911, \"__year_resale_value\": 21.725, \"Vehicle_type\": \"Passenger\", \"Price_in_thousands\": 43.33, \"Engine_size\": 4.6, \"Horsepower\": 215.0, \"Wheelbase\": 117.7, \"Width\": 78.2, \"Length\": 215.3, \"Curb_weight\": 4.121, \"Fuel_capacity\": 19.0, \"Fuel_efficiency\": 21.0, \"Latest_Launch\": 1338768000000000000, \"Power_perf_factor\": 93.9579169, \"Passenger\": 1, \"Pred\": 33.0830921598817, \"Pred2\": 33.025147751834226, \"Trade Decision\": \"Not Buy\", \"Pred3\": \"Buy\"}, {\"Manufacturer\": \"Mitsubishi\", \"Model\": \"Mirage\", \"Sales_in_thousands\": 26.232, \"__year_resale_value\": 8.325, \"Vehicle_type\": \"Passenger\", \"Price_in_thousands\": 13.987, \"Engine_size\": 1.8, \"Horsepower\": 113.0, \"Wheelbase\": 98.4, \"Width\": 66.5, \"Length\": 173.6, \"Curb_weight\": 2.25, \"Fuel_capacity\": 13.2, \"Fuel_efficiency\": 30.0, \"Latest_Launch\": 1335139200000000000, \"Power_perf_factor\": 45.83218056, \"Passenger\": 1, \"Pred\": 11.518322607054849, \"Pred2\": 10.74179573472151, \"Trade Decision\": \"Not Buy\", \"Pred3\": \"Not Buy\"}, {\"Manufacturer\": \"Mitsubishi\", \"Model\": \"Eclipse\", \"Sales_in_thousands\": 42.541, \"__year_resale_value\": 10.395, \"Vehicle_type\": \"Passenger\", \"Price_in_thousands\": 19.047, \"Engine_size\": 2.4, \"Horsepower\": 154.0, \"Wheelbase\": 100.8, \"Width\": 68.9, \"Length\": 175.4, \"Curb_weight\": 2.91, \"Fuel_capacity\": 15.9, \"Fuel_efficiency\": 24.0, \"Latest_Launch\": 1353715200000000000, \"Power_perf_factor\": 62.44196235, \"Passenger\": 1, \"Pred\": 15.712932939668967, \"Pred2\": 17.001731467230282, \"Trade Decision\": \"Not Buy\", \"Pred3\": \"Not Buy\"}, {\"Manufacturer\": \"Mitsubishi\", \"Model\": \"Galant\", \"Sales_in_thousands\": 55.616, \"__year_resale_value\": 10.595, \"Vehicle_type\": \"Passenger\", \"Price_in_thousands\": 17.357, \"Engine_size\": 2.4, \"Horsepower\": 145.0, \"Wheelbase\": 103.7, \"Width\": 68.5, \"Length\": 187.8, \"Curb_weight\": 2.945, \"Fuel_capacity\": 16.3, \"Fuel_efficiency\": 25.0, \"Latest_Launch\": 1327795200000000000, \"Power_perf_factor\": 58.60677292, \"Passenger\": 1, \"Pred\": 16.217322758014895, \"Pred2\": 16.460186113511806, \"Trade Decision\": \"Not Buy\", \"Pred3\": \"Not Buy\"}, {\"Manufacturer\": \"Mitsubishi\", \"Model\": \"Diamante\", \"Sales_in_thousands\": 5.711, \"__year_resale_value\": 16.575, \"Vehicle_type\": \"Passenger\", \"Price_in_thousands\": 24.997, \"Engine_size\": 3.5, \"Horsepower\": 210.0, \"Wheelbase\": 107.1, \"Width\": 70.3, \"Length\": 194.1, \"Curb_weight\": 3.443, \"Fuel_capacity\": 19.0, \"Fuel_efficiency\": 22.0, \"Latest_Launch\": 1346112000000000000, \"Power_perf_factor\": 84.83077858, \"Passenger\": 1, \"Pred\": 25.64932069037695, \"Pred2\": 26.593541381668796, \"Trade Decision\": \"Buy\", \"Pred3\": \"Buy\"}, {\"Manufacturer\": \"Mitsubishi\", \"Model\": \"3000GT\", \"Sales_in_thousands\": 0.11, \"__year_resale_value\": 20.94, \"Vehicle_type\": \"Passenger\", \"Price_in_thousands\": 25.45, \"Engine_size\": 3.0, \"Horsepower\": 161.0, \"Wheelbase\": 97.2, \"Width\": 72.4, \"Length\": 180.3, \"Curb_weight\": 3.131, \"Fuel_capacity\": 19.8, \"Fuel_efficiency\": 21.0, \"Latest_Launch\": 1340928000000000000, \"Power_perf_factor\": 67.54415494, \"Passenger\": 1, \"Pred\": 26.04317858757529, \"Pred2\": 26.195843393546124, \"Trade Decision\": \"Buy\", \"Pred3\": \"Buy\"}, {\"Manufacturer\": \"Mitsubishi\", \"Model\": \"Montero\", \"Sales_in_thousands\": 11.337, \"__year_resale_value\": 19.125, \"Vehicle_type\": \"Car\", \"Price_in_thousands\": 31.807, \"Engine_size\": 3.5, \"Horsepower\": 200.0, \"Wheelbase\": 107.3, \"Width\": 69.9, \"Length\": 186.6, \"Curb_weight\": 4.52, \"Fuel_capacity\": 24.3, \"Fuel_efficiency\": 18.0, \"Latest_Launch\": 1326758400000000000, \"Power_perf_factor\": 83.92081504, \"Passenger\": 0, \"Pred\": 29.57077753235694, \"Pred2\": 31.717488462836318, \"Trade Decision\": \"Not Buy\", \"Pred3\": \"Buy\"}, {\"Manufacturer\": \"Mitsubishi\", \"Model\": \"Montero Sport\", \"Sales_in_thousands\": 39.348, \"__year_resale_value\": 13.88, \"Vehicle_type\": \"Car\", \"Price_in_thousands\": 22.527, \"Engine_size\": 3.0, \"Horsepower\": 173.0, \"Wheelbase\": 107.3, \"Width\": 66.7, \"Length\": 178.3, \"Curb_weight\": 3.51, \"Fuel_capacity\": 19.5, \"Fuel_efficiency\": 20.0, \"Latest_Launch\": 1337299200000000000, \"Power_perf_factor\": 70.66094179, \"Passenger\": 0, \"Pred\": 21.910579769327878, \"Pred2\": 22.431184076565057, \"Trade Decision\": \"Not Buy\", \"Pred3\": \"Not Buy\"}, {\"Manufacturer\": \"Mercury\", \"Model\": \"Mystique\", \"Sales_in_thousands\": 14.351, \"__year_resale_value\": 8.8, \"Vehicle_type\": \"Passenger\", \"Price_in_thousands\": 16.24, \"Engine_size\": 2.0, \"Horsepower\": 125.0, \"Wheelbase\": 106.5, \"Width\": 69.1, \"Length\": 184.8, \"Curb_weight\": 2.769, \"Fuel_capacity\": 15.0, \"Fuel_efficiency\": 28.0, \"Latest_Launch\": 1355875200000000000, \"Power_perf_factor\": 50.99774761, \"Passenger\": 1, \"Pred\": 13.214120614089595, \"Pred2\": 13.496401966714576, \"Trade Decision\": \"Not Buy\", \"Pred3\": \"Not Buy\"}, {\"Manufacturer\": \"Mercury\", \"Model\": \"Cougar\", \"Sales_in_thousands\": 26.529, \"__year_resale_value\": 13.89, \"Vehicle_type\": \"Passenger\", \"Price_in_thousands\": 16.54, \"Engine_size\": 2.0, \"Horsepower\": 125.0, \"Wheelbase\": 106.4, \"Width\": 69.6, \"Length\": 185.0, \"Curb_weight\": 2.892, \"Fuel_capacity\": 16.0, \"Fuel_efficiency\": 30.0, \"Latest_Launch\": 1329955200000000000, \"Power_perf_factor\": 51.11347426, \"Passenger\": 1, \"Pred\": 18.36409431558128, \"Pred2\": 17.921603149559576, \"Trade Decision\": \"Buy\", \"Pred3\": \"Not Buy\"}, {\"Manufacturer\": \"Mercury\", \"Model\": \"Sable\", \"Sales_in_thousands\": 67.956, \"__year_resale_value\": 11.03, \"Vehicle_type\": \"Passenger\", \"Price_in_thousands\": 19.035, \"Engine_size\": 3.0, \"Horsepower\": 153.0, \"Wheelbase\": 108.5, \"Width\": 73.0, \"Length\": 199.7, \"Curb_weight\": 3.379, \"Fuel_capacity\": 16.0, \"Fuel_efficiency\": 24.0, \"Latest_Launch\": 1348272000000000000, \"Power_perf_factor\": 62.23996663, \"Passenger\": 1, \"Pred\": 16.689733926817897, \"Pred2\": 18.005029377151423, \"Trade Decision\": \"Not Buy\", \"Pred3\": \"Buy\"}, {\"Manufacturer\": \"Mercury\", \"Model\": \"Grand Marquis\", \"Sales_in_thousands\": 81.174, \"__year_resale_value\": 14.875, \"Vehicle_type\": \"Passenger\", \"Price_in_thousands\": 22.605, \"Engine_size\": 4.6, \"Horsepower\": 200.0, \"Wheelbase\": 114.7, \"Width\": 78.2, \"Length\": 212.0, \"Curb_weight\": 3.958, \"Fuel_capacity\": 19.0, \"Fuel_efficiency\": 21.0, \"Latest_Launch\": 1343088000000000000, \"Power_perf_factor\": 80.65769646, \"Passenger\": 1, \"Pred\": 23.68510401068005, \"Pred2\": 24.31210721931237, \"Trade Decision\": \"Buy\", \"Pred3\": \"Buy\"}, {\"Manufacturer\": \"Mercury\", \"Model\": \"Mountaineer\", \"Sales_in_thousands\": 27.609, \"__year_resale_value\": 20.43, \"Vehicle_type\": \"Car\", \"Price_in_thousands\": 27.56, \"Engine_size\": 4.0, \"Horsepower\": 210.0, \"Wheelbase\": 111.6, \"Width\": 70.2, \"Length\": 190.1, \"Curb_weight\": 3.876, \"Fuel_capacity\": 21.0, \"Fuel_efficiency\": 18.0, \"Latest_Launch\": 1202860800000000000, \"Power_perf_factor\": 85.94974425, \"Passenger\": 0, \"Pred\": 35.06076595850038, \"Pred2\": 30.458964430639018, \"Trade Decision\": \"Buy\", \"Pred3\": \"Buy\"}, {\"Manufacturer\": \"Mercury\", \"Model\": \"Villager\", \"Sales_in_thousands\": 20.38, \"__year_resale_value\": 14.795, \"Vehicle_type\": \"Car\", \"Price_in_thousands\": 22.51, \"Engine_size\": 3.3, \"Horsepower\": 170.0, \"Wheelbase\": 112.2, \"Width\": 74.9, \"Length\": 194.7, \"Curb_weight\": 3.944, \"Fuel_capacity\": 20.0, \"Fuel_efficiency\": 21.0, \"Latest_Launch\": 1255996800000000000, \"Power_perf_factor\": 69.671461, \"Passenger\": 0, \"Pred\": 25.80771921270178, \"Pred2\": 23.829449582114375, \"Trade Decision\": \"Buy\", \"Pred3\": \"Buy\"}, {\"Manufacturer\": \"Mercedes-B\", \"Model\": \"C-Class\", \"Sales_in_thousands\": 18.392, \"__year_resale_value\": 26.05, \"Vehicle_type\": \"Passenger\", \"Price_in_thousands\": 31.75, \"Engine_size\": 2.3, \"Horsepower\": 185.0, \"Wheelbase\": 105.9, \"Width\": 67.7, \"Length\": 177.4, \"Curb_weight\": 3.25, \"Fuel_capacity\": 16.4, \"Fuel_efficiency\": 26.0, \"Latest_Launch\": 1303603200000000000, \"Power_perf_factor\": 78.28073088, \"Passenger\": 1, \"Pred\": 34.229757188597354, \"Pred2\": 33.90097185890902, \"Trade Decision\": \"Buy\", \"Pred3\": \"Not Buy\"}, {\"Manufacturer\": \"Mercedes-B\", \"Model\": \"E-Class\", \"Sales_in_thousands\": 27.602, \"__year_resale_value\": 41.45, \"Vehicle_type\": \"Passenger\", \"Price_in_thousands\": 49.9, \"Engine_size\": 3.2, \"Horsepower\": 221.0, \"Wheelbase\": 111.5, \"Width\": 70.8, \"Length\": 189.4, \"Curb_weight\": 3.823, \"Fuel_capacity\": 21.1, \"Fuel_efficiency\": 25.0, \"Latest_Launch\": 1310428800000000000, \"Power_perf_factor\": 98.2497375, \"Passenger\": 1, \"Pred\": 51.50584748755403, \"Pred2\": 50.693016346667875, \"Trade Decision\": \"Buy\", \"Pred3\": \"Not Buy\"}, {\"Manufacturer\": \"Mercedes-B\", \"Model\": \"S-Class\", \"Sales_in_thousands\": 16.774, \"__year_resale_value\": 50.375, \"Vehicle_type\": \"Passenger\", \"Price_in_thousands\": 69.7, \"Engine_size\": 4.3, \"Horsepower\": 275.0, \"Wheelbase\": 121.5, \"Width\": 73.1, \"Length\": 203.1, \"Curb_weight\": 4.133, \"Fuel_capacity\": 23.2, \"Fuel_efficiency\": 21.0, \"Latest_Launch\": 1307923200000000000, \"Power_perf_factor\": 125.2738757, \"Passenger\": 1, \"Pred\": 65.28878087664236, \"Pred2\": 62.74701833792477, \"Trade Decision\": \"Not Buy\", \"Pred3\": \"Not Buy\"}, {\"Manufacturer\": \"Mercedes-B\", \"Model\": \"SL-Class\", \"Sales_in_thousands\": 3.311, \"__year_resale_value\": 58.6, \"Vehicle_type\": \"Passenger\", \"Price_in_thousands\": 82.6, \"Engine_size\": 5.0, \"Horsepower\": 302.0, \"Wheelbase\": 99.0, \"Width\": 71.3, \"Length\": 177.1, \"Curb_weight\": 4.125, \"Fuel_capacity\": 21.1, \"Fuel_efficiency\": 20.0, \"Latest_Launch\": 1300320000000000000, \"Power_perf_factor\": 139.9822936, \"Passenger\": 1, \"Pred\": 72.3817995307908, \"Pred2\": 71.27765710744248, \"Trade Decision\": \"Not Buy\", \"Pred3\": \"Buy\"}, {\"Manufacturer\": \"Nissan\", \"Model\": \"Sentra\", \"Sales_in_thousands\": 42.643, \"__year_resale_value\": 8.45, \"Vehicle_type\": \"Passenger\", \"Price_in_thousands\": 13.499, \"Engine_size\": 1.8, \"Horsepower\": 126.0, \"Wheelbase\": 99.8, \"Width\": 67.3, \"Length\": 177.5, \"Curb_weight\": 2.593, \"Fuel_capacity\": 13.2, \"Fuel_efficiency\": 30.0, \"Latest_Launch\": 1314748800000000000, \"Power_perf_factor\": 50.24197791, \"Passenger\": 1, \"Pred\": 12.914246607666264, \"Pred2\": 12.819184588150936, \"Trade Decision\": \"Not Buy\", \"Pred3\": \"Not Buy\"}, {\"Manufacturer\": \"Nissan\", \"Model\": \"Altima\", \"Sales_in_thousands\": 88.094, \"__year_resale_value\": 11.295, \"Vehicle_type\": \"Passenger\", \"Price_in_thousands\": 20.39, \"Engine_size\": 2.4, \"Horsepower\": 155.0, \"Wheelbase\": 103.1, \"Width\": 69.1, \"Length\": 183.5, \"Curb_weight\": 3.012, \"Fuel_capacity\": 15.9, \"Fuel_efficiency\": 25.0, \"Latest_Launch\": 1312243200000000000, \"Power_perf_factor\": 63.31372783, \"Passenger\": 1, \"Pred\": 17.910342159155164, \"Pred2\": 18.20914170754293, \"Trade Decision\": \"Not Buy\", \"Pred3\": \"Not Buy\"}, {\"Manufacturer\": \"Nissan\", \"Model\": \"Maxima\", \"Sales_in_thousands\": 79.853, \"__year_resale_value\": 15.125, \"Vehicle_type\": \"Passenger\", \"Price_in_thousands\": 26.249, \"Engine_size\": 3.0, \"Horsepower\": 222.0, \"Wheelbase\": 108.3, \"Width\": 70.3, \"Length\": 190.5, \"Curb_weight\": 3.294, \"Fuel_capacity\": 18.5, \"Fuel_efficiency\": 25.0, \"Latest_Launch\": 1304640000000000000, \"Power_perf_factor\": 89.42782031, \"Passenger\": 1, \"Pred\": 26.29941688086059, \"Pred2\": 26.702088722158212, \"Trade Decision\": \"Buy\", \"Pred3\": \"Not Buy\"}, {\"Manufacturer\": \"Nissan\", \"Model\": \"Quest\", \"Sales_in_thousands\": 27.308, \"__year_resale_value\": 15.38, \"Vehicle_type\": \"Car\", \"Price_in_thousands\": 26.399, \"Engine_size\": 3.3, \"Horsepower\": 170.0, \"Wheelbase\": 112.2, \"Width\": 74.9, \"Length\": 194.8, \"Curb_weight\": 3.991, \"Fuel_capacity\": 20.0, \"Fuel_efficiency\": 21.0, \"Latest_Launch\": 1299456000000000000, \"Power_perf_factor\": 71.17166413, \"Passenger\": 0, \"Pred\": 25.13069132468709, \"Pred2\": 24.75155059922597, \"Trade Decision\": \"Not Buy\", \"Pred3\": \"Buy\"}, {\"Manufacturer\": \"Nissan\", \"Model\": \"Pathfinder\", \"Sales_in_thousands\": 42.574, \"__year_resale_value\": 17.81, \"Vehicle_type\": \"Car\", \"Price_in_thousands\": 29.299, \"Engine_size\": 3.3, \"Horsepower\": 170.0, \"Wheelbase\": 106.3, \"Width\": 71.7, \"Length\": 182.6, \"Curb_weight\": 3.947, \"Fuel_capacity\": 21.0, \"Fuel_efficiency\": 19.0, \"Latest_Launch\": 1316908800000000000, \"Power_perf_factor\": 72.29035508, \"Passenger\": 0, \"Pred\": 26.343666021148277, \"Pred2\": 26.77321961277303, \"Trade Decision\": \"Not Buy\", \"Pred3\": \"Not Buy\"}, {\"Manufacturer\": \"Oldsmobile\", \"Model\": \"Cutlass\", \"Sales_in_thousands\": 1.112, \"__year_resale_value\": 11.24, \"Vehicle_type\": \"Passenger\", \"Price_in_thousands\": 18.145, \"Engine_size\": 3.1, \"Horsepower\": 150.0, \"Wheelbase\": 107.0, \"Width\": 69.4, \"Length\": 192.0, \"Curb_weight\": 3.102, \"Fuel_capacity\": 15.2, \"Fuel_efficiency\": 25.0, \"Latest_Launch\": 1306800000000000000, \"Power_perf_factor\": 60.86161155, \"Passenger\": 1, \"Pred\": 18.47815105955042, \"Pred2\": 16.883625128213467, \"Trade Decision\": \"Not Buy\", \"Pred3\": \"Not Buy\"}, {\"Manufacturer\": \"Oldsmobile\", \"Model\": \"Aurora\", \"Sales_in_thousands\": 14.69, \"__year_resale_value\": 19.89, \"Vehicle_type\": \"Passenger\", \"Price_in_thousands\": 36.229, \"Engine_size\": 4.0, \"Horsepower\": 250.0, \"Wheelbase\": 113.8, \"Width\": 74.4, \"Length\": 205.4, \"Curb_weight\": 3.967, \"Fuel_capacity\": 18.5, \"Fuel_efficiency\": 22.0, \"Latest_Launch\": 1297987200000000000, \"Power_perf_factor\": 103.4416926, \"Passenger\": 1, \"Pred\": 33.84773353007617, \"Pred2\": 33.990959720424144, \"Trade Decision\": \"Not Buy\", \"Pred3\": \"Buy\"}, {\"Manufacturer\": \"Oldsmobile\", \"Model\": \"Bravada\", \"Sales_in_thousands\": 20.017, \"__year_resale_value\": 19.925, \"Vehicle_type\": \"Car\", \"Price_in_thousands\": 31.598, \"Engine_size\": 4.3, \"Horsepower\": 190.0, \"Wheelbase\": 107.0, \"Width\": 67.8, \"Length\": 181.2, \"Curb_weight\": 4.068, \"Fuel_capacity\": 17.5, \"Fuel_efficiency\": 19.0, \"Latest_Launch\": 1316563200000000000, \"Power_perf_factor\": 80.51167259, \"Passenger\": 0, \"Pred\": 29.293038525695135, \"Pred2\": 29.05729799914727, \"Trade Decision\": \"Not Buy\", \"Pred3\": \"Not Buy\"}, {\"Manufacturer\": \"Oldsmobile\", \"Model\": \"Silhouette\", \"Sales_in_thousands\": 24.361, \"__year_resale_value\": 15.24, \"Vehicle_type\": \"Car\", \"Price_in_thousands\": 25.345, \"Engine_size\": 3.4, \"Horsepower\": 185.0, \"Wheelbase\": 120.0, \"Width\": 72.2, \"Length\": 201.4, \"Curb_weight\": 3.948, \"Fuel_capacity\": 25.0, \"Fuel_efficiency\": 22.0, \"Latest_Launch\": 1308960000000000000, \"Power_perf_factor\": 76.09657042, \"Passenger\": 0, \"Pred\": 26.96586002559786, \"Pred2\": 25.396451510691666, \"Trade Decision\": \"Buy\", \"Pred3\": \"Not Buy\"}, {\"Manufacturer\": \"Plymouth\", \"Model\": \"Neon\", \"Sales_in_thousands\": 32.734, \"__year_resale_value\": 7.75, \"Vehicle_type\": \"Passenger\", \"Price_in_thousands\": 12.64, \"Engine_size\": 2.0, \"Horsepower\": 132.0, \"Wheelbase\": 105.0, \"Width\": 74.4, \"Length\": 174.4, \"Curb_weight\": 2.559, \"Fuel_capacity\": 12.5, \"Fuel_efficiency\": 29.0, \"Latest_Launch\": 1303776000000000000, \"Power_perf_factor\": 52.08489875, \"Passenger\": 1, \"Pred\": 13.689245193345464, \"Pred2\": 12.251679794975182, \"Trade Decision\": \"Not Buy\", \"Pred3\": \"Not Buy\"}, {\"Manufacturer\": \"Plymouth\", \"Model\": \"Breeze\", \"Sales_in_thousands\": 5.24, \"__year_resale_value\": 9.8, \"Vehicle_type\": \"Passenger\", \"Price_in_thousands\": 16.08, \"Engine_size\": 2.0, \"Horsepower\": 132.0, \"Wheelbase\": 108.0, \"Width\": 71.0, \"Length\": 186.3, \"Curb_weight\": 2.942, \"Fuel_capacity\": 16.0, \"Fuel_efficiency\": 27.0, \"Latest_Launch\": 1321228800000000000, \"Power_perf_factor\": 53.41189767, \"Passenger\": 1, \"Pred\": 15.946140715547983, \"Pred2\": 15.324882406060933, \"Trade Decision\": \"Not Buy\", \"Pred3\": \"Not Buy\"}, {\"Manufacturer\": \"Plymouth\", \"Model\": \"Voyager\", \"Sales_in_thousands\": 24.155, \"__year_resale_value\": 12.025, \"Vehicle_type\": \"Car\", \"Price_in_thousands\": 18.85, \"Engine_size\": 2.4, \"Horsepower\": 150.0, \"Wheelbase\": 113.3, \"Width\": 76.8, \"Length\": 186.3, \"Curb_weight\": 3.528, \"Fuel_capacity\": 20.0, \"Fuel_efficiency\": 24.0, \"Latest_Launch\": 1303603200000000000, \"Power_perf_factor\": 60.95118512, \"Passenger\": 0, \"Pred\": 20.726012205074834, \"Pred2\": 19.86998991658818, \"Trade Decision\": \"Buy\", \"Pred3\": \"Not Buy\"}, {\"Manufacturer\": \"Pontiac\", \"Model\": \"Sunfire\", \"Sales_in_thousands\": 51.645, \"__year_resale_value\": 13.79, \"Vehicle_type\": \"Passenger\", \"Price_in_thousands\": 21.61, \"Engine_size\": 2.4, \"Horsepower\": 150.0, \"Wheelbase\": 104.1, \"Width\": 68.4, \"Length\": 181.9, \"Curb_weight\": 2.906, \"Fuel_capacity\": 15.0, \"Fuel_efficiency\": 27.0, \"Latest_Launch\": 1327449600000000000, \"Power_perf_factor\": 62.0158703, \"Passenger\": 1, \"Pred\": 19.648133253493217, \"Pred2\": 19.583842483831983, \"Trade Decision\": \"Not Buy\", \"Pred3\": \"Not Buy\"}, {\"Manufacturer\": \"Pontiac\", \"Model\": \"Grand Am\", \"Sales_in_thousands\": 131.097, \"__year_resale_value\": 10.29, \"Vehicle_type\": \"Passenger\", \"Price_in_thousands\": 19.72, \"Engine_size\": 3.4, \"Horsepower\": 175.0, \"Wheelbase\": 107.0, \"Width\": 70.4, \"Length\": 186.3, \"Curb_weight\": 3.091, \"Fuel_capacity\": 15.2, \"Fuel_efficiency\": 25.0, \"Latest_Launch\": 1353888000000000000, \"Power_perf_factor\": 70.38973726, \"Passenger\": 1, \"Pred\": 16.677176888991138, \"Pred2\": 17.656989099811017, \"Trade Decision\": \"Not Buy\", \"Pred3\": \"Not Buy\"}, {\"Manufacturer\": \"Pontiac\", \"Model\": \"Firebird\", \"Sales_in_thousands\": 19.911, \"__year_resale_value\": 17.805, \"Vehicle_type\": \"Passenger\", \"Price_in_thousands\": 25.31, \"Engine_size\": 3.8, \"Horsepower\": 200.0, \"Wheelbase\": 101.1, \"Width\": 74.5, \"Length\": 193.4, \"Curb_weight\": 3.492, \"Fuel_capacity\": 16.8, \"Fuel_efficiency\": 25.0, \"Latest_Launch\": 1339804800000000000, \"Power_perf_factor\": 81.49272616, \"Passenger\": 1, \"Pred\": 25.15897530521554, \"Pred2\": 26.567264553158534, \"Trade Decision\": \"Buy\", \"Pred3\": \"Buy\"}, {\"Manufacturer\": \"Pontiac\", \"Model\": \"Grand Prix\", \"Sales_in_thousands\": 92.364, \"__year_resale_value\": 14.01, \"Vehicle_type\": \"Passenger\", \"Price_in_thousands\": 21.665, \"Engine_size\": 3.8, \"Horsepower\": 195.0, \"Wheelbase\": 110.5, \"Width\": 72.7, \"Length\": 196.5, \"Curb_weight\": 3.396, \"Fuel_capacity\": 18.0, \"Fuel_efficiency\": 25.0, \"Latest_Launch\": 1350259200000000000, \"Power_perf_factor\": 78.31816813, \"Passenger\": 1, \"Pred\": 21.955760443106236, \"Pred2\": 22.6050298550615, \"Trade Decision\": \"Buy\", \"Pred3\": \"Not Buy\"}, {\"Manufacturer\": \"Pontiac\", \"Model\": \"Bonneville\", \"Sales_in_thousands\": 35.945, \"__year_resale_value\": 13.225, \"Vehicle_type\": \"Passenger\", \"Price_in_thousands\": 23.755, \"Engine_size\": 3.8, \"Horsepower\": 205.0, \"Wheelbase\": 112.2, \"Width\": 72.6, \"Length\": 202.5, \"Curb_weight\": 3.59, \"Fuel_capacity\": 17.5, \"Fuel_efficiency\": 24.0, \"Latest_Launch\": 1305676800000000000, \"Power_perf_factor\": 82.6613556, \"Passenger\": 1, \"Pred\": 24.046975285689488, \"Pred2\": 23.492513249663038, \"Trade Decision\": \"Not Buy\", \"Pred3\": \"Not Buy\"}, {\"Manufacturer\": \"Porsche\", \"Model\": \"Boxter\", \"Sales_in_thousands\": 8.982, \"__year_resale_value\": 41.25, \"Vehicle_type\": \"Passenger\", \"Price_in_thousands\": 41.43, \"Engine_size\": 2.7, \"Horsepower\": 217.0, \"Wheelbase\": 95.2, \"Width\": 70.1, \"Length\": 171.0, \"Curb_weight\": 2.778, \"Fuel_capacity\": 17.0, \"Fuel_efficiency\": 22.0, \"Latest_Launch\": 1329609600000000000, \"Power_perf_factor\": 93.4373307, \"Passenger\": 1, \"Pred\": 47.21586403372301, \"Pred2\": 47.065211774941346, \"Trade Decision\": \"Buy\", \"Pred3\": \"Not Buy\"}, {\"Manufacturer\": \"Porsche\", \"Model\": \"Carrera Coupe\", \"Sales_in_thousands\": 1.28, \"__year_resale_value\": 60.625, \"Vehicle_type\": \"Passenger\", \"Price_in_thousands\": 71.02, \"Engine_size\": 3.4, \"Horsepower\": 300.0, \"Wheelbase\": 92.6, \"Width\": 69.5, \"Length\": 174.5, \"Curb_weight\": 3.032, \"Fuel_capacity\": 17.0, \"Fuel_efficiency\": 21.0, \"Latest_Launch\": 1356048000000000000, \"Power_perf_factor\": 134.3909754, \"Passenger\": 1, \"Pred\": 69.23699892780033, \"Pred2\": 70.73515976767027, \"Trade Decision\": \"Not Buy\", \"Pred3\": \"Not Buy\"}, {\"Manufacturer\": \"Porsche\", \"Model\": \"Carrera Cabrio\", \"Sales_in_thousands\": 1.866, \"__year_resale_value\": 67.55, \"Vehicle_type\": \"Passenger\", \"Price_in_thousands\": 74.97, \"Engine_size\": 3.4, \"Horsepower\": 300.0, \"Wheelbase\": 92.6, \"Width\": 69.5, \"Length\": 174.5, \"Curb_weight\": 3.075, \"Fuel_capacity\": 17.0, \"Fuel_efficiency\": 23.0, \"Latest_Launch\": 1310342400000000000, \"Power_perf_factor\": 135.9147096, \"Passenger\": 1, \"Pred\": 76.97515944503775, \"Pred2\": 76.66221853406093, \"Trade Decision\": \"Buy\", \"Pred3\": \"Not Buy\"}, {\"Manufacturer\": \"Saturn\", \"Model\": \"SL\", \"Sales_in_thousands\": 80.62, \"__year_resale_value\": 9.2, \"Vehicle_type\": \"Passenger\", \"Price_in_thousands\": 10.685, \"Engine_size\": 1.9, \"Horsepower\": 100.0, \"Wheelbase\": 102.4, \"Width\": 66.4, \"Length\": 176.9, \"Curb_weight\": 2.332, \"Fuel_capacity\": 12.1, \"Fuel_efficiency\": 33.0, \"Latest_Launch\": 1345075200000000000, \"Power_perf_factor\": 39.98642475, \"Passenger\": 1, \"Pred\": 10.846922420155984, \"Pred2\": 10.306037529431794, \"Trade Decision\": \"Not Buy\", \"Pred3\": \"Buy\"}, {\"Manufacturer\": \"Saturn\", \"Model\": \"SC\", \"Sales_in_thousands\": 24.546, \"__year_resale_value\": 10.59, \"Vehicle_type\": \"Passenger\", \"Price_in_thousands\": 12.535, \"Engine_size\": 1.9, \"Horsepower\": 100.0, \"Wheelbase\": 102.4, \"Width\": 66.4, \"Length\": 180.0, \"Curb_weight\": 2.367, \"Fuel_capacity\": 12.1, \"Fuel_efficiency\": 33.0, \"Latest_Launch\": 1300233600000000000, \"Power_perf_factor\": 40.70007242, \"Passenger\": 1, \"Pred\": 14.098568233343805, \"Pred2\": 11.662307880862485, \"Trade Decision\": \"Not Buy\", \"Pred3\": \"Buy\"}, {\"Manufacturer\": \"Saturn\", \"Model\": \"SW\", \"Sales_in_thousands\": 5.223, \"__year_resale_value\": 10.79, \"Vehicle_type\": \"Passenger\", \"Price_in_thousands\": 14.29, \"Engine_size\": 1.9, \"Horsepower\": 124.0, \"Wheelbase\": 102.4, \"Width\": 66.4, \"Length\": 176.9, \"Curb_weight\": 2.452, \"Fuel_capacity\": 12.1, \"Fuel_efficiency\": 31.0, \"Latest_Launch\": 1295049600000000000, \"Power_perf_factor\": 49.86577367, \"Passenger\": 1, \"Pred\": 16.054663525500786, \"Pred2\": 14.00919261809658, \"Trade Decision\": \"Not Buy\", \"Pred3\": \"Buy\"}, {\"Manufacturer\": \"Toyota\", \"Model\": \"Corolla\", \"Sales_in_thousands\": 142.535, \"__year_resale_value\": 10.025, \"Vehicle_type\": \"Passenger\", \"Price_in_thousands\": 13.108, \"Engine_size\": 1.8, \"Horsepower\": 120.0, \"Wheelbase\": 97.0, \"Width\": 66.7, \"Length\": 174.0, \"Curb_weight\": 2.42, \"Fuel_capacity\": 13.2, \"Fuel_efficiency\": 33.0, \"Latest_Launch\": 1302480000000000000, \"Power_perf_factor\": 47.96897242, \"Passenger\": 1, \"Pred\": 13.27313157473067, \"Pred2\": 13.056136504464643, \"Trade Decision\": \"Not Buy\", \"Pred3\": \"Buy\"}, {\"Manufacturer\": \"Toyota\", \"Model\": \"Camry\", \"Sales_in_thousands\": 247.994, \"__year_resale_value\": 13.245, \"Vehicle_type\": \"Passenger\", \"Price_in_thousands\": 17.518, \"Engine_size\": 2.2, \"Horsepower\": 133.0, \"Wheelbase\": 105.2, \"Width\": 70.1, \"Length\": 188.5, \"Curb_weight\": 2.998, \"Fuel_capacity\": 18.5, \"Fuel_efficiency\": 27.0, \"Latest_Launch\": 1297296000000000000, \"Power_perf_factor\": 54.37241965, \"Passenger\": 1, \"Pred\": 17.969451557569343, \"Pred2\": 18.124391268844864, \"Trade Decision\": \"Buy\", \"Pred3\": \"Buy\"}, {\"Manufacturer\": \"Toyota\", \"Model\": \"Avalon\", \"Sales_in_thousands\": 63.849, \"__year_resale_value\": 18.14, \"Vehicle_type\": \"Passenger\", \"Price_in_thousands\": 25.545, \"Engine_size\": 3.0, \"Horsepower\": 210.0, \"Wheelbase\": 107.1, \"Width\": 71.7, \"Length\": 191.9, \"Curb_weight\": 3.417, \"Fuel_capacity\": 18.5, \"Fuel_efficiency\": 26.0, \"Latest_Launch\": 1314748800000000000, \"Power_perf_factor\": 84.91189826, \"Passenger\": 1, \"Pred\": 27.636804142239974, \"Pred2\": 28.512390428625114, \"Trade Decision\": \"Buy\", \"Pred3\": \"Not Buy\"}, {\"Manufacturer\": \"Toyota\", \"Model\": \"Celica\", \"Sales_in_thousands\": 33.269, \"__year_resale_value\": 15.445, \"Vehicle_type\": \"Passenger\", \"Price_in_thousands\": 16.875, \"Engine_size\": 1.8, \"Horsepower\": 140.0, \"Wheelbase\": 102.4, \"Width\": 68.3, \"Length\": 170.5, \"Curb_weight\": 2.425, \"Fuel_capacity\": 14.5, \"Fuel_efficiency\": 31.0, \"Latest_Launch\": 1356739200000000000, \"Power_perf_factor\": 56.49603034, \"Passenger\": 1, \"Pred\": 19.032470704869358, \"Pred2\": 19.150389285427543, \"Trade Decision\": \"Buy\", \"Pred3\": \"Not Buy\"}, {\"Manufacturer\": \"Toyota\", \"Model\": \"Tacoma\", \"Sales_in_thousands\": 84.087, \"__year_resale_value\": 9.575, \"Vehicle_type\": \"Car\", \"Price_in_thousands\": 11.528, \"Engine_size\": 2.4, \"Horsepower\": 142.0, \"Wheelbase\": 103.3, \"Width\": 66.5, \"Length\": 178.7, \"Curb_weight\": 2.58, \"Fuel_capacity\": 15.1, \"Fuel_efficiency\": 23.0, \"Latest_Launch\": 1312156800000000000, \"Power_perf_factor\": 55.29711658, \"Passenger\": 0, \"Pred\": 14.982537580643069, \"Pred2\": 13.839291115908349, \"Trade Decision\": \"Buy\", \"Pred3\": \"Not Buy\"}, {\"Manufacturer\": \"Toyota\", \"Model\": \"RAV4\", \"Sales_in_thousands\": 25.106, \"__year_resale_value\": 13.325, \"Vehicle_type\": \"Car\", \"Price_in_thousands\": 16.888, \"Engine_size\": 2.0, \"Horsepower\": 127.0, \"Wheelbase\": 94.9, \"Width\": 66.7, \"Length\": 163.8, \"Curb_weight\": 2.668, \"Fuel_capacity\": 15.3, \"Fuel_efficiency\": 27.0, \"Latest_Launch\": 1304640000000000000, \"Power_perf_factor\": 51.95510887, \"Passenger\": 0, \"Pred\": 17.768428441545936, \"Pred2\": 16.965767484649394, \"Trade Decision\": \"Buy\", \"Pred3\": \"Not Buy\"}, {\"Manufacturer\": \"Toyota\", \"Model\": \"4Runner\", \"Sales_in_thousands\": 68.411, \"__year_resale_value\": 19.425, \"Vehicle_type\": \"Car\", \"Price_in_thousands\": 22.288, \"Engine_size\": 2.7, \"Horsepower\": 150.0, \"Wheelbase\": 105.3, \"Width\": 66.5, \"Length\": 183.3, \"Curb_weight\": 3.44, \"Fuel_capacity\": 18.5, \"Fuel_efficiency\": 23.0, \"Latest_Launch\": 1299456000000000000, \"Power_perf_factor\": 62.35557713, \"Passenger\": 0, \"Pred\": 25.858992933369713, \"Pred2\": 25.299634024599715, \"Trade Decision\": \"Buy\", \"Pred3\": \"Buy\"}, {\"Manufacturer\": \"Toyota\", \"Model\": \"Land Cruiser\", \"Sales_in_thousands\": 9.835, \"__year_resale_value\": 34.08, \"Vehicle_type\": \"Car\", \"Price_in_thousands\": 51.728, \"Engine_size\": 4.7, \"Horsepower\": 230.0, \"Wheelbase\": 112.2, \"Width\": 76.4, \"Length\": 192.5, \"Curb_weight\": 5.115, \"Fuel_capacity\": 25.4, \"Fuel_efficiency\": 15.0, \"Latest_Launch\": 1316908800000000000, \"Power_perf_factor\": 102.5289842, \"Passenger\": 0, \"Pred\": 46.62382944244878, \"Pred2\": 47.492309234182116, \"Trade Decision\": \"Not Buy\", \"Pred3\": \"Not Buy\"}, {\"Manufacturer\": \"Volkswagen\", \"Model\": \"Golf\", \"Sales_in_thousands\": 9.761, \"__year_resale_value\": 11.425, \"Vehicle_type\": \"Passenger\", \"Price_in_thousands\": 14.9, \"Engine_size\": 2.0, \"Horsepower\": 115.0, \"Wheelbase\": 98.9, \"Width\": 68.3, \"Length\": 163.3, \"Curb_weight\": 2.767, \"Fuel_capacity\": 14.5, \"Fuel_efficiency\": 26.0, \"Latest_Launch\": 1295827200000000000, \"Power_perf_factor\": 46.94387676, \"Passenger\": 1, \"Pred\": 16.282527925003727, \"Pred2\": 14.712648063484846, \"Trade Decision\": \"Not Buy\", \"Pred3\": \"Buy\"}, {\"Manufacturer\": \"Volkswagen\", \"Model\": \"Jetta\", \"Sales_in_thousands\": 83.721, \"__year_resale_value\": 13.24, \"Vehicle_type\": \"Passenger\", \"Price_in_thousands\": 16.7, \"Engine_size\": 2.0, \"Horsepower\": 115.0, \"Wheelbase\": 98.9, \"Width\": 68.3, \"Length\": 172.3, \"Curb_weight\": 2.853, \"Fuel_capacity\": 14.5, \"Fuel_efficiency\": 26.0, \"Latest_Launch\": 1314403200000000000, \"Power_perf_factor\": 47.63823666, \"Passenger\": 1, \"Pred\": 16.551948576959205, \"Pred2\": 16.55709590716605, \"Trade Decision\": \"Not Buy\", \"Pred3\": \"Not Buy\"}, {\"Manufacturer\": \"Volkswagen\", \"Model\": \"Passat\", \"Sales_in_thousands\": 51.102, \"__year_resale_value\": 16.725, \"Vehicle_type\": \"Passenger\", \"Price_in_thousands\": 21.2, \"Engine_size\": 1.8, \"Horsepower\": 150.0, \"Wheelbase\": 106.4, \"Width\": 68.5, \"Length\": 184.1, \"Curb_weight\": 3.043, \"Fuel_capacity\": 16.4, \"Fuel_efficiency\": 27.0, \"Latest_Launch\": 1351555200000000000, \"Power_perf_factor\": 61.70138136, \"Passenger\": 1, \"Pred\": 21.5889799759629, \"Pred2\": 23.15074209289021, \"Trade Decision\": \"Buy\", \"Pred3\": \"Not Buy\"}, {\"Manufacturer\": \"Volkswagen\", \"Model\": \"Cabrio\", \"Sales_in_thousands\": 9.569, \"__year_resale_value\": 16.575, \"Vehicle_type\": \"Passenger\", \"Price_in_thousands\": 19.99, \"Engine_size\": 2.0, \"Horsepower\": 115.0, \"Wheelbase\": 97.4, \"Width\": 66.7, \"Length\": 160.4, \"Curb_weight\": 3.079, \"Fuel_capacity\": 13.7, \"Fuel_efficiency\": 26.0, \"Latest_Launch\": 1306800000000000000, \"Power_perf_factor\": 48.90737225, \"Passenger\": 1, \"Pred\": 20.465401386056715, \"Pred2\": 20.15304255716209, \"Trade Decision\": \"Buy\", \"Pred3\": \"Not Buy\"}, {\"Manufacturer\": \"Volkswagen\", \"Model\": \"GTI\", \"Sales_in_thousands\": 5.596, \"__year_resale_value\": 13.76, \"Vehicle_type\": \"Passenger\", \"Price_in_thousands\": 17.5, \"Engine_size\": 2.0, \"Horsepower\": 115.0, \"Wheelbase\": 98.9, \"Width\": 68.3, \"Length\": 163.3, \"Curb_weight\": 2.762, \"Fuel_capacity\": 14.6, \"Fuel_efficiency\": 26.0, \"Latest_Launch\": 1301616000000000000, \"Power_perf_factor\": 47.94684106, \"Passenger\": 1, \"Pred\": 18.326620083409978, \"Pred2\": 16.75434217944597, \"Trade Decision\": \"Not Buy\", \"Pred3\": \"Buy\"}]}}, {\"mode\": \"vega-lite\"});\n</script>",
      "text/plain": "alt.HConcatChart(...)"
     },
     "metadata": {}
    }
   ]
  },
  {
   "cell_type": "code",
   "metadata": {
    "cell_id": "0e46cd57ba5a4e8ebe89e3061dbc8676",
    "tags": [],
    "deepnote_to_be_reexecuted": false,
    "source_hash": "36aa6dc1",
    "execution_start": 1654670941578,
    "execution_millis": 7,
    "deepnote_cell_type": "code",
    "deepnote_cell_height": 136.1875
   },
   "source": "loss = log_loss(Y_test, clf.predict_proba(X_test))\nloss",
   "execution_count": null,
   "outputs": [
    {
     "output_type": "execute_result",
     "execution_count": 50,
     "data": {
      "text/plain": "0.6343968063734172"
     },
     "metadata": {}
    }
   ]
  },
  {
   "cell_type": "code",
   "metadata": {
    "cell_id": "bfce87fd30a246cf9c1990eb47323069",
    "tags": [],
    "deepnote_to_be_reexecuted": false,
    "source_hash": "19c62cac",
    "execution_start": 1654670946806,
    "execution_millis": 183,
    "deepnote_cell_type": "code",
    "deepnote_cell_height": 156.578125,
    "deepnote_output_heights": [
     59.578125
    ]
   },
   "source": "(df[\"Trade Decision\"] == df[\"Pred3\"]).value_counts()",
   "execution_count": null,
   "outputs": [
    {
     "output_type": "execute_result",
     "execution_count": 51,
     "data": {
      "text/plain": "True     61\nFalse    56\ndtype: int64"
     },
     "metadata": {}
    }
   ]
  },
  {
   "cell_type": "markdown",
   "source": "There are too many errors indicate that the model cannot be used to determine whether to trade decision",
   "metadata": {
    "cell_id": "4da5e7a3cddf43dabcdde1c1c8dbf1d0",
    "tags": [],
    "deepnote_cell_type": "markdown",
    "deepnote_cell_height": 52.390625
   }
  },
  {
   "cell_type": "markdown",
   "source": "## Summary\n\nI trained a Linear regression model to predict car prices. The results show that the accuracy of the model is about 95.5% if all features are included in the data set. We compared the importance of each variable to the final output and found that Compactness and Perimeter were the two most important. The accuracy of the model based on the most dominant features was about 96% on the training data set and 95.5% on the test data set. We found that the price prediction was more accurate if the model was built with the most dominant features. In addition, we also conducted predictive trading decisions and found that the data and models were not sufficient for us to get conclusions.",
   "metadata": {
    "cell_id": "75922aa8-c6e1-46d5-9c85-550df5b37982",
    "tags": [],
    "deepnote_cell_type": "markdown",
    "deepnote_cell_height": 220.390625
   }
  },
  {
   "cell_type": "markdown",
   "source": "## References",
   "metadata": {
    "cell_id": "fc42153e-0b6d-4c37-9e06-ee471cfb0534",
    "tags": [],
    "deepnote_cell_type": "markdown",
    "deepnote_cell_height": 70
   }
  },
  {
   "cell_type": "markdown",
   "source": "* The reference link: [https://www.kaggle.com/datasets/gagandeep16/car-sales?resource=download](https://www.kaggle.com/datasets/gagandeep16/car-sales?resource=download)\n* pandas.DataFrame.astype: [https://pandas.pydata.org/docs/reference/api/pandas.DataFrame.astype.html](https://pandas.pydata.org/docs/reference/api/pandas.DataFrame.astype.html)\n* plotly: [https://plotly.com/python/plotly-express/](https://plotly.com/python/plotly-express/)\n* numpy.select: [https://numpy.org/doc/stable/reference/generated/numpy.select.html](https://numpy.org/doc/stable/reference/generated/numpy.select.html)",
   "metadata": {
    "cell_id": "59f22f8ace424f7ebedc29748889be5b",
    "tags": [],
    "deepnote_cell_type": "markdown",
    "deepnote_cell_height": 145.59375
   }
  },
  {
   "cell_type": "markdown",
   "source": "",
   "metadata": {
    "cell_id": "5d3c1c1775234d06a14311cd91ea4bec",
    "tags": [],
    "owner_user_id": "02be19f8-8497-4212-b8d0-46ca9f1d48b9",
    "deepnote_cell_type": "markdown",
    "deepnote_cell_height": 46
   }
  },
  {
   "cell_type": "markdown",
   "source": "<a style='text-decoration:none;line-height:16px;display:flex;color:#5B5B62;padding:10px;justify-content:end;' href='https://deepnote.com?utm_source=created-in-deepnote-cell&projectId=53c5d151-34ba-4023-ac7c-9c84e53ad5d3' target=\"_blank\">\n<img alt='Created in deepnote.com' style='display:inline;max-height:16px;margin:0px;margin-right:7.5px;' src='data:image/svg+xml;base64,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' > </img>\nCreated in <span style='font-weight:600;margin-left:4px;'>Deepnote</span></a>",
   "metadata": {
    "tags": [],
    "created_in_deepnote_cell": true,
    "deepnote_cell_type": "markdown"
   }
  }
 ],
 "nbformat": 4,
 "nbformat_minor": 2,
 "metadata": {
  "orig_nbformat": 2,
  "deepnote": {
   "is_reactive": false
  },
  "deepnote_notebook_id": "97afb67d-06ce-4a63-bb3d-208672377dae",
  "deepnote_execution_queue": []
 }
}