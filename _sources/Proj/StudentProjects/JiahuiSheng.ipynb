{
 "cells": [
  {
   "cell_type": "markdown",
   "source": "# Dance of the COVID-19: The Regression Model of the Vaccine Hesitancy\n\nAuthor: Jiahui Sheng\n\nCourse Project, UC Irvine, Math 10, S22",
   "metadata": {
    "tags": [],
    "cell_id": "098969f5-ac0d-4245-bbc2-f824edd4e15f",
    "deepnote_cell_type": "markdown",
    "deepnote_cell_height": 208.796875
   }
  },
  {
   "cell_type": "markdown",
   "source": "## Introduction\n\nTo investigate and predict vaccine hesitancy in America, a Kaggle dataset is proposed with the variable of the party, the sex, etc. Initially, to implement the data preprocessing, the padding NaN filling method is applied and the text is converted to the number by pandas. Then, the KMeans method is proposed to expand the features. Ultimately, the data is split into a training set and the test set, then it sends to the multilayer perceptron, using the L2 norm as the loss function, and evaluate the results to determine whether the model is overfitting or not.",
   "metadata": {
    "cell_id": "1232c27a-f5e2-426a-91e0-f6cfebd8a611",
    "tags": [],
    "deepnote_cell_type": "markdown",
    "deepnote_cell_height": 197.984375
   }
  },
  {
   "cell_type": "markdown",
   "source": "## Main portion of the project\n\n* The Data Preprocessing. The preprocessing by pandas includes the missing value filling, the text converting, and the data scaling. The method of the missing value filling in the 'pad' method, which uses the front normal value to fill the space. The text converting is converting the text into a number (in this dataset, the text is categorial so it can be mapped into numbers). The data scaling method is the min-max normalization method.\n* The KMeans clustering. Because the problem is the regression problem, there are no cluster labels. Therefore, to determine the optimal k value, the silhouette method is proposed. Then, the KMeans labels are added to the last column of the data as other features.\n* The regression. The multilayer perceptron method is proposed because it has a strong fitting ability. In addition, the dataset is split into the training and the test set to determine whether the model is overfitting or not.",
   "metadata": {
    "cell_id": "5100f2c6-6407-41f2-9bb2-1a62540d8662",
    "tags": [],
    "deepnote_cell_type": "markdown",
    "deepnote_cell_height": 307.578125
   }
  },
  {
   "cell_type": "markdown",
   "source": "Import All Package for analysis inially",
   "metadata": {
    "cell_id": "c597cb5c6c3342488eba33e3d1eac52d",
    "tags": [],
    "deepnote_cell_type": "markdown",
    "deepnote_cell_height": 52.390625
   }
  },
  {
   "cell_type": "code",
   "metadata": {
    "cell_id": "741be151ac6047a883486917b74db6f1",
    "tags": [],
    "deepnote_to_be_reexecuted": false,
    "source_hash": "5db2766d",
    "execution_start": 1654736837779,
    "execution_millis": 4321,
    "deepnote_cell_type": "code",
    "deepnote_cell_height": 297.890625
   },
   "source": "import numpy as np\nimport pandas as pd\nimport random\nfrom scipy.cluster import vq\nfrom sklearn.cluster import KMeans\nfrom sklearn.metrics import silhouette_score\nimport torch\nimport torch.nn as nn\nfrom tqdm import trange\nimport altair as alt",
   "execution_count": null,
   "outputs": [
    {
     "name": "stderr",
     "text": "/shared-libs/python3.7/py/lib/python3.7/site-packages/tqdm/auto.py:22: TqdmWarning: IProgress not found. Please update jupyter and ipywidgets. See https://ipywidgets.readthedocs.io/en/stable/user_install.html\n  from .autonotebook import tqdm as notebook_tqdm\n",
     "output_type": "stream"
    }
   ]
  },
  {
   "cell_type": "markdown",
   "source": "read the file and show it",
   "metadata": {
    "cell_id": "7fff97996ed940aba556a7c7da5afdfa",
    "tags": [],
    "deepnote_cell_type": "markdown",
    "deepnote_cell_height": 52.390625
   }
  },
  {
   "cell_type": "code",
   "metadata": {
    "cell_id": "d805c0faee104a68a8713126cf0fcda6",
    "tags": [],
    "deepnote_to_be_reexecuted": false,
    "source_hash": "78afb5eb",
    "execution_start": 1654736852357,
    "execution_millis": 431,
    "deepnote_cell_type": "code",
    "deepnote_cell_height": 618
   },
   "source": "df = pd.read_csv(\"vh_data15.csv\",encoding=\"utf8\")\ndf",
   "execution_count": null,
   "outputs": [
    {
     "output_type": "execute_result",
     "execution_count": 3,
     "data": {
      "application/vnd.deepnote.dataframe.v3+json": {
       "column_count": 42,
       "row_count": 3353,
       "columns": [
        {
         "name": "County_Density",
         "dtype": "float64",
         "stats": {
          "unique_count": 1169,
          "nan_count": 17,
          "min": "0.928097868",
          "max": "27819.8048",
          "histogram": [
           {
            "bin_start": 0.928097868,
            "bin_end": 2782.8157680812,
            "count": 3194
           },
           {
            "bin_start": 2782.8157680812,
            "bin_end": 5564.7034382944,
            "count": 48
           },
           {
            "bin_start": 5564.7034382944,
            "bin_end": 8346.5911085076,
            "count": 41
           },
           {
            "bin_start": 8346.5911085076,
            "bin_end": 11128.4787787208,
            "count": 0
           },
           {
            "bin_start": 11128.4787787208,
            "bin_end": 13910.366448934,
            "count": 9
           },
           {
            "bin_start": 13910.366448934,
            "bin_end": 16692.2541191472,
            "count": 25
           },
           {
            "bin_start": 16692.2541191472,
            "bin_end": 19474.1417893604,
            "count": 0
           },
           {
            "bin_start": 19474.1417893604,
            "bin_end": 22256.0294595736,
            "count": 0
           },
           {
            "bin_start": 22256.0294595736,
            "bin_end": 25037.9171297868,
            "count": 0
           },
           {
            "bin_start": 25037.9171297868,
            "bin_end": 27819.8048,
            "count": 19
           }
          ]
         }
        },
        {
         "name": "Vaccine_Trust_Index",
         "dtype": "float64",
         "stats": {
          "unique_count": 36,
          "nan_count": 0,
          "min": "0.0",
          "max": "10.0",
          "histogram": [
           {
            "bin_start": 0,
            "bin_end": 1,
            "count": 97
           },
           {
            "bin_start": 1,
            "bin_end": 2,
            "count": 67
           },
           {
            "bin_start": 2,
            "bin_end": 3,
            "count": 75
           },
           {
            "bin_start": 3,
            "bin_end": 4,
            "count": 108
           },
           {
            "bin_start": 4,
            "bin_end": 5,
            "count": 138
           },
           {
            "bin_start": 5,
            "bin_end": 6,
            "count": 223
           },
           {
            "bin_start": 6,
            "bin_end": 7,
            "count": 251
           },
           {
            "bin_start": 7,
            "bin_end": 8,
            "count": 342
           },
           {
            "bin_start": 8,
            "bin_end": 9,
            "count": 619
           },
           {
            "bin_start": 9,
            "bin_end": 10,
            "count": 1433
           }
          ]
         }
        },
        {
         "name": "Personal_Responsibility",
         "dtype": "float64",
         "stats": {
          "unique_count": 11,
          "nan_count": 6,
          "min": "0.0",
          "max": "10.0",
          "histogram": [
           {
            "bin_start": 0,
            "bin_end": 1,
            "count": 45
           },
           {
            "bin_start": 1,
            "bin_end": 2,
            "count": 48
           },
           {
            "bin_start": 2,
            "bin_end": 3,
            "count": 100
           },
           {
            "bin_start": 3,
            "bin_end": 4,
            "count": 134
           },
           {
            "bin_start": 4,
            "bin_end": 5,
            "count": 134
           },
           {
            "bin_start": 5,
            "bin_end": 6,
            "count": 474
           },
           {
            "bin_start": 6,
            "bin_end": 7,
            "count": 342
           },
           {
            "bin_start": 7,
            "bin_end": 8,
            "count": 456
           },
           {
            "bin_start": 8,
            "bin_end": 9,
            "count": 505
           },
           {
            "bin_start": 9,
            "bin_end": 10,
            "count": 1109
           }
          ]
         }
        },
        {
         "name": "Trust_Science_Apolitical",
         "dtype": "float64",
         "stats": {
          "unique_count": 11,
          "nan_count": 9,
          "min": "0.0",
          "max": "10.0",
          "histogram": [
           {
            "bin_start": 0,
            "bin_end": 1,
            "count": 219
           },
           {
            "bin_start": 1,
            "bin_end": 2,
            "count": 128
           },
           {
            "bin_start": 2,
            "bin_end": 3,
            "count": 212
           },
           {
            "bin_start": 3,
            "bin_end": 4,
            "count": 290
           },
           {
            "bin_start": 4,
            "bin_end": 5,
            "count": 323
           },
           {
            "bin_start": 5,
            "bin_end": 6,
            "count": 554
           },
           {
            "bin_start": 6,
            "bin_end": 7,
            "count": 385
           },
           {
            "bin_start": 7,
            "bin_end": 8,
            "count": 323
           },
           {
            "bin_start": 8,
            "bin_end": 9,
            "count": 302
           },
           {
            "bin_start": 9,
            "bin_end": 10,
            "count": 608
           }
          ]
         }
        },
        {
         "name": "Trust_Science_Politicians",
         "dtype": "float64",
         "stats": {
          "unique_count": 11,
          "nan_count": 8,
          "min": "0.0",
          "max": "10.0",
          "histogram": [
           {
            "bin_start": 0,
            "bin_end": 1,
            "count": 985
           },
           {
            "bin_start": 1,
            "bin_end": 2,
            "count": 454
           },
           {
            "bin_start": 2,
            "bin_end": 3,
            "count": 507
           },
           {
            "bin_start": 3,
            "bin_end": 4,
            "count": 449
           },
           {
            "bin_start": 4,
            "bin_end": 5,
            "count": 378
           },
           {
            "bin_start": 5,
            "bin_end": 6,
            "count": 319
           },
           {
            "bin_start": 6,
            "bin_end": 7,
            "count": 90
           },
           {
            "bin_start": 7,
            "bin_end": 8,
            "count": 65
           },
           {
            "bin_start": 8,
            "bin_end": 9,
            "count": 44
           },
           {
            "bin_start": 9,
            "bin_end": 10,
            "count": 54
           }
          ]
         }
        },
        {
         "name": "Trust_Science_Media",
         "dtype": "float64",
         "stats": {
          "unique_count": 11,
          "nan_count": 7,
          "min": "0.0",
          "max": "10.0",
          "histogram": [
           {
            "bin_start": 0,
            "bin_end": 1,
            "count": 785
           },
           {
            "bin_start": 1,
            "bin_end": 2,
            "count": 252
           },
           {
            "bin_start": 2,
            "bin_end": 3,
            "count": 317
           },
           {
            "bin_start": 3,
            "bin_end": 4,
            "count": 315
           },
           {
            "bin_start": 4,
            "bin_end": 5,
            "count": 386
           },
           {
            "bin_start": 5,
            "bin_end": 6,
            "count": 478
           },
           {
            "bin_start": 6,
            "bin_end": 7,
            "count": 227
           },
           {
            "bin_start": 7,
            "bin_end": 8,
            "count": 175
           },
           {
            "bin_start": 8,
            "bin_end": 9,
            "count": 154
           },
           {
            "bin_start": 9,
            "bin_end": 10,
            "count": 257
           }
          ]
         }
        },
        {
         "name": "Trust_Science_Community",
         "dtype": "float64",
         "stats": {
          "unique_count": 11,
          "nan_count": 7,
          "min": "0.0",
          "max": "10.0",
          "histogram": [
           {
            "bin_start": 0,
            "bin_end": 1,
            "count": 108
           },
           {
            "bin_start": 1,
            "bin_end": 2,
            "count": 68
           },
           {
            "bin_start": 2,
            "bin_end": 3,
            "count": 98
           },
           {
            "bin_start": 3,
            "bin_end": 4,
            "count": 145
           },
           {
            "bin_start": 4,
            "bin_end": 5,
            "count": 204
           },
           {
            "bin_start": 5,
            "bin_end": 6,
            "count": 476
           },
           {
            "bin_start": 6,
            "bin_end": 7,
            "count": 430
           },
           {
            "bin_start": 7,
            "bin_end": 8,
            "count": 504
           },
           {
            "bin_start": 8,
            "bin_end": 9,
            "count": 487
           },
           {
            "bin_start": 9,
            "bin_end": 10,
            "count": 826
           }
          ]
         }
        },
        {
         "name": "Trust_National",
         "dtype": "float64",
         "stats": {
          "unique_count": 11,
          "nan_count": 4,
          "min": "0.0",
          "max": "10.0",
          "histogram": [
           {
            "bin_start": 0,
            "bin_end": 1,
            "count": 211
           },
           {
            "bin_start": 1,
            "bin_end": 2,
            "count": 140
           },
           {
            "bin_start": 2,
            "bin_end": 3,
            "count": 190
           },
           {
            "bin_start": 3,
            "bin_end": 4,
            "count": 267
           },
           {
            "bin_start": 4,
            "bin_end": 5,
            "count": 317
           },
           {
            "bin_start": 5,
            "bin_end": 6,
            "count": 720
           },
           {
            "bin_start": 6,
            "bin_end": 7,
            "count": 472
           },
           {
            "bin_start": 7,
            "bin_end": 8,
            "count": 469
           },
           {
            "bin_start": 8,
            "bin_end": 9,
            "count": 373
           },
           {
            "bin_start": 9,
            "bin_end": 10,
            "count": 190
           }
          ]
         }
        },
        {
         "name": "Trust_State",
         "dtype": "float64",
         "stats": {
          "unique_count": 11,
          "nan_count": 4,
          "min": "0.0",
          "max": "10.0",
          "histogram": [
           {
            "bin_start": 0,
            "bin_end": 1,
            "count": 196
           },
           {
            "bin_start": 1,
            "bin_end": 2,
            "count": 123
           },
           {
            "bin_start": 2,
            "bin_end": 3,
            "count": 176
           },
           {
            "bin_start": 3,
            "bin_end": 4,
            "count": 187
           },
           {
            "bin_start": 4,
            "bin_end": 5,
            "count": 253
           },
           {
            "bin_start": 5,
            "bin_end": 6,
            "count": 598
           },
           {
            "bin_start": 6,
            "bin_end": 7,
            "count": 439
           },
           {
            "bin_start": 7,
            "bin_end": 8,
            "count": 529
           },
           {
            "bin_start": 8,
            "bin_end": 9,
            "count": 531
           },
           {
            "bin_start": 9,
            "bin_end": 10,
            "count": 317
           }
          ]
         }
        },
        {
         "name": "Trust_Local",
         "dtype": "float64",
         "stats": {
          "unique_count": 11,
          "nan_count": 2,
          "min": "0.0",
          "max": "10.0",
          "histogram": [
           {
            "bin_start": 0,
            "bin_end": 1,
            "count": 112
           },
           {
            "bin_start": 1,
            "bin_end": 2,
            "count": 59
           },
           {
            "bin_start": 2,
            "bin_end": 3,
            "count": 105
           },
           {
            "bin_start": 3,
            "bin_end": 4,
            "count": 140
           },
           {
            "bin_start": 4,
            "bin_end": 5,
            "count": 233
           },
           {
            "bin_start": 5,
            "bin_end": 6,
            "count": 659
           },
           {
            "bin_start": 6,
            "bin_end": 7,
            "count": 448
           },
           {
            "bin_start": 7,
            "bin_end": 8,
            "count": 626
           },
           {
            "bin_start": 8,
            "bin_end": 9,
            "count": 603
           },
           {
            "bin_start": 9,
            "bin_end": 10,
            "count": 366
           }
          ]
         }
        },
        {
         "name": "Trust_Media",
         "dtype": "float64",
         "stats": {
          "unique_count": 11,
          "nan_count": 1,
          "min": "0.0",
          "max": "10.0",
          "histogram": [
           {
            "bin_start": 0,
            "bin_end": 1,
            "count": 545
           },
           {
            "bin_start": 1,
            "bin_end": 2,
            "count": 276
           },
           {
            "bin_start": 2,
            "bin_end": 3,
            "count": 240
           },
           {
            "bin_start": 3,
            "bin_end": 4,
            "count": 198
           },
           {
            "bin_start": 4,
            "bin_end": 5,
            "count": 197
           },
           {
            "bin_start": 5,
            "bin_end": 6,
            "count": 524
           },
           {
            "bin_start": 6,
            "bin_end": 7,
            "count": 321
           },
           {
            "bin_start": 7,
            "bin_end": 8,
            "count": 449
           },
           {
            "bin_start": 8,
            "bin_end": 9,
            "count": 370
           },
           {
            "bin_start": 9,
            "bin_end": 10,
            "count": 232
           }
          ]
         }
        },
        {
         "name": "Perceived_Risk",
         "dtype": "float64",
         "stats": {
          "unique_count": 11,
          "nan_count": 4,
          "min": "0.0",
          "max": "10.0",
          "histogram": [
           {
            "bin_start": 0,
            "bin_end": 1,
            "count": 262
           },
           {
            "bin_start": 1,
            "bin_end": 2,
            "count": 180
           },
           {
            "bin_start": 2,
            "bin_end": 3,
            "count": 153
           },
           {
            "bin_start": 3,
            "bin_end": 4,
            "count": 139
           },
           {
            "bin_start": 4,
            "bin_end": 5,
            "count": 133
           },
           {
            "bin_start": 5,
            "bin_end": 6,
            "count": 309
           },
           {
            "bin_start": 6,
            "bin_end": 7,
            "count": 174
           },
           {
            "bin_start": 7,
            "bin_end": 8,
            "count": 226
           },
           {
            "bin_start": 8,
            "bin_end": 9,
            "count": 343
           },
           {
            "bin_start": 9,
            "bin_end": 10,
            "count": 1430
           }
          ]
         }
        },
        {
         "name": "Perceived_Network_Risk",
         "dtype": "float64",
         "stats": {
          "unique_count": 11,
          "nan_count": 5,
          "min": "0.0",
          "max": "10.0",
          "histogram": [
           {
            "bin_start": 0,
            "bin_end": 1,
            "count": 229
           },
           {
            "bin_start": 1,
            "bin_end": 2,
            "count": 160
           },
           {
            "bin_start": 2,
            "bin_end": 3,
            "count": 125
           },
           {
            "bin_start": 3,
            "bin_end": 4,
            "count": 117
           },
           {
            "bin_start": 4,
            "bin_end": 5,
            "count": 112
           },
           {
            "bin_start": 5,
            "bin_end": 6,
            "count": 323
           },
           {
            "bin_start": 6,
            "bin_end": 7,
            "count": 199
           },
           {
            "bin_start": 7,
            "bin_end": 8,
            "count": 270
           },
           {
            "bin_start": 8,
            "bin_end": 9,
            "count": 373
           },
           {
            "bin_start": 9,
            "bin_end": 10,
            "count": 1440
           }
          ]
         }
        },
        {
         "name": "Doctor_Comfort",
         "dtype": "float64",
         "stats": {
          "unique_count": 11,
          "nan_count": 5,
          "min": "0.0",
          "max": "10.0",
          "histogram": [
           {
            "bin_start": 0,
            "bin_end": 1,
            "count": 45
           },
           {
            "bin_start": 1,
            "bin_end": 2,
            "count": 37
           },
           {
            "bin_start": 2,
            "bin_end": 3,
            "count": 37
           },
           {
            "bin_start": 3,
            "bin_end": 4,
            "count": 44
           },
           {
            "bin_start": 4,
            "bin_end": 5,
            "count": 54
           },
           {
            "bin_start": 5,
            "bin_end": 6,
            "count": 183
           },
           {
            "bin_start": 6,
            "bin_end": 7,
            "count": 161
           },
           {
            "bin_start": 7,
            "bin_end": 8,
            "count": 251
           },
           {
            "bin_start": 8,
            "bin_end": 9,
            "count": 421
           },
           {
            "bin_start": 9,
            "bin_end": 10,
            "count": 2115
           }
          ]
         }
        },
        {
         "name": "Fear_Needles",
         "dtype": "float64",
         "stats": {
          "unique_count": 11,
          "nan_count": 4,
          "min": "0.0",
          "max": "10.0",
          "histogram": [
           {
            "bin_start": 0,
            "bin_end": 1,
            "count": 1587
           },
           {
            "bin_start": 1,
            "bin_end": 2,
            "count": 390
           },
           {
            "bin_start": 2,
            "bin_end": 3,
            "count": 244
           },
           {
            "bin_start": 3,
            "bin_end": 4,
            "count": 156
           },
           {
            "bin_start": 4,
            "bin_end": 5,
            "count": 108
           },
           {
            "bin_start": 5,
            "bin_end": 6,
            "count": 199
           },
           {
            "bin_start": 6,
            "bin_end": 7,
            "count": 146
           },
           {
            "bin_start": 7,
            "bin_end": 8,
            "count": 143
           },
           {
            "bin_start": 8,
            "bin_end": 9,
            "count": 104
           },
           {
            "bin_start": 9,
            "bin_end": 10,
            "count": 272
           }
          ]
         }
        },
        {
         "name": "Condition_Pregnancy",
         "dtype": "float64",
         "stats": {
          "unique_count": 2,
          "nan_count": 101,
          "min": "0.0",
          "max": "1.0",
          "histogram": [
           {
            "bin_start": 0,
            "bin_end": 0.1,
            "count": 3240
           },
           {
            "bin_start": 0.1,
            "bin_end": 0.2,
            "count": 0
           },
           {
            "bin_start": 0.2,
            "bin_end": 0.30000000000000004,
            "count": 0
           },
           {
            "bin_start": 0.30000000000000004,
            "bin_end": 0.4,
            "count": 0
           },
           {
            "bin_start": 0.4,
            "bin_end": 0.5,
            "count": 0
           },
           {
            "bin_start": 0.5,
            "bin_end": 0.6000000000000001,
            "count": 0
           },
           {
            "bin_start": 0.6000000000000001,
            "bin_end": 0.7000000000000001,
            "count": 0
           },
           {
            "bin_start": 0.7000000000000001,
            "bin_end": 0.8,
            "count": 0
           },
           {
            "bin_start": 0.8,
            "bin_end": 0.9,
            "count": 0
           },
           {
            "bin_start": 0.9,
            "bin_end": 1,
            "count": 12
           }
          ]
         }
        },
        {
         "name": "Condition_Asthma",
         "dtype": "float64",
         "stats": {
          "unique_count": 2,
          "nan_count": 101,
          "min": "0.0",
          "max": "1.0",
          "histogram": [
           {
            "bin_start": 0,
            "bin_end": 0.1,
            "count": 3032
           },
           {
            "bin_start": 0.1,
            "bin_end": 0.2,
            "count": 0
           },
           {
            "bin_start": 0.2,
            "bin_end": 0.30000000000000004,
            "count": 0
           },
           {
            "bin_start": 0.30000000000000004,
            "bin_end": 0.4,
            "count": 0
           },
           {
            "bin_start": 0.4,
            "bin_end": 0.5,
            "count": 0
           },
           {
            "bin_start": 0.5,
            "bin_end": 0.6000000000000001,
            "count": 0
           },
           {
            "bin_start": 0.6000000000000001,
            "bin_end": 0.7000000000000001,
            "count": 0
           },
           {
            "bin_start": 0.7000000000000001,
            "bin_end": 0.8,
            "count": 0
           },
           {
            "bin_start": 0.8,
            "bin_end": 0.9,
            "count": 0
           },
           {
            "bin_start": 0.9,
            "bin_end": 1,
            "count": 220
           }
          ]
         }
        },
        {
         "name": "Condition_Lung",
         "dtype": "float64",
         "stats": {
          "unique_count": 2,
          "nan_count": 101,
          "min": "0.0",
          "max": "1.0",
          "histogram": [
           {
            "bin_start": 0,
            "bin_end": 0.1,
            "count": 3187
           },
           {
            "bin_start": 0.1,
            "bin_end": 0.2,
            "count": 0
           },
           {
            "bin_start": 0.2,
            "bin_end": 0.30000000000000004,
            "count": 0
           },
           {
            "bin_start": 0.30000000000000004,
            "bin_end": 0.4,
            "count": 0
           },
           {
            "bin_start": 0.4,
            "bin_end": 0.5,
            "count": 0
           },
           {
            "bin_start": 0.5,
            "bin_end": 0.6000000000000001,
            "count": 0
           },
           {
            "bin_start": 0.6000000000000001,
            "bin_end": 0.7000000000000001,
            "count": 0
           },
           {
            "bin_start": 0.7000000000000001,
            "bin_end": 0.8,
            "count": 0
           },
           {
            "bin_start": 0.8,
            "bin_end": 0.9,
            "count": 0
           },
           {
            "bin_start": 0.9,
            "bin_end": 1,
            "count": 65
           }
          ]
         }
        },
        {
         "name": "Condition_Diabetes",
         "dtype": "float64",
         "stats": {
          "unique_count": 2,
          "nan_count": 101,
          "min": "0.0",
          "max": "1.0",
          "histogram": [
           {
            "bin_start": 0,
            "bin_end": 0.1,
            "count": 2846
           },
           {
            "bin_start": 0.1,
            "bin_end": 0.2,
            "count": 0
           },
           {
            "bin_start": 0.2,
            "bin_end": 0.30000000000000004,
            "count": 0
           },
           {
            "bin_start": 0.30000000000000004,
            "bin_end": 0.4,
            "count": 0
           },
           {
            "bin_start": 0.4,
            "bin_end": 0.5,
            "count": 0
           },
           {
            "bin_start": 0.5,
            "bin_end": 0.6000000000000001,
            "count": 0
           },
           {
            "bin_start": 0.6000000000000001,
            "bin_end": 0.7000000000000001,
            "count": 0
           },
           {
            "bin_start": 0.7000000000000001,
            "bin_end": 0.8,
            "count": 0
           },
           {
            "bin_start": 0.8,
            "bin_end": 0.9,
            "count": 0
           },
           {
            "bin_start": 0.9,
            "bin_end": 1,
            "count": 406
           }
          ]
         }
        },
        {
         "name": "Condition_Immune",
         "dtype": "float64",
         "stats": {
          "unique_count": 2,
          "nan_count": 101,
          "min": "0.0",
          "max": "1.0",
          "histogram": [
           {
            "bin_start": 0,
            "bin_end": 0.1,
            "count": 3076
           },
           {
            "bin_start": 0.1,
            "bin_end": 0.2,
            "count": 0
           },
           {
            "bin_start": 0.2,
            "bin_end": 0.30000000000000004,
            "count": 0
           },
           {
            "bin_start": 0.30000000000000004,
            "bin_end": 0.4,
            "count": 0
           },
           {
            "bin_start": 0.4,
            "bin_end": 0.5,
            "count": 0
           },
           {
            "bin_start": 0.5,
            "bin_end": 0.6000000000000001,
            "count": 0
           },
           {
            "bin_start": 0.6000000000000001,
            "bin_end": 0.7000000000000001,
            "count": 0
           },
           {
            "bin_start": 0.7000000000000001,
            "bin_end": 0.8,
            "count": 0
           },
           {
            "bin_start": 0.8,
            "bin_end": 0.9,
            "count": 0
           },
           {
            "bin_start": 0.9,
            "bin_end": 1,
            "count": 176
           }
          ]
         }
        },
        {
         "name": "Condition_Obesity",
         "dtype": "float64",
         "stats": {
          "unique_count": 2,
          "nan_count": 101,
          "min": "0.0",
          "max": "1.0",
          "histogram": [
           {
            "bin_start": 0,
            "bin_end": 0.1,
            "count": 2913
           },
           {
            "bin_start": 0.1,
            "bin_end": 0.2,
            "count": 0
           },
           {
            "bin_start": 0.2,
            "bin_end": 0.30000000000000004,
            "count": 0
           },
           {
            "bin_start": 0.30000000000000004,
            "bin_end": 0.4,
            "count": 0
           },
           {
            "bin_start": 0.4,
            "bin_end": 0.5,
            "count": 0
           },
           {
            "bin_start": 0.5,
            "bin_end": 0.6000000000000001,
            "count": 0
           },
           {
            "bin_start": 0.6000000000000001,
            "bin_end": 0.7000000000000001,
            "count": 0
           },
           {
            "bin_start": 0.7000000000000001,
            "bin_end": 0.8,
            "count": 0
           },
           {
            "bin_start": 0.8,
            "bin_end": 0.9,
            "count": 0
           },
           {
            "bin_start": 0.9,
            "bin_end": 1,
            "count": 339
           }
          ]
         }
        },
        {
         "name": "Condition_Heart",
         "dtype": "float64",
         "stats": {
          "unique_count": 2,
          "nan_count": 101,
          "min": "0.0",
          "max": "1.0",
          "histogram": [
           {
            "bin_start": 0,
            "bin_end": 0.1,
            "count": 2996
           },
           {
            "bin_start": 0.1,
            "bin_end": 0.2,
            "count": 0
           },
           {
            "bin_start": 0.2,
            "bin_end": 0.30000000000000004,
            "count": 0
           },
           {
            "bin_start": 0.30000000000000004,
            "bin_end": 0.4,
            "count": 0
           },
           {
            "bin_start": 0.4,
            "bin_end": 0.5,
            "count": 0
           },
           {
            "bin_start": 0.5,
            "bin_end": 0.6000000000000001,
            "count": 0
           },
           {
            "bin_start": 0.6000000000000001,
            "bin_end": 0.7000000000000001,
            "count": 0
           },
           {
            "bin_start": 0.7000000000000001,
            "bin_end": 0.8,
            "count": 0
           },
           {
            "bin_start": 0.8,
            "bin_end": 0.9,
            "count": 0
           },
           {
            "bin_start": 0.9,
            "bin_end": 1,
            "count": 256
           }
          ]
         }
        },
        {
         "name": "Condition_Organ",
         "dtype": "float64",
         "stats": {
          "unique_count": 2,
          "nan_count": 101,
          "min": "0.0",
          "max": "1.0",
          "histogram": [
           {
            "bin_start": 0,
            "bin_end": 0.1,
            "count": 3179
           },
           {
            "bin_start": 0.1,
            "bin_end": 0.2,
            "count": 0
           },
           {
            "bin_start": 0.2,
            "bin_end": 0.30000000000000004,
            "count": 0
           },
           {
            "bin_start": 0.30000000000000004,
            "bin_end": 0.4,
            "count": 0
           },
           {
            "bin_start": 0.4,
            "bin_end": 0.5,
            "count": 0
           },
           {
            "bin_start": 0.5,
            "bin_end": 0.6000000000000001,
            "count": 0
           },
           {
            "bin_start": 0.6000000000000001,
            "bin_end": 0.7000000000000001,
            "count": 0
           },
           {
            "bin_start": 0.7000000000000001,
            "bin_end": 0.8,
            "count": 0
           },
           {
            "bin_start": 0.8,
            "bin_end": 0.9,
            "count": 0
           },
           {
            "bin_start": 0.9,
            "bin_end": 1,
            "count": 73
           }
          ]
         }
        },
        {
         "name": "County_Cases",
         "dtype": "float64",
         "stats": {
          "unique_count": 2123,
          "nan_count": 17,
          "min": "0.002591871",
          "max": "0.184383169",
          "histogram": [
           {
            "bin_start": 0.002591871,
            "bin_end": 0.0207710008,
            "count": 11
           },
           {
            "bin_start": 0.0207710008,
            "bin_end": 0.03895013060000001,
            "count": 83
           },
           {
            "bin_start": 0.03895013060000001,
            "bin_end": 0.05712926040000001,
            "count": 236
           },
           {
            "bin_start": 0.05712926040000001,
            "bin_end": 0.0753083902,
            "count": 637
           },
           {
            "bin_start": 0.0753083902,
            "bin_end": 0.09348752,
            "count": 1195
           },
           {
            "bin_start": 0.09348752,
            "bin_end": 0.11166664980000002,
            "count": 660
           },
           {
            "bin_start": 0.11166664980000002,
            "bin_end": 0.12984577960000002,
            "count": 428
           },
           {
            "bin_start": 0.12984577960000002,
            "bin_end": 0.14802490940000002,
            "count": 39
           },
           {
            "bin_start": 0.14802490940000002,
            "bin_end": 0.16620403920000001,
            "count": 43
           },
           {
            "bin_start": 0.16620403920000001,
            "bin_end": 0.184383169,
            "count": 4
           }
          ]
         }
        },
        {
         "name": "County_Cases2wk",
         "dtype": "float64",
         "stats": {
          "unique_count": 2117,
          "nan_count": 17,
          "min": "0.0",
          "max": "0.015414549",
          "histogram": [
           {
            "bin_start": 0,
            "bin_end": 0.0015414549,
            "count": 612
           },
           {
            "bin_start": 0.0015414549,
            "bin_end": 0.0030829098,
            "count": 1811
           },
           {
            "bin_start": 0.0030829098,
            "bin_end": 0.0046243646999999995,
            "count": 547
           },
           {
            "bin_start": 0.0046243646999999995,
            "bin_end": 0.0061658196,
            "count": 313
           },
           {
            "bin_start": 0.0061658196,
            "bin_end": 0.0077072745,
            "count": 48
           },
           {
            "bin_start": 0.0077072745,
            "bin_end": 0.009248729399999999,
            "count": 1
           },
           {
            "bin_start": 0.009248729399999999,
            "bin_end": 0.0107901843,
            "count": 1
           },
           {
            "bin_start": 0.0107901843,
            "bin_end": 0.0123316392,
            "count": 0
           },
           {
            "bin_start": 0.0123316392,
            "bin_end": 0.013873094099999999,
            "count": 1
           },
           {
            "bin_start": 0.013873094099999999,
            "bin_end": 0.015414549,
            "count": 2
           }
          ]
         }
        },
        {
         "name": "Male",
         "dtype": "int64",
         "stats": {
          "unique_count": 2,
          "nan_count": 0,
          "min": "0",
          "max": "1",
          "histogram": [
           {
            "bin_start": 0,
            "bin_end": 0.1,
            "count": 1521
           },
           {
            "bin_start": 0.1,
            "bin_end": 0.2,
            "count": 0
           },
           {
            "bin_start": 0.2,
            "bin_end": 0.30000000000000004,
            "count": 0
           },
           {
            "bin_start": 0.30000000000000004,
            "bin_end": 0.4,
            "count": 0
           },
           {
            "bin_start": 0.4,
            "bin_end": 0.5,
            "count": 0
           },
           {
            "bin_start": 0.5,
            "bin_end": 0.6000000000000001,
            "count": 0
           },
           {
            "bin_start": 0.6000000000000001,
            "bin_end": 0.7000000000000001,
            "count": 0
           },
           {
            "bin_start": 0.7000000000000001,
            "bin_end": 0.8,
            "count": 0
           },
           {
            "bin_start": 0.8,
            "bin_end": 0.9,
            "count": 0
           },
           {
            "bin_start": 0.9,
            "bin_end": 1,
            "count": 1832
           }
          ]
         }
        },
        {
         "name": "Race",
         "dtype": "int64",
         "stats": {
          "unique_count": 4,
          "nan_count": 0,
          "min": "1",
          "max": "4",
          "histogram": [
           {
            "bin_start": 1,
            "bin_end": 1.3,
            "count": 2442
           },
           {
            "bin_start": 1.3,
            "bin_end": 1.6,
            "count": 0
           },
           {
            "bin_start": 1.6,
            "bin_end": 1.9,
            "count": 0
           },
           {
            "bin_start": 1.9,
            "bin_end": 2.2,
            "count": 173
           },
           {
            "bin_start": 2.2,
            "bin_end": 2.5,
            "count": 0
           },
           {
            "bin_start": 2.5,
            "bin_end": 2.8,
            "count": 0
           },
           {
            "bin_start": 2.8,
            "bin_end": 3.1,
            "count": 396
           },
           {
            "bin_start": 3.1,
            "bin_end": 3.4,
            "count": 0
           },
           {
            "bin_start": 3.4,
            "bin_end": 3.6999999999999997,
            "count": 0
           },
           {
            "bin_start": 3.6999999999999997,
            "bin_end": 4,
            "count": 342
           }
          ]
         }
        },
        {
         "name": "Age",
         "dtype": "float64",
         "stats": {
          "unique_count": 75,
          "nan_count": 2,
          "min": "18.0",
          "max": "92.0",
          "histogram": [
           {
            "bin_start": 18,
            "bin_end": 25.4,
            "count": 60
           },
           {
            "bin_start": 25.4,
            "bin_end": 32.8,
            "count": 119
           },
           {
            "bin_start": 32.8,
            "bin_end": 40.2,
            "count": 286
           },
           {
            "bin_start": 40.2,
            "bin_end": 47.6,
            "count": 278
           },
           {
            "bin_start": 47.6,
            "bin_end": 55,
            "count": 423
           },
           {
            "bin_start": 55,
            "bin_end": 62.400000000000006,
            "count": 640
           },
           {
            "bin_start": 62.400000000000006,
            "bin_end": 69.80000000000001,
            "count": 775
           },
           {
            "bin_start": 69.80000000000001,
            "bin_end": 77.2,
            "count": 635
           },
           {
            "bin_start": 77.2,
            "bin_end": 84.60000000000001,
            "count": 115
           },
           {
            "bin_start": 84.60000000000001,
            "bin_end": 92,
            "count": 20
           }
          ]
         }
        },
        {
         "name": "PS_Index",
         "dtype": "float64",
         "stats": {
          "unique_count": 7,
          "nan_count": 0,
          "min": "0.0",
          "max": "1.0",
          "histogram": [
           {
            "bin_start": 0,
            "bin_end": 0.1,
            "count": 30
           },
           {
            "bin_start": 0.1,
            "bin_end": 0.2,
            "count": 301
           },
           {
            "bin_start": 0.2,
            "bin_end": 0.30000000000000004,
            "count": 0
           },
           {
            "bin_start": 0.30000000000000004,
            "bin_end": 0.4,
            "count": 1519
           },
           {
            "bin_start": 0.4,
            "bin_end": 0.5,
            "count": 0
           },
           {
            "bin_start": 0.5,
            "bin_end": 0.6000000000000001,
            "count": 956
           },
           {
            "bin_start": 0.6000000000000001,
            "bin_end": 0.7000000000000001,
            "count": 411
           },
           {
            "bin_start": 0.7000000000000001,
            "bin_end": 0.8,
            "count": 0
           },
           {
            "bin_start": 0.8,
            "bin_end": 0.9,
            "count": 122
           },
           {
            "bin_start": 0.9,
            "bin_end": 1,
            "count": 14
           }
          ]
         }
        },
        {
         "name": "Natural_Science_Literacy",
         "dtype": "float64"
        },
        {
         "name": "College_Degree",
         "dtype": "float64"
        },
        {
         "name": "Pandemic_Impact",
         "dtype": "float64"
        },
        {
         "name": "Pandemic_Impact_Network",
         "dtype": "float64"
        },
        {
         "name": "Infected_Personal",
         "dtype": "float64"
        },
        {
         "name": "Infected_Network",
         "dtype": "float64"
        },
        {
         "name": "Biden",
         "dtype": "object"
        },
        {
         "name": "Trump",
         "dtype": "object"
        },
        {
         "name": "Party_ID",
         "dtype": "object"
        },
        {
         "name": "Household_Income",
         "dtype": "float64"
        },
        {
         "name": "Vaccine_Required",
         "dtype": "int64"
        },
        {
         "name": "Evangelical",
         "dtype": "float64"
        },
        {
         "name": "Vaccine_Hesitant",
         "dtype": "int64"
        },
        {
         "name": "_deepnote_index_column",
         "dtype": "int64"
        }
       ],
       "rows": [
        {
         "County_Density": 137.8517954,
         "Vaccine_Trust_Index": 0,
         "Personal_Responsibility": 10,
         "Trust_Science_Apolitical": 5,
         "Trust_Science_Politicians": 5,
         "Trust_Science_Media": 5,
         "Trust_Science_Community": 5,
         "Trust_National": 5,
         "Trust_State": 5,
         "Trust_Local": 5,
         "Trust_Media": 5,
         "Perceived_Risk": 0,
         "Perceived_Network_Risk": 0,
         "Doctor_Comfort": 8,
         "Fear_Needles": 0,
         "Condition_Pregnancy": 0,
         "Condition_Asthma": 0,
         "Condition_Lung": 0,
         "Condition_Diabetes": 0,
         "Condition_Immune": 0,
         "Condition_Obesity": 0,
         "Condition_Heart": 0,
         "Condition_Organ": 0,
         "County_Cases": 0.078748852,
         "County_Cases2wk": 0.002252394,
         "Male": 1,
         "Race": 1,
         "Age": 67,
         "PS_Index": 0.5,
         "Natural_Science_Literacy": 0.666666687,
         "College_Degree": 0,
         "Pandemic_Impact": 0,
         "Pandemic_Impact_Network": 0,
         "Infected_Personal": 0,
         "Infected_Network": 0,
         "Biden": "No",
         "Trump": "Yes",
         "Party_ID": "Republican",
         "Household_Income": 1,
         "Vaccine_Required": 0,
         "Evangelical": 1,
         "Vaccine_Hesitant": 1,
         "_deepnote_index_column": 0
        },
        {
         "County_Density": 38.75140638,
         "Vaccine_Trust_Index": 9,
         "Personal_Responsibility": 5,
         "Trust_Science_Apolitical": 8,
         "Trust_Science_Politicians": 4,
         "Trust_Science_Media": 6,
         "Trust_Science_Community": 9,
         "Trust_National": 8,
         "Trust_State": 2,
         "Trust_Local": 7,
         "Trust_Media": 7,
         "Perceived_Risk": 10,
         "Perceived_Network_Risk": 9,
         "Doctor_Comfort": 8,
         "Fear_Needles": 6,
         "Condition_Pregnancy": 0,
         "Condition_Asthma": 0,
         "Condition_Lung": 0,
         "Condition_Diabetes": 0,
         "Condition_Immune": 0,
         "Condition_Obesity": 1,
         "Condition_Heart": 1,
         "Condition_Organ": 0,
         "County_Cases": 0.071311742,
         "County_Cases2wk": 0.002438762,
         "Male": 1,
         "Race": 1,
         "Age": 70,
         "PS_Index": 0.5,
         "Natural_Science_Literacy": 0.833333313,
         "College_Degree": 1,
         "Pandemic_Impact": 4.5,
         "Pandemic_Impact_Network": 5,
         "Infected_Personal": 0,
         "Infected_Network": 0,
         "Biden": "Yes",
         "Trump": "No",
         "Party_ID": "Democrat",
         "Household_Income": 3,
         "Vaccine_Required": 0,
         "Evangelical": 0,
         "Vaccine_Hesitant": 0,
         "_deepnote_index_column": 1
        },
        {
         "County_Density": 18.10375235,
         "Vaccine_Trust_Index": 8.666666985,
         "Personal_Responsibility": 7,
         "Trust_Science_Apolitical": 6,
         "Trust_Science_Politicians": 1,
         "Trust_Science_Media": 1,
         "Trust_Science_Community": 6,
         "Trust_National": 7,
         "Trust_State": 7,
         "Trust_Local": 9,
         "Trust_Media": 1,
         "Perceived_Risk": 9,
         "Perceived_Network_Risk": 8,
         "Doctor_Comfort": 10,
         "Fear_Needles": 3,
         "Condition_Pregnancy": 0,
         "Condition_Asthma": 0,
         "Condition_Lung": 1,
         "Condition_Diabetes": 0,
         "Condition_Immune": 0,
         "Condition_Obesity": 0,
         "Condition_Heart": 1,
         "Condition_Organ": 0,
         "County_Cases": 0.119295433,
         "County_Cases2wk": 0.002287544,
         "Male": 0,
         "Race": 1,
         "Age": 69,
         "PS_Index": 0.333333343,
         "Natural_Science_Literacy": 1,
         "College_Degree": 0,
         "Pandemic_Impact": 5.5,
         "Pandemic_Impact_Network": 6,
         "Infected_Personal": 0,
         "Infected_Network": 1,
         "Biden": "No",
         "Trump": "Yes",
         "Party_ID": "Republican",
         "Household_Income": 6,
         "Vaccine_Required": 0,
         "Evangelical": 0,
         "Vaccine_Hesitant": 0,
         "_deepnote_index_column": 2
        },
        {
         "County_Density": 26.91291732,
         "Vaccine_Trust_Index": 4,
         "Personal_Responsibility": 7,
         "Trust_Science_Apolitical": 6,
         "Trust_Science_Politicians": 6,
         "Trust_Science_Media": 4,
         "Trust_Science_Community": 6,
         "Trust_National": 6,
         "Trust_State": 6,
         "Trust_Local": 6,
         "Trust_Media": 5,
         "Perceived_Risk": 6,
         "Perceived_Network_Risk": 3,
         "Doctor_Comfort": 7,
         "Fear_Needles": 2,
         "Condition_Pregnancy": 0,
         "Condition_Asthma": 0,
         "Condition_Lung": 1,
         "Condition_Diabetes": 0,
         "Condition_Immune": 0,
         "Condition_Obesity": 0,
         "Condition_Heart": 0,
         "Condition_Organ": 0,
         "County_Cases": 0.056908809,
         "County_Cases2wk": 0.001454703,
         "Male": 0,
         "Race": 1,
         "Age": 64,
         "PS_Index": 0.5,
         "Natural_Science_Literacy": 0.833333313,
         "College_Degree": 0,
         "Pandemic_Impact": 6,
         "Pandemic_Impact_Network": 7,
         "Infected_Personal": 0,
         "Infected_Network": 0,
         "Biden": "Yes",
         "Trump": "No",
         "Party_ID": "Democrat",
         "Household_Income": 4,
         "Vaccine_Required": 0,
         "Evangelical": 1,
         "Vaccine_Hesitant": 1,
         "_deepnote_index_column": 3
        },
        {
         "County_Density": 1541.02667,
         "Vaccine_Trust_Index": 7,
         "Personal_Responsibility": 6,
         "Trust_Science_Apolitical": 6,
         "Trust_Science_Politicians": 1,
         "Trust_Science_Media": 2,
         "Trust_Science_Community": 6,
         "Trust_National": 6,
         "Trust_State": 2,
         "Trust_Local": 7,
         "Trust_Media": 4,
         "Perceived_Risk": 8,
         "Perceived_Network_Risk": 8,
         "Doctor_Comfort": 8,
         "Fear_Needles": 0,
         "Condition_Pregnancy": 0,
         "Condition_Asthma": 0,
         "Condition_Lung": 0,
         "Condition_Diabetes": 0,
         "Condition_Immune": 0,
         "Condition_Obesity": 0,
         "Condition_Heart": 0,
         "Condition_Organ": 0,
         "County_Cases": 0.082677923,
         "County_Cases2wk": 0.001198414,
         "Male": 1,
         "Race": 1,
         "Age": 56,
         "PS_Index": 0.333333343,
         "Natural_Science_Literacy": 0.833333313,
         "College_Degree": 1,
         "Pandemic_Impact": 2.5,
         "Pandemic_Impact_Network": 2.5,
         "Infected_Personal": 0,
         "Infected_Network": 1,
         "Biden": "Yes",
         "Trump": "Yes",
         "Party_ID": "Republican",
         "Household_Income": 3,
         "Vaccine_Required": 0,
         "Evangelical": 1,
         "Vaccine_Hesitant": 0,
         "_deepnote_index_column": 4
        },
        {
         "County_Density": 284.088504,
         "Vaccine_Trust_Index": 9.666666985,
         "Personal_Responsibility": 7,
         "Trust_Science_Apolitical": 6,
         "Trust_Science_Politicians": 0,
         "Trust_Science_Media": 6,
         "Trust_Science_Community": 8,
         "Trust_National": 3,
         "Trust_State": 4,
         "Trust_Local": 5,
         "Trust_Media": 7,
         "Perceived_Risk": 7,
         "Perceived_Network_Risk": 7,
         "Doctor_Comfort": 10,
         "Fear_Needles": 0,
         "Condition_Pregnancy": 0,
         "Condition_Asthma": 0,
         "Condition_Lung": 0,
         "Condition_Diabetes": 0,
         "Condition_Immune": 0,
         "Condition_Obesity": 0,
         "Condition_Heart": 0,
         "Condition_Organ": 0,
         "County_Cases": 0.083817966,
         "County_Cases2wk": 0.00375585,
         "Male": 1,
         "Race": 1,
         "Age": 68,
         "PS_Index": 0.333333343,
         "Natural_Science_Literacy": 0.833333313,
         "College_Degree": 0,
         "Pandemic_Impact": 5,
         "Pandemic_Impact_Network": 5,
         "Infected_Personal": 0,
         "Infected_Network": 0,
         "Biden": "Yes",
         "Trump": "No",
         "Party_ID": "Democrat",
         "Household_Income": 12,
         "Vaccine_Required": 0,
         "Evangelical": 0,
         "Vaccine_Hesitant": 0,
         "_deepnote_index_column": 5
        },
        {
         "County_Density": 1351.009895,
         "Vaccine_Trust_Index": 5.333333492,
         "Personal_Responsibility": 10,
         "Trust_Science_Apolitical": 5,
         "Trust_Science_Politicians": 5,
         "Trust_Science_Media": 0,
         "Trust_Science_Community": 6,
         "Trust_National": 5,
         "Trust_State": 7,
         "Trust_Local": 8,
         "Trust_Media": 0,
         "Perceived_Risk": 5,
         "Perceived_Network_Risk": 8,
         "Doctor_Comfort": 10,
         "Fear_Needles": 5,
         "Condition_Pregnancy": 0,
         "Condition_Asthma": 0,
         "Condition_Lung": 0,
         "Condition_Diabetes": 0,
         "Condition_Immune": 0,
         "Condition_Obesity": 0,
         "Condition_Heart": 0,
         "Condition_Organ": 0,
         "County_Cases": 0.07317134,
         "County_Cases2wk": 0.00234373,
         "Male": 0,
         "Race": 1,
         "Age": 62,
         "PS_Index": 0.5,
         "Natural_Science_Literacy": 0.5,
         "College_Degree": 0,
         "Pandemic_Impact": 4.5,
         "Pandemic_Impact_Network": 5,
         "Infected_Personal": 0,
         "Infected_Network": 0,
         "Biden": "Yes",
         "Trump": "No",
         "Party_ID": "Independent",
         "Household_Income": 4,
         "Vaccine_Required": 0,
         "Evangelical": 0,
         "Vaccine_Hesitant": 1,
         "_deepnote_index_column": 6
        },
        {
         "County_Density": 363.7218004,
         "Vaccine_Trust_Index": 6,
         "Personal_Responsibility": 5,
         "Trust_Science_Apolitical": 5,
         "Trust_Science_Politicians": 2,
         "Trust_Science_Media": 3,
         "Trust_Science_Community": 5,
         "Trust_National": 5,
         "Trust_State": 5,
         "Trust_Local": 5,
         "Trust_Media": 5,
         "Perceived_Risk": 9,
         "Perceived_Network_Risk": 8,
         "Doctor_Comfort": 7,
         "Fear_Needles": 1,
         "Condition_Pregnancy": 0,
         "Condition_Asthma": 0,
         "Condition_Lung": 0,
         "Condition_Diabetes": 0,
         "Condition_Immune": 0,
         "Condition_Obesity": 0,
         "Condition_Heart": 0,
         "Condition_Organ": 0,
         "County_Cases": 0.099920772,
         "County_Cases2wk": 0.005953316,
         "Male": 0,
         "Race": 1,
         "Age": "nan",
         "PS_Index": 0.166666672,
         "Natural_Science_Literacy": 0.666666687,
         "College_Degree": 1,
         "Pandemic_Impact": 2.5,
         "Pandemic_Impact_Network": 2.5,
         "Infected_Personal": 0,
         "Infected_Network": 1,
         "Biden": "No",
         "Trump": "Yes",
         "Party_ID": "Independent",
         "Household_Income": 12,
         "Vaccine_Required": 0,
         "Evangelical": 0,
         "Vaccine_Hesitant": 0,
         "_deepnote_index_column": 7
        },
        {
         "County_Density": 861.2850078,
         "Vaccine_Trust_Index": 9.666666985,
         "Personal_Responsibility": 9,
         "Trust_Science_Apolitical": 10,
         "Trust_Science_Politicians": 9,
         "Trust_Science_Media": 10,
         "Trust_Science_Community": 10,
         "Trust_National": 8,
         "Trust_State": 8,
         "Trust_Local": 8,
         "Trust_Media": 8,
         "Perceived_Risk": 10,
         "Perceived_Network_Risk": 10,
         "Doctor_Comfort": 10,
         "Fear_Needles": 0,
         "Condition_Pregnancy": 0,
         "Condition_Asthma": 0,
         "Condition_Lung": 0,
         "Condition_Diabetes": 0,
         "Condition_Immune": 0,
         "Condition_Obesity": 0,
         "Condition_Heart": 0,
         "Condition_Organ": 0,
         "County_Cases": 0.081679314,
         "County_Cases2wk": 0.001687606,
         "Male": 0,
         "Race": 1,
         "Age": 73,
         "PS_Index": 0.5,
         "Natural_Science_Literacy": 1,
         "College_Degree": 1,
         "Pandemic_Impact": 5,
         "Pandemic_Impact_Network": 4,
         "Infected_Personal": 0,
         "Infected_Network": 0,
         "Biden": "Yes",
         "Trump": "No",
         "Party_ID": "Democrat",
         "Household_Income": 2,
         "Vaccine_Required": 0,
         "Evangelical": 0,
         "Vaccine_Hesitant": 0,
         "_deepnote_index_column": 8
        },
        {
         "County_Density": 1042.130651,
         "Vaccine_Trust_Index": 10,
         "Personal_Responsibility": 10,
         "Trust_Science_Apolitical": 5,
         "Trust_Science_Politicians": 0,
         "Trust_Science_Media": 0,
         "Trust_Science_Community": 5,
         "Trust_National": 1,
         "Trust_State": 9,
         "Trust_Local": 3,
         "Trust_Media": 0,
         "Perceived_Risk": 6,
         "Perceived_Network_Risk": 8,
         "Doctor_Comfort": 10,
         "Fear_Needles": 0,
         "Condition_Pregnancy": 0,
         "Condition_Asthma": 0,
         "Condition_Lung": 0,
         "Condition_Diabetes": 0,
         "Condition_Immune": 0,
         "Condition_Obesity": 0,
         "Condition_Heart": 0,
         "Condition_Organ": 0,
         "County_Cases": 0.077145733,
         "County_Cases2wk": 0.003394008,
         "Male": 1,
         "Race": 1,
         "Age": 64,
         "PS_Index": 0.333333343,
         "Natural_Science_Literacy": 1,
         "College_Degree": 1,
         "Pandemic_Impact": 4.5,
         "Pandemic_Impact_Network": 1.5,
         "Infected_Personal": 0,
         "Infected_Network": 0,
         "Biden": "No",
         "Trump": "Yes",
         "Party_ID": "Republican",
         "Household_Income": 7,
         "Vaccine_Required": 0,
         "Evangelical": 0,
         "Vaccine_Hesitant": 0,
         "_deepnote_index_column": 9
        }
       ]
      },
      "text/plain": "      County_Density  Vaccine_Trust_Index  Personal_Responsibility  \\\n0         137.851795             0.000000                     10.0   \n1          38.751406             9.000000                      5.0   \n2          18.103752             8.666667                      7.0   \n3          26.912917             4.000000                      7.0   \n4        1541.026670             7.000000                      6.0   \n...              ...                  ...                      ...   \n3348      470.033815             1.666667                      8.0   \n3349      225.323560             9.333333                      2.0   \n3350      108.474026             9.000000                      8.0   \n3351       63.385677             9.333333                      5.0   \n3352      599.558111             9.000000                     10.0   \n\n      Trust_Science_Apolitical  Trust_Science_Politicians  \\\n0                          5.0                        5.0   \n1                          8.0                        4.0   \n2                          6.0                        1.0   \n3                          6.0                        6.0   \n4                          6.0                        1.0   \n...                        ...                        ...   \n3348                       0.0                        0.0   \n3349                       9.0                        1.0   \n3350                       6.0                        3.0   \n3351                       5.0                        4.0   \n3352                       1.0                        0.0   \n\n      Trust_Science_Media  Trust_Science_Community  Trust_National  \\\n0                     5.0                      5.0             5.0   \n1                     6.0                      9.0             8.0   \n2                     1.0                      6.0             7.0   \n3                     4.0                      6.0             6.0   \n4                     2.0                      6.0             6.0   \n...                   ...                      ...             ...   \n3348                  0.0                      0.0             2.0   \n3349                  8.0                      9.0             6.0   \n3350                  3.0                      5.0             6.0   \n3351                  6.0                      9.0             8.0   \n3352                  0.0                     10.0             9.0   \n\n      Trust_State  Trust_Local  ...  Pandemic_Impact_Network  \\\n0             5.0          5.0  ...                      0.0   \n1             2.0          7.0  ...                      5.0   \n2             7.0          9.0  ...                      6.0   \n3             6.0          6.0  ...                      7.0   \n4             2.0          7.0  ...                      2.5   \n...           ...          ...  ...                      ...   \n3348          2.0          4.0  ...                      7.5   \n3349          7.0          7.0  ...                      3.5   \n3350          7.0          6.0  ...                      6.0   \n3351          8.0          7.0  ...                      3.5   \n3352          9.0         10.0  ...                      9.0   \n\n      Infected_Personal  Infected_Network  Biden  Trump     Party_ID  \\\n0                   0.0               0.0     No    Yes   Republican   \n1                   0.0               0.0    Yes     No     Democrat   \n2                   0.0               1.0     No    Yes   Republican   \n3                   0.0               0.0    Yes     No     Democrat   \n4                   0.0               1.0    Yes    Yes   Republican   \n...                 ...               ...    ...    ...          ...   \n3348                0.0               0.0     No    Yes  Independent   \n3349                0.0               1.0    Yes     No   Republican   \n3350                0.0               0.0     No    Yes   Republican   \n3351                0.0               1.0    Yes     No     Democrat   \n3352                1.0               1.0     No    Yes   Republican   \n\n      Household_Income  Vaccine_Required  Evangelical  Vaccine_Hesitant  \n0                  1.0                 0          1.0                 1  \n1                  3.0                 0          0.0                 0  \n2                  6.0                 0          0.0                 0  \n3                  4.0                 0          1.0                 1  \n4                  3.0                 0          1.0                 0  \n...                ...               ...          ...               ...  \n3348               8.0                 0          1.0                 1  \n3349               2.0                 0          0.0                 0  \n3350               2.0                 1          0.0                 0  \n3351              12.0                 1          0.0                 0  \n3352               5.0                 0          1.0                 1  \n\n[3353 rows x 42 columns]",
      "text/html": "<div>\n<style scoped>\n    .dataframe tbody tr th:only-of-type {\n        vertical-align: middle;\n    }\n\n    .dataframe tbody tr th {\n        vertical-align: top;\n    }\n\n    .dataframe thead th {\n        text-align: right;\n    }\n</style>\n<table border=\"1\" class=\"dataframe\">\n  <thead>\n    <tr style=\"text-align: right;\">\n      <th></th>\n      <th>County_Density</th>\n      <th>Vaccine_Trust_Index</th>\n      <th>Personal_Responsibility</th>\n      <th>Trust_Science_Apolitical</th>\n      <th>Trust_Science_Politicians</th>\n      <th>Trust_Science_Media</th>\n      <th>Trust_Science_Community</th>\n      <th>Trust_National</th>\n      <th>Trust_State</th>\n      <th>Trust_Local</th>\n      <th>...</th>\n      <th>Pandemic_Impact_Network</th>\n      <th>Infected_Personal</th>\n      <th>Infected_Network</th>\n      <th>Biden</th>\n      <th>Trump</th>\n      <th>Party_ID</th>\n      <th>Household_Income</th>\n      <th>Vaccine_Required</th>\n      <th>Evangelical</th>\n      <th>Vaccine_Hesitant</th>\n    </tr>\n  </thead>\n  <tbody>\n    <tr>\n      <th>0</th>\n      <td>137.851795</td>\n      <td>0.000000</td>\n      <td>10.0</td>\n      <td>5.0</td>\n      <td>5.0</td>\n      <td>5.0</td>\n      <td>5.0</td>\n      <td>5.0</td>\n      <td>5.0</td>\n      <td>5.0</td>\n      <td>...</td>\n      <td>0.0</td>\n      <td>0.0</td>\n      <td>0.0</td>\n      <td>No</td>\n      <td>Yes</td>\n      <td>Republican</td>\n      <td>1.0</td>\n      <td>0</td>\n      <td>1.0</td>\n      <td>1</td>\n    </tr>\n    <tr>\n      <th>1</th>\n      <td>38.751406</td>\n      <td>9.000000</td>\n      <td>5.0</td>\n      <td>8.0</td>\n      <td>4.0</td>\n      <td>6.0</td>\n      <td>9.0</td>\n      <td>8.0</td>\n      <td>2.0</td>\n      <td>7.0</td>\n      <td>...</td>\n      <td>5.0</td>\n      <td>0.0</td>\n      <td>0.0</td>\n      <td>Yes</td>\n      <td>No</td>\n      <td>Democrat</td>\n      <td>3.0</td>\n      <td>0</td>\n      <td>0.0</td>\n      <td>0</td>\n    </tr>\n    <tr>\n      <th>2</th>\n      <td>18.103752</td>\n      <td>8.666667</td>\n      <td>7.0</td>\n      <td>6.0</td>\n      <td>1.0</td>\n      <td>1.0</td>\n      <td>6.0</td>\n      <td>7.0</td>\n      <td>7.0</td>\n      <td>9.0</td>\n      <td>...</td>\n      <td>6.0</td>\n      <td>0.0</td>\n      <td>1.0</td>\n      <td>No</td>\n      <td>Yes</td>\n      <td>Republican</td>\n      <td>6.0</td>\n      <td>0</td>\n      <td>0.0</td>\n      <td>0</td>\n    </tr>\n    <tr>\n      <th>3</th>\n      <td>26.912917</td>\n      <td>4.000000</td>\n      <td>7.0</td>\n      <td>6.0</td>\n      <td>6.0</td>\n      <td>4.0</td>\n      <td>6.0</td>\n      <td>6.0</td>\n      <td>6.0</td>\n      <td>6.0</td>\n      <td>...</td>\n      <td>7.0</td>\n      <td>0.0</td>\n      <td>0.0</td>\n      <td>Yes</td>\n      <td>No</td>\n      <td>Democrat</td>\n      <td>4.0</td>\n      <td>0</td>\n      <td>1.0</td>\n      <td>1</td>\n    </tr>\n    <tr>\n      <th>4</th>\n      <td>1541.026670</td>\n      <td>7.000000</td>\n      <td>6.0</td>\n      <td>6.0</td>\n      <td>1.0</td>\n      <td>2.0</td>\n      <td>6.0</td>\n      <td>6.0</td>\n      <td>2.0</td>\n      <td>7.0</td>\n      <td>...</td>\n      <td>2.5</td>\n      <td>0.0</td>\n      <td>1.0</td>\n      <td>Yes</td>\n      <td>Yes</td>\n      <td>Republican</td>\n      <td>3.0</td>\n      <td>0</td>\n      <td>1.0</td>\n      <td>0</td>\n    </tr>\n    <tr>\n      <th>...</th>\n      <td>...</td>\n      <td>...</td>\n      <td>...</td>\n      <td>...</td>\n      <td>...</td>\n      <td>...</td>\n      <td>...</td>\n      <td>...</td>\n      <td>...</td>\n      <td>...</td>\n      <td>...</td>\n      <td>...</td>\n      <td>...</td>\n      <td>...</td>\n      <td>...</td>\n      <td>...</td>\n      <td>...</td>\n      <td>...</td>\n      <td>...</td>\n      <td>...</td>\n      <td>...</td>\n    </tr>\n    <tr>\n      <th>3348</th>\n      <td>470.033815</td>\n      <td>1.666667</td>\n      <td>8.0</td>\n      <td>0.0</td>\n      <td>0.0</td>\n      <td>0.0</td>\n      <td>0.0</td>\n      <td>2.0</td>\n      <td>2.0</td>\n      <td>4.0</td>\n      <td>...</td>\n      <td>7.5</td>\n      <td>0.0</td>\n      <td>0.0</td>\n      <td>No</td>\n      <td>Yes</td>\n      <td>Independent</td>\n      <td>8.0</td>\n      <td>0</td>\n      <td>1.0</td>\n      <td>1</td>\n    </tr>\n    <tr>\n      <th>3349</th>\n      <td>225.323560</td>\n      <td>9.333333</td>\n      <td>2.0</td>\n      <td>9.0</td>\n      <td>1.0</td>\n      <td>8.0</td>\n      <td>9.0</td>\n      <td>6.0</td>\n      <td>7.0</td>\n      <td>7.0</td>\n      <td>...</td>\n      <td>3.5</td>\n      <td>0.0</td>\n      <td>1.0</td>\n      <td>Yes</td>\n      <td>No</td>\n      <td>Republican</td>\n      <td>2.0</td>\n      <td>0</td>\n      <td>0.0</td>\n      <td>0</td>\n    </tr>\n    <tr>\n      <th>3350</th>\n      <td>108.474026</td>\n      <td>9.000000</td>\n      <td>8.0</td>\n      <td>6.0</td>\n      <td>3.0</td>\n      <td>3.0</td>\n      <td>5.0</td>\n      <td>6.0</td>\n      <td>7.0</td>\n      <td>6.0</td>\n      <td>...</td>\n      <td>6.0</td>\n      <td>0.0</td>\n      <td>0.0</td>\n      <td>No</td>\n      <td>Yes</td>\n      <td>Republican</td>\n      <td>2.0</td>\n      <td>1</td>\n      <td>0.0</td>\n      <td>0</td>\n    </tr>\n    <tr>\n      <th>3351</th>\n      <td>63.385677</td>\n      <td>9.333333</td>\n      <td>5.0</td>\n      <td>5.0</td>\n      <td>4.0</td>\n      <td>6.0</td>\n      <td>9.0</td>\n      <td>8.0</td>\n      <td>8.0</td>\n      <td>7.0</td>\n      <td>...</td>\n      <td>3.5</td>\n      <td>0.0</td>\n      <td>1.0</td>\n      <td>Yes</td>\n      <td>No</td>\n      <td>Democrat</td>\n      <td>12.0</td>\n      <td>1</td>\n      <td>0.0</td>\n      <td>0</td>\n    </tr>\n    <tr>\n      <th>3352</th>\n      <td>599.558111</td>\n      <td>9.000000</td>\n      <td>10.0</td>\n      <td>1.0</td>\n      <td>0.0</td>\n      <td>0.0</td>\n      <td>10.0</td>\n      <td>9.0</td>\n      <td>9.0</td>\n      <td>10.0</td>\n      <td>...</td>\n      <td>9.0</td>\n      <td>1.0</td>\n      <td>1.0</td>\n      <td>No</td>\n      <td>Yes</td>\n      <td>Republican</td>\n      <td>5.0</td>\n      <td>0</td>\n      <td>1.0</td>\n      <td>1</td>\n    </tr>\n  </tbody>\n</table>\n<p>3353 rows × 42 columns</p>\n</div>"
     },
     "metadata": {}
    }
   ]
  },
  {
   "cell_type": "markdown",
   "source": "Data PreProcessing by filling in the front of values (pad method) to fill NaN value",
   "metadata": {
    "cell_id": "8bc7991369ca426d900d9e994a96d536",
    "tags": [],
    "deepnote_cell_type": "markdown",
    "deepnote_cell_height": 52.390625
   }
  },
  {
   "cell_type": "code",
   "metadata": {
    "cell_id": "7f6978802b924771bfed819e5a960de9",
    "tags": [],
    "deepnote_to_be_reexecuted": false,
    "source_hash": "98f0f7c8",
    "execution_start": 1654736856765,
    "execution_millis": 311,
    "deepnote_cell_type": "code",
    "deepnote_cell_height": 618
   },
   "source": "df = df.fillna(method=\"pad\")\ndf",
   "execution_count": null,
   "outputs": [
    {
     "output_type": "execute_result",
     "execution_count": 4,
     "data": {
      "application/vnd.deepnote.dataframe.v3+json": {
       "column_count": 42,
       "row_count": 3353,
       "columns": [
        {
         "name": "County_Density",
         "dtype": "float64",
         "stats": {
          "unique_count": 1169,
          "nan_count": 0,
          "min": "0.928097868",
          "max": "27819.8048",
          "histogram": [
           {
            "bin_start": 0.928097868,
            "bin_end": 2782.8157680812,
            "count": 3211
           },
           {
            "bin_start": 2782.8157680812,
            "bin_end": 5564.7034382944,
            "count": 48
           },
           {
            "bin_start": 5564.7034382944,
            "bin_end": 8346.5911085076,
            "count": 41
           },
           {
            "bin_start": 8346.5911085076,
            "bin_end": 11128.4787787208,
            "count": 0
           },
           {
            "bin_start": 11128.4787787208,
            "bin_end": 13910.366448934,
            "count": 9
           },
           {
            "bin_start": 13910.366448934,
            "bin_end": 16692.2541191472,
            "count": 25
           },
           {
            "bin_start": 16692.2541191472,
            "bin_end": 19474.1417893604,
            "count": 0
           },
           {
            "bin_start": 19474.1417893604,
            "bin_end": 22256.0294595736,
            "count": 0
           },
           {
            "bin_start": 22256.0294595736,
            "bin_end": 25037.9171297868,
            "count": 0
           },
           {
            "bin_start": 25037.9171297868,
            "bin_end": 27819.8048,
            "count": 19
           }
          ]
         }
        },
        {
         "name": "Vaccine_Trust_Index",
         "dtype": "float64",
         "stats": {
          "unique_count": 36,
          "nan_count": 0,
          "min": "0.0",
          "max": "10.0",
          "histogram": [
           {
            "bin_start": 0,
            "bin_end": 1,
            "count": 97
           },
           {
            "bin_start": 1,
            "bin_end": 2,
            "count": 67
           },
           {
            "bin_start": 2,
            "bin_end": 3,
            "count": 75
           },
           {
            "bin_start": 3,
            "bin_end": 4,
            "count": 108
           },
           {
            "bin_start": 4,
            "bin_end": 5,
            "count": 138
           },
           {
            "bin_start": 5,
            "bin_end": 6,
            "count": 223
           },
           {
            "bin_start": 6,
            "bin_end": 7,
            "count": 251
           },
           {
            "bin_start": 7,
            "bin_end": 8,
            "count": 342
           },
           {
            "bin_start": 8,
            "bin_end": 9,
            "count": 619
           },
           {
            "bin_start": 9,
            "bin_end": 10,
            "count": 1433
           }
          ]
         }
        },
        {
         "name": "Personal_Responsibility",
         "dtype": "float64",
         "stats": {
          "unique_count": 11,
          "nan_count": 0,
          "min": "0.0",
          "max": "10.0",
          "histogram": [
           {
            "bin_start": 0,
            "bin_end": 1,
            "count": 45
           },
           {
            "bin_start": 1,
            "bin_end": 2,
            "count": 48
           },
           {
            "bin_start": 2,
            "bin_end": 3,
            "count": 100
           },
           {
            "bin_start": 3,
            "bin_end": 4,
            "count": 134
           },
           {
            "bin_start": 4,
            "bin_end": 5,
            "count": 134
           },
           {
            "bin_start": 5,
            "bin_end": 6,
            "count": 476
           },
           {
            "bin_start": 6,
            "bin_end": 7,
            "count": 342
           },
           {
            "bin_start": 7,
            "bin_end": 8,
            "count": 456
           },
           {
            "bin_start": 8,
            "bin_end": 9,
            "count": 508
           },
           {
            "bin_start": 9,
            "bin_end": 10,
            "count": 1110
           }
          ]
         }
        },
        {
         "name": "Trust_Science_Apolitical",
         "dtype": "float64",
         "stats": {
          "unique_count": 11,
          "nan_count": 0,
          "min": "0.0",
          "max": "10.0",
          "histogram": [
           {
            "bin_start": 0,
            "bin_end": 1,
            "count": 219
           },
           {
            "bin_start": 1,
            "bin_end": 2,
            "count": 129
           },
           {
            "bin_start": 2,
            "bin_end": 3,
            "count": 214
           },
           {
            "bin_start": 3,
            "bin_end": 4,
            "count": 293
           },
           {
            "bin_start": 4,
            "bin_end": 5,
            "count": 323
           },
           {
            "bin_start": 5,
            "bin_end": 6,
            "count": 555
           },
           {
            "bin_start": 6,
            "bin_end": 7,
            "count": 387
           },
           {
            "bin_start": 7,
            "bin_end": 8,
            "count": 323
           },
           {
            "bin_start": 8,
            "bin_end": 9,
            "count": 302
           },
           {
            "bin_start": 9,
            "bin_end": 10,
            "count": 608
           }
          ]
         }
        },
        {
         "name": "Trust_Science_Politicians",
         "dtype": "float64",
         "stats": {
          "unique_count": 11,
          "nan_count": 0,
          "min": "0.0",
          "max": "10.0",
          "histogram": [
           {
            "bin_start": 0,
            "bin_end": 1,
            "count": 988
           },
           {
            "bin_start": 1,
            "bin_end": 2,
            "count": 455
           },
           {
            "bin_start": 2,
            "bin_end": 3,
            "count": 510
           },
           {
            "bin_start": 3,
            "bin_end": 4,
            "count": 450
           },
           {
            "bin_start": 4,
            "bin_end": 5,
            "count": 378
           },
           {
            "bin_start": 5,
            "bin_end": 6,
            "count": 319
           },
           {
            "bin_start": 6,
            "bin_end": 7,
            "count": 90
           },
           {
            "bin_start": 7,
            "bin_end": 8,
            "count": 65
           },
           {
            "bin_start": 8,
            "bin_end": 9,
            "count": 44
           },
           {
            "bin_start": 9,
            "bin_end": 10,
            "count": 54
           }
          ]
         }
        },
        {
         "name": "Trust_Science_Media",
         "dtype": "float64",
         "stats": {
          "unique_count": 11,
          "nan_count": 0,
          "min": "0.0",
          "max": "10.0",
          "histogram": [
           {
            "bin_start": 0,
            "bin_end": 1,
            "count": 789
           },
           {
            "bin_start": 1,
            "bin_end": 2,
            "count": 253
           },
           {
            "bin_start": 2,
            "bin_end": 3,
            "count": 317
           },
           {
            "bin_start": 3,
            "bin_end": 4,
            "count": 317
           },
           {
            "bin_start": 4,
            "bin_end": 5,
            "count": 386
           },
           {
            "bin_start": 5,
            "bin_end": 6,
            "count": 478
           },
           {
            "bin_start": 6,
            "bin_end": 7,
            "count": 227
           },
           {
            "bin_start": 7,
            "bin_end": 8,
            "count": 175
           },
           {
            "bin_start": 8,
            "bin_end": 9,
            "count": 154
           },
           {
            "bin_start": 9,
            "bin_end": 10,
            "count": 257
           }
          ]
         }
        },
        {
         "name": "Trust_Science_Community",
         "dtype": "float64",
         "stats": {
          "unique_count": 11,
          "nan_count": 0,
          "min": "0.0",
          "max": "10.0",
          "histogram": [
           {
            "bin_start": 0,
            "bin_end": 1,
            "count": 108
           },
           {
            "bin_start": 1,
            "bin_end": 2,
            "count": 68
           },
           {
            "bin_start": 2,
            "bin_end": 3,
            "count": 99
           },
           {
            "bin_start": 3,
            "bin_end": 4,
            "count": 145
           },
           {
            "bin_start": 4,
            "bin_end": 5,
            "count": 204
           },
           {
            "bin_start": 5,
            "bin_end": 6,
            "count": 477
           },
           {
            "bin_start": 6,
            "bin_end": 7,
            "count": 430
           },
           {
            "bin_start": 7,
            "bin_end": 8,
            "count": 507
           },
           {
            "bin_start": 8,
            "bin_end": 9,
            "count": 488
           },
           {
            "bin_start": 9,
            "bin_end": 10,
            "count": 827
           }
          ]
         }
        },
        {
         "name": "Trust_National",
         "dtype": "float64",
         "stats": {
          "unique_count": 11,
          "nan_count": 0,
          "min": "0.0",
          "max": "10.0",
          "histogram": [
           {
            "bin_start": 0,
            "bin_end": 1,
            "count": 211
           },
           {
            "bin_start": 1,
            "bin_end": 2,
            "count": 140
           },
           {
            "bin_start": 2,
            "bin_end": 3,
            "count": 191
           },
           {
            "bin_start": 3,
            "bin_end": 4,
            "count": 267
           },
           {
            "bin_start": 4,
            "bin_end": 5,
            "count": 318
           },
           {
            "bin_start": 5,
            "bin_end": 6,
            "count": 721
           },
           {
            "bin_start": 6,
            "bin_end": 7,
            "count": 472
           },
           {
            "bin_start": 7,
            "bin_end": 8,
            "count": 469
           },
           {
            "bin_start": 8,
            "bin_end": 9,
            "count": 374
           },
           {
            "bin_start": 9,
            "bin_end": 10,
            "count": 190
           }
          ]
         }
        },
        {
         "name": "Trust_State",
         "dtype": "float64",
         "stats": {
          "unique_count": 11,
          "nan_count": 0,
          "min": "0.0",
          "max": "10.0",
          "histogram": [
           {
            "bin_start": 0,
            "bin_end": 1,
            "count": 196
           },
           {
            "bin_start": 1,
            "bin_end": 2,
            "count": 123
           },
           {
            "bin_start": 2,
            "bin_end": 3,
            "count": 176
           },
           {
            "bin_start": 3,
            "bin_end": 4,
            "count": 188
           },
           {
            "bin_start": 4,
            "bin_end": 5,
            "count": 255
           },
           {
            "bin_start": 5,
            "bin_end": 6,
            "count": 598
           },
           {
            "bin_start": 6,
            "bin_end": 7,
            "count": 439
           },
           {
            "bin_start": 7,
            "bin_end": 8,
            "count": 529
           },
           {
            "bin_start": 8,
            "bin_end": 9,
            "count": 531
           },
           {
            "bin_start": 9,
            "bin_end": 10,
            "count": 318
           }
          ]
         }
        },
        {
         "name": "Trust_Local",
         "dtype": "float64",
         "stats": {
          "unique_count": 11,
          "nan_count": 0,
          "min": "0.0",
          "max": "10.0",
          "histogram": [
           {
            "bin_start": 0,
            "bin_end": 1,
            "count": 112
           },
           {
            "bin_start": 1,
            "bin_end": 2,
            "count": 59
           },
           {
            "bin_start": 2,
            "bin_end": 3,
            "count": 105
           },
           {
            "bin_start": 3,
            "bin_end": 4,
            "count": 140
           },
           {
            "bin_start": 4,
            "bin_end": 5,
            "count": 234
           },
           {
            "bin_start": 5,
            "bin_end": 6,
            "count": 659
           },
           {
            "bin_start": 6,
            "bin_end": 7,
            "count": 448
           },
           {
            "bin_start": 7,
            "bin_end": 8,
            "count": 626
           },
           {
            "bin_start": 8,
            "bin_end": 9,
            "count": 604
           },
           {
            "bin_start": 9,
            "bin_end": 10,
            "count": 366
           }
          ]
         }
        },
        {
         "name": "Trust_Media",
         "dtype": "float64",
         "stats": {
          "unique_count": 11,
          "nan_count": 0,
          "min": "0.0",
          "max": "10.0",
          "histogram": [
           {
            "bin_start": 0,
            "bin_end": 1,
            "count": 545
           },
           {
            "bin_start": 1,
            "bin_end": 2,
            "count": 276
           },
           {
            "bin_start": 2,
            "bin_end": 3,
            "count": 240
           },
           {
            "bin_start": 3,
            "bin_end": 4,
            "count": 199
           },
           {
            "bin_start": 4,
            "bin_end": 5,
            "count": 197
           },
           {
            "bin_start": 5,
            "bin_end": 6,
            "count": 524
           },
           {
            "bin_start": 6,
            "bin_end": 7,
            "count": 321
           },
           {
            "bin_start": 7,
            "bin_end": 8,
            "count": 449
           },
           {
            "bin_start": 8,
            "bin_end": 9,
            "count": 370
           },
           {
            "bin_start": 9,
            "bin_end": 10,
            "count": 232
           }
          ]
         }
        },
        {
         "name": "Perceived_Risk",
         "dtype": "float64",
         "stats": {
          "unique_count": 11,
          "nan_count": 0,
          "min": "0.0",
          "max": "10.0",
          "histogram": [
           {
            "bin_start": 0,
            "bin_end": 1,
            "count": 262
           },
           {
            "bin_start": 1,
            "bin_end": 2,
            "count": 180
           },
           {
            "bin_start": 2,
            "bin_end": 3,
            "count": 153
           },
           {
            "bin_start": 3,
            "bin_end": 4,
            "count": 139
           },
           {
            "bin_start": 4,
            "bin_end": 5,
            "count": 133
           },
           {
            "bin_start": 5,
            "bin_end": 6,
            "count": 311
           },
           {
            "bin_start": 6,
            "bin_end": 7,
            "count": 175
           },
           {
            "bin_start": 7,
            "bin_end": 8,
            "count": 226
           },
           {
            "bin_start": 8,
            "bin_end": 9,
            "count": 344
           },
           {
            "bin_start": 9,
            "bin_end": 10,
            "count": 1430
           }
          ]
         }
        },
        {
         "name": "Perceived_Network_Risk",
         "dtype": "float64",
         "stats": {
          "unique_count": 11,
          "nan_count": 0,
          "min": "0.0",
          "max": "10.0",
          "histogram": [
           {
            "bin_start": 0,
            "bin_end": 1,
            "count": 229
           },
           {
            "bin_start": 1,
            "bin_end": 2,
            "count": 161
           },
           {
            "bin_start": 2,
            "bin_end": 3,
            "count": 125
           },
           {
            "bin_start": 3,
            "bin_end": 4,
            "count": 117
           },
           {
            "bin_start": 4,
            "bin_end": 5,
            "count": 112
           },
           {
            "bin_start": 5,
            "bin_end": 6,
            "count": 323
           },
           {
            "bin_start": 6,
            "bin_end": 7,
            "count": 199
           },
           {
            "bin_start": 7,
            "bin_end": 8,
            "count": 270
           },
           {
            "bin_start": 8,
            "bin_end": 9,
            "count": 374
           },
           {
            "bin_start": 9,
            "bin_end": 10,
            "count": 1443
           }
          ]
         }
        },
        {
         "name": "Doctor_Comfort",
         "dtype": "float64",
         "stats": {
          "unique_count": 11,
          "nan_count": 0,
          "min": "0.0",
          "max": "10.0",
          "histogram": [
           {
            "bin_start": 0,
            "bin_end": 1,
            "count": 45
           },
           {
            "bin_start": 1,
            "bin_end": 2,
            "count": 37
           },
           {
            "bin_start": 2,
            "bin_end": 3,
            "count": 37
           },
           {
            "bin_start": 3,
            "bin_end": 4,
            "count": 44
           },
           {
            "bin_start": 4,
            "bin_end": 5,
            "count": 54
           },
           {
            "bin_start": 5,
            "bin_end": 6,
            "count": 183
           },
           {
            "bin_start": 6,
            "bin_end": 7,
            "count": 161
           },
           {
            "bin_start": 7,
            "bin_end": 8,
            "count": 251
           },
           {
            "bin_start": 8,
            "bin_end": 9,
            "count": 422
           },
           {
            "bin_start": 9,
            "bin_end": 10,
            "count": 2119
           }
          ]
         }
        },
        {
         "name": "Fear_Needles",
         "dtype": "float64",
         "stats": {
          "unique_count": 11,
          "nan_count": 0,
          "min": "0.0",
          "max": "10.0",
          "histogram": [
           {
            "bin_start": 0,
            "bin_end": 1,
            "count": 1588
           },
           {
            "bin_start": 1,
            "bin_end": 2,
            "count": 390
           },
           {
            "bin_start": 2,
            "bin_end": 3,
            "count": 245
           },
           {
            "bin_start": 3,
            "bin_end": 4,
            "count": 156
           },
           {
            "bin_start": 4,
            "bin_end": 5,
            "count": 109
           },
           {
            "bin_start": 5,
            "bin_end": 6,
            "count": 199
           },
           {
            "bin_start": 6,
            "bin_end": 7,
            "count": 146
           },
           {
            "bin_start": 7,
            "bin_end": 8,
            "count": 143
           },
           {
            "bin_start": 8,
            "bin_end": 9,
            "count": 104
           },
           {
            "bin_start": 9,
            "bin_end": 10,
            "count": 273
           }
          ]
         }
        },
        {
         "name": "Condition_Pregnancy",
         "dtype": "float64",
         "stats": {
          "unique_count": 2,
          "nan_count": 0,
          "min": "0.0",
          "max": "1.0",
          "histogram": [
           {
            "bin_start": 0,
            "bin_end": 0.1,
            "count": 3341
           },
           {
            "bin_start": 0.1,
            "bin_end": 0.2,
            "count": 0
           },
           {
            "bin_start": 0.2,
            "bin_end": 0.30000000000000004,
            "count": 0
           },
           {
            "bin_start": 0.30000000000000004,
            "bin_end": 0.4,
            "count": 0
           },
           {
            "bin_start": 0.4,
            "bin_end": 0.5,
            "count": 0
           },
           {
            "bin_start": 0.5,
            "bin_end": 0.6000000000000001,
            "count": 0
           },
           {
            "bin_start": 0.6000000000000001,
            "bin_end": 0.7000000000000001,
            "count": 0
           },
           {
            "bin_start": 0.7000000000000001,
            "bin_end": 0.8,
            "count": 0
           },
           {
            "bin_start": 0.8,
            "bin_end": 0.9,
            "count": 0
           },
           {
            "bin_start": 0.9,
            "bin_end": 1,
            "count": 12
           }
          ]
         }
        },
        {
         "name": "Condition_Asthma",
         "dtype": "float64",
         "stats": {
          "unique_count": 2,
          "nan_count": 0,
          "min": "0.0",
          "max": "1.0",
          "histogram": [
           {
            "bin_start": 0,
            "bin_end": 0.1,
            "count": 3126
           },
           {
            "bin_start": 0.1,
            "bin_end": 0.2,
            "count": 0
           },
           {
            "bin_start": 0.2,
            "bin_end": 0.30000000000000004,
            "count": 0
           },
           {
            "bin_start": 0.30000000000000004,
            "bin_end": 0.4,
            "count": 0
           },
           {
            "bin_start": 0.4,
            "bin_end": 0.5,
            "count": 0
           },
           {
            "bin_start": 0.5,
            "bin_end": 0.6000000000000001,
            "count": 0
           },
           {
            "bin_start": 0.6000000000000001,
            "bin_end": 0.7000000000000001,
            "count": 0
           },
           {
            "bin_start": 0.7000000000000001,
            "bin_end": 0.8,
            "count": 0
           },
           {
            "bin_start": 0.8,
            "bin_end": 0.9,
            "count": 0
           },
           {
            "bin_start": 0.9,
            "bin_end": 1,
            "count": 227
           }
          ]
         }
        },
        {
         "name": "Condition_Lung",
         "dtype": "float64",
         "stats": {
          "unique_count": 2,
          "nan_count": 0,
          "min": "0.0",
          "max": "1.0",
          "histogram": [
           {
            "bin_start": 0,
            "bin_end": 0.1,
            "count": 3287
           },
           {
            "bin_start": 0.1,
            "bin_end": 0.2,
            "count": 0
           },
           {
            "bin_start": 0.2,
            "bin_end": 0.30000000000000004,
            "count": 0
           },
           {
            "bin_start": 0.30000000000000004,
            "bin_end": 0.4,
            "count": 0
           },
           {
            "bin_start": 0.4,
            "bin_end": 0.5,
            "count": 0
           },
           {
            "bin_start": 0.5,
            "bin_end": 0.6000000000000001,
            "count": 0
           },
           {
            "bin_start": 0.6000000000000001,
            "bin_end": 0.7000000000000001,
            "count": 0
           },
           {
            "bin_start": 0.7000000000000001,
            "bin_end": 0.8,
            "count": 0
           },
           {
            "bin_start": 0.8,
            "bin_end": 0.9,
            "count": 0
           },
           {
            "bin_start": 0.9,
            "bin_end": 1,
            "count": 66
           }
          ]
         }
        },
        {
         "name": "Condition_Diabetes",
         "dtype": "float64",
         "stats": {
          "unique_count": 2,
          "nan_count": 0,
          "min": "0.0",
          "max": "1.0",
          "histogram": [
           {
            "bin_start": 0,
            "bin_end": 0.1,
            "count": 2932
           },
           {
            "bin_start": 0.1,
            "bin_end": 0.2,
            "count": 0
           },
           {
            "bin_start": 0.2,
            "bin_end": 0.30000000000000004,
            "count": 0
           },
           {
            "bin_start": 0.30000000000000004,
            "bin_end": 0.4,
            "count": 0
           },
           {
            "bin_start": 0.4,
            "bin_end": 0.5,
            "count": 0
           },
           {
            "bin_start": 0.5,
            "bin_end": 0.6000000000000001,
            "count": 0
           },
           {
            "bin_start": 0.6000000000000001,
            "bin_end": 0.7000000000000001,
            "count": 0
           },
           {
            "bin_start": 0.7000000000000001,
            "bin_end": 0.8,
            "count": 0
           },
           {
            "bin_start": 0.8,
            "bin_end": 0.9,
            "count": 0
           },
           {
            "bin_start": 0.9,
            "bin_end": 1,
            "count": 421
           }
          ]
         }
        },
        {
         "name": "Condition_Immune",
         "dtype": "float64",
         "stats": {
          "unique_count": 2,
          "nan_count": 0,
          "min": "0.0",
          "max": "1.0",
          "histogram": [
           {
            "bin_start": 0,
            "bin_end": 0.1,
            "count": 3171
           },
           {
            "bin_start": 0.1,
            "bin_end": 0.2,
            "count": 0
           },
           {
            "bin_start": 0.2,
            "bin_end": 0.30000000000000004,
            "count": 0
           },
           {
            "bin_start": 0.30000000000000004,
            "bin_end": 0.4,
            "count": 0
           },
           {
            "bin_start": 0.4,
            "bin_end": 0.5,
            "count": 0
           },
           {
            "bin_start": 0.5,
            "bin_end": 0.6000000000000001,
            "count": 0
           },
           {
            "bin_start": 0.6000000000000001,
            "bin_end": 0.7000000000000001,
            "count": 0
           },
           {
            "bin_start": 0.7000000000000001,
            "bin_end": 0.8,
            "count": 0
           },
           {
            "bin_start": 0.8,
            "bin_end": 0.9,
            "count": 0
           },
           {
            "bin_start": 0.9,
            "bin_end": 1,
            "count": 182
           }
          ]
         }
        },
        {
         "name": "Condition_Obesity",
         "dtype": "float64",
         "stats": {
          "unique_count": 2,
          "nan_count": 0,
          "min": "0.0",
          "max": "1.0",
          "histogram": [
           {
            "bin_start": 0,
            "bin_end": 0.1,
            "count": 3006
           },
           {
            "bin_start": 0.1,
            "bin_end": 0.2,
            "count": 0
           },
           {
            "bin_start": 0.2,
            "bin_end": 0.30000000000000004,
            "count": 0
           },
           {
            "bin_start": 0.30000000000000004,
            "bin_end": 0.4,
            "count": 0
           },
           {
            "bin_start": 0.4,
            "bin_end": 0.5,
            "count": 0
           },
           {
            "bin_start": 0.5,
            "bin_end": 0.6000000000000001,
            "count": 0
           },
           {
            "bin_start": 0.6000000000000001,
            "bin_end": 0.7000000000000001,
            "count": 0
           },
           {
            "bin_start": 0.7000000000000001,
            "bin_end": 0.8,
            "count": 0
           },
           {
            "bin_start": 0.8,
            "bin_end": 0.9,
            "count": 0
           },
           {
            "bin_start": 0.9,
            "bin_end": 1,
            "count": 347
           }
          ]
         }
        },
        {
         "name": "Condition_Heart",
         "dtype": "float64",
         "stats": {
          "unique_count": 2,
          "nan_count": 0,
          "min": "0.0",
          "max": "1.0",
          "histogram": [
           {
            "bin_start": 0,
            "bin_end": 0.1,
            "count": 3089
           },
           {
            "bin_start": 0.1,
            "bin_end": 0.2,
            "count": 0
           },
           {
            "bin_start": 0.2,
            "bin_end": 0.30000000000000004,
            "count": 0
           },
           {
            "bin_start": 0.30000000000000004,
            "bin_end": 0.4,
            "count": 0
           },
           {
            "bin_start": 0.4,
            "bin_end": 0.5,
            "count": 0
           },
           {
            "bin_start": 0.5,
            "bin_end": 0.6000000000000001,
            "count": 0
           },
           {
            "bin_start": 0.6000000000000001,
            "bin_end": 0.7000000000000001,
            "count": 0
           },
           {
            "bin_start": 0.7000000000000001,
            "bin_end": 0.8,
            "count": 0
           },
           {
            "bin_start": 0.8,
            "bin_end": 0.9,
            "count": 0
           },
           {
            "bin_start": 0.9,
            "bin_end": 1,
            "count": 264
           }
          ]
         }
        },
        {
         "name": "Condition_Organ",
         "dtype": "float64",
         "stats": {
          "unique_count": 2,
          "nan_count": 0,
          "min": "0.0",
          "max": "1.0",
          "histogram": [
           {
            "bin_start": 0,
            "bin_end": 0.1,
            "count": 3274
           },
           {
            "bin_start": 0.1,
            "bin_end": 0.2,
            "count": 0
           },
           {
            "bin_start": 0.2,
            "bin_end": 0.30000000000000004,
            "count": 0
           },
           {
            "bin_start": 0.30000000000000004,
            "bin_end": 0.4,
            "count": 0
           },
           {
            "bin_start": 0.4,
            "bin_end": 0.5,
            "count": 0
           },
           {
            "bin_start": 0.5,
            "bin_end": 0.6000000000000001,
            "count": 0
           },
           {
            "bin_start": 0.6000000000000001,
            "bin_end": 0.7000000000000001,
            "count": 0
           },
           {
            "bin_start": 0.7000000000000001,
            "bin_end": 0.8,
            "count": 0
           },
           {
            "bin_start": 0.8,
            "bin_end": 0.9,
            "count": 0
           },
           {
            "bin_start": 0.9,
            "bin_end": 1,
            "count": 79
           }
          ]
         }
        },
        {
         "name": "County_Cases",
         "dtype": "float64",
         "stats": {
          "unique_count": 2123,
          "nan_count": 0,
          "min": "0.002591871",
          "max": "0.184383169",
          "histogram": [
           {
            "bin_start": 0.002591871,
            "bin_end": 0.0207710008,
            "count": 11
           },
           {
            "bin_start": 0.0207710008,
            "bin_end": 0.03895013060000001,
            "count": 83
           },
           {
            "bin_start": 0.03895013060000001,
            "bin_end": 0.05712926040000001,
            "count": 237
           },
           {
            "bin_start": 0.05712926040000001,
            "bin_end": 0.0753083902,
            "count": 639
           },
           {
            "bin_start": 0.0753083902,
            "bin_end": 0.09348752,
            "count": 1204
           },
           {
            "bin_start": 0.09348752,
            "bin_end": 0.11166664980000002,
            "count": 664
           },
           {
            "bin_start": 0.11166664980000002,
            "bin_end": 0.12984577960000002,
            "count": 429
           },
           {
            "bin_start": 0.12984577960000002,
            "bin_end": 0.14802490940000002,
            "count": 39
           },
           {
            "bin_start": 0.14802490940000002,
            "bin_end": 0.16620403920000001,
            "count": 43
           },
           {
            "bin_start": 0.16620403920000001,
            "bin_end": 0.184383169,
            "count": 4
           }
          ]
         }
        },
        {
         "name": "County_Cases2wk",
         "dtype": "float64",
         "stats": {
          "unique_count": 2117,
          "nan_count": 0,
          "min": "0.0",
          "max": "0.015414549",
          "histogram": [
           {
            "bin_start": 0,
            "bin_end": 0.0015414549,
            "count": 617
           },
           {
            "bin_start": 0.0015414549,
            "bin_end": 0.0030829098,
            "count": 1818
           },
           {
            "bin_start": 0.0030829098,
            "bin_end": 0.0046243646999999995,
            "count": 550
           },
           {
            "bin_start": 0.0046243646999999995,
            "bin_end": 0.0061658196,
            "count": 315
           },
           {
            "bin_start": 0.0061658196,
            "bin_end": 0.0077072745,
            "count": 48
           },
           {
            "bin_start": 0.0077072745,
            "bin_end": 0.009248729399999999,
            "count": 1
           },
           {
            "bin_start": 0.009248729399999999,
            "bin_end": 0.0107901843,
            "count": 1
           },
           {
            "bin_start": 0.0107901843,
            "bin_end": 0.0123316392,
            "count": 0
           },
           {
            "bin_start": 0.0123316392,
            "bin_end": 0.013873094099999999,
            "count": 1
           },
           {
            "bin_start": 0.013873094099999999,
            "bin_end": 0.015414549,
            "count": 2
           }
          ]
         }
        },
        {
         "name": "Male",
         "dtype": "int64",
         "stats": {
          "unique_count": 2,
          "nan_count": 0,
          "min": "0",
          "max": "1",
          "histogram": [
           {
            "bin_start": 0,
            "bin_end": 0.1,
            "count": 1521
           },
           {
            "bin_start": 0.1,
            "bin_end": 0.2,
            "count": 0
           },
           {
            "bin_start": 0.2,
            "bin_end": 0.30000000000000004,
            "count": 0
           },
           {
            "bin_start": 0.30000000000000004,
            "bin_end": 0.4,
            "count": 0
           },
           {
            "bin_start": 0.4,
            "bin_end": 0.5,
            "count": 0
           },
           {
            "bin_start": 0.5,
            "bin_end": 0.6000000000000001,
            "count": 0
           },
           {
            "bin_start": 0.6000000000000001,
            "bin_end": 0.7000000000000001,
            "count": 0
           },
           {
            "bin_start": 0.7000000000000001,
            "bin_end": 0.8,
            "count": 0
           },
           {
            "bin_start": 0.8,
            "bin_end": 0.9,
            "count": 0
           },
           {
            "bin_start": 0.9,
            "bin_end": 1,
            "count": 1832
           }
          ]
         }
        },
        {
         "name": "Race",
         "dtype": "int64",
         "stats": {
          "unique_count": 4,
          "nan_count": 0,
          "min": "1",
          "max": "4",
          "histogram": [
           {
            "bin_start": 1,
            "bin_end": 1.3,
            "count": 2442
           },
           {
            "bin_start": 1.3,
            "bin_end": 1.6,
            "count": 0
           },
           {
            "bin_start": 1.6,
            "bin_end": 1.9,
            "count": 0
           },
           {
            "bin_start": 1.9,
            "bin_end": 2.2,
            "count": 173
           },
           {
            "bin_start": 2.2,
            "bin_end": 2.5,
            "count": 0
           },
           {
            "bin_start": 2.5,
            "bin_end": 2.8,
            "count": 0
           },
           {
            "bin_start": 2.8,
            "bin_end": 3.1,
            "count": 396
           },
           {
            "bin_start": 3.1,
            "bin_end": 3.4,
            "count": 0
           },
           {
            "bin_start": 3.4,
            "bin_end": 3.6999999999999997,
            "count": 0
           },
           {
            "bin_start": 3.6999999999999997,
            "bin_end": 4,
            "count": 342
           }
          ]
         }
        },
        {
         "name": "Age",
         "dtype": "float64",
         "stats": {
          "unique_count": 75,
          "nan_count": 0,
          "min": "18.0",
          "max": "92.0",
          "histogram": [
           {
            "bin_start": 18,
            "bin_end": 25.4,
            "count": 60
           },
           {
            "bin_start": 25.4,
            "bin_end": 32.8,
            "count": 119
           },
           {
            "bin_start": 32.8,
            "bin_end": 40.2,
            "count": 286
           },
           {
            "bin_start": 40.2,
            "bin_end": 47.6,
            "count": 278
           },
           {
            "bin_start": 47.6,
            "bin_end": 55,
            "count": 423
           },
           {
            "bin_start": 55,
            "bin_end": 62.400000000000006,
            "count": 642
           },
           {
            "bin_start": 62.400000000000006,
            "bin_end": 69.80000000000001,
            "count": 775
           },
           {
            "bin_start": 69.80000000000001,
            "bin_end": 77.2,
            "count": 635
           },
           {
            "bin_start": 77.2,
            "bin_end": 84.60000000000001,
            "count": 115
           },
           {
            "bin_start": 84.60000000000001,
            "bin_end": 92,
            "count": 20
           }
          ]
         }
        },
        {
         "name": "PS_Index",
         "dtype": "float64",
         "stats": {
          "unique_count": 7,
          "nan_count": 0,
          "min": "0.0",
          "max": "1.0",
          "histogram": [
           {
            "bin_start": 0,
            "bin_end": 0.1,
            "count": 30
           },
           {
            "bin_start": 0.1,
            "bin_end": 0.2,
            "count": 301
           },
           {
            "bin_start": 0.2,
            "bin_end": 0.30000000000000004,
            "count": 0
           },
           {
            "bin_start": 0.30000000000000004,
            "bin_end": 0.4,
            "count": 1519
           },
           {
            "bin_start": 0.4,
            "bin_end": 0.5,
            "count": 0
           },
           {
            "bin_start": 0.5,
            "bin_end": 0.6000000000000001,
            "count": 956
           },
           {
            "bin_start": 0.6000000000000001,
            "bin_end": 0.7000000000000001,
            "count": 411
           },
           {
            "bin_start": 0.7000000000000001,
            "bin_end": 0.8,
            "count": 0
           },
           {
            "bin_start": 0.8,
            "bin_end": 0.9,
            "count": 122
           },
           {
            "bin_start": 0.9,
            "bin_end": 1,
            "count": 14
           }
          ]
         }
        },
        {
         "name": "Natural_Science_Literacy",
         "dtype": "float64"
        },
        {
         "name": "College_Degree",
         "dtype": "float64"
        },
        {
         "name": "Pandemic_Impact",
         "dtype": "float64"
        },
        {
         "name": "Pandemic_Impact_Network",
         "dtype": "float64"
        },
        {
         "name": "Infected_Personal",
         "dtype": "float64"
        },
        {
         "name": "Infected_Network",
         "dtype": "float64"
        },
        {
         "name": "Biden",
         "dtype": "object"
        },
        {
         "name": "Trump",
         "dtype": "object"
        },
        {
         "name": "Party_ID",
         "dtype": "object"
        },
        {
         "name": "Household_Income",
         "dtype": "float64"
        },
        {
         "name": "Vaccine_Required",
         "dtype": "int64"
        },
        {
         "name": "Evangelical",
         "dtype": "float64"
        },
        {
         "name": "Vaccine_Hesitant",
         "dtype": "int64"
        },
        {
         "name": "_deepnote_index_column",
         "dtype": "int64"
        }
       ],
       "rows": [
        {
         "County_Density": 137.8517954,
         "Vaccine_Trust_Index": 0,
         "Personal_Responsibility": 10,
         "Trust_Science_Apolitical": 5,
         "Trust_Science_Politicians": 5,
         "Trust_Science_Media": 5,
         "Trust_Science_Community": 5,
         "Trust_National": 5,
         "Trust_State": 5,
         "Trust_Local": 5,
         "Trust_Media": 5,
         "Perceived_Risk": 0,
         "Perceived_Network_Risk": 0,
         "Doctor_Comfort": 8,
         "Fear_Needles": 0,
         "Condition_Pregnancy": 0,
         "Condition_Asthma": 0,
         "Condition_Lung": 0,
         "Condition_Diabetes": 0,
         "Condition_Immune": 0,
         "Condition_Obesity": 0,
         "Condition_Heart": 0,
         "Condition_Organ": 0,
         "County_Cases": 0.078748852,
         "County_Cases2wk": 0.002252394,
         "Male": 1,
         "Race": 1,
         "Age": 67,
         "PS_Index": 0.5,
         "Natural_Science_Literacy": 0.666666687,
         "College_Degree": 0,
         "Pandemic_Impact": 0,
         "Pandemic_Impact_Network": 0,
         "Infected_Personal": 0,
         "Infected_Network": 0,
         "Biden": "No",
         "Trump": "Yes",
         "Party_ID": "Republican",
         "Household_Income": 1,
         "Vaccine_Required": 0,
         "Evangelical": 1,
         "Vaccine_Hesitant": 1,
         "_deepnote_index_column": 0
        },
        {
         "County_Density": 38.75140638,
         "Vaccine_Trust_Index": 9,
         "Personal_Responsibility": 5,
         "Trust_Science_Apolitical": 8,
         "Trust_Science_Politicians": 4,
         "Trust_Science_Media": 6,
         "Trust_Science_Community": 9,
         "Trust_National": 8,
         "Trust_State": 2,
         "Trust_Local": 7,
         "Trust_Media": 7,
         "Perceived_Risk": 10,
         "Perceived_Network_Risk": 9,
         "Doctor_Comfort": 8,
         "Fear_Needles": 6,
         "Condition_Pregnancy": 0,
         "Condition_Asthma": 0,
         "Condition_Lung": 0,
         "Condition_Diabetes": 0,
         "Condition_Immune": 0,
         "Condition_Obesity": 1,
         "Condition_Heart": 1,
         "Condition_Organ": 0,
         "County_Cases": 0.071311742,
         "County_Cases2wk": 0.002438762,
         "Male": 1,
         "Race": 1,
         "Age": 70,
         "PS_Index": 0.5,
         "Natural_Science_Literacy": 0.833333313,
         "College_Degree": 1,
         "Pandemic_Impact": 4.5,
         "Pandemic_Impact_Network": 5,
         "Infected_Personal": 0,
         "Infected_Network": 0,
         "Biden": "Yes",
         "Trump": "No",
         "Party_ID": "Democrat",
         "Household_Income": 3,
         "Vaccine_Required": 0,
         "Evangelical": 0,
         "Vaccine_Hesitant": 0,
         "_deepnote_index_column": 1
        },
        {
         "County_Density": 18.10375235,
         "Vaccine_Trust_Index": 8.666666985,
         "Personal_Responsibility": 7,
         "Trust_Science_Apolitical": 6,
         "Trust_Science_Politicians": 1,
         "Trust_Science_Media": 1,
         "Trust_Science_Community": 6,
         "Trust_National": 7,
         "Trust_State": 7,
         "Trust_Local": 9,
         "Trust_Media": 1,
         "Perceived_Risk": 9,
         "Perceived_Network_Risk": 8,
         "Doctor_Comfort": 10,
         "Fear_Needles": 3,
         "Condition_Pregnancy": 0,
         "Condition_Asthma": 0,
         "Condition_Lung": 1,
         "Condition_Diabetes": 0,
         "Condition_Immune": 0,
         "Condition_Obesity": 0,
         "Condition_Heart": 1,
         "Condition_Organ": 0,
         "County_Cases": 0.119295433,
         "County_Cases2wk": 0.002287544,
         "Male": 0,
         "Race": 1,
         "Age": 69,
         "PS_Index": 0.333333343,
         "Natural_Science_Literacy": 1,
         "College_Degree": 0,
         "Pandemic_Impact": 5.5,
         "Pandemic_Impact_Network": 6,
         "Infected_Personal": 0,
         "Infected_Network": 1,
         "Biden": "No",
         "Trump": "Yes",
         "Party_ID": "Republican",
         "Household_Income": 6,
         "Vaccine_Required": 0,
         "Evangelical": 0,
         "Vaccine_Hesitant": 0,
         "_deepnote_index_column": 2
        },
        {
         "County_Density": 26.91291732,
         "Vaccine_Trust_Index": 4,
         "Personal_Responsibility": 7,
         "Trust_Science_Apolitical": 6,
         "Trust_Science_Politicians": 6,
         "Trust_Science_Media": 4,
         "Trust_Science_Community": 6,
         "Trust_National": 6,
         "Trust_State": 6,
         "Trust_Local": 6,
         "Trust_Media": 5,
         "Perceived_Risk": 6,
         "Perceived_Network_Risk": 3,
         "Doctor_Comfort": 7,
         "Fear_Needles": 2,
         "Condition_Pregnancy": 0,
         "Condition_Asthma": 0,
         "Condition_Lung": 1,
         "Condition_Diabetes": 0,
         "Condition_Immune": 0,
         "Condition_Obesity": 0,
         "Condition_Heart": 0,
         "Condition_Organ": 0,
         "County_Cases": 0.056908809,
         "County_Cases2wk": 0.001454703,
         "Male": 0,
         "Race": 1,
         "Age": 64,
         "PS_Index": 0.5,
         "Natural_Science_Literacy": 0.833333313,
         "College_Degree": 0,
         "Pandemic_Impact": 6,
         "Pandemic_Impact_Network": 7,
         "Infected_Personal": 0,
         "Infected_Network": 0,
         "Biden": "Yes",
         "Trump": "No",
         "Party_ID": "Democrat",
         "Household_Income": 4,
         "Vaccine_Required": 0,
         "Evangelical": 1,
         "Vaccine_Hesitant": 1,
         "_deepnote_index_column": 3
        },
        {
         "County_Density": 1541.02667,
         "Vaccine_Trust_Index": 7,
         "Personal_Responsibility": 6,
         "Trust_Science_Apolitical": 6,
         "Trust_Science_Politicians": 1,
         "Trust_Science_Media": 2,
         "Trust_Science_Community": 6,
         "Trust_National": 6,
         "Trust_State": 2,
         "Trust_Local": 7,
         "Trust_Media": 4,
         "Perceived_Risk": 8,
         "Perceived_Network_Risk": 8,
         "Doctor_Comfort": 8,
         "Fear_Needles": 0,
         "Condition_Pregnancy": 0,
         "Condition_Asthma": 0,
         "Condition_Lung": 0,
         "Condition_Diabetes": 0,
         "Condition_Immune": 0,
         "Condition_Obesity": 0,
         "Condition_Heart": 0,
         "Condition_Organ": 0,
         "County_Cases": 0.082677923,
         "County_Cases2wk": 0.001198414,
         "Male": 1,
         "Race": 1,
         "Age": 56,
         "PS_Index": 0.333333343,
         "Natural_Science_Literacy": 0.833333313,
         "College_Degree": 1,
         "Pandemic_Impact": 2.5,
         "Pandemic_Impact_Network": 2.5,
         "Infected_Personal": 0,
         "Infected_Network": 1,
         "Biden": "Yes",
         "Trump": "Yes",
         "Party_ID": "Republican",
         "Household_Income": 3,
         "Vaccine_Required": 0,
         "Evangelical": 1,
         "Vaccine_Hesitant": 0,
         "_deepnote_index_column": 4
        },
        {
         "County_Density": 284.088504,
         "Vaccine_Trust_Index": 9.666666985,
         "Personal_Responsibility": 7,
         "Trust_Science_Apolitical": 6,
         "Trust_Science_Politicians": 0,
         "Trust_Science_Media": 6,
         "Trust_Science_Community": 8,
         "Trust_National": 3,
         "Trust_State": 4,
         "Trust_Local": 5,
         "Trust_Media": 7,
         "Perceived_Risk": 7,
         "Perceived_Network_Risk": 7,
         "Doctor_Comfort": 10,
         "Fear_Needles": 0,
         "Condition_Pregnancy": 0,
         "Condition_Asthma": 0,
         "Condition_Lung": 0,
         "Condition_Diabetes": 0,
         "Condition_Immune": 0,
         "Condition_Obesity": 0,
         "Condition_Heart": 0,
         "Condition_Organ": 0,
         "County_Cases": 0.083817966,
         "County_Cases2wk": 0.00375585,
         "Male": 1,
         "Race": 1,
         "Age": 68,
         "PS_Index": 0.333333343,
         "Natural_Science_Literacy": 0.833333313,
         "College_Degree": 0,
         "Pandemic_Impact": 5,
         "Pandemic_Impact_Network": 5,
         "Infected_Personal": 0,
         "Infected_Network": 0,
         "Biden": "Yes",
         "Trump": "No",
         "Party_ID": "Democrat",
         "Household_Income": 12,
         "Vaccine_Required": 0,
         "Evangelical": 0,
         "Vaccine_Hesitant": 0,
         "_deepnote_index_column": 5
        },
        {
         "County_Density": 1351.009895,
         "Vaccine_Trust_Index": 5.333333492,
         "Personal_Responsibility": 10,
         "Trust_Science_Apolitical": 5,
         "Trust_Science_Politicians": 5,
         "Trust_Science_Media": 0,
         "Trust_Science_Community": 6,
         "Trust_National": 5,
         "Trust_State": 7,
         "Trust_Local": 8,
         "Trust_Media": 0,
         "Perceived_Risk": 5,
         "Perceived_Network_Risk": 8,
         "Doctor_Comfort": 10,
         "Fear_Needles": 5,
         "Condition_Pregnancy": 0,
         "Condition_Asthma": 0,
         "Condition_Lung": 0,
         "Condition_Diabetes": 0,
         "Condition_Immune": 0,
         "Condition_Obesity": 0,
         "Condition_Heart": 0,
         "Condition_Organ": 0,
         "County_Cases": 0.07317134,
         "County_Cases2wk": 0.00234373,
         "Male": 0,
         "Race": 1,
         "Age": 62,
         "PS_Index": 0.5,
         "Natural_Science_Literacy": 0.5,
         "College_Degree": 0,
         "Pandemic_Impact": 4.5,
         "Pandemic_Impact_Network": 5,
         "Infected_Personal": 0,
         "Infected_Network": 0,
         "Biden": "Yes",
         "Trump": "No",
         "Party_ID": "Independent",
         "Household_Income": 4,
         "Vaccine_Required": 0,
         "Evangelical": 0,
         "Vaccine_Hesitant": 1,
         "_deepnote_index_column": 6
        },
        {
         "County_Density": 363.7218004,
         "Vaccine_Trust_Index": 6,
         "Personal_Responsibility": 5,
         "Trust_Science_Apolitical": 5,
         "Trust_Science_Politicians": 2,
         "Trust_Science_Media": 3,
         "Trust_Science_Community": 5,
         "Trust_National": 5,
         "Trust_State": 5,
         "Trust_Local": 5,
         "Trust_Media": 5,
         "Perceived_Risk": 9,
         "Perceived_Network_Risk": 8,
         "Doctor_Comfort": 7,
         "Fear_Needles": 1,
         "Condition_Pregnancy": 0,
         "Condition_Asthma": 0,
         "Condition_Lung": 0,
         "Condition_Diabetes": 0,
         "Condition_Immune": 0,
         "Condition_Obesity": 0,
         "Condition_Heart": 0,
         "Condition_Organ": 0,
         "County_Cases": 0.099920772,
         "County_Cases2wk": 0.005953316,
         "Male": 0,
         "Race": 1,
         "Age": 62,
         "PS_Index": 0.166666672,
         "Natural_Science_Literacy": 0.666666687,
         "College_Degree": 1,
         "Pandemic_Impact": 2.5,
         "Pandemic_Impact_Network": 2.5,
         "Infected_Personal": 0,
         "Infected_Network": 1,
         "Biden": "No",
         "Trump": "Yes",
         "Party_ID": "Independent",
         "Household_Income": 12,
         "Vaccine_Required": 0,
         "Evangelical": 0,
         "Vaccine_Hesitant": 0,
         "_deepnote_index_column": 7
        },
        {
         "County_Density": 861.2850078,
         "Vaccine_Trust_Index": 9.666666985,
         "Personal_Responsibility": 9,
         "Trust_Science_Apolitical": 10,
         "Trust_Science_Politicians": 9,
         "Trust_Science_Media": 10,
         "Trust_Science_Community": 10,
         "Trust_National": 8,
         "Trust_State": 8,
         "Trust_Local": 8,
         "Trust_Media": 8,
         "Perceived_Risk": 10,
         "Perceived_Network_Risk": 10,
         "Doctor_Comfort": 10,
         "Fear_Needles": 0,
         "Condition_Pregnancy": 0,
         "Condition_Asthma": 0,
         "Condition_Lung": 0,
         "Condition_Diabetes": 0,
         "Condition_Immune": 0,
         "Condition_Obesity": 0,
         "Condition_Heart": 0,
         "Condition_Organ": 0,
         "County_Cases": 0.081679314,
         "County_Cases2wk": 0.001687606,
         "Male": 0,
         "Race": 1,
         "Age": 73,
         "PS_Index": 0.5,
         "Natural_Science_Literacy": 1,
         "College_Degree": 1,
         "Pandemic_Impact": 5,
         "Pandemic_Impact_Network": 4,
         "Infected_Personal": 0,
         "Infected_Network": 0,
         "Biden": "Yes",
         "Trump": "No",
         "Party_ID": "Democrat",
         "Household_Income": 2,
         "Vaccine_Required": 0,
         "Evangelical": 0,
         "Vaccine_Hesitant": 0,
         "_deepnote_index_column": 8
        },
        {
         "County_Density": 1042.130651,
         "Vaccine_Trust_Index": 10,
         "Personal_Responsibility": 10,
         "Trust_Science_Apolitical": 5,
         "Trust_Science_Politicians": 0,
         "Trust_Science_Media": 0,
         "Trust_Science_Community": 5,
         "Trust_National": 1,
         "Trust_State": 9,
         "Trust_Local": 3,
         "Trust_Media": 0,
         "Perceived_Risk": 6,
         "Perceived_Network_Risk": 8,
         "Doctor_Comfort": 10,
         "Fear_Needles": 0,
         "Condition_Pregnancy": 0,
         "Condition_Asthma": 0,
         "Condition_Lung": 0,
         "Condition_Diabetes": 0,
         "Condition_Immune": 0,
         "Condition_Obesity": 0,
         "Condition_Heart": 0,
         "Condition_Organ": 0,
         "County_Cases": 0.077145733,
         "County_Cases2wk": 0.003394008,
         "Male": 1,
         "Race": 1,
         "Age": 64,
         "PS_Index": 0.333333343,
         "Natural_Science_Literacy": 1,
         "College_Degree": 1,
         "Pandemic_Impact": 4.5,
         "Pandemic_Impact_Network": 1.5,
         "Infected_Personal": 0,
         "Infected_Network": 0,
         "Biden": "No",
         "Trump": "Yes",
         "Party_ID": "Republican",
         "Household_Income": 7,
         "Vaccine_Required": 0,
         "Evangelical": 0,
         "Vaccine_Hesitant": 0,
         "_deepnote_index_column": 9
        }
       ]
      },
      "text/plain": "      County_Density  Vaccine_Trust_Index  Personal_Responsibility  \\\n0         137.851795             0.000000                     10.0   \n1          38.751406             9.000000                      5.0   \n2          18.103752             8.666667                      7.0   \n3          26.912917             4.000000                      7.0   \n4        1541.026670             7.000000                      6.0   \n...              ...                  ...                      ...   \n3348      470.033815             1.666667                      8.0   \n3349      225.323560             9.333333                      2.0   \n3350      108.474026             9.000000                      8.0   \n3351       63.385677             9.333333                      5.0   \n3352      599.558111             9.000000                     10.0   \n\n      Trust_Science_Apolitical  Trust_Science_Politicians  \\\n0                          5.0                        5.0   \n1                          8.0                        4.0   \n2                          6.0                        1.0   \n3                          6.0                        6.0   \n4                          6.0                        1.0   \n...                        ...                        ...   \n3348                       0.0                        0.0   \n3349                       9.0                        1.0   \n3350                       6.0                        3.0   \n3351                       5.0                        4.0   \n3352                       1.0                        0.0   \n\n      Trust_Science_Media  Trust_Science_Community  Trust_National  \\\n0                     5.0                      5.0             5.0   \n1                     6.0                      9.0             8.0   \n2                     1.0                      6.0             7.0   \n3                     4.0                      6.0             6.0   \n4                     2.0                      6.0             6.0   \n...                   ...                      ...             ...   \n3348                  0.0                      0.0             2.0   \n3349                  8.0                      9.0             6.0   \n3350                  3.0                      5.0             6.0   \n3351                  6.0                      9.0             8.0   \n3352                  0.0                     10.0             9.0   \n\n      Trust_State  Trust_Local  ...  Pandemic_Impact_Network  \\\n0             5.0          5.0  ...                      0.0   \n1             2.0          7.0  ...                      5.0   \n2             7.0          9.0  ...                      6.0   \n3             6.0          6.0  ...                      7.0   \n4             2.0          7.0  ...                      2.5   \n...           ...          ...  ...                      ...   \n3348          2.0          4.0  ...                      7.5   \n3349          7.0          7.0  ...                      3.5   \n3350          7.0          6.0  ...                      6.0   \n3351          8.0          7.0  ...                      3.5   \n3352          9.0         10.0  ...                      9.0   \n\n      Infected_Personal  Infected_Network  Biden  Trump     Party_ID  \\\n0                   0.0               0.0     No    Yes   Republican   \n1                   0.0               0.0    Yes     No     Democrat   \n2                   0.0               1.0     No    Yes   Republican   \n3                   0.0               0.0    Yes     No     Democrat   \n4                   0.0               1.0    Yes    Yes   Republican   \n...                 ...               ...    ...    ...          ...   \n3348                0.0               0.0     No    Yes  Independent   \n3349                0.0               1.0    Yes     No   Republican   \n3350                0.0               0.0     No    Yes   Republican   \n3351                0.0               1.0    Yes     No     Democrat   \n3352                1.0               1.0     No    Yes   Republican   \n\n      Household_Income  Vaccine_Required  Evangelical  Vaccine_Hesitant  \n0                  1.0                 0          1.0                 1  \n1                  3.0                 0          0.0                 0  \n2                  6.0                 0          0.0                 0  \n3                  4.0                 0          1.0                 1  \n4                  3.0                 0          1.0                 0  \n...                ...               ...          ...               ...  \n3348               8.0                 0          1.0                 1  \n3349               2.0                 0          0.0                 0  \n3350               2.0                 1          0.0                 0  \n3351              12.0                 1          0.0                 0  \n3352               5.0                 0          1.0                 1  \n\n[3353 rows x 42 columns]",
      "text/html": "<div>\n<style scoped>\n    .dataframe tbody tr th:only-of-type {\n        vertical-align: middle;\n    }\n\n    .dataframe tbody tr th {\n        vertical-align: top;\n    }\n\n    .dataframe thead th {\n        text-align: right;\n    }\n</style>\n<table border=\"1\" class=\"dataframe\">\n  <thead>\n    <tr style=\"text-align: right;\">\n      <th></th>\n      <th>County_Density</th>\n      <th>Vaccine_Trust_Index</th>\n      <th>Personal_Responsibility</th>\n      <th>Trust_Science_Apolitical</th>\n      <th>Trust_Science_Politicians</th>\n      <th>Trust_Science_Media</th>\n      <th>Trust_Science_Community</th>\n      <th>Trust_National</th>\n      <th>Trust_State</th>\n      <th>Trust_Local</th>\n      <th>...</th>\n      <th>Pandemic_Impact_Network</th>\n      <th>Infected_Personal</th>\n      <th>Infected_Network</th>\n      <th>Biden</th>\n      <th>Trump</th>\n      <th>Party_ID</th>\n      <th>Household_Income</th>\n      <th>Vaccine_Required</th>\n      <th>Evangelical</th>\n      <th>Vaccine_Hesitant</th>\n    </tr>\n  </thead>\n  <tbody>\n    <tr>\n      <th>0</th>\n      <td>137.851795</td>\n      <td>0.000000</td>\n      <td>10.0</td>\n      <td>5.0</td>\n      <td>5.0</td>\n      <td>5.0</td>\n      <td>5.0</td>\n      <td>5.0</td>\n      <td>5.0</td>\n      <td>5.0</td>\n      <td>...</td>\n      <td>0.0</td>\n      <td>0.0</td>\n      <td>0.0</td>\n      <td>No</td>\n      <td>Yes</td>\n      <td>Republican</td>\n      <td>1.0</td>\n      <td>0</td>\n      <td>1.0</td>\n      <td>1</td>\n    </tr>\n    <tr>\n      <th>1</th>\n      <td>38.751406</td>\n      <td>9.000000</td>\n      <td>5.0</td>\n      <td>8.0</td>\n      <td>4.0</td>\n      <td>6.0</td>\n      <td>9.0</td>\n      <td>8.0</td>\n      <td>2.0</td>\n      <td>7.0</td>\n      <td>...</td>\n      <td>5.0</td>\n      <td>0.0</td>\n      <td>0.0</td>\n      <td>Yes</td>\n      <td>No</td>\n      <td>Democrat</td>\n      <td>3.0</td>\n      <td>0</td>\n      <td>0.0</td>\n      <td>0</td>\n    </tr>\n    <tr>\n      <th>2</th>\n      <td>18.103752</td>\n      <td>8.666667</td>\n      <td>7.0</td>\n      <td>6.0</td>\n      <td>1.0</td>\n      <td>1.0</td>\n      <td>6.0</td>\n      <td>7.0</td>\n      <td>7.0</td>\n      <td>9.0</td>\n      <td>...</td>\n      <td>6.0</td>\n      <td>0.0</td>\n      <td>1.0</td>\n      <td>No</td>\n      <td>Yes</td>\n      <td>Republican</td>\n      <td>6.0</td>\n      <td>0</td>\n      <td>0.0</td>\n      <td>0</td>\n    </tr>\n    <tr>\n      <th>3</th>\n      <td>26.912917</td>\n      <td>4.000000</td>\n      <td>7.0</td>\n      <td>6.0</td>\n      <td>6.0</td>\n      <td>4.0</td>\n      <td>6.0</td>\n      <td>6.0</td>\n      <td>6.0</td>\n      <td>6.0</td>\n      <td>...</td>\n      <td>7.0</td>\n      <td>0.0</td>\n      <td>0.0</td>\n      <td>Yes</td>\n      <td>No</td>\n      <td>Democrat</td>\n      <td>4.0</td>\n      <td>0</td>\n      <td>1.0</td>\n      <td>1</td>\n    </tr>\n    <tr>\n      <th>4</th>\n      <td>1541.026670</td>\n      <td>7.000000</td>\n      <td>6.0</td>\n      <td>6.0</td>\n      <td>1.0</td>\n      <td>2.0</td>\n      <td>6.0</td>\n      <td>6.0</td>\n      <td>2.0</td>\n      <td>7.0</td>\n      <td>...</td>\n      <td>2.5</td>\n      <td>0.0</td>\n      <td>1.0</td>\n      <td>Yes</td>\n      <td>Yes</td>\n      <td>Republican</td>\n      <td>3.0</td>\n      <td>0</td>\n      <td>1.0</td>\n      <td>0</td>\n    </tr>\n    <tr>\n      <th>...</th>\n      <td>...</td>\n      <td>...</td>\n      <td>...</td>\n      <td>...</td>\n      <td>...</td>\n      <td>...</td>\n      <td>...</td>\n      <td>...</td>\n      <td>...</td>\n      <td>...</td>\n      <td>...</td>\n      <td>...</td>\n      <td>...</td>\n      <td>...</td>\n      <td>...</td>\n      <td>...</td>\n      <td>...</td>\n      <td>...</td>\n      <td>...</td>\n      <td>...</td>\n      <td>...</td>\n    </tr>\n    <tr>\n      <th>3348</th>\n      <td>470.033815</td>\n      <td>1.666667</td>\n      <td>8.0</td>\n      <td>0.0</td>\n      <td>0.0</td>\n      <td>0.0</td>\n      <td>0.0</td>\n      <td>2.0</td>\n      <td>2.0</td>\n      <td>4.0</td>\n      <td>...</td>\n      <td>7.5</td>\n      <td>0.0</td>\n      <td>0.0</td>\n      <td>No</td>\n      <td>Yes</td>\n      <td>Independent</td>\n      <td>8.0</td>\n      <td>0</td>\n      <td>1.0</td>\n      <td>1</td>\n    </tr>\n    <tr>\n      <th>3349</th>\n      <td>225.323560</td>\n      <td>9.333333</td>\n      <td>2.0</td>\n      <td>9.0</td>\n      <td>1.0</td>\n      <td>8.0</td>\n      <td>9.0</td>\n      <td>6.0</td>\n      <td>7.0</td>\n      <td>7.0</td>\n      <td>...</td>\n      <td>3.5</td>\n      <td>0.0</td>\n      <td>1.0</td>\n      <td>Yes</td>\n      <td>No</td>\n      <td>Republican</td>\n      <td>2.0</td>\n      <td>0</td>\n      <td>0.0</td>\n      <td>0</td>\n    </tr>\n    <tr>\n      <th>3350</th>\n      <td>108.474026</td>\n      <td>9.000000</td>\n      <td>8.0</td>\n      <td>6.0</td>\n      <td>3.0</td>\n      <td>3.0</td>\n      <td>5.0</td>\n      <td>6.0</td>\n      <td>7.0</td>\n      <td>6.0</td>\n      <td>...</td>\n      <td>6.0</td>\n      <td>0.0</td>\n      <td>0.0</td>\n      <td>No</td>\n      <td>Yes</td>\n      <td>Republican</td>\n      <td>2.0</td>\n      <td>1</td>\n      <td>0.0</td>\n      <td>0</td>\n    </tr>\n    <tr>\n      <th>3351</th>\n      <td>63.385677</td>\n      <td>9.333333</td>\n      <td>5.0</td>\n      <td>5.0</td>\n      <td>4.0</td>\n      <td>6.0</td>\n      <td>9.0</td>\n      <td>8.0</td>\n      <td>8.0</td>\n      <td>7.0</td>\n      <td>...</td>\n      <td>3.5</td>\n      <td>0.0</td>\n      <td>1.0</td>\n      <td>Yes</td>\n      <td>No</td>\n      <td>Democrat</td>\n      <td>12.0</td>\n      <td>1</td>\n      <td>0.0</td>\n      <td>0</td>\n    </tr>\n    <tr>\n      <th>3352</th>\n      <td>599.558111</td>\n      <td>9.000000</td>\n      <td>10.0</td>\n      <td>1.0</td>\n      <td>0.0</td>\n      <td>0.0</td>\n      <td>10.0</td>\n      <td>9.0</td>\n      <td>9.0</td>\n      <td>10.0</td>\n      <td>...</td>\n      <td>9.0</td>\n      <td>1.0</td>\n      <td>1.0</td>\n      <td>No</td>\n      <td>Yes</td>\n      <td>Republican</td>\n      <td>5.0</td>\n      <td>0</td>\n      <td>1.0</td>\n      <td>1</td>\n    </tr>\n  </tbody>\n</table>\n<p>3353 rows × 42 columns</p>\n</div>"
     },
     "metadata": {}
    }
   ]
  },
  {
   "cell_type": "markdown",
   "source": "Because there are some string in the data, using replace to replace the string",
   "metadata": {
    "cell_id": "0eb05bf515e047b18c3347472519004e",
    "tags": [],
    "deepnote_cell_type": "markdown",
    "deepnote_cell_height": 52.390625
   }
  },
  {
   "cell_type": "code",
   "metadata": {
    "cell_id": "1226abdf9807429e8e15bea1127f0ab0",
    "tags": [],
    "deepnote_to_be_reexecuted": false,
    "source_hash": "ec74c9f3",
    "execution_start": 1654736860797,
    "execution_millis": 352,
    "deepnote_cell_type": "code",
    "deepnote_cell_height": 636
   },
   "source": "df = df.replace({\"No\":0,\"Yes\":1,\"Republican\":0,\"Democrat\":1,\"Independent\":2,\"Libertarian\":3,'Other party':4})\n\ndf",
   "execution_count": null,
   "outputs": [
    {
     "output_type": "execute_result",
     "execution_count": 5,
     "data": {
      "application/vnd.deepnote.dataframe.v3+json": {
       "column_count": 42,
       "row_count": 3353,
       "columns": [
        {
         "name": "County_Density",
         "dtype": "float64",
         "stats": {
          "unique_count": 1169,
          "nan_count": 0,
          "min": "0.928097868",
          "max": "27819.8048",
          "histogram": [
           {
            "bin_start": 0.928097868,
            "bin_end": 2782.8157680812,
            "count": 3211
           },
           {
            "bin_start": 2782.8157680812,
            "bin_end": 5564.7034382944,
            "count": 48
           },
           {
            "bin_start": 5564.7034382944,
            "bin_end": 8346.5911085076,
            "count": 41
           },
           {
            "bin_start": 8346.5911085076,
            "bin_end": 11128.4787787208,
            "count": 0
           },
           {
            "bin_start": 11128.4787787208,
            "bin_end": 13910.366448934,
            "count": 9
           },
           {
            "bin_start": 13910.366448934,
            "bin_end": 16692.2541191472,
            "count": 25
           },
           {
            "bin_start": 16692.2541191472,
            "bin_end": 19474.1417893604,
            "count": 0
           },
           {
            "bin_start": 19474.1417893604,
            "bin_end": 22256.0294595736,
            "count": 0
           },
           {
            "bin_start": 22256.0294595736,
            "bin_end": 25037.9171297868,
            "count": 0
           },
           {
            "bin_start": 25037.9171297868,
            "bin_end": 27819.8048,
            "count": 19
           }
          ]
         }
        },
        {
         "name": "Vaccine_Trust_Index",
         "dtype": "float64",
         "stats": {
          "unique_count": 36,
          "nan_count": 0,
          "min": "0.0",
          "max": "10.0",
          "histogram": [
           {
            "bin_start": 0,
            "bin_end": 1,
            "count": 97
           },
           {
            "bin_start": 1,
            "bin_end": 2,
            "count": 67
           },
           {
            "bin_start": 2,
            "bin_end": 3,
            "count": 75
           },
           {
            "bin_start": 3,
            "bin_end": 4,
            "count": 108
           },
           {
            "bin_start": 4,
            "bin_end": 5,
            "count": 138
           },
           {
            "bin_start": 5,
            "bin_end": 6,
            "count": 223
           },
           {
            "bin_start": 6,
            "bin_end": 7,
            "count": 251
           },
           {
            "bin_start": 7,
            "bin_end": 8,
            "count": 342
           },
           {
            "bin_start": 8,
            "bin_end": 9,
            "count": 619
           },
           {
            "bin_start": 9,
            "bin_end": 10,
            "count": 1433
           }
          ]
         }
        },
        {
         "name": "Personal_Responsibility",
         "dtype": "float64",
         "stats": {
          "unique_count": 11,
          "nan_count": 0,
          "min": "0.0",
          "max": "10.0",
          "histogram": [
           {
            "bin_start": 0,
            "bin_end": 1,
            "count": 45
           },
           {
            "bin_start": 1,
            "bin_end": 2,
            "count": 48
           },
           {
            "bin_start": 2,
            "bin_end": 3,
            "count": 100
           },
           {
            "bin_start": 3,
            "bin_end": 4,
            "count": 134
           },
           {
            "bin_start": 4,
            "bin_end": 5,
            "count": 134
           },
           {
            "bin_start": 5,
            "bin_end": 6,
            "count": 476
           },
           {
            "bin_start": 6,
            "bin_end": 7,
            "count": 342
           },
           {
            "bin_start": 7,
            "bin_end": 8,
            "count": 456
           },
           {
            "bin_start": 8,
            "bin_end": 9,
            "count": 508
           },
           {
            "bin_start": 9,
            "bin_end": 10,
            "count": 1110
           }
          ]
         }
        },
        {
         "name": "Trust_Science_Apolitical",
         "dtype": "float64",
         "stats": {
          "unique_count": 11,
          "nan_count": 0,
          "min": "0.0",
          "max": "10.0",
          "histogram": [
           {
            "bin_start": 0,
            "bin_end": 1,
            "count": 219
           },
           {
            "bin_start": 1,
            "bin_end": 2,
            "count": 129
           },
           {
            "bin_start": 2,
            "bin_end": 3,
            "count": 214
           },
           {
            "bin_start": 3,
            "bin_end": 4,
            "count": 293
           },
           {
            "bin_start": 4,
            "bin_end": 5,
            "count": 323
           },
           {
            "bin_start": 5,
            "bin_end": 6,
            "count": 555
           },
           {
            "bin_start": 6,
            "bin_end": 7,
            "count": 387
           },
           {
            "bin_start": 7,
            "bin_end": 8,
            "count": 323
           },
           {
            "bin_start": 8,
            "bin_end": 9,
            "count": 302
           },
           {
            "bin_start": 9,
            "bin_end": 10,
            "count": 608
           }
          ]
         }
        },
        {
         "name": "Trust_Science_Politicians",
         "dtype": "float64",
         "stats": {
          "unique_count": 11,
          "nan_count": 0,
          "min": "0.0",
          "max": "10.0",
          "histogram": [
           {
            "bin_start": 0,
            "bin_end": 1,
            "count": 988
           },
           {
            "bin_start": 1,
            "bin_end": 2,
            "count": 455
           },
           {
            "bin_start": 2,
            "bin_end": 3,
            "count": 510
           },
           {
            "bin_start": 3,
            "bin_end": 4,
            "count": 450
           },
           {
            "bin_start": 4,
            "bin_end": 5,
            "count": 378
           },
           {
            "bin_start": 5,
            "bin_end": 6,
            "count": 319
           },
           {
            "bin_start": 6,
            "bin_end": 7,
            "count": 90
           },
           {
            "bin_start": 7,
            "bin_end": 8,
            "count": 65
           },
           {
            "bin_start": 8,
            "bin_end": 9,
            "count": 44
           },
           {
            "bin_start": 9,
            "bin_end": 10,
            "count": 54
           }
          ]
         }
        },
        {
         "name": "Trust_Science_Media",
         "dtype": "float64",
         "stats": {
          "unique_count": 11,
          "nan_count": 0,
          "min": "0.0",
          "max": "10.0",
          "histogram": [
           {
            "bin_start": 0,
            "bin_end": 1,
            "count": 789
           },
           {
            "bin_start": 1,
            "bin_end": 2,
            "count": 253
           },
           {
            "bin_start": 2,
            "bin_end": 3,
            "count": 317
           },
           {
            "bin_start": 3,
            "bin_end": 4,
            "count": 317
           },
           {
            "bin_start": 4,
            "bin_end": 5,
            "count": 386
           },
           {
            "bin_start": 5,
            "bin_end": 6,
            "count": 478
           },
           {
            "bin_start": 6,
            "bin_end": 7,
            "count": 227
           },
           {
            "bin_start": 7,
            "bin_end": 8,
            "count": 175
           },
           {
            "bin_start": 8,
            "bin_end": 9,
            "count": 154
           },
           {
            "bin_start": 9,
            "bin_end": 10,
            "count": 257
           }
          ]
         }
        },
        {
         "name": "Trust_Science_Community",
         "dtype": "float64",
         "stats": {
          "unique_count": 11,
          "nan_count": 0,
          "min": "0.0",
          "max": "10.0",
          "histogram": [
           {
            "bin_start": 0,
            "bin_end": 1,
            "count": 108
           },
           {
            "bin_start": 1,
            "bin_end": 2,
            "count": 68
           },
           {
            "bin_start": 2,
            "bin_end": 3,
            "count": 99
           },
           {
            "bin_start": 3,
            "bin_end": 4,
            "count": 145
           },
           {
            "bin_start": 4,
            "bin_end": 5,
            "count": 204
           },
           {
            "bin_start": 5,
            "bin_end": 6,
            "count": 477
           },
           {
            "bin_start": 6,
            "bin_end": 7,
            "count": 430
           },
           {
            "bin_start": 7,
            "bin_end": 8,
            "count": 507
           },
           {
            "bin_start": 8,
            "bin_end": 9,
            "count": 488
           },
           {
            "bin_start": 9,
            "bin_end": 10,
            "count": 827
           }
          ]
         }
        },
        {
         "name": "Trust_National",
         "dtype": "float64",
         "stats": {
          "unique_count": 11,
          "nan_count": 0,
          "min": "0.0",
          "max": "10.0",
          "histogram": [
           {
            "bin_start": 0,
            "bin_end": 1,
            "count": 211
           },
           {
            "bin_start": 1,
            "bin_end": 2,
            "count": 140
           },
           {
            "bin_start": 2,
            "bin_end": 3,
            "count": 191
           },
           {
            "bin_start": 3,
            "bin_end": 4,
            "count": 267
           },
           {
            "bin_start": 4,
            "bin_end": 5,
            "count": 318
           },
           {
            "bin_start": 5,
            "bin_end": 6,
            "count": 721
           },
           {
            "bin_start": 6,
            "bin_end": 7,
            "count": 472
           },
           {
            "bin_start": 7,
            "bin_end": 8,
            "count": 469
           },
           {
            "bin_start": 8,
            "bin_end": 9,
            "count": 374
           },
           {
            "bin_start": 9,
            "bin_end": 10,
            "count": 190
           }
          ]
         }
        },
        {
         "name": "Trust_State",
         "dtype": "float64",
         "stats": {
          "unique_count": 11,
          "nan_count": 0,
          "min": "0.0",
          "max": "10.0",
          "histogram": [
           {
            "bin_start": 0,
            "bin_end": 1,
            "count": 196
           },
           {
            "bin_start": 1,
            "bin_end": 2,
            "count": 123
           },
           {
            "bin_start": 2,
            "bin_end": 3,
            "count": 176
           },
           {
            "bin_start": 3,
            "bin_end": 4,
            "count": 188
           },
           {
            "bin_start": 4,
            "bin_end": 5,
            "count": 255
           },
           {
            "bin_start": 5,
            "bin_end": 6,
            "count": 598
           },
           {
            "bin_start": 6,
            "bin_end": 7,
            "count": 439
           },
           {
            "bin_start": 7,
            "bin_end": 8,
            "count": 529
           },
           {
            "bin_start": 8,
            "bin_end": 9,
            "count": 531
           },
           {
            "bin_start": 9,
            "bin_end": 10,
            "count": 318
           }
          ]
         }
        },
        {
         "name": "Trust_Local",
         "dtype": "float64",
         "stats": {
          "unique_count": 11,
          "nan_count": 0,
          "min": "0.0",
          "max": "10.0",
          "histogram": [
           {
            "bin_start": 0,
            "bin_end": 1,
            "count": 112
           },
           {
            "bin_start": 1,
            "bin_end": 2,
            "count": 59
           },
           {
            "bin_start": 2,
            "bin_end": 3,
            "count": 105
           },
           {
            "bin_start": 3,
            "bin_end": 4,
            "count": 140
           },
           {
            "bin_start": 4,
            "bin_end": 5,
            "count": 234
           },
           {
            "bin_start": 5,
            "bin_end": 6,
            "count": 659
           },
           {
            "bin_start": 6,
            "bin_end": 7,
            "count": 448
           },
           {
            "bin_start": 7,
            "bin_end": 8,
            "count": 626
           },
           {
            "bin_start": 8,
            "bin_end": 9,
            "count": 604
           },
           {
            "bin_start": 9,
            "bin_end": 10,
            "count": 366
           }
          ]
         }
        },
        {
         "name": "Trust_Media",
         "dtype": "float64",
         "stats": {
          "unique_count": 11,
          "nan_count": 0,
          "min": "0.0",
          "max": "10.0",
          "histogram": [
           {
            "bin_start": 0,
            "bin_end": 1,
            "count": 545
           },
           {
            "bin_start": 1,
            "bin_end": 2,
            "count": 276
           },
           {
            "bin_start": 2,
            "bin_end": 3,
            "count": 240
           },
           {
            "bin_start": 3,
            "bin_end": 4,
            "count": 199
           },
           {
            "bin_start": 4,
            "bin_end": 5,
            "count": 197
           },
           {
            "bin_start": 5,
            "bin_end": 6,
            "count": 524
           },
           {
            "bin_start": 6,
            "bin_end": 7,
            "count": 321
           },
           {
            "bin_start": 7,
            "bin_end": 8,
            "count": 449
           },
           {
            "bin_start": 8,
            "bin_end": 9,
            "count": 370
           },
           {
            "bin_start": 9,
            "bin_end": 10,
            "count": 232
           }
          ]
         }
        },
        {
         "name": "Perceived_Risk",
         "dtype": "float64",
         "stats": {
          "unique_count": 11,
          "nan_count": 0,
          "min": "0.0",
          "max": "10.0",
          "histogram": [
           {
            "bin_start": 0,
            "bin_end": 1,
            "count": 262
           },
           {
            "bin_start": 1,
            "bin_end": 2,
            "count": 180
           },
           {
            "bin_start": 2,
            "bin_end": 3,
            "count": 153
           },
           {
            "bin_start": 3,
            "bin_end": 4,
            "count": 139
           },
           {
            "bin_start": 4,
            "bin_end": 5,
            "count": 133
           },
           {
            "bin_start": 5,
            "bin_end": 6,
            "count": 311
           },
           {
            "bin_start": 6,
            "bin_end": 7,
            "count": 175
           },
           {
            "bin_start": 7,
            "bin_end": 8,
            "count": 226
           },
           {
            "bin_start": 8,
            "bin_end": 9,
            "count": 344
           },
           {
            "bin_start": 9,
            "bin_end": 10,
            "count": 1430
           }
          ]
         }
        },
        {
         "name": "Perceived_Network_Risk",
         "dtype": "float64",
         "stats": {
          "unique_count": 11,
          "nan_count": 0,
          "min": "0.0",
          "max": "10.0",
          "histogram": [
           {
            "bin_start": 0,
            "bin_end": 1,
            "count": 229
           },
           {
            "bin_start": 1,
            "bin_end": 2,
            "count": 161
           },
           {
            "bin_start": 2,
            "bin_end": 3,
            "count": 125
           },
           {
            "bin_start": 3,
            "bin_end": 4,
            "count": 117
           },
           {
            "bin_start": 4,
            "bin_end": 5,
            "count": 112
           },
           {
            "bin_start": 5,
            "bin_end": 6,
            "count": 323
           },
           {
            "bin_start": 6,
            "bin_end": 7,
            "count": 199
           },
           {
            "bin_start": 7,
            "bin_end": 8,
            "count": 270
           },
           {
            "bin_start": 8,
            "bin_end": 9,
            "count": 374
           },
           {
            "bin_start": 9,
            "bin_end": 10,
            "count": 1443
           }
          ]
         }
        },
        {
         "name": "Doctor_Comfort",
         "dtype": "float64",
         "stats": {
          "unique_count": 11,
          "nan_count": 0,
          "min": "0.0",
          "max": "10.0",
          "histogram": [
           {
            "bin_start": 0,
            "bin_end": 1,
            "count": 45
           },
           {
            "bin_start": 1,
            "bin_end": 2,
            "count": 37
           },
           {
            "bin_start": 2,
            "bin_end": 3,
            "count": 37
           },
           {
            "bin_start": 3,
            "bin_end": 4,
            "count": 44
           },
           {
            "bin_start": 4,
            "bin_end": 5,
            "count": 54
           },
           {
            "bin_start": 5,
            "bin_end": 6,
            "count": 183
           },
           {
            "bin_start": 6,
            "bin_end": 7,
            "count": 161
           },
           {
            "bin_start": 7,
            "bin_end": 8,
            "count": 251
           },
           {
            "bin_start": 8,
            "bin_end": 9,
            "count": 422
           },
           {
            "bin_start": 9,
            "bin_end": 10,
            "count": 2119
           }
          ]
         }
        },
        {
         "name": "Fear_Needles",
         "dtype": "float64",
         "stats": {
          "unique_count": 11,
          "nan_count": 0,
          "min": "0.0",
          "max": "10.0",
          "histogram": [
           {
            "bin_start": 0,
            "bin_end": 1,
            "count": 1588
           },
           {
            "bin_start": 1,
            "bin_end": 2,
            "count": 390
           },
           {
            "bin_start": 2,
            "bin_end": 3,
            "count": 245
           },
           {
            "bin_start": 3,
            "bin_end": 4,
            "count": 156
           },
           {
            "bin_start": 4,
            "bin_end": 5,
            "count": 109
           },
           {
            "bin_start": 5,
            "bin_end": 6,
            "count": 199
           },
           {
            "bin_start": 6,
            "bin_end": 7,
            "count": 146
           },
           {
            "bin_start": 7,
            "bin_end": 8,
            "count": 143
           },
           {
            "bin_start": 8,
            "bin_end": 9,
            "count": 104
           },
           {
            "bin_start": 9,
            "bin_end": 10,
            "count": 273
           }
          ]
         }
        },
        {
         "name": "Condition_Pregnancy",
         "dtype": "float64",
         "stats": {
          "unique_count": 2,
          "nan_count": 0,
          "min": "0.0",
          "max": "1.0",
          "histogram": [
           {
            "bin_start": 0,
            "bin_end": 0.1,
            "count": 3341
           },
           {
            "bin_start": 0.1,
            "bin_end": 0.2,
            "count": 0
           },
           {
            "bin_start": 0.2,
            "bin_end": 0.30000000000000004,
            "count": 0
           },
           {
            "bin_start": 0.30000000000000004,
            "bin_end": 0.4,
            "count": 0
           },
           {
            "bin_start": 0.4,
            "bin_end": 0.5,
            "count": 0
           },
           {
            "bin_start": 0.5,
            "bin_end": 0.6000000000000001,
            "count": 0
           },
           {
            "bin_start": 0.6000000000000001,
            "bin_end": 0.7000000000000001,
            "count": 0
           },
           {
            "bin_start": 0.7000000000000001,
            "bin_end": 0.8,
            "count": 0
           },
           {
            "bin_start": 0.8,
            "bin_end": 0.9,
            "count": 0
           },
           {
            "bin_start": 0.9,
            "bin_end": 1,
            "count": 12
           }
          ]
         }
        },
        {
         "name": "Condition_Asthma",
         "dtype": "float64",
         "stats": {
          "unique_count": 2,
          "nan_count": 0,
          "min": "0.0",
          "max": "1.0",
          "histogram": [
           {
            "bin_start": 0,
            "bin_end": 0.1,
            "count": 3126
           },
           {
            "bin_start": 0.1,
            "bin_end": 0.2,
            "count": 0
           },
           {
            "bin_start": 0.2,
            "bin_end": 0.30000000000000004,
            "count": 0
           },
           {
            "bin_start": 0.30000000000000004,
            "bin_end": 0.4,
            "count": 0
           },
           {
            "bin_start": 0.4,
            "bin_end": 0.5,
            "count": 0
           },
           {
            "bin_start": 0.5,
            "bin_end": 0.6000000000000001,
            "count": 0
           },
           {
            "bin_start": 0.6000000000000001,
            "bin_end": 0.7000000000000001,
            "count": 0
           },
           {
            "bin_start": 0.7000000000000001,
            "bin_end": 0.8,
            "count": 0
           },
           {
            "bin_start": 0.8,
            "bin_end": 0.9,
            "count": 0
           },
           {
            "bin_start": 0.9,
            "bin_end": 1,
            "count": 227
           }
          ]
         }
        },
        {
         "name": "Condition_Lung",
         "dtype": "float64",
         "stats": {
          "unique_count": 2,
          "nan_count": 0,
          "min": "0.0",
          "max": "1.0",
          "histogram": [
           {
            "bin_start": 0,
            "bin_end": 0.1,
            "count": 3287
           },
           {
            "bin_start": 0.1,
            "bin_end": 0.2,
            "count": 0
           },
           {
            "bin_start": 0.2,
            "bin_end": 0.30000000000000004,
            "count": 0
           },
           {
            "bin_start": 0.30000000000000004,
            "bin_end": 0.4,
            "count": 0
           },
           {
            "bin_start": 0.4,
            "bin_end": 0.5,
            "count": 0
           },
           {
            "bin_start": 0.5,
            "bin_end": 0.6000000000000001,
            "count": 0
           },
           {
            "bin_start": 0.6000000000000001,
            "bin_end": 0.7000000000000001,
            "count": 0
           },
           {
            "bin_start": 0.7000000000000001,
            "bin_end": 0.8,
            "count": 0
           },
           {
            "bin_start": 0.8,
            "bin_end": 0.9,
            "count": 0
           },
           {
            "bin_start": 0.9,
            "bin_end": 1,
            "count": 66
           }
          ]
         }
        },
        {
         "name": "Condition_Diabetes",
         "dtype": "float64",
         "stats": {
          "unique_count": 2,
          "nan_count": 0,
          "min": "0.0",
          "max": "1.0",
          "histogram": [
           {
            "bin_start": 0,
            "bin_end": 0.1,
            "count": 2932
           },
           {
            "bin_start": 0.1,
            "bin_end": 0.2,
            "count": 0
           },
           {
            "bin_start": 0.2,
            "bin_end": 0.30000000000000004,
            "count": 0
           },
           {
            "bin_start": 0.30000000000000004,
            "bin_end": 0.4,
            "count": 0
           },
           {
            "bin_start": 0.4,
            "bin_end": 0.5,
            "count": 0
           },
           {
            "bin_start": 0.5,
            "bin_end": 0.6000000000000001,
            "count": 0
           },
           {
            "bin_start": 0.6000000000000001,
            "bin_end": 0.7000000000000001,
            "count": 0
           },
           {
            "bin_start": 0.7000000000000001,
            "bin_end": 0.8,
            "count": 0
           },
           {
            "bin_start": 0.8,
            "bin_end": 0.9,
            "count": 0
           },
           {
            "bin_start": 0.9,
            "bin_end": 1,
            "count": 421
           }
          ]
         }
        },
        {
         "name": "Condition_Immune",
         "dtype": "float64",
         "stats": {
          "unique_count": 2,
          "nan_count": 0,
          "min": "0.0",
          "max": "1.0",
          "histogram": [
           {
            "bin_start": 0,
            "bin_end": 0.1,
            "count": 3171
           },
           {
            "bin_start": 0.1,
            "bin_end": 0.2,
            "count": 0
           },
           {
            "bin_start": 0.2,
            "bin_end": 0.30000000000000004,
            "count": 0
           },
           {
            "bin_start": 0.30000000000000004,
            "bin_end": 0.4,
            "count": 0
           },
           {
            "bin_start": 0.4,
            "bin_end": 0.5,
            "count": 0
           },
           {
            "bin_start": 0.5,
            "bin_end": 0.6000000000000001,
            "count": 0
           },
           {
            "bin_start": 0.6000000000000001,
            "bin_end": 0.7000000000000001,
            "count": 0
           },
           {
            "bin_start": 0.7000000000000001,
            "bin_end": 0.8,
            "count": 0
           },
           {
            "bin_start": 0.8,
            "bin_end": 0.9,
            "count": 0
           },
           {
            "bin_start": 0.9,
            "bin_end": 1,
            "count": 182
           }
          ]
         }
        },
        {
         "name": "Condition_Obesity",
         "dtype": "float64",
         "stats": {
          "unique_count": 2,
          "nan_count": 0,
          "min": "0.0",
          "max": "1.0",
          "histogram": [
           {
            "bin_start": 0,
            "bin_end": 0.1,
            "count": 3006
           },
           {
            "bin_start": 0.1,
            "bin_end": 0.2,
            "count": 0
           },
           {
            "bin_start": 0.2,
            "bin_end": 0.30000000000000004,
            "count": 0
           },
           {
            "bin_start": 0.30000000000000004,
            "bin_end": 0.4,
            "count": 0
           },
           {
            "bin_start": 0.4,
            "bin_end": 0.5,
            "count": 0
           },
           {
            "bin_start": 0.5,
            "bin_end": 0.6000000000000001,
            "count": 0
           },
           {
            "bin_start": 0.6000000000000001,
            "bin_end": 0.7000000000000001,
            "count": 0
           },
           {
            "bin_start": 0.7000000000000001,
            "bin_end": 0.8,
            "count": 0
           },
           {
            "bin_start": 0.8,
            "bin_end": 0.9,
            "count": 0
           },
           {
            "bin_start": 0.9,
            "bin_end": 1,
            "count": 347
           }
          ]
         }
        },
        {
         "name": "Condition_Heart",
         "dtype": "float64",
         "stats": {
          "unique_count": 2,
          "nan_count": 0,
          "min": "0.0",
          "max": "1.0",
          "histogram": [
           {
            "bin_start": 0,
            "bin_end": 0.1,
            "count": 3089
           },
           {
            "bin_start": 0.1,
            "bin_end": 0.2,
            "count": 0
           },
           {
            "bin_start": 0.2,
            "bin_end": 0.30000000000000004,
            "count": 0
           },
           {
            "bin_start": 0.30000000000000004,
            "bin_end": 0.4,
            "count": 0
           },
           {
            "bin_start": 0.4,
            "bin_end": 0.5,
            "count": 0
           },
           {
            "bin_start": 0.5,
            "bin_end": 0.6000000000000001,
            "count": 0
           },
           {
            "bin_start": 0.6000000000000001,
            "bin_end": 0.7000000000000001,
            "count": 0
           },
           {
            "bin_start": 0.7000000000000001,
            "bin_end": 0.8,
            "count": 0
           },
           {
            "bin_start": 0.8,
            "bin_end": 0.9,
            "count": 0
           },
           {
            "bin_start": 0.9,
            "bin_end": 1,
            "count": 264
           }
          ]
         }
        },
        {
         "name": "Condition_Organ",
         "dtype": "float64",
         "stats": {
          "unique_count": 2,
          "nan_count": 0,
          "min": "0.0",
          "max": "1.0",
          "histogram": [
           {
            "bin_start": 0,
            "bin_end": 0.1,
            "count": 3274
           },
           {
            "bin_start": 0.1,
            "bin_end": 0.2,
            "count": 0
           },
           {
            "bin_start": 0.2,
            "bin_end": 0.30000000000000004,
            "count": 0
           },
           {
            "bin_start": 0.30000000000000004,
            "bin_end": 0.4,
            "count": 0
           },
           {
            "bin_start": 0.4,
            "bin_end": 0.5,
            "count": 0
           },
           {
            "bin_start": 0.5,
            "bin_end": 0.6000000000000001,
            "count": 0
           },
           {
            "bin_start": 0.6000000000000001,
            "bin_end": 0.7000000000000001,
            "count": 0
           },
           {
            "bin_start": 0.7000000000000001,
            "bin_end": 0.8,
            "count": 0
           },
           {
            "bin_start": 0.8,
            "bin_end": 0.9,
            "count": 0
           },
           {
            "bin_start": 0.9,
            "bin_end": 1,
            "count": 79
           }
          ]
         }
        },
        {
         "name": "County_Cases",
         "dtype": "float64",
         "stats": {
          "unique_count": 2123,
          "nan_count": 0,
          "min": "0.002591871",
          "max": "0.184383169",
          "histogram": [
           {
            "bin_start": 0.002591871,
            "bin_end": 0.0207710008,
            "count": 11
           },
           {
            "bin_start": 0.0207710008,
            "bin_end": 0.03895013060000001,
            "count": 83
           },
           {
            "bin_start": 0.03895013060000001,
            "bin_end": 0.05712926040000001,
            "count": 237
           },
           {
            "bin_start": 0.05712926040000001,
            "bin_end": 0.0753083902,
            "count": 639
           },
           {
            "bin_start": 0.0753083902,
            "bin_end": 0.09348752,
            "count": 1204
           },
           {
            "bin_start": 0.09348752,
            "bin_end": 0.11166664980000002,
            "count": 664
           },
           {
            "bin_start": 0.11166664980000002,
            "bin_end": 0.12984577960000002,
            "count": 429
           },
           {
            "bin_start": 0.12984577960000002,
            "bin_end": 0.14802490940000002,
            "count": 39
           },
           {
            "bin_start": 0.14802490940000002,
            "bin_end": 0.16620403920000001,
            "count": 43
           },
           {
            "bin_start": 0.16620403920000001,
            "bin_end": 0.184383169,
            "count": 4
           }
          ]
         }
        },
        {
         "name": "County_Cases2wk",
         "dtype": "float64",
         "stats": {
          "unique_count": 2117,
          "nan_count": 0,
          "min": "0.0",
          "max": "0.015414549",
          "histogram": [
           {
            "bin_start": 0,
            "bin_end": 0.0015414549,
            "count": 617
           },
           {
            "bin_start": 0.0015414549,
            "bin_end": 0.0030829098,
            "count": 1818
           },
           {
            "bin_start": 0.0030829098,
            "bin_end": 0.0046243646999999995,
            "count": 550
           },
           {
            "bin_start": 0.0046243646999999995,
            "bin_end": 0.0061658196,
            "count": 315
           },
           {
            "bin_start": 0.0061658196,
            "bin_end": 0.0077072745,
            "count": 48
           },
           {
            "bin_start": 0.0077072745,
            "bin_end": 0.009248729399999999,
            "count": 1
           },
           {
            "bin_start": 0.009248729399999999,
            "bin_end": 0.0107901843,
            "count": 1
           },
           {
            "bin_start": 0.0107901843,
            "bin_end": 0.0123316392,
            "count": 0
           },
           {
            "bin_start": 0.0123316392,
            "bin_end": 0.013873094099999999,
            "count": 1
           },
           {
            "bin_start": 0.013873094099999999,
            "bin_end": 0.015414549,
            "count": 2
           }
          ]
         }
        },
        {
         "name": "Male",
         "dtype": "int64",
         "stats": {
          "unique_count": 2,
          "nan_count": 0,
          "min": "0",
          "max": "1",
          "histogram": [
           {
            "bin_start": 0,
            "bin_end": 0.1,
            "count": 1521
           },
           {
            "bin_start": 0.1,
            "bin_end": 0.2,
            "count": 0
           },
           {
            "bin_start": 0.2,
            "bin_end": 0.30000000000000004,
            "count": 0
           },
           {
            "bin_start": 0.30000000000000004,
            "bin_end": 0.4,
            "count": 0
           },
           {
            "bin_start": 0.4,
            "bin_end": 0.5,
            "count": 0
           },
           {
            "bin_start": 0.5,
            "bin_end": 0.6000000000000001,
            "count": 0
           },
           {
            "bin_start": 0.6000000000000001,
            "bin_end": 0.7000000000000001,
            "count": 0
           },
           {
            "bin_start": 0.7000000000000001,
            "bin_end": 0.8,
            "count": 0
           },
           {
            "bin_start": 0.8,
            "bin_end": 0.9,
            "count": 0
           },
           {
            "bin_start": 0.9,
            "bin_end": 1,
            "count": 1832
           }
          ]
         }
        },
        {
         "name": "Race",
         "dtype": "int64",
         "stats": {
          "unique_count": 4,
          "nan_count": 0,
          "min": "1",
          "max": "4",
          "histogram": [
           {
            "bin_start": 1,
            "bin_end": 1.3,
            "count": 2442
           },
           {
            "bin_start": 1.3,
            "bin_end": 1.6,
            "count": 0
           },
           {
            "bin_start": 1.6,
            "bin_end": 1.9,
            "count": 0
           },
           {
            "bin_start": 1.9,
            "bin_end": 2.2,
            "count": 173
           },
           {
            "bin_start": 2.2,
            "bin_end": 2.5,
            "count": 0
           },
           {
            "bin_start": 2.5,
            "bin_end": 2.8,
            "count": 0
           },
           {
            "bin_start": 2.8,
            "bin_end": 3.1,
            "count": 396
           },
           {
            "bin_start": 3.1,
            "bin_end": 3.4,
            "count": 0
           },
           {
            "bin_start": 3.4,
            "bin_end": 3.6999999999999997,
            "count": 0
           },
           {
            "bin_start": 3.6999999999999997,
            "bin_end": 4,
            "count": 342
           }
          ]
         }
        },
        {
         "name": "Age",
         "dtype": "float64",
         "stats": {
          "unique_count": 75,
          "nan_count": 0,
          "min": "18.0",
          "max": "92.0",
          "histogram": [
           {
            "bin_start": 18,
            "bin_end": 25.4,
            "count": 60
           },
           {
            "bin_start": 25.4,
            "bin_end": 32.8,
            "count": 119
           },
           {
            "bin_start": 32.8,
            "bin_end": 40.2,
            "count": 286
           },
           {
            "bin_start": 40.2,
            "bin_end": 47.6,
            "count": 278
           },
           {
            "bin_start": 47.6,
            "bin_end": 55,
            "count": 423
           },
           {
            "bin_start": 55,
            "bin_end": 62.400000000000006,
            "count": 642
           },
           {
            "bin_start": 62.400000000000006,
            "bin_end": 69.80000000000001,
            "count": 775
           },
           {
            "bin_start": 69.80000000000001,
            "bin_end": 77.2,
            "count": 635
           },
           {
            "bin_start": 77.2,
            "bin_end": 84.60000000000001,
            "count": 115
           },
           {
            "bin_start": 84.60000000000001,
            "bin_end": 92,
            "count": 20
           }
          ]
         }
        },
        {
         "name": "PS_Index",
         "dtype": "float64",
         "stats": {
          "unique_count": 7,
          "nan_count": 0,
          "min": "0.0",
          "max": "1.0",
          "histogram": [
           {
            "bin_start": 0,
            "bin_end": 0.1,
            "count": 30
           },
           {
            "bin_start": 0.1,
            "bin_end": 0.2,
            "count": 301
           },
           {
            "bin_start": 0.2,
            "bin_end": 0.30000000000000004,
            "count": 0
           },
           {
            "bin_start": 0.30000000000000004,
            "bin_end": 0.4,
            "count": 1519
           },
           {
            "bin_start": 0.4,
            "bin_end": 0.5,
            "count": 0
           },
           {
            "bin_start": 0.5,
            "bin_end": 0.6000000000000001,
            "count": 956
           },
           {
            "bin_start": 0.6000000000000001,
            "bin_end": 0.7000000000000001,
            "count": 411
           },
           {
            "bin_start": 0.7000000000000001,
            "bin_end": 0.8,
            "count": 0
           },
           {
            "bin_start": 0.8,
            "bin_end": 0.9,
            "count": 122
           },
           {
            "bin_start": 0.9,
            "bin_end": 1,
            "count": 14
           }
          ]
         }
        },
        {
         "name": "Natural_Science_Literacy",
         "dtype": "float64"
        },
        {
         "name": "College_Degree",
         "dtype": "float64"
        },
        {
         "name": "Pandemic_Impact",
         "dtype": "float64"
        },
        {
         "name": "Pandemic_Impact_Network",
         "dtype": "float64"
        },
        {
         "name": "Infected_Personal",
         "dtype": "float64"
        },
        {
         "name": "Infected_Network",
         "dtype": "float64"
        },
        {
         "name": "Biden",
         "dtype": "int64"
        },
        {
         "name": "Trump",
         "dtype": "int64"
        },
        {
         "name": "Party_ID",
         "dtype": "int64"
        },
        {
         "name": "Household_Income",
         "dtype": "float64"
        },
        {
         "name": "Vaccine_Required",
         "dtype": "int64"
        },
        {
         "name": "Evangelical",
         "dtype": "float64"
        },
        {
         "name": "Vaccine_Hesitant",
         "dtype": "int64"
        },
        {
         "name": "_deepnote_index_column",
         "dtype": "int64"
        }
       ],
       "rows": [
        {
         "County_Density": 137.8517954,
         "Vaccine_Trust_Index": 0,
         "Personal_Responsibility": 10,
         "Trust_Science_Apolitical": 5,
         "Trust_Science_Politicians": 5,
         "Trust_Science_Media": 5,
         "Trust_Science_Community": 5,
         "Trust_National": 5,
         "Trust_State": 5,
         "Trust_Local": 5,
         "Trust_Media": 5,
         "Perceived_Risk": 0,
         "Perceived_Network_Risk": 0,
         "Doctor_Comfort": 8,
         "Fear_Needles": 0,
         "Condition_Pregnancy": 0,
         "Condition_Asthma": 0,
         "Condition_Lung": 0,
         "Condition_Diabetes": 0,
         "Condition_Immune": 0,
         "Condition_Obesity": 0,
         "Condition_Heart": 0,
         "Condition_Organ": 0,
         "County_Cases": 0.078748852,
         "County_Cases2wk": 0.002252394,
         "Male": 1,
         "Race": 1,
         "Age": 67,
         "PS_Index": 0.5,
         "Natural_Science_Literacy": 0.666666687,
         "College_Degree": 0,
         "Pandemic_Impact": 0,
         "Pandemic_Impact_Network": 0,
         "Infected_Personal": 0,
         "Infected_Network": 0,
         "Biden": 0,
         "Trump": 1,
         "Party_ID": 0,
         "Household_Income": 1,
         "Vaccine_Required": 0,
         "Evangelical": 1,
         "Vaccine_Hesitant": 1,
         "_deepnote_index_column": 0
        },
        {
         "County_Density": 38.75140638,
         "Vaccine_Trust_Index": 9,
         "Personal_Responsibility": 5,
         "Trust_Science_Apolitical": 8,
         "Trust_Science_Politicians": 4,
         "Trust_Science_Media": 6,
         "Trust_Science_Community": 9,
         "Trust_National": 8,
         "Trust_State": 2,
         "Trust_Local": 7,
         "Trust_Media": 7,
         "Perceived_Risk": 10,
         "Perceived_Network_Risk": 9,
         "Doctor_Comfort": 8,
         "Fear_Needles": 6,
         "Condition_Pregnancy": 0,
         "Condition_Asthma": 0,
         "Condition_Lung": 0,
         "Condition_Diabetes": 0,
         "Condition_Immune": 0,
         "Condition_Obesity": 1,
         "Condition_Heart": 1,
         "Condition_Organ": 0,
         "County_Cases": 0.071311742,
         "County_Cases2wk": 0.002438762,
         "Male": 1,
         "Race": 1,
         "Age": 70,
         "PS_Index": 0.5,
         "Natural_Science_Literacy": 0.833333313,
         "College_Degree": 1,
         "Pandemic_Impact": 4.5,
         "Pandemic_Impact_Network": 5,
         "Infected_Personal": 0,
         "Infected_Network": 0,
         "Biden": 1,
         "Trump": 0,
         "Party_ID": 1,
         "Household_Income": 3,
         "Vaccine_Required": 0,
         "Evangelical": 0,
         "Vaccine_Hesitant": 0,
         "_deepnote_index_column": 1
        },
        {
         "County_Density": 18.10375235,
         "Vaccine_Trust_Index": 8.666666985,
         "Personal_Responsibility": 7,
         "Trust_Science_Apolitical": 6,
         "Trust_Science_Politicians": 1,
         "Trust_Science_Media": 1,
         "Trust_Science_Community": 6,
         "Trust_National": 7,
         "Trust_State": 7,
         "Trust_Local": 9,
         "Trust_Media": 1,
         "Perceived_Risk": 9,
         "Perceived_Network_Risk": 8,
         "Doctor_Comfort": 10,
         "Fear_Needles": 3,
         "Condition_Pregnancy": 0,
         "Condition_Asthma": 0,
         "Condition_Lung": 1,
         "Condition_Diabetes": 0,
         "Condition_Immune": 0,
         "Condition_Obesity": 0,
         "Condition_Heart": 1,
         "Condition_Organ": 0,
         "County_Cases": 0.119295433,
         "County_Cases2wk": 0.002287544,
         "Male": 0,
         "Race": 1,
         "Age": 69,
         "PS_Index": 0.333333343,
         "Natural_Science_Literacy": 1,
         "College_Degree": 0,
         "Pandemic_Impact": 5.5,
         "Pandemic_Impact_Network": 6,
         "Infected_Personal": 0,
         "Infected_Network": 1,
         "Biden": 0,
         "Trump": 1,
         "Party_ID": 0,
         "Household_Income": 6,
         "Vaccine_Required": 0,
         "Evangelical": 0,
         "Vaccine_Hesitant": 0,
         "_deepnote_index_column": 2
        },
        {
         "County_Density": 26.91291732,
         "Vaccine_Trust_Index": 4,
         "Personal_Responsibility": 7,
         "Trust_Science_Apolitical": 6,
         "Trust_Science_Politicians": 6,
         "Trust_Science_Media": 4,
         "Trust_Science_Community": 6,
         "Trust_National": 6,
         "Trust_State": 6,
         "Trust_Local": 6,
         "Trust_Media": 5,
         "Perceived_Risk": 6,
         "Perceived_Network_Risk": 3,
         "Doctor_Comfort": 7,
         "Fear_Needles": 2,
         "Condition_Pregnancy": 0,
         "Condition_Asthma": 0,
         "Condition_Lung": 1,
         "Condition_Diabetes": 0,
         "Condition_Immune": 0,
         "Condition_Obesity": 0,
         "Condition_Heart": 0,
         "Condition_Organ": 0,
         "County_Cases": 0.056908809,
         "County_Cases2wk": 0.001454703,
         "Male": 0,
         "Race": 1,
         "Age": 64,
         "PS_Index": 0.5,
         "Natural_Science_Literacy": 0.833333313,
         "College_Degree": 0,
         "Pandemic_Impact": 6,
         "Pandemic_Impact_Network": 7,
         "Infected_Personal": 0,
         "Infected_Network": 0,
         "Biden": 1,
         "Trump": 0,
         "Party_ID": 1,
         "Household_Income": 4,
         "Vaccine_Required": 0,
         "Evangelical": 1,
         "Vaccine_Hesitant": 1,
         "_deepnote_index_column": 3
        },
        {
         "County_Density": 1541.02667,
         "Vaccine_Trust_Index": 7,
         "Personal_Responsibility": 6,
         "Trust_Science_Apolitical": 6,
         "Trust_Science_Politicians": 1,
         "Trust_Science_Media": 2,
         "Trust_Science_Community": 6,
         "Trust_National": 6,
         "Trust_State": 2,
         "Trust_Local": 7,
         "Trust_Media": 4,
         "Perceived_Risk": 8,
         "Perceived_Network_Risk": 8,
         "Doctor_Comfort": 8,
         "Fear_Needles": 0,
         "Condition_Pregnancy": 0,
         "Condition_Asthma": 0,
         "Condition_Lung": 0,
         "Condition_Diabetes": 0,
         "Condition_Immune": 0,
         "Condition_Obesity": 0,
         "Condition_Heart": 0,
         "Condition_Organ": 0,
         "County_Cases": 0.082677923,
         "County_Cases2wk": 0.001198414,
         "Male": 1,
         "Race": 1,
         "Age": 56,
         "PS_Index": 0.333333343,
         "Natural_Science_Literacy": 0.833333313,
         "College_Degree": 1,
         "Pandemic_Impact": 2.5,
         "Pandemic_Impact_Network": 2.5,
         "Infected_Personal": 0,
         "Infected_Network": 1,
         "Biden": 1,
         "Trump": 1,
         "Party_ID": 0,
         "Household_Income": 3,
         "Vaccine_Required": 0,
         "Evangelical": 1,
         "Vaccine_Hesitant": 0,
         "_deepnote_index_column": 4
        },
        {
         "County_Density": 284.088504,
         "Vaccine_Trust_Index": 9.666666985,
         "Personal_Responsibility": 7,
         "Trust_Science_Apolitical": 6,
         "Trust_Science_Politicians": 0,
         "Trust_Science_Media": 6,
         "Trust_Science_Community": 8,
         "Trust_National": 3,
         "Trust_State": 4,
         "Trust_Local": 5,
         "Trust_Media": 7,
         "Perceived_Risk": 7,
         "Perceived_Network_Risk": 7,
         "Doctor_Comfort": 10,
         "Fear_Needles": 0,
         "Condition_Pregnancy": 0,
         "Condition_Asthma": 0,
         "Condition_Lung": 0,
         "Condition_Diabetes": 0,
         "Condition_Immune": 0,
         "Condition_Obesity": 0,
         "Condition_Heart": 0,
         "Condition_Organ": 0,
         "County_Cases": 0.083817966,
         "County_Cases2wk": 0.00375585,
         "Male": 1,
         "Race": 1,
         "Age": 68,
         "PS_Index": 0.333333343,
         "Natural_Science_Literacy": 0.833333313,
         "College_Degree": 0,
         "Pandemic_Impact": 5,
         "Pandemic_Impact_Network": 5,
         "Infected_Personal": 0,
         "Infected_Network": 0,
         "Biden": 1,
         "Trump": 0,
         "Party_ID": 1,
         "Household_Income": 12,
         "Vaccine_Required": 0,
         "Evangelical": 0,
         "Vaccine_Hesitant": 0,
         "_deepnote_index_column": 5
        },
        {
         "County_Density": 1351.009895,
         "Vaccine_Trust_Index": 5.333333492,
         "Personal_Responsibility": 10,
         "Trust_Science_Apolitical": 5,
         "Trust_Science_Politicians": 5,
         "Trust_Science_Media": 0,
         "Trust_Science_Community": 6,
         "Trust_National": 5,
         "Trust_State": 7,
         "Trust_Local": 8,
         "Trust_Media": 0,
         "Perceived_Risk": 5,
         "Perceived_Network_Risk": 8,
         "Doctor_Comfort": 10,
         "Fear_Needles": 5,
         "Condition_Pregnancy": 0,
         "Condition_Asthma": 0,
         "Condition_Lung": 0,
         "Condition_Diabetes": 0,
         "Condition_Immune": 0,
         "Condition_Obesity": 0,
         "Condition_Heart": 0,
         "Condition_Organ": 0,
         "County_Cases": 0.07317134,
         "County_Cases2wk": 0.00234373,
         "Male": 0,
         "Race": 1,
         "Age": 62,
         "PS_Index": 0.5,
         "Natural_Science_Literacy": 0.5,
         "College_Degree": 0,
         "Pandemic_Impact": 4.5,
         "Pandemic_Impact_Network": 5,
         "Infected_Personal": 0,
         "Infected_Network": 0,
         "Biden": 1,
         "Trump": 0,
         "Party_ID": 2,
         "Household_Income": 4,
         "Vaccine_Required": 0,
         "Evangelical": 0,
         "Vaccine_Hesitant": 1,
         "_deepnote_index_column": 6
        },
        {
         "County_Density": 363.7218004,
         "Vaccine_Trust_Index": 6,
         "Personal_Responsibility": 5,
         "Trust_Science_Apolitical": 5,
         "Trust_Science_Politicians": 2,
         "Trust_Science_Media": 3,
         "Trust_Science_Community": 5,
         "Trust_National": 5,
         "Trust_State": 5,
         "Trust_Local": 5,
         "Trust_Media": 5,
         "Perceived_Risk": 9,
         "Perceived_Network_Risk": 8,
         "Doctor_Comfort": 7,
         "Fear_Needles": 1,
         "Condition_Pregnancy": 0,
         "Condition_Asthma": 0,
         "Condition_Lung": 0,
         "Condition_Diabetes": 0,
         "Condition_Immune": 0,
         "Condition_Obesity": 0,
         "Condition_Heart": 0,
         "Condition_Organ": 0,
         "County_Cases": 0.099920772,
         "County_Cases2wk": 0.005953316,
         "Male": 0,
         "Race": 1,
         "Age": 62,
         "PS_Index": 0.166666672,
         "Natural_Science_Literacy": 0.666666687,
         "College_Degree": 1,
         "Pandemic_Impact": 2.5,
         "Pandemic_Impact_Network": 2.5,
         "Infected_Personal": 0,
         "Infected_Network": 1,
         "Biden": 0,
         "Trump": 1,
         "Party_ID": 2,
         "Household_Income": 12,
         "Vaccine_Required": 0,
         "Evangelical": 0,
         "Vaccine_Hesitant": 0,
         "_deepnote_index_column": 7
        },
        {
         "County_Density": 861.2850078,
         "Vaccine_Trust_Index": 9.666666985,
         "Personal_Responsibility": 9,
         "Trust_Science_Apolitical": 10,
         "Trust_Science_Politicians": 9,
         "Trust_Science_Media": 10,
         "Trust_Science_Community": 10,
         "Trust_National": 8,
         "Trust_State": 8,
         "Trust_Local": 8,
         "Trust_Media": 8,
         "Perceived_Risk": 10,
         "Perceived_Network_Risk": 10,
         "Doctor_Comfort": 10,
         "Fear_Needles": 0,
         "Condition_Pregnancy": 0,
         "Condition_Asthma": 0,
         "Condition_Lung": 0,
         "Condition_Diabetes": 0,
         "Condition_Immune": 0,
         "Condition_Obesity": 0,
         "Condition_Heart": 0,
         "Condition_Organ": 0,
         "County_Cases": 0.081679314,
         "County_Cases2wk": 0.001687606,
         "Male": 0,
         "Race": 1,
         "Age": 73,
         "PS_Index": 0.5,
         "Natural_Science_Literacy": 1,
         "College_Degree": 1,
         "Pandemic_Impact": 5,
         "Pandemic_Impact_Network": 4,
         "Infected_Personal": 0,
         "Infected_Network": 0,
         "Biden": 1,
         "Trump": 0,
         "Party_ID": 1,
         "Household_Income": 2,
         "Vaccine_Required": 0,
         "Evangelical": 0,
         "Vaccine_Hesitant": 0,
         "_deepnote_index_column": 8
        },
        {
         "County_Density": 1042.130651,
         "Vaccine_Trust_Index": 10,
         "Personal_Responsibility": 10,
         "Trust_Science_Apolitical": 5,
         "Trust_Science_Politicians": 0,
         "Trust_Science_Media": 0,
         "Trust_Science_Community": 5,
         "Trust_National": 1,
         "Trust_State": 9,
         "Trust_Local": 3,
         "Trust_Media": 0,
         "Perceived_Risk": 6,
         "Perceived_Network_Risk": 8,
         "Doctor_Comfort": 10,
         "Fear_Needles": 0,
         "Condition_Pregnancy": 0,
         "Condition_Asthma": 0,
         "Condition_Lung": 0,
         "Condition_Diabetes": 0,
         "Condition_Immune": 0,
         "Condition_Obesity": 0,
         "Condition_Heart": 0,
         "Condition_Organ": 0,
         "County_Cases": 0.077145733,
         "County_Cases2wk": 0.003394008,
         "Male": 1,
         "Race": 1,
         "Age": 64,
         "PS_Index": 0.333333343,
         "Natural_Science_Literacy": 1,
         "College_Degree": 1,
         "Pandemic_Impact": 4.5,
         "Pandemic_Impact_Network": 1.5,
         "Infected_Personal": 0,
         "Infected_Network": 0,
         "Biden": 0,
         "Trump": 1,
         "Party_ID": 0,
         "Household_Income": 7,
         "Vaccine_Required": 0,
         "Evangelical": 0,
         "Vaccine_Hesitant": 0,
         "_deepnote_index_column": 9
        }
       ]
      },
      "text/plain": "      County_Density  Vaccine_Trust_Index  Personal_Responsibility  \\\n0         137.851795             0.000000                     10.0   \n1          38.751406             9.000000                      5.0   \n2          18.103752             8.666667                      7.0   \n3          26.912917             4.000000                      7.0   \n4        1541.026670             7.000000                      6.0   \n...              ...                  ...                      ...   \n3348      470.033815             1.666667                      8.0   \n3349      225.323560             9.333333                      2.0   \n3350      108.474026             9.000000                      8.0   \n3351       63.385677             9.333333                      5.0   \n3352      599.558111             9.000000                     10.0   \n\n      Trust_Science_Apolitical  Trust_Science_Politicians  \\\n0                          5.0                        5.0   \n1                          8.0                        4.0   \n2                          6.0                        1.0   \n3                          6.0                        6.0   \n4                          6.0                        1.0   \n...                        ...                        ...   \n3348                       0.0                        0.0   \n3349                       9.0                        1.0   \n3350                       6.0                        3.0   \n3351                       5.0                        4.0   \n3352                       1.0                        0.0   \n\n      Trust_Science_Media  Trust_Science_Community  Trust_National  \\\n0                     5.0                      5.0             5.0   \n1                     6.0                      9.0             8.0   \n2                     1.0                      6.0             7.0   \n3                     4.0                      6.0             6.0   \n4                     2.0                      6.0             6.0   \n...                   ...                      ...             ...   \n3348                  0.0                      0.0             2.0   \n3349                  8.0                      9.0             6.0   \n3350                  3.0                      5.0             6.0   \n3351                  6.0                      9.0             8.0   \n3352                  0.0                     10.0             9.0   \n\n      Trust_State  Trust_Local  ...  Pandemic_Impact_Network  \\\n0             5.0          5.0  ...                      0.0   \n1             2.0          7.0  ...                      5.0   \n2             7.0          9.0  ...                      6.0   \n3             6.0          6.0  ...                      7.0   \n4             2.0          7.0  ...                      2.5   \n...           ...          ...  ...                      ...   \n3348          2.0          4.0  ...                      7.5   \n3349          7.0          7.0  ...                      3.5   \n3350          7.0          6.0  ...                      6.0   \n3351          8.0          7.0  ...                      3.5   \n3352          9.0         10.0  ...                      9.0   \n\n      Infected_Personal  Infected_Network  Biden  Trump  Party_ID  \\\n0                   0.0               0.0      0      1         0   \n1                   0.0               0.0      1      0         1   \n2                   0.0               1.0      0      1         0   \n3                   0.0               0.0      1      0         1   \n4                   0.0               1.0      1      1         0   \n...                 ...               ...    ...    ...       ...   \n3348                0.0               0.0      0      1         2   \n3349                0.0               1.0      1      0         0   \n3350                0.0               0.0      0      1         0   \n3351                0.0               1.0      1      0         1   \n3352                1.0               1.0      0      1         0   \n\n      Household_Income  Vaccine_Required  Evangelical  Vaccine_Hesitant  \n0                  1.0                 0          1.0                 1  \n1                  3.0                 0          0.0                 0  \n2                  6.0                 0          0.0                 0  \n3                  4.0                 0          1.0                 1  \n4                  3.0                 0          1.0                 0  \n...                ...               ...          ...               ...  \n3348               8.0                 0          1.0                 1  \n3349               2.0                 0          0.0                 0  \n3350               2.0                 1          0.0                 0  \n3351              12.0                 1          0.0                 0  \n3352               5.0                 0          1.0                 1  \n\n[3353 rows x 42 columns]",
      "text/html": "<div>\n<style scoped>\n    .dataframe tbody tr th:only-of-type {\n        vertical-align: middle;\n    }\n\n    .dataframe tbody tr th {\n        vertical-align: top;\n    }\n\n    .dataframe thead th {\n        text-align: right;\n    }\n</style>\n<table border=\"1\" class=\"dataframe\">\n  <thead>\n    <tr style=\"text-align: right;\">\n      <th></th>\n      <th>County_Density</th>\n      <th>Vaccine_Trust_Index</th>\n      <th>Personal_Responsibility</th>\n      <th>Trust_Science_Apolitical</th>\n      <th>Trust_Science_Politicians</th>\n      <th>Trust_Science_Media</th>\n      <th>Trust_Science_Community</th>\n      <th>Trust_National</th>\n      <th>Trust_State</th>\n      <th>Trust_Local</th>\n      <th>...</th>\n      <th>Pandemic_Impact_Network</th>\n      <th>Infected_Personal</th>\n      <th>Infected_Network</th>\n      <th>Biden</th>\n      <th>Trump</th>\n      <th>Party_ID</th>\n      <th>Household_Income</th>\n      <th>Vaccine_Required</th>\n      <th>Evangelical</th>\n      <th>Vaccine_Hesitant</th>\n    </tr>\n  </thead>\n  <tbody>\n    <tr>\n      <th>0</th>\n      <td>137.851795</td>\n      <td>0.000000</td>\n      <td>10.0</td>\n      <td>5.0</td>\n      <td>5.0</td>\n      <td>5.0</td>\n      <td>5.0</td>\n      <td>5.0</td>\n      <td>5.0</td>\n      <td>5.0</td>\n      <td>...</td>\n      <td>0.0</td>\n      <td>0.0</td>\n      <td>0.0</td>\n      <td>0</td>\n      <td>1</td>\n      <td>0</td>\n      <td>1.0</td>\n      <td>0</td>\n      <td>1.0</td>\n      <td>1</td>\n    </tr>\n    <tr>\n      <th>1</th>\n      <td>38.751406</td>\n      <td>9.000000</td>\n      <td>5.0</td>\n      <td>8.0</td>\n      <td>4.0</td>\n      <td>6.0</td>\n      <td>9.0</td>\n      <td>8.0</td>\n      <td>2.0</td>\n      <td>7.0</td>\n      <td>...</td>\n      <td>5.0</td>\n      <td>0.0</td>\n      <td>0.0</td>\n      <td>1</td>\n      <td>0</td>\n      <td>1</td>\n      <td>3.0</td>\n      <td>0</td>\n      <td>0.0</td>\n      <td>0</td>\n    </tr>\n    <tr>\n      <th>2</th>\n      <td>18.103752</td>\n      <td>8.666667</td>\n      <td>7.0</td>\n      <td>6.0</td>\n      <td>1.0</td>\n      <td>1.0</td>\n      <td>6.0</td>\n      <td>7.0</td>\n      <td>7.0</td>\n      <td>9.0</td>\n      <td>...</td>\n      <td>6.0</td>\n      <td>0.0</td>\n      <td>1.0</td>\n      <td>0</td>\n      <td>1</td>\n      <td>0</td>\n      <td>6.0</td>\n      <td>0</td>\n      <td>0.0</td>\n      <td>0</td>\n    </tr>\n    <tr>\n      <th>3</th>\n      <td>26.912917</td>\n      <td>4.000000</td>\n      <td>7.0</td>\n      <td>6.0</td>\n      <td>6.0</td>\n      <td>4.0</td>\n      <td>6.0</td>\n      <td>6.0</td>\n      <td>6.0</td>\n      <td>6.0</td>\n      <td>...</td>\n      <td>7.0</td>\n      <td>0.0</td>\n      <td>0.0</td>\n      <td>1</td>\n      <td>0</td>\n      <td>1</td>\n      <td>4.0</td>\n      <td>0</td>\n      <td>1.0</td>\n      <td>1</td>\n    </tr>\n    <tr>\n      <th>4</th>\n      <td>1541.026670</td>\n      <td>7.000000</td>\n      <td>6.0</td>\n      <td>6.0</td>\n      <td>1.0</td>\n      <td>2.0</td>\n      <td>6.0</td>\n      <td>6.0</td>\n      <td>2.0</td>\n      <td>7.0</td>\n      <td>...</td>\n      <td>2.5</td>\n      <td>0.0</td>\n      <td>1.0</td>\n      <td>1</td>\n      <td>1</td>\n      <td>0</td>\n      <td>3.0</td>\n      <td>0</td>\n      <td>1.0</td>\n      <td>0</td>\n    </tr>\n    <tr>\n      <th>...</th>\n      <td>...</td>\n      <td>...</td>\n      <td>...</td>\n      <td>...</td>\n      <td>...</td>\n      <td>...</td>\n      <td>...</td>\n      <td>...</td>\n      <td>...</td>\n      <td>...</td>\n      <td>...</td>\n      <td>...</td>\n      <td>...</td>\n      <td>...</td>\n      <td>...</td>\n      <td>...</td>\n      <td>...</td>\n      <td>...</td>\n      <td>...</td>\n      <td>...</td>\n      <td>...</td>\n    </tr>\n    <tr>\n      <th>3348</th>\n      <td>470.033815</td>\n      <td>1.666667</td>\n      <td>8.0</td>\n      <td>0.0</td>\n      <td>0.0</td>\n      <td>0.0</td>\n      <td>0.0</td>\n      <td>2.0</td>\n      <td>2.0</td>\n      <td>4.0</td>\n      <td>...</td>\n      <td>7.5</td>\n      <td>0.0</td>\n      <td>0.0</td>\n      <td>0</td>\n      <td>1</td>\n      <td>2</td>\n      <td>8.0</td>\n      <td>0</td>\n      <td>1.0</td>\n      <td>1</td>\n    </tr>\n    <tr>\n      <th>3349</th>\n      <td>225.323560</td>\n      <td>9.333333</td>\n      <td>2.0</td>\n      <td>9.0</td>\n      <td>1.0</td>\n      <td>8.0</td>\n      <td>9.0</td>\n      <td>6.0</td>\n      <td>7.0</td>\n      <td>7.0</td>\n      <td>...</td>\n      <td>3.5</td>\n      <td>0.0</td>\n      <td>1.0</td>\n      <td>1</td>\n      <td>0</td>\n      <td>0</td>\n      <td>2.0</td>\n      <td>0</td>\n      <td>0.0</td>\n      <td>0</td>\n    </tr>\n    <tr>\n      <th>3350</th>\n      <td>108.474026</td>\n      <td>9.000000</td>\n      <td>8.0</td>\n      <td>6.0</td>\n      <td>3.0</td>\n      <td>3.0</td>\n      <td>5.0</td>\n      <td>6.0</td>\n      <td>7.0</td>\n      <td>6.0</td>\n      <td>...</td>\n      <td>6.0</td>\n      <td>0.0</td>\n      <td>0.0</td>\n      <td>0</td>\n      <td>1</td>\n      <td>0</td>\n      <td>2.0</td>\n      <td>1</td>\n      <td>0.0</td>\n      <td>0</td>\n    </tr>\n    <tr>\n      <th>3351</th>\n      <td>63.385677</td>\n      <td>9.333333</td>\n      <td>5.0</td>\n      <td>5.0</td>\n      <td>4.0</td>\n      <td>6.0</td>\n      <td>9.0</td>\n      <td>8.0</td>\n      <td>8.0</td>\n      <td>7.0</td>\n      <td>...</td>\n      <td>3.5</td>\n      <td>0.0</td>\n      <td>1.0</td>\n      <td>1</td>\n      <td>0</td>\n      <td>1</td>\n      <td>12.0</td>\n      <td>1</td>\n      <td>0.0</td>\n      <td>0</td>\n    </tr>\n    <tr>\n      <th>3352</th>\n      <td>599.558111</td>\n      <td>9.000000</td>\n      <td>10.0</td>\n      <td>1.0</td>\n      <td>0.0</td>\n      <td>0.0</td>\n      <td>10.0</td>\n      <td>9.0</td>\n      <td>9.0</td>\n      <td>10.0</td>\n      <td>...</td>\n      <td>9.0</td>\n      <td>1.0</td>\n      <td>1.0</td>\n      <td>0</td>\n      <td>1</td>\n      <td>0</td>\n      <td>5.0</td>\n      <td>0</td>\n      <td>1.0</td>\n      <td>1</td>\n    </tr>\n  </tbody>\n</table>\n<p>3353 rows × 42 columns</p>\n</div>"
     },
     "metadata": {}
    }
   ]
  },
  {
   "cell_type": "markdown",
   "source": "Sepearate the data and the labels",
   "metadata": {
    "cell_id": "c927ac71afac48a28da8691a8adc8129",
    "tags": [],
    "deepnote_cell_type": "markdown",
    "deepnote_cell_height": 52.390625
   }
  },
  {
   "cell_type": "code",
   "metadata": {
    "cell_id": "258feba5c27b4d1cabe80674dc220254",
    "tags": [],
    "deepnote_to_be_reexecuted": false,
    "source_hash": "95997177",
    "execution_start": 1654736863958,
    "execution_millis": 13,
    "deepnote_cell_type": "code",
    "deepnote_cell_height": 383.34375,
    "deepnote_output_heights": [
     232.34375
    ]
   },
   "source": "labels = df['Vaccine_Hesitant']\ndf = df[df.columns[:-1]]\ndf\nlabels",
   "execution_count": null,
   "outputs": [
    {
     "output_type": "execute_result",
     "execution_count": 6,
     "data": {
      "text/plain": "0       1\n1       0\n2       0\n3       1\n4       0\n       ..\n3348    1\n3349    0\n3350    0\n3351    0\n3352    1\nName: Vaccine_Hesitant, Length: 3353, dtype: int64"
     },
     "metadata": {}
    }
   ]
  },
  {
   "cell_type": "markdown",
   "source": "Generate the math information of the dataframe",
   "metadata": {
    "cell_id": "415a21826ff1437dbc2c22b6496e2597",
    "tags": [],
    "deepnote_cell_type": "markdown",
    "deepnote_cell_height": 52.390625
   }
  },
  {
   "cell_type": "code",
   "metadata": {
    "cell_id": "e1e9cd31b8d84a50a2eeb2d7cbd29c19",
    "tags": [],
    "deepnote_to_be_reexecuted": false,
    "source_hash": "de1e323c",
    "execution_start": 1654736867091,
    "execution_millis": 35,
    "deepnote_cell_type": "code",
    "deepnote_cell_height": 701
   },
   "source": "df.info()",
   "execution_count": null,
   "outputs": [
    {
     "name": "stdout",
     "text": "<class 'pandas.core.frame.DataFrame'>\nRangeIndex: 3353 entries, 0 to 3352\nData columns (total 41 columns):\n #   Column                     Non-Null Count  Dtype  \n---  ------                     --------------  -----  \n 0   County_Density             3353 non-null   float64\n 1   Vaccine_Trust_Index        3353 non-null   float64\n 2   Personal_Responsibility    3353 non-null   float64\n 3   Trust_Science_Apolitical   3353 non-null   float64\n 4   Trust_Science_Politicians  3353 non-null   float64\n 5   Trust_Science_Media        3353 non-null   float64\n 6   Trust_Science_Community    3353 non-null   float64\n 7   Trust_National             3353 non-null   float64\n 8   Trust_State                3353 non-null   float64\n 9   Trust_Local                3353 non-null   float64\n 10  Trust_Media                3353 non-null   float64\n 11  Perceived_Risk             3353 non-null   float64\n 12  Perceived_Network_Risk     3353 non-null   float64\n 13  Doctor_Comfort             3353 non-null   float64\n 14  Fear_Needles               3353 non-null   float64\n 15  Condition_Pregnancy        3353 non-null   float64\n 16  Condition_Asthma           3353 non-null   float64\n 17  Condition_Lung             3353 non-null   float64\n 18  Condition_Diabetes         3353 non-null   float64\n 19  Condition_Immune           3353 non-null   float64\n 20  Condition_Obesity          3353 non-null   float64\n 21  Condition_Heart            3353 non-null   float64\n 22  Condition_Organ            3353 non-null   float64\n 23  County_Cases               3353 non-null   float64\n 24  County_Cases2wk            3353 non-null   float64\n 25  Male                       3353 non-null   int64  \n 26  Race                       3353 non-null   int64  \n 27  Age                        3353 non-null   float64\n 28  PS_Index                   3353 non-null   float64\n 29  Natural_Science_Literacy   3353 non-null   float64\n 30  College_Degree             3353 non-null   float64\n 31  Pandemic_Impact            3353 non-null   float64\n 32  Pandemic_Impact_Network    3353 non-null   float64\n 33  Infected_Personal          3353 non-null   float64\n 34  Infected_Network           3353 non-null   float64\n 35  Biden                      3353 non-null   int64  \n 36  Trump                      3353 non-null   int64  \n 37  Party_ID                   3353 non-null   int64  \n 38  Household_Income           3353 non-null   float64\n 39  Vaccine_Required           3353 non-null   int64  \n 40  Evangelical                3353 non-null   float64\ndtypes: float64(35), int64(6)\nmemory usage: 1.0 MB\n",
     "output_type": "stream"
    }
   ]
  },
  {
   "cell_type": "code",
   "metadata": {
    "cell_id": "b7d20af296a14dbd86b9e8674dcd0cf4",
    "tags": [],
    "deepnote_to_be_reexecuted": false,
    "source_hash": "f88152d9",
    "execution_start": 1654736870725,
    "execution_millis": 303,
    "deepnote_cell_type": "code",
    "deepnote_cell_height": 518
   },
   "source": "df.describe()",
   "execution_count": null,
   "outputs": [
    {
     "output_type": "execute_result",
     "execution_count": 8,
     "data": {
      "application/vnd.deepnote.dataframe.v3+json": {
       "column_count": 41,
       "row_count": 8,
       "columns": [
        {
         "name": "County_Density",
         "dtype": "float64",
         "stats": {
          "unique_count": 8,
          "nan_count": 0,
          "min": "0.928097868",
          "max": "27819.8048",
          "histogram": [
           {
            "bin_start": 0.928097868,
            "bin_end": 2782.8157680812,
            "count": 6
           },
           {
            "bin_start": 2782.8157680812,
            "bin_end": 5564.7034382944,
            "count": 1
           },
           {
            "bin_start": 5564.7034382944,
            "bin_end": 8346.5911085076,
            "count": 0
           },
           {
            "bin_start": 8346.5911085076,
            "bin_end": 11128.4787787208,
            "count": 0
           },
           {
            "bin_start": 11128.4787787208,
            "bin_end": 13910.366448934,
            "count": 0
           },
           {
            "bin_start": 13910.366448934,
            "bin_end": 16692.2541191472,
            "count": 0
           },
           {
            "bin_start": 16692.2541191472,
            "bin_end": 19474.1417893604,
            "count": 0
           },
           {
            "bin_start": 19474.1417893604,
            "bin_end": 22256.0294595736,
            "count": 0
           },
           {
            "bin_start": 22256.0294595736,
            "bin_end": 25037.9171297868,
            "count": 0
           },
           {
            "bin_start": 25037.9171297868,
            "bin_end": 27819.8048,
            "count": 1
           }
          ]
         }
        },
        {
         "name": "Vaccine_Trust_Index",
         "dtype": "float64",
         "stats": {
          "unique_count": 8,
          "nan_count": 0,
          "min": "0.0",
          "max": "3353.0",
          "histogram": [
           {
            "bin_start": 0,
            "bin_end": 335.3,
            "count": 7
           },
           {
            "bin_start": 335.3,
            "bin_end": 670.6,
            "count": 0
           },
           {
            "bin_start": 670.6,
            "bin_end": 1005.9000000000001,
            "count": 0
           },
           {
            "bin_start": 1005.9000000000001,
            "bin_end": 1341.2,
            "count": 0
           },
           {
            "bin_start": 1341.2,
            "bin_end": 1676.5,
            "count": 0
           },
           {
            "bin_start": 1676.5,
            "bin_end": 2011.8000000000002,
            "count": 0
           },
           {
            "bin_start": 2011.8000000000002,
            "bin_end": 2347.1,
            "count": 0
           },
           {
            "bin_start": 2347.1,
            "bin_end": 2682.4,
            "count": 0
           },
           {
            "bin_start": 2682.4,
            "bin_end": 3017.7000000000003,
            "count": 0
           },
           {
            "bin_start": 3017.7000000000003,
            "bin_end": 3353,
            "count": 1
           }
          ]
         }
        },
        {
         "name": "Personal_Responsibility",
         "dtype": "float64",
         "stats": {
          "unique_count": 8,
          "nan_count": 0,
          "min": "0.0",
          "max": "3353.0",
          "histogram": [
           {
            "bin_start": 0,
            "bin_end": 335.3,
            "count": 7
           },
           {
            "bin_start": 335.3,
            "bin_end": 670.6,
            "count": 0
           },
           {
            "bin_start": 670.6,
            "bin_end": 1005.9000000000001,
            "count": 0
           },
           {
            "bin_start": 1005.9000000000001,
            "bin_end": 1341.2,
            "count": 0
           },
           {
            "bin_start": 1341.2,
            "bin_end": 1676.5,
            "count": 0
           },
           {
            "bin_start": 1676.5,
            "bin_end": 2011.8000000000002,
            "count": 0
           },
           {
            "bin_start": 2011.8000000000002,
            "bin_end": 2347.1,
            "count": 0
           },
           {
            "bin_start": 2347.1,
            "bin_end": 2682.4,
            "count": 0
           },
           {
            "bin_start": 2682.4,
            "bin_end": 3017.7000000000003,
            "count": 0
           },
           {
            "bin_start": 3017.7000000000003,
            "bin_end": 3353,
            "count": 1
           }
          ]
         }
        },
        {
         "name": "Trust_Science_Apolitical",
         "dtype": "float64",
         "stats": {
          "unique_count": 8,
          "nan_count": 0,
          "min": "0.0",
          "max": "3353.0",
          "histogram": [
           {
            "bin_start": 0,
            "bin_end": 335.3,
            "count": 7
           },
           {
            "bin_start": 335.3,
            "bin_end": 670.6,
            "count": 0
           },
           {
            "bin_start": 670.6,
            "bin_end": 1005.9000000000001,
            "count": 0
           },
           {
            "bin_start": 1005.9000000000001,
            "bin_end": 1341.2,
            "count": 0
           },
           {
            "bin_start": 1341.2,
            "bin_end": 1676.5,
            "count": 0
           },
           {
            "bin_start": 1676.5,
            "bin_end": 2011.8000000000002,
            "count": 0
           },
           {
            "bin_start": 2011.8000000000002,
            "bin_end": 2347.1,
            "count": 0
           },
           {
            "bin_start": 2347.1,
            "bin_end": 2682.4,
            "count": 0
           },
           {
            "bin_start": 2682.4,
            "bin_end": 3017.7000000000003,
            "count": 0
           },
           {
            "bin_start": 3017.7000000000003,
            "bin_end": 3353,
            "count": 1
           }
          ]
         }
        },
        {
         "name": "Trust_Science_Politicians",
         "dtype": "float64",
         "stats": {
          "unique_count": 7,
          "nan_count": 0,
          "min": "0.0",
          "max": "3353.0",
          "histogram": [
           {
            "bin_start": 0,
            "bin_end": 335.3,
            "count": 7
           },
           {
            "bin_start": 335.3,
            "bin_end": 670.6,
            "count": 0
           },
           {
            "bin_start": 670.6,
            "bin_end": 1005.9000000000001,
            "count": 0
           },
           {
            "bin_start": 1005.9000000000001,
            "bin_end": 1341.2,
            "count": 0
           },
           {
            "bin_start": 1341.2,
            "bin_end": 1676.5,
            "count": 0
           },
           {
            "bin_start": 1676.5,
            "bin_end": 2011.8000000000002,
            "count": 0
           },
           {
            "bin_start": 2011.8000000000002,
            "bin_end": 2347.1,
            "count": 0
           },
           {
            "bin_start": 2347.1,
            "bin_end": 2682.4,
            "count": 0
           },
           {
            "bin_start": 2682.4,
            "bin_end": 3017.7000000000003,
            "count": 0
           },
           {
            "bin_start": 3017.7000000000003,
            "bin_end": 3353,
            "count": 1
           }
          ]
         }
        },
        {
         "name": "Trust_Science_Media",
         "dtype": "float64",
         "stats": {
          "unique_count": 8,
          "nan_count": 0,
          "min": "0.0",
          "max": "3353.0",
          "histogram": [
           {
            "bin_start": 0,
            "bin_end": 335.3,
            "count": 7
           },
           {
            "bin_start": 335.3,
            "bin_end": 670.6,
            "count": 0
           },
           {
            "bin_start": 670.6,
            "bin_end": 1005.9000000000001,
            "count": 0
           },
           {
            "bin_start": 1005.9000000000001,
            "bin_end": 1341.2,
            "count": 0
           },
           {
            "bin_start": 1341.2,
            "bin_end": 1676.5,
            "count": 0
           },
           {
            "bin_start": 1676.5,
            "bin_end": 2011.8000000000002,
            "count": 0
           },
           {
            "bin_start": 2011.8000000000002,
            "bin_end": 2347.1,
            "count": 0
           },
           {
            "bin_start": 2347.1,
            "bin_end": 2682.4,
            "count": 0
           },
           {
            "bin_start": 2682.4,
            "bin_end": 3017.7000000000003,
            "count": 0
           },
           {
            "bin_start": 3017.7000000000003,
            "bin_end": 3353,
            "count": 1
           }
          ]
         }
        },
        {
         "name": "Trust_Science_Community",
         "dtype": "float64",
         "stats": {
          "unique_count": 8,
          "nan_count": 0,
          "min": "0.0",
          "max": "3353.0",
          "histogram": [
           {
            "bin_start": 0,
            "bin_end": 335.3,
            "count": 7
           },
           {
            "bin_start": 335.3,
            "bin_end": 670.6,
            "count": 0
           },
           {
            "bin_start": 670.6,
            "bin_end": 1005.9000000000001,
            "count": 0
           },
           {
            "bin_start": 1005.9000000000001,
            "bin_end": 1341.2,
            "count": 0
           },
           {
            "bin_start": 1341.2,
            "bin_end": 1676.5,
            "count": 0
           },
           {
            "bin_start": 1676.5,
            "bin_end": 2011.8000000000002,
            "count": 0
           },
           {
            "bin_start": 2011.8000000000002,
            "bin_end": 2347.1,
            "count": 0
           },
           {
            "bin_start": 2347.1,
            "bin_end": 2682.4,
            "count": 0
           },
           {
            "bin_start": 2682.4,
            "bin_end": 3017.7000000000003,
            "count": 0
           },
           {
            "bin_start": 3017.7000000000003,
            "bin_end": 3353,
            "count": 1
           }
          ]
         }
        },
        {
         "name": "Trust_National",
         "dtype": "float64",
         "stats": {
          "unique_count": 8,
          "nan_count": 0,
          "min": "0.0",
          "max": "3353.0",
          "histogram": [
           {
            "bin_start": 0,
            "bin_end": 335.3,
            "count": 7
           },
           {
            "bin_start": 335.3,
            "bin_end": 670.6,
            "count": 0
           },
           {
            "bin_start": 670.6,
            "bin_end": 1005.9000000000001,
            "count": 0
           },
           {
            "bin_start": 1005.9000000000001,
            "bin_end": 1341.2,
            "count": 0
           },
           {
            "bin_start": 1341.2,
            "bin_end": 1676.5,
            "count": 0
           },
           {
            "bin_start": 1676.5,
            "bin_end": 2011.8000000000002,
            "count": 0
           },
           {
            "bin_start": 2011.8000000000002,
            "bin_end": 2347.1,
            "count": 0
           },
           {
            "bin_start": 2347.1,
            "bin_end": 2682.4,
            "count": 0
           },
           {
            "bin_start": 2682.4,
            "bin_end": 3017.7000000000003,
            "count": 0
           },
           {
            "bin_start": 3017.7000000000003,
            "bin_end": 3353,
            "count": 1
           }
          ]
         }
        },
        {
         "name": "Trust_State",
         "dtype": "float64",
         "stats": {
          "unique_count": 8,
          "nan_count": 0,
          "min": "0.0",
          "max": "3353.0",
          "histogram": [
           {
            "bin_start": 0,
            "bin_end": 335.3,
            "count": 7
           },
           {
            "bin_start": 335.3,
            "bin_end": 670.6,
            "count": 0
           },
           {
            "bin_start": 670.6,
            "bin_end": 1005.9000000000001,
            "count": 0
           },
           {
            "bin_start": 1005.9000000000001,
            "bin_end": 1341.2,
            "count": 0
           },
           {
            "bin_start": 1341.2,
            "bin_end": 1676.5,
            "count": 0
           },
           {
            "bin_start": 1676.5,
            "bin_end": 2011.8000000000002,
            "count": 0
           },
           {
            "bin_start": 2011.8000000000002,
            "bin_end": 2347.1,
            "count": 0
           },
           {
            "bin_start": 2347.1,
            "bin_end": 2682.4,
            "count": 0
           },
           {
            "bin_start": 2682.4,
            "bin_end": 3017.7000000000003,
            "count": 0
           },
           {
            "bin_start": 3017.7000000000003,
            "bin_end": 3353,
            "count": 1
           }
          ]
         }
        },
        {
         "name": "Trust_Local",
         "dtype": "float64",
         "stats": {
          "unique_count": 8,
          "nan_count": 0,
          "min": "0.0",
          "max": "3353.0",
          "histogram": [
           {
            "bin_start": 0,
            "bin_end": 335.3,
            "count": 7
           },
           {
            "bin_start": 335.3,
            "bin_end": 670.6,
            "count": 0
           },
           {
            "bin_start": 670.6,
            "bin_end": 1005.9000000000001,
            "count": 0
           },
           {
            "bin_start": 1005.9000000000001,
            "bin_end": 1341.2,
            "count": 0
           },
           {
            "bin_start": 1341.2,
            "bin_end": 1676.5,
            "count": 0
           },
           {
            "bin_start": 1676.5,
            "bin_end": 2011.8000000000002,
            "count": 0
           },
           {
            "bin_start": 2011.8000000000002,
            "bin_end": 2347.1,
            "count": 0
           },
           {
            "bin_start": 2347.1,
            "bin_end": 2682.4,
            "count": 0
           },
           {
            "bin_start": 2682.4,
            "bin_end": 3017.7000000000003,
            "count": 0
           },
           {
            "bin_start": 3017.7000000000003,
            "bin_end": 3353,
            "count": 1
           }
          ]
         }
        },
        {
         "name": "Trust_Media",
         "dtype": "float64",
         "stats": {
          "unique_count": 8,
          "nan_count": 0,
          "min": "0.0",
          "max": "3353.0",
          "histogram": [
           {
            "bin_start": 0,
            "bin_end": 335.3,
            "count": 7
           },
           {
            "bin_start": 335.3,
            "bin_end": 670.6,
            "count": 0
           },
           {
            "bin_start": 670.6,
            "bin_end": 1005.9000000000001,
            "count": 0
           },
           {
            "bin_start": 1005.9000000000001,
            "bin_end": 1341.2,
            "count": 0
           },
           {
            "bin_start": 1341.2,
            "bin_end": 1676.5,
            "count": 0
           },
           {
            "bin_start": 1676.5,
            "bin_end": 2011.8000000000002,
            "count": 0
           },
           {
            "bin_start": 2011.8000000000002,
            "bin_end": 2347.1,
            "count": 0
           },
           {
            "bin_start": 2347.1,
            "bin_end": 2682.4,
            "count": 0
           },
           {
            "bin_start": 2682.4,
            "bin_end": 3017.7000000000003,
            "count": 0
           },
           {
            "bin_start": 3017.7000000000003,
            "bin_end": 3353,
            "count": 1
           }
          ]
         }
        },
        {
         "name": "Perceived_Risk",
         "dtype": "float64",
         "stats": {
          "unique_count": 7,
          "nan_count": 0,
          "min": "0.0",
          "max": "3353.0",
          "histogram": [
           {
            "bin_start": 0,
            "bin_end": 335.3,
            "count": 7
           },
           {
            "bin_start": 335.3,
            "bin_end": 670.6,
            "count": 0
           },
           {
            "bin_start": 670.6,
            "bin_end": 1005.9000000000001,
            "count": 0
           },
           {
            "bin_start": 1005.9000000000001,
            "bin_end": 1341.2,
            "count": 0
           },
           {
            "bin_start": 1341.2,
            "bin_end": 1676.5,
            "count": 0
           },
           {
            "bin_start": 1676.5,
            "bin_end": 2011.8000000000002,
            "count": 0
           },
           {
            "bin_start": 2011.8000000000002,
            "bin_end": 2347.1,
            "count": 0
           },
           {
            "bin_start": 2347.1,
            "bin_end": 2682.4,
            "count": 0
           },
           {
            "bin_start": 2682.4,
            "bin_end": 3017.7000000000003,
            "count": 0
           },
           {
            "bin_start": 3017.7000000000003,
            "bin_end": 3353,
            "count": 1
           }
          ]
         }
        },
        {
         "name": "Perceived_Network_Risk",
         "dtype": "float64",
         "stats": {
          "unique_count": 7,
          "nan_count": 0,
          "min": "0.0",
          "max": "3353.0",
          "histogram": [
           {
            "bin_start": 0,
            "bin_end": 335.3,
            "count": 7
           },
           {
            "bin_start": 335.3,
            "bin_end": 670.6,
            "count": 0
           },
           {
            "bin_start": 670.6,
            "bin_end": 1005.9000000000001,
            "count": 0
           },
           {
            "bin_start": 1005.9000000000001,
            "bin_end": 1341.2,
            "count": 0
           },
           {
            "bin_start": 1341.2,
            "bin_end": 1676.5,
            "count": 0
           },
           {
            "bin_start": 1676.5,
            "bin_end": 2011.8000000000002,
            "count": 0
           },
           {
            "bin_start": 2011.8000000000002,
            "bin_end": 2347.1,
            "count": 0
           },
           {
            "bin_start": 2347.1,
            "bin_end": 2682.4,
            "count": 0
           },
           {
            "bin_start": 2682.4,
            "bin_end": 3017.7000000000003,
            "count": 0
           },
           {
            "bin_start": 3017.7000000000003,
            "bin_end": 3353,
            "count": 1
           }
          ]
         }
        },
        {
         "name": "Doctor_Comfort",
         "dtype": "float64",
         "stats": {
          "unique_count": 7,
          "nan_count": 0,
          "min": "0.0",
          "max": "3353.0",
          "histogram": [
           {
            "bin_start": 0,
            "bin_end": 335.3,
            "count": 7
           },
           {
            "bin_start": 335.3,
            "bin_end": 670.6,
            "count": 0
           },
           {
            "bin_start": 670.6,
            "bin_end": 1005.9000000000001,
            "count": 0
           },
           {
            "bin_start": 1005.9000000000001,
            "bin_end": 1341.2,
            "count": 0
           },
           {
            "bin_start": 1341.2,
            "bin_end": 1676.5,
            "count": 0
           },
           {
            "bin_start": 1676.5,
            "bin_end": 2011.8000000000002,
            "count": 0
           },
           {
            "bin_start": 2011.8000000000002,
            "bin_end": 2347.1,
            "count": 0
           },
           {
            "bin_start": 2347.1,
            "bin_end": 2682.4,
            "count": 0
           },
           {
            "bin_start": 2682.4,
            "bin_end": 3017.7000000000003,
            "count": 0
           },
           {
            "bin_start": 3017.7000000000003,
            "bin_end": 3353,
            "count": 1
           }
          ]
         }
        },
        {
         "name": "Fear_Needles",
         "dtype": "float64",
         "stats": {
          "unique_count": 7,
          "nan_count": 0,
          "min": "0.0",
          "max": "3353.0",
          "histogram": [
           {
            "bin_start": 0,
            "bin_end": 335.3,
            "count": 7
           },
           {
            "bin_start": 335.3,
            "bin_end": 670.6,
            "count": 0
           },
           {
            "bin_start": 670.6,
            "bin_end": 1005.9000000000001,
            "count": 0
           },
           {
            "bin_start": 1005.9000000000001,
            "bin_end": 1341.2,
            "count": 0
           },
           {
            "bin_start": 1341.2,
            "bin_end": 1676.5,
            "count": 0
           },
           {
            "bin_start": 1676.5,
            "bin_end": 2011.8000000000002,
            "count": 0
           },
           {
            "bin_start": 2011.8000000000002,
            "bin_end": 2347.1,
            "count": 0
           },
           {
            "bin_start": 2347.1,
            "bin_end": 2682.4,
            "count": 0
           },
           {
            "bin_start": 2682.4,
            "bin_end": 3017.7000000000003,
            "count": 0
           },
           {
            "bin_start": 3017.7000000000003,
            "bin_end": 3353,
            "count": 1
           }
          ]
         }
        },
        {
         "name": "Condition_Pregnancy",
         "dtype": "float64",
         "stats": {
          "unique_count": 5,
          "nan_count": 0,
          "min": "0.0",
          "max": "3353.0",
          "histogram": [
           {
            "bin_start": 0,
            "bin_end": 335.3,
            "count": 7
           },
           {
            "bin_start": 335.3,
            "bin_end": 670.6,
            "count": 0
           },
           {
            "bin_start": 670.6,
            "bin_end": 1005.9000000000001,
            "count": 0
           },
           {
            "bin_start": 1005.9000000000001,
            "bin_end": 1341.2,
            "count": 0
           },
           {
            "bin_start": 1341.2,
            "bin_end": 1676.5,
            "count": 0
           },
           {
            "bin_start": 1676.5,
            "bin_end": 2011.8000000000002,
            "count": 0
           },
           {
            "bin_start": 2011.8000000000002,
            "bin_end": 2347.1,
            "count": 0
           },
           {
            "bin_start": 2347.1,
            "bin_end": 2682.4,
            "count": 0
           },
           {
            "bin_start": 2682.4,
            "bin_end": 3017.7000000000003,
            "count": 0
           },
           {
            "bin_start": 3017.7000000000003,
            "bin_end": 3353,
            "count": 1
           }
          ]
         }
        },
        {
         "name": "Condition_Asthma",
         "dtype": "float64",
         "stats": {
          "unique_count": 5,
          "nan_count": 0,
          "min": "0.0",
          "max": "3353.0",
          "histogram": [
           {
            "bin_start": 0,
            "bin_end": 335.3,
            "count": 7
           },
           {
            "bin_start": 335.3,
            "bin_end": 670.6,
            "count": 0
           },
           {
            "bin_start": 670.6,
            "bin_end": 1005.9000000000001,
            "count": 0
           },
           {
            "bin_start": 1005.9000000000001,
            "bin_end": 1341.2,
            "count": 0
           },
           {
            "bin_start": 1341.2,
            "bin_end": 1676.5,
            "count": 0
           },
           {
            "bin_start": 1676.5,
            "bin_end": 2011.8000000000002,
            "count": 0
           },
           {
            "bin_start": 2011.8000000000002,
            "bin_end": 2347.1,
            "count": 0
           },
           {
            "bin_start": 2347.1,
            "bin_end": 2682.4,
            "count": 0
           },
           {
            "bin_start": 2682.4,
            "bin_end": 3017.7000000000003,
            "count": 0
           },
           {
            "bin_start": 3017.7000000000003,
            "bin_end": 3353,
            "count": 1
           }
          ]
         }
        },
        {
         "name": "Condition_Lung",
         "dtype": "float64",
         "stats": {
          "unique_count": 5,
          "nan_count": 0,
          "min": "0.0",
          "max": "3353.0",
          "histogram": [
           {
            "bin_start": 0,
            "bin_end": 335.3,
            "count": 7
           },
           {
            "bin_start": 335.3,
            "bin_end": 670.6,
            "count": 0
           },
           {
            "bin_start": 670.6,
            "bin_end": 1005.9000000000001,
            "count": 0
           },
           {
            "bin_start": 1005.9000000000001,
            "bin_end": 1341.2,
            "count": 0
           },
           {
            "bin_start": 1341.2,
            "bin_end": 1676.5,
            "count": 0
           },
           {
            "bin_start": 1676.5,
            "bin_end": 2011.8000000000002,
            "count": 0
           },
           {
            "bin_start": 2011.8000000000002,
            "bin_end": 2347.1,
            "count": 0
           },
           {
            "bin_start": 2347.1,
            "bin_end": 2682.4,
            "count": 0
           },
           {
            "bin_start": 2682.4,
            "bin_end": 3017.7000000000003,
            "count": 0
           },
           {
            "bin_start": 3017.7000000000003,
            "bin_end": 3353,
            "count": 1
           }
          ]
         }
        },
        {
         "name": "Condition_Diabetes",
         "dtype": "float64",
         "stats": {
          "unique_count": 5,
          "nan_count": 0,
          "min": "0.0",
          "max": "3353.0",
          "histogram": [
           {
            "bin_start": 0,
            "bin_end": 335.3,
            "count": 7
           },
           {
            "bin_start": 335.3,
            "bin_end": 670.6,
            "count": 0
           },
           {
            "bin_start": 670.6,
            "bin_end": 1005.9000000000001,
            "count": 0
           },
           {
            "bin_start": 1005.9000000000001,
            "bin_end": 1341.2,
            "count": 0
           },
           {
            "bin_start": 1341.2,
            "bin_end": 1676.5,
            "count": 0
           },
           {
            "bin_start": 1676.5,
            "bin_end": 2011.8000000000002,
            "count": 0
           },
           {
            "bin_start": 2011.8000000000002,
            "bin_end": 2347.1,
            "count": 0
           },
           {
            "bin_start": 2347.1,
            "bin_end": 2682.4,
            "count": 0
           },
           {
            "bin_start": 2682.4,
            "bin_end": 3017.7000000000003,
            "count": 0
           },
           {
            "bin_start": 3017.7000000000003,
            "bin_end": 3353,
            "count": 1
           }
          ]
         }
        },
        {
         "name": "Condition_Immune",
         "dtype": "float64",
         "stats": {
          "unique_count": 5,
          "nan_count": 0,
          "min": "0.0",
          "max": "3353.0",
          "histogram": [
           {
            "bin_start": 0,
            "bin_end": 335.3,
            "count": 7
           },
           {
            "bin_start": 335.3,
            "bin_end": 670.6,
            "count": 0
           },
           {
            "bin_start": 670.6,
            "bin_end": 1005.9000000000001,
            "count": 0
           },
           {
            "bin_start": 1005.9000000000001,
            "bin_end": 1341.2,
            "count": 0
           },
           {
            "bin_start": 1341.2,
            "bin_end": 1676.5,
            "count": 0
           },
           {
            "bin_start": 1676.5,
            "bin_end": 2011.8000000000002,
            "count": 0
           },
           {
            "bin_start": 2011.8000000000002,
            "bin_end": 2347.1,
            "count": 0
           },
           {
            "bin_start": 2347.1,
            "bin_end": 2682.4,
            "count": 0
           },
           {
            "bin_start": 2682.4,
            "bin_end": 3017.7000000000003,
            "count": 0
           },
           {
            "bin_start": 3017.7000000000003,
            "bin_end": 3353,
            "count": 1
           }
          ]
         }
        },
        {
         "name": "Condition_Obesity",
         "dtype": "float64",
         "stats": {
          "unique_count": 5,
          "nan_count": 0,
          "min": "0.0",
          "max": "3353.0",
          "histogram": [
           {
            "bin_start": 0,
            "bin_end": 335.3,
            "count": 7
           },
           {
            "bin_start": 335.3,
            "bin_end": 670.6,
            "count": 0
           },
           {
            "bin_start": 670.6,
            "bin_end": 1005.9000000000001,
            "count": 0
           },
           {
            "bin_start": 1005.9000000000001,
            "bin_end": 1341.2,
            "count": 0
           },
           {
            "bin_start": 1341.2,
            "bin_end": 1676.5,
            "count": 0
           },
           {
            "bin_start": 1676.5,
            "bin_end": 2011.8000000000002,
            "count": 0
           },
           {
            "bin_start": 2011.8000000000002,
            "bin_end": 2347.1,
            "count": 0
           },
           {
            "bin_start": 2347.1,
            "bin_end": 2682.4,
            "count": 0
           },
           {
            "bin_start": 2682.4,
            "bin_end": 3017.7000000000003,
            "count": 0
           },
           {
            "bin_start": 3017.7000000000003,
            "bin_end": 3353,
            "count": 1
           }
          ]
         }
        },
        {
         "name": "Condition_Heart",
         "dtype": "float64",
         "stats": {
          "unique_count": 5,
          "nan_count": 0,
          "min": "0.0",
          "max": "3353.0",
          "histogram": [
           {
            "bin_start": 0,
            "bin_end": 335.3,
            "count": 7
           },
           {
            "bin_start": 335.3,
            "bin_end": 670.6,
            "count": 0
           },
           {
            "bin_start": 670.6,
            "bin_end": 1005.9000000000001,
            "count": 0
           },
           {
            "bin_start": 1005.9000000000001,
            "bin_end": 1341.2,
            "count": 0
           },
           {
            "bin_start": 1341.2,
            "bin_end": 1676.5,
            "count": 0
           },
           {
            "bin_start": 1676.5,
            "bin_end": 2011.8000000000002,
            "count": 0
           },
           {
            "bin_start": 2011.8000000000002,
            "bin_end": 2347.1,
            "count": 0
           },
           {
            "bin_start": 2347.1,
            "bin_end": 2682.4,
            "count": 0
           },
           {
            "bin_start": 2682.4,
            "bin_end": 3017.7000000000003,
            "count": 0
           },
           {
            "bin_start": 3017.7000000000003,
            "bin_end": 3353,
            "count": 1
           }
          ]
         }
        },
        {
         "name": "Condition_Organ",
         "dtype": "float64",
         "stats": {
          "unique_count": 5,
          "nan_count": 0,
          "min": "0.0",
          "max": "3353.0",
          "histogram": [
           {
            "bin_start": 0,
            "bin_end": 335.3,
            "count": 7
           },
           {
            "bin_start": 335.3,
            "bin_end": 670.6,
            "count": 0
           },
           {
            "bin_start": 670.6,
            "bin_end": 1005.9000000000001,
            "count": 0
           },
           {
            "bin_start": 1005.9000000000001,
            "bin_end": 1341.2,
            "count": 0
           },
           {
            "bin_start": 1341.2,
            "bin_end": 1676.5,
            "count": 0
           },
           {
            "bin_start": 1676.5,
            "bin_end": 2011.8000000000002,
            "count": 0
           },
           {
            "bin_start": 2011.8000000000002,
            "bin_end": 2347.1,
            "count": 0
           },
           {
            "bin_start": 2347.1,
            "bin_end": 2682.4,
            "count": 0
           },
           {
            "bin_start": 2682.4,
            "bin_end": 3017.7000000000003,
            "count": 0
           },
           {
            "bin_start": 3017.7000000000003,
            "bin_end": 3353,
            "count": 1
           }
          ]
         }
        },
        {
         "name": "County_Cases",
         "dtype": "float64",
         "stats": {
          "unique_count": 8,
          "nan_count": 0,
          "min": "0.002591871",
          "max": "3353.0",
          "histogram": [
           {
            "bin_start": 0.002591871,
            "bin_end": 335.30233268390003,
            "count": 7
           },
           {
            "bin_start": 335.30233268390003,
            "bin_end": 670.6020734968001,
            "count": 0
           },
           {
            "bin_start": 670.6020734968001,
            "bin_end": 1005.9018143097002,
            "count": 0
           },
           {
            "bin_start": 1005.9018143097002,
            "bin_end": 1341.2015551226002,
            "count": 0
           },
           {
            "bin_start": 1341.2015551226002,
            "bin_end": 1676.5012959355001,
            "count": 0
           },
           {
            "bin_start": 1676.5012959355001,
            "bin_end": 2011.8010367484003,
            "count": 0
           },
           {
            "bin_start": 2011.8010367484003,
            "bin_end": 2347.1007775613,
            "count": 0
           },
           {
            "bin_start": 2347.1007775613,
            "bin_end": 2682.4005183742,
            "count": 0
           },
           {
            "bin_start": 2682.4005183742,
            "bin_end": 3017.7002591871,
            "count": 0
           },
           {
            "bin_start": 3017.7002591871,
            "bin_end": 3353,
            "count": 1
           }
          ]
         }
        },
        {
         "name": "County_Cases2wk",
         "dtype": "float64",
         "stats": {
          "unique_count": 8,
          "nan_count": 0,
          "min": "0.0",
          "max": "3353.0",
          "histogram": [
           {
            "bin_start": 0,
            "bin_end": 335.3,
            "count": 7
           },
           {
            "bin_start": 335.3,
            "bin_end": 670.6,
            "count": 0
           },
           {
            "bin_start": 670.6,
            "bin_end": 1005.9000000000001,
            "count": 0
           },
           {
            "bin_start": 1005.9000000000001,
            "bin_end": 1341.2,
            "count": 0
           },
           {
            "bin_start": 1341.2,
            "bin_end": 1676.5,
            "count": 0
           },
           {
            "bin_start": 1676.5,
            "bin_end": 2011.8000000000002,
            "count": 0
           },
           {
            "bin_start": 2011.8000000000002,
            "bin_end": 2347.1,
            "count": 0
           },
           {
            "bin_start": 2347.1,
            "bin_end": 2682.4,
            "count": 0
           },
           {
            "bin_start": 2682.4,
            "bin_end": 3017.7000000000003,
            "count": 0
           },
           {
            "bin_start": 3017.7000000000003,
            "bin_end": 3353,
            "count": 1
           }
          ]
         }
        },
        {
         "name": "Male",
         "dtype": "float64",
         "stats": {
          "unique_count": 5,
          "nan_count": 0,
          "min": "0.0",
          "max": "3353.0",
          "histogram": [
           {
            "bin_start": 0,
            "bin_end": 335.3,
            "count": 7
           },
           {
            "bin_start": 335.3,
            "bin_end": 670.6,
            "count": 0
           },
           {
            "bin_start": 670.6,
            "bin_end": 1005.9000000000001,
            "count": 0
           },
           {
            "bin_start": 1005.9000000000001,
            "bin_end": 1341.2,
            "count": 0
           },
           {
            "bin_start": 1341.2,
            "bin_end": 1676.5,
            "count": 0
           },
           {
            "bin_start": 1676.5,
            "bin_end": 2011.8000000000002,
            "count": 0
           },
           {
            "bin_start": 2011.8000000000002,
            "bin_end": 2347.1,
            "count": 0
           },
           {
            "bin_start": 2347.1,
            "bin_end": 2682.4,
            "count": 0
           },
           {
            "bin_start": 2682.4,
            "bin_end": 3017.7000000000003,
            "count": 0
           },
           {
            "bin_start": 3017.7000000000003,
            "bin_end": 3353,
            "count": 1
           }
          ]
         }
        },
        {
         "name": "Race",
         "dtype": "float64",
         "stats": {
          "unique_count": 6,
          "nan_count": 0,
          "min": "1.0",
          "max": "3353.0",
          "histogram": [
           {
            "bin_start": 1,
            "bin_end": 336.2,
            "count": 7
           },
           {
            "bin_start": 336.2,
            "bin_end": 671.4,
            "count": 0
           },
           {
            "bin_start": 671.4,
            "bin_end": 1006.5999999999999,
            "count": 0
           },
           {
            "bin_start": 1006.5999999999999,
            "bin_end": 1341.8,
            "count": 0
           },
           {
            "bin_start": 1341.8,
            "bin_end": 1677,
            "count": 0
           },
           {
            "bin_start": 1677,
            "bin_end": 2012.1999999999998,
            "count": 0
           },
           {
            "bin_start": 2012.1999999999998,
            "bin_end": 2347.4,
            "count": 0
           },
           {
            "bin_start": 2347.4,
            "bin_end": 2682.6,
            "count": 0
           },
           {
            "bin_start": 2682.6,
            "bin_end": 3017.7999999999997,
            "count": 0
           },
           {
            "bin_start": 3017.7999999999997,
            "bin_end": 3353,
            "count": 1
           }
          ]
         }
        },
        {
         "name": "Age",
         "dtype": "float64",
         "stats": {
          "unique_count": 8,
          "nan_count": 0,
          "min": "13.990769656003078",
          "max": "3353.0",
          "histogram": [
           {
            "bin_start": 13.990769656003078,
            "bin_end": 347.89169269040275,
            "count": 7
           },
           {
            "bin_start": 347.89169269040275,
            "bin_end": 681.7926157248024,
            "count": 0
           },
           {
            "bin_start": 681.7926157248024,
            "bin_end": 1015.693538759202,
            "count": 0
           },
           {
            "bin_start": 1015.693538759202,
            "bin_end": 1349.5944617936018,
            "count": 0
           },
           {
            "bin_start": 1349.5944617936018,
            "bin_end": 1683.4953848280015,
            "count": 0
           },
           {
            "bin_start": 1683.4953848280015,
            "bin_end": 2017.396307862401,
            "count": 0
           },
           {
            "bin_start": 2017.396307862401,
            "bin_end": 2351.297230896801,
            "count": 0
           },
           {
            "bin_start": 2351.297230896801,
            "bin_end": 2685.1981539312005,
            "count": 0
           },
           {
            "bin_start": 2685.1981539312005,
            "bin_end": 3019.0990769656,
            "count": 0
           },
           {
            "bin_start": 3019.0990769656,
            "bin_end": 3353,
            "count": 1
           }
          ]
         }
        },
        {
         "name": "PS_Index",
         "dtype": "float64",
         "stats": {
          "unique_count": 7,
          "nan_count": 0,
          "min": "0.0",
          "max": "3353.0",
          "histogram": [
           {
            "bin_start": 0,
            "bin_end": 335.3,
            "count": 7
           },
           {
            "bin_start": 335.3,
            "bin_end": 670.6,
            "count": 0
           },
           {
            "bin_start": 670.6,
            "bin_end": 1005.9000000000001,
            "count": 0
           },
           {
            "bin_start": 1005.9000000000001,
            "bin_end": 1341.2,
            "count": 0
           },
           {
            "bin_start": 1341.2,
            "bin_end": 1676.5,
            "count": 0
           },
           {
            "bin_start": 1676.5,
            "bin_end": 2011.8000000000002,
            "count": 0
           },
           {
            "bin_start": 2011.8000000000002,
            "bin_end": 2347.1,
            "count": 0
           },
           {
            "bin_start": 2347.1,
            "bin_end": 2682.4,
            "count": 0
           },
           {
            "bin_start": 2682.4,
            "bin_end": 3017.7000000000003,
            "count": 0
           },
           {
            "bin_start": 3017.7000000000003,
            "bin_end": 3353,
            "count": 1
           }
          ]
         }
        },
        {
         "name": "Natural_Science_Literacy",
         "dtype": "float64",
         "stats": {
          "unique_count": 7,
          "nan_count": 0,
          "min": "0.0",
          "max": "3353.0",
          "histogram": [
           {
            "bin_start": 0,
            "bin_end": 335.3,
            "count": 7
           },
           {
            "bin_start": 335.3,
            "bin_end": 670.6,
            "count": 0
           },
           {
            "bin_start": 670.6,
            "bin_end": 1005.9000000000001,
            "count": 0
           },
           {
            "bin_start": 1005.9000000000001,
            "bin_end": 1341.2,
            "count": 0
           },
           {
            "bin_start": 1341.2,
            "bin_end": 1676.5,
            "count": 0
           },
           {
            "bin_start": 1676.5,
            "bin_end": 2011.8000000000002,
            "count": 0
           },
           {
            "bin_start": 2011.8000000000002,
            "bin_end": 2347.1,
            "count": 0
           },
           {
            "bin_start": 2347.1,
            "bin_end": 2682.4,
            "count": 0
           },
           {
            "bin_start": 2682.4,
            "bin_end": 3017.7000000000003,
            "count": 0
           },
           {
            "bin_start": 3017.7000000000003,
            "bin_end": 3353,
            "count": 1
           }
          ]
         }
        },
        {
         "name": "College_Degree",
         "dtype": "float64",
         "stats": {
          "unique_count": 5,
          "nan_count": 0,
          "min": "0.0",
          "max": "3353.0",
          "histogram": [
           {
            "bin_start": 0,
            "bin_end": 335.3,
            "count": 7
           },
           {
            "bin_start": 335.3,
            "bin_end": 670.6,
            "count": 0
           },
           {
            "bin_start": 670.6,
            "bin_end": 1005.9000000000001,
            "count": 0
           },
           {
            "bin_start": 1005.9000000000001,
            "bin_end": 1341.2,
            "count": 0
           },
           {
            "bin_start": 1341.2,
            "bin_end": 1676.5,
            "count": 0
           },
           {
            "bin_start": 1676.5,
            "bin_end": 2011.8000000000002,
            "count": 0
           },
           {
            "bin_start": 2011.8000000000002,
            "bin_end": 2347.1,
            "count": 0
           },
           {
            "bin_start": 2347.1,
            "bin_end": 2682.4,
            "count": 0
           },
           {
            "bin_start": 2682.4,
            "bin_end": 3017.7000000000003,
            "count": 0
           },
           {
            "bin_start": 3017.7000000000003,
            "bin_end": 3353,
            "count": 1
           }
          ]
         }
        },
        {
         "name": "Pandemic_Impact",
         "dtype": "float64",
         "stats": {
          "unique_count": 8,
          "nan_count": 0,
          "min": "0.0",
          "max": "3353.0",
          "histogram": [
           {
            "bin_start": 0,
            "bin_end": 335.3,
            "count": 7
           },
           {
            "bin_start": 335.3,
            "bin_end": 670.6,
            "count": 0
           },
           {
            "bin_start": 670.6,
            "bin_end": 1005.9000000000001,
            "count": 0
           },
           {
            "bin_start": 1005.9000000000001,
            "bin_end": 1341.2,
            "count": 0
           },
           {
            "bin_start": 1341.2,
            "bin_end": 1676.5,
            "count": 0
           },
           {
            "bin_start": 1676.5,
            "bin_end": 2011.8000000000002,
            "count": 0
           },
           {
            "bin_start": 2011.8000000000002,
            "bin_end": 2347.1,
            "count": 0
           },
           {
            "bin_start": 2347.1,
            "bin_end": 2682.4,
            "count": 0
           },
           {
            "bin_start": 2682.4,
            "bin_end": 3017.7000000000003,
            "count": 0
           },
           {
            "bin_start": 3017.7000000000003,
            "bin_end": 3353,
            "count": 1
           }
          ]
         }
        },
        {
         "name": "Pandemic_Impact_Network",
         "dtype": "float64",
         "stats": {
          "unique_count": 8,
          "nan_count": 0,
          "min": "0.0",
          "max": "3353.0",
          "histogram": [
           {
            "bin_start": 0,
            "bin_end": 335.3,
            "count": 7
           },
           {
            "bin_start": 335.3,
            "bin_end": 670.6,
            "count": 0
           },
           {
            "bin_start": 670.6,
            "bin_end": 1005.9000000000001,
            "count": 0
           },
           {
            "bin_start": 1005.9000000000001,
            "bin_end": 1341.2,
            "count": 0
           },
           {
            "bin_start": 1341.2,
            "bin_end": 1676.5,
            "count": 0
           },
           {
            "bin_start": 1676.5,
            "bin_end": 2011.8000000000002,
            "count": 0
           },
           {
            "bin_start": 2011.8000000000002,
            "bin_end": 2347.1,
            "count": 0
           },
           {
            "bin_start": 2347.1,
            "bin_end": 2682.4,
            "count": 0
           },
           {
            "bin_start": 2682.4,
            "bin_end": 3017.7000000000003,
            "count": 0
           },
           {
            "bin_start": 3017.7000000000003,
            "bin_end": 3353,
            "count": 1
           }
          ]
         }
        },
        {
         "name": "Infected_Personal",
         "dtype": "float64",
         "stats": {
          "unique_count": 5,
          "nan_count": 0,
          "min": "0.0",
          "max": "3353.0",
          "histogram": [
           {
            "bin_start": 0,
            "bin_end": 335.3,
            "count": 7
           },
           {
            "bin_start": 335.3,
            "bin_end": 670.6,
            "count": 0
           },
           {
            "bin_start": 670.6,
            "bin_end": 1005.9000000000001,
            "count": 0
           },
           {
            "bin_start": 1005.9000000000001,
            "bin_end": 1341.2,
            "count": 0
           },
           {
            "bin_start": 1341.2,
            "bin_end": 1676.5,
            "count": 0
           },
           {
            "bin_start": 1676.5,
            "bin_end": 2011.8000000000002,
            "count": 0
           },
           {
            "bin_start": 2011.8000000000002,
            "bin_end": 2347.1,
            "count": 0
           },
           {
            "bin_start": 2347.1,
            "bin_end": 2682.4,
            "count": 0
           },
           {
            "bin_start": 2682.4,
            "bin_end": 3017.7000000000003,
            "count": 0
           },
           {
            "bin_start": 3017.7000000000003,
            "bin_end": 3353,
            "count": 1
           }
          ]
         }
        },
        {
         "name": "Infected_Network",
         "dtype": "float64",
         "stats": {
          "unique_count": 5,
          "nan_count": 0,
          "min": "0.0",
          "max": "3353.0",
          "histogram": [
           {
            "bin_start": 0,
            "bin_end": 335.3,
            "count": 7
           },
           {
            "bin_start": 335.3,
            "bin_end": 670.6,
            "count": 0
           },
           {
            "bin_start": 670.6,
            "bin_end": 1005.9000000000001,
            "count": 0
           },
           {
            "bin_start": 1005.9000000000001,
            "bin_end": 1341.2,
            "count": 0
           },
           {
            "bin_start": 1341.2,
            "bin_end": 1676.5,
            "count": 0
           },
           {
            "bin_start": 1676.5,
            "bin_end": 2011.8000000000002,
            "count": 0
           },
           {
            "bin_start": 2011.8000000000002,
            "bin_end": 2347.1,
            "count": 0
           },
           {
            "bin_start": 2347.1,
            "bin_end": 2682.4,
            "count": 0
           },
           {
            "bin_start": 2682.4,
            "bin_end": 3017.7000000000003,
            "count": 0
           },
           {
            "bin_start": 3017.7000000000003,
            "bin_end": 3353,
            "count": 1
           }
          ]
         }
        },
        {
         "name": "Biden",
         "dtype": "float64",
         "stats": {
          "unique_count": 5,
          "nan_count": 0,
          "min": "0.0",
          "max": "3353.0",
          "histogram": [
           {
            "bin_start": 0,
            "bin_end": 335.3,
            "count": 7
           },
           {
            "bin_start": 335.3,
            "bin_end": 670.6,
            "count": 0
           },
           {
            "bin_start": 670.6,
            "bin_end": 1005.9000000000001,
            "count": 0
           },
           {
            "bin_start": 1005.9000000000001,
            "bin_end": 1341.2,
            "count": 0
           },
           {
            "bin_start": 1341.2,
            "bin_end": 1676.5,
            "count": 0
           },
           {
            "bin_start": 1676.5,
            "bin_end": 2011.8000000000002,
            "count": 0
           },
           {
            "bin_start": 2011.8000000000002,
            "bin_end": 2347.1,
            "count": 0
           },
           {
            "bin_start": 2347.1,
            "bin_end": 2682.4,
            "count": 0
           },
           {
            "bin_start": 2682.4,
            "bin_end": 3017.7000000000003,
            "count": 0
           },
           {
            "bin_start": 3017.7000000000003,
            "bin_end": 3353,
            "count": 1
           }
          ]
         }
        },
        {
         "name": "Trump",
         "dtype": "float64",
         "stats": {
          "unique_count": 5,
          "nan_count": 0,
          "min": "0.0",
          "max": "3353.0",
          "histogram": [
           {
            "bin_start": 0,
            "bin_end": 335.3,
            "count": 7
           },
           {
            "bin_start": 335.3,
            "bin_end": 670.6,
            "count": 0
           },
           {
            "bin_start": 670.6,
            "bin_end": 1005.9000000000001,
            "count": 0
           },
           {
            "bin_start": 1005.9000000000001,
            "bin_end": 1341.2,
            "count": 0
           },
           {
            "bin_start": 1341.2,
            "bin_end": 1676.5,
            "count": 0
           },
           {
            "bin_start": 1676.5,
            "bin_end": 2011.8000000000002,
            "count": 0
           },
           {
            "bin_start": 2011.8000000000002,
            "bin_end": 2347.1,
            "count": 0
           },
           {
            "bin_start": 2347.1,
            "bin_end": 2682.4,
            "count": 0
           },
           {
            "bin_start": 2682.4,
            "bin_end": 3017.7000000000003,
            "count": 0
           },
           {
            "bin_start": 3017.7000000000003,
            "bin_end": 3353,
            "count": 1
           }
          ]
         }
        },
        {
         "name": "Party_ID",
         "dtype": "float64",
         "stats": {
          "unique_count": 7,
          "nan_count": 0,
          "min": "0.0",
          "max": "3353.0",
          "histogram": [
           {
            "bin_start": 0,
            "bin_end": 335.3,
            "count": 7
           },
           {
            "bin_start": 335.3,
            "bin_end": 670.6,
            "count": 0
           },
           {
            "bin_start": 670.6,
            "bin_end": 1005.9000000000001,
            "count": 0
           },
           {
            "bin_start": 1005.9000000000001,
            "bin_end": 1341.2,
            "count": 0
           },
           {
            "bin_start": 1341.2,
            "bin_end": 1676.5,
            "count": 0
           },
           {
            "bin_start": 1676.5,
            "bin_end": 2011.8000000000002,
            "count": 0
           },
           {
            "bin_start": 2011.8000000000002,
            "bin_end": 2347.1,
            "count": 0
           },
           {
            "bin_start": 2347.1,
            "bin_end": 2682.4,
            "count": 0
           },
           {
            "bin_start": 2682.4,
            "bin_end": 3017.7000000000003,
            "count": 0
           },
           {
            "bin_start": 3017.7000000000003,
            "bin_end": 3353,
            "count": 1
           }
          ]
         }
        },
        {
         "name": "Household_Income",
         "dtype": "float64",
         "stats": {
          "unique_count": 8,
          "nan_count": 0,
          "min": "1.0",
          "max": "3353.0",
          "histogram": [
           {
            "bin_start": 1,
            "bin_end": 336.2,
            "count": 7
           },
           {
            "bin_start": 336.2,
            "bin_end": 671.4,
            "count": 0
           },
           {
            "bin_start": 671.4,
            "bin_end": 1006.5999999999999,
            "count": 0
           },
           {
            "bin_start": 1006.5999999999999,
            "bin_end": 1341.8,
            "count": 0
           },
           {
            "bin_start": 1341.8,
            "bin_end": 1677,
            "count": 0
           },
           {
            "bin_start": 1677,
            "bin_end": 2012.1999999999998,
            "count": 0
           },
           {
            "bin_start": 2012.1999999999998,
            "bin_end": 2347.4,
            "count": 0
           },
           {
            "bin_start": 2347.4,
            "bin_end": 2682.6,
            "count": 0
           },
           {
            "bin_start": 2682.6,
            "bin_end": 3017.7999999999997,
            "count": 0
           },
           {
            "bin_start": 3017.7999999999997,
            "bin_end": 3353,
            "count": 1
           }
          ]
         }
        },
        {
         "name": "Vaccine_Required",
         "dtype": "float64",
         "stats": {
          "unique_count": 5,
          "nan_count": 0,
          "min": "0.0",
          "max": "3353.0",
          "histogram": [
           {
            "bin_start": 0,
            "bin_end": 335.3,
            "count": 7
           },
           {
            "bin_start": 335.3,
            "bin_end": 670.6,
            "count": 0
           },
           {
            "bin_start": 670.6,
            "bin_end": 1005.9000000000001,
            "count": 0
           },
           {
            "bin_start": 1005.9000000000001,
            "bin_end": 1341.2,
            "count": 0
           },
           {
            "bin_start": 1341.2,
            "bin_end": 1676.5,
            "count": 0
           },
           {
            "bin_start": 1676.5,
            "bin_end": 2011.8000000000002,
            "count": 0
           },
           {
            "bin_start": 2011.8000000000002,
            "bin_end": 2347.1,
            "count": 0
           },
           {
            "bin_start": 2347.1,
            "bin_end": 2682.4,
            "count": 0
           },
           {
            "bin_start": 2682.4,
            "bin_end": 3017.7000000000003,
            "count": 0
           },
           {
            "bin_start": 3017.7000000000003,
            "bin_end": 3353,
            "count": 1
           }
          ]
         }
        },
        {
         "name": "Evangelical",
         "dtype": "float64",
         "stats": {
          "unique_count": 5,
          "nan_count": 0,
          "min": "0.0",
          "max": "3353.0",
          "histogram": [
           {
            "bin_start": 0,
            "bin_end": 335.3,
            "count": 7
           },
           {
            "bin_start": 335.3,
            "bin_end": 670.6,
            "count": 0
           },
           {
            "bin_start": 670.6,
            "bin_end": 1005.9000000000001,
            "count": 0
           },
           {
            "bin_start": 1005.9000000000001,
            "bin_end": 1341.2,
            "count": 0
           },
           {
            "bin_start": 1341.2,
            "bin_end": 1676.5,
            "count": 0
           },
           {
            "bin_start": 1676.5,
            "bin_end": 2011.8000000000002,
            "count": 0
           },
           {
            "bin_start": 2011.8000000000002,
            "bin_end": 2347.1,
            "count": 0
           },
           {
            "bin_start": 2347.1,
            "bin_end": 2682.4,
            "count": 0
           },
           {
            "bin_start": 2682.4,
            "bin_end": 3017.7000000000003,
            "count": 0
           },
           {
            "bin_start": 3017.7000000000003,
            "bin_end": 3353,
            "count": 1
           }
          ]
         }
        },
        {
         "name": "_deepnote_index_column",
         "dtype": "object"
        }
       ],
       "rows": [
        {
         "County_Density": 3353,
         "Vaccine_Trust_Index": 3353,
         "Personal_Responsibility": 3353,
         "Trust_Science_Apolitical": 3353,
         "Trust_Science_Politicians": 3353,
         "Trust_Science_Media": 3353,
         "Trust_Science_Community": 3353,
         "Trust_National": 3353,
         "Trust_State": 3353,
         "Trust_Local": 3353,
         "Trust_Media": 3353,
         "Perceived_Risk": 3353,
         "Perceived_Network_Risk": 3353,
         "Doctor_Comfort": 3353,
         "Fear_Needles": 3353,
         "Condition_Pregnancy": 3353,
         "Condition_Asthma": 3353,
         "Condition_Lung": 3353,
         "Condition_Diabetes": 3353,
         "Condition_Immune": 3353,
         "Condition_Obesity": 3353,
         "Condition_Heart": 3353,
         "Condition_Organ": 3353,
         "County_Cases": 3353,
         "County_Cases2wk": 3353,
         "Male": 3353,
         "Race": 3353,
         "Age": 3353,
         "PS_Index": 3353,
         "Natural_Science_Literacy": 3353,
         "College_Degree": 3353,
         "Pandemic_Impact": 3353,
         "Pandemic_Impact_Network": 3353,
         "Infected_Personal": 3353,
         "Infected_Network": 3353,
         "Biden": 3353,
         "Trump": 3353,
         "Party_ID": 3353,
         "Household_Income": 3353,
         "Vaccine_Required": 3353,
         "Evangelical": 3353,
         "_deepnote_index_column": "count"
        },
        {
         "County_Density": 882.1533052651216,
         "Vaccine_Trust_Index": 7.583407887166716,
         "Personal_Responsibility": 7.033701163137489,
         "Trust_Science_Apolitical": 5.4548165821652255,
         "Trust_Science_Politicians": 2.3241872949597377,
         "Trust_Science_Media": 3.5893229943334326,
         "Trust_Science_Community": 6.494482552937668,
         "Trust_National": 5.090665076051297,
         "Trust_State": 5.539815090963317,
         "Trust_Local": 6.025648672830301,
         "Trust_Media": 4.456307784073964,
         "Perceived_Risk": 6.653742916790933,
         "Perceived_Network_Risk": 6.838651953474501,
         "Doctor_Comfort": 8.383835371309276,
         "Fear_Needles": 2.427378467044438,
         "Condition_Pregnancy": 0.003578884580972264,
         "Condition_Asthma": 0.06770056665672532,
         "Condition_Lung": 0.01968386519534745,
         "Condition_Diabetes": 0.12555920071577692,
         "Condition_Immune": 0.054279749478079335,
         "Condition_Obesity": 0.10348941246644795,
         "Condition_Heart": 0.0787354607813898,
         "Condition_Organ": 0.023560990158067403,
         "County_Cases": 0.0864442032711005,
         "County_Cases2wk": 0.0026357386191470326,
         "Male": 0.5463763793617655,
         "Race": 1.5937966000596482,
         "Age": 58.21503131524008,
         "PS_Index": 0.42474401694959735,
         "Natural_Science_Literacy": 0.7633462551088578,
         "College_Degree": 0.5914106770056665,
         "Pandemic_Impact": 4.771398747390396,
         "Pandemic_Impact_Network": 4.7954070981210855,
         "Infected_Personal": 0.05070086489710707,
         "Infected_Network": 0.40143155383238893,
         "Biden": 0.615866388308977,
         "Trump": 0.35818669847897405,
         "Party_ID": 1.0844020280345958,
         "Household_Income": 6.345958842827319,
         "Vaccine_Required": 0.21145243065911123,
         "Evangelical": 0.17924246943036087,
         "_deepnote_index_column": "mean"
        },
        {
         "County_Density": 2638.1892758148742,
         "Vaccine_Trust_Index": 2.532152447729734,
         "Personal_Responsibility": 2.4774153957558513,
         "Trust_Science_Apolitical": 2.8504597414328177,
         "Trust_Science_Politicians": 2.2255438590353784,
         "Trust_Science_Media": 2.9520581471333562,
         "Trust_Science_Community": 2.5407272045014433,
         "Trust_National": 2.431301804724466,
         "Trust_State": 2.5393640023053363,
         "Trust_Local": 2.251477518994398,
         "Trust_Media": 2.9885346287832113,
         "Perceived_Risk": 3.409895203703034,
         "Perceived_Network_Risk": 3.267221250197415,
         "Doctor_Comfort": 2.24252962168936,
         "Fear_Needles": 3.206058119946384,
         "Condition_Pregnancy": 0.059725539188298975,
         "Condition_Asthma": 0.2512688393825762,
         "Condition_Lung": 0.13893224007433452,
         "Condition_Diabetes": 0.3314013316673072,
         "Condition_Immune": 0.22660267551863664,
         "Condition_Obesity": 0.30464246712939114,
         "Condition_Heart": 0.26936560224192596,
         "Condition_Organ": 0.1516994832792175,
         "County_Cases": 0.02419587435722622,
         "County_Cases2wk": 0.001370753160547315,
         "Male": 0.497918840915662,
         "Race": 1.043897908257475,
         "Age": 13.990769656003078,
         "PS_Index": 0.16622790635930818,
         "Natural_Science_Literacy": 0.2326010805397527,
         "College_Degree": 0.4916463949369139,
         "Pandemic_Impact": 1.6995390309209522,
         "Pandemic_Impact_Network": 1.6847846109682179,
         "Infected_Personal": 0.21941888221699782,
         "Infected_Network": 0.4902610990778027,
         "Biden": 0.48646228766635935,
         "Trump": 0.47953891410938954,
         "Party_ID": 0.92194056810491,
         "Household_Income": 3.6843978493948493,
         "Vaccine_Required": 0.4083993679644789,
         "Evangelical": 0.3836124283552991,
         "_deepnote_index_column": "std"
        },
        {
         "County_Density": 0.928097868,
         "Vaccine_Trust_Index": 0,
         "Personal_Responsibility": 0,
         "Trust_Science_Apolitical": 0,
         "Trust_Science_Politicians": 0,
         "Trust_Science_Media": 0,
         "Trust_Science_Community": 0,
         "Trust_National": 0,
         "Trust_State": 0,
         "Trust_Local": 0,
         "Trust_Media": 0,
         "Perceived_Risk": 0,
         "Perceived_Network_Risk": 0,
         "Doctor_Comfort": 0,
         "Fear_Needles": 0,
         "Condition_Pregnancy": 0,
         "Condition_Asthma": 0,
         "Condition_Lung": 0,
         "Condition_Diabetes": 0,
         "Condition_Immune": 0,
         "Condition_Obesity": 0,
         "Condition_Heart": 0,
         "Condition_Organ": 0,
         "County_Cases": 0.002591871,
         "County_Cases2wk": 0,
         "Male": 0,
         "Race": 1,
         "Age": 18,
         "PS_Index": 0,
         "Natural_Science_Literacy": 0,
         "College_Degree": 0,
         "Pandemic_Impact": 0,
         "Pandemic_Impact_Network": 0,
         "Infected_Personal": 0,
         "Infected_Network": 0,
         "Biden": 0,
         "Trump": 0,
         "Party_ID": 0,
         "Household_Income": 1,
         "Vaccine_Required": 0,
         "Evangelical": 0,
         "_deepnote_index_column": "min"
        },
        {
         "County_Density": 108.3842223,
         "Vaccine_Trust_Index": 6.333333492,
         "Personal_Responsibility": 5,
         "Trust_Science_Apolitical": 3,
         "Trust_Science_Politicians": 0,
         "Trust_Science_Media": 1,
         "Trust_Science_Community": 5,
         "Trust_National": 4,
         "Trust_State": 4,
         "Trust_Local": 5,
         "Trust_Media": 2,
         "Perceived_Risk": 4,
         "Perceived_Network_Risk": 5,
         "Doctor_Comfort": 8,
         "Fear_Needles": 0,
         "Condition_Pregnancy": 0,
         "Condition_Asthma": 0,
         "Condition_Lung": 0,
         "Condition_Diabetes": 0,
         "Condition_Immune": 0,
         "Condition_Obesity": 0,
         "Condition_Heart": 0,
         "Condition_Organ": 0,
         "County_Cases": 0.07188198,
         "County_Cases2wk": 0.001687606,
         "Male": 0,
         "Race": 1,
         "Age": 49,
         "PS_Index": 0.333333343,
         "Natural_Science_Literacy": 0.666666687,
         "College_Degree": 0,
         "Pandemic_Impact": 4,
         "Pandemic_Impact_Network": 4,
         "Infected_Personal": 0,
         "Infected_Network": 0,
         "Biden": 0,
         "Trump": 0,
         "Party_ID": 0,
         "Household_Income": 2,
         "Vaccine_Required": 0,
         "Evangelical": 0,
         "_deepnote_index_column": "25%"
        },
        {
         "County_Density": 299.58893,
         "Vaccine_Trust_Index": 8.333333015,
         "Personal_Responsibility": 7,
         "Trust_Science_Apolitical": 5,
         "Trust_Science_Politicians": 2,
         "Trust_Science_Media": 4,
         "Trust_Science_Community": 7,
         "Trust_National": 5,
         "Trust_State": 6,
         "Trust_Local": 6,
         "Trust_Media": 5,
         "Perceived_Risk": 8,
         "Perceived_Network_Risk": 8,
         "Doctor_Comfort": 9,
         "Fear_Needles": 1,
         "Condition_Pregnancy": 0,
         "Condition_Asthma": 0,
         "Condition_Lung": 0,
         "Condition_Diabetes": 0,
         "Condition_Immune": 0,
         "Condition_Obesity": 0,
         "Condition_Heart": 0,
         "Condition_Organ": 0,
         "County_Cases": 0.086136296,
         "County_Cases2wk": 0.002316261,
         "Male": 1,
         "Race": 1,
         "Age": 61,
         "PS_Index": 0.333333343,
         "Natural_Science_Literacy": 0.833333313,
         "College_Degree": 1,
         "Pandemic_Impact": 5,
         "Pandemic_Impact_Network": 5,
         "Infected_Personal": 0,
         "Infected_Network": 0,
         "Biden": 1,
         "Trump": 0,
         "Party_ID": 1,
         "Household_Income": 6,
         "Vaccine_Required": 0,
         "Evangelical": 0,
         "_deepnote_index_column": "50%"
        },
        {
         "County_Density": 715.2753775,
         "Vaccine_Trust_Index": 9.333333015,
         "Personal_Responsibility": 9,
         "Trust_Science_Apolitical": 8,
         "Trust_Science_Politicians": 4,
         "Trust_Science_Media": 5,
         "Trust_Science_Community": 8,
         "Trust_National": 7,
         "Trust_State": 8,
         "Trust_Local": 8,
         "Trust_Media": 7,
         "Perceived_Risk": 10,
         "Perceived_Network_Risk": 10,
         "Doctor_Comfort": 10,
         "Fear_Needles": 5,
         "Condition_Pregnancy": 0,
         "Condition_Asthma": 0,
         "Condition_Lung": 0,
         "Condition_Diabetes": 0,
         "Condition_Immune": 0,
         "Condition_Obesity": 0,
         "Condition_Heart": 0,
         "Condition_Organ": 0,
         "County_Cases": 0.102835208,
         "County_Cases2wk": 0.003225113,
         "Male": 1,
         "Race": 2,
         "Age": 69,
         "PS_Index": 0.5,
         "Natural_Science_Literacy": 1,
         "College_Degree": 1,
         "Pandemic_Impact": 5.5,
         "Pandemic_Impact_Network": 5.5,
         "Infected_Personal": 0,
         "Infected_Network": 1,
         "Biden": 1,
         "Trump": 1,
         "Party_ID": 2,
         "Household_Income": 10,
         "Vaccine_Required": 0,
         "Evangelical": 0,
         "_deepnote_index_column": "75%"
        },
        {
         "County_Density": 27819.8048,
         "Vaccine_Trust_Index": 10,
         "Personal_Responsibility": 10,
         "Trust_Science_Apolitical": 10,
         "Trust_Science_Politicians": 10,
         "Trust_Science_Media": 10,
         "Trust_Science_Community": 10,
         "Trust_National": 10,
         "Trust_State": 10,
         "Trust_Local": 10,
         "Trust_Media": 10,
         "Perceived_Risk": 10,
         "Perceived_Network_Risk": 10,
         "Doctor_Comfort": 10,
         "Fear_Needles": 10,
         "Condition_Pregnancy": 1,
         "Condition_Asthma": 1,
         "Condition_Lung": 1,
         "Condition_Diabetes": 1,
         "Condition_Immune": 1,
         "Condition_Obesity": 1,
         "Condition_Heart": 1,
         "Condition_Organ": 1,
         "County_Cases": 0.184383169,
         "County_Cases2wk": 0.015414549,
         "Male": 1,
         "Race": 4,
         "Age": 92,
         "PS_Index": 1,
         "Natural_Science_Literacy": 1,
         "College_Degree": 1,
         "Pandemic_Impact": 10,
         "Pandemic_Impact_Network": 10,
         "Infected_Personal": 1,
         "Infected_Network": 1,
         "Biden": 1,
         "Trump": 1,
         "Party_ID": 4,
         "Household_Income": 12,
         "Vaccine_Required": 1,
         "Evangelical": 1,
         "_deepnote_index_column": "max"
        }
       ]
      },
      "text/plain": "       County_Density  Vaccine_Trust_Index  Personal_Responsibility  \\\ncount     3353.000000          3353.000000              3353.000000   \nmean       882.153305             7.583408                 7.033701   \nstd       2638.189276             2.532152                 2.477415   \nmin          0.928098             0.000000                 0.000000   \n25%        108.384222             6.333333                 5.000000   \n50%        299.588930             8.333333                 7.000000   \n75%        715.275377             9.333333                 9.000000   \nmax      27819.804800            10.000000                10.000000   \n\n       Trust_Science_Apolitical  Trust_Science_Politicians  \\\ncount               3353.000000                3353.000000   \nmean                   5.454817                   2.324187   \nstd                    2.850460                   2.225544   \nmin                    0.000000                   0.000000   \n25%                    3.000000                   0.000000   \n50%                    5.000000                   2.000000   \n75%                    8.000000                   4.000000   \nmax                   10.000000                  10.000000   \n\n       Trust_Science_Media  Trust_Science_Community  Trust_National  \\\ncount          3353.000000              3353.000000     3353.000000   \nmean              3.589323                 6.494483        5.090665   \nstd               2.952058                 2.540727        2.431302   \nmin               0.000000                 0.000000        0.000000   \n25%               1.000000                 5.000000        4.000000   \n50%               4.000000                 7.000000        5.000000   \n75%               5.000000                 8.000000        7.000000   \nmax              10.000000                10.000000       10.000000   \n\n       Trust_State  Trust_Local  ...  Pandemic_Impact  \\\ncount  3353.000000  3353.000000  ...      3353.000000   \nmean      5.539815     6.025649  ...         4.771399   \nstd       2.539364     2.251478  ...         1.699539   \nmin       0.000000     0.000000  ...         0.000000   \n25%       4.000000     5.000000  ...         4.000000   \n50%       6.000000     6.000000  ...         5.000000   \n75%       8.000000     8.000000  ...         5.500000   \nmax      10.000000    10.000000  ...        10.000000   \n\n       Pandemic_Impact_Network  Infected_Personal  Infected_Network  \\\ncount              3353.000000        3353.000000       3353.000000   \nmean                  4.795407           0.050701          0.401432   \nstd                   1.684785           0.219419          0.490261   \nmin                   0.000000           0.000000          0.000000   \n25%                   4.000000           0.000000          0.000000   \n50%                   5.000000           0.000000          0.000000   \n75%                   5.500000           0.000000          1.000000   \nmax                  10.000000           1.000000          1.000000   \n\n             Biden        Trump     Party_ID  Household_Income  \\\ncount  3353.000000  3353.000000  3353.000000       3353.000000   \nmean      0.615866     0.358187     1.084402          6.345959   \nstd       0.486462     0.479539     0.921941          3.684398   \nmin       0.000000     0.000000     0.000000          1.000000   \n25%       0.000000     0.000000     0.000000          2.000000   \n50%       1.000000     0.000000     1.000000          6.000000   \n75%       1.000000     1.000000     2.000000         10.000000   \nmax       1.000000     1.000000     4.000000         12.000000   \n\n       Vaccine_Required  Evangelical  \ncount       3353.000000  3353.000000  \nmean           0.211452     0.179242  \nstd            0.408399     0.383612  \nmin            0.000000     0.000000  \n25%            0.000000     0.000000  \n50%            0.000000     0.000000  \n75%            0.000000     0.000000  \nmax            1.000000     1.000000  \n\n[8 rows x 41 columns]",
      "text/html": "<div>\n<style scoped>\n    .dataframe tbody tr th:only-of-type {\n        vertical-align: middle;\n    }\n\n    .dataframe tbody tr th {\n        vertical-align: top;\n    }\n\n    .dataframe thead th {\n        text-align: right;\n    }\n</style>\n<table border=\"1\" class=\"dataframe\">\n  <thead>\n    <tr style=\"text-align: right;\">\n      <th></th>\n      <th>County_Density</th>\n      <th>Vaccine_Trust_Index</th>\n      <th>Personal_Responsibility</th>\n      <th>Trust_Science_Apolitical</th>\n      <th>Trust_Science_Politicians</th>\n      <th>Trust_Science_Media</th>\n      <th>Trust_Science_Community</th>\n      <th>Trust_National</th>\n      <th>Trust_State</th>\n      <th>Trust_Local</th>\n      <th>...</th>\n      <th>Pandemic_Impact</th>\n      <th>Pandemic_Impact_Network</th>\n      <th>Infected_Personal</th>\n      <th>Infected_Network</th>\n      <th>Biden</th>\n      <th>Trump</th>\n      <th>Party_ID</th>\n      <th>Household_Income</th>\n      <th>Vaccine_Required</th>\n      <th>Evangelical</th>\n    </tr>\n  </thead>\n  <tbody>\n    <tr>\n      <th>count</th>\n      <td>3353.000000</td>\n      <td>3353.000000</td>\n      <td>3353.000000</td>\n      <td>3353.000000</td>\n      <td>3353.000000</td>\n      <td>3353.000000</td>\n      <td>3353.000000</td>\n      <td>3353.000000</td>\n      <td>3353.000000</td>\n      <td>3353.000000</td>\n      <td>...</td>\n      <td>3353.000000</td>\n      <td>3353.000000</td>\n      <td>3353.000000</td>\n      <td>3353.000000</td>\n      <td>3353.000000</td>\n      <td>3353.000000</td>\n      <td>3353.000000</td>\n      <td>3353.000000</td>\n      <td>3353.000000</td>\n      <td>3353.000000</td>\n    </tr>\n    <tr>\n      <th>mean</th>\n      <td>882.153305</td>\n      <td>7.583408</td>\n      <td>7.033701</td>\n      <td>5.454817</td>\n      <td>2.324187</td>\n      <td>3.589323</td>\n      <td>6.494483</td>\n      <td>5.090665</td>\n      <td>5.539815</td>\n      <td>6.025649</td>\n      <td>...</td>\n      <td>4.771399</td>\n      <td>4.795407</td>\n      <td>0.050701</td>\n      <td>0.401432</td>\n      <td>0.615866</td>\n      <td>0.358187</td>\n      <td>1.084402</td>\n      <td>6.345959</td>\n      <td>0.211452</td>\n      <td>0.179242</td>\n    </tr>\n    <tr>\n      <th>std</th>\n      <td>2638.189276</td>\n      <td>2.532152</td>\n      <td>2.477415</td>\n      <td>2.850460</td>\n      <td>2.225544</td>\n      <td>2.952058</td>\n      <td>2.540727</td>\n      <td>2.431302</td>\n      <td>2.539364</td>\n      <td>2.251478</td>\n      <td>...</td>\n      <td>1.699539</td>\n      <td>1.684785</td>\n      <td>0.219419</td>\n      <td>0.490261</td>\n      <td>0.486462</td>\n      <td>0.479539</td>\n      <td>0.921941</td>\n      <td>3.684398</td>\n      <td>0.408399</td>\n      <td>0.383612</td>\n    </tr>\n    <tr>\n      <th>min</th>\n      <td>0.928098</td>\n      <td>0.000000</td>\n      <td>0.000000</td>\n      <td>0.000000</td>\n      <td>0.000000</td>\n      <td>0.000000</td>\n      <td>0.000000</td>\n      <td>0.000000</td>\n      <td>0.000000</td>\n      <td>0.000000</td>\n      <td>...</td>\n      <td>0.000000</td>\n      <td>0.000000</td>\n      <td>0.000000</td>\n      <td>0.000000</td>\n      <td>0.000000</td>\n      <td>0.000000</td>\n      <td>0.000000</td>\n      <td>1.000000</td>\n      <td>0.000000</td>\n      <td>0.000000</td>\n    </tr>\n    <tr>\n      <th>25%</th>\n      <td>108.384222</td>\n      <td>6.333333</td>\n      <td>5.000000</td>\n      <td>3.000000</td>\n      <td>0.000000</td>\n      <td>1.000000</td>\n      <td>5.000000</td>\n      <td>4.000000</td>\n      <td>4.000000</td>\n      <td>5.000000</td>\n      <td>...</td>\n      <td>4.000000</td>\n      <td>4.000000</td>\n      <td>0.000000</td>\n      <td>0.000000</td>\n      <td>0.000000</td>\n      <td>0.000000</td>\n      <td>0.000000</td>\n      <td>2.000000</td>\n      <td>0.000000</td>\n      <td>0.000000</td>\n    </tr>\n    <tr>\n      <th>50%</th>\n      <td>299.588930</td>\n      <td>8.333333</td>\n      <td>7.000000</td>\n      <td>5.000000</td>\n      <td>2.000000</td>\n      <td>4.000000</td>\n      <td>7.000000</td>\n      <td>5.000000</td>\n      <td>6.000000</td>\n      <td>6.000000</td>\n      <td>...</td>\n      <td>5.000000</td>\n      <td>5.000000</td>\n      <td>0.000000</td>\n      <td>0.000000</td>\n      <td>1.000000</td>\n      <td>0.000000</td>\n      <td>1.000000</td>\n      <td>6.000000</td>\n      <td>0.000000</td>\n      <td>0.000000</td>\n    </tr>\n    <tr>\n      <th>75%</th>\n      <td>715.275377</td>\n      <td>9.333333</td>\n      <td>9.000000</td>\n      <td>8.000000</td>\n      <td>4.000000</td>\n      <td>5.000000</td>\n      <td>8.000000</td>\n      <td>7.000000</td>\n      <td>8.000000</td>\n      <td>8.000000</td>\n      <td>...</td>\n      <td>5.500000</td>\n      <td>5.500000</td>\n      <td>0.000000</td>\n      <td>1.000000</td>\n      <td>1.000000</td>\n      <td>1.000000</td>\n      <td>2.000000</td>\n      <td>10.000000</td>\n      <td>0.000000</td>\n      <td>0.000000</td>\n    </tr>\n    <tr>\n      <th>max</th>\n      <td>27819.804800</td>\n      <td>10.000000</td>\n      <td>10.000000</td>\n      <td>10.000000</td>\n      <td>10.000000</td>\n      <td>10.000000</td>\n      <td>10.000000</td>\n      <td>10.000000</td>\n      <td>10.000000</td>\n      <td>10.000000</td>\n      <td>...</td>\n      <td>10.000000</td>\n      <td>10.000000</td>\n      <td>1.000000</td>\n      <td>1.000000</td>\n      <td>1.000000</td>\n      <td>1.000000</td>\n      <td>4.000000</td>\n      <td>12.000000</td>\n      <td>1.000000</td>\n      <td>1.000000</td>\n    </tr>\n  </tbody>\n</table>\n<p>8 rows × 41 columns</p>\n</div>"
     },
     "metadata": {}
    }
   ]
  },
  {
   "cell_type": "markdown",
   "source": "To determine the value of K, after finding the literature, the silhouette method is applied to determine the optimal k value, setting max class of 20",
   "metadata": {
    "cell_id": "18a9d9bb304e4ea28af8498d260773d4",
    "tags": [],
    "deepnote_cell_type": "markdown",
    "deepnote_cell_height": 74.796875
   }
  },
  {
   "cell_type": "code",
   "metadata": {
    "cell_id": "519b77b5da32448594aa7e8bc3ca7fc5",
    "tags": [],
    "deepnote_to_be_reexecuted": false,
    "source_hash": "6691f650",
    "execution_start": 1654736873800,
    "execution_millis": 56629,
    "deepnote_cell_type": "code",
    "deepnote_cell_height": 219.6875
   },
   "source": "K_Silhouette_List = [] #Initalizing the silhouette list\n\nfor k_value in trange(2, 20):\n\tkmeans = KMeans(k_value,init='random') #perform the KMeans clustering\n\tcluster_labels = kmeans.fit_predict(df) #obtain the cluster label\n\tsilhouette_avg = silhouette_score(df, cluster_labels) #calculating the silhouette score\n\tK_Silhouette_List.append([k_value,silhouette_avg]) #Adding it into list",
   "execution_count": null,
   "outputs": [
    {
     "name": "stderr",
     "text": "100%|██████████| 18/18 [00:56<00:00,  3.11s/it]\n",
     "output_type": "stream"
    }
   ]
  },
  {
   "cell_type": "markdown",
   "source": "Visualize the change of the K_List",
   "metadata": {
    "cell_id": "6f5c6a9d1d394e7e8154bb95b94387e2",
    "tags": [],
    "deepnote_cell_type": "markdown",
    "deepnote_cell_height": 52.390625
   }
  },
  {
   "cell_type": "code",
   "metadata": {
    "cell_id": "22e49e1f2aa9478ab1f0b20ca9b89f3c",
    "tags": [],
    "deepnote_to_be_reexecuted": false,
    "source_hash": "98e2607d",
    "execution_start": 1654709653827,
    "execution_millis": 38,
    "deepnote_cell_type": "code",
    "deepnote_cell_height": 636
   },
   "source": "K_Silhouette_List = np.array(K_Silhouette_List).T\nK_df = pd.DataFrame({'K':K_Silhouette_List[0],'silhouette':K_Silhouette_List[1]})\nK_df",
   "execution_count": null,
   "outputs": [
    {
     "output_type": "execute_result",
     "execution_count": 9,
     "data": {
      "application/vnd.deepnote.dataframe.v3+json": {
       "column_count": 2,
       "row_count": 18,
       "columns": [
        {
         "name": "K",
         "dtype": "float64",
         "stats": {
          "unique_count": 18,
          "nan_count": 0,
          "min": "2.0",
          "max": "19.0",
          "histogram": [
           {
            "bin_start": 2,
            "bin_end": 3.7,
            "count": 2
           },
           {
            "bin_start": 3.7,
            "bin_end": 5.4,
            "count": 2
           },
           {
            "bin_start": 5.4,
            "bin_end": 7.1,
            "count": 2
           },
           {
            "bin_start": 7.1,
            "bin_end": 8.8,
            "count": 1
           },
           {
            "bin_start": 8.8,
            "bin_end": 10.5,
            "count": 2
           },
           {
            "bin_start": 10.5,
            "bin_end": 12.2,
            "count": 2
           },
           {
            "bin_start": 12.2,
            "bin_end": 13.9,
            "count": 1
           },
           {
            "bin_start": 13.9,
            "bin_end": 15.6,
            "count": 2
           },
           {
            "bin_start": 15.6,
            "bin_end": 17.299999999999997,
            "count": 2
           },
           {
            "bin_start": 17.299999999999997,
            "bin_end": 19,
            "count": 2
           }
          ]
         }
        },
        {
         "name": "silhouette",
         "dtype": "float64",
         "stats": {
          "unique_count": 18,
          "nan_count": 0,
          "min": "0.3912291209355897",
          "max": "0.9506134426187849",
          "histogram": [
           {
            "bin_start": 0.3912291209355897,
            "bin_end": 0.4471675531039092,
            "count": 4
           },
           {
            "bin_start": 0.4471675531039092,
            "bin_end": 0.5031059852722287,
            "count": 6
           },
           {
            "bin_start": 0.5031059852722287,
            "bin_end": 0.5590444174405482,
            "count": 3
           },
           {
            "bin_start": 0.5590444174405482,
            "bin_end": 0.6149828496088678,
            "count": 0
           },
           {
            "bin_start": 0.6149828496088678,
            "bin_end": 0.6709212817771872,
            "count": 2
           },
           {
            "bin_start": 0.6709212817771872,
            "bin_end": 0.7268597139455069,
            "count": 1
           },
           {
            "bin_start": 0.7268597139455069,
            "bin_end": 0.7827981461138264,
            "count": 0
           },
           {
            "bin_start": 0.7827981461138264,
            "bin_end": 0.8387365782821459,
            "count": 0
           },
           {
            "bin_start": 0.8387365782821459,
            "bin_end": 0.8946750104504654,
            "count": 1
           },
           {
            "bin_start": 0.8946750104504654,
            "bin_end": 0.9506134426187849,
            "count": 1
           }
          ]
         }
        },
        {
         "name": "_deepnote_index_column",
         "dtype": "int64"
        }
       ],
       "rows": [
        {
         "K": 2,
         "silhouette": 0.9506134426187849,
         "_deepnote_index_column": 0
        },
        {
         "K": 3,
         "silhouette": 0.8907273263021472,
         "_deepnote_index_column": 1
        },
        {
         "K": 4,
         "silhouette": 0.6727999973439924,
         "_deepnote_index_column": 2
        },
        {
         "K": 5,
         "silhouette": 0.6587832206038494,
         "_deepnote_index_column": 3
        },
        {
         "K": 6,
         "silhouette": 0.616108049372861,
         "_deepnote_index_column": 4
        },
        {
         "K": 7,
         "silhouette": 0.5371295193134061,
         "_deepnote_index_column": 5
        },
        {
         "K": 8,
         "silhouette": 0.473734627671588,
         "_deepnote_index_column": 6
        },
        {
         "K": 9,
         "silhouette": 0.5365105011858073,
         "_deepnote_index_column": 7
        },
        {
         "K": 10,
         "silhouette": 0.5026537616430456,
         "_deepnote_index_column": 8
        },
        {
         "K": 11,
         "silhouette": 0.5162416633485682,
         "_deepnote_index_column": 9
        }
       ]
      },
      "text/plain": "       K  silhouette\n0    2.0    0.950613\n1    3.0    0.890727\n2    4.0    0.672800\n3    5.0    0.658783\n4    6.0    0.616108\n5    7.0    0.537130\n6    8.0    0.473735\n7    9.0    0.536511\n8   10.0    0.502654\n9   11.0    0.516242\n10  12.0    0.501662\n11  13.0    0.448177\n12  14.0    0.493592\n13  15.0    0.449001\n14  16.0    0.432740\n15  17.0    0.410725\n16  18.0    0.391229\n17  19.0    0.411393",
      "text/html": "<div>\n<style scoped>\n    .dataframe tbody tr th:only-of-type {\n        vertical-align: middle;\n    }\n\n    .dataframe tbody tr th {\n        vertical-align: top;\n    }\n\n    .dataframe thead th {\n        text-align: right;\n    }\n</style>\n<table border=\"1\" class=\"dataframe\">\n  <thead>\n    <tr style=\"text-align: right;\">\n      <th></th>\n      <th>K</th>\n      <th>silhouette</th>\n    </tr>\n  </thead>\n  <tbody>\n    <tr>\n      <th>0</th>\n      <td>2.0</td>\n      <td>0.950613</td>\n    </tr>\n    <tr>\n      <th>1</th>\n      <td>3.0</td>\n      <td>0.890727</td>\n    </tr>\n    <tr>\n      <th>2</th>\n      <td>4.0</td>\n      <td>0.672800</td>\n    </tr>\n    <tr>\n      <th>3</th>\n      <td>5.0</td>\n      <td>0.658783</td>\n    </tr>\n    <tr>\n      <th>4</th>\n      <td>6.0</td>\n      <td>0.616108</td>\n    </tr>\n    <tr>\n      <th>5</th>\n      <td>7.0</td>\n      <td>0.537130</td>\n    </tr>\n    <tr>\n      <th>6</th>\n      <td>8.0</td>\n      <td>0.473735</td>\n    </tr>\n    <tr>\n      <th>7</th>\n      <td>9.0</td>\n      <td>0.536511</td>\n    </tr>\n    <tr>\n      <th>8</th>\n      <td>10.0</td>\n      <td>0.502654</td>\n    </tr>\n    <tr>\n      <th>9</th>\n      <td>11.0</td>\n      <td>0.516242</td>\n    </tr>\n    <tr>\n      <th>10</th>\n      <td>12.0</td>\n      <td>0.501662</td>\n    </tr>\n    <tr>\n      <th>11</th>\n      <td>13.0</td>\n      <td>0.448177</td>\n    </tr>\n    <tr>\n      <th>12</th>\n      <td>14.0</td>\n      <td>0.493592</td>\n    </tr>\n    <tr>\n      <th>13</th>\n      <td>15.0</td>\n      <td>0.449001</td>\n    </tr>\n    <tr>\n      <th>14</th>\n      <td>16.0</td>\n      <td>0.432740</td>\n    </tr>\n    <tr>\n      <th>15</th>\n      <td>17.0</td>\n      <td>0.410725</td>\n    </tr>\n    <tr>\n      <th>16</th>\n      <td>18.0</td>\n      <td>0.391229</td>\n    </tr>\n    <tr>\n      <th>17</th>\n      <td>19.0</td>\n      <td>0.411393</td>\n    </tr>\n  </tbody>\n</table>\n</div>"
     },
     "metadata": {}
    }
   ]
  },
  {
   "cell_type": "markdown",
   "source": "Using Altair iteractive chart to show the results",
   "metadata": {
    "cell_id": "52bd81574cd64fb5a5dd3bef5d68c64d",
    "tags": [],
    "deepnote_cell_type": "markdown",
    "deepnote_cell_height": 52.390625
   }
  },
  {
   "cell_type": "code",
   "metadata": {
    "cell_id": "ed96ae523c3048eca9dac8c90b75e849",
    "tags": [],
    "deepnote_to_be_reexecuted": false,
    "source_hash": "7ce1a3c3",
    "execution_start": 1654709653875,
    "execution_millis": 39,
    "deepnote_cell_type": "code",
    "deepnote_cell_height": 602,
    "deepnote_output_heights": [
     361
    ]
   },
   "source": "chart = alt.Chart(K_df).mark_point(\n\t    width=100,\n\t    height=50\n\t).encode(\n\t    x='K',\n\t    y='silhouette',\n\t)\nchart.interactive() #use iteractive chart\nchart",
   "execution_count": null,
   "outputs": [
    {
     "output_type": "execute_result",
     "execution_count": 10,
     "data": {
      "text/html": "\n<div id=\"altair-viz-980367784ab541119bcc3edbc8e2edb4\"></div>\n<script type=\"text/javascript\">\n  (function(spec, embedOpt){\n    let outputDiv = document.currentScript.previousElementSibling;\n    if (outputDiv.id !== \"altair-viz-980367784ab541119bcc3edbc8e2edb4\") {\n      outputDiv = document.getElementById(\"altair-viz-980367784ab541119bcc3edbc8e2edb4\");\n    }\n    const paths = {\n      \"vega\": \"https://cdn.jsdelivr.net/npm//vega@5?noext\",\n      \"vega-lib\": \"https://cdn.jsdelivr.net/npm//vega-lib?noext\",\n      \"vega-lite\": \"https://cdn.jsdelivr.net/npm//vega-lite@4.8.1?noext\",\n      \"vega-embed\": \"https://cdn.jsdelivr.net/npm//vega-embed@6?noext\",\n    };\n\n    function loadScript(lib) {\n      return new Promise(function(resolve, reject) {\n        var s = document.createElement('script');\n        s.src = paths[lib];\n        s.async = true;\n        s.onload = () => resolve(paths[lib]);\n        s.onerror = () => reject(`Error loading script: ${paths[lib]}`);\n        document.getElementsByTagName(\"head\")[0].appendChild(s);\n      });\n    }\n\n    function showError(err) {\n      outputDiv.innerHTML = `<div class=\"error\" style=\"color:red;\">${err}</div>`;\n      throw err;\n    }\n\n    function displayChart(vegaEmbed) {\n      vegaEmbed(outputDiv, spec, embedOpt)\n        .catch(err => showError(`Javascript Error: ${err.message}<br>This usually means there's a typo in your chart specification. See the javascript console for the full traceback.`));\n    }\n\n    if(typeof define === \"function\" && define.amd) {\n      requirejs.config({paths});\n      require([\"vega-embed\"], displayChart, err => showError(`Error loading script: ${err.message}`));\n    } else if (typeof vegaEmbed === \"function\") {\n      displayChart(vegaEmbed);\n    } else {\n      loadScript(\"vega\")\n        .then(() => loadScript(\"vega-lite\"))\n        .then(() => loadScript(\"vega-embed\"))\n        .catch(showError)\n        .then(() => displayChart(vegaEmbed));\n    }\n  })({\"config\": {\"view\": {\"continuousWidth\": 400, \"continuousHeight\": 300}}, \"data\": {\"name\": \"data-56c3dbbad482e5b6d615204a1199a971\"}, \"mark\": {\"type\": \"point\", \"height\": 50, \"width\": 100}, \"encoding\": {\"x\": {\"type\": \"quantitative\", \"field\": \"K\"}, \"y\": {\"type\": \"quantitative\", \"field\": \"silhouette\"}}, \"$schema\": \"https://vega.github.io/schema/vega-lite/v4.8.1.json\", \"datasets\": {\"data-56c3dbbad482e5b6d615204a1199a971\": [{\"K\": 2.0, \"silhouette\": 0.9506134426187849}, {\"K\": 3.0, \"silhouette\": 0.8907273263021472}, {\"K\": 4.0, \"silhouette\": 0.6727999973439924}, {\"K\": 5.0, \"silhouette\": 0.6587832206038494}, {\"K\": 6.0, \"silhouette\": 0.616108049372861}, {\"K\": 7.0, \"silhouette\": 0.5371295193134061}, {\"K\": 8.0, \"silhouette\": 0.473734627671588}, {\"K\": 9.0, \"silhouette\": 0.5365105011858073}, {\"K\": 10.0, \"silhouette\": 0.5026537616430456}, {\"K\": 11.0, \"silhouette\": 0.5162416633485682}, {\"K\": 12.0, \"silhouette\": 0.5016617641077813}, {\"K\": 13.0, \"silhouette\": 0.44817684845248795}, {\"K\": 14.0, \"silhouette\": 0.4935920672014247}, {\"K\": 15.0, \"silhouette\": 0.4490014353104637}, {\"K\": 16.0, \"silhouette\": 0.4327397890285805}, {\"K\": 17.0, \"silhouette\": 0.4107245665425952}, {\"K\": 18.0, \"silhouette\": 0.3912291209355897}, {\"K\": 19.0, \"silhouette\": 0.41139274875679677}]}}, {\"mode\": \"vega-lite\"});\n</script>",
      "text/plain": "alt.Chart(...)"
     },
     "metadata": {}
    }
   ]
  },
  {
   "cell_type": "markdown",
   "source": "Obtain the k value by the max value of the silhouette coefficient",
   "metadata": {
    "cell_id": "4fbb3deea8864edab85cc41773dec80e",
    "tags": [],
    "deepnote_cell_type": "markdown",
    "deepnote_cell_height": 52.390625
   }
  },
  {
   "cell_type": "code",
   "metadata": {
    "cell_id": "e0d99beb940840d9b2ad9000cbc8c313",
    "tags": [],
    "deepnote_to_be_reexecuted": false,
    "source_hash": "24407a60",
    "execution_start": 1654709653923,
    "execution_millis": 11,
    "deepnote_cell_type": "code",
    "deepnote_cell_height": 129.6875
   },
   "source": "k = np.argmax(K_Silhouette_List[1][:8]) + 2 #Obtain The suitable K value\nprint(\"The Choise of K is\",k)",
   "execution_count": null,
   "outputs": [
    {
     "name": "stdout",
     "text": "The Choise of K is 2\n",
     "output_type": "stream"
    }
   ]
  },
  {
   "cell_type": "markdown",
   "source": "After finding the k value, it should use it to perform the K means cluster. But firstly, it should implement the initial center",
   "metadata": {
    "cell_id": "9cf2c834ec5c4ecf8db33aa46d9da74a",
    "tags": [],
    "deepnote_cell_type": "markdown",
    "deepnote_cell_height": 52.390625
   }
  },
  {
   "cell_type": "code",
   "metadata": {
    "cell_id": "52c168be787e4fcfb7c1ad1621c965a5",
    "tags": [],
    "deepnote_to_be_reexecuted": false,
    "source_hash": "3170bbe",
    "execution_start": 1654709653978,
    "execution_millis": 3,
    "deepnote_cell_type": "code",
    "deepnote_cell_height": 135.890625
   },
   "source": "centers, kmeanslabels = vq.kmeans2(data = df, k = k, iter = 1, minit = 'random') ",
   "execution_count": null,
   "outputs": [
    {
     "name": "stderr",
     "text": "/shared-libs/python3.7/py/lib/python3.7/site-packages/scipy/cluster/vq.py:607: UserWarning: One of the clusters is empty. Re-run kmeans with a different initialization.\n  warnings.warn(\"One of the clusters is empty. \"\n",
     "output_type": "stream"
    }
   ]
  },
  {
   "cell_type": "markdown",
   "source": "Then, Run the KMeans based on the given k value",
   "metadata": {
    "cell_id": "f883ef75f4cb450f83be8bdee95f71fd",
    "tags": [],
    "deepnote_cell_type": "markdown",
    "deepnote_cell_height": 52.390625
   }
  },
  {
   "cell_type": "code",
   "metadata": {
    "cell_id": "5149a09b340442cca1375b44039c72ea",
    "tags": [],
    "deepnote_to_be_reexecuted": false,
    "source_hash": "dd0e4d14",
    "execution_start": 1654709653979,
    "execution_millis": 2451,
    "deepnote_cell_type": "code",
    "deepnote_cell_height": 147.6875
   },
   "source": "max_iter = 1000 #Setting to 1000 to decrese the bias\nfor i in trange(1, max_iter):\n\tcenters, kmeanslabels = vq.kmeans2(data = df, k = centers, iter = 1, minit = 'matrix')",
   "execution_count": null,
   "outputs": [
    {
     "name": "stderr",
     "text": "100%|██████████| 999/999 [00:02<00:00, 414.15it/s]\n",
     "output_type": "stream"
    }
   ]
  },
  {
   "cell_type": "markdown",
   "source": "Finally, it should obtain the final kmeans labels",
   "metadata": {
    "cell_id": "4dd35297edd64bb6a764466d87f673b9",
    "tags": [],
    "deepnote_cell_type": "markdown",
    "deepnote_cell_height": 52.390625
   }
  },
  {
   "cell_type": "code",
   "metadata": {
    "cell_id": "206d95e4fada4ffda583c9c4ccef611c",
    "tags": [],
    "deepnote_to_be_reexecuted": false,
    "source_hash": "b4a9e476",
    "execution_start": 1654709656429,
    "execution_millis": 50,
    "deepnote_cell_type": "code",
    "deepnote_cell_height": 347.34375,
    "deepnote_output_heights": [
     232.34375
    ]
   },
   "source": "kmeanslabels = pd.Series(kmeanslabels) \nkmeanslabels",
   "execution_count": null,
   "outputs": [
    {
     "output_type": "execute_result",
     "execution_count": 14,
     "data": {
      "text/plain": "0       1\n1       1\n2       1\n3       1\n4       1\n       ..\n3348    1\n3349    1\n3350    1\n3351    1\n3352    1\nLength: 3353, dtype: int32"
     },
     "metadata": {}
    }
   ]
  },
  {
   "cell_type": "markdown",
   "source": "add to the last column and show it",
   "metadata": {
    "cell_id": "901245c2ec2240e69b39c52d9cb3565b",
    "tags": [],
    "deepnote_cell_type": "markdown",
    "deepnote_cell_height": 52.390625
   }
  },
  {
   "cell_type": "code",
   "metadata": {
    "cell_id": "7f80cb9ed9124fcca4b15f8b49f91786",
    "tags": [],
    "deepnote_to_be_reexecuted": false,
    "source_hash": "11d681b9",
    "execution_start": 1654709656478,
    "execution_millis": 214,
    "deepnote_cell_type": "code",
    "deepnote_cell_height": 84
   },
   "source": "df = df.assign(kmeanslabel=kmeanslabels)\ndf",
   "execution_count": null,
   "outputs": [
    {
     "output_type": "execute_result",
     "execution_count": 15,
     "data": {
      "application/vnd.deepnote.dataframe.v3+json": {
       "column_count": 42,
       "row_count": 3353,
       "columns": [
        {
         "name": "County_Density",
         "dtype": "float64",
         "stats": {
          "unique_count": 1169,
          "nan_count": 0,
          "min": "0.928097868",
          "max": "27819.8048",
          "histogram": [
           {
            "bin_start": 0.928097868,
            "bin_end": 2782.8157680812,
            "count": 3211
           },
           {
            "bin_start": 2782.8157680812,
            "bin_end": 5564.7034382944,
            "count": 48
           },
           {
            "bin_start": 5564.7034382944,
            "bin_end": 8346.5911085076,
            "count": 41
           },
           {
            "bin_start": 8346.5911085076,
            "bin_end": 11128.4787787208,
            "count": 0
           },
           {
            "bin_start": 11128.4787787208,
            "bin_end": 13910.366448934,
            "count": 9
           },
           {
            "bin_start": 13910.366448934,
            "bin_end": 16692.2541191472,
            "count": 25
           },
           {
            "bin_start": 16692.2541191472,
            "bin_end": 19474.1417893604,
            "count": 0
           },
           {
            "bin_start": 19474.1417893604,
            "bin_end": 22256.0294595736,
            "count": 0
           },
           {
            "bin_start": 22256.0294595736,
            "bin_end": 25037.9171297868,
            "count": 0
           },
           {
            "bin_start": 25037.9171297868,
            "bin_end": 27819.8048,
            "count": 19
           }
          ]
         }
        },
        {
         "name": "Vaccine_Trust_Index",
         "dtype": "float64",
         "stats": {
          "unique_count": 36,
          "nan_count": 0,
          "min": "0.0",
          "max": "10.0",
          "histogram": [
           {
            "bin_start": 0,
            "bin_end": 1,
            "count": 97
           },
           {
            "bin_start": 1,
            "bin_end": 2,
            "count": 67
           },
           {
            "bin_start": 2,
            "bin_end": 3,
            "count": 75
           },
           {
            "bin_start": 3,
            "bin_end": 4,
            "count": 108
           },
           {
            "bin_start": 4,
            "bin_end": 5,
            "count": 138
           },
           {
            "bin_start": 5,
            "bin_end": 6,
            "count": 223
           },
           {
            "bin_start": 6,
            "bin_end": 7,
            "count": 251
           },
           {
            "bin_start": 7,
            "bin_end": 8,
            "count": 342
           },
           {
            "bin_start": 8,
            "bin_end": 9,
            "count": 619
           },
           {
            "bin_start": 9,
            "bin_end": 10,
            "count": 1433
           }
          ]
         }
        },
        {
         "name": "Personal_Responsibility",
         "dtype": "float64",
         "stats": {
          "unique_count": 11,
          "nan_count": 0,
          "min": "0.0",
          "max": "10.0",
          "histogram": [
           {
            "bin_start": 0,
            "bin_end": 1,
            "count": 45
           },
           {
            "bin_start": 1,
            "bin_end": 2,
            "count": 48
           },
           {
            "bin_start": 2,
            "bin_end": 3,
            "count": 100
           },
           {
            "bin_start": 3,
            "bin_end": 4,
            "count": 134
           },
           {
            "bin_start": 4,
            "bin_end": 5,
            "count": 134
           },
           {
            "bin_start": 5,
            "bin_end": 6,
            "count": 476
           },
           {
            "bin_start": 6,
            "bin_end": 7,
            "count": 342
           },
           {
            "bin_start": 7,
            "bin_end": 8,
            "count": 456
           },
           {
            "bin_start": 8,
            "bin_end": 9,
            "count": 508
           },
           {
            "bin_start": 9,
            "bin_end": 10,
            "count": 1110
           }
          ]
         }
        },
        {
         "name": "Trust_Science_Apolitical",
         "dtype": "float64",
         "stats": {
          "unique_count": 11,
          "nan_count": 0,
          "min": "0.0",
          "max": "10.0",
          "histogram": [
           {
            "bin_start": 0,
            "bin_end": 1,
            "count": 219
           },
           {
            "bin_start": 1,
            "bin_end": 2,
            "count": 129
           },
           {
            "bin_start": 2,
            "bin_end": 3,
            "count": 214
           },
           {
            "bin_start": 3,
            "bin_end": 4,
            "count": 293
           },
           {
            "bin_start": 4,
            "bin_end": 5,
            "count": 323
           },
           {
            "bin_start": 5,
            "bin_end": 6,
            "count": 555
           },
           {
            "bin_start": 6,
            "bin_end": 7,
            "count": 387
           },
           {
            "bin_start": 7,
            "bin_end": 8,
            "count": 323
           },
           {
            "bin_start": 8,
            "bin_end": 9,
            "count": 302
           },
           {
            "bin_start": 9,
            "bin_end": 10,
            "count": 608
           }
          ]
         }
        },
        {
         "name": "Trust_Science_Politicians",
         "dtype": "float64",
         "stats": {
          "unique_count": 11,
          "nan_count": 0,
          "min": "0.0",
          "max": "10.0",
          "histogram": [
           {
            "bin_start": 0,
            "bin_end": 1,
            "count": 988
           },
           {
            "bin_start": 1,
            "bin_end": 2,
            "count": 455
           },
           {
            "bin_start": 2,
            "bin_end": 3,
            "count": 510
           },
           {
            "bin_start": 3,
            "bin_end": 4,
            "count": 450
           },
           {
            "bin_start": 4,
            "bin_end": 5,
            "count": 378
           },
           {
            "bin_start": 5,
            "bin_end": 6,
            "count": 319
           },
           {
            "bin_start": 6,
            "bin_end": 7,
            "count": 90
           },
           {
            "bin_start": 7,
            "bin_end": 8,
            "count": 65
           },
           {
            "bin_start": 8,
            "bin_end": 9,
            "count": 44
           },
           {
            "bin_start": 9,
            "bin_end": 10,
            "count": 54
           }
          ]
         }
        },
        {
         "name": "Trust_Science_Media",
         "dtype": "float64",
         "stats": {
          "unique_count": 11,
          "nan_count": 0,
          "min": "0.0",
          "max": "10.0",
          "histogram": [
           {
            "bin_start": 0,
            "bin_end": 1,
            "count": 789
           },
           {
            "bin_start": 1,
            "bin_end": 2,
            "count": 253
           },
           {
            "bin_start": 2,
            "bin_end": 3,
            "count": 317
           },
           {
            "bin_start": 3,
            "bin_end": 4,
            "count": 317
           },
           {
            "bin_start": 4,
            "bin_end": 5,
            "count": 386
           },
           {
            "bin_start": 5,
            "bin_end": 6,
            "count": 478
           },
           {
            "bin_start": 6,
            "bin_end": 7,
            "count": 227
           },
           {
            "bin_start": 7,
            "bin_end": 8,
            "count": 175
           },
           {
            "bin_start": 8,
            "bin_end": 9,
            "count": 154
           },
           {
            "bin_start": 9,
            "bin_end": 10,
            "count": 257
           }
          ]
         }
        },
        {
         "name": "Trust_Science_Community",
         "dtype": "float64",
         "stats": {
          "unique_count": 11,
          "nan_count": 0,
          "min": "0.0",
          "max": "10.0",
          "histogram": [
           {
            "bin_start": 0,
            "bin_end": 1,
            "count": 108
           },
           {
            "bin_start": 1,
            "bin_end": 2,
            "count": 68
           },
           {
            "bin_start": 2,
            "bin_end": 3,
            "count": 99
           },
           {
            "bin_start": 3,
            "bin_end": 4,
            "count": 145
           },
           {
            "bin_start": 4,
            "bin_end": 5,
            "count": 204
           },
           {
            "bin_start": 5,
            "bin_end": 6,
            "count": 477
           },
           {
            "bin_start": 6,
            "bin_end": 7,
            "count": 430
           },
           {
            "bin_start": 7,
            "bin_end": 8,
            "count": 507
           },
           {
            "bin_start": 8,
            "bin_end": 9,
            "count": 488
           },
           {
            "bin_start": 9,
            "bin_end": 10,
            "count": 827
           }
          ]
         }
        },
        {
         "name": "Trust_National",
         "dtype": "float64",
         "stats": {
          "unique_count": 11,
          "nan_count": 0,
          "min": "0.0",
          "max": "10.0",
          "histogram": [
           {
            "bin_start": 0,
            "bin_end": 1,
            "count": 211
           },
           {
            "bin_start": 1,
            "bin_end": 2,
            "count": 140
           },
           {
            "bin_start": 2,
            "bin_end": 3,
            "count": 191
           },
           {
            "bin_start": 3,
            "bin_end": 4,
            "count": 267
           },
           {
            "bin_start": 4,
            "bin_end": 5,
            "count": 318
           },
           {
            "bin_start": 5,
            "bin_end": 6,
            "count": 721
           },
           {
            "bin_start": 6,
            "bin_end": 7,
            "count": 472
           },
           {
            "bin_start": 7,
            "bin_end": 8,
            "count": 469
           },
           {
            "bin_start": 8,
            "bin_end": 9,
            "count": 374
           },
           {
            "bin_start": 9,
            "bin_end": 10,
            "count": 190
           }
          ]
         }
        },
        {
         "name": "Trust_State",
         "dtype": "float64",
         "stats": {
          "unique_count": 11,
          "nan_count": 0,
          "min": "0.0",
          "max": "10.0",
          "histogram": [
           {
            "bin_start": 0,
            "bin_end": 1,
            "count": 196
           },
           {
            "bin_start": 1,
            "bin_end": 2,
            "count": 123
           },
           {
            "bin_start": 2,
            "bin_end": 3,
            "count": 176
           },
           {
            "bin_start": 3,
            "bin_end": 4,
            "count": 188
           },
           {
            "bin_start": 4,
            "bin_end": 5,
            "count": 255
           },
           {
            "bin_start": 5,
            "bin_end": 6,
            "count": 598
           },
           {
            "bin_start": 6,
            "bin_end": 7,
            "count": 439
           },
           {
            "bin_start": 7,
            "bin_end": 8,
            "count": 529
           },
           {
            "bin_start": 8,
            "bin_end": 9,
            "count": 531
           },
           {
            "bin_start": 9,
            "bin_end": 10,
            "count": 318
           }
          ]
         }
        },
        {
         "name": "Trust_Local",
         "dtype": "float64",
         "stats": {
          "unique_count": 11,
          "nan_count": 0,
          "min": "0.0",
          "max": "10.0",
          "histogram": [
           {
            "bin_start": 0,
            "bin_end": 1,
            "count": 112
           },
           {
            "bin_start": 1,
            "bin_end": 2,
            "count": 59
           },
           {
            "bin_start": 2,
            "bin_end": 3,
            "count": 105
           },
           {
            "bin_start": 3,
            "bin_end": 4,
            "count": 140
           },
           {
            "bin_start": 4,
            "bin_end": 5,
            "count": 234
           },
           {
            "bin_start": 5,
            "bin_end": 6,
            "count": 659
           },
           {
            "bin_start": 6,
            "bin_end": 7,
            "count": 448
           },
           {
            "bin_start": 7,
            "bin_end": 8,
            "count": 626
           },
           {
            "bin_start": 8,
            "bin_end": 9,
            "count": 604
           },
           {
            "bin_start": 9,
            "bin_end": 10,
            "count": 366
           }
          ]
         }
        },
        {
         "name": "Trust_Media",
         "dtype": "float64",
         "stats": {
          "unique_count": 11,
          "nan_count": 0,
          "min": "0.0",
          "max": "10.0",
          "histogram": [
           {
            "bin_start": 0,
            "bin_end": 1,
            "count": 545
           },
           {
            "bin_start": 1,
            "bin_end": 2,
            "count": 276
           },
           {
            "bin_start": 2,
            "bin_end": 3,
            "count": 240
           },
           {
            "bin_start": 3,
            "bin_end": 4,
            "count": 199
           },
           {
            "bin_start": 4,
            "bin_end": 5,
            "count": 197
           },
           {
            "bin_start": 5,
            "bin_end": 6,
            "count": 524
           },
           {
            "bin_start": 6,
            "bin_end": 7,
            "count": 321
           },
           {
            "bin_start": 7,
            "bin_end": 8,
            "count": 449
           },
           {
            "bin_start": 8,
            "bin_end": 9,
            "count": 370
           },
           {
            "bin_start": 9,
            "bin_end": 10,
            "count": 232
           }
          ]
         }
        },
        {
         "name": "Perceived_Risk",
         "dtype": "float64",
         "stats": {
          "unique_count": 11,
          "nan_count": 0,
          "min": "0.0",
          "max": "10.0",
          "histogram": [
           {
            "bin_start": 0,
            "bin_end": 1,
            "count": 262
           },
           {
            "bin_start": 1,
            "bin_end": 2,
            "count": 180
           },
           {
            "bin_start": 2,
            "bin_end": 3,
            "count": 153
           },
           {
            "bin_start": 3,
            "bin_end": 4,
            "count": 139
           },
           {
            "bin_start": 4,
            "bin_end": 5,
            "count": 133
           },
           {
            "bin_start": 5,
            "bin_end": 6,
            "count": 311
           },
           {
            "bin_start": 6,
            "bin_end": 7,
            "count": 175
           },
           {
            "bin_start": 7,
            "bin_end": 8,
            "count": 226
           },
           {
            "bin_start": 8,
            "bin_end": 9,
            "count": 344
           },
           {
            "bin_start": 9,
            "bin_end": 10,
            "count": 1430
           }
          ]
         }
        },
        {
         "name": "Perceived_Network_Risk",
         "dtype": "float64",
         "stats": {
          "unique_count": 11,
          "nan_count": 0,
          "min": "0.0",
          "max": "10.0",
          "histogram": [
           {
            "bin_start": 0,
            "bin_end": 1,
            "count": 229
           },
           {
            "bin_start": 1,
            "bin_end": 2,
            "count": 161
           },
           {
            "bin_start": 2,
            "bin_end": 3,
            "count": 125
           },
           {
            "bin_start": 3,
            "bin_end": 4,
            "count": 117
           },
           {
            "bin_start": 4,
            "bin_end": 5,
            "count": 112
           },
           {
            "bin_start": 5,
            "bin_end": 6,
            "count": 323
           },
           {
            "bin_start": 6,
            "bin_end": 7,
            "count": 199
           },
           {
            "bin_start": 7,
            "bin_end": 8,
            "count": 270
           },
           {
            "bin_start": 8,
            "bin_end": 9,
            "count": 374
           },
           {
            "bin_start": 9,
            "bin_end": 10,
            "count": 1443
           }
          ]
         }
        },
        {
         "name": "Doctor_Comfort",
         "dtype": "float64",
         "stats": {
          "unique_count": 11,
          "nan_count": 0,
          "min": "0.0",
          "max": "10.0",
          "histogram": [
           {
            "bin_start": 0,
            "bin_end": 1,
            "count": 45
           },
           {
            "bin_start": 1,
            "bin_end": 2,
            "count": 37
           },
           {
            "bin_start": 2,
            "bin_end": 3,
            "count": 37
           },
           {
            "bin_start": 3,
            "bin_end": 4,
            "count": 44
           },
           {
            "bin_start": 4,
            "bin_end": 5,
            "count": 54
           },
           {
            "bin_start": 5,
            "bin_end": 6,
            "count": 183
           },
           {
            "bin_start": 6,
            "bin_end": 7,
            "count": 161
           },
           {
            "bin_start": 7,
            "bin_end": 8,
            "count": 251
           },
           {
            "bin_start": 8,
            "bin_end": 9,
            "count": 422
           },
           {
            "bin_start": 9,
            "bin_end": 10,
            "count": 2119
           }
          ]
         }
        },
        {
         "name": "Fear_Needles",
         "dtype": "float64",
         "stats": {
          "unique_count": 11,
          "nan_count": 0,
          "min": "0.0",
          "max": "10.0",
          "histogram": [
           {
            "bin_start": 0,
            "bin_end": 1,
            "count": 1588
           },
           {
            "bin_start": 1,
            "bin_end": 2,
            "count": 390
           },
           {
            "bin_start": 2,
            "bin_end": 3,
            "count": 245
           },
           {
            "bin_start": 3,
            "bin_end": 4,
            "count": 156
           },
           {
            "bin_start": 4,
            "bin_end": 5,
            "count": 109
           },
           {
            "bin_start": 5,
            "bin_end": 6,
            "count": 199
           },
           {
            "bin_start": 6,
            "bin_end": 7,
            "count": 146
           },
           {
            "bin_start": 7,
            "bin_end": 8,
            "count": 143
           },
           {
            "bin_start": 8,
            "bin_end": 9,
            "count": 104
           },
           {
            "bin_start": 9,
            "bin_end": 10,
            "count": 273
           }
          ]
         }
        },
        {
         "name": "Condition_Pregnancy",
         "dtype": "float64",
         "stats": {
          "unique_count": 2,
          "nan_count": 0,
          "min": "0.0",
          "max": "1.0",
          "histogram": [
           {
            "bin_start": 0,
            "bin_end": 0.1,
            "count": 3341
           },
           {
            "bin_start": 0.1,
            "bin_end": 0.2,
            "count": 0
           },
           {
            "bin_start": 0.2,
            "bin_end": 0.30000000000000004,
            "count": 0
           },
           {
            "bin_start": 0.30000000000000004,
            "bin_end": 0.4,
            "count": 0
           },
           {
            "bin_start": 0.4,
            "bin_end": 0.5,
            "count": 0
           },
           {
            "bin_start": 0.5,
            "bin_end": 0.6000000000000001,
            "count": 0
           },
           {
            "bin_start": 0.6000000000000001,
            "bin_end": 0.7000000000000001,
            "count": 0
           },
           {
            "bin_start": 0.7000000000000001,
            "bin_end": 0.8,
            "count": 0
           },
           {
            "bin_start": 0.8,
            "bin_end": 0.9,
            "count": 0
           },
           {
            "bin_start": 0.9,
            "bin_end": 1,
            "count": 12
           }
          ]
         }
        },
        {
         "name": "Condition_Asthma",
         "dtype": "float64",
         "stats": {
          "unique_count": 2,
          "nan_count": 0,
          "min": "0.0",
          "max": "1.0",
          "histogram": [
           {
            "bin_start": 0,
            "bin_end": 0.1,
            "count": 3126
           },
           {
            "bin_start": 0.1,
            "bin_end": 0.2,
            "count": 0
           },
           {
            "bin_start": 0.2,
            "bin_end": 0.30000000000000004,
            "count": 0
           },
           {
            "bin_start": 0.30000000000000004,
            "bin_end": 0.4,
            "count": 0
           },
           {
            "bin_start": 0.4,
            "bin_end": 0.5,
            "count": 0
           },
           {
            "bin_start": 0.5,
            "bin_end": 0.6000000000000001,
            "count": 0
           },
           {
            "bin_start": 0.6000000000000001,
            "bin_end": 0.7000000000000001,
            "count": 0
           },
           {
            "bin_start": 0.7000000000000001,
            "bin_end": 0.8,
            "count": 0
           },
           {
            "bin_start": 0.8,
            "bin_end": 0.9,
            "count": 0
           },
           {
            "bin_start": 0.9,
            "bin_end": 1,
            "count": 227
           }
          ]
         }
        },
        {
         "name": "Condition_Lung",
         "dtype": "float64",
         "stats": {
          "unique_count": 2,
          "nan_count": 0,
          "min": "0.0",
          "max": "1.0",
          "histogram": [
           {
            "bin_start": 0,
            "bin_end": 0.1,
            "count": 3287
           },
           {
            "bin_start": 0.1,
            "bin_end": 0.2,
            "count": 0
           },
           {
            "bin_start": 0.2,
            "bin_end": 0.30000000000000004,
            "count": 0
           },
           {
            "bin_start": 0.30000000000000004,
            "bin_end": 0.4,
            "count": 0
           },
           {
            "bin_start": 0.4,
            "bin_end": 0.5,
            "count": 0
           },
           {
            "bin_start": 0.5,
            "bin_end": 0.6000000000000001,
            "count": 0
           },
           {
            "bin_start": 0.6000000000000001,
            "bin_end": 0.7000000000000001,
            "count": 0
           },
           {
            "bin_start": 0.7000000000000001,
            "bin_end": 0.8,
            "count": 0
           },
           {
            "bin_start": 0.8,
            "bin_end": 0.9,
            "count": 0
           },
           {
            "bin_start": 0.9,
            "bin_end": 1,
            "count": 66
           }
          ]
         }
        },
        {
         "name": "Condition_Diabetes",
         "dtype": "float64",
         "stats": {
          "unique_count": 2,
          "nan_count": 0,
          "min": "0.0",
          "max": "1.0",
          "histogram": [
           {
            "bin_start": 0,
            "bin_end": 0.1,
            "count": 2932
           },
           {
            "bin_start": 0.1,
            "bin_end": 0.2,
            "count": 0
           },
           {
            "bin_start": 0.2,
            "bin_end": 0.30000000000000004,
            "count": 0
           },
           {
            "bin_start": 0.30000000000000004,
            "bin_end": 0.4,
            "count": 0
           },
           {
            "bin_start": 0.4,
            "bin_end": 0.5,
            "count": 0
           },
           {
            "bin_start": 0.5,
            "bin_end": 0.6000000000000001,
            "count": 0
           },
           {
            "bin_start": 0.6000000000000001,
            "bin_end": 0.7000000000000001,
            "count": 0
           },
           {
            "bin_start": 0.7000000000000001,
            "bin_end": 0.8,
            "count": 0
           },
           {
            "bin_start": 0.8,
            "bin_end": 0.9,
            "count": 0
           },
           {
            "bin_start": 0.9,
            "bin_end": 1,
            "count": 421
           }
          ]
         }
        },
        {
         "name": "Condition_Immune",
         "dtype": "float64",
         "stats": {
          "unique_count": 2,
          "nan_count": 0,
          "min": "0.0",
          "max": "1.0",
          "histogram": [
           {
            "bin_start": 0,
            "bin_end": 0.1,
            "count": 3171
           },
           {
            "bin_start": 0.1,
            "bin_end": 0.2,
            "count": 0
           },
           {
            "bin_start": 0.2,
            "bin_end": 0.30000000000000004,
            "count": 0
           },
           {
            "bin_start": 0.30000000000000004,
            "bin_end": 0.4,
            "count": 0
           },
           {
            "bin_start": 0.4,
            "bin_end": 0.5,
            "count": 0
           },
           {
            "bin_start": 0.5,
            "bin_end": 0.6000000000000001,
            "count": 0
           },
           {
            "bin_start": 0.6000000000000001,
            "bin_end": 0.7000000000000001,
            "count": 0
           },
           {
            "bin_start": 0.7000000000000001,
            "bin_end": 0.8,
            "count": 0
           },
           {
            "bin_start": 0.8,
            "bin_end": 0.9,
            "count": 0
           },
           {
            "bin_start": 0.9,
            "bin_end": 1,
            "count": 182
           }
          ]
         }
        },
        {
         "name": "Condition_Obesity",
         "dtype": "float64",
         "stats": {
          "unique_count": 2,
          "nan_count": 0,
          "min": "0.0",
          "max": "1.0",
          "histogram": [
           {
            "bin_start": 0,
            "bin_end": 0.1,
            "count": 3006
           },
           {
            "bin_start": 0.1,
            "bin_end": 0.2,
            "count": 0
           },
           {
            "bin_start": 0.2,
            "bin_end": 0.30000000000000004,
            "count": 0
           },
           {
            "bin_start": 0.30000000000000004,
            "bin_end": 0.4,
            "count": 0
           },
           {
            "bin_start": 0.4,
            "bin_end": 0.5,
            "count": 0
           },
           {
            "bin_start": 0.5,
            "bin_end": 0.6000000000000001,
            "count": 0
           },
           {
            "bin_start": 0.6000000000000001,
            "bin_end": 0.7000000000000001,
            "count": 0
           },
           {
            "bin_start": 0.7000000000000001,
            "bin_end": 0.8,
            "count": 0
           },
           {
            "bin_start": 0.8,
            "bin_end": 0.9,
            "count": 0
           },
           {
            "bin_start": 0.9,
            "bin_end": 1,
            "count": 347
           }
          ]
         }
        },
        {
         "name": "Condition_Heart",
         "dtype": "float64",
         "stats": {
          "unique_count": 2,
          "nan_count": 0,
          "min": "0.0",
          "max": "1.0",
          "histogram": [
           {
            "bin_start": 0,
            "bin_end": 0.1,
            "count": 3089
           },
           {
            "bin_start": 0.1,
            "bin_end": 0.2,
            "count": 0
           },
           {
            "bin_start": 0.2,
            "bin_end": 0.30000000000000004,
            "count": 0
           },
           {
            "bin_start": 0.30000000000000004,
            "bin_end": 0.4,
            "count": 0
           },
           {
            "bin_start": 0.4,
            "bin_end": 0.5,
            "count": 0
           },
           {
            "bin_start": 0.5,
            "bin_end": 0.6000000000000001,
            "count": 0
           },
           {
            "bin_start": 0.6000000000000001,
            "bin_end": 0.7000000000000001,
            "count": 0
           },
           {
            "bin_start": 0.7000000000000001,
            "bin_end": 0.8,
            "count": 0
           },
           {
            "bin_start": 0.8,
            "bin_end": 0.9,
            "count": 0
           },
           {
            "bin_start": 0.9,
            "bin_end": 1,
            "count": 264
           }
          ]
         }
        },
        {
         "name": "Condition_Organ",
         "dtype": "float64",
         "stats": {
          "unique_count": 2,
          "nan_count": 0,
          "min": "0.0",
          "max": "1.0",
          "histogram": [
           {
            "bin_start": 0,
            "bin_end": 0.1,
            "count": 3274
           },
           {
            "bin_start": 0.1,
            "bin_end": 0.2,
            "count": 0
           },
           {
            "bin_start": 0.2,
            "bin_end": 0.30000000000000004,
            "count": 0
           },
           {
            "bin_start": 0.30000000000000004,
            "bin_end": 0.4,
            "count": 0
           },
           {
            "bin_start": 0.4,
            "bin_end": 0.5,
            "count": 0
           },
           {
            "bin_start": 0.5,
            "bin_end": 0.6000000000000001,
            "count": 0
           },
           {
            "bin_start": 0.6000000000000001,
            "bin_end": 0.7000000000000001,
            "count": 0
           },
           {
            "bin_start": 0.7000000000000001,
            "bin_end": 0.8,
            "count": 0
           },
           {
            "bin_start": 0.8,
            "bin_end": 0.9,
            "count": 0
           },
           {
            "bin_start": 0.9,
            "bin_end": 1,
            "count": 79
           }
          ]
         }
        },
        {
         "name": "County_Cases",
         "dtype": "float64",
         "stats": {
          "unique_count": 2123,
          "nan_count": 0,
          "min": "0.002591871",
          "max": "0.184383169",
          "histogram": [
           {
            "bin_start": 0.002591871,
            "bin_end": 0.0207710008,
            "count": 11
           },
           {
            "bin_start": 0.0207710008,
            "bin_end": 0.03895013060000001,
            "count": 83
           },
           {
            "bin_start": 0.03895013060000001,
            "bin_end": 0.05712926040000001,
            "count": 237
           },
           {
            "bin_start": 0.05712926040000001,
            "bin_end": 0.0753083902,
            "count": 639
           },
           {
            "bin_start": 0.0753083902,
            "bin_end": 0.09348752,
            "count": 1204
           },
           {
            "bin_start": 0.09348752,
            "bin_end": 0.11166664980000002,
            "count": 664
           },
           {
            "bin_start": 0.11166664980000002,
            "bin_end": 0.12984577960000002,
            "count": 429
           },
           {
            "bin_start": 0.12984577960000002,
            "bin_end": 0.14802490940000002,
            "count": 39
           },
           {
            "bin_start": 0.14802490940000002,
            "bin_end": 0.16620403920000001,
            "count": 43
           },
           {
            "bin_start": 0.16620403920000001,
            "bin_end": 0.184383169,
            "count": 4
           }
          ]
         }
        },
        {
         "name": "County_Cases2wk",
         "dtype": "float64",
         "stats": {
          "unique_count": 2117,
          "nan_count": 0,
          "min": "0.0",
          "max": "0.015414549",
          "histogram": [
           {
            "bin_start": 0,
            "bin_end": 0.0015414549,
            "count": 617
           },
           {
            "bin_start": 0.0015414549,
            "bin_end": 0.0030829098,
            "count": 1818
           },
           {
            "bin_start": 0.0030829098,
            "bin_end": 0.0046243646999999995,
            "count": 550
           },
           {
            "bin_start": 0.0046243646999999995,
            "bin_end": 0.0061658196,
            "count": 315
           },
           {
            "bin_start": 0.0061658196,
            "bin_end": 0.0077072745,
            "count": 48
           },
           {
            "bin_start": 0.0077072745,
            "bin_end": 0.009248729399999999,
            "count": 1
           },
           {
            "bin_start": 0.009248729399999999,
            "bin_end": 0.0107901843,
            "count": 1
           },
           {
            "bin_start": 0.0107901843,
            "bin_end": 0.0123316392,
            "count": 0
           },
           {
            "bin_start": 0.0123316392,
            "bin_end": 0.013873094099999999,
            "count": 1
           },
           {
            "bin_start": 0.013873094099999999,
            "bin_end": 0.015414549,
            "count": 2
           }
          ]
         }
        },
        {
         "name": "Male",
         "dtype": "int64",
         "stats": {
          "unique_count": 2,
          "nan_count": 0,
          "min": "0",
          "max": "1",
          "histogram": [
           {
            "bin_start": 0,
            "bin_end": 0.1,
            "count": 1521
           },
           {
            "bin_start": 0.1,
            "bin_end": 0.2,
            "count": 0
           },
           {
            "bin_start": 0.2,
            "bin_end": 0.30000000000000004,
            "count": 0
           },
           {
            "bin_start": 0.30000000000000004,
            "bin_end": 0.4,
            "count": 0
           },
           {
            "bin_start": 0.4,
            "bin_end": 0.5,
            "count": 0
           },
           {
            "bin_start": 0.5,
            "bin_end": 0.6000000000000001,
            "count": 0
           },
           {
            "bin_start": 0.6000000000000001,
            "bin_end": 0.7000000000000001,
            "count": 0
           },
           {
            "bin_start": 0.7000000000000001,
            "bin_end": 0.8,
            "count": 0
           },
           {
            "bin_start": 0.8,
            "bin_end": 0.9,
            "count": 0
           },
           {
            "bin_start": 0.9,
            "bin_end": 1,
            "count": 1832
           }
          ]
         }
        },
        {
         "name": "Race",
         "dtype": "int64",
         "stats": {
          "unique_count": 4,
          "nan_count": 0,
          "min": "1",
          "max": "4",
          "histogram": [
           {
            "bin_start": 1,
            "bin_end": 1.3,
            "count": 2442
           },
           {
            "bin_start": 1.3,
            "bin_end": 1.6,
            "count": 0
           },
           {
            "bin_start": 1.6,
            "bin_end": 1.9,
            "count": 0
           },
           {
            "bin_start": 1.9,
            "bin_end": 2.2,
            "count": 173
           },
           {
            "bin_start": 2.2,
            "bin_end": 2.5,
            "count": 0
           },
           {
            "bin_start": 2.5,
            "bin_end": 2.8,
            "count": 0
           },
           {
            "bin_start": 2.8,
            "bin_end": 3.1,
            "count": 396
           },
           {
            "bin_start": 3.1,
            "bin_end": 3.4,
            "count": 0
           },
           {
            "bin_start": 3.4,
            "bin_end": 3.6999999999999997,
            "count": 0
           },
           {
            "bin_start": 3.6999999999999997,
            "bin_end": 4,
            "count": 342
           }
          ]
         }
        },
        {
         "name": "Age",
         "dtype": "float64",
         "stats": {
          "unique_count": 75,
          "nan_count": 0,
          "min": "18.0",
          "max": "92.0",
          "histogram": [
           {
            "bin_start": 18,
            "bin_end": 25.4,
            "count": 60
           },
           {
            "bin_start": 25.4,
            "bin_end": 32.8,
            "count": 119
           },
           {
            "bin_start": 32.8,
            "bin_end": 40.2,
            "count": 286
           },
           {
            "bin_start": 40.2,
            "bin_end": 47.6,
            "count": 278
           },
           {
            "bin_start": 47.6,
            "bin_end": 55,
            "count": 423
           },
           {
            "bin_start": 55,
            "bin_end": 62.400000000000006,
            "count": 642
           },
           {
            "bin_start": 62.400000000000006,
            "bin_end": 69.80000000000001,
            "count": 775
           },
           {
            "bin_start": 69.80000000000001,
            "bin_end": 77.2,
            "count": 635
           },
           {
            "bin_start": 77.2,
            "bin_end": 84.60000000000001,
            "count": 115
           },
           {
            "bin_start": 84.60000000000001,
            "bin_end": 92,
            "count": 20
           }
          ]
         }
        },
        {
         "name": "PS_Index",
         "dtype": "float64",
         "stats": {
          "unique_count": 7,
          "nan_count": 0,
          "min": "0.0",
          "max": "1.0",
          "histogram": [
           {
            "bin_start": 0,
            "bin_end": 0.1,
            "count": 30
           },
           {
            "bin_start": 0.1,
            "bin_end": 0.2,
            "count": 301
           },
           {
            "bin_start": 0.2,
            "bin_end": 0.30000000000000004,
            "count": 0
           },
           {
            "bin_start": 0.30000000000000004,
            "bin_end": 0.4,
            "count": 1519
           },
           {
            "bin_start": 0.4,
            "bin_end": 0.5,
            "count": 0
           },
           {
            "bin_start": 0.5,
            "bin_end": 0.6000000000000001,
            "count": 956
           },
           {
            "bin_start": 0.6000000000000001,
            "bin_end": 0.7000000000000001,
            "count": 411
           },
           {
            "bin_start": 0.7000000000000001,
            "bin_end": 0.8,
            "count": 0
           },
           {
            "bin_start": 0.8,
            "bin_end": 0.9,
            "count": 122
           },
           {
            "bin_start": 0.9,
            "bin_end": 1,
            "count": 14
           }
          ]
         }
        },
        {
         "name": "Natural_Science_Literacy",
         "dtype": "float64"
        },
        {
         "name": "College_Degree",
         "dtype": "float64"
        },
        {
         "name": "Pandemic_Impact",
         "dtype": "float64"
        },
        {
         "name": "Pandemic_Impact_Network",
         "dtype": "float64"
        },
        {
         "name": "Infected_Personal",
         "dtype": "float64"
        },
        {
         "name": "Infected_Network",
         "dtype": "float64"
        },
        {
         "name": "Biden",
         "dtype": "int64"
        },
        {
         "name": "Trump",
         "dtype": "int64"
        },
        {
         "name": "Party_ID",
         "dtype": "int64"
        },
        {
         "name": "Household_Income",
         "dtype": "float64"
        },
        {
         "name": "Vaccine_Required",
         "dtype": "int64"
        },
        {
         "name": "Evangelical",
         "dtype": "float64"
        },
        {
         "name": "kmeanslabel",
         "dtype": "int32"
        },
        {
         "name": "_deepnote_index_column",
         "dtype": "int64"
        }
       ],
       "rows": [
        {
         "County_Density": 137.8517954,
         "Vaccine_Trust_Index": 0,
         "Personal_Responsibility": 10,
         "Trust_Science_Apolitical": 5,
         "Trust_Science_Politicians": 5,
         "Trust_Science_Media": 5,
         "Trust_Science_Community": 5,
         "Trust_National": 5,
         "Trust_State": 5,
         "Trust_Local": 5,
         "Trust_Media": 5,
         "Perceived_Risk": 0,
         "Perceived_Network_Risk": 0,
         "Doctor_Comfort": 8,
         "Fear_Needles": 0,
         "Condition_Pregnancy": 0,
         "Condition_Asthma": 0,
         "Condition_Lung": 0,
         "Condition_Diabetes": 0,
         "Condition_Immune": 0,
         "Condition_Obesity": 0,
         "Condition_Heart": 0,
         "Condition_Organ": 0,
         "County_Cases": 0.078748852,
         "County_Cases2wk": 0.002252394,
         "Male": 1,
         "Race": 1,
         "Age": 67,
         "PS_Index": 0.5,
         "Natural_Science_Literacy": 0.666666687,
         "College_Degree": 0,
         "Pandemic_Impact": 0,
         "Pandemic_Impact_Network": 0,
         "Infected_Personal": 0,
         "Infected_Network": 0,
         "Biden": 0,
         "Trump": 1,
         "Party_ID": 0,
         "Household_Income": 1,
         "Vaccine_Required": 0,
         "Evangelical": 1,
         "kmeanslabel": 1,
         "_deepnote_index_column": 0
        },
        {
         "County_Density": 38.75140638,
         "Vaccine_Trust_Index": 9,
         "Personal_Responsibility": 5,
         "Trust_Science_Apolitical": 8,
         "Trust_Science_Politicians": 4,
         "Trust_Science_Media": 6,
         "Trust_Science_Community": 9,
         "Trust_National": 8,
         "Trust_State": 2,
         "Trust_Local": 7,
         "Trust_Media": 7,
         "Perceived_Risk": 10,
         "Perceived_Network_Risk": 9,
         "Doctor_Comfort": 8,
         "Fear_Needles": 6,
         "Condition_Pregnancy": 0,
         "Condition_Asthma": 0,
         "Condition_Lung": 0,
         "Condition_Diabetes": 0,
         "Condition_Immune": 0,
         "Condition_Obesity": 1,
         "Condition_Heart": 1,
         "Condition_Organ": 0,
         "County_Cases": 0.071311742,
         "County_Cases2wk": 0.002438762,
         "Male": 1,
         "Race": 1,
         "Age": 70,
         "PS_Index": 0.5,
         "Natural_Science_Literacy": 0.833333313,
         "College_Degree": 1,
         "Pandemic_Impact": 4.5,
         "Pandemic_Impact_Network": 5,
         "Infected_Personal": 0,
         "Infected_Network": 0,
         "Biden": 1,
         "Trump": 0,
         "Party_ID": 1,
         "Household_Income": 3,
         "Vaccine_Required": 0,
         "Evangelical": 0,
         "kmeanslabel": 1,
         "_deepnote_index_column": 1
        },
        {
         "County_Density": 18.10375235,
         "Vaccine_Trust_Index": 8.666666985,
         "Personal_Responsibility": 7,
         "Trust_Science_Apolitical": 6,
         "Trust_Science_Politicians": 1,
         "Trust_Science_Media": 1,
         "Trust_Science_Community": 6,
         "Trust_National": 7,
         "Trust_State": 7,
         "Trust_Local": 9,
         "Trust_Media": 1,
         "Perceived_Risk": 9,
         "Perceived_Network_Risk": 8,
         "Doctor_Comfort": 10,
         "Fear_Needles": 3,
         "Condition_Pregnancy": 0,
         "Condition_Asthma": 0,
         "Condition_Lung": 1,
         "Condition_Diabetes": 0,
         "Condition_Immune": 0,
         "Condition_Obesity": 0,
         "Condition_Heart": 1,
         "Condition_Organ": 0,
         "County_Cases": 0.119295433,
         "County_Cases2wk": 0.002287544,
         "Male": 0,
         "Race": 1,
         "Age": 69,
         "PS_Index": 0.333333343,
         "Natural_Science_Literacy": 1,
         "College_Degree": 0,
         "Pandemic_Impact": 5.5,
         "Pandemic_Impact_Network": 6,
         "Infected_Personal": 0,
         "Infected_Network": 1,
         "Biden": 0,
         "Trump": 1,
         "Party_ID": 0,
         "Household_Income": 6,
         "Vaccine_Required": 0,
         "Evangelical": 0,
         "kmeanslabel": 1,
         "_deepnote_index_column": 2
        },
        {
         "County_Density": 26.91291732,
         "Vaccine_Trust_Index": 4,
         "Personal_Responsibility": 7,
         "Trust_Science_Apolitical": 6,
         "Trust_Science_Politicians": 6,
         "Trust_Science_Media": 4,
         "Trust_Science_Community": 6,
         "Trust_National": 6,
         "Trust_State": 6,
         "Trust_Local": 6,
         "Trust_Media": 5,
         "Perceived_Risk": 6,
         "Perceived_Network_Risk": 3,
         "Doctor_Comfort": 7,
         "Fear_Needles": 2,
         "Condition_Pregnancy": 0,
         "Condition_Asthma": 0,
         "Condition_Lung": 1,
         "Condition_Diabetes": 0,
         "Condition_Immune": 0,
         "Condition_Obesity": 0,
         "Condition_Heart": 0,
         "Condition_Organ": 0,
         "County_Cases": 0.056908809,
         "County_Cases2wk": 0.001454703,
         "Male": 0,
         "Race": 1,
         "Age": 64,
         "PS_Index": 0.5,
         "Natural_Science_Literacy": 0.833333313,
         "College_Degree": 0,
         "Pandemic_Impact": 6,
         "Pandemic_Impact_Network": 7,
         "Infected_Personal": 0,
         "Infected_Network": 0,
         "Biden": 1,
         "Trump": 0,
         "Party_ID": 1,
         "Household_Income": 4,
         "Vaccine_Required": 0,
         "Evangelical": 1,
         "kmeanslabel": 1,
         "_deepnote_index_column": 3
        },
        {
         "County_Density": 1541.02667,
         "Vaccine_Trust_Index": 7,
         "Personal_Responsibility": 6,
         "Trust_Science_Apolitical": 6,
         "Trust_Science_Politicians": 1,
         "Trust_Science_Media": 2,
         "Trust_Science_Community": 6,
         "Trust_National": 6,
         "Trust_State": 2,
         "Trust_Local": 7,
         "Trust_Media": 4,
         "Perceived_Risk": 8,
         "Perceived_Network_Risk": 8,
         "Doctor_Comfort": 8,
         "Fear_Needles": 0,
         "Condition_Pregnancy": 0,
         "Condition_Asthma": 0,
         "Condition_Lung": 0,
         "Condition_Diabetes": 0,
         "Condition_Immune": 0,
         "Condition_Obesity": 0,
         "Condition_Heart": 0,
         "Condition_Organ": 0,
         "County_Cases": 0.082677923,
         "County_Cases2wk": 0.001198414,
         "Male": 1,
         "Race": 1,
         "Age": 56,
         "PS_Index": 0.333333343,
         "Natural_Science_Literacy": 0.833333313,
         "College_Degree": 1,
         "Pandemic_Impact": 2.5,
         "Pandemic_Impact_Network": 2.5,
         "Infected_Personal": 0,
         "Infected_Network": 1,
         "Biden": 1,
         "Trump": 1,
         "Party_ID": 0,
         "Household_Income": 3,
         "Vaccine_Required": 0,
         "Evangelical": 1,
         "kmeanslabel": 1,
         "_deepnote_index_column": 4
        },
        {
         "County_Density": 284.088504,
         "Vaccine_Trust_Index": 9.666666985,
         "Personal_Responsibility": 7,
         "Trust_Science_Apolitical": 6,
         "Trust_Science_Politicians": 0,
         "Trust_Science_Media": 6,
         "Trust_Science_Community": 8,
         "Trust_National": 3,
         "Trust_State": 4,
         "Trust_Local": 5,
         "Trust_Media": 7,
         "Perceived_Risk": 7,
         "Perceived_Network_Risk": 7,
         "Doctor_Comfort": 10,
         "Fear_Needles": 0,
         "Condition_Pregnancy": 0,
         "Condition_Asthma": 0,
         "Condition_Lung": 0,
         "Condition_Diabetes": 0,
         "Condition_Immune": 0,
         "Condition_Obesity": 0,
         "Condition_Heart": 0,
         "Condition_Organ": 0,
         "County_Cases": 0.083817966,
         "County_Cases2wk": 0.00375585,
         "Male": 1,
         "Race": 1,
         "Age": 68,
         "PS_Index": 0.333333343,
         "Natural_Science_Literacy": 0.833333313,
         "College_Degree": 0,
         "Pandemic_Impact": 5,
         "Pandemic_Impact_Network": 5,
         "Infected_Personal": 0,
         "Infected_Network": 0,
         "Biden": 1,
         "Trump": 0,
         "Party_ID": 1,
         "Household_Income": 12,
         "Vaccine_Required": 0,
         "Evangelical": 0,
         "kmeanslabel": 1,
         "_deepnote_index_column": 5
        },
        {
         "County_Density": 1351.009895,
         "Vaccine_Trust_Index": 5.333333492,
         "Personal_Responsibility": 10,
         "Trust_Science_Apolitical": 5,
         "Trust_Science_Politicians": 5,
         "Trust_Science_Media": 0,
         "Trust_Science_Community": 6,
         "Trust_National": 5,
         "Trust_State": 7,
         "Trust_Local": 8,
         "Trust_Media": 0,
         "Perceived_Risk": 5,
         "Perceived_Network_Risk": 8,
         "Doctor_Comfort": 10,
         "Fear_Needles": 5,
         "Condition_Pregnancy": 0,
         "Condition_Asthma": 0,
         "Condition_Lung": 0,
         "Condition_Diabetes": 0,
         "Condition_Immune": 0,
         "Condition_Obesity": 0,
         "Condition_Heart": 0,
         "Condition_Organ": 0,
         "County_Cases": 0.07317134,
         "County_Cases2wk": 0.00234373,
         "Male": 0,
         "Race": 1,
         "Age": 62,
         "PS_Index": 0.5,
         "Natural_Science_Literacy": 0.5,
         "College_Degree": 0,
         "Pandemic_Impact": 4.5,
         "Pandemic_Impact_Network": 5,
         "Infected_Personal": 0,
         "Infected_Network": 0,
         "Biden": 1,
         "Trump": 0,
         "Party_ID": 2,
         "Household_Income": 4,
         "Vaccine_Required": 0,
         "Evangelical": 0,
         "kmeanslabel": 1,
         "_deepnote_index_column": 6
        },
        {
         "County_Density": 363.7218004,
         "Vaccine_Trust_Index": 6,
         "Personal_Responsibility": 5,
         "Trust_Science_Apolitical": 5,
         "Trust_Science_Politicians": 2,
         "Trust_Science_Media": 3,
         "Trust_Science_Community": 5,
         "Trust_National": 5,
         "Trust_State": 5,
         "Trust_Local": 5,
         "Trust_Media": 5,
         "Perceived_Risk": 9,
         "Perceived_Network_Risk": 8,
         "Doctor_Comfort": 7,
         "Fear_Needles": 1,
         "Condition_Pregnancy": 0,
         "Condition_Asthma": 0,
         "Condition_Lung": 0,
         "Condition_Diabetes": 0,
         "Condition_Immune": 0,
         "Condition_Obesity": 0,
         "Condition_Heart": 0,
         "Condition_Organ": 0,
         "County_Cases": 0.099920772,
         "County_Cases2wk": 0.005953316,
         "Male": 0,
         "Race": 1,
         "Age": 62,
         "PS_Index": 0.166666672,
         "Natural_Science_Literacy": 0.666666687,
         "College_Degree": 1,
         "Pandemic_Impact": 2.5,
         "Pandemic_Impact_Network": 2.5,
         "Infected_Personal": 0,
         "Infected_Network": 1,
         "Biden": 0,
         "Trump": 1,
         "Party_ID": 2,
         "Household_Income": 12,
         "Vaccine_Required": 0,
         "Evangelical": 0,
         "kmeanslabel": 1,
         "_deepnote_index_column": 7
        },
        {
         "County_Density": 861.2850078,
         "Vaccine_Trust_Index": 9.666666985,
         "Personal_Responsibility": 9,
         "Trust_Science_Apolitical": 10,
         "Trust_Science_Politicians": 9,
         "Trust_Science_Media": 10,
         "Trust_Science_Community": 10,
         "Trust_National": 8,
         "Trust_State": 8,
         "Trust_Local": 8,
         "Trust_Media": 8,
         "Perceived_Risk": 10,
         "Perceived_Network_Risk": 10,
         "Doctor_Comfort": 10,
         "Fear_Needles": 0,
         "Condition_Pregnancy": 0,
         "Condition_Asthma": 0,
         "Condition_Lung": 0,
         "Condition_Diabetes": 0,
         "Condition_Immune": 0,
         "Condition_Obesity": 0,
         "Condition_Heart": 0,
         "Condition_Organ": 0,
         "County_Cases": 0.081679314,
         "County_Cases2wk": 0.001687606,
         "Male": 0,
         "Race": 1,
         "Age": 73,
         "PS_Index": 0.5,
         "Natural_Science_Literacy": 1,
         "College_Degree": 1,
         "Pandemic_Impact": 5,
         "Pandemic_Impact_Network": 4,
         "Infected_Personal": 0,
         "Infected_Network": 0,
         "Biden": 1,
         "Trump": 0,
         "Party_ID": 1,
         "Household_Income": 2,
         "Vaccine_Required": 0,
         "Evangelical": 0,
         "kmeanslabel": 1,
         "_deepnote_index_column": 8
        },
        {
         "County_Density": 1042.130651,
         "Vaccine_Trust_Index": 10,
         "Personal_Responsibility": 10,
         "Trust_Science_Apolitical": 5,
         "Trust_Science_Politicians": 0,
         "Trust_Science_Media": 0,
         "Trust_Science_Community": 5,
         "Trust_National": 1,
         "Trust_State": 9,
         "Trust_Local": 3,
         "Trust_Media": 0,
         "Perceived_Risk": 6,
         "Perceived_Network_Risk": 8,
         "Doctor_Comfort": 10,
         "Fear_Needles": 0,
         "Condition_Pregnancy": 0,
         "Condition_Asthma": 0,
         "Condition_Lung": 0,
         "Condition_Diabetes": 0,
         "Condition_Immune": 0,
         "Condition_Obesity": 0,
         "Condition_Heart": 0,
         "Condition_Organ": 0,
         "County_Cases": 0.077145733,
         "County_Cases2wk": 0.003394008,
         "Male": 1,
         "Race": 1,
         "Age": 64,
         "PS_Index": 0.333333343,
         "Natural_Science_Literacy": 1,
         "College_Degree": 1,
         "Pandemic_Impact": 4.5,
         "Pandemic_Impact_Network": 1.5,
         "Infected_Personal": 0,
         "Infected_Network": 0,
         "Biden": 0,
         "Trump": 1,
         "Party_ID": 0,
         "Household_Income": 7,
         "Vaccine_Required": 0,
         "Evangelical": 0,
         "kmeanslabel": 1,
         "_deepnote_index_column": 9
        }
       ]
      },
      "text/plain": "      County_Density  Vaccine_Trust_Index  Personal_Responsibility  \\\n0         137.851795             0.000000                     10.0   \n1          38.751406             9.000000                      5.0   \n2          18.103752             8.666667                      7.0   \n3          26.912917             4.000000                      7.0   \n4        1541.026670             7.000000                      6.0   \n...              ...                  ...                      ...   \n3348      470.033815             1.666667                      8.0   \n3349      225.323560             9.333333                      2.0   \n3350      108.474026             9.000000                      8.0   \n3351       63.385677             9.333333                      5.0   \n3352      599.558111             9.000000                     10.0   \n\n      Trust_Science_Apolitical  Trust_Science_Politicians  \\\n0                          5.0                        5.0   \n1                          8.0                        4.0   \n2                          6.0                        1.0   \n3                          6.0                        6.0   \n4                          6.0                        1.0   \n...                        ...                        ...   \n3348                       0.0                        0.0   \n3349                       9.0                        1.0   \n3350                       6.0                        3.0   \n3351                       5.0                        4.0   \n3352                       1.0                        0.0   \n\n      Trust_Science_Media  Trust_Science_Community  Trust_National  \\\n0                     5.0                      5.0             5.0   \n1                     6.0                      9.0             8.0   \n2                     1.0                      6.0             7.0   \n3                     4.0                      6.0             6.0   \n4                     2.0                      6.0             6.0   \n...                   ...                      ...             ...   \n3348                  0.0                      0.0             2.0   \n3349                  8.0                      9.0             6.0   \n3350                  3.0                      5.0             6.0   \n3351                  6.0                      9.0             8.0   \n3352                  0.0                     10.0             9.0   \n\n      Trust_State  Trust_Local  ...  Pandemic_Impact_Network  \\\n0             5.0          5.0  ...                      0.0   \n1             2.0          7.0  ...                      5.0   \n2             7.0          9.0  ...                      6.0   \n3             6.0          6.0  ...                      7.0   \n4             2.0          7.0  ...                      2.5   \n...           ...          ...  ...                      ...   \n3348          2.0          4.0  ...                      7.5   \n3349          7.0          7.0  ...                      3.5   \n3350          7.0          6.0  ...                      6.0   \n3351          8.0          7.0  ...                      3.5   \n3352          9.0         10.0  ...                      9.0   \n\n      Infected_Personal  Infected_Network  Biden  Trump  Party_ID  \\\n0                   0.0               0.0      0      1         0   \n1                   0.0               0.0      1      0         1   \n2                   0.0               1.0      0      1         0   \n3                   0.0               0.0      1      0         1   \n4                   0.0               1.0      1      1         0   \n...                 ...               ...    ...    ...       ...   \n3348                0.0               0.0      0      1         2   \n3349                0.0               1.0      1      0         0   \n3350                0.0               0.0      0      1         0   \n3351                0.0               1.0      1      0         1   \n3352                1.0               1.0      0      1         0   \n\n      Household_Income  Vaccine_Required  Evangelical  kmeanslabel  \n0                  1.0                 0          1.0            1  \n1                  3.0                 0          0.0            1  \n2                  6.0                 0          0.0            1  \n3                  4.0                 0          1.0            1  \n4                  3.0                 0          1.0            1  \n...                ...               ...          ...          ...  \n3348               8.0                 0          1.0            1  \n3349               2.0                 0          0.0            1  \n3350               2.0                 1          0.0            1  \n3351              12.0                 1          0.0            1  \n3352               5.0                 0          1.0            1  \n\n[3353 rows x 42 columns]",
      "text/html": "<div>\n<style scoped>\n    .dataframe tbody tr th:only-of-type {\n        vertical-align: middle;\n    }\n\n    .dataframe tbody tr th {\n        vertical-align: top;\n    }\n\n    .dataframe thead th {\n        text-align: right;\n    }\n</style>\n<table border=\"1\" class=\"dataframe\">\n  <thead>\n    <tr style=\"text-align: right;\">\n      <th></th>\n      <th>County_Density</th>\n      <th>Vaccine_Trust_Index</th>\n      <th>Personal_Responsibility</th>\n      <th>Trust_Science_Apolitical</th>\n      <th>Trust_Science_Politicians</th>\n      <th>Trust_Science_Media</th>\n      <th>Trust_Science_Community</th>\n      <th>Trust_National</th>\n      <th>Trust_State</th>\n      <th>Trust_Local</th>\n      <th>...</th>\n      <th>Pandemic_Impact_Network</th>\n      <th>Infected_Personal</th>\n      <th>Infected_Network</th>\n      <th>Biden</th>\n      <th>Trump</th>\n      <th>Party_ID</th>\n      <th>Household_Income</th>\n      <th>Vaccine_Required</th>\n      <th>Evangelical</th>\n      <th>kmeanslabel</th>\n    </tr>\n  </thead>\n  <tbody>\n    <tr>\n      <th>0</th>\n      <td>137.851795</td>\n      <td>0.000000</td>\n      <td>10.0</td>\n      <td>5.0</td>\n      <td>5.0</td>\n      <td>5.0</td>\n      <td>5.0</td>\n      <td>5.0</td>\n      <td>5.0</td>\n      <td>5.0</td>\n      <td>...</td>\n      <td>0.0</td>\n      <td>0.0</td>\n      <td>0.0</td>\n      <td>0</td>\n      <td>1</td>\n      <td>0</td>\n      <td>1.0</td>\n      <td>0</td>\n      <td>1.0</td>\n      <td>1</td>\n    </tr>\n    <tr>\n      <th>1</th>\n      <td>38.751406</td>\n      <td>9.000000</td>\n      <td>5.0</td>\n      <td>8.0</td>\n      <td>4.0</td>\n      <td>6.0</td>\n      <td>9.0</td>\n      <td>8.0</td>\n      <td>2.0</td>\n      <td>7.0</td>\n      <td>...</td>\n      <td>5.0</td>\n      <td>0.0</td>\n      <td>0.0</td>\n      <td>1</td>\n      <td>0</td>\n      <td>1</td>\n      <td>3.0</td>\n      <td>0</td>\n      <td>0.0</td>\n      <td>1</td>\n    </tr>\n    <tr>\n      <th>2</th>\n      <td>18.103752</td>\n      <td>8.666667</td>\n      <td>7.0</td>\n      <td>6.0</td>\n      <td>1.0</td>\n      <td>1.0</td>\n      <td>6.0</td>\n      <td>7.0</td>\n      <td>7.0</td>\n      <td>9.0</td>\n      <td>...</td>\n      <td>6.0</td>\n      <td>0.0</td>\n      <td>1.0</td>\n      <td>0</td>\n      <td>1</td>\n      <td>0</td>\n      <td>6.0</td>\n      <td>0</td>\n      <td>0.0</td>\n      <td>1</td>\n    </tr>\n    <tr>\n      <th>3</th>\n      <td>26.912917</td>\n      <td>4.000000</td>\n      <td>7.0</td>\n      <td>6.0</td>\n      <td>6.0</td>\n      <td>4.0</td>\n      <td>6.0</td>\n      <td>6.0</td>\n      <td>6.0</td>\n      <td>6.0</td>\n      <td>...</td>\n      <td>7.0</td>\n      <td>0.0</td>\n      <td>0.0</td>\n      <td>1</td>\n      <td>0</td>\n      <td>1</td>\n      <td>4.0</td>\n      <td>0</td>\n      <td>1.0</td>\n      <td>1</td>\n    </tr>\n    <tr>\n      <th>4</th>\n      <td>1541.026670</td>\n      <td>7.000000</td>\n      <td>6.0</td>\n      <td>6.0</td>\n      <td>1.0</td>\n      <td>2.0</td>\n      <td>6.0</td>\n      <td>6.0</td>\n      <td>2.0</td>\n      <td>7.0</td>\n      <td>...</td>\n      <td>2.5</td>\n      <td>0.0</td>\n      <td>1.0</td>\n      <td>1</td>\n      <td>1</td>\n      <td>0</td>\n      <td>3.0</td>\n      <td>0</td>\n      <td>1.0</td>\n      <td>1</td>\n    </tr>\n    <tr>\n      <th>...</th>\n      <td>...</td>\n      <td>...</td>\n      <td>...</td>\n      <td>...</td>\n      <td>...</td>\n      <td>...</td>\n      <td>...</td>\n      <td>...</td>\n      <td>...</td>\n      <td>...</td>\n      <td>...</td>\n      <td>...</td>\n      <td>...</td>\n      <td>...</td>\n      <td>...</td>\n      <td>...</td>\n      <td>...</td>\n      <td>...</td>\n      <td>...</td>\n      <td>...</td>\n      <td>...</td>\n    </tr>\n    <tr>\n      <th>3348</th>\n      <td>470.033815</td>\n      <td>1.666667</td>\n      <td>8.0</td>\n      <td>0.0</td>\n      <td>0.0</td>\n      <td>0.0</td>\n      <td>0.0</td>\n      <td>2.0</td>\n      <td>2.0</td>\n      <td>4.0</td>\n      <td>...</td>\n      <td>7.5</td>\n      <td>0.0</td>\n      <td>0.0</td>\n      <td>0</td>\n      <td>1</td>\n      <td>2</td>\n      <td>8.0</td>\n      <td>0</td>\n      <td>1.0</td>\n      <td>1</td>\n    </tr>\n    <tr>\n      <th>3349</th>\n      <td>225.323560</td>\n      <td>9.333333</td>\n      <td>2.0</td>\n      <td>9.0</td>\n      <td>1.0</td>\n      <td>8.0</td>\n      <td>9.0</td>\n      <td>6.0</td>\n      <td>7.0</td>\n      <td>7.0</td>\n      <td>...</td>\n      <td>3.5</td>\n      <td>0.0</td>\n      <td>1.0</td>\n      <td>1</td>\n      <td>0</td>\n      <td>0</td>\n      <td>2.0</td>\n      <td>0</td>\n      <td>0.0</td>\n      <td>1</td>\n    </tr>\n    <tr>\n      <th>3350</th>\n      <td>108.474026</td>\n      <td>9.000000</td>\n      <td>8.0</td>\n      <td>6.0</td>\n      <td>3.0</td>\n      <td>3.0</td>\n      <td>5.0</td>\n      <td>6.0</td>\n      <td>7.0</td>\n      <td>6.0</td>\n      <td>...</td>\n      <td>6.0</td>\n      <td>0.0</td>\n      <td>0.0</td>\n      <td>0</td>\n      <td>1</td>\n      <td>0</td>\n      <td>2.0</td>\n      <td>1</td>\n      <td>0.0</td>\n      <td>1</td>\n    </tr>\n    <tr>\n      <th>3351</th>\n      <td>63.385677</td>\n      <td>9.333333</td>\n      <td>5.0</td>\n      <td>5.0</td>\n      <td>4.0</td>\n      <td>6.0</td>\n      <td>9.0</td>\n      <td>8.0</td>\n      <td>8.0</td>\n      <td>7.0</td>\n      <td>...</td>\n      <td>3.5</td>\n      <td>0.0</td>\n      <td>1.0</td>\n      <td>1</td>\n      <td>0</td>\n      <td>1</td>\n      <td>12.0</td>\n      <td>1</td>\n      <td>0.0</td>\n      <td>1</td>\n    </tr>\n    <tr>\n      <th>3352</th>\n      <td>599.558111</td>\n      <td>9.000000</td>\n      <td>10.0</td>\n      <td>1.0</td>\n      <td>0.0</td>\n      <td>0.0</td>\n      <td>10.0</td>\n      <td>9.0</td>\n      <td>9.0</td>\n      <td>10.0</td>\n      <td>...</td>\n      <td>9.0</td>\n      <td>1.0</td>\n      <td>1.0</td>\n      <td>0</td>\n      <td>1</td>\n      <td>0</td>\n      <td>5.0</td>\n      <td>0</td>\n      <td>1.0</td>\n      <td>1</td>\n    </tr>\n  </tbody>\n</table>\n<p>3353 rows × 42 columns</p>\n</div>"
     },
     "metadata": {}
    }
   ]
  },
  {
   "cell_type": "markdown",
   "source": "Next is to perform the regression part. Initially, it should setting the devide of the running, the epoch, etc.",
   "metadata": {
    "cell_id": "944884a8830a4373bd8f29f71f82a029",
    "tags": [],
    "deepnote_cell_type": "markdown",
    "deepnote_cell_height": 52.390625
   }
  },
  {
   "cell_type": "code",
   "metadata": {
    "cell_id": "d5eb75635898496ab993f993b90b0c01",
    "tags": [],
    "deepnote_to_be_reexecuted": false,
    "source_hash": "9df28488",
    "execution_start": 1654709656694,
    "execution_millis": 5,
    "deepnote_cell_type": "code",
    "deepnote_cell_height": 102
   },
   "source": "device = 'cpu' #No cuda would be used\nEpoch = 10 #It should be set larger than this to show the result clearly\nmax_iter = 50 #For this model, the max_iter should be set to 50, which means every 50 iteration to perform a test",
   "execution_count": null,
   "outputs": []
  },
  {
   "cell_type": "markdown",
   "source": "Next, Construct the model based on PyTorch",
   "metadata": {
    "cell_id": "4e5016223dd547168e6a3265138ccc54",
    "tags": [],
    "deepnote_cell_type": "markdown",
    "deepnote_cell_height": 52.390625
   }
  },
  {
   "cell_type": "code",
   "metadata": {
    "cell_id": "2211ad034e2b494b9817e22de467af14",
    "tags": [],
    "deepnote_to_be_reexecuted": false,
    "source_hash": "86415d4c",
    "execution_start": 1654709656703,
    "execution_millis": 9,
    "deepnote_cell_type": "code",
    "deepnote_cell_height": 210
   },
   "source": "model = nn.Sequential(\n\t\tnn.Linear(df.shape[1], 512),\n\t\tnn.ReLU(),\n\t\tnn.Linear(512,512),\n\t\tnn.ReLU(),\n\t\tnn.Linear(512,512),\n\t\tnn.ReLU(),\n\t\tnn.Linear(512,1)\n\t).to(device)",
   "execution_count": null,
   "outputs": []
  },
  {
   "cell_type": "markdown",
   "source": "Because the problem is the regression problem, the loss_function is selected as the MSE",
   "metadata": {
    "cell_id": "431282324eaf40dfa5e9178ca5771d4f",
    "tags": [],
    "deepnote_cell_type": "markdown",
    "deepnote_cell_height": 52.390625
   }
  },
  {
   "cell_type": "code",
   "metadata": {
    "cell_id": "f2835db0e3984c96bef8c85ecb4f4a4f",
    "tags": [],
    "deepnote_to_be_reexecuted": false,
    "source_hash": "8eca0945",
    "execution_start": 1654709656762,
    "execution_millis": 37745,
    "owner_user_id": "880780bd-eb40-4e67-a22f-e23d7b854bac",
    "deepnote_cell_type": "code",
    "deepnote_cell_height": 66
   },
   "source": "loss_fn = nn.MSELoss().to(device)",
   "execution_count": null,
   "outputs": []
  },
  {
   "cell_type": "markdown",
   "source": "Defining the optimizer with learning rate of 1e-4 because larger learning rate will cause the network become overfitting fast.",
   "metadata": {
    "cell_id": "6a5ffb5c4d2d4cac88c5c5a522d4a94f",
    "tags": [],
    "deepnote_cell_type": "markdown",
    "deepnote_cell_height": 74.796875
   }
  },
  {
   "cell_type": "code",
   "metadata": {
    "cell_id": "5248e2abab2847d18943c6f1504ec4dc",
    "tags": [],
    "deepnote_to_be_reexecuted": false,
    "source_hash": "bc647283",
    "execution_start": 1654709656763,
    "execution_millis": 37670,
    "deepnote_cell_type": "code",
    "deepnote_cell_height": 66
   },
   "source": "optimizer = torch.optim.Adam(model.parameters(), lr = 1e-4)",
   "execution_count": null,
   "outputs": []
  },
  {
   "cell_type": "markdown",
   "source": "Spliting the data and construct the training set and test set",
   "metadata": {
    "cell_id": "6064232940c740c3b058376c7b7a2d83",
    "tags": [],
    "deepnote_cell_type": "markdown",
    "deepnote_cell_height": 52.390625
   }
  },
  {
   "cell_type": "code",
   "metadata": {
    "cell_id": "89d4364f2aac49e587f638f4e0459b4d",
    "tags": [],
    "deepnote_to_be_reexecuted": false,
    "source_hash": "5e36c67a",
    "execution_start": 1654709656763,
    "execution_millis": 7,
    "deepnote_cell_type": "code",
    "deepnote_cell_height": 192
   },
   "source": "#For the training set\nx = torch.FloatTensor(np.array(df[:int(0.9*df.shape[0])])).to(device)\ny = torch.FloatTensor(np.array(labels[:int(0.9*df.shape[0])])).to(device).unsqueeze(-1)\n#For the testing set\nx_test = torch.FloatTensor(np.array(df[int(0.9*df.shape[0]):])).to(device)\ny_test = torch.FloatTensor(np.array(labels[int(0.9*df.shape[0]):])).to(device).unsqueeze(-1)\nprint(x.shape,y.shape)\nprint(x_test.shape,y_test.shape)",
   "execution_count": null,
   "outputs": [
    {
     "name": "stdout",
     "text": "torch.Size([3017, 42]) torch.Size([3017, 1])\ntorch.Size([336, 42]) torch.Size([336, 1])\n",
     "output_type": "stream"
    }
   ]
  },
  {
   "cell_type": "markdown",
   "source": "Now, it is time to perform the training and testing loop. Notice that in MLP, is has using Loop to iterate over and over again!",
   "metadata": {
    "cell_id": "6488af1dfa9844f5960c7363eaf20137",
    "tags": [],
    "deepnote_cell_type": "markdown",
    "deepnote_cell_height": 74.796875
   }
  },
  {
   "cell_type": "code",
   "metadata": {
    "cell_id": "7cefc7d9f1374295b14f48469225c9f6",
    "tags": [],
    "deepnote_to_be_reexecuted": false,
    "source_hash": "e0a13f92",
    "execution_start": 1654709656769,
    "execution_millis": 333761,
    "deepnote_cell_type": "code",
    "deepnote_cell_height": 282
   },
   "source": "for epoch in range(Epoch):\n\t#Training with the training set\n\tfor it in trange(max_iter):\n\t\ty_pred = model(x) #obtain the predicted value\n\t\tloss = loss_fn(y_pred, y) #compute the loss function\n\t\toptimizer.zero_grad() #clear the gradient in the optimizer\n\t\tloss.backward() #backwarding the loss\n\t\toptimizer.step() #update the optimizer\n\n\t#Testing the data using testing set\n\ty_pred_test = model(x_test)\n\tloss_test = loss_fn(y_pred_test, y_test)\n\tprint(f'Epoch{epoch}, Training Set Loss:{loss.item()}, Test Set Loss:{loss_test.item()}')",
   "execution_count": null,
   "outputs": [
    {
     "name": "stderr",
     "text": "100%|██████████| 50/50 [00:33<00:00,  1.49it/s]\nEpoch0, Training Set Loss:0.5529709458351135, Test Set Loss:0.8505077362060547\n100%|██████████| 50/50 [00:33<00:00,  1.51it/s]\nEpoch1, Training Set Loss:0.17739205062389374, Test Set Loss:0.21063323318958282\n100%|██████████| 50/50 [00:32<00:00,  1.52it/s]\nEpoch2, Training Set Loss:0.24123425781726837, Test Set Loss:0.1880612075328827\n100%|██████████| 50/50 [00:33<00:00,  1.50it/s]\nEpoch3, Training Set Loss:0.116368368268013, Test Set Loss:0.15852192044258118\n100%|██████████| 50/50 [00:33<00:00,  1.51it/s]\nEpoch4, Training Set Loss:0.10501353442668915, Test Set Loss:0.14747793972492218\n100%|██████████| 50/50 [00:33<00:00,  1.49it/s]\nEpoch5, Training Set Loss:0.10363566875457764, Test Set Loss:0.15894567966461182\n100%|██████████| 50/50 [00:33<00:00,  1.50it/s]\nEpoch6, Training Set Loss:0.0968862771987915, Test Set Loss:0.1493232548236847\n100%|██████████| 50/50 [00:33<00:00,  1.50it/s]\nEpoch7, Training Set Loss:0.09015238285064697, Test Set Loss:0.1419822871685028\n100%|██████████| 50/50 [00:33<00:00,  1.51it/s]\nEpoch8, Training Set Loss:0.08603479713201523, Test Set Loss:0.14332301914691925\n100%|██████████| 50/50 [00:33<00:00,  1.51it/s]Epoch9, Training Set Loss:0.08362097293138504, Test Set Loss:0.13961467146873474\n\n",
     "output_type": "stream"
    }
   ]
  },
  {
   "cell_type": "markdown",
   "source": "## Summary\n\nThe Pandas library is applied to read data, implement the missing value filling, and the text converting, while the KMeans is applied to implement the feature engineering. The multilayer perceptron is applied to implement the regression problem. The result shows that the model is overfitting after 2500 iterations, with the minimum mean square error of the regression being 0.13364802300930023 in the test set.",
   "metadata": {
    "cell_id": "75922aa8-c6e1-46d5-9c85-550df5b37982",
    "tags": [],
    "deepnote_cell_type": "markdown",
    "deepnote_cell_height": 175.59375
   }
  },
  {
   "cell_type": "markdown",
   "source": "## References",
   "metadata": {
    "cell_id": "fc42153e-0b6d-4c37-9e06-ee471cfb0534",
    "tags": [],
    "deepnote_cell_type": "markdown",
    "deepnote_cell_height": 70
   }
  },
  {
   "cell_type": "markdown",
   "source": "* What is the source of your dataset(s)?\nAnswer: the source of the dataset is Kaggle",
   "metadata": {
    "cell_id": "d3a63eb2a5bc44e0a0322bc8748d730b",
    "tags": [],
    "deepnote_cell_type": "markdown",
    "deepnote_cell_height": 91.796875
   }
  },
  {
   "cell_type": "markdown",
   "source": "* Were any portions of the code or ideas taken from another source?  List those sources here and say how they were used.\nAnswer: most of my code is original, which sources from the class, or refers to the tutorial in YouTube (See Next Question).",
   "metadata": {
    "cell_id": "c01d9c7e85f74a0c8939eb4f9a7e7ca8",
    "tags": [],
    "deepnote_cell_type": "markdown",
    "deepnote_cell_height": 114.1875
   }
  },
  {
   "cell_type": "markdown",
   "source": "* List other references that you found helpful.",
   "metadata": {
    "cell_id": "451fb6af5d05487fb2893fdc7bc87a0f",
    "tags": [],
    "deepnote_to_be_reexecuted": false,
    "source_hash": "aa45eba7",
    "execution_start": 1652916033453,
    "execution_millis": 0,
    "deepnote_cell_type": "markdown",
    "deepnote_cell_height": 69.390625
   }
  },
  {
   "cell_type": "markdown",
   "source": "Answer: \n\nThe PyTorch tutorial: https://www.youtube.com/watch?v=c36lUUr864M\n\nThe tqdm tutorial: https://www.youtube.com/watch?v=8zm4L3rVreI\n\nThe official document of PyTorch: https://pytorch.org/docs/stable/index.html\n\nThe definition of the silhouette method: https://scikit-learn.org/stable/modules/generated/sklearn.metrics.silhouette_score.html",
   "metadata": {
    "cell_id": "af441130a4104df2b243ee89a9d9b2fa",
    "tags": [],
    "owner_user_id": "02be19f8-8497-4212-b8d0-46ca9f1d48b9",
    "deepnote_cell_type": "markdown",
    "deepnote_cell_height": 220.390625
   }
  },
  {
   "cell_type": "markdown",
   "source": "<a style='text-decoration:none;line-height:16px;display:flex;color:#5B5B62;padding:10px;justify-content:end;' href='https://deepnote.com?utm_source=created-in-deepnote-cell&projectId=25e67f76-233b-4a4f-9e44-3e29050463bb' target=\"_blank\">\n<img alt='Created in deepnote.com' style='display:inline;max-height:16px;margin:0px;margin-right:7.5px;' src='data:image/svg+xml;base64,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' > </img>\nCreated in <span style='font-weight:600;margin-left:4px;'>Deepnote</span></a>",
   "metadata": {
    "tags": [],
    "created_in_deepnote_cell": true,
    "deepnote_cell_type": "markdown"
   }
  }
 ],
 "nbformat": 4,
 "nbformat_minor": 2,
 "metadata": {
  "orig_nbformat": 2,
  "deepnote": {
   "is_reactive": false
  },
  "deepnote_notebook_id": "97afb67d-06ce-4a63-bb3d-208672377dae",
  "deepnote_execution_queue": []
 }
}