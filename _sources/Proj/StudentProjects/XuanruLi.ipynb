{
 "cells": [
  {
   "cell_type": "markdown",
   "source": "# Project Title :Stock Price of Famous Companies\n\nAuthor: Xuanru Li, xuanrul@uci.edu\n\nCourse Project, UC Irvine, Math 10, S22",
   "metadata": {
    "tags": [],
    "cell_id": "098969f5-ac0d-4245-bbc2-f824edd4e15f",
    "deepnote_cell_type": "markdown",
    "deepnote_cell_height": 208.796875
   }
  },
  {
   "cell_type": "markdown",
   "source": "## Introduction\n\n* my dataset is dataset of all the US stock within 5 years but it's a little big. I make three subset which including three stocks in the stock market, which are AAL, Facebook and Apple. In this project I mainly focs on visualization of stock price and make prediction by using MachineLearning.  \n* There are four parts of this project, first two parts are prediction using linear regression and polynomial regression. Last two parts are visualization by using Plotly and Altair in terms of history stock price of AAL and comparisons between Apple and Facebook",
   "metadata": {
    "cell_id": "1232c27a-f5e2-426a-91e0-f6cfebd8a611",
    "tags": [],
    "deepnote_cell_type": "markdown",
    "deepnote_cell_height": 237.390625
   }
  },
  {
   "cell_type": "markdown",
   "source": "## Predict close price of AAL stock\n\n",
   "metadata": {
    "cell_id": "5100f2c6-6407-41f2-9bb2-1a62540d8662",
    "tags": [],
    "deepnote_cell_type": "markdown",
    "deepnote_cell_height": 70
   }
  },
  {
   "cell_type": "markdown",
   "source": "Firstly, read the dataset and clean the data,becasue the dataset is too large and altair only shows max row of 5000, here I choose one stock(AAL) sample from original dataset \n",
   "metadata": {
    "cell_id": "248acebd32c2460f96585c9821554886",
    "tags": [],
    "deepnote_cell_type": "markdown",
    "deepnote_cell_height": 74.796875
   }
  },
  {
   "cell_type": "code",
   "metadata": {
    "cell_id": "3af642fc19424e238f6497edad8300ab",
    "tags": [],
    "deepnote_to_be_reexecuted": false,
    "source_hash": "e66a7a5b",
    "execution_start": 1654289820873,
    "execution_millis": 2551,
    "deepnote_cell_type": "code",
    "deepnote_cell_height": 135
   },
   "source": "import numpy as np\nimport pandas as pd\nimport seaborn as sns\nimport altair as alt",
   "execution_count": null,
   "outputs": []
  },
  {
   "cell_type": "code",
   "metadata": {
    "cell_id": "4dc346ac9e794a82b2b03fdc5993e46f",
    "tags": [],
    "deepnote_to_be_reexecuted": false,
    "source_hash": "ba1045d7",
    "execution_start": 1654289823426,
    "execution_millis": 424,
    "deepnote_cell_type": "code",
    "deepnote_cell_height": 81
   },
   "source": "df= pd.read_csv(\"all_stocks_5yr.csv\")",
   "execution_count": null,
   "outputs": []
  },
  {
   "cell_type": "code",
   "metadata": {
    "cell_id": "d3d821b71e0d4c3282aea92d251762d6",
    "tags": [],
    "deepnote_to_be_reexecuted": false,
    "source_hash": "413b0264",
    "execution_start": 1654289823859,
    "execution_millis": 279,
    "deepnote_table_state": {
     "pageSize": 10,
     "pageIndex": 0,
     "filters": [],
     "sortBy": []
    },
    "deepnote_table_loading": false,
    "deepnote_table_invalid": false,
    "deepnote_cell_type": "code",
    "deepnote_cell_height": 449
   },
   "source": "df=df.dropna().copy()\ndf=df[df[\"Name\"]==\"AAL\"].copy()\ndf.head()\n",
   "execution_count": null,
   "outputs": [
    {
     "output_type": "execute_result",
     "execution_count": 3,
     "data": {
      "application/vnd.deepnote.dataframe.v3+json": {
       "column_count": 7,
       "row_count": 5,
       "columns": [
        {
         "name": "date",
         "dtype": "object",
         "stats": {
          "unique_count": 5,
          "nan_count": 0,
          "categories": [
           {
            "name": "2013-02-08",
            "count": 1
           },
           {
            "name": "2013-02-11",
            "count": 1
           },
           {
            "name": "3 others",
            "count": 3
           }
          ]
         }
        },
        {
         "name": "open",
         "dtype": "float64",
         "stats": {
          "unique_count": 5,
          "nan_count": 0,
          "min": "14.3",
          "max": "15.07",
          "histogram": [
           {
            "bin_start": 14.3,
            "bin_end": 14.377,
            "count": 1
           },
           {
            "bin_start": 14.377,
            "bin_end": 14.454,
            "count": 1
           },
           {
            "bin_start": 14.454,
            "bin_end": 14.531,
            "count": 0
           },
           {
            "bin_start": 14.531,
            "bin_end": 14.608,
            "count": 0
           },
           {
            "bin_start": 14.608,
            "bin_end": 14.685,
            "count": 0
           },
           {
            "bin_start": 14.685,
            "bin_end": 14.762,
            "count": 0
           },
           {
            "bin_start": 14.762,
            "bin_end": 14.839,
            "count": 0
           },
           {
            "bin_start": 14.839,
            "bin_end": 14.916,
            "count": 1
           },
           {
            "bin_start": 14.916,
            "bin_end": 14.993,
            "count": 1
           },
           {
            "bin_start": 14.993,
            "bin_end": 15.07,
            "count": 1
           }
          ]
         }
        },
        {
         "name": "high",
         "dtype": "float64",
         "stats": {
          "unique_count": 5,
          "nan_count": 0,
          "min": "14.51",
          "max": "15.12",
          "histogram": [
           {
            "bin_start": 14.51,
            "bin_end": 14.571,
            "count": 1
           },
           {
            "bin_start": 14.571,
            "bin_end": 14.632,
            "count": 0
           },
           {
            "bin_start": 14.632,
            "bin_end": 14.693,
            "count": 0
           },
           {
            "bin_start": 14.693,
            "bin_end": 14.754,
            "count": 0
           },
           {
            "bin_start": 14.754,
            "bin_end": 14.815,
            "count": 0
           },
           {
            "bin_start": 14.815,
            "bin_end": 14.876,
            "count": 0
           },
           {
            "bin_start": 14.876,
            "bin_end": 14.937,
            "count": 0
           },
           {
            "bin_start": 14.937,
            "bin_end": 14.998,
            "count": 2
           },
           {
            "bin_start": 14.998,
            "bin_end": 15.059,
            "count": 1
           },
           {
            "bin_start": 15.059,
            "bin_end": 15.12,
            "count": 1
           }
          ]
         }
        },
        {
         "name": "low",
         "dtype": "float64",
         "stats": {
          "unique_count": 5,
          "nan_count": 0,
          "min": "13.16",
          "max": "14.63",
          "histogram": [
           {
            "bin_start": 13.16,
            "bin_end": 13.307,
            "count": 1
           },
           {
            "bin_start": 13.307,
            "bin_end": 13.454,
            "count": 0
           },
           {
            "bin_start": 13.454,
            "bin_end": 13.601,
            "count": 0
           },
           {
            "bin_start": 13.601,
            "bin_end": 13.748000000000001,
            "count": 0
           },
           {
            "bin_start": 13.748000000000001,
            "bin_end": 13.895,
            "count": 0
           },
           {
            "bin_start": 13.895,
            "bin_end": 14.042,
            "count": 0
           },
           {
            "bin_start": 14.042,
            "bin_end": 14.189,
            "count": 1
           },
           {
            "bin_start": 14.189,
            "bin_end": 14.336,
            "count": 2
           },
           {
            "bin_start": 14.336,
            "bin_end": 14.483,
            "count": 0
           },
           {
            "bin_start": 14.483,
            "bin_end": 14.63,
            "count": 1
           }
          ]
         }
        },
        {
         "name": "close",
         "dtype": "float64",
         "stats": {
          "unique_count": 5,
          "nan_count": 0,
          "min": "13.99",
          "max": "14.75",
          "histogram": [
           {
            "bin_start": 13.99,
            "bin_end": 14.066,
            "count": 1
           },
           {
            "bin_start": 14.066,
            "bin_end": 14.142,
            "count": 0
           },
           {
            "bin_start": 14.142,
            "bin_end": 14.218,
            "count": 0
           },
           {
            "bin_start": 14.218,
            "bin_end": 14.294,
            "count": 1
           },
           {
            "bin_start": 14.294,
            "bin_end": 14.370000000000001,
            "count": 0
           },
           {
            "bin_start": 14.370000000000001,
            "bin_end": 14.446,
            "count": 0
           },
           {
            "bin_start": 14.446,
            "bin_end": 14.522,
            "count": 1
           },
           {
            "bin_start": 14.522,
            "bin_end": 14.598,
            "count": 0
           },
           {
            "bin_start": 14.598,
            "bin_end": 14.674,
            "count": 1
           },
           {
            "bin_start": 14.674,
            "bin_end": 14.75,
            "count": 1
           }
          ]
         }
        },
        {
         "name": "volume",
         "dtype": "int64",
         "stats": {
          "unique_count": 5,
          "nan_count": 0,
          "min": "8126000",
          "max": "31879900",
          "histogram": [
           {
            "bin_start": 8126000,
            "bin_end": 10501390,
            "count": 4
           },
           {
            "bin_start": 10501390,
            "bin_end": 12876780,
            "count": 0
           },
           {
            "bin_start": 12876780,
            "bin_end": 15252170,
            "count": 0
           },
           {
            "bin_start": 15252170,
            "bin_end": 17627560,
            "count": 0
           },
           {
            "bin_start": 17627560,
            "bin_end": 20002950,
            "count": 0
           },
           {
            "bin_start": 20002950,
            "bin_end": 22378340,
            "count": 0
           },
           {
            "bin_start": 22378340,
            "bin_end": 24753730,
            "count": 0
           },
           {
            "bin_start": 24753730,
            "bin_end": 27129120,
            "count": 0
           },
           {
            "bin_start": 27129120,
            "bin_end": 29504510,
            "count": 0
           },
           {
            "bin_start": 29504510,
            "bin_end": 31879900,
            "count": 1
           }
          ]
         }
        },
        {
         "name": "Name",
         "dtype": "object",
         "stats": {
          "unique_count": 1,
          "nan_count": 0,
          "categories": [
           {
            "name": "AAL",
            "count": 5
           }
          ]
         }
        },
        {
         "name": "_deepnote_index_column",
         "dtype": "int64"
        }
       ],
       "rows": [
        {
         "date": "2013-02-08",
         "open": 15.07,
         "high": 15.12,
         "low": 14.63,
         "close": 14.75,
         "volume": 8407500,
         "Name": "AAL",
         "_deepnote_index_column": 0
        },
        {
         "date": "2013-02-11",
         "open": 14.89,
         "high": 15.01,
         "low": 14.26,
         "close": 14.46,
         "volume": 8882000,
         "Name": "AAL",
         "_deepnote_index_column": 1
        },
        {
         "date": "2013-02-12",
         "open": 14.45,
         "high": 14.51,
         "low": 14.1,
         "close": 14.27,
         "volume": 8126000,
         "Name": "AAL",
         "_deepnote_index_column": 2
        },
        {
         "date": "2013-02-13",
         "open": 14.3,
         "high": 14.94,
         "low": 14.25,
         "close": 14.66,
         "volume": 10259500,
         "Name": "AAL",
         "_deepnote_index_column": 3
        },
        {
         "date": "2013-02-14",
         "open": 14.94,
         "high": 14.96,
         "low": 13.16,
         "close": 13.99,
         "volume": 31879900,
         "Name": "AAL",
         "_deepnote_index_column": 4
        }
       ]
      },
      "text/plain": "         date   open   high    low  close    volume Name\n0  2013-02-08  15.07  15.12  14.63  14.75   8407500  AAL\n1  2013-02-11  14.89  15.01  14.26  14.46   8882000  AAL\n2  2013-02-12  14.45  14.51  14.10  14.27   8126000  AAL\n3  2013-02-13  14.30  14.94  14.25  14.66  10259500  AAL\n4  2013-02-14  14.94  14.96  13.16  13.99  31879900  AAL",
      "text/html": "<div>\n<style scoped>\n    .dataframe tbody tr th:only-of-type {\n        vertical-align: middle;\n    }\n\n    .dataframe tbody tr th {\n        vertical-align: top;\n    }\n\n    .dataframe thead th {\n        text-align: right;\n    }\n</style>\n<table border=\"1\" class=\"dataframe\">\n  <thead>\n    <tr style=\"text-align: right;\">\n      <th></th>\n      <th>date</th>\n      <th>open</th>\n      <th>high</th>\n      <th>low</th>\n      <th>close</th>\n      <th>volume</th>\n      <th>Name</th>\n    </tr>\n  </thead>\n  <tbody>\n    <tr>\n      <th>0</th>\n      <td>2013-02-08</td>\n      <td>15.07</td>\n      <td>15.12</td>\n      <td>14.63</td>\n      <td>14.75</td>\n      <td>8407500</td>\n      <td>AAL</td>\n    </tr>\n    <tr>\n      <th>1</th>\n      <td>2013-02-11</td>\n      <td>14.89</td>\n      <td>15.01</td>\n      <td>14.26</td>\n      <td>14.46</td>\n      <td>8882000</td>\n      <td>AAL</td>\n    </tr>\n    <tr>\n      <th>2</th>\n      <td>2013-02-12</td>\n      <td>14.45</td>\n      <td>14.51</td>\n      <td>14.10</td>\n      <td>14.27</td>\n      <td>8126000</td>\n      <td>AAL</td>\n    </tr>\n    <tr>\n      <th>3</th>\n      <td>2013-02-13</td>\n      <td>14.30</td>\n      <td>14.94</td>\n      <td>14.25</td>\n      <td>14.66</td>\n      <td>10259500</td>\n      <td>AAL</td>\n    </tr>\n    <tr>\n      <th>4</th>\n      <td>2013-02-14</td>\n      <td>14.94</td>\n      <td>14.96</td>\n      <td>13.16</td>\n      <td>13.99</td>\n      <td>31879900</td>\n      <td>AAL</td>\n    </tr>\n  </tbody>\n</table>\n</div>"
     },
     "metadata": {}
    }
   ]
  },
  {
   "cell_type": "markdown",
   "source": "we can see now we drop the missing value and get the ideal AAL dataframe",
   "metadata": {
    "cell_id": "4430c200550d4eb8acac10673bad5e20",
    "tags": [],
    "deepnote_cell_type": "markdown",
    "deepnote_cell_height": 52.390625
   }
  },
  {
   "cell_type": "markdown",
   "source": "Secondly, I want to use open, high and low price to predict the close price of a stock",
   "metadata": {
    "cell_id": "9ecabf6645bc484ab6c380ecececcb88",
    "tags": [],
    "deepnote_cell_type": "markdown",
    "deepnote_cell_height": 52.390625
   }
  },
  {
   "cell_type": "code",
   "metadata": {
    "cell_id": "ab0f7806d6e6456e8bb66eb12f0e4491",
    "tags": [],
    "deepnote_to_be_reexecuted": false,
    "source_hash": "673ca961",
    "execution_start": 1654289824096,
    "execution_millis": 334,
    "deepnote_cell_type": "code",
    "deepnote_cell_height": 135
   },
   "source": "from sklearn.linear_model import LinearRegression \nfrom sklearn.model_selection import train_test_split\nfrom sklearn.metrics import mean_squared_error\nimport matplotlib.pyplot as plt",
   "execution_count": null,
   "outputs": []
  },
  {
   "cell_type": "markdown",
   "source": "let us visualize the close price history first ",
   "metadata": {
    "cell_id": "50bb493abb974c55ba07a7c59d7f82e2",
    "tags": [],
    "deepnote_cell_type": "markdown",
    "deepnote_cell_height": 52.390625
   }
  },
  {
   "cell_type": "code",
   "metadata": {
    "cell_id": "f6062c2da5be4899a3a4e389ae966658",
    "tags": [],
    "deepnote_to_be_reexecuted": false,
    "source_hash": "2a009506",
    "execution_start": 1654289824449,
    "execution_millis": 325,
    "deepnote_cell_type": "code",
    "deepnote_cell_height": 526.125,
    "deepnote_output_heights": [
     339.125
    ]
   },
   "source": "plt.figure(figsize=(16,6))\nplt.title('Close Price History')\nplt.plot(df['close'])\nplt.xlabel('index', fontsize=16)\nplt.ylabel('Close Price USD ($)', fontsize=13)\nplt.show()",
   "execution_count": null,
   "outputs": [
    {
     "data": {
      "text/plain": "<Figure size 1152x432 with 1 Axes>",
      "image/png": "[encoded data removed]"
     },
     "metadata": {
      "needs_background": "light",
      "image/png": {
       "width": 943,
       "height": 392
      }
     },
     "output_type": "display_data"
    }
   ]
  },
  {
   "cell_type": "code",
   "metadata": {
    "cell_id": "d1929ceb295e452bb502cb4e3ffd4050",
    "tags": [],
    "deepnote_to_be_reexecuted": false,
    "source_hash": "3000d938",
    "execution_start": 1654289824782,
    "execution_millis": 2,
    "deepnote_cell_type": "code",
    "deepnote_cell_height": 135
   },
   "source": "reg = LinearRegression()\ncols=[\"open\",\"high\",\"low\"]\nX_train,X_test,y_train,y_test = train_test_split(df[cols],df[\"close\"],train_size=0.3,random_state=0)\n",
   "execution_count": null,
   "outputs": []
  },
  {
   "cell_type": "markdown",
   "source": "I use linearegression of train set to predict test set here",
   "metadata": {
    "cell_id": "53ff238b291f4f22af1c5a68278135b4",
    "tags": [],
    "deepnote_cell_type": "markdown",
    "deepnote_cell_height": 52.390625
   }
  },
  {
   "cell_type": "code",
   "metadata": {
    "cell_id": "4a88f899f0af4b368ad9769bb2507640",
    "tags": [],
    "deepnote_to_be_reexecuted": false,
    "source_hash": "a21af0c7",
    "execution_start": 1654289824799,
    "execution_millis": 15,
    "deepnote_cell_type": "code",
    "deepnote_cell_height": 118.1875,
    "deepnote_output_heights": [
     21.1875
    ]
   },
   "source": "reg.fit(X_train,y_train)",
   "execution_count": null,
   "outputs": [
    {
     "output_type": "execute_result",
     "execution_count": 7,
     "data": {
      "text/plain": "LinearRegression()"
     },
     "metadata": {}
    }
   ]
  },
  {
   "cell_type": "code",
   "metadata": {
    "cell_id": "9b5585560489402a9938739595ca24ee",
    "tags": [],
    "deepnote_to_be_reexecuted": false,
    "source_hash": "54bd1246",
    "execution_start": 1654289824856,
    "execution_millis": 0,
    "deepnote_cell_type": "code",
    "deepnote_cell_height": 135
   },
   "source": "df_sub=X_test\ndf_sub[\"Pred\"]=reg.predict(X_test)\ndf_sub[\"True\"]=y_test\n",
   "execution_count": null,
   "outputs": []
  },
  {
   "cell_type": "code",
   "metadata": {
    "cell_id": "ddf64498a2e5439c9ba42c754b1b864c",
    "tags": [],
    "deepnote_to_be_reexecuted": false,
    "source_hash": "955452ed",
    "execution_start": 1654289824856,
    "execution_millis": 41,
    "deepnote_cell_type": "code",
    "deepnote_cell_height": 600
   },
   "source": "df_sub.reset_index()",
   "execution_count": null,
   "outputs": [
    {
     "output_type": "execute_result",
     "execution_count": 9,
     "data": {
      "application/vnd.deepnote.dataframe.v3+json": {
       "column_count": 6,
       "row_count": 882,
       "columns": [
        {
         "name": "index",
         "dtype": "int64",
         "stats": {
          "unique_count": 882,
          "nan_count": 0,
          "min": "0",
          "max": "1258",
          "histogram": [
           {
            "bin_start": 0,
            "bin_end": 125.8,
            "count": 90
           },
           {
            "bin_start": 125.8,
            "bin_end": 251.6,
            "count": 91
           },
           {
            "bin_start": 251.6,
            "bin_end": 377.4,
            "count": 91
           },
           {
            "bin_start": 377.4,
            "bin_end": 503.2,
            "count": 100
           },
           {
            "bin_start": 503.2,
            "bin_end": 629,
            "count": 82
           },
           {
            "bin_start": 629,
            "bin_end": 754.8,
            "count": 93
           },
           {
            "bin_start": 754.8,
            "bin_end": 880.6,
            "count": 79
           },
           {
            "bin_start": 880.6,
            "bin_end": 1006.4,
            "count": 82
           },
           {
            "bin_start": 1006.4,
            "bin_end": 1132.2,
            "count": 89
           },
           {
            "bin_start": 1132.2,
            "bin_end": 1258,
            "count": 85
           }
          ]
         }
        },
        {
         "name": "open",
         "dtype": "float64",
         "stats": {
          "unique_count": 764,
          "nan_count": 0,
          "min": "13.28",
          "max": "58.79",
          "histogram": [
           {
            "bin_start": 13.28,
            "bin_end": 17.831,
            "count": 84
           },
           {
            "bin_start": 17.831,
            "bin_end": 22.381999999999998,
            "count": 48
           },
           {
            "bin_start": 22.381999999999998,
            "bin_end": 26.933,
            "count": 32
           },
           {
            "bin_start": 26.933,
            "bin_end": 31.484,
            "count": 24
           },
           {
            "bin_start": 31.484,
            "bin_end": 36.035000000000004,
            "count": 75
           },
           {
            "bin_start": 36.035000000000004,
            "bin_end": 40.586,
            "count": 170
           },
           {
            "bin_start": 40.586,
            "bin_end": 45.137,
            "count": 181
           },
           {
            "bin_start": 45.137,
            "bin_end": 49.688,
            "count": 157
           },
           {
            "bin_start": 49.688,
            "bin_end": 54.239000000000004,
            "count": 98
           },
           {
            "bin_start": 54.239000000000004,
            "bin_end": 58.79,
            "count": 13
           }
          ]
         }
        },
        {
         "name": "high",
         "dtype": "float64",
         "stats": {
          "unique_count": 782,
          "nan_count": 0,
          "min": "13.6",
          "max": "59.08",
          "histogram": [
           {
            "bin_start": 13.6,
            "bin_end": 18.148,
            "count": 84
           },
           {
            "bin_start": 18.148,
            "bin_end": 22.695999999999998,
            "count": 45
           },
           {
            "bin_start": 22.695999999999998,
            "bin_end": 27.244,
            "count": 34
           },
           {
            "bin_start": 27.244,
            "bin_end": 31.792,
            "count": 21
           },
           {
            "bin_start": 31.792,
            "bin_end": 36.34,
            "count": 73
           },
           {
            "bin_start": 36.34,
            "bin_end": 40.888,
            "count": 164
           },
           {
            "bin_start": 40.888,
            "bin_end": 45.436,
            "count": 190
           },
           {
            "bin_start": 45.436,
            "bin_end": 49.984,
            "count": 150
           },
           {
            "bin_start": 49.984,
            "bin_end": 54.532000000000004,
            "count": 104
           },
           {
            "bin_start": 54.532000000000004,
            "bin_end": 59.08,
            "count": 17
           }
          ]
         }
        },
        {
         "name": "low",
         "dtype": "float64",
         "stats": {
          "unique_count": 769,
          "nan_count": 0,
          "min": "12.9",
          "max": "57.8",
          "histogram": [
           {
            "bin_start": 12.9,
            "bin_end": 17.39,
            "count": 77
           },
           {
            "bin_start": 17.39,
            "bin_end": 21.880000000000003,
            "count": 54
           },
           {
            "bin_start": 21.880000000000003,
            "bin_end": 26.37,
            "count": 32
           },
           {
            "bin_start": 26.37,
            "bin_end": 30.86,
            "count": 26
           },
           {
            "bin_start": 30.86,
            "bin_end": 35.35,
            "count": 72
           },
           {
            "bin_start": 35.35,
            "bin_end": 39.84,
            "count": 169
           },
           {
            "bin_start": 39.84,
            "bin_end": 44.33,
            "count": 177
           },
           {
            "bin_start": 44.33,
            "bin_end": 48.82,
            "count": 163
           },
           {
            "bin_start": 48.82,
            "bin_end": 53.31,
            "count": 96
           },
           {
            "bin_start": 53.31,
            "bin_end": 57.8,
            "count": 16
           }
          ]
         }
        },
        {
         "name": "Pred",
         "dtype": "float64",
         "stats": {
          "unique_count": 882,
          "nan_count": 0,
          "min": "13.240802113293698",
          "max": "58.27307900076478",
          "histogram": [
           {
            "bin_start": 13.240802113293698,
            "bin_end": 17.744029802040806,
            "count": 80
           },
           {
            "bin_start": 17.744029802040806,
            "bin_end": 22.247257490787916,
            "count": 51
           },
           {
            "bin_start": 22.247257490787916,
            "bin_end": 26.750485179535023,
            "count": 31
           },
           {
            "bin_start": 26.750485179535023,
            "bin_end": 31.25371286828213,
            "count": 23
           },
           {
            "bin_start": 31.25371286828213,
            "bin_end": 35.75694055702924,
            "count": 73
           },
           {
            "bin_start": 35.75694055702924,
            "bin_end": 40.26016824577635,
            "count": 167
           },
           {
            "bin_start": 40.26016824577635,
            "bin_end": 44.76339593452345,
            "count": 183
           },
           {
            "bin_start": 44.76339593452345,
            "bin_end": 49.26662362327056,
            "count": 152
           },
           {
            "bin_start": 49.26662362327056,
            "bin_end": 53.76985131201767,
            "count": 103
           },
           {
            "bin_start": 53.76985131201767,
            "bin_end": 58.27307900076478,
            "count": 19
           }
          ]
         }
        },
        {
         "name": "True",
         "dtype": "float64",
         "stats": {
          "unique_count": 775,
          "nan_count": 0,
          "min": "13.02",
          "max": "58.47",
          "histogram": [
           {
            "bin_start": 13.02,
            "bin_end": 17.564999999999998,
            "count": 76
           },
           {
            "bin_start": 17.564999999999998,
            "bin_end": 22.11,
            "count": 52
           },
           {
            "bin_start": 22.11,
            "bin_end": 26.655,
            "count": 33
           },
           {
            "bin_start": 26.655,
            "bin_end": 31.2,
            "count": 22
           },
           {
            "bin_start": 31.2,
            "bin_end": 35.745000000000005,
            "count": 72
           },
           {
            "bin_start": 35.745000000000005,
            "bin_end": 40.29,
            "count": 171
           },
           {
            "bin_start": 40.29,
            "bin_end": 44.834999999999994,
            "count": 179
           },
           {
            "bin_start": 44.834999999999994,
            "bin_end": 49.379999999999995,
            "count": 156
           },
           {
            "bin_start": 49.379999999999995,
            "bin_end": 53.925,
            "count": 106
           },
           {
            "bin_start": 53.925,
            "bin_end": 58.47,
            "count": 15
           }
          ]
         }
        },
        {
         "name": "_deepnote_index_column",
         "dtype": "int64"
        }
       ],
       "rows": [
        {
         "index": 5,
         "open": 13.93,
         "high": 14.61,
         "low": 13.93,
         "Pred": 14.474598879414824,
         "True": 14.5,
         "_deepnote_index_column": 0
        },
        {
         "index": 494,
         "open": 53.99,
         "high": 54.52,
         "low": 52.54,
         "Pred": 53.21252298673779,
         "True": 52.695,
         "_deepnote_index_column": 1
        },
        {
         "index": 52,
         "open": 16.55,
         "high": 16.73,
         "low": 16.19,
         "Pred": 16.399749405385343,
         "True": 16.22,
         "_deepnote_index_column": 2
        },
        {
         "index": 986,
         "open": 46.01,
         "high": 47.34,
         "low": 45.78,
         "Pred": 46.86924628886787,
         "True": 47.08,
         "_deepnote_index_column": 3
        },
        {
         "index": 186,
         "open": 22.6,
         "high": 23.9,
         "low": 22.57,
         "Pred": 23.612153490380884,
         "True": 22.71,
         "_deepnote_index_column": 4
        },
        {
         "index": 18,
         "open": 14.7,
         "high": 14.93,
         "low": 14.5,
         "Pred": 14.720852728494766,
         "True": 14.82,
         "_deepnote_index_column": 5
        },
        {
         "index": 317,
         "open": 39.08,
         "high": 39.24,
         "low": 38.56,
         "Pred": 38.76974525984276,
         "True": 38.84,
         "_deepnote_index_column": 6
        },
        {
         "index": 511,
         "open": 49.81,
         "high": 51.12,
         "low": 49.13,
         "Pred": 50.285657525310214,
         "True": 51.02,
         "_deepnote_index_column": 7
        },
        {
         "index": 364,
         "open": 42.7,
         "high": 42.89,
         "low": 42.15,
         "Pred": 42.38719604253374,
         "True": 42.38,
         "_deepnote_index_column": 8
        },
        {
         "index": 571,
         "open": 48.56,
         "high": 49.17,
         "low": 48.38,
         "Pred": 48.88067149612424,
         "True": 49,
         "_deepnote_index_column": 9
        }
       ]
      },
      "text/plain": "     index   open     high    low       Pred    True\n0        5  13.93  14.6100  13.93  14.474599  14.500\n1      494  53.99  54.5200  52.54  53.212523  52.695\n2       52  16.55  16.7300  16.19  16.399749  16.220\n3      986  46.01  47.3400  45.78  46.869246  47.080\n4      186  22.60  23.9000  22.57  23.612153  22.710\n..     ...    ...      ...    ...        ...     ...\n877    357  42.91  43.2300  42.52  42.831180  42.880\n878    353  41.72  41.7200  39.92  40.241059  40.100\n879    788  40.90  41.4295  40.77  41.201474  41.350\n880    153  18.68  18.8000  18.47  18.602006  18.680\n881    566  49.00  50.3000  48.80  49.857651  49.645\n\n[882 rows x 6 columns]",
      "text/html": "<div>\n<style scoped>\n    .dataframe tbody tr th:only-of-type {\n        vertical-align: middle;\n    }\n\n    .dataframe tbody tr th {\n        vertical-align: top;\n    }\n\n    .dataframe thead th {\n        text-align: right;\n    }\n</style>\n<table border=\"1\" class=\"dataframe\">\n  <thead>\n    <tr style=\"text-align: right;\">\n      <th></th>\n      <th>index</th>\n      <th>open</th>\n      <th>high</th>\n      <th>low</th>\n      <th>Pred</th>\n      <th>True</th>\n    </tr>\n  </thead>\n  <tbody>\n    <tr>\n      <th>0</th>\n      <td>5</td>\n      <td>13.93</td>\n      <td>14.6100</td>\n      <td>13.93</td>\n      <td>14.474599</td>\n      <td>14.500</td>\n    </tr>\n    <tr>\n      <th>1</th>\n      <td>494</td>\n      <td>53.99</td>\n      <td>54.5200</td>\n      <td>52.54</td>\n      <td>53.212523</td>\n      <td>52.695</td>\n    </tr>\n    <tr>\n      <th>2</th>\n      <td>52</td>\n      <td>16.55</td>\n      <td>16.7300</td>\n      <td>16.19</td>\n      <td>16.399749</td>\n      <td>16.220</td>\n    </tr>\n    <tr>\n      <th>3</th>\n      <td>986</td>\n      <td>46.01</td>\n      <td>47.3400</td>\n      <td>45.78</td>\n      <td>46.869246</td>\n      <td>47.080</td>\n    </tr>\n    <tr>\n      <th>4</th>\n      <td>186</td>\n      <td>22.60</td>\n      <td>23.9000</td>\n      <td>22.57</td>\n      <td>23.612153</td>\n      <td>22.710</td>\n    </tr>\n    <tr>\n      <th>...</th>\n      <td>...</td>\n      <td>...</td>\n      <td>...</td>\n      <td>...</td>\n      <td>...</td>\n      <td>...</td>\n    </tr>\n    <tr>\n      <th>877</th>\n      <td>357</td>\n      <td>42.91</td>\n      <td>43.2300</td>\n      <td>42.52</td>\n      <td>42.831180</td>\n      <td>42.880</td>\n    </tr>\n    <tr>\n      <th>878</th>\n      <td>353</td>\n      <td>41.72</td>\n      <td>41.7200</td>\n      <td>39.92</td>\n      <td>40.241059</td>\n      <td>40.100</td>\n    </tr>\n    <tr>\n      <th>879</th>\n      <td>788</td>\n      <td>40.90</td>\n      <td>41.4295</td>\n      <td>40.77</td>\n      <td>41.201474</td>\n      <td>41.350</td>\n    </tr>\n    <tr>\n      <th>880</th>\n      <td>153</td>\n      <td>18.68</td>\n      <td>18.8000</td>\n      <td>18.47</td>\n      <td>18.602006</td>\n      <td>18.680</td>\n    </tr>\n    <tr>\n      <th>881</th>\n      <td>566</td>\n      <td>49.00</td>\n      <td>50.3000</td>\n      <td>48.80</td>\n      <td>49.857651</td>\n      <td>49.645</td>\n    </tr>\n  </tbody>\n</table>\n<p>882 rows × 6 columns</p>\n</div>"
     },
     "metadata": {}
    }
   ]
  },
  {
   "cell_type": "markdown",
   "source": "show how the prediction works",
   "metadata": {
    "cell_id": "ce786eb098e9429ca7b0d875473dcf1d",
    "tags": [],
    "deepnote_cell_type": "markdown",
    "deepnote_cell_height": 52.390625
   }
  },
  {
   "cell_type": "code",
   "metadata": {
    "cell_id": "e3480a73d38a46b29ca4642051657d46",
    "tags": [],
    "deepnote_to_be_reexecuted": false,
    "source_hash": "7b462ae2",
    "execution_start": 1654289824947,
    "execution_millis": 5,
    "deepnote_cell_type": "code",
    "deepnote_cell_height": 111.6875
   },
   "source": "print (f\"the predictive closing price for 82.22(open),82.22(high),79.52(low) is {82.22*reg.coef_[0]+82.22*reg.coef_[1]+79.52*reg.coef_[2]+reg.intercept_}\")",
   "execution_count": null,
   "outputs": [
    {
     "name": "stdout",
     "text": "the predictive closing price for 82.22(open),82.22(high),79.52(low) is 79.9853408195805\n",
     "output_type": "stream"
    }
   ]
  },
  {
   "cell_type": "markdown",
   "source": "we can see here actually the prediction is accurate becasue the difference of value between close price and open price is not too much since it's just within one day, therefore, I need a new angle for direction",
   "metadata": {
    "cell_id": "6cc2480948bb473a9165dae541ec3feb",
    "tags": [],
    "deepnote_cell_type": "markdown",
    "deepnote_cell_height": 74.796875
   }
  },
  {
   "cell_type": "markdown",
   "source": "## Predict close price based on opening price",
   "metadata": {
    "cell_id": "d7f137145c474b22aa667fcadcfbdaf0",
    "tags": [],
    "deepnote_to_be_reexecuted": false,
    "source_hash": "58db0b4",
    "execution_start": 1654107361120,
    "execution_millis": 1,
    "deepnote_cell_type": "markdown",
    "deepnote_cell_height": 70
   }
  },
  {
   "cell_type": "markdown",
   "source": "this part I want to switch a prediction method and I decide to use opening price to predict the close price and compared with true price to compute the error",
   "metadata": {
    "cell_id": "f5bbef047beb49f1b73de4ccd26ddd40",
    "tags": [],
    "deepnote_cell_type": "markdown",
    "deepnote_cell_height": 74.796875
   }
  },
  {
   "cell_type": "code",
   "metadata": {
    "cell_id": "13e0f3dde8244a18ab14abb88146a3bf",
    "tags": [],
    "deepnote_to_be_reexecuted": false,
    "source_hash": "b7a2bb49",
    "execution_start": 1654289824948,
    "execution_millis": 1,
    "deepnote_cell_type": "code",
    "deepnote_cell_height": 81
   },
   "source": "df[\"year\"]= pd.to_datetime(df[\"date\"]).dt.year",
   "execution_count": null,
   "outputs": []
  },
  {
   "cell_type": "code",
   "metadata": {
    "cell_id": "bf053b6399f84dc7aada33217d2b609d",
    "tags": [],
    "deepnote_to_be_reexecuted": false,
    "source_hash": "dcbb73c",
    "execution_start": 1654289824991,
    "execution_millis": 145,
    "deepnote_cell_type": "code",
    "deepnote_cell_height": 708
   },
   "source": "max_deg=5\nsub_col=[]\nfor i in range(1,max_deg+1):\n    c=f\"open{i}\"\n    sub_col.append(c)\n    df[c]=df[\"open\"]**i\ndf",
   "execution_count": null,
   "outputs": [
    {
     "output_type": "execute_result",
     "execution_count": 12,
     "data": {
      "application/vnd.deepnote.dataframe.v3+json": {
       "column_count": 13,
       "row_count": 1259,
       "columns": [
        {
         "name": "date",
         "dtype": "object",
         "stats": {
          "unique_count": 1259,
          "nan_count": 0,
          "categories": [
           {
            "name": "2013-02-08",
            "count": 1
           },
           {
            "name": "2013-02-11",
            "count": 1
           },
           {
            "name": "1257 others",
            "count": 1257
           }
          ]
         }
        },
        {
         "name": "open",
         "dtype": "float64",
         "stats": {
          "unique_count": 1011,
          "nan_count": 0,
          "min": "13.14",
          "max": "58.79",
          "histogram": [
           {
            "bin_start": 13.14,
            "bin_end": 17.705,
            "count": 115
           },
           {
            "bin_start": 17.705,
            "bin_end": 22.27,
            "count": 68
           },
           {
            "bin_start": 22.27,
            "bin_end": 26.835,
            "count": 48
           },
           {
            "bin_start": 26.835,
            "bin_end": 31.4,
            "count": 37
           },
           {
            "bin_start": 31.4,
            "bin_end": 35.964999999999996,
            "count": 102
           },
           {
            "bin_start": 35.964999999999996,
            "bin_end": 40.53,
            "count": 243
           },
           {
            "bin_start": 40.53,
            "bin_end": 45.095,
            "count": 267
           },
           {
            "bin_start": 45.095,
            "bin_end": 49.66,
            "count": 227
           },
           {
            "bin_start": 49.66,
            "bin_end": 54.224999999999994,
            "count": 134
           },
           {
            "bin_start": 54.224999999999994,
            "bin_end": 58.79,
            "count": 18
           }
          ]
         }
        },
        {
         "name": "high",
         "dtype": "float64",
         "stats": {
          "unique_count": 1050,
          "nan_count": 0,
          "min": "13.42",
          "max": "59.08",
          "histogram": [
           {
            "bin_start": 13.42,
            "bin_end": 17.986,
            "count": 114
           },
           {
            "bin_start": 17.986,
            "bin_end": 22.552,
            "count": 67
           },
           {
            "bin_start": 22.552,
            "bin_end": 27.118000000000002,
            "count": 48
           },
           {
            "bin_start": 27.118000000000002,
            "bin_end": 31.683999999999997,
            "count": 35
           },
           {
            "bin_start": 31.683999999999997,
            "bin_end": 36.25,
            "count": 97
           },
           {
            "bin_start": 36.25,
            "bin_end": 40.816,
            "count": 231
           },
           {
            "bin_start": 40.816,
            "bin_end": 45.382,
            "count": 280
           },
           {
            "bin_start": 45.382,
            "bin_end": 49.948,
            "count": 218
           },
           {
            "bin_start": 49.948,
            "bin_end": 54.514,
            "count": 146
           },
           {
            "bin_start": 54.514,
            "bin_end": 59.08,
            "count": 23
           }
          ]
         }
        },
        {
         "name": "low",
         "dtype": "float64",
         "stats": {
          "unique_count": 1059,
          "nan_count": 0,
          "min": "12.7",
          "max": "57.8",
          "histogram": [
           {
            "bin_start": 12.7,
            "bin_end": 17.21,
            "count": 106
           },
           {
            "bin_start": 17.21,
            "bin_end": 21.72,
            "count": 77
           },
           {
            "bin_start": 21.72,
            "bin_end": 26.229999999999997,
            "count": 46
           },
           {
            "bin_start": 26.229999999999997,
            "bin_end": 30.74,
            "count": 41
           },
           {
            "bin_start": 30.74,
            "bin_end": 35.25,
            "count": 97
           },
           {
            "bin_start": 35.25,
            "bin_end": 39.76,
            "count": 236
           },
           {
            "bin_start": 39.76,
            "bin_end": 44.269999999999996,
            "count": 268
           },
           {
            "bin_start": 44.269999999999996,
            "bin_end": 48.78,
            "count": 228
           },
           {
            "bin_start": 48.78,
            "bin_end": 53.28999999999999,
            "count": 138
           },
           {
            "bin_start": 53.28999999999999,
            "bin_end": 57.8,
            "count": 22
           }
          ]
         }
        },
        {
         "name": "close",
         "dtype": "float64",
         "stats": {
          "unique_count": 1049,
          "nan_count": 0,
          "min": "13.02",
          "max": "58.47",
          "histogram": [
           {
            "bin_start": 13.02,
            "bin_end": 17.564999999999998,
            "count": 109
           },
           {
            "bin_start": 17.564999999999998,
            "bin_end": 22.11,
            "count": 74
           },
           {
            "bin_start": 22.11,
            "bin_end": 26.655,
            "count": 46
           },
           {
            "bin_start": 26.655,
            "bin_end": 31.2,
            "count": 34
           },
           {
            "bin_start": 31.2,
            "bin_end": 35.745000000000005,
            "count": 98
           },
           {
            "bin_start": 35.745000000000005,
            "bin_end": 40.29,
            "count": 239
           },
           {
            "bin_start": 40.29,
            "bin_end": 44.834999999999994,
            "count": 269
           },
           {
            "bin_start": 44.834999999999994,
            "bin_end": 49.379999999999995,
            "count": 223
           },
           {
            "bin_start": 49.379999999999995,
            "bin_end": 53.925,
            "count": 148
           },
           {
            "bin_start": 53.925,
            "bin_end": 58.47,
            "count": 19
           }
          ]
         }
        },
        {
         "name": "volume",
         "dtype": "int64",
         "stats": {
          "unique_count": 1259,
          "nan_count": 0,
          "min": "1352400",
          "max": "137767165",
          "histogram": [
           {
            "bin_start": 1352400,
            "bin_end": 14993876.5,
            "count": 1120
           },
           {
            "bin_start": 14993876.5,
            "bin_end": 28635353,
            "count": 122
           },
           {
            "bin_start": 28635353,
            "bin_end": 42276829.5,
            "count": 13
           },
           {
            "bin_start": 42276829.5,
            "bin_end": 55918306,
            "count": 2
           },
           {
            "bin_start": 55918306,
            "bin_end": 69559782.5,
            "count": 0
           },
           {
            "bin_start": 69559782.5,
            "bin_end": 83201259,
            "count": 1
           },
           {
            "bin_start": 83201259,
            "bin_end": 96842735.5,
            "count": 0
           },
           {
            "bin_start": 96842735.5,
            "bin_end": 110484212,
            "count": 0
           },
           {
            "bin_start": 110484212,
            "bin_end": 124125688.5,
            "count": 0
           },
           {
            "bin_start": 124125688.5,
            "bin_end": 137767165,
            "count": 1
           }
          ]
         }
        },
        {
         "name": "Name",
         "dtype": "object",
         "stats": {
          "unique_count": 1,
          "nan_count": 0,
          "categories": [
           {
            "name": "AAL",
            "count": 1259
           }
          ]
         }
        },
        {
         "name": "year",
         "dtype": "int64",
         "stats": {
          "unique_count": 6,
          "nan_count": 0,
          "min": "2013",
          "max": "2018",
          "histogram": [
           {
            "bin_start": 2013,
            "bin_end": 2013.5,
            "count": 226
           },
           {
            "bin_start": 2013.5,
            "bin_end": 2014,
            "count": 0
           },
           {
            "bin_start": 2014,
            "bin_end": 2014.5,
            "count": 252
           },
           {
            "bin_start": 2014.5,
            "bin_end": 2015,
            "count": 0
           },
           {
            "bin_start": 2015,
            "bin_end": 2015.5,
            "count": 252
           },
           {
            "bin_start": 2015.5,
            "bin_end": 2016,
            "count": 0
           },
           {
            "bin_start": 2016,
            "bin_end": 2016.5,
            "count": 252
           },
           {
            "bin_start": 2016.5,
            "bin_end": 2017,
            "count": 0
           },
           {
            "bin_start": 2017,
            "bin_end": 2017.5,
            "count": 251
           },
           {
            "bin_start": 2017.5,
            "bin_end": 2018,
            "count": 26
           }
          ]
         }
        },
        {
         "name": "open1",
         "dtype": "float64",
         "stats": {
          "unique_count": 1011,
          "nan_count": 0,
          "min": "13.14",
          "max": "58.79",
          "histogram": [
           {
            "bin_start": 13.14,
            "bin_end": 17.705,
            "count": 115
           },
           {
            "bin_start": 17.705,
            "bin_end": 22.27,
            "count": 68
           },
           {
            "bin_start": 22.27,
            "bin_end": 26.835,
            "count": 48
           },
           {
            "bin_start": 26.835,
            "bin_end": 31.4,
            "count": 37
           },
           {
            "bin_start": 31.4,
            "bin_end": 35.964999999999996,
            "count": 102
           },
           {
            "bin_start": 35.964999999999996,
            "bin_end": 40.53,
            "count": 243
           },
           {
            "bin_start": 40.53,
            "bin_end": 45.095,
            "count": 267
           },
           {
            "bin_start": 45.095,
            "bin_end": 49.66,
            "count": 227
           },
           {
            "bin_start": 49.66,
            "bin_end": 54.224999999999994,
            "count": 134
           },
           {
            "bin_start": 54.224999999999994,
            "bin_end": 58.79,
            "count": 18
           }
          ]
         }
        },
        {
         "name": "open2",
         "dtype": "float64",
         "stats": {
          "unique_count": 1011,
          "nan_count": 0,
          "min": "172.6596",
          "max": "3456.2641",
          "histogram": [
           {
            "bin_start": 172.6596,
            "bin_end": 501.02005,
            "count": 186
           },
           {
            "bin_start": 501.02005,
            "bin_end": 829.3805,
            "count": 55
           },
           {
            "bin_start": 829.3805,
            "bin_end": 1157.74095,
            "count": 68
           },
           {
            "bin_start": 1157.74095,
            "bin_end": 1486.1014,
            "count": 185
           },
           {
            "bin_start": 1486.1014,
            "bin_end": 1814.4618500000001,
            "count": 251
           },
           {
            "bin_start": 1814.4618500000001,
            "bin_end": 2142.8223000000003,
            "count": 182
           },
           {
            "bin_start": 2142.8223000000003,
            "bin_end": 2471.18275,
            "count": 182
           },
           {
            "bin_start": 2471.18275,
            "bin_end": 2799.5432,
            "count": 107
           },
           {
            "bin_start": 2799.5432,
            "bin_end": 3127.90365,
            "count": 36
           },
           {
            "bin_start": 3127.90365,
            "bin_end": 3456.2641,
            "count": 7
           }
          ]
         }
        },
        {
         "name": "open3",
         "dtype": "float64",
         "stats": {
          "unique_count": 1011,
          "nan_count": 0,
          "min": "2268.7471440000004",
          "max": "203193.766439",
          "histogram": [
           {
            "bin_start": 2268.7471440000004,
            "bin_end": 22361.249073500003,
            "count": 236
           },
           {
            "bin_start": 22361.249073500003,
            "bin_end": 42453.751003000005,
            "count": 94
           },
           {
            "bin_start": 42453.751003000005,
            "bin_end": 62546.25293250001,
            "count": 231
           },
           {
            "bin_start": 62546.25293250001,
            "bin_end": 82638.754862,
            "count": 247
           },
           {
            "bin_start": 82638.754862,
            "bin_end": 102731.2567915,
            "count": 152
           },
           {
            "bin_start": 102731.2567915,
            "bin_end": 122823.758721,
            "count": 149
           },
           {
            "bin_start": 122823.758721,
            "bin_end": 142916.26065050001,
            "count": 84
           },
           {
            "bin_start": 142916.26065050001,
            "bin_end": 163008.76258,
            "count": 55
           },
           {
            "bin_start": 163008.76258,
            "bin_end": 183101.2645095,
            "count": 5
           },
           {
            "bin_start": 183101.2645095,
            "bin_end": 203193.766439,
            "count": 6
           }
          ]
         }
        },
        {
         "name": "open4",
         "dtype": "float64",
         "stats": {
          "unique_count": 1011,
          "nan_count": 0,
          "min": "29811.337472160005",
          "max": "11945761.52894881",
          "histogram": [
           {
            "bin_start": 29811.337472160005,
            "bin_end": 1221406.3566198251,
            "count": 295
           },
           {
            "bin_start": 1221406.3566198251,
            "bin_end": 2413001.37576749,
            "count": 253
           },
           {
            "bin_start": 2413001.37576749,
            "bin_end": 3604596.3949151547,
            "count": 260
           },
           {
            "bin_start": 3604596.3949151547,
            "bin_end": 4796191.41406282,
            "count": 150
           },
           {
            "bin_start": 4796191.41406282,
            "bin_end": 5987786.433210486,
            "count": 142
           },
           {
            "bin_start": 5987786.433210486,
            "bin_end": 7179381.45235815,
            "count": 81
           },
           {
            "bin_start": 7179381.45235815,
            "bin_end": 8370976.471505815,
            "count": 52
           },
           {
            "bin_start": 8370976.471505815,
            "bin_end": 9562571.49065348,
            "count": 18
           },
           {
            "bin_start": 9562571.49065348,
            "bin_end": 10754166.509801144,
            "count": 2
           },
           {
            "bin_start": 10754166.509801144,
            "bin_end": 11945761.52894881,
            "count": 6
           }
          ]
         }
        },
        {
         "name": "open5",
         "dtype": "float64",
         "stats": {
          "unique_count": 1011,
          "nan_count": 0,
          "min": "391720.9743841825",
          "max": "702291320.2869005",
          "histogram": [
           {
            "bin_start": 391720.9743841825,
            "bin_end": 70581680.90563582,
            "count": 435
           },
           {
            "bin_start": 70581680.90563582,
            "bin_end": 140771640.83688745,
            "count": 312
           },
           {
            "bin_start": 140771640.83688745,
            "bin_end": 210961600.76813906,
            "count": 177
           },
           {
            "bin_start": 210961600.76813906,
            "bin_end": 281151560.6993907,
            "count": 145
           },
           {
            "bin_start": 281151560.6993907,
            "bin_end": 351341520.63064235,
            "count": 94
           },
           {
            "bin_start": 351341520.63064235,
            "bin_end": 421531480.56189394,
            "count": 57
           },
           {
            "bin_start": 421531480.56189394,
            "bin_end": 491721440.4931456,
            "count": 28
           },
           {
            "bin_start": 491721440.4931456,
            "bin_end": 561911400.4243972,
            "count": 4
           },
           {
            "bin_start": 561911400.4243972,
            "bin_end": 632101360.3556489,
            "count": 1
           },
           {
            "bin_start": 632101360.3556489,
            "bin_end": 702291320.2869005,
            "count": 6
           }
          ]
         }
        },
        {
         "name": "_deepnote_index_column",
         "dtype": "int64"
        }
       ],
       "rows": [
        {
         "date": "2013-02-08",
         "open": 15.07,
         "high": 15.12,
         "low": 14.63,
         "close": 14.75,
         "volume": 8407500,
         "Name": "AAL",
         "year": 2013,
         "open1": 15.07,
         "open2": 227.10490000000001,
         "open3": 3422.470843,
         "open4": 51576.63560401001,
         "open5": 777259.8985524308,
         "_deepnote_index_column": 0
        },
        {
         "date": "2013-02-11",
         "open": 14.89,
         "high": 15.01,
         "low": 14.26,
         "close": 14.46,
         "volume": 8882000,
         "Name": "AAL",
         "year": 2013,
         "open1": 14.89,
         "open2": 221.71210000000002,
         "open3": 3301.2931690000005,
         "open4": 49156.25528641001,
         "open5": 731936.641214645,
         "_deepnote_index_column": 1
        },
        {
         "date": "2013-02-12",
         "open": 14.45,
         "high": 14.51,
         "low": 14.1,
         "close": 14.27,
         "volume": 8126000,
         "Name": "AAL",
         "year": 2013,
         "open1": 14.45,
         "open2": 208.80249999999998,
         "open3": 3017.1961249999995,
         "open4": 43598.48400624999,
         "open5": 629998.0938903124,
         "_deepnote_index_column": 2
        },
        {
         "date": "2013-02-13",
         "open": 14.3,
         "high": 14.94,
         "low": 14.25,
         "close": 14.66,
         "volume": 10259500,
         "Name": "AAL",
         "year": 2013,
         "open1": 14.3,
         "open2": 204.49,
         "open3": 2924.2070000000003,
         "open4": 41816.16010000001,
         "open5": 597971.0894300002,
         "_deepnote_index_column": 3
        },
        {
         "date": "2013-02-14",
         "open": 14.94,
         "high": 14.96,
         "low": 13.16,
         "close": 13.99,
         "volume": 31879900,
         "Name": "AAL",
         "year": 2013,
         "open1": 14.94,
         "open2": 223.2036,
         "open3": 3334.6617839999994,
         "open4": 49819.847052959994,
         "open5": 744308.5149712223,
         "_deepnote_index_column": 4
        },
        {
         "date": "2013-02-15",
         "open": 13.93,
         "high": 14.61,
         "low": 13.93,
         "close": 14.5,
         "volume": 15628000,
         "Name": "AAL",
         "year": 2013,
         "open1": 13.93,
         "open2": 194.04489999999998,
         "open3": 2703.0454569999997,
         "open4": 37653.42321601,
         "open5": 524512.1853990193,
         "_deepnote_index_column": 5
        },
        {
         "date": "2013-02-19",
         "open": 14.33,
         "high": 14.56,
         "low": 14.08,
         "close": 14.26,
         "volume": 11354400,
         "Name": "AAL",
         "year": 2013,
         "open1": 14.33,
         "open2": 205.34890000000001,
         "open3": 2942.649737,
         "open4": 42168.170731210004,
         "open5": 604269.8865782393,
         "_deepnote_index_column": 6
        },
        {
         "date": "2013-02-20",
         "open": 14.17,
         "high": 14.26,
         "low": 13.15,
         "close": 13.33,
         "volume": 14725200,
         "Name": "AAL",
         "year": 2013,
         "open1": 14.17,
         "open2": 200.78889999999998,
         "open3": 2845.178713,
         "open4": 40316.18236321,
         "open5": 571280.3040866856,
         "_deepnote_index_column": 7
        },
        {
         "date": "2013-02-21",
         "open": 13.62,
         "high": 13.95,
         "low": 12.9,
         "close": 13.37,
         "volume": 11922100,
         "Name": "AAL",
         "year": 2013,
         "open1": 13.62,
         "open2": 185.50439999999998,
         "open3": 2526.5699279999994,
         "open4": 34411.882419359994,
         "open5": 468689.83855168306,
         "_deepnote_index_column": 8
        },
        {
         "date": "2013-02-22",
         "open": 13.57,
         "high": 13.6,
         "low": 13.21,
         "close": 13.57,
         "volume": 6071400,
         "Name": "AAL",
         "year": 2013,
         "open1": 13.57,
         "open2": 184.1449,
         "open3": 2498.846293,
         "open4": 33909.34419601,
         "open5": 460149.80073985574,
         "_deepnote_index_column": 9
        }
       ]
      },
      "text/plain": "            date   open   high    low  close    volume Name  year  open1  \\\n0     2013-02-08  15.07  15.12  14.63  14.75   8407500  AAL  2013  15.07   \n1     2013-02-11  14.89  15.01  14.26  14.46   8882000  AAL  2013  14.89   \n2     2013-02-12  14.45  14.51  14.10  14.27   8126000  AAL  2013  14.45   \n3     2013-02-13  14.30  14.94  14.25  14.66  10259500  AAL  2013  14.30   \n4     2013-02-14  14.94  14.96  13.16  13.99  31879900  AAL  2013  14.94   \n...          ...    ...    ...    ...    ...       ...  ...   ...    ...   \n1254  2018-02-01  54.00  54.64  53.59  53.88   3623078  AAL  2018  54.00   \n1255  2018-02-02  53.49  53.99  52.03  52.10   5109361  AAL  2018  53.49   \n1256  2018-02-05  51.99  52.39  49.75  49.76   6878284  AAL  2018  51.99   \n1257  2018-02-06  49.32  51.50  48.79  51.18   6782480  AAL  2018  49.32   \n1258  2018-02-07  50.91  51.98  50.89  51.40   4845831  AAL  2018  50.91   \n\n          open2          open3         open4         open5  \n0      227.1049    3422.470843  5.157664e+04  7.772599e+05  \n1      221.7121    3301.293169  4.915626e+04  7.319366e+05  \n2      208.8025    3017.196125  4.359848e+04  6.299981e+05  \n3      204.4900    2924.207000  4.181616e+04  5.979711e+05  \n4      223.2036    3334.661784  4.981985e+04  7.443085e+05  \n...         ...            ...           ...           ...  \n1254  2916.0000  157464.000000  8.503056e+06  4.591650e+08  \n1255  2861.1801  153044.523549  8.186352e+06  4.378879e+08  \n1256  2702.9601  140526.895599  7.305993e+06  3.798386e+08  \n1257  2432.4624  119969.045568  5.916873e+06  2.918202e+08  \n1258  2591.8281  131949.968571  6.717573e+06  3.419916e+08  \n\n[1259 rows x 13 columns]",
      "text/html": "<div>\n<style scoped>\n    .dataframe tbody tr th:only-of-type {\n        vertical-align: middle;\n    }\n\n    .dataframe tbody tr th {\n        vertical-align: top;\n    }\n\n    .dataframe thead th {\n        text-align: right;\n    }\n</style>\n<table border=\"1\" class=\"dataframe\">\n  <thead>\n    <tr style=\"text-align: right;\">\n      <th></th>\n      <th>date</th>\n      <th>open</th>\n      <th>high</th>\n      <th>low</th>\n      <th>close</th>\n      <th>volume</th>\n      <th>Name</th>\n      <th>year</th>\n      <th>open1</th>\n      <th>open2</th>\n      <th>open3</th>\n      <th>open4</th>\n      <th>open5</th>\n    </tr>\n  </thead>\n  <tbody>\n    <tr>\n      <th>0</th>\n      <td>2013-02-08</td>\n      <td>15.07</td>\n      <td>15.12</td>\n      <td>14.63</td>\n      <td>14.75</td>\n      <td>8407500</td>\n      <td>AAL</td>\n      <td>2013</td>\n      <td>15.07</td>\n      <td>227.1049</td>\n      <td>3422.470843</td>\n      <td>5.157664e+04</td>\n      <td>7.772599e+05</td>\n    </tr>\n    <tr>\n      <th>1</th>\n      <td>2013-02-11</td>\n      <td>14.89</td>\n      <td>15.01</td>\n      <td>14.26</td>\n      <td>14.46</td>\n      <td>8882000</td>\n      <td>AAL</td>\n      <td>2013</td>\n      <td>14.89</td>\n      <td>221.7121</td>\n      <td>3301.293169</td>\n      <td>4.915626e+04</td>\n      <td>7.319366e+05</td>\n    </tr>\n    <tr>\n      <th>2</th>\n      <td>2013-02-12</td>\n      <td>14.45</td>\n      <td>14.51</td>\n      <td>14.10</td>\n      <td>14.27</td>\n      <td>8126000</td>\n      <td>AAL</td>\n      <td>2013</td>\n      <td>14.45</td>\n      <td>208.8025</td>\n      <td>3017.196125</td>\n      <td>4.359848e+04</td>\n      <td>6.299981e+05</td>\n    </tr>\n    <tr>\n      <th>3</th>\n      <td>2013-02-13</td>\n      <td>14.30</td>\n      <td>14.94</td>\n      <td>14.25</td>\n      <td>14.66</td>\n      <td>10259500</td>\n      <td>AAL</td>\n      <td>2013</td>\n      <td>14.30</td>\n      <td>204.4900</td>\n      <td>2924.207000</td>\n      <td>4.181616e+04</td>\n      <td>5.979711e+05</td>\n    </tr>\n    <tr>\n      <th>4</th>\n      <td>2013-02-14</td>\n      <td>14.94</td>\n      <td>14.96</td>\n      <td>13.16</td>\n      <td>13.99</td>\n      <td>31879900</td>\n      <td>AAL</td>\n      <td>2013</td>\n      <td>14.94</td>\n      <td>223.2036</td>\n      <td>3334.661784</td>\n      <td>4.981985e+04</td>\n      <td>7.443085e+05</td>\n    </tr>\n    <tr>\n      <th>...</th>\n      <td>...</td>\n      <td>...</td>\n      <td>...</td>\n      <td>...</td>\n      <td>...</td>\n      <td>...</td>\n      <td>...</td>\n      <td>...</td>\n      <td>...</td>\n      <td>...</td>\n      <td>...</td>\n      <td>...</td>\n      <td>...</td>\n    </tr>\n    <tr>\n      <th>1254</th>\n      <td>2018-02-01</td>\n      <td>54.00</td>\n      <td>54.64</td>\n      <td>53.59</td>\n      <td>53.88</td>\n      <td>3623078</td>\n      <td>AAL</td>\n      <td>2018</td>\n      <td>54.00</td>\n      <td>2916.0000</td>\n      <td>157464.000000</td>\n      <td>8.503056e+06</td>\n      <td>4.591650e+08</td>\n    </tr>\n    <tr>\n      <th>1255</th>\n      <td>2018-02-02</td>\n      <td>53.49</td>\n      <td>53.99</td>\n      <td>52.03</td>\n      <td>52.10</td>\n      <td>5109361</td>\n      <td>AAL</td>\n      <td>2018</td>\n      <td>53.49</td>\n      <td>2861.1801</td>\n      <td>153044.523549</td>\n      <td>8.186352e+06</td>\n      <td>4.378879e+08</td>\n    </tr>\n    <tr>\n      <th>1256</th>\n      <td>2018-02-05</td>\n      <td>51.99</td>\n      <td>52.39</td>\n      <td>49.75</td>\n      <td>49.76</td>\n      <td>6878284</td>\n      <td>AAL</td>\n      <td>2018</td>\n      <td>51.99</td>\n      <td>2702.9601</td>\n      <td>140526.895599</td>\n      <td>7.305993e+06</td>\n      <td>3.798386e+08</td>\n    </tr>\n    <tr>\n      <th>1257</th>\n      <td>2018-02-06</td>\n      <td>49.32</td>\n      <td>51.50</td>\n      <td>48.79</td>\n      <td>51.18</td>\n      <td>6782480</td>\n      <td>AAL</td>\n      <td>2018</td>\n      <td>49.32</td>\n      <td>2432.4624</td>\n      <td>119969.045568</td>\n      <td>5.916873e+06</td>\n      <td>2.918202e+08</td>\n    </tr>\n    <tr>\n      <th>1258</th>\n      <td>2018-02-07</td>\n      <td>50.91</td>\n      <td>51.98</td>\n      <td>50.89</td>\n      <td>51.40</td>\n      <td>4845831</td>\n      <td>AAL</td>\n      <td>2018</td>\n      <td>50.91</td>\n      <td>2591.8281</td>\n      <td>131949.968571</td>\n      <td>6.717573e+06</td>\n      <td>3.419916e+08</td>\n    </tr>\n  </tbody>\n</table>\n<p>1259 rows × 13 columns</p>\n</div>"
     },
     "metadata": {}
    }
   ]
  },
  {
   "cell_type": "markdown",
   "source": "here I set max degree into 5 below for polynomial regression and a \"year\" column",
   "metadata": {
    "cell_id": "148b8569d91a42cba9976f82145ccbc2",
    "tags": [],
    "deepnote_cell_type": "markdown",
    "deepnote_cell_height": 52.390625
   }
  },
  {
   "cell_type": "code",
   "metadata": {
    "cell_id": "00c5e601461147748a5645f6138c05ea",
    "tags": [],
    "deepnote_to_be_reexecuted": false,
    "source_hash": "bad6ed2f",
    "execution_start": 1654289825144,
    "execution_millis": 29,
    "deepnote_cell_type": "code",
    "deepnote_cell_height": 99
   },
   "source": "\nX_train2,X_test2,y_train2,y_test2 = train_test_split(df[sub_col],df[\"close\"],train_size=0.3,random_state=0)",
   "execution_count": null,
   "outputs": []
  },
  {
   "cell_type": "code",
   "metadata": {
    "cell_id": "6099b662ec184aa789997caf3aa81d0d",
    "tags": [],
    "deepnote_to_be_reexecuted": false,
    "source_hash": "41a130ea",
    "execution_start": 1654289825180,
    "execution_millis": 56,
    "deepnote_cell_type": "code",
    "deepnote_cell_height": 320.96875,
    "deepnote_output_heights": [
     97.96875
    ]
   },
   "source": "mse_train_dict = {}\n\nfor i in range(1,max_deg+1):\n    sub = sub_col[:i]\n    reg = LinearRegression()\n    reg.fit(X_train2[sub], y_train2)\n    mse_train_dict[i] = mean_squared_error(reg.predict(X_train2[sub]), y_train2)\nmse_train_dict",
   "execution_count": null,
   "outputs": [
    {
     "output_type": "execute_result",
     "execution_count": 14,
     "data": {
      "text/plain": "{1: 0.613737790029641,\n 2: 0.6109051382778017,\n 3: 0.6109024377985044,\n 4: 0.6106427682807114,\n 5: 0.6106371158209921}"
     },
     "metadata": {}
    }
   ]
  },
  {
   "cell_type": "markdown",
   "source": "* it looks like pretty similiar becasue in original data, the opening price and the closing price difference are not too much, here we just check 3th to 6th digit since the first two digit are the same.We can see the error keeps going lower so it's a not bad sign",
   "metadata": {
    "cell_id": "72f5ca1e96174b99b4f954006134b287",
    "tags": [],
    "owner_user_id": "2b2c2086-38f5-41fb-896c-ea0272b6f1e1",
    "deepnote_cell_type": "markdown",
    "deepnote_cell_height": 114.1875
   }
  },
  {
   "cell_type": "code",
   "metadata": {
    "cell_id": "a0ac1e433ef447b09ce22c31e60e9df3",
    "tags": [],
    "deepnote_to_be_reexecuted": false,
    "source_hash": "8e0dec94",
    "execution_start": 1654289825240,
    "execution_millis": 49,
    "deepnote_cell_type": "code",
    "deepnote_cell_height": 320.96875,
    "deepnote_output_heights": [
     97.96875
    ]
   },
   "source": "mse_test_dict = {}\n\nfor i in range(1,max_deg+1):\n    sub = sub_col[:i]\n    reg = LinearRegression()\n    reg.fit(X_train2[sub], y_train2)\n    mse_test_dict[i] = mean_squared_error(reg.predict(X_test2[sub]), y_test2)\nmse_test_dict",
   "execution_count": null,
   "outputs": [
    {
     "output_type": "execute_result",
     "execution_count": 15,
     "data": {
      "text/plain": "{1: 0.5299597972949177,\n 2: 0.5272501941771051,\n 3: 0.5272560447897813,\n 4: 0.5268082561653469,\n 5: 0.5268494986878971}"
     },
     "metadata": {}
    }
   ]
  },
  {
   "cell_type": "markdown",
   "source": "* here we also keep just 3th to 6th digit position and we can see that after 4th degree, the error goes up a little bit, I assume that 4th degree is relatively perefect but since the overall error is small so I'm not going to add degree and count error here\n* Overall the relationship between overfitting and underfitting is now obvious here because the low difference of values, but the structure of prediction is ok and it can be effectively used in other datasets.",
   "metadata": {
    "cell_id": "90697ddb193740458b8406f010403f20",
    "tags": [],
    "deepnote_cell_type": "markdown",
    "deepnote_cell_height": 161.984375
   }
  },
  {
   "cell_type": "markdown",
   "source": "## See stock price by selection of period of time",
   "metadata": {
    "cell_id": "e4cf074bb7d142aca1b2b5d7c4aadcc1",
    "tags": [],
    "deepnote_cell_type": "markdown",
    "deepnote_cell_height": 70
   }
  },
  {
   "cell_type": "markdown",
   "source": "Here I want to show the detailed stock market when selecting certain part of stock market. The whole dataset of AAL is 5 years, but what if I only want to look certain period of stock price given certain year?",
   "metadata": {
    "cell_id": "64debea9b17244a1a74f68af51b676cd",
    "tags": [],
    "deepnote_to_be_reexecuted": false,
    "source_hash": "d2ca8506",
    "execution_start": 1654119143010,
    "execution_millis": 0,
    "deepnote_cell_type": "markdown",
    "deepnote_cell_height": 74.796875
   }
  },
  {
   "cell_type": "code",
   "metadata": {
    "cell_id": "54fd0ebdc6ef480e848fbb3aa1104dd0",
    "tags": [],
    "deepnote_to_be_reexecuted": false,
    "source_hash": "d442fbe",
    "execution_start": 1654289825296,
    "execution_millis": 1,
    "deepnote_cell_type": "code",
    "deepnote_cell_height": 81
   },
   "source": "df2014=df.loc[df[\"year\"]==2014]",
   "execution_count": null,
   "outputs": []
  },
  {
   "cell_type": "markdown",
   "source": "here I just want to show 2014 price because I don't want the graph of x label to be too messy",
   "metadata": {
    "cell_id": "611c4e3021ce42fda5d1dab40ab4c9c0",
    "tags": [],
    "deepnote_cell_type": "markdown",
    "deepnote_cell_height": 52.390625
   }
  },
  {
   "cell_type": "code",
   "metadata": {
    "cell_id": "e27c8ae5904b4ab6b369481030a78cd8",
    "tags": [],
    "deepnote_to_be_reexecuted": false,
    "source_hash": "63c71028",
    "execution_start": 1654289825354,
    "execution_millis": 0,
    "deepnote_cell_type": "code",
    "deepnote_cell_height": 81
   },
   "source": "brush = alt.selection_interval(encodings=[\"x\"])",
   "execution_count": null,
   "outputs": []
  },
  {
   "cell_type": "code",
   "metadata": {
    "cell_id": "56322573ccb8421e96c1f3fd55fdeb53",
    "tags": [],
    "deepnote_to_be_reexecuted": false,
    "source_hash": "e01ae4d6",
    "execution_start": 1654289825354,
    "execution_millis": 1,
    "deepnote_cell_type": "code",
    "deepnote_cell_height": 225
   },
   "source": "c = alt.Chart(df2014).mark_line().encode(\n    y='close',\n    color=alt.Color (\"Name\",scale = alt.Scale(scheme = \"category20\"))\n).properties(\n    width=600,\n    height=100\n).add_selection(\n    brush\n).encode(x='date') ",
   "execution_count": null,
   "outputs": []
  },
  {
   "cell_type": "code",
   "metadata": {
    "cell_id": "dfd18fa06d5e45f38706d63005227653",
    "tags": [],
    "deepnote_to_be_reexecuted": false,
    "source_hash": "c7ba4b45",
    "execution_start": 1654289825392,
    "execution_millis": 0,
    "deepnote_cell_type": "code",
    "deepnote_cell_height": 225
   },
   "source": "c_detail = alt.Chart(df2014).mark_line().encode(\n    y=alt.Y('close',scale=alt.Scale(zero=False)),\n    color=alt.Color (\"Name\",scale = alt.Scale(scheme = \"category20\"))\n).properties(\n    width=600,\n    height=400\n).transform_filter(\n    brush\n).encode(x='date') ",
   "execution_count": null,
   "outputs": []
  },
  {
   "cell_type": "code",
   "metadata": {
    "cell_id": "8beaea9119de40fca0c4840e918208f5",
    "tags": [],
    "deepnote_to_be_reexecuted": false,
    "source_hash": "aabda401",
    "execution_start": 1654289825393,
    "execution_millis": 73,
    "deepnote_cell_type": "code",
    "deepnote_cell_height": 708,
    "deepnote_output_heights": [
     611
    ]
   },
   "source": "c_detail&c",
   "execution_count": null,
   "outputs": [
    {
     "output_type": "execute_result",
     "execution_count": 20,
     "data": {
      "text/html": "\n<div id=\"altair-viz-f58195b825a64f99878704b86b726b60\"></div>\n<script type=\"text/javascript\">\n  (function(spec, embedOpt){\n    let outputDiv = document.currentScript.previousElementSibling;\n    if (outputDiv.id !== \"altair-viz-f58195b825a64f99878704b86b726b60\") {\n      outputDiv = document.getElementById(\"altair-viz-f58195b825a64f99878704b86b726b60\");\n    }\n    const paths = {\n      \"vega\": \"https://cdn.jsdelivr.net/npm//vega@5?noext\",\n      \"vega-lib\": \"https://cdn.jsdelivr.net/npm//vega-lib?noext\",\n      \"vega-lite\": \"https://cdn.jsdelivr.net/npm//vega-lite@4.8.1?noext\",\n      \"vega-embed\": \"https://cdn.jsdelivr.net/npm//vega-embed@6?noext\",\n    };\n\n    function loadScript(lib) {\n      return new Promise(function(resolve, reject) {\n        var s = document.createElement('script');\n        s.src = paths[lib];\n        s.async = true;\n        s.onload = () => resolve(paths[lib]);\n        s.onerror = () => reject(`Error loading script: ${paths[lib]}`);\n        document.getElementsByTagName(\"head\")[0].appendChild(s);\n      });\n    }\n\n    function showError(err) {\n      outputDiv.innerHTML = `<div class=\"error\" style=\"color:red;\">${err}</div>`;\n      throw err;\n    }\n\n    function displayChart(vegaEmbed) {\n      vegaEmbed(outputDiv, spec, embedOpt)\n        .catch(err => showError(`Javascript Error: ${err.message}<br>This usually means there's a typo in your chart specification. See the javascript console for the full traceback.`));\n    }\n\n    if(typeof define === \"function\" && define.amd) {\n      requirejs.config({paths});\n      require([\"vega-embed\"], displayChart, err => showError(`Error loading script: ${err.message}`));\n    } else if (typeof vegaEmbed === \"function\") {\n      displayChart(vegaEmbed);\n    } else {\n      loadScript(\"vega\")\n        .then(() => loadScript(\"vega-lite\"))\n        .then(() => loadScript(\"vega-embed\"))\n        .catch(showError)\n        .then(() => displayChart(vegaEmbed));\n    }\n  })({\"config\": {\"view\": {\"continuousWidth\": 400, \"continuousHeight\": 300}}, \"vconcat\": [{\"mark\": \"line\", \"encoding\": {\"color\": {\"type\": \"nominal\", \"field\": \"Name\", \"scale\": {\"scheme\": \"category20\"}}, \"x\": {\"type\": \"nominal\", \"field\": \"date\"}, \"y\": {\"type\": \"quantitative\", \"field\": \"close\", \"scale\": {\"zero\": false}}}, \"height\": 400, \"transform\": [{\"filter\": {\"selection\": \"selector001\"}}], \"width\": 600}, {\"mark\": \"line\", \"encoding\": {\"color\": {\"type\": \"nominal\", \"field\": \"Name\", \"scale\": {\"scheme\": \"category20\"}}, \"x\": {\"type\": \"nominal\", \"field\": \"date\"}, \"y\": {\"type\": \"quantitative\", \"field\": \"close\"}}, \"height\": 100, \"selection\": {\"selector001\": {\"type\": \"interval\", \"encodings\": [\"x\"]}}, \"width\": 600}], \"data\": {\"name\": \"data-de006e7f8354f22ff45c91ca76c2f2c7\"}, \"$schema\": \"https://vega.github.io/schema/vega-lite/v4.8.1.json\", \"datasets\": {\"data-de006e7f8354f22ff45c91ca76c2f2c7\": [{\"date\": \"2014-01-02\", \"open\": 25.07, \"high\": 25.82, \"low\": 25.06, \"close\": 25.36, \"volume\": 8998943, \"Name\": \"AAL\", \"year\": 2014, \"open1\": 25.07, \"open2\": 628.5049, \"open3\": 15756.617843, \"open4\": 395018.40932401, \"open5\": 9903111.521752931}, {\"date\": \"2014-01-03\", \"open\": 25.75, \"high\": 26.75, \"low\": 25.51, \"close\": 26.54, \"volume\": 13836062, \"Name\": \"AAL\", \"year\": 2014, \"open1\": 25.75, \"open2\": 663.0625, \"open3\": 17073.859375, \"open4\": 439651.87890625, \"open5\": 11321035.881835938}, {\"date\": \"2014-01-06\", \"open\": 26.62, \"high\": 27.2, \"low\": 26.6, \"close\": 27.03, \"volume\": 11272273, \"Name\": \"AAL\", \"year\": 2014, \"open1\": 26.62, \"open2\": 708.6244, \"open3\": 18863.581528000002, \"open4\": 502148.54027536005, \"open5\": 13367194.142130086}, {\"date\": \"2014-01-07\", \"open\": 27.2, \"high\": 27.3997, \"low\": 26.67, \"close\": 26.905, \"volume\": 11288775, \"Name\": \"AAL\", \"year\": 2014, \"open1\": 27.2, \"open2\": 739.8399999999999, \"open3\": 20123.647999999997, \"open4\": 547363.2255999999, \"open5\": 14888279.736319998}, {\"date\": \"2014-01-08\", \"open\": 26.37, \"high\": 27.68, \"low\": 26.35, \"close\": 27.63, \"volume\": 15736891, \"Name\": \"AAL\", \"year\": 2014, \"open1\": 26.37, \"open2\": 695.3769000000001, \"open3\": 18337.088853, \"open4\": 483549.03305361007, \"open5\": 12751188.001623698}, {\"date\": \"2014-01-09\", \"open\": 28.24, \"high\": 29.6, \"low\": 28.2, \"close\": 29.42, \"volume\": 26056445, \"Name\": \"AAL\", \"year\": 2014, \"open1\": 28.24, \"open2\": 797.4975999999999, \"open3\": 22521.332223999998, \"open4\": 636002.4220057599, \"open5\": 17960708.397442658}, {\"date\": \"2014-01-10\", \"open\": 29.05, \"high\": 29.83, \"low\": 28.75, \"close\": 29.35, \"volume\": 12824160, \"Name\": \"AAL\", \"year\": 2014, \"open1\": 29.05, \"open2\": 843.9025, \"open3\": 24515.367625000003, \"open4\": 712171.4295062501, \"open5\": 20688580.027156565}, {\"date\": \"2014-01-13\", \"open\": 29.18, \"high\": 29.53, \"low\": 28.58, \"close\": 28.65, \"volume\": 10591701, \"Name\": \"AAL\", \"year\": 2014, \"open1\": 29.18, \"open2\": 851.4724, \"open3\": 24845.964632, \"open4\": 725005.2479617599, \"open5\": 21155653.135524157}, {\"date\": \"2014-01-14\", \"open\": 28.75, \"high\": 29.04, \"low\": 28.71, \"close\": 28.87, \"volume\": 10601529, \"Name\": \"AAL\", \"year\": 2014, \"open1\": 28.75, \"open2\": 826.5625, \"open3\": 23763.671875, \"open4\": 683205.56640625, \"open5\": 19642160.034179688}, {\"date\": \"2014-01-15\", \"open\": 28.9, \"high\": 29.44, \"low\": 28.7, \"close\": 28.84, \"volume\": 11192558, \"Name\": \"AAL\", \"year\": 2014, \"open1\": 28.9, \"open2\": 835.2099999999999, \"open3\": 24137.568999999996, \"open4\": 697575.7440999999, \"open5\": 20159939.004489996}, {\"date\": \"2014-01-16\", \"open\": 28.94, \"high\": 29.39, \"low\": 28.7, \"close\": 29.34, \"volume\": 7034698, \"Name\": \"AAL\", \"year\": 2014, \"open1\": 28.94, \"open2\": 837.5236000000001, \"open3\": 24237.932984000003, \"open4\": 701445.7805569601, \"open5\": 20299840.889318425}, {\"date\": \"2014-01-17\", \"open\": 29.3, \"high\": 30.02, \"low\": 29.171, \"close\": 30.02, \"volume\": 18304949, \"Name\": \"AAL\", \"year\": 2014, \"open1\": 29.3, \"open2\": 858.49, \"open3\": 25153.757, \"open4\": 737005.0801, \"open5\": 21594248.84693}, {\"date\": \"2014-01-21\", \"open\": 30.66, \"high\": 30.8, \"low\": 30.2, \"close\": 30.66, \"volume\": 10612821, \"Name\": \"AAL\", \"year\": 2014, \"open1\": 30.66, \"open2\": 940.0356, \"open3\": 28821.491496, \"open4\": 883666.92926736, \"open5\": 27093228.051337257}, {\"date\": \"2014-01-22\", \"open\": 30.71, \"high\": 31.24, \"low\": 30.65, \"close\": 31.2, \"volume\": 7583631, \"Name\": \"AAL\", \"year\": 2014, \"open1\": 30.71, \"open2\": 943.1041, \"open3\": 28962.726911, \"open4\": 889445.3434368101, \"open5\": 27314866.49694444}, {\"date\": \"2014-01-23\", \"open\": 30.65, \"high\": 31.46, \"low\": 30.62, \"close\": 31.35, \"volume\": 11397447, \"Name\": \"AAL\", \"year\": 2014, \"open1\": 30.65, \"open2\": 939.4224999999999, \"open3\": 28793.299624999996, \"open4\": 882514.6335062499, \"open5\": 27049073.516966555}, {\"date\": \"2014-01-24\", \"open\": 31.02, \"high\": 31.18, \"low\": 29.91, \"close\": 30.4, \"volume\": 13699981, \"Name\": \"AAL\", \"year\": 2014, \"open1\": 31.02, \"open2\": 962.2404, \"open3\": 29848.697207999998, \"open4\": 925906.58739216, \"open5\": 28721622.340904802}, {\"date\": \"2014-01-27\", \"open\": 30.4, \"high\": 30.87, \"low\": 28.67, \"close\": 30.18, \"volume\": 16288488, \"Name\": \"AAL\", \"year\": 2014, \"open1\": 30.4, \"open2\": 924.16, \"open3\": 28094.463999999996, \"open4\": 854071.7055999999, \"open5\": 25963779.850239992}, {\"date\": \"2014-01-28\", \"open\": 30.32, \"high\": 32.2, \"low\": 30.02, \"close\": 31.96, \"volume\": 23966003, \"Name\": \"AAL\", \"year\": 2014, \"open1\": 30.32, \"open2\": 919.3024, \"open3\": 27873.248768, \"open4\": 845116.90264576, \"open5\": 25623944.488219444}, {\"date\": \"2014-01-29\", \"open\": 32.24, \"high\": 33.4, \"low\": 32.1, \"close\": 32.98, \"volume\": 22726800, \"Name\": \"AAL\", \"year\": 2014, \"open1\": 32.24, \"open2\": 1039.4176000000002, \"open3\": 33510.82342400001, \"open4\": 1080388.9471897602, \"open5\": 34831739.65739787}, {\"date\": \"2014-01-30\", \"open\": 33.36, \"high\": 34.2, \"low\": 33.2, \"close\": 33.8, \"volume\": 13677012, \"Name\": \"AAL\", \"year\": 2014, \"open1\": 33.36, \"open2\": 1112.8896, \"open3\": 37125.997056, \"open4\": 1238523.2617881598, \"open5\": 41317136.01325301}, {\"date\": \"2014-01-31\", \"open\": 33.44, \"high\": 34.08, \"low\": 33.0, \"close\": 33.55, \"volume\": 12795698, \"Name\": \"AAL\", \"year\": 2014, \"open1\": 33.44, \"open2\": 1118.2335999999998, \"open3\": 37393.731583999994, \"open4\": 1250446.3841689597, \"open5\": 41814927.08661001}, {\"date\": \"2014-02-03\", \"open\": 33.95, \"high\": 34.48, \"low\": 33.05, \"close\": 33.96, \"volume\": 21743871, \"Name\": \"AAL\", \"year\": 2014, \"open1\": 33.95, \"open2\": 1152.6025000000002, \"open3\": 39130.85487500001, \"open4\": 1328492.5230062504, \"open5\": 45102321.15606221}, {\"date\": \"2014-02-04\", \"open\": 34.04, \"high\": 34.38, \"low\": 33.58, \"close\": 34.05, \"volume\": 11241908, \"Name\": \"AAL\", \"year\": 2014, \"open1\": 34.04, \"open2\": 1158.7215999999999, \"open3\": 39442.883264, \"open4\": 1342635.7463065598, \"open5\": 45703320.8042753}, {\"date\": \"2014-02-05\", \"open\": 33.82, \"high\": 33.97, \"low\": 33.4, \"close\": 33.8, \"volume\": 15471546, \"Name\": \"AAL\", \"year\": 2014, \"open1\": 33.82, \"open2\": 1143.7924, \"open3\": 38683.058968, \"open4\": 1308261.0542977601, \"open5\": 44245388.85635024}, {\"date\": \"2014-02-06\", \"open\": 33.71, \"high\": 34.92, \"low\": 33.7, \"close\": 34.66, \"volume\": 13924507, \"Name\": \"AAL\", \"year\": 2014, \"open1\": 33.71, \"open2\": 1136.3641, \"open3\": 38306.833811000004, \"open4\": 1291323.3677688101, \"open5\": 43530510.72748659}, {\"date\": \"2014-02-07\", \"open\": 34.81, \"high\": 35.7, \"low\": 34.65, \"close\": 35.67, \"volume\": 15411777, \"Name\": \"AAL\", \"year\": 2014, \"open1\": 34.81, \"open2\": 1211.7361, \"open3\": 42180.53364100001, \"open4\": 1468304.3760432103, \"open5\": 51111675.330064155}, {\"date\": \"2014-02-10\", \"open\": 36.1, \"high\": 36.15, \"low\": 35.38, \"close\": 35.58, \"volume\": 11110235, \"Name\": \"AAL\", \"year\": 2014, \"open1\": 36.1, \"open2\": 1303.21, \"open3\": 47045.88100000001, \"open4\": 1698356.3041000003, \"open5\": 61310662.578010015}, {\"date\": \"2014-02-11\", \"open\": 35.58, \"high\": 35.64, \"low\": 34.39, \"close\": 35.13, \"volume\": 11990875, \"Name\": \"AAL\", \"year\": 2014, \"open1\": 35.58, \"open2\": 1265.9363999999998, \"open3\": 45042.017111999994, \"open4\": 1602594.9688449597, \"open5\": 57020328.99150366}, {\"date\": \"2014-02-12\", \"open\": 34.89, \"high\": 35.0, \"low\": 34.36, \"close\": 34.69, \"volume\": 9386780, \"Name\": \"AAL\", \"year\": 2014, \"open1\": 34.89, \"open2\": 1217.3121, \"open3\": 42472.019169, \"open4\": 1481848.74880641, \"open5\": 51701702.845855646}, {\"date\": \"2014-02-13\", \"open\": 34.07, \"high\": 35.04, \"low\": 34.06, \"close\": 35.025, \"volume\": 8412272, \"Name\": \"AAL\", \"year\": 2014, \"open1\": 34.07, \"open2\": 1160.7649000000001, \"open3\": 39547.260143, \"open4\": 1347375.15307201, \"open5\": 45905071.46516338}, {\"date\": \"2014-02-14\", \"open\": 34.85, \"high\": 35.176, \"low\": 34.22, \"close\": 34.41, \"volume\": 7307286, \"Name\": \"AAL\", \"year\": 2014, \"open1\": 34.85, \"open2\": 1214.5225, \"open3\": 42326.109125, \"open4\": 1475064.9030062503, \"open5\": 51406011.86976782}, {\"date\": \"2014-02-18\", \"open\": 34.73, \"high\": 34.95, \"low\": 34.2, \"close\": 34.31, \"volume\": 7090152, \"Name\": \"AAL\", \"year\": 2014, \"open1\": 34.73, \"open2\": 1206.1728999999998, \"open3\": 41890.38481699999, \"open4\": 1454853.0646944095, \"open5\": 50527046.93683684}, {\"date\": \"2014-02-19\", \"open\": 34.25, \"high\": 35.09, \"low\": 34.11, \"close\": 34.59, \"volume\": 7259501, \"Name\": \"AAL\", \"year\": 2014, \"open1\": 34.25, \"open2\": 1173.0625, \"open3\": 40177.390625, \"open4\": 1376075.62890625, \"open5\": 47130590.29003906}, {\"date\": \"2014-02-20\", \"open\": 34.43, \"high\": 35.6694, \"low\": 34.43, \"close\": 35.66, \"volume\": 9289448, \"Name\": \"AAL\", \"year\": 2014, \"open1\": 34.43, \"open2\": 1185.4249, \"open3\": 40814.179307, \"open4\": 1405232.19354001, \"open5\": 48382144.42358254}, {\"date\": \"2014-02-21\", \"open\": 35.78, \"high\": 36.45, \"low\": 35.75, \"close\": 36.17, \"volume\": 7821334, \"Name\": \"AAL\", \"year\": 2014, \"open1\": 35.78, \"open2\": 1280.2084, \"open3\": 45805.856552000005, \"open4\": 1638933.5474305602, \"open5\": 58641042.327065445}, {\"date\": \"2014-02-24\", \"open\": 36.2, \"high\": 36.66, \"low\": 36.02, \"close\": 36.65, \"volume\": 7022370, \"Name\": \"AAL\", \"year\": 2014, \"open1\": 36.2, \"open2\": 1310.4400000000003, \"open3\": 47437.928000000014, \"open4\": 1717252.9936000006, \"open5\": 62164558.368320026}, {\"date\": \"2014-02-25\", \"open\": 36.63, \"high\": 37.15, \"low\": 36.51, \"close\": 37.0, \"volume\": 8991389, \"Name\": \"AAL\", \"year\": 2014, \"open1\": 36.63, \"open2\": 1341.7569, \"open3\": 49148.55524700001, \"open4\": 1800311.5786976104, \"open5\": 65945413.127693474}, {\"date\": \"2014-02-26\", \"open\": 37.12, \"high\": 37.28, \"low\": 36.58, \"close\": 36.75, \"volume\": 10516864, \"Name\": \"AAL\", \"year\": 2014, \"open1\": 37.12, \"open2\": 1377.8944, \"open3\": 51147.44012799999, \"open4\": 1898592.9775513595, \"open5\": 70475771.32670645}, {\"date\": \"2014-02-27\", \"open\": 36.88, \"high\": 36.9485, \"low\": 36.34, \"close\": 36.56, \"volume\": 5666647, \"Name\": \"AAL\", \"year\": 2014, \"open1\": 36.88, \"open2\": 1360.1344000000001, \"open3\": 50161.75667200001, \"open4\": 1849965.5860633606, \"open5\": 68226730.81401674}, {\"date\": \"2014-02-28\", \"open\": 36.11, \"high\": 36.98, \"low\": 36.07, \"close\": 36.93, \"volume\": 7991349, \"Name\": \"AAL\", \"year\": 2014, \"open1\": 36.11, \"open2\": 1303.9321, \"open3\": 47084.988131, \"open4\": 1700238.92141041, \"open5\": 61395627.4521299}, {\"date\": \"2014-03-03\", \"open\": 36.17, \"high\": 36.4, \"low\": 35.32, \"close\": 36.1, \"volume\": 9495177, \"Name\": \"AAL\", \"year\": 2014, \"open1\": 36.17, \"open2\": 1308.2689, \"open3\": 47320.086113000005, \"open4\": 1711567.5147072102, \"open5\": 61907397.0069598}, {\"date\": \"2014-03-04\", \"open\": 36.57, \"high\": 37.46, \"low\": 36.57, \"close\": 37.34, \"volume\": 11742444, \"Name\": \"AAL\", \"year\": 2014, \"open1\": 36.57, \"open2\": 1337.3649, \"open3\": 48907.434393, \"open4\": 1788544.8757520101, \"open5\": 65407086.10625101}, {\"date\": \"2014-03-05\", \"open\": 37.6, \"high\": 38.03, \"low\": 37.51, \"close\": 37.86, \"volume\": 8793959, \"Name\": \"AAL\", \"year\": 2014, \"open1\": 37.6, \"open2\": 1413.7600000000002, \"open3\": 53157.376000000004, \"open4\": 1998717.3376000002, \"open5\": 75151771.89376001}, {\"date\": \"2014-03-06\", \"open\": 38.28, \"high\": 39.325, \"low\": 38.28, \"close\": 38.81, \"volume\": 14008414, \"Name\": \"AAL\", \"year\": 2014, \"open1\": 38.28, \"open2\": 1465.3584, \"open3\": 56093.91955200001, \"open4\": 2147275.24045056, \"open5\": 82197696.20444745}, {\"date\": \"2014-03-07\", \"open\": 39.17, \"high\": 39.29, \"low\": 38.11, \"close\": 39.02, \"volume\": 10540431, \"Name\": \"AAL\", \"year\": 2014, \"open1\": 39.17, \"open2\": 1534.2889000000002, \"open3\": 60098.096213000004, \"open4\": 2354042.4286632105, \"open5\": 92207841.93073796}, {\"date\": \"2014-03-10\", \"open\": 38.7, \"high\": 39.88, \"low\": 38.55, \"close\": 38.96, \"volume\": 11415390, \"Name\": \"AAL\", \"year\": 2014, \"open1\": 38.7, \"open2\": 1497.6900000000003, \"open3\": 57960.60300000001, \"open4\": 2243075.336100001, \"open5\": 86807015.50707003}, {\"date\": \"2014-03-11\", \"open\": 38.65, \"high\": 39.26, \"low\": 37.95, \"close\": 38.08, \"volume\": 11311219, \"Name\": \"AAL\", \"year\": 2014, \"open1\": 38.65, \"open2\": 1493.8225, \"open3\": 57736.239624999995, \"open4\": 2231505.6615062496, \"open5\": 86247693.81721655}, {\"date\": \"2014-03-12\", \"open\": 37.97, \"high\": 38.08, \"low\": 37.23, \"close\": 37.5599, \"volume\": 9416584, \"Name\": \"AAL\", \"year\": 2014, \"open1\": 37.97, \"open2\": 1441.7208999999998, \"open3\": 54742.142573, \"open4\": 2078559.1534968098, \"open5\": 78922891.05827387}, {\"date\": \"2014-03-13\", \"open\": 37.9, \"high\": 37.9899, \"low\": 35.75, \"close\": 36.74, \"volume\": 11743627, \"Name\": \"AAL\", \"year\": 2014, \"open1\": 37.9, \"open2\": 1436.4099999999999, \"open3\": 54439.93899999999, \"open4\": 2063273.6880999997, \"open5\": 78198072.77898999}, {\"date\": \"2014-03-14\", \"open\": 36.0, \"high\": 37.1799, \"low\": 35.67, \"close\": 36.34, \"volume\": 7199813, \"Name\": \"AAL\", \"year\": 2014, \"open1\": 36.0, \"open2\": 1296.0, \"open3\": 46656.0, \"open4\": 1679616.0, \"open5\": 60466176.0}, {\"date\": \"2014-03-17\", \"open\": 36.62, \"high\": 37.77, \"low\": 36.53, \"close\": 37.7, \"volume\": 9240047, \"Name\": \"AAL\", \"year\": 2014, \"open1\": 36.62, \"open2\": 1341.0243999999998, \"open3\": 49108.31352799999, \"open4\": 1798346.4413953596, \"open5\": 65855446.68389806}, {\"date\": \"2014-03-18\", \"open\": 37.75, \"high\": 38.04, \"low\": 37.09, \"close\": 37.35, \"volume\": 5716947, \"Name\": \"AAL\", \"year\": 2014, \"open1\": 37.75, \"open2\": 1425.0625, \"open3\": 53796.109375, \"open4\": 2030803.12890625, \"open5\": 76662818.11621094}, {\"date\": \"2014-03-19\", \"open\": 37.27, \"high\": 37.63, \"low\": 36.68, \"close\": 37.08, \"volume\": 3863064, \"Name\": \"AAL\", \"year\": 2014, \"open1\": 37.27, \"open2\": 1389.0529000000001, \"open3\": 51770.00158300001, \"open4\": 1929467.9589984107, \"open5\": 71911270.83187076}, {\"date\": \"2014-03-20\", \"open\": 36.61, \"high\": 37.09, \"low\": 36.28, \"close\": 36.56, \"volume\": 6952115, \"Name\": \"AAL\", \"year\": 2014, \"open1\": 36.61, \"open2\": 1340.2921, \"open3\": 49068.093780999996, \"open4\": 1796382.9133224098, \"open5\": 65765578.45673343}, {\"date\": \"2014-03-21\", \"open\": 36.76, \"high\": 36.82, \"low\": 35.91, \"close\": 36.11, \"volume\": 14113193, \"Name\": \"AAL\", \"year\": 2014, \"open1\": 36.76, \"open2\": 1351.2975999999999, \"open3\": 49673.699775999994, \"open4\": 1826005.2037657597, \"open5\": 67123951.29042932}, {\"date\": \"2014-03-24\", \"open\": 36.25, \"high\": 36.86, \"low\": 36.03, \"close\": 36.8, \"volume\": 6514506, \"Name\": \"AAL\", \"year\": 2014, \"open1\": 36.25, \"open2\": 1314.0625, \"open3\": 47634.765625, \"open4\": 1726760.25390625, \"open5\": 62595059.20410156}, {\"date\": \"2014-03-25\", \"open\": 36.88, \"high\": 38.197, \"low\": 36.86, \"close\": 37.9, \"volume\": 10419256, \"Name\": \"AAL\", \"year\": 2014, \"open1\": 36.88, \"open2\": 1360.1344000000001, \"open3\": 50161.75667200001, \"open4\": 1849965.5860633606, \"open5\": 68226730.81401674}, {\"date\": \"2014-03-26\", \"open\": 38.15, \"high\": 38.26, \"low\": 36.64, \"close\": 36.7, \"volume\": 7322443, \"Name\": \"AAL\", \"year\": 2014, \"open1\": 38.15, \"open2\": 1455.4225, \"open3\": 55524.36837499999, \"open4\": 2118254.6535062497, \"open5\": 80811415.03126343}, {\"date\": \"2014-03-27\", \"open\": 36.62, \"high\": 36.77, \"low\": 35.02, \"close\": 35.77, \"volume\": 9546097, \"Name\": \"AAL\", \"year\": 2014, \"open1\": 36.62, \"open2\": 1341.0243999999998, \"open3\": 49108.31352799999, \"open4\": 1798346.4413953596, \"open5\": 65855446.68389806}, {\"date\": \"2014-03-28\", \"open\": 35.77, \"high\": 36.5, \"low\": 35.35, \"close\": 35.39, \"volume\": 6792745, \"Name\": \"AAL\", \"year\": 2014, \"open1\": 35.77, \"open2\": 1279.4929000000002, \"open3\": 45767.461033000014, \"open4\": 1637102.0811504105, \"open5\": 58559141.44275019}, {\"date\": \"2014-03-31\", \"open\": 35.84, \"high\": 36.87, \"low\": 35.75, \"close\": 36.6, \"volume\": 8415583, \"Name\": \"AAL\", \"year\": 2014, \"open1\": 35.84, \"open2\": 1284.5056000000002, \"open3\": 46036.68070400001, \"open4\": 1649954.6364313606, \"open5\": 59134374.16969997}, {\"date\": \"2014-04-01\", \"open\": 36.95, \"high\": 38.19, \"low\": 36.85, \"close\": 37.94, \"volume\": 11065541, \"Name\": \"AAL\", \"year\": 2014, \"open1\": 36.95, \"open2\": 1365.3025000000002, \"open3\": 50447.927375000014, \"open4\": 1864050.9165062506, \"open5\": 68876681.36490597}, {\"date\": \"2014-04-02\", \"open\": 38.24, \"high\": 38.9, \"low\": 37.48, \"close\": 37.71, \"volume\": 12508405, \"Name\": \"AAL\", \"year\": 2014, \"open1\": 38.24, \"open2\": 1462.2976, \"open3\": 55918.260224000005, \"open4\": 2138314.2709657606, \"open5\": 81769137.72173068}, {\"date\": \"2014-04-03\", \"open\": 37.72, \"high\": 38.44, \"low\": 36.96, \"close\": 37.34, \"volume\": 7939297, \"Name\": \"AAL\", \"year\": 2014, \"open1\": 37.72, \"open2\": 1422.7984, \"open3\": 53667.955647999996, \"open4\": 2024355.2870425598, \"open5\": 76358681.42724535}, {\"date\": \"2014-04-04\", \"open\": 37.41, \"high\": 37.72, \"low\": 36.3001, \"close\": 36.56, \"volume\": 8733197, \"Name\": \"AAL\", \"year\": 2014, \"open1\": 37.41, \"open2\": 1399.5080999999998, \"open3\": 52355.59802099998, \"open4\": 1958622.9219656093, \"open5\": 73272083.51073344}, {\"date\": \"2014-04-07\", \"open\": 36.78, \"high\": 37.48, \"low\": 35.46, \"close\": 35.78, \"volume\": 10577786, \"Name\": \"AAL\", \"year\": 2014, \"open1\": 36.78, \"open2\": 1352.7684000000002, \"open3\": 49754.821752, \"open4\": 1829982.3440385603, \"open5\": 67306750.61373825}, {\"date\": \"2014-04-08\", \"open\": 36.0, \"high\": 36.22, \"low\": 33.62, \"close\": 35.98, \"volume\": 17409958, \"Name\": \"AAL\", \"year\": 2014, \"open1\": 36.0, \"open2\": 1296.0, \"open3\": 46656.0, \"open4\": 1679616.0, \"open5\": 60466176.0}, {\"date\": \"2014-04-09\", \"open\": 36.08, \"high\": 37.0, \"low\": 35.16, \"close\": 36.9, \"volume\": 11479241, \"Name\": \"AAL\", \"year\": 2014, \"open1\": 36.08, \"open2\": 1301.7664, \"open3\": 46967.73171199999, \"open4\": 1694595.7601689596, \"open5\": 61141015.02689606}, {\"date\": \"2014-04-10\", \"open\": 36.7, \"high\": 37.38, \"low\": 34.6, \"close\": 35.29, \"volume\": 16312604, \"Name\": \"AAL\", \"year\": 2014, \"open1\": 36.7, \"open2\": 1346.89, \"open3\": 49430.86300000001, \"open4\": 1814112.6721000005, \"open5\": 66577935.06607003}, {\"date\": \"2014-04-11\", \"open\": 34.1, \"high\": 35.46, \"low\": 33.59, \"close\": 33.6799, \"volume\": 15538291, \"Name\": \"AAL\", \"year\": 2014, \"open1\": 34.1, \"open2\": 1162.8100000000002, \"open3\": 39651.821, \"open4\": 1352127.0961000002, \"open5\": 46107533.97701001}, {\"date\": \"2014-04-14\", \"open\": 34.0, \"high\": 34.77, \"low\": 32.77, \"close\": 33.37, \"volume\": 13466805, \"Name\": \"AAL\", \"year\": 2014, \"open1\": 34.0, \"open2\": 1156.0, \"open3\": 39304.0, \"open4\": 1336336.0, \"open5\": 45435424.0}, {\"date\": \"2014-04-15\", \"open\": 33.52, \"high\": 34.33, \"low\": 31.86, \"close\": 33.72, \"volume\": 15981721, \"Name\": \"AAL\", \"year\": 2014, \"open1\": 33.52, \"open2\": 1123.5904000000003, \"open3\": 37662.75020800001, \"open4\": 1262455.3869721605, \"open5\": 42317504.571306825}, {\"date\": \"2014-04-16\", \"open\": 34.17, \"high\": 35.59, \"low\": 33.94, \"close\": 35.51, \"volume\": 15636133, \"Name\": \"AAL\", \"year\": 2014, \"open1\": 34.17, \"open2\": 1167.5889000000002, \"open3\": 39896.512713000004, \"open4\": 1363263.8394032102, \"open5\": 46582725.3924077}, {\"date\": \"2014-04-17\", \"open\": 35.5, \"high\": 35.865, \"low\": 34.82, \"close\": 35.4, \"volume\": 9225655, \"Name\": \"AAL\", \"year\": 2014, \"open1\": 35.5, \"open2\": 1260.25, \"open3\": 44738.875, \"open4\": 1588230.0625, \"open5\": 56382167.21875}, {\"date\": \"2014-04-21\", \"open\": 35.08, \"high\": 35.79, \"low\": 34.86, \"close\": 35.67, \"volume\": 7190588, \"Name\": \"AAL\", \"year\": 2014, \"open1\": 35.08, \"open2\": 1230.6064, \"open3\": 43169.67251199999, \"open4\": 1514392.1117209597, \"open5\": 53124875.279171266}, {\"date\": \"2014-04-22\", \"open\": 35.76, \"high\": 36.74, \"low\": 35.75, \"close\": 36.16, \"volume\": 8942295, \"Name\": \"AAL\", \"year\": 2014, \"open1\": 35.76, \"open2\": 1278.7776, \"open3\": 45729.08697599999, \"open4\": 1635272.1502617595, \"open5\": 58477332.09336052}, {\"date\": \"2014-04-23\", \"open\": 37.14, \"high\": 37.6, \"low\": 36.4, \"close\": 37.09, \"volume\": 14649452, \"Name\": \"AAL\", \"year\": 2014, \"open1\": 37.14, \"open2\": 1379.3796, \"open3\": 51230.158344, \"open4\": 1902688.08089616, \"open5\": 70665835.3244834}, {\"date\": \"2014-04-24\", \"open\": 37.84, \"high\": 38.24, \"low\": 35.8, \"close\": 37.26, \"volume\": 21038719, \"Name\": \"AAL\", \"year\": 2014, \"open1\": 37.84, \"open2\": 1431.8656000000003, \"open3\": 54181.79430400002, \"open4\": 2050239.0964633608, \"open5\": 77581047.41017358}, {\"date\": \"2014-04-25\", \"open\": 37.0, \"high\": 37.11, \"low\": 35.91, \"close\": 36.0, \"volume\": 9576404, \"Name\": \"AAL\", \"year\": 2014, \"open1\": 37.0, \"open2\": 1369.0, \"open3\": 50653.0, \"open4\": 1874161.0, \"open5\": 69343957.0}, {\"date\": \"2014-04-28\", \"open\": 36.41, \"high\": 36.72, \"low\": 34.34, \"close\": 35.16, \"volume\": 13149281, \"Name\": \"AAL\", \"year\": 2014, \"open1\": 36.41, \"open2\": 1325.6880999999998, \"open3\": 48268.30372099999, \"open4\": 1757448.9384816093, \"open5\": 63988715.85011539}, {\"date\": \"2014-04-29\", \"open\": 35.2, \"high\": 35.65, \"low\": 34.97, \"close\": 35.51, \"volume\": 8994998, \"Name\": \"AAL\", \"year\": 2014, \"open1\": 35.2, \"open2\": 1239.0400000000002, \"open3\": 43614.20800000001, \"open4\": 1535220.1216000004, \"open5\": 54039748.28032002}, {\"date\": \"2014-04-30\", \"open\": 35.68, \"high\": 35.88, \"low\": 34.89, \"close\": 35.07, \"volume\": 6946491, \"Name\": \"AAL\", \"year\": 2014, \"open1\": 35.68, \"open2\": 1273.0624, \"open3\": 45422.866432, \"open4\": 1620687.87429376, \"open5\": 57826143.35480136}, {\"date\": \"2014-05-01\", \"open\": 35.86, \"high\": 36.7, \"low\": 35.465, \"close\": 36.39, \"volume\": 11502084, \"Name\": \"AAL\", \"year\": 2014, \"open1\": 35.86, \"open2\": 1285.9396, \"open3\": 46113.794056, \"open4\": 1653640.65484816, \"open5\": 59299553.88285501}, {\"date\": \"2014-05-02\", \"open\": 36.27, \"high\": 36.715, \"low\": 36.06, \"close\": 36.49, \"volume\": 6987195, \"Name\": \"AAL\", \"year\": 2014, \"open1\": 36.27, \"open2\": 1315.5129000000002, \"open3\": 47713.65288300001, \"open4\": 1730574.1900664107, \"open5\": 62767925.87370872}, {\"date\": \"2014-05-05\", \"open\": 36.08, \"high\": 36.78, \"low\": 35.79, \"close\": 36.6, \"volume\": 5819281, \"Name\": \"AAL\", \"year\": 2014, \"open1\": 36.08, \"open2\": 1301.7664, \"open3\": 46967.73171199999, \"open4\": 1694595.7601689596, \"open5\": 61141015.02689606}, {\"date\": \"2014-05-06\", \"open\": 37.14, \"high\": 37.4, \"low\": 36.39, \"close\": 36.67, \"volume\": 9492604, \"Name\": \"AAL\", \"year\": 2014, \"open1\": 37.14, \"open2\": 1379.3796, \"open3\": 51230.158344, \"open4\": 1902688.08089616, \"open5\": 70665835.3244834}, {\"date\": \"2014-05-07\", \"open\": 36.53, \"high\": 37.31, \"low\": 36.31, \"close\": 37.22, \"volume\": 7800951, \"Name\": \"AAL\", \"year\": 2014, \"open1\": 36.53, \"open2\": 1334.4409, \"open3\": 48747.12607700001, \"open4\": 1780732.5155928102, \"open5\": 65050158.79460536}, {\"date\": \"2014-05-08\", \"open\": 37.25, \"high\": 38.25, \"low\": 37.05, \"close\": 38.25, \"volume\": 14451109, \"Name\": \"AAL\", \"year\": 2014, \"open1\": 37.25, \"open2\": 1387.5625, \"open3\": 51686.703125, \"open4\": 1925329.69140625, \"open5\": 71718531.00488281}, {\"date\": \"2014-05-09\", \"open\": 37.96, \"high\": 38.7, \"low\": 37.91, \"close\": 38.26, \"volume\": 9704405, \"Name\": \"AAL\", \"year\": 2014, \"open1\": 37.96, \"open2\": 1440.9616, \"open3\": 54698.90233600001, \"open4\": 2076370.3326745601, \"open5\": 78819017.8283263}, {\"date\": \"2014-05-12\", \"open\": 38.35, \"high\": 39.49, \"low\": 38.35, \"close\": 39.39, \"volume\": 12440659, \"Name\": \"AAL\", \"year\": 2014, \"open1\": 38.35, \"open2\": 1470.7225, \"open3\": 56402.20787500001, \"open4\": 2163024.6720062504, \"open5\": 82951996.1714397}, {\"date\": \"2014-05-13\", \"open\": 38.95, \"high\": 39.74, \"low\": 38.85, \"close\": 39.31, \"volume\": 8680113, \"Name\": \"AAL\", \"year\": 2014, \"open1\": 38.95, \"open2\": 1517.1025000000002, \"open3\": 59091.14237500001, \"open4\": 2301599.9955062508, \"open5\": 89647319.82496847}, {\"date\": \"2014-05-14\", \"open\": 39.08, \"high\": 39.24, \"low\": 38.56, \"close\": 38.84, \"volume\": 7993886, \"Name\": \"AAL\", \"year\": 2014, \"open1\": 39.08, \"open2\": 1527.2463999999998, \"open3\": 59684.78931199999, \"open4\": 2332481.5663129594, \"open5\": 91153379.61151046}, {\"date\": \"2014-05-15\", \"open\": 38.55, \"high\": 38.73, \"low\": 37.48, \"close\": 38.19, \"volume\": 10677177, \"Name\": \"AAL\", \"year\": 2014, \"open1\": 38.55, \"open2\": 1486.1024999999997, \"open3\": 57289.251374999985, \"open4\": 2208500.6405062494, \"open5\": 85137699.69151591}, {\"date\": \"2014-05-16\", \"open\": 38.01, \"high\": 38.68, \"low\": 37.76, \"close\": 38.525, \"volume\": 7062948, \"Name\": \"AAL\", \"year\": 2014, \"open1\": 38.01, \"open2\": 1444.7600999999997, \"open3\": 54915.33140099999, \"open4\": 2087331.7465520096, \"open5\": 79339479.68644188}, {\"date\": \"2014-05-19\", \"open\": 38.49, \"high\": 39.1601, \"low\": 38.1, \"close\": 38.57, \"volume\": 7165081, \"Name\": \"AAL\", \"year\": 2014, \"open1\": 38.49, \"open2\": 1481.4801000000002, \"open3\": 57022.16904900001, \"open4\": 2194783.2866960103, \"open5\": 84477208.70492944}, {\"date\": \"2014-05-20\", \"open\": 38.54, \"high\": 38.88, \"low\": 38.02, \"close\": 38.24, \"volume\": 6285855, \"Name\": \"AAL\", \"year\": 2014, \"open1\": 38.54, \"open2\": 1485.3316, \"open3\": 57244.679864, \"open4\": 2206209.9619585597, \"open5\": 85027331.93388289}, {\"date\": \"2014-05-21\", \"open\": 38.28, \"high\": 38.85, \"low\": 38.05, \"close\": 38.32, \"volume\": 6565390, \"Name\": \"AAL\", \"year\": 2014, \"open1\": 38.28, \"open2\": 1465.3584, \"open3\": 56093.91955200001, \"open4\": 2147275.24045056, \"open5\": 82197696.20444745}, {\"date\": \"2014-05-22\", \"open\": 38.3, \"high\": 38.88, \"low\": 38.3, \"close\": 38.72, \"volume\": 6414652, \"Name\": \"AAL\", \"year\": 2014, \"open1\": 38.3, \"open2\": 1466.8899999999999, \"open3\": 56181.88699999999, \"open4\": 2151766.2720999992, \"open5\": 82412648.22142997}, {\"date\": \"2014-05-23\", \"open\": 38.53, \"high\": 39.5, \"low\": 38.53, \"close\": 39.11, \"volume\": 9865965, \"Name\": \"AAL\", \"year\": 2014, \"open1\": 38.53, \"open2\": 1484.5609000000002, \"open3\": 57200.131477, \"open4\": 2203921.0658088103, \"open5\": 84917078.66561346}, {\"date\": \"2014-05-27\", \"open\": 39.38, \"high\": 39.93, \"low\": 39.23, \"close\": 39.35, \"volume\": 9586877, \"Name\": \"AAL\", \"year\": 2014, \"open1\": 39.38, \"open2\": 1550.7844000000002, \"open3\": 61069.88967200001, \"open4\": 2404932.255283361, \"open5\": 94706232.21305875}, {\"date\": \"2014-05-28\", \"open\": 39.4, \"high\": 40.33, \"low\": 39.19, \"close\": 39.8, \"volume\": 11133508, \"Name\": \"AAL\", \"year\": 2014, \"open1\": 39.4, \"open2\": 1552.36, \"open3\": 61162.984, \"open4\": 2409821.5695999996, \"open5\": 94946969.84223998}, {\"date\": \"2014-05-29\", \"open\": 39.89, \"high\": 40.27, \"low\": 39.36, \"close\": 39.82, \"volume\": 9668210, \"Name\": \"AAL\", \"year\": 2014, \"open1\": 39.89, \"open2\": 1591.2121, \"open3\": 63473.450669000005, \"open4\": 2531955.94718641, \"open5\": 100999722.7332659}, {\"date\": \"2014-05-30\", \"open\": 39.83, \"high\": 40.175, \"low\": 39.68, \"close\": 40.16, \"volume\": 13888723, \"Name\": \"AAL\", \"year\": 2014, \"open1\": 39.83, \"open2\": 1586.4288999999999, \"open3\": 63187.46308699999, \"open4\": 2516756.6547552096, \"open5\": 100242417.5589}, {\"date\": \"2014-06-02\", \"open\": 40.0, \"high\": 41.25, \"low\": 40.0, \"close\": 41.22, \"volume\": 9906030, \"Name\": \"AAL\", \"year\": 2014, \"open1\": 40.0, \"open2\": 1600.0, \"open3\": 64000.0, \"open4\": 2560000.0, \"open5\": 102400000.0}, {\"date\": \"2014-06-03\", \"open\": 41.13, \"high\": 42.09, \"low\": 41.1103, \"close\": 41.44, \"volume\": 9460202, \"Name\": \"AAL\", \"year\": 2014, \"open1\": 41.13, \"open2\": 1691.6769000000002, \"open3\": 69578.67089700002, \"open4\": 2861770.733993611, \"open5\": 117704630.28915721}, {\"date\": \"2014-06-04\", \"open\": 41.36, \"high\": 42.9, \"low\": 41.2, \"close\": 42.82, \"volume\": 11934666, \"Name\": \"AAL\", \"year\": 2014, \"open1\": 41.36, \"open2\": 1710.6496, \"open3\": 70752.467456, \"open4\": 2926322.05398016, \"open5\": 121032680.1526194}, {\"date\": \"2014-06-05\", \"open\": 43.0, \"high\": 43.49, \"low\": 42.27, \"close\": 42.41, \"volume\": 8543065, \"Name\": \"AAL\", \"year\": 2014, \"open1\": 43.0, \"open2\": 1849.0, \"open3\": 79507.0, \"open4\": 3418801.0, \"open5\": 147008443.0}, {\"date\": \"2014-06-06\", \"open\": 42.45, \"high\": 43.92, \"low\": 42.42, \"close\": 43.88, \"volume\": 13616388, \"Name\": \"AAL\", \"year\": 2014, \"open1\": 42.45, \"open2\": 1802.0025000000003, \"open3\": 76495.00612500001, \"open4\": 3247213.010006251, \"open5\": 137844192.27476537}, {\"date\": \"2014-06-09\", \"open\": 44.0, \"high\": 44.43, \"low\": 43.07, \"close\": 43.59, \"volume\": 11689566, \"Name\": \"AAL\", \"year\": 2014, \"open1\": 44.0, \"open2\": 1936.0, \"open3\": 85184.0, \"open4\": 3748096.0, \"open5\": 164916224.0}, {\"date\": \"2014-06-10\", \"open\": 43.5, \"high\": 43.86, \"low\": 42.93, \"close\": 43.66, \"volume\": 8384472, \"Name\": \"AAL\", \"year\": 2014, \"open1\": 43.5, \"open2\": 1892.25, \"open3\": 82312.875, \"open4\": 3580610.0625, \"open5\": 155756537.71875}, {\"date\": \"2014-06-11\", \"open\": 42.9, \"high\": 43.29, \"low\": 42.03, \"close\": 42.29, \"volume\": 13185059, \"Name\": \"AAL\", \"year\": 2014, \"open1\": 42.9, \"open2\": 1840.4099999999999, \"open3\": 78953.58899999999, \"open4\": 3387108.9680999997, \"open5\": 145306974.73149}, {\"date\": \"2014-06-12\", \"open\": 41.27, \"high\": 41.41, \"low\": 38.855, \"close\": 40.2, \"volume\": 37320111, \"Name\": \"AAL\", \"year\": 2014, \"open1\": 41.27, \"open2\": 1703.2129000000002, \"open3\": 70291.59638300001, \"open4\": 2900934.1827264107, \"open5\": 119721553.72111899}, {\"date\": \"2014-06-13\", \"open\": 40.25, \"high\": 40.925, \"low\": 39.55, \"close\": 40.38, \"volume\": 13594153, \"Name\": \"AAL\", \"year\": 2014, \"open1\": 40.25, \"open2\": 1620.0625, \"open3\": 65207.515625, \"open4\": 2624602.50390625, \"open5\": 105640250.78222656}, {\"date\": \"2014-06-16\", \"open\": 39.68, \"high\": 41.29, \"low\": 39.67, \"close\": 41.06, \"volume\": 13634011, \"Name\": \"AAL\", \"year\": 2014, \"open1\": 39.68, \"open2\": 1574.5024, \"open3\": 62476.255231999996, \"open4\": 2479057.8076057597, \"open5\": 98369013.80579655}, {\"date\": \"2014-06-17\", \"open\": 41.08, \"high\": 42.19, \"low\": 40.76, \"close\": 41.87, \"volume\": 12527641, \"Name\": \"AAL\", \"year\": 2014, \"open1\": 41.08, \"open2\": 1687.5664, \"open3\": 69325.22771199999, \"open4\": 2847880.3544089594, \"open5\": 116990924.95912005}, {\"date\": \"2014-06-18\", \"open\": 41.93, \"high\": 42.82, \"low\": 41.57, \"close\": 42.66, \"volume\": 11250953, \"Name\": \"AAL\", \"year\": 2014, \"open1\": 41.93, \"open2\": 1758.1249, \"open3\": 73718.177057, \"open4\": 3091003.16400001, \"open5\": 129605762.66652042}, {\"date\": \"2014-06-19\", \"open\": 42.82, \"high\": 43.49, \"low\": 42.66, \"close\": 43.06, \"volume\": 14117100, \"Name\": \"AAL\", \"year\": 2014, \"open1\": 42.82, \"open2\": 1833.5524, \"open3\": 78512.713768, \"open4\": 3361914.40354576, \"open5\": 143957174.75982946}, {\"date\": \"2014-06-20\", \"open\": 43.04, \"high\": 44.55, \"low\": 43.03, \"close\": 44.55, \"volume\": 40644263, \"Name\": \"AAL\", \"year\": 2014, \"open1\": 43.04, \"open2\": 1852.4415999999999, \"open3\": 79729.08646399999, \"open4\": 3431539.8814105596, \"open5\": 147693476.4959105}, {\"date\": \"2014-06-23\", \"open\": 44.3, \"high\": 44.88, \"low\": 43.8, \"close\": 44.36, \"volume\": 18457895, \"Name\": \"AAL\", \"year\": 2014, \"open1\": 44.3, \"open2\": 1962.4899999999998, \"open3\": 86938.30699999999, \"open4\": 3851367.000099999, \"open5\": 170615558.10442993}, {\"date\": \"2014-06-24\", \"open\": 44.14, \"high\": 44.61, \"low\": 42.76, \"close\": 43.179, \"volume\": 13252583, \"Name\": \"AAL\", \"year\": 2014, \"open1\": 44.14, \"open2\": 1948.3396, \"open3\": 85999.709944, \"open4\": 3796027.1969281603, \"open5\": 167556640.47240898}, {\"date\": \"2014-06-25\", \"open\": 42.9, \"high\": 44.0, \"low\": 42.3, \"close\": 43.91, \"volume\": 10944639, \"Name\": \"AAL\", \"year\": 2014, \"open1\": 42.9, \"open2\": 1840.4099999999999, \"open3\": 78953.58899999999, \"open4\": 3387108.9680999997, \"open5\": 145306974.73149}, {\"date\": \"2014-06-26\", \"open\": 43.96, \"high\": 44.6, \"low\": 43.5, \"close\": 44.55, \"volume\": 11175082, \"Name\": \"AAL\", \"year\": 2014, \"open1\": 43.96, \"open2\": 1932.4816, \"open3\": 84951.891136, \"open4\": 3734485.1343385605, \"open5\": 164167966.50552312}, {\"date\": \"2014-06-27\", \"open\": 44.3, \"high\": 44.75, \"low\": 43.91, \"close\": 44.0, \"volume\": 41471585, \"Name\": \"AAL\", \"year\": 2014, \"open1\": 44.3, \"open2\": 1962.4899999999998, \"open3\": 86938.30699999999, \"open4\": 3851367.000099999, \"open5\": 170615558.10442993}, {\"date\": \"2014-06-30\", \"open\": 44.04, \"high\": 44.08, \"low\": 42.83, \"close\": 42.96, \"volume\": 10456585, \"Name\": \"AAL\", \"year\": 2014, \"open1\": 44.04, \"open2\": 1939.5216, \"open3\": 85416.53126399999, \"open4\": 3761744.0368665596, \"open5\": 165667207.38360327}, {\"date\": \"2014-07-01\", \"open\": 43.44, \"high\": 43.9, \"low\": 43.05, \"close\": 43.86, \"volume\": 9165112, \"Name\": \"AAL\", \"year\": 2014, \"open1\": 43.44, \"open2\": 1887.0335999999998, \"open3\": 81972.73958399998, \"open4\": 3560895.807528959, \"open5\": 154685313.87905797}, {\"date\": \"2014-07-02\", \"open\": 42.89, \"high\": 42.95, \"low\": 41.42, \"close\": 41.95, \"volume\": 19747272, \"Name\": \"AAL\", \"year\": 2014, \"open1\": 42.89, \"open2\": 1839.5521, \"open3\": 78898.389569, \"open4\": 3383951.92861441, \"open5\": 145137698.21827206}, {\"date\": \"2014-07-03\", \"open\": 42.61, \"high\": 42.9399, \"low\": 41.4, \"close\": 41.62, \"volume\": 8257974, \"Name\": \"AAL\", \"year\": 2014, \"open1\": 42.61, \"open2\": 1815.6121, \"open3\": 77363.231581, \"open4\": 3296447.29766641, \"open5\": 140461619.35356572}, {\"date\": \"2014-07-07\", \"open\": 41.72, \"high\": 41.72, \"low\": 39.92, \"close\": 40.1, \"volume\": 14227133, \"Name\": \"AAL\", \"year\": 2014, \"open1\": 41.72, \"open2\": 1740.5584, \"open3\": 72616.096448, \"open4\": 3029543.54381056, \"open5\": 126392556.64777654}, {\"date\": \"2014-07-08\", \"open\": 39.14, \"high\": 40.33, \"low\": 37.9, \"close\": 40.26, \"volume\": 26401824, \"Name\": \"AAL\", \"year\": 2014, \"open1\": 39.14, \"open2\": 1531.9396000000002, \"open3\": 59960.115944000005, \"open4\": 2346838.93804816, \"open5\": 91855276.03520499}, {\"date\": \"2014-07-09\", \"open\": 42.08, \"high\": 42.35, \"low\": 40.505, \"close\": 41.985, \"volume\": 20468311, \"Name\": \"AAL\", \"year\": 2014, \"open1\": 42.08, \"open2\": 1770.7263999999998, \"open3\": 74512.16691199999, \"open4\": 3135471.9836569596, \"open5\": 131940661.07228485}, {\"date\": \"2014-07-10\", \"open\": 41.0, \"high\": 42.98, \"low\": 40.771, \"close\": 42.82, \"volume\": 11829169, \"Name\": \"AAL\", \"year\": 2014, \"open1\": 41.0, \"open2\": 1681.0, \"open3\": 68921.0, \"open4\": 2825761.0, \"open5\": 115856201.0}, {\"date\": \"2014-07-11\", \"open\": 42.91, \"high\": 43.23, \"low\": 42.52, \"close\": 42.88, \"volume\": 8135498, \"Name\": \"AAL\", \"year\": 2014, \"open1\": 42.91, \"open2\": 1841.2680999999998, \"open3\": 79008.81417099998, \"open4\": 3390268.216077609, \"open5\": 145476409.1518902}, {\"date\": \"2014-07-14\", \"open\": 43.26, \"high\": 43.59, \"low\": 42.73, \"close\": 42.98, \"volume\": 7215369, \"Name\": \"AAL\", \"year\": 2014, \"open1\": 43.26, \"open2\": 1871.4275999999998, \"open3\": 80957.95797599999, \"open4\": 3502241.262041759, \"open5\": 151506956.9959265}, {\"date\": \"2014-07-15\", \"open\": 43.33, \"high\": 43.73, \"low\": 42.78, \"close\": 43.7, \"volume\": 8360710, \"Name\": \"AAL\", \"year\": 2014, \"open1\": 43.33, \"open2\": 1877.4888999999998, \"open3\": 81351.59403699999, \"open4\": 3524964.5696232095, \"open5\": 152736714.80177367}, {\"date\": \"2014-07-16\", \"open\": 44.0, \"high\": 44.0, \"low\": 43.3, \"close\": 43.48, \"volume\": 6371440, \"Name\": \"AAL\", \"year\": 2014, \"open1\": 44.0, \"open2\": 1936.0, \"open3\": 85184.0, \"open4\": 3748096.0, \"open5\": 164916224.0}, {\"date\": \"2014-07-17\", \"open\": 43.04, \"high\": 43.44, \"low\": 41.65, \"close\": 41.6999, \"volume\": 13919677, \"Name\": \"AAL\", \"year\": 2014, \"open1\": 43.04, \"open2\": 1852.4415999999999, \"open3\": 79729.08646399999, \"open4\": 3431539.8814105596, \"open5\": 147693476.4959105}, {\"date\": \"2014-07-18\", \"open\": 42.23, \"high\": 43.22, \"low\": 42.15, \"close\": 42.9199, \"volume\": 8870098, \"Name\": \"AAL\", \"year\": 2014, \"open1\": 42.23, \"open2\": 1783.3728999999998, \"open3\": 75311.83756699998, \"open4\": 3180418.900454409, \"open5\": 134309090.16618967}, {\"date\": \"2014-07-21\", \"open\": 42.91, \"high\": 42.95, \"low\": 42.25, \"close\": 42.48, \"volume\": 5684272, \"Name\": \"AAL\", \"year\": 2014, \"open1\": 42.91, \"open2\": 1841.2680999999998, \"open3\": 79008.81417099998, \"open4\": 3390268.216077609, \"open5\": 145476409.1518902}, {\"date\": \"2014-07-22\", \"open\": 42.7, \"high\": 42.89, \"low\": 42.15, \"close\": 42.38, \"volume\": 6458469, \"Name\": \"AAL\", \"year\": 2014, \"open1\": 42.7, \"open2\": 1823.2900000000002, \"open3\": 77854.48300000002, \"open4\": 3324386.424100001, \"open5\": 141951300.30907005}, {\"date\": \"2014-07-23\", \"open\": 42.72, \"high\": 43.66, \"low\": 42.65, \"close\": 43.33, \"volume\": 10166698, \"Name\": \"AAL\", \"year\": 2014, \"open1\": 42.72, \"open2\": 1824.9984, \"open3\": 77963.931648, \"open4\": 3330619.1600025594, \"open5\": 142284050.51530933}, {\"date\": \"2014-07-24\", \"open\": 42.5, \"high\": 43.95, \"low\": 41.7, \"close\": 42.16, \"volume\": 18018077, \"Name\": \"AAL\", \"year\": 2014, \"open1\": 42.5, \"open2\": 1806.25, \"open3\": 76765.625, \"open4\": 3262539.0625, \"open5\": 138657910.15625}, {\"date\": \"2014-07-25\", \"open\": 42.25, \"high\": 42.68, \"low\": 41.335, \"close\": 41.68, \"volume\": 10991606, \"Name\": \"AAL\", \"year\": 2014, \"open1\": 42.25, \"open2\": 1785.0625, \"open3\": 75418.890625, \"open4\": 3186448.12890625, \"open5\": 134627433.44628906}, {\"date\": \"2014-07-28\", \"open\": 41.87, \"high\": 41.9495, \"low\": 39.81, \"close\": 40.29, \"volume\": 15941271, \"Name\": \"AAL\", \"year\": 2014, \"open1\": 41.87, \"open2\": 1753.0968999999998, \"open3\": 73402.16720299999, \"open4\": 3073348.740789609, \"open5\": 128681111.77686094}, {\"date\": \"2014-07-29\", \"open\": 40.65, \"high\": 40.85, \"low\": 39.39, \"close\": 39.53, \"volume\": 10719068, \"Name\": \"AAL\", \"year\": 2014, \"open1\": 40.65, \"open2\": 1652.4225, \"open3\": 67170.97462499999, \"open4\": 2730500.1185062495, \"open5\": 110994829.81727904}, {\"date\": \"2014-07-30\", \"open\": 39.9, \"high\": 40.26, \"low\": 39.295, \"close\": 39.55, \"volume\": 10759693, \"Name\": \"AAL\", \"year\": 2014, \"open1\": 39.9, \"open2\": 1592.01, \"open3\": 63521.19899999999, \"open4\": 2534495.8400999997, \"open5\": 101126384.01998998}, {\"date\": \"2014-07-31\", \"open\": 38.9, \"high\": 39.4, \"low\": 38.05, \"close\": 38.85, \"volume\": 13536481, \"Name\": \"AAL\", \"year\": 2014, \"open1\": 38.9, \"open2\": 1513.2099999999998, \"open3\": 58863.86899999999, \"open4\": 2289804.5040999996, \"open5\": 89073395.20948999}, {\"date\": \"2014-08-01\", \"open\": 38.75, \"high\": 39.53, \"low\": 38.43, \"close\": 39.43, \"volume\": 8978315, \"Name\": \"AAL\", \"year\": 2014, \"open1\": 38.75, \"open2\": 1501.5625, \"open3\": 58185.546875, \"open4\": 2254689.94140625, \"open5\": 87369235.22949219}, {\"date\": \"2014-08-04\", \"open\": 39.49, \"high\": 39.85, \"low\": 37.63, \"close\": 38.14, \"volume\": 11092629, \"Name\": \"AAL\", \"year\": 2014, \"open1\": 39.49, \"open2\": 1559.4601000000002, \"open3\": 61583.07934900001, \"open4\": 2431915.8034920106, \"open5\": 96036355.0798995}, {\"date\": \"2014-08-05\", \"open\": 37.89, \"high\": 38.45, \"low\": 36.743, \"close\": 37.18, \"volume\": 10422964, \"Name\": \"AAL\", \"year\": 2014, \"open1\": 37.89, \"open2\": 1435.6521, \"open3\": 54396.858069, \"open4\": 2061096.9522344102, \"open5\": 78094963.52016181}, {\"date\": \"2014-08-06\", \"open\": 36.56, \"high\": 38.0, \"low\": 36.14, \"close\": 37.46, \"volume\": 9501866, \"Name\": \"AAL\", \"year\": 2014, \"open1\": 36.56, \"open2\": 1336.6336000000001, \"open3\": 48867.32441600001, \"open4\": 1786589.3806489604, \"open5\": 65317707.756526}, {\"date\": \"2014-08-07\", \"open\": 37.7, \"high\": 38.41, \"low\": 36.5, \"close\": 36.86, \"volume\": 9886761, \"Name\": \"AAL\", \"year\": 2014, \"open1\": 37.7, \"open2\": 1421.2900000000002, \"open3\": 53582.63300000001, \"open4\": 2020065.2641000005, \"open5\": 76156460.45657003}, {\"date\": \"2014-08-08\", \"open\": 36.56, \"high\": 37.38, \"low\": 35.23, \"close\": 37.18, \"volume\": 20757527, \"Name\": \"AAL\", \"year\": 2014, \"open1\": 36.56, \"open2\": 1336.6336000000001, \"open3\": 48867.32441600001, \"open4\": 1786589.3806489604, \"open5\": 65317707.756526}, {\"date\": \"2014-08-11\", \"open\": 37.79, \"high\": 38.37, \"low\": 37.35, \"close\": 37.97, \"volume\": 9015766, \"Name\": \"AAL\", \"year\": 2014, \"open1\": 37.79, \"open2\": 1428.0841, \"open3\": 53967.298139, \"open4\": 2039424.1966728098, \"open5\": 77069840.39226548}, {\"date\": \"2014-08-12\", \"open\": 38.14, \"high\": 38.14, \"low\": 37.27, \"close\": 37.52, \"volume\": 6224836, \"Name\": \"AAL\", \"year\": 2014, \"open1\": 38.14, \"open2\": 1454.6596, \"open3\": 55480.717144, \"open4\": 2116034.5518721603, \"open5\": 80705557.80840419}, {\"date\": \"2014-08-13\", \"open\": 37.64, \"high\": 38.46, \"low\": 37.44, \"close\": 38.12, \"volume\": 6176947, \"Name\": \"AAL\", \"year\": 2014, \"open1\": 37.64, \"open2\": 1416.7696, \"open3\": 53327.207744, \"open4\": 2007236.09948416, \"open5\": 75552366.78458379}, {\"date\": \"2014-08-14\", \"open\": 38.5, \"high\": 39.61, \"low\": 38.46, \"close\": 39.57, \"volume\": 10132481, \"Name\": \"AAL\", \"year\": 2014, \"open1\": 38.5, \"open2\": 1482.25, \"open3\": 57066.625, \"open4\": 2197065.0625, \"open5\": 84587004.90625}, {\"date\": \"2014-08-15\", \"open\": 39.98, \"high\": 40.0799, \"low\": 38.79, \"close\": 39.19, \"volume\": 9812047, \"Name\": \"AAL\", \"year\": 2014, \"open1\": 39.98, \"open2\": 1598.4003999999998, \"open3\": 63904.047991999985, \"open4\": 2554883.838720159, \"open5\": 102144255.87203196}, {\"date\": \"2014-08-18\", \"open\": 39.6, \"high\": 40.9, \"low\": 39.6, \"close\": 40.66, \"volume\": 10902850, \"Name\": \"AAL\", \"year\": 2014, \"open1\": 39.6, \"open2\": 1568.16, \"open3\": 62099.136000000006, \"open4\": 2459125.7856000005, \"open5\": 97381381.10976002}, {\"date\": \"2014-08-19\", \"open\": 40.96, \"high\": 41.0, \"low\": 40.26, \"close\": 40.43, \"volume\": 5819609, \"Name\": \"AAL\", \"year\": 2014, \"open1\": 40.96, \"open2\": 1677.7216, \"open3\": 68719.47673600001, \"open4\": 2814749.76710656, \"open5\": 115292150.46068472}, {\"date\": \"2014-08-20\", \"open\": 40.4, \"high\": 40.8, \"low\": 40.03, \"close\": 40.6, \"volume\": 6506835, \"Name\": \"AAL\", \"year\": 2014, \"open1\": 40.4, \"open2\": 1632.1599999999999, \"open3\": 65939.264, \"open4\": 2663946.2655999996, \"open5\": 107623429.13023998}, {\"date\": \"2014-08-21\", \"open\": 40.75, \"high\": 40.85, \"low\": 39.445, \"close\": 39.51, \"volume\": 8155816, \"Name\": \"AAL\", \"year\": 2014, \"open1\": 40.75, \"open2\": 1660.5625, \"open3\": 67667.921875, \"open4\": 2757467.81640625, \"open5\": 112366813.51855469}, {\"date\": \"2014-08-22\", \"open\": 39.6, \"high\": 40.21, \"low\": 39.5501, \"close\": 39.85, \"volume\": 5773533, \"Name\": \"AAL\", \"year\": 2014, \"open1\": 39.6, \"open2\": 1568.16, \"open3\": 62099.136000000006, \"open4\": 2459125.7856000005, \"open5\": 97381381.10976002}, {\"date\": \"2014-08-25\", \"open\": 40.23, \"high\": 40.28, \"low\": 39.4, \"close\": 39.42, \"volume\": 7075596, \"Name\": \"AAL\", \"year\": 2014, \"open1\": 40.23, \"open2\": 1618.4528999999998, \"open3\": 65110.360166999984, \"open4\": 2619389.7895184094, \"open5\": 105378051.2323256}, {\"date\": \"2014-08-26\", \"open\": 39.55, \"high\": 39.75, \"low\": 39.07, \"close\": 39.09, \"volume\": 5733286, \"Name\": \"AAL\", \"year\": 2014, \"open1\": 39.55, \"open2\": 1564.2024999999999, \"open3\": 61864.20887499999, \"open4\": 2446729.4610062493, \"open5\": 96768150.18279715}, {\"date\": \"2014-08-27\", \"open\": 39.36, \"high\": 39.4, \"low\": 38.68, \"close\": 38.99, \"volume\": 6457332, \"Name\": \"AAL\", \"year\": 2014, \"open1\": 39.36, \"open2\": 1549.2096, \"open3\": 60976.889855999994, \"open4\": 2400050.38473216, \"open5\": 94465983.14305781}, {\"date\": \"2014-08-28\", \"open\": 38.71, \"high\": 39.4, \"low\": 38.7, \"close\": 39.17, \"volume\": 3888975, \"Name\": \"AAL\", \"year\": 2014, \"open1\": 38.71, \"open2\": 1498.4641000000001, \"open3\": 58005.545311, \"open4\": 2245394.65898881, \"open5\": 86919227.24945684}, {\"date\": \"2014-08-29\", \"open\": 39.1, \"high\": 39.35, \"low\": 38.36, \"close\": 38.881, \"volume\": 6648785, \"Name\": \"AAL\", \"year\": 2014, \"open1\": 39.1, \"open2\": 1528.8100000000002, \"open3\": 59776.471000000005, \"open4\": 2337260.0161, \"open5\": 91386866.62951002}, {\"date\": \"2014-09-02\", \"open\": 39.0, \"high\": 40.54, \"low\": 38.89, \"close\": 40.5, \"volume\": 10934400, \"Name\": \"AAL\", \"year\": 2014, \"open1\": 39.0, \"open2\": 1521.0, \"open3\": 59319.0, \"open4\": 2313441.0, \"open5\": 90224199.0}, {\"date\": \"2014-09-03\", \"open\": 39.73, \"high\": 39.9, \"low\": 38.67, \"close\": 39.14, \"volume\": 9997418, \"Name\": \"AAL\", \"year\": 2014, \"open1\": 39.73, \"open2\": 1578.4728999999998, \"open3\": 62712.72831699999, \"open4\": 2491576.696034409, \"open5\": 98990342.13344707}, {\"date\": \"2014-09-04\", \"open\": 39.37, \"high\": 39.98, \"low\": 38.36, \"close\": 38.47, \"volume\": 12007001, \"Name\": \"AAL\", \"year\": 2014, \"open1\": 39.37, \"open2\": 1549.9968999999999, \"open3\": 61023.37795299999, \"open4\": 2402490.3900096095, \"open5\": 94586046.65467831}, {\"date\": \"2014-09-05\", \"open\": 38.51, \"high\": 38.71, \"low\": 37.71, \"close\": 37.85, \"volume\": 12070387, \"Name\": \"AAL\", \"year\": 2014, \"open1\": 38.51, \"open2\": 1483.0201, \"open3\": 57111.10405099999, \"open4\": 2199348.6170040094, \"open5\": 84696915.2408244}, {\"date\": \"2014-09-08\", \"open\": 37.96, \"high\": 38.4, \"low\": 37.96, \"close\": 38.23, \"volume\": 7348230, \"Name\": \"AAL\", \"year\": 2014, \"open1\": 37.96, \"open2\": 1440.9616, \"open3\": 54698.90233600001, \"open4\": 2076370.3326745601, \"open5\": 78819017.8283263}, {\"date\": \"2014-09-09\", \"open\": 37.63, \"high\": 38.68, \"low\": 37.38, \"close\": 37.96, \"volume\": 9102068, \"Name\": \"AAL\", \"year\": 2014, \"open1\": 37.63, \"open2\": 1416.0169000000003, \"open3\": 53284.71594700001, \"open4\": 2005103.8610856105, \"open5\": 75452058.29265153}, {\"date\": \"2014-09-10\", \"open\": 37.93, \"high\": 38.87, \"low\": 37.91, \"close\": 38.58, \"volume\": 8111323, \"Name\": \"AAL\", \"year\": 2014, \"open1\": 37.93, \"open2\": 1438.6849, \"open3\": 54569.318257, \"open4\": 2069814.24148801, \"open5\": 78508054.17964022}, {\"date\": \"2014-09-11\", \"open\": 38.73, \"high\": 39.04, \"low\": 37.93, \"close\": 38.09, \"volume\": 10067719, \"Name\": \"AAL\", \"year\": 2014, \"open1\": 38.73, \"open2\": 1500.0128999999997, \"open3\": 58095.49961699999, \"open4\": 2250038.7001664094, \"open5\": 87143998.85744503}, {\"date\": \"2014-09-12\", \"open\": 38.09, \"high\": 38.51, \"low\": 37.63, \"close\": 37.65, \"volume\": 8233283, \"Name\": \"AAL\", \"year\": 2014, \"open1\": 38.09, \"open2\": 1450.8481000000002, \"open3\": 55262.80412900002, \"open4\": 2104960.2092736107, \"open5\": 80177934.37123184}, {\"date\": \"2014-09-15\", \"open\": 37.6, \"high\": 37.8, \"low\": 36.84, \"close\": 37.07, \"volume\": 7954304, \"Name\": \"AAL\", \"year\": 2014, \"open1\": 37.6, \"open2\": 1413.7600000000002, \"open3\": 53157.376000000004, \"open4\": 1998717.3376000002, \"open5\": 75151771.89376001}, {\"date\": \"2014-09-16\", \"open\": 37.0, \"high\": 38.01, \"low\": 36.81, \"close\": 37.98, \"volume\": 6724333, \"Name\": \"AAL\", \"year\": 2014, \"open1\": 37.0, \"open2\": 1369.0, \"open3\": 50653.0, \"open4\": 1874161.0, \"open5\": 69343957.0}, {\"date\": \"2014-09-17\", \"open\": 37.92, \"high\": 38.24, \"low\": 37.04, \"close\": 37.46, \"volume\": 6684347, \"Name\": \"AAL\", \"year\": 2014, \"open1\": 37.92, \"open2\": 1437.9264, \"open3\": 54526.16908800001, \"open4\": 2067632.3318169604, \"open5\": 78404618.02249914}, {\"date\": \"2014-09-18\", \"open\": 37.7, \"high\": 38.11, \"low\": 37.6, \"close\": 38.05, \"volume\": 4556264, \"Name\": \"AAL\", \"year\": 2014, \"open1\": 37.7, \"open2\": 1421.2900000000002, \"open3\": 53582.63300000001, \"open4\": 2020065.2641000005, \"open5\": 76156460.45657003}, {\"date\": \"2014-09-19\", \"open\": 38.06, \"high\": 38.25, \"low\": 36.63, \"close\": 36.63, \"volume\": 17592703, \"Name\": \"AAL\", \"year\": 2014, \"open1\": 38.06, \"open2\": 1448.5636000000002, \"open3\": 55132.33061600001, \"open4\": 2098336.5032449607, \"open5\": 79862687.3135032}, {\"date\": \"2014-09-22\", \"open\": 37.0, \"high\": 37.0, \"low\": 35.44, \"close\": 35.58, \"volume\": 10968997, \"Name\": \"AAL\", \"year\": 2014, \"open1\": 37.0, \"open2\": 1369.0, \"open3\": 50653.0, \"open4\": 1874161.0, \"open5\": 69343957.0}, {\"date\": \"2014-09-23\", \"open\": 35.04, \"high\": 35.77, \"low\": 34.64, \"close\": 35.33, \"volume\": 12149378, \"Name\": \"AAL\", \"year\": 2014, \"open1\": 35.04, \"open2\": 1227.8016, \"open3\": 43022.168064, \"open4\": 1507496.7689625598, \"open5\": 52822686.784448095}, {\"date\": \"2014-09-24\", \"open\": 35.47, \"high\": 36.34, \"low\": 35.18, \"close\": 36.12, \"volume\": 8491863, \"Name\": \"AAL\", \"year\": 2014, \"open1\": 35.47, \"open2\": 1258.1209, \"open3\": 44625.548322999995, \"open4\": 1582868.1990168097, \"open5\": 56144335.019126244}, {\"date\": \"2014-09-25\", \"open\": 35.88, \"high\": 35.98, \"low\": 34.865, \"close\": 35.21, \"volume\": 10934832, \"Name\": \"AAL\", \"year\": 2014, \"open1\": 35.88, \"open2\": 1287.3744000000002, \"open3\": 46190.99347200001, \"open4\": 1657332.8457753605, \"open5\": 59465102.506419934}, {\"date\": \"2014-09-26\", \"open\": 35.25, \"high\": 36.12, \"low\": 35.02, \"close\": 35.93, \"volume\": 8515487, \"Name\": \"AAL\", \"year\": 2014, \"open1\": 35.25, \"open2\": 1242.5625, \"open3\": 43800.328125, \"open4\": 1543961.56640625, \"open5\": 54424645.21582031}, {\"date\": \"2014-09-29\", \"open\": 35.35, \"high\": 35.75, \"low\": 34.94, \"close\": 35.03, \"volume\": 7492228, \"Name\": \"AAL\", \"year\": 2014, \"open1\": 35.35, \"open2\": 1249.6225000000002, \"open3\": 44174.155375, \"open4\": 1561556.3925062502, \"open5\": 55201018.47509595}, {\"date\": \"2014-09-30\", \"open\": 35.05, \"high\": 35.85, \"low\": 34.34, \"close\": 35.48, \"volume\": 10657887, \"Name\": \"AAL\", \"year\": 2014, \"open1\": 35.05, \"open2\": 1228.5024999999998, \"open3\": 43059.01262499999, \"open4\": 1509218.3925062495, \"open5\": 52898104.65734404}, {\"date\": \"2014-10-01\", \"open\": 34.72, \"high\": 34.94, \"low\": 33.85, \"close\": 34.39, \"volume\": 19453289, \"Name\": \"AAL\", \"year\": 2014, \"open1\": 34.72, \"open2\": 1205.4784, \"open3\": 41854.21004799999, \"open4\": 1453178.1728665598, \"open5\": 50454346.161926955}, {\"date\": \"2014-10-02\", \"open\": 34.47, \"high\": 35.38, \"low\": 33.51, \"close\": 33.93, \"volume\": 21482153, \"Name\": \"AAL\", \"year\": 2014, \"open1\": 34.47, \"open2\": 1188.1808999999998, \"open3\": 40956.595622999994, \"open4\": 1411773.8511248098, \"open5\": 48663844.648272194}, {\"date\": \"2014-10-03\", \"open\": 34.66, \"high\": 36.32, \"low\": 34.61, \"close\": 36.23, \"volume\": 15081075, \"Name\": \"AAL\", \"year\": 2014, \"open1\": 34.66, \"open2\": 1201.3155999999997, \"open3\": 41637.59869599999, \"open4\": 1443159.1708033595, \"open5\": 50019896.860044435}, {\"date\": \"2014-10-06\", \"open\": 36.31, \"high\": 36.5, \"low\": 34.86, \"close\": 34.93, \"volume\": 12794164, \"Name\": \"AAL\", \"year\": 2014, \"open1\": 36.31, \"open2\": 1318.4161000000001, \"open3\": 47871.688591000006, \"open4\": 1738221.0127392104, \"open5\": 63114804.97256073}, {\"date\": \"2014-10-07\", \"open\": 34.75, \"high\": 35.02, \"low\": 34.06, \"close\": 34.09, \"volume\": 10032531, \"Name\": \"AAL\", \"year\": 2014, \"open1\": 34.75, \"open2\": 1207.5625, \"open3\": 41962.796875, \"open4\": 1458207.19140625, \"open5\": 50672699.90136719}, {\"date\": \"2014-10-08\", \"open\": 34.53, \"high\": 34.55, \"low\": 32.6, \"close\": 33.0, \"volume\": 22753612, \"Name\": \"AAL\", \"year\": 2014, \"open1\": 34.53, \"open2\": 1192.3209000000002, \"open3\": 41170.84067700001, \"open4\": 1421629.1285768102, \"open5\": 49088853.809757255}, {\"date\": \"2014-10-09\", \"open\": 33.5, \"high\": 33.7, \"low\": 31.94, \"close\": 31.98, \"volume\": 22639564, \"Name\": \"AAL\", \"year\": 2014, \"open1\": 33.5, \"open2\": 1122.25, \"open3\": 37595.375, \"open4\": 1259445.0625, \"open5\": 42191409.59375}, {\"date\": \"2014-10-10\", \"open\": 31.55, \"high\": 32.25, \"low\": 29.78, \"close\": 30.78, \"volume\": 31018666, \"Name\": \"AAL\", \"year\": 2014, \"open1\": 31.55, \"open2\": 995.4025, \"open3\": 31404.948875000002, \"open4\": 990826.1370062501, \"open5\": 31260564.62254719}, {\"date\": \"2014-10-13\", \"open\": 31.07, \"high\": 31.39, \"low\": 28.1, \"close\": 28.58, \"volume\": 34532913, \"Name\": \"AAL\", \"year\": 2014, \"open1\": 31.07, \"open2\": 965.3449, \"open3\": 29993.266043, \"open4\": 931890.77595601, \"open5\": 28953846.40895323}, {\"date\": \"2014-10-14\", \"open\": 29.29, \"high\": 32.18, \"low\": 29.28, \"close\": 31.51, \"volume\": 28145226, \"Name\": \"AAL\", \"year\": 2014, \"open1\": 29.29, \"open2\": 857.9041, \"open3\": 25128.011088999996, \"open4\": 735999.4447968099, \"open5\": 21557423.73809856}, {\"date\": \"2014-10-15\", \"open\": 30.22, \"high\": 32.62, \"low\": 29.4925, \"close\": 31.69, \"volume\": 39941285, \"Name\": \"AAL\", \"year\": 2014, \"open1\": 30.22, \"open2\": 913.2484, \"open3\": 27598.366647999996, \"open4\": 834022.6401025598, \"open5\": 25204164.183899358}, {\"date\": \"2014-10-16\", \"open\": 30.63, \"high\": 33.4, \"low\": 30.0, \"close\": 32.97, \"volume\": 24987103, \"Name\": \"AAL\", \"year\": 2014, \"open1\": 30.63, \"open2\": 938.1968999999999, \"open3\": 28736.971046999995, \"open4\": 880213.4231696099, \"open5\": 26960937.15168515}, {\"date\": \"2014-10-17\", \"open\": 33.88, \"high\": 34.34, \"low\": 32.81, \"close\": 33.38, \"volume\": 16009738, \"Name\": \"AAL\", \"year\": 2014, \"open1\": 33.88, \"open2\": 1147.8544000000002, \"open3\": 38889.30707200001, \"open4\": 1317569.7235993603, \"open5\": 44639262.235546336}, {\"date\": \"2014-10-20\", \"open\": 34.19, \"high\": 35.39, \"low\": 34.0009, \"close\": 35.22, \"volume\": 13532715, \"Name\": \"AAL\", \"year\": 2014, \"open1\": 34.19, \"open2\": 1168.9560999999999, \"open3\": 39966.609058999995, \"open4\": 1366458.3637272096, \"open5\": 46719211.45583329}, {\"date\": \"2014-10-21\", \"open\": 36.14, \"high\": 37.88, \"low\": 36.02, \"close\": 37.85, \"volume\": 26347743, \"Name\": \"AAL\", \"year\": 2014, \"open1\": 36.14, \"open2\": 1306.0996, \"open3\": 47202.439544, \"open4\": 1705896.1651201602, \"open5\": 61651087.407442585}, {\"date\": \"2014-10-22\", \"open\": 38.05, \"high\": 38.22, \"low\": 36.94, \"close\": 37.04, \"volume\": 18958406, \"Name\": \"AAL\", \"year\": 2014, \"open1\": 38.05, \"open2\": 1447.8024999999998, \"open3\": 55088.885124999986, \"open4\": 2096132.0790062493, \"open5\": 79757825.60618778}, {\"date\": \"2014-10-23\", \"open\": 37.43, \"high\": 40.18, \"low\": 36.8, \"close\": 38.48, \"volume\": 33292004, \"Name\": \"AAL\", \"year\": 2014, \"open1\": 37.43, \"open2\": 1401.0049, \"open3\": 52439.613407, \"open4\": 1962814.72982401, \"open5\": 73468155.3373127}, {\"date\": \"2014-10-24\", \"open\": 38.6, \"high\": 39.95, \"low\": 38.58, \"close\": 39.82, \"volume\": 17834118, \"Name\": \"AAL\", \"year\": 2014, \"open1\": 38.6, \"open2\": 1489.96, \"open3\": 57512.456000000006, \"open4\": 2219980.8016000004, \"open5\": 85691258.94176002}, {\"date\": \"2014-10-27\", \"open\": 39.6, \"high\": 40.4, \"low\": 39.29, \"close\": 39.91, \"volume\": 13355207, \"Name\": \"AAL\", \"year\": 2014, \"open1\": 39.6, \"open2\": 1568.16, \"open3\": 62099.136000000006, \"open4\": 2459125.7856000005, \"open5\": 97381381.10976002}, {\"date\": \"2014-10-28\", \"open\": 40.11, \"high\": 40.757, \"low\": 39.75, \"close\": 40.24, \"volume\": 12193479, \"Name\": \"AAL\", \"year\": 2014, \"open1\": 40.11, \"open2\": 1608.8120999999999, \"open3\": 64529.453331, \"open4\": 2588276.37310641, \"open5\": 103815765.3252981}, {\"date\": \"2014-10-29\", \"open\": 40.07, \"high\": 40.4, \"low\": 39.245, \"close\": 39.94, \"volume\": 15784094, \"Name\": \"AAL\", \"year\": 2014, \"open1\": 40.07, \"open2\": 1605.6049, \"open3\": 64336.588343, \"open4\": 2577967.09490401, \"open5\": 103299141.49280368}, {\"date\": \"2014-10-30\", \"open\": 39.91, \"high\": 40.69, \"low\": 39.62, \"close\": 40.3, \"volume\": 10566622, \"Name\": \"AAL\", \"year\": 2014, \"open1\": 39.91, \"open2\": 1592.8080999999997, \"open3\": 63568.97127099998, \"open4\": 2537037.643425609, \"open5\": 101253172.34911606}, {\"date\": \"2014-10-31\", \"open\": 41.1, \"high\": 41.75, \"low\": 40.8, \"close\": 41.35, \"volume\": 13012634, \"Name\": \"AAL\", \"year\": 2014, \"open1\": 41.1, \"open2\": 1689.21, \"open3\": 69426.531, \"open4\": 2853430.4241000004, \"open5\": 117275990.43051001}, {\"date\": \"2014-11-03\", \"open\": 41.44, \"high\": 42.0958, \"low\": 41.43, \"close\": 42.0, \"volume\": 8446445, \"Name\": \"AAL\", \"year\": 2014, \"open1\": 41.44, \"open2\": 1717.2735999999998, \"open3\": 71163.817984, \"open4\": 2949028.6172569594, \"open5\": 122207745.89912839}, {\"date\": \"2014-11-04\", \"open\": 42.83, \"high\": 43.7, \"low\": 42.499, \"close\": 42.7, \"volume\": 17421198, \"Name\": \"AAL\", \"year\": 2014, \"open1\": 42.83, \"open2\": 1834.4089, \"open3\": 78567.73318699999, \"open4\": 3365056.0123992097, \"open5\": 144125349.01105812}, {\"date\": \"2014-11-05\", \"open\": 43.32, \"high\": 43.35, \"low\": 42.09, \"close\": 42.25, \"volume\": 11528847, \"Name\": \"AAL\", \"year\": 2014, \"open1\": 43.32, \"open2\": 1876.6224, \"open3\": 81295.282368, \"open4\": 3521711.63218176, \"open5\": 152560547.90611386}, {\"date\": \"2014-11-06\", \"open\": 42.59, \"high\": 44.13, \"low\": 42.59, \"close\": 43.14, \"volume\": 14477213, \"Name\": \"AAL\", \"year\": 2014, \"open1\": 42.59, \"open2\": 1813.9081000000003, \"open3\": 77254.34597900002, \"open4\": 3290262.595245611, \"open5\": 140132283.9315106}, {\"date\": \"2014-11-07\", \"open\": 43.14, \"high\": 43.49, \"low\": 42.63, \"close\": 43.2, \"volume\": 9022642, \"Name\": \"AAL\", \"year\": 2014, \"open1\": 43.14, \"open2\": 1861.0596, \"open3\": 80286.11114400001, \"open4\": 3463542.83475216, \"open5\": 149417237.8912082}, {\"date\": \"2014-11-10\", \"open\": 42.5, \"high\": 43.94, \"low\": 41.675, \"close\": 43.83, \"volume\": 13171001, \"Name\": \"AAL\", \"year\": 2014, \"open1\": 42.5, \"open2\": 1806.25, \"open3\": 76765.625, \"open4\": 3262539.0625, \"open5\": 138657910.15625}, {\"date\": \"2014-11-11\", \"open\": 44.0, \"high\": 44.47, \"low\": 43.32, \"close\": 43.44, \"volume\": 11053611, \"Name\": \"AAL\", \"year\": 2014, \"open1\": 44.0, \"open2\": 1936.0, \"open3\": 85184.0, \"open4\": 3748096.0, \"open5\": 164916224.0}, {\"date\": \"2014-11-12\", \"open\": 43.25, \"high\": 43.63, \"low\": 42.84, \"close\": 43.43, \"volume\": 7705263, \"Name\": \"AAL\", \"year\": 2014, \"open1\": 43.25, \"open2\": 1870.5625, \"open3\": 80901.828125, \"open4\": 3499004.06640625, \"open5\": 151331925.8720703}, {\"date\": \"2014-11-13\", \"open\": 43.54, \"high\": 44.4601, \"low\": 43.4898, \"close\": 44.12, \"volume\": 11134963, \"Name\": \"AAL\", \"year\": 2014, \"open1\": 43.54, \"open2\": 1895.7315999999998, \"open3\": 82540.15386399999, \"open4\": 3593798.29923856, \"open5\": 156473977.94884688}, {\"date\": \"2014-11-14\", \"open\": 44.0, \"high\": 44.541, \"low\": 43.665, \"close\": 44.01, \"volume\": 8746243, \"Name\": \"AAL\", \"year\": 2014, \"open1\": 44.0, \"open2\": 1936.0, \"open3\": 85184.0, \"open4\": 3748096.0, \"open5\": 164916224.0}, {\"date\": \"2014-11-17\", \"open\": 43.97, \"high\": 44.58, \"low\": 43.63, \"close\": 43.69, \"volume\": 8691679, \"Name\": \"AAL\", \"year\": 2014, \"open1\": 43.97, \"open2\": 1933.3609, \"open3\": 85009.87877299999, \"open4\": 3737884.3696488095, \"open5\": 164354775.73345816}, {\"date\": \"2014-11-18\", \"open\": 43.755, \"high\": 45.46, \"low\": 43.755, \"close\": 45.05, \"volume\": 14219440, \"Name\": \"AAL\", \"year\": 2014, \"open1\": 43.755, \"open2\": 1914.5000250000003, \"open3\": 83768.94859387501, \"open4\": 3665310.3457250013, \"open5\": 160375654.17719746}, {\"date\": \"2014-11-19\", \"open\": 44.83, \"high\": 45.4, \"low\": 44.04, \"close\": 44.1, \"volume\": 11291063, \"Name\": \"AAL\", \"year\": 2014, \"open1\": 44.83, \"open2\": 2009.7288999999998, \"open3\": 90096.146587, \"open4\": 4039010.2514952095, \"open5\": 181068829.57453024}, {\"date\": \"2014-11-20\", \"open\": 43.65, \"high\": 44.72, \"low\": 43.2, \"close\": 44.16, \"volume\": 9431411, \"Name\": \"AAL\", \"year\": 2014, \"open1\": 43.65, \"open2\": 1905.3224999999998, \"open3\": 83167.327125, \"open4\": 3630253.8290062496, \"open5\": 158460579.6361228}, {\"date\": \"2014-11-21\", \"open\": 44.38, \"high\": 44.49, \"low\": 43.25, \"close\": 43.31, \"volume\": 10866472, \"Name\": \"AAL\", \"year\": 2014, \"open1\": 44.38, \"open2\": 1969.5844000000002, \"open3\": 87410.15567200001, \"open4\": 3879262.7087233607, \"open5\": 172161679.01314276}, {\"date\": \"2014-11-24\", \"open\": 43.72, \"high\": 43.96, \"low\": 42.78, \"close\": 43.21, \"volume\": 9576570, \"Name\": \"AAL\", \"year\": 2014, \"open1\": 43.72, \"open2\": 1911.4384, \"open3\": 83568.08684799999, \"open4\": 3653596.7569945594, \"open5\": 159735250.21580213}, {\"date\": \"2014-11-25\", \"open\": 43.18, \"high\": 44.44, \"low\": 43.1, \"close\": 44.15, \"volume\": 11563828, \"Name\": \"AAL\", \"year\": 2014, \"open1\": 43.18, \"open2\": 1864.5124, \"open3\": 80509.645432, \"open4\": 3476406.48975376, \"open5\": 150111232.22756734}, {\"date\": \"2014-11-26\", \"open\": 44.31, \"high\": 45.7501, \"low\": 44.0, \"close\": 44.97, \"volume\": 12798776, \"Name\": \"AAL\", \"year\": 2014, \"open1\": 44.31, \"open2\": 1963.3761000000002, \"open3\": 86997.19499100001, \"open4\": 3854845.7100512106, \"open5\": 170808213.41236916}, {\"date\": \"2014-11-28\", \"open\": 47.0, \"high\": 49.45, \"low\": 47.0, \"close\": 48.53, \"volume\": 21638709, \"Name\": \"AAL\", \"year\": 2014, \"open1\": 47.0, \"open2\": 2209.0, \"open3\": 103823.0, \"open4\": 4879681.0, \"open5\": 229345007.0}, {\"date\": \"2014-12-01\", \"open\": 49.0, \"high\": 49.47, \"low\": 47.36, \"close\": 47.88, \"volume\": 15151440, \"Name\": \"AAL\", \"year\": 2014, \"open1\": 49.0, \"open2\": 2401.0, \"open3\": 117649.0, \"open4\": 5764801.0, \"open5\": 282475249.0}, {\"date\": \"2014-12-02\", \"open\": 48.12, \"high\": 48.7, \"low\": 47.15, \"close\": 47.86, \"volume\": 11853928, \"Name\": \"AAL\", \"year\": 2014, \"open1\": 48.12, \"open2\": 2315.5343999999996, \"open3\": 111423.51532799998, \"open4\": 5361699.557583359, \"open5\": 258004982.7109112}, {\"date\": \"2014-12-03\", \"open\": 47.74, \"high\": 48.47, \"low\": 46.925, \"close\": 48.24, \"volume\": 8917697, \"Name\": \"AAL\", \"year\": 2014, \"open1\": 47.74, \"open2\": 2279.1076000000003, \"open3\": 108804.59682400001, \"open4\": 5194331.452377761, \"open5\": 247977383.5365143}, {\"date\": \"2014-12-04\", \"open\": 49.6, \"high\": 50.27, \"low\": 49.32, \"close\": 49.65, \"volume\": 15233774, \"Name\": \"AAL\", \"year\": 2014, \"open1\": 49.6, \"open2\": 2460.1600000000003, \"open3\": 122023.93600000002, \"open4\": 6052387.2256000005, \"open5\": 300198406.38976}, {\"date\": \"2014-12-05\", \"open\": 50.09, \"high\": 51.75, \"low\": 50.01, \"close\": 51.01, \"volume\": 15588179, \"Name\": \"AAL\", \"year\": 2014, \"open1\": 50.09, \"open2\": 2509.0081000000005, \"open3\": 125676.21572900003, \"open4\": 6295121.645865612, \"open5\": 315322643.2414085}, {\"date\": \"2014-12-08\", \"open\": 50.44, \"high\": 51.32, \"low\": 50.15, \"close\": 50.82, \"volume\": 16167321, \"Name\": \"AAL\", \"year\": 2014, \"open1\": 50.44, \"open2\": 2544.1935999999996, \"open3\": 128329.12518399999, \"open4\": 6472921.074280959, \"open5\": 326494138.9867315}, {\"date\": \"2014-12-09\", \"open\": 49.1, \"high\": 49.2, \"low\": 47.39, \"close\": 48.31, \"volume\": 20575397, \"Name\": \"AAL\", \"year\": 2014, \"open1\": 49.1, \"open2\": 2410.81, \"open3\": 118370.77100000001, \"open4\": 5812004.8561, \"open5\": 285369438.43451005}, {\"date\": \"2014-12-10\", \"open\": 49.8, \"high\": 50.399, \"low\": 48.25, \"close\": 48.94, \"volume\": 18499976, \"Name\": \"AAL\", \"year\": 2014, \"open1\": 49.8, \"open2\": 2480.0399999999995, \"open3\": 123505.99199999998, \"open4\": 6150598.401599999, \"open5\": 306299800.3996799}, {\"date\": \"2014-12-11\", \"open\": 49.8, \"high\": 51.5, \"low\": 49.65, \"close\": 50.53, \"volume\": 15100887, \"Name\": \"AAL\", \"year\": 2014, \"open1\": 49.8, \"open2\": 2480.0399999999995, \"open3\": 123505.99199999998, \"open4\": 6150598.401599999, \"open5\": 306299800.3996799}, {\"date\": \"2014-12-12\", \"open\": 51.675, \"high\": 51.7, \"low\": 49.9, \"close\": 49.97, \"volume\": 15364034, \"Name\": \"AAL\", \"year\": 2014, \"open1\": 51.675, \"open2\": 2670.3056249999995, \"open3\": 137988.04317187498, \"open4\": 7130532.130906639, \"open5\": 368470247.86460054}, {\"date\": \"2014-12-15\", \"open\": 50.21, \"high\": 51.32, \"low\": 49.32, \"close\": 50.84, \"volume\": 15368535, \"Name\": \"AAL\", \"year\": 2014, \"open1\": 50.21, \"open2\": 2521.0441, \"open3\": 126581.624261, \"open4\": 6355663.354144811, \"open5\": 319117857.0116109}, {\"date\": \"2014-12-16\", \"open\": 51.01, \"high\": 51.15, \"low\": 47.68, \"close\": 47.96, \"volume\": 22053666, \"Name\": \"AAL\", \"year\": 2014, \"open1\": 51.01, \"open2\": 2602.0200999999997, \"open3\": 132729.04530099998, \"open4\": 6770508.600804009, \"open5\": 345363643.72701246}, {\"date\": \"2014-12-17\", \"open\": 48.26, \"high\": 49.49, \"low\": 46.05, \"close\": 48.8, \"volume\": 24779800, \"Name\": \"AAL\", \"year\": 2014, \"open1\": 48.26, \"open2\": 2329.0276, \"open3\": 112398.87197599998, \"open4\": 5424369.56156176, \"open5\": 261780075.04097047}, {\"date\": \"2014-12-18\", \"open\": 48.56, \"high\": 50.93, \"low\": 47.5, \"close\": 50.14, \"volume\": 16945321, \"Name\": \"AAL\", \"year\": 2014, \"open1\": 48.56, \"open2\": 2358.0736, \"open3\": 114508.05401600001, \"open4\": 5560511.103016961, \"open5\": 270018419.16250366}, {\"date\": \"2014-12-19\", \"open\": 49.67, \"high\": 50.94, \"low\": 49.1, \"close\": 50.71, \"volume\": 26787715, \"Name\": \"AAL\", \"year\": 2014, \"open1\": 49.67, \"open2\": 2467.1089, \"open3\": 122541.29906300001, \"open4\": 6086626.324459211, \"open5\": 302322729.535889}, {\"date\": \"2014-12-22\", \"open\": 51.1, \"high\": 51.88, \"low\": 50.72, \"close\": 50.84, \"volume\": 8872374, \"Name\": \"AAL\", \"year\": 2014, \"open1\": 51.1, \"open2\": 2611.21, \"open3\": 133432.831, \"open4\": 6818417.664100001, \"open5\": 348421142.63551}, {\"date\": \"2014-12-23\", \"open\": 50.95, \"high\": 51.14, \"low\": 49.84, \"close\": 50.21, \"volume\": 7169796, \"Name\": \"AAL\", \"year\": 2014, \"open1\": 50.95, \"open2\": 2595.9025, \"open3\": 132261.23237500002, \"open4\": 6738709.789506252, \"open5\": 343337263.77534354}, {\"date\": \"2014-12-24\", \"open\": 50.66, \"high\": 51.69, \"low\": 50.35, \"close\": 51.43, \"volume\": 5961395, \"Name\": \"AAL\", \"year\": 2014, \"open1\": 50.66, \"open2\": 2566.4356, \"open3\": 130015.62749599997, \"open4\": 6586591.688947358, \"open5\": 333676734.96207315}, {\"date\": \"2014-12-26\", \"open\": 51.46, \"high\": 52.25, \"low\": 51.06, \"close\": 51.955, \"volume\": 6841763, \"Name\": \"AAL\", \"year\": 2014, \"open1\": 51.46, \"open2\": 2648.1316, \"open3\": 136272.852136, \"open4\": 7012600.97091856, \"open5\": 360868445.96346915}, {\"date\": \"2014-12-29\", \"open\": 51.65, \"high\": 53.24, \"low\": 51.3, \"close\": 52.85, \"volume\": 8791483, \"Name\": \"AAL\", \"year\": 2014, \"open1\": 51.65, \"open2\": 2667.7225, \"open3\": 137787.867125, \"open4\": 7116743.337006249, \"open5\": 367579793.3563728}, {\"date\": \"2014-12-30\", \"open\": 53.0, \"high\": 53.7, \"low\": 52.83, \"close\": 53.42, \"volume\": 8063140, \"Name\": \"AAL\", \"year\": 2014, \"open1\": 53.0, \"open2\": 2809.0, \"open3\": 148877.0, \"open4\": 7890481.0, \"open5\": 418195493.0}, {\"date\": \"2014-12-31\", \"open\": 53.9, \"high\": 54.64, \"low\": 53.32, \"close\": 53.63, \"volume\": 11063024, \"Name\": \"AAL\", \"year\": 2014, \"open1\": 53.9, \"open2\": 2905.21, \"open3\": 156590.819, \"open4\": 8440245.1441, \"open5\": 454929213.26698995}]}}, {\"mode\": \"vega-lite\"});\n</script>",
      "text/plain": "alt.VConcatChart(...)"
     },
     "metadata": {}
    }
   ]
  },
  {
   "cell_type": "markdown",
   "source": "## Comparison between two stocks",
   "metadata": {
    "cell_id": "027a42a44e064a5fa11c41894b1face5",
    "tags": [],
    "deepnote_cell_type": "markdown",
    "deepnote_cell_height": 70
   }
  },
  {
   "cell_type": "markdown",
   "source": "Here I want to see two companies' history stock price and try to analyze the better one by comparison",
   "metadata": {
    "cell_id": "0f17622c20e246de8d51b3d3d2a736ef",
    "tags": [],
    "deepnote_cell_type": "markdown",
    "deepnote_cell_height": 52.390625
   }
  },
  {
   "cell_type": "code",
   "metadata": {
    "cell_id": "1825591972984bbf827aeaee3523db8f",
    "tags": [],
    "deepnote_to_be_reexecuted": false,
    "source_hash": "ae06b6ed",
    "execution_start": 1654289825511,
    "execution_millis": 558,
    "deepnote_cell_type": "code",
    "deepnote_cell_height": 99
   },
   "source": "alldata=pd.read_csv(\"all_stocks_5yr.csv\")\nalldata[\"date\"]=pd.to_datetime(alldata[\"date\"])",
   "execution_count": null,
   "outputs": []
  },
  {
   "cell_type": "code",
   "metadata": {
    "cell_id": "8e47f55ed943408f8c3600a9296f94d9",
    "tags": [],
    "deepnote_to_be_reexecuted": false,
    "source_hash": "704a3306",
    "execution_start": 1654289826086,
    "execution_millis": 38,
    "deepnote_cell_type": "code",
    "deepnote_cell_height": 708,
    "deepnote_output_heights": [
     611
    ]
   },
   "source": "alldata.Name.unique()",
   "execution_count": null,
   "outputs": [
    {
     "output_type": "execute_result",
     "execution_count": 22,
     "data": {
      "text/plain": "array(['AAL', 'AAPL', 'AAP', 'ABBV', 'ABC', 'ABT', 'ACN', 'ADBE', 'ADI',\n       'ADM', 'ADP', 'ADSK', 'ADS', 'AEE', 'AEP', 'AES', 'AET', 'AFL',\n       'AGN', 'AIG', 'AIV', 'AIZ', 'AJG', 'AKAM', 'ALB', 'ALGN', 'ALK',\n       'ALLE', 'ALL', 'ALXN', 'AMAT', 'AMD', 'AME', 'AMGN', 'AMG', 'AMP',\n       'AMT', 'AMZN', 'ANDV', 'ANSS', 'ANTM', 'AON', 'AOS', 'APA', 'APC',\n       'APD', 'APH', 'APTV', 'ARE', 'ARNC', 'ATVI', 'AVB', 'AVGO', 'AVY',\n       'AWK', 'AXP', 'AYI', 'AZO', 'A', 'BAC', 'BAX', 'BA', 'BBT', 'BBY',\n       'BDX', 'BEN', 'BF.B', 'BHF', 'BHGE', 'BIIB', 'BK', 'BLK', 'BLL',\n       'BMY', 'BRK.B', 'BSX', 'BWA', 'BXP', 'CAG', 'CAH', 'CAT', 'CA',\n       'CBG', 'CBOE', 'CBS', 'CB', 'CCI', 'CCL', 'CDNS', 'CELG', 'CERN',\n       'CFG', 'CF', 'CHD', 'CHK', 'CHRW', 'CHTR', 'CINF', 'CI', 'CLX',\n       'CL', 'CMA', 'CMCSA', 'CME', 'CMG', 'CMI', 'CMS', 'CNC', 'CNP',\n       'COF', 'COG', 'COL', 'COO', 'COP', 'COST', 'COTY', 'CPB', 'CRM',\n       'CSCO', 'CSRA', 'CSX', 'CTAS', 'CTL', 'CTSH', 'CTXS', 'CVS', 'CVX',\n       'CXO', 'C', 'DAL', 'DE', 'DFS', 'DGX', 'DG', 'DHI', 'DHR', 'DISCA',\n       'DISCK', 'DISH', 'DIS', 'DLR', 'DLTR', 'DOV', 'DPS', 'DRE', 'DRI',\n       'DTE', 'DUK', 'DVA', 'DVN', 'DWDP', 'DXC', 'D', 'EA', 'EBAY',\n       'ECL', 'ED', 'EFX', 'EIX', 'EL', 'EMN', 'EMR', 'EOG', 'EQIX',\n       'EQR', 'EQT', 'ESRX', 'ESS', 'ES', 'ETFC', 'ETN', 'ETR', 'EVHC',\n       'EW', 'EXC', 'EXPD', 'EXPE', 'EXR', 'FAST', 'FBHS', 'FB', 'FCX',\n       'FDX', 'FE', 'FFIV', 'FISV', 'FIS', 'FITB', 'FLIR', 'FLR', 'FLS',\n       'FL', 'FMC', 'FOXA', 'FOX', 'FRT', 'FTI', 'FTV', 'F', 'GD', 'GE',\n       'GGP', 'GILD', 'GIS', 'GLW', 'GM', 'GOOGL', 'GOOG', 'GPC', 'GPN',\n       'GPS', 'GRMN', 'GS', 'GT', 'GWW', 'HAL', 'HAS', 'HBAN', 'HBI',\n       'HCA', 'HCN', 'HCP', 'HD', 'HES', 'HIG', 'HII', 'HLT', 'HOG',\n       'HOLX', 'HON', 'HPE', 'HPQ', 'HP', 'HRB', 'HRL', 'HRS', 'HSIC',\n       'HST', 'HSY', 'HUM', 'IBM', 'ICE', 'IDXX', 'IFF', 'ILMN', 'INCY',\n       'INFO', 'INTC', 'INTU', 'IPG', 'IP', 'IQV', 'IRM', 'IR', 'ISRG',\n       'ITW', 'IT', 'IVZ', 'JBHT', 'JCI', 'JEC', 'JNJ', 'JNPR', 'JPM',\n       'JWN', 'KEY', 'KHC', 'KIM', 'KLAC', 'KMB', 'KMI', 'KMX', 'KORS',\n       'KO', 'KR', 'KSS', 'KSU', 'K', 'LB', 'LEG', 'LEN', 'LH', 'LKQ',\n       'LLL', 'LLY', 'LMT', 'LNC', 'LNT', 'LOW', 'LRCX', 'LUK', 'LUV',\n       'LYB', 'L', 'MAA', 'MAC', 'MAR', 'MAS', 'MAT', 'MA', 'MCD', 'MCHP',\n       'MCK', 'MCO', 'MDLZ', 'MDT', 'MET', 'MGM', 'MHK', 'MKC', 'MLM',\n       'MMC', 'MMM', 'MNST', 'MON', 'MOS', 'MO', 'MPC', 'MRK', 'MRO',\n       'MSFT', 'MSI', 'MS', 'MTB', 'MTD', 'MU', 'MYL', 'M', 'NAVI', 'NBL',\n       'NCLH', 'NDAQ', 'NEE', 'NEM', 'NFLX', 'NFX', 'NI', 'NKE', 'NLSN',\n       'NOC', 'NOV', 'NRG', 'NSC', 'NTAP', 'NTRS', 'NUE', 'NVDA', 'NWL',\n       'NWSA', 'NWS', 'OKE', 'OMC', 'ORCL', 'ORLY', 'OXY', 'O', 'PAYX',\n       'PBCT', 'PCAR', 'PCG', 'PCLN', 'PDCO', 'PEG', 'PEP', 'PFE', 'PFG',\n       'PGR', 'PG', 'PHM', 'PH', 'PKG', 'PKI', 'PLD', 'PM', 'PNC', 'PNR',\n       'PNW', 'PPG', 'PPL', 'PRGO', 'PRU', 'PSA', 'PSX', 'PVH', 'PWR',\n       'PXD', 'PX', 'PYPL', 'QCOM', 'QRVO', 'RCL', 'REGN', 'REG', 'RE',\n       'RF', 'RHI', 'RHT', 'RJF', 'RL', 'RMD', 'ROK', 'ROP', 'ROST',\n       'RRC', 'RSG', 'RTN', 'SBAC', 'SBUX', 'SCG', 'SCHW', 'SEE', 'SHW',\n       'SIG', 'SJM', 'SLB', 'SLG', 'SNA', 'SNI', 'SNPS', 'SO', 'SPGI',\n       'SPG', 'SRCL', 'SRE', 'STI', 'STT', 'STX', 'STZ', 'SWKS', 'SWK',\n       'SYF', 'SYK', 'SYMC', 'SYY', 'TAP', 'TDG', 'TEL', 'TGT', 'TIF',\n       'TJX', 'TMK', 'TMO', 'TPR', 'TRIP', 'TROW', 'TRV', 'TSCO', 'TSN',\n       'TSS', 'TWX', 'TXN', 'TXT', 'T', 'UAA', 'UAL', 'UA', 'UDR', 'UHS',\n       'ULTA', 'UNH', 'UNM', 'UNP', 'UPS', 'URI', 'USB', 'UTX', 'VAR',\n       'VFC', 'VIAB', 'VLO', 'VMC', 'VNO', 'VRSK', 'VRSN', 'VRTX', 'VTR',\n       'VZ', 'V', 'WAT', 'WBA', 'WDC', 'WEC', 'WFC', 'WHR', 'WLTW', 'WMB',\n       'WMT', 'WM', 'WRK', 'WU', 'WYNN', 'WYN', 'WY', 'XEC', 'XEL',\n       'XLNX', 'XL', 'XOM', 'XRAY', 'XRX', 'XYL', 'YUM', 'ZBH', 'ZION',\n       'ZTS'], dtype=object)"
     },
     "metadata": {}
    }
   ]
  },
  {
   "cell_type": "markdown",
   "source": "we can see there are many stocks in the stock market, here we choose two famous one, facebook and apple",
   "metadata": {
    "cell_id": "f298c2eb5db041dfbfd3197c77fb320d",
    "tags": [],
    "deepnote_cell_type": "markdown",
    "deepnote_cell_height": 52.390625
   }
  },
  {
   "cell_type": "code",
   "metadata": {
    "cell_id": "f55639da31aa423193fb287ce534c8fb",
    "tags": [],
    "deepnote_to_be_reexecuted": false,
    "source_hash": "460ec856",
    "execution_start": 1654289826235,
    "execution_millis": 571,
    "deepnote_table_state": {
     "pageSize": 10,
     "pageIndex": 0,
     "filters": [],
     "sortBy": []
    },
    "deepnote_table_loading": false,
    "deepnote_cell_type": "code",
    "deepnote_cell_height": 449
   },
   "source": "fb=alldata[alldata[\"Name\"]==\"FB\"]\napl=alldata[alldata[\"Name\"]==\"AAPL\"]\ntwostk = fb[['date','close']].merge(apl[['date','close']], on = 'date')\ntwostk.head()",
   "execution_count": null,
   "outputs": [
    {
     "output_type": "execute_result",
     "execution_count": 23,
     "data": {
      "application/vnd.deepnote.dataframe.v3+json": {
       "column_count": 3,
       "row_count": 5,
       "columns": [
        {
         "name": "date",
         "dtype": "datetime64[ns]",
         "stats": {
          "unique_count": 5,
          "nan_count": 0,
          "min": "2013-02-08 00:00:00",
          "max": "2013-02-14 00:00:00",
          "histogram": [
           {
            "bin_start": 1360281600000000000,
            "bin_end": 1360333440000000000,
            "count": 1
           },
           {
            "bin_start": 1360333440000000000,
            "bin_end": 1360385280000000000,
            "count": 0
           },
           {
            "bin_start": 1360385280000000000,
            "bin_end": 1360437120000000000,
            "count": 0
           },
           {
            "bin_start": 1360437120000000000,
            "bin_end": 1360488960000000000,
            "count": 0
           },
           {
            "bin_start": 1360488960000000000,
            "bin_end": 1360540800000000000,
            "count": 0
           },
           {
            "bin_start": 1360540800000000000,
            "bin_end": 1360592640000000000,
            "count": 1
           },
           {
            "bin_start": 1360592640000000000,
            "bin_end": 1360644480000000000,
            "count": 1
           },
           {
            "bin_start": 1360644480000000000,
            "bin_end": 1360696320000000000,
            "count": 0
           },
           {
            "bin_start": 1360696320000000000,
            "bin_end": 1360748160000000000,
            "count": 1
           },
           {
            "bin_start": 1360748160000000000,
            "bin_end": 1360800000000000000,
            "count": 1
           }
          ]
         }
        },
        {
         "name": "close_x",
         "dtype": "float64",
         "stats": {
          "unique_count": 5,
          "nan_count": 0,
          "min": "27.37",
          "max": "28.545",
          "histogram": [
           {
            "bin_start": 27.37,
            "bin_end": 27.4875,
            "count": 1
           },
           {
            "bin_start": 27.4875,
            "bin_end": 27.605,
            "count": 0
           },
           {
            "bin_start": 27.605,
            "bin_end": 27.7225,
            "count": 0
           },
           {
            "bin_start": 27.7225,
            "bin_end": 27.84,
            "count": 0
           },
           {
            "bin_start": 27.84,
            "bin_end": 27.957500000000003,
            "count": 1
           },
           {
            "bin_start": 27.957500000000003,
            "bin_end": 28.075000000000003,
            "count": 0
           },
           {
            "bin_start": 28.075000000000003,
            "bin_end": 28.192500000000003,
            "count": 0
           },
           {
            "bin_start": 28.192500000000003,
            "bin_end": 28.310000000000002,
            "count": 1
           },
           {
            "bin_start": 28.310000000000002,
            "bin_end": 28.427500000000002,
            "count": 0
           },
           {
            "bin_start": 28.427500000000002,
            "bin_end": 28.545,
            "count": 2
           }
          ]
         }
        },
        {
         "name": "close_y",
         "dtype": "float64",
         "stats": {
          "unique_count": 5,
          "nan_count": 0,
          "min": "66.6556",
          "max": "68.5614",
          "histogram": [
           {
            "bin_start": 66.6556,
            "bin_end": 66.84618,
            "count": 3
           },
           {
            "bin_start": 66.84618,
            "bin_end": 67.03676,
            "count": 0
           },
           {
            "bin_start": 67.03676,
            "bin_end": 67.22734000000001,
            "count": 0
           },
           {
            "bin_start": 67.22734000000001,
            "bin_end": 67.41792000000001,
            "count": 0
           },
           {
            "bin_start": 67.41792000000001,
            "bin_end": 67.6085,
            "count": 0
           },
           {
            "bin_start": 67.6085,
            "bin_end": 67.79908,
            "count": 0
           },
           {
            "bin_start": 67.79908,
            "bin_end": 67.98966,
            "count": 1
           },
           {
            "bin_start": 67.98966,
            "bin_end": 68.18024000000001,
            "count": 0
           },
           {
            "bin_start": 68.18024000000001,
            "bin_end": 68.37082000000001,
            "count": 0
           },
           {
            "bin_start": 68.37082000000001,
            "bin_end": 68.5614,
            "count": 1
           }
          ]
         }
        },
        {
         "name": "_deepnote_index_column",
         "dtype": "int64"
        }
       ],
       "rows": [
        {
         "date": "2013-02-08T00:00:00.000000",
         "close_x": 28.545,
         "close_y": 67.8542,
         "_deepnote_index_column": 0
        },
        {
         "date": "2013-02-11T00:00:00.000000",
         "close_x": 28.26,
         "close_y": 68.5614,
         "_deepnote_index_column": 1
        },
        {
         "date": "2013-02-12T00:00:00.000000",
         "close_x": 27.37,
         "close_y": 66.8428,
         "_deepnote_index_column": 2
        },
        {
         "date": "2013-02-13T00:00:00.000000",
         "close_x": 27.9075,
         "close_y": 66.7156,
         "_deepnote_index_column": 3
        },
        {
         "date": "2013-02-14T00:00:00.000000",
         "close_x": 28.5,
         "close_y": 66.6556,
         "_deepnote_index_column": 4
        }
       ]
      },
      "text/plain": "        date  close_x  close_y\n0 2013-02-08  28.5450  67.8542\n1 2013-02-11  28.2600  68.5614\n2 2013-02-12  27.3700  66.8428\n3 2013-02-13  27.9075  66.7156\n4 2013-02-14  28.5000  66.6556",
      "text/html": "<div>\n<style scoped>\n    .dataframe tbody tr th:only-of-type {\n        vertical-align: middle;\n    }\n\n    .dataframe tbody tr th {\n        vertical-align: top;\n    }\n\n    .dataframe thead th {\n        text-align: right;\n    }\n</style>\n<table border=\"1\" class=\"dataframe\">\n  <thead>\n    <tr style=\"text-align: right;\">\n      <th></th>\n      <th>date</th>\n      <th>close_x</th>\n      <th>close_y</th>\n    </tr>\n  </thead>\n  <tbody>\n    <tr>\n      <th>0</th>\n      <td>2013-02-08</td>\n      <td>28.5450</td>\n      <td>67.8542</td>\n    </tr>\n    <tr>\n      <th>1</th>\n      <td>2013-02-11</td>\n      <td>28.2600</td>\n      <td>68.5614</td>\n    </tr>\n    <tr>\n      <th>2</th>\n      <td>2013-02-12</td>\n      <td>27.3700</td>\n      <td>66.8428</td>\n    </tr>\n    <tr>\n      <th>3</th>\n      <td>2013-02-13</td>\n      <td>27.9075</td>\n      <td>66.7156</td>\n    </tr>\n    <tr>\n      <th>4</th>\n      <td>2013-02-14</td>\n      <td>28.5000</td>\n      <td>66.6556</td>\n    </tr>\n  </tbody>\n</table>\n</div>"
     },
     "metadata": {}
    }
   ]
  },
  {
   "cell_type": "markdown",
   "source": "combine and merge Apple and Facebook stock together, but it now enough and clear for us to see the relationship of them based on time series",
   "metadata": {
    "cell_id": "f0cb75d776844b73a632eb5ad9914895",
    "tags": [],
    "deepnote_cell_type": "markdown",
    "deepnote_cell_height": 74.796875
   }
  },
  {
   "cell_type": "code",
   "metadata": {
    "cell_id": "dfc62a6fef8c4b0985d22ada08db71eb",
    "tags": [],
    "deepnote_to_be_reexecuted": false,
    "source_hash": "7f3a07dd",
    "execution_start": 1654289826323,
    "execution_millis": 0,
    "deepnote_cell_type": "code",
    "deepnote_cell_height": 135
   },
   "source": "\nimport plotly.graph_objs as go\n\n",
   "execution_count": null,
   "outputs": []
  },
  {
   "cell_type": "code",
   "metadata": {
    "cell_id": "b933657b7b5942feabbf1a61d1db3756",
    "tags": [],
    "deepnote_to_be_reexecuted": false,
    "source_hash": "d91c9bb0",
    "execution_start": 1654289826339,
    "execution_millis": 0,
    "deepnote_cell_type": "code",
    "deepnote_cell_height": 99
   },
   "source": "trace0 = go.Scatter(x=apl.date, y=apl.close, name='Apple')\ntrace1 = go.Scatter(x=fb.date, y=fb.close, name='Facebook')",
   "execution_count": null,
   "outputs": []
  },
  {
   "cell_type": "code",
   "metadata": {
    "cell_id": "61c7f6e05b2940c495cc464ef7b1fb6a",
    "tags": [],
    "deepnote_to_be_reexecuted": false,
    "source_hash": "87c31984",
    "execution_start": 1654289826384,
    "execution_millis": 139,
    "deepnote_cell_type": "code",
    "deepnote_cell_height": 99
   },
   "source": "import matplotlib.pyplot as plt\nimport plotly.express as px",
   "execution_count": null,
   "outputs": []
  },
  {
   "cell_type": "code",
   "metadata": {
    "cell_id": "85ad09b64f2a409182520ba12dc1e7f4",
    "tags": [],
    "deepnote_to_be_reexecuted": false,
    "source_hash": "9aa2ffb0",
    "execution_start": 1654289826575,
    "execution_millis": 267,
    "deepnote_cell_type": "code",
    "deepnote_cell_height": 750,
    "deepnote_output_heights": [
     527
    ]
   },
   "source": "fig = go.Figure()\nfig.add_trace(trace0)\nfig.add_trace(trace1)\nfig.update_layout(\n    title={'text' :\"Apple vs Facebook Stock Price\"})\n\n\nfig.show()",
   "execution_count": null,
   "outputs": [
    {
     "data": {
      "text/html": "<html>\n<head><meta charset=\"utf-8\" /></head>\n<body>\n    <div>            <script src=\"https://cdnjs.cloudflare.com/ajax/libs/mathjax/2.7.5/MathJax.js?config=TeX-AMS-MML_SVG\"></script><script type=\"text/javascript\">if (window.MathJax && window.MathJax.Hub && && window.MathJax.Hub.Config) {window.MathJax.Hub.Config({SVG: {font: \"STIX-Web\"}});}</script>                <script type=\"text/javascript\">window.PlotlyConfig = {MathJaxConfig: 'local'};</script>\n        <script src=\"https://cdn.plot.ly/plotly-2.12.1.min.js\"></script>                <div id=\"cd5a8cfc-0a9c-49fb-ba24-7d4b1a3ee157\" class=\"plotly-graph-div\" style=\"height:525px; width:100%;\"></div>            <script type=\"text/javascript\">                                    window.PLOTLYENV=window.PLOTLYENV || {};                                    if (document.getElementById(\"cd5a8cfc-0a9c-49fb-ba24-7d4b1a3ee157\")) {                    Plotly.newPlot(                        \"cd5a8cfc-0a9c-49fb-ba24-7d4b1a3ee157\",                        [{\"name\":\"Apple\",\"x\":[\"2013-02-08T00:00:00\",\"2013-02-11T00:00:00\",\"2013-02-12T00:00:00\",\"2013-02-13T00:00:00\",\"2013-02-14T00:00:00\",\"2013-02-15T00:00:00\",\"2013-02-19T00:00:00\",\"2013-02-20T00:00:00\",\"2013-02-21T00:00:00\",\"2013-02-22T00:00:00\",\"2013-02-25T00:00:00\",\"2013-02-26T00:00:00\",\"2013-02-27T00:00:00\",\"2013-02-28T00:00:00\",\"2013-03-01T00:00:00\",\"2013-03-04T00:00:00\",\"2013-03-05T00:00:00\",\"2013-03-06T00:00:00\",\"2013-03-07T00:00:00\",\"2013-03-08T00:00:00\",\"2013-03-11T00:00:00\",\"2013-03-12T00:00:00\",\"2013-03-13T00:00:00\",\"2013-03-14T00:00:00\",\"2013-03-15T00:00:00\",\"2013-03-18T00:00:00\",\"2013-03-19T00:00:00\",\"2013-03-20T00:00:00\",\"2013-03-21T00:00:00\",\"2013-03-22T00:00:00\",\"2013-03-25T00:00:00\",\"2013-03-26T00:00:00\",\"2013-03-27T00:00:00\",\"2013-03-28T00:00:00\",\"2013-04-01T00:00:00\",\"2013-04-02T00:00:00\",\"2013-04-03T00:00:00\",\"2013-04-04T00:00:00\",\"2013-04-05T00:00:00\",\"2013-04-08T00:00:00\",\"2013-04-09T00:00:00\",\"2013-04-10T00:00:00\",\"2013-04-11T00:00:00\",\"2013-04-12T00:00:00\",\"2013-04-15T00:00:00\",\"2013-04-16T00:00:00\",\"2013-04-17T00:00:00\",\"2013-04-18T00:00:00\",\"2013-04-19T00:00:00\",\"2013-04-22T00:00:00\",\"2013-04-23T00:00:00\",\"2013-04-24T00:00:00\",\"2013-04-25T00:00:00\",\"2013-04-26T00:00:00\",\"2013-04-29T00:00:00\",\"2013-04-30T00:00:00\",\"2013-05-01T00:00:00\",\"2013-05-02T00:00:00\",\"2013-05-03T00:00:00\",\"2013-05-06T00:00:00\",\"2013-05-07T00:00:00\",\"2013-05-08T00:00:00\",\"2013-05-09T00:00:00\",\"2013-05-10T00:00:00\",\"2013-05-13T00:00:00\",\"2013-05-14T00:00:00\",\"2013-05-15T00:00:00\",\"2013-05-16T00:00:00\",\"2013-05-17T00:00:00\",\"2013-05-20T00:00:00\",\"2013-05-21T00:00:00\",\"2013-05-22T00:00:00\",\"2013-05-23T00:00:00\",\"2013-05-24T00:00:00\",\"2013-05-28T00:00:00\",\"2013-05-29T00:00:00\",\"2013-05-30T00:00:00\",\"2013-05-31T00:00:00\",\"2013-06-03T00:00:00\",\"2013-06-04T00:00:00\",\"2013-06-05T00:00:00\",\"2013-06-06T00:00:00\",\"2013-06-07T00:00:00\",\"2013-06-10T00:00:00\",\"2013-06-11T00:00:00\",\"2013-06-12T00:00:00\",\"2013-06-13T00:00:00\",\"2013-06-14T00:00:00\",\"2013-06-17T00:00:00\",\"2013-06-18T00:00:00\",\"2013-06-19T00:00:00\",\"2013-06-20T00:00:00\",\"2013-06-21T00:00:00\",\"2013-06-24T00:00:00\",\"2013-06-25T00:00:00\",\"2013-06-26T00:00:00\",\"2013-06-27T00:00:00\",\"2013-06-28T00:00:00\",\"2013-07-01T00:00:00\",\"2013-07-02T00:00:00\",\"2013-07-03T00:00:00\",\"2013-07-05T00:00:00\",\"2013-07-08T00:00:00\",\"2013-07-09T00:00:00\",\"2013-07-10T00:00:00\",\"2013-07-11T00:00:00\",\"2013-07-12T00:00:00\",\"2013-07-15T00:00:00\",\"2013-07-16T00:00:00\",\"2013-07-17T00:00:00\",\"2013-07-18T00:00:00\",\"2013-07-19T00:00:00\",\"2013-07-22T00:00:00\",\"2013-07-23T00:00:00\",\"2013-07-24T00:00:00\",\"2013-07-25T00:00:00\",\"2013-07-26T00:00:00\",\"2013-07-29T00:00:00\",\"2013-07-30T00:00:00\",\"2013-07-31T00:00:00\",\"2013-08-01T00:00:00\",\"2013-08-02T00:00:00\",\"2013-08-05T00:00:00\",\"2013-08-06T00:00:00\",\"2013-08-07T00:00:00\",\"2013-08-08T00:00:00\",\"2013-08-09T00:00:00\",\"2013-08-12T00:00:00\",\"2013-08-13T00:00:00\",\"2013-08-14T00:00:00\",\"2013-08-15T00:00:00\",\"2013-08-16T00:00:00\",\"2013-08-19T00:00:00\",\"2013-08-20T00:00:00\",\"2013-08-21T00:00:00\",\"2013-08-22T00:00:00\",\"2013-08-23T00:00:00\",\"2013-08-26T00:00:00\",\"2013-08-27T00:00:00\",\"2013-08-28T00:00:00\",\"2013-08-29T00:00:00\",\"2013-08-30T00:00:00\",\"2013-09-03T00:00:00\",\"2013-09-04T00:00:00\",\"2013-09-05T00:00:00\",\"2013-09-06T00:00:00\",\"2013-09-09T00:00:00\",\"2013-09-10T00:00:00\",\"2013-09-11T00:00:00\",\"2013-09-12T00:00:00\",\"2013-09-13T00:00:00\",\"2013-09-16T00:00:00\",\"2013-09-17T00:00:00\",\"2013-09-18T00:00:00\",\"2013-09-19T00:00:00\",\"2013-09-20T00:00:00\",\"2013-09-23T00:00:00\",\"2013-09-24T00:00:00\",\"2013-09-25T00:00:00\",\"2013-09-26T00:00:00\",\"2013-09-27T00:00:00\",\"2013-09-30T00:00:00\",\"2013-10-01T00:00:00\",\"2013-10-02T00:00:00\",\"2013-10-03T00:00:00\",\"2013-10-04T00:00:00\",\"2013-10-07T00:00:00\",\"2013-10-08T00:00:00\",\"2013-10-09T00:00:00\",\"2013-10-10T00:00:00\",\"2013-10-11T00:00:00\",\"2013-10-14T00:00:00\",\"2013-10-15T00:00:00\",\"2013-10-16T00:00:00\",\"2013-10-17T00:00:00\",\"2013-10-18T00:00:00\",\"2013-10-21T00:00:00\",\"2013-10-22T00:00:00\",\"2013-10-23T00:00:00\",\"2013-10-24T00:00:00\",\"2013-10-25T00:00:00\",\"2013-10-28T00:00:00\",\"2013-10-29T00:00:00\",\"2013-10-30T00:00:00\",\"2013-10-31T00:00:00\",\"2013-11-01T00:00:00\",\"2013-11-04T00:00:00\",\"2013-11-05T00:00:00\",\"2013-11-06T00:00:00\",\"2013-11-07T00:00:00\",\"2013-11-08T00:00:00\",\"2013-11-11T00:00:00\",\"2013-11-12T00:00:00\",\"2013-11-13T00:00:00\",\"2013-11-14T00:00:00\",\"2013-11-15T00:00:00\",\"2013-11-18T00:00:00\",\"2013-11-19T00:00:00\",\"2013-11-20T00:00:00\",\"2013-11-21T00:00:00\",\"2013-11-22T00:00:00\",\"2013-11-25T00:00:00\",\"2013-11-26T00:00:00\",\"2013-11-27T00:00:00\",\"2013-11-29T00:00:00\",\"2013-12-02T00:00:00\",\"2013-12-03T00:00:00\",\"2013-12-04T00:00:00\",\"2013-12-05T00:00:00\",\"2013-12-06T00:00:00\",\"2013-12-09T00:00:00\",\"2013-12-10T00:00:00\",\"2013-12-11T00:00:00\",\"2013-12-12T00:00:00\",\"2013-12-13T00:00:00\",\"2013-12-16T00:00:00\",\"2013-12-17T00:00:00\",\"2013-12-18T00:00:00\",\"2013-12-19T00:00:00\",\"2013-12-20T00:00:00\",\"2013-12-23T00:00:00\",\"2013-12-24T00:00:00\",\"2013-12-26T00:00:00\",\"2013-12-27T00:00:00\",\"2013-12-30T00:00:00\",\"2013-12-31T00:00:00\",\"2014-01-02T00:00:00\",\"2014-01-03T00:00:00\",\"2014-01-06T00:00:00\",\"2014-01-07T00:00:00\",\"2014-01-08T00:00:00\",\"2014-01-09T00:00:00\",\"2014-01-10T00:00:00\",\"2014-01-13T00:00:00\",\"2014-01-14T00:00:00\",\"2014-01-15T00:00:00\",\"2014-01-16T00:00:00\",\"2014-01-17T00:00:00\",\"2014-01-21T00:00:00\",\"2014-01-22T00:00:00\",\"2014-01-23T00:00:00\",\"2014-01-24T00:00:00\",\"2014-01-27T00:00:00\",\"2014-01-28T00:00:00\",\"2014-01-29T00:00:00\",\"2014-01-30T00:00:00\",\"2014-01-31T00:00:00\",\"2014-02-03T00:00:00\",\"2014-02-04T00:00:00\",\"2014-02-05T00:00:00\",\"2014-02-06T00:00:00\",\"2014-02-07T00:00:00\",\"2014-02-10T00:00:00\",\"2014-02-11T00:00:00\",\"2014-02-12T00:00:00\",\"2014-02-13T00:00:00\",\"2014-02-14T00:00:00\",\"2014-02-18T00:00:00\",\"2014-02-19T00:00:00\",\"2014-02-20T00:00:00\",\"2014-02-21T00:00:00\",\"2014-02-24T00:00:00\",\"2014-02-25T00:00:00\",\"2014-02-26T00:00:00\",\"2014-02-27T00:00:00\",\"2014-02-28T00:00:00\",\"2014-03-03T00:00:00\",\"2014-03-04T00:00:00\",\"2014-03-05T00:00:00\",\"2014-03-06T00:00:00\",\"2014-03-07T00:00:00\",\"2014-03-10T00:00:00\",\"2014-03-11T00:00:00\",\"2014-03-12T00:00:00\",\"2014-03-13T00:00:00\",\"2014-03-14T00:00:00\",\"2014-03-17T00:00:00\",\"2014-03-18T00:00:00\",\"2014-03-19T00:00:00\",\"2014-03-20T00:00:00\",\"2014-03-21T00:00:00\",\"2014-03-24T00:00:00\",\"2014-03-25T00:00:00\",\"2014-03-26T00:00:00\",\"2014-03-27T00:00:00\",\"2014-03-28T00:00:00\",\"2014-03-31T00:00:00\",\"2014-04-01T00:00:00\",\"2014-04-02T00:00:00\",\"2014-04-03T00:00:00\",\"2014-04-04T00:00:00\",\"2014-04-07T00:00:00\",\"2014-04-08T00:00:00\",\"2014-04-09T00:00:00\",\"2014-04-10T00:00:00\",\"2014-04-11T00:00:00\",\"2014-04-14T00:00:00\",\"2014-04-15T00:00:00\",\"2014-04-16T00:00:00\",\"2014-04-17T00:00:00\",\"2014-04-21T00:00:00\",\"2014-04-22T00:00:00\",\"2014-04-23T00:00:00\",\"2014-04-24T00:00:00\",\"2014-04-25T00:00:00\",\"2014-04-28T00:00:00\",\"2014-04-29T00:00:00\",\"2014-04-30T00:00:00\",\"2014-05-01T00:00:00\",\"2014-05-02T00:00:00\",\"2014-05-05T00:00:00\",\"2014-05-06T00:00:00\",\"2014-05-07T00:00:00\",\"2014-05-08T00:00:00\",\"2014-05-09T00:00:00\",\"2014-05-12T00:00:00\",\"2014-05-13T00:00:00\",\"2014-05-14T00:00:00\",\"2014-05-15T00:00:00\",\"2014-05-16T00:00:00\",\"2014-05-19T00:00:00\",\"2014-05-20T00:00:00\",\"2014-05-21T00:00:00\",\"2014-05-22T00:00:00\",\"2014-05-23T00:00:00\",\"2014-05-27T00:00:00\",\"2014-05-28T00:00:00\",\"2014-05-29T00:00:00\",\"2014-05-30T00:00:00\",\"2014-06-02T00:00:00\",\"2014-06-03T00:00:00\",\"2014-06-04T00:00:00\",\"2014-06-05T00:00:00\",\"2014-06-06T00:00:00\",\"2014-06-09T00:00:00\",\"2014-06-10T00:00:00\",\"2014-06-11T00:00:00\",\"2014-06-12T00:00:00\",\"2014-06-13T00:00:00\",\"2014-06-16T00:00:00\",\"2014-06-17T00:00:00\",\"2014-06-18T00:00:00\",\"2014-06-19T00:00:00\",\"2014-06-20T00:00:00\",\"2014-06-23T00:00:00\",\"2014-06-24T00:00:00\",\"2014-06-25T00:00:00\",\"2014-06-26T00:00:00\",\"2014-06-27T00:00:00\",\"2014-06-30T00:00:00\",\"2014-07-01T00:00:00\",\"2014-07-02T00:00:00\",\"2014-07-03T00:00:00\",\"2014-07-07T00:00:00\",\"2014-07-08T00:00:00\",\"2014-07-09T00:00:00\",\"2014-07-10T00:00:00\",\"2014-07-11T00:00:00\",\"2014-07-14T00:00:00\",\"2014-07-15T00:00:00\",\"2014-07-16T00:00:00\",\"2014-07-17T00:00:00\",\"2014-07-18T00:00:00\",\"2014-07-21T00:00:00\",\"2014-07-22T00:00:00\",\"2014-07-23T00:00:00\",\"2014-07-24T00:00:00\",\"2014-07-25T00:00:00\",\"2014-07-28T00:00:00\",\"2014-07-29T00:00:00\",\"2014-07-30T00:00:00\",\"2014-07-31T00:00:00\",\"2014-08-01T00:00:00\",\"2014-08-04T00:00:00\",\"2014-08-05T00:00:00\",\"2014-08-06T00:00:00\",\"2014-08-07T00:00:00\",\"2014-08-08T00:00:00\",\"2014-08-11T00:00:00\",\"2014-08-12T00:00:00\",\"2014-08-13T00:00:00\",\"2014-08-14T00:00:00\",\"2014-08-15T00:00:00\",\"2014-08-18T00:00:00\",\"2014-08-19T00:00:00\",\"2014-08-20T00:00:00\",\"2014-08-21T00:00:00\",\"2014-08-22T00:00:00\",\"2014-08-25T00:00:00\",\"2014-08-26T00:00:00\",\"2014-08-27T00:00:00\",\"2014-08-28T00:00:00\",\"2014-08-29T00:00:00\",\"2014-09-02T00:00:00\",\"2014-09-03T00:00:00\",\"2014-09-04T00:00:00\",\"2014-09-05T00:00:00\",\"2014-09-08T00:00:00\",\"2014-09-09T00:00:00\",\"2014-09-10T00:00:00\",\"2014-09-11T00:00:00\",\"2014-09-12T00:00:00\",\"2014-09-15T00:00:00\",\"2014-09-16T00:00:00\",\"2014-09-17T00:00:00\",\"2014-09-18T00:00:00\",\"2014-09-19T00:00:00\",\"2014-09-22T00:00:00\",\"2014-09-23T00:00:00\",\"2014-09-24T00:00:00\",\"2014-09-25T00:00:00\",\"2014-09-26T00:00:00\",\"2014-09-29T00:00:00\",\"2014-09-30T00:00:00\",\"2014-10-01T00:00:00\",\"2014-10-02T00:00:00\",\"2014-10-03T00:00:00\",\"2014-10-06T00:00:00\",\"2014-10-07T00:00:00\",\"2014-10-08T00:00:00\",\"2014-10-09T00:00:00\",\"2014-10-10T00:00:00\",\"2014-10-13T00:00:00\",\"2014-10-14T00:00:00\",\"2014-10-15T00:00:00\",\"2014-10-16T00:00:00\",\"2014-10-17T00:00:00\",\"2014-10-20T00:00:00\",\"2014-10-21T00:00:00\",\"2014-10-22T00:00:00\",\"2014-10-23T00:00:00\",\"2014-10-24T00:00:00\",\"2014-10-27T00:00:00\",\"2014-10-28T00:00:00\",\"2014-10-29T00:00:00\",\"2014-10-30T00:00:00\",\"2014-10-31T00:00:00\",\"2014-11-03T00:00:00\",\"2014-11-04T00:00:00\",\"2014-11-05T00:00:00\",\"2014-11-06T00:00:00\",\"2014-11-07T00:00:00\",\"2014-11-10T00:00:00\",\"2014-11-11T00:00:00\",\"2014-11-12T00:00:00\",\"2014-11-13T00:00:00\",\"2014-11-14T00:00:00\",\"2014-11-17T00:00:00\",\"2014-11-18T00:00:00\",\"2014-11-19T00:00:00\",\"2014-11-20T00:00:00\",\"2014-11-21T00:00:00\",\"2014-11-24T00:00:00\",\"2014-11-25T00:00:00\",\"2014-11-26T00:00:00\",\"2014-11-28T00:00:00\",\"2014-12-01T00:00:00\",\"2014-12-02T00:00:00\",\"2014-12-03T00:00:00\",\"2014-12-04T00:00:00\",\"2014-12-05T00:00:00\",\"2014-12-08T00:00:00\",\"2014-12-09T00:00:00\",\"2014-12-10T00:00:00\",\"2014-12-11T00:00:00\",\"2014-12-12T00:00:00\",\"2014-12-15T00:00:00\",\"2014-12-16T00:00:00\",\"2014-12-17T00:00:00\",\"2014-12-18T00:00:00\",\"2014-12-19T00:00:00\",\"2014-12-22T00:00:00\",\"2014-12-23T00:00:00\",\"2014-12-24T00:00:00\",\"2014-12-26T00:00:00\",\"2014-12-29T00:00:00\",\"2014-12-30T00:00:00\",\"2014-12-31T00:00:00\",\"2015-01-02T00:00:00\",\"2015-01-05T00:00:00\",\"2015-01-06T00:00:00\",\"2015-01-07T00:00:00\",\"2015-01-08T00:00:00\",\"2015-01-09T00:00:00\",\"2015-01-12T00:00:00\",\"2015-01-13T00:00:00\",\"2015-01-14T00:00:00\",\"2015-01-15T00:00:00\",\"2015-01-16T00:00:00\",\"2015-01-20T00:00:00\",\"2015-01-21T00:00:00\",\"2015-01-22T00:00:00\",\"2015-01-23T00:00:00\",\"2015-01-26T00:00:00\",\"2015-01-27T00:00:00\",\"2015-01-28T00:00:00\",\"2015-01-29T00:00:00\",\"2015-01-30T00:00:00\",\"2015-02-02T00:00:00\",\"2015-02-03T00:00:00\",\"2015-02-04T00:00:00\",\"2015-02-05T00:00:00\",\"2015-02-06T00:00:00\",\"2015-02-09T00:00:00\",\"2015-02-10T00:00:00\",\"2015-02-11T00:00:00\",\"2015-02-12T00:00:00\",\"2015-02-13T00:00:00\",\"2015-02-17T00:00:00\",\"2015-02-18T00:00:00\",\"2015-02-19T00:00:00\",\"2015-02-20T00:00:00\",\"2015-02-23T00:00:00\",\"2015-02-24T00:00:00\",\"2015-02-25T00:00:00\",\"2015-02-26T00:00:00\",\"2015-02-27T00:00:00\",\"2015-03-02T00:00:00\",\"2015-03-03T00:00:00\",\"2015-03-04T00:00:00\",\"2015-03-05T00:00:00\",\"2015-03-06T00:00:00\",\"2015-03-09T00:00:00\",\"2015-03-10T00:00:00\",\"2015-03-11T00:00:00\",\"2015-03-12T00:00:00\",\"2015-03-13T00:00:00\",\"2015-03-16T00:00:00\",\"2015-03-17T00:00:00\",\"2015-03-18T00:00:00\",\"2015-03-19T00:00:00\",\"2015-03-20T00:00:00\",\"2015-03-23T00:00:00\",\"2015-03-24T00:00:00\",\"2015-03-25T00:00:00\",\"2015-03-26T00:00:00\",\"2015-03-27T00:00:00\",\"2015-03-30T00:00:00\",\"2015-03-31T00:00:00\",\"2015-04-01T00:00:00\",\"2015-04-02T00:00:00\",\"2015-04-06T00:00:00\",\"2015-04-07T00:00:00\",\"2015-04-08T00:00:00\",\"2015-04-09T00:00:00\",\"2015-04-10T00:00:00\",\"2015-04-13T00:00:00\",\"2015-04-14T00:00:00\",\"2015-04-15T00:00:00\",\"2015-04-16T00:00:00\",\"2015-04-17T00:00:00\",\"2015-04-20T00:00:00\",\"2015-04-21T00:00:00\",\"2015-04-22T00:00:00\",\"2015-04-23T00:00:00\",\"2015-04-24T00:00:00\",\"2015-04-27T00:00:00\",\"2015-04-28T00:00:00\",\"2015-04-29T00:00:00\",\"2015-04-30T00:00:00\",\"2015-05-01T00:00:00\",\"2015-05-04T00:00:00\",\"2015-05-05T00:00:00\",\"2015-05-06T00:00:00\",\"2015-05-07T00:00:00\",\"2015-05-08T00:00:00\",\"2015-05-11T00:00:00\",\"2015-05-12T00:00:00\",\"2015-05-13T00:00:00\",\"2015-05-14T00:00:00\",\"2015-05-15T00:00:00\",\"2015-05-18T00:00:00\",\"2015-05-19T00:00:00\",\"2015-05-20T00:00:00\",\"2015-05-21T00:00:00\",\"2015-05-22T00:00:00\",\"2015-05-26T00:00:00\",\"2015-05-27T00:00:00\",\"2015-05-28T00:00:00\",\"2015-05-29T00:00:00\",\"2015-06-01T00:00:00\",\"2015-06-02T00:00:00\",\"2015-06-03T00:00:00\",\"2015-06-04T00:00:00\",\"2015-06-05T00:00:00\",\"2015-06-08T00:00:00\",\"2015-06-09T00:00:00\",\"2015-06-10T00:00:00\",\"2015-06-11T00:00:00\",\"2015-06-12T00:00:00\",\"2015-06-15T00:00:00\",\"2015-06-16T00:00:00\",\"2015-06-17T00:00:00\",\"2015-06-18T00:00:00\",\"2015-06-19T00:00:00\",\"2015-06-22T00:00:00\",\"2015-06-23T00:00:00\",\"2015-06-24T00:00:00\",\"2015-06-25T00:00:00\",\"2015-06-26T00:00:00\",\"2015-06-29T00:00:00\",\"2015-06-30T00:00:00\",\"2015-07-01T00:00:00\",\"2015-07-02T00:00:00\",\"2015-07-06T00:00:00\",\"2015-07-07T00:00:00\",\"2015-07-08T00:00:00\",\"2015-07-09T00:00:00\",\"2015-07-10T00:00:00\",\"2015-07-13T00:00:00\",\"2015-07-14T00:00:00\",\"2015-07-15T00:00:00\",\"2015-07-16T00:00:00\",\"2015-07-17T00:00:00\",\"2015-07-20T00:00:00\",\"2015-07-21T00:00:00\",\"2015-07-22T00:00:00\",\"2015-07-23T00:00:00\",\"2015-07-24T00:00:00\",\"2015-07-27T00:00:00\",\"2015-07-28T00:00:00\",\"2015-07-29T00:00:00\",\"2015-07-30T00:00:00\",\"2015-07-31T00:00:00\",\"2015-08-03T00:00:00\",\"2015-08-04T00:00:00\",\"2015-08-05T00:00:00\",\"2015-08-06T00:00:00\",\"2015-08-07T00:00:00\",\"2015-08-10T00:00:00\",\"2015-08-11T00:00:00\",\"2015-08-12T00:00:00\",\"2015-08-13T00:00:00\",\"2015-08-14T00:00:00\",\"2015-08-17T00:00:00\",\"2015-08-18T00:00:00\",\"2015-08-19T00:00:00\",\"2015-08-20T00:00:00\",\"2015-08-21T00:00:00\",\"2015-08-24T00:00:00\",\"2015-08-25T00:00:00\",\"2015-08-26T00:00:00\",\"2015-08-27T00:00:00\",\"2015-08-28T00:00:00\",\"2015-08-31T00:00:00\",\"2015-09-01T00:00:00\",\"2015-09-02T00:00:00\",\"2015-09-03T00:00:00\",\"2015-09-04T00:00:00\",\"2015-09-08T00:00:00\",\"2015-09-09T00:00:00\",\"2015-09-10T00:00:00\",\"2015-09-11T00:00:00\",\"2015-09-14T00:00:00\",\"2015-09-15T00:00:00\",\"2015-09-16T00:00:00\",\"2015-09-17T00:00:00\",\"2015-09-18T00:00:00\",\"2015-09-21T00:00:00\",\"2015-09-22T00:00:00\",\"2015-09-23T00:00:00\",\"2015-09-24T00:00:00\",\"2015-09-25T00:00:00\",\"2015-09-28T00:00:00\",\"2015-09-29T00:00:00\",\"2015-09-30T00:00:00\",\"2015-10-01T00:00:00\",\"2015-10-02T00:00:00\",\"2015-10-05T00:00:00\",\"2015-10-06T00:00:00\",\"2015-10-07T00:00:00\",\"2015-10-08T00:00:00\",\"2015-10-09T00:00:00\",\"2015-10-12T00:00:00\",\"2015-10-13T00:00:00\",\"2015-10-14T00:00:00\",\"2015-10-15T00:00:00\",\"2015-10-16T00:00:00\",\"2015-10-19T00:00:00\",\"2015-10-20T00:00:00\",\"2015-10-21T00:00:00\",\"2015-10-22T00:00:00\",\"2015-10-23T00:00:00\",\"2015-10-26T00:00:00\",\"2015-10-27T00:00:00\",\"2015-10-28T00:00:00\",\"2015-10-29T00:00:00\",\"2015-10-30T00:00:00\",\"2015-11-02T00:00:00\",\"2015-11-03T00:00:00\",\"2015-11-04T00:00:00\",\"2015-11-05T00:00:00\",\"2015-11-06T00:00:00\",\"2015-11-09T00:00:00\",\"2015-11-10T00:00:00\",\"2015-11-11T00:00:00\",\"2015-11-12T00:00:00\",\"2015-11-13T00:00:00\",\"2015-11-16T00:00:00\",\"2015-11-17T00:00:00\",\"2015-11-18T00:00:00\",\"2015-11-19T00:00:00\",\"2015-11-20T00:00:00\",\"2015-11-23T00:00:00\",\"2015-11-24T00:00:00\",\"2015-11-25T00:00:00\",\"2015-11-27T00:00:00\",\"2015-11-30T00:00:00\",\"2015-12-01T00:00:00\",\"2015-12-02T00:00:00\",\"2015-12-03T00:00:00\",\"2015-12-04T00:00:00\",\"2015-12-07T00:00:00\",\"2015-12-08T00:00:00\",\"2015-12-09T00:00:00\",\"2015-12-10T00:00:00\",\"2015-12-11T00:00:00\",\"2015-12-14T00:00:00\",\"2015-12-15T00:00:00\",\"2015-12-16T00:00:00\",\"2015-12-17T00:00:00\",\"2015-12-18T00:00:00\",\"2015-12-21T00:00:00\",\"2015-12-22T00:00:00\",\"2015-12-23T00:00:00\",\"2015-12-24T00:00:00\",\"2015-12-28T00:00:00\",\"2015-12-29T00:00:00\",\"2015-12-30T00:00:00\",\"2015-12-31T00:00:00\",\"2016-01-04T00:00:00\",\"2016-01-05T00:00:00\",\"2016-01-06T00:00:00\",\"2016-01-07T00:00:00\",\"2016-01-08T00:00:00\",\"2016-01-11T00:00:00\",\"2016-01-12T00:00:00\",\"2016-01-13T00:00:00\",\"2016-01-14T00:00:00\",\"2016-01-15T00:00:00\",\"2016-01-19T00:00:00\",\"2016-01-20T00:00:00\",\"2016-01-21T00:00:00\",\"2016-01-22T00:00:00\",\"2016-01-25T00:00:00\",\"2016-01-26T00:00:00\",\"2016-01-27T00:00:00\",\"2016-01-28T00:00:00\",\"2016-01-29T00:00:00\",\"2016-02-01T00:00:00\",\"2016-02-02T00:00:00\",\"2016-02-03T00:00:00\",\"2016-02-04T00:00:00\",\"2016-02-05T00:00:00\",\"2016-02-08T00:00:00\",\"2016-02-09T00:00:00\",\"2016-02-10T00:00:00\",\"2016-02-11T00:00:00\",\"2016-02-12T00:00:00\",\"2016-02-16T00:00:00\",\"2016-02-17T00:00:00\",\"2016-02-18T00:00:00\",\"2016-02-19T00:00:00\",\"2016-02-22T00:00:00\",\"2016-02-23T00:00:00\",\"2016-02-24T00:00:00\",\"2016-02-25T00:00:00\",\"2016-02-26T00:00:00\",\"2016-02-29T00:00:00\",\"2016-03-01T00:00:00\",\"2016-03-02T00:00:00\",\"2016-03-03T00:00:00\",\"2016-03-04T00:00:00\",\"2016-03-07T00:00:00\",\"2016-03-08T00:00:00\",\"2016-03-09T00:00:00\",\"2016-03-10T00:00:00\",\"2016-03-11T00:00:00\",\"2016-03-14T00:00:00\",\"2016-03-15T00:00:00\",\"2016-03-16T00:00:00\",\"2016-03-17T00:00:00\",\"2016-03-18T00:00:00\",\"2016-03-21T00:00:00\",\"2016-03-22T00:00:00\",\"2016-03-23T00:00:00\",\"2016-03-24T00:00:00\",\"2016-03-28T00:00:00\",\"2016-03-29T00:00:00\",\"2016-03-30T00:00:00\",\"2016-03-31T00:00:00\",\"2016-04-01T00:00:00\",\"2016-04-04T00:00:00\",\"2016-04-05T00:00:00\",\"2016-04-06T00:00:00\",\"2016-04-07T00:00:00\",\"2016-04-08T00:00:00\",\"2016-04-11T00:00:00\",\"2016-04-12T00:00:00\",\"2016-04-13T00:00:00\",\"2016-04-14T00:00:00\",\"2016-04-15T00:00:00\",\"2016-04-18T00:00:00\",\"2016-04-19T00:00:00\",\"2016-04-20T00:00:00\",\"2016-04-21T00:00:00\",\"2016-04-22T00:00:00\",\"2016-04-25T00:00:00\",\"2016-04-26T00:00:00\",\"2016-04-27T00:00:00\",\"2016-04-28T00:00:00\",\"2016-04-29T00:00:00\",\"2016-05-02T00:00:00\",\"2016-05-03T00:00:00\",\"2016-05-04T00:00:00\",\"2016-05-05T00:00:00\",\"2016-05-06T00:00:00\",\"2016-05-09T00:00:00\",\"2016-05-10T00:00:00\",\"2016-05-11T00:00:00\",\"2016-05-12T00:00:00\",\"2016-05-13T00:00:00\",\"2016-05-16T00:00:00\",\"2016-05-17T00:00:00\",\"2016-05-18T00:00:00\",\"2016-05-19T00:00:00\",\"2016-05-20T00:00:00\",\"2016-05-23T00:00:00\",\"2016-05-24T00:00:00\",\"2016-05-25T00:00:00\",\"2016-05-26T00:00:00\",\"2016-05-27T00:00:00\",\"2016-05-31T00:00:00\",\"2016-06-01T00:00:00\",\"2016-06-02T00:00:00\",\"2016-06-03T00:00:00\",\"2016-06-06T00:00:00\",\"2016-06-07T00:00:00\",\"2016-06-08T00:00:00\",\"2016-06-09T00:00:00\",\"2016-06-10T00:00:00\",\"2016-06-13T00:00:00\",\"2016-06-14T00:00:00\",\"2016-06-15T00:00:00\",\"2016-06-16T00:00:00\",\"2016-06-17T00:00:00\",\"2016-06-20T00:00:00\",\"2016-06-21T00:00:00\",\"2016-06-22T00:00:00\",\"2016-06-23T00:00:00\",\"2016-06-24T00:00:00\",\"2016-06-27T00:00:00\",\"2016-06-28T00:00:00\",\"2016-06-29T00:00:00\",\"2016-06-30T00:00:00\",\"2016-07-01T00:00:00\",\"2016-07-05T00:00:00\",\"2016-07-06T00:00:00\",\"2016-07-07T00:00:00\",\"2016-07-08T00:00:00\",\"2016-07-11T00:00:00\",\"2016-07-12T00:00:00\",\"2016-07-13T00:00:00\",\"2016-07-14T00:00:00\",\"2016-07-15T00:00:00\",\"2016-07-18T00:00:00\",\"2016-07-19T00:00:00\",\"2016-07-20T00:00:00\",\"2016-07-21T00:00:00\",\"2016-07-22T00:00:00\",\"2016-07-25T00:00:00\",\"2016-07-26T00:00:00\",\"2016-07-27T00:00:00\",\"2016-07-28T00:00:00\",\"2016-07-29T00:00:00\",\"2016-08-01T00:00:00\",\"2016-08-02T00:00:00\",\"2016-08-03T00:00:00\",\"2016-08-04T00:00:00\",\"2016-08-05T00:00:00\",\"2016-08-08T00:00:00\",\"2016-08-09T00:00:00\",\"2016-08-10T00:00:00\",\"2016-08-11T00:00:00\",\"2016-08-12T00:00:00\",\"2016-08-15T00:00:00\",\"2016-08-16T00:00:00\",\"2016-08-17T00:00:00\",\"2016-08-18T00:00:00\",\"2016-08-19T00:00:00\",\"2016-08-22T00:00:00\",\"2016-08-23T00:00:00\",\"2016-08-24T00:00:00\",\"2016-08-25T00:00:00\",\"2016-08-26T00:00:00\",\"2016-08-29T00:00:00\",\"2016-08-30T00:00:00\",\"2016-08-31T00:00:00\",\"2016-09-01T00:00:00\",\"2016-09-02T00:00:00\",\"2016-09-06T00:00:00\",\"2016-09-07T00:00:00\",\"2016-09-08T00:00:00\",\"2016-09-09T00:00:00\",\"2016-09-12T00:00:00\",\"2016-09-13T00:00:00\",\"2016-09-14T00:00:00\",\"2016-09-15T00:00:00\",\"2016-09-16T00:00:00\",\"2016-09-19T00:00:00\",\"2016-09-20T00:00:00\",\"2016-09-21T00:00:00\",\"2016-09-22T00:00:00\",\"2016-09-23T00:00:00\",\"2016-09-26T00:00:00\",\"2016-09-27T00:00:00\",\"2016-09-28T00:00:00\",\"2016-09-29T00:00:00\",\"2016-09-30T00:00:00\",\"2016-10-03T00:00:00\",\"2016-10-04T00:00:00\",\"2016-10-05T00:00:00\",\"2016-10-06T00:00:00\",\"2016-10-07T00:00:00\",\"2016-10-10T00:00:00\",\"2016-10-11T00:00:00\",\"2016-10-12T00:00:00\",\"2016-10-13T00:00:00\",\"2016-10-14T00:00:00\",\"2016-10-17T00:00:00\",\"2016-10-18T00:00:00\",\"2016-10-19T00:00:00\",\"2016-10-20T00:00:00\",\"2016-10-21T00:00:00\",\"2016-10-24T00:00:00\",\"2016-10-25T00:00:00\",\"2016-10-26T00:00:00\",\"2016-10-27T00:00:00\",\"2016-10-28T00:00:00\",\"2016-10-31T00:00:00\",\"2016-11-01T00:00:00\",\"2016-11-02T00:00:00\",\"2016-11-03T00:00:00\",\"2016-11-04T00:00:00\",\"2016-11-07T00:00:00\",\"2016-11-08T00:00:00\",\"2016-11-09T00:00:00\",\"2016-11-10T00:00:00\",\"2016-11-11T00:00:00\",\"2016-11-14T00:00:00\",\"2016-11-15T00:00:00\",\"2016-11-16T00:00:00\",\"2016-11-17T00:00:00\",\"2016-11-18T00:00:00\",\"2016-11-21T00:00:00\",\"2016-11-22T00:00:00\",\"2016-11-23T00:00:00\",\"2016-11-25T00:00:00\",\"2016-11-28T00:00:00\",\"2016-11-29T00:00:00\",\"2016-11-30T00:00:00\",\"2016-12-01T00:00:00\",\"2016-12-02T00:00:00\",\"2016-12-05T00:00:00\",\"2016-12-06T00:00:00\",\"2016-12-07T00:00:00\",\"2016-12-08T00:00:00\",\"2016-12-09T00:00:00\",\"2016-12-12T00:00:00\",\"2016-12-13T00:00:00\",\"2016-12-14T00:00:00\",\"2016-12-15T00:00:00\",\"2016-12-16T00:00:00\",\"2016-12-19T00:00:00\",\"2016-12-20T00:00:00\",\"2016-12-21T00:00:00\",\"2016-12-22T00:00:00\",\"2016-12-23T00:00:00\",\"2016-12-27T00:00:00\",\"2016-12-28T00:00:00\",\"2016-12-29T00:00:00\",\"2016-12-30T00:00:00\",\"2017-01-03T00:00:00\",\"2017-01-04T00:00:00\",\"2017-01-05T00:00:00\",\"2017-01-06T00:00:00\",\"2017-01-09T00:00:00\",\"2017-01-10T00:00:00\",\"2017-01-11T00:00:00\",\"2017-01-12T00:00:00\",\"2017-01-13T00:00:00\",\"2017-01-17T00:00:00\",\"2017-01-18T00:00:00\",\"2017-01-19T00:00:00\",\"2017-01-20T00:00:00\",\"2017-01-23T00:00:00\",\"2017-01-24T00:00:00\",\"2017-01-25T00:00:00\",\"2017-01-26T00:00:00\",\"2017-01-27T00:00:00\",\"2017-01-30T00:00:00\",\"2017-01-31T00:00:00\",\"2017-02-01T00:00:00\",\"2017-02-02T00:00:00\",\"2017-02-03T00:00:00\",\"2017-02-06T00:00:00\",\"2017-02-07T00:00:00\",\"2017-02-08T00:00:00\",\"2017-02-09T00:00:00\",\"2017-02-10T00:00:00\",\"2017-02-13T00:00:00\",\"2017-02-14T00:00:00\",\"2017-02-15T00:00:00\",\"2017-02-16T00:00:00\",\"2017-02-17T00:00:00\",\"2017-02-21T00:00:00\",\"2017-02-22T00:00:00\",\"2017-02-23T00:00:00\",\"2017-02-24T00:00:00\",\"2017-02-27T00:00:00\",\"2017-02-28T00:00:00\",\"2017-03-01T00:00:00\",\"2017-03-02T00:00:00\",\"2017-03-03T00:00:00\",\"2017-03-06T00:00:00\",\"2017-03-07T00:00:00\",\"2017-03-08T00:00:00\",\"2017-03-09T00:00:00\",\"2017-03-10T00:00:00\",\"2017-03-13T00:00:00\",\"2017-03-14T00:00:00\",\"2017-03-15T00:00:00\",\"2017-03-16T00:00:00\",\"2017-03-17T00:00:00\",\"2017-03-20T00:00:00\",\"2017-03-21T00:00:00\",\"2017-03-22T00:00:00\",\"2017-03-23T00:00:00\",\"2017-03-24T00:00:00\",\"2017-03-27T00:00:00\",\"2017-03-28T00:00:00\",\"2017-03-29T00:00:00\",\"2017-03-30T00:00:00\",\"2017-03-31T00:00:00\",\"2017-04-03T00:00:00\",\"2017-04-04T00:00:00\",\"2017-04-05T00:00:00\",\"2017-04-06T00:00:00\",\"2017-04-07T00:00:00\",\"2017-04-10T00:00:00\",\"2017-04-11T00:00:00\",\"2017-04-12T00:00:00\",\"2017-04-13T00:00:00\",\"2017-04-17T00:00:00\",\"2017-04-18T00:00:00\",\"2017-04-19T00:00:00\",\"2017-04-20T00:00:00\",\"2017-04-21T00:00:00\",\"2017-04-24T00:00:00\",\"2017-04-25T00:00:00\",\"2017-04-26T00:00:00\",\"2017-04-27T00:00:00\",\"2017-04-28T00:00:00\",\"2017-05-01T00:00:00\",\"2017-05-02T00:00:00\",\"2017-05-03T00:00:00\",\"2017-05-04T00:00:00\",\"2017-05-05T00:00:00\",\"2017-05-08T00:00:00\",\"2017-05-09T00:00:00\",\"2017-05-10T00:00:00\",\"2017-05-11T00:00:00\",\"2017-05-12T00:00:00\",\"2017-05-15T00:00:00\",\"2017-05-16T00:00:00\",\"2017-05-17T00:00:00\",\"2017-05-18T00:00:00\",\"2017-05-19T00:00:00\",\"2017-05-22T00:00:00\",\"2017-05-23T00:00:00\",\"2017-05-24T00:00:00\",\"2017-05-25T00:00:00\",\"2017-05-26T00:00:00\",\"2017-05-30T00:00:00\",\"2017-05-31T00:00:00\",\"2017-06-01T00:00:00\",\"2017-06-02T00:00:00\",\"2017-06-05T00:00:00\",\"2017-06-06T00:00:00\",\"2017-06-07T00:00:00\",\"2017-06-08T00:00:00\",\"2017-06-09T00:00:00\",\"2017-06-12T00:00:00\",\"2017-06-13T00:00:00\",\"2017-06-14T00:00:00\",\"2017-06-15T00:00:00\",\"2017-06-16T00:00:00\",\"2017-06-19T00:00:00\",\"2017-06-20T00:00:00\",\"2017-06-21T00:00:00\",\"2017-06-22T00:00:00\",\"2017-06-23T00:00:00\",\"2017-06-26T00:00:00\",\"2017-06-27T00:00:00\",\"2017-06-28T00:00:00\",\"2017-06-29T00:00:00\",\"2017-06-30T00:00:00\",\"2017-07-03T00:00:00\",\"2017-07-05T00:00:00\",\"2017-07-06T00:00:00\",\"2017-07-07T00:00:00\",\"2017-07-10T00:00:00\",\"2017-07-11T00:00:00\",\"2017-07-12T00:00:00\",\"2017-07-13T00:00:00\",\"2017-07-14T00:00:00\",\"2017-07-17T00:00:00\",\"2017-07-18T00:00:00\",\"2017-07-19T00:00:00\",\"2017-07-20T00:00:00\",\"2017-07-21T00:00:00\",\"2017-07-24T00:00:00\",\"2017-07-25T00:00:00\",\"2017-07-26T00:00:00\",\"2017-07-27T00:00:00\",\"2017-07-28T00:00:00\",\"2017-07-31T00:00:00\",\"2017-08-01T00:00:00\",\"2017-08-02T00:00:00\",\"2017-08-03T00:00:00\",\"2017-08-04T00:00:00\",\"2017-08-07T00:00:00\",\"2017-08-08T00:00:00\",\"2017-08-09T00:00:00\",\"2017-08-10T00:00:00\",\"2017-08-11T00:00:00\",\"2017-08-14T00:00:00\",\"2017-08-15T00:00:00\",\"2017-08-16T00:00:00\",\"2017-08-17T00:00:00\",\"2017-08-18T00:00:00\",\"2017-08-21T00:00:00\",\"2017-08-22T00:00:00\",\"2017-08-23T00:00:00\",\"2017-08-24T00:00:00\",\"2017-08-25T00:00:00\",\"2017-08-28T00:00:00\",\"2017-08-29T00:00:00\",\"2017-08-30T00:00:00\",\"2017-08-31T00:00:00\",\"2017-09-01T00:00:00\",\"2017-09-05T00:00:00\",\"2017-09-06T00:00:00\",\"2017-09-07T00:00:00\",\"2017-09-08T00:00:00\",\"2017-09-11T00:00:00\",\"2017-09-12T00:00:00\",\"2017-09-13T00:00:00\",\"2017-09-14T00:00:00\",\"2017-09-15T00:00:00\",\"2017-09-18T00:00:00\",\"2017-09-19T00:00:00\",\"2017-09-20T00:00:00\",\"2017-09-21T00:00:00\",\"2017-09-22T00:00:00\",\"2017-09-25T00:00:00\",\"2017-09-26T00:00:00\",\"2017-09-27T00:00:00\",\"2017-09-28T00:00:00\",\"2017-09-29T00:00:00\",\"2017-10-02T00:00:00\",\"2017-10-03T00:00:00\",\"2017-10-04T00:00:00\",\"2017-10-05T00:00:00\",\"2017-10-06T00:00:00\",\"2017-10-09T00:00:00\",\"2017-10-10T00:00:00\",\"2017-10-11T00:00:00\",\"2017-10-12T00:00:00\",\"2017-10-13T00:00:00\",\"2017-10-16T00:00:00\",\"2017-10-17T00:00:00\",\"2017-10-18T00:00:00\",\"2017-10-19T00:00:00\",\"2017-10-20T00:00:00\",\"2017-10-23T00:00:00\",\"2017-10-24T00:00:00\",\"2017-10-25T00:00:00\",\"2017-10-26T00:00:00\",\"2017-10-27T00:00:00\",\"2017-10-30T00:00:00\",\"2017-10-31T00:00:00\",\"2017-11-01T00:00:00\",\"2017-11-02T00:00:00\",\"2017-11-03T00:00:00\",\"2017-11-06T00:00:00\",\"2017-11-07T00:00:00\",\"2017-11-08T00:00:00\",\"2017-11-09T00:00:00\",\"2017-11-10T00:00:00\",\"2017-11-13T00:00:00\",\"2017-11-14T00:00:00\",\"2017-11-15T00:00:00\",\"2017-11-16T00:00:00\",\"2017-11-17T00:00:00\",\"2017-11-20T00:00:00\",\"2017-11-21T00:00:00\",\"2017-11-22T00:00:00\",\"2017-11-24T00:00:00\",\"2017-11-27T00:00:00\",\"2017-11-28T00:00:00\",\"2017-11-29T00:00:00\",\"2017-11-30T00:00:00\",\"2017-12-01T00:00:00\",\"2017-12-04T00:00:00\",\"2017-12-05T00:00:00\",\"2017-12-06T00:00:00\",\"2017-12-07T00:00:00\",\"2017-12-08T00:00:00\",\"2017-12-11T00:00:00\",\"2017-12-12T00:00:00\",\"2017-12-13T00:00:00\",\"2017-12-14T00:00:00\",\"2017-12-15T00:00:00\",\"2017-12-18T00:00:00\",\"2017-12-19T00:00:00\",\"2017-12-20T00:00:00\",\"2017-12-21T00:00:00\",\"2017-12-22T00:00:00\",\"2017-12-26T00:00:00\",\"2017-12-27T00:00:00\",\"2017-12-28T00:00:00\",\"2017-12-29T00:00:00\",\"2018-01-02T00:00:00\",\"2018-01-03T00:00:00\",\"2018-01-04T00:00:00\",\"2018-01-05T00:00:00\",\"2018-01-08T00:00:00\",\"2018-01-09T00:00:00\",\"2018-01-10T00:00:00\",\"2018-01-11T00:00:00\",\"2018-01-12T00:00:00\",\"2018-01-16T00:00:00\",\"2018-01-17T00:00:00\",\"2018-01-18T00:00:00\",\"2018-01-19T00:00:00\",\"2018-01-22T00:00:00\",\"2018-01-23T00:00:00\",\"2018-01-24T00:00:00\",\"2018-01-25T00:00:00\",\"2018-01-26T00:00:00\",\"2018-01-29T00:00:00\",\"2018-01-30T00:00:00\",\"2018-01-31T00:00:00\",\"2018-02-01T00:00:00\",\"2018-02-02T00:00:00\",\"2018-02-05T00:00:00\",\"2018-02-06T00:00:00\",\"2018-02-07T00:00:00\"],\"y\":[67.8542,68.5614,66.8428,66.7156,66.6556,65.7371,65.7128,64.1214,63.7228,64.4014,63.2571,64.1385,63.5099,63.0571,61.4957,60.0071,61.5919,60.8088,61.5117,61.6742,62.5528,61.2042,61.1928,61.7857,63.3799,65.1028,64.9271,64.5828,64.6756,65.9871,66.2256,65.8765,64.5828,63.2371,61.2728,61.3988,61.7128,61.1028,60.4571,60.8871,60.9971,62.2414,62.0471,61.3999,59.9785,60.8914,57.5428,56.0071,55.7899,56.9528,58.0185,57.9231,58.3399,59.6007,61.4457,63.2542,62.7557,63.6457,64.2828,65.8156,65.5225,66.2628,65.2528,64.7099,64.9628,63.4085,61.2642,62.0825,61.8942,63.2757,62.8085,63.0505,63.1628,63.5928,63.0627,63.5642,64.5114,64.2478,64.3885,64.1871,63.5871,62.6371,63.1158,62.6985,62.5142,61.7414,62.2807,61.4357,61.7142,61.6814,60.4285,59.5482,59.0714,57.5057,57.5185,56.8671,56.2542,56.6471,58.4599,59.7842,60.1142,59.6314,59.2928,60.3357,60.1042,61.0411,60.9299,61.0628,61.4564,61.4728,61.6797,60.7071,60.9014,59.8557,62.9299,62.6428,62.9985,63.9699,64.7599,64.6471,65.2394,66.0771,67.0642,66.4642,66.4256,65.8585,64.9214,66.7656,69.9385,71.2142,71.1299,71.7614,72.5342,71.5814,71.7656,71.8514,71.5742,71.8528,69.7985,70.1279,70.2428,69.6022,69.7971,71.2415,70.7528,71.1742,72.3099,70.6628,66.8156,67.5271,66.4142,64.3028,65.0456,66.3828,67.4714,66.7728,70.0914,69.8714,68.7899,69.4599,68.9642,68.1071,69.7085,69.9371,69.0585,69.0042,69.6785,68.7056,69.5125,69.9482,70.4016,70.8628,71.2399,71.5876,72.0714,72.6985,74.4802,74.2667,74.9942,75.9871,75.1368,75.6965,73.8111,74.9851,74.6716,74.2899,75.2499,75.0641,74.4171,73.2131,74.3656,74.1496,74.2871,74.3762,75.4514,74.9986,74.0898,74.2214,73.5714,74.4479,74.2571,74.8199,76.1999,77.9942,79.4385,78.7471,80.9031,80.7142,81.1286,80.0028,80.9185,80.7928,80.1942,80.0771,79.2042,79.6428,79.2842,78.6813,77.7799,78.4314,81.4413,81.0956,80.5571,80.0128,79.2171,80.1456,79.0185,77.2828,77.7042,77.1481,77.6371,76.6455,76.1342,76.5328,78.0556,79.6228,79.1785,77.2385,78.4385,78.7871,79.4542,78.0099,78.6428,72.3571,71.5356,71.3974,71.5142,71.6471,72.6842,73.2271,73.2156,74.2399,75.5699,76.5656,76.5599,77.7756,77.7128,77.9985,76.7671,75.8785,75.0356,75.3642,74.5799,73.9071,75.3814,75.1771,75.3942,75.8914,76.0514,75.8214,75.7771,75.8456,76.5842,76.6585,75.8071,74.9556,75.2485,75.9142,75.8942,75.5285,76.1242,77.0271,77.8556,77.1114,76.7799,76.6942,76.6771,77.3785,77.5071,76.9699,75.9742,74.7814,74.7771,75.7599,74.7828,74.2299,74.5256,73.9942,74.1442,74.9914,75.8814,75.9569,74.9642,81.1099,81.7056,84.8699,84.6185,84.2985,84.4971,84.6542,85.8513,84.9156,84.6185,83.9985,83.6488,84.6899,84.8228,84.8385,84.1171,85.3585,86.3699,86.3871,86.6156,86.7528,87.7328,89.3756,89.1442,90.7685,90.4285,89.8071,91.0771,92.1171,92.4785,92.2242,93.7,94.25,93.86,92.29,91.28,92.2,92.08,92.18,91.86,90.91,90.83,90.28,90.36,90.9,91.98,92.93,93.52,93.48,94.03,95.968,95.35,95.39,95.035,95.22,96.45,95.32,94.78,93.0899,94.43,93.939,94.72,97.19,97.03,97.671,99.02,98.38,98.15,95.6,96.13,95.59,95.12,94.96,94.48,94.74,95.99,95.97,97.24,97.5,97.98,99.16,100.53,100.57,100.58,101.32,101.54,100.889,102.13,102.25,102.5,103.3,98.94,98.12,98.97,98.36,97.99,101.0,101.43,101.66,101.63,100.86,101.58,101.79,100.96,101.06,102.64,101.75,97.87,100.75,100.11,100.75,99.18,99.9,99.62,99.62,98.75,100.8,101.02,100.73,99.81,98.75,97.54,96.26,97.67,99.76,102.47,102.99,104.83,105.22,105.11,106.74,107.34,106.98,108.0,109.4,108.6,108.86,108.7,109.01,108.83,109.7,111.25,112.82,114.18,113.99,115.47,114.67,116.31,116.47,118.625,117.6,119.0,118.93,115.07,114.63,115.93,115.49,115.0,112.4,114.12,111.95,111.62,109.73,108.225,106.745,109.41,112.65,111.78,112.94,112.54,112.01,113.99,113.91,112.52,110.38,109.33,106.25,106.26,107.75,111.89,112.01,109.25,110.22,109.8,106.82,105.99,108.72,109.55,112.4,112.98,113.1,109.14,115.31,118.9,117.16,118.63,118.65,119.56,119.94,118.93,119.72,122.02,124.88,126.46,127.08,127.83,128.715,128.45,129.495,133.0,132.17,128.79,130.415,128.46,129.09,129.36,128.54,126.41,126.6,127.14,124.51,122.24,124.45,123.59,124.95,127.04,128.47,127.495,125.9,127.21,126.69,123.38,124.24,123.25,126.37,124.43,124.25,125.32,127.35,126.01,125.6,126.56,127.1,126.85,126.3,126.78,126.17,124.75,127.6,126.91,128.62,129.67,130.28,132.65,130.56,128.64,125.15,128.95,128.7,125.8,125.01,125.26,127.62,126.32,125.865,126.01,128.95,128.77,130.19,130.07,130.06,131.39,132.54,129.62,132.045,131.78,130.28,130.535,129.96,130.12,129.36,128.65,127.8,127.42,128.88,128.59,127.17,126.92,127.6,127.3,127.88,126.6,127.61,127.03,128.11,127.5,126.75,124.53,125.425,126.6,126.44,126.0,125.69,122.57,120.07,123.28,125.66,125.61,126.82,128.51,129.62,132.07,130.75,125.22,125.16,124.5,122.77,123.38,122.99,122.37,121.3,118.44,114.64,115.4,115.13,115.52,119.72,113.49,115.24,115.15,115.96,117.16,116.5,115.01,112.65,105.76,103.12,103.74,109.69,112.92,113.29,112.76,107.72,112.34,110.37,109.27,112.31,110.15,112.57,114.21,115.31,116.28,116.41,113.92,113.45,115.21,113.4,114.32,115.0,114.71,112.44,109.06,110.3,109.58,110.38,110.78,111.31,110.78,109.5,112.12,111.6,111.79,110.21,111.86,111.04,111.73,113.77,113.76,115.5,119.08,115.28,114.55,119.27,120.53,119.5,121.18,122.57,122.0,120.92,121.06,120.57,116.77,116.11,115.72,112.34,114.175,113.69,117.29,118.78,119.3,117.75,118.88,118.03,117.81,118.3,117.34,116.28,115.2,119.03,118.28,118.23,115.62,116.17,113.18,112.48,110.49,111.34,108.98,106.03,107.33,107.23,108.61,108.03,106.82,108.74,107.32,105.26,105.35,102.71,100.7,96.45,96.96,98.53,99.96,97.39,99.52,97.13,96.66,96.79,96.3,101.42,99.44,99.99,93.42,94.09,97.34,96.43,94.48,96.35,96.6,94.02,95.01,94.99,94.27,93.7,93.99,96.64,98.12,96.26,96.04,96.88,94.69,96.1,96.76,96.91,96.69,100.53,100.75,101.5,103.01,101.87,101.03,101.12,101.17,102.26,102.52,104.58,105.97,105.8,105.92,105.91,106.72,106.13,105.67,105.19,107.68,109.56,108.99,109.99,111.12,109.81,110.96,108.54,108.66,109.02,110.44,112.04,112.1,109.85,107.48,106.91,107.13,105.97,105.68,105.08,104.35,97.82,94.83,93.74,93.64,95.18,94.19,93.24,92.72,92.79,93.42,92.51,90.34,90.52,93.88,93.49,94.56,94.2,95.22,96.43,97.9,99.62,100.41,100.35,99.86,98.46,97.72,97.92,98.63,99.03,98.94,99.65,98.83,97.34,97.46,97.14,97.55,95.33,95.1,95.91,95.55,96.1,93.4,92.04,93.59,94.4,95.6,95.89,94.99,95.53,95.94,96.68,96.98,97.42,96.87,98.79,98.78,99.83,99.87,99.96,99.43,98.66,97.34,96.67,102.95,104.34,104.21,106.05,104.48,105.79,105.87,107.48,108.37,108.81,108.0,107.93,108.18,109.48,109.38,109.22,109.08,109.36,108.51,108.85,108.03,107.57,106.94,106.82,106.0,106.1,106.73,107.73,107.7,108.36,105.52,103.13,105.44,107.95,111.77,115.57,114.92,113.58,113.57,113.55,114.62,112.71,112.88,113.09,113.95,112.18,113.05,112.52,113.0,113.05,113.89,114.06,116.05,116.3,117.34,116.98,117.63,117.55,117.47,117.12,117.06,116.6,117.65,118.25,115.59,114.48,113.72,113.54,111.49,111.59,109.83,108.84,110.41,111.06,110.88,107.79,108.43,105.71,107.11,109.99,109.95,110.06,111.73,111.8,111.23,111.79,111.57,111.46,110.52,109.49,109.9,109.11,109.95,111.03,112.12,113.95,113.3,115.19,115.19,115.82,115.97,116.64,116.95,117.06,116.29,116.52,117.26,116.76,116.73,115.82,116.15,116.02,116.61,117.91,118.99,119.11,119.75,119.25,119.04,120.0,119.99,119.78,120.0,120.08,119.97,121.88,121.94,121.95,121.63,121.35,128.75,128.53,129.08,130.29,131.53,132.04,132.42,132.12,133.29,135.02,135.51,135.345,135.72,136.7,137.11,136.53,136.66,136.93,136.99,139.79,138.96,139.78,139.34,139.52,139.0,138.68,139.14,139.2,138.99,140.46,140.69,139.99,141.46,139.84,141.42,140.92,140.64,140.88,143.8,144.12,143.93,143.66,143.7,144.77,144.02,143.66,143.34,143.17,141.63,141.8,141.05,141.83,141.2,140.68,142.44,142.27,143.64,144.53,143.68,143.79,143.65,146.58,147.51,147.06,146.53,148.96,153.01,153.99,153.26,153.95,156.1,155.7,155.47,150.25,152.54,153.06,153.99,153.8,153.34,153.87,153.61,153.67,152.76,153.18,155.45,153.93,154.45,155.37,154.99,148.98,145.42,146.59,145.16,144.29,142.27,146.34,145.01,145.87,145.63,146.28,145.82,143.73,145.83,143.68,144.02,143.5,144.09,142.73,144.18,145.06,145.53,145.74,147.77,149.04,149.56,150.08,151.02,150.34,150.27,152.09,152.74,153.46,150.56,149.5,148.73,158.59,157.14,155.57,156.39,158.81,160.08,161.06,155.32,157.48,159.85,161.6,160.95,157.86,157.5,157.21,159.78,159.98,159.27,159.86,161.47,162.91,163.35,164.0,164.05,162.08,161.91,161.26,158.63,161.5,160.86,159.65,158.28,159.88,158.67,158.73,156.07,153.39,151.89,150.55,153.14,154.23,153.28,154.12,153.81,154.48,153.48,155.39,155.3,155.84,155.9,156.55,156.0,156.99,159.88,160.47,159.76,155.98,156.25,156.17,157.1,156.41,157.41,163.05,166.72,169.04,166.89,168.11,172.5,174.25,174.81,176.24,175.88,174.67,173.97,171.34,169.08,171.1,170.15,169.98,173.14,174.96,174.97,174.09,173.07,169.48,171.85,171.05,169.8,169.64,169.01,169.32,169.37,172.67,171.7,172.27,172.22,173.97,176.42,174.54,174.35,175.01,175.01,170.57,170.6,171.08,169.23,172.26,172.23,173.03,175.0,174.35,174.33,174.29,175.28,177.09,176.19,179.1,179.26,178.46,177.0,177.04,174.22,171.11,171.51,167.96,166.97,167.43,167.78,160.5,156.49,163.03,159.54],\"type\":\"scatter\"},{\"name\":\"Facebook\",\"x\":[\"2013-02-08T00:00:00\",\"2013-02-11T00:00:00\",\"2013-02-12T00:00:00\",\"2013-02-13T00:00:00\",\"2013-02-14T00:00:00\",\"2013-02-15T00:00:00\",\"2013-02-19T00:00:00\",\"2013-02-20T00:00:00\",\"2013-02-21T00:00:00\",\"2013-02-22T00:00:00\",\"2013-02-25T00:00:00\",\"2013-02-26T00:00:00\",\"2013-02-27T00:00:00\",\"2013-02-28T00:00:00\",\"2013-03-01T00:00:00\",\"2013-03-04T00:00:00\",\"2013-03-05T00:00:00\",\"2013-03-06T00:00:00\",\"2013-03-07T00:00:00\",\"2013-03-08T00:00:00\",\"2013-03-11T00:00:00\",\"2013-03-12T00:00:00\",\"2013-03-13T00:00:00\",\"2013-03-14T00:00:00\",\"2013-03-15T00:00:00\",\"2013-03-18T00:00:00\",\"2013-03-19T00:00:00\",\"2013-03-20T00:00:00\",\"2013-03-21T00:00:00\",\"2013-03-22T00:00:00\",\"2013-03-25T00:00:00\",\"2013-03-26T00:00:00\",\"2013-03-27T00:00:00\",\"2013-03-28T00:00:00\",\"2013-04-01T00:00:00\",\"2013-04-02T00:00:00\",\"2013-04-03T00:00:00\",\"2013-04-04T00:00:00\",\"2013-04-05T00:00:00\",\"2013-04-08T00:00:00\",\"2013-04-09T00:00:00\",\"2013-04-10T00:00:00\",\"2013-04-11T00:00:00\",\"2013-04-12T00:00:00\",\"2013-04-15T00:00:00\",\"2013-04-16T00:00:00\",\"2013-04-17T00:00:00\",\"2013-04-18T00:00:00\",\"2013-04-19T00:00:00\",\"2013-04-22T00:00:00\",\"2013-04-23T00:00:00\",\"2013-04-24T00:00:00\",\"2013-04-25T00:00:00\",\"2013-04-26T00:00:00\",\"2013-04-29T00:00:00\",\"2013-04-30T00:00:00\",\"2013-05-01T00:00:00\",\"2013-05-02T00:00:00\",\"2013-05-03T00:00:00\",\"2013-05-06T00:00:00\",\"2013-05-07T00:00:00\",\"2013-05-08T00:00:00\",\"2013-05-09T00:00:00\",\"2013-05-10T00:00:00\",\"2013-05-13T00:00:00\",\"2013-05-14T00:00:00\",\"2013-05-15T00:00:00\",\"2013-05-16T00:00:00\",\"2013-05-17T00:00:00\",\"2013-05-20T00:00:00\",\"2013-05-21T00:00:00\",\"2013-05-22T00:00:00\",\"2013-05-23T00:00:00\",\"2013-05-24T00:00:00\",\"2013-05-28T00:00:00\",\"2013-05-29T00:00:00\",\"2013-05-30T00:00:00\",\"2013-05-31T00:00:00\",\"2013-06-03T00:00:00\",\"2013-06-04T00:00:00\",\"2013-06-05T00:00:00\",\"2013-06-06T00:00:00\",\"2013-06-07T00:00:00\",\"2013-06-10T00:00:00\",\"2013-06-11T00:00:00\",\"2013-06-12T00:00:00\",\"2013-06-13T00:00:00\",\"2013-06-14T00:00:00\",\"2013-06-17T00:00:00\",\"2013-06-18T00:00:00\",\"2013-06-19T00:00:00\",\"2013-06-20T00:00:00\",\"2013-06-21T00:00:00\",\"2013-06-24T00:00:00\",\"2013-06-25T00:00:00\",\"2013-06-26T00:00:00\",\"2013-06-27T00:00:00\",\"2013-06-28T00:00:00\",\"2013-07-01T00:00:00\",\"2013-07-02T00:00:00\",\"2013-07-03T00:00:00\",\"2013-07-05T00:00:00\",\"2013-07-08T00:00:00\",\"2013-07-09T00:00:00\",\"2013-07-10T00:00:00\",\"2013-07-11T00:00:00\",\"2013-07-12T00:00:00\",\"2013-07-15T00:00:00\",\"2013-07-16T00:00:00\",\"2013-07-17T00:00:00\",\"2013-07-18T00:00:00\",\"2013-07-19T00:00:00\",\"2013-07-22T00:00:00\",\"2013-07-23T00:00:00\",\"2013-07-24T00:00:00\",\"2013-07-25T00:00:00\",\"2013-07-26T00:00:00\",\"2013-07-29T00:00:00\",\"2013-07-30T00:00:00\",\"2013-07-31T00:00:00\",\"2013-08-01T00:00:00\",\"2013-08-02T00:00:00\",\"2013-08-05T00:00:00\",\"2013-08-06T00:00:00\",\"2013-08-07T00:00:00\",\"2013-08-08T00:00:00\",\"2013-08-09T00:00:00\",\"2013-08-12T00:00:00\",\"2013-08-13T00:00:00\",\"2013-08-14T00:00:00\",\"2013-08-15T00:00:00\",\"2013-08-16T00:00:00\",\"2013-08-19T00:00:00\",\"2013-08-20T00:00:00\",\"2013-08-21T00:00:00\",\"2013-08-22T00:00:00\",\"2013-08-23T00:00:00\",\"2013-08-26T00:00:00\",\"2013-08-27T00:00:00\",\"2013-08-28T00:00:00\",\"2013-08-29T00:00:00\",\"2013-08-30T00:00:00\",\"2013-09-03T00:00:00\",\"2013-09-04T00:00:00\",\"2013-09-05T00:00:00\",\"2013-09-06T00:00:00\",\"2013-09-09T00:00:00\",\"2013-09-10T00:00:00\",\"2013-09-11T00:00:00\",\"2013-09-12T00:00:00\",\"2013-09-13T00:00:00\",\"2013-09-16T00:00:00\",\"2013-09-17T00:00:00\",\"2013-09-18T00:00:00\",\"2013-09-19T00:00:00\",\"2013-09-20T00:00:00\",\"2013-09-23T00:00:00\",\"2013-09-24T00:00:00\",\"2013-09-25T00:00:00\",\"2013-09-26T00:00:00\",\"2013-09-27T00:00:00\",\"2013-09-30T00:00:00\",\"2013-10-01T00:00:00\",\"2013-10-02T00:00:00\",\"2013-10-03T00:00:00\",\"2013-10-04T00:00:00\",\"2013-10-07T00:00:00\",\"2013-10-08T00:00:00\",\"2013-10-09T00:00:00\",\"2013-10-10T00:00:00\",\"2013-10-11T00:00:00\",\"2013-10-14T00:00:00\",\"2013-10-15T00:00:00\",\"2013-10-16T00:00:00\",\"2013-10-17T00:00:00\",\"2013-10-18T00:00:00\",\"2013-10-21T00:00:00\",\"2013-10-22T00:00:00\",\"2013-10-23T00:00:00\",\"2013-10-24T00:00:00\",\"2013-10-25T00:00:00\",\"2013-10-28T00:00:00\",\"2013-10-29T00:00:00\",\"2013-10-30T00:00:00\",\"2013-10-31T00:00:00\",\"2013-11-01T00:00:00\",\"2013-11-04T00:00:00\",\"2013-11-05T00:00:00\",\"2013-11-06T00:00:00\",\"2013-11-07T00:00:00\",\"2013-11-08T00:00:00\",\"2013-11-11T00:00:00\",\"2013-11-12T00:00:00\",\"2013-11-13T00:00:00\",\"2013-11-14T00:00:00\",\"2013-11-15T00:00:00\",\"2013-11-18T00:00:00\",\"2013-11-19T00:00:00\",\"2013-11-20T00:00:00\",\"2013-11-21T00:00:00\",\"2013-11-22T00:00:00\",\"2013-11-25T00:00:00\",\"2013-11-26T00:00:00\",\"2013-11-27T00:00:00\",\"2013-11-29T00:00:00\",\"2013-12-02T00:00:00\",\"2013-12-03T00:00:00\",\"2013-12-04T00:00:00\",\"2013-12-05T00:00:00\",\"2013-12-06T00:00:00\",\"2013-12-09T00:00:00\",\"2013-12-10T00:00:00\",\"2013-12-11T00:00:00\",\"2013-12-12T00:00:00\",\"2013-12-13T00:00:00\",\"2013-12-16T00:00:00\",\"2013-12-17T00:00:00\",\"2013-12-18T00:00:00\",\"2013-12-19T00:00:00\",\"2013-12-20T00:00:00\",\"2013-12-23T00:00:00\",\"2013-12-24T00:00:00\",\"2013-12-26T00:00:00\",\"2013-12-27T00:00:00\",\"2013-12-30T00:00:00\",\"2013-12-31T00:00:00\",\"2014-01-02T00:00:00\",\"2014-01-03T00:00:00\",\"2014-01-06T00:00:00\",\"2014-01-07T00:00:00\",\"2014-01-08T00:00:00\",\"2014-01-09T00:00:00\",\"2014-01-10T00:00:00\",\"2014-01-13T00:00:00\",\"2014-01-14T00:00:00\",\"2014-01-15T00:00:00\",\"2014-01-16T00:00:00\",\"2014-01-17T00:00:00\",\"2014-01-21T00:00:00\",\"2014-01-22T00:00:00\",\"2014-01-23T00:00:00\",\"2014-01-24T00:00:00\",\"2014-01-27T00:00:00\",\"2014-01-28T00:00:00\",\"2014-01-29T00:00:00\",\"2014-01-30T00:00:00\",\"2014-01-31T00:00:00\",\"2014-02-03T00:00:00\",\"2014-02-04T00:00:00\",\"2014-02-05T00:00:00\",\"2014-02-06T00:00:00\",\"2014-02-07T00:00:00\",\"2014-02-10T00:00:00\",\"2014-02-11T00:00:00\",\"2014-02-12T00:00:00\",\"2014-02-13T00:00:00\",\"2014-02-14T00:00:00\",\"2014-02-18T00:00:00\",\"2014-02-19T00:00:00\",\"2014-02-20T00:00:00\",\"2014-02-21T00:00:00\",\"2014-02-24T00:00:00\",\"2014-02-25T00:00:00\",\"2014-02-26T00:00:00\",\"2014-02-27T00:00:00\",\"2014-02-28T00:00:00\",\"2014-03-03T00:00:00\",\"2014-03-04T00:00:00\",\"2014-03-05T00:00:00\",\"2014-03-06T00:00:00\",\"2014-03-07T00:00:00\",\"2014-03-10T00:00:00\",\"2014-03-11T00:00:00\",\"2014-03-12T00:00:00\",\"2014-03-13T00:00:00\",\"2014-03-14T00:00:00\",\"2014-03-17T00:00:00\",\"2014-03-18T00:00:00\",\"2014-03-19T00:00:00\",\"2014-03-20T00:00:00\",\"2014-03-21T00:00:00\",\"2014-03-24T00:00:00\",\"2014-03-25T00:00:00\",\"2014-03-26T00:00:00\",\"2014-03-27T00:00:00\",\"2014-03-28T00:00:00\",\"2014-03-31T00:00:00\",\"2014-04-01T00:00:00\",\"2014-04-02T00:00:00\",\"2014-04-03T00:00:00\",\"2014-04-04T00:00:00\",\"2014-04-07T00:00:00\",\"2014-04-08T00:00:00\",\"2014-04-09T00:00:00\",\"2014-04-10T00:00:00\",\"2014-04-11T00:00:00\",\"2014-04-14T00:00:00\",\"2014-04-15T00:00:00\",\"2014-04-16T00:00:00\",\"2014-04-17T00:00:00\",\"2014-04-21T00:00:00\",\"2014-04-22T00:00:00\",\"2014-04-23T00:00:00\",\"2014-04-24T00:00:00\",\"2014-04-25T00:00:00\",\"2014-04-28T00:00:00\",\"2014-04-29T00:00:00\",\"2014-04-30T00:00:00\",\"2014-05-01T00:00:00\",\"2014-05-02T00:00:00\",\"2014-05-05T00:00:00\",\"2014-05-06T00:00:00\",\"2014-05-07T00:00:00\",\"2014-05-08T00:00:00\",\"2014-05-09T00:00:00\",\"2014-05-12T00:00:00\",\"2014-05-13T00:00:00\",\"2014-05-14T00:00:00\",\"2014-05-15T00:00:00\",\"2014-05-16T00:00:00\",\"2014-05-19T00:00:00\",\"2014-05-20T00:00:00\",\"2014-05-21T00:00:00\",\"2014-05-22T00:00:00\",\"2014-05-23T00:00:00\",\"2014-05-27T00:00:00\",\"2014-05-28T00:00:00\",\"2014-05-29T00:00:00\",\"2014-05-30T00:00:00\",\"2014-06-02T00:00:00\",\"2014-06-03T00:00:00\",\"2014-06-04T00:00:00\",\"2014-06-05T00:00:00\",\"2014-06-06T00:00:00\",\"2014-06-09T00:00:00\",\"2014-06-10T00:00:00\",\"2014-06-11T00:00:00\",\"2014-06-12T00:00:00\",\"2014-06-13T00:00:00\",\"2014-06-16T00:00:00\",\"2014-06-17T00:00:00\",\"2014-06-18T00:00:00\",\"2014-06-19T00:00:00\",\"2014-06-20T00:00:00\",\"2014-06-23T00:00:00\",\"2014-06-24T00:00:00\",\"2014-06-25T00:00:00\",\"2014-06-26T00:00:00\",\"2014-06-27T00:00:00\",\"2014-06-30T00:00:00\",\"2014-07-01T00:00:00\",\"2014-07-02T00:00:00\",\"2014-07-03T00:00:00\",\"2014-07-07T00:00:00\",\"2014-07-08T00:00:00\",\"2014-07-09T00:00:00\",\"2014-07-10T00:00:00\",\"2014-07-11T00:00:00\",\"2014-07-14T00:00:00\",\"2014-07-15T00:00:00\",\"2014-07-16T00:00:00\",\"2014-07-17T00:00:00\",\"2014-07-18T00:00:00\",\"2014-07-21T00:00:00\",\"2014-07-22T00:00:00\",\"2014-07-23T00:00:00\",\"2014-07-24T00:00:00\",\"2014-07-25T00:00:00\",\"2014-07-28T00:00:00\",\"2014-07-29T00:00:00\",\"2014-07-30T00:00:00\",\"2014-07-31T00:00:00\",\"2014-08-01T00:00:00\",\"2014-08-04T00:00:00\",\"2014-08-05T00:00:00\",\"2014-08-06T00:00:00\",\"2014-08-07T00:00:00\",\"2014-08-08T00:00:00\",\"2014-08-11T00:00:00\",\"2014-08-12T00:00:00\",\"2014-08-13T00:00:00\",\"2014-08-14T00:00:00\",\"2014-08-15T00:00:00\",\"2014-08-18T00:00:00\",\"2014-08-19T00:00:00\",\"2014-08-20T00:00:00\",\"2014-08-21T00:00:00\",\"2014-08-22T00:00:00\",\"2014-08-25T00:00:00\",\"2014-08-26T00:00:00\",\"2014-08-27T00:00:00\",\"2014-08-28T00:00:00\",\"2014-08-29T00:00:00\",\"2014-09-02T00:00:00\",\"2014-09-03T00:00:00\",\"2014-09-04T00:00:00\",\"2014-09-05T00:00:00\",\"2014-09-08T00:00:00\",\"2014-09-09T00:00:00\",\"2014-09-10T00:00:00\",\"2014-09-11T00:00:00\",\"2014-09-12T00:00:00\",\"2014-09-15T00:00:00\",\"2014-09-16T00:00:00\",\"2014-09-17T00:00:00\",\"2014-09-18T00:00:00\",\"2014-09-19T00:00:00\",\"2014-09-22T00:00:00\",\"2014-09-23T00:00:00\",\"2014-09-24T00:00:00\",\"2014-09-25T00:00:00\",\"2014-09-26T00:00:00\",\"2014-09-29T00:00:00\",\"2014-09-30T00:00:00\",\"2014-10-01T00:00:00\",\"2014-10-02T00:00:00\",\"2014-10-03T00:00:00\",\"2014-10-06T00:00:00\",\"2014-10-07T00:00:00\",\"2014-10-08T00:00:00\",\"2014-10-09T00:00:00\",\"2014-10-10T00:00:00\",\"2014-10-13T00:00:00\",\"2014-10-14T00:00:00\",\"2014-10-15T00:00:00\",\"2014-10-16T00:00:00\",\"2014-10-17T00:00:00\",\"2014-10-20T00:00:00\",\"2014-10-21T00:00:00\",\"2014-10-22T00:00:00\",\"2014-10-23T00:00:00\",\"2014-10-24T00:00:00\",\"2014-10-27T00:00:00\",\"2014-10-28T00:00:00\",\"2014-10-29T00:00:00\",\"2014-10-30T00:00:00\",\"2014-10-31T00:00:00\",\"2014-11-03T00:00:00\",\"2014-11-04T00:00:00\",\"2014-11-05T00:00:00\",\"2014-11-06T00:00:00\",\"2014-11-07T00:00:00\",\"2014-11-10T00:00:00\",\"2014-11-11T00:00:00\",\"2014-11-12T00:00:00\",\"2014-11-13T00:00:00\",\"2014-11-14T00:00:00\",\"2014-11-17T00:00:00\",\"2014-11-18T00:00:00\",\"2014-11-19T00:00:00\",\"2014-11-20T00:00:00\",\"2014-11-21T00:00:00\",\"2014-11-24T00:00:00\",\"2014-11-25T00:00:00\",\"2014-11-26T00:00:00\",\"2014-11-28T00:00:00\",\"2014-12-01T00:00:00\",\"2014-12-02T00:00:00\",\"2014-12-03T00:00:00\",\"2014-12-04T00:00:00\",\"2014-12-05T00:00:00\",\"2014-12-08T00:00:00\",\"2014-12-09T00:00:00\",\"2014-12-10T00:00:00\",\"2014-12-11T00:00:00\",\"2014-12-12T00:00:00\",\"2014-12-15T00:00:00\",\"2014-12-16T00:00:00\",\"2014-12-17T00:00:00\",\"2014-12-18T00:00:00\",\"2014-12-19T00:00:00\",\"2014-12-22T00:00:00\",\"2014-12-23T00:00:00\",\"2014-12-24T00:00:00\",\"2014-12-26T00:00:00\",\"2014-12-29T00:00:00\",\"2014-12-30T00:00:00\",\"2014-12-31T00:00:00\",\"2015-01-02T00:00:00\",\"2015-01-05T00:00:00\",\"2015-01-06T00:00:00\",\"2015-01-07T00:00:00\",\"2015-01-08T00:00:00\",\"2015-01-09T00:00:00\",\"2015-01-12T00:00:00\",\"2015-01-13T00:00:00\",\"2015-01-14T00:00:00\",\"2015-01-15T00:00:00\",\"2015-01-16T00:00:00\",\"2015-01-20T00:00:00\",\"2015-01-21T00:00:00\",\"2015-01-22T00:00:00\",\"2015-01-23T00:00:00\",\"2015-01-26T00:00:00\",\"2015-01-27T00:00:00\",\"2015-01-28T00:00:00\",\"2015-01-29T00:00:00\",\"2015-01-30T00:00:00\",\"2015-02-02T00:00:00\",\"2015-02-03T00:00:00\",\"2015-02-04T00:00:00\",\"2015-02-05T00:00:00\",\"2015-02-06T00:00:00\",\"2015-02-09T00:00:00\",\"2015-02-10T00:00:00\",\"2015-02-11T00:00:00\",\"2015-02-12T00:00:00\",\"2015-02-13T00:00:00\",\"2015-02-17T00:00:00\",\"2015-02-18T00:00:00\",\"2015-02-19T00:00:00\",\"2015-02-20T00:00:00\",\"2015-02-23T00:00:00\",\"2015-02-24T00:00:00\",\"2015-02-25T00:00:00\",\"2015-02-26T00:00:00\",\"2015-02-27T00:00:00\",\"2015-03-02T00:00:00\",\"2015-03-03T00:00:00\",\"2015-03-04T00:00:00\",\"2015-03-05T00:00:00\",\"2015-03-06T00:00:00\",\"2015-03-09T00:00:00\",\"2015-03-10T00:00:00\",\"2015-03-11T00:00:00\",\"2015-03-12T00:00:00\",\"2015-03-13T00:00:00\",\"2015-03-16T00:00:00\",\"2015-03-17T00:00:00\",\"2015-03-18T00:00:00\",\"2015-03-19T00:00:00\",\"2015-03-20T00:00:00\",\"2015-03-23T00:00:00\",\"2015-03-24T00:00:00\",\"2015-03-25T00:00:00\",\"2015-03-26T00:00:00\",\"2015-03-27T00:00:00\",\"2015-03-30T00:00:00\",\"2015-03-31T00:00:00\",\"2015-04-01T00:00:00\",\"2015-04-02T00:00:00\",\"2015-04-06T00:00:00\",\"2015-04-07T00:00:00\",\"2015-04-08T00:00:00\",\"2015-04-09T00:00:00\",\"2015-04-10T00:00:00\",\"2015-04-13T00:00:00\",\"2015-04-14T00:00:00\",\"2015-04-15T00:00:00\",\"2015-04-16T00:00:00\",\"2015-04-17T00:00:00\",\"2015-04-20T00:00:00\",\"2015-04-21T00:00:00\",\"2015-04-22T00:00:00\",\"2015-04-23T00:00:00\",\"2015-04-24T00:00:00\",\"2015-04-27T00:00:00\",\"2015-04-28T00:00:00\",\"2015-04-29T00:00:00\",\"2015-04-30T00:00:00\",\"2015-05-01T00:00:00\",\"2015-05-04T00:00:00\",\"2015-05-05T00:00:00\",\"2015-05-06T00:00:00\",\"2015-05-07T00:00:00\",\"2015-05-08T00:00:00\",\"2015-05-11T00:00:00\",\"2015-05-12T00:00:00\",\"2015-05-13T00:00:00\",\"2015-05-14T00:00:00\",\"2015-05-15T00:00:00\",\"2015-05-18T00:00:00\",\"2015-05-19T00:00:00\",\"2015-05-20T00:00:00\",\"2015-05-21T00:00:00\",\"2015-05-22T00:00:00\",\"2015-05-26T00:00:00\",\"2015-05-27T00:00:00\",\"2015-05-28T00:00:00\",\"2015-05-29T00:00:00\",\"2015-06-01T00:00:00\",\"2015-06-02T00:00:00\",\"2015-06-03T00:00:00\",\"2015-06-04T00:00:00\",\"2015-06-05T00:00:00\",\"2015-06-08T00:00:00\",\"2015-06-09T00:00:00\",\"2015-06-10T00:00:00\",\"2015-06-11T00:00:00\",\"2015-06-12T00:00:00\",\"2015-06-15T00:00:00\",\"2015-06-16T00:00:00\",\"2015-06-17T00:00:00\",\"2015-06-18T00:00:00\",\"2015-06-19T00:00:00\",\"2015-06-22T00:00:00\",\"2015-06-23T00:00:00\",\"2015-06-24T00:00:00\",\"2015-06-25T00:00:00\",\"2015-06-26T00:00:00\",\"2015-06-29T00:00:00\",\"2015-06-30T00:00:00\",\"2015-07-01T00:00:00\",\"2015-07-02T00:00:00\",\"2015-07-06T00:00:00\",\"2015-07-07T00:00:00\",\"2015-07-08T00:00:00\",\"2015-07-09T00:00:00\",\"2015-07-10T00:00:00\",\"2015-07-13T00:00:00\",\"2015-07-14T00:00:00\",\"2015-07-15T00:00:00\",\"2015-07-16T00:00:00\",\"2015-07-17T00:00:00\",\"2015-07-20T00:00:00\",\"2015-07-21T00:00:00\",\"2015-07-22T00:00:00\",\"2015-07-23T00:00:00\",\"2015-07-24T00:00:00\",\"2015-07-27T00:00:00\",\"2015-07-28T00:00:00\",\"2015-07-29T00:00:00\",\"2015-07-30T00:00:00\",\"2015-07-31T00:00:00\",\"2015-08-03T00:00:00\",\"2015-08-04T00:00:00\",\"2015-08-05T00:00:00\",\"2015-08-06T00:00:00\",\"2015-08-07T00:00:00\",\"2015-08-10T00:00:00\",\"2015-08-11T00:00:00\",\"2015-08-12T00:00:00\",\"2015-08-13T00:00:00\",\"2015-08-14T00:00:00\",\"2015-08-17T00:00:00\",\"2015-08-18T00:00:00\",\"2015-08-19T00:00:00\",\"2015-08-20T00:00:00\",\"2015-08-21T00:00:00\",\"2015-08-24T00:00:00\",\"2015-08-25T00:00:00\",\"2015-08-26T00:00:00\",\"2015-08-27T00:00:00\",\"2015-08-28T00:00:00\",\"2015-08-31T00:00:00\",\"2015-09-01T00:00:00\",\"2015-09-02T00:00:00\",\"2015-09-03T00:00:00\",\"2015-09-04T00:00:00\",\"2015-09-08T00:00:00\",\"2015-09-09T00:00:00\",\"2015-09-10T00:00:00\",\"2015-09-11T00:00:00\",\"2015-09-14T00:00:00\",\"2015-09-15T00:00:00\",\"2015-09-16T00:00:00\",\"2015-09-17T00:00:00\",\"2015-09-18T00:00:00\",\"2015-09-21T00:00:00\",\"2015-09-22T00:00:00\",\"2015-09-23T00:00:00\",\"2015-09-24T00:00:00\",\"2015-09-25T00:00:00\",\"2015-09-28T00:00:00\",\"2015-09-29T00:00:00\",\"2015-09-30T00:00:00\",\"2015-10-01T00:00:00\",\"2015-10-02T00:00:00\",\"2015-10-05T00:00:00\",\"2015-10-06T00:00:00\",\"2015-10-07T00:00:00\",\"2015-10-08T00:00:00\",\"2015-10-09T00:00:00\",\"2015-10-12T00:00:00\",\"2015-10-13T00:00:00\",\"2015-10-14T00:00:00\",\"2015-10-15T00:00:00\",\"2015-10-16T00:00:00\",\"2015-10-19T00:00:00\",\"2015-10-20T00:00:00\",\"2015-10-21T00:00:00\",\"2015-10-22T00:00:00\",\"2015-10-23T00:00:00\",\"2015-10-26T00:00:00\",\"2015-10-27T00:00:00\",\"2015-10-28T00:00:00\",\"2015-10-29T00:00:00\",\"2015-10-30T00:00:00\",\"2015-11-02T00:00:00\",\"2015-11-03T00:00:00\",\"2015-11-04T00:00:00\",\"2015-11-05T00:00:00\",\"2015-11-06T00:00:00\",\"2015-11-09T00:00:00\",\"2015-11-10T00:00:00\",\"2015-11-11T00:00:00\",\"2015-11-12T00:00:00\",\"2015-11-13T00:00:00\",\"2015-11-16T00:00:00\",\"2015-11-17T00:00:00\",\"2015-11-18T00:00:00\",\"2015-11-19T00:00:00\",\"2015-11-20T00:00:00\",\"2015-11-23T00:00:00\",\"2015-11-24T00:00:00\",\"2015-11-25T00:00:00\",\"2015-11-27T00:00:00\",\"2015-11-30T00:00:00\",\"2015-12-01T00:00:00\",\"2015-12-02T00:00:00\",\"2015-12-03T00:00:00\",\"2015-12-04T00:00:00\",\"2015-12-07T00:00:00\",\"2015-12-08T00:00:00\",\"2015-12-09T00:00:00\",\"2015-12-10T00:00:00\",\"2015-12-11T00:00:00\",\"2015-12-14T00:00:00\",\"2015-12-15T00:00:00\",\"2015-12-16T00:00:00\",\"2015-12-17T00:00:00\",\"2015-12-18T00:00:00\",\"2015-12-21T00:00:00\",\"2015-12-22T00:00:00\",\"2015-12-23T00:00:00\",\"2015-12-24T00:00:00\",\"2015-12-28T00:00:00\",\"2015-12-29T00:00:00\",\"2015-12-30T00:00:00\",\"2015-12-31T00:00:00\",\"2016-01-04T00:00:00\",\"2016-01-05T00:00:00\",\"2016-01-06T00:00:00\",\"2016-01-07T00:00:00\",\"2016-01-08T00:00:00\",\"2016-01-11T00:00:00\",\"2016-01-12T00:00:00\",\"2016-01-13T00:00:00\",\"2016-01-14T00:00:00\",\"2016-01-15T00:00:00\",\"2016-01-19T00:00:00\",\"2016-01-20T00:00:00\",\"2016-01-21T00:00:00\",\"2016-01-22T00:00:00\",\"2016-01-25T00:00:00\",\"2016-01-26T00:00:00\",\"2016-01-27T00:00:00\",\"2016-01-28T00:00:00\",\"2016-01-29T00:00:00\",\"2016-02-01T00:00:00\",\"2016-02-02T00:00:00\",\"2016-02-03T00:00:00\",\"2016-02-04T00:00:00\",\"2016-02-05T00:00:00\",\"2016-02-08T00:00:00\",\"2016-02-09T00:00:00\",\"2016-02-10T00:00:00\",\"2016-02-11T00:00:00\",\"2016-02-12T00:00:00\",\"2016-02-16T00:00:00\",\"2016-02-17T00:00:00\",\"2016-02-18T00:00:00\",\"2016-02-19T00:00:00\",\"2016-02-22T00:00:00\",\"2016-02-23T00:00:00\",\"2016-02-24T00:00:00\",\"2016-02-25T00:00:00\",\"2016-02-26T00:00:00\",\"2016-02-29T00:00:00\",\"2016-03-01T00:00:00\",\"2016-03-02T00:00:00\",\"2016-03-03T00:00:00\",\"2016-03-04T00:00:00\",\"2016-03-07T00:00:00\",\"2016-03-08T00:00:00\",\"2016-03-09T00:00:00\",\"2016-03-10T00:00:00\",\"2016-03-11T00:00:00\",\"2016-03-14T00:00:00\",\"2016-03-15T00:00:00\",\"2016-03-16T00:00:00\",\"2016-03-17T00:00:00\",\"2016-03-18T00:00:00\",\"2016-03-21T00:00:00\",\"2016-03-22T00:00:00\",\"2016-03-23T00:00:00\",\"2016-03-24T00:00:00\",\"2016-03-28T00:00:00\",\"2016-03-29T00:00:00\",\"2016-03-30T00:00:00\",\"2016-03-31T00:00:00\",\"2016-04-01T00:00:00\",\"2016-04-04T00:00:00\",\"2016-04-05T00:00:00\",\"2016-04-06T00:00:00\",\"2016-04-07T00:00:00\",\"2016-04-08T00:00:00\",\"2016-04-11T00:00:00\",\"2016-04-12T00:00:00\",\"2016-04-13T00:00:00\",\"2016-04-14T00:00:00\",\"2016-04-15T00:00:00\",\"2016-04-18T00:00:00\",\"2016-04-19T00:00:00\",\"2016-04-20T00:00:00\",\"2016-04-21T00:00:00\",\"2016-04-22T00:00:00\",\"2016-04-25T00:00:00\",\"2016-04-26T00:00:00\",\"2016-04-27T00:00:00\",\"2016-04-28T00:00:00\",\"2016-04-29T00:00:00\",\"2016-05-02T00:00:00\",\"2016-05-03T00:00:00\",\"2016-05-04T00:00:00\",\"2016-05-05T00:00:00\",\"2016-05-06T00:00:00\",\"2016-05-09T00:00:00\",\"2016-05-10T00:00:00\",\"2016-05-11T00:00:00\",\"2016-05-12T00:00:00\",\"2016-05-13T00:00:00\",\"2016-05-16T00:00:00\",\"2016-05-17T00:00:00\",\"2016-05-18T00:00:00\",\"2016-05-19T00:00:00\",\"2016-05-20T00:00:00\",\"2016-05-23T00:00:00\",\"2016-05-24T00:00:00\",\"2016-05-25T00:00:00\",\"2016-05-26T00:00:00\",\"2016-05-27T00:00:00\",\"2016-05-31T00:00:00\",\"2016-06-01T00:00:00\",\"2016-06-02T00:00:00\",\"2016-06-03T00:00:00\",\"2016-06-06T00:00:00\",\"2016-06-07T00:00:00\",\"2016-06-08T00:00:00\",\"2016-06-09T00:00:00\",\"2016-06-10T00:00:00\",\"2016-06-13T00:00:00\",\"2016-06-14T00:00:00\",\"2016-06-15T00:00:00\",\"2016-06-16T00:00:00\",\"2016-06-17T00:00:00\",\"2016-06-20T00:00:00\",\"2016-06-21T00:00:00\",\"2016-06-22T00:00:00\",\"2016-06-23T00:00:00\",\"2016-06-24T00:00:00\",\"2016-06-27T00:00:00\",\"2016-06-28T00:00:00\",\"2016-06-29T00:00:00\",\"2016-06-30T00:00:00\",\"2016-07-01T00:00:00\",\"2016-07-05T00:00:00\",\"2016-07-06T00:00:00\",\"2016-07-07T00:00:00\",\"2016-07-08T00:00:00\",\"2016-07-11T00:00:00\",\"2016-07-12T00:00:00\",\"2016-07-13T00:00:00\",\"2016-07-14T00:00:00\",\"2016-07-15T00:00:00\",\"2016-07-18T00:00:00\",\"2016-07-19T00:00:00\",\"2016-07-20T00:00:00\",\"2016-07-21T00:00:00\",\"2016-07-22T00:00:00\",\"2016-07-25T00:00:00\",\"2016-07-26T00:00:00\",\"2016-07-27T00:00:00\",\"2016-07-28T00:00:00\",\"2016-07-29T00:00:00\",\"2016-08-01T00:00:00\",\"2016-08-02T00:00:00\",\"2016-08-03T00:00:00\",\"2016-08-04T00:00:00\",\"2016-08-05T00:00:00\",\"2016-08-08T00:00:00\",\"2016-08-09T00:00:00\",\"2016-08-10T00:00:00\",\"2016-08-11T00:00:00\",\"2016-08-12T00:00:00\",\"2016-08-15T00:00:00\",\"2016-08-16T00:00:00\",\"2016-08-17T00:00:00\",\"2016-08-18T00:00:00\",\"2016-08-19T00:00:00\",\"2016-08-22T00:00:00\",\"2016-08-23T00:00:00\",\"2016-08-24T00:00:00\",\"2016-08-25T00:00:00\",\"2016-08-26T00:00:00\",\"2016-08-29T00:00:00\",\"2016-08-30T00:00:00\",\"2016-08-31T00:00:00\",\"2016-09-01T00:00:00\",\"2016-09-02T00:00:00\",\"2016-09-06T00:00:00\",\"2016-09-07T00:00:00\",\"2016-09-08T00:00:00\",\"2016-09-09T00:00:00\",\"2016-09-12T00:00:00\",\"2016-09-13T00:00:00\",\"2016-09-14T00:00:00\",\"2016-09-15T00:00:00\",\"2016-09-16T00:00:00\",\"2016-09-19T00:00:00\",\"2016-09-20T00:00:00\",\"2016-09-21T00:00:00\",\"2016-09-22T00:00:00\",\"2016-09-23T00:00:00\",\"2016-09-26T00:00:00\",\"2016-09-27T00:00:00\",\"2016-09-28T00:00:00\",\"2016-09-29T00:00:00\",\"2016-09-30T00:00:00\",\"2016-10-03T00:00:00\",\"2016-10-04T00:00:00\",\"2016-10-05T00:00:00\",\"2016-10-06T00:00:00\",\"2016-10-07T00:00:00\",\"2016-10-10T00:00:00\",\"2016-10-11T00:00:00\",\"2016-10-12T00:00:00\",\"2016-10-13T00:00:00\",\"2016-10-14T00:00:00\",\"2016-10-17T00:00:00\",\"2016-10-18T00:00:00\",\"2016-10-19T00:00:00\",\"2016-10-20T00:00:00\",\"2016-10-21T00:00:00\",\"2016-10-24T00:00:00\",\"2016-10-25T00:00:00\",\"2016-10-26T00:00:00\",\"2016-10-27T00:00:00\",\"2016-10-28T00:00:00\",\"2016-10-31T00:00:00\",\"2016-11-01T00:00:00\",\"2016-11-02T00:00:00\",\"2016-11-03T00:00:00\",\"2016-11-04T00:00:00\",\"2016-11-07T00:00:00\",\"2016-11-08T00:00:00\",\"2016-11-09T00:00:00\",\"2016-11-10T00:00:00\",\"2016-11-11T00:00:00\",\"2016-11-14T00:00:00\",\"2016-11-15T00:00:00\",\"2016-11-16T00:00:00\",\"2016-11-17T00:00:00\",\"2016-11-18T00:00:00\",\"2016-11-21T00:00:00\",\"2016-11-22T00:00:00\",\"2016-11-23T00:00:00\",\"2016-11-25T00:00:00\",\"2016-11-28T00:00:00\",\"2016-11-29T00:00:00\",\"2016-11-30T00:00:00\",\"2016-12-01T00:00:00\",\"2016-12-02T00:00:00\",\"2016-12-05T00:00:00\",\"2016-12-06T00:00:00\",\"2016-12-07T00:00:00\",\"2016-12-08T00:00:00\",\"2016-12-09T00:00:00\",\"2016-12-12T00:00:00\",\"2016-12-13T00:00:00\",\"2016-12-14T00:00:00\",\"2016-12-15T00:00:00\",\"2016-12-16T00:00:00\",\"2016-12-19T00:00:00\",\"2016-12-20T00:00:00\",\"2016-12-21T00:00:00\",\"2016-12-22T00:00:00\",\"2016-12-23T00:00:00\",\"2016-12-27T00:00:00\",\"2016-12-28T00:00:00\",\"2016-12-29T00:00:00\",\"2016-12-30T00:00:00\",\"2017-01-03T00:00:00\",\"2017-01-04T00:00:00\",\"2017-01-05T00:00:00\",\"2017-01-06T00:00:00\",\"2017-01-09T00:00:00\",\"2017-01-10T00:00:00\",\"2017-01-11T00:00:00\",\"2017-01-12T00:00:00\",\"2017-01-13T00:00:00\",\"2017-01-17T00:00:00\",\"2017-01-18T00:00:00\",\"2017-01-19T00:00:00\",\"2017-01-20T00:00:00\",\"2017-01-23T00:00:00\",\"2017-01-24T00:00:00\",\"2017-01-25T00:00:00\",\"2017-01-26T00:00:00\",\"2017-01-27T00:00:00\",\"2017-01-30T00:00:00\",\"2017-01-31T00:00:00\",\"2017-02-01T00:00:00\",\"2017-02-02T00:00:00\",\"2017-02-03T00:00:00\",\"2017-02-06T00:00:00\",\"2017-02-07T00:00:00\",\"2017-02-08T00:00:00\",\"2017-02-09T00:00:00\",\"2017-02-10T00:00:00\",\"2017-02-13T00:00:00\",\"2017-02-14T00:00:00\",\"2017-02-15T00:00:00\",\"2017-02-16T00:00:00\",\"2017-02-17T00:00:00\",\"2017-02-21T00:00:00\",\"2017-02-22T00:00:00\",\"2017-02-23T00:00:00\",\"2017-02-24T00:00:00\",\"2017-02-27T00:00:00\",\"2017-02-28T00:00:00\",\"2017-03-01T00:00:00\",\"2017-03-02T00:00:00\",\"2017-03-03T00:00:00\",\"2017-03-06T00:00:00\",\"2017-03-07T00:00:00\",\"2017-03-08T00:00:00\",\"2017-03-09T00:00:00\",\"2017-03-10T00:00:00\",\"2017-03-13T00:00:00\",\"2017-03-14T00:00:00\",\"2017-03-15T00:00:00\",\"2017-03-16T00:00:00\",\"2017-03-17T00:00:00\",\"2017-03-20T00:00:00\",\"2017-03-21T00:00:00\",\"2017-03-22T00:00:00\",\"2017-03-23T00:00:00\",\"2017-03-24T00:00:00\",\"2017-03-27T00:00:00\",\"2017-03-28T00:00:00\",\"2017-03-29T00:00:00\",\"2017-03-30T00:00:00\",\"2017-03-31T00:00:00\",\"2017-04-03T00:00:00\",\"2017-04-04T00:00:00\",\"2017-04-05T00:00:00\",\"2017-04-06T00:00:00\",\"2017-04-07T00:00:00\",\"2017-04-10T00:00:00\",\"2017-04-11T00:00:00\",\"2017-04-12T00:00:00\",\"2017-04-13T00:00:00\",\"2017-04-17T00:00:00\",\"2017-04-18T00:00:00\",\"2017-04-19T00:00:00\",\"2017-04-20T00:00:00\",\"2017-04-21T00:00:00\",\"2017-04-24T00:00:00\",\"2017-04-25T00:00:00\",\"2017-04-26T00:00:00\",\"2017-04-27T00:00:00\",\"2017-04-28T00:00:00\",\"2017-05-01T00:00:00\",\"2017-05-02T00:00:00\",\"2017-05-03T00:00:00\",\"2017-05-04T00:00:00\",\"2017-05-05T00:00:00\",\"2017-05-08T00:00:00\",\"2017-05-09T00:00:00\",\"2017-05-10T00:00:00\",\"2017-05-11T00:00:00\",\"2017-05-12T00:00:00\",\"2017-05-15T00:00:00\",\"2017-05-16T00:00:00\",\"2017-05-17T00:00:00\",\"2017-05-18T00:00:00\",\"2017-05-19T00:00:00\",\"2017-05-22T00:00:00\",\"2017-05-23T00:00:00\",\"2017-05-24T00:00:00\",\"2017-05-25T00:00:00\",\"2017-05-26T00:00:00\",\"2017-05-30T00:00:00\",\"2017-05-31T00:00:00\",\"2017-06-01T00:00:00\",\"2017-06-02T00:00:00\",\"2017-06-05T00:00:00\",\"2017-06-06T00:00:00\",\"2017-06-07T00:00:00\",\"2017-06-08T00:00:00\",\"2017-06-09T00:00:00\",\"2017-06-12T00:00:00\",\"2017-06-13T00:00:00\",\"2017-06-14T00:00:00\",\"2017-06-15T00:00:00\",\"2017-06-16T00:00:00\",\"2017-06-19T00:00:00\",\"2017-06-20T00:00:00\",\"2017-06-21T00:00:00\",\"2017-06-22T00:00:00\",\"2017-06-23T00:00:00\",\"2017-06-26T00:00:00\",\"2017-06-27T00:00:00\",\"2017-06-28T00:00:00\",\"2017-06-29T00:00:00\",\"2017-06-30T00:00:00\",\"2017-07-03T00:00:00\",\"2017-07-05T00:00:00\",\"2017-07-06T00:00:00\",\"2017-07-07T00:00:00\",\"2017-07-10T00:00:00\",\"2017-07-11T00:00:00\",\"2017-07-12T00:00:00\",\"2017-07-13T00:00:00\",\"2017-07-14T00:00:00\",\"2017-07-17T00:00:00\",\"2017-07-18T00:00:00\",\"2017-07-19T00:00:00\",\"2017-07-20T00:00:00\",\"2017-07-21T00:00:00\",\"2017-07-24T00:00:00\",\"2017-07-25T00:00:00\",\"2017-07-26T00:00:00\",\"2017-07-27T00:00:00\",\"2017-07-28T00:00:00\",\"2017-07-31T00:00:00\",\"2017-08-01T00:00:00\",\"2017-08-02T00:00:00\",\"2017-08-03T00:00:00\",\"2017-08-04T00:00:00\",\"2017-08-07T00:00:00\",\"2017-08-08T00:00:00\",\"2017-08-09T00:00:00\",\"2017-08-10T00:00:00\",\"2017-08-11T00:00:00\",\"2017-08-14T00:00:00\",\"2017-08-15T00:00:00\",\"2017-08-16T00:00:00\",\"2017-08-17T00:00:00\",\"2017-08-18T00:00:00\",\"2017-08-21T00:00:00\",\"2017-08-22T00:00:00\",\"2017-08-23T00:00:00\",\"2017-08-24T00:00:00\",\"2017-08-25T00:00:00\",\"2017-08-28T00:00:00\",\"2017-08-29T00:00:00\",\"2017-08-30T00:00:00\",\"2017-08-31T00:00:00\",\"2017-09-01T00:00:00\",\"2017-09-05T00:00:00\",\"2017-09-06T00:00:00\",\"2017-09-07T00:00:00\",\"2017-09-08T00:00:00\",\"2017-09-11T00:00:00\",\"2017-09-12T00:00:00\",\"2017-09-13T00:00:00\",\"2017-09-14T00:00:00\",\"2017-09-15T00:00:00\",\"2017-09-18T00:00:00\",\"2017-09-19T00:00:00\",\"2017-09-20T00:00:00\",\"2017-09-21T00:00:00\",\"2017-09-22T00:00:00\",\"2017-09-25T00:00:00\",\"2017-09-26T00:00:00\",\"2017-09-27T00:00:00\",\"2017-09-28T00:00:00\",\"2017-09-29T00:00:00\",\"2017-10-02T00:00:00\",\"2017-10-03T00:00:00\",\"2017-10-04T00:00:00\",\"2017-10-05T00:00:00\",\"2017-10-06T00:00:00\",\"2017-10-09T00:00:00\",\"2017-10-10T00:00:00\",\"2017-10-11T00:00:00\",\"2017-10-12T00:00:00\",\"2017-10-13T00:00:00\",\"2017-10-16T00:00:00\",\"2017-10-17T00:00:00\",\"2017-10-18T00:00:00\",\"2017-10-19T00:00:00\",\"2017-10-20T00:00:00\",\"2017-10-23T00:00:00\",\"2017-10-24T00:00:00\",\"2017-10-25T00:00:00\",\"2017-10-26T00:00:00\",\"2017-10-27T00:00:00\",\"2017-10-30T00:00:00\",\"2017-10-31T00:00:00\",\"2017-11-01T00:00:00\",\"2017-11-02T00:00:00\",\"2017-11-03T00:00:00\",\"2017-11-06T00:00:00\",\"2017-11-07T00:00:00\",\"2017-11-08T00:00:00\",\"2017-11-09T00:00:00\",\"2017-11-10T00:00:00\",\"2017-11-13T00:00:00\",\"2017-11-14T00:00:00\",\"2017-11-15T00:00:00\",\"2017-11-16T00:00:00\",\"2017-11-17T00:00:00\",\"2017-11-20T00:00:00\",\"2017-11-21T00:00:00\",\"2017-11-22T00:00:00\",\"2017-11-24T00:00:00\",\"2017-11-27T00:00:00\",\"2017-11-28T00:00:00\",\"2017-11-29T00:00:00\",\"2017-11-30T00:00:00\",\"2017-12-01T00:00:00\",\"2017-12-04T00:00:00\",\"2017-12-05T00:00:00\",\"2017-12-06T00:00:00\",\"2017-12-07T00:00:00\",\"2017-12-08T00:00:00\",\"2017-12-11T00:00:00\",\"2017-12-12T00:00:00\",\"2017-12-13T00:00:00\",\"2017-12-14T00:00:00\",\"2017-12-15T00:00:00\",\"2017-12-18T00:00:00\",\"2017-12-19T00:00:00\",\"2017-12-20T00:00:00\",\"2017-12-21T00:00:00\",\"2017-12-22T00:00:00\",\"2017-12-26T00:00:00\",\"2017-12-27T00:00:00\",\"2017-12-28T00:00:00\",\"2017-12-29T00:00:00\",\"2018-01-02T00:00:00\",\"2018-01-03T00:00:00\",\"2018-01-04T00:00:00\",\"2018-01-05T00:00:00\",\"2018-01-08T00:00:00\",\"2018-01-09T00:00:00\",\"2018-01-10T00:00:00\",\"2018-01-11T00:00:00\",\"2018-01-12T00:00:00\",\"2018-01-16T00:00:00\",\"2018-01-17T00:00:00\",\"2018-01-18T00:00:00\",\"2018-01-19T00:00:00\",\"2018-01-22T00:00:00\",\"2018-01-23T00:00:00\",\"2018-01-24T00:00:00\",\"2018-01-25T00:00:00\",\"2018-01-26T00:00:00\",\"2018-01-29T00:00:00\",\"2018-01-30T00:00:00\",\"2018-01-31T00:00:00\",\"2018-02-01T00:00:00\",\"2018-02-02T00:00:00\",\"2018-02-05T00:00:00\",\"2018-02-06T00:00:00\",\"2018-02-07T00:00:00\"],\"y\":[28.545,28.26,27.37,27.9075,28.5,28.32,28.93,28.462,27.283,27.13,27.27,27.39,26.87,27.25,27.78,27.72,27.52,27.4525,28.578,27.96,28.14,27.83,27.08,27.04,26.645,26.49,26.55,25.86,25.74,25.73,25.131,25.205,26.09,25.58,25.53,25.42,26.25,27.0725,27.39,26.849,26.59,27.57,28.0175,27.4,26.52,26.92,26.625,25.69,25.73,25.97,25.98,26.11,26.14,26.85,26.98,27.769,27.43,28.97,28.311,27.57,26.889,27.12,27.04,26.68,26.82,27.07,26.6,26.13,26.25,25.759,25.66,25.159,25.06,24.3125,24.1,23.32,24.55,24.348,23.848,23.52,22.899,22.97,23.291,24.33,24.03,23.77,23.73,23.63,24.022,24.21,24.309,23.9,24.53,23.935,24.25,24.16,24.66,24.88,24.81,24.41,24.52,24.37,24.71,25.48,25.8,25.81,25.91,26.28,26.32,26.65,26.18,25.881,26.045,26.13,26.51,34.359,34.01,35.43,37.627,36.8,37.489,38.05,39.189,38.55,38.87,38.54,38.5,38.22,37.019,36.65,36.56,37.08,37.81,38.41,38.32,38.55,40.55,41.34,39.64,40.548,41.28,41.294,41.87,41.78,42.66,43.95,44.04,43.6,45.04,44.75,44.31,42.51,45.07,45.23,45.98,47.49,47.19,48.45,49.46,50.39,51.24,50.23,50.42,50.28,49.183,51.04,50.515,47.14,46.77,49.05,49.11,49.51,49.5,51.135,52.21,54.22,53.85,52.675,51.9,52.445,51.95,50.229,49.395,49.01,50.205,49.75,48.22,50.105,49.12,47.56,47.53,46.2,46.605,48.71,48.99,49.01,45.83,46.36,46.43,46.7,46.23,44.82,45.89,46.49,47.01,47.06,46.73,48.62,48.34,47.94,48.84,50.245,49.38,51.83,53.32,53.81,54.86,55.57,55.05,55.12,57.77,57.96,57.73,55.44,53.71,54.649,54.71,54.557,57.2,57.92,58.23,57.22,57.94,55.91,57.74,57.6,57.19,56.3,58.51,57.51,56.63,54.45,53.55,55.14,53.53,61.08,62.57,61.48,62.75,62.19,62.16,64.32,63.548,64.851,64.45,67.33,67.09,67.3,68.06,69.63,68.59,70.78,69.85,69.26,68.94,68.46,67.41,68.8,71.57,70.84,69.8,72.03,70.1,70.8799,68.83,67.72,68.7399,69.19,68.24,66.97,67.24,64.1,64.89,60.385,60.97,60.01,60.24,62.62,62.72,59.49,56.749,56.95,58.1901,62.41,59.16,58.53,58.89,59.09,59.72,58.94,61.24,63.0301,61.36,60.87,57.71,56.14,58.15,59.78,61.15,60.46,61.22,58.53,57.39,56.76,57.24,59.83,59.83,59.23,57.919,58.0199,59.21,58.56,60.49,60.52,61.351,63.48,63.51,63.83,63.3,63.08,62.87,63.34,63.186,62.5,62.88,65.77,65.781,64.2901,64.5,64.19,64.4,65.6,64.3415,64.5,65.37,65.72,67.44,67.13,67.6,67.29,68.06,66.45,66.29,65.29,62.76,64.97,64.8725,66.34,67.9,67.165,67.66,66.4099,68.4199,69.4,69.27,71.29,74.98,75.19,74.92,73.71,74.677,72.65,72.36,73.51,72.69,72.47,73.17,73.06,73.44,72.83,73.77,74.296,73.63,74.59,75.29,74.81,74.57,74.57,75.02,75.9601,74.63,73.855,74.82,76.68,75.83,75.95,77.26,77.89,76.67,77.43,77.92,77.48,74.58,76.08,76.43,77.0,77.91,76.8,78.29,78.535,77.22,78.79,79.0,79.04,76.55,77.08,77.44,77.555,76.29,77.52,75.91,72.91,72.99,73.59,73.21,72.63,75.95,76.95,78.69,78.37,80.04,80.67,80.28,80.77,75.86,74.11,74.99,73.88,75.76,74.83,75.26,75.6,75.0,74.61,74.72,74.25,74.88,74.24,74.34,73.33,73.6,73.75,74.01,75.63,77.62,77.7,75.1,75.46,74.88,75.24,76.36,76.52,76.84,76.18,77.73,77.83,76.99,74.69,76.11,78.4,79.88,81.45,80.61,80.77,80.775,80.02,79.22,78.02,78.45,77.19,76.15,76.15,78.175,77.74,76.72,76.45,76.28,74.05,75.18,76.24,76.74,77.65,77.83,77.495,75.78,76.24,78.0,75.91,74.99,75.4,75.63,75.615,74.47,74.44,75.19,76.51,76.23,75.74,75.6,76.71,79.42,79.895,78.84,78.45,79.56,80.41,78.97,79.75,79.6,80.895,81.21,80.005,79.44,77.55,77.57,78.93,78.05,78.07,79.365,80.91,82.75,83.8,84.43,85.31,82.92,83.01,83.3,83.195,82.215,81.665,81.555,82.44,82.32,82.275,82.17,82.04,83.01,83.515,82.705,82.31,80.775,83.09,83.62,84.63,82.41,81.53,81.91,80.68,80.465,78.77,78.99,78.81,77.56,78.1,78.425,78.51,78.01,77.46,78.44,81.37,80.42,80.88,80.63,80.55,80.48,80.54,79.335,80.55,80.145,79.19,80.29,80.445,82.44,82.05,82.14,80.67,80.67,82.16,81.83,81.53,80.71,81.06,81.79,82.905,82.51,84.74,87.88,88.86,87.98,88.01,85.8,85.765,86.91,87.285,87.55,87.22,85.65,85.88,87.95,90.1,89.68,89.76,90.85,94.97,97.91,98.39,97.04,95.44,96.95,94.17,95.29,96.99,95.21,94.01,94.14,94.06,96.44,95.12,94.3,94.15,93.62,94.19,93.43,94.42,93.93,95.17,95.31,90.56,86.06,82.09,83.0,87.19,89.73,91.01,89.43,87.23,89.89,88.15,88.26,89.53,90.44,91.98,92.05,92.31,92.9,93.45,94.34,94.4,95.55,92.96,93.97,94.41,92.77,89.21,86.67,89.9,90.95,92.07,94.01,92.8,92.4,92.47,93.24,94.26,94.12,94.07,95.96,97.54,98.47,97.0,97.11,99.67,102.19,103.77,103.7,104.2,104.88,101.97,103.31,102.58,103.94,108.76,107.095,106.49,107.91,109.01,108.02,103.95,104.04,105.13,107.77,106.26,107.32,106.95,105.74,105.41,105.45,104.24,107.12,106.07,104.38,106.18,105.61,106.49,104.6,105.42,102.12,104.66,104.55,106.79,106.22,104.04,104.77,105.51,104.63,105.02,105.93,107.26,106.22,104.66,102.22,102.73,102.97,97.92,97.33,97.51,99.37,95.44,98.37,94.97,95.26,94.35,94.16,97.94,97.01,97.34,94.45,109.11,112.21,115.09,114.61,112.69,110.49,104.07,99.75,99.54,101.0,101.91,102.01,101.61,105.2,103.47,104.57,107.16,105.46,106.88,108.07,107.92,106.92,109.82,109.95,109.58,108.39,105.73,105.93,107.51,107.32,109.41,109.89,110.67,112.18,111.02,111.45,111.85,112.25,112.54,113.05,113.69,116.14,114.7,114.1,116.06,112.55,112.22,113.71,113.64,110.63,108.99,110.61,110.51,110.84,109.64,110.45,112.29,112.42,113.44,110.56,110.1,108.76,108.89,116.73,117.58,118.57,117.43,118.06,117.81,119.49,119.24,120.5,119.52,120.28,119.81,118.67,117.35,117.65,116.81,117.35,115.97,117.7,117.89,119.47,119.38,118.81,118.78,118.93,118.47,118.79,117.76,118.39,118.56,116.62,113.95,114.94,114.6,114.39,113.02,113.37,114.38,113.91,115.08,112.08,108.97,112.7,114.16,114.28,114.19,114.0,116.7,115.85,117.24,117.87,117.93,116.78,117.29,116.86,119.37,120.61,121.92,120.61,121.0,121.63,121.22,123.34,125.0,123.94,124.31,123.09,122.51,124.36,125.15,125.26,125.06,124.88,124.9,124.88,123.9,123.3,124.37,123.91,123.56,124.15,124.37,123.48,123.89,124.96,126.54,125.84,126.12,126.17,126.51,129.73,131.05,130.27,127.1,128.69,127.21,127.77,128.35,129.07,128.65,128.64,129.94,130.08,127.96,127.31,128.69,129.23,128.09,128.27,128.77,128.19,128.47,128.74,128.99,130.24,128.88,129.05,127.82,127.88,127.54,128.57,130.11,130.0,132.07,133.28,132.29,131.04,129.69,131.29,130.99,129.5,127.17,120.0,120.75,122.15,124.22,123.18,120.8,119.02,115.08,117.2,116.34,117.79,117.02,121.77,121.47,120.84,120.38,120.41,120.87,118.42,115.1,115.4,117.43,117.31,117.95,118.91,119.68,117.77,120.31,120.21,120.57,119.87,119.24,119.09,119.04,117.4,117.27,118.01,116.92,116.35,115.05,116.86,118.69,120.67,123.41,124.9,124.35,126.09,126.62,128.34,127.87,127.92,127.55,127.04,128.93,129.37,131.48,132.78,132.18,130.98,130.32,133.23,130.84,130.98,132.06,131.84,134.2,134.14,134.19,134.05,133.85,133.44,133.84,133.53,133.72,136.12,135.36,135.44,136.41,135.54,137.42,136.76,137.17,137.42,137.3,137.72,138.24,138.79,139.6,139.32,139.72,139.99,139.84,139.94,138.51,139.59,139.53,140.34,140.32,141.76,142.65,142.41,142.05,142.28,141.73,141.85,141.17,140.78,141.04,139.92,139.58,139.39,141.42,140.96,142.27,143.8,143.68,145.47,146.49,146.56,147.7,150.25,152.46,152.78,151.8,150.85,150.24,151.06,150.48,150.29,150.04,150.33,150.19,149.78,144.85,147.66,148.06,148.24,148.07,150.04,151.96,152.13,152.38,151.46,151.53,153.61,153.63,152.81,153.12,154.71,149.6,148.44,150.68,150.25,149.8,150.64,152.87,152.25,153.91,153.4,155.07,153.59,150.58,153.24,151.04,150.98,148.43,150.34,148.82,151.44,153.5,155.27,158.9,159.26,159.97,159.73,162.86,164.14,164.53,164.43,166.0,165.28,165.61,170.44,172.45,169.25,169.86,169.3,168.59,169.62,171.98,171.23,171.18,167.4,168.08,170.75,171.0,170.0,166.91,167.41,167.78,169.64,168.71,167.74,166.32,167.24,168.05,169.92,171.97,172.02,170.72,172.09,173.21,170.95,173.51,172.96,173.05,170.96,171.64,170.01,172.52,172.17,171.11,170.54,162.87,164.21,167.68,168.73,170.87,169.47,169.96,168.42,171.24,172.23,172.5,171.59,172.74,172.55,173.74,174.52,176.11,176.03,174.56,174.98,171.27,171.8,170.6,170.63,177.88,179.87,180.06,182.66,178.92,178.92,180.17,180.25,179.56,179.3,178.46,178.77,178.07,177.95,179.59,179.0,178.74,181.86,180.87,182.78,183.03,182.42,175.13,177.18,175.1,171.47,172.83,176.06,180.14,179.0,179.04,176.96,178.3,178.39,180.18,180.82,179.51,177.89,177.45,177.2,175.99,177.62,177.92,176.46,181.42,184.67,184.33,186.85,188.28,187.87,187.84,187.77,179.37,178.39,177.6,179.8,181.29,185.37,189.35,186.55,187.48,190.0,185.98,187.12,186.89,193.09,190.28,181.26,185.31,180.18],\"type\":\"scatter\"}],                        {\"template\":{\"data\":{\"histogram2dcontour\":[{\"type\":\"histogram2dcontour\",\"colorbar\":{\"outlinewidth\":0,\"ticks\":\"\"},\"colorscale\":[[0.0,\"#0d0887\"],[0.1111111111111111,\"#46039f\"],[0.2222222222222222,\"#7201a8\"],[0.3333333333333333,\"#9c179e\"],[0.4444444444444444,\"#bd3786\"],[0.5555555555555556,\"#d8576b\"],[0.6666666666666666,\"#ed7953\"],[0.7777777777777778,\"#fb9f3a\"],[0.8888888888888888,\"#fdca26\"],[1.0,\"#f0f921\"]]}],\"choropleth\":[{\"type\":\"choropleth\",\"colorbar\":{\"outlinewidth\":0,\"ticks\":\"\"}}],\"histogram2d\":[{\"type\":\"histogram2d\",\"colorbar\":{\"outlinewidth\":0,\"ticks\":\"\"},\"colorscale\":[[0.0,\"#0d0887\"],[0.1111111111111111,\"#46039f\"],[0.2222222222222222,\"#7201a8\"],[0.3333333333333333,\"#9c179e\"],[0.4444444444444444,\"#bd3786\"],[0.5555555555555556,\"#d8576b\"],[0.6666666666666666,\"#ed7953\"],[0.7777777777777778,\"#fb9f3a\"],[0.8888888888888888,\"#fdca26\"],[1.0,\"#f0f921\"]]}],\"heatmap\":[{\"type\":\"heatmap\",\"colorbar\":{\"outlinewidth\":0,\"ticks\":\"\"},\"colorscale\":[[0.0,\"#0d0887\"],[0.1111111111111111,\"#46039f\"],[0.2222222222222222,\"#7201a8\"],[0.3333333333333333,\"#9c179e\"],[0.4444444444444444,\"#bd3786\"],[0.5555555555555556,\"#d8576b\"],[0.6666666666666666,\"#ed7953\"],[0.7777777777777778,\"#fb9f3a\"],[0.8888888888888888,\"#fdca26\"],[1.0,\"#f0f921\"]]}],\"heatmapgl\":[{\"type\":\"heatmapgl\",\"colorbar\":{\"outlinewidth\":0,\"ticks\":\"\"},\"colorscale\":[[0.0,\"#0d0887\"],[0.1111111111111111,\"#46039f\"],[0.2222222222222222,\"#7201a8\"],[0.3333333333333333,\"#9c179e\"],[0.4444444444444444,\"#bd3786\"],[0.5555555555555556,\"#d8576b\"],[0.6666666666666666,\"#ed7953\"],[0.7777777777777778,\"#fb9f3a\"],[0.8888888888888888,\"#fdca26\"],[1.0,\"#f0f921\"]]}],\"contourcarpet\":[{\"type\":\"contourcarpet\",\"colorbar\":{\"outlinewidth\":0,\"ticks\":\"\"}}],\"contour\":[{\"type\":\"contour\",\"colorbar\":{\"outlinewidth\":0,\"ticks\":\"\"},\"colorscale\":[[0.0,\"#0d0887\"],[0.1111111111111111,\"#46039f\"],[0.2222222222222222,\"#7201a8\"],[0.3333333333333333,\"#9c179e\"],[0.4444444444444444,\"#bd3786\"],[0.5555555555555556,\"#d8576b\"],[0.6666666666666666,\"#ed7953\"],[0.7777777777777778,\"#fb9f3a\"],[0.8888888888888888,\"#fdca26\"],[1.0,\"#f0f921\"]]}],\"surface\":[{\"type\":\"surface\",\"colorbar\":{\"outlinewidth\":0,\"ticks\":\"\"},\"colorscale\":[[0.0,\"#0d0887\"],[0.1111111111111111,\"#46039f\"],[0.2222222222222222,\"#7201a8\"],[0.3333333333333333,\"#9c179e\"],[0.4444444444444444,\"#bd3786\"],[0.5555555555555556,\"#d8576b\"],[0.6666666666666666,\"#ed7953\"],[0.7777777777777778,\"#fb9f3a\"],[0.8888888888888888,\"#fdca26\"],[1.0,\"#f0f921\"]]}],\"mesh3d\":[{\"type\":\"mesh3d\",\"colorbar\":{\"outlinewidth\":0,\"ticks\":\"\"}}],\"scatter\":[{\"fillpattern\":{\"fillmode\":\"overlay\",\"size\":10,\"solidity\":0.2},\"type\":\"scatter\"}],\"parcoords\":[{\"type\":\"parcoords\",\"line\":{\"colorbar\":{\"outlinewidth\":0,\"ticks\":\"\"}}}],\"scatterpolargl\":[{\"type\":\"scatterpolargl\",\"marker\":{\"colorbar\":{\"outlinewidth\":0,\"ticks\":\"\"}}}],\"bar\":[{\"error_x\":{\"color\":\"#2a3f5f\"},\"error_y\":{\"color\":\"#2a3f5f\"},\"marker\":{\"line\":{\"color\":\"#E5ECF6\",\"width\":0.5},\"pattern\":{\"fillmode\":\"overlay\",\"size\":10,\"solidity\":0.2}},\"type\":\"bar\"}],\"scattergeo\":[{\"type\":\"scattergeo\",\"marker\":{\"colorbar\":{\"outlinewidth\":0,\"ticks\":\"\"}}}],\"scatterpolar\":[{\"type\":\"scatterpolar\",\"marker\":{\"colorbar\":{\"outlinewidth\":0,\"ticks\":\"\"}}}],\"histogram\":[{\"marker\":{\"pattern\":{\"fillmode\":\"overlay\",\"size\":10,\"solidity\":0.2}},\"type\":\"histogram\"}],\"scattergl\":[{\"type\":\"scattergl\",\"marker\":{\"colorbar\":{\"outlinewidth\":0,\"ticks\":\"\"}}}],\"scatter3d\":[{\"type\":\"scatter3d\",\"line\":{\"colorbar\":{\"outlinewidth\":0,\"ticks\":\"\"}},\"marker\":{\"colorbar\":{\"outlinewidth\":0,\"ticks\":\"\"}}}],\"scattermapbox\":[{\"type\":\"scattermapbox\",\"marker\":{\"colorbar\":{\"outlinewidth\":0,\"ticks\":\"\"}}}],\"scatterternary\":[{\"type\":\"scatterternary\",\"marker\":{\"colorbar\":{\"outlinewidth\":0,\"ticks\":\"\"}}}],\"scattercarpet\":[{\"type\":\"scattercarpet\",\"marker\":{\"colorbar\":{\"outlinewidth\":0,\"ticks\":\"\"}}}],\"carpet\":[{\"aaxis\":{\"endlinecolor\":\"#2a3f5f\",\"gridcolor\":\"white\",\"linecolor\":\"white\",\"minorgridcolor\":\"white\",\"startlinecolor\":\"#2a3f5f\"},\"baxis\":{\"endlinecolor\":\"#2a3f5f\",\"gridcolor\":\"white\",\"linecolor\":\"white\",\"minorgridcolor\":\"white\",\"startlinecolor\":\"#2a3f5f\"},\"type\":\"carpet\"}],\"table\":[{\"cells\":{\"fill\":{\"color\":\"#EBF0F8\"},\"line\":{\"color\":\"white\"}},\"header\":{\"fill\":{\"color\":\"#C8D4E3\"},\"line\":{\"color\":\"white\"}},\"type\":\"table\"}],\"barpolar\":[{\"marker\":{\"line\":{\"color\":\"#E5ECF6\",\"width\":0.5},\"pattern\":{\"fillmode\":\"overlay\",\"size\":10,\"solidity\":0.2}},\"type\":\"barpolar\"}],\"pie\":[{\"automargin\":true,\"type\":\"pie\"}]},\"layout\":{\"autotypenumbers\":\"strict\",\"colorway\":[\"#636efa\",\"#EF553B\",\"#00cc96\",\"#ab63fa\",\"#FFA15A\",\"#19d3f3\",\"#FF6692\",\"#B6E880\",\"#FF97FF\",\"#FECB52\"],\"font\":{\"color\":\"#2a3f5f\"},\"hovermode\":\"closest\",\"hoverlabel\":{\"align\":\"left\"},\"paper_bgcolor\":\"white\",\"plot_bgcolor\":\"#E5ECF6\",\"polar\":{\"bgcolor\":\"#E5ECF6\",\"angularaxis\":{\"gridcolor\":\"white\",\"linecolor\":\"white\",\"ticks\":\"\"},\"radialaxis\":{\"gridcolor\":\"white\",\"linecolor\":\"white\",\"ticks\":\"\"}},\"ternary\":{\"bgcolor\":\"#E5ECF6\",\"aaxis\":{\"gridcolor\":\"white\",\"linecolor\":\"white\",\"ticks\":\"\"},\"baxis\":{\"gridcolor\":\"white\",\"linecolor\":\"white\",\"ticks\":\"\"},\"caxis\":{\"gridcolor\":\"white\",\"linecolor\":\"white\",\"ticks\":\"\"}},\"coloraxis\":{\"colorbar\":{\"outlinewidth\":0,\"ticks\":\"\"}},\"colorscale\":{\"sequential\":[[0.0,\"#0d0887\"],[0.1111111111111111,\"#46039f\"],[0.2222222222222222,\"#7201a8\"],[0.3333333333333333,\"#9c179e\"],[0.4444444444444444,\"#bd3786\"],[0.5555555555555556,\"#d8576b\"],[0.6666666666666666,\"#ed7953\"],[0.7777777777777778,\"#fb9f3a\"],[0.8888888888888888,\"#fdca26\"],[1.0,\"#f0f921\"]],\"sequentialminus\":[[0.0,\"#0d0887\"],[0.1111111111111111,\"#46039f\"],[0.2222222222222222,\"#7201a8\"],[0.3333333333333333,\"#9c179e\"],[0.4444444444444444,\"#bd3786\"],[0.5555555555555556,\"#d8576b\"],[0.6666666666666666,\"#ed7953\"],[0.7777777777777778,\"#fb9f3a\"],[0.8888888888888888,\"#fdca26\"],[1.0,\"#f0f921\"]],\"diverging\":[[0,\"#8e0152\"],[0.1,\"#c51b7d\"],[0.2,\"#de77ae\"],[0.3,\"#f1b6da\"],[0.4,\"#fde0ef\"],[0.5,\"#f7f7f7\"],[0.6,\"#e6f5d0\"],[0.7,\"#b8e186\"],[0.8,\"#7fbc41\"],[0.9,\"#4d9221\"],[1,\"#276419\"]]},\"xaxis\":{\"gridcolor\":\"white\",\"linecolor\":\"white\",\"ticks\":\"\",\"title\":{\"standoff\":15},\"zerolinecolor\":\"white\",\"automargin\":true,\"zerolinewidth\":2},\"yaxis\":{\"gridcolor\":\"white\",\"linecolor\":\"white\",\"ticks\":\"\",\"title\":{\"standoff\":15},\"zerolinecolor\":\"white\",\"automargin\":true,\"zerolinewidth\":2},\"scene\":{\"xaxis\":{\"backgroundcolor\":\"#E5ECF6\",\"gridcolor\":\"white\",\"linecolor\":\"white\",\"showbackground\":true,\"ticks\":\"\",\"zerolinecolor\":\"white\",\"gridwidth\":2},\"yaxis\":{\"backgroundcolor\":\"#E5ECF6\",\"gridcolor\":\"white\",\"linecolor\":\"white\",\"showbackground\":true,\"ticks\":\"\",\"zerolinecolor\":\"white\",\"gridwidth\":2},\"zaxis\":{\"backgroundcolor\":\"#E5ECF6\",\"gridcolor\":\"white\",\"linecolor\":\"white\",\"showbackground\":true,\"ticks\":\"\",\"zerolinecolor\":\"white\",\"gridwidth\":2}},\"shapedefaults\":{\"line\":{\"color\":\"#2a3f5f\"}},\"annotationdefaults\":{\"arrowcolor\":\"#2a3f5f\",\"arrowhead\":0,\"arrowwidth\":1},\"geo\":{\"bgcolor\":\"white\",\"landcolor\":\"#E5ECF6\",\"subunitcolor\":\"white\",\"showland\":true,\"showlakes\":true,\"lakecolor\":\"white\"},\"title\":{\"x\":0.05},\"mapbox\":{\"style\":\"light\"}}},\"title\":{\"text\":\"Apple vs Facebook Stock Price\"}},                        {\"responsive\": true}                    ).then(function(){\n                            \nvar gd = document.getElementById('cd5a8cfc-0a9c-49fb-ba24-7d4b1a3ee157');\nvar x = new MutationObserver(function (mutations, observer) {{\n        var display = window.getComputedStyle(gd).display;\n        if (!display || display === 'none') {{\n            console.log([gd, 'removed!']);\n            Plotly.purge(gd);\n            observer.disconnect();\n        }}\n}});\n\n// Listen for the removal of the full notebook cells\nvar notebookContainer = gd.closest('#notebook-container');\nif (notebookContainer) {{\n    x.observe(notebookContainer, {childList: true});\n}}\n\n// Listen for the clearing of the current output cell\nvar outputEl = gd.closest('.output');\nif (outputEl) {{\n    x.observe(outputEl, {childList: true});\n}}\n\n                        })                };                            </script>        </div>\n</body>\n</html>"
     },
     "metadata": {},
     "output_type": "display_data"
    }
   ]
  },
  {
   "cell_type": "markdown",
   "source": "We can see here at the 2013, Facebook actually had lower price than apple, but after 2016, Facebook suppressed Apple in terms of price and hold the lead for most of following lwing time",
   "metadata": {
    "cell_id": "16f143166be0487d9d773dc79d1c1d28",
    "tags": [],
    "deepnote_cell_type": "markdown",
    "deepnote_cell_height": 74.796875
   }
  },
  {
   "cell_type": "markdown",
   "source": "However, we cannot say Facebook has larger scale or larger profitability than Apple, because I think the reason why Apple cannot beat Facebook in terms of stock price is because Apple, as a giant company, has more stock shares so it makes the individual stock share price not too high",
   "metadata": {
    "cell_id": "0f2d9f570b9b48d5b105b2d532bba7b4",
    "tags": [],
    "deepnote_cell_type": "markdown",
    "deepnote_cell_height": 97.1875
   }
  },
  {
   "cell_type": "markdown",
   "source": "## Summary\n\nIn this project I try to used what I learned in math10 about Pandas to find sub dataset and re-incorporate dataset, and use Machinelearning to predict the close price by (open,high low) price and polynomial open price and also compute the error. Also I use the Altair bursh and transform to plot a flexible graph so that I can see the detailed close price for a certain period. Last, I use Plotly as extra topic to plot the history AAL price and compare two famous companies : Apple and Facebook ",
   "metadata": {
    "cell_id": "75922aa8-c6e1-46d5-9c85-550df5b37982",
    "tags": [],
    "deepnote_cell_type": "markdown",
    "deepnote_cell_height": 197.984375
   }
  },
  {
   "cell_type": "markdown",
   "source": "## References",
   "metadata": {
    "cell_id": "fc42153e-0b6d-4c37-9e06-ee471cfb0534",
    "tags": [],
    "deepnote_cell_type": "markdown",
    "deepnote_cell_height": 70
   }
  },
  {
   "cell_type": "markdown",
   "source": "* What is the source of your dataset(s)?",
   "metadata": {
    "cell_id": "d3a63eb2a5bc44e0a0322bc8748d730b",
    "tags": [],
    "deepnote_cell_type": "markdown",
    "deepnote_cell_height": 69.390625
   }
  },
  {
   "cell_type": "markdown",
   "source": "My source downloaded from Kaggle and the name is S&P 500 stock data https://www.kaggle.com/datasets/camnugent/sandp500/code?datasetId=1908&sortBy=voteCount",
   "metadata": {
    "cell_id": "c544469bfee74262876148402afc5bc8",
    "tags": [],
    "deepnote_to_be_reexecuted": false,
    "source_hash": "b623e53d",
    "execution_start": 1654149733668,
    "execution_millis": 1,
    "deepnote_cell_type": "markdown",
    "deepnote_cell_height": 74.796875
   }
  },
  {
   "cell_type": "markdown",
   "source": "* Were any portions of the code or ideas taken from another source?  List those sources here and say how they were used.\nthe idea of comparing two famous stocks based on time series is adapted from \nhttps://www.kaggle.com/code/hakkisimsek/plotly-tutorial-3   \n\nThe codes about Plotly graphing including go.scatter and matplotlib are learned from  \nhttps://plotly.com/python/line-charts/ \n\nThe idea of predicting close price is adapted from  \nhttps://christopherdavisuci.github.io/UCI-Math-10-W22/Proj/StudentProjects/YufeiRen.html \n",
   "metadata": {
    "cell_id": "c01d9c7e85f74a0c8939eb4f9a7e7ca8",
    "tags": [],
    "owner_user_id": "02be19f8-8497-4212-b8d0-46ca9f1d48b9",
    "deepnote_cell_type": "markdown",
    "deepnote_cell_height": 254.1875
   }
  },
  {
   "cell_type": "markdown",
   "source": "<a style='text-decoration:none;line-height:16px;display:flex;color:#5B5B62;padding:10px;justify-content:end;' href='https://deepnote.com?utm_source=created-in-deepnote-cell&projectId=1093d634-f1d2-43c3-9ca6-7faf0ed2e82b' target=\"_blank\">\n<img alt='Created in deepnote.com' style='display:inline;max-height:16px;margin:0px;margin-right:7.5px;' src='data:image/svg+xml;base64,PD94bWwgdmVyc2lvbj0iMS4wIiBlbmNvZGluZz0iVVRGLTgiPz4KPHN2ZyB3aWR0aD0iODBweCIgaGVpZ2h0PSI4MHB4IiB2aWV3Qm94PSIwIDAgODAgODAiIHZlcnNpb249IjEuMSIgeG1sbnM9Imh0dHA6Ly93d3cudzMub3JnLzIwMDAvc3ZnIiB4bWxuczp4bGluaz0iaHR0cDovL3d3dy53My5vcmcvMTk5OS94bGluayI+CiAgICA8IS0tIEdlbmVyYXRvcjogU2tldGNoIDU0LjEgKDc2NDkwKSAtIGh0dHBzOi8vc2tldGNoYXBwLmNvbSAtLT4KICAgIDx0aXRsZT5Hcm91cCAzPC90aXRsZT4KICAgIDxkZXNjPkNyZWF0ZWQgd2l0aCBTa2V0Y2guPC9kZXNjPgogICAgPGcgaWQ9IkxhbmRpbmciIHN0cm9rZT0ibm9uZSIgc3Ryb2tlLXdpZHRoPSIxIiBmaWxsPSJub25lIiBmaWxsLXJ1bGU9ImV2ZW5vZGQiPgogICAgICAgIDxnIGlkPSJBcnRib2FyZCIgdHJhbnNmb3JtPSJ0cmFuc2xhdGUoLTEyMzUuMDAwMDAwLCAtNzkuMDAwMDAwKSI+CiAgICAgICAgICAgIDxnIGlkPSJHcm91cC0zIiB0cmFuc2Zvcm09InRyYW5zbGF0ZSgxMjM1LjAwMDAwMCwgNzkuMDAwMDAwKSI+CiAgICAgICAgICAgICAgICA8cG9seWdvbiBpZD0iUGF0aC0yMCIgZmlsbD0iIzAyNjVCNCIgcG9pbnRzPSIyLjM3NjIzNzYyIDgwIDM4LjA0NzY2NjcgODAgNTcuODIxNzgyMiA3My44MDU3NTkyIDU3LjgyMTc4MjIgMzIuNzU5MjczOSAzOS4xNDAyMjc4IDMxLjY4MzE2ODMiPjwvcG9seWdvbj4KICAgICAgICAgICAgICAgIDxwYXRoIGQ9Ik0zNS4wMDc3MTgsODAgQzQyLjkwNjIwMDcsNzYuNDU0OTM1OCA0Ny41NjQ5MTY3LDcxLjU0MjI2NzEgNDguOTgzODY2LDY1LjI2MTk5MzkgQzUxLjExMjI4OTksNTUuODQxNTg0MiA0MS42NzcxNzk1LDQ5LjIxMjIyODQgMjUuNjIzOTg0Niw0OS4yMTIyMjg0IEMyNS40ODQ5Mjg5LDQ5LjEyNjg0NDggMjkuODI2MTI5Niw0My4yODM4MjQ4IDM4LjY0NzU4NjksMzEuNjgzMTY4MyBMNzIuODcxMjg3MSwzMi41NTQ0MjUgTDY1LjI4MDk3Myw2Ny42NzYzNDIxIEw1MS4xMTIyODk5LDc3LjM3NjE0NCBMMzUuMDA3NzE4LDgwIFoiIGlkPSJQYXRoLTIyIiBmaWxsPSIjMDAyODY4Ij48L3BhdGg+CiAgICAgICAgICAgICAgICA8cGF0aCBkPSJNMCwzNy43MzA0NDA1IEwyNy4xMTQ1MzcsMC4yNTcxMTE0MzYgQzYyLjM3MTUxMjMsLTEuOTkwNzE3MDEgODAsMTAuNTAwMzkyNyA4MCwzNy43MzA0NDA1IEM4MCw2NC45NjA0ODgyIDY0Ljc3NjUwMzgsNzkuMDUwMzQxNCAzNC4zMjk1MTEzLDgwIEM0Ny4wNTUzNDg5LDc3LjU2NzA4MDggNTMuNDE4MjY3Nyw3MC4zMTM2MTAzIDUzLjQxODI2NzcsNTguMjM5NTg4NSBDNTMuNDE4MjY3Nyw0MC4xMjg1NTU3IDM2LjMwMzk1NDQsMzcuNzMwNDQwNSAyNS4yMjc0MTcsMzcuNzMwNDQwNSBDMTcuODQzMDU4NiwzNy43MzA0NDA1IDkuNDMzOTE5NjYsMzcuNzMwNDQwNSAwLDM3LjczMDQ0MDUgWiIgaWQ9IlBhdGgtMTkiIGZpbGw9IiMzNzkzRUYiPjwvcGF0aD4KICAgICAgICAgICAgPC9nPgogICAgICAgIDwvZz4KICAgIDwvZz4KPC9zdmc+' > </img>\nCreated in <span style='font-weight:600;margin-left:4px;'>Deepnote</span></a>",
   "metadata": {
    "tags": [],
    "created_in_deepnote_cell": true,
    "deepnote_cell_type": "markdown"
   }
  }
 ],
 "nbformat": 4,
 "nbformat_minor": 2,
 "metadata": {
  "orig_nbformat": 2,
  "deepnote": {
   "is_reactive": false
  },
  "deepnote_notebook_id": "97afb67d-06ce-4a63-bb3d-208672377dae",
  "deepnote_execution_queue": []
 }
}