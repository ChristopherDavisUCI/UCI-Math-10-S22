{
 "cells": [
  {
   "cell_type": "markdown",
   "metadata": {
    "cell_id": "b22fc982-1871-45c2-bdd3-2c8e163901f8",
    "deepnote_cell_height": 327.1875,
    "deepnote_cell_type": "markdown",
    "tags": []
   },
   "source": [
    "# Week 8, Tuesday Discussion\n",
    "\n",
    "__Reminders__:\n",
    " - Midterm 2 this Thursday during discussion\n",
    " - I have extra notecards if you need one -- just ask me! \n",
    "\n",
    "__Announcements__\n",
    " - Video quizzes will be locked __tonight at 11:59 pm__ so that solutions can be released. Be sure to complete any quizzes that you are missing, even if they are from Week 1! \n",
    " - Today we will get through as much of the practice midterm as we can. Full solutions will be posted after discussion today."
   ]
  },
  {
   "cell_type": "markdown",
   "metadata": {
    "cell_id": "62eeac5e802a4ca9a9df62746f6242f3",
    "deepnote_cell_height": 70,
    "deepnote_cell_type": "markdown",
    "tags": []
   },
   "source": [
    "## Midterm 2 Review "
   ]
  },
  {
   "cell_type": "code",
   "execution_count": 1,
   "metadata": {
    "cell_id": "15eadd412c5743288dd12372399b12cb",
    "deepnote_cell_height": 153,
    "deepnote_cell_type": "code",
    "deepnote_to_be_reexecuted": false,
    "execution_millis": 1174,
    "execution_start": 1652820949103,
    "source_hash": "54e87efd",
    "tags": []
   },
   "outputs": [],
   "source": [
    "#These will be useful for multiple problems, so let's import them now\n",
    "import seaborn as sns\n",
    "import pandas as pd\n",
    "import altair as alt\n",
    "import numpy as np"
   ]
  },
  {
   "cell_type": "markdown",
   "metadata": {
    "cell_id": "6cf755744d32486497b36ff106f137e1",
    "deepnote_cell_height": 62,
    "deepnote_cell_type": "markdown",
    "tags": []
   },
   "source": [
    "### Problem 1 "
   ]
  },
  {
   "cell_type": "code",
   "execution_count": 2,
   "metadata": {
    "cell_id": "52893367345d421691a4f88f04b47e23",
    "deepnote_cell_height": 135,
    "deepnote_cell_type": "code",
    "deepnote_to_be_reexecuted": false,
    "execution_millis": 2,
    "execution_start": 1652821491654,
    "source_hash": "520658c3",
    "tags": []
   },
   "outputs": [],
   "source": [
    "# Set up for the problem; pretend you don't know what mylist is!\n",
    "mylist = [13.2, -10, -4.5, 1.2]\n",
    "c0,c1,c2,c3 = mylist\n",
    "f = lambda x: c3*x**3 + c2*x**2 + c1*x + c0"
   ]
  },
  {
   "cell_type": "code",
   "execution_count": 3,
   "metadata": {
    "cell_id": "eb1559dc015248d5a6424337e45adaf2",
    "deepnote_cell_height": 566,
    "deepnote_cell_type": "code",
    "deepnote_output_heights": [
     361
    ],
    "deepnote_to_be_reexecuted": false,
    "execution_millis": 90,
    "execution_start": 1652821501192,
    "source_hash": "9f2fc02b",
    "tags": []
   },
   "outputs": [
    {
     "data": {
      "text/html": [
       "\n",
       "<div id=\"altair-viz-031d5b354c3647ca85634421b132eed0\"></div>\n",
       "<script type=\"text/javascript\">\n",
       "  var VEGA_DEBUG = (typeof VEGA_DEBUG == \"undefined\") ? {} : VEGA_DEBUG;\n",
       "  (function(spec, embedOpt){\n",
       "    let outputDiv = document.currentScript.previousElementSibling;\n",
       "    if (outputDiv.id !== \"altair-viz-031d5b354c3647ca85634421b132eed0\") {\n",
       "      outputDiv = document.getElementById(\"altair-viz-031d5b354c3647ca85634421b132eed0\");\n",
       "    }\n",
       "    const paths = {\n",
       "      \"vega\": \"https://cdn.jsdelivr.net/npm//vega@5?noext\",\n",
       "      \"vega-lib\": \"https://cdn.jsdelivr.net/npm//vega-lib?noext\",\n",
       "      \"vega-lite\": \"https://cdn.jsdelivr.net/npm//vega-lite@4.17.0?noext\",\n",
       "      \"vega-embed\": \"https://cdn.jsdelivr.net/npm//vega-embed@6?noext\",\n",
       "    };\n",
       "\n",
       "    function maybeLoadScript(lib, version) {\n",
       "      var key = `${lib.replace(\"-\", \"\")}_version`;\n",
       "      return (VEGA_DEBUG[key] == version) ?\n",
       "        Promise.resolve(paths[lib]) :\n",
       "        new Promise(function(resolve, reject) {\n",
       "          var s = document.createElement('script');\n",
       "          document.getElementsByTagName(\"head\")[0].appendChild(s);\n",
       "          s.async = true;\n",
       "          s.onload = () => {\n",
       "            VEGA_DEBUG[key] = version;\n",
       "            return resolve(paths[lib]);\n",
       "          };\n",
       "          s.onerror = () => reject(`Error loading script: ${paths[lib]}`);\n",
       "          s.src = paths[lib];\n",
       "        });\n",
       "    }\n",
       "\n",
       "    function showError(err) {\n",
       "      outputDiv.innerHTML = `<div class=\"error\" style=\"color:red;\">${err}</div>`;\n",
       "      throw err;\n",
       "    }\n",
       "\n",
       "    function displayChart(vegaEmbed) {\n",
       "      vegaEmbed(outputDiv, spec, embedOpt)\n",
       "        .catch(err => showError(`Javascript Error: ${err.message}<br>This usually means there's a typo in your chart specification. See the javascript console for the full traceback.`));\n",
       "    }\n",
       "\n",
       "    if(typeof define === \"function\" && define.amd) {\n",
       "      requirejs.config({paths});\n",
       "      require([\"vega-embed\"], displayChart, err => showError(`Error loading script: ${err.message}`));\n",
       "    } else {\n",
       "      maybeLoadScript(\"vega\", \"5\")\n",
       "        .then(() => maybeLoadScript(\"vega-lite\", \"4.17.0\"))\n",
       "        .then(() => maybeLoadScript(\"vega-embed\", \"6\"))\n",
       "        .catch(showError)\n",
       "        .then(() => displayChart(vegaEmbed));\n",
       "    }\n",
       "  })({\"config\": {\"view\": {\"continuousWidth\": 400, \"continuousHeight\": 300}}, \"data\": {\"name\": \"data-db6218eec4b9dcf3d7c1eb2a24414d27\"}, \"mark\": \"circle\", \"encoding\": {\"x\": {\"field\": \"x\", \"type\": \"quantitative\"}, \"y\": {\"field\": \"y\", \"type\": \"quantitative\"}}, \"$schema\": \"https://vega.github.io/schema/vega-lite/v4.17.0.json\", \"datasets\": {\"data-db6218eec4b9dcf3d7c1eb2a24414d27\": [{\"x\": -4.0, \"y\": -95.60000000000001}, {\"x\": -3.8, \"y\": -79.62639999999998}, {\"x\": -3.5999999999999996, \"y\": -65.10719999999996}, {\"x\": -3.3999999999999995, \"y\": -51.984799999999964}, {\"x\": -3.1999999999999993, \"y\": -40.20159999999996}, {\"x\": -2.999999999999999, \"y\": -29.699999999999957}, {\"x\": -2.799999999999999, \"y\": -20.422399999999957}, {\"x\": -2.5999999999999988, \"y\": -12.311199999999953}, {\"x\": -2.3999999999999986, \"y\": -5.308799999999952}, {\"x\": -2.1999999999999984, \"y\": 0.6424000000000483}, {\"x\": -1.9999999999999982, \"y\": 5.600000000000037}, {\"x\": -1.799999999999998, \"y\": 9.621600000000033}, {\"x\": -1.5999999999999979, \"y\": 12.764800000000026}, {\"x\": -1.3999999999999977, \"y\": 15.087200000000022}, {\"x\": -1.1999999999999975, \"y\": 16.646400000000014}, {\"x\": -0.9999999999999973, \"y\": 17.500000000000007}, {\"x\": -0.7999999999999972, \"y\": 17.705599999999997}, {\"x\": -0.599999999999997, \"y\": 17.32079999999999}, {\"x\": -0.3999999999999968, \"y\": 16.40319999999998}, {\"x\": -0.19999999999999662, \"y\": 15.010399999999972}, {\"x\": 3.552713678800501e-15, \"y\": 13.199999999999964}, {\"x\": 0.20000000000000373, \"y\": 11.029599999999956}, {\"x\": 0.4000000000000039, \"y\": 8.55679999999995}, {\"x\": 0.6000000000000041, \"y\": 5.839199999999941}, {\"x\": 0.8000000000000043, \"y\": 2.934399999999936}, {\"x\": 1.0000000000000044, \"y\": -0.10000000000006892}, {\"x\": 1.2000000000000046, \"y\": -3.206400000000073}, {\"x\": 1.4000000000000048, \"y\": -6.327200000000076}, {\"x\": 1.600000000000005, \"y\": -9.404800000000076}, {\"x\": 1.8000000000000052, \"y\": -12.381600000000073}, {\"x\": 2.0000000000000053, \"y\": -15.200000000000074}, {\"x\": 2.2000000000000055, \"y\": -17.80240000000007}, {\"x\": 2.4000000000000057, \"y\": -20.131200000000067}, {\"x\": 2.600000000000006, \"y\": -22.12880000000006}, {\"x\": 2.800000000000006, \"y\": -23.737600000000047}, {\"x\": 3.000000000000006, \"y\": -24.900000000000038}, {\"x\": 3.2000000000000064, \"y\": -25.55840000000001}, {\"x\": 3.4000000000000066, \"y\": -25.65519999999999}, {\"x\": 3.6000000000000068, \"y\": -25.13279999999998}, {\"x\": 3.800000000000007, \"y\": -23.933599999999945}]}}, {\"mode\": \"vega-lite\"});\n",
       "</script>"
      ],
      "text/plain": [
       "alt.Chart(...)"
      ]
     },
     "execution_count": 3,
     "metadata": {},
     "output_type": "execute_result"
    }
   ],
   "source": [
    "df = pd.DataFrame({\"x\": np.arange(-4,4,0.2)})\n",
    "df[\"y\"] = df[\"x\"].map(f)\n",
    "\n",
    "alt.Chart(df).mark_circle().encode(\n",
    "     x=\"x\",\n",
    "     y=\"y\"\n",
    ")"
   ]
  },
  {
   "cell_type": "code",
   "execution_count": 4,
   "metadata": {
    "cell_id": "2fe74ed853d8477bba25fb6e669c8f0a",
    "deepnote_cell_height": 81,
    "deepnote_cell_type": "code",
    "deepnote_to_be_reexecuted": false,
    "execution_millis": 5,
    "execution_start": 1652821749162,
    "source_hash": "9527aab5",
    "tags": []
   },
   "outputs": [],
   "source": [
    "from sklearn.linear_model import LinearRegression"
   ]
  },
  {
   "cell_type": "code",
   "execution_count": 5,
   "metadata": {
    "cell_id": "d1162767d32c4ec2b5fd2f6909574fcc",
    "deepnote_cell_height": 81,
    "deepnote_cell_type": "code",
    "deepnote_to_be_reexecuted": false,
    "execution_millis": 3,
    "execution_start": 1652821757565,
    "source_hash": "cd72858e",
    "tags": []
   },
   "outputs": [],
   "source": [
    "reg = LinearRegression()"
   ]
  },
  {
   "cell_type": "code",
   "execution_count": 6,
   "metadata": {
    "cell_id": "5531f0d5bf11433fbe2560987a03e21e",
    "deepnote_cell_height": 153,
    "deepnote_cell_type": "code",
    "deepnote_to_be_reexecuted": false,
    "execution_millis": 3,
    "execution_start": 1652821939876,
    "source_hash": "5a93314a",
    "tags": []
   },
   "outputs": [],
   "source": [
    "cols = []\n",
    "for deg in range(1,4):\n",
    "    c = f\"d{deg}\"\n",
    "    cols.append(c)\n",
    "    df[c] = df[\"x\"]**deg"
   ]
  },
  {
   "cell_type": "code",
   "execution_count": 7,
   "metadata": {
    "cell_id": "dd5162d03a384f9685cd7c0d3add46e9",
    "deepnote_cell_height": 118.1875,
    "deepnote_cell_type": "code",
    "deepnote_output_heights": [
     21.1875
    ],
    "deepnote_to_be_reexecuted": false,
    "execution_millis": 10,
    "execution_start": 1652822024380,
    "source_hash": "3b10dde3",
    "tags": []
   },
   "outputs": [
    {
     "data": {
      "text/plain": [
       "LinearRegression()"
      ]
     },
     "execution_count": 7,
     "metadata": {},
     "output_type": "execute_result"
    }
   ],
   "source": [
    "reg.fit(df[cols],df[\"y\"])"
   ]
  },
  {
   "cell_type": "code",
   "execution_count": 8,
   "metadata": {
    "cell_id": "8b56cf7ae9274fce85f510309ad677c1",
    "deepnote_cell_height": 136.1875,
    "deepnote_cell_type": "code",
    "deepnote_output_heights": [
     21.1875
    ],
    "deepnote_to_be_reexecuted": false,
    "execution_millis": 50,
    "execution_start": 1652822190507,
    "source_hash": "75d9737",
    "tags": []
   },
   "outputs": [
    {
     "data": {
      "text/plain": [
       "-4.499999999999999"
      ]
     },
     "execution_count": 8,
     "metadata": {},
     "output_type": "execute_result"
    }
   ],
   "source": [
    "ans2 = reg.coef_[1]\n",
    "ans2"
   ]
  },
  {
   "cell_type": "code",
   "execution_count": 9,
   "metadata": {
    "cell_id": "c4e18ef9bbf04abfbc65dc3b989496d6",
    "deepnote_cell_height": 136.1875,
    "deepnote_cell_type": "code",
    "deepnote_output_heights": [
     21.1875
    ],
    "deepnote_to_be_reexecuted": false,
    "execution_millis": 6,
    "execution_start": 1652822207365,
    "source_hash": "a1c2dc72",
    "tags": []
   },
   "outputs": [
    {
     "data": {
      "text/plain": [
       "13.199999999999996"
      ]
     },
     "execution_count": 9,
     "metadata": {},
     "output_type": "execute_result"
    }
   ],
   "source": [
    "ans0 = reg.intercept_\n",
    "ans0"
   ]
  },
  {
   "cell_type": "markdown",
   "metadata": {
    "cell_id": "0f6061d3f1904bca89c285f46d6ffc50",
    "deepnote_cell_height": 62,
    "deepnote_cell_type": "markdown",
    "tags": []
   },
   "source": [
    "### Problem 2"
   ]
  },
  {
   "cell_type": "markdown",
   "metadata": {
    "cell_id": "b5618eade4bf4d65b5a5dd1f8233eeb1",
    "deepnote_cell_height": 62,
    "deepnote_cell_type": "markdown",
    "tags": []
   },
   "source": [
    "### Problem 3\n"
   ]
  },
  {
   "cell_type": "code",
   "execution_count": 10,
   "metadata": {
    "cell_id": "4d34b80987e54a1984e731f23a90d33a",
    "deepnote_cell_height": 117,
    "deepnote_cell_type": "code",
    "deepnote_to_be_reexecuted": false,
    "execution_millis": 43140,
    "execution_start": 1652820950281,
    "source_hash": "e9d3eada",
    "tags": []
   },
   "outputs": [],
   "source": [
    "from sklearn.datasets import fetch_openml\n",
    "from sklearn.cluster import KMeans\n",
    "mnist = fetch_openml('mnist_784', version = 1)"
   ]
  },
  {
   "cell_type": "code",
   "execution_count": 11,
   "metadata": {
    "cell_id": "6798e4ec6a2a49e183f6f14993403b0b",
    "deepnote_cell_height": 81,
    "deepnote_cell_type": "code",
    "deepnote_to_be_reexecuted": false,
    "execution_millis": 0,
    "execution_start": 1652822504945,
    "source_hash": "975f4f50",
    "tags": []
   },
   "outputs": [],
   "source": [
    "df = pd.DataFrame(mnist.data)"
   ]
  },
  {
   "cell_type": "code",
   "execution_count": 12,
   "metadata": {
    "cell_id": "b7d54fe7e6c04518a10674a16598432b",
    "deepnote_cell_height": 136.1875,
    "deepnote_cell_type": "code",
    "deepnote_output_heights": [
     21.1875
    ],
    "deepnote_to_be_reexecuted": false,
    "execution_millis": 91320,
    "execution_start": 1652822573205,
    "source_hash": "4f7bf751",
    "tags": []
   },
   "outputs": [
    {
     "data": {
      "text/plain": [
       "KMeans(n_clusters=14)"
      ]
     },
     "execution_count": 12,
     "metadata": {},
     "output_type": "execute_result"
    }
   ],
   "source": [
    "kmeans = KMeans(n_clusters=14)\n",
    "kmeans.fit(df)"
   ]
  },
  {
   "cell_type": "code",
   "execution_count": 13,
   "metadata": {
    "cell_id": "7d0f5bc53fed4177a1b75c00ec569591",
    "deepnote_cell_height": 81,
    "deepnote_cell_type": "code",
    "deepnote_to_be_reexecuted": false,
    "execution_millis": 537,
    "execution_start": 1652822688599,
    "source_hash": "797d55fc",
    "tags": []
   },
   "outputs": [],
   "source": [
    "df[\"cluster\"] = kmeans.predict(df)"
   ]
  },
  {
   "cell_type": "markdown",
   "metadata": {
    "cell_id": "046df49f64ed43908d21b406bae55d50",
    "deepnote_cell_height": 52.390625,
    "deepnote_cell_type": "markdown",
    "tags": []
   },
   "source": [
    "(c) \n"
   ]
  },
  {
   "cell_type": "code",
   "execution_count": 14,
   "metadata": {
    "cell_id": "827af813c05a45d290d11cbeb14e9a04",
    "deepnote_cell_height": 99,
    "deepnote_cell_type": "code",
    "deepnote_to_be_reexecuted": false,
    "execution_millis": 4,
    "execution_start": 1652822996851,
    "source_hash": "45155276",
    "tags": []
   },
   "outputs": [],
   "source": [
    "#Create a column called \"label\" that stores the true value of each image\n",
    "df[\"label\"] = pd.DataFrame(mnist.target)"
   ]
  },
  {
   "cell_type": "code",
   "execution_count": 15,
   "metadata": {
    "cell_id": "82bf76eb032d48d2ab27fe6edf231539",
    "deepnote_cell_height": 403.734375,
    "deepnote_cell_type": "code",
    "deepnote_to_be_reexecuted": false,
    "execution_millis": 939,
    "execution_start": 1652823218747,
    "source_hash": "51cee12f",
    "tags": []
   },
   "outputs": [
    {
     "name": "stdout",
     "output_type": "stream",
     "text": [
      "The number of 5s in cluster 0 is 3\n",
      "The number of 5s in cluster 1 is 128\n",
      "The number of 5s in cluster 2 is 1203\n",
      "The number of 5s in cluster 3 is 45\n",
      "The number of 5s in cluster 4 is 36\n",
      "The number of 5s in cluster 5 is 145\n",
      "The number of 5s in cluster 6 is 804\n",
      "The number of 5s in cluster 7 is 318\n",
      "The number of 5s in cluster 8 is 185\n",
      "The number of 5s in cluster 9 is 70\n",
      "The number of 5s in cluster 10 is 1499\n",
      "The number of 5s in cluster 11 is 180\n",
      "The number of 5s in cluster 12 is 7\n",
      "The number of 5s in cluster 13 is 1690\n"
     ]
    }
   ],
   "source": [
    "for cluster, df_sub in df.groupby(\"cluster\"):\n",
    "    num5s = (df_sub[\"label\"] == \"5\").sum()\n",
    "    print(f\"The number of 5s in cluster {cluster} is {num5s}\")"
   ]
  },
  {
   "cell_type": "markdown",
   "metadata": {
    "cell_id": "155029b5a06f429c83a93f85c99f3d86",
    "deepnote_cell_height": 52.390625,
    "deepnote_cell_type": "markdown",
    "tags": []
   },
   "source": [
    "(d)/(e)"
   ]
  },
  {
   "cell_type": "code",
   "execution_count": 16,
   "metadata": {
    "cell_id": "396e81520ff94fb6afbf29540e565041",
    "deepnote_cell_height": 525.1875,
    "deepnote_cell_type": "code",
    "deepnote_output_heights": [
     21.1875,
     250
    ],
    "deepnote_to_be_reexecuted": false,
    "execution_millis": 248,
    "execution_start": 1652824240909,
    "owner_user_id": "e590e996-b52f-4e48-8e79-35525bbb42f6",
    "source_hash": "88649f27",
    "tags": []
   },
   "outputs": [
    {
     "data": {
      "text/plain": [
       "<matplotlib.image.AxesImage at 0x7f8fd8111650>"
      ]
     },
     "execution_count": 16,
     "metadata": {},
     "output_type": "execute_result"
    },
    {
     "data": {
      "image/png": "[encoded data removed]",
      "text/plain": [
       "<Figure size 432x288 with 1 Axes>"
      ]
     },
     "metadata": {
      "needs_background": "light"
     },
     "output_type": "display_data"
    }
   ],
   "source": [
    "import matplotlib.pyplot as plt\n",
    "kmeans.cluster_centers_.shape\n",
    "A = kmeans.cluster_centers_[0]\n",
    "A = A.reshape(28,28)\n",
    "\n",
    "fig,ax = plt.subplots()\n",
    "ax.imshow(A)\n"
   ]
  },
  {
   "cell_type": "markdown",
   "metadata": {
    "cell_id": "ca477348d90140f682a539cb5a686f21",
    "deepnote_cell_height": 62,
    "deepnote_cell_type": "markdown",
    "tags": []
   },
   "source": [
    "### Problem 4"
   ]
  }
 ],
 "metadata": {
  "deepnote": {},
  "deepnote_execution_queue": [],
  "deepnote_notebook_id": "5d924da3-f0a1-4ea7-9df9-06504131b334",
  "kernelspec": {
   "display_name": "Python 3 (ipykernel)",
   "language": "python",
   "name": "python3"
  },
  "language_info": {
   "codemirror_mode": {
    "name": "ipython",
    "version": 3
   },
   "file_extension": ".py",
   "mimetype": "text/x-python",
   "name": "python",
   "nbconvert_exporter": "python",
   "pygments_lexer": "ipython3",
   "version": "3.7.12"
  }
 },
 "nbformat": 4,
 "nbformat_minor": 4
}
