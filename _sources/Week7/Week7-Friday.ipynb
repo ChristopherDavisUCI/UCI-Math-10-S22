{
 "cells": [
  {
   "cell_type": "markdown",
   "metadata": {
    "cell_id": "6c01e41c-2a7e-483c-a11a-4c97a2b810d6",
    "deepnote_cell_height": 82,
    "deepnote_cell_type": "markdown",
    "tags": []
   },
   "source": [
    "# Logistic Regression"
   ]
  },
  {
   "cell_type": "markdown",
   "metadata": {
    "cell_id": "b871523ee8c94db08381cefd84e9a36e",
    "deepnote_cell_height": 223.953125,
    "deepnote_cell_type": "markdown",
    "tags": []
   },
   "source": [
    "## Announcements\n",
    "\n",
    "* I have notecards.  Ask if you need one.\n",
    "* Videos posted for next week.  Mostly review of overfitting.  Due Tuesday (not the usual Thursday).\n",
    "* Midterm is Thursday next week.\n",
    "* A sample midterm is posted on the Week 8 page on Canvas.  Yasmeen will go over solutions in discussion section on Tuesday.\n",
    "* Only one in-class quiz left, Tuesday of Week 10."
   ]
  },
  {
   "cell_type": "markdown",
   "metadata": {
    "cell_id": "9e5f589e710942e6889ff35be6654e27",
    "deepnote_cell_height": 371.921875,
    "deepnote_cell_type": "markdown",
    "tags": []
   },
   "source": [
    "## The main categories for Machine Learning\n",
    "\n",
    "Machine Learning is divided into two broad categories.\n",
    "* **Unsupervised learning** - In unsupervised learning, we do not have labels or \"correct answers\" for our data.  Clustering (such as K-Means clustering) is an example of unsupervised learning.\n",
    "* **Supervised learning** - In supervised learning, the data (or at least some of the data) does include labels.  Our goal in supervised learning is to define a model that can correctly output these labels.\n",
    "\n",
    "Within supervised learning, there are again two major sub-categories.\n",
    "* **Regression** - The target is a numeric value, such as the price of a house.  Linear regression or polynomial regression are the examples of regression we have seen.\n",
    "* **Classification** - The target value is one out of a discrete set of categories, such as Yes or No, whether a house sold, or a species of penguin.  Somewhat confusingly, logistic regression is an example of classification (not of regression).\n",
    "\n",
    "In class, we briefly discussed why handwritten digit classification should be considered a classification problem, even though the outputs can be considered to be numbers.  One intuition for this is to ask yourself, if there were an output like 4.3, how would you want to interpret that?  If we are estimating \"number of bedrooms\" or \"years in college\", this kind of output makes perfect sense.  But if we are trying to classify a handwritten digit, an answer like 4.3 does not make sense.  (A digit 4 looks nothing like a digit 5, so for the purposes of this problem, the ordering of the digits does not matter.)"
   ]
  },
  {
   "cell_type": "markdown",
   "metadata": {
    "cell_id": "6f936b1c026748a1a6823f7ed1b8e6e8",
    "deepnote_cell_height": 805.90625,
    "deepnote_cell_type": "markdown",
    "tags": []
   },
   "source": [
    "## The sigmoid function\n",
    "\n",
    "The basic idea of logistic regression (in the case of two outputs) is to try to write a function which outputs, not the class directly, but the probability of that class.  The probability is modeled by the *sigmoid function*,\n",
    "\n",
    "$$\n",
    "\\sigma(x) = \\frac{e^x}{e^x+1} = \\frac{1}{1+e^{-x}}\n",
    "$$\n",
    "\n",
    "Here is the graph of the sigmoid function:\n",
    "\n",
    "![graph of sigmoid](../images/sigmoid.png)\n",
    "Source: [Wikimedia commons](https://commons.wikimedia.org/wiki/File:Sigmoid-function-2.svg)\n",
    "\n",
    "If you'd like to read more details about logistic regression, here are some recommended resources.\n",
    "\n",
    "* Recommended [YouTube video](https://youtu.be/zM4VZR0px8E) by *codebasics*.\n",
    "* [Wikipedia article](https://en.wikipedia.org/wiki/Logistic_regression).  Especially the [example on the probability of passing an exam](https://en.wikipedia.org/wiki/Logistic_regression#Example) is helpful.\n",
    "* Chapter 4 of [Hands on Machine Learning](https://www.oreilly.com/library/view/hands-on-machine-learning/9781492032632/ch04.html).  (Within Chapter 4, scroll down to the section on Logistic Regression.)\n"
   ]
  },
  {
   "cell_type": "markdown",
   "metadata": {
    "cell_id": "bfc56d9f45a448d98c9d8ddc12d774ed",
    "deepnote_cell_height": 144.78125,
    "deepnote_cell_type": "markdown",
    "tags": []
   },
   "source": [
    "## Penguins example\n",
    "\n",
    "* Using the penguins dataset from Seaborn, fit a logistic regression model to classify whether or not a penguin is in the Chinstrap species, using its flipper length and its bill length."
   ]
  },
  {
   "cell_type": "code",
   "execution_count": 1,
   "metadata": {
    "cell_id": "465ff2dc456a4b718de83e18acc4e4d5",
    "deepnote_cell_height": 135,
    "deepnote_cell_type": "code",
    "deepnote_to_be_reexecuted": false,
    "execution_millis": 1,
    "execution_start": 1652472411085,
    "source_hash": "35186654",
    "tags": []
   },
   "outputs": [],
   "source": [
    "import numpy as np\n",
    "import pandas as pd\n",
    "import altair as alt\n",
    "import seaborn as sns"
   ]
  },
  {
   "cell_type": "code",
   "execution_count": 2,
   "metadata": {
    "cell_id": "e26f584a73524f41af7f2f49843579ac",
    "deepnote_cell_height": 81,
    "deepnote_cell_type": "code",
    "deepnote_to_be_reexecuted": false,
    "execution_millis": 414,
    "execution_start": 1652472415538,
    "source_hash": "2f65c9b6",
    "tags": []
   },
   "outputs": [],
   "source": [
    "df = sns.load_dataset(\"penguins\").dropna()"
   ]
  },
  {
   "cell_type": "code",
   "execution_count": 3,
   "metadata": {
    "cell_id": "04f8b32fe30e45449cea03580b075495",
    "deepnote_cell_height": 81,
    "deepnote_cell_type": "code",
    "deepnote_to_be_reexecuted": false,
    "execution_millis": 0,
    "execution_start": 1652472448708,
    "source_hash": "d75e66e8",
    "tags": []
   },
   "outputs": [],
   "source": [
    "cols = [\"flipper_length_mm\", \"bill_length_mm\"]"
   ]
  },
  {
   "cell_type": "code",
   "execution_count": 4,
   "metadata": {
    "cell_id": "54edeeba220b474f98a975a5b66da62a",
    "deepnote_cell_height": 530,
    "deepnote_cell_type": "code",
    "deepnote_output_heights": [
     361
    ],
    "deepnote_to_be_reexecuted": false,
    "execution_millis": 13,
    "execution_start": 1652472781607,
    "source_hash": "af69f58c",
    "tags": []
   },
   "outputs": [
    {
     "data": {
      "text/html": [
       "\n",
       "<div id=\"altair-viz-bc6e047c18ae49b7b037773c21bb1c7b\"></div>\n",
       "<script type=\"text/javascript\">\n",
       "  var VEGA_DEBUG = (typeof VEGA_DEBUG == \"undefined\") ? {} : VEGA_DEBUG;\n",
       "  (function(spec, embedOpt){\n",
       "    let outputDiv = document.currentScript.previousElementSibling;\n",
       "    if (outputDiv.id !== \"altair-viz-bc6e047c18ae49b7b037773c21bb1c7b\") {\n",
       "      outputDiv = document.getElementById(\"altair-viz-bc6e047c18ae49b7b037773c21bb1c7b\");\n",
       "    }\n",
       "    const paths = {\n",
       "      \"vega\": \"https://cdn.jsdelivr.net/npm//vega@5?noext\",\n",
       "      \"vega-lib\": \"https://cdn.jsdelivr.net/npm//vega-lib?noext\",\n",
       "      \"vega-lite\": \"https://cdn.jsdelivr.net/npm//vega-lite@4.17.0?noext\",\n",
       "      \"vega-embed\": \"https://cdn.jsdelivr.net/npm//vega-embed@6?noext\",\n",
       "    };\n",
       "\n",
       "    function maybeLoadScript(lib, version) {\n",
       "      var key = `${lib.replace(\"-\", \"\")}_version`;\n",
       "      return (VEGA_DEBUG[key] == version) ?\n",
       "        Promise.resolve(paths[lib]) :\n",
       "        new Promise(function(resolve, reject) {\n",
       "          var s = document.createElement('script');\n",
       "          document.getElementsByTagName(\"head\")[0].appendChild(s);\n",
       "          s.async = true;\n",
       "          s.onload = () => {\n",
       "            VEGA_DEBUG[key] = version;\n",
       "            return resolve(paths[lib]);\n",
       "          };\n",
       "          s.onerror = () => reject(`Error loading script: ${paths[lib]}`);\n",
       "          s.src = paths[lib];\n",
       "        });\n",
       "    }\n",
       "\n",
       "    function showError(err) {\n",
       "      outputDiv.innerHTML = `<div class=\"error\" style=\"color:red;\">${err}</div>`;\n",
       "      throw err;\n",
       "    }\n",
       "\n",
       "    function displayChart(vegaEmbed) {\n",
       "      vegaEmbed(outputDiv, spec, embedOpt)\n",
       "        .catch(err => showError(`Javascript Error: ${err.message}<br>This usually means there's a typo in your chart specification. See the javascript console for the full traceback.`));\n",
       "    }\n",
       "\n",
       "    if(typeof define === \"function\" && define.amd) {\n",
       "      requirejs.config({paths});\n",
       "      require([\"vega-embed\"], displayChart, err => showError(`Error loading script: ${err.message}`));\n",
       "    } else {\n",
       "      maybeLoadScript(\"vega\", \"5\")\n",
       "        .then(() => maybeLoadScript(\"vega-lite\", \"4.17.0\"))\n",
       "        .then(() => maybeLoadScript(\"vega-embed\", \"6\"))\n",
       "        .catch(showError)\n",
       "        .then(() => displayChart(vegaEmbed));\n",
       "    }\n",
       "  })({\"config\": {\"view\": {\"continuousWidth\": 400, \"continuousHeight\": 300}}, \"data\": {\"name\": \"data-a0ec2e5925707c5dba9da2c1e24eff5a\"}, \"mark\": \"circle\", \"encoding\": {\"color\": {\"field\": \"species\", \"type\": \"nominal\"}, \"x\": {\"field\": \"flipper_length_mm\", \"scale\": {\"zero\": false}, \"type\": \"quantitative\"}, \"y\": {\"field\": \"bill_length_mm\", \"scale\": {\"zero\": false}, \"type\": \"quantitative\"}}, \"$schema\": \"https://vega.github.io/schema/vega-lite/v4.17.0.json\", \"datasets\": {\"data-a0ec2e5925707c5dba9da2c1e24eff5a\": [{\"species\": \"Adelie\", \"island\": \"Torgersen\", \"bill_length_mm\": 39.1, \"bill_depth_mm\": 18.7, \"flipper_length_mm\": 181.0, \"body_mass_g\": 3750.0, \"sex\": \"Male\"}, {\"species\": \"Adelie\", \"island\": \"Torgersen\", \"bill_length_mm\": 39.5, \"bill_depth_mm\": 17.4, \"flipper_length_mm\": 186.0, \"body_mass_g\": 3800.0, \"sex\": \"Female\"}, {\"species\": \"Adelie\", \"island\": \"Torgersen\", \"bill_length_mm\": 40.3, \"bill_depth_mm\": 18.0, \"flipper_length_mm\": 195.0, \"body_mass_g\": 3250.0, \"sex\": \"Female\"}, {\"species\": \"Adelie\", \"island\": \"Torgersen\", \"bill_length_mm\": 36.7, \"bill_depth_mm\": 19.3, \"flipper_length_mm\": 193.0, \"body_mass_g\": 3450.0, \"sex\": \"Female\"}, {\"species\": \"Adelie\", \"island\": \"Torgersen\", \"bill_length_mm\": 39.3, \"bill_depth_mm\": 20.6, \"flipper_length_mm\": 190.0, \"body_mass_g\": 3650.0, \"sex\": \"Male\"}, {\"species\": \"Adelie\", \"island\": \"Torgersen\", \"bill_length_mm\": 38.9, \"bill_depth_mm\": 17.8, \"flipper_length_mm\": 181.0, \"body_mass_g\": 3625.0, \"sex\": \"Female\"}, {\"species\": \"Adelie\", \"island\": \"Torgersen\", \"bill_length_mm\": 39.2, \"bill_depth_mm\": 19.6, \"flipper_length_mm\": 195.0, \"body_mass_g\": 4675.0, \"sex\": \"Male\"}, {\"species\": \"Adelie\", \"island\": \"Torgersen\", \"bill_length_mm\": 41.1, \"bill_depth_mm\": 17.6, \"flipper_length_mm\": 182.0, \"body_mass_g\": 3200.0, \"sex\": \"Female\"}, {\"species\": \"Adelie\", \"island\": \"Torgersen\", \"bill_length_mm\": 38.6, \"bill_depth_mm\": 21.2, \"flipper_length_mm\": 191.0, \"body_mass_g\": 3800.0, \"sex\": \"Male\"}, {\"species\": \"Adelie\", \"island\": \"Torgersen\", \"bill_length_mm\": 34.6, \"bill_depth_mm\": 21.1, \"flipper_length_mm\": 198.0, \"body_mass_g\": 4400.0, \"sex\": \"Male\"}, {\"species\": \"Adelie\", \"island\": \"Torgersen\", \"bill_length_mm\": 36.6, \"bill_depth_mm\": 17.8, \"flipper_length_mm\": 185.0, \"body_mass_g\": 3700.0, \"sex\": \"Female\"}, {\"species\": \"Adelie\", \"island\": \"Torgersen\", \"bill_length_mm\": 38.7, \"bill_depth_mm\": 19.0, \"flipper_length_mm\": 195.0, \"body_mass_g\": 3450.0, \"sex\": \"Female\"}, {\"species\": \"Adelie\", \"island\": \"Torgersen\", \"bill_length_mm\": 42.5, \"bill_depth_mm\": 20.7, \"flipper_length_mm\": 197.0, \"body_mass_g\": 4500.0, \"sex\": \"Male\"}, {\"species\": \"Adelie\", \"island\": \"Torgersen\", \"bill_length_mm\": 34.4, \"bill_depth_mm\": 18.4, \"flipper_length_mm\": 184.0, \"body_mass_g\": 3325.0, \"sex\": \"Female\"}, {\"species\": \"Adelie\", \"island\": \"Torgersen\", \"bill_length_mm\": 46.0, \"bill_depth_mm\": 21.5, \"flipper_length_mm\": 194.0, \"body_mass_g\": 4200.0, \"sex\": \"Male\"}, {\"species\": \"Adelie\", \"island\": \"Biscoe\", \"bill_length_mm\": 37.8, \"bill_depth_mm\": 18.3, \"flipper_length_mm\": 174.0, \"body_mass_g\": 3400.0, \"sex\": \"Female\"}, {\"species\": \"Adelie\", \"island\": \"Biscoe\", \"bill_length_mm\": 37.7, \"bill_depth_mm\": 18.7, \"flipper_length_mm\": 180.0, \"body_mass_g\": 3600.0, \"sex\": \"Male\"}, {\"species\": \"Adelie\", \"island\": \"Biscoe\", \"bill_length_mm\": 35.9, \"bill_depth_mm\": 19.2, \"flipper_length_mm\": 189.0, \"body_mass_g\": 3800.0, \"sex\": \"Female\"}, {\"species\": \"Adelie\", \"island\": \"Biscoe\", \"bill_length_mm\": 38.2, \"bill_depth_mm\": 18.1, \"flipper_length_mm\": 185.0, \"body_mass_g\": 3950.0, \"sex\": \"Male\"}, {\"species\": \"Adelie\", \"island\": \"Biscoe\", \"bill_length_mm\": 38.8, \"bill_depth_mm\": 17.2, \"flipper_length_mm\": 180.0, \"body_mass_g\": 3800.0, \"sex\": \"Male\"}, {\"species\": \"Adelie\", \"island\": \"Biscoe\", \"bill_length_mm\": 35.3, \"bill_depth_mm\": 18.9, \"flipper_length_mm\": 187.0, \"body_mass_g\": 3800.0, \"sex\": \"Female\"}, {\"species\": \"Adelie\", \"island\": \"Biscoe\", \"bill_length_mm\": 40.6, \"bill_depth_mm\": 18.6, \"flipper_length_mm\": 183.0, \"body_mass_g\": 3550.0, \"sex\": \"Male\"}, {\"species\": \"Adelie\", \"island\": \"Biscoe\", \"bill_length_mm\": 40.5, \"bill_depth_mm\": 17.9, \"flipper_length_mm\": 187.0, \"body_mass_g\": 3200.0, \"sex\": \"Female\"}, {\"species\": \"Adelie\", \"island\": \"Biscoe\", \"bill_length_mm\": 37.9, \"bill_depth_mm\": 18.6, \"flipper_length_mm\": 172.0, \"body_mass_g\": 3150.0, \"sex\": \"Female\"}, {\"species\": \"Adelie\", \"island\": \"Biscoe\", \"bill_length_mm\": 40.5, \"bill_depth_mm\": 18.9, \"flipper_length_mm\": 180.0, \"body_mass_g\": 3950.0, \"sex\": \"Male\"}, {\"species\": \"Adelie\", \"island\": \"Dream\", \"bill_length_mm\": 39.5, \"bill_depth_mm\": 16.7, \"flipper_length_mm\": 178.0, \"body_mass_g\": 3250.0, \"sex\": \"Female\"}, {\"species\": \"Adelie\", \"island\": \"Dream\", \"bill_length_mm\": 37.2, \"bill_depth_mm\": 18.1, \"flipper_length_mm\": 178.0, \"body_mass_g\": 3900.0, \"sex\": \"Male\"}, {\"species\": \"Adelie\", \"island\": \"Dream\", \"bill_length_mm\": 39.5, \"bill_depth_mm\": 17.8, \"flipper_length_mm\": 188.0, \"body_mass_g\": 3300.0, \"sex\": \"Female\"}, {\"species\": \"Adelie\", \"island\": \"Dream\", \"bill_length_mm\": 40.9, \"bill_depth_mm\": 18.9, \"flipper_length_mm\": 184.0, \"body_mass_g\": 3900.0, \"sex\": \"Male\"}, {\"species\": \"Adelie\", \"island\": \"Dream\", \"bill_length_mm\": 36.4, \"bill_depth_mm\": 17.0, \"flipper_length_mm\": 195.0, \"body_mass_g\": 3325.0, \"sex\": \"Female\"}, {\"species\": \"Adelie\", \"island\": \"Dream\", \"bill_length_mm\": 39.2, \"bill_depth_mm\": 21.1, \"flipper_length_mm\": 196.0, \"body_mass_g\": 4150.0, \"sex\": \"Male\"}, {\"species\": \"Adelie\", \"island\": \"Dream\", \"bill_length_mm\": 38.8, \"bill_depth_mm\": 20.0, \"flipper_length_mm\": 190.0, \"body_mass_g\": 3950.0, \"sex\": \"Male\"}, {\"species\": \"Adelie\", \"island\": \"Dream\", \"bill_length_mm\": 42.2, \"bill_depth_mm\": 18.5, \"flipper_length_mm\": 180.0, \"body_mass_g\": 3550.0, \"sex\": \"Female\"}, {\"species\": \"Adelie\", \"island\": \"Dream\", \"bill_length_mm\": 37.6, \"bill_depth_mm\": 19.3, \"flipper_length_mm\": 181.0, \"body_mass_g\": 3300.0, \"sex\": \"Female\"}, {\"species\": \"Adelie\", \"island\": \"Dream\", \"bill_length_mm\": 39.8, \"bill_depth_mm\": 19.1, \"flipper_length_mm\": 184.0, \"body_mass_g\": 4650.0, \"sex\": \"Male\"}, {\"species\": \"Adelie\", \"island\": \"Dream\", \"bill_length_mm\": 36.5, \"bill_depth_mm\": 18.0, \"flipper_length_mm\": 182.0, \"body_mass_g\": 3150.0, \"sex\": \"Female\"}, {\"species\": \"Adelie\", \"island\": \"Dream\", \"bill_length_mm\": 40.8, \"bill_depth_mm\": 18.4, \"flipper_length_mm\": 195.0, \"body_mass_g\": 3900.0, \"sex\": \"Male\"}, {\"species\": \"Adelie\", \"island\": \"Dream\", \"bill_length_mm\": 36.0, \"bill_depth_mm\": 18.5, \"flipper_length_mm\": 186.0, \"body_mass_g\": 3100.0, \"sex\": \"Female\"}, {\"species\": \"Adelie\", \"island\": \"Dream\", \"bill_length_mm\": 44.1, \"bill_depth_mm\": 19.7, \"flipper_length_mm\": 196.0, \"body_mass_g\": 4400.0, \"sex\": \"Male\"}, {\"species\": \"Adelie\", \"island\": \"Dream\", \"bill_length_mm\": 37.0, \"bill_depth_mm\": 16.9, \"flipper_length_mm\": 185.0, \"body_mass_g\": 3000.0, \"sex\": \"Female\"}, {\"species\": \"Adelie\", \"island\": \"Dream\", \"bill_length_mm\": 39.6, \"bill_depth_mm\": 18.8, \"flipper_length_mm\": 190.0, \"body_mass_g\": 4600.0, \"sex\": \"Male\"}, {\"species\": \"Adelie\", \"island\": \"Dream\", \"bill_length_mm\": 41.1, \"bill_depth_mm\": 19.0, \"flipper_length_mm\": 182.0, \"body_mass_g\": 3425.0, \"sex\": \"Male\"}, {\"species\": \"Adelie\", \"island\": \"Dream\", \"bill_length_mm\": 36.0, \"bill_depth_mm\": 17.9, \"flipper_length_mm\": 190.0, \"body_mass_g\": 3450.0, \"sex\": \"Female\"}, {\"species\": \"Adelie\", \"island\": \"Dream\", \"bill_length_mm\": 42.3, \"bill_depth_mm\": 21.2, \"flipper_length_mm\": 191.0, \"body_mass_g\": 4150.0, \"sex\": \"Male\"}, {\"species\": \"Adelie\", \"island\": \"Biscoe\", \"bill_length_mm\": 39.6, \"bill_depth_mm\": 17.7, \"flipper_length_mm\": 186.0, \"body_mass_g\": 3500.0, \"sex\": \"Female\"}, {\"species\": \"Adelie\", \"island\": \"Biscoe\", \"bill_length_mm\": 40.1, \"bill_depth_mm\": 18.9, \"flipper_length_mm\": 188.0, \"body_mass_g\": 4300.0, \"sex\": \"Male\"}, {\"species\": \"Adelie\", \"island\": \"Biscoe\", \"bill_length_mm\": 35.0, \"bill_depth_mm\": 17.9, \"flipper_length_mm\": 190.0, \"body_mass_g\": 3450.0, \"sex\": \"Female\"}, {\"species\": \"Adelie\", \"island\": \"Biscoe\", \"bill_length_mm\": 42.0, \"bill_depth_mm\": 19.5, \"flipper_length_mm\": 200.0, \"body_mass_g\": 4050.0, \"sex\": \"Male\"}, {\"species\": \"Adelie\", \"island\": \"Biscoe\", \"bill_length_mm\": 34.5, \"bill_depth_mm\": 18.1, \"flipper_length_mm\": 187.0, \"body_mass_g\": 2900.0, \"sex\": \"Female\"}, {\"species\": \"Adelie\", \"island\": \"Biscoe\", \"bill_length_mm\": 41.4, \"bill_depth_mm\": 18.6, \"flipper_length_mm\": 191.0, \"body_mass_g\": 3700.0, \"sex\": \"Male\"}, {\"species\": \"Adelie\", \"island\": \"Biscoe\", \"bill_length_mm\": 39.0, \"bill_depth_mm\": 17.5, \"flipper_length_mm\": 186.0, \"body_mass_g\": 3550.0, \"sex\": \"Female\"}, {\"species\": \"Adelie\", \"island\": \"Biscoe\", \"bill_length_mm\": 40.6, \"bill_depth_mm\": 18.8, \"flipper_length_mm\": 193.0, \"body_mass_g\": 3800.0, \"sex\": \"Male\"}, {\"species\": \"Adelie\", \"island\": \"Biscoe\", \"bill_length_mm\": 36.5, \"bill_depth_mm\": 16.6, \"flipper_length_mm\": 181.0, \"body_mass_g\": 2850.0, \"sex\": \"Female\"}, {\"species\": \"Adelie\", \"island\": \"Biscoe\", \"bill_length_mm\": 37.6, \"bill_depth_mm\": 19.1, \"flipper_length_mm\": 194.0, \"body_mass_g\": 3750.0, \"sex\": \"Male\"}, {\"species\": \"Adelie\", \"island\": \"Biscoe\", \"bill_length_mm\": 35.7, \"bill_depth_mm\": 16.9, \"flipper_length_mm\": 185.0, \"body_mass_g\": 3150.0, \"sex\": \"Female\"}, {\"species\": \"Adelie\", \"island\": \"Biscoe\", \"bill_length_mm\": 41.3, \"bill_depth_mm\": 21.1, \"flipper_length_mm\": 195.0, \"body_mass_g\": 4400.0, \"sex\": \"Male\"}, {\"species\": \"Adelie\", \"island\": \"Biscoe\", \"bill_length_mm\": 37.6, \"bill_depth_mm\": 17.0, \"flipper_length_mm\": 185.0, \"body_mass_g\": 3600.0, \"sex\": \"Female\"}, {\"species\": \"Adelie\", \"island\": \"Biscoe\", \"bill_length_mm\": 41.1, \"bill_depth_mm\": 18.2, \"flipper_length_mm\": 192.0, \"body_mass_g\": 4050.0, \"sex\": \"Male\"}, {\"species\": \"Adelie\", \"island\": \"Biscoe\", \"bill_length_mm\": 36.4, \"bill_depth_mm\": 17.1, \"flipper_length_mm\": 184.0, \"body_mass_g\": 2850.0, \"sex\": \"Female\"}, {\"species\": \"Adelie\", \"island\": \"Biscoe\", \"bill_length_mm\": 41.6, \"bill_depth_mm\": 18.0, \"flipper_length_mm\": 192.0, \"body_mass_g\": 3950.0, \"sex\": \"Male\"}, {\"species\": \"Adelie\", \"island\": \"Biscoe\", \"bill_length_mm\": 35.5, \"bill_depth_mm\": 16.2, \"flipper_length_mm\": 195.0, \"body_mass_g\": 3350.0, \"sex\": \"Female\"}, {\"species\": \"Adelie\", \"island\": \"Biscoe\", \"bill_length_mm\": 41.1, \"bill_depth_mm\": 19.1, \"flipper_length_mm\": 188.0, \"body_mass_g\": 4100.0, \"sex\": \"Male\"}, {\"species\": \"Adelie\", \"island\": \"Torgersen\", \"bill_length_mm\": 35.9, \"bill_depth_mm\": 16.6, \"flipper_length_mm\": 190.0, \"body_mass_g\": 3050.0, \"sex\": \"Female\"}, {\"species\": \"Adelie\", \"island\": \"Torgersen\", \"bill_length_mm\": 41.8, \"bill_depth_mm\": 19.4, \"flipper_length_mm\": 198.0, \"body_mass_g\": 4450.0, \"sex\": \"Male\"}, {\"species\": \"Adelie\", \"island\": \"Torgersen\", \"bill_length_mm\": 33.5, \"bill_depth_mm\": 19.0, \"flipper_length_mm\": 190.0, \"body_mass_g\": 3600.0, \"sex\": \"Female\"}, {\"species\": \"Adelie\", \"island\": \"Torgersen\", \"bill_length_mm\": 39.7, \"bill_depth_mm\": 18.4, \"flipper_length_mm\": 190.0, \"body_mass_g\": 3900.0, \"sex\": \"Male\"}, {\"species\": \"Adelie\", \"island\": \"Torgersen\", \"bill_length_mm\": 39.6, \"bill_depth_mm\": 17.2, \"flipper_length_mm\": 196.0, \"body_mass_g\": 3550.0, \"sex\": \"Female\"}, {\"species\": \"Adelie\", \"island\": \"Torgersen\", \"bill_length_mm\": 45.8, \"bill_depth_mm\": 18.9, \"flipper_length_mm\": 197.0, \"body_mass_g\": 4150.0, \"sex\": \"Male\"}, {\"species\": \"Adelie\", \"island\": \"Torgersen\", \"bill_length_mm\": 35.5, \"bill_depth_mm\": 17.5, \"flipper_length_mm\": 190.0, \"body_mass_g\": 3700.0, \"sex\": \"Female\"}, {\"species\": \"Adelie\", \"island\": \"Torgersen\", \"bill_length_mm\": 42.8, \"bill_depth_mm\": 18.5, \"flipper_length_mm\": 195.0, \"body_mass_g\": 4250.0, \"sex\": \"Male\"}, {\"species\": \"Adelie\", \"island\": \"Torgersen\", \"bill_length_mm\": 40.9, \"bill_depth_mm\": 16.8, \"flipper_length_mm\": 191.0, \"body_mass_g\": 3700.0, \"sex\": \"Female\"}, {\"species\": \"Adelie\", \"island\": \"Torgersen\", \"bill_length_mm\": 37.2, \"bill_depth_mm\": 19.4, \"flipper_length_mm\": 184.0, \"body_mass_g\": 3900.0, \"sex\": \"Male\"}, {\"species\": \"Adelie\", \"island\": \"Torgersen\", \"bill_length_mm\": 36.2, \"bill_depth_mm\": 16.1, \"flipper_length_mm\": 187.0, \"body_mass_g\": 3550.0, \"sex\": \"Female\"}, {\"species\": \"Adelie\", \"island\": \"Torgersen\", \"bill_length_mm\": 42.1, \"bill_depth_mm\": 19.1, \"flipper_length_mm\": 195.0, \"body_mass_g\": 4000.0, \"sex\": \"Male\"}, {\"species\": \"Adelie\", \"island\": \"Torgersen\", \"bill_length_mm\": 34.6, \"bill_depth_mm\": 17.2, \"flipper_length_mm\": 189.0, \"body_mass_g\": 3200.0, \"sex\": \"Female\"}, {\"species\": \"Adelie\", \"island\": \"Torgersen\", \"bill_length_mm\": 42.9, \"bill_depth_mm\": 17.6, \"flipper_length_mm\": 196.0, \"body_mass_g\": 4700.0, \"sex\": \"Male\"}, {\"species\": \"Adelie\", \"island\": \"Torgersen\", \"bill_length_mm\": 36.7, \"bill_depth_mm\": 18.8, \"flipper_length_mm\": 187.0, \"body_mass_g\": 3800.0, \"sex\": \"Female\"}, {\"species\": \"Adelie\", \"island\": \"Torgersen\", \"bill_length_mm\": 35.1, \"bill_depth_mm\": 19.4, \"flipper_length_mm\": 193.0, \"body_mass_g\": 4200.0, \"sex\": \"Male\"}, {\"species\": \"Adelie\", \"island\": \"Dream\", \"bill_length_mm\": 37.3, \"bill_depth_mm\": 17.8, \"flipper_length_mm\": 191.0, \"body_mass_g\": 3350.0, \"sex\": \"Female\"}, {\"species\": \"Adelie\", \"island\": \"Dream\", \"bill_length_mm\": 41.3, \"bill_depth_mm\": 20.3, \"flipper_length_mm\": 194.0, \"body_mass_g\": 3550.0, \"sex\": \"Male\"}, {\"species\": \"Adelie\", \"island\": \"Dream\", \"bill_length_mm\": 36.3, \"bill_depth_mm\": 19.5, \"flipper_length_mm\": 190.0, \"body_mass_g\": 3800.0, \"sex\": \"Male\"}, {\"species\": \"Adelie\", \"island\": \"Dream\", \"bill_length_mm\": 36.9, \"bill_depth_mm\": 18.6, \"flipper_length_mm\": 189.0, \"body_mass_g\": 3500.0, \"sex\": \"Female\"}, {\"species\": \"Adelie\", \"island\": \"Dream\", \"bill_length_mm\": 38.3, \"bill_depth_mm\": 19.2, \"flipper_length_mm\": 189.0, \"body_mass_g\": 3950.0, \"sex\": \"Male\"}, {\"species\": \"Adelie\", \"island\": \"Dream\", \"bill_length_mm\": 38.9, \"bill_depth_mm\": 18.8, \"flipper_length_mm\": 190.0, \"body_mass_g\": 3600.0, \"sex\": \"Female\"}, {\"species\": \"Adelie\", \"island\": \"Dream\", \"bill_length_mm\": 35.7, \"bill_depth_mm\": 18.0, \"flipper_length_mm\": 202.0, \"body_mass_g\": 3550.0, \"sex\": \"Female\"}, {\"species\": \"Adelie\", \"island\": \"Dream\", \"bill_length_mm\": 41.1, \"bill_depth_mm\": 18.1, \"flipper_length_mm\": 205.0, \"body_mass_g\": 4300.0, \"sex\": \"Male\"}, {\"species\": \"Adelie\", \"island\": \"Dream\", \"bill_length_mm\": 34.0, \"bill_depth_mm\": 17.1, \"flipper_length_mm\": 185.0, \"body_mass_g\": 3400.0, \"sex\": \"Female\"}, {\"species\": \"Adelie\", \"island\": \"Dream\", \"bill_length_mm\": 39.6, \"bill_depth_mm\": 18.1, \"flipper_length_mm\": 186.0, \"body_mass_g\": 4450.0, \"sex\": \"Male\"}, {\"species\": \"Adelie\", \"island\": \"Dream\", \"bill_length_mm\": 36.2, \"bill_depth_mm\": 17.3, \"flipper_length_mm\": 187.0, \"body_mass_g\": 3300.0, \"sex\": \"Female\"}, {\"species\": \"Adelie\", \"island\": \"Dream\", \"bill_length_mm\": 40.8, \"bill_depth_mm\": 18.9, \"flipper_length_mm\": 208.0, \"body_mass_g\": 4300.0, \"sex\": \"Male\"}, {\"species\": \"Adelie\", \"island\": \"Dream\", \"bill_length_mm\": 38.1, \"bill_depth_mm\": 18.6, \"flipper_length_mm\": 190.0, \"body_mass_g\": 3700.0, \"sex\": \"Female\"}, {\"species\": \"Adelie\", \"island\": \"Dream\", \"bill_length_mm\": 40.3, \"bill_depth_mm\": 18.5, \"flipper_length_mm\": 196.0, \"body_mass_g\": 4350.0, \"sex\": \"Male\"}, {\"species\": \"Adelie\", \"island\": \"Dream\", \"bill_length_mm\": 33.1, \"bill_depth_mm\": 16.1, \"flipper_length_mm\": 178.0, \"body_mass_g\": 2900.0, \"sex\": \"Female\"}, {\"species\": \"Adelie\", \"island\": \"Dream\", \"bill_length_mm\": 43.2, \"bill_depth_mm\": 18.5, \"flipper_length_mm\": 192.0, \"body_mass_g\": 4100.0, \"sex\": \"Male\"}, {\"species\": \"Adelie\", \"island\": \"Biscoe\", \"bill_length_mm\": 35.0, \"bill_depth_mm\": 17.9, \"flipper_length_mm\": 192.0, \"body_mass_g\": 3725.0, \"sex\": \"Female\"}, {\"species\": \"Adelie\", \"island\": \"Biscoe\", \"bill_length_mm\": 41.0, \"bill_depth_mm\": 20.0, \"flipper_length_mm\": 203.0, \"body_mass_g\": 4725.0, \"sex\": \"Male\"}, {\"species\": \"Adelie\", \"island\": \"Biscoe\", \"bill_length_mm\": 37.7, \"bill_depth_mm\": 16.0, \"flipper_length_mm\": 183.0, \"body_mass_g\": 3075.0, \"sex\": \"Female\"}, {\"species\": \"Adelie\", \"island\": \"Biscoe\", \"bill_length_mm\": 37.8, \"bill_depth_mm\": 20.0, \"flipper_length_mm\": 190.0, \"body_mass_g\": 4250.0, \"sex\": \"Male\"}, {\"species\": \"Adelie\", \"island\": \"Biscoe\", \"bill_length_mm\": 37.9, \"bill_depth_mm\": 18.6, \"flipper_length_mm\": 193.0, \"body_mass_g\": 2925.0, \"sex\": \"Female\"}, {\"species\": \"Adelie\", \"island\": \"Biscoe\", \"bill_length_mm\": 39.7, \"bill_depth_mm\": 18.9, \"flipper_length_mm\": 184.0, \"body_mass_g\": 3550.0, \"sex\": \"Male\"}, {\"species\": \"Adelie\", \"island\": \"Biscoe\", \"bill_length_mm\": 38.6, \"bill_depth_mm\": 17.2, \"flipper_length_mm\": 199.0, \"body_mass_g\": 3750.0, \"sex\": \"Female\"}, {\"species\": \"Adelie\", \"island\": \"Biscoe\", \"bill_length_mm\": 38.2, \"bill_depth_mm\": 20.0, \"flipper_length_mm\": 190.0, \"body_mass_g\": 3900.0, \"sex\": \"Male\"}, {\"species\": \"Adelie\", \"island\": \"Biscoe\", \"bill_length_mm\": 38.1, \"bill_depth_mm\": 17.0, \"flipper_length_mm\": 181.0, \"body_mass_g\": 3175.0, \"sex\": \"Female\"}, {\"species\": \"Adelie\", \"island\": \"Biscoe\", \"bill_length_mm\": 43.2, \"bill_depth_mm\": 19.0, \"flipper_length_mm\": 197.0, \"body_mass_g\": 4775.0, \"sex\": \"Male\"}, {\"species\": \"Adelie\", \"island\": \"Biscoe\", \"bill_length_mm\": 38.1, \"bill_depth_mm\": 16.5, \"flipper_length_mm\": 198.0, \"body_mass_g\": 3825.0, \"sex\": \"Female\"}, {\"species\": \"Adelie\", \"island\": \"Biscoe\", \"bill_length_mm\": 45.6, \"bill_depth_mm\": 20.3, \"flipper_length_mm\": 191.0, \"body_mass_g\": 4600.0, \"sex\": \"Male\"}, {\"species\": \"Adelie\", \"island\": \"Biscoe\", \"bill_length_mm\": 39.7, \"bill_depth_mm\": 17.7, \"flipper_length_mm\": 193.0, \"body_mass_g\": 3200.0, \"sex\": \"Female\"}, {\"species\": \"Adelie\", \"island\": \"Biscoe\", \"bill_length_mm\": 42.2, \"bill_depth_mm\": 19.5, \"flipper_length_mm\": 197.0, \"body_mass_g\": 4275.0, \"sex\": \"Male\"}, {\"species\": \"Adelie\", \"island\": \"Biscoe\", \"bill_length_mm\": 39.6, \"bill_depth_mm\": 20.7, \"flipper_length_mm\": 191.0, \"body_mass_g\": 3900.0, \"sex\": \"Female\"}, {\"species\": \"Adelie\", \"island\": \"Biscoe\", \"bill_length_mm\": 42.7, \"bill_depth_mm\": 18.3, \"flipper_length_mm\": 196.0, \"body_mass_g\": 4075.0, \"sex\": \"Male\"}, {\"species\": \"Adelie\", \"island\": \"Torgersen\", \"bill_length_mm\": 38.6, \"bill_depth_mm\": 17.0, \"flipper_length_mm\": 188.0, \"body_mass_g\": 2900.0, \"sex\": \"Female\"}, {\"species\": \"Adelie\", \"island\": \"Torgersen\", \"bill_length_mm\": 37.3, \"bill_depth_mm\": 20.5, \"flipper_length_mm\": 199.0, \"body_mass_g\": 3775.0, \"sex\": \"Male\"}, {\"species\": \"Adelie\", \"island\": \"Torgersen\", \"bill_length_mm\": 35.7, \"bill_depth_mm\": 17.0, \"flipper_length_mm\": 189.0, \"body_mass_g\": 3350.0, \"sex\": \"Female\"}, {\"species\": \"Adelie\", \"island\": \"Torgersen\", \"bill_length_mm\": 41.1, \"bill_depth_mm\": 18.6, \"flipper_length_mm\": 189.0, \"body_mass_g\": 3325.0, \"sex\": \"Male\"}, {\"species\": \"Adelie\", \"island\": \"Torgersen\", \"bill_length_mm\": 36.2, \"bill_depth_mm\": 17.2, \"flipper_length_mm\": 187.0, \"body_mass_g\": 3150.0, \"sex\": \"Female\"}, {\"species\": \"Adelie\", \"island\": \"Torgersen\", \"bill_length_mm\": 37.7, \"bill_depth_mm\": 19.8, \"flipper_length_mm\": 198.0, \"body_mass_g\": 3500.0, \"sex\": \"Male\"}, {\"species\": \"Adelie\", \"island\": \"Torgersen\", \"bill_length_mm\": 40.2, \"bill_depth_mm\": 17.0, \"flipper_length_mm\": 176.0, \"body_mass_g\": 3450.0, \"sex\": \"Female\"}, {\"species\": \"Adelie\", \"island\": \"Torgersen\", \"bill_length_mm\": 41.4, \"bill_depth_mm\": 18.5, \"flipper_length_mm\": 202.0, \"body_mass_g\": 3875.0, \"sex\": \"Male\"}, {\"species\": \"Adelie\", \"island\": \"Torgersen\", \"bill_length_mm\": 35.2, \"bill_depth_mm\": 15.9, \"flipper_length_mm\": 186.0, \"body_mass_g\": 3050.0, \"sex\": \"Female\"}, {\"species\": \"Adelie\", \"island\": \"Torgersen\", \"bill_length_mm\": 40.6, \"bill_depth_mm\": 19.0, \"flipper_length_mm\": 199.0, \"body_mass_g\": 4000.0, \"sex\": \"Male\"}, {\"species\": \"Adelie\", \"island\": \"Torgersen\", \"bill_length_mm\": 38.8, \"bill_depth_mm\": 17.6, \"flipper_length_mm\": 191.0, \"body_mass_g\": 3275.0, \"sex\": \"Female\"}, {\"species\": \"Adelie\", \"island\": \"Torgersen\", \"bill_length_mm\": 41.5, \"bill_depth_mm\": 18.3, \"flipper_length_mm\": 195.0, \"body_mass_g\": 4300.0, \"sex\": \"Male\"}, {\"species\": \"Adelie\", \"island\": \"Torgersen\", \"bill_length_mm\": 39.0, \"bill_depth_mm\": 17.1, \"flipper_length_mm\": 191.0, \"body_mass_g\": 3050.0, \"sex\": \"Female\"}, {\"species\": \"Adelie\", \"island\": \"Torgersen\", \"bill_length_mm\": 44.1, \"bill_depth_mm\": 18.0, \"flipper_length_mm\": 210.0, \"body_mass_g\": 4000.0, \"sex\": \"Male\"}, {\"species\": \"Adelie\", \"island\": \"Torgersen\", \"bill_length_mm\": 38.5, \"bill_depth_mm\": 17.9, \"flipper_length_mm\": 190.0, \"body_mass_g\": 3325.0, \"sex\": \"Female\"}, {\"species\": \"Adelie\", \"island\": \"Torgersen\", \"bill_length_mm\": 43.1, \"bill_depth_mm\": 19.2, \"flipper_length_mm\": 197.0, \"body_mass_g\": 3500.0, \"sex\": \"Male\"}, {\"species\": \"Adelie\", \"island\": \"Dream\", \"bill_length_mm\": 36.8, \"bill_depth_mm\": 18.5, \"flipper_length_mm\": 193.0, \"body_mass_g\": 3500.0, \"sex\": \"Female\"}, {\"species\": \"Adelie\", \"island\": \"Dream\", \"bill_length_mm\": 37.5, \"bill_depth_mm\": 18.5, \"flipper_length_mm\": 199.0, \"body_mass_g\": 4475.0, \"sex\": \"Male\"}, {\"species\": \"Adelie\", \"island\": \"Dream\", \"bill_length_mm\": 38.1, \"bill_depth_mm\": 17.6, \"flipper_length_mm\": 187.0, \"body_mass_g\": 3425.0, \"sex\": \"Female\"}, {\"species\": \"Adelie\", \"island\": \"Dream\", \"bill_length_mm\": 41.1, \"bill_depth_mm\": 17.5, \"flipper_length_mm\": 190.0, \"body_mass_g\": 3900.0, \"sex\": \"Male\"}, {\"species\": \"Adelie\", \"island\": \"Dream\", \"bill_length_mm\": 35.6, \"bill_depth_mm\": 17.5, \"flipper_length_mm\": 191.0, \"body_mass_g\": 3175.0, \"sex\": \"Female\"}, {\"species\": \"Adelie\", \"island\": \"Dream\", \"bill_length_mm\": 40.2, \"bill_depth_mm\": 20.1, \"flipper_length_mm\": 200.0, \"body_mass_g\": 3975.0, \"sex\": \"Male\"}, {\"species\": \"Adelie\", \"island\": \"Dream\", \"bill_length_mm\": 37.0, \"bill_depth_mm\": 16.5, \"flipper_length_mm\": 185.0, \"body_mass_g\": 3400.0, \"sex\": \"Female\"}, {\"species\": \"Adelie\", \"island\": \"Dream\", \"bill_length_mm\": 39.7, \"bill_depth_mm\": 17.9, \"flipper_length_mm\": 193.0, \"body_mass_g\": 4250.0, \"sex\": \"Male\"}, {\"species\": \"Adelie\", \"island\": \"Dream\", \"bill_length_mm\": 40.2, \"bill_depth_mm\": 17.1, \"flipper_length_mm\": 193.0, \"body_mass_g\": 3400.0, \"sex\": \"Female\"}, {\"species\": \"Adelie\", \"island\": \"Dream\", \"bill_length_mm\": 40.6, \"bill_depth_mm\": 17.2, \"flipper_length_mm\": 187.0, \"body_mass_g\": 3475.0, \"sex\": \"Male\"}, {\"species\": \"Adelie\", \"island\": \"Dream\", \"bill_length_mm\": 32.1, \"bill_depth_mm\": 15.5, \"flipper_length_mm\": 188.0, \"body_mass_g\": 3050.0, \"sex\": \"Female\"}, {\"species\": \"Adelie\", \"island\": \"Dream\", \"bill_length_mm\": 40.7, \"bill_depth_mm\": 17.0, \"flipper_length_mm\": 190.0, \"body_mass_g\": 3725.0, \"sex\": \"Male\"}, {\"species\": \"Adelie\", \"island\": \"Dream\", \"bill_length_mm\": 37.3, \"bill_depth_mm\": 16.8, \"flipper_length_mm\": 192.0, \"body_mass_g\": 3000.0, \"sex\": \"Female\"}, {\"species\": \"Adelie\", \"island\": \"Dream\", \"bill_length_mm\": 39.0, \"bill_depth_mm\": 18.7, \"flipper_length_mm\": 185.0, \"body_mass_g\": 3650.0, \"sex\": \"Male\"}, {\"species\": \"Adelie\", \"island\": \"Dream\", \"bill_length_mm\": 39.2, \"bill_depth_mm\": 18.6, \"flipper_length_mm\": 190.0, \"body_mass_g\": 4250.0, \"sex\": \"Male\"}, {\"species\": \"Adelie\", \"island\": \"Dream\", \"bill_length_mm\": 36.6, \"bill_depth_mm\": 18.4, \"flipper_length_mm\": 184.0, \"body_mass_g\": 3475.0, \"sex\": \"Female\"}, {\"species\": \"Adelie\", \"island\": \"Dream\", \"bill_length_mm\": 36.0, \"bill_depth_mm\": 17.8, \"flipper_length_mm\": 195.0, \"body_mass_g\": 3450.0, \"sex\": \"Female\"}, {\"species\": \"Adelie\", \"island\": \"Dream\", \"bill_length_mm\": 37.8, \"bill_depth_mm\": 18.1, \"flipper_length_mm\": 193.0, \"body_mass_g\": 3750.0, \"sex\": \"Male\"}, {\"species\": \"Adelie\", \"island\": \"Dream\", \"bill_length_mm\": 36.0, \"bill_depth_mm\": 17.1, \"flipper_length_mm\": 187.0, \"body_mass_g\": 3700.0, \"sex\": \"Female\"}, {\"species\": \"Adelie\", \"island\": \"Dream\", \"bill_length_mm\": 41.5, \"bill_depth_mm\": 18.5, \"flipper_length_mm\": 201.0, \"body_mass_g\": 4000.0, \"sex\": \"Male\"}, {\"species\": \"Chinstrap\", \"island\": \"Dream\", \"bill_length_mm\": 46.5, \"bill_depth_mm\": 17.9, \"flipper_length_mm\": 192.0, \"body_mass_g\": 3500.0, \"sex\": \"Female\"}, {\"species\": \"Chinstrap\", \"island\": \"Dream\", \"bill_length_mm\": 50.0, \"bill_depth_mm\": 19.5, \"flipper_length_mm\": 196.0, \"body_mass_g\": 3900.0, \"sex\": \"Male\"}, {\"species\": \"Chinstrap\", \"island\": \"Dream\", \"bill_length_mm\": 51.3, \"bill_depth_mm\": 19.2, \"flipper_length_mm\": 193.0, \"body_mass_g\": 3650.0, \"sex\": \"Male\"}, {\"species\": \"Chinstrap\", \"island\": \"Dream\", \"bill_length_mm\": 45.4, \"bill_depth_mm\": 18.7, \"flipper_length_mm\": 188.0, \"body_mass_g\": 3525.0, \"sex\": \"Female\"}, {\"species\": \"Chinstrap\", \"island\": \"Dream\", \"bill_length_mm\": 52.7, \"bill_depth_mm\": 19.8, \"flipper_length_mm\": 197.0, \"body_mass_g\": 3725.0, \"sex\": \"Male\"}, {\"species\": \"Chinstrap\", \"island\": \"Dream\", \"bill_length_mm\": 45.2, \"bill_depth_mm\": 17.8, \"flipper_length_mm\": 198.0, \"body_mass_g\": 3950.0, \"sex\": \"Female\"}, {\"species\": \"Chinstrap\", \"island\": \"Dream\", \"bill_length_mm\": 46.1, \"bill_depth_mm\": 18.2, \"flipper_length_mm\": 178.0, \"body_mass_g\": 3250.0, \"sex\": \"Female\"}, {\"species\": \"Chinstrap\", \"island\": \"Dream\", \"bill_length_mm\": 51.3, \"bill_depth_mm\": 18.2, \"flipper_length_mm\": 197.0, \"body_mass_g\": 3750.0, \"sex\": \"Male\"}, {\"species\": \"Chinstrap\", \"island\": \"Dream\", \"bill_length_mm\": 46.0, \"bill_depth_mm\": 18.9, \"flipper_length_mm\": 195.0, \"body_mass_g\": 4150.0, \"sex\": \"Female\"}, {\"species\": \"Chinstrap\", \"island\": \"Dream\", \"bill_length_mm\": 51.3, \"bill_depth_mm\": 19.9, \"flipper_length_mm\": 198.0, \"body_mass_g\": 3700.0, \"sex\": \"Male\"}, {\"species\": \"Chinstrap\", \"island\": \"Dream\", \"bill_length_mm\": 46.6, \"bill_depth_mm\": 17.8, \"flipper_length_mm\": 193.0, \"body_mass_g\": 3800.0, \"sex\": \"Female\"}, {\"species\": \"Chinstrap\", \"island\": \"Dream\", \"bill_length_mm\": 51.7, \"bill_depth_mm\": 20.3, \"flipper_length_mm\": 194.0, \"body_mass_g\": 3775.0, \"sex\": \"Male\"}, {\"species\": \"Chinstrap\", \"island\": \"Dream\", \"bill_length_mm\": 47.0, \"bill_depth_mm\": 17.3, \"flipper_length_mm\": 185.0, \"body_mass_g\": 3700.0, \"sex\": \"Female\"}, {\"species\": \"Chinstrap\", \"island\": \"Dream\", \"bill_length_mm\": 52.0, \"bill_depth_mm\": 18.1, \"flipper_length_mm\": 201.0, \"body_mass_g\": 4050.0, \"sex\": \"Male\"}, {\"species\": \"Chinstrap\", \"island\": \"Dream\", \"bill_length_mm\": 45.9, \"bill_depth_mm\": 17.1, \"flipper_length_mm\": 190.0, \"body_mass_g\": 3575.0, \"sex\": \"Female\"}, {\"species\": \"Chinstrap\", \"island\": \"Dream\", \"bill_length_mm\": 50.5, \"bill_depth_mm\": 19.6, \"flipper_length_mm\": 201.0, \"body_mass_g\": 4050.0, \"sex\": \"Male\"}, {\"species\": \"Chinstrap\", \"island\": \"Dream\", \"bill_length_mm\": 50.3, \"bill_depth_mm\": 20.0, \"flipper_length_mm\": 197.0, \"body_mass_g\": 3300.0, \"sex\": \"Male\"}, {\"species\": \"Chinstrap\", \"island\": \"Dream\", \"bill_length_mm\": 58.0, \"bill_depth_mm\": 17.8, \"flipper_length_mm\": 181.0, \"body_mass_g\": 3700.0, \"sex\": \"Female\"}, {\"species\": \"Chinstrap\", \"island\": \"Dream\", \"bill_length_mm\": 46.4, \"bill_depth_mm\": 18.6, \"flipper_length_mm\": 190.0, \"body_mass_g\": 3450.0, \"sex\": \"Female\"}, {\"species\": \"Chinstrap\", \"island\": \"Dream\", \"bill_length_mm\": 49.2, \"bill_depth_mm\": 18.2, \"flipper_length_mm\": 195.0, \"body_mass_g\": 4400.0, \"sex\": \"Male\"}, {\"species\": \"Chinstrap\", \"island\": \"Dream\", \"bill_length_mm\": 42.4, \"bill_depth_mm\": 17.3, \"flipper_length_mm\": 181.0, \"body_mass_g\": 3600.0, \"sex\": \"Female\"}, {\"species\": \"Chinstrap\", \"island\": \"Dream\", \"bill_length_mm\": 48.5, \"bill_depth_mm\": 17.5, \"flipper_length_mm\": 191.0, \"body_mass_g\": 3400.0, \"sex\": \"Male\"}, {\"species\": \"Chinstrap\", \"island\": \"Dream\", \"bill_length_mm\": 43.2, \"bill_depth_mm\": 16.6, \"flipper_length_mm\": 187.0, \"body_mass_g\": 2900.0, \"sex\": \"Female\"}, {\"species\": \"Chinstrap\", \"island\": \"Dream\", \"bill_length_mm\": 50.6, \"bill_depth_mm\": 19.4, \"flipper_length_mm\": 193.0, \"body_mass_g\": 3800.0, \"sex\": \"Male\"}, {\"species\": \"Chinstrap\", \"island\": \"Dream\", \"bill_length_mm\": 46.7, \"bill_depth_mm\": 17.9, \"flipper_length_mm\": 195.0, \"body_mass_g\": 3300.0, \"sex\": \"Female\"}, {\"species\": \"Chinstrap\", \"island\": \"Dream\", \"bill_length_mm\": 52.0, \"bill_depth_mm\": 19.0, \"flipper_length_mm\": 197.0, \"body_mass_g\": 4150.0, \"sex\": \"Male\"}, {\"species\": \"Chinstrap\", \"island\": \"Dream\", \"bill_length_mm\": 50.5, \"bill_depth_mm\": 18.4, \"flipper_length_mm\": 200.0, \"body_mass_g\": 3400.0, \"sex\": \"Female\"}, {\"species\": \"Chinstrap\", \"island\": \"Dream\", \"bill_length_mm\": 49.5, \"bill_depth_mm\": 19.0, \"flipper_length_mm\": 200.0, \"body_mass_g\": 3800.0, \"sex\": \"Male\"}, {\"species\": \"Chinstrap\", \"island\": \"Dream\", \"bill_length_mm\": 46.4, \"bill_depth_mm\": 17.8, \"flipper_length_mm\": 191.0, \"body_mass_g\": 3700.0, \"sex\": \"Female\"}, {\"species\": \"Chinstrap\", \"island\": \"Dream\", \"bill_length_mm\": 52.8, \"bill_depth_mm\": 20.0, \"flipper_length_mm\": 205.0, \"body_mass_g\": 4550.0, \"sex\": \"Male\"}, {\"species\": \"Chinstrap\", \"island\": \"Dream\", \"bill_length_mm\": 40.9, \"bill_depth_mm\": 16.6, \"flipper_length_mm\": 187.0, \"body_mass_g\": 3200.0, \"sex\": \"Female\"}, {\"species\": \"Chinstrap\", \"island\": \"Dream\", \"bill_length_mm\": 54.2, \"bill_depth_mm\": 20.8, \"flipper_length_mm\": 201.0, \"body_mass_g\": 4300.0, \"sex\": \"Male\"}, {\"species\": \"Chinstrap\", \"island\": \"Dream\", \"bill_length_mm\": 42.5, \"bill_depth_mm\": 16.7, \"flipper_length_mm\": 187.0, \"body_mass_g\": 3350.0, \"sex\": \"Female\"}, {\"species\": \"Chinstrap\", \"island\": \"Dream\", \"bill_length_mm\": 51.0, \"bill_depth_mm\": 18.8, \"flipper_length_mm\": 203.0, \"body_mass_g\": 4100.0, \"sex\": \"Male\"}, {\"species\": \"Chinstrap\", \"island\": \"Dream\", \"bill_length_mm\": 49.7, \"bill_depth_mm\": 18.6, \"flipper_length_mm\": 195.0, \"body_mass_g\": 3600.0, \"sex\": \"Male\"}, {\"species\": \"Chinstrap\", \"island\": \"Dream\", \"bill_length_mm\": 47.5, \"bill_depth_mm\": 16.8, \"flipper_length_mm\": 199.0, \"body_mass_g\": 3900.0, \"sex\": \"Female\"}, {\"species\": \"Chinstrap\", \"island\": \"Dream\", \"bill_length_mm\": 47.6, \"bill_depth_mm\": 18.3, \"flipper_length_mm\": 195.0, \"body_mass_g\": 3850.0, \"sex\": \"Female\"}, {\"species\": \"Chinstrap\", \"island\": \"Dream\", \"bill_length_mm\": 52.0, \"bill_depth_mm\": 20.7, \"flipper_length_mm\": 210.0, \"body_mass_g\": 4800.0, \"sex\": \"Male\"}, {\"species\": \"Chinstrap\", \"island\": \"Dream\", \"bill_length_mm\": 46.9, \"bill_depth_mm\": 16.6, \"flipper_length_mm\": 192.0, \"body_mass_g\": 2700.0, \"sex\": \"Female\"}, {\"species\": \"Chinstrap\", \"island\": \"Dream\", \"bill_length_mm\": 53.5, \"bill_depth_mm\": 19.9, \"flipper_length_mm\": 205.0, \"body_mass_g\": 4500.0, \"sex\": \"Male\"}, {\"species\": \"Chinstrap\", \"island\": \"Dream\", \"bill_length_mm\": 49.0, \"bill_depth_mm\": 19.5, \"flipper_length_mm\": 210.0, \"body_mass_g\": 3950.0, \"sex\": \"Male\"}, {\"species\": \"Chinstrap\", \"island\": \"Dream\", \"bill_length_mm\": 46.2, \"bill_depth_mm\": 17.5, \"flipper_length_mm\": 187.0, \"body_mass_g\": 3650.0, \"sex\": \"Female\"}, {\"species\": \"Chinstrap\", \"island\": \"Dream\", \"bill_length_mm\": 50.9, \"bill_depth_mm\": 19.1, \"flipper_length_mm\": 196.0, \"body_mass_g\": 3550.0, \"sex\": \"Male\"}, {\"species\": \"Chinstrap\", \"island\": \"Dream\", \"bill_length_mm\": 45.5, \"bill_depth_mm\": 17.0, \"flipper_length_mm\": 196.0, \"body_mass_g\": 3500.0, \"sex\": \"Female\"}, {\"species\": \"Chinstrap\", \"island\": \"Dream\", \"bill_length_mm\": 50.9, \"bill_depth_mm\": 17.9, \"flipper_length_mm\": 196.0, \"body_mass_g\": 3675.0, \"sex\": \"Female\"}, {\"species\": \"Chinstrap\", \"island\": \"Dream\", \"bill_length_mm\": 50.8, \"bill_depth_mm\": 18.5, \"flipper_length_mm\": 201.0, \"body_mass_g\": 4450.0, \"sex\": \"Male\"}, {\"species\": \"Chinstrap\", \"island\": \"Dream\", \"bill_length_mm\": 50.1, \"bill_depth_mm\": 17.9, \"flipper_length_mm\": 190.0, \"body_mass_g\": 3400.0, \"sex\": \"Female\"}, {\"species\": \"Chinstrap\", \"island\": \"Dream\", \"bill_length_mm\": 49.0, \"bill_depth_mm\": 19.6, \"flipper_length_mm\": 212.0, \"body_mass_g\": 4300.0, \"sex\": \"Male\"}, {\"species\": \"Chinstrap\", \"island\": \"Dream\", \"bill_length_mm\": 51.5, \"bill_depth_mm\": 18.7, \"flipper_length_mm\": 187.0, \"body_mass_g\": 3250.0, \"sex\": \"Male\"}, {\"species\": \"Chinstrap\", \"island\": \"Dream\", \"bill_length_mm\": 49.8, \"bill_depth_mm\": 17.3, \"flipper_length_mm\": 198.0, \"body_mass_g\": 3675.0, \"sex\": \"Female\"}, {\"species\": \"Chinstrap\", \"island\": \"Dream\", \"bill_length_mm\": 48.1, \"bill_depth_mm\": 16.4, \"flipper_length_mm\": 199.0, \"body_mass_g\": 3325.0, \"sex\": \"Female\"}, {\"species\": \"Chinstrap\", \"island\": \"Dream\", \"bill_length_mm\": 51.4, \"bill_depth_mm\": 19.0, \"flipper_length_mm\": 201.0, \"body_mass_g\": 3950.0, \"sex\": \"Male\"}, {\"species\": \"Chinstrap\", \"island\": \"Dream\", \"bill_length_mm\": 45.7, \"bill_depth_mm\": 17.3, \"flipper_length_mm\": 193.0, \"body_mass_g\": 3600.0, \"sex\": \"Female\"}, {\"species\": \"Chinstrap\", \"island\": \"Dream\", \"bill_length_mm\": 50.7, \"bill_depth_mm\": 19.7, \"flipper_length_mm\": 203.0, \"body_mass_g\": 4050.0, \"sex\": \"Male\"}, {\"species\": \"Chinstrap\", \"island\": \"Dream\", \"bill_length_mm\": 42.5, \"bill_depth_mm\": 17.3, \"flipper_length_mm\": 187.0, \"body_mass_g\": 3350.0, \"sex\": \"Female\"}, {\"species\": \"Chinstrap\", \"island\": \"Dream\", \"bill_length_mm\": 52.2, \"bill_depth_mm\": 18.8, \"flipper_length_mm\": 197.0, \"body_mass_g\": 3450.0, \"sex\": \"Male\"}, {\"species\": \"Chinstrap\", \"island\": \"Dream\", \"bill_length_mm\": 45.2, \"bill_depth_mm\": 16.6, \"flipper_length_mm\": 191.0, \"body_mass_g\": 3250.0, \"sex\": \"Female\"}, {\"species\": \"Chinstrap\", \"island\": \"Dream\", \"bill_length_mm\": 49.3, \"bill_depth_mm\": 19.9, \"flipper_length_mm\": 203.0, \"body_mass_g\": 4050.0, \"sex\": \"Male\"}, {\"species\": \"Chinstrap\", \"island\": \"Dream\", \"bill_length_mm\": 50.2, \"bill_depth_mm\": 18.8, \"flipper_length_mm\": 202.0, \"body_mass_g\": 3800.0, \"sex\": \"Male\"}, {\"species\": \"Chinstrap\", \"island\": \"Dream\", \"bill_length_mm\": 45.6, \"bill_depth_mm\": 19.4, \"flipper_length_mm\": 194.0, \"body_mass_g\": 3525.0, \"sex\": \"Female\"}, {\"species\": \"Chinstrap\", \"island\": \"Dream\", \"bill_length_mm\": 51.9, \"bill_depth_mm\": 19.5, \"flipper_length_mm\": 206.0, \"body_mass_g\": 3950.0, \"sex\": \"Male\"}, {\"species\": \"Chinstrap\", \"island\": \"Dream\", \"bill_length_mm\": 46.8, \"bill_depth_mm\": 16.5, \"flipper_length_mm\": 189.0, \"body_mass_g\": 3650.0, \"sex\": \"Female\"}, {\"species\": \"Chinstrap\", \"island\": \"Dream\", \"bill_length_mm\": 45.7, \"bill_depth_mm\": 17.0, \"flipper_length_mm\": 195.0, \"body_mass_g\": 3650.0, \"sex\": \"Female\"}, {\"species\": \"Chinstrap\", \"island\": \"Dream\", \"bill_length_mm\": 55.8, \"bill_depth_mm\": 19.8, \"flipper_length_mm\": 207.0, \"body_mass_g\": 4000.0, \"sex\": \"Male\"}, {\"species\": \"Chinstrap\", \"island\": \"Dream\", \"bill_length_mm\": 43.5, \"bill_depth_mm\": 18.1, \"flipper_length_mm\": 202.0, \"body_mass_g\": 3400.0, \"sex\": \"Female\"}, {\"species\": \"Chinstrap\", \"island\": \"Dream\", \"bill_length_mm\": 49.6, \"bill_depth_mm\": 18.2, \"flipper_length_mm\": 193.0, \"body_mass_g\": 3775.0, \"sex\": \"Male\"}, {\"species\": \"Chinstrap\", \"island\": \"Dream\", \"bill_length_mm\": 50.8, \"bill_depth_mm\": 19.0, \"flipper_length_mm\": 210.0, \"body_mass_g\": 4100.0, \"sex\": \"Male\"}, {\"species\": \"Chinstrap\", \"island\": \"Dream\", \"bill_length_mm\": 50.2, \"bill_depth_mm\": 18.7, \"flipper_length_mm\": 198.0, \"body_mass_g\": 3775.0, \"sex\": \"Female\"}, {\"species\": \"Gentoo\", \"island\": \"Biscoe\", \"bill_length_mm\": 46.1, \"bill_depth_mm\": 13.2, \"flipper_length_mm\": 211.0, \"body_mass_g\": 4500.0, \"sex\": \"Female\"}, {\"species\": \"Gentoo\", \"island\": \"Biscoe\", \"bill_length_mm\": 50.0, \"bill_depth_mm\": 16.3, \"flipper_length_mm\": 230.0, \"body_mass_g\": 5700.0, \"sex\": \"Male\"}, {\"species\": \"Gentoo\", \"island\": \"Biscoe\", \"bill_length_mm\": 48.7, \"bill_depth_mm\": 14.1, \"flipper_length_mm\": 210.0, \"body_mass_g\": 4450.0, \"sex\": \"Female\"}, {\"species\": \"Gentoo\", \"island\": \"Biscoe\", \"bill_length_mm\": 50.0, \"bill_depth_mm\": 15.2, \"flipper_length_mm\": 218.0, \"body_mass_g\": 5700.0, \"sex\": \"Male\"}, {\"species\": \"Gentoo\", \"island\": \"Biscoe\", \"bill_length_mm\": 47.6, \"bill_depth_mm\": 14.5, \"flipper_length_mm\": 215.0, \"body_mass_g\": 5400.0, \"sex\": \"Male\"}, {\"species\": \"Gentoo\", \"island\": \"Biscoe\", \"bill_length_mm\": 46.5, \"bill_depth_mm\": 13.5, \"flipper_length_mm\": 210.0, \"body_mass_g\": 4550.0, \"sex\": \"Female\"}, {\"species\": \"Gentoo\", \"island\": \"Biscoe\", \"bill_length_mm\": 45.4, \"bill_depth_mm\": 14.6, \"flipper_length_mm\": 211.0, \"body_mass_g\": 4800.0, \"sex\": \"Female\"}, {\"species\": \"Gentoo\", \"island\": \"Biscoe\", \"bill_length_mm\": 46.7, \"bill_depth_mm\": 15.3, \"flipper_length_mm\": 219.0, \"body_mass_g\": 5200.0, \"sex\": \"Male\"}, {\"species\": \"Gentoo\", \"island\": \"Biscoe\", \"bill_length_mm\": 43.3, \"bill_depth_mm\": 13.4, \"flipper_length_mm\": 209.0, \"body_mass_g\": 4400.0, \"sex\": \"Female\"}, {\"species\": \"Gentoo\", \"island\": \"Biscoe\", \"bill_length_mm\": 46.8, \"bill_depth_mm\": 15.4, \"flipper_length_mm\": 215.0, \"body_mass_g\": 5150.0, \"sex\": \"Male\"}, {\"species\": \"Gentoo\", \"island\": \"Biscoe\", \"bill_length_mm\": 40.9, \"bill_depth_mm\": 13.7, \"flipper_length_mm\": 214.0, \"body_mass_g\": 4650.0, \"sex\": \"Female\"}, {\"species\": \"Gentoo\", \"island\": \"Biscoe\", \"bill_length_mm\": 49.0, \"bill_depth_mm\": 16.1, \"flipper_length_mm\": 216.0, \"body_mass_g\": 5550.0, \"sex\": \"Male\"}, {\"species\": \"Gentoo\", \"island\": \"Biscoe\", \"bill_length_mm\": 45.5, \"bill_depth_mm\": 13.7, \"flipper_length_mm\": 214.0, \"body_mass_g\": 4650.0, \"sex\": \"Female\"}, {\"species\": \"Gentoo\", \"island\": \"Biscoe\", \"bill_length_mm\": 48.4, \"bill_depth_mm\": 14.6, \"flipper_length_mm\": 213.0, \"body_mass_g\": 5850.0, \"sex\": \"Male\"}, {\"species\": \"Gentoo\", \"island\": \"Biscoe\", \"bill_length_mm\": 45.8, \"bill_depth_mm\": 14.6, \"flipper_length_mm\": 210.0, \"body_mass_g\": 4200.0, \"sex\": \"Female\"}, {\"species\": \"Gentoo\", \"island\": \"Biscoe\", \"bill_length_mm\": 49.3, \"bill_depth_mm\": 15.7, \"flipper_length_mm\": 217.0, \"body_mass_g\": 5850.0, \"sex\": \"Male\"}, {\"species\": \"Gentoo\", \"island\": \"Biscoe\", \"bill_length_mm\": 42.0, \"bill_depth_mm\": 13.5, \"flipper_length_mm\": 210.0, \"body_mass_g\": 4150.0, \"sex\": \"Female\"}, {\"species\": \"Gentoo\", \"island\": \"Biscoe\", \"bill_length_mm\": 49.2, \"bill_depth_mm\": 15.2, \"flipper_length_mm\": 221.0, \"body_mass_g\": 6300.0, \"sex\": \"Male\"}, {\"species\": \"Gentoo\", \"island\": \"Biscoe\", \"bill_length_mm\": 46.2, \"bill_depth_mm\": 14.5, \"flipper_length_mm\": 209.0, \"body_mass_g\": 4800.0, \"sex\": \"Female\"}, {\"species\": \"Gentoo\", \"island\": \"Biscoe\", \"bill_length_mm\": 48.7, \"bill_depth_mm\": 15.1, \"flipper_length_mm\": 222.0, \"body_mass_g\": 5350.0, \"sex\": \"Male\"}, {\"species\": \"Gentoo\", \"island\": \"Biscoe\", \"bill_length_mm\": 50.2, \"bill_depth_mm\": 14.3, \"flipper_length_mm\": 218.0, \"body_mass_g\": 5700.0, \"sex\": \"Male\"}, {\"species\": \"Gentoo\", \"island\": \"Biscoe\", \"bill_length_mm\": 45.1, \"bill_depth_mm\": 14.5, \"flipper_length_mm\": 215.0, \"body_mass_g\": 5000.0, \"sex\": \"Female\"}, {\"species\": \"Gentoo\", \"island\": \"Biscoe\", \"bill_length_mm\": 46.5, \"bill_depth_mm\": 14.5, \"flipper_length_mm\": 213.0, \"body_mass_g\": 4400.0, \"sex\": \"Female\"}, {\"species\": \"Gentoo\", \"island\": \"Biscoe\", \"bill_length_mm\": 46.3, \"bill_depth_mm\": 15.8, \"flipper_length_mm\": 215.0, \"body_mass_g\": 5050.0, \"sex\": \"Male\"}, {\"species\": \"Gentoo\", \"island\": \"Biscoe\", \"bill_length_mm\": 42.9, \"bill_depth_mm\": 13.1, \"flipper_length_mm\": 215.0, \"body_mass_g\": 5000.0, \"sex\": \"Female\"}, {\"species\": \"Gentoo\", \"island\": \"Biscoe\", \"bill_length_mm\": 46.1, \"bill_depth_mm\": 15.1, \"flipper_length_mm\": 215.0, \"body_mass_g\": 5100.0, \"sex\": \"Male\"}, {\"species\": \"Gentoo\", \"island\": \"Biscoe\", \"bill_length_mm\": 47.8, \"bill_depth_mm\": 15.0, \"flipper_length_mm\": 215.0, \"body_mass_g\": 5650.0, \"sex\": \"Male\"}, {\"species\": \"Gentoo\", \"island\": \"Biscoe\", \"bill_length_mm\": 48.2, \"bill_depth_mm\": 14.3, \"flipper_length_mm\": 210.0, \"body_mass_g\": 4600.0, \"sex\": \"Female\"}, {\"species\": \"Gentoo\", \"island\": \"Biscoe\", \"bill_length_mm\": 50.0, \"bill_depth_mm\": 15.3, \"flipper_length_mm\": 220.0, \"body_mass_g\": 5550.0, \"sex\": \"Male\"}, {\"species\": \"Gentoo\", \"island\": \"Biscoe\", \"bill_length_mm\": 47.3, \"bill_depth_mm\": 15.3, \"flipper_length_mm\": 222.0, \"body_mass_g\": 5250.0, \"sex\": \"Male\"}, {\"species\": \"Gentoo\", \"island\": \"Biscoe\", \"bill_length_mm\": 42.8, \"bill_depth_mm\": 14.2, \"flipper_length_mm\": 209.0, \"body_mass_g\": 4700.0, \"sex\": \"Female\"}, {\"species\": \"Gentoo\", \"island\": \"Biscoe\", \"bill_length_mm\": 45.1, \"bill_depth_mm\": 14.5, \"flipper_length_mm\": 207.0, \"body_mass_g\": 5050.0, \"sex\": \"Female\"}, {\"species\": \"Gentoo\", \"island\": \"Biscoe\", \"bill_length_mm\": 59.6, \"bill_depth_mm\": 17.0, \"flipper_length_mm\": 230.0, \"body_mass_g\": 6050.0, \"sex\": \"Male\"}, {\"species\": \"Gentoo\", \"island\": \"Biscoe\", \"bill_length_mm\": 49.1, \"bill_depth_mm\": 14.8, \"flipper_length_mm\": 220.0, \"body_mass_g\": 5150.0, \"sex\": \"Female\"}, {\"species\": \"Gentoo\", \"island\": \"Biscoe\", \"bill_length_mm\": 48.4, \"bill_depth_mm\": 16.3, \"flipper_length_mm\": 220.0, \"body_mass_g\": 5400.0, \"sex\": \"Male\"}, {\"species\": \"Gentoo\", \"island\": \"Biscoe\", \"bill_length_mm\": 42.6, \"bill_depth_mm\": 13.7, \"flipper_length_mm\": 213.0, \"body_mass_g\": 4950.0, \"sex\": \"Female\"}, {\"species\": \"Gentoo\", \"island\": \"Biscoe\", \"bill_length_mm\": 44.4, \"bill_depth_mm\": 17.3, \"flipper_length_mm\": 219.0, \"body_mass_g\": 5250.0, \"sex\": \"Male\"}, {\"species\": \"Gentoo\", \"island\": \"Biscoe\", \"bill_length_mm\": 44.0, \"bill_depth_mm\": 13.6, \"flipper_length_mm\": 208.0, \"body_mass_g\": 4350.0, \"sex\": \"Female\"}, {\"species\": \"Gentoo\", \"island\": \"Biscoe\", \"bill_length_mm\": 48.7, \"bill_depth_mm\": 15.7, \"flipper_length_mm\": 208.0, \"body_mass_g\": 5350.0, \"sex\": \"Male\"}, {\"species\": \"Gentoo\", \"island\": \"Biscoe\", \"bill_length_mm\": 42.7, \"bill_depth_mm\": 13.7, \"flipper_length_mm\": 208.0, \"body_mass_g\": 3950.0, \"sex\": \"Female\"}, {\"species\": \"Gentoo\", \"island\": \"Biscoe\", \"bill_length_mm\": 49.6, \"bill_depth_mm\": 16.0, \"flipper_length_mm\": 225.0, \"body_mass_g\": 5700.0, \"sex\": \"Male\"}, {\"species\": \"Gentoo\", \"island\": \"Biscoe\", \"bill_length_mm\": 45.3, \"bill_depth_mm\": 13.7, \"flipper_length_mm\": 210.0, \"body_mass_g\": 4300.0, \"sex\": \"Female\"}, {\"species\": \"Gentoo\", \"island\": \"Biscoe\", \"bill_length_mm\": 49.6, \"bill_depth_mm\": 15.0, \"flipper_length_mm\": 216.0, \"body_mass_g\": 4750.0, \"sex\": \"Male\"}, {\"species\": \"Gentoo\", \"island\": \"Biscoe\", \"bill_length_mm\": 50.5, \"bill_depth_mm\": 15.9, \"flipper_length_mm\": 222.0, \"body_mass_g\": 5550.0, \"sex\": \"Male\"}, {\"species\": \"Gentoo\", \"island\": \"Biscoe\", \"bill_length_mm\": 43.6, \"bill_depth_mm\": 13.9, \"flipper_length_mm\": 217.0, \"body_mass_g\": 4900.0, \"sex\": \"Female\"}, {\"species\": \"Gentoo\", \"island\": \"Biscoe\", \"bill_length_mm\": 45.5, \"bill_depth_mm\": 13.9, \"flipper_length_mm\": 210.0, \"body_mass_g\": 4200.0, \"sex\": \"Female\"}, {\"species\": \"Gentoo\", \"island\": \"Biscoe\", \"bill_length_mm\": 50.5, \"bill_depth_mm\": 15.9, \"flipper_length_mm\": 225.0, \"body_mass_g\": 5400.0, \"sex\": \"Male\"}, {\"species\": \"Gentoo\", \"island\": \"Biscoe\", \"bill_length_mm\": 44.9, \"bill_depth_mm\": 13.3, \"flipper_length_mm\": 213.0, \"body_mass_g\": 5100.0, \"sex\": \"Female\"}, {\"species\": \"Gentoo\", \"island\": \"Biscoe\", \"bill_length_mm\": 45.2, \"bill_depth_mm\": 15.8, \"flipper_length_mm\": 215.0, \"body_mass_g\": 5300.0, \"sex\": \"Male\"}, {\"species\": \"Gentoo\", \"island\": \"Biscoe\", \"bill_length_mm\": 46.6, \"bill_depth_mm\": 14.2, \"flipper_length_mm\": 210.0, \"body_mass_g\": 4850.0, \"sex\": \"Female\"}, {\"species\": \"Gentoo\", \"island\": \"Biscoe\", \"bill_length_mm\": 48.5, \"bill_depth_mm\": 14.1, \"flipper_length_mm\": 220.0, \"body_mass_g\": 5300.0, \"sex\": \"Male\"}, {\"species\": \"Gentoo\", \"island\": \"Biscoe\", \"bill_length_mm\": 45.1, \"bill_depth_mm\": 14.4, \"flipper_length_mm\": 210.0, \"body_mass_g\": 4400.0, \"sex\": \"Female\"}, {\"species\": \"Gentoo\", \"island\": \"Biscoe\", \"bill_length_mm\": 50.1, \"bill_depth_mm\": 15.0, \"flipper_length_mm\": 225.0, \"body_mass_g\": 5000.0, \"sex\": \"Male\"}, {\"species\": \"Gentoo\", \"island\": \"Biscoe\", \"bill_length_mm\": 46.5, \"bill_depth_mm\": 14.4, \"flipper_length_mm\": 217.0, \"body_mass_g\": 4900.0, \"sex\": \"Female\"}, {\"species\": \"Gentoo\", \"island\": \"Biscoe\", \"bill_length_mm\": 45.0, \"bill_depth_mm\": 15.4, \"flipper_length_mm\": 220.0, \"body_mass_g\": 5050.0, \"sex\": \"Male\"}, {\"species\": \"Gentoo\", \"island\": \"Biscoe\", \"bill_length_mm\": 43.8, \"bill_depth_mm\": 13.9, \"flipper_length_mm\": 208.0, \"body_mass_g\": 4300.0, \"sex\": \"Female\"}, {\"species\": \"Gentoo\", \"island\": \"Biscoe\", \"bill_length_mm\": 45.5, \"bill_depth_mm\": 15.0, \"flipper_length_mm\": 220.0, \"body_mass_g\": 5000.0, \"sex\": \"Male\"}, {\"species\": \"Gentoo\", \"island\": \"Biscoe\", \"bill_length_mm\": 43.2, \"bill_depth_mm\": 14.5, \"flipper_length_mm\": 208.0, \"body_mass_g\": 4450.0, \"sex\": \"Female\"}, {\"species\": \"Gentoo\", \"island\": \"Biscoe\", \"bill_length_mm\": 50.4, \"bill_depth_mm\": 15.3, \"flipper_length_mm\": 224.0, \"body_mass_g\": 5550.0, \"sex\": \"Male\"}, {\"species\": \"Gentoo\", \"island\": \"Biscoe\", \"bill_length_mm\": 45.3, \"bill_depth_mm\": 13.8, \"flipper_length_mm\": 208.0, \"body_mass_g\": 4200.0, \"sex\": \"Female\"}, {\"species\": \"Gentoo\", \"island\": \"Biscoe\", \"bill_length_mm\": 46.2, \"bill_depth_mm\": 14.9, \"flipper_length_mm\": 221.0, \"body_mass_g\": 5300.0, \"sex\": \"Male\"}, {\"species\": \"Gentoo\", \"island\": \"Biscoe\", \"bill_length_mm\": 45.7, \"bill_depth_mm\": 13.9, \"flipper_length_mm\": 214.0, \"body_mass_g\": 4400.0, \"sex\": \"Female\"}, {\"species\": \"Gentoo\", \"island\": \"Biscoe\", \"bill_length_mm\": 54.3, \"bill_depth_mm\": 15.7, \"flipper_length_mm\": 231.0, \"body_mass_g\": 5650.0, \"sex\": \"Male\"}, {\"species\": \"Gentoo\", \"island\": \"Biscoe\", \"bill_length_mm\": 45.8, \"bill_depth_mm\": 14.2, \"flipper_length_mm\": 219.0, \"body_mass_g\": 4700.0, \"sex\": \"Female\"}, {\"species\": \"Gentoo\", \"island\": \"Biscoe\", \"bill_length_mm\": 49.8, \"bill_depth_mm\": 16.8, \"flipper_length_mm\": 230.0, \"body_mass_g\": 5700.0, \"sex\": \"Male\"}, {\"species\": \"Gentoo\", \"island\": \"Biscoe\", \"bill_length_mm\": 49.5, \"bill_depth_mm\": 16.2, \"flipper_length_mm\": 229.0, \"body_mass_g\": 5800.0, \"sex\": \"Male\"}, {\"species\": \"Gentoo\", \"island\": \"Biscoe\", \"bill_length_mm\": 43.5, \"bill_depth_mm\": 14.2, \"flipper_length_mm\": 220.0, \"body_mass_g\": 4700.0, \"sex\": \"Female\"}, {\"species\": \"Gentoo\", \"island\": \"Biscoe\", \"bill_length_mm\": 50.7, \"bill_depth_mm\": 15.0, \"flipper_length_mm\": 223.0, \"body_mass_g\": 5550.0, \"sex\": \"Male\"}, {\"species\": \"Gentoo\", \"island\": \"Biscoe\", \"bill_length_mm\": 47.7, \"bill_depth_mm\": 15.0, \"flipper_length_mm\": 216.0, \"body_mass_g\": 4750.0, \"sex\": \"Female\"}, {\"species\": \"Gentoo\", \"island\": \"Biscoe\", \"bill_length_mm\": 46.4, \"bill_depth_mm\": 15.6, \"flipper_length_mm\": 221.0, \"body_mass_g\": 5000.0, \"sex\": \"Male\"}, {\"species\": \"Gentoo\", \"island\": \"Biscoe\", \"bill_length_mm\": 48.2, \"bill_depth_mm\": 15.6, \"flipper_length_mm\": 221.0, \"body_mass_g\": 5100.0, \"sex\": \"Male\"}, {\"species\": \"Gentoo\", \"island\": \"Biscoe\", \"bill_length_mm\": 46.5, \"bill_depth_mm\": 14.8, \"flipper_length_mm\": 217.0, \"body_mass_g\": 5200.0, \"sex\": \"Female\"}, {\"species\": \"Gentoo\", \"island\": \"Biscoe\", \"bill_length_mm\": 46.4, \"bill_depth_mm\": 15.0, \"flipper_length_mm\": 216.0, \"body_mass_g\": 4700.0, \"sex\": \"Female\"}, {\"species\": \"Gentoo\", \"island\": \"Biscoe\", \"bill_length_mm\": 48.6, \"bill_depth_mm\": 16.0, \"flipper_length_mm\": 230.0, \"body_mass_g\": 5800.0, \"sex\": \"Male\"}, {\"species\": \"Gentoo\", \"island\": \"Biscoe\", \"bill_length_mm\": 47.5, \"bill_depth_mm\": 14.2, \"flipper_length_mm\": 209.0, \"body_mass_g\": 4600.0, \"sex\": \"Female\"}, {\"species\": \"Gentoo\", \"island\": \"Biscoe\", \"bill_length_mm\": 51.1, \"bill_depth_mm\": 16.3, \"flipper_length_mm\": 220.0, \"body_mass_g\": 6000.0, \"sex\": \"Male\"}, {\"species\": \"Gentoo\", \"island\": \"Biscoe\", \"bill_length_mm\": 45.2, \"bill_depth_mm\": 13.8, \"flipper_length_mm\": 215.0, \"body_mass_g\": 4750.0, \"sex\": \"Female\"}, {\"species\": \"Gentoo\", \"island\": \"Biscoe\", \"bill_length_mm\": 45.2, \"bill_depth_mm\": 16.4, \"flipper_length_mm\": 223.0, \"body_mass_g\": 5950.0, \"sex\": \"Male\"}, {\"species\": \"Gentoo\", \"island\": \"Biscoe\", \"bill_length_mm\": 49.1, \"bill_depth_mm\": 14.5, \"flipper_length_mm\": 212.0, \"body_mass_g\": 4625.0, \"sex\": \"Female\"}, {\"species\": \"Gentoo\", \"island\": \"Biscoe\", \"bill_length_mm\": 52.5, \"bill_depth_mm\": 15.6, \"flipper_length_mm\": 221.0, \"body_mass_g\": 5450.0, \"sex\": \"Male\"}, {\"species\": \"Gentoo\", \"island\": \"Biscoe\", \"bill_length_mm\": 47.4, \"bill_depth_mm\": 14.6, \"flipper_length_mm\": 212.0, \"body_mass_g\": 4725.0, \"sex\": \"Female\"}, {\"species\": \"Gentoo\", \"island\": \"Biscoe\", \"bill_length_mm\": 50.0, \"bill_depth_mm\": 15.9, \"flipper_length_mm\": 224.0, \"body_mass_g\": 5350.0, \"sex\": \"Male\"}, {\"species\": \"Gentoo\", \"island\": \"Biscoe\", \"bill_length_mm\": 44.9, \"bill_depth_mm\": 13.8, \"flipper_length_mm\": 212.0, \"body_mass_g\": 4750.0, \"sex\": \"Female\"}, {\"species\": \"Gentoo\", \"island\": \"Biscoe\", \"bill_length_mm\": 50.8, \"bill_depth_mm\": 17.3, \"flipper_length_mm\": 228.0, \"body_mass_g\": 5600.0, \"sex\": \"Male\"}, {\"species\": \"Gentoo\", \"island\": \"Biscoe\", \"bill_length_mm\": 43.4, \"bill_depth_mm\": 14.4, \"flipper_length_mm\": 218.0, \"body_mass_g\": 4600.0, \"sex\": \"Female\"}, {\"species\": \"Gentoo\", \"island\": \"Biscoe\", \"bill_length_mm\": 51.3, \"bill_depth_mm\": 14.2, \"flipper_length_mm\": 218.0, \"body_mass_g\": 5300.0, \"sex\": \"Male\"}, {\"species\": \"Gentoo\", \"island\": \"Biscoe\", \"bill_length_mm\": 47.5, \"bill_depth_mm\": 14.0, \"flipper_length_mm\": 212.0, \"body_mass_g\": 4875.0, \"sex\": \"Female\"}, {\"species\": \"Gentoo\", \"island\": \"Biscoe\", \"bill_length_mm\": 52.1, \"bill_depth_mm\": 17.0, \"flipper_length_mm\": 230.0, \"body_mass_g\": 5550.0, \"sex\": \"Male\"}, {\"species\": \"Gentoo\", \"island\": \"Biscoe\", \"bill_length_mm\": 47.5, \"bill_depth_mm\": 15.0, \"flipper_length_mm\": 218.0, \"body_mass_g\": 4950.0, \"sex\": \"Female\"}, {\"species\": \"Gentoo\", \"island\": \"Biscoe\", \"bill_length_mm\": 52.2, \"bill_depth_mm\": 17.1, \"flipper_length_mm\": 228.0, \"body_mass_g\": 5400.0, \"sex\": \"Male\"}, {\"species\": \"Gentoo\", \"island\": \"Biscoe\", \"bill_length_mm\": 45.5, \"bill_depth_mm\": 14.5, \"flipper_length_mm\": 212.0, \"body_mass_g\": 4750.0, \"sex\": \"Female\"}, {\"species\": \"Gentoo\", \"island\": \"Biscoe\", \"bill_length_mm\": 49.5, \"bill_depth_mm\": 16.1, \"flipper_length_mm\": 224.0, \"body_mass_g\": 5650.0, \"sex\": \"Male\"}, {\"species\": \"Gentoo\", \"island\": \"Biscoe\", \"bill_length_mm\": 44.5, \"bill_depth_mm\": 14.7, \"flipper_length_mm\": 214.0, \"body_mass_g\": 4850.0, \"sex\": \"Female\"}, {\"species\": \"Gentoo\", \"island\": \"Biscoe\", \"bill_length_mm\": 50.8, \"bill_depth_mm\": 15.7, \"flipper_length_mm\": 226.0, \"body_mass_g\": 5200.0, \"sex\": \"Male\"}, {\"species\": \"Gentoo\", \"island\": \"Biscoe\", \"bill_length_mm\": 49.4, \"bill_depth_mm\": 15.8, \"flipper_length_mm\": 216.0, \"body_mass_g\": 4925.0, \"sex\": \"Male\"}, {\"species\": \"Gentoo\", \"island\": \"Biscoe\", \"bill_length_mm\": 46.9, \"bill_depth_mm\": 14.6, \"flipper_length_mm\": 222.0, \"body_mass_g\": 4875.0, \"sex\": \"Female\"}, {\"species\": \"Gentoo\", \"island\": \"Biscoe\", \"bill_length_mm\": 48.4, \"bill_depth_mm\": 14.4, \"flipper_length_mm\": 203.0, \"body_mass_g\": 4625.0, \"sex\": \"Female\"}, {\"species\": \"Gentoo\", \"island\": \"Biscoe\", \"bill_length_mm\": 51.1, \"bill_depth_mm\": 16.5, \"flipper_length_mm\": 225.0, \"body_mass_g\": 5250.0, \"sex\": \"Male\"}, {\"species\": \"Gentoo\", \"island\": \"Biscoe\", \"bill_length_mm\": 48.5, \"bill_depth_mm\": 15.0, \"flipper_length_mm\": 219.0, \"body_mass_g\": 4850.0, \"sex\": \"Female\"}, {\"species\": \"Gentoo\", \"island\": \"Biscoe\", \"bill_length_mm\": 55.9, \"bill_depth_mm\": 17.0, \"flipper_length_mm\": 228.0, \"body_mass_g\": 5600.0, \"sex\": \"Male\"}, {\"species\": \"Gentoo\", \"island\": \"Biscoe\", \"bill_length_mm\": 47.2, \"bill_depth_mm\": 15.5, \"flipper_length_mm\": 215.0, \"body_mass_g\": 4975.0, \"sex\": \"Female\"}, {\"species\": \"Gentoo\", \"island\": \"Biscoe\", \"bill_length_mm\": 49.1, \"bill_depth_mm\": 15.0, \"flipper_length_mm\": 228.0, \"body_mass_g\": 5500.0, \"sex\": \"Male\"}, {\"species\": \"Gentoo\", \"island\": \"Biscoe\", \"bill_length_mm\": 46.8, \"bill_depth_mm\": 16.1, \"flipper_length_mm\": 215.0, \"body_mass_g\": 5500.0, \"sex\": \"Male\"}, {\"species\": \"Gentoo\", \"island\": \"Biscoe\", \"bill_length_mm\": 41.7, \"bill_depth_mm\": 14.7, \"flipper_length_mm\": 210.0, \"body_mass_g\": 4700.0, \"sex\": \"Female\"}, {\"species\": \"Gentoo\", \"island\": \"Biscoe\", \"bill_length_mm\": 53.4, \"bill_depth_mm\": 15.8, \"flipper_length_mm\": 219.0, \"body_mass_g\": 5500.0, \"sex\": \"Male\"}, {\"species\": \"Gentoo\", \"island\": \"Biscoe\", \"bill_length_mm\": 43.3, \"bill_depth_mm\": 14.0, \"flipper_length_mm\": 208.0, \"body_mass_g\": 4575.0, \"sex\": \"Female\"}, {\"species\": \"Gentoo\", \"island\": \"Biscoe\", \"bill_length_mm\": 48.1, \"bill_depth_mm\": 15.1, \"flipper_length_mm\": 209.0, \"body_mass_g\": 5500.0, \"sex\": \"Male\"}, {\"species\": \"Gentoo\", \"island\": \"Biscoe\", \"bill_length_mm\": 50.5, \"bill_depth_mm\": 15.2, \"flipper_length_mm\": 216.0, \"body_mass_g\": 5000.0, \"sex\": \"Female\"}, {\"species\": \"Gentoo\", \"island\": \"Biscoe\", \"bill_length_mm\": 49.8, \"bill_depth_mm\": 15.9, \"flipper_length_mm\": 229.0, \"body_mass_g\": 5950.0, \"sex\": \"Male\"}, {\"species\": \"Gentoo\", \"island\": \"Biscoe\", \"bill_length_mm\": 43.5, \"bill_depth_mm\": 15.2, \"flipper_length_mm\": 213.0, \"body_mass_g\": 4650.0, \"sex\": \"Female\"}, {\"species\": \"Gentoo\", \"island\": \"Biscoe\", \"bill_length_mm\": 51.5, \"bill_depth_mm\": 16.3, \"flipper_length_mm\": 230.0, \"body_mass_g\": 5500.0, \"sex\": \"Male\"}, {\"species\": \"Gentoo\", \"island\": \"Biscoe\", \"bill_length_mm\": 46.2, \"bill_depth_mm\": 14.1, \"flipper_length_mm\": 217.0, \"body_mass_g\": 4375.0, \"sex\": \"Female\"}, {\"species\": \"Gentoo\", \"island\": \"Biscoe\", \"bill_length_mm\": 55.1, \"bill_depth_mm\": 16.0, \"flipper_length_mm\": 230.0, \"body_mass_g\": 5850.0, \"sex\": \"Male\"}, {\"species\": \"Gentoo\", \"island\": \"Biscoe\", \"bill_length_mm\": 48.8, \"bill_depth_mm\": 16.2, \"flipper_length_mm\": 222.0, \"body_mass_g\": 6000.0, \"sex\": \"Male\"}, {\"species\": \"Gentoo\", \"island\": \"Biscoe\", \"bill_length_mm\": 47.2, \"bill_depth_mm\": 13.7, \"flipper_length_mm\": 214.0, \"body_mass_g\": 4925.0, \"sex\": \"Female\"}, {\"species\": \"Gentoo\", \"island\": \"Biscoe\", \"bill_length_mm\": 46.8, \"bill_depth_mm\": 14.3, \"flipper_length_mm\": 215.0, \"body_mass_g\": 4850.0, \"sex\": \"Female\"}, {\"species\": \"Gentoo\", \"island\": \"Biscoe\", \"bill_length_mm\": 50.4, \"bill_depth_mm\": 15.7, \"flipper_length_mm\": 222.0, \"body_mass_g\": 5750.0, \"sex\": \"Male\"}, {\"species\": \"Gentoo\", \"island\": \"Biscoe\", \"bill_length_mm\": 45.2, \"bill_depth_mm\": 14.8, \"flipper_length_mm\": 212.0, \"body_mass_g\": 5200.0, \"sex\": \"Female\"}, {\"species\": \"Gentoo\", \"island\": \"Biscoe\", \"bill_length_mm\": 49.9, \"bill_depth_mm\": 16.1, \"flipper_length_mm\": 213.0, \"body_mass_g\": 5400.0, \"sex\": \"Male\"}]}}, {\"mode\": \"vega-lite\"});\n",
       "</script>"
      ],
      "text/plain": [
       "alt.Chart(...)"
      ]
     },
     "execution_count": 4,
     "metadata": {},
     "output_type": "execute_result"
    }
   ],
   "source": [
    "alt.Chart(df).mark_circle().encode(\n",
    "    x=alt.X(\"flipper_length_mm\", scale=alt.Scale(zero=False)),\n",
    "    y=alt.Y(\"bill_length_mm\", scale=alt.Scale(zero=False)),\n",
    "    color=\"species\"\n",
    ")"
   ]
  },
  {
   "cell_type": "code",
   "execution_count": 5,
   "metadata": {
    "cell_id": "69b9f37330fa4da5aff4542324c93851",
    "deepnote_cell_height": 329.328125,
    "deepnote_cell_type": "code",
    "deepnote_output_heights": [
     232.34375
    ],
    "deepnote_to_be_reexecuted": false,
    "execution_millis": 9,
    "execution_start": 1652472945217,
    "source_hash": "fa348ae7",
    "tags": []
   },
   "outputs": [
    {
     "data": {
      "text/plain": [
       "0      False\n",
       "1      False\n",
       "2      False\n",
       "4      False\n",
       "5      False\n",
       "       ...  \n",
       "338    False\n",
       "340    False\n",
       "341    False\n",
       "342    False\n",
       "343    False\n",
       "Name: species, Length: 333, dtype: bool"
      ]
     },
     "execution_count": 5,
     "metadata": {},
     "output_type": "execute_result"
    }
   ],
   "source": [
    "df[\"species\"] == \"Chinstrap\""
   ]
  },
  {
   "cell_type": "code",
   "execution_count": 6,
   "metadata": {
    "cell_id": "4f423dff06424757a332a2b6a93554bc",
    "deepnote_cell_height": 118.1875,
    "deepnote_cell_type": "code",
    "deepnote_output_heights": [
     21.1875
    ],
    "deepnote_to_be_reexecuted": false,
    "execution_millis": 12,
    "execution_start": 1652472961951,
    "source_hash": "88320c77",
    "tags": []
   },
   "outputs": [
    {
     "data": {
      "text/plain": [
       "68"
      ]
     },
     "execution_count": 6,
     "metadata": {},
     "output_type": "execute_result"
    }
   ],
   "source": [
    "(df[\"species\"] == \"Chinstrap\").sum()"
   ]
  },
  {
   "cell_type": "markdown",
   "metadata": {},
   "source": [
    "We are performing *binary* classification in this example, meaning that there are only two classes we are considering, \"Chinstrap\" and \"Other\".  We add a Boolean column to the DataFrame with `True` if the species is \"Chinstrap\" and with `False` otherwise.\n",
    "\n",
    "One advantage to performing binary classification, as opposed to multiclass classification, is that the coefficients found during this fitting process will be easier to interpret."
   ]
  },
  {
   "cell_type": "code",
   "execution_count": 7,
   "metadata": {
    "cell_id": "b511c46c02ad41c093f0c9ed73b63fad",
    "deepnote_cell_height": 117,
    "deepnote_cell_type": "code",
    "deepnote_to_be_reexecuted": false,
    "execution_millis": 0,
    "execution_start": 1652472983606,
    "source_hash": "ddd27976",
    "tags": []
   },
   "outputs": [],
   "source": [
    "df[\"is_Chinstrap\"] = (df[\"species\"] == \"Chinstrap\")"
   ]
  },
  {
   "cell_type": "code",
   "execution_count": 8,
   "metadata": {
    "cell_id": "7a46eefbd66644edbdeb0be3807d3181",
    "deepnote_cell_height": 395,
    "deepnote_cell_type": "code",
    "deepnote_to_be_reexecuted": false,
    "execution_millis": 26,
    "execution_start": 1652472986780,
    "source_hash": "c085b6ba",
    "tags": []
   },
   "outputs": [
    {
     "data": {
      "text/html": [
       "<div>\n",
       "<style scoped>\n",
       "    .dataframe tbody tr th:only-of-type {\n",
       "        vertical-align: middle;\n",
       "    }\n",
       "\n",
       "    .dataframe tbody tr th {\n",
       "        vertical-align: top;\n",
       "    }\n",
       "\n",
       "    .dataframe thead th {\n",
       "        text-align: right;\n",
       "    }\n",
       "</style>\n",
       "<table border=\"1\" class=\"dataframe\">\n",
       "  <thead>\n",
       "    <tr style=\"text-align: right;\">\n",
       "      <th></th>\n",
       "      <th>species</th>\n",
       "      <th>island</th>\n",
       "      <th>bill_length_mm</th>\n",
       "      <th>bill_depth_mm</th>\n",
       "      <th>flipper_length_mm</th>\n",
       "      <th>body_mass_g</th>\n",
       "      <th>sex</th>\n",
       "      <th>is_Chinstrap</th>\n",
       "    </tr>\n",
       "  </thead>\n",
       "  <tbody>\n",
       "    <tr>\n",
       "      <th>0</th>\n",
       "      <td>Adelie</td>\n",
       "      <td>Torgersen</td>\n",
       "      <td>39.1</td>\n",
       "      <td>18.7</td>\n",
       "      <td>181.0</td>\n",
       "      <td>3750.0</td>\n",
       "      <td>Male</td>\n",
       "      <td>False</td>\n",
       "    </tr>\n",
       "    <tr>\n",
       "      <th>1</th>\n",
       "      <td>Adelie</td>\n",
       "      <td>Torgersen</td>\n",
       "      <td>39.5</td>\n",
       "      <td>17.4</td>\n",
       "      <td>186.0</td>\n",
       "      <td>3800.0</td>\n",
       "      <td>Female</td>\n",
       "      <td>False</td>\n",
       "    </tr>\n",
       "    <tr>\n",
       "      <th>2</th>\n",
       "      <td>Adelie</td>\n",
       "      <td>Torgersen</td>\n",
       "      <td>40.3</td>\n",
       "      <td>18.0</td>\n",
       "      <td>195.0</td>\n",
       "      <td>3250.0</td>\n",
       "      <td>Female</td>\n",
       "      <td>False</td>\n",
       "    </tr>\n",
       "    <tr>\n",
       "      <th>4</th>\n",
       "      <td>Adelie</td>\n",
       "      <td>Torgersen</td>\n",
       "      <td>36.7</td>\n",
       "      <td>19.3</td>\n",
       "      <td>193.0</td>\n",
       "      <td>3450.0</td>\n",
       "      <td>Female</td>\n",
       "      <td>False</td>\n",
       "    </tr>\n",
       "    <tr>\n",
       "      <th>5</th>\n",
       "      <td>Adelie</td>\n",
       "      <td>Torgersen</td>\n",
       "      <td>39.3</td>\n",
       "      <td>20.6</td>\n",
       "      <td>190.0</td>\n",
       "      <td>3650.0</td>\n",
       "      <td>Male</td>\n",
       "      <td>False</td>\n",
       "    </tr>\n",
       "  </tbody>\n",
       "</table>\n",
       "</div>"
      ],
      "text/plain": [
       "  species     island  bill_length_mm  bill_depth_mm  flipper_length_mm  \\\n",
       "0  Adelie  Torgersen            39.1           18.7              181.0   \n",
       "1  Adelie  Torgersen            39.5           17.4              186.0   \n",
       "2  Adelie  Torgersen            40.3           18.0              195.0   \n",
       "4  Adelie  Torgersen            36.7           19.3              193.0   \n",
       "5  Adelie  Torgersen            39.3           20.6              190.0   \n",
       "\n",
       "   body_mass_g     sex  is_Chinstrap  \n",
       "0       3750.0    Male         False  \n",
       "1       3800.0  Female         False  \n",
       "2       3250.0  Female         False  \n",
       "4       3450.0  Female         False  \n",
       "5       3650.0    Male         False  "
      ]
     },
     "execution_count": 8,
     "metadata": {},
     "output_type": "execute_result"
    }
   ],
   "source": [
    "df.head()"
   ]
  },
  {
   "cell_type": "code",
   "execution_count": 9,
   "metadata": {
    "cell_id": "e0771ab55d024dbc818c7171926bc763",
    "deepnote_cell_height": 81,
    "deepnote_cell_type": "code",
    "deepnote_to_be_reexecuted": false,
    "execution_millis": 3,
    "execution_start": 1652473070458,
    "source_hash": "746a4dbc",
    "tags": []
   },
   "outputs": [],
   "source": [
    "from sklearn.model_selection import train_test_split"
   ]
  },
  {
   "cell_type": "code",
   "execution_count": 10,
   "metadata": {
    "cell_id": "4e8bc3e996da4918a663c3b5dc413121",
    "deepnote_cell_height": 600,
    "deepnote_cell_type": "code",
    "deepnote_to_be_reexecuted": false,
    "execution_millis": 347,
    "execution_start": 1652473087885,
    "source_hash": "f77a4443",
    "tags": []
   },
   "outputs": [
    {
     "data": {
      "text/html": [
       "<div>\n",
       "<style scoped>\n",
       "    .dataframe tbody tr th:only-of-type {\n",
       "        vertical-align: middle;\n",
       "    }\n",
       "\n",
       "    .dataframe tbody tr th {\n",
       "        vertical-align: top;\n",
       "    }\n",
       "\n",
       "    .dataframe thead th {\n",
       "        text-align: right;\n",
       "    }\n",
       "</style>\n",
       "<table border=\"1\" class=\"dataframe\">\n",
       "  <thead>\n",
       "    <tr style=\"text-align: right;\">\n",
       "      <th></th>\n",
       "      <th>flipper_length_mm</th>\n",
       "      <th>bill_length_mm</th>\n",
       "    </tr>\n",
       "  </thead>\n",
       "  <tbody>\n",
       "    <tr>\n",
       "      <th>0</th>\n",
       "      <td>181.0</td>\n",
       "      <td>39.1</td>\n",
       "    </tr>\n",
       "    <tr>\n",
       "      <th>1</th>\n",
       "      <td>186.0</td>\n",
       "      <td>39.5</td>\n",
       "    </tr>\n",
       "    <tr>\n",
       "      <th>2</th>\n",
       "      <td>195.0</td>\n",
       "      <td>40.3</td>\n",
       "    </tr>\n",
       "    <tr>\n",
       "      <th>4</th>\n",
       "      <td>193.0</td>\n",
       "      <td>36.7</td>\n",
       "    </tr>\n",
       "    <tr>\n",
       "      <th>5</th>\n",
       "      <td>190.0</td>\n",
       "      <td>39.3</td>\n",
       "    </tr>\n",
       "    <tr>\n",
       "      <th>...</th>\n",
       "      <td>...</td>\n",
       "      <td>...</td>\n",
       "    </tr>\n",
       "    <tr>\n",
       "      <th>338</th>\n",
       "      <td>214.0</td>\n",
       "      <td>47.2</td>\n",
       "    </tr>\n",
       "    <tr>\n",
       "      <th>340</th>\n",
       "      <td>215.0</td>\n",
       "      <td>46.8</td>\n",
       "    </tr>\n",
       "    <tr>\n",
       "      <th>341</th>\n",
       "      <td>222.0</td>\n",
       "      <td>50.4</td>\n",
       "    </tr>\n",
       "    <tr>\n",
       "      <th>342</th>\n",
       "      <td>212.0</td>\n",
       "      <td>45.2</td>\n",
       "    </tr>\n",
       "    <tr>\n",
       "      <th>343</th>\n",
       "      <td>213.0</td>\n",
       "      <td>49.9</td>\n",
       "    </tr>\n",
       "  </tbody>\n",
       "</table>\n",
       "<p>333 rows × 2 columns</p>\n",
       "</div>"
      ],
      "text/plain": [
       "     flipper_length_mm  bill_length_mm\n",
       "0                181.0            39.1\n",
       "1                186.0            39.5\n",
       "2                195.0            40.3\n",
       "4                193.0            36.7\n",
       "5                190.0            39.3\n",
       "..                 ...             ...\n",
       "338              214.0            47.2\n",
       "340              215.0            46.8\n",
       "341              222.0            50.4\n",
       "342              212.0            45.2\n",
       "343              213.0            49.9\n",
       "\n",
       "[333 rows x 2 columns]"
      ]
     },
     "execution_count": 10,
     "metadata": {},
     "output_type": "execute_result"
    }
   ],
   "source": [
    "df[cols]"
   ]
  },
  {
   "cell_type": "code",
   "execution_count": 11,
   "metadata": {
    "cell_id": "9d558592d53f478c8b7443c0911464eb",
    "deepnote_cell_height": 81,
    "deepnote_cell_type": "code",
    "deepnote_to_be_reexecuted": false,
    "execution_millis": 6,
    "execution_start": 1652473257838,
    "source_hash": "97c856b4",
    "tags": []
   },
   "outputs": [],
   "source": [
    "X_train, X_test, y_train, y_test = train_test_split(df[cols], df[\"is_Chinstrap\"], test_size=0.2, random_state=0)"
   ]
  },
  {
   "cell_type": "code",
   "execution_count": 12,
   "metadata": {
    "cell_id": "a1cc21f645a344078ba4f8429d1dc54e",
    "deepnote_cell_height": 600,
    "deepnote_cell_type": "code",
    "deepnote_to_be_reexecuted": false,
    "execution_millis": 21,
    "execution_start": 1652473284027,
    "source_hash": "d65cf08f",
    "tags": []
   },
   "outputs": [
    {
     "data": {
      "text/html": [
       "<div>\n",
       "<style scoped>\n",
       "    .dataframe tbody tr th:only-of-type {\n",
       "        vertical-align: middle;\n",
       "    }\n",
       "\n",
       "    .dataframe tbody tr th {\n",
       "        vertical-align: top;\n",
       "    }\n",
       "\n",
       "    .dataframe thead th {\n",
       "        text-align: right;\n",
       "    }\n",
       "</style>\n",
       "<table border=\"1\" class=\"dataframe\">\n",
       "  <thead>\n",
       "    <tr style=\"text-align: right;\">\n",
       "      <th></th>\n",
       "      <th>flipper_length_mm</th>\n",
       "      <th>bill_length_mm</th>\n",
       "    </tr>\n",
       "  </thead>\n",
       "  <tbody>\n",
       "    <tr>\n",
       "      <th>62</th>\n",
       "      <td>185.0</td>\n",
       "      <td>37.6</td>\n",
       "    </tr>\n",
       "    <tr>\n",
       "      <th>60</th>\n",
       "      <td>185.0</td>\n",
       "      <td>35.7</td>\n",
       "    </tr>\n",
       "    <tr>\n",
       "      <th>283</th>\n",
       "      <td>231.0</td>\n",
       "      <td>54.3</td>\n",
       "    </tr>\n",
       "    <tr>\n",
       "      <th>107</th>\n",
       "      <td>190.0</td>\n",
       "      <td>38.2</td>\n",
       "    </tr>\n",
       "    <tr>\n",
       "      <th>65</th>\n",
       "      <td>192.0</td>\n",
       "      <td>41.6</td>\n",
       "    </tr>\n",
       "    <tr>\n",
       "      <th>...</th>\n",
       "      <td>...</td>\n",
       "      <td>...</td>\n",
       "    </tr>\n",
       "    <tr>\n",
       "      <th>122</th>\n",
       "      <td>176.0</td>\n",
       "      <td>40.2</td>\n",
       "    </tr>\n",
       "    <tr>\n",
       "      <th>298</th>\n",
       "      <td>215.0</td>\n",
       "      <td>45.2</td>\n",
       "    </tr>\n",
       "    <tr>\n",
       "      <th>22</th>\n",
       "      <td>189.0</td>\n",
       "      <td>35.9</td>\n",
       "    </tr>\n",
       "    <tr>\n",
       "      <th>151</th>\n",
       "      <td>201.0</td>\n",
       "      <td>41.5</td>\n",
       "    </tr>\n",
       "    <tr>\n",
       "      <th>252</th>\n",
       "      <td>207.0</td>\n",
       "      <td>45.1</td>\n",
       "    </tr>\n",
       "  </tbody>\n",
       "</table>\n",
       "<p>67 rows × 2 columns</p>\n",
       "</div>"
      ],
      "text/plain": [
       "     flipper_length_mm  bill_length_mm\n",
       "62               185.0            37.6\n",
       "60               185.0            35.7\n",
       "283              231.0            54.3\n",
       "107              190.0            38.2\n",
       "65               192.0            41.6\n",
       "..                 ...             ...\n",
       "122              176.0            40.2\n",
       "298              215.0            45.2\n",
       "22               189.0            35.9\n",
       "151              201.0            41.5\n",
       "252              207.0            45.1\n",
       "\n",
       "[67 rows x 2 columns]"
      ]
     },
     "execution_count": 12,
     "metadata": {},
     "output_type": "execute_result"
    }
   ],
   "source": [
    "X_test"
   ]
  },
  {
   "cell_type": "markdown",
   "metadata": {},
   "source": [
    "Notice how the index for `y_test` perfectly matches the index for `X_test`."
   ]
  },
  {
   "cell_type": "code",
   "execution_count": 14,
   "metadata": {
    "cell_id": "4b98ea8cb1664359a6c03edb2a5afa3b",
    "deepnote_cell_height": 329.328125,
    "deepnote_cell_type": "code",
    "deepnote_output_heights": [
     232.34375
    ],
    "deepnote_to_be_reexecuted": false,
    "execution_millis": 8,
    "execution_start": 1652473303364,
    "source_hash": "d696aa0b",
    "tags": []
   },
   "outputs": [
    {
     "data": {
      "text/plain": [
       "62     False\n",
       "60     False\n",
       "283    False\n",
       "107    False\n",
       "65     False\n",
       "       ...  \n",
       "122    False\n",
       "298    False\n",
       "22     False\n",
       "151    False\n",
       "252    False\n",
       "Name: is_Chinstrap, Length: 67, dtype: bool"
      ]
     },
     "execution_count": 14,
     "metadata": {},
     "output_type": "execute_result"
    }
   ],
   "source": [
    "y_test"
   ]
  },
  {
   "cell_type": "markdown",
   "metadata": {
    "tags": []
   },
   "source": [
    "To perform logistic regression using scikit-learn, we will follow the usual pattern of import, instantiate, fit, predict."
   ]
  },
  {
   "cell_type": "code",
   "execution_count": 16,
   "metadata": {
    "cell_id": "0edd4615686c46a7a6c1733c3dfcd0f7",
    "deepnote_cell_height": 81,
    "deepnote_cell_type": "code",
    "deepnote_to_be_reexecuted": false,
    "execution_millis": 3,
    "execution_start": 1652473350075,
    "source_hash": "af35732f",
    "tags": []
   },
   "outputs": [],
   "source": [
    "from sklearn.linear_model import LogisticRegression"
   ]
  },
  {
   "cell_type": "markdown",
   "metadata": {},
   "source": [
    "It's best to use a variable name like `clf` as opposed to `reg` to remind ourselves that we are performing classification, not regression."
   ]
  },
  {
   "cell_type": "code",
   "execution_count": 17,
   "metadata": {
    "cell_id": "2e6ca1db586b4e4690f3480197fe211c",
    "deepnote_cell_height": 81,
    "deepnote_cell_type": "code",
    "deepnote_to_be_reexecuted": false,
    "execution_millis": 4,
    "execution_start": 1652473397600,
    "source_hash": "aef42042",
    "tags": []
   },
   "outputs": [],
   "source": [
    "clf = LogisticRegression()"
   ]
  },
  {
   "cell_type": "code",
   "execution_count": 18,
   "metadata": {
    "cell_id": "db40d7e62c3e4030b548fc0167248e15",
    "deepnote_cell_height": 118.1875,
    "deepnote_cell_type": "code",
    "deepnote_output_heights": [
     21.1875
    ],
    "deepnote_to_be_reexecuted": false,
    "execution_millis": 26,
    "execution_start": 1652473440239,
    "source_hash": "e7844c31",
    "tags": []
   },
   "outputs": [
    {
     "data": {
      "text/plain": [
       "LogisticRegression()"
      ]
     },
     "execution_count": 18,
     "metadata": {},
     "output_type": "execute_result"
    }
   ],
   "source": [
    "clf.fit(X_train, y_train)"
   ]
  },
  {
   "cell_type": "code",
   "execution_count": 19,
   "metadata": {
    "cell_id": "21f13ccab3c34bba8461e6ba6f4db1b5",
    "deepnote_cell_height": 252.5625,
    "deepnote_cell_type": "code",
    "deepnote_output_heights": [
     155.5625
    ],
    "deepnote_to_be_reexecuted": false,
    "execution_millis": 7,
    "execution_start": 1652473464432,
    "source_hash": "71638b8f",
    "tags": []
   },
   "outputs": [
    {
     "data": {
      "text/plain": [
       "array([False, False, False, False, False, False,  True, False, False,\n",
       "        True, False, False, False,  True, False, False, False, False,\n",
       "        True, False, False, False, False, False, False, False, False,\n",
       "       False, False, False, False,  True, False, False, False, False,\n",
       "        True, False,  True, False, False, False, False, False, False,\n",
       "       False, False, False, False, False, False, False, False, False,\n",
       "       False, False, False, False, False, False, False, False,  True,\n",
       "       False, False, False, False])"
      ]
     },
     "execution_count": 19,
     "metadata": {},
     "output_type": "execute_result"
    }
   ],
   "source": [
    "clf.predict(X_test)"
   ]
  },
  {
   "cell_type": "markdown",
   "metadata": {},
   "source": [
    "Let's determine what percentage of accuracy we had on the test set."
   ]
  },
  {
   "cell_type": "code",
   "execution_count": 20,
   "metadata": {
    "cell_id": "56efbbc766474cfabf22d2e738674b93",
    "deepnote_cell_height": 329.328125,
    "deepnote_cell_type": "code",
    "deepnote_output_heights": [
     232.34375
    ],
    "deepnote_to_be_reexecuted": false,
    "execution_millis": 14,
    "execution_start": 1652473503348,
    "source_hash": "d696aa0b",
    "tags": []
   },
   "outputs": [
    {
     "data": {
      "text/plain": [
       "62     False\n",
       "60     False\n",
       "283    False\n",
       "107    False\n",
       "65     False\n",
       "       ...  \n",
       "122    False\n",
       "298    False\n",
       "22     False\n",
       "151    False\n",
       "252    False\n",
       "Name: is_Chinstrap, Length: 67, dtype: bool"
      ]
     },
     "execution_count": 20,
     "metadata": {},
     "output_type": "execute_result"
    }
   ],
   "source": [
    "y_test"
   ]
  },
  {
   "cell_type": "code",
   "execution_count": 21,
   "metadata": {
    "cell_id": "5e9d31c401294c39954fbe84209ab9e4",
    "deepnote_cell_height": 136.1875,
    "deepnote_cell_type": "code",
    "deepnote_output_heights": [
     21.1875
    ],
    "deepnote_to_be_reexecuted": false,
    "execution_millis": 7,
    "execution_start": 1652473566290,
    "source_hash": "79e3dcd",
    "tags": []
   },
   "outputs": [
    {
     "data": {
      "text/plain": [
       "63"
      ]
     },
     "execution_count": 21,
     "metadata": {},
     "output_type": "execute_result"
    }
   ],
   "source": [
    "# How often were we correct?\n",
    "(clf.predict(X_test) == y_test).sum()"
   ]
  },
  {
   "cell_type": "code",
   "execution_count": 22,
   "metadata": {
    "cell_id": "36280f21888b4d90bc298a0273db51c1",
    "deepnote_cell_height": 136.1875,
    "deepnote_cell_type": "code",
    "deepnote_output_heights": [
     21.1875
    ],
    "deepnote_to_be_reexecuted": false,
    "execution_millis": 7,
    "execution_start": 1652473692331,
    "source_hash": "2627548b",
    "tags": []
   },
   "outputs": [
    {
     "data": {
      "text/plain": [
       "0.9402985074626866"
      ]
     },
     "execution_count": 22,
     "metadata": {},
     "output_type": "execute_result"
    }
   ],
   "source": [
    "# What proportion were we correct?\n",
    "(clf.predict(X_test) == y_test).sum()/len(X_test)"
   ]
  },
  {
   "cell_type": "markdown",
   "metadata": {},
   "source": [
    "There is a quicker way to get this number, using the classifier's `score` method."
   ]
  },
  {
   "cell_type": "code",
   "execution_count": 23,
   "metadata": {
    "cell_id": "884344df7f93434d9903414ef251e34a",
    "deepnote_cell_height": 118.1875,
    "deepnote_cell_type": "code",
    "deepnote_output_heights": [
     21.1875
    ],
    "deepnote_to_be_reexecuted": false,
    "execution_millis": 9,
    "execution_start": 1652473813213,
    "source_hash": "a356aeea",
    "tags": []
   },
   "outputs": [
    {
     "data": {
      "text/plain": [
       "0.9402985074626866"
      ]
     },
     "execution_count": 23,
     "metadata": {},
     "output_type": "execute_result"
    }
   ],
   "source": [
    "clf.score(X_test, y_test)"
   ]
  },
  {
   "cell_type": "markdown",
   "metadata": {},
   "source": [
    "This accuracy is so high, we don't have to be too worried about overfitting, but it's still a good idea to check and see if the performance is much better on the training set.  Here it is a little better."
   ]
  },
  {
   "cell_type": "code",
   "execution_count": 24,
   "metadata": {
    "cell_id": "8a4bdd919bd844cabaf65f3e15112ca6",
    "deepnote_cell_height": 118.1875,
    "deepnote_cell_type": "code",
    "deepnote_output_heights": [
     21.1875
    ],
    "deepnote_to_be_reexecuted": false,
    "execution_millis": 2,
    "execution_start": 1652473862713,
    "source_hash": "2f42d172",
    "tags": []
   },
   "outputs": [
    {
     "data": {
      "text/plain": [
       "0.9624060150375939"
      ]
     },
     "execution_count": 24,
     "metadata": {},
     "output_type": "execute_result"
    }
   ],
   "source": [
    "clf.score(X_train, y_train)"
   ]
  },
  {
   "cell_type": "markdown",
   "metadata": {},
   "source": [
    "(Fun aside that we briefly discussed.  Say we are performing binary classification on the MNIST dataset, trying to determine if a handwritten digit is 5 or not.  Why is 90% accuracy *not* impressive in this case?)"
   ]
  },
  {
   "cell_type": "code",
   "execution_count": 25,
   "metadata": {
    "cell_id": "d4849a623312443abe560d2e435132a1",
    "deepnote_cell_height": 118.1875,
    "deepnote_cell_type": "code",
    "deepnote_output_heights": [
     21.1875
    ],
    "deepnote_to_be_reexecuted": false,
    "execution_millis": 1,
    "execution_start": 1652474028489,
    "source_hash": "cb73c151",
    "tags": []
   },
   "outputs": [
    {
     "data": {
      "text/plain": [
       "['flipper_length_mm', 'bill_length_mm']"
      ]
     },
     "execution_count": 25,
     "metadata": {},
     "output_type": "execute_result"
    }
   ],
   "source": [
    "cols"
   ]
  },
  {
   "cell_type": "markdown",
   "metadata": {},
   "source": [
    "The \"learning\" in \"machine learning\" for this case of logistic regression is finding the following three constants, two coefficients and one intercept or bias."
   ]
  },
  {
   "cell_type": "code",
   "execution_count": 26,
   "metadata": {
    "cell_id": "5c6530f1a0e7476aa7b8da4d5046ccef",
    "deepnote_cell_height": 118.1875,
    "deepnote_cell_type": "code",
    "deepnote_output_heights": [
     21.1875
    ],
    "deepnote_to_be_reexecuted": false,
    "execution_millis": 10,
    "execution_start": 1652473992093,
    "source_hash": "325e57db",
    "tags": []
   },
   "outputs": [
    {
     "data": {
      "text/plain": [
       "array([[-0.38263519,  1.17201067]])"
      ]
     },
     "execution_count": 26,
     "metadata": {},
     "output_type": "execute_result"
    }
   ],
   "source": [
    "clf.coef_"
   ]
  },
  {
   "cell_type": "markdown",
   "metadata": {},
   "source": [
    "Think of the above 2 coefficients as being coefficients of the values in the columns listed in `cols`."
   ]
  },
  {
   "cell_type": "code",
   "execution_count": 28,
   "metadata": {
    "cell_id": "8d26afe8143149ac8cc3efffbf5517af",
    "deepnote_cell_height": 118.1875,
    "deepnote_cell_type": "code",
    "deepnote_output_heights": [
     21.1875
    ],
    "deepnote_to_be_reexecuted": false,
    "execution_millis": 0,
    "execution_start": 1652474015974,
    "source_hash": "40e898b2",
    "tags": []
   },
   "outputs": [
    {
     "data": {
      "text/plain": [
       "array([20.93321887])"
      ]
     },
     "execution_count": 28,
     "metadata": {},
     "output_type": "execute_result"
    }
   ],
   "source": [
    "clf.intercept_"
   ]
  },
  {
   "cell_type": "markdown",
   "metadata": {},
   "source": [
    "The sigmoid function $\\sigma(x)$ is one of the most natural functions to use if you want to model a probability.  (See the graph of sigmoid above.)"
   ]
  },
  {
   "cell_type": "code",
   "execution_count": 32,
   "metadata": {
    "cell_id": "660febc50860488cb36af2d2cb472c98",
    "deepnote_cell_height": 81,
    "deepnote_cell_type": "code",
    "deepnote_to_be_reexecuted": false,
    "execution_millis": 12,
    "execution_start": 1652474617174,
    "source_hash": "62fc56fd",
    "tags": []
   },
   "outputs": [],
   "source": [
    "sigmoid = lambda x: 1/(1+np.exp(-x))"
   ]
  },
  {
   "cell_type": "code",
   "execution_count": 33,
   "metadata": {
    "cell_id": "0a7e640863994104828b86cd54e615fe",
    "deepnote_cell_height": 118.1875,
    "deepnote_cell_type": "code",
    "deepnote_output_heights": [
     21.1875
    ],
    "deepnote_to_be_reexecuted": false,
    "execution_millis": 3,
    "execution_start": 1652474637093,
    "source_hash": "b3d61d91",
    "tags": []
   },
   "outputs": [
    {
     "data": {
      "text/plain": [
       "0.5"
      ]
     },
     "execution_count": 33,
     "metadata": {},
     "output_type": "execute_result"
    }
   ],
   "source": [
    "sigmoid(0)"
   ]
  },
  {
   "cell_type": "code",
   "execution_count": 34,
   "metadata": {
    "cell_id": "ac4adef8e8854fb5806404b7f903241f",
    "deepnote_cell_height": 118.1875,
    "deepnote_cell_type": "code",
    "deepnote_output_heights": [
     21.1875
    ],
    "deepnote_to_be_reexecuted": false,
    "execution_millis": 10,
    "execution_start": 1652474644077,
    "source_hash": "99d80e6a",
    "tags": []
   },
   "outputs": [
    {
     "data": {
      "text/plain": [
       "0.9999546021312976"
      ]
     },
     "execution_count": 34,
     "metadata": {},
     "output_type": "execute_result"
    }
   ],
   "source": [
    "sigmoid(10)"
   ]
  },
  {
   "cell_type": "code",
   "execution_count": 35,
   "metadata": {
    "cell_id": "35df143077cc4a48b3dc67c0bbbc8d6c",
    "deepnote_cell_height": 118.1875,
    "deepnote_cell_type": "code",
    "deepnote_output_heights": [
     21.1875
    ],
    "deepnote_to_be_reexecuted": false,
    "execution_millis": 798,
    "execution_start": 1652474718037,
    "source_hash": "cb73c151",
    "tags": []
   },
   "outputs": [
    {
     "data": {
      "text/plain": [
       "['flipper_length_mm', 'bill_length_mm']"
      ]
     },
     "execution_count": 35,
     "metadata": {},
     "output_type": "execute_result"
    }
   ],
   "source": [
    "cols"
   ]
  },
  {
   "cell_type": "code",
   "execution_count": 37,
   "metadata": {},
   "outputs": [
    {
     "data": {
      "text/plain": [
       "array([[-0.38263519,  1.17201067]])"
      ]
     },
     "execution_count": 37,
     "metadata": {},
     "output_type": "execute_result"
    }
   ],
   "source": [
    "clf.coef_"
   ]
  },
  {
   "cell_type": "markdown",
   "metadata": {},
   "source": [
    "Here we do array unpacking.  We have to use `[0]` because the array we want is inside another array."
   ]
  },
  {
   "cell_type": "code",
   "execution_count": 38,
   "metadata": {
    "cell_id": "05dc54883af34e2e98bf26c1558f9e8d",
    "deepnote_cell_height": 81,
    "deepnote_cell_type": "code",
    "deepnote_output_heights": [
     21.1875
    ],
    "deepnote_to_be_reexecuted": false,
    "execution_millis": 5,
    "execution_start": 1652474735677,
    "source_hash": "a7a70108",
    "tags": []
   },
   "outputs": [],
   "source": [
    "flip_coef, bill_coef = clf.coef_[0]"
   ]
  },
  {
   "cell_type": "markdown",
   "metadata": {},
   "source": [
    "Here we check that we saved the coefficient correctly."
   ]
  },
  {
   "cell_type": "code",
   "execution_count": 40,
   "metadata": {
    "cell_id": "7aac264e7fef4e96b59546f885e2fad5",
    "deepnote_cell_height": 118.1875,
    "deepnote_cell_type": "code",
    "deepnote_output_heights": [
     21.1875
    ],
    "deepnote_to_be_reexecuted": false,
    "execution_millis": 6,
    "execution_start": 1652474738888,
    "source_hash": "e44d3e79",
    "tags": []
   },
   "outputs": [
    {
     "data": {
      "text/plain": [
       "-0.3826351932141686"
      ]
     },
     "execution_count": 40,
     "metadata": {},
     "output_type": "execute_result"
    }
   ],
   "source": [
    "flip_coef"
   ]
  },
  {
   "cell_type": "markdown",
   "metadata": {},
   "source": [
    "What does our model predict if the flipper has length 200mm and the bill has length 50mm?"
   ]
  },
  {
   "cell_type": "code",
   "execution_count": 41,
   "metadata": {
    "cell_id": "f6f1f9a1352b449fb4419d7569e44157",
    "deepnote_cell_height": 99,
    "deepnote_cell_type": "code",
    "deepnote_to_be_reexecuted": false,
    "execution_millis": 33,
    "execution_start": 1652474783453,
    "source_hash": "91a7b770",
    "tags": []
   },
   "outputs": [],
   "source": [
    "flip = 200\n",
    "bill = 50"
   ]
  },
  {
   "cell_type": "markdown",
   "metadata": {},
   "source": [
    "Here is the value we want to input into the sigmoid function.  Because this next equation is a linear function (degree 1), that is why logistic regression is considered a linear model."
   ]
  },
  {
   "cell_type": "code",
   "execution_count": 43,
   "metadata": {
    "cell_id": "d4d9816efb7442649bf0a9b196f922ee",
    "deepnote_cell_height": 118.1875,
    "deepnote_cell_type": "code",
    "deepnote_output_heights": [
     21.1875
    ],
    "deepnote_to_be_reexecuted": false,
    "execution_millis": 17,
    "execution_start": 1652474805123,
    "source_hash": "65d42809",
    "tags": []
   },
   "outputs": [
    {
     "data": {
      "text/plain": [
       "array([3.00671389])"
      ]
     },
     "execution_count": 43,
     "metadata": {},
     "output_type": "execute_result"
    }
   ],
   "source": [
    "flip_coef*flip + bill_coef*bill + clf.intercept_"
   ]
  },
  {
   "cell_type": "markdown",
   "metadata": {},
   "source": [
    "Let's plug that number into the sigmoid."
   ]
  },
  {
   "cell_type": "code",
   "execution_count": 44,
   "metadata": {
    "cell_id": "b4439e471b644086817feef05e9a497a",
    "deepnote_cell_height": 118.1875,
    "deepnote_cell_type": "code",
    "deepnote_output_heights": [
     21.1875
    ],
    "deepnote_to_be_reexecuted": false,
    "execution_millis": 15,
    "execution_start": 1652474830958,
    "source_hash": "94ba9d79",
    "tags": []
   },
   "outputs": [
    {
     "data": {
      "text/plain": [
       "array([0.95287652])"
      ]
     },
     "execution_count": 44,
     "metadata": {},
     "output_type": "execute_result"
    }
   ],
   "source": [
    "sigmoid(flip_coef*flip + bill_coef*bill + clf.intercept_)"
   ]
  },
  {
   "cell_type": "markdown",
   "metadata": {},
   "source": [
    "We can interpret this as saying our model thinks our penguin has a 95.3% chance of being a Chinstrap penguin.  Do we get the same result using `clf.predict`?\n",
    "\n",
    "The following is a very common mistake.  We need to input something 2-dimensional, not something like a one-dimensional list."
   ]
  },
  {
   "cell_type": "code",
   "execution_count": 46,
   "metadata": {
    "cell_id": "15da8c12520c4148bfa1cf0c1650be85",
    "deepnote_cell_height": 271.890625,
    "deepnote_cell_type": "code",
    "deepnote_to_be_reexecuted": false,
    "execution_millis": 1385,
    "execution_start": 1652474918217,
    "source_hash": "71225a24",
    "tags": [
     "output_scroll"
    ]
   },
   "outputs": [
    {
     "name": "stderr",
     "output_type": "stream",
     "text": [
      "/Users/christopherdavis/miniconda3/envs/math10s22/lib/python3.7/site-packages/sklearn/base.py:451: UserWarning: X does not have valid feature names, but LogisticRegression was fitted with feature names\n",
      "  \"X does not have valid feature names, but\"\n"
     ]
    },
    {
     "ename": "ValueError",
     "evalue": "Expected 2D array, got 1D array instead:\narray=[200  50].\nReshape your data either using array.reshape(-1, 1) if your data has a single feature or array.reshape(1, -1) if it contains a single sample.",
     "output_type": "error",
     "traceback": [
      "\u001b[0;31m---------------------------------------------------------------------------\u001b[0m",
      "\u001b[0;31mValueError\u001b[0m                                Traceback (most recent call last)",
      "\u001b[0;32m/var/folders/8j/gshrlmtn7dg4qtztj4d4t_w40000gn/T/ipykernel_7435/2215702033.py\u001b[0m in \u001b[0;36m<module>\u001b[0;34m\u001b[0m\n\u001b[0;32m----> 1\u001b[0;31m \u001b[0mclf\u001b[0m\u001b[0;34m.\u001b[0m\u001b[0mpredict\u001b[0m\u001b[0;34m(\u001b[0m\u001b[0;34m[\u001b[0m\u001b[0mflip\u001b[0m\u001b[0;34m,\u001b[0m \u001b[0mbill\u001b[0m\u001b[0;34m]\u001b[0m\u001b[0;34m)\u001b[0m\u001b[0;34m\u001b[0m\u001b[0;34m\u001b[0m\u001b[0m\n\u001b[0m",
      "\u001b[0;32m~/miniconda3/envs/math10s22/lib/python3.7/site-packages/sklearn/linear_model/_base.py\u001b[0m in \u001b[0;36mpredict\u001b[0;34m(self, X)\u001b[0m\n\u001b[1;32m    423\u001b[0m             \u001b[0mVector\u001b[0m \u001b[0mcontaining\u001b[0m \u001b[0mthe\u001b[0m \u001b[0;32mclass\u001b[0m \u001b[0mlabels\u001b[0m \u001b[0;32mfor\u001b[0m \u001b[0meach\u001b[0m \u001b[0msample\u001b[0m\u001b[0;34m.\u001b[0m\u001b[0;34m\u001b[0m\u001b[0;34m\u001b[0m\u001b[0m\n\u001b[1;32m    424\u001b[0m         \"\"\"\n\u001b[0;32m--> 425\u001b[0;31m         \u001b[0mscores\u001b[0m \u001b[0;34m=\u001b[0m \u001b[0mself\u001b[0m\u001b[0;34m.\u001b[0m\u001b[0mdecision_function\u001b[0m\u001b[0;34m(\u001b[0m\u001b[0mX\u001b[0m\u001b[0;34m)\u001b[0m\u001b[0;34m\u001b[0m\u001b[0;34m\u001b[0m\u001b[0m\n\u001b[0m\u001b[1;32m    426\u001b[0m         \u001b[0;32mif\u001b[0m \u001b[0mlen\u001b[0m\u001b[0;34m(\u001b[0m\u001b[0mscores\u001b[0m\u001b[0;34m.\u001b[0m\u001b[0mshape\u001b[0m\u001b[0;34m)\u001b[0m \u001b[0;34m==\u001b[0m \u001b[0;36m1\u001b[0m\u001b[0;34m:\u001b[0m\u001b[0;34m\u001b[0m\u001b[0;34m\u001b[0m\u001b[0m\n\u001b[1;32m    427\u001b[0m             \u001b[0mindices\u001b[0m \u001b[0;34m=\u001b[0m \u001b[0;34m(\u001b[0m\u001b[0mscores\u001b[0m \u001b[0;34m>\u001b[0m \u001b[0;36m0\u001b[0m\u001b[0;34m)\u001b[0m\u001b[0;34m.\u001b[0m\u001b[0mastype\u001b[0m\u001b[0;34m(\u001b[0m\u001b[0mint\u001b[0m\u001b[0;34m)\u001b[0m\u001b[0;34m\u001b[0m\u001b[0;34m\u001b[0m\u001b[0m\n",
      "\u001b[0;32m~/miniconda3/envs/math10s22/lib/python3.7/site-packages/sklearn/linear_model/_base.py\u001b[0m in \u001b[0;36mdecision_function\u001b[0;34m(self, X)\u001b[0m\n\u001b[1;32m    405\u001b[0m         \u001b[0mcheck_is_fitted\u001b[0m\u001b[0;34m(\u001b[0m\u001b[0mself\u001b[0m\u001b[0;34m)\u001b[0m\u001b[0;34m\u001b[0m\u001b[0;34m\u001b[0m\u001b[0m\n\u001b[1;32m    406\u001b[0m \u001b[0;34m\u001b[0m\u001b[0m\n\u001b[0;32m--> 407\u001b[0;31m         \u001b[0mX\u001b[0m \u001b[0;34m=\u001b[0m \u001b[0mself\u001b[0m\u001b[0;34m.\u001b[0m\u001b[0m_validate_data\u001b[0m\u001b[0;34m(\u001b[0m\u001b[0mX\u001b[0m\u001b[0;34m,\u001b[0m \u001b[0maccept_sparse\u001b[0m\u001b[0;34m=\u001b[0m\u001b[0;34m\"csr\"\u001b[0m\u001b[0;34m,\u001b[0m \u001b[0mreset\u001b[0m\u001b[0;34m=\u001b[0m\u001b[0;32mFalse\u001b[0m\u001b[0;34m)\u001b[0m\u001b[0;34m\u001b[0m\u001b[0;34m\u001b[0m\u001b[0m\n\u001b[0m\u001b[1;32m    408\u001b[0m         \u001b[0mscores\u001b[0m \u001b[0;34m=\u001b[0m \u001b[0msafe_sparse_dot\u001b[0m\u001b[0;34m(\u001b[0m\u001b[0mX\u001b[0m\u001b[0;34m,\u001b[0m \u001b[0mself\u001b[0m\u001b[0;34m.\u001b[0m\u001b[0mcoef_\u001b[0m\u001b[0;34m.\u001b[0m\u001b[0mT\u001b[0m\u001b[0;34m,\u001b[0m \u001b[0mdense_output\u001b[0m\u001b[0;34m=\u001b[0m\u001b[0;32mTrue\u001b[0m\u001b[0;34m)\u001b[0m \u001b[0;34m+\u001b[0m \u001b[0mself\u001b[0m\u001b[0;34m.\u001b[0m\u001b[0mintercept_\u001b[0m\u001b[0;34m\u001b[0m\u001b[0;34m\u001b[0m\u001b[0m\n\u001b[1;32m    409\u001b[0m         \u001b[0;32mreturn\u001b[0m \u001b[0mscores\u001b[0m\u001b[0;34m.\u001b[0m\u001b[0mravel\u001b[0m\u001b[0;34m(\u001b[0m\u001b[0;34m)\u001b[0m \u001b[0;32mif\u001b[0m \u001b[0mscores\u001b[0m\u001b[0;34m.\u001b[0m\u001b[0mshape\u001b[0m\u001b[0;34m[\u001b[0m\u001b[0;36m1\u001b[0m\u001b[0;34m]\u001b[0m \u001b[0;34m==\u001b[0m \u001b[0;36m1\u001b[0m \u001b[0;32melse\u001b[0m \u001b[0mscores\u001b[0m\u001b[0;34m\u001b[0m\u001b[0;34m\u001b[0m\u001b[0m\n",
      "\u001b[0;32m~/miniconda3/envs/math10s22/lib/python3.7/site-packages/sklearn/base.py\u001b[0m in \u001b[0;36m_validate_data\u001b[0;34m(self, X, y, reset, validate_separately, **check_params)\u001b[0m\n\u001b[1;32m    564\u001b[0m             \u001b[0;32mraise\u001b[0m \u001b[0mValueError\u001b[0m\u001b[0;34m(\u001b[0m\u001b[0;34m\"Validation should be done on X, y or both.\"\u001b[0m\u001b[0;34m)\u001b[0m\u001b[0;34m\u001b[0m\u001b[0;34m\u001b[0m\u001b[0m\n\u001b[1;32m    565\u001b[0m         \u001b[0;32melif\u001b[0m \u001b[0;32mnot\u001b[0m \u001b[0mno_val_X\u001b[0m \u001b[0;32mand\u001b[0m \u001b[0mno_val_y\u001b[0m\u001b[0;34m:\u001b[0m\u001b[0;34m\u001b[0m\u001b[0;34m\u001b[0m\u001b[0m\n\u001b[0;32m--> 566\u001b[0;31m             \u001b[0mX\u001b[0m \u001b[0;34m=\u001b[0m \u001b[0mcheck_array\u001b[0m\u001b[0;34m(\u001b[0m\u001b[0mX\u001b[0m\u001b[0;34m,\u001b[0m \u001b[0;34m**\u001b[0m\u001b[0mcheck_params\u001b[0m\u001b[0;34m)\u001b[0m\u001b[0;34m\u001b[0m\u001b[0;34m\u001b[0m\u001b[0m\n\u001b[0m\u001b[1;32m    567\u001b[0m             \u001b[0mout\u001b[0m \u001b[0;34m=\u001b[0m \u001b[0mX\u001b[0m\u001b[0;34m\u001b[0m\u001b[0;34m\u001b[0m\u001b[0m\n\u001b[1;32m    568\u001b[0m         \u001b[0;32melif\u001b[0m \u001b[0mno_val_X\u001b[0m \u001b[0;32mand\u001b[0m \u001b[0;32mnot\u001b[0m \u001b[0mno_val_y\u001b[0m\u001b[0;34m:\u001b[0m\u001b[0;34m\u001b[0m\u001b[0;34m\u001b[0m\u001b[0m\n",
      "\u001b[0;32m~/miniconda3/envs/math10s22/lib/python3.7/site-packages/sklearn/utils/validation.py\u001b[0m in \u001b[0;36mcheck_array\u001b[0;34m(array, accept_sparse, accept_large_sparse, dtype, order, copy, force_all_finite, ensure_2d, allow_nd, ensure_min_samples, ensure_min_features, estimator)\u001b[0m\n\u001b[1;32m    771\u001b[0m                     \u001b[0;34m\"Reshape your data either using array.reshape(-1, 1) if \"\u001b[0m\u001b[0;34m\u001b[0m\u001b[0;34m\u001b[0m\u001b[0m\n\u001b[1;32m    772\u001b[0m                     \u001b[0;34m\"your data has a single feature or array.reshape(1, -1) \"\u001b[0m\u001b[0;34m\u001b[0m\u001b[0;34m\u001b[0m\u001b[0m\n\u001b[0;32m--> 773\u001b[0;31m                     \u001b[0;34m\"if it contains a single sample.\"\u001b[0m\u001b[0;34m.\u001b[0m\u001b[0mformat\u001b[0m\u001b[0;34m(\u001b[0m\u001b[0marray\u001b[0m\u001b[0;34m)\u001b[0m\u001b[0;34m\u001b[0m\u001b[0;34m\u001b[0m\u001b[0m\n\u001b[0m\u001b[1;32m    774\u001b[0m                 )\n\u001b[1;32m    775\u001b[0m \u001b[0;34m\u001b[0m\u001b[0m\n",
      "\u001b[0;31mValueError\u001b[0m: Expected 2D array, got 1D array instead:\narray=[200  50].\nReshape your data either using array.reshape(-1, 1) if your data has a single feature or array.reshape(1, -1) if it contains a single sample."
     ]
    }
   ],
   "source": [
    "clf.predict([flip, bill])"
   ]
  },
  {
   "cell_type": "markdown",
   "metadata": {},
   "source": [
    "Here we still get a warning (because our original DataFrame had column names but here we are not using column names), but the computation executes fine.\n",
    "\n",
    "We get the output of `True`, which matches our 95.3% confidence, but how do we know our computation was correct?"
   ]
  },
  {
   "cell_type": "code",
   "execution_count": 48,
   "metadata": {
    "cell_id": "e7bdb67bd37b429781bb82271e5eb253",
    "deepnote_cell_height": 188.28125,
    "deepnote_cell_type": "code",
    "deepnote_output_heights": [
     null,
     21.1875
    ],
    "deepnote_to_be_reexecuted": false,
    "execution_millis": 4,
    "execution_start": 1652474942396,
    "source_hash": "236d4249",
    "tags": []
   },
   "outputs": [
    {
     "name": "stderr",
     "output_type": "stream",
     "text": [
      "/Users/christopherdavis/miniconda3/envs/math10s22/lib/python3.7/site-packages/sklearn/base.py:451: UserWarning: X does not have valid feature names, but LogisticRegression was fitted with feature names\n",
      "  \"X does not have valid feature names, but\"\n"
     ]
    },
    {
     "data": {
      "text/plain": [
       "array([ True])"
      ]
     },
     "execution_count": 48,
     "metadata": {},
     "output_type": "execute_result"
    }
   ],
   "source": [
    "clf.predict([[flip, bill]])"
   ]
  },
  {
   "cell_type": "markdown",
   "metadata": {},
   "source": [
    "We can use `predict_proba` to see that same `0.95287652` value.  It corresponds to the probability of `Chinstrap`.  The other displayed number is the probability of the penguin not being a Chinstrap."
   ]
  },
  {
   "cell_type": "code",
   "execution_count": 49,
   "metadata": {
    "cell_id": "d1401e659f4e47658eab61249bd4964f",
    "deepnote_cell_height": 188.28125,
    "deepnote_cell_type": "code",
    "deepnote_output_heights": [
     null,
     21.1875
    ],
    "deepnote_to_be_reexecuted": false,
    "execution_millis": 26,
    "execution_start": 1652474961843,
    "source_hash": "9a2ab609",
    "tags": []
   },
   "outputs": [
    {
     "name": "stderr",
     "output_type": "stream",
     "text": [
      "/Users/christopherdavis/miniconda3/envs/math10s22/lib/python3.7/site-packages/sklearn/base.py:451: UserWarning: X does not have valid feature names, but LogisticRegression was fitted with feature names\n",
      "  \"X does not have valid feature names, but\"\n"
     ]
    },
    {
     "data": {
      "text/plain": [
       "array([[0.04712348, 0.95287652]])"
      ]
     },
     "execution_count": 49,
     "metadata": {},
     "output_type": "execute_result"
    }
   ],
   "source": [
    "clf.predict_proba([[flip, bill]])"
   ]
  }
 ],
 "metadata": {
  "deepnote": {},
  "deepnote_execution_queue": [],
  "deepnote_notebook_id": "1c5bc762-2921-49d9-8424-b5971d62b58d",
  "kernelspec": {
   "display_name": "Python 3 (ipykernel)",
   "language": "python",
   "name": "python3"
  },
  "language_info": {
   "codemirror_mode": {
    "name": "ipython",
    "version": 3
   },
   "file_extension": ".py",
   "mimetype": "text/x-python",
   "name": "python",
   "nbconvert_exporter": "python",
   "pygments_lexer": "ipython3",
   "version": "3.7.12"
  }
 },
 "nbformat": 4,
 "nbformat_minor": 4
}
