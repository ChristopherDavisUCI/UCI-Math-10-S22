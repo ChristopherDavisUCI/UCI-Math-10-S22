{
 "cells": [
  {
   "cell_type": "markdown",
   "metadata": {
    "cell_id": "1b4d57c2-f5f3-4c7a-afac-82c62cce8a4a",
    "deepnote_cell_height": 82,
    "deepnote_cell_type": "markdown",
    "tags": []
   },
   "source": [
    "# Performance measures for machine learning"
   ]
  },
  {
   "cell_type": "code",
   "execution_count": 2,
   "metadata": {
    "cell_id": "0767a8724c064b3c9fe7629f883ef1bb",
    "deepnote_cell_height": 99,
    "deepnote_cell_type": "code",
    "deepnote_to_be_reexecuted": false,
    "execution_millis": 375,
    "execution_start": 1652126071527,
    "source_hash": "46e6bd77",
    "tags": []
   },
   "outputs": [],
   "source": [
    "import pandas as pd\n",
    "import altair as alt"
   ]
  },
  {
   "cell_type": "markdown",
   "metadata": {
    "cell_id": "b9f4da646c72486d806dfe7a401479a6",
    "deepnote_cell_height": 251.375,
    "deepnote_cell_type": "markdown",
    "tags": []
   },
   "source": [
    "## Warm-up question\n",
    "\n",
    "Here is a dataset with only 4 data points.  Which of the following linear models better fits the data?\n",
    "* Line A: $f(x) = 2x$\n",
    "* Line B: $g(x) = -2$\n",
    "\n",
    "Start out by plotting both of these lines, together with the data, on the domain $(-2,5)$."
   ]
  },
  {
   "cell_type": "code",
   "execution_count": 3,
   "metadata": {
    "cell_id": "9a2b105cc24a4ec49c4bd26e332c3303",
    "deepnote_cell_height": 390,
    "deepnote_cell_type": "code",
    "deepnote_to_be_reexecuted": false,
    "execution_millis": 7,
    "execution_start": 1652126547245,
    "source_hash": "1a222795",
    "tags": []
   },
   "outputs": [
    {
     "data": {
      "text/html": [
       "<div>\n",
       "<style scoped>\n",
       "    .dataframe tbody tr th:only-of-type {\n",
       "        vertical-align: middle;\n",
       "    }\n",
       "\n",
       "    .dataframe tbody tr th {\n",
       "        vertical-align: top;\n",
       "    }\n",
       "\n",
       "    .dataframe thead th {\n",
       "        text-align: right;\n",
       "    }\n",
       "</style>\n",
       "<table border=\"1\" class=\"dataframe\">\n",
       "  <thead>\n",
       "    <tr style=\"text-align: right;\">\n",
       "      <th></th>\n",
       "      <th>x</th>\n",
       "      <th>y</th>\n",
       "    </tr>\n",
       "  </thead>\n",
       "  <tbody>\n",
       "    <tr>\n",
       "      <th>0</th>\n",
       "      <td>0</td>\n",
       "      <td>0</td>\n",
       "    </tr>\n",
       "    <tr>\n",
       "      <th>1</th>\n",
       "      <td>1</td>\n",
       "      <td>2</td>\n",
       "    </tr>\n",
       "    <tr>\n",
       "      <th>2</th>\n",
       "      <td>2</td>\n",
       "      <td>-10</td>\n",
       "    </tr>\n",
       "    <tr>\n",
       "      <th>3</th>\n",
       "      <td>3</td>\n",
       "      <td>6</td>\n",
       "    </tr>\n",
       "  </tbody>\n",
       "</table>\n",
       "</div>"
      ],
      "text/plain": [
       "   x   y\n",
       "0  0   0\n",
       "1  1   2\n",
       "2  2 -10\n",
       "3  3   6"
      ]
     },
     "execution_count": 3,
     "metadata": {},
     "output_type": "execute_result"
    }
   ],
   "source": [
    "df = pd.DataFrame({\"x\":range(4), \"y\":[0,2,-10,6]})\n",
    "\n",
    "df"
   ]
  },
  {
   "cell_type": "code",
   "execution_count": 4,
   "metadata": {
    "cell_id": "ea48b83558e947f28e94f1863030bc4c",
    "deepnote_cell_height": 548,
    "deepnote_cell_type": "code",
    "deepnote_output_heights": [
     361
    ],
    "deepnote_to_be_reexecuted": false,
    "execution_millis": 4,
    "execution_start": 1652126577184,
    "source_hash": "8ec8dfa7",
    "tags": []
   },
   "outputs": [
    {
     "data": {
      "text/html": [
       "\n",
       "<div id=\"altair-viz-47389a101d5f4bf29f7287d7a0b76bf3\"></div>\n",
       "<script type=\"text/javascript\">\n",
       "  var VEGA_DEBUG = (typeof VEGA_DEBUG == \"undefined\") ? {} : VEGA_DEBUG;\n",
       "  (function(spec, embedOpt){\n",
       "    let outputDiv = document.currentScript.previousElementSibling;\n",
       "    if (outputDiv.id !== \"altair-viz-47389a101d5f4bf29f7287d7a0b76bf3\") {\n",
       "      outputDiv = document.getElementById(\"altair-viz-47389a101d5f4bf29f7287d7a0b76bf3\");\n",
       "    }\n",
       "    const paths = {\n",
       "      \"vega\": \"https://cdn.jsdelivr.net/npm//vega@5?noext\",\n",
       "      \"vega-lib\": \"https://cdn.jsdelivr.net/npm//vega-lib?noext\",\n",
       "      \"vega-lite\": \"https://cdn.jsdelivr.net/npm//vega-lite@4.17.0?noext\",\n",
       "      \"vega-embed\": \"https://cdn.jsdelivr.net/npm//vega-embed@6?noext\",\n",
       "    };\n",
       "\n",
       "    function maybeLoadScript(lib, version) {\n",
       "      var key = `${lib.replace(\"-\", \"\")}_version`;\n",
       "      return (VEGA_DEBUG[key] == version) ?\n",
       "        Promise.resolve(paths[lib]) :\n",
       "        new Promise(function(resolve, reject) {\n",
       "          var s = document.createElement('script');\n",
       "          document.getElementsByTagName(\"head\")[0].appendChild(s);\n",
       "          s.async = true;\n",
       "          s.onload = () => {\n",
       "            VEGA_DEBUG[key] = version;\n",
       "            return resolve(paths[lib]);\n",
       "          };\n",
       "          s.onerror = () => reject(`Error loading script: ${paths[lib]}`);\n",
       "          s.src = paths[lib];\n",
       "        });\n",
       "    }\n",
       "\n",
       "    function showError(err) {\n",
       "      outputDiv.innerHTML = `<div class=\"error\" style=\"color:red;\">${err}</div>`;\n",
       "      throw err;\n",
       "    }\n",
       "\n",
       "    function displayChart(vegaEmbed) {\n",
       "      vegaEmbed(outputDiv, spec, embedOpt)\n",
       "        .catch(err => showError(`Javascript Error: ${err.message}<br>This usually means there's a typo in your chart specification. See the javascript console for the full traceback.`));\n",
       "    }\n",
       "\n",
       "    if(typeof define === \"function\" && define.amd) {\n",
       "      requirejs.config({paths});\n",
       "      require([\"vega-embed\"], displayChart, err => showError(`Error loading script: ${err.message}`));\n",
       "    } else {\n",
       "      maybeLoadScript(\"vega\", \"5\")\n",
       "        .then(() => maybeLoadScript(\"vega-lite\", \"4.17.0\"))\n",
       "        .then(() => maybeLoadScript(\"vega-embed\", \"6\"))\n",
       "        .catch(showError)\n",
       "        .then(() => displayChart(vegaEmbed));\n",
       "    }\n",
       "  })({\"config\": {\"view\": {\"continuousWidth\": 400, \"continuousHeight\": 300}}, \"data\": {\"name\": \"data-dd2f37c2feb906cd9c4f4b68fb9fb7ee\"}, \"mark\": {\"type\": \"circle\", \"size\": 100}, \"encoding\": {\"x\": {\"field\": \"x\", \"type\": \"quantitative\"}, \"y\": {\"field\": \"y\", \"type\": \"quantitative\"}}, \"$schema\": \"https://vega.github.io/schema/vega-lite/v4.17.0.json\", \"datasets\": {\"data-dd2f37c2feb906cd9c4f4b68fb9fb7ee\": [{\"x\": 0, \"y\": 0}, {\"x\": 1, \"y\": 2}, {\"x\": 2, \"y\": -10}, {\"x\": 3, \"y\": 6}]}}, {\"mode\": \"vega-lite\"});\n",
       "</script>"
      ],
      "text/plain": [
       "alt.Chart(...)"
      ]
     },
     "execution_count": 4,
     "metadata": {},
     "output_type": "execute_result"
    }
   ],
   "source": [
    "c = alt.Chart(df).mark_circle(size=100).encode(\n",
    "    x=\"x\",\n",
    "    y=\"y\"\n",
    ")\n",
    "\n",
    "c"
   ]
  },
  {
   "cell_type": "code",
   "execution_count": 5,
   "metadata": {
    "cell_id": "10f4b810a39b4f3682d26f9e564d2ef0",
    "deepnote_cell_height": 117,
    "deepnote_cell_type": "code",
    "deepnote_to_be_reexecuted": false,
    "execution_millis": 1,
    "execution_start": 1652126652276,
    "source_hash": "8fdb2c92",
    "tags": []
   },
   "outputs": [],
   "source": [
    "df_line = pd.DataFrame({\"x\":[-2,5]})\n",
    "df_lineA = df_line.copy()\n",
    "df_lineB = df_line.copy()"
   ]
  },
  {
   "cell_type": "markdown",
   "metadata": {},
   "source": [
    "We could define a function like the following (and this is the best way if the function has a complex definition)."
   ]
  },
  {
   "cell_type": "code",
   "execution_count": 6,
   "metadata": {
    "cell_id": "9a5eccdd8150488aa3b3eb30ff1d7309",
    "deepnote_cell_height": 99,
    "deepnote_cell_type": "code",
    "deepnote_to_be_reexecuted": false,
    "execution_millis": 5,
    "execution_start": 1652126688429,
    "source_hash": "53dce922",
    "tags": []
   },
   "outputs": [],
   "source": [
    "def f(x):\n",
    "    return 2*x"
   ]
  },
  {
   "cell_type": "code",
   "execution_count": 7,
   "metadata": {
    "cell_id": "1b9fc5c7ad9f410db0b0d855456f718b",
    "deepnote_cell_height": 118.1875,
    "deepnote_cell_type": "code",
    "deepnote_output_heights": [
     21.1875
    ],
    "deepnote_to_be_reexecuted": false,
    "execution_millis": 10,
    "execution_start": 1652126692180,
    "source_hash": "8ad7afe6",
    "tags": []
   },
   "outputs": [
    {
     "data": {
      "text/plain": [
       "20"
      ]
     },
     "execution_count": 7,
     "metadata": {},
     "output_type": "execute_result"
    }
   ],
   "source": [
    "f(10)"
   ]
  },
  {
   "cell_type": "markdown",
   "metadata": {},
   "source": [
    "For such a simple function, it is better to use a lambda function."
   ]
  },
  {
   "cell_type": "code",
   "execution_count": 8,
   "metadata": {
    "cell_id": "c5b815685152450a9e0ec5425ecbee8f",
    "deepnote_cell_height": 81,
    "deepnote_cell_type": "code",
    "deepnote_to_be_reexecuted": false,
    "execution_millis": 1,
    "execution_start": 1652126746486,
    "source_hash": "ede3e40f",
    "tags": []
   },
   "outputs": [],
   "source": [
    "f = lambda x: 2*x"
   ]
  },
  {
   "cell_type": "code",
   "execution_count": 9,
   "metadata": {
    "cell_id": "8cf8c2e0496346efb06022514d290ceb",
    "deepnote_cell_height": 118.1875,
    "deepnote_cell_type": "code",
    "deepnote_output_heights": [
     21.1875
    ],
    "deepnote_to_be_reexecuted": false,
    "execution_millis": 349,
    "execution_start": 1652126754071,
    "source_hash": "8ad7afe6",
    "tags": []
   },
   "outputs": [
    {
     "data": {
      "text/plain": [
       "20"
      ]
     },
     "execution_count": 9,
     "metadata": {},
     "output_type": "execute_result"
    }
   ],
   "source": [
    "f(10)"
   ]
  },
  {
   "cell_type": "code",
   "execution_count": 10,
   "metadata": {
    "cell_id": "4f03470ea59246c19659269431d3efb0",
    "deepnote_cell_height": 118.1875,
    "deepnote_cell_type": "code",
    "deepnote_output_heights": [
     21.1875
    ],
    "deepnote_to_be_reexecuted": false,
    "execution_millis": 5,
    "execution_start": 1652126806169,
    "source_hash": "b56ff56a",
    "tags": []
   },
   "outputs": [
    {
     "data": {
      "text/plain": [
       "function"
      ]
     },
     "execution_count": 10,
     "metadata": {},
     "output_type": "execute_result"
    }
   ],
   "source": [
    "type(f)"
   ]
  },
  {
   "cell_type": "markdown",
   "metadata": {},
   "source": [
    "Now we do the same thing for our other model.  This is a constant function that always outputs -2."
   ]
  },
  {
   "cell_type": "code",
   "execution_count": 11,
   "metadata": {
    "cell_id": "d40be7241fe64e27a5409399a883b649",
    "deepnote_cell_height": 81,
    "deepnote_cell_type": "code",
    "deepnote_to_be_reexecuted": false,
    "execution_millis": 1,
    "execution_start": 1652126835029,
    "source_hash": "ff0f5654",
    "tags": []
   },
   "outputs": [],
   "source": [
    "g = lambda x: -2"
   ]
  },
  {
   "cell_type": "code",
   "execution_count": 12,
   "metadata": {
    "cell_id": "fefc4b8b2055495488e240c984940f7f",
    "deepnote_cell_height": 118.1875,
    "deepnote_cell_type": "code",
    "deepnote_output_heights": [
     21.1875
    ],
    "deepnote_to_be_reexecuted": false,
    "execution_millis": 4,
    "execution_start": 1652126861043,
    "source_hash": "df0abb43",
    "tags": []
   },
   "outputs": [
    {
     "data": {
      "text/plain": [
       "-2"
      ]
     },
     "execution_count": 12,
     "metadata": {},
     "output_type": "execute_result"
    }
   ],
   "source": [
    "g(7)"
   ]
  },
  {
   "cell_type": "code",
   "execution_count": 13,
   "metadata": {
    "cell_id": "4f473f2339c444af8b4ac12304baf079",
    "deepnote_cell_height": 272,
    "deepnote_cell_type": "code",
    "deepnote_to_be_reexecuted": false,
    "execution_millis": 7,
    "execution_start": 1652126888523,
    "source_hash": "e66c7b48",
    "tags": []
   },
   "outputs": [
    {
     "data": {
      "text/html": [
       "<div>\n",
       "<style scoped>\n",
       "    .dataframe tbody tr th:only-of-type {\n",
       "        vertical-align: middle;\n",
       "    }\n",
       "\n",
       "    .dataframe tbody tr th {\n",
       "        vertical-align: top;\n",
       "    }\n",
       "\n",
       "    .dataframe thead th {\n",
       "        text-align: right;\n",
       "    }\n",
       "</style>\n",
       "<table border=\"1\" class=\"dataframe\">\n",
       "  <thead>\n",
       "    <tr style=\"text-align: right;\">\n",
       "      <th></th>\n",
       "      <th>x</th>\n",
       "    </tr>\n",
       "  </thead>\n",
       "  <tbody>\n",
       "    <tr>\n",
       "      <th>0</th>\n",
       "      <td>-2</td>\n",
       "    </tr>\n",
       "    <tr>\n",
       "      <th>1</th>\n",
       "      <td>5</td>\n",
       "    </tr>\n",
       "  </tbody>\n",
       "</table>\n",
       "</div>"
      ],
      "text/plain": [
       "   x\n",
       "0 -2\n",
       "1  5"
      ]
     },
     "execution_count": 13,
     "metadata": {},
     "output_type": "execute_result"
    }
   ],
   "source": [
    "df_lineA"
   ]
  },
  {
   "cell_type": "markdown",
   "metadata": {},
   "source": [
    "An alternative to the following would be `df_lineA[\"y\"] = f(df_lineA[\"x\"])`, but I think the following way is more intuitive."
   ]
  },
  {
   "cell_type": "code",
   "execution_count": 14,
   "metadata": {
    "cell_id": "e0c116f7ce92404f8f03ac83bbee390a",
    "deepnote_cell_height": 81,
    "deepnote_cell_type": "code",
    "deepnote_to_be_reexecuted": false,
    "execution_millis": 1,
    "execution_start": 1652126947649,
    "source_hash": "d2010450",
    "tags": []
   },
   "outputs": [],
   "source": [
    "df_lineA[\"y\"] = df_lineA[\"x\"].map(f)"
   ]
  },
  {
   "cell_type": "code",
   "execution_count": 15,
   "metadata": {
    "cell_id": "f4a17a138e7841b9a4958a27230097c5",
    "deepnote_cell_height": 272,
    "deepnote_cell_type": "code",
    "deepnote_to_be_reexecuted": false,
    "execution_millis": 7,
    "execution_start": 1652126952805,
    "source_hash": "e66c7b48",
    "tags": []
   },
   "outputs": [
    {
     "data": {
      "text/html": [
       "<div>\n",
       "<style scoped>\n",
       "    .dataframe tbody tr th:only-of-type {\n",
       "        vertical-align: middle;\n",
       "    }\n",
       "\n",
       "    .dataframe tbody tr th {\n",
       "        vertical-align: top;\n",
       "    }\n",
       "\n",
       "    .dataframe thead th {\n",
       "        text-align: right;\n",
       "    }\n",
       "</style>\n",
       "<table border=\"1\" class=\"dataframe\">\n",
       "  <thead>\n",
       "    <tr style=\"text-align: right;\">\n",
       "      <th></th>\n",
       "      <th>x</th>\n",
       "      <th>y</th>\n",
       "    </tr>\n",
       "  </thead>\n",
       "  <tbody>\n",
       "    <tr>\n",
       "      <th>0</th>\n",
       "      <td>-2</td>\n",
       "      <td>-4</td>\n",
       "    </tr>\n",
       "    <tr>\n",
       "      <th>1</th>\n",
       "      <td>5</td>\n",
       "      <td>10</td>\n",
       "    </tr>\n",
       "  </tbody>\n",
       "</table>\n",
       "</div>"
      ],
      "text/plain": [
       "   x   y\n",
       "0 -2  -4\n",
       "1  5  10"
      ]
     },
     "execution_count": 15,
     "metadata": {},
     "output_type": "execute_result"
    }
   ],
   "source": [
    "df_lineA"
   ]
  },
  {
   "cell_type": "code",
   "execution_count": 16,
   "metadata": {
    "cell_id": "6e6f53fd913849baa0cece06c4460b5b",
    "deepnote_cell_height": 81,
    "deepnote_cell_type": "code",
    "deepnote_to_be_reexecuted": false,
    "execution_millis": 0,
    "execution_start": 1652127033362,
    "source_hash": "81ce3125",
    "tags": []
   },
   "outputs": [],
   "source": [
    "df_lineB[\"y\"] = df_lineB[\"x\"].map(g)"
   ]
  },
  {
   "cell_type": "code",
   "execution_count": 17,
   "metadata": {
    "cell_id": "a21586762f6d49d49b7eec7b72d40749",
    "deepnote_cell_height": 272,
    "deepnote_cell_type": "code",
    "deepnote_to_be_reexecuted": false,
    "execution_millis": 3,
    "execution_start": 1652127035924,
    "source_hash": "be7f84de",
    "tags": []
   },
   "outputs": [
    {
     "data": {
      "text/html": [
       "<div>\n",
       "<style scoped>\n",
       "    .dataframe tbody tr th:only-of-type {\n",
       "        vertical-align: middle;\n",
       "    }\n",
       "\n",
       "    .dataframe tbody tr th {\n",
       "        vertical-align: top;\n",
       "    }\n",
       "\n",
       "    .dataframe thead th {\n",
       "        text-align: right;\n",
       "    }\n",
       "</style>\n",
       "<table border=\"1\" class=\"dataframe\">\n",
       "  <thead>\n",
       "    <tr style=\"text-align: right;\">\n",
       "      <th></th>\n",
       "      <th>x</th>\n",
       "      <th>y</th>\n",
       "    </tr>\n",
       "  </thead>\n",
       "  <tbody>\n",
       "    <tr>\n",
       "      <th>0</th>\n",
       "      <td>-2</td>\n",
       "      <td>-2</td>\n",
       "    </tr>\n",
       "    <tr>\n",
       "      <th>1</th>\n",
       "      <td>5</td>\n",
       "      <td>-2</td>\n",
       "    </tr>\n",
       "  </tbody>\n",
       "</table>\n",
       "</div>"
      ],
      "text/plain": [
       "   x  y\n",
       "0 -2 -2\n",
       "1  5 -2"
      ]
     },
     "execution_count": 17,
     "metadata": {},
     "output_type": "execute_result"
    }
   ],
   "source": [
    "df_lineB"
   ]
  },
  {
   "cell_type": "code",
   "execution_count": 18,
   "metadata": {
    "cell_id": "184093bed49847e68d4119cfddb3831e",
    "deepnote_cell_height": 135,
    "deepnote_cell_type": "code",
    "deepnote_to_be_reexecuted": false,
    "execution_millis": 4,
    "execution_start": 1652127120163,
    "source_hash": "7fe76c24",
    "tags": []
   },
   "outputs": [],
   "source": [
    "c_lineA = alt.Chart(df_lineA).mark_line(color=\"red\").encode(\n",
    "    x=\"x\",\n",
    "    y=\"y\"\n",
    ")"
   ]
  },
  {
   "cell_type": "code",
   "execution_count": 19,
   "metadata": {
    "cell_id": "b11cb001a6ec4e038463ab9dc4331692",
    "deepnote_cell_height": 135,
    "deepnote_cell_type": "code",
    "deepnote_output_heights": [
     361
    ],
    "deepnote_to_be_reexecuted": false,
    "execution_millis": 7,
    "execution_start": 1652127165570,
    "source_hash": "e0b1997d",
    "tags": []
   },
   "outputs": [],
   "source": [
    "c_lineB = alt.Chart(df_lineB).mark_line(color=\"black\").encode(\n",
    "    x=\"x\",\n",
    "    y=\"y\"\n",
    ")"
   ]
  },
  {
   "cell_type": "markdown",
   "metadata": {
    "cell_id": "de4b14f14ed34db8820bb4c509fa6436",
    "deepnote_cell_height": 52.390625,
    "deepnote_cell_type": "markdown",
    "tags": []
   },
   "source": [
    "Looking at the two models in the following picture, which do you think fits the data better?"
   ]
  },
  {
   "cell_type": "code",
   "execution_count": 20,
   "metadata": {
    "cell_id": "041b9ea478d84d24bdc51be531535384",
    "deepnote_cell_height": 458,
    "deepnote_cell_type": "code",
    "deepnote_output_heights": [
     361
    ],
    "deepnote_to_be_reexecuted": false,
    "execution_millis": 635,
    "execution_start": 1652127189452,
    "source_hash": "69ef46f9",
    "tags": []
   },
   "outputs": [
    {
     "data": {
      "text/html": [
       "\n",
       "<div id=\"altair-viz-c2f4ab55bd0f458b8aba77a237f10fe3\"></div>\n",
       "<script type=\"text/javascript\">\n",
       "  var VEGA_DEBUG = (typeof VEGA_DEBUG == \"undefined\") ? {} : VEGA_DEBUG;\n",
       "  (function(spec, embedOpt){\n",
       "    let outputDiv = document.currentScript.previousElementSibling;\n",
       "    if (outputDiv.id !== \"altair-viz-c2f4ab55bd0f458b8aba77a237f10fe3\") {\n",
       "      outputDiv = document.getElementById(\"altair-viz-c2f4ab55bd0f458b8aba77a237f10fe3\");\n",
       "    }\n",
       "    const paths = {\n",
       "      \"vega\": \"https://cdn.jsdelivr.net/npm//vega@5?noext\",\n",
       "      \"vega-lib\": \"https://cdn.jsdelivr.net/npm//vega-lib?noext\",\n",
       "      \"vega-lite\": \"https://cdn.jsdelivr.net/npm//vega-lite@4.17.0?noext\",\n",
       "      \"vega-embed\": \"https://cdn.jsdelivr.net/npm//vega-embed@6?noext\",\n",
       "    };\n",
       "\n",
       "    function maybeLoadScript(lib, version) {\n",
       "      var key = `${lib.replace(\"-\", \"\")}_version`;\n",
       "      return (VEGA_DEBUG[key] == version) ?\n",
       "        Promise.resolve(paths[lib]) :\n",
       "        new Promise(function(resolve, reject) {\n",
       "          var s = document.createElement('script');\n",
       "          document.getElementsByTagName(\"head\")[0].appendChild(s);\n",
       "          s.async = true;\n",
       "          s.onload = () => {\n",
       "            VEGA_DEBUG[key] = version;\n",
       "            return resolve(paths[lib]);\n",
       "          };\n",
       "          s.onerror = () => reject(`Error loading script: ${paths[lib]}`);\n",
       "          s.src = paths[lib];\n",
       "        });\n",
       "    }\n",
       "\n",
       "    function showError(err) {\n",
       "      outputDiv.innerHTML = `<div class=\"error\" style=\"color:red;\">${err}</div>`;\n",
       "      throw err;\n",
       "    }\n",
       "\n",
       "    function displayChart(vegaEmbed) {\n",
       "      vegaEmbed(outputDiv, spec, embedOpt)\n",
       "        .catch(err => showError(`Javascript Error: ${err.message}<br>This usually means there's a typo in your chart specification. See the javascript console for the full traceback.`));\n",
       "    }\n",
       "\n",
       "    if(typeof define === \"function\" && define.amd) {\n",
       "      requirejs.config({paths});\n",
       "      require([\"vega-embed\"], displayChart, err => showError(`Error loading script: ${err.message}`));\n",
       "    } else {\n",
       "      maybeLoadScript(\"vega\", \"5\")\n",
       "        .then(() => maybeLoadScript(\"vega-lite\", \"4.17.0\"))\n",
       "        .then(() => maybeLoadScript(\"vega-embed\", \"6\"))\n",
       "        .catch(showError)\n",
       "        .then(() => displayChart(vegaEmbed));\n",
       "    }\n",
       "  })({\"config\": {\"view\": {\"continuousWidth\": 400, \"continuousHeight\": 300}}, \"layer\": [{\"data\": {\"name\": \"data-dd2f37c2feb906cd9c4f4b68fb9fb7ee\"}, \"mark\": {\"type\": \"circle\", \"size\": 100}, \"encoding\": {\"x\": {\"field\": \"x\", \"type\": \"quantitative\"}, \"y\": {\"field\": \"y\", \"type\": \"quantitative\"}}}, {\"data\": {\"name\": \"data-9a6efddf19aed0a5723b37463db9303c\"}, \"mark\": {\"type\": \"line\", \"color\": \"red\"}, \"encoding\": {\"x\": {\"field\": \"x\", \"type\": \"quantitative\"}, \"y\": {\"field\": \"y\", \"type\": \"quantitative\"}}}, {\"data\": {\"name\": \"data-4d5b20bb77f86f070c9ed7766fe98b65\"}, \"mark\": {\"type\": \"line\", \"color\": \"black\"}, \"encoding\": {\"x\": {\"field\": \"x\", \"type\": \"quantitative\"}, \"y\": {\"field\": \"y\", \"type\": \"quantitative\"}}}], \"$schema\": \"https://vega.github.io/schema/vega-lite/v4.17.0.json\", \"datasets\": {\"data-dd2f37c2feb906cd9c4f4b68fb9fb7ee\": [{\"x\": 0, \"y\": 0}, {\"x\": 1, \"y\": 2}, {\"x\": 2, \"y\": -10}, {\"x\": 3, \"y\": 6}], \"data-9a6efddf19aed0a5723b37463db9303c\": [{\"x\": -2, \"y\": -4}, {\"x\": 5, \"y\": 10}], \"data-4d5b20bb77f86f070c9ed7766fe98b65\": [{\"x\": -2, \"y\": -2}, {\"x\": 5, \"y\": -2}]}}, {\"mode\": \"vega-lite\"});\n",
       "</script>"
      ],
      "text/plain": [
       "alt.LayerChart(...)"
      ]
     },
     "execution_count": 20,
     "metadata": {},
     "output_type": "execute_result"
    }
   ],
   "source": [
    "c+c_lineA+c_lineB"
   ]
  },
  {
   "cell_type": "markdown",
   "metadata": {
    "cell_id": "a2a1b70e49024a8098e74a6d4538b4f6",
    "deepnote_cell_height": 52.390625,
    "deepnote_cell_type": "markdown",
    "tags": []
   },
   "source": [
    "Add predicted columns to df"
   ]
  },
  {
   "cell_type": "code",
   "execution_count": 21,
   "metadata": {
    "cell_id": "5e697a88ac26404f82d3b4f96f6b3944",
    "deepnote_cell_height": 354,
    "deepnote_cell_type": "code",
    "deepnote_to_be_reexecuted": false,
    "execution_millis": 14,
    "execution_start": 1652127911009,
    "source_hash": "f804c160",
    "tags": []
   },
   "outputs": [
    {
     "data": {
      "text/html": [
       "<div>\n",
       "<style scoped>\n",
       "    .dataframe tbody tr th:only-of-type {\n",
       "        vertical-align: middle;\n",
       "    }\n",
       "\n",
       "    .dataframe tbody tr th {\n",
       "        vertical-align: top;\n",
       "    }\n",
       "\n",
       "    .dataframe thead th {\n",
       "        text-align: right;\n",
       "    }\n",
       "</style>\n",
       "<table border=\"1\" class=\"dataframe\">\n",
       "  <thead>\n",
       "    <tr style=\"text-align: right;\">\n",
       "      <th></th>\n",
       "      <th>x</th>\n",
       "      <th>y</th>\n",
       "    </tr>\n",
       "  </thead>\n",
       "  <tbody>\n",
       "    <tr>\n",
       "      <th>0</th>\n",
       "      <td>0</td>\n",
       "      <td>0</td>\n",
       "    </tr>\n",
       "    <tr>\n",
       "      <th>1</th>\n",
       "      <td>1</td>\n",
       "      <td>2</td>\n",
       "    </tr>\n",
       "    <tr>\n",
       "      <th>2</th>\n",
       "      <td>2</td>\n",
       "      <td>-10</td>\n",
       "    </tr>\n",
       "    <tr>\n",
       "      <th>3</th>\n",
       "      <td>3</td>\n",
       "      <td>6</td>\n",
       "    </tr>\n",
       "  </tbody>\n",
       "</table>\n",
       "</div>"
      ],
      "text/plain": [
       "   x   y\n",
       "0  0   0\n",
       "1  1   2\n",
       "2  2 -10\n",
       "3  3   6"
      ]
     },
     "execution_count": 21,
     "metadata": {},
     "output_type": "execute_result"
    }
   ],
   "source": [
    "df"
   ]
  },
  {
   "cell_type": "code",
   "execution_count": 22,
   "metadata": {
    "cell_id": "26646082c3b44db1a17a0b2f355afeae",
    "deepnote_cell_height": 81,
    "deepnote_cell_type": "code",
    "deepnote_output_heights": [
     21.1875
    ],
    "deepnote_to_be_reexecuted": false,
    "execution_millis": 5,
    "execution_start": 1652127966686,
    "source_hash": "dd145bc2",
    "tags": []
   },
   "outputs": [],
   "source": [
    "df[\"PredA\"] = df[\"x\"].map(f)"
   ]
  },
  {
   "cell_type": "code",
   "execution_count": 23,
   "metadata": {
    "cell_id": "0f578245616e47be98a36399bbcdb4e9",
    "deepnote_cell_height": 81,
    "deepnote_cell_type": "code",
    "deepnote_to_be_reexecuted": false,
    "execution_millis": 1,
    "execution_start": 1652128002049,
    "source_hash": "e21d1625",
    "tags": []
   },
   "outputs": [],
   "source": [
    "df[\"PredB\"] = df[\"x\"].map(g)"
   ]
  },
  {
   "cell_type": "code",
   "execution_count": 24,
   "metadata": {
    "cell_id": "408cdc08d0874d9f96e0e46bed9ee617",
    "deepnote_cell_height": 354,
    "deepnote_cell_type": "code",
    "deepnote_to_be_reexecuted": false,
    "execution_millis": 6,
    "execution_start": 1652128003323,
    "source_hash": "f804c160",
    "tags": []
   },
   "outputs": [
    {
     "data": {
      "text/html": [
       "<div>\n",
       "<style scoped>\n",
       "    .dataframe tbody tr th:only-of-type {\n",
       "        vertical-align: middle;\n",
       "    }\n",
       "\n",
       "    .dataframe tbody tr th {\n",
       "        vertical-align: top;\n",
       "    }\n",
       "\n",
       "    .dataframe thead th {\n",
       "        text-align: right;\n",
       "    }\n",
       "</style>\n",
       "<table border=\"1\" class=\"dataframe\">\n",
       "  <thead>\n",
       "    <tr style=\"text-align: right;\">\n",
       "      <th></th>\n",
       "      <th>x</th>\n",
       "      <th>y</th>\n",
       "      <th>PredA</th>\n",
       "      <th>PredB</th>\n",
       "    </tr>\n",
       "  </thead>\n",
       "  <tbody>\n",
       "    <tr>\n",
       "      <th>0</th>\n",
       "      <td>0</td>\n",
       "      <td>0</td>\n",
       "      <td>0</td>\n",
       "      <td>-2</td>\n",
       "    </tr>\n",
       "    <tr>\n",
       "      <th>1</th>\n",
       "      <td>1</td>\n",
       "      <td>2</td>\n",
       "      <td>2</td>\n",
       "      <td>-2</td>\n",
       "    </tr>\n",
       "    <tr>\n",
       "      <th>2</th>\n",
       "      <td>2</td>\n",
       "      <td>-10</td>\n",
       "      <td>4</td>\n",
       "      <td>-2</td>\n",
       "    </tr>\n",
       "    <tr>\n",
       "      <th>3</th>\n",
       "      <td>3</td>\n",
       "      <td>6</td>\n",
       "      <td>6</td>\n",
       "      <td>-2</td>\n",
       "    </tr>\n",
       "  </tbody>\n",
       "</table>\n",
       "</div>"
      ],
      "text/plain": [
       "   x   y  PredA  PredB\n",
       "0  0   0      0     -2\n",
       "1  1   2      2     -2\n",
       "2  2 -10      4     -2\n",
       "3  3   6      6     -2"
      ]
     },
     "execution_count": 24,
     "metadata": {},
     "output_type": "execute_result"
    }
   ],
   "source": [
    "df"
   ]
  },
  {
   "cell_type": "markdown",
   "metadata": {},
   "source": [
    "It turns out that, which model is better, depends heavily on what performance measure you use.  Here are two of the most famous, `mean_squared_error` (abbreviated MSE) and `mean_absolute_error` (abbreviated MAE).  When scikit-learn is performing linear regression, it is using the Mean Squared Error."
   ]
  },
  {
   "cell_type": "code",
   "execution_count": 25,
   "metadata": {
    "cell_id": "3691bdbd33d3403dbcb9027ab5889295",
    "deepnote_cell_height": 81,
    "deepnote_cell_type": "code",
    "deepnote_to_be_reexecuted": false,
    "execution_millis": 6,
    "execution_start": 1652128076550,
    "source_hash": "1107a3d2",
    "tags": []
   },
   "outputs": [],
   "source": [
    "from sklearn.metrics import mean_squared_error, mean_absolute_error"
   ]
  },
  {
   "cell_type": "markdown",
   "metadata": {},
   "source": [
    "Check that you can make the following sorts of computations by hand."
   ]
  },
  {
   "cell_type": "code",
   "execution_count": 27,
   "metadata": {
    "cell_id": "d407069b50614d7f9bdb30229dca67ef",
    "deepnote_cell_height": 118.1875,
    "deepnote_cell_type": "code",
    "deepnote_output_heights": [
     21.1875
    ],
    "deepnote_to_be_reexecuted": false,
    "execution_millis": 444,
    "execution_start": 1652128187471,
    "source_hash": "c0b006e3",
    "tags": []
   },
   "outputs": [
    {
     "data": {
      "text/plain": [
       "49.0"
      ]
     },
     "execution_count": 27,
     "metadata": {},
     "output_type": "execute_result"
    }
   ],
   "source": [
    "mean_squared_error(df[\"y\"], df[\"PredA\"])"
   ]
  },
  {
   "cell_type": "code",
   "execution_count": 28,
   "metadata": {
    "cell_id": "2dfbed11df2b4007a88c65736ebf8237",
    "deepnote_cell_height": 118.1875,
    "deepnote_cell_type": "code",
    "deepnote_output_heights": [
     21.1875
    ],
    "deepnote_to_be_reexecuted": false,
    "execution_millis": 10,
    "execution_start": 1652128229640,
    "source_hash": "42364912",
    "tags": []
   },
   "outputs": [
    {
     "data": {
      "text/plain": [
       "37.0"
      ]
     },
     "execution_count": 28,
     "metadata": {},
     "output_type": "execute_result"
    }
   ],
   "source": [
    "mean_squared_error(df[\"y\"], df[\"PredB\"])"
   ]
  },
  {
   "cell_type": "markdown",
   "metadata": {
    "cell_id": "dae237fd60ba4a1a9f708166f2055f60",
    "deepnote_cell_height": 133.578125,
    "deepnote_cell_type": "markdown",
    "tags": []
   },
   "source": [
    "With loss functions, or cost functions, or error functions (these all mean the same thing), smaller is better/more accurate.\n",
    "\n",
    "If we use MSE metric, the horizontal black line is the better model.  MSE punishes outliers heavily."
   ]
  },
  {
   "cell_type": "code",
   "execution_count": 29,
   "metadata": {
    "cell_id": "6065cf69bef941bf9536342c78166597",
    "deepnote_cell_height": 118.1875,
    "deepnote_cell_type": "code",
    "deepnote_output_heights": [
     21.1875
    ],
    "deepnote_to_be_reexecuted": false,
    "execution_millis": 10,
    "execution_start": 1652128371660,
    "source_hash": "a9f28efe",
    "tags": []
   },
   "outputs": [
    {
     "data": {
      "text/plain": [
       "3.5"
      ]
     },
     "execution_count": 29,
     "metadata": {},
     "output_type": "execute_result"
    }
   ],
   "source": [
    "mean_absolute_error(df[\"y\"], df[\"PredA\"])"
   ]
  },
  {
   "cell_type": "code",
   "execution_count": 30,
   "metadata": {
    "cell_id": "24b3c7b141364e6ba20fa8be6acb641c",
    "deepnote_cell_height": 118.1875,
    "deepnote_cell_type": "code",
    "deepnote_output_heights": [
     21.1875
    ],
    "deepnote_to_be_reexecuted": false,
    "execution_millis": 13,
    "execution_start": 1652128389950,
    "source_hash": "8557daca",
    "tags": []
   },
   "outputs": [
    {
     "data": {
      "text/plain": [
       "5.5"
      ]
     },
     "execution_count": 30,
     "metadata": {},
     "output_type": "execute_result"
    }
   ],
   "source": [
    "mean_absolute_error(df[\"y\"], df[\"PredB\"])"
   ]
  },
  {
   "cell_type": "markdown",
   "metadata": {
    "cell_id": "98621a65f7404cb18a49695812ec17b6",
    "deepnote_cell_height": 52.390625,
    "deepnote_cell_type": "markdown",
    "tags": []
   },
   "source": [
    "If we use MAE metric, then the red line is the better model, since the Mean Absolute Error is lower for the \"PredA\" column."
   ]
  },
  {
   "cell_type": "markdown",
   "metadata": {
    "cell_id": "7b34be1e66014489aea937342208367c",
    "deepnote_cell_height": 346.359375,
    "deepnote_cell_type": "markdown",
    "tags": []
   },
   "source": [
    "## Simulated data\n",
    "\n",
    "The following data was simulated from the function $f(x) = c_2 x^2 + c_1 x + c_0$.  The exact outputs were computed (in the `y_true` column), and then some random noise (following a normal distribution) was added to each of the points (the `y` column), with the following coefficients.\n",
    "\n",
    "(You can see the code that simulated this data in the `HelperNotebook.ipynb` file.  It includes some things we have done before, like adding new columns corresponding to powers of existing columns, and it also includes some things we haven't discussed, like generating normally distributed random data using `default_rng` from NumPy.)"
   ]
  },
  {
   "cell_type": "code",
   "execution_count": 31,
   "metadata": {
    "cell_id": "6d8de8d4e39e4e1b932baa7cf1a0dcc9",
    "deepnote_cell_height": 81,
    "deepnote_cell_type": "code",
    "deepnote_to_be_reexecuted": false,
    "execution_millis": 1,
    "execution_start": 1652128521744,
    "source_hash": "d3ec6363",
    "tags": []
   },
   "outputs": [],
   "source": [
    "df = pd.read_csv(\"../data/sim_data.csv\")"
   ]
  },
  {
   "cell_type": "code",
   "execution_count": 32,
   "metadata": {
    "cell_id": "521f9ef9a5484ca98f543a96717d031c",
    "deepnote_cell_height": 117,
    "deepnote_cell_type": "code",
    "deepnote_to_be_reexecuted": false,
    "execution_millis": 2,
    "execution_start": 1652128546961,
    "source_hash": "ba701a03",
    "tags": []
   },
   "outputs": [],
   "source": [
    "c0 = -23.4\n",
    "c1 = 4.1\n",
    "c2 = 1.7"
   ]
  },
  {
   "cell_type": "code",
   "execution_count": 33,
   "metadata": {
    "cell_id": "81b96318f30141b6b5df83735e338d78",
    "deepnote_cell_height": 395,
    "deepnote_cell_type": "code",
    "deepnote_to_be_reexecuted": false,
    "execution_millis": 71,
    "execution_start": 1652128564645,
    "source_hash": "c085b6ba",
    "tags": []
   },
   "outputs": [
    {
     "data": {
      "text/html": [
       "<div>\n",
       "<style scoped>\n",
       "    .dataframe tbody tr th:only-of-type {\n",
       "        vertical-align: middle;\n",
       "    }\n",
       "\n",
       "    .dataframe tbody tr th {\n",
       "        vertical-align: top;\n",
       "    }\n",
       "\n",
       "    .dataframe thead th {\n",
       "        text-align: right;\n",
       "    }\n",
       "</style>\n",
       "<table border=\"1\" class=\"dataframe\">\n",
       "  <thead>\n",
       "    <tr style=\"text-align: right;\">\n",
       "      <th></th>\n",
       "      <th>x</th>\n",
       "      <th>y_true</th>\n",
       "      <th>y</th>\n",
       "      <th>x1</th>\n",
       "      <th>x2</th>\n",
       "      <th>x3</th>\n",
       "      <th>x4</th>\n",
       "      <th>x5</th>\n",
       "      <th>x6</th>\n",
       "      <th>x7</th>\n",
       "      <th>x8</th>\n",
       "      <th>x9</th>\n",
       "      <th>x10</th>\n",
       "    </tr>\n",
       "  </thead>\n",
       "  <tbody>\n",
       "    <tr>\n",
       "      <th>0</th>\n",
       "      <td>-3.329208</td>\n",
       "      <td>-18.207589</td>\n",
       "      <td>-117.484900</td>\n",
       "      <td>-3.329208</td>\n",
       "      <td>11.083626</td>\n",
       "      <td>-36.899694</td>\n",
       "      <td>122.846756</td>\n",
       "      <td>-408.982395</td>\n",
       "      <td>1361.587441</td>\n",
       "      <td>-4533.007730</td>\n",
       "      <td>1.509133e+04</td>\n",
       "      <td>-5.024216e+04</td>\n",
       "      <td>1.672666e+05</td>\n",
       "    </tr>\n",
       "    <tr>\n",
       "      <th>1</th>\n",
       "      <td>6.465018</td>\n",
       "      <td>74.160562</td>\n",
       "      <td>73.954907</td>\n",
       "      <td>6.465018</td>\n",
       "      <td>41.796463</td>\n",
       "      <td>270.214901</td>\n",
       "      <td>1746.944309</td>\n",
       "      <td>11294.027098</td>\n",
       "      <td>73016.092970</td>\n",
       "      <td>472050.384357</td>\n",
       "      <td>3.051814e+06</td>\n",
       "      <td>1.973004e+07</td>\n",
       "      <td>1.275550e+08</td>\n",
       "    </tr>\n",
       "    <tr>\n",
       "      <th>2</th>\n",
       "      <td>-4.478046</td>\n",
       "      <td>-7.670062</td>\n",
       "      <td>-13.810089</td>\n",
       "      <td>-4.478046</td>\n",
       "      <td>20.052899</td>\n",
       "      <td>-89.797810</td>\n",
       "      <td>402.118751</td>\n",
       "      <td>-1800.706392</td>\n",
       "      <td>8063.646628</td>\n",
       "      <td>-36109.383086</td>\n",
       "      <td>1.616995e+05</td>\n",
       "      <td>-7.240978e+05</td>\n",
       "      <td>3.242544e+06</td>\n",
       "    </tr>\n",
       "    <tr>\n",
       "      <th>3</th>\n",
       "      <td>2.043272</td>\n",
       "      <td>-7.925152</td>\n",
       "      <td>19.461182</td>\n",
       "      <td>2.043272</td>\n",
       "      <td>4.174960</td>\n",
       "      <td>8.530580</td>\n",
       "      <td>17.430295</td>\n",
       "      <td>35.614834</td>\n",
       "      <td>72.770792</td>\n",
       "      <td>148.690523</td>\n",
       "      <td>3.038152e+02</td>\n",
       "      <td>6.207771e+02</td>\n",
       "      <td>1.268416e+03</td>\n",
       "    </tr>\n",
       "    <tr>\n",
       "      <th>4</th>\n",
       "      <td>4.850593</td>\n",
       "      <td>36.485466</td>\n",
       "      <td>22.375230</td>\n",
       "      <td>4.850593</td>\n",
       "      <td>23.528255</td>\n",
       "      <td>114.125996</td>\n",
       "      <td>553.578791</td>\n",
       "      <td>2685.185564</td>\n",
       "      <td>13024.743051</td>\n",
       "      <td>63177.731115</td>\n",
       "      <td>3.064495e+05</td>\n",
       "      <td>1.486462e+06</td>\n",
       "      <td>7.210222e+06</td>\n",
       "    </tr>\n",
       "  </tbody>\n",
       "</table>\n",
       "</div>"
      ],
      "text/plain": [
       "          x     y_true           y        x1         x2          x3  \\\n",
       "0 -3.329208 -18.207589 -117.484900 -3.329208  11.083626  -36.899694   \n",
       "1  6.465018  74.160562   73.954907  6.465018  41.796463  270.214901   \n",
       "2 -4.478046  -7.670062  -13.810089 -4.478046  20.052899  -89.797810   \n",
       "3  2.043272  -7.925152   19.461182  2.043272   4.174960    8.530580   \n",
       "4  4.850593  36.485466   22.375230  4.850593  23.528255  114.125996   \n",
       "\n",
       "            x4            x5            x6             x7            x8  \\\n",
       "0   122.846756   -408.982395   1361.587441   -4533.007730  1.509133e+04   \n",
       "1  1746.944309  11294.027098  73016.092970  472050.384357  3.051814e+06   \n",
       "2   402.118751  -1800.706392   8063.646628  -36109.383086  1.616995e+05   \n",
       "3    17.430295     35.614834     72.770792     148.690523  3.038152e+02   \n",
       "4   553.578791   2685.185564  13024.743051   63177.731115  3.064495e+05   \n",
       "\n",
       "             x9           x10  \n",
       "0 -5.024216e+04  1.672666e+05  \n",
       "1  1.973004e+07  1.275550e+08  \n",
       "2 -7.240978e+05  3.242544e+06  \n",
       "3  6.207771e+02  1.268416e+03  \n",
       "4  1.486462e+06  7.210222e+06  "
      ]
     },
     "execution_count": 33,
     "metadata": {},
     "output_type": "execute_result"
    }
   ],
   "source": [
    "df.head()"
   ]
  },
  {
   "cell_type": "markdown",
   "metadata": {},
   "source": [
    "The true data lies perfectly on a parabola (from a degree 2 polynomial)."
   ]
  },
  {
   "cell_type": "code",
   "execution_count": 34,
   "metadata": {
    "cell_id": "e9bac99b7133400f8eb5f28f595cc9bb",
    "deepnote_cell_height": 525,
    "deepnote_cell_type": "code",
    "deepnote_output_heights": [
     356
    ],
    "deepnote_to_be_reexecuted": false,
    "execution_millis": 39,
    "execution_start": 1652128815554,
    "source_hash": "ed3befdb",
    "tags": []
   },
   "outputs": [
    {
     "data": {
      "text/html": [
       "\n",
       "<div id=\"altair-viz-9977820ca35f4c3baaf58aa16d37d278\"></div>\n",
       "<script type=\"text/javascript\">\n",
       "  var VEGA_DEBUG = (typeof VEGA_DEBUG == \"undefined\") ? {} : VEGA_DEBUG;\n",
       "  (function(spec, embedOpt){\n",
       "    let outputDiv = document.currentScript.previousElementSibling;\n",
       "    if (outputDiv.id !== \"altair-viz-9977820ca35f4c3baaf58aa16d37d278\") {\n",
       "      outputDiv = document.getElementById(\"altair-viz-9977820ca35f4c3baaf58aa16d37d278\");\n",
       "    }\n",
       "    const paths = {\n",
       "      \"vega\": \"https://cdn.jsdelivr.net/npm//vega@5?noext\",\n",
       "      \"vega-lib\": \"https://cdn.jsdelivr.net/npm//vega-lib?noext\",\n",
       "      \"vega-lite\": \"https://cdn.jsdelivr.net/npm//vega-lite@4.17.0?noext\",\n",
       "      \"vega-embed\": \"https://cdn.jsdelivr.net/npm//vega-embed@6?noext\",\n",
       "    };\n",
       "\n",
       "    function maybeLoadScript(lib, version) {\n",
       "      var key = `${lib.replace(\"-\", \"\")}_version`;\n",
       "      return (VEGA_DEBUG[key] == version) ?\n",
       "        Promise.resolve(paths[lib]) :\n",
       "        new Promise(function(resolve, reject) {\n",
       "          var s = document.createElement('script');\n",
       "          document.getElementsByTagName(\"head\")[0].appendChild(s);\n",
       "          s.async = true;\n",
       "          s.onload = () => {\n",
       "            VEGA_DEBUG[key] = version;\n",
       "            return resolve(paths[lib]);\n",
       "          };\n",
       "          s.onerror = () => reject(`Error loading script: ${paths[lib]}`);\n",
       "          s.src = paths[lib];\n",
       "        });\n",
       "    }\n",
       "\n",
       "    function showError(err) {\n",
       "      outputDiv.innerHTML = `<div class=\"error\" style=\"color:red;\">${err}</div>`;\n",
       "      throw err;\n",
       "    }\n",
       "\n",
       "    function displayChart(vegaEmbed) {\n",
       "      vegaEmbed(outputDiv, spec, embedOpt)\n",
       "        .catch(err => showError(`Javascript Error: ${err.message}<br>This usually means there's a typo in your chart specification. See the javascript console for the full traceback.`));\n",
       "    }\n",
       "\n",
       "    if(typeof define === \"function\" && define.amd) {\n",
       "      requirejs.config({paths});\n",
       "      require([\"vega-embed\"], displayChart, err => showError(`Error loading script: ${err.message}`));\n",
       "    } else {\n",
       "      maybeLoadScript(\"vega\", \"5\")\n",
       "        .then(() => maybeLoadScript(\"vega-lite\", \"4.17.0\"))\n",
       "        .then(() => maybeLoadScript(\"vega-embed\", \"6\"))\n",
       "        .catch(showError)\n",
       "        .then(() => displayChart(vegaEmbed));\n",
       "    }\n",
       "  })({\"config\": {\"view\": {\"continuousWidth\": 400, \"continuousHeight\": 300}}, \"data\": {\"name\": \"data-e408b203f30a36c887299a985aa11d81\"}, \"mark\": \"circle\", \"encoding\": {\"tooltip\": [{\"field\": \"x\", \"type\": \"quantitative\"}], \"x\": {\"field\": \"x\", \"type\": \"quantitative\"}, \"y\": {\"field\": \"y_true\", \"type\": \"quantitative\"}}, \"$schema\": \"https://vega.github.io/schema/vega-lite/v4.17.0.json\", \"datasets\": {\"data-e408b203f30a36c887299a985aa11d81\": [{\"x\": -3.329207948258288, \"y_true\": -18.207589131190502, \"y\": -117.48489981507691, \"x1\": -3.329207948258288, \"x2\": 11.08362556274616, \"x3\": -36.89969431901326, \"x4\": 122.84675561516016, \"x5\": -408.9823952117346, \"x6\": 1361.5874408366194, \"x7\": -4533.007730281935, \"x8\": 15091.32536517088, \"x9\": -50242.16035547881, \"x10\": 167266.5995931275}, {\"x\": 6.465018397406531, \"y_true\": 74.16056232333514, \"y\": 73.95490734658352, \"x1\": 6.465018397406531, \"x2\": 41.79646287880492, \"x3\": 270.21490145799294, \"x4\": 1746.944309179317, \"x5\": 11294.027098088927, \"x6\": 73016.09296995284, \"x7\": 472050.3843574908, \"x8\": 3051814.419374002, \"x9\": 19730036.36672345, \"x10\": 127555048.09236704}, {\"x\": -4.478046317204917, \"y_true\": -7.670061908184866, \"y\": -13.810088667204978, \"x1\": -4.478046317204917, \"x2\": 20.052898819032524, \"x3\": -89.79780970585144, \"x4\": 402.118751046356, \"x5\": -1800.7063922021755, \"x6\": 8063.646627968305, \"x7\": -36109.38308561532, \"x8\": 161699.48994308122, \"x9\": -724097.8054335285, \"x10\": 3242543.510917775}, {\"x\": 2.043272001247484, \"y_true\": -7.9251519940460895, \"y\": 19.46118237861152, \"x1\": 2.043272001247484, \"x2\": 4.1749604710818975, \"x3\": 8.530579836876647, \"x4\": 17.43029493509638, \"x5\": 35.614833614368266, \"x6\": 72.7707923533264, \"x7\": 148.69052252414633, \"x8\": 303.8151815244466, \"x9\": 620.7770539628235, \"x10\": 1268.4163733791356}, {\"x\": 4.850593279708996, \"y_true\": 36.48546622757559, \"y\": 22.37523008579901, \"x1\": 4.850593279708996, \"x2\": 23.52825516515807, \"x3\": 114.1259963873942, \"x4\": 553.5787911167873, \"x5\": 2685.1855639805185, \"x6\": 13024.743051415511, \"x7\": 63177.73111513252, \"x8\": 306449.4779743237, \"x9\": 1486461.7784325844, \"x10\": 7210221.513009375}, {\"x\": -0.5785060804889142, \"y_true\": -25.20293714522805, \"y\": -25.44530061571687, \"x1\": -0.5785060804889142, \"x2\": 0.334669285162646, \"x3\": -0.193608216419469, \"x4\": 0.1120035304312764, \"x5\": -0.0647947233907185, \"x6\": 0.0374841414651279, \"x7\": -0.0216848037594831, \"x8\": 0.0125447908290698, \"x9\": -0.0072572377730784, \"x10\": 0.0041983561792797}, {\"x\": -6.557408679959602, \"y_true\": 22.813959025381838, \"y\": 76.67574767286865, \"x1\": -6.557408679959602, \"x2\": 42.99960859600953, \"x3\": -281.9660066423384, \"x4\": 1848.9663394100169, \"x5\": -12124.427923000376, \"x6\": 79504.82890182723, \"x7\": -521345.6551395449, \"x8\": 3418676.524271277, \"x9\": -22417659.1142306, \"x10\": 147001752.4600312}, {\"x\": -5.656363051930528, \"y_true\": 7.799464545001062, \"y\": 59.65376106978435, \"x1\": -5.656363051930528, \"x2\": 31.99444297524484, \"x3\": -180.97218511227317, \"x4\": 1023.6443812961938, \"x5\": -5790.104256680076, \"x6\": 32750.93178431085, \"x7\": -185251.1604610731, \"x8\": 1047847.8193592674, \"x9\": -5927007.689469734, \"x10\": 33525307.30322473}, {\"x\": 0.1085383400545652, \"y_true\": -22.93496583463122, \"y\": -66.10368783700659, \"x1\": 0.1085383400545652, \"x2\": 0.0117805712618004, \"x3\": 0.0012786436496503, \"x4\": 0.0001387818592543, \"x5\": 1.5063152633154338e-05, \"x6\": 1.6349295827911247e-06, \"x7\": 1.774525430222515e-07, \"x8\": 1.9260404458096493e-08, \"x9\": 2.0904923286613407e-09, \"x10\": 2.2689856724970447e-10}, {\"x\": 4.556122347821622, \"y_true\": 30.569128068211988, \"y\": 1.089803157452213, \"x1\": 4.556122347821622, \"x2\": 20.75825084831961, \"x3\": 94.57713059171614, \"x4\": 430.90497828176194, \"x5\": 1963.2558013371265, \"x6\": 8944.833630962528, \"x7\": 40753.75640357481, \"x8\": 185679.10030800573, \"x9\": 845976.6984367175, \"x10\": 3854373.341483882}, {\"x\": -6.299257105127305, \"y_true\": 18.23013399902268, \"y\": -7.25110091586216, \"x1\": -6.299257105127305, \"x2\": 39.68064007649684, \"x3\": -249.958553937872, \"x4\": 1574.553196880487, \"x5\": -9918.515412850318, \"x6\": 62479.27868671205, \"x7\": -393573.0401904999, \"x8\": 2479217.7698065606, \"x9\": -15617230.15161185, \"x10\": 98376947.99494933}, {\"x\": 6.449735233464434, \"y_true\": 73.76235824625147, \"y\": 130.94052037260485, \"x1\": 6.449735233464434, \"x2\": 41.59908458179252, \"x3\": 268.3030815070543, \"x4\": 1730.483838043128, \"x5\": 11161.162581167524, \"x6\": 71986.54354618103, \"x7\": 464294.1462451255, \"x8\": 2994574.3137284745, \"x9\": 19314211.46048212, \"x10\": 124571550.1632541}, {\"x\": 3.6601115365364834, \"y_true\": 14.380365281608256, \"y\": 8.061647596412477, \"x1\": 3.6601115365364834, \"x2\": 13.396416459887456, \"x3\": 49.03237843308132, \"x4\": 179.4639739667436, \"x5\": 656.8581615083614, \"x6\": 2404.174134804898, \"x7\": 8799.545486642026, \"x8\": 32207.31795193602, \"x9\": 117882.3759967796, \"x10\": 431462.64434014447}, {\"x\": -8.982275379207888, \"y_true\": 76.93083162471879, \"y\": 2.57497436581059, \"x1\": -8.982275379207888, \"x2\": 80.68127098792421, \"x3\": -724.7013939580312, \"x4\": 6509.46748822686, \"x5\": -58469.82955125433, \"x6\": 525192.1104047135, \"x7\": -4717420.162642489, \"x8\": 42373166.9802825, \"x9\": -380607454.5060562, \"x10\": 3418720967.7527347}, {\"x\": -9.026659050812274, \"y_true\": 78.10767304500862, \"y\": 15.781692216581398, \"x1\": -9.026659050812274, \"x2\": 81.48057361961114, \"x3\": -735.4973573288387, \"x4\": 6639.083877380871, \"x5\": -59928.74657086189, \"x6\": 540956.3626377055, \"x7\": -4883028.646898131, \"x8\": 44077434.73089863, \"x9\": -397871975.1502533, \"x10\": 3591454665.55459}, {\"x\": 5.481667038018758, \"y_true\": 50.15757983256919, \"y\": 24.44182752029455, \"x1\": 5.481667038018758, \"x2\": 30.048673515701346, \"x3\": 164.71682314720726, \"x4\": 902.9227800532112, \"x5\": 4949.522041293949, \"x6\": 27131.63182770836, \"x7\": 148726.5718776095, \"x8\": 815269.5467390196, \"x9\": 4469036.201459777, \"x10\": 24497768.43725461}, {\"x\": -3.942981654772611, \"y_true\": -13.136147423782996, \"y\": -35.90188825321785, \"x1\": -3.942981654772611, \"x2\": 15.547104329873356, \"x3\": -61.30194715752647, \"x4\": 241.7124530439669, \"x5\": -953.0677680824476, \"x6\": 3757.928725304168, \"x7\": -14817.444023817356, \"x8\": 58424.90995653189, \"x9\": -230368.3481403469, \"x10\": 908338.170557658}, {\"x\": 7.135268762431544, \"y_true\": 92.40510445659264, \"y\": 27.822957658181807, \"x1\": 7.135268762431544, \"x2\": 50.91206031213137, \"x3\": 363.2712335761817, \"x4\": 2592.0378852261024, \"x5\": 18494.886953492925, \"x6\": 131965.9891439608, \"x7\": 941612.8000422836, \"x8\": 6718660.398447406, \"x9\": 47939447.66642764, \"x10\": 342060843.4224829}, {\"x\": 4.196026495565919, \"y_true\": 23.73499382935532, \"y\": 19.89278808558322, \"x1\": 4.196026495565919, \"x2\": 17.606638351491206, \"x3\": 73.87792102070415, \"x4\": 309.9937140402009, \"x5\": 1300.741837571568, \"x6\": 5457.9472143414, \"x7\": 22901.691122776712, \"x8\": 96096.10274443789, \"x9\": 403221.79323628615, \"x10\": 1691929.3280090592}, {\"x\": -9.924587728801344, \"y_true\": 103.35484100926068, \"y\": 90.76217468813144, \"x1\": -9.924587728801344, \"x2\": 98.4974415866742, \"x3\": -977.546500089434, \"x4\": 9701.745999120298, \"x5\": -96285.82929081684, \"x6\": 955597.1598371018, \"x7\": -9483907.846196717, \"x8\": 94123875.43144672, \"x9\": -934140659.0941623, \"x10\": 9270960922.220322}, {\"x\": -0.6900414588494286, \"y_true\": -25.419702715899877, \"y\": 61.59169896339826, \"x1\": -0.6900414588494286, \"x2\": 0.4761572149310476, \"x3\": -0.328568219232701, \"x4\": 0.2267256933308919, \"x5\": -0.1564501281846968, \"x6\": 0.1079570746897482, \"x7\": -0.0744948573120306, \"x8\": 0.0514045400163736, \"x9\": -0.0354712637843822, \"x10\": 0.024476642609008}, {\"x\": 4.510287644012569, \"y_true\": 29.674760214396706, \"y\": 67.75450975334007, \"x1\": 4.510287644012569, \"x2\": 20.342694631732453, \"x3\": 91.75140424342372, \"x4\": 413.8252248799164, \"x5\": 1866.47079855661, \"x6\": 8418.320180640152, \"x7\": 37969.04549408294, \"x8\": 171251.3167469134, \"x9\": 772392.6979444863, \"x10\": 3483713.241864549}, {\"x\": -9.336060459657736, \"y_true\": 86.49759445625713, \"y\": 101.99230853473858, \"x1\": -9.336060459657736, \"x2\": 87.16202490638462, \"x3\": -813.7499343122001, \"x4\": 7597.218585781211, \"x5\": -70928.09204208883, \"x6\": 662188.95559311, \"x7\": -6182236.125134886, \"x8\": 57717730.24013947, \"x9\": -538856219.1161577, \"x10\": 5030794240.731025}, {\"x\": 4.441058173200844, \"y_true\": 28.337434596305293, \"y\": 75.652070315597, \"x1\": 4.441058173200844, \"x2\": 19.722997697754018, \"x3\": 87.5909801256319, \"x4\": 388.9966381856102, \"x5\": 1727.556699361856, \"x6\": 7672.179799368842, \"x7\": 34072.59680425341, \"x8\": 151318.38451970654, \"x9\": 672013.7483267909, \"x10\": 2984452.149510029}, {\"x\": -6.563453985661962, \"y_true\": 22.92401663601917, \"y\": 3.705401701436681, \"x1\": -6.563453985661962, \"x2\": 43.07892822190189, \"x3\": -282.7465631360876, \"x4\": 1855.7940567477756, \"x5\": -12180.418898328966, \"x6\": 79945.61896526953, \"x7\": -524719.3914338109, \"x8\": 3443971.581060365, \"x9\": -22604349.00021718, \"x10\": 148362604.53876945}, {\"x\": 0.3715928458725752, \"y_true\": -21.641731218646186, \"y\": 1.1348634243102325, \"x1\": 0.3715928458725752, \"x2\": 0.1380812431036794, \"x3\": 0.0513100020865191, \"x4\": 0.0190664296970574, \"x5\": 0.0070849488717589, \"x6\": 0.0026327163141186, \"x7\": 0.0009782985475384, \"x8\": 0.0003635287413928, \"x9\": 0.0001350846795706, \"x10\": 5.019650051543844e-05}, {\"x\": 6.520774235091615, \"y_true\": 75.6200186264345, \"y\": 106.2787015891801, \"x1\": 6.520774235091615, \"x2\": 42.52049662503464, \"x3\": 277.2665588558258, \"x4\": 1807.992633239582, \"x5\": 11789.51178006411, \"x6\": 76876.74465975113, \"x7\": 501295.895855022, \"x8\": 3268837.361848597, \"x9\": 21315350.447847176, \"x10\": 138992588.0122704}, {\"x\": -2.9659640277290773, \"y_true\": -20.6056500702583, \"y\": 42.19409663367121, \"x1\": -2.9659640277290773, \"x2\": 8.79694261378289, \"x3\": -26.09141534647706, \"x4\": 77.38619935018936, \"x5\": -229.52468351533287, \"x6\": 680.7619547823787, \"x7\": -2019.115469331064, \"x8\": 5988.623849867248, \"x9\": -17762.042914306676, \"x10\": 52681.580342813744}, {\"x\": 3.165616256477076, \"y_true\": 6.614941333118303, \"y\": -125.40319890292574, \"x1\": 3.165616256477076, \"x2\": 10.021126283271936, \"x3\": 31.723040270535343, \"x4\": 100.42297198528362, \"x5\": 317.9005926403558, \"x6\": 1006.3512840060072, \"x7\": 3185.721984375995, \"x8\": 10084.773302357058, \"x9\": 31924.522308827512, \"x10\": 101060.78680108945}, {\"x\": 5.222245052890752, \"y_true\": 44.373338484003376, \"y\": -1.9846500432445997, \"x1\": 5.222245052890752, \"x2\": 27.271843392441937, \"x3\": 142.42024923939124, \"x4\": 743.7534420218789, \"x5\": 3884.062733169226, \"x6\": 20283.527393410324, \"x7\": 105925.55058541113, \"x8\": 553169.1825193923, \"x9\": 2888785.0268235183, \"x10\": 15085943.315193998}, {\"x\": -6.47093182334422, \"y_true\": 21.253209250315912, \"y\": -11.812893751238208, \"x1\": -6.47093182334422, \"x2\": 41.872958662368944, \"x3\": -270.9570607459002, \"x4\": 1753.3446671404586, \"x5\": -11345.773803890072, \"x6\": 73417.72876805747, \"x7\": -475081.1174828775, \"x8\": 3074217.521789886, \"x9\": -19893051.993632574, \"x10\": 128726583.2090382}, {\"x\": 6.893150314043133, \"y_true\": 85.63830241596483, \"y\": 64.8076871161785, \"x1\": 6.893150314043133, \"x2\": 47.51552125199294, \"x3\": 327.5316302400984, \"x4\": 2257.7247598485933, \"x5\": 15562.836137373288, \"x6\": 107276.9688077365, \"x7\": 739476.2712266443, \"x8\": 5097321.091233388, \"x9\": 35136600.480814114, \"x10\": 242201868.63873196}, {\"x\": -3.493022680238049, \"y_true\": -16.979340333058417, \"y\": -54.08639152234581, \"x1\": -3.493022680238049, \"x2\": 12.201207444657404, \"x3\": -42.61909433047764, \"x4\": 148.86946310756323, \"x5\": -520.0044110295798, \"x6\": 1816.3872015501508, \"x7\": -6344.681691108797, \"x8\": 22162.117045934127, \"x9\": -77412.77748353817, \"x10\": 270404.5874902202}, {\"x\": -8.747074910351651, \"y_true\": 70.80623599597394, \"y\": 183.70684761381912, \"x1\": -8.747074910351651, \"x2\": 76.51131948730335, \"x3\": -669.2502430452905, \"x4\": 5853.982009688206, \"x5\": -51205.21916259364, \"x6\": 447895.8878161804, \"x7\": -3917778.8827665895, \"x8\": 34269105.36975316, \"x9\": -299754431.7799649, \"x10\": 2621974469.489247}, {\"x\": -1.384337371858507, \"y_true\": -25.81792029410888, \"y\": -33.87053208902993, \"x1\": -1.384337371858507, \"x2\": 1.9163899591241185, \"x3\": -2.6529302394699137, \"x4\": 3.67255047543174, \"x5\": -5.084048873176886, \"x6\": 7.038038855493894, \"x7\": -9.743020212252471, \"x8\": 13.4876269945939, \"x9\": -18.67142610630397, \"x10\": 25.84755294485116}, {\"x\": 4.852229846751024, \"y_true\": 36.519170997371695, \"y\": -13.988942624499913, \"x1\": 4.852229846751024, \"x2\": 23.54413448570147, \"x3\": 114.24155206744076, \"x4\": 554.3262686807972, \"x5\": 2689.718465731092, \"x6\": 13051.132218777777, \"x7\": 63327.09328584744, \"x8\": 307277.6121495753, \"x9\": 1490981.6009105546, \"x10\": 7234585.424894817}, {\"x\": 3.727976805823406, \"y_true\": 15.510983713963348, \"y\": 161.0233188781908, \"x1\": 3.727976805823406, \"x2\": 13.897811064757288, \"x3\": 51.810717301131056, \"x4\": 193.14915239169005, \"x5\": 720.055560180671, \"x6\": 2684.350427257721, \"x7\": 10007.196131518936, \"x8\": 37306.59506962831, \"x9\": 139078.12112382016, \"x10\": 518480.0097471}, {\"x\": -2.7383989368584727, \"y_true\": -21.879426787560792, \"y\": -35.23602701511189, \"x1\": -2.7383989368584727, \"x2\": 7.498828737387614, \"x3\": -20.534784642146004, \"x4\": 56.23243243267031, \"x5\": -153.98683319059026, \"x6\": 421.67738029931536, \"x7\": -1154.7208899089112, \"x8\": 3162.086457294832, \"x9\": -8659.054192910742, \"x10\": 23711.944796066677}, {\"x\": -1.6026752477703532, \"y_true\": -25.604403001171647, \"y\": -41.0626241665516, \"x1\": -1.6026752477703532, \"x2\": 2.568567949815763, \"x3\": -4.116580275385966, \"x4\": 6.597541312820752, \"x5\": -10.57371615820014, \"x6\": 16.946233163696796, \"x7\": -27.15930843440194, \"x8\": 43.52755137437657, \"x9\": -69.76052918376575, \"x10\": 111.80347339418272}, {\"x\": -8.223553165877851, \"y_true\": 57.849037362334165, \"y\": 14.428412230630222, \"x1\": -8.223553165877851, \"x2\": 67.62682667201962, \"x3\": -556.1328045769596, \"x4\": 4573.387685727384, \"x5\": -37609.49678175021, \"x6\": 309283.6963266348, \"x7\": -2543410.9200813016, \"x8\": 20915874.923962884, \"x9\": -172002809.44806013, \"x10\": 1414474248.1764796}, {\"x\": -0.3640013134943825, \"y_true\": -24.667160559743387, \"y\": 21.818198775552545, \"x1\": -0.3640013134943825, \"x2\": 0.1324969562256357, \"x3\": -0.048229066100139, \"x4\": 0.017555443409058, \"x5\": -0.0063902044598734, \"x6\": 0.0023260428168915, \"x7\": -0.0008466826405927, \"x8\": 0.0003081935932886, \"x9\": -0.0001121828727676, \"x10\": 4.083471303898616e-05}, {\"x\": 6.656568171049994, \"y_true\": 79.21875918822593, \"y\": 23.279299839342315, \"x1\": 6.656568171049994, \"x2\": 44.30989981583586, \"x3\": 294.95186877650696, \"x4\": 1963.3672216894104, \"x5\": 13069.287755980587, \"x6\": 86996.60489475378, \"x7\": 579098.8311318301, \"x8\": 3854810.847204396, \"x9\": 25659811.19091904, \"x10\": 170806282.4486241}, {\"x\": -9.804879808964852, \"y_true\": 99.83062849926336, \"y\": 131.47624036529035, \"x1\": -9.804879808964852, \"x2\": 96.13566806824664, \"x3\": -942.5986707636984, \"x4\": 9242.066674928095, \"x5\": -90617.3529341094, \"x6\": 888492.2541254913, \"x7\": -8711559.762896698, \"x8\": 85415796.42381647, \"x9\": -837491617.7225302, \"x10\": 8211504652.784947}, {\"x\": 1.2361742342612168, \"y_true\": -15.733870185861791, \"y\": 3.383360389096301, \"x1\": 1.2361742342612168, \"x2\": 1.5281267374513057, \"x3\": 1.8890308995229592, \"x4\": 2.335171325713572, \"x5\": 2.886678625432725, \"x6\": 3.56843773935252, \"x7\": 4.4112107899529285, \"x8\": 5.453025120434879, \"x9\": 6.740889152660766, \"x10\": 8.332913486530165}, {\"x\": -2.76625939296056, \"y_true\": -21.732938761596003, \"y\": 129.3356782636361, \"x1\": -2.76625939296056, \"x2\": 7.652191029142525, \"x3\": -21.167945311094044, \"x4\": 58.55602754648934, \"x5\": -161.98116121493342, \"x6\": 448.08190869346834, \"x7\": -1239.5107887390027, \"x8\": 3428.8083620252187, \"x9\": -9484.973338113972, \"x10\": 26237.896588538253}, {\"x\": -4.457650184804254, \"y_true\": -7.89626896855226, \"y\": -26.760376539006497, \"x1\": -4.457650184804254, \"x2\": 19.8706451700854, \"x3\": -88.57638511461093, \"x4\": 394.8425394754382, \"x5\": -1760.0699190612677, \"x6\": 7845.775999971868, \"x7\": -34973.72483620738, \"x8\": 155900.63097941293, \"x9\": -694950.4764964798, \"x10\": 3097846.1199843376}, {\"x\": 4.825670488119888, \"y_true\": 35.97331162314065, \"y\": 49.77584336934803, \"x1\": 4.825670488119888, \"x2\": 23.28709565991124, \"x3\": 112.3758502800584, \"x4\": 542.2888242738569, \"x5\": 2616.907175335584, \"x6\": 12628.331726166103, \"x7\": 60940.16772514785, \"x8\": 294077.16893232206, \"x9\": 1419119.5153465534, \"x10\": 6848203.1643228615}, {\"x\": -3.012486777485868, \"y_true\": -20.32356559399584, \"y\": -12.16411918567957, \"x1\": -3.012486777485868, \"x2\": 9.075076584527189, \"x3\": -27.33854821555976, \"x4\": 82.35701501503365, \"x5\": -248.09941876599396, \"x6\": 747.3962185344858, \"x7\": -2251.5212258780766, \"x8\": 6782.677922186477, \"x9\": -20432.72755653208, \"x10\": 61553.32159202402}, {\"x\": 3.7783291669200896, \"y_true\": 16.35996078349077, \"y\": -23.18155368558764, \"x1\": 3.7783291669200896, \"x2\": 14.27577129359906, \"x3\": 53.93856305888586, \"x4\": 203.79764602714693, \"x5\": 770.0145901340253, \"x6\": 2909.3685848574064, \"x7\": 10992.552181487765, \"x8\": 41533.48052620627, \"x9\": 156927.1608758727, \"x10\": 592922.4690192711}, {\"x\": 6.068926586911488, \"y_true\": 64.096777865783, \"y\": 182.7524628775764, \"x1\": 6.068926586911488, \"x2\": 36.83186991732112, \"x3\": 223.5299145868956, \"x4\": 1356.5866416064644, \"x5\": 8233.024736694437, \"x6\": 49965.622715224825, \"x7\": 303237.69612801645, \"x8\": 1840327.3161851056, \"x9\": 11168811.377815252, \"x10\": 67782696.31502251}]}}, {\"mode\": \"vega-lite\"});\n",
       "</script>"
      ],
      "text/plain": [
       "alt.Chart(...)"
      ]
     },
     "execution_count": 34,
     "metadata": {},
     "output_type": "execute_result"
    }
   ],
   "source": [
    "alt.Chart(df).mark_circle().encode(\n",
    "    x=\"x\",\n",
    "    y=\"y_true\",\n",
    "    tooltip=[\"x\"]\n",
    ")"
   ]
  },
  {
   "cell_type": "markdown",
   "metadata": {},
   "source": [
    "In the simulated data, we added some (significant) random noise to the data, so that the underlying parabola is much less apparent.  This data is stored in the \"y\" column."
   ]
  },
  {
   "cell_type": "code",
   "execution_count": 35,
   "metadata": {
    "cell_id": "de7aec04e7c1413fba3b787224fc4476",
    "deepnote_cell_height": 530,
    "deepnote_cell_type": "code",
    "deepnote_output_heights": [
     361
    ],
    "deepnote_to_be_reexecuted": false,
    "execution_millis": 89,
    "execution_start": 1652128830921,
    "source_hash": "d4961986",
    "tags": []
   },
   "outputs": [
    {
     "data": {
      "text/html": [
       "\n",
       "<div id=\"altair-viz-4ac9252a3f9546b597a51fd77c1bb64a\"></div>\n",
       "<script type=\"text/javascript\">\n",
       "  var VEGA_DEBUG = (typeof VEGA_DEBUG == \"undefined\") ? {} : VEGA_DEBUG;\n",
       "  (function(spec, embedOpt){\n",
       "    let outputDiv = document.currentScript.previousElementSibling;\n",
       "    if (outputDiv.id !== \"altair-viz-4ac9252a3f9546b597a51fd77c1bb64a\") {\n",
       "      outputDiv = document.getElementById(\"altair-viz-4ac9252a3f9546b597a51fd77c1bb64a\");\n",
       "    }\n",
       "    const paths = {\n",
       "      \"vega\": \"https://cdn.jsdelivr.net/npm//vega@5?noext\",\n",
       "      \"vega-lib\": \"https://cdn.jsdelivr.net/npm//vega-lib?noext\",\n",
       "      \"vega-lite\": \"https://cdn.jsdelivr.net/npm//vega-lite@4.17.0?noext\",\n",
       "      \"vega-embed\": \"https://cdn.jsdelivr.net/npm//vega-embed@6?noext\",\n",
       "    };\n",
       "\n",
       "    function maybeLoadScript(lib, version) {\n",
       "      var key = `${lib.replace(\"-\", \"\")}_version`;\n",
       "      return (VEGA_DEBUG[key] == version) ?\n",
       "        Promise.resolve(paths[lib]) :\n",
       "        new Promise(function(resolve, reject) {\n",
       "          var s = document.createElement('script');\n",
       "          document.getElementsByTagName(\"head\")[0].appendChild(s);\n",
       "          s.async = true;\n",
       "          s.onload = () => {\n",
       "            VEGA_DEBUG[key] = version;\n",
       "            return resolve(paths[lib]);\n",
       "          };\n",
       "          s.onerror = () => reject(`Error loading script: ${paths[lib]}`);\n",
       "          s.src = paths[lib];\n",
       "        });\n",
       "    }\n",
       "\n",
       "    function showError(err) {\n",
       "      outputDiv.innerHTML = `<div class=\"error\" style=\"color:red;\">${err}</div>`;\n",
       "      throw err;\n",
       "    }\n",
       "\n",
       "    function displayChart(vegaEmbed) {\n",
       "      vegaEmbed(outputDiv, spec, embedOpt)\n",
       "        .catch(err => showError(`Javascript Error: ${err.message}<br>This usually means there's a typo in your chart specification. See the javascript console for the full traceback.`));\n",
       "    }\n",
       "\n",
       "    if(typeof define === \"function\" && define.amd) {\n",
       "      requirejs.config({paths});\n",
       "      require([\"vega-embed\"], displayChart, err => showError(`Error loading script: ${err.message}`));\n",
       "    } else {\n",
       "      maybeLoadScript(\"vega\", \"5\")\n",
       "        .then(() => maybeLoadScript(\"vega-lite\", \"4.17.0\"))\n",
       "        .then(() => maybeLoadScript(\"vega-embed\", \"6\"))\n",
       "        .catch(showError)\n",
       "        .then(() => displayChart(vegaEmbed));\n",
       "    }\n",
       "  })({\"config\": {\"view\": {\"continuousWidth\": 400, \"continuousHeight\": 300}}, \"data\": {\"name\": \"data-e408b203f30a36c887299a985aa11d81\"}, \"mark\": \"circle\", \"encoding\": {\"tooltip\": [{\"field\": \"x\", \"type\": \"quantitative\"}, {\"field\": \"y\", \"type\": \"quantitative\"}, {\"field\": \"y_true\", \"type\": \"quantitative\"}], \"x\": {\"field\": \"x\", \"type\": \"quantitative\"}, \"y\": {\"field\": \"y\", \"type\": \"quantitative\"}}, \"$schema\": \"https://vega.github.io/schema/vega-lite/v4.17.0.json\", \"datasets\": {\"data-e408b203f30a36c887299a985aa11d81\": [{\"x\": -3.329207948258288, \"y_true\": -18.207589131190502, \"y\": -117.48489981507691, \"x1\": -3.329207948258288, \"x2\": 11.08362556274616, \"x3\": -36.89969431901326, \"x4\": 122.84675561516016, \"x5\": -408.9823952117346, \"x6\": 1361.5874408366194, \"x7\": -4533.007730281935, \"x8\": 15091.32536517088, \"x9\": -50242.16035547881, \"x10\": 167266.5995931275}, {\"x\": 6.465018397406531, \"y_true\": 74.16056232333514, \"y\": 73.95490734658352, \"x1\": 6.465018397406531, \"x2\": 41.79646287880492, \"x3\": 270.21490145799294, \"x4\": 1746.944309179317, \"x5\": 11294.027098088927, \"x6\": 73016.09296995284, \"x7\": 472050.3843574908, \"x8\": 3051814.419374002, \"x9\": 19730036.36672345, \"x10\": 127555048.09236704}, {\"x\": -4.478046317204917, \"y_true\": -7.670061908184866, \"y\": -13.810088667204978, \"x1\": -4.478046317204917, \"x2\": 20.052898819032524, \"x3\": -89.79780970585144, \"x4\": 402.118751046356, \"x5\": -1800.7063922021755, \"x6\": 8063.646627968305, \"x7\": -36109.38308561532, \"x8\": 161699.48994308122, \"x9\": -724097.8054335285, \"x10\": 3242543.510917775}, {\"x\": 2.043272001247484, \"y_true\": -7.9251519940460895, \"y\": 19.46118237861152, \"x1\": 2.043272001247484, \"x2\": 4.1749604710818975, \"x3\": 8.530579836876647, \"x4\": 17.43029493509638, \"x5\": 35.614833614368266, \"x6\": 72.7707923533264, \"x7\": 148.69052252414633, \"x8\": 303.8151815244466, \"x9\": 620.7770539628235, \"x10\": 1268.4163733791356}, {\"x\": 4.850593279708996, \"y_true\": 36.48546622757559, \"y\": 22.37523008579901, \"x1\": 4.850593279708996, \"x2\": 23.52825516515807, \"x3\": 114.1259963873942, \"x4\": 553.5787911167873, \"x5\": 2685.1855639805185, \"x6\": 13024.743051415511, \"x7\": 63177.73111513252, \"x8\": 306449.4779743237, \"x9\": 1486461.7784325844, \"x10\": 7210221.513009375}, {\"x\": -0.5785060804889142, \"y_true\": -25.20293714522805, \"y\": -25.44530061571687, \"x1\": -0.5785060804889142, \"x2\": 0.334669285162646, \"x3\": -0.193608216419469, \"x4\": 0.1120035304312764, \"x5\": -0.0647947233907185, \"x6\": 0.0374841414651279, \"x7\": -0.0216848037594831, \"x8\": 0.0125447908290698, \"x9\": -0.0072572377730784, \"x10\": 0.0041983561792797}, {\"x\": -6.557408679959602, \"y_true\": 22.813959025381838, \"y\": 76.67574767286865, \"x1\": -6.557408679959602, \"x2\": 42.99960859600953, \"x3\": -281.9660066423384, \"x4\": 1848.9663394100169, \"x5\": -12124.427923000376, \"x6\": 79504.82890182723, \"x7\": -521345.6551395449, \"x8\": 3418676.524271277, \"x9\": -22417659.1142306, \"x10\": 147001752.4600312}, {\"x\": -5.656363051930528, \"y_true\": 7.799464545001062, \"y\": 59.65376106978435, \"x1\": -5.656363051930528, \"x2\": 31.99444297524484, \"x3\": -180.97218511227317, \"x4\": 1023.6443812961938, \"x5\": -5790.104256680076, \"x6\": 32750.93178431085, \"x7\": -185251.1604610731, \"x8\": 1047847.8193592674, \"x9\": -5927007.689469734, \"x10\": 33525307.30322473}, {\"x\": 0.1085383400545652, \"y_true\": -22.93496583463122, \"y\": -66.10368783700659, \"x1\": 0.1085383400545652, \"x2\": 0.0117805712618004, \"x3\": 0.0012786436496503, \"x4\": 0.0001387818592543, \"x5\": 1.5063152633154338e-05, \"x6\": 1.6349295827911247e-06, \"x7\": 1.774525430222515e-07, \"x8\": 1.9260404458096493e-08, \"x9\": 2.0904923286613407e-09, \"x10\": 2.2689856724970447e-10}, {\"x\": 4.556122347821622, \"y_true\": 30.569128068211988, \"y\": 1.089803157452213, \"x1\": 4.556122347821622, \"x2\": 20.75825084831961, \"x3\": 94.57713059171614, \"x4\": 430.90497828176194, \"x5\": 1963.2558013371265, \"x6\": 8944.833630962528, \"x7\": 40753.75640357481, \"x8\": 185679.10030800573, \"x9\": 845976.6984367175, \"x10\": 3854373.341483882}, {\"x\": -6.299257105127305, \"y_true\": 18.23013399902268, \"y\": -7.25110091586216, \"x1\": -6.299257105127305, \"x2\": 39.68064007649684, \"x3\": -249.958553937872, \"x4\": 1574.553196880487, \"x5\": -9918.515412850318, \"x6\": 62479.27868671205, \"x7\": -393573.0401904999, \"x8\": 2479217.7698065606, \"x9\": -15617230.15161185, \"x10\": 98376947.99494933}, {\"x\": 6.449735233464434, \"y_true\": 73.76235824625147, \"y\": 130.94052037260485, \"x1\": 6.449735233464434, \"x2\": 41.59908458179252, \"x3\": 268.3030815070543, \"x4\": 1730.483838043128, \"x5\": 11161.162581167524, \"x6\": 71986.54354618103, \"x7\": 464294.1462451255, \"x8\": 2994574.3137284745, \"x9\": 19314211.46048212, \"x10\": 124571550.1632541}, {\"x\": 3.6601115365364834, \"y_true\": 14.380365281608256, \"y\": 8.061647596412477, \"x1\": 3.6601115365364834, \"x2\": 13.396416459887456, \"x3\": 49.03237843308132, \"x4\": 179.4639739667436, \"x5\": 656.8581615083614, \"x6\": 2404.174134804898, \"x7\": 8799.545486642026, \"x8\": 32207.31795193602, \"x9\": 117882.3759967796, \"x10\": 431462.64434014447}, {\"x\": -8.982275379207888, \"y_true\": 76.93083162471879, \"y\": 2.57497436581059, \"x1\": -8.982275379207888, \"x2\": 80.68127098792421, \"x3\": -724.7013939580312, \"x4\": 6509.46748822686, \"x5\": -58469.82955125433, \"x6\": 525192.1104047135, \"x7\": -4717420.162642489, \"x8\": 42373166.9802825, \"x9\": -380607454.5060562, \"x10\": 3418720967.7527347}, {\"x\": -9.026659050812274, \"y_true\": 78.10767304500862, \"y\": 15.781692216581398, \"x1\": -9.026659050812274, \"x2\": 81.48057361961114, \"x3\": -735.4973573288387, \"x4\": 6639.083877380871, \"x5\": -59928.74657086189, \"x6\": 540956.3626377055, \"x7\": -4883028.646898131, \"x8\": 44077434.73089863, \"x9\": -397871975.1502533, \"x10\": 3591454665.55459}, {\"x\": 5.481667038018758, \"y_true\": 50.15757983256919, \"y\": 24.44182752029455, \"x1\": 5.481667038018758, \"x2\": 30.048673515701346, \"x3\": 164.71682314720726, \"x4\": 902.9227800532112, \"x5\": 4949.522041293949, \"x6\": 27131.63182770836, \"x7\": 148726.5718776095, \"x8\": 815269.5467390196, \"x9\": 4469036.201459777, \"x10\": 24497768.43725461}, {\"x\": -3.942981654772611, \"y_true\": -13.136147423782996, \"y\": -35.90188825321785, \"x1\": -3.942981654772611, \"x2\": 15.547104329873356, \"x3\": -61.30194715752647, \"x4\": 241.7124530439669, \"x5\": -953.0677680824476, \"x6\": 3757.928725304168, \"x7\": -14817.444023817356, \"x8\": 58424.90995653189, \"x9\": -230368.3481403469, \"x10\": 908338.170557658}, {\"x\": 7.135268762431544, \"y_true\": 92.40510445659264, \"y\": 27.822957658181807, \"x1\": 7.135268762431544, \"x2\": 50.91206031213137, \"x3\": 363.2712335761817, \"x4\": 2592.0378852261024, \"x5\": 18494.886953492925, \"x6\": 131965.9891439608, \"x7\": 941612.8000422836, \"x8\": 6718660.398447406, \"x9\": 47939447.66642764, \"x10\": 342060843.4224829}, {\"x\": 4.196026495565919, \"y_true\": 23.73499382935532, \"y\": 19.89278808558322, \"x1\": 4.196026495565919, \"x2\": 17.606638351491206, \"x3\": 73.87792102070415, \"x4\": 309.9937140402009, \"x5\": 1300.741837571568, \"x6\": 5457.9472143414, \"x7\": 22901.691122776712, \"x8\": 96096.10274443789, \"x9\": 403221.79323628615, \"x10\": 1691929.3280090592}, {\"x\": -9.924587728801344, \"y_true\": 103.35484100926068, \"y\": 90.76217468813144, \"x1\": -9.924587728801344, \"x2\": 98.4974415866742, \"x3\": -977.546500089434, \"x4\": 9701.745999120298, \"x5\": -96285.82929081684, \"x6\": 955597.1598371018, \"x7\": -9483907.846196717, \"x8\": 94123875.43144672, \"x9\": -934140659.0941623, \"x10\": 9270960922.220322}, {\"x\": -0.6900414588494286, \"y_true\": -25.419702715899877, \"y\": 61.59169896339826, \"x1\": -0.6900414588494286, \"x2\": 0.4761572149310476, \"x3\": -0.328568219232701, \"x4\": 0.2267256933308919, \"x5\": -0.1564501281846968, \"x6\": 0.1079570746897482, \"x7\": -0.0744948573120306, \"x8\": 0.0514045400163736, \"x9\": -0.0354712637843822, \"x10\": 0.024476642609008}, {\"x\": 4.510287644012569, \"y_true\": 29.674760214396706, \"y\": 67.75450975334007, \"x1\": 4.510287644012569, \"x2\": 20.342694631732453, \"x3\": 91.75140424342372, \"x4\": 413.8252248799164, \"x5\": 1866.47079855661, \"x6\": 8418.320180640152, \"x7\": 37969.04549408294, \"x8\": 171251.3167469134, \"x9\": 772392.6979444863, \"x10\": 3483713.241864549}, {\"x\": -9.336060459657736, \"y_true\": 86.49759445625713, \"y\": 101.99230853473858, \"x1\": -9.336060459657736, \"x2\": 87.16202490638462, \"x3\": -813.7499343122001, \"x4\": 7597.218585781211, \"x5\": -70928.09204208883, \"x6\": 662188.95559311, \"x7\": -6182236.125134886, \"x8\": 57717730.24013947, \"x9\": -538856219.1161577, \"x10\": 5030794240.731025}, {\"x\": 4.441058173200844, \"y_true\": 28.337434596305293, \"y\": 75.652070315597, \"x1\": 4.441058173200844, \"x2\": 19.722997697754018, \"x3\": 87.5909801256319, \"x4\": 388.9966381856102, \"x5\": 1727.556699361856, \"x6\": 7672.179799368842, \"x7\": 34072.59680425341, \"x8\": 151318.38451970654, \"x9\": 672013.7483267909, \"x10\": 2984452.149510029}, {\"x\": -6.563453985661962, \"y_true\": 22.92401663601917, \"y\": 3.705401701436681, \"x1\": -6.563453985661962, \"x2\": 43.07892822190189, \"x3\": -282.7465631360876, \"x4\": 1855.7940567477756, \"x5\": -12180.418898328966, \"x6\": 79945.61896526953, \"x7\": -524719.3914338109, \"x8\": 3443971.581060365, \"x9\": -22604349.00021718, \"x10\": 148362604.53876945}, {\"x\": 0.3715928458725752, \"y_true\": -21.641731218646186, \"y\": 1.1348634243102325, \"x1\": 0.3715928458725752, \"x2\": 0.1380812431036794, \"x3\": 0.0513100020865191, \"x4\": 0.0190664296970574, \"x5\": 0.0070849488717589, \"x6\": 0.0026327163141186, \"x7\": 0.0009782985475384, \"x8\": 0.0003635287413928, \"x9\": 0.0001350846795706, \"x10\": 5.019650051543844e-05}, {\"x\": 6.520774235091615, \"y_true\": 75.6200186264345, \"y\": 106.2787015891801, \"x1\": 6.520774235091615, \"x2\": 42.52049662503464, \"x3\": 277.2665588558258, \"x4\": 1807.992633239582, \"x5\": 11789.51178006411, \"x6\": 76876.74465975113, \"x7\": 501295.895855022, \"x8\": 3268837.361848597, \"x9\": 21315350.447847176, \"x10\": 138992588.0122704}, {\"x\": -2.9659640277290773, \"y_true\": -20.6056500702583, \"y\": 42.19409663367121, \"x1\": -2.9659640277290773, \"x2\": 8.79694261378289, \"x3\": -26.09141534647706, \"x4\": 77.38619935018936, \"x5\": -229.52468351533287, \"x6\": 680.7619547823787, \"x7\": -2019.115469331064, \"x8\": 5988.623849867248, \"x9\": -17762.042914306676, \"x10\": 52681.580342813744}, {\"x\": 3.165616256477076, \"y_true\": 6.614941333118303, \"y\": -125.40319890292574, \"x1\": 3.165616256477076, \"x2\": 10.021126283271936, \"x3\": 31.723040270535343, \"x4\": 100.42297198528362, \"x5\": 317.9005926403558, \"x6\": 1006.3512840060072, \"x7\": 3185.721984375995, \"x8\": 10084.773302357058, \"x9\": 31924.522308827512, \"x10\": 101060.78680108945}, {\"x\": 5.222245052890752, \"y_true\": 44.373338484003376, \"y\": -1.9846500432445997, \"x1\": 5.222245052890752, \"x2\": 27.271843392441937, \"x3\": 142.42024923939124, \"x4\": 743.7534420218789, \"x5\": 3884.062733169226, \"x6\": 20283.527393410324, \"x7\": 105925.55058541113, \"x8\": 553169.1825193923, \"x9\": 2888785.0268235183, \"x10\": 15085943.315193998}, {\"x\": -6.47093182334422, \"y_true\": 21.253209250315912, \"y\": -11.812893751238208, \"x1\": -6.47093182334422, \"x2\": 41.872958662368944, \"x3\": -270.9570607459002, \"x4\": 1753.3446671404586, \"x5\": -11345.773803890072, \"x6\": 73417.72876805747, \"x7\": -475081.1174828775, \"x8\": 3074217.521789886, \"x9\": -19893051.993632574, \"x10\": 128726583.2090382}, {\"x\": 6.893150314043133, \"y_true\": 85.63830241596483, \"y\": 64.8076871161785, \"x1\": 6.893150314043133, \"x2\": 47.51552125199294, \"x3\": 327.5316302400984, \"x4\": 2257.7247598485933, \"x5\": 15562.836137373288, \"x6\": 107276.9688077365, \"x7\": 739476.2712266443, \"x8\": 5097321.091233388, \"x9\": 35136600.480814114, \"x10\": 242201868.63873196}, {\"x\": -3.493022680238049, \"y_true\": -16.979340333058417, \"y\": -54.08639152234581, \"x1\": -3.493022680238049, \"x2\": 12.201207444657404, \"x3\": -42.61909433047764, \"x4\": 148.86946310756323, \"x5\": -520.0044110295798, \"x6\": 1816.3872015501508, \"x7\": -6344.681691108797, \"x8\": 22162.117045934127, \"x9\": -77412.77748353817, \"x10\": 270404.5874902202}, {\"x\": -8.747074910351651, \"y_true\": 70.80623599597394, \"y\": 183.70684761381912, \"x1\": -8.747074910351651, \"x2\": 76.51131948730335, \"x3\": -669.2502430452905, \"x4\": 5853.982009688206, \"x5\": -51205.21916259364, \"x6\": 447895.8878161804, \"x7\": -3917778.8827665895, \"x8\": 34269105.36975316, \"x9\": -299754431.7799649, \"x10\": 2621974469.489247}, {\"x\": -1.384337371858507, \"y_true\": -25.81792029410888, \"y\": -33.87053208902993, \"x1\": -1.384337371858507, \"x2\": 1.9163899591241185, \"x3\": -2.6529302394699137, \"x4\": 3.67255047543174, \"x5\": -5.084048873176886, \"x6\": 7.038038855493894, \"x7\": -9.743020212252471, \"x8\": 13.4876269945939, \"x9\": -18.67142610630397, \"x10\": 25.84755294485116}, {\"x\": 4.852229846751024, \"y_true\": 36.519170997371695, \"y\": -13.988942624499913, \"x1\": 4.852229846751024, \"x2\": 23.54413448570147, \"x3\": 114.24155206744076, \"x4\": 554.3262686807972, \"x5\": 2689.718465731092, \"x6\": 13051.132218777777, \"x7\": 63327.09328584744, \"x8\": 307277.6121495753, \"x9\": 1490981.6009105546, \"x10\": 7234585.424894817}, {\"x\": 3.727976805823406, \"y_true\": 15.510983713963348, \"y\": 161.0233188781908, \"x1\": 3.727976805823406, \"x2\": 13.897811064757288, \"x3\": 51.810717301131056, \"x4\": 193.14915239169005, \"x5\": 720.055560180671, \"x6\": 2684.350427257721, \"x7\": 10007.196131518936, \"x8\": 37306.59506962831, \"x9\": 139078.12112382016, \"x10\": 518480.0097471}, {\"x\": -2.7383989368584727, \"y_true\": -21.879426787560792, \"y\": -35.23602701511189, \"x1\": -2.7383989368584727, \"x2\": 7.498828737387614, \"x3\": -20.534784642146004, \"x4\": 56.23243243267031, \"x5\": -153.98683319059026, \"x6\": 421.67738029931536, \"x7\": -1154.7208899089112, \"x8\": 3162.086457294832, \"x9\": -8659.054192910742, \"x10\": 23711.944796066677}, {\"x\": -1.6026752477703532, \"y_true\": -25.604403001171647, \"y\": -41.0626241665516, \"x1\": -1.6026752477703532, \"x2\": 2.568567949815763, \"x3\": -4.116580275385966, \"x4\": 6.597541312820752, \"x5\": -10.57371615820014, \"x6\": 16.946233163696796, \"x7\": -27.15930843440194, \"x8\": 43.52755137437657, \"x9\": -69.76052918376575, \"x10\": 111.80347339418272}, {\"x\": -8.223553165877851, \"y_true\": 57.849037362334165, \"y\": 14.428412230630222, \"x1\": -8.223553165877851, \"x2\": 67.62682667201962, \"x3\": -556.1328045769596, \"x4\": 4573.387685727384, \"x5\": -37609.49678175021, \"x6\": 309283.6963266348, \"x7\": -2543410.9200813016, \"x8\": 20915874.923962884, \"x9\": -172002809.44806013, \"x10\": 1414474248.1764796}, {\"x\": -0.3640013134943825, \"y_true\": -24.667160559743387, \"y\": 21.818198775552545, \"x1\": -0.3640013134943825, \"x2\": 0.1324969562256357, \"x3\": -0.048229066100139, \"x4\": 0.017555443409058, \"x5\": -0.0063902044598734, \"x6\": 0.0023260428168915, \"x7\": -0.0008466826405927, \"x8\": 0.0003081935932886, \"x9\": -0.0001121828727676, \"x10\": 4.083471303898616e-05}, {\"x\": 6.656568171049994, \"y_true\": 79.21875918822593, \"y\": 23.279299839342315, \"x1\": 6.656568171049994, \"x2\": 44.30989981583586, \"x3\": 294.95186877650696, \"x4\": 1963.3672216894104, \"x5\": 13069.287755980587, \"x6\": 86996.60489475378, \"x7\": 579098.8311318301, \"x8\": 3854810.847204396, \"x9\": 25659811.19091904, \"x10\": 170806282.4486241}, {\"x\": -9.804879808964852, \"y_true\": 99.83062849926336, \"y\": 131.47624036529035, \"x1\": -9.804879808964852, \"x2\": 96.13566806824664, \"x3\": -942.5986707636984, \"x4\": 9242.066674928095, \"x5\": -90617.3529341094, \"x6\": 888492.2541254913, \"x7\": -8711559.762896698, \"x8\": 85415796.42381647, \"x9\": -837491617.7225302, \"x10\": 8211504652.784947}, {\"x\": 1.2361742342612168, \"y_true\": -15.733870185861791, \"y\": 3.383360389096301, \"x1\": 1.2361742342612168, \"x2\": 1.5281267374513057, \"x3\": 1.8890308995229592, \"x4\": 2.335171325713572, \"x5\": 2.886678625432725, \"x6\": 3.56843773935252, \"x7\": 4.4112107899529285, \"x8\": 5.453025120434879, \"x9\": 6.740889152660766, \"x10\": 8.332913486530165}, {\"x\": -2.76625939296056, \"y_true\": -21.732938761596003, \"y\": 129.3356782636361, \"x1\": -2.76625939296056, \"x2\": 7.652191029142525, \"x3\": -21.167945311094044, \"x4\": 58.55602754648934, \"x5\": -161.98116121493342, \"x6\": 448.08190869346834, \"x7\": -1239.5107887390027, \"x8\": 3428.8083620252187, \"x9\": -9484.973338113972, \"x10\": 26237.896588538253}, {\"x\": -4.457650184804254, \"y_true\": -7.89626896855226, \"y\": -26.760376539006497, \"x1\": -4.457650184804254, \"x2\": 19.8706451700854, \"x3\": -88.57638511461093, \"x4\": 394.8425394754382, \"x5\": -1760.0699190612677, \"x6\": 7845.775999971868, \"x7\": -34973.72483620738, \"x8\": 155900.63097941293, \"x9\": -694950.4764964798, \"x10\": 3097846.1199843376}, {\"x\": 4.825670488119888, \"y_true\": 35.97331162314065, \"y\": 49.77584336934803, \"x1\": 4.825670488119888, \"x2\": 23.28709565991124, \"x3\": 112.3758502800584, \"x4\": 542.2888242738569, \"x5\": 2616.907175335584, \"x6\": 12628.331726166103, \"x7\": 60940.16772514785, \"x8\": 294077.16893232206, \"x9\": 1419119.5153465534, \"x10\": 6848203.1643228615}, {\"x\": -3.012486777485868, \"y_true\": -20.32356559399584, \"y\": -12.16411918567957, \"x1\": -3.012486777485868, \"x2\": 9.075076584527189, \"x3\": -27.33854821555976, \"x4\": 82.35701501503365, \"x5\": -248.09941876599396, \"x6\": 747.3962185344858, \"x7\": -2251.5212258780766, \"x8\": 6782.677922186477, \"x9\": -20432.72755653208, \"x10\": 61553.32159202402}, {\"x\": 3.7783291669200896, \"y_true\": 16.35996078349077, \"y\": -23.18155368558764, \"x1\": 3.7783291669200896, \"x2\": 14.27577129359906, \"x3\": 53.93856305888586, \"x4\": 203.79764602714693, \"x5\": 770.0145901340253, \"x6\": 2909.3685848574064, \"x7\": 10992.552181487765, \"x8\": 41533.48052620627, \"x9\": 156927.1608758727, \"x10\": 592922.4690192711}, {\"x\": 6.068926586911488, \"y_true\": 64.096777865783, \"y\": 182.7524628775764, \"x1\": 6.068926586911488, \"x2\": 36.83186991732112, \"x3\": 223.5299145868956, \"x4\": 1356.5866416064644, \"x5\": 8233.024736694437, \"x6\": 49965.622715224825, \"x7\": 303237.69612801645, \"x8\": 1840327.3161851056, \"x9\": 11168811.377815252, \"x10\": 67782696.31502251}]}}, {\"mode\": \"vega-lite\"});\n",
       "</script>"
      ],
      "text/plain": [
       "alt.Chart(...)"
      ]
     },
     "execution_count": 35,
     "metadata": {},
     "output_type": "execute_result"
    }
   ],
   "source": [
    "alt.Chart(df).mark_circle().encode(\n",
    "    x=\"x\",\n",
    "    y=\"y\",\n",
    "    tooltip = [\"x\",\"y\",\"y_true\"]\n",
    ")"
   ]
  },
  {
   "cell_type": "markdown",
   "metadata": {
    "cell_id": "b6284db7e28e4bbdb556daa0407107b7",
    "deepnote_cell_height": 74.78125,
    "deepnote_cell_type": "markdown",
    "tags": []
   },
   "source": [
    "Also different powers of $x$ were added in new columns: $x^1$, $x^2$, ..., $x^{10}$."
   ]
  },
  {
   "cell_type": "code",
   "execution_count": 36,
   "metadata": {
    "cell_id": "0b3883ed6d954fe4b42dca9ec6edd07f",
    "deepnote_cell_height": 99,
    "deepnote_cell_type": "code",
    "deepnote_to_be_reexecuted": false,
    "execution_millis": 1,
    "execution_start": 1652129056976,
    "source_hash": "3ec48880",
    "tags": []
   },
   "outputs": [],
   "source": [
    "max_deg = 10\n",
    "cols = [f\"x{i}\" for i in range(1, max_deg+1)]"
   ]
  },
  {
   "cell_type": "code",
   "execution_count": 37,
   "metadata": {
    "cell_id": "ca5953c26b78407b8c0f184bf0c52b69",
    "deepnote_cell_height": 118.1875,
    "deepnote_cell_type": "code",
    "deepnote_output_heights": [
     21.1875
    ],
    "deepnote_to_be_reexecuted": false,
    "execution_millis": 9,
    "execution_start": 1652129059817,
    "source_hash": "cb73c151",
    "tags": []
   },
   "outputs": [
    {
     "data": {
      "text/plain": [
       "['x1', 'x2', 'x3', 'x4', 'x5', 'x6', 'x7', 'x8', 'x9', 'x10']"
      ]
     },
     "execution_count": 37,
     "metadata": {},
     "output_type": "execute_result"
    }
   ],
   "source": [
    "cols"
   ]
  },
  {
   "cell_type": "markdown",
   "metadata": {},
   "source": [
    "Let's see if we can recover the secret coefficients `c0`, `c1`, and `c2` using the \"y_true\" column.  You shouldn't be too impressed by this, because the \"y_true\" column holds the values without the random noise."
   ]
  },
  {
   "cell_type": "code",
   "execution_count": 38,
   "metadata": {
    "cell_id": "366d8243607e4965a37e1a24b60d1cb9",
    "deepnote_cell_height": 81,
    "deepnote_cell_type": "code",
    "deepnote_to_be_reexecuted": false,
    "execution_millis": 5,
    "execution_start": 1652129090901,
    "source_hash": "9527aab5",
    "tags": []
   },
   "outputs": [],
   "source": [
    "from sklearn.linear_model import LinearRegression"
   ]
  },
  {
   "cell_type": "code",
   "execution_count": 39,
   "metadata": {
    "cell_id": "ff35c97fd34d49c2a4d17e0b86f5d66f",
    "deepnote_cell_height": 81,
    "deepnote_cell_type": "code",
    "deepnote_to_be_reexecuted": false,
    "execution_millis": 4,
    "execution_start": 1652129101616,
    "source_hash": "cd72858e",
    "tags": []
   },
   "outputs": [],
   "source": [
    "reg = LinearRegression()"
   ]
  },
  {
   "cell_type": "markdown",
   "metadata": {},
   "source": [
    "Let's just use the first two columns (degree 1 and degree 2, no higher degree terms)."
   ]
  },
  {
   "cell_type": "code",
   "execution_count": 40,
   "metadata": {
    "cell_id": "d46aa929c9f0431b977632c96cbea8df",
    "deepnote_cell_height": 81,
    "deepnote_cell_type": "code",
    "deepnote_to_be_reexecuted": false,
    "execution_millis": 13,
    "execution_start": 1652129144083,
    "source_hash": "150dff26",
    "tags": []
   },
   "outputs": [],
   "source": [
    "sub_cols = cols[:2]"
   ]
  },
  {
   "cell_type": "code",
   "execution_count": 41,
   "metadata": {
    "cell_id": "1cddd838279c4b30be8e7dc6a62c7cec",
    "deepnote_cell_height": 118.1875,
    "deepnote_cell_type": "code",
    "deepnote_output_heights": [
     21.1875
    ],
    "deepnote_to_be_reexecuted": false,
    "execution_millis": 43,
    "execution_start": 1652129148171,
    "source_hash": "32bbf2ff",
    "tags": []
   },
   "outputs": [
    {
     "data": {
      "text/plain": [
       "['x1', 'x2']"
      ]
     },
     "execution_count": 41,
     "metadata": {},
     "output_type": "execute_result"
    }
   ],
   "source": [
    "sub_cols"
   ]
  },
  {
   "cell_type": "code",
   "execution_count": 42,
   "metadata": {
    "cell_id": "54cc2be8871840b8bdbfe71773da7237",
    "deepnote_cell_height": 118.1875,
    "deepnote_cell_type": "code",
    "deepnote_output_heights": [
     21.1875
    ],
    "deepnote_to_be_reexecuted": false,
    "execution_millis": 11,
    "execution_start": 1652129210798,
    "source_hash": "eef9ed79",
    "tags": []
   },
   "outputs": [
    {
     "data": {
      "text/plain": [
       "LinearRegression()"
      ]
     },
     "execution_count": 42,
     "metadata": {},
     "output_type": "execute_result"
    }
   ],
   "source": [
    "reg.fit(df[sub_cols], df[\"y_true\"])"
   ]
  },
  {
   "cell_type": "markdown",
   "metadata": {},
   "source": [
    "We don't even have to call `reg.predict` in this case, because we don't care so much about the outputs; instead we care about the coefficients."
   ]
  },
  {
   "cell_type": "code",
   "execution_count": 44,
   "metadata": {
    "cell_id": "ca222d9629c5424b86fddd0cfa5c8e74",
    "deepnote_cell_height": 118.1875,
    "deepnote_cell_type": "code",
    "deepnote_output_heights": [
     21.1875
    ],
    "deepnote_to_be_reexecuted": false,
    "execution_millis": 10,
    "execution_start": 1652129235400,
    "source_hash": "c0bd65f9",
    "tags": []
   },
   "outputs": [
    {
     "data": {
      "text/plain": [
       "array([4.1, 1.7])"
      ]
     },
     "execution_count": 44,
     "metadata": {},
     "output_type": "execute_result"
    }
   ],
   "source": [
    "reg.coef_"
   ]
  },
  {
   "cell_type": "markdown",
   "metadata": {},
   "source": [
    "These match the true coefficients exactly."
   ]
  },
  {
   "cell_type": "code",
   "execution_count": 45,
   "metadata": {
    "cell_id": "73fd7a6b0c3a43868f3326c797fb1742",
    "deepnote_cell_height": 118.1875,
    "deepnote_cell_type": "code",
    "deepnote_output_heights": [
     21.1875
    ],
    "deepnote_to_be_reexecuted": false,
    "execution_millis": 3,
    "execution_start": 1652129240408,
    "source_hash": "3517cd09",
    "tags": []
   },
   "outputs": [
    {
     "data": {
      "text/plain": [
       "4.1"
      ]
     },
     "execution_count": 45,
     "metadata": {},
     "output_type": "execute_result"
    }
   ],
   "source": [
    "c1"
   ]
  },
  {
   "cell_type": "code",
   "execution_count": 46,
   "metadata": {
    "cell_id": "453dfcc17a864630aea4abf261c21dc3",
    "deepnote_cell_height": 118.1875,
    "deepnote_cell_type": "code",
    "deepnote_output_heights": [
     21.1875
    ],
    "deepnote_to_be_reexecuted": false,
    "execution_millis": 8,
    "execution_start": 1652129252703,
    "source_hash": "576708e9",
    "tags": []
   },
   "outputs": [
    {
     "data": {
      "text/plain": [
       "1.7"
      ]
     },
     "execution_count": 46,
     "metadata": {},
     "output_type": "execute_result"
    }
   ],
   "source": [
    "c2"
   ]
  },
  {
   "cell_type": "markdown",
   "metadata": {},
   "source": [
    "The same is true (up to some slight numerical precision issue) for the constant term."
   ]
  },
  {
   "cell_type": "code",
   "execution_count": 47,
   "metadata": {
    "cell_id": "dbdc027e9a9b4b478b6d70665d6c99ba",
    "deepnote_cell_height": 118.1875,
    "deepnote_cell_type": "code",
    "deepnote_output_heights": [
     21.1875
    ],
    "deepnote_to_be_reexecuted": false,
    "execution_millis": 10,
    "execution_start": 1652129273871,
    "source_hash": "1661cbe7",
    "tags": []
   },
   "outputs": [
    {
     "data": {
      "text/plain": [
       "-23.40000000000001"
      ]
     },
     "execution_count": 47,
     "metadata": {},
     "output_type": "execute_result"
    }
   ],
   "source": [
    "reg.intercept_"
   ]
  },
  {
   "cell_type": "code",
   "execution_count": 48,
   "metadata": {
    "cell_id": "6c2b7508ae704d8db3781d3b89cbf260",
    "deepnote_cell_height": 118.1875,
    "deepnote_cell_type": "code",
    "deepnote_output_heights": [
     21.1875
    ],
    "deepnote_to_be_reexecuted": false,
    "execution_millis": 6,
    "execution_start": 1652129277827,
    "source_hash": "45281c70",
    "tags": []
   },
   "outputs": [
    {
     "data": {
      "text/plain": [
       "-23.4"
      ]
     },
     "execution_count": 48,
     "metadata": {},
     "output_type": "execute_result"
    }
   ],
   "source": [
    "c0"
   ]
  },
  {
   "cell_type": "markdown",
   "metadata": {},
   "source": [
    "Let's try the same thing using a polynomial of degree 6."
   ]
  },
  {
   "cell_type": "code",
   "execution_count": 49,
   "metadata": {
    "cell_id": "a3b3e5440c814fa5bbf8d0bca912d40a",
    "deepnote_cell_height": 81,
    "deepnote_cell_type": "code",
    "deepnote_to_be_reexecuted": false,
    "execution_millis": 5,
    "execution_start": 1652129293345,
    "source_hash": "718822c5",
    "tags": []
   },
   "outputs": [],
   "source": [
    "sub_cols2 = cols[:6]"
   ]
  },
  {
   "cell_type": "code",
   "execution_count": 50,
   "metadata": {
    "cell_id": "c0e8b62852204bad86ad576580998d89",
    "deepnote_cell_height": 81,
    "deepnote_cell_type": "code",
    "deepnote_to_be_reexecuted": false,
    "execution_millis": 5,
    "execution_start": 1652129306032,
    "source_hash": "ecb4fbb9",
    "tags": []
   },
   "outputs": [],
   "source": [
    "reg2 = LinearRegression()"
   ]
  },
  {
   "cell_type": "code",
   "execution_count": 51,
   "metadata": {
    "cell_id": "ad9b98b8d1c841788474129cdce99889",
    "deepnote_cell_height": 118.1875,
    "deepnote_cell_type": "code",
    "deepnote_output_heights": [
     21.1875
    ],
    "deepnote_to_be_reexecuted": false,
    "execution_millis": 18,
    "execution_start": 1652129319125,
    "source_hash": "246ca5da",
    "tags": []
   },
   "outputs": [
    {
     "data": {
      "text/plain": [
       "LinearRegression()"
      ]
     },
     "execution_count": 51,
     "metadata": {},
     "output_type": "execute_result"
    }
   ],
   "source": [
    "reg2.fit(df[sub_cols2], df[\"y_true\"])"
   ]
  },
  {
   "cell_type": "markdown",
   "metadata": {},
   "source": [
    "Again, linear regression has perfect results in this case.  It shows the true values for degree 1 and degree 2, and the higher degree coefficients are close to 0."
   ]
  },
  {
   "cell_type": "code",
   "execution_count": 53,
   "metadata": {
    "cell_id": "3879f6ad1f1a4775b3a70b85f4458331",
    "deepnote_cell_height": 137.375,
    "deepnote_cell_type": "code",
    "deepnote_output_heights": [
     40.390625
    ],
    "deepnote_to_be_reexecuted": false,
    "execution_millis": 11,
    "execution_start": 1652129335380,
    "source_hash": "59aadfbd",
    "tags": []
   },
   "outputs": [
    {
     "data": {
      "text/plain": [
       "array([ 4.10000000e+00,  1.70000000e+00, -1.74892652e-13, -6.55378529e-15,\n",
       "        1.38777878e-16,  0.00000000e+00])"
      ]
     },
     "execution_count": 53,
     "metadata": {},
     "output_type": "execute_result"
    }
   ],
   "source": [
    "reg2.coef_"
   ]
  }
 ],
 "metadata": {
  "deepnote": {},
  "deepnote_execution_queue": [],
  "deepnote_notebook_id": "96f75395-1bd9-42d9-983d-dae439f0f079",
  "kernelspec": {
   "display_name": "Python 3 (ipykernel)",
   "language": "python",
   "name": "python3"
  },
  "language_info": {
   "codemirror_mode": {
    "name": "ipython",
    "version": 3
   },
   "file_extension": ".py",
   "mimetype": "text/x-python",
   "name": "python",
   "nbconvert_exporter": "python",
   "pygments_lexer": "ipython3",
   "version": "3.7.12"
  }
 },
 "nbformat": 4,
 "nbformat_minor": 4
}
