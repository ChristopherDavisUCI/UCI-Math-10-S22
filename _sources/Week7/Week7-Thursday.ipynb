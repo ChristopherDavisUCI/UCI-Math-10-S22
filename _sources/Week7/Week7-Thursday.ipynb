{
 "cells": [
  {
   "cell_type": "markdown",
   "metadata": {
    "cell_id": "e3b772ea-330a-498e-ac52-1a6c81eb4686",
    "deepnote_cell_height": 356.1875,
    "deepnote_cell_type": "markdown",
    "owner_user_id": "02be19f8-8497-4212-b8d0-46ca9f1d48b9",
    "tags": []
   },
   "source": [
    "# Week 7, Thursday Discussion\n",
    "__Today__:\n",
    "\n",
    "- Introduction to the MNIST dataset ~ 25 minutes\n",
    "    - Work through Problems #1 and #2 of Homework #6 together as a class \n",
    "- Independent work on Homework #6 ~ 25 minutes\n",
    "\n",
    "__Reminders__:\n",
    "\n",
    "- Midterm #2 next Thursday during discussion \n",
    "    - I will pass out notecards starting today\n",
    "    - There is no quiz next Tuesday"
   ]
  },
  {
   "cell_type": "markdown",
   "metadata": {
    "cell_id": "390b7d9fe8a040b1b775da8ebc29886d",
    "deepnote_cell_height": 70,
    "deepnote_cell_type": "markdown",
    "tags": []
   },
   "source": [
    "## What is the MNIST dataset?"
   ]
  },
  {
   "cell_type": "markdown",
   "metadata": {
    "cell_id": "fec2e827ed0b4ce095e868809afbc6df",
    "deepnote_cell_height": 885.390625,
    "deepnote_cell_type": "markdown",
    "tags": []
   },
   "source": [
    "![Handwritten 5](../images/mnist.png)\n",
    "\n",
    "Source: [Medium.com](https://medium.com/comet-ml/real-time-numbers-recognition-mnist-on-an-iphone-with-coreml-from-a-to-z-283161441f90)"
   ]
  },
  {
   "cell_type": "markdown",
   "metadata": {
    "cell_id": "16dc9a6a043345b8acfa5180e93cfb61",
    "deepnote_cell_height": 257.1875,
    "deepnote_cell_type": "markdown",
    "owner_user_id": "e590e996-b52f-4e48-8e79-35525bbb42f6",
    "tags": []
   },
   "source": [
    " - The MNIST dataset is a collection of 70,000 images of handwritten digits. \n",
    "    - If I were to show you the image above and ask you to identify what number it is, that's not too difficult of a task. But how would you program a computer to recognize handwritten digits the way your brain does -- this is the focus of Homework #6.\n",
    "\n",
    " - Each image can be understood as a $28 \\times 28$ grid of pixels, where the pixel values are digits between 0 (darkest) and 255 (lightest).\n",
    " - Imagine that we lay out all the pixels in one row; from this perspective, each image is a point in 784-dimensional space.\n",
    "\n",
    "__Question__: Imagine that the MNIST dataset was stored in a pandas dataframe `df`. What would be the dimensions of `df`?"
   ]
  }
 ],
 "metadata": {
  "deepnote": {},
  "deepnote_execution_queue": [],
  "deepnote_notebook_id": "fb295cbb-ffd8-4071-99fe-7d3e37bceb29",
  "kernelspec": {
   "display_name": "Python 3 (ipykernel)",
   "language": "python",
   "name": "python3"
  },
  "language_info": {
   "codemirror_mode": {
    "name": "ipython",
    "version": 3
   },
   "file_extension": ".py",
   "mimetype": "text/x-python",
   "name": "python",
   "nbconvert_exporter": "python",
   "pygments_lexer": "ipython3",
   "version": "3.7.12"
  }
 },
 "nbformat": 4,
 "nbformat_minor": 4
}
