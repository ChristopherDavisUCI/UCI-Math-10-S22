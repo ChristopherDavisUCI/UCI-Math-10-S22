{
 "cells": [
  {
   "cell_type": "markdown",
   "metadata": {
    "cell_id": "72b2b6a38573496290e8378219eeedc4",
    "deepnote_cell_height": 156.796875,
    "deepnote_cell_type": "markdown",
    "tags": []
   },
   "source": [
    "# Homework 6\n",
    "\n",
    "Author: BLANK\n",
    "\n",
    "Collaborators: BLANK"
   ]
  },
  {
   "cell_type": "markdown",
   "metadata": {
    "cell_id": "7141913b6b1f44ca969cf8e700dda8e4",
    "deepnote_cell_height": 108.390625,
    "deepnote_cell_type": "markdown",
    "tags": []
   },
   "source": [
    "## Logistic regression on the MNIST dataset\n",
    "\n",
    "In this homework, we will use logistic regression to classify handwritten digits."
   ]
  },
  {
   "cell_type": "markdown",
   "metadata": {
    "cell_id": "e4ef4f66cba3473388f9d18970098f0a",
    "deepnote_cell_height": 97.1875,
    "deepnote_cell_type": "markdown",
    "tags": []
   },
   "source": [
    "We first load the MNIST data and many useful scikit-learn functions by evaluating the cell below. It will probably take about one minute to execute. (**Warning**. I tried loading this twice, and I ran out of memory. So try to only evaluate this cell once per session.)"
   ]
  },
  {
   "cell_type": "code",
   "execution_count": null,
   "metadata": {
    "cell_id": "5af8b4a32e9440c9a09bd69d95d9d3cc",
    "deepnote_cell_height": 117,
    "deepnote_cell_type": "code",
    "deepnote_to_be_reexecuted": false,
    "execution_millis": 48926,
    "execution_start": 1652039972126,
    "source_hash": "f698eb0b",
    "tags": []
   },
   "outputs": [],
   "source": [
    "from sklearn.datasets import fetch_openml\n",
    "\n",
    "mnist = fetch_openml('mnist_784', version = 1)"
   ]
  },
  {
   "cell_type": "markdown",
   "metadata": {
    "cell_id": "a9a49c7e2d754434a7d58c08a8144e5a",
    "deepnote_cell_height": 280.1875,
    "deepnote_cell_type": "markdown",
    "tags": []
   },
   "source": [
    "### Question 1\n",
    "\n",
    "* What is the `type` of `mnist`?  (Hint.  It's not a type we have worked with before.)\n",
    "* You can find the different attributes of `mnist` by evaluating `dir(mnist)`.  For example, `mnist.data` should be thought of as the input data; it is a pandas DataFrame with 70000 rows and 784 columns.\n",
    "* Which attribute do you think holds the output data?  Check your answer.  It should be a pandas Series of `size` 70000.\n",
    "* Use `X = mnist.data` to save the input data with the variable name `X`, and similarly save the output data with the variable name `y`.  (The convention is to use a capital letter for the input and a lower-case letter for the output, I think as a reminder that the input is a two-dimensional pandas DataFrame whereas the output is a one-dimensional pandas Series.)"
   ]
  },
  {
   "cell_type": "markdown",
   "metadata": {
    "cell_id": "91f4c32749694e61b548bf9a6fce7889",
    "deepnote_cell_height": 409.578125,
    "deepnote_cell_type": "markdown",
    "tags": []
   },
   "source": [
    "### Question 2\n",
    "\n",
    "* Define `A` to be the second row of `X`. (Start counting at 0.  use `iloc`, not `loc`, even though they will both give the same answer in this case.)\n",
    "* Convert `A` to a NumPy array using the `to_numpy()` method.\n",
    "* Check your answer: `A` should now be a NumPy array of shape `(784,)` (that is how Python displays a tuple of length 1).\n",
    "* Notice that $784 = 28^2$.  Reshape `A` to have shape `(28,28)` by using the `reshape` method.  (You can call `help(A.reshape)` to find out what the input should look like.)\n",
    "* Import `matplotlib.pyplot` as `plt` and then use the following code to visualize `A`.\n",
    "```\n",
    "fig, ax = plt.subplots()\n",
    "ax.imshow(A)\n",
    "```\n",
    "* Use the keyword argument `cmap` with the value of `\"binary\"` when calling `imshow` so that the image is displayed in black-and-white.  You can also use `\"binary_r\"` if you want the colors reversed.\n",
    "* What is the corresponding value in `y`?  Does it match what you expected?"
   ]
  },
  {
   "cell_type": "markdown",
   "metadata": {
    "cell_id": "010aaa88f2594f6cb0beaaa4a7c23839",
    "deepnote_cell_height": 136.796875,
    "deepnote_cell_type": "markdown",
    "tags": []
   },
   "source": [
    "### Question 3\n",
    "\n",
    "* Divide `X` into `X_train` and `X_test` and `y` into `y_train` and `y_test` using `train_test_split`.  Specify that the `test_size` should be 20% of the total data."
   ]
  },
  {
   "cell_type": "markdown",
   "metadata": {
    "cell_id": "a17b44678a7c4e85a6571500dd8327ec",
    "deepnote_cell_height": 392.78125,
    "deepnote_cell_type": "markdown",
    "tags": []
   },
   "source": [
    "### Question 4\n",
    "\n",
    "This is a fairly big dataset, so we will change some default values when instantiating the `LogisticRegression` object.  You will need to look up the keywords to use in the [scikit-learn documentation](https://scikit-learn.org/stable/modules/generated/sklearn.linear_model.LogisticRegression.html) for `LogisticRegression`.\n",
    "* Name the `LogisticRegression` object `clf` (for \"classifier\").\n",
    "* Use a tolerance of `0.1`.  (This is larger than the default value, so it lets the fitting process stop earlier.)\n",
    "* For the solver, use one of the two solvers that the documentation mentions as a good choice for large datasets.\n",
    "* If necessary, you can increase the maximum number of iterations, but I didn't need to.\n",
    "* Fit a logistic regression model using the training data.\n",
    "* How many total parameters are held in the `clf.coef_`?  First convert `clf.coef_` to a one-dimensional NumPy array using `reshape(-1)`, then check the `size`.\n",
    "* What proportion of those parameters are at least 0.0001?  At least 0.01?   First make a Boolean array, and then call the `sum` method.  (I think it is almost always better to use `arr.sum()` and not to use `sum(arr)`.)  When I tried this, my answers were approximately 0.3 and 0, respectively."
   ]
  },
  {
   "cell_type": "markdown",
   "metadata": {
    "cell_id": "2d9816e92c484abe8b38e65a4a0f117a",
    "deepnote_cell_height": 139.796875,
    "deepnote_cell_type": "markdown",
    "tags": []
   },
   "source": [
    "### Question 5\n",
    "* Evaluate `clf.score` (i.e., the prediction accuracy) on the training set.\n",
    "* Compute this same number a second way, by calling `mean()` on a suitable Boolean Series."
   ]
  },
  {
   "cell_type": "markdown",
   "metadata": {
    "cell_id": "4b883e91c7cc4f09b895d50c9950b1bd",
    "deepnote_cell_height": 184.59375,
    "deepnote_cell_type": "markdown",
    "tags": []
   },
   "source": [
    "### Question 6\n",
    "\n",
    "* Evaluate `clf.score` on the test set.\n",
    "* Does the result suggest that overfitting is a concern in this case?  (This is a difficult question to make precise.  In general, if the two accuracies are similar, maybe off by 5%, then I would say that overfitting is probably not a serious concern.  And if the test accuracy is higher than the training accuracy, then overfitting is definitely not a concern.)"
   ]
  },
  {
   "cell_type": "markdown",
   "metadata": {
    "cell_id": "f81cfc18bf654459bbf105f5cd9e09d5",
    "deepnote_cell_height": 159.1875,
    "deepnote_cell_type": "markdown",
    "tags": []
   },
   "source": [
    "### Question 7\n",
    "\n",
    "* Make a pandas DataFrame `df` containing two columns.  The first column should be called \"Digit\" and should contain the values from `y_test`.  The second column should be called \"Pred\" and contain the predicted values corresponding to `X_test`.  (Reality check: `df` should have 14000 rows and 2 columns.)"
   ]
  },
  {
   "cell_type": "markdown",
   "metadata": {
    "cell_id": "c0b5170059db4b4985dd5c7b3d1eb138",
    "deepnote_cell_height": 573.53125,
    "deepnote_cell_type": "markdown",
    "tags": []
   },
   "source": [
    "### Question 8\n",
    "\n",
    "* Begin making a *confusion matrix* for this data using the following code.\n",
    "\n",
    "```\n",
    "import altair as alt\n",
    "alt.data_transformers.enable('default', max_rows=15000)\n",
    "\n",
    "c = alt.Chart(df).mark_rect().encode(\n",
    "    x=\"Digit\",\n",
    "    y=\"Pred\",\n",
    ")\n",
    "\n",
    "c_text = alt.Chart(df).mark_text(color=\"white\").encode(\n",
    "    x=\"Digit\",\n",
    "    y=\"Pred\",\n",
    "    text=\"Pred\"\n",
    ")\n",
    "\n",
    "(c+c_text).properties(\n",
    "    height=400,\n",
    "    width=400\n",
    ")\n",
    "```\n",
    "* Specify that the color on the rectangle chart should correspond to `\"count()\"`, using the color scheme \"turbo\".\n",
    "* Change the text on the text chart from \"Pred\" to `\"count()\"`.\n"
   ]
  },
  {
   "cell_type": "markdown",
   "metadata": {
    "cell_id": "1bc99ca0ac3347a2b4765570def98c3d",
    "deepnote_cell_height": 350.96875,
    "deepnote_cell_type": "markdown",
    "deepnote_to_be_reexecuted": false,
    "execution_millis": 0,
    "execution_start": 1652044047689,
    "source_hash": "2cee6966",
    "tags": []
   },
   "source": [
    "### Question 9\n",
    "\n",
    "Use the above confusion matrix to answer the following questions.\n",
    "\n",
    "* What is an example of a (true digit, predicted digit) pair that never occurs in the test data?\n",
    "* What are the two most common mistakes made by the classifier when attempting to classify a 9 digit?\n",
    "* Do those mistakes seem reasonable?\n",
    "* Try evaluating the following code.  Do you see why the pandas Series it displays relates to the confusion matrix?\n",
    "```\n",
    "for a,b in df.groupby(\"Digit\"):\n",
    "    if a==9:\n",
    "        break\n",
    "\n",
    "display(b[\"Pred\"].value_counts())\n",
    "```"
   ]
  },
  {
   "cell_type": "markdown",
   "metadata": {
    "cell_id": "1b5ba01c800a42bfb274be19d63f3800",
    "deepnote_cell_height": 162.1875,
    "deepnote_cell_type": "markdown",
    "tags": []
   },
   "source": [
    "### Question 10\n",
    "\n",
    "* Find an example of an incorrectly classified digit.  Display that digit using `imshow`, as we did at the top of this homework.  (Hint.  If you're using code like `df[\"Digit\"]==9`, it won't work; use `\"9\"` instead.)\n",
    "* Looking at the digit, does the mistake seem reasonable?"
   ]
  },
  {
   "cell_type": "markdown",
   "metadata": {
    "cell_id": "8b8ad0375fe548d4859a280471940ef8",
    "deepnote_cell_height": 130.796875,
    "deepnote_cell_type": "markdown",
    "owner_user_id": "02be19f8-8497-4212-b8d0-46ca9f1d48b9",
    "tags": []
   },
   "source": [
    "## Submission\n",
    "\n",
    "Using the Share & publish link at the top right, enable public sharing in the \"Share project\" section, and **enable Comment privileges**. Then submit that link on Canvas."
   ]
  }
 ],
 "metadata": {
  "deepnote": {},
  "deepnote_execution_queue": [],
  "deepnote_notebook_id": "1279643e-406c-4e25-8e62-6fa37065cc3e",
  "kernelspec": {
   "display_name": "Python 3 (ipykernel)",
   "language": "python",
   "name": "python3"
  },
  "language_info": {
   "codemirror_mode": {
    "name": "ipython",
    "version": 3
   },
   "file_extension": ".py",
   "mimetype": "text/x-python",
   "name": "python",
   "nbconvert_exporter": "python",
   "pygments_lexer": "ipython3",
   "version": "3.7.12"
  }
 },
 "nbformat": 4,
 "nbformat_minor": 4
}
