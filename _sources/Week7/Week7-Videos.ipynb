{
 "cells": [
  {
   "cell_type": "markdown",
   "metadata": {
    "cell_id": "14eacf47-59f2-4c91-b4a8-9888d2494867",
    "deepnote_cell_height": 82,
    "deepnote_cell_type": "markdown",
    "tags": []
   },
   "source": [
    "# Week 7 Videos"
   ]
  },
  {
   "cell_type": "markdown",
   "metadata": {
    "cell_id": "89507490b4a64731addbbae80830e2ac",
    "deepnote_cell_height": 499.1875,
    "deepnote_cell_type": "markdown",
    "tags": []
   },
   "source": [
    "## Trying to use linear regression for classification\n",
    "\n",
    "<iframe width=\"560\" height=\"315\" src=\"https://www.youtube.com/embed/2F1CIww84k8\" title=\"YouTube video player\" frameborder=\"0\" allow=\"accelerometer; autoplay; clipboard-write; encrypted-media; gyroscope; picture-in-picture\" allowfullscreen></iframe>\n",
    "\n",
    "With respect to the *penguins* dataset, write a linear function to model the following.\n",
    "* Input: bill length\n",
    "* Output: 1 if the species is \"Adelie\", 0 otherwise"
   ]
  },
  {
   "cell_type": "code",
   "execution_count": null,
   "metadata": {
    "cell_id": "1881d91b7fa6494bbd9bbfb542b48331",
    "deepnote_cell_height": 135,
    "deepnote_cell_type": "code",
    "deepnote_to_be_reexecuted": false,
    "execution_millis": 2300,
    "execution_start": 1652030233114,
    "source_hash": "35186654",
    "tags": []
   },
   "outputs": [],
   "source": [
    "import numpy as np\n",
    "import pandas as pd\n",
    "import altair as alt\n",
    "import seaborn as sns"
   ]
  },
  {
   "cell_type": "code",
   "execution_count": null,
   "metadata": {
    "cell_id": "b1232a1625264e7bac541a43229b6209",
    "deepnote_cell_height": 81,
    "deepnote_cell_type": "code",
    "deepnote_to_be_reexecuted": false,
    "execution_millis": 12,
    "execution_start": 1652030235418,
    "source_hash": "2f65c9b6",
    "tags": []
   },
   "outputs": [],
   "source": [
    "df = sns.load_dataset(\"penguins\").dropna()"
   ]
  },
  {
   "cell_type": "code",
   "execution_count": null,
   "metadata": {
    "cell_id": "e9398fb6b1ac4d509542dee09dcc4b74",
    "deepnote_cell_height": 81,
    "deepnote_cell_type": "code",
    "deepnote_to_be_reexecuted": false,
    "execution_millis": 6,
    "execution_start": 1652030235439,
    "source_hash": "76cf1711",
    "tags": []
   },
   "outputs": [],
   "source": [
    "df[\"isAdelie_bool\"] = (df[\"species\"] == \"Adelie\")"
   ]
  },
  {
   "cell_type": "code",
   "execution_count": null,
   "metadata": {
    "cell_id": "4907c10abf2245a1bb6ebee385594df3",
    "deepnote_cell_height": 395,
    "deepnote_cell_type": "code",
    "deepnote_to_be_reexecuted": false,
    "execution_millis": 42,
    "execution_start": 1652030235463,
    "source_hash": "c085b6ba",
    "tags": []
   },
   "outputs": [
    {
     "data": {
      "application/vnd.deepnote.dataframe.v3+json": {
       "column_count": 8,
       "columns": [
        {
         "dtype": "object",
         "name": "species",
         "stats": {
          "categories": [
           {
            "count": 5,
            "name": "Adelie"
           }
          ],
          "nan_count": 0,
          "unique_count": 1
         }
        },
        {
         "dtype": "object",
         "name": "island",
         "stats": {
          "categories": [
           {
            "count": 5,
            "name": "Torgersen"
           }
          ],
          "nan_count": 0,
          "unique_count": 1
         }
        },
        {
         "dtype": "float64",
         "name": "bill_length_mm",
         "stats": {
          "histogram": [
           {
            "bin_end": 37.06,
            "bin_start": 36.7,
            "count": 1
           },
           {
            "bin_end": 37.42,
            "bin_start": 37.06,
            "count": 0
           },
           {
            "bin_end": 37.78,
            "bin_start": 37.42,
            "count": 0
           },
           {
            "bin_end": 38.14,
            "bin_start": 37.78,
            "count": 0
           },
           {
            "bin_end": 38.5,
            "bin_start": 38.14,
            "count": 0
           },
           {
            "bin_end": 38.86,
            "bin_start": 38.5,
            "count": 0
           },
           {
            "bin_end": 39.22,
            "bin_start": 38.86,
            "count": 1
           },
           {
            "bin_end": 39.58,
            "bin_start": 39.22,
            "count": 2
           },
           {
            "bin_end": 39.94,
            "bin_start": 39.58,
            "count": 0
           },
           {
            "bin_end": 40.3,
            "bin_start": 39.94,
            "count": 1
           }
          ],
          "max": "40.3",
          "min": "36.7",
          "nan_count": 0,
          "unique_count": 5
         }
        },
        {
         "dtype": "float64",
         "name": "bill_depth_mm",
         "stats": {
          "histogram": [
           {
            "bin_end": 17.72,
            "bin_start": 17.4,
            "count": 1
           },
           {
            "bin_end": 18.04,
            "bin_start": 17.72,
            "count": 1
           },
           {
            "bin_end": 18.36,
            "bin_start": 18.04,
            "count": 0
           },
           {
            "bin_end": 18.68,
            "bin_start": 18.36,
            "count": 0
           },
           {
            "bin_end": 19,
            "bin_start": 18.68,
            "count": 1
           },
           {
            "bin_end": 19.32,
            "bin_start": 19,
            "count": 1
           },
           {
            "bin_end": 19.64,
            "bin_start": 19.32,
            "count": 0
           },
           {
            "bin_end": 19.96,
            "bin_start": 19.64,
            "count": 0
           },
           {
            "bin_end": 20.28,
            "bin_start": 19.96,
            "count": 0
           },
           {
            "bin_end": 20.6,
            "bin_start": 20.28,
            "count": 1
           }
          ],
          "max": "20.6",
          "min": "17.4",
          "nan_count": 0,
          "unique_count": 5
         }
        },
        {
         "dtype": "float64",
         "name": "flipper_length_mm",
         "stats": {
          "histogram": [
           {
            "bin_end": 182.4,
            "bin_start": 181,
            "count": 1
           },
           {
            "bin_end": 183.8,
            "bin_start": 182.4,
            "count": 0
           },
           {
            "bin_end": 185.2,
            "bin_start": 183.8,
            "count": 0
           },
           {
            "bin_end": 186.6,
            "bin_start": 185.2,
            "count": 1
           },
           {
            "bin_end": 188,
            "bin_start": 186.6,
            "count": 0
           },
           {
            "bin_end": 189.4,
            "bin_start": 188,
            "count": 0
           },
           {
            "bin_end": 190.8,
            "bin_start": 189.4,
            "count": 1
           },
           {
            "bin_end": 192.2,
            "bin_start": 190.8,
            "count": 0
           },
           {
            "bin_end": 193.6,
            "bin_start": 192.2,
            "count": 1
           },
           {
            "bin_end": 195,
            "bin_start": 193.6,
            "count": 1
           }
          ],
          "max": "195.0",
          "min": "181.0",
          "nan_count": 0,
          "unique_count": 5
         }
        },
        {
         "dtype": "float64",
         "name": "body_mass_g",
         "stats": {
          "histogram": [
           {
            "bin_end": 3305,
            "bin_start": 3250,
            "count": 1
           },
           {
            "bin_end": 3360,
            "bin_start": 3305,
            "count": 0
           },
           {
            "bin_end": 3415,
            "bin_start": 3360,
            "count": 0
           },
           {
            "bin_end": 3470,
            "bin_start": 3415,
            "count": 1
           },
           {
            "bin_end": 3525,
            "bin_start": 3470,
            "count": 0
           },
           {
            "bin_end": 3580,
            "bin_start": 3525,
            "count": 0
           },
           {
            "bin_end": 3635,
            "bin_start": 3580,
            "count": 0
           },
           {
            "bin_end": 3690,
            "bin_start": 3635,
            "count": 1
           },
           {
            "bin_end": 3745,
            "bin_start": 3690,
            "count": 0
           },
           {
            "bin_end": 3800,
            "bin_start": 3745,
            "count": 2
           }
          ],
          "max": "3800.0",
          "min": "3250.0",
          "nan_count": 0,
          "unique_count": 5
         }
        },
        {
         "dtype": "object",
         "name": "sex",
         "stats": {
          "categories": [
           {
            "count": 3,
            "name": "Female"
           },
           {
            "count": 2,
            "name": "Male"
           }
          ],
          "nan_count": 0,
          "unique_count": 2
         }
        },
        {
         "dtype": "bool",
         "name": "isAdelie_bool",
         "stats": {
          "categories": [
           {
            "count": 5,
            "name": "True"
           }
          ],
          "nan_count": 0,
          "unique_count": 1
         }
        },
        {
         "dtype": "int64",
         "name": "_deepnote_index_column"
        }
       ],
       "row_count": 5,
       "rows": [
        {
         "_deepnote_index_column": 0,
         "bill_depth_mm": 18.7,
         "bill_length_mm": 39.1,
         "body_mass_g": 3750,
         "flipper_length_mm": 181,
         "isAdelie_bool": true,
         "island": "Torgersen",
         "sex": "Male",
         "species": "Adelie"
        },
        {
         "_deepnote_index_column": 1,
         "bill_depth_mm": 17.4,
         "bill_length_mm": 39.5,
         "body_mass_g": 3800,
         "flipper_length_mm": 186,
         "isAdelie_bool": true,
         "island": "Torgersen",
         "sex": "Female",
         "species": "Adelie"
        },
        {
         "_deepnote_index_column": 2,
         "bill_depth_mm": 18,
         "bill_length_mm": 40.3,
         "body_mass_g": 3250,
         "flipper_length_mm": 195,
         "isAdelie_bool": true,
         "island": "Torgersen",
         "sex": "Female",
         "species": "Adelie"
        },
        {
         "_deepnote_index_column": 4,
         "bill_depth_mm": 19.3,
         "bill_length_mm": 36.7,
         "body_mass_g": 3450,
         "flipper_length_mm": 193,
         "isAdelie_bool": true,
         "island": "Torgersen",
         "sex": "Female",
         "species": "Adelie"
        },
        {
         "_deepnote_index_column": 5,
         "bill_depth_mm": 20.6,
         "bill_length_mm": 39.3,
         "body_mass_g": 3650,
         "flipper_length_mm": 190,
         "isAdelie_bool": true,
         "island": "Torgersen",
         "sex": "Male",
         "species": "Adelie"
        }
       ]
      },
      "text/html": [
       "<div>\n",
       "<style scoped>\n",
       "    .dataframe tbody tr th:only-of-type {\n",
       "        vertical-align: middle;\n",
       "    }\n",
       "\n",
       "    .dataframe tbody tr th {\n",
       "        vertical-align: top;\n",
       "    }\n",
       "\n",
       "    .dataframe thead th {\n",
       "        text-align: right;\n",
       "    }\n",
       "</style>\n",
       "<table border=\"1\" class=\"dataframe\">\n",
       "  <thead>\n",
       "    <tr style=\"text-align: right;\">\n",
       "      <th></th>\n",
       "      <th>species</th>\n",
       "      <th>island</th>\n",
       "      <th>bill_length_mm</th>\n",
       "      <th>bill_depth_mm</th>\n",
       "      <th>flipper_length_mm</th>\n",
       "      <th>body_mass_g</th>\n",
       "      <th>sex</th>\n",
       "      <th>isAdelie_bool</th>\n",
       "    </tr>\n",
       "  </thead>\n",
       "  <tbody>\n",
       "    <tr>\n",
       "      <th>0</th>\n",
       "      <td>Adelie</td>\n",
       "      <td>Torgersen</td>\n",
       "      <td>39.1</td>\n",
       "      <td>18.7</td>\n",
       "      <td>181.0</td>\n",
       "      <td>3750.0</td>\n",
       "      <td>Male</td>\n",
       "      <td>True</td>\n",
       "    </tr>\n",
       "    <tr>\n",
       "      <th>1</th>\n",
       "      <td>Adelie</td>\n",
       "      <td>Torgersen</td>\n",
       "      <td>39.5</td>\n",
       "      <td>17.4</td>\n",
       "      <td>186.0</td>\n",
       "      <td>3800.0</td>\n",
       "      <td>Female</td>\n",
       "      <td>True</td>\n",
       "    </tr>\n",
       "    <tr>\n",
       "      <th>2</th>\n",
       "      <td>Adelie</td>\n",
       "      <td>Torgersen</td>\n",
       "      <td>40.3</td>\n",
       "      <td>18.0</td>\n",
       "      <td>195.0</td>\n",
       "      <td>3250.0</td>\n",
       "      <td>Female</td>\n",
       "      <td>True</td>\n",
       "    </tr>\n",
       "    <tr>\n",
       "      <th>4</th>\n",
       "      <td>Adelie</td>\n",
       "      <td>Torgersen</td>\n",
       "      <td>36.7</td>\n",
       "      <td>19.3</td>\n",
       "      <td>193.0</td>\n",
       "      <td>3450.0</td>\n",
       "      <td>Female</td>\n",
       "      <td>True</td>\n",
       "    </tr>\n",
       "    <tr>\n",
       "      <th>5</th>\n",
       "      <td>Adelie</td>\n",
       "      <td>Torgersen</td>\n",
       "      <td>39.3</td>\n",
       "      <td>20.6</td>\n",
       "      <td>190.0</td>\n",
       "      <td>3650.0</td>\n",
       "      <td>Male</td>\n",
       "      <td>True</td>\n",
       "    </tr>\n",
       "  </tbody>\n",
       "</table>\n",
       "</div>"
      ],
      "text/plain": [
       "  species     island  bill_length_mm  bill_depth_mm  flipper_length_mm  \\\n",
       "0  Adelie  Torgersen            39.1           18.7              181.0   \n",
       "1  Adelie  Torgersen            39.5           17.4              186.0   \n",
       "2  Adelie  Torgersen            40.3           18.0              195.0   \n",
       "4  Adelie  Torgersen            36.7           19.3              193.0   \n",
       "5  Adelie  Torgersen            39.3           20.6              190.0   \n",
       "\n",
       "   body_mass_g     sex  isAdelie_bool  \n",
       "0       3750.0    Male           True  \n",
       "1       3800.0  Female           True  \n",
       "2       3250.0  Female           True  \n",
       "4       3450.0  Female           True  \n",
       "5       3650.0    Male           True  "
      ]
     },
     "execution_count": 4,
     "metadata": {},
     "output_type": "execute_result"
    }
   ],
   "source": [
    "df.head()"
   ]
  },
  {
   "cell_type": "code",
   "execution_count": null,
   "metadata": {
    "cell_id": "5046b9764b7a4b4aa587c78c829a40c9",
    "deepnote_cell_height": 329.34375,
    "deepnote_cell_type": "code",
    "deepnote_output_heights": [
     232.34375
    ],
    "deepnote_to_be_reexecuted": false,
    "execution_millis": 33,
    "execution_start": 1652030235511,
    "source_hash": "72fdf027",
    "tags": []
   },
   "outputs": [
    {
     "data": {
      "text/plain": [
       "0       True\n",
       "1       True\n",
       "2       True\n",
       "4       True\n",
       "5       True\n",
       "       ...  \n",
       "338    False\n",
       "340    False\n",
       "341    False\n",
       "342    False\n",
       "343    False\n",
       "Name: species, Length: 333, dtype: bool"
      ]
     },
     "execution_count": 5,
     "metadata": {},
     "output_type": "execute_result"
    }
   ],
   "source": [
    "(df[\"species\"] == \"Adelie\")"
   ]
  },
  {
   "cell_type": "code",
   "execution_count": null,
   "metadata": {
    "cell_id": "58bce52acf404525ae92896c3841089c",
    "deepnote_cell_height": 329.34375,
    "deepnote_cell_type": "code",
    "deepnote_output_heights": [
     232.34375
    ],
    "deepnote_to_be_reexecuted": false,
    "execution_millis": 2,
    "execution_start": 1652030235542,
    "source_hash": "ada7cb49",
    "tags": []
   },
   "outputs": [
    {
     "data": {
      "text/plain": [
       "0      1.0\n",
       "1      1.0\n",
       "2      1.0\n",
       "4      1.0\n",
       "5      1.0\n",
       "      ... \n",
       "338    0.0\n",
       "340    0.0\n",
       "341    0.0\n",
       "342    0.0\n",
       "343    0.0\n",
       "Name: species, Length: 333, dtype: float64"
      ]
     },
     "execution_count": 6,
     "metadata": {},
     "output_type": "execute_result"
    }
   ],
   "source": [
    "(df[\"species\"] == \"Adelie\").astype(float)"
   ]
  },
  {
   "cell_type": "code",
   "execution_count": null,
   "metadata": {
    "cell_id": "6c5c3b98ee624098a9bad17ca5edc625",
    "deepnote_cell_height": 81,
    "deepnote_cell_type": "code",
    "deepnote_to_be_reexecuted": false,
    "execution_millis": 0,
    "execution_start": 1652030235543,
    "source_hash": "d9c77f68",
    "tags": []
   },
   "outputs": [],
   "source": [
    "df[\"isAdelie_float\"] = (df[\"species\"] == \"Adelie\").astype(float)"
   ]
  },
  {
   "cell_type": "code",
   "execution_count": null,
   "metadata": {
    "cell_id": "414f152b44b649bea569739831670b7b",
    "deepnote_cell_height": 395,
    "deepnote_cell_type": "code",
    "deepnote_to_be_reexecuted": false,
    "execution_millis": 8,
    "execution_start": 1652030235570,
    "source_hash": "838c0c28",
    "tags": []
   },
   "outputs": [
    {
     "data": {
      "application/vnd.deepnote.dataframe.v3+json": {
       "column_count": 9,
       "columns": [
        {
         "dtype": "object",
         "name": "species",
         "stats": {
          "categories": [
           {
            "count": 5,
            "name": "Gentoo"
           }
          ],
          "nan_count": 0,
          "unique_count": 1
         }
        },
        {
         "dtype": "object",
         "name": "island",
         "stats": {
          "categories": [
           {
            "count": 5,
            "name": "Biscoe"
           }
          ],
          "nan_count": 0,
          "unique_count": 1
         }
        },
        {
         "dtype": "float64",
         "name": "bill_length_mm",
         "stats": {
          "histogram": [
           {
            "bin_end": 45.72,
            "bin_start": 45.2,
            "count": 1
           },
           {
            "bin_end": 46.24,
            "bin_start": 45.72,
            "count": 0
           },
           {
            "bin_end": 46.760000000000005,
            "bin_start": 46.24,
            "count": 0
           },
           {
            "bin_end": 47.28,
            "bin_start": 46.760000000000005,
            "count": 2
           },
           {
            "bin_end": 47.8,
            "bin_start": 47.28,
            "count": 0
           },
           {
            "bin_end": 48.32,
            "bin_start": 47.8,
            "count": 0
           },
           {
            "bin_end": 48.84,
            "bin_start": 48.32,
            "count": 0
           },
           {
            "bin_end": 49.36,
            "bin_start": 48.84,
            "count": 0
           },
           {
            "bin_end": 49.879999999999995,
            "bin_start": 49.36,
            "count": 0
           },
           {
            "bin_end": 50.4,
            "bin_start": 49.879999999999995,
            "count": 2
           }
          ],
          "max": "50.4",
          "min": "45.2",
          "nan_count": 0,
          "unique_count": 5
         }
        },
        {
         "dtype": "float64",
         "name": "bill_depth_mm",
         "stats": {
          "histogram": [
           {
            "bin_end": 13.94,
            "bin_start": 13.7,
            "count": 1
           },
           {
            "bin_end": 14.18,
            "bin_start": 13.94,
            "count": 0
           },
           {
            "bin_end": 14.42,
            "bin_start": 14.18,
            "count": 1
           },
           {
            "bin_end": 14.66,
            "bin_start": 14.42,
            "count": 0
           },
           {
            "bin_end": 14.9,
            "bin_start": 14.66,
            "count": 1
           },
           {
            "bin_end": 15.14,
            "bin_start": 14.9,
            "count": 0
           },
           {
            "bin_end": 15.38,
            "bin_start": 15.14,
            "count": 0
           },
           {
            "bin_end": 15.620000000000001,
            "bin_start": 15.38,
            "count": 0
           },
           {
            "bin_end": 15.860000000000001,
            "bin_start": 15.620000000000001,
            "count": 1
           },
           {
            "bin_end": 16.1,
            "bin_start": 15.860000000000001,
            "count": 1
           }
          ],
          "max": "16.1",
          "min": "13.7",
          "nan_count": 0,
          "unique_count": 5
         }
        },
        {
         "dtype": "float64",
         "name": "flipper_length_mm",
         "stats": {
          "histogram": [
           {
            "bin_end": 213,
            "bin_start": 212,
            "count": 1
           },
           {
            "bin_end": 214,
            "bin_start": 213,
            "count": 1
           },
           {
            "bin_end": 215,
            "bin_start": 214,
            "count": 1
           },
           {
            "bin_end": 216,
            "bin_start": 215,
            "count": 1
           },
           {
            "bin_end": 217,
            "bin_start": 216,
            "count": 0
           },
           {
            "bin_end": 218,
            "bin_start": 217,
            "count": 0
           },
           {
            "bin_end": 219,
            "bin_start": 218,
            "count": 0
           },
           {
            "bin_end": 220,
            "bin_start": 219,
            "count": 0
           },
           {
            "bin_end": 221,
            "bin_start": 220,
            "count": 0
           },
           {
            "bin_end": 222,
            "bin_start": 221,
            "count": 1
           }
          ],
          "max": "222.0",
          "min": "212.0",
          "nan_count": 0,
          "unique_count": 5
         }
        },
        {
         "dtype": "float64",
         "name": "body_mass_g",
         "stats": {
          "histogram": [
           {
            "bin_end": 4940,
            "bin_start": 4850,
            "count": 2
           },
           {
            "bin_end": 5030,
            "bin_start": 4940,
            "count": 0
           },
           {
            "bin_end": 5120,
            "bin_start": 5030,
            "count": 0
           },
           {
            "bin_end": 5210,
            "bin_start": 5120,
            "count": 1
           },
           {
            "bin_end": 5300,
            "bin_start": 5210,
            "count": 0
           },
           {
            "bin_end": 5390,
            "bin_start": 5300,
            "count": 0
           },
           {
            "bin_end": 5480,
            "bin_start": 5390,
            "count": 1
           },
           {
            "bin_end": 5570,
            "bin_start": 5480,
            "count": 0
           },
           {
            "bin_end": 5660,
            "bin_start": 5570,
            "count": 0
           },
           {
            "bin_end": 5750,
            "bin_start": 5660,
            "count": 1
           }
          ],
          "max": "5750.0",
          "min": "4850.0",
          "nan_count": 0,
          "unique_count": 5
         }
        },
        {
         "dtype": "object",
         "name": "sex",
         "stats": {
          "categories": [
           {
            "count": 3,
            "name": "Female"
           },
           {
            "count": 2,
            "name": "Male"
           }
          ],
          "nan_count": 0,
          "unique_count": 2
         }
        },
        {
         "dtype": "bool",
         "name": "isAdelie_bool",
         "stats": {
          "categories": [
           {
            "count": 5,
            "name": "False"
           }
          ],
          "nan_count": 0,
          "unique_count": 1
         }
        },
        {
         "dtype": "float64",
         "name": "isAdelie_float",
         "stats": {
          "histogram": [
           {
            "bin_end": -0.4,
            "bin_start": -0.5,
            "count": 0
           },
           {
            "bin_end": -0.3,
            "bin_start": -0.4,
            "count": 0
           },
           {
            "bin_end": -0.19999999999999996,
            "bin_start": -0.3,
            "count": 0
           },
           {
            "bin_end": -0.09999999999999998,
            "bin_start": -0.19999999999999996,
            "count": 0
           },
           {
            "bin_end": 0,
            "bin_start": -0.09999999999999998,
            "count": 0
           },
           {
            "bin_end": 0.10000000000000009,
            "bin_start": 0,
            "count": 5
           },
           {
            "bin_end": 0.20000000000000007,
            "bin_start": 0.10000000000000009,
            "count": 0
           },
           {
            "bin_end": 0.30000000000000004,
            "bin_start": 0.20000000000000007,
            "count": 0
           },
           {
            "bin_end": 0.4,
            "bin_start": 0.30000000000000004,
            "count": 0
           },
           {
            "bin_end": 0.5,
            "bin_start": 0.4,
            "count": 0
           }
          ],
          "max": "0.0",
          "min": "0.0",
          "nan_count": 0,
          "unique_count": 1
         }
        },
        {
         "dtype": "int64",
         "name": "_deepnote_index_column"
        }
       ],
       "row_count": 5,
       "rows": [
        {
         "_deepnote_index_column": 338,
         "bill_depth_mm": 13.7,
         "bill_length_mm": 47.2,
         "body_mass_g": 4925,
         "flipper_length_mm": 214,
         "isAdelie_bool": false,
         "isAdelie_float": 0,
         "island": "Biscoe",
         "sex": "Female",
         "species": "Gentoo"
        },
        {
         "_deepnote_index_column": 340,
         "bill_depth_mm": 14.3,
         "bill_length_mm": 46.8,
         "body_mass_g": 4850,
         "flipper_length_mm": 215,
         "isAdelie_bool": false,
         "isAdelie_float": 0,
         "island": "Biscoe",
         "sex": "Female",
         "species": "Gentoo"
        },
        {
         "_deepnote_index_column": 341,
         "bill_depth_mm": 15.7,
         "bill_length_mm": 50.4,
         "body_mass_g": 5750,
         "flipper_length_mm": 222,
         "isAdelie_bool": false,
         "isAdelie_float": 0,
         "island": "Biscoe",
         "sex": "Male",
         "species": "Gentoo"
        },
        {
         "_deepnote_index_column": 342,
         "bill_depth_mm": 14.8,
         "bill_length_mm": 45.2,
         "body_mass_g": 5200,
         "flipper_length_mm": 212,
         "isAdelie_bool": false,
         "isAdelie_float": 0,
         "island": "Biscoe",
         "sex": "Female",
         "species": "Gentoo"
        },
        {
         "_deepnote_index_column": 343,
         "bill_depth_mm": 16.1,
         "bill_length_mm": 49.9,
         "body_mass_g": 5400,
         "flipper_length_mm": 213,
         "isAdelie_bool": false,
         "isAdelie_float": 0,
         "island": "Biscoe",
         "sex": "Male",
         "species": "Gentoo"
        }
       ]
      },
      "text/html": [
       "<div>\n",
       "<style scoped>\n",
       "    .dataframe tbody tr th:only-of-type {\n",
       "        vertical-align: middle;\n",
       "    }\n",
       "\n",
       "    .dataframe tbody tr th {\n",
       "        vertical-align: top;\n",
       "    }\n",
       "\n",
       "    .dataframe thead th {\n",
       "        text-align: right;\n",
       "    }\n",
       "</style>\n",
       "<table border=\"1\" class=\"dataframe\">\n",
       "  <thead>\n",
       "    <tr style=\"text-align: right;\">\n",
       "      <th></th>\n",
       "      <th>species</th>\n",
       "      <th>island</th>\n",
       "      <th>bill_length_mm</th>\n",
       "      <th>bill_depth_mm</th>\n",
       "      <th>flipper_length_mm</th>\n",
       "      <th>body_mass_g</th>\n",
       "      <th>sex</th>\n",
       "      <th>isAdelie_bool</th>\n",
       "      <th>isAdelie_float</th>\n",
       "    </tr>\n",
       "  </thead>\n",
       "  <tbody>\n",
       "    <tr>\n",
       "      <th>338</th>\n",
       "      <td>Gentoo</td>\n",
       "      <td>Biscoe</td>\n",
       "      <td>47.2</td>\n",
       "      <td>13.7</td>\n",
       "      <td>214.0</td>\n",
       "      <td>4925.0</td>\n",
       "      <td>Female</td>\n",
       "      <td>False</td>\n",
       "      <td>0.0</td>\n",
       "    </tr>\n",
       "    <tr>\n",
       "      <th>340</th>\n",
       "      <td>Gentoo</td>\n",
       "      <td>Biscoe</td>\n",
       "      <td>46.8</td>\n",
       "      <td>14.3</td>\n",
       "      <td>215.0</td>\n",
       "      <td>4850.0</td>\n",
       "      <td>Female</td>\n",
       "      <td>False</td>\n",
       "      <td>0.0</td>\n",
       "    </tr>\n",
       "    <tr>\n",
       "      <th>341</th>\n",
       "      <td>Gentoo</td>\n",
       "      <td>Biscoe</td>\n",
       "      <td>50.4</td>\n",
       "      <td>15.7</td>\n",
       "      <td>222.0</td>\n",
       "      <td>5750.0</td>\n",
       "      <td>Male</td>\n",
       "      <td>False</td>\n",
       "      <td>0.0</td>\n",
       "    </tr>\n",
       "    <tr>\n",
       "      <th>342</th>\n",
       "      <td>Gentoo</td>\n",
       "      <td>Biscoe</td>\n",
       "      <td>45.2</td>\n",
       "      <td>14.8</td>\n",
       "      <td>212.0</td>\n",
       "      <td>5200.0</td>\n",
       "      <td>Female</td>\n",
       "      <td>False</td>\n",
       "      <td>0.0</td>\n",
       "    </tr>\n",
       "    <tr>\n",
       "      <th>343</th>\n",
       "      <td>Gentoo</td>\n",
       "      <td>Biscoe</td>\n",
       "      <td>49.9</td>\n",
       "      <td>16.1</td>\n",
       "      <td>213.0</td>\n",
       "      <td>5400.0</td>\n",
       "      <td>Male</td>\n",
       "      <td>False</td>\n",
       "      <td>0.0</td>\n",
       "    </tr>\n",
       "  </tbody>\n",
       "</table>\n",
       "</div>"
      ],
      "text/plain": [
       "    species  island  bill_length_mm  bill_depth_mm  flipper_length_mm  \\\n",
       "338  Gentoo  Biscoe            47.2           13.7              214.0   \n",
       "340  Gentoo  Biscoe            46.8           14.3              215.0   \n",
       "341  Gentoo  Biscoe            50.4           15.7              222.0   \n",
       "342  Gentoo  Biscoe            45.2           14.8              212.0   \n",
       "343  Gentoo  Biscoe            49.9           16.1              213.0   \n",
       "\n",
       "     body_mass_g     sex  isAdelie_bool  isAdelie_float  \n",
       "338       4925.0  Female          False             0.0  \n",
       "340       4850.0  Female          False             0.0  \n",
       "341       5750.0    Male          False             0.0  \n",
       "342       5200.0  Female          False             0.0  \n",
       "343       5400.0    Male          False             0.0  "
      ]
     },
     "execution_count": 8,
     "metadata": {},
     "output_type": "execute_result"
    }
   ],
   "source": [
    "df.tail()"
   ]
  },
  {
   "cell_type": "code",
   "execution_count": null,
   "metadata": {
    "cell_id": "a50de66912ae46869552fc6e3eeedaf4",
    "deepnote_cell_height": 263,
    "deepnote_cell_type": "code",
    "deepnote_output_heights": [
     112
    ],
    "deepnote_to_be_reexecuted": false,
    "execution_millis": 30,
    "execution_start": 1652030235658,
    "source_hash": "ef6f777",
    "tags": []
   },
   "outputs": [
    {
     "data": {
      "text/html": [
       "\n",
       "<div id=\"altair-viz-acfc865bb22d4938ab452cb8df603e47\"></div>\n",
       "<script type=\"text/javascript\">\n",
       "  (function(spec, embedOpt){\n",
       "    let outputDiv = document.currentScript.previousElementSibling;\n",
       "    if (outputDiv.id !== \"altair-viz-acfc865bb22d4938ab452cb8df603e47\") {\n",
       "      outputDiv = document.getElementById(\"altair-viz-acfc865bb22d4938ab452cb8df603e47\");\n",
       "    }\n",
       "    const paths = {\n",
       "      \"vega\": \"https://cdn.jsdelivr.net/npm//vega@5?noext\",\n",
       "      \"vega-lib\": \"https://cdn.jsdelivr.net/npm//vega-lib?noext\",\n",
       "      \"vega-lite\": \"https://cdn.jsdelivr.net/npm//vega-lite@4.8.1?noext\",\n",
       "      \"vega-embed\": \"https://cdn.jsdelivr.net/npm//vega-embed@6?noext\",\n",
       "    };\n",
       "\n",
       "    function loadScript(lib) {\n",
       "      return new Promise(function(resolve, reject) {\n",
       "        var s = document.createElement('script');\n",
       "        s.src = paths[lib];\n",
       "        s.async = true;\n",
       "        s.onload = () => resolve(paths[lib]);\n",
       "        s.onerror = () => reject(`Error loading script: ${paths[lib]}`);\n",
       "        document.getElementsByTagName(\"head\")[0].appendChild(s);\n",
       "      });\n",
       "    }\n",
       "\n",
       "    function showError(err) {\n",
       "      outputDiv.innerHTML = `<div class=\"error\" style=\"color:red;\">${err}</div>`;\n",
       "      throw err;\n",
       "    }\n",
       "\n",
       "    function displayChart(vegaEmbed) {\n",
       "      vegaEmbed(outputDiv, spec, embedOpt)\n",
       "        .catch(err => showError(`Javascript Error: ${err.message}<br>This usually means there's a typo in your chart specification. See the javascript console for the full traceback.`));\n",
       "    }\n",
       "\n",
       "    if(typeof define === \"function\" && define.amd) {\n",
       "      requirejs.config({paths});\n",
       "      require([\"vega-embed\"], displayChart, err => showError(`Error loading script: ${err.message}`));\n",
       "    } else if (typeof vegaEmbed === \"function\") {\n",
       "      displayChart(vegaEmbed);\n",
       "    } else {\n",
       "      loadScript(\"vega\")\n",
       "        .then(() => loadScript(\"vega-lite\"))\n",
       "        .then(() => loadScript(\"vega-embed\"))\n",
       "        .catch(showError)\n",
       "        .then(() => displayChart(vegaEmbed));\n",
       "    }\n",
       "  })({\"config\": {\"view\": {\"continuousWidth\": 400, \"continuousHeight\": 300}}, \"data\": {\"name\": \"data-81763d2ee876c310be4636cfba0f23ae\"}, \"mark\": \"circle\", \"encoding\": {\"x\": {\"type\": \"quantitative\", \"field\": \"bill_length_mm\"}, \"y\": {\"type\": \"nominal\", \"field\": \"isAdelie_bool\"}}, \"$schema\": \"https://vega.github.io/schema/vega-lite/v4.8.1.json\", \"datasets\": {\"data-81763d2ee876c310be4636cfba0f23ae\": [{\"species\": \"Adelie\", \"island\": \"Torgersen\", \"bill_length_mm\": 39.1, \"bill_depth_mm\": 18.7, \"flipper_length_mm\": 181.0, \"body_mass_g\": 3750.0, \"sex\": \"Male\", \"isAdelie_bool\": true, \"isAdelie_float\": 1.0}, {\"species\": \"Adelie\", \"island\": \"Torgersen\", \"bill_length_mm\": 39.5, \"bill_depth_mm\": 17.4, \"flipper_length_mm\": 186.0, \"body_mass_g\": 3800.0, \"sex\": \"Female\", \"isAdelie_bool\": true, \"isAdelie_float\": 1.0}, {\"species\": \"Adelie\", \"island\": \"Torgersen\", \"bill_length_mm\": 40.3, \"bill_depth_mm\": 18.0, \"flipper_length_mm\": 195.0, \"body_mass_g\": 3250.0, \"sex\": \"Female\", \"isAdelie_bool\": true, \"isAdelie_float\": 1.0}, {\"species\": \"Adelie\", \"island\": \"Torgersen\", \"bill_length_mm\": 36.7, \"bill_depth_mm\": 19.3, \"flipper_length_mm\": 193.0, \"body_mass_g\": 3450.0, \"sex\": \"Female\", \"isAdelie_bool\": true, \"isAdelie_float\": 1.0}, {\"species\": \"Adelie\", \"island\": \"Torgersen\", \"bill_length_mm\": 39.3, \"bill_depth_mm\": 20.6, \"flipper_length_mm\": 190.0, \"body_mass_g\": 3650.0, \"sex\": \"Male\", \"isAdelie_bool\": true, \"isAdelie_float\": 1.0}, {\"species\": \"Adelie\", \"island\": \"Torgersen\", \"bill_length_mm\": 38.9, \"bill_depth_mm\": 17.8, \"flipper_length_mm\": 181.0, \"body_mass_g\": 3625.0, \"sex\": \"Female\", \"isAdelie_bool\": true, \"isAdelie_float\": 1.0}, {\"species\": \"Adelie\", \"island\": \"Torgersen\", \"bill_length_mm\": 39.2, \"bill_depth_mm\": 19.6, \"flipper_length_mm\": 195.0, \"body_mass_g\": 4675.0, \"sex\": \"Male\", \"isAdelie_bool\": true, \"isAdelie_float\": 1.0}, {\"species\": \"Adelie\", \"island\": \"Torgersen\", \"bill_length_mm\": 41.1, \"bill_depth_mm\": 17.6, \"flipper_length_mm\": 182.0, \"body_mass_g\": 3200.0, \"sex\": \"Female\", \"isAdelie_bool\": true, \"isAdelie_float\": 1.0}, {\"species\": \"Adelie\", \"island\": \"Torgersen\", \"bill_length_mm\": 38.6, \"bill_depth_mm\": 21.2, \"flipper_length_mm\": 191.0, \"body_mass_g\": 3800.0, \"sex\": \"Male\", \"isAdelie_bool\": true, \"isAdelie_float\": 1.0}, {\"species\": \"Adelie\", \"island\": \"Torgersen\", \"bill_length_mm\": 34.6, \"bill_depth_mm\": 21.1, \"flipper_length_mm\": 198.0, \"body_mass_g\": 4400.0, \"sex\": \"Male\", \"isAdelie_bool\": true, \"isAdelie_float\": 1.0}, {\"species\": \"Adelie\", \"island\": \"Torgersen\", \"bill_length_mm\": 36.6, \"bill_depth_mm\": 17.8, \"flipper_length_mm\": 185.0, \"body_mass_g\": 3700.0, \"sex\": \"Female\", \"isAdelie_bool\": true, \"isAdelie_float\": 1.0}, {\"species\": \"Adelie\", \"island\": \"Torgersen\", \"bill_length_mm\": 38.7, \"bill_depth_mm\": 19.0, \"flipper_length_mm\": 195.0, \"body_mass_g\": 3450.0, \"sex\": \"Female\", \"isAdelie_bool\": true, \"isAdelie_float\": 1.0}, {\"species\": \"Adelie\", \"island\": \"Torgersen\", \"bill_length_mm\": 42.5, \"bill_depth_mm\": 20.7, \"flipper_length_mm\": 197.0, \"body_mass_g\": 4500.0, \"sex\": \"Male\", \"isAdelie_bool\": true, \"isAdelie_float\": 1.0}, {\"species\": \"Adelie\", \"island\": \"Torgersen\", \"bill_length_mm\": 34.4, \"bill_depth_mm\": 18.4, \"flipper_length_mm\": 184.0, \"body_mass_g\": 3325.0, \"sex\": \"Female\", \"isAdelie_bool\": true, \"isAdelie_float\": 1.0}, {\"species\": \"Adelie\", \"island\": \"Torgersen\", \"bill_length_mm\": 46.0, \"bill_depth_mm\": 21.5, \"flipper_length_mm\": 194.0, \"body_mass_g\": 4200.0, \"sex\": \"Male\", \"isAdelie_bool\": true, \"isAdelie_float\": 1.0}, {\"species\": \"Adelie\", \"island\": \"Biscoe\", \"bill_length_mm\": 37.8, \"bill_depth_mm\": 18.3, \"flipper_length_mm\": 174.0, \"body_mass_g\": 3400.0, \"sex\": \"Female\", \"isAdelie_bool\": true, \"isAdelie_float\": 1.0}, {\"species\": \"Adelie\", \"island\": \"Biscoe\", \"bill_length_mm\": 37.7, \"bill_depth_mm\": 18.7, \"flipper_length_mm\": 180.0, \"body_mass_g\": 3600.0, \"sex\": \"Male\", \"isAdelie_bool\": true, \"isAdelie_float\": 1.0}, {\"species\": \"Adelie\", \"island\": \"Biscoe\", \"bill_length_mm\": 35.9, \"bill_depth_mm\": 19.2, \"flipper_length_mm\": 189.0, \"body_mass_g\": 3800.0, \"sex\": \"Female\", \"isAdelie_bool\": true, \"isAdelie_float\": 1.0}, {\"species\": \"Adelie\", \"island\": \"Biscoe\", \"bill_length_mm\": 38.2, \"bill_depth_mm\": 18.1, \"flipper_length_mm\": 185.0, \"body_mass_g\": 3950.0, \"sex\": \"Male\", \"isAdelie_bool\": true, \"isAdelie_float\": 1.0}, {\"species\": \"Adelie\", \"island\": \"Biscoe\", \"bill_length_mm\": 38.8, \"bill_depth_mm\": 17.2, \"flipper_length_mm\": 180.0, \"body_mass_g\": 3800.0, \"sex\": \"Male\", \"isAdelie_bool\": true, \"isAdelie_float\": 1.0}, {\"species\": \"Adelie\", \"island\": \"Biscoe\", \"bill_length_mm\": 35.3, \"bill_depth_mm\": 18.9, \"flipper_length_mm\": 187.0, \"body_mass_g\": 3800.0, \"sex\": \"Female\", \"isAdelie_bool\": true, \"isAdelie_float\": 1.0}, {\"species\": \"Adelie\", \"island\": \"Biscoe\", \"bill_length_mm\": 40.6, \"bill_depth_mm\": 18.6, \"flipper_length_mm\": 183.0, \"body_mass_g\": 3550.0, \"sex\": \"Male\", \"isAdelie_bool\": true, \"isAdelie_float\": 1.0}, {\"species\": \"Adelie\", \"island\": \"Biscoe\", \"bill_length_mm\": 40.5, \"bill_depth_mm\": 17.9, \"flipper_length_mm\": 187.0, \"body_mass_g\": 3200.0, \"sex\": \"Female\", \"isAdelie_bool\": true, \"isAdelie_float\": 1.0}, {\"species\": \"Adelie\", \"island\": \"Biscoe\", \"bill_length_mm\": 37.9, \"bill_depth_mm\": 18.6, \"flipper_length_mm\": 172.0, \"body_mass_g\": 3150.0, \"sex\": \"Female\", \"isAdelie_bool\": true, \"isAdelie_float\": 1.0}, {\"species\": \"Adelie\", \"island\": \"Biscoe\", \"bill_length_mm\": 40.5, \"bill_depth_mm\": 18.9, \"flipper_length_mm\": 180.0, \"body_mass_g\": 3950.0, \"sex\": \"Male\", \"isAdelie_bool\": true, \"isAdelie_float\": 1.0}, {\"species\": \"Adelie\", \"island\": \"Dream\", \"bill_length_mm\": 39.5, \"bill_depth_mm\": 16.7, \"flipper_length_mm\": 178.0, \"body_mass_g\": 3250.0, \"sex\": \"Female\", \"isAdelie_bool\": true, \"isAdelie_float\": 1.0}, {\"species\": \"Adelie\", \"island\": \"Dream\", \"bill_length_mm\": 37.2, \"bill_depth_mm\": 18.1, \"flipper_length_mm\": 178.0, \"body_mass_g\": 3900.0, \"sex\": \"Male\", \"isAdelie_bool\": true, \"isAdelie_float\": 1.0}, {\"species\": \"Adelie\", \"island\": \"Dream\", \"bill_length_mm\": 39.5, \"bill_depth_mm\": 17.8, \"flipper_length_mm\": 188.0, \"body_mass_g\": 3300.0, \"sex\": \"Female\", \"isAdelie_bool\": true, \"isAdelie_float\": 1.0}, {\"species\": \"Adelie\", \"island\": \"Dream\", \"bill_length_mm\": 40.9, \"bill_depth_mm\": 18.9, \"flipper_length_mm\": 184.0, \"body_mass_g\": 3900.0, \"sex\": \"Male\", \"isAdelie_bool\": true, \"isAdelie_float\": 1.0}, {\"species\": \"Adelie\", \"island\": \"Dream\", \"bill_length_mm\": 36.4, \"bill_depth_mm\": 17.0, \"flipper_length_mm\": 195.0, \"body_mass_g\": 3325.0, \"sex\": \"Female\", \"isAdelie_bool\": true, \"isAdelie_float\": 1.0}, {\"species\": \"Adelie\", \"island\": \"Dream\", \"bill_length_mm\": 39.2, \"bill_depth_mm\": 21.1, \"flipper_length_mm\": 196.0, \"body_mass_g\": 4150.0, \"sex\": \"Male\", \"isAdelie_bool\": true, \"isAdelie_float\": 1.0}, {\"species\": \"Adelie\", \"island\": \"Dream\", \"bill_length_mm\": 38.8, \"bill_depth_mm\": 20.0, \"flipper_length_mm\": 190.0, \"body_mass_g\": 3950.0, \"sex\": \"Male\", \"isAdelie_bool\": true, \"isAdelie_float\": 1.0}, {\"species\": \"Adelie\", \"island\": \"Dream\", \"bill_length_mm\": 42.2, \"bill_depth_mm\": 18.5, \"flipper_length_mm\": 180.0, \"body_mass_g\": 3550.0, \"sex\": \"Female\", \"isAdelie_bool\": true, \"isAdelie_float\": 1.0}, {\"species\": \"Adelie\", \"island\": \"Dream\", \"bill_length_mm\": 37.6, \"bill_depth_mm\": 19.3, \"flipper_length_mm\": 181.0, \"body_mass_g\": 3300.0, \"sex\": \"Female\", \"isAdelie_bool\": true, \"isAdelie_float\": 1.0}, {\"species\": \"Adelie\", \"island\": \"Dream\", \"bill_length_mm\": 39.8, \"bill_depth_mm\": 19.1, \"flipper_length_mm\": 184.0, \"body_mass_g\": 4650.0, \"sex\": \"Male\", \"isAdelie_bool\": true, \"isAdelie_float\": 1.0}, {\"species\": \"Adelie\", \"island\": \"Dream\", \"bill_length_mm\": 36.5, \"bill_depth_mm\": 18.0, \"flipper_length_mm\": 182.0, \"body_mass_g\": 3150.0, \"sex\": \"Female\", \"isAdelie_bool\": true, \"isAdelie_float\": 1.0}, {\"species\": \"Adelie\", \"island\": \"Dream\", \"bill_length_mm\": 40.8, \"bill_depth_mm\": 18.4, \"flipper_length_mm\": 195.0, \"body_mass_g\": 3900.0, \"sex\": \"Male\", \"isAdelie_bool\": true, \"isAdelie_float\": 1.0}, {\"species\": \"Adelie\", \"island\": \"Dream\", \"bill_length_mm\": 36.0, \"bill_depth_mm\": 18.5, \"flipper_length_mm\": 186.0, \"body_mass_g\": 3100.0, \"sex\": \"Female\", \"isAdelie_bool\": true, \"isAdelie_float\": 1.0}, {\"species\": \"Adelie\", \"island\": \"Dream\", \"bill_length_mm\": 44.1, \"bill_depth_mm\": 19.7, \"flipper_length_mm\": 196.0, \"body_mass_g\": 4400.0, \"sex\": \"Male\", \"isAdelie_bool\": true, \"isAdelie_float\": 1.0}, {\"species\": \"Adelie\", \"island\": \"Dream\", \"bill_length_mm\": 37.0, \"bill_depth_mm\": 16.9, \"flipper_length_mm\": 185.0, \"body_mass_g\": 3000.0, \"sex\": \"Female\", \"isAdelie_bool\": true, \"isAdelie_float\": 1.0}, {\"species\": \"Adelie\", \"island\": \"Dream\", \"bill_length_mm\": 39.6, \"bill_depth_mm\": 18.8, \"flipper_length_mm\": 190.0, \"body_mass_g\": 4600.0, \"sex\": \"Male\", \"isAdelie_bool\": true, \"isAdelie_float\": 1.0}, {\"species\": \"Adelie\", \"island\": \"Dream\", \"bill_length_mm\": 41.1, \"bill_depth_mm\": 19.0, \"flipper_length_mm\": 182.0, \"body_mass_g\": 3425.0, \"sex\": \"Male\", \"isAdelie_bool\": true, \"isAdelie_float\": 1.0}, {\"species\": \"Adelie\", \"island\": \"Dream\", \"bill_length_mm\": 36.0, \"bill_depth_mm\": 17.9, \"flipper_length_mm\": 190.0, \"body_mass_g\": 3450.0, \"sex\": \"Female\", \"isAdelie_bool\": true, \"isAdelie_float\": 1.0}, {\"species\": \"Adelie\", \"island\": \"Dream\", \"bill_length_mm\": 42.3, \"bill_depth_mm\": 21.2, \"flipper_length_mm\": 191.0, \"body_mass_g\": 4150.0, \"sex\": \"Male\", \"isAdelie_bool\": true, \"isAdelie_float\": 1.0}, {\"species\": \"Adelie\", \"island\": \"Biscoe\", \"bill_length_mm\": 39.6, \"bill_depth_mm\": 17.7, \"flipper_length_mm\": 186.0, \"body_mass_g\": 3500.0, \"sex\": \"Female\", \"isAdelie_bool\": true, \"isAdelie_float\": 1.0}, {\"species\": \"Adelie\", \"island\": \"Biscoe\", \"bill_length_mm\": 40.1, \"bill_depth_mm\": 18.9, \"flipper_length_mm\": 188.0, \"body_mass_g\": 4300.0, \"sex\": \"Male\", \"isAdelie_bool\": true, \"isAdelie_float\": 1.0}, {\"species\": \"Adelie\", \"island\": \"Biscoe\", \"bill_length_mm\": 35.0, \"bill_depth_mm\": 17.9, \"flipper_length_mm\": 190.0, \"body_mass_g\": 3450.0, \"sex\": \"Female\", \"isAdelie_bool\": true, \"isAdelie_float\": 1.0}, {\"species\": \"Adelie\", \"island\": \"Biscoe\", \"bill_length_mm\": 42.0, \"bill_depth_mm\": 19.5, \"flipper_length_mm\": 200.0, \"body_mass_g\": 4050.0, \"sex\": \"Male\", \"isAdelie_bool\": true, \"isAdelie_float\": 1.0}, {\"species\": \"Adelie\", \"island\": \"Biscoe\", \"bill_length_mm\": 34.5, \"bill_depth_mm\": 18.1, \"flipper_length_mm\": 187.0, \"body_mass_g\": 2900.0, \"sex\": \"Female\", \"isAdelie_bool\": true, \"isAdelie_float\": 1.0}, {\"species\": \"Adelie\", \"island\": \"Biscoe\", \"bill_length_mm\": 41.4, \"bill_depth_mm\": 18.6, \"flipper_length_mm\": 191.0, \"body_mass_g\": 3700.0, \"sex\": \"Male\", \"isAdelie_bool\": true, \"isAdelie_float\": 1.0}, {\"species\": \"Adelie\", \"island\": \"Biscoe\", \"bill_length_mm\": 39.0, \"bill_depth_mm\": 17.5, \"flipper_length_mm\": 186.0, \"body_mass_g\": 3550.0, \"sex\": \"Female\", \"isAdelie_bool\": true, \"isAdelie_float\": 1.0}, {\"species\": \"Adelie\", \"island\": \"Biscoe\", \"bill_length_mm\": 40.6, \"bill_depth_mm\": 18.8, \"flipper_length_mm\": 193.0, \"body_mass_g\": 3800.0, \"sex\": \"Male\", \"isAdelie_bool\": true, \"isAdelie_float\": 1.0}, {\"species\": \"Adelie\", \"island\": \"Biscoe\", \"bill_length_mm\": 36.5, \"bill_depth_mm\": 16.6, \"flipper_length_mm\": 181.0, \"body_mass_g\": 2850.0, \"sex\": \"Female\", \"isAdelie_bool\": true, \"isAdelie_float\": 1.0}, {\"species\": \"Adelie\", \"island\": \"Biscoe\", \"bill_length_mm\": 37.6, \"bill_depth_mm\": 19.1, \"flipper_length_mm\": 194.0, \"body_mass_g\": 3750.0, \"sex\": \"Male\", \"isAdelie_bool\": true, \"isAdelie_float\": 1.0}, {\"species\": \"Adelie\", \"island\": \"Biscoe\", \"bill_length_mm\": 35.7, \"bill_depth_mm\": 16.9, \"flipper_length_mm\": 185.0, \"body_mass_g\": 3150.0, \"sex\": \"Female\", \"isAdelie_bool\": true, \"isAdelie_float\": 1.0}, {\"species\": \"Adelie\", \"island\": \"Biscoe\", \"bill_length_mm\": 41.3, \"bill_depth_mm\": 21.1, \"flipper_length_mm\": 195.0, \"body_mass_g\": 4400.0, \"sex\": \"Male\", \"isAdelie_bool\": true, \"isAdelie_float\": 1.0}, {\"species\": \"Adelie\", \"island\": \"Biscoe\", \"bill_length_mm\": 37.6, \"bill_depth_mm\": 17.0, \"flipper_length_mm\": 185.0, \"body_mass_g\": 3600.0, \"sex\": \"Female\", \"isAdelie_bool\": true, \"isAdelie_float\": 1.0}, {\"species\": \"Adelie\", \"island\": \"Biscoe\", \"bill_length_mm\": 41.1, \"bill_depth_mm\": 18.2, \"flipper_length_mm\": 192.0, \"body_mass_g\": 4050.0, \"sex\": \"Male\", \"isAdelie_bool\": true, \"isAdelie_float\": 1.0}, {\"species\": \"Adelie\", \"island\": \"Biscoe\", \"bill_length_mm\": 36.4, \"bill_depth_mm\": 17.1, \"flipper_length_mm\": 184.0, \"body_mass_g\": 2850.0, \"sex\": \"Female\", \"isAdelie_bool\": true, \"isAdelie_float\": 1.0}, {\"species\": \"Adelie\", \"island\": \"Biscoe\", \"bill_length_mm\": 41.6, \"bill_depth_mm\": 18.0, \"flipper_length_mm\": 192.0, \"body_mass_g\": 3950.0, \"sex\": \"Male\", \"isAdelie_bool\": true, \"isAdelie_float\": 1.0}, {\"species\": \"Adelie\", \"island\": \"Biscoe\", \"bill_length_mm\": 35.5, \"bill_depth_mm\": 16.2, \"flipper_length_mm\": 195.0, \"body_mass_g\": 3350.0, \"sex\": \"Female\", \"isAdelie_bool\": true, \"isAdelie_float\": 1.0}, {\"species\": \"Adelie\", \"island\": \"Biscoe\", \"bill_length_mm\": 41.1, \"bill_depth_mm\": 19.1, \"flipper_length_mm\": 188.0, \"body_mass_g\": 4100.0, \"sex\": \"Male\", \"isAdelie_bool\": true, \"isAdelie_float\": 1.0}, {\"species\": \"Adelie\", \"island\": \"Torgersen\", \"bill_length_mm\": 35.9, \"bill_depth_mm\": 16.6, \"flipper_length_mm\": 190.0, \"body_mass_g\": 3050.0, \"sex\": \"Female\", \"isAdelie_bool\": true, \"isAdelie_float\": 1.0}, {\"species\": \"Adelie\", \"island\": \"Torgersen\", \"bill_length_mm\": 41.8, \"bill_depth_mm\": 19.4, \"flipper_length_mm\": 198.0, \"body_mass_g\": 4450.0, \"sex\": \"Male\", \"isAdelie_bool\": true, \"isAdelie_float\": 1.0}, {\"species\": \"Adelie\", \"island\": \"Torgersen\", \"bill_length_mm\": 33.5, \"bill_depth_mm\": 19.0, \"flipper_length_mm\": 190.0, \"body_mass_g\": 3600.0, \"sex\": \"Female\", \"isAdelie_bool\": true, \"isAdelie_float\": 1.0}, {\"species\": \"Adelie\", \"island\": \"Torgersen\", \"bill_length_mm\": 39.7, \"bill_depth_mm\": 18.4, \"flipper_length_mm\": 190.0, \"body_mass_g\": 3900.0, \"sex\": \"Male\", \"isAdelie_bool\": true, \"isAdelie_float\": 1.0}, {\"species\": \"Adelie\", \"island\": \"Torgersen\", \"bill_length_mm\": 39.6, \"bill_depth_mm\": 17.2, \"flipper_length_mm\": 196.0, \"body_mass_g\": 3550.0, \"sex\": \"Female\", \"isAdelie_bool\": true, \"isAdelie_float\": 1.0}, {\"species\": \"Adelie\", \"island\": \"Torgersen\", \"bill_length_mm\": 45.8, \"bill_depth_mm\": 18.9, \"flipper_length_mm\": 197.0, \"body_mass_g\": 4150.0, \"sex\": \"Male\", \"isAdelie_bool\": true, \"isAdelie_float\": 1.0}, {\"species\": \"Adelie\", \"island\": \"Torgersen\", \"bill_length_mm\": 35.5, \"bill_depth_mm\": 17.5, \"flipper_length_mm\": 190.0, \"body_mass_g\": 3700.0, \"sex\": \"Female\", \"isAdelie_bool\": true, \"isAdelie_float\": 1.0}, {\"species\": \"Adelie\", \"island\": \"Torgersen\", \"bill_length_mm\": 42.8, \"bill_depth_mm\": 18.5, \"flipper_length_mm\": 195.0, \"body_mass_g\": 4250.0, \"sex\": \"Male\", \"isAdelie_bool\": true, \"isAdelie_float\": 1.0}, {\"species\": \"Adelie\", \"island\": \"Torgersen\", \"bill_length_mm\": 40.9, \"bill_depth_mm\": 16.8, \"flipper_length_mm\": 191.0, \"body_mass_g\": 3700.0, \"sex\": \"Female\", \"isAdelie_bool\": true, \"isAdelie_float\": 1.0}, {\"species\": \"Adelie\", \"island\": \"Torgersen\", \"bill_length_mm\": 37.2, \"bill_depth_mm\": 19.4, \"flipper_length_mm\": 184.0, \"body_mass_g\": 3900.0, \"sex\": \"Male\", \"isAdelie_bool\": true, \"isAdelie_float\": 1.0}, {\"species\": \"Adelie\", \"island\": \"Torgersen\", \"bill_length_mm\": 36.2, \"bill_depth_mm\": 16.1, \"flipper_length_mm\": 187.0, \"body_mass_g\": 3550.0, \"sex\": \"Female\", \"isAdelie_bool\": true, \"isAdelie_float\": 1.0}, {\"species\": \"Adelie\", \"island\": \"Torgersen\", \"bill_length_mm\": 42.1, \"bill_depth_mm\": 19.1, \"flipper_length_mm\": 195.0, \"body_mass_g\": 4000.0, \"sex\": \"Male\", \"isAdelie_bool\": true, \"isAdelie_float\": 1.0}, {\"species\": \"Adelie\", \"island\": \"Torgersen\", \"bill_length_mm\": 34.6, \"bill_depth_mm\": 17.2, \"flipper_length_mm\": 189.0, \"body_mass_g\": 3200.0, \"sex\": \"Female\", \"isAdelie_bool\": true, \"isAdelie_float\": 1.0}, {\"species\": \"Adelie\", \"island\": \"Torgersen\", \"bill_length_mm\": 42.9, \"bill_depth_mm\": 17.6, \"flipper_length_mm\": 196.0, \"body_mass_g\": 4700.0, \"sex\": \"Male\", \"isAdelie_bool\": true, \"isAdelie_float\": 1.0}, {\"species\": \"Adelie\", \"island\": \"Torgersen\", \"bill_length_mm\": 36.7, \"bill_depth_mm\": 18.8, \"flipper_length_mm\": 187.0, \"body_mass_g\": 3800.0, \"sex\": \"Female\", \"isAdelie_bool\": true, \"isAdelie_float\": 1.0}, {\"species\": \"Adelie\", \"island\": \"Torgersen\", \"bill_length_mm\": 35.1, \"bill_depth_mm\": 19.4, \"flipper_length_mm\": 193.0, \"body_mass_g\": 4200.0, \"sex\": \"Male\", \"isAdelie_bool\": true, \"isAdelie_float\": 1.0}, {\"species\": \"Adelie\", \"island\": \"Dream\", \"bill_length_mm\": 37.3, \"bill_depth_mm\": 17.8, \"flipper_length_mm\": 191.0, \"body_mass_g\": 3350.0, \"sex\": \"Female\", \"isAdelie_bool\": true, \"isAdelie_float\": 1.0}, {\"species\": \"Adelie\", \"island\": \"Dream\", \"bill_length_mm\": 41.3, \"bill_depth_mm\": 20.3, \"flipper_length_mm\": 194.0, \"body_mass_g\": 3550.0, \"sex\": \"Male\", \"isAdelie_bool\": true, \"isAdelie_float\": 1.0}, {\"species\": \"Adelie\", \"island\": \"Dream\", \"bill_length_mm\": 36.3, \"bill_depth_mm\": 19.5, \"flipper_length_mm\": 190.0, \"body_mass_g\": 3800.0, \"sex\": \"Male\", \"isAdelie_bool\": true, \"isAdelie_float\": 1.0}, {\"species\": \"Adelie\", \"island\": \"Dream\", \"bill_length_mm\": 36.9, \"bill_depth_mm\": 18.6, \"flipper_length_mm\": 189.0, \"body_mass_g\": 3500.0, \"sex\": \"Female\", \"isAdelie_bool\": true, \"isAdelie_float\": 1.0}, {\"species\": \"Adelie\", \"island\": \"Dream\", \"bill_length_mm\": 38.3, \"bill_depth_mm\": 19.2, \"flipper_length_mm\": 189.0, \"body_mass_g\": 3950.0, \"sex\": \"Male\", \"isAdelie_bool\": true, \"isAdelie_float\": 1.0}, {\"species\": \"Adelie\", \"island\": \"Dream\", \"bill_length_mm\": 38.9, \"bill_depth_mm\": 18.8, \"flipper_length_mm\": 190.0, \"body_mass_g\": 3600.0, \"sex\": \"Female\", \"isAdelie_bool\": true, \"isAdelie_float\": 1.0}, {\"species\": \"Adelie\", \"island\": \"Dream\", \"bill_length_mm\": 35.7, \"bill_depth_mm\": 18.0, \"flipper_length_mm\": 202.0, \"body_mass_g\": 3550.0, \"sex\": \"Female\", \"isAdelie_bool\": true, \"isAdelie_float\": 1.0}, {\"species\": \"Adelie\", \"island\": \"Dream\", \"bill_length_mm\": 41.1, \"bill_depth_mm\": 18.1, \"flipper_length_mm\": 205.0, \"body_mass_g\": 4300.0, \"sex\": \"Male\", \"isAdelie_bool\": true, \"isAdelie_float\": 1.0}, {\"species\": \"Adelie\", \"island\": \"Dream\", \"bill_length_mm\": 34.0, \"bill_depth_mm\": 17.1, \"flipper_length_mm\": 185.0, \"body_mass_g\": 3400.0, \"sex\": \"Female\", \"isAdelie_bool\": true, \"isAdelie_float\": 1.0}, {\"species\": \"Adelie\", \"island\": \"Dream\", \"bill_length_mm\": 39.6, \"bill_depth_mm\": 18.1, \"flipper_length_mm\": 186.0, \"body_mass_g\": 4450.0, \"sex\": \"Male\", \"isAdelie_bool\": true, \"isAdelie_float\": 1.0}, {\"species\": \"Adelie\", \"island\": \"Dream\", \"bill_length_mm\": 36.2, \"bill_depth_mm\": 17.3, \"flipper_length_mm\": 187.0, \"body_mass_g\": 3300.0, \"sex\": \"Female\", \"isAdelie_bool\": true, \"isAdelie_float\": 1.0}, {\"species\": \"Adelie\", \"island\": \"Dream\", \"bill_length_mm\": 40.8, \"bill_depth_mm\": 18.9, \"flipper_length_mm\": 208.0, \"body_mass_g\": 4300.0, \"sex\": \"Male\", \"isAdelie_bool\": true, \"isAdelie_float\": 1.0}, {\"species\": \"Adelie\", \"island\": \"Dream\", \"bill_length_mm\": 38.1, \"bill_depth_mm\": 18.6, \"flipper_length_mm\": 190.0, \"body_mass_g\": 3700.0, \"sex\": \"Female\", \"isAdelie_bool\": true, \"isAdelie_float\": 1.0}, {\"species\": \"Adelie\", \"island\": \"Dream\", \"bill_length_mm\": 40.3, \"bill_depth_mm\": 18.5, \"flipper_length_mm\": 196.0, \"body_mass_g\": 4350.0, \"sex\": \"Male\", \"isAdelie_bool\": true, \"isAdelie_float\": 1.0}, {\"species\": \"Adelie\", \"island\": \"Dream\", \"bill_length_mm\": 33.1, \"bill_depth_mm\": 16.1, \"flipper_length_mm\": 178.0, \"body_mass_g\": 2900.0, \"sex\": \"Female\", \"isAdelie_bool\": true, \"isAdelie_float\": 1.0}, {\"species\": \"Adelie\", \"island\": \"Dream\", \"bill_length_mm\": 43.2, \"bill_depth_mm\": 18.5, \"flipper_length_mm\": 192.0, \"body_mass_g\": 4100.0, \"sex\": \"Male\", \"isAdelie_bool\": true, \"isAdelie_float\": 1.0}, {\"species\": \"Adelie\", \"island\": \"Biscoe\", \"bill_length_mm\": 35.0, \"bill_depth_mm\": 17.9, \"flipper_length_mm\": 192.0, \"body_mass_g\": 3725.0, \"sex\": \"Female\", \"isAdelie_bool\": true, \"isAdelie_float\": 1.0}, {\"species\": \"Adelie\", \"island\": \"Biscoe\", \"bill_length_mm\": 41.0, \"bill_depth_mm\": 20.0, \"flipper_length_mm\": 203.0, \"body_mass_g\": 4725.0, \"sex\": \"Male\", \"isAdelie_bool\": true, \"isAdelie_float\": 1.0}, {\"species\": \"Adelie\", \"island\": \"Biscoe\", \"bill_length_mm\": 37.7, \"bill_depth_mm\": 16.0, \"flipper_length_mm\": 183.0, \"body_mass_g\": 3075.0, \"sex\": \"Female\", \"isAdelie_bool\": true, \"isAdelie_float\": 1.0}, {\"species\": \"Adelie\", \"island\": \"Biscoe\", \"bill_length_mm\": 37.8, \"bill_depth_mm\": 20.0, \"flipper_length_mm\": 190.0, \"body_mass_g\": 4250.0, \"sex\": \"Male\", \"isAdelie_bool\": true, \"isAdelie_float\": 1.0}, {\"species\": \"Adelie\", \"island\": \"Biscoe\", \"bill_length_mm\": 37.9, \"bill_depth_mm\": 18.6, \"flipper_length_mm\": 193.0, \"body_mass_g\": 2925.0, \"sex\": \"Female\", \"isAdelie_bool\": true, \"isAdelie_float\": 1.0}, {\"species\": \"Adelie\", \"island\": \"Biscoe\", \"bill_length_mm\": 39.7, \"bill_depth_mm\": 18.9, \"flipper_length_mm\": 184.0, \"body_mass_g\": 3550.0, \"sex\": \"Male\", \"isAdelie_bool\": true, \"isAdelie_float\": 1.0}, {\"species\": \"Adelie\", \"island\": \"Biscoe\", \"bill_length_mm\": 38.6, \"bill_depth_mm\": 17.2, \"flipper_length_mm\": 199.0, \"body_mass_g\": 3750.0, \"sex\": \"Female\", \"isAdelie_bool\": true, \"isAdelie_float\": 1.0}, {\"species\": \"Adelie\", \"island\": \"Biscoe\", \"bill_length_mm\": 38.2, \"bill_depth_mm\": 20.0, \"flipper_length_mm\": 190.0, \"body_mass_g\": 3900.0, \"sex\": \"Male\", \"isAdelie_bool\": true, \"isAdelie_float\": 1.0}, {\"species\": \"Adelie\", \"island\": \"Biscoe\", \"bill_length_mm\": 38.1, \"bill_depth_mm\": 17.0, \"flipper_length_mm\": 181.0, \"body_mass_g\": 3175.0, \"sex\": \"Female\", \"isAdelie_bool\": true, \"isAdelie_float\": 1.0}, {\"species\": \"Adelie\", \"island\": \"Biscoe\", \"bill_length_mm\": 43.2, \"bill_depth_mm\": 19.0, \"flipper_length_mm\": 197.0, \"body_mass_g\": 4775.0, \"sex\": \"Male\", \"isAdelie_bool\": true, \"isAdelie_float\": 1.0}, {\"species\": \"Adelie\", \"island\": \"Biscoe\", \"bill_length_mm\": 38.1, \"bill_depth_mm\": 16.5, \"flipper_length_mm\": 198.0, \"body_mass_g\": 3825.0, \"sex\": \"Female\", \"isAdelie_bool\": true, \"isAdelie_float\": 1.0}, {\"species\": \"Adelie\", \"island\": \"Biscoe\", \"bill_length_mm\": 45.6, \"bill_depth_mm\": 20.3, \"flipper_length_mm\": 191.0, \"body_mass_g\": 4600.0, \"sex\": \"Male\", \"isAdelie_bool\": true, \"isAdelie_float\": 1.0}, {\"species\": \"Adelie\", \"island\": \"Biscoe\", \"bill_length_mm\": 39.7, \"bill_depth_mm\": 17.7, \"flipper_length_mm\": 193.0, \"body_mass_g\": 3200.0, \"sex\": \"Female\", \"isAdelie_bool\": true, \"isAdelie_float\": 1.0}, {\"species\": \"Adelie\", \"island\": \"Biscoe\", \"bill_length_mm\": 42.2, \"bill_depth_mm\": 19.5, \"flipper_length_mm\": 197.0, \"body_mass_g\": 4275.0, \"sex\": \"Male\", \"isAdelie_bool\": true, \"isAdelie_float\": 1.0}, {\"species\": \"Adelie\", \"island\": \"Biscoe\", \"bill_length_mm\": 39.6, \"bill_depth_mm\": 20.7, \"flipper_length_mm\": 191.0, \"body_mass_g\": 3900.0, \"sex\": \"Female\", \"isAdelie_bool\": true, \"isAdelie_float\": 1.0}, {\"species\": \"Adelie\", \"island\": \"Biscoe\", \"bill_length_mm\": 42.7, \"bill_depth_mm\": 18.3, \"flipper_length_mm\": 196.0, \"body_mass_g\": 4075.0, \"sex\": \"Male\", \"isAdelie_bool\": true, \"isAdelie_float\": 1.0}, {\"species\": \"Adelie\", \"island\": \"Torgersen\", \"bill_length_mm\": 38.6, \"bill_depth_mm\": 17.0, \"flipper_length_mm\": 188.0, \"body_mass_g\": 2900.0, \"sex\": \"Female\", \"isAdelie_bool\": true, \"isAdelie_float\": 1.0}, {\"species\": \"Adelie\", \"island\": \"Torgersen\", \"bill_length_mm\": 37.3, \"bill_depth_mm\": 20.5, \"flipper_length_mm\": 199.0, \"body_mass_g\": 3775.0, \"sex\": \"Male\", \"isAdelie_bool\": true, \"isAdelie_float\": 1.0}, {\"species\": \"Adelie\", \"island\": \"Torgersen\", \"bill_length_mm\": 35.7, \"bill_depth_mm\": 17.0, \"flipper_length_mm\": 189.0, \"body_mass_g\": 3350.0, \"sex\": \"Female\", \"isAdelie_bool\": true, \"isAdelie_float\": 1.0}, {\"species\": \"Adelie\", \"island\": \"Torgersen\", \"bill_length_mm\": 41.1, \"bill_depth_mm\": 18.6, \"flipper_length_mm\": 189.0, \"body_mass_g\": 3325.0, \"sex\": \"Male\", \"isAdelie_bool\": true, \"isAdelie_float\": 1.0}, {\"species\": \"Adelie\", \"island\": \"Torgersen\", \"bill_length_mm\": 36.2, \"bill_depth_mm\": 17.2, \"flipper_length_mm\": 187.0, \"body_mass_g\": 3150.0, \"sex\": \"Female\", \"isAdelie_bool\": true, \"isAdelie_float\": 1.0}, {\"species\": \"Adelie\", \"island\": \"Torgersen\", \"bill_length_mm\": 37.7, \"bill_depth_mm\": 19.8, \"flipper_length_mm\": 198.0, \"body_mass_g\": 3500.0, \"sex\": \"Male\", \"isAdelie_bool\": true, \"isAdelie_float\": 1.0}, {\"species\": \"Adelie\", \"island\": \"Torgersen\", \"bill_length_mm\": 40.2, \"bill_depth_mm\": 17.0, \"flipper_length_mm\": 176.0, \"body_mass_g\": 3450.0, \"sex\": \"Female\", \"isAdelie_bool\": true, \"isAdelie_float\": 1.0}, {\"species\": \"Adelie\", \"island\": \"Torgersen\", \"bill_length_mm\": 41.4, \"bill_depth_mm\": 18.5, \"flipper_length_mm\": 202.0, \"body_mass_g\": 3875.0, \"sex\": \"Male\", \"isAdelie_bool\": true, \"isAdelie_float\": 1.0}, {\"species\": \"Adelie\", \"island\": \"Torgersen\", \"bill_length_mm\": 35.2, \"bill_depth_mm\": 15.9, \"flipper_length_mm\": 186.0, \"body_mass_g\": 3050.0, \"sex\": \"Female\", \"isAdelie_bool\": true, \"isAdelie_float\": 1.0}, {\"species\": \"Adelie\", \"island\": \"Torgersen\", \"bill_length_mm\": 40.6, \"bill_depth_mm\": 19.0, \"flipper_length_mm\": 199.0, \"body_mass_g\": 4000.0, \"sex\": \"Male\", \"isAdelie_bool\": true, \"isAdelie_float\": 1.0}, {\"species\": \"Adelie\", \"island\": \"Torgersen\", \"bill_length_mm\": 38.8, \"bill_depth_mm\": 17.6, \"flipper_length_mm\": 191.0, \"body_mass_g\": 3275.0, \"sex\": \"Female\", \"isAdelie_bool\": true, \"isAdelie_float\": 1.0}, {\"species\": \"Adelie\", \"island\": \"Torgersen\", \"bill_length_mm\": 41.5, \"bill_depth_mm\": 18.3, \"flipper_length_mm\": 195.0, \"body_mass_g\": 4300.0, \"sex\": \"Male\", \"isAdelie_bool\": true, \"isAdelie_float\": 1.0}, {\"species\": \"Adelie\", \"island\": \"Torgersen\", \"bill_length_mm\": 39.0, \"bill_depth_mm\": 17.1, \"flipper_length_mm\": 191.0, \"body_mass_g\": 3050.0, \"sex\": \"Female\", \"isAdelie_bool\": true, \"isAdelie_float\": 1.0}, {\"species\": \"Adelie\", \"island\": \"Torgersen\", \"bill_length_mm\": 44.1, \"bill_depth_mm\": 18.0, \"flipper_length_mm\": 210.0, \"body_mass_g\": 4000.0, \"sex\": \"Male\", \"isAdelie_bool\": true, \"isAdelie_float\": 1.0}, {\"species\": \"Adelie\", \"island\": \"Torgersen\", \"bill_length_mm\": 38.5, \"bill_depth_mm\": 17.9, \"flipper_length_mm\": 190.0, \"body_mass_g\": 3325.0, \"sex\": \"Female\", \"isAdelie_bool\": true, \"isAdelie_float\": 1.0}, {\"species\": \"Adelie\", \"island\": \"Torgersen\", \"bill_length_mm\": 43.1, \"bill_depth_mm\": 19.2, \"flipper_length_mm\": 197.0, \"body_mass_g\": 3500.0, \"sex\": \"Male\", \"isAdelie_bool\": true, \"isAdelie_float\": 1.0}, {\"species\": \"Adelie\", \"island\": \"Dream\", \"bill_length_mm\": 36.8, \"bill_depth_mm\": 18.5, \"flipper_length_mm\": 193.0, \"body_mass_g\": 3500.0, \"sex\": \"Female\", \"isAdelie_bool\": true, \"isAdelie_float\": 1.0}, {\"species\": \"Adelie\", \"island\": \"Dream\", \"bill_length_mm\": 37.5, \"bill_depth_mm\": 18.5, \"flipper_length_mm\": 199.0, \"body_mass_g\": 4475.0, \"sex\": \"Male\", \"isAdelie_bool\": true, \"isAdelie_float\": 1.0}, {\"species\": \"Adelie\", \"island\": \"Dream\", \"bill_length_mm\": 38.1, \"bill_depth_mm\": 17.6, \"flipper_length_mm\": 187.0, \"body_mass_g\": 3425.0, \"sex\": \"Female\", \"isAdelie_bool\": true, \"isAdelie_float\": 1.0}, {\"species\": \"Adelie\", \"island\": \"Dream\", \"bill_length_mm\": 41.1, \"bill_depth_mm\": 17.5, \"flipper_length_mm\": 190.0, \"body_mass_g\": 3900.0, \"sex\": \"Male\", \"isAdelie_bool\": true, \"isAdelie_float\": 1.0}, {\"species\": \"Adelie\", \"island\": \"Dream\", \"bill_length_mm\": 35.6, \"bill_depth_mm\": 17.5, \"flipper_length_mm\": 191.0, \"body_mass_g\": 3175.0, \"sex\": \"Female\", \"isAdelie_bool\": true, \"isAdelie_float\": 1.0}, {\"species\": \"Adelie\", \"island\": \"Dream\", \"bill_length_mm\": 40.2, \"bill_depth_mm\": 20.1, \"flipper_length_mm\": 200.0, \"body_mass_g\": 3975.0, \"sex\": \"Male\", \"isAdelie_bool\": true, \"isAdelie_float\": 1.0}, {\"species\": \"Adelie\", \"island\": \"Dream\", \"bill_length_mm\": 37.0, \"bill_depth_mm\": 16.5, \"flipper_length_mm\": 185.0, \"body_mass_g\": 3400.0, \"sex\": \"Female\", \"isAdelie_bool\": true, \"isAdelie_float\": 1.0}, {\"species\": \"Adelie\", \"island\": \"Dream\", \"bill_length_mm\": 39.7, \"bill_depth_mm\": 17.9, \"flipper_length_mm\": 193.0, \"body_mass_g\": 4250.0, \"sex\": \"Male\", \"isAdelie_bool\": true, \"isAdelie_float\": 1.0}, {\"species\": \"Adelie\", \"island\": \"Dream\", \"bill_length_mm\": 40.2, \"bill_depth_mm\": 17.1, \"flipper_length_mm\": 193.0, \"body_mass_g\": 3400.0, \"sex\": \"Female\", \"isAdelie_bool\": true, \"isAdelie_float\": 1.0}, {\"species\": \"Adelie\", \"island\": \"Dream\", \"bill_length_mm\": 40.6, \"bill_depth_mm\": 17.2, \"flipper_length_mm\": 187.0, \"body_mass_g\": 3475.0, \"sex\": \"Male\", \"isAdelie_bool\": true, \"isAdelie_float\": 1.0}, {\"species\": \"Adelie\", \"island\": \"Dream\", \"bill_length_mm\": 32.1, \"bill_depth_mm\": 15.5, \"flipper_length_mm\": 188.0, \"body_mass_g\": 3050.0, \"sex\": \"Female\", \"isAdelie_bool\": true, \"isAdelie_float\": 1.0}, {\"species\": \"Adelie\", \"island\": \"Dream\", \"bill_length_mm\": 40.7, \"bill_depth_mm\": 17.0, \"flipper_length_mm\": 190.0, \"body_mass_g\": 3725.0, \"sex\": \"Male\", \"isAdelie_bool\": true, \"isAdelie_float\": 1.0}, {\"species\": \"Adelie\", \"island\": \"Dream\", \"bill_length_mm\": 37.3, \"bill_depth_mm\": 16.8, \"flipper_length_mm\": 192.0, \"body_mass_g\": 3000.0, \"sex\": \"Female\", \"isAdelie_bool\": true, \"isAdelie_float\": 1.0}, {\"species\": \"Adelie\", \"island\": \"Dream\", \"bill_length_mm\": 39.0, \"bill_depth_mm\": 18.7, \"flipper_length_mm\": 185.0, \"body_mass_g\": 3650.0, \"sex\": \"Male\", \"isAdelie_bool\": true, \"isAdelie_float\": 1.0}, {\"species\": \"Adelie\", \"island\": \"Dream\", \"bill_length_mm\": 39.2, \"bill_depth_mm\": 18.6, \"flipper_length_mm\": 190.0, \"body_mass_g\": 4250.0, \"sex\": \"Male\", \"isAdelie_bool\": true, \"isAdelie_float\": 1.0}, {\"species\": \"Adelie\", \"island\": \"Dream\", \"bill_length_mm\": 36.6, \"bill_depth_mm\": 18.4, \"flipper_length_mm\": 184.0, \"body_mass_g\": 3475.0, \"sex\": \"Female\", \"isAdelie_bool\": true, \"isAdelie_float\": 1.0}, {\"species\": \"Adelie\", \"island\": \"Dream\", \"bill_length_mm\": 36.0, \"bill_depth_mm\": 17.8, \"flipper_length_mm\": 195.0, \"body_mass_g\": 3450.0, \"sex\": \"Female\", \"isAdelie_bool\": true, \"isAdelie_float\": 1.0}, {\"species\": \"Adelie\", \"island\": \"Dream\", \"bill_length_mm\": 37.8, \"bill_depth_mm\": 18.1, \"flipper_length_mm\": 193.0, \"body_mass_g\": 3750.0, \"sex\": \"Male\", \"isAdelie_bool\": true, \"isAdelie_float\": 1.0}, {\"species\": \"Adelie\", \"island\": \"Dream\", \"bill_length_mm\": 36.0, \"bill_depth_mm\": 17.1, \"flipper_length_mm\": 187.0, \"body_mass_g\": 3700.0, \"sex\": \"Female\", \"isAdelie_bool\": true, \"isAdelie_float\": 1.0}, {\"species\": \"Adelie\", \"island\": \"Dream\", \"bill_length_mm\": 41.5, \"bill_depth_mm\": 18.5, \"flipper_length_mm\": 201.0, \"body_mass_g\": 4000.0, \"sex\": \"Male\", \"isAdelie_bool\": true, \"isAdelie_float\": 1.0}, {\"species\": \"Chinstrap\", \"island\": \"Dream\", \"bill_length_mm\": 46.5, \"bill_depth_mm\": 17.9, \"flipper_length_mm\": 192.0, \"body_mass_g\": 3500.0, \"sex\": \"Female\", \"isAdelie_bool\": false, \"isAdelie_float\": 0.0}, {\"species\": \"Chinstrap\", \"island\": \"Dream\", \"bill_length_mm\": 50.0, \"bill_depth_mm\": 19.5, \"flipper_length_mm\": 196.0, \"body_mass_g\": 3900.0, \"sex\": \"Male\", \"isAdelie_bool\": false, \"isAdelie_float\": 0.0}, {\"species\": \"Chinstrap\", \"island\": \"Dream\", \"bill_length_mm\": 51.3, \"bill_depth_mm\": 19.2, \"flipper_length_mm\": 193.0, \"body_mass_g\": 3650.0, \"sex\": \"Male\", \"isAdelie_bool\": false, \"isAdelie_float\": 0.0}, {\"species\": \"Chinstrap\", \"island\": \"Dream\", \"bill_length_mm\": 45.4, \"bill_depth_mm\": 18.7, \"flipper_length_mm\": 188.0, \"body_mass_g\": 3525.0, \"sex\": \"Female\", \"isAdelie_bool\": false, \"isAdelie_float\": 0.0}, {\"species\": \"Chinstrap\", \"island\": \"Dream\", \"bill_length_mm\": 52.7, \"bill_depth_mm\": 19.8, \"flipper_length_mm\": 197.0, \"body_mass_g\": 3725.0, \"sex\": \"Male\", \"isAdelie_bool\": false, \"isAdelie_float\": 0.0}, {\"species\": \"Chinstrap\", \"island\": \"Dream\", \"bill_length_mm\": 45.2, \"bill_depth_mm\": 17.8, \"flipper_length_mm\": 198.0, \"body_mass_g\": 3950.0, \"sex\": \"Female\", \"isAdelie_bool\": false, \"isAdelie_float\": 0.0}, {\"species\": \"Chinstrap\", \"island\": \"Dream\", \"bill_length_mm\": 46.1, \"bill_depth_mm\": 18.2, \"flipper_length_mm\": 178.0, \"body_mass_g\": 3250.0, \"sex\": \"Female\", \"isAdelie_bool\": false, \"isAdelie_float\": 0.0}, {\"species\": \"Chinstrap\", \"island\": \"Dream\", \"bill_length_mm\": 51.3, \"bill_depth_mm\": 18.2, \"flipper_length_mm\": 197.0, \"body_mass_g\": 3750.0, \"sex\": \"Male\", \"isAdelie_bool\": false, \"isAdelie_float\": 0.0}, {\"species\": \"Chinstrap\", \"island\": \"Dream\", \"bill_length_mm\": 46.0, \"bill_depth_mm\": 18.9, \"flipper_length_mm\": 195.0, \"body_mass_g\": 4150.0, \"sex\": \"Female\", \"isAdelie_bool\": false, \"isAdelie_float\": 0.0}, {\"species\": \"Chinstrap\", \"island\": \"Dream\", \"bill_length_mm\": 51.3, \"bill_depth_mm\": 19.9, \"flipper_length_mm\": 198.0, \"body_mass_g\": 3700.0, \"sex\": \"Male\", \"isAdelie_bool\": false, \"isAdelie_float\": 0.0}, {\"species\": \"Chinstrap\", \"island\": \"Dream\", \"bill_length_mm\": 46.6, \"bill_depth_mm\": 17.8, \"flipper_length_mm\": 193.0, \"body_mass_g\": 3800.0, \"sex\": \"Female\", \"isAdelie_bool\": false, \"isAdelie_float\": 0.0}, {\"species\": \"Chinstrap\", \"island\": \"Dream\", \"bill_length_mm\": 51.7, \"bill_depth_mm\": 20.3, \"flipper_length_mm\": 194.0, \"body_mass_g\": 3775.0, \"sex\": \"Male\", \"isAdelie_bool\": false, \"isAdelie_float\": 0.0}, {\"species\": \"Chinstrap\", \"island\": \"Dream\", \"bill_length_mm\": 47.0, \"bill_depth_mm\": 17.3, \"flipper_length_mm\": 185.0, \"body_mass_g\": 3700.0, \"sex\": \"Female\", \"isAdelie_bool\": false, \"isAdelie_float\": 0.0}, {\"species\": \"Chinstrap\", \"island\": \"Dream\", \"bill_length_mm\": 52.0, \"bill_depth_mm\": 18.1, \"flipper_length_mm\": 201.0, \"body_mass_g\": 4050.0, \"sex\": \"Male\", \"isAdelie_bool\": false, \"isAdelie_float\": 0.0}, {\"species\": \"Chinstrap\", \"island\": \"Dream\", \"bill_length_mm\": 45.9, \"bill_depth_mm\": 17.1, \"flipper_length_mm\": 190.0, \"body_mass_g\": 3575.0, \"sex\": \"Female\", \"isAdelie_bool\": false, \"isAdelie_float\": 0.0}, {\"species\": \"Chinstrap\", \"island\": \"Dream\", \"bill_length_mm\": 50.5, \"bill_depth_mm\": 19.6, \"flipper_length_mm\": 201.0, \"body_mass_g\": 4050.0, \"sex\": \"Male\", \"isAdelie_bool\": false, \"isAdelie_float\": 0.0}, {\"species\": \"Chinstrap\", \"island\": \"Dream\", \"bill_length_mm\": 50.3, \"bill_depth_mm\": 20.0, \"flipper_length_mm\": 197.0, \"body_mass_g\": 3300.0, \"sex\": \"Male\", \"isAdelie_bool\": false, \"isAdelie_float\": 0.0}, {\"species\": \"Chinstrap\", \"island\": \"Dream\", \"bill_length_mm\": 58.0, \"bill_depth_mm\": 17.8, \"flipper_length_mm\": 181.0, \"body_mass_g\": 3700.0, \"sex\": \"Female\", \"isAdelie_bool\": false, \"isAdelie_float\": 0.0}, {\"species\": \"Chinstrap\", \"island\": \"Dream\", \"bill_length_mm\": 46.4, \"bill_depth_mm\": 18.6, \"flipper_length_mm\": 190.0, \"body_mass_g\": 3450.0, \"sex\": \"Female\", \"isAdelie_bool\": false, \"isAdelie_float\": 0.0}, {\"species\": \"Chinstrap\", \"island\": \"Dream\", \"bill_length_mm\": 49.2, \"bill_depth_mm\": 18.2, \"flipper_length_mm\": 195.0, \"body_mass_g\": 4400.0, \"sex\": \"Male\", \"isAdelie_bool\": false, \"isAdelie_float\": 0.0}, {\"species\": \"Chinstrap\", \"island\": \"Dream\", \"bill_length_mm\": 42.4, \"bill_depth_mm\": 17.3, \"flipper_length_mm\": 181.0, \"body_mass_g\": 3600.0, \"sex\": \"Female\", \"isAdelie_bool\": false, \"isAdelie_float\": 0.0}, {\"species\": \"Chinstrap\", \"island\": \"Dream\", \"bill_length_mm\": 48.5, \"bill_depth_mm\": 17.5, \"flipper_length_mm\": 191.0, \"body_mass_g\": 3400.0, \"sex\": \"Male\", \"isAdelie_bool\": false, \"isAdelie_float\": 0.0}, {\"species\": \"Chinstrap\", \"island\": \"Dream\", \"bill_length_mm\": 43.2, \"bill_depth_mm\": 16.6, \"flipper_length_mm\": 187.0, \"body_mass_g\": 2900.0, \"sex\": \"Female\", \"isAdelie_bool\": false, \"isAdelie_float\": 0.0}, {\"species\": \"Chinstrap\", \"island\": \"Dream\", \"bill_length_mm\": 50.6, \"bill_depth_mm\": 19.4, \"flipper_length_mm\": 193.0, \"body_mass_g\": 3800.0, \"sex\": \"Male\", \"isAdelie_bool\": false, \"isAdelie_float\": 0.0}, {\"species\": \"Chinstrap\", \"island\": \"Dream\", \"bill_length_mm\": 46.7, \"bill_depth_mm\": 17.9, \"flipper_length_mm\": 195.0, \"body_mass_g\": 3300.0, \"sex\": \"Female\", \"isAdelie_bool\": false, \"isAdelie_float\": 0.0}, {\"species\": \"Chinstrap\", \"island\": \"Dream\", \"bill_length_mm\": 52.0, \"bill_depth_mm\": 19.0, \"flipper_length_mm\": 197.0, \"body_mass_g\": 4150.0, \"sex\": \"Male\", \"isAdelie_bool\": false, \"isAdelie_float\": 0.0}, {\"species\": \"Chinstrap\", \"island\": \"Dream\", \"bill_length_mm\": 50.5, \"bill_depth_mm\": 18.4, \"flipper_length_mm\": 200.0, \"body_mass_g\": 3400.0, \"sex\": \"Female\", \"isAdelie_bool\": false, \"isAdelie_float\": 0.0}, {\"species\": \"Chinstrap\", \"island\": \"Dream\", \"bill_length_mm\": 49.5, \"bill_depth_mm\": 19.0, \"flipper_length_mm\": 200.0, \"body_mass_g\": 3800.0, \"sex\": \"Male\", \"isAdelie_bool\": false, \"isAdelie_float\": 0.0}, {\"species\": \"Chinstrap\", \"island\": \"Dream\", \"bill_length_mm\": 46.4, \"bill_depth_mm\": 17.8, \"flipper_length_mm\": 191.0, \"body_mass_g\": 3700.0, \"sex\": \"Female\", \"isAdelie_bool\": false, \"isAdelie_float\": 0.0}, {\"species\": \"Chinstrap\", \"island\": \"Dream\", \"bill_length_mm\": 52.8, \"bill_depth_mm\": 20.0, \"flipper_length_mm\": 205.0, \"body_mass_g\": 4550.0, \"sex\": \"Male\", \"isAdelie_bool\": false, \"isAdelie_float\": 0.0}, {\"species\": \"Chinstrap\", \"island\": \"Dream\", \"bill_length_mm\": 40.9, \"bill_depth_mm\": 16.6, \"flipper_length_mm\": 187.0, \"body_mass_g\": 3200.0, \"sex\": \"Female\", \"isAdelie_bool\": false, \"isAdelie_float\": 0.0}, {\"species\": \"Chinstrap\", \"island\": \"Dream\", \"bill_length_mm\": 54.2, \"bill_depth_mm\": 20.8, \"flipper_length_mm\": 201.0, \"body_mass_g\": 4300.0, \"sex\": \"Male\", \"isAdelie_bool\": false, \"isAdelie_float\": 0.0}, {\"species\": \"Chinstrap\", \"island\": \"Dream\", \"bill_length_mm\": 42.5, \"bill_depth_mm\": 16.7, \"flipper_length_mm\": 187.0, \"body_mass_g\": 3350.0, \"sex\": \"Female\", \"isAdelie_bool\": false, \"isAdelie_float\": 0.0}, {\"species\": \"Chinstrap\", \"island\": \"Dream\", \"bill_length_mm\": 51.0, \"bill_depth_mm\": 18.8, \"flipper_length_mm\": 203.0, \"body_mass_g\": 4100.0, \"sex\": \"Male\", \"isAdelie_bool\": false, \"isAdelie_float\": 0.0}, {\"species\": \"Chinstrap\", \"island\": \"Dream\", \"bill_length_mm\": 49.7, \"bill_depth_mm\": 18.6, \"flipper_length_mm\": 195.0, \"body_mass_g\": 3600.0, \"sex\": \"Male\", \"isAdelie_bool\": false, \"isAdelie_float\": 0.0}, {\"species\": \"Chinstrap\", \"island\": \"Dream\", \"bill_length_mm\": 47.5, \"bill_depth_mm\": 16.8, \"flipper_length_mm\": 199.0, \"body_mass_g\": 3900.0, \"sex\": \"Female\", \"isAdelie_bool\": false, \"isAdelie_float\": 0.0}, {\"species\": \"Chinstrap\", \"island\": \"Dream\", \"bill_length_mm\": 47.6, \"bill_depth_mm\": 18.3, \"flipper_length_mm\": 195.0, \"body_mass_g\": 3850.0, \"sex\": \"Female\", \"isAdelie_bool\": false, \"isAdelie_float\": 0.0}, {\"species\": \"Chinstrap\", \"island\": \"Dream\", \"bill_length_mm\": 52.0, \"bill_depth_mm\": 20.7, \"flipper_length_mm\": 210.0, \"body_mass_g\": 4800.0, \"sex\": \"Male\", \"isAdelie_bool\": false, \"isAdelie_float\": 0.0}, {\"species\": \"Chinstrap\", \"island\": \"Dream\", \"bill_length_mm\": 46.9, \"bill_depth_mm\": 16.6, \"flipper_length_mm\": 192.0, \"body_mass_g\": 2700.0, \"sex\": \"Female\", \"isAdelie_bool\": false, \"isAdelie_float\": 0.0}, {\"species\": \"Chinstrap\", \"island\": \"Dream\", \"bill_length_mm\": 53.5, \"bill_depth_mm\": 19.9, \"flipper_length_mm\": 205.0, \"body_mass_g\": 4500.0, \"sex\": \"Male\", \"isAdelie_bool\": false, \"isAdelie_float\": 0.0}, {\"species\": \"Chinstrap\", \"island\": \"Dream\", \"bill_length_mm\": 49.0, \"bill_depth_mm\": 19.5, \"flipper_length_mm\": 210.0, \"body_mass_g\": 3950.0, \"sex\": \"Male\", \"isAdelie_bool\": false, \"isAdelie_float\": 0.0}, {\"species\": \"Chinstrap\", \"island\": \"Dream\", \"bill_length_mm\": 46.2, \"bill_depth_mm\": 17.5, \"flipper_length_mm\": 187.0, \"body_mass_g\": 3650.0, \"sex\": \"Female\", \"isAdelie_bool\": false, \"isAdelie_float\": 0.0}, {\"species\": \"Chinstrap\", \"island\": \"Dream\", \"bill_length_mm\": 50.9, \"bill_depth_mm\": 19.1, \"flipper_length_mm\": 196.0, \"body_mass_g\": 3550.0, \"sex\": \"Male\", \"isAdelie_bool\": false, \"isAdelie_float\": 0.0}, {\"species\": \"Chinstrap\", \"island\": \"Dream\", \"bill_length_mm\": 45.5, \"bill_depth_mm\": 17.0, \"flipper_length_mm\": 196.0, \"body_mass_g\": 3500.0, \"sex\": \"Female\", \"isAdelie_bool\": false, \"isAdelie_float\": 0.0}, {\"species\": \"Chinstrap\", \"island\": \"Dream\", \"bill_length_mm\": 50.9, \"bill_depth_mm\": 17.9, \"flipper_length_mm\": 196.0, \"body_mass_g\": 3675.0, \"sex\": \"Female\", \"isAdelie_bool\": false, \"isAdelie_float\": 0.0}, {\"species\": \"Chinstrap\", \"island\": \"Dream\", \"bill_length_mm\": 50.8, \"bill_depth_mm\": 18.5, \"flipper_length_mm\": 201.0, \"body_mass_g\": 4450.0, \"sex\": \"Male\", \"isAdelie_bool\": false, \"isAdelie_float\": 0.0}, {\"species\": \"Chinstrap\", \"island\": \"Dream\", \"bill_length_mm\": 50.1, \"bill_depth_mm\": 17.9, \"flipper_length_mm\": 190.0, \"body_mass_g\": 3400.0, \"sex\": \"Female\", \"isAdelie_bool\": false, \"isAdelie_float\": 0.0}, {\"species\": \"Chinstrap\", \"island\": \"Dream\", \"bill_length_mm\": 49.0, \"bill_depth_mm\": 19.6, \"flipper_length_mm\": 212.0, \"body_mass_g\": 4300.0, \"sex\": \"Male\", \"isAdelie_bool\": false, \"isAdelie_float\": 0.0}, {\"species\": \"Chinstrap\", \"island\": \"Dream\", \"bill_length_mm\": 51.5, \"bill_depth_mm\": 18.7, \"flipper_length_mm\": 187.0, \"body_mass_g\": 3250.0, \"sex\": \"Male\", \"isAdelie_bool\": false, \"isAdelie_float\": 0.0}, {\"species\": \"Chinstrap\", \"island\": \"Dream\", \"bill_length_mm\": 49.8, \"bill_depth_mm\": 17.3, \"flipper_length_mm\": 198.0, \"body_mass_g\": 3675.0, \"sex\": \"Female\", \"isAdelie_bool\": false, \"isAdelie_float\": 0.0}, {\"species\": \"Chinstrap\", \"island\": \"Dream\", \"bill_length_mm\": 48.1, \"bill_depth_mm\": 16.4, \"flipper_length_mm\": 199.0, \"body_mass_g\": 3325.0, \"sex\": \"Female\", \"isAdelie_bool\": false, \"isAdelie_float\": 0.0}, {\"species\": \"Chinstrap\", \"island\": \"Dream\", \"bill_length_mm\": 51.4, \"bill_depth_mm\": 19.0, \"flipper_length_mm\": 201.0, \"body_mass_g\": 3950.0, \"sex\": \"Male\", \"isAdelie_bool\": false, \"isAdelie_float\": 0.0}, {\"species\": \"Chinstrap\", \"island\": \"Dream\", \"bill_length_mm\": 45.7, \"bill_depth_mm\": 17.3, \"flipper_length_mm\": 193.0, \"body_mass_g\": 3600.0, \"sex\": \"Female\", \"isAdelie_bool\": false, \"isAdelie_float\": 0.0}, {\"species\": \"Chinstrap\", \"island\": \"Dream\", \"bill_length_mm\": 50.7, \"bill_depth_mm\": 19.7, \"flipper_length_mm\": 203.0, \"body_mass_g\": 4050.0, \"sex\": \"Male\", \"isAdelie_bool\": false, \"isAdelie_float\": 0.0}, {\"species\": \"Chinstrap\", \"island\": \"Dream\", \"bill_length_mm\": 42.5, \"bill_depth_mm\": 17.3, \"flipper_length_mm\": 187.0, \"body_mass_g\": 3350.0, \"sex\": \"Female\", \"isAdelie_bool\": false, \"isAdelie_float\": 0.0}, {\"species\": \"Chinstrap\", \"island\": \"Dream\", \"bill_length_mm\": 52.2, \"bill_depth_mm\": 18.8, \"flipper_length_mm\": 197.0, \"body_mass_g\": 3450.0, \"sex\": \"Male\", \"isAdelie_bool\": false, \"isAdelie_float\": 0.0}, {\"species\": \"Chinstrap\", \"island\": \"Dream\", \"bill_length_mm\": 45.2, \"bill_depth_mm\": 16.6, \"flipper_length_mm\": 191.0, \"body_mass_g\": 3250.0, \"sex\": \"Female\", \"isAdelie_bool\": false, \"isAdelie_float\": 0.0}, {\"species\": \"Chinstrap\", \"island\": \"Dream\", \"bill_length_mm\": 49.3, \"bill_depth_mm\": 19.9, \"flipper_length_mm\": 203.0, \"body_mass_g\": 4050.0, \"sex\": \"Male\", \"isAdelie_bool\": false, \"isAdelie_float\": 0.0}, {\"species\": \"Chinstrap\", \"island\": \"Dream\", \"bill_length_mm\": 50.2, \"bill_depth_mm\": 18.8, \"flipper_length_mm\": 202.0, \"body_mass_g\": 3800.0, \"sex\": \"Male\", \"isAdelie_bool\": false, \"isAdelie_float\": 0.0}, {\"species\": \"Chinstrap\", \"island\": \"Dream\", \"bill_length_mm\": 45.6, \"bill_depth_mm\": 19.4, \"flipper_length_mm\": 194.0, \"body_mass_g\": 3525.0, \"sex\": \"Female\", \"isAdelie_bool\": false, \"isAdelie_float\": 0.0}, {\"species\": \"Chinstrap\", \"island\": \"Dream\", \"bill_length_mm\": 51.9, \"bill_depth_mm\": 19.5, \"flipper_length_mm\": 206.0, \"body_mass_g\": 3950.0, \"sex\": \"Male\", \"isAdelie_bool\": false, \"isAdelie_float\": 0.0}, {\"species\": \"Chinstrap\", \"island\": \"Dream\", \"bill_length_mm\": 46.8, \"bill_depth_mm\": 16.5, \"flipper_length_mm\": 189.0, \"body_mass_g\": 3650.0, \"sex\": \"Female\", \"isAdelie_bool\": false, \"isAdelie_float\": 0.0}, {\"species\": \"Chinstrap\", \"island\": \"Dream\", \"bill_length_mm\": 45.7, \"bill_depth_mm\": 17.0, \"flipper_length_mm\": 195.0, \"body_mass_g\": 3650.0, \"sex\": \"Female\", \"isAdelie_bool\": false, \"isAdelie_float\": 0.0}, {\"species\": \"Chinstrap\", \"island\": \"Dream\", \"bill_length_mm\": 55.8, \"bill_depth_mm\": 19.8, \"flipper_length_mm\": 207.0, \"body_mass_g\": 4000.0, \"sex\": \"Male\", \"isAdelie_bool\": false, \"isAdelie_float\": 0.0}, {\"species\": \"Chinstrap\", \"island\": \"Dream\", \"bill_length_mm\": 43.5, \"bill_depth_mm\": 18.1, \"flipper_length_mm\": 202.0, \"body_mass_g\": 3400.0, \"sex\": \"Female\", \"isAdelie_bool\": false, \"isAdelie_float\": 0.0}, {\"species\": \"Chinstrap\", \"island\": \"Dream\", \"bill_length_mm\": 49.6, \"bill_depth_mm\": 18.2, \"flipper_length_mm\": 193.0, \"body_mass_g\": 3775.0, \"sex\": \"Male\", \"isAdelie_bool\": false, \"isAdelie_float\": 0.0}, {\"species\": \"Chinstrap\", \"island\": \"Dream\", \"bill_length_mm\": 50.8, \"bill_depth_mm\": 19.0, \"flipper_length_mm\": 210.0, \"body_mass_g\": 4100.0, \"sex\": \"Male\", \"isAdelie_bool\": false, \"isAdelie_float\": 0.0}, {\"species\": \"Chinstrap\", \"island\": \"Dream\", \"bill_length_mm\": 50.2, \"bill_depth_mm\": 18.7, \"flipper_length_mm\": 198.0, \"body_mass_g\": 3775.0, \"sex\": \"Female\", \"isAdelie_bool\": false, \"isAdelie_float\": 0.0}, {\"species\": \"Gentoo\", \"island\": \"Biscoe\", \"bill_length_mm\": 46.1, \"bill_depth_mm\": 13.2, \"flipper_length_mm\": 211.0, \"body_mass_g\": 4500.0, \"sex\": \"Female\", \"isAdelie_bool\": false, \"isAdelie_float\": 0.0}, {\"species\": \"Gentoo\", \"island\": \"Biscoe\", \"bill_length_mm\": 50.0, \"bill_depth_mm\": 16.3, \"flipper_length_mm\": 230.0, \"body_mass_g\": 5700.0, \"sex\": \"Male\", \"isAdelie_bool\": false, \"isAdelie_float\": 0.0}, {\"species\": \"Gentoo\", \"island\": \"Biscoe\", \"bill_length_mm\": 48.7, \"bill_depth_mm\": 14.1, \"flipper_length_mm\": 210.0, \"body_mass_g\": 4450.0, \"sex\": \"Female\", \"isAdelie_bool\": false, \"isAdelie_float\": 0.0}, {\"species\": \"Gentoo\", \"island\": \"Biscoe\", \"bill_length_mm\": 50.0, \"bill_depth_mm\": 15.2, \"flipper_length_mm\": 218.0, \"body_mass_g\": 5700.0, \"sex\": \"Male\", \"isAdelie_bool\": false, \"isAdelie_float\": 0.0}, {\"species\": \"Gentoo\", \"island\": \"Biscoe\", \"bill_length_mm\": 47.6, \"bill_depth_mm\": 14.5, \"flipper_length_mm\": 215.0, \"body_mass_g\": 5400.0, \"sex\": \"Male\", \"isAdelie_bool\": false, \"isAdelie_float\": 0.0}, {\"species\": \"Gentoo\", \"island\": \"Biscoe\", \"bill_length_mm\": 46.5, \"bill_depth_mm\": 13.5, \"flipper_length_mm\": 210.0, \"body_mass_g\": 4550.0, \"sex\": \"Female\", \"isAdelie_bool\": false, \"isAdelie_float\": 0.0}, {\"species\": \"Gentoo\", \"island\": \"Biscoe\", \"bill_length_mm\": 45.4, \"bill_depth_mm\": 14.6, \"flipper_length_mm\": 211.0, \"body_mass_g\": 4800.0, \"sex\": \"Female\", \"isAdelie_bool\": false, \"isAdelie_float\": 0.0}, {\"species\": \"Gentoo\", \"island\": \"Biscoe\", \"bill_length_mm\": 46.7, \"bill_depth_mm\": 15.3, \"flipper_length_mm\": 219.0, \"body_mass_g\": 5200.0, \"sex\": \"Male\", \"isAdelie_bool\": false, \"isAdelie_float\": 0.0}, {\"species\": \"Gentoo\", \"island\": \"Biscoe\", \"bill_length_mm\": 43.3, \"bill_depth_mm\": 13.4, \"flipper_length_mm\": 209.0, \"body_mass_g\": 4400.0, \"sex\": \"Female\", \"isAdelie_bool\": false, \"isAdelie_float\": 0.0}, {\"species\": \"Gentoo\", \"island\": \"Biscoe\", \"bill_length_mm\": 46.8, \"bill_depth_mm\": 15.4, \"flipper_length_mm\": 215.0, \"body_mass_g\": 5150.0, \"sex\": \"Male\", \"isAdelie_bool\": false, \"isAdelie_float\": 0.0}, {\"species\": \"Gentoo\", \"island\": \"Biscoe\", \"bill_length_mm\": 40.9, \"bill_depth_mm\": 13.7, \"flipper_length_mm\": 214.0, \"body_mass_g\": 4650.0, \"sex\": \"Female\", \"isAdelie_bool\": false, \"isAdelie_float\": 0.0}, {\"species\": \"Gentoo\", \"island\": \"Biscoe\", \"bill_length_mm\": 49.0, \"bill_depth_mm\": 16.1, \"flipper_length_mm\": 216.0, \"body_mass_g\": 5550.0, \"sex\": \"Male\", \"isAdelie_bool\": false, \"isAdelie_float\": 0.0}, {\"species\": \"Gentoo\", \"island\": \"Biscoe\", \"bill_length_mm\": 45.5, \"bill_depth_mm\": 13.7, \"flipper_length_mm\": 214.0, \"body_mass_g\": 4650.0, \"sex\": \"Female\", \"isAdelie_bool\": false, \"isAdelie_float\": 0.0}, {\"species\": \"Gentoo\", \"island\": \"Biscoe\", \"bill_length_mm\": 48.4, \"bill_depth_mm\": 14.6, \"flipper_length_mm\": 213.0, \"body_mass_g\": 5850.0, \"sex\": \"Male\", \"isAdelie_bool\": false, \"isAdelie_float\": 0.0}, {\"species\": \"Gentoo\", \"island\": \"Biscoe\", \"bill_length_mm\": 45.8, \"bill_depth_mm\": 14.6, \"flipper_length_mm\": 210.0, \"body_mass_g\": 4200.0, \"sex\": \"Female\", \"isAdelie_bool\": false, \"isAdelie_float\": 0.0}, {\"species\": \"Gentoo\", \"island\": \"Biscoe\", \"bill_length_mm\": 49.3, \"bill_depth_mm\": 15.7, \"flipper_length_mm\": 217.0, \"body_mass_g\": 5850.0, \"sex\": \"Male\", \"isAdelie_bool\": false, \"isAdelie_float\": 0.0}, {\"species\": \"Gentoo\", \"island\": \"Biscoe\", \"bill_length_mm\": 42.0, \"bill_depth_mm\": 13.5, \"flipper_length_mm\": 210.0, \"body_mass_g\": 4150.0, \"sex\": \"Female\", \"isAdelie_bool\": false, \"isAdelie_float\": 0.0}, {\"species\": \"Gentoo\", \"island\": \"Biscoe\", \"bill_length_mm\": 49.2, \"bill_depth_mm\": 15.2, \"flipper_length_mm\": 221.0, \"body_mass_g\": 6300.0, \"sex\": \"Male\", \"isAdelie_bool\": false, \"isAdelie_float\": 0.0}, {\"species\": \"Gentoo\", \"island\": \"Biscoe\", \"bill_length_mm\": 46.2, \"bill_depth_mm\": 14.5, \"flipper_length_mm\": 209.0, \"body_mass_g\": 4800.0, \"sex\": \"Female\", \"isAdelie_bool\": false, \"isAdelie_float\": 0.0}, {\"species\": \"Gentoo\", \"island\": \"Biscoe\", \"bill_length_mm\": 48.7, \"bill_depth_mm\": 15.1, \"flipper_length_mm\": 222.0, \"body_mass_g\": 5350.0, \"sex\": \"Male\", \"isAdelie_bool\": false, \"isAdelie_float\": 0.0}, {\"species\": \"Gentoo\", \"island\": \"Biscoe\", \"bill_length_mm\": 50.2, \"bill_depth_mm\": 14.3, \"flipper_length_mm\": 218.0, \"body_mass_g\": 5700.0, \"sex\": \"Male\", \"isAdelie_bool\": false, \"isAdelie_float\": 0.0}, {\"species\": \"Gentoo\", \"island\": \"Biscoe\", \"bill_length_mm\": 45.1, \"bill_depth_mm\": 14.5, \"flipper_length_mm\": 215.0, \"body_mass_g\": 5000.0, \"sex\": \"Female\", \"isAdelie_bool\": false, \"isAdelie_float\": 0.0}, {\"species\": \"Gentoo\", \"island\": \"Biscoe\", \"bill_length_mm\": 46.5, \"bill_depth_mm\": 14.5, \"flipper_length_mm\": 213.0, \"body_mass_g\": 4400.0, \"sex\": \"Female\", \"isAdelie_bool\": false, \"isAdelie_float\": 0.0}, {\"species\": \"Gentoo\", \"island\": \"Biscoe\", \"bill_length_mm\": 46.3, \"bill_depth_mm\": 15.8, \"flipper_length_mm\": 215.0, \"body_mass_g\": 5050.0, \"sex\": \"Male\", \"isAdelie_bool\": false, \"isAdelie_float\": 0.0}, {\"species\": \"Gentoo\", \"island\": \"Biscoe\", \"bill_length_mm\": 42.9, \"bill_depth_mm\": 13.1, \"flipper_length_mm\": 215.0, \"body_mass_g\": 5000.0, \"sex\": \"Female\", \"isAdelie_bool\": false, \"isAdelie_float\": 0.0}, {\"species\": \"Gentoo\", \"island\": \"Biscoe\", \"bill_length_mm\": 46.1, \"bill_depth_mm\": 15.1, \"flipper_length_mm\": 215.0, \"body_mass_g\": 5100.0, \"sex\": \"Male\", \"isAdelie_bool\": false, \"isAdelie_float\": 0.0}, {\"species\": \"Gentoo\", \"island\": \"Biscoe\", \"bill_length_mm\": 47.8, \"bill_depth_mm\": 15.0, \"flipper_length_mm\": 215.0, \"body_mass_g\": 5650.0, \"sex\": \"Male\", \"isAdelie_bool\": false, \"isAdelie_float\": 0.0}, {\"species\": \"Gentoo\", \"island\": \"Biscoe\", \"bill_length_mm\": 48.2, \"bill_depth_mm\": 14.3, \"flipper_length_mm\": 210.0, \"body_mass_g\": 4600.0, \"sex\": \"Female\", \"isAdelie_bool\": false, \"isAdelie_float\": 0.0}, {\"species\": \"Gentoo\", \"island\": \"Biscoe\", \"bill_length_mm\": 50.0, \"bill_depth_mm\": 15.3, \"flipper_length_mm\": 220.0, \"body_mass_g\": 5550.0, \"sex\": \"Male\", \"isAdelie_bool\": false, \"isAdelie_float\": 0.0}, {\"species\": \"Gentoo\", \"island\": \"Biscoe\", \"bill_length_mm\": 47.3, \"bill_depth_mm\": 15.3, \"flipper_length_mm\": 222.0, \"body_mass_g\": 5250.0, \"sex\": \"Male\", \"isAdelie_bool\": false, \"isAdelie_float\": 0.0}, {\"species\": \"Gentoo\", \"island\": \"Biscoe\", \"bill_length_mm\": 42.8, \"bill_depth_mm\": 14.2, \"flipper_length_mm\": 209.0, \"body_mass_g\": 4700.0, \"sex\": \"Female\", \"isAdelie_bool\": false, \"isAdelie_float\": 0.0}, {\"species\": \"Gentoo\", \"island\": \"Biscoe\", \"bill_length_mm\": 45.1, \"bill_depth_mm\": 14.5, \"flipper_length_mm\": 207.0, \"body_mass_g\": 5050.0, \"sex\": \"Female\", \"isAdelie_bool\": false, \"isAdelie_float\": 0.0}, {\"species\": \"Gentoo\", \"island\": \"Biscoe\", \"bill_length_mm\": 59.6, \"bill_depth_mm\": 17.0, \"flipper_length_mm\": 230.0, \"body_mass_g\": 6050.0, \"sex\": \"Male\", \"isAdelie_bool\": false, \"isAdelie_float\": 0.0}, {\"species\": \"Gentoo\", \"island\": \"Biscoe\", \"bill_length_mm\": 49.1, \"bill_depth_mm\": 14.8, \"flipper_length_mm\": 220.0, \"body_mass_g\": 5150.0, \"sex\": \"Female\", \"isAdelie_bool\": false, \"isAdelie_float\": 0.0}, {\"species\": \"Gentoo\", \"island\": \"Biscoe\", \"bill_length_mm\": 48.4, \"bill_depth_mm\": 16.3, \"flipper_length_mm\": 220.0, \"body_mass_g\": 5400.0, \"sex\": \"Male\", \"isAdelie_bool\": false, \"isAdelie_float\": 0.0}, {\"species\": \"Gentoo\", \"island\": \"Biscoe\", \"bill_length_mm\": 42.6, \"bill_depth_mm\": 13.7, \"flipper_length_mm\": 213.0, \"body_mass_g\": 4950.0, \"sex\": \"Female\", \"isAdelie_bool\": false, \"isAdelie_float\": 0.0}, {\"species\": \"Gentoo\", \"island\": \"Biscoe\", \"bill_length_mm\": 44.4, \"bill_depth_mm\": 17.3, \"flipper_length_mm\": 219.0, \"body_mass_g\": 5250.0, \"sex\": \"Male\", \"isAdelie_bool\": false, \"isAdelie_float\": 0.0}, {\"species\": \"Gentoo\", \"island\": \"Biscoe\", \"bill_length_mm\": 44.0, \"bill_depth_mm\": 13.6, \"flipper_length_mm\": 208.0, \"body_mass_g\": 4350.0, \"sex\": \"Female\", \"isAdelie_bool\": false, \"isAdelie_float\": 0.0}, {\"species\": \"Gentoo\", \"island\": \"Biscoe\", \"bill_length_mm\": 48.7, \"bill_depth_mm\": 15.7, \"flipper_length_mm\": 208.0, \"body_mass_g\": 5350.0, \"sex\": \"Male\", \"isAdelie_bool\": false, \"isAdelie_float\": 0.0}, {\"species\": \"Gentoo\", \"island\": \"Biscoe\", \"bill_length_mm\": 42.7, \"bill_depth_mm\": 13.7, \"flipper_length_mm\": 208.0, \"body_mass_g\": 3950.0, \"sex\": \"Female\", \"isAdelie_bool\": false, \"isAdelie_float\": 0.0}, {\"species\": \"Gentoo\", \"island\": \"Biscoe\", \"bill_length_mm\": 49.6, \"bill_depth_mm\": 16.0, \"flipper_length_mm\": 225.0, \"body_mass_g\": 5700.0, \"sex\": \"Male\", \"isAdelie_bool\": false, \"isAdelie_float\": 0.0}, {\"species\": \"Gentoo\", \"island\": \"Biscoe\", \"bill_length_mm\": 45.3, \"bill_depth_mm\": 13.7, \"flipper_length_mm\": 210.0, \"body_mass_g\": 4300.0, \"sex\": \"Female\", \"isAdelie_bool\": false, \"isAdelie_float\": 0.0}, {\"species\": \"Gentoo\", \"island\": \"Biscoe\", \"bill_length_mm\": 49.6, \"bill_depth_mm\": 15.0, \"flipper_length_mm\": 216.0, \"body_mass_g\": 4750.0, \"sex\": \"Male\", \"isAdelie_bool\": false, \"isAdelie_float\": 0.0}, {\"species\": \"Gentoo\", \"island\": \"Biscoe\", \"bill_length_mm\": 50.5, \"bill_depth_mm\": 15.9, \"flipper_length_mm\": 222.0, \"body_mass_g\": 5550.0, \"sex\": \"Male\", \"isAdelie_bool\": false, \"isAdelie_float\": 0.0}, {\"species\": \"Gentoo\", \"island\": \"Biscoe\", \"bill_length_mm\": 43.6, \"bill_depth_mm\": 13.9, \"flipper_length_mm\": 217.0, \"body_mass_g\": 4900.0, \"sex\": \"Female\", \"isAdelie_bool\": false, \"isAdelie_float\": 0.0}, {\"species\": \"Gentoo\", \"island\": \"Biscoe\", \"bill_length_mm\": 45.5, \"bill_depth_mm\": 13.9, \"flipper_length_mm\": 210.0, \"body_mass_g\": 4200.0, \"sex\": \"Female\", \"isAdelie_bool\": false, \"isAdelie_float\": 0.0}, {\"species\": \"Gentoo\", \"island\": \"Biscoe\", \"bill_length_mm\": 50.5, \"bill_depth_mm\": 15.9, \"flipper_length_mm\": 225.0, \"body_mass_g\": 5400.0, \"sex\": \"Male\", \"isAdelie_bool\": false, \"isAdelie_float\": 0.0}, {\"species\": \"Gentoo\", \"island\": \"Biscoe\", \"bill_length_mm\": 44.9, \"bill_depth_mm\": 13.3, \"flipper_length_mm\": 213.0, \"body_mass_g\": 5100.0, \"sex\": \"Female\", \"isAdelie_bool\": false, \"isAdelie_float\": 0.0}, {\"species\": \"Gentoo\", \"island\": \"Biscoe\", \"bill_length_mm\": 45.2, \"bill_depth_mm\": 15.8, \"flipper_length_mm\": 215.0, \"body_mass_g\": 5300.0, \"sex\": \"Male\", \"isAdelie_bool\": false, \"isAdelie_float\": 0.0}, {\"species\": \"Gentoo\", \"island\": \"Biscoe\", \"bill_length_mm\": 46.6, \"bill_depth_mm\": 14.2, \"flipper_length_mm\": 210.0, \"body_mass_g\": 4850.0, \"sex\": \"Female\", \"isAdelie_bool\": false, \"isAdelie_float\": 0.0}, {\"species\": \"Gentoo\", \"island\": \"Biscoe\", \"bill_length_mm\": 48.5, \"bill_depth_mm\": 14.1, \"flipper_length_mm\": 220.0, \"body_mass_g\": 5300.0, \"sex\": \"Male\", \"isAdelie_bool\": false, \"isAdelie_float\": 0.0}, {\"species\": \"Gentoo\", \"island\": \"Biscoe\", \"bill_length_mm\": 45.1, \"bill_depth_mm\": 14.4, \"flipper_length_mm\": 210.0, \"body_mass_g\": 4400.0, \"sex\": \"Female\", \"isAdelie_bool\": false, \"isAdelie_float\": 0.0}, {\"species\": \"Gentoo\", \"island\": \"Biscoe\", \"bill_length_mm\": 50.1, \"bill_depth_mm\": 15.0, \"flipper_length_mm\": 225.0, \"body_mass_g\": 5000.0, \"sex\": \"Male\", \"isAdelie_bool\": false, \"isAdelie_float\": 0.0}, {\"species\": \"Gentoo\", \"island\": \"Biscoe\", \"bill_length_mm\": 46.5, \"bill_depth_mm\": 14.4, \"flipper_length_mm\": 217.0, \"body_mass_g\": 4900.0, \"sex\": \"Female\", \"isAdelie_bool\": false, \"isAdelie_float\": 0.0}, {\"species\": \"Gentoo\", \"island\": \"Biscoe\", \"bill_length_mm\": 45.0, \"bill_depth_mm\": 15.4, \"flipper_length_mm\": 220.0, \"body_mass_g\": 5050.0, \"sex\": \"Male\", \"isAdelie_bool\": false, \"isAdelie_float\": 0.0}, {\"species\": \"Gentoo\", \"island\": \"Biscoe\", \"bill_length_mm\": 43.8, \"bill_depth_mm\": 13.9, \"flipper_length_mm\": 208.0, \"body_mass_g\": 4300.0, \"sex\": \"Female\", \"isAdelie_bool\": false, \"isAdelie_float\": 0.0}, {\"species\": \"Gentoo\", \"island\": \"Biscoe\", \"bill_length_mm\": 45.5, \"bill_depth_mm\": 15.0, \"flipper_length_mm\": 220.0, \"body_mass_g\": 5000.0, \"sex\": \"Male\", \"isAdelie_bool\": false, \"isAdelie_float\": 0.0}, {\"species\": \"Gentoo\", \"island\": \"Biscoe\", \"bill_length_mm\": 43.2, \"bill_depth_mm\": 14.5, \"flipper_length_mm\": 208.0, \"body_mass_g\": 4450.0, \"sex\": \"Female\", \"isAdelie_bool\": false, \"isAdelie_float\": 0.0}, {\"species\": \"Gentoo\", \"island\": \"Biscoe\", \"bill_length_mm\": 50.4, \"bill_depth_mm\": 15.3, \"flipper_length_mm\": 224.0, \"body_mass_g\": 5550.0, \"sex\": \"Male\", \"isAdelie_bool\": false, \"isAdelie_float\": 0.0}, {\"species\": \"Gentoo\", \"island\": \"Biscoe\", \"bill_length_mm\": 45.3, \"bill_depth_mm\": 13.8, \"flipper_length_mm\": 208.0, \"body_mass_g\": 4200.0, \"sex\": \"Female\", \"isAdelie_bool\": false, \"isAdelie_float\": 0.0}, {\"species\": \"Gentoo\", \"island\": \"Biscoe\", \"bill_length_mm\": 46.2, \"bill_depth_mm\": 14.9, \"flipper_length_mm\": 221.0, \"body_mass_g\": 5300.0, \"sex\": \"Male\", \"isAdelie_bool\": false, \"isAdelie_float\": 0.0}, {\"species\": \"Gentoo\", \"island\": \"Biscoe\", \"bill_length_mm\": 45.7, \"bill_depth_mm\": 13.9, \"flipper_length_mm\": 214.0, \"body_mass_g\": 4400.0, \"sex\": \"Female\", \"isAdelie_bool\": false, \"isAdelie_float\": 0.0}, {\"species\": \"Gentoo\", \"island\": \"Biscoe\", \"bill_length_mm\": 54.3, \"bill_depth_mm\": 15.7, \"flipper_length_mm\": 231.0, \"body_mass_g\": 5650.0, \"sex\": \"Male\", \"isAdelie_bool\": false, \"isAdelie_float\": 0.0}, {\"species\": \"Gentoo\", \"island\": \"Biscoe\", \"bill_length_mm\": 45.8, \"bill_depth_mm\": 14.2, \"flipper_length_mm\": 219.0, \"body_mass_g\": 4700.0, \"sex\": \"Female\", \"isAdelie_bool\": false, \"isAdelie_float\": 0.0}, {\"species\": \"Gentoo\", \"island\": \"Biscoe\", \"bill_length_mm\": 49.8, \"bill_depth_mm\": 16.8, \"flipper_length_mm\": 230.0, \"body_mass_g\": 5700.0, \"sex\": \"Male\", \"isAdelie_bool\": false, \"isAdelie_float\": 0.0}, {\"species\": \"Gentoo\", \"island\": \"Biscoe\", \"bill_length_mm\": 49.5, \"bill_depth_mm\": 16.2, \"flipper_length_mm\": 229.0, \"body_mass_g\": 5800.0, \"sex\": \"Male\", \"isAdelie_bool\": false, \"isAdelie_float\": 0.0}, {\"species\": \"Gentoo\", \"island\": \"Biscoe\", \"bill_length_mm\": 43.5, \"bill_depth_mm\": 14.2, \"flipper_length_mm\": 220.0, \"body_mass_g\": 4700.0, \"sex\": \"Female\", \"isAdelie_bool\": false, \"isAdelie_float\": 0.0}, {\"species\": \"Gentoo\", \"island\": \"Biscoe\", \"bill_length_mm\": 50.7, \"bill_depth_mm\": 15.0, \"flipper_length_mm\": 223.0, \"body_mass_g\": 5550.0, \"sex\": \"Male\", \"isAdelie_bool\": false, \"isAdelie_float\": 0.0}, {\"species\": \"Gentoo\", \"island\": \"Biscoe\", \"bill_length_mm\": 47.7, \"bill_depth_mm\": 15.0, \"flipper_length_mm\": 216.0, \"body_mass_g\": 4750.0, \"sex\": \"Female\", \"isAdelie_bool\": false, \"isAdelie_float\": 0.0}, {\"species\": \"Gentoo\", \"island\": \"Biscoe\", \"bill_length_mm\": 46.4, \"bill_depth_mm\": 15.6, \"flipper_length_mm\": 221.0, \"body_mass_g\": 5000.0, \"sex\": \"Male\", \"isAdelie_bool\": false, \"isAdelie_float\": 0.0}, {\"species\": \"Gentoo\", \"island\": \"Biscoe\", \"bill_length_mm\": 48.2, \"bill_depth_mm\": 15.6, \"flipper_length_mm\": 221.0, \"body_mass_g\": 5100.0, \"sex\": \"Male\", \"isAdelie_bool\": false, \"isAdelie_float\": 0.0}, {\"species\": \"Gentoo\", \"island\": \"Biscoe\", \"bill_length_mm\": 46.5, \"bill_depth_mm\": 14.8, \"flipper_length_mm\": 217.0, \"body_mass_g\": 5200.0, \"sex\": \"Female\", \"isAdelie_bool\": false, \"isAdelie_float\": 0.0}, {\"species\": \"Gentoo\", \"island\": \"Biscoe\", \"bill_length_mm\": 46.4, \"bill_depth_mm\": 15.0, \"flipper_length_mm\": 216.0, \"body_mass_g\": 4700.0, \"sex\": \"Female\", \"isAdelie_bool\": false, \"isAdelie_float\": 0.0}, {\"species\": \"Gentoo\", \"island\": \"Biscoe\", \"bill_length_mm\": 48.6, \"bill_depth_mm\": 16.0, \"flipper_length_mm\": 230.0, \"body_mass_g\": 5800.0, \"sex\": \"Male\", \"isAdelie_bool\": false, \"isAdelie_float\": 0.0}, {\"species\": \"Gentoo\", \"island\": \"Biscoe\", \"bill_length_mm\": 47.5, \"bill_depth_mm\": 14.2, \"flipper_length_mm\": 209.0, \"body_mass_g\": 4600.0, \"sex\": \"Female\", \"isAdelie_bool\": false, \"isAdelie_float\": 0.0}, {\"species\": \"Gentoo\", \"island\": \"Biscoe\", \"bill_length_mm\": 51.1, \"bill_depth_mm\": 16.3, \"flipper_length_mm\": 220.0, \"body_mass_g\": 6000.0, \"sex\": \"Male\", \"isAdelie_bool\": false, \"isAdelie_float\": 0.0}, {\"species\": \"Gentoo\", \"island\": \"Biscoe\", \"bill_length_mm\": 45.2, \"bill_depth_mm\": 13.8, \"flipper_length_mm\": 215.0, \"body_mass_g\": 4750.0, \"sex\": \"Female\", \"isAdelie_bool\": false, \"isAdelie_float\": 0.0}, {\"species\": \"Gentoo\", \"island\": \"Biscoe\", \"bill_length_mm\": 45.2, \"bill_depth_mm\": 16.4, \"flipper_length_mm\": 223.0, \"body_mass_g\": 5950.0, \"sex\": \"Male\", \"isAdelie_bool\": false, \"isAdelie_float\": 0.0}, {\"species\": \"Gentoo\", \"island\": \"Biscoe\", \"bill_length_mm\": 49.1, \"bill_depth_mm\": 14.5, \"flipper_length_mm\": 212.0, \"body_mass_g\": 4625.0, \"sex\": \"Female\", \"isAdelie_bool\": false, \"isAdelie_float\": 0.0}, {\"species\": \"Gentoo\", \"island\": \"Biscoe\", \"bill_length_mm\": 52.5, \"bill_depth_mm\": 15.6, \"flipper_length_mm\": 221.0, \"body_mass_g\": 5450.0, \"sex\": \"Male\", \"isAdelie_bool\": false, \"isAdelie_float\": 0.0}, {\"species\": \"Gentoo\", \"island\": \"Biscoe\", \"bill_length_mm\": 47.4, \"bill_depth_mm\": 14.6, \"flipper_length_mm\": 212.0, \"body_mass_g\": 4725.0, \"sex\": \"Female\", \"isAdelie_bool\": false, \"isAdelie_float\": 0.0}, {\"species\": \"Gentoo\", \"island\": \"Biscoe\", \"bill_length_mm\": 50.0, \"bill_depth_mm\": 15.9, \"flipper_length_mm\": 224.0, \"body_mass_g\": 5350.0, \"sex\": \"Male\", \"isAdelie_bool\": false, \"isAdelie_float\": 0.0}, {\"species\": \"Gentoo\", \"island\": \"Biscoe\", \"bill_length_mm\": 44.9, \"bill_depth_mm\": 13.8, \"flipper_length_mm\": 212.0, \"body_mass_g\": 4750.0, \"sex\": \"Female\", \"isAdelie_bool\": false, \"isAdelie_float\": 0.0}, {\"species\": \"Gentoo\", \"island\": \"Biscoe\", \"bill_length_mm\": 50.8, \"bill_depth_mm\": 17.3, \"flipper_length_mm\": 228.0, \"body_mass_g\": 5600.0, \"sex\": \"Male\", \"isAdelie_bool\": false, \"isAdelie_float\": 0.0}, {\"species\": \"Gentoo\", \"island\": \"Biscoe\", \"bill_length_mm\": 43.4, \"bill_depth_mm\": 14.4, \"flipper_length_mm\": 218.0, \"body_mass_g\": 4600.0, \"sex\": \"Female\", \"isAdelie_bool\": false, \"isAdelie_float\": 0.0}, {\"species\": \"Gentoo\", \"island\": \"Biscoe\", \"bill_length_mm\": 51.3, \"bill_depth_mm\": 14.2, \"flipper_length_mm\": 218.0, \"body_mass_g\": 5300.0, \"sex\": \"Male\", \"isAdelie_bool\": false, \"isAdelie_float\": 0.0}, {\"species\": \"Gentoo\", \"island\": \"Biscoe\", \"bill_length_mm\": 47.5, \"bill_depth_mm\": 14.0, \"flipper_length_mm\": 212.0, \"body_mass_g\": 4875.0, \"sex\": \"Female\", \"isAdelie_bool\": false, \"isAdelie_float\": 0.0}, {\"species\": \"Gentoo\", \"island\": \"Biscoe\", \"bill_length_mm\": 52.1, \"bill_depth_mm\": 17.0, \"flipper_length_mm\": 230.0, \"body_mass_g\": 5550.0, \"sex\": \"Male\", \"isAdelie_bool\": false, \"isAdelie_float\": 0.0}, {\"species\": \"Gentoo\", \"island\": \"Biscoe\", \"bill_length_mm\": 47.5, \"bill_depth_mm\": 15.0, \"flipper_length_mm\": 218.0, \"body_mass_g\": 4950.0, \"sex\": \"Female\", \"isAdelie_bool\": false, \"isAdelie_float\": 0.0}, {\"species\": \"Gentoo\", \"island\": \"Biscoe\", \"bill_length_mm\": 52.2, \"bill_depth_mm\": 17.1, \"flipper_length_mm\": 228.0, \"body_mass_g\": 5400.0, \"sex\": \"Male\", \"isAdelie_bool\": false, \"isAdelie_float\": 0.0}, {\"species\": \"Gentoo\", \"island\": \"Biscoe\", \"bill_length_mm\": 45.5, \"bill_depth_mm\": 14.5, \"flipper_length_mm\": 212.0, \"body_mass_g\": 4750.0, \"sex\": \"Female\", \"isAdelie_bool\": false, \"isAdelie_float\": 0.0}, {\"species\": \"Gentoo\", \"island\": \"Biscoe\", \"bill_length_mm\": 49.5, \"bill_depth_mm\": 16.1, \"flipper_length_mm\": 224.0, \"body_mass_g\": 5650.0, \"sex\": \"Male\", \"isAdelie_bool\": false, \"isAdelie_float\": 0.0}, {\"species\": \"Gentoo\", \"island\": \"Biscoe\", \"bill_length_mm\": 44.5, \"bill_depth_mm\": 14.7, \"flipper_length_mm\": 214.0, \"body_mass_g\": 4850.0, \"sex\": \"Female\", \"isAdelie_bool\": false, \"isAdelie_float\": 0.0}, {\"species\": \"Gentoo\", \"island\": \"Biscoe\", \"bill_length_mm\": 50.8, \"bill_depth_mm\": 15.7, \"flipper_length_mm\": 226.0, \"body_mass_g\": 5200.0, \"sex\": \"Male\", \"isAdelie_bool\": false, \"isAdelie_float\": 0.0}, {\"species\": \"Gentoo\", \"island\": \"Biscoe\", \"bill_length_mm\": 49.4, \"bill_depth_mm\": 15.8, \"flipper_length_mm\": 216.0, \"body_mass_g\": 4925.0, \"sex\": \"Male\", \"isAdelie_bool\": false, \"isAdelie_float\": 0.0}, {\"species\": \"Gentoo\", \"island\": \"Biscoe\", \"bill_length_mm\": 46.9, \"bill_depth_mm\": 14.6, \"flipper_length_mm\": 222.0, \"body_mass_g\": 4875.0, \"sex\": \"Female\", \"isAdelie_bool\": false, \"isAdelie_float\": 0.0}, {\"species\": \"Gentoo\", \"island\": \"Biscoe\", \"bill_length_mm\": 48.4, \"bill_depth_mm\": 14.4, \"flipper_length_mm\": 203.0, \"body_mass_g\": 4625.0, \"sex\": \"Female\", \"isAdelie_bool\": false, \"isAdelie_float\": 0.0}, {\"species\": \"Gentoo\", \"island\": \"Biscoe\", \"bill_length_mm\": 51.1, \"bill_depth_mm\": 16.5, \"flipper_length_mm\": 225.0, \"body_mass_g\": 5250.0, \"sex\": \"Male\", \"isAdelie_bool\": false, \"isAdelie_float\": 0.0}, {\"species\": \"Gentoo\", \"island\": \"Biscoe\", \"bill_length_mm\": 48.5, \"bill_depth_mm\": 15.0, \"flipper_length_mm\": 219.0, \"body_mass_g\": 4850.0, \"sex\": \"Female\", \"isAdelie_bool\": false, \"isAdelie_float\": 0.0}, {\"species\": \"Gentoo\", \"island\": \"Biscoe\", \"bill_length_mm\": 55.9, \"bill_depth_mm\": 17.0, \"flipper_length_mm\": 228.0, \"body_mass_g\": 5600.0, \"sex\": \"Male\", \"isAdelie_bool\": false, \"isAdelie_float\": 0.0}, {\"species\": \"Gentoo\", \"island\": \"Biscoe\", \"bill_length_mm\": 47.2, \"bill_depth_mm\": 15.5, \"flipper_length_mm\": 215.0, \"body_mass_g\": 4975.0, \"sex\": \"Female\", \"isAdelie_bool\": false, \"isAdelie_float\": 0.0}, {\"species\": \"Gentoo\", \"island\": \"Biscoe\", \"bill_length_mm\": 49.1, \"bill_depth_mm\": 15.0, \"flipper_length_mm\": 228.0, \"body_mass_g\": 5500.0, \"sex\": \"Male\", \"isAdelie_bool\": false, \"isAdelie_float\": 0.0}, {\"species\": \"Gentoo\", \"island\": \"Biscoe\", \"bill_length_mm\": 46.8, \"bill_depth_mm\": 16.1, \"flipper_length_mm\": 215.0, \"body_mass_g\": 5500.0, \"sex\": \"Male\", \"isAdelie_bool\": false, \"isAdelie_float\": 0.0}, {\"species\": \"Gentoo\", \"island\": \"Biscoe\", \"bill_length_mm\": 41.7, \"bill_depth_mm\": 14.7, \"flipper_length_mm\": 210.0, \"body_mass_g\": 4700.0, \"sex\": \"Female\", \"isAdelie_bool\": false, \"isAdelie_float\": 0.0}, {\"species\": \"Gentoo\", \"island\": \"Biscoe\", \"bill_length_mm\": 53.4, \"bill_depth_mm\": 15.8, \"flipper_length_mm\": 219.0, \"body_mass_g\": 5500.0, \"sex\": \"Male\", \"isAdelie_bool\": false, \"isAdelie_float\": 0.0}, {\"species\": \"Gentoo\", \"island\": \"Biscoe\", \"bill_length_mm\": 43.3, \"bill_depth_mm\": 14.0, \"flipper_length_mm\": 208.0, \"body_mass_g\": 4575.0, \"sex\": \"Female\", \"isAdelie_bool\": false, \"isAdelie_float\": 0.0}, {\"species\": \"Gentoo\", \"island\": \"Biscoe\", \"bill_length_mm\": 48.1, \"bill_depth_mm\": 15.1, \"flipper_length_mm\": 209.0, \"body_mass_g\": 5500.0, \"sex\": \"Male\", \"isAdelie_bool\": false, \"isAdelie_float\": 0.0}, {\"species\": \"Gentoo\", \"island\": \"Biscoe\", \"bill_length_mm\": 50.5, \"bill_depth_mm\": 15.2, \"flipper_length_mm\": 216.0, \"body_mass_g\": 5000.0, \"sex\": \"Female\", \"isAdelie_bool\": false, \"isAdelie_float\": 0.0}, {\"species\": \"Gentoo\", \"island\": \"Biscoe\", \"bill_length_mm\": 49.8, \"bill_depth_mm\": 15.9, \"flipper_length_mm\": 229.0, \"body_mass_g\": 5950.0, \"sex\": \"Male\", \"isAdelie_bool\": false, \"isAdelie_float\": 0.0}, {\"species\": \"Gentoo\", \"island\": \"Biscoe\", \"bill_length_mm\": 43.5, \"bill_depth_mm\": 15.2, \"flipper_length_mm\": 213.0, \"body_mass_g\": 4650.0, \"sex\": \"Female\", \"isAdelie_bool\": false, \"isAdelie_float\": 0.0}, {\"species\": \"Gentoo\", \"island\": \"Biscoe\", \"bill_length_mm\": 51.5, \"bill_depth_mm\": 16.3, \"flipper_length_mm\": 230.0, \"body_mass_g\": 5500.0, \"sex\": \"Male\", \"isAdelie_bool\": false, \"isAdelie_float\": 0.0}, {\"species\": \"Gentoo\", \"island\": \"Biscoe\", \"bill_length_mm\": 46.2, \"bill_depth_mm\": 14.1, \"flipper_length_mm\": 217.0, \"body_mass_g\": 4375.0, \"sex\": \"Female\", \"isAdelie_bool\": false, \"isAdelie_float\": 0.0}, {\"species\": \"Gentoo\", \"island\": \"Biscoe\", \"bill_length_mm\": 55.1, \"bill_depth_mm\": 16.0, \"flipper_length_mm\": 230.0, \"body_mass_g\": 5850.0, \"sex\": \"Male\", \"isAdelie_bool\": false, \"isAdelie_float\": 0.0}, {\"species\": \"Gentoo\", \"island\": \"Biscoe\", \"bill_length_mm\": 48.8, \"bill_depth_mm\": 16.2, \"flipper_length_mm\": 222.0, \"body_mass_g\": 6000.0, \"sex\": \"Male\", \"isAdelie_bool\": false, \"isAdelie_float\": 0.0}, {\"species\": \"Gentoo\", \"island\": \"Biscoe\", \"bill_length_mm\": 47.2, \"bill_depth_mm\": 13.7, \"flipper_length_mm\": 214.0, \"body_mass_g\": 4925.0, \"sex\": \"Female\", \"isAdelie_bool\": false, \"isAdelie_float\": 0.0}, {\"species\": \"Gentoo\", \"island\": \"Biscoe\", \"bill_length_mm\": 46.8, \"bill_depth_mm\": 14.3, \"flipper_length_mm\": 215.0, \"body_mass_g\": 4850.0, \"sex\": \"Female\", \"isAdelie_bool\": false, \"isAdelie_float\": 0.0}, {\"species\": \"Gentoo\", \"island\": \"Biscoe\", \"bill_length_mm\": 50.4, \"bill_depth_mm\": 15.7, \"flipper_length_mm\": 222.0, \"body_mass_g\": 5750.0, \"sex\": \"Male\", \"isAdelie_bool\": false, \"isAdelie_float\": 0.0}, {\"species\": \"Gentoo\", \"island\": \"Biscoe\", \"bill_length_mm\": 45.2, \"bill_depth_mm\": 14.8, \"flipper_length_mm\": 212.0, \"body_mass_g\": 5200.0, \"sex\": \"Female\", \"isAdelie_bool\": false, \"isAdelie_float\": 0.0}, {\"species\": \"Gentoo\", \"island\": \"Biscoe\", \"bill_length_mm\": 49.9, \"bill_depth_mm\": 16.1, \"flipper_length_mm\": 213.0, \"body_mass_g\": 5400.0, \"sex\": \"Male\", \"isAdelie_bool\": false, \"isAdelie_float\": 0.0}]}}, {\"mode\": \"vega-lite\"});\n",
       "</script>"
      ],
      "text/plain": [
       "alt.Chart(...)"
      ]
     },
     "execution_count": 9,
     "metadata": {},
     "output_type": "execute_result"
    }
   ],
   "source": [
    "alt.Chart(df).mark_circle().encode(\n",
    "    x=\"bill_length_mm\",\n",
    "    y=\"isAdelie_bool\"\n",
    ")"
   ]
  },
  {
   "cell_type": "code",
   "execution_count": null,
   "metadata": {
    "cell_id": "e7de6e6a2ed547aaa5b403bb2eb43d2d",
    "deepnote_cell_height": 512,
    "deepnote_cell_type": "code",
    "deepnote_output_heights": [
     361
    ],
    "deepnote_to_be_reexecuted": false,
    "execution_millis": 16,
    "execution_start": 1652030235707,
    "source_hash": "90251416",
    "tags": []
   },
   "outputs": [
    {
     "data": {
      "text/html": [
       "\n",
       "<div id=\"altair-viz-cca2f92a9a7d4652a731e336c54c0074\"></div>\n",
       "<script type=\"text/javascript\">\n",
       "  (function(spec, embedOpt){\n",
       "    let outputDiv = document.currentScript.previousElementSibling;\n",
       "    if (outputDiv.id !== \"altair-viz-cca2f92a9a7d4652a731e336c54c0074\") {\n",
       "      outputDiv = document.getElementById(\"altair-viz-cca2f92a9a7d4652a731e336c54c0074\");\n",
       "    }\n",
       "    const paths = {\n",
       "      \"vega\": \"https://cdn.jsdelivr.net/npm//vega@5?noext\",\n",
       "      \"vega-lib\": \"https://cdn.jsdelivr.net/npm//vega-lib?noext\",\n",
       "      \"vega-lite\": \"https://cdn.jsdelivr.net/npm//vega-lite@4.8.1?noext\",\n",
       "      \"vega-embed\": \"https://cdn.jsdelivr.net/npm//vega-embed@6?noext\",\n",
       "    };\n",
       "\n",
       "    function loadScript(lib) {\n",
       "      return new Promise(function(resolve, reject) {\n",
       "        var s = document.createElement('script');\n",
       "        s.src = paths[lib];\n",
       "        s.async = true;\n",
       "        s.onload = () => resolve(paths[lib]);\n",
       "        s.onerror = () => reject(`Error loading script: ${paths[lib]}`);\n",
       "        document.getElementsByTagName(\"head\")[0].appendChild(s);\n",
       "      });\n",
       "    }\n",
       "\n",
       "    function showError(err) {\n",
       "      outputDiv.innerHTML = `<div class=\"error\" style=\"color:red;\">${err}</div>`;\n",
       "      throw err;\n",
       "    }\n",
       "\n",
       "    function displayChart(vegaEmbed) {\n",
       "      vegaEmbed(outputDiv, spec, embedOpt)\n",
       "        .catch(err => showError(`Javascript Error: ${err.message}<br>This usually means there's a typo in your chart specification. See the javascript console for the full traceback.`));\n",
       "    }\n",
       "\n",
       "    if(typeof define === \"function\" && define.amd) {\n",
       "      requirejs.config({paths});\n",
       "      require([\"vega-embed\"], displayChart, err => showError(`Error loading script: ${err.message}`));\n",
       "    } else if (typeof vegaEmbed === \"function\") {\n",
       "      displayChart(vegaEmbed);\n",
       "    } else {\n",
       "      loadScript(\"vega\")\n",
       "        .then(() => loadScript(\"vega-lite\"))\n",
       "        .then(() => loadScript(\"vega-embed\"))\n",
       "        .catch(showError)\n",
       "        .then(() => displayChart(vegaEmbed));\n",
       "    }\n",
       "  })({\"config\": {\"view\": {\"continuousWidth\": 400, \"continuousHeight\": 300}}, \"data\": {\"name\": \"data-81763d2ee876c310be4636cfba0f23ae\"}, \"mark\": \"circle\", \"encoding\": {\"x\": {\"type\": \"quantitative\", \"field\": \"bill_length_mm\"}, \"y\": {\"type\": \"quantitative\", \"field\": \"isAdelie_float\"}}, \"$schema\": \"https://vega.github.io/schema/vega-lite/v4.8.1.json\", \"datasets\": {\"data-81763d2ee876c310be4636cfba0f23ae\": [{\"species\": \"Adelie\", \"island\": \"Torgersen\", \"bill_length_mm\": 39.1, \"bill_depth_mm\": 18.7, \"flipper_length_mm\": 181.0, \"body_mass_g\": 3750.0, \"sex\": \"Male\", \"isAdelie_bool\": true, \"isAdelie_float\": 1.0}, {\"species\": \"Adelie\", \"island\": \"Torgersen\", \"bill_length_mm\": 39.5, \"bill_depth_mm\": 17.4, \"flipper_length_mm\": 186.0, \"body_mass_g\": 3800.0, \"sex\": \"Female\", \"isAdelie_bool\": true, \"isAdelie_float\": 1.0}, {\"species\": \"Adelie\", \"island\": \"Torgersen\", \"bill_length_mm\": 40.3, \"bill_depth_mm\": 18.0, \"flipper_length_mm\": 195.0, \"body_mass_g\": 3250.0, \"sex\": \"Female\", \"isAdelie_bool\": true, \"isAdelie_float\": 1.0}, {\"species\": \"Adelie\", \"island\": \"Torgersen\", \"bill_length_mm\": 36.7, \"bill_depth_mm\": 19.3, \"flipper_length_mm\": 193.0, \"body_mass_g\": 3450.0, \"sex\": \"Female\", \"isAdelie_bool\": true, \"isAdelie_float\": 1.0}, {\"species\": \"Adelie\", \"island\": \"Torgersen\", \"bill_length_mm\": 39.3, \"bill_depth_mm\": 20.6, \"flipper_length_mm\": 190.0, \"body_mass_g\": 3650.0, \"sex\": \"Male\", \"isAdelie_bool\": true, \"isAdelie_float\": 1.0}, {\"species\": \"Adelie\", \"island\": \"Torgersen\", \"bill_length_mm\": 38.9, \"bill_depth_mm\": 17.8, \"flipper_length_mm\": 181.0, \"body_mass_g\": 3625.0, \"sex\": \"Female\", \"isAdelie_bool\": true, \"isAdelie_float\": 1.0}, {\"species\": \"Adelie\", \"island\": \"Torgersen\", \"bill_length_mm\": 39.2, \"bill_depth_mm\": 19.6, \"flipper_length_mm\": 195.0, \"body_mass_g\": 4675.0, \"sex\": \"Male\", \"isAdelie_bool\": true, \"isAdelie_float\": 1.0}, {\"species\": \"Adelie\", \"island\": \"Torgersen\", \"bill_length_mm\": 41.1, \"bill_depth_mm\": 17.6, \"flipper_length_mm\": 182.0, \"body_mass_g\": 3200.0, \"sex\": \"Female\", \"isAdelie_bool\": true, \"isAdelie_float\": 1.0}, {\"species\": \"Adelie\", \"island\": \"Torgersen\", \"bill_length_mm\": 38.6, \"bill_depth_mm\": 21.2, \"flipper_length_mm\": 191.0, \"body_mass_g\": 3800.0, \"sex\": \"Male\", \"isAdelie_bool\": true, \"isAdelie_float\": 1.0}, {\"species\": \"Adelie\", \"island\": \"Torgersen\", \"bill_length_mm\": 34.6, \"bill_depth_mm\": 21.1, \"flipper_length_mm\": 198.0, \"body_mass_g\": 4400.0, \"sex\": \"Male\", \"isAdelie_bool\": true, \"isAdelie_float\": 1.0}, {\"species\": \"Adelie\", \"island\": \"Torgersen\", \"bill_length_mm\": 36.6, \"bill_depth_mm\": 17.8, \"flipper_length_mm\": 185.0, \"body_mass_g\": 3700.0, \"sex\": \"Female\", \"isAdelie_bool\": true, \"isAdelie_float\": 1.0}, {\"species\": \"Adelie\", \"island\": \"Torgersen\", \"bill_length_mm\": 38.7, \"bill_depth_mm\": 19.0, \"flipper_length_mm\": 195.0, \"body_mass_g\": 3450.0, \"sex\": \"Female\", \"isAdelie_bool\": true, \"isAdelie_float\": 1.0}, {\"species\": \"Adelie\", \"island\": \"Torgersen\", \"bill_length_mm\": 42.5, \"bill_depth_mm\": 20.7, \"flipper_length_mm\": 197.0, \"body_mass_g\": 4500.0, \"sex\": \"Male\", \"isAdelie_bool\": true, \"isAdelie_float\": 1.0}, {\"species\": \"Adelie\", \"island\": \"Torgersen\", \"bill_length_mm\": 34.4, \"bill_depth_mm\": 18.4, \"flipper_length_mm\": 184.0, \"body_mass_g\": 3325.0, \"sex\": \"Female\", \"isAdelie_bool\": true, \"isAdelie_float\": 1.0}, {\"species\": \"Adelie\", \"island\": \"Torgersen\", \"bill_length_mm\": 46.0, \"bill_depth_mm\": 21.5, \"flipper_length_mm\": 194.0, \"body_mass_g\": 4200.0, \"sex\": \"Male\", \"isAdelie_bool\": true, \"isAdelie_float\": 1.0}, {\"species\": \"Adelie\", \"island\": \"Biscoe\", \"bill_length_mm\": 37.8, \"bill_depth_mm\": 18.3, \"flipper_length_mm\": 174.0, \"body_mass_g\": 3400.0, \"sex\": \"Female\", \"isAdelie_bool\": true, \"isAdelie_float\": 1.0}, {\"species\": \"Adelie\", \"island\": \"Biscoe\", \"bill_length_mm\": 37.7, \"bill_depth_mm\": 18.7, \"flipper_length_mm\": 180.0, \"body_mass_g\": 3600.0, \"sex\": \"Male\", \"isAdelie_bool\": true, \"isAdelie_float\": 1.0}, {\"species\": \"Adelie\", \"island\": \"Biscoe\", \"bill_length_mm\": 35.9, \"bill_depth_mm\": 19.2, \"flipper_length_mm\": 189.0, \"body_mass_g\": 3800.0, \"sex\": \"Female\", \"isAdelie_bool\": true, \"isAdelie_float\": 1.0}, {\"species\": \"Adelie\", \"island\": \"Biscoe\", \"bill_length_mm\": 38.2, \"bill_depth_mm\": 18.1, \"flipper_length_mm\": 185.0, \"body_mass_g\": 3950.0, \"sex\": \"Male\", \"isAdelie_bool\": true, \"isAdelie_float\": 1.0}, {\"species\": \"Adelie\", \"island\": \"Biscoe\", \"bill_length_mm\": 38.8, \"bill_depth_mm\": 17.2, \"flipper_length_mm\": 180.0, \"body_mass_g\": 3800.0, \"sex\": \"Male\", \"isAdelie_bool\": true, \"isAdelie_float\": 1.0}, {\"species\": \"Adelie\", \"island\": \"Biscoe\", \"bill_length_mm\": 35.3, \"bill_depth_mm\": 18.9, \"flipper_length_mm\": 187.0, \"body_mass_g\": 3800.0, \"sex\": \"Female\", \"isAdelie_bool\": true, \"isAdelie_float\": 1.0}, {\"species\": \"Adelie\", \"island\": \"Biscoe\", \"bill_length_mm\": 40.6, \"bill_depth_mm\": 18.6, \"flipper_length_mm\": 183.0, \"body_mass_g\": 3550.0, \"sex\": \"Male\", \"isAdelie_bool\": true, \"isAdelie_float\": 1.0}, {\"species\": \"Adelie\", \"island\": \"Biscoe\", \"bill_length_mm\": 40.5, \"bill_depth_mm\": 17.9, \"flipper_length_mm\": 187.0, \"body_mass_g\": 3200.0, \"sex\": \"Female\", \"isAdelie_bool\": true, \"isAdelie_float\": 1.0}, {\"species\": \"Adelie\", \"island\": \"Biscoe\", \"bill_length_mm\": 37.9, \"bill_depth_mm\": 18.6, \"flipper_length_mm\": 172.0, \"body_mass_g\": 3150.0, \"sex\": \"Female\", \"isAdelie_bool\": true, \"isAdelie_float\": 1.0}, {\"species\": \"Adelie\", \"island\": \"Biscoe\", \"bill_length_mm\": 40.5, \"bill_depth_mm\": 18.9, \"flipper_length_mm\": 180.0, \"body_mass_g\": 3950.0, \"sex\": \"Male\", \"isAdelie_bool\": true, \"isAdelie_float\": 1.0}, {\"species\": \"Adelie\", \"island\": \"Dream\", \"bill_length_mm\": 39.5, \"bill_depth_mm\": 16.7, \"flipper_length_mm\": 178.0, \"body_mass_g\": 3250.0, \"sex\": \"Female\", \"isAdelie_bool\": true, \"isAdelie_float\": 1.0}, {\"species\": \"Adelie\", \"island\": \"Dream\", \"bill_length_mm\": 37.2, \"bill_depth_mm\": 18.1, \"flipper_length_mm\": 178.0, \"body_mass_g\": 3900.0, \"sex\": \"Male\", \"isAdelie_bool\": true, \"isAdelie_float\": 1.0}, {\"species\": \"Adelie\", \"island\": \"Dream\", \"bill_length_mm\": 39.5, \"bill_depth_mm\": 17.8, \"flipper_length_mm\": 188.0, \"body_mass_g\": 3300.0, \"sex\": \"Female\", \"isAdelie_bool\": true, \"isAdelie_float\": 1.0}, {\"species\": \"Adelie\", \"island\": \"Dream\", \"bill_length_mm\": 40.9, \"bill_depth_mm\": 18.9, \"flipper_length_mm\": 184.0, \"body_mass_g\": 3900.0, \"sex\": \"Male\", \"isAdelie_bool\": true, \"isAdelie_float\": 1.0}, {\"species\": \"Adelie\", \"island\": \"Dream\", \"bill_length_mm\": 36.4, \"bill_depth_mm\": 17.0, \"flipper_length_mm\": 195.0, \"body_mass_g\": 3325.0, \"sex\": \"Female\", \"isAdelie_bool\": true, \"isAdelie_float\": 1.0}, {\"species\": \"Adelie\", \"island\": \"Dream\", \"bill_length_mm\": 39.2, \"bill_depth_mm\": 21.1, \"flipper_length_mm\": 196.0, \"body_mass_g\": 4150.0, \"sex\": \"Male\", \"isAdelie_bool\": true, \"isAdelie_float\": 1.0}, {\"species\": \"Adelie\", \"island\": \"Dream\", \"bill_length_mm\": 38.8, \"bill_depth_mm\": 20.0, \"flipper_length_mm\": 190.0, \"body_mass_g\": 3950.0, \"sex\": \"Male\", \"isAdelie_bool\": true, \"isAdelie_float\": 1.0}, {\"species\": \"Adelie\", \"island\": \"Dream\", \"bill_length_mm\": 42.2, \"bill_depth_mm\": 18.5, \"flipper_length_mm\": 180.0, \"body_mass_g\": 3550.0, \"sex\": \"Female\", \"isAdelie_bool\": true, \"isAdelie_float\": 1.0}, {\"species\": \"Adelie\", \"island\": \"Dream\", \"bill_length_mm\": 37.6, \"bill_depth_mm\": 19.3, \"flipper_length_mm\": 181.0, \"body_mass_g\": 3300.0, \"sex\": \"Female\", \"isAdelie_bool\": true, \"isAdelie_float\": 1.0}, {\"species\": \"Adelie\", \"island\": \"Dream\", \"bill_length_mm\": 39.8, \"bill_depth_mm\": 19.1, \"flipper_length_mm\": 184.0, \"body_mass_g\": 4650.0, \"sex\": \"Male\", \"isAdelie_bool\": true, \"isAdelie_float\": 1.0}, {\"species\": \"Adelie\", \"island\": \"Dream\", \"bill_length_mm\": 36.5, \"bill_depth_mm\": 18.0, \"flipper_length_mm\": 182.0, \"body_mass_g\": 3150.0, \"sex\": \"Female\", \"isAdelie_bool\": true, \"isAdelie_float\": 1.0}, {\"species\": \"Adelie\", \"island\": \"Dream\", \"bill_length_mm\": 40.8, \"bill_depth_mm\": 18.4, \"flipper_length_mm\": 195.0, \"body_mass_g\": 3900.0, \"sex\": \"Male\", \"isAdelie_bool\": true, \"isAdelie_float\": 1.0}, {\"species\": \"Adelie\", \"island\": \"Dream\", \"bill_length_mm\": 36.0, \"bill_depth_mm\": 18.5, \"flipper_length_mm\": 186.0, \"body_mass_g\": 3100.0, \"sex\": \"Female\", \"isAdelie_bool\": true, \"isAdelie_float\": 1.0}, {\"species\": \"Adelie\", \"island\": \"Dream\", \"bill_length_mm\": 44.1, \"bill_depth_mm\": 19.7, \"flipper_length_mm\": 196.0, \"body_mass_g\": 4400.0, \"sex\": \"Male\", \"isAdelie_bool\": true, \"isAdelie_float\": 1.0}, {\"species\": \"Adelie\", \"island\": \"Dream\", \"bill_length_mm\": 37.0, \"bill_depth_mm\": 16.9, \"flipper_length_mm\": 185.0, \"body_mass_g\": 3000.0, \"sex\": \"Female\", \"isAdelie_bool\": true, \"isAdelie_float\": 1.0}, {\"species\": \"Adelie\", \"island\": \"Dream\", \"bill_length_mm\": 39.6, \"bill_depth_mm\": 18.8, \"flipper_length_mm\": 190.0, \"body_mass_g\": 4600.0, \"sex\": \"Male\", \"isAdelie_bool\": true, \"isAdelie_float\": 1.0}, {\"species\": \"Adelie\", \"island\": \"Dream\", \"bill_length_mm\": 41.1, \"bill_depth_mm\": 19.0, \"flipper_length_mm\": 182.0, \"body_mass_g\": 3425.0, \"sex\": \"Male\", \"isAdelie_bool\": true, \"isAdelie_float\": 1.0}, {\"species\": \"Adelie\", \"island\": \"Dream\", \"bill_length_mm\": 36.0, \"bill_depth_mm\": 17.9, \"flipper_length_mm\": 190.0, \"body_mass_g\": 3450.0, \"sex\": \"Female\", \"isAdelie_bool\": true, \"isAdelie_float\": 1.0}, {\"species\": \"Adelie\", \"island\": \"Dream\", \"bill_length_mm\": 42.3, \"bill_depth_mm\": 21.2, \"flipper_length_mm\": 191.0, \"body_mass_g\": 4150.0, \"sex\": \"Male\", \"isAdelie_bool\": true, \"isAdelie_float\": 1.0}, {\"species\": \"Adelie\", \"island\": \"Biscoe\", \"bill_length_mm\": 39.6, \"bill_depth_mm\": 17.7, \"flipper_length_mm\": 186.0, \"body_mass_g\": 3500.0, \"sex\": \"Female\", \"isAdelie_bool\": true, \"isAdelie_float\": 1.0}, {\"species\": \"Adelie\", \"island\": \"Biscoe\", \"bill_length_mm\": 40.1, \"bill_depth_mm\": 18.9, \"flipper_length_mm\": 188.0, \"body_mass_g\": 4300.0, \"sex\": \"Male\", \"isAdelie_bool\": true, \"isAdelie_float\": 1.0}, {\"species\": \"Adelie\", \"island\": \"Biscoe\", \"bill_length_mm\": 35.0, \"bill_depth_mm\": 17.9, \"flipper_length_mm\": 190.0, \"body_mass_g\": 3450.0, \"sex\": \"Female\", \"isAdelie_bool\": true, \"isAdelie_float\": 1.0}, {\"species\": \"Adelie\", \"island\": \"Biscoe\", \"bill_length_mm\": 42.0, \"bill_depth_mm\": 19.5, \"flipper_length_mm\": 200.0, \"body_mass_g\": 4050.0, \"sex\": \"Male\", \"isAdelie_bool\": true, \"isAdelie_float\": 1.0}, {\"species\": \"Adelie\", \"island\": \"Biscoe\", \"bill_length_mm\": 34.5, \"bill_depth_mm\": 18.1, \"flipper_length_mm\": 187.0, \"body_mass_g\": 2900.0, \"sex\": \"Female\", \"isAdelie_bool\": true, \"isAdelie_float\": 1.0}, {\"species\": \"Adelie\", \"island\": \"Biscoe\", \"bill_length_mm\": 41.4, \"bill_depth_mm\": 18.6, \"flipper_length_mm\": 191.0, \"body_mass_g\": 3700.0, \"sex\": \"Male\", \"isAdelie_bool\": true, \"isAdelie_float\": 1.0}, {\"species\": \"Adelie\", \"island\": \"Biscoe\", \"bill_length_mm\": 39.0, \"bill_depth_mm\": 17.5, \"flipper_length_mm\": 186.0, \"body_mass_g\": 3550.0, \"sex\": \"Female\", \"isAdelie_bool\": true, \"isAdelie_float\": 1.0}, {\"species\": \"Adelie\", \"island\": \"Biscoe\", \"bill_length_mm\": 40.6, \"bill_depth_mm\": 18.8, \"flipper_length_mm\": 193.0, \"body_mass_g\": 3800.0, \"sex\": \"Male\", \"isAdelie_bool\": true, \"isAdelie_float\": 1.0}, {\"species\": \"Adelie\", \"island\": \"Biscoe\", \"bill_length_mm\": 36.5, \"bill_depth_mm\": 16.6, \"flipper_length_mm\": 181.0, \"body_mass_g\": 2850.0, \"sex\": \"Female\", \"isAdelie_bool\": true, \"isAdelie_float\": 1.0}, {\"species\": \"Adelie\", \"island\": \"Biscoe\", \"bill_length_mm\": 37.6, \"bill_depth_mm\": 19.1, \"flipper_length_mm\": 194.0, \"body_mass_g\": 3750.0, \"sex\": \"Male\", \"isAdelie_bool\": true, \"isAdelie_float\": 1.0}, {\"species\": \"Adelie\", \"island\": \"Biscoe\", \"bill_length_mm\": 35.7, \"bill_depth_mm\": 16.9, \"flipper_length_mm\": 185.0, \"body_mass_g\": 3150.0, \"sex\": \"Female\", \"isAdelie_bool\": true, \"isAdelie_float\": 1.0}, {\"species\": \"Adelie\", \"island\": \"Biscoe\", \"bill_length_mm\": 41.3, \"bill_depth_mm\": 21.1, \"flipper_length_mm\": 195.0, \"body_mass_g\": 4400.0, \"sex\": \"Male\", \"isAdelie_bool\": true, \"isAdelie_float\": 1.0}, {\"species\": \"Adelie\", \"island\": \"Biscoe\", \"bill_length_mm\": 37.6, \"bill_depth_mm\": 17.0, \"flipper_length_mm\": 185.0, \"body_mass_g\": 3600.0, \"sex\": \"Female\", \"isAdelie_bool\": true, \"isAdelie_float\": 1.0}, {\"species\": \"Adelie\", \"island\": \"Biscoe\", \"bill_length_mm\": 41.1, \"bill_depth_mm\": 18.2, \"flipper_length_mm\": 192.0, \"body_mass_g\": 4050.0, \"sex\": \"Male\", \"isAdelie_bool\": true, \"isAdelie_float\": 1.0}, {\"species\": \"Adelie\", \"island\": \"Biscoe\", \"bill_length_mm\": 36.4, \"bill_depth_mm\": 17.1, \"flipper_length_mm\": 184.0, \"body_mass_g\": 2850.0, \"sex\": \"Female\", \"isAdelie_bool\": true, \"isAdelie_float\": 1.0}, {\"species\": \"Adelie\", \"island\": \"Biscoe\", \"bill_length_mm\": 41.6, \"bill_depth_mm\": 18.0, \"flipper_length_mm\": 192.0, \"body_mass_g\": 3950.0, \"sex\": \"Male\", \"isAdelie_bool\": true, \"isAdelie_float\": 1.0}, {\"species\": \"Adelie\", \"island\": \"Biscoe\", \"bill_length_mm\": 35.5, \"bill_depth_mm\": 16.2, \"flipper_length_mm\": 195.0, \"body_mass_g\": 3350.0, \"sex\": \"Female\", \"isAdelie_bool\": true, \"isAdelie_float\": 1.0}, {\"species\": \"Adelie\", \"island\": \"Biscoe\", \"bill_length_mm\": 41.1, \"bill_depth_mm\": 19.1, \"flipper_length_mm\": 188.0, \"body_mass_g\": 4100.0, \"sex\": \"Male\", \"isAdelie_bool\": true, \"isAdelie_float\": 1.0}, {\"species\": \"Adelie\", \"island\": \"Torgersen\", \"bill_length_mm\": 35.9, \"bill_depth_mm\": 16.6, \"flipper_length_mm\": 190.0, \"body_mass_g\": 3050.0, \"sex\": \"Female\", \"isAdelie_bool\": true, \"isAdelie_float\": 1.0}, {\"species\": \"Adelie\", \"island\": \"Torgersen\", \"bill_length_mm\": 41.8, \"bill_depth_mm\": 19.4, \"flipper_length_mm\": 198.0, \"body_mass_g\": 4450.0, \"sex\": \"Male\", \"isAdelie_bool\": true, \"isAdelie_float\": 1.0}, {\"species\": \"Adelie\", \"island\": \"Torgersen\", \"bill_length_mm\": 33.5, \"bill_depth_mm\": 19.0, \"flipper_length_mm\": 190.0, \"body_mass_g\": 3600.0, \"sex\": \"Female\", \"isAdelie_bool\": true, \"isAdelie_float\": 1.0}, {\"species\": \"Adelie\", \"island\": \"Torgersen\", \"bill_length_mm\": 39.7, \"bill_depth_mm\": 18.4, \"flipper_length_mm\": 190.0, \"body_mass_g\": 3900.0, \"sex\": \"Male\", \"isAdelie_bool\": true, \"isAdelie_float\": 1.0}, {\"species\": \"Adelie\", \"island\": \"Torgersen\", \"bill_length_mm\": 39.6, \"bill_depth_mm\": 17.2, \"flipper_length_mm\": 196.0, \"body_mass_g\": 3550.0, \"sex\": \"Female\", \"isAdelie_bool\": true, \"isAdelie_float\": 1.0}, {\"species\": \"Adelie\", \"island\": \"Torgersen\", \"bill_length_mm\": 45.8, \"bill_depth_mm\": 18.9, \"flipper_length_mm\": 197.0, \"body_mass_g\": 4150.0, \"sex\": \"Male\", \"isAdelie_bool\": true, \"isAdelie_float\": 1.0}, {\"species\": \"Adelie\", \"island\": \"Torgersen\", \"bill_length_mm\": 35.5, \"bill_depth_mm\": 17.5, \"flipper_length_mm\": 190.0, \"body_mass_g\": 3700.0, \"sex\": \"Female\", \"isAdelie_bool\": true, \"isAdelie_float\": 1.0}, {\"species\": \"Adelie\", \"island\": \"Torgersen\", \"bill_length_mm\": 42.8, \"bill_depth_mm\": 18.5, \"flipper_length_mm\": 195.0, \"body_mass_g\": 4250.0, \"sex\": \"Male\", \"isAdelie_bool\": true, \"isAdelie_float\": 1.0}, {\"species\": \"Adelie\", \"island\": \"Torgersen\", \"bill_length_mm\": 40.9, \"bill_depth_mm\": 16.8, \"flipper_length_mm\": 191.0, \"body_mass_g\": 3700.0, \"sex\": \"Female\", \"isAdelie_bool\": true, \"isAdelie_float\": 1.0}, {\"species\": \"Adelie\", \"island\": \"Torgersen\", \"bill_length_mm\": 37.2, \"bill_depth_mm\": 19.4, \"flipper_length_mm\": 184.0, \"body_mass_g\": 3900.0, \"sex\": \"Male\", \"isAdelie_bool\": true, \"isAdelie_float\": 1.0}, {\"species\": \"Adelie\", \"island\": \"Torgersen\", \"bill_length_mm\": 36.2, \"bill_depth_mm\": 16.1, \"flipper_length_mm\": 187.0, \"body_mass_g\": 3550.0, \"sex\": \"Female\", \"isAdelie_bool\": true, \"isAdelie_float\": 1.0}, {\"species\": \"Adelie\", \"island\": \"Torgersen\", \"bill_length_mm\": 42.1, \"bill_depth_mm\": 19.1, \"flipper_length_mm\": 195.0, \"body_mass_g\": 4000.0, \"sex\": \"Male\", \"isAdelie_bool\": true, \"isAdelie_float\": 1.0}, {\"species\": \"Adelie\", \"island\": \"Torgersen\", \"bill_length_mm\": 34.6, \"bill_depth_mm\": 17.2, \"flipper_length_mm\": 189.0, \"body_mass_g\": 3200.0, \"sex\": \"Female\", \"isAdelie_bool\": true, \"isAdelie_float\": 1.0}, {\"species\": \"Adelie\", \"island\": \"Torgersen\", \"bill_length_mm\": 42.9, \"bill_depth_mm\": 17.6, \"flipper_length_mm\": 196.0, \"body_mass_g\": 4700.0, \"sex\": \"Male\", \"isAdelie_bool\": true, \"isAdelie_float\": 1.0}, {\"species\": \"Adelie\", \"island\": \"Torgersen\", \"bill_length_mm\": 36.7, \"bill_depth_mm\": 18.8, \"flipper_length_mm\": 187.0, \"body_mass_g\": 3800.0, \"sex\": \"Female\", \"isAdelie_bool\": true, \"isAdelie_float\": 1.0}, {\"species\": \"Adelie\", \"island\": \"Torgersen\", \"bill_length_mm\": 35.1, \"bill_depth_mm\": 19.4, \"flipper_length_mm\": 193.0, \"body_mass_g\": 4200.0, \"sex\": \"Male\", \"isAdelie_bool\": true, \"isAdelie_float\": 1.0}, {\"species\": \"Adelie\", \"island\": \"Dream\", \"bill_length_mm\": 37.3, \"bill_depth_mm\": 17.8, \"flipper_length_mm\": 191.0, \"body_mass_g\": 3350.0, \"sex\": \"Female\", \"isAdelie_bool\": true, \"isAdelie_float\": 1.0}, {\"species\": \"Adelie\", \"island\": \"Dream\", \"bill_length_mm\": 41.3, \"bill_depth_mm\": 20.3, \"flipper_length_mm\": 194.0, \"body_mass_g\": 3550.0, \"sex\": \"Male\", \"isAdelie_bool\": true, \"isAdelie_float\": 1.0}, {\"species\": \"Adelie\", \"island\": \"Dream\", \"bill_length_mm\": 36.3, \"bill_depth_mm\": 19.5, \"flipper_length_mm\": 190.0, \"body_mass_g\": 3800.0, \"sex\": \"Male\", \"isAdelie_bool\": true, \"isAdelie_float\": 1.0}, {\"species\": \"Adelie\", \"island\": \"Dream\", \"bill_length_mm\": 36.9, \"bill_depth_mm\": 18.6, \"flipper_length_mm\": 189.0, \"body_mass_g\": 3500.0, \"sex\": \"Female\", \"isAdelie_bool\": true, \"isAdelie_float\": 1.0}, {\"species\": \"Adelie\", \"island\": \"Dream\", \"bill_length_mm\": 38.3, \"bill_depth_mm\": 19.2, \"flipper_length_mm\": 189.0, \"body_mass_g\": 3950.0, \"sex\": \"Male\", \"isAdelie_bool\": true, \"isAdelie_float\": 1.0}, {\"species\": \"Adelie\", \"island\": \"Dream\", \"bill_length_mm\": 38.9, \"bill_depth_mm\": 18.8, \"flipper_length_mm\": 190.0, \"body_mass_g\": 3600.0, \"sex\": \"Female\", \"isAdelie_bool\": true, \"isAdelie_float\": 1.0}, {\"species\": \"Adelie\", \"island\": \"Dream\", \"bill_length_mm\": 35.7, \"bill_depth_mm\": 18.0, \"flipper_length_mm\": 202.0, \"body_mass_g\": 3550.0, \"sex\": \"Female\", \"isAdelie_bool\": true, \"isAdelie_float\": 1.0}, {\"species\": \"Adelie\", \"island\": \"Dream\", \"bill_length_mm\": 41.1, \"bill_depth_mm\": 18.1, \"flipper_length_mm\": 205.0, \"body_mass_g\": 4300.0, \"sex\": \"Male\", \"isAdelie_bool\": true, \"isAdelie_float\": 1.0}, {\"species\": \"Adelie\", \"island\": \"Dream\", \"bill_length_mm\": 34.0, \"bill_depth_mm\": 17.1, \"flipper_length_mm\": 185.0, \"body_mass_g\": 3400.0, \"sex\": \"Female\", \"isAdelie_bool\": true, \"isAdelie_float\": 1.0}, {\"species\": \"Adelie\", \"island\": \"Dream\", \"bill_length_mm\": 39.6, \"bill_depth_mm\": 18.1, \"flipper_length_mm\": 186.0, \"body_mass_g\": 4450.0, \"sex\": \"Male\", \"isAdelie_bool\": true, \"isAdelie_float\": 1.0}, {\"species\": \"Adelie\", \"island\": \"Dream\", \"bill_length_mm\": 36.2, \"bill_depth_mm\": 17.3, \"flipper_length_mm\": 187.0, \"body_mass_g\": 3300.0, \"sex\": \"Female\", \"isAdelie_bool\": true, \"isAdelie_float\": 1.0}, {\"species\": \"Adelie\", \"island\": \"Dream\", \"bill_length_mm\": 40.8, \"bill_depth_mm\": 18.9, \"flipper_length_mm\": 208.0, \"body_mass_g\": 4300.0, \"sex\": \"Male\", \"isAdelie_bool\": true, \"isAdelie_float\": 1.0}, {\"species\": \"Adelie\", \"island\": \"Dream\", \"bill_length_mm\": 38.1, \"bill_depth_mm\": 18.6, \"flipper_length_mm\": 190.0, \"body_mass_g\": 3700.0, \"sex\": \"Female\", \"isAdelie_bool\": true, \"isAdelie_float\": 1.0}, {\"species\": \"Adelie\", \"island\": \"Dream\", \"bill_length_mm\": 40.3, \"bill_depth_mm\": 18.5, \"flipper_length_mm\": 196.0, \"body_mass_g\": 4350.0, \"sex\": \"Male\", \"isAdelie_bool\": true, \"isAdelie_float\": 1.0}, {\"species\": \"Adelie\", \"island\": \"Dream\", \"bill_length_mm\": 33.1, \"bill_depth_mm\": 16.1, \"flipper_length_mm\": 178.0, \"body_mass_g\": 2900.0, \"sex\": \"Female\", \"isAdelie_bool\": true, \"isAdelie_float\": 1.0}, {\"species\": \"Adelie\", \"island\": \"Dream\", \"bill_length_mm\": 43.2, \"bill_depth_mm\": 18.5, \"flipper_length_mm\": 192.0, \"body_mass_g\": 4100.0, \"sex\": \"Male\", \"isAdelie_bool\": true, \"isAdelie_float\": 1.0}, {\"species\": \"Adelie\", \"island\": \"Biscoe\", \"bill_length_mm\": 35.0, \"bill_depth_mm\": 17.9, \"flipper_length_mm\": 192.0, \"body_mass_g\": 3725.0, \"sex\": \"Female\", \"isAdelie_bool\": true, \"isAdelie_float\": 1.0}, {\"species\": \"Adelie\", \"island\": \"Biscoe\", \"bill_length_mm\": 41.0, \"bill_depth_mm\": 20.0, \"flipper_length_mm\": 203.0, \"body_mass_g\": 4725.0, \"sex\": \"Male\", \"isAdelie_bool\": true, \"isAdelie_float\": 1.0}, {\"species\": \"Adelie\", \"island\": \"Biscoe\", \"bill_length_mm\": 37.7, \"bill_depth_mm\": 16.0, \"flipper_length_mm\": 183.0, \"body_mass_g\": 3075.0, \"sex\": \"Female\", \"isAdelie_bool\": true, \"isAdelie_float\": 1.0}, {\"species\": \"Adelie\", \"island\": \"Biscoe\", \"bill_length_mm\": 37.8, \"bill_depth_mm\": 20.0, \"flipper_length_mm\": 190.0, \"body_mass_g\": 4250.0, \"sex\": \"Male\", \"isAdelie_bool\": true, \"isAdelie_float\": 1.0}, {\"species\": \"Adelie\", \"island\": \"Biscoe\", \"bill_length_mm\": 37.9, \"bill_depth_mm\": 18.6, \"flipper_length_mm\": 193.0, \"body_mass_g\": 2925.0, \"sex\": \"Female\", \"isAdelie_bool\": true, \"isAdelie_float\": 1.0}, {\"species\": \"Adelie\", \"island\": \"Biscoe\", \"bill_length_mm\": 39.7, \"bill_depth_mm\": 18.9, \"flipper_length_mm\": 184.0, \"body_mass_g\": 3550.0, \"sex\": \"Male\", \"isAdelie_bool\": true, \"isAdelie_float\": 1.0}, {\"species\": \"Adelie\", \"island\": \"Biscoe\", \"bill_length_mm\": 38.6, \"bill_depth_mm\": 17.2, \"flipper_length_mm\": 199.0, \"body_mass_g\": 3750.0, \"sex\": \"Female\", \"isAdelie_bool\": true, \"isAdelie_float\": 1.0}, {\"species\": \"Adelie\", \"island\": \"Biscoe\", \"bill_length_mm\": 38.2, \"bill_depth_mm\": 20.0, \"flipper_length_mm\": 190.0, \"body_mass_g\": 3900.0, \"sex\": \"Male\", \"isAdelie_bool\": true, \"isAdelie_float\": 1.0}, {\"species\": \"Adelie\", \"island\": \"Biscoe\", \"bill_length_mm\": 38.1, \"bill_depth_mm\": 17.0, \"flipper_length_mm\": 181.0, \"body_mass_g\": 3175.0, \"sex\": \"Female\", \"isAdelie_bool\": true, \"isAdelie_float\": 1.0}, {\"species\": \"Adelie\", \"island\": \"Biscoe\", \"bill_length_mm\": 43.2, \"bill_depth_mm\": 19.0, \"flipper_length_mm\": 197.0, \"body_mass_g\": 4775.0, \"sex\": \"Male\", \"isAdelie_bool\": true, \"isAdelie_float\": 1.0}, {\"species\": \"Adelie\", \"island\": \"Biscoe\", \"bill_length_mm\": 38.1, \"bill_depth_mm\": 16.5, \"flipper_length_mm\": 198.0, \"body_mass_g\": 3825.0, \"sex\": \"Female\", \"isAdelie_bool\": true, \"isAdelie_float\": 1.0}, {\"species\": \"Adelie\", \"island\": \"Biscoe\", \"bill_length_mm\": 45.6, \"bill_depth_mm\": 20.3, \"flipper_length_mm\": 191.0, \"body_mass_g\": 4600.0, \"sex\": \"Male\", \"isAdelie_bool\": true, \"isAdelie_float\": 1.0}, {\"species\": \"Adelie\", \"island\": \"Biscoe\", \"bill_length_mm\": 39.7, \"bill_depth_mm\": 17.7, \"flipper_length_mm\": 193.0, \"body_mass_g\": 3200.0, \"sex\": \"Female\", \"isAdelie_bool\": true, \"isAdelie_float\": 1.0}, {\"species\": \"Adelie\", \"island\": \"Biscoe\", \"bill_length_mm\": 42.2, \"bill_depth_mm\": 19.5, \"flipper_length_mm\": 197.0, \"body_mass_g\": 4275.0, \"sex\": \"Male\", \"isAdelie_bool\": true, \"isAdelie_float\": 1.0}, {\"species\": \"Adelie\", \"island\": \"Biscoe\", \"bill_length_mm\": 39.6, \"bill_depth_mm\": 20.7, \"flipper_length_mm\": 191.0, \"body_mass_g\": 3900.0, \"sex\": \"Female\", \"isAdelie_bool\": true, \"isAdelie_float\": 1.0}, {\"species\": \"Adelie\", \"island\": \"Biscoe\", \"bill_length_mm\": 42.7, \"bill_depth_mm\": 18.3, \"flipper_length_mm\": 196.0, \"body_mass_g\": 4075.0, \"sex\": \"Male\", \"isAdelie_bool\": true, \"isAdelie_float\": 1.0}, {\"species\": \"Adelie\", \"island\": \"Torgersen\", \"bill_length_mm\": 38.6, \"bill_depth_mm\": 17.0, \"flipper_length_mm\": 188.0, \"body_mass_g\": 2900.0, \"sex\": \"Female\", \"isAdelie_bool\": true, \"isAdelie_float\": 1.0}, {\"species\": \"Adelie\", \"island\": \"Torgersen\", \"bill_length_mm\": 37.3, \"bill_depth_mm\": 20.5, \"flipper_length_mm\": 199.0, \"body_mass_g\": 3775.0, \"sex\": \"Male\", \"isAdelie_bool\": true, \"isAdelie_float\": 1.0}, {\"species\": \"Adelie\", \"island\": \"Torgersen\", \"bill_length_mm\": 35.7, \"bill_depth_mm\": 17.0, \"flipper_length_mm\": 189.0, \"body_mass_g\": 3350.0, \"sex\": \"Female\", \"isAdelie_bool\": true, \"isAdelie_float\": 1.0}, {\"species\": \"Adelie\", \"island\": \"Torgersen\", \"bill_length_mm\": 41.1, \"bill_depth_mm\": 18.6, \"flipper_length_mm\": 189.0, \"body_mass_g\": 3325.0, \"sex\": \"Male\", \"isAdelie_bool\": true, \"isAdelie_float\": 1.0}, {\"species\": \"Adelie\", \"island\": \"Torgersen\", \"bill_length_mm\": 36.2, \"bill_depth_mm\": 17.2, \"flipper_length_mm\": 187.0, \"body_mass_g\": 3150.0, \"sex\": \"Female\", \"isAdelie_bool\": true, \"isAdelie_float\": 1.0}, {\"species\": \"Adelie\", \"island\": \"Torgersen\", \"bill_length_mm\": 37.7, \"bill_depth_mm\": 19.8, \"flipper_length_mm\": 198.0, \"body_mass_g\": 3500.0, \"sex\": \"Male\", \"isAdelie_bool\": true, \"isAdelie_float\": 1.0}, {\"species\": \"Adelie\", \"island\": \"Torgersen\", \"bill_length_mm\": 40.2, \"bill_depth_mm\": 17.0, \"flipper_length_mm\": 176.0, \"body_mass_g\": 3450.0, \"sex\": \"Female\", \"isAdelie_bool\": true, \"isAdelie_float\": 1.0}, {\"species\": \"Adelie\", \"island\": \"Torgersen\", \"bill_length_mm\": 41.4, \"bill_depth_mm\": 18.5, \"flipper_length_mm\": 202.0, \"body_mass_g\": 3875.0, \"sex\": \"Male\", \"isAdelie_bool\": true, \"isAdelie_float\": 1.0}, {\"species\": \"Adelie\", \"island\": \"Torgersen\", \"bill_length_mm\": 35.2, \"bill_depth_mm\": 15.9, \"flipper_length_mm\": 186.0, \"body_mass_g\": 3050.0, \"sex\": \"Female\", \"isAdelie_bool\": true, \"isAdelie_float\": 1.0}, {\"species\": \"Adelie\", \"island\": \"Torgersen\", \"bill_length_mm\": 40.6, \"bill_depth_mm\": 19.0, \"flipper_length_mm\": 199.0, \"body_mass_g\": 4000.0, \"sex\": \"Male\", \"isAdelie_bool\": true, \"isAdelie_float\": 1.0}, {\"species\": \"Adelie\", \"island\": \"Torgersen\", \"bill_length_mm\": 38.8, \"bill_depth_mm\": 17.6, \"flipper_length_mm\": 191.0, \"body_mass_g\": 3275.0, \"sex\": \"Female\", \"isAdelie_bool\": true, \"isAdelie_float\": 1.0}, {\"species\": \"Adelie\", \"island\": \"Torgersen\", \"bill_length_mm\": 41.5, \"bill_depth_mm\": 18.3, \"flipper_length_mm\": 195.0, \"body_mass_g\": 4300.0, \"sex\": \"Male\", \"isAdelie_bool\": true, \"isAdelie_float\": 1.0}, {\"species\": \"Adelie\", \"island\": \"Torgersen\", \"bill_length_mm\": 39.0, \"bill_depth_mm\": 17.1, \"flipper_length_mm\": 191.0, \"body_mass_g\": 3050.0, \"sex\": \"Female\", \"isAdelie_bool\": true, \"isAdelie_float\": 1.0}, {\"species\": \"Adelie\", \"island\": \"Torgersen\", \"bill_length_mm\": 44.1, \"bill_depth_mm\": 18.0, \"flipper_length_mm\": 210.0, \"body_mass_g\": 4000.0, \"sex\": \"Male\", \"isAdelie_bool\": true, \"isAdelie_float\": 1.0}, {\"species\": \"Adelie\", \"island\": \"Torgersen\", \"bill_length_mm\": 38.5, \"bill_depth_mm\": 17.9, \"flipper_length_mm\": 190.0, \"body_mass_g\": 3325.0, \"sex\": \"Female\", \"isAdelie_bool\": true, \"isAdelie_float\": 1.0}, {\"species\": \"Adelie\", \"island\": \"Torgersen\", \"bill_length_mm\": 43.1, \"bill_depth_mm\": 19.2, \"flipper_length_mm\": 197.0, \"body_mass_g\": 3500.0, \"sex\": \"Male\", \"isAdelie_bool\": true, \"isAdelie_float\": 1.0}, {\"species\": \"Adelie\", \"island\": \"Dream\", \"bill_length_mm\": 36.8, \"bill_depth_mm\": 18.5, \"flipper_length_mm\": 193.0, \"body_mass_g\": 3500.0, \"sex\": \"Female\", \"isAdelie_bool\": true, \"isAdelie_float\": 1.0}, {\"species\": \"Adelie\", \"island\": \"Dream\", \"bill_length_mm\": 37.5, \"bill_depth_mm\": 18.5, \"flipper_length_mm\": 199.0, \"body_mass_g\": 4475.0, \"sex\": \"Male\", \"isAdelie_bool\": true, \"isAdelie_float\": 1.0}, {\"species\": \"Adelie\", \"island\": \"Dream\", \"bill_length_mm\": 38.1, \"bill_depth_mm\": 17.6, \"flipper_length_mm\": 187.0, \"body_mass_g\": 3425.0, \"sex\": \"Female\", \"isAdelie_bool\": true, \"isAdelie_float\": 1.0}, {\"species\": \"Adelie\", \"island\": \"Dream\", \"bill_length_mm\": 41.1, \"bill_depth_mm\": 17.5, \"flipper_length_mm\": 190.0, \"body_mass_g\": 3900.0, \"sex\": \"Male\", \"isAdelie_bool\": true, \"isAdelie_float\": 1.0}, {\"species\": \"Adelie\", \"island\": \"Dream\", \"bill_length_mm\": 35.6, \"bill_depth_mm\": 17.5, \"flipper_length_mm\": 191.0, \"body_mass_g\": 3175.0, \"sex\": \"Female\", \"isAdelie_bool\": true, \"isAdelie_float\": 1.0}, {\"species\": \"Adelie\", \"island\": \"Dream\", \"bill_length_mm\": 40.2, \"bill_depth_mm\": 20.1, \"flipper_length_mm\": 200.0, \"body_mass_g\": 3975.0, \"sex\": \"Male\", \"isAdelie_bool\": true, \"isAdelie_float\": 1.0}, {\"species\": \"Adelie\", \"island\": \"Dream\", \"bill_length_mm\": 37.0, \"bill_depth_mm\": 16.5, \"flipper_length_mm\": 185.0, \"body_mass_g\": 3400.0, \"sex\": \"Female\", \"isAdelie_bool\": true, \"isAdelie_float\": 1.0}, {\"species\": \"Adelie\", \"island\": \"Dream\", \"bill_length_mm\": 39.7, \"bill_depth_mm\": 17.9, \"flipper_length_mm\": 193.0, \"body_mass_g\": 4250.0, \"sex\": \"Male\", \"isAdelie_bool\": true, \"isAdelie_float\": 1.0}, {\"species\": \"Adelie\", \"island\": \"Dream\", \"bill_length_mm\": 40.2, \"bill_depth_mm\": 17.1, \"flipper_length_mm\": 193.0, \"body_mass_g\": 3400.0, \"sex\": \"Female\", \"isAdelie_bool\": true, \"isAdelie_float\": 1.0}, {\"species\": \"Adelie\", \"island\": \"Dream\", \"bill_length_mm\": 40.6, \"bill_depth_mm\": 17.2, \"flipper_length_mm\": 187.0, \"body_mass_g\": 3475.0, \"sex\": \"Male\", \"isAdelie_bool\": true, \"isAdelie_float\": 1.0}, {\"species\": \"Adelie\", \"island\": \"Dream\", \"bill_length_mm\": 32.1, \"bill_depth_mm\": 15.5, \"flipper_length_mm\": 188.0, \"body_mass_g\": 3050.0, \"sex\": \"Female\", \"isAdelie_bool\": true, \"isAdelie_float\": 1.0}, {\"species\": \"Adelie\", \"island\": \"Dream\", \"bill_length_mm\": 40.7, \"bill_depth_mm\": 17.0, \"flipper_length_mm\": 190.0, \"body_mass_g\": 3725.0, \"sex\": \"Male\", \"isAdelie_bool\": true, \"isAdelie_float\": 1.0}, {\"species\": \"Adelie\", \"island\": \"Dream\", \"bill_length_mm\": 37.3, \"bill_depth_mm\": 16.8, \"flipper_length_mm\": 192.0, \"body_mass_g\": 3000.0, \"sex\": \"Female\", \"isAdelie_bool\": true, \"isAdelie_float\": 1.0}, {\"species\": \"Adelie\", \"island\": \"Dream\", \"bill_length_mm\": 39.0, \"bill_depth_mm\": 18.7, \"flipper_length_mm\": 185.0, \"body_mass_g\": 3650.0, \"sex\": \"Male\", \"isAdelie_bool\": true, \"isAdelie_float\": 1.0}, {\"species\": \"Adelie\", \"island\": \"Dream\", \"bill_length_mm\": 39.2, \"bill_depth_mm\": 18.6, \"flipper_length_mm\": 190.0, \"body_mass_g\": 4250.0, \"sex\": \"Male\", \"isAdelie_bool\": true, \"isAdelie_float\": 1.0}, {\"species\": \"Adelie\", \"island\": \"Dream\", \"bill_length_mm\": 36.6, \"bill_depth_mm\": 18.4, \"flipper_length_mm\": 184.0, \"body_mass_g\": 3475.0, \"sex\": \"Female\", \"isAdelie_bool\": true, \"isAdelie_float\": 1.0}, {\"species\": \"Adelie\", \"island\": \"Dream\", \"bill_length_mm\": 36.0, \"bill_depth_mm\": 17.8, \"flipper_length_mm\": 195.0, \"body_mass_g\": 3450.0, \"sex\": \"Female\", \"isAdelie_bool\": true, \"isAdelie_float\": 1.0}, {\"species\": \"Adelie\", \"island\": \"Dream\", \"bill_length_mm\": 37.8, \"bill_depth_mm\": 18.1, \"flipper_length_mm\": 193.0, \"body_mass_g\": 3750.0, \"sex\": \"Male\", \"isAdelie_bool\": true, \"isAdelie_float\": 1.0}, {\"species\": \"Adelie\", \"island\": \"Dream\", \"bill_length_mm\": 36.0, \"bill_depth_mm\": 17.1, \"flipper_length_mm\": 187.0, \"body_mass_g\": 3700.0, \"sex\": \"Female\", \"isAdelie_bool\": true, \"isAdelie_float\": 1.0}, {\"species\": \"Adelie\", \"island\": \"Dream\", \"bill_length_mm\": 41.5, \"bill_depth_mm\": 18.5, \"flipper_length_mm\": 201.0, \"body_mass_g\": 4000.0, \"sex\": \"Male\", \"isAdelie_bool\": true, \"isAdelie_float\": 1.0}, {\"species\": \"Chinstrap\", \"island\": \"Dream\", \"bill_length_mm\": 46.5, \"bill_depth_mm\": 17.9, \"flipper_length_mm\": 192.0, \"body_mass_g\": 3500.0, \"sex\": \"Female\", \"isAdelie_bool\": false, \"isAdelie_float\": 0.0}, {\"species\": \"Chinstrap\", \"island\": \"Dream\", \"bill_length_mm\": 50.0, \"bill_depth_mm\": 19.5, \"flipper_length_mm\": 196.0, \"body_mass_g\": 3900.0, \"sex\": \"Male\", \"isAdelie_bool\": false, \"isAdelie_float\": 0.0}, {\"species\": \"Chinstrap\", \"island\": \"Dream\", \"bill_length_mm\": 51.3, \"bill_depth_mm\": 19.2, \"flipper_length_mm\": 193.0, \"body_mass_g\": 3650.0, \"sex\": \"Male\", \"isAdelie_bool\": false, \"isAdelie_float\": 0.0}, {\"species\": \"Chinstrap\", \"island\": \"Dream\", \"bill_length_mm\": 45.4, \"bill_depth_mm\": 18.7, \"flipper_length_mm\": 188.0, \"body_mass_g\": 3525.0, \"sex\": \"Female\", \"isAdelie_bool\": false, \"isAdelie_float\": 0.0}, {\"species\": \"Chinstrap\", \"island\": \"Dream\", \"bill_length_mm\": 52.7, \"bill_depth_mm\": 19.8, \"flipper_length_mm\": 197.0, \"body_mass_g\": 3725.0, \"sex\": \"Male\", \"isAdelie_bool\": false, \"isAdelie_float\": 0.0}, {\"species\": \"Chinstrap\", \"island\": \"Dream\", \"bill_length_mm\": 45.2, \"bill_depth_mm\": 17.8, \"flipper_length_mm\": 198.0, \"body_mass_g\": 3950.0, \"sex\": \"Female\", \"isAdelie_bool\": false, \"isAdelie_float\": 0.0}, {\"species\": \"Chinstrap\", \"island\": \"Dream\", \"bill_length_mm\": 46.1, \"bill_depth_mm\": 18.2, \"flipper_length_mm\": 178.0, \"body_mass_g\": 3250.0, \"sex\": \"Female\", \"isAdelie_bool\": false, \"isAdelie_float\": 0.0}, {\"species\": \"Chinstrap\", \"island\": \"Dream\", \"bill_length_mm\": 51.3, \"bill_depth_mm\": 18.2, \"flipper_length_mm\": 197.0, \"body_mass_g\": 3750.0, \"sex\": \"Male\", \"isAdelie_bool\": false, \"isAdelie_float\": 0.0}, {\"species\": \"Chinstrap\", \"island\": \"Dream\", \"bill_length_mm\": 46.0, \"bill_depth_mm\": 18.9, \"flipper_length_mm\": 195.0, \"body_mass_g\": 4150.0, \"sex\": \"Female\", \"isAdelie_bool\": false, \"isAdelie_float\": 0.0}, {\"species\": \"Chinstrap\", \"island\": \"Dream\", \"bill_length_mm\": 51.3, \"bill_depth_mm\": 19.9, \"flipper_length_mm\": 198.0, \"body_mass_g\": 3700.0, \"sex\": \"Male\", \"isAdelie_bool\": false, \"isAdelie_float\": 0.0}, {\"species\": \"Chinstrap\", \"island\": \"Dream\", \"bill_length_mm\": 46.6, \"bill_depth_mm\": 17.8, \"flipper_length_mm\": 193.0, \"body_mass_g\": 3800.0, \"sex\": \"Female\", \"isAdelie_bool\": false, \"isAdelie_float\": 0.0}, {\"species\": \"Chinstrap\", \"island\": \"Dream\", \"bill_length_mm\": 51.7, \"bill_depth_mm\": 20.3, \"flipper_length_mm\": 194.0, \"body_mass_g\": 3775.0, \"sex\": \"Male\", \"isAdelie_bool\": false, \"isAdelie_float\": 0.0}, {\"species\": \"Chinstrap\", \"island\": \"Dream\", \"bill_length_mm\": 47.0, \"bill_depth_mm\": 17.3, \"flipper_length_mm\": 185.0, \"body_mass_g\": 3700.0, \"sex\": \"Female\", \"isAdelie_bool\": false, \"isAdelie_float\": 0.0}, {\"species\": \"Chinstrap\", \"island\": \"Dream\", \"bill_length_mm\": 52.0, \"bill_depth_mm\": 18.1, \"flipper_length_mm\": 201.0, \"body_mass_g\": 4050.0, \"sex\": \"Male\", \"isAdelie_bool\": false, \"isAdelie_float\": 0.0}, {\"species\": \"Chinstrap\", \"island\": \"Dream\", \"bill_length_mm\": 45.9, \"bill_depth_mm\": 17.1, \"flipper_length_mm\": 190.0, \"body_mass_g\": 3575.0, \"sex\": \"Female\", \"isAdelie_bool\": false, \"isAdelie_float\": 0.0}, {\"species\": \"Chinstrap\", \"island\": \"Dream\", \"bill_length_mm\": 50.5, \"bill_depth_mm\": 19.6, \"flipper_length_mm\": 201.0, \"body_mass_g\": 4050.0, \"sex\": \"Male\", \"isAdelie_bool\": false, \"isAdelie_float\": 0.0}, {\"species\": \"Chinstrap\", \"island\": \"Dream\", \"bill_length_mm\": 50.3, \"bill_depth_mm\": 20.0, \"flipper_length_mm\": 197.0, \"body_mass_g\": 3300.0, \"sex\": \"Male\", \"isAdelie_bool\": false, \"isAdelie_float\": 0.0}, {\"species\": \"Chinstrap\", \"island\": \"Dream\", \"bill_length_mm\": 58.0, \"bill_depth_mm\": 17.8, \"flipper_length_mm\": 181.0, \"body_mass_g\": 3700.0, \"sex\": \"Female\", \"isAdelie_bool\": false, \"isAdelie_float\": 0.0}, {\"species\": \"Chinstrap\", \"island\": \"Dream\", \"bill_length_mm\": 46.4, \"bill_depth_mm\": 18.6, \"flipper_length_mm\": 190.0, \"body_mass_g\": 3450.0, \"sex\": \"Female\", \"isAdelie_bool\": false, \"isAdelie_float\": 0.0}, {\"species\": \"Chinstrap\", \"island\": \"Dream\", \"bill_length_mm\": 49.2, \"bill_depth_mm\": 18.2, \"flipper_length_mm\": 195.0, \"body_mass_g\": 4400.0, \"sex\": \"Male\", \"isAdelie_bool\": false, \"isAdelie_float\": 0.0}, {\"species\": \"Chinstrap\", \"island\": \"Dream\", \"bill_length_mm\": 42.4, \"bill_depth_mm\": 17.3, \"flipper_length_mm\": 181.0, \"body_mass_g\": 3600.0, \"sex\": \"Female\", \"isAdelie_bool\": false, \"isAdelie_float\": 0.0}, {\"species\": \"Chinstrap\", \"island\": \"Dream\", \"bill_length_mm\": 48.5, \"bill_depth_mm\": 17.5, \"flipper_length_mm\": 191.0, \"body_mass_g\": 3400.0, \"sex\": \"Male\", \"isAdelie_bool\": false, \"isAdelie_float\": 0.0}, {\"species\": \"Chinstrap\", \"island\": \"Dream\", \"bill_length_mm\": 43.2, \"bill_depth_mm\": 16.6, \"flipper_length_mm\": 187.0, \"body_mass_g\": 2900.0, \"sex\": \"Female\", \"isAdelie_bool\": false, \"isAdelie_float\": 0.0}, {\"species\": \"Chinstrap\", \"island\": \"Dream\", \"bill_length_mm\": 50.6, \"bill_depth_mm\": 19.4, \"flipper_length_mm\": 193.0, \"body_mass_g\": 3800.0, \"sex\": \"Male\", \"isAdelie_bool\": false, \"isAdelie_float\": 0.0}, {\"species\": \"Chinstrap\", \"island\": \"Dream\", \"bill_length_mm\": 46.7, \"bill_depth_mm\": 17.9, \"flipper_length_mm\": 195.0, \"body_mass_g\": 3300.0, \"sex\": \"Female\", \"isAdelie_bool\": false, \"isAdelie_float\": 0.0}, {\"species\": \"Chinstrap\", \"island\": \"Dream\", \"bill_length_mm\": 52.0, \"bill_depth_mm\": 19.0, \"flipper_length_mm\": 197.0, \"body_mass_g\": 4150.0, \"sex\": \"Male\", \"isAdelie_bool\": false, \"isAdelie_float\": 0.0}, {\"species\": \"Chinstrap\", \"island\": \"Dream\", \"bill_length_mm\": 50.5, \"bill_depth_mm\": 18.4, \"flipper_length_mm\": 200.0, \"body_mass_g\": 3400.0, \"sex\": \"Female\", \"isAdelie_bool\": false, \"isAdelie_float\": 0.0}, {\"species\": \"Chinstrap\", \"island\": \"Dream\", \"bill_length_mm\": 49.5, \"bill_depth_mm\": 19.0, \"flipper_length_mm\": 200.0, \"body_mass_g\": 3800.0, \"sex\": \"Male\", \"isAdelie_bool\": false, \"isAdelie_float\": 0.0}, {\"species\": \"Chinstrap\", \"island\": \"Dream\", \"bill_length_mm\": 46.4, \"bill_depth_mm\": 17.8, \"flipper_length_mm\": 191.0, \"body_mass_g\": 3700.0, \"sex\": \"Female\", \"isAdelie_bool\": false, \"isAdelie_float\": 0.0}, {\"species\": \"Chinstrap\", \"island\": \"Dream\", \"bill_length_mm\": 52.8, \"bill_depth_mm\": 20.0, \"flipper_length_mm\": 205.0, \"body_mass_g\": 4550.0, \"sex\": \"Male\", \"isAdelie_bool\": false, \"isAdelie_float\": 0.0}, {\"species\": \"Chinstrap\", \"island\": \"Dream\", \"bill_length_mm\": 40.9, \"bill_depth_mm\": 16.6, \"flipper_length_mm\": 187.0, \"body_mass_g\": 3200.0, \"sex\": \"Female\", \"isAdelie_bool\": false, \"isAdelie_float\": 0.0}, {\"species\": \"Chinstrap\", \"island\": \"Dream\", \"bill_length_mm\": 54.2, \"bill_depth_mm\": 20.8, \"flipper_length_mm\": 201.0, \"body_mass_g\": 4300.0, \"sex\": \"Male\", \"isAdelie_bool\": false, \"isAdelie_float\": 0.0}, {\"species\": \"Chinstrap\", \"island\": \"Dream\", \"bill_length_mm\": 42.5, \"bill_depth_mm\": 16.7, \"flipper_length_mm\": 187.0, \"body_mass_g\": 3350.0, \"sex\": \"Female\", \"isAdelie_bool\": false, \"isAdelie_float\": 0.0}, {\"species\": \"Chinstrap\", \"island\": \"Dream\", \"bill_length_mm\": 51.0, \"bill_depth_mm\": 18.8, \"flipper_length_mm\": 203.0, \"body_mass_g\": 4100.0, \"sex\": \"Male\", \"isAdelie_bool\": false, \"isAdelie_float\": 0.0}, {\"species\": \"Chinstrap\", \"island\": \"Dream\", \"bill_length_mm\": 49.7, \"bill_depth_mm\": 18.6, \"flipper_length_mm\": 195.0, \"body_mass_g\": 3600.0, \"sex\": \"Male\", \"isAdelie_bool\": false, \"isAdelie_float\": 0.0}, {\"species\": \"Chinstrap\", \"island\": \"Dream\", \"bill_length_mm\": 47.5, \"bill_depth_mm\": 16.8, \"flipper_length_mm\": 199.0, \"body_mass_g\": 3900.0, \"sex\": \"Female\", \"isAdelie_bool\": false, \"isAdelie_float\": 0.0}, {\"species\": \"Chinstrap\", \"island\": \"Dream\", \"bill_length_mm\": 47.6, \"bill_depth_mm\": 18.3, \"flipper_length_mm\": 195.0, \"body_mass_g\": 3850.0, \"sex\": \"Female\", \"isAdelie_bool\": false, \"isAdelie_float\": 0.0}, {\"species\": \"Chinstrap\", \"island\": \"Dream\", \"bill_length_mm\": 52.0, \"bill_depth_mm\": 20.7, \"flipper_length_mm\": 210.0, \"body_mass_g\": 4800.0, \"sex\": \"Male\", \"isAdelie_bool\": false, \"isAdelie_float\": 0.0}, {\"species\": \"Chinstrap\", \"island\": \"Dream\", \"bill_length_mm\": 46.9, \"bill_depth_mm\": 16.6, \"flipper_length_mm\": 192.0, \"body_mass_g\": 2700.0, \"sex\": \"Female\", \"isAdelie_bool\": false, \"isAdelie_float\": 0.0}, {\"species\": \"Chinstrap\", \"island\": \"Dream\", \"bill_length_mm\": 53.5, \"bill_depth_mm\": 19.9, \"flipper_length_mm\": 205.0, \"body_mass_g\": 4500.0, \"sex\": \"Male\", \"isAdelie_bool\": false, \"isAdelie_float\": 0.0}, {\"species\": \"Chinstrap\", \"island\": \"Dream\", \"bill_length_mm\": 49.0, \"bill_depth_mm\": 19.5, \"flipper_length_mm\": 210.0, \"body_mass_g\": 3950.0, \"sex\": \"Male\", \"isAdelie_bool\": false, \"isAdelie_float\": 0.0}, {\"species\": \"Chinstrap\", \"island\": \"Dream\", \"bill_length_mm\": 46.2, \"bill_depth_mm\": 17.5, \"flipper_length_mm\": 187.0, \"body_mass_g\": 3650.0, \"sex\": \"Female\", \"isAdelie_bool\": false, \"isAdelie_float\": 0.0}, {\"species\": \"Chinstrap\", \"island\": \"Dream\", \"bill_length_mm\": 50.9, \"bill_depth_mm\": 19.1, \"flipper_length_mm\": 196.0, \"body_mass_g\": 3550.0, \"sex\": \"Male\", \"isAdelie_bool\": false, \"isAdelie_float\": 0.0}, {\"species\": \"Chinstrap\", \"island\": \"Dream\", \"bill_length_mm\": 45.5, \"bill_depth_mm\": 17.0, \"flipper_length_mm\": 196.0, \"body_mass_g\": 3500.0, \"sex\": \"Female\", \"isAdelie_bool\": false, \"isAdelie_float\": 0.0}, {\"species\": \"Chinstrap\", \"island\": \"Dream\", \"bill_length_mm\": 50.9, \"bill_depth_mm\": 17.9, \"flipper_length_mm\": 196.0, \"body_mass_g\": 3675.0, \"sex\": \"Female\", \"isAdelie_bool\": false, \"isAdelie_float\": 0.0}, {\"species\": \"Chinstrap\", \"island\": \"Dream\", \"bill_length_mm\": 50.8, \"bill_depth_mm\": 18.5, \"flipper_length_mm\": 201.0, \"body_mass_g\": 4450.0, \"sex\": \"Male\", \"isAdelie_bool\": false, \"isAdelie_float\": 0.0}, {\"species\": \"Chinstrap\", \"island\": \"Dream\", \"bill_length_mm\": 50.1, \"bill_depth_mm\": 17.9, \"flipper_length_mm\": 190.0, \"body_mass_g\": 3400.0, \"sex\": \"Female\", \"isAdelie_bool\": false, \"isAdelie_float\": 0.0}, {\"species\": \"Chinstrap\", \"island\": \"Dream\", \"bill_length_mm\": 49.0, \"bill_depth_mm\": 19.6, \"flipper_length_mm\": 212.0, \"body_mass_g\": 4300.0, \"sex\": \"Male\", \"isAdelie_bool\": false, \"isAdelie_float\": 0.0}, {\"species\": \"Chinstrap\", \"island\": \"Dream\", \"bill_length_mm\": 51.5, \"bill_depth_mm\": 18.7, \"flipper_length_mm\": 187.0, \"body_mass_g\": 3250.0, \"sex\": \"Male\", \"isAdelie_bool\": false, \"isAdelie_float\": 0.0}, {\"species\": \"Chinstrap\", \"island\": \"Dream\", \"bill_length_mm\": 49.8, \"bill_depth_mm\": 17.3, \"flipper_length_mm\": 198.0, \"body_mass_g\": 3675.0, \"sex\": \"Female\", \"isAdelie_bool\": false, \"isAdelie_float\": 0.0}, {\"species\": \"Chinstrap\", \"island\": \"Dream\", \"bill_length_mm\": 48.1, \"bill_depth_mm\": 16.4, \"flipper_length_mm\": 199.0, \"body_mass_g\": 3325.0, \"sex\": \"Female\", \"isAdelie_bool\": false, \"isAdelie_float\": 0.0}, {\"species\": \"Chinstrap\", \"island\": \"Dream\", \"bill_length_mm\": 51.4, \"bill_depth_mm\": 19.0, \"flipper_length_mm\": 201.0, \"body_mass_g\": 3950.0, \"sex\": \"Male\", \"isAdelie_bool\": false, \"isAdelie_float\": 0.0}, {\"species\": \"Chinstrap\", \"island\": \"Dream\", \"bill_length_mm\": 45.7, \"bill_depth_mm\": 17.3, \"flipper_length_mm\": 193.0, \"body_mass_g\": 3600.0, \"sex\": \"Female\", \"isAdelie_bool\": false, \"isAdelie_float\": 0.0}, {\"species\": \"Chinstrap\", \"island\": \"Dream\", \"bill_length_mm\": 50.7, \"bill_depth_mm\": 19.7, \"flipper_length_mm\": 203.0, \"body_mass_g\": 4050.0, \"sex\": \"Male\", \"isAdelie_bool\": false, \"isAdelie_float\": 0.0}, {\"species\": \"Chinstrap\", \"island\": \"Dream\", \"bill_length_mm\": 42.5, \"bill_depth_mm\": 17.3, \"flipper_length_mm\": 187.0, \"body_mass_g\": 3350.0, \"sex\": \"Female\", \"isAdelie_bool\": false, \"isAdelie_float\": 0.0}, {\"species\": \"Chinstrap\", \"island\": \"Dream\", \"bill_length_mm\": 52.2, \"bill_depth_mm\": 18.8, \"flipper_length_mm\": 197.0, \"body_mass_g\": 3450.0, \"sex\": \"Male\", \"isAdelie_bool\": false, \"isAdelie_float\": 0.0}, {\"species\": \"Chinstrap\", \"island\": \"Dream\", \"bill_length_mm\": 45.2, \"bill_depth_mm\": 16.6, \"flipper_length_mm\": 191.0, \"body_mass_g\": 3250.0, \"sex\": \"Female\", \"isAdelie_bool\": false, \"isAdelie_float\": 0.0}, {\"species\": \"Chinstrap\", \"island\": \"Dream\", \"bill_length_mm\": 49.3, \"bill_depth_mm\": 19.9, \"flipper_length_mm\": 203.0, \"body_mass_g\": 4050.0, \"sex\": \"Male\", \"isAdelie_bool\": false, \"isAdelie_float\": 0.0}, {\"species\": \"Chinstrap\", \"island\": \"Dream\", \"bill_length_mm\": 50.2, \"bill_depth_mm\": 18.8, \"flipper_length_mm\": 202.0, \"body_mass_g\": 3800.0, \"sex\": \"Male\", \"isAdelie_bool\": false, \"isAdelie_float\": 0.0}, {\"species\": \"Chinstrap\", \"island\": \"Dream\", \"bill_length_mm\": 45.6, \"bill_depth_mm\": 19.4, \"flipper_length_mm\": 194.0, \"body_mass_g\": 3525.0, \"sex\": \"Female\", \"isAdelie_bool\": false, \"isAdelie_float\": 0.0}, {\"species\": \"Chinstrap\", \"island\": \"Dream\", \"bill_length_mm\": 51.9, \"bill_depth_mm\": 19.5, \"flipper_length_mm\": 206.0, \"body_mass_g\": 3950.0, \"sex\": \"Male\", \"isAdelie_bool\": false, \"isAdelie_float\": 0.0}, {\"species\": \"Chinstrap\", \"island\": \"Dream\", \"bill_length_mm\": 46.8, \"bill_depth_mm\": 16.5, \"flipper_length_mm\": 189.0, \"body_mass_g\": 3650.0, \"sex\": \"Female\", \"isAdelie_bool\": false, \"isAdelie_float\": 0.0}, {\"species\": \"Chinstrap\", \"island\": \"Dream\", \"bill_length_mm\": 45.7, \"bill_depth_mm\": 17.0, \"flipper_length_mm\": 195.0, \"body_mass_g\": 3650.0, \"sex\": \"Female\", \"isAdelie_bool\": false, \"isAdelie_float\": 0.0}, {\"species\": \"Chinstrap\", \"island\": \"Dream\", \"bill_length_mm\": 55.8, \"bill_depth_mm\": 19.8, \"flipper_length_mm\": 207.0, \"body_mass_g\": 4000.0, \"sex\": \"Male\", \"isAdelie_bool\": false, \"isAdelie_float\": 0.0}, {\"species\": \"Chinstrap\", \"island\": \"Dream\", \"bill_length_mm\": 43.5, \"bill_depth_mm\": 18.1, \"flipper_length_mm\": 202.0, \"body_mass_g\": 3400.0, \"sex\": \"Female\", \"isAdelie_bool\": false, \"isAdelie_float\": 0.0}, {\"species\": \"Chinstrap\", \"island\": \"Dream\", \"bill_length_mm\": 49.6, \"bill_depth_mm\": 18.2, \"flipper_length_mm\": 193.0, \"body_mass_g\": 3775.0, \"sex\": \"Male\", \"isAdelie_bool\": false, \"isAdelie_float\": 0.0}, {\"species\": \"Chinstrap\", \"island\": \"Dream\", \"bill_length_mm\": 50.8, \"bill_depth_mm\": 19.0, \"flipper_length_mm\": 210.0, \"body_mass_g\": 4100.0, \"sex\": \"Male\", \"isAdelie_bool\": false, \"isAdelie_float\": 0.0}, {\"species\": \"Chinstrap\", \"island\": \"Dream\", \"bill_length_mm\": 50.2, \"bill_depth_mm\": 18.7, \"flipper_length_mm\": 198.0, \"body_mass_g\": 3775.0, \"sex\": \"Female\", \"isAdelie_bool\": false, \"isAdelie_float\": 0.0}, {\"species\": \"Gentoo\", \"island\": \"Biscoe\", \"bill_length_mm\": 46.1, \"bill_depth_mm\": 13.2, \"flipper_length_mm\": 211.0, \"body_mass_g\": 4500.0, \"sex\": \"Female\", \"isAdelie_bool\": false, \"isAdelie_float\": 0.0}, {\"species\": \"Gentoo\", \"island\": \"Biscoe\", \"bill_length_mm\": 50.0, \"bill_depth_mm\": 16.3, \"flipper_length_mm\": 230.0, \"body_mass_g\": 5700.0, \"sex\": \"Male\", \"isAdelie_bool\": false, \"isAdelie_float\": 0.0}, {\"species\": \"Gentoo\", \"island\": \"Biscoe\", \"bill_length_mm\": 48.7, \"bill_depth_mm\": 14.1, \"flipper_length_mm\": 210.0, \"body_mass_g\": 4450.0, \"sex\": \"Female\", \"isAdelie_bool\": false, \"isAdelie_float\": 0.0}, {\"species\": \"Gentoo\", \"island\": \"Biscoe\", \"bill_length_mm\": 50.0, \"bill_depth_mm\": 15.2, \"flipper_length_mm\": 218.0, \"body_mass_g\": 5700.0, \"sex\": \"Male\", \"isAdelie_bool\": false, \"isAdelie_float\": 0.0}, {\"species\": \"Gentoo\", \"island\": \"Biscoe\", \"bill_length_mm\": 47.6, \"bill_depth_mm\": 14.5, \"flipper_length_mm\": 215.0, \"body_mass_g\": 5400.0, \"sex\": \"Male\", \"isAdelie_bool\": false, \"isAdelie_float\": 0.0}, {\"species\": \"Gentoo\", \"island\": \"Biscoe\", \"bill_length_mm\": 46.5, \"bill_depth_mm\": 13.5, \"flipper_length_mm\": 210.0, \"body_mass_g\": 4550.0, \"sex\": \"Female\", \"isAdelie_bool\": false, \"isAdelie_float\": 0.0}, {\"species\": \"Gentoo\", \"island\": \"Biscoe\", \"bill_length_mm\": 45.4, \"bill_depth_mm\": 14.6, \"flipper_length_mm\": 211.0, \"body_mass_g\": 4800.0, \"sex\": \"Female\", \"isAdelie_bool\": false, \"isAdelie_float\": 0.0}, {\"species\": \"Gentoo\", \"island\": \"Biscoe\", \"bill_length_mm\": 46.7, \"bill_depth_mm\": 15.3, \"flipper_length_mm\": 219.0, \"body_mass_g\": 5200.0, \"sex\": \"Male\", \"isAdelie_bool\": false, \"isAdelie_float\": 0.0}, {\"species\": \"Gentoo\", \"island\": \"Biscoe\", \"bill_length_mm\": 43.3, \"bill_depth_mm\": 13.4, \"flipper_length_mm\": 209.0, \"body_mass_g\": 4400.0, \"sex\": \"Female\", \"isAdelie_bool\": false, \"isAdelie_float\": 0.0}, {\"species\": \"Gentoo\", \"island\": \"Biscoe\", \"bill_length_mm\": 46.8, \"bill_depth_mm\": 15.4, \"flipper_length_mm\": 215.0, \"body_mass_g\": 5150.0, \"sex\": \"Male\", \"isAdelie_bool\": false, \"isAdelie_float\": 0.0}, {\"species\": \"Gentoo\", \"island\": \"Biscoe\", \"bill_length_mm\": 40.9, \"bill_depth_mm\": 13.7, \"flipper_length_mm\": 214.0, \"body_mass_g\": 4650.0, \"sex\": \"Female\", \"isAdelie_bool\": false, \"isAdelie_float\": 0.0}, {\"species\": \"Gentoo\", \"island\": \"Biscoe\", \"bill_length_mm\": 49.0, \"bill_depth_mm\": 16.1, \"flipper_length_mm\": 216.0, \"body_mass_g\": 5550.0, \"sex\": \"Male\", \"isAdelie_bool\": false, \"isAdelie_float\": 0.0}, {\"species\": \"Gentoo\", \"island\": \"Biscoe\", \"bill_length_mm\": 45.5, \"bill_depth_mm\": 13.7, \"flipper_length_mm\": 214.0, \"body_mass_g\": 4650.0, \"sex\": \"Female\", \"isAdelie_bool\": false, \"isAdelie_float\": 0.0}, {\"species\": \"Gentoo\", \"island\": \"Biscoe\", \"bill_length_mm\": 48.4, \"bill_depth_mm\": 14.6, \"flipper_length_mm\": 213.0, \"body_mass_g\": 5850.0, \"sex\": \"Male\", \"isAdelie_bool\": false, \"isAdelie_float\": 0.0}, {\"species\": \"Gentoo\", \"island\": \"Biscoe\", \"bill_length_mm\": 45.8, \"bill_depth_mm\": 14.6, \"flipper_length_mm\": 210.0, \"body_mass_g\": 4200.0, \"sex\": \"Female\", \"isAdelie_bool\": false, \"isAdelie_float\": 0.0}, {\"species\": \"Gentoo\", \"island\": \"Biscoe\", \"bill_length_mm\": 49.3, \"bill_depth_mm\": 15.7, \"flipper_length_mm\": 217.0, \"body_mass_g\": 5850.0, \"sex\": \"Male\", \"isAdelie_bool\": false, \"isAdelie_float\": 0.0}, {\"species\": \"Gentoo\", \"island\": \"Biscoe\", \"bill_length_mm\": 42.0, \"bill_depth_mm\": 13.5, \"flipper_length_mm\": 210.0, \"body_mass_g\": 4150.0, \"sex\": \"Female\", \"isAdelie_bool\": false, \"isAdelie_float\": 0.0}, {\"species\": \"Gentoo\", \"island\": \"Biscoe\", \"bill_length_mm\": 49.2, \"bill_depth_mm\": 15.2, \"flipper_length_mm\": 221.0, \"body_mass_g\": 6300.0, \"sex\": \"Male\", \"isAdelie_bool\": false, \"isAdelie_float\": 0.0}, {\"species\": \"Gentoo\", \"island\": \"Biscoe\", \"bill_length_mm\": 46.2, \"bill_depth_mm\": 14.5, \"flipper_length_mm\": 209.0, \"body_mass_g\": 4800.0, \"sex\": \"Female\", \"isAdelie_bool\": false, \"isAdelie_float\": 0.0}, {\"species\": \"Gentoo\", \"island\": \"Biscoe\", \"bill_length_mm\": 48.7, \"bill_depth_mm\": 15.1, \"flipper_length_mm\": 222.0, \"body_mass_g\": 5350.0, \"sex\": \"Male\", \"isAdelie_bool\": false, \"isAdelie_float\": 0.0}, {\"species\": \"Gentoo\", \"island\": \"Biscoe\", \"bill_length_mm\": 50.2, \"bill_depth_mm\": 14.3, \"flipper_length_mm\": 218.0, \"body_mass_g\": 5700.0, \"sex\": \"Male\", \"isAdelie_bool\": false, \"isAdelie_float\": 0.0}, {\"species\": \"Gentoo\", \"island\": \"Biscoe\", \"bill_length_mm\": 45.1, \"bill_depth_mm\": 14.5, \"flipper_length_mm\": 215.0, \"body_mass_g\": 5000.0, \"sex\": \"Female\", \"isAdelie_bool\": false, \"isAdelie_float\": 0.0}, {\"species\": \"Gentoo\", \"island\": \"Biscoe\", \"bill_length_mm\": 46.5, \"bill_depth_mm\": 14.5, \"flipper_length_mm\": 213.0, \"body_mass_g\": 4400.0, \"sex\": \"Female\", \"isAdelie_bool\": false, \"isAdelie_float\": 0.0}, {\"species\": \"Gentoo\", \"island\": \"Biscoe\", \"bill_length_mm\": 46.3, \"bill_depth_mm\": 15.8, \"flipper_length_mm\": 215.0, \"body_mass_g\": 5050.0, \"sex\": \"Male\", \"isAdelie_bool\": false, \"isAdelie_float\": 0.0}, {\"species\": \"Gentoo\", \"island\": \"Biscoe\", \"bill_length_mm\": 42.9, \"bill_depth_mm\": 13.1, \"flipper_length_mm\": 215.0, \"body_mass_g\": 5000.0, \"sex\": \"Female\", \"isAdelie_bool\": false, \"isAdelie_float\": 0.0}, {\"species\": \"Gentoo\", \"island\": \"Biscoe\", \"bill_length_mm\": 46.1, \"bill_depth_mm\": 15.1, \"flipper_length_mm\": 215.0, \"body_mass_g\": 5100.0, \"sex\": \"Male\", \"isAdelie_bool\": false, \"isAdelie_float\": 0.0}, {\"species\": \"Gentoo\", \"island\": \"Biscoe\", \"bill_length_mm\": 47.8, \"bill_depth_mm\": 15.0, \"flipper_length_mm\": 215.0, \"body_mass_g\": 5650.0, \"sex\": \"Male\", \"isAdelie_bool\": false, \"isAdelie_float\": 0.0}, {\"species\": \"Gentoo\", \"island\": \"Biscoe\", \"bill_length_mm\": 48.2, \"bill_depth_mm\": 14.3, \"flipper_length_mm\": 210.0, \"body_mass_g\": 4600.0, \"sex\": \"Female\", \"isAdelie_bool\": false, \"isAdelie_float\": 0.0}, {\"species\": \"Gentoo\", \"island\": \"Biscoe\", \"bill_length_mm\": 50.0, \"bill_depth_mm\": 15.3, \"flipper_length_mm\": 220.0, \"body_mass_g\": 5550.0, \"sex\": \"Male\", \"isAdelie_bool\": false, \"isAdelie_float\": 0.0}, {\"species\": \"Gentoo\", \"island\": \"Biscoe\", \"bill_length_mm\": 47.3, \"bill_depth_mm\": 15.3, \"flipper_length_mm\": 222.0, \"body_mass_g\": 5250.0, \"sex\": \"Male\", \"isAdelie_bool\": false, \"isAdelie_float\": 0.0}, {\"species\": \"Gentoo\", \"island\": \"Biscoe\", \"bill_length_mm\": 42.8, \"bill_depth_mm\": 14.2, \"flipper_length_mm\": 209.0, \"body_mass_g\": 4700.0, \"sex\": \"Female\", \"isAdelie_bool\": false, \"isAdelie_float\": 0.0}, {\"species\": \"Gentoo\", \"island\": \"Biscoe\", \"bill_length_mm\": 45.1, \"bill_depth_mm\": 14.5, \"flipper_length_mm\": 207.0, \"body_mass_g\": 5050.0, \"sex\": \"Female\", \"isAdelie_bool\": false, \"isAdelie_float\": 0.0}, {\"species\": \"Gentoo\", \"island\": \"Biscoe\", \"bill_length_mm\": 59.6, \"bill_depth_mm\": 17.0, \"flipper_length_mm\": 230.0, \"body_mass_g\": 6050.0, \"sex\": \"Male\", \"isAdelie_bool\": false, \"isAdelie_float\": 0.0}, {\"species\": \"Gentoo\", \"island\": \"Biscoe\", \"bill_length_mm\": 49.1, \"bill_depth_mm\": 14.8, \"flipper_length_mm\": 220.0, \"body_mass_g\": 5150.0, \"sex\": \"Female\", \"isAdelie_bool\": false, \"isAdelie_float\": 0.0}, {\"species\": \"Gentoo\", \"island\": \"Biscoe\", \"bill_length_mm\": 48.4, \"bill_depth_mm\": 16.3, \"flipper_length_mm\": 220.0, \"body_mass_g\": 5400.0, \"sex\": \"Male\", \"isAdelie_bool\": false, \"isAdelie_float\": 0.0}, {\"species\": \"Gentoo\", \"island\": \"Biscoe\", \"bill_length_mm\": 42.6, \"bill_depth_mm\": 13.7, \"flipper_length_mm\": 213.0, \"body_mass_g\": 4950.0, \"sex\": \"Female\", \"isAdelie_bool\": false, \"isAdelie_float\": 0.0}, {\"species\": \"Gentoo\", \"island\": \"Biscoe\", \"bill_length_mm\": 44.4, \"bill_depth_mm\": 17.3, \"flipper_length_mm\": 219.0, \"body_mass_g\": 5250.0, \"sex\": \"Male\", \"isAdelie_bool\": false, \"isAdelie_float\": 0.0}, {\"species\": \"Gentoo\", \"island\": \"Biscoe\", \"bill_length_mm\": 44.0, \"bill_depth_mm\": 13.6, \"flipper_length_mm\": 208.0, \"body_mass_g\": 4350.0, \"sex\": \"Female\", \"isAdelie_bool\": false, \"isAdelie_float\": 0.0}, {\"species\": \"Gentoo\", \"island\": \"Biscoe\", \"bill_length_mm\": 48.7, \"bill_depth_mm\": 15.7, \"flipper_length_mm\": 208.0, \"body_mass_g\": 5350.0, \"sex\": \"Male\", \"isAdelie_bool\": false, \"isAdelie_float\": 0.0}, {\"species\": \"Gentoo\", \"island\": \"Biscoe\", \"bill_length_mm\": 42.7, \"bill_depth_mm\": 13.7, \"flipper_length_mm\": 208.0, \"body_mass_g\": 3950.0, \"sex\": \"Female\", \"isAdelie_bool\": false, \"isAdelie_float\": 0.0}, {\"species\": \"Gentoo\", \"island\": \"Biscoe\", \"bill_length_mm\": 49.6, \"bill_depth_mm\": 16.0, \"flipper_length_mm\": 225.0, \"body_mass_g\": 5700.0, \"sex\": \"Male\", \"isAdelie_bool\": false, \"isAdelie_float\": 0.0}, {\"species\": \"Gentoo\", \"island\": \"Biscoe\", \"bill_length_mm\": 45.3, \"bill_depth_mm\": 13.7, \"flipper_length_mm\": 210.0, \"body_mass_g\": 4300.0, \"sex\": \"Female\", \"isAdelie_bool\": false, \"isAdelie_float\": 0.0}, {\"species\": \"Gentoo\", \"island\": \"Biscoe\", \"bill_length_mm\": 49.6, \"bill_depth_mm\": 15.0, \"flipper_length_mm\": 216.0, \"body_mass_g\": 4750.0, \"sex\": \"Male\", \"isAdelie_bool\": false, \"isAdelie_float\": 0.0}, {\"species\": \"Gentoo\", \"island\": \"Biscoe\", \"bill_length_mm\": 50.5, \"bill_depth_mm\": 15.9, \"flipper_length_mm\": 222.0, \"body_mass_g\": 5550.0, \"sex\": \"Male\", \"isAdelie_bool\": false, \"isAdelie_float\": 0.0}, {\"species\": \"Gentoo\", \"island\": \"Biscoe\", \"bill_length_mm\": 43.6, \"bill_depth_mm\": 13.9, \"flipper_length_mm\": 217.0, \"body_mass_g\": 4900.0, \"sex\": \"Female\", \"isAdelie_bool\": false, \"isAdelie_float\": 0.0}, {\"species\": \"Gentoo\", \"island\": \"Biscoe\", \"bill_length_mm\": 45.5, \"bill_depth_mm\": 13.9, \"flipper_length_mm\": 210.0, \"body_mass_g\": 4200.0, \"sex\": \"Female\", \"isAdelie_bool\": false, \"isAdelie_float\": 0.0}, {\"species\": \"Gentoo\", \"island\": \"Biscoe\", \"bill_length_mm\": 50.5, \"bill_depth_mm\": 15.9, \"flipper_length_mm\": 225.0, \"body_mass_g\": 5400.0, \"sex\": \"Male\", \"isAdelie_bool\": false, \"isAdelie_float\": 0.0}, {\"species\": \"Gentoo\", \"island\": \"Biscoe\", \"bill_length_mm\": 44.9, \"bill_depth_mm\": 13.3, \"flipper_length_mm\": 213.0, \"body_mass_g\": 5100.0, \"sex\": \"Female\", \"isAdelie_bool\": false, \"isAdelie_float\": 0.0}, {\"species\": \"Gentoo\", \"island\": \"Biscoe\", \"bill_length_mm\": 45.2, \"bill_depth_mm\": 15.8, \"flipper_length_mm\": 215.0, \"body_mass_g\": 5300.0, \"sex\": \"Male\", \"isAdelie_bool\": false, \"isAdelie_float\": 0.0}, {\"species\": \"Gentoo\", \"island\": \"Biscoe\", \"bill_length_mm\": 46.6, \"bill_depth_mm\": 14.2, \"flipper_length_mm\": 210.0, \"body_mass_g\": 4850.0, \"sex\": \"Female\", \"isAdelie_bool\": false, \"isAdelie_float\": 0.0}, {\"species\": \"Gentoo\", \"island\": \"Biscoe\", \"bill_length_mm\": 48.5, \"bill_depth_mm\": 14.1, \"flipper_length_mm\": 220.0, \"body_mass_g\": 5300.0, \"sex\": \"Male\", \"isAdelie_bool\": false, \"isAdelie_float\": 0.0}, {\"species\": \"Gentoo\", \"island\": \"Biscoe\", \"bill_length_mm\": 45.1, \"bill_depth_mm\": 14.4, \"flipper_length_mm\": 210.0, \"body_mass_g\": 4400.0, \"sex\": \"Female\", \"isAdelie_bool\": false, \"isAdelie_float\": 0.0}, {\"species\": \"Gentoo\", \"island\": \"Biscoe\", \"bill_length_mm\": 50.1, \"bill_depth_mm\": 15.0, \"flipper_length_mm\": 225.0, \"body_mass_g\": 5000.0, \"sex\": \"Male\", \"isAdelie_bool\": false, \"isAdelie_float\": 0.0}, {\"species\": \"Gentoo\", \"island\": \"Biscoe\", \"bill_length_mm\": 46.5, \"bill_depth_mm\": 14.4, \"flipper_length_mm\": 217.0, \"body_mass_g\": 4900.0, \"sex\": \"Female\", \"isAdelie_bool\": false, \"isAdelie_float\": 0.0}, {\"species\": \"Gentoo\", \"island\": \"Biscoe\", \"bill_length_mm\": 45.0, \"bill_depth_mm\": 15.4, \"flipper_length_mm\": 220.0, \"body_mass_g\": 5050.0, \"sex\": \"Male\", \"isAdelie_bool\": false, \"isAdelie_float\": 0.0}, {\"species\": \"Gentoo\", \"island\": \"Biscoe\", \"bill_length_mm\": 43.8, \"bill_depth_mm\": 13.9, \"flipper_length_mm\": 208.0, \"body_mass_g\": 4300.0, \"sex\": \"Female\", \"isAdelie_bool\": false, \"isAdelie_float\": 0.0}, {\"species\": \"Gentoo\", \"island\": \"Biscoe\", \"bill_length_mm\": 45.5, \"bill_depth_mm\": 15.0, \"flipper_length_mm\": 220.0, \"body_mass_g\": 5000.0, \"sex\": \"Male\", \"isAdelie_bool\": false, \"isAdelie_float\": 0.0}, {\"species\": \"Gentoo\", \"island\": \"Biscoe\", \"bill_length_mm\": 43.2, \"bill_depth_mm\": 14.5, \"flipper_length_mm\": 208.0, \"body_mass_g\": 4450.0, \"sex\": \"Female\", \"isAdelie_bool\": false, \"isAdelie_float\": 0.0}, {\"species\": \"Gentoo\", \"island\": \"Biscoe\", \"bill_length_mm\": 50.4, \"bill_depth_mm\": 15.3, \"flipper_length_mm\": 224.0, \"body_mass_g\": 5550.0, \"sex\": \"Male\", \"isAdelie_bool\": false, \"isAdelie_float\": 0.0}, {\"species\": \"Gentoo\", \"island\": \"Biscoe\", \"bill_length_mm\": 45.3, \"bill_depth_mm\": 13.8, \"flipper_length_mm\": 208.0, \"body_mass_g\": 4200.0, \"sex\": \"Female\", \"isAdelie_bool\": false, \"isAdelie_float\": 0.0}, {\"species\": \"Gentoo\", \"island\": \"Biscoe\", \"bill_length_mm\": 46.2, \"bill_depth_mm\": 14.9, \"flipper_length_mm\": 221.0, \"body_mass_g\": 5300.0, \"sex\": \"Male\", \"isAdelie_bool\": false, \"isAdelie_float\": 0.0}, {\"species\": \"Gentoo\", \"island\": \"Biscoe\", \"bill_length_mm\": 45.7, \"bill_depth_mm\": 13.9, \"flipper_length_mm\": 214.0, \"body_mass_g\": 4400.0, \"sex\": \"Female\", \"isAdelie_bool\": false, \"isAdelie_float\": 0.0}, {\"species\": \"Gentoo\", \"island\": \"Biscoe\", \"bill_length_mm\": 54.3, \"bill_depth_mm\": 15.7, \"flipper_length_mm\": 231.0, \"body_mass_g\": 5650.0, \"sex\": \"Male\", \"isAdelie_bool\": false, \"isAdelie_float\": 0.0}, {\"species\": \"Gentoo\", \"island\": \"Biscoe\", \"bill_length_mm\": 45.8, \"bill_depth_mm\": 14.2, \"flipper_length_mm\": 219.0, \"body_mass_g\": 4700.0, \"sex\": \"Female\", \"isAdelie_bool\": false, \"isAdelie_float\": 0.0}, {\"species\": \"Gentoo\", \"island\": \"Biscoe\", \"bill_length_mm\": 49.8, \"bill_depth_mm\": 16.8, \"flipper_length_mm\": 230.0, \"body_mass_g\": 5700.0, \"sex\": \"Male\", \"isAdelie_bool\": false, \"isAdelie_float\": 0.0}, {\"species\": \"Gentoo\", \"island\": \"Biscoe\", \"bill_length_mm\": 49.5, \"bill_depth_mm\": 16.2, \"flipper_length_mm\": 229.0, \"body_mass_g\": 5800.0, \"sex\": \"Male\", \"isAdelie_bool\": false, \"isAdelie_float\": 0.0}, {\"species\": \"Gentoo\", \"island\": \"Biscoe\", \"bill_length_mm\": 43.5, \"bill_depth_mm\": 14.2, \"flipper_length_mm\": 220.0, \"body_mass_g\": 4700.0, \"sex\": \"Female\", \"isAdelie_bool\": false, \"isAdelie_float\": 0.0}, {\"species\": \"Gentoo\", \"island\": \"Biscoe\", \"bill_length_mm\": 50.7, \"bill_depth_mm\": 15.0, \"flipper_length_mm\": 223.0, \"body_mass_g\": 5550.0, \"sex\": \"Male\", \"isAdelie_bool\": false, \"isAdelie_float\": 0.0}, {\"species\": \"Gentoo\", \"island\": \"Biscoe\", \"bill_length_mm\": 47.7, \"bill_depth_mm\": 15.0, \"flipper_length_mm\": 216.0, \"body_mass_g\": 4750.0, \"sex\": \"Female\", \"isAdelie_bool\": false, \"isAdelie_float\": 0.0}, {\"species\": \"Gentoo\", \"island\": \"Biscoe\", \"bill_length_mm\": 46.4, \"bill_depth_mm\": 15.6, \"flipper_length_mm\": 221.0, \"body_mass_g\": 5000.0, \"sex\": \"Male\", \"isAdelie_bool\": false, \"isAdelie_float\": 0.0}, {\"species\": \"Gentoo\", \"island\": \"Biscoe\", \"bill_length_mm\": 48.2, \"bill_depth_mm\": 15.6, \"flipper_length_mm\": 221.0, \"body_mass_g\": 5100.0, \"sex\": \"Male\", \"isAdelie_bool\": false, \"isAdelie_float\": 0.0}, {\"species\": \"Gentoo\", \"island\": \"Biscoe\", \"bill_length_mm\": 46.5, \"bill_depth_mm\": 14.8, \"flipper_length_mm\": 217.0, \"body_mass_g\": 5200.0, \"sex\": \"Female\", \"isAdelie_bool\": false, \"isAdelie_float\": 0.0}, {\"species\": \"Gentoo\", \"island\": \"Biscoe\", \"bill_length_mm\": 46.4, \"bill_depth_mm\": 15.0, \"flipper_length_mm\": 216.0, \"body_mass_g\": 4700.0, \"sex\": \"Female\", \"isAdelie_bool\": false, \"isAdelie_float\": 0.0}, {\"species\": \"Gentoo\", \"island\": \"Biscoe\", \"bill_length_mm\": 48.6, \"bill_depth_mm\": 16.0, \"flipper_length_mm\": 230.0, \"body_mass_g\": 5800.0, \"sex\": \"Male\", \"isAdelie_bool\": false, \"isAdelie_float\": 0.0}, {\"species\": \"Gentoo\", \"island\": \"Biscoe\", \"bill_length_mm\": 47.5, \"bill_depth_mm\": 14.2, \"flipper_length_mm\": 209.0, \"body_mass_g\": 4600.0, \"sex\": \"Female\", \"isAdelie_bool\": false, \"isAdelie_float\": 0.0}, {\"species\": \"Gentoo\", \"island\": \"Biscoe\", \"bill_length_mm\": 51.1, \"bill_depth_mm\": 16.3, \"flipper_length_mm\": 220.0, \"body_mass_g\": 6000.0, \"sex\": \"Male\", \"isAdelie_bool\": false, \"isAdelie_float\": 0.0}, {\"species\": \"Gentoo\", \"island\": \"Biscoe\", \"bill_length_mm\": 45.2, \"bill_depth_mm\": 13.8, \"flipper_length_mm\": 215.0, \"body_mass_g\": 4750.0, \"sex\": \"Female\", \"isAdelie_bool\": false, \"isAdelie_float\": 0.0}, {\"species\": \"Gentoo\", \"island\": \"Biscoe\", \"bill_length_mm\": 45.2, \"bill_depth_mm\": 16.4, \"flipper_length_mm\": 223.0, \"body_mass_g\": 5950.0, \"sex\": \"Male\", \"isAdelie_bool\": false, \"isAdelie_float\": 0.0}, {\"species\": \"Gentoo\", \"island\": \"Biscoe\", \"bill_length_mm\": 49.1, \"bill_depth_mm\": 14.5, \"flipper_length_mm\": 212.0, \"body_mass_g\": 4625.0, \"sex\": \"Female\", \"isAdelie_bool\": false, \"isAdelie_float\": 0.0}, {\"species\": \"Gentoo\", \"island\": \"Biscoe\", \"bill_length_mm\": 52.5, \"bill_depth_mm\": 15.6, \"flipper_length_mm\": 221.0, \"body_mass_g\": 5450.0, \"sex\": \"Male\", \"isAdelie_bool\": false, \"isAdelie_float\": 0.0}, {\"species\": \"Gentoo\", \"island\": \"Biscoe\", \"bill_length_mm\": 47.4, \"bill_depth_mm\": 14.6, \"flipper_length_mm\": 212.0, \"body_mass_g\": 4725.0, \"sex\": \"Female\", \"isAdelie_bool\": false, \"isAdelie_float\": 0.0}, {\"species\": \"Gentoo\", \"island\": \"Biscoe\", \"bill_length_mm\": 50.0, \"bill_depth_mm\": 15.9, \"flipper_length_mm\": 224.0, \"body_mass_g\": 5350.0, \"sex\": \"Male\", \"isAdelie_bool\": false, \"isAdelie_float\": 0.0}, {\"species\": \"Gentoo\", \"island\": \"Biscoe\", \"bill_length_mm\": 44.9, \"bill_depth_mm\": 13.8, \"flipper_length_mm\": 212.0, \"body_mass_g\": 4750.0, \"sex\": \"Female\", \"isAdelie_bool\": false, \"isAdelie_float\": 0.0}, {\"species\": \"Gentoo\", \"island\": \"Biscoe\", \"bill_length_mm\": 50.8, \"bill_depth_mm\": 17.3, \"flipper_length_mm\": 228.0, \"body_mass_g\": 5600.0, \"sex\": \"Male\", \"isAdelie_bool\": false, \"isAdelie_float\": 0.0}, {\"species\": \"Gentoo\", \"island\": \"Biscoe\", \"bill_length_mm\": 43.4, \"bill_depth_mm\": 14.4, \"flipper_length_mm\": 218.0, \"body_mass_g\": 4600.0, \"sex\": \"Female\", \"isAdelie_bool\": false, \"isAdelie_float\": 0.0}, {\"species\": \"Gentoo\", \"island\": \"Biscoe\", \"bill_length_mm\": 51.3, \"bill_depth_mm\": 14.2, \"flipper_length_mm\": 218.0, \"body_mass_g\": 5300.0, \"sex\": \"Male\", \"isAdelie_bool\": false, \"isAdelie_float\": 0.0}, {\"species\": \"Gentoo\", \"island\": \"Biscoe\", \"bill_length_mm\": 47.5, \"bill_depth_mm\": 14.0, \"flipper_length_mm\": 212.0, \"body_mass_g\": 4875.0, \"sex\": \"Female\", \"isAdelie_bool\": false, \"isAdelie_float\": 0.0}, {\"species\": \"Gentoo\", \"island\": \"Biscoe\", \"bill_length_mm\": 52.1, \"bill_depth_mm\": 17.0, \"flipper_length_mm\": 230.0, \"body_mass_g\": 5550.0, \"sex\": \"Male\", \"isAdelie_bool\": false, \"isAdelie_float\": 0.0}, {\"species\": \"Gentoo\", \"island\": \"Biscoe\", \"bill_length_mm\": 47.5, \"bill_depth_mm\": 15.0, \"flipper_length_mm\": 218.0, \"body_mass_g\": 4950.0, \"sex\": \"Female\", \"isAdelie_bool\": false, \"isAdelie_float\": 0.0}, {\"species\": \"Gentoo\", \"island\": \"Biscoe\", \"bill_length_mm\": 52.2, \"bill_depth_mm\": 17.1, \"flipper_length_mm\": 228.0, \"body_mass_g\": 5400.0, \"sex\": \"Male\", \"isAdelie_bool\": false, \"isAdelie_float\": 0.0}, {\"species\": \"Gentoo\", \"island\": \"Biscoe\", \"bill_length_mm\": 45.5, \"bill_depth_mm\": 14.5, \"flipper_length_mm\": 212.0, \"body_mass_g\": 4750.0, \"sex\": \"Female\", \"isAdelie_bool\": false, \"isAdelie_float\": 0.0}, {\"species\": \"Gentoo\", \"island\": \"Biscoe\", \"bill_length_mm\": 49.5, \"bill_depth_mm\": 16.1, \"flipper_length_mm\": 224.0, \"body_mass_g\": 5650.0, \"sex\": \"Male\", \"isAdelie_bool\": false, \"isAdelie_float\": 0.0}, {\"species\": \"Gentoo\", \"island\": \"Biscoe\", \"bill_length_mm\": 44.5, \"bill_depth_mm\": 14.7, \"flipper_length_mm\": 214.0, \"body_mass_g\": 4850.0, \"sex\": \"Female\", \"isAdelie_bool\": false, \"isAdelie_float\": 0.0}, {\"species\": \"Gentoo\", \"island\": \"Biscoe\", \"bill_length_mm\": 50.8, \"bill_depth_mm\": 15.7, \"flipper_length_mm\": 226.0, \"body_mass_g\": 5200.0, \"sex\": \"Male\", \"isAdelie_bool\": false, \"isAdelie_float\": 0.0}, {\"species\": \"Gentoo\", \"island\": \"Biscoe\", \"bill_length_mm\": 49.4, \"bill_depth_mm\": 15.8, \"flipper_length_mm\": 216.0, \"body_mass_g\": 4925.0, \"sex\": \"Male\", \"isAdelie_bool\": false, \"isAdelie_float\": 0.0}, {\"species\": \"Gentoo\", \"island\": \"Biscoe\", \"bill_length_mm\": 46.9, \"bill_depth_mm\": 14.6, \"flipper_length_mm\": 222.0, \"body_mass_g\": 4875.0, \"sex\": \"Female\", \"isAdelie_bool\": false, \"isAdelie_float\": 0.0}, {\"species\": \"Gentoo\", \"island\": \"Biscoe\", \"bill_length_mm\": 48.4, \"bill_depth_mm\": 14.4, \"flipper_length_mm\": 203.0, \"body_mass_g\": 4625.0, \"sex\": \"Female\", \"isAdelie_bool\": false, \"isAdelie_float\": 0.0}, {\"species\": \"Gentoo\", \"island\": \"Biscoe\", \"bill_length_mm\": 51.1, \"bill_depth_mm\": 16.5, \"flipper_length_mm\": 225.0, \"body_mass_g\": 5250.0, \"sex\": \"Male\", \"isAdelie_bool\": false, \"isAdelie_float\": 0.0}, {\"species\": \"Gentoo\", \"island\": \"Biscoe\", \"bill_length_mm\": 48.5, \"bill_depth_mm\": 15.0, \"flipper_length_mm\": 219.0, \"body_mass_g\": 4850.0, \"sex\": \"Female\", \"isAdelie_bool\": false, \"isAdelie_float\": 0.0}, {\"species\": \"Gentoo\", \"island\": \"Biscoe\", \"bill_length_mm\": 55.9, \"bill_depth_mm\": 17.0, \"flipper_length_mm\": 228.0, \"body_mass_g\": 5600.0, \"sex\": \"Male\", \"isAdelie_bool\": false, \"isAdelie_float\": 0.0}, {\"species\": \"Gentoo\", \"island\": \"Biscoe\", \"bill_length_mm\": 47.2, \"bill_depth_mm\": 15.5, \"flipper_length_mm\": 215.0, \"body_mass_g\": 4975.0, \"sex\": \"Female\", \"isAdelie_bool\": false, \"isAdelie_float\": 0.0}, {\"species\": \"Gentoo\", \"island\": \"Biscoe\", \"bill_length_mm\": 49.1, \"bill_depth_mm\": 15.0, \"flipper_length_mm\": 228.0, \"body_mass_g\": 5500.0, \"sex\": \"Male\", \"isAdelie_bool\": false, \"isAdelie_float\": 0.0}, {\"species\": \"Gentoo\", \"island\": \"Biscoe\", \"bill_length_mm\": 46.8, \"bill_depth_mm\": 16.1, \"flipper_length_mm\": 215.0, \"body_mass_g\": 5500.0, \"sex\": \"Male\", \"isAdelie_bool\": false, \"isAdelie_float\": 0.0}, {\"species\": \"Gentoo\", \"island\": \"Biscoe\", \"bill_length_mm\": 41.7, \"bill_depth_mm\": 14.7, \"flipper_length_mm\": 210.0, \"body_mass_g\": 4700.0, \"sex\": \"Female\", \"isAdelie_bool\": false, \"isAdelie_float\": 0.0}, {\"species\": \"Gentoo\", \"island\": \"Biscoe\", \"bill_length_mm\": 53.4, \"bill_depth_mm\": 15.8, \"flipper_length_mm\": 219.0, \"body_mass_g\": 5500.0, \"sex\": \"Male\", \"isAdelie_bool\": false, \"isAdelie_float\": 0.0}, {\"species\": \"Gentoo\", \"island\": \"Biscoe\", \"bill_length_mm\": 43.3, \"bill_depth_mm\": 14.0, \"flipper_length_mm\": 208.0, \"body_mass_g\": 4575.0, \"sex\": \"Female\", \"isAdelie_bool\": false, \"isAdelie_float\": 0.0}, {\"species\": \"Gentoo\", \"island\": \"Biscoe\", \"bill_length_mm\": 48.1, \"bill_depth_mm\": 15.1, \"flipper_length_mm\": 209.0, \"body_mass_g\": 5500.0, \"sex\": \"Male\", \"isAdelie_bool\": false, \"isAdelie_float\": 0.0}, {\"species\": \"Gentoo\", \"island\": \"Biscoe\", \"bill_length_mm\": 50.5, \"bill_depth_mm\": 15.2, \"flipper_length_mm\": 216.0, \"body_mass_g\": 5000.0, \"sex\": \"Female\", \"isAdelie_bool\": false, \"isAdelie_float\": 0.0}, {\"species\": \"Gentoo\", \"island\": \"Biscoe\", \"bill_length_mm\": 49.8, \"bill_depth_mm\": 15.9, \"flipper_length_mm\": 229.0, \"body_mass_g\": 5950.0, \"sex\": \"Male\", \"isAdelie_bool\": false, \"isAdelie_float\": 0.0}, {\"species\": \"Gentoo\", \"island\": \"Biscoe\", \"bill_length_mm\": 43.5, \"bill_depth_mm\": 15.2, \"flipper_length_mm\": 213.0, \"body_mass_g\": 4650.0, \"sex\": \"Female\", \"isAdelie_bool\": false, \"isAdelie_float\": 0.0}, {\"species\": \"Gentoo\", \"island\": \"Biscoe\", \"bill_length_mm\": 51.5, \"bill_depth_mm\": 16.3, \"flipper_length_mm\": 230.0, \"body_mass_g\": 5500.0, \"sex\": \"Male\", \"isAdelie_bool\": false, \"isAdelie_float\": 0.0}, {\"species\": \"Gentoo\", \"island\": \"Biscoe\", \"bill_length_mm\": 46.2, \"bill_depth_mm\": 14.1, \"flipper_length_mm\": 217.0, \"body_mass_g\": 4375.0, \"sex\": \"Female\", \"isAdelie_bool\": false, \"isAdelie_float\": 0.0}, {\"species\": \"Gentoo\", \"island\": \"Biscoe\", \"bill_length_mm\": 55.1, \"bill_depth_mm\": 16.0, \"flipper_length_mm\": 230.0, \"body_mass_g\": 5850.0, \"sex\": \"Male\", \"isAdelie_bool\": false, \"isAdelie_float\": 0.0}, {\"species\": \"Gentoo\", \"island\": \"Biscoe\", \"bill_length_mm\": 48.8, \"bill_depth_mm\": 16.2, \"flipper_length_mm\": 222.0, \"body_mass_g\": 6000.0, \"sex\": \"Male\", \"isAdelie_bool\": false, \"isAdelie_float\": 0.0}, {\"species\": \"Gentoo\", \"island\": \"Biscoe\", \"bill_length_mm\": 47.2, \"bill_depth_mm\": 13.7, \"flipper_length_mm\": 214.0, \"body_mass_g\": 4925.0, \"sex\": \"Female\", \"isAdelie_bool\": false, \"isAdelie_float\": 0.0}, {\"species\": \"Gentoo\", \"island\": \"Biscoe\", \"bill_length_mm\": 46.8, \"bill_depth_mm\": 14.3, \"flipper_length_mm\": 215.0, \"body_mass_g\": 4850.0, \"sex\": \"Female\", \"isAdelie_bool\": false, \"isAdelie_float\": 0.0}, {\"species\": \"Gentoo\", \"island\": \"Biscoe\", \"bill_length_mm\": 50.4, \"bill_depth_mm\": 15.7, \"flipper_length_mm\": 222.0, \"body_mass_g\": 5750.0, \"sex\": \"Male\", \"isAdelie_bool\": false, \"isAdelie_float\": 0.0}, {\"species\": \"Gentoo\", \"island\": \"Biscoe\", \"bill_length_mm\": 45.2, \"bill_depth_mm\": 14.8, \"flipper_length_mm\": 212.0, \"body_mass_g\": 5200.0, \"sex\": \"Female\", \"isAdelie_bool\": false, \"isAdelie_float\": 0.0}, {\"species\": \"Gentoo\", \"island\": \"Biscoe\", \"bill_length_mm\": 49.9, \"bill_depth_mm\": 16.1, \"flipper_length_mm\": 213.0, \"body_mass_g\": 5400.0, \"sex\": \"Male\", \"isAdelie_bool\": false, \"isAdelie_float\": 0.0}]}}, {\"mode\": \"vega-lite\"});\n",
       "</script>"
      ],
      "text/plain": [
       "alt.Chart(...)"
      ]
     },
     "execution_count": 10,
     "metadata": {},
     "output_type": "execute_result"
    }
   ],
   "source": [
    "alt.Chart(df).mark_circle().encode(\n",
    "    x=\"bill_length_mm\",\n",
    "    y=\"isAdelie_float\"\n",
    ")"
   ]
  },
  {
   "cell_type": "code",
   "execution_count": null,
   "metadata": {
    "cell_id": "d72f5594f517419eb2205809ec60d9ba",
    "deepnote_cell_height": 81,
    "deepnote_cell_type": "code",
    "deepnote_to_be_reexecuted": false,
    "execution_millis": 235,
    "execution_start": 1652030235724,
    "source_hash": "9527aab5",
    "tags": []
   },
   "outputs": [],
   "source": [
    "from sklearn.linear_model import LinearRegression"
   ]
  },
  {
   "cell_type": "code",
   "execution_count": null,
   "metadata": {
    "cell_id": "d917e3c2481348b0bb2e75055d397968",
    "deepnote_cell_height": 81,
    "deepnote_cell_type": "code",
    "deepnote_to_be_reexecuted": false,
    "execution_millis": 0,
    "execution_start": 1652030235964,
    "source_hash": "cd72858e",
    "tags": []
   },
   "outputs": [],
   "source": [
    "reg = LinearRegression()"
   ]
  },
  {
   "cell_type": "code",
   "execution_count": null,
   "metadata": {
    "cell_id": "8faa4e2e02774e96b58d73f996a4e8b7",
    "deepnote_cell_height": 118.1875,
    "deepnote_cell_type": "code",
    "deepnote_output_heights": [
     21.1875
    ],
    "deepnote_to_be_reexecuted": false,
    "execution_millis": 16,
    "execution_start": 1652030235968,
    "source_hash": "cfa0fd5b",
    "tags": []
   },
   "outputs": [
    {
     "data": {
      "text/plain": [
       "LinearRegression()"
      ]
     },
     "execution_count": 13,
     "metadata": {},
     "output_type": "execute_result"
    }
   ],
   "source": [
    "reg.fit(df[[\"bill_length_mm\"]], df[\"isAdelie_float\"])"
   ]
  },
  {
   "cell_type": "code",
   "execution_count": null,
   "metadata": {
    "cell_id": "0e00a8bf6d074fbdaa744ec18c92f52f",
    "deepnote_cell_height": 135,
    "deepnote_cell_type": "code",
    "deepnote_to_be_reexecuted": false,
    "execution_millis": 1,
    "execution_start": 1652030235994,
    "source_hash": "f212287d",
    "tags": []
   },
   "outputs": [],
   "source": [
    "c = alt.Chart(df).mark_circle().encode(\n",
    "    x=\"bill_length_mm\",\n",
    "    y=\"isAdelie_float\"\n",
    ")"
   ]
  },
  {
   "cell_type": "code",
   "execution_count": null,
   "metadata": {
    "cell_id": "b362c7f3b6b54018831f389c21f411da",
    "deepnote_cell_height": 81,
    "deepnote_cell_type": "code",
    "deepnote_to_be_reexecuted": false,
    "execution_millis": 41,
    "execution_start": 1652030236002,
    "source_hash": "33a79f3b",
    "tags": []
   },
   "outputs": [],
   "source": [
    "df[\"Pred\"] = reg.predict(df[[\"bill_length_mm\"]])"
   ]
  },
  {
   "cell_type": "code",
   "execution_count": null,
   "metadata": {
    "cell_id": "8c9220a65a6745419849954f09cbbfd8",
    "deepnote_cell_height": 395,
    "deepnote_cell_type": "code",
    "deepnote_to_be_reexecuted": false,
    "execution_millis": 4,
    "execution_start": 1652030236044,
    "source_hash": "c085b6ba",
    "tags": []
   },
   "outputs": [
    {
     "data": {
      "application/vnd.deepnote.dataframe.v3+json": {
       "column_count": 10,
       "columns": [
        {
         "dtype": "object",
         "name": "species",
         "stats": {
          "categories": [
           {
            "count": 5,
            "name": "Adelie"
           }
          ],
          "nan_count": 0,
          "unique_count": 1
         }
        },
        {
         "dtype": "object",
         "name": "island",
         "stats": {
          "categories": [
           {
            "count": 5,
            "name": "Torgersen"
           }
          ],
          "nan_count": 0,
          "unique_count": 1
         }
        },
        {
         "dtype": "float64",
         "name": "bill_length_mm",
         "stats": {
          "histogram": [
           {
            "bin_end": 37.06,
            "bin_start": 36.7,
            "count": 1
           },
           {
            "bin_end": 37.42,
            "bin_start": 37.06,
            "count": 0
           },
           {
            "bin_end": 37.78,
            "bin_start": 37.42,
            "count": 0
           },
           {
            "bin_end": 38.14,
            "bin_start": 37.78,
            "count": 0
           },
           {
            "bin_end": 38.5,
            "bin_start": 38.14,
            "count": 0
           },
           {
            "bin_end": 38.86,
            "bin_start": 38.5,
            "count": 0
           },
           {
            "bin_end": 39.22,
            "bin_start": 38.86,
            "count": 1
           },
           {
            "bin_end": 39.58,
            "bin_start": 39.22,
            "count": 2
           },
           {
            "bin_end": 39.94,
            "bin_start": 39.58,
            "count": 0
           },
           {
            "bin_end": 40.3,
            "bin_start": 39.94,
            "count": 1
           }
          ],
          "max": "40.3",
          "min": "36.7",
          "nan_count": 0,
          "unique_count": 5
         }
        },
        {
         "dtype": "float64",
         "name": "bill_depth_mm",
         "stats": {
          "histogram": [
           {
            "bin_end": 17.72,
            "bin_start": 17.4,
            "count": 1
           },
           {
            "bin_end": 18.04,
            "bin_start": 17.72,
            "count": 1
           },
           {
            "bin_end": 18.36,
            "bin_start": 18.04,
            "count": 0
           },
           {
            "bin_end": 18.68,
            "bin_start": 18.36,
            "count": 0
           },
           {
            "bin_end": 19,
            "bin_start": 18.68,
            "count": 1
           },
           {
            "bin_end": 19.32,
            "bin_start": 19,
            "count": 1
           },
           {
            "bin_end": 19.64,
            "bin_start": 19.32,
            "count": 0
           },
           {
            "bin_end": 19.96,
            "bin_start": 19.64,
            "count": 0
           },
           {
            "bin_end": 20.28,
            "bin_start": 19.96,
            "count": 0
           },
           {
            "bin_end": 20.6,
            "bin_start": 20.28,
            "count": 1
           }
          ],
          "max": "20.6",
          "min": "17.4",
          "nan_count": 0,
          "unique_count": 5
         }
        },
        {
         "dtype": "float64",
         "name": "flipper_length_mm",
         "stats": {
          "histogram": [
           {
            "bin_end": 182.4,
            "bin_start": 181,
            "count": 1
           },
           {
            "bin_end": 183.8,
            "bin_start": 182.4,
            "count": 0
           },
           {
            "bin_end": 185.2,
            "bin_start": 183.8,
            "count": 0
           },
           {
            "bin_end": 186.6,
            "bin_start": 185.2,
            "count": 1
           },
           {
            "bin_end": 188,
            "bin_start": 186.6,
            "count": 0
           },
           {
            "bin_end": 189.4,
            "bin_start": 188,
            "count": 0
           },
           {
            "bin_end": 190.8,
            "bin_start": 189.4,
            "count": 1
           },
           {
            "bin_end": 192.2,
            "bin_start": 190.8,
            "count": 0
           },
           {
            "bin_end": 193.6,
            "bin_start": 192.2,
            "count": 1
           },
           {
            "bin_end": 195,
            "bin_start": 193.6,
            "count": 1
           }
          ],
          "max": "195.0",
          "min": "181.0",
          "nan_count": 0,
          "unique_count": 5
         }
        },
        {
         "dtype": "float64",
         "name": "body_mass_g",
         "stats": {
          "histogram": [
           {
            "bin_end": 3305,
            "bin_start": 3250,
            "count": 1
           },
           {
            "bin_end": 3360,
            "bin_start": 3305,
            "count": 0
           },
           {
            "bin_end": 3415,
            "bin_start": 3360,
            "count": 0
           },
           {
            "bin_end": 3470,
            "bin_start": 3415,
            "count": 1
           },
           {
            "bin_end": 3525,
            "bin_start": 3470,
            "count": 0
           },
           {
            "bin_end": 3580,
            "bin_start": 3525,
            "count": 0
           },
           {
            "bin_end": 3635,
            "bin_start": 3580,
            "count": 0
           },
           {
            "bin_end": 3690,
            "bin_start": 3635,
            "count": 1
           },
           {
            "bin_end": 3745,
            "bin_start": 3690,
            "count": 0
           },
           {
            "bin_end": 3800,
            "bin_start": 3745,
            "count": 2
           }
          ],
          "max": "3800.0",
          "min": "3250.0",
          "nan_count": 0,
          "unique_count": 5
         }
        },
        {
         "dtype": "object",
         "name": "sex",
         "stats": {
          "categories": [
           {
            "count": 3,
            "name": "Female"
           },
           {
            "count": 2,
            "name": "Male"
           }
          ],
          "nan_count": 0,
          "unique_count": 2
         }
        },
        {
         "dtype": "bool",
         "name": "isAdelie_bool",
         "stats": {
          "categories": [
           {
            "count": 5,
            "name": "True"
           }
          ],
          "nan_count": 0,
          "unique_count": 1
         }
        },
        {
         "dtype": "float64",
         "name": "isAdelie_float",
         "stats": {
          "histogram": [
           {
            "bin_end": 0.6,
            "bin_start": 0.5,
            "count": 0
           },
           {
            "bin_end": 0.7,
            "bin_start": 0.6,
            "count": 0
           },
           {
            "bin_end": 0.8,
            "bin_start": 0.7,
            "count": 0
           },
           {
            "bin_end": 0.9,
            "bin_start": 0.8,
            "count": 0
           },
           {
            "bin_end": 1,
            "bin_start": 0.9,
            "count": 0
           },
           {
            "bin_end": 1.1,
            "bin_start": 1,
            "count": 5
           },
           {
            "bin_end": 1.2000000000000002,
            "bin_start": 1.1,
            "count": 0
           },
           {
            "bin_end": 1.3,
            "bin_start": 1.2000000000000002,
            "count": 0
           },
           {
            "bin_end": 1.4,
            "bin_start": 1.3,
            "count": 0
           },
           {
            "bin_end": 1.5,
            "bin_start": 1.4,
            "count": 0
           }
          ],
          "max": "1.0",
          "min": "1.0",
          "nan_count": 0,
          "unique_count": 1
         }
        },
        {
         "dtype": "float64",
         "name": "Pred",
         "stats": {
          "histogram": [
           {
            "bin_end": 0.7464715660404305,
            "bin_start": 0.7191097117324778,
            "count": 1
           },
           {
            "bin_end": 0.7738334203483832,
            "bin_start": 0.7464715660404305,
            "count": 0
           },
           {
            "bin_end": 0.8011952746563358,
            "bin_start": 0.7738334203483832,
            "count": 2
           },
           {
            "bin_end": 0.8285571289642885,
            "bin_start": 0.8011952746563358,
            "count": 1
           },
           {
            "bin_end": 0.8559189832722411,
            "bin_start": 0.8285571289642885,
            "count": 0
           },
           {
            "bin_end": 0.8832808375801938,
            "bin_start": 0.8559189832722411,
            "count": 0
           },
           {
            "bin_end": 0.9106426918881465,
            "bin_start": 0.8832808375801938,
            "count": 0
           },
           {
            "bin_end": 0.9380045461960991,
            "bin_start": 0.9106426918881465,
            "count": 0
           },
           {
            "bin_end": 0.9653664005040518,
            "bin_start": 0.9380045461960991,
            "count": 0
           },
           {
            "bin_end": 0.9927282548120044,
            "bin_start": 0.9653664005040518,
            "count": 1
           }
          ],
          "max": "0.9927282548120044",
          "min": "0.7191097117324778",
          "nan_count": 0,
          "unique_count": 5
         }
        },
        {
         "dtype": "int64",
         "name": "_deepnote_index_column"
        }
       ],
       "row_count": 5,
       "rows": [
        {
         "Pred": 0.8103158927589864,
         "_deepnote_index_column": 0,
         "bill_depth_mm": 18.7,
         "bill_length_mm": 39.1,
         "body_mass_g": 3750,
         "flipper_length_mm": 181,
         "isAdelie_bool": true,
         "isAdelie_float": 1,
         "island": "Torgersen",
         "sex": "Male",
         "species": "Adelie"
        },
        {
         "Pred": 0.7799138324168169,
         "_deepnote_index_column": 1,
         "bill_depth_mm": 17.4,
         "bill_length_mm": 39.5,
         "body_mass_g": 3800,
         "flipper_length_mm": 186,
         "isAdelie_bool": true,
         "isAdelie_float": 1,
         "island": "Torgersen",
         "sex": "Female",
         "species": "Adelie"
        },
        {
         "Pred": 0.7191097117324778,
         "_deepnote_index_column": 2,
         "bill_depth_mm": 18,
         "bill_length_mm": 40.3,
         "body_mass_g": 3250,
         "flipper_length_mm": 195,
         "isAdelie_bool": true,
         "isAdelie_float": 1,
         "island": "Torgersen",
         "sex": "Female",
         "species": "Adelie"
        },
        {
         "Pred": 0.9927282548120044,
         "_deepnote_index_column": 4,
         "bill_depth_mm": 19.3,
         "bill_length_mm": 36.7,
         "body_mass_g": 3450,
         "flipper_length_mm": 193,
         "isAdelie_bool": true,
         "isAdelie_float": 1,
         "island": "Torgersen",
         "sex": "Female",
         "species": "Adelie"
        },
        {
         "Pred": 0.7951148625879019,
         "_deepnote_index_column": 5,
         "bill_depth_mm": 20.6,
         "bill_length_mm": 39.3,
         "body_mass_g": 3650,
         "flipper_length_mm": 190,
         "isAdelie_bool": true,
         "isAdelie_float": 1,
         "island": "Torgersen",
         "sex": "Male",
         "species": "Adelie"
        }
       ]
      },
      "text/html": [
       "<div>\n",
       "<style scoped>\n",
       "    .dataframe tbody tr th:only-of-type {\n",
       "        vertical-align: middle;\n",
       "    }\n",
       "\n",
       "    .dataframe tbody tr th {\n",
       "        vertical-align: top;\n",
       "    }\n",
       "\n",
       "    .dataframe thead th {\n",
       "        text-align: right;\n",
       "    }\n",
       "</style>\n",
       "<table border=\"1\" class=\"dataframe\">\n",
       "  <thead>\n",
       "    <tr style=\"text-align: right;\">\n",
       "      <th></th>\n",
       "      <th>species</th>\n",
       "      <th>island</th>\n",
       "      <th>bill_length_mm</th>\n",
       "      <th>bill_depth_mm</th>\n",
       "      <th>flipper_length_mm</th>\n",
       "      <th>body_mass_g</th>\n",
       "      <th>sex</th>\n",
       "      <th>isAdelie_bool</th>\n",
       "      <th>isAdelie_float</th>\n",
       "      <th>Pred</th>\n",
       "    </tr>\n",
       "  </thead>\n",
       "  <tbody>\n",
       "    <tr>\n",
       "      <th>0</th>\n",
       "      <td>Adelie</td>\n",
       "      <td>Torgersen</td>\n",
       "      <td>39.1</td>\n",
       "      <td>18.7</td>\n",
       "      <td>181.0</td>\n",
       "      <td>3750.0</td>\n",
       "      <td>Male</td>\n",
       "      <td>True</td>\n",
       "      <td>1.0</td>\n",
       "      <td>0.810316</td>\n",
       "    </tr>\n",
       "    <tr>\n",
       "      <th>1</th>\n",
       "      <td>Adelie</td>\n",
       "      <td>Torgersen</td>\n",
       "      <td>39.5</td>\n",
       "      <td>17.4</td>\n",
       "      <td>186.0</td>\n",
       "      <td>3800.0</td>\n",
       "      <td>Female</td>\n",
       "      <td>True</td>\n",
       "      <td>1.0</td>\n",
       "      <td>0.779914</td>\n",
       "    </tr>\n",
       "    <tr>\n",
       "      <th>2</th>\n",
       "      <td>Adelie</td>\n",
       "      <td>Torgersen</td>\n",
       "      <td>40.3</td>\n",
       "      <td>18.0</td>\n",
       "      <td>195.0</td>\n",
       "      <td>3250.0</td>\n",
       "      <td>Female</td>\n",
       "      <td>True</td>\n",
       "      <td>1.0</td>\n",
       "      <td>0.719110</td>\n",
       "    </tr>\n",
       "    <tr>\n",
       "      <th>4</th>\n",
       "      <td>Adelie</td>\n",
       "      <td>Torgersen</td>\n",
       "      <td>36.7</td>\n",
       "      <td>19.3</td>\n",
       "      <td>193.0</td>\n",
       "      <td>3450.0</td>\n",
       "      <td>Female</td>\n",
       "      <td>True</td>\n",
       "      <td>1.0</td>\n",
       "      <td>0.992728</td>\n",
       "    </tr>\n",
       "    <tr>\n",
       "      <th>5</th>\n",
       "      <td>Adelie</td>\n",
       "      <td>Torgersen</td>\n",
       "      <td>39.3</td>\n",
       "      <td>20.6</td>\n",
       "      <td>190.0</td>\n",
       "      <td>3650.0</td>\n",
       "      <td>Male</td>\n",
       "      <td>True</td>\n",
       "      <td>1.0</td>\n",
       "      <td>0.795115</td>\n",
       "    </tr>\n",
       "  </tbody>\n",
       "</table>\n",
       "</div>"
      ],
      "text/plain": [
       "  species     island  bill_length_mm  bill_depth_mm  flipper_length_mm  \\\n",
       "0  Adelie  Torgersen            39.1           18.7              181.0   \n",
       "1  Adelie  Torgersen            39.5           17.4              186.0   \n",
       "2  Adelie  Torgersen            40.3           18.0              195.0   \n",
       "4  Adelie  Torgersen            36.7           19.3              193.0   \n",
       "5  Adelie  Torgersen            39.3           20.6              190.0   \n",
       "\n",
       "   body_mass_g     sex  isAdelie_bool  isAdelie_float      Pred  \n",
       "0       3750.0    Male           True             1.0  0.810316  \n",
       "1       3800.0  Female           True             1.0  0.779914  \n",
       "2       3250.0  Female           True             1.0  0.719110  \n",
       "4       3450.0  Female           True             1.0  0.992728  \n",
       "5       3650.0    Male           True             1.0  0.795115  "
      ]
     },
     "execution_count": 16,
     "metadata": {},
     "output_type": "execute_result"
    }
   ],
   "source": [
    "df.head()"
   ]
  },
  {
   "cell_type": "code",
   "execution_count": null,
   "metadata": {
    "cell_id": "c62d801a1bb04d6bb19a481d2bf29824",
    "deepnote_cell_height": 135,
    "deepnote_cell_type": "code",
    "deepnote_to_be_reexecuted": false,
    "execution_millis": 4,
    "execution_start": 1652030236057,
    "source_hash": "db37950",
    "tags": []
   },
   "outputs": [],
   "source": [
    "c1 = alt.Chart(df).mark_line(color=\"red\").encode(\n",
    "    x=\"bill_length_mm\",\n",
    "    y=\"Pred\"\n",
    ")"
   ]
  },
  {
   "cell_type": "code",
   "execution_count": null,
   "metadata": {
    "cell_id": "d8362eef182e4426bd50c30d639e1dbf",
    "deepnote_cell_height": 458,
    "deepnote_cell_type": "code",
    "deepnote_output_heights": [
     361
    ],
    "deepnote_to_be_reexecuted": false,
    "execution_millis": 36,
    "execution_start": 1652030236094,
    "source_hash": "7875ad2a",
    "tags": []
   },
   "outputs": [
    {
     "data": {
      "text/html": [
       "\n",
       "<div id=\"altair-viz-8ec803c453b248e690a17c7b12a32865\"></div>\n",
       "<script type=\"text/javascript\">\n",
       "  (function(spec, embedOpt){\n",
       "    let outputDiv = document.currentScript.previousElementSibling;\n",
       "    if (outputDiv.id !== \"altair-viz-8ec803c453b248e690a17c7b12a32865\") {\n",
       "      outputDiv = document.getElementById(\"altair-viz-8ec803c453b248e690a17c7b12a32865\");\n",
       "    }\n",
       "    const paths = {\n",
       "      \"vega\": \"https://cdn.jsdelivr.net/npm//vega@5?noext\",\n",
       "      \"vega-lib\": \"https://cdn.jsdelivr.net/npm//vega-lib?noext\",\n",
       "      \"vega-lite\": \"https://cdn.jsdelivr.net/npm//vega-lite@4.8.1?noext\",\n",
       "      \"vega-embed\": \"https://cdn.jsdelivr.net/npm//vega-embed@6?noext\",\n",
       "    };\n",
       "\n",
       "    function loadScript(lib) {\n",
       "      return new Promise(function(resolve, reject) {\n",
       "        var s = document.createElement('script');\n",
       "        s.src = paths[lib];\n",
       "        s.async = true;\n",
       "        s.onload = () => resolve(paths[lib]);\n",
       "        s.onerror = () => reject(`Error loading script: ${paths[lib]}`);\n",
       "        document.getElementsByTagName(\"head\")[0].appendChild(s);\n",
       "      });\n",
       "    }\n",
       "\n",
       "    function showError(err) {\n",
       "      outputDiv.innerHTML = `<div class=\"error\" style=\"color:red;\">${err}</div>`;\n",
       "      throw err;\n",
       "    }\n",
       "\n",
       "    function displayChart(vegaEmbed) {\n",
       "      vegaEmbed(outputDiv, spec, embedOpt)\n",
       "        .catch(err => showError(`Javascript Error: ${err.message}<br>This usually means there's a typo in your chart specification. See the javascript console for the full traceback.`));\n",
       "    }\n",
       "\n",
       "    if(typeof define === \"function\" && define.amd) {\n",
       "      requirejs.config({paths});\n",
       "      require([\"vega-embed\"], displayChart, err => showError(`Error loading script: ${err.message}`));\n",
       "    } else if (typeof vegaEmbed === \"function\") {\n",
       "      displayChart(vegaEmbed);\n",
       "    } else {\n",
       "      loadScript(\"vega\")\n",
       "        .then(() => loadScript(\"vega-lite\"))\n",
       "        .then(() => loadScript(\"vega-embed\"))\n",
       "        .catch(showError)\n",
       "        .then(() => displayChart(vegaEmbed));\n",
       "    }\n",
       "  })({\"config\": {\"view\": {\"continuousWidth\": 400, \"continuousHeight\": 300}}, \"layer\": [{\"mark\": \"circle\", \"encoding\": {\"x\": {\"type\": \"quantitative\", \"field\": \"bill_length_mm\"}, \"y\": {\"type\": \"quantitative\", \"field\": \"isAdelie_float\"}}}, {\"mark\": {\"type\": \"line\", \"color\": \"red\"}, \"encoding\": {\"x\": {\"type\": \"quantitative\", \"field\": \"bill_length_mm\"}, \"y\": {\"type\": \"quantitative\", \"field\": \"Pred\"}}}], \"data\": {\"name\": \"data-b540fa4def4344499660eb036ae53e87\"}, \"$schema\": \"https://vega.github.io/schema/vega-lite/v4.8.1.json\", \"datasets\": {\"data-b540fa4def4344499660eb036ae53e87\": [{\"species\": \"Adelie\", \"island\": \"Torgersen\", \"bill_length_mm\": 39.1, \"bill_depth_mm\": 18.7, \"flipper_length_mm\": 181.0, \"body_mass_g\": 3750.0, \"sex\": \"Male\", \"isAdelie_bool\": true, \"isAdelie_float\": 1.0, \"Pred\": 0.8103158927589864}, {\"species\": \"Adelie\", \"island\": \"Torgersen\", \"bill_length_mm\": 39.5, \"bill_depth_mm\": 17.4, \"flipper_length_mm\": 186.0, \"body_mass_g\": 3800.0, \"sex\": \"Female\", \"isAdelie_bool\": true, \"isAdelie_float\": 1.0, \"Pred\": 0.7799138324168169}, {\"species\": \"Adelie\", \"island\": \"Torgersen\", \"bill_length_mm\": 40.3, \"bill_depth_mm\": 18.0, \"flipper_length_mm\": 195.0, \"body_mass_g\": 3250.0, \"sex\": \"Female\", \"isAdelie_bool\": true, \"isAdelie_float\": 1.0, \"Pred\": 0.7191097117324778}, {\"species\": \"Adelie\", \"island\": \"Torgersen\", \"bill_length_mm\": 36.7, \"bill_depth_mm\": 19.3, \"flipper_length_mm\": 193.0, \"body_mass_g\": 3450.0, \"sex\": \"Female\", \"isAdelie_bool\": true, \"isAdelie_float\": 1.0, \"Pred\": 0.9927282548120044}, {\"species\": \"Adelie\", \"island\": \"Torgersen\", \"bill_length_mm\": 39.3, \"bill_depth_mm\": 20.6, \"flipper_length_mm\": 190.0, \"body_mass_g\": 3650.0, \"sex\": \"Male\", \"isAdelie_bool\": true, \"isAdelie_float\": 1.0, \"Pred\": 0.7951148625879019}, {\"species\": \"Adelie\", \"island\": \"Torgersen\", \"bill_length_mm\": 38.9, \"bill_depth_mm\": 17.8, \"flipper_length_mm\": 181.0, \"body_mass_g\": 3625.0, \"sex\": \"Female\", \"isAdelie_bool\": true, \"isAdelie_float\": 1.0, \"Pred\": 0.8255169229300714}, {\"species\": \"Adelie\", \"island\": \"Torgersen\", \"bill_length_mm\": 39.2, \"bill_depth_mm\": 19.6, \"flipper_length_mm\": 195.0, \"body_mass_g\": 4675.0, \"sex\": \"Male\", \"isAdelie_bool\": true, \"isAdelie_float\": 1.0, \"Pred\": 0.8027153776734441}, {\"species\": \"Adelie\", \"island\": \"Torgersen\", \"bill_length_mm\": 41.1, \"bill_depth_mm\": 17.6, \"flipper_length_mm\": 182.0, \"body_mass_g\": 3200.0, \"sex\": \"Female\", \"isAdelie_bool\": true, \"isAdelie_float\": 1.0, \"Pred\": 0.6583055910481383}, {\"species\": \"Adelie\", \"island\": \"Torgersen\", \"bill_length_mm\": 38.6, \"bill_depth_mm\": 21.2, \"flipper_length_mm\": 191.0, \"body_mass_g\": 3800.0, \"sex\": \"Male\", \"isAdelie_bool\": true, \"isAdelie_float\": 1.0, \"Pred\": 0.8483184681866986}, {\"species\": \"Adelie\", \"island\": \"Torgersen\", \"bill_length_mm\": 34.6, \"bill_depth_mm\": 21.1, \"flipper_length_mm\": 198.0, \"body_mass_g\": 4400.0, \"sex\": \"Male\", \"isAdelie_bool\": true, \"isAdelie_float\": 1.0, \"Pred\": 1.1523390716083952}, {\"species\": \"Adelie\", \"island\": \"Torgersen\", \"bill_length_mm\": 36.6, \"bill_depth_mm\": 17.8, \"flipper_length_mm\": 185.0, \"body_mass_g\": 3700.0, \"sex\": \"Female\", \"isAdelie_bool\": true, \"isAdelie_float\": 1.0, \"Pred\": 1.0003287698975472}, {\"species\": \"Adelie\", \"island\": \"Torgersen\", \"bill_length_mm\": 38.7, \"bill_depth_mm\": 19.0, \"flipper_length_mm\": 195.0, \"body_mass_g\": 3450.0, \"sex\": \"Female\", \"isAdelie_bool\": true, \"isAdelie_float\": 1.0, \"Pred\": 0.8407179531011559}, {\"species\": \"Adelie\", \"island\": \"Torgersen\", \"bill_length_mm\": 42.5, \"bill_depth_mm\": 20.7, \"flipper_length_mm\": 197.0, \"body_mass_g\": 4500.0, \"sex\": \"Male\", \"isAdelie_bool\": true, \"isAdelie_float\": 1.0, \"Pred\": 0.5518983798505444}, {\"species\": \"Adelie\", \"island\": \"Torgersen\", \"bill_length_mm\": 34.4, \"bill_depth_mm\": 18.4, \"flipper_length_mm\": 184.0, \"body_mass_g\": 3325.0, \"sex\": \"Female\", \"isAdelie_bool\": true, \"isAdelie_float\": 1.0, \"Pred\": 1.1675401017794802}, {\"species\": \"Adelie\", \"island\": \"Torgersen\", \"bill_length_mm\": 46.0, \"bill_depth_mm\": 21.5, \"flipper_length_mm\": 194.0, \"body_mass_g\": 4200.0, \"sex\": \"Male\", \"isAdelie_bool\": true, \"isAdelie_float\": 1.0, \"Pred\": 0.28588035185656}, {\"species\": \"Adelie\", \"island\": \"Biscoe\", \"bill_length_mm\": 37.8, \"bill_depth_mm\": 18.3, \"flipper_length_mm\": 174.0, \"body_mass_g\": 3400.0, \"sex\": \"Female\", \"isAdelie_bool\": true, \"isAdelie_float\": 1.0, \"Pred\": 0.9091225888710381}, {\"species\": \"Adelie\", \"island\": \"Biscoe\", \"bill_length_mm\": 37.7, \"bill_depth_mm\": 18.7, \"flipper_length_mm\": 180.0, \"body_mass_g\": 3600.0, \"sex\": \"Male\", \"isAdelie_bool\": true, \"isAdelie_float\": 1.0, \"Pred\": 0.9167231039565804}, {\"species\": \"Adelie\", \"island\": \"Biscoe\", \"bill_length_mm\": 35.9, \"bill_depth_mm\": 19.2, \"flipper_length_mm\": 189.0, \"body_mass_g\": 3800.0, \"sex\": \"Female\", \"isAdelie_bool\": true, \"isAdelie_float\": 1.0, \"Pred\": 1.053532375496344}, {\"species\": \"Adelie\", \"island\": \"Biscoe\", \"bill_length_mm\": 38.2, \"bill_depth_mm\": 18.1, \"flipper_length_mm\": 185.0, \"body_mass_g\": 3950.0, \"sex\": \"Male\", \"isAdelie_bool\": true, \"isAdelie_float\": 1.0, \"Pred\": 0.8787205285288682}, {\"species\": \"Adelie\", \"island\": \"Biscoe\", \"bill_length_mm\": 38.8, \"bill_depth_mm\": 17.2, \"flipper_length_mm\": 180.0, \"body_mass_g\": 3800.0, \"sex\": \"Male\", \"isAdelie_bool\": true, \"isAdelie_float\": 1.0, \"Pred\": 0.8331174380156141}, {\"species\": \"Adelie\", \"island\": \"Biscoe\", \"bill_length_mm\": 35.3, \"bill_depth_mm\": 18.9, \"flipper_length_mm\": 187.0, \"body_mass_g\": 3800.0, \"sex\": \"Female\", \"isAdelie_bool\": true, \"isAdelie_float\": 1.0, \"Pred\": 1.0991354660095989}, {\"species\": \"Adelie\", \"island\": \"Biscoe\", \"bill_length_mm\": 40.6, \"bill_depth_mm\": 18.6, \"flipper_length_mm\": 183.0, \"body_mass_g\": 3550.0, \"sex\": \"Male\", \"isAdelie_bool\": true, \"isAdelie_float\": 1.0, \"Pred\": 0.6963081664758501}, {\"species\": \"Adelie\", \"island\": \"Biscoe\", \"bill_length_mm\": 40.5, \"bill_depth_mm\": 17.9, \"flipper_length_mm\": 187.0, \"body_mass_g\": 3200.0, \"sex\": \"Female\", \"isAdelie_bool\": true, \"isAdelie_float\": 1.0, \"Pred\": 0.7039086815613929}, {\"species\": \"Adelie\", \"island\": \"Biscoe\", \"bill_length_mm\": 37.9, \"bill_depth_mm\": 18.6, \"flipper_length_mm\": 172.0, \"body_mass_g\": 3150.0, \"sex\": \"Female\", \"isAdelie_bool\": true, \"isAdelie_float\": 1.0, \"Pred\": 0.9015220737854959}, {\"species\": \"Adelie\", \"island\": \"Biscoe\", \"bill_length_mm\": 40.5, \"bill_depth_mm\": 18.9, \"flipper_length_mm\": 180.0, \"body_mass_g\": 3950.0, \"sex\": \"Male\", \"isAdelie_bool\": true, \"isAdelie_float\": 1.0, \"Pred\": 0.7039086815613929}, {\"species\": \"Adelie\", \"island\": \"Dream\", \"bill_length_mm\": 39.5, \"bill_depth_mm\": 16.7, \"flipper_length_mm\": 178.0, \"body_mass_g\": 3250.0, \"sex\": \"Female\", \"isAdelie_bool\": true, \"isAdelie_float\": 1.0, \"Pred\": 0.7799138324168169}, {\"species\": \"Adelie\", \"island\": \"Dream\", \"bill_length_mm\": 37.2, \"bill_depth_mm\": 18.1, \"flipper_length_mm\": 178.0, \"body_mass_g\": 3900.0, \"sex\": \"Male\", \"isAdelie_bool\": true, \"isAdelie_float\": 1.0, \"Pred\": 0.9547256793842922}, {\"species\": \"Adelie\", \"island\": \"Dream\", \"bill_length_mm\": 39.5, \"bill_depth_mm\": 17.8, \"flipper_length_mm\": 188.0, \"body_mass_g\": 3300.0, \"sex\": \"Female\", \"isAdelie_bool\": true, \"isAdelie_float\": 1.0, \"Pred\": 0.7799138324168169}, {\"species\": \"Adelie\", \"island\": \"Dream\", \"bill_length_mm\": 40.9, \"bill_depth_mm\": 18.9, \"flipper_length_mm\": 184.0, \"body_mass_g\": 3900.0, \"sex\": \"Male\", \"isAdelie_bool\": true, \"isAdelie_float\": 1.0, \"Pred\": 0.6735066212192233}, {\"species\": \"Adelie\", \"island\": \"Dream\", \"bill_length_mm\": 36.4, \"bill_depth_mm\": 17.0, \"flipper_length_mm\": 195.0, \"body_mass_g\": 3325.0, \"sex\": \"Female\", \"isAdelie_bool\": true, \"isAdelie_float\": 1.0, \"Pred\": 1.0155298000686321}, {\"species\": \"Adelie\", \"island\": \"Dream\", \"bill_length_mm\": 39.2, \"bill_depth_mm\": 21.1, \"flipper_length_mm\": 196.0, \"body_mass_g\": 4150.0, \"sex\": \"Male\", \"isAdelie_bool\": true, \"isAdelie_float\": 1.0, \"Pred\": 0.8027153776734441}, {\"species\": \"Adelie\", \"island\": \"Dream\", \"bill_length_mm\": 38.8, \"bill_depth_mm\": 20.0, \"flipper_length_mm\": 190.0, \"body_mass_g\": 3950.0, \"sex\": \"Male\", \"isAdelie_bool\": true, \"isAdelie_float\": 1.0, \"Pred\": 0.8331174380156141}, {\"species\": \"Adelie\", \"island\": \"Dream\", \"bill_length_mm\": 42.2, \"bill_depth_mm\": 18.5, \"flipper_length_mm\": 180.0, \"body_mass_g\": 3550.0, \"sex\": \"Female\", \"isAdelie_bool\": true, \"isAdelie_float\": 1.0, \"Pred\": 0.5746999251071716}, {\"species\": \"Adelie\", \"island\": \"Dream\", \"bill_length_mm\": 37.6, \"bill_depth_mm\": 19.3, \"flipper_length_mm\": 181.0, \"body_mass_g\": 3300.0, \"sex\": \"Female\", \"isAdelie_bool\": true, \"isAdelie_float\": 1.0, \"Pred\": 0.9243236190421227}, {\"species\": \"Adelie\", \"island\": \"Dream\", \"bill_length_mm\": 39.8, \"bill_depth_mm\": 19.1, \"flipper_length_mm\": 184.0, \"body_mass_g\": 4650.0, \"sex\": \"Male\", \"isAdelie_bool\": true, \"isAdelie_float\": 1.0, \"Pred\": 0.7571122871601901}, {\"species\": \"Adelie\", \"island\": \"Dream\", \"bill_length_mm\": 36.5, \"bill_depth_mm\": 18.0, \"flipper_length_mm\": 182.0, \"body_mass_g\": 3150.0, \"sex\": \"Female\", \"isAdelie_bool\": true, \"isAdelie_float\": 1.0, \"Pred\": 1.0079292849830894}, {\"species\": \"Adelie\", \"island\": \"Dream\", \"bill_length_mm\": 40.8, \"bill_depth_mm\": 18.4, \"flipper_length_mm\": 195.0, \"body_mass_g\": 3900.0, \"sex\": \"Male\", \"isAdelie_bool\": true, \"isAdelie_float\": 1.0, \"Pred\": 0.6811071363047656}, {\"species\": \"Adelie\", \"island\": \"Dream\", \"bill_length_mm\": 36.0, \"bill_depth_mm\": 18.5, \"flipper_length_mm\": 186.0, \"body_mass_g\": 3100.0, \"sex\": \"Female\", \"isAdelie_bool\": true, \"isAdelie_float\": 1.0, \"Pred\": 1.0459318604108017}, {\"species\": \"Adelie\", \"island\": \"Dream\", \"bill_length_mm\": 44.1, \"bill_depth_mm\": 19.7, \"flipper_length_mm\": 196.0, \"body_mass_g\": 4400.0, \"sex\": \"Male\", \"isAdelie_bool\": true, \"isAdelie_float\": 1.0, \"Pred\": 0.4302901384818658}, {\"species\": \"Adelie\", \"island\": \"Dream\", \"bill_length_mm\": 37.0, \"bill_depth_mm\": 16.9, \"flipper_length_mm\": 185.0, \"body_mass_g\": 3000.0, \"sex\": \"Female\", \"isAdelie_bool\": true, \"isAdelie_float\": 1.0, \"Pred\": 0.9699267095553772}, {\"species\": \"Adelie\", \"island\": \"Dream\", \"bill_length_mm\": 39.6, \"bill_depth_mm\": 18.8, \"flipper_length_mm\": 190.0, \"body_mass_g\": 4600.0, \"sex\": \"Male\", \"isAdelie_bool\": true, \"isAdelie_float\": 1.0, \"Pred\": 0.7723133173312746}, {\"species\": \"Adelie\", \"island\": \"Dream\", \"bill_length_mm\": 41.1, \"bill_depth_mm\": 19.0, \"flipper_length_mm\": 182.0, \"body_mass_g\": 3425.0, \"sex\": \"Male\", \"isAdelie_bool\": true, \"isAdelie_float\": 1.0, \"Pred\": 0.6583055910481383}, {\"species\": \"Adelie\", \"island\": \"Dream\", \"bill_length_mm\": 36.0, \"bill_depth_mm\": 17.9, \"flipper_length_mm\": 190.0, \"body_mass_g\": 3450.0, \"sex\": \"Female\", \"isAdelie_bool\": true, \"isAdelie_float\": 1.0, \"Pred\": 1.0459318604108017}, {\"species\": \"Adelie\", \"island\": \"Dream\", \"bill_length_mm\": 42.3, \"bill_depth_mm\": 21.2, \"flipper_length_mm\": 191.0, \"body_mass_g\": 4150.0, \"sex\": \"Male\", \"isAdelie_bool\": true, \"isAdelie_float\": 1.0, \"Pred\": 0.5670994100216293}, {\"species\": \"Adelie\", \"island\": \"Biscoe\", \"bill_length_mm\": 39.6, \"bill_depth_mm\": 17.7, \"flipper_length_mm\": 186.0, \"body_mass_g\": 3500.0, \"sex\": \"Female\", \"isAdelie_bool\": true, \"isAdelie_float\": 1.0, \"Pred\": 0.7723133173312746}, {\"species\": \"Adelie\", \"island\": \"Biscoe\", \"bill_length_mm\": 40.1, \"bill_depth_mm\": 18.9, \"flipper_length_mm\": 188.0, \"body_mass_g\": 4300.0, \"sex\": \"Male\", \"isAdelie_bool\": true, \"isAdelie_float\": 1.0, \"Pred\": 0.7343107419035624}, {\"species\": \"Adelie\", \"island\": \"Biscoe\", \"bill_length_mm\": 35.0, \"bill_depth_mm\": 17.9, \"flipper_length_mm\": 190.0, \"body_mass_g\": 3450.0, \"sex\": \"Female\", \"isAdelie_bool\": true, \"isAdelie_float\": 1.0, \"Pred\": 1.1219370112662257}, {\"species\": \"Adelie\", \"island\": \"Biscoe\", \"bill_length_mm\": 42.0, \"bill_depth_mm\": 19.5, \"flipper_length_mm\": 200.0, \"body_mass_g\": 4050.0, \"sex\": \"Male\", \"isAdelie_bool\": true, \"isAdelie_float\": 1.0, \"Pred\": 0.5899009552782566}, {\"species\": \"Adelie\", \"island\": \"Biscoe\", \"bill_length_mm\": 34.5, \"bill_depth_mm\": 18.1, \"flipper_length_mm\": 187.0, \"body_mass_g\": 2900.0, \"sex\": \"Female\", \"isAdelie_bool\": true, \"isAdelie_float\": 1.0, \"Pred\": 1.159939586693938}, {\"species\": \"Adelie\", \"island\": \"Biscoe\", \"bill_length_mm\": 41.4, \"bill_depth_mm\": 18.6, \"flipper_length_mm\": 191.0, \"body_mass_g\": 3700.0, \"sex\": \"Male\", \"isAdelie_bool\": true, \"isAdelie_float\": 1.0, \"Pred\": 0.6355040457915111}, {\"species\": \"Adelie\", \"island\": \"Biscoe\", \"bill_length_mm\": 39.0, \"bill_depth_mm\": 17.5, \"flipper_length_mm\": 186.0, \"body_mass_g\": 3550.0, \"sex\": \"Female\", \"isAdelie_bool\": true, \"isAdelie_float\": 1.0, \"Pred\": 0.8179164078445291}, {\"species\": \"Adelie\", \"island\": \"Biscoe\", \"bill_length_mm\": 40.6, \"bill_depth_mm\": 18.8, \"flipper_length_mm\": 193.0, \"body_mass_g\": 3800.0, \"sex\": \"Male\", \"isAdelie_bool\": true, \"isAdelie_float\": 1.0, \"Pred\": 0.6963081664758501}, {\"species\": \"Adelie\", \"island\": \"Biscoe\", \"bill_length_mm\": 36.5, \"bill_depth_mm\": 16.6, \"flipper_length_mm\": 181.0, \"body_mass_g\": 2850.0, \"sex\": \"Female\", \"isAdelie_bool\": true, \"isAdelie_float\": 1.0, \"Pred\": 1.0079292849830894}, {\"species\": \"Adelie\", \"island\": \"Biscoe\", \"bill_length_mm\": 37.6, \"bill_depth_mm\": 19.1, \"flipper_length_mm\": 194.0, \"body_mass_g\": 3750.0, \"sex\": \"Male\", \"isAdelie_bool\": true, \"isAdelie_float\": 1.0, \"Pred\": 0.9243236190421227}, {\"species\": \"Adelie\", \"island\": \"Biscoe\", \"bill_length_mm\": 35.7, \"bill_depth_mm\": 16.9, \"flipper_length_mm\": 185.0, \"body_mass_g\": 3150.0, \"sex\": \"Female\", \"isAdelie_bool\": true, \"isAdelie_float\": 1.0, \"Pred\": 1.0687334056674285}, {\"species\": \"Adelie\", \"island\": \"Biscoe\", \"bill_length_mm\": 41.3, \"bill_depth_mm\": 21.1, \"flipper_length_mm\": 195.0, \"body_mass_g\": 4400.0, \"sex\": \"Male\", \"isAdelie_bool\": true, \"isAdelie_float\": 1.0, \"Pred\": 0.6431045608770538}, {\"species\": \"Adelie\", \"island\": \"Biscoe\", \"bill_length_mm\": 37.6, \"bill_depth_mm\": 17.0, \"flipper_length_mm\": 185.0, \"body_mass_g\": 3600.0, \"sex\": \"Female\", \"isAdelie_bool\": true, \"isAdelie_float\": 1.0, \"Pred\": 0.9243236190421227}, {\"species\": \"Adelie\", \"island\": \"Biscoe\", \"bill_length_mm\": 41.1, \"bill_depth_mm\": 18.2, \"flipper_length_mm\": 192.0, \"body_mass_g\": 4050.0, \"sex\": \"Male\", \"isAdelie_bool\": true, \"isAdelie_float\": 1.0, \"Pred\": 0.6583055910481383}, {\"species\": \"Adelie\", \"island\": \"Biscoe\", \"bill_length_mm\": 36.4, \"bill_depth_mm\": 17.1, \"flipper_length_mm\": 184.0, \"body_mass_g\": 2850.0, \"sex\": \"Female\", \"isAdelie_bool\": true, \"isAdelie_float\": 1.0, \"Pred\": 1.0155298000686321}, {\"species\": \"Adelie\", \"island\": \"Biscoe\", \"bill_length_mm\": 41.6, \"bill_depth_mm\": 18.0, \"flipper_length_mm\": 192.0, \"body_mass_g\": 3950.0, \"sex\": \"Male\", \"isAdelie_bool\": true, \"isAdelie_float\": 1.0, \"Pred\": 0.6203030156204261}, {\"species\": \"Adelie\", \"island\": \"Biscoe\", \"bill_length_mm\": 35.5, \"bill_depth_mm\": 16.2, \"flipper_length_mm\": 195.0, \"body_mass_g\": 3350.0, \"sex\": \"Female\", \"isAdelie_bool\": true, \"isAdelie_float\": 1.0, \"Pred\": 1.0839344358385135}, {\"species\": \"Adelie\", \"island\": \"Biscoe\", \"bill_length_mm\": 41.1, \"bill_depth_mm\": 19.1, \"flipper_length_mm\": 188.0, \"body_mass_g\": 4100.0, \"sex\": \"Male\", \"isAdelie_bool\": true, \"isAdelie_float\": 1.0, \"Pred\": 0.6583055910481383}, {\"species\": \"Adelie\", \"island\": \"Torgersen\", \"bill_length_mm\": 35.9, \"bill_depth_mm\": 16.6, \"flipper_length_mm\": 190.0, \"body_mass_g\": 3050.0, \"sex\": \"Female\", \"isAdelie_bool\": true, \"isAdelie_float\": 1.0, \"Pred\": 1.053532375496344}, {\"species\": \"Adelie\", \"island\": \"Torgersen\", \"bill_length_mm\": 41.8, \"bill_depth_mm\": 19.4, \"flipper_length_mm\": 198.0, \"body_mass_g\": 4450.0, \"sex\": \"Male\", \"isAdelie_bool\": true, \"isAdelie_float\": 1.0, \"Pred\": 0.6051019854493416}, {\"species\": \"Adelie\", \"island\": \"Torgersen\", \"bill_length_mm\": 33.5, \"bill_depth_mm\": 19.0, \"flipper_length_mm\": 190.0, \"body_mass_g\": 3600.0, \"sex\": \"Female\", \"isAdelie_bool\": true, \"isAdelie_float\": 1.0, \"Pred\": 1.235944737549362}, {\"species\": \"Adelie\", \"island\": \"Torgersen\", \"bill_length_mm\": 39.7, \"bill_depth_mm\": 18.4, \"flipper_length_mm\": 190.0, \"body_mass_g\": 3900.0, \"sex\": \"Male\", \"isAdelie_bool\": true, \"isAdelie_float\": 1.0, \"Pred\": 0.7647128022457319}, {\"species\": \"Adelie\", \"island\": \"Torgersen\", \"bill_length_mm\": 39.6, \"bill_depth_mm\": 17.2, \"flipper_length_mm\": 196.0, \"body_mass_g\": 3550.0, \"sex\": \"Female\", \"isAdelie_bool\": true, \"isAdelie_float\": 1.0, \"Pred\": 0.7723133173312746}, {\"species\": \"Adelie\", \"island\": \"Torgersen\", \"bill_length_mm\": 45.8, \"bill_depth_mm\": 18.9, \"flipper_length_mm\": 197.0, \"body_mass_g\": 4150.0, \"sex\": \"Male\", \"isAdelie_bool\": true, \"isAdelie_float\": 1.0, \"Pred\": 0.301081382027645}, {\"species\": \"Adelie\", \"island\": \"Torgersen\", \"bill_length_mm\": 35.5, \"bill_depth_mm\": 17.5, \"flipper_length_mm\": 190.0, \"body_mass_g\": 3700.0, \"sex\": \"Female\", \"isAdelie_bool\": true, \"isAdelie_float\": 1.0, \"Pred\": 1.0839344358385135}, {\"species\": \"Adelie\", \"island\": \"Torgersen\", \"bill_length_mm\": 42.8, \"bill_depth_mm\": 18.5, \"flipper_length_mm\": 195.0, \"body_mass_g\": 4250.0, \"sex\": \"Male\", \"isAdelie_bool\": true, \"isAdelie_float\": 1.0, \"Pred\": 0.5290968345939175}, {\"species\": \"Adelie\", \"island\": \"Torgersen\", \"bill_length_mm\": 40.9, \"bill_depth_mm\": 16.8, \"flipper_length_mm\": 191.0, \"body_mass_g\": 3700.0, \"sex\": \"Female\", \"isAdelie_bool\": true, \"isAdelie_float\": 1.0, \"Pred\": 0.6735066212192233}, {\"species\": \"Adelie\", \"island\": \"Torgersen\", \"bill_length_mm\": 37.2, \"bill_depth_mm\": 19.4, \"flipper_length_mm\": 184.0, \"body_mass_g\": 3900.0, \"sex\": \"Male\", \"isAdelie_bool\": true, \"isAdelie_float\": 1.0, \"Pred\": 0.9547256793842922}, {\"species\": \"Adelie\", \"island\": \"Torgersen\", \"bill_length_mm\": 36.2, \"bill_depth_mm\": 16.1, \"flipper_length_mm\": 187.0, \"body_mass_g\": 3550.0, \"sex\": \"Female\", \"isAdelie_bool\": true, \"isAdelie_float\": 1.0, \"Pred\": 1.0307308302397167}, {\"species\": \"Adelie\", \"island\": \"Torgersen\", \"bill_length_mm\": 42.1, \"bill_depth_mm\": 19.1, \"flipper_length_mm\": 195.0, \"body_mass_g\": 4000.0, \"sex\": \"Male\", \"isAdelie_bool\": true, \"isAdelie_float\": 1.0, \"Pred\": 0.5823004401927139}, {\"species\": \"Adelie\", \"island\": \"Torgersen\", \"bill_length_mm\": 34.6, \"bill_depth_mm\": 17.2, \"flipper_length_mm\": 189.0, \"body_mass_g\": 3200.0, \"sex\": \"Female\", \"isAdelie_bool\": true, \"isAdelie_float\": 1.0, \"Pred\": 1.1523390716083952}, {\"species\": \"Adelie\", \"island\": \"Torgersen\", \"bill_length_mm\": 42.9, \"bill_depth_mm\": 17.6, \"flipper_length_mm\": 196.0, \"body_mass_g\": 4700.0, \"sex\": \"Male\", \"isAdelie_bool\": true, \"isAdelie_float\": 1.0, \"Pred\": 0.5214963195083748}, {\"species\": \"Adelie\", \"island\": \"Torgersen\", \"bill_length_mm\": 36.7, \"bill_depth_mm\": 18.8, \"flipper_length_mm\": 187.0, \"body_mass_g\": 3800.0, \"sex\": \"Female\", \"isAdelie_bool\": true, \"isAdelie_float\": 1.0, \"Pred\": 0.9927282548120044}, {\"species\": \"Adelie\", \"island\": \"Torgersen\", \"bill_length_mm\": 35.1, \"bill_depth_mm\": 19.4, \"flipper_length_mm\": 193.0, \"body_mass_g\": 4200.0, \"sex\": \"Male\", \"isAdelie_bool\": true, \"isAdelie_float\": 1.0, \"Pred\": 1.114336496180683}, {\"species\": \"Adelie\", \"island\": \"Dream\", \"bill_length_mm\": 37.3, \"bill_depth_mm\": 17.8, \"flipper_length_mm\": 191.0, \"body_mass_g\": 3350.0, \"sex\": \"Female\", \"isAdelie_bool\": true, \"isAdelie_float\": 1.0, \"Pred\": 0.9471251642987504}, {\"species\": \"Adelie\", \"island\": \"Dream\", \"bill_length_mm\": 41.3, \"bill_depth_mm\": 20.3, \"flipper_length_mm\": 194.0, \"body_mass_g\": 3550.0, \"sex\": \"Male\", \"isAdelie_bool\": true, \"isAdelie_float\": 1.0, \"Pred\": 0.6431045608770538}, {\"species\": \"Adelie\", \"island\": \"Dream\", \"bill_length_mm\": 36.3, \"bill_depth_mm\": 19.5, \"flipper_length_mm\": 190.0, \"body_mass_g\": 3800.0, \"sex\": \"Male\", \"isAdelie_bool\": true, \"isAdelie_float\": 1.0, \"Pred\": 1.0231303151541744}, {\"species\": \"Adelie\", \"island\": \"Dream\", \"bill_length_mm\": 36.9, \"bill_depth_mm\": 18.6, \"flipper_length_mm\": 189.0, \"body_mass_g\": 3500.0, \"sex\": \"Female\", \"isAdelie_bool\": true, \"isAdelie_float\": 1.0, \"Pred\": 0.9775272246409199}, {\"species\": \"Adelie\", \"island\": \"Dream\", \"bill_length_mm\": 38.3, \"bill_depth_mm\": 19.2, \"flipper_length_mm\": 189.0, \"body_mass_g\": 3950.0, \"sex\": \"Male\", \"isAdelie_bool\": true, \"isAdelie_float\": 1.0, \"Pred\": 0.8711200134433263}, {\"species\": \"Adelie\", \"island\": \"Dream\", \"bill_length_mm\": 38.9, \"bill_depth_mm\": 18.8, \"flipper_length_mm\": 190.0, \"body_mass_g\": 3600.0, \"sex\": \"Female\", \"isAdelie_bool\": true, \"isAdelie_float\": 1.0, \"Pred\": 0.8255169229300714}, {\"species\": \"Adelie\", \"island\": \"Dream\", \"bill_length_mm\": 35.7, \"bill_depth_mm\": 18.0, \"flipper_length_mm\": 202.0, \"body_mass_g\": 3550.0, \"sex\": \"Female\", \"isAdelie_bool\": true, \"isAdelie_float\": 1.0, \"Pred\": 1.0687334056674285}, {\"species\": \"Adelie\", \"island\": \"Dream\", \"bill_length_mm\": 41.1, \"bill_depth_mm\": 18.1, \"flipper_length_mm\": 205.0, \"body_mass_g\": 4300.0, \"sex\": \"Male\", \"isAdelie_bool\": true, \"isAdelie_float\": 1.0, \"Pred\": 0.6583055910481383}, {\"species\": \"Adelie\", \"island\": \"Dream\", \"bill_length_mm\": 34.0, \"bill_depth_mm\": 17.1, \"flipper_length_mm\": 185.0, \"body_mass_g\": 3400.0, \"sex\": \"Female\", \"isAdelie_bool\": true, \"isAdelie_float\": 1.0, \"Pred\": 1.1979421621216497}, {\"species\": \"Adelie\", \"island\": \"Dream\", \"bill_length_mm\": 39.6, \"bill_depth_mm\": 18.1, \"flipper_length_mm\": 186.0, \"body_mass_g\": 4450.0, \"sex\": \"Male\", \"isAdelie_bool\": true, \"isAdelie_float\": 1.0, \"Pred\": 0.7723133173312746}, {\"species\": \"Adelie\", \"island\": \"Dream\", \"bill_length_mm\": 36.2, \"bill_depth_mm\": 17.3, \"flipper_length_mm\": 187.0, \"body_mass_g\": 3300.0, \"sex\": \"Female\", \"isAdelie_bool\": true, \"isAdelie_float\": 1.0, \"Pred\": 1.0307308302397167}, {\"species\": \"Adelie\", \"island\": \"Dream\", \"bill_length_mm\": 40.8, \"bill_depth_mm\": 18.9, \"flipper_length_mm\": 208.0, \"body_mass_g\": 4300.0, \"sex\": \"Male\", \"isAdelie_bool\": true, \"isAdelie_float\": 1.0, \"Pred\": 0.6811071363047656}, {\"species\": \"Adelie\", \"island\": \"Dream\", \"bill_length_mm\": 38.1, \"bill_depth_mm\": 18.6, \"flipper_length_mm\": 190.0, \"body_mass_g\": 3700.0, \"sex\": \"Female\", \"isAdelie_bool\": true, \"isAdelie_float\": 1.0, \"Pred\": 0.8863210436144109}, {\"species\": \"Adelie\", \"island\": \"Dream\", \"bill_length_mm\": 40.3, \"bill_depth_mm\": 18.5, \"flipper_length_mm\": 196.0, \"body_mass_g\": 4350.0, \"sex\": \"Male\", \"isAdelie_bool\": true, \"isAdelie_float\": 1.0, \"Pred\": 0.7191097117324778}, {\"species\": \"Adelie\", \"island\": \"Dream\", \"bill_length_mm\": 33.1, \"bill_depth_mm\": 16.1, \"flipper_length_mm\": 178.0, \"body_mass_g\": 2900.0, \"sex\": \"Female\", \"isAdelie_bool\": true, \"isAdelie_float\": 1.0, \"Pred\": 1.2663467978915315}, {\"species\": \"Adelie\", \"island\": \"Dream\", \"bill_length_mm\": 43.2, \"bill_depth_mm\": 18.5, \"flipper_length_mm\": 192.0, \"body_mass_g\": 4100.0, \"sex\": \"Male\", \"isAdelie_bool\": true, \"isAdelie_float\": 1.0, \"Pred\": 0.49869477425174713}, {\"species\": \"Adelie\", \"island\": \"Biscoe\", \"bill_length_mm\": 35.0, \"bill_depth_mm\": 17.9, \"flipper_length_mm\": 192.0, \"body_mass_g\": 3725.0, \"sex\": \"Female\", \"isAdelie_bool\": true, \"isAdelie_float\": 1.0, \"Pred\": 1.1219370112662257}, {\"species\": \"Adelie\", \"island\": \"Biscoe\", \"bill_length_mm\": 41.0, \"bill_depth_mm\": 20.0, \"flipper_length_mm\": 203.0, \"body_mass_g\": 4725.0, \"sex\": \"Male\", \"isAdelie_bool\": true, \"isAdelie_float\": 1.0, \"Pred\": 0.6659061061336806}, {\"species\": \"Adelie\", \"island\": \"Biscoe\", \"bill_length_mm\": 37.7, \"bill_depth_mm\": 16.0, \"flipper_length_mm\": 183.0, \"body_mass_g\": 3075.0, \"sex\": \"Female\", \"isAdelie_bool\": true, \"isAdelie_float\": 1.0, \"Pred\": 0.9167231039565804}, {\"species\": \"Adelie\", \"island\": \"Biscoe\", \"bill_length_mm\": 37.8, \"bill_depth_mm\": 20.0, \"flipper_length_mm\": 190.0, \"body_mass_g\": 4250.0, \"sex\": \"Male\", \"isAdelie_bool\": true, \"isAdelie_float\": 1.0, \"Pred\": 0.9091225888710381}, {\"species\": \"Adelie\", \"island\": \"Biscoe\", \"bill_length_mm\": 37.9, \"bill_depth_mm\": 18.6, \"flipper_length_mm\": 193.0, \"body_mass_g\": 2925.0, \"sex\": \"Female\", \"isAdelie_bool\": true, \"isAdelie_float\": 1.0, \"Pred\": 0.9015220737854959}, {\"species\": \"Adelie\", \"island\": \"Biscoe\", \"bill_length_mm\": 39.7, \"bill_depth_mm\": 18.9, \"flipper_length_mm\": 184.0, \"body_mass_g\": 3550.0, \"sex\": \"Male\", \"isAdelie_bool\": true, \"isAdelie_float\": 1.0, \"Pred\": 0.7647128022457319}, {\"species\": \"Adelie\", \"island\": \"Biscoe\", \"bill_length_mm\": 38.6, \"bill_depth_mm\": 17.2, \"flipper_length_mm\": 199.0, \"body_mass_g\": 3750.0, \"sex\": \"Female\", \"isAdelie_bool\": true, \"isAdelie_float\": 1.0, \"Pred\": 0.8483184681866986}, {\"species\": \"Adelie\", \"island\": \"Biscoe\", \"bill_length_mm\": 38.2, \"bill_depth_mm\": 20.0, \"flipper_length_mm\": 190.0, \"body_mass_g\": 3900.0, \"sex\": \"Male\", \"isAdelie_bool\": true, \"isAdelie_float\": 1.0, \"Pred\": 0.8787205285288682}, {\"species\": \"Adelie\", \"island\": \"Biscoe\", \"bill_length_mm\": 38.1, \"bill_depth_mm\": 17.0, \"flipper_length_mm\": 181.0, \"body_mass_g\": 3175.0, \"sex\": \"Female\", \"isAdelie_bool\": true, \"isAdelie_float\": 1.0, \"Pred\": 0.8863210436144109}, {\"species\": \"Adelie\", \"island\": \"Biscoe\", \"bill_length_mm\": 43.2, \"bill_depth_mm\": 19.0, \"flipper_length_mm\": 197.0, \"body_mass_g\": 4775.0, \"sex\": \"Male\", \"isAdelie_bool\": true, \"isAdelie_float\": 1.0, \"Pred\": 0.49869477425174713}, {\"species\": \"Adelie\", \"island\": \"Biscoe\", \"bill_length_mm\": 38.1, \"bill_depth_mm\": 16.5, \"flipper_length_mm\": 198.0, \"body_mass_g\": 3825.0, \"sex\": \"Female\", \"isAdelie_bool\": true, \"isAdelie_float\": 1.0, \"Pred\": 0.8863210436144109}, {\"species\": \"Adelie\", \"island\": \"Biscoe\", \"bill_length_mm\": 45.6, \"bill_depth_mm\": 20.3, \"flipper_length_mm\": 191.0, \"body_mass_g\": 4600.0, \"sex\": \"Male\", \"isAdelie_bool\": true, \"isAdelie_float\": 1.0, \"Pred\": 0.31628241219872955}, {\"species\": \"Adelie\", \"island\": \"Biscoe\", \"bill_length_mm\": 39.7, \"bill_depth_mm\": 17.7, \"flipper_length_mm\": 193.0, \"body_mass_g\": 3200.0, \"sex\": \"Female\", \"isAdelie_bool\": true, \"isAdelie_float\": 1.0, \"Pred\": 0.7647128022457319}, {\"species\": \"Adelie\", \"island\": \"Biscoe\", \"bill_length_mm\": 42.2, \"bill_depth_mm\": 19.5, \"flipper_length_mm\": 197.0, \"body_mass_g\": 4275.0, \"sex\": \"Male\", \"isAdelie_bool\": true, \"isAdelie_float\": 1.0, \"Pred\": 0.5746999251071716}, {\"species\": \"Adelie\", \"island\": \"Biscoe\", \"bill_length_mm\": 39.6, \"bill_depth_mm\": 20.7, \"flipper_length_mm\": 191.0, \"body_mass_g\": 3900.0, \"sex\": \"Female\", \"isAdelie_bool\": true, \"isAdelie_float\": 1.0, \"Pred\": 0.7723133173312746}, {\"species\": \"Adelie\", \"island\": \"Biscoe\", \"bill_length_mm\": 42.7, \"bill_depth_mm\": 18.3, \"flipper_length_mm\": 196.0, \"body_mass_g\": 4075.0, \"sex\": \"Male\", \"isAdelie_bool\": true, \"isAdelie_float\": 1.0, \"Pred\": 0.5366973496794594}, {\"species\": \"Adelie\", \"island\": \"Torgersen\", \"bill_length_mm\": 38.6, \"bill_depth_mm\": 17.0, \"flipper_length_mm\": 188.0, \"body_mass_g\": 2900.0, \"sex\": \"Female\", \"isAdelie_bool\": true, \"isAdelie_float\": 1.0, \"Pred\": 0.8483184681866986}, {\"species\": \"Adelie\", \"island\": \"Torgersen\", \"bill_length_mm\": 37.3, \"bill_depth_mm\": 20.5, \"flipper_length_mm\": 199.0, \"body_mass_g\": 3775.0, \"sex\": \"Male\", \"isAdelie_bool\": true, \"isAdelie_float\": 1.0, \"Pred\": 0.9471251642987504}, {\"species\": \"Adelie\", \"island\": \"Torgersen\", \"bill_length_mm\": 35.7, \"bill_depth_mm\": 17.0, \"flipper_length_mm\": 189.0, \"body_mass_g\": 3350.0, \"sex\": \"Female\", \"isAdelie_bool\": true, \"isAdelie_float\": 1.0, \"Pred\": 1.0687334056674285}, {\"species\": \"Adelie\", \"island\": \"Torgersen\", \"bill_length_mm\": 41.1, \"bill_depth_mm\": 18.6, \"flipper_length_mm\": 189.0, \"body_mass_g\": 3325.0, \"sex\": \"Male\", \"isAdelie_bool\": true, \"isAdelie_float\": 1.0, \"Pred\": 0.6583055910481383}, {\"species\": \"Adelie\", \"island\": \"Torgersen\", \"bill_length_mm\": 36.2, \"bill_depth_mm\": 17.2, \"flipper_length_mm\": 187.0, \"body_mass_g\": 3150.0, \"sex\": \"Female\", \"isAdelie_bool\": true, \"isAdelie_float\": 1.0, \"Pred\": 1.0307308302397167}, {\"species\": \"Adelie\", \"island\": \"Torgersen\", \"bill_length_mm\": 37.7, \"bill_depth_mm\": 19.8, \"flipper_length_mm\": 198.0, \"body_mass_g\": 3500.0, \"sex\": \"Male\", \"isAdelie_bool\": true, \"isAdelie_float\": 1.0, \"Pred\": 0.9167231039565804}, {\"species\": \"Adelie\", \"island\": \"Torgersen\", \"bill_length_mm\": 40.2, \"bill_depth_mm\": 17.0, \"flipper_length_mm\": 176.0, \"body_mass_g\": 3450.0, \"sex\": \"Female\", \"isAdelie_bool\": true, \"isAdelie_float\": 1.0, \"Pred\": 0.7267102268180197}, {\"species\": \"Adelie\", \"island\": \"Torgersen\", \"bill_length_mm\": 41.4, \"bill_depth_mm\": 18.5, \"flipper_length_mm\": 202.0, \"body_mass_g\": 3875.0, \"sex\": \"Male\", \"isAdelie_bool\": true, \"isAdelie_float\": 1.0, \"Pred\": 0.6355040457915111}, {\"species\": \"Adelie\", \"island\": \"Torgersen\", \"bill_length_mm\": 35.2, \"bill_depth_mm\": 15.9, \"flipper_length_mm\": 186.0, \"body_mass_g\": 3050.0, \"sex\": \"Female\", \"isAdelie_bool\": true, \"isAdelie_float\": 1.0, \"Pred\": 1.1067359810951407}, {\"species\": \"Adelie\", \"island\": \"Torgersen\", \"bill_length_mm\": 40.6, \"bill_depth_mm\": 19.0, \"flipper_length_mm\": 199.0, \"body_mass_g\": 4000.0, \"sex\": \"Male\", \"isAdelie_bool\": true, \"isAdelie_float\": 1.0, \"Pred\": 0.6963081664758501}, {\"species\": \"Adelie\", \"island\": \"Torgersen\", \"bill_length_mm\": 38.8, \"bill_depth_mm\": 17.6, \"flipper_length_mm\": 191.0, \"body_mass_g\": 3275.0, \"sex\": \"Female\", \"isAdelie_bool\": true, \"isAdelie_float\": 1.0, \"Pred\": 0.8331174380156141}, {\"species\": \"Adelie\", \"island\": \"Torgersen\", \"bill_length_mm\": 41.5, \"bill_depth_mm\": 18.3, \"flipper_length_mm\": 195.0, \"body_mass_g\": 4300.0, \"sex\": \"Male\", \"isAdelie_bool\": true, \"isAdelie_float\": 1.0, \"Pred\": 0.6279035307059688}, {\"species\": \"Adelie\", \"island\": \"Torgersen\", \"bill_length_mm\": 39.0, \"bill_depth_mm\": 17.1, \"flipper_length_mm\": 191.0, \"body_mass_g\": 3050.0, \"sex\": \"Female\", \"isAdelie_bool\": true, \"isAdelie_float\": 1.0, \"Pred\": 0.8179164078445291}, {\"species\": \"Adelie\", \"island\": \"Torgersen\", \"bill_length_mm\": 44.1, \"bill_depth_mm\": 18.0, \"flipper_length_mm\": 210.0, \"body_mass_g\": 4000.0, \"sex\": \"Male\", \"isAdelie_bool\": true, \"isAdelie_float\": 1.0, \"Pred\": 0.4302901384818658}, {\"species\": \"Adelie\", \"island\": \"Torgersen\", \"bill_length_mm\": 38.5, \"bill_depth_mm\": 17.9, \"flipper_length_mm\": 190.0, \"body_mass_g\": 3325.0, \"sex\": \"Female\", \"isAdelie_bool\": true, \"isAdelie_float\": 1.0, \"Pred\": 0.8559189832722409}, {\"species\": \"Adelie\", \"island\": \"Torgersen\", \"bill_length_mm\": 43.1, \"bill_depth_mm\": 19.2, \"flipper_length_mm\": 197.0, \"body_mass_g\": 3500.0, \"sex\": \"Male\", \"isAdelie_bool\": true, \"isAdelie_float\": 1.0, \"Pred\": 0.5062952893372898}, {\"species\": \"Adelie\", \"island\": \"Dream\", \"bill_length_mm\": 36.8, \"bill_depth_mm\": 18.5, \"flipper_length_mm\": 193.0, \"body_mass_g\": 3500.0, \"sex\": \"Female\", \"isAdelie_bool\": true, \"isAdelie_float\": 1.0, \"Pred\": 0.9851277397264626}, {\"species\": \"Adelie\", \"island\": \"Dream\", \"bill_length_mm\": 37.5, \"bill_depth_mm\": 18.5, \"flipper_length_mm\": 199.0, \"body_mass_g\": 4475.0, \"sex\": \"Male\", \"isAdelie_bool\": true, \"isAdelie_float\": 1.0, \"Pred\": 0.9319241341276654}, {\"species\": \"Adelie\", \"island\": \"Dream\", \"bill_length_mm\": 38.1, \"bill_depth_mm\": 17.6, \"flipper_length_mm\": 187.0, \"body_mass_g\": 3425.0, \"sex\": \"Female\", \"isAdelie_bool\": true, \"isAdelie_float\": 1.0, \"Pred\": 0.8863210436144109}, {\"species\": \"Adelie\", \"island\": \"Dream\", \"bill_length_mm\": 41.1, \"bill_depth_mm\": 17.5, \"flipper_length_mm\": 190.0, \"body_mass_g\": 3900.0, \"sex\": \"Male\", \"isAdelie_bool\": true, \"isAdelie_float\": 1.0, \"Pred\": 0.6583055910481383}, {\"species\": \"Adelie\", \"island\": \"Dream\", \"bill_length_mm\": 35.6, \"bill_depth_mm\": 17.5, \"flipper_length_mm\": 191.0, \"body_mass_g\": 3175.0, \"sex\": \"Female\", \"isAdelie_bool\": true, \"isAdelie_float\": 1.0, \"Pred\": 1.0763339207529712}, {\"species\": \"Adelie\", \"island\": \"Dream\", \"bill_length_mm\": 40.2, \"bill_depth_mm\": 20.1, \"flipper_length_mm\": 200.0, \"body_mass_g\": 3975.0, \"sex\": \"Male\", \"isAdelie_bool\": true, \"isAdelie_float\": 1.0, \"Pred\": 0.7267102268180197}, {\"species\": \"Adelie\", \"island\": \"Dream\", \"bill_length_mm\": 37.0, \"bill_depth_mm\": 16.5, \"flipper_length_mm\": 185.0, \"body_mass_g\": 3400.0, \"sex\": \"Female\", \"isAdelie_bool\": true, \"isAdelie_float\": 1.0, \"Pred\": 0.9699267095553772}, {\"species\": \"Adelie\", \"island\": \"Dream\", \"bill_length_mm\": 39.7, \"bill_depth_mm\": 17.9, \"flipper_length_mm\": 193.0, \"body_mass_g\": 4250.0, \"sex\": \"Male\", \"isAdelie_bool\": true, \"isAdelie_float\": 1.0, \"Pred\": 0.7647128022457319}, {\"species\": \"Adelie\", \"island\": \"Dream\", \"bill_length_mm\": 40.2, \"bill_depth_mm\": 17.1, \"flipper_length_mm\": 193.0, \"body_mass_g\": 3400.0, \"sex\": \"Female\", \"isAdelie_bool\": true, \"isAdelie_float\": 1.0, \"Pred\": 0.7267102268180197}, {\"species\": \"Adelie\", \"island\": \"Dream\", \"bill_length_mm\": 40.6, \"bill_depth_mm\": 17.2, \"flipper_length_mm\": 187.0, \"body_mass_g\": 3475.0, \"sex\": \"Male\", \"isAdelie_bool\": true, \"isAdelie_float\": 1.0, \"Pred\": 0.6963081664758501}, {\"species\": \"Adelie\", \"island\": \"Dream\", \"bill_length_mm\": 32.1, \"bill_depth_mm\": 15.5, \"flipper_length_mm\": 188.0, \"body_mass_g\": 3050.0, \"sex\": \"Female\", \"isAdelie_bool\": true, \"isAdelie_float\": 1.0, \"Pred\": 1.3423519487469555}, {\"species\": \"Adelie\", \"island\": \"Dream\", \"bill_length_mm\": 40.7, \"bill_depth_mm\": 17.0, \"flipper_length_mm\": 190.0, \"body_mass_g\": 3725.0, \"sex\": \"Male\", \"isAdelie_bool\": true, \"isAdelie_float\": 1.0, \"Pred\": 0.6887076513903079}, {\"species\": \"Adelie\", \"island\": \"Dream\", \"bill_length_mm\": 37.3, \"bill_depth_mm\": 16.8, \"flipper_length_mm\": 192.0, \"body_mass_g\": 3000.0, \"sex\": \"Female\", \"isAdelie_bool\": true, \"isAdelie_float\": 1.0, \"Pred\": 0.9471251642987504}, {\"species\": \"Adelie\", \"island\": \"Dream\", \"bill_length_mm\": 39.0, \"bill_depth_mm\": 18.7, \"flipper_length_mm\": 185.0, \"body_mass_g\": 3650.0, \"sex\": \"Male\", \"isAdelie_bool\": true, \"isAdelie_float\": 1.0, \"Pred\": 0.8179164078445291}, {\"species\": \"Adelie\", \"island\": \"Dream\", \"bill_length_mm\": 39.2, \"bill_depth_mm\": 18.6, \"flipper_length_mm\": 190.0, \"body_mass_g\": 4250.0, \"sex\": \"Male\", \"isAdelie_bool\": true, \"isAdelie_float\": 1.0, \"Pred\": 0.8027153776734441}, {\"species\": \"Adelie\", \"island\": \"Dream\", \"bill_length_mm\": 36.6, \"bill_depth_mm\": 18.4, \"flipper_length_mm\": 184.0, \"body_mass_g\": 3475.0, \"sex\": \"Female\", \"isAdelie_bool\": true, \"isAdelie_float\": 1.0, \"Pred\": 1.0003287698975472}, {\"species\": \"Adelie\", \"island\": \"Dream\", \"bill_length_mm\": 36.0, \"bill_depth_mm\": 17.8, \"flipper_length_mm\": 195.0, \"body_mass_g\": 3450.0, \"sex\": \"Female\", \"isAdelie_bool\": true, \"isAdelie_float\": 1.0, \"Pred\": 1.0459318604108017}, {\"species\": \"Adelie\", \"island\": \"Dream\", \"bill_length_mm\": 37.8, \"bill_depth_mm\": 18.1, \"flipper_length_mm\": 193.0, \"body_mass_g\": 3750.0, \"sex\": \"Male\", \"isAdelie_bool\": true, \"isAdelie_float\": 1.0, \"Pred\": 0.9091225888710381}, {\"species\": \"Adelie\", \"island\": \"Dream\", \"bill_length_mm\": 36.0, \"bill_depth_mm\": 17.1, \"flipper_length_mm\": 187.0, \"body_mass_g\": 3700.0, \"sex\": \"Female\", \"isAdelie_bool\": true, \"isAdelie_float\": 1.0, \"Pred\": 1.0459318604108017}, {\"species\": \"Adelie\", \"island\": \"Dream\", \"bill_length_mm\": 41.5, \"bill_depth_mm\": 18.5, \"flipper_length_mm\": 201.0, \"body_mass_g\": 4000.0, \"sex\": \"Male\", \"isAdelie_bool\": true, \"isAdelie_float\": 1.0, \"Pred\": 0.6279035307059688}, {\"species\": \"Chinstrap\", \"island\": \"Dream\", \"bill_length_mm\": 46.5, \"bill_depth_mm\": 17.9, \"flipper_length_mm\": 192.0, \"body_mass_g\": 3500.0, \"sex\": \"Female\", \"isAdelie_bool\": false, \"isAdelie_float\": 0.0, \"Pred\": 0.24787777642884778}, {\"species\": \"Chinstrap\", \"island\": \"Dream\", \"bill_length_mm\": 50.0, \"bill_depth_mm\": 19.5, \"flipper_length_mm\": 196.0, \"body_mass_g\": 3900.0, \"sex\": \"Male\", \"isAdelie_bool\": false, \"isAdelie_float\": 0.0, \"Pred\": -0.01814025156513699}, {\"species\": \"Chinstrap\", \"island\": \"Dream\", \"bill_length_mm\": 51.3, \"bill_depth_mm\": 19.2, \"flipper_length_mm\": 193.0, \"body_mass_g\": 3650.0, \"sex\": \"Male\", \"isAdelie_bool\": false, \"isAdelie_float\": 0.0, \"Pred\": -0.11694694767718783}, {\"species\": \"Chinstrap\", \"island\": \"Dream\", \"bill_length_mm\": 45.4, \"bill_depth_mm\": 18.7, \"flipper_length_mm\": 188.0, \"body_mass_g\": 3525.0, \"sex\": \"Female\", \"isAdelie_bool\": false, \"isAdelie_float\": 0.0, \"Pred\": 0.33148344236981453}, {\"species\": \"Chinstrap\", \"island\": \"Dream\", \"bill_length_mm\": 52.7, \"bill_depth_mm\": 19.8, \"flipper_length_mm\": 197.0, \"body_mass_g\": 3725.0, \"sex\": \"Male\", \"isAdelie_bool\": false, \"isAdelie_float\": 0.0, \"Pred\": -0.22335415887478272}, {\"species\": \"Chinstrap\", \"island\": \"Dream\", \"bill_length_mm\": 45.2, \"bill_depth_mm\": 17.8, \"flipper_length_mm\": 198.0, \"body_mass_g\": 3950.0, \"sex\": \"Female\", \"isAdelie_bool\": false, \"isAdelie_float\": 0.0, \"Pred\": 0.34668447254089907}, {\"species\": \"Chinstrap\", \"island\": \"Dream\", \"bill_length_mm\": 46.1, \"bill_depth_mm\": 18.2, \"flipper_length_mm\": 178.0, \"body_mass_g\": 3250.0, \"sex\": \"Female\", \"isAdelie_bool\": false, \"isAdelie_float\": 0.0, \"Pred\": 0.2782798367710173}, {\"species\": \"Chinstrap\", \"island\": \"Dream\", \"bill_length_mm\": 51.3, \"bill_depth_mm\": 18.2, \"flipper_length_mm\": 197.0, \"body_mass_g\": 3750.0, \"sex\": \"Male\", \"isAdelie_bool\": false, \"isAdelie_float\": 0.0, \"Pred\": -0.11694694767718783}, {\"species\": \"Chinstrap\", \"island\": \"Dream\", \"bill_length_mm\": 46.0, \"bill_depth_mm\": 18.9, \"flipper_length_mm\": 195.0, \"body_mass_g\": 4150.0, \"sex\": \"Female\", \"isAdelie_bool\": false, \"isAdelie_float\": 0.0, \"Pred\": 0.28588035185656}, {\"species\": \"Chinstrap\", \"island\": \"Dream\", \"bill_length_mm\": 51.3, \"bill_depth_mm\": 19.9, \"flipper_length_mm\": 198.0, \"body_mass_g\": 3700.0, \"sex\": \"Male\", \"isAdelie_bool\": false, \"isAdelie_float\": 0.0, \"Pred\": -0.11694694767718783}, {\"species\": \"Chinstrap\", \"island\": \"Dream\", \"bill_length_mm\": 46.6, \"bill_depth_mm\": 17.8, \"flipper_length_mm\": 193.0, \"body_mass_g\": 3800.0, \"sex\": \"Female\", \"isAdelie_bool\": false, \"isAdelie_float\": 0.0, \"Pred\": 0.24027726134330507}, {\"species\": \"Chinstrap\", \"island\": \"Dream\", \"bill_length_mm\": 51.7, \"bill_depth_mm\": 20.3, \"flipper_length_mm\": 194.0, \"body_mass_g\": 3775.0, \"sex\": \"Male\", \"isAdelie_bool\": false, \"isAdelie_float\": 0.0, \"Pred\": -0.14734900801935824}, {\"species\": \"Chinstrap\", \"island\": \"Dream\", \"bill_length_mm\": 47.0, \"bill_depth_mm\": 17.3, \"flipper_length_mm\": 185.0, \"body_mass_g\": 3700.0, \"sex\": \"Female\", \"isAdelie_bool\": false, \"isAdelie_float\": 0.0, \"Pred\": 0.20987520100113555}, {\"species\": \"Chinstrap\", \"island\": \"Dream\", \"bill_length_mm\": 52.0, \"bill_depth_mm\": 18.1, \"flipper_length_mm\": 201.0, \"body_mass_g\": 4050.0, \"sex\": \"Male\", \"isAdelie_bool\": false, \"isAdelie_float\": 0.0, \"Pred\": -0.17015055327598505}, {\"species\": \"Chinstrap\", \"island\": \"Dream\", \"bill_length_mm\": 45.9, \"bill_depth_mm\": 17.1, \"flipper_length_mm\": 190.0, \"body_mass_g\": 3575.0, \"sex\": \"Female\", \"isAdelie_bool\": false, \"isAdelie_float\": 0.0, \"Pred\": 0.2934808669421023}, {\"species\": \"Chinstrap\", \"island\": \"Dream\", \"bill_length_mm\": 50.5, \"bill_depth_mm\": 19.6, \"flipper_length_mm\": 201.0, \"body_mass_g\": 4050.0, \"sex\": \"Male\", \"isAdelie_bool\": false, \"isAdelie_float\": 0.0, \"Pred\": -0.05614282699284878}, {\"species\": \"Chinstrap\", \"island\": \"Dream\", \"bill_length_mm\": 50.3, \"bill_depth_mm\": 20.0, \"flipper_length_mm\": 197.0, \"body_mass_g\": 3300.0, \"sex\": \"Male\", \"isAdelie_bool\": false, \"isAdelie_float\": 0.0, \"Pred\": -0.0409417968217638}, {\"species\": \"Chinstrap\", \"island\": \"Dream\", \"bill_length_mm\": 58.0, \"bill_depth_mm\": 17.8, \"flipper_length_mm\": 181.0, \"body_mass_g\": 3700.0, \"sex\": \"Female\", \"isAdelie_bool\": false, \"isAdelie_float\": 0.0, \"Pred\": -0.6261814584085301}, {\"species\": \"Chinstrap\", \"island\": \"Dream\", \"bill_length_mm\": 46.4, \"bill_depth_mm\": 18.6, \"flipper_length_mm\": 190.0, \"body_mass_g\": 3450.0, \"sex\": \"Female\", \"isAdelie_bool\": false, \"isAdelie_float\": 0.0, \"Pred\": 0.2554782915143905}, {\"species\": \"Chinstrap\", \"island\": \"Dream\", \"bill_length_mm\": 49.2, \"bill_depth_mm\": 18.2, \"flipper_length_mm\": 195.0, \"body_mass_g\": 4400.0, \"sex\": \"Male\", \"isAdelie_bool\": false, \"isAdelie_float\": 0.0, \"Pred\": 0.0426638691192025}, {\"species\": \"Chinstrap\", \"island\": \"Dream\", \"bill_length_mm\": 42.4, \"bill_depth_mm\": 17.3, \"flipper_length_mm\": 181.0, \"body_mass_g\": 3600.0, \"sex\": \"Female\", \"isAdelie_bool\": false, \"isAdelie_float\": 0.0, \"Pred\": 0.5594988949360871}, {\"species\": \"Chinstrap\", \"island\": \"Dream\", \"bill_length_mm\": 48.5, \"bill_depth_mm\": 17.5, \"flipper_length_mm\": 191.0, \"body_mass_g\": 3400.0, \"sex\": \"Male\", \"isAdelie_bool\": false, \"isAdelie_float\": 0.0, \"Pred\": 0.09586747471799928}, {\"species\": \"Chinstrap\", \"island\": \"Dream\", \"bill_length_mm\": 43.2, \"bill_depth_mm\": 16.6, \"flipper_length_mm\": 187.0, \"body_mass_g\": 2900.0, \"sex\": \"Female\", \"isAdelie_bool\": false, \"isAdelie_float\": 0.0, \"Pred\": 0.49869477425174713}, {\"species\": \"Chinstrap\", \"island\": \"Dream\", \"bill_length_mm\": 50.6, \"bill_depth_mm\": 19.4, \"flipper_length_mm\": 193.0, \"body_mass_g\": 3800.0, \"sex\": \"Male\", \"isAdelie_bool\": false, \"isAdelie_float\": 0.0, \"Pred\": -0.0637433420783915}, {\"species\": \"Chinstrap\", \"island\": \"Dream\", \"bill_length_mm\": 46.7, \"bill_depth_mm\": 17.9, \"flipper_length_mm\": 195.0, \"body_mass_g\": 3300.0, \"sex\": \"Female\", \"isAdelie_bool\": false, \"isAdelie_float\": 0.0, \"Pred\": 0.2326767462577628}, {\"species\": \"Chinstrap\", \"island\": \"Dream\", \"bill_length_mm\": 52.0, \"bill_depth_mm\": 19.0, \"flipper_length_mm\": 197.0, \"body_mass_g\": 4150.0, \"sex\": \"Male\", \"isAdelie_bool\": false, \"isAdelie_float\": 0.0, \"Pred\": -0.17015055327598505}, {\"species\": \"Chinstrap\", \"island\": \"Dream\", \"bill_length_mm\": 50.5, \"bill_depth_mm\": 18.4, \"flipper_length_mm\": 200.0, \"body_mass_g\": 3400.0, \"sex\": \"Female\", \"isAdelie_bool\": false, \"isAdelie_float\": 0.0, \"Pred\": -0.05614282699284878}, {\"species\": \"Chinstrap\", \"island\": \"Dream\", \"bill_length_mm\": 49.5, \"bill_depth_mm\": 19.0, \"flipper_length_mm\": 200.0, \"body_mass_g\": 3800.0, \"sex\": \"Male\", \"isAdelie_bool\": false, \"isAdelie_float\": 0.0, \"Pred\": 0.01986232386257525}, {\"species\": \"Chinstrap\", \"island\": \"Dream\", \"bill_length_mm\": 46.4, \"bill_depth_mm\": 17.8, \"flipper_length_mm\": 191.0, \"body_mass_g\": 3700.0, \"sex\": \"Female\", \"isAdelie_bool\": false, \"isAdelie_float\": 0.0, \"Pred\": 0.2554782915143905}, {\"species\": \"Chinstrap\", \"island\": \"Dream\", \"bill_length_mm\": 52.8, \"bill_depth_mm\": 20.0, \"flipper_length_mm\": 205.0, \"body_mass_g\": 4550.0, \"sex\": \"Male\", \"isAdelie_bool\": false, \"isAdelie_float\": 0.0, \"Pred\": -0.2309546739603241}, {\"species\": \"Chinstrap\", \"island\": \"Dream\", \"bill_length_mm\": 40.9, \"bill_depth_mm\": 16.6, \"flipper_length_mm\": 187.0, \"body_mass_g\": 3200.0, \"sex\": \"Female\", \"isAdelie_bool\": false, \"isAdelie_float\": 0.0, \"Pred\": 0.6735066212192233}, {\"species\": \"Chinstrap\", \"island\": \"Dream\", \"bill_length_mm\": 54.2, \"bill_depth_mm\": 20.8, \"flipper_length_mm\": 201.0, \"body_mass_g\": 4300.0, \"sex\": \"Male\", \"isAdelie_bool\": false, \"isAdelie_float\": 0.0, \"Pred\": -0.33736188515791854}, {\"species\": \"Chinstrap\", \"island\": \"Dream\", \"bill_length_mm\": 42.5, \"bill_depth_mm\": 16.7, \"flipper_length_mm\": 187.0, \"body_mass_g\": 3350.0, \"sex\": \"Female\", \"isAdelie_bool\": false, \"isAdelie_float\": 0.0, \"Pred\": 0.5518983798505444}, {\"species\": \"Chinstrap\", \"island\": \"Dream\", \"bill_length_mm\": 51.0, \"bill_depth_mm\": 18.8, \"flipper_length_mm\": 203.0, \"body_mass_g\": 4100.0, \"sex\": \"Male\", \"isAdelie_bool\": false, \"isAdelie_float\": 0.0, \"Pred\": -0.09414540242056102}, {\"species\": \"Chinstrap\", \"island\": \"Dream\", \"bill_length_mm\": 49.7, \"bill_depth_mm\": 18.6, \"flipper_length_mm\": 195.0, \"body_mass_g\": 3600.0, \"sex\": \"Male\", \"isAdelie_bool\": false, \"isAdelie_float\": 0.0, \"Pred\": 0.004661293691490265}, {\"species\": \"Chinstrap\", \"island\": \"Dream\", \"bill_length_mm\": 47.5, \"bill_depth_mm\": 16.8, \"flipper_length_mm\": 199.0, \"body_mass_g\": 3900.0, \"sex\": \"Female\", \"isAdelie_bool\": false, \"isAdelie_float\": 0.0, \"Pred\": 0.17187262557342375}, {\"species\": \"Chinstrap\", \"island\": \"Dream\", \"bill_length_mm\": 47.6, \"bill_depth_mm\": 18.3, \"flipper_length_mm\": 195.0, \"body_mass_g\": 3850.0, \"sex\": \"Female\", \"isAdelie_bool\": false, \"isAdelie_float\": 0.0, \"Pred\": 0.16427211048788104}, {\"species\": \"Chinstrap\", \"island\": \"Dream\", \"bill_length_mm\": 52.0, \"bill_depth_mm\": 20.7, \"flipper_length_mm\": 210.0, \"body_mass_g\": 4800.0, \"sex\": \"Male\", \"isAdelie_bool\": false, \"isAdelie_float\": 0.0, \"Pred\": -0.17015055327598505}, {\"species\": \"Chinstrap\", \"island\": \"Dream\", \"bill_length_mm\": 46.9, \"bill_depth_mm\": 16.6, \"flipper_length_mm\": 192.0, \"body_mass_g\": 2700.0, \"sex\": \"Female\", \"isAdelie_bool\": false, \"isAdelie_float\": 0.0, \"Pred\": 0.21747571608667826}, {\"species\": \"Chinstrap\", \"island\": \"Dream\", \"bill_length_mm\": 53.5, \"bill_depth_mm\": 19.9, \"flipper_length_mm\": 205.0, \"body_mass_g\": 4500.0, \"sex\": \"Male\", \"isAdelie_bool\": false, \"isAdelie_float\": 0.0, \"Pred\": -0.28415827955912176}, {\"species\": \"Chinstrap\", \"island\": \"Dream\", \"bill_length_mm\": 49.0, \"bill_depth_mm\": 19.5, \"flipper_length_mm\": 210.0, \"body_mass_g\": 3950.0, \"sex\": \"Male\", \"isAdelie_bool\": false, \"isAdelie_float\": 0.0, \"Pred\": 0.057864899290287486}, {\"species\": \"Chinstrap\", \"island\": \"Dream\", \"bill_length_mm\": 46.2, \"bill_depth_mm\": 17.5, \"flipper_length_mm\": 187.0, \"body_mass_g\": 3650.0, \"sex\": \"Female\", \"isAdelie_bool\": false, \"isAdelie_float\": 0.0, \"Pred\": 0.2706793216854746}, {\"species\": \"Chinstrap\", \"island\": \"Dream\", \"bill_length_mm\": 50.9, \"bill_depth_mm\": 19.1, \"flipper_length_mm\": 196.0, \"body_mass_g\": 3550.0, \"sex\": \"Male\", \"isAdelie_bool\": false, \"isAdelie_float\": 0.0, \"Pred\": -0.0865448873350183}, {\"species\": \"Chinstrap\", \"island\": \"Dream\", \"bill_length_mm\": 45.5, \"bill_depth_mm\": 17.0, \"flipper_length_mm\": 196.0, \"body_mass_g\": 3500.0, \"sex\": \"Female\", \"isAdelie_bool\": false, \"isAdelie_float\": 0.0, \"Pred\": 0.3238829272842718}, {\"species\": \"Chinstrap\", \"island\": \"Dream\", \"bill_length_mm\": 50.9, \"bill_depth_mm\": 17.9, \"flipper_length_mm\": 196.0, \"body_mass_g\": 3675.0, \"sex\": \"Female\", \"isAdelie_bool\": false, \"isAdelie_float\": 0.0, \"Pred\": -0.0865448873350183}, {\"species\": \"Chinstrap\", \"island\": \"Dream\", \"bill_length_mm\": 50.8, \"bill_depth_mm\": 18.5, \"flipper_length_mm\": 201.0, \"body_mass_g\": 4450.0, \"sex\": \"Male\", \"isAdelie_bool\": false, \"isAdelie_float\": 0.0, \"Pred\": -0.07894437224947604}, {\"species\": \"Chinstrap\", \"island\": \"Dream\", \"bill_length_mm\": 50.1, \"bill_depth_mm\": 17.9, \"flipper_length_mm\": 190.0, \"body_mass_g\": 3400.0, \"sex\": \"Female\", \"isAdelie_bool\": false, \"isAdelie_float\": 0.0, \"Pred\": -0.02574076665067926}, {\"species\": \"Chinstrap\", \"island\": \"Dream\", \"bill_length_mm\": 49.0, \"bill_depth_mm\": 19.6, \"flipper_length_mm\": 212.0, \"body_mass_g\": 4300.0, \"sex\": \"Male\", \"isAdelie_bool\": false, \"isAdelie_float\": 0.0, \"Pred\": 0.057864899290287486}, {\"species\": \"Chinstrap\", \"island\": \"Dream\", \"bill_length_mm\": 51.5, \"bill_depth_mm\": 18.7, \"flipper_length_mm\": 187.0, \"body_mass_g\": 3250.0, \"sex\": \"Male\", \"isAdelie_bool\": false, \"isAdelie_float\": 0.0, \"Pred\": -0.13214797784827326}, {\"species\": \"Chinstrap\", \"island\": \"Dream\", \"bill_length_mm\": 49.8, \"bill_depth_mm\": 17.3, \"flipper_length_mm\": 198.0, \"body_mass_g\": 3675.0, \"sex\": \"Female\", \"isAdelie_bool\": false, \"isAdelie_float\": 0.0, \"Pred\": -0.002939221394051561}, {\"species\": \"Chinstrap\", \"island\": \"Dream\", \"bill_length_mm\": 48.1, \"bill_depth_mm\": 16.4, \"flipper_length_mm\": 199.0, \"body_mass_g\": 3325.0, \"sex\": \"Female\", \"isAdelie_bool\": false, \"isAdelie_float\": 0.0, \"Pred\": 0.1262695350601688}, {\"species\": \"Chinstrap\", \"island\": \"Dream\", \"bill_length_mm\": 51.4, \"bill_depth_mm\": 19.0, \"flipper_length_mm\": 201.0, \"body_mass_g\": 3950.0, \"sex\": \"Male\", \"isAdelie_bool\": false, \"isAdelie_float\": 0.0, \"Pred\": -0.12454746276273054}, {\"species\": \"Chinstrap\", \"island\": \"Dream\", \"bill_length_mm\": 45.7, \"bill_depth_mm\": 17.3, \"flipper_length_mm\": 193.0, \"body_mass_g\": 3600.0, \"sex\": \"Female\", \"isAdelie_bool\": false, \"isAdelie_float\": 0.0, \"Pred\": 0.30868189711318683}, {\"species\": \"Chinstrap\", \"island\": \"Dream\", \"bill_length_mm\": 50.7, \"bill_depth_mm\": 19.7, \"flipper_length_mm\": 203.0, \"body_mass_g\": 4050.0, \"sex\": \"Male\", \"isAdelie_bool\": false, \"isAdelie_float\": 0.0, \"Pred\": -0.07134385716393377}, {\"species\": \"Chinstrap\", \"island\": \"Dream\", \"bill_length_mm\": 42.5, \"bill_depth_mm\": 17.3, \"flipper_length_mm\": 187.0, \"body_mass_g\": 3350.0, \"sex\": \"Female\", \"isAdelie_bool\": false, \"isAdelie_float\": 0.0, \"Pred\": 0.5518983798505444}, {\"species\": \"Chinstrap\", \"island\": \"Dream\", \"bill_length_mm\": 52.2, \"bill_depth_mm\": 18.8, \"flipper_length_mm\": 197.0, \"body_mass_g\": 3450.0, \"sex\": \"Male\", \"isAdelie_bool\": false, \"isAdelie_float\": 0.0, \"Pred\": -0.18535158344707003}, {\"species\": \"Chinstrap\", \"island\": \"Dream\", \"bill_length_mm\": 45.2, \"bill_depth_mm\": 16.6, \"flipper_length_mm\": 191.0, \"body_mass_g\": 3250.0, \"sex\": \"Female\", \"isAdelie_bool\": false, \"isAdelie_float\": 0.0, \"Pred\": 0.34668447254089907}, {\"species\": \"Chinstrap\", \"island\": \"Dream\", \"bill_length_mm\": 49.3, \"bill_depth_mm\": 19.9, \"flipper_length_mm\": 203.0, \"body_mass_g\": 4050.0, \"sex\": \"Male\", \"isAdelie_bool\": false, \"isAdelie_float\": 0.0, \"Pred\": 0.03506335403366023}, {\"species\": \"Chinstrap\", \"island\": \"Dream\", \"bill_length_mm\": 50.2, \"bill_depth_mm\": 18.8, \"flipper_length_mm\": 202.0, \"body_mass_g\": 3800.0, \"sex\": \"Male\", \"isAdelie_bool\": false, \"isAdelie_float\": 0.0, \"Pred\": -0.03334128173622197}, {\"species\": \"Chinstrap\", \"island\": \"Dream\", \"bill_length_mm\": 45.6, \"bill_depth_mm\": 19.4, \"flipper_length_mm\": 194.0, \"body_mass_g\": 3525.0, \"sex\": \"Female\", \"isAdelie_bool\": false, \"isAdelie_float\": 0.0, \"Pred\": 0.31628241219872955}, {\"species\": \"Chinstrap\", \"island\": \"Dream\", \"bill_length_mm\": 51.9, \"bill_depth_mm\": 19.5, \"flipper_length_mm\": 206.0, \"body_mass_g\": 3950.0, \"sex\": \"Male\", \"isAdelie_bool\": false, \"isAdelie_float\": 0.0, \"Pred\": -0.16255003819044278}, {\"species\": \"Chinstrap\", \"island\": \"Dream\", \"bill_length_mm\": 46.8, \"bill_depth_mm\": 16.5, \"flipper_length_mm\": 189.0, \"body_mass_g\": 3650.0, \"sex\": \"Female\", \"isAdelie_bool\": false, \"isAdelie_float\": 0.0, \"Pred\": 0.22507623117222053}, {\"species\": \"Chinstrap\", \"island\": \"Dream\", \"bill_length_mm\": 45.7, \"bill_depth_mm\": 17.0, \"flipper_length_mm\": 195.0, \"body_mass_g\": 3650.0, \"sex\": \"Female\", \"isAdelie_bool\": false, \"isAdelie_float\": 0.0, \"Pred\": 0.30868189711318683}, {\"species\": \"Chinstrap\", \"island\": \"Dream\", \"bill_length_mm\": 55.8, \"bill_depth_mm\": 19.8, \"flipper_length_mm\": 207.0, \"body_mass_g\": 4000.0, \"sex\": \"Male\", \"isAdelie_bool\": false, \"isAdelie_float\": 0.0, \"Pred\": -0.45897012652659663}, {\"species\": \"Chinstrap\", \"island\": \"Dream\", \"bill_length_mm\": 43.5, \"bill_depth_mm\": 18.1, \"flipper_length_mm\": 202.0, \"body_mass_g\": 3400.0, \"sex\": \"Female\", \"isAdelie_bool\": false, \"isAdelie_float\": 0.0, \"Pred\": 0.4758932289951203}, {\"species\": \"Chinstrap\", \"island\": \"Dream\", \"bill_length_mm\": 49.6, \"bill_depth_mm\": 18.2, \"flipper_length_mm\": 193.0, \"body_mass_g\": 3775.0, \"sex\": \"Male\", \"isAdelie_bool\": false, \"isAdelie_float\": 0.0, \"Pred\": 0.012261808777032535}, {\"species\": \"Chinstrap\", \"island\": \"Dream\", \"bill_length_mm\": 50.8, \"bill_depth_mm\": 19.0, \"flipper_length_mm\": 210.0, \"body_mass_g\": 4100.0, \"sex\": \"Male\", \"isAdelie_bool\": false, \"isAdelie_float\": 0.0, \"Pred\": -0.07894437224947604}, {\"species\": \"Chinstrap\", \"island\": \"Dream\", \"bill_length_mm\": 50.2, \"bill_depth_mm\": 18.7, \"flipper_length_mm\": 198.0, \"body_mass_g\": 3775.0, \"sex\": \"Female\", \"isAdelie_bool\": false, \"isAdelie_float\": 0.0, \"Pred\": -0.03334128173622197}, {\"species\": \"Gentoo\", \"island\": \"Biscoe\", \"bill_length_mm\": 46.1, \"bill_depth_mm\": 13.2, \"flipper_length_mm\": 211.0, \"body_mass_g\": 4500.0, \"sex\": \"Female\", \"isAdelie_bool\": false, \"isAdelie_float\": 0.0, \"Pred\": 0.2782798367710173}, {\"species\": \"Gentoo\", \"island\": \"Biscoe\", \"bill_length_mm\": 50.0, \"bill_depth_mm\": 16.3, \"flipper_length_mm\": 230.0, \"body_mass_g\": 5700.0, \"sex\": \"Male\", \"isAdelie_bool\": false, \"isAdelie_float\": 0.0, \"Pred\": -0.01814025156513699}, {\"species\": \"Gentoo\", \"island\": \"Biscoe\", \"bill_length_mm\": 48.7, \"bill_depth_mm\": 14.1, \"flipper_length_mm\": 210.0, \"body_mass_g\": 4450.0, \"sex\": \"Female\", \"isAdelie_bool\": false, \"isAdelie_float\": 0.0, \"Pred\": 0.0806664445469143}, {\"species\": \"Gentoo\", \"island\": \"Biscoe\", \"bill_length_mm\": 50.0, \"bill_depth_mm\": 15.2, \"flipper_length_mm\": 218.0, \"body_mass_g\": 5700.0, \"sex\": \"Male\", \"isAdelie_bool\": false, \"isAdelie_float\": 0.0, \"Pred\": -0.01814025156513699}, {\"species\": \"Gentoo\", \"island\": \"Biscoe\", \"bill_length_mm\": 47.6, \"bill_depth_mm\": 14.5, \"flipper_length_mm\": 215.0, \"body_mass_g\": 5400.0, \"sex\": \"Male\", \"isAdelie_bool\": false, \"isAdelie_float\": 0.0, \"Pred\": 0.16427211048788104}, {\"species\": \"Gentoo\", \"island\": \"Biscoe\", \"bill_length_mm\": 46.5, \"bill_depth_mm\": 13.5, \"flipper_length_mm\": 210.0, \"body_mass_g\": 4550.0, \"sex\": \"Female\", \"isAdelie_bool\": false, \"isAdelie_float\": 0.0, \"Pred\": 0.24787777642884778}, {\"species\": \"Gentoo\", \"island\": \"Biscoe\", \"bill_length_mm\": 45.4, \"bill_depth_mm\": 14.6, \"flipper_length_mm\": 211.0, \"body_mass_g\": 4800.0, \"sex\": \"Female\", \"isAdelie_bool\": false, \"isAdelie_float\": 0.0, \"Pred\": 0.33148344236981453}, {\"species\": \"Gentoo\", \"island\": \"Biscoe\", \"bill_length_mm\": 46.7, \"bill_depth_mm\": 15.3, \"flipper_length_mm\": 219.0, \"body_mass_g\": 5200.0, \"sex\": \"Male\", \"isAdelie_bool\": false, \"isAdelie_float\": 0.0, \"Pred\": 0.2326767462577628}, {\"species\": \"Gentoo\", \"island\": \"Biscoe\", \"bill_length_mm\": 43.3, \"bill_depth_mm\": 13.4, \"flipper_length_mm\": 209.0, \"body_mass_g\": 4400.0, \"sex\": \"Female\", \"isAdelie_bool\": false, \"isAdelie_float\": 0.0, \"Pred\": 0.4910942591662053}, {\"species\": \"Gentoo\", \"island\": \"Biscoe\", \"bill_length_mm\": 46.8, \"bill_depth_mm\": 15.4, \"flipper_length_mm\": 215.0, \"body_mass_g\": 5150.0, \"sex\": \"Male\", \"isAdelie_bool\": false, \"isAdelie_float\": 0.0, \"Pred\": 0.22507623117222053}, {\"species\": \"Gentoo\", \"island\": \"Biscoe\", \"bill_length_mm\": 40.9, \"bill_depth_mm\": 13.7, \"flipper_length_mm\": 214.0, \"body_mass_g\": 4650.0, \"sex\": \"Female\", \"isAdelie_bool\": false, \"isAdelie_float\": 0.0, \"Pred\": 0.6735066212192233}, {\"species\": \"Gentoo\", \"island\": \"Biscoe\", \"bill_length_mm\": 49.0, \"bill_depth_mm\": 16.1, \"flipper_length_mm\": 216.0, \"body_mass_g\": 5550.0, \"sex\": \"Male\", \"isAdelie_bool\": false, \"isAdelie_float\": 0.0, \"Pred\": 0.057864899290287486}, {\"species\": \"Gentoo\", \"island\": \"Biscoe\", \"bill_length_mm\": 45.5, \"bill_depth_mm\": 13.7, \"flipper_length_mm\": 214.0, \"body_mass_g\": 4650.0, \"sex\": \"Female\", \"isAdelie_bool\": false, \"isAdelie_float\": 0.0, \"Pred\": 0.3238829272842718}, {\"species\": \"Gentoo\", \"island\": \"Biscoe\", \"bill_length_mm\": 48.4, \"bill_depth_mm\": 14.6, \"flipper_length_mm\": 213.0, \"body_mass_g\": 5850.0, \"sex\": \"Male\", \"isAdelie_bool\": false, \"isAdelie_float\": 0.0, \"Pred\": 0.103467989803542}, {\"species\": \"Gentoo\", \"island\": \"Biscoe\", \"bill_length_mm\": 45.8, \"bill_depth_mm\": 14.6, \"flipper_length_mm\": 210.0, \"body_mass_g\": 4200.0, \"sex\": \"Female\", \"isAdelie_bool\": false, \"isAdelie_float\": 0.0, \"Pred\": 0.301081382027645}, {\"species\": \"Gentoo\", \"island\": \"Biscoe\", \"bill_length_mm\": 49.3, \"bill_depth_mm\": 15.7, \"flipper_length_mm\": 217.0, \"body_mass_g\": 5850.0, \"sex\": \"Male\", \"isAdelie_bool\": false, \"isAdelie_float\": 0.0, \"Pred\": 0.03506335403366023}, {\"species\": \"Gentoo\", \"island\": \"Biscoe\", \"bill_length_mm\": 42.0, \"bill_depth_mm\": 13.5, \"flipper_length_mm\": 210.0, \"body_mass_g\": 4150.0, \"sex\": \"Female\", \"isAdelie_bool\": false, \"isAdelie_float\": 0.0, \"Pred\": 0.5899009552782566}, {\"species\": \"Gentoo\", \"island\": \"Biscoe\", \"bill_length_mm\": 49.2, \"bill_depth_mm\": 15.2, \"flipper_length_mm\": 221.0, \"body_mass_g\": 6300.0, \"sex\": \"Male\", \"isAdelie_bool\": false, \"isAdelie_float\": 0.0, \"Pred\": 0.0426638691192025}, {\"species\": \"Gentoo\", \"island\": \"Biscoe\", \"bill_length_mm\": 46.2, \"bill_depth_mm\": 14.5, \"flipper_length_mm\": 209.0, \"body_mass_g\": 4800.0, \"sex\": \"Female\", \"isAdelie_bool\": false, \"isAdelie_float\": 0.0, \"Pred\": 0.2706793216854746}, {\"species\": \"Gentoo\", \"island\": \"Biscoe\", \"bill_length_mm\": 48.7, \"bill_depth_mm\": 15.1, \"flipper_length_mm\": 222.0, \"body_mass_g\": 5350.0, \"sex\": \"Male\", \"isAdelie_bool\": false, \"isAdelie_float\": 0.0, \"Pred\": 0.0806664445469143}, {\"species\": \"Gentoo\", \"island\": \"Biscoe\", \"bill_length_mm\": 50.2, \"bill_depth_mm\": 14.3, \"flipper_length_mm\": 218.0, \"body_mass_g\": 5700.0, \"sex\": \"Male\", \"isAdelie_bool\": false, \"isAdelie_float\": 0.0, \"Pred\": -0.03334128173622197}, {\"species\": \"Gentoo\", \"island\": \"Biscoe\", \"bill_length_mm\": 45.1, \"bill_depth_mm\": 14.5, \"flipper_length_mm\": 215.0, \"body_mass_g\": 5000.0, \"sex\": \"Female\", \"isAdelie_bool\": false, \"isAdelie_float\": 0.0, \"Pred\": 0.35428498762644134}, {\"species\": \"Gentoo\", \"island\": \"Biscoe\", \"bill_length_mm\": 46.5, \"bill_depth_mm\": 14.5, \"flipper_length_mm\": 213.0, \"body_mass_g\": 4400.0, \"sex\": \"Female\", \"isAdelie_bool\": false, \"isAdelie_float\": 0.0, \"Pred\": 0.24787777642884778}, {\"species\": \"Gentoo\", \"island\": \"Biscoe\", \"bill_length_mm\": 46.3, \"bill_depth_mm\": 15.8, \"flipper_length_mm\": 215.0, \"body_mass_g\": 5050.0, \"sex\": \"Male\", \"isAdelie_bool\": false, \"isAdelie_float\": 0.0, \"Pred\": 0.26307880659993277}, {\"species\": \"Gentoo\", \"island\": \"Biscoe\", \"bill_length_mm\": 42.9, \"bill_depth_mm\": 13.1, \"flipper_length_mm\": 215.0, \"body_mass_g\": 5000.0, \"sex\": \"Female\", \"isAdelie_bool\": false, \"isAdelie_float\": 0.0, \"Pred\": 0.5214963195083748}, {\"species\": \"Gentoo\", \"island\": \"Biscoe\", \"bill_length_mm\": 46.1, \"bill_depth_mm\": 15.1, \"flipper_length_mm\": 215.0, \"body_mass_g\": 5100.0, \"sex\": \"Male\", \"isAdelie_bool\": false, \"isAdelie_float\": 0.0, \"Pred\": 0.2782798367710173}, {\"species\": \"Gentoo\", \"island\": \"Biscoe\", \"bill_length_mm\": 47.8, \"bill_depth_mm\": 15.0, \"flipper_length_mm\": 215.0, \"body_mass_g\": 5650.0, \"sex\": \"Male\", \"isAdelie_bool\": false, \"isAdelie_float\": 0.0, \"Pred\": 0.1490710803167965}, {\"species\": \"Gentoo\", \"island\": \"Biscoe\", \"bill_length_mm\": 48.2, \"bill_depth_mm\": 14.3, \"flipper_length_mm\": 210.0, \"body_mass_g\": 4600.0, \"sex\": \"Female\", \"isAdelie_bool\": false, \"isAdelie_float\": 0.0, \"Pred\": 0.11866901997462653}, {\"species\": \"Gentoo\", \"island\": \"Biscoe\", \"bill_length_mm\": 50.0, \"bill_depth_mm\": 15.3, \"flipper_length_mm\": 220.0, \"body_mass_g\": 5550.0, \"sex\": \"Male\", \"isAdelie_bool\": false, \"isAdelie_float\": 0.0, \"Pred\": -0.01814025156513699}, {\"species\": \"Gentoo\", \"island\": \"Biscoe\", \"bill_length_mm\": 47.3, \"bill_depth_mm\": 15.3, \"flipper_length_mm\": 222.0, \"body_mass_g\": 5250.0, \"sex\": \"Male\", \"isAdelie_bool\": false, \"isAdelie_float\": 0.0, \"Pred\": 0.18707365574450874}, {\"species\": \"Gentoo\", \"island\": \"Biscoe\", \"bill_length_mm\": 42.8, \"bill_depth_mm\": 14.2, \"flipper_length_mm\": 209.0, \"body_mass_g\": 4700.0, \"sex\": \"Female\", \"isAdelie_bool\": false, \"isAdelie_float\": 0.0, \"Pred\": 0.5290968345939175}, {\"species\": \"Gentoo\", \"island\": \"Biscoe\", \"bill_length_mm\": 45.1, \"bill_depth_mm\": 14.5, \"flipper_length_mm\": 207.0, \"body_mass_g\": 5050.0, \"sex\": \"Female\", \"isAdelie_bool\": false, \"isAdelie_float\": 0.0, \"Pred\": 0.35428498762644134}, {\"species\": \"Gentoo\", \"island\": \"Biscoe\", \"bill_length_mm\": 59.6, \"bill_depth_mm\": 17.0, \"flipper_length_mm\": 230.0, \"body_mass_g\": 6050.0, \"sex\": \"Male\", \"isAdelie_bool\": false, \"isAdelie_float\": 0.0, \"Pred\": -0.7477896997772091}, {\"species\": \"Gentoo\", \"island\": \"Biscoe\", \"bill_length_mm\": 49.1, \"bill_depth_mm\": 14.8, \"flipper_length_mm\": 220.0, \"body_mass_g\": 5150.0, \"sex\": \"Female\", \"isAdelie_bool\": false, \"isAdelie_float\": 0.0, \"Pred\": 0.05026438420474477}, {\"species\": \"Gentoo\", \"island\": \"Biscoe\", \"bill_length_mm\": 48.4, \"bill_depth_mm\": 16.3, \"flipper_length_mm\": 220.0, \"body_mass_g\": 5400.0, \"sex\": \"Male\", \"isAdelie_bool\": false, \"isAdelie_float\": 0.0, \"Pred\": 0.103467989803542}, {\"species\": \"Gentoo\", \"island\": \"Biscoe\", \"bill_length_mm\": 42.6, \"bill_depth_mm\": 13.7, \"flipper_length_mm\": 213.0, \"body_mass_g\": 4950.0, \"sex\": \"Female\", \"isAdelie_bool\": false, \"isAdelie_float\": 0.0, \"Pred\": 0.5442978647650021}, {\"species\": \"Gentoo\", \"island\": \"Biscoe\", \"bill_length_mm\": 44.4, \"bill_depth_mm\": 17.3, \"flipper_length_mm\": 219.0, \"body_mass_g\": 5250.0, \"sex\": \"Male\", \"isAdelie_bool\": false, \"isAdelie_float\": 0.0, \"Pred\": 0.40748859322523856}, {\"species\": \"Gentoo\", \"island\": \"Biscoe\", \"bill_length_mm\": 44.0, \"bill_depth_mm\": 13.6, \"flipper_length_mm\": 208.0, \"body_mass_g\": 4350.0, \"sex\": \"Female\", \"isAdelie_bool\": false, \"isAdelie_float\": 0.0, \"Pred\": 0.4378906535674081}, {\"species\": \"Gentoo\", \"island\": \"Biscoe\", \"bill_length_mm\": 48.7, \"bill_depth_mm\": 15.7, \"flipper_length_mm\": 208.0, \"body_mass_g\": 5350.0, \"sex\": \"Male\", \"isAdelie_bool\": false, \"isAdelie_float\": 0.0, \"Pred\": 0.0806664445469143}, {\"species\": \"Gentoo\", \"island\": \"Biscoe\", \"bill_length_mm\": 42.7, \"bill_depth_mm\": 13.7, \"flipper_length_mm\": 208.0, \"body_mass_g\": 3950.0, \"sex\": \"Female\", \"isAdelie_bool\": false, \"isAdelie_float\": 0.0, \"Pred\": 0.5366973496794594}, {\"species\": \"Gentoo\", \"island\": \"Biscoe\", \"bill_length_mm\": 49.6, \"bill_depth_mm\": 16.0, \"flipper_length_mm\": 225.0, \"body_mass_g\": 5700.0, \"sex\": \"Male\", \"isAdelie_bool\": false, \"isAdelie_float\": 0.0, \"Pred\": 0.012261808777032535}, {\"species\": \"Gentoo\", \"island\": \"Biscoe\", \"bill_length_mm\": 45.3, \"bill_depth_mm\": 13.7, \"flipper_length_mm\": 210.0, \"body_mass_g\": 4300.0, \"sex\": \"Female\", \"isAdelie_bool\": false, \"isAdelie_float\": 0.0, \"Pred\": 0.3390839574553568}, {\"species\": \"Gentoo\", \"island\": \"Biscoe\", \"bill_length_mm\": 49.6, \"bill_depth_mm\": 15.0, \"flipper_length_mm\": 216.0, \"body_mass_g\": 4750.0, \"sex\": \"Male\", \"isAdelie_bool\": false, \"isAdelie_float\": 0.0, \"Pred\": 0.012261808777032535}, {\"species\": \"Gentoo\", \"island\": \"Biscoe\", \"bill_length_mm\": 50.5, \"bill_depth_mm\": 15.9, \"flipper_length_mm\": 222.0, \"body_mass_g\": 5550.0, \"sex\": \"Male\", \"isAdelie_bool\": false, \"isAdelie_float\": 0.0, \"Pred\": -0.05614282699284878}, {\"species\": \"Gentoo\", \"island\": \"Biscoe\", \"bill_length_mm\": 43.6, \"bill_depth_mm\": 13.9, \"flipper_length_mm\": 217.0, \"body_mass_g\": 4900.0, \"sex\": \"Female\", \"isAdelie_bool\": false, \"isAdelie_float\": 0.0, \"Pred\": 0.4682927139095776}, {\"species\": \"Gentoo\", \"island\": \"Biscoe\", \"bill_length_mm\": 45.5, \"bill_depth_mm\": 13.9, \"flipper_length_mm\": 210.0, \"body_mass_g\": 4200.0, \"sex\": \"Female\", \"isAdelie_bool\": false, \"isAdelie_float\": 0.0, \"Pred\": 0.3238829272842718}, {\"species\": \"Gentoo\", \"island\": \"Biscoe\", \"bill_length_mm\": 50.5, \"bill_depth_mm\": 15.9, \"flipper_length_mm\": 225.0, \"body_mass_g\": 5400.0, \"sex\": \"Male\", \"isAdelie_bool\": false, \"isAdelie_float\": 0.0, \"Pred\": -0.05614282699284878}, {\"species\": \"Gentoo\", \"island\": \"Biscoe\", \"bill_length_mm\": 44.9, \"bill_depth_mm\": 13.3, \"flipper_length_mm\": 213.0, \"body_mass_g\": 5100.0, \"sex\": \"Female\", \"isAdelie_bool\": false, \"isAdelie_float\": 0.0, \"Pred\": 0.36948601779752677}, {\"species\": \"Gentoo\", \"island\": \"Biscoe\", \"bill_length_mm\": 45.2, \"bill_depth_mm\": 15.8, \"flipper_length_mm\": 215.0, \"body_mass_g\": 5300.0, \"sex\": \"Male\", \"isAdelie_bool\": false, \"isAdelie_float\": 0.0, \"Pred\": 0.34668447254089907}, {\"species\": \"Gentoo\", \"island\": \"Biscoe\", \"bill_length_mm\": 46.6, \"bill_depth_mm\": 14.2, \"flipper_length_mm\": 210.0, \"body_mass_g\": 4850.0, \"sex\": \"Female\", \"isAdelie_bool\": false, \"isAdelie_float\": 0.0, \"Pred\": 0.24027726134330507}, {\"species\": \"Gentoo\", \"island\": \"Biscoe\", \"bill_length_mm\": 48.5, \"bill_depth_mm\": 14.1, \"flipper_length_mm\": 220.0, \"body_mass_g\": 5300.0, \"sex\": \"Male\", \"isAdelie_bool\": false, \"isAdelie_float\": 0.0, \"Pred\": 0.09586747471799928}, {\"species\": \"Gentoo\", \"island\": \"Biscoe\", \"bill_length_mm\": 45.1, \"bill_depth_mm\": 14.4, \"flipper_length_mm\": 210.0, \"body_mass_g\": 4400.0, \"sex\": \"Female\", \"isAdelie_bool\": false, \"isAdelie_float\": 0.0, \"Pred\": 0.35428498762644134}, {\"species\": \"Gentoo\", \"island\": \"Biscoe\", \"bill_length_mm\": 50.1, \"bill_depth_mm\": 15.0, \"flipper_length_mm\": 225.0, \"body_mass_g\": 5000.0, \"sex\": \"Male\", \"isAdelie_bool\": false, \"isAdelie_float\": 0.0, \"Pred\": -0.02574076665067926}, {\"species\": \"Gentoo\", \"island\": \"Biscoe\", \"bill_length_mm\": 46.5, \"bill_depth_mm\": 14.4, \"flipper_length_mm\": 217.0, \"body_mass_g\": 4900.0, \"sex\": \"Female\", \"isAdelie_bool\": false, \"isAdelie_float\": 0.0, \"Pred\": 0.24787777642884778}, {\"species\": \"Gentoo\", \"island\": \"Biscoe\", \"bill_length_mm\": 45.0, \"bill_depth_mm\": 15.4, \"flipper_length_mm\": 220.0, \"body_mass_g\": 5050.0, \"sex\": \"Male\", \"isAdelie_bool\": false, \"isAdelie_float\": 0.0, \"Pred\": 0.36188550271198405}, {\"species\": \"Gentoo\", \"island\": \"Biscoe\", \"bill_length_mm\": 43.8, \"bill_depth_mm\": 13.9, \"flipper_length_mm\": 208.0, \"body_mass_g\": 4300.0, \"sex\": \"Female\", \"isAdelie_bool\": false, \"isAdelie_float\": 0.0, \"Pred\": 0.45309168373849307}, {\"species\": \"Gentoo\", \"island\": \"Biscoe\", \"bill_length_mm\": 45.5, \"bill_depth_mm\": 15.0, \"flipper_length_mm\": 220.0, \"body_mass_g\": 5000.0, \"sex\": \"Male\", \"isAdelie_bool\": false, \"isAdelie_float\": 0.0, \"Pred\": 0.3238829272842718}, {\"species\": \"Gentoo\", \"island\": \"Biscoe\", \"bill_length_mm\": 43.2, \"bill_depth_mm\": 14.5, \"flipper_length_mm\": 208.0, \"body_mass_g\": 4450.0, \"sex\": \"Female\", \"isAdelie_bool\": false, \"isAdelie_float\": 0.0, \"Pred\": 0.49869477425174713}, {\"species\": \"Gentoo\", \"island\": \"Biscoe\", \"bill_length_mm\": 50.4, \"bill_depth_mm\": 15.3, \"flipper_length_mm\": 224.0, \"body_mass_g\": 5550.0, \"sex\": \"Male\", \"isAdelie_bool\": false, \"isAdelie_float\": 0.0, \"Pred\": -0.04854231190730651}, {\"species\": \"Gentoo\", \"island\": \"Biscoe\", \"bill_length_mm\": 45.3, \"bill_depth_mm\": 13.8, \"flipper_length_mm\": 208.0, \"body_mass_g\": 4200.0, \"sex\": \"Female\", \"isAdelie_bool\": false, \"isAdelie_float\": 0.0, \"Pred\": 0.3390839574553568}, {\"species\": \"Gentoo\", \"island\": \"Biscoe\", \"bill_length_mm\": 46.2, \"bill_depth_mm\": 14.9, \"flipper_length_mm\": 221.0, \"body_mass_g\": 5300.0, \"sex\": \"Male\", \"isAdelie_bool\": false, \"isAdelie_float\": 0.0, \"Pred\": 0.2706793216854746}, {\"species\": \"Gentoo\", \"island\": \"Biscoe\", \"bill_length_mm\": 45.7, \"bill_depth_mm\": 13.9, \"flipper_length_mm\": 214.0, \"body_mass_g\": 4400.0, \"sex\": \"Female\", \"isAdelie_bool\": false, \"isAdelie_float\": 0.0, \"Pred\": 0.30868189711318683}, {\"species\": \"Gentoo\", \"island\": \"Biscoe\", \"bill_length_mm\": 54.3, \"bill_depth_mm\": 15.7, \"flipper_length_mm\": 231.0, \"body_mass_g\": 5650.0, \"sex\": \"Male\", \"isAdelie_bool\": false, \"isAdelie_float\": 0.0, \"Pred\": -0.3449624002434608}, {\"species\": \"Gentoo\", \"island\": \"Biscoe\", \"bill_length_mm\": 45.8, \"bill_depth_mm\": 14.2, \"flipper_length_mm\": 219.0, \"body_mass_g\": 4700.0, \"sex\": \"Female\", \"isAdelie_bool\": false, \"isAdelie_float\": 0.0, \"Pred\": 0.301081382027645}, {\"species\": \"Gentoo\", \"island\": \"Biscoe\", \"bill_length_mm\": 49.8, \"bill_depth_mm\": 16.8, \"flipper_length_mm\": 230.0, \"body_mass_g\": 5700.0, \"sex\": \"Male\", \"isAdelie_bool\": false, \"isAdelie_float\": 0.0, \"Pred\": -0.002939221394051561}, {\"species\": \"Gentoo\", \"island\": \"Biscoe\", \"bill_length_mm\": 49.5, \"bill_depth_mm\": 16.2, \"flipper_length_mm\": 229.0, \"body_mass_g\": 5800.0, \"sex\": \"Male\", \"isAdelie_bool\": false, \"isAdelie_float\": 0.0, \"Pred\": 0.01986232386257525}, {\"species\": \"Gentoo\", \"island\": \"Biscoe\", \"bill_length_mm\": 43.5, \"bill_depth_mm\": 14.2, \"flipper_length_mm\": 220.0, \"body_mass_g\": 4700.0, \"sex\": \"Female\", \"isAdelie_bool\": false, \"isAdelie_float\": 0.0, \"Pred\": 0.4758932289951203}, {\"species\": \"Gentoo\", \"island\": \"Biscoe\", \"bill_length_mm\": 50.7, \"bill_depth_mm\": 15.0, \"flipper_length_mm\": 223.0, \"body_mass_g\": 5550.0, \"sex\": \"Male\", \"isAdelie_bool\": false, \"isAdelie_float\": 0.0, \"Pred\": -0.07134385716393377}, {\"species\": \"Gentoo\", \"island\": \"Biscoe\", \"bill_length_mm\": 47.7, \"bill_depth_mm\": 15.0, \"flipper_length_mm\": 216.0, \"body_mass_g\": 4750.0, \"sex\": \"Female\", \"isAdelie_bool\": false, \"isAdelie_float\": 0.0, \"Pred\": 0.15667159540233877}, {\"species\": \"Gentoo\", \"island\": \"Biscoe\", \"bill_length_mm\": 46.4, \"bill_depth_mm\": 15.6, \"flipper_length_mm\": 221.0, \"body_mass_g\": 5000.0, \"sex\": \"Male\", \"isAdelie_bool\": false, \"isAdelie_float\": 0.0, \"Pred\": 0.2554782915143905}, {\"species\": \"Gentoo\", \"island\": \"Biscoe\", \"bill_length_mm\": 48.2, \"bill_depth_mm\": 15.6, \"flipper_length_mm\": 221.0, \"body_mass_g\": 5100.0, \"sex\": \"Male\", \"isAdelie_bool\": false, \"isAdelie_float\": 0.0, \"Pred\": 0.11866901997462653}, {\"species\": \"Gentoo\", \"island\": \"Biscoe\", \"bill_length_mm\": 46.5, \"bill_depth_mm\": 14.8, \"flipper_length_mm\": 217.0, \"body_mass_g\": 5200.0, \"sex\": \"Female\", \"isAdelie_bool\": false, \"isAdelie_float\": 0.0, \"Pred\": 0.24787777642884778}, {\"species\": \"Gentoo\", \"island\": \"Biscoe\", \"bill_length_mm\": 46.4, \"bill_depth_mm\": 15.0, \"flipper_length_mm\": 216.0, \"body_mass_g\": 4700.0, \"sex\": \"Female\", \"isAdelie_bool\": false, \"isAdelie_float\": 0.0, \"Pred\": 0.2554782915143905}, {\"species\": \"Gentoo\", \"island\": \"Biscoe\", \"bill_length_mm\": 48.6, \"bill_depth_mm\": 16.0, \"flipper_length_mm\": 230.0, \"body_mass_g\": 5800.0, \"sex\": \"Male\", \"isAdelie_bool\": false, \"isAdelie_float\": 0.0, \"Pred\": 0.08826695963245701}, {\"species\": \"Gentoo\", \"island\": \"Biscoe\", \"bill_length_mm\": 47.5, \"bill_depth_mm\": 14.2, \"flipper_length_mm\": 209.0, \"body_mass_g\": 4600.0, \"sex\": \"Female\", \"isAdelie_bool\": false, \"isAdelie_float\": 0.0, \"Pred\": 0.17187262557342375}, {\"species\": \"Gentoo\", \"island\": \"Biscoe\", \"bill_length_mm\": 51.1, \"bill_depth_mm\": 16.3, \"flipper_length_mm\": 220.0, \"body_mass_g\": 6000.0, \"sex\": \"Male\", \"isAdelie_bool\": false, \"isAdelie_float\": 0.0, \"Pred\": -0.10174591750610373}, {\"species\": \"Gentoo\", \"island\": \"Biscoe\", \"bill_length_mm\": 45.2, \"bill_depth_mm\": 13.8, \"flipper_length_mm\": 215.0, \"body_mass_g\": 4750.0, \"sex\": \"Female\", \"isAdelie_bool\": false, \"isAdelie_float\": 0.0, \"Pred\": 0.34668447254089907}, {\"species\": \"Gentoo\", \"island\": \"Biscoe\", \"bill_length_mm\": 45.2, \"bill_depth_mm\": 16.4, \"flipper_length_mm\": 223.0, \"body_mass_g\": 5950.0, \"sex\": \"Male\", \"isAdelie_bool\": false, \"isAdelie_float\": 0.0, \"Pred\": 0.34668447254089907}, {\"species\": \"Gentoo\", \"island\": \"Biscoe\", \"bill_length_mm\": 49.1, \"bill_depth_mm\": 14.5, \"flipper_length_mm\": 212.0, \"body_mass_g\": 4625.0, \"sex\": \"Female\", \"isAdelie_bool\": false, \"isAdelie_float\": 0.0, \"Pred\": 0.05026438420474477}, {\"species\": \"Gentoo\", \"island\": \"Biscoe\", \"bill_length_mm\": 52.5, \"bill_depth_mm\": 15.6, \"flipper_length_mm\": 221.0, \"body_mass_g\": 5450.0, \"sex\": \"Male\", \"isAdelie_bool\": false, \"isAdelie_float\": 0.0, \"Pred\": -0.2081531287036973}, {\"species\": \"Gentoo\", \"island\": \"Biscoe\", \"bill_length_mm\": 47.4, \"bill_depth_mm\": 14.6, \"flipper_length_mm\": 212.0, \"body_mass_g\": 4725.0, \"sex\": \"Female\", \"isAdelie_bool\": false, \"isAdelie_float\": 0.0, \"Pred\": 0.17947314065896602}, {\"species\": \"Gentoo\", \"island\": \"Biscoe\", \"bill_length_mm\": 50.0, \"bill_depth_mm\": 15.9, \"flipper_length_mm\": 224.0, \"body_mass_g\": 5350.0, \"sex\": \"Male\", \"isAdelie_bool\": false, \"isAdelie_float\": 0.0, \"Pred\": -0.01814025156513699}, {\"species\": \"Gentoo\", \"island\": \"Biscoe\", \"bill_length_mm\": 44.9, \"bill_depth_mm\": 13.8, \"flipper_length_mm\": 212.0, \"body_mass_g\": 4750.0, \"sex\": \"Female\", \"isAdelie_bool\": false, \"isAdelie_float\": 0.0, \"Pred\": 0.36948601779752677}, {\"species\": \"Gentoo\", \"island\": \"Biscoe\", \"bill_length_mm\": 50.8, \"bill_depth_mm\": 17.3, \"flipper_length_mm\": 228.0, \"body_mass_g\": 5600.0, \"sex\": \"Male\", \"isAdelie_bool\": false, \"isAdelie_float\": 0.0, \"Pred\": -0.07894437224947604}, {\"species\": \"Gentoo\", \"island\": \"Biscoe\", \"bill_length_mm\": 43.4, \"bill_depth_mm\": 14.4, \"flipper_length_mm\": 218.0, \"body_mass_g\": 4600.0, \"sex\": \"Female\", \"isAdelie_bool\": false, \"isAdelie_float\": 0.0, \"Pred\": 0.4834937440806626}, {\"species\": \"Gentoo\", \"island\": \"Biscoe\", \"bill_length_mm\": 51.3, \"bill_depth_mm\": 14.2, \"flipper_length_mm\": 218.0, \"body_mass_g\": 5300.0, \"sex\": \"Male\", \"isAdelie_bool\": false, \"isAdelie_float\": 0.0, \"Pred\": -0.11694694767718783}, {\"species\": \"Gentoo\", \"island\": \"Biscoe\", \"bill_length_mm\": 47.5, \"bill_depth_mm\": 14.0, \"flipper_length_mm\": 212.0, \"body_mass_g\": 4875.0, \"sex\": \"Female\", \"isAdelie_bool\": false, \"isAdelie_float\": 0.0, \"Pred\": 0.17187262557342375}, {\"species\": \"Gentoo\", \"island\": \"Biscoe\", \"bill_length_mm\": 52.1, \"bill_depth_mm\": 17.0, \"flipper_length_mm\": 230.0, \"body_mass_g\": 5550.0, \"sex\": \"Male\", \"isAdelie_bool\": false, \"isAdelie_float\": 0.0, \"Pred\": -0.17775106836152776}, {\"species\": \"Gentoo\", \"island\": \"Biscoe\", \"bill_length_mm\": 47.5, \"bill_depth_mm\": 15.0, \"flipper_length_mm\": 218.0, \"body_mass_g\": 4950.0, \"sex\": \"Female\", \"isAdelie_bool\": false, \"isAdelie_float\": 0.0, \"Pred\": 0.17187262557342375}, {\"species\": \"Gentoo\", \"island\": \"Biscoe\", \"bill_length_mm\": 52.2, \"bill_depth_mm\": 17.1, \"flipper_length_mm\": 228.0, \"body_mass_g\": 5400.0, \"sex\": \"Male\", \"isAdelie_bool\": false, \"isAdelie_float\": 0.0, \"Pred\": -0.18535158344707003}, {\"species\": \"Gentoo\", \"island\": \"Biscoe\", \"bill_length_mm\": 45.5, \"bill_depth_mm\": 14.5, \"flipper_length_mm\": 212.0, \"body_mass_g\": 4750.0, \"sex\": \"Female\", \"isAdelie_bool\": false, \"isAdelie_float\": 0.0, \"Pred\": 0.3238829272842718}, {\"species\": \"Gentoo\", \"island\": \"Biscoe\", \"bill_length_mm\": 49.5, \"bill_depth_mm\": 16.1, \"flipper_length_mm\": 224.0, \"body_mass_g\": 5650.0, \"sex\": \"Male\", \"isAdelie_bool\": false, \"isAdelie_float\": 0.0, \"Pred\": 0.01986232386257525}, {\"species\": \"Gentoo\", \"island\": \"Biscoe\", \"bill_length_mm\": 44.5, \"bill_depth_mm\": 14.7, \"flipper_length_mm\": 214.0, \"body_mass_g\": 4850.0, \"sex\": \"Female\", \"isAdelie_bool\": false, \"isAdelie_float\": 0.0, \"Pred\": 0.3998880781396963}, {\"species\": \"Gentoo\", \"island\": \"Biscoe\", \"bill_length_mm\": 50.8, \"bill_depth_mm\": 15.7, \"flipper_length_mm\": 226.0, \"body_mass_g\": 5200.0, \"sex\": \"Male\", \"isAdelie_bool\": false, \"isAdelie_float\": 0.0, \"Pred\": -0.07894437224947604}, {\"species\": \"Gentoo\", \"island\": \"Biscoe\", \"bill_length_mm\": 49.4, \"bill_depth_mm\": 15.8, \"flipper_length_mm\": 216.0, \"body_mass_g\": 4925.0, \"sex\": \"Male\", \"isAdelie_bool\": false, \"isAdelie_float\": 0.0, \"Pred\": 0.027462838948117962}, {\"species\": \"Gentoo\", \"island\": \"Biscoe\", \"bill_length_mm\": 46.9, \"bill_depth_mm\": 14.6, \"flipper_length_mm\": 222.0, \"body_mass_g\": 4875.0, \"sex\": \"Female\", \"isAdelie_bool\": false, \"isAdelie_float\": 0.0, \"Pred\": 0.21747571608667826}, {\"species\": \"Gentoo\", \"island\": \"Biscoe\", \"bill_length_mm\": 48.4, \"bill_depth_mm\": 14.4, \"flipper_length_mm\": 203.0, \"body_mass_g\": 4625.0, \"sex\": \"Female\", \"isAdelie_bool\": false, \"isAdelie_float\": 0.0, \"Pred\": 0.103467989803542}, {\"species\": \"Gentoo\", \"island\": \"Biscoe\", \"bill_length_mm\": 51.1, \"bill_depth_mm\": 16.5, \"flipper_length_mm\": 225.0, \"body_mass_g\": 5250.0, \"sex\": \"Male\", \"isAdelie_bool\": false, \"isAdelie_float\": 0.0, \"Pred\": -0.10174591750610373}, {\"species\": \"Gentoo\", \"island\": \"Biscoe\", \"bill_length_mm\": 48.5, \"bill_depth_mm\": 15.0, \"flipper_length_mm\": 219.0, \"body_mass_g\": 4850.0, \"sex\": \"Female\", \"isAdelie_bool\": false, \"isAdelie_float\": 0.0, \"Pred\": 0.09586747471799928}, {\"species\": \"Gentoo\", \"island\": \"Biscoe\", \"bill_length_mm\": 55.9, \"bill_depth_mm\": 17.0, \"flipper_length_mm\": 228.0, \"body_mass_g\": 5600.0, \"sex\": \"Male\", \"isAdelie_bool\": false, \"isAdelie_float\": 0.0, \"Pred\": -0.4665706416121389}, {\"species\": \"Gentoo\", \"island\": \"Biscoe\", \"bill_length_mm\": 47.2, \"bill_depth_mm\": 15.5, \"flipper_length_mm\": 215.0, \"body_mass_g\": 4975.0, \"sex\": \"Female\", \"isAdelie_bool\": false, \"isAdelie_float\": 0.0, \"Pred\": 0.19467417083005056}, {\"species\": \"Gentoo\", \"island\": \"Biscoe\", \"bill_length_mm\": 49.1, \"bill_depth_mm\": 15.0, \"flipper_length_mm\": 228.0, \"body_mass_g\": 5500.0, \"sex\": \"Male\", \"isAdelie_bool\": false, \"isAdelie_float\": 0.0, \"Pred\": 0.05026438420474477}, {\"species\": \"Gentoo\", \"island\": \"Biscoe\", \"bill_length_mm\": 46.8, \"bill_depth_mm\": 16.1, \"flipper_length_mm\": 215.0, \"body_mass_g\": 5500.0, \"sex\": \"Male\", \"isAdelie_bool\": false, \"isAdelie_float\": 0.0, \"Pred\": 0.22507623117222053}, {\"species\": \"Gentoo\", \"island\": \"Biscoe\", \"bill_length_mm\": 41.7, \"bill_depth_mm\": 14.7, \"flipper_length_mm\": 210.0, \"body_mass_g\": 4700.0, \"sex\": \"Female\", \"isAdelie_bool\": false, \"isAdelie_float\": 0.0, \"Pred\": 0.6127025005348834}, {\"species\": \"Gentoo\", \"island\": \"Biscoe\", \"bill_length_mm\": 53.4, \"bill_depth_mm\": 15.8, \"flipper_length_mm\": 219.0, \"body_mass_g\": 5500.0, \"sex\": \"Male\", \"isAdelie_bool\": false, \"isAdelie_float\": 0.0, \"Pred\": -0.2765577644735786}, {\"species\": \"Gentoo\", \"island\": \"Biscoe\", \"bill_length_mm\": 43.3, \"bill_depth_mm\": 14.0, \"flipper_length_mm\": 208.0, \"body_mass_g\": 4575.0, \"sex\": \"Female\", \"isAdelie_bool\": false, \"isAdelie_float\": 0.0, \"Pred\": 0.4910942591662053}, {\"species\": \"Gentoo\", \"island\": \"Biscoe\", \"bill_length_mm\": 48.1, \"bill_depth_mm\": 15.1, \"flipper_length_mm\": 209.0, \"body_mass_g\": 5500.0, \"sex\": \"Male\", \"isAdelie_bool\": false, \"isAdelie_float\": 0.0, \"Pred\": 0.1262695350601688}, {\"species\": \"Gentoo\", \"island\": \"Biscoe\", \"bill_length_mm\": 50.5, \"bill_depth_mm\": 15.2, \"flipper_length_mm\": 216.0, \"body_mass_g\": 5000.0, \"sex\": \"Female\", \"isAdelie_bool\": false, \"isAdelie_float\": 0.0, \"Pred\": -0.05614282699284878}, {\"species\": \"Gentoo\", \"island\": \"Biscoe\", \"bill_length_mm\": 49.8, \"bill_depth_mm\": 15.9, \"flipper_length_mm\": 229.0, \"body_mass_g\": 5950.0, \"sex\": \"Male\", \"isAdelie_bool\": false, \"isAdelie_float\": 0.0, \"Pred\": -0.002939221394051561}, {\"species\": \"Gentoo\", \"island\": \"Biscoe\", \"bill_length_mm\": 43.5, \"bill_depth_mm\": 15.2, \"flipper_length_mm\": 213.0, \"body_mass_g\": 4650.0, \"sex\": \"Female\", \"isAdelie_bool\": false, \"isAdelie_float\": 0.0, \"Pred\": 0.4758932289951203}, {\"species\": \"Gentoo\", \"island\": \"Biscoe\", \"bill_length_mm\": 51.5, \"bill_depth_mm\": 16.3, \"flipper_length_mm\": 230.0, \"body_mass_g\": 5500.0, \"sex\": \"Male\", \"isAdelie_bool\": false, \"isAdelie_float\": 0.0, \"Pred\": -0.13214797784827326}, {\"species\": \"Gentoo\", \"island\": \"Biscoe\", \"bill_length_mm\": 46.2, \"bill_depth_mm\": 14.1, \"flipper_length_mm\": 217.0, \"body_mass_g\": 4375.0, \"sex\": \"Female\", \"isAdelie_bool\": false, \"isAdelie_float\": 0.0, \"Pred\": 0.2706793216854746}, {\"species\": \"Gentoo\", \"island\": \"Biscoe\", \"bill_length_mm\": 55.1, \"bill_depth_mm\": 16.0, \"flipper_length_mm\": 230.0, \"body_mass_g\": 5850.0, \"sex\": \"Male\", \"isAdelie_bool\": false, \"isAdelie_float\": 0.0, \"Pred\": -0.40576652092779986}, {\"species\": \"Gentoo\", \"island\": \"Biscoe\", \"bill_length_mm\": 48.8, \"bill_depth_mm\": 16.2, \"flipper_length_mm\": 222.0, \"body_mass_g\": 6000.0, \"sex\": \"Male\", \"isAdelie_bool\": false, \"isAdelie_float\": 0.0, \"Pred\": 0.07306592946137247}, {\"species\": \"Gentoo\", \"island\": \"Biscoe\", \"bill_length_mm\": 47.2, \"bill_depth_mm\": 13.7, \"flipper_length_mm\": 214.0, \"body_mass_g\": 4925.0, \"sex\": \"Female\", \"isAdelie_bool\": false, \"isAdelie_float\": 0.0, \"Pred\": 0.19467417083005056}, {\"species\": \"Gentoo\", \"island\": \"Biscoe\", \"bill_length_mm\": 46.8, \"bill_depth_mm\": 14.3, \"flipper_length_mm\": 215.0, \"body_mass_g\": 4850.0, \"sex\": \"Female\", \"isAdelie_bool\": false, \"isAdelie_float\": 0.0, \"Pred\": 0.22507623117222053}, {\"species\": \"Gentoo\", \"island\": \"Biscoe\", \"bill_length_mm\": 50.4, \"bill_depth_mm\": 15.7, \"flipper_length_mm\": 222.0, \"body_mass_g\": 5750.0, \"sex\": \"Male\", \"isAdelie_bool\": false, \"isAdelie_float\": 0.0, \"Pred\": -0.04854231190730651}, {\"species\": \"Gentoo\", \"island\": \"Biscoe\", \"bill_length_mm\": 45.2, \"bill_depth_mm\": 14.8, \"flipper_length_mm\": 212.0, \"body_mass_g\": 5200.0, \"sex\": \"Female\", \"isAdelie_bool\": false, \"isAdelie_float\": 0.0, \"Pred\": 0.34668447254089907}, {\"species\": \"Gentoo\", \"island\": \"Biscoe\", \"bill_length_mm\": 49.9, \"bill_depth_mm\": 16.1, \"flipper_length_mm\": 213.0, \"body_mass_g\": 5400.0, \"sex\": \"Male\", \"isAdelie_bool\": false, \"isAdelie_float\": 0.0, \"Pred\": -0.010539736479594275}]}}, {\"mode\": \"vega-lite\"});\n",
       "</script>"
      ],
      "text/plain": [
       "alt.LayerChart(...)"
      ]
     },
     "execution_count": 18,
     "metadata": {},
     "output_type": "execute_result"
    }
   ],
   "source": [
    "c+c1"
   ]
  },
  {
   "cell_type": "markdown",
   "metadata": {
    "cell_id": "f4dc722cf33d418790b59b59714924e4",
    "deepnote_cell_height": 401,
    "deepnote_cell_type": "markdown",
    "tags": []
   },
   "source": [
    "## Logistic Regression, Part 1\n",
    "\n",
    "<iframe width=\"560\" height=\"315\" src=\"https://www.youtube.com/embed/NBY7SDsTH0E\" title=\"YouTube video player\" frameborder=\"0\" allow=\"accelerometer; autoplay; clipboard-write; encrypted-media; gyroscope; picture-in-picture\" allowfullscreen></iframe>"
   ]
  },
  {
   "cell_type": "code",
   "execution_count": null,
   "metadata": {
    "cell_id": "052eade324de4a40afd7af3e618ecf53",
    "deepnote_cell_height": 81,
    "deepnote_cell_type": "code",
    "deepnote_to_be_reexecuted": false,
    "execution_millis": 1,
    "execution_start": 1652030294060,
    "source_hash": "af35732f",
    "tags": []
   },
   "outputs": [],
   "source": [
    "from sklearn.linear_model import LogisticRegression"
   ]
  },
  {
   "cell_type": "code",
   "execution_count": null,
   "metadata": {
    "cell_id": "f4f2b17b94504dc5a1f84ac804dc2e38",
    "deepnote_cell_height": 81,
    "deepnote_cell_type": "code",
    "deepnote_to_be_reexecuted": false,
    "execution_millis": 2,
    "execution_start": 1652030320465,
    "source_hash": "aef42042",
    "tags": []
   },
   "outputs": [],
   "source": [
    "clf = LogisticRegression()"
   ]
  },
  {
   "cell_type": "code",
   "execution_count": null,
   "metadata": {
    "cell_id": "40a1387626ea45cfbeff5e01b05893de",
    "deepnote_cell_height": 118.1875,
    "deepnote_cell_type": "code",
    "deepnote_output_heights": [
     21.1875
    ],
    "deepnote_to_be_reexecuted": false,
    "execution_millis": 22,
    "execution_start": 1652030346495,
    "source_hash": "5af4d6e0",
    "tags": []
   },
   "outputs": [
    {
     "data": {
      "text/plain": [
       "LogisticRegression()"
      ]
     },
     "execution_count": 21,
     "metadata": {},
     "output_type": "execute_result"
    }
   ],
   "source": [
    "clf.fit(df[[\"bill_length_mm\"]], df[\"isAdelie_float\"])"
   ]
  },
  {
   "cell_type": "code",
   "execution_count": null,
   "metadata": {
    "cell_id": "99d07e6c2f684771a5ecf581d8854fe7",
    "deepnote_cell_height": 81,
    "deepnote_cell_type": "code",
    "deepnote_to_be_reexecuted": false,
    "execution_millis": 3,
    "execution_start": 1652030379263,
    "source_hash": "afaede79",
    "tags": []
   },
   "outputs": [],
   "source": [
    "df[\"Pred2\"] = clf.predict(df[[\"bill_length_mm\"]])"
   ]
  },
  {
   "cell_type": "code",
   "execution_count": null,
   "metadata": {
    "cell_id": "91e8e729db15478e9193f9e7be3b44e7",
    "deepnote_cell_height": 135,
    "deepnote_cell_type": "code",
    "deepnote_to_be_reexecuted": false,
    "execution_millis": 3,
    "execution_start": 1652030423070,
    "source_hash": "3a5e90ed",
    "tags": []
   },
   "outputs": [],
   "source": [
    "c2 = alt.Chart(df).mark_point(color=\"red\").encode(\n",
    "    x=\"bill_length_mm\",\n",
    "    y=\"Pred2\"\n",
    ")"
   ]
  },
  {
   "cell_type": "code",
   "execution_count": null,
   "metadata": {
    "cell_id": "ca798992ddb749bd811391242869316e",
    "deepnote_cell_height": 458,
    "deepnote_cell_type": "code",
    "deepnote_output_heights": [
     361
    ],
    "deepnote_to_be_reexecuted": false,
    "execution_millis": 20,
    "execution_start": 1652030427432,
    "source_hash": "5e05b0f4",
    "tags": []
   },
   "outputs": [
    {
     "data": {
      "text/html": [
       "\n",
       "<div id=\"altair-viz-350a66b2b4a14f52a02dbfcec4f1100d\"></div>\n",
       "<script type=\"text/javascript\">\n",
       "  (function(spec, embedOpt){\n",
       "    let outputDiv = document.currentScript.previousElementSibling;\n",
       "    if (outputDiv.id !== \"altair-viz-350a66b2b4a14f52a02dbfcec4f1100d\") {\n",
       "      outputDiv = document.getElementById(\"altair-viz-350a66b2b4a14f52a02dbfcec4f1100d\");\n",
       "    }\n",
       "    const paths = {\n",
       "      \"vega\": \"https://cdn.jsdelivr.net/npm//vega@5?noext\",\n",
       "      \"vega-lib\": \"https://cdn.jsdelivr.net/npm//vega-lib?noext\",\n",
       "      \"vega-lite\": \"https://cdn.jsdelivr.net/npm//vega-lite@4.8.1?noext\",\n",
       "      \"vega-embed\": \"https://cdn.jsdelivr.net/npm//vega-embed@6?noext\",\n",
       "    };\n",
       "\n",
       "    function loadScript(lib) {\n",
       "      return new Promise(function(resolve, reject) {\n",
       "        var s = document.createElement('script');\n",
       "        s.src = paths[lib];\n",
       "        s.async = true;\n",
       "        s.onload = () => resolve(paths[lib]);\n",
       "        s.onerror = () => reject(`Error loading script: ${paths[lib]}`);\n",
       "        document.getElementsByTagName(\"head\")[0].appendChild(s);\n",
       "      });\n",
       "    }\n",
       "\n",
       "    function showError(err) {\n",
       "      outputDiv.innerHTML = `<div class=\"error\" style=\"color:red;\">${err}</div>`;\n",
       "      throw err;\n",
       "    }\n",
       "\n",
       "    function displayChart(vegaEmbed) {\n",
       "      vegaEmbed(outputDiv, spec, embedOpt)\n",
       "        .catch(err => showError(`Javascript Error: ${err.message}<br>This usually means there's a typo in your chart specification. See the javascript console for the full traceback.`));\n",
       "    }\n",
       "\n",
       "    if(typeof define === \"function\" && define.amd) {\n",
       "      requirejs.config({paths});\n",
       "      require([\"vega-embed\"], displayChart, err => showError(`Error loading script: ${err.message}`));\n",
       "    } else if (typeof vegaEmbed === \"function\") {\n",
       "      displayChart(vegaEmbed);\n",
       "    } else {\n",
       "      loadScript(\"vega\")\n",
       "        .then(() => loadScript(\"vega-lite\"))\n",
       "        .then(() => loadScript(\"vega-embed\"))\n",
       "        .catch(showError)\n",
       "        .then(() => displayChart(vegaEmbed));\n",
       "    }\n",
       "  })({\"config\": {\"view\": {\"continuousWidth\": 400, \"continuousHeight\": 300}}, \"layer\": [{\"mark\": \"circle\", \"encoding\": {\"x\": {\"type\": \"quantitative\", \"field\": \"bill_length_mm\"}, \"y\": {\"type\": \"quantitative\", \"field\": \"isAdelie_float\"}}}, {\"mark\": {\"type\": \"point\", \"color\": \"red\"}, \"encoding\": {\"x\": {\"type\": \"quantitative\", \"field\": \"bill_length_mm\"}, \"y\": {\"type\": \"quantitative\", \"field\": \"Pred2\"}}}], \"data\": {\"name\": \"data-566a80fe1cd44ad727f83c5d5b01bbd2\"}, \"$schema\": \"https://vega.github.io/schema/vega-lite/v4.8.1.json\", \"datasets\": {\"data-566a80fe1cd44ad727f83c5d5b01bbd2\": [{\"species\": \"Adelie\", \"island\": \"Torgersen\", \"bill_length_mm\": 39.1, \"bill_depth_mm\": 18.7, \"flipper_length_mm\": 181.0, \"body_mass_g\": 3750.0, \"sex\": \"Male\", \"isAdelie_bool\": true, \"isAdelie_float\": 1.0, \"Pred\": 0.8103158927589864, \"Pred2\": 1.0}, {\"species\": \"Adelie\", \"island\": \"Torgersen\", \"bill_length_mm\": 39.5, \"bill_depth_mm\": 17.4, \"flipper_length_mm\": 186.0, \"body_mass_g\": 3800.0, \"sex\": \"Female\", \"isAdelie_bool\": true, \"isAdelie_float\": 1.0, \"Pred\": 0.7799138324168169, \"Pred2\": 1.0}, {\"species\": \"Adelie\", \"island\": \"Torgersen\", \"bill_length_mm\": 40.3, \"bill_depth_mm\": 18.0, \"flipper_length_mm\": 195.0, \"body_mass_g\": 3250.0, \"sex\": \"Female\", \"isAdelie_bool\": true, \"isAdelie_float\": 1.0, \"Pred\": 0.7191097117324778, \"Pred2\": 1.0}, {\"species\": \"Adelie\", \"island\": \"Torgersen\", \"bill_length_mm\": 36.7, \"bill_depth_mm\": 19.3, \"flipper_length_mm\": 193.0, \"body_mass_g\": 3450.0, \"sex\": \"Female\", \"isAdelie_bool\": true, \"isAdelie_float\": 1.0, \"Pred\": 0.9927282548120044, \"Pred2\": 1.0}, {\"species\": \"Adelie\", \"island\": \"Torgersen\", \"bill_length_mm\": 39.3, \"bill_depth_mm\": 20.6, \"flipper_length_mm\": 190.0, \"body_mass_g\": 3650.0, \"sex\": \"Male\", \"isAdelie_bool\": true, \"isAdelie_float\": 1.0, \"Pred\": 0.7951148625879019, \"Pred2\": 1.0}, {\"species\": \"Adelie\", \"island\": \"Torgersen\", \"bill_length_mm\": 38.9, \"bill_depth_mm\": 17.8, \"flipper_length_mm\": 181.0, \"body_mass_g\": 3625.0, \"sex\": \"Female\", \"isAdelie_bool\": true, \"isAdelie_float\": 1.0, \"Pred\": 0.8255169229300714, \"Pred2\": 1.0}, {\"species\": \"Adelie\", \"island\": \"Torgersen\", \"bill_length_mm\": 39.2, \"bill_depth_mm\": 19.6, \"flipper_length_mm\": 195.0, \"body_mass_g\": 4675.0, \"sex\": \"Male\", \"isAdelie_bool\": true, \"isAdelie_float\": 1.0, \"Pred\": 0.8027153776734441, \"Pred2\": 1.0}, {\"species\": \"Adelie\", \"island\": \"Torgersen\", \"bill_length_mm\": 41.1, \"bill_depth_mm\": 17.6, \"flipper_length_mm\": 182.0, \"body_mass_g\": 3200.0, \"sex\": \"Female\", \"isAdelie_bool\": true, \"isAdelie_float\": 1.0, \"Pred\": 0.6583055910481383, \"Pred2\": 1.0}, {\"species\": \"Adelie\", \"island\": \"Torgersen\", \"bill_length_mm\": 38.6, \"bill_depth_mm\": 21.2, \"flipper_length_mm\": 191.0, \"body_mass_g\": 3800.0, \"sex\": \"Male\", \"isAdelie_bool\": true, \"isAdelie_float\": 1.0, \"Pred\": 0.8483184681866986, \"Pred2\": 1.0}, {\"species\": \"Adelie\", \"island\": \"Torgersen\", \"bill_length_mm\": 34.6, \"bill_depth_mm\": 21.1, \"flipper_length_mm\": 198.0, \"body_mass_g\": 4400.0, \"sex\": \"Male\", \"isAdelie_bool\": true, \"isAdelie_float\": 1.0, \"Pred\": 1.1523390716083952, \"Pred2\": 1.0}, {\"species\": \"Adelie\", \"island\": \"Torgersen\", \"bill_length_mm\": 36.6, \"bill_depth_mm\": 17.8, \"flipper_length_mm\": 185.0, \"body_mass_g\": 3700.0, \"sex\": \"Female\", \"isAdelie_bool\": true, \"isAdelie_float\": 1.0, \"Pred\": 1.0003287698975472, \"Pred2\": 1.0}, {\"species\": \"Adelie\", \"island\": \"Torgersen\", \"bill_length_mm\": 38.7, \"bill_depth_mm\": 19.0, \"flipper_length_mm\": 195.0, \"body_mass_g\": 3450.0, \"sex\": \"Female\", \"isAdelie_bool\": true, \"isAdelie_float\": 1.0, \"Pred\": 0.8407179531011559, \"Pred2\": 1.0}, {\"species\": \"Adelie\", \"island\": \"Torgersen\", \"bill_length_mm\": 42.5, \"bill_depth_mm\": 20.7, \"flipper_length_mm\": 197.0, \"body_mass_g\": 4500.0, \"sex\": \"Male\", \"isAdelie_bool\": true, \"isAdelie_float\": 1.0, \"Pred\": 0.5518983798505444, \"Pred2\": 1.0}, {\"species\": \"Adelie\", \"island\": \"Torgersen\", \"bill_length_mm\": 34.4, \"bill_depth_mm\": 18.4, \"flipper_length_mm\": 184.0, \"body_mass_g\": 3325.0, \"sex\": \"Female\", \"isAdelie_bool\": true, \"isAdelie_float\": 1.0, \"Pred\": 1.1675401017794802, \"Pred2\": 1.0}, {\"species\": \"Adelie\", \"island\": \"Torgersen\", \"bill_length_mm\": 46.0, \"bill_depth_mm\": 21.5, \"flipper_length_mm\": 194.0, \"body_mass_g\": 4200.0, \"sex\": \"Male\", \"isAdelie_bool\": true, \"isAdelie_float\": 1.0, \"Pred\": 0.28588035185656, \"Pred2\": 0.0}, {\"species\": \"Adelie\", \"island\": \"Biscoe\", \"bill_length_mm\": 37.8, \"bill_depth_mm\": 18.3, \"flipper_length_mm\": 174.0, \"body_mass_g\": 3400.0, \"sex\": \"Female\", \"isAdelie_bool\": true, \"isAdelie_float\": 1.0, \"Pred\": 0.9091225888710381, \"Pred2\": 1.0}, {\"species\": \"Adelie\", \"island\": \"Biscoe\", \"bill_length_mm\": 37.7, \"bill_depth_mm\": 18.7, \"flipper_length_mm\": 180.0, \"body_mass_g\": 3600.0, \"sex\": \"Male\", \"isAdelie_bool\": true, \"isAdelie_float\": 1.0, \"Pred\": 0.9167231039565804, \"Pred2\": 1.0}, {\"species\": \"Adelie\", \"island\": \"Biscoe\", \"bill_length_mm\": 35.9, \"bill_depth_mm\": 19.2, \"flipper_length_mm\": 189.0, \"body_mass_g\": 3800.0, \"sex\": \"Female\", \"isAdelie_bool\": true, \"isAdelie_float\": 1.0, \"Pred\": 1.053532375496344, \"Pred2\": 1.0}, {\"species\": \"Adelie\", \"island\": \"Biscoe\", \"bill_length_mm\": 38.2, \"bill_depth_mm\": 18.1, \"flipper_length_mm\": 185.0, \"body_mass_g\": 3950.0, \"sex\": \"Male\", \"isAdelie_bool\": true, \"isAdelie_float\": 1.0, \"Pred\": 0.8787205285288682, \"Pred2\": 1.0}, {\"species\": \"Adelie\", \"island\": \"Biscoe\", \"bill_length_mm\": 38.8, \"bill_depth_mm\": 17.2, \"flipper_length_mm\": 180.0, \"body_mass_g\": 3800.0, \"sex\": \"Male\", \"isAdelie_bool\": true, \"isAdelie_float\": 1.0, \"Pred\": 0.8331174380156141, \"Pred2\": 1.0}, {\"species\": \"Adelie\", \"island\": \"Biscoe\", \"bill_length_mm\": 35.3, \"bill_depth_mm\": 18.9, \"flipper_length_mm\": 187.0, \"body_mass_g\": 3800.0, \"sex\": \"Female\", \"isAdelie_bool\": true, \"isAdelie_float\": 1.0, \"Pred\": 1.0991354660095989, \"Pred2\": 1.0}, {\"species\": \"Adelie\", \"island\": \"Biscoe\", \"bill_length_mm\": 40.6, \"bill_depth_mm\": 18.6, \"flipper_length_mm\": 183.0, \"body_mass_g\": 3550.0, \"sex\": \"Male\", \"isAdelie_bool\": true, \"isAdelie_float\": 1.0, \"Pred\": 0.6963081664758501, \"Pred2\": 1.0}, {\"species\": \"Adelie\", \"island\": \"Biscoe\", \"bill_length_mm\": 40.5, \"bill_depth_mm\": 17.9, \"flipper_length_mm\": 187.0, \"body_mass_g\": 3200.0, \"sex\": \"Female\", \"isAdelie_bool\": true, \"isAdelie_float\": 1.0, \"Pred\": 0.7039086815613929, \"Pred2\": 1.0}, {\"species\": \"Adelie\", \"island\": \"Biscoe\", \"bill_length_mm\": 37.9, \"bill_depth_mm\": 18.6, \"flipper_length_mm\": 172.0, \"body_mass_g\": 3150.0, \"sex\": \"Female\", \"isAdelie_bool\": true, \"isAdelie_float\": 1.0, \"Pred\": 0.9015220737854959, \"Pred2\": 1.0}, {\"species\": \"Adelie\", \"island\": \"Biscoe\", \"bill_length_mm\": 40.5, \"bill_depth_mm\": 18.9, \"flipper_length_mm\": 180.0, \"body_mass_g\": 3950.0, \"sex\": \"Male\", \"isAdelie_bool\": true, \"isAdelie_float\": 1.0, \"Pred\": 0.7039086815613929, \"Pred2\": 1.0}, {\"species\": \"Adelie\", \"island\": \"Dream\", \"bill_length_mm\": 39.5, \"bill_depth_mm\": 16.7, \"flipper_length_mm\": 178.0, \"body_mass_g\": 3250.0, \"sex\": \"Female\", \"isAdelie_bool\": true, \"isAdelie_float\": 1.0, \"Pred\": 0.7799138324168169, \"Pred2\": 1.0}, {\"species\": \"Adelie\", \"island\": \"Dream\", \"bill_length_mm\": 37.2, \"bill_depth_mm\": 18.1, \"flipper_length_mm\": 178.0, \"body_mass_g\": 3900.0, \"sex\": \"Male\", \"isAdelie_bool\": true, \"isAdelie_float\": 1.0, \"Pred\": 0.9547256793842922, \"Pred2\": 1.0}, {\"species\": \"Adelie\", \"island\": \"Dream\", \"bill_length_mm\": 39.5, \"bill_depth_mm\": 17.8, \"flipper_length_mm\": 188.0, \"body_mass_g\": 3300.0, \"sex\": \"Female\", \"isAdelie_bool\": true, \"isAdelie_float\": 1.0, \"Pred\": 0.7799138324168169, \"Pred2\": 1.0}, {\"species\": \"Adelie\", \"island\": \"Dream\", \"bill_length_mm\": 40.9, \"bill_depth_mm\": 18.9, \"flipper_length_mm\": 184.0, \"body_mass_g\": 3900.0, \"sex\": \"Male\", \"isAdelie_bool\": true, \"isAdelie_float\": 1.0, \"Pred\": 0.6735066212192233, \"Pred2\": 1.0}, {\"species\": \"Adelie\", \"island\": \"Dream\", \"bill_length_mm\": 36.4, \"bill_depth_mm\": 17.0, \"flipper_length_mm\": 195.0, \"body_mass_g\": 3325.0, \"sex\": \"Female\", \"isAdelie_bool\": true, \"isAdelie_float\": 1.0, \"Pred\": 1.0155298000686321, \"Pred2\": 1.0}, {\"species\": \"Adelie\", \"island\": \"Dream\", \"bill_length_mm\": 39.2, \"bill_depth_mm\": 21.1, \"flipper_length_mm\": 196.0, \"body_mass_g\": 4150.0, \"sex\": \"Male\", \"isAdelie_bool\": true, \"isAdelie_float\": 1.0, \"Pred\": 0.8027153776734441, \"Pred2\": 1.0}, {\"species\": \"Adelie\", \"island\": \"Dream\", \"bill_length_mm\": 38.8, \"bill_depth_mm\": 20.0, \"flipper_length_mm\": 190.0, \"body_mass_g\": 3950.0, \"sex\": \"Male\", \"isAdelie_bool\": true, \"isAdelie_float\": 1.0, \"Pred\": 0.8331174380156141, \"Pred2\": 1.0}, {\"species\": \"Adelie\", \"island\": \"Dream\", \"bill_length_mm\": 42.2, \"bill_depth_mm\": 18.5, \"flipper_length_mm\": 180.0, \"body_mass_g\": 3550.0, \"sex\": \"Female\", \"isAdelie_bool\": true, \"isAdelie_float\": 1.0, \"Pred\": 0.5746999251071716, \"Pred2\": 1.0}, {\"species\": \"Adelie\", \"island\": \"Dream\", \"bill_length_mm\": 37.6, \"bill_depth_mm\": 19.3, \"flipper_length_mm\": 181.0, \"body_mass_g\": 3300.0, \"sex\": \"Female\", \"isAdelie_bool\": true, \"isAdelie_float\": 1.0, \"Pred\": 0.9243236190421227, \"Pred2\": 1.0}, {\"species\": \"Adelie\", \"island\": \"Dream\", \"bill_length_mm\": 39.8, \"bill_depth_mm\": 19.1, \"flipper_length_mm\": 184.0, \"body_mass_g\": 4650.0, \"sex\": \"Male\", \"isAdelie_bool\": true, \"isAdelie_float\": 1.0, \"Pred\": 0.7571122871601901, \"Pred2\": 1.0}, {\"species\": \"Adelie\", \"island\": \"Dream\", \"bill_length_mm\": 36.5, \"bill_depth_mm\": 18.0, \"flipper_length_mm\": 182.0, \"body_mass_g\": 3150.0, \"sex\": \"Female\", \"isAdelie_bool\": true, \"isAdelie_float\": 1.0, \"Pred\": 1.0079292849830894, \"Pred2\": 1.0}, {\"species\": \"Adelie\", \"island\": \"Dream\", \"bill_length_mm\": 40.8, \"bill_depth_mm\": 18.4, \"flipper_length_mm\": 195.0, \"body_mass_g\": 3900.0, \"sex\": \"Male\", \"isAdelie_bool\": true, \"isAdelie_float\": 1.0, \"Pred\": 0.6811071363047656, \"Pred2\": 1.0}, {\"species\": \"Adelie\", \"island\": \"Dream\", \"bill_length_mm\": 36.0, \"bill_depth_mm\": 18.5, \"flipper_length_mm\": 186.0, \"body_mass_g\": 3100.0, \"sex\": \"Female\", \"isAdelie_bool\": true, \"isAdelie_float\": 1.0, \"Pred\": 1.0459318604108017, \"Pred2\": 1.0}, {\"species\": \"Adelie\", \"island\": \"Dream\", \"bill_length_mm\": 44.1, \"bill_depth_mm\": 19.7, \"flipper_length_mm\": 196.0, \"body_mass_g\": 4400.0, \"sex\": \"Male\", \"isAdelie_bool\": true, \"isAdelie_float\": 1.0, \"Pred\": 0.4302901384818658, \"Pred2\": 0.0}, {\"species\": \"Adelie\", \"island\": \"Dream\", \"bill_length_mm\": 37.0, \"bill_depth_mm\": 16.9, \"flipper_length_mm\": 185.0, \"body_mass_g\": 3000.0, \"sex\": \"Female\", \"isAdelie_bool\": true, \"isAdelie_float\": 1.0, \"Pred\": 0.9699267095553772, \"Pred2\": 1.0}, {\"species\": \"Adelie\", \"island\": \"Dream\", \"bill_length_mm\": 39.6, \"bill_depth_mm\": 18.8, \"flipper_length_mm\": 190.0, \"body_mass_g\": 4600.0, \"sex\": \"Male\", \"isAdelie_bool\": true, \"isAdelie_float\": 1.0, \"Pred\": 0.7723133173312746, \"Pred2\": 1.0}, {\"species\": \"Adelie\", \"island\": \"Dream\", \"bill_length_mm\": 41.1, \"bill_depth_mm\": 19.0, \"flipper_length_mm\": 182.0, \"body_mass_g\": 3425.0, \"sex\": \"Male\", \"isAdelie_bool\": true, \"isAdelie_float\": 1.0, \"Pred\": 0.6583055910481383, \"Pred2\": 1.0}, {\"species\": \"Adelie\", \"island\": \"Dream\", \"bill_length_mm\": 36.0, \"bill_depth_mm\": 17.9, \"flipper_length_mm\": 190.0, \"body_mass_g\": 3450.0, \"sex\": \"Female\", \"isAdelie_bool\": true, \"isAdelie_float\": 1.0, \"Pred\": 1.0459318604108017, \"Pred2\": 1.0}, {\"species\": \"Adelie\", \"island\": \"Dream\", \"bill_length_mm\": 42.3, \"bill_depth_mm\": 21.2, \"flipper_length_mm\": 191.0, \"body_mass_g\": 4150.0, \"sex\": \"Male\", \"isAdelie_bool\": true, \"isAdelie_float\": 1.0, \"Pred\": 0.5670994100216293, \"Pred2\": 1.0}, {\"species\": \"Adelie\", \"island\": \"Biscoe\", \"bill_length_mm\": 39.6, \"bill_depth_mm\": 17.7, \"flipper_length_mm\": 186.0, \"body_mass_g\": 3500.0, \"sex\": \"Female\", \"isAdelie_bool\": true, \"isAdelie_float\": 1.0, \"Pred\": 0.7723133173312746, \"Pred2\": 1.0}, {\"species\": \"Adelie\", \"island\": \"Biscoe\", \"bill_length_mm\": 40.1, \"bill_depth_mm\": 18.9, \"flipper_length_mm\": 188.0, \"body_mass_g\": 4300.0, \"sex\": \"Male\", \"isAdelie_bool\": true, \"isAdelie_float\": 1.0, \"Pred\": 0.7343107419035624, \"Pred2\": 1.0}, {\"species\": \"Adelie\", \"island\": \"Biscoe\", \"bill_length_mm\": 35.0, \"bill_depth_mm\": 17.9, \"flipper_length_mm\": 190.0, \"body_mass_g\": 3450.0, \"sex\": \"Female\", \"isAdelie_bool\": true, \"isAdelie_float\": 1.0, \"Pred\": 1.1219370112662257, \"Pred2\": 1.0}, {\"species\": \"Adelie\", \"island\": \"Biscoe\", \"bill_length_mm\": 42.0, \"bill_depth_mm\": 19.5, \"flipper_length_mm\": 200.0, \"body_mass_g\": 4050.0, \"sex\": \"Male\", \"isAdelie_bool\": true, \"isAdelie_float\": 1.0, \"Pred\": 0.5899009552782566, \"Pred2\": 1.0}, {\"species\": \"Adelie\", \"island\": \"Biscoe\", \"bill_length_mm\": 34.5, \"bill_depth_mm\": 18.1, \"flipper_length_mm\": 187.0, \"body_mass_g\": 2900.0, \"sex\": \"Female\", \"isAdelie_bool\": true, \"isAdelie_float\": 1.0, \"Pred\": 1.159939586693938, \"Pred2\": 1.0}, {\"species\": \"Adelie\", \"island\": \"Biscoe\", \"bill_length_mm\": 41.4, \"bill_depth_mm\": 18.6, \"flipper_length_mm\": 191.0, \"body_mass_g\": 3700.0, \"sex\": \"Male\", \"isAdelie_bool\": true, \"isAdelie_float\": 1.0, \"Pred\": 0.6355040457915111, \"Pred2\": 1.0}, {\"species\": \"Adelie\", \"island\": \"Biscoe\", \"bill_length_mm\": 39.0, \"bill_depth_mm\": 17.5, \"flipper_length_mm\": 186.0, \"body_mass_g\": 3550.0, \"sex\": \"Female\", \"isAdelie_bool\": true, \"isAdelie_float\": 1.0, \"Pred\": 0.8179164078445291, \"Pred2\": 1.0}, {\"species\": \"Adelie\", \"island\": \"Biscoe\", \"bill_length_mm\": 40.6, \"bill_depth_mm\": 18.8, \"flipper_length_mm\": 193.0, \"body_mass_g\": 3800.0, \"sex\": \"Male\", \"isAdelie_bool\": true, \"isAdelie_float\": 1.0, \"Pred\": 0.6963081664758501, \"Pred2\": 1.0}, {\"species\": \"Adelie\", \"island\": \"Biscoe\", \"bill_length_mm\": 36.5, \"bill_depth_mm\": 16.6, \"flipper_length_mm\": 181.0, \"body_mass_g\": 2850.0, \"sex\": \"Female\", \"isAdelie_bool\": true, \"isAdelie_float\": 1.0, \"Pred\": 1.0079292849830894, \"Pred2\": 1.0}, {\"species\": \"Adelie\", \"island\": \"Biscoe\", \"bill_length_mm\": 37.6, \"bill_depth_mm\": 19.1, \"flipper_length_mm\": 194.0, \"body_mass_g\": 3750.0, \"sex\": \"Male\", \"isAdelie_bool\": true, \"isAdelie_float\": 1.0, \"Pred\": 0.9243236190421227, \"Pred2\": 1.0}, {\"species\": \"Adelie\", \"island\": \"Biscoe\", \"bill_length_mm\": 35.7, \"bill_depth_mm\": 16.9, \"flipper_length_mm\": 185.0, \"body_mass_g\": 3150.0, \"sex\": \"Female\", \"isAdelie_bool\": true, \"isAdelie_float\": 1.0, \"Pred\": 1.0687334056674285, \"Pred2\": 1.0}, {\"species\": \"Adelie\", \"island\": \"Biscoe\", \"bill_length_mm\": 41.3, \"bill_depth_mm\": 21.1, \"flipper_length_mm\": 195.0, \"body_mass_g\": 4400.0, \"sex\": \"Male\", \"isAdelie_bool\": true, \"isAdelie_float\": 1.0, \"Pred\": 0.6431045608770538, \"Pred2\": 1.0}, {\"species\": \"Adelie\", \"island\": \"Biscoe\", \"bill_length_mm\": 37.6, \"bill_depth_mm\": 17.0, \"flipper_length_mm\": 185.0, \"body_mass_g\": 3600.0, \"sex\": \"Female\", \"isAdelie_bool\": true, \"isAdelie_float\": 1.0, \"Pred\": 0.9243236190421227, \"Pred2\": 1.0}, {\"species\": \"Adelie\", \"island\": \"Biscoe\", \"bill_length_mm\": 41.1, \"bill_depth_mm\": 18.2, \"flipper_length_mm\": 192.0, \"body_mass_g\": 4050.0, \"sex\": \"Male\", \"isAdelie_bool\": true, \"isAdelie_float\": 1.0, \"Pred\": 0.6583055910481383, \"Pred2\": 1.0}, {\"species\": \"Adelie\", \"island\": \"Biscoe\", \"bill_length_mm\": 36.4, \"bill_depth_mm\": 17.1, \"flipper_length_mm\": 184.0, \"body_mass_g\": 2850.0, \"sex\": \"Female\", \"isAdelie_bool\": true, \"isAdelie_float\": 1.0, \"Pred\": 1.0155298000686321, \"Pred2\": 1.0}, {\"species\": \"Adelie\", \"island\": \"Biscoe\", \"bill_length_mm\": 41.6, \"bill_depth_mm\": 18.0, \"flipper_length_mm\": 192.0, \"body_mass_g\": 3950.0, \"sex\": \"Male\", \"isAdelie_bool\": true, \"isAdelie_float\": 1.0, \"Pred\": 0.6203030156204261, \"Pred2\": 1.0}, {\"species\": \"Adelie\", \"island\": \"Biscoe\", \"bill_length_mm\": 35.5, \"bill_depth_mm\": 16.2, \"flipper_length_mm\": 195.0, \"body_mass_g\": 3350.0, \"sex\": \"Female\", \"isAdelie_bool\": true, \"isAdelie_float\": 1.0, \"Pred\": 1.0839344358385135, \"Pred2\": 1.0}, {\"species\": \"Adelie\", \"island\": \"Biscoe\", \"bill_length_mm\": 41.1, \"bill_depth_mm\": 19.1, \"flipper_length_mm\": 188.0, \"body_mass_g\": 4100.0, \"sex\": \"Male\", \"isAdelie_bool\": true, \"isAdelie_float\": 1.0, \"Pred\": 0.6583055910481383, \"Pred2\": 1.0}, {\"species\": \"Adelie\", \"island\": \"Torgersen\", \"bill_length_mm\": 35.9, \"bill_depth_mm\": 16.6, \"flipper_length_mm\": 190.0, \"body_mass_g\": 3050.0, \"sex\": \"Female\", \"isAdelie_bool\": true, \"isAdelie_float\": 1.0, \"Pred\": 1.053532375496344, \"Pred2\": 1.0}, {\"species\": \"Adelie\", \"island\": \"Torgersen\", \"bill_length_mm\": 41.8, \"bill_depth_mm\": 19.4, \"flipper_length_mm\": 198.0, \"body_mass_g\": 4450.0, \"sex\": \"Male\", \"isAdelie_bool\": true, \"isAdelie_float\": 1.0, \"Pred\": 0.6051019854493416, \"Pred2\": 1.0}, {\"species\": \"Adelie\", \"island\": \"Torgersen\", \"bill_length_mm\": 33.5, \"bill_depth_mm\": 19.0, \"flipper_length_mm\": 190.0, \"body_mass_g\": 3600.0, \"sex\": \"Female\", \"isAdelie_bool\": true, \"isAdelie_float\": 1.0, \"Pred\": 1.235944737549362, \"Pred2\": 1.0}, {\"species\": \"Adelie\", \"island\": \"Torgersen\", \"bill_length_mm\": 39.7, \"bill_depth_mm\": 18.4, \"flipper_length_mm\": 190.0, \"body_mass_g\": 3900.0, \"sex\": \"Male\", \"isAdelie_bool\": true, \"isAdelie_float\": 1.0, \"Pred\": 0.7647128022457319, \"Pred2\": 1.0}, {\"species\": \"Adelie\", \"island\": \"Torgersen\", \"bill_length_mm\": 39.6, \"bill_depth_mm\": 17.2, \"flipper_length_mm\": 196.0, \"body_mass_g\": 3550.0, \"sex\": \"Female\", \"isAdelie_bool\": true, \"isAdelie_float\": 1.0, \"Pred\": 0.7723133173312746, \"Pred2\": 1.0}, {\"species\": \"Adelie\", \"island\": \"Torgersen\", \"bill_length_mm\": 45.8, \"bill_depth_mm\": 18.9, \"flipper_length_mm\": 197.0, \"body_mass_g\": 4150.0, \"sex\": \"Male\", \"isAdelie_bool\": true, \"isAdelie_float\": 1.0, \"Pred\": 0.301081382027645, \"Pred2\": 0.0}, {\"species\": \"Adelie\", \"island\": \"Torgersen\", \"bill_length_mm\": 35.5, \"bill_depth_mm\": 17.5, \"flipper_length_mm\": 190.0, \"body_mass_g\": 3700.0, \"sex\": \"Female\", \"isAdelie_bool\": true, \"isAdelie_float\": 1.0, \"Pred\": 1.0839344358385135, \"Pred2\": 1.0}, {\"species\": \"Adelie\", \"island\": \"Torgersen\", \"bill_length_mm\": 42.8, \"bill_depth_mm\": 18.5, \"flipper_length_mm\": 195.0, \"body_mass_g\": 4250.0, \"sex\": \"Male\", \"isAdelie_bool\": true, \"isAdelie_float\": 1.0, \"Pred\": 0.5290968345939175, \"Pred2\": 1.0}, {\"species\": \"Adelie\", \"island\": \"Torgersen\", \"bill_length_mm\": 40.9, \"bill_depth_mm\": 16.8, \"flipper_length_mm\": 191.0, \"body_mass_g\": 3700.0, \"sex\": \"Female\", \"isAdelie_bool\": true, \"isAdelie_float\": 1.0, \"Pred\": 0.6735066212192233, \"Pred2\": 1.0}, {\"species\": \"Adelie\", \"island\": \"Torgersen\", \"bill_length_mm\": 37.2, \"bill_depth_mm\": 19.4, \"flipper_length_mm\": 184.0, \"body_mass_g\": 3900.0, \"sex\": \"Male\", \"isAdelie_bool\": true, \"isAdelie_float\": 1.0, \"Pred\": 0.9547256793842922, \"Pred2\": 1.0}, {\"species\": \"Adelie\", \"island\": \"Torgersen\", \"bill_length_mm\": 36.2, \"bill_depth_mm\": 16.1, \"flipper_length_mm\": 187.0, \"body_mass_g\": 3550.0, \"sex\": \"Female\", \"isAdelie_bool\": true, \"isAdelie_float\": 1.0, \"Pred\": 1.0307308302397167, \"Pred2\": 1.0}, {\"species\": \"Adelie\", \"island\": \"Torgersen\", \"bill_length_mm\": 42.1, \"bill_depth_mm\": 19.1, \"flipper_length_mm\": 195.0, \"body_mass_g\": 4000.0, \"sex\": \"Male\", \"isAdelie_bool\": true, \"isAdelie_float\": 1.0, \"Pred\": 0.5823004401927139, \"Pred2\": 1.0}, {\"species\": \"Adelie\", \"island\": \"Torgersen\", \"bill_length_mm\": 34.6, \"bill_depth_mm\": 17.2, \"flipper_length_mm\": 189.0, \"body_mass_g\": 3200.0, \"sex\": \"Female\", \"isAdelie_bool\": true, \"isAdelie_float\": 1.0, \"Pred\": 1.1523390716083952, \"Pred2\": 1.0}, {\"species\": \"Adelie\", \"island\": \"Torgersen\", \"bill_length_mm\": 42.9, \"bill_depth_mm\": 17.6, \"flipper_length_mm\": 196.0, \"body_mass_g\": 4700.0, \"sex\": \"Male\", \"isAdelie_bool\": true, \"isAdelie_float\": 1.0, \"Pred\": 0.5214963195083748, \"Pred2\": 0.0}, {\"species\": \"Adelie\", \"island\": \"Torgersen\", \"bill_length_mm\": 36.7, \"bill_depth_mm\": 18.8, \"flipper_length_mm\": 187.0, \"body_mass_g\": 3800.0, \"sex\": \"Female\", \"isAdelie_bool\": true, \"isAdelie_float\": 1.0, \"Pred\": 0.9927282548120044, \"Pred2\": 1.0}, {\"species\": \"Adelie\", \"island\": \"Torgersen\", \"bill_length_mm\": 35.1, \"bill_depth_mm\": 19.4, \"flipper_length_mm\": 193.0, \"body_mass_g\": 4200.0, \"sex\": \"Male\", \"isAdelie_bool\": true, \"isAdelie_float\": 1.0, \"Pred\": 1.114336496180683, \"Pred2\": 1.0}, {\"species\": \"Adelie\", \"island\": \"Dream\", \"bill_length_mm\": 37.3, \"bill_depth_mm\": 17.8, \"flipper_length_mm\": 191.0, \"body_mass_g\": 3350.0, \"sex\": \"Female\", \"isAdelie_bool\": true, \"isAdelie_float\": 1.0, \"Pred\": 0.9471251642987504, \"Pred2\": 1.0}, {\"species\": \"Adelie\", \"island\": \"Dream\", \"bill_length_mm\": 41.3, \"bill_depth_mm\": 20.3, \"flipper_length_mm\": 194.0, \"body_mass_g\": 3550.0, \"sex\": \"Male\", \"isAdelie_bool\": true, \"isAdelie_float\": 1.0, \"Pred\": 0.6431045608770538, \"Pred2\": 1.0}, {\"species\": \"Adelie\", \"island\": \"Dream\", \"bill_length_mm\": 36.3, \"bill_depth_mm\": 19.5, \"flipper_length_mm\": 190.0, \"body_mass_g\": 3800.0, \"sex\": \"Male\", \"isAdelie_bool\": true, \"isAdelie_float\": 1.0, \"Pred\": 1.0231303151541744, \"Pred2\": 1.0}, {\"species\": \"Adelie\", \"island\": \"Dream\", \"bill_length_mm\": 36.9, \"bill_depth_mm\": 18.6, \"flipper_length_mm\": 189.0, \"body_mass_g\": 3500.0, \"sex\": \"Female\", \"isAdelie_bool\": true, \"isAdelie_float\": 1.0, \"Pred\": 0.9775272246409199, \"Pred2\": 1.0}, {\"species\": \"Adelie\", \"island\": \"Dream\", \"bill_length_mm\": 38.3, \"bill_depth_mm\": 19.2, \"flipper_length_mm\": 189.0, \"body_mass_g\": 3950.0, \"sex\": \"Male\", \"isAdelie_bool\": true, \"isAdelie_float\": 1.0, \"Pred\": 0.8711200134433263, \"Pred2\": 1.0}, {\"species\": \"Adelie\", \"island\": \"Dream\", \"bill_length_mm\": 38.9, \"bill_depth_mm\": 18.8, \"flipper_length_mm\": 190.0, \"body_mass_g\": 3600.0, \"sex\": \"Female\", \"isAdelie_bool\": true, \"isAdelie_float\": 1.0, \"Pred\": 0.8255169229300714, \"Pred2\": 1.0}, {\"species\": \"Adelie\", \"island\": \"Dream\", \"bill_length_mm\": 35.7, \"bill_depth_mm\": 18.0, \"flipper_length_mm\": 202.0, \"body_mass_g\": 3550.0, \"sex\": \"Female\", \"isAdelie_bool\": true, \"isAdelie_float\": 1.0, \"Pred\": 1.0687334056674285, \"Pred2\": 1.0}, {\"species\": \"Adelie\", \"island\": \"Dream\", \"bill_length_mm\": 41.1, \"bill_depth_mm\": 18.1, \"flipper_length_mm\": 205.0, \"body_mass_g\": 4300.0, \"sex\": \"Male\", \"isAdelie_bool\": true, \"isAdelie_float\": 1.0, \"Pred\": 0.6583055910481383, \"Pred2\": 1.0}, {\"species\": \"Adelie\", \"island\": \"Dream\", \"bill_length_mm\": 34.0, \"bill_depth_mm\": 17.1, \"flipper_length_mm\": 185.0, \"body_mass_g\": 3400.0, \"sex\": \"Female\", \"isAdelie_bool\": true, \"isAdelie_float\": 1.0, \"Pred\": 1.1979421621216497, \"Pred2\": 1.0}, {\"species\": \"Adelie\", \"island\": \"Dream\", \"bill_length_mm\": 39.6, \"bill_depth_mm\": 18.1, \"flipper_length_mm\": 186.0, \"body_mass_g\": 4450.0, \"sex\": \"Male\", \"isAdelie_bool\": true, \"isAdelie_float\": 1.0, \"Pred\": 0.7723133173312746, \"Pred2\": 1.0}, {\"species\": \"Adelie\", \"island\": \"Dream\", \"bill_length_mm\": 36.2, \"bill_depth_mm\": 17.3, \"flipper_length_mm\": 187.0, \"body_mass_g\": 3300.0, \"sex\": \"Female\", \"isAdelie_bool\": true, \"isAdelie_float\": 1.0, \"Pred\": 1.0307308302397167, \"Pred2\": 1.0}, {\"species\": \"Adelie\", \"island\": \"Dream\", \"bill_length_mm\": 40.8, \"bill_depth_mm\": 18.9, \"flipper_length_mm\": 208.0, \"body_mass_g\": 4300.0, \"sex\": \"Male\", \"isAdelie_bool\": true, \"isAdelie_float\": 1.0, \"Pred\": 0.6811071363047656, \"Pred2\": 1.0}, {\"species\": \"Adelie\", \"island\": \"Dream\", \"bill_length_mm\": 38.1, \"bill_depth_mm\": 18.6, \"flipper_length_mm\": 190.0, \"body_mass_g\": 3700.0, \"sex\": \"Female\", \"isAdelie_bool\": true, \"isAdelie_float\": 1.0, \"Pred\": 0.8863210436144109, \"Pred2\": 1.0}, {\"species\": \"Adelie\", \"island\": \"Dream\", \"bill_length_mm\": 40.3, \"bill_depth_mm\": 18.5, \"flipper_length_mm\": 196.0, \"body_mass_g\": 4350.0, \"sex\": \"Male\", \"isAdelie_bool\": true, \"isAdelie_float\": 1.0, \"Pred\": 0.7191097117324778, \"Pred2\": 1.0}, {\"species\": \"Adelie\", \"island\": \"Dream\", \"bill_length_mm\": 33.1, \"bill_depth_mm\": 16.1, \"flipper_length_mm\": 178.0, \"body_mass_g\": 2900.0, \"sex\": \"Female\", \"isAdelie_bool\": true, \"isAdelie_float\": 1.0, \"Pred\": 1.2663467978915315, \"Pred2\": 1.0}, {\"species\": \"Adelie\", \"island\": \"Dream\", \"bill_length_mm\": 43.2, \"bill_depth_mm\": 18.5, \"flipper_length_mm\": 192.0, \"body_mass_g\": 4100.0, \"sex\": \"Male\", \"isAdelie_bool\": true, \"isAdelie_float\": 1.0, \"Pred\": 0.49869477425174713, \"Pred2\": 0.0}, {\"species\": \"Adelie\", \"island\": \"Biscoe\", \"bill_length_mm\": 35.0, \"bill_depth_mm\": 17.9, \"flipper_length_mm\": 192.0, \"body_mass_g\": 3725.0, \"sex\": \"Female\", \"isAdelie_bool\": true, \"isAdelie_float\": 1.0, \"Pred\": 1.1219370112662257, \"Pred2\": 1.0}, {\"species\": \"Adelie\", \"island\": \"Biscoe\", \"bill_length_mm\": 41.0, \"bill_depth_mm\": 20.0, \"flipper_length_mm\": 203.0, \"body_mass_g\": 4725.0, \"sex\": \"Male\", \"isAdelie_bool\": true, \"isAdelie_float\": 1.0, \"Pred\": 0.6659061061336806, \"Pred2\": 1.0}, {\"species\": \"Adelie\", \"island\": \"Biscoe\", \"bill_length_mm\": 37.7, \"bill_depth_mm\": 16.0, \"flipper_length_mm\": 183.0, \"body_mass_g\": 3075.0, \"sex\": \"Female\", \"isAdelie_bool\": true, \"isAdelie_float\": 1.0, \"Pred\": 0.9167231039565804, \"Pred2\": 1.0}, {\"species\": \"Adelie\", \"island\": \"Biscoe\", \"bill_length_mm\": 37.8, \"bill_depth_mm\": 20.0, \"flipper_length_mm\": 190.0, \"body_mass_g\": 4250.0, \"sex\": \"Male\", \"isAdelie_bool\": true, \"isAdelie_float\": 1.0, \"Pred\": 0.9091225888710381, \"Pred2\": 1.0}, {\"species\": \"Adelie\", \"island\": \"Biscoe\", \"bill_length_mm\": 37.9, \"bill_depth_mm\": 18.6, \"flipper_length_mm\": 193.0, \"body_mass_g\": 2925.0, \"sex\": \"Female\", \"isAdelie_bool\": true, \"isAdelie_float\": 1.0, \"Pred\": 0.9015220737854959, \"Pred2\": 1.0}, {\"species\": \"Adelie\", \"island\": \"Biscoe\", \"bill_length_mm\": 39.7, \"bill_depth_mm\": 18.9, \"flipper_length_mm\": 184.0, \"body_mass_g\": 3550.0, \"sex\": \"Male\", \"isAdelie_bool\": true, \"isAdelie_float\": 1.0, \"Pred\": 0.7647128022457319, \"Pred2\": 1.0}, {\"species\": \"Adelie\", \"island\": \"Biscoe\", \"bill_length_mm\": 38.6, \"bill_depth_mm\": 17.2, \"flipper_length_mm\": 199.0, \"body_mass_g\": 3750.0, \"sex\": \"Female\", \"isAdelie_bool\": true, \"isAdelie_float\": 1.0, \"Pred\": 0.8483184681866986, \"Pred2\": 1.0}, {\"species\": \"Adelie\", \"island\": \"Biscoe\", \"bill_length_mm\": 38.2, \"bill_depth_mm\": 20.0, \"flipper_length_mm\": 190.0, \"body_mass_g\": 3900.0, \"sex\": \"Male\", \"isAdelie_bool\": true, \"isAdelie_float\": 1.0, \"Pred\": 0.8787205285288682, \"Pred2\": 1.0}, {\"species\": \"Adelie\", \"island\": \"Biscoe\", \"bill_length_mm\": 38.1, \"bill_depth_mm\": 17.0, \"flipper_length_mm\": 181.0, \"body_mass_g\": 3175.0, \"sex\": \"Female\", \"isAdelie_bool\": true, \"isAdelie_float\": 1.0, \"Pred\": 0.8863210436144109, \"Pred2\": 1.0}, {\"species\": \"Adelie\", \"island\": \"Biscoe\", \"bill_length_mm\": 43.2, \"bill_depth_mm\": 19.0, \"flipper_length_mm\": 197.0, \"body_mass_g\": 4775.0, \"sex\": \"Male\", \"isAdelie_bool\": true, \"isAdelie_float\": 1.0, \"Pred\": 0.49869477425174713, \"Pred2\": 0.0}, {\"species\": \"Adelie\", \"island\": \"Biscoe\", \"bill_length_mm\": 38.1, \"bill_depth_mm\": 16.5, \"flipper_length_mm\": 198.0, \"body_mass_g\": 3825.0, \"sex\": \"Female\", \"isAdelie_bool\": true, \"isAdelie_float\": 1.0, \"Pred\": 0.8863210436144109, \"Pred2\": 1.0}, {\"species\": \"Adelie\", \"island\": \"Biscoe\", \"bill_length_mm\": 45.6, \"bill_depth_mm\": 20.3, \"flipper_length_mm\": 191.0, \"body_mass_g\": 4600.0, \"sex\": \"Male\", \"isAdelie_bool\": true, \"isAdelie_float\": 1.0, \"Pred\": 0.31628241219872955, \"Pred2\": 0.0}, {\"species\": \"Adelie\", \"island\": \"Biscoe\", \"bill_length_mm\": 39.7, \"bill_depth_mm\": 17.7, \"flipper_length_mm\": 193.0, \"body_mass_g\": 3200.0, \"sex\": \"Female\", \"isAdelie_bool\": true, \"isAdelie_float\": 1.0, \"Pred\": 0.7647128022457319, \"Pred2\": 1.0}, {\"species\": \"Adelie\", \"island\": \"Biscoe\", \"bill_length_mm\": 42.2, \"bill_depth_mm\": 19.5, \"flipper_length_mm\": 197.0, \"body_mass_g\": 4275.0, \"sex\": \"Male\", \"isAdelie_bool\": true, \"isAdelie_float\": 1.0, \"Pred\": 0.5746999251071716, \"Pred2\": 1.0}, {\"species\": \"Adelie\", \"island\": \"Biscoe\", \"bill_length_mm\": 39.6, \"bill_depth_mm\": 20.7, \"flipper_length_mm\": 191.0, \"body_mass_g\": 3900.0, \"sex\": \"Female\", \"isAdelie_bool\": true, \"isAdelie_float\": 1.0, \"Pred\": 0.7723133173312746, \"Pred2\": 1.0}, {\"species\": \"Adelie\", \"island\": \"Biscoe\", \"bill_length_mm\": 42.7, \"bill_depth_mm\": 18.3, \"flipper_length_mm\": 196.0, \"body_mass_g\": 4075.0, \"sex\": \"Male\", \"isAdelie_bool\": true, \"isAdelie_float\": 1.0, \"Pred\": 0.5366973496794594, \"Pred2\": 1.0}, {\"species\": \"Adelie\", \"island\": \"Torgersen\", \"bill_length_mm\": 38.6, \"bill_depth_mm\": 17.0, \"flipper_length_mm\": 188.0, \"body_mass_g\": 2900.0, \"sex\": \"Female\", \"isAdelie_bool\": true, \"isAdelie_float\": 1.0, \"Pred\": 0.8483184681866986, \"Pred2\": 1.0}, {\"species\": \"Adelie\", \"island\": \"Torgersen\", \"bill_length_mm\": 37.3, \"bill_depth_mm\": 20.5, \"flipper_length_mm\": 199.0, \"body_mass_g\": 3775.0, \"sex\": \"Male\", \"isAdelie_bool\": true, \"isAdelie_float\": 1.0, \"Pred\": 0.9471251642987504, \"Pred2\": 1.0}, {\"species\": \"Adelie\", \"island\": \"Torgersen\", \"bill_length_mm\": 35.7, \"bill_depth_mm\": 17.0, \"flipper_length_mm\": 189.0, \"body_mass_g\": 3350.0, \"sex\": \"Female\", \"isAdelie_bool\": true, \"isAdelie_float\": 1.0, \"Pred\": 1.0687334056674285, \"Pred2\": 1.0}, {\"species\": \"Adelie\", \"island\": \"Torgersen\", \"bill_length_mm\": 41.1, \"bill_depth_mm\": 18.6, \"flipper_length_mm\": 189.0, \"body_mass_g\": 3325.0, \"sex\": \"Male\", \"isAdelie_bool\": true, \"isAdelie_float\": 1.0, \"Pred\": 0.6583055910481383, \"Pred2\": 1.0}, {\"species\": \"Adelie\", \"island\": \"Torgersen\", \"bill_length_mm\": 36.2, \"bill_depth_mm\": 17.2, \"flipper_length_mm\": 187.0, \"body_mass_g\": 3150.0, \"sex\": \"Female\", \"isAdelie_bool\": true, \"isAdelie_float\": 1.0, \"Pred\": 1.0307308302397167, \"Pred2\": 1.0}, {\"species\": \"Adelie\", \"island\": \"Torgersen\", \"bill_length_mm\": 37.7, \"bill_depth_mm\": 19.8, \"flipper_length_mm\": 198.0, \"body_mass_g\": 3500.0, \"sex\": \"Male\", \"isAdelie_bool\": true, \"isAdelie_float\": 1.0, \"Pred\": 0.9167231039565804, \"Pred2\": 1.0}, {\"species\": \"Adelie\", \"island\": \"Torgersen\", \"bill_length_mm\": 40.2, \"bill_depth_mm\": 17.0, \"flipper_length_mm\": 176.0, \"body_mass_g\": 3450.0, \"sex\": \"Female\", \"isAdelie_bool\": true, \"isAdelie_float\": 1.0, \"Pred\": 0.7267102268180197, \"Pred2\": 1.0}, {\"species\": \"Adelie\", \"island\": \"Torgersen\", \"bill_length_mm\": 41.4, \"bill_depth_mm\": 18.5, \"flipper_length_mm\": 202.0, \"body_mass_g\": 3875.0, \"sex\": \"Male\", \"isAdelie_bool\": true, \"isAdelie_float\": 1.0, \"Pred\": 0.6355040457915111, \"Pred2\": 1.0}, {\"species\": \"Adelie\", \"island\": \"Torgersen\", \"bill_length_mm\": 35.2, \"bill_depth_mm\": 15.9, \"flipper_length_mm\": 186.0, \"body_mass_g\": 3050.0, \"sex\": \"Female\", \"isAdelie_bool\": true, \"isAdelie_float\": 1.0, \"Pred\": 1.1067359810951407, \"Pred2\": 1.0}, {\"species\": \"Adelie\", \"island\": \"Torgersen\", \"bill_length_mm\": 40.6, \"bill_depth_mm\": 19.0, \"flipper_length_mm\": 199.0, \"body_mass_g\": 4000.0, \"sex\": \"Male\", \"isAdelie_bool\": true, \"isAdelie_float\": 1.0, \"Pred\": 0.6963081664758501, \"Pred2\": 1.0}, {\"species\": \"Adelie\", \"island\": \"Torgersen\", \"bill_length_mm\": 38.8, \"bill_depth_mm\": 17.6, \"flipper_length_mm\": 191.0, \"body_mass_g\": 3275.0, \"sex\": \"Female\", \"isAdelie_bool\": true, \"isAdelie_float\": 1.0, \"Pred\": 0.8331174380156141, \"Pred2\": 1.0}, {\"species\": \"Adelie\", \"island\": \"Torgersen\", \"bill_length_mm\": 41.5, \"bill_depth_mm\": 18.3, \"flipper_length_mm\": 195.0, \"body_mass_g\": 4300.0, \"sex\": \"Male\", \"isAdelie_bool\": true, \"isAdelie_float\": 1.0, \"Pred\": 0.6279035307059688, \"Pred2\": 1.0}, {\"species\": \"Adelie\", \"island\": \"Torgersen\", \"bill_length_mm\": 39.0, \"bill_depth_mm\": 17.1, \"flipper_length_mm\": 191.0, \"body_mass_g\": 3050.0, \"sex\": \"Female\", \"isAdelie_bool\": true, \"isAdelie_float\": 1.0, \"Pred\": 0.8179164078445291, \"Pred2\": 1.0}, {\"species\": \"Adelie\", \"island\": \"Torgersen\", \"bill_length_mm\": 44.1, \"bill_depth_mm\": 18.0, \"flipper_length_mm\": 210.0, \"body_mass_g\": 4000.0, \"sex\": \"Male\", \"isAdelie_bool\": true, \"isAdelie_float\": 1.0, \"Pred\": 0.4302901384818658, \"Pred2\": 0.0}, {\"species\": \"Adelie\", \"island\": \"Torgersen\", \"bill_length_mm\": 38.5, \"bill_depth_mm\": 17.9, \"flipper_length_mm\": 190.0, \"body_mass_g\": 3325.0, \"sex\": \"Female\", \"isAdelie_bool\": true, \"isAdelie_float\": 1.0, \"Pred\": 0.8559189832722409, \"Pred2\": 1.0}, {\"species\": \"Adelie\", \"island\": \"Torgersen\", \"bill_length_mm\": 43.1, \"bill_depth_mm\": 19.2, \"flipper_length_mm\": 197.0, \"body_mass_g\": 3500.0, \"sex\": \"Male\", \"isAdelie_bool\": true, \"isAdelie_float\": 1.0, \"Pred\": 0.5062952893372898, \"Pred2\": 0.0}, {\"species\": \"Adelie\", \"island\": \"Dream\", \"bill_length_mm\": 36.8, \"bill_depth_mm\": 18.5, \"flipper_length_mm\": 193.0, \"body_mass_g\": 3500.0, \"sex\": \"Female\", \"isAdelie_bool\": true, \"isAdelie_float\": 1.0, \"Pred\": 0.9851277397264626, \"Pred2\": 1.0}, {\"species\": \"Adelie\", \"island\": \"Dream\", \"bill_length_mm\": 37.5, \"bill_depth_mm\": 18.5, \"flipper_length_mm\": 199.0, \"body_mass_g\": 4475.0, \"sex\": \"Male\", \"isAdelie_bool\": true, \"isAdelie_float\": 1.0, \"Pred\": 0.9319241341276654, \"Pred2\": 1.0}, {\"species\": \"Adelie\", \"island\": \"Dream\", \"bill_length_mm\": 38.1, \"bill_depth_mm\": 17.6, \"flipper_length_mm\": 187.0, \"body_mass_g\": 3425.0, \"sex\": \"Female\", \"isAdelie_bool\": true, \"isAdelie_float\": 1.0, \"Pred\": 0.8863210436144109, \"Pred2\": 1.0}, {\"species\": \"Adelie\", \"island\": \"Dream\", \"bill_length_mm\": 41.1, \"bill_depth_mm\": 17.5, \"flipper_length_mm\": 190.0, \"body_mass_g\": 3900.0, \"sex\": \"Male\", \"isAdelie_bool\": true, \"isAdelie_float\": 1.0, \"Pred\": 0.6583055910481383, \"Pred2\": 1.0}, {\"species\": \"Adelie\", \"island\": \"Dream\", \"bill_length_mm\": 35.6, \"bill_depth_mm\": 17.5, \"flipper_length_mm\": 191.0, \"body_mass_g\": 3175.0, \"sex\": \"Female\", \"isAdelie_bool\": true, \"isAdelie_float\": 1.0, \"Pred\": 1.0763339207529712, \"Pred2\": 1.0}, {\"species\": \"Adelie\", \"island\": \"Dream\", \"bill_length_mm\": 40.2, \"bill_depth_mm\": 20.1, \"flipper_length_mm\": 200.0, \"body_mass_g\": 3975.0, \"sex\": \"Male\", \"isAdelie_bool\": true, \"isAdelie_float\": 1.0, \"Pred\": 0.7267102268180197, \"Pred2\": 1.0}, {\"species\": \"Adelie\", \"island\": \"Dream\", \"bill_length_mm\": 37.0, \"bill_depth_mm\": 16.5, \"flipper_length_mm\": 185.0, \"body_mass_g\": 3400.0, \"sex\": \"Female\", \"isAdelie_bool\": true, \"isAdelie_float\": 1.0, \"Pred\": 0.9699267095553772, \"Pred2\": 1.0}, {\"species\": \"Adelie\", \"island\": \"Dream\", \"bill_length_mm\": 39.7, \"bill_depth_mm\": 17.9, \"flipper_length_mm\": 193.0, \"body_mass_g\": 4250.0, \"sex\": \"Male\", \"isAdelie_bool\": true, \"isAdelie_float\": 1.0, \"Pred\": 0.7647128022457319, \"Pred2\": 1.0}, {\"species\": \"Adelie\", \"island\": \"Dream\", \"bill_length_mm\": 40.2, \"bill_depth_mm\": 17.1, \"flipper_length_mm\": 193.0, \"body_mass_g\": 3400.0, \"sex\": \"Female\", \"isAdelie_bool\": true, \"isAdelie_float\": 1.0, \"Pred\": 0.7267102268180197, \"Pred2\": 1.0}, {\"species\": \"Adelie\", \"island\": \"Dream\", \"bill_length_mm\": 40.6, \"bill_depth_mm\": 17.2, \"flipper_length_mm\": 187.0, \"body_mass_g\": 3475.0, \"sex\": \"Male\", \"isAdelie_bool\": true, \"isAdelie_float\": 1.0, \"Pred\": 0.6963081664758501, \"Pred2\": 1.0}, {\"species\": \"Adelie\", \"island\": \"Dream\", \"bill_length_mm\": 32.1, \"bill_depth_mm\": 15.5, \"flipper_length_mm\": 188.0, \"body_mass_g\": 3050.0, \"sex\": \"Female\", \"isAdelie_bool\": true, \"isAdelie_float\": 1.0, \"Pred\": 1.3423519487469555, \"Pred2\": 1.0}, {\"species\": \"Adelie\", \"island\": \"Dream\", \"bill_length_mm\": 40.7, \"bill_depth_mm\": 17.0, \"flipper_length_mm\": 190.0, \"body_mass_g\": 3725.0, \"sex\": \"Male\", \"isAdelie_bool\": true, \"isAdelie_float\": 1.0, \"Pred\": 0.6887076513903079, \"Pred2\": 1.0}, {\"species\": \"Adelie\", \"island\": \"Dream\", \"bill_length_mm\": 37.3, \"bill_depth_mm\": 16.8, \"flipper_length_mm\": 192.0, \"body_mass_g\": 3000.0, \"sex\": \"Female\", \"isAdelie_bool\": true, \"isAdelie_float\": 1.0, \"Pred\": 0.9471251642987504, \"Pred2\": 1.0}, {\"species\": \"Adelie\", \"island\": \"Dream\", \"bill_length_mm\": 39.0, \"bill_depth_mm\": 18.7, \"flipper_length_mm\": 185.0, \"body_mass_g\": 3650.0, \"sex\": \"Male\", \"isAdelie_bool\": true, \"isAdelie_float\": 1.0, \"Pred\": 0.8179164078445291, \"Pred2\": 1.0}, {\"species\": \"Adelie\", \"island\": \"Dream\", \"bill_length_mm\": 39.2, \"bill_depth_mm\": 18.6, \"flipper_length_mm\": 190.0, \"body_mass_g\": 4250.0, \"sex\": \"Male\", \"isAdelie_bool\": true, \"isAdelie_float\": 1.0, \"Pred\": 0.8027153776734441, \"Pred2\": 1.0}, {\"species\": \"Adelie\", \"island\": \"Dream\", \"bill_length_mm\": 36.6, \"bill_depth_mm\": 18.4, \"flipper_length_mm\": 184.0, \"body_mass_g\": 3475.0, \"sex\": \"Female\", \"isAdelie_bool\": true, \"isAdelie_float\": 1.0, \"Pred\": 1.0003287698975472, \"Pred2\": 1.0}, {\"species\": \"Adelie\", \"island\": \"Dream\", \"bill_length_mm\": 36.0, \"bill_depth_mm\": 17.8, \"flipper_length_mm\": 195.0, \"body_mass_g\": 3450.0, \"sex\": \"Female\", \"isAdelie_bool\": true, \"isAdelie_float\": 1.0, \"Pred\": 1.0459318604108017, \"Pred2\": 1.0}, {\"species\": \"Adelie\", \"island\": \"Dream\", \"bill_length_mm\": 37.8, \"bill_depth_mm\": 18.1, \"flipper_length_mm\": 193.0, \"body_mass_g\": 3750.0, \"sex\": \"Male\", \"isAdelie_bool\": true, \"isAdelie_float\": 1.0, \"Pred\": 0.9091225888710381, \"Pred2\": 1.0}, {\"species\": \"Adelie\", \"island\": \"Dream\", \"bill_length_mm\": 36.0, \"bill_depth_mm\": 17.1, \"flipper_length_mm\": 187.0, \"body_mass_g\": 3700.0, \"sex\": \"Female\", \"isAdelie_bool\": true, \"isAdelie_float\": 1.0, \"Pred\": 1.0459318604108017, \"Pred2\": 1.0}, {\"species\": \"Adelie\", \"island\": \"Dream\", \"bill_length_mm\": 41.5, \"bill_depth_mm\": 18.5, \"flipper_length_mm\": 201.0, \"body_mass_g\": 4000.0, \"sex\": \"Male\", \"isAdelie_bool\": true, \"isAdelie_float\": 1.0, \"Pred\": 0.6279035307059688, \"Pred2\": 1.0}, {\"species\": \"Chinstrap\", \"island\": \"Dream\", \"bill_length_mm\": 46.5, \"bill_depth_mm\": 17.9, \"flipper_length_mm\": 192.0, \"body_mass_g\": 3500.0, \"sex\": \"Female\", \"isAdelie_bool\": false, \"isAdelie_float\": 0.0, \"Pred\": 0.24787777642884778, \"Pred2\": 0.0}, {\"species\": \"Chinstrap\", \"island\": \"Dream\", \"bill_length_mm\": 50.0, \"bill_depth_mm\": 19.5, \"flipper_length_mm\": 196.0, \"body_mass_g\": 3900.0, \"sex\": \"Male\", \"isAdelie_bool\": false, \"isAdelie_float\": 0.0, \"Pred\": -0.01814025156513699, \"Pred2\": 0.0}, {\"species\": \"Chinstrap\", \"island\": \"Dream\", \"bill_length_mm\": 51.3, \"bill_depth_mm\": 19.2, \"flipper_length_mm\": 193.0, \"body_mass_g\": 3650.0, \"sex\": \"Male\", \"isAdelie_bool\": false, \"isAdelie_float\": 0.0, \"Pred\": -0.11694694767718783, \"Pred2\": 0.0}, {\"species\": \"Chinstrap\", \"island\": \"Dream\", \"bill_length_mm\": 45.4, \"bill_depth_mm\": 18.7, \"flipper_length_mm\": 188.0, \"body_mass_g\": 3525.0, \"sex\": \"Female\", \"isAdelie_bool\": false, \"isAdelie_float\": 0.0, \"Pred\": 0.33148344236981453, \"Pred2\": 0.0}, {\"species\": \"Chinstrap\", \"island\": \"Dream\", \"bill_length_mm\": 52.7, \"bill_depth_mm\": 19.8, \"flipper_length_mm\": 197.0, \"body_mass_g\": 3725.0, \"sex\": \"Male\", \"isAdelie_bool\": false, \"isAdelie_float\": 0.0, \"Pred\": -0.22335415887478272, \"Pred2\": 0.0}, {\"species\": \"Chinstrap\", \"island\": \"Dream\", \"bill_length_mm\": 45.2, \"bill_depth_mm\": 17.8, \"flipper_length_mm\": 198.0, \"body_mass_g\": 3950.0, \"sex\": \"Female\", \"isAdelie_bool\": false, \"isAdelie_float\": 0.0, \"Pred\": 0.34668447254089907, \"Pred2\": 0.0}, {\"species\": \"Chinstrap\", \"island\": \"Dream\", \"bill_length_mm\": 46.1, \"bill_depth_mm\": 18.2, \"flipper_length_mm\": 178.0, \"body_mass_g\": 3250.0, \"sex\": \"Female\", \"isAdelie_bool\": false, \"isAdelie_float\": 0.0, \"Pred\": 0.2782798367710173, \"Pred2\": 0.0}, {\"species\": \"Chinstrap\", \"island\": \"Dream\", \"bill_length_mm\": 51.3, \"bill_depth_mm\": 18.2, \"flipper_length_mm\": 197.0, \"body_mass_g\": 3750.0, \"sex\": \"Male\", \"isAdelie_bool\": false, \"isAdelie_float\": 0.0, \"Pred\": -0.11694694767718783, \"Pred2\": 0.0}, {\"species\": \"Chinstrap\", \"island\": \"Dream\", \"bill_length_mm\": 46.0, \"bill_depth_mm\": 18.9, \"flipper_length_mm\": 195.0, \"body_mass_g\": 4150.0, \"sex\": \"Female\", \"isAdelie_bool\": false, \"isAdelie_float\": 0.0, \"Pred\": 0.28588035185656, \"Pred2\": 0.0}, {\"species\": \"Chinstrap\", \"island\": \"Dream\", \"bill_length_mm\": 51.3, \"bill_depth_mm\": 19.9, \"flipper_length_mm\": 198.0, \"body_mass_g\": 3700.0, \"sex\": \"Male\", \"isAdelie_bool\": false, \"isAdelie_float\": 0.0, \"Pred\": -0.11694694767718783, \"Pred2\": 0.0}, {\"species\": \"Chinstrap\", \"island\": \"Dream\", \"bill_length_mm\": 46.6, \"bill_depth_mm\": 17.8, \"flipper_length_mm\": 193.0, \"body_mass_g\": 3800.0, \"sex\": \"Female\", \"isAdelie_bool\": false, \"isAdelie_float\": 0.0, \"Pred\": 0.24027726134330507, \"Pred2\": 0.0}, {\"species\": \"Chinstrap\", \"island\": \"Dream\", \"bill_length_mm\": 51.7, \"bill_depth_mm\": 20.3, \"flipper_length_mm\": 194.0, \"body_mass_g\": 3775.0, \"sex\": \"Male\", \"isAdelie_bool\": false, \"isAdelie_float\": 0.0, \"Pred\": -0.14734900801935824, \"Pred2\": 0.0}, {\"species\": \"Chinstrap\", \"island\": \"Dream\", \"bill_length_mm\": 47.0, \"bill_depth_mm\": 17.3, \"flipper_length_mm\": 185.0, \"body_mass_g\": 3700.0, \"sex\": \"Female\", \"isAdelie_bool\": false, \"isAdelie_float\": 0.0, \"Pred\": 0.20987520100113555, \"Pred2\": 0.0}, {\"species\": \"Chinstrap\", \"island\": \"Dream\", \"bill_length_mm\": 52.0, \"bill_depth_mm\": 18.1, \"flipper_length_mm\": 201.0, \"body_mass_g\": 4050.0, \"sex\": \"Male\", \"isAdelie_bool\": false, \"isAdelie_float\": 0.0, \"Pred\": -0.17015055327598505, \"Pred2\": 0.0}, {\"species\": \"Chinstrap\", \"island\": \"Dream\", \"bill_length_mm\": 45.9, \"bill_depth_mm\": 17.1, \"flipper_length_mm\": 190.0, \"body_mass_g\": 3575.0, \"sex\": \"Female\", \"isAdelie_bool\": false, \"isAdelie_float\": 0.0, \"Pred\": 0.2934808669421023, \"Pred2\": 0.0}, {\"species\": \"Chinstrap\", \"island\": \"Dream\", \"bill_length_mm\": 50.5, \"bill_depth_mm\": 19.6, \"flipper_length_mm\": 201.0, \"body_mass_g\": 4050.0, \"sex\": \"Male\", \"isAdelie_bool\": false, \"isAdelie_float\": 0.0, \"Pred\": -0.05614282699284878, \"Pred2\": 0.0}, {\"species\": \"Chinstrap\", \"island\": \"Dream\", \"bill_length_mm\": 50.3, \"bill_depth_mm\": 20.0, \"flipper_length_mm\": 197.0, \"body_mass_g\": 3300.0, \"sex\": \"Male\", \"isAdelie_bool\": false, \"isAdelie_float\": 0.0, \"Pred\": -0.0409417968217638, \"Pred2\": 0.0}, {\"species\": \"Chinstrap\", \"island\": \"Dream\", \"bill_length_mm\": 58.0, \"bill_depth_mm\": 17.8, \"flipper_length_mm\": 181.0, \"body_mass_g\": 3700.0, \"sex\": \"Female\", \"isAdelie_bool\": false, \"isAdelie_float\": 0.0, \"Pred\": -0.6261814584085301, \"Pred2\": 0.0}, {\"species\": \"Chinstrap\", \"island\": \"Dream\", \"bill_length_mm\": 46.4, \"bill_depth_mm\": 18.6, \"flipper_length_mm\": 190.0, \"body_mass_g\": 3450.0, \"sex\": \"Female\", \"isAdelie_bool\": false, \"isAdelie_float\": 0.0, \"Pred\": 0.2554782915143905, \"Pred2\": 0.0}, {\"species\": \"Chinstrap\", \"island\": \"Dream\", \"bill_length_mm\": 49.2, \"bill_depth_mm\": 18.2, \"flipper_length_mm\": 195.0, \"body_mass_g\": 4400.0, \"sex\": \"Male\", \"isAdelie_bool\": false, \"isAdelie_float\": 0.0, \"Pred\": 0.0426638691192025, \"Pred2\": 0.0}, {\"species\": \"Chinstrap\", \"island\": \"Dream\", \"bill_length_mm\": 42.4, \"bill_depth_mm\": 17.3, \"flipper_length_mm\": 181.0, \"body_mass_g\": 3600.0, \"sex\": \"Female\", \"isAdelie_bool\": false, \"isAdelie_float\": 0.0, \"Pred\": 0.5594988949360871, \"Pred2\": 1.0}, {\"species\": \"Chinstrap\", \"island\": \"Dream\", \"bill_length_mm\": 48.5, \"bill_depth_mm\": 17.5, \"flipper_length_mm\": 191.0, \"body_mass_g\": 3400.0, \"sex\": \"Male\", \"isAdelie_bool\": false, \"isAdelie_float\": 0.0, \"Pred\": 0.09586747471799928, \"Pred2\": 0.0}, {\"species\": \"Chinstrap\", \"island\": \"Dream\", \"bill_length_mm\": 43.2, \"bill_depth_mm\": 16.6, \"flipper_length_mm\": 187.0, \"body_mass_g\": 2900.0, \"sex\": \"Female\", \"isAdelie_bool\": false, \"isAdelie_float\": 0.0, \"Pred\": 0.49869477425174713, \"Pred2\": 0.0}, {\"species\": \"Chinstrap\", \"island\": \"Dream\", \"bill_length_mm\": 50.6, \"bill_depth_mm\": 19.4, \"flipper_length_mm\": 193.0, \"body_mass_g\": 3800.0, \"sex\": \"Male\", \"isAdelie_bool\": false, \"isAdelie_float\": 0.0, \"Pred\": -0.0637433420783915, \"Pred2\": 0.0}, {\"species\": \"Chinstrap\", \"island\": \"Dream\", \"bill_length_mm\": 46.7, \"bill_depth_mm\": 17.9, \"flipper_length_mm\": 195.0, \"body_mass_g\": 3300.0, \"sex\": \"Female\", \"isAdelie_bool\": false, \"isAdelie_float\": 0.0, \"Pred\": 0.2326767462577628, \"Pred2\": 0.0}, {\"species\": \"Chinstrap\", \"island\": \"Dream\", \"bill_length_mm\": 52.0, \"bill_depth_mm\": 19.0, \"flipper_length_mm\": 197.0, \"body_mass_g\": 4150.0, \"sex\": \"Male\", \"isAdelie_bool\": false, \"isAdelie_float\": 0.0, \"Pred\": -0.17015055327598505, \"Pred2\": 0.0}, {\"species\": \"Chinstrap\", \"island\": \"Dream\", \"bill_length_mm\": 50.5, \"bill_depth_mm\": 18.4, \"flipper_length_mm\": 200.0, \"body_mass_g\": 3400.0, \"sex\": \"Female\", \"isAdelie_bool\": false, \"isAdelie_float\": 0.0, \"Pred\": -0.05614282699284878, \"Pred2\": 0.0}, {\"species\": \"Chinstrap\", \"island\": \"Dream\", \"bill_length_mm\": 49.5, \"bill_depth_mm\": 19.0, \"flipper_length_mm\": 200.0, \"body_mass_g\": 3800.0, \"sex\": \"Male\", \"isAdelie_bool\": false, \"isAdelie_float\": 0.0, \"Pred\": 0.01986232386257525, \"Pred2\": 0.0}, {\"species\": \"Chinstrap\", \"island\": \"Dream\", \"bill_length_mm\": 46.4, \"bill_depth_mm\": 17.8, \"flipper_length_mm\": 191.0, \"body_mass_g\": 3700.0, \"sex\": \"Female\", \"isAdelie_bool\": false, \"isAdelie_float\": 0.0, \"Pred\": 0.2554782915143905, \"Pred2\": 0.0}, {\"species\": \"Chinstrap\", \"island\": \"Dream\", \"bill_length_mm\": 52.8, \"bill_depth_mm\": 20.0, \"flipper_length_mm\": 205.0, \"body_mass_g\": 4550.0, \"sex\": \"Male\", \"isAdelie_bool\": false, \"isAdelie_float\": 0.0, \"Pred\": -0.2309546739603241, \"Pred2\": 0.0}, {\"species\": \"Chinstrap\", \"island\": \"Dream\", \"bill_length_mm\": 40.9, \"bill_depth_mm\": 16.6, \"flipper_length_mm\": 187.0, \"body_mass_g\": 3200.0, \"sex\": \"Female\", \"isAdelie_bool\": false, \"isAdelie_float\": 0.0, \"Pred\": 0.6735066212192233, \"Pred2\": 1.0}, {\"species\": \"Chinstrap\", \"island\": \"Dream\", \"bill_length_mm\": 54.2, \"bill_depth_mm\": 20.8, \"flipper_length_mm\": 201.0, \"body_mass_g\": 4300.0, \"sex\": \"Male\", \"isAdelie_bool\": false, \"isAdelie_float\": 0.0, \"Pred\": -0.33736188515791854, \"Pred2\": 0.0}, {\"species\": \"Chinstrap\", \"island\": \"Dream\", \"bill_length_mm\": 42.5, \"bill_depth_mm\": 16.7, \"flipper_length_mm\": 187.0, \"body_mass_g\": 3350.0, \"sex\": \"Female\", \"isAdelie_bool\": false, \"isAdelie_float\": 0.0, \"Pred\": 0.5518983798505444, \"Pred2\": 1.0}, {\"species\": \"Chinstrap\", \"island\": \"Dream\", \"bill_length_mm\": 51.0, \"bill_depth_mm\": 18.8, \"flipper_length_mm\": 203.0, \"body_mass_g\": 4100.0, \"sex\": \"Male\", \"isAdelie_bool\": false, \"isAdelie_float\": 0.0, \"Pred\": -0.09414540242056102, \"Pred2\": 0.0}, {\"species\": \"Chinstrap\", \"island\": \"Dream\", \"bill_length_mm\": 49.7, \"bill_depth_mm\": 18.6, \"flipper_length_mm\": 195.0, \"body_mass_g\": 3600.0, \"sex\": \"Male\", \"isAdelie_bool\": false, \"isAdelie_float\": 0.0, \"Pred\": 0.004661293691490265, \"Pred2\": 0.0}, {\"species\": \"Chinstrap\", \"island\": \"Dream\", \"bill_length_mm\": 47.5, \"bill_depth_mm\": 16.8, \"flipper_length_mm\": 199.0, \"body_mass_g\": 3900.0, \"sex\": \"Female\", \"isAdelie_bool\": false, \"isAdelie_float\": 0.0, \"Pred\": 0.17187262557342375, \"Pred2\": 0.0}, {\"species\": \"Chinstrap\", \"island\": \"Dream\", \"bill_length_mm\": 47.6, \"bill_depth_mm\": 18.3, \"flipper_length_mm\": 195.0, \"body_mass_g\": 3850.0, \"sex\": \"Female\", \"isAdelie_bool\": false, \"isAdelie_float\": 0.0, \"Pred\": 0.16427211048788104, \"Pred2\": 0.0}, {\"species\": \"Chinstrap\", \"island\": \"Dream\", \"bill_length_mm\": 52.0, \"bill_depth_mm\": 20.7, \"flipper_length_mm\": 210.0, \"body_mass_g\": 4800.0, \"sex\": \"Male\", \"isAdelie_bool\": false, \"isAdelie_float\": 0.0, \"Pred\": -0.17015055327598505, \"Pred2\": 0.0}, {\"species\": \"Chinstrap\", \"island\": \"Dream\", \"bill_length_mm\": 46.9, \"bill_depth_mm\": 16.6, \"flipper_length_mm\": 192.0, \"body_mass_g\": 2700.0, \"sex\": \"Female\", \"isAdelie_bool\": false, \"isAdelie_float\": 0.0, \"Pred\": 0.21747571608667826, \"Pred2\": 0.0}, {\"species\": \"Chinstrap\", \"island\": \"Dream\", \"bill_length_mm\": 53.5, \"bill_depth_mm\": 19.9, \"flipper_length_mm\": 205.0, \"body_mass_g\": 4500.0, \"sex\": \"Male\", \"isAdelie_bool\": false, \"isAdelie_float\": 0.0, \"Pred\": -0.28415827955912176, \"Pred2\": 0.0}, {\"species\": \"Chinstrap\", \"island\": \"Dream\", \"bill_length_mm\": 49.0, \"bill_depth_mm\": 19.5, \"flipper_length_mm\": 210.0, \"body_mass_g\": 3950.0, \"sex\": \"Male\", \"isAdelie_bool\": false, \"isAdelie_float\": 0.0, \"Pred\": 0.057864899290287486, \"Pred2\": 0.0}, {\"species\": \"Chinstrap\", \"island\": \"Dream\", \"bill_length_mm\": 46.2, \"bill_depth_mm\": 17.5, \"flipper_length_mm\": 187.0, \"body_mass_g\": 3650.0, \"sex\": \"Female\", \"isAdelie_bool\": false, \"isAdelie_float\": 0.0, \"Pred\": 0.2706793216854746, \"Pred2\": 0.0}, {\"species\": \"Chinstrap\", \"island\": \"Dream\", \"bill_length_mm\": 50.9, \"bill_depth_mm\": 19.1, \"flipper_length_mm\": 196.0, \"body_mass_g\": 3550.0, \"sex\": \"Male\", \"isAdelie_bool\": false, \"isAdelie_float\": 0.0, \"Pred\": -0.0865448873350183, \"Pred2\": 0.0}, {\"species\": \"Chinstrap\", \"island\": \"Dream\", \"bill_length_mm\": 45.5, \"bill_depth_mm\": 17.0, \"flipper_length_mm\": 196.0, \"body_mass_g\": 3500.0, \"sex\": \"Female\", \"isAdelie_bool\": false, \"isAdelie_float\": 0.0, \"Pred\": 0.3238829272842718, \"Pred2\": 0.0}, {\"species\": \"Chinstrap\", \"island\": \"Dream\", \"bill_length_mm\": 50.9, \"bill_depth_mm\": 17.9, \"flipper_length_mm\": 196.0, \"body_mass_g\": 3675.0, \"sex\": \"Female\", \"isAdelie_bool\": false, \"isAdelie_float\": 0.0, \"Pred\": -0.0865448873350183, \"Pred2\": 0.0}, {\"species\": \"Chinstrap\", \"island\": \"Dream\", \"bill_length_mm\": 50.8, \"bill_depth_mm\": 18.5, \"flipper_length_mm\": 201.0, \"body_mass_g\": 4450.0, \"sex\": \"Male\", \"isAdelie_bool\": false, \"isAdelie_float\": 0.0, \"Pred\": -0.07894437224947604, \"Pred2\": 0.0}, {\"species\": \"Chinstrap\", \"island\": \"Dream\", \"bill_length_mm\": 50.1, \"bill_depth_mm\": 17.9, \"flipper_length_mm\": 190.0, \"body_mass_g\": 3400.0, \"sex\": \"Female\", \"isAdelie_bool\": false, \"isAdelie_float\": 0.0, \"Pred\": -0.02574076665067926, \"Pred2\": 0.0}, {\"species\": \"Chinstrap\", \"island\": \"Dream\", \"bill_length_mm\": 49.0, \"bill_depth_mm\": 19.6, \"flipper_length_mm\": 212.0, \"body_mass_g\": 4300.0, \"sex\": \"Male\", \"isAdelie_bool\": false, \"isAdelie_float\": 0.0, \"Pred\": 0.057864899290287486, \"Pred2\": 0.0}, {\"species\": \"Chinstrap\", \"island\": \"Dream\", \"bill_length_mm\": 51.5, \"bill_depth_mm\": 18.7, \"flipper_length_mm\": 187.0, \"body_mass_g\": 3250.0, \"sex\": \"Male\", \"isAdelie_bool\": false, \"isAdelie_float\": 0.0, \"Pred\": -0.13214797784827326, \"Pred2\": 0.0}, {\"species\": \"Chinstrap\", \"island\": \"Dream\", \"bill_length_mm\": 49.8, \"bill_depth_mm\": 17.3, \"flipper_length_mm\": 198.0, \"body_mass_g\": 3675.0, \"sex\": \"Female\", \"isAdelie_bool\": false, \"isAdelie_float\": 0.0, \"Pred\": -0.002939221394051561, \"Pred2\": 0.0}, {\"species\": \"Chinstrap\", \"island\": \"Dream\", \"bill_length_mm\": 48.1, \"bill_depth_mm\": 16.4, \"flipper_length_mm\": 199.0, \"body_mass_g\": 3325.0, \"sex\": \"Female\", \"isAdelie_bool\": false, \"isAdelie_float\": 0.0, \"Pred\": 0.1262695350601688, \"Pred2\": 0.0}, {\"species\": \"Chinstrap\", \"island\": \"Dream\", \"bill_length_mm\": 51.4, \"bill_depth_mm\": 19.0, \"flipper_length_mm\": 201.0, \"body_mass_g\": 3950.0, \"sex\": \"Male\", \"isAdelie_bool\": false, \"isAdelie_float\": 0.0, \"Pred\": -0.12454746276273054, \"Pred2\": 0.0}, {\"species\": \"Chinstrap\", \"island\": \"Dream\", \"bill_length_mm\": 45.7, \"bill_depth_mm\": 17.3, \"flipper_length_mm\": 193.0, \"body_mass_g\": 3600.0, \"sex\": \"Female\", \"isAdelie_bool\": false, \"isAdelie_float\": 0.0, \"Pred\": 0.30868189711318683, \"Pred2\": 0.0}, {\"species\": \"Chinstrap\", \"island\": \"Dream\", \"bill_length_mm\": 50.7, \"bill_depth_mm\": 19.7, \"flipper_length_mm\": 203.0, \"body_mass_g\": 4050.0, \"sex\": \"Male\", \"isAdelie_bool\": false, \"isAdelie_float\": 0.0, \"Pred\": -0.07134385716393377, \"Pred2\": 0.0}, {\"species\": \"Chinstrap\", \"island\": \"Dream\", \"bill_length_mm\": 42.5, \"bill_depth_mm\": 17.3, \"flipper_length_mm\": 187.0, \"body_mass_g\": 3350.0, \"sex\": \"Female\", \"isAdelie_bool\": false, \"isAdelie_float\": 0.0, \"Pred\": 0.5518983798505444, \"Pred2\": 1.0}, {\"species\": \"Chinstrap\", \"island\": \"Dream\", \"bill_length_mm\": 52.2, \"bill_depth_mm\": 18.8, \"flipper_length_mm\": 197.0, \"body_mass_g\": 3450.0, \"sex\": \"Male\", \"isAdelie_bool\": false, \"isAdelie_float\": 0.0, \"Pred\": -0.18535158344707003, \"Pred2\": 0.0}, {\"species\": \"Chinstrap\", \"island\": \"Dream\", \"bill_length_mm\": 45.2, \"bill_depth_mm\": 16.6, \"flipper_length_mm\": 191.0, \"body_mass_g\": 3250.0, \"sex\": \"Female\", \"isAdelie_bool\": false, \"isAdelie_float\": 0.0, \"Pred\": 0.34668447254089907, \"Pred2\": 0.0}, {\"species\": \"Chinstrap\", \"island\": \"Dream\", \"bill_length_mm\": 49.3, \"bill_depth_mm\": 19.9, \"flipper_length_mm\": 203.0, \"body_mass_g\": 4050.0, \"sex\": \"Male\", \"isAdelie_bool\": false, \"isAdelie_float\": 0.0, \"Pred\": 0.03506335403366023, \"Pred2\": 0.0}, {\"species\": \"Chinstrap\", \"island\": \"Dream\", \"bill_length_mm\": 50.2, \"bill_depth_mm\": 18.8, \"flipper_length_mm\": 202.0, \"body_mass_g\": 3800.0, \"sex\": \"Male\", \"isAdelie_bool\": false, \"isAdelie_float\": 0.0, \"Pred\": -0.03334128173622197, \"Pred2\": 0.0}, {\"species\": \"Chinstrap\", \"island\": \"Dream\", \"bill_length_mm\": 45.6, \"bill_depth_mm\": 19.4, \"flipper_length_mm\": 194.0, \"body_mass_g\": 3525.0, \"sex\": \"Female\", \"isAdelie_bool\": false, \"isAdelie_float\": 0.0, \"Pred\": 0.31628241219872955, \"Pred2\": 0.0}, {\"species\": \"Chinstrap\", \"island\": \"Dream\", \"bill_length_mm\": 51.9, \"bill_depth_mm\": 19.5, \"flipper_length_mm\": 206.0, \"body_mass_g\": 3950.0, \"sex\": \"Male\", \"isAdelie_bool\": false, \"isAdelie_float\": 0.0, \"Pred\": -0.16255003819044278, \"Pred2\": 0.0}, {\"species\": \"Chinstrap\", \"island\": \"Dream\", \"bill_length_mm\": 46.8, \"bill_depth_mm\": 16.5, \"flipper_length_mm\": 189.0, \"body_mass_g\": 3650.0, \"sex\": \"Female\", \"isAdelie_bool\": false, \"isAdelie_float\": 0.0, \"Pred\": 0.22507623117222053, \"Pred2\": 0.0}, {\"species\": \"Chinstrap\", \"island\": \"Dream\", \"bill_length_mm\": 45.7, \"bill_depth_mm\": 17.0, \"flipper_length_mm\": 195.0, \"body_mass_g\": 3650.0, \"sex\": \"Female\", \"isAdelie_bool\": false, \"isAdelie_float\": 0.0, \"Pred\": 0.30868189711318683, \"Pred2\": 0.0}, {\"species\": \"Chinstrap\", \"island\": \"Dream\", \"bill_length_mm\": 55.8, \"bill_depth_mm\": 19.8, \"flipper_length_mm\": 207.0, \"body_mass_g\": 4000.0, \"sex\": \"Male\", \"isAdelie_bool\": false, \"isAdelie_float\": 0.0, \"Pred\": -0.45897012652659663, \"Pred2\": 0.0}, {\"species\": \"Chinstrap\", \"island\": \"Dream\", \"bill_length_mm\": 43.5, \"bill_depth_mm\": 18.1, \"flipper_length_mm\": 202.0, \"body_mass_g\": 3400.0, \"sex\": \"Female\", \"isAdelie_bool\": false, \"isAdelie_float\": 0.0, \"Pred\": 0.4758932289951203, \"Pred2\": 0.0}, {\"species\": \"Chinstrap\", \"island\": \"Dream\", \"bill_length_mm\": 49.6, \"bill_depth_mm\": 18.2, \"flipper_length_mm\": 193.0, \"body_mass_g\": 3775.0, \"sex\": \"Male\", \"isAdelie_bool\": false, \"isAdelie_float\": 0.0, \"Pred\": 0.012261808777032535, \"Pred2\": 0.0}, {\"species\": \"Chinstrap\", \"island\": \"Dream\", \"bill_length_mm\": 50.8, \"bill_depth_mm\": 19.0, \"flipper_length_mm\": 210.0, \"body_mass_g\": 4100.0, \"sex\": \"Male\", \"isAdelie_bool\": false, \"isAdelie_float\": 0.0, \"Pred\": -0.07894437224947604, \"Pred2\": 0.0}, {\"species\": \"Chinstrap\", \"island\": \"Dream\", \"bill_length_mm\": 50.2, \"bill_depth_mm\": 18.7, \"flipper_length_mm\": 198.0, \"body_mass_g\": 3775.0, \"sex\": \"Female\", \"isAdelie_bool\": false, \"isAdelie_float\": 0.0, \"Pred\": -0.03334128173622197, \"Pred2\": 0.0}, {\"species\": \"Gentoo\", \"island\": \"Biscoe\", \"bill_length_mm\": 46.1, \"bill_depth_mm\": 13.2, \"flipper_length_mm\": 211.0, \"body_mass_g\": 4500.0, \"sex\": \"Female\", \"isAdelie_bool\": false, \"isAdelie_float\": 0.0, \"Pred\": 0.2782798367710173, \"Pred2\": 0.0}, {\"species\": \"Gentoo\", \"island\": \"Biscoe\", \"bill_length_mm\": 50.0, \"bill_depth_mm\": 16.3, \"flipper_length_mm\": 230.0, \"body_mass_g\": 5700.0, \"sex\": \"Male\", \"isAdelie_bool\": false, \"isAdelie_float\": 0.0, \"Pred\": -0.01814025156513699, \"Pred2\": 0.0}, {\"species\": \"Gentoo\", \"island\": \"Biscoe\", \"bill_length_mm\": 48.7, \"bill_depth_mm\": 14.1, \"flipper_length_mm\": 210.0, \"body_mass_g\": 4450.0, \"sex\": \"Female\", \"isAdelie_bool\": false, \"isAdelie_float\": 0.0, \"Pred\": 0.0806664445469143, \"Pred2\": 0.0}, {\"species\": \"Gentoo\", \"island\": \"Biscoe\", \"bill_length_mm\": 50.0, \"bill_depth_mm\": 15.2, \"flipper_length_mm\": 218.0, \"body_mass_g\": 5700.0, \"sex\": \"Male\", \"isAdelie_bool\": false, \"isAdelie_float\": 0.0, \"Pred\": -0.01814025156513699, \"Pred2\": 0.0}, {\"species\": \"Gentoo\", \"island\": \"Biscoe\", \"bill_length_mm\": 47.6, \"bill_depth_mm\": 14.5, \"flipper_length_mm\": 215.0, \"body_mass_g\": 5400.0, \"sex\": \"Male\", \"isAdelie_bool\": false, \"isAdelie_float\": 0.0, \"Pred\": 0.16427211048788104, \"Pred2\": 0.0}, {\"species\": \"Gentoo\", \"island\": \"Biscoe\", \"bill_length_mm\": 46.5, \"bill_depth_mm\": 13.5, \"flipper_length_mm\": 210.0, \"body_mass_g\": 4550.0, \"sex\": \"Female\", \"isAdelie_bool\": false, \"isAdelie_float\": 0.0, \"Pred\": 0.24787777642884778, \"Pred2\": 0.0}, {\"species\": \"Gentoo\", \"island\": \"Biscoe\", \"bill_length_mm\": 45.4, \"bill_depth_mm\": 14.6, \"flipper_length_mm\": 211.0, \"body_mass_g\": 4800.0, \"sex\": \"Female\", \"isAdelie_bool\": false, \"isAdelie_float\": 0.0, \"Pred\": 0.33148344236981453, \"Pred2\": 0.0}, {\"species\": \"Gentoo\", \"island\": \"Biscoe\", \"bill_length_mm\": 46.7, \"bill_depth_mm\": 15.3, \"flipper_length_mm\": 219.0, \"body_mass_g\": 5200.0, \"sex\": \"Male\", \"isAdelie_bool\": false, \"isAdelie_float\": 0.0, \"Pred\": 0.2326767462577628, \"Pred2\": 0.0}, {\"species\": \"Gentoo\", \"island\": \"Biscoe\", \"bill_length_mm\": 43.3, \"bill_depth_mm\": 13.4, \"flipper_length_mm\": 209.0, \"body_mass_g\": 4400.0, \"sex\": \"Female\", \"isAdelie_bool\": false, \"isAdelie_float\": 0.0, \"Pred\": 0.4910942591662053, \"Pred2\": 0.0}, {\"species\": \"Gentoo\", \"island\": \"Biscoe\", \"bill_length_mm\": 46.8, \"bill_depth_mm\": 15.4, \"flipper_length_mm\": 215.0, \"body_mass_g\": 5150.0, \"sex\": \"Male\", \"isAdelie_bool\": false, \"isAdelie_float\": 0.0, \"Pred\": 0.22507623117222053, \"Pred2\": 0.0}, {\"species\": \"Gentoo\", \"island\": \"Biscoe\", \"bill_length_mm\": 40.9, \"bill_depth_mm\": 13.7, \"flipper_length_mm\": 214.0, \"body_mass_g\": 4650.0, \"sex\": \"Female\", \"isAdelie_bool\": false, \"isAdelie_float\": 0.0, \"Pred\": 0.6735066212192233, \"Pred2\": 1.0}, {\"species\": \"Gentoo\", \"island\": \"Biscoe\", \"bill_length_mm\": 49.0, \"bill_depth_mm\": 16.1, \"flipper_length_mm\": 216.0, \"body_mass_g\": 5550.0, \"sex\": \"Male\", \"isAdelie_bool\": false, \"isAdelie_float\": 0.0, \"Pred\": 0.057864899290287486, \"Pred2\": 0.0}, {\"species\": \"Gentoo\", \"island\": \"Biscoe\", \"bill_length_mm\": 45.5, \"bill_depth_mm\": 13.7, \"flipper_length_mm\": 214.0, \"body_mass_g\": 4650.0, \"sex\": \"Female\", \"isAdelie_bool\": false, \"isAdelie_float\": 0.0, \"Pred\": 0.3238829272842718, \"Pred2\": 0.0}, {\"species\": \"Gentoo\", \"island\": \"Biscoe\", \"bill_length_mm\": 48.4, \"bill_depth_mm\": 14.6, \"flipper_length_mm\": 213.0, \"body_mass_g\": 5850.0, \"sex\": \"Male\", \"isAdelie_bool\": false, \"isAdelie_float\": 0.0, \"Pred\": 0.103467989803542, \"Pred2\": 0.0}, {\"species\": \"Gentoo\", \"island\": \"Biscoe\", \"bill_length_mm\": 45.8, \"bill_depth_mm\": 14.6, \"flipper_length_mm\": 210.0, \"body_mass_g\": 4200.0, \"sex\": \"Female\", \"isAdelie_bool\": false, \"isAdelie_float\": 0.0, \"Pred\": 0.301081382027645, \"Pred2\": 0.0}, {\"species\": \"Gentoo\", \"island\": \"Biscoe\", \"bill_length_mm\": 49.3, \"bill_depth_mm\": 15.7, \"flipper_length_mm\": 217.0, \"body_mass_g\": 5850.0, \"sex\": \"Male\", \"isAdelie_bool\": false, \"isAdelie_float\": 0.0, \"Pred\": 0.03506335403366023, \"Pred2\": 0.0}, {\"species\": \"Gentoo\", \"island\": \"Biscoe\", \"bill_length_mm\": 42.0, \"bill_depth_mm\": 13.5, \"flipper_length_mm\": 210.0, \"body_mass_g\": 4150.0, \"sex\": \"Female\", \"isAdelie_bool\": false, \"isAdelie_float\": 0.0, \"Pred\": 0.5899009552782566, \"Pred2\": 1.0}, {\"species\": \"Gentoo\", \"island\": \"Biscoe\", \"bill_length_mm\": 49.2, \"bill_depth_mm\": 15.2, \"flipper_length_mm\": 221.0, \"body_mass_g\": 6300.0, \"sex\": \"Male\", \"isAdelie_bool\": false, \"isAdelie_float\": 0.0, \"Pred\": 0.0426638691192025, \"Pred2\": 0.0}, {\"species\": \"Gentoo\", \"island\": \"Biscoe\", \"bill_length_mm\": 46.2, \"bill_depth_mm\": 14.5, \"flipper_length_mm\": 209.0, \"body_mass_g\": 4800.0, \"sex\": \"Female\", \"isAdelie_bool\": false, \"isAdelie_float\": 0.0, \"Pred\": 0.2706793216854746, \"Pred2\": 0.0}, {\"species\": \"Gentoo\", \"island\": \"Biscoe\", \"bill_length_mm\": 48.7, \"bill_depth_mm\": 15.1, \"flipper_length_mm\": 222.0, \"body_mass_g\": 5350.0, \"sex\": \"Male\", \"isAdelie_bool\": false, \"isAdelie_float\": 0.0, \"Pred\": 0.0806664445469143, \"Pred2\": 0.0}, {\"species\": \"Gentoo\", \"island\": \"Biscoe\", \"bill_length_mm\": 50.2, \"bill_depth_mm\": 14.3, \"flipper_length_mm\": 218.0, \"body_mass_g\": 5700.0, \"sex\": \"Male\", \"isAdelie_bool\": false, \"isAdelie_float\": 0.0, \"Pred\": -0.03334128173622197, \"Pred2\": 0.0}, {\"species\": \"Gentoo\", \"island\": \"Biscoe\", \"bill_length_mm\": 45.1, \"bill_depth_mm\": 14.5, \"flipper_length_mm\": 215.0, \"body_mass_g\": 5000.0, \"sex\": \"Female\", \"isAdelie_bool\": false, \"isAdelie_float\": 0.0, \"Pred\": 0.35428498762644134, \"Pred2\": 0.0}, {\"species\": \"Gentoo\", \"island\": \"Biscoe\", \"bill_length_mm\": 46.5, \"bill_depth_mm\": 14.5, \"flipper_length_mm\": 213.0, \"body_mass_g\": 4400.0, \"sex\": \"Female\", \"isAdelie_bool\": false, \"isAdelie_float\": 0.0, \"Pred\": 0.24787777642884778, \"Pred2\": 0.0}, {\"species\": \"Gentoo\", \"island\": \"Biscoe\", \"bill_length_mm\": 46.3, \"bill_depth_mm\": 15.8, \"flipper_length_mm\": 215.0, \"body_mass_g\": 5050.0, \"sex\": \"Male\", \"isAdelie_bool\": false, \"isAdelie_float\": 0.0, \"Pred\": 0.26307880659993277, \"Pred2\": 0.0}, {\"species\": \"Gentoo\", \"island\": \"Biscoe\", \"bill_length_mm\": 42.9, \"bill_depth_mm\": 13.1, \"flipper_length_mm\": 215.0, \"body_mass_g\": 5000.0, \"sex\": \"Female\", \"isAdelie_bool\": false, \"isAdelie_float\": 0.0, \"Pred\": 0.5214963195083748, \"Pred2\": 0.0}, {\"species\": \"Gentoo\", \"island\": \"Biscoe\", \"bill_length_mm\": 46.1, \"bill_depth_mm\": 15.1, \"flipper_length_mm\": 215.0, \"body_mass_g\": 5100.0, \"sex\": \"Male\", \"isAdelie_bool\": false, \"isAdelie_float\": 0.0, \"Pred\": 0.2782798367710173, \"Pred2\": 0.0}, {\"species\": \"Gentoo\", \"island\": \"Biscoe\", \"bill_length_mm\": 47.8, \"bill_depth_mm\": 15.0, \"flipper_length_mm\": 215.0, \"body_mass_g\": 5650.0, \"sex\": \"Male\", \"isAdelie_bool\": false, \"isAdelie_float\": 0.0, \"Pred\": 0.1490710803167965, \"Pred2\": 0.0}, {\"species\": \"Gentoo\", \"island\": \"Biscoe\", \"bill_length_mm\": 48.2, \"bill_depth_mm\": 14.3, \"flipper_length_mm\": 210.0, \"body_mass_g\": 4600.0, \"sex\": \"Female\", \"isAdelie_bool\": false, \"isAdelie_float\": 0.0, \"Pred\": 0.11866901997462653, \"Pred2\": 0.0}, {\"species\": \"Gentoo\", \"island\": \"Biscoe\", \"bill_length_mm\": 50.0, \"bill_depth_mm\": 15.3, \"flipper_length_mm\": 220.0, \"body_mass_g\": 5550.0, \"sex\": \"Male\", \"isAdelie_bool\": false, \"isAdelie_float\": 0.0, \"Pred\": -0.01814025156513699, \"Pred2\": 0.0}, {\"species\": \"Gentoo\", \"island\": \"Biscoe\", \"bill_length_mm\": 47.3, \"bill_depth_mm\": 15.3, \"flipper_length_mm\": 222.0, \"body_mass_g\": 5250.0, \"sex\": \"Male\", \"isAdelie_bool\": false, \"isAdelie_float\": 0.0, \"Pred\": 0.18707365574450874, \"Pred2\": 0.0}, {\"species\": \"Gentoo\", \"island\": \"Biscoe\", \"bill_length_mm\": 42.8, \"bill_depth_mm\": 14.2, \"flipper_length_mm\": 209.0, \"body_mass_g\": 4700.0, \"sex\": \"Female\", \"isAdelie_bool\": false, \"isAdelie_float\": 0.0, \"Pred\": 0.5290968345939175, \"Pred2\": 1.0}, {\"species\": \"Gentoo\", \"island\": \"Biscoe\", \"bill_length_mm\": 45.1, \"bill_depth_mm\": 14.5, \"flipper_length_mm\": 207.0, \"body_mass_g\": 5050.0, \"sex\": \"Female\", \"isAdelie_bool\": false, \"isAdelie_float\": 0.0, \"Pred\": 0.35428498762644134, \"Pred2\": 0.0}, {\"species\": \"Gentoo\", \"island\": \"Biscoe\", \"bill_length_mm\": 59.6, \"bill_depth_mm\": 17.0, \"flipper_length_mm\": 230.0, \"body_mass_g\": 6050.0, \"sex\": \"Male\", \"isAdelie_bool\": false, \"isAdelie_float\": 0.0, \"Pred\": -0.7477896997772091, \"Pred2\": 0.0}, {\"species\": \"Gentoo\", \"island\": \"Biscoe\", \"bill_length_mm\": 49.1, \"bill_depth_mm\": 14.8, \"flipper_length_mm\": 220.0, \"body_mass_g\": 5150.0, \"sex\": \"Female\", \"isAdelie_bool\": false, \"isAdelie_float\": 0.0, \"Pred\": 0.05026438420474477, \"Pred2\": 0.0}, {\"species\": \"Gentoo\", \"island\": \"Biscoe\", \"bill_length_mm\": 48.4, \"bill_depth_mm\": 16.3, \"flipper_length_mm\": 220.0, \"body_mass_g\": 5400.0, \"sex\": \"Male\", \"isAdelie_bool\": false, \"isAdelie_float\": 0.0, \"Pred\": 0.103467989803542, \"Pred2\": 0.0}, {\"species\": \"Gentoo\", \"island\": \"Biscoe\", \"bill_length_mm\": 42.6, \"bill_depth_mm\": 13.7, \"flipper_length_mm\": 213.0, \"body_mass_g\": 4950.0, \"sex\": \"Female\", \"isAdelie_bool\": false, \"isAdelie_float\": 0.0, \"Pred\": 0.5442978647650021, \"Pred2\": 1.0}, {\"species\": \"Gentoo\", \"island\": \"Biscoe\", \"bill_length_mm\": 44.4, \"bill_depth_mm\": 17.3, \"flipper_length_mm\": 219.0, \"body_mass_g\": 5250.0, \"sex\": \"Male\", \"isAdelie_bool\": false, \"isAdelie_float\": 0.0, \"Pred\": 0.40748859322523856, \"Pred2\": 0.0}, {\"species\": \"Gentoo\", \"island\": \"Biscoe\", \"bill_length_mm\": 44.0, \"bill_depth_mm\": 13.6, \"flipper_length_mm\": 208.0, \"body_mass_g\": 4350.0, \"sex\": \"Female\", \"isAdelie_bool\": false, \"isAdelie_float\": 0.0, \"Pred\": 0.4378906535674081, \"Pred2\": 0.0}, {\"species\": \"Gentoo\", \"island\": \"Biscoe\", \"bill_length_mm\": 48.7, \"bill_depth_mm\": 15.7, \"flipper_length_mm\": 208.0, \"body_mass_g\": 5350.0, \"sex\": \"Male\", \"isAdelie_bool\": false, \"isAdelie_float\": 0.0, \"Pred\": 0.0806664445469143, \"Pred2\": 0.0}, {\"species\": \"Gentoo\", \"island\": \"Biscoe\", \"bill_length_mm\": 42.7, \"bill_depth_mm\": 13.7, \"flipper_length_mm\": 208.0, \"body_mass_g\": 3950.0, \"sex\": \"Female\", \"isAdelie_bool\": false, \"isAdelie_float\": 0.0, \"Pred\": 0.5366973496794594, \"Pred2\": 1.0}, {\"species\": \"Gentoo\", \"island\": \"Biscoe\", \"bill_length_mm\": 49.6, \"bill_depth_mm\": 16.0, \"flipper_length_mm\": 225.0, \"body_mass_g\": 5700.0, \"sex\": \"Male\", \"isAdelie_bool\": false, \"isAdelie_float\": 0.0, \"Pred\": 0.012261808777032535, \"Pred2\": 0.0}, {\"species\": \"Gentoo\", \"island\": \"Biscoe\", \"bill_length_mm\": 45.3, \"bill_depth_mm\": 13.7, \"flipper_length_mm\": 210.0, \"body_mass_g\": 4300.0, \"sex\": \"Female\", \"isAdelie_bool\": false, \"isAdelie_float\": 0.0, \"Pred\": 0.3390839574553568, \"Pred2\": 0.0}, {\"species\": \"Gentoo\", \"island\": \"Biscoe\", \"bill_length_mm\": 49.6, \"bill_depth_mm\": 15.0, \"flipper_length_mm\": 216.0, \"body_mass_g\": 4750.0, \"sex\": \"Male\", \"isAdelie_bool\": false, \"isAdelie_float\": 0.0, \"Pred\": 0.012261808777032535, \"Pred2\": 0.0}, {\"species\": \"Gentoo\", \"island\": \"Biscoe\", \"bill_length_mm\": 50.5, \"bill_depth_mm\": 15.9, \"flipper_length_mm\": 222.0, \"body_mass_g\": 5550.0, \"sex\": \"Male\", \"isAdelie_bool\": false, \"isAdelie_float\": 0.0, \"Pred\": -0.05614282699284878, \"Pred2\": 0.0}, {\"species\": \"Gentoo\", \"island\": \"Biscoe\", \"bill_length_mm\": 43.6, \"bill_depth_mm\": 13.9, \"flipper_length_mm\": 217.0, \"body_mass_g\": 4900.0, \"sex\": \"Female\", \"isAdelie_bool\": false, \"isAdelie_float\": 0.0, \"Pred\": 0.4682927139095776, \"Pred2\": 0.0}, {\"species\": \"Gentoo\", \"island\": \"Biscoe\", \"bill_length_mm\": 45.5, \"bill_depth_mm\": 13.9, \"flipper_length_mm\": 210.0, \"body_mass_g\": 4200.0, \"sex\": \"Female\", \"isAdelie_bool\": false, \"isAdelie_float\": 0.0, \"Pred\": 0.3238829272842718, \"Pred2\": 0.0}, {\"species\": \"Gentoo\", \"island\": \"Biscoe\", \"bill_length_mm\": 50.5, \"bill_depth_mm\": 15.9, \"flipper_length_mm\": 225.0, \"body_mass_g\": 5400.0, \"sex\": \"Male\", \"isAdelie_bool\": false, \"isAdelie_float\": 0.0, \"Pred\": -0.05614282699284878, \"Pred2\": 0.0}, {\"species\": \"Gentoo\", \"island\": \"Biscoe\", \"bill_length_mm\": 44.9, \"bill_depth_mm\": 13.3, \"flipper_length_mm\": 213.0, \"body_mass_g\": 5100.0, \"sex\": \"Female\", \"isAdelie_bool\": false, \"isAdelie_float\": 0.0, \"Pred\": 0.36948601779752677, \"Pred2\": 0.0}, {\"species\": \"Gentoo\", \"island\": \"Biscoe\", \"bill_length_mm\": 45.2, \"bill_depth_mm\": 15.8, \"flipper_length_mm\": 215.0, \"body_mass_g\": 5300.0, \"sex\": \"Male\", \"isAdelie_bool\": false, \"isAdelie_float\": 0.0, \"Pred\": 0.34668447254089907, \"Pred2\": 0.0}, {\"species\": \"Gentoo\", \"island\": \"Biscoe\", \"bill_length_mm\": 46.6, \"bill_depth_mm\": 14.2, \"flipper_length_mm\": 210.0, \"body_mass_g\": 4850.0, \"sex\": \"Female\", \"isAdelie_bool\": false, \"isAdelie_float\": 0.0, \"Pred\": 0.24027726134330507, \"Pred2\": 0.0}, {\"species\": \"Gentoo\", \"island\": \"Biscoe\", \"bill_length_mm\": 48.5, \"bill_depth_mm\": 14.1, \"flipper_length_mm\": 220.0, \"body_mass_g\": 5300.0, \"sex\": \"Male\", \"isAdelie_bool\": false, \"isAdelie_float\": 0.0, \"Pred\": 0.09586747471799928, \"Pred2\": 0.0}, {\"species\": \"Gentoo\", \"island\": \"Biscoe\", \"bill_length_mm\": 45.1, \"bill_depth_mm\": 14.4, \"flipper_length_mm\": 210.0, \"body_mass_g\": 4400.0, \"sex\": \"Female\", \"isAdelie_bool\": false, \"isAdelie_float\": 0.0, \"Pred\": 0.35428498762644134, \"Pred2\": 0.0}, {\"species\": \"Gentoo\", \"island\": \"Biscoe\", \"bill_length_mm\": 50.1, \"bill_depth_mm\": 15.0, \"flipper_length_mm\": 225.0, \"body_mass_g\": 5000.0, \"sex\": \"Male\", \"isAdelie_bool\": false, \"isAdelie_float\": 0.0, \"Pred\": -0.02574076665067926, \"Pred2\": 0.0}, {\"species\": \"Gentoo\", \"island\": \"Biscoe\", \"bill_length_mm\": 46.5, \"bill_depth_mm\": 14.4, \"flipper_length_mm\": 217.0, \"body_mass_g\": 4900.0, \"sex\": \"Female\", \"isAdelie_bool\": false, \"isAdelie_float\": 0.0, \"Pred\": 0.24787777642884778, \"Pred2\": 0.0}, {\"species\": \"Gentoo\", \"island\": \"Biscoe\", \"bill_length_mm\": 45.0, \"bill_depth_mm\": 15.4, \"flipper_length_mm\": 220.0, \"body_mass_g\": 5050.0, \"sex\": \"Male\", \"isAdelie_bool\": false, \"isAdelie_float\": 0.0, \"Pred\": 0.36188550271198405, \"Pred2\": 0.0}, {\"species\": \"Gentoo\", \"island\": \"Biscoe\", \"bill_length_mm\": 43.8, \"bill_depth_mm\": 13.9, \"flipper_length_mm\": 208.0, \"body_mass_g\": 4300.0, \"sex\": \"Female\", \"isAdelie_bool\": false, \"isAdelie_float\": 0.0, \"Pred\": 0.45309168373849307, \"Pred2\": 0.0}, {\"species\": \"Gentoo\", \"island\": \"Biscoe\", \"bill_length_mm\": 45.5, \"bill_depth_mm\": 15.0, \"flipper_length_mm\": 220.0, \"body_mass_g\": 5000.0, \"sex\": \"Male\", \"isAdelie_bool\": false, \"isAdelie_float\": 0.0, \"Pred\": 0.3238829272842718, \"Pred2\": 0.0}, {\"species\": \"Gentoo\", \"island\": \"Biscoe\", \"bill_length_mm\": 43.2, \"bill_depth_mm\": 14.5, \"flipper_length_mm\": 208.0, \"body_mass_g\": 4450.0, \"sex\": \"Female\", \"isAdelie_bool\": false, \"isAdelie_float\": 0.0, \"Pred\": 0.49869477425174713, \"Pred2\": 0.0}, {\"species\": \"Gentoo\", \"island\": \"Biscoe\", \"bill_length_mm\": 50.4, \"bill_depth_mm\": 15.3, \"flipper_length_mm\": 224.0, \"body_mass_g\": 5550.0, \"sex\": \"Male\", \"isAdelie_bool\": false, \"isAdelie_float\": 0.0, \"Pred\": -0.04854231190730651, \"Pred2\": 0.0}, {\"species\": \"Gentoo\", \"island\": \"Biscoe\", \"bill_length_mm\": 45.3, \"bill_depth_mm\": 13.8, \"flipper_length_mm\": 208.0, \"body_mass_g\": 4200.0, \"sex\": \"Female\", \"isAdelie_bool\": false, \"isAdelie_float\": 0.0, \"Pred\": 0.3390839574553568, \"Pred2\": 0.0}, {\"species\": \"Gentoo\", \"island\": \"Biscoe\", \"bill_length_mm\": 46.2, \"bill_depth_mm\": 14.9, \"flipper_length_mm\": 221.0, \"body_mass_g\": 5300.0, \"sex\": \"Male\", \"isAdelie_bool\": false, \"isAdelie_float\": 0.0, \"Pred\": 0.2706793216854746, \"Pred2\": 0.0}, {\"species\": \"Gentoo\", \"island\": \"Biscoe\", \"bill_length_mm\": 45.7, \"bill_depth_mm\": 13.9, \"flipper_length_mm\": 214.0, \"body_mass_g\": 4400.0, \"sex\": \"Female\", \"isAdelie_bool\": false, \"isAdelie_float\": 0.0, \"Pred\": 0.30868189711318683, \"Pred2\": 0.0}, {\"species\": \"Gentoo\", \"island\": \"Biscoe\", \"bill_length_mm\": 54.3, \"bill_depth_mm\": 15.7, \"flipper_length_mm\": 231.0, \"body_mass_g\": 5650.0, \"sex\": \"Male\", \"isAdelie_bool\": false, \"isAdelie_float\": 0.0, \"Pred\": -0.3449624002434608, \"Pred2\": 0.0}, {\"species\": \"Gentoo\", \"island\": \"Biscoe\", \"bill_length_mm\": 45.8, \"bill_depth_mm\": 14.2, \"flipper_length_mm\": 219.0, \"body_mass_g\": 4700.0, \"sex\": \"Female\", \"isAdelie_bool\": false, \"isAdelie_float\": 0.0, \"Pred\": 0.301081382027645, \"Pred2\": 0.0}, {\"species\": \"Gentoo\", \"island\": \"Biscoe\", \"bill_length_mm\": 49.8, \"bill_depth_mm\": 16.8, \"flipper_length_mm\": 230.0, \"body_mass_g\": 5700.0, \"sex\": \"Male\", \"isAdelie_bool\": false, \"isAdelie_float\": 0.0, \"Pred\": -0.002939221394051561, \"Pred2\": 0.0}, {\"species\": \"Gentoo\", \"island\": \"Biscoe\", \"bill_length_mm\": 49.5, \"bill_depth_mm\": 16.2, \"flipper_length_mm\": 229.0, \"body_mass_g\": 5800.0, \"sex\": \"Male\", \"isAdelie_bool\": false, \"isAdelie_float\": 0.0, \"Pred\": 0.01986232386257525, \"Pred2\": 0.0}, {\"species\": \"Gentoo\", \"island\": \"Biscoe\", \"bill_length_mm\": 43.5, \"bill_depth_mm\": 14.2, \"flipper_length_mm\": 220.0, \"body_mass_g\": 4700.0, \"sex\": \"Female\", \"isAdelie_bool\": false, \"isAdelie_float\": 0.0, \"Pred\": 0.4758932289951203, \"Pred2\": 0.0}, {\"species\": \"Gentoo\", \"island\": \"Biscoe\", \"bill_length_mm\": 50.7, \"bill_depth_mm\": 15.0, \"flipper_length_mm\": 223.0, \"body_mass_g\": 5550.0, \"sex\": \"Male\", \"isAdelie_bool\": false, \"isAdelie_float\": 0.0, \"Pred\": -0.07134385716393377, \"Pred2\": 0.0}, {\"species\": \"Gentoo\", \"island\": \"Biscoe\", \"bill_length_mm\": 47.7, \"bill_depth_mm\": 15.0, \"flipper_length_mm\": 216.0, \"body_mass_g\": 4750.0, \"sex\": \"Female\", \"isAdelie_bool\": false, \"isAdelie_float\": 0.0, \"Pred\": 0.15667159540233877, \"Pred2\": 0.0}, {\"species\": \"Gentoo\", \"island\": \"Biscoe\", \"bill_length_mm\": 46.4, \"bill_depth_mm\": 15.6, \"flipper_length_mm\": 221.0, \"body_mass_g\": 5000.0, \"sex\": \"Male\", \"isAdelie_bool\": false, \"isAdelie_float\": 0.0, \"Pred\": 0.2554782915143905, \"Pred2\": 0.0}, {\"species\": \"Gentoo\", \"island\": \"Biscoe\", \"bill_length_mm\": 48.2, \"bill_depth_mm\": 15.6, \"flipper_length_mm\": 221.0, \"body_mass_g\": 5100.0, \"sex\": \"Male\", \"isAdelie_bool\": false, \"isAdelie_float\": 0.0, \"Pred\": 0.11866901997462653, \"Pred2\": 0.0}, {\"species\": \"Gentoo\", \"island\": \"Biscoe\", \"bill_length_mm\": 46.5, \"bill_depth_mm\": 14.8, \"flipper_length_mm\": 217.0, \"body_mass_g\": 5200.0, \"sex\": \"Female\", \"isAdelie_bool\": false, \"isAdelie_float\": 0.0, \"Pred\": 0.24787777642884778, \"Pred2\": 0.0}, {\"species\": \"Gentoo\", \"island\": \"Biscoe\", \"bill_length_mm\": 46.4, \"bill_depth_mm\": 15.0, \"flipper_length_mm\": 216.0, \"body_mass_g\": 4700.0, \"sex\": \"Female\", \"isAdelie_bool\": false, \"isAdelie_float\": 0.0, \"Pred\": 0.2554782915143905, \"Pred2\": 0.0}, {\"species\": \"Gentoo\", \"island\": \"Biscoe\", \"bill_length_mm\": 48.6, \"bill_depth_mm\": 16.0, \"flipper_length_mm\": 230.0, \"body_mass_g\": 5800.0, \"sex\": \"Male\", \"isAdelie_bool\": false, \"isAdelie_float\": 0.0, \"Pred\": 0.08826695963245701, \"Pred2\": 0.0}, {\"species\": \"Gentoo\", \"island\": \"Biscoe\", \"bill_length_mm\": 47.5, \"bill_depth_mm\": 14.2, \"flipper_length_mm\": 209.0, \"body_mass_g\": 4600.0, \"sex\": \"Female\", \"isAdelie_bool\": false, \"isAdelie_float\": 0.0, \"Pred\": 0.17187262557342375, \"Pred2\": 0.0}, {\"species\": \"Gentoo\", \"island\": \"Biscoe\", \"bill_length_mm\": 51.1, \"bill_depth_mm\": 16.3, \"flipper_length_mm\": 220.0, \"body_mass_g\": 6000.0, \"sex\": \"Male\", \"isAdelie_bool\": false, \"isAdelie_float\": 0.0, \"Pred\": -0.10174591750610373, \"Pred2\": 0.0}, {\"species\": \"Gentoo\", \"island\": \"Biscoe\", \"bill_length_mm\": 45.2, \"bill_depth_mm\": 13.8, \"flipper_length_mm\": 215.0, \"body_mass_g\": 4750.0, \"sex\": \"Female\", \"isAdelie_bool\": false, \"isAdelie_float\": 0.0, \"Pred\": 0.34668447254089907, \"Pred2\": 0.0}, {\"species\": \"Gentoo\", \"island\": \"Biscoe\", \"bill_length_mm\": 45.2, \"bill_depth_mm\": 16.4, \"flipper_length_mm\": 223.0, \"body_mass_g\": 5950.0, \"sex\": \"Male\", \"isAdelie_bool\": false, \"isAdelie_float\": 0.0, \"Pred\": 0.34668447254089907, \"Pred2\": 0.0}, {\"species\": \"Gentoo\", \"island\": \"Biscoe\", \"bill_length_mm\": 49.1, \"bill_depth_mm\": 14.5, \"flipper_length_mm\": 212.0, \"body_mass_g\": 4625.0, \"sex\": \"Female\", \"isAdelie_bool\": false, \"isAdelie_float\": 0.0, \"Pred\": 0.05026438420474477, \"Pred2\": 0.0}, {\"species\": \"Gentoo\", \"island\": \"Biscoe\", \"bill_length_mm\": 52.5, \"bill_depth_mm\": 15.6, \"flipper_length_mm\": 221.0, \"body_mass_g\": 5450.0, \"sex\": \"Male\", \"isAdelie_bool\": false, \"isAdelie_float\": 0.0, \"Pred\": -0.2081531287036973, \"Pred2\": 0.0}, {\"species\": \"Gentoo\", \"island\": \"Biscoe\", \"bill_length_mm\": 47.4, \"bill_depth_mm\": 14.6, \"flipper_length_mm\": 212.0, \"body_mass_g\": 4725.0, \"sex\": \"Female\", \"isAdelie_bool\": false, \"isAdelie_float\": 0.0, \"Pred\": 0.17947314065896602, \"Pred2\": 0.0}, {\"species\": \"Gentoo\", \"island\": \"Biscoe\", \"bill_length_mm\": 50.0, \"bill_depth_mm\": 15.9, \"flipper_length_mm\": 224.0, \"body_mass_g\": 5350.0, \"sex\": \"Male\", \"isAdelie_bool\": false, \"isAdelie_float\": 0.0, \"Pred\": -0.01814025156513699, \"Pred2\": 0.0}, {\"species\": \"Gentoo\", \"island\": \"Biscoe\", \"bill_length_mm\": 44.9, \"bill_depth_mm\": 13.8, \"flipper_length_mm\": 212.0, \"body_mass_g\": 4750.0, \"sex\": \"Female\", \"isAdelie_bool\": false, \"isAdelie_float\": 0.0, \"Pred\": 0.36948601779752677, \"Pred2\": 0.0}, {\"species\": \"Gentoo\", \"island\": \"Biscoe\", \"bill_length_mm\": 50.8, \"bill_depth_mm\": 17.3, \"flipper_length_mm\": 228.0, \"body_mass_g\": 5600.0, \"sex\": \"Male\", \"isAdelie_bool\": false, \"isAdelie_float\": 0.0, \"Pred\": -0.07894437224947604, \"Pred2\": 0.0}, {\"species\": \"Gentoo\", \"island\": \"Biscoe\", \"bill_length_mm\": 43.4, \"bill_depth_mm\": 14.4, \"flipper_length_mm\": 218.0, \"body_mass_g\": 4600.0, \"sex\": \"Female\", \"isAdelie_bool\": false, \"isAdelie_float\": 0.0, \"Pred\": 0.4834937440806626, \"Pred2\": 0.0}, {\"species\": \"Gentoo\", \"island\": \"Biscoe\", \"bill_length_mm\": 51.3, \"bill_depth_mm\": 14.2, \"flipper_length_mm\": 218.0, \"body_mass_g\": 5300.0, \"sex\": \"Male\", \"isAdelie_bool\": false, \"isAdelie_float\": 0.0, \"Pred\": -0.11694694767718783, \"Pred2\": 0.0}, {\"species\": \"Gentoo\", \"island\": \"Biscoe\", \"bill_length_mm\": 47.5, \"bill_depth_mm\": 14.0, \"flipper_length_mm\": 212.0, \"body_mass_g\": 4875.0, \"sex\": \"Female\", \"isAdelie_bool\": false, \"isAdelie_float\": 0.0, \"Pred\": 0.17187262557342375, \"Pred2\": 0.0}, {\"species\": \"Gentoo\", \"island\": \"Biscoe\", \"bill_length_mm\": 52.1, \"bill_depth_mm\": 17.0, \"flipper_length_mm\": 230.0, \"body_mass_g\": 5550.0, \"sex\": \"Male\", \"isAdelie_bool\": false, \"isAdelie_float\": 0.0, \"Pred\": -0.17775106836152776, \"Pred2\": 0.0}, {\"species\": \"Gentoo\", \"island\": \"Biscoe\", \"bill_length_mm\": 47.5, \"bill_depth_mm\": 15.0, \"flipper_length_mm\": 218.0, \"body_mass_g\": 4950.0, \"sex\": \"Female\", \"isAdelie_bool\": false, \"isAdelie_float\": 0.0, \"Pred\": 0.17187262557342375, \"Pred2\": 0.0}, {\"species\": \"Gentoo\", \"island\": \"Biscoe\", \"bill_length_mm\": 52.2, \"bill_depth_mm\": 17.1, \"flipper_length_mm\": 228.0, \"body_mass_g\": 5400.0, \"sex\": \"Male\", \"isAdelie_bool\": false, \"isAdelie_float\": 0.0, \"Pred\": -0.18535158344707003, \"Pred2\": 0.0}, {\"species\": \"Gentoo\", \"island\": \"Biscoe\", \"bill_length_mm\": 45.5, \"bill_depth_mm\": 14.5, \"flipper_length_mm\": 212.0, \"body_mass_g\": 4750.0, \"sex\": \"Female\", \"isAdelie_bool\": false, \"isAdelie_float\": 0.0, \"Pred\": 0.3238829272842718, \"Pred2\": 0.0}, {\"species\": \"Gentoo\", \"island\": \"Biscoe\", \"bill_length_mm\": 49.5, \"bill_depth_mm\": 16.1, \"flipper_length_mm\": 224.0, \"body_mass_g\": 5650.0, \"sex\": \"Male\", \"isAdelie_bool\": false, \"isAdelie_float\": 0.0, \"Pred\": 0.01986232386257525, \"Pred2\": 0.0}, {\"species\": \"Gentoo\", \"island\": \"Biscoe\", \"bill_length_mm\": 44.5, \"bill_depth_mm\": 14.7, \"flipper_length_mm\": 214.0, \"body_mass_g\": 4850.0, \"sex\": \"Female\", \"isAdelie_bool\": false, \"isAdelie_float\": 0.0, \"Pred\": 0.3998880781396963, \"Pred2\": 0.0}, {\"species\": \"Gentoo\", \"island\": \"Biscoe\", \"bill_length_mm\": 50.8, \"bill_depth_mm\": 15.7, \"flipper_length_mm\": 226.0, \"body_mass_g\": 5200.0, \"sex\": \"Male\", \"isAdelie_bool\": false, \"isAdelie_float\": 0.0, \"Pred\": -0.07894437224947604, \"Pred2\": 0.0}, {\"species\": \"Gentoo\", \"island\": \"Biscoe\", \"bill_length_mm\": 49.4, \"bill_depth_mm\": 15.8, \"flipper_length_mm\": 216.0, \"body_mass_g\": 4925.0, \"sex\": \"Male\", \"isAdelie_bool\": false, \"isAdelie_float\": 0.0, \"Pred\": 0.027462838948117962, \"Pred2\": 0.0}, {\"species\": \"Gentoo\", \"island\": \"Biscoe\", \"bill_length_mm\": 46.9, \"bill_depth_mm\": 14.6, \"flipper_length_mm\": 222.0, \"body_mass_g\": 4875.0, \"sex\": \"Female\", \"isAdelie_bool\": false, \"isAdelie_float\": 0.0, \"Pred\": 0.21747571608667826, \"Pred2\": 0.0}, {\"species\": \"Gentoo\", \"island\": \"Biscoe\", \"bill_length_mm\": 48.4, \"bill_depth_mm\": 14.4, \"flipper_length_mm\": 203.0, \"body_mass_g\": 4625.0, \"sex\": \"Female\", \"isAdelie_bool\": false, \"isAdelie_float\": 0.0, \"Pred\": 0.103467989803542, \"Pred2\": 0.0}, {\"species\": \"Gentoo\", \"island\": \"Biscoe\", \"bill_length_mm\": 51.1, \"bill_depth_mm\": 16.5, \"flipper_length_mm\": 225.0, \"body_mass_g\": 5250.0, \"sex\": \"Male\", \"isAdelie_bool\": false, \"isAdelie_float\": 0.0, \"Pred\": -0.10174591750610373, \"Pred2\": 0.0}, {\"species\": \"Gentoo\", \"island\": \"Biscoe\", \"bill_length_mm\": 48.5, \"bill_depth_mm\": 15.0, \"flipper_length_mm\": 219.0, \"body_mass_g\": 4850.0, \"sex\": \"Female\", \"isAdelie_bool\": false, \"isAdelie_float\": 0.0, \"Pred\": 0.09586747471799928, \"Pred2\": 0.0}, {\"species\": \"Gentoo\", \"island\": \"Biscoe\", \"bill_length_mm\": 55.9, \"bill_depth_mm\": 17.0, \"flipper_length_mm\": 228.0, \"body_mass_g\": 5600.0, \"sex\": \"Male\", \"isAdelie_bool\": false, \"isAdelie_float\": 0.0, \"Pred\": -0.4665706416121389, \"Pred2\": 0.0}, {\"species\": \"Gentoo\", \"island\": \"Biscoe\", \"bill_length_mm\": 47.2, \"bill_depth_mm\": 15.5, \"flipper_length_mm\": 215.0, \"body_mass_g\": 4975.0, \"sex\": \"Female\", \"isAdelie_bool\": false, \"isAdelie_float\": 0.0, \"Pred\": 0.19467417083005056, \"Pred2\": 0.0}, {\"species\": \"Gentoo\", \"island\": \"Biscoe\", \"bill_length_mm\": 49.1, \"bill_depth_mm\": 15.0, \"flipper_length_mm\": 228.0, \"body_mass_g\": 5500.0, \"sex\": \"Male\", \"isAdelie_bool\": false, \"isAdelie_float\": 0.0, \"Pred\": 0.05026438420474477, \"Pred2\": 0.0}, {\"species\": \"Gentoo\", \"island\": \"Biscoe\", \"bill_length_mm\": 46.8, \"bill_depth_mm\": 16.1, \"flipper_length_mm\": 215.0, \"body_mass_g\": 5500.0, \"sex\": \"Male\", \"isAdelie_bool\": false, \"isAdelie_float\": 0.0, \"Pred\": 0.22507623117222053, \"Pred2\": 0.0}, {\"species\": \"Gentoo\", \"island\": \"Biscoe\", \"bill_length_mm\": 41.7, \"bill_depth_mm\": 14.7, \"flipper_length_mm\": 210.0, \"body_mass_g\": 4700.0, \"sex\": \"Female\", \"isAdelie_bool\": false, \"isAdelie_float\": 0.0, \"Pred\": 0.6127025005348834, \"Pred2\": 1.0}, {\"species\": \"Gentoo\", \"island\": \"Biscoe\", \"bill_length_mm\": 53.4, \"bill_depth_mm\": 15.8, \"flipper_length_mm\": 219.0, \"body_mass_g\": 5500.0, \"sex\": \"Male\", \"isAdelie_bool\": false, \"isAdelie_float\": 0.0, \"Pred\": -0.2765577644735786, \"Pred2\": 0.0}, {\"species\": \"Gentoo\", \"island\": \"Biscoe\", \"bill_length_mm\": 43.3, \"bill_depth_mm\": 14.0, \"flipper_length_mm\": 208.0, \"body_mass_g\": 4575.0, \"sex\": \"Female\", \"isAdelie_bool\": false, \"isAdelie_float\": 0.0, \"Pred\": 0.4910942591662053, \"Pred2\": 0.0}, {\"species\": \"Gentoo\", \"island\": \"Biscoe\", \"bill_length_mm\": 48.1, \"bill_depth_mm\": 15.1, \"flipper_length_mm\": 209.0, \"body_mass_g\": 5500.0, \"sex\": \"Male\", \"isAdelie_bool\": false, \"isAdelie_float\": 0.0, \"Pred\": 0.1262695350601688, \"Pred2\": 0.0}, {\"species\": \"Gentoo\", \"island\": \"Biscoe\", \"bill_length_mm\": 50.5, \"bill_depth_mm\": 15.2, \"flipper_length_mm\": 216.0, \"body_mass_g\": 5000.0, \"sex\": \"Female\", \"isAdelie_bool\": false, \"isAdelie_float\": 0.0, \"Pred\": -0.05614282699284878, \"Pred2\": 0.0}, {\"species\": \"Gentoo\", \"island\": \"Biscoe\", \"bill_length_mm\": 49.8, \"bill_depth_mm\": 15.9, \"flipper_length_mm\": 229.0, \"body_mass_g\": 5950.0, \"sex\": \"Male\", \"isAdelie_bool\": false, \"isAdelie_float\": 0.0, \"Pred\": -0.002939221394051561, \"Pred2\": 0.0}, {\"species\": \"Gentoo\", \"island\": \"Biscoe\", \"bill_length_mm\": 43.5, \"bill_depth_mm\": 15.2, \"flipper_length_mm\": 213.0, \"body_mass_g\": 4650.0, \"sex\": \"Female\", \"isAdelie_bool\": false, \"isAdelie_float\": 0.0, \"Pred\": 0.4758932289951203, \"Pred2\": 0.0}, {\"species\": \"Gentoo\", \"island\": \"Biscoe\", \"bill_length_mm\": 51.5, \"bill_depth_mm\": 16.3, \"flipper_length_mm\": 230.0, \"body_mass_g\": 5500.0, \"sex\": \"Male\", \"isAdelie_bool\": false, \"isAdelie_float\": 0.0, \"Pred\": -0.13214797784827326, \"Pred2\": 0.0}, {\"species\": \"Gentoo\", \"island\": \"Biscoe\", \"bill_length_mm\": 46.2, \"bill_depth_mm\": 14.1, \"flipper_length_mm\": 217.0, \"body_mass_g\": 4375.0, \"sex\": \"Female\", \"isAdelie_bool\": false, \"isAdelie_float\": 0.0, \"Pred\": 0.2706793216854746, \"Pred2\": 0.0}, {\"species\": \"Gentoo\", \"island\": \"Biscoe\", \"bill_length_mm\": 55.1, \"bill_depth_mm\": 16.0, \"flipper_length_mm\": 230.0, \"body_mass_g\": 5850.0, \"sex\": \"Male\", \"isAdelie_bool\": false, \"isAdelie_float\": 0.0, \"Pred\": -0.40576652092779986, \"Pred2\": 0.0}, {\"species\": \"Gentoo\", \"island\": \"Biscoe\", \"bill_length_mm\": 48.8, \"bill_depth_mm\": 16.2, \"flipper_length_mm\": 222.0, \"body_mass_g\": 6000.0, \"sex\": \"Male\", \"isAdelie_bool\": false, \"isAdelie_float\": 0.0, \"Pred\": 0.07306592946137247, \"Pred2\": 0.0}, {\"species\": \"Gentoo\", \"island\": \"Biscoe\", \"bill_length_mm\": 47.2, \"bill_depth_mm\": 13.7, \"flipper_length_mm\": 214.0, \"body_mass_g\": 4925.0, \"sex\": \"Female\", \"isAdelie_bool\": false, \"isAdelie_float\": 0.0, \"Pred\": 0.19467417083005056, \"Pred2\": 0.0}, {\"species\": \"Gentoo\", \"island\": \"Biscoe\", \"bill_length_mm\": 46.8, \"bill_depth_mm\": 14.3, \"flipper_length_mm\": 215.0, \"body_mass_g\": 4850.0, \"sex\": \"Female\", \"isAdelie_bool\": false, \"isAdelie_float\": 0.0, \"Pred\": 0.22507623117222053, \"Pred2\": 0.0}, {\"species\": \"Gentoo\", \"island\": \"Biscoe\", \"bill_length_mm\": 50.4, \"bill_depth_mm\": 15.7, \"flipper_length_mm\": 222.0, \"body_mass_g\": 5750.0, \"sex\": \"Male\", \"isAdelie_bool\": false, \"isAdelie_float\": 0.0, \"Pred\": -0.04854231190730651, \"Pred2\": 0.0}, {\"species\": \"Gentoo\", \"island\": \"Biscoe\", \"bill_length_mm\": 45.2, \"bill_depth_mm\": 14.8, \"flipper_length_mm\": 212.0, \"body_mass_g\": 5200.0, \"sex\": \"Female\", \"isAdelie_bool\": false, \"isAdelie_float\": 0.0, \"Pred\": 0.34668447254089907, \"Pred2\": 0.0}, {\"species\": \"Gentoo\", \"island\": \"Biscoe\", \"bill_length_mm\": 49.9, \"bill_depth_mm\": 16.1, \"flipper_length_mm\": 213.0, \"body_mass_g\": 5400.0, \"sex\": \"Male\", \"isAdelie_bool\": false, \"isAdelie_float\": 0.0, \"Pred\": -0.010539736479594275, \"Pred2\": 0.0}]}}, {\"mode\": \"vega-lite\"});\n",
       "</script>"
      ],
      "text/plain": [
       "alt.LayerChart(...)"
      ]
     },
     "execution_count": 24,
     "metadata": {},
     "output_type": "execute_result"
    }
   ],
   "source": [
    "c+c2"
   ]
  },
  {
   "cell_type": "markdown",
   "metadata": {
    "cell_id": "452455516621420f940182f70adbaacd",
    "deepnote_cell_height": 401,
    "deepnote_cell_type": "markdown",
    "tags": []
   },
   "source": [
    "## Logistic Regression, Part 2\n",
    "\n",
    "<iframe width=\"560\" height=\"315\" src=\"https://www.youtube.com/embed/lufySby-TJ0\" title=\"YouTube video player\" frameborder=\"0\" allow=\"accelerometer; autoplay; clipboard-write; encrypted-media; gyroscope; picture-in-picture\" allowfullscreen></iframe>"
   ]
  },
  {
   "cell_type": "code",
   "execution_count": null,
   "metadata": {
    "cell_id": "2515a57712f64644b0d217114a48c936",
    "deepnote_cell_height": 482.90625,
    "deepnote_cell_type": "code",
    "deepnote_output_heights": [
     385.90625
    ],
    "deepnote_to_be_reexecuted": false,
    "execution_millis": 13,
    "execution_start": 1652030706711,
    "source_hash": "9500c78b",
    "tags": []
   },
   "outputs": [
    {
     "data": {
      "text/plain": [
       "array([1., 1., 1., 1., 1., 1., 1., 1., 1., 1., 1., 1., 1., 1., 0., 1., 1.,\n",
       "       1., 1., 1., 1., 1., 1., 1., 1., 1., 1., 1., 1., 1., 1., 1., 1., 1.,\n",
       "       1., 1., 1., 1., 0., 1., 1., 1., 1., 1., 1., 1., 1., 1., 1., 1., 1.,\n",
       "       1., 1., 1., 1., 1., 1., 1., 1., 1., 1., 1., 1., 1., 1., 1., 1., 0.,\n",
       "       1., 1., 1., 1., 1., 1., 1., 0., 1., 1., 1., 1., 1., 1., 1., 1., 1.,\n",
       "       1., 1., 1., 1., 1., 1., 1., 1., 0., 1., 1., 1., 1., 1., 1., 1., 1.,\n",
       "       1., 0., 1., 0., 1., 1., 1., 1., 1., 1., 1., 1., 1., 1., 1., 1., 1.,\n",
       "       1., 1., 1., 1., 0., 1., 0., 1., 1., 1., 1., 1., 1., 1., 1., 1., 1.,\n",
       "       1., 1., 1., 1., 1., 1., 1., 1., 1., 1., 0., 0., 0., 0., 0., 0., 0.,\n",
       "       0., 0., 0., 0., 0., 0., 0., 0., 0., 0., 0., 0., 0., 1., 0., 0., 0.,\n",
       "       0., 0., 0., 0., 0., 0., 1., 0., 1., 0., 0., 0., 0., 0., 0., 0., 0.,\n",
       "       0., 0., 0., 0., 0., 0., 0., 0., 0., 0., 0., 0., 0., 1., 0., 0., 0.,\n",
       "       0., 0., 0., 0., 0., 0., 0., 0., 0., 0., 0., 0., 0., 0., 0., 0., 0.,\n",
       "       0., 0., 0., 1., 0., 0., 0., 0., 0., 1., 0., 0., 0., 0., 0., 0., 0.,\n",
       "       0., 0., 0., 0., 0., 0., 1., 0., 0., 0., 0., 1., 0., 0., 0., 1., 0.,\n",
       "       0., 0., 0., 0., 0., 0., 0., 0., 0., 0., 0., 0., 0., 0., 0., 0., 0.,\n",
       "       0., 0., 0., 0., 0., 0., 0., 0., 0., 0., 0., 0., 0., 0., 0., 0., 0.,\n",
       "       0., 0., 0., 0., 0., 0., 0., 0., 0., 0., 0., 0., 0., 0., 0., 0., 0.,\n",
       "       0., 0., 0., 0., 0., 0., 0., 0., 0., 0., 0., 1., 0., 0., 0., 0., 0.,\n",
       "       0., 0., 0., 0., 0., 0., 0., 0., 0., 0.])"
      ]
     },
     "execution_count": 25,
     "metadata": {},
     "output_type": "execute_result"
    }
   ],
   "source": [
    "clf.predict(df[[\"bill_length_mm\"]])"
   ]
  },
  {
   "cell_type": "code",
   "execution_count": null,
   "metadata": {
    "cell_id": "4ed8c6bcee9746a7b2141cf225a57395",
    "deepnote_cell_height": 118.1875,
    "deepnote_cell_type": "code",
    "deepnote_output_heights": [
     21.1875
    ],
    "deepnote_to_be_reexecuted": false,
    "execution_millis": 4,
    "execution_start": 1652030793728,
    "source_hash": "c1a71e1",
    "tags": []
   },
   "outputs": [
    {
     "data": {
      "text/plain": [
       "array([0., 1.])"
      ]
     },
     "execution_count": 27,
     "metadata": {},
     "output_type": "execute_result"
    }
   ],
   "source": [
    "clf.classes_"
   ]
  },
  {
   "cell_type": "code",
   "execution_count": null,
   "metadata": {
    "cell_id": "c6104e4c9345419c9a5d98d9e607998b",
    "deepnote_cell_height": 708,
    "deepnote_cell_type": "code",
    "deepnote_output_heights": [
     611
    ],
    "deepnote_to_be_reexecuted": false,
    "execution_millis": 25,
    "execution_start": 1652030735643,
    "source_hash": "4671dcfa",
    "tags": [
     "output_scroll"
    ]
   },
   "outputs": [
    {
     "data": {
      "text/plain": [
       "array([[1.30799652e-02, 9.86920035e-01],\n",
       "       [2.05066613e-02, 9.79493339e-01],\n",
       "       [4.96495104e-02, 9.50350490e-01],\n",
       "       [8.52199486e-04, 9.99147801e-01],\n",
       "       [1.63845452e-02, 9.83615455e-01],\n",
       "       [1.04348115e-02, 9.89565189e-01],\n",
       "       [1.46406871e-02, 9.85359313e-01],\n",
       "       [1.15331850e-01, 8.84668150e-01],\n",
       "       [7.42806258e-03, 9.92571937e-01],\n",
       "       [7.73377420e-05, 9.99922662e-01],\n",
       "       [7.60219551e-04, 9.99239780e-01],\n",
       "       [8.32007603e-03, 9.91679924e-01],\n",
       "       [3.92426682e-01, 6.07573318e-01],\n",
       "       [6.15338273e-05, 9.99938466e-01],\n",
       "       [9.72443311e-01, 2.75566890e-02],\n",
       "       [2.99002877e-03, 9.97009971e-01],\n",
       "       [2.66792391e-03, 9.97332076e-01],\n",
       "       [3.41684610e-04, 9.99658315e-01],\n",
       "       [4.71511319e-03, 9.95284887e-01],\n",
       "       [9.31820304e-03, 9.90681797e-01],\n",
       "       [1.72125733e-04, 9.99827874e-01],\n",
       "       [6.85661583e-02, 9.31433842e-01],\n",
       "       [6.16163575e-02, 9.38383643e-01],\n",
       "       [3.35089145e-03, 9.96649109e-01],\n",
       "       [6.16163575e-02, 9.38383643e-01],\n",
       "       [2.05066613e-02, 9.79493339e-01],\n",
       "       [1.50822829e-03, 9.98491772e-01],\n",
       "       [2.05066613e-02, 9.79493339e-01],\n",
       "       [9.39774090e-02, 9.06022591e-01],\n",
       "       [6.04953631e-04, 9.99395046e-01],\n",
       "       [1.46406871e-02, 9.85359313e-01],\n",
       "       [9.31820304e-03, 9.90681797e-01],\n",
       "       [3.14311397e-01, 6.85688603e-01],\n",
       "       [2.38043539e-03, 9.97619565e-01],\n",
       "       [2.86545644e-02, 9.71345436e-01],\n",
       "       [6.78160493e-04, 9.99321840e-01],\n",
       "       [8.46861273e-02, 9.15313873e-01],\n",
       "       [3.83044879e-04, 9.99616955e-01],\n",
       "       [8.00873634e-01, 1.99126366e-01],\n",
       "       [1.20037389e-03, 9.98799626e-01],\n",
       "       [2.29329565e-02, 9.77067043e-01],\n",
       "       [1.15331850e-01, 8.84668150e-01],\n",
       "       [3.83044879e-04, 9.99616955e-01],\n",
       "       [3.39452733e-01, 6.60547267e-01],\n",
       "       [2.29329565e-02, 9.77067043e-01],\n",
       "       [3.99079674e-02, 9.60092033e-01],\n",
       "       [1.22163331e-04, 9.99877837e-01],\n",
       "       [2.67244087e-01, 7.32755913e-01],\n",
       "       [6.89847197e-05, 9.99931015e-01],\n",
       "       [1.55187227e-01, 8.44812773e-01],\n",
       "       [1.16836461e-02, 9.88316354e-01],\n",
       "       [6.85661583e-02, 9.31433842e-01],\n",
       "       [6.78160493e-04, 9.99321840e-01],\n",
       "       [2.38043539e-03, 9.97619565e-01],\n",
       "       [2.71876281e-04, 9.99728124e-01],\n",
       "       [1.40784653e-01, 8.59215347e-01],\n",
       "       [2.38043539e-03, 9.97619565e-01],\n",
       "       [1.15331850e-01, 8.84668150e-01],\n",
       "       [6.04953631e-04, 9.99395046e-01],\n",
       "       [1.87570877e-01, 8.12429123e-01],\n",
       "       [2.16327149e-04, 9.99783673e-01],\n",
       "       [1.15331850e-01, 8.84668150e-01],\n",
       "       [3.41684610e-04, 9.99658315e-01],\n",
       "       [2.24913098e-01, 7.75086902e-01],\n",
       "       [2.19963788e-05, 9.99978004e-01],\n",
       "       [2.56388105e-02, 9.74361190e-01],\n",
       "       [2.29329565e-02, 9.77067043e-01],\n",
       "       [9.65608720e-01, 3.43912804e-02],\n",
       "       [2.16327149e-04, 9.99783673e-01],\n",
       "       [4.76465682e-01, 5.23534318e-01],\n",
       "       [9.39774090e-02, 9.06022591e-01],\n",
       "       [1.50822829e-03, 9.98491772e-01],\n",
       "       [4.81383675e-04, 9.99518616e-01],\n",
       "       [2.90214026e-01, 7.09785974e-01],\n",
       "       [7.73377420e-05, 9.99922662e-01],\n",
       "       [5.05024465e-01, 4.94975535e-01],\n",
       "       [8.52199486e-04, 9.99147801e-01],\n",
       "       [1.36954610e-04, 9.99863045e-01],\n",
       "       [1.69055764e-03, 9.98309442e-01],\n",
       "       [1.40784653e-01, 8.59215347e-01],\n",
       "       [5.39645121e-04, 9.99460355e-01],\n",
       "       [1.07085493e-03, 9.98929145e-01],\n",
       "       [5.28307085e-03, 9.94716929e-01],\n",
       "       [1.04348115e-02, 9.89565189e-01],\n",
       "       [2.71876281e-04, 9.99728124e-01],\n",
       "       [1.15331850e-01, 8.84668150e-01],\n",
       "       [3.89542535e-05, 9.99961046e-01],\n",
       "       [2.29329565e-02, 9.77067043e-01],\n",
       "       [4.81383675e-04, 9.99518616e-01],\n",
       "       [8.46861273e-02, 9.15313873e-01],\n",
       "       [4.20795564e-03, 9.95792044e-01],\n",
       "       [4.96495104e-02, 9.50350490e-01],\n",
       "       [1.39247000e-05, 9.99986075e-01],\n",
       "       [5.89770033e-01, 4.10229967e-01],\n",
       "       [1.22163331e-04, 9.99877837e-01],\n",
       "       [1.04172061e-01, 8.95827939e-01],\n",
       "       [2.66792391e-03, 9.97332076e-01],\n",
       "       [2.99002877e-03, 9.97009971e-01],\n",
       "       [3.35089145e-03, 9.96649109e-01],\n",
       "       [2.56388105e-02, 9.74361190e-01],\n",
       "       [7.42806258e-03, 9.92571937e-01],\n",
       "       [4.71511319e-03, 9.95284887e-01],\n",
       "       [4.20795564e-03, 9.95792044e-01],\n",
       "       [5.89770033e-01, 4.10229967e-01],\n",
       "       [4.20795564e-03, 9.95792044e-01],\n",
       "       [9.57153705e-01, 4.28462951e-02],\n",
       "       [2.56388105e-02, 9.74361190e-01],\n",
       "       [3.14311397e-01, 6.85688603e-01],\n",
       "       [2.29329565e-02, 9.77067043e-01],\n",
       "       [4.48059973e-01, 5.51940027e-01],\n",
       "       [7.42806258e-03, 9.92571937e-01],\n",
       "       [1.69055764e-03, 9.98309442e-01],\n",
       "       [2.71876281e-04, 9.99728124e-01],\n",
       "       [1.15331850e-01, 8.84668150e-01],\n",
       "       [4.81383675e-04, 9.99518616e-01],\n",
       "       [2.66792391e-03, 9.97332076e-01],\n",
       "       [4.45254267e-02, 9.55474573e-01],\n",
       "       [1.55187227e-01, 8.44812773e-01],\n",
       "       [1.53536510e-04, 9.99846463e-01],\n",
       "       [6.85661583e-02, 9.31433842e-01],\n",
       "       [9.31820304e-03, 9.90681797e-01],\n",
       "       [1.70770372e-01, 8.29229628e-01],\n",
       "       [1.16836461e-02, 9.88316354e-01],\n",
       "       [8.00873634e-01, 1.99126366e-01],\n",
       "       [6.63104436e-03, 9.93368956e-01],\n",
       "       [5.61858807e-01, 4.38141193e-01],\n",
       "       [9.55297552e-04, 9.99044702e-01],\n",
       "       [2.12385991e-03, 9.97876140e-01],\n",
       "       [4.20795564e-03, 9.95792044e-01],\n",
       "       [1.15331850e-01, 8.84668150e-01],\n",
       "       [2.42516818e-04, 9.99757483e-01],\n",
       "       [4.45254267e-02, 9.55474573e-01],\n",
       "       [1.20037389e-03, 9.98799626e-01],\n",
       "       [2.56388105e-02, 9.74361190e-01],\n",
       "       [4.45254267e-02, 9.55474573e-01],\n",
       "       [6.85661583e-02, 9.31433842e-01],\n",
       "       [4.43984538e-06, 9.99995560e-01],\n",
       "       [7.62361538e-02, 9.23763846e-01],\n",
       "       [1.69055764e-03, 9.98309442e-01],\n",
       "       [1.16836461e-02, 9.88316354e-01],\n",
       "       [1.46406871e-02, 9.85359313e-01],\n",
       "       [7.60219551e-04, 9.99239780e-01],\n",
       "       [3.83044879e-04, 9.99616955e-01],\n",
       "       [2.99002877e-03, 9.97009971e-01],\n",
       "       [3.83044879e-04, 9.99616955e-01],\n",
       "       [1.70770372e-01, 8.29229628e-01],\n",
       "       [9.84250837e-01, 1.57491628e-02],\n",
       "       [9.99707216e-01, 2.92783827e-04],\n",
       "       [9.99933733e-01, 6.62669098e-05],\n",
       "       [9.46734708e-01, 5.32652921e-02],\n",
       "       [9.99986624e-01, 1.33760758e-05],\n",
       "       [9.33956925e-01, 6.60430749e-02],\n",
       "       [9.75346452e-01, 2.46535485e-02],\n",
       "       [9.99933733e-01, 6.62669098e-05],\n",
       "       [9.72443311e-01, 2.75566890e-02],\n",
       "       [9.99933733e-01, 6.62669098e-05],\n",
       "       [9.85928037e-01, 1.40719630e-02],\n",
       "       [9.99958049e-01, 4.19506246e-05],\n",
       "       [9.91045646e-01, 8.95435438e-03],\n",
       "       [9.99970227e-01, 2.97726220e-05],\n",
       "       [9.69209096e-01, 3.07909037e-02],\n",
       "       [9.99834655e-01, 1.65345120e-04],\n",
       "       [9.99792194e-01, 2.07805655e-04],\n",
       "       [9.99999969e-01, 3.12821989e-08],\n",
       "       [9.82377309e-01, 1.76226906e-02],\n",
       "       [9.99269711e-01, 7.30288862e-04],\n",
       "       [3.65533037e-01, 6.34466963e-01],\n",
       "       [9.98375942e-01, 1.62405804e-03],\n",
       "       [5.89770033e-01, 4.10229967e-01],\n",
       "       [9.99852512e-01, 1.47488081e-04],\n",
       "       [9.87428905e-01, 1.25710946e-02],\n",
       "       [9.99970227e-01, 2.97726220e-05],\n",
       "       [9.99834655e-01, 1.65345120e-04],\n",
       "       [9.99481606e-01, 5.18394187e-04],\n",
       "       [9.82377309e-01, 1.76226906e-02],\n",
       "       [9.99988069e-01, 1.19312827e-05],\n",
       "       [9.39774090e-02, 9.06022591e-01],\n",
       "       [9.99997592e-01, 2.40824297e-06],\n",
       "       [3.92426682e-01, 6.07573318e-01],\n",
       "       [9.99906629e-01, 9.33709082e-05],\n",
       "       [9.99587502e-01, 4.12497870e-04],\n",
       "       [9.94924025e-01, 5.07597504e-03],\n",
       "       [9.95469820e-01, 4.53017987e-03],\n",
       "       [9.99970227e-01, 2.97726220e-05],\n",
       "       [9.89972196e-01, 1.00278038e-02],\n",
       "       [9.99994640e-01, 5.36036675e-06],\n",
       "       [9.99082307e-01, 9.17693479e-04],\n",
       "       [9.77950677e-01, 2.20493235e-02],\n",
       "       [9.99895324e-01, 1.04676426e-04],\n",
       "       [9.52213195e-01, 4.77868053e-02],\n",
       "       [9.99895324e-01, 1.04676426e-04],\n",
       "       [9.99882649e-01, 1.17350675e-04],\n",
       "       [9.99738833e-01, 2.61167184e-04],\n",
       "       [9.99082307e-01, 9.17693479e-04],\n",
       "       [9.99947275e-01, 5.27251927e-05],\n",
       "       [9.99632041e-01, 3.67958508e-04],\n",
       "       [9.97436923e-01, 2.56307744e-03],\n",
       "       [9.99940890e-01, 5.91095448e-05],\n",
       "       [9.61604029e-01, 3.83959708e-02],\n",
       "       [9.99868441e-01, 1.31559324e-04],\n",
       "       [3.92426682e-01, 6.07573318e-01],\n",
       "       [9.99976312e-01, 2.36883768e-05],\n",
       "       [9.33956925e-01, 6.60430749e-02],\n",
       "       [9.99348542e-01, 6.51458454e-04],\n",
       "       [9.99767036e-01, 2.32963909e-04],\n",
       "       [9.57153705e-01, 4.28462951e-02],\n",
       "       [9.99966622e-01, 3.33778017e-05],\n",
       "       [9.88771519e-01, 1.12284806e-02],\n",
       "       [9.61604029e-01, 3.83959708e-02],\n",
       "       [9.99999613e-01, 3.86745960e-07],\n",
       "       [6.69501446e-01, 3.30498554e-01],\n",
       "       [9.99537574e-01, 4.62425984e-04],\n",
       "       [9.99882649e-01, 1.17350675e-04],\n",
       "       [9.99767036e-01, 2.32963909e-04],\n",
       "       [9.75346452e-01, 2.46535485e-02],\n",
       "       [9.99707216e-01, 2.92783827e-04],\n",
       "       [9.98707409e-01, 1.29259147e-03],\n",
       "       [9.99707216e-01, 2.92783827e-04],\n",
       "       [9.95469820e-01, 4.53017987e-03],\n",
       "       [9.84250837e-01, 1.57491628e-02],\n",
       "       [9.46734708e-01, 5.32652921e-02],\n",
       "       [9.87428905e-01, 1.25710946e-02],\n",
       "       [6.17114881e-01, 3.82885119e-01],\n",
       "       [9.88771519e-01, 1.12284806e-02],\n",
       "       [9.39774090e-02, 9.06022591e-01],\n",
       "       [9.99082307e-01, 9.17693479e-04],\n",
       "       [9.52213195e-01, 4.77868053e-02],\n",
       "       [9.98179636e-01, 1.82036449e-03],\n",
       "       [9.65608720e-01, 3.43912804e-02],\n",
       "       [9.99348542e-01, 6.51458454e-04],\n",
       "       [2.67244087e-01, 7.32755913e-01],\n",
       "       [9.99269711e-01, 7.30288862e-04],\n",
       "       [9.77950677e-01, 2.20493235e-02],\n",
       "       [9.98707409e-01, 1.29259147e-03],\n",
       "       [9.99767036e-01, 2.32963909e-04],\n",
       "       [9.26546911e-01, 7.34530888e-02],\n",
       "       [9.84250837e-01, 1.57491628e-02],\n",
       "       [9.80285370e-01, 1.97146298e-02],\n",
       "       [5.05024465e-01, 4.94975535e-01],\n",
       "       [9.75346452e-01, 2.46535485e-02],\n",
       "       [9.96392276e-01, 3.60772375e-03],\n",
       "       [9.97713139e-01, 2.28686099e-03],\n",
       "       [9.99707216e-01, 2.92783827e-04],\n",
       "       [9.93628553e-01, 6.37144659e-03],\n",
       "       [4.76465682e-01, 5.23534318e-01],\n",
       "       [9.26546911e-01, 7.34530888e-02],\n",
       "       [9.99999995e-01, 5.02367911e-09],\n",
       "       [9.99181350e-01, 8.18650412e-04],\n",
       "       [9.98179636e-01, 1.82036449e-03],\n",
       "       [4.19989202e-01, 5.80010798e-01],\n",
       "       [8.50010040e-01, 1.49989960e-01],\n",
       "       [7.82016783e-01, 2.17983217e-01],\n",
       "       [9.98707409e-01, 1.29259147e-03],\n",
       "       [4.48059973e-01, 5.51940027e-01],\n",
       "       [9.99537574e-01, 4.62425984e-04],\n",
       "       [9.40667279e-01, 5.93327208e-02],\n",
       "       [9.99537574e-01, 4.62425984e-04],\n",
       "       [9.99834655e-01, 1.65345120e-04],\n",
       "       [6.94286531e-01, 3.05713469e-01],\n",
       "       [9.52213195e-01, 4.77868053e-02],\n",
       "       [9.99834655e-01, 1.65345120e-04],\n",
       "       [9.09389788e-01, 9.06102122e-02],\n",
       "       [9.33956925e-01, 6.60430749e-02],\n",
       "       [9.85928037e-01, 1.40719630e-02],\n",
       "       [9.98375942e-01, 1.62405804e-03],\n",
       "       [9.26546911e-01, 7.34530888e-02],\n",
       "       [9.99738833e-01, 2.61167184e-04],\n",
       "       [9.84250837e-01, 1.57491628e-02],\n",
       "       [9.18378155e-01, 8.16218450e-02],\n",
       "       [7.40553486e-01, 2.59446514e-01],\n",
       "       [9.52213195e-01, 4.77868053e-02],\n",
       "       [5.89770033e-01, 4.10229967e-01],\n",
       "       [9.99814636e-01, 1.85363789e-04],\n",
       "       [9.40667279e-01, 5.93327208e-02],\n",
       "       [9.77950677e-01, 2.20493235e-02],\n",
       "       [9.61604029e-01, 3.83959708e-02],\n",
       "       [9.99997852e-01, 2.14811834e-06],\n",
       "       [9.65608720e-01, 3.43912804e-02],\n",
       "       [9.99632041e-01, 3.67958508e-04],\n",
       "       [9.99481606e-01, 5.18394187e-04],\n",
       "       [6.69501446e-01, 3.30498554e-01],\n",
       "       [9.99868441e-01, 1.31559324e-04],\n",
       "       [9.95957167e-01, 4.04283295e-03],\n",
       "       [9.82377309e-01, 1.76226906e-02],\n",
       "       [9.97713139e-01, 2.28686099e-03],\n",
       "       [9.84250837e-01, 1.57491628e-02],\n",
       "       [9.82377309e-01, 1.76226906e-02],\n",
       "       [9.98551110e-01, 1.44889037e-03],\n",
       "       [9.94924025e-01, 5.07597504e-03],\n",
       "       [9.99916714e-01, 8.32863349e-05],\n",
       "       [9.33956925e-01, 6.60430749e-02],\n",
       "       [9.33956925e-01, 6.60430749e-02],\n",
       "       [9.99181350e-01, 8.18650412e-04],\n",
       "       [9.99983188e-01, 1.68117008e-05],\n",
       "       [9.94312848e-01, 5.68715183e-03],\n",
       "       [9.99707216e-01, 2.92783827e-04],\n",
       "       [9.09389788e-01, 9.06102122e-02],\n",
       "       [9.99882649e-01, 1.17350675e-04],\n",
       "       [6.43738052e-01, 3.56261948e-01],\n",
       "       [9.99933733e-01, 6.62669098e-05],\n",
       "       [9.94924025e-01, 5.07597504e-03],\n",
       "       [9.99973443e-01, 2.65568321e-05],\n",
       "       [9.94924025e-01, 5.07597504e-03],\n",
       "       [9.99976312e-01, 2.36883768e-05],\n",
       "       [9.52213195e-01, 4.77868053e-02],\n",
       "       [9.99481606e-01, 5.18394187e-04],\n",
       "       [8.64007912e-01, 1.35992088e-01],\n",
       "       [9.99882649e-01, 1.17350675e-04],\n",
       "       [9.99418868e-01, 5.81132379e-04],\n",
       "       [9.89972196e-01, 1.00278038e-02],\n",
       "       [9.98179636e-01, 1.82036449e-03],\n",
       "       [9.99916714e-01, 8.32863349e-05],\n",
       "       [9.98375942e-01, 1.62405804e-03],\n",
       "       [9.99999655e-01, 3.44971798e-07],\n",
       "       [9.92862513e-01, 7.13748666e-03],\n",
       "       [9.99181350e-01, 8.18650412e-04],\n",
       "       [9.88771519e-01, 1.12284806e-02],\n",
       "       [2.05614390e-01, 7.94385610e-01],\n",
       "       [9.99993991e-01, 6.00947364e-06],\n",
       "       [6.17114881e-01, 3.82885119e-01],\n",
       "       [9.97436923e-01, 2.56307744e-03],\n",
       "       [9.99834655e-01, 1.65345120e-04],\n",
       "       [9.99632041e-01, 3.67958508e-04],\n",
       "       [6.69501446e-01, 3.30498554e-01],\n",
       "       [9.99947275e-01, 5.27251927e-05],\n",
       "       [9.77950677e-01, 2.20493235e-02],\n",
       "       [9.99999139e-01, 8.60837276e-07],\n",
       "       [9.98846866e-01, 1.15313383e-03],\n",
       "       [9.92862513e-01, 7.13748666e-03],\n",
       "       [9.88771519e-01, 1.12284806e-02],\n",
       "       [9.99814636e-01, 1.85363789e-04],\n",
       "       [9.33956925e-01, 6.60430749e-02],\n",
       "       [9.99671773e-01, 3.28226694e-04]])"
      ]
     },
     "execution_count": 26,
     "metadata": {},
     "output_type": "execute_result"
    }
   ],
   "source": [
    "clf.predict_proba(df[[\"bill_length_mm\"]])"
   ]
  },
  {
   "cell_type": "code",
   "execution_count": null,
   "metadata": {
    "cell_id": "bb935901835f4481aa5027c8808a9c20",
    "deepnote_cell_height": 81,
    "deepnote_cell_type": "code",
    "deepnote_to_be_reexecuted": false,
    "execution_millis": 5,
    "execution_start": 1652030871683,
    "source_hash": "f924bdb6",
    "tags": []
   },
   "outputs": [],
   "source": [
    "A = clf.predict_proba(df[[\"bill_length_mm\"]])"
   ]
  },
  {
   "cell_type": "code",
   "execution_count": null,
   "metadata": {
    "cell_id": "53abcf47009b439286e03a1b4b797856",
    "deepnote_cell_height": 81,
    "deepnote_cell_type": "code",
    "deepnote_output_heights": [
     611
    ],
    "deepnote_to_be_reexecuted": false,
    "execution_millis": 11,
    "execution_start": 1652030910339,
    "source_hash": "c99ac6f7",
    "tags": []
   },
   "outputs": [],
   "source": [
    "df[\"Pred3\"] = A[:,1]"
   ]
  },
  {
   "cell_type": "code",
   "execution_count": null,
   "metadata": {
    "cell_id": "fa1ffa860bcb4cff89fee5021a4c95d8",
    "deepnote_cell_height": 135,
    "deepnote_cell_type": "code",
    "deepnote_to_be_reexecuted": false,
    "execution_millis": 1,
    "execution_start": 1652030955695,
    "source_hash": "14bfe88e",
    "tags": []
   },
   "outputs": [],
   "source": [
    "c3 = alt.Chart(df).mark_line(color=\"red\").encode(\n",
    "    x=\"bill_length_mm\",\n",
    "    y=\"Pred3\"\n",
    ")"
   ]
  },
  {
   "cell_type": "code",
   "execution_count": null,
   "metadata": {
    "cell_id": "5dfeeb4c70814bc5a948aba6a0ec2550",
    "deepnote_cell_height": 458,
    "deepnote_cell_type": "code",
    "deepnote_output_heights": [
     361
    ],
    "deepnote_to_be_reexecuted": false,
    "execution_millis": 14,
    "execution_start": 1652030958319,
    "source_hash": "eba6d419",
    "tags": []
   },
   "outputs": [
    {
     "data": {
      "text/html": [
       "\n",
       "<div id=\"altair-viz-a84d87e6166f4a3e9d5499d34aec91f8\"></div>\n",
       "<script type=\"text/javascript\">\n",
       "  (function(spec, embedOpt){\n",
       "    let outputDiv = document.currentScript.previousElementSibling;\n",
       "    if (outputDiv.id !== \"altair-viz-a84d87e6166f4a3e9d5499d34aec91f8\") {\n",
       "      outputDiv = document.getElementById(\"altair-viz-a84d87e6166f4a3e9d5499d34aec91f8\");\n",
       "    }\n",
       "    const paths = {\n",
       "      \"vega\": \"https://cdn.jsdelivr.net/npm//vega@5?noext\",\n",
       "      \"vega-lib\": \"https://cdn.jsdelivr.net/npm//vega-lib?noext\",\n",
       "      \"vega-lite\": \"https://cdn.jsdelivr.net/npm//vega-lite@4.8.1?noext\",\n",
       "      \"vega-embed\": \"https://cdn.jsdelivr.net/npm//vega-embed@6?noext\",\n",
       "    };\n",
       "\n",
       "    function loadScript(lib) {\n",
       "      return new Promise(function(resolve, reject) {\n",
       "        var s = document.createElement('script');\n",
       "        s.src = paths[lib];\n",
       "        s.async = true;\n",
       "        s.onload = () => resolve(paths[lib]);\n",
       "        s.onerror = () => reject(`Error loading script: ${paths[lib]}`);\n",
       "        document.getElementsByTagName(\"head\")[0].appendChild(s);\n",
       "      });\n",
       "    }\n",
       "\n",
       "    function showError(err) {\n",
       "      outputDiv.innerHTML = `<div class=\"error\" style=\"color:red;\">${err}</div>`;\n",
       "      throw err;\n",
       "    }\n",
       "\n",
       "    function displayChart(vegaEmbed) {\n",
       "      vegaEmbed(outputDiv, spec, embedOpt)\n",
       "        .catch(err => showError(`Javascript Error: ${err.message}<br>This usually means there's a typo in your chart specification. See the javascript console for the full traceback.`));\n",
       "    }\n",
       "\n",
       "    if(typeof define === \"function\" && define.amd) {\n",
       "      requirejs.config({paths});\n",
       "      require([\"vega-embed\"], displayChart, err => showError(`Error loading script: ${err.message}`));\n",
       "    } else if (typeof vegaEmbed === \"function\") {\n",
       "      displayChart(vegaEmbed);\n",
       "    } else {\n",
       "      loadScript(\"vega\")\n",
       "        .then(() => loadScript(\"vega-lite\"))\n",
       "        .then(() => loadScript(\"vega-embed\"))\n",
       "        .catch(showError)\n",
       "        .then(() => displayChart(vegaEmbed));\n",
       "    }\n",
       "  })({\"config\": {\"view\": {\"continuousWidth\": 400, \"continuousHeight\": 300}}, \"layer\": [{\"mark\": \"circle\", \"encoding\": {\"x\": {\"type\": \"quantitative\", \"field\": \"bill_length_mm\"}, \"y\": {\"type\": \"quantitative\", \"field\": \"isAdelie_float\"}}}, {\"mark\": {\"type\": \"line\", \"color\": \"red\"}, \"encoding\": {\"x\": {\"type\": \"quantitative\", \"field\": \"bill_length_mm\"}, \"y\": {\"type\": \"quantitative\", \"field\": \"Pred3\"}}}], \"data\": {\"name\": \"data-c56fd228b6baca17a6cfa5c20b1e1577\"}, \"$schema\": \"https://vega.github.io/schema/vega-lite/v4.8.1.json\", \"datasets\": {\"data-c56fd228b6baca17a6cfa5c20b1e1577\": [{\"species\": \"Adelie\", \"island\": \"Torgersen\", \"bill_length_mm\": 39.1, \"bill_depth_mm\": 18.7, \"flipper_length_mm\": 181.0, \"body_mass_g\": 3750.0, \"sex\": \"Male\", \"isAdelie_bool\": true, \"isAdelie_float\": 1.0, \"Pred\": 0.8103158927589864, \"Pred2\": 1.0, \"Pred3\": 0.9869200348254422}, {\"species\": \"Adelie\", \"island\": \"Torgersen\", \"bill_length_mm\": 39.5, \"bill_depth_mm\": 17.4, \"flipper_length_mm\": 186.0, \"body_mass_g\": 3800.0, \"sex\": \"Female\", \"isAdelie_bool\": true, \"isAdelie_float\": 1.0, \"Pred\": 0.7799138324168169, \"Pred2\": 1.0, \"Pred3\": 0.9794933387389972}, {\"species\": \"Adelie\", \"island\": \"Torgersen\", \"bill_length_mm\": 40.3, \"bill_depth_mm\": 18.0, \"flipper_length_mm\": 195.0, \"body_mass_g\": 3250.0, \"sex\": \"Female\", \"isAdelie_bool\": true, \"isAdelie_float\": 1.0, \"Pred\": 0.7191097117324778, \"Pred2\": 1.0, \"Pred3\": 0.9503504895675794}, {\"species\": \"Adelie\", \"island\": \"Torgersen\", \"bill_length_mm\": 36.7, \"bill_depth_mm\": 19.3, \"flipper_length_mm\": 193.0, \"body_mass_g\": 3450.0, \"sex\": \"Female\", \"isAdelie_bool\": true, \"isAdelie_float\": 1.0, \"Pred\": 0.9927282548120044, \"Pred2\": 1.0, \"Pred3\": 0.9991478005137}, {\"species\": \"Adelie\", \"island\": \"Torgersen\", \"bill_length_mm\": 39.3, \"bill_depth_mm\": 20.6, \"flipper_length_mm\": 190.0, \"body_mass_g\": 3650.0, \"sex\": \"Male\", \"isAdelie_bool\": true, \"isAdelie_float\": 1.0, \"Pred\": 0.7951148625879019, \"Pred2\": 1.0, \"Pred3\": 0.9836154548153474}, {\"species\": \"Adelie\", \"island\": \"Torgersen\", \"bill_length_mm\": 38.9, \"bill_depth_mm\": 17.8, \"flipper_length_mm\": 181.0, \"body_mass_g\": 3625.0, \"sex\": \"Female\", \"isAdelie_bool\": true, \"isAdelie_float\": 1.0, \"Pred\": 0.8255169229300714, \"Pred2\": 1.0, \"Pred3\": 0.9895651885255436}, {\"species\": \"Adelie\", \"island\": \"Torgersen\", \"bill_length_mm\": 39.2, \"bill_depth_mm\": 19.6, \"flipper_length_mm\": 195.0, \"body_mass_g\": 4675.0, \"sex\": \"Male\", \"isAdelie_bool\": true, \"isAdelie_float\": 1.0, \"Pred\": 0.8027153776734441, \"Pred2\": 1.0, \"Pred3\": 0.9853593128677397}, {\"species\": \"Adelie\", \"island\": \"Torgersen\", \"bill_length_mm\": 41.1, \"bill_depth_mm\": 17.6, \"flipper_length_mm\": 182.0, \"body_mass_g\": 3200.0, \"sex\": \"Female\", \"isAdelie_bool\": true, \"isAdelie_float\": 1.0, \"Pred\": 0.6583055910481383, \"Pred2\": 1.0, \"Pred3\": 0.8846681504164191}, {\"species\": \"Adelie\", \"island\": \"Torgersen\", \"bill_length_mm\": 38.6, \"bill_depth_mm\": 21.2, \"flipper_length_mm\": 191.0, \"body_mass_g\": 3800.0, \"sex\": \"Male\", \"isAdelie_bool\": true, \"isAdelie_float\": 1.0, \"Pred\": 0.8483184681866986, \"Pred2\": 1.0, \"Pred3\": 0.9925719374173082}, {\"species\": \"Adelie\", \"island\": \"Torgersen\", \"bill_length_mm\": 34.6, \"bill_depth_mm\": 21.1, \"flipper_length_mm\": 198.0, \"body_mass_g\": 4400.0, \"sex\": \"Male\", \"isAdelie_bool\": true, \"isAdelie_float\": 1.0, \"Pred\": 1.1523390716083952, \"Pred2\": 1.0, \"Pred3\": 0.9999226622579593}, {\"species\": \"Adelie\", \"island\": \"Torgersen\", \"bill_length_mm\": 36.6, \"bill_depth_mm\": 17.8, \"flipper_length_mm\": 185.0, \"body_mass_g\": 3700.0, \"sex\": \"Female\", \"isAdelie_bool\": true, \"isAdelie_float\": 1.0, \"Pred\": 1.0003287698975472, \"Pred2\": 1.0, \"Pred3\": 0.9992397804487299}, {\"species\": \"Adelie\", \"island\": \"Torgersen\", \"bill_length_mm\": 38.7, \"bill_depth_mm\": 19.0, \"flipper_length_mm\": 195.0, \"body_mass_g\": 3450.0, \"sex\": \"Female\", \"isAdelie_bool\": true, \"isAdelie_float\": 1.0, \"Pred\": 0.8407179531011559, \"Pred2\": 1.0, \"Pred3\": 0.9916799239677997}, {\"species\": \"Adelie\", \"island\": \"Torgersen\", \"bill_length_mm\": 42.5, \"bill_depth_mm\": 20.7, \"flipper_length_mm\": 197.0, \"body_mass_g\": 4500.0, \"sex\": \"Male\", \"isAdelie_bool\": true, \"isAdelie_float\": 1.0, \"Pred\": 0.5518983798505444, \"Pred2\": 1.0, \"Pred3\": 0.6075733184170551}, {\"species\": \"Adelie\", \"island\": \"Torgersen\", \"bill_length_mm\": 34.4, \"bill_depth_mm\": 18.4, \"flipper_length_mm\": 184.0, \"body_mass_g\": 3325.0, \"sex\": \"Female\", \"isAdelie_bool\": true, \"isAdelie_float\": 1.0, \"Pred\": 1.1675401017794802, \"Pred2\": 1.0, \"Pred3\": 0.9999384661727423}, {\"species\": \"Adelie\", \"island\": \"Torgersen\", \"bill_length_mm\": 46.0, \"bill_depth_mm\": 21.5, \"flipper_length_mm\": 194.0, \"body_mass_g\": 4200.0, \"sex\": \"Male\", \"isAdelie_bool\": true, \"isAdelie_float\": 1.0, \"Pred\": 0.28588035185656, \"Pred2\": 0.0, \"Pred3\": 0.027556688993271117}, {\"species\": \"Adelie\", \"island\": \"Biscoe\", \"bill_length_mm\": 37.8, \"bill_depth_mm\": 18.3, \"flipper_length_mm\": 174.0, \"body_mass_g\": 3400.0, \"sex\": \"Female\", \"isAdelie_bool\": true, \"isAdelie_float\": 1.0, \"Pred\": 0.9091225888710381, \"Pred2\": 1.0, \"Pred3\": 0.9970099712342856}, {\"species\": \"Adelie\", \"island\": \"Biscoe\", \"bill_length_mm\": 37.7, \"bill_depth_mm\": 18.7, \"flipper_length_mm\": 180.0, \"body_mass_g\": 3600.0, \"sex\": \"Male\", \"isAdelie_bool\": true, \"isAdelie_float\": 1.0, \"Pred\": 0.9167231039565804, \"Pred2\": 1.0, \"Pred3\": 0.9973320760876062}, {\"species\": \"Adelie\", \"island\": \"Biscoe\", \"bill_length_mm\": 35.9, \"bill_depth_mm\": 19.2, \"flipper_length_mm\": 189.0, \"body_mass_g\": 3800.0, \"sex\": \"Female\", \"isAdelie_bool\": true, \"isAdelie_float\": 1.0, \"Pred\": 1.053532375496344, \"Pred2\": 1.0, \"Pred3\": 0.9996583153904776}, {\"species\": \"Adelie\", \"island\": \"Biscoe\", \"bill_length_mm\": 38.2, \"bill_depth_mm\": 18.1, \"flipper_length_mm\": 185.0, \"body_mass_g\": 3950.0, \"sex\": \"Male\", \"isAdelie_bool\": true, \"isAdelie_float\": 1.0, \"Pred\": 0.8787205285288682, \"Pred2\": 1.0, \"Pred3\": 0.9952848868113564}, {\"species\": \"Adelie\", \"island\": \"Biscoe\", \"bill_length_mm\": 38.8, \"bill_depth_mm\": 17.2, \"flipper_length_mm\": 180.0, \"body_mass_g\": 3800.0, \"sex\": \"Male\", \"isAdelie_bool\": true, \"isAdelie_float\": 1.0, \"Pred\": 0.8331174380156141, \"Pred2\": 1.0, \"Pred3\": 0.9906817969635933}, {\"species\": \"Adelie\", \"island\": \"Biscoe\", \"bill_length_mm\": 35.3, \"bill_depth_mm\": 18.9, \"flipper_length_mm\": 187.0, \"body_mass_g\": 3800.0, \"sex\": \"Female\", \"isAdelie_bool\": true, \"isAdelie_float\": 1.0, \"Pred\": 1.0991354660095989, \"Pred2\": 1.0, \"Pred3\": 0.9998278742672737}, {\"species\": \"Adelie\", \"island\": \"Biscoe\", \"bill_length_mm\": 40.6, \"bill_depth_mm\": 18.6, \"flipper_length_mm\": 183.0, \"body_mass_g\": 3550.0, \"sex\": \"Male\", \"isAdelie_bool\": true, \"isAdelie_float\": 1.0, \"Pred\": 0.6963081664758501, \"Pred2\": 1.0, \"Pred3\": 0.9314338416802556}, {\"species\": \"Adelie\", \"island\": \"Biscoe\", \"bill_length_mm\": 40.5, \"bill_depth_mm\": 17.9, \"flipper_length_mm\": 187.0, \"body_mass_g\": 3200.0, \"sex\": \"Female\", \"isAdelie_bool\": true, \"isAdelie_float\": 1.0, \"Pred\": 0.7039086815613929, \"Pred2\": 1.0, \"Pred3\": 0.9383836425490999}, {\"species\": \"Adelie\", \"island\": \"Biscoe\", \"bill_length_mm\": 37.9, \"bill_depth_mm\": 18.6, \"flipper_length_mm\": 172.0, \"body_mass_g\": 3150.0, \"sex\": \"Female\", \"isAdelie_bool\": true, \"isAdelie_float\": 1.0, \"Pred\": 0.9015220737854959, \"Pred2\": 1.0, \"Pred3\": 0.9966491085491155}, {\"species\": \"Adelie\", \"island\": \"Biscoe\", \"bill_length_mm\": 40.5, \"bill_depth_mm\": 18.9, \"flipper_length_mm\": 180.0, \"body_mass_g\": 3950.0, \"sex\": \"Male\", \"isAdelie_bool\": true, \"isAdelie_float\": 1.0, \"Pred\": 0.7039086815613929, \"Pred2\": 1.0, \"Pred3\": 0.9383836425490999}, {\"species\": \"Adelie\", \"island\": \"Dream\", \"bill_length_mm\": 39.5, \"bill_depth_mm\": 16.7, \"flipper_length_mm\": 178.0, \"body_mass_g\": 3250.0, \"sex\": \"Female\", \"isAdelie_bool\": true, \"isAdelie_float\": 1.0, \"Pred\": 0.7799138324168169, \"Pred2\": 1.0, \"Pred3\": 0.9794933387389972}, {\"species\": \"Adelie\", \"island\": \"Dream\", \"bill_length_mm\": 37.2, \"bill_depth_mm\": 18.1, \"flipper_length_mm\": 178.0, \"body_mass_g\": 3900.0, \"sex\": \"Male\", \"isAdelie_bool\": true, \"isAdelie_float\": 1.0, \"Pred\": 0.9547256793842922, \"Pred2\": 1.0, \"Pred3\": 0.9984917717110833}, {\"species\": \"Adelie\", \"island\": \"Dream\", \"bill_length_mm\": 39.5, \"bill_depth_mm\": 17.8, \"flipper_length_mm\": 188.0, \"body_mass_g\": 3300.0, \"sex\": \"Female\", \"isAdelie_bool\": true, \"isAdelie_float\": 1.0, \"Pred\": 0.7799138324168169, \"Pred2\": 1.0, \"Pred3\": 0.9794933387389972}, {\"species\": \"Adelie\", \"island\": \"Dream\", \"bill_length_mm\": 40.9, \"bill_depth_mm\": 18.9, \"flipper_length_mm\": 184.0, \"body_mass_g\": 3900.0, \"sex\": \"Male\", \"isAdelie_bool\": true, \"isAdelie_float\": 1.0, \"Pred\": 0.6735066212192233, \"Pred2\": 1.0, \"Pred3\": 0.9060225910165011}, {\"species\": \"Adelie\", \"island\": \"Dream\", \"bill_length_mm\": 36.4, \"bill_depth_mm\": 17.0, \"flipper_length_mm\": 195.0, \"body_mass_g\": 3325.0, \"sex\": \"Female\", \"isAdelie_bool\": true, \"isAdelie_float\": 1.0, \"Pred\": 1.0155298000686321, \"Pred2\": 1.0, \"Pred3\": 0.9993950463693347}, {\"species\": \"Adelie\", \"island\": \"Dream\", \"bill_length_mm\": 39.2, \"bill_depth_mm\": 21.1, \"flipper_length_mm\": 196.0, \"body_mass_g\": 4150.0, \"sex\": \"Male\", \"isAdelie_bool\": true, \"isAdelie_float\": 1.0, \"Pred\": 0.8027153776734441, \"Pred2\": 1.0, \"Pred3\": 0.9853593128677397}, {\"species\": \"Adelie\", \"island\": \"Dream\", \"bill_length_mm\": 38.8, \"bill_depth_mm\": 20.0, \"flipper_length_mm\": 190.0, \"body_mass_g\": 3950.0, \"sex\": \"Male\", \"isAdelie_bool\": true, \"isAdelie_float\": 1.0, \"Pred\": 0.8331174380156141, \"Pred2\": 1.0, \"Pred3\": 0.9906817969635933}, {\"species\": \"Adelie\", \"island\": \"Dream\", \"bill_length_mm\": 42.2, \"bill_depth_mm\": 18.5, \"flipper_length_mm\": 180.0, \"body_mass_g\": 3550.0, \"sex\": \"Female\", \"isAdelie_bool\": true, \"isAdelie_float\": 1.0, \"Pred\": 0.5746999251071716, \"Pred2\": 1.0, \"Pred3\": 0.6856886029479479}, {\"species\": \"Adelie\", \"island\": \"Dream\", \"bill_length_mm\": 37.6, \"bill_depth_mm\": 19.3, \"flipper_length_mm\": 181.0, \"body_mass_g\": 3300.0, \"sex\": \"Female\", \"isAdelie_bool\": true, \"isAdelie_float\": 1.0, \"Pred\": 0.9243236190421227, \"Pred2\": 1.0, \"Pred3\": 0.9976195646110719}, {\"species\": \"Adelie\", \"island\": \"Dream\", \"bill_length_mm\": 39.8, \"bill_depth_mm\": 19.1, \"flipper_length_mm\": 184.0, \"body_mass_g\": 4650.0, \"sex\": \"Male\", \"isAdelie_bool\": true, \"isAdelie_float\": 1.0, \"Pred\": 0.7571122871601901, \"Pred2\": 1.0, \"Pred3\": 0.9713454355954064}, {\"species\": \"Adelie\", \"island\": \"Dream\", \"bill_length_mm\": 36.5, \"bill_depth_mm\": 18.0, \"flipper_length_mm\": 182.0, \"body_mass_g\": 3150.0, \"sex\": \"Female\", \"isAdelie_bool\": true, \"isAdelie_float\": 1.0, \"Pred\": 1.0079292849830894, \"Pred2\": 1.0, \"Pred3\": 0.9993218395069658}, {\"species\": \"Adelie\", \"island\": \"Dream\", \"bill_length_mm\": 40.8, \"bill_depth_mm\": 18.4, \"flipper_length_mm\": 195.0, \"body_mass_g\": 3900.0, \"sex\": \"Male\", \"isAdelie_bool\": true, \"isAdelie_float\": 1.0, \"Pred\": 0.6811071363047656, \"Pred2\": 1.0, \"Pred3\": 0.9153138727022034}, {\"species\": \"Adelie\", \"island\": \"Dream\", \"bill_length_mm\": 36.0, \"bill_depth_mm\": 18.5, \"flipper_length_mm\": 186.0, \"body_mass_g\": 3100.0, \"sex\": \"Female\", \"isAdelie_bool\": true, \"isAdelie_float\": 1.0, \"Pred\": 1.0459318604108017, \"Pred2\": 1.0, \"Pred3\": 0.9996169551211195}, {\"species\": \"Adelie\", \"island\": \"Dream\", \"bill_length_mm\": 44.1, \"bill_depth_mm\": 19.7, \"flipper_length_mm\": 196.0, \"body_mass_g\": 4400.0, \"sex\": \"Male\", \"isAdelie_bool\": true, \"isAdelie_float\": 1.0, \"Pred\": 0.4302901384818658, \"Pred2\": 0.0, \"Pred3\": 0.1991263659602371}, {\"species\": \"Adelie\", \"island\": \"Dream\", \"bill_length_mm\": 37.0, \"bill_depth_mm\": 16.9, \"flipper_length_mm\": 185.0, \"body_mass_g\": 3000.0, \"sex\": \"Female\", \"isAdelie_bool\": true, \"isAdelie_float\": 1.0, \"Pred\": 0.9699267095553772, \"Pred2\": 1.0, \"Pred3\": 0.9987996261138858}, {\"species\": \"Adelie\", \"island\": \"Dream\", \"bill_length_mm\": 39.6, \"bill_depth_mm\": 18.8, \"flipper_length_mm\": 190.0, \"body_mass_g\": 4600.0, \"sex\": \"Male\", \"isAdelie_bool\": true, \"isAdelie_float\": 1.0, \"Pred\": 0.7723133173312746, \"Pred2\": 1.0, \"Pred3\": 0.9770670434800949}, {\"species\": \"Adelie\", \"island\": \"Dream\", \"bill_length_mm\": 41.1, \"bill_depth_mm\": 19.0, \"flipper_length_mm\": 182.0, \"body_mass_g\": 3425.0, \"sex\": \"Male\", \"isAdelie_bool\": true, \"isAdelie_float\": 1.0, \"Pred\": 0.6583055910481383, \"Pred2\": 1.0, \"Pred3\": 0.8846681504164191}, {\"species\": \"Adelie\", \"island\": \"Dream\", \"bill_length_mm\": 36.0, \"bill_depth_mm\": 17.9, \"flipper_length_mm\": 190.0, \"body_mass_g\": 3450.0, \"sex\": \"Female\", \"isAdelie_bool\": true, \"isAdelie_float\": 1.0, \"Pred\": 1.0459318604108017, \"Pred2\": 1.0, \"Pred3\": 0.9996169551211195}, {\"species\": \"Adelie\", \"island\": \"Dream\", \"bill_length_mm\": 42.3, \"bill_depth_mm\": 21.2, \"flipper_length_mm\": 191.0, \"body_mass_g\": 4150.0, \"sex\": \"Male\", \"isAdelie_bool\": true, \"isAdelie_float\": 1.0, \"Pred\": 0.5670994100216293, \"Pred2\": 1.0, \"Pred3\": 0.660547266723883}, {\"species\": \"Adelie\", \"island\": \"Biscoe\", \"bill_length_mm\": 39.6, \"bill_depth_mm\": 17.7, \"flipper_length_mm\": 186.0, \"body_mass_g\": 3500.0, \"sex\": \"Female\", \"isAdelie_bool\": true, \"isAdelie_float\": 1.0, \"Pred\": 0.7723133173312746, \"Pred2\": 1.0, \"Pred3\": 0.9770670434800949}, {\"species\": \"Adelie\", \"island\": \"Biscoe\", \"bill_length_mm\": 40.1, \"bill_depth_mm\": 18.9, \"flipper_length_mm\": 188.0, \"body_mass_g\": 4300.0, \"sex\": \"Male\", \"isAdelie_bool\": true, \"isAdelie_float\": 1.0, \"Pred\": 0.7343107419035624, \"Pred2\": 1.0, \"Pred3\": 0.960092032565854}, {\"species\": \"Adelie\", \"island\": \"Biscoe\", \"bill_length_mm\": 35.0, \"bill_depth_mm\": 17.9, \"flipper_length_mm\": 190.0, \"body_mass_g\": 3450.0, \"sex\": \"Female\", \"isAdelie_bool\": true, \"isAdelie_float\": 1.0, \"Pred\": 1.1219370112662257, \"Pred2\": 1.0, \"Pred3\": 0.9998778366686523}, {\"species\": \"Adelie\", \"island\": \"Biscoe\", \"bill_length_mm\": 42.0, \"bill_depth_mm\": 19.5, \"flipper_length_mm\": 200.0, \"body_mass_g\": 4050.0, \"sex\": \"Male\", \"isAdelie_bool\": true, \"isAdelie_float\": 1.0, \"Pred\": 0.5899009552782566, \"Pred2\": 1.0, \"Pred3\": 0.732755912732211}, {\"species\": \"Adelie\", \"island\": \"Biscoe\", \"bill_length_mm\": 34.5, \"bill_depth_mm\": 18.1, \"flipper_length_mm\": 187.0, \"body_mass_g\": 2900.0, \"sex\": \"Female\", \"isAdelie_bool\": true, \"isAdelie_float\": 1.0, \"Pred\": 1.159939586693938, \"Pred2\": 1.0, \"Pred3\": 0.9999310152802936}, {\"species\": \"Adelie\", \"island\": \"Biscoe\", \"bill_length_mm\": 41.4, \"bill_depth_mm\": 18.6, \"flipper_length_mm\": 191.0, \"body_mass_g\": 3700.0, \"sex\": \"Male\", \"isAdelie_bool\": true, \"isAdelie_float\": 1.0, \"Pred\": 0.6355040457915111, \"Pred2\": 1.0, \"Pred3\": 0.8448127731129318}, {\"species\": \"Adelie\", \"island\": \"Biscoe\", \"bill_length_mm\": 39.0, \"bill_depth_mm\": 17.5, \"flipper_length_mm\": 186.0, \"body_mass_g\": 3550.0, \"sex\": \"Female\", \"isAdelie_bool\": true, \"isAdelie_float\": 1.0, \"Pred\": 0.8179164078445291, \"Pred2\": 1.0, \"Pred3\": 0.9883163539444552}, {\"species\": \"Adelie\", \"island\": \"Biscoe\", \"bill_length_mm\": 40.6, \"bill_depth_mm\": 18.8, \"flipper_length_mm\": 193.0, \"body_mass_g\": 3800.0, \"sex\": \"Male\", \"isAdelie_bool\": true, \"isAdelie_float\": 1.0, \"Pred\": 0.6963081664758501, \"Pred2\": 1.0, \"Pred3\": 0.9314338416802556}, {\"species\": \"Adelie\", \"island\": \"Biscoe\", \"bill_length_mm\": 36.5, \"bill_depth_mm\": 16.6, \"flipper_length_mm\": 181.0, \"body_mass_g\": 2850.0, \"sex\": \"Female\", \"isAdelie_bool\": true, \"isAdelie_float\": 1.0, \"Pred\": 1.0079292849830894, \"Pred2\": 1.0, \"Pred3\": 0.9993218395069658}, {\"species\": \"Adelie\", \"island\": \"Biscoe\", \"bill_length_mm\": 37.6, \"bill_depth_mm\": 19.1, \"flipper_length_mm\": 194.0, \"body_mass_g\": 3750.0, \"sex\": \"Male\", \"isAdelie_bool\": true, \"isAdelie_float\": 1.0, \"Pred\": 0.9243236190421227, \"Pred2\": 1.0, \"Pred3\": 0.9976195646110719}, {\"species\": \"Adelie\", \"island\": \"Biscoe\", \"bill_length_mm\": 35.7, \"bill_depth_mm\": 16.9, \"flipper_length_mm\": 185.0, \"body_mass_g\": 3150.0, \"sex\": \"Female\", \"isAdelie_bool\": true, \"isAdelie_float\": 1.0, \"Pred\": 1.0687334056674285, \"Pred2\": 1.0, \"Pred3\": 0.9997281237194964}, {\"species\": \"Adelie\", \"island\": \"Biscoe\", \"bill_length_mm\": 41.3, \"bill_depth_mm\": 21.1, \"flipper_length_mm\": 195.0, \"body_mass_g\": 4400.0, \"sex\": \"Male\", \"isAdelie_bool\": true, \"isAdelie_float\": 1.0, \"Pred\": 0.6431045608770538, \"Pred2\": 1.0, \"Pred3\": 0.859215347048944}, {\"species\": \"Adelie\", \"island\": \"Biscoe\", \"bill_length_mm\": 37.6, \"bill_depth_mm\": 17.0, \"flipper_length_mm\": 185.0, \"body_mass_g\": 3600.0, \"sex\": \"Female\", \"isAdelie_bool\": true, \"isAdelie_float\": 1.0, \"Pred\": 0.9243236190421227, \"Pred2\": 1.0, \"Pred3\": 0.9976195646110719}, {\"species\": \"Adelie\", \"island\": \"Biscoe\", \"bill_length_mm\": 41.1, \"bill_depth_mm\": 18.2, \"flipper_length_mm\": 192.0, \"body_mass_g\": 4050.0, \"sex\": \"Male\", \"isAdelie_bool\": true, \"isAdelie_float\": 1.0, \"Pred\": 0.6583055910481383, \"Pred2\": 1.0, \"Pred3\": 0.8846681504164191}, {\"species\": \"Adelie\", \"island\": \"Biscoe\", \"bill_length_mm\": 36.4, \"bill_depth_mm\": 17.1, \"flipper_length_mm\": 184.0, \"body_mass_g\": 2850.0, \"sex\": \"Female\", \"isAdelie_bool\": true, \"isAdelie_float\": 1.0, \"Pred\": 1.0155298000686321, \"Pred2\": 1.0, \"Pred3\": 0.9993950463693347}, {\"species\": \"Adelie\", \"island\": \"Biscoe\", \"bill_length_mm\": 41.6, \"bill_depth_mm\": 18.0, \"flipper_length_mm\": 192.0, \"body_mass_g\": 3950.0, \"sex\": \"Male\", \"isAdelie_bool\": true, \"isAdelie_float\": 1.0, \"Pred\": 0.6203030156204261, \"Pred2\": 1.0, \"Pred3\": 0.8124291232145705}, {\"species\": \"Adelie\", \"island\": \"Biscoe\", \"bill_length_mm\": 35.5, \"bill_depth_mm\": 16.2, \"flipper_length_mm\": 195.0, \"body_mass_g\": 3350.0, \"sex\": \"Female\", \"isAdelie_bool\": true, \"isAdelie_float\": 1.0, \"Pred\": 1.0839344358385135, \"Pred2\": 1.0, \"Pred3\": 0.999783672851296}, {\"species\": \"Adelie\", \"island\": \"Biscoe\", \"bill_length_mm\": 41.1, \"bill_depth_mm\": 19.1, \"flipper_length_mm\": 188.0, \"body_mass_g\": 4100.0, \"sex\": \"Male\", \"isAdelie_bool\": true, \"isAdelie_float\": 1.0, \"Pred\": 0.6583055910481383, \"Pred2\": 1.0, \"Pred3\": 0.8846681504164191}, {\"species\": \"Adelie\", \"island\": \"Torgersen\", \"bill_length_mm\": 35.9, \"bill_depth_mm\": 16.6, \"flipper_length_mm\": 190.0, \"body_mass_g\": 3050.0, \"sex\": \"Female\", \"isAdelie_bool\": true, \"isAdelie_float\": 1.0, \"Pred\": 1.053532375496344, \"Pred2\": 1.0, \"Pred3\": 0.9996583153904776}, {\"species\": \"Adelie\", \"island\": \"Torgersen\", \"bill_length_mm\": 41.8, \"bill_depth_mm\": 19.4, \"flipper_length_mm\": 198.0, \"body_mass_g\": 4450.0, \"sex\": \"Male\", \"isAdelie_bool\": true, \"isAdelie_float\": 1.0, \"Pred\": 0.6051019854493416, \"Pred2\": 1.0, \"Pred3\": 0.775086902089169}, {\"species\": \"Adelie\", \"island\": \"Torgersen\", \"bill_length_mm\": 33.5, \"bill_depth_mm\": 19.0, \"flipper_length_mm\": 190.0, \"body_mass_g\": 3600.0, \"sex\": \"Female\", \"isAdelie_bool\": true, \"isAdelie_float\": 1.0, \"Pred\": 1.235944737549362, \"Pred2\": 1.0, \"Pred3\": 0.9999780036211757}, {\"species\": \"Adelie\", \"island\": \"Torgersen\", \"bill_length_mm\": 39.7, \"bill_depth_mm\": 18.4, \"flipper_length_mm\": 190.0, \"body_mass_g\": 3900.0, \"sex\": \"Male\", \"isAdelie_bool\": true, \"isAdelie_float\": 1.0, \"Pred\": 0.7647128022457319, \"Pred2\": 1.0, \"Pred3\": 0.9743611895287353}, {\"species\": \"Adelie\", \"island\": \"Torgersen\", \"bill_length_mm\": 39.6, \"bill_depth_mm\": 17.2, \"flipper_length_mm\": 196.0, \"body_mass_g\": 3550.0, \"sex\": \"Female\", \"isAdelie_bool\": true, \"isAdelie_float\": 1.0, \"Pred\": 0.7723133173312746, \"Pred2\": 1.0, \"Pred3\": 0.9770670434800949}, {\"species\": \"Adelie\", \"island\": \"Torgersen\", \"bill_length_mm\": 45.8, \"bill_depth_mm\": 18.9, \"flipper_length_mm\": 197.0, \"body_mass_g\": 4150.0, \"sex\": \"Male\", \"isAdelie_bool\": true, \"isAdelie_float\": 1.0, \"Pred\": 0.301081382027645, \"Pred2\": 0.0, \"Pred3\": 0.03439128035796718}, {\"species\": \"Adelie\", \"island\": \"Torgersen\", \"bill_length_mm\": 35.5, \"bill_depth_mm\": 17.5, \"flipper_length_mm\": 190.0, \"body_mass_g\": 3700.0, \"sex\": \"Female\", \"isAdelie_bool\": true, \"isAdelie_float\": 1.0, \"Pred\": 1.0839344358385135, \"Pred2\": 1.0, \"Pred3\": 0.999783672851296}, {\"species\": \"Adelie\", \"island\": \"Torgersen\", \"bill_length_mm\": 42.8, \"bill_depth_mm\": 18.5, \"flipper_length_mm\": 195.0, \"body_mass_g\": 4250.0, \"sex\": \"Male\", \"isAdelie_bool\": true, \"isAdelie_float\": 1.0, \"Pred\": 0.5290968345939175, \"Pred2\": 1.0, \"Pred3\": 0.5235343177570237}, {\"species\": \"Adelie\", \"island\": \"Torgersen\", \"bill_length_mm\": 40.9, \"bill_depth_mm\": 16.8, \"flipper_length_mm\": 191.0, \"body_mass_g\": 3700.0, \"sex\": \"Female\", \"isAdelie_bool\": true, \"isAdelie_float\": 1.0, \"Pred\": 0.6735066212192233, \"Pred2\": 1.0, \"Pred3\": 0.9060225910165011}, {\"species\": \"Adelie\", \"island\": \"Torgersen\", \"bill_length_mm\": 37.2, \"bill_depth_mm\": 19.4, \"flipper_length_mm\": 184.0, \"body_mass_g\": 3900.0, \"sex\": \"Male\", \"isAdelie_bool\": true, \"isAdelie_float\": 1.0, \"Pred\": 0.9547256793842922, \"Pred2\": 1.0, \"Pred3\": 0.9984917717110833}, {\"species\": \"Adelie\", \"island\": \"Torgersen\", \"bill_length_mm\": 36.2, \"bill_depth_mm\": 16.1, \"flipper_length_mm\": 187.0, \"body_mass_g\": 3550.0, \"sex\": \"Female\", \"isAdelie_bool\": true, \"isAdelie_float\": 1.0, \"Pred\": 1.0307308302397167, \"Pred2\": 1.0, \"Pred3\": 0.9995186163249092}, {\"species\": \"Adelie\", \"island\": \"Torgersen\", \"bill_length_mm\": 42.1, \"bill_depth_mm\": 19.1, \"flipper_length_mm\": 195.0, \"body_mass_g\": 4000.0, \"sex\": \"Male\", \"isAdelie_bool\": true, \"isAdelie_float\": 1.0, \"Pred\": 0.5823004401927139, \"Pred2\": 1.0, \"Pred3\": 0.70978597355023}, {\"species\": \"Adelie\", \"island\": \"Torgersen\", \"bill_length_mm\": 34.6, \"bill_depth_mm\": 17.2, \"flipper_length_mm\": 189.0, \"body_mass_g\": 3200.0, \"sex\": \"Female\", \"isAdelie_bool\": true, \"isAdelie_float\": 1.0, \"Pred\": 1.1523390716083952, \"Pred2\": 1.0, \"Pred3\": 0.9999226622579593}, {\"species\": \"Adelie\", \"island\": \"Torgersen\", \"bill_length_mm\": 42.9, \"bill_depth_mm\": 17.6, \"flipper_length_mm\": 196.0, \"body_mass_g\": 4700.0, \"sex\": \"Male\", \"isAdelie_bool\": true, \"isAdelie_float\": 1.0, \"Pred\": 0.5214963195083748, \"Pred2\": 0.0, \"Pred3\": 0.4949755353806743}, {\"species\": \"Adelie\", \"island\": \"Torgersen\", \"bill_length_mm\": 36.7, \"bill_depth_mm\": 18.8, \"flipper_length_mm\": 187.0, \"body_mass_g\": 3800.0, \"sex\": \"Female\", \"isAdelie_bool\": true, \"isAdelie_float\": 1.0, \"Pred\": 0.9927282548120044, \"Pred2\": 1.0, \"Pred3\": 0.9991478005137}, {\"species\": \"Adelie\", \"island\": \"Torgersen\", \"bill_length_mm\": 35.1, \"bill_depth_mm\": 19.4, \"flipper_length_mm\": 193.0, \"body_mass_g\": 4200.0, \"sex\": \"Male\", \"isAdelie_bool\": true, \"isAdelie_float\": 1.0, \"Pred\": 1.114336496180683, \"Pred2\": 1.0, \"Pred3\": 0.9998630453902388}, {\"species\": \"Adelie\", \"island\": \"Dream\", \"bill_length_mm\": 37.3, \"bill_depth_mm\": 17.8, \"flipper_length_mm\": 191.0, \"body_mass_g\": 3350.0, \"sex\": \"Female\", \"isAdelie_bool\": true, \"isAdelie_float\": 1.0, \"Pred\": 0.9471251642987504, \"Pred2\": 1.0, \"Pred3\": 0.9983094423591191}, {\"species\": \"Adelie\", \"island\": \"Dream\", \"bill_length_mm\": 41.3, \"bill_depth_mm\": 20.3, \"flipper_length_mm\": 194.0, \"body_mass_g\": 3550.0, \"sex\": \"Male\", \"isAdelie_bool\": true, \"isAdelie_float\": 1.0, \"Pred\": 0.6431045608770538, \"Pred2\": 1.0, \"Pred3\": 0.859215347048944}, {\"species\": \"Adelie\", \"island\": \"Dream\", \"bill_length_mm\": 36.3, \"bill_depth_mm\": 19.5, \"flipper_length_mm\": 190.0, \"body_mass_g\": 3800.0, \"sex\": \"Male\", \"isAdelie_bool\": true, \"isAdelie_float\": 1.0, \"Pred\": 1.0231303151541744, \"Pred2\": 1.0, \"Pred3\": 0.999460354879175}, {\"species\": \"Adelie\", \"island\": \"Dream\", \"bill_length_mm\": 36.9, \"bill_depth_mm\": 18.6, \"flipper_length_mm\": 189.0, \"body_mass_g\": 3500.0, \"sex\": \"Female\", \"isAdelie_bool\": true, \"isAdelie_float\": 1.0, \"Pred\": 0.9775272246409199, \"Pred2\": 1.0, \"Pred3\": 0.9989291450708773}, {\"species\": \"Adelie\", \"island\": \"Dream\", \"bill_length_mm\": 38.3, \"bill_depth_mm\": 19.2, \"flipper_length_mm\": 189.0, \"body_mass_g\": 3950.0, \"sex\": \"Male\", \"isAdelie_bool\": true, \"isAdelie_float\": 1.0, \"Pred\": 0.8711200134433263, \"Pred2\": 1.0, \"Pred3\": 0.9947169291540153}, {\"species\": \"Adelie\", \"island\": \"Dream\", \"bill_length_mm\": 38.9, \"bill_depth_mm\": 18.8, \"flipper_length_mm\": 190.0, \"body_mass_g\": 3600.0, \"sex\": \"Female\", \"isAdelie_bool\": true, \"isAdelie_float\": 1.0, \"Pred\": 0.8255169229300714, \"Pred2\": 1.0, \"Pred3\": 0.9895651885255436}, {\"species\": \"Adelie\", \"island\": \"Dream\", \"bill_length_mm\": 35.7, \"bill_depth_mm\": 18.0, \"flipper_length_mm\": 202.0, \"body_mass_g\": 3550.0, \"sex\": \"Female\", \"isAdelie_bool\": true, \"isAdelie_float\": 1.0, \"Pred\": 1.0687334056674285, \"Pred2\": 1.0, \"Pred3\": 0.9997281237194964}, {\"species\": \"Adelie\", \"island\": \"Dream\", \"bill_length_mm\": 41.1, \"bill_depth_mm\": 18.1, \"flipper_length_mm\": 205.0, \"body_mass_g\": 4300.0, \"sex\": \"Male\", \"isAdelie_bool\": true, \"isAdelie_float\": 1.0, \"Pred\": 0.6583055910481383, \"Pred2\": 1.0, \"Pred3\": 0.8846681504164191}, {\"species\": \"Adelie\", \"island\": \"Dream\", \"bill_length_mm\": 34.0, \"bill_depth_mm\": 17.1, \"flipper_length_mm\": 185.0, \"body_mass_g\": 3400.0, \"sex\": \"Female\", \"isAdelie_bool\": true, \"isAdelie_float\": 1.0, \"Pred\": 1.1979421621216497, \"Pred2\": 1.0, \"Pred3\": 0.9999610457464958}, {\"species\": \"Adelie\", \"island\": \"Dream\", \"bill_length_mm\": 39.6, \"bill_depth_mm\": 18.1, \"flipper_length_mm\": 186.0, \"body_mass_g\": 4450.0, \"sex\": \"Male\", \"isAdelie_bool\": true, \"isAdelie_float\": 1.0, \"Pred\": 0.7723133173312746, \"Pred2\": 1.0, \"Pred3\": 0.9770670434800949}, {\"species\": \"Adelie\", \"island\": \"Dream\", \"bill_length_mm\": 36.2, \"bill_depth_mm\": 17.3, \"flipper_length_mm\": 187.0, \"body_mass_g\": 3300.0, \"sex\": \"Female\", \"isAdelie_bool\": true, \"isAdelie_float\": 1.0, \"Pred\": 1.0307308302397167, \"Pred2\": 1.0, \"Pred3\": 0.9995186163249092}, {\"species\": \"Adelie\", \"island\": \"Dream\", \"bill_length_mm\": 40.8, \"bill_depth_mm\": 18.9, \"flipper_length_mm\": 208.0, \"body_mass_g\": 4300.0, \"sex\": \"Male\", \"isAdelie_bool\": true, \"isAdelie_float\": 1.0, \"Pred\": 0.6811071363047656, \"Pred2\": 1.0, \"Pred3\": 0.9153138727022034}, {\"species\": \"Adelie\", \"island\": \"Dream\", \"bill_length_mm\": 38.1, \"bill_depth_mm\": 18.6, \"flipper_length_mm\": 190.0, \"body_mass_g\": 3700.0, \"sex\": \"Female\", \"isAdelie_bool\": true, \"isAdelie_float\": 1.0, \"Pred\": 0.8863210436144109, \"Pred2\": 1.0, \"Pred3\": 0.9957920443553605}, {\"species\": \"Adelie\", \"island\": \"Dream\", \"bill_length_mm\": 40.3, \"bill_depth_mm\": 18.5, \"flipper_length_mm\": 196.0, \"body_mass_g\": 4350.0, \"sex\": \"Male\", \"isAdelie_bool\": true, \"isAdelie_float\": 1.0, \"Pred\": 0.7191097117324778, \"Pred2\": 1.0, \"Pred3\": 0.9503504895675794}, {\"species\": \"Adelie\", \"island\": \"Dream\", \"bill_length_mm\": 33.1, \"bill_depth_mm\": 16.1, \"flipper_length_mm\": 178.0, \"body_mass_g\": 2900.0, \"sex\": \"Female\", \"isAdelie_bool\": true, \"isAdelie_float\": 1.0, \"Pred\": 1.2663467978915315, \"Pred2\": 1.0, \"Pred3\": 0.9999860752999905}, {\"species\": \"Adelie\", \"island\": \"Dream\", \"bill_length_mm\": 43.2, \"bill_depth_mm\": 18.5, \"flipper_length_mm\": 192.0, \"body_mass_g\": 4100.0, \"sex\": \"Male\", \"isAdelie_bool\": true, \"isAdelie_float\": 1.0, \"Pred\": 0.49869477425174713, \"Pred2\": 0.0, \"Pred3\": 0.41022996722059907}, {\"species\": \"Adelie\", \"island\": \"Biscoe\", \"bill_length_mm\": 35.0, \"bill_depth_mm\": 17.9, \"flipper_length_mm\": 192.0, \"body_mass_g\": 3725.0, \"sex\": \"Female\", \"isAdelie_bool\": true, \"isAdelie_float\": 1.0, \"Pred\": 1.1219370112662257, \"Pred2\": 1.0, \"Pred3\": 0.9998778366686523}, {\"species\": \"Adelie\", \"island\": \"Biscoe\", \"bill_length_mm\": 41.0, \"bill_depth_mm\": 20.0, \"flipper_length_mm\": 203.0, \"body_mass_g\": 4725.0, \"sex\": \"Male\", \"isAdelie_bool\": true, \"isAdelie_float\": 1.0, \"Pred\": 0.6659061061336806, \"Pred2\": 1.0, \"Pred3\": 0.8958279392047047}, {\"species\": \"Adelie\", \"island\": \"Biscoe\", \"bill_length_mm\": 37.7, \"bill_depth_mm\": 16.0, \"flipper_length_mm\": 183.0, \"body_mass_g\": 3075.0, \"sex\": \"Female\", \"isAdelie_bool\": true, \"isAdelie_float\": 1.0, \"Pred\": 0.9167231039565804, \"Pred2\": 1.0, \"Pred3\": 0.9973320760876062}, {\"species\": \"Adelie\", \"island\": \"Biscoe\", \"bill_length_mm\": 37.8, \"bill_depth_mm\": 20.0, \"flipper_length_mm\": 190.0, \"body_mass_g\": 4250.0, \"sex\": \"Male\", \"isAdelie_bool\": true, \"isAdelie_float\": 1.0, \"Pred\": 0.9091225888710381, \"Pred2\": 1.0, \"Pred3\": 0.9970099712342856}, {\"species\": \"Adelie\", \"island\": \"Biscoe\", \"bill_length_mm\": 37.9, \"bill_depth_mm\": 18.6, \"flipper_length_mm\": 193.0, \"body_mass_g\": 2925.0, \"sex\": \"Female\", \"isAdelie_bool\": true, \"isAdelie_float\": 1.0, \"Pred\": 0.9015220737854959, \"Pred2\": 1.0, \"Pred3\": 0.9966491085491155}, {\"species\": \"Adelie\", \"island\": \"Biscoe\", \"bill_length_mm\": 39.7, \"bill_depth_mm\": 18.9, \"flipper_length_mm\": 184.0, \"body_mass_g\": 3550.0, \"sex\": \"Male\", \"isAdelie_bool\": true, \"isAdelie_float\": 1.0, \"Pred\": 0.7647128022457319, \"Pred2\": 1.0, \"Pred3\": 0.9743611895287353}, {\"species\": \"Adelie\", \"island\": \"Biscoe\", \"bill_length_mm\": 38.6, \"bill_depth_mm\": 17.2, \"flipper_length_mm\": 199.0, \"body_mass_g\": 3750.0, \"sex\": \"Female\", \"isAdelie_bool\": true, \"isAdelie_float\": 1.0, \"Pred\": 0.8483184681866986, \"Pred2\": 1.0, \"Pred3\": 0.9925719374173082}, {\"species\": \"Adelie\", \"island\": \"Biscoe\", \"bill_length_mm\": 38.2, \"bill_depth_mm\": 20.0, \"flipper_length_mm\": 190.0, \"body_mass_g\": 3900.0, \"sex\": \"Male\", \"isAdelie_bool\": true, \"isAdelie_float\": 1.0, \"Pred\": 0.8787205285288682, \"Pred2\": 1.0, \"Pred3\": 0.9952848868113564}, {\"species\": \"Adelie\", \"island\": \"Biscoe\", \"bill_length_mm\": 38.1, \"bill_depth_mm\": 17.0, \"flipper_length_mm\": 181.0, \"body_mass_g\": 3175.0, \"sex\": \"Female\", \"isAdelie_bool\": true, \"isAdelie_float\": 1.0, \"Pred\": 0.8863210436144109, \"Pred2\": 1.0, \"Pred3\": 0.9957920443553605}, {\"species\": \"Adelie\", \"island\": \"Biscoe\", \"bill_length_mm\": 43.2, \"bill_depth_mm\": 19.0, \"flipper_length_mm\": 197.0, \"body_mass_g\": 4775.0, \"sex\": \"Male\", \"isAdelie_bool\": true, \"isAdelie_float\": 1.0, \"Pred\": 0.49869477425174713, \"Pred2\": 0.0, \"Pred3\": 0.41022996722059907}, {\"species\": \"Adelie\", \"island\": \"Biscoe\", \"bill_length_mm\": 38.1, \"bill_depth_mm\": 16.5, \"flipper_length_mm\": 198.0, \"body_mass_g\": 3825.0, \"sex\": \"Female\", \"isAdelie_bool\": true, \"isAdelie_float\": 1.0, \"Pred\": 0.8863210436144109, \"Pred2\": 1.0, \"Pred3\": 0.9957920443553605}, {\"species\": \"Adelie\", \"island\": \"Biscoe\", \"bill_length_mm\": 45.6, \"bill_depth_mm\": 20.3, \"flipper_length_mm\": 191.0, \"body_mass_g\": 4600.0, \"sex\": \"Male\", \"isAdelie_bool\": true, \"isAdelie_float\": 1.0, \"Pred\": 0.31628241219872955, \"Pred2\": 0.0, \"Pred3\": 0.04284629509945916}, {\"species\": \"Adelie\", \"island\": \"Biscoe\", \"bill_length_mm\": 39.7, \"bill_depth_mm\": 17.7, \"flipper_length_mm\": 193.0, \"body_mass_g\": 3200.0, \"sex\": \"Female\", \"isAdelie_bool\": true, \"isAdelie_float\": 1.0, \"Pred\": 0.7647128022457319, \"Pred2\": 1.0, \"Pred3\": 0.9743611895287353}, {\"species\": \"Adelie\", \"island\": \"Biscoe\", \"bill_length_mm\": 42.2, \"bill_depth_mm\": 19.5, \"flipper_length_mm\": 197.0, \"body_mass_g\": 4275.0, \"sex\": \"Male\", \"isAdelie_bool\": true, \"isAdelie_float\": 1.0, \"Pred\": 0.5746999251071716, \"Pred2\": 1.0, \"Pred3\": 0.6856886029479479}, {\"species\": \"Adelie\", \"island\": \"Biscoe\", \"bill_length_mm\": 39.6, \"bill_depth_mm\": 20.7, \"flipper_length_mm\": 191.0, \"body_mass_g\": 3900.0, \"sex\": \"Female\", \"isAdelie_bool\": true, \"isAdelie_float\": 1.0, \"Pred\": 0.7723133173312746, \"Pred2\": 1.0, \"Pred3\": 0.9770670434800949}, {\"species\": \"Adelie\", \"island\": \"Biscoe\", \"bill_length_mm\": 42.7, \"bill_depth_mm\": 18.3, \"flipper_length_mm\": 196.0, \"body_mass_g\": 4075.0, \"sex\": \"Male\", \"isAdelie_bool\": true, \"isAdelie_float\": 1.0, \"Pred\": 0.5366973496794594, \"Pred2\": 1.0, \"Pred3\": 0.551940026586306}, {\"species\": \"Adelie\", \"island\": \"Torgersen\", \"bill_length_mm\": 38.6, \"bill_depth_mm\": 17.0, \"flipper_length_mm\": 188.0, \"body_mass_g\": 2900.0, \"sex\": \"Female\", \"isAdelie_bool\": true, \"isAdelie_float\": 1.0, \"Pred\": 0.8483184681866986, \"Pred2\": 1.0, \"Pred3\": 0.9925719374173082}, {\"species\": \"Adelie\", \"island\": \"Torgersen\", \"bill_length_mm\": 37.3, \"bill_depth_mm\": 20.5, \"flipper_length_mm\": 199.0, \"body_mass_g\": 3775.0, \"sex\": \"Male\", \"isAdelie_bool\": true, \"isAdelie_float\": 1.0, \"Pred\": 0.9471251642987504, \"Pred2\": 1.0, \"Pred3\": 0.9983094423591191}, {\"species\": \"Adelie\", \"island\": \"Torgersen\", \"bill_length_mm\": 35.7, \"bill_depth_mm\": 17.0, \"flipper_length_mm\": 189.0, \"body_mass_g\": 3350.0, \"sex\": \"Female\", \"isAdelie_bool\": true, \"isAdelie_float\": 1.0, \"Pred\": 1.0687334056674285, \"Pred2\": 1.0, \"Pred3\": 0.9997281237194964}, {\"species\": \"Adelie\", \"island\": \"Torgersen\", \"bill_length_mm\": 41.1, \"bill_depth_mm\": 18.6, \"flipper_length_mm\": 189.0, \"body_mass_g\": 3325.0, \"sex\": \"Male\", \"isAdelie_bool\": true, \"isAdelie_float\": 1.0, \"Pred\": 0.6583055910481383, \"Pred2\": 1.0, \"Pred3\": 0.8846681504164191}, {\"species\": \"Adelie\", \"island\": \"Torgersen\", \"bill_length_mm\": 36.2, \"bill_depth_mm\": 17.2, \"flipper_length_mm\": 187.0, \"body_mass_g\": 3150.0, \"sex\": \"Female\", \"isAdelie_bool\": true, \"isAdelie_float\": 1.0, \"Pred\": 1.0307308302397167, \"Pred2\": 1.0, \"Pred3\": 0.9995186163249092}, {\"species\": \"Adelie\", \"island\": \"Torgersen\", \"bill_length_mm\": 37.7, \"bill_depth_mm\": 19.8, \"flipper_length_mm\": 198.0, \"body_mass_g\": 3500.0, \"sex\": \"Male\", \"isAdelie_bool\": true, \"isAdelie_float\": 1.0, \"Pred\": 0.9167231039565804, \"Pred2\": 1.0, \"Pred3\": 0.9973320760876062}, {\"species\": \"Adelie\", \"island\": \"Torgersen\", \"bill_length_mm\": 40.2, \"bill_depth_mm\": 17.0, \"flipper_length_mm\": 176.0, \"body_mass_g\": 3450.0, \"sex\": \"Female\", \"isAdelie_bool\": true, \"isAdelie_float\": 1.0, \"Pred\": 0.7267102268180197, \"Pred2\": 1.0, \"Pred3\": 0.9554745733234877}, {\"species\": \"Adelie\", \"island\": \"Torgersen\", \"bill_length_mm\": 41.4, \"bill_depth_mm\": 18.5, \"flipper_length_mm\": 202.0, \"body_mass_g\": 3875.0, \"sex\": \"Male\", \"isAdelie_bool\": true, \"isAdelie_float\": 1.0, \"Pred\": 0.6355040457915111, \"Pred2\": 1.0, \"Pred3\": 0.8448127731129318}, {\"species\": \"Adelie\", \"island\": \"Torgersen\", \"bill_length_mm\": 35.2, \"bill_depth_mm\": 15.9, \"flipper_length_mm\": 186.0, \"body_mass_g\": 3050.0, \"sex\": \"Female\", \"isAdelie_bool\": true, \"isAdelie_float\": 1.0, \"Pred\": 1.1067359810951407, \"Pred2\": 1.0, \"Pred3\": 0.9998464634900441}, {\"species\": \"Adelie\", \"island\": \"Torgersen\", \"bill_length_mm\": 40.6, \"bill_depth_mm\": 19.0, \"flipper_length_mm\": 199.0, \"body_mass_g\": 4000.0, \"sex\": \"Male\", \"isAdelie_bool\": true, \"isAdelie_float\": 1.0, \"Pred\": 0.6963081664758501, \"Pred2\": 1.0, \"Pred3\": 0.9314338416802556}, {\"species\": \"Adelie\", \"island\": \"Torgersen\", \"bill_length_mm\": 38.8, \"bill_depth_mm\": 17.6, \"flipper_length_mm\": 191.0, \"body_mass_g\": 3275.0, \"sex\": \"Female\", \"isAdelie_bool\": true, \"isAdelie_float\": 1.0, \"Pred\": 0.8331174380156141, \"Pred2\": 1.0, \"Pred3\": 0.9906817969635933}, {\"species\": \"Adelie\", \"island\": \"Torgersen\", \"bill_length_mm\": 41.5, \"bill_depth_mm\": 18.3, \"flipper_length_mm\": 195.0, \"body_mass_g\": 4300.0, \"sex\": \"Male\", \"isAdelie_bool\": true, \"isAdelie_float\": 1.0, \"Pred\": 0.6279035307059688, \"Pred2\": 1.0, \"Pred3\": 0.8292296281494548}, {\"species\": \"Adelie\", \"island\": \"Torgersen\", \"bill_length_mm\": 39.0, \"bill_depth_mm\": 17.1, \"flipper_length_mm\": 191.0, \"body_mass_g\": 3050.0, \"sex\": \"Female\", \"isAdelie_bool\": true, \"isAdelie_float\": 1.0, \"Pred\": 0.8179164078445291, \"Pred2\": 1.0, \"Pred3\": 0.9883163539444552}, {\"species\": \"Adelie\", \"island\": \"Torgersen\", \"bill_length_mm\": 44.1, \"bill_depth_mm\": 18.0, \"flipper_length_mm\": 210.0, \"body_mass_g\": 4000.0, \"sex\": \"Male\", \"isAdelie_bool\": true, \"isAdelie_float\": 1.0, \"Pred\": 0.4302901384818658, \"Pred2\": 0.0, \"Pred3\": 0.1991263659602371}, {\"species\": \"Adelie\", \"island\": \"Torgersen\", \"bill_length_mm\": 38.5, \"bill_depth_mm\": 17.9, \"flipper_length_mm\": 190.0, \"body_mass_g\": 3325.0, \"sex\": \"Female\", \"isAdelie_bool\": true, \"isAdelie_float\": 1.0, \"Pred\": 0.8559189832722409, \"Pred2\": 1.0, \"Pred3\": 0.9933689556430207}, {\"species\": \"Adelie\", \"island\": \"Torgersen\", \"bill_length_mm\": 43.1, \"bill_depth_mm\": 19.2, \"flipper_length_mm\": 197.0, \"body_mass_g\": 3500.0, \"sex\": \"Male\", \"isAdelie_bool\": true, \"isAdelie_float\": 1.0, \"Pred\": 0.5062952893372898, \"Pred2\": 0.0, \"Pred3\": 0.43814119253583245}, {\"species\": \"Adelie\", \"island\": \"Dream\", \"bill_length_mm\": 36.8, \"bill_depth_mm\": 18.5, \"flipper_length_mm\": 193.0, \"body_mass_g\": 3500.0, \"sex\": \"Female\", \"isAdelie_bool\": true, \"isAdelie_float\": 1.0, \"Pred\": 0.9851277397264626, \"Pred2\": 1.0, \"Pred3\": 0.99904470244816}, {\"species\": \"Adelie\", \"island\": \"Dream\", \"bill_length_mm\": 37.5, \"bill_depth_mm\": 18.5, \"flipper_length_mm\": 199.0, \"body_mass_g\": 4475.0, \"sex\": \"Male\", \"isAdelie_bool\": true, \"isAdelie_float\": 1.0, \"Pred\": 0.9319241341276654, \"Pred2\": 1.0, \"Pred3\": 0.9978761400920438}, {\"species\": \"Adelie\", \"island\": \"Dream\", \"bill_length_mm\": 38.1, \"bill_depth_mm\": 17.6, \"flipper_length_mm\": 187.0, \"body_mass_g\": 3425.0, \"sex\": \"Female\", \"isAdelie_bool\": true, \"isAdelie_float\": 1.0, \"Pred\": 0.8863210436144109, \"Pred2\": 1.0, \"Pred3\": 0.9957920443553605}, {\"species\": \"Adelie\", \"island\": \"Dream\", \"bill_length_mm\": 41.1, \"bill_depth_mm\": 17.5, \"flipper_length_mm\": 190.0, \"body_mass_g\": 3900.0, \"sex\": \"Male\", \"isAdelie_bool\": true, \"isAdelie_float\": 1.0, \"Pred\": 0.6583055910481383, \"Pred2\": 1.0, \"Pred3\": 0.8846681504164191}, {\"species\": \"Adelie\", \"island\": \"Dream\", \"bill_length_mm\": 35.6, \"bill_depth_mm\": 17.5, \"flipper_length_mm\": 191.0, \"body_mass_g\": 3175.0, \"sex\": \"Female\", \"isAdelie_bool\": true, \"isAdelie_float\": 1.0, \"Pred\": 1.0763339207529712, \"Pred2\": 1.0, \"Pred3\": 0.9997574831818584}, {\"species\": \"Adelie\", \"island\": \"Dream\", \"bill_length_mm\": 40.2, \"bill_depth_mm\": 20.1, \"flipper_length_mm\": 200.0, \"body_mass_g\": 3975.0, \"sex\": \"Male\", \"isAdelie_bool\": true, \"isAdelie_float\": 1.0, \"Pred\": 0.7267102268180197, \"Pred2\": 1.0, \"Pred3\": 0.9554745733234877}, {\"species\": \"Adelie\", \"island\": \"Dream\", \"bill_length_mm\": 37.0, \"bill_depth_mm\": 16.5, \"flipper_length_mm\": 185.0, \"body_mass_g\": 3400.0, \"sex\": \"Female\", \"isAdelie_bool\": true, \"isAdelie_float\": 1.0, \"Pred\": 0.9699267095553772, \"Pred2\": 1.0, \"Pred3\": 0.9987996261138858}, {\"species\": \"Adelie\", \"island\": \"Dream\", \"bill_length_mm\": 39.7, \"bill_depth_mm\": 17.9, \"flipper_length_mm\": 193.0, \"body_mass_g\": 4250.0, \"sex\": \"Male\", \"isAdelie_bool\": true, \"isAdelie_float\": 1.0, \"Pred\": 0.7647128022457319, \"Pred2\": 1.0, \"Pred3\": 0.9743611895287353}, {\"species\": \"Adelie\", \"island\": \"Dream\", \"bill_length_mm\": 40.2, \"bill_depth_mm\": 17.1, \"flipper_length_mm\": 193.0, \"body_mass_g\": 3400.0, \"sex\": \"Female\", \"isAdelie_bool\": true, \"isAdelie_float\": 1.0, \"Pred\": 0.7267102268180197, \"Pred2\": 1.0, \"Pred3\": 0.9554745733234877}, {\"species\": \"Adelie\", \"island\": \"Dream\", \"bill_length_mm\": 40.6, \"bill_depth_mm\": 17.2, \"flipper_length_mm\": 187.0, \"body_mass_g\": 3475.0, \"sex\": \"Male\", \"isAdelie_bool\": true, \"isAdelie_float\": 1.0, \"Pred\": 0.6963081664758501, \"Pred2\": 1.0, \"Pred3\": 0.9314338416802556}, {\"species\": \"Adelie\", \"island\": \"Dream\", \"bill_length_mm\": 32.1, \"bill_depth_mm\": 15.5, \"flipper_length_mm\": 188.0, \"body_mass_g\": 3050.0, \"sex\": \"Female\", \"isAdelie_bool\": true, \"isAdelie_float\": 1.0, \"Pred\": 1.3423519487469555, \"Pred2\": 1.0, \"Pred3\": 0.9999955601546219}, {\"species\": \"Adelie\", \"island\": \"Dream\", \"bill_length_mm\": 40.7, \"bill_depth_mm\": 17.0, \"flipper_length_mm\": 190.0, \"body_mass_g\": 3725.0, \"sex\": \"Male\", \"isAdelie_bool\": true, \"isAdelie_float\": 1.0, \"Pred\": 0.6887076513903079, \"Pred2\": 1.0, \"Pred3\": 0.9237638462455946}, {\"species\": \"Adelie\", \"island\": \"Dream\", \"bill_length_mm\": 37.3, \"bill_depth_mm\": 16.8, \"flipper_length_mm\": 192.0, \"body_mass_g\": 3000.0, \"sex\": \"Female\", \"isAdelie_bool\": true, \"isAdelie_float\": 1.0, \"Pred\": 0.9471251642987504, \"Pred2\": 1.0, \"Pred3\": 0.9983094423591191}, {\"species\": \"Adelie\", \"island\": \"Dream\", \"bill_length_mm\": 39.0, \"bill_depth_mm\": 18.7, \"flipper_length_mm\": 185.0, \"body_mass_g\": 3650.0, \"sex\": \"Male\", \"isAdelie_bool\": true, \"isAdelie_float\": 1.0, \"Pred\": 0.8179164078445291, \"Pred2\": 1.0, \"Pred3\": 0.9883163539444552}, {\"species\": \"Adelie\", \"island\": \"Dream\", \"bill_length_mm\": 39.2, \"bill_depth_mm\": 18.6, \"flipper_length_mm\": 190.0, \"body_mass_g\": 4250.0, \"sex\": \"Male\", \"isAdelie_bool\": true, \"isAdelie_float\": 1.0, \"Pred\": 0.8027153776734441, \"Pred2\": 1.0, \"Pred3\": 0.9853593128677397}, {\"species\": \"Adelie\", \"island\": \"Dream\", \"bill_length_mm\": 36.6, \"bill_depth_mm\": 18.4, \"flipper_length_mm\": 184.0, \"body_mass_g\": 3475.0, \"sex\": \"Female\", \"isAdelie_bool\": true, \"isAdelie_float\": 1.0, \"Pred\": 1.0003287698975472, \"Pred2\": 1.0, \"Pred3\": 0.9992397804487299}, {\"species\": \"Adelie\", \"island\": \"Dream\", \"bill_length_mm\": 36.0, \"bill_depth_mm\": 17.8, \"flipper_length_mm\": 195.0, \"body_mass_g\": 3450.0, \"sex\": \"Female\", \"isAdelie_bool\": true, \"isAdelie_float\": 1.0, \"Pred\": 1.0459318604108017, \"Pred2\": 1.0, \"Pred3\": 0.9996169551211195}, {\"species\": \"Adelie\", \"island\": \"Dream\", \"bill_length_mm\": 37.8, \"bill_depth_mm\": 18.1, \"flipper_length_mm\": 193.0, \"body_mass_g\": 3750.0, \"sex\": \"Male\", \"isAdelie_bool\": true, \"isAdelie_float\": 1.0, \"Pred\": 0.9091225888710381, \"Pred2\": 1.0, \"Pred3\": 0.9970099712342856}, {\"species\": \"Adelie\", \"island\": \"Dream\", \"bill_length_mm\": 36.0, \"bill_depth_mm\": 17.1, \"flipper_length_mm\": 187.0, \"body_mass_g\": 3700.0, \"sex\": \"Female\", \"isAdelie_bool\": true, \"isAdelie_float\": 1.0, \"Pred\": 1.0459318604108017, \"Pred2\": 1.0, \"Pred3\": 0.9996169551211195}, {\"species\": \"Adelie\", \"island\": \"Dream\", \"bill_length_mm\": 41.5, \"bill_depth_mm\": 18.5, \"flipper_length_mm\": 201.0, \"body_mass_g\": 4000.0, \"sex\": \"Male\", \"isAdelie_bool\": true, \"isAdelie_float\": 1.0, \"Pred\": 0.6279035307059688, \"Pred2\": 1.0, \"Pred3\": 0.8292296281494548}, {\"species\": \"Chinstrap\", \"island\": \"Dream\", \"bill_length_mm\": 46.5, \"bill_depth_mm\": 17.9, \"flipper_length_mm\": 192.0, \"body_mass_g\": 3500.0, \"sex\": \"Female\", \"isAdelie_bool\": false, \"isAdelie_float\": 0.0, \"Pred\": 0.24787777642884778, \"Pred2\": 0.0, \"Pred3\": 0.01574916284796909}, {\"species\": \"Chinstrap\", \"island\": \"Dream\", \"bill_length_mm\": 50.0, \"bill_depth_mm\": 19.5, \"flipper_length_mm\": 196.0, \"body_mass_g\": 3900.0, \"sex\": \"Male\", \"isAdelie_bool\": false, \"isAdelie_float\": 0.0, \"Pred\": -0.01814025156513699, \"Pred2\": 0.0, \"Pred3\": 0.0002927838272771071}, {\"species\": \"Chinstrap\", \"island\": \"Dream\", \"bill_length_mm\": 51.3, \"bill_depth_mm\": 19.2, \"flipper_length_mm\": 193.0, \"body_mass_g\": 3650.0, \"sex\": \"Male\", \"isAdelie_bool\": false, \"isAdelie_float\": 0.0, \"Pred\": -0.11694694767718783, \"Pred2\": 0.0, \"Pred3\": 6.626690979576457e-05}, {\"species\": \"Chinstrap\", \"island\": \"Dream\", \"bill_length_mm\": 45.4, \"bill_depth_mm\": 18.7, \"flipper_length_mm\": 188.0, \"body_mass_g\": 3525.0, \"sex\": \"Female\", \"isAdelie_bool\": false, \"isAdelie_float\": 0.0, \"Pred\": 0.33148344236981453, \"Pred2\": 0.0, \"Pred3\": 0.05326529210998473}, {\"species\": \"Chinstrap\", \"island\": \"Dream\", \"bill_length_mm\": 52.7, \"bill_depth_mm\": 19.8, \"flipper_length_mm\": 197.0, \"body_mass_g\": 3725.0, \"sex\": \"Male\", \"isAdelie_bool\": false, \"isAdelie_float\": 0.0, \"Pred\": -0.22335415887478272, \"Pred2\": 0.0, \"Pred3\": 1.3376075769084781e-05}, {\"species\": \"Chinstrap\", \"island\": \"Dream\", \"bill_length_mm\": 45.2, \"bill_depth_mm\": 17.8, \"flipper_length_mm\": 198.0, \"body_mass_g\": 3950.0, \"sex\": \"Female\", \"isAdelie_bool\": false, \"isAdelie_float\": 0.0, \"Pred\": 0.34668447254089907, \"Pred2\": 0.0, \"Pred3\": 0.06604307485120653}, {\"species\": \"Chinstrap\", \"island\": \"Dream\", \"bill_length_mm\": 46.1, \"bill_depth_mm\": 18.2, \"flipper_length_mm\": 178.0, \"body_mass_g\": 3250.0, \"sex\": \"Female\", \"isAdelie_bool\": false, \"isAdelie_float\": 0.0, \"Pred\": 0.2782798367710173, \"Pred2\": 0.0, \"Pred3\": 0.02465354846806967}, {\"species\": \"Chinstrap\", \"island\": \"Dream\", \"bill_length_mm\": 51.3, \"bill_depth_mm\": 18.2, \"flipper_length_mm\": 197.0, \"body_mass_g\": 3750.0, \"sex\": \"Male\", \"isAdelie_bool\": false, \"isAdelie_float\": 0.0, \"Pred\": -0.11694694767718783, \"Pred2\": 0.0, \"Pred3\": 6.626690979576457e-05}, {\"species\": \"Chinstrap\", \"island\": \"Dream\", \"bill_length_mm\": 46.0, \"bill_depth_mm\": 18.9, \"flipper_length_mm\": 195.0, \"body_mass_g\": 4150.0, \"sex\": \"Female\", \"isAdelie_bool\": false, \"isAdelie_float\": 0.0, \"Pred\": 0.28588035185656, \"Pred2\": 0.0, \"Pred3\": 0.027556688993271117}, {\"species\": \"Chinstrap\", \"island\": \"Dream\", \"bill_length_mm\": 51.3, \"bill_depth_mm\": 19.9, \"flipper_length_mm\": 198.0, \"body_mass_g\": 3700.0, \"sex\": \"Male\", \"isAdelie_bool\": false, \"isAdelie_float\": 0.0, \"Pred\": -0.11694694767718783, \"Pred2\": 0.0, \"Pred3\": 6.626690979576457e-05}, {\"species\": \"Chinstrap\", \"island\": \"Dream\", \"bill_length_mm\": 46.6, \"bill_depth_mm\": 17.8, \"flipper_length_mm\": 193.0, \"body_mass_g\": 3800.0, \"sex\": \"Female\", \"isAdelie_bool\": false, \"isAdelie_float\": 0.0, \"Pred\": 0.24027726134330507, \"Pred2\": 0.0, \"Pred3\": 0.014071963033594028}, {\"species\": \"Chinstrap\", \"island\": \"Dream\", \"bill_length_mm\": 51.7, \"bill_depth_mm\": 20.3, \"flipper_length_mm\": 194.0, \"body_mass_g\": 3775.0, \"sex\": \"Male\", \"isAdelie_bool\": false, \"isAdelie_float\": 0.0, \"Pred\": -0.14734900801935824, \"Pred2\": 0.0, \"Pred3\": 4.195062458732313e-05}, {\"species\": \"Chinstrap\", \"island\": \"Dream\", \"bill_length_mm\": 47.0, \"bill_depth_mm\": 17.3, \"flipper_length_mm\": 185.0, \"body_mass_g\": 3700.0, \"sex\": \"Female\", \"isAdelie_bool\": false, \"isAdelie_float\": 0.0, \"Pred\": 0.20987520100113555, \"Pred2\": 0.0, \"Pred3\": 0.008954354375333755}, {\"species\": \"Chinstrap\", \"island\": \"Dream\", \"bill_length_mm\": 52.0, \"bill_depth_mm\": 18.1, \"flipper_length_mm\": 201.0, \"body_mass_g\": 4050.0, \"sex\": \"Male\", \"isAdelie_bool\": false, \"isAdelie_float\": 0.0, \"Pred\": -0.17015055327598505, \"Pred2\": 0.0, \"Pred3\": 2.977262202580612e-05}, {\"species\": \"Chinstrap\", \"island\": \"Dream\", \"bill_length_mm\": 45.9, \"bill_depth_mm\": 17.1, \"flipper_length_mm\": 190.0, \"body_mass_g\": 3575.0, \"sex\": \"Female\", \"isAdelie_bool\": false, \"isAdelie_float\": 0.0, \"Pred\": 0.2934808669421023, \"Pred2\": 0.0, \"Pred3\": 0.03079090366921134}, {\"species\": \"Chinstrap\", \"island\": \"Dream\", \"bill_length_mm\": 50.5, \"bill_depth_mm\": 19.6, \"flipper_length_mm\": 201.0, \"body_mass_g\": 4050.0, \"sex\": \"Male\", \"isAdelie_bool\": false, \"isAdelie_float\": 0.0, \"Pred\": -0.05614282699284878, \"Pred2\": 0.0, \"Pred3\": 0.0001653451199774668}, {\"species\": \"Chinstrap\", \"island\": \"Dream\", \"bill_length_mm\": 50.3, \"bill_depth_mm\": 20.0, \"flipper_length_mm\": 197.0, \"body_mass_g\": 3300.0, \"sex\": \"Male\", \"isAdelie_bool\": false, \"isAdelie_float\": 0.0, \"Pred\": -0.0409417968217638, \"Pred2\": 0.0, \"Pred3\": 0.00020780565510473248}, {\"species\": \"Chinstrap\", \"island\": \"Dream\", \"bill_length_mm\": 58.0, \"bill_depth_mm\": 17.8, \"flipper_length_mm\": 181.0, \"body_mass_g\": 3700.0, \"sex\": \"Female\", \"isAdelie_bool\": false, \"isAdelie_float\": 0.0, \"Pred\": -0.6261814584085301, \"Pred2\": 0.0, \"Pred3\": 3.1282198925990816e-08}, {\"species\": \"Chinstrap\", \"island\": \"Dream\", \"bill_length_mm\": 46.4, \"bill_depth_mm\": 18.6, \"flipper_length_mm\": 190.0, \"body_mass_g\": 3450.0, \"sex\": \"Female\", \"isAdelie_bool\": false, \"isAdelie_float\": 0.0, \"Pred\": 0.2554782915143905, \"Pred2\": 0.0, \"Pred3\": 0.017622690570218605}, {\"species\": \"Chinstrap\", \"island\": \"Dream\", \"bill_length_mm\": 49.2, \"bill_depth_mm\": 18.2, \"flipper_length_mm\": 195.0, \"body_mass_g\": 4400.0, \"sex\": \"Male\", \"isAdelie_bool\": false, \"isAdelie_float\": 0.0, \"Pred\": 0.0426638691192025, \"Pred2\": 0.0, \"Pred3\": 0.000730288862396197}, {\"species\": \"Chinstrap\", \"island\": \"Dream\", \"bill_length_mm\": 42.4, \"bill_depth_mm\": 17.3, \"flipper_length_mm\": 181.0, \"body_mass_g\": 3600.0, \"sex\": \"Female\", \"isAdelie_bool\": false, \"isAdelie_float\": 0.0, \"Pred\": 0.5594988949360871, \"Pred2\": 1.0, \"Pred3\": 0.6344669626804788}, {\"species\": \"Chinstrap\", \"island\": \"Dream\", \"bill_length_mm\": 48.5, \"bill_depth_mm\": 17.5, \"flipper_length_mm\": 191.0, \"body_mass_g\": 3400.0, \"sex\": \"Male\", \"isAdelie_bool\": false, \"isAdelie_float\": 0.0, \"Pred\": 0.09586747471799928, \"Pred2\": 0.0, \"Pred3\": 0.0016240580391346248}, {\"species\": \"Chinstrap\", \"island\": \"Dream\", \"bill_length_mm\": 43.2, \"bill_depth_mm\": 16.6, \"flipper_length_mm\": 187.0, \"body_mass_g\": 2900.0, \"sex\": \"Female\", \"isAdelie_bool\": false, \"isAdelie_float\": 0.0, \"Pred\": 0.49869477425174713, \"Pred2\": 0.0, \"Pred3\": 0.41022996722059907}, {\"species\": \"Chinstrap\", \"island\": \"Dream\", \"bill_length_mm\": 50.6, \"bill_depth_mm\": 19.4, \"flipper_length_mm\": 193.0, \"body_mass_g\": 3800.0, \"sex\": \"Male\", \"isAdelie_bool\": false, \"isAdelie_float\": 0.0, \"Pred\": -0.0637433420783915, \"Pred2\": 0.0, \"Pred3\": 0.00014748808132269376}, {\"species\": \"Chinstrap\", \"island\": \"Dream\", \"bill_length_mm\": 46.7, \"bill_depth_mm\": 17.9, \"flipper_length_mm\": 195.0, \"body_mass_g\": 3300.0, \"sex\": \"Female\", \"isAdelie_bool\": false, \"isAdelie_float\": 0.0, \"Pred\": 0.2326767462577628, \"Pred2\": 0.0, \"Pred3\": 0.012571094553401291}, {\"species\": \"Chinstrap\", \"island\": \"Dream\", \"bill_length_mm\": 52.0, \"bill_depth_mm\": 19.0, \"flipper_length_mm\": 197.0, \"body_mass_g\": 4150.0, \"sex\": \"Male\", \"isAdelie_bool\": false, \"isAdelie_float\": 0.0, \"Pred\": -0.17015055327598505, \"Pred2\": 0.0, \"Pred3\": 2.977262202580612e-05}, {\"species\": \"Chinstrap\", \"island\": \"Dream\", \"bill_length_mm\": 50.5, \"bill_depth_mm\": 18.4, \"flipper_length_mm\": 200.0, \"body_mass_g\": 3400.0, \"sex\": \"Female\", \"isAdelie_bool\": false, \"isAdelie_float\": 0.0, \"Pred\": -0.05614282699284878, \"Pred2\": 0.0, \"Pred3\": 0.0001653451199774668}, {\"species\": \"Chinstrap\", \"island\": \"Dream\", \"bill_length_mm\": 49.5, \"bill_depth_mm\": 19.0, \"flipper_length_mm\": 200.0, \"body_mass_g\": 3800.0, \"sex\": \"Male\", \"isAdelie_bool\": false, \"isAdelie_float\": 0.0, \"Pred\": 0.01986232386257525, \"Pred2\": 0.0, \"Pred3\": 0.0005183941871964155}, {\"species\": \"Chinstrap\", \"island\": \"Dream\", \"bill_length_mm\": 46.4, \"bill_depth_mm\": 17.8, \"flipper_length_mm\": 191.0, \"body_mass_g\": 3700.0, \"sex\": \"Female\", \"isAdelie_bool\": false, \"isAdelie_float\": 0.0, \"Pred\": 0.2554782915143905, \"Pred2\": 0.0, \"Pred3\": 0.017622690570218605}, {\"species\": \"Chinstrap\", \"island\": \"Dream\", \"bill_length_mm\": 52.8, \"bill_depth_mm\": 20.0, \"flipper_length_mm\": 205.0, \"body_mass_g\": 4550.0, \"sex\": \"Male\", \"isAdelie_bool\": false, \"isAdelie_float\": 0.0, \"Pred\": -0.2309546739603241, \"Pred2\": 0.0, \"Pred3\": 1.193128268676989e-05}, {\"species\": \"Chinstrap\", \"island\": \"Dream\", \"bill_length_mm\": 40.9, \"bill_depth_mm\": 16.6, \"flipper_length_mm\": 187.0, \"body_mass_g\": 3200.0, \"sex\": \"Female\", \"isAdelie_bool\": false, \"isAdelie_float\": 0.0, \"Pred\": 0.6735066212192233, \"Pred2\": 1.0, \"Pred3\": 0.9060225910165011}, {\"species\": \"Chinstrap\", \"island\": \"Dream\", \"bill_length_mm\": 54.2, \"bill_depth_mm\": 20.8, \"flipper_length_mm\": 201.0, \"body_mass_g\": 4300.0, \"sex\": \"Male\", \"isAdelie_bool\": false, \"isAdelie_float\": 0.0, \"Pred\": -0.33736188515791854, \"Pred2\": 0.0, \"Pred3\": 2.4082429726804204e-06}, {\"species\": \"Chinstrap\", \"island\": \"Dream\", \"bill_length_mm\": 42.5, \"bill_depth_mm\": 16.7, \"flipper_length_mm\": 187.0, \"body_mass_g\": 3350.0, \"sex\": \"Female\", \"isAdelie_bool\": false, \"isAdelie_float\": 0.0, \"Pred\": 0.5518983798505444, \"Pred2\": 1.0, \"Pred3\": 0.6075733184170551}, {\"species\": \"Chinstrap\", \"island\": \"Dream\", \"bill_length_mm\": 51.0, \"bill_depth_mm\": 18.8, \"flipper_length_mm\": 203.0, \"body_mass_g\": 4100.0, \"sex\": \"Male\", \"isAdelie_bool\": false, \"isAdelie_float\": 0.0, \"Pred\": -0.09414540242056102, \"Pred2\": 0.0, \"Pred3\": 9.337090818393463e-05}, {\"species\": \"Chinstrap\", \"island\": \"Dream\", \"bill_length_mm\": 49.7, \"bill_depth_mm\": 18.6, \"flipper_length_mm\": 195.0, \"body_mass_g\": 3600.0, \"sex\": \"Male\", \"isAdelie_bool\": false, \"isAdelie_float\": 0.0, \"Pred\": 0.004661293691490265, \"Pred2\": 0.0, \"Pred3\": 0.0004124978701183858}, {\"species\": \"Chinstrap\", \"island\": \"Dream\", \"bill_length_mm\": 47.5, \"bill_depth_mm\": 16.8, \"flipper_length_mm\": 199.0, \"body_mass_g\": 3900.0, \"sex\": \"Female\", \"isAdelie_bool\": false, \"isAdelie_float\": 0.0, \"Pred\": 0.17187262557342375, \"Pred2\": 0.0, \"Pred3\": 0.005075975038495357}, {\"species\": \"Chinstrap\", \"island\": \"Dream\", \"bill_length_mm\": 47.6, \"bill_depth_mm\": 18.3, \"flipper_length_mm\": 195.0, \"body_mass_g\": 3850.0, \"sex\": \"Female\", \"isAdelie_bool\": false, \"isAdelie_float\": 0.0, \"Pred\": 0.16427211048788104, \"Pred2\": 0.0, \"Pred3\": 0.004530179865025949}, {\"species\": \"Chinstrap\", \"island\": \"Dream\", \"bill_length_mm\": 52.0, \"bill_depth_mm\": 20.7, \"flipper_length_mm\": 210.0, \"body_mass_g\": 4800.0, \"sex\": \"Male\", \"isAdelie_bool\": false, \"isAdelie_float\": 0.0, \"Pred\": -0.17015055327598505, \"Pred2\": 0.0, \"Pred3\": 2.977262202580612e-05}, {\"species\": \"Chinstrap\", \"island\": \"Dream\", \"bill_length_mm\": 46.9, \"bill_depth_mm\": 16.6, \"flipper_length_mm\": 192.0, \"body_mass_g\": 2700.0, \"sex\": \"Female\", \"isAdelie_bool\": false, \"isAdelie_float\": 0.0, \"Pred\": 0.21747571608667826, \"Pred2\": 0.0, \"Pred3\": 0.010027803837059656}, {\"species\": \"Chinstrap\", \"island\": \"Dream\", \"bill_length_mm\": 53.5, \"bill_depth_mm\": 19.9, \"flipper_length_mm\": 205.0, \"body_mass_g\": 4500.0, \"sex\": \"Male\", \"isAdelie_bool\": false, \"isAdelie_float\": 0.0, \"Pred\": -0.28415827955912176, \"Pred2\": 0.0, \"Pred3\": 5.360366747459633e-06}, {\"species\": \"Chinstrap\", \"island\": \"Dream\", \"bill_length_mm\": 49.0, \"bill_depth_mm\": 19.5, \"flipper_length_mm\": 210.0, \"body_mass_g\": 3950.0, \"sex\": \"Male\", \"isAdelie_bool\": false, \"isAdelie_float\": 0.0, \"Pred\": 0.057864899290287486, \"Pred2\": 0.0, \"Pred3\": 0.0009176934788644365}, {\"species\": \"Chinstrap\", \"island\": \"Dream\", \"bill_length_mm\": 46.2, \"bill_depth_mm\": 17.5, \"flipper_length_mm\": 187.0, \"body_mass_g\": 3650.0, \"sex\": \"Female\", \"isAdelie_bool\": false, \"isAdelie_float\": 0.0, \"Pred\": 0.2706793216854746, \"Pred2\": 0.0, \"Pred3\": 0.022049323465443815}, {\"species\": \"Chinstrap\", \"island\": \"Dream\", \"bill_length_mm\": 50.9, \"bill_depth_mm\": 19.1, \"flipper_length_mm\": 196.0, \"body_mass_g\": 3550.0, \"sex\": \"Male\", \"isAdelie_bool\": false, \"isAdelie_float\": 0.0, \"Pred\": -0.0865448873350183, \"Pred2\": 0.0, \"Pred3\": 0.00010467642570815738}, {\"species\": \"Chinstrap\", \"island\": \"Dream\", \"bill_length_mm\": 45.5, \"bill_depth_mm\": 17.0, \"flipper_length_mm\": 196.0, \"body_mass_g\": 3500.0, \"sex\": \"Female\", \"isAdelie_bool\": false, \"isAdelie_float\": 0.0, \"Pred\": 0.3238829272842718, \"Pred2\": 0.0, \"Pred3\": 0.047786805262659854}, {\"species\": \"Chinstrap\", \"island\": \"Dream\", \"bill_length_mm\": 50.9, \"bill_depth_mm\": 17.9, \"flipper_length_mm\": 196.0, \"body_mass_g\": 3675.0, \"sex\": \"Female\", \"isAdelie_bool\": false, \"isAdelie_float\": 0.0, \"Pred\": -0.0865448873350183, \"Pred2\": 0.0, \"Pred3\": 0.00010467642570815738}, {\"species\": \"Chinstrap\", \"island\": \"Dream\", \"bill_length_mm\": 50.8, \"bill_depth_mm\": 18.5, \"flipper_length_mm\": 201.0, \"body_mass_g\": 4450.0, \"sex\": \"Male\", \"isAdelie_bool\": false, \"isAdelie_float\": 0.0, \"Pred\": -0.07894437224947604, \"Pred2\": 0.0, \"Pred3\": 0.00011735067497582331}, {\"species\": \"Chinstrap\", \"island\": \"Dream\", \"bill_length_mm\": 50.1, \"bill_depth_mm\": 17.9, \"flipper_length_mm\": 190.0, \"body_mass_g\": 3400.0, \"sex\": \"Female\", \"isAdelie_bool\": false, \"isAdelie_float\": 0.0, \"Pred\": -0.02574076665067926, \"Pred2\": 0.0, \"Pred3\": 0.00026116718391193405}, {\"species\": \"Chinstrap\", \"island\": \"Dream\", \"bill_length_mm\": 49.0, \"bill_depth_mm\": 19.6, \"flipper_length_mm\": 212.0, \"body_mass_g\": 4300.0, \"sex\": \"Male\", \"isAdelie_bool\": false, \"isAdelie_float\": 0.0, \"Pred\": 0.057864899290287486, \"Pred2\": 0.0, \"Pred3\": 0.0009176934788644365}, {\"species\": \"Chinstrap\", \"island\": \"Dream\", \"bill_length_mm\": 51.5, \"bill_depth_mm\": 18.7, \"flipper_length_mm\": 187.0, \"body_mass_g\": 3250.0, \"sex\": \"Male\", \"isAdelie_bool\": false, \"isAdelie_float\": 0.0, \"Pred\": -0.13214797784827326, \"Pred2\": 0.0, \"Pred3\": 5.2725192733074116e-05}, {\"species\": \"Chinstrap\", \"island\": \"Dream\", \"bill_length_mm\": 49.8, \"bill_depth_mm\": 17.3, \"flipper_length_mm\": 198.0, \"body_mass_g\": 3675.0, \"sex\": \"Female\", \"isAdelie_bool\": false, \"isAdelie_float\": 0.0, \"Pred\": -0.002939221394051561, \"Pred2\": 0.0, \"Pred3\": 0.0003679585079036591}, {\"species\": \"Chinstrap\", \"island\": \"Dream\", \"bill_length_mm\": 48.1, \"bill_depth_mm\": 16.4, \"flipper_length_mm\": 199.0, \"body_mass_g\": 3325.0, \"sex\": \"Female\", \"isAdelie_bool\": false, \"isAdelie_float\": 0.0, \"Pred\": 0.1262695350601688, \"Pred2\": 0.0, \"Pred3\": 0.0025630774372286925}, {\"species\": \"Chinstrap\", \"island\": \"Dream\", \"bill_length_mm\": 51.4, \"bill_depth_mm\": 19.0, \"flipper_length_mm\": 201.0, \"body_mass_g\": 3950.0, \"sex\": \"Male\", \"isAdelie_bool\": false, \"isAdelie_float\": 0.0, \"Pred\": -0.12454746276273054, \"Pred2\": 0.0, \"Pred3\": 5.910954484671174e-05}, {\"species\": \"Chinstrap\", \"island\": \"Dream\", \"bill_length_mm\": 45.7, \"bill_depth_mm\": 17.3, \"flipper_length_mm\": 193.0, \"body_mass_g\": 3600.0, \"sex\": \"Female\", \"isAdelie_bool\": false, \"isAdelie_float\": 0.0, \"Pred\": 0.30868189711318683, \"Pred2\": 0.0, \"Pred3\": 0.038395970753259186}, {\"species\": \"Chinstrap\", \"island\": \"Dream\", \"bill_length_mm\": 50.7, \"bill_depth_mm\": 19.7, \"flipper_length_mm\": 203.0, \"body_mass_g\": 4050.0, \"sex\": \"Male\", \"isAdelie_bool\": false, \"isAdelie_float\": 0.0, \"Pred\": -0.07134385716393377, \"Pred2\": 0.0, \"Pred3\": 0.00013155932377956442}, {\"species\": \"Chinstrap\", \"island\": \"Dream\", \"bill_length_mm\": 42.5, \"bill_depth_mm\": 17.3, \"flipper_length_mm\": 187.0, \"body_mass_g\": 3350.0, \"sex\": \"Female\", \"isAdelie_bool\": false, \"isAdelie_float\": 0.0, \"Pred\": 0.5518983798505444, \"Pred2\": 1.0, \"Pred3\": 0.6075733184170551}, {\"species\": \"Chinstrap\", \"island\": \"Dream\", \"bill_length_mm\": 52.2, \"bill_depth_mm\": 18.8, \"flipper_length_mm\": 197.0, \"body_mass_g\": 3450.0, \"sex\": \"Male\", \"isAdelie_bool\": false, \"isAdelie_float\": 0.0, \"Pred\": -0.18535158344707003, \"Pred2\": 0.0, \"Pred3\": 2.3688376775933228e-05}, {\"species\": \"Chinstrap\", \"island\": \"Dream\", \"bill_length_mm\": 45.2, \"bill_depth_mm\": 16.6, \"flipper_length_mm\": 191.0, \"body_mass_g\": 3250.0, \"sex\": \"Female\", \"isAdelie_bool\": false, \"isAdelie_float\": 0.0, \"Pred\": 0.34668447254089907, \"Pred2\": 0.0, \"Pred3\": 0.06604307485120653}, {\"species\": \"Chinstrap\", \"island\": \"Dream\", \"bill_length_mm\": 49.3, \"bill_depth_mm\": 19.9, \"flipper_length_mm\": 203.0, \"body_mass_g\": 4050.0, \"sex\": \"Male\", \"isAdelie_bool\": false, \"isAdelie_float\": 0.0, \"Pred\": 0.03506335403366023, \"Pred2\": 0.0, \"Pred3\": 0.0006514584542037573}, {\"species\": \"Chinstrap\", \"island\": \"Dream\", \"bill_length_mm\": 50.2, \"bill_depth_mm\": 18.8, \"flipper_length_mm\": 202.0, \"body_mass_g\": 3800.0, \"sex\": \"Male\", \"isAdelie_bool\": false, \"isAdelie_float\": 0.0, \"Pred\": -0.03334128173622197, \"Pred2\": 0.0, \"Pred3\": 0.00023296390939715728}, {\"species\": \"Chinstrap\", \"island\": \"Dream\", \"bill_length_mm\": 45.6, \"bill_depth_mm\": 19.4, \"flipper_length_mm\": 194.0, \"body_mass_g\": 3525.0, \"sex\": \"Female\", \"isAdelie_bool\": false, \"isAdelie_float\": 0.0, \"Pred\": 0.31628241219872955, \"Pred2\": 0.0, \"Pred3\": 0.04284629509945916}, {\"species\": \"Chinstrap\", \"island\": \"Dream\", \"bill_length_mm\": 51.9, \"bill_depth_mm\": 19.5, \"flipper_length_mm\": 206.0, \"body_mass_g\": 3950.0, \"sex\": \"Male\", \"isAdelie_bool\": false, \"isAdelie_float\": 0.0, \"Pred\": -0.16255003819044278, \"Pred2\": 0.0, \"Pred3\": 3.3377801710438504e-05}, {\"species\": \"Chinstrap\", \"island\": \"Dream\", \"bill_length_mm\": 46.8, \"bill_depth_mm\": 16.5, \"flipper_length_mm\": 189.0, \"body_mass_g\": 3650.0, \"sex\": \"Female\", \"isAdelie_bool\": false, \"isAdelie_float\": 0.0, \"Pred\": 0.22507623117222053, \"Pred2\": 0.0, \"Pred3\": 0.011228480599422778}, {\"species\": \"Chinstrap\", \"island\": \"Dream\", \"bill_length_mm\": 45.7, \"bill_depth_mm\": 17.0, \"flipper_length_mm\": 195.0, \"body_mass_g\": 3650.0, \"sex\": \"Female\", \"isAdelie_bool\": false, \"isAdelie_float\": 0.0, \"Pred\": 0.30868189711318683, \"Pred2\": 0.0, \"Pred3\": 0.038395970753259186}, {\"species\": \"Chinstrap\", \"island\": \"Dream\", \"bill_length_mm\": 55.8, \"bill_depth_mm\": 19.8, \"flipper_length_mm\": 207.0, \"body_mass_g\": 4000.0, \"sex\": \"Male\", \"isAdelie_bool\": false, \"isAdelie_float\": 0.0, \"Pred\": -0.45897012652659663, \"Pred2\": 0.0, \"Pred3\": 3.8674595998479163e-07}, {\"species\": \"Chinstrap\", \"island\": \"Dream\", \"bill_length_mm\": 43.5, \"bill_depth_mm\": 18.1, \"flipper_length_mm\": 202.0, \"body_mass_g\": 3400.0, \"sex\": \"Female\", \"isAdelie_bool\": false, \"isAdelie_float\": 0.0, \"Pred\": 0.4758932289951203, \"Pred2\": 0.0, \"Pred3\": 0.3304985540377323}, {\"species\": \"Chinstrap\", \"island\": \"Dream\", \"bill_length_mm\": 49.6, \"bill_depth_mm\": 18.2, \"flipper_length_mm\": 193.0, \"body_mass_g\": 3775.0, \"sex\": \"Male\", \"isAdelie_bool\": false, \"isAdelie_float\": 0.0, \"Pred\": 0.012261808777032535, \"Pred2\": 0.0, \"Pred3\": 0.00046242598423441904}, {\"species\": \"Chinstrap\", \"island\": \"Dream\", \"bill_length_mm\": 50.8, \"bill_depth_mm\": 19.0, \"flipper_length_mm\": 210.0, \"body_mass_g\": 4100.0, \"sex\": \"Male\", \"isAdelie_bool\": false, \"isAdelie_float\": 0.0, \"Pred\": -0.07894437224947604, \"Pred2\": 0.0, \"Pred3\": 0.00011735067497582331}, {\"species\": \"Chinstrap\", \"island\": \"Dream\", \"bill_length_mm\": 50.2, \"bill_depth_mm\": 18.7, \"flipper_length_mm\": 198.0, \"body_mass_g\": 3775.0, \"sex\": \"Female\", \"isAdelie_bool\": false, \"isAdelie_float\": 0.0, \"Pred\": -0.03334128173622197, \"Pred2\": 0.0, \"Pred3\": 0.00023296390939715728}, {\"species\": \"Gentoo\", \"island\": \"Biscoe\", \"bill_length_mm\": 46.1, \"bill_depth_mm\": 13.2, \"flipper_length_mm\": 211.0, \"body_mass_g\": 4500.0, \"sex\": \"Female\", \"isAdelie_bool\": false, \"isAdelie_float\": 0.0, \"Pred\": 0.2782798367710173, \"Pred2\": 0.0, \"Pred3\": 0.02465354846806967}, {\"species\": \"Gentoo\", \"island\": \"Biscoe\", \"bill_length_mm\": 50.0, \"bill_depth_mm\": 16.3, \"flipper_length_mm\": 230.0, \"body_mass_g\": 5700.0, \"sex\": \"Male\", \"isAdelie_bool\": false, \"isAdelie_float\": 0.0, \"Pred\": -0.01814025156513699, \"Pred2\": 0.0, \"Pred3\": 0.0002927838272771071}, {\"species\": \"Gentoo\", \"island\": \"Biscoe\", \"bill_length_mm\": 48.7, \"bill_depth_mm\": 14.1, \"flipper_length_mm\": 210.0, \"body_mass_g\": 4450.0, \"sex\": \"Female\", \"isAdelie_bool\": false, \"isAdelie_float\": 0.0, \"Pred\": 0.0806664445469143, \"Pred2\": 0.0, \"Pred3\": 0.0012925914702628198}, {\"species\": \"Gentoo\", \"island\": \"Biscoe\", \"bill_length_mm\": 50.0, \"bill_depth_mm\": 15.2, \"flipper_length_mm\": 218.0, \"body_mass_g\": 5700.0, \"sex\": \"Male\", \"isAdelie_bool\": false, \"isAdelie_float\": 0.0, \"Pred\": -0.01814025156513699, \"Pred2\": 0.0, \"Pred3\": 0.0002927838272771071}, {\"species\": \"Gentoo\", \"island\": \"Biscoe\", \"bill_length_mm\": 47.6, \"bill_depth_mm\": 14.5, \"flipper_length_mm\": 215.0, \"body_mass_g\": 5400.0, \"sex\": \"Male\", \"isAdelie_bool\": false, \"isAdelie_float\": 0.0, \"Pred\": 0.16427211048788104, \"Pred2\": 0.0, \"Pred3\": 0.004530179865025949}, {\"species\": \"Gentoo\", \"island\": \"Biscoe\", \"bill_length_mm\": 46.5, \"bill_depth_mm\": 13.5, \"flipper_length_mm\": 210.0, \"body_mass_g\": 4550.0, \"sex\": \"Female\", \"isAdelie_bool\": false, \"isAdelie_float\": 0.0, \"Pred\": 0.24787777642884778, \"Pred2\": 0.0, \"Pred3\": 0.01574916284796909}, {\"species\": \"Gentoo\", \"island\": \"Biscoe\", \"bill_length_mm\": 45.4, \"bill_depth_mm\": 14.6, \"flipper_length_mm\": 211.0, \"body_mass_g\": 4800.0, \"sex\": \"Female\", \"isAdelie_bool\": false, \"isAdelie_float\": 0.0, \"Pred\": 0.33148344236981453, \"Pred2\": 0.0, \"Pred3\": 0.05326529210998473}, {\"species\": \"Gentoo\", \"island\": \"Biscoe\", \"bill_length_mm\": 46.7, \"bill_depth_mm\": 15.3, \"flipper_length_mm\": 219.0, \"body_mass_g\": 5200.0, \"sex\": \"Male\", \"isAdelie_bool\": false, \"isAdelie_float\": 0.0, \"Pred\": 0.2326767462577628, \"Pred2\": 0.0, \"Pred3\": 0.012571094553401291}, {\"species\": \"Gentoo\", \"island\": \"Biscoe\", \"bill_length_mm\": 43.3, \"bill_depth_mm\": 13.4, \"flipper_length_mm\": 209.0, \"body_mass_g\": 4400.0, \"sex\": \"Female\", \"isAdelie_bool\": false, \"isAdelie_float\": 0.0, \"Pred\": 0.4910942591662053, \"Pred2\": 0.0, \"Pred3\": 0.3828851190434419}, {\"species\": \"Gentoo\", \"island\": \"Biscoe\", \"bill_length_mm\": 46.8, \"bill_depth_mm\": 15.4, \"flipper_length_mm\": 215.0, \"body_mass_g\": 5150.0, \"sex\": \"Male\", \"isAdelie_bool\": false, \"isAdelie_float\": 0.0, \"Pred\": 0.22507623117222053, \"Pred2\": 0.0, \"Pred3\": 0.011228480599422778}, {\"species\": \"Gentoo\", \"island\": \"Biscoe\", \"bill_length_mm\": 40.9, \"bill_depth_mm\": 13.7, \"flipper_length_mm\": 214.0, \"body_mass_g\": 4650.0, \"sex\": \"Female\", \"isAdelie_bool\": false, \"isAdelie_float\": 0.0, \"Pred\": 0.6735066212192233, \"Pred2\": 1.0, \"Pred3\": 0.9060225910165011}, {\"species\": \"Gentoo\", \"island\": \"Biscoe\", \"bill_length_mm\": 49.0, \"bill_depth_mm\": 16.1, \"flipper_length_mm\": 216.0, \"body_mass_g\": 5550.0, \"sex\": \"Male\", \"isAdelie_bool\": false, \"isAdelie_float\": 0.0, \"Pred\": 0.057864899290287486, \"Pred2\": 0.0, \"Pred3\": 0.0009176934788644365}, {\"species\": \"Gentoo\", \"island\": \"Biscoe\", \"bill_length_mm\": 45.5, \"bill_depth_mm\": 13.7, \"flipper_length_mm\": 214.0, \"body_mass_g\": 4650.0, \"sex\": \"Female\", \"isAdelie_bool\": false, \"isAdelie_float\": 0.0, \"Pred\": 0.3238829272842718, \"Pred2\": 0.0, \"Pred3\": 0.047786805262659854}, {\"species\": \"Gentoo\", \"island\": \"Biscoe\", \"bill_length_mm\": 48.4, \"bill_depth_mm\": 14.6, \"flipper_length_mm\": 213.0, \"body_mass_g\": 5850.0, \"sex\": \"Male\", \"isAdelie_bool\": false, \"isAdelie_float\": 0.0, \"Pred\": 0.103467989803542, \"Pred2\": 0.0, \"Pred3\": 0.001820364493109511}, {\"species\": \"Gentoo\", \"island\": \"Biscoe\", \"bill_length_mm\": 45.8, \"bill_depth_mm\": 14.6, \"flipper_length_mm\": 210.0, \"body_mass_g\": 4200.0, \"sex\": \"Female\", \"isAdelie_bool\": false, \"isAdelie_float\": 0.0, \"Pred\": 0.301081382027645, \"Pred2\": 0.0, \"Pred3\": 0.03439128035796718}, {\"species\": \"Gentoo\", \"island\": \"Biscoe\", \"bill_length_mm\": 49.3, \"bill_depth_mm\": 15.7, \"flipper_length_mm\": 217.0, \"body_mass_g\": 5850.0, \"sex\": \"Male\", \"isAdelie_bool\": false, \"isAdelie_float\": 0.0, \"Pred\": 0.03506335403366023, \"Pred2\": 0.0, \"Pred3\": 0.0006514584542037573}, {\"species\": \"Gentoo\", \"island\": \"Biscoe\", \"bill_length_mm\": 42.0, \"bill_depth_mm\": 13.5, \"flipper_length_mm\": 210.0, \"body_mass_g\": 4150.0, \"sex\": \"Female\", \"isAdelie_bool\": false, \"isAdelie_float\": 0.0, \"Pred\": 0.5899009552782566, \"Pred2\": 1.0, \"Pred3\": 0.732755912732211}, {\"species\": \"Gentoo\", \"island\": \"Biscoe\", \"bill_length_mm\": 49.2, \"bill_depth_mm\": 15.2, \"flipper_length_mm\": 221.0, \"body_mass_g\": 6300.0, \"sex\": \"Male\", \"isAdelie_bool\": false, \"isAdelie_float\": 0.0, \"Pred\": 0.0426638691192025, \"Pred2\": 0.0, \"Pred3\": 0.000730288862396197}, {\"species\": \"Gentoo\", \"island\": \"Biscoe\", \"bill_length_mm\": 46.2, \"bill_depth_mm\": 14.5, \"flipper_length_mm\": 209.0, \"body_mass_g\": 4800.0, \"sex\": \"Female\", \"isAdelie_bool\": false, \"isAdelie_float\": 0.0, \"Pred\": 0.2706793216854746, \"Pred2\": 0.0, \"Pred3\": 0.022049323465443815}, {\"species\": \"Gentoo\", \"island\": \"Biscoe\", \"bill_length_mm\": 48.7, \"bill_depth_mm\": 15.1, \"flipper_length_mm\": 222.0, \"body_mass_g\": 5350.0, \"sex\": \"Male\", \"isAdelie_bool\": false, \"isAdelie_float\": 0.0, \"Pred\": 0.0806664445469143, \"Pred2\": 0.0, \"Pred3\": 0.0012925914702628198}, {\"species\": \"Gentoo\", \"island\": \"Biscoe\", \"bill_length_mm\": 50.2, \"bill_depth_mm\": 14.3, \"flipper_length_mm\": 218.0, \"body_mass_g\": 5700.0, \"sex\": \"Male\", \"isAdelie_bool\": false, \"isAdelie_float\": 0.0, \"Pred\": -0.03334128173622197, \"Pred2\": 0.0, \"Pred3\": 0.00023296390939715728}, {\"species\": \"Gentoo\", \"island\": \"Biscoe\", \"bill_length_mm\": 45.1, \"bill_depth_mm\": 14.5, \"flipper_length_mm\": 215.0, \"body_mass_g\": 5000.0, \"sex\": \"Female\", \"isAdelie_bool\": false, \"isAdelie_float\": 0.0, \"Pred\": 0.35428498762644134, \"Pred2\": 0.0, \"Pred3\": 0.07345308878970935}, {\"species\": \"Gentoo\", \"island\": \"Biscoe\", \"bill_length_mm\": 46.5, \"bill_depth_mm\": 14.5, \"flipper_length_mm\": 213.0, \"body_mass_g\": 4400.0, \"sex\": \"Female\", \"isAdelie_bool\": false, \"isAdelie_float\": 0.0, \"Pred\": 0.24787777642884778, \"Pred2\": 0.0, \"Pred3\": 0.01574916284796909}, {\"species\": \"Gentoo\", \"island\": \"Biscoe\", \"bill_length_mm\": 46.3, \"bill_depth_mm\": 15.8, \"flipper_length_mm\": 215.0, \"body_mass_g\": 5050.0, \"sex\": \"Male\", \"isAdelie_bool\": false, \"isAdelie_float\": 0.0, \"Pred\": 0.26307880659993277, \"Pred2\": 0.0, \"Pred3\": 0.01971462979970233}, {\"species\": \"Gentoo\", \"island\": \"Biscoe\", \"bill_length_mm\": 42.9, \"bill_depth_mm\": 13.1, \"flipper_length_mm\": 215.0, \"body_mass_g\": 5000.0, \"sex\": \"Female\", \"isAdelie_bool\": false, \"isAdelie_float\": 0.0, \"Pred\": 0.5214963195083748, \"Pred2\": 0.0, \"Pred3\": 0.4949755353806743}, {\"species\": \"Gentoo\", \"island\": \"Biscoe\", \"bill_length_mm\": 46.1, \"bill_depth_mm\": 15.1, \"flipper_length_mm\": 215.0, \"body_mass_g\": 5100.0, \"sex\": \"Male\", \"isAdelie_bool\": false, \"isAdelie_float\": 0.0, \"Pred\": 0.2782798367710173, \"Pred2\": 0.0, \"Pred3\": 0.02465354846806967}, {\"species\": \"Gentoo\", \"island\": \"Biscoe\", \"bill_length_mm\": 47.8, \"bill_depth_mm\": 15.0, \"flipper_length_mm\": 215.0, \"body_mass_g\": 5650.0, \"sex\": \"Male\", \"isAdelie_bool\": false, \"isAdelie_float\": 0.0, \"Pred\": 0.1490710803167965, \"Pred2\": 0.0, \"Pred3\": 0.003607723751542606}, {\"species\": \"Gentoo\", \"island\": \"Biscoe\", \"bill_length_mm\": 48.2, \"bill_depth_mm\": 14.3, \"flipper_length_mm\": 210.0, \"body_mass_g\": 4600.0, \"sex\": \"Female\", \"isAdelie_bool\": false, \"isAdelie_float\": 0.0, \"Pred\": 0.11866901997462653, \"Pred2\": 0.0, \"Pred3\": 0.0022868609904799267}, {\"species\": \"Gentoo\", \"island\": \"Biscoe\", \"bill_length_mm\": 50.0, \"bill_depth_mm\": 15.3, \"flipper_length_mm\": 220.0, \"body_mass_g\": 5550.0, \"sex\": \"Male\", \"isAdelie_bool\": false, \"isAdelie_float\": 0.0, \"Pred\": -0.01814025156513699, \"Pred2\": 0.0, \"Pred3\": 0.0002927838272771071}, {\"species\": \"Gentoo\", \"island\": \"Biscoe\", \"bill_length_mm\": 47.3, \"bill_depth_mm\": 15.3, \"flipper_length_mm\": 222.0, \"body_mass_g\": 5250.0, \"sex\": \"Male\", \"isAdelie_bool\": false, \"isAdelie_float\": 0.0, \"Pred\": 0.18707365574450874, \"Pred2\": 0.0, \"Pred3\": 0.006371446591198565}, {\"species\": \"Gentoo\", \"island\": \"Biscoe\", \"bill_length_mm\": 42.8, \"bill_depth_mm\": 14.2, \"flipper_length_mm\": 209.0, \"body_mass_g\": 4700.0, \"sex\": \"Female\", \"isAdelie_bool\": false, \"isAdelie_float\": 0.0, \"Pred\": 0.5290968345939175, \"Pred2\": 1.0, \"Pred3\": 0.5235343177570237}, {\"species\": \"Gentoo\", \"island\": \"Biscoe\", \"bill_length_mm\": 45.1, \"bill_depth_mm\": 14.5, \"flipper_length_mm\": 207.0, \"body_mass_g\": 5050.0, \"sex\": \"Female\", \"isAdelie_bool\": false, \"isAdelie_float\": 0.0, \"Pred\": 0.35428498762644134, \"Pred2\": 0.0, \"Pred3\": 0.07345308878970935}, {\"species\": \"Gentoo\", \"island\": \"Biscoe\", \"bill_length_mm\": 59.6, \"bill_depth_mm\": 17.0, \"flipper_length_mm\": 230.0, \"body_mass_g\": 6050.0, \"sex\": \"Male\", \"isAdelie_bool\": false, \"isAdelie_float\": 0.0, \"Pred\": -0.7477896997772091, \"Pred2\": 0.0, \"Pred3\": 5.0236791106130535e-09}, {\"species\": \"Gentoo\", \"island\": \"Biscoe\", \"bill_length_mm\": 49.1, \"bill_depth_mm\": 14.8, \"flipper_length_mm\": 220.0, \"body_mass_g\": 5150.0, \"sex\": \"Female\", \"isAdelie_bool\": false, \"isAdelie_float\": 0.0, \"Pred\": 0.05026438420474477, \"Pred2\": 0.0, \"Pred3\": 0.000818650412006466}, {\"species\": \"Gentoo\", \"island\": \"Biscoe\", \"bill_length_mm\": 48.4, \"bill_depth_mm\": 16.3, \"flipper_length_mm\": 220.0, \"body_mass_g\": 5400.0, \"sex\": \"Male\", \"isAdelie_bool\": false, \"isAdelie_float\": 0.0, \"Pred\": 0.103467989803542, \"Pred2\": 0.0, \"Pred3\": 0.001820364493109511}, {\"species\": \"Gentoo\", \"island\": \"Biscoe\", \"bill_length_mm\": 42.6, \"bill_depth_mm\": 13.7, \"flipper_length_mm\": 213.0, \"body_mass_g\": 4950.0, \"sex\": \"Female\", \"isAdelie_bool\": false, \"isAdelie_float\": 0.0, \"Pred\": 0.5442978647650021, \"Pred2\": 1.0, \"Pred3\": 0.5800107976661344}, {\"species\": \"Gentoo\", \"island\": \"Biscoe\", \"bill_length_mm\": 44.4, \"bill_depth_mm\": 17.3, \"flipper_length_mm\": 219.0, \"body_mass_g\": 5250.0, \"sex\": \"Male\", \"isAdelie_bool\": false, \"isAdelie_float\": 0.0, \"Pred\": 0.40748859322523856, \"Pred2\": 0.0, \"Pred3\": 0.14998996044233898}, {\"species\": \"Gentoo\", \"island\": \"Biscoe\", \"bill_length_mm\": 44.0, \"bill_depth_mm\": 13.6, \"flipper_length_mm\": 208.0, \"body_mass_g\": 4350.0, \"sex\": \"Female\", \"isAdelie_bool\": false, \"isAdelie_float\": 0.0, \"Pred\": 0.4378906535674081, \"Pred2\": 0.0, \"Pred3\": 0.21798321693568823}, {\"species\": \"Gentoo\", \"island\": \"Biscoe\", \"bill_length_mm\": 48.7, \"bill_depth_mm\": 15.7, \"flipper_length_mm\": 208.0, \"body_mass_g\": 5350.0, \"sex\": \"Male\", \"isAdelie_bool\": false, \"isAdelie_float\": 0.0, \"Pred\": 0.0806664445469143, \"Pred2\": 0.0, \"Pred3\": 0.0012925914702628198}, {\"species\": \"Gentoo\", \"island\": \"Biscoe\", \"bill_length_mm\": 42.7, \"bill_depth_mm\": 13.7, \"flipper_length_mm\": 208.0, \"body_mass_g\": 3950.0, \"sex\": \"Female\", \"isAdelie_bool\": false, \"isAdelie_float\": 0.0, \"Pred\": 0.5366973496794594, \"Pred2\": 1.0, \"Pred3\": 0.551940026586306}, {\"species\": \"Gentoo\", \"island\": \"Biscoe\", \"bill_length_mm\": 49.6, \"bill_depth_mm\": 16.0, \"flipper_length_mm\": 225.0, \"body_mass_g\": 5700.0, \"sex\": \"Male\", \"isAdelie_bool\": false, \"isAdelie_float\": 0.0, \"Pred\": 0.012261808777032535, \"Pred2\": 0.0, \"Pred3\": 0.00046242598423441904}, {\"species\": \"Gentoo\", \"island\": \"Biscoe\", \"bill_length_mm\": 45.3, \"bill_depth_mm\": 13.7, \"flipper_length_mm\": 210.0, \"body_mass_g\": 4300.0, \"sex\": \"Female\", \"isAdelie_bool\": false, \"isAdelie_float\": 0.0, \"Pred\": 0.3390839574553568, \"Pred2\": 0.0, \"Pred3\": 0.05933272075817912}, {\"species\": \"Gentoo\", \"island\": \"Biscoe\", \"bill_length_mm\": 49.6, \"bill_depth_mm\": 15.0, \"flipper_length_mm\": 216.0, \"body_mass_g\": 4750.0, \"sex\": \"Male\", \"isAdelie_bool\": false, \"isAdelie_float\": 0.0, \"Pred\": 0.012261808777032535, \"Pred2\": 0.0, \"Pred3\": 0.00046242598423441904}, {\"species\": \"Gentoo\", \"island\": \"Biscoe\", \"bill_length_mm\": 50.5, \"bill_depth_mm\": 15.9, \"flipper_length_mm\": 222.0, \"body_mass_g\": 5550.0, \"sex\": \"Male\", \"isAdelie_bool\": false, \"isAdelie_float\": 0.0, \"Pred\": -0.05614282699284878, \"Pred2\": 0.0, \"Pred3\": 0.0001653451199774668}, {\"species\": \"Gentoo\", \"island\": \"Biscoe\", \"bill_length_mm\": 43.6, \"bill_depth_mm\": 13.9, \"flipper_length_mm\": 217.0, \"body_mass_g\": 4900.0, \"sex\": \"Female\", \"isAdelie_bool\": false, \"isAdelie_float\": 0.0, \"Pred\": 0.4682927139095776, \"Pred2\": 0.0, \"Pred3\": 0.30571346866400684}, {\"species\": \"Gentoo\", \"island\": \"Biscoe\", \"bill_length_mm\": 45.5, \"bill_depth_mm\": 13.9, \"flipper_length_mm\": 210.0, \"body_mass_g\": 4200.0, \"sex\": \"Female\", \"isAdelie_bool\": false, \"isAdelie_float\": 0.0, \"Pred\": 0.3238829272842718, \"Pred2\": 0.0, \"Pred3\": 0.047786805262659854}, {\"species\": \"Gentoo\", \"island\": \"Biscoe\", \"bill_length_mm\": 50.5, \"bill_depth_mm\": 15.9, \"flipper_length_mm\": 225.0, \"body_mass_g\": 5400.0, \"sex\": \"Male\", \"isAdelie_bool\": false, \"isAdelie_float\": 0.0, \"Pred\": -0.05614282699284878, \"Pred2\": 0.0, \"Pred3\": 0.0001653451199774668}, {\"species\": \"Gentoo\", \"island\": \"Biscoe\", \"bill_length_mm\": 44.9, \"bill_depth_mm\": 13.3, \"flipper_length_mm\": 213.0, \"body_mass_g\": 5100.0, \"sex\": \"Female\", \"isAdelie_bool\": false, \"isAdelie_float\": 0.0, \"Pred\": 0.36948601779752677, \"Pred2\": 0.0, \"Pred3\": 0.09061021222857102}, {\"species\": \"Gentoo\", \"island\": \"Biscoe\", \"bill_length_mm\": 45.2, \"bill_depth_mm\": 15.8, \"flipper_length_mm\": 215.0, \"body_mass_g\": 5300.0, \"sex\": \"Male\", \"isAdelie_bool\": false, \"isAdelie_float\": 0.0, \"Pred\": 0.34668447254089907, \"Pred2\": 0.0, \"Pred3\": 0.06604307485120653}, {\"species\": \"Gentoo\", \"island\": \"Biscoe\", \"bill_length_mm\": 46.6, \"bill_depth_mm\": 14.2, \"flipper_length_mm\": 210.0, \"body_mass_g\": 4850.0, \"sex\": \"Female\", \"isAdelie_bool\": false, \"isAdelie_float\": 0.0, \"Pred\": 0.24027726134330507, \"Pred2\": 0.0, \"Pred3\": 0.014071963033594028}, {\"species\": \"Gentoo\", \"island\": \"Biscoe\", \"bill_length_mm\": 48.5, \"bill_depth_mm\": 14.1, \"flipper_length_mm\": 220.0, \"body_mass_g\": 5300.0, \"sex\": \"Male\", \"isAdelie_bool\": false, \"isAdelie_float\": 0.0, \"Pred\": 0.09586747471799928, \"Pred2\": 0.0, \"Pred3\": 0.0016240580391346248}, {\"species\": \"Gentoo\", \"island\": \"Biscoe\", \"bill_length_mm\": 45.1, \"bill_depth_mm\": 14.4, \"flipper_length_mm\": 210.0, \"body_mass_g\": 4400.0, \"sex\": \"Female\", \"isAdelie_bool\": false, \"isAdelie_float\": 0.0, \"Pred\": 0.35428498762644134, \"Pred2\": 0.0, \"Pred3\": 0.07345308878970935}, {\"species\": \"Gentoo\", \"island\": \"Biscoe\", \"bill_length_mm\": 50.1, \"bill_depth_mm\": 15.0, \"flipper_length_mm\": 225.0, \"body_mass_g\": 5000.0, \"sex\": \"Male\", \"isAdelie_bool\": false, \"isAdelie_float\": 0.0, \"Pred\": -0.02574076665067926, \"Pred2\": 0.0, \"Pred3\": 0.00026116718391193405}, {\"species\": \"Gentoo\", \"island\": \"Biscoe\", \"bill_length_mm\": 46.5, \"bill_depth_mm\": 14.4, \"flipper_length_mm\": 217.0, \"body_mass_g\": 4900.0, \"sex\": \"Female\", \"isAdelie_bool\": false, \"isAdelie_float\": 0.0, \"Pred\": 0.24787777642884778, \"Pred2\": 0.0, \"Pred3\": 0.01574916284796909}, {\"species\": \"Gentoo\", \"island\": \"Biscoe\", \"bill_length_mm\": 45.0, \"bill_depth_mm\": 15.4, \"flipper_length_mm\": 220.0, \"body_mass_g\": 5050.0, \"sex\": \"Male\", \"isAdelie_bool\": false, \"isAdelie_float\": 0.0, \"Pred\": 0.36188550271198405, \"Pred2\": 0.0, \"Pred3\": 0.08162184500150953}, {\"species\": \"Gentoo\", \"island\": \"Biscoe\", \"bill_length_mm\": 43.8, \"bill_depth_mm\": 13.9, \"flipper_length_mm\": 208.0, \"body_mass_g\": 4300.0, \"sex\": \"Female\", \"isAdelie_bool\": false, \"isAdelie_float\": 0.0, \"Pred\": 0.45309168373849307, \"Pred2\": 0.0, \"Pred3\": 0.25944651352844483}, {\"species\": \"Gentoo\", \"island\": \"Biscoe\", \"bill_length_mm\": 45.5, \"bill_depth_mm\": 15.0, \"flipper_length_mm\": 220.0, \"body_mass_g\": 5000.0, \"sex\": \"Male\", \"isAdelie_bool\": false, \"isAdelie_float\": 0.0, \"Pred\": 0.3238829272842718, \"Pred2\": 0.0, \"Pred3\": 0.047786805262659854}, {\"species\": \"Gentoo\", \"island\": \"Biscoe\", \"bill_length_mm\": 43.2, \"bill_depth_mm\": 14.5, \"flipper_length_mm\": 208.0, \"body_mass_g\": 4450.0, \"sex\": \"Female\", \"isAdelie_bool\": false, \"isAdelie_float\": 0.0, \"Pred\": 0.49869477425174713, \"Pred2\": 0.0, \"Pred3\": 0.41022996722059907}, {\"species\": \"Gentoo\", \"island\": \"Biscoe\", \"bill_length_mm\": 50.4, \"bill_depth_mm\": 15.3, \"flipper_length_mm\": 224.0, \"body_mass_g\": 5550.0, \"sex\": \"Male\", \"isAdelie_bool\": false, \"isAdelie_float\": 0.0, \"Pred\": -0.04854231190730651, \"Pred2\": 0.0, \"Pred3\": 0.00018536378898419012}, {\"species\": \"Gentoo\", \"island\": \"Biscoe\", \"bill_length_mm\": 45.3, \"bill_depth_mm\": 13.8, \"flipper_length_mm\": 208.0, \"body_mass_g\": 4200.0, \"sex\": \"Female\", \"isAdelie_bool\": false, \"isAdelie_float\": 0.0, \"Pred\": 0.3390839574553568, \"Pred2\": 0.0, \"Pred3\": 0.05933272075817912}, {\"species\": \"Gentoo\", \"island\": \"Biscoe\", \"bill_length_mm\": 46.2, \"bill_depth_mm\": 14.9, \"flipper_length_mm\": 221.0, \"body_mass_g\": 5300.0, \"sex\": \"Male\", \"isAdelie_bool\": false, \"isAdelie_float\": 0.0, \"Pred\": 0.2706793216854746, \"Pred2\": 0.0, \"Pred3\": 0.022049323465443815}, {\"species\": \"Gentoo\", \"island\": \"Biscoe\", \"bill_length_mm\": 45.7, \"bill_depth_mm\": 13.9, \"flipper_length_mm\": 214.0, \"body_mass_g\": 4400.0, \"sex\": \"Female\", \"isAdelie_bool\": false, \"isAdelie_float\": 0.0, \"Pred\": 0.30868189711318683, \"Pred2\": 0.0, \"Pred3\": 0.038395970753259186}, {\"species\": \"Gentoo\", \"island\": \"Biscoe\", \"bill_length_mm\": 54.3, \"bill_depth_mm\": 15.7, \"flipper_length_mm\": 231.0, \"body_mass_g\": 5650.0, \"sex\": \"Male\", \"isAdelie_bool\": false, \"isAdelie_float\": 0.0, \"Pred\": -0.3449624002434608, \"Pred2\": 0.0, \"Pred3\": 2.1481183376527525e-06}, {\"species\": \"Gentoo\", \"island\": \"Biscoe\", \"bill_length_mm\": 45.8, \"bill_depth_mm\": 14.2, \"flipper_length_mm\": 219.0, \"body_mass_g\": 4700.0, \"sex\": \"Female\", \"isAdelie_bool\": false, \"isAdelie_float\": 0.0, \"Pred\": 0.301081382027645, \"Pred2\": 0.0, \"Pred3\": 0.03439128035796718}, {\"species\": \"Gentoo\", \"island\": \"Biscoe\", \"bill_length_mm\": 49.8, \"bill_depth_mm\": 16.8, \"flipper_length_mm\": 230.0, \"body_mass_g\": 5700.0, \"sex\": \"Male\", \"isAdelie_bool\": false, \"isAdelie_float\": 0.0, \"Pred\": -0.002939221394051561, \"Pred2\": 0.0, \"Pred3\": 0.0003679585079036591}, {\"species\": \"Gentoo\", \"island\": \"Biscoe\", \"bill_length_mm\": 49.5, \"bill_depth_mm\": 16.2, \"flipper_length_mm\": 229.0, \"body_mass_g\": 5800.0, \"sex\": \"Male\", \"isAdelie_bool\": false, \"isAdelie_float\": 0.0, \"Pred\": 0.01986232386257525, \"Pred2\": 0.0, \"Pred3\": 0.0005183941871964155}, {\"species\": \"Gentoo\", \"island\": \"Biscoe\", \"bill_length_mm\": 43.5, \"bill_depth_mm\": 14.2, \"flipper_length_mm\": 220.0, \"body_mass_g\": 4700.0, \"sex\": \"Female\", \"isAdelie_bool\": false, \"isAdelie_float\": 0.0, \"Pred\": 0.4758932289951203, \"Pred2\": 0.0, \"Pred3\": 0.3304985540377323}, {\"species\": \"Gentoo\", \"island\": \"Biscoe\", \"bill_length_mm\": 50.7, \"bill_depth_mm\": 15.0, \"flipper_length_mm\": 223.0, \"body_mass_g\": 5550.0, \"sex\": \"Male\", \"isAdelie_bool\": false, \"isAdelie_float\": 0.0, \"Pred\": -0.07134385716393377, \"Pred2\": 0.0, \"Pred3\": 0.00013155932377956442}, {\"species\": \"Gentoo\", \"island\": \"Biscoe\", \"bill_length_mm\": 47.7, \"bill_depth_mm\": 15.0, \"flipper_length_mm\": 216.0, \"body_mass_g\": 4750.0, \"sex\": \"Female\", \"isAdelie_bool\": false, \"isAdelie_float\": 0.0, \"Pred\": 0.15667159540233877, \"Pred2\": 0.0, \"Pred3\": 0.004042832949419357}, {\"species\": \"Gentoo\", \"island\": \"Biscoe\", \"bill_length_mm\": 46.4, \"bill_depth_mm\": 15.6, \"flipper_length_mm\": 221.0, \"body_mass_g\": 5000.0, \"sex\": \"Male\", \"isAdelie_bool\": false, \"isAdelie_float\": 0.0, \"Pred\": 0.2554782915143905, \"Pred2\": 0.0, \"Pred3\": 0.017622690570218605}, {\"species\": \"Gentoo\", \"island\": \"Biscoe\", \"bill_length_mm\": 48.2, \"bill_depth_mm\": 15.6, \"flipper_length_mm\": 221.0, \"body_mass_g\": 5100.0, \"sex\": \"Male\", \"isAdelie_bool\": false, \"isAdelie_float\": 0.0, \"Pred\": 0.11866901997462653, \"Pred2\": 0.0, \"Pred3\": 0.0022868609904799267}, {\"species\": \"Gentoo\", \"island\": \"Biscoe\", \"bill_length_mm\": 46.5, \"bill_depth_mm\": 14.8, \"flipper_length_mm\": 217.0, \"body_mass_g\": 5200.0, \"sex\": \"Female\", \"isAdelie_bool\": false, \"isAdelie_float\": 0.0, \"Pred\": 0.24787777642884778, \"Pred2\": 0.0, \"Pred3\": 0.01574916284796909}, {\"species\": \"Gentoo\", \"island\": \"Biscoe\", \"bill_length_mm\": 46.4, \"bill_depth_mm\": 15.0, \"flipper_length_mm\": 216.0, \"body_mass_g\": 4700.0, \"sex\": \"Female\", \"isAdelie_bool\": false, \"isAdelie_float\": 0.0, \"Pred\": 0.2554782915143905, \"Pred2\": 0.0, \"Pred3\": 0.017622690570218605}, {\"species\": \"Gentoo\", \"island\": \"Biscoe\", \"bill_length_mm\": 48.6, \"bill_depth_mm\": 16.0, \"flipper_length_mm\": 230.0, \"body_mass_g\": 5800.0, \"sex\": \"Male\", \"isAdelie_bool\": false, \"isAdelie_float\": 0.0, \"Pred\": 0.08826695963245701, \"Pred2\": 0.0, \"Pred3\": 0.001448890366667153}, {\"species\": \"Gentoo\", \"island\": \"Biscoe\", \"bill_length_mm\": 47.5, \"bill_depth_mm\": 14.2, \"flipper_length_mm\": 209.0, \"body_mass_g\": 4600.0, \"sex\": \"Female\", \"isAdelie_bool\": false, \"isAdelie_float\": 0.0, \"Pred\": 0.17187262557342375, \"Pred2\": 0.0, \"Pred3\": 0.005075975038495357}, {\"species\": \"Gentoo\", \"island\": \"Biscoe\", \"bill_length_mm\": 51.1, \"bill_depth_mm\": 16.3, \"flipper_length_mm\": 220.0, \"body_mass_g\": 6000.0, \"sex\": \"Male\", \"isAdelie_bool\": false, \"isAdelie_float\": 0.0, \"Pred\": -0.10174591750610373, \"Pred2\": 0.0, \"Pred3\": 8.328633491044848e-05}, {\"species\": \"Gentoo\", \"island\": \"Biscoe\", \"bill_length_mm\": 45.2, \"bill_depth_mm\": 13.8, \"flipper_length_mm\": 215.0, \"body_mass_g\": 4750.0, \"sex\": \"Female\", \"isAdelie_bool\": false, \"isAdelie_float\": 0.0, \"Pred\": 0.34668447254089907, \"Pred2\": 0.0, \"Pred3\": 0.06604307485120653}, {\"species\": \"Gentoo\", \"island\": \"Biscoe\", \"bill_length_mm\": 45.2, \"bill_depth_mm\": 16.4, \"flipper_length_mm\": 223.0, \"body_mass_g\": 5950.0, \"sex\": \"Male\", \"isAdelie_bool\": false, \"isAdelie_float\": 0.0, \"Pred\": 0.34668447254089907, \"Pred2\": 0.0, \"Pred3\": 0.06604307485120653}, {\"species\": \"Gentoo\", \"island\": \"Biscoe\", \"bill_length_mm\": 49.1, \"bill_depth_mm\": 14.5, \"flipper_length_mm\": 212.0, \"body_mass_g\": 4625.0, \"sex\": \"Female\", \"isAdelie_bool\": false, \"isAdelie_float\": 0.0, \"Pred\": 0.05026438420474477, \"Pred2\": 0.0, \"Pred3\": 0.000818650412006466}, {\"species\": \"Gentoo\", \"island\": \"Biscoe\", \"bill_length_mm\": 52.5, \"bill_depth_mm\": 15.6, \"flipper_length_mm\": 221.0, \"body_mass_g\": 5450.0, \"sex\": \"Male\", \"isAdelie_bool\": false, \"isAdelie_float\": 0.0, \"Pred\": -0.2081531287036973, \"Pred2\": 0.0, \"Pred3\": 1.6811700804268978e-05}, {\"species\": \"Gentoo\", \"island\": \"Biscoe\", \"bill_length_mm\": 47.4, \"bill_depth_mm\": 14.6, \"flipper_length_mm\": 212.0, \"body_mass_g\": 4725.0, \"sex\": \"Female\", \"isAdelie_bool\": false, \"isAdelie_float\": 0.0, \"Pred\": 0.17947314065896602, \"Pred2\": 0.0, \"Pred3\": 0.005687151832847143}, {\"species\": \"Gentoo\", \"island\": \"Biscoe\", \"bill_length_mm\": 50.0, \"bill_depth_mm\": 15.9, \"flipper_length_mm\": 224.0, \"body_mass_g\": 5350.0, \"sex\": \"Male\", \"isAdelie_bool\": false, \"isAdelie_float\": 0.0, \"Pred\": -0.01814025156513699, \"Pred2\": 0.0, \"Pred3\": 0.0002927838272771071}, {\"species\": \"Gentoo\", \"island\": \"Biscoe\", \"bill_length_mm\": 44.9, \"bill_depth_mm\": 13.8, \"flipper_length_mm\": 212.0, \"body_mass_g\": 4750.0, \"sex\": \"Female\", \"isAdelie_bool\": false, \"isAdelie_float\": 0.0, \"Pred\": 0.36948601779752677, \"Pred2\": 0.0, \"Pred3\": 0.09061021222857102}, {\"species\": \"Gentoo\", \"island\": \"Biscoe\", \"bill_length_mm\": 50.8, \"bill_depth_mm\": 17.3, \"flipper_length_mm\": 228.0, \"body_mass_g\": 5600.0, \"sex\": \"Male\", \"isAdelie_bool\": false, \"isAdelie_float\": 0.0, \"Pred\": -0.07894437224947604, \"Pred2\": 0.0, \"Pred3\": 0.00011735067497582331}, {\"species\": \"Gentoo\", \"island\": \"Biscoe\", \"bill_length_mm\": 43.4, \"bill_depth_mm\": 14.4, \"flipper_length_mm\": 218.0, \"body_mass_g\": 4600.0, \"sex\": \"Female\", \"isAdelie_bool\": false, \"isAdelie_float\": 0.0, \"Pred\": 0.4834937440806626, \"Pred2\": 0.0, \"Pred3\": 0.3562619478772529}, {\"species\": \"Gentoo\", \"island\": \"Biscoe\", \"bill_length_mm\": 51.3, \"bill_depth_mm\": 14.2, \"flipper_length_mm\": 218.0, \"body_mass_g\": 5300.0, \"sex\": \"Male\", \"isAdelie_bool\": false, \"isAdelie_float\": 0.0, \"Pred\": -0.11694694767718783, \"Pred2\": 0.0, \"Pred3\": 6.626690979576457e-05}, {\"species\": \"Gentoo\", \"island\": \"Biscoe\", \"bill_length_mm\": 47.5, \"bill_depth_mm\": 14.0, \"flipper_length_mm\": 212.0, \"body_mass_g\": 4875.0, \"sex\": \"Female\", \"isAdelie_bool\": false, \"isAdelie_float\": 0.0, \"Pred\": 0.17187262557342375, \"Pred2\": 0.0, \"Pred3\": 0.005075975038495357}, {\"species\": \"Gentoo\", \"island\": \"Biscoe\", \"bill_length_mm\": 52.1, \"bill_depth_mm\": 17.0, \"flipper_length_mm\": 230.0, \"body_mass_g\": 5550.0, \"sex\": \"Male\", \"isAdelie_bool\": false, \"isAdelie_float\": 0.0, \"Pred\": -0.17775106836152776, \"Pred2\": 0.0, \"Pred3\": 2.6556832136584968e-05}, {\"species\": \"Gentoo\", \"island\": \"Biscoe\", \"bill_length_mm\": 47.5, \"bill_depth_mm\": 15.0, \"flipper_length_mm\": 218.0, \"body_mass_g\": 4950.0, \"sex\": \"Female\", \"isAdelie_bool\": false, \"isAdelie_float\": 0.0, \"Pred\": 0.17187262557342375, \"Pred2\": 0.0, \"Pred3\": 0.005075975038495357}, {\"species\": \"Gentoo\", \"island\": \"Biscoe\", \"bill_length_mm\": 52.2, \"bill_depth_mm\": 17.1, \"flipper_length_mm\": 228.0, \"body_mass_g\": 5400.0, \"sex\": \"Male\", \"isAdelie_bool\": false, \"isAdelie_float\": 0.0, \"Pred\": -0.18535158344707003, \"Pred2\": 0.0, \"Pred3\": 2.3688376775933228e-05}, {\"species\": \"Gentoo\", \"island\": \"Biscoe\", \"bill_length_mm\": 45.5, \"bill_depth_mm\": 14.5, \"flipper_length_mm\": 212.0, \"body_mass_g\": 4750.0, \"sex\": \"Female\", \"isAdelie_bool\": false, \"isAdelie_float\": 0.0, \"Pred\": 0.3238829272842718, \"Pred2\": 0.0, \"Pred3\": 0.047786805262659854}, {\"species\": \"Gentoo\", \"island\": \"Biscoe\", \"bill_length_mm\": 49.5, \"bill_depth_mm\": 16.1, \"flipper_length_mm\": 224.0, \"body_mass_g\": 5650.0, \"sex\": \"Male\", \"isAdelie_bool\": false, \"isAdelie_float\": 0.0, \"Pred\": 0.01986232386257525, \"Pred2\": 0.0, \"Pred3\": 0.0005183941871964155}, {\"species\": \"Gentoo\", \"island\": \"Biscoe\", \"bill_length_mm\": 44.5, \"bill_depth_mm\": 14.7, \"flipper_length_mm\": 214.0, \"body_mass_g\": 4850.0, \"sex\": \"Female\", \"isAdelie_bool\": false, \"isAdelie_float\": 0.0, \"Pred\": 0.3998880781396963, \"Pred2\": 0.0, \"Pred3\": 0.1359920882112807}, {\"species\": \"Gentoo\", \"island\": \"Biscoe\", \"bill_length_mm\": 50.8, \"bill_depth_mm\": 15.7, \"flipper_length_mm\": 226.0, \"body_mass_g\": 5200.0, \"sex\": \"Male\", \"isAdelie_bool\": false, \"isAdelie_float\": 0.0, \"Pred\": -0.07894437224947604, \"Pred2\": 0.0, \"Pred3\": 0.00011735067497582331}, {\"species\": \"Gentoo\", \"island\": \"Biscoe\", \"bill_length_mm\": 49.4, \"bill_depth_mm\": 15.8, \"flipper_length_mm\": 216.0, \"body_mass_g\": 4925.0, \"sex\": \"Male\", \"isAdelie_bool\": false, \"isAdelie_float\": 0.0, \"Pred\": 0.027462838948117962, \"Pred2\": 0.0, \"Pred3\": 0.0005811323785353575}, {\"species\": \"Gentoo\", \"island\": \"Biscoe\", \"bill_length_mm\": 46.9, \"bill_depth_mm\": 14.6, \"flipper_length_mm\": 222.0, \"body_mass_g\": 4875.0, \"sex\": \"Female\", \"isAdelie_bool\": false, \"isAdelie_float\": 0.0, \"Pred\": 0.21747571608667826, \"Pred2\": 0.0, \"Pred3\": 0.010027803837059656}, {\"species\": \"Gentoo\", \"island\": \"Biscoe\", \"bill_length_mm\": 48.4, \"bill_depth_mm\": 14.4, \"flipper_length_mm\": 203.0, \"body_mass_g\": 4625.0, \"sex\": \"Female\", \"isAdelie_bool\": false, \"isAdelie_float\": 0.0, \"Pred\": 0.103467989803542, \"Pred2\": 0.0, \"Pred3\": 0.001820364493109511}, {\"species\": \"Gentoo\", \"island\": \"Biscoe\", \"bill_length_mm\": 51.1, \"bill_depth_mm\": 16.5, \"flipper_length_mm\": 225.0, \"body_mass_g\": 5250.0, \"sex\": \"Male\", \"isAdelie_bool\": false, \"isAdelie_float\": 0.0, \"Pred\": -0.10174591750610373, \"Pred2\": 0.0, \"Pred3\": 8.328633491044848e-05}, {\"species\": \"Gentoo\", \"island\": \"Biscoe\", \"bill_length_mm\": 48.5, \"bill_depth_mm\": 15.0, \"flipper_length_mm\": 219.0, \"body_mass_g\": 4850.0, \"sex\": \"Female\", \"isAdelie_bool\": false, \"isAdelie_float\": 0.0, \"Pred\": 0.09586747471799928, \"Pred2\": 0.0, \"Pred3\": 0.0016240580391346248}, {\"species\": \"Gentoo\", \"island\": \"Biscoe\", \"bill_length_mm\": 55.9, \"bill_depth_mm\": 17.0, \"flipper_length_mm\": 228.0, \"body_mass_g\": 5600.0, \"sex\": \"Male\", \"isAdelie_bool\": false, \"isAdelie_float\": 0.0, \"Pred\": -0.4665706416121389, \"Pred2\": 0.0, \"Pred3\": 3.44971797563666e-07}, {\"species\": \"Gentoo\", \"island\": \"Biscoe\", \"bill_length_mm\": 47.2, \"bill_depth_mm\": 15.5, \"flipper_length_mm\": 215.0, \"body_mass_g\": 4975.0, \"sex\": \"Female\", \"isAdelie_bool\": false, \"isAdelie_float\": 0.0, \"Pred\": 0.19467417083005056, \"Pred2\": 0.0, \"Pred3\": 0.007137486662328816}, {\"species\": \"Gentoo\", \"island\": \"Biscoe\", \"bill_length_mm\": 49.1, \"bill_depth_mm\": 15.0, \"flipper_length_mm\": 228.0, \"body_mass_g\": 5500.0, \"sex\": \"Male\", \"isAdelie_bool\": false, \"isAdelie_float\": 0.0, \"Pred\": 0.05026438420474477, \"Pred2\": 0.0, \"Pred3\": 0.000818650412006466}, {\"species\": \"Gentoo\", \"island\": \"Biscoe\", \"bill_length_mm\": 46.8, \"bill_depth_mm\": 16.1, \"flipper_length_mm\": 215.0, \"body_mass_g\": 5500.0, \"sex\": \"Male\", \"isAdelie_bool\": false, \"isAdelie_float\": 0.0, \"Pred\": 0.22507623117222053, \"Pred2\": 0.0, \"Pred3\": 0.011228480599422778}, {\"species\": \"Gentoo\", \"island\": \"Biscoe\", \"bill_length_mm\": 41.7, \"bill_depth_mm\": 14.7, \"flipper_length_mm\": 210.0, \"body_mass_g\": 4700.0, \"sex\": \"Female\", \"isAdelie_bool\": false, \"isAdelie_float\": 0.0, \"Pred\": 0.6127025005348834, \"Pred2\": 1.0, \"Pred3\": 0.7943856099106884}, {\"species\": \"Gentoo\", \"island\": \"Biscoe\", \"bill_length_mm\": 53.4, \"bill_depth_mm\": 15.8, \"flipper_length_mm\": 219.0, \"body_mass_g\": 5500.0, \"sex\": \"Male\", \"isAdelie_bool\": false, \"isAdelie_float\": 0.0, \"Pred\": -0.2765577644735786, \"Pred2\": 0.0, \"Pred3\": 6.009473641581955e-06}, {\"species\": \"Gentoo\", \"island\": \"Biscoe\", \"bill_length_mm\": 43.3, \"bill_depth_mm\": 14.0, \"flipper_length_mm\": 208.0, \"body_mass_g\": 4575.0, \"sex\": \"Female\", \"isAdelie_bool\": false, \"isAdelie_float\": 0.0, \"Pred\": 0.4910942591662053, \"Pred2\": 0.0, \"Pred3\": 0.3828851190434419}, {\"species\": \"Gentoo\", \"island\": \"Biscoe\", \"bill_length_mm\": 48.1, \"bill_depth_mm\": 15.1, \"flipper_length_mm\": 209.0, \"body_mass_g\": 5500.0, \"sex\": \"Male\", \"isAdelie_bool\": false, \"isAdelie_float\": 0.0, \"Pred\": 0.1262695350601688, \"Pred2\": 0.0, \"Pred3\": 0.0025630774372286925}, {\"species\": \"Gentoo\", \"island\": \"Biscoe\", \"bill_length_mm\": 50.5, \"bill_depth_mm\": 15.2, \"flipper_length_mm\": 216.0, \"body_mass_g\": 5000.0, \"sex\": \"Female\", \"isAdelie_bool\": false, \"isAdelie_float\": 0.0, \"Pred\": -0.05614282699284878, \"Pred2\": 0.0, \"Pred3\": 0.0001653451199774668}, {\"species\": \"Gentoo\", \"island\": \"Biscoe\", \"bill_length_mm\": 49.8, \"bill_depth_mm\": 15.9, \"flipper_length_mm\": 229.0, \"body_mass_g\": 5950.0, \"sex\": \"Male\", \"isAdelie_bool\": false, \"isAdelie_float\": 0.0, \"Pred\": -0.002939221394051561, \"Pred2\": 0.0, \"Pred3\": 0.0003679585079036591}, {\"species\": \"Gentoo\", \"island\": \"Biscoe\", \"bill_length_mm\": 43.5, \"bill_depth_mm\": 15.2, \"flipper_length_mm\": 213.0, \"body_mass_g\": 4650.0, \"sex\": \"Female\", \"isAdelie_bool\": false, \"isAdelie_float\": 0.0, \"Pred\": 0.4758932289951203, \"Pred2\": 0.0, \"Pred3\": 0.3304985540377323}, {\"species\": \"Gentoo\", \"island\": \"Biscoe\", \"bill_length_mm\": 51.5, \"bill_depth_mm\": 16.3, \"flipper_length_mm\": 230.0, \"body_mass_g\": 5500.0, \"sex\": \"Male\", \"isAdelie_bool\": false, \"isAdelie_float\": 0.0, \"Pred\": -0.13214797784827326, \"Pred2\": 0.0, \"Pred3\": 5.2725192733074116e-05}, {\"species\": \"Gentoo\", \"island\": \"Biscoe\", \"bill_length_mm\": 46.2, \"bill_depth_mm\": 14.1, \"flipper_length_mm\": 217.0, \"body_mass_g\": 4375.0, \"sex\": \"Female\", \"isAdelie_bool\": false, \"isAdelie_float\": 0.0, \"Pred\": 0.2706793216854746, \"Pred2\": 0.0, \"Pred3\": 0.022049323465443815}, {\"species\": \"Gentoo\", \"island\": \"Biscoe\", \"bill_length_mm\": 55.1, \"bill_depth_mm\": 16.0, \"flipper_length_mm\": 230.0, \"body_mass_g\": 5850.0, \"sex\": \"Male\", \"isAdelie_bool\": false, \"isAdelie_float\": 0.0, \"Pred\": -0.40576652092779986, \"Pred2\": 0.0, \"Pred3\": 8.608372761276989e-07}, {\"species\": \"Gentoo\", \"island\": \"Biscoe\", \"bill_length_mm\": 48.8, \"bill_depth_mm\": 16.2, \"flipper_length_mm\": 222.0, \"body_mass_g\": 6000.0, \"sex\": \"Male\", \"isAdelie_bool\": false, \"isAdelie_float\": 0.0, \"Pred\": 0.07306592946137247, \"Pred2\": 0.0, \"Pred3\": 0.0011531338300359729}, {\"species\": \"Gentoo\", \"island\": \"Biscoe\", \"bill_length_mm\": 47.2, \"bill_depth_mm\": 13.7, \"flipper_length_mm\": 214.0, \"body_mass_g\": 4925.0, \"sex\": \"Female\", \"isAdelie_bool\": false, \"isAdelie_float\": 0.0, \"Pred\": 0.19467417083005056, \"Pred2\": 0.0, \"Pred3\": 0.007137486662328816}, {\"species\": \"Gentoo\", \"island\": \"Biscoe\", \"bill_length_mm\": 46.8, \"bill_depth_mm\": 14.3, \"flipper_length_mm\": 215.0, \"body_mass_g\": 4850.0, \"sex\": \"Female\", \"isAdelie_bool\": false, \"isAdelie_float\": 0.0, \"Pred\": 0.22507623117222053, \"Pred2\": 0.0, \"Pred3\": 0.011228480599422778}, {\"species\": \"Gentoo\", \"island\": \"Biscoe\", \"bill_length_mm\": 50.4, \"bill_depth_mm\": 15.7, \"flipper_length_mm\": 222.0, \"body_mass_g\": 5750.0, \"sex\": \"Male\", \"isAdelie_bool\": false, \"isAdelie_float\": 0.0, \"Pred\": -0.04854231190730651, \"Pred2\": 0.0, \"Pred3\": 0.00018536378898419012}, {\"species\": \"Gentoo\", \"island\": \"Biscoe\", \"bill_length_mm\": 45.2, \"bill_depth_mm\": 14.8, \"flipper_length_mm\": 212.0, \"body_mass_g\": 5200.0, \"sex\": \"Female\", \"isAdelie_bool\": false, \"isAdelie_float\": 0.0, \"Pred\": 0.34668447254089907, \"Pred2\": 0.0, \"Pred3\": 0.06604307485120653}, {\"species\": \"Gentoo\", \"island\": \"Biscoe\", \"bill_length_mm\": 49.9, \"bill_depth_mm\": 16.1, \"flipper_length_mm\": 213.0, \"body_mass_g\": 5400.0, \"sex\": \"Male\", \"isAdelie_bool\": false, \"isAdelie_float\": 0.0, \"Pred\": -0.010539736479594275, \"Pred2\": 0.0, \"Pred3\": 0.0003282266938974904}]}}, {\"mode\": \"vega-lite\"});\n",
       "</script>"
      ],
      "text/plain": [
       "alt.LayerChart(...)"
      ]
     },
     "execution_count": 33,
     "metadata": {},
     "output_type": "execute_result"
    }
   ],
   "source": [
    "c+c3"
   ]
  },
  {
   "cell_type": "markdown",
   "metadata": {
    "cell_id": "aa4d75afa20d4705bb1251e0a5d79982",
    "deepnote_cell_height": 525,
    "deepnote_cell_type": "markdown",
    "tags": []
   },
   "source": [
    "## Logistic Regression, Part 3\n",
    "\n",
    "<iframe width=\"560\" height=\"315\" src=\"https://www.youtube.com/embed/nBexZhm6QHQ\" title=\"YouTube video player\" frameborder=\"0\" allow=\"accelerometer; autoplay; clipboard-write; encrypted-media; gyroscope; picture-in-picture\" allowfullscreen></iframe>"
   ]
  },
  {
   "cell_type": "code",
   "execution_count": null,
   "metadata": {
    "cell_id": "4eaca3df556e4f4780248e3a17af1408",
    "deepnote_cell_height": 81,
    "deepnote_cell_type": "code",
    "deepnote_to_be_reexecuted": false,
    "execution_millis": 0,
    "execution_start": 1652031226277,
    "owner_user_id": "02be19f8-8497-4212-b8d0-46ca9f1d48b9",
    "source_hash": "aef42042",
    "tags": []
   },
   "outputs": [],
   "source": [
    "clf = LogisticRegression()"
   ]
  },
  {
   "cell_type": "code",
   "execution_count": null,
   "metadata": {
    "cell_id": "3be9464600884d96b8d1a151ab6a9827",
    "deepnote_cell_height": 118.1875,
    "deepnote_cell_type": "code",
    "deepnote_output_heights": [
     21.1875
    ],
    "deepnote_to_be_reexecuted": false,
    "execution_millis": 18,
    "execution_start": 1652031248012,
    "source_hash": "c8172647",
    "tags": []
   },
   "outputs": [
    {
     "data": {
      "text/plain": [
       "LogisticRegression()"
      ]
     },
     "execution_count": 35,
     "metadata": {},
     "output_type": "execute_result"
    }
   ],
   "source": [
    "clf.fit(df[[\"bill_length_mm\"]], df[\"species\"])"
   ]
  },
  {
   "cell_type": "code",
   "execution_count": null,
   "metadata": {
    "cell_id": "7d6600d156264f8e85942dbd67dc162a",
    "deepnote_cell_height": 81,
    "deepnote_cell_type": "code",
    "deepnote_to_be_reexecuted": false,
    "execution_millis": 1,
    "execution_start": 1652031268438,
    "source_hash": "c21bad01",
    "tags": []
   },
   "outputs": [],
   "source": [
    "df[\"Pred4\"] = clf.predict(df[[\"bill_length_mm\"]])"
   ]
  },
  {
   "cell_type": "code",
   "execution_count": null,
   "metadata": {
    "cell_id": "fde05584173b4f758cacd1893e0b0d9b",
    "deepnote_cell_height": 395,
    "deepnote_cell_type": "code",
    "deepnote_to_be_reexecuted": false,
    "execution_millis": 373,
    "execution_start": 1652031271583,
    "source_hash": "c085b6ba",
    "tags": []
   },
   "outputs": [
    {
     "data": {
      "application/vnd.deepnote.dataframe.v3+json": {
       "column_count": 13,
       "columns": [
        {
         "dtype": "object",
         "name": "species",
         "stats": {
          "categories": [
           {
            "count": 5,
            "name": "Adelie"
           }
          ],
          "nan_count": 0,
          "unique_count": 1
         }
        },
        {
         "dtype": "object",
         "name": "island",
         "stats": {
          "categories": [
           {
            "count": 5,
            "name": "Torgersen"
           }
          ],
          "nan_count": 0,
          "unique_count": 1
         }
        },
        {
         "dtype": "float64",
         "name": "bill_length_mm",
         "stats": {
          "histogram": [
           {
            "bin_end": 37.06,
            "bin_start": 36.7,
            "count": 1
           },
           {
            "bin_end": 37.42,
            "bin_start": 37.06,
            "count": 0
           },
           {
            "bin_end": 37.78,
            "bin_start": 37.42,
            "count": 0
           },
           {
            "bin_end": 38.14,
            "bin_start": 37.78,
            "count": 0
           },
           {
            "bin_end": 38.5,
            "bin_start": 38.14,
            "count": 0
           },
           {
            "bin_end": 38.86,
            "bin_start": 38.5,
            "count": 0
           },
           {
            "bin_end": 39.22,
            "bin_start": 38.86,
            "count": 1
           },
           {
            "bin_end": 39.58,
            "bin_start": 39.22,
            "count": 2
           },
           {
            "bin_end": 39.94,
            "bin_start": 39.58,
            "count": 0
           },
           {
            "bin_end": 40.3,
            "bin_start": 39.94,
            "count": 1
           }
          ],
          "max": "40.3",
          "min": "36.7",
          "nan_count": 0,
          "unique_count": 5
         }
        },
        {
         "dtype": "float64",
         "name": "bill_depth_mm",
         "stats": {
          "histogram": [
           {
            "bin_end": 17.72,
            "bin_start": 17.4,
            "count": 1
           },
           {
            "bin_end": 18.04,
            "bin_start": 17.72,
            "count": 1
           },
           {
            "bin_end": 18.36,
            "bin_start": 18.04,
            "count": 0
           },
           {
            "bin_end": 18.68,
            "bin_start": 18.36,
            "count": 0
           },
           {
            "bin_end": 19,
            "bin_start": 18.68,
            "count": 1
           },
           {
            "bin_end": 19.32,
            "bin_start": 19,
            "count": 1
           },
           {
            "bin_end": 19.64,
            "bin_start": 19.32,
            "count": 0
           },
           {
            "bin_end": 19.96,
            "bin_start": 19.64,
            "count": 0
           },
           {
            "bin_end": 20.28,
            "bin_start": 19.96,
            "count": 0
           },
           {
            "bin_end": 20.6,
            "bin_start": 20.28,
            "count": 1
           }
          ],
          "max": "20.6",
          "min": "17.4",
          "nan_count": 0,
          "unique_count": 5
         }
        },
        {
         "dtype": "float64",
         "name": "flipper_length_mm",
         "stats": {
          "histogram": [
           {
            "bin_end": 182.4,
            "bin_start": 181,
            "count": 1
           },
           {
            "bin_end": 183.8,
            "bin_start": 182.4,
            "count": 0
           },
           {
            "bin_end": 185.2,
            "bin_start": 183.8,
            "count": 0
           },
           {
            "bin_end": 186.6,
            "bin_start": 185.2,
            "count": 1
           },
           {
            "bin_end": 188,
            "bin_start": 186.6,
            "count": 0
           },
           {
            "bin_end": 189.4,
            "bin_start": 188,
            "count": 0
           },
           {
            "bin_end": 190.8,
            "bin_start": 189.4,
            "count": 1
           },
           {
            "bin_end": 192.2,
            "bin_start": 190.8,
            "count": 0
           },
           {
            "bin_end": 193.6,
            "bin_start": 192.2,
            "count": 1
           },
           {
            "bin_end": 195,
            "bin_start": 193.6,
            "count": 1
           }
          ],
          "max": "195.0",
          "min": "181.0",
          "nan_count": 0,
          "unique_count": 5
         }
        },
        {
         "dtype": "float64",
         "name": "body_mass_g",
         "stats": {
          "histogram": [
           {
            "bin_end": 3305,
            "bin_start": 3250,
            "count": 1
           },
           {
            "bin_end": 3360,
            "bin_start": 3305,
            "count": 0
           },
           {
            "bin_end": 3415,
            "bin_start": 3360,
            "count": 0
           },
           {
            "bin_end": 3470,
            "bin_start": 3415,
            "count": 1
           },
           {
            "bin_end": 3525,
            "bin_start": 3470,
            "count": 0
           },
           {
            "bin_end": 3580,
            "bin_start": 3525,
            "count": 0
           },
           {
            "bin_end": 3635,
            "bin_start": 3580,
            "count": 0
           },
           {
            "bin_end": 3690,
            "bin_start": 3635,
            "count": 1
           },
           {
            "bin_end": 3745,
            "bin_start": 3690,
            "count": 0
           },
           {
            "bin_end": 3800,
            "bin_start": 3745,
            "count": 2
           }
          ],
          "max": "3800.0",
          "min": "3250.0",
          "nan_count": 0,
          "unique_count": 5
         }
        },
        {
         "dtype": "object",
         "name": "sex",
         "stats": {
          "categories": [
           {
            "count": 3,
            "name": "Female"
           },
           {
            "count": 2,
            "name": "Male"
           }
          ],
          "nan_count": 0,
          "unique_count": 2
         }
        },
        {
         "dtype": "bool",
         "name": "isAdelie_bool",
         "stats": {
          "categories": [
           {
            "count": 5,
            "name": "True"
           }
          ],
          "nan_count": 0,
          "unique_count": 1
         }
        },
        {
         "dtype": "float64",
         "name": "isAdelie_float",
         "stats": {
          "histogram": [
           {
            "bin_end": 0.6,
            "bin_start": 0.5,
            "count": 0
           },
           {
            "bin_end": 0.7,
            "bin_start": 0.6,
            "count": 0
           },
           {
            "bin_end": 0.8,
            "bin_start": 0.7,
            "count": 0
           },
           {
            "bin_end": 0.9,
            "bin_start": 0.8,
            "count": 0
           },
           {
            "bin_end": 1,
            "bin_start": 0.9,
            "count": 0
           },
           {
            "bin_end": 1.1,
            "bin_start": 1,
            "count": 5
           },
           {
            "bin_end": 1.2000000000000002,
            "bin_start": 1.1,
            "count": 0
           },
           {
            "bin_end": 1.3,
            "bin_start": 1.2000000000000002,
            "count": 0
           },
           {
            "bin_end": 1.4,
            "bin_start": 1.3,
            "count": 0
           },
           {
            "bin_end": 1.5,
            "bin_start": 1.4,
            "count": 0
           }
          ],
          "max": "1.0",
          "min": "1.0",
          "nan_count": 0,
          "unique_count": 1
         }
        },
        {
         "dtype": "float64",
         "name": "Pred",
         "stats": {
          "histogram": [
           {
            "bin_end": 0.7464715660404305,
            "bin_start": 0.7191097117324778,
            "count": 1
           },
           {
            "bin_end": 0.7738334203483832,
            "bin_start": 0.7464715660404305,
            "count": 0
           },
           {
            "bin_end": 0.8011952746563358,
            "bin_start": 0.7738334203483832,
            "count": 2
           },
           {
            "bin_end": 0.8285571289642885,
            "bin_start": 0.8011952746563358,
            "count": 1
           },
           {
            "bin_end": 0.8559189832722411,
            "bin_start": 0.8285571289642885,
            "count": 0
           },
           {
            "bin_end": 0.8832808375801938,
            "bin_start": 0.8559189832722411,
            "count": 0
           },
           {
            "bin_end": 0.9106426918881465,
            "bin_start": 0.8832808375801938,
            "count": 0
           },
           {
            "bin_end": 0.9380045461960991,
            "bin_start": 0.9106426918881465,
            "count": 0
           },
           {
            "bin_end": 0.9653664005040518,
            "bin_start": 0.9380045461960991,
            "count": 0
           },
           {
            "bin_end": 0.9927282548120044,
            "bin_start": 0.9653664005040518,
            "count": 1
           }
          ],
          "max": "0.9927282548120044",
          "min": "0.7191097117324778",
          "nan_count": 0,
          "unique_count": 5
         }
        },
        {
         "dtype": "float64",
         "name": "Pred2",
         "stats": {
          "histogram": [
           {
            "bin_end": 0.6,
            "bin_start": 0.5,
            "count": 0
           },
           {
            "bin_end": 0.7,
            "bin_start": 0.6,
            "count": 0
           },
           {
            "bin_end": 0.8,
            "bin_start": 0.7,
            "count": 0
           },
           {
            "bin_end": 0.9,
            "bin_start": 0.8,
            "count": 0
           },
           {
            "bin_end": 1,
            "bin_start": 0.9,
            "count": 0
           },
           {
            "bin_end": 1.1,
            "bin_start": 1,
            "count": 5
           },
           {
            "bin_end": 1.2000000000000002,
            "bin_start": 1.1,
            "count": 0
           },
           {
            "bin_end": 1.3,
            "bin_start": 1.2000000000000002,
            "count": 0
           },
           {
            "bin_end": 1.4,
            "bin_start": 1.3,
            "count": 0
           },
           {
            "bin_end": 1.5,
            "bin_start": 1.4,
            "count": 0
           }
          ],
          "max": "1.0",
          "min": "1.0",
          "nan_count": 0,
          "unique_count": 1
         }
        },
        {
         "dtype": "float64",
         "name": "Pred3",
         "stats": {
          "histogram": [
           {
            "bin_end": 0.9552302206621914,
            "bin_start": 0.9503504895675794,
            "count": 1
           },
           {
            "bin_end": 0.9601099517568035,
            "bin_start": 0.9552302206621914,
            "count": 0
           },
           {
            "bin_end": 0.9649896828514156,
            "bin_start": 0.9601099517568035,
            "count": 0
           },
           {
            "bin_end": 0.9698694139460277,
            "bin_start": 0.9649896828514156,
            "count": 0
           },
           {
            "bin_end": 0.9747491450406397,
            "bin_start": 0.9698694139460277,
            "count": 0
           },
           {
            "bin_end": 0.9796288761352517,
            "bin_start": 0.9747491450406397,
            "count": 1
           },
           {
            "bin_end": 0.9845086072298638,
            "bin_start": 0.9796288761352517,
            "count": 1
           },
           {
            "bin_end": 0.9893883383244759,
            "bin_start": 0.9845086072298638,
            "count": 1
           },
           {
            "bin_end": 0.994268069419088,
            "bin_start": 0.9893883383244759,
            "count": 0
           },
           {
            "bin_end": 0.9991478005137,
            "bin_start": 0.994268069419088,
            "count": 1
           }
          ],
          "max": "0.9991478005137",
          "min": "0.9503504895675794",
          "nan_count": 0,
          "unique_count": 5
         }
        },
        {
         "dtype": "object",
         "name": "Pred4",
         "stats": {
          "categories": [
           {
            "count": 5,
            "name": "Adelie"
           }
          ],
          "nan_count": 0,
          "unique_count": 1
         }
        },
        {
         "dtype": "int64",
         "name": "_deepnote_index_column"
        }
       ],
       "row_count": 5,
       "rows": [
        {
         "Pred": 0.8103158927589864,
         "Pred2": 1,
         "Pred3": 0.9869200348254422,
         "Pred4": "Adelie",
         "_deepnote_index_column": 0,
         "bill_depth_mm": 18.7,
         "bill_length_mm": 39.1,
         "body_mass_g": 3750,
         "flipper_length_mm": 181,
         "isAdelie_bool": true,
         "isAdelie_float": 1,
         "island": "Torgersen",
         "sex": "Male",
         "species": "Adelie"
        },
        {
         "Pred": 0.7799138324168169,
         "Pred2": 1,
         "Pred3": 0.9794933387389972,
         "Pred4": "Adelie",
         "_deepnote_index_column": 1,
         "bill_depth_mm": 17.4,
         "bill_length_mm": 39.5,
         "body_mass_g": 3800,
         "flipper_length_mm": 186,
         "isAdelie_bool": true,
         "isAdelie_float": 1,
         "island": "Torgersen",
         "sex": "Female",
         "species": "Adelie"
        },
        {
         "Pred": 0.7191097117324778,
         "Pred2": 1,
         "Pred3": 0.9503504895675794,
         "Pred4": "Adelie",
         "_deepnote_index_column": 2,
         "bill_depth_mm": 18,
         "bill_length_mm": 40.3,
         "body_mass_g": 3250,
         "flipper_length_mm": 195,
         "isAdelie_bool": true,
         "isAdelie_float": 1,
         "island": "Torgersen",
         "sex": "Female",
         "species": "Adelie"
        },
        {
         "Pred": 0.9927282548120044,
         "Pred2": 1,
         "Pred3": 0.9991478005137,
         "Pred4": "Adelie",
         "_deepnote_index_column": 4,
         "bill_depth_mm": 19.3,
         "bill_length_mm": 36.7,
         "body_mass_g": 3450,
         "flipper_length_mm": 193,
         "isAdelie_bool": true,
         "isAdelie_float": 1,
         "island": "Torgersen",
         "sex": "Female",
         "species": "Adelie"
        },
        {
         "Pred": 0.7951148625879019,
         "Pred2": 1,
         "Pred3": 0.9836154548153474,
         "Pred4": "Adelie",
         "_deepnote_index_column": 5,
         "bill_depth_mm": 20.6,
         "bill_length_mm": 39.3,
         "body_mass_g": 3650,
         "flipper_length_mm": 190,
         "isAdelie_bool": true,
         "isAdelie_float": 1,
         "island": "Torgersen",
         "sex": "Male",
         "species": "Adelie"
        }
       ]
      },
      "text/html": [
       "<div>\n",
       "<style scoped>\n",
       "    .dataframe tbody tr th:only-of-type {\n",
       "        vertical-align: middle;\n",
       "    }\n",
       "\n",
       "    .dataframe tbody tr th {\n",
       "        vertical-align: top;\n",
       "    }\n",
       "\n",
       "    .dataframe thead th {\n",
       "        text-align: right;\n",
       "    }\n",
       "</style>\n",
       "<table border=\"1\" class=\"dataframe\">\n",
       "  <thead>\n",
       "    <tr style=\"text-align: right;\">\n",
       "      <th></th>\n",
       "      <th>species</th>\n",
       "      <th>island</th>\n",
       "      <th>bill_length_mm</th>\n",
       "      <th>bill_depth_mm</th>\n",
       "      <th>flipper_length_mm</th>\n",
       "      <th>body_mass_g</th>\n",
       "      <th>sex</th>\n",
       "      <th>isAdelie_bool</th>\n",
       "      <th>isAdelie_float</th>\n",
       "      <th>Pred</th>\n",
       "      <th>Pred2</th>\n",
       "      <th>Pred3</th>\n",
       "      <th>Pred4</th>\n",
       "    </tr>\n",
       "  </thead>\n",
       "  <tbody>\n",
       "    <tr>\n",
       "      <th>0</th>\n",
       "      <td>Adelie</td>\n",
       "      <td>Torgersen</td>\n",
       "      <td>39.1</td>\n",
       "      <td>18.7</td>\n",
       "      <td>181.0</td>\n",
       "      <td>3750.0</td>\n",
       "      <td>Male</td>\n",
       "      <td>True</td>\n",
       "      <td>1.0</td>\n",
       "      <td>0.810316</td>\n",
       "      <td>1.0</td>\n",
       "      <td>0.986920</td>\n",
       "      <td>Adelie</td>\n",
       "    </tr>\n",
       "    <tr>\n",
       "      <th>1</th>\n",
       "      <td>Adelie</td>\n",
       "      <td>Torgersen</td>\n",
       "      <td>39.5</td>\n",
       "      <td>17.4</td>\n",
       "      <td>186.0</td>\n",
       "      <td>3800.0</td>\n",
       "      <td>Female</td>\n",
       "      <td>True</td>\n",
       "      <td>1.0</td>\n",
       "      <td>0.779914</td>\n",
       "      <td>1.0</td>\n",
       "      <td>0.979493</td>\n",
       "      <td>Adelie</td>\n",
       "    </tr>\n",
       "    <tr>\n",
       "      <th>2</th>\n",
       "      <td>Adelie</td>\n",
       "      <td>Torgersen</td>\n",
       "      <td>40.3</td>\n",
       "      <td>18.0</td>\n",
       "      <td>195.0</td>\n",
       "      <td>3250.0</td>\n",
       "      <td>Female</td>\n",
       "      <td>True</td>\n",
       "      <td>1.0</td>\n",
       "      <td>0.719110</td>\n",
       "      <td>1.0</td>\n",
       "      <td>0.950350</td>\n",
       "      <td>Adelie</td>\n",
       "    </tr>\n",
       "    <tr>\n",
       "      <th>4</th>\n",
       "      <td>Adelie</td>\n",
       "      <td>Torgersen</td>\n",
       "      <td>36.7</td>\n",
       "      <td>19.3</td>\n",
       "      <td>193.0</td>\n",
       "      <td>3450.0</td>\n",
       "      <td>Female</td>\n",
       "      <td>True</td>\n",
       "      <td>1.0</td>\n",
       "      <td>0.992728</td>\n",
       "      <td>1.0</td>\n",
       "      <td>0.999148</td>\n",
       "      <td>Adelie</td>\n",
       "    </tr>\n",
       "    <tr>\n",
       "      <th>5</th>\n",
       "      <td>Adelie</td>\n",
       "      <td>Torgersen</td>\n",
       "      <td>39.3</td>\n",
       "      <td>20.6</td>\n",
       "      <td>190.0</td>\n",
       "      <td>3650.0</td>\n",
       "      <td>Male</td>\n",
       "      <td>True</td>\n",
       "      <td>1.0</td>\n",
       "      <td>0.795115</td>\n",
       "      <td>1.0</td>\n",
       "      <td>0.983615</td>\n",
       "      <td>Adelie</td>\n",
       "    </tr>\n",
       "  </tbody>\n",
       "</table>\n",
       "</div>"
      ],
      "text/plain": [
       "  species     island  bill_length_mm  bill_depth_mm  flipper_length_mm  \\\n",
       "0  Adelie  Torgersen            39.1           18.7              181.0   \n",
       "1  Adelie  Torgersen            39.5           17.4              186.0   \n",
       "2  Adelie  Torgersen            40.3           18.0              195.0   \n",
       "4  Adelie  Torgersen            36.7           19.3              193.0   \n",
       "5  Adelie  Torgersen            39.3           20.6              190.0   \n",
       "\n",
       "   body_mass_g     sex  isAdelie_bool  isAdelie_float      Pred  Pred2  \\\n",
       "0       3750.0    Male           True             1.0  0.810316    1.0   \n",
       "1       3800.0  Female           True             1.0  0.779914    1.0   \n",
       "2       3250.0  Female           True             1.0  0.719110    1.0   \n",
       "4       3450.0  Female           True             1.0  0.992728    1.0   \n",
       "5       3650.0    Male           True             1.0  0.795115    1.0   \n",
       "\n",
       "      Pred3   Pred4  \n",
       "0  0.986920  Adelie  \n",
       "1  0.979493  Adelie  \n",
       "2  0.950350  Adelie  \n",
       "4  0.999148  Adelie  \n",
       "5  0.983615  Adelie  "
      ]
     },
     "execution_count": 37,
     "metadata": {},
     "output_type": "execute_result"
    }
   ],
   "source": [
    "df.head()"
   ]
  },
  {
   "cell_type": "code",
   "execution_count": null,
   "metadata": {
    "cell_id": "dfc923d38ced4305ac99cdc5b700f4c6",
    "deepnote_cell_height": 175.78125,
    "deepnote_cell_type": "code",
    "deepnote_output_heights": [
     78.78125
    ],
    "deepnote_to_be_reexecuted": false,
    "execution_millis": 3,
    "execution_start": 1652031332984,
    "source_hash": "dfa79973",
    "tags": []
   },
   "outputs": [
    {
     "data": {
      "text/plain": [
       "Gentoo       173\n",
       "Adelie       150\n",
       "Chinstrap     10\n",
       "Name: Pred4, dtype: int64"
      ]
     },
     "execution_count": 38,
     "metadata": {},
     "output_type": "execute_result"
    }
   ],
   "source": [
    "df[\"Pred4\"].value_counts()"
   ]
  },
  {
   "cell_type": "code",
   "execution_count": null,
   "metadata": {
    "cell_id": "1b9a36044c3846019f17cdc618e38c1b",
    "deepnote_cell_height": 175.78125,
    "deepnote_cell_type": "code",
    "deepnote_output_heights": [
     78.78125
    ],
    "deepnote_to_be_reexecuted": false,
    "execution_millis": 42,
    "execution_start": 1652031357060,
    "source_hash": "3bf5c212",
    "tags": []
   },
   "outputs": [
    {
     "data": {
      "text/plain": [
       "Adelie       146\n",
       "Gentoo       119\n",
       "Chinstrap     68\n",
       "Name: species, dtype: int64"
      ]
     },
     "execution_count": 39,
     "metadata": {},
     "output_type": "execute_result"
    }
   ],
   "source": [
    "df[\"species\"].value_counts()"
   ]
  },
  {
   "cell_type": "code",
   "execution_count": null,
   "metadata": {
    "cell_id": "b20bc747b5c54cf0b10cc73a3df847b2",
    "deepnote_cell_height": 530,
    "deepnote_cell_type": "code",
    "deepnote_output_heights": [
     361
    ],
    "deepnote_to_be_reexecuted": false,
    "execution_millis": 40,
    "execution_start": 1652031392397,
    "source_hash": "645bebf8",
    "tags": []
   },
   "outputs": [
    {
     "data": {
      "text/html": [
       "\n",
       "<div id=\"altair-viz-e13993f5ea014e308cbe6954c87637da\"></div>\n",
       "<script type=\"text/javascript\">\n",
       "  (function(spec, embedOpt){\n",
       "    let outputDiv = document.currentScript.previousElementSibling;\n",
       "    if (outputDiv.id !== \"altair-viz-e13993f5ea014e308cbe6954c87637da\") {\n",
       "      outputDiv = document.getElementById(\"altair-viz-e13993f5ea014e308cbe6954c87637da\");\n",
       "    }\n",
       "    const paths = {\n",
       "      \"vega\": \"https://cdn.jsdelivr.net/npm//vega@5?noext\",\n",
       "      \"vega-lib\": \"https://cdn.jsdelivr.net/npm//vega-lib?noext\",\n",
       "      \"vega-lite\": \"https://cdn.jsdelivr.net/npm//vega-lite@4.8.1?noext\",\n",
       "      \"vega-embed\": \"https://cdn.jsdelivr.net/npm//vega-embed@6?noext\",\n",
       "    };\n",
       "\n",
       "    function loadScript(lib) {\n",
       "      return new Promise(function(resolve, reject) {\n",
       "        var s = document.createElement('script');\n",
       "        s.src = paths[lib];\n",
       "        s.async = true;\n",
       "        s.onload = () => resolve(paths[lib]);\n",
       "        s.onerror = () => reject(`Error loading script: ${paths[lib]}`);\n",
       "        document.getElementsByTagName(\"head\")[0].appendChild(s);\n",
       "      });\n",
       "    }\n",
       "\n",
       "    function showError(err) {\n",
       "      outputDiv.innerHTML = `<div class=\"error\" style=\"color:red;\">${err}</div>`;\n",
       "      throw err;\n",
       "    }\n",
       "\n",
       "    function displayChart(vegaEmbed) {\n",
       "      vegaEmbed(outputDiv, spec, embedOpt)\n",
       "        .catch(err => showError(`Javascript Error: ${err.message}<br>This usually means there's a typo in your chart specification. See the javascript console for the full traceback.`));\n",
       "    }\n",
       "\n",
       "    if(typeof define === \"function\" && define.amd) {\n",
       "      requirejs.config({paths});\n",
       "      require([\"vega-embed\"], displayChart, err => showError(`Error loading script: ${err.message}`));\n",
       "    } else if (typeof vegaEmbed === \"function\") {\n",
       "      displayChart(vegaEmbed);\n",
       "    } else {\n",
       "      loadScript(\"vega\")\n",
       "        .then(() => loadScript(\"vega-lite\"))\n",
       "        .then(() => loadScript(\"vega-embed\"))\n",
       "        .catch(showError)\n",
       "        .then(() => displayChart(vegaEmbed));\n",
       "    }\n",
       "  })({\"config\": {\"view\": {\"continuousWidth\": 400, \"continuousHeight\": 300}}, \"data\": {\"name\": \"data-8d06395c46e01af0de47c3b85245fe98\"}, \"mark\": \"circle\", \"encoding\": {\"color\": {\"type\": \"nominal\", \"field\": \"species\"}, \"x\": {\"type\": \"quantitative\", \"field\": \"bill_length_mm\"}, \"y\": {\"type\": \"quantitative\", \"field\": \"flipper_length_mm\"}}, \"$schema\": \"https://vega.github.io/schema/vega-lite/v4.8.1.json\", \"datasets\": {\"data-8d06395c46e01af0de47c3b85245fe98\": [{\"species\": \"Adelie\", \"island\": \"Torgersen\", \"bill_length_mm\": 39.1, \"bill_depth_mm\": 18.7, \"flipper_length_mm\": 181.0, \"body_mass_g\": 3750.0, \"sex\": \"Male\", \"isAdelie_bool\": true, \"isAdelie_float\": 1.0, \"Pred\": 0.8103158927589864, \"Pred2\": 1.0, \"Pred3\": 0.9869200348254422, \"Pred4\": \"Adelie\"}, {\"species\": \"Adelie\", \"island\": \"Torgersen\", \"bill_length_mm\": 39.5, \"bill_depth_mm\": 17.4, \"flipper_length_mm\": 186.0, \"body_mass_g\": 3800.0, \"sex\": \"Female\", \"isAdelie_bool\": true, \"isAdelie_float\": 1.0, \"Pred\": 0.7799138324168169, \"Pred2\": 1.0, \"Pred3\": 0.9794933387389972, \"Pred4\": \"Adelie\"}, {\"species\": \"Adelie\", \"island\": \"Torgersen\", \"bill_length_mm\": 40.3, \"bill_depth_mm\": 18.0, \"flipper_length_mm\": 195.0, \"body_mass_g\": 3250.0, \"sex\": \"Female\", \"isAdelie_bool\": true, \"isAdelie_float\": 1.0, \"Pred\": 0.7191097117324778, \"Pred2\": 1.0, \"Pred3\": 0.9503504895675794, \"Pred4\": \"Adelie\"}, {\"species\": \"Adelie\", \"island\": \"Torgersen\", \"bill_length_mm\": 36.7, \"bill_depth_mm\": 19.3, \"flipper_length_mm\": 193.0, \"body_mass_g\": 3450.0, \"sex\": \"Female\", \"isAdelie_bool\": true, \"isAdelie_float\": 1.0, \"Pred\": 0.9927282548120044, \"Pred2\": 1.0, \"Pred3\": 0.9991478005137, \"Pred4\": \"Adelie\"}, {\"species\": \"Adelie\", \"island\": \"Torgersen\", \"bill_length_mm\": 39.3, \"bill_depth_mm\": 20.6, \"flipper_length_mm\": 190.0, \"body_mass_g\": 3650.0, \"sex\": \"Male\", \"isAdelie_bool\": true, \"isAdelie_float\": 1.0, \"Pred\": 0.7951148625879019, \"Pred2\": 1.0, \"Pred3\": 0.9836154548153474, \"Pred4\": \"Adelie\"}, {\"species\": \"Adelie\", \"island\": \"Torgersen\", \"bill_length_mm\": 38.9, \"bill_depth_mm\": 17.8, \"flipper_length_mm\": 181.0, \"body_mass_g\": 3625.0, \"sex\": \"Female\", \"isAdelie_bool\": true, \"isAdelie_float\": 1.0, \"Pred\": 0.8255169229300714, \"Pred2\": 1.0, \"Pred3\": 0.9895651885255436, \"Pred4\": \"Adelie\"}, {\"species\": \"Adelie\", \"island\": \"Torgersen\", \"bill_length_mm\": 39.2, \"bill_depth_mm\": 19.6, \"flipper_length_mm\": 195.0, \"body_mass_g\": 4675.0, \"sex\": \"Male\", \"isAdelie_bool\": true, \"isAdelie_float\": 1.0, \"Pred\": 0.8027153776734441, \"Pred2\": 1.0, \"Pred3\": 0.9853593128677397, \"Pred4\": \"Adelie\"}, {\"species\": \"Adelie\", \"island\": \"Torgersen\", \"bill_length_mm\": 41.1, \"bill_depth_mm\": 17.6, \"flipper_length_mm\": 182.0, \"body_mass_g\": 3200.0, \"sex\": \"Female\", \"isAdelie_bool\": true, \"isAdelie_float\": 1.0, \"Pred\": 0.6583055910481383, \"Pred2\": 1.0, \"Pred3\": 0.8846681504164191, \"Pred4\": \"Adelie\"}, {\"species\": \"Adelie\", \"island\": \"Torgersen\", \"bill_length_mm\": 38.6, \"bill_depth_mm\": 21.2, \"flipper_length_mm\": 191.0, \"body_mass_g\": 3800.0, \"sex\": \"Male\", \"isAdelie_bool\": true, \"isAdelie_float\": 1.0, \"Pred\": 0.8483184681866986, \"Pred2\": 1.0, \"Pred3\": 0.9925719374173082, \"Pred4\": \"Adelie\"}, {\"species\": \"Adelie\", \"island\": \"Torgersen\", \"bill_length_mm\": 34.6, \"bill_depth_mm\": 21.1, \"flipper_length_mm\": 198.0, \"body_mass_g\": 4400.0, \"sex\": \"Male\", \"isAdelie_bool\": true, \"isAdelie_float\": 1.0, \"Pred\": 1.1523390716083952, \"Pred2\": 1.0, \"Pred3\": 0.9999226622579593, \"Pred4\": \"Adelie\"}, {\"species\": \"Adelie\", \"island\": \"Torgersen\", \"bill_length_mm\": 36.6, \"bill_depth_mm\": 17.8, \"flipper_length_mm\": 185.0, \"body_mass_g\": 3700.0, \"sex\": \"Female\", \"isAdelie_bool\": true, \"isAdelie_float\": 1.0, \"Pred\": 1.0003287698975472, \"Pred2\": 1.0, \"Pred3\": 0.9992397804487299, \"Pred4\": \"Adelie\"}, {\"species\": \"Adelie\", \"island\": \"Torgersen\", \"bill_length_mm\": 38.7, \"bill_depth_mm\": 19.0, \"flipper_length_mm\": 195.0, \"body_mass_g\": 3450.0, \"sex\": \"Female\", \"isAdelie_bool\": true, \"isAdelie_float\": 1.0, \"Pred\": 0.8407179531011559, \"Pred2\": 1.0, \"Pred3\": 0.9916799239677997, \"Pred4\": \"Adelie\"}, {\"species\": \"Adelie\", \"island\": \"Torgersen\", \"bill_length_mm\": 42.5, \"bill_depth_mm\": 20.7, \"flipper_length_mm\": 197.0, \"body_mass_g\": 4500.0, \"sex\": \"Male\", \"isAdelie_bool\": true, \"isAdelie_float\": 1.0, \"Pred\": 0.5518983798505444, \"Pred2\": 1.0, \"Pred3\": 0.6075733184170551, \"Pred4\": \"Adelie\"}, {\"species\": \"Adelie\", \"island\": \"Torgersen\", \"bill_length_mm\": 34.4, \"bill_depth_mm\": 18.4, \"flipper_length_mm\": 184.0, \"body_mass_g\": 3325.0, \"sex\": \"Female\", \"isAdelie_bool\": true, \"isAdelie_float\": 1.0, \"Pred\": 1.1675401017794802, \"Pred2\": 1.0, \"Pred3\": 0.9999384661727423, \"Pred4\": \"Adelie\"}, {\"species\": \"Adelie\", \"island\": \"Torgersen\", \"bill_length_mm\": 46.0, \"bill_depth_mm\": 21.5, \"flipper_length_mm\": 194.0, \"body_mass_g\": 4200.0, \"sex\": \"Male\", \"isAdelie_bool\": true, \"isAdelie_float\": 1.0, \"Pred\": 0.28588035185656, \"Pred2\": 0.0, \"Pred3\": 0.027556688993271117, \"Pred4\": \"Gentoo\"}, {\"species\": \"Adelie\", \"island\": \"Biscoe\", \"bill_length_mm\": 37.8, \"bill_depth_mm\": 18.3, \"flipper_length_mm\": 174.0, \"body_mass_g\": 3400.0, \"sex\": \"Female\", \"isAdelie_bool\": true, \"isAdelie_float\": 1.0, \"Pred\": 0.9091225888710381, \"Pred2\": 1.0, \"Pred3\": 0.9970099712342856, \"Pred4\": \"Adelie\"}, {\"species\": \"Adelie\", \"island\": \"Biscoe\", \"bill_length_mm\": 37.7, \"bill_depth_mm\": 18.7, \"flipper_length_mm\": 180.0, \"body_mass_g\": 3600.0, \"sex\": \"Male\", \"isAdelie_bool\": true, \"isAdelie_float\": 1.0, \"Pred\": 0.9167231039565804, \"Pred2\": 1.0, \"Pred3\": 0.9973320760876062, \"Pred4\": \"Adelie\"}, {\"species\": \"Adelie\", \"island\": \"Biscoe\", \"bill_length_mm\": 35.9, \"bill_depth_mm\": 19.2, \"flipper_length_mm\": 189.0, \"body_mass_g\": 3800.0, \"sex\": \"Female\", \"isAdelie_bool\": true, \"isAdelie_float\": 1.0, \"Pred\": 1.053532375496344, \"Pred2\": 1.0, \"Pred3\": 0.9996583153904776, \"Pred4\": \"Adelie\"}, {\"species\": \"Adelie\", \"island\": \"Biscoe\", \"bill_length_mm\": 38.2, \"bill_depth_mm\": 18.1, \"flipper_length_mm\": 185.0, \"body_mass_g\": 3950.0, \"sex\": \"Male\", \"isAdelie_bool\": true, \"isAdelie_float\": 1.0, \"Pred\": 0.8787205285288682, \"Pred2\": 1.0, \"Pred3\": 0.9952848868113564, \"Pred4\": \"Adelie\"}, {\"species\": \"Adelie\", \"island\": \"Biscoe\", \"bill_length_mm\": 38.8, \"bill_depth_mm\": 17.2, \"flipper_length_mm\": 180.0, \"body_mass_g\": 3800.0, \"sex\": \"Male\", \"isAdelie_bool\": true, \"isAdelie_float\": 1.0, \"Pred\": 0.8331174380156141, \"Pred2\": 1.0, \"Pred3\": 0.9906817969635933, \"Pred4\": \"Adelie\"}, {\"species\": \"Adelie\", \"island\": \"Biscoe\", \"bill_length_mm\": 35.3, \"bill_depth_mm\": 18.9, \"flipper_length_mm\": 187.0, \"body_mass_g\": 3800.0, \"sex\": \"Female\", \"isAdelie_bool\": true, \"isAdelie_float\": 1.0, \"Pred\": 1.0991354660095989, \"Pred2\": 1.0, \"Pred3\": 0.9998278742672737, \"Pred4\": \"Adelie\"}, {\"species\": \"Adelie\", \"island\": \"Biscoe\", \"bill_length_mm\": 40.6, \"bill_depth_mm\": 18.6, \"flipper_length_mm\": 183.0, \"body_mass_g\": 3550.0, \"sex\": \"Male\", \"isAdelie_bool\": true, \"isAdelie_float\": 1.0, \"Pred\": 0.6963081664758501, \"Pred2\": 1.0, \"Pred3\": 0.9314338416802556, \"Pred4\": \"Adelie\"}, {\"species\": \"Adelie\", \"island\": \"Biscoe\", \"bill_length_mm\": 40.5, \"bill_depth_mm\": 17.9, \"flipper_length_mm\": 187.0, \"body_mass_g\": 3200.0, \"sex\": \"Female\", \"isAdelie_bool\": true, \"isAdelie_float\": 1.0, \"Pred\": 0.7039086815613929, \"Pred2\": 1.0, \"Pred3\": 0.9383836425490999, \"Pred4\": \"Adelie\"}, {\"species\": \"Adelie\", \"island\": \"Biscoe\", \"bill_length_mm\": 37.9, \"bill_depth_mm\": 18.6, \"flipper_length_mm\": 172.0, \"body_mass_g\": 3150.0, \"sex\": \"Female\", \"isAdelie_bool\": true, \"isAdelie_float\": 1.0, \"Pred\": 0.9015220737854959, \"Pred2\": 1.0, \"Pred3\": 0.9966491085491155, \"Pred4\": \"Adelie\"}, {\"species\": \"Adelie\", \"island\": \"Biscoe\", \"bill_length_mm\": 40.5, \"bill_depth_mm\": 18.9, \"flipper_length_mm\": 180.0, \"body_mass_g\": 3950.0, \"sex\": \"Male\", \"isAdelie_bool\": true, \"isAdelie_float\": 1.0, \"Pred\": 0.7039086815613929, \"Pred2\": 1.0, \"Pred3\": 0.9383836425490999, \"Pred4\": \"Adelie\"}, {\"species\": \"Adelie\", \"island\": \"Dream\", \"bill_length_mm\": 39.5, \"bill_depth_mm\": 16.7, \"flipper_length_mm\": 178.0, \"body_mass_g\": 3250.0, \"sex\": \"Female\", \"isAdelie_bool\": true, \"isAdelie_float\": 1.0, \"Pred\": 0.7799138324168169, \"Pred2\": 1.0, \"Pred3\": 0.9794933387389972, \"Pred4\": \"Adelie\"}, {\"species\": \"Adelie\", \"island\": \"Dream\", \"bill_length_mm\": 37.2, \"bill_depth_mm\": 18.1, \"flipper_length_mm\": 178.0, \"body_mass_g\": 3900.0, \"sex\": \"Male\", \"isAdelie_bool\": true, \"isAdelie_float\": 1.0, \"Pred\": 0.9547256793842922, \"Pred2\": 1.0, \"Pred3\": 0.9984917717110833, \"Pred4\": \"Adelie\"}, {\"species\": \"Adelie\", \"island\": \"Dream\", \"bill_length_mm\": 39.5, \"bill_depth_mm\": 17.8, \"flipper_length_mm\": 188.0, \"body_mass_g\": 3300.0, \"sex\": \"Female\", \"isAdelie_bool\": true, \"isAdelie_float\": 1.0, \"Pred\": 0.7799138324168169, \"Pred2\": 1.0, \"Pred3\": 0.9794933387389972, \"Pred4\": \"Adelie\"}, {\"species\": \"Adelie\", \"island\": \"Dream\", \"bill_length_mm\": 40.9, \"bill_depth_mm\": 18.9, \"flipper_length_mm\": 184.0, \"body_mass_g\": 3900.0, \"sex\": \"Male\", \"isAdelie_bool\": true, \"isAdelie_float\": 1.0, \"Pred\": 0.6735066212192233, \"Pred2\": 1.0, \"Pred3\": 0.9060225910165011, \"Pred4\": \"Adelie\"}, {\"species\": \"Adelie\", \"island\": \"Dream\", \"bill_length_mm\": 36.4, \"bill_depth_mm\": 17.0, \"flipper_length_mm\": 195.0, \"body_mass_g\": 3325.0, \"sex\": \"Female\", \"isAdelie_bool\": true, \"isAdelie_float\": 1.0, \"Pred\": 1.0155298000686321, \"Pred2\": 1.0, \"Pred3\": 0.9993950463693347, \"Pred4\": \"Adelie\"}, {\"species\": \"Adelie\", \"island\": \"Dream\", \"bill_length_mm\": 39.2, \"bill_depth_mm\": 21.1, \"flipper_length_mm\": 196.0, \"body_mass_g\": 4150.0, \"sex\": \"Male\", \"isAdelie_bool\": true, \"isAdelie_float\": 1.0, \"Pred\": 0.8027153776734441, \"Pred2\": 1.0, \"Pred3\": 0.9853593128677397, \"Pred4\": \"Adelie\"}, {\"species\": \"Adelie\", \"island\": \"Dream\", \"bill_length_mm\": 38.8, \"bill_depth_mm\": 20.0, \"flipper_length_mm\": 190.0, \"body_mass_g\": 3950.0, \"sex\": \"Male\", \"isAdelie_bool\": true, \"isAdelie_float\": 1.0, \"Pred\": 0.8331174380156141, \"Pred2\": 1.0, \"Pred3\": 0.9906817969635933, \"Pred4\": \"Adelie\"}, {\"species\": \"Adelie\", \"island\": \"Dream\", \"bill_length_mm\": 42.2, \"bill_depth_mm\": 18.5, \"flipper_length_mm\": 180.0, \"body_mass_g\": 3550.0, \"sex\": \"Female\", \"isAdelie_bool\": true, \"isAdelie_float\": 1.0, \"Pred\": 0.5746999251071716, \"Pred2\": 1.0, \"Pred3\": 0.6856886029479479, \"Pred4\": \"Adelie\"}, {\"species\": \"Adelie\", \"island\": \"Dream\", \"bill_length_mm\": 37.6, \"bill_depth_mm\": 19.3, \"flipper_length_mm\": 181.0, \"body_mass_g\": 3300.0, \"sex\": \"Female\", \"isAdelie_bool\": true, \"isAdelie_float\": 1.0, \"Pred\": 0.9243236190421227, \"Pred2\": 1.0, \"Pred3\": 0.9976195646110719, \"Pred4\": \"Adelie\"}, {\"species\": \"Adelie\", \"island\": \"Dream\", \"bill_length_mm\": 39.8, \"bill_depth_mm\": 19.1, \"flipper_length_mm\": 184.0, \"body_mass_g\": 4650.0, \"sex\": \"Male\", \"isAdelie_bool\": true, \"isAdelie_float\": 1.0, \"Pred\": 0.7571122871601901, \"Pred2\": 1.0, \"Pred3\": 0.9713454355954064, \"Pred4\": \"Adelie\"}, {\"species\": \"Adelie\", \"island\": \"Dream\", \"bill_length_mm\": 36.5, \"bill_depth_mm\": 18.0, \"flipper_length_mm\": 182.0, \"body_mass_g\": 3150.0, \"sex\": \"Female\", \"isAdelie_bool\": true, \"isAdelie_float\": 1.0, \"Pred\": 1.0079292849830894, \"Pred2\": 1.0, \"Pred3\": 0.9993218395069658, \"Pred4\": \"Adelie\"}, {\"species\": \"Adelie\", \"island\": \"Dream\", \"bill_length_mm\": 40.8, \"bill_depth_mm\": 18.4, \"flipper_length_mm\": 195.0, \"body_mass_g\": 3900.0, \"sex\": \"Male\", \"isAdelie_bool\": true, \"isAdelie_float\": 1.0, \"Pred\": 0.6811071363047656, \"Pred2\": 1.0, \"Pred3\": 0.9153138727022034, \"Pred4\": \"Adelie\"}, {\"species\": \"Adelie\", \"island\": \"Dream\", \"bill_length_mm\": 36.0, \"bill_depth_mm\": 18.5, \"flipper_length_mm\": 186.0, \"body_mass_g\": 3100.0, \"sex\": \"Female\", \"isAdelie_bool\": true, \"isAdelie_float\": 1.0, \"Pred\": 1.0459318604108017, \"Pred2\": 1.0, \"Pred3\": 0.9996169551211195, \"Pred4\": \"Adelie\"}, {\"species\": \"Adelie\", \"island\": \"Dream\", \"bill_length_mm\": 44.1, \"bill_depth_mm\": 19.7, \"flipper_length_mm\": 196.0, \"body_mass_g\": 4400.0, \"sex\": \"Male\", \"isAdelie_bool\": true, \"isAdelie_float\": 1.0, \"Pred\": 0.4302901384818658, \"Pred2\": 0.0, \"Pred3\": 0.1991263659602371, \"Pred4\": \"Gentoo\"}, {\"species\": \"Adelie\", \"island\": \"Dream\", \"bill_length_mm\": 37.0, \"bill_depth_mm\": 16.9, \"flipper_length_mm\": 185.0, \"body_mass_g\": 3000.0, \"sex\": \"Female\", \"isAdelie_bool\": true, \"isAdelie_float\": 1.0, \"Pred\": 0.9699267095553772, \"Pred2\": 1.0, \"Pred3\": 0.9987996261138858, \"Pred4\": \"Adelie\"}, {\"species\": \"Adelie\", \"island\": \"Dream\", \"bill_length_mm\": 39.6, \"bill_depth_mm\": 18.8, \"flipper_length_mm\": 190.0, \"body_mass_g\": 4600.0, \"sex\": \"Male\", \"isAdelie_bool\": true, \"isAdelie_float\": 1.0, \"Pred\": 0.7723133173312746, \"Pred2\": 1.0, \"Pred3\": 0.9770670434800949, \"Pred4\": \"Adelie\"}, {\"species\": \"Adelie\", \"island\": \"Dream\", \"bill_length_mm\": 41.1, \"bill_depth_mm\": 19.0, \"flipper_length_mm\": 182.0, \"body_mass_g\": 3425.0, \"sex\": \"Male\", \"isAdelie_bool\": true, \"isAdelie_float\": 1.0, \"Pred\": 0.6583055910481383, \"Pred2\": 1.0, \"Pred3\": 0.8846681504164191, \"Pred4\": \"Adelie\"}, {\"species\": \"Adelie\", \"island\": \"Dream\", \"bill_length_mm\": 36.0, \"bill_depth_mm\": 17.9, \"flipper_length_mm\": 190.0, \"body_mass_g\": 3450.0, \"sex\": \"Female\", \"isAdelie_bool\": true, \"isAdelie_float\": 1.0, \"Pred\": 1.0459318604108017, \"Pred2\": 1.0, \"Pred3\": 0.9996169551211195, \"Pred4\": \"Adelie\"}, {\"species\": \"Adelie\", \"island\": \"Dream\", \"bill_length_mm\": 42.3, \"bill_depth_mm\": 21.2, \"flipper_length_mm\": 191.0, \"body_mass_g\": 4150.0, \"sex\": \"Male\", \"isAdelie_bool\": true, \"isAdelie_float\": 1.0, \"Pred\": 0.5670994100216293, \"Pred2\": 1.0, \"Pred3\": 0.660547266723883, \"Pred4\": \"Adelie\"}, {\"species\": \"Adelie\", \"island\": \"Biscoe\", \"bill_length_mm\": 39.6, \"bill_depth_mm\": 17.7, \"flipper_length_mm\": 186.0, \"body_mass_g\": 3500.0, \"sex\": \"Female\", \"isAdelie_bool\": true, \"isAdelie_float\": 1.0, \"Pred\": 0.7723133173312746, \"Pred2\": 1.0, \"Pred3\": 0.9770670434800949, \"Pred4\": \"Adelie\"}, {\"species\": \"Adelie\", \"island\": \"Biscoe\", \"bill_length_mm\": 40.1, \"bill_depth_mm\": 18.9, \"flipper_length_mm\": 188.0, \"body_mass_g\": 4300.0, \"sex\": \"Male\", \"isAdelie_bool\": true, \"isAdelie_float\": 1.0, \"Pred\": 0.7343107419035624, \"Pred2\": 1.0, \"Pred3\": 0.960092032565854, \"Pred4\": \"Adelie\"}, {\"species\": \"Adelie\", \"island\": \"Biscoe\", \"bill_length_mm\": 35.0, \"bill_depth_mm\": 17.9, \"flipper_length_mm\": 190.0, \"body_mass_g\": 3450.0, \"sex\": \"Female\", \"isAdelie_bool\": true, \"isAdelie_float\": 1.0, \"Pred\": 1.1219370112662257, \"Pred2\": 1.0, \"Pred3\": 0.9998778366686523, \"Pred4\": \"Adelie\"}, {\"species\": \"Adelie\", \"island\": \"Biscoe\", \"bill_length_mm\": 42.0, \"bill_depth_mm\": 19.5, \"flipper_length_mm\": 200.0, \"body_mass_g\": 4050.0, \"sex\": \"Male\", \"isAdelie_bool\": true, \"isAdelie_float\": 1.0, \"Pred\": 0.5899009552782566, \"Pred2\": 1.0, \"Pred3\": 0.732755912732211, \"Pred4\": \"Adelie\"}, {\"species\": \"Adelie\", \"island\": \"Biscoe\", \"bill_length_mm\": 34.5, \"bill_depth_mm\": 18.1, \"flipper_length_mm\": 187.0, \"body_mass_g\": 2900.0, \"sex\": \"Female\", \"isAdelie_bool\": true, \"isAdelie_float\": 1.0, \"Pred\": 1.159939586693938, \"Pred2\": 1.0, \"Pred3\": 0.9999310152802936, \"Pred4\": \"Adelie\"}, {\"species\": \"Adelie\", \"island\": \"Biscoe\", \"bill_length_mm\": 41.4, \"bill_depth_mm\": 18.6, \"flipper_length_mm\": 191.0, \"body_mass_g\": 3700.0, \"sex\": \"Male\", \"isAdelie_bool\": true, \"isAdelie_float\": 1.0, \"Pred\": 0.6355040457915111, \"Pred2\": 1.0, \"Pred3\": 0.8448127731129318, \"Pred4\": \"Adelie\"}, {\"species\": \"Adelie\", \"island\": \"Biscoe\", \"bill_length_mm\": 39.0, \"bill_depth_mm\": 17.5, \"flipper_length_mm\": 186.0, \"body_mass_g\": 3550.0, \"sex\": \"Female\", \"isAdelie_bool\": true, \"isAdelie_float\": 1.0, \"Pred\": 0.8179164078445291, \"Pred2\": 1.0, \"Pred3\": 0.9883163539444552, \"Pred4\": \"Adelie\"}, {\"species\": \"Adelie\", \"island\": \"Biscoe\", \"bill_length_mm\": 40.6, \"bill_depth_mm\": 18.8, \"flipper_length_mm\": 193.0, \"body_mass_g\": 3800.0, \"sex\": \"Male\", \"isAdelie_bool\": true, \"isAdelie_float\": 1.0, \"Pred\": 0.6963081664758501, \"Pred2\": 1.0, \"Pred3\": 0.9314338416802556, \"Pred4\": \"Adelie\"}, {\"species\": \"Adelie\", \"island\": \"Biscoe\", \"bill_length_mm\": 36.5, \"bill_depth_mm\": 16.6, \"flipper_length_mm\": 181.0, \"body_mass_g\": 2850.0, \"sex\": \"Female\", \"isAdelie_bool\": true, \"isAdelie_float\": 1.0, \"Pred\": 1.0079292849830894, \"Pred2\": 1.0, \"Pred3\": 0.9993218395069658, \"Pred4\": \"Adelie\"}, {\"species\": \"Adelie\", \"island\": \"Biscoe\", \"bill_length_mm\": 37.6, \"bill_depth_mm\": 19.1, \"flipper_length_mm\": 194.0, \"body_mass_g\": 3750.0, \"sex\": \"Male\", \"isAdelie_bool\": true, \"isAdelie_float\": 1.0, \"Pred\": 0.9243236190421227, \"Pred2\": 1.0, \"Pred3\": 0.9976195646110719, \"Pred4\": \"Adelie\"}, {\"species\": \"Adelie\", \"island\": \"Biscoe\", \"bill_length_mm\": 35.7, \"bill_depth_mm\": 16.9, \"flipper_length_mm\": 185.0, \"body_mass_g\": 3150.0, \"sex\": \"Female\", \"isAdelie_bool\": true, \"isAdelie_float\": 1.0, \"Pred\": 1.0687334056674285, \"Pred2\": 1.0, \"Pred3\": 0.9997281237194964, \"Pred4\": \"Adelie\"}, {\"species\": \"Adelie\", \"island\": \"Biscoe\", \"bill_length_mm\": 41.3, \"bill_depth_mm\": 21.1, \"flipper_length_mm\": 195.0, \"body_mass_g\": 4400.0, \"sex\": \"Male\", \"isAdelie_bool\": true, \"isAdelie_float\": 1.0, \"Pred\": 0.6431045608770538, \"Pred2\": 1.0, \"Pred3\": 0.859215347048944, \"Pred4\": \"Adelie\"}, {\"species\": \"Adelie\", \"island\": \"Biscoe\", \"bill_length_mm\": 37.6, \"bill_depth_mm\": 17.0, \"flipper_length_mm\": 185.0, \"body_mass_g\": 3600.0, \"sex\": \"Female\", \"isAdelie_bool\": true, \"isAdelie_float\": 1.0, \"Pred\": 0.9243236190421227, \"Pred2\": 1.0, \"Pred3\": 0.9976195646110719, \"Pred4\": \"Adelie\"}, {\"species\": \"Adelie\", \"island\": \"Biscoe\", \"bill_length_mm\": 41.1, \"bill_depth_mm\": 18.2, \"flipper_length_mm\": 192.0, \"body_mass_g\": 4050.0, \"sex\": \"Male\", \"isAdelie_bool\": true, \"isAdelie_float\": 1.0, \"Pred\": 0.6583055910481383, \"Pred2\": 1.0, \"Pred3\": 0.8846681504164191, \"Pred4\": \"Adelie\"}, {\"species\": \"Adelie\", \"island\": \"Biscoe\", \"bill_length_mm\": 36.4, \"bill_depth_mm\": 17.1, \"flipper_length_mm\": 184.0, \"body_mass_g\": 2850.0, \"sex\": \"Female\", \"isAdelie_bool\": true, \"isAdelie_float\": 1.0, \"Pred\": 1.0155298000686321, \"Pred2\": 1.0, \"Pred3\": 0.9993950463693347, \"Pred4\": \"Adelie\"}, {\"species\": \"Adelie\", \"island\": \"Biscoe\", \"bill_length_mm\": 41.6, \"bill_depth_mm\": 18.0, \"flipper_length_mm\": 192.0, \"body_mass_g\": 3950.0, \"sex\": \"Male\", \"isAdelie_bool\": true, \"isAdelie_float\": 1.0, \"Pred\": 0.6203030156204261, \"Pred2\": 1.0, \"Pred3\": 0.8124291232145705, \"Pred4\": \"Adelie\"}, {\"species\": \"Adelie\", \"island\": \"Biscoe\", \"bill_length_mm\": 35.5, \"bill_depth_mm\": 16.2, \"flipper_length_mm\": 195.0, \"body_mass_g\": 3350.0, \"sex\": \"Female\", \"isAdelie_bool\": true, \"isAdelie_float\": 1.0, \"Pred\": 1.0839344358385135, \"Pred2\": 1.0, \"Pred3\": 0.999783672851296, \"Pred4\": \"Adelie\"}, {\"species\": \"Adelie\", \"island\": \"Biscoe\", \"bill_length_mm\": 41.1, \"bill_depth_mm\": 19.1, \"flipper_length_mm\": 188.0, \"body_mass_g\": 4100.0, \"sex\": \"Male\", \"isAdelie_bool\": true, \"isAdelie_float\": 1.0, \"Pred\": 0.6583055910481383, \"Pred2\": 1.0, \"Pred3\": 0.8846681504164191, \"Pred4\": \"Adelie\"}, {\"species\": \"Adelie\", \"island\": \"Torgersen\", \"bill_length_mm\": 35.9, \"bill_depth_mm\": 16.6, \"flipper_length_mm\": 190.0, \"body_mass_g\": 3050.0, \"sex\": \"Female\", \"isAdelie_bool\": true, \"isAdelie_float\": 1.0, \"Pred\": 1.053532375496344, \"Pred2\": 1.0, \"Pred3\": 0.9996583153904776, \"Pred4\": \"Adelie\"}, {\"species\": \"Adelie\", \"island\": \"Torgersen\", \"bill_length_mm\": 41.8, \"bill_depth_mm\": 19.4, \"flipper_length_mm\": 198.0, \"body_mass_g\": 4450.0, \"sex\": \"Male\", \"isAdelie_bool\": true, \"isAdelie_float\": 1.0, \"Pred\": 0.6051019854493416, \"Pred2\": 1.0, \"Pred3\": 0.775086902089169, \"Pred4\": \"Adelie\"}, {\"species\": \"Adelie\", \"island\": \"Torgersen\", \"bill_length_mm\": 33.5, \"bill_depth_mm\": 19.0, \"flipper_length_mm\": 190.0, \"body_mass_g\": 3600.0, \"sex\": \"Female\", \"isAdelie_bool\": true, \"isAdelie_float\": 1.0, \"Pred\": 1.235944737549362, \"Pred2\": 1.0, \"Pred3\": 0.9999780036211757, \"Pred4\": \"Adelie\"}, {\"species\": \"Adelie\", \"island\": \"Torgersen\", \"bill_length_mm\": 39.7, \"bill_depth_mm\": 18.4, \"flipper_length_mm\": 190.0, \"body_mass_g\": 3900.0, \"sex\": \"Male\", \"isAdelie_bool\": true, \"isAdelie_float\": 1.0, \"Pred\": 0.7647128022457319, \"Pred2\": 1.0, \"Pred3\": 0.9743611895287353, \"Pred4\": \"Adelie\"}, {\"species\": \"Adelie\", \"island\": \"Torgersen\", \"bill_length_mm\": 39.6, \"bill_depth_mm\": 17.2, \"flipper_length_mm\": 196.0, \"body_mass_g\": 3550.0, \"sex\": \"Female\", \"isAdelie_bool\": true, \"isAdelie_float\": 1.0, \"Pred\": 0.7723133173312746, \"Pred2\": 1.0, \"Pred3\": 0.9770670434800949, \"Pred4\": \"Adelie\"}, {\"species\": \"Adelie\", \"island\": \"Torgersen\", \"bill_length_mm\": 45.8, \"bill_depth_mm\": 18.9, \"flipper_length_mm\": 197.0, \"body_mass_g\": 4150.0, \"sex\": \"Male\", \"isAdelie_bool\": true, \"isAdelie_float\": 1.0, \"Pred\": 0.301081382027645, \"Pred2\": 0.0, \"Pred3\": 0.03439128035796718, \"Pred4\": \"Gentoo\"}, {\"species\": \"Adelie\", \"island\": \"Torgersen\", \"bill_length_mm\": 35.5, \"bill_depth_mm\": 17.5, \"flipper_length_mm\": 190.0, \"body_mass_g\": 3700.0, \"sex\": \"Female\", \"isAdelie_bool\": true, \"isAdelie_float\": 1.0, \"Pred\": 1.0839344358385135, \"Pred2\": 1.0, \"Pred3\": 0.999783672851296, \"Pred4\": \"Adelie\"}, {\"species\": \"Adelie\", \"island\": \"Torgersen\", \"bill_length_mm\": 42.8, \"bill_depth_mm\": 18.5, \"flipper_length_mm\": 195.0, \"body_mass_g\": 4250.0, \"sex\": \"Male\", \"isAdelie_bool\": true, \"isAdelie_float\": 1.0, \"Pred\": 0.5290968345939175, \"Pred2\": 1.0, \"Pred3\": 0.5235343177570237, \"Pred4\": \"Adelie\"}, {\"species\": \"Adelie\", \"island\": \"Torgersen\", \"bill_length_mm\": 40.9, \"bill_depth_mm\": 16.8, \"flipper_length_mm\": 191.0, \"body_mass_g\": 3700.0, \"sex\": \"Female\", \"isAdelie_bool\": true, \"isAdelie_float\": 1.0, \"Pred\": 0.6735066212192233, \"Pred2\": 1.0, \"Pred3\": 0.9060225910165011, \"Pred4\": \"Adelie\"}, {\"species\": \"Adelie\", \"island\": \"Torgersen\", \"bill_length_mm\": 37.2, \"bill_depth_mm\": 19.4, \"flipper_length_mm\": 184.0, \"body_mass_g\": 3900.0, \"sex\": \"Male\", \"isAdelie_bool\": true, \"isAdelie_float\": 1.0, \"Pred\": 0.9547256793842922, \"Pred2\": 1.0, \"Pred3\": 0.9984917717110833, \"Pred4\": \"Adelie\"}, {\"species\": \"Adelie\", \"island\": \"Torgersen\", \"bill_length_mm\": 36.2, \"bill_depth_mm\": 16.1, \"flipper_length_mm\": 187.0, \"body_mass_g\": 3550.0, \"sex\": \"Female\", \"isAdelie_bool\": true, \"isAdelie_float\": 1.0, \"Pred\": 1.0307308302397167, \"Pred2\": 1.0, \"Pred3\": 0.9995186163249092, \"Pred4\": \"Adelie\"}, {\"species\": \"Adelie\", \"island\": \"Torgersen\", \"bill_length_mm\": 42.1, \"bill_depth_mm\": 19.1, \"flipper_length_mm\": 195.0, \"body_mass_g\": 4000.0, \"sex\": \"Male\", \"isAdelie_bool\": true, \"isAdelie_float\": 1.0, \"Pred\": 0.5823004401927139, \"Pred2\": 1.0, \"Pred3\": 0.70978597355023, \"Pred4\": \"Adelie\"}, {\"species\": \"Adelie\", \"island\": \"Torgersen\", \"bill_length_mm\": 34.6, \"bill_depth_mm\": 17.2, \"flipper_length_mm\": 189.0, \"body_mass_g\": 3200.0, \"sex\": \"Female\", \"isAdelie_bool\": true, \"isAdelie_float\": 1.0, \"Pred\": 1.1523390716083952, \"Pred2\": 1.0, \"Pred3\": 0.9999226622579593, \"Pred4\": \"Adelie\"}, {\"species\": \"Adelie\", \"island\": \"Torgersen\", \"bill_length_mm\": 42.9, \"bill_depth_mm\": 17.6, \"flipper_length_mm\": 196.0, \"body_mass_g\": 4700.0, \"sex\": \"Male\", \"isAdelie_bool\": true, \"isAdelie_float\": 1.0, \"Pred\": 0.5214963195083748, \"Pred2\": 0.0, \"Pred3\": 0.4949755353806743, \"Pred4\": \"Adelie\"}, {\"species\": \"Adelie\", \"island\": \"Torgersen\", \"bill_length_mm\": 36.7, \"bill_depth_mm\": 18.8, \"flipper_length_mm\": 187.0, \"body_mass_g\": 3800.0, \"sex\": \"Female\", \"isAdelie_bool\": true, \"isAdelie_float\": 1.0, \"Pred\": 0.9927282548120044, \"Pred2\": 1.0, \"Pred3\": 0.9991478005137, \"Pred4\": \"Adelie\"}, {\"species\": \"Adelie\", \"island\": \"Torgersen\", \"bill_length_mm\": 35.1, \"bill_depth_mm\": 19.4, \"flipper_length_mm\": 193.0, \"body_mass_g\": 4200.0, \"sex\": \"Male\", \"isAdelie_bool\": true, \"isAdelie_float\": 1.0, \"Pred\": 1.114336496180683, \"Pred2\": 1.0, \"Pred3\": 0.9998630453902388, \"Pred4\": \"Adelie\"}, {\"species\": \"Adelie\", \"island\": \"Dream\", \"bill_length_mm\": 37.3, \"bill_depth_mm\": 17.8, \"flipper_length_mm\": 191.0, \"body_mass_g\": 3350.0, \"sex\": \"Female\", \"isAdelie_bool\": true, \"isAdelie_float\": 1.0, \"Pred\": 0.9471251642987504, \"Pred2\": 1.0, \"Pred3\": 0.9983094423591191, \"Pred4\": \"Adelie\"}, {\"species\": \"Adelie\", \"island\": \"Dream\", \"bill_length_mm\": 41.3, \"bill_depth_mm\": 20.3, \"flipper_length_mm\": 194.0, \"body_mass_g\": 3550.0, \"sex\": \"Male\", \"isAdelie_bool\": true, \"isAdelie_float\": 1.0, \"Pred\": 0.6431045608770538, \"Pred2\": 1.0, \"Pred3\": 0.859215347048944, \"Pred4\": \"Adelie\"}, {\"species\": \"Adelie\", \"island\": \"Dream\", \"bill_length_mm\": 36.3, \"bill_depth_mm\": 19.5, \"flipper_length_mm\": 190.0, \"body_mass_g\": 3800.0, \"sex\": \"Male\", \"isAdelie_bool\": true, \"isAdelie_float\": 1.0, \"Pred\": 1.0231303151541744, \"Pred2\": 1.0, \"Pred3\": 0.999460354879175, \"Pred4\": \"Adelie\"}, {\"species\": \"Adelie\", \"island\": \"Dream\", \"bill_length_mm\": 36.9, \"bill_depth_mm\": 18.6, \"flipper_length_mm\": 189.0, \"body_mass_g\": 3500.0, \"sex\": \"Female\", \"isAdelie_bool\": true, \"isAdelie_float\": 1.0, \"Pred\": 0.9775272246409199, \"Pred2\": 1.0, \"Pred3\": 0.9989291450708773, \"Pred4\": \"Adelie\"}, {\"species\": \"Adelie\", \"island\": \"Dream\", \"bill_length_mm\": 38.3, \"bill_depth_mm\": 19.2, \"flipper_length_mm\": 189.0, \"body_mass_g\": 3950.0, \"sex\": \"Male\", \"isAdelie_bool\": true, \"isAdelie_float\": 1.0, \"Pred\": 0.8711200134433263, \"Pred2\": 1.0, \"Pred3\": 0.9947169291540153, \"Pred4\": \"Adelie\"}, {\"species\": \"Adelie\", \"island\": \"Dream\", \"bill_length_mm\": 38.9, \"bill_depth_mm\": 18.8, \"flipper_length_mm\": 190.0, \"body_mass_g\": 3600.0, \"sex\": \"Female\", \"isAdelie_bool\": true, \"isAdelie_float\": 1.0, \"Pred\": 0.8255169229300714, \"Pred2\": 1.0, \"Pred3\": 0.9895651885255436, \"Pred4\": \"Adelie\"}, {\"species\": \"Adelie\", \"island\": \"Dream\", \"bill_length_mm\": 35.7, \"bill_depth_mm\": 18.0, \"flipper_length_mm\": 202.0, \"body_mass_g\": 3550.0, \"sex\": \"Female\", \"isAdelie_bool\": true, \"isAdelie_float\": 1.0, \"Pred\": 1.0687334056674285, \"Pred2\": 1.0, \"Pred3\": 0.9997281237194964, \"Pred4\": \"Adelie\"}, {\"species\": \"Adelie\", \"island\": \"Dream\", \"bill_length_mm\": 41.1, \"bill_depth_mm\": 18.1, \"flipper_length_mm\": 205.0, \"body_mass_g\": 4300.0, \"sex\": \"Male\", \"isAdelie_bool\": true, \"isAdelie_float\": 1.0, \"Pred\": 0.6583055910481383, \"Pred2\": 1.0, \"Pred3\": 0.8846681504164191, \"Pred4\": \"Adelie\"}, {\"species\": \"Adelie\", \"island\": \"Dream\", \"bill_length_mm\": 34.0, \"bill_depth_mm\": 17.1, \"flipper_length_mm\": 185.0, \"body_mass_g\": 3400.0, \"sex\": \"Female\", \"isAdelie_bool\": true, \"isAdelie_float\": 1.0, \"Pred\": 1.1979421621216497, \"Pred2\": 1.0, \"Pred3\": 0.9999610457464958, \"Pred4\": \"Adelie\"}, {\"species\": \"Adelie\", \"island\": \"Dream\", \"bill_length_mm\": 39.6, \"bill_depth_mm\": 18.1, \"flipper_length_mm\": 186.0, \"body_mass_g\": 4450.0, \"sex\": \"Male\", \"isAdelie_bool\": true, \"isAdelie_float\": 1.0, \"Pred\": 0.7723133173312746, \"Pred2\": 1.0, \"Pred3\": 0.9770670434800949, \"Pred4\": \"Adelie\"}, {\"species\": \"Adelie\", \"island\": \"Dream\", \"bill_length_mm\": 36.2, \"bill_depth_mm\": 17.3, \"flipper_length_mm\": 187.0, \"body_mass_g\": 3300.0, \"sex\": \"Female\", \"isAdelie_bool\": true, \"isAdelie_float\": 1.0, \"Pred\": 1.0307308302397167, \"Pred2\": 1.0, \"Pred3\": 0.9995186163249092, \"Pred4\": \"Adelie\"}, {\"species\": \"Adelie\", \"island\": \"Dream\", \"bill_length_mm\": 40.8, \"bill_depth_mm\": 18.9, \"flipper_length_mm\": 208.0, \"body_mass_g\": 4300.0, \"sex\": \"Male\", \"isAdelie_bool\": true, \"isAdelie_float\": 1.0, \"Pred\": 0.6811071363047656, \"Pred2\": 1.0, \"Pred3\": 0.9153138727022034, \"Pred4\": \"Adelie\"}, {\"species\": \"Adelie\", \"island\": \"Dream\", \"bill_length_mm\": 38.1, \"bill_depth_mm\": 18.6, \"flipper_length_mm\": 190.0, \"body_mass_g\": 3700.0, \"sex\": \"Female\", \"isAdelie_bool\": true, \"isAdelie_float\": 1.0, \"Pred\": 0.8863210436144109, \"Pred2\": 1.0, \"Pred3\": 0.9957920443553605, \"Pred4\": \"Adelie\"}, {\"species\": \"Adelie\", \"island\": \"Dream\", \"bill_length_mm\": 40.3, \"bill_depth_mm\": 18.5, \"flipper_length_mm\": 196.0, \"body_mass_g\": 4350.0, \"sex\": \"Male\", \"isAdelie_bool\": true, \"isAdelie_float\": 1.0, \"Pred\": 0.7191097117324778, \"Pred2\": 1.0, \"Pred3\": 0.9503504895675794, \"Pred4\": \"Adelie\"}, {\"species\": \"Adelie\", \"island\": \"Dream\", \"bill_length_mm\": 33.1, \"bill_depth_mm\": 16.1, \"flipper_length_mm\": 178.0, \"body_mass_g\": 2900.0, \"sex\": \"Female\", \"isAdelie_bool\": true, \"isAdelie_float\": 1.0, \"Pred\": 1.2663467978915315, \"Pred2\": 1.0, \"Pred3\": 0.9999860752999905, \"Pred4\": \"Adelie\"}, {\"species\": \"Adelie\", \"island\": \"Dream\", \"bill_length_mm\": 43.2, \"bill_depth_mm\": 18.5, \"flipper_length_mm\": 192.0, \"body_mass_g\": 4100.0, \"sex\": \"Male\", \"isAdelie_bool\": true, \"isAdelie_float\": 1.0, \"Pred\": 0.49869477425174713, \"Pred2\": 0.0, \"Pred3\": 0.41022996722059907, \"Pred4\": \"Gentoo\"}, {\"species\": \"Adelie\", \"island\": \"Biscoe\", \"bill_length_mm\": 35.0, \"bill_depth_mm\": 17.9, \"flipper_length_mm\": 192.0, \"body_mass_g\": 3725.0, \"sex\": \"Female\", \"isAdelie_bool\": true, \"isAdelie_float\": 1.0, \"Pred\": 1.1219370112662257, \"Pred2\": 1.0, \"Pred3\": 0.9998778366686523, \"Pred4\": \"Adelie\"}, {\"species\": \"Adelie\", \"island\": \"Biscoe\", \"bill_length_mm\": 41.0, \"bill_depth_mm\": 20.0, \"flipper_length_mm\": 203.0, \"body_mass_g\": 4725.0, \"sex\": \"Male\", \"isAdelie_bool\": true, \"isAdelie_float\": 1.0, \"Pred\": 0.6659061061336806, \"Pred2\": 1.0, \"Pred3\": 0.8958279392047047, \"Pred4\": \"Adelie\"}, {\"species\": \"Adelie\", \"island\": \"Biscoe\", \"bill_length_mm\": 37.7, \"bill_depth_mm\": 16.0, \"flipper_length_mm\": 183.0, \"body_mass_g\": 3075.0, \"sex\": \"Female\", \"isAdelie_bool\": true, \"isAdelie_float\": 1.0, \"Pred\": 0.9167231039565804, \"Pred2\": 1.0, \"Pred3\": 0.9973320760876062, \"Pred4\": \"Adelie\"}, {\"species\": \"Adelie\", \"island\": \"Biscoe\", \"bill_length_mm\": 37.8, \"bill_depth_mm\": 20.0, \"flipper_length_mm\": 190.0, \"body_mass_g\": 4250.0, \"sex\": \"Male\", \"isAdelie_bool\": true, \"isAdelie_float\": 1.0, \"Pred\": 0.9091225888710381, \"Pred2\": 1.0, \"Pred3\": 0.9970099712342856, \"Pred4\": \"Adelie\"}, {\"species\": \"Adelie\", \"island\": \"Biscoe\", \"bill_length_mm\": 37.9, \"bill_depth_mm\": 18.6, \"flipper_length_mm\": 193.0, \"body_mass_g\": 2925.0, \"sex\": \"Female\", \"isAdelie_bool\": true, \"isAdelie_float\": 1.0, \"Pred\": 0.9015220737854959, \"Pred2\": 1.0, \"Pred3\": 0.9966491085491155, \"Pred4\": \"Adelie\"}, {\"species\": \"Adelie\", \"island\": \"Biscoe\", \"bill_length_mm\": 39.7, \"bill_depth_mm\": 18.9, \"flipper_length_mm\": 184.0, \"body_mass_g\": 3550.0, \"sex\": \"Male\", \"isAdelie_bool\": true, \"isAdelie_float\": 1.0, \"Pred\": 0.7647128022457319, \"Pred2\": 1.0, \"Pred3\": 0.9743611895287353, \"Pred4\": \"Adelie\"}, {\"species\": \"Adelie\", \"island\": \"Biscoe\", \"bill_length_mm\": 38.6, \"bill_depth_mm\": 17.2, \"flipper_length_mm\": 199.0, \"body_mass_g\": 3750.0, \"sex\": \"Female\", \"isAdelie_bool\": true, \"isAdelie_float\": 1.0, \"Pred\": 0.8483184681866986, \"Pred2\": 1.0, \"Pred3\": 0.9925719374173082, \"Pred4\": \"Adelie\"}, {\"species\": \"Adelie\", \"island\": \"Biscoe\", \"bill_length_mm\": 38.2, \"bill_depth_mm\": 20.0, \"flipper_length_mm\": 190.0, \"body_mass_g\": 3900.0, \"sex\": \"Male\", \"isAdelie_bool\": true, \"isAdelie_float\": 1.0, \"Pred\": 0.8787205285288682, \"Pred2\": 1.0, \"Pred3\": 0.9952848868113564, \"Pred4\": \"Adelie\"}, {\"species\": \"Adelie\", \"island\": \"Biscoe\", \"bill_length_mm\": 38.1, \"bill_depth_mm\": 17.0, \"flipper_length_mm\": 181.0, \"body_mass_g\": 3175.0, \"sex\": \"Female\", \"isAdelie_bool\": true, \"isAdelie_float\": 1.0, \"Pred\": 0.8863210436144109, \"Pred2\": 1.0, \"Pred3\": 0.9957920443553605, \"Pred4\": \"Adelie\"}, {\"species\": \"Adelie\", \"island\": \"Biscoe\", \"bill_length_mm\": 43.2, \"bill_depth_mm\": 19.0, \"flipper_length_mm\": 197.0, \"body_mass_g\": 4775.0, \"sex\": \"Male\", \"isAdelie_bool\": true, \"isAdelie_float\": 1.0, \"Pred\": 0.49869477425174713, \"Pred2\": 0.0, \"Pred3\": 0.41022996722059907, \"Pred4\": \"Gentoo\"}, {\"species\": \"Adelie\", \"island\": \"Biscoe\", \"bill_length_mm\": 38.1, \"bill_depth_mm\": 16.5, \"flipper_length_mm\": 198.0, \"body_mass_g\": 3825.0, \"sex\": \"Female\", \"isAdelie_bool\": true, \"isAdelie_float\": 1.0, \"Pred\": 0.8863210436144109, \"Pred2\": 1.0, \"Pred3\": 0.9957920443553605, \"Pred4\": \"Adelie\"}, {\"species\": \"Adelie\", \"island\": \"Biscoe\", \"bill_length_mm\": 45.6, \"bill_depth_mm\": 20.3, \"flipper_length_mm\": 191.0, \"body_mass_g\": 4600.0, \"sex\": \"Male\", \"isAdelie_bool\": true, \"isAdelie_float\": 1.0, \"Pred\": 0.31628241219872955, \"Pred2\": 0.0, \"Pred3\": 0.04284629509945916, \"Pred4\": \"Gentoo\"}, {\"species\": \"Adelie\", \"island\": \"Biscoe\", \"bill_length_mm\": 39.7, \"bill_depth_mm\": 17.7, \"flipper_length_mm\": 193.0, \"body_mass_g\": 3200.0, \"sex\": \"Female\", \"isAdelie_bool\": true, \"isAdelie_float\": 1.0, \"Pred\": 0.7647128022457319, \"Pred2\": 1.0, \"Pred3\": 0.9743611895287353, \"Pred4\": \"Adelie\"}, {\"species\": \"Adelie\", \"island\": \"Biscoe\", \"bill_length_mm\": 42.2, \"bill_depth_mm\": 19.5, \"flipper_length_mm\": 197.0, \"body_mass_g\": 4275.0, \"sex\": \"Male\", \"isAdelie_bool\": true, \"isAdelie_float\": 1.0, \"Pred\": 0.5746999251071716, \"Pred2\": 1.0, \"Pred3\": 0.6856886029479479, \"Pred4\": \"Adelie\"}, {\"species\": \"Adelie\", \"island\": \"Biscoe\", \"bill_length_mm\": 39.6, \"bill_depth_mm\": 20.7, \"flipper_length_mm\": 191.0, \"body_mass_g\": 3900.0, \"sex\": \"Female\", \"isAdelie_bool\": true, \"isAdelie_float\": 1.0, \"Pred\": 0.7723133173312746, \"Pred2\": 1.0, \"Pred3\": 0.9770670434800949, \"Pred4\": \"Adelie\"}, {\"species\": \"Adelie\", \"island\": \"Biscoe\", \"bill_length_mm\": 42.7, \"bill_depth_mm\": 18.3, \"flipper_length_mm\": 196.0, \"body_mass_g\": 4075.0, \"sex\": \"Male\", \"isAdelie_bool\": true, \"isAdelie_float\": 1.0, \"Pred\": 0.5366973496794594, \"Pred2\": 1.0, \"Pred3\": 0.551940026586306, \"Pred4\": \"Adelie\"}, {\"species\": \"Adelie\", \"island\": \"Torgersen\", \"bill_length_mm\": 38.6, \"bill_depth_mm\": 17.0, \"flipper_length_mm\": 188.0, \"body_mass_g\": 2900.0, \"sex\": \"Female\", \"isAdelie_bool\": true, \"isAdelie_float\": 1.0, \"Pred\": 0.8483184681866986, \"Pred2\": 1.0, \"Pred3\": 0.9925719374173082, \"Pred4\": \"Adelie\"}, {\"species\": \"Adelie\", \"island\": \"Torgersen\", \"bill_length_mm\": 37.3, \"bill_depth_mm\": 20.5, \"flipper_length_mm\": 199.0, \"body_mass_g\": 3775.0, \"sex\": \"Male\", \"isAdelie_bool\": true, \"isAdelie_float\": 1.0, \"Pred\": 0.9471251642987504, \"Pred2\": 1.0, \"Pred3\": 0.9983094423591191, \"Pred4\": \"Adelie\"}, {\"species\": \"Adelie\", \"island\": \"Torgersen\", \"bill_length_mm\": 35.7, \"bill_depth_mm\": 17.0, \"flipper_length_mm\": 189.0, \"body_mass_g\": 3350.0, \"sex\": \"Female\", \"isAdelie_bool\": true, \"isAdelie_float\": 1.0, \"Pred\": 1.0687334056674285, \"Pred2\": 1.0, \"Pred3\": 0.9997281237194964, \"Pred4\": \"Adelie\"}, {\"species\": \"Adelie\", \"island\": \"Torgersen\", \"bill_length_mm\": 41.1, \"bill_depth_mm\": 18.6, \"flipper_length_mm\": 189.0, \"body_mass_g\": 3325.0, \"sex\": \"Male\", \"isAdelie_bool\": true, \"isAdelie_float\": 1.0, \"Pred\": 0.6583055910481383, \"Pred2\": 1.0, \"Pred3\": 0.8846681504164191, \"Pred4\": \"Adelie\"}, {\"species\": \"Adelie\", \"island\": \"Torgersen\", \"bill_length_mm\": 36.2, \"bill_depth_mm\": 17.2, \"flipper_length_mm\": 187.0, \"body_mass_g\": 3150.0, \"sex\": \"Female\", \"isAdelie_bool\": true, \"isAdelie_float\": 1.0, \"Pred\": 1.0307308302397167, \"Pred2\": 1.0, \"Pred3\": 0.9995186163249092, \"Pred4\": \"Adelie\"}, {\"species\": \"Adelie\", \"island\": \"Torgersen\", \"bill_length_mm\": 37.7, \"bill_depth_mm\": 19.8, \"flipper_length_mm\": 198.0, \"body_mass_g\": 3500.0, \"sex\": \"Male\", \"isAdelie_bool\": true, \"isAdelie_float\": 1.0, \"Pred\": 0.9167231039565804, \"Pred2\": 1.0, \"Pred3\": 0.9973320760876062, \"Pred4\": \"Adelie\"}, {\"species\": \"Adelie\", \"island\": \"Torgersen\", \"bill_length_mm\": 40.2, \"bill_depth_mm\": 17.0, \"flipper_length_mm\": 176.0, \"body_mass_g\": 3450.0, \"sex\": \"Female\", \"isAdelie_bool\": true, \"isAdelie_float\": 1.0, \"Pred\": 0.7267102268180197, \"Pred2\": 1.0, \"Pred3\": 0.9554745733234877, \"Pred4\": \"Adelie\"}, {\"species\": \"Adelie\", \"island\": \"Torgersen\", \"bill_length_mm\": 41.4, \"bill_depth_mm\": 18.5, \"flipper_length_mm\": 202.0, \"body_mass_g\": 3875.0, \"sex\": \"Male\", \"isAdelie_bool\": true, \"isAdelie_float\": 1.0, \"Pred\": 0.6355040457915111, \"Pred2\": 1.0, \"Pred3\": 0.8448127731129318, \"Pred4\": \"Adelie\"}, {\"species\": \"Adelie\", \"island\": \"Torgersen\", \"bill_length_mm\": 35.2, \"bill_depth_mm\": 15.9, \"flipper_length_mm\": 186.0, \"body_mass_g\": 3050.0, \"sex\": \"Female\", \"isAdelie_bool\": true, \"isAdelie_float\": 1.0, \"Pred\": 1.1067359810951407, \"Pred2\": 1.0, \"Pred3\": 0.9998464634900441, \"Pred4\": \"Adelie\"}, {\"species\": \"Adelie\", \"island\": \"Torgersen\", \"bill_length_mm\": 40.6, \"bill_depth_mm\": 19.0, \"flipper_length_mm\": 199.0, \"body_mass_g\": 4000.0, \"sex\": \"Male\", \"isAdelie_bool\": true, \"isAdelie_float\": 1.0, \"Pred\": 0.6963081664758501, \"Pred2\": 1.0, \"Pred3\": 0.9314338416802556, \"Pred4\": \"Adelie\"}, {\"species\": \"Adelie\", \"island\": \"Torgersen\", \"bill_length_mm\": 38.8, \"bill_depth_mm\": 17.6, \"flipper_length_mm\": 191.0, \"body_mass_g\": 3275.0, \"sex\": \"Female\", \"isAdelie_bool\": true, \"isAdelie_float\": 1.0, \"Pred\": 0.8331174380156141, \"Pred2\": 1.0, \"Pred3\": 0.9906817969635933, \"Pred4\": \"Adelie\"}, {\"species\": \"Adelie\", \"island\": \"Torgersen\", \"bill_length_mm\": 41.5, \"bill_depth_mm\": 18.3, \"flipper_length_mm\": 195.0, \"body_mass_g\": 4300.0, \"sex\": \"Male\", \"isAdelie_bool\": true, \"isAdelie_float\": 1.0, \"Pred\": 0.6279035307059688, \"Pred2\": 1.0, \"Pred3\": 0.8292296281494548, \"Pred4\": \"Adelie\"}, {\"species\": \"Adelie\", \"island\": \"Torgersen\", \"bill_length_mm\": 39.0, \"bill_depth_mm\": 17.1, \"flipper_length_mm\": 191.0, \"body_mass_g\": 3050.0, \"sex\": \"Female\", \"isAdelie_bool\": true, \"isAdelie_float\": 1.0, \"Pred\": 0.8179164078445291, \"Pred2\": 1.0, \"Pred3\": 0.9883163539444552, \"Pred4\": \"Adelie\"}, {\"species\": \"Adelie\", \"island\": \"Torgersen\", \"bill_length_mm\": 44.1, \"bill_depth_mm\": 18.0, \"flipper_length_mm\": 210.0, \"body_mass_g\": 4000.0, \"sex\": \"Male\", \"isAdelie_bool\": true, \"isAdelie_float\": 1.0, \"Pred\": 0.4302901384818658, \"Pred2\": 0.0, \"Pred3\": 0.1991263659602371, \"Pred4\": \"Gentoo\"}, {\"species\": \"Adelie\", \"island\": \"Torgersen\", \"bill_length_mm\": 38.5, \"bill_depth_mm\": 17.9, \"flipper_length_mm\": 190.0, \"body_mass_g\": 3325.0, \"sex\": \"Female\", \"isAdelie_bool\": true, \"isAdelie_float\": 1.0, \"Pred\": 0.8559189832722409, \"Pred2\": 1.0, \"Pred3\": 0.9933689556430207, \"Pred4\": \"Adelie\"}, {\"species\": \"Adelie\", \"island\": \"Torgersen\", \"bill_length_mm\": 43.1, \"bill_depth_mm\": 19.2, \"flipper_length_mm\": 197.0, \"body_mass_g\": 3500.0, \"sex\": \"Male\", \"isAdelie_bool\": true, \"isAdelie_float\": 1.0, \"Pred\": 0.5062952893372898, \"Pred2\": 0.0, \"Pred3\": 0.43814119253583245, \"Pred4\": \"Adelie\"}, {\"species\": \"Adelie\", \"island\": \"Dream\", \"bill_length_mm\": 36.8, \"bill_depth_mm\": 18.5, \"flipper_length_mm\": 193.0, \"body_mass_g\": 3500.0, \"sex\": \"Female\", \"isAdelie_bool\": true, \"isAdelie_float\": 1.0, \"Pred\": 0.9851277397264626, \"Pred2\": 1.0, \"Pred3\": 0.99904470244816, \"Pred4\": \"Adelie\"}, {\"species\": \"Adelie\", \"island\": \"Dream\", \"bill_length_mm\": 37.5, \"bill_depth_mm\": 18.5, \"flipper_length_mm\": 199.0, \"body_mass_g\": 4475.0, \"sex\": \"Male\", \"isAdelie_bool\": true, \"isAdelie_float\": 1.0, \"Pred\": 0.9319241341276654, \"Pred2\": 1.0, \"Pred3\": 0.9978761400920438, \"Pred4\": \"Adelie\"}, {\"species\": \"Adelie\", \"island\": \"Dream\", \"bill_length_mm\": 38.1, \"bill_depth_mm\": 17.6, \"flipper_length_mm\": 187.0, \"body_mass_g\": 3425.0, \"sex\": \"Female\", \"isAdelie_bool\": true, \"isAdelie_float\": 1.0, \"Pred\": 0.8863210436144109, \"Pred2\": 1.0, \"Pred3\": 0.9957920443553605, \"Pred4\": \"Adelie\"}, {\"species\": \"Adelie\", \"island\": \"Dream\", \"bill_length_mm\": 41.1, \"bill_depth_mm\": 17.5, \"flipper_length_mm\": 190.0, \"body_mass_g\": 3900.0, \"sex\": \"Male\", \"isAdelie_bool\": true, \"isAdelie_float\": 1.0, \"Pred\": 0.6583055910481383, \"Pred2\": 1.0, \"Pred3\": 0.8846681504164191, \"Pred4\": \"Adelie\"}, {\"species\": \"Adelie\", \"island\": \"Dream\", \"bill_length_mm\": 35.6, \"bill_depth_mm\": 17.5, \"flipper_length_mm\": 191.0, \"body_mass_g\": 3175.0, \"sex\": \"Female\", \"isAdelie_bool\": true, \"isAdelie_float\": 1.0, \"Pred\": 1.0763339207529712, \"Pred2\": 1.0, \"Pred3\": 0.9997574831818584, \"Pred4\": \"Adelie\"}, {\"species\": \"Adelie\", \"island\": \"Dream\", \"bill_length_mm\": 40.2, \"bill_depth_mm\": 20.1, \"flipper_length_mm\": 200.0, \"body_mass_g\": 3975.0, \"sex\": \"Male\", \"isAdelie_bool\": true, \"isAdelie_float\": 1.0, \"Pred\": 0.7267102268180197, \"Pred2\": 1.0, \"Pred3\": 0.9554745733234877, \"Pred4\": \"Adelie\"}, {\"species\": \"Adelie\", \"island\": \"Dream\", \"bill_length_mm\": 37.0, \"bill_depth_mm\": 16.5, \"flipper_length_mm\": 185.0, \"body_mass_g\": 3400.0, \"sex\": \"Female\", \"isAdelie_bool\": true, \"isAdelie_float\": 1.0, \"Pred\": 0.9699267095553772, \"Pred2\": 1.0, \"Pred3\": 0.9987996261138858, \"Pred4\": \"Adelie\"}, {\"species\": \"Adelie\", \"island\": \"Dream\", \"bill_length_mm\": 39.7, \"bill_depth_mm\": 17.9, \"flipper_length_mm\": 193.0, \"body_mass_g\": 4250.0, \"sex\": \"Male\", \"isAdelie_bool\": true, \"isAdelie_float\": 1.0, \"Pred\": 0.7647128022457319, \"Pred2\": 1.0, \"Pred3\": 0.9743611895287353, \"Pred4\": \"Adelie\"}, {\"species\": \"Adelie\", \"island\": \"Dream\", \"bill_length_mm\": 40.2, \"bill_depth_mm\": 17.1, \"flipper_length_mm\": 193.0, \"body_mass_g\": 3400.0, \"sex\": \"Female\", \"isAdelie_bool\": true, \"isAdelie_float\": 1.0, \"Pred\": 0.7267102268180197, \"Pred2\": 1.0, \"Pred3\": 0.9554745733234877, \"Pred4\": \"Adelie\"}, {\"species\": \"Adelie\", \"island\": \"Dream\", \"bill_length_mm\": 40.6, \"bill_depth_mm\": 17.2, \"flipper_length_mm\": 187.0, \"body_mass_g\": 3475.0, \"sex\": \"Male\", \"isAdelie_bool\": true, \"isAdelie_float\": 1.0, \"Pred\": 0.6963081664758501, \"Pred2\": 1.0, \"Pred3\": 0.9314338416802556, \"Pred4\": \"Adelie\"}, {\"species\": \"Adelie\", \"island\": \"Dream\", \"bill_length_mm\": 32.1, \"bill_depth_mm\": 15.5, \"flipper_length_mm\": 188.0, \"body_mass_g\": 3050.0, \"sex\": \"Female\", \"isAdelie_bool\": true, \"isAdelie_float\": 1.0, \"Pred\": 1.3423519487469555, \"Pred2\": 1.0, \"Pred3\": 0.9999955601546219, \"Pred4\": \"Adelie\"}, {\"species\": \"Adelie\", \"island\": \"Dream\", \"bill_length_mm\": 40.7, \"bill_depth_mm\": 17.0, \"flipper_length_mm\": 190.0, \"body_mass_g\": 3725.0, \"sex\": \"Male\", \"isAdelie_bool\": true, \"isAdelie_float\": 1.0, \"Pred\": 0.6887076513903079, \"Pred2\": 1.0, \"Pred3\": 0.9237638462455946, \"Pred4\": \"Adelie\"}, {\"species\": \"Adelie\", \"island\": \"Dream\", \"bill_length_mm\": 37.3, \"bill_depth_mm\": 16.8, \"flipper_length_mm\": 192.0, \"body_mass_g\": 3000.0, \"sex\": \"Female\", \"isAdelie_bool\": true, \"isAdelie_float\": 1.0, \"Pred\": 0.9471251642987504, \"Pred2\": 1.0, \"Pred3\": 0.9983094423591191, \"Pred4\": \"Adelie\"}, {\"species\": \"Adelie\", \"island\": \"Dream\", \"bill_length_mm\": 39.0, \"bill_depth_mm\": 18.7, \"flipper_length_mm\": 185.0, \"body_mass_g\": 3650.0, \"sex\": \"Male\", \"isAdelie_bool\": true, \"isAdelie_float\": 1.0, \"Pred\": 0.8179164078445291, \"Pred2\": 1.0, \"Pred3\": 0.9883163539444552, \"Pred4\": \"Adelie\"}, {\"species\": \"Adelie\", \"island\": \"Dream\", \"bill_length_mm\": 39.2, \"bill_depth_mm\": 18.6, \"flipper_length_mm\": 190.0, \"body_mass_g\": 4250.0, \"sex\": \"Male\", \"isAdelie_bool\": true, \"isAdelie_float\": 1.0, \"Pred\": 0.8027153776734441, \"Pred2\": 1.0, \"Pred3\": 0.9853593128677397, \"Pred4\": \"Adelie\"}, {\"species\": \"Adelie\", \"island\": \"Dream\", \"bill_length_mm\": 36.6, \"bill_depth_mm\": 18.4, \"flipper_length_mm\": 184.0, \"body_mass_g\": 3475.0, \"sex\": \"Female\", \"isAdelie_bool\": true, \"isAdelie_float\": 1.0, \"Pred\": 1.0003287698975472, \"Pred2\": 1.0, \"Pred3\": 0.9992397804487299, \"Pred4\": \"Adelie\"}, {\"species\": \"Adelie\", \"island\": \"Dream\", \"bill_length_mm\": 36.0, \"bill_depth_mm\": 17.8, \"flipper_length_mm\": 195.0, \"body_mass_g\": 3450.0, \"sex\": \"Female\", \"isAdelie_bool\": true, \"isAdelie_float\": 1.0, \"Pred\": 1.0459318604108017, \"Pred2\": 1.0, \"Pred3\": 0.9996169551211195, \"Pred4\": \"Adelie\"}, {\"species\": \"Adelie\", \"island\": \"Dream\", \"bill_length_mm\": 37.8, \"bill_depth_mm\": 18.1, \"flipper_length_mm\": 193.0, \"body_mass_g\": 3750.0, \"sex\": \"Male\", \"isAdelie_bool\": true, \"isAdelie_float\": 1.0, \"Pred\": 0.9091225888710381, \"Pred2\": 1.0, \"Pred3\": 0.9970099712342856, \"Pred4\": \"Adelie\"}, {\"species\": \"Adelie\", \"island\": \"Dream\", \"bill_length_mm\": 36.0, \"bill_depth_mm\": 17.1, \"flipper_length_mm\": 187.0, \"body_mass_g\": 3700.0, \"sex\": \"Female\", \"isAdelie_bool\": true, \"isAdelie_float\": 1.0, \"Pred\": 1.0459318604108017, \"Pred2\": 1.0, \"Pred3\": 0.9996169551211195, \"Pred4\": \"Adelie\"}, {\"species\": \"Adelie\", \"island\": \"Dream\", \"bill_length_mm\": 41.5, \"bill_depth_mm\": 18.5, \"flipper_length_mm\": 201.0, \"body_mass_g\": 4000.0, \"sex\": \"Male\", \"isAdelie_bool\": true, \"isAdelie_float\": 1.0, \"Pred\": 0.6279035307059688, \"Pred2\": 1.0, \"Pred3\": 0.8292296281494548, \"Pred4\": \"Adelie\"}, {\"species\": \"Chinstrap\", \"island\": \"Dream\", \"bill_length_mm\": 46.5, \"bill_depth_mm\": 17.9, \"flipper_length_mm\": 192.0, \"body_mass_g\": 3500.0, \"sex\": \"Female\", \"isAdelie_bool\": false, \"isAdelie_float\": 0.0, \"Pred\": 0.24787777642884778, \"Pred2\": 0.0, \"Pred3\": 0.01574916284796909, \"Pred4\": \"Gentoo\"}, {\"species\": \"Chinstrap\", \"island\": \"Dream\", \"bill_length_mm\": 50.0, \"bill_depth_mm\": 19.5, \"flipper_length_mm\": 196.0, \"body_mass_g\": 3900.0, \"sex\": \"Male\", \"isAdelie_bool\": false, \"isAdelie_float\": 0.0, \"Pred\": -0.01814025156513699, \"Pred2\": 0.0, \"Pred3\": 0.0002927838272771071, \"Pred4\": \"Gentoo\"}, {\"species\": \"Chinstrap\", \"island\": \"Dream\", \"bill_length_mm\": 51.3, \"bill_depth_mm\": 19.2, \"flipper_length_mm\": 193.0, \"body_mass_g\": 3650.0, \"sex\": \"Male\", \"isAdelie_bool\": false, \"isAdelie_float\": 0.0, \"Pred\": -0.11694694767718783, \"Pred2\": 0.0, \"Pred3\": 6.626690979576457e-05, \"Pred4\": \"Gentoo\"}, {\"species\": \"Chinstrap\", \"island\": \"Dream\", \"bill_length_mm\": 45.4, \"bill_depth_mm\": 18.7, \"flipper_length_mm\": 188.0, \"body_mass_g\": 3525.0, \"sex\": \"Female\", \"isAdelie_bool\": false, \"isAdelie_float\": 0.0, \"Pred\": 0.33148344236981453, \"Pred2\": 0.0, \"Pred3\": 0.05326529210998473, \"Pred4\": \"Gentoo\"}, {\"species\": \"Chinstrap\", \"island\": \"Dream\", \"bill_length_mm\": 52.7, \"bill_depth_mm\": 19.8, \"flipper_length_mm\": 197.0, \"body_mass_g\": 3725.0, \"sex\": \"Male\", \"isAdelie_bool\": false, \"isAdelie_float\": 0.0, \"Pred\": -0.22335415887478272, \"Pred2\": 0.0, \"Pred3\": 1.3376075769084781e-05, \"Pred4\": \"Gentoo\"}, {\"species\": \"Chinstrap\", \"island\": \"Dream\", \"bill_length_mm\": 45.2, \"bill_depth_mm\": 17.8, \"flipper_length_mm\": 198.0, \"body_mass_g\": 3950.0, \"sex\": \"Female\", \"isAdelie_bool\": false, \"isAdelie_float\": 0.0, \"Pred\": 0.34668447254089907, \"Pred2\": 0.0, \"Pred3\": 0.06604307485120653, \"Pred4\": \"Gentoo\"}, {\"species\": \"Chinstrap\", \"island\": \"Dream\", \"bill_length_mm\": 46.1, \"bill_depth_mm\": 18.2, \"flipper_length_mm\": 178.0, \"body_mass_g\": 3250.0, \"sex\": \"Female\", \"isAdelie_bool\": false, \"isAdelie_float\": 0.0, \"Pred\": 0.2782798367710173, \"Pred2\": 0.0, \"Pred3\": 0.02465354846806967, \"Pred4\": \"Gentoo\"}, {\"species\": \"Chinstrap\", \"island\": \"Dream\", \"bill_length_mm\": 51.3, \"bill_depth_mm\": 18.2, \"flipper_length_mm\": 197.0, \"body_mass_g\": 3750.0, \"sex\": \"Male\", \"isAdelie_bool\": false, \"isAdelie_float\": 0.0, \"Pred\": -0.11694694767718783, \"Pred2\": 0.0, \"Pred3\": 6.626690979576457e-05, \"Pred4\": \"Gentoo\"}, {\"species\": \"Chinstrap\", \"island\": \"Dream\", \"bill_length_mm\": 46.0, \"bill_depth_mm\": 18.9, \"flipper_length_mm\": 195.0, \"body_mass_g\": 4150.0, \"sex\": \"Female\", \"isAdelie_bool\": false, \"isAdelie_float\": 0.0, \"Pred\": 0.28588035185656, \"Pred2\": 0.0, \"Pred3\": 0.027556688993271117, \"Pred4\": \"Gentoo\"}, {\"species\": \"Chinstrap\", \"island\": \"Dream\", \"bill_length_mm\": 51.3, \"bill_depth_mm\": 19.9, \"flipper_length_mm\": 198.0, \"body_mass_g\": 3700.0, \"sex\": \"Male\", \"isAdelie_bool\": false, \"isAdelie_float\": 0.0, \"Pred\": -0.11694694767718783, \"Pred2\": 0.0, \"Pred3\": 6.626690979576457e-05, \"Pred4\": \"Gentoo\"}, {\"species\": \"Chinstrap\", \"island\": \"Dream\", \"bill_length_mm\": 46.6, \"bill_depth_mm\": 17.8, \"flipper_length_mm\": 193.0, \"body_mass_g\": 3800.0, \"sex\": \"Female\", \"isAdelie_bool\": false, \"isAdelie_float\": 0.0, \"Pred\": 0.24027726134330507, \"Pred2\": 0.0, \"Pred3\": 0.014071963033594028, \"Pred4\": \"Gentoo\"}, {\"species\": \"Chinstrap\", \"island\": \"Dream\", \"bill_length_mm\": 51.7, \"bill_depth_mm\": 20.3, \"flipper_length_mm\": 194.0, \"body_mass_g\": 3775.0, \"sex\": \"Male\", \"isAdelie_bool\": false, \"isAdelie_float\": 0.0, \"Pred\": -0.14734900801935824, \"Pred2\": 0.0, \"Pred3\": 4.195062458732313e-05, \"Pred4\": \"Gentoo\"}, {\"species\": \"Chinstrap\", \"island\": \"Dream\", \"bill_length_mm\": 47.0, \"bill_depth_mm\": 17.3, \"flipper_length_mm\": 185.0, \"body_mass_g\": 3700.0, \"sex\": \"Female\", \"isAdelie_bool\": false, \"isAdelie_float\": 0.0, \"Pred\": 0.20987520100113555, \"Pred2\": 0.0, \"Pred3\": 0.008954354375333755, \"Pred4\": \"Gentoo\"}, {\"species\": \"Chinstrap\", \"island\": \"Dream\", \"bill_length_mm\": 52.0, \"bill_depth_mm\": 18.1, \"flipper_length_mm\": 201.0, \"body_mass_g\": 4050.0, \"sex\": \"Male\", \"isAdelie_bool\": false, \"isAdelie_float\": 0.0, \"Pred\": -0.17015055327598505, \"Pred2\": 0.0, \"Pred3\": 2.977262202580612e-05, \"Pred4\": \"Gentoo\"}, {\"species\": \"Chinstrap\", \"island\": \"Dream\", \"bill_length_mm\": 45.9, \"bill_depth_mm\": 17.1, \"flipper_length_mm\": 190.0, \"body_mass_g\": 3575.0, \"sex\": \"Female\", \"isAdelie_bool\": false, \"isAdelie_float\": 0.0, \"Pred\": 0.2934808669421023, \"Pred2\": 0.0, \"Pred3\": 0.03079090366921134, \"Pred4\": \"Gentoo\"}, {\"species\": \"Chinstrap\", \"island\": \"Dream\", \"bill_length_mm\": 50.5, \"bill_depth_mm\": 19.6, \"flipper_length_mm\": 201.0, \"body_mass_g\": 4050.0, \"sex\": \"Male\", \"isAdelie_bool\": false, \"isAdelie_float\": 0.0, \"Pred\": -0.05614282699284878, \"Pred2\": 0.0, \"Pred3\": 0.0001653451199774668, \"Pred4\": \"Gentoo\"}, {\"species\": \"Chinstrap\", \"island\": \"Dream\", \"bill_length_mm\": 50.3, \"bill_depth_mm\": 20.0, \"flipper_length_mm\": 197.0, \"body_mass_g\": 3300.0, \"sex\": \"Male\", \"isAdelie_bool\": false, \"isAdelie_float\": 0.0, \"Pred\": -0.0409417968217638, \"Pred2\": 0.0, \"Pred3\": 0.00020780565510473248, \"Pred4\": \"Gentoo\"}, {\"species\": \"Chinstrap\", \"island\": \"Dream\", \"bill_length_mm\": 58.0, \"bill_depth_mm\": 17.8, \"flipper_length_mm\": 181.0, \"body_mass_g\": 3700.0, \"sex\": \"Female\", \"isAdelie_bool\": false, \"isAdelie_float\": 0.0, \"Pred\": -0.6261814584085301, \"Pred2\": 0.0, \"Pred3\": 3.1282198925990816e-08, \"Pred4\": \"Chinstrap\"}, {\"species\": \"Chinstrap\", \"island\": \"Dream\", \"bill_length_mm\": 46.4, \"bill_depth_mm\": 18.6, \"flipper_length_mm\": 190.0, \"body_mass_g\": 3450.0, \"sex\": \"Female\", \"isAdelie_bool\": false, \"isAdelie_float\": 0.0, \"Pred\": 0.2554782915143905, \"Pred2\": 0.0, \"Pred3\": 0.017622690570218605, \"Pred4\": \"Gentoo\"}, {\"species\": \"Chinstrap\", \"island\": \"Dream\", \"bill_length_mm\": 49.2, \"bill_depth_mm\": 18.2, \"flipper_length_mm\": 195.0, \"body_mass_g\": 4400.0, \"sex\": \"Male\", \"isAdelie_bool\": false, \"isAdelie_float\": 0.0, \"Pred\": 0.0426638691192025, \"Pred2\": 0.0, \"Pred3\": 0.000730288862396197, \"Pred4\": \"Gentoo\"}, {\"species\": \"Chinstrap\", \"island\": \"Dream\", \"bill_length_mm\": 42.4, \"bill_depth_mm\": 17.3, \"flipper_length_mm\": 181.0, \"body_mass_g\": 3600.0, \"sex\": \"Female\", \"isAdelie_bool\": false, \"isAdelie_float\": 0.0, \"Pred\": 0.5594988949360871, \"Pred2\": 1.0, \"Pred3\": 0.6344669626804788, \"Pred4\": \"Adelie\"}, {\"species\": \"Chinstrap\", \"island\": \"Dream\", \"bill_length_mm\": 48.5, \"bill_depth_mm\": 17.5, \"flipper_length_mm\": 191.0, \"body_mass_g\": 3400.0, \"sex\": \"Male\", \"isAdelie_bool\": false, \"isAdelie_float\": 0.0, \"Pred\": 0.09586747471799928, \"Pred2\": 0.0, \"Pred3\": 0.0016240580391346248, \"Pred4\": \"Gentoo\"}, {\"species\": \"Chinstrap\", \"island\": \"Dream\", \"bill_length_mm\": 43.2, \"bill_depth_mm\": 16.6, \"flipper_length_mm\": 187.0, \"body_mass_g\": 2900.0, \"sex\": \"Female\", \"isAdelie_bool\": false, \"isAdelie_float\": 0.0, \"Pred\": 0.49869477425174713, \"Pred2\": 0.0, \"Pred3\": 0.41022996722059907, \"Pred4\": \"Gentoo\"}, {\"species\": \"Chinstrap\", \"island\": \"Dream\", \"bill_length_mm\": 50.6, \"bill_depth_mm\": 19.4, \"flipper_length_mm\": 193.0, \"body_mass_g\": 3800.0, \"sex\": \"Male\", \"isAdelie_bool\": false, \"isAdelie_float\": 0.0, \"Pred\": -0.0637433420783915, \"Pred2\": 0.0, \"Pred3\": 0.00014748808132269376, \"Pred4\": \"Gentoo\"}, {\"species\": \"Chinstrap\", \"island\": \"Dream\", \"bill_length_mm\": 46.7, \"bill_depth_mm\": 17.9, \"flipper_length_mm\": 195.0, \"body_mass_g\": 3300.0, \"sex\": \"Female\", \"isAdelie_bool\": false, \"isAdelie_float\": 0.0, \"Pred\": 0.2326767462577628, \"Pred2\": 0.0, \"Pred3\": 0.012571094553401291, \"Pred4\": \"Gentoo\"}, {\"species\": \"Chinstrap\", \"island\": \"Dream\", \"bill_length_mm\": 52.0, \"bill_depth_mm\": 19.0, \"flipper_length_mm\": 197.0, \"body_mass_g\": 4150.0, \"sex\": \"Male\", \"isAdelie_bool\": false, \"isAdelie_float\": 0.0, \"Pred\": -0.17015055327598505, \"Pred2\": 0.0, \"Pred3\": 2.977262202580612e-05, \"Pred4\": \"Gentoo\"}, {\"species\": \"Chinstrap\", \"island\": \"Dream\", \"bill_length_mm\": 50.5, \"bill_depth_mm\": 18.4, \"flipper_length_mm\": 200.0, \"body_mass_g\": 3400.0, \"sex\": \"Female\", \"isAdelie_bool\": false, \"isAdelie_float\": 0.0, \"Pred\": -0.05614282699284878, \"Pred2\": 0.0, \"Pred3\": 0.0001653451199774668, \"Pred4\": \"Gentoo\"}, {\"species\": \"Chinstrap\", \"island\": \"Dream\", \"bill_length_mm\": 49.5, \"bill_depth_mm\": 19.0, \"flipper_length_mm\": 200.0, \"body_mass_g\": 3800.0, \"sex\": \"Male\", \"isAdelie_bool\": false, \"isAdelie_float\": 0.0, \"Pred\": 0.01986232386257525, \"Pred2\": 0.0, \"Pred3\": 0.0005183941871964155, \"Pred4\": \"Gentoo\"}, {\"species\": \"Chinstrap\", \"island\": \"Dream\", \"bill_length_mm\": 46.4, \"bill_depth_mm\": 17.8, \"flipper_length_mm\": 191.0, \"body_mass_g\": 3700.0, \"sex\": \"Female\", \"isAdelie_bool\": false, \"isAdelie_float\": 0.0, \"Pred\": 0.2554782915143905, \"Pred2\": 0.0, \"Pred3\": 0.017622690570218605, \"Pred4\": \"Gentoo\"}, {\"species\": \"Chinstrap\", \"island\": \"Dream\", \"bill_length_mm\": 52.8, \"bill_depth_mm\": 20.0, \"flipper_length_mm\": 205.0, \"body_mass_g\": 4550.0, \"sex\": \"Male\", \"isAdelie_bool\": false, \"isAdelie_float\": 0.0, \"Pred\": -0.2309546739603241, \"Pred2\": 0.0, \"Pred3\": 1.193128268676989e-05, \"Pred4\": \"Chinstrap\"}, {\"species\": \"Chinstrap\", \"island\": \"Dream\", \"bill_length_mm\": 40.9, \"bill_depth_mm\": 16.6, \"flipper_length_mm\": 187.0, \"body_mass_g\": 3200.0, \"sex\": \"Female\", \"isAdelie_bool\": false, \"isAdelie_float\": 0.0, \"Pred\": 0.6735066212192233, \"Pred2\": 1.0, \"Pred3\": 0.9060225910165011, \"Pred4\": \"Adelie\"}, {\"species\": \"Chinstrap\", \"island\": \"Dream\", \"bill_length_mm\": 54.2, \"bill_depth_mm\": 20.8, \"flipper_length_mm\": 201.0, \"body_mass_g\": 4300.0, \"sex\": \"Male\", \"isAdelie_bool\": false, \"isAdelie_float\": 0.0, \"Pred\": -0.33736188515791854, \"Pred2\": 0.0, \"Pred3\": 2.4082429726804204e-06, \"Pred4\": \"Chinstrap\"}, {\"species\": \"Chinstrap\", \"island\": \"Dream\", \"bill_length_mm\": 42.5, \"bill_depth_mm\": 16.7, \"flipper_length_mm\": 187.0, \"body_mass_g\": 3350.0, \"sex\": \"Female\", \"isAdelie_bool\": false, \"isAdelie_float\": 0.0, \"Pred\": 0.5518983798505444, \"Pred2\": 1.0, \"Pred3\": 0.6075733184170551, \"Pred4\": \"Adelie\"}, {\"species\": \"Chinstrap\", \"island\": \"Dream\", \"bill_length_mm\": 51.0, \"bill_depth_mm\": 18.8, \"flipper_length_mm\": 203.0, \"body_mass_g\": 4100.0, \"sex\": \"Male\", \"isAdelie_bool\": false, \"isAdelie_float\": 0.0, \"Pred\": -0.09414540242056102, \"Pred2\": 0.0, \"Pred3\": 9.337090818393463e-05, \"Pred4\": \"Gentoo\"}, {\"species\": \"Chinstrap\", \"island\": \"Dream\", \"bill_length_mm\": 49.7, \"bill_depth_mm\": 18.6, \"flipper_length_mm\": 195.0, \"body_mass_g\": 3600.0, \"sex\": \"Male\", \"isAdelie_bool\": false, \"isAdelie_float\": 0.0, \"Pred\": 0.004661293691490265, \"Pred2\": 0.0, \"Pred3\": 0.0004124978701183858, \"Pred4\": \"Gentoo\"}, {\"species\": \"Chinstrap\", \"island\": \"Dream\", \"bill_length_mm\": 47.5, \"bill_depth_mm\": 16.8, \"flipper_length_mm\": 199.0, \"body_mass_g\": 3900.0, \"sex\": \"Female\", \"isAdelie_bool\": false, \"isAdelie_float\": 0.0, \"Pred\": 0.17187262557342375, \"Pred2\": 0.0, \"Pred3\": 0.005075975038495357, \"Pred4\": \"Gentoo\"}, {\"species\": \"Chinstrap\", \"island\": \"Dream\", \"bill_length_mm\": 47.6, \"bill_depth_mm\": 18.3, \"flipper_length_mm\": 195.0, \"body_mass_g\": 3850.0, \"sex\": \"Female\", \"isAdelie_bool\": false, \"isAdelie_float\": 0.0, \"Pred\": 0.16427211048788104, \"Pred2\": 0.0, \"Pred3\": 0.004530179865025949, \"Pred4\": \"Gentoo\"}, {\"species\": \"Chinstrap\", \"island\": \"Dream\", \"bill_length_mm\": 52.0, \"bill_depth_mm\": 20.7, \"flipper_length_mm\": 210.0, \"body_mass_g\": 4800.0, \"sex\": \"Male\", \"isAdelie_bool\": false, \"isAdelie_float\": 0.0, \"Pred\": -0.17015055327598505, \"Pred2\": 0.0, \"Pred3\": 2.977262202580612e-05, \"Pred4\": \"Gentoo\"}, {\"species\": \"Chinstrap\", \"island\": \"Dream\", \"bill_length_mm\": 46.9, \"bill_depth_mm\": 16.6, \"flipper_length_mm\": 192.0, \"body_mass_g\": 2700.0, \"sex\": \"Female\", \"isAdelie_bool\": false, \"isAdelie_float\": 0.0, \"Pred\": 0.21747571608667826, \"Pred2\": 0.0, \"Pred3\": 0.010027803837059656, \"Pred4\": \"Gentoo\"}, {\"species\": \"Chinstrap\", \"island\": \"Dream\", \"bill_length_mm\": 53.5, \"bill_depth_mm\": 19.9, \"flipper_length_mm\": 205.0, \"body_mass_g\": 4500.0, \"sex\": \"Male\", \"isAdelie_bool\": false, \"isAdelie_float\": 0.0, \"Pred\": -0.28415827955912176, \"Pred2\": 0.0, \"Pred3\": 5.360366747459633e-06, \"Pred4\": \"Chinstrap\"}, {\"species\": \"Chinstrap\", \"island\": \"Dream\", \"bill_length_mm\": 49.0, \"bill_depth_mm\": 19.5, \"flipper_length_mm\": 210.0, \"body_mass_g\": 3950.0, \"sex\": \"Male\", \"isAdelie_bool\": false, \"isAdelie_float\": 0.0, \"Pred\": 0.057864899290287486, \"Pred2\": 0.0, \"Pred3\": 0.0009176934788644365, \"Pred4\": \"Gentoo\"}, {\"species\": \"Chinstrap\", \"island\": \"Dream\", \"bill_length_mm\": 46.2, \"bill_depth_mm\": 17.5, \"flipper_length_mm\": 187.0, \"body_mass_g\": 3650.0, \"sex\": \"Female\", \"isAdelie_bool\": false, \"isAdelie_float\": 0.0, \"Pred\": 0.2706793216854746, \"Pred2\": 0.0, \"Pred3\": 0.022049323465443815, \"Pred4\": \"Gentoo\"}, {\"species\": \"Chinstrap\", \"island\": \"Dream\", \"bill_length_mm\": 50.9, \"bill_depth_mm\": 19.1, \"flipper_length_mm\": 196.0, \"body_mass_g\": 3550.0, \"sex\": \"Male\", \"isAdelie_bool\": false, \"isAdelie_float\": 0.0, \"Pred\": -0.0865448873350183, \"Pred2\": 0.0, \"Pred3\": 0.00010467642570815738, \"Pred4\": \"Gentoo\"}, {\"species\": \"Chinstrap\", \"island\": \"Dream\", \"bill_length_mm\": 45.5, \"bill_depth_mm\": 17.0, \"flipper_length_mm\": 196.0, \"body_mass_g\": 3500.0, \"sex\": \"Female\", \"isAdelie_bool\": false, \"isAdelie_float\": 0.0, \"Pred\": 0.3238829272842718, \"Pred2\": 0.0, \"Pred3\": 0.047786805262659854, \"Pred4\": \"Gentoo\"}, {\"species\": \"Chinstrap\", \"island\": \"Dream\", \"bill_length_mm\": 50.9, \"bill_depth_mm\": 17.9, \"flipper_length_mm\": 196.0, \"body_mass_g\": 3675.0, \"sex\": \"Female\", \"isAdelie_bool\": false, \"isAdelie_float\": 0.0, \"Pred\": -0.0865448873350183, \"Pred2\": 0.0, \"Pred3\": 0.00010467642570815738, \"Pred4\": \"Gentoo\"}, {\"species\": \"Chinstrap\", \"island\": \"Dream\", \"bill_length_mm\": 50.8, \"bill_depth_mm\": 18.5, \"flipper_length_mm\": 201.0, \"body_mass_g\": 4450.0, \"sex\": \"Male\", \"isAdelie_bool\": false, \"isAdelie_float\": 0.0, \"Pred\": -0.07894437224947604, \"Pred2\": 0.0, \"Pred3\": 0.00011735067497582331, \"Pred4\": \"Gentoo\"}, {\"species\": \"Chinstrap\", \"island\": \"Dream\", \"bill_length_mm\": 50.1, \"bill_depth_mm\": 17.9, \"flipper_length_mm\": 190.0, \"body_mass_g\": 3400.0, \"sex\": \"Female\", \"isAdelie_bool\": false, \"isAdelie_float\": 0.0, \"Pred\": -0.02574076665067926, \"Pred2\": 0.0, \"Pred3\": 0.00026116718391193405, \"Pred4\": \"Gentoo\"}, {\"species\": \"Chinstrap\", \"island\": \"Dream\", \"bill_length_mm\": 49.0, \"bill_depth_mm\": 19.6, \"flipper_length_mm\": 212.0, \"body_mass_g\": 4300.0, \"sex\": \"Male\", \"isAdelie_bool\": false, \"isAdelie_float\": 0.0, \"Pred\": 0.057864899290287486, \"Pred2\": 0.0, \"Pred3\": 0.0009176934788644365, \"Pred4\": \"Gentoo\"}, {\"species\": \"Chinstrap\", \"island\": \"Dream\", \"bill_length_mm\": 51.5, \"bill_depth_mm\": 18.7, \"flipper_length_mm\": 187.0, \"body_mass_g\": 3250.0, \"sex\": \"Male\", \"isAdelie_bool\": false, \"isAdelie_float\": 0.0, \"Pred\": -0.13214797784827326, \"Pred2\": 0.0, \"Pred3\": 5.2725192733074116e-05, \"Pred4\": \"Gentoo\"}, {\"species\": \"Chinstrap\", \"island\": \"Dream\", \"bill_length_mm\": 49.8, \"bill_depth_mm\": 17.3, \"flipper_length_mm\": 198.0, \"body_mass_g\": 3675.0, \"sex\": \"Female\", \"isAdelie_bool\": false, \"isAdelie_float\": 0.0, \"Pred\": -0.002939221394051561, \"Pred2\": 0.0, \"Pred3\": 0.0003679585079036591, \"Pred4\": \"Gentoo\"}, {\"species\": \"Chinstrap\", \"island\": \"Dream\", \"bill_length_mm\": 48.1, \"bill_depth_mm\": 16.4, \"flipper_length_mm\": 199.0, \"body_mass_g\": 3325.0, \"sex\": \"Female\", \"isAdelie_bool\": false, \"isAdelie_float\": 0.0, \"Pred\": 0.1262695350601688, \"Pred2\": 0.0, \"Pred3\": 0.0025630774372286925, \"Pred4\": \"Gentoo\"}, {\"species\": \"Chinstrap\", \"island\": \"Dream\", \"bill_length_mm\": 51.4, \"bill_depth_mm\": 19.0, \"flipper_length_mm\": 201.0, \"body_mass_g\": 3950.0, \"sex\": \"Male\", \"isAdelie_bool\": false, \"isAdelie_float\": 0.0, \"Pred\": -0.12454746276273054, \"Pred2\": 0.0, \"Pred3\": 5.910954484671174e-05, \"Pred4\": \"Gentoo\"}, {\"species\": \"Chinstrap\", \"island\": \"Dream\", \"bill_length_mm\": 45.7, \"bill_depth_mm\": 17.3, \"flipper_length_mm\": 193.0, \"body_mass_g\": 3600.0, \"sex\": \"Female\", \"isAdelie_bool\": false, \"isAdelie_float\": 0.0, \"Pred\": 0.30868189711318683, \"Pred2\": 0.0, \"Pred3\": 0.038395970753259186, \"Pred4\": \"Gentoo\"}, {\"species\": \"Chinstrap\", \"island\": \"Dream\", \"bill_length_mm\": 50.7, \"bill_depth_mm\": 19.7, \"flipper_length_mm\": 203.0, \"body_mass_g\": 4050.0, \"sex\": \"Male\", \"isAdelie_bool\": false, \"isAdelie_float\": 0.0, \"Pred\": -0.07134385716393377, \"Pred2\": 0.0, \"Pred3\": 0.00013155932377956442, \"Pred4\": \"Gentoo\"}, {\"species\": \"Chinstrap\", \"island\": \"Dream\", \"bill_length_mm\": 42.5, \"bill_depth_mm\": 17.3, \"flipper_length_mm\": 187.0, \"body_mass_g\": 3350.0, \"sex\": \"Female\", \"isAdelie_bool\": false, \"isAdelie_float\": 0.0, \"Pred\": 0.5518983798505444, \"Pred2\": 1.0, \"Pred3\": 0.6075733184170551, \"Pred4\": \"Adelie\"}, {\"species\": \"Chinstrap\", \"island\": \"Dream\", \"bill_length_mm\": 52.2, \"bill_depth_mm\": 18.8, \"flipper_length_mm\": 197.0, \"body_mass_g\": 3450.0, \"sex\": \"Male\", \"isAdelie_bool\": false, \"isAdelie_float\": 0.0, \"Pred\": -0.18535158344707003, \"Pred2\": 0.0, \"Pred3\": 2.3688376775933228e-05, \"Pred4\": \"Gentoo\"}, {\"species\": \"Chinstrap\", \"island\": \"Dream\", \"bill_length_mm\": 45.2, \"bill_depth_mm\": 16.6, \"flipper_length_mm\": 191.0, \"body_mass_g\": 3250.0, \"sex\": \"Female\", \"isAdelie_bool\": false, \"isAdelie_float\": 0.0, \"Pred\": 0.34668447254089907, \"Pred2\": 0.0, \"Pred3\": 0.06604307485120653, \"Pred4\": \"Gentoo\"}, {\"species\": \"Chinstrap\", \"island\": \"Dream\", \"bill_length_mm\": 49.3, \"bill_depth_mm\": 19.9, \"flipper_length_mm\": 203.0, \"body_mass_g\": 4050.0, \"sex\": \"Male\", \"isAdelie_bool\": false, \"isAdelie_float\": 0.0, \"Pred\": 0.03506335403366023, \"Pred2\": 0.0, \"Pred3\": 0.0006514584542037573, \"Pred4\": \"Gentoo\"}, {\"species\": \"Chinstrap\", \"island\": \"Dream\", \"bill_length_mm\": 50.2, \"bill_depth_mm\": 18.8, \"flipper_length_mm\": 202.0, \"body_mass_g\": 3800.0, \"sex\": \"Male\", \"isAdelie_bool\": false, \"isAdelie_float\": 0.0, \"Pred\": -0.03334128173622197, \"Pred2\": 0.0, \"Pred3\": 0.00023296390939715728, \"Pred4\": \"Gentoo\"}, {\"species\": \"Chinstrap\", \"island\": \"Dream\", \"bill_length_mm\": 45.6, \"bill_depth_mm\": 19.4, \"flipper_length_mm\": 194.0, \"body_mass_g\": 3525.0, \"sex\": \"Female\", \"isAdelie_bool\": false, \"isAdelie_float\": 0.0, \"Pred\": 0.31628241219872955, \"Pred2\": 0.0, \"Pred3\": 0.04284629509945916, \"Pred4\": \"Gentoo\"}, {\"species\": \"Chinstrap\", \"island\": \"Dream\", \"bill_length_mm\": 51.9, \"bill_depth_mm\": 19.5, \"flipper_length_mm\": 206.0, \"body_mass_g\": 3950.0, \"sex\": \"Male\", \"isAdelie_bool\": false, \"isAdelie_float\": 0.0, \"Pred\": -0.16255003819044278, \"Pred2\": 0.0, \"Pred3\": 3.3377801710438504e-05, \"Pred4\": \"Gentoo\"}, {\"species\": \"Chinstrap\", \"island\": \"Dream\", \"bill_length_mm\": 46.8, \"bill_depth_mm\": 16.5, \"flipper_length_mm\": 189.0, \"body_mass_g\": 3650.0, \"sex\": \"Female\", \"isAdelie_bool\": false, \"isAdelie_float\": 0.0, \"Pred\": 0.22507623117222053, \"Pred2\": 0.0, \"Pred3\": 0.011228480599422778, \"Pred4\": \"Gentoo\"}, {\"species\": \"Chinstrap\", \"island\": \"Dream\", \"bill_length_mm\": 45.7, \"bill_depth_mm\": 17.0, \"flipper_length_mm\": 195.0, \"body_mass_g\": 3650.0, \"sex\": \"Female\", \"isAdelie_bool\": false, \"isAdelie_float\": 0.0, \"Pred\": 0.30868189711318683, \"Pred2\": 0.0, \"Pred3\": 0.038395970753259186, \"Pred4\": \"Gentoo\"}, {\"species\": \"Chinstrap\", \"island\": \"Dream\", \"bill_length_mm\": 55.8, \"bill_depth_mm\": 19.8, \"flipper_length_mm\": 207.0, \"body_mass_g\": 4000.0, \"sex\": \"Male\", \"isAdelie_bool\": false, \"isAdelie_float\": 0.0, \"Pred\": -0.45897012652659663, \"Pred2\": 0.0, \"Pred3\": 3.8674595998479163e-07, \"Pred4\": \"Chinstrap\"}, {\"species\": \"Chinstrap\", \"island\": \"Dream\", \"bill_length_mm\": 43.5, \"bill_depth_mm\": 18.1, \"flipper_length_mm\": 202.0, \"body_mass_g\": 3400.0, \"sex\": \"Female\", \"isAdelie_bool\": false, \"isAdelie_float\": 0.0, \"Pred\": 0.4758932289951203, \"Pred2\": 0.0, \"Pred3\": 0.3304985540377323, \"Pred4\": \"Gentoo\"}, {\"species\": \"Chinstrap\", \"island\": \"Dream\", \"bill_length_mm\": 49.6, \"bill_depth_mm\": 18.2, \"flipper_length_mm\": 193.0, \"body_mass_g\": 3775.0, \"sex\": \"Male\", \"isAdelie_bool\": false, \"isAdelie_float\": 0.0, \"Pred\": 0.012261808777032535, \"Pred2\": 0.0, \"Pred3\": 0.00046242598423441904, \"Pred4\": \"Gentoo\"}, {\"species\": \"Chinstrap\", \"island\": \"Dream\", \"bill_length_mm\": 50.8, \"bill_depth_mm\": 19.0, \"flipper_length_mm\": 210.0, \"body_mass_g\": 4100.0, \"sex\": \"Male\", \"isAdelie_bool\": false, \"isAdelie_float\": 0.0, \"Pred\": -0.07894437224947604, \"Pred2\": 0.0, \"Pred3\": 0.00011735067497582331, \"Pred4\": \"Gentoo\"}, {\"species\": \"Chinstrap\", \"island\": \"Dream\", \"bill_length_mm\": 50.2, \"bill_depth_mm\": 18.7, \"flipper_length_mm\": 198.0, \"body_mass_g\": 3775.0, \"sex\": \"Female\", \"isAdelie_bool\": false, \"isAdelie_float\": 0.0, \"Pred\": -0.03334128173622197, \"Pred2\": 0.0, \"Pred3\": 0.00023296390939715728, \"Pred4\": \"Gentoo\"}, {\"species\": \"Gentoo\", \"island\": \"Biscoe\", \"bill_length_mm\": 46.1, \"bill_depth_mm\": 13.2, \"flipper_length_mm\": 211.0, \"body_mass_g\": 4500.0, \"sex\": \"Female\", \"isAdelie_bool\": false, \"isAdelie_float\": 0.0, \"Pred\": 0.2782798367710173, \"Pred2\": 0.0, \"Pred3\": 0.02465354846806967, \"Pred4\": \"Gentoo\"}, {\"species\": \"Gentoo\", \"island\": \"Biscoe\", \"bill_length_mm\": 50.0, \"bill_depth_mm\": 16.3, \"flipper_length_mm\": 230.0, \"body_mass_g\": 5700.0, \"sex\": \"Male\", \"isAdelie_bool\": false, \"isAdelie_float\": 0.0, \"Pred\": -0.01814025156513699, \"Pred2\": 0.0, \"Pred3\": 0.0002927838272771071, \"Pred4\": \"Gentoo\"}, {\"species\": \"Gentoo\", \"island\": \"Biscoe\", \"bill_length_mm\": 48.7, \"bill_depth_mm\": 14.1, \"flipper_length_mm\": 210.0, \"body_mass_g\": 4450.0, \"sex\": \"Female\", \"isAdelie_bool\": false, \"isAdelie_float\": 0.0, \"Pred\": 0.0806664445469143, \"Pred2\": 0.0, \"Pred3\": 0.0012925914702628198, \"Pred4\": \"Gentoo\"}, {\"species\": \"Gentoo\", \"island\": \"Biscoe\", \"bill_length_mm\": 50.0, \"bill_depth_mm\": 15.2, \"flipper_length_mm\": 218.0, \"body_mass_g\": 5700.0, \"sex\": \"Male\", \"isAdelie_bool\": false, \"isAdelie_float\": 0.0, \"Pred\": -0.01814025156513699, \"Pred2\": 0.0, \"Pred3\": 0.0002927838272771071, \"Pred4\": \"Gentoo\"}, {\"species\": \"Gentoo\", \"island\": \"Biscoe\", \"bill_length_mm\": 47.6, \"bill_depth_mm\": 14.5, \"flipper_length_mm\": 215.0, \"body_mass_g\": 5400.0, \"sex\": \"Male\", \"isAdelie_bool\": false, \"isAdelie_float\": 0.0, \"Pred\": 0.16427211048788104, \"Pred2\": 0.0, \"Pred3\": 0.004530179865025949, \"Pred4\": \"Gentoo\"}, {\"species\": \"Gentoo\", \"island\": \"Biscoe\", \"bill_length_mm\": 46.5, \"bill_depth_mm\": 13.5, \"flipper_length_mm\": 210.0, \"body_mass_g\": 4550.0, \"sex\": \"Female\", \"isAdelie_bool\": false, \"isAdelie_float\": 0.0, \"Pred\": 0.24787777642884778, \"Pred2\": 0.0, \"Pred3\": 0.01574916284796909, \"Pred4\": \"Gentoo\"}, {\"species\": \"Gentoo\", \"island\": \"Biscoe\", \"bill_length_mm\": 45.4, \"bill_depth_mm\": 14.6, \"flipper_length_mm\": 211.0, \"body_mass_g\": 4800.0, \"sex\": \"Female\", \"isAdelie_bool\": false, \"isAdelie_float\": 0.0, \"Pred\": 0.33148344236981453, \"Pred2\": 0.0, \"Pred3\": 0.05326529210998473, \"Pred4\": \"Gentoo\"}, {\"species\": \"Gentoo\", \"island\": \"Biscoe\", \"bill_length_mm\": 46.7, \"bill_depth_mm\": 15.3, \"flipper_length_mm\": 219.0, \"body_mass_g\": 5200.0, \"sex\": \"Male\", \"isAdelie_bool\": false, \"isAdelie_float\": 0.0, \"Pred\": 0.2326767462577628, \"Pred2\": 0.0, \"Pred3\": 0.012571094553401291, \"Pred4\": \"Gentoo\"}, {\"species\": \"Gentoo\", \"island\": \"Biscoe\", \"bill_length_mm\": 43.3, \"bill_depth_mm\": 13.4, \"flipper_length_mm\": 209.0, \"body_mass_g\": 4400.0, \"sex\": \"Female\", \"isAdelie_bool\": false, \"isAdelie_float\": 0.0, \"Pred\": 0.4910942591662053, \"Pred2\": 0.0, \"Pred3\": 0.3828851190434419, \"Pred4\": \"Gentoo\"}, {\"species\": \"Gentoo\", \"island\": \"Biscoe\", \"bill_length_mm\": 46.8, \"bill_depth_mm\": 15.4, \"flipper_length_mm\": 215.0, \"body_mass_g\": 5150.0, \"sex\": \"Male\", \"isAdelie_bool\": false, \"isAdelie_float\": 0.0, \"Pred\": 0.22507623117222053, \"Pred2\": 0.0, \"Pred3\": 0.011228480599422778, \"Pred4\": \"Gentoo\"}, {\"species\": \"Gentoo\", \"island\": \"Biscoe\", \"bill_length_mm\": 40.9, \"bill_depth_mm\": 13.7, \"flipper_length_mm\": 214.0, \"body_mass_g\": 4650.0, \"sex\": \"Female\", \"isAdelie_bool\": false, \"isAdelie_float\": 0.0, \"Pred\": 0.6735066212192233, \"Pred2\": 1.0, \"Pred3\": 0.9060225910165011, \"Pred4\": \"Adelie\"}, {\"species\": \"Gentoo\", \"island\": \"Biscoe\", \"bill_length_mm\": 49.0, \"bill_depth_mm\": 16.1, \"flipper_length_mm\": 216.0, \"body_mass_g\": 5550.0, \"sex\": \"Male\", \"isAdelie_bool\": false, \"isAdelie_float\": 0.0, \"Pred\": 0.057864899290287486, \"Pred2\": 0.0, \"Pred3\": 0.0009176934788644365, \"Pred4\": \"Gentoo\"}, {\"species\": \"Gentoo\", \"island\": \"Biscoe\", \"bill_length_mm\": 45.5, \"bill_depth_mm\": 13.7, \"flipper_length_mm\": 214.0, \"body_mass_g\": 4650.0, \"sex\": \"Female\", \"isAdelie_bool\": false, \"isAdelie_float\": 0.0, \"Pred\": 0.3238829272842718, \"Pred2\": 0.0, \"Pred3\": 0.047786805262659854, \"Pred4\": \"Gentoo\"}, {\"species\": \"Gentoo\", \"island\": \"Biscoe\", \"bill_length_mm\": 48.4, \"bill_depth_mm\": 14.6, \"flipper_length_mm\": 213.0, \"body_mass_g\": 5850.0, \"sex\": \"Male\", \"isAdelie_bool\": false, \"isAdelie_float\": 0.0, \"Pred\": 0.103467989803542, \"Pred2\": 0.0, \"Pred3\": 0.001820364493109511, \"Pred4\": \"Gentoo\"}, {\"species\": \"Gentoo\", \"island\": \"Biscoe\", \"bill_length_mm\": 45.8, \"bill_depth_mm\": 14.6, \"flipper_length_mm\": 210.0, \"body_mass_g\": 4200.0, \"sex\": \"Female\", \"isAdelie_bool\": false, \"isAdelie_float\": 0.0, \"Pred\": 0.301081382027645, \"Pred2\": 0.0, \"Pred3\": 0.03439128035796718, \"Pred4\": \"Gentoo\"}, {\"species\": \"Gentoo\", \"island\": \"Biscoe\", \"bill_length_mm\": 49.3, \"bill_depth_mm\": 15.7, \"flipper_length_mm\": 217.0, \"body_mass_g\": 5850.0, \"sex\": \"Male\", \"isAdelie_bool\": false, \"isAdelie_float\": 0.0, \"Pred\": 0.03506335403366023, \"Pred2\": 0.0, \"Pred3\": 0.0006514584542037573, \"Pred4\": \"Gentoo\"}, {\"species\": \"Gentoo\", \"island\": \"Biscoe\", \"bill_length_mm\": 42.0, \"bill_depth_mm\": 13.5, \"flipper_length_mm\": 210.0, \"body_mass_g\": 4150.0, \"sex\": \"Female\", \"isAdelie_bool\": false, \"isAdelie_float\": 0.0, \"Pred\": 0.5899009552782566, \"Pred2\": 1.0, \"Pred3\": 0.732755912732211, \"Pred4\": \"Adelie\"}, {\"species\": \"Gentoo\", \"island\": \"Biscoe\", \"bill_length_mm\": 49.2, \"bill_depth_mm\": 15.2, \"flipper_length_mm\": 221.0, \"body_mass_g\": 6300.0, \"sex\": \"Male\", \"isAdelie_bool\": false, \"isAdelie_float\": 0.0, \"Pred\": 0.0426638691192025, \"Pred2\": 0.0, \"Pred3\": 0.000730288862396197, \"Pred4\": \"Gentoo\"}, {\"species\": \"Gentoo\", \"island\": \"Biscoe\", \"bill_length_mm\": 46.2, \"bill_depth_mm\": 14.5, \"flipper_length_mm\": 209.0, \"body_mass_g\": 4800.0, \"sex\": \"Female\", \"isAdelie_bool\": false, \"isAdelie_float\": 0.0, \"Pred\": 0.2706793216854746, \"Pred2\": 0.0, \"Pred3\": 0.022049323465443815, \"Pred4\": \"Gentoo\"}, {\"species\": \"Gentoo\", \"island\": \"Biscoe\", \"bill_length_mm\": 48.7, \"bill_depth_mm\": 15.1, \"flipper_length_mm\": 222.0, \"body_mass_g\": 5350.0, \"sex\": \"Male\", \"isAdelie_bool\": false, \"isAdelie_float\": 0.0, \"Pred\": 0.0806664445469143, \"Pred2\": 0.0, \"Pred3\": 0.0012925914702628198, \"Pred4\": \"Gentoo\"}, {\"species\": \"Gentoo\", \"island\": \"Biscoe\", \"bill_length_mm\": 50.2, \"bill_depth_mm\": 14.3, \"flipper_length_mm\": 218.0, \"body_mass_g\": 5700.0, \"sex\": \"Male\", \"isAdelie_bool\": false, \"isAdelie_float\": 0.0, \"Pred\": -0.03334128173622197, \"Pred2\": 0.0, \"Pred3\": 0.00023296390939715728, \"Pred4\": \"Gentoo\"}, {\"species\": \"Gentoo\", \"island\": \"Biscoe\", \"bill_length_mm\": 45.1, \"bill_depth_mm\": 14.5, \"flipper_length_mm\": 215.0, \"body_mass_g\": 5000.0, \"sex\": \"Female\", \"isAdelie_bool\": false, \"isAdelie_float\": 0.0, \"Pred\": 0.35428498762644134, \"Pred2\": 0.0, \"Pred3\": 0.07345308878970935, \"Pred4\": \"Gentoo\"}, {\"species\": \"Gentoo\", \"island\": \"Biscoe\", \"bill_length_mm\": 46.5, \"bill_depth_mm\": 14.5, \"flipper_length_mm\": 213.0, \"body_mass_g\": 4400.0, \"sex\": \"Female\", \"isAdelie_bool\": false, \"isAdelie_float\": 0.0, \"Pred\": 0.24787777642884778, \"Pred2\": 0.0, \"Pred3\": 0.01574916284796909, \"Pred4\": \"Gentoo\"}, {\"species\": \"Gentoo\", \"island\": \"Biscoe\", \"bill_length_mm\": 46.3, \"bill_depth_mm\": 15.8, \"flipper_length_mm\": 215.0, \"body_mass_g\": 5050.0, \"sex\": \"Male\", \"isAdelie_bool\": false, \"isAdelie_float\": 0.0, \"Pred\": 0.26307880659993277, \"Pred2\": 0.0, \"Pred3\": 0.01971462979970233, \"Pred4\": \"Gentoo\"}, {\"species\": \"Gentoo\", \"island\": \"Biscoe\", \"bill_length_mm\": 42.9, \"bill_depth_mm\": 13.1, \"flipper_length_mm\": 215.0, \"body_mass_g\": 5000.0, \"sex\": \"Female\", \"isAdelie_bool\": false, \"isAdelie_float\": 0.0, \"Pred\": 0.5214963195083748, \"Pred2\": 0.0, \"Pred3\": 0.4949755353806743, \"Pred4\": \"Adelie\"}, {\"species\": \"Gentoo\", \"island\": \"Biscoe\", \"bill_length_mm\": 46.1, \"bill_depth_mm\": 15.1, \"flipper_length_mm\": 215.0, \"body_mass_g\": 5100.0, \"sex\": \"Male\", \"isAdelie_bool\": false, \"isAdelie_float\": 0.0, \"Pred\": 0.2782798367710173, \"Pred2\": 0.0, \"Pred3\": 0.02465354846806967, \"Pred4\": \"Gentoo\"}, {\"species\": \"Gentoo\", \"island\": \"Biscoe\", \"bill_length_mm\": 47.8, \"bill_depth_mm\": 15.0, \"flipper_length_mm\": 215.0, \"body_mass_g\": 5650.0, \"sex\": \"Male\", \"isAdelie_bool\": false, \"isAdelie_float\": 0.0, \"Pred\": 0.1490710803167965, \"Pred2\": 0.0, \"Pred3\": 0.003607723751542606, \"Pred4\": \"Gentoo\"}, {\"species\": \"Gentoo\", \"island\": \"Biscoe\", \"bill_length_mm\": 48.2, \"bill_depth_mm\": 14.3, \"flipper_length_mm\": 210.0, \"body_mass_g\": 4600.0, \"sex\": \"Female\", \"isAdelie_bool\": false, \"isAdelie_float\": 0.0, \"Pred\": 0.11866901997462653, \"Pred2\": 0.0, \"Pred3\": 0.0022868609904799267, \"Pred4\": \"Gentoo\"}, {\"species\": \"Gentoo\", \"island\": \"Biscoe\", \"bill_length_mm\": 50.0, \"bill_depth_mm\": 15.3, \"flipper_length_mm\": 220.0, \"body_mass_g\": 5550.0, \"sex\": \"Male\", \"isAdelie_bool\": false, \"isAdelie_float\": 0.0, \"Pred\": -0.01814025156513699, \"Pred2\": 0.0, \"Pred3\": 0.0002927838272771071, \"Pred4\": \"Gentoo\"}, {\"species\": \"Gentoo\", \"island\": \"Biscoe\", \"bill_length_mm\": 47.3, \"bill_depth_mm\": 15.3, \"flipper_length_mm\": 222.0, \"body_mass_g\": 5250.0, \"sex\": \"Male\", \"isAdelie_bool\": false, \"isAdelie_float\": 0.0, \"Pred\": 0.18707365574450874, \"Pred2\": 0.0, \"Pred3\": 0.006371446591198565, \"Pred4\": \"Gentoo\"}, {\"species\": \"Gentoo\", \"island\": \"Biscoe\", \"bill_length_mm\": 42.8, \"bill_depth_mm\": 14.2, \"flipper_length_mm\": 209.0, \"body_mass_g\": 4700.0, \"sex\": \"Female\", \"isAdelie_bool\": false, \"isAdelie_float\": 0.0, \"Pred\": 0.5290968345939175, \"Pred2\": 1.0, \"Pred3\": 0.5235343177570237, \"Pred4\": \"Adelie\"}, {\"species\": \"Gentoo\", \"island\": \"Biscoe\", \"bill_length_mm\": 45.1, \"bill_depth_mm\": 14.5, \"flipper_length_mm\": 207.0, \"body_mass_g\": 5050.0, \"sex\": \"Female\", \"isAdelie_bool\": false, \"isAdelie_float\": 0.0, \"Pred\": 0.35428498762644134, \"Pred2\": 0.0, \"Pred3\": 0.07345308878970935, \"Pred4\": \"Gentoo\"}, {\"species\": \"Gentoo\", \"island\": \"Biscoe\", \"bill_length_mm\": 59.6, \"bill_depth_mm\": 17.0, \"flipper_length_mm\": 230.0, \"body_mass_g\": 6050.0, \"sex\": \"Male\", \"isAdelie_bool\": false, \"isAdelie_float\": 0.0, \"Pred\": -0.7477896997772091, \"Pred2\": 0.0, \"Pred3\": 5.0236791106130535e-09, \"Pred4\": \"Chinstrap\"}, {\"species\": \"Gentoo\", \"island\": \"Biscoe\", \"bill_length_mm\": 49.1, \"bill_depth_mm\": 14.8, \"flipper_length_mm\": 220.0, \"body_mass_g\": 5150.0, \"sex\": \"Female\", \"isAdelie_bool\": false, \"isAdelie_float\": 0.0, \"Pred\": 0.05026438420474477, \"Pred2\": 0.0, \"Pred3\": 0.000818650412006466, \"Pred4\": \"Gentoo\"}, {\"species\": \"Gentoo\", \"island\": \"Biscoe\", \"bill_length_mm\": 48.4, \"bill_depth_mm\": 16.3, \"flipper_length_mm\": 220.0, \"body_mass_g\": 5400.0, \"sex\": \"Male\", \"isAdelie_bool\": false, \"isAdelie_float\": 0.0, \"Pred\": 0.103467989803542, \"Pred2\": 0.0, \"Pred3\": 0.001820364493109511, \"Pred4\": \"Gentoo\"}, {\"species\": \"Gentoo\", \"island\": \"Biscoe\", \"bill_length_mm\": 42.6, \"bill_depth_mm\": 13.7, \"flipper_length_mm\": 213.0, \"body_mass_g\": 4950.0, \"sex\": \"Female\", \"isAdelie_bool\": false, \"isAdelie_float\": 0.0, \"Pred\": 0.5442978647650021, \"Pred2\": 1.0, \"Pred3\": 0.5800107976661344, \"Pred4\": \"Adelie\"}, {\"species\": \"Gentoo\", \"island\": \"Biscoe\", \"bill_length_mm\": 44.4, \"bill_depth_mm\": 17.3, \"flipper_length_mm\": 219.0, \"body_mass_g\": 5250.0, \"sex\": \"Male\", \"isAdelie_bool\": false, \"isAdelie_float\": 0.0, \"Pred\": 0.40748859322523856, \"Pred2\": 0.0, \"Pred3\": 0.14998996044233898, \"Pred4\": \"Gentoo\"}, {\"species\": \"Gentoo\", \"island\": \"Biscoe\", \"bill_length_mm\": 44.0, \"bill_depth_mm\": 13.6, \"flipper_length_mm\": 208.0, \"body_mass_g\": 4350.0, \"sex\": \"Female\", \"isAdelie_bool\": false, \"isAdelie_float\": 0.0, \"Pred\": 0.4378906535674081, \"Pred2\": 0.0, \"Pred3\": 0.21798321693568823, \"Pred4\": \"Gentoo\"}, {\"species\": \"Gentoo\", \"island\": \"Biscoe\", \"bill_length_mm\": 48.7, \"bill_depth_mm\": 15.7, \"flipper_length_mm\": 208.0, \"body_mass_g\": 5350.0, \"sex\": \"Male\", \"isAdelie_bool\": false, \"isAdelie_float\": 0.0, \"Pred\": 0.0806664445469143, \"Pred2\": 0.0, \"Pred3\": 0.0012925914702628198, \"Pred4\": \"Gentoo\"}, {\"species\": \"Gentoo\", \"island\": \"Biscoe\", \"bill_length_mm\": 42.7, \"bill_depth_mm\": 13.7, \"flipper_length_mm\": 208.0, \"body_mass_g\": 3950.0, \"sex\": \"Female\", \"isAdelie_bool\": false, \"isAdelie_float\": 0.0, \"Pred\": 0.5366973496794594, \"Pred2\": 1.0, \"Pred3\": 0.551940026586306, \"Pred4\": \"Adelie\"}, {\"species\": \"Gentoo\", \"island\": \"Biscoe\", \"bill_length_mm\": 49.6, \"bill_depth_mm\": 16.0, \"flipper_length_mm\": 225.0, \"body_mass_g\": 5700.0, \"sex\": \"Male\", \"isAdelie_bool\": false, \"isAdelie_float\": 0.0, \"Pred\": 0.012261808777032535, \"Pred2\": 0.0, \"Pred3\": 0.00046242598423441904, \"Pred4\": \"Gentoo\"}, {\"species\": \"Gentoo\", \"island\": \"Biscoe\", \"bill_length_mm\": 45.3, \"bill_depth_mm\": 13.7, \"flipper_length_mm\": 210.0, \"body_mass_g\": 4300.0, \"sex\": \"Female\", \"isAdelie_bool\": false, \"isAdelie_float\": 0.0, \"Pred\": 0.3390839574553568, \"Pred2\": 0.0, \"Pred3\": 0.05933272075817912, \"Pred4\": \"Gentoo\"}, {\"species\": \"Gentoo\", \"island\": \"Biscoe\", \"bill_length_mm\": 49.6, \"bill_depth_mm\": 15.0, \"flipper_length_mm\": 216.0, \"body_mass_g\": 4750.0, \"sex\": \"Male\", \"isAdelie_bool\": false, \"isAdelie_float\": 0.0, \"Pred\": 0.012261808777032535, \"Pred2\": 0.0, \"Pred3\": 0.00046242598423441904, \"Pred4\": \"Gentoo\"}, {\"species\": \"Gentoo\", \"island\": \"Biscoe\", \"bill_length_mm\": 50.5, \"bill_depth_mm\": 15.9, \"flipper_length_mm\": 222.0, \"body_mass_g\": 5550.0, \"sex\": \"Male\", \"isAdelie_bool\": false, \"isAdelie_float\": 0.0, \"Pred\": -0.05614282699284878, \"Pred2\": 0.0, \"Pred3\": 0.0001653451199774668, \"Pred4\": \"Gentoo\"}, {\"species\": \"Gentoo\", \"island\": \"Biscoe\", \"bill_length_mm\": 43.6, \"bill_depth_mm\": 13.9, \"flipper_length_mm\": 217.0, \"body_mass_g\": 4900.0, \"sex\": \"Female\", \"isAdelie_bool\": false, \"isAdelie_float\": 0.0, \"Pred\": 0.4682927139095776, \"Pred2\": 0.0, \"Pred3\": 0.30571346866400684, \"Pred4\": \"Gentoo\"}, {\"species\": \"Gentoo\", \"island\": \"Biscoe\", \"bill_length_mm\": 45.5, \"bill_depth_mm\": 13.9, \"flipper_length_mm\": 210.0, \"body_mass_g\": 4200.0, \"sex\": \"Female\", \"isAdelie_bool\": false, \"isAdelie_float\": 0.0, \"Pred\": 0.3238829272842718, \"Pred2\": 0.0, \"Pred3\": 0.047786805262659854, \"Pred4\": \"Gentoo\"}, {\"species\": \"Gentoo\", \"island\": \"Biscoe\", \"bill_length_mm\": 50.5, \"bill_depth_mm\": 15.9, \"flipper_length_mm\": 225.0, \"body_mass_g\": 5400.0, \"sex\": \"Male\", \"isAdelie_bool\": false, \"isAdelie_float\": 0.0, \"Pred\": -0.05614282699284878, \"Pred2\": 0.0, \"Pred3\": 0.0001653451199774668, \"Pred4\": \"Gentoo\"}, {\"species\": \"Gentoo\", \"island\": \"Biscoe\", \"bill_length_mm\": 44.9, \"bill_depth_mm\": 13.3, \"flipper_length_mm\": 213.0, \"body_mass_g\": 5100.0, \"sex\": \"Female\", \"isAdelie_bool\": false, \"isAdelie_float\": 0.0, \"Pred\": 0.36948601779752677, \"Pred2\": 0.0, \"Pred3\": 0.09061021222857102, \"Pred4\": \"Gentoo\"}, {\"species\": \"Gentoo\", \"island\": \"Biscoe\", \"bill_length_mm\": 45.2, \"bill_depth_mm\": 15.8, \"flipper_length_mm\": 215.0, \"body_mass_g\": 5300.0, \"sex\": \"Male\", \"isAdelie_bool\": false, \"isAdelie_float\": 0.0, \"Pred\": 0.34668447254089907, \"Pred2\": 0.0, \"Pred3\": 0.06604307485120653, \"Pred4\": \"Gentoo\"}, {\"species\": \"Gentoo\", \"island\": \"Biscoe\", \"bill_length_mm\": 46.6, \"bill_depth_mm\": 14.2, \"flipper_length_mm\": 210.0, \"body_mass_g\": 4850.0, \"sex\": \"Female\", \"isAdelie_bool\": false, \"isAdelie_float\": 0.0, \"Pred\": 0.24027726134330507, \"Pred2\": 0.0, \"Pred3\": 0.014071963033594028, \"Pred4\": \"Gentoo\"}, {\"species\": \"Gentoo\", \"island\": \"Biscoe\", \"bill_length_mm\": 48.5, \"bill_depth_mm\": 14.1, \"flipper_length_mm\": 220.0, \"body_mass_g\": 5300.0, \"sex\": \"Male\", \"isAdelie_bool\": false, \"isAdelie_float\": 0.0, \"Pred\": 0.09586747471799928, \"Pred2\": 0.0, \"Pred3\": 0.0016240580391346248, \"Pred4\": \"Gentoo\"}, {\"species\": \"Gentoo\", \"island\": \"Biscoe\", \"bill_length_mm\": 45.1, \"bill_depth_mm\": 14.4, \"flipper_length_mm\": 210.0, \"body_mass_g\": 4400.0, \"sex\": \"Female\", \"isAdelie_bool\": false, \"isAdelie_float\": 0.0, \"Pred\": 0.35428498762644134, \"Pred2\": 0.0, \"Pred3\": 0.07345308878970935, \"Pred4\": \"Gentoo\"}, {\"species\": \"Gentoo\", \"island\": \"Biscoe\", \"bill_length_mm\": 50.1, \"bill_depth_mm\": 15.0, \"flipper_length_mm\": 225.0, \"body_mass_g\": 5000.0, \"sex\": \"Male\", \"isAdelie_bool\": false, \"isAdelie_float\": 0.0, \"Pred\": -0.02574076665067926, \"Pred2\": 0.0, \"Pred3\": 0.00026116718391193405, \"Pred4\": \"Gentoo\"}, {\"species\": \"Gentoo\", \"island\": \"Biscoe\", \"bill_length_mm\": 46.5, \"bill_depth_mm\": 14.4, \"flipper_length_mm\": 217.0, \"body_mass_g\": 4900.0, \"sex\": \"Female\", \"isAdelie_bool\": false, \"isAdelie_float\": 0.0, \"Pred\": 0.24787777642884778, \"Pred2\": 0.0, \"Pred3\": 0.01574916284796909, \"Pred4\": \"Gentoo\"}, {\"species\": \"Gentoo\", \"island\": \"Biscoe\", \"bill_length_mm\": 45.0, \"bill_depth_mm\": 15.4, \"flipper_length_mm\": 220.0, \"body_mass_g\": 5050.0, \"sex\": \"Male\", \"isAdelie_bool\": false, \"isAdelie_float\": 0.0, \"Pred\": 0.36188550271198405, \"Pred2\": 0.0, \"Pred3\": 0.08162184500150953, \"Pred4\": \"Gentoo\"}, {\"species\": \"Gentoo\", \"island\": \"Biscoe\", \"bill_length_mm\": 43.8, \"bill_depth_mm\": 13.9, \"flipper_length_mm\": 208.0, \"body_mass_g\": 4300.0, \"sex\": \"Female\", \"isAdelie_bool\": false, \"isAdelie_float\": 0.0, \"Pred\": 0.45309168373849307, \"Pred2\": 0.0, \"Pred3\": 0.25944651352844483, \"Pred4\": \"Gentoo\"}, {\"species\": \"Gentoo\", \"island\": \"Biscoe\", \"bill_length_mm\": 45.5, \"bill_depth_mm\": 15.0, \"flipper_length_mm\": 220.0, \"body_mass_g\": 5000.0, \"sex\": \"Male\", \"isAdelie_bool\": false, \"isAdelie_float\": 0.0, \"Pred\": 0.3238829272842718, \"Pred2\": 0.0, \"Pred3\": 0.047786805262659854, \"Pred4\": \"Gentoo\"}, {\"species\": \"Gentoo\", \"island\": \"Biscoe\", \"bill_length_mm\": 43.2, \"bill_depth_mm\": 14.5, \"flipper_length_mm\": 208.0, \"body_mass_g\": 4450.0, \"sex\": \"Female\", \"isAdelie_bool\": false, \"isAdelie_float\": 0.0, \"Pred\": 0.49869477425174713, \"Pred2\": 0.0, \"Pred3\": 0.41022996722059907, \"Pred4\": \"Gentoo\"}, {\"species\": \"Gentoo\", \"island\": \"Biscoe\", \"bill_length_mm\": 50.4, \"bill_depth_mm\": 15.3, \"flipper_length_mm\": 224.0, \"body_mass_g\": 5550.0, \"sex\": \"Male\", \"isAdelie_bool\": false, \"isAdelie_float\": 0.0, \"Pred\": -0.04854231190730651, \"Pred2\": 0.0, \"Pred3\": 0.00018536378898419012, \"Pred4\": \"Gentoo\"}, {\"species\": \"Gentoo\", \"island\": \"Biscoe\", \"bill_length_mm\": 45.3, \"bill_depth_mm\": 13.8, \"flipper_length_mm\": 208.0, \"body_mass_g\": 4200.0, \"sex\": \"Female\", \"isAdelie_bool\": false, \"isAdelie_float\": 0.0, \"Pred\": 0.3390839574553568, \"Pred2\": 0.0, \"Pred3\": 0.05933272075817912, \"Pred4\": \"Gentoo\"}, {\"species\": \"Gentoo\", \"island\": \"Biscoe\", \"bill_length_mm\": 46.2, \"bill_depth_mm\": 14.9, \"flipper_length_mm\": 221.0, \"body_mass_g\": 5300.0, \"sex\": \"Male\", \"isAdelie_bool\": false, \"isAdelie_float\": 0.0, \"Pred\": 0.2706793216854746, \"Pred2\": 0.0, \"Pred3\": 0.022049323465443815, \"Pred4\": \"Gentoo\"}, {\"species\": \"Gentoo\", \"island\": \"Biscoe\", \"bill_length_mm\": 45.7, \"bill_depth_mm\": 13.9, \"flipper_length_mm\": 214.0, \"body_mass_g\": 4400.0, \"sex\": \"Female\", \"isAdelie_bool\": false, \"isAdelie_float\": 0.0, \"Pred\": 0.30868189711318683, \"Pred2\": 0.0, \"Pred3\": 0.038395970753259186, \"Pred4\": \"Gentoo\"}, {\"species\": \"Gentoo\", \"island\": \"Biscoe\", \"bill_length_mm\": 54.3, \"bill_depth_mm\": 15.7, \"flipper_length_mm\": 231.0, \"body_mass_g\": 5650.0, \"sex\": \"Male\", \"isAdelie_bool\": false, \"isAdelie_float\": 0.0, \"Pred\": -0.3449624002434608, \"Pred2\": 0.0, \"Pred3\": 2.1481183376527525e-06, \"Pred4\": \"Chinstrap\"}, {\"species\": \"Gentoo\", \"island\": \"Biscoe\", \"bill_length_mm\": 45.8, \"bill_depth_mm\": 14.2, \"flipper_length_mm\": 219.0, \"body_mass_g\": 4700.0, \"sex\": \"Female\", \"isAdelie_bool\": false, \"isAdelie_float\": 0.0, \"Pred\": 0.301081382027645, \"Pred2\": 0.0, \"Pred3\": 0.03439128035796718, \"Pred4\": \"Gentoo\"}, {\"species\": \"Gentoo\", \"island\": \"Biscoe\", \"bill_length_mm\": 49.8, \"bill_depth_mm\": 16.8, \"flipper_length_mm\": 230.0, \"body_mass_g\": 5700.0, \"sex\": \"Male\", \"isAdelie_bool\": false, \"isAdelie_float\": 0.0, \"Pred\": -0.002939221394051561, \"Pred2\": 0.0, \"Pred3\": 0.0003679585079036591, \"Pred4\": \"Gentoo\"}, {\"species\": \"Gentoo\", \"island\": \"Biscoe\", \"bill_length_mm\": 49.5, \"bill_depth_mm\": 16.2, \"flipper_length_mm\": 229.0, \"body_mass_g\": 5800.0, \"sex\": \"Male\", \"isAdelie_bool\": false, \"isAdelie_float\": 0.0, \"Pred\": 0.01986232386257525, \"Pred2\": 0.0, \"Pred3\": 0.0005183941871964155, \"Pred4\": \"Gentoo\"}, {\"species\": \"Gentoo\", \"island\": \"Biscoe\", \"bill_length_mm\": 43.5, \"bill_depth_mm\": 14.2, \"flipper_length_mm\": 220.0, \"body_mass_g\": 4700.0, \"sex\": \"Female\", \"isAdelie_bool\": false, \"isAdelie_float\": 0.0, \"Pred\": 0.4758932289951203, \"Pred2\": 0.0, \"Pred3\": 0.3304985540377323, \"Pred4\": \"Gentoo\"}, {\"species\": \"Gentoo\", \"island\": \"Biscoe\", \"bill_length_mm\": 50.7, \"bill_depth_mm\": 15.0, \"flipper_length_mm\": 223.0, \"body_mass_g\": 5550.0, \"sex\": \"Male\", \"isAdelie_bool\": false, \"isAdelie_float\": 0.0, \"Pred\": -0.07134385716393377, \"Pred2\": 0.0, \"Pred3\": 0.00013155932377956442, \"Pred4\": \"Gentoo\"}, {\"species\": \"Gentoo\", \"island\": \"Biscoe\", \"bill_length_mm\": 47.7, \"bill_depth_mm\": 15.0, \"flipper_length_mm\": 216.0, \"body_mass_g\": 4750.0, \"sex\": \"Female\", \"isAdelie_bool\": false, \"isAdelie_float\": 0.0, \"Pred\": 0.15667159540233877, \"Pred2\": 0.0, \"Pred3\": 0.004042832949419357, \"Pred4\": \"Gentoo\"}, {\"species\": \"Gentoo\", \"island\": \"Biscoe\", \"bill_length_mm\": 46.4, \"bill_depth_mm\": 15.6, \"flipper_length_mm\": 221.0, \"body_mass_g\": 5000.0, \"sex\": \"Male\", \"isAdelie_bool\": false, \"isAdelie_float\": 0.0, \"Pred\": 0.2554782915143905, \"Pred2\": 0.0, \"Pred3\": 0.017622690570218605, \"Pred4\": \"Gentoo\"}, {\"species\": \"Gentoo\", \"island\": \"Biscoe\", \"bill_length_mm\": 48.2, \"bill_depth_mm\": 15.6, \"flipper_length_mm\": 221.0, \"body_mass_g\": 5100.0, \"sex\": \"Male\", \"isAdelie_bool\": false, \"isAdelie_float\": 0.0, \"Pred\": 0.11866901997462653, \"Pred2\": 0.0, \"Pred3\": 0.0022868609904799267, \"Pred4\": \"Gentoo\"}, {\"species\": \"Gentoo\", \"island\": \"Biscoe\", \"bill_length_mm\": 46.5, \"bill_depth_mm\": 14.8, \"flipper_length_mm\": 217.0, \"body_mass_g\": 5200.0, \"sex\": \"Female\", \"isAdelie_bool\": false, \"isAdelie_float\": 0.0, \"Pred\": 0.24787777642884778, \"Pred2\": 0.0, \"Pred3\": 0.01574916284796909, \"Pred4\": \"Gentoo\"}, {\"species\": \"Gentoo\", \"island\": \"Biscoe\", \"bill_length_mm\": 46.4, \"bill_depth_mm\": 15.0, \"flipper_length_mm\": 216.0, \"body_mass_g\": 4700.0, \"sex\": \"Female\", \"isAdelie_bool\": false, \"isAdelie_float\": 0.0, \"Pred\": 0.2554782915143905, \"Pred2\": 0.0, \"Pred3\": 0.017622690570218605, \"Pred4\": \"Gentoo\"}, {\"species\": \"Gentoo\", \"island\": \"Biscoe\", \"bill_length_mm\": 48.6, \"bill_depth_mm\": 16.0, \"flipper_length_mm\": 230.0, \"body_mass_g\": 5800.0, \"sex\": \"Male\", \"isAdelie_bool\": false, \"isAdelie_float\": 0.0, \"Pred\": 0.08826695963245701, \"Pred2\": 0.0, \"Pred3\": 0.001448890366667153, \"Pred4\": \"Gentoo\"}, {\"species\": \"Gentoo\", \"island\": \"Biscoe\", \"bill_length_mm\": 47.5, \"bill_depth_mm\": 14.2, \"flipper_length_mm\": 209.0, \"body_mass_g\": 4600.0, \"sex\": \"Female\", \"isAdelie_bool\": false, \"isAdelie_float\": 0.0, \"Pred\": 0.17187262557342375, \"Pred2\": 0.0, \"Pred3\": 0.005075975038495357, \"Pred4\": \"Gentoo\"}, {\"species\": \"Gentoo\", \"island\": \"Biscoe\", \"bill_length_mm\": 51.1, \"bill_depth_mm\": 16.3, \"flipper_length_mm\": 220.0, \"body_mass_g\": 6000.0, \"sex\": \"Male\", \"isAdelie_bool\": false, \"isAdelie_float\": 0.0, \"Pred\": -0.10174591750610373, \"Pred2\": 0.0, \"Pred3\": 8.328633491044848e-05, \"Pred4\": \"Gentoo\"}, {\"species\": \"Gentoo\", \"island\": \"Biscoe\", \"bill_length_mm\": 45.2, \"bill_depth_mm\": 13.8, \"flipper_length_mm\": 215.0, \"body_mass_g\": 4750.0, \"sex\": \"Female\", \"isAdelie_bool\": false, \"isAdelie_float\": 0.0, \"Pred\": 0.34668447254089907, \"Pred2\": 0.0, \"Pred3\": 0.06604307485120653, \"Pred4\": \"Gentoo\"}, {\"species\": \"Gentoo\", \"island\": \"Biscoe\", \"bill_length_mm\": 45.2, \"bill_depth_mm\": 16.4, \"flipper_length_mm\": 223.0, \"body_mass_g\": 5950.0, \"sex\": \"Male\", \"isAdelie_bool\": false, \"isAdelie_float\": 0.0, \"Pred\": 0.34668447254089907, \"Pred2\": 0.0, \"Pred3\": 0.06604307485120653, \"Pred4\": \"Gentoo\"}, {\"species\": \"Gentoo\", \"island\": \"Biscoe\", \"bill_length_mm\": 49.1, \"bill_depth_mm\": 14.5, \"flipper_length_mm\": 212.0, \"body_mass_g\": 4625.0, \"sex\": \"Female\", \"isAdelie_bool\": false, \"isAdelie_float\": 0.0, \"Pred\": 0.05026438420474477, \"Pred2\": 0.0, \"Pred3\": 0.000818650412006466, \"Pred4\": \"Gentoo\"}, {\"species\": \"Gentoo\", \"island\": \"Biscoe\", \"bill_length_mm\": 52.5, \"bill_depth_mm\": 15.6, \"flipper_length_mm\": 221.0, \"body_mass_g\": 5450.0, \"sex\": \"Male\", \"isAdelie_bool\": false, \"isAdelie_float\": 0.0, \"Pred\": -0.2081531287036973, \"Pred2\": 0.0, \"Pred3\": 1.6811700804268978e-05, \"Pred4\": \"Gentoo\"}, {\"species\": \"Gentoo\", \"island\": \"Biscoe\", \"bill_length_mm\": 47.4, \"bill_depth_mm\": 14.6, \"flipper_length_mm\": 212.0, \"body_mass_g\": 4725.0, \"sex\": \"Female\", \"isAdelie_bool\": false, \"isAdelie_float\": 0.0, \"Pred\": 0.17947314065896602, \"Pred2\": 0.0, \"Pred3\": 0.005687151832847143, \"Pred4\": \"Gentoo\"}, {\"species\": \"Gentoo\", \"island\": \"Biscoe\", \"bill_length_mm\": 50.0, \"bill_depth_mm\": 15.9, \"flipper_length_mm\": 224.0, \"body_mass_g\": 5350.0, \"sex\": \"Male\", \"isAdelie_bool\": false, \"isAdelie_float\": 0.0, \"Pred\": -0.01814025156513699, \"Pred2\": 0.0, \"Pred3\": 0.0002927838272771071, \"Pred4\": \"Gentoo\"}, {\"species\": \"Gentoo\", \"island\": \"Biscoe\", \"bill_length_mm\": 44.9, \"bill_depth_mm\": 13.8, \"flipper_length_mm\": 212.0, \"body_mass_g\": 4750.0, \"sex\": \"Female\", \"isAdelie_bool\": false, \"isAdelie_float\": 0.0, \"Pred\": 0.36948601779752677, \"Pred2\": 0.0, \"Pred3\": 0.09061021222857102, \"Pred4\": \"Gentoo\"}, {\"species\": \"Gentoo\", \"island\": \"Biscoe\", \"bill_length_mm\": 50.8, \"bill_depth_mm\": 17.3, \"flipper_length_mm\": 228.0, \"body_mass_g\": 5600.0, \"sex\": \"Male\", \"isAdelie_bool\": false, \"isAdelie_float\": 0.0, \"Pred\": -0.07894437224947604, \"Pred2\": 0.0, \"Pred3\": 0.00011735067497582331, \"Pred4\": \"Gentoo\"}, {\"species\": \"Gentoo\", \"island\": \"Biscoe\", \"bill_length_mm\": 43.4, \"bill_depth_mm\": 14.4, \"flipper_length_mm\": 218.0, \"body_mass_g\": 4600.0, \"sex\": \"Female\", \"isAdelie_bool\": false, \"isAdelie_float\": 0.0, \"Pred\": 0.4834937440806626, \"Pred2\": 0.0, \"Pred3\": 0.3562619478772529, \"Pred4\": \"Gentoo\"}, {\"species\": \"Gentoo\", \"island\": \"Biscoe\", \"bill_length_mm\": 51.3, \"bill_depth_mm\": 14.2, \"flipper_length_mm\": 218.0, \"body_mass_g\": 5300.0, \"sex\": \"Male\", \"isAdelie_bool\": false, \"isAdelie_float\": 0.0, \"Pred\": -0.11694694767718783, \"Pred2\": 0.0, \"Pred3\": 6.626690979576457e-05, \"Pred4\": \"Gentoo\"}, {\"species\": \"Gentoo\", \"island\": \"Biscoe\", \"bill_length_mm\": 47.5, \"bill_depth_mm\": 14.0, \"flipper_length_mm\": 212.0, \"body_mass_g\": 4875.0, \"sex\": \"Female\", \"isAdelie_bool\": false, \"isAdelie_float\": 0.0, \"Pred\": 0.17187262557342375, \"Pred2\": 0.0, \"Pred3\": 0.005075975038495357, \"Pred4\": \"Gentoo\"}, {\"species\": \"Gentoo\", \"island\": \"Biscoe\", \"bill_length_mm\": 52.1, \"bill_depth_mm\": 17.0, \"flipper_length_mm\": 230.0, \"body_mass_g\": 5550.0, \"sex\": \"Male\", \"isAdelie_bool\": false, \"isAdelie_float\": 0.0, \"Pred\": -0.17775106836152776, \"Pred2\": 0.0, \"Pred3\": 2.6556832136584968e-05, \"Pred4\": \"Gentoo\"}, {\"species\": \"Gentoo\", \"island\": \"Biscoe\", \"bill_length_mm\": 47.5, \"bill_depth_mm\": 15.0, \"flipper_length_mm\": 218.0, \"body_mass_g\": 4950.0, \"sex\": \"Female\", \"isAdelie_bool\": false, \"isAdelie_float\": 0.0, \"Pred\": 0.17187262557342375, \"Pred2\": 0.0, \"Pred3\": 0.005075975038495357, \"Pred4\": \"Gentoo\"}, {\"species\": \"Gentoo\", \"island\": \"Biscoe\", \"bill_length_mm\": 52.2, \"bill_depth_mm\": 17.1, \"flipper_length_mm\": 228.0, \"body_mass_g\": 5400.0, \"sex\": \"Male\", \"isAdelie_bool\": false, \"isAdelie_float\": 0.0, \"Pred\": -0.18535158344707003, \"Pred2\": 0.0, \"Pred3\": 2.3688376775933228e-05, \"Pred4\": \"Gentoo\"}, {\"species\": \"Gentoo\", \"island\": \"Biscoe\", \"bill_length_mm\": 45.5, \"bill_depth_mm\": 14.5, \"flipper_length_mm\": 212.0, \"body_mass_g\": 4750.0, \"sex\": \"Female\", \"isAdelie_bool\": false, \"isAdelie_float\": 0.0, \"Pred\": 0.3238829272842718, \"Pred2\": 0.0, \"Pred3\": 0.047786805262659854, \"Pred4\": \"Gentoo\"}, {\"species\": \"Gentoo\", \"island\": \"Biscoe\", \"bill_length_mm\": 49.5, \"bill_depth_mm\": 16.1, \"flipper_length_mm\": 224.0, \"body_mass_g\": 5650.0, \"sex\": \"Male\", \"isAdelie_bool\": false, \"isAdelie_float\": 0.0, \"Pred\": 0.01986232386257525, \"Pred2\": 0.0, \"Pred3\": 0.0005183941871964155, \"Pred4\": \"Gentoo\"}, {\"species\": \"Gentoo\", \"island\": \"Biscoe\", \"bill_length_mm\": 44.5, \"bill_depth_mm\": 14.7, \"flipper_length_mm\": 214.0, \"body_mass_g\": 4850.0, \"sex\": \"Female\", \"isAdelie_bool\": false, \"isAdelie_float\": 0.0, \"Pred\": 0.3998880781396963, \"Pred2\": 0.0, \"Pred3\": 0.1359920882112807, \"Pred4\": \"Gentoo\"}, {\"species\": \"Gentoo\", \"island\": \"Biscoe\", \"bill_length_mm\": 50.8, \"bill_depth_mm\": 15.7, \"flipper_length_mm\": 226.0, \"body_mass_g\": 5200.0, \"sex\": \"Male\", \"isAdelie_bool\": false, \"isAdelie_float\": 0.0, \"Pred\": -0.07894437224947604, \"Pred2\": 0.0, \"Pred3\": 0.00011735067497582331, \"Pred4\": \"Gentoo\"}, {\"species\": \"Gentoo\", \"island\": \"Biscoe\", \"bill_length_mm\": 49.4, \"bill_depth_mm\": 15.8, \"flipper_length_mm\": 216.0, \"body_mass_g\": 4925.0, \"sex\": \"Male\", \"isAdelie_bool\": false, \"isAdelie_float\": 0.0, \"Pred\": 0.027462838948117962, \"Pred2\": 0.0, \"Pred3\": 0.0005811323785353575, \"Pred4\": \"Gentoo\"}, {\"species\": \"Gentoo\", \"island\": \"Biscoe\", \"bill_length_mm\": 46.9, \"bill_depth_mm\": 14.6, \"flipper_length_mm\": 222.0, \"body_mass_g\": 4875.0, \"sex\": \"Female\", \"isAdelie_bool\": false, \"isAdelie_float\": 0.0, \"Pred\": 0.21747571608667826, \"Pred2\": 0.0, \"Pred3\": 0.010027803837059656, \"Pred4\": \"Gentoo\"}, {\"species\": \"Gentoo\", \"island\": \"Biscoe\", \"bill_length_mm\": 48.4, \"bill_depth_mm\": 14.4, \"flipper_length_mm\": 203.0, \"body_mass_g\": 4625.0, \"sex\": \"Female\", \"isAdelie_bool\": false, \"isAdelie_float\": 0.0, \"Pred\": 0.103467989803542, \"Pred2\": 0.0, \"Pred3\": 0.001820364493109511, \"Pred4\": \"Gentoo\"}, {\"species\": \"Gentoo\", \"island\": \"Biscoe\", \"bill_length_mm\": 51.1, \"bill_depth_mm\": 16.5, \"flipper_length_mm\": 225.0, \"body_mass_g\": 5250.0, \"sex\": \"Male\", \"isAdelie_bool\": false, \"isAdelie_float\": 0.0, \"Pred\": -0.10174591750610373, \"Pred2\": 0.0, \"Pred3\": 8.328633491044848e-05, \"Pred4\": \"Gentoo\"}, {\"species\": \"Gentoo\", \"island\": \"Biscoe\", \"bill_length_mm\": 48.5, \"bill_depth_mm\": 15.0, \"flipper_length_mm\": 219.0, \"body_mass_g\": 4850.0, \"sex\": \"Female\", \"isAdelie_bool\": false, \"isAdelie_float\": 0.0, \"Pred\": 0.09586747471799928, \"Pred2\": 0.0, \"Pred3\": 0.0016240580391346248, \"Pred4\": \"Gentoo\"}, {\"species\": \"Gentoo\", \"island\": \"Biscoe\", \"bill_length_mm\": 55.9, \"bill_depth_mm\": 17.0, \"flipper_length_mm\": 228.0, \"body_mass_g\": 5600.0, \"sex\": \"Male\", \"isAdelie_bool\": false, \"isAdelie_float\": 0.0, \"Pred\": -0.4665706416121389, \"Pred2\": 0.0, \"Pred3\": 3.44971797563666e-07, \"Pred4\": \"Chinstrap\"}, {\"species\": \"Gentoo\", \"island\": \"Biscoe\", \"bill_length_mm\": 47.2, \"bill_depth_mm\": 15.5, \"flipper_length_mm\": 215.0, \"body_mass_g\": 4975.0, \"sex\": \"Female\", \"isAdelie_bool\": false, \"isAdelie_float\": 0.0, \"Pred\": 0.19467417083005056, \"Pred2\": 0.0, \"Pred3\": 0.007137486662328816, \"Pred4\": \"Gentoo\"}, {\"species\": \"Gentoo\", \"island\": \"Biscoe\", \"bill_length_mm\": 49.1, \"bill_depth_mm\": 15.0, \"flipper_length_mm\": 228.0, \"body_mass_g\": 5500.0, \"sex\": \"Male\", \"isAdelie_bool\": false, \"isAdelie_float\": 0.0, \"Pred\": 0.05026438420474477, \"Pred2\": 0.0, \"Pred3\": 0.000818650412006466, \"Pred4\": \"Gentoo\"}, {\"species\": \"Gentoo\", \"island\": \"Biscoe\", \"bill_length_mm\": 46.8, \"bill_depth_mm\": 16.1, \"flipper_length_mm\": 215.0, \"body_mass_g\": 5500.0, \"sex\": \"Male\", \"isAdelie_bool\": false, \"isAdelie_float\": 0.0, \"Pred\": 0.22507623117222053, \"Pred2\": 0.0, \"Pred3\": 0.011228480599422778, \"Pred4\": \"Gentoo\"}, {\"species\": \"Gentoo\", \"island\": \"Biscoe\", \"bill_length_mm\": 41.7, \"bill_depth_mm\": 14.7, \"flipper_length_mm\": 210.0, \"body_mass_g\": 4700.0, \"sex\": \"Female\", \"isAdelie_bool\": false, \"isAdelie_float\": 0.0, \"Pred\": 0.6127025005348834, \"Pred2\": 1.0, \"Pred3\": 0.7943856099106884, \"Pred4\": \"Adelie\"}, {\"species\": \"Gentoo\", \"island\": \"Biscoe\", \"bill_length_mm\": 53.4, \"bill_depth_mm\": 15.8, \"flipper_length_mm\": 219.0, \"body_mass_g\": 5500.0, \"sex\": \"Male\", \"isAdelie_bool\": false, \"isAdelie_float\": 0.0, \"Pred\": -0.2765577644735786, \"Pred2\": 0.0, \"Pred3\": 6.009473641581955e-06, \"Pred4\": \"Chinstrap\"}, {\"species\": \"Gentoo\", \"island\": \"Biscoe\", \"bill_length_mm\": 43.3, \"bill_depth_mm\": 14.0, \"flipper_length_mm\": 208.0, \"body_mass_g\": 4575.0, \"sex\": \"Female\", \"isAdelie_bool\": false, \"isAdelie_float\": 0.0, \"Pred\": 0.4910942591662053, \"Pred2\": 0.0, \"Pred3\": 0.3828851190434419, \"Pred4\": \"Gentoo\"}, {\"species\": \"Gentoo\", \"island\": \"Biscoe\", \"bill_length_mm\": 48.1, \"bill_depth_mm\": 15.1, \"flipper_length_mm\": 209.0, \"body_mass_g\": 5500.0, \"sex\": \"Male\", \"isAdelie_bool\": false, \"isAdelie_float\": 0.0, \"Pred\": 0.1262695350601688, \"Pred2\": 0.0, \"Pred3\": 0.0025630774372286925, \"Pred4\": \"Gentoo\"}, {\"species\": \"Gentoo\", \"island\": \"Biscoe\", \"bill_length_mm\": 50.5, \"bill_depth_mm\": 15.2, \"flipper_length_mm\": 216.0, \"body_mass_g\": 5000.0, \"sex\": \"Female\", \"isAdelie_bool\": false, \"isAdelie_float\": 0.0, \"Pred\": -0.05614282699284878, \"Pred2\": 0.0, \"Pred3\": 0.0001653451199774668, \"Pred4\": \"Gentoo\"}, {\"species\": \"Gentoo\", \"island\": \"Biscoe\", \"bill_length_mm\": 49.8, \"bill_depth_mm\": 15.9, \"flipper_length_mm\": 229.0, \"body_mass_g\": 5950.0, \"sex\": \"Male\", \"isAdelie_bool\": false, \"isAdelie_float\": 0.0, \"Pred\": -0.002939221394051561, \"Pred2\": 0.0, \"Pred3\": 0.0003679585079036591, \"Pred4\": \"Gentoo\"}, {\"species\": \"Gentoo\", \"island\": \"Biscoe\", \"bill_length_mm\": 43.5, \"bill_depth_mm\": 15.2, \"flipper_length_mm\": 213.0, \"body_mass_g\": 4650.0, \"sex\": \"Female\", \"isAdelie_bool\": false, \"isAdelie_float\": 0.0, \"Pred\": 0.4758932289951203, \"Pred2\": 0.0, \"Pred3\": 0.3304985540377323, \"Pred4\": \"Gentoo\"}, {\"species\": \"Gentoo\", \"island\": \"Biscoe\", \"bill_length_mm\": 51.5, \"bill_depth_mm\": 16.3, \"flipper_length_mm\": 230.0, \"body_mass_g\": 5500.0, \"sex\": \"Male\", \"isAdelie_bool\": false, \"isAdelie_float\": 0.0, \"Pred\": -0.13214797784827326, \"Pred2\": 0.0, \"Pred3\": 5.2725192733074116e-05, \"Pred4\": \"Gentoo\"}, {\"species\": \"Gentoo\", \"island\": \"Biscoe\", \"bill_length_mm\": 46.2, \"bill_depth_mm\": 14.1, \"flipper_length_mm\": 217.0, \"body_mass_g\": 4375.0, \"sex\": \"Female\", \"isAdelie_bool\": false, \"isAdelie_float\": 0.0, \"Pred\": 0.2706793216854746, \"Pred2\": 0.0, \"Pred3\": 0.022049323465443815, \"Pred4\": \"Gentoo\"}, {\"species\": \"Gentoo\", \"island\": \"Biscoe\", \"bill_length_mm\": 55.1, \"bill_depth_mm\": 16.0, \"flipper_length_mm\": 230.0, \"body_mass_g\": 5850.0, \"sex\": \"Male\", \"isAdelie_bool\": false, \"isAdelie_float\": 0.0, \"Pred\": -0.40576652092779986, \"Pred2\": 0.0, \"Pred3\": 8.608372761276989e-07, \"Pred4\": \"Chinstrap\"}, {\"species\": \"Gentoo\", \"island\": \"Biscoe\", \"bill_length_mm\": 48.8, \"bill_depth_mm\": 16.2, \"flipper_length_mm\": 222.0, \"body_mass_g\": 6000.0, \"sex\": \"Male\", \"isAdelie_bool\": false, \"isAdelie_float\": 0.0, \"Pred\": 0.07306592946137247, \"Pred2\": 0.0, \"Pred3\": 0.0011531338300359729, \"Pred4\": \"Gentoo\"}, {\"species\": \"Gentoo\", \"island\": \"Biscoe\", \"bill_length_mm\": 47.2, \"bill_depth_mm\": 13.7, \"flipper_length_mm\": 214.0, \"body_mass_g\": 4925.0, \"sex\": \"Female\", \"isAdelie_bool\": false, \"isAdelie_float\": 0.0, \"Pred\": 0.19467417083005056, \"Pred2\": 0.0, \"Pred3\": 0.007137486662328816, \"Pred4\": \"Gentoo\"}, {\"species\": \"Gentoo\", \"island\": \"Biscoe\", \"bill_length_mm\": 46.8, \"bill_depth_mm\": 14.3, \"flipper_length_mm\": 215.0, \"body_mass_g\": 4850.0, \"sex\": \"Female\", \"isAdelie_bool\": false, \"isAdelie_float\": 0.0, \"Pred\": 0.22507623117222053, \"Pred2\": 0.0, \"Pred3\": 0.011228480599422778, \"Pred4\": \"Gentoo\"}, {\"species\": \"Gentoo\", \"island\": \"Biscoe\", \"bill_length_mm\": 50.4, \"bill_depth_mm\": 15.7, \"flipper_length_mm\": 222.0, \"body_mass_g\": 5750.0, \"sex\": \"Male\", \"isAdelie_bool\": false, \"isAdelie_float\": 0.0, \"Pred\": -0.04854231190730651, \"Pred2\": 0.0, \"Pred3\": 0.00018536378898419012, \"Pred4\": \"Gentoo\"}, {\"species\": \"Gentoo\", \"island\": \"Biscoe\", \"bill_length_mm\": 45.2, \"bill_depth_mm\": 14.8, \"flipper_length_mm\": 212.0, \"body_mass_g\": 5200.0, \"sex\": \"Female\", \"isAdelie_bool\": false, \"isAdelie_float\": 0.0, \"Pred\": 0.34668447254089907, \"Pred2\": 0.0, \"Pred3\": 0.06604307485120653, \"Pred4\": \"Gentoo\"}, {\"species\": \"Gentoo\", \"island\": \"Biscoe\", \"bill_length_mm\": 49.9, \"bill_depth_mm\": 16.1, \"flipper_length_mm\": 213.0, \"body_mass_g\": 5400.0, \"sex\": \"Male\", \"isAdelie_bool\": false, \"isAdelie_float\": 0.0, \"Pred\": -0.010539736479594275, \"Pred2\": 0.0, \"Pred3\": 0.0003282266938974904, \"Pred4\": \"Gentoo\"}]}}, {\"mode\": \"vega-lite\"});\n",
       "</script>"
      ],
      "text/plain": [
       "alt.Chart(...)"
      ]
     },
     "execution_count": 40,
     "metadata": {},
     "output_type": "execute_result"
    }
   ],
   "source": [
    "alt.Chart(df).mark_circle().encode(\n",
    "    x=\"bill_length_mm\",\n",
    "    y=\"flipper_length_mm\",\n",
    "    color=\"species\"\n",
    ")"
   ]
  },
  {
   "cell_type": "code",
   "execution_count": null,
   "metadata": {
    "cell_id": "86a9c9cf1b9940b0b5cb66c00e2e1d0c",
    "deepnote_cell_height": 118.1875,
    "deepnote_cell_type": "code",
    "deepnote_output_heights": [
     21.1875
    ],
    "deepnote_to_be_reexecuted": false,
    "execution_millis": 4,
    "execution_start": 1652031481814,
    "source_hash": "fdc828e7",
    "tags": []
   },
   "outputs": [
    {
     "data": {
      "text/plain": [
       "0.7537537537537538"
      ]
     },
     "execution_count": 41,
     "metadata": {},
     "output_type": "execute_result"
    }
   ],
   "source": [
    "clf.score(df[[\"bill_length_mm\"]], df[\"species\"])"
   ]
  },
  {
   "cell_type": "code",
   "execution_count": null,
   "metadata": {
    "cell_id": "da17e5964b5e4fd288652a02d5fae74b",
    "deepnote_cell_height": 118.1875,
    "deepnote_cell_type": "code",
    "deepnote_output_heights": [
     21.1875
    ],
    "deepnote_to_be_reexecuted": false,
    "execution_millis": 11,
    "execution_start": 1652031542654,
    "source_hash": "c1a71e1",
    "tags": []
   },
   "outputs": [
    {
     "data": {
      "text/plain": [
       "array(['Adelie', 'Chinstrap', 'Gentoo'], dtype=object)"
      ]
     },
     "execution_count": 43,
     "metadata": {},
     "output_type": "execute_result"
    }
   ],
   "source": [
    "clf.classes_"
   ]
  },
  {
   "cell_type": "code",
   "execution_count": null,
   "metadata": {
    "cell_id": "bb021f3920e7437ea0b02d762205486f",
    "deepnote_cell_height": 708,
    "deepnote_cell_type": "code",
    "deepnote_output_heights": [
     611
    ],
    "deepnote_to_be_reexecuted": false,
    "execution_millis": 33,
    "execution_start": 1652031501209,
    "source_hash": "4671dcfa",
    "tags": [
     "output_scroll"
    ]
   },
   "outputs": [
    {
     "data": {
      "text/plain": [
       "array([[9.87130539e-01, 2.03702100e-03, 1.08324397e-02],\n",
       "       [9.79823354e-01, 3.32737771e-03, 1.68492686e-02],\n",
       "       [9.51091028e-01, 8.74667922e-03, 4.01622930e-02],\n",
       "       [9.99155737e-01, 1.03813470e-04, 7.40449484e-04],\n",
       "       [9.83879892e-01, 2.60453202e-03, 1.35155762e-02],\n",
       "       [9.89731718e-01, 1.59210500e-03, 8.67617683e-03],\n",
       "       [9.85595436e-01, 2.30357815e-03, 1.21009863e-02],\n",
       "       [8.86053128e-01, 2.20672226e-02, 9.18796490e-02],\n",
       "       [9.92687793e-01, 1.09904848e-03, 6.21315814e-03],\n",
       "       [9.99922311e-01, 7.60039974e-06, 7.00890612e-05],\n",
       "       [9.99246476e-01, 9.16663201e-05, 6.61857479e-04],\n",
       "       [9.91810870e-01, 1.24370214e-03, 6.94542752e-03],\n",
       "       [6.09053113e-01, 8.67181448e-02, 3.04228742e-01],\n",
       "       [9.99938084e-01, 5.92483944e-06, 5.59907528e-05],\n",
       "       [2.66195596e-02, 2.96191724e-01, 6.77188717e-01],\n",
       "       [9.97051092e-01, 4.07619342e-04, 2.54128862e-03],\n",
       "       [9.97367925e-01, 3.60005733e-04, 2.27206934e-03],\n",
       "       [9.99659963e-01, 3.83535901e-05, 3.01683390e-04],\n",
       "       [9.95354809e-01, 6.69651256e-04, 3.97553948e-03],\n",
       "       [9.90829578e-01, 1.40724538e-03, 7.76317677e-03],\n",
       "       [9.99828013e-01, 1.81710040e-05, 1.53816186e-04],\n",
       "       [9.32396091e-01, 1.24586679e-02, 5.51452412e-02],\n",
       "       [9.39268175e-01, 1.10809609e-02, 4.96508640e-02],\n",
       "       [9.96696188e-01, 4.61512552e-04, 2.84229904e-03],\n",
       "       [9.39268175e-01, 1.10809609e-02, 4.96508640e-02],\n",
       "       [9.79823354e-01, 3.32737771e-03, 1.68492686e-02],\n",
       "       [9.98509253e-01, 1.93370119e-04, 1.29737734e-03],\n",
       "       [9.79823354e-01, 3.32737771e-03, 1.68492686e-02],\n",
       "       [9.07235027e-01, 1.76133118e-02, 7.51516615e-02],\n",
       "       [9.99399734e-01, 7.14676829e-05, 5.28798601e-04],\n",
       "       [9.85595436e-01, 2.30357815e-03, 1.21009863e-02],\n",
       "       [9.90829578e-01, 1.40724538e-03, 7.76317677e-03],\n",
       "       [6.87456097e-01, 6.73673912e-02, 2.45176512e-01],\n",
       "       [9.97650756e-01, 3.17942955e-04, 2.03130121e-03],\n",
       "       [9.71799414e-01, 4.79491595e-03, 2.34056702e-02],\n",
       "       [9.99327459e-01, 8.09397098e-05, 5.91601522e-04],\n",
       "       [9.16440769e-01, 1.57087730e-02, 6.78504582e-02],\n",
       "       [9.99619038e-01, 4.34381771e-05, 3.37523498e-04],\n",
       "       [1.97772093e-01, 2.06515863e-01, 5.95712044e-01],\n",
       "       [9.98812506e-01, 1.50783751e-04, 1.03671027e-03],\n",
       "       [9.77434756e-01, 3.75945979e-03, 1.88057838e-02],\n",
       "       [8.86053128e-01, 2.20672226e-02, 9.18796490e-02],\n",
       "       [9.99619038e-01, 4.34381771e-05, 3.37523498e-04],\n",
       "       [6.62242915e-01, 7.35030621e-02, 2.64254023e-01],\n",
       "       [9.77434756e-01, 3.75945979e-03, 1.88057838e-02],\n",
       "       [9.60705250e-01, 6.88722989e-03, 3.24075197e-02],\n",
       "       [9.99877665e-01, 1.25069220e-05, 1.09827836e-04],\n",
       "       [7.34596951e-01, 5.61160615e-02, 2.09286988e-01],\n",
       "       [9.99930645e-01, 6.71052818e-06, 6.26445753e-05],\n",
       "       [8.46438601e-01, 3.06290427e-02, 1.22932356e-01],\n",
       "       [9.88503728e-01, 1.80100898e-03, 9.69526338e-03],\n",
       "       [9.32396091e-01, 1.24586679e-02, 5.51452412e-02],\n",
       "       [9.99327459e-01, 8.09397098e-05, 5.91601522e-04],\n",
       "       [9.97650756e-01, 3.17942955e-04, 2.03130121e-03],\n",
       "       [9.99729087e-01, 2.98998736e-05, 2.41013096e-04],\n",
       "       [8.60765593e-01, 2.75004317e-02, 1.11733975e-01],\n",
       "       [9.97650756e-01, 3.17942955e-04, 2.03130121e-03],\n",
       "       [8.86053128e-01, 2.20672226e-02, 9.18796490e-02],\n",
       "       [9.99399734e-01, 7.14676829e-05, 5.28798601e-04],\n",
       "       [8.14181518e-01, 3.77942648e-02, 1.48024217e-01],\n",
       "       [9.99784150e-01, 2.33091572e-05, 1.92541244e-04],\n",
       "       [8.86053128e-01, 2.20672226e-02, 9.18796490e-02],\n",
       "       [9.99659963e-01, 3.83535901e-05, 3.01683390e-04],\n",
       "       [7.76917396e-01, 4.62643226e-02, 1.76818281e-01],\n",
       "       [9.99977688e-01, 1.93171761e-06, 2.03798022e-05],\n",
       "       [9.74770157e-01, 4.24642287e-03, 2.09834203e-02],\n",
       "       [9.77434756e-01, 3.75945979e-03, 1.88057838e-02],\n",
       "       [3.33380066e-02, 2.89164505e-01, 6.77497488e-01],\n",
       "       [9.99784150e-01, 2.33091572e-05, 1.92541244e-04],\n",
       "       [5.24525805e-01, 1.08510489e-01, 3.66963706e-01],\n",
       "       [9.07235027e-01, 1.76133118e-02, 7.51516615e-02],\n",
       "       [9.98509253e-01, 1.93370119e-04, 1.29737734e-03],\n",
       "       [9.99521805e-01, 5.57180676e-05, 4.22476497e-04],\n",
       "       [7.11601582e-01, 6.15684636e-02, 2.26829954e-01],\n",
       "       [9.99922311e-01, 7.60039974e-06, 7.00890612e-05],\n",
       "       [4.95769837e-01, 1.16163131e-01, 3.88067032e-01],\n",
       "       [9.99155737e-01, 1.03813470e-04, 7.40449484e-04],\n",
       "       [9.99862956e-01, 1.41653531e-05, 1.22878650e-04],\n",
       "       [9.98329720e-01, 2.18975043e-04, 1.45130473e-03],\n",
       "       [8.60765593e-01, 2.75004317e-02, 1.11733975e-01],\n",
       "       [9.99464237e-01, 6.31036357e-05, 4.72659002e-04],\n",
       "       [9.98940147e-01, 1.33145560e-04, 9.26707128e-04],\n",
       "       [9.94796445e-01, 7.58033402e-04, 4.44552206e-03],\n",
       "       [9.89731718e-01, 1.59210500e-03, 8.67617683e-03],\n",
       "       [9.99729087e-01, 2.98998736e-05, 2.41013096e-04],\n",
       "       [8.86053128e-01, 2.20672226e-02, 9.18796490e-02],\n",
       "       [9.99960669e-01, 3.60041859e-06, 3.57309482e-05],\n",
       "       [9.77434756e-01, 3.75945979e-03, 1.88057838e-02],\n",
       "       [9.99521805e-01, 5.57180676e-05, 4.22476497e-04],\n",
       "       [9.16440769e-01, 1.57087730e-02, 6.78504582e-02],\n",
       "       [9.95853432e-01, 5.91538266e-04, 3.55502929e-03],\n",
       "       [9.51091028e-01, 8.74667922e-03, 4.01622930e-02],\n",
       "       [9.99985821e-01, 1.17385315e-06, 1.30053464e-05],\n",
       "       [4.10381095e-01, 1.39709393e-01, 4.49909512e-01],\n",
       "       [9.99877665e-01, 1.25069220e-05, 1.09827836e-04],\n",
       "       [8.97126806e-01, 1.97268797e-02, 8.31463146e-02],\n",
       "       [9.97367925e-01, 3.60005733e-04, 2.27206934e-03],\n",
       "       [9.97051092e-01, 4.07619342e-04, 2.54128862e-03],\n",
       "       [9.96696188e-01, 4.61512552e-04, 2.84229904e-03],\n",
       "       [9.74770157e-01, 4.24642287e-03, 2.09834203e-02],\n",
       "       [9.92687793e-01, 1.09904848e-03, 6.21315814e-03],\n",
       "       [9.95354809e-01, 6.69651256e-04, 3.97553948e-03],\n",
       "       [9.95853432e-01, 5.91538266e-04, 3.55502929e-03],\n",
       "       [4.10381095e-01, 1.39709393e-01, 4.49909512e-01],\n",
       "       [9.95853432e-01, 5.91538266e-04, 3.55502929e-03],\n",
       "       [4.16744871e-02, 2.81779191e-01, 6.76546322e-01],\n",
       "       [9.74770157e-01, 4.24642287e-03, 2.09834203e-02],\n",
       "       [6.87456097e-01, 6.73673912e-02, 2.45176512e-01],\n",
       "       [9.77434756e-01, 3.75945979e-03, 1.88057838e-02],\n",
       "       [5.53113537e-01, 1.01026614e-01, 3.45859849e-01],\n",
       "       [9.92687793e-01, 1.09904848e-03, 6.21315814e-03],\n",
       "       [9.98329720e-01, 2.18975043e-04, 1.45130473e-03],\n",
       "       [9.99729087e-01, 2.98998736e-05, 2.41013096e-04],\n",
       "       [8.86053128e-01, 2.20672226e-02, 9.18796490e-02],\n",
       "       [9.99521805e-01, 5.57180676e-05, 4.22476497e-04],\n",
       "       [9.97367925e-01, 3.60005733e-04, 2.27206934e-03],\n",
       "       [9.56149314e-01, 7.76360593e-03, 3.60870798e-02],\n",
       "       [8.46438601e-01, 3.06290427e-02, 1.22932356e-01],\n",
       "       [9.99846476e-01, 1.60436654e-05, 1.37480045e-04],\n",
       "       [9.32396091e-01, 1.24586679e-02, 5.51452412e-02],\n",
       "       [9.90829578e-01, 1.40724538e-03, 7.76317677e-03],\n",
       "       [8.30923598e-01, 3.40551192e-02, 1.35021283e-01],\n",
       "       [9.88503728e-01, 1.80100898e-03, 9.69526338e-03],\n",
       "       [1.97772093e-01, 2.06515863e-01, 5.95712044e-01],\n",
       "       [9.93471306e-01, 9.71127263e-04, 5.55756640e-03],\n",
       "       [4.38511077e-01, 1.31806090e-01, 4.29682833e-01],\n",
       "       [9.99054066e-01, 1.17569011e-04, 8.28364796e-04],\n",
       "       [9.97903222e-01, 2.80786191e-04, 1.81599154e-03],\n",
       "       [9.95853432e-01, 5.91538266e-04, 3.55502929e-03],\n",
       "       [8.86053128e-01, 2.20672226e-02, 9.18796490e-02],\n",
       "       [9.99758182e-01, 2.63996787e-05, 2.15418445e-04],\n",
       "       [9.56149314e-01, 7.76360593e-03, 3.60870798e-02],\n",
       "       [9.98812506e-01, 1.50783751e-04, 1.03671027e-03],\n",
       "       [9.74770157e-01, 4.24642287e-03, 2.09834203e-02],\n",
       "       [9.56149314e-01, 7.76360593e-03, 3.60870798e-02],\n",
       "       [9.32396091e-01, 1.24586679e-02, 5.51452412e-02],\n",
       "       [9.99995431e-01, 3.37897086e-07, 4.23079675e-06],\n",
       "       [9.24807084e-01, 1.39960557e-02, 6.11968599e-02],\n",
       "       [9.98329720e-01, 2.18975043e-04, 1.45130473e-03],\n",
       "       [9.88503728e-01, 1.80100898e-03, 9.69526338e-03],\n",
       "       [9.85595436e-01, 2.30357815e-03, 1.21009863e-02],\n",
       "       [9.99246476e-01, 9.16663201e-05, 6.61857479e-04],\n",
       "       [9.99619038e-01, 4.34381771e-05, 3.37523498e-04],\n",
       "       [9.97051092e-01, 4.07619342e-04, 2.54128862e-03],\n",
       "       [9.99619038e-01, 4.34381771e-05, 3.37523498e-04],\n",
       "       [8.30923598e-01, 3.40551192e-02, 1.35021283e-01],\n",
       "       [1.50734727e-02, 3.12609464e-01, 6.72317064e-01],\n",
       "       [2.56853183e-04, 4.16285225e-01, 5.83457921e-01],\n",
       "       [5.56740091e-05, 4.55451451e-01, 5.44492875e-01],\n",
       "       [5.19773563e-02, 2.73959359e-01, 6.74063285e-01],\n",
       "       [1.06517664e-05, 4.98170638e-01, 5.01818711e-01],\n",
       "       [6.46480424e-02, 2.65619915e-01, 6.69732042e-01],\n",
       "       [2.37725245e-02, 2.99592341e-01, 6.76635134e-01],\n",
       "       [5.56740091e-05, 4.55451451e-01, 5.44492875e-01],\n",
       "       [2.66195596e-02, 2.96191724e-01, 6.77188717e-01],\n",
       "       [5.56740091e-05, 4.55451451e-01, 5.44492875e-01],\n",
       "       [1.34421366e-02, 3.15747889e-01, 6.70809975e-01],\n",
       "       [3.47353090e-05, 4.67621164e-01, 5.32344100e-01],\n",
       "       [8.48492539e-03, 3.27984696e-01, 6.63530379e-01],\n",
       "       [2.43746285e-05, 4.76772336e-01, 5.23203290e-01],\n",
       "       [2.97962369e-02, 2.92718468e-01, 6.77485295e-01],\n",
       "       [1.42765442e-04, 4.31266665e-01, 5.68590569e-01],\n",
       "       [1.80592146e-04, 4.25260411e-01, 5.74558997e-01],\n",
       "       [1.90487199e-08, 6.54997778e-01, 3.45002203e-01],\n",
       "       [1.68988576e-02, 3.09430272e-01, 6.73670870e-01],\n",
       "       [6.55949478e-04, 3.92563248e-01, 6.06780802e-01],\n",
       "       [6.36066614e-01, 7.99602349e-02, 2.83973151e-01],\n",
       "       [1.48639418e-03, 3.72040137e-01, 6.26473469e-01],\n",
       "       [4.10381095e-01, 1.39709393e-01, 4.49909512e-01],\n",
       "       [1.26928742e-04, 4.34276293e-01, 5.65596779e-01],\n",
       "       [1.19848187e-02, 3.18850405e-01, 6.69164777e-01],\n",
       "       [2.43746285e-05, 4.76772336e-01, 5.23203290e-01],\n",
       "       [1.42765442e-04, 4.31266665e-01, 5.68590569e-01],\n",
       "       [4.61649723e-04, 4.01422652e-01, 5.98115698e-01],\n",
       "       [1.68988576e-02, 3.09430272e-01, 6.73670870e-01],\n",
       "       [9.46230292e-06, 5.01229574e-01, 4.98760964e-01],\n",
       "       [9.07235027e-01, 1.76133118e-02, 7.51516615e-02],\n",
       "       [1.79614722e-06, 5.43937084e-01, 4.56061119e-01],\n",
       "       [6.09053113e-01, 8.67181448e-02, 3.04228742e-01],\n",
       "       [7.92758219e-05, 4.46354890e-01, 5.53565834e-01],\n",
       "       [3.65186708e-04, 4.07353037e-01, 5.92281776e-01],\n",
       "       [4.75835460e-03, 3.42830226e-01, 6.52411420e-01],\n",
       "       [4.23717382e-03, 3.45765718e-01, 6.49997109e-01],\n",
       "       [2.43746285e-05, 4.76772336e-01, 5.23203290e-01],\n",
       "       [9.52169712e-03, 3.24964983e-01, 6.65513320e-01],\n",
       "       [4.12636088e-06, 5.22625381e-01, 4.77370493e-01],\n",
       "       [8.28856143e-04, 3.86679999e-01, 6.12491145e-01],\n",
       "       [2.12226872e-02, 3.02927797e-01, 6.75849516e-01],\n",
       "       [8.91806163e-05, 4.43329533e-01, 5.56581286e-01],\n",
       "       [4.65562644e-02, 2.77928722e-01, 6.75515014e-01],\n",
       "       [8.91806163e-05, 4.43329533e-01, 5.56581286e-01],\n",
       "       [1.00319096e-04, 4.40307875e-01, 5.59591806e-01],\n",
       "       [2.28405596e-04, 4.19272265e-01, 5.80499329e-01],\n",
       "       [8.28856143e-04, 3.86679999e-01, 6.12491145e-01],\n",
       "       [4.39789310e-05, 4.61531090e-01, 5.38424931e-01],\n",
       "       [3.24779965e-04, 4.10325566e-01, 5.89349654e-01],\n",
       "       [2.36934680e-03, 3.60371994e-01, 6.37258659e-01],\n",
       "       [4.94830887e-05, 4.58489869e-01, 5.41460648e-01],\n",
       "       [3.72834685e-02, 2.85521169e-01, 6.77195363e-01],\n",
       "       [1.12844430e-04, 4.37290078e-01, 5.62597078e-01],\n",
       "       [6.09053113e-01, 8.67181448e-02, 3.04228742e-01],\n",
       "       [1.92442390e-05, 4.82881408e-01, 5.17099348e-01],\n",
       "       [6.46480424e-02, 2.65619915e-01, 6.69732042e-01],\n",
       "       [5.83494391e-04, 3.95511652e-01, 6.03904853e-01],\n",
       "       [2.03100660e-04, 4.22264023e-01, 5.77532876e-01],\n",
       "       [4.16744871e-02, 2.81779191e-01, 6.76546322e-01],\n",
       "       [2.74303974e-05, 4.73720077e-01, 5.26252492e-01],\n",
       "       [1.06834381e-02, 3.21921431e-01, 6.67395131e-01],\n",
       "       [3.72834685e-02, 2.85521169e-01, 6.77195363e-01],\n",
       "       [2.66519367e-07, 5.91928306e-01, 4.08071428e-01],\n",
       "       [3.30018182e-01, 1.63239846e-01, 5.06741972e-01],\n",
       "       [4.10603666e-04, 4.04385402e-01, 5.95203995e-01],\n",
       "       [1.00319096e-04, 4.40307875e-01, 5.59591806e-01],\n",
       "       [2.03100660e-04, 4.22264023e-01, 5.77532876e-01],\n",
       "       [2.37725245e-02, 2.99592341e-01, 6.76635134e-01],\n",
       "       [2.56853183e-04, 4.16285225e-01, 5.83457921e-01],\n",
       "       [1.17689631e-03, 3.77885911e-01, 6.20937193e-01],\n",
       "       [2.56853183e-04, 4.16285225e-01, 5.83457921e-01],\n",
       "       [4.23717382e-03, 3.45765718e-01, 6.49997109e-01],\n",
       "       [1.50734727e-02, 3.12609464e-01, 6.72317064e-01],\n",
       "       [5.19773563e-02, 2.73959359e-01, 6.74063285e-01],\n",
       "       [1.19848187e-02, 3.18850405e-01, 6.69164777e-01],\n",
       "       [3.82818908e-01, 1.47609731e-01, 4.69571361e-01],\n",
       "       [1.06834381e-02, 3.21921431e-01, 6.67395131e-01],\n",
       "       [9.07235027e-01, 1.76133118e-02, 7.51516615e-02],\n",
       "       [8.28856143e-04, 3.86679999e-01, 6.12491145e-01],\n",
       "       [4.65562644e-02, 2.77928722e-01, 6.75515014e-01],\n",
       "       [1.67030730e-03, 3.69121063e-01, 6.29208630e-01],\n",
       "       [3.33380066e-02, 2.89164505e-01, 6.77497488e-01],\n",
       "       [5.83494391e-04, 3.95511652e-01, 6.03904853e-01],\n",
       "       [7.34596951e-01, 5.61160615e-02, 2.09286988e-01],\n",
       "       [6.55949478e-04, 3.92563248e-01, 6.06780802e-01],\n",
       "       [2.12226872e-02, 3.02927797e-01, 6.75849516e-01],\n",
       "       [1.17689631e-03, 3.77885911e-01, 6.20937193e-01],\n",
       "       [2.03100660e-04, 4.22264023e-01, 5.77532876e-01],\n",
       "       [7.20105181e-02, 2.61226867e-01, 6.66762615e-01],\n",
       "       [1.50734727e-02, 3.12609464e-01, 6.72317064e-01],\n",
       "       [1.89404443e-02, 3.06204991e-01, 6.74854565e-01],\n",
       "       [4.95769837e-01, 1.16163131e-01, 3.88067032e-01],\n",
       "       [2.37725245e-02, 2.99592341e-01, 6.76635134e-01],\n",
       "       [3.35891584e-03, 3.51618302e-01, 6.45022782e-01],\n",
       "       [2.10884632e-03, 3.63287690e-01, 6.34603464e-01],\n",
       "       [2.56853183e-04, 4.16285225e-01, 5.83457921e-01],\n",
       "       [5.99911028e-03, 3.36932145e-01, 6.57068745e-01],\n",
       "       [5.24525805e-01, 1.08510489e-01, 3.66963706e-01],\n",
       "       [7.20105181e-02, 2.61226867e-01, 6.66762615e-01],\n",
       "       [2.76706867e-09, 6.97794537e-01, 3.02205460e-01],\n",
       "       [7.37368695e-04, 3.89619418e-01, 6.09643213e-01],\n",
       "       [1.67030730e-03, 3.69121063e-01, 6.29208630e-01],\n",
       "       [5.81347935e-01, 9.37506515e-02, 3.24901414e-01],\n",
       "       [1.48457761e-01, 2.25237845e-01, 6.26304393e-01],\n",
       "       [2.16726718e-01, 1.99810134e-01, 5.83463148e-01],\n",
       "       [1.17689631e-03, 3.77885911e-01, 6.20937193e-01],\n",
       "       [5.53113537e-01, 1.01026614e-01, 3.45859849e-01],\n",
       "       [4.10603666e-04, 4.04385402e-01, 5.95203995e-01],\n",
       "       [5.79896156e-02, 2.69860198e-01, 6.72150186e-01],\n",
       "       [4.10603666e-04, 4.04385402e-01, 5.95203995e-01],\n",
       "       [1.42765442e-04, 4.31266665e-01, 5.68590569e-01],\n",
       "       [3.05043407e-01, 1.70896552e-01, 5.24060040e-01],\n",
       "       [4.65562644e-02, 2.77928722e-01, 6.75515014e-01],\n",
       "       [1.42765442e-04, 4.31266665e-01, 5.68590569e-01],\n",
       "       [8.90909626e-02, 2.51935204e-01, 6.58973834e-01],\n",
       "       [6.46480424e-02, 2.65619915e-01, 6.69732042e-01],\n",
       "       [1.34421366e-02, 3.15747889e-01, 6.70809975e-01],\n",
       "       [1.48639418e-03, 3.72040137e-01, 6.26473469e-01],\n",
       "       [7.20105181e-02, 2.61226867e-01, 6.66762615e-01],\n",
       "       [2.28405596e-04, 4.19272265e-01, 5.80499329e-01],\n",
       "       [1.50734727e-02, 3.12609464e-01, 6.72317064e-01],\n",
       "       [8.01374021e-02, 2.56669234e-01, 6.63193364e-01],\n",
       "       [2.58445525e-01, 1.85740827e-01, 5.55813648e-01],\n",
       "       [4.65562644e-02, 2.77928722e-01, 6.75515014e-01],\n",
       "       [4.10381095e-01, 1.39709393e-01, 4.49909512e-01],\n",
       "       [1.60571852e-04, 4.28261330e-01, 5.71578098e-01],\n",
       "       [5.79896156e-02, 2.69860198e-01, 6.72150186e-01],\n",
       "       [2.12226872e-02, 3.02927797e-01, 6.75849516e-01],\n",
       "       [3.72834685e-02, 2.85521169e-01, 6.77195363e-01],\n",
       "       [1.59468037e-06, 5.46970287e-01, 4.53028118e-01],\n",
       "       [3.33380066e-02, 2.89164505e-01, 6.77497488e-01],\n",
       "       [3.24779965e-04, 4.10325566e-01, 5.89349654e-01],\n",
       "       [4.61649723e-04, 4.01422652e-01, 5.98115698e-01],\n",
       "       [3.30018182e-01, 1.63239846e-01, 5.06741972e-01],\n",
       "       [1.12844430e-04, 4.37290078e-01, 5.62597078e-01],\n",
       "       [3.77273387e-03, 3.48694560e-01, 6.47532706e-01],\n",
       "       [1.68988576e-02, 3.09430272e-01, 6.73670870e-01],\n",
       "       [2.10884632e-03, 3.63287690e-01, 6.34603464e-01],\n",
       "       [1.50734727e-02, 3.12609464e-01, 6.72317064e-01],\n",
       "       [1.68988576e-02, 3.09430272e-01, 6.73670870e-01],\n",
       "       [1.32265821e-03, 3.74961590e-01, 6.23715752e-01],\n",
       "       [4.75835460e-03, 3.42830226e-01, 6.52411420e-01],\n",
       "       [7.04684142e-05, 4.49383779e-01, 5.50545752e-01],\n",
       "       [6.46480424e-02, 2.65619915e-01, 6.69732042e-01],\n",
       "       [6.46480424e-02, 2.65619915e-01, 6.69732042e-01],\n",
       "       [7.37368695e-04, 3.89619418e-01, 6.09643213e-01],\n",
       "       [1.34965344e-05, 4.92053195e-01, 5.07933308e-01],\n",
       "       [5.34311805e-03, 3.39886348e-01, 6.54770534e-01],\n",
       "       [2.56853183e-04, 4.16285225e-01, 5.83457921e-01],\n",
       "       [8.90909626e-02, 2.51935204e-01, 6.58973834e-01],\n",
       "       [1.00319096e-04, 4.40307875e-01, 5.59591806e-01],\n",
       "       [3.55983968e-01, 1.55465990e-01, 4.88550042e-01],\n",
       "       [5.56740091e-05, 4.55451451e-01, 5.44492875e-01],\n",
       "       [4.75835460e-03, 3.42830226e-01, 6.52411420e-01],\n",
       "       [2.16584589e-05, 4.79826183e-01, 5.20152158e-01],\n",
       "       [4.75835460e-03, 3.42830226e-01, 6.52411420e-01],\n",
       "       [1.92442390e-05, 4.82881408e-01, 5.17099348e-01],\n",
       "       [4.65562644e-02, 2.77928722e-01, 6.75515014e-01],\n",
       "       [4.61649723e-04, 4.01422652e-01, 5.98115698e-01],\n",
       "       [1.34435539e-01, 2.31012723e-01, 6.34551738e-01],\n",
       "       [1.00319096e-04, 4.40307875e-01, 5.59591806e-01],\n",
       "       [5.19019850e-04, 3.98464756e-01, 6.01016224e-01],\n",
       "       [9.52169712e-03, 3.24964983e-01, 6.65513320e-01],\n",
       "       [1.67030730e-03, 3.69121063e-01, 6.29208630e-01],\n",
       "       [7.04684142e-05, 4.49383779e-01, 5.50545752e-01],\n",
       "       [1.48639418e-03, 3.72040137e-01, 6.26473469e-01],\n",
       "       [2.36486122e-07, 5.94879966e-01, 4.05119797e-01],\n",
       "       [6.73487116e-03, 3.33965453e-01, 6.59299676e-01],\n",
       "       [7.37368695e-04, 3.89619418e-01, 6.09643213e-01],\n",
       "       [1.06834381e-02, 3.21921431e-01, 6.67395131e-01],\n",
       "       [7.96184325e-01, 4.18602324e-02, 1.61955443e-01],\n",
       "       [4.64628626e-06, 5.19572196e-01, 4.80423157e-01],\n",
       "       [3.82818908e-01, 1.47609731e-01, 4.69571361e-01],\n",
       "       [2.36934680e-03, 3.60371994e-01, 6.37258659e-01],\n",
       "       [1.42765442e-04, 4.31266665e-01, 5.68590569e-01],\n",
       "       [3.24779965e-04, 4.10325566e-01, 5.89349654e-01],\n",
       "       [3.30018182e-01, 1.63239846e-01, 5.06741972e-01],\n",
       "       [4.39789310e-05, 4.61531090e-01, 5.38424931e-01],\n",
       "       [2.12226872e-02, 3.02927797e-01, 6.75849516e-01],\n",
       "       [6.14821506e-07, 5.71091816e-01, 4.28907569e-01],\n",
       "       [1.04714425e-03, 3.80813522e-01, 6.18139334e-01],\n",
       "       [6.73487116e-03, 3.33965453e-01, 6.59299676e-01],\n",
       "       [1.06834381e-02, 3.21921431e-01, 6.67395131e-01],\n",
       "       [1.60571852e-04, 4.28261330e-01, 5.71578098e-01],\n",
       "       [6.46480424e-02, 2.65619915e-01, 6.69732042e-01],\n",
       "       [2.88832350e-04, 4.13302974e-01, 5.86408194e-01]])"
      ]
     },
     "execution_count": 42,
     "metadata": {},
     "output_type": "execute_result"
    }
   ],
   "source": [
    "clf.predict_proba(df[[\"bill_length_mm\"]])"
   ]
  },
  {
   "cell_type": "code",
   "execution_count": null,
   "metadata": {
    "cell_id": "9cf70d1b26004dc488c776421fd32e30",
    "deepnote_cell_height": 81,
    "deepnote_cell_type": "code",
    "deepnote_to_be_reexecuted": false,
    "execution_millis": 3,
    "execution_start": 1652031590909,
    "source_hash": "c4093759",
    "tags": []
   },
   "outputs": [],
   "source": [
    "clf2 = LogisticRegression()"
   ]
  },
  {
   "cell_type": "code",
   "execution_count": null,
   "metadata": {
    "cell_id": "23b899cc9c7347dbb9c3e23015d61ede",
    "deepnote_cell_height": 118.1875,
    "deepnote_cell_type": "code",
    "deepnote_output_heights": [
     21.1875
    ],
    "deepnote_to_be_reexecuted": false,
    "execution_millis": 60,
    "execution_start": 1652031629652,
    "source_hash": "ddcc7f22",
    "tags": []
   },
   "outputs": [
    {
     "data": {
      "text/plain": [
       "LogisticRegression()"
      ]
     },
     "execution_count": 45,
     "metadata": {},
     "output_type": "execute_result"
    }
   ],
   "source": [
    "clf2.fit(df[[\"bill_length_mm\",\"flipper_length_mm\"]], df[\"species\"])"
   ]
  },
  {
   "cell_type": "code",
   "execution_count": null,
   "metadata": {
    "cell_id": "3c8b6fb700374d459baa4db62989be81",
    "deepnote_cell_height": 118.1875,
    "deepnote_cell_type": "code",
    "deepnote_output_heights": [
     21.1875
    ],
    "deepnote_to_be_reexecuted": false,
    "execution_millis": 9,
    "execution_start": 1652031649556,
    "source_hash": "6da9e216",
    "tags": []
   },
   "outputs": [
    {
     "data": {
      "text/plain": [
       "0.9579579579579579"
      ]
     },
     "execution_count": 46,
     "metadata": {},
     "output_type": "execute_result"
    }
   ],
   "source": [
    "clf2.score(df[[\"bill_length_mm\",\"flipper_length_mm\"]], df[\"species\"])"
   ]
  },
  {
   "cell_type": "code",
   "execution_count": null,
   "metadata": {
    "cell_id": "26ede0ca64ce4e54851cf39dc34f6d53",
    "deepnote_cell_height": 708,
    "deepnote_cell_type": "code",
    "deepnote_output_heights": [
     611
    ],
    "deepnote_to_be_reexecuted": false,
    "execution_millis": 19,
    "execution_start": 1652031693090,
    "source_hash": "3f187a9c",
    "tags": [
     "output_scroll"
    ]
   },
   "outputs": [
    {
     "data": {
      "text/plain": [
       "array(['Adelie', 'Adelie', 'Adelie', 'Adelie', 'Adelie', 'Adelie',\n",
       "       'Adelie', 'Adelie', 'Adelie', 'Adelie', 'Adelie', 'Adelie',\n",
       "       'Adelie', 'Adelie', 'Chinstrap', 'Adelie', 'Adelie', 'Adelie',\n",
       "       'Adelie', 'Adelie', 'Adelie', 'Adelie', 'Adelie', 'Adelie',\n",
       "       'Adelie', 'Adelie', 'Adelie', 'Adelie', 'Adelie', 'Adelie',\n",
       "       'Adelie', 'Adelie', 'Adelie', 'Adelie', 'Adelie', 'Adelie',\n",
       "       'Adelie', 'Adelie', 'Adelie', 'Adelie', 'Adelie', 'Adelie',\n",
       "       'Adelie', 'Adelie', 'Adelie', 'Adelie', 'Adelie', 'Adelie',\n",
       "       'Adelie', 'Adelie', 'Adelie', 'Adelie', 'Adelie', 'Adelie',\n",
       "       'Adelie', 'Adelie', 'Adelie', 'Adelie', 'Adelie', 'Adelie',\n",
       "       'Adelie', 'Adelie', 'Adelie', 'Adelie', 'Adelie', 'Adelie',\n",
       "       'Adelie', 'Chinstrap', 'Adelie', 'Adelie', 'Adelie', 'Adelie',\n",
       "       'Adelie', 'Adelie', 'Adelie', 'Adelie', 'Adelie', 'Adelie',\n",
       "       'Adelie', 'Adelie', 'Adelie', 'Adelie', 'Adelie', 'Adelie',\n",
       "       'Adelie', 'Adelie', 'Adelie', 'Adelie', 'Adelie', 'Gentoo',\n",
       "       'Adelie', 'Adelie', 'Adelie', 'Adelie', 'Adelie', 'Adelie',\n",
       "       'Adelie', 'Adelie', 'Adelie', 'Adelie', 'Adelie', 'Adelie',\n",
       "       'Adelie', 'Adelie', 'Adelie', 'Chinstrap', 'Adelie', 'Adelie',\n",
       "       'Adelie', 'Adelie', 'Adelie', 'Adelie', 'Adelie', 'Adelie',\n",
       "       'Adelie', 'Adelie', 'Adelie', 'Adelie', 'Adelie', 'Adelie',\n",
       "       'Adelie', 'Adelie', 'Adelie', 'Gentoo', 'Adelie', 'Adelie',\n",
       "       'Adelie', 'Adelie', 'Adelie', 'Adelie', 'Adelie', 'Adelie',\n",
       "       'Adelie', 'Adelie', 'Adelie', 'Adelie', 'Adelie', 'Adelie',\n",
       "       'Adelie', 'Adelie', 'Adelie', 'Adelie', 'Adelie', 'Adelie',\n",
       "       'Adelie', 'Adelie', 'Chinstrap', 'Chinstrap', 'Chinstrap',\n",
       "       'Chinstrap', 'Chinstrap', 'Chinstrap', 'Chinstrap', 'Chinstrap',\n",
       "       'Chinstrap', 'Chinstrap', 'Chinstrap', 'Chinstrap', 'Chinstrap',\n",
       "       'Chinstrap', 'Chinstrap', 'Chinstrap', 'Chinstrap', 'Chinstrap',\n",
       "       'Chinstrap', 'Chinstrap', 'Adelie', 'Chinstrap', 'Adelie',\n",
       "       'Chinstrap', 'Chinstrap', 'Chinstrap', 'Chinstrap', 'Chinstrap',\n",
       "       'Chinstrap', 'Chinstrap', 'Adelie', 'Chinstrap', 'Adelie',\n",
       "       'Chinstrap', 'Chinstrap', 'Chinstrap', 'Chinstrap', 'Chinstrap',\n",
       "       'Chinstrap', 'Chinstrap', 'Gentoo', 'Chinstrap', 'Chinstrap',\n",
       "       'Chinstrap', 'Chinstrap', 'Chinstrap', 'Chinstrap', 'Gentoo',\n",
       "       'Chinstrap', 'Chinstrap', 'Chinstrap', 'Chinstrap', 'Chinstrap',\n",
       "       'Chinstrap', 'Adelie', 'Chinstrap', 'Chinstrap', 'Chinstrap',\n",
       "       'Chinstrap', 'Chinstrap', 'Chinstrap', 'Chinstrap', 'Chinstrap',\n",
       "       'Chinstrap', 'Adelie', 'Chinstrap', 'Chinstrap', 'Chinstrap',\n",
       "       'Gentoo', 'Gentoo', 'Gentoo', 'Gentoo', 'Gentoo', 'Gentoo',\n",
       "       'Gentoo', 'Gentoo', 'Gentoo', 'Gentoo', 'Gentoo', 'Gentoo',\n",
       "       'Gentoo', 'Gentoo', 'Gentoo', 'Gentoo', 'Gentoo', 'Gentoo',\n",
       "       'Gentoo', 'Gentoo', 'Gentoo', 'Gentoo', 'Gentoo', 'Gentoo',\n",
       "       'Gentoo', 'Gentoo', 'Gentoo', 'Gentoo', 'Gentoo', 'Gentoo',\n",
       "       'Gentoo', 'Gentoo', 'Gentoo', 'Gentoo', 'Gentoo', 'Gentoo',\n",
       "       'Gentoo', 'Gentoo', 'Gentoo', 'Gentoo', 'Gentoo', 'Gentoo',\n",
       "       'Gentoo', 'Gentoo', 'Gentoo', 'Gentoo', 'Gentoo', 'Gentoo',\n",
       "       'Gentoo', 'Gentoo', 'Gentoo', 'Gentoo', 'Gentoo', 'Gentoo',\n",
       "       'Gentoo', 'Gentoo', 'Gentoo', 'Gentoo', 'Gentoo', 'Gentoo',\n",
       "       'Gentoo', 'Gentoo', 'Gentoo', 'Gentoo', 'Gentoo', 'Gentoo',\n",
       "       'Gentoo', 'Gentoo', 'Gentoo', 'Gentoo', 'Gentoo', 'Gentoo',\n",
       "       'Gentoo', 'Gentoo', 'Gentoo', 'Gentoo', 'Gentoo', 'Gentoo',\n",
       "       'Gentoo', 'Gentoo', 'Gentoo', 'Gentoo', 'Gentoo', 'Gentoo',\n",
       "       'Gentoo', 'Gentoo', 'Gentoo', 'Gentoo', 'Gentoo', 'Gentoo',\n",
       "       'Gentoo', 'Gentoo', 'Gentoo', 'Gentoo', 'Gentoo', 'Gentoo',\n",
       "       'Chinstrap', 'Gentoo', 'Gentoo', 'Gentoo', 'Gentoo', 'Gentoo',\n",
       "       'Gentoo', 'Gentoo', 'Gentoo', 'Gentoo', 'Gentoo', 'Gentoo',\n",
       "       'Gentoo', 'Gentoo', 'Gentoo', 'Gentoo', 'Gentoo', 'Gentoo',\n",
       "       'Gentoo', 'Gentoo', 'Gentoo', 'Gentoo', 'Gentoo'], dtype=object)"
      ]
     },
     "execution_count": 49,
     "metadata": {},
     "output_type": "execute_result"
    }
   ],
   "source": [
    "clf2.predict(df[[\"bill_length_mm\",\"flipper_length_mm\"]])"
   ]
  },
  {
   "cell_type": "code",
   "execution_count": null,
   "metadata": {
    "cell_id": "3bfc166988c646b1b9fb7c4d295e67b4",
    "deepnote_cell_height": 329.34375,
    "deepnote_cell_type": "code",
    "deepnote_output_heights": [
     232.34375
    ],
    "deepnote_to_be_reexecuted": false,
    "execution_millis": 9,
    "execution_start": 1652031680781,
    "source_hash": "4abe6f13",
    "tags": []
   },
   "outputs": [
    {
     "data": {
      "text/plain": [
       "0      True\n",
       "1      True\n",
       "2      True\n",
       "4      True\n",
       "5      True\n",
       "       ... \n",
       "338    True\n",
       "340    True\n",
       "341    True\n",
       "342    True\n",
       "343    True\n",
       "Name: species, Length: 333, dtype: bool"
      ]
     },
     "execution_count": 48,
     "metadata": {},
     "output_type": "execute_result"
    }
   ],
   "source": [
    "clf2.predict(df[[\"bill_length_mm\",\"flipper_length_mm\"]]) == df[\"species\"]"
   ]
  },
  {
   "cell_type": "code",
   "execution_count": null,
   "metadata": {
    "cell_id": "1a63a1cfb717460cbea562ec6f91f731",
    "deepnote_cell_height": 118.1875,
    "deepnote_cell_type": "code",
    "deepnote_output_heights": [
     21.1875
    ],
    "deepnote_to_be_reexecuted": false,
    "execution_millis": 3,
    "execution_start": 1652031728217,
    "source_hash": "59d4b359",
    "tags": []
   },
   "outputs": [
    {
     "data": {
      "text/plain": [
       "0.9579579579579579"
      ]
     },
     "execution_count": 50,
     "metadata": {},
     "output_type": "execute_result"
    }
   ],
   "source": [
    "(clf2.predict(df[[\"bill_length_mm\",\"flipper_length_mm\"]]) == df[\"species\"]).mean()"
   ]
  }
 ],
 "metadata": {
  "deepnote": {},
  "deepnote_execution_queue": [],
  "deepnote_notebook_id": "62670b7f-300e-468b-90a7-4bd218afd9a1",
  "kernelspec": {
   "display_name": "Python 3 (ipykernel)",
   "language": "python",
   "name": "python3"
  },
  "language_info": {
   "codemirror_mode": {
    "name": "ipython",
    "version": 3
   },
   "file_extension": ".py",
   "mimetype": "text/x-python",
   "name": "python",
   "nbconvert_exporter": "python",
   "pygments_lexer": "ipython3",
   "version": "3.7.12"
  }
 },
 "nbformat": 4,
 "nbformat_minor": 4
}
