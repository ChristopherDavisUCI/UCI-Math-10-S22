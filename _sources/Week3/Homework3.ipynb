{
 "cells": [
  {
   "cell_type": "markdown",
   "metadata": {
    "cell_id": "e6934dc6-8894-453e-8db2-c61c1e646e97",
    "deepnote_cell_height": 156.796875,
    "deepnote_cell_type": "markdown",
    "tags": []
   },
   "source": [
    "# Homework 3\n",
    "\n",
    "Author: BLANK\n",
    "\n",
    "Collaborators: BLANK"
   ]
  },
  {
   "cell_type": "markdown",
   "metadata": {
    "cell_id": "6c88243108e34a83ae505c506b94f17f",
    "deepnote_cell_height": 243.390625,
    "deepnote_cell_type": "markdown",
    "tags": []
   },
   "source": [
    "## Question 1\n",
    "\n",
    "* Import the attached \"indexInfo.csv\" file.\n",
    "* Use the `rename` method ([documentation](https://pandas.pydata.org/docs/reference/api/pandas.DataFrame.rename.html)) to rename the \"Index\" column as \"Abbreviation\" and the \"Exchange\" column as \"Full Name\".  You will have to specify the keyword argument `axis=1`, which indicates that we are changing names in the columns axis and not in the rows axis.\n",
    "* Use the `set_index` method ([documentation](https://pandas.pydata.org/docs/reference/api/pandas.DataFrame.set_index.html)) to set the \"Abbreviation\" column as the new index of this DataFrame.\n",
    "* Give the resulting DataFrame the variable name `df_info`."
   ]
  },
  {
   "cell_type": "markdown",
   "metadata": {
    "cell_id": "0f06f001e822420487409d737e09a3c5",
    "deepnote_cell_height": 189.59375,
    "deepnote_cell_type": "markdown",
    "tags": []
   },
   "source": [
    "## Question 2\n",
    "\n",
    "* Write a function `fullname` which takes as input an abbreviation string like \"N225\" and as output returns the full name, like \"Tokyo Stock Exchange\".  As another example, `fullname(\"NYA\")` should be equal to \"New York Stock Exchange\".  (Hint.  Figure out how to use the pandas Series `df_info[\"Full Name\"]`.  This question will be much easier because you set the `index` in the previous part.)"
   ]
  },
  {
   "cell_type": "markdown",
   "metadata": {
    "cell_id": "fd62128f6e7d42569bd94359d9dca148",
    "deepnote_cell_height": 170.1875,
    "deepnote_cell_type": "markdown",
    "tags": []
   },
   "source": [
    "## Question 3\n",
    "\n",
    "* Load the attached \"indexData.csv\" file.  Save the result with the variable name `df_pre`.\n",
    "* Add a new column named \"Full Name\" to `df_pre` which contains the full name of each stock exchange.  (Hint.  Use `map` and the function you wrote above.)"
   ]
  },
  {
   "cell_type": "markdown",
   "metadata": {
    "cell_id": "84354c7d85cf4fa692a98dac19647220",
    "deepnote_cell_height": 206.59375,
    "deepnote_cell_type": "markdown",
    "tags": []
   },
   "source": [
    "## Question 4\n",
    "\n",
    "Here are two ways to drop rows with missing data from a DataFrame.\n",
    "* Use the code `df_pre.dropna()`.\n",
    "* Use our \"usual\" method, involving Boolean indexing, `isna`, `any`, and `axis`.\n",
    "Time both of these separately using `%%timeit`.  Write a markdown cell saying how the speeds compare."
   ]
  },
  {
   "cell_type": "markdown",
   "metadata": {
    "cell_id": "457f2b1baa5349b39d4e75a425768054",
    "deepnote_cell_height": 192.59375,
    "deepnote_cell_type": "markdown",
    "tags": []
   },
   "source": [
    "## Question 5\n",
    "* Using whichever method you prefer, make a new DataFrame with the variable name `df` which has the same data as `df_pre` but with the rows with missing data dropped.  (Consider adding `.copy()` at the end of your code, especially if warnings show up later.)\n",
    "* Check your answer.  The `shape` of `df` should be the tuple `(110253, 9)`."
   ]
  },
  {
   "cell_type": "markdown",
   "metadata": {
    "cell_id": "6e692d625d5a44e2b278adefc1e40990",
    "deepnote_cell_height": 417.171875,
    "deepnote_cell_type": "markdown",
    "tags": []
   },
   "source": [
    "## Question 6\n",
    "\n",
    "The \"Date\" column contains strings like \"12/31/65\", which means \"12/31/1965\", as well as strings like \"6/2/21\", which means \"6/2/2021\".\n",
    "* Write a function `fix_date` which takes as input strings like \"12/31/65\" and \"6/2/21\", and as output returns strings like, for example, \"12/31/1965\" and \"6/2/2021\".  (Hint.  You can slice a string just like you can slice a list.  Notice that there are no dates in the \"Date\" column from before 1960, so if something like \"1/1/10\" appears, you can be sure that it stands for 2010 and not 1910.)\n",
    "* Try to make the code for your `fix_date` function *DRY*, including as little repetition as possible. \n",
    "* Use `map` to apply `fix_date` to all of the entries in the \"Date\" column.  Name the resulting pandas Series `temp_series`.\n",
    "* Insert a new column into `df`, named \"Date2\", which contains the `temp_series` values converted to pandas datetime objects using `pd.to_datetime`.  (Be sure to apply `pd.to_datetime` to the whole Series, not to the individual entries.  There is no need to use `map` in this portion.)\n",
    "* Check your work.  If you evaluate `df.dtypes`, you should see that the \"Date\" column has \"object\" as its dtype and that the \"Date2\" column has \"datetime64[ns]\" (or something similar) as its dtype."
   ]
  },
  {
   "cell_type": "markdown",
   "metadata": {
    "cell_id": "eeacfadafa2a4b61a48444eeedd94d23",
    "deepnote_cell_height": 237.390625,
    "deepnote_cell_type": "markdown",
    "tags": []
   },
   "source": [
    "## Question 7\n",
    "* Define a DataFrame `df_sub` that contains only rows from `df` that occurred on a Tuesday in the year 2000 or later.  (More details: If `s` is a pandas Series of datetime objects, you can use `s.dt.year` to access the year and you can use `s.dt.day_name()` to access the day name.  I'm not sure why one requires no parentheses and the other requires parentheses.)\n",
    "* Check your work: The shape of `df_sub` should be `(14063, 10)`, and the first date in `df_sub` should be from January 4th, 2000."
   ]
  },
  {
   "cell_type": "markdown",
   "metadata": {
    "cell_id": "4eea960dcaed45539ff1793b64f941ba",
    "deepnote_cell_height": 288.1875,
    "deepnote_cell_type": "markdown",
    "deepnote_to_be_reexecuted": false,
    "execution_millis": 6,
    "execution_start": 1649722051871,
    "source_hash": "cae5037e",
    "tags": []
   },
   "source": [
    "## Question 8\n",
    "* By default, Altair can only be used with DataFrames with 5000 rows or fewer.  Replace 5000 with 15000 by using the following code.\n",
    "```\n",
    "alt.data_transformers.enable('default', max_rows=15000)\n",
    "```\n",
    "* Define an Altair `selection_interval` using the following code.\n",
    "```\n",
    "brush = alt.selection_interval(encodings=[\"x\"])\n",
    "```\n",
    "The portion `encodings=[\"x\"]` specifies that the selection can only be made along the x-axis."
   ]
  },
  {
   "cell_type": "markdown",
   "metadata": {
    "cell_id": "64443dfb1fae4d168f7f68a07855ad18",
    "deepnote_cell_height": 195.59375,
    "deepnote_cell_type": "markdown",
    "tags": []
   },
   "source": [
    "## Question 9\n",
    "* Make an Altair line chart `c` using `df_sub` for the data, using the \"Date2\" column for the x-axis, using \"Close\" for the y-axis, and using \"Full Name\" for the color.  For the color scheme (see the [Altair documentation](https://altair-viz.github.io/user_guide/customization.html#color-schemes)), use \"category20\".\n",
    "* Add the `brush` to `c` using `add_selection`.\n",
    "* Specify that `c` should have a width of 600 and a height of 100, as in [this example](https://altair-viz.github.io/user_guide/customization.html#adjusting-chart-size) from the Altair documentation."
   ]
  },
  {
   "cell_type": "markdown",
   "metadata": {
    "cell_id": "e49851bca69348e49a8647a086335a4a",
    "deepnote_cell_height": 240.390625,
    "deepnote_cell_type": "markdown",
    "tags": []
   },
   "source": [
    "## Question 10\n",
    "* Make a similar chart `c_detail`, again using `df_sub` for the data, using the \"Date2\" column for the x-axis, using \"Close\" for the y-axis, and using \"Full Name\" for the color, again with `scheme=\"category20\"`.  (So far, `c_detail` is exactly the same as `c`.)\n",
    "* Instead of using `add_selection`, for `c_detail` use `transform_filter(brush)`, so that only the data points selected in `c` will be shown.\n",
    "* Specify that `c_detail` should have a width of 600 and a height of 400."
   ]
  },
  {
   "cell_type": "markdown",
   "metadata": {
    "cell_id": "edfd8762a1414046a1063a670d05150f",
    "deepnote_cell_height": 170.1875,
    "deepnote_cell_type": "markdown",
    "tags": []
   },
   "source": [
    "## Question 11\n",
    "* Display `c_detail` above `c`, using `c_detail&c`.\n",
    "* Try clicking and dragging on the `c` chart.  The `c_detail` chart should respond by displaying only the data from the highlighted region. "
   ]
  },
  {
   "cell_type": "markdown",
   "metadata": {
    "cell_id": "b82d8e32f036410a871b87f62d4ad81a",
    "deepnote_cell_height": 130.796875,
    "deepnote_cell_type": "markdown",
    "owner_user_id": "02be19f8-8497-4212-b8d0-46ca9f1d48b9",
    "tags": []
   },
   "source": [
    "## Submission\n",
    "\n",
    "To submit this homework, go to the Share option at the top right, and share the project to create a link, and then submit that link on Canvas."
   ]
  },
  {
   "cell_type": "markdown",
   "metadata": {
    "created_in_deepnote_cell": true,
    "deepnote_cell_type": "markdown",
    "tags": []
   },
   "source": [
    "<a style='text-decoration:none;line-height:16px;display:flex;color:#5B5B62;padding:10px;justify-content:end;' href='https://deepnote.com?utm_source=created-in-deepnote-cell&projectId=c8349bdd-9dfc-4087-b93a-3b1b6b4635cd' target=\"_blank\">\n",
    "<img alt='Created in deepnote.com' style='display:inline;max-height:16px;margin:0px;margin-right:7.5px;' src='data:image/svg+xml;base64,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' > </img>\n",
    "Created in <span style='font-weight:600;margin-left:4px;'>Deepnote</span></a>"
   ]
  }
 ],
 "metadata": {
  "deepnote": {
   "is_reactive": false
  },
  "deepnote_execution_queue": [],
  "deepnote_notebook_id": "a23aed36-5a36-4942-bc42-dec3745bc18b",
  "kernelspec": {
   "display_name": "Python 3 (ipykernel)",
   "language": "python",
   "name": "python3"
  },
  "language_info": {
   "codemirror_mode": {
    "name": "ipython",
    "version": 3
   },
   "file_extension": ".py",
   "mimetype": "text/x-python",
   "name": "python",
   "nbconvert_exporter": "python",
   "pygments_lexer": "ipython3",
   "version": "3.7.12"
  }
 },
 "nbformat": 4,
 "nbformat_minor": 4
}
