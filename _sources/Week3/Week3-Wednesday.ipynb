{
 "cells": [
  {
   "cell_type": "markdown",
   "metadata": {
    "cell_id": "a2817e3c-29ee-4ac8-a7cd-a62176d2d2c3",
    "deepnote_cell_height": 82,
    "deepnote_cell_type": "markdown",
    "tags": []
   },
   "source": [
    "# Working with dates in pandas\n",
    "\n",
    "The first part is about how to find missing values (for example, how to know that they are represented by a blank space in the Spotify dataset).  The second part is about working with dates in pandas."
   ]
  },
  {
   "cell_type": "markdown",
   "metadata": {
    "cell_id": "bf6b84066cc643a2a7de02e91d691e9f",
    "deepnote_cell_height": 108.390625,
    "deepnote_cell_type": "markdown",
    "tags": []
   },
   "source": [
    "## count\n",
    "\n",
    "lists and strings both have a `count` method."
   ]
  },
  {
   "cell_type": "code",
   "execution_count": 1,
   "metadata": {
    "cell_id": "3aaea7553de64c558a3a45cd9aa49c71",
    "deepnote_cell_height": 81,
    "deepnote_cell_type": "code",
    "deepnote_to_be_reexecuted": false,
    "execution_millis": 0,
    "execution_start": 1649880171084,
    "source_hash": "eb8c85d2",
    "tags": []
   },
   "outputs": [],
   "source": [
    "my_list = [3,4,3135]"
   ]
  },
  {
   "cell_type": "code",
   "execution_count": 2,
   "metadata": {
    "cell_id": "2d5aef842097414abf6eb6f4db08e0ac",
    "deepnote_cell_height": 118.1875,
    "deepnote_cell_type": "code",
    "deepnote_output_heights": [
     21.1875
    ],
    "deepnote_to_be_reexecuted": false,
    "execution_millis": 5,
    "execution_start": 1649880216969,
    "source_hash": "547bc65c",
    "tags": []
   },
   "outputs": [
    {
     "data": {
      "text/plain": [
       "1"
      ]
     },
     "execution_count": 2,
     "metadata": {},
     "output_type": "execute_result"
    }
   ],
   "source": [
    "my_list.count(3)"
   ]
  },
  {
   "cell_type": "code",
   "execution_count": 3,
   "metadata": {
    "cell_id": "0cd54483fd304ba1bd9c9e0d0db77b49",
    "deepnote_cell_height": 81,
    "deepnote_cell_type": "code",
    "deepnote_to_be_reexecuted": false,
    "execution_millis": 0,
    "execution_start": 1649880257458,
    "source_hash": "90263254",
    "tags": []
   },
   "outputs": [],
   "source": [
    "s = \"Hello there, how are you?\""
   ]
  },
  {
   "cell_type": "code",
   "execution_count": 4,
   "metadata": {
    "cell_id": "d27765ab9ba946e4b501b338cf4afd12",
    "deepnote_cell_height": 118.1875,
    "deepnote_cell_type": "code",
    "deepnote_output_heights": [
     21.1875
    ],
    "deepnote_to_be_reexecuted": false,
    "execution_millis": 7,
    "execution_start": 1649880266763,
    "source_hash": "53911d47",
    "tags": []
   },
   "outputs": [
    {
     "data": {
      "text/plain": [
       "4"
      ]
     },
     "execution_count": 4,
     "metadata": {},
     "output_type": "execute_result"
    }
   ],
   "source": [
    "s.count(\"e\")"
   ]
  },
  {
   "cell_type": "code",
   "execution_count": 5,
   "metadata": {
    "cell_id": "1aee9576f17a4317bae4c5729c75ebe2",
    "deepnote_cell_height": 118.1875,
    "deepnote_cell_type": "code",
    "deepnote_output_heights": [
     21.1875
    ],
    "deepnote_to_be_reexecuted": false,
    "execution_millis": 12,
    "execution_start": 1649880283950,
    "source_hash": "4c85bf43",
    "tags": []
   },
   "outputs": [
    {
     "data": {
      "text/plain": [
       "2"
      ]
     },
     "execution_count": 5,
     "metadata": {},
     "output_type": "execute_result"
    }
   ],
   "source": [
    "s.count(\"re\")"
   ]
  },
  {
   "cell_type": "code",
   "execution_count": 6,
   "metadata": {
    "cell_id": "f0a3d98680154aa58ed3143752b15ab8",
    "deepnote_cell_height": 118.1875,
    "deepnote_cell_type": "code",
    "deepnote_output_heights": [
     21.1875
    ],
    "deepnote_to_be_reexecuted": false,
    "execution_millis": 19,
    "execution_start": 1649880317694,
    "source_hash": "2b25c539",
    "tags": []
   },
   "outputs": [
    {
     "data": {
      "text/plain": [
       "1"
      ]
     },
     "execution_count": 6,
     "metadata": {},
     "output_type": "execute_result"
    }
   ],
   "source": [
    "s.count(\"er\")"
   ]
  },
  {
   "cell_type": "markdown",
   "metadata": {
    "cell_id": "8fbf1e8f89464b99a6e33a2e1314611f",
    "deepnote_cell_height": 327.578125,
    "deepnote_cell_type": "markdown",
    "tags": []
   },
   "source": [
    "## How to identify na_values?\n",
    "\n",
    "The missing values in the spotify dataset are denoted by a blank space \" \".  If you didn't know to look for \" \", how could you identify it?  Here is one approach.\n",
    "\n",
    "* Import the attached Spotify dataset as `df`.  **Do not** specify `na_values`.\n",
    "* Most of the cells in the \"Release Date\" column contain a string that looks like \"2017-12-08\".  Using list comprehension and the `count` method from above, make a list `shortlist` containing all the entries which have fewer than two hyphen (minus) symbols.\n",
    "* Do the same thing using a for loop and an if statement.\n",
    "* Check: `shortlist` should have 28 entries.\n",
    "* One at a time, print the elements with fewer than two hyphen symbols.  (Use a for loop for this part.)"
   ]
  },
  {
   "cell_type": "code",
   "execution_count": 7,
   "metadata": {
    "cell_id": "f1775c482b304747a1a65b733f0c9a29",
    "deepnote_cell_height": 81,
    "deepnote_cell_type": "code",
    "deepnote_to_be_reexecuted": false,
    "execution_millis": 0,
    "execution_start": 1649880692481,
    "source_hash": "9b82ee11",
    "tags": []
   },
   "outputs": [],
   "source": [
    "import pandas as pd"
   ]
  },
  {
   "cell_type": "code",
   "execution_count": 8,
   "metadata": {
    "cell_id": "5127ef14436e4b30a6f3c5a1f3b65eba",
    "deepnote_cell_height": 81,
    "deepnote_cell_type": "code",
    "deepnote_to_be_reexecuted": false,
    "execution_millis": 0,
    "execution_start": 1649880702185,
    "source_hash": "3f39c031",
    "tags": []
   },
   "outputs": [],
   "source": [
    "df = pd.read_csv(\"../data/spotify_dataset.csv\")"
   ]
  },
  {
   "cell_type": "code",
   "execution_count": 9,
   "metadata": {
    "cell_id": "bd9cf6d2ef094f57993e4418b782547e",
    "deepnote_cell_height": 329.34375,
    "deepnote_cell_type": "code",
    "deepnote_output_heights": [
     232.34375
    ],
    "deepnote_to_be_reexecuted": false,
    "execution_millis": 15,
    "execution_start": 1649880716244,
    "source_hash": "4812419a",
    "tags": []
   },
   "outputs": [
    {
     "data": {
      "text/plain": [
       "0     2017-12-08\n",
       "1     2021-07-09\n",
       "2     2021-05-21\n",
       "3     2021-06-25\n",
       "4     2021-07-23\n",
       "5     2021-03-31\n",
       "6     2021-04-09\n",
       "7     2021-05-20\n",
       "8     2021-06-04\n",
       "9     2021-03-19\n",
       "10    2020-10-01\n",
       "Name: Release Date, dtype: object"
      ]
     },
     "execution_count": 9,
     "metadata": {},
     "output_type": "execute_result"
    }
   ],
   "source": [
    "df.loc[:10,\"Release Date\"]"
   ]
  },
  {
   "cell_type": "code",
   "execution_count": 10,
   "metadata": {
    "cell_id": "2aad871f701048c5a8e07b343ed95b9c",
    "deepnote_cell_height": 654.46875,
    "deepnote_cell_type": "code",
    "deepnote_output_heights": [
     539.46875
    ],
    "deepnote_to_be_reexecuted": false,
    "execution_millis": 3,
    "execution_start": 1649880976900,
    "source_hash": "ae43004d",
    "tags": []
   },
   "outputs": [
    {
     "data": {
      "text/plain": [
       "[' ',\n",
       " '2014',\n",
       " ' ',\n",
       " '1995',\n",
       " ' ',\n",
       " '2015',\n",
       " ' ',\n",
       " '1995',\n",
       " '1963',\n",
       " ' ',\n",
       " '1962',\n",
       " '1963',\n",
       " ' ',\n",
       " '2002',\n",
       " '1990',\n",
       " '1981',\n",
       " '1957-09',\n",
       " '1957-09',\n",
       " '1994',\n",
       " ' ',\n",
       " ' ',\n",
       " ' ',\n",
       " '2012',\n",
       " '1981',\n",
       " ' ',\n",
       " '2016',\n",
       " '2016',\n",
       " ' ']"
      ]
     },
     "execution_count": 10,
     "metadata": {},
     "output_type": "execute_result"
    }
   ],
   "source": [
    "shortlist = [s for s in df[\"Release Date\"] if s.count(\"-\") < 2]\n",
    "shortlist"
   ]
  },
  {
   "cell_type": "markdown",
   "metadata": {},
   "source": [
    "Here is an alternative approach."
   ]
  },
  {
   "cell_type": "code",
   "execution_count": 11,
   "metadata": {
    "cell_id": "57b272d8dece409785e5182a48ae4313",
    "deepnote_cell_height": 654.46875,
    "deepnote_cell_type": "code",
    "deepnote_output_heights": [
     539.46875
    ],
    "deepnote_to_be_reexecuted": false,
    "execution_millis": 9,
    "execution_start": 1649881123458,
    "source_hash": "be3a6d11",
    "tags": []
   },
   "outputs": [
    {
     "data": {
      "text/plain": [
       "[' ',\n",
       " '2014',\n",
       " ' ',\n",
       " '1995',\n",
       " ' ',\n",
       " '2015',\n",
       " ' ',\n",
       " '1995',\n",
       " '1963',\n",
       " ' ',\n",
       " '1962',\n",
       " '1963',\n",
       " ' ',\n",
       " '2002',\n",
       " '1990',\n",
       " '1981',\n",
       " '1957-09',\n",
       " '1957-09',\n",
       " '1994',\n",
       " ' ',\n",
       " ' ',\n",
       " ' ',\n",
       " '2012',\n",
       " '1981',\n",
       " ' ',\n",
       " '2016',\n",
       " '2016',\n",
       " ' ']"
      ]
     },
     "execution_count": 11,
     "metadata": {},
     "output_type": "execute_result"
    }
   ],
   "source": [
    "altlist = [s for s in df[\"Release Date\"] if len(s) < 8]\n",
    "altlist"
   ]
  },
  {
   "cell_type": "code",
   "execution_count": 12,
   "metadata": {
    "cell_id": "3f1599b32a1c474ab67ae355a215068b",
    "deepnote_cell_height": 118.1875,
    "deepnote_cell_type": "code",
    "deepnote_output_heights": [
     21.1875
    ],
    "deepnote_to_be_reexecuted": false,
    "execution_millis": 4,
    "execution_start": 1649881011548,
    "source_hash": "5f702da9",
    "tags": []
   },
   "outputs": [
    {
     "data": {
      "text/plain": [
       "28"
      ]
     },
     "execution_count": 12,
     "metadata": {},
     "output_type": "execute_result"
    }
   ],
   "source": [
    "len(shortlist)"
   ]
  },
  {
   "cell_type": "markdown",
   "metadata": {
    "cell_id": "327e48ab00d64fc8835f855e6bb63880",
    "deepnote_cell_height": 52.390625,
    "deepnote_cell_type": "markdown",
    "tags": []
   },
   "source": [
    "Compare the following for loop version with the list comprehension version.\n",
    "\n",
    "```\n",
    "[s for s in df[\"Release Date\"] if s.count(\"-\") < 2]\n",
    "```"
   ]
  },
  {
   "cell_type": "code",
   "execution_count": 13,
   "metadata": {
    "cell_id": "8f2f950a4acb40bfa7bdaf9f8a7ba4c9",
    "deepnote_cell_height": 135,
    "deepnote_cell_type": "code",
    "deepnote_to_be_reexecuted": false,
    "execution_millis": 0,
    "execution_start": 1649881226755,
    "source_hash": "a409dc55",
    "tags": []
   },
   "outputs": [],
   "source": [
    "shortlist2 = []\n",
    "for s in df[\"Release Date\"]:\n",
    "    if s.count(\"-\") < 2:\n",
    "        shortlist2.append(s)"
   ]
  },
  {
   "cell_type": "code",
   "execution_count": 14,
   "metadata": {
    "cell_id": "d98f56f6d2334f588237d1bd462f3a77",
    "deepnote_cell_height": 636.46875,
    "deepnote_cell_type": "code",
    "deepnote_output_heights": [
     539.46875
    ],
    "deepnote_to_be_reexecuted": false,
    "execution_millis": 6,
    "execution_start": 1649881229310,
    "source_hash": "bbc24c1b",
    "tags": []
   },
   "outputs": [
    {
     "data": {
      "text/plain": [
       "[' ',\n",
       " '2014',\n",
       " ' ',\n",
       " '1995',\n",
       " ' ',\n",
       " '2015',\n",
       " ' ',\n",
       " '1995',\n",
       " '1963',\n",
       " ' ',\n",
       " '1962',\n",
       " '1963',\n",
       " ' ',\n",
       " '2002',\n",
       " '1990',\n",
       " '1981',\n",
       " '1957-09',\n",
       " '1957-09',\n",
       " '1994',\n",
       " ' ',\n",
       " ' ',\n",
       " ' ',\n",
       " '2012',\n",
       " '1981',\n",
       " ' ',\n",
       " '2016',\n",
       " '2016',\n",
       " ' ']"
      ]
     },
     "execution_count": 14,
     "metadata": {},
     "output_type": "execute_result"
    }
   ],
   "source": [
    "shortlist2"
   ]
  },
  {
   "cell_type": "markdown",
   "metadata": {},
   "source": [
    "Here we look at all of the values in `shortlist`.  You should not put `print` statements in a list comprehension, so we use a for loop."
   ]
  },
  {
   "cell_type": "code",
   "execution_count": 15,
   "metadata": {
    "cell_id": "81be420bddf74f33bbe45f3f5b924c63",
    "deepnote_cell_height": 679.46875,
    "deepnote_cell_type": "code",
    "deepnote_to_be_reexecuted": false,
    "execution_millis": 9,
    "execution_start": 1649881330190,
    "source_hash": "fdeb6c7e",
    "tags": []
   },
   "outputs": [
    {
     "name": "stdout",
     "output_type": "stream",
     "text": [
      " \n",
      "2014\n",
      " \n",
      "1995\n",
      " \n",
      "2015\n",
      " \n",
      "1995\n",
      "1963\n",
      " \n",
      "1962\n",
      "1963\n",
      " \n",
      "2002\n",
      "1990\n",
      "1981\n",
      "1957-09\n",
      "1957-09\n",
      "1994\n",
      " \n",
      " \n",
      " \n",
      "2012\n",
      "1981\n",
      " \n",
      "2016\n",
      "2016\n",
      " \n"
     ]
    }
   ],
   "source": [
    "for s in shortlist:\n",
    "    print(s)"
   ]
  },
  {
   "cell_type": "markdown",
   "metadata": {
    "cell_id": "c0dc9721a83841faaaced67754c693f8",
    "deepnote_cell_height": 69.390625,
    "deepnote_cell_type": "markdown",
    "tags": []
   },
   "source": [
    "There is a pandas function `pd.to_datetime` that can be applied to both a string and also to a pandas Series."
   ]
  },
  {
   "cell_type": "code",
   "execution_count": 16,
   "metadata": {
    "cell_id": "e761d3b440914be597a025bea6c22d11",
    "deepnote_cell_height": 136.1875,
    "deepnote_cell_type": "code",
    "deepnote_output_heights": [
     21.1875
    ],
    "deepnote_to_be_reexecuted": false,
    "execution_millis": 8,
    "execution_start": 1649881444030,
    "source_hash": "3f34442b",
    "tags": []
   },
   "outputs": [
    {
     "data": {
      "text/plain": [
       "Timestamp('2022-04-13 00:00:00')"
      ]
     },
     "execution_count": 16,
     "metadata": {},
     "output_type": "execute_result"
    }
   ],
   "source": [
    "d = pd.to_datetime(\"2022-04-13\")\n",
    "d"
   ]
  },
  {
   "cell_type": "markdown",
   "metadata": {},
   "source": [
    "This new data type has lots of convenient methods and attributes."
   ]
  },
  {
   "cell_type": "code",
   "execution_count": 17,
   "metadata": {
    "cell_id": "9eefbf5d80b744398ea713b98b3e0be2",
    "deepnote_cell_height": 118.1875,
    "deepnote_cell_type": "code",
    "deepnote_output_heights": [
     21.1875
    ],
    "deepnote_to_be_reexecuted": false,
    "execution_millis": 10,
    "execution_start": 1649881451120,
    "source_hash": "d8f7748b",
    "tags": []
   },
   "outputs": [
    {
     "data": {
      "text/plain": [
       "4"
      ]
     },
     "execution_count": 17,
     "metadata": {},
     "output_type": "execute_result"
    }
   ],
   "source": [
    "d.month"
   ]
  },
  {
   "cell_type": "code",
   "execution_count": 18,
   "metadata": {
    "cell_id": "cebb46a891db46b88bd5c05b42d21214",
    "deepnote_cell_height": 118.1875,
    "deepnote_cell_type": "code",
    "deepnote_output_heights": [
     21.1875
    ],
    "deepnote_to_be_reexecuted": false,
    "execution_millis": 7,
    "execution_start": 1649881470312,
    "source_hash": "9548235d",
    "tags": []
   },
   "outputs": [
    {
     "data": {
      "text/plain": [
       "'Wednesday'"
      ]
     },
     "execution_count": 18,
     "metadata": {},
     "output_type": "execute_result"
    }
   ],
   "source": [
    "d.day_name()"
   ]
  },
  {
   "cell_type": "markdown",
   "metadata": {},
   "source": [
    "Notice the `dtype` of the following pandas Series."
   ]
  },
  {
   "cell_type": "code",
   "execution_count": 20,
   "metadata": {
    "cell_id": "578d17c7e5214fffb5c4d055552d201c",
    "deepnote_cell_height": 329.34375,
    "deepnote_cell_type": "code",
    "deepnote_output_heights": [
     232.34375
    ],
    "deepnote_to_be_reexecuted": false,
    "execution_millis": 6,
    "execution_start": 1649881513465,
    "source_hash": "14547e4a",
    "tags": []
   },
   "outputs": [
    {
     "data": {
      "text/plain": [
       "0    2017-12-08\n",
       "1    2021-07-09\n",
       "2    2021-05-21\n",
       "3    2021-06-25\n",
       "4    2021-07-23\n",
       "5    2021-03-31\n",
       "6    2021-04-09\n",
       "7    2021-05-20\n",
       "8    2021-06-04\n",
       "9    2021-03-19\n",
       "10   2020-10-01\n",
       "Name: Release Date, dtype: datetime64[ns]"
      ]
     },
     "execution_count": 20,
     "metadata": {},
     "output_type": "execute_result"
    }
   ],
   "source": [
    "pd.to_datetime(df.loc[:10,\"Release Date\"])"
   ]
  },
  {
   "cell_type": "markdown",
   "metadata": {},
   "source": [
    "What if we want to convert these into the day names?  The first thing we might try does not work."
   ]
  },
  {
   "cell_type": "code",
   "execution_count": 21,
   "metadata": {
    "cell_id": "9366a1d4cc934108ad9d78db716782a6",
    "deepnote_cell_height": 144.1875,
    "deepnote_cell_type": "code",
    "deepnote_to_be_reexecuted": false,
    "execution_millis": 850,
    "execution_start": 1649881540497,
    "source_hash": "6dd9fed2",
    "tags": []
   },
   "outputs": [
    {
     "ename": "AttributeError",
     "evalue": "'Series' object has no attribute 'day_name'",
     "output_type": "error",
     "traceback": [
      "\u001b[0;31m---------------------------------------------------------------------------\u001b[0m",
      "\u001b[0;31mAttributeError\u001b[0m                            Traceback (most recent call last)",
      "\u001b[0;32m/var/folders/8j/gshrlmtn7dg4qtztj4d4t_w40000gn/T/ipykernel_37995/3366743804.py\u001b[0m in \u001b[0;36m<module>\u001b[0;34m\u001b[0m\n\u001b[0;32m----> 1\u001b[0;31m \u001b[0mpd\u001b[0m\u001b[0;34m.\u001b[0m\u001b[0mto_datetime\u001b[0m\u001b[0;34m(\u001b[0m\u001b[0mdf\u001b[0m\u001b[0;34m.\u001b[0m\u001b[0mloc\u001b[0m\u001b[0;34m[\u001b[0m\u001b[0;34m:\u001b[0m\u001b[0;36m10\u001b[0m\u001b[0;34m,\u001b[0m\u001b[0;34m\"Release Date\"\u001b[0m\u001b[0;34m]\u001b[0m\u001b[0;34m)\u001b[0m\u001b[0;34m.\u001b[0m\u001b[0mday_name\u001b[0m\u001b[0;34m(\u001b[0m\u001b[0;34m)\u001b[0m\u001b[0;34m\u001b[0m\u001b[0;34m\u001b[0m\u001b[0m\n\u001b[0m",
      "\u001b[0;32m~/miniconda3/envs/math10s22/lib/python3.7/site-packages/pandas/core/generic.py\u001b[0m in \u001b[0;36m__getattr__\u001b[0;34m(self, name)\u001b[0m\n\u001b[1;32m   5485\u001b[0m         ):\n\u001b[1;32m   5486\u001b[0m             \u001b[0;32mreturn\u001b[0m \u001b[0mself\u001b[0m\u001b[0;34m[\u001b[0m\u001b[0mname\u001b[0m\u001b[0;34m]\u001b[0m\u001b[0;34m\u001b[0m\u001b[0;34m\u001b[0m\u001b[0m\n\u001b[0;32m-> 5487\u001b[0;31m         \u001b[0;32mreturn\u001b[0m \u001b[0mobject\u001b[0m\u001b[0;34m.\u001b[0m\u001b[0m__getattribute__\u001b[0m\u001b[0;34m(\u001b[0m\u001b[0mself\u001b[0m\u001b[0;34m,\u001b[0m \u001b[0mname\u001b[0m\u001b[0;34m)\u001b[0m\u001b[0;34m\u001b[0m\u001b[0;34m\u001b[0m\u001b[0m\n\u001b[0m\u001b[1;32m   5488\u001b[0m \u001b[0;34m\u001b[0m\u001b[0m\n\u001b[1;32m   5489\u001b[0m     \u001b[0;32mdef\u001b[0m \u001b[0m__setattr__\u001b[0m\u001b[0;34m(\u001b[0m\u001b[0mself\u001b[0m\u001b[0;34m,\u001b[0m \u001b[0mname\u001b[0m\u001b[0;34m:\u001b[0m \u001b[0mstr\u001b[0m\u001b[0;34m,\u001b[0m \u001b[0mvalue\u001b[0m\u001b[0;34m)\u001b[0m \u001b[0;34m->\u001b[0m \u001b[0;32mNone\u001b[0m\u001b[0;34m:\u001b[0m\u001b[0;34m\u001b[0m\u001b[0;34m\u001b[0m\u001b[0m\n",
      "\u001b[0;31mAttributeError\u001b[0m: 'Series' object has no attribute 'day_name'"
     ]
    }
   ],
   "source": [
    "pd.to_datetime(df.loc[:10,\"Release Date\"]).day_name()"
   ]
  },
  {
   "cell_type": "markdown",
   "metadata": {},
   "source": [
    "The trick is to use the `dt` accessor.  Here is the [documentation](https://pandas.pydata.org/docs/reference/api/pandas.Series.dt.html), although I don't find this particular documentation very helpful."
   ]
  },
  {
   "cell_type": "code",
   "execution_count": 22,
   "metadata": {
    "cell_id": "e457d5772531426faa913867dc98dd4d",
    "deepnote_cell_height": 329.34375,
    "deepnote_cell_type": "code",
    "deepnote_output_heights": [
     232.34375
    ],
    "deepnote_to_be_reexecuted": false,
    "execution_millis": 6,
    "execution_start": 1649881563898,
    "source_hash": "8063a2f9",
    "tags": []
   },
   "outputs": [
    {
     "data": {
      "text/plain": [
       "0        Friday\n",
       "1        Friday\n",
       "2        Friday\n",
       "3        Friday\n",
       "4        Friday\n",
       "5     Wednesday\n",
       "6        Friday\n",
       "7      Thursday\n",
       "8        Friday\n",
       "9        Friday\n",
       "10     Thursday\n",
       "Name: Release Date, dtype: object"
      ]
     },
     "execution_count": 22,
     "metadata": {},
     "output_type": "execute_result"
    }
   ],
   "source": [
    "pd.to_datetime(df.loc[:10,\"Release Date\"]).dt.day_name()"
   ]
  },
  {
   "cell_type": "markdown",
   "metadata": {},
   "source": [
    "If we try to apply `pd.to_datetime` to the entire column, an error will be raised.  This is because of the blank spaces in this column."
   ]
  },
  {
   "cell_type": "code",
   "execution_count": 23,
   "metadata": {
    "cell_id": "f45d7ade57c246f7b68a64a5d88e10ba",
    "deepnote_cell_height": 144.1875,
    "deepnote_cell_type": "code",
    "deepnote_to_be_reexecuted": false,
    "execution_millis": 60,
    "execution_start": 1649881778214,
    "source_hash": "bcc322c7",
    "tags": [
     "output_scroll"
    ]
   },
   "outputs": [
    {
     "ename": "ParserError",
     "evalue": "String does not contain a date:  ",
     "output_type": "error",
     "traceback": [
      "\u001b[0;31m---------------------------------------------------------------------------\u001b[0m",
      "\u001b[0;31mTypeError\u001b[0m                                 Traceback (most recent call last)",
      "\u001b[0;32m~/miniconda3/envs/math10s22/lib/python3.7/site-packages/pandas/core/arrays/datetimes.py\u001b[0m in \u001b[0;36mobjects_to_datetime64ns\u001b[0;34m(data, dayfirst, yearfirst, utc, errors, require_iso8601, allow_object, allow_mixed)\u001b[0m\n\u001b[1;32m   2191\u001b[0m         \u001b[0;32mtry\u001b[0m\u001b[0;34m:\u001b[0m\u001b[0;34m\u001b[0m\u001b[0;34m\u001b[0m\u001b[0m\n\u001b[0;32m-> 2192\u001b[0;31m             \u001b[0mvalues\u001b[0m\u001b[0;34m,\u001b[0m \u001b[0mtz_parsed\u001b[0m \u001b[0;34m=\u001b[0m \u001b[0mconversion\u001b[0m\u001b[0;34m.\u001b[0m\u001b[0mdatetime_to_datetime64\u001b[0m\u001b[0;34m(\u001b[0m\u001b[0mdata\u001b[0m\u001b[0;34m.\u001b[0m\u001b[0mravel\u001b[0m\u001b[0;34m(\u001b[0m\u001b[0;34m\"K\"\u001b[0m\u001b[0;34m)\u001b[0m\u001b[0;34m)\u001b[0m\u001b[0;34m\u001b[0m\u001b[0;34m\u001b[0m\u001b[0m\n\u001b[0m\u001b[1;32m   2193\u001b[0m             \u001b[0;31m# If tzaware, these values represent unix timestamps, so we\u001b[0m\u001b[0;34m\u001b[0m\u001b[0;34m\u001b[0m\u001b[0;34m\u001b[0m\u001b[0m\n",
      "\u001b[0;32m~/miniconda3/envs/math10s22/lib/python3.7/site-packages/pandas/_libs/tslibs/conversion.pyx\u001b[0m in \u001b[0;36mpandas._libs.tslibs.conversion.datetime_to_datetime64\u001b[0;34m()\u001b[0m\n",
      "\u001b[0;31mTypeError\u001b[0m: Unrecognized value type: <class 'str'>",
      "\nDuring handling of the above exception, another exception occurred:\n",
      "\u001b[0;31mParserError\u001b[0m                               Traceback (most recent call last)",
      "\u001b[0;32m/var/folders/8j/gshrlmtn7dg4qtztj4d4t_w40000gn/T/ipykernel_37995/4002128276.py\u001b[0m in \u001b[0;36m<module>\u001b[0;34m\u001b[0m\n\u001b[0;32m----> 1\u001b[0;31m \u001b[0mpd\u001b[0m\u001b[0;34m.\u001b[0m\u001b[0mto_datetime\u001b[0m\u001b[0;34m(\u001b[0m\u001b[0mdf\u001b[0m\u001b[0;34m[\u001b[0m\u001b[0;34m\"Release Date\"\u001b[0m\u001b[0;34m]\u001b[0m\u001b[0;34m)\u001b[0m\u001b[0;34m\u001b[0m\u001b[0;34m\u001b[0m\u001b[0m\n\u001b[0m",
      "\u001b[0;32m~/miniconda3/envs/math10s22/lib/python3.7/site-packages/pandas/core/tools/datetimes.py\u001b[0m in \u001b[0;36mto_datetime\u001b[0;34m(arg, errors, dayfirst, yearfirst, utc, format, exact, unit, infer_datetime_format, origin, cache)\u001b[0m\n\u001b[1;32m    881\u001b[0m                 \u001b[0mresult\u001b[0m \u001b[0;34m=\u001b[0m \u001b[0mresult\u001b[0m\u001b[0;34m.\u001b[0m\u001b[0mtz_localize\u001b[0m\u001b[0;34m(\u001b[0m\u001b[0mtz\u001b[0m\u001b[0;34m)\u001b[0m  \u001b[0;31m# type: ignore[call-arg]\u001b[0m\u001b[0;34m\u001b[0m\u001b[0;34m\u001b[0m\u001b[0m\n\u001b[1;32m    882\u001b[0m     \u001b[0;32melif\u001b[0m \u001b[0misinstance\u001b[0m\u001b[0;34m(\u001b[0m\u001b[0marg\u001b[0m\u001b[0;34m,\u001b[0m \u001b[0mABCSeries\u001b[0m\u001b[0;34m)\u001b[0m\u001b[0;34m:\u001b[0m\u001b[0;34m\u001b[0m\u001b[0;34m\u001b[0m\u001b[0m\n\u001b[0;32m--> 883\u001b[0;31m         \u001b[0mcache_array\u001b[0m \u001b[0;34m=\u001b[0m \u001b[0m_maybe_cache\u001b[0m\u001b[0;34m(\u001b[0m\u001b[0marg\u001b[0m\u001b[0;34m,\u001b[0m \u001b[0mformat\u001b[0m\u001b[0;34m,\u001b[0m \u001b[0mcache\u001b[0m\u001b[0;34m,\u001b[0m \u001b[0mconvert_listlike\u001b[0m\u001b[0;34m)\u001b[0m\u001b[0;34m\u001b[0m\u001b[0;34m\u001b[0m\u001b[0m\n\u001b[0m\u001b[1;32m    884\u001b[0m         \u001b[0;32mif\u001b[0m \u001b[0;32mnot\u001b[0m \u001b[0mcache_array\u001b[0m\u001b[0;34m.\u001b[0m\u001b[0mempty\u001b[0m\u001b[0;34m:\u001b[0m\u001b[0;34m\u001b[0m\u001b[0;34m\u001b[0m\u001b[0m\n\u001b[1;32m    885\u001b[0m             \u001b[0mresult\u001b[0m \u001b[0;34m=\u001b[0m \u001b[0marg\u001b[0m\u001b[0;34m.\u001b[0m\u001b[0mmap\u001b[0m\u001b[0;34m(\u001b[0m\u001b[0mcache_array\u001b[0m\u001b[0;34m)\u001b[0m\u001b[0;34m\u001b[0m\u001b[0;34m\u001b[0m\u001b[0m\n",
      "\u001b[0;32m~/miniconda3/envs/math10s22/lib/python3.7/site-packages/pandas/core/tools/datetimes.py\u001b[0m in \u001b[0;36m_maybe_cache\u001b[0;34m(arg, format, cache, convert_listlike)\u001b[0m\n\u001b[1;32m    193\u001b[0m         \u001b[0munique_dates\u001b[0m \u001b[0;34m=\u001b[0m \u001b[0munique\u001b[0m\u001b[0;34m(\u001b[0m\u001b[0marg\u001b[0m\u001b[0;34m)\u001b[0m\u001b[0;34m\u001b[0m\u001b[0;34m\u001b[0m\u001b[0m\n\u001b[1;32m    194\u001b[0m         \u001b[0;32mif\u001b[0m \u001b[0mlen\u001b[0m\u001b[0;34m(\u001b[0m\u001b[0munique_dates\u001b[0m\u001b[0;34m)\u001b[0m \u001b[0;34m<\u001b[0m \u001b[0mlen\u001b[0m\u001b[0;34m(\u001b[0m\u001b[0marg\u001b[0m\u001b[0;34m)\u001b[0m\u001b[0;34m:\u001b[0m\u001b[0;34m\u001b[0m\u001b[0;34m\u001b[0m\u001b[0m\n\u001b[0;32m--> 195\u001b[0;31m             \u001b[0mcache_dates\u001b[0m \u001b[0;34m=\u001b[0m \u001b[0mconvert_listlike\u001b[0m\u001b[0;34m(\u001b[0m\u001b[0munique_dates\u001b[0m\u001b[0;34m,\u001b[0m \u001b[0mformat\u001b[0m\u001b[0;34m)\u001b[0m\u001b[0;34m\u001b[0m\u001b[0;34m\u001b[0m\u001b[0m\n\u001b[0m\u001b[1;32m    196\u001b[0m             \u001b[0mcache_array\u001b[0m \u001b[0;34m=\u001b[0m \u001b[0mSeries\u001b[0m\u001b[0;34m(\u001b[0m\u001b[0mcache_dates\u001b[0m\u001b[0;34m,\u001b[0m \u001b[0mindex\u001b[0m\u001b[0;34m=\u001b[0m\u001b[0munique_dates\u001b[0m\u001b[0;34m)\u001b[0m\u001b[0;34m\u001b[0m\u001b[0;34m\u001b[0m\u001b[0m\n\u001b[1;32m    197\u001b[0m             \u001b[0;31m# GH#39882 and GH#35888 in case of None and NaT we get duplicates\u001b[0m\u001b[0;34m\u001b[0m\u001b[0;34m\u001b[0m\u001b[0;34m\u001b[0m\u001b[0m\n",
      "\u001b[0;32m~/miniconda3/envs/math10s22/lib/python3.7/site-packages/pandas/core/tools/datetimes.py\u001b[0m in \u001b[0;36m_convert_listlike_datetimes\u001b[0;34m(arg, format, name, tz, unit, errors, infer_datetime_format, dayfirst, yearfirst, exact)\u001b[0m\n\u001b[1;32m    406\u001b[0m         \u001b[0merrors\u001b[0m\u001b[0;34m=\u001b[0m\u001b[0merrors\u001b[0m\u001b[0;34m,\u001b[0m\u001b[0;34m\u001b[0m\u001b[0;34m\u001b[0m\u001b[0m\n\u001b[1;32m    407\u001b[0m         \u001b[0mrequire_iso8601\u001b[0m\u001b[0;34m=\u001b[0m\u001b[0mrequire_iso8601\u001b[0m\u001b[0;34m,\u001b[0m\u001b[0;34m\u001b[0m\u001b[0;34m\u001b[0m\u001b[0m\n\u001b[0;32m--> 408\u001b[0;31m         \u001b[0mallow_object\u001b[0m\u001b[0;34m=\u001b[0m\u001b[0;32mTrue\u001b[0m\u001b[0;34m,\u001b[0m\u001b[0;34m\u001b[0m\u001b[0;34m\u001b[0m\u001b[0m\n\u001b[0m\u001b[1;32m    409\u001b[0m     )\n\u001b[1;32m    410\u001b[0m \u001b[0;34m\u001b[0m\u001b[0m\n",
      "\u001b[0;32m~/miniconda3/envs/math10s22/lib/python3.7/site-packages/pandas/core/arrays/datetimes.py\u001b[0m in \u001b[0;36mobjects_to_datetime64ns\u001b[0;34m(data, dayfirst, yearfirst, utc, errors, require_iso8601, allow_object, allow_mixed)\u001b[0m\n\u001b[1;32m   2196\u001b[0m             \u001b[0;32mreturn\u001b[0m \u001b[0mvalues\u001b[0m\u001b[0;34m.\u001b[0m\u001b[0mview\u001b[0m\u001b[0;34m(\u001b[0m\u001b[0;34m\"i8\"\u001b[0m\u001b[0;34m)\u001b[0m\u001b[0;34m,\u001b[0m \u001b[0mtz_parsed\u001b[0m\u001b[0;34m\u001b[0m\u001b[0;34m\u001b[0m\u001b[0m\n\u001b[1;32m   2197\u001b[0m         \u001b[0;32mexcept\u001b[0m \u001b[0;34m(\u001b[0m\u001b[0mValueError\u001b[0m\u001b[0;34m,\u001b[0m \u001b[0mTypeError\u001b[0m\u001b[0;34m)\u001b[0m\u001b[0;34m:\u001b[0m\u001b[0;34m\u001b[0m\u001b[0;34m\u001b[0m\u001b[0m\n\u001b[0;32m-> 2198\u001b[0;31m             \u001b[0;32mraise\u001b[0m \u001b[0merr\u001b[0m\u001b[0;34m\u001b[0m\u001b[0;34m\u001b[0m\u001b[0m\n\u001b[0m\u001b[1;32m   2199\u001b[0m \u001b[0;34m\u001b[0m\u001b[0m\n\u001b[1;32m   2200\u001b[0m     \u001b[0;32mif\u001b[0m \u001b[0mtz_parsed\u001b[0m \u001b[0;32mis\u001b[0m \u001b[0;32mnot\u001b[0m \u001b[0;32mNone\u001b[0m\u001b[0;34m:\u001b[0m\u001b[0;34m\u001b[0m\u001b[0;34m\u001b[0m\u001b[0m\n",
      "\u001b[0;32m~/miniconda3/envs/math10s22/lib/python3.7/site-packages/pandas/core/arrays/datetimes.py\u001b[0m in \u001b[0;36mobjects_to_datetime64ns\u001b[0;34m(data, dayfirst, yearfirst, utc, errors, require_iso8601, allow_object, allow_mixed)\u001b[0m\n\u001b[1;32m   2185\u001b[0m             \u001b[0myearfirst\u001b[0m\u001b[0;34m=\u001b[0m\u001b[0myearfirst\u001b[0m\u001b[0;34m,\u001b[0m\u001b[0;34m\u001b[0m\u001b[0;34m\u001b[0m\u001b[0m\n\u001b[1;32m   2186\u001b[0m             \u001b[0mrequire_iso8601\u001b[0m\u001b[0;34m=\u001b[0m\u001b[0mrequire_iso8601\u001b[0m\u001b[0;34m,\u001b[0m\u001b[0;34m\u001b[0m\u001b[0;34m\u001b[0m\u001b[0m\n\u001b[0;32m-> 2187\u001b[0;31m             \u001b[0mallow_mixed\u001b[0m\u001b[0;34m=\u001b[0m\u001b[0mallow_mixed\u001b[0m\u001b[0;34m,\u001b[0m\u001b[0;34m\u001b[0m\u001b[0;34m\u001b[0m\u001b[0m\n\u001b[0m\u001b[1;32m   2188\u001b[0m         )\n\u001b[1;32m   2189\u001b[0m         \u001b[0mresult\u001b[0m \u001b[0;34m=\u001b[0m \u001b[0mresult\u001b[0m\u001b[0;34m.\u001b[0m\u001b[0mreshape\u001b[0m\u001b[0;34m(\u001b[0m\u001b[0mdata\u001b[0m\u001b[0;34m.\u001b[0m\u001b[0mshape\u001b[0m\u001b[0;34m,\u001b[0m \u001b[0morder\u001b[0m\u001b[0;34m=\u001b[0m\u001b[0morder\u001b[0m\u001b[0;34m)\u001b[0m\u001b[0;34m\u001b[0m\u001b[0;34m\u001b[0m\u001b[0m\n",
      "\u001b[0;32m~/miniconda3/envs/math10s22/lib/python3.7/site-packages/pandas/_libs/tslib.pyx\u001b[0m in \u001b[0;36mpandas._libs.tslib.array_to_datetime\u001b[0;34m()\u001b[0m\n",
      "\u001b[0;32m~/miniconda3/envs/math10s22/lib/python3.7/site-packages/pandas/_libs/tslib.pyx\u001b[0m in \u001b[0;36mpandas._libs.tslib.array_to_datetime\u001b[0;34m()\u001b[0m\n",
      "\u001b[0;32m~/miniconda3/envs/math10s22/lib/python3.7/site-packages/pandas/_libs/tslib.pyx\u001b[0m in \u001b[0;36mpandas._libs.tslib._array_to_datetime_object\u001b[0;34m()\u001b[0m\n",
      "\u001b[0;32m~/miniconda3/envs/math10s22/lib/python3.7/site-packages/pandas/_libs/tslib.pyx\u001b[0m in \u001b[0;36mpandas._libs.tslib._array_to_datetime_object\u001b[0;34m()\u001b[0m\n",
      "\u001b[0;32m~/miniconda3/envs/math10s22/lib/python3.7/site-packages/pandas/_libs/tslibs/parsing.pyx\u001b[0m in \u001b[0;36mpandas._libs.tslibs.parsing.parse_datetime_string\u001b[0;34m()\u001b[0m\n",
      "\u001b[0;32m~/miniconda3/envs/math10s22/lib/python3.7/site-packages/dateutil/parser/_parser.py\u001b[0m in \u001b[0;36mparse\u001b[0;34m(timestr, parserinfo, **kwargs)\u001b[0m\n\u001b[1;32m   1366\u001b[0m         \u001b[0;32mreturn\u001b[0m \u001b[0mparser\u001b[0m\u001b[0;34m(\u001b[0m\u001b[0mparserinfo\u001b[0m\u001b[0;34m)\u001b[0m\u001b[0;34m.\u001b[0m\u001b[0mparse\u001b[0m\u001b[0;34m(\u001b[0m\u001b[0mtimestr\u001b[0m\u001b[0;34m,\u001b[0m \u001b[0;34m**\u001b[0m\u001b[0mkwargs\u001b[0m\u001b[0;34m)\u001b[0m\u001b[0;34m\u001b[0m\u001b[0;34m\u001b[0m\u001b[0m\n\u001b[1;32m   1367\u001b[0m     \u001b[0;32melse\u001b[0m\u001b[0;34m:\u001b[0m\u001b[0;34m\u001b[0m\u001b[0;34m\u001b[0m\u001b[0m\n\u001b[0;32m-> 1368\u001b[0;31m         \u001b[0;32mreturn\u001b[0m \u001b[0mDEFAULTPARSER\u001b[0m\u001b[0;34m.\u001b[0m\u001b[0mparse\u001b[0m\u001b[0;34m(\u001b[0m\u001b[0mtimestr\u001b[0m\u001b[0;34m,\u001b[0m \u001b[0;34m**\u001b[0m\u001b[0mkwargs\u001b[0m\u001b[0;34m)\u001b[0m\u001b[0;34m\u001b[0m\u001b[0;34m\u001b[0m\u001b[0m\n\u001b[0m\u001b[1;32m   1369\u001b[0m \u001b[0;34m\u001b[0m\u001b[0m\n\u001b[1;32m   1370\u001b[0m \u001b[0;34m\u001b[0m\u001b[0m\n",
      "\u001b[0;32m~/miniconda3/envs/math10s22/lib/python3.7/site-packages/dateutil/parser/_parser.py\u001b[0m in \u001b[0;36mparse\u001b[0;34m(self, timestr, default, ignoretz, tzinfos, **kwargs)\u001b[0m\n\u001b[1;32m    644\u001b[0m \u001b[0;34m\u001b[0m\u001b[0m\n\u001b[1;32m    645\u001b[0m         \u001b[0;32mif\u001b[0m \u001b[0mlen\u001b[0m\u001b[0;34m(\u001b[0m\u001b[0mres\u001b[0m\u001b[0;34m)\u001b[0m \u001b[0;34m==\u001b[0m \u001b[0;36m0\u001b[0m\u001b[0;34m:\u001b[0m\u001b[0;34m\u001b[0m\u001b[0;34m\u001b[0m\u001b[0m\n\u001b[0;32m--> 646\u001b[0;31m             \u001b[0;32mraise\u001b[0m \u001b[0mParserError\u001b[0m\u001b[0;34m(\u001b[0m\u001b[0;34m\"String does not contain a date: %s\"\u001b[0m\u001b[0;34m,\u001b[0m \u001b[0mtimestr\u001b[0m\u001b[0;34m)\u001b[0m\u001b[0;34m\u001b[0m\u001b[0;34m\u001b[0m\u001b[0m\n\u001b[0m\u001b[1;32m    647\u001b[0m \u001b[0;34m\u001b[0m\u001b[0m\n\u001b[1;32m    648\u001b[0m         \u001b[0;32mtry\u001b[0m\u001b[0;34m:\u001b[0m\u001b[0;34m\u001b[0m\u001b[0;34m\u001b[0m\u001b[0m\n",
      "\u001b[0;31mParserError\u001b[0m: String does not contain a date:  "
     ]
    }
   ],
   "source": [
    "pd.to_datetime(df[\"Release Date\"])"
   ]
  },
  {
   "cell_type": "code",
   "execution_count": 24,
   "metadata": {
    "cell_id": "557f62708c924cfab5c6d9240d93eefc",
    "deepnote_cell_height": 636.46875,
    "deepnote_cell_type": "code",
    "deepnote_output_heights": [
     539.46875
    ],
    "deepnote_to_be_reexecuted": false,
    "execution_millis": 1807,
    "execution_start": 1649881809426,
    "source_hash": "34baf1d8",
    "tags": []
   },
   "outputs": [
    {
     "data": {
      "text/plain": [
       "[' ',\n",
       " '2014',\n",
       " ' ',\n",
       " '1995',\n",
       " ' ',\n",
       " '2015',\n",
       " ' ',\n",
       " '1995',\n",
       " '1963',\n",
       " ' ',\n",
       " '1962',\n",
       " '1963',\n",
       " ' ',\n",
       " '2002',\n",
       " '1990',\n",
       " '1981',\n",
       " '1957-09',\n",
       " '1957-09',\n",
       " '1994',\n",
       " ' ',\n",
       " ' ',\n",
       " ' ',\n",
       " '2012',\n",
       " '1981',\n",
       " ' ',\n",
       " '2016',\n",
       " '2016',\n",
       " ' ']"
      ]
     },
     "execution_count": 24,
     "metadata": {},
     "output_type": "execute_result"
    }
   ],
   "source": [
    "shortlist"
   ]
  },
  {
   "cell_type": "markdown",
   "metadata": {
    "cell_id": "554099c85c514e6dac8c69f4099b4ab5",
    "deepnote_cell_height": 91.796875,
    "deepnote_cell_type": "markdown",
    "tags": []
   },
   "source": [
    "* Give an example of an element `x` in `shortlist` for which `pd.to_datetime(x)` raises an error, and an example of an element `y` in `shortlist` for which `pd.to_datetime(y)` does not raise an error."
   ]
  },
  {
   "cell_type": "code",
   "execution_count": 25,
   "metadata": {
    "cell_id": "4d63c986e3c348768e58415ecc879150",
    "deepnote_cell_height": 144.1875,
    "deepnote_cell_type": "code",
    "deepnote_to_be_reexecuted": false,
    "execution_millis": 39,
    "execution_start": 1649881835287,
    "source_hash": "3c70195e",
    "tags": [
     "output_scroll"
    ]
   },
   "outputs": [
    {
     "ename": "ParserError",
     "evalue": "String does not contain a date:  ",
     "output_type": "error",
     "traceback": [
      "\u001b[0;31m---------------------------------------------------------------------------\u001b[0m",
      "\u001b[0;31mTypeError\u001b[0m                                 Traceback (most recent call last)",
      "\u001b[0;32m~/miniconda3/envs/math10s22/lib/python3.7/site-packages/pandas/core/arrays/datetimes.py\u001b[0m in \u001b[0;36mobjects_to_datetime64ns\u001b[0;34m(data, dayfirst, yearfirst, utc, errors, require_iso8601, allow_object, allow_mixed)\u001b[0m\n\u001b[1;32m   2191\u001b[0m         \u001b[0;32mtry\u001b[0m\u001b[0;34m:\u001b[0m\u001b[0;34m\u001b[0m\u001b[0;34m\u001b[0m\u001b[0m\n\u001b[0;32m-> 2192\u001b[0;31m             \u001b[0mvalues\u001b[0m\u001b[0;34m,\u001b[0m \u001b[0mtz_parsed\u001b[0m \u001b[0;34m=\u001b[0m \u001b[0mconversion\u001b[0m\u001b[0;34m.\u001b[0m\u001b[0mdatetime_to_datetime64\u001b[0m\u001b[0;34m(\u001b[0m\u001b[0mdata\u001b[0m\u001b[0;34m.\u001b[0m\u001b[0mravel\u001b[0m\u001b[0;34m(\u001b[0m\u001b[0;34m\"K\"\u001b[0m\u001b[0;34m)\u001b[0m\u001b[0;34m)\u001b[0m\u001b[0;34m\u001b[0m\u001b[0;34m\u001b[0m\u001b[0m\n\u001b[0m\u001b[1;32m   2193\u001b[0m             \u001b[0;31m# If tzaware, these values represent unix timestamps, so we\u001b[0m\u001b[0;34m\u001b[0m\u001b[0;34m\u001b[0m\u001b[0;34m\u001b[0m\u001b[0m\n",
      "\u001b[0;32m~/miniconda3/envs/math10s22/lib/python3.7/site-packages/pandas/_libs/tslibs/conversion.pyx\u001b[0m in \u001b[0;36mpandas._libs.tslibs.conversion.datetime_to_datetime64\u001b[0;34m()\u001b[0m\n",
      "\u001b[0;31mTypeError\u001b[0m: Unrecognized value type: <class 'str'>",
      "\nDuring handling of the above exception, another exception occurred:\n",
      "\u001b[0;31mParserError\u001b[0m                               Traceback (most recent call last)",
      "\u001b[0;32m/var/folders/8j/gshrlmtn7dg4qtztj4d4t_w40000gn/T/ipykernel_37995/4212689216.py\u001b[0m in \u001b[0;36m<module>\u001b[0;34m\u001b[0m\n\u001b[0;32m----> 1\u001b[0;31m \u001b[0mpd\u001b[0m\u001b[0;34m.\u001b[0m\u001b[0mto_datetime\u001b[0m\u001b[0;34m(\u001b[0m\u001b[0;34m\" \"\u001b[0m\u001b[0;34m)\u001b[0m\u001b[0;34m\u001b[0m\u001b[0;34m\u001b[0m\u001b[0m\n\u001b[0m",
      "\u001b[0;32m~/miniconda3/envs/math10s22/lib/python3.7/site-packages/pandas/core/tools/datetimes.py\u001b[0m in \u001b[0;36mto_datetime\u001b[0;34m(arg, errors, dayfirst, yearfirst, utc, format, exact, unit, infer_datetime_format, origin, cache)\u001b[0m\n\u001b[1;32m    912\u001b[0m             \u001b[0mresult\u001b[0m \u001b[0;34m=\u001b[0m \u001b[0mconvert_listlike\u001b[0m\u001b[0;34m(\u001b[0m\u001b[0marg\u001b[0m\u001b[0;34m,\u001b[0m \u001b[0mformat\u001b[0m\u001b[0;34m)\u001b[0m\u001b[0;34m\u001b[0m\u001b[0;34m\u001b[0m\u001b[0m\n\u001b[1;32m    913\u001b[0m     \u001b[0;32melse\u001b[0m\u001b[0;34m:\u001b[0m\u001b[0;34m\u001b[0m\u001b[0;34m\u001b[0m\u001b[0m\n\u001b[0;32m--> 914\u001b[0;31m         \u001b[0mresult\u001b[0m \u001b[0;34m=\u001b[0m \u001b[0mconvert_listlike\u001b[0m\u001b[0;34m(\u001b[0m\u001b[0mnp\u001b[0m\u001b[0;34m.\u001b[0m\u001b[0marray\u001b[0m\u001b[0;34m(\u001b[0m\u001b[0;34m[\u001b[0m\u001b[0marg\u001b[0m\u001b[0;34m]\u001b[0m\u001b[0;34m)\u001b[0m\u001b[0;34m,\u001b[0m \u001b[0mformat\u001b[0m\u001b[0;34m)\u001b[0m\u001b[0;34m[\u001b[0m\u001b[0;36m0\u001b[0m\u001b[0;34m]\u001b[0m\u001b[0;34m\u001b[0m\u001b[0;34m\u001b[0m\u001b[0m\n\u001b[0m\u001b[1;32m    915\u001b[0m \u001b[0;34m\u001b[0m\u001b[0m\n\u001b[1;32m    916\u001b[0m     \u001b[0;31m#  error: Incompatible return value type (got \"Union[Timestamp, NaTType,\u001b[0m\u001b[0;34m\u001b[0m\u001b[0;34m\u001b[0m\u001b[0;34m\u001b[0m\u001b[0m\n",
      "\u001b[0;32m~/miniconda3/envs/math10s22/lib/python3.7/site-packages/pandas/core/tools/datetimes.py\u001b[0m in \u001b[0;36m_convert_listlike_datetimes\u001b[0;34m(arg, format, name, tz, unit, errors, infer_datetime_format, dayfirst, yearfirst, exact)\u001b[0m\n\u001b[1;32m    406\u001b[0m         \u001b[0merrors\u001b[0m\u001b[0;34m=\u001b[0m\u001b[0merrors\u001b[0m\u001b[0;34m,\u001b[0m\u001b[0;34m\u001b[0m\u001b[0;34m\u001b[0m\u001b[0m\n\u001b[1;32m    407\u001b[0m         \u001b[0mrequire_iso8601\u001b[0m\u001b[0;34m=\u001b[0m\u001b[0mrequire_iso8601\u001b[0m\u001b[0;34m,\u001b[0m\u001b[0;34m\u001b[0m\u001b[0;34m\u001b[0m\u001b[0m\n\u001b[0;32m--> 408\u001b[0;31m         \u001b[0mallow_object\u001b[0m\u001b[0;34m=\u001b[0m\u001b[0;32mTrue\u001b[0m\u001b[0;34m,\u001b[0m\u001b[0;34m\u001b[0m\u001b[0;34m\u001b[0m\u001b[0m\n\u001b[0m\u001b[1;32m    409\u001b[0m     )\n\u001b[1;32m    410\u001b[0m \u001b[0;34m\u001b[0m\u001b[0m\n",
      "\u001b[0;32m~/miniconda3/envs/math10s22/lib/python3.7/site-packages/pandas/core/arrays/datetimes.py\u001b[0m in \u001b[0;36mobjects_to_datetime64ns\u001b[0;34m(data, dayfirst, yearfirst, utc, errors, require_iso8601, allow_object, allow_mixed)\u001b[0m\n\u001b[1;32m   2196\u001b[0m             \u001b[0;32mreturn\u001b[0m \u001b[0mvalues\u001b[0m\u001b[0;34m.\u001b[0m\u001b[0mview\u001b[0m\u001b[0;34m(\u001b[0m\u001b[0;34m\"i8\"\u001b[0m\u001b[0;34m)\u001b[0m\u001b[0;34m,\u001b[0m \u001b[0mtz_parsed\u001b[0m\u001b[0;34m\u001b[0m\u001b[0;34m\u001b[0m\u001b[0m\n\u001b[1;32m   2197\u001b[0m         \u001b[0;32mexcept\u001b[0m \u001b[0;34m(\u001b[0m\u001b[0mValueError\u001b[0m\u001b[0;34m,\u001b[0m \u001b[0mTypeError\u001b[0m\u001b[0;34m)\u001b[0m\u001b[0;34m:\u001b[0m\u001b[0;34m\u001b[0m\u001b[0;34m\u001b[0m\u001b[0m\n\u001b[0;32m-> 2198\u001b[0;31m             \u001b[0;32mraise\u001b[0m \u001b[0merr\u001b[0m\u001b[0;34m\u001b[0m\u001b[0;34m\u001b[0m\u001b[0m\n\u001b[0m\u001b[1;32m   2199\u001b[0m \u001b[0;34m\u001b[0m\u001b[0m\n\u001b[1;32m   2200\u001b[0m     \u001b[0;32mif\u001b[0m \u001b[0mtz_parsed\u001b[0m \u001b[0;32mis\u001b[0m \u001b[0;32mnot\u001b[0m \u001b[0;32mNone\u001b[0m\u001b[0;34m:\u001b[0m\u001b[0;34m\u001b[0m\u001b[0;34m\u001b[0m\u001b[0m\n",
      "\u001b[0;32m~/miniconda3/envs/math10s22/lib/python3.7/site-packages/pandas/core/arrays/datetimes.py\u001b[0m in \u001b[0;36mobjects_to_datetime64ns\u001b[0;34m(data, dayfirst, yearfirst, utc, errors, require_iso8601, allow_object, allow_mixed)\u001b[0m\n\u001b[1;32m   2185\u001b[0m             \u001b[0myearfirst\u001b[0m\u001b[0;34m=\u001b[0m\u001b[0myearfirst\u001b[0m\u001b[0;34m,\u001b[0m\u001b[0;34m\u001b[0m\u001b[0;34m\u001b[0m\u001b[0m\n\u001b[1;32m   2186\u001b[0m             \u001b[0mrequire_iso8601\u001b[0m\u001b[0;34m=\u001b[0m\u001b[0mrequire_iso8601\u001b[0m\u001b[0;34m,\u001b[0m\u001b[0;34m\u001b[0m\u001b[0;34m\u001b[0m\u001b[0m\n\u001b[0;32m-> 2187\u001b[0;31m             \u001b[0mallow_mixed\u001b[0m\u001b[0;34m=\u001b[0m\u001b[0mallow_mixed\u001b[0m\u001b[0;34m,\u001b[0m\u001b[0;34m\u001b[0m\u001b[0;34m\u001b[0m\u001b[0m\n\u001b[0m\u001b[1;32m   2188\u001b[0m         )\n\u001b[1;32m   2189\u001b[0m         \u001b[0mresult\u001b[0m \u001b[0;34m=\u001b[0m \u001b[0mresult\u001b[0m\u001b[0;34m.\u001b[0m\u001b[0mreshape\u001b[0m\u001b[0;34m(\u001b[0m\u001b[0mdata\u001b[0m\u001b[0;34m.\u001b[0m\u001b[0mshape\u001b[0m\u001b[0;34m,\u001b[0m \u001b[0morder\u001b[0m\u001b[0;34m=\u001b[0m\u001b[0morder\u001b[0m\u001b[0;34m)\u001b[0m\u001b[0;34m\u001b[0m\u001b[0;34m\u001b[0m\u001b[0m\n",
      "\u001b[0;32m~/miniconda3/envs/math10s22/lib/python3.7/site-packages/pandas/_libs/tslib.pyx\u001b[0m in \u001b[0;36mpandas._libs.tslib.array_to_datetime\u001b[0;34m()\u001b[0m\n",
      "\u001b[0;32m~/miniconda3/envs/math10s22/lib/python3.7/site-packages/pandas/_libs/tslib.pyx\u001b[0m in \u001b[0;36mpandas._libs.tslib.array_to_datetime\u001b[0;34m()\u001b[0m\n",
      "\u001b[0;32m~/miniconda3/envs/math10s22/lib/python3.7/site-packages/pandas/_libs/tslib.pyx\u001b[0m in \u001b[0;36mpandas._libs.tslib._array_to_datetime_object\u001b[0;34m()\u001b[0m\n",
      "\u001b[0;32m~/miniconda3/envs/math10s22/lib/python3.7/site-packages/pandas/_libs/tslib.pyx\u001b[0m in \u001b[0;36mpandas._libs.tslib._array_to_datetime_object\u001b[0;34m()\u001b[0m\n",
      "\u001b[0;32m~/miniconda3/envs/math10s22/lib/python3.7/site-packages/pandas/_libs/tslibs/parsing.pyx\u001b[0m in \u001b[0;36mpandas._libs.tslibs.parsing.parse_datetime_string\u001b[0;34m()\u001b[0m\n",
      "\u001b[0;32m~/miniconda3/envs/math10s22/lib/python3.7/site-packages/dateutil/parser/_parser.py\u001b[0m in \u001b[0;36mparse\u001b[0;34m(timestr, parserinfo, **kwargs)\u001b[0m\n\u001b[1;32m   1366\u001b[0m         \u001b[0;32mreturn\u001b[0m \u001b[0mparser\u001b[0m\u001b[0;34m(\u001b[0m\u001b[0mparserinfo\u001b[0m\u001b[0;34m)\u001b[0m\u001b[0;34m.\u001b[0m\u001b[0mparse\u001b[0m\u001b[0;34m(\u001b[0m\u001b[0mtimestr\u001b[0m\u001b[0;34m,\u001b[0m \u001b[0;34m**\u001b[0m\u001b[0mkwargs\u001b[0m\u001b[0;34m)\u001b[0m\u001b[0;34m\u001b[0m\u001b[0;34m\u001b[0m\u001b[0m\n\u001b[1;32m   1367\u001b[0m     \u001b[0;32melse\u001b[0m\u001b[0;34m:\u001b[0m\u001b[0;34m\u001b[0m\u001b[0;34m\u001b[0m\u001b[0m\n\u001b[0;32m-> 1368\u001b[0;31m         \u001b[0;32mreturn\u001b[0m \u001b[0mDEFAULTPARSER\u001b[0m\u001b[0;34m.\u001b[0m\u001b[0mparse\u001b[0m\u001b[0;34m(\u001b[0m\u001b[0mtimestr\u001b[0m\u001b[0;34m,\u001b[0m \u001b[0;34m**\u001b[0m\u001b[0mkwargs\u001b[0m\u001b[0;34m)\u001b[0m\u001b[0;34m\u001b[0m\u001b[0;34m\u001b[0m\u001b[0m\n\u001b[0m\u001b[1;32m   1369\u001b[0m \u001b[0;34m\u001b[0m\u001b[0m\n\u001b[1;32m   1370\u001b[0m \u001b[0;34m\u001b[0m\u001b[0m\n",
      "\u001b[0;32m~/miniconda3/envs/math10s22/lib/python3.7/site-packages/dateutil/parser/_parser.py\u001b[0m in \u001b[0;36mparse\u001b[0;34m(self, timestr, default, ignoretz, tzinfos, **kwargs)\u001b[0m\n\u001b[1;32m    644\u001b[0m \u001b[0;34m\u001b[0m\u001b[0m\n\u001b[1;32m    645\u001b[0m         \u001b[0;32mif\u001b[0m \u001b[0mlen\u001b[0m\u001b[0;34m(\u001b[0m\u001b[0mres\u001b[0m\u001b[0;34m)\u001b[0m \u001b[0;34m==\u001b[0m \u001b[0;36m0\u001b[0m\u001b[0;34m:\u001b[0m\u001b[0;34m\u001b[0m\u001b[0;34m\u001b[0m\u001b[0m\n\u001b[0;32m--> 646\u001b[0;31m             \u001b[0;32mraise\u001b[0m \u001b[0mParserError\u001b[0m\u001b[0;34m(\u001b[0m\u001b[0;34m\"String does not contain a date: %s\"\u001b[0m\u001b[0;34m,\u001b[0m \u001b[0mtimestr\u001b[0m\u001b[0;34m)\u001b[0m\u001b[0;34m\u001b[0m\u001b[0;34m\u001b[0m\u001b[0m\n\u001b[0m\u001b[1;32m    647\u001b[0m \u001b[0;34m\u001b[0m\u001b[0m\n\u001b[1;32m    648\u001b[0m         \u001b[0;32mtry\u001b[0m\u001b[0;34m:\u001b[0m\u001b[0;34m\u001b[0m\u001b[0;34m\u001b[0m\u001b[0m\n",
      "\u001b[0;31mParserError\u001b[0m: String does not contain a date:  "
     ]
    }
   ],
   "source": [
    "pd.to_datetime(\" \")"
   ]
  },
  {
   "cell_type": "code",
   "execution_count": 26,
   "metadata": {
    "cell_id": "389f0ef7280f4a7eb5991f26f9df70fa",
    "deepnote_cell_height": 118.1875,
    "deepnote_cell_type": "code",
    "deepnote_output_heights": [
     21.1875
    ],
    "deepnote_to_be_reexecuted": false,
    "execution_millis": 6,
    "execution_start": 1649881846710,
    "source_hash": "d25b2022",
    "tags": []
   },
   "outputs": [
    {
     "data": {
      "text/plain": [
       "Timestamp('1957-09-01 00:00:00')"
      ]
     },
     "execution_count": 26,
     "metadata": {},
     "output_type": "execute_result"
    }
   ],
   "source": [
    "pd.to_datetime(\"1957-09\")"
   ]
  },
  {
   "cell_type": "markdown",
   "metadata": {
    "cell_id": "4b4278916513411a958fb6c1dc17e69c",
    "deepnote_cell_height": 247.984375,
    "deepnote_cell_type": "markdown",
    "tags": []
   },
   "source": [
    "## try and except\n",
    "\n",
    "We would like to find the \"bad\" cells in `df[\"Release Date\"]` using something like the following pseudocode:\n",
    "\n",
    "```\n",
    "badlist = []\n",
    "for x in df[\"Release Date\"]:\n",
    "    if pd.to_datetime(x) raises an error:\n",
    "        badlist.append(x)\n",
    "```\n",
    "The correct way to do that does not involve an if statement.  Instead it involves `try` and `except`.  Here we also put the \"good\" values into their own list."
   ]
  },
  {
   "cell_type": "code",
   "execution_count": 28,
   "metadata": {
    "cell_id": "14ed3acf61ad419e9e331fc42a3e24da",
    "deepnote_cell_height": 207,
    "deepnote_cell_type": "code",
    "deepnote_to_be_reexecuted": false,
    "execution_millis": 145,
    "execution_start": 1649882145971,
    "source_hash": "d375b18",
    "tags": []
   },
   "outputs": [],
   "source": [
    "badlist = []\n",
    "goodlist = []\n",
    "for x in df[\"Release Date\"]:\n",
    "    try:\n",
    "        pd.to_datetime(x)\n",
    "        goodlist.append(x)\n",
    "    except:\n",
    "        badlist.append(x)"
   ]
  },
  {
   "cell_type": "code",
   "execution_count": 29,
   "metadata": {
    "cell_id": "35f0785a5d184160bf4d322628b32f86",
    "deepnote_cell_height": 708,
    "deepnote_cell_type": "code",
    "deepnote_output_heights": [
     611
    ],
    "deepnote_to_be_reexecuted": false,
    "execution_millis": 20,
    "execution_start": 1649882150410,
    "source_hash": "fbfdbd11",
    "tags": [
     "output_scroll"
    ]
   },
   "outputs": [
    {
     "data": {
      "text/plain": [
       "['2017-12-08',\n",
       " '2021-07-09',\n",
       " '2021-05-21',\n",
       " '2021-06-25',\n",
       " '2021-07-23',\n",
       " '2021-03-31',\n",
       " '2021-04-09',\n",
       " '2021-05-20',\n",
       " '2021-06-04',\n",
       " '2021-03-19',\n",
       " '2020-10-01',\n",
       " '2021-05-28',\n",
       " '2021-07-09',\n",
       " '2021-03-19',\n",
       " '2021-06-04',\n",
       " '2021-05-21',\n",
       " '2021-05-21',\n",
       " '2021-04-23',\n",
       " '2021-06-24',\n",
       " '2021-06-25',\n",
       " '2021-07-08',\n",
       " '2021-06-25',\n",
       " '2021-05-21',\n",
       " '2020-08-07',\n",
       " '2020-03-20',\n",
       " '2021-05-21',\n",
       " '2021-06-24',\n",
       " '2021-07-09',\n",
       " '2021-01-15',\n",
       " '2021-01-06',\n",
       " '2021-03-05',\n",
       " '2021-07-23',\n",
       " '2021-05-21',\n",
       " '2021-04-16',\n",
       " '2019-12-13',\n",
       " '2021-04-09',\n",
       " '2021-06-25',\n",
       " '2021-07-09',\n",
       " '2020-11-27',\n",
       " '2021-04-29',\n",
       " '2021-05-21',\n",
       " '2021-06-18',\n",
       " '2020-11-20',\n",
       " '2020-09-16',\n",
       " '2021-05-20',\n",
       " '2021-03-26',\n",
       " '2021-07-08',\n",
       " '2021-06-15',\n",
       " '2021-05-14',\n",
       " '2021-06-30',\n",
       " '2021-04-01',\n",
       " '2021-07-30',\n",
       " '2021-06-25',\n",
       " '2021-05-21',\n",
       " '2021-05-15',\n",
       " '2021-06-01',\n",
       " '2021-02-14',\n",
       " '2021-06-11',\n",
       " '2021-05-05',\n",
       " '2021-06-11',\n",
       " '2021-01-15',\n",
       " '2021-05-21',\n",
       " '2021-04-23',\n",
       " '2020-03-27',\n",
       " '2021-08-13',\n",
       " '2018-02-02',\n",
       " '2013-04-19',\n",
       " '2021-07-08',\n",
       " '2019-05-17',\n",
       " '2021-07-23',\n",
       " '2021-06-02',\n",
       " '2021-03-26',\n",
       " '2021-05-13',\n",
       " '2017-12-14',\n",
       " '2021-03-19',\n",
       " '2020-12-04',\n",
       " '2021-04-23',\n",
       " '2021-02-04',\n",
       " '2019-10-17',\n",
       " '2020-11-06',\n",
       " '2021-03-05',\n",
       " '2021-06-10',\n",
       " '2021-08-13',\n",
       " '2021-01-15',\n",
       " '2020-07-03',\n",
       " '2021-02-26',\n",
       " '2019-06-03',\n",
       " '2021-07-22',\n",
       " '2019-03-07',\n",
       " '2021-02-05',\n",
       " '2020-10-30',\n",
       " '2019-09-06',\n",
       " '2021-07-16',\n",
       " '2021-04-20',\n",
       " '2021-08-12',\n",
       " '2021-06-25',\n",
       " '2021-04-27',\n",
       " '2021-07-08',\n",
       " '2019-11-22',\n",
       " '2020-10-01',\n",
       " '2021-06-04',\n",
       " '2021-06-16',\n",
       " '2017-06-23',\n",
       " '2020-08-14',\n",
       " '2010-10-05',\n",
       " '2020-11-20',\n",
       " '2021-04-15',\n",
       " '2021-06-03',\n",
       " '2021-07-09',\n",
       " '2018-04-19',\n",
       " '2018-12-14',\n",
       " '2019-05-24',\n",
       " '2019-11-07',\n",
       " '2021-06-04',\n",
       " '2021-06-17',\n",
       " '2017-03-03',\n",
       " '2019-06-21',\n",
       " '2021-08-13',\n",
       " '2017-03-03',\n",
       " '2021-06-21',\n",
       " '2020-11-27',\n",
       " '2020-04-17',\n",
       " '2020-03-20',\n",
       " '2020-04-17',\n",
       " '2014-01-01',\n",
       " '2014-09-09',\n",
       " '1991-09-26',\n",
       " '2021-05-21',\n",
       " '2015-10-30',\n",
       " '2021-06-01',\n",
       " '2021-05-07',\n",
       " '2021-06-11',\n",
       " '2013-09-17',\n",
       " '2021-04-30',\n",
       " '2014-09-19',\n",
       " '2021-01-08',\n",
       " '2021-06-19',\n",
       " '2021-02-05',\n",
       " '2020-11-05',\n",
       " '2021-07-21',\n",
       " '1975-11-21',\n",
       " '2020-12-10',\n",
       " '2020-10-30',\n",
       " '2021-01-15',\n",
       " '2021-01-08',\n",
       " '2021-07-14',\n",
       " '2018-10-05',\n",
       " '2021-05-28',\n",
       " '2021-04-29',\n",
       " '2014-01-01',\n",
       " '2000-07-10',\n",
       " '2021-07-13',\n",
       " '2021-06-01',\n",
       " '2013-01-01',\n",
       " '2021-02-26',\n",
       " '2021-08-13',\n",
       " '2020-07-03',\n",
       " '2014',\n",
       " '2021-06-25',\n",
       " '2021-06-18',\n",
       " '2018-12-10',\n",
       " '2021-04-02',\n",
       " '2021-08-13',\n",
       " '2021-02-12',\n",
       " '2020-07-03',\n",
       " '2021-05-21',\n",
       " '2020-08-07',\n",
       " '2004-06-15',\n",
       " '1983-06-17',\n",
       " '1977-02-04',\n",
       " '2016-10-28',\n",
       " '2021-07-22',\n",
       " '2021-07-16',\n",
       " '2021-07-16',\n",
       " '2020-02-08',\n",
       " '2021-05-21',\n",
       " '1980-06-27',\n",
       " '2016-05-06',\n",
       " '2019-12-13',\n",
       " '2021-06-10',\n",
       " '2021-06-04',\n",
       " '2021-06-25',\n",
       " '2013-08-30',\n",
       " '2020-05-15',\n",
       " '2019-07-26',\n",
       " '2021-01-07',\n",
       " '2015-08-28',\n",
       " '2020-12-25',\n",
       " '2021-07-23',\n",
       " '2021-07-06',\n",
       " '2019-02-08',\n",
       " '2020-12-04',\n",
       " '2021-02-25',\n",
       " '2019-12-19',\n",
       " '2021-07-18',\n",
       " '2021-06-04',\n",
       " '2021-07-22',\n",
       " '2000-05-23',\n",
       " '2021-07-31',\n",
       " '2021-07-31',\n",
       " '2021-07-16',\n",
       " '2021-07-31',\n",
       " '2021-07-31',\n",
       " '2021-06-18',\n",
       " '2021-07-31',\n",
       " '2021-07-31',\n",
       " '2021-06-25',\n",
       " '2021-06-24',\n",
       " '2021-04-22',\n",
       " '2021-07-31',\n",
       " '2021-01-28',\n",
       " '2021-06-17',\n",
       " '2019-07-26',\n",
       " '2021-08-12',\n",
       " '2021-07-16',\n",
       " '2021-07-02',\n",
       " '2021-04-09',\n",
       " '2021-05-13',\n",
       " '2021-03-12',\n",
       " '2021-02-11',\n",
       " '2020-11-20',\n",
       " '2021-07-09',\n",
       " '2021-03-12',\n",
       " '2021-07-09',\n",
       " '2021-05-21',\n",
       " '2021-05-26',\n",
       " '2021-06-11',\n",
       " '2021-07-09',\n",
       " '2021-07-09',\n",
       " '2021-03-18',\n",
       " '2021-03-27',\n",
       " '2021-03-05',\n",
       " '2021-06-25',\n",
       " '2016-07-29',\n",
       " '1995',\n",
       " '2021-07-01',\n",
       " '2021-06-25',\n",
       " '2021-07-02',\n",
       " '2021-06-25',\n",
       " '2021-06-10',\n",
       " '2021-04-30',\n",
       " '2021-04-23',\n",
       " '2021-06-10',\n",
       " '2021-07-30',\n",
       " '2021-07-01',\n",
       " '2020-08-20',\n",
       " '2021-01-29',\n",
       " '2020-11-20',\n",
       " '2011-11-11',\n",
       " '2020-10-22',\n",
       " '2021-05-13',\n",
       " '2021-06-09',\n",
       " '2013-09-09',\n",
       " '2021-06-25',\n",
       " '2021-06-25',\n",
       " '2021-06-25',\n",
       " '2021-06-25',\n",
       " '2021-06-25',\n",
       " '2021-06-25',\n",
       " '2021-06-25',\n",
       " '2021-06-25',\n",
       " '2021-06-25',\n",
       " '2021-06-25',\n",
       " '2021-06-25',\n",
       " '2021-06-25',\n",
       " '2021-06-25',\n",
       " '2021-06-11',\n",
       " '2021-06-25',\n",
       " '2021-06-25',\n",
       " '2021-06-11',\n",
       " '2020-07-24',\n",
       " '2020-06-11',\n",
       " '2021-06-18',\n",
       " '2020-07-31',\n",
       " '2021-06-17',\n",
       " '2021-06-04',\n",
       " '2021-05-14',\n",
       " '2021-05-14',\n",
       " '2017-08-25',\n",
       " '2021-06-11',\n",
       " '2019-12-06',\n",
       " '2021-01-21',\n",
       " '2012-10-09',\n",
       " '2021-08-13',\n",
       " '2020-09-25',\n",
       " '2010-10-05',\n",
       " '2019-10-04',\n",
       " '2020-03-27',\n",
       " '2020-08-14',\n",
       " '2021-05-13',\n",
       " '2021-02-03',\n",
       " '2000-10-24',\n",
       " '2014-12-09',\n",
       " '2018-08-03',\n",
       " '2017-04-07',\n",
       " '2021-04-16',\n",
       " '2021-05-14',\n",
       " '2021-05-21',\n",
       " '2021-06-11',\n",
       " '2021-06-11',\n",
       " '2021-06-11',\n",
       " '2020-09-18',\n",
       " '2021-06-11',\n",
       " '2020-11-02',\n",
       " '2021-06-11',\n",
       " '2021-06-11',\n",
       " '2021-08-13',\n",
       " '2020-11-27',\n",
       " '2021-04-09',\n",
       " '2021-08-13',\n",
       " '2021-05-21',\n",
       " '2021-06-11',\n",
       " '2020-05-22',\n",
       " '2021-06-04',\n",
       " '2021-07-16',\n",
       " '2021-06-04',\n",
       " '2021-05-31',\n",
       " '2021-05-14',\n",
       " '2021-05-06',\n",
       " '2021-04-16',\n",
       " '2020-10-08',\n",
       " '2019-12-13',\n",
       " '2021-03-19',\n",
       " '2021-08-13',\n",
       " '2021-01-15',\n",
       " '2021-05-28',\n",
       " '2020-12-18',\n",
       " '2018-12-10',\n",
       " '2021-05-28',\n",
       " '2019-04-12',\n",
       " '2021-01-22',\n",
       " '2020-01-17',\n",
       " '2020-02-07',\n",
       " '2011-01-01',\n",
       " '2020-09-18',\n",
       " '2021-04-02',\n",
       " '2021-05-14',\n",
       " '2021-06-04',\n",
       " '2021-04-01',\n",
       " '2020-11-06',\n",
       " '2021-05-21',\n",
       " '2021-05-21',\n",
       " '2021-05-14',\n",
       " '2021-05-14',\n",
       " '2021-01-21',\n",
       " '2021-03-10',\n",
       " '2021-04-30',\n",
       " '2021-05-14',\n",
       " '2021-03-05',\n",
       " '2021-04-30',\n",
       " '2020-02-14',\n",
       " '2021-03-10',\n",
       " '2021-04-02',\n",
       " '2021-05-21',\n",
       " '2021-03-13',\n",
       " '2021-05-21',\n",
       " '2021-05-14',\n",
       " '2021-05-14',\n",
       " '2021-05-14',\n",
       " '2021-05-14',\n",
       " '2021-05-14',\n",
       " '2021-05-14',\n",
       " '2021-04-30',\n",
       " '2021-04-28',\n",
       " '2021-03-11',\n",
       " '2012-04-30',\n",
       " '2019-12-13',\n",
       " '2020-12-15',\n",
       " '2020-11-20',\n",
       " '2021-08-09',\n",
       " '2020-10-16',\n",
       " '2005-02-22',\n",
       " '2019-10-17',\n",
       " '2021-04-30',\n",
       " '2021-04-22',\n",
       " '2021-08-13',\n",
       " '2021-05-04',\n",
       " '2021-03-10',\n",
       " '2020-11-13',\n",
       " '2020-07-17',\n",
       " '2020-01-10',\n",
       " '2021-05-13',\n",
       " '2020-07-10',\n",
       " '2021-02-08',\n",
       " '2021-01-22',\n",
       " '2021-03-01',\n",
       " '2020-07-10',\n",
       " '2019-03-08',\n",
       " '2021-04-22',\n",
       " '2020-08-25',\n",
       " '2021-04-30',\n",
       " '2021-04-29',\n",
       " '2020-07-17',\n",
       " '2021-04-30',\n",
       " '2021-05-21',\n",
       " '2021-03-12',\n",
       " '2021-04-09',\n",
       " '2021-08-13',\n",
       " '2021-04-09',\n",
       " '2021-04-02',\n",
       " '2020-11-06',\n",
       " '2021-04-02',\n",
       " '2020-09-23',\n",
       " '2021-03-19',\n",
       " '2021-04-23',\n",
       " '2021-01-15',\n",
       " '2020-04-24',\n",
       " '2020-10-15',\n",
       " '2016-10-28',\n",
       " '2020-11-20',\n",
       " '2020-03-20',\n",
       " '2018-03-16',\n",
       " '2021-03-26',\n",
       " '2020-08-21',\n",
       " '2012-12-07',\n",
       " '2021-08-12',\n",
       " '2015-05-15',\n",
       " '2021-04-16',\n",
       " '2021-04-16',\n",
       " '2021-04-09',\n",
       " '2020-11-12',\n",
       " '2021-02-19',\n",
       " '2020-12-11',\n",
       " '2013-09-09',\n",
       " '2021-08-13',\n",
       " '2019-06-28',\n",
       " '2021-04-09',\n",
       " '2021-04-09',\n",
       " '2007-06-12',\n",
       " '2021-04-09',\n",
       " '2021-04-09',\n",
       " '2021-03-26',\n",
       " '2021-04-09',\n",
       " '2021-04-09',\n",
       " '2021-04-09',\n",
       " '2021-04-09',\n",
       " '1998-05-01',\n",
       " '2021-04-09',\n",
       " '2021-04-09',\n",
       " '2021-04-09',\n",
       " '2021-08-09',\n",
       " '2020-09-04',\n",
       " '2021-04-09',\n",
       " '2021-04-09',\n",
       " '2021-04-01',\n",
       " '2021-03-26',\n",
       " '2021-03-12',\n",
       " '2021-02-04',\n",
       " '2020-07-20',\n",
       " '2019-10-04',\n",
       " '2020-07-22',\n",
       " '2021-03-19',\n",
       " '2020-05-08',\n",
       " '2008-09-23',\n",
       " '2020-11-26',\n",
       " '2021-03-04',\n",
       " '2012-01-01',\n",
       " '2021-03-19',\n",
       " '2021-03-19',\n",
       " '2020-12-11',\n",
       " '1985-06-01',\n",
       " '2020-11-25',\n",
       " '2021-03-19',\n",
       " '2021-03-19',\n",
       " '2021-03-19',\n",
       " '2019-11-07',\n",
       " '2020-09-04',\n",
       " '2021-03-19',\n",
       " '2021-01-12',\n",
       " '2021-03-05',\n",
       " '2020-11-26',\n",
       " '2020-11-20',\n",
       " '2021-03-19',\n",
       " '2016-11-25',\n",
       " '2020-07-24',\n",
       " '2020-11-13',\n",
       " '2021-03-19',\n",
       " '2010-01-01',\n",
       " '2021-03-19',\n",
       " '2020-11-20',\n",
       " '2021-03-19',\n",
       " '2020-08-21',\n",
       " '2021-01-18',\n",
       " '2020-09-21',\n",
       " '2016-02-05',\n",
       " '2020-11-20',\n",
       " '2021-03-12',\n",
       " '2021-03-12',\n",
       " '2021-03-04',\n",
       " '2018-11-01',\n",
       " '2021-03-12',\n",
       " '2020-06-12',\n",
       " '2020-10-16',\n",
       " '2019-11-07',\n",
       " '2018-03-16',\n",
       " '2015-07-17',\n",
       " '2016-11-25',\n",
       " '2020-07-03',\n",
       " '2019-10-04',\n",
       " '2019-06-14',\n",
       " '2020-10-02',\n",
       " '2021-03-11',\n",
       " '2021-08-13',\n",
       " '2021-02-26',\n",
       " '2021-03-05',\n",
       " '2021-03-03',\n",
       " '2021-01-22',\n",
       " '2021-03-04',\n",
       " '2021-03-04',\n",
       " '2020-09-02',\n",
       " '2020-05-08',\n",
       " '2015',\n",
       " '2015-10-16',\n",
       " '2020-03-20',\n",
       " '2021-02-25',\n",
       " '2021-02-19',\n",
       " '2021-02-26',\n",
       " '2020-10-23',\n",
       " '2020-08-14',\n",
       " '2019-10-10',\n",
       " '2018-04-27',\n",
       " '2021-02-26',\n",
       " '2018-10-04',\n",
       " '2020-11-27',\n",
       " '2020-02-14',\n",
       " '2019-08-02',\n",
       " '2014-06-21',\n",
       " '2021-02-26',\n",
       " '2021-02-18',\n",
       " '2021-08-13',\n",
       " '2021-01-22',\n",
       " '2020-10-22',\n",
       " '2020-11-06',\n",
       " '2021-01-21',\n",
       " '2020-11-13',\n",
       " '2020-09-04',\n",
       " '2020-10-30',\n",
       " '2019-05-10',\n",
       " '2021-08-12',\n",
       " '2020-11-27',\n",
       " '2020-11-05',\n",
       " '2020-07-09',\n",
       " '2020-12-17',\n",
       " '2018-03-16',\n",
       " '2014-06-21',\n",
       " '2020-04-03',\n",
       " '2015-08-28',\n",
       " '2019-11-26',\n",
       " '1995',\n",
       " '2017-08-25',\n",
       " '2021-01-15',\n",
       " '2021-01-21',\n",
       " '2021-02-04',\n",
       " '2015-08-28',\n",
       " '2021-01-29',\n",
       " '2018-03-30',\n",
       " '2020-08-14',\n",
       " '2021-02-05',\n",
       " '2013-04-01',\n",
       " '2021-01-28',\n",
       " '2020-05-19',\n",
       " '2020-03-20',\n",
       " '2020-10-30',\n",
       " '2018-06-29',\n",
       " '2020-11-20',\n",
       " '2020-04-03',\n",
       " '2021-01-14',\n",
       " '2021-01-29',\n",
       " '2021-01-08',\n",
       " '2019-11-27',\n",
       " '2020-07-09',\n",
       " '2021-01-08',\n",
       " '2020-04-24',\n",
       " '2021-01-22',\n",
       " '2020-11-07',\n",
       " '2020-11-20',\n",
       " '2021-03-12',\n",
       " '2020-12-09',\n",
       " '2020-09-17',\n",
       " '2020-10-26',\n",
       " '2020-11-13',\n",
       " '2020-12-11',\n",
       " '2020-05-08',\n",
       " '2020-12-08',\n",
       " '2021-01-15',\n",
       " '2021-08-11',\n",
       " '2020-06-19',\n",
       " '2020-09-18',\n",
       " '2020-10-02',\n",
       " '2020-06-11',\n",
       " '2020-06-05',\n",
       " '2021-01-08',\n",
       " '2021-01-08',\n",
       " '2021-01-08',\n",
       " '2020-11-27',\n",
       " '2020-10-31',\n",
       " '2020-07-03',\n",
       " '2021-01-08',\n",
       " '2021-01-08',\n",
       " '2020-04-17',\n",
       " '2020-10-02',\n",
       " '2020-05-01',\n",
       " '2020-10-29',\n",
       " '2021-01-01',\n",
       " '2020-12-11',\n",
       " '2019-01-06',\n",
       " '2020-10-16',\n",
       " '2018-08-17',\n",
       " '1978-11-10',\n",
       " '2020-03-19',\n",
       " '2020-05-29',\n",
       " '2020-12-11',\n",
       " '2019-10-11',\n",
       " '2020-10-26',\n",
       " '2020-09-25',\n",
       " '1994-11-01',\n",
       " '1984-11-29',\n",
       " '2014-11-24',\n",
       " '1964-10-19',\n",
       " '1957-12-02',\n",
       " '2012-11-09',\n",
       " '1963-11-24',\n",
       " '2013-10-29',\n",
       " '2002-09-24',\n",
       " '1959-01-01',\n",
       " '1994-11-08',\n",
       " '2011-01-01',\n",
       " '1963',\n",
       " '2004-01-01',\n",
       " '1980-05-16',\n",
       " '2012-11-09',\n",
       " '2010-10-05',\n",
       " '1962',\n",
       " '1942-01-01',\n",
       " '2020-12-25',\n",
       " '1965-01-01',\n",
       " '1988-09-05',\n",
       " '1991-11-25',\n",
       " '1957-10-15',\n",
       " '2021-08-06',\n",
       " '2021-08-06',\n",
       " '2010-11-30',\n",
       " '1999-08-20',\n",
       " '1963',\n",
       " '1973-10-05',\n",
       " '2020-12-11',\n",
       " '2019-12-13',\n",
       " '2020-11-13',\n",
       " '1983-11-01',\n",
       " '2016-12-16',\n",
       " '2014-12-05',\n",
       " '2018-11-01',\n",
       " '2000-11-14',\n",
       " '2016-10-28',\n",
       " '2019-11-08',\n",
       " '2020-10-15',\n",
       " '2017-10-06',\n",
       " '2020-12-18',\n",
       " '2021-08-06',\n",
       " '2012-11-09',\n",
       " '2014-10-10',\n",
       " '2020-12-11',\n",
       " '1970-10-15',\n",
       " '2002',\n",
       " '1990',\n",
       " '2020-12-11',\n",
       " '2021-08-06',\n",
       " '2020-12-07',\n",
       " '1959-01-01',\n",
       " '1981',\n",
       " '2013-12-02',\n",
       " '2021-08-06',\n",
       " '2020-10-30',\n",
       " '2015-01-09',\n",
       " '1959-01-01',\n",
       " '1957-09',\n",
       " '1957-09',\n",
       " '2020-12-04',\n",
       " '2006-01-01',\n",
       " '2017-12-06',\n",
       " '1990-04-03',\n",
       " '2014-12-09',\n",
       " '2019-12-06',\n",
       " '2018-11-15',\n",
       " '1998-10-30',\n",
       " '2020-12-11',\n",
       " '1994',\n",
       " '2020-10-30',\n",
       " '2020-12-11',\n",
       " '2020-12-11',\n",
       " '2020-12-11',\n",
       " '2020-12-11',\n",
       " '2020-12-11',\n",
       " '2020-12-11',\n",
       " '2020-12-11',\n",
       " '2020-12-11',\n",
       " '2020-12-11',\n",
       " '2020-12-11',\n",
       " '2020-12-11',\n",
       " '2020-12-11',\n",
       " '2020-12-11',\n",
       " '2020-12-11',\n",
       " '2020-12-11',\n",
       " '2020-12-11',\n",
       " '2020-11-27',\n",
       " '2020-12-11',\n",
       " '2020-12-11',\n",
       " '2020-07-24',\n",
       " '2020-12-02',\n",
       " '2020-12-04',\n",
       " '2020-12-04',\n",
       " '2020-06-24',\n",
       " '2020-11-27',\n",
       " '2020-12-03',\n",
       " '2020-11-27',\n",
       " '2020-11-20',\n",
       " '2020-07-24',\n",
       " '2020-02-29',\n",
       " '2020-11-27',\n",
       " '2020-07-24',\n",
       " '2020-12-04',\n",
       " '2020-11-06',\n",
       " '2020-11-27',\n",
       " '2020-11-27',\n",
       " '2020-11-27',\n",
       " '2020-11-27',\n",
       " '2020-11-27',\n",
       " '2020-11-27',\n",
       " '2020-11-27',\n",
       " '1980-05-16',\n",
       " '2020-11-20',\n",
       " '2020-11-20',\n",
       " '2020-11-20',\n",
       " '2020-11-20',\n",
       " '2020-09-29',\n",
       " '2020-11-27',\n",
       " '2020-11-27',\n",
       " '2020-05-09',\n",
       " '2020-11-20',\n",
       " '2020-12-18',\n",
       " '2020-08-21',\n",
       " '2020-11-13',\n",
       " '2020-12-18',\n",
       " '2020-01-24',\n",
       " '2020-12-18',\n",
       " '2020-06-12',\n",
       " '2020-11-06',\n",
       " '2020-07-10',\n",
       " '2020-10-02',\n",
       " '2020-10-02',\n",
       " '2013-03-15',\n",
       " '2020-12-18',\n",
       " '2020-10-02',\n",
       " '2019-03-22',\n",
       " '2019-10-04',\n",
       " '2020-03-27',\n",
       " '2020-05-01',\n",
       " '2020-04-21',\n",
       " '2020-11-13',\n",
       " '2020-07-10',\n",
       " '2020-10-28',\n",
       " '2020-09-18',\n",
       " '2020-11-13',\n",
       " '2020-03-13',\n",
       " '2020-10-30',\n",
       " '2020-10-23',\n",
       " '2020-11-06',\n",
       " '2020-09-15',\n",
       " '2020-11-13',\n",
       " '2006-01-01',\n",
       " '2020-07-16',\n",
       " '2020-10-30',\n",
       " '2019-10-04',\n",
       " '2020-05-29',\n",
       " '2018-10-08',\n",
       " '2020-12-02',\n",
       " '2020-10-23',\n",
       " '2018-10-26',\n",
       " '2020-09-11',\n",
       " '2021-07-30',\n",
       " '2020-08-14',\n",
       " '2020-10-30',\n",
       " '2020-10-30',\n",
       " '2020-10-30',\n",
       " '2020-11-06',\n",
       " '2020-08-20',\n",
       " '2020-08-21',\n",
       " '2020-08-17',\n",
       " '2020-10-02',\n",
       " '2020-07-03',\n",
       " '2020-10-30',\n",
       " '2020-10-30',\n",
       " '2019-06-28',\n",
       " '2020-03-26',\n",
       " '2020-03-13',\n",
       " '2021-08-09',\n",
       " '2020-10-30',\n",
       " '2020-10-30',\n",
       " '2020-10-30',\n",
       " '2017-09-27',\n",
       " '2019-01-11',\n",
       " '2020-10-29',\n",
       " '2020-10-30',\n",
       " '1979-07-27',\n",
       " '2020-09-18',\n",
       " '2020-08-21',\n",
       " '2020-09-04',\n",
       " '2020-09-25',\n",
       " '2020-10-02',\n",
       " '2020-09-04',\n",
       " '2019-02-08',\n",
       " '2020-04-10',\n",
       " '2020-10-13',\n",
       " '2021-08-13',\n",
       " '2020-04-24',\n",
       " '2020-07-23',\n",
       " '2013-02-17',\n",
       " '2015-08-14',\n",
       " '2020-05-29',\n",
       " '2011-01-24',\n",
       " '2019-11-08',\n",
       " '2020-10-09',\n",
       " '2020-10-02',\n",
       " '2020-10-16',\n",
       " '2020-08-15',\n",
       " '2020-10-02',\n",
       " '2020-10-09',\n",
       " '2020-05-28',\n",
       " '2020-06-10',\n",
       " '2020-02-29',\n",
       " '2021-03-19',\n",
       " '2020-05-22',\n",
       " '2020-03-26',\n",
       " '2020-05-15',\n",
       " '2019-05-17',\n",
       " '2021-08-03',\n",
       " '2019-11-15',\n",
       " '2020-10-02',\n",
       " '2020-09-25',\n",
       " '2020-09-25',\n",
       " '2020-06-30',\n",
       " '2020-06-26',\n",
       " '2019-06-28',\n",
       " '2020-10-02',\n",
       " '2020-10-02',\n",
       " '2020-10-02',\n",
       " '2020-10-02',\n",
       " '2020-10-02',\n",
       " '2020-10-02',\n",
       " '2020-10-02',\n",
       " '2020-09-30',\n",
       " '2020-09-24',\n",
       " '2020-10-02',\n",
       " '2020-08-20',\n",
       " '2020-10-02',\n",
       " '2020-10-02',\n",
       " '2020-04-16',\n",
       " '2020-09-25',\n",
       " '2020-08-06',\n",
       " '2020-09-25',\n",
       " '2020-09-25',\n",
       " '2020-09-25',\n",
       " '2020-09-25',\n",
       " '2019-06-14',\n",
       " '2019-06-21',\n",
       " '2020-06-17',\n",
       " '2020-09-25',\n",
       " '2020-09-25',\n",
       " '2020-08-28',\n",
       " '2020-07-10',\n",
       " '2020-09-25',\n",
       " '2020-07-10',\n",
       " '2020-06-24',\n",
       " '2012',\n",
       " '2020-08-29',\n",
       " '1978-11-23',\n",
       " '2020-04-24',\n",
       " '2020-05-15',\n",
       " '2021-04-28',\n",
       " '2021-04-28',\n",
       " '2020-07-24',\n",
       " '2020-07-10',\n",
       " '2020-07-10',\n",
       " '2020-09-18',\n",
       " '2020-05-01',\n",
       " '2020-05-08',\n",
       " '2020-03-27',\n",
       " '2020-09-18',\n",
       " '2020-09-18',\n",
       " '2020-09-18',\n",
       " '2020-09-04',\n",
       " '2020-09-04',\n",
       " '2021-06-11',\n",
       " '2020-09-10',\n",
       " '2020-09-10',\n",
       " '2019-11-08',\n",
       " '2020-05-01',\n",
       " '2020-09-10',\n",
       " '2009-01-01',\n",
       " '2020-01-23',\n",
       " '2020-08-20',\n",
       " '2020-01-10',\n",
       " '2020-04-29',\n",
       " '2020-09-04',\n",
       " '2020-08-28',\n",
       " '2020-08-17',\n",
       " '2020-08-22',\n",
       " '2020-04-23',\n",
       " '2020-06-19',\n",
       " '2020-08-27',\n",
       " '2020-06-26',\n",
       " '2019-08-28',\n",
       " '2020-07-24',\n",
       " '2019-10-12',\n",
       " '2020-08-07',\n",
       " '2020-07-17',\n",
       " '2021-04-23',\n",
       " '2020-05-15',\n",
       " '2020-08-27',\n",
       " '2019-12-27',\n",
       " '2020-07-16',\n",
       " '2020-05-29',\n",
       " '2020-05-28',\n",
       " '2020-08-07',\n",
       " '2019-10-04',\n",
       " '2020-05-01',\n",
       " '2020-08-14',\n",
       " '2020-09-17',\n",
       " '2020-02-21',\n",
       " '2020-07-30',\n",
       " '2020-07-10',\n",
       " '2021-08-09',\n",
       " '2020-08-21',\n",
       " '2020-07-24',\n",
       " '2020-08-19',\n",
       " '2019-06-28',\n",
       " '2020-07-14',\n",
       " '2008-05-12',\n",
       " '2018-06-15',\n",
       " '2020-07-24',\n",
       " '2020-08-13',\n",
       " '2020-07-24',\n",
       " '2020-04-03',\n",
       " '2020-05-15',\n",
       " '2020-03-04',\n",
       " '2020-07-20',\n",
       " '2020-03-27',\n",
       " '2019-03-15',\n",
       " '2020-07-03',\n",
       " '2020-11-13',\n",
       " '2020-05-08',\n",
       " '2020-07-24',\n",
       " '2019-06-28',\n",
       " '2020-02-07',\n",
       " '2020-03-19',\n",
       " '2019-09-06',\n",
       " '2020-07-24',\n",
       " '2020-07-24',\n",
       " '2020-07-24',\n",
       " '2020-07-24',\n",
       " '2020-08-04',\n",
       " '2020-07-24',\n",
       " '2020-08-07',\n",
       " '2020-08-02',\n",
       " '2020-07-31',\n",
       " '2020-04-24',\n",
       " '2020-03-06',\n",
       " '2020-07-24',\n",
       " '2020-07-24',\n",
       " '2020-07-24',\n",
       " '2020-09-25',\n",
       " '2020-07-31',\n",
       " '2020-09-10',\n",
       " '2020-07-31',\n",
       " '2020-07-24',\n",
       " '2020-07-10',\n",
       " '2020-07-30',\n",
       " '2020-03-19',\n",
       " '2020-05-15',\n",
       " '2020-07-09',\n",
       " '2020-10-22',\n",
       " '2020-01-09',\n",
       " '2021-08-13',\n",
       " '2020-07-22',\n",
       " '2020-07-23',\n",
       " '2020-07-24',\n",
       " '2020-07-10',\n",
       " '2012-05-25',\n",
       " '2020-10-02',\n",
       " '2020-07-10',\n",
       " '2020-07-10',\n",
       " '2020-07-10',\n",
       " '2020-01-12',\n",
       " '2020-06-12',\n",
       " '2013-11-25',\n",
       " '2020-07-24',\n",
       " '2020-07-10',\n",
       " '2020-07-10',\n",
       " '2020-07-10',\n",
       " '2020-07-10',\n",
       " ...]"
      ]
     },
     "execution_count": 29,
     "metadata": {},
     "output_type": "execute_result"
    }
   ],
   "source": [
    "goodlist"
   ]
  },
  {
   "cell_type": "code",
   "execution_count": 30,
   "metadata": {
    "cell_id": "52093c61148f4c8fbf2a4fabb3ebe81b",
    "deepnote_cell_height": 118.1875,
    "deepnote_cell_type": "code",
    "deepnote_output_heights": [
     21.1875
    ],
    "deepnote_to_be_reexecuted": false,
    "execution_millis": 5,
    "execution_start": 1649882045644,
    "source_hash": "641a8f55",
    "tags": []
   },
   "outputs": [
    {
     "data": {
      "text/plain": [
       "[' ', ' ', ' ', ' ', ' ', ' ', ' ', ' ', ' ', ' ', ' ']"
      ]
     },
     "execution_count": 30,
     "metadata": {},
     "output_type": "execute_result"
    }
   ],
   "source": [
    "badlist"
   ]
  },
  {
   "cell_type": "markdown",
   "metadata": {
    "cell_id": "9e72aeb4f36d4d878c3303d469bbee11",
    "deepnote_cell_height": 70,
    "deepnote_cell_type": "markdown",
    "deepnote_to_be_reexecuted": false,
    "execution_millis": 0,
    "execution_start": 1649796539897,
    "source_hash": "e87e009",
    "tags": []
   },
   "source": [
    "## String slicing example"
   ]
  },
  {
   "cell_type": "code",
   "execution_count": 31,
   "metadata": {
    "cell_id": "a7d2803654b14f2081f84c1b35cbd314",
    "deepnote_cell_height": 81,
    "deepnote_cell_type": "code",
    "deepnote_output_heights": [
     21.1875
    ],
    "deepnote_to_be_reexecuted": false,
    "execution_millis": 0,
    "execution_start": 1649882213277,
    "source_hash": "cf41ff0f",
    "tags": []
   },
   "outputs": [],
   "source": [
    "s = \"Hello there how are you?\""
   ]
  },
  {
   "cell_type": "code",
   "execution_count": 32,
   "metadata": {
    "cell_id": "69d2b933606c4e4b84d87b0ed0e241b7",
    "deepnote_cell_height": 118.1875,
    "deepnote_cell_type": "code",
    "deepnote_output_heights": [
     21.1875
    ],
    "deepnote_to_be_reexecuted": false,
    "execution_millis": 7,
    "execution_start": 1649882222466,
    "source_hash": "36ca7aa8",
    "tags": []
   },
   "outputs": [
    {
     "data": {
      "text/plain": [
       "'ello'"
      ]
     },
     "execution_count": 32,
     "metadata": {},
     "output_type": "execute_result"
    }
   ],
   "source": [
    "s[1:5]"
   ]
  },
  {
   "cell_type": "code",
   "execution_count": 33,
   "metadata": {
    "cell_id": "32f93689436c4306bcc6794a451a55b3",
    "deepnote_cell_height": 118.1875,
    "deepnote_cell_type": "code",
    "deepnote_output_heights": [
     21.1875
    ],
    "deepnote_to_be_reexecuted": false,
    "execution_millis": 5,
    "execution_start": 1649882233818,
    "source_hash": "56afa954",
    "tags": []
   },
   "outputs": [
    {
     "data": {
      "text/plain": [
       "'Hloteehwaeyu'"
      ]
     },
     "execution_count": 33,
     "metadata": {},
     "output_type": "execute_result"
    }
   ],
   "source": [
    "s[::2]"
   ]
  },
  {
   "cell_type": "markdown",
   "metadata": {
    "cell_id": "5eda6d5394a945c8aeb687cdd54526dc",
    "deepnote_cell_height": 217.984375,
    "deepnote_cell_type": "markdown",
    "tags": []
   },
   "source": [
    "## Function practice\n",
    "\n",
    "* Write a function `f(s)` which takes as input a string of the form \"????-04-??\" and returns \"April\", a string of the form \"????-05-??\" and returns \"May\", and for all other input strings returns \"Neither\".  (Hint.  First check if the length of the string is incorrect.  Try to make your code *DRY*.)\n",
    "* Apply this function `f` to every entry in the \"Release Date\" column using `map`.\n",
    "* Put the resulting pandas Series in a new column called \"SpringMonth\".  This is an example of *Feature Engineering*."
   ]
  },
  {
   "cell_type": "code",
   "execution_count": 34,
   "metadata": {
    "cell_id": "9c8020bad8fa418baf7c10970a0af6c0",
    "deepnote_cell_height": 243,
    "deepnote_cell_type": "code",
    "deepnote_to_be_reexecuted": false,
    "execution_millis": 0,
    "execution_start": 1649882763130,
    "source_hash": "8678045",
    "tags": []
   },
   "outputs": [],
   "source": [
    "def f(s):\n",
    "    sub = s[4:8]\n",
    "    if len(s) != 10:\n",
    "        return \"Neither\"\n",
    "    elif sub == \"-04-\":\n",
    "        return \"April\"\n",
    "    elif sub == \"-05-\":\n",
    "        return \"May\"\n",
    "    else:\n",
    "        return \"Neither\""
   ]
  },
  {
   "cell_type": "code",
   "execution_count": 35,
   "metadata": {
    "cell_id": "0a099f64b4304a1e8b8a2dd0894610ff",
    "deepnote_cell_height": 118.1875,
    "deepnote_cell_type": "code",
    "deepnote_output_heights": [
     21.1875
    ],
    "deepnote_to_be_reexecuted": false,
    "execution_millis": 6,
    "execution_start": 1649882765324,
    "source_hash": "5c8edc5d",
    "tags": []
   },
   "outputs": [
    {
     "data": {
      "text/plain": [
       "'April'"
      ]
     },
     "execution_count": 35,
     "metadata": {},
     "output_type": "execute_result"
    }
   ],
   "source": [
    "f(\"2022-04-13\")"
   ]
  },
  {
   "cell_type": "code",
   "execution_count": 36,
   "metadata": {
    "cell_id": "629e67ca9d8e4e23adb6bf6722c49f24",
    "deepnote_cell_height": 329.34375,
    "deepnote_cell_type": "code",
    "deepnote_output_heights": [
     232.34375
    ],
    "deepnote_to_be_reexecuted": false,
    "execution_millis": 472,
    "execution_start": 1649882800523,
    "source_hash": "f6179e8a",
    "tags": []
   },
   "outputs": [
    {
     "data": {
      "text/plain": [
       "0       Neither\n",
       "1       Neither\n",
       "2           May\n",
       "3       Neither\n",
       "4       Neither\n",
       "         ...   \n",
       "1551    Neither\n",
       "1552    Neither\n",
       "1553    Neither\n",
       "1554    Neither\n",
       "1555    Neither\n",
       "Name: Release Date, Length: 1556, dtype: object"
      ]
     },
     "execution_count": 36,
     "metadata": {},
     "output_type": "execute_result"
    }
   ],
   "source": [
    "df[\"Release Date\"].map(f)"
   ]
  },
  {
   "cell_type": "markdown",
   "metadata": {},
   "source": [
    "Creating a new column like this is what's called *feature engineering*.  The hope is that the new column will be easier to work with.  The new column appears all the way at the right of the DataFrame."
   ]
  },
  {
   "cell_type": "code",
   "execution_count": 40,
   "metadata": {
    "cell_id": "fd4cf1817eb447c3b5176bcf014fcc59",
    "deepnote_cell_height": 81,
    "deepnote_cell_type": "code",
    "deepnote_to_be_reexecuted": false,
    "execution_millis": 1,
    "execution_start": 1649882834364,
    "source_hash": "677260b",
    "tags": []
   },
   "outputs": [],
   "source": [
    "df[\"SpringMonth\"] = df[\"Release Date\"].map(f)"
   ]
  },
  {
   "cell_type": "code",
   "execution_count": 41,
   "metadata": {
    "cell_id": "c7fc4e62cc114d01a33d3ab2eb2342b0",
    "deepnote_cell_height": 600,
    "deepnote_cell_type": "code",
    "deepnote_to_be_reexecuted": false,
    "execution_millis": 110,
    "execution_start": 1649882836281,
    "source_hash": "f804c160",
    "tags": []
   },
   "outputs": [
    {
     "data": {
      "text/html": [
       "<div>\n",
       "<style scoped>\n",
       "    .dataframe tbody tr th:only-of-type {\n",
       "        vertical-align: middle;\n",
       "    }\n",
       "\n",
       "    .dataframe tbody tr th {\n",
       "        vertical-align: top;\n",
       "    }\n",
       "\n",
       "    .dataframe thead th {\n",
       "        text-align: right;\n",
       "    }\n",
       "</style>\n",
       "<table border=\"1\" class=\"dataframe\">\n",
       "  <thead>\n",
       "    <tr style=\"text-align: right;\">\n",
       "      <th></th>\n",
       "      <th>Index</th>\n",
       "      <th>Highest Charting Position</th>\n",
       "      <th>Number of Times Charted</th>\n",
       "      <th>Week of Highest Charting</th>\n",
       "      <th>Song Name</th>\n",
       "      <th>Streams</th>\n",
       "      <th>Artist</th>\n",
       "      <th>Artist Followers</th>\n",
       "      <th>Song ID</th>\n",
       "      <th>Genre</th>\n",
       "      <th>...</th>\n",
       "      <th>Energy</th>\n",
       "      <th>Loudness</th>\n",
       "      <th>Speechiness</th>\n",
       "      <th>Acousticness</th>\n",
       "      <th>Liveness</th>\n",
       "      <th>Tempo</th>\n",
       "      <th>Duration (ms)</th>\n",
       "      <th>Valence</th>\n",
       "      <th>Chord</th>\n",
       "      <th>SpringMonth</th>\n",
       "    </tr>\n",
       "  </thead>\n",
       "  <tbody>\n",
       "    <tr>\n",
       "      <th>0</th>\n",
       "      <td>1</td>\n",
       "      <td>1</td>\n",
       "      <td>8</td>\n",
       "      <td>2021-07-23--2021-07-30</td>\n",
       "      <td>Beggin'</td>\n",
       "      <td>48,633,449</td>\n",
       "      <td>Måneskin</td>\n",
       "      <td>3377762</td>\n",
       "      <td>3Wrjm47oTz2sjIgck11l5e</td>\n",
       "      <td>['indie rock italiano', 'italian pop']</td>\n",
       "      <td>...</td>\n",
       "      <td>0.8</td>\n",
       "      <td>-4.808</td>\n",
       "      <td>0.0504</td>\n",
       "      <td>0.127</td>\n",
       "      <td>0.359</td>\n",
       "      <td>134.002</td>\n",
       "      <td>211560</td>\n",
       "      <td>0.589</td>\n",
       "      <td>B</td>\n",
       "      <td>Neither</td>\n",
       "    </tr>\n",
       "    <tr>\n",
       "      <th>1</th>\n",
       "      <td>2</td>\n",
       "      <td>2</td>\n",
       "      <td>3</td>\n",
       "      <td>2021-07-23--2021-07-30</td>\n",
       "      <td>STAY (with Justin Bieber)</td>\n",
       "      <td>47,248,719</td>\n",
       "      <td>The Kid LAROI</td>\n",
       "      <td>2230022</td>\n",
       "      <td>5HCyWlXZPP0y6Gqq8TgA20</td>\n",
       "      <td>['australian hip hop']</td>\n",
       "      <td>...</td>\n",
       "      <td>0.764</td>\n",
       "      <td>-5.484</td>\n",
       "      <td>0.0483</td>\n",
       "      <td>0.0383</td>\n",
       "      <td>0.103</td>\n",
       "      <td>169.928</td>\n",
       "      <td>141806</td>\n",
       "      <td>0.478</td>\n",
       "      <td>C#/Db</td>\n",
       "      <td>Neither</td>\n",
       "    </tr>\n",
       "    <tr>\n",
       "      <th>2</th>\n",
       "      <td>3</td>\n",
       "      <td>1</td>\n",
       "      <td>11</td>\n",
       "      <td>2021-06-25--2021-07-02</td>\n",
       "      <td>good 4 u</td>\n",
       "      <td>40,162,559</td>\n",
       "      <td>Olivia Rodrigo</td>\n",
       "      <td>6266514</td>\n",
       "      <td>4ZtFanR9U6ndgddUvNcjcG</td>\n",
       "      <td>['pop']</td>\n",
       "      <td>...</td>\n",
       "      <td>0.664</td>\n",
       "      <td>-5.044</td>\n",
       "      <td>0.154</td>\n",
       "      <td>0.335</td>\n",
       "      <td>0.0849</td>\n",
       "      <td>166.928</td>\n",
       "      <td>178147</td>\n",
       "      <td>0.688</td>\n",
       "      <td>A</td>\n",
       "      <td>May</td>\n",
       "    </tr>\n",
       "    <tr>\n",
       "      <th>3</th>\n",
       "      <td>4</td>\n",
       "      <td>3</td>\n",
       "      <td>5</td>\n",
       "      <td>2021-07-02--2021-07-09</td>\n",
       "      <td>Bad Habits</td>\n",
       "      <td>37,799,456</td>\n",
       "      <td>Ed Sheeran</td>\n",
       "      <td>83293380</td>\n",
       "      <td>6PQ88X9TkUIAUIZJHW2upE</td>\n",
       "      <td>['pop', 'uk pop']</td>\n",
       "      <td>...</td>\n",
       "      <td>0.897</td>\n",
       "      <td>-3.712</td>\n",
       "      <td>0.0348</td>\n",
       "      <td>0.0469</td>\n",
       "      <td>0.364</td>\n",
       "      <td>126.026</td>\n",
       "      <td>231041</td>\n",
       "      <td>0.591</td>\n",
       "      <td>B</td>\n",
       "      <td>Neither</td>\n",
       "    </tr>\n",
       "    <tr>\n",
       "      <th>4</th>\n",
       "      <td>5</td>\n",
       "      <td>5</td>\n",
       "      <td>1</td>\n",
       "      <td>2021-07-23--2021-07-30</td>\n",
       "      <td>INDUSTRY BABY (feat. Jack Harlow)</td>\n",
       "      <td>33,948,454</td>\n",
       "      <td>Lil Nas X</td>\n",
       "      <td>5473565</td>\n",
       "      <td>27NovPIUIRrOZoCHxABJwK</td>\n",
       "      <td>['lgbtq+ hip hop', 'pop rap']</td>\n",
       "      <td>...</td>\n",
       "      <td>0.704</td>\n",
       "      <td>-7.409</td>\n",
       "      <td>0.0615</td>\n",
       "      <td>0.0203</td>\n",
       "      <td>0.0501</td>\n",
       "      <td>149.995</td>\n",
       "      <td>212000</td>\n",
       "      <td>0.894</td>\n",
       "      <td>D#/Eb</td>\n",
       "      <td>Neither</td>\n",
       "    </tr>\n",
       "    <tr>\n",
       "      <th>...</th>\n",
       "      <td>...</td>\n",
       "      <td>...</td>\n",
       "      <td>...</td>\n",
       "      <td>...</td>\n",
       "      <td>...</td>\n",
       "      <td>...</td>\n",
       "      <td>...</td>\n",
       "      <td>...</td>\n",
       "      <td>...</td>\n",
       "      <td>...</td>\n",
       "      <td>...</td>\n",
       "      <td>...</td>\n",
       "      <td>...</td>\n",
       "      <td>...</td>\n",
       "      <td>...</td>\n",
       "      <td>...</td>\n",
       "      <td>...</td>\n",
       "      <td>...</td>\n",
       "      <td>...</td>\n",
       "      <td>...</td>\n",
       "      <td>...</td>\n",
       "    </tr>\n",
       "    <tr>\n",
       "      <th>1551</th>\n",
       "      <td>1552</td>\n",
       "      <td>195</td>\n",
       "      <td>1</td>\n",
       "      <td>2019-12-27--2020-01-03</td>\n",
       "      <td>New Rules</td>\n",
       "      <td>4,630,675</td>\n",
       "      <td>Dua Lipa</td>\n",
       "      <td>27167675</td>\n",
       "      <td>2ekn2ttSfGqwhhate0LSR0</td>\n",
       "      <td>['dance pop', 'pop', 'uk pop']</td>\n",
       "      <td>...</td>\n",
       "      <td>0.7</td>\n",
       "      <td>-6.021</td>\n",
       "      <td>0.0694</td>\n",
       "      <td>0.00261</td>\n",
       "      <td>0.153</td>\n",
       "      <td>116.073</td>\n",
       "      <td>209320</td>\n",
       "      <td>0.608</td>\n",
       "      <td>A</td>\n",
       "      <td>Neither</td>\n",
       "    </tr>\n",
       "    <tr>\n",
       "      <th>1552</th>\n",
       "      <td>1553</td>\n",
       "      <td>196</td>\n",
       "      <td>1</td>\n",
       "      <td>2019-12-27--2020-01-03</td>\n",
       "      <td>Cheirosa - Ao Vivo</td>\n",
       "      <td>4,623,030</td>\n",
       "      <td>Jorge &amp; Mateus</td>\n",
       "      <td>15019109</td>\n",
       "      <td>2PWjKmjyTZeDpmOUa3a5da</td>\n",
       "      <td>['sertanejo', 'sertanejo universitario']</td>\n",
       "      <td>...</td>\n",
       "      <td>0.87</td>\n",
       "      <td>-3.123</td>\n",
       "      <td>0.0851</td>\n",
       "      <td>0.24</td>\n",
       "      <td>0.333</td>\n",
       "      <td>152.37</td>\n",
       "      <td>181930</td>\n",
       "      <td>0.714</td>\n",
       "      <td>B</td>\n",
       "      <td>Neither</td>\n",
       "    </tr>\n",
       "    <tr>\n",
       "      <th>1553</th>\n",
       "      <td>1554</td>\n",
       "      <td>197</td>\n",
       "      <td>1</td>\n",
       "      <td>2019-12-27--2020-01-03</td>\n",
       "      <td>Havana (feat. Young Thug)</td>\n",
       "      <td>4,620,876</td>\n",
       "      <td>Camila Cabello</td>\n",
       "      <td>22698747</td>\n",
       "      <td>1rfofaqEpACxVEHIZBJe6W</td>\n",
       "      <td>['dance pop', 'electropop', 'pop', 'post-teen ...</td>\n",
       "      <td>...</td>\n",
       "      <td>0.523</td>\n",
       "      <td>-4.333</td>\n",
       "      <td>0.03</td>\n",
       "      <td>0.184</td>\n",
       "      <td>0.132</td>\n",
       "      <td>104.988</td>\n",
       "      <td>217307</td>\n",
       "      <td>0.394</td>\n",
       "      <td>D</td>\n",
       "      <td>Neither</td>\n",
       "    </tr>\n",
       "    <tr>\n",
       "      <th>1554</th>\n",
       "      <td>1555</td>\n",
       "      <td>198</td>\n",
       "      <td>1</td>\n",
       "      <td>2019-12-27--2020-01-03</td>\n",
       "      <td>Surtada - Remix Brega Funk</td>\n",
       "      <td>4,607,385</td>\n",
       "      <td>Dadá Boladão, Tati Zaqui, OIK</td>\n",
       "      <td>208630</td>\n",
       "      <td>5F8ffc8KWKNawllr5WsW0r</td>\n",
       "      <td>['brega funk', 'funk carioca']</td>\n",
       "      <td>...</td>\n",
       "      <td>0.55</td>\n",
       "      <td>-7.026</td>\n",
       "      <td>0.0587</td>\n",
       "      <td>0.249</td>\n",
       "      <td>0.182</td>\n",
       "      <td>154.064</td>\n",
       "      <td>152784</td>\n",
       "      <td>0.881</td>\n",
       "      <td>F</td>\n",
       "      <td>Neither</td>\n",
       "    </tr>\n",
       "    <tr>\n",
       "      <th>1555</th>\n",
       "      <td>1556</td>\n",
       "      <td>199</td>\n",
       "      <td>1</td>\n",
       "      <td>2019-12-27--2020-01-03</td>\n",
       "      <td>Lover (Remix) [feat. Shawn Mendes]</td>\n",
       "      <td>4,595,450</td>\n",
       "      <td>Taylor Swift</td>\n",
       "      <td>42227614</td>\n",
       "      <td>3i9UVldZOE0aD0JnyfAZZ0</td>\n",
       "      <td>['pop', 'post-teen pop']</td>\n",
       "      <td>...</td>\n",
       "      <td>0.603</td>\n",
       "      <td>-7.176</td>\n",
       "      <td>0.064</td>\n",
       "      <td>0.433</td>\n",
       "      <td>0.0862</td>\n",
       "      <td>205.272</td>\n",
       "      <td>221307</td>\n",
       "      <td>0.422</td>\n",
       "      <td>G</td>\n",
       "      <td>Neither</td>\n",
       "    </tr>\n",
       "  </tbody>\n",
       "</table>\n",
       "<p>1556 rows × 24 columns</p>\n",
       "</div>"
      ],
      "text/plain": [
       "      Index  Highest Charting Position  Number of Times Charted  \\\n",
       "0         1                          1                        8   \n",
       "1         2                          2                        3   \n",
       "2         3                          1                       11   \n",
       "3         4                          3                        5   \n",
       "4         5                          5                        1   \n",
       "...     ...                        ...                      ...   \n",
       "1551   1552                        195                        1   \n",
       "1552   1553                        196                        1   \n",
       "1553   1554                        197                        1   \n",
       "1554   1555                        198                        1   \n",
       "1555   1556                        199                        1   \n",
       "\n",
       "     Week of Highest Charting                           Song Name     Streams  \\\n",
       "0      2021-07-23--2021-07-30                             Beggin'  48,633,449   \n",
       "1      2021-07-23--2021-07-30           STAY (with Justin Bieber)  47,248,719   \n",
       "2      2021-06-25--2021-07-02                            good 4 u  40,162,559   \n",
       "3      2021-07-02--2021-07-09                          Bad Habits  37,799,456   \n",
       "4      2021-07-23--2021-07-30   INDUSTRY BABY (feat. Jack Harlow)  33,948,454   \n",
       "...                       ...                                 ...         ...   \n",
       "1551   2019-12-27--2020-01-03                           New Rules   4,630,675   \n",
       "1552   2019-12-27--2020-01-03                  Cheirosa - Ao Vivo   4,623,030   \n",
       "1553   2019-12-27--2020-01-03           Havana (feat. Young Thug)   4,620,876   \n",
       "1554   2019-12-27--2020-01-03          Surtada - Remix Brega Funk   4,607,385   \n",
       "1555   2019-12-27--2020-01-03  Lover (Remix) [feat. Shawn Mendes]   4,595,450   \n",
       "\n",
       "                             Artist Artist Followers                 Song ID  \\\n",
       "0                          Måneskin          3377762  3Wrjm47oTz2sjIgck11l5e   \n",
       "1                     The Kid LAROI          2230022  5HCyWlXZPP0y6Gqq8TgA20   \n",
       "2                    Olivia Rodrigo          6266514  4ZtFanR9U6ndgddUvNcjcG   \n",
       "3                        Ed Sheeran         83293380  6PQ88X9TkUIAUIZJHW2upE   \n",
       "4                         Lil Nas X          5473565  27NovPIUIRrOZoCHxABJwK   \n",
       "...                             ...              ...                     ...   \n",
       "1551                       Dua Lipa         27167675  2ekn2ttSfGqwhhate0LSR0   \n",
       "1552                 Jorge & Mateus         15019109  2PWjKmjyTZeDpmOUa3a5da   \n",
       "1553                 Camila Cabello         22698747  1rfofaqEpACxVEHIZBJe6W   \n",
       "1554  Dadá Boladão, Tati Zaqui, OIK           208630  5F8ffc8KWKNawllr5WsW0r   \n",
       "1555                   Taylor Swift         42227614  3i9UVldZOE0aD0JnyfAZZ0   \n",
       "\n",
       "                                                  Genre  ... Energy Loudness  \\\n",
       "0                ['indie rock italiano', 'italian pop']  ...    0.8   -4.808   \n",
       "1                                ['australian hip hop']  ...  0.764   -5.484   \n",
       "2                                               ['pop']  ...  0.664   -5.044   \n",
       "3                                     ['pop', 'uk pop']  ...  0.897   -3.712   \n",
       "4                         ['lgbtq+ hip hop', 'pop rap']  ...  0.704   -7.409   \n",
       "...                                                 ...  ...    ...      ...   \n",
       "1551                     ['dance pop', 'pop', 'uk pop']  ...    0.7   -6.021   \n",
       "1552           ['sertanejo', 'sertanejo universitario']  ...   0.87   -3.123   \n",
       "1553  ['dance pop', 'electropop', 'pop', 'post-teen ...  ...  0.523   -4.333   \n",
       "1554                     ['brega funk', 'funk carioca']  ...   0.55   -7.026   \n",
       "1555                           ['pop', 'post-teen pop']  ...  0.603   -7.176   \n",
       "\n",
       "     Speechiness Acousticness Liveness    Tempo Duration (ms) Valence  Chord  \\\n",
       "0         0.0504        0.127    0.359  134.002        211560   0.589      B   \n",
       "1         0.0483       0.0383    0.103  169.928        141806   0.478  C#/Db   \n",
       "2          0.154        0.335   0.0849  166.928        178147   0.688      A   \n",
       "3         0.0348       0.0469    0.364  126.026        231041   0.591      B   \n",
       "4         0.0615       0.0203   0.0501  149.995        212000   0.894  D#/Eb   \n",
       "...          ...          ...      ...      ...           ...     ...    ...   \n",
       "1551      0.0694      0.00261    0.153  116.073        209320   0.608      A   \n",
       "1552      0.0851         0.24    0.333   152.37        181930   0.714      B   \n",
       "1553        0.03        0.184    0.132  104.988        217307   0.394      D   \n",
       "1554      0.0587        0.249    0.182  154.064        152784   0.881      F   \n",
       "1555       0.064        0.433   0.0862  205.272        221307   0.422      G   \n",
       "\n",
       "     SpringMonth  \n",
       "0        Neither  \n",
       "1        Neither  \n",
       "2            May  \n",
       "3        Neither  \n",
       "4        Neither  \n",
       "...          ...  \n",
       "1551     Neither  \n",
       "1552     Neither  \n",
       "1553     Neither  \n",
       "1554     Neither  \n",
       "1555     Neither  \n",
       "\n",
       "[1556 rows x 24 columns]"
      ]
     },
     "execution_count": 41,
     "metadata": {},
     "output_type": "execute_result"
    }
   ],
   "source": [
    "df"
   ]
  },
  {
   "cell_type": "markdown",
   "metadata": {
    "cell_id": "a3b57e4c8ad343d9bb81b6c2603588ba",
    "deepnote_cell_height": 173.1875,
    "deepnote_cell_type": "markdown",
    "tags": []
   },
   "source": [
    "## Release months\n",
    "\n",
    "* Import the Spotify dataset again, this time specifying the missing values using the `na_values` keyword argument.\n",
    "* Drop the rows which have missing data.  A quick way to do this is using `df = df.dropna()`.\n",
    "* Check: `df` should have 1545 rows and 23 columns."
   ]
  },
  {
   "cell_type": "code",
   "execution_count": 43,
   "metadata": {
    "cell_id": "b756724adad04e798063f1fff8abe281",
    "deepnote_cell_height": 81,
    "deepnote_cell_type": "code",
    "deepnote_to_be_reexecuted": false,
    "execution_millis": 18,
    "execution_start": 1649882929630,
    "source_hash": "6b2531b2",
    "tags": []
   },
   "outputs": [],
   "source": [
    "df = pd.read_csv(\"../data/spotify_dataset.csv\", na_values=\" \")"
   ]
  },
  {
   "cell_type": "code",
   "execution_count": 44,
   "metadata": {
    "cell_id": "9020ebcc39404f038cb5238575344348",
    "deepnote_cell_height": 81,
    "deepnote_cell_type": "code",
    "deepnote_to_be_reexecuted": false,
    "execution_millis": 8,
    "execution_start": 1649882941650,
    "source_hash": "4314666a",
    "tags": []
   },
   "outputs": [],
   "source": [
    "df = df.dropna()"
   ]
  },
  {
   "cell_type": "code",
   "execution_count": 45,
   "metadata": {
    "cell_id": "12fbcd55b4664a838fdbe205ac795bfa",
    "deepnote_cell_height": 118.1875,
    "deepnote_cell_type": "code",
    "deepnote_output_heights": [
     21.1875
    ],
    "deepnote_to_be_reexecuted": false,
    "execution_millis": 16,
    "execution_start": 1649882951882,
    "source_hash": "14f60b8f",
    "tags": []
   },
   "outputs": [
    {
     "data": {
      "text/plain": [
       "(1545, 23)"
      ]
     },
     "execution_count": 45,
     "metadata": {},
     "output_type": "execute_result"
    }
   ],
   "source": [
    "df.shape"
   ]
  },
  {
   "cell_type": "markdown",
   "metadata": {
    "cell_id": "e3b382f109144eaeb10ebba61c62c97d",
    "deepnote_cell_height": 117.1875,
    "deepnote_cell_type": "markdown",
    "tags": []
   },
   "source": [
    "* Convert the \"Release Date\" column to datetime values, using `pd.to_datetime`.  Put the result in the same column (i.e., overwrite the current column).\n",
    "* Check: if you evaluate `df.dtypes`, you should see that the \"Release Date\" column has `dtype` as `datetime64[ns]`."
   ]
  },
  {
   "cell_type": "code",
   "execution_count": 46,
   "metadata": {
    "cell_id": "96f5f6c131b34c82af607c20a3ed336c",
    "deepnote_cell_height": 214.671875,
    "deepnote_cell_type": "code",
    "deepnote_to_be_reexecuted": false,
    "execution_millis": 46,
    "execution_start": 1649882976719,
    "source_hash": "efccb307",
    "tags": []
   },
   "outputs": [],
   "source": [
    "df[\"Release Date\"] = pd.to_datetime(df[\"Release Date\"])"
   ]
  },
  {
   "cell_type": "markdown",
   "metadata": {
    "cell_id": "6794cee448454526b3d82b707e2d30ff",
    "deepnote_cell_height": 139.59375,
    "deepnote_cell_type": "markdown",
    "tags": []
   },
   "source": [
    "* If `s` is a pandas Series with some datetime as its `dtype`, you can get the corresponding month by using the code `s.dt.month_name()`.  Use this method to insert a new column in `df` called \"Release Month\"."
   ]
  },
  {
   "cell_type": "code",
   "execution_count": 47,
   "metadata": {
    "cell_id": "f3959f8c5e9b44bb805d35b1b5b0e691",
    "deepnote_cell_height": 329.34375,
    "deepnote_cell_type": "code",
    "deepnote_output_heights": [
     232.34375
    ],
    "deepnote_to_be_reexecuted": false,
    "execution_millis": 7,
    "execution_start": 1649882994426,
    "source_hash": "9a714e3e",
    "tags": []
   },
   "outputs": [
    {
     "data": {
      "text/plain": [
       "0        December\n",
       "1            July\n",
       "2             May\n",
       "3            June\n",
       "4            July\n",
       "          ...    \n",
       "1551         June\n",
       "1552      October\n",
       "1553      January\n",
       "1554    September\n",
       "1555     November\n",
       "Name: Release Date, Length: 1545, dtype: object"
      ]
     },
     "execution_count": 47,
     "metadata": {},
     "output_type": "execute_result"
    }
   ],
   "source": [
    "df[\"Release Date\"].dt.month_name()"
   ]
  }
 ],
 "metadata": {
  "deepnote": {
   "is_reactive": false
  },
  "deepnote_execution_queue": [],
  "deepnote_notebook_id": "c9caf7b8-acac-41a5-866b-453f4844a11a",
  "kernelspec": {
   "display_name": "Python 3 (ipykernel)",
   "language": "python",
   "name": "python3"
  },
  "language_info": {
   "codemirror_mode": {
    "name": "ipython",
    "version": 3
   },
   "file_extension": ".py",
   "mimetype": "text/x-python",
   "name": "python",
   "nbconvert_exporter": "python",
   "pygments_lexer": "ipython3",
   "version": "3.7.12"
  }
 },
 "nbformat": 4,
 "nbformat_minor": 4
}
