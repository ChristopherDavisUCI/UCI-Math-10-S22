{
 "cells": [
  {
   "cell_type": "markdown",
   "metadata": {
    "cell_id": "085c5af4-bbbc-4c58-80d0-b0d1a172d716",
    "deepnote_cell_height": 294.390625,
    "deepnote_cell_type": "markdown",
    "tags": []
   },
   "source": [
    "# Week 4, Tuesday Discussion\n",
    "\n",
    "__Today__:\n",
    " - Go through practice midterm solutions\n",
    "\n",
    "__Reminders__:\n",
    " - Homework #3 due tonight\n",
    " - Midterm Thursday during discussion\n",
    "     - I have extra notecards, if you lost yours or did not get one\n",
    " "
   ]
  },
  {
   "cell_type": "markdown",
   "metadata": {
    "cell_id": "2be3d0e0568147d4b48591f356ab4449",
    "deepnote_cell_height": 349.578125,
    "deepnote_cell_type": "markdown",
    "tags": []
   },
   "source": [
    "## Question 1\n",
    "\n",
    "(a) What is an advantage of a Python tuple in comparison to a Python list? \n",
    " - A: Tuple can go in a set, while list cannot go in a set. \n",
    " - Also, a list can be changed after we create it, while tuple cannot be changed after it is made (e.g. list has `.append()` while tuple does not)\n",
    "(b) What is an advantage of `np.arange` in comparison to `range`?\n",
    " - Entries of `np.arange` do not have to be integers, while `range` can only have integers\n",
    " - `np.arange` has many more methods/functions available (e.g. taking reciprocal) and the operations are \"vectorized\" (makes computation much faster)\n",
    "(c) What will be the result of the following code?"
   ]
  },
  {
   "cell_type": "code",
   "execution_count": null,
   "metadata": {
    "cell_id": "a35407501aa54be98c8baf24dd4160d4",
    "deepnote_cell_height": 154.1875,
    "deepnote_cell_type": "code",
    "deepnote_output_heights": [
     21.1875
    ],
    "deepnote_to_be_reexecuted": false,
    "execution_millis": 2,
    "execution_start": 1650411490845,
    "is_output_hidden": false,
    "output_cleared": false,
    "source_hash": "d2647c84",
    "tags": []
   },
   "outputs": [
    {
     "data": {
      "text/plain": [
       "['Train92', 'Train133', 'Train92']"
      ]
     },
     "execution_count": 1,
     "metadata": {},
     "output_type": "execute_result"
    }
   ],
   "source": [
    "a = range(1,20,4)\n",
    "b = [2,3,2]\n",
    "[f\"Train{a[i]}{i}\" for i in b]"
   ]
  },
  {
   "cell_type": "code",
   "execution_count": null,
   "metadata": {
    "cell_id": "4eca98661aa34c8b8248c2237107a0f6",
    "deepnote_cell_height": 154.1875,
    "deepnote_cell_type": "code",
    "deepnote_output_heights": [
     21.1875
    ],
    "deepnote_to_be_reexecuted": false,
    "execution_millis": 45,
    "execution_start": 1650411490846,
    "source_hash": "c9d044db",
    "tags": []
   },
   "outputs": [
    {
     "data": {
      "text/plain": [
       "[1, 5, 9, 13, 17]"
      ]
     },
     "execution_count": 2,
     "metadata": {},
     "output_type": "execute_result"
    }
   ],
   "source": [
    "#Notice how this range still only goes up to 17\n",
    "a2 = range(1,21,4)\n",
    "list(a2)"
   ]
  },
  {
   "cell_type": "code",
   "execution_count": null,
   "metadata": {
    "cell_id": "e92ae41841364a878b556d5d9562469d",
    "deepnote_cell_height": 190.1875,
    "deepnote_cell_type": "code",
    "deepnote_output_heights": [
     21.1875
    ],
    "deepnote_to_be_reexecuted": false,
    "execution_millis": 8426913,
    "execution_start": 1650411490890,
    "source_hash": "fc60d21b",
    "tags": []
   },
   "outputs": [
    {
     "data": {
      "text/plain": [
       "range"
      ]
     },
     "execution_count": 3,
     "metadata": {},
     "output_type": "execute_result"
    }
   ],
   "source": [
    "r = range(10)\n",
    "my_set = {r}\n",
    "my_list = [r]\n",
    "type(my_set)\n",
    "type(my_list[0])"
   ]
  },
  {
   "cell_type": "markdown",
   "metadata": {
    "cell_id": "9e09965078a541ce90bbe733c069b00e",
    "deepnote_cell_height": 147.59375,
    "deepnote_cell_type": "markdown",
    "tags": []
   },
   "source": [
    "(d) What is an example of a similarity between a pandas Series and a Python dictionary?\n",
    " - Elements of both are accessed using square brackets `[]` and calling via labels/keys (some examples below, after part (e))\n",
    "\n",
    "(e) How can the following error be corrected?"
   ]
  },
  {
   "cell_type": "code",
   "execution_count": null,
   "metadata": {
    "cell_id": "53e05821a8b948659c2f28934337755a",
    "deepnote_cell_height": 74.796875,
    "deepnote_cell_type": "code",
    "deepnote_to_be_reexecuted": false,
    "execution_millis": 631,
    "execution_start": 1650411490891,
    "is_code_hidden": true,
    "source_hash": "bbd5ce00",
    "tags": []
   },
   "outputs": [],
   "source": [
    "import pandas as pd\n",
    "df = pd.read_csv(\"../data/spotify_dataset.csv\")\n",
    "df = df[df.Energy.isin([\" \"]) == False]"
   ]
  },
  {
   "cell_type": "code",
   "execution_count": null,
   "metadata": {
    "cell_id": "e29fba515f2f44998babfcf607cb2138",
    "deepnote_cell_height": 118.1875,
    "deepnote_cell_type": "code",
    "deepnote_output_heights": [
     21.1875
    ],
    "deepnote_to_be_reexecuted": false,
    "execution_millis": 589,
    "execution_start": 1650411490934,
    "source_hash": "4c45c2eb",
    "tags": []
   },
   "outputs": [
    {
     "data": {
      "text/plain": [
       "str"
      ]
     },
     "execution_count": 5,
     "metadata": {},
     "output_type": "execute_result"
    }
   ],
   "source": [
    "type(df.loc[0,\"Energy\"])"
   ]
  },
  {
   "cell_type": "code",
   "execution_count": null,
   "metadata": {
    "cell_id": "b905d199914e4f459433948a2704407b",
    "deepnote_cell_height": 111.796875,
    "deepnote_cell_type": "code",
    "deepnote_to_be_reexecuted": false,
    "execution_millis": 3,
    "execution_start": 1650411490935,
    "is_code_hidden": false,
    "is_output_hidden": true,
    "source_hash": "4678729f",
    "tags": []
   },
   "outputs": [],
   "source": [
    "df.Energy = pd.to_numeric(df.Energy) #with the correction"
   ]
  },
  {
   "cell_type": "code",
   "execution_count": null,
   "metadata": {
    "cell_id": "5b6ed220f39147fda6260dbecdf26315",
    "deepnote_cell_height": 118.1875,
    "deepnote_cell_type": "code",
    "deepnote_output_heights": [
     21.1875
    ],
    "deepnote_to_be_reexecuted": false,
    "execution_millis": 1,
    "execution_start": 1650411490964,
    "source_hash": "4c45c2eb",
    "tags": []
   },
   "outputs": [
    {
     "data": {
      "text/plain": [
       "numpy.float64"
      ]
     },
     "execution_count": 7,
     "metadata": {},
     "output_type": "execute_result"
    }
   ],
   "source": [
    "type(df.loc[0,\"Energy\"])"
   ]
  },
  {
   "cell_type": "code",
   "execution_count": null,
   "metadata": {
    "cell_id": "7f7557db33ed47c794b8a04deefba8b2",
    "deepnote_cell_height": 118.1875,
    "deepnote_cell_type": "code",
    "deepnote_output_heights": [
     21.1875
    ],
    "deepnote_to_be_reexecuted": false,
    "execution_millis": 504,
    "execution_start": 1650411491021,
    "is_output_hidden": false,
    "source_hash": "d60ed638",
    "tags": []
   },
   "outputs": [
    {
     "data": {
      "text/plain": [
       "0.633495145631068"
      ]
     },
     "execution_count": 8,
     "metadata": {},
     "output_type": "execute_result"
    }
   ],
   "source": [
    "df.Energy.mean()"
   ]
  },
  {
   "cell_type": "code",
   "execution_count": null,
   "metadata": {
    "cell_id": "fa7832ecfbd2492fab39c1caa1953dc9",
    "deepnote_cell_height": 118.1875,
    "deepnote_cell_type": "code",
    "deepnote_output_heights": [
     21.1875
    ],
    "deepnote_to_be_reexecuted": false,
    "execution_millis": 227,
    "execution_start": 1650411654749,
    "source_hash": "1cc0f2d8",
    "tags": []
   },
   "outputs": [
    {
     "data": {
      "text/plain": [
       "pandas.core.series.Series"
      ]
     },
     "execution_count": 21,
     "metadata": {},
     "output_type": "execute_result"
    }
   ],
   "source": [
    "type(df[\"Energy\"])"
   ]
  },
  {
   "cell_type": "code",
   "execution_count": null,
   "metadata": {
    "cell_id": "2624d89a0cc9486382edf863bc549a6d",
    "deepnote_cell_height": 118.1875,
    "deepnote_cell_type": "code",
    "deepnote_output_heights": [
     21.1875
    ],
    "deepnote_to_be_reexecuted": false,
    "execution_millis": 503,
    "execution_start": 1650411491022,
    "source_hash": "3446c061",
    "tags": []
   },
   "outputs": [
    {
     "data": {
      "text/plain": [
       "0.8"
      ]
     },
     "execution_count": 9,
     "metadata": {},
     "output_type": "execute_result"
    }
   ],
   "source": [
    "df[\"Energy\"][0]"
   ]
  },
  {
   "cell_type": "code",
   "execution_count": null,
   "metadata": {
    "cell_id": "db54594799814a8b84a05be6c213cc54",
    "deepnote_cell_height": 136.1875,
    "deepnote_cell_type": "code",
    "deepnote_output_heights": [
     21.1875
    ],
    "deepnote_to_be_reexecuted": false,
    "execution_millis": 8223480,
    "execution_start": 1650411491065,
    "source_hash": "50bdea62",
    "tags": []
   },
   "outputs": [
    {
     "data": {
      "text/plain": [
       "5"
      ]
     },
     "execution_count": 10,
     "metadata": {},
     "output_type": "execute_result"
    }
   ],
   "source": [
    "test = {\"Energy\":5}\n",
    "test[\"Energy\"]"
   ]
  },
  {
   "cell_type": "markdown",
   "metadata": {
    "cell_id": "fb454763269a4eda97d2875af569b70f",
    "deepnote_cell_height": 130.796875,
    "deepnote_cell_type": "markdown",
    "tags": []
   },
   "source": [
    "## Question 2\n",
    "Assume `df` is a pandas DataFrame, and that its \"day\" column has strings representing dates. Write code to extract the sub-DataFrame which contains only those rows corresponding to Tuesday or Wednesday."
   ]
  },
  {
   "cell_type": "code",
   "execution_count": null,
   "metadata": {
    "cell_id": "62f5824221914b3cbf927fb06ed53817",
    "deepnote_cell_height": 726,
    "deepnote_cell_type": "code",
    "deepnote_to_be_reexecuted": false,
    "execution_millis": 415,
    "execution_start": 1650411491113,
    "source_hash": "5d21a8ef",
    "tags": []
   },
   "outputs": [
    {
     "data": {
      "application/vnd.deepnote.dataframe.v3+json": {
       "column_count": 24,
       "columns": [
        {
         "dtype": "int64",
         "name": "Index",
         "stats": {
          "histogram": [
           {
            "bin_end": 161,
            "bin_start": 6,
            "count": 23
           },
           {
            "bin_end": 316,
            "bin_start": 161,
            "count": 10
           },
           {
            "bin_end": 471,
            "bin_start": 316,
            "count": 13
           },
           {
            "bin_end": 626,
            "bin_start": 471,
            "count": 10
           },
           {
            "bin_end": 781,
            "bin_start": 626,
            "count": 20
           },
           {
            "bin_end": 936,
            "bin_start": 781,
            "count": 13
           },
           {
            "bin_end": 1091,
            "bin_start": 936,
            "count": 10
           },
           {
            "bin_end": 1246,
            "bin_start": 1091,
            "count": 9
           },
           {
            "bin_end": 1401,
            "bin_start": 1246,
            "count": 5
           },
           {
            "bin_end": 1556,
            "bin_start": 1401,
            "count": 8
           }
          ],
          "max": "1556",
          "min": "6",
          "nan_count": 0,
          "unique_count": 121
         }
        },
        {
         "dtype": "int64",
         "name": "Highest Charting Position",
         "stats": {
          "histogram": [
           {
            "bin_end": 20.8,
            "bin_start": 1,
            "count": 14
           },
           {
            "bin_end": 40.6,
            "bin_start": 20.8,
            "count": 10
           },
           {
            "bin_end": 60.400000000000006,
            "bin_start": 40.6,
            "count": 9
           },
           {
            "bin_end": 80.2,
            "bin_start": 60.400000000000006,
            "count": 18
           },
           {
            "bin_end": 100,
            "bin_start": 80.2,
            "count": 7
           },
           {
            "bin_end": 119.80000000000001,
            "bin_start": 100,
            "count": 11
           },
           {
            "bin_end": 139.6,
            "bin_start": 119.80000000000001,
            "count": 14
           },
           {
            "bin_end": 159.4,
            "bin_start": 139.6,
            "count": 19
           },
           {
            "bin_end": 179.20000000000002,
            "bin_start": 159.4,
            "count": 10
           },
           {
            "bin_end": 199,
            "bin_start": 179.20000000000002,
            "count": 9
           }
          ],
          "max": "199",
          "min": "1",
          "nan_count": 0,
          "unique_count": 93
         }
        },
        {
         "dtype": "int64",
         "name": "Number of Times Charted",
         "stats": {
          "histogram": [
           {
            "bin_end": 5.5,
            "bin_start": 1,
            "count": 62
           },
           {
            "bin_end": 10,
            "bin_start": 5.5,
            "count": 18
           },
           {
            "bin_end": 14.5,
            "bin_start": 10,
            "count": 13
           },
           {
            "bin_end": 19,
            "bin_start": 14.5,
            "count": 9
           },
           {
            "bin_end": 23.5,
            "bin_start": 19,
            "count": 8
           },
           {
            "bin_end": 28,
            "bin_start": 23.5,
            "count": 3
           },
           {
            "bin_end": 32.5,
            "bin_start": 28,
            "count": 3
           },
           {
            "bin_end": 37,
            "bin_start": 32.5,
            "count": 1
           },
           {
            "bin_end": 41.5,
            "bin_start": 37,
            "count": 3
           },
           {
            "bin_end": 46,
            "bin_start": 41.5,
            "count": 1
           }
          ],
          "max": "46",
          "min": "1",
          "nan_count": 0,
          "unique_count": 30
         }
        },
        {
         "dtype": "object",
         "name": "Week of Highest Charting",
         "stats": {
          "categories": [
           {
            "count": 15,
            "name": "2020-12-18--2020-12-25"
           },
           {
            "count": 8,
            "name": "2021-07-23--2021-07-30"
           },
           {
            "count": 98,
            "name": "53 others"
           }
          ],
          "nan_count": 0,
          "unique_count": 55
         }
        },
        {
         "dtype": "object",
         "name": "Song Name",
         "stats": {
          "categories": [
           {
            "count": 1,
            "name": "MONTERO (Call Me By Your Name)"
           },
           {
            "count": 1,
            "name": "Astronaut In The Ocean"
           },
           {
            "count": 119,
            "name": "119 others"
           }
          ],
          "nan_count": 0,
          "unique_count": 121
         }
        },
        {
         "dtype": "object",
         "name": "Streams",
         "stats": {
          "categories": [
           {
            "count": 1,
            "name": "30,071,134"
           },
           {
            "count": 1,
            "name": "14,174,752"
           },
           {
            "count": 119,
            "name": "119 others"
           }
          ],
          "nan_count": 0,
          "unique_count": 121
         }
        },
        {
         "dtype": "object",
         "name": "Artist",
         "stats": {
          "categories": [
           {
            "count": 4,
            "name": "J. Cole"
           },
           {
            "count": 2,
            "name": "João Gomes"
           },
           {
            "count": 115,
            "name": "110 others"
           }
          ],
          "nan_count": 0,
          "unique_count": 112
         }
        },
        {
         "dtype": "object",
         "name": "Artist Followers",
         "stats": {
          "categories": [
           {
            "count": 6,
            "name": "1251372"
           },
           {
            "count": 4,
            "name": "3126961"
           },
           {
            "count": 111,
            "name": "99 others"
           }
          ],
          "nan_count": 0,
          "unique_count": 101
         }
        },
        {
         "dtype": "object",
         "name": "Song ID",
         "stats": {
          "categories": [
           {
            "count": 2,
            "name": "2MbdDtCv5LUVjYy9RuGTgC"
           },
           {
            "count": 1,
            "name": "67BtfxlNbhBmCDR2L2l8qd"
           },
           {
            "count": 118,
            "name": "118 others"
           }
          ],
          "nan_count": 0,
          "unique_count": 120
         }
        },
        {
         "dtype": "object",
         "name": "Genre",
         "stats": {
          "categories": [
           {
            "count": 13,
            "name": "[]"
           },
           {
            "count": 4,
            "name": "['argentine hip hop', 'pop venezolano', 'trap argentino', 'trap latino']"
           },
           {
            "count": 104,
            "name": "81 others"
           }
          ],
          "nan_count": 0,
          "unique_count": 83
         }
        },
        {
         "dtype": "object",
         "name": "Release Date",
         "stats": {
          "categories": [
           {
            "count": 3,
            "name": "2021-06-01"
           },
           {
            "count": 3,
            "name": "2010-10-05"
           },
           {
            "count": 115,
            "name": "100 others"
           }
          ],
          "nan_count": 0,
          "unique_count": 102
         }
        },
        {
         "dtype": "object",
         "name": "Weeks Charted",
         "stats": {
          "categories": [
           {
            "count": 4,
            "name": "2020-12-18--2020-12-25"
           },
           {
            "count": 3,
            "name": "2021-07-23--2021-07-30\n2021-07-16--2021-07-23\n2021-07-09--2021-07-16\n2021-07-02--2021-07-09\n2021-06-25--2021-07-02\n2021-06-18--2021-06-25\n2021-06-11--2021-06-18\n2021-06-04--2021-06-11\n2021-05-28--2021-06-04\n2021-05-21--2021-05-28\n2021-05-14--2021-05-21\n2021-05-07--2021-05-14\n2021-04-30--2021-05-07\n2021-04-23--2021-04-30\n2021-04-16--2021-04-23\n2021-04-09--2021-04-16\n2021-04-02--2021-04-09\n2021-03-26--2021-04-02"
           },
           {
            "count": 114,
            "name": "101 others"
           }
          ],
          "nan_count": 0,
          "unique_count": 103
         }
        },
        {
         "dtype": "object",
         "name": "Popularity",
         "stats": {
          "categories": [
           {
            "count": 7,
            "name": "83"
           },
           {
            "count": 7,
            "name": "73"
           },
           {
            "count": 107,
            "name": "41 others"
           }
          ],
          "nan_count": 0,
          "unique_count": 43
         }
        },
        {
         "dtype": "object",
         "name": "Danceability",
         "stats": {
          "categories": [
           {
            "count": 3,
            "name": "0.39"
           },
           {
            "count": 3,
            "name": "0.527"
           },
           {
            "count": 115,
            "name": "103 others"
           }
          ],
          "nan_count": 0,
          "unique_count": 105
         }
        },
        {
         "dtype": "float64",
         "name": "Energy",
         "stats": {
          "histogram": [
           {
            "bin_end": 0.21750000000000003,
            "bin_start": 0.139,
            "count": 1
           },
           {
            "bin_end": 0.29600000000000004,
            "bin_start": 0.21750000000000003,
            "count": 3
           },
           {
            "bin_end": 0.3745,
            "bin_start": 0.29600000000000004,
            "count": 4
           },
           {
            "bin_end": 0.453,
            "bin_start": 0.3745,
            "count": 9
           },
           {
            "bin_end": 0.5315000000000001,
            "bin_start": 0.453,
            "count": 11
           },
           {
            "bin_end": 0.61,
            "bin_start": 0.5315000000000001,
            "count": 12
           },
           {
            "bin_end": 0.6885,
            "bin_start": 0.61,
            "count": 23
           },
           {
            "bin_end": 0.767,
            "bin_start": 0.6885,
            "count": 23
           },
           {
            "bin_end": 0.8455,
            "bin_start": 0.767,
            "count": 20
           },
           {
            "bin_end": 0.924,
            "bin_start": 0.8455,
            "count": 15
           }
          ],
          "max": "0.924",
          "min": "0.139",
          "nan_count": 0,
          "unique_count": 105
         }
        },
        {
         "dtype": "object",
         "name": "Loudness",
         "stats": {
          "categories": [
           {
            "count": 2,
            "name": "-4.628"
           },
           {
            "count": 2,
            "name": "-5.224"
           },
           {
            "count": 117,
            "name": "117 others"
           }
          ],
          "nan_count": 0,
          "unique_count": 119
         }
        },
        {
         "dtype": "object",
         "name": "Speechiness",
         "stats": {
          "categories": [
           {
            "count": 2,
            "name": "0.232"
           },
           {
            "count": 2,
            "name": "0.0379"
           },
           {
            "count": 117,
            "name": "112 others"
           }
          ],
          "nan_count": 0,
          "unique_count": 114
         }
        },
        {
         "dtype": "object",
         "name": "Acousticness",
         "stats": {
          "categories": [
           {
            "count": 2,
            "name": "0.237"
           },
           {
            "count": 2,
            "name": "0.289"
           },
           {
            "count": 117,
            "name": "116 others"
           }
          ],
          "nan_count": 0,
          "unique_count": 118
         }
        },
        {
         "dtype": "object",
         "name": "Liveness",
         "stats": {
          "categories": [
           {
            "count": 3,
            "name": "0.112"
           },
           {
            "count": 3,
            "name": "0.185"
           },
           {
            "count": 115,
            "name": "103 others"
           }
          ],
          "nan_count": 0,
          "unique_count": 105
         }
        },
        {
         "dtype": "object",
         "name": "Tempo",
         "stats": {
          "categories": [
           {
            "count": 2,
            "name": "145.013"
           },
           {
            "count": 1,
            "name": "178.818"
           },
           {
            "count": 118,
            "name": "118 others"
           }
          ],
          "nan_count": 0,
          "unique_count": 120
         }
        },
        {
         "dtype": "object",
         "name": "Duration (ms)",
         "stats": {
          "categories": [
           {
            "count": 2,
            "name": "227478"
           },
           {
            "count": 1,
            "name": "137876"
           },
           {
            "count": 118,
            "name": "118 others"
           }
          ],
          "nan_count": 0,
          "unique_count": 120
         }
        },
        {
         "dtype": "object",
         "name": "Valence",
         "stats": {
          "categories": [
           {
            "count": 3,
            "name": "0.835"
           },
           {
            "count": 3,
            "name": "0.963"
           },
           {
            "count": 115,
            "name": "104 others"
           }
          ],
          "nan_count": 0,
          "unique_count": 106
         }
        },
        {
         "dtype": "object",
         "name": "Chord",
         "stats": {
          "categories": [
           {
            "count": 21,
            "name": "C#/Db"
           },
           {
            "count": 17,
            "name": "B"
           },
           {
            "count": 83,
            "name": "10 others"
           }
          ],
          "nan_count": 0,
          "unique_count": 12
         }
        },
        {
         "dtype": "object",
         "name": "weekday",
         "stats": {
          "categories": [
           {
            "count": 61,
            "name": "Wednesday"
           },
           {
            "count": 60,
            "name": "Tuesday"
           }
          ],
          "nan_count": 0,
          "unique_count": 2
         }
        },
        {
         "dtype": "int64",
         "name": "_deepnote_index_column"
        }
       ],
       "row_count": 121,
       "rows": [
        {
         "Acousticness": "0.297",
         "Artist": "Lil Nas X",
         "Artist Followers": "5473565",
         "Chord": "G#/Ab",
         "Danceability": "0.61",
         "Duration (ms)": "137876",
         "Energy": 0.508,
         "Genre": "['lgbtq+ hip hop', 'pop rap']",
         "Highest Charting Position": 1,
         "Index": 6,
         "Liveness": "0.384",
         "Loudness": "-6.682",
         "Number of Times Charted": 18,
         "Popularity": "97",
         "Release Date": "2021-03-31",
         "Song ID": "67BtfxlNbhBmCDR2L2l8qd",
         "Song Name": "MONTERO (Call Me By Your Name)",
         "Speechiness": "0.152",
         "Streams": "30,071,134",
         "Tempo": "178.818",
         "Valence": "0.758",
         "Week of Highest Charting": "2021-05-07--2021-05-14",
         "Weeks Charted": "2021-07-23--2021-07-30\n2021-07-16--2021-07-23\n2021-07-09--2021-07-16\n2021-07-02--2021-07-09\n2021-06-25--2021-07-02\n2021-06-18--2021-06-25\n2021-06-11--2021-06-18\n2021-06-04--2021-06-11\n2021-05-28--2021-06-04\n2021-05-21--2021-05-28\n2021-05-14--2021-05-21\n2021-05-07--2021-05-14\n2021-04-30--2021-05-07\n2021-04-23--2021-04-30\n2021-04-16--2021-04-23\n2021-04-09--2021-04-16\n2021-04-02--2021-04-09\n2021-03-26--2021-04-02",
         "_deepnote_index_column": 5,
         "weekday": "Wednesday"
        },
        {
         "Acousticness": "0.175",
         "Artist": "Masked Wolf",
         "Artist Followers": "365975",
         "Chord": "E",
         "Danceability": "0.778",
         "Duration (ms)": "132780",
         "Energy": 0.695,
         "Genre": "['australian hip hop']",
         "Highest Charting Position": 3,
         "Index": 30,
         "Liveness": "0.15",
         "Loudness": "-6.865",
         "Number of Times Charted": 28,
         "Popularity": "89",
         "Release Date": "2021-01-06",
         "Song ID": "3Ofmpyhv5UAQ70mENzB277",
         "Song Name": "Astronaut In The Ocean",
         "Speechiness": "0.0913",
         "Streams": "14,174,752",
         "Tempo": "149.996",
         "Valence": "0.472",
         "Week of Highest Charting": "2021-04-02--2021-04-09",
         "Weeks Charted": "2021-07-23--2021-07-30\n2021-07-16--2021-07-23\n2021-07-09--2021-07-16\n2021-07-02--2021-07-09\n2021-06-25--2021-07-02\n2021-06-18--2021-06-25\n2021-06-11--2021-06-18\n2021-06-04--2021-06-11\n2021-05-28--2021-06-04\n2021-05-21--2021-05-28\n2021-05-14--2021-05-21\n2021-05-07--2021-05-14\n2021-04-30--2021-05-07\n2021-04-23--2021-04-30\n2021-04-16--2021-04-23\n2021-04-09--2021-04-16\n2021-04-02--2021-04-09\n2021-03-26--2021-04-02\n2021-03-19--2021-03-26\n2021-03-12--2021-03-19\n2021-03-05--2021-03-12\n2021-02-26--2021-03-05\n2021-02-19--2021-02-26\n2021-02-12--2021-02-19\n2021-02-05--2021-02-12\n2021-01-29--2021-02-05\n2021-01-22--2021-01-29\n2021-01-15--2021-01-22",
         "_deepnote_index_column": 29,
         "weekday": "Wednesday"
        },
        {
         "Acousticness": "0.414",
         "Artist": "Tiësto",
         "Artist Followers": "5785065",
         "Chord": "G#/Ab",
         "Danceability": "0.798",
         "Duration (ms)": "164000",
         "Energy": 0.62,
         "Genre": "['big room', 'brostep', 'dance pop', 'dutch edm', 'edm', 'electro house', 'house', 'pop dance', 'slap house', 'trance', 'tropical house']",
         "Highest Charting Position": 9,
         "Index": 45,
         "Liveness": "0.112",
         "Loudness": "-7.079",
         "Number of Times Charted": 39,
         "Popularity": "90",
         "Release Date": "2020-09-16",
         "Song ID": "6f3Slt0GbA2bPZlz0aIFXN",
         "Song Name": "The Business",
         "Speechiness": "0.232",
         "Streams": "10,739,770",
         "Tempo": "120.031",
         "Valence": "0.235",
         "Week of Highest Charting": "2021-02-26--2021-03-05",
         "Weeks Charted": "2021-07-23--2021-07-30\n2021-07-16--2021-07-23\n2021-07-09--2021-07-16\n2021-07-02--2021-07-09\n2021-06-25--2021-07-02\n2021-06-18--2021-06-25\n2021-06-11--2021-06-18\n2021-06-04--2021-06-11\n2021-05-28--2021-06-04\n2021-05-21--2021-05-28\n2021-05-14--2021-05-21\n2021-05-07--2021-05-14\n2021-04-30--2021-05-07\n2021-04-23--2021-04-30\n2021-04-16--2021-04-23\n2021-04-09--2021-04-16\n2021-04-02--2021-04-09\n2021-03-26--2021-04-02\n2021-03-19--2021-03-26\n2021-03-12--2021-03-19\n2021-03-05--2021-03-12\n2021-02-26--2021-03-05\n2021-02-19--2021-02-26\n2021-02-12--2021-02-19\n2021-02-05--2021-02-12\n2021-01-29--2021-02-05\n2021-01-22--2021-01-29\n2021-01-15--2021-01-22\n2021-01-08--2021-01-15\n2021-01-01--2021-01-08\n2020-12-25--2021-01-01\n2020-12-18--2020-12-25\n2020-12-11--2020-12-18\n2020-12-04--2020-12-11\n2020-11-27--2020-12-04\n2020-11-20--2020-11-27\n2020-11-13--2020-11-20\n2020-11-06--2020-11-13\n2020-10-30--2020-11-06",
         "_deepnote_index_column": 44,
         "weekday": "Wednesday"
        },
        {
         "Acousticness": "0.398",
         "Artist": "Wisin, Jhay Cortez, Anuel AA, Los Legendarios, Myke Towers",
         "Artist Followers": "6929075",
         "Chord": "F#/Gb",
         "Danceability": "0.839",
         "Duration (ms)": "349547",
         "Energy": 0.711,
         "Genre": "['latin', 'latin hip hop', 'reggaeton', 'trap latino']",
         "Highest Charting Position": 29,
         "Index": 49,
         "Liveness": "0.118",
         "Loudness": "-4.733",
         "Number of Times Charted": 6,
         "Popularity": "89",
         "Release Date": "2021-06-15",
         "Song ID": "43qcs9NpJhDxtG91zxFkj7",
         "Song Name": "Fiel - Remix",
         "Speechiness": "0.0473",
         "Streams": "10,032,746",
         "Tempo": "97.99",
         "Valence": "0.573",
         "Week of Highest Charting": "2021-06-25--2021-07-02",
         "Weeks Charted": "2021-07-23--2021-07-30\n2021-07-16--2021-07-23\n2021-07-09--2021-07-16\n2021-07-02--2021-07-09\n2021-06-25--2021-07-02\n2021-06-18--2021-06-25",
         "_deepnote_index_column": 48,
         "weekday": "Tuesday"
        },
        {
         "Acousticness": "0.0913",
         "Artist": "Bizarrap, Nicky Jam",
         "Artist Followers": "3126961",
         "Chord": "C#/Db",
         "Danceability": "0.627",
         "Duration (ms)": "158087",
         "Energy": 0.849,
         "Genre": "['argentine hip hop', 'pop venezolano', 'trap argentino', 'trap latino']",
         "Highest Charting Position": 19,
         "Index": 51,
         "Liveness": "0.145",
         "Loudness": "-3.167",
         "Number of Times Charted": 4,
         "Popularity": "88",
         "Release Date": "2021-06-30",
         "Song ID": "03LfOYi0icz4souspZVVhq",
         "Song Name": "Nicky Jam: Bzrp Music Sessions, Vol. 41",
         "Speechiness": "0.153",
         "Streams": "9,799,701",
         "Tempo": "89.907",
         "Valence": "0.818",
         "Week of Highest Charting": "2021-07-02--2021-07-09",
         "Weeks Charted": "2021-07-23--2021-07-30\n2021-07-16--2021-07-23\n2021-07-09--2021-07-16\n2021-07-02--2021-07-09",
         "_deepnote_index_column": 50,
         "weekday": "Wednesday"
        },
        {
         "Acousticness": "0.369",
         "Artist": "João Gomes",
         "Artist Followers": "409173",
         "Chord": "B",
         "Danceability": "0.668",
         "Duration (ms)": "157176",
         "Energy": 0.887,
         "Genre": "[]",
         "Highest Charting Position": 57,
         "Index": 57,
         "Liveness": "0.257",
         "Loudness": "-4.404",
         "Number of Times Charted": 5,
         "Popularity": "83",
         "Release Date": "2021-06-01",
         "Song ID": "2kJRlOyrxsy7Ot3c5TZ8Q6",
         "Song Name": "Meu Pedaço de Pecado",
         "Speechiness": "0.0564",
         "Streams": "9,206,366",
         "Tempo": "151.92",
         "Valence": "0.907",
         "Week of Highest Charting": "2021-07-23--2021-07-30",
         "Weeks Charted": "2021-07-23--2021-07-30\n2021-07-16--2021-07-23\n2021-07-09--2021-07-16\n2021-07-02--2021-07-09\n2021-06-25--2021-07-02",
         "_deepnote_index_column": 56,
         "weekday": "Tuesday"
        },
        {
         "Acousticness": "0.326",
         "Artist": "OneRepublic",
         "Artist Followers": "12169108",
         "Chord": "B",
         "Danceability": "0.682",
         "Duration (ms)": "169011",
         "Energy": 0.72,
         "Genre": "['dance pop', 'piano rock', 'pop', 'pop rock']",
         "Highest Charting Position": 31,
         "Index": 60,
         "Liveness": "0.148",
         "Loudness": "-8.173",
         "Number of Times Charted": 15,
         "Popularity": "88",
         "Release Date": "2021-05-05",
         "Song ID": "2UbVnbE5FH6008mAm6Mmgw",
         "Song Name": "Run",
         "Speechiness": "0.0381",
         "Streams": "9,017,356",
         "Tempo": "117.003",
         "Valence": "0.673",
         "Week of Highest Charting": "2020-02-07--2020-02-14",
         "Weeks Charted": "2021-07-23--2021-07-30\n2021-07-16--2021-07-23\n2021-07-09--2021-07-16\n2021-07-02--2021-07-09\n2021-06-25--2021-07-02\n2021-06-18--2021-06-25\n2021-06-11--2021-06-18\n2021-06-04--2021-06-11\n2021-05-28--2021-06-04\n2021-05-21--2021-05-28\n2021-05-14--2021-05-21\n2021-05-07--2021-05-14\n2020-09-25--2020-10-02\n2020-02-14--2020-02-21\n2020-02-07--2020-02-14",
         "_deepnote_index_column": 59,
         "weekday": "Wednesday"
        },
        {
         "Acousticness": "0.492",
         "Artist": "Sleepy Hallow",
         "Artist Followers": "408696",
         "Chord": "F#/Gb",
         "Danceability": "0.829",
         "Duration (ms)": "123987",
         "Energy": 0.512,
         "Genre": "['brooklyn drill', 'nyc rap']",
         "Highest Charting Position": 72,
         "Index": 72,
         "Liveness": "0.12",
         "Loudness": "-5.865",
         "Number of Times Charted": 2,
         "Popularity": "85",
         "Release Date": "2021-06-02",
         "Song ID": "4XvcHTUfIlWfyJTRG0aqlo",
         "Song Name": "2055",
         "Speechiness": "0.187",
         "Streams": "8,133,401",
         "Tempo": "80.511",
         "Valence": "0.638",
         "Week of Highest Charting": "2021-07-23--2021-07-30",
         "Weeks Charted": "2021-07-23--2021-07-30\n2021-07-16--2021-07-23",
         "_deepnote_index_column": 71,
         "weekday": "Wednesday"
        },
        {
         "Acousticness": "0.305",
         "Artist": "Natti Natasha, Becky G",
         "Artist Followers": "6341942",
         "Chord": "F",
         "Danceability": "0.908",
         "Duration (ms)": "200785",
         "Energy": 0.813,
         "Genre": "['latin', 'latin pop', 'rap latina', 'reggaeton', 'trap latino']",
         "Highest Charting Position": 75,
         "Index": 95,
         "Liveness": "0.278",
         "Loudness": "-2.749",
         "Number of Times Charted": 10,
         "Popularity": "86",
         "Release Date": "2021-04-20",
         "Song ID": "4DHDIdeayp8xvlyg22wREO",
         "Song Name": "Ram Pam Pam",
         "Speechiness": "0.0777",
         "Streams": "7,064,003",
         "Tempo": "97.018",
         "Valence": "0.924",
         "Week of Highest Charting": "2021-07-02--2021-07-09",
         "Weeks Charted": "2021-07-23--2021-07-30\n2021-07-16--2021-07-23\n2021-07-09--2021-07-16\n2021-07-02--2021-07-09\n2021-06-25--2021-07-02\n2021-06-18--2021-06-25\n2021-06-11--2021-06-18\n2021-06-04--2021-06-11\n2021-05-28--2021-06-04\n2021-05-21--2021-05-28",
         "_deepnote_index_column": 94,
         "weekday": "Tuesday"
        },
        {
         "Acousticness": "0.0021",
         "Artist": "WILLOW",
         "Artist Followers": "1521837",
         "Chord": "B",
         "Danceability": "0.39",
         "Duration (ms)": "168030",
         "Energy": 0.83,
         "Genre": "['afrofuturism', 'dance pop', 'electropop', 'pop', 'pop rap', 'post-teen pop']",
         "Highest Charting Position": 60,
         "Index": 98,
         "Liveness": "0.156",
         "Loudness": "-5.201",
         "Number of Times Charted": 8,
         "Popularity": "85",
         "Release Date": "2021-04-27",
         "Song ID": "1QL7nSDZCwZMnbisV4KOXt",
         "Song Name": "t r a n s p a r e n t s o u l feat. Travis Barker",
         "Speechiness": "0.0563",
         "Streams": "6,853,994",
         "Tempo": "90.021",
         "Valence": "0.191",
         "Week of Highest Charting": "2021-06-18--2021-06-25",
         "Weeks Charted": "2021-07-23--2021-07-30\n2021-07-16--2021-07-23\n2021-07-09--2021-07-16\n2021-07-02--2021-07-09\n2021-06-25--2021-07-02\n2021-06-18--2021-06-25\n2021-06-11--2021-06-18\n2021-06-04--2021-06-11",
         "_deepnote_index_column": 97,
         "weekday": "Tuesday"
        }
       ]
      },
      "text/html": [
       "<div>\n",
       "<style scoped>\n",
       "    .dataframe tbody tr th:only-of-type {\n",
       "        vertical-align: middle;\n",
       "    }\n",
       "\n",
       "    .dataframe tbody tr th {\n",
       "        vertical-align: top;\n",
       "    }\n",
       "\n",
       "    .dataframe thead th {\n",
       "        text-align: right;\n",
       "    }\n",
       "</style>\n",
       "<table border=\"1\" class=\"dataframe\">\n",
       "  <thead>\n",
       "    <tr style=\"text-align: right;\">\n",
       "      <th></th>\n",
       "      <th>Index</th>\n",
       "      <th>Highest Charting Position</th>\n",
       "      <th>Number of Times Charted</th>\n",
       "      <th>Week of Highest Charting</th>\n",
       "      <th>Song Name</th>\n",
       "      <th>Streams</th>\n",
       "      <th>Artist</th>\n",
       "      <th>Artist Followers</th>\n",
       "      <th>Song ID</th>\n",
       "      <th>Genre</th>\n",
       "      <th>...</th>\n",
       "      <th>Energy</th>\n",
       "      <th>Loudness</th>\n",
       "      <th>Speechiness</th>\n",
       "      <th>Acousticness</th>\n",
       "      <th>Liveness</th>\n",
       "      <th>Tempo</th>\n",
       "      <th>Duration (ms)</th>\n",
       "      <th>Valence</th>\n",
       "      <th>Chord</th>\n",
       "      <th>weekday</th>\n",
       "    </tr>\n",
       "  </thead>\n",
       "  <tbody>\n",
       "    <tr>\n",
       "      <th>5</th>\n",
       "      <td>6</td>\n",
       "      <td>1</td>\n",
       "      <td>18</td>\n",
       "      <td>2021-05-07--2021-05-14</td>\n",
       "      <td>MONTERO (Call Me By Your Name)</td>\n",
       "      <td>30,071,134</td>\n",
       "      <td>Lil Nas X</td>\n",
       "      <td>5473565</td>\n",
       "      <td>67BtfxlNbhBmCDR2L2l8qd</td>\n",
       "      <td>['lgbtq+ hip hop', 'pop rap']</td>\n",
       "      <td>...</td>\n",
       "      <td>0.508</td>\n",
       "      <td>-6.682</td>\n",
       "      <td>0.152</td>\n",
       "      <td>0.297</td>\n",
       "      <td>0.384</td>\n",
       "      <td>178.818</td>\n",
       "      <td>137876</td>\n",
       "      <td>0.758</td>\n",
       "      <td>G#/Ab</td>\n",
       "      <td>Wednesday</td>\n",
       "    </tr>\n",
       "    <tr>\n",
       "      <th>29</th>\n",
       "      <td>30</td>\n",
       "      <td>3</td>\n",
       "      <td>28</td>\n",
       "      <td>2021-04-02--2021-04-09</td>\n",
       "      <td>Astronaut In The Ocean</td>\n",
       "      <td>14,174,752</td>\n",
       "      <td>Masked Wolf</td>\n",
       "      <td>365975</td>\n",
       "      <td>3Ofmpyhv5UAQ70mENzB277</td>\n",
       "      <td>['australian hip hop']</td>\n",
       "      <td>...</td>\n",
       "      <td>0.695</td>\n",
       "      <td>-6.865</td>\n",
       "      <td>0.0913</td>\n",
       "      <td>0.175</td>\n",
       "      <td>0.15</td>\n",
       "      <td>149.996</td>\n",
       "      <td>132780</td>\n",
       "      <td>0.472</td>\n",
       "      <td>E</td>\n",
       "      <td>Wednesday</td>\n",
       "    </tr>\n",
       "    <tr>\n",
       "      <th>44</th>\n",
       "      <td>45</td>\n",
       "      <td>9</td>\n",
       "      <td>39</td>\n",
       "      <td>2021-02-26--2021-03-05</td>\n",
       "      <td>The Business</td>\n",
       "      <td>10,739,770</td>\n",
       "      <td>Tiësto</td>\n",
       "      <td>5785065</td>\n",
       "      <td>6f3Slt0GbA2bPZlz0aIFXN</td>\n",
       "      <td>['big room', 'brostep', 'dance pop', 'dutch ed...</td>\n",
       "      <td>...</td>\n",
       "      <td>0.620</td>\n",
       "      <td>-7.079</td>\n",
       "      <td>0.232</td>\n",
       "      <td>0.414</td>\n",
       "      <td>0.112</td>\n",
       "      <td>120.031</td>\n",
       "      <td>164000</td>\n",
       "      <td>0.235</td>\n",
       "      <td>G#/Ab</td>\n",
       "      <td>Wednesday</td>\n",
       "    </tr>\n",
       "    <tr>\n",
       "      <th>48</th>\n",
       "      <td>49</td>\n",
       "      <td>29</td>\n",
       "      <td>6</td>\n",
       "      <td>2021-06-25--2021-07-02</td>\n",
       "      <td>Fiel - Remix</td>\n",
       "      <td>10,032,746</td>\n",
       "      <td>Wisin, Jhay Cortez, Anuel AA, Los Legendarios,...</td>\n",
       "      <td>6929075</td>\n",
       "      <td>43qcs9NpJhDxtG91zxFkj7</td>\n",
       "      <td>['latin', 'latin hip hop', 'reggaeton', 'trap ...</td>\n",
       "      <td>...</td>\n",
       "      <td>0.711</td>\n",
       "      <td>-4.733</td>\n",
       "      <td>0.0473</td>\n",
       "      <td>0.398</td>\n",
       "      <td>0.118</td>\n",
       "      <td>97.99</td>\n",
       "      <td>349547</td>\n",
       "      <td>0.573</td>\n",
       "      <td>F#/Gb</td>\n",
       "      <td>Tuesday</td>\n",
       "    </tr>\n",
       "    <tr>\n",
       "      <th>50</th>\n",
       "      <td>51</td>\n",
       "      <td>19</td>\n",
       "      <td>4</td>\n",
       "      <td>2021-07-02--2021-07-09</td>\n",
       "      <td>Nicky Jam: Bzrp Music Sessions, Vol. 41</td>\n",
       "      <td>9,799,701</td>\n",
       "      <td>Bizarrap, Nicky Jam</td>\n",
       "      <td>3126961</td>\n",
       "      <td>03LfOYi0icz4souspZVVhq</td>\n",
       "      <td>['argentine hip hop', 'pop venezolano', 'trap ...</td>\n",
       "      <td>...</td>\n",
       "      <td>0.849</td>\n",
       "      <td>-3.167</td>\n",
       "      <td>0.153</td>\n",
       "      <td>0.0913</td>\n",
       "      <td>0.145</td>\n",
       "      <td>89.907</td>\n",
       "      <td>158087</td>\n",
       "      <td>0.818</td>\n",
       "      <td>C#/Db</td>\n",
       "      <td>Wednesday</td>\n",
       "    </tr>\n",
       "    <tr>\n",
       "      <th>...</th>\n",
       "      <td>...</td>\n",
       "      <td>...</td>\n",
       "      <td>...</td>\n",
       "      <td>...</td>\n",
       "      <td>...</td>\n",
       "      <td>...</td>\n",
       "      <td>...</td>\n",
       "      <td>...</td>\n",
       "      <td>...</td>\n",
       "      <td>...</td>\n",
       "      <td>...</td>\n",
       "      <td>...</td>\n",
       "      <td>...</td>\n",
       "      <td>...</td>\n",
       "      <td>...</td>\n",
       "      <td>...</td>\n",
       "      <td>...</td>\n",
       "      <td>...</td>\n",
       "      <td>...</td>\n",
       "      <td>...</td>\n",
       "      <td>...</td>\n",
       "    </tr>\n",
       "    <tr>\n",
       "      <th>1457</th>\n",
       "      <td>1458</td>\n",
       "      <td>136</td>\n",
       "      <td>1</td>\n",
       "      <td>2020-01-31--2020-02-07</td>\n",
       "      <td>Mon Ami</td>\n",
       "      <td>5,774,770</td>\n",
       "      <td>Samra</td>\n",
       "      <td>1045091</td>\n",
       "      <td>1R4xkZXQUQ8QJtAdwHkSgC</td>\n",
       "      <td>['german hip hop']</td>\n",
       "      <td>...</td>\n",
       "      <td>0.731</td>\n",
       "      <td>-3.723</td>\n",
       "      <td>0.383</td>\n",
       "      <td>0.188</td>\n",
       "      <td>0.111</td>\n",
       "      <td>105.666</td>\n",
       "      <td>138409</td>\n",
       "      <td>0.537</td>\n",
       "      <td>G#/Ab</td>\n",
       "      <td>Wednesday</td>\n",
       "    </tr>\n",
       "    <tr>\n",
       "      <th>1464</th>\n",
       "      <td>1465</td>\n",
       "      <td>106</td>\n",
       "      <td>6</td>\n",
       "      <td>2020-01-03--2020-01-10</td>\n",
       "      <td>Liar</td>\n",
       "      <td>4,896,939</td>\n",
       "      <td>Camila Cabello</td>\n",
       "      <td>22698747</td>\n",
       "      <td>7LzouaWGFCy4tkXDOOnEyM</td>\n",
       "      <td>['dance pop', 'electropop', 'pop', 'post-teen ...</td>\n",
       "      <td>...</td>\n",
       "      <td>0.498</td>\n",
       "      <td>-6.684</td>\n",
       "      <td>0.0456</td>\n",
       "      <td>0.0169</td>\n",
       "      <td>0.319</td>\n",
       "      <td>98.016</td>\n",
       "      <td>207039</td>\n",
       "      <td>0.652</td>\n",
       "      <td>B</td>\n",
       "      <td>Wednesday</td>\n",
       "    </tr>\n",
       "    <tr>\n",
       "      <th>1547</th>\n",
       "      <td>1548</td>\n",
       "      <td>156</td>\n",
       "      <td>1</td>\n",
       "      <td>2019-12-27--2020-01-03</td>\n",
       "      <td>Combatchy (feat. MC Rebecca)</td>\n",
       "      <td>5,149,797</td>\n",
       "      <td>Anitta, Lexa, Luísa Sonza</td>\n",
       "      <td>10741972</td>\n",
       "      <td>2bPtwnrpFNEe8N7Q85kLHw</td>\n",
       "      <td>['funk carioca', 'funk pop', 'pagode baiano', ...</td>\n",
       "      <td>...</td>\n",
       "      <td>0.730</td>\n",
       "      <td>-3.032</td>\n",
       "      <td>0.0809</td>\n",
       "      <td>0.383</td>\n",
       "      <td>0.0197</td>\n",
       "      <td>150.134</td>\n",
       "      <td>157600</td>\n",
       "      <td>0.605</td>\n",
       "      <td>C#/Db</td>\n",
       "      <td>Wednesday</td>\n",
       "    </tr>\n",
       "    <tr>\n",
       "      <th>1554</th>\n",
       "      <td>1555</td>\n",
       "      <td>198</td>\n",
       "      <td>1</td>\n",
       "      <td>2019-12-27--2020-01-03</td>\n",
       "      <td>Surtada - Remix Brega Funk</td>\n",
       "      <td>4,607,385</td>\n",
       "      <td>Dadá Boladão, Tati Zaqui, OIK</td>\n",
       "      <td>208630</td>\n",
       "      <td>5F8ffc8KWKNawllr5WsW0r</td>\n",
       "      <td>['brega funk', 'funk carioca']</td>\n",
       "      <td>...</td>\n",
       "      <td>0.550</td>\n",
       "      <td>-7.026</td>\n",
       "      <td>0.0587</td>\n",
       "      <td>0.249</td>\n",
       "      <td>0.182</td>\n",
       "      <td>154.064</td>\n",
       "      <td>152784</td>\n",
       "      <td>0.881</td>\n",
       "      <td>F</td>\n",
       "      <td>Wednesday</td>\n",
       "    </tr>\n",
       "    <tr>\n",
       "      <th>1555</th>\n",
       "      <td>1556</td>\n",
       "      <td>199</td>\n",
       "      <td>1</td>\n",
       "      <td>2019-12-27--2020-01-03</td>\n",
       "      <td>Lover (Remix) [feat. Shawn Mendes]</td>\n",
       "      <td>4,595,450</td>\n",
       "      <td>Taylor Swift</td>\n",
       "      <td>42227614</td>\n",
       "      <td>3i9UVldZOE0aD0JnyfAZZ0</td>\n",
       "      <td>['pop', 'post-teen pop']</td>\n",
       "      <td>...</td>\n",
       "      <td>0.603</td>\n",
       "      <td>-7.176</td>\n",
       "      <td>0.064</td>\n",
       "      <td>0.433</td>\n",
       "      <td>0.0862</td>\n",
       "      <td>205.272</td>\n",
       "      <td>221307</td>\n",
       "      <td>0.422</td>\n",
       "      <td>G</td>\n",
       "      <td>Wednesday</td>\n",
       "    </tr>\n",
       "  </tbody>\n",
       "</table>\n",
       "<p>121 rows × 24 columns</p>\n",
       "</div>"
      ],
      "text/plain": [
       "      Index  Highest Charting Position  Number of Times Charted  \\\n",
       "5         6                          1                       18   \n",
       "29       30                          3                       28   \n",
       "44       45                          9                       39   \n",
       "48       49                         29                        6   \n",
       "50       51                         19                        4   \n",
       "...     ...                        ...                      ...   \n",
       "1457   1458                        136                        1   \n",
       "1464   1465                        106                        6   \n",
       "1547   1548                        156                        1   \n",
       "1554   1555                        198                        1   \n",
       "1555   1556                        199                        1   \n",
       "\n",
       "     Week of Highest Charting                                Song Name  \\\n",
       "5      2021-05-07--2021-05-14           MONTERO (Call Me By Your Name)   \n",
       "29     2021-04-02--2021-04-09                   Astronaut In The Ocean   \n",
       "44     2021-02-26--2021-03-05                             The Business   \n",
       "48     2021-06-25--2021-07-02                             Fiel - Remix   \n",
       "50     2021-07-02--2021-07-09  Nicky Jam: Bzrp Music Sessions, Vol. 41   \n",
       "...                       ...                                      ...   \n",
       "1457   2020-01-31--2020-02-07                                  Mon Ami   \n",
       "1464   2020-01-03--2020-01-10                                     Liar   \n",
       "1547   2019-12-27--2020-01-03             Combatchy (feat. MC Rebecca)   \n",
       "1554   2019-12-27--2020-01-03               Surtada - Remix Brega Funk   \n",
       "1555   2019-12-27--2020-01-03       Lover (Remix) [feat. Shawn Mendes]   \n",
       "\n",
       "         Streams                                             Artist  \\\n",
       "5     30,071,134                                          Lil Nas X   \n",
       "29    14,174,752                                        Masked Wolf   \n",
       "44    10,739,770                                             Tiësto   \n",
       "48    10,032,746  Wisin, Jhay Cortez, Anuel AA, Los Legendarios,...   \n",
       "50     9,799,701                                Bizarrap, Nicky Jam   \n",
       "...          ...                                                ...   \n",
       "1457   5,774,770                                              Samra   \n",
       "1464   4,896,939                                     Camila Cabello   \n",
       "1547   5,149,797                          Anitta, Lexa, Luísa Sonza   \n",
       "1554   4,607,385                      Dadá Boladão, Tati Zaqui, OIK   \n",
       "1555   4,595,450                                       Taylor Swift   \n",
       "\n",
       "     Artist Followers                 Song ID  \\\n",
       "5             5473565  67BtfxlNbhBmCDR2L2l8qd   \n",
       "29             365975  3Ofmpyhv5UAQ70mENzB277   \n",
       "44            5785065  6f3Slt0GbA2bPZlz0aIFXN   \n",
       "48            6929075  43qcs9NpJhDxtG91zxFkj7   \n",
       "50            3126961  03LfOYi0icz4souspZVVhq   \n",
       "...               ...                     ...   \n",
       "1457          1045091  1R4xkZXQUQ8QJtAdwHkSgC   \n",
       "1464         22698747  7LzouaWGFCy4tkXDOOnEyM   \n",
       "1547         10741972  2bPtwnrpFNEe8N7Q85kLHw   \n",
       "1554           208630  5F8ffc8KWKNawllr5WsW0r   \n",
       "1555         42227614  3i9UVldZOE0aD0JnyfAZZ0   \n",
       "\n",
       "                                                  Genre  ... Energy Loudness  \\\n",
       "5                         ['lgbtq+ hip hop', 'pop rap']  ...  0.508   -6.682   \n",
       "29                               ['australian hip hop']  ...  0.695   -6.865   \n",
       "44    ['big room', 'brostep', 'dance pop', 'dutch ed...  ...  0.620   -7.079   \n",
       "48    ['latin', 'latin hip hop', 'reggaeton', 'trap ...  ...  0.711   -4.733   \n",
       "50    ['argentine hip hop', 'pop venezolano', 'trap ...  ...  0.849   -3.167   \n",
       "...                                                 ...  ...    ...      ...   \n",
       "1457                                 ['german hip hop']  ...  0.731   -3.723   \n",
       "1464  ['dance pop', 'electropop', 'pop', 'post-teen ...  ...  0.498   -6.684   \n",
       "1547  ['funk carioca', 'funk pop', 'pagode baiano', ...  ...  0.730   -3.032   \n",
       "1554                     ['brega funk', 'funk carioca']  ...  0.550   -7.026   \n",
       "1555                           ['pop', 'post-teen pop']  ...  0.603   -7.176   \n",
       "\n",
       "     Speechiness Acousticness  Liveness    Tempo Duration (ms) Valence  Chord  \\\n",
       "5          0.152        0.297     0.384  178.818        137876   0.758  G#/Ab   \n",
       "29        0.0913        0.175      0.15  149.996        132780   0.472      E   \n",
       "44         0.232        0.414     0.112  120.031        164000   0.235  G#/Ab   \n",
       "48        0.0473        0.398     0.118    97.99        349547   0.573  F#/Gb   \n",
       "50         0.153       0.0913     0.145   89.907        158087   0.818  C#/Db   \n",
       "...          ...          ...       ...      ...           ...     ...    ...   \n",
       "1457       0.383        0.188     0.111  105.666        138409   0.537  G#/Ab   \n",
       "1464      0.0456       0.0169     0.319   98.016        207039   0.652      B   \n",
       "1547      0.0809        0.383    0.0197  150.134        157600   0.605  C#/Db   \n",
       "1554      0.0587        0.249     0.182  154.064        152784   0.881      F   \n",
       "1555       0.064        0.433    0.0862  205.272        221307   0.422      G   \n",
       "\n",
       "        weekday  \n",
       "5     Wednesday  \n",
       "29    Wednesday  \n",
       "44    Wednesday  \n",
       "48      Tuesday  \n",
       "50    Wednesday  \n",
       "...         ...  \n",
       "1457  Wednesday  \n",
       "1464  Wednesday  \n",
       "1547  Wednesday  \n",
       "1554  Wednesday  \n",
       "1555  Wednesday  \n",
       "\n",
       "[121 rows x 24 columns]"
      ]
     },
     "execution_count": 11,
     "metadata": {},
     "output_type": "execute_result"
    }
   ],
   "source": [
    "#Our first goal is to convert the date to a day of the week. I will store this information in a new column\n",
    "df[\"weekday\"] = pd.to_datetime(df[\"Release Date\"]).dt.day_name()\n",
    "\n",
    "#The second step is to create a boolean series that returns True if df[\"weekday\"] is Tuesday or Wednesday\n",
    "bool_ser = df[\"weekday\"].isin([\"Tuesday\", \"Wednesday\"])\n",
    "\n",
    "#Get the sub-DataFrame\n",
    "df[bool_ser]"
   ]
  },
  {
   "cell_type": "code",
   "execution_count": null,
   "metadata": {
    "cell_id": "a52a89c3ba224e08af249e2f5401264e",
    "deepnote_cell_height": 636,
    "deepnote_cell_type": "code",
    "deepnote_to_be_reexecuted": false,
    "execution_millis": 280,
    "execution_start": 1650411491251,
    "source_hash": "b5258bb0",
    "tags": []
   },
   "outputs": [
    {
     "data": {
      "application/vnd.deepnote.dataframe.v3+json": {
       "column_count": 24,
       "columns": [
        {
         "dtype": "int64",
         "name": "Index",
         "stats": {
          "histogram": [
           {
            "bin_end": 161,
            "bin_start": 6,
            "count": 23
           },
           {
            "bin_end": 316,
            "bin_start": 161,
            "count": 10
           },
           {
            "bin_end": 471,
            "bin_start": 316,
            "count": 13
           },
           {
            "bin_end": 626,
            "bin_start": 471,
            "count": 10
           },
           {
            "bin_end": 781,
            "bin_start": 626,
            "count": 20
           },
           {
            "bin_end": 936,
            "bin_start": 781,
            "count": 13
           },
           {
            "bin_end": 1091,
            "bin_start": 936,
            "count": 10
           },
           {
            "bin_end": 1246,
            "bin_start": 1091,
            "count": 9
           },
           {
            "bin_end": 1401,
            "bin_start": 1246,
            "count": 5
           },
           {
            "bin_end": 1556,
            "bin_start": 1401,
            "count": 8
           }
          ],
          "max": "1556",
          "min": "6",
          "nan_count": 0,
          "unique_count": 121
         }
        },
        {
         "dtype": "int64",
         "name": "Highest Charting Position",
         "stats": {
          "histogram": [
           {
            "bin_end": 20.8,
            "bin_start": 1,
            "count": 14
           },
           {
            "bin_end": 40.6,
            "bin_start": 20.8,
            "count": 10
           },
           {
            "bin_end": 60.400000000000006,
            "bin_start": 40.6,
            "count": 9
           },
           {
            "bin_end": 80.2,
            "bin_start": 60.400000000000006,
            "count": 18
           },
           {
            "bin_end": 100,
            "bin_start": 80.2,
            "count": 7
           },
           {
            "bin_end": 119.80000000000001,
            "bin_start": 100,
            "count": 11
           },
           {
            "bin_end": 139.6,
            "bin_start": 119.80000000000001,
            "count": 14
           },
           {
            "bin_end": 159.4,
            "bin_start": 139.6,
            "count": 19
           },
           {
            "bin_end": 179.20000000000002,
            "bin_start": 159.4,
            "count": 10
           },
           {
            "bin_end": 199,
            "bin_start": 179.20000000000002,
            "count": 9
           }
          ],
          "max": "199",
          "min": "1",
          "nan_count": 0,
          "unique_count": 93
         }
        },
        {
         "dtype": "int64",
         "name": "Number of Times Charted",
         "stats": {
          "histogram": [
           {
            "bin_end": 5.5,
            "bin_start": 1,
            "count": 62
           },
           {
            "bin_end": 10,
            "bin_start": 5.5,
            "count": 18
           },
           {
            "bin_end": 14.5,
            "bin_start": 10,
            "count": 13
           },
           {
            "bin_end": 19,
            "bin_start": 14.5,
            "count": 9
           },
           {
            "bin_end": 23.5,
            "bin_start": 19,
            "count": 8
           },
           {
            "bin_end": 28,
            "bin_start": 23.5,
            "count": 3
           },
           {
            "bin_end": 32.5,
            "bin_start": 28,
            "count": 3
           },
           {
            "bin_end": 37,
            "bin_start": 32.5,
            "count": 1
           },
           {
            "bin_end": 41.5,
            "bin_start": 37,
            "count": 3
           },
           {
            "bin_end": 46,
            "bin_start": 41.5,
            "count": 1
           }
          ],
          "max": "46",
          "min": "1",
          "nan_count": 0,
          "unique_count": 30
         }
        },
        {
         "dtype": "object",
         "name": "Week of Highest Charting",
         "stats": {
          "categories": [
           {
            "count": 15,
            "name": "2020-12-18--2020-12-25"
           },
           {
            "count": 8,
            "name": "2021-07-23--2021-07-30"
           },
           {
            "count": 98,
            "name": "53 others"
           }
          ],
          "nan_count": 0,
          "unique_count": 55
         }
        },
        {
         "dtype": "object",
         "name": "Song Name",
         "stats": {
          "categories": [
           {
            "count": 1,
            "name": "MONTERO (Call Me By Your Name)"
           },
           {
            "count": 1,
            "name": "Astronaut In The Ocean"
           },
           {
            "count": 119,
            "name": "119 others"
           }
          ],
          "nan_count": 0,
          "unique_count": 121
         }
        },
        {
         "dtype": "object",
         "name": "Streams",
         "stats": {
          "categories": [
           {
            "count": 1,
            "name": "30,071,134"
           },
           {
            "count": 1,
            "name": "14,174,752"
           },
           {
            "count": 119,
            "name": "119 others"
           }
          ],
          "nan_count": 0,
          "unique_count": 121
         }
        },
        {
         "dtype": "object",
         "name": "Artist",
         "stats": {
          "categories": [
           {
            "count": 4,
            "name": "J. Cole"
           },
           {
            "count": 2,
            "name": "João Gomes"
           },
           {
            "count": 115,
            "name": "110 others"
           }
          ],
          "nan_count": 0,
          "unique_count": 112
         }
        },
        {
         "dtype": "object",
         "name": "Artist Followers",
         "stats": {
          "categories": [
           {
            "count": 6,
            "name": "1251372"
           },
           {
            "count": 4,
            "name": "3126961"
           },
           {
            "count": 111,
            "name": "99 others"
           }
          ],
          "nan_count": 0,
          "unique_count": 101
         }
        },
        {
         "dtype": "object",
         "name": "Song ID",
         "stats": {
          "categories": [
           {
            "count": 2,
            "name": "2MbdDtCv5LUVjYy9RuGTgC"
           },
           {
            "count": 1,
            "name": "67BtfxlNbhBmCDR2L2l8qd"
           },
           {
            "count": 118,
            "name": "118 others"
           }
          ],
          "nan_count": 0,
          "unique_count": 120
         }
        },
        {
         "dtype": "object",
         "name": "Genre",
         "stats": {
          "categories": [
           {
            "count": 13,
            "name": "[]"
           },
           {
            "count": 4,
            "name": "['argentine hip hop', 'pop venezolano', 'trap argentino', 'trap latino']"
           },
           {
            "count": 104,
            "name": "81 others"
           }
          ],
          "nan_count": 0,
          "unique_count": 83
         }
        },
        {
         "dtype": "object",
         "name": "Release Date",
         "stats": {
          "categories": [
           {
            "count": 3,
            "name": "2021-06-01"
           },
           {
            "count": 3,
            "name": "2010-10-05"
           },
           {
            "count": 115,
            "name": "100 others"
           }
          ],
          "nan_count": 0,
          "unique_count": 102
         }
        },
        {
         "dtype": "object",
         "name": "Weeks Charted",
         "stats": {
          "categories": [
           {
            "count": 4,
            "name": "2020-12-18--2020-12-25"
           },
           {
            "count": 3,
            "name": "2021-07-23--2021-07-30\n2021-07-16--2021-07-23\n2021-07-09--2021-07-16\n2021-07-02--2021-07-09\n2021-06-25--2021-07-02\n2021-06-18--2021-06-25\n2021-06-11--2021-06-18\n2021-06-04--2021-06-11\n2021-05-28--2021-06-04\n2021-05-21--2021-05-28\n2021-05-14--2021-05-21\n2021-05-07--2021-05-14\n2021-04-30--2021-05-07\n2021-04-23--2021-04-30\n2021-04-16--2021-04-23\n2021-04-09--2021-04-16\n2021-04-02--2021-04-09\n2021-03-26--2021-04-02"
           },
           {
            "count": 114,
            "name": "101 others"
           }
          ],
          "nan_count": 0,
          "unique_count": 103
         }
        },
        {
         "dtype": "object",
         "name": "Popularity",
         "stats": {
          "categories": [
           {
            "count": 7,
            "name": "83"
           },
           {
            "count": 7,
            "name": "73"
           },
           {
            "count": 107,
            "name": "41 others"
           }
          ],
          "nan_count": 0,
          "unique_count": 43
         }
        },
        {
         "dtype": "object",
         "name": "Danceability",
         "stats": {
          "categories": [
           {
            "count": 3,
            "name": "0.39"
           },
           {
            "count": 3,
            "name": "0.527"
           },
           {
            "count": 115,
            "name": "103 others"
           }
          ],
          "nan_count": 0,
          "unique_count": 105
         }
        },
        {
         "dtype": "float64",
         "name": "Energy",
         "stats": {
          "histogram": [
           {
            "bin_end": 0.21750000000000003,
            "bin_start": 0.139,
            "count": 1
           },
           {
            "bin_end": 0.29600000000000004,
            "bin_start": 0.21750000000000003,
            "count": 3
           },
           {
            "bin_end": 0.3745,
            "bin_start": 0.29600000000000004,
            "count": 4
           },
           {
            "bin_end": 0.453,
            "bin_start": 0.3745,
            "count": 9
           },
           {
            "bin_end": 0.5315000000000001,
            "bin_start": 0.453,
            "count": 11
           },
           {
            "bin_end": 0.61,
            "bin_start": 0.5315000000000001,
            "count": 12
           },
           {
            "bin_end": 0.6885,
            "bin_start": 0.61,
            "count": 23
           },
           {
            "bin_end": 0.767,
            "bin_start": 0.6885,
            "count": 23
           },
           {
            "bin_end": 0.8455,
            "bin_start": 0.767,
            "count": 20
           },
           {
            "bin_end": 0.924,
            "bin_start": 0.8455,
            "count": 15
           }
          ],
          "max": "0.924",
          "min": "0.139",
          "nan_count": 0,
          "unique_count": 105
         }
        },
        {
         "dtype": "object",
         "name": "Loudness",
         "stats": {
          "categories": [
           {
            "count": 2,
            "name": "-4.628"
           },
           {
            "count": 2,
            "name": "-5.224"
           },
           {
            "count": 117,
            "name": "117 others"
           }
          ],
          "nan_count": 0,
          "unique_count": 119
         }
        },
        {
         "dtype": "object",
         "name": "Speechiness",
         "stats": {
          "categories": [
           {
            "count": 2,
            "name": "0.232"
           },
           {
            "count": 2,
            "name": "0.0379"
           },
           {
            "count": 117,
            "name": "112 others"
           }
          ],
          "nan_count": 0,
          "unique_count": 114
         }
        },
        {
         "dtype": "object",
         "name": "Acousticness",
         "stats": {
          "categories": [
           {
            "count": 2,
            "name": "0.237"
           },
           {
            "count": 2,
            "name": "0.289"
           },
           {
            "count": 117,
            "name": "116 others"
           }
          ],
          "nan_count": 0,
          "unique_count": 118
         }
        },
        {
         "dtype": "object",
         "name": "Liveness",
         "stats": {
          "categories": [
           {
            "count": 3,
            "name": "0.112"
           },
           {
            "count": 3,
            "name": "0.185"
           },
           {
            "count": 115,
            "name": "103 others"
           }
          ],
          "nan_count": 0,
          "unique_count": 105
         }
        },
        {
         "dtype": "object",
         "name": "Tempo",
         "stats": {
          "categories": [
           {
            "count": 2,
            "name": "145.013"
           },
           {
            "count": 1,
            "name": "178.818"
           },
           {
            "count": 118,
            "name": "118 others"
           }
          ],
          "nan_count": 0,
          "unique_count": 120
         }
        },
        {
         "dtype": "object",
         "name": "Duration (ms)",
         "stats": {
          "categories": [
           {
            "count": 2,
            "name": "227478"
           },
           {
            "count": 1,
            "name": "137876"
           },
           {
            "count": 118,
            "name": "118 others"
           }
          ],
          "nan_count": 0,
          "unique_count": 120
         }
        },
        {
         "dtype": "object",
         "name": "Valence",
         "stats": {
          "categories": [
           {
            "count": 3,
            "name": "0.835"
           },
           {
            "count": 3,
            "name": "0.963"
           },
           {
            "count": 115,
            "name": "104 others"
           }
          ],
          "nan_count": 0,
          "unique_count": 106
         }
        },
        {
         "dtype": "object",
         "name": "Chord",
         "stats": {
          "categories": [
           {
            "count": 21,
            "name": "C#/Db"
           },
           {
            "count": 17,
            "name": "B"
           },
           {
            "count": 83,
            "name": "10 others"
           }
          ],
          "nan_count": 0,
          "unique_count": 12
         }
        },
        {
         "dtype": "object",
         "name": "weekday",
         "stats": {
          "categories": [
           {
            "count": 61,
            "name": "Wednesday"
           },
           {
            "count": 60,
            "name": "Tuesday"
           }
          ],
          "nan_count": 0,
          "unique_count": 2
         }
        },
        {
         "dtype": "int64",
         "name": "_deepnote_index_column"
        }
       ],
       "row_count": 121,
       "rows": [
        {
         "Acousticness": "0.297",
         "Artist": "Lil Nas X",
         "Artist Followers": "5473565",
         "Chord": "G#/Ab",
         "Danceability": "0.61",
         "Duration (ms)": "137876",
         "Energy": 0.508,
         "Genre": "['lgbtq+ hip hop', 'pop rap']",
         "Highest Charting Position": 1,
         "Index": 6,
         "Liveness": "0.384",
         "Loudness": "-6.682",
         "Number of Times Charted": 18,
         "Popularity": "97",
         "Release Date": "2021-03-31",
         "Song ID": "67BtfxlNbhBmCDR2L2l8qd",
         "Song Name": "MONTERO (Call Me By Your Name)",
         "Speechiness": "0.152",
         "Streams": "30,071,134",
         "Tempo": "178.818",
         "Valence": "0.758",
         "Week of Highest Charting": "2021-05-07--2021-05-14",
         "Weeks Charted": "2021-07-23--2021-07-30\n2021-07-16--2021-07-23\n2021-07-09--2021-07-16\n2021-07-02--2021-07-09\n2021-06-25--2021-07-02\n2021-06-18--2021-06-25\n2021-06-11--2021-06-18\n2021-06-04--2021-06-11\n2021-05-28--2021-06-04\n2021-05-21--2021-05-28\n2021-05-14--2021-05-21\n2021-05-07--2021-05-14\n2021-04-30--2021-05-07\n2021-04-23--2021-04-30\n2021-04-16--2021-04-23\n2021-04-09--2021-04-16\n2021-04-02--2021-04-09\n2021-03-26--2021-04-02",
         "_deepnote_index_column": 5,
         "weekday": "Wednesday"
        },
        {
         "Acousticness": "0.175",
         "Artist": "Masked Wolf",
         "Artist Followers": "365975",
         "Chord": "E",
         "Danceability": "0.778",
         "Duration (ms)": "132780",
         "Energy": 0.695,
         "Genre": "['australian hip hop']",
         "Highest Charting Position": 3,
         "Index": 30,
         "Liveness": "0.15",
         "Loudness": "-6.865",
         "Number of Times Charted": 28,
         "Popularity": "89",
         "Release Date": "2021-01-06",
         "Song ID": "3Ofmpyhv5UAQ70mENzB277",
         "Song Name": "Astronaut In The Ocean",
         "Speechiness": "0.0913",
         "Streams": "14,174,752",
         "Tempo": "149.996",
         "Valence": "0.472",
         "Week of Highest Charting": "2021-04-02--2021-04-09",
         "Weeks Charted": "2021-07-23--2021-07-30\n2021-07-16--2021-07-23\n2021-07-09--2021-07-16\n2021-07-02--2021-07-09\n2021-06-25--2021-07-02\n2021-06-18--2021-06-25\n2021-06-11--2021-06-18\n2021-06-04--2021-06-11\n2021-05-28--2021-06-04\n2021-05-21--2021-05-28\n2021-05-14--2021-05-21\n2021-05-07--2021-05-14\n2021-04-30--2021-05-07\n2021-04-23--2021-04-30\n2021-04-16--2021-04-23\n2021-04-09--2021-04-16\n2021-04-02--2021-04-09\n2021-03-26--2021-04-02\n2021-03-19--2021-03-26\n2021-03-12--2021-03-19\n2021-03-05--2021-03-12\n2021-02-26--2021-03-05\n2021-02-19--2021-02-26\n2021-02-12--2021-02-19\n2021-02-05--2021-02-12\n2021-01-29--2021-02-05\n2021-01-22--2021-01-29\n2021-01-15--2021-01-22",
         "_deepnote_index_column": 29,
         "weekday": "Wednesday"
        },
        {
         "Acousticness": "0.414",
         "Artist": "Tiësto",
         "Artist Followers": "5785065",
         "Chord": "G#/Ab",
         "Danceability": "0.798",
         "Duration (ms)": "164000",
         "Energy": 0.62,
         "Genre": "['big room', 'brostep', 'dance pop', 'dutch edm', 'edm', 'electro house', 'house', 'pop dance', 'slap house', 'trance', 'tropical house']",
         "Highest Charting Position": 9,
         "Index": 45,
         "Liveness": "0.112",
         "Loudness": "-7.079",
         "Number of Times Charted": 39,
         "Popularity": "90",
         "Release Date": "2020-09-16",
         "Song ID": "6f3Slt0GbA2bPZlz0aIFXN",
         "Song Name": "The Business",
         "Speechiness": "0.232",
         "Streams": "10,739,770",
         "Tempo": "120.031",
         "Valence": "0.235",
         "Week of Highest Charting": "2021-02-26--2021-03-05",
         "Weeks Charted": "2021-07-23--2021-07-30\n2021-07-16--2021-07-23\n2021-07-09--2021-07-16\n2021-07-02--2021-07-09\n2021-06-25--2021-07-02\n2021-06-18--2021-06-25\n2021-06-11--2021-06-18\n2021-06-04--2021-06-11\n2021-05-28--2021-06-04\n2021-05-21--2021-05-28\n2021-05-14--2021-05-21\n2021-05-07--2021-05-14\n2021-04-30--2021-05-07\n2021-04-23--2021-04-30\n2021-04-16--2021-04-23\n2021-04-09--2021-04-16\n2021-04-02--2021-04-09\n2021-03-26--2021-04-02\n2021-03-19--2021-03-26\n2021-03-12--2021-03-19\n2021-03-05--2021-03-12\n2021-02-26--2021-03-05\n2021-02-19--2021-02-26\n2021-02-12--2021-02-19\n2021-02-05--2021-02-12\n2021-01-29--2021-02-05\n2021-01-22--2021-01-29\n2021-01-15--2021-01-22\n2021-01-08--2021-01-15\n2021-01-01--2021-01-08\n2020-12-25--2021-01-01\n2020-12-18--2020-12-25\n2020-12-11--2020-12-18\n2020-12-04--2020-12-11\n2020-11-27--2020-12-04\n2020-11-20--2020-11-27\n2020-11-13--2020-11-20\n2020-11-06--2020-11-13\n2020-10-30--2020-11-06",
         "_deepnote_index_column": 44,
         "weekday": "Wednesday"
        },
        {
         "Acousticness": "0.398",
         "Artist": "Wisin, Jhay Cortez, Anuel AA, Los Legendarios, Myke Towers",
         "Artist Followers": "6929075",
         "Chord": "F#/Gb",
         "Danceability": "0.839",
         "Duration (ms)": "349547",
         "Energy": 0.711,
         "Genre": "['latin', 'latin hip hop', 'reggaeton', 'trap latino']",
         "Highest Charting Position": 29,
         "Index": 49,
         "Liveness": "0.118",
         "Loudness": "-4.733",
         "Number of Times Charted": 6,
         "Popularity": "89",
         "Release Date": "2021-06-15",
         "Song ID": "43qcs9NpJhDxtG91zxFkj7",
         "Song Name": "Fiel - Remix",
         "Speechiness": "0.0473",
         "Streams": "10,032,746",
         "Tempo": "97.99",
         "Valence": "0.573",
         "Week of Highest Charting": "2021-06-25--2021-07-02",
         "Weeks Charted": "2021-07-23--2021-07-30\n2021-07-16--2021-07-23\n2021-07-09--2021-07-16\n2021-07-02--2021-07-09\n2021-06-25--2021-07-02\n2021-06-18--2021-06-25",
         "_deepnote_index_column": 48,
         "weekday": "Tuesday"
        },
        {
         "Acousticness": "0.0913",
         "Artist": "Bizarrap, Nicky Jam",
         "Artist Followers": "3126961",
         "Chord": "C#/Db",
         "Danceability": "0.627",
         "Duration (ms)": "158087",
         "Energy": 0.849,
         "Genre": "['argentine hip hop', 'pop venezolano', 'trap argentino', 'trap latino']",
         "Highest Charting Position": 19,
         "Index": 51,
         "Liveness": "0.145",
         "Loudness": "-3.167",
         "Number of Times Charted": 4,
         "Popularity": "88",
         "Release Date": "2021-06-30",
         "Song ID": "03LfOYi0icz4souspZVVhq",
         "Song Name": "Nicky Jam: Bzrp Music Sessions, Vol. 41",
         "Speechiness": "0.153",
         "Streams": "9,799,701",
         "Tempo": "89.907",
         "Valence": "0.818",
         "Week of Highest Charting": "2021-07-02--2021-07-09",
         "Weeks Charted": "2021-07-23--2021-07-30\n2021-07-16--2021-07-23\n2021-07-09--2021-07-16\n2021-07-02--2021-07-09",
         "_deepnote_index_column": 50,
         "weekday": "Wednesday"
        },
        {
         "Acousticness": "0.369",
         "Artist": "João Gomes",
         "Artist Followers": "409173",
         "Chord": "B",
         "Danceability": "0.668",
         "Duration (ms)": "157176",
         "Energy": 0.887,
         "Genre": "[]",
         "Highest Charting Position": 57,
         "Index": 57,
         "Liveness": "0.257",
         "Loudness": "-4.404",
         "Number of Times Charted": 5,
         "Popularity": "83",
         "Release Date": "2021-06-01",
         "Song ID": "2kJRlOyrxsy7Ot3c5TZ8Q6",
         "Song Name": "Meu Pedaço de Pecado",
         "Speechiness": "0.0564",
         "Streams": "9,206,366",
         "Tempo": "151.92",
         "Valence": "0.907",
         "Week of Highest Charting": "2021-07-23--2021-07-30",
         "Weeks Charted": "2021-07-23--2021-07-30\n2021-07-16--2021-07-23\n2021-07-09--2021-07-16\n2021-07-02--2021-07-09\n2021-06-25--2021-07-02",
         "_deepnote_index_column": 56,
         "weekday": "Tuesday"
        },
        {
         "Acousticness": "0.326",
         "Artist": "OneRepublic",
         "Artist Followers": "12169108",
         "Chord": "B",
         "Danceability": "0.682",
         "Duration (ms)": "169011",
         "Energy": 0.72,
         "Genre": "['dance pop', 'piano rock', 'pop', 'pop rock']",
         "Highest Charting Position": 31,
         "Index": 60,
         "Liveness": "0.148",
         "Loudness": "-8.173",
         "Number of Times Charted": 15,
         "Popularity": "88",
         "Release Date": "2021-05-05",
         "Song ID": "2UbVnbE5FH6008mAm6Mmgw",
         "Song Name": "Run",
         "Speechiness": "0.0381",
         "Streams": "9,017,356",
         "Tempo": "117.003",
         "Valence": "0.673",
         "Week of Highest Charting": "2020-02-07--2020-02-14",
         "Weeks Charted": "2021-07-23--2021-07-30\n2021-07-16--2021-07-23\n2021-07-09--2021-07-16\n2021-07-02--2021-07-09\n2021-06-25--2021-07-02\n2021-06-18--2021-06-25\n2021-06-11--2021-06-18\n2021-06-04--2021-06-11\n2021-05-28--2021-06-04\n2021-05-21--2021-05-28\n2021-05-14--2021-05-21\n2021-05-07--2021-05-14\n2020-09-25--2020-10-02\n2020-02-14--2020-02-21\n2020-02-07--2020-02-14",
         "_deepnote_index_column": 59,
         "weekday": "Wednesday"
        },
        {
         "Acousticness": "0.492",
         "Artist": "Sleepy Hallow",
         "Artist Followers": "408696",
         "Chord": "F#/Gb",
         "Danceability": "0.829",
         "Duration (ms)": "123987",
         "Energy": 0.512,
         "Genre": "['brooklyn drill', 'nyc rap']",
         "Highest Charting Position": 72,
         "Index": 72,
         "Liveness": "0.12",
         "Loudness": "-5.865",
         "Number of Times Charted": 2,
         "Popularity": "85",
         "Release Date": "2021-06-02",
         "Song ID": "4XvcHTUfIlWfyJTRG0aqlo",
         "Song Name": "2055",
         "Speechiness": "0.187",
         "Streams": "8,133,401",
         "Tempo": "80.511",
         "Valence": "0.638",
         "Week of Highest Charting": "2021-07-23--2021-07-30",
         "Weeks Charted": "2021-07-23--2021-07-30\n2021-07-16--2021-07-23",
         "_deepnote_index_column": 71,
         "weekday": "Wednesday"
        },
        {
         "Acousticness": "0.305",
         "Artist": "Natti Natasha, Becky G",
         "Artist Followers": "6341942",
         "Chord": "F",
         "Danceability": "0.908",
         "Duration (ms)": "200785",
         "Energy": 0.813,
         "Genre": "['latin', 'latin pop', 'rap latina', 'reggaeton', 'trap latino']",
         "Highest Charting Position": 75,
         "Index": 95,
         "Liveness": "0.278",
         "Loudness": "-2.749",
         "Number of Times Charted": 10,
         "Popularity": "86",
         "Release Date": "2021-04-20",
         "Song ID": "4DHDIdeayp8xvlyg22wREO",
         "Song Name": "Ram Pam Pam",
         "Speechiness": "0.0777",
         "Streams": "7,064,003",
         "Tempo": "97.018",
         "Valence": "0.924",
         "Week of Highest Charting": "2021-07-02--2021-07-09",
         "Weeks Charted": "2021-07-23--2021-07-30\n2021-07-16--2021-07-23\n2021-07-09--2021-07-16\n2021-07-02--2021-07-09\n2021-06-25--2021-07-02\n2021-06-18--2021-06-25\n2021-06-11--2021-06-18\n2021-06-04--2021-06-11\n2021-05-28--2021-06-04\n2021-05-21--2021-05-28",
         "_deepnote_index_column": 94,
         "weekday": "Tuesday"
        },
        {
         "Acousticness": "0.0021",
         "Artist": "WILLOW",
         "Artist Followers": "1521837",
         "Chord": "B",
         "Danceability": "0.39",
         "Duration (ms)": "168030",
         "Energy": 0.83,
         "Genre": "['afrofuturism', 'dance pop', 'electropop', 'pop', 'pop rap', 'post-teen pop']",
         "Highest Charting Position": 60,
         "Index": 98,
         "Liveness": "0.156",
         "Loudness": "-5.201",
         "Number of Times Charted": 8,
         "Popularity": "85",
         "Release Date": "2021-04-27",
         "Song ID": "1QL7nSDZCwZMnbisV4KOXt",
         "Song Name": "t r a n s p a r e n t s o u l feat. Travis Barker",
         "Speechiness": "0.0563",
         "Streams": "6,853,994",
         "Tempo": "90.021",
         "Valence": "0.191",
         "Week of Highest Charting": "2021-06-18--2021-06-25",
         "Weeks Charted": "2021-07-23--2021-07-30\n2021-07-16--2021-07-23\n2021-07-09--2021-07-16\n2021-07-02--2021-07-09\n2021-06-25--2021-07-02\n2021-06-18--2021-06-25\n2021-06-11--2021-06-18\n2021-06-04--2021-06-11",
         "_deepnote_index_column": 97,
         "weekday": "Tuesday"
        }
       ]
      },
      "text/html": [
       "<div>\n",
       "<style scoped>\n",
       "    .dataframe tbody tr th:only-of-type {\n",
       "        vertical-align: middle;\n",
       "    }\n",
       "\n",
       "    .dataframe tbody tr th {\n",
       "        vertical-align: top;\n",
       "    }\n",
       "\n",
       "    .dataframe thead th {\n",
       "        text-align: right;\n",
       "    }\n",
       "</style>\n",
       "<table border=\"1\" class=\"dataframe\">\n",
       "  <thead>\n",
       "    <tr style=\"text-align: right;\">\n",
       "      <th></th>\n",
       "      <th>Index</th>\n",
       "      <th>Highest Charting Position</th>\n",
       "      <th>Number of Times Charted</th>\n",
       "      <th>Week of Highest Charting</th>\n",
       "      <th>Song Name</th>\n",
       "      <th>Streams</th>\n",
       "      <th>Artist</th>\n",
       "      <th>Artist Followers</th>\n",
       "      <th>Song ID</th>\n",
       "      <th>Genre</th>\n",
       "      <th>...</th>\n",
       "      <th>Energy</th>\n",
       "      <th>Loudness</th>\n",
       "      <th>Speechiness</th>\n",
       "      <th>Acousticness</th>\n",
       "      <th>Liveness</th>\n",
       "      <th>Tempo</th>\n",
       "      <th>Duration (ms)</th>\n",
       "      <th>Valence</th>\n",
       "      <th>Chord</th>\n",
       "      <th>weekday</th>\n",
       "    </tr>\n",
       "  </thead>\n",
       "  <tbody>\n",
       "    <tr>\n",
       "      <th>5</th>\n",
       "      <td>6</td>\n",
       "      <td>1</td>\n",
       "      <td>18</td>\n",
       "      <td>2021-05-07--2021-05-14</td>\n",
       "      <td>MONTERO (Call Me By Your Name)</td>\n",
       "      <td>30,071,134</td>\n",
       "      <td>Lil Nas X</td>\n",
       "      <td>5473565</td>\n",
       "      <td>67BtfxlNbhBmCDR2L2l8qd</td>\n",
       "      <td>['lgbtq+ hip hop', 'pop rap']</td>\n",
       "      <td>...</td>\n",
       "      <td>0.508</td>\n",
       "      <td>-6.682</td>\n",
       "      <td>0.152</td>\n",
       "      <td>0.297</td>\n",
       "      <td>0.384</td>\n",
       "      <td>178.818</td>\n",
       "      <td>137876</td>\n",
       "      <td>0.758</td>\n",
       "      <td>G#/Ab</td>\n",
       "      <td>Wednesday</td>\n",
       "    </tr>\n",
       "    <tr>\n",
       "      <th>29</th>\n",
       "      <td>30</td>\n",
       "      <td>3</td>\n",
       "      <td>28</td>\n",
       "      <td>2021-04-02--2021-04-09</td>\n",
       "      <td>Astronaut In The Ocean</td>\n",
       "      <td>14,174,752</td>\n",
       "      <td>Masked Wolf</td>\n",
       "      <td>365975</td>\n",
       "      <td>3Ofmpyhv5UAQ70mENzB277</td>\n",
       "      <td>['australian hip hop']</td>\n",
       "      <td>...</td>\n",
       "      <td>0.695</td>\n",
       "      <td>-6.865</td>\n",
       "      <td>0.0913</td>\n",
       "      <td>0.175</td>\n",
       "      <td>0.15</td>\n",
       "      <td>149.996</td>\n",
       "      <td>132780</td>\n",
       "      <td>0.472</td>\n",
       "      <td>E</td>\n",
       "      <td>Wednesday</td>\n",
       "    </tr>\n",
       "    <tr>\n",
       "      <th>44</th>\n",
       "      <td>45</td>\n",
       "      <td>9</td>\n",
       "      <td>39</td>\n",
       "      <td>2021-02-26--2021-03-05</td>\n",
       "      <td>The Business</td>\n",
       "      <td>10,739,770</td>\n",
       "      <td>Tiësto</td>\n",
       "      <td>5785065</td>\n",
       "      <td>6f3Slt0GbA2bPZlz0aIFXN</td>\n",
       "      <td>['big room', 'brostep', 'dance pop', 'dutch ed...</td>\n",
       "      <td>...</td>\n",
       "      <td>0.620</td>\n",
       "      <td>-7.079</td>\n",
       "      <td>0.232</td>\n",
       "      <td>0.414</td>\n",
       "      <td>0.112</td>\n",
       "      <td>120.031</td>\n",
       "      <td>164000</td>\n",
       "      <td>0.235</td>\n",
       "      <td>G#/Ab</td>\n",
       "      <td>Wednesday</td>\n",
       "    </tr>\n",
       "    <tr>\n",
       "      <th>48</th>\n",
       "      <td>49</td>\n",
       "      <td>29</td>\n",
       "      <td>6</td>\n",
       "      <td>2021-06-25--2021-07-02</td>\n",
       "      <td>Fiel - Remix</td>\n",
       "      <td>10,032,746</td>\n",
       "      <td>Wisin, Jhay Cortez, Anuel AA, Los Legendarios,...</td>\n",
       "      <td>6929075</td>\n",
       "      <td>43qcs9NpJhDxtG91zxFkj7</td>\n",
       "      <td>['latin', 'latin hip hop', 'reggaeton', 'trap ...</td>\n",
       "      <td>...</td>\n",
       "      <td>0.711</td>\n",
       "      <td>-4.733</td>\n",
       "      <td>0.0473</td>\n",
       "      <td>0.398</td>\n",
       "      <td>0.118</td>\n",
       "      <td>97.99</td>\n",
       "      <td>349547</td>\n",
       "      <td>0.573</td>\n",
       "      <td>F#/Gb</td>\n",
       "      <td>Tuesday</td>\n",
       "    </tr>\n",
       "    <tr>\n",
       "      <th>50</th>\n",
       "      <td>51</td>\n",
       "      <td>19</td>\n",
       "      <td>4</td>\n",
       "      <td>2021-07-02--2021-07-09</td>\n",
       "      <td>Nicky Jam: Bzrp Music Sessions, Vol. 41</td>\n",
       "      <td>9,799,701</td>\n",
       "      <td>Bizarrap, Nicky Jam</td>\n",
       "      <td>3126961</td>\n",
       "      <td>03LfOYi0icz4souspZVVhq</td>\n",
       "      <td>['argentine hip hop', 'pop venezolano', 'trap ...</td>\n",
       "      <td>...</td>\n",
       "      <td>0.849</td>\n",
       "      <td>-3.167</td>\n",
       "      <td>0.153</td>\n",
       "      <td>0.0913</td>\n",
       "      <td>0.145</td>\n",
       "      <td>89.907</td>\n",
       "      <td>158087</td>\n",
       "      <td>0.818</td>\n",
       "      <td>C#/Db</td>\n",
       "      <td>Wednesday</td>\n",
       "    </tr>\n",
       "    <tr>\n",
       "      <th>...</th>\n",
       "      <td>...</td>\n",
       "      <td>...</td>\n",
       "      <td>...</td>\n",
       "      <td>...</td>\n",
       "      <td>...</td>\n",
       "      <td>...</td>\n",
       "      <td>...</td>\n",
       "      <td>...</td>\n",
       "      <td>...</td>\n",
       "      <td>...</td>\n",
       "      <td>...</td>\n",
       "      <td>...</td>\n",
       "      <td>...</td>\n",
       "      <td>...</td>\n",
       "      <td>...</td>\n",
       "      <td>...</td>\n",
       "      <td>...</td>\n",
       "      <td>...</td>\n",
       "      <td>...</td>\n",
       "      <td>...</td>\n",
       "      <td>...</td>\n",
       "    </tr>\n",
       "    <tr>\n",
       "      <th>1457</th>\n",
       "      <td>1458</td>\n",
       "      <td>136</td>\n",
       "      <td>1</td>\n",
       "      <td>2020-01-31--2020-02-07</td>\n",
       "      <td>Mon Ami</td>\n",
       "      <td>5,774,770</td>\n",
       "      <td>Samra</td>\n",
       "      <td>1045091</td>\n",
       "      <td>1R4xkZXQUQ8QJtAdwHkSgC</td>\n",
       "      <td>['german hip hop']</td>\n",
       "      <td>...</td>\n",
       "      <td>0.731</td>\n",
       "      <td>-3.723</td>\n",
       "      <td>0.383</td>\n",
       "      <td>0.188</td>\n",
       "      <td>0.111</td>\n",
       "      <td>105.666</td>\n",
       "      <td>138409</td>\n",
       "      <td>0.537</td>\n",
       "      <td>G#/Ab</td>\n",
       "      <td>Wednesday</td>\n",
       "    </tr>\n",
       "    <tr>\n",
       "      <th>1464</th>\n",
       "      <td>1465</td>\n",
       "      <td>106</td>\n",
       "      <td>6</td>\n",
       "      <td>2020-01-03--2020-01-10</td>\n",
       "      <td>Liar</td>\n",
       "      <td>4,896,939</td>\n",
       "      <td>Camila Cabello</td>\n",
       "      <td>22698747</td>\n",
       "      <td>7LzouaWGFCy4tkXDOOnEyM</td>\n",
       "      <td>['dance pop', 'electropop', 'pop', 'post-teen ...</td>\n",
       "      <td>...</td>\n",
       "      <td>0.498</td>\n",
       "      <td>-6.684</td>\n",
       "      <td>0.0456</td>\n",
       "      <td>0.0169</td>\n",
       "      <td>0.319</td>\n",
       "      <td>98.016</td>\n",
       "      <td>207039</td>\n",
       "      <td>0.652</td>\n",
       "      <td>B</td>\n",
       "      <td>Wednesday</td>\n",
       "    </tr>\n",
       "    <tr>\n",
       "      <th>1547</th>\n",
       "      <td>1548</td>\n",
       "      <td>156</td>\n",
       "      <td>1</td>\n",
       "      <td>2019-12-27--2020-01-03</td>\n",
       "      <td>Combatchy (feat. MC Rebecca)</td>\n",
       "      <td>5,149,797</td>\n",
       "      <td>Anitta, Lexa, Luísa Sonza</td>\n",
       "      <td>10741972</td>\n",
       "      <td>2bPtwnrpFNEe8N7Q85kLHw</td>\n",
       "      <td>['funk carioca', 'funk pop', 'pagode baiano', ...</td>\n",
       "      <td>...</td>\n",
       "      <td>0.730</td>\n",
       "      <td>-3.032</td>\n",
       "      <td>0.0809</td>\n",
       "      <td>0.383</td>\n",
       "      <td>0.0197</td>\n",
       "      <td>150.134</td>\n",
       "      <td>157600</td>\n",
       "      <td>0.605</td>\n",
       "      <td>C#/Db</td>\n",
       "      <td>Wednesday</td>\n",
       "    </tr>\n",
       "    <tr>\n",
       "      <th>1554</th>\n",
       "      <td>1555</td>\n",
       "      <td>198</td>\n",
       "      <td>1</td>\n",
       "      <td>2019-12-27--2020-01-03</td>\n",
       "      <td>Surtada - Remix Brega Funk</td>\n",
       "      <td>4,607,385</td>\n",
       "      <td>Dadá Boladão, Tati Zaqui, OIK</td>\n",
       "      <td>208630</td>\n",
       "      <td>5F8ffc8KWKNawllr5WsW0r</td>\n",
       "      <td>['brega funk', 'funk carioca']</td>\n",
       "      <td>...</td>\n",
       "      <td>0.550</td>\n",
       "      <td>-7.026</td>\n",
       "      <td>0.0587</td>\n",
       "      <td>0.249</td>\n",
       "      <td>0.182</td>\n",
       "      <td>154.064</td>\n",
       "      <td>152784</td>\n",
       "      <td>0.881</td>\n",
       "      <td>F</td>\n",
       "      <td>Wednesday</td>\n",
       "    </tr>\n",
       "    <tr>\n",
       "      <th>1555</th>\n",
       "      <td>1556</td>\n",
       "      <td>199</td>\n",
       "      <td>1</td>\n",
       "      <td>2019-12-27--2020-01-03</td>\n",
       "      <td>Lover (Remix) [feat. Shawn Mendes]</td>\n",
       "      <td>4,595,450</td>\n",
       "      <td>Taylor Swift</td>\n",
       "      <td>42227614</td>\n",
       "      <td>3i9UVldZOE0aD0JnyfAZZ0</td>\n",
       "      <td>['pop', 'post-teen pop']</td>\n",
       "      <td>...</td>\n",
       "      <td>0.603</td>\n",
       "      <td>-7.176</td>\n",
       "      <td>0.064</td>\n",
       "      <td>0.433</td>\n",
       "      <td>0.0862</td>\n",
       "      <td>205.272</td>\n",
       "      <td>221307</td>\n",
       "      <td>0.422</td>\n",
       "      <td>G</td>\n",
       "      <td>Wednesday</td>\n",
       "    </tr>\n",
       "  </tbody>\n",
       "</table>\n",
       "<p>121 rows × 24 columns</p>\n",
       "</div>"
      ],
      "text/plain": [
       "      Index  Highest Charting Position  Number of Times Charted  \\\n",
       "5         6                          1                       18   \n",
       "29       30                          3                       28   \n",
       "44       45                          9                       39   \n",
       "48       49                         29                        6   \n",
       "50       51                         19                        4   \n",
       "...     ...                        ...                      ...   \n",
       "1457   1458                        136                        1   \n",
       "1464   1465                        106                        6   \n",
       "1547   1548                        156                        1   \n",
       "1554   1555                        198                        1   \n",
       "1555   1556                        199                        1   \n",
       "\n",
       "     Week of Highest Charting                                Song Name  \\\n",
       "5      2021-05-07--2021-05-14           MONTERO (Call Me By Your Name)   \n",
       "29     2021-04-02--2021-04-09                   Astronaut In The Ocean   \n",
       "44     2021-02-26--2021-03-05                             The Business   \n",
       "48     2021-06-25--2021-07-02                             Fiel - Remix   \n",
       "50     2021-07-02--2021-07-09  Nicky Jam: Bzrp Music Sessions, Vol. 41   \n",
       "...                       ...                                      ...   \n",
       "1457   2020-01-31--2020-02-07                                  Mon Ami   \n",
       "1464   2020-01-03--2020-01-10                                     Liar   \n",
       "1547   2019-12-27--2020-01-03             Combatchy (feat. MC Rebecca)   \n",
       "1554   2019-12-27--2020-01-03               Surtada - Remix Brega Funk   \n",
       "1555   2019-12-27--2020-01-03       Lover (Remix) [feat. Shawn Mendes]   \n",
       "\n",
       "         Streams                                             Artist  \\\n",
       "5     30,071,134                                          Lil Nas X   \n",
       "29    14,174,752                                        Masked Wolf   \n",
       "44    10,739,770                                             Tiësto   \n",
       "48    10,032,746  Wisin, Jhay Cortez, Anuel AA, Los Legendarios,...   \n",
       "50     9,799,701                                Bizarrap, Nicky Jam   \n",
       "...          ...                                                ...   \n",
       "1457   5,774,770                                              Samra   \n",
       "1464   4,896,939                                     Camila Cabello   \n",
       "1547   5,149,797                          Anitta, Lexa, Luísa Sonza   \n",
       "1554   4,607,385                      Dadá Boladão, Tati Zaqui, OIK   \n",
       "1555   4,595,450                                       Taylor Swift   \n",
       "\n",
       "     Artist Followers                 Song ID  \\\n",
       "5             5473565  67BtfxlNbhBmCDR2L2l8qd   \n",
       "29             365975  3Ofmpyhv5UAQ70mENzB277   \n",
       "44            5785065  6f3Slt0GbA2bPZlz0aIFXN   \n",
       "48            6929075  43qcs9NpJhDxtG91zxFkj7   \n",
       "50            3126961  03LfOYi0icz4souspZVVhq   \n",
       "...               ...                     ...   \n",
       "1457          1045091  1R4xkZXQUQ8QJtAdwHkSgC   \n",
       "1464         22698747  7LzouaWGFCy4tkXDOOnEyM   \n",
       "1547         10741972  2bPtwnrpFNEe8N7Q85kLHw   \n",
       "1554           208630  5F8ffc8KWKNawllr5WsW0r   \n",
       "1555         42227614  3i9UVldZOE0aD0JnyfAZZ0   \n",
       "\n",
       "                                                  Genre  ... Energy Loudness  \\\n",
       "5                         ['lgbtq+ hip hop', 'pop rap']  ...  0.508   -6.682   \n",
       "29                               ['australian hip hop']  ...  0.695   -6.865   \n",
       "44    ['big room', 'brostep', 'dance pop', 'dutch ed...  ...  0.620   -7.079   \n",
       "48    ['latin', 'latin hip hop', 'reggaeton', 'trap ...  ...  0.711   -4.733   \n",
       "50    ['argentine hip hop', 'pop venezolano', 'trap ...  ...  0.849   -3.167   \n",
       "...                                                 ...  ...    ...      ...   \n",
       "1457                                 ['german hip hop']  ...  0.731   -3.723   \n",
       "1464  ['dance pop', 'electropop', 'pop', 'post-teen ...  ...  0.498   -6.684   \n",
       "1547  ['funk carioca', 'funk pop', 'pagode baiano', ...  ...  0.730   -3.032   \n",
       "1554                     ['brega funk', 'funk carioca']  ...  0.550   -7.026   \n",
       "1555                           ['pop', 'post-teen pop']  ...  0.603   -7.176   \n",
       "\n",
       "     Speechiness Acousticness  Liveness    Tempo Duration (ms) Valence  Chord  \\\n",
       "5          0.152        0.297     0.384  178.818        137876   0.758  G#/Ab   \n",
       "29        0.0913        0.175      0.15  149.996        132780   0.472      E   \n",
       "44         0.232        0.414     0.112  120.031        164000   0.235  G#/Ab   \n",
       "48        0.0473        0.398     0.118    97.99        349547   0.573  F#/Gb   \n",
       "50         0.153       0.0913     0.145   89.907        158087   0.818  C#/Db   \n",
       "...          ...          ...       ...      ...           ...     ...    ...   \n",
       "1457       0.383        0.188     0.111  105.666        138409   0.537  G#/Ab   \n",
       "1464      0.0456       0.0169     0.319   98.016        207039   0.652      B   \n",
       "1547      0.0809        0.383    0.0197  150.134        157600   0.605  C#/Db   \n",
       "1554      0.0587        0.249     0.182  154.064        152784   0.881      F   \n",
       "1555       0.064        0.433    0.0862  205.272        221307   0.422      G   \n",
       "\n",
       "        weekday  \n",
       "5     Wednesday  \n",
       "29    Wednesday  \n",
       "44    Wednesday  \n",
       "48      Tuesday  \n",
       "50    Wednesday  \n",
       "...         ...  \n",
       "1457  Wednesday  \n",
       "1464  Wednesday  \n",
       "1547  Wednesday  \n",
       "1554  Wednesday  \n",
       "1555  Wednesday  \n",
       "\n",
       "[121 rows x 24 columns]"
      ]
     },
     "execution_count": 12,
     "metadata": {},
     "output_type": "execute_result"
    }
   ],
   "source": [
    "#Another option, if you insist on list comprehension :)\n",
    "good_rows = [c for c in df.index if (df.loc[c,\"weekday\"] == \"Tuesday\") |(df.loc[c,\"weekday\"] == \"Wednesday\")]\n",
    "df.loc[good_rows]"
   ]
  },
  {
   "cell_type": "markdown",
   "metadata": {
    "cell_id": "b8bbd38bbc944a009110b3bb06664a93",
    "deepnote_cell_height": 70,
    "deepnote_cell_type": "markdown",
    "tags": []
   },
   "source": [
    "## Question 3"
   ]
  },
  {
   "cell_type": "code",
   "execution_count": null,
   "metadata": {
    "cell_id": "ea8dc0362ce743049737c50916f17983",
    "deepnote_cell_height": 457,
    "deepnote_cell_type": "code",
    "deepnote_to_be_reexecuted": false,
    "execution_millis": 90,
    "execution_start": 1650411491536,
    "source_hash": "1ed10047",
    "tags": []
   },
   "outputs": [
    {
     "data": {
      "application/vnd.deepnote.dataframe.v3+json": {
       "column_count": 10,
       "columns": [
        {
         "dtype": "int64",
         "name": 0,
         "stats": {
          "histogram": [
           {
            "bin_end": 0.4,
            "bin_start": 0,
            "count": 1
           },
           {
            "bin_end": 0.8,
            "bin_start": 0.4,
            "count": 0
           },
           {
            "bin_end": 1.2000000000000002,
            "bin_start": 0.8,
            "count": 0
           },
           {
            "bin_end": 1.6,
            "bin_start": 1.2000000000000002,
            "count": 0
           },
           {
            "bin_end": 2,
            "bin_start": 1.6,
            "count": 0
           },
           {
            "bin_end": 2.4000000000000004,
            "bin_start": 2,
            "count": 1
           },
           {
            "bin_end": 2.8000000000000003,
            "bin_start": 2.4000000000000004,
            "count": 0
           },
           {
            "bin_end": 3.2,
            "bin_start": 2.8000000000000003,
            "count": 0
           },
           {
            "bin_end": 3.6,
            "bin_start": 3.2,
            "count": 0
           },
           {
            "bin_end": 4,
            "bin_start": 3.6,
            "count": 1
           }
          ],
          "max": "4",
          "min": "0",
          "nan_count": 0,
          "unique_count": 3
         }
        },
        {
         "dtype": "int64",
         "name": 1,
         "stats": {
          "histogram": [
           {
            "bin_end": 2.2,
            "bin_start": 2,
            "count": 1
           },
           {
            "bin_end": 2.4,
            "bin_start": 2.2,
            "count": 0
           },
           {
            "bin_end": 2.6,
            "bin_start": 2.4,
            "count": 0
           },
           {
            "bin_end": 2.8,
            "bin_start": 2.6,
            "count": 0
           },
           {
            "bin_end": 3,
            "bin_start": 2.8,
            "count": 0
           },
           {
            "bin_end": 3.2,
            "bin_start": 3,
            "count": 0
           },
           {
            "bin_end": 3.4000000000000004,
            "bin_start": 3.2,
            "count": 0
           },
           {
            "bin_end": 3.6,
            "bin_start": 3.4000000000000004,
            "count": 0
           },
           {
            "bin_end": 3.8,
            "bin_start": 3.6,
            "count": 0
           },
           {
            "bin_end": 4,
            "bin_start": 3.8,
            "count": 2
           }
          ],
          "max": "4",
          "min": "2",
          "nan_count": 0,
          "unique_count": 2
         }
        },
        {
         "dtype": "int64",
         "name": 2,
         "stats": {
          "histogram": [
           {
            "bin_end": 2.3,
            "bin_start": 2,
            "count": 1
           },
           {
            "bin_end": 2.6,
            "bin_start": 2.3,
            "count": 0
           },
           {
            "bin_end": 2.9,
            "bin_start": 2.6,
            "count": 0
           },
           {
            "bin_end": 3.2,
            "bin_start": 2.9,
            "count": 1
           },
           {
            "bin_end": 3.5,
            "bin_start": 3.2,
            "count": 0
           },
           {
            "bin_end": 3.8,
            "bin_start": 3.5,
            "count": 0
           },
           {
            "bin_end": 4.1,
            "bin_start": 3.8,
            "count": 0
           },
           {
            "bin_end": 4.4,
            "bin_start": 4.1,
            "count": 0
           },
           {
            "bin_end": 4.699999999999999,
            "bin_start": 4.4,
            "count": 0
           },
           {
            "bin_end": 5,
            "bin_start": 4.699999999999999,
            "count": 1
           }
          ],
          "max": "5",
          "min": "2",
          "nan_count": 0,
          "unique_count": 3
         }
        },
        {
         "dtype": "int64",
         "name": 3,
         "stats": {
          "histogram": [
           {
            "bin_end": 0.2,
            "bin_start": 0,
            "count": 2
           },
           {
            "bin_end": 0.4,
            "bin_start": 0.2,
            "count": 0
           },
           {
            "bin_end": 0.6000000000000001,
            "bin_start": 0.4,
            "count": 0
           },
           {
            "bin_end": 0.8,
            "bin_start": 0.6000000000000001,
            "count": 0
           },
           {
            "bin_end": 1,
            "bin_start": 0.8,
            "count": 0
           },
           {
            "bin_end": 1.2000000000000002,
            "bin_start": 1,
            "count": 0
           },
           {
            "bin_end": 1.4000000000000001,
            "bin_start": 1.2000000000000002,
            "count": 0
           },
           {
            "bin_end": 1.6,
            "bin_start": 1.4000000000000001,
            "count": 0
           },
           {
            "bin_end": 1.8,
            "bin_start": 1.6,
            "count": 0
           },
           {
            "bin_end": 2,
            "bin_start": 1.8,
            "count": 1
           }
          ],
          "max": "2",
          "min": "0",
          "nan_count": 0,
          "unique_count": 2
         }
        },
        {
         "dtype": "int64",
         "name": 4,
         "stats": {
          "histogram": [
           {
            "bin_end": 0.3,
            "bin_start": 0,
            "count": 1
           },
           {
            "bin_end": 0.6,
            "bin_start": 0.3,
            "count": 0
           },
           {
            "bin_end": 0.8999999999999999,
            "bin_start": 0.6,
            "count": 0
           },
           {
            "bin_end": 1.2,
            "bin_start": 0.8999999999999999,
            "count": 0
           },
           {
            "bin_end": 1.5,
            "bin_start": 1.2,
            "count": 0
           },
           {
            "bin_end": 1.7999999999999998,
            "bin_start": 1.5,
            "count": 0
           },
           {
            "bin_end": 2.1,
            "bin_start": 1.7999999999999998,
            "count": 0
           },
           {
            "bin_end": 2.4,
            "bin_start": 2.1,
            "count": 0
           },
           {
            "bin_end": 2.6999999999999997,
            "bin_start": 2.4,
            "count": 0
           },
           {
            "bin_end": 3,
            "bin_start": 2.6999999999999997,
            "count": 2
           }
          ],
          "max": "3",
          "min": "0",
          "nan_count": 0,
          "unique_count": 2
         }
        },
        {
         "dtype": "int64",
         "name": 5,
         "stats": {
          "histogram": [
           {
            "bin_end": 2.3,
            "bin_start": 2,
            "count": 1
           },
           {
            "bin_end": 2.6,
            "bin_start": 2.3,
            "count": 0
           },
           {
            "bin_end": 2.9,
            "bin_start": 2.6,
            "count": 0
           },
           {
            "bin_end": 3.2,
            "bin_start": 2.9,
            "count": 1
           },
           {
            "bin_end": 3.5,
            "bin_start": 3.2,
            "count": 0
           },
           {
            "bin_end": 3.8,
            "bin_start": 3.5,
            "count": 0
           },
           {
            "bin_end": 4.1,
            "bin_start": 3.8,
            "count": 0
           },
           {
            "bin_end": 4.4,
            "bin_start": 4.1,
            "count": 0
           },
           {
            "bin_end": 4.699999999999999,
            "bin_start": 4.4,
            "count": 0
           },
           {
            "bin_end": 5,
            "bin_start": 4.699999999999999,
            "count": 1
           }
          ],
          "max": "5",
          "min": "2",
          "nan_count": 0,
          "unique_count": 3
         }
        },
        {
         "dtype": "int64",
         "name": 6,
         "stats": {
          "histogram": [
           {
            "bin_end": 0.4,
            "bin_start": 0,
            "count": 1
           },
           {
            "bin_end": 0.8,
            "bin_start": 0.4,
            "count": 0
           },
           {
            "bin_end": 1.2000000000000002,
            "bin_start": 0.8,
            "count": 0
           },
           {
            "bin_end": 1.6,
            "bin_start": 1.2000000000000002,
            "count": 0
           },
           {
            "bin_end": 2,
            "bin_start": 1.6,
            "count": 0
           },
           {
            "bin_end": 2.4000000000000004,
            "bin_start": 2,
            "count": 0
           },
           {
            "bin_end": 2.8000000000000003,
            "bin_start": 2.4000000000000004,
            "count": 0
           },
           {
            "bin_end": 3.2,
            "bin_start": 2.8000000000000003,
            "count": 0
           },
           {
            "bin_end": 3.6,
            "bin_start": 3.2,
            "count": 0
           },
           {
            "bin_end": 4,
            "bin_start": 3.6,
            "count": 2
           }
          ],
          "max": "4",
          "min": "0",
          "nan_count": 0,
          "unique_count": 2
         }
        },
        {
         "dtype": "int64",
         "name": 7,
         "stats": {
          "histogram": [
           {
            "bin_end": 2.3,
            "bin_start": 2,
            "count": 2
           },
           {
            "bin_end": 2.6,
            "bin_start": 2.3,
            "count": 0
           },
           {
            "bin_end": 2.9,
            "bin_start": 2.6,
            "count": 0
           },
           {
            "bin_end": 3.2,
            "bin_start": 2.9,
            "count": 0
           },
           {
            "bin_end": 3.5,
            "bin_start": 3.2,
            "count": 0
           },
           {
            "bin_end": 3.8,
            "bin_start": 3.5,
            "count": 0
           },
           {
            "bin_end": 4.1,
            "bin_start": 3.8,
            "count": 0
           },
           {
            "bin_end": 4.4,
            "bin_start": 4.1,
            "count": 0
           },
           {
            "bin_end": 4.699999999999999,
            "bin_start": 4.4,
            "count": 0
           },
           {
            "bin_end": 5,
            "bin_start": 4.699999999999999,
            "count": 1
           }
          ],
          "max": "5",
          "min": "2",
          "nan_count": 0,
          "unique_count": 2
         }
        },
        {
         "dtype": "int64",
         "name": 8,
         "stats": {
          "histogram": [
           {
            "bin_end": 0.5,
            "bin_start": 0,
            "count": 1
           },
           {
            "bin_end": 1,
            "bin_start": 0.5,
            "count": 0
           },
           {
            "bin_end": 1.5,
            "bin_start": 1,
            "count": 1
           },
           {
            "bin_end": 2,
            "bin_start": 1.5,
            "count": 0
           },
           {
            "bin_end": 2.5,
            "bin_start": 2,
            "count": 0
           },
           {
            "bin_end": 3,
            "bin_start": 2.5,
            "count": 0
           },
           {
            "bin_end": 3.5,
            "bin_start": 3,
            "count": 0
           },
           {
            "bin_end": 4,
            "bin_start": 3.5,
            "count": 0
           },
           {
            "bin_end": 4.5,
            "bin_start": 4,
            "count": 0
           },
           {
            "bin_end": 5,
            "bin_start": 4.5,
            "count": 1
           }
          ],
          "max": "5",
          "min": "0",
          "nan_count": 0,
          "unique_count": 3
         }
        },
        {
         "dtype": "int64",
         "name": 9,
         "stats": {
          "histogram": [
           {
            "bin_end": 0.3,
            "bin_start": 0,
            "count": 2
           },
           {
            "bin_end": 0.6,
            "bin_start": 0.3,
            "count": 0
           },
           {
            "bin_end": 0.8999999999999999,
            "bin_start": 0.6,
            "count": 0
           },
           {
            "bin_end": 1.2,
            "bin_start": 0.8999999999999999,
            "count": 0
           },
           {
            "bin_end": 1.5,
            "bin_start": 1.2,
            "count": 0
           },
           {
            "bin_end": 1.7999999999999998,
            "bin_start": 1.5,
            "count": 0
           },
           {
            "bin_end": 2.1,
            "bin_start": 1.7999999999999998,
            "count": 0
           },
           {
            "bin_end": 2.4,
            "bin_start": 2.1,
            "count": 0
           },
           {
            "bin_end": 2.6999999999999997,
            "bin_start": 2.4,
            "count": 0
           },
           {
            "bin_end": 3,
            "bin_start": 2.6999999999999997,
            "count": 1
           }
          ],
          "max": "3",
          "min": "0",
          "nan_count": 0,
          "unique_count": 2
         }
        },
        {
         "dtype": "int64",
         "name": "_deepnote_index_column"
        }
       ],
       "row_count": 3,
       "rows": [
        {
         "0": 0,
         "1": 4,
         "2": 5,
         "3": 0,
         "4": 0,
         "5": 5,
         "6": 0,
         "7": 2,
         "8": 0,
         "9": 0,
         "_deepnote_index_column": 0
        },
        {
         "0": 4,
         "1": 4,
         "2": 2,
         "3": 0,
         "4": 3,
         "5": 2,
         "6": 4,
         "7": 5,
         "8": 1,
         "9": 0,
         "_deepnote_index_column": 1
        },
        {
         "0": 2,
         "1": 2,
         "2": 3,
         "3": 2,
         "4": 3,
         "5": 3,
         "6": 4,
         "7": 2,
         "8": 5,
         "9": 3,
         "_deepnote_index_column": 2
        }
       ]
      },
      "text/html": [
       "<div>\n",
       "<style scoped>\n",
       "    .dataframe tbody tr th:only-of-type {\n",
       "        vertical-align: middle;\n",
       "    }\n",
       "\n",
       "    .dataframe tbody tr th {\n",
       "        vertical-align: top;\n",
       "    }\n",
       "\n",
       "    .dataframe thead th {\n",
       "        text-align: right;\n",
       "    }\n",
       "</style>\n",
       "<table border=\"1\" class=\"dataframe\">\n",
       "  <thead>\n",
       "    <tr style=\"text-align: right;\">\n",
       "      <th></th>\n",
       "      <th>0</th>\n",
       "      <th>1</th>\n",
       "      <th>2</th>\n",
       "      <th>3</th>\n",
       "      <th>4</th>\n",
       "      <th>5</th>\n",
       "      <th>6</th>\n",
       "      <th>7</th>\n",
       "      <th>8</th>\n",
       "      <th>9</th>\n",
       "    </tr>\n",
       "  </thead>\n",
       "  <tbody>\n",
       "    <tr>\n",
       "      <th>0</th>\n",
       "      <td>0</td>\n",
       "      <td>4</td>\n",
       "      <td>5</td>\n",
       "      <td>0</td>\n",
       "      <td>0</td>\n",
       "      <td>5</td>\n",
       "      <td>0</td>\n",
       "      <td>2</td>\n",
       "      <td>0</td>\n",
       "      <td>0</td>\n",
       "    </tr>\n",
       "    <tr>\n",
       "      <th>1</th>\n",
       "      <td>4</td>\n",
       "      <td>4</td>\n",
       "      <td>2</td>\n",
       "      <td>0</td>\n",
       "      <td>3</td>\n",
       "      <td>2</td>\n",
       "      <td>4</td>\n",
       "      <td>5</td>\n",
       "      <td>1</td>\n",
       "      <td>0</td>\n",
       "    </tr>\n",
       "    <tr>\n",
       "      <th>2</th>\n",
       "      <td>2</td>\n",
       "      <td>2</td>\n",
       "      <td>3</td>\n",
       "      <td>2</td>\n",
       "      <td>3</td>\n",
       "      <td>3</td>\n",
       "      <td>4</td>\n",
       "      <td>2</td>\n",
       "      <td>5</td>\n",
       "      <td>3</td>\n",
       "    </tr>\n",
       "  </tbody>\n",
       "</table>\n",
       "</div>"
      ],
      "text/plain": [
       "   0  1  2  3  4  5  6  7  8  9\n",
       "0  0  4  5  0  0  5  0  2  0  0\n",
       "1  4  4  2  0  3  2  4  5  1  0\n",
       "2  2  2  3  2  3  3  4  2  5  3"
      ]
     },
     "execution_count": 13,
     "metadata": {},
     "output_type": "execute_result"
    }
   ],
   "source": [
    "import numpy as np \n",
    "rng = np.random.default_rng()\n",
    "A = rng.integers(0,6,size = (10,10))\n",
    "#Do not worry about random numbers! You will not be tested on this.\n",
    "df = pd.DataFrame(A)\n",
    "\n",
    "#df.loc is label-based!!\n",
    "df2 = df.loc[5:,3:].copy()\n",
    "df.head(3)"
   ]
  },
  {
   "cell_type": "markdown",
   "metadata": {
    "cell_id": "4f1a524371f44f559632aaf9098c2b6f",
    "deepnote_cell_height": 52.390625,
    "deepnote_cell_type": "markdown",
    "tags": []
   },
   "source": [
    "Will there be a difference between `df2.iloc[:,4:].shape` and `df2.loc[:,4:].shape`?"
   ]
  },
  {
   "cell_type": "markdown",
   "metadata": {
    "cell_id": "c861bcea721d49e4afb29fb52e61a341",
    "deepnote_cell_height": 88.796875,
    "deepnote_cell_type": "markdown",
    "tags": []
   },
   "source": [
    "`df2.iloc[:,4:]` is saying take all of the rows of df2, and take the column in integer position 4 and everything after\n",
    "\n",
    "`df2.loc[:,4:]]` is saying take all of the rows of df2, and take the column labeled 4 and everything after"
   ]
  },
  {
   "cell_type": "code",
   "execution_count": null,
   "metadata": {
    "cell_id": "01a2f5b95702407f9d3db6ad9ec05205",
    "deepnote_cell_height": 118.1875,
    "deepnote_cell_type": "code",
    "deepnote_output_heights": [
     21.1875
    ],
    "deepnote_to_be_reexecuted": false,
    "execution_millis": 68,
    "execution_start": 1650411491611,
    "source_hash": "4b5f07",
    "tags": []
   },
   "outputs": [
    {
     "data": {
      "text/plain": [
       "(5, 3)"
      ]
     },
     "execution_count": 14,
     "metadata": {},
     "output_type": "execute_result"
    }
   ],
   "source": [
    "df2.iloc[:,4:].shape"
   ]
  },
  {
   "cell_type": "code",
   "execution_count": null,
   "metadata": {
    "cell_id": "fbaa0f28f3664d97a1a5d6e69c50237c",
    "deepnote_cell_height": 118.1875,
    "deepnote_cell_type": "code",
    "deepnote_output_heights": [
     21.1875
    ],
    "deepnote_to_be_reexecuted": false,
    "execution_millis": 0,
    "execution_start": 1650411491665,
    "source_hash": "6a575cd8",
    "tags": []
   },
   "outputs": [
    {
     "data": {
      "text/plain": [
       "(5, 6)"
      ]
     },
     "execution_count": 15,
     "metadata": {},
     "output_type": "execute_result"
    }
   ],
   "source": [
    "df2.loc[:,4:].shape"
   ]
  },
  {
   "cell_type": "markdown",
   "metadata": {
    "cell_id": "418e472100e64780891dc0e6545e20c4",
    "deepnote_cell_height": 52.390625,
    "deepnote_cell_type": "markdown",
    "tags": []
   },
   "source": [
    "Also keep in mind! `df.index` returns labels"
   ]
  },
  {
   "cell_type": "markdown",
   "metadata": {
    "cell_id": "4e8f95695f634f6ba384437a2ad2a092",
    "deepnote_cell_height": 70,
    "deepnote_cell_type": "markdown",
    "tags": []
   },
   "source": [
    "## Question 4"
   ]
  },
  {
   "cell_type": "code",
   "execution_count": null,
   "metadata": {
    "cell_id": "721d7118540f4829b82ac0c662c646cd",
    "deepnote_cell_height": 708,
    "deepnote_cell_type": "code",
    "deepnote_to_be_reexecuted": false,
    "execution_millis": 114,
    "execution_start": 1650411786005,
    "source_hash": "ac742d0d",
    "tags": []
   },
   "outputs": [
    {
     "data": {
      "application/vnd.deepnote.dataframe.v3+json": {
       "column_count": 23,
       "columns": [
        {
         "dtype": "int64",
         "name": "Index",
         "stats": {
          "histogram": [
           {
            "bin_end": 163.7,
            "bin_start": 9,
            "count": 12
           },
           {
            "bin_end": 318.4,
            "bin_start": 163.7,
            "count": 19
           },
           {
            "bin_end": 473.09999999999997,
            "bin_start": 318.4,
            "count": 39
           },
           {
            "bin_end": 627.8,
            "bin_start": 473.09999999999997,
            "count": 22
           },
           {
            "bin_end": 782.5,
            "bin_start": 627.8,
            "count": 36
           },
           {
            "bin_end": 937.1999999999999,
            "bin_start": 782.5,
            "count": 16
           },
           {
            "bin_end": 1091.8999999999999,
            "bin_start": 937.1999999999999,
            "count": 46
           },
           {
            "bin_end": 1246.6,
            "bin_start": 1091.8999999999999,
            "count": 12
           },
           {
            "bin_end": 1401.3,
            "bin_start": 1246.6,
            "count": 58
           },
           {
            "bin_end": 1556,
            "bin_start": 1401.3,
            "count": 35
           }
          ],
          "max": "1556",
          "min": "9",
          "nan_count": 0,
          "unique_count": 295
         }
        },
        {
         "dtype": "int64",
         "name": "Highest Charting Position",
         "stats": {
          "histogram": [
           {
            "bin_end": 20.8,
            "bin_start": 1,
            "count": 68
           },
           {
            "bin_end": 40.6,
            "bin_start": 20.8,
            "count": 51
           },
           {
            "bin_end": 60.400000000000006,
            "bin_start": 40.6,
            "count": 51
           },
           {
            "bin_end": 80.2,
            "bin_start": 60.400000000000006,
            "count": 43
           },
           {
            "bin_end": 100,
            "bin_start": 80.2,
            "count": 19
           },
           {
            "bin_end": 119.80000000000001,
            "bin_start": 100,
            "count": 19
           },
           {
            "bin_end": 139.6,
            "bin_start": 119.80000000000001,
            "count": 11
           },
           {
            "bin_end": 159.4,
            "bin_start": 139.6,
            "count": 14
           },
           {
            "bin_end": 179.20000000000002,
            "bin_start": 159.4,
            "count": 9
           },
           {
            "bin_end": 199,
            "bin_start": 179.20000000000002,
            "count": 10
           }
          ],
          "max": "199",
          "min": "1",
          "nan_count": 0,
          "unique_count": 135
         }
        },
        {
         "dtype": "int64",
         "name": "Number of Times Charted",
         "stats": {
          "histogram": [
           {
            "bin_end": 9.2,
            "bin_start": 1,
            "count": 240
           },
           {
            "bin_end": 17.4,
            "bin_start": 9.2,
            "count": 15
           },
           {
            "bin_end": 25.599999999999998,
            "bin_start": 17.4,
            "count": 11
           },
           {
            "bin_end": 33.8,
            "bin_start": 25.599999999999998,
            "count": 7
           },
           {
            "bin_end": 42,
            "bin_start": 33.8,
            "count": 7
           },
           {
            "bin_end": 50.199999999999996,
            "bin_start": 42,
            "count": 5
           },
           {
            "bin_end": 58.39999999999999,
            "bin_start": 50.199999999999996,
            "count": 4
           },
           {
            "bin_end": 66.6,
            "bin_start": 58.39999999999999,
            "count": 1
           },
           {
            "bin_end": 74.8,
            "bin_start": 66.6,
            "count": 2
           },
           {
            "bin_end": 83,
            "bin_start": 74.8,
            "count": 3
           }
          ],
          "max": "83",
          "min": "1",
          "nan_count": 0,
          "unique_count": 40
         }
        },
        {
         "dtype": "object",
         "name": "Week of Highest Charting",
         "stats": {
          "categories": [
           {
            "count": 21,
            "name": "2020-03-06--2020-03-13"
           },
           {
            "count": 19,
            "name": "2020-01-17--2020-01-24"
           },
           {
            "count": 255,
            "name": "49 others"
           }
          ],
          "nan_count": 0,
          "unique_count": 51
         }
        },
        {
         "dtype": "object",
         "name": "Song Name",
         "stats": {
          "categories": [
           {
            "count": 1,
            "name": "Yonaguni"
           },
           {
            "count": 1,
            "name": "Permission to Dance"
           },
           {
            "count": 293,
            "name": "293 others"
           }
          ],
          "nan_count": 0,
          "unique_count": 295
         }
        },
        {
         "dtype": "object",
         "name": "Streams",
         "stats": {
          "categories": [
           {
            "count": 1,
            "name": "25,030,128"
           },
           {
            "count": 1,
            "name": "22,062,812"
           },
           {
            "count": 293,
            "name": "293 others"
           }
          ],
          "nan_count": 0,
          "unique_count": 295
         }
        },
        {
         "dtype": "object",
         "name": "Artist",
         "stats": {
          "categories": [
           {
            "count": 52,
            "name": "Taylor Swift"
           },
           {
            "count": 32,
            "name": "Justin Bieber"
           },
           {
            "count": 211,
            "name": "8 others"
           }
          ],
          "nan_count": 0,
          "unique_count": 10
         }
        },
        {
         "dtype": "object",
         "name": "Artist Followers",
         "stats": {
          "categories": [
           {
            "count": 52,
            "name": "42227614"
           },
           {
            "count": 32,
            "name": "11821805"
           },
           {
            "count": 211,
            "name": "18 others"
           }
          ],
          "nan_count": 0,
          "unique_count": 20
         }
        },
        {
         "dtype": "object",
         "name": "Song ID",
         "stats": {
          "categories": [
           {
            "count": 2,
            "name": "37BZB0z9T8Xu7U3e65qxFy"
           },
           {
            "count": 2,
            "name": " "
           },
           {
            "count": 291,
            "name": "291 others"
           }
          ],
          "nan_count": 0,
          "unique_count": 293
         }
        },
        {
         "dtype": "object",
         "name": "Genre",
         "stats": {
          "categories": [
           {
            "count": 52,
            "name": "['pop', 'post-teen pop']"
           },
           {
            "count": 32,
            "name": "['melodic rap', 'philly rap', 'rap', 'trap']"
           },
           {
            "count": 211,
            "name": "10 others"
           }
          ],
          "nan_count": 0,
          "unique_count": 12
         }
        },
        {
         "dtype": "object",
         "name": "Release Date",
         "stats": {
          "categories": [
           {
            "count": 20,
            "name": "2020-07-10"
           },
           {
            "count": 18,
            "name": "2020-01-17"
           },
           {
            "count": 257,
            "name": "64 others"
           }
          ],
          "nan_count": 0,
          "unique_count": 66
         }
        },
        {
         "dtype": "object",
         "name": "Weeks Charted",
         "stats": {
          "categories": [
           {
            "count": 13,
            "name": "2021-04-09--2021-04-16"
           },
           {
            "count": 13,
            "name": "2020-02-14--2020-02-21"
           },
           {
            "count": 269,
            "name": "141 others"
           }
          ],
          "nan_count": 0,
          "unique_count": 143
         }
        },
        {
         "dtype": "object",
         "name": "Popularity",
         "stats": {
          "categories": [
           {
            "count": 22,
            "name": "67"
           },
           {
            "count": 20,
            "name": "66"
           },
           {
            "count": 253,
            "name": "40 others"
           }
          ],
          "nan_count": 0,
          "unique_count": 42
         }
        },
        {
         "dtype": "object",
         "name": "Danceability",
         "stats": {
          "categories": [
           {
            "count": 4,
            "name": "0.688"
           },
           {
            "count": 3,
            "name": "0.702"
           },
           {
            "count": 288,
            "name": "224 others"
           }
          ],
          "nan_count": 0,
          "unique_count": 226
         }
        },
        {
         "dtype": "object",
         "name": "Energy",
         "stats": {
          "categories": [
           {
            "count": 4,
            "name": "0.608"
           },
           {
            "count": 3,
            "name": "0.741"
           },
           {
            "count": 288,
            "name": "214 others"
           }
          ],
          "nan_count": 0,
          "unique_count": 216
         }
        },
        {
         "dtype": "object",
         "name": "Loudness",
         "stats": {
          "categories": [
           {
            "count": 2,
            "name": "-4.645"
           },
           {
            "count": 2,
            "name": " "
           },
           {
            "count": 291,
            "name": "282 others"
           }
          ],
          "nan_count": 0,
          "unique_count": 284
         }
        },
        {
         "dtype": "object",
         "name": "Speechiness",
         "stats": {
          "categories": [
           {
            "count": 3,
            "name": "0.0325"
           },
           {
            "count": 3,
            "name": "0.2"
           },
           {
            "count": 289,
            "name": "246 others"
           }
          ],
          "nan_count": 0,
          "unique_count": 248
         }
        },
        {
         "dtype": "object",
         "name": "Acousticness",
         "stats": {
          "categories": [
           {
            "count": 4,
            "name": "0.162"
           },
           {
            "count": 3,
            "name": "0.114"
           },
           {
            "count": 288,
            "name": "267 others"
           }
          ],
          "nan_count": 0,
          "unique_count": 269
         }
        },
        {
         "dtype": "object",
         "name": "Liveness",
         "stats": {
          "categories": [
           {
            "count": 5,
            "name": "0.113"
           },
           {
            "count": 5,
            "name": "0.112"
           },
           {
            "count": 285,
            "name": "197 others"
           }
          ],
          "nan_count": 0,
          "unique_count": 199
         }
        },
        {
         "dtype": "object",
         "name": "Tempo",
         "stats": {
          "categories": [
           {
            "count": 2,
            "name": "118.091"
           },
           {
            "count": 2,
            "name": "139.98"
           },
           {
            "count": 291,
            "name": "289 others"
           }
          ],
          "nan_count": 0,
          "unique_count": 291
         }
        },
        {
         "dtype": "object",
         "name": "Duration (ms)",
         "stats": {
          "categories": [
           {
            "count": 2,
            "name": "191014"
           },
           {
            "count": 2,
            "name": "160000"
           },
           {
            "count": 291,
            "name": "288 others"
           }
          ],
          "nan_count": 0,
          "unique_count": 290
         }
        },
        {
         "dtype": "object",
         "name": "Valence",
         "stats": {
          "categories": [
           {
            "count": 3,
            "name": "0.464"
           },
           {
            "count": 3,
            "name": "0.372"
           },
           {
            "count": 289,
            "name": "247 others"
           }
          ],
          "nan_count": 0,
          "unique_count": 249
         }
        },
        {
         "dtype": "object",
         "name": "Chord",
         "stats": {
          "categories": [
           {
            "count": 41,
            "name": "C"
           },
           {
            "count": 39,
            "name": "C#/Db"
           },
           {
            "count": 215,
            "name": "11 others"
           }
          ],
          "nan_count": 0,
          "unique_count": 13
         }
        },
        {
         "dtype": "int64",
         "name": "_deepnote_index_column"
        }
       ],
       "row_count": 295,
       "rows": [
        {
         "Acousticness": "0.276",
         "Artist": "Bad Bunny",
         "Artist Followers": "36142273",
         "Chord": "C#/Db",
         "Danceability": "0.644",
         "Duration (ms)": "206710",
         "Energy": "0.648",
         "Genre": "['latin', 'reggaeton', 'trap latino']",
         "Highest Charting Position": 3,
         "Index": 9,
         "Liveness": "0.135",
         "Loudness": "-4.601",
         "Number of Times Charted": 8,
         "Popularity": "96",
         "Release Date": "2021-06-04",
         "Song ID": "2JPLbjOn0wPCngEot2STUS",
         "Song Name": "Yonaguni",
         "Speechiness": "0.118",
         "Streams": "25,030,128",
         "Tempo": "179.951",
         "Valence": "0.44",
         "Week of Highest Charting": "2021-06-18--2021-06-25",
         "Weeks Charted": "2021-07-23--2021-07-30\n2021-07-16--2021-07-23\n2021-07-09--2021-07-16\n2021-07-02--2021-07-09\n2021-06-25--2021-07-02\n2021-06-18--2021-06-25\n2021-06-11--2021-06-18\n2021-06-04--2021-06-11",
         "_deepnote_index_column": 8
        },
        {
         "Acousticness": "0.00544",
         "Artist": "BTS",
         "Artist Followers": "37106176",
         "Chord": "A",
         "Danceability": "0.702",
         "Duration (ms)": "187585",
         "Energy": "0.741",
         "Genre": "['k-pop', 'k-pop boy group']",
         "Highest Charting Position": 5,
         "Index": 13,
         "Liveness": "0.337",
         "Loudness": "-5.33",
         "Number of Times Charted": 3,
         "Popularity": "95",
         "Release Date": "2021-07-09",
         "Song ID": "0LThjFY2iTtNdd4wviwVV2",
         "Song Name": "Permission to Dance",
         "Speechiness": "0.0427",
         "Streams": "22,062,812",
         "Tempo": "124.925",
         "Valence": "0.646",
         "Week of Highest Charting": "2021-07-09--2021-07-16",
         "Weeks Charted": "2021-07-23--2021-07-30\n2021-07-16--2021-07-23\n2021-07-09--2021-07-16",
         "_deepnote_index_column": 12
        },
        {
         "Acousticness": "0.321",
         "Artist": "Justin Bieber",
         "Artist Followers": "48504126",
         "Chord": "C",
         "Danceability": "0.677",
         "Duration (ms)": "198082",
         "Energy": "0.696",
         "Genre": "['canadian pop', 'pop', 'post-teen pop']",
         "Highest Charting Position": 1,
         "Index": 14,
         "Liveness": "0.42",
         "Loudness": "-6.181",
         "Number of Times Charted": 19,
         "Popularity": "94",
         "Release Date": "2021-03-19",
         "Song ID": "4iJyoBOLtHqaGxP12qzhQI",
         "Song Name": "Peaches (feat. Daniel Caesar & Giveon)",
         "Speechiness": "0.119",
         "Streams": "20,294,457",
         "Tempo": "90.03",
         "Valence": "0.464",
         "Week of Highest Charting": "2021-04-02--2021-04-09",
         "Weeks Charted": "2021-07-23--2021-07-30\n2021-07-16--2021-07-23\n2021-07-09--2021-07-16\n2021-07-02--2021-07-09\n2021-06-25--2021-07-02\n2021-06-18--2021-06-25\n2021-06-11--2021-06-18\n2021-06-04--2021-06-11\n2021-05-28--2021-06-04\n2021-05-21--2021-05-28\n2021-05-14--2021-05-21\n2021-05-07--2021-05-14\n2021-04-30--2021-05-07\n2021-04-23--2021-04-30\n2021-04-16--2021-04-23\n2021-04-09--2021-04-16\n2021-04-02--2021-04-09\n2021-03-26--2021-04-02\n2021-03-19--2021-03-26",
         "_deepnote_index_column": 13
        },
        {
         "Acousticness": "0.00323",
         "Artist": "BTS",
         "Artist Followers": "37106176",
         "Chord": "G#/Ab",
         "Danceability": "0.759",
         "Duration (ms)": "164442",
         "Energy": "0.459",
         "Genre": "['k-pop', 'k-pop boy group']",
         "Highest Charting Position": 2,
         "Index": 15,
         "Liveness": "0.0906",
         "Loudness": "-5.187",
         "Number of Times Charted": 10,
         "Popularity": "95",
         "Release Date": "2021-06-04",
         "Song ID": "2bgTY4UwhfBYhGT4HUYStN",
         "Song Name": "Butter",
         "Speechiness": "0.0948",
         "Streams": "19,985,713",
         "Tempo": "109.997",
         "Valence": "0.695",
         "Week of Highest Charting": "2021-05-21--2021-05-28",
         "Weeks Charted": "2021-07-23--2021-07-30\n2021-07-16--2021-07-23\n2021-07-09--2021-07-16\n2021-07-02--2021-07-09\n2021-06-25--2021-07-02\n2021-06-18--2021-06-25\n2021-06-11--2021-06-18\n2021-06-04--2021-06-11\n2021-05-28--2021-06-04\n2021-05-21--2021-05-28",
         "_deepnote_index_column": 14
        },
        {
         "Acousticness": "0.0215",
         "Artist": "The Weeknd",
         "Artist Followers": "35305637",
         "Chord": "C",
         "Danceability": "0.65",
         "Duration (ms)": "191014",
         "Energy": "0.825",
         "Genre": "['canadian contemporary r&b', 'canadian pop', 'pop']",
         "Highest Charting Position": 5,
         "Index": 18,
         "Liveness": "0.0936",
         "Loudness": "-4.645",
         "Number of Times Charted": 14,
         "Popularity": "94",
         "Release Date": "2021-04-23",
         "Song ID": "37BZB0z9T8Xu7U3e65qxFy",
         "Song Name": "Save Your Tears (with Ariana Grande) (Remix)",
         "Speechiness": "0.0325",
         "Streams": "18,053,141",
         "Tempo": "118.091",
         "Valence": "0.593",
         "Week of Highest Charting": "2021-04-23--2021-04-30",
         "Weeks Charted": "2021-07-23--2021-07-30\n2021-07-16--2021-07-23\n2021-07-09--2021-07-16\n2021-07-02--2021-07-09\n2021-06-25--2021-07-02\n2021-06-18--2021-06-25\n2021-06-11--2021-06-18\n2021-06-04--2021-06-11\n2021-05-28--2021-06-04\n2021-05-21--2021-05-28\n2021-05-14--2021-05-21\n2021-05-07--2021-05-14\n2021-04-30--2021-05-07\n2021-04-23--2021-04-30",
         "_deepnote_index_column": 17
        },
        {
         "Acousticness": "0.00146",
         "Artist": "The Weeknd",
         "Artist Followers": "35305637",
         "Chord": "C#/Db",
         "Danceability": "0.514",
         "Duration (ms)": "200040",
         "Energy": "0.73",
         "Genre": "['canadian contemporary r&b', 'canadian pop', 'pop']",
         "Highest Charting Position": 1,
         "Index": 25,
         "Liveness": "0.0897",
         "Loudness": "-5.934",
         "Number of Times Charted": 83,
         "Popularity": "92",
         "Release Date": "2020-03-20",
         "Song ID": "0VjIjW4GlUZAMYd2vXMi3b",
         "Song Name": "Blinding Lights",
         "Speechiness": "0.0598",
         "Streams": "15,011,809",
         "Tempo": "171.005",
         "Valence": "0.334",
         "Week of Highest Charting": "2020-06-12--2020-06-19",
         "Weeks Charted": "2021-07-23--2021-07-30\n2021-07-16--2021-07-23\n2021-07-09--2021-07-16\n2021-07-02--2021-07-09\n2021-06-25--2021-07-02\n2021-06-18--2021-06-25\n2021-06-11--2021-06-18\n2021-06-04--2021-06-11\n2021-05-28--2021-06-04\n2021-05-21--2021-05-28\n2021-05-14--2021-05-21\n2021-05-07--2021-05-14\n2021-04-30--2021-05-07\n2021-04-23--2021-04-30\n2021-04-16--2021-04-23\n2021-04-09--2021-04-16\n2021-04-02--2021-04-09\n2021-03-26--2021-04-02\n2021-03-19--2021-03-26\n2021-03-12--2021-03-19\n2021-03-05--2021-03-12\n2021-02-26--2021-03-05\n2021-02-19--2021-02-26\n2021-02-12--2021-02-19\n2021-02-05--2021-02-12\n2021-01-29--2021-02-05\n2021-01-22--2021-01-29\n2021-01-15--2021-01-22\n2021-01-08--2021-01-15\n2021-01-01--2021-01-08\n2020-12-25--2021-01-01\n2020-12-18--2020-12-25\n2020-12-11--2020-12-18\n2020-12-04--2020-12-11\n2020-11-27--2020-12-04\n2020-11-20--2020-11-27\n2020-11-13--2020-11-20\n2020-11-06--2020-11-13\n2020-10-30--2020-11-06\n2020-10-23--2020-10-30\n2020-10-16--2020-10-23\n2020-10-09--2020-10-16\n2020-10-02--2020-10-09\n2020-09-25…",
         "_deepnote_index_column": 24
        },
        {
         "Acousticness": "0.0112",
         "Artist": "BTS",
         "Artist Followers": "37106176",
         "Chord": "F#/Gb",
         "Danceability": "0.746",
         "Duration (ms)": "199054",
         "Energy": "0.765",
         "Genre": "['k-pop', 'k-pop boy group']",
         "Highest Charting Position": 2,
         "Index": 44,
         "Liveness": "0.0936",
         "Loudness": "-4.41",
         "Number of Times Charted": 49,
         "Popularity": "89",
         "Release Date": "2020-11-20",
         "Song ID": "4saklk6nie3yiGePpBwUoc",
         "Song Name": "Dynamite",
         "Speechiness": "0.0993",
         "Streams": "11,196,819",
         "Tempo": "114.044",
         "Valence": "0.737",
         "Week of Highest Charting": "2020-11-20--2020-11-27",
         "Weeks Charted": "2021-07-23--2021-07-30\n2021-07-16--2021-07-23\n2021-07-09--2021-07-16\n2021-07-02--2021-07-09\n2021-06-25--2021-07-02\n2021-06-18--2021-06-25\n2021-06-11--2021-06-18\n2021-06-04--2021-06-11\n2021-05-28--2021-06-04\n2021-05-21--2021-05-28\n2021-05-14--2021-05-21\n2021-05-07--2021-05-14\n2021-04-30--2021-05-07\n2021-04-23--2021-04-30\n2021-04-16--2021-04-23\n2021-04-09--2021-04-16\n2021-04-02--2021-04-09\n2021-03-26--2021-04-02\n2021-03-19--2021-03-26\n2021-03-12--2021-03-19\n2021-03-05--2021-03-12\n2021-02-26--2021-03-05\n2021-02-19--2021-02-26\n2021-02-12--2021-02-19\n2021-02-05--2021-02-12\n2021-01-29--2021-02-05\n2021-01-22--2021-01-29\n2021-01-15--2021-01-22\n2021-01-08--2021-01-15\n2021-01-01--2021-01-08\n2020-12-25--2021-01-01\n2020-12-18--2020-12-25\n2020-12-11--2020-12-18\n2020-12-04--2020-12-11\n2020-11-27--2020-12-04\n2020-11-20--2020-11-27\n2020-11-13--2020-11-20\n2020-11-06--2020-11-13\n2020-10-30--2020-11-06\n2020-10-23--2020-10-30\n2020-10-16--2020-10-23\n2020-10-09--2020-10-16\n2020-10-02--2020-10-09\n2020-09-25…",
         "_deepnote_index_column": 43
        },
        {
         "Acousticness": "0.0215",
         "Artist": "The Weeknd",
         "Artist Followers": "35305637",
         "Chord": "C",
         "Danceability": "0.65",
         "Duration (ms)": "191014",
         "Energy": "0.825",
         "Genre": "['canadian contemporary r&b', 'canadian pop', 'pop']",
         "Highest Charting Position": 2,
         "Index": 64,
         "Liveness": "0.0936",
         "Loudness": "-4.645",
         "Number of Times Charted": 34,
         "Popularity": "94",
         "Release Date": "2021-04-23",
         "Song ID": "37BZB0z9T8Xu7U3e65qxFy",
         "Song Name": "Save Your Tears",
         "Speechiness": "0.0325",
         "Streams": "8,843,110",
         "Tempo": "118.091",
         "Valence": "0.593",
         "Week of Highest Charting": "2021-02-26--2021-03-05",
         "Weeks Charted": "2021-07-23--2021-07-30\n2021-07-16--2021-07-23\n2021-07-09--2021-07-16\n2021-07-02--2021-07-09\n2021-06-25--2021-07-02\n2021-06-18--2021-06-25\n2021-06-11--2021-06-18\n2021-06-04--2021-06-11\n2021-05-28--2021-06-04\n2021-05-21--2021-05-28\n2021-05-14--2021-05-21\n2021-05-07--2021-05-14\n2021-04-30--2021-05-07\n2021-04-23--2021-04-30\n2021-04-16--2021-04-23\n2021-04-09--2021-04-16\n2021-04-02--2021-04-09\n2021-03-26--2021-04-02\n2021-03-19--2021-03-26\n2021-03-12--2021-03-19\n2021-03-05--2021-03-12\n2021-02-26--2021-03-05\n2021-02-19--2021-02-26\n2021-02-12--2021-02-19\n2021-02-05--2021-02-12\n2021-01-29--2021-02-05\n2021-01-22--2021-01-29\n2021-01-15--2021-01-22\n2021-01-08--2021-01-15\n2020-04-17--2020-04-24\n2020-04-10--2020-04-17\n2020-04-03--2020-04-10\n2020-03-27--2020-04-03\n2020-03-20--2020-03-27",
         "_deepnote_index_column": 63
        },
        {
         "Acousticness": "0.468",
         "Artist": "Ariana Grande",
         "Artist Followers": "67158068",
         "Chord": "C",
         "Danceability": "0.737",
         "Duration (ms)": "172325",
         "Energy": "0.802",
         "Genre": "['dance pop', 'pop', 'post-teen pop']",
         "Highest Charting Position": 1,
         "Index": 92,
         "Liveness": "0.0931",
         "Loudness": "-4.771",
         "Number of Times Charted": 40,
         "Popularity": "86",
         "Release Date": "2020-10-30",
         "Song ID": "35mvY5S1H3J2QZyna3TFe0",
         "Song Name": "positions",
         "Speechiness": "0.0878",
         "Streams": "7,244,853",
         "Tempo": "144.015",
         "Valence": "0.682",
         "Week of Highest Charting": "2020-10-30--2020-11-06",
         "Weeks Charted": "2021-07-23--2021-07-30\n2021-07-16--2021-07-23\n2021-07-09--2021-07-16\n2021-07-02--2021-07-09\n2021-06-25--2021-07-02\n2021-06-18--2021-06-25\n2021-06-11--2021-06-18\n2021-06-04--2021-06-11\n2021-05-28--2021-06-04\n2021-05-21--2021-05-28\n2021-05-14--2021-05-21\n2021-05-07--2021-05-14\n2021-04-30--2021-05-07\n2021-04-23--2021-04-30\n2021-04-16--2021-04-23\n2021-04-09--2021-04-16\n2021-04-02--2021-04-09\n2021-03-26--2021-04-02\n2021-03-19--2021-03-26\n2021-03-12--2021-03-19\n2021-03-05--2021-03-12\n2021-02-26--2021-03-05\n2021-02-19--2021-02-26\n2021-02-12--2021-02-19\n2021-02-05--2021-02-12\n2021-01-29--2021-02-05\n2021-01-22--2021-01-29\n2021-01-15--2021-01-22\n2021-01-08--2021-01-15\n2021-01-01--2021-01-08\n2020-12-25--2021-01-01\n2020-12-18--2020-12-25\n2020-12-11--2020-12-18\n2020-12-04--2020-12-11\n2020-11-27--2020-12-04\n2020-11-20--2020-11-27\n2020-11-13--2020-11-20\n2020-11-06--2020-11-13\n2020-10-30--2020-11-06\n2020-10-23--2020-10-30",
         "_deepnote_index_column": 91
        },
        {
         "Acousticness": "0.0106",
         "Artist": "Justin Bieber",
         "Artist Followers": "1250353",
         "Chord": "C#/Db",
         "Danceability": "0.658",
         "Duration (ms)": "170813",
         "Energy": "0.634",
         "Genre": "[]",
         "Highest Charting Position": 5,
         "Index": 119,
         "Liveness": "0.132",
         "Loudness": "-5.797",
         "Number of Times Charted": 21,
         "Popularity": "0",
         "Release Date": "2021-08-13",
         "Song ID": "49xx65gvlD7xXjDTavFqaJ",
         "Song Name": "Hold On",
         "Speechiness": "0.0413",
         "Streams": "6,300,416",
         "Tempo": "139.98",
         "Valence": "0.29",
         "Week of Highest Charting": "2021-03-19--2021-03-26",
         "Weeks Charted": "2021-07-23--2021-07-30\n2021-07-16--2021-07-23\n2021-07-09--2021-07-16\n2021-07-02--2021-07-09\n2021-06-25--2021-07-02\n2021-06-18--2021-06-25\n2021-06-11--2021-06-18\n2021-06-04--2021-06-11\n2021-05-28--2021-06-04\n2021-05-21--2021-05-28\n2021-05-14--2021-05-21\n2021-05-07--2021-05-14\n2021-04-30--2021-05-07\n2021-04-23--2021-04-30\n2021-04-16--2021-04-23\n2021-04-09--2021-04-16\n2021-04-02--2021-04-09\n2021-03-26--2021-04-02\n2021-03-19--2021-03-26\n2021-03-12--2021-03-19\n2021-03-05--2021-03-12",
         "_deepnote_index_column": 118
        }
       ]
      },
      "text/html": [
       "<div>\n",
       "<style scoped>\n",
       "    .dataframe tbody tr th:only-of-type {\n",
       "        vertical-align: middle;\n",
       "    }\n",
       "\n",
       "    .dataframe tbody tr th {\n",
       "        vertical-align: top;\n",
       "    }\n",
       "\n",
       "    .dataframe thead th {\n",
       "        text-align: right;\n",
       "    }\n",
       "</style>\n",
       "<table border=\"1\" class=\"dataframe\">\n",
       "  <thead>\n",
       "    <tr style=\"text-align: right;\">\n",
       "      <th></th>\n",
       "      <th>Index</th>\n",
       "      <th>Highest Charting Position</th>\n",
       "      <th>Number of Times Charted</th>\n",
       "      <th>Week of Highest Charting</th>\n",
       "      <th>Song Name</th>\n",
       "      <th>Streams</th>\n",
       "      <th>Artist</th>\n",
       "      <th>Artist Followers</th>\n",
       "      <th>Song ID</th>\n",
       "      <th>Genre</th>\n",
       "      <th>...</th>\n",
       "      <th>Danceability</th>\n",
       "      <th>Energy</th>\n",
       "      <th>Loudness</th>\n",
       "      <th>Speechiness</th>\n",
       "      <th>Acousticness</th>\n",
       "      <th>Liveness</th>\n",
       "      <th>Tempo</th>\n",
       "      <th>Duration (ms)</th>\n",
       "      <th>Valence</th>\n",
       "      <th>Chord</th>\n",
       "    </tr>\n",
       "  </thead>\n",
       "  <tbody>\n",
       "    <tr>\n",
       "      <th>8</th>\n",
       "      <td>9</td>\n",
       "      <td>3</td>\n",
       "      <td>8</td>\n",
       "      <td>2021-06-18--2021-06-25</td>\n",
       "      <td>Yonaguni</td>\n",
       "      <td>25,030,128</td>\n",
       "      <td>Bad Bunny</td>\n",
       "      <td>36142273</td>\n",
       "      <td>2JPLbjOn0wPCngEot2STUS</td>\n",
       "      <td>['latin', 'reggaeton', 'trap latino']</td>\n",
       "      <td>...</td>\n",
       "      <td>0.644</td>\n",
       "      <td>0.648</td>\n",
       "      <td>-4.601</td>\n",
       "      <td>0.118</td>\n",
       "      <td>0.276</td>\n",
       "      <td>0.135</td>\n",
       "      <td>179.951</td>\n",
       "      <td>206710</td>\n",
       "      <td>0.44</td>\n",
       "      <td>C#/Db</td>\n",
       "    </tr>\n",
       "    <tr>\n",
       "      <th>12</th>\n",
       "      <td>13</td>\n",
       "      <td>5</td>\n",
       "      <td>3</td>\n",
       "      <td>2021-07-09--2021-07-16</td>\n",
       "      <td>Permission to Dance</td>\n",
       "      <td>22,062,812</td>\n",
       "      <td>BTS</td>\n",
       "      <td>37106176</td>\n",
       "      <td>0LThjFY2iTtNdd4wviwVV2</td>\n",
       "      <td>['k-pop', 'k-pop boy group']</td>\n",
       "      <td>...</td>\n",
       "      <td>0.702</td>\n",
       "      <td>0.741</td>\n",
       "      <td>-5.33</td>\n",
       "      <td>0.0427</td>\n",
       "      <td>0.00544</td>\n",
       "      <td>0.337</td>\n",
       "      <td>124.925</td>\n",
       "      <td>187585</td>\n",
       "      <td>0.646</td>\n",
       "      <td>A</td>\n",
       "    </tr>\n",
       "    <tr>\n",
       "      <th>13</th>\n",
       "      <td>14</td>\n",
       "      <td>1</td>\n",
       "      <td>19</td>\n",
       "      <td>2021-04-02--2021-04-09</td>\n",
       "      <td>Peaches (feat. Daniel Caesar &amp; Giveon)</td>\n",
       "      <td>20,294,457</td>\n",
       "      <td>Justin Bieber</td>\n",
       "      <td>48504126</td>\n",
       "      <td>4iJyoBOLtHqaGxP12qzhQI</td>\n",
       "      <td>['canadian pop', 'pop', 'post-teen pop']</td>\n",
       "      <td>...</td>\n",
       "      <td>0.677</td>\n",
       "      <td>0.696</td>\n",
       "      <td>-6.181</td>\n",
       "      <td>0.119</td>\n",
       "      <td>0.321</td>\n",
       "      <td>0.42</td>\n",
       "      <td>90.03</td>\n",
       "      <td>198082</td>\n",
       "      <td>0.464</td>\n",
       "      <td>C</td>\n",
       "    </tr>\n",
       "    <tr>\n",
       "      <th>14</th>\n",
       "      <td>15</td>\n",
       "      <td>2</td>\n",
       "      <td>10</td>\n",
       "      <td>2021-05-21--2021-05-28</td>\n",
       "      <td>Butter</td>\n",
       "      <td>19,985,713</td>\n",
       "      <td>BTS</td>\n",
       "      <td>37106176</td>\n",
       "      <td>2bgTY4UwhfBYhGT4HUYStN</td>\n",
       "      <td>['k-pop', 'k-pop boy group']</td>\n",
       "      <td>...</td>\n",
       "      <td>0.759</td>\n",
       "      <td>0.459</td>\n",
       "      <td>-5.187</td>\n",
       "      <td>0.0948</td>\n",
       "      <td>0.00323</td>\n",
       "      <td>0.0906</td>\n",
       "      <td>109.997</td>\n",
       "      <td>164442</td>\n",
       "      <td>0.695</td>\n",
       "      <td>G#/Ab</td>\n",
       "    </tr>\n",
       "    <tr>\n",
       "      <th>17</th>\n",
       "      <td>18</td>\n",
       "      <td>5</td>\n",
       "      <td>14</td>\n",
       "      <td>2021-04-23--2021-04-30</td>\n",
       "      <td>Save Your Tears (with Ariana Grande) (Remix)</td>\n",
       "      <td>18,053,141</td>\n",
       "      <td>The Weeknd</td>\n",
       "      <td>35305637</td>\n",
       "      <td>37BZB0z9T8Xu7U3e65qxFy</td>\n",
       "      <td>['canadian contemporary r&amp;b', 'canadian pop', ...</td>\n",
       "      <td>...</td>\n",
       "      <td>0.65</td>\n",
       "      <td>0.825</td>\n",
       "      <td>-4.645</td>\n",
       "      <td>0.0325</td>\n",
       "      <td>0.0215</td>\n",
       "      <td>0.0936</td>\n",
       "      <td>118.091</td>\n",
       "      <td>191014</td>\n",
       "      <td>0.593</td>\n",
       "      <td>C</td>\n",
       "    </tr>\n",
       "    <tr>\n",
       "      <th>...</th>\n",
       "      <td>...</td>\n",
       "      <td>...</td>\n",
       "      <td>...</td>\n",
       "      <td>...</td>\n",
       "      <td>...</td>\n",
       "      <td>...</td>\n",
       "      <td>...</td>\n",
       "      <td>...</td>\n",
       "      <td>...</td>\n",
       "      <td>...</td>\n",
       "      <td>...</td>\n",
       "      <td>...</td>\n",
       "      <td>...</td>\n",
       "      <td>...</td>\n",
       "      <td>...</td>\n",
       "      <td>...</td>\n",
       "      <td>...</td>\n",
       "      <td>...</td>\n",
       "      <td>...</td>\n",
       "      <td>...</td>\n",
       "      <td>...</td>\n",
       "    </tr>\n",
       "    <tr>\n",
       "      <th>1499</th>\n",
       "      <td>1500</td>\n",
       "      <td>100</td>\n",
       "      <td>1</td>\n",
       "      <td>2020-01-17--2020-01-24</td>\n",
       "      <td>Alfred - Interlude</td>\n",
       "      <td>8,030,151</td>\n",
       "      <td>Eminem</td>\n",
       "      <td>46814751</td>\n",
       "      <td>4EmunTy7kNBYQivOa8F6b8</td>\n",
       "      <td>['detroit hip hop', 'hip hop', 'rap']</td>\n",
       "      <td>...</td>\n",
       "      <td>0.429</td>\n",
       "      <td>0.231</td>\n",
       "      <td>-20.43</td>\n",
       "      <td>0.402</td>\n",
       "      <td>0.878</td>\n",
       "      <td>0.279</td>\n",
       "      <td>74.545</td>\n",
       "      <td>30133</td>\n",
       "      <td>0.914</td>\n",
       "      <td>F</td>\n",
       "    </tr>\n",
       "    <tr>\n",
       "      <th>1500</th>\n",
       "      <td>1501</td>\n",
       "      <td>102</td>\n",
       "      <td>1</td>\n",
       "      <td>2020-01-17--2020-01-24</td>\n",
       "      <td>Little Engine</td>\n",
       "      <td>7,913,461</td>\n",
       "      <td>Eminem</td>\n",
       "      <td>46814751</td>\n",
       "      <td>4qNWEOMyexn7b8Icyk29t9</td>\n",
       "      <td>['detroit hip hop', 'hip hop', 'rap']</td>\n",
       "      <td>...</td>\n",
       "      <td>0.769</td>\n",
       "      <td>0.811</td>\n",
       "      <td>-4.162</td>\n",
       "      <td>0.228</td>\n",
       "      <td>0.0234</td>\n",
       "      <td>0.0451</td>\n",
       "      <td>155.081</td>\n",
       "      <td>177293</td>\n",
       "      <td>0.76</td>\n",
       "      <td>A#/Bb</td>\n",
       "    </tr>\n",
       "    <tr>\n",
       "      <th>1501</th>\n",
       "      <td>1502</td>\n",
       "      <td>113</td>\n",
       "      <td>1</td>\n",
       "      <td>2020-01-17--2020-01-24</td>\n",
       "      <td>I Will (feat. KXNG Crooked, Royce Da 5'9\" &amp; Jo...</td>\n",
       "      <td>7,115,414</td>\n",
       "      <td>Eminem</td>\n",
       "      <td>46814751</td>\n",
       "      <td>3CJbxqRQ0JNCqboWDNUUeX</td>\n",
       "      <td>['detroit hip hop', 'hip hop', 'rap']</td>\n",
       "      <td>...</td>\n",
       "      <td>0.635</td>\n",
       "      <td>0.543</td>\n",
       "      <td>-5.941</td>\n",
       "      <td>0.067</td>\n",
       "      <td>0.0454</td>\n",
       "      <td>0.272</td>\n",
       "      <td>98.743</td>\n",
       "      <td>303000</td>\n",
       "      <td>0.036</td>\n",
       "      <td>G#/Ab</td>\n",
       "    </tr>\n",
       "    <tr>\n",
       "      <th>1549</th>\n",
       "      <td>1550</td>\n",
       "      <td>187</td>\n",
       "      <td>1</td>\n",
       "      <td>2019-12-27--2020-01-03</td>\n",
       "      <td>Let Me Know (I Wonder Why Freestyle)</td>\n",
       "      <td>4,701,532</td>\n",
       "      <td>Juice WRLD</td>\n",
       "      <td>19102888</td>\n",
       "      <td>3wwo0bJvDSorOpNfzEkfXx</td>\n",
       "      <td>['chicago rap', 'melodic rap']</td>\n",
       "      <td>...</td>\n",
       "      <td>0.635</td>\n",
       "      <td>0.537</td>\n",
       "      <td>-7.895</td>\n",
       "      <td>0.0832</td>\n",
       "      <td>0.172</td>\n",
       "      <td>0.418</td>\n",
       "      <td>125.028</td>\n",
       "      <td>215381</td>\n",
       "      <td>0.383</td>\n",
       "      <td>G</td>\n",
       "    </tr>\n",
       "    <tr>\n",
       "      <th>1555</th>\n",
       "      <td>1556</td>\n",
       "      <td>199</td>\n",
       "      <td>1</td>\n",
       "      <td>2019-12-27--2020-01-03</td>\n",
       "      <td>Lover (Remix) [feat. Shawn Mendes]</td>\n",
       "      <td>4,595,450</td>\n",
       "      <td>Taylor Swift</td>\n",
       "      <td>42227614</td>\n",
       "      <td>3i9UVldZOE0aD0JnyfAZZ0</td>\n",
       "      <td>['pop', 'post-teen pop']</td>\n",
       "      <td>...</td>\n",
       "      <td>0.448</td>\n",
       "      <td>0.603</td>\n",
       "      <td>-7.176</td>\n",
       "      <td>0.064</td>\n",
       "      <td>0.433</td>\n",
       "      <td>0.0862</td>\n",
       "      <td>205.272</td>\n",
       "      <td>221307</td>\n",
       "      <td>0.422</td>\n",
       "      <td>G</td>\n",
       "    </tr>\n",
       "  </tbody>\n",
       "</table>\n",
       "<p>295 rows × 23 columns</p>\n",
       "</div>"
      ],
      "text/plain": [
       "      Index  Highest Charting Position  Number of Times Charted  \\\n",
       "8         9                          3                        8   \n",
       "12       13                          5                        3   \n",
       "13       14                          1                       19   \n",
       "14       15                          2                       10   \n",
       "17       18                          5                       14   \n",
       "...     ...                        ...                      ...   \n",
       "1499   1500                        100                        1   \n",
       "1500   1501                        102                        1   \n",
       "1501   1502                        113                        1   \n",
       "1549   1550                        187                        1   \n",
       "1555   1556                        199                        1   \n",
       "\n",
       "     Week of Highest Charting  \\\n",
       "8      2021-06-18--2021-06-25   \n",
       "12     2021-07-09--2021-07-16   \n",
       "13     2021-04-02--2021-04-09   \n",
       "14     2021-05-21--2021-05-28   \n",
       "17     2021-04-23--2021-04-30   \n",
       "...                       ...   \n",
       "1499   2020-01-17--2020-01-24   \n",
       "1500   2020-01-17--2020-01-24   \n",
       "1501   2020-01-17--2020-01-24   \n",
       "1549   2019-12-27--2020-01-03   \n",
       "1555   2019-12-27--2020-01-03   \n",
       "\n",
       "                                              Song Name     Streams  \\\n",
       "8                                              Yonaguni  25,030,128   \n",
       "12                                  Permission to Dance  22,062,812   \n",
       "13               Peaches (feat. Daniel Caesar & Giveon)  20,294,457   \n",
       "14                                               Butter  19,985,713   \n",
       "17         Save Your Tears (with Ariana Grande) (Remix)  18,053,141   \n",
       "...                                                 ...         ...   \n",
       "1499                                 Alfred - Interlude   8,030,151   \n",
       "1500                                      Little Engine   7,913,461   \n",
       "1501  I Will (feat. KXNG Crooked, Royce Da 5'9\" & Jo...   7,115,414   \n",
       "1549               Let Me Know (I Wonder Why Freestyle)   4,701,532   \n",
       "1555                 Lover (Remix) [feat. Shawn Mendes]   4,595,450   \n",
       "\n",
       "             Artist Artist Followers                 Song ID  \\\n",
       "8         Bad Bunny         36142273  2JPLbjOn0wPCngEot2STUS   \n",
       "12              BTS         37106176  0LThjFY2iTtNdd4wviwVV2   \n",
       "13    Justin Bieber         48504126  4iJyoBOLtHqaGxP12qzhQI   \n",
       "14              BTS         37106176  2bgTY4UwhfBYhGT4HUYStN   \n",
       "17       The Weeknd         35305637  37BZB0z9T8Xu7U3e65qxFy   \n",
       "...             ...              ...                     ...   \n",
       "1499         Eminem         46814751  4EmunTy7kNBYQivOa8F6b8   \n",
       "1500         Eminem         46814751  4qNWEOMyexn7b8Icyk29t9   \n",
       "1501         Eminem         46814751  3CJbxqRQ0JNCqboWDNUUeX   \n",
       "1549     Juice WRLD         19102888  3wwo0bJvDSorOpNfzEkfXx   \n",
       "1555   Taylor Swift         42227614  3i9UVldZOE0aD0JnyfAZZ0   \n",
       "\n",
       "                                                  Genre  ... Danceability  \\\n",
       "8                 ['latin', 'reggaeton', 'trap latino']  ...        0.644   \n",
       "12                         ['k-pop', 'k-pop boy group']  ...        0.702   \n",
       "13             ['canadian pop', 'pop', 'post-teen pop']  ...        0.677   \n",
       "14                         ['k-pop', 'k-pop boy group']  ...        0.759   \n",
       "17    ['canadian contemporary r&b', 'canadian pop', ...  ...         0.65   \n",
       "...                                                 ...  ...          ...   \n",
       "1499              ['detroit hip hop', 'hip hop', 'rap']  ...        0.429   \n",
       "1500              ['detroit hip hop', 'hip hop', 'rap']  ...        0.769   \n",
       "1501              ['detroit hip hop', 'hip hop', 'rap']  ...        0.635   \n",
       "1549                     ['chicago rap', 'melodic rap']  ...        0.635   \n",
       "1555                           ['pop', 'post-teen pop']  ...        0.448   \n",
       "\n",
       "     Energy Loudness Speechiness Acousticness Liveness    Tempo Duration (ms)  \\\n",
       "8     0.648   -4.601       0.118        0.276    0.135  179.951        206710   \n",
       "12    0.741    -5.33      0.0427      0.00544    0.337  124.925        187585   \n",
       "13    0.696   -6.181       0.119        0.321     0.42    90.03        198082   \n",
       "14    0.459   -5.187      0.0948      0.00323   0.0906  109.997        164442   \n",
       "17    0.825   -4.645      0.0325       0.0215   0.0936  118.091        191014   \n",
       "...     ...      ...         ...          ...      ...      ...           ...   \n",
       "1499  0.231   -20.43       0.402        0.878    0.279   74.545         30133   \n",
       "1500  0.811   -4.162       0.228       0.0234   0.0451  155.081        177293   \n",
       "1501  0.543   -5.941       0.067       0.0454    0.272   98.743        303000   \n",
       "1549  0.537   -7.895      0.0832        0.172    0.418  125.028        215381   \n",
       "1555  0.603   -7.176       0.064        0.433   0.0862  205.272        221307   \n",
       "\n",
       "     Valence  Chord  \n",
       "8       0.44  C#/Db  \n",
       "12     0.646      A  \n",
       "13     0.464      C  \n",
       "14     0.695  G#/Ab  \n",
       "17     0.593      C  \n",
       "...      ...    ...  \n",
       "1499   0.914      F  \n",
       "1500    0.76  A#/Bb  \n",
       "1501   0.036  G#/Ab  \n",
       "1549   0.383      G  \n",
       "1555   0.422      G  \n",
       "\n",
       "[295 rows x 23 columns]"
      ]
     },
     "execution_count": 22,
     "metadata": {},
     "output_type": "execute_result"
    }
   ],
   "source": [
    "df = pd.read_csv(\"../data/spotify_dataset.csv\")\n",
    "\n",
    "#Find top 10 artists\n",
    "top_art = df[\"Artist\"].value_counts().index[:10]\n",
    "\n",
    "df2 = df[df[\"Artist\"].isin(top_art)]\n",
    "df2"
   ]
  },
  {
   "cell_type": "markdown",
   "metadata": {
    "cell_id": "7f378f83e6d64497a9ee981825c7129a",
    "deepnote_cell_height": 70,
    "deepnote_cell_type": "markdown",
    "owner_user_id": "e590e996-b52f-4e48-8e79-35525bbb42f6",
    "tags": []
   },
   "source": [
    "## Question 5"
   ]
  },
  {
   "cell_type": "code",
   "execution_count": null,
   "metadata": {
    "cell_id": "8235d689394a4504be04d4e54c74504f",
    "deepnote_cell_height": 279,
    "deepnote_cell_type": "code",
    "deepnote_to_be_reexecuted": false,
    "execution_millis": 414,
    "execution_start": 1650411491984,
    "source_hash": "467d9002",
    "tags": []
   },
   "outputs": [],
   "source": [
    "import altair as alt\n",
    "df2 = pd.read_csv(\"../data/cars.csv\")\n",
    "\n",
    "brush = alt.selection_interval()\n",
    "\n",
    "c1 = alt.Chart(df2).mark_circle().encode(\n",
    "    x = \"Miles_per_Gallon\",\n",
    "    y = \"Horsepower\",\n",
    "    color = \"Origin\"\n",
    ").add_selection(\n",
    "    brush\n",
    ")"
   ]
  },
  {
   "cell_type": "code",
   "execution_count": null,
   "metadata": {
    "cell_id": "17ab217f7e654cf6b94049a5b0910a63",
    "deepnote_cell_height": 171,
    "deepnote_cell_type": "code",
    "deepnote_to_be_reexecuted": false,
    "execution_millis": 25,
    "execution_start": 1650411492404,
    "source_hash": "8de84495",
    "tags": []
   },
   "outputs": [],
   "source": [
    "c2 = alt.Chart(df2).mark_bar().encode(\n",
    "    x = \"Origin\",\n",
    "    y = alt.Y(\"count()\", scale=alt.Scale(domain = [0,500]))\n",
    ").transform_filter(\n",
    "    brush\n",
    ")"
   ]
  },
  {
   "cell_type": "code",
   "execution_count": null,
   "metadata": {
    "cell_id": "1558d4475ebb41f4a324e7fd2f00df2d",
    "deepnote_cell_height": 483,
    "deepnote_cell_type": "code",
    "deepnote_output_heights": [
     386
    ],
    "deepnote_to_be_reexecuted": false,
    "execution_millis": 117,
    "execution_start": 1650411492436,
    "source_hash": "264bd2a2",
    "tags": []
   },
   "outputs": [
    {
     "data": {
      "text/html": [
       "\n",
       "<div id=\"altair-viz-3a946209ae944d36a6d0ba4962f2ba30\"></div>\n",
       "<script type=\"text/javascript\">\n",
       "  (function(spec, embedOpt){\n",
       "    let outputDiv = document.currentScript.previousElementSibling;\n",
       "    if (outputDiv.id !== \"altair-viz-3a946209ae944d36a6d0ba4962f2ba30\") {\n",
       "      outputDiv = document.getElementById(\"altair-viz-3a946209ae944d36a6d0ba4962f2ba30\");\n",
       "    }\n",
       "    const paths = {\n",
       "      \"vega\": \"https://cdn.jsdelivr.net/npm//vega@5?noext\",\n",
       "      \"vega-lib\": \"https://cdn.jsdelivr.net/npm//vega-lib?noext\",\n",
       "      \"vega-lite\": \"https://cdn.jsdelivr.net/npm//vega-lite@4.8.1?noext\",\n",
       "      \"vega-embed\": \"https://cdn.jsdelivr.net/npm//vega-embed@6?noext\",\n",
       "    };\n",
       "\n",
       "    function loadScript(lib) {\n",
       "      return new Promise(function(resolve, reject) {\n",
       "        var s = document.createElement('script');\n",
       "        s.src = paths[lib];\n",
       "        s.async = true;\n",
       "        s.onload = () => resolve(paths[lib]);\n",
       "        s.onerror = () => reject(`Error loading script: ${paths[lib]}`);\n",
       "        document.getElementsByTagName(\"head\")[0].appendChild(s);\n",
       "      });\n",
       "    }\n",
       "\n",
       "    function showError(err) {\n",
       "      outputDiv.innerHTML = `<div class=\"error\" style=\"color:red;\">${err}</div>`;\n",
       "      throw err;\n",
       "    }\n",
       "\n",
       "    function displayChart(vegaEmbed) {\n",
       "      vegaEmbed(outputDiv, spec, embedOpt)\n",
       "        .catch(err => showError(`Javascript Error: ${err.message}<br>This usually means there's a typo in your chart specification. See the javascript console for the full traceback.`));\n",
       "    }\n",
       "\n",
       "    if(typeof define === \"function\" && define.amd) {\n",
       "      requirejs.config({paths});\n",
       "      require([\"vega-embed\"], displayChart, err => showError(`Error loading script: ${err.message}`));\n",
       "    } else if (typeof vegaEmbed === \"function\") {\n",
       "      displayChart(vegaEmbed);\n",
       "    } else {\n",
       "      loadScript(\"vega\")\n",
       "        .then(() => loadScript(\"vega-lite\"))\n",
       "        .then(() => loadScript(\"vega-embed\"))\n",
       "        .catch(showError)\n",
       "        .then(() => displayChart(vegaEmbed));\n",
       "    }\n",
       "  })({\"config\": {\"view\": {\"continuousWidth\": 400, \"continuousHeight\": 300}}, \"hconcat\": [{\"mark\": \"circle\", \"encoding\": {\"color\": {\"type\": \"nominal\", \"field\": \"Origin\"}, \"x\": {\"type\": \"quantitative\", \"field\": \"Miles_per_Gallon\"}, \"y\": {\"type\": \"quantitative\", \"field\": \"Horsepower\"}}, \"selection\": {\"selector001\": {\"type\": \"interval\"}}}, {\"mark\": \"bar\", \"encoding\": {\"x\": {\"type\": \"nominal\", \"field\": \"Origin\"}, \"y\": {\"type\": \"quantitative\", \"aggregate\": \"count\", \"scale\": {\"domain\": [0, 500]}}}, \"transform\": [{\"filter\": {\"selection\": \"selector001\"}}]}], \"data\": {\"name\": \"data-8e25068d8b9a578f41a59c91e539d690\"}, \"$schema\": \"https://vega.github.io/schema/vega-lite/v4.8.1.json\", \"datasets\": {\"data-8e25068d8b9a578f41a59c91e539d690\": [{\"Name\": \"chevrolet chevelle malibu\", \"Miles_per_Gallon\": 18.0, \"Cylinders\": 8, \"Displacement\": 307.0, \"Horsepower\": 130.0, \"Weight_in_lbs\": 3504, \"Acceleration\": 12.0, \"Year\": \"1970-01-01\", \"Origin\": \"USA\"}, {\"Name\": \"buick skylark 320\", \"Miles_per_Gallon\": 15.0, \"Cylinders\": 8, \"Displacement\": 350.0, \"Horsepower\": 165.0, \"Weight_in_lbs\": 3693, \"Acceleration\": 11.5, \"Year\": \"1970-01-01\", \"Origin\": \"USA\"}, {\"Name\": \"plymouth satellite\", \"Miles_per_Gallon\": 18.0, \"Cylinders\": 8, \"Displacement\": 318.0, \"Horsepower\": 150.0, \"Weight_in_lbs\": 3436, \"Acceleration\": 11.0, \"Year\": \"1970-01-01\", \"Origin\": \"USA\"}, {\"Name\": \"amc rebel sst\", \"Miles_per_Gallon\": 16.0, \"Cylinders\": 8, \"Displacement\": 304.0, \"Horsepower\": 150.0, \"Weight_in_lbs\": 3433, \"Acceleration\": 12.0, \"Year\": \"1970-01-01\", \"Origin\": \"USA\"}, {\"Name\": \"ford torino\", \"Miles_per_Gallon\": 17.0, \"Cylinders\": 8, \"Displacement\": 302.0, \"Horsepower\": 140.0, \"Weight_in_lbs\": 3449, \"Acceleration\": 10.5, \"Year\": \"1970-01-01\", \"Origin\": \"USA\"}, {\"Name\": \"ford galaxie 500\", \"Miles_per_Gallon\": 15.0, \"Cylinders\": 8, \"Displacement\": 429.0, \"Horsepower\": 198.0, \"Weight_in_lbs\": 4341, \"Acceleration\": 10.0, \"Year\": \"1970-01-01\", \"Origin\": \"USA\"}, {\"Name\": \"chevrolet impala\", \"Miles_per_Gallon\": 14.0, \"Cylinders\": 8, \"Displacement\": 454.0, \"Horsepower\": 220.0, \"Weight_in_lbs\": 4354, \"Acceleration\": 9.0, \"Year\": \"1970-01-01\", \"Origin\": \"USA\"}, {\"Name\": \"plymouth fury iii\", \"Miles_per_Gallon\": 14.0, \"Cylinders\": 8, \"Displacement\": 440.0, \"Horsepower\": 215.0, \"Weight_in_lbs\": 4312, \"Acceleration\": 8.5, \"Year\": \"1970-01-01\", \"Origin\": \"USA\"}, {\"Name\": \"pontiac catalina\", \"Miles_per_Gallon\": 14.0, \"Cylinders\": 8, \"Displacement\": 455.0, \"Horsepower\": 225.0, \"Weight_in_lbs\": 4425, \"Acceleration\": 10.0, \"Year\": \"1970-01-01\", \"Origin\": \"USA\"}, {\"Name\": \"amc ambassador dpl\", \"Miles_per_Gallon\": 15.0, \"Cylinders\": 8, \"Displacement\": 390.0, \"Horsepower\": 190.0, \"Weight_in_lbs\": 3850, \"Acceleration\": 8.5, \"Year\": \"1970-01-01\", \"Origin\": \"USA\"}, {\"Name\": \"citroen ds-21 pallas\", \"Miles_per_Gallon\": null, \"Cylinders\": 4, \"Displacement\": 133.0, \"Horsepower\": 115.0, \"Weight_in_lbs\": 3090, \"Acceleration\": 17.5, \"Year\": \"1970-01-01\", \"Origin\": \"Europe\"}, {\"Name\": \"chevrolet chevelle concours (sw)\", \"Miles_per_Gallon\": null, \"Cylinders\": 8, \"Displacement\": 350.0, \"Horsepower\": 165.0, \"Weight_in_lbs\": 4142, \"Acceleration\": 11.5, \"Year\": \"1970-01-01\", \"Origin\": \"USA\"}, {\"Name\": \"ford torino (sw)\", \"Miles_per_Gallon\": null, \"Cylinders\": 8, \"Displacement\": 351.0, \"Horsepower\": 153.0, \"Weight_in_lbs\": 4034, \"Acceleration\": 11.0, \"Year\": \"1970-01-01\", \"Origin\": \"USA\"}, {\"Name\": \"plymouth satellite (sw)\", \"Miles_per_Gallon\": null, \"Cylinders\": 8, \"Displacement\": 383.0, \"Horsepower\": 175.0, \"Weight_in_lbs\": 4166, \"Acceleration\": 10.5, \"Year\": \"1970-01-01\", \"Origin\": \"USA\"}, {\"Name\": \"amc rebel sst (sw)\", \"Miles_per_Gallon\": null, \"Cylinders\": 8, \"Displacement\": 360.0, \"Horsepower\": 175.0, \"Weight_in_lbs\": 3850, \"Acceleration\": 11.0, \"Year\": \"1970-01-01\", \"Origin\": \"USA\"}, {\"Name\": \"dodge challenger se\", \"Miles_per_Gallon\": 15.0, \"Cylinders\": 8, \"Displacement\": 383.0, \"Horsepower\": 170.0, \"Weight_in_lbs\": 3563, \"Acceleration\": 10.0, \"Year\": \"1970-01-01\", \"Origin\": \"USA\"}, {\"Name\": \"plymouth 'cuda 340\", \"Miles_per_Gallon\": 14.0, \"Cylinders\": 8, \"Displacement\": 340.0, \"Horsepower\": 160.0, \"Weight_in_lbs\": 3609, \"Acceleration\": 8.0, \"Year\": \"1970-01-01\", \"Origin\": \"USA\"}, {\"Name\": \"ford mustang boss 302\", \"Miles_per_Gallon\": null, \"Cylinders\": 8, \"Displacement\": 302.0, \"Horsepower\": 140.0, \"Weight_in_lbs\": 3353, \"Acceleration\": 8.0, \"Year\": \"1970-01-01\", \"Origin\": \"USA\"}, {\"Name\": \"chevrolet monte carlo\", \"Miles_per_Gallon\": 15.0, \"Cylinders\": 8, \"Displacement\": 400.0, \"Horsepower\": 150.0, \"Weight_in_lbs\": 3761, \"Acceleration\": 9.5, \"Year\": \"1970-01-01\", \"Origin\": \"USA\"}, {\"Name\": \"buick estate wagon (sw)\", \"Miles_per_Gallon\": 14.0, \"Cylinders\": 8, \"Displacement\": 455.0, \"Horsepower\": 225.0, \"Weight_in_lbs\": 3086, \"Acceleration\": 10.0, \"Year\": \"1970-01-01\", \"Origin\": \"USA\"}, {\"Name\": \"toyota corona mark ii\", \"Miles_per_Gallon\": 24.0, \"Cylinders\": 4, \"Displacement\": 113.0, \"Horsepower\": 95.0, \"Weight_in_lbs\": 2372, \"Acceleration\": 15.0, \"Year\": \"1970-01-01\", \"Origin\": \"Japan\"}, {\"Name\": \"plymouth duster\", \"Miles_per_Gallon\": 22.0, \"Cylinders\": 6, \"Displacement\": 198.0, \"Horsepower\": 95.0, \"Weight_in_lbs\": 2833, \"Acceleration\": 15.5, \"Year\": \"1970-01-01\", \"Origin\": \"USA\"}, {\"Name\": \"amc hornet\", \"Miles_per_Gallon\": 18.0, \"Cylinders\": 6, \"Displacement\": 199.0, \"Horsepower\": 97.0, \"Weight_in_lbs\": 2774, \"Acceleration\": 15.5, \"Year\": \"1970-01-01\", \"Origin\": \"USA\"}, {\"Name\": \"ford maverick\", \"Miles_per_Gallon\": 21.0, \"Cylinders\": 6, \"Displacement\": 200.0, \"Horsepower\": 85.0, \"Weight_in_lbs\": 2587, \"Acceleration\": 16.0, \"Year\": \"1970-01-01\", \"Origin\": \"USA\"}, {\"Name\": \"datsun pl510\", \"Miles_per_Gallon\": 27.0, \"Cylinders\": 4, \"Displacement\": 97.0, \"Horsepower\": 88.0, \"Weight_in_lbs\": 2130, \"Acceleration\": 14.5, \"Year\": \"1970-01-01\", \"Origin\": \"Japan\"}, {\"Name\": \"volkswagen 1131 deluxe sedan\", \"Miles_per_Gallon\": 26.0, \"Cylinders\": 4, \"Displacement\": 97.0, \"Horsepower\": 46.0, \"Weight_in_lbs\": 1835, \"Acceleration\": 20.5, \"Year\": \"1970-01-01\", \"Origin\": \"Europe\"}, {\"Name\": \"peugeot 504\", \"Miles_per_Gallon\": 25.0, \"Cylinders\": 4, \"Displacement\": 110.0, \"Horsepower\": 87.0, \"Weight_in_lbs\": 2672, \"Acceleration\": 17.5, \"Year\": \"1970-01-01\", \"Origin\": \"Europe\"}, {\"Name\": \"audi 100 ls\", \"Miles_per_Gallon\": 24.0, \"Cylinders\": 4, \"Displacement\": 107.0, \"Horsepower\": 90.0, \"Weight_in_lbs\": 2430, \"Acceleration\": 14.5, \"Year\": \"1970-01-01\", \"Origin\": \"Europe\"}, {\"Name\": \"saab 99e\", \"Miles_per_Gallon\": 25.0, \"Cylinders\": 4, \"Displacement\": 104.0, \"Horsepower\": 95.0, \"Weight_in_lbs\": 2375, \"Acceleration\": 17.5, \"Year\": \"1970-01-01\", \"Origin\": \"Europe\"}, {\"Name\": \"bmw 2002\", \"Miles_per_Gallon\": 26.0, \"Cylinders\": 4, \"Displacement\": 121.0, \"Horsepower\": 113.0, \"Weight_in_lbs\": 2234, \"Acceleration\": 12.5, \"Year\": \"1970-01-01\", \"Origin\": \"Europe\"}, {\"Name\": \"amc gremlin\", \"Miles_per_Gallon\": 21.0, \"Cylinders\": 6, \"Displacement\": 199.0, \"Horsepower\": 90.0, \"Weight_in_lbs\": 2648, \"Acceleration\": 15.0, \"Year\": \"1970-01-01\", \"Origin\": \"USA\"}, {\"Name\": \"ford f250\", \"Miles_per_Gallon\": 10.0, \"Cylinders\": 8, \"Displacement\": 360.0, \"Horsepower\": 215.0, \"Weight_in_lbs\": 4615, \"Acceleration\": 14.0, \"Year\": \"1970-01-01\", \"Origin\": \"USA\"}, {\"Name\": \"chevy c20\", \"Miles_per_Gallon\": 10.0, \"Cylinders\": 8, \"Displacement\": 307.0, \"Horsepower\": 200.0, \"Weight_in_lbs\": 4376, \"Acceleration\": 15.0, \"Year\": \"1970-01-01\", \"Origin\": \"USA\"}, {\"Name\": \"dodge d200\", \"Miles_per_Gallon\": 11.0, \"Cylinders\": 8, \"Displacement\": 318.0, \"Horsepower\": 210.0, \"Weight_in_lbs\": 4382, \"Acceleration\": 13.5, \"Year\": \"1970-01-01\", \"Origin\": \"USA\"}, {\"Name\": \"hi 1200d\", \"Miles_per_Gallon\": 9.0, \"Cylinders\": 8, \"Displacement\": 304.0, \"Horsepower\": 193.0, \"Weight_in_lbs\": 4732, \"Acceleration\": 18.5, \"Year\": \"1970-01-01\", \"Origin\": \"USA\"}, {\"Name\": \"datsun pl510\", \"Miles_per_Gallon\": 27.0, \"Cylinders\": 4, \"Displacement\": 97.0, \"Horsepower\": 88.0, \"Weight_in_lbs\": 2130, \"Acceleration\": 14.5, \"Year\": \"1971-01-01\", \"Origin\": \"Japan\"}, {\"Name\": \"chevrolet vega 2300\", \"Miles_per_Gallon\": 28.0, \"Cylinders\": 4, \"Displacement\": 140.0, \"Horsepower\": 90.0, \"Weight_in_lbs\": 2264, \"Acceleration\": 15.5, \"Year\": \"1971-01-01\", \"Origin\": \"USA\"}, {\"Name\": \"toyota corona\", \"Miles_per_Gallon\": 25.0, \"Cylinders\": 4, \"Displacement\": 113.0, \"Horsepower\": 95.0, \"Weight_in_lbs\": 2228, \"Acceleration\": 14.0, \"Year\": \"1971-01-01\", \"Origin\": \"Japan\"}, {\"Name\": \"ford pinto\", \"Miles_per_Gallon\": 25.0, \"Cylinders\": 4, \"Displacement\": 98.0, \"Horsepower\": null, \"Weight_in_lbs\": 2046, \"Acceleration\": 19.0, \"Year\": \"1971-01-01\", \"Origin\": \"USA\"}, {\"Name\": \"volkswagen super beetle 117\", \"Miles_per_Gallon\": null, \"Cylinders\": 4, \"Displacement\": 97.0, \"Horsepower\": 48.0, \"Weight_in_lbs\": 1978, \"Acceleration\": 20.0, \"Year\": \"1971-01-01\", \"Origin\": \"Europe\"}, {\"Name\": \"amc gremlin\", \"Miles_per_Gallon\": 19.0, \"Cylinders\": 6, \"Displacement\": 232.0, \"Horsepower\": 100.0, \"Weight_in_lbs\": 2634, \"Acceleration\": 13.0, \"Year\": \"1971-01-01\", \"Origin\": \"USA\"}, {\"Name\": \"plymouth satellite custom\", \"Miles_per_Gallon\": 16.0, \"Cylinders\": 6, \"Displacement\": 225.0, \"Horsepower\": 105.0, \"Weight_in_lbs\": 3439, \"Acceleration\": 15.5, \"Year\": \"1971-01-01\", \"Origin\": \"USA\"}, {\"Name\": \"chevrolet chevelle malibu\", \"Miles_per_Gallon\": 17.0, \"Cylinders\": 6, \"Displacement\": 250.0, \"Horsepower\": 100.0, \"Weight_in_lbs\": 3329, \"Acceleration\": 15.5, \"Year\": \"1971-01-01\", \"Origin\": \"USA\"}, {\"Name\": \"ford torino 500\", \"Miles_per_Gallon\": 19.0, \"Cylinders\": 6, \"Displacement\": 250.0, \"Horsepower\": 88.0, \"Weight_in_lbs\": 3302, \"Acceleration\": 15.5, \"Year\": \"1971-01-01\", \"Origin\": \"USA\"}, {\"Name\": \"amc matador\", \"Miles_per_Gallon\": 18.0, \"Cylinders\": 6, \"Displacement\": 232.0, \"Horsepower\": 100.0, \"Weight_in_lbs\": 3288, \"Acceleration\": 15.5, \"Year\": \"1971-01-01\", \"Origin\": \"USA\"}, {\"Name\": \"chevrolet impala\", \"Miles_per_Gallon\": 14.0, \"Cylinders\": 8, \"Displacement\": 350.0, \"Horsepower\": 165.0, \"Weight_in_lbs\": 4209, \"Acceleration\": 12.0, \"Year\": \"1971-01-01\", \"Origin\": \"USA\"}, {\"Name\": \"pontiac catalina brougham\", \"Miles_per_Gallon\": 14.0, \"Cylinders\": 8, \"Displacement\": 400.0, \"Horsepower\": 175.0, \"Weight_in_lbs\": 4464, \"Acceleration\": 11.5, \"Year\": \"1971-01-01\", \"Origin\": \"USA\"}, {\"Name\": \"ford galaxie 500\", \"Miles_per_Gallon\": 14.0, \"Cylinders\": 8, \"Displacement\": 351.0, \"Horsepower\": 153.0, \"Weight_in_lbs\": 4154, \"Acceleration\": 13.5, \"Year\": \"1971-01-01\", \"Origin\": \"USA\"}, {\"Name\": \"plymouth fury iii\", \"Miles_per_Gallon\": 14.0, \"Cylinders\": 8, \"Displacement\": 318.0, \"Horsepower\": 150.0, \"Weight_in_lbs\": 4096, \"Acceleration\": 13.0, \"Year\": \"1971-01-01\", \"Origin\": \"USA\"}, {\"Name\": \"dodge monaco (sw)\", \"Miles_per_Gallon\": 12.0, \"Cylinders\": 8, \"Displacement\": 383.0, \"Horsepower\": 180.0, \"Weight_in_lbs\": 4955, \"Acceleration\": 11.5, \"Year\": \"1971-01-01\", \"Origin\": \"USA\"}, {\"Name\": \"ford country squire (sw)\", \"Miles_per_Gallon\": 13.0, \"Cylinders\": 8, \"Displacement\": 400.0, \"Horsepower\": 170.0, \"Weight_in_lbs\": 4746, \"Acceleration\": 12.0, \"Year\": \"1971-01-01\", \"Origin\": \"USA\"}, {\"Name\": \"pontiac safari (sw)\", \"Miles_per_Gallon\": 13.0, \"Cylinders\": 8, \"Displacement\": 400.0, \"Horsepower\": 175.0, \"Weight_in_lbs\": 5140, \"Acceleration\": 12.0, \"Year\": \"1971-01-01\", \"Origin\": \"USA\"}, {\"Name\": \"amc hornet sportabout (sw)\", \"Miles_per_Gallon\": 18.0, \"Cylinders\": 6, \"Displacement\": 258.0, \"Horsepower\": 110.0, \"Weight_in_lbs\": 2962, \"Acceleration\": 13.5, \"Year\": \"1971-01-01\", \"Origin\": \"USA\"}, {\"Name\": \"chevrolet vega (sw)\", \"Miles_per_Gallon\": 22.0, \"Cylinders\": 4, \"Displacement\": 140.0, \"Horsepower\": 72.0, \"Weight_in_lbs\": 2408, \"Acceleration\": 19.0, \"Year\": \"1971-01-01\", \"Origin\": \"USA\"}, {\"Name\": \"pontiac firebird\", \"Miles_per_Gallon\": 19.0, \"Cylinders\": 6, \"Displacement\": 250.0, \"Horsepower\": 100.0, \"Weight_in_lbs\": 3282, \"Acceleration\": 15.0, \"Year\": \"1971-01-01\", \"Origin\": \"USA\"}, {\"Name\": \"ford mustang\", \"Miles_per_Gallon\": 18.0, \"Cylinders\": 6, \"Displacement\": 250.0, \"Horsepower\": 88.0, \"Weight_in_lbs\": 3139, \"Acceleration\": 14.5, \"Year\": \"1971-01-01\", \"Origin\": \"USA\"}, {\"Name\": \"mercury capri 2000\", \"Miles_per_Gallon\": 23.0, \"Cylinders\": 4, \"Displacement\": 122.0, \"Horsepower\": 86.0, \"Weight_in_lbs\": 2220, \"Acceleration\": 14.0, \"Year\": \"1971-01-01\", \"Origin\": \"USA\"}, {\"Name\": \"opel 1900\", \"Miles_per_Gallon\": 28.0, \"Cylinders\": 4, \"Displacement\": 116.0, \"Horsepower\": 90.0, \"Weight_in_lbs\": 2123, \"Acceleration\": 14.0, \"Year\": \"1971-01-01\", \"Origin\": \"Europe\"}, {\"Name\": \"peugeot 304\", \"Miles_per_Gallon\": 30.0, \"Cylinders\": 4, \"Displacement\": 79.0, \"Horsepower\": 70.0, \"Weight_in_lbs\": 2074, \"Acceleration\": 19.5, \"Year\": \"1971-01-01\", \"Origin\": \"Europe\"}, {\"Name\": \"fiat 124b\", \"Miles_per_Gallon\": 30.0, \"Cylinders\": 4, \"Displacement\": 88.0, \"Horsepower\": 76.0, \"Weight_in_lbs\": 2065, \"Acceleration\": 14.5, \"Year\": \"1971-01-01\", \"Origin\": \"Europe\"}, {\"Name\": \"toyota corolla 1200\", \"Miles_per_Gallon\": 31.0, \"Cylinders\": 4, \"Displacement\": 71.0, \"Horsepower\": 65.0, \"Weight_in_lbs\": 1773, \"Acceleration\": 19.0, \"Year\": \"1971-01-01\", \"Origin\": \"Japan\"}, {\"Name\": \"datsun 1200\", \"Miles_per_Gallon\": 35.0, \"Cylinders\": 4, \"Displacement\": 72.0, \"Horsepower\": 69.0, \"Weight_in_lbs\": 1613, \"Acceleration\": 18.0, \"Year\": \"1971-01-01\", \"Origin\": \"Japan\"}, {\"Name\": \"volkswagen model 111\", \"Miles_per_Gallon\": 27.0, \"Cylinders\": 4, \"Displacement\": 97.0, \"Horsepower\": 60.0, \"Weight_in_lbs\": 1834, \"Acceleration\": 19.0, \"Year\": \"1971-01-01\", \"Origin\": \"Europe\"}, {\"Name\": \"plymouth cricket\", \"Miles_per_Gallon\": 26.0, \"Cylinders\": 4, \"Displacement\": 91.0, \"Horsepower\": 70.0, \"Weight_in_lbs\": 1955, \"Acceleration\": 20.5, \"Year\": \"1971-01-01\", \"Origin\": \"USA\"}, {\"Name\": \"toyota corona hardtop\", \"Miles_per_Gallon\": 24.0, \"Cylinders\": 4, \"Displacement\": 113.0, \"Horsepower\": 95.0, \"Weight_in_lbs\": 2278, \"Acceleration\": 15.5, \"Year\": \"1972-01-01\", \"Origin\": \"Japan\"}, {\"Name\": \"dodge colt hardtop\", \"Miles_per_Gallon\": 25.0, \"Cylinders\": 4, \"Displacement\": 97.5, \"Horsepower\": 80.0, \"Weight_in_lbs\": 2126, \"Acceleration\": 17.0, \"Year\": \"1972-01-01\", \"Origin\": \"USA\"}, {\"Name\": \"volkswagen type 3\", \"Miles_per_Gallon\": 23.0, \"Cylinders\": 4, \"Displacement\": 97.0, \"Horsepower\": 54.0, \"Weight_in_lbs\": 2254, \"Acceleration\": 23.5, \"Year\": \"1972-01-01\", \"Origin\": \"Europe\"}, {\"Name\": \"chevrolet vega\", \"Miles_per_Gallon\": 20.0, \"Cylinders\": 4, \"Displacement\": 140.0, \"Horsepower\": 90.0, \"Weight_in_lbs\": 2408, \"Acceleration\": 19.5, \"Year\": \"1972-01-01\", \"Origin\": \"USA\"}, {\"Name\": \"ford pinto runabout\", \"Miles_per_Gallon\": 21.0, \"Cylinders\": 4, \"Displacement\": 122.0, \"Horsepower\": 86.0, \"Weight_in_lbs\": 2226, \"Acceleration\": 16.5, \"Year\": \"1972-01-01\", \"Origin\": \"USA\"}, {\"Name\": \"chevrolet impala\", \"Miles_per_Gallon\": 13.0, \"Cylinders\": 8, \"Displacement\": 350.0, \"Horsepower\": 165.0, \"Weight_in_lbs\": 4274, \"Acceleration\": 12.0, \"Year\": \"1972-01-01\", \"Origin\": \"USA\"}, {\"Name\": \"pontiac catalina\", \"Miles_per_Gallon\": 14.0, \"Cylinders\": 8, \"Displacement\": 400.0, \"Horsepower\": 175.0, \"Weight_in_lbs\": 4385, \"Acceleration\": 12.0, \"Year\": \"1972-01-01\", \"Origin\": \"USA\"}, {\"Name\": \"plymouth fury iii\", \"Miles_per_Gallon\": 15.0, \"Cylinders\": 8, \"Displacement\": 318.0, \"Horsepower\": 150.0, \"Weight_in_lbs\": 4135, \"Acceleration\": 13.5, \"Year\": \"1972-01-01\", \"Origin\": \"USA\"}, {\"Name\": \"ford galaxie 500\", \"Miles_per_Gallon\": 14.0, \"Cylinders\": 8, \"Displacement\": 351.0, \"Horsepower\": 153.0, \"Weight_in_lbs\": 4129, \"Acceleration\": 13.0, \"Year\": \"1972-01-01\", \"Origin\": \"USA\"}, {\"Name\": \"amc ambassador sst\", \"Miles_per_Gallon\": 17.0, \"Cylinders\": 8, \"Displacement\": 304.0, \"Horsepower\": 150.0, \"Weight_in_lbs\": 3672, \"Acceleration\": 11.5, \"Year\": \"1972-01-01\", \"Origin\": \"USA\"}, {\"Name\": \"mercury marquis\", \"Miles_per_Gallon\": 11.0, \"Cylinders\": 8, \"Displacement\": 429.0, \"Horsepower\": 208.0, \"Weight_in_lbs\": 4633, \"Acceleration\": 11.0, \"Year\": \"1972-01-01\", \"Origin\": \"USA\"}, {\"Name\": \"buick lesabre custom\", \"Miles_per_Gallon\": 13.0, \"Cylinders\": 8, \"Displacement\": 350.0, \"Horsepower\": 155.0, \"Weight_in_lbs\": 4502, \"Acceleration\": 13.5, \"Year\": \"1972-01-01\", \"Origin\": \"USA\"}, {\"Name\": \"oldsmobile delta 88 royale\", \"Miles_per_Gallon\": 12.0, \"Cylinders\": 8, \"Displacement\": 350.0, \"Horsepower\": 160.0, \"Weight_in_lbs\": 4456, \"Acceleration\": 13.5, \"Year\": \"1972-01-01\", \"Origin\": \"USA\"}, {\"Name\": \"chrysler newport royal\", \"Miles_per_Gallon\": 13.0, \"Cylinders\": 8, \"Displacement\": 400.0, \"Horsepower\": 190.0, \"Weight_in_lbs\": 4422, \"Acceleration\": 12.5, \"Year\": \"1972-01-01\", \"Origin\": \"USA\"}, {\"Name\": \"mazda rx2 coupe\", \"Miles_per_Gallon\": 19.0, \"Cylinders\": 3, \"Displacement\": 70.0, \"Horsepower\": 97.0, \"Weight_in_lbs\": 2330, \"Acceleration\": 13.5, \"Year\": \"1972-01-01\", \"Origin\": \"Japan\"}, {\"Name\": \"amc matador (sw)\", \"Miles_per_Gallon\": 15.0, \"Cylinders\": 8, \"Displacement\": 304.0, \"Horsepower\": 150.0, \"Weight_in_lbs\": 3892, \"Acceleration\": 12.5, \"Year\": \"1972-01-01\", \"Origin\": \"USA\"}, {\"Name\": \"chevrolet chevelle concours (sw)\", \"Miles_per_Gallon\": 13.0, \"Cylinders\": 8, \"Displacement\": 307.0, \"Horsepower\": 130.0, \"Weight_in_lbs\": 4098, \"Acceleration\": 14.0, \"Year\": \"1972-01-01\", \"Origin\": \"USA\"}, {\"Name\": \"ford gran torino (sw)\", \"Miles_per_Gallon\": 13.0, \"Cylinders\": 8, \"Displacement\": 302.0, \"Horsepower\": 140.0, \"Weight_in_lbs\": 4294, \"Acceleration\": 16.0, \"Year\": \"1972-01-01\", \"Origin\": \"USA\"}, {\"Name\": \"plymouth satellite custom (sw)\", \"Miles_per_Gallon\": 14.0, \"Cylinders\": 8, \"Displacement\": 318.0, \"Horsepower\": 150.0, \"Weight_in_lbs\": 4077, \"Acceleration\": 14.0, \"Year\": \"1972-01-01\", \"Origin\": \"USA\"}, {\"Name\": \"volvo 145e (sw)\", \"Miles_per_Gallon\": 18.0, \"Cylinders\": 4, \"Displacement\": 121.0, \"Horsepower\": 112.0, \"Weight_in_lbs\": 2933, \"Acceleration\": 14.5, \"Year\": \"1972-01-01\", \"Origin\": \"Europe\"}, {\"Name\": \"volkswagen 411 (sw)\", \"Miles_per_Gallon\": 22.0, \"Cylinders\": 4, \"Displacement\": 121.0, \"Horsepower\": 76.0, \"Weight_in_lbs\": 2511, \"Acceleration\": 18.0, \"Year\": \"1972-01-01\", \"Origin\": \"Europe\"}, {\"Name\": \"peugeot 504 (sw)\", \"Miles_per_Gallon\": 21.0, \"Cylinders\": 4, \"Displacement\": 120.0, \"Horsepower\": 87.0, \"Weight_in_lbs\": 2979, \"Acceleration\": 19.5, \"Year\": \"1972-01-01\", \"Origin\": \"Europe\"}, {\"Name\": \"renault 12 (sw)\", \"Miles_per_Gallon\": 26.0, \"Cylinders\": 4, \"Displacement\": 96.0, \"Horsepower\": 69.0, \"Weight_in_lbs\": 2189, \"Acceleration\": 18.0, \"Year\": \"1972-01-01\", \"Origin\": \"Europe\"}, {\"Name\": \"ford pinto (sw)\", \"Miles_per_Gallon\": 22.0, \"Cylinders\": 4, \"Displacement\": 122.0, \"Horsepower\": 86.0, \"Weight_in_lbs\": 2395, \"Acceleration\": 16.0, \"Year\": \"1972-01-01\", \"Origin\": \"USA\"}, {\"Name\": \"datsun 510 (sw)\", \"Miles_per_Gallon\": 28.0, \"Cylinders\": 4, \"Displacement\": 97.0, \"Horsepower\": 92.0, \"Weight_in_lbs\": 2288, \"Acceleration\": 17.0, \"Year\": \"1972-01-01\", \"Origin\": \"Japan\"}, {\"Name\": \"toyouta corona mark ii (sw)\", \"Miles_per_Gallon\": 23.0, \"Cylinders\": 4, \"Displacement\": 120.0, \"Horsepower\": 97.0, \"Weight_in_lbs\": 2506, \"Acceleration\": 14.5, \"Year\": \"1972-01-01\", \"Origin\": \"Japan\"}, {\"Name\": \"dodge colt (sw)\", \"Miles_per_Gallon\": 28.0, \"Cylinders\": 4, \"Displacement\": 98.0, \"Horsepower\": 80.0, \"Weight_in_lbs\": 2164, \"Acceleration\": 15.0, \"Year\": \"1972-01-01\", \"Origin\": \"USA\"}, {\"Name\": \"toyota corolla 1600 (sw)\", \"Miles_per_Gallon\": 27.0, \"Cylinders\": 4, \"Displacement\": 97.0, \"Horsepower\": 88.0, \"Weight_in_lbs\": 2100, \"Acceleration\": 16.5, \"Year\": \"1972-01-01\", \"Origin\": \"Japan\"}, {\"Name\": \"buick century 350\", \"Miles_per_Gallon\": 13.0, \"Cylinders\": 8, \"Displacement\": 350.0, \"Horsepower\": 175.0, \"Weight_in_lbs\": 4100, \"Acceleration\": 13.0, \"Year\": \"1973-01-01\", \"Origin\": \"USA\"}, {\"Name\": \"amc matador\", \"Miles_per_Gallon\": 14.0, \"Cylinders\": 8, \"Displacement\": 304.0, \"Horsepower\": 150.0, \"Weight_in_lbs\": 3672, \"Acceleration\": 11.5, \"Year\": \"1973-01-01\", \"Origin\": \"USA\"}, {\"Name\": \"chevrolet malibu\", \"Miles_per_Gallon\": 13.0, \"Cylinders\": 8, \"Displacement\": 350.0, \"Horsepower\": 145.0, \"Weight_in_lbs\": 3988, \"Acceleration\": 13.0, \"Year\": \"1973-01-01\", \"Origin\": \"USA\"}, {\"Name\": \"ford gran torino\", \"Miles_per_Gallon\": 14.0, \"Cylinders\": 8, \"Displacement\": 302.0, \"Horsepower\": 137.0, \"Weight_in_lbs\": 4042, \"Acceleration\": 14.5, \"Year\": \"1973-01-01\", \"Origin\": \"USA\"}, {\"Name\": \"dodge coronet custom\", \"Miles_per_Gallon\": 15.0, \"Cylinders\": 8, \"Displacement\": 318.0, \"Horsepower\": 150.0, \"Weight_in_lbs\": 3777, \"Acceleration\": 12.5, \"Year\": \"1973-01-01\", \"Origin\": \"USA\"}, {\"Name\": \"mercury marquis brougham\", \"Miles_per_Gallon\": 12.0, \"Cylinders\": 8, \"Displacement\": 429.0, \"Horsepower\": 198.0, \"Weight_in_lbs\": 4952, \"Acceleration\": 11.5, \"Year\": \"1973-01-01\", \"Origin\": \"USA\"}, {\"Name\": \"chevrolet caprice classic\", \"Miles_per_Gallon\": 13.0, \"Cylinders\": 8, \"Displacement\": 400.0, \"Horsepower\": 150.0, \"Weight_in_lbs\": 4464, \"Acceleration\": 12.0, \"Year\": \"1973-01-01\", \"Origin\": \"USA\"}, {\"Name\": \"ford ltd\", \"Miles_per_Gallon\": 13.0, \"Cylinders\": 8, \"Displacement\": 351.0, \"Horsepower\": 158.0, \"Weight_in_lbs\": 4363, \"Acceleration\": 13.0, \"Year\": \"1973-01-01\", \"Origin\": \"USA\"}, {\"Name\": \"plymouth fury gran sedan\", \"Miles_per_Gallon\": 14.0, \"Cylinders\": 8, \"Displacement\": 318.0, \"Horsepower\": 150.0, \"Weight_in_lbs\": 4237, \"Acceleration\": 14.5, \"Year\": \"1973-01-01\", \"Origin\": \"USA\"}, {\"Name\": \"chrysler new yorker brougham\", \"Miles_per_Gallon\": 13.0, \"Cylinders\": 8, \"Displacement\": 440.0, \"Horsepower\": 215.0, \"Weight_in_lbs\": 4735, \"Acceleration\": 11.0, \"Year\": \"1973-01-01\", \"Origin\": \"USA\"}, {\"Name\": \"buick electra 225 custom\", \"Miles_per_Gallon\": 12.0, \"Cylinders\": 8, \"Displacement\": 455.0, \"Horsepower\": 225.0, \"Weight_in_lbs\": 4951, \"Acceleration\": 11.0, \"Year\": \"1973-01-01\", \"Origin\": \"USA\"}, {\"Name\": \"amc ambassador brougham\", \"Miles_per_Gallon\": 13.0, \"Cylinders\": 8, \"Displacement\": 360.0, \"Horsepower\": 175.0, \"Weight_in_lbs\": 3821, \"Acceleration\": 11.0, \"Year\": \"1973-01-01\", \"Origin\": \"USA\"}, {\"Name\": \"plymouth valiant\", \"Miles_per_Gallon\": 18.0, \"Cylinders\": 6, \"Displacement\": 225.0, \"Horsepower\": 105.0, \"Weight_in_lbs\": 3121, \"Acceleration\": 16.5, \"Year\": \"1973-01-01\", \"Origin\": \"USA\"}, {\"Name\": \"chevrolet nova custom\", \"Miles_per_Gallon\": 16.0, \"Cylinders\": 6, \"Displacement\": 250.0, \"Horsepower\": 100.0, \"Weight_in_lbs\": 3278, \"Acceleration\": 18.0, \"Year\": \"1973-01-01\", \"Origin\": \"USA\"}, {\"Name\": \"amc hornet\", \"Miles_per_Gallon\": 18.0, \"Cylinders\": 6, \"Displacement\": 232.0, \"Horsepower\": 100.0, \"Weight_in_lbs\": 2945, \"Acceleration\": 16.0, \"Year\": \"1973-01-01\", \"Origin\": \"USA\"}, {\"Name\": \"ford maverick\", \"Miles_per_Gallon\": 18.0, \"Cylinders\": 6, \"Displacement\": 250.0, \"Horsepower\": 88.0, \"Weight_in_lbs\": 3021, \"Acceleration\": 16.5, \"Year\": \"1973-01-01\", \"Origin\": \"USA\"}, {\"Name\": \"plymouth duster\", \"Miles_per_Gallon\": 23.0, \"Cylinders\": 6, \"Displacement\": 198.0, \"Horsepower\": 95.0, \"Weight_in_lbs\": 2904, \"Acceleration\": 16.0, \"Year\": \"1973-01-01\", \"Origin\": \"USA\"}, {\"Name\": \"volkswagen super beetle\", \"Miles_per_Gallon\": 26.0, \"Cylinders\": 4, \"Displacement\": 97.0, \"Horsepower\": 46.0, \"Weight_in_lbs\": 1950, \"Acceleration\": 21.0, \"Year\": \"1973-01-01\", \"Origin\": \"Europe\"}, {\"Name\": \"chevrolet impala\", \"Miles_per_Gallon\": 11.0, \"Cylinders\": 8, \"Displacement\": 400.0, \"Horsepower\": 150.0, \"Weight_in_lbs\": 4997, \"Acceleration\": 14.0, \"Year\": \"1973-01-01\", \"Origin\": \"USA\"}, {\"Name\": \"ford country\", \"Miles_per_Gallon\": 12.0, \"Cylinders\": 8, \"Displacement\": 400.0, \"Horsepower\": 167.0, \"Weight_in_lbs\": 4906, \"Acceleration\": 12.5, \"Year\": \"1973-01-01\", \"Origin\": \"USA\"}, {\"Name\": \"plymouth custom suburb\", \"Miles_per_Gallon\": 13.0, \"Cylinders\": 8, \"Displacement\": 360.0, \"Horsepower\": 170.0, \"Weight_in_lbs\": 4654, \"Acceleration\": 13.0, \"Year\": \"1973-01-01\", \"Origin\": \"USA\"}, {\"Name\": \"oldsmobile vista cruiser\", \"Miles_per_Gallon\": 12.0, \"Cylinders\": 8, \"Displacement\": 350.0, \"Horsepower\": 180.0, \"Weight_in_lbs\": 4499, \"Acceleration\": 12.5, \"Year\": \"1973-01-01\", \"Origin\": \"USA\"}, {\"Name\": \"amc gremlin\", \"Miles_per_Gallon\": 18.0, \"Cylinders\": 6, \"Displacement\": 232.0, \"Horsepower\": 100.0, \"Weight_in_lbs\": 2789, \"Acceleration\": 15.0, \"Year\": \"1973-01-01\", \"Origin\": \"USA\"}, {\"Name\": \"toyota carina\", \"Miles_per_Gallon\": 20.0, \"Cylinders\": 4, \"Displacement\": 97.0, \"Horsepower\": 88.0, \"Weight_in_lbs\": 2279, \"Acceleration\": 19.0, \"Year\": \"1973-01-01\", \"Origin\": \"Japan\"}, {\"Name\": \"chevrolet vega\", \"Miles_per_Gallon\": 21.0, \"Cylinders\": 4, \"Displacement\": 140.0, \"Horsepower\": 72.0, \"Weight_in_lbs\": 2401, \"Acceleration\": 19.5, \"Year\": \"1973-01-01\", \"Origin\": \"USA\"}, {\"Name\": \"datsun 610\", \"Miles_per_Gallon\": 22.0, \"Cylinders\": 4, \"Displacement\": 108.0, \"Horsepower\": 94.0, \"Weight_in_lbs\": 2379, \"Acceleration\": 16.5, \"Year\": \"1973-01-01\", \"Origin\": \"Japan\"}, {\"Name\": \"maxda rx3\", \"Miles_per_Gallon\": 18.0, \"Cylinders\": 3, \"Displacement\": 70.0, \"Horsepower\": 90.0, \"Weight_in_lbs\": 2124, \"Acceleration\": 13.5, \"Year\": \"1973-01-01\", \"Origin\": \"Japan\"}, {\"Name\": \"ford pinto\", \"Miles_per_Gallon\": 19.0, \"Cylinders\": 4, \"Displacement\": 122.0, \"Horsepower\": 85.0, \"Weight_in_lbs\": 2310, \"Acceleration\": 18.5, \"Year\": \"1973-01-01\", \"Origin\": \"USA\"}, {\"Name\": \"mercury capri v6\", \"Miles_per_Gallon\": 21.0, \"Cylinders\": 6, \"Displacement\": 155.0, \"Horsepower\": 107.0, \"Weight_in_lbs\": 2472, \"Acceleration\": 14.0, \"Year\": \"1973-01-01\", \"Origin\": \"USA\"}, {\"Name\": \"fiat 124 sport coupe\", \"Miles_per_Gallon\": 26.0, \"Cylinders\": 4, \"Displacement\": 98.0, \"Horsepower\": 90.0, \"Weight_in_lbs\": 2265, \"Acceleration\": 15.5, \"Year\": \"1973-01-01\", \"Origin\": \"Europe\"}, {\"Name\": \"chevrolet monte carlo s\", \"Miles_per_Gallon\": 15.0, \"Cylinders\": 8, \"Displacement\": 350.0, \"Horsepower\": 145.0, \"Weight_in_lbs\": 4082, \"Acceleration\": 13.0, \"Year\": \"1973-01-01\", \"Origin\": \"USA\"}, {\"Name\": \"pontiac grand prix\", \"Miles_per_Gallon\": 16.0, \"Cylinders\": 8, \"Displacement\": 400.0, \"Horsepower\": 230.0, \"Weight_in_lbs\": 4278, \"Acceleration\": 9.5, \"Year\": \"1973-01-01\", \"Origin\": \"USA\"}, {\"Name\": \"fiat 128\", \"Miles_per_Gallon\": 29.0, \"Cylinders\": 4, \"Displacement\": 68.0, \"Horsepower\": 49.0, \"Weight_in_lbs\": 1867, \"Acceleration\": 19.5, \"Year\": \"1973-01-01\", \"Origin\": \"Europe\"}, {\"Name\": \"opel manta\", \"Miles_per_Gallon\": 24.0, \"Cylinders\": 4, \"Displacement\": 116.0, \"Horsepower\": 75.0, \"Weight_in_lbs\": 2158, \"Acceleration\": 15.5, \"Year\": \"1973-01-01\", \"Origin\": \"Europe\"}, {\"Name\": \"audi 100ls\", \"Miles_per_Gallon\": 20.0, \"Cylinders\": 4, \"Displacement\": 114.0, \"Horsepower\": 91.0, \"Weight_in_lbs\": 2582, \"Acceleration\": 14.0, \"Year\": \"1973-01-01\", \"Origin\": \"Europe\"}, {\"Name\": \"volvo 144ea\", \"Miles_per_Gallon\": 19.0, \"Cylinders\": 4, \"Displacement\": 121.0, \"Horsepower\": 112.0, \"Weight_in_lbs\": 2868, \"Acceleration\": 15.5, \"Year\": \"1973-01-01\", \"Origin\": \"Europe\"}, {\"Name\": \"dodge dart custom\", \"Miles_per_Gallon\": 15.0, \"Cylinders\": 8, \"Displacement\": 318.0, \"Horsepower\": 150.0, \"Weight_in_lbs\": 3399, \"Acceleration\": 11.0, \"Year\": \"1973-01-01\", \"Origin\": \"USA\"}, {\"Name\": \"saab 99le\", \"Miles_per_Gallon\": 24.0, \"Cylinders\": 4, \"Displacement\": 121.0, \"Horsepower\": 110.0, \"Weight_in_lbs\": 2660, \"Acceleration\": 14.0, \"Year\": \"1973-01-01\", \"Origin\": \"Europe\"}, {\"Name\": \"toyota mark ii\", \"Miles_per_Gallon\": 20.0, \"Cylinders\": 6, \"Displacement\": 156.0, \"Horsepower\": 122.0, \"Weight_in_lbs\": 2807, \"Acceleration\": 13.5, \"Year\": \"1973-01-01\", \"Origin\": \"Japan\"}, {\"Name\": \"oldsmobile omega\", \"Miles_per_Gallon\": 11.0, \"Cylinders\": 8, \"Displacement\": 350.0, \"Horsepower\": 180.0, \"Weight_in_lbs\": 3664, \"Acceleration\": 11.0, \"Year\": \"1973-01-01\", \"Origin\": \"USA\"}, {\"Name\": \"plymouth duster\", \"Miles_per_Gallon\": 20.0, \"Cylinders\": 6, \"Displacement\": 198.0, \"Horsepower\": 95.0, \"Weight_in_lbs\": 3102, \"Acceleration\": 16.5, \"Year\": \"1974-01-01\", \"Origin\": \"USA\"}, {\"Name\": \"ford maverick\", \"Miles_per_Gallon\": 21.0, \"Cylinders\": 6, \"Displacement\": 200.0, \"Horsepower\": null, \"Weight_in_lbs\": 2875, \"Acceleration\": 17.0, \"Year\": \"1974-01-01\", \"Origin\": \"USA\"}, {\"Name\": \"amc hornet\", \"Miles_per_Gallon\": 19.0, \"Cylinders\": 6, \"Displacement\": 232.0, \"Horsepower\": 100.0, \"Weight_in_lbs\": 2901, \"Acceleration\": 16.0, \"Year\": \"1974-01-01\", \"Origin\": \"USA\"}, {\"Name\": \"chevrolet nova\", \"Miles_per_Gallon\": 15.0, \"Cylinders\": 6, \"Displacement\": 250.0, \"Horsepower\": 100.0, \"Weight_in_lbs\": 3336, \"Acceleration\": 17.0, \"Year\": \"1974-01-01\", \"Origin\": \"USA\"}, {\"Name\": \"datsun b210\", \"Miles_per_Gallon\": 31.0, \"Cylinders\": 4, \"Displacement\": 79.0, \"Horsepower\": 67.0, \"Weight_in_lbs\": 1950, \"Acceleration\": 19.0, \"Year\": \"1974-01-01\", \"Origin\": \"Japan\"}, {\"Name\": \"ford pinto\", \"Miles_per_Gallon\": 26.0, \"Cylinders\": 4, \"Displacement\": 122.0, \"Horsepower\": 80.0, \"Weight_in_lbs\": 2451, \"Acceleration\": 16.5, \"Year\": \"1974-01-01\", \"Origin\": \"USA\"}, {\"Name\": \"toyota corolla 1200\", \"Miles_per_Gallon\": 32.0, \"Cylinders\": 4, \"Displacement\": 71.0, \"Horsepower\": 65.0, \"Weight_in_lbs\": 1836, \"Acceleration\": 21.0, \"Year\": \"1974-01-01\", \"Origin\": \"Japan\"}, {\"Name\": \"chevrolet vega\", \"Miles_per_Gallon\": 25.0, \"Cylinders\": 4, \"Displacement\": 140.0, \"Horsepower\": 75.0, \"Weight_in_lbs\": 2542, \"Acceleration\": 17.0, \"Year\": \"1974-01-01\", \"Origin\": \"USA\"}, {\"Name\": \"chevrolet chevelle malibu classic\", \"Miles_per_Gallon\": 16.0, \"Cylinders\": 6, \"Displacement\": 250.0, \"Horsepower\": 100.0, \"Weight_in_lbs\": 3781, \"Acceleration\": 17.0, \"Year\": \"1974-01-01\", \"Origin\": \"USA\"}, {\"Name\": \"amc matador\", \"Miles_per_Gallon\": 16.0, \"Cylinders\": 6, \"Displacement\": 258.0, \"Horsepower\": 110.0, \"Weight_in_lbs\": 3632, \"Acceleration\": 18.0, \"Year\": \"1974-01-01\", \"Origin\": \"USA\"}, {\"Name\": \"plymouth satellite sebring\", \"Miles_per_Gallon\": 18.0, \"Cylinders\": 6, \"Displacement\": 225.0, \"Horsepower\": 105.0, \"Weight_in_lbs\": 3613, \"Acceleration\": 16.5, \"Year\": \"1974-01-01\", \"Origin\": \"USA\"}, {\"Name\": \"ford gran torino\", \"Miles_per_Gallon\": 16.0, \"Cylinders\": 8, \"Displacement\": 302.0, \"Horsepower\": 140.0, \"Weight_in_lbs\": 4141, \"Acceleration\": 14.0, \"Year\": \"1974-01-01\", \"Origin\": \"USA\"}, {\"Name\": \"buick century luxus (sw)\", \"Miles_per_Gallon\": 13.0, \"Cylinders\": 8, \"Displacement\": 350.0, \"Horsepower\": 150.0, \"Weight_in_lbs\": 4699, \"Acceleration\": 14.5, \"Year\": \"1974-01-01\", \"Origin\": \"USA\"}, {\"Name\": \"dodge coronet custom (sw)\", \"Miles_per_Gallon\": 14.0, \"Cylinders\": 8, \"Displacement\": 318.0, \"Horsepower\": 150.0, \"Weight_in_lbs\": 4457, \"Acceleration\": 13.5, \"Year\": \"1974-01-01\", \"Origin\": \"USA\"}, {\"Name\": \"ford gran torino (sw)\", \"Miles_per_Gallon\": 14.0, \"Cylinders\": 8, \"Displacement\": 302.0, \"Horsepower\": 140.0, \"Weight_in_lbs\": 4638, \"Acceleration\": 16.0, \"Year\": \"1974-01-01\", \"Origin\": \"USA\"}, {\"Name\": \"amc matador (sw)\", \"Miles_per_Gallon\": 14.0, \"Cylinders\": 8, \"Displacement\": 304.0, \"Horsepower\": 150.0, \"Weight_in_lbs\": 4257, \"Acceleration\": 15.5, \"Year\": \"1974-01-01\", \"Origin\": \"USA\"}, {\"Name\": \"audi fox\", \"Miles_per_Gallon\": 29.0, \"Cylinders\": 4, \"Displacement\": 98.0, \"Horsepower\": 83.0, \"Weight_in_lbs\": 2219, \"Acceleration\": 16.5, \"Year\": \"1974-01-01\", \"Origin\": \"Europe\"}, {\"Name\": \"volkswagen dasher\", \"Miles_per_Gallon\": 26.0, \"Cylinders\": 4, \"Displacement\": 79.0, \"Horsepower\": 67.0, \"Weight_in_lbs\": 1963, \"Acceleration\": 15.5, \"Year\": \"1974-01-01\", \"Origin\": \"Europe\"}, {\"Name\": \"opel manta\", \"Miles_per_Gallon\": 26.0, \"Cylinders\": 4, \"Displacement\": 97.0, \"Horsepower\": 78.0, \"Weight_in_lbs\": 2300, \"Acceleration\": 14.5, \"Year\": \"1974-01-01\", \"Origin\": \"Europe\"}, {\"Name\": \"toyota corona\", \"Miles_per_Gallon\": 31.0, \"Cylinders\": 4, \"Displacement\": 76.0, \"Horsepower\": 52.0, \"Weight_in_lbs\": 1649, \"Acceleration\": 16.5, \"Year\": \"1974-01-01\", \"Origin\": \"Japan\"}, {\"Name\": \"datsun 710\", \"Miles_per_Gallon\": 32.0, \"Cylinders\": 4, \"Displacement\": 83.0, \"Horsepower\": 61.0, \"Weight_in_lbs\": 2003, \"Acceleration\": 19.0, \"Year\": \"1974-01-01\", \"Origin\": \"Japan\"}, {\"Name\": \"dodge colt\", \"Miles_per_Gallon\": 28.0, \"Cylinders\": 4, \"Displacement\": 90.0, \"Horsepower\": 75.0, \"Weight_in_lbs\": 2125, \"Acceleration\": 14.5, \"Year\": \"1974-01-01\", \"Origin\": \"USA\"}, {\"Name\": \"fiat 128\", \"Miles_per_Gallon\": 24.0, \"Cylinders\": 4, \"Displacement\": 90.0, \"Horsepower\": 75.0, \"Weight_in_lbs\": 2108, \"Acceleration\": 15.5, \"Year\": \"1974-01-01\", \"Origin\": \"Europe\"}, {\"Name\": \"fiat 124 tc\", \"Miles_per_Gallon\": 26.0, \"Cylinders\": 4, \"Displacement\": 116.0, \"Horsepower\": 75.0, \"Weight_in_lbs\": 2246, \"Acceleration\": 14.0, \"Year\": \"1974-01-01\", \"Origin\": \"Europe\"}, {\"Name\": \"honda civic\", \"Miles_per_Gallon\": 24.0, \"Cylinders\": 4, \"Displacement\": 120.0, \"Horsepower\": 97.0, \"Weight_in_lbs\": 2489, \"Acceleration\": 15.0, \"Year\": \"1974-01-01\", \"Origin\": \"Japan\"}, {\"Name\": \"subaru\", \"Miles_per_Gallon\": 26.0, \"Cylinders\": 4, \"Displacement\": 108.0, \"Horsepower\": 93.0, \"Weight_in_lbs\": 2391, \"Acceleration\": 15.5, \"Year\": \"1974-01-01\", \"Origin\": \"Japan\"}, {\"Name\": \"fiat x1.9\", \"Miles_per_Gallon\": 31.0, \"Cylinders\": 4, \"Displacement\": 79.0, \"Horsepower\": 67.0, \"Weight_in_lbs\": 2000, \"Acceleration\": 16.0, \"Year\": \"1974-01-01\", \"Origin\": \"Europe\"}, {\"Name\": \"plymouth valiant custom\", \"Miles_per_Gallon\": 19.0, \"Cylinders\": 6, \"Displacement\": 225.0, \"Horsepower\": 95.0, \"Weight_in_lbs\": 3264, \"Acceleration\": 16.0, \"Year\": \"1975-01-01\", \"Origin\": \"USA\"}, {\"Name\": \"chevrolet nova\", \"Miles_per_Gallon\": 18.0, \"Cylinders\": 6, \"Displacement\": 250.0, \"Horsepower\": 105.0, \"Weight_in_lbs\": 3459, \"Acceleration\": 16.0, \"Year\": \"1975-01-01\", \"Origin\": \"USA\"}, {\"Name\": \"mercury monarch\", \"Miles_per_Gallon\": 15.0, \"Cylinders\": 6, \"Displacement\": 250.0, \"Horsepower\": 72.0, \"Weight_in_lbs\": 3432, \"Acceleration\": 21.0, \"Year\": \"1975-01-01\", \"Origin\": \"USA\"}, {\"Name\": \"ford maverick\", \"Miles_per_Gallon\": 15.0, \"Cylinders\": 6, \"Displacement\": 250.0, \"Horsepower\": 72.0, \"Weight_in_lbs\": 3158, \"Acceleration\": 19.5, \"Year\": \"1975-01-01\", \"Origin\": \"USA\"}, {\"Name\": \"pontiac catalina\", \"Miles_per_Gallon\": 16.0, \"Cylinders\": 8, \"Displacement\": 400.0, \"Horsepower\": 170.0, \"Weight_in_lbs\": 4668, \"Acceleration\": 11.5, \"Year\": \"1975-01-01\", \"Origin\": \"USA\"}, {\"Name\": \"chevrolet bel air\", \"Miles_per_Gallon\": 15.0, \"Cylinders\": 8, \"Displacement\": 350.0, \"Horsepower\": 145.0, \"Weight_in_lbs\": 4440, \"Acceleration\": 14.0, \"Year\": \"1975-01-01\", \"Origin\": \"USA\"}, {\"Name\": \"plymouth grand fury\", \"Miles_per_Gallon\": 16.0, \"Cylinders\": 8, \"Displacement\": 318.0, \"Horsepower\": 150.0, \"Weight_in_lbs\": 4498, \"Acceleration\": 14.5, \"Year\": \"1975-01-01\", \"Origin\": \"USA\"}, {\"Name\": \"ford ltd\", \"Miles_per_Gallon\": 14.0, \"Cylinders\": 8, \"Displacement\": 351.0, \"Horsepower\": 148.0, \"Weight_in_lbs\": 4657, \"Acceleration\": 13.5, \"Year\": \"1975-01-01\", \"Origin\": \"USA\"}, {\"Name\": \"buick century\", \"Miles_per_Gallon\": 17.0, \"Cylinders\": 6, \"Displacement\": 231.0, \"Horsepower\": 110.0, \"Weight_in_lbs\": 3907, \"Acceleration\": 21.0, \"Year\": \"1975-01-01\", \"Origin\": \"USA\"}, {\"Name\": \"chevroelt chevelle malibu\", \"Miles_per_Gallon\": 16.0, \"Cylinders\": 6, \"Displacement\": 250.0, \"Horsepower\": 105.0, \"Weight_in_lbs\": 3897, \"Acceleration\": 18.5, \"Year\": \"1975-01-01\", \"Origin\": \"USA\"}, {\"Name\": \"amc matador\", \"Miles_per_Gallon\": 15.0, \"Cylinders\": 6, \"Displacement\": 258.0, \"Horsepower\": 110.0, \"Weight_in_lbs\": 3730, \"Acceleration\": 19.0, \"Year\": \"1975-01-01\", \"Origin\": \"USA\"}, {\"Name\": \"plymouth fury\", \"Miles_per_Gallon\": 18.0, \"Cylinders\": 6, \"Displacement\": 225.0, \"Horsepower\": 95.0, \"Weight_in_lbs\": 3785, \"Acceleration\": 19.0, \"Year\": \"1975-01-01\", \"Origin\": \"USA\"}, {\"Name\": \"buick skyhawk\", \"Miles_per_Gallon\": 21.0, \"Cylinders\": 6, \"Displacement\": 231.0, \"Horsepower\": 110.0, \"Weight_in_lbs\": 3039, \"Acceleration\": 15.0, \"Year\": \"1975-01-01\", \"Origin\": \"USA\"}, {\"Name\": \"chevrolet monza 2+2\", \"Miles_per_Gallon\": 20.0, \"Cylinders\": 8, \"Displacement\": 262.0, \"Horsepower\": 110.0, \"Weight_in_lbs\": 3221, \"Acceleration\": 13.5, \"Year\": \"1975-01-01\", \"Origin\": \"USA\"}, {\"Name\": \"ford mustang ii\", \"Miles_per_Gallon\": 13.0, \"Cylinders\": 8, \"Displacement\": 302.0, \"Horsepower\": 129.0, \"Weight_in_lbs\": 3169, \"Acceleration\": 12.0, \"Year\": \"1975-01-01\", \"Origin\": \"USA\"}, {\"Name\": \"toyota corolla\", \"Miles_per_Gallon\": 29.0, \"Cylinders\": 4, \"Displacement\": 97.0, \"Horsepower\": 75.0, \"Weight_in_lbs\": 2171, \"Acceleration\": 16.0, \"Year\": \"1975-01-01\", \"Origin\": \"Japan\"}, {\"Name\": \"ford pinto\", \"Miles_per_Gallon\": 23.0, \"Cylinders\": 4, \"Displacement\": 140.0, \"Horsepower\": 83.0, \"Weight_in_lbs\": 2639, \"Acceleration\": 17.0, \"Year\": \"1975-01-01\", \"Origin\": \"USA\"}, {\"Name\": \"amc gremlin\", \"Miles_per_Gallon\": 20.0, \"Cylinders\": 6, \"Displacement\": 232.0, \"Horsepower\": 100.0, \"Weight_in_lbs\": 2914, \"Acceleration\": 16.0, \"Year\": \"1975-01-01\", \"Origin\": \"USA\"}, {\"Name\": \"pontiac astro\", \"Miles_per_Gallon\": 23.0, \"Cylinders\": 4, \"Displacement\": 140.0, \"Horsepower\": 78.0, \"Weight_in_lbs\": 2592, \"Acceleration\": 18.5, \"Year\": \"1975-01-01\", \"Origin\": \"USA\"}, {\"Name\": \"toyota corona\", \"Miles_per_Gallon\": 24.0, \"Cylinders\": 4, \"Displacement\": 134.0, \"Horsepower\": 96.0, \"Weight_in_lbs\": 2702, \"Acceleration\": 13.5, \"Year\": \"1975-01-01\", \"Origin\": \"Japan\"}, {\"Name\": \"volkswagen dasher\", \"Miles_per_Gallon\": 25.0, \"Cylinders\": 4, \"Displacement\": 90.0, \"Horsepower\": 71.0, \"Weight_in_lbs\": 2223, \"Acceleration\": 16.5, \"Year\": \"1975-01-01\", \"Origin\": \"Europe\"}, {\"Name\": \"datsun 710\", \"Miles_per_Gallon\": 24.0, \"Cylinders\": 4, \"Displacement\": 119.0, \"Horsepower\": 97.0, \"Weight_in_lbs\": 2545, \"Acceleration\": 17.0, \"Year\": \"1975-01-01\", \"Origin\": \"Japan\"}, {\"Name\": \"ford pinto\", \"Miles_per_Gallon\": 18.0, \"Cylinders\": 6, \"Displacement\": 171.0, \"Horsepower\": 97.0, \"Weight_in_lbs\": 2984, \"Acceleration\": 14.5, \"Year\": \"1975-01-01\", \"Origin\": \"USA\"}, {\"Name\": \"volkswagen rabbit\", \"Miles_per_Gallon\": 29.0, \"Cylinders\": 4, \"Displacement\": 90.0, \"Horsepower\": 70.0, \"Weight_in_lbs\": 1937, \"Acceleration\": 14.0, \"Year\": \"1975-01-01\", \"Origin\": \"Europe\"}, {\"Name\": \"amc pacer\", \"Miles_per_Gallon\": 19.0, \"Cylinders\": 6, \"Displacement\": 232.0, \"Horsepower\": 90.0, \"Weight_in_lbs\": 3211, \"Acceleration\": 17.0, \"Year\": \"1975-01-01\", \"Origin\": \"USA\"}, {\"Name\": \"audi 100ls\", \"Miles_per_Gallon\": 23.0, \"Cylinders\": 4, \"Displacement\": 115.0, \"Horsepower\": 95.0, \"Weight_in_lbs\": 2694, \"Acceleration\": 15.0, \"Year\": \"1975-01-01\", \"Origin\": \"Europe\"}, {\"Name\": \"peugeot 504\", \"Miles_per_Gallon\": 23.0, \"Cylinders\": 4, \"Displacement\": 120.0, \"Horsepower\": 88.0, \"Weight_in_lbs\": 2957, \"Acceleration\": 17.0, \"Year\": \"1975-01-01\", \"Origin\": \"Europe\"}, {\"Name\": \"volvo 244dl\", \"Miles_per_Gallon\": 22.0, \"Cylinders\": 4, \"Displacement\": 121.0, \"Horsepower\": 98.0, \"Weight_in_lbs\": 2945, \"Acceleration\": 14.5, \"Year\": \"1975-01-01\", \"Origin\": \"Europe\"}, {\"Name\": \"saab 99le\", \"Miles_per_Gallon\": 25.0, \"Cylinders\": 4, \"Displacement\": 121.0, \"Horsepower\": 115.0, \"Weight_in_lbs\": 2671, \"Acceleration\": 13.5, \"Year\": \"1975-01-01\", \"Origin\": \"Europe\"}, {\"Name\": \"honda civic cvcc\", \"Miles_per_Gallon\": 33.0, \"Cylinders\": 4, \"Displacement\": 91.0, \"Horsepower\": 53.0, \"Weight_in_lbs\": 1795, \"Acceleration\": 17.5, \"Year\": \"1975-01-01\", \"Origin\": \"Japan\"}, {\"Name\": \"fiat 131\", \"Miles_per_Gallon\": 28.0, \"Cylinders\": 4, \"Displacement\": 107.0, \"Horsepower\": 86.0, \"Weight_in_lbs\": 2464, \"Acceleration\": 15.5, \"Year\": \"1976-01-01\", \"Origin\": \"Europe\"}, {\"Name\": \"opel 1900\", \"Miles_per_Gallon\": 25.0, \"Cylinders\": 4, \"Displacement\": 116.0, \"Horsepower\": 81.0, \"Weight_in_lbs\": 2220, \"Acceleration\": 16.9, \"Year\": \"1976-01-01\", \"Origin\": \"Europe\"}, {\"Name\": \"capri ii\", \"Miles_per_Gallon\": 25.0, \"Cylinders\": 4, \"Displacement\": 140.0, \"Horsepower\": 92.0, \"Weight_in_lbs\": 2572, \"Acceleration\": 14.9, \"Year\": \"1976-01-01\", \"Origin\": \"USA\"}, {\"Name\": \"dodge colt\", \"Miles_per_Gallon\": 26.0, \"Cylinders\": 4, \"Displacement\": 98.0, \"Horsepower\": 79.0, \"Weight_in_lbs\": 2255, \"Acceleration\": 17.7, \"Year\": \"1976-01-01\", \"Origin\": \"USA\"}, {\"Name\": \"renault 12tl\", \"Miles_per_Gallon\": 27.0, \"Cylinders\": 4, \"Displacement\": 101.0, \"Horsepower\": 83.0, \"Weight_in_lbs\": 2202, \"Acceleration\": 15.3, \"Year\": \"1976-01-01\", \"Origin\": \"Europe\"}, {\"Name\": \"chevrolet chevelle malibu classic\", \"Miles_per_Gallon\": 17.5, \"Cylinders\": 8, \"Displacement\": 305.0, \"Horsepower\": 140.0, \"Weight_in_lbs\": 4215, \"Acceleration\": 13.0, \"Year\": \"1976-01-01\", \"Origin\": \"USA\"}, {\"Name\": \"dodge coronet brougham\", \"Miles_per_Gallon\": 16.0, \"Cylinders\": 8, \"Displacement\": 318.0, \"Horsepower\": 150.0, \"Weight_in_lbs\": 4190, \"Acceleration\": 13.0, \"Year\": \"1976-01-01\", \"Origin\": \"USA\"}, {\"Name\": \"amc matador\", \"Miles_per_Gallon\": 15.5, \"Cylinders\": 8, \"Displacement\": 304.0, \"Horsepower\": 120.0, \"Weight_in_lbs\": 3962, \"Acceleration\": 13.9, \"Year\": \"1976-01-01\", \"Origin\": \"USA\"}, {\"Name\": \"ford gran torino\", \"Miles_per_Gallon\": 14.5, \"Cylinders\": 8, \"Displacement\": 351.0, \"Horsepower\": 152.0, \"Weight_in_lbs\": 4215, \"Acceleration\": 12.8, \"Year\": \"1976-01-01\", \"Origin\": \"USA\"}, {\"Name\": \"plymouth valiant\", \"Miles_per_Gallon\": 22.0, \"Cylinders\": 6, \"Displacement\": 225.0, \"Horsepower\": 100.0, \"Weight_in_lbs\": 3233, \"Acceleration\": 15.4, \"Year\": \"1976-01-01\", \"Origin\": \"USA\"}, {\"Name\": \"chevrolet nova\", \"Miles_per_Gallon\": 22.0, \"Cylinders\": 6, \"Displacement\": 250.0, \"Horsepower\": 105.0, \"Weight_in_lbs\": 3353, \"Acceleration\": 14.5, \"Year\": \"1976-01-01\", \"Origin\": \"USA\"}, {\"Name\": \"ford maverick\", \"Miles_per_Gallon\": 24.0, \"Cylinders\": 6, \"Displacement\": 200.0, \"Horsepower\": 81.0, \"Weight_in_lbs\": 3012, \"Acceleration\": 17.6, \"Year\": \"1976-01-01\", \"Origin\": \"USA\"}, {\"Name\": \"amc hornet\", \"Miles_per_Gallon\": 22.5, \"Cylinders\": 6, \"Displacement\": 232.0, \"Horsepower\": 90.0, \"Weight_in_lbs\": 3085, \"Acceleration\": 17.6, \"Year\": \"1976-01-01\", \"Origin\": \"USA\"}, {\"Name\": \"chevrolet chevette\", \"Miles_per_Gallon\": 29.0, \"Cylinders\": 4, \"Displacement\": 85.0, \"Horsepower\": 52.0, \"Weight_in_lbs\": 2035, \"Acceleration\": 22.2, \"Year\": \"1976-01-01\", \"Origin\": \"USA\"}, {\"Name\": \"chevrolet woody\", \"Miles_per_Gallon\": 24.5, \"Cylinders\": 4, \"Displacement\": 98.0, \"Horsepower\": 60.0, \"Weight_in_lbs\": 2164, \"Acceleration\": 22.1, \"Year\": \"1976-01-01\", \"Origin\": \"USA\"}, {\"Name\": \"vw rabbit\", \"Miles_per_Gallon\": 29.0, \"Cylinders\": 4, \"Displacement\": 90.0, \"Horsepower\": 70.0, \"Weight_in_lbs\": 1937, \"Acceleration\": 14.2, \"Year\": \"1976-01-01\", \"Origin\": \"Europe\"}, {\"Name\": \"honda civic\", \"Miles_per_Gallon\": 33.0, \"Cylinders\": 4, \"Displacement\": 91.0, \"Horsepower\": 53.0, \"Weight_in_lbs\": 1795, \"Acceleration\": 17.4, \"Year\": \"1976-01-01\", \"Origin\": \"Japan\"}, {\"Name\": \"dodge aspen se\", \"Miles_per_Gallon\": 20.0, \"Cylinders\": 6, \"Displacement\": 225.0, \"Horsepower\": 100.0, \"Weight_in_lbs\": 3651, \"Acceleration\": 17.7, \"Year\": \"1976-01-01\", \"Origin\": \"USA\"}, {\"Name\": \"ford granada ghia\", \"Miles_per_Gallon\": 18.0, \"Cylinders\": 6, \"Displacement\": 250.0, \"Horsepower\": 78.0, \"Weight_in_lbs\": 3574, \"Acceleration\": 21.0, \"Year\": \"1976-01-01\", \"Origin\": \"USA\"}, {\"Name\": \"pontiac ventura sj\", \"Miles_per_Gallon\": 18.5, \"Cylinders\": 6, \"Displacement\": 250.0, \"Horsepower\": 110.0, \"Weight_in_lbs\": 3645, \"Acceleration\": 16.2, \"Year\": \"1976-01-01\", \"Origin\": \"USA\"}, {\"Name\": \"amc pacer d/l\", \"Miles_per_Gallon\": 17.5, \"Cylinders\": 6, \"Displacement\": 258.0, \"Horsepower\": 95.0, \"Weight_in_lbs\": 3193, \"Acceleration\": 17.8, \"Year\": \"1976-01-01\", \"Origin\": \"USA\"}, {\"Name\": \"volkswagen rabbit\", \"Miles_per_Gallon\": 29.5, \"Cylinders\": 4, \"Displacement\": 97.0, \"Horsepower\": 71.0, \"Weight_in_lbs\": 1825, \"Acceleration\": 12.2, \"Year\": \"1976-01-01\", \"Origin\": \"Europe\"}, {\"Name\": \"datsun b-210\", \"Miles_per_Gallon\": 32.0, \"Cylinders\": 4, \"Displacement\": 85.0, \"Horsepower\": 70.0, \"Weight_in_lbs\": 1990, \"Acceleration\": 17.0, \"Year\": \"1976-01-01\", \"Origin\": \"Japan\"}, {\"Name\": \"toyota corolla\", \"Miles_per_Gallon\": 28.0, \"Cylinders\": 4, \"Displacement\": 97.0, \"Horsepower\": 75.0, \"Weight_in_lbs\": 2155, \"Acceleration\": 16.4, \"Year\": \"1976-01-01\", \"Origin\": \"Japan\"}, {\"Name\": \"ford pinto\", \"Miles_per_Gallon\": 26.5, \"Cylinders\": 4, \"Displacement\": 140.0, \"Horsepower\": 72.0, \"Weight_in_lbs\": 2565, \"Acceleration\": 13.6, \"Year\": \"1976-01-01\", \"Origin\": \"USA\"}, {\"Name\": \"volvo 245\", \"Miles_per_Gallon\": 20.0, \"Cylinders\": 4, \"Displacement\": 130.0, \"Horsepower\": 102.0, \"Weight_in_lbs\": 3150, \"Acceleration\": 15.7, \"Year\": \"1976-01-01\", \"Origin\": \"Europe\"}, {\"Name\": \"plymouth volare premier v8\", \"Miles_per_Gallon\": 13.0, \"Cylinders\": 8, \"Displacement\": 318.0, \"Horsepower\": 150.0, \"Weight_in_lbs\": 3940, \"Acceleration\": 13.2, \"Year\": \"1976-01-01\", \"Origin\": \"USA\"}, {\"Name\": \"peugeot 504\", \"Miles_per_Gallon\": 19.0, \"Cylinders\": 4, \"Displacement\": 120.0, \"Horsepower\": 88.0, \"Weight_in_lbs\": 3270, \"Acceleration\": 21.9, \"Year\": \"1976-01-01\", \"Origin\": \"Europe\"}, {\"Name\": \"toyota mark ii\", \"Miles_per_Gallon\": 19.0, \"Cylinders\": 6, \"Displacement\": 156.0, \"Horsepower\": 108.0, \"Weight_in_lbs\": 2930, \"Acceleration\": 15.5, \"Year\": \"1976-01-01\", \"Origin\": \"Japan\"}, {\"Name\": \"mercedes-benz 280s\", \"Miles_per_Gallon\": 16.5, \"Cylinders\": 6, \"Displacement\": 168.0, \"Horsepower\": 120.0, \"Weight_in_lbs\": 3820, \"Acceleration\": 16.7, \"Year\": \"1976-01-01\", \"Origin\": \"Europe\"}, {\"Name\": \"cadillac seville\", \"Miles_per_Gallon\": 16.5, \"Cylinders\": 8, \"Displacement\": 350.0, \"Horsepower\": 180.0, \"Weight_in_lbs\": 4380, \"Acceleration\": 12.1, \"Year\": \"1976-01-01\", \"Origin\": \"USA\"}, {\"Name\": \"chevy c10\", \"Miles_per_Gallon\": 13.0, \"Cylinders\": 8, \"Displacement\": 350.0, \"Horsepower\": 145.0, \"Weight_in_lbs\": 4055, \"Acceleration\": 12.0, \"Year\": \"1976-01-01\", \"Origin\": \"USA\"}, {\"Name\": \"ford f108\", \"Miles_per_Gallon\": 13.0, \"Cylinders\": 8, \"Displacement\": 302.0, \"Horsepower\": 130.0, \"Weight_in_lbs\": 3870, \"Acceleration\": 15.0, \"Year\": \"1976-01-01\", \"Origin\": \"USA\"}, {\"Name\": \"dodge d100\", \"Miles_per_Gallon\": 13.0, \"Cylinders\": 8, \"Displacement\": 318.0, \"Horsepower\": 150.0, \"Weight_in_lbs\": 3755, \"Acceleration\": 14.0, \"Year\": \"1976-01-01\", \"Origin\": \"USA\"}, {\"Name\": \"honda Accelerationord cvcc\", \"Miles_per_Gallon\": 31.5, \"Cylinders\": 4, \"Displacement\": 98.0, \"Horsepower\": 68.0, \"Weight_in_lbs\": 2045, \"Acceleration\": 18.5, \"Year\": \"1977-01-01\", \"Origin\": \"Japan\"}, {\"Name\": \"buick opel isuzu deluxe\", \"Miles_per_Gallon\": 30.0, \"Cylinders\": 4, \"Displacement\": 111.0, \"Horsepower\": 80.0, \"Weight_in_lbs\": 2155, \"Acceleration\": 14.8, \"Year\": \"1977-01-01\", \"Origin\": \"USA\"}, {\"Name\": \"renault 5 gtl\", \"Miles_per_Gallon\": 36.0, \"Cylinders\": 4, \"Displacement\": 79.0, \"Horsepower\": 58.0, \"Weight_in_lbs\": 1825, \"Acceleration\": 18.6, \"Year\": \"1977-01-01\", \"Origin\": \"Europe\"}, {\"Name\": \"plymouth arrow gs\", \"Miles_per_Gallon\": 25.5, \"Cylinders\": 4, \"Displacement\": 122.0, \"Horsepower\": 96.0, \"Weight_in_lbs\": 2300, \"Acceleration\": 15.5, \"Year\": \"1977-01-01\", \"Origin\": \"USA\"}, {\"Name\": \"datsun f-10 hatchback\", \"Miles_per_Gallon\": 33.5, \"Cylinders\": 4, \"Displacement\": 85.0, \"Horsepower\": 70.0, \"Weight_in_lbs\": 1945, \"Acceleration\": 16.8, \"Year\": \"1977-01-01\", \"Origin\": \"Japan\"}, {\"Name\": \"chevrolet caprice classic\", \"Miles_per_Gallon\": 17.5, \"Cylinders\": 8, \"Displacement\": 305.0, \"Horsepower\": 145.0, \"Weight_in_lbs\": 3880, \"Acceleration\": 12.5, \"Year\": \"1977-01-01\", \"Origin\": \"USA\"}, {\"Name\": \"oldsmobile cutlass supreme\", \"Miles_per_Gallon\": 17.0, \"Cylinders\": 8, \"Displacement\": 260.0, \"Horsepower\": 110.0, \"Weight_in_lbs\": 4060, \"Acceleration\": 19.0, \"Year\": \"1977-01-01\", \"Origin\": \"USA\"}, {\"Name\": \"dodge monaco brougham\", \"Miles_per_Gallon\": 15.5, \"Cylinders\": 8, \"Displacement\": 318.0, \"Horsepower\": 145.0, \"Weight_in_lbs\": 4140, \"Acceleration\": 13.7, \"Year\": \"1977-01-01\", \"Origin\": \"USA\"}, {\"Name\": \"mercury cougar brougham\", \"Miles_per_Gallon\": 15.0, \"Cylinders\": 8, \"Displacement\": 302.0, \"Horsepower\": 130.0, \"Weight_in_lbs\": 4295, \"Acceleration\": 14.9, \"Year\": \"1977-01-01\", \"Origin\": \"USA\"}, {\"Name\": \"chevrolet concours\", \"Miles_per_Gallon\": 17.5, \"Cylinders\": 6, \"Displacement\": 250.0, \"Horsepower\": 110.0, \"Weight_in_lbs\": 3520, \"Acceleration\": 16.4, \"Year\": \"1977-01-01\", \"Origin\": \"USA\"}, {\"Name\": \"buick skylark\", \"Miles_per_Gallon\": 20.5, \"Cylinders\": 6, \"Displacement\": 231.0, \"Horsepower\": 105.0, \"Weight_in_lbs\": 3425, \"Acceleration\": 16.9, \"Year\": \"1977-01-01\", \"Origin\": \"USA\"}, {\"Name\": \"plymouth volare custom\", \"Miles_per_Gallon\": 19.0, \"Cylinders\": 6, \"Displacement\": 225.0, \"Horsepower\": 100.0, \"Weight_in_lbs\": 3630, \"Acceleration\": 17.7, \"Year\": \"1977-01-01\", \"Origin\": \"USA\"}, {\"Name\": \"ford granada\", \"Miles_per_Gallon\": 18.5, \"Cylinders\": 6, \"Displacement\": 250.0, \"Horsepower\": 98.0, \"Weight_in_lbs\": 3525, \"Acceleration\": 19.0, \"Year\": \"1977-01-01\", \"Origin\": \"USA\"}, {\"Name\": \"pontiac grand prix lj\", \"Miles_per_Gallon\": 16.0, \"Cylinders\": 8, \"Displacement\": 400.0, \"Horsepower\": 180.0, \"Weight_in_lbs\": 4220, \"Acceleration\": 11.1, \"Year\": \"1977-01-01\", \"Origin\": \"USA\"}, {\"Name\": \"chevrolet monte carlo landau\", \"Miles_per_Gallon\": 15.5, \"Cylinders\": 8, \"Displacement\": 350.0, \"Horsepower\": 170.0, \"Weight_in_lbs\": 4165, \"Acceleration\": 11.4, \"Year\": \"1977-01-01\", \"Origin\": \"USA\"}, {\"Name\": \"chrysler cordoba\", \"Miles_per_Gallon\": 15.5, \"Cylinders\": 8, \"Displacement\": 400.0, \"Horsepower\": 190.0, \"Weight_in_lbs\": 4325, \"Acceleration\": 12.2, \"Year\": \"1977-01-01\", \"Origin\": \"USA\"}, {\"Name\": \"ford thunderbird\", \"Miles_per_Gallon\": 16.0, \"Cylinders\": 8, \"Displacement\": 351.0, \"Horsepower\": 149.0, \"Weight_in_lbs\": 4335, \"Acceleration\": 14.5, \"Year\": \"1977-01-01\", \"Origin\": \"USA\"}, {\"Name\": \"volkswagen rabbit custom\", \"Miles_per_Gallon\": 29.0, \"Cylinders\": 4, \"Displacement\": 97.0, \"Horsepower\": 78.0, \"Weight_in_lbs\": 1940, \"Acceleration\": 14.5, \"Year\": \"1977-01-01\", \"Origin\": \"Europe\"}, {\"Name\": \"pontiac sunbird coupe\", \"Miles_per_Gallon\": 24.5, \"Cylinders\": 4, \"Displacement\": 151.0, \"Horsepower\": 88.0, \"Weight_in_lbs\": 2740, \"Acceleration\": 16.0, \"Year\": \"1977-01-01\", \"Origin\": \"USA\"}, {\"Name\": \"toyota corolla liftback\", \"Miles_per_Gallon\": 26.0, \"Cylinders\": 4, \"Displacement\": 97.0, \"Horsepower\": 75.0, \"Weight_in_lbs\": 2265, \"Acceleration\": 18.2, \"Year\": \"1977-01-01\", \"Origin\": \"Japan\"}, {\"Name\": \"ford mustang ii 2+2\", \"Miles_per_Gallon\": 25.5, \"Cylinders\": 4, \"Displacement\": 140.0, \"Horsepower\": 89.0, \"Weight_in_lbs\": 2755, \"Acceleration\": 15.8, \"Year\": \"1977-01-01\", \"Origin\": \"USA\"}, {\"Name\": \"chevrolet chevette\", \"Miles_per_Gallon\": 30.5, \"Cylinders\": 4, \"Displacement\": 98.0, \"Horsepower\": 63.0, \"Weight_in_lbs\": 2051, \"Acceleration\": 17.0, \"Year\": \"1977-01-01\", \"Origin\": \"USA\"}, {\"Name\": \"dodge colt m/m\", \"Miles_per_Gallon\": 33.5, \"Cylinders\": 4, \"Displacement\": 98.0, \"Horsepower\": 83.0, \"Weight_in_lbs\": 2075, \"Acceleration\": 15.9, \"Year\": \"1977-01-01\", \"Origin\": \"USA\"}, {\"Name\": \"subaru dl\", \"Miles_per_Gallon\": 30.0, \"Cylinders\": 4, \"Displacement\": 97.0, \"Horsepower\": 67.0, \"Weight_in_lbs\": 1985, \"Acceleration\": 16.4, \"Year\": \"1977-01-01\", \"Origin\": \"Japan\"}, {\"Name\": \"volkswagen dasher\", \"Miles_per_Gallon\": 30.5, \"Cylinders\": 4, \"Displacement\": 97.0, \"Horsepower\": 78.0, \"Weight_in_lbs\": 2190, \"Acceleration\": 14.1, \"Year\": \"1977-01-01\", \"Origin\": \"Europe\"}, {\"Name\": \"datsun 810\", \"Miles_per_Gallon\": 22.0, \"Cylinders\": 6, \"Displacement\": 146.0, \"Horsepower\": 97.0, \"Weight_in_lbs\": 2815, \"Acceleration\": 14.5, \"Year\": \"1977-01-01\", \"Origin\": \"Japan\"}, {\"Name\": \"bmw 320i\", \"Miles_per_Gallon\": 21.5, \"Cylinders\": 4, \"Displacement\": 121.0, \"Horsepower\": 110.0, \"Weight_in_lbs\": 2600, \"Acceleration\": 12.8, \"Year\": \"1977-01-01\", \"Origin\": \"Europe\"}, {\"Name\": \"mazda rx-4\", \"Miles_per_Gallon\": 21.5, \"Cylinders\": 3, \"Displacement\": 80.0, \"Horsepower\": 110.0, \"Weight_in_lbs\": 2720, \"Acceleration\": 13.5, \"Year\": \"1977-01-01\", \"Origin\": \"Japan\"}, {\"Name\": \"volkswagen rabbit custom diesel\", \"Miles_per_Gallon\": 43.1, \"Cylinders\": 4, \"Displacement\": 90.0, \"Horsepower\": 48.0, \"Weight_in_lbs\": 1985, \"Acceleration\": 21.5, \"Year\": \"1978-01-01\", \"Origin\": \"Europe\"}, {\"Name\": \"ford fiesta\", \"Miles_per_Gallon\": 36.1, \"Cylinders\": 4, \"Displacement\": 98.0, \"Horsepower\": 66.0, \"Weight_in_lbs\": 1800, \"Acceleration\": 14.4, \"Year\": \"1978-01-01\", \"Origin\": \"USA\"}, {\"Name\": \"mazda glc deluxe\", \"Miles_per_Gallon\": 32.8, \"Cylinders\": 4, \"Displacement\": 78.0, \"Horsepower\": 52.0, \"Weight_in_lbs\": 1985, \"Acceleration\": 19.4, \"Year\": \"1978-01-01\", \"Origin\": \"Japan\"}, {\"Name\": \"datsun b210 gx\", \"Miles_per_Gallon\": 39.4, \"Cylinders\": 4, \"Displacement\": 85.0, \"Horsepower\": 70.0, \"Weight_in_lbs\": 2070, \"Acceleration\": 18.6, \"Year\": \"1978-01-01\", \"Origin\": \"Japan\"}, {\"Name\": \"honda civic cvcc\", \"Miles_per_Gallon\": 36.1, \"Cylinders\": 4, \"Displacement\": 91.0, \"Horsepower\": 60.0, \"Weight_in_lbs\": 1800, \"Acceleration\": 16.4, \"Year\": \"1978-01-01\", \"Origin\": \"Japan\"}, {\"Name\": \"oldsmobile cutlass salon brougham\", \"Miles_per_Gallon\": 19.9, \"Cylinders\": 8, \"Displacement\": 260.0, \"Horsepower\": 110.0, \"Weight_in_lbs\": 3365, \"Acceleration\": 15.5, \"Year\": \"1978-01-01\", \"Origin\": \"USA\"}, {\"Name\": \"dodge diplomat\", \"Miles_per_Gallon\": 19.4, \"Cylinders\": 8, \"Displacement\": 318.0, \"Horsepower\": 140.0, \"Weight_in_lbs\": 3735, \"Acceleration\": 13.2, \"Year\": \"1978-01-01\", \"Origin\": \"USA\"}, {\"Name\": \"mercury monarch ghia\", \"Miles_per_Gallon\": 20.2, \"Cylinders\": 8, \"Displacement\": 302.0, \"Horsepower\": 139.0, \"Weight_in_lbs\": 3570, \"Acceleration\": 12.8, \"Year\": \"1978-01-01\", \"Origin\": \"USA\"}, {\"Name\": \"pontiac phoenix lj\", \"Miles_per_Gallon\": 19.2, \"Cylinders\": 6, \"Displacement\": 231.0, \"Horsepower\": 105.0, \"Weight_in_lbs\": 3535, \"Acceleration\": 19.2, \"Year\": \"1978-01-01\", \"Origin\": \"USA\"}, {\"Name\": \"chevrolet malibu\", \"Miles_per_Gallon\": 20.5, \"Cylinders\": 6, \"Displacement\": 200.0, \"Horsepower\": 95.0, \"Weight_in_lbs\": 3155, \"Acceleration\": 18.2, \"Year\": \"1978-01-01\", \"Origin\": \"USA\"}, {\"Name\": \"ford fairmont (auto)\", \"Miles_per_Gallon\": 20.2, \"Cylinders\": 6, \"Displacement\": 200.0, \"Horsepower\": 85.0, \"Weight_in_lbs\": 2965, \"Acceleration\": 15.8, \"Year\": \"1978-01-01\", \"Origin\": \"USA\"}, {\"Name\": \"ford fairmont (man)\", \"Miles_per_Gallon\": 25.1, \"Cylinders\": 4, \"Displacement\": 140.0, \"Horsepower\": 88.0, \"Weight_in_lbs\": 2720, \"Acceleration\": 15.4, \"Year\": \"1978-01-01\", \"Origin\": \"USA\"}, {\"Name\": \"plymouth volare\", \"Miles_per_Gallon\": 20.5, \"Cylinders\": 6, \"Displacement\": 225.0, \"Horsepower\": 100.0, \"Weight_in_lbs\": 3430, \"Acceleration\": 17.2, \"Year\": \"1978-01-01\", \"Origin\": \"USA\"}, {\"Name\": \"amc concord\", \"Miles_per_Gallon\": 19.4, \"Cylinders\": 6, \"Displacement\": 232.0, \"Horsepower\": 90.0, \"Weight_in_lbs\": 3210, \"Acceleration\": 17.2, \"Year\": \"1978-01-01\", \"Origin\": \"USA\"}, {\"Name\": \"buick century special\", \"Miles_per_Gallon\": 20.6, \"Cylinders\": 6, \"Displacement\": 231.0, \"Horsepower\": 105.0, \"Weight_in_lbs\": 3380, \"Acceleration\": 15.8, \"Year\": \"1978-01-01\", \"Origin\": \"USA\"}, {\"Name\": \"mercury zephyr\", \"Miles_per_Gallon\": 20.8, \"Cylinders\": 6, \"Displacement\": 200.0, \"Horsepower\": 85.0, \"Weight_in_lbs\": 3070, \"Acceleration\": 16.7, \"Year\": \"1978-01-01\", \"Origin\": \"USA\"}, {\"Name\": \"dodge aspen\", \"Miles_per_Gallon\": 18.6, \"Cylinders\": 6, \"Displacement\": 225.0, \"Horsepower\": 110.0, \"Weight_in_lbs\": 3620, \"Acceleration\": 18.7, \"Year\": \"1978-01-01\", \"Origin\": \"USA\"}, {\"Name\": \"amc concord d/l\", \"Miles_per_Gallon\": 18.1, \"Cylinders\": 6, \"Displacement\": 258.0, \"Horsepower\": 120.0, \"Weight_in_lbs\": 3410, \"Acceleration\": 15.1, \"Year\": \"1978-01-01\", \"Origin\": \"USA\"}, {\"Name\": \"chevrolet monte carlo landau\", \"Miles_per_Gallon\": 19.2, \"Cylinders\": 8, \"Displacement\": 305.0, \"Horsepower\": 145.0, \"Weight_in_lbs\": 3425, \"Acceleration\": 13.2, \"Year\": \"1978-01-01\", \"Origin\": \"USA\"}, {\"Name\": \"buick regal sport coupe (turbo)\", \"Miles_per_Gallon\": 17.7, \"Cylinders\": 6, \"Displacement\": 231.0, \"Horsepower\": 165.0, \"Weight_in_lbs\": 3445, \"Acceleration\": 13.4, \"Year\": \"1978-01-01\", \"Origin\": \"USA\"}, {\"Name\": \"ford futura\", \"Miles_per_Gallon\": 18.1, \"Cylinders\": 8, \"Displacement\": 302.0, \"Horsepower\": 139.0, \"Weight_in_lbs\": 3205, \"Acceleration\": 11.2, \"Year\": \"1978-01-01\", \"Origin\": \"USA\"}, {\"Name\": \"dodge magnum xe\", \"Miles_per_Gallon\": 17.5, \"Cylinders\": 8, \"Displacement\": 318.0, \"Horsepower\": 140.0, \"Weight_in_lbs\": 4080, \"Acceleration\": 13.7, \"Year\": \"1978-01-01\", \"Origin\": \"USA\"}, {\"Name\": \"chevrolet chevette\", \"Miles_per_Gallon\": 30.0, \"Cylinders\": 4, \"Displacement\": 98.0, \"Horsepower\": 68.0, \"Weight_in_lbs\": 2155, \"Acceleration\": 16.5, \"Year\": \"1978-01-01\", \"Origin\": \"USA\"}, {\"Name\": \"toyota corona\", \"Miles_per_Gallon\": 27.5, \"Cylinders\": 4, \"Displacement\": 134.0, \"Horsepower\": 95.0, \"Weight_in_lbs\": 2560, \"Acceleration\": 14.2, \"Year\": \"1978-01-01\", \"Origin\": \"Japan\"}, {\"Name\": \"datsun 510\", \"Miles_per_Gallon\": 27.2, \"Cylinders\": 4, \"Displacement\": 119.0, \"Horsepower\": 97.0, \"Weight_in_lbs\": 2300, \"Acceleration\": 14.7, \"Year\": \"1978-01-01\", \"Origin\": \"Japan\"}, {\"Name\": \"dodge omni\", \"Miles_per_Gallon\": 30.9, \"Cylinders\": 4, \"Displacement\": 105.0, \"Horsepower\": 75.0, \"Weight_in_lbs\": 2230, \"Acceleration\": 14.5, \"Year\": \"1978-01-01\", \"Origin\": \"USA\"}, {\"Name\": \"toyota celica gt liftback\", \"Miles_per_Gallon\": 21.1, \"Cylinders\": 4, \"Displacement\": 134.0, \"Horsepower\": 95.0, \"Weight_in_lbs\": 2515, \"Acceleration\": 14.8, \"Year\": \"1978-01-01\", \"Origin\": \"Japan\"}, {\"Name\": \"plymouth sapporo\", \"Miles_per_Gallon\": 23.2, \"Cylinders\": 4, \"Displacement\": 156.0, \"Horsepower\": 105.0, \"Weight_in_lbs\": 2745, \"Acceleration\": 16.7, \"Year\": \"1978-01-01\", \"Origin\": \"USA\"}, {\"Name\": \"oldsmobile starfire sx\", \"Miles_per_Gallon\": 23.8, \"Cylinders\": 4, \"Displacement\": 151.0, \"Horsepower\": 85.0, \"Weight_in_lbs\": 2855, \"Acceleration\": 17.6, \"Year\": \"1978-01-01\", \"Origin\": \"USA\"}, {\"Name\": \"datsun 200-sx\", \"Miles_per_Gallon\": 23.9, \"Cylinders\": 4, \"Displacement\": 119.0, \"Horsepower\": 97.0, \"Weight_in_lbs\": 2405, \"Acceleration\": 14.9, \"Year\": \"1978-01-01\", \"Origin\": \"Japan\"}, {\"Name\": \"audi 5000\", \"Miles_per_Gallon\": 20.3, \"Cylinders\": 5, \"Displacement\": 131.0, \"Horsepower\": 103.0, \"Weight_in_lbs\": 2830, \"Acceleration\": 15.9, \"Year\": \"1978-01-01\", \"Origin\": \"Europe\"}, {\"Name\": \"volvo 264gl\", \"Miles_per_Gallon\": 17.0, \"Cylinders\": 6, \"Displacement\": 163.0, \"Horsepower\": 125.0, \"Weight_in_lbs\": 3140, \"Acceleration\": 13.6, \"Year\": \"1978-01-01\", \"Origin\": \"Europe\"}, {\"Name\": \"saab 99gle\", \"Miles_per_Gallon\": 21.6, \"Cylinders\": 4, \"Displacement\": 121.0, \"Horsepower\": 115.0, \"Weight_in_lbs\": 2795, \"Acceleration\": 15.7, \"Year\": \"1978-01-01\", \"Origin\": \"Europe\"}, {\"Name\": \"peugeot 604sl\", \"Miles_per_Gallon\": 16.2, \"Cylinders\": 6, \"Displacement\": 163.0, \"Horsepower\": 133.0, \"Weight_in_lbs\": 3410, \"Acceleration\": 15.8, \"Year\": \"1978-01-01\", \"Origin\": \"Europe\"}, {\"Name\": \"volkswagen scirocco\", \"Miles_per_Gallon\": 31.5, \"Cylinders\": 4, \"Displacement\": 89.0, \"Horsepower\": 71.0, \"Weight_in_lbs\": 1990, \"Acceleration\": 14.9, \"Year\": \"1978-01-01\", \"Origin\": \"Europe\"}, {\"Name\": \"honda Accelerationord lx\", \"Miles_per_Gallon\": 29.5, \"Cylinders\": 4, \"Displacement\": 98.0, \"Horsepower\": 68.0, \"Weight_in_lbs\": 2135, \"Acceleration\": 16.6, \"Year\": \"1978-01-01\", \"Origin\": \"Japan\"}, {\"Name\": \"pontiac lemans v6\", \"Miles_per_Gallon\": 21.5, \"Cylinders\": 6, \"Displacement\": 231.0, \"Horsepower\": 115.0, \"Weight_in_lbs\": 3245, \"Acceleration\": 15.4, \"Year\": \"1979-01-01\", \"Origin\": \"USA\"}, {\"Name\": \"mercury zephyr 6\", \"Miles_per_Gallon\": 19.8, \"Cylinders\": 6, \"Displacement\": 200.0, \"Horsepower\": 85.0, \"Weight_in_lbs\": 2990, \"Acceleration\": 18.2, \"Year\": \"1979-01-01\", \"Origin\": \"USA\"}, {\"Name\": \"ford fairmont 4\", \"Miles_per_Gallon\": 22.3, \"Cylinders\": 4, \"Displacement\": 140.0, \"Horsepower\": 88.0, \"Weight_in_lbs\": 2890, \"Acceleration\": 17.3, \"Year\": \"1979-01-01\", \"Origin\": \"USA\"}, {\"Name\": \"amc concord dl 6\", \"Miles_per_Gallon\": 20.2, \"Cylinders\": 6, \"Displacement\": 232.0, \"Horsepower\": 90.0, \"Weight_in_lbs\": 3265, \"Acceleration\": 18.2, \"Year\": \"1979-01-01\", \"Origin\": \"USA\"}, {\"Name\": \"dodge aspen 6\", \"Miles_per_Gallon\": 20.6, \"Cylinders\": 6, \"Displacement\": 225.0, \"Horsepower\": 110.0, \"Weight_in_lbs\": 3360, \"Acceleration\": 16.6, \"Year\": \"1979-01-01\", \"Origin\": \"USA\"}, {\"Name\": \"chevrolet caprice classic\", \"Miles_per_Gallon\": 17.0, \"Cylinders\": 8, \"Displacement\": 305.0, \"Horsepower\": 130.0, \"Weight_in_lbs\": 3840, \"Acceleration\": 15.4, \"Year\": \"1979-01-01\", \"Origin\": \"USA\"}, {\"Name\": \"ford ltd landau\", \"Miles_per_Gallon\": 17.6, \"Cylinders\": 8, \"Displacement\": 302.0, \"Horsepower\": 129.0, \"Weight_in_lbs\": 3725, \"Acceleration\": 13.4, \"Year\": \"1979-01-01\", \"Origin\": \"USA\"}, {\"Name\": \"mercury grand marquis\", \"Miles_per_Gallon\": 16.5, \"Cylinders\": 8, \"Displacement\": 351.0, \"Horsepower\": 138.0, \"Weight_in_lbs\": 3955, \"Acceleration\": 13.2, \"Year\": \"1979-01-01\", \"Origin\": \"USA\"}, {\"Name\": \"dodge st. regis\", \"Miles_per_Gallon\": 18.2, \"Cylinders\": 8, \"Displacement\": 318.0, \"Horsepower\": 135.0, \"Weight_in_lbs\": 3830, \"Acceleration\": 15.2, \"Year\": \"1979-01-01\", \"Origin\": \"USA\"}, {\"Name\": \"buick estate wagon (sw)\", \"Miles_per_Gallon\": 16.9, \"Cylinders\": 8, \"Displacement\": 350.0, \"Horsepower\": 155.0, \"Weight_in_lbs\": 4360, \"Acceleration\": 14.9, \"Year\": \"1979-01-01\", \"Origin\": \"USA\"}, {\"Name\": \"ford country squire (sw)\", \"Miles_per_Gallon\": 15.5, \"Cylinders\": 8, \"Displacement\": 351.0, \"Horsepower\": 142.0, \"Weight_in_lbs\": 4054, \"Acceleration\": 14.3, \"Year\": \"1979-01-01\", \"Origin\": \"USA\"}, {\"Name\": \"chevrolet malibu classic (sw)\", \"Miles_per_Gallon\": 19.2, \"Cylinders\": 8, \"Displacement\": 267.0, \"Horsepower\": 125.0, \"Weight_in_lbs\": 3605, \"Acceleration\": 15.0, \"Year\": \"1979-01-01\", \"Origin\": \"USA\"}, {\"Name\": \"chrysler lebaron town @ country (sw)\", \"Miles_per_Gallon\": 18.5, \"Cylinders\": 8, \"Displacement\": 360.0, \"Horsepower\": 150.0, \"Weight_in_lbs\": 3940, \"Acceleration\": 13.0, \"Year\": \"1979-01-01\", \"Origin\": \"USA\"}, {\"Name\": \"vw rabbit custom\", \"Miles_per_Gallon\": 31.9, \"Cylinders\": 4, \"Displacement\": 89.0, \"Horsepower\": 71.0, \"Weight_in_lbs\": 1925, \"Acceleration\": 14.0, \"Year\": \"1979-01-01\", \"Origin\": \"Europe\"}, {\"Name\": \"maxda glc deluxe\", \"Miles_per_Gallon\": 34.1, \"Cylinders\": 4, \"Displacement\": 86.0, \"Horsepower\": 65.0, \"Weight_in_lbs\": 1975, \"Acceleration\": 15.2, \"Year\": \"1979-01-01\", \"Origin\": \"Japan\"}, {\"Name\": \"dodge colt hatchback custom\", \"Miles_per_Gallon\": 35.7, \"Cylinders\": 4, \"Displacement\": 98.0, \"Horsepower\": 80.0, \"Weight_in_lbs\": 1915, \"Acceleration\": 14.4, \"Year\": \"1979-01-01\", \"Origin\": \"USA\"}, {\"Name\": \"amc spirit dl\", \"Miles_per_Gallon\": 27.4, \"Cylinders\": 4, \"Displacement\": 121.0, \"Horsepower\": 80.0, \"Weight_in_lbs\": 2670, \"Acceleration\": 15.0, \"Year\": \"1979-01-01\", \"Origin\": \"USA\"}, {\"Name\": \"mercedes benz 300d\", \"Miles_per_Gallon\": 25.4, \"Cylinders\": 5, \"Displacement\": 183.0, \"Horsepower\": 77.0, \"Weight_in_lbs\": 3530, \"Acceleration\": 20.1, \"Year\": \"1979-01-01\", \"Origin\": \"Europe\"}, {\"Name\": \"cadillac eldorado\", \"Miles_per_Gallon\": 23.0, \"Cylinders\": 8, \"Displacement\": 350.0, \"Horsepower\": 125.0, \"Weight_in_lbs\": 3900, \"Acceleration\": 17.4, \"Year\": \"1979-01-01\", \"Origin\": \"USA\"}, {\"Name\": \"peugeot 504\", \"Miles_per_Gallon\": 27.2, \"Cylinders\": 4, \"Displacement\": 141.0, \"Horsepower\": 71.0, \"Weight_in_lbs\": 3190, \"Acceleration\": 24.8, \"Year\": \"1979-01-01\", \"Origin\": \"Europe\"}, {\"Name\": \"oldsmobile cutlass salon brougham\", \"Miles_per_Gallon\": 23.9, \"Cylinders\": 8, \"Displacement\": 260.0, \"Horsepower\": 90.0, \"Weight_in_lbs\": 3420, \"Acceleration\": 22.2, \"Year\": \"1979-01-01\", \"Origin\": \"USA\"}, {\"Name\": \"plymouth horizon\", \"Miles_per_Gallon\": 34.2, \"Cylinders\": 4, \"Displacement\": 105.0, \"Horsepower\": 70.0, \"Weight_in_lbs\": 2200, \"Acceleration\": 13.2, \"Year\": \"1979-01-01\", \"Origin\": \"USA\"}, {\"Name\": \"plymouth horizon tc3\", \"Miles_per_Gallon\": 34.5, \"Cylinders\": 4, \"Displacement\": 105.0, \"Horsepower\": 70.0, \"Weight_in_lbs\": 2150, \"Acceleration\": 14.9, \"Year\": \"1979-01-01\", \"Origin\": \"USA\"}, {\"Name\": \"datsun 210\", \"Miles_per_Gallon\": 31.8, \"Cylinders\": 4, \"Displacement\": 85.0, \"Horsepower\": 65.0, \"Weight_in_lbs\": 2020, \"Acceleration\": 19.2, \"Year\": \"1979-01-01\", \"Origin\": \"Japan\"}, {\"Name\": \"fiat strada custom\", \"Miles_per_Gallon\": 37.3, \"Cylinders\": 4, \"Displacement\": 91.0, \"Horsepower\": 69.0, \"Weight_in_lbs\": 2130, \"Acceleration\": 14.7, \"Year\": \"1979-01-01\", \"Origin\": \"Europe\"}, {\"Name\": \"buick skylark limited\", \"Miles_per_Gallon\": 28.4, \"Cylinders\": 4, \"Displacement\": 151.0, \"Horsepower\": 90.0, \"Weight_in_lbs\": 2670, \"Acceleration\": 16.0, \"Year\": \"1979-01-01\", \"Origin\": \"USA\"}, {\"Name\": \"chevrolet citation\", \"Miles_per_Gallon\": 28.8, \"Cylinders\": 6, \"Displacement\": 173.0, \"Horsepower\": 115.0, \"Weight_in_lbs\": 2595, \"Acceleration\": 11.3, \"Year\": \"1979-01-01\", \"Origin\": \"USA\"}, {\"Name\": \"oldsmobile omega brougham\", \"Miles_per_Gallon\": 26.8, \"Cylinders\": 6, \"Displacement\": 173.0, \"Horsepower\": 115.0, \"Weight_in_lbs\": 2700, \"Acceleration\": 12.9, \"Year\": \"1979-01-01\", \"Origin\": \"USA\"}, {\"Name\": \"pontiac phoenix\", \"Miles_per_Gallon\": 33.5, \"Cylinders\": 4, \"Displacement\": 151.0, \"Horsepower\": 90.0, \"Weight_in_lbs\": 2556, \"Acceleration\": 13.2, \"Year\": \"1979-01-01\", \"Origin\": \"USA\"}, {\"Name\": \"vw rabbit\", \"Miles_per_Gallon\": 41.5, \"Cylinders\": 4, \"Displacement\": 98.0, \"Horsepower\": 76.0, \"Weight_in_lbs\": 2144, \"Acceleration\": 14.7, \"Year\": \"1980-01-01\", \"Origin\": \"Europe\"}, {\"Name\": \"toyota corolla tercel\", \"Miles_per_Gallon\": 38.1, \"Cylinders\": 4, \"Displacement\": 89.0, \"Horsepower\": 60.0, \"Weight_in_lbs\": 1968, \"Acceleration\": 18.8, \"Year\": \"1980-01-01\", \"Origin\": \"Japan\"}, {\"Name\": \"chevrolet chevette\", \"Miles_per_Gallon\": 32.1, \"Cylinders\": 4, \"Displacement\": 98.0, \"Horsepower\": 70.0, \"Weight_in_lbs\": 2120, \"Acceleration\": 15.5, \"Year\": \"1980-01-01\", \"Origin\": \"USA\"}, {\"Name\": \"datsun 310\", \"Miles_per_Gallon\": 37.2, \"Cylinders\": 4, \"Displacement\": 86.0, \"Horsepower\": 65.0, \"Weight_in_lbs\": 2019, \"Acceleration\": 16.4, \"Year\": \"1980-01-01\", \"Origin\": \"Japan\"}, {\"Name\": \"chevrolet citation\", \"Miles_per_Gallon\": 28.0, \"Cylinders\": 4, \"Displacement\": 151.0, \"Horsepower\": 90.0, \"Weight_in_lbs\": 2678, \"Acceleration\": 16.5, \"Year\": \"1980-01-01\", \"Origin\": \"USA\"}, {\"Name\": \"ford fairmont\", \"Miles_per_Gallon\": 26.4, \"Cylinders\": 4, \"Displacement\": 140.0, \"Horsepower\": 88.0, \"Weight_in_lbs\": 2870, \"Acceleration\": 18.1, \"Year\": \"1980-01-01\", \"Origin\": \"USA\"}, {\"Name\": \"amc concord\", \"Miles_per_Gallon\": 24.3, \"Cylinders\": 4, \"Displacement\": 151.0, \"Horsepower\": 90.0, \"Weight_in_lbs\": 3003, \"Acceleration\": 20.1, \"Year\": \"1980-01-01\", \"Origin\": \"USA\"}, {\"Name\": \"dodge aspen\", \"Miles_per_Gallon\": 19.1, \"Cylinders\": 6, \"Displacement\": 225.0, \"Horsepower\": 90.0, \"Weight_in_lbs\": 3381, \"Acceleration\": 18.7, \"Year\": \"1980-01-01\", \"Origin\": \"USA\"}, {\"Name\": \"audi 4000\", \"Miles_per_Gallon\": 34.3, \"Cylinders\": 4, \"Displacement\": 97.0, \"Horsepower\": 78.0, \"Weight_in_lbs\": 2188, \"Acceleration\": 15.8, \"Year\": \"1980-01-01\", \"Origin\": \"Europe\"}, {\"Name\": \"toyota corona liftback\", \"Miles_per_Gallon\": 29.8, \"Cylinders\": 4, \"Displacement\": 134.0, \"Horsepower\": 90.0, \"Weight_in_lbs\": 2711, \"Acceleration\": 15.5, \"Year\": \"1980-01-01\", \"Origin\": \"Japan\"}, {\"Name\": \"mazda 626\", \"Miles_per_Gallon\": 31.3, \"Cylinders\": 4, \"Displacement\": 120.0, \"Horsepower\": 75.0, \"Weight_in_lbs\": 2542, \"Acceleration\": 17.5, \"Year\": \"1980-01-01\", \"Origin\": \"Japan\"}, {\"Name\": \"datsun 510 hatchback\", \"Miles_per_Gallon\": 37.0, \"Cylinders\": 4, \"Displacement\": 119.0, \"Horsepower\": 92.0, \"Weight_in_lbs\": 2434, \"Acceleration\": 15.0, \"Year\": \"1980-01-01\", \"Origin\": \"Japan\"}, {\"Name\": \"toyota corolla\", \"Miles_per_Gallon\": 32.2, \"Cylinders\": 4, \"Displacement\": 108.0, \"Horsepower\": 75.0, \"Weight_in_lbs\": 2265, \"Acceleration\": 15.2, \"Year\": \"1980-01-01\", \"Origin\": \"Japan\"}, {\"Name\": \"mazda glc\", \"Miles_per_Gallon\": 46.6, \"Cylinders\": 4, \"Displacement\": 86.0, \"Horsepower\": 65.0, \"Weight_in_lbs\": 2110, \"Acceleration\": 17.9, \"Year\": \"1980-01-01\", \"Origin\": \"Japan\"}, {\"Name\": \"dodge colt\", \"Miles_per_Gallon\": 27.9, \"Cylinders\": 4, \"Displacement\": 156.0, \"Horsepower\": 105.0, \"Weight_in_lbs\": 2800, \"Acceleration\": 14.4, \"Year\": \"1980-01-01\", \"Origin\": \"USA\"}, {\"Name\": \"datsun 210\", \"Miles_per_Gallon\": 40.8, \"Cylinders\": 4, \"Displacement\": 85.0, \"Horsepower\": 65.0, \"Weight_in_lbs\": 2110, \"Acceleration\": 19.2, \"Year\": \"1980-01-01\", \"Origin\": \"Japan\"}, {\"Name\": \"vw rabbit c (diesel)\", \"Miles_per_Gallon\": 44.3, \"Cylinders\": 4, \"Displacement\": 90.0, \"Horsepower\": 48.0, \"Weight_in_lbs\": 2085, \"Acceleration\": 21.7, \"Year\": \"1980-01-01\", \"Origin\": \"Europe\"}, {\"Name\": \"vw dasher (diesel)\", \"Miles_per_Gallon\": 43.4, \"Cylinders\": 4, \"Displacement\": 90.0, \"Horsepower\": 48.0, \"Weight_in_lbs\": 2335, \"Acceleration\": 23.7, \"Year\": \"1980-01-01\", \"Origin\": \"Europe\"}, {\"Name\": \"audi 5000s (diesel)\", \"Miles_per_Gallon\": 36.4, \"Cylinders\": 5, \"Displacement\": 121.0, \"Horsepower\": 67.0, \"Weight_in_lbs\": 2950, \"Acceleration\": 19.9, \"Year\": \"1980-01-01\", \"Origin\": \"Europe\"}, {\"Name\": \"mercedes-benz 240d\", \"Miles_per_Gallon\": 30.0, \"Cylinders\": 4, \"Displacement\": 146.0, \"Horsepower\": 67.0, \"Weight_in_lbs\": 3250, \"Acceleration\": 21.8, \"Year\": \"1980-01-01\", \"Origin\": \"Europe\"}, {\"Name\": \"honda civic 1500 gl\", \"Miles_per_Gallon\": 44.6, \"Cylinders\": 4, \"Displacement\": 91.0, \"Horsepower\": 67.0, \"Weight_in_lbs\": 1850, \"Acceleration\": 13.8, \"Year\": \"1980-01-01\", \"Origin\": \"Japan\"}, {\"Name\": \"renault lecar deluxe\", \"Miles_per_Gallon\": 40.9, \"Cylinders\": 4, \"Displacement\": 85.0, \"Horsepower\": null, \"Weight_in_lbs\": 1835, \"Acceleration\": 17.3, \"Year\": \"1980-01-01\", \"Origin\": \"Europe\"}, {\"Name\": \"subaru dl\", \"Miles_per_Gallon\": 33.8, \"Cylinders\": 4, \"Displacement\": 97.0, \"Horsepower\": 67.0, \"Weight_in_lbs\": 2145, \"Acceleration\": 18.0, \"Year\": \"1980-01-01\", \"Origin\": \"Japan\"}, {\"Name\": \"vokswagen rabbit\", \"Miles_per_Gallon\": 29.8, \"Cylinders\": 4, \"Displacement\": 89.0, \"Horsepower\": 62.0, \"Weight_in_lbs\": 1845, \"Acceleration\": 15.3, \"Year\": \"1980-01-01\", \"Origin\": \"Europe\"}, {\"Name\": \"datsun 280-zx\", \"Miles_per_Gallon\": 32.7, \"Cylinders\": 6, \"Displacement\": 168.0, \"Horsepower\": 132.0, \"Weight_in_lbs\": 2910, \"Acceleration\": 11.4, \"Year\": \"1980-01-01\", \"Origin\": \"Japan\"}, {\"Name\": \"mazda rx-7 gs\", \"Miles_per_Gallon\": 23.7, \"Cylinders\": 3, \"Displacement\": 70.0, \"Horsepower\": 100.0, \"Weight_in_lbs\": 2420, \"Acceleration\": 12.5, \"Year\": \"1980-01-01\", \"Origin\": \"Japan\"}, {\"Name\": \"triumph tr7 coupe\", \"Miles_per_Gallon\": 35.0, \"Cylinders\": 4, \"Displacement\": 122.0, \"Horsepower\": 88.0, \"Weight_in_lbs\": 2500, \"Acceleration\": 15.1, \"Year\": \"1980-01-01\", \"Origin\": \"Europe\"}, {\"Name\": \"ford mustang cobra\", \"Miles_per_Gallon\": 23.6, \"Cylinders\": 4, \"Displacement\": 140.0, \"Horsepower\": null, \"Weight_in_lbs\": 2905, \"Acceleration\": 14.3, \"Year\": \"1980-01-01\", \"Origin\": \"USA\"}, {\"Name\": \"honda Accelerationord\", \"Miles_per_Gallon\": 32.4, \"Cylinders\": 4, \"Displacement\": 107.0, \"Horsepower\": 72.0, \"Weight_in_lbs\": 2290, \"Acceleration\": 17.0, \"Year\": \"1980-01-01\", \"Origin\": \"Japan\"}, {\"Name\": \"plymouth reliant\", \"Miles_per_Gallon\": 27.2, \"Cylinders\": 4, \"Displacement\": 135.0, \"Horsepower\": 84.0, \"Weight_in_lbs\": 2490, \"Acceleration\": 15.7, \"Year\": \"1982-01-01\", \"Origin\": \"USA\"}, {\"Name\": \"buick skylark\", \"Miles_per_Gallon\": 26.6, \"Cylinders\": 4, \"Displacement\": 151.0, \"Horsepower\": 84.0, \"Weight_in_lbs\": 2635, \"Acceleration\": 16.4, \"Year\": \"1982-01-01\", \"Origin\": \"USA\"}, {\"Name\": \"dodge aries wagon (sw)\", \"Miles_per_Gallon\": 25.8, \"Cylinders\": 4, \"Displacement\": 156.0, \"Horsepower\": 92.0, \"Weight_in_lbs\": 2620, \"Acceleration\": 14.4, \"Year\": \"1982-01-01\", \"Origin\": \"USA\"}, {\"Name\": \"chevrolet citation\", \"Miles_per_Gallon\": 23.5, \"Cylinders\": 6, \"Displacement\": 173.0, \"Horsepower\": 110.0, \"Weight_in_lbs\": 2725, \"Acceleration\": 12.6, \"Year\": \"1982-01-01\", \"Origin\": \"USA\"}, {\"Name\": \"plymouth reliant\", \"Miles_per_Gallon\": 30.0, \"Cylinders\": 4, \"Displacement\": 135.0, \"Horsepower\": 84.0, \"Weight_in_lbs\": 2385, \"Acceleration\": 12.9, \"Year\": \"1982-01-01\", \"Origin\": \"USA\"}, {\"Name\": \"toyota starlet\", \"Miles_per_Gallon\": 39.1, \"Cylinders\": 4, \"Displacement\": 79.0, \"Horsepower\": 58.0, \"Weight_in_lbs\": 1755, \"Acceleration\": 16.9, \"Year\": \"1982-01-01\", \"Origin\": \"Japan\"}, {\"Name\": \"plymouth champ\", \"Miles_per_Gallon\": 39.0, \"Cylinders\": 4, \"Displacement\": 86.0, \"Horsepower\": 64.0, \"Weight_in_lbs\": 1875, \"Acceleration\": 16.4, \"Year\": \"1982-01-01\", \"Origin\": \"USA\"}, {\"Name\": \"honda civic 1300\", \"Miles_per_Gallon\": 35.1, \"Cylinders\": 4, \"Displacement\": 81.0, \"Horsepower\": 60.0, \"Weight_in_lbs\": 1760, \"Acceleration\": 16.1, \"Year\": \"1982-01-01\", \"Origin\": \"Japan\"}, {\"Name\": \"subaru\", \"Miles_per_Gallon\": 32.3, \"Cylinders\": 4, \"Displacement\": 97.0, \"Horsepower\": 67.0, \"Weight_in_lbs\": 2065, \"Acceleration\": 17.8, \"Year\": \"1982-01-01\", \"Origin\": \"Japan\"}, {\"Name\": \"datsun 210\", \"Miles_per_Gallon\": 37.0, \"Cylinders\": 4, \"Displacement\": 85.0, \"Horsepower\": 65.0, \"Weight_in_lbs\": 1975, \"Acceleration\": 19.4, \"Year\": \"1982-01-01\", \"Origin\": \"Japan\"}, {\"Name\": \"toyota tercel\", \"Miles_per_Gallon\": 37.7, \"Cylinders\": 4, \"Displacement\": 89.0, \"Horsepower\": 62.0, \"Weight_in_lbs\": 2050, \"Acceleration\": 17.3, \"Year\": \"1982-01-01\", \"Origin\": \"Japan\"}, {\"Name\": \"mazda glc 4\", \"Miles_per_Gallon\": 34.1, \"Cylinders\": 4, \"Displacement\": 91.0, \"Horsepower\": 68.0, \"Weight_in_lbs\": 1985, \"Acceleration\": 16.0, \"Year\": \"1982-01-01\", \"Origin\": \"Japan\"}, {\"Name\": \"plymouth horizon 4\", \"Miles_per_Gallon\": 34.7, \"Cylinders\": 4, \"Displacement\": 105.0, \"Horsepower\": 63.0, \"Weight_in_lbs\": 2215, \"Acceleration\": 14.9, \"Year\": \"1982-01-01\", \"Origin\": \"USA\"}, {\"Name\": \"ford escort 4w\", \"Miles_per_Gallon\": 34.4, \"Cylinders\": 4, \"Displacement\": 98.0, \"Horsepower\": 65.0, \"Weight_in_lbs\": 2045, \"Acceleration\": 16.2, \"Year\": \"1982-01-01\", \"Origin\": \"USA\"}, {\"Name\": \"ford escort 2h\", \"Miles_per_Gallon\": 29.9, \"Cylinders\": 4, \"Displacement\": 98.0, \"Horsepower\": 65.0, \"Weight_in_lbs\": 2380, \"Acceleration\": 20.7, \"Year\": \"1982-01-01\", \"Origin\": \"USA\"}, {\"Name\": \"volkswagen jetta\", \"Miles_per_Gallon\": 33.0, \"Cylinders\": 4, \"Displacement\": 105.0, \"Horsepower\": 74.0, \"Weight_in_lbs\": 2190, \"Acceleration\": 14.2, \"Year\": \"1982-01-01\", \"Origin\": \"Europe\"}, {\"Name\": \"renault 18i\", \"Miles_per_Gallon\": 34.5, \"Cylinders\": 4, \"Displacement\": 100.0, \"Horsepower\": null, \"Weight_in_lbs\": 2320, \"Acceleration\": 15.8, \"Year\": \"1982-01-01\", \"Origin\": \"Europe\"}, {\"Name\": \"honda prelude\", \"Miles_per_Gallon\": 33.7, \"Cylinders\": 4, \"Displacement\": 107.0, \"Horsepower\": 75.0, \"Weight_in_lbs\": 2210, \"Acceleration\": 14.4, \"Year\": \"1982-01-01\", \"Origin\": \"Japan\"}, {\"Name\": \"toyota corolla\", \"Miles_per_Gallon\": 32.4, \"Cylinders\": 4, \"Displacement\": 108.0, \"Horsepower\": 75.0, \"Weight_in_lbs\": 2350, \"Acceleration\": 16.8, \"Year\": \"1982-01-01\", \"Origin\": \"Japan\"}, {\"Name\": \"datsun 200sx\", \"Miles_per_Gallon\": 32.9, \"Cylinders\": 4, \"Displacement\": 119.0, \"Horsepower\": 100.0, \"Weight_in_lbs\": 2615, \"Acceleration\": 14.8, \"Year\": \"1982-01-01\", \"Origin\": \"Japan\"}, {\"Name\": \"mazda 626\", \"Miles_per_Gallon\": 31.6, \"Cylinders\": 4, \"Displacement\": 120.0, \"Horsepower\": 74.0, \"Weight_in_lbs\": 2635, \"Acceleration\": 18.3, \"Year\": \"1982-01-01\", \"Origin\": \"Japan\"}, {\"Name\": \"peugeot 505s turbo diesel\", \"Miles_per_Gallon\": 28.1, \"Cylinders\": 4, \"Displacement\": 141.0, \"Horsepower\": 80.0, \"Weight_in_lbs\": 3230, \"Acceleration\": 20.4, \"Year\": \"1982-01-01\", \"Origin\": \"Europe\"}, {\"Name\": \"saab 900s\", \"Miles_per_Gallon\": null, \"Cylinders\": 4, \"Displacement\": 121.0, \"Horsepower\": 110.0, \"Weight_in_lbs\": 2800, \"Acceleration\": 15.4, \"Year\": \"1982-01-01\", \"Origin\": \"Europe\"}, {\"Name\": \"volvo diesel\", \"Miles_per_Gallon\": 30.7, \"Cylinders\": 6, \"Displacement\": 145.0, \"Horsepower\": 76.0, \"Weight_in_lbs\": 3160, \"Acceleration\": 19.6, \"Year\": \"1982-01-01\", \"Origin\": \"Europe\"}, {\"Name\": \"toyota cressida\", \"Miles_per_Gallon\": 25.4, \"Cylinders\": 6, \"Displacement\": 168.0, \"Horsepower\": 116.0, \"Weight_in_lbs\": 2900, \"Acceleration\": 12.6, \"Year\": \"1982-01-01\", \"Origin\": \"Japan\"}, {\"Name\": \"datsun 810 maxima\", \"Miles_per_Gallon\": 24.2, \"Cylinders\": 6, \"Displacement\": 146.0, \"Horsepower\": 120.0, \"Weight_in_lbs\": 2930, \"Acceleration\": 13.8, \"Year\": \"1982-01-01\", \"Origin\": \"Japan\"}, {\"Name\": \"buick century\", \"Miles_per_Gallon\": 22.4, \"Cylinders\": 6, \"Displacement\": 231.0, \"Horsepower\": 110.0, \"Weight_in_lbs\": 3415, \"Acceleration\": 15.8, \"Year\": \"1982-01-01\", \"Origin\": \"USA\"}, {\"Name\": \"oldsmobile cutlass ls\", \"Miles_per_Gallon\": 26.6, \"Cylinders\": 8, \"Displacement\": 350.0, \"Horsepower\": 105.0, \"Weight_in_lbs\": 3725, \"Acceleration\": 19.0, \"Year\": \"1982-01-01\", \"Origin\": \"USA\"}, {\"Name\": \"ford granada gl\", \"Miles_per_Gallon\": 20.2, \"Cylinders\": 6, \"Displacement\": 200.0, \"Horsepower\": 88.0, \"Weight_in_lbs\": 3060, \"Acceleration\": 17.1, \"Year\": \"1982-01-01\", \"Origin\": \"USA\"}, {\"Name\": \"chrysler lebaron salon\", \"Miles_per_Gallon\": 17.6, \"Cylinders\": 6, \"Displacement\": 225.0, \"Horsepower\": 85.0, \"Weight_in_lbs\": 3465, \"Acceleration\": 16.6, \"Year\": \"1982-01-01\", \"Origin\": \"USA\"}, {\"Name\": \"chevrolet cavalier\", \"Miles_per_Gallon\": 28.0, \"Cylinders\": 4, \"Displacement\": 112.0, \"Horsepower\": 88.0, \"Weight_in_lbs\": 2605, \"Acceleration\": 19.6, \"Year\": \"1982-01-01\", \"Origin\": \"USA\"}, {\"Name\": \"chevrolet cavalier wagon\", \"Miles_per_Gallon\": 27.0, \"Cylinders\": 4, \"Displacement\": 112.0, \"Horsepower\": 88.0, \"Weight_in_lbs\": 2640, \"Acceleration\": 18.6, \"Year\": \"1982-01-01\", \"Origin\": \"USA\"}, {\"Name\": \"chevrolet cavalier 2-door\", \"Miles_per_Gallon\": 34.0, \"Cylinders\": 4, \"Displacement\": 112.0, \"Horsepower\": 88.0, \"Weight_in_lbs\": 2395, \"Acceleration\": 18.0, \"Year\": \"1982-01-01\", \"Origin\": \"USA\"}, {\"Name\": \"pontiac j2000 se hatchback\", \"Miles_per_Gallon\": 31.0, \"Cylinders\": 4, \"Displacement\": 112.0, \"Horsepower\": 85.0, \"Weight_in_lbs\": 2575, \"Acceleration\": 16.2, \"Year\": \"1982-01-01\", \"Origin\": \"USA\"}, {\"Name\": \"dodge aries se\", \"Miles_per_Gallon\": 29.0, \"Cylinders\": 4, \"Displacement\": 135.0, \"Horsepower\": 84.0, \"Weight_in_lbs\": 2525, \"Acceleration\": 16.0, \"Year\": \"1982-01-01\", \"Origin\": \"USA\"}, {\"Name\": \"pontiac phoenix\", \"Miles_per_Gallon\": 27.0, \"Cylinders\": 4, \"Displacement\": 151.0, \"Horsepower\": 90.0, \"Weight_in_lbs\": 2735, \"Acceleration\": 18.0, \"Year\": \"1982-01-01\", \"Origin\": \"USA\"}, {\"Name\": \"ford fairmont futura\", \"Miles_per_Gallon\": 24.0, \"Cylinders\": 4, \"Displacement\": 140.0, \"Horsepower\": 92.0, \"Weight_in_lbs\": 2865, \"Acceleration\": 16.4, \"Year\": \"1982-01-01\", \"Origin\": \"USA\"}, {\"Name\": \"amc concord dl\", \"Miles_per_Gallon\": 23.0, \"Cylinders\": 4, \"Displacement\": 151.0, \"Horsepower\": null, \"Weight_in_lbs\": 3035, \"Acceleration\": 20.5, \"Year\": \"1982-01-01\", \"Origin\": \"USA\"}, {\"Name\": \"volkswagen rabbit l\", \"Miles_per_Gallon\": 36.0, \"Cylinders\": 4, \"Displacement\": 105.0, \"Horsepower\": 74.0, \"Weight_in_lbs\": 1980, \"Acceleration\": 15.3, \"Year\": \"1982-01-01\", \"Origin\": \"Europe\"}, {\"Name\": \"mazda glc custom l\", \"Miles_per_Gallon\": 37.0, \"Cylinders\": 4, \"Displacement\": 91.0, \"Horsepower\": 68.0, \"Weight_in_lbs\": 2025, \"Acceleration\": 18.2, \"Year\": \"1982-01-01\", \"Origin\": \"Japan\"}, {\"Name\": \"mazda glc custom\", \"Miles_per_Gallon\": 31.0, \"Cylinders\": 4, \"Displacement\": 91.0, \"Horsepower\": 68.0, \"Weight_in_lbs\": 1970, \"Acceleration\": 17.6, \"Year\": \"1982-01-01\", \"Origin\": \"Japan\"}, {\"Name\": \"plymouth horizon miser\", \"Miles_per_Gallon\": 38.0, \"Cylinders\": 4, \"Displacement\": 105.0, \"Horsepower\": 63.0, \"Weight_in_lbs\": 2125, \"Acceleration\": 14.7, \"Year\": \"1982-01-01\", \"Origin\": \"USA\"}, {\"Name\": \"mercury lynx l\", \"Miles_per_Gallon\": 36.0, \"Cylinders\": 4, \"Displacement\": 98.0, \"Horsepower\": 70.0, \"Weight_in_lbs\": 2125, \"Acceleration\": 17.3, \"Year\": \"1982-01-01\", \"Origin\": \"USA\"}, {\"Name\": \"nissan stanza xe\", \"Miles_per_Gallon\": 36.0, \"Cylinders\": 4, \"Displacement\": 120.0, \"Horsepower\": 88.0, \"Weight_in_lbs\": 2160, \"Acceleration\": 14.5, \"Year\": \"1982-01-01\", \"Origin\": \"Japan\"}, {\"Name\": \"honda Accelerationord\", \"Miles_per_Gallon\": 36.0, \"Cylinders\": 4, \"Displacement\": 107.0, \"Horsepower\": 75.0, \"Weight_in_lbs\": 2205, \"Acceleration\": 14.5, \"Year\": \"1982-01-01\", \"Origin\": \"Japan\"}, {\"Name\": \"toyota corolla\", \"Miles_per_Gallon\": 34.0, \"Cylinders\": 4, \"Displacement\": 108.0, \"Horsepower\": 70.0, \"Weight_in_lbs\": 2245, \"Acceleration\": 16.9, \"Year\": \"1982-01-01\", \"Origin\": \"Japan\"}, {\"Name\": \"honda civic\", \"Miles_per_Gallon\": 38.0, \"Cylinders\": 4, \"Displacement\": 91.0, \"Horsepower\": 67.0, \"Weight_in_lbs\": 1965, \"Acceleration\": 15.0, \"Year\": \"1982-01-01\", \"Origin\": \"Japan\"}, {\"Name\": \"honda civic (auto)\", \"Miles_per_Gallon\": 32.0, \"Cylinders\": 4, \"Displacement\": 91.0, \"Horsepower\": 67.0, \"Weight_in_lbs\": 1965, \"Acceleration\": 15.7, \"Year\": \"1982-01-01\", \"Origin\": \"Japan\"}, {\"Name\": \"datsun 310 gx\", \"Miles_per_Gallon\": 38.0, \"Cylinders\": 4, \"Displacement\": 91.0, \"Horsepower\": 67.0, \"Weight_in_lbs\": 1995, \"Acceleration\": 16.2, \"Year\": \"1982-01-01\", \"Origin\": \"Japan\"}, {\"Name\": \"buick century limited\", \"Miles_per_Gallon\": 25.0, \"Cylinders\": 6, \"Displacement\": 181.0, \"Horsepower\": 110.0, \"Weight_in_lbs\": 2945, \"Acceleration\": 16.4, \"Year\": \"1982-01-01\", \"Origin\": \"USA\"}, {\"Name\": \"oldsmobile cutlass ciera (diesel)\", \"Miles_per_Gallon\": 38.0, \"Cylinders\": 6, \"Displacement\": 262.0, \"Horsepower\": 85.0, \"Weight_in_lbs\": 3015, \"Acceleration\": 17.0, \"Year\": \"1982-01-01\", \"Origin\": \"USA\"}, {\"Name\": \"chrysler lebaron medallion\", \"Miles_per_Gallon\": 26.0, \"Cylinders\": 4, \"Displacement\": 156.0, \"Horsepower\": 92.0, \"Weight_in_lbs\": 2585, \"Acceleration\": 14.5, \"Year\": \"1982-01-01\", \"Origin\": \"USA\"}, {\"Name\": \"ford granada l\", \"Miles_per_Gallon\": 22.0, \"Cylinders\": 6, \"Displacement\": 232.0, \"Horsepower\": 112.0, \"Weight_in_lbs\": 2835, \"Acceleration\": 14.7, \"Year\": \"1982-01-01\", \"Origin\": \"USA\"}, {\"Name\": \"toyota celica gt\", \"Miles_per_Gallon\": 32.0, \"Cylinders\": 4, \"Displacement\": 144.0, \"Horsepower\": 96.0, \"Weight_in_lbs\": 2665, \"Acceleration\": 13.9, \"Year\": \"1982-01-01\", \"Origin\": \"Japan\"}, {\"Name\": \"dodge charger 2.2\", \"Miles_per_Gallon\": 36.0, \"Cylinders\": 4, \"Displacement\": 135.0, \"Horsepower\": 84.0, \"Weight_in_lbs\": 2370, \"Acceleration\": 13.0, \"Year\": \"1982-01-01\", \"Origin\": \"USA\"}, {\"Name\": \"chevrolet camaro\", \"Miles_per_Gallon\": 27.0, \"Cylinders\": 4, \"Displacement\": 151.0, \"Horsepower\": 90.0, \"Weight_in_lbs\": 2950, \"Acceleration\": 17.3, \"Year\": \"1982-01-01\", \"Origin\": \"USA\"}, {\"Name\": \"ford mustang gl\", \"Miles_per_Gallon\": 27.0, \"Cylinders\": 4, \"Displacement\": 140.0, \"Horsepower\": 86.0, \"Weight_in_lbs\": 2790, \"Acceleration\": 15.6, \"Year\": \"1982-01-01\", \"Origin\": \"USA\"}, {\"Name\": \"vw pickup\", \"Miles_per_Gallon\": 44.0, \"Cylinders\": 4, \"Displacement\": 97.0, \"Horsepower\": 52.0, \"Weight_in_lbs\": 2130, \"Acceleration\": 24.6, \"Year\": \"1982-01-01\", \"Origin\": \"Europe\"}, {\"Name\": \"dodge rampage\", \"Miles_per_Gallon\": 32.0, \"Cylinders\": 4, \"Displacement\": 135.0, \"Horsepower\": 84.0, \"Weight_in_lbs\": 2295, \"Acceleration\": 11.6, \"Year\": \"1982-01-01\", \"Origin\": \"USA\"}, {\"Name\": \"ford ranger\", \"Miles_per_Gallon\": 28.0, \"Cylinders\": 4, \"Displacement\": 120.0, \"Horsepower\": 79.0, \"Weight_in_lbs\": 2625, \"Acceleration\": 18.6, \"Year\": \"1982-01-01\", \"Origin\": \"USA\"}, {\"Name\": \"chevy s-10\", \"Miles_per_Gallon\": 31.0, \"Cylinders\": 4, \"Displacement\": 119.0, \"Horsepower\": 82.0, \"Weight_in_lbs\": 2720, \"Acceleration\": 19.4, \"Year\": \"1982-01-01\", \"Origin\": \"USA\"}]}}, {\"mode\": \"vega-lite\"});\n",
       "</script>"
      ],
      "text/plain": [
       "alt.HConcatChart(...)"
      ]
     },
     "execution_count": 19,
     "metadata": {},
     "output_type": "execute_result"
    }
   ],
   "source": [
    "c1|c2"
   ]
  }
 ],
 "metadata": {
  "deepnote": {},
  "deepnote_execution_queue": [],
  "deepnote_notebook_id": "ab522a95-71b6-44c3-a2bc-645a1f636a9c",
  "kernelspec": {
   "display_name": "Python 3 (ipykernel)",
   "language": "python",
   "name": "python3"
  },
  "language_info": {
   "codemirror_mode": {
    "name": "ipython",
    "version": 3
   },
   "file_extension": ".py",
   "mimetype": "text/x-python",
   "name": "python",
   "nbconvert_exporter": "python",
   "pygments_lexer": "ipython3",
   "version": "3.7.12"
  }
 },
 "nbformat": 4,
 "nbformat_minor": 4
}
