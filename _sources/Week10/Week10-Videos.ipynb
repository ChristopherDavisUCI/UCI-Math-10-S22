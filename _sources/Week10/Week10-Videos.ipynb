{
 "cells": [
  {
   "cell_type": "markdown",
   "metadata": {
    "cell_id": "8dd243882f2e43ca998a35991310a73e",
    "deepnote_cell_height": 82,
    "deepnote_cell_type": "markdown",
    "tags": []
   },
   "source": [
    "# Week 10 Videos"
   ]
  },
  {
   "cell_type": "code",
   "execution_count": 1,
   "metadata": {
    "cell_id": "6ccfc7c7-aef6-45a1-b6b4-2d86fa49b29e",
    "deepnote_cell_height": 99,
    "deepnote_cell_type": "code",
    "deepnote_to_be_reexecuted": false,
    "execution_millis": 303,
    "execution_start": 1653423620242,
    "source_hash": "46e6bd77",
    "tags": []
   },
   "outputs": [],
   "source": [
    "import pandas as pd\n",
    "import altair as alt"
   ]
  },
  {
   "cell_type": "markdown",
   "metadata": {
    "cell_id": "25cef9e0234b47788a3b74395071ccf3",
    "deepnote_cell_height": 401,
    "deepnote_cell_type": "markdown",
    "tags": []
   },
   "source": [
    "## Using a Pipeline for polynomial regression\n",
    "\n",
    "<iframe width=\"560\" height=\"315\" src=\"https://www.youtube.com/embed/DdgdtLCMLh4\" title=\"YouTube video player\" frameborder=\"0\" allow=\"accelerometer; autoplay; clipboard-write; encrypted-media; gyroscope; picture-in-picture\" allowfullscreen></iframe>"
   ]
  },
  {
   "cell_type": "code",
   "execution_count": 2,
   "metadata": {
    "cell_id": "5079c68821c04cc4897198f835200796",
    "deepnote_cell_height": 81,
    "deepnote_cell_type": "code",
    "deepnote_to_be_reexecuted": false,
    "execution_millis": 6,
    "execution_start": 1653423621368,
    "source_hash": "aa0e9744",
    "tags": []
   },
   "outputs": [],
   "source": [
    "df = pd.read_csv(\"../data/sim_data.csv\", usecols=[\"x\",\"y\"])"
   ]
  },
  {
   "cell_type": "code",
   "execution_count": 3,
   "metadata": {
    "cell_id": "3fc6f275d9664c70b5025799b7964b82",
    "deepnote_cell_height": 548,
    "deepnote_cell_type": "code",
    "deepnote_to_be_reexecuted": false,
    "execution_millis": 8,
    "execution_start": 1653423976429,
    "source_hash": "57daab0a",
    "tags": []
   },
   "outputs": [
    {
     "data": {
      "text/html": [
       "\n",
       "<div id=\"altair-viz-420e8f785c854f39b9314c0dace209b8\"></div>\n",
       "<script type=\"text/javascript\">\n",
       "  var VEGA_DEBUG = (typeof VEGA_DEBUG == \"undefined\") ? {} : VEGA_DEBUG;\n",
       "  (function(spec, embedOpt){\n",
       "    let outputDiv = document.currentScript.previousElementSibling;\n",
       "    if (outputDiv.id !== \"altair-viz-420e8f785c854f39b9314c0dace209b8\") {\n",
       "      outputDiv = document.getElementById(\"altair-viz-420e8f785c854f39b9314c0dace209b8\");\n",
       "    }\n",
       "    const paths = {\n",
       "      \"vega\": \"https://cdn.jsdelivr.net/npm//vega@5?noext\",\n",
       "      \"vega-lib\": \"https://cdn.jsdelivr.net/npm//vega-lib?noext\",\n",
       "      \"vega-lite\": \"https://cdn.jsdelivr.net/npm//vega-lite@4.17.0?noext\",\n",
       "      \"vega-embed\": \"https://cdn.jsdelivr.net/npm//vega-embed@6?noext\",\n",
       "    };\n",
       "\n",
       "    function maybeLoadScript(lib, version) {\n",
       "      var key = `${lib.replace(\"-\", \"\")}_version`;\n",
       "      return (VEGA_DEBUG[key] == version) ?\n",
       "        Promise.resolve(paths[lib]) :\n",
       "        new Promise(function(resolve, reject) {\n",
       "          var s = document.createElement('script');\n",
       "          document.getElementsByTagName(\"head\")[0].appendChild(s);\n",
       "          s.async = true;\n",
       "          s.onload = () => {\n",
       "            VEGA_DEBUG[key] = version;\n",
       "            return resolve(paths[lib]);\n",
       "          };\n",
       "          s.onerror = () => reject(`Error loading script: ${paths[lib]}`);\n",
       "          s.src = paths[lib];\n",
       "        });\n",
       "    }\n",
       "\n",
       "    function showError(err) {\n",
       "      outputDiv.innerHTML = `<div class=\"error\" style=\"color:red;\">${err}</div>`;\n",
       "      throw err;\n",
       "    }\n",
       "\n",
       "    function displayChart(vegaEmbed) {\n",
       "      vegaEmbed(outputDiv, spec, embedOpt)\n",
       "        .catch(err => showError(`Javascript Error: ${err.message}<br>This usually means there's a typo in your chart specification. See the javascript console for the full traceback.`));\n",
       "    }\n",
       "\n",
       "    if(typeof define === \"function\" && define.amd) {\n",
       "      requirejs.config({paths});\n",
       "      require([\"vega-embed\"], displayChart, err => showError(`Error loading script: ${err.message}`));\n",
       "    } else {\n",
       "      maybeLoadScript(\"vega\", \"5\")\n",
       "        .then(() => maybeLoadScript(\"vega-lite\", \"4.17.0\"))\n",
       "        .then(() => maybeLoadScript(\"vega-embed\", \"6\"))\n",
       "        .catch(showError)\n",
       "        .then(() => displayChart(vegaEmbed));\n",
       "    }\n",
       "  })({\"config\": {\"view\": {\"continuousWidth\": 400, \"continuousHeight\": 300}}, \"data\": {\"name\": \"data-e55b9f183695ccb7d4bf00e9b78ed5ba\"}, \"mark\": \"circle\", \"encoding\": {\"x\": {\"field\": \"x\", \"type\": \"quantitative\"}, \"y\": {\"field\": \"y\", \"type\": \"quantitative\"}}, \"$schema\": \"https://vega.github.io/schema/vega-lite/v4.17.0.json\", \"datasets\": {\"data-e55b9f183695ccb7d4bf00e9b78ed5ba\": [{\"x\": -3.329207948258288, \"y\": -117.48489981507691}, {\"x\": 6.465018397406531, \"y\": 73.95490734658352}, {\"x\": -4.478046317204917, \"y\": -13.810088667204978}, {\"x\": 2.043272001247484, \"y\": 19.46118237861152}, {\"x\": 4.850593279708996, \"y\": 22.37523008579901}, {\"x\": -0.5785060804889142, \"y\": -25.44530061571687}, {\"x\": -6.557408679959602, \"y\": 76.67574767286865}, {\"x\": -5.656363051930528, \"y\": 59.65376106978435}, {\"x\": 0.1085383400545652, \"y\": -66.10368783700659}, {\"x\": 4.556122347821622, \"y\": 1.089803157452213}, {\"x\": -6.299257105127305, \"y\": -7.25110091586216}, {\"x\": 6.449735233464434, \"y\": 130.94052037260485}, {\"x\": 3.6601115365364834, \"y\": 8.061647596412477}, {\"x\": -8.982275379207888, \"y\": 2.57497436581059}, {\"x\": -9.026659050812274, \"y\": 15.781692216581398}, {\"x\": 5.481667038018758, \"y\": 24.44182752029455}, {\"x\": -3.942981654772611, \"y\": -35.90188825321785}, {\"x\": 7.135268762431544, \"y\": 27.822957658181807}, {\"x\": 4.196026495565919, \"y\": 19.89278808558322}, {\"x\": -9.924587728801344, \"y\": 90.76217468813144}, {\"x\": -0.6900414588494286, \"y\": 61.59169896339826}, {\"x\": 4.510287644012569, \"y\": 67.75450975334007}, {\"x\": -9.336060459657736, \"y\": 101.99230853473858}, {\"x\": 4.441058173200844, \"y\": 75.652070315597}, {\"x\": -6.563453985661962, \"y\": 3.705401701436681}, {\"x\": 0.3715928458725752, \"y\": 1.1348634243102325}, {\"x\": 6.520774235091615, \"y\": 106.2787015891801}, {\"x\": -2.9659640277290773, \"y\": 42.19409663367121}, {\"x\": 3.165616256477076, \"y\": -125.40319890292574}, {\"x\": 5.222245052890752, \"y\": -1.9846500432445997}, {\"x\": -6.47093182334422, \"y\": -11.812893751238208}, {\"x\": 6.893150314043133, \"y\": 64.8076871161785}, {\"x\": -3.493022680238049, \"y\": -54.08639152234581}, {\"x\": -8.747074910351651, \"y\": 183.70684761381912}, {\"x\": -1.384337371858507, \"y\": -33.87053208902993}, {\"x\": 4.852229846751024, \"y\": -13.988942624499913}, {\"x\": 3.727976805823406, \"y\": 161.0233188781908}, {\"x\": -2.7383989368584727, \"y\": -35.23602701511189}, {\"x\": -1.6026752477703532, \"y\": -41.0626241665516}, {\"x\": -8.223553165877851, \"y\": 14.428412230630222}, {\"x\": -0.3640013134943825, \"y\": 21.818198775552545}, {\"x\": 6.656568171049994, \"y\": 23.279299839342315}, {\"x\": -9.804879808964852, \"y\": 131.47624036529035}, {\"x\": 1.2361742342612168, \"y\": 3.383360389096301}, {\"x\": -2.76625939296056, \"y\": 129.3356782636361}, {\"x\": -4.457650184804254, \"y\": -26.760376539006497}, {\"x\": 4.825670488119888, \"y\": 49.77584336934803}, {\"x\": -3.012486777485868, \"y\": -12.16411918567957}, {\"x\": 3.7783291669200896, \"y\": -23.18155368558764}, {\"x\": 6.068926586911488, \"y\": 182.7524628775764}]}}, {\"mode\": \"vega-lite\"});\n",
       "</script>"
      ],
      "text/plain": [
       "alt.Chart(...)"
      ]
     },
     "execution_count": 3,
     "metadata": {},
     "output_type": "execute_result"
    }
   ],
   "source": [
    "c = alt.Chart(df).mark_circle().encode(\n",
    "    x=\"x\",\n",
    "    y=\"y\"\n",
    ")\n",
    "\n",
    "c"
   ]
  },
  {
   "cell_type": "code",
   "execution_count": 4,
   "metadata": {
    "cell_id": "fac80b1694ce42679159ab90504c7e32",
    "deepnote_cell_height": 117,
    "deepnote_cell_type": "code",
    "deepnote_to_be_reexecuted": false,
    "execution_millis": 2,
    "execution_start": 1653423836346,
    "source_hash": "1b04fc5c",
    "tags": []
   },
   "outputs": [],
   "source": [
    "from sklearn.pipeline import Pipeline\n",
    "from sklearn.preprocessing import PolynomialFeatures\n",
    "from sklearn.linear_model import LinearRegression"
   ]
  },
  {
   "cell_type": "code",
   "execution_count": 5,
   "metadata": {
    "cell_id": "dbeac7573f3541d2ba5440ef25373995",
    "deepnote_cell_height": 171,
    "deepnote_cell_type": "code",
    "deepnote_to_be_reexecuted": false,
    "execution_millis": 3,
    "execution_start": 1653423926866,
    "source_hash": "2810f52f",
    "tags": []
   },
   "outputs": [],
   "source": [
    "pipe = Pipeline(\n",
    "    [\n",
    "        ('poly', PolynomialFeatures(degree=10, include_bias=False)),\n",
    "        ('reg', LinearRegression())\n",
    "    ]\n",
    ")"
   ]
  },
  {
   "cell_type": "code",
   "execution_count": 6,
   "metadata": {
    "cell_id": "c840610446d643f49c0244940ccbd044",
    "deepnote_cell_height": 137.390625,
    "deepnote_cell_type": "code",
    "deepnote_to_be_reexecuted": false,
    "execution_millis": 34,
    "execution_start": 1653423949979,
    "source_hash": "fcf8e2c1",
    "tags": []
   },
   "outputs": [
    {
     "data": {
      "text/plain": [
       "Pipeline(steps=[('poly', PolynomialFeatures(degree=10, include_bias=False)),\n",
       "                ('reg', LinearRegression())])"
      ]
     },
     "execution_count": 6,
     "metadata": {},
     "output_type": "execute_result"
    }
   ],
   "source": [
    "pipe.fit(df[[\"x\"]], df[\"y\"])"
   ]
  },
  {
   "cell_type": "code",
   "execution_count": 7,
   "metadata": {
    "cell_id": "780f4ce88f6745ab9bb7a9009e40b960",
    "deepnote_cell_height": 81,
    "deepnote_cell_type": "code",
    "deepnote_to_be_reexecuted": false,
    "execution_millis": 4,
    "execution_start": 1653423967367,
    "source_hash": "9e2dd0f0",
    "tags": []
   },
   "outputs": [],
   "source": [
    "df[\"pred\"] = pipe.predict(df[[\"x\"]])"
   ]
  },
  {
   "cell_type": "code",
   "execution_count": 8,
   "metadata": {
    "cell_id": "2148b6dc43c647a5af3da8f1ec7870bc",
    "deepnote_cell_height": 135,
    "deepnote_cell_type": "code",
    "deepnote_to_be_reexecuted": false,
    "execution_millis": 2,
    "execution_start": 1653424003147,
    "source_hash": "86eb7ac2",
    "tags": []
   },
   "outputs": [],
   "source": [
    "c_pred = alt.Chart(df).mark_line(color=\"black\").encode(\n",
    "    x=\"x\",\n",
    "    y=\"pred\"\n",
    ")"
   ]
  },
  {
   "cell_type": "code",
   "execution_count": 9,
   "metadata": {
    "cell_id": "e01536f5b0e84dd79174ff0f0d18d690",
    "deepnote_cell_height": 458,
    "deepnote_cell_type": "code",
    "deepnote_output_heights": [
     361
    ],
    "deepnote_to_be_reexecuted": false,
    "execution_millis": 4,
    "execution_start": 1653424012929,
    "source_hash": "6cb3bdfe",
    "tags": []
   },
   "outputs": [
    {
     "data": {
      "text/html": [
       "\n",
       "<div id=\"altair-viz-a7963464e00646caa30ea35a8aa1c8d5\"></div>\n",
       "<script type=\"text/javascript\">\n",
       "  var VEGA_DEBUG = (typeof VEGA_DEBUG == \"undefined\") ? {} : VEGA_DEBUG;\n",
       "  (function(spec, embedOpt){\n",
       "    let outputDiv = document.currentScript.previousElementSibling;\n",
       "    if (outputDiv.id !== \"altair-viz-a7963464e00646caa30ea35a8aa1c8d5\") {\n",
       "      outputDiv = document.getElementById(\"altair-viz-a7963464e00646caa30ea35a8aa1c8d5\");\n",
       "    }\n",
       "    const paths = {\n",
       "      \"vega\": \"https://cdn.jsdelivr.net/npm//vega@5?noext\",\n",
       "      \"vega-lib\": \"https://cdn.jsdelivr.net/npm//vega-lib?noext\",\n",
       "      \"vega-lite\": \"https://cdn.jsdelivr.net/npm//vega-lite@4.17.0?noext\",\n",
       "      \"vega-embed\": \"https://cdn.jsdelivr.net/npm//vega-embed@6?noext\",\n",
       "    };\n",
       "\n",
       "    function maybeLoadScript(lib, version) {\n",
       "      var key = `${lib.replace(\"-\", \"\")}_version`;\n",
       "      return (VEGA_DEBUG[key] == version) ?\n",
       "        Promise.resolve(paths[lib]) :\n",
       "        new Promise(function(resolve, reject) {\n",
       "          var s = document.createElement('script');\n",
       "          document.getElementsByTagName(\"head\")[0].appendChild(s);\n",
       "          s.async = true;\n",
       "          s.onload = () => {\n",
       "            VEGA_DEBUG[key] = version;\n",
       "            return resolve(paths[lib]);\n",
       "          };\n",
       "          s.onerror = () => reject(`Error loading script: ${paths[lib]}`);\n",
       "          s.src = paths[lib];\n",
       "        });\n",
       "    }\n",
       "\n",
       "    function showError(err) {\n",
       "      outputDiv.innerHTML = `<div class=\"error\" style=\"color:red;\">${err}</div>`;\n",
       "      throw err;\n",
       "    }\n",
       "\n",
       "    function displayChart(vegaEmbed) {\n",
       "      vegaEmbed(outputDiv, spec, embedOpt)\n",
       "        .catch(err => showError(`Javascript Error: ${err.message}<br>This usually means there's a typo in your chart specification. See the javascript console for the full traceback.`));\n",
       "    }\n",
       "\n",
       "    if(typeof define === \"function\" && define.amd) {\n",
       "      requirejs.config({paths});\n",
       "      require([\"vega-embed\"], displayChart, err => showError(`Error loading script: ${err.message}`));\n",
       "    } else {\n",
       "      maybeLoadScript(\"vega\", \"5\")\n",
       "        .then(() => maybeLoadScript(\"vega-lite\", \"4.17.0\"))\n",
       "        .then(() => maybeLoadScript(\"vega-embed\", \"6\"))\n",
       "        .catch(showError)\n",
       "        .then(() => displayChart(vegaEmbed));\n",
       "    }\n",
       "  })({\"config\": {\"view\": {\"continuousWidth\": 400, \"continuousHeight\": 300}}, \"layer\": [{\"mark\": \"circle\", \"encoding\": {\"x\": {\"field\": \"x\", \"type\": \"quantitative\"}, \"y\": {\"field\": \"y\", \"type\": \"quantitative\"}}}, {\"mark\": {\"type\": \"line\", \"color\": \"black\"}, \"encoding\": {\"x\": {\"field\": \"x\", \"type\": \"quantitative\"}, \"y\": {\"field\": \"pred\", \"type\": \"quantitative\"}}}], \"data\": {\"name\": \"data-20a0bf1c07810f7d93b50c62430bda01\"}, \"$schema\": \"https://vega.github.io/schema/vega-lite/v4.17.0.json\", \"datasets\": {\"data-20a0bf1c07810f7d93b50c62430bda01\": [{\"x\": -3.329207948258288, \"y\": -117.48489981507691, \"pred\": -18.228041639723568}, {\"x\": 6.465018397406531, \"y\": 73.95490734658352, \"pred\": 97.21193134761903}, {\"x\": -4.478046317204917, \"y\": -13.810088667204978, \"pred\": -20.202867130615793}, {\"x\": 2.043272001247484, \"y\": 19.46118237861152, \"pred\": -12.328868936431384}, {\"x\": 4.850593279708996, \"y\": 22.37523008579901, \"pred\": 35.161222293743556}, {\"x\": -0.5785060804889142, \"y\": -25.44530061571687, \"pred\": -0.5387349798596235}, {\"x\": -6.557408679959602, \"y\": 76.67574767286865, \"pred\": 26.012963626194264}, {\"x\": -5.656363051930528, \"y\": 59.65376106978435, \"pred\": 3.4905394628543007}, {\"x\": 0.1085383400545652, \"y\": -66.10368783700659, \"pred\": -7.917305072176238}, {\"x\": 4.556122347821622, \"y\": 1.089803157452213, \"pred\": 28.09483412471593}, {\"x\": -6.299257105127305, \"y\": -7.25110091586216, \"pred\": 20.27515216333363}, {\"x\": 6.449735233464434, \"y\": 130.94052037260485, \"pred\": 97.23194114367276}, {\"x\": 3.6601115365364834, \"y\": 8.061647596412477, \"pred\": 12.6870836077028}, {\"x\": -8.982275379207888, \"y\": 2.57497436581059, \"pred\": 67.55947323462645}, {\"x\": -9.026659050812274, \"y\": 15.781692216581398, \"pred\": 69.64839122303532}, {\"x\": 5.481667038018758, \"y\": 24.44182752029455, \"pred\": 58.20343835360613}, {\"x\": -3.942981654772611, \"y\": -35.90188825321785, \"pred\": -22.38282818808156}, {\"x\": 7.135268762431544, \"y\": 27.822957658181807, \"pred\": 12.30592055250132}, {\"x\": 4.196026495565919, \"y\": 19.89278808558322, \"pred\": 21.34488736445235}, {\"x\": -9.924587728801344, \"y\": 90.76217468813144, \"pred\": 107.62542113683615}, {\"x\": -0.6900414588494286, \"y\": 61.59169896339826, \"pred\": 0.3824684495917081}, {\"x\": 4.510287644012569, \"y\": 67.75450975334007, \"pred\": 27.144571152692926}, {\"x\": -9.336060459657736, \"y\": 101.99230853473858, \"pred\": 85.7985574582501}, {\"x\": 4.441058173200844, \"y\": 75.652070315597, \"pred\": 25.769102898711495}, {\"x\": -6.563453985661962, \"y\": 3.705401701436681, \"pred\": 26.136038212735784}, {\"x\": 0.3715928458725752, \"y\": 1.1348634243102325, \"pred\": -10.834342245851571}, {\"x\": 6.520774235091615, \"y\": 106.2787015891801, \"pred\": 96.715268186827}, {\"x\": -2.9659640277290773, \"y\": 42.19409663367121, \"pred\": -13.584720171378962}, {\"x\": 3.165616256477076, \"y\": -125.40319890292574, \"pred\": 4.540373195710757}, {\"x\": 5.222245052890752, \"y\": -1.9846500432445997, \"pred\": 47.26491643405071}, {\"x\": -6.47093182334422, \"y\": -11.812893751238208, \"pred\": 24.192764487615406}, {\"x\": 6.893150314043133, \"y\": 64.8076871161785, \"pred\": 68.48023763950026}, {\"x\": -3.493022680238049, \"y\": -54.08639152234581, \"pred\": -19.897595498778934}, {\"x\": -8.747074910351651, \"y\": 183.70684761381912, \"pred\": 57.89180767555739}, {\"x\": -1.384337371858507, \"y\": -33.87053208902993, \"pred\": 2.7341637208400584}, {\"x\": 4.852229846751024, \"y\": -13.988942624499913, \"pred\": 35.20597376564051}, {\"x\": 3.727976805823406, \"y\": 161.0233188781908, \"pred\": 13.772447503178725}, {\"x\": -2.7383989368584727, \"y\": -35.23602701511189, \"pred\": -10.330991215922467}, {\"x\": -1.6026752477703532, \"y\": -41.0626241665516, \"pred\": 2.070061048407858}, {\"x\": -8.223553165877851, \"y\": 14.428412230630222, \"pred\": 44.97487206294521}, {\"x\": -0.3640013134943825, \"y\": 21.818198775552545, \"pred\": -2.607848416511507}, {\"x\": 6.656568171049994, \"y\": 23.279299839342315, \"pred\": 92.18246866453084}, {\"x\": -9.804879808964852, \"y\": 131.47624036529035, \"pred\": 106.48985861688764}, {\"x\": 1.2361742342612168, \"y\": 3.383360389096301, \"pred\": -16.370145061452515}, {\"x\": -2.76625939296056, \"y\": 129.3356782636361, \"pred\": -10.733638302479187}, {\"x\": -4.457650184804254, \"y\": -26.760376539006497, \"pred\": -20.397954070014016}, {\"x\": 4.825670488119888, \"y\": 49.77584336934803, \"pred\": 34.48806029658931}, {\"x\": -3.012486777485868, \"y\": -12.16411918567957, \"pred\": -14.230053813894958}, {\"x\": 3.7783291669200896, \"y\": -23.18155368558764, \"pred\": 14.574806795212979}, {\"x\": 6.068926586911488, \"y\": 182.7524628775764, \"pred\": 86.95585606251164}]}}, {\"mode\": \"vega-lite\"});\n",
       "</script>"
      ],
      "text/plain": [
       "alt.LayerChart(...)"
      ]
     },
     "execution_count": 9,
     "metadata": {},
     "output_type": "execute_result"
    }
   ],
   "source": [
    "c+c_pred"
   ]
  },
  {
   "cell_type": "markdown",
   "metadata": {
    "cell_id": "e1fa62101d6144f2878dd34bf4bc64c2",
    "deepnote_cell_height": 401,
    "deepnote_cell_type": "markdown",
    "tags": []
   },
   "source": [
    "## Checking coefficient size from Pipeline\n",
    "\n",
    "<iframe width=\"560\" height=\"315\" src=\"https://www.youtube.com/embed/96Jb5Zbav_A\" title=\"YouTube video player\" frameborder=\"0\" allow=\"accelerometer; autoplay; clipboard-write; encrypted-media; gyroscope; picture-in-picture\" allowfullscreen></iframe>"
   ]
  },
  {
   "cell_type": "code",
   "execution_count": 10,
   "metadata": {
    "cell_id": "917571efa9ca47fb83b0b52779efe2ec",
    "deepnote_cell_height": 137.390625,
    "deepnote_cell_type": "code",
    "deepnote_output_heights": [
     40.390625
    ],
    "deepnote_to_be_reexecuted": false,
    "execution_millis": 3,
    "execution_start": 1653424180756,
    "source_hash": "fa22b434",
    "tags": []
   },
   "outputs": [
    {
     "data": {
      "text/plain": [
       "Pipeline(steps=[('poly', PolynomialFeatures(degree=10, include_bias=False)),\n",
       "                ('reg', LinearRegression())])"
      ]
     },
     "execution_count": 10,
     "metadata": {},
     "output_type": "execute_result"
    }
   ],
   "source": [
    "pipe"
   ]
  },
  {
   "cell_type": "code",
   "execution_count": 11,
   "metadata": {
    "cell_id": "0512f4ae8a3d4c41963fd66780e24c18",
    "deepnote_cell_height": 137.390625,
    "deepnote_cell_type": "code",
    "deepnote_output_heights": [
     40.390625
    ],
    "deepnote_to_be_reexecuted": false,
    "execution_millis": 4,
    "execution_start": 1653424210457,
    "source_hash": "c4b89d3d",
    "tags": []
   },
   "outputs": [
    {
     "data": {
      "text/plain": [
       "{'poly': PolynomialFeatures(degree=10, include_bias=False),\n",
       " 'reg': LinearRegression()}"
      ]
     },
     "execution_count": 11,
     "metadata": {},
     "output_type": "execute_result"
    }
   ],
   "source": [
    "pipe.named_steps"
   ]
  },
  {
   "cell_type": "code",
   "execution_count": 12,
   "metadata": {
    "cell_id": "47363138cd7b46229760625d543d6fba",
    "deepnote_cell_height": 156.578125,
    "deepnote_cell_type": "code",
    "deepnote_output_heights": [
     59.578125
    ],
    "deepnote_to_be_reexecuted": false,
    "execution_millis": 6,
    "execution_start": 1653424238792,
    "source_hash": "1f87b22b",
    "tags": []
   },
   "outputs": [
    {
     "data": {
      "text/plain": [
       "array([-1.15482804e+01, -1.17462844e-01,  2.72397298e+00,  2.56238375e-02,\n",
       "       -1.61608397e-01, -1.88225667e-03,  4.12088929e-03,  1.52761153e-04,\n",
       "       -3.77537167e-05, -2.36222277e-06])"
      ]
     },
     "execution_count": 12,
     "metadata": {},
     "output_type": "execute_result"
    }
   ],
   "source": [
    "pipe.named_steps['reg'].coef_"
   ]
  },
  {
   "cell_type": "markdown",
   "metadata": {
    "cell_id": "4484d3c4cb644e73953b0437e21d7cd5",
    "deepnote_cell_height": 401,
    "deepnote_cell_type": "markdown",
    "tags": []
   },
   "source": [
    "## Including StandardScaler in our Pipeline\n",
    "\n",
    "<iframe width=\"560\" height=\"315\" src=\"https://www.youtube.com/embed/hJ4b6gM5oKM\" title=\"YouTube video player\" frameborder=\"0\" allow=\"accelerometer; autoplay; clipboard-write; encrypted-media; gyroscope; picture-in-picture\" allowfullscreen></iframe>"
   ]
  },
  {
   "cell_type": "code",
   "execution_count": 13,
   "metadata": {
    "cell_id": "79f920a014d34b89b7ffba89d7ef205e",
    "deepnote_cell_height": 81,
    "deepnote_cell_type": "code",
    "deepnote_to_be_reexecuted": false,
    "execution_millis": 2,
    "execution_start": 1653424391201,
    "source_hash": "866b8212",
    "tags": []
   },
   "outputs": [],
   "source": [
    "from sklearn.preprocessing import StandardScaler"
   ]
  },
  {
   "cell_type": "code",
   "execution_count": 14,
   "metadata": {
    "cell_id": "8592f58247494606802b19d44154d12e",
    "deepnote_cell_height": 189,
    "deepnote_cell_type": "code",
    "deepnote_to_be_reexecuted": false,
    "execution_millis": 4,
    "execution_start": 1653424407951,
    "source_hash": "98bd338b",
    "tags": []
   },
   "outputs": [],
   "source": [
    "pipe = Pipeline(\n",
    "    [\n",
    "        ('poly', PolynomialFeatures(degree=10, include_bias=False)),\n",
    "        ('scaler', StandardScaler()),\n",
    "        ('reg', LinearRegression())\n",
    "    ]\n",
    ")"
   ]
  },
  {
   "cell_type": "code",
   "execution_count": 15,
   "metadata": {
    "cell_id": "1eaea120d52b4a12ab2c2d3e3b8be3d2",
    "deepnote_cell_height": 137.390625,
    "deepnote_cell_type": "code",
    "deepnote_output_heights": [
     40.390625
    ],
    "deepnote_to_be_reexecuted": false,
    "execution_millis": 7,
    "execution_start": 1653424421407,
    "source_hash": "fcf8e2c1",
    "tags": []
   },
   "outputs": [
    {
     "data": {
      "text/plain": [
       "Pipeline(steps=[('poly', PolynomialFeatures(degree=10, include_bias=False)),\n",
       "                ('scaler', StandardScaler()), ('reg', LinearRegression())])"
      ]
     },
     "execution_count": 15,
     "metadata": {},
     "output_type": "execute_result"
    }
   ],
   "source": [
    "pipe.fit(df[[\"x\"]], df[\"y\"])"
   ]
  },
  {
   "cell_type": "code",
   "execution_count": 16,
   "metadata": {
    "cell_id": "72406df3491742469278ada9621c3265",
    "deepnote_cell_height": 156.578125,
    "deepnote_cell_type": "code",
    "deepnote_output_heights": [
     59.578125
    ],
    "deepnote_to_be_reexecuted": false,
    "execution_millis": 3,
    "execution_start": 1653424437964,
    "source_hash": "1f87b22b",
    "tags": []
   },
   "outputs": [
    {
     "data": {
      "text/plain": [
       "array([-6.24520911e+01, -3.12148450e+00,  8.70308705e+02,  6.26136298e+01,\n",
       "       -4.09488120e+03, -4.21029795e+02,  9.15190860e+03,  3.16215660e+03,\n",
       "       -7.65508093e+03, -4.57323098e+03])"
      ]
     },
     "execution_count": 16,
     "metadata": {},
     "output_type": "execute_result"
    }
   ],
   "source": [
    "pipe.named_steps['reg'].coef_"
   ]
  },
  {
   "cell_type": "markdown",
   "metadata": {
    "cell_id": "ad402412c2ce4f6eaef64097f85c180f",
    "deepnote_cell_height": 423.390625,
    "deepnote_cell_type": "markdown",
    "tags": []
   },
   "source": [
    "## Using regularization to reduce overfitting\n",
    "\n",
    "<iframe width=\"560\" height=\"315\" src=\"https://www.youtube.com/embed/VIiT4UCV1DM\" title=\"YouTube video player\" frameborder=\"0\" allow=\"accelerometer; autoplay; clipboard-write; encrypted-media; gyroscope; picture-in-picture\" allowfullscreen></iframe>\n",
    "\n",
    "[scikit-learn Ridge regression reference](https://scikit-learn.org/stable/modules/generated/sklearn.linear_model.Ridge.html)"
   ]
  },
  {
   "cell_type": "code",
   "execution_count": 17,
   "metadata": {
    "cell_id": "da50b58bade84a84ab77ae2a4fb0ae4c",
    "deepnote_cell_height": 81,
    "deepnote_cell_type": "code",
    "deepnote_to_be_reexecuted": false,
    "execution_millis": 8,
    "execution_start": 1653424927763,
    "source_hash": "79b79911",
    "tags": []
   },
   "outputs": [],
   "source": [
    "from sklearn.linear_model import Ridge"
   ]
  },
  {
   "cell_type": "code",
   "execution_count": 18,
   "metadata": {
    "cell_id": "d2c6dc65e6b944f3a898a961f4ab2c4b",
    "deepnote_cell_height": 189,
    "deepnote_cell_type": "code",
    "deepnote_to_be_reexecuted": false,
    "execution_millis": 5,
    "execution_start": 1653424936171,
    "source_hash": "5a69ab65",
    "tags": []
   },
   "outputs": [],
   "source": [
    "pipe = Pipeline(\n",
    "    [\n",
    "        ('poly', PolynomialFeatures(degree=10, include_bias=False)),\n",
    "        ('scaler', StandardScaler()),\n",
    "        ('reg', Ridge(alpha=0))\n",
    "    ]\n",
    ")"
   ]
  },
  {
   "cell_type": "code",
   "execution_count": 19,
   "metadata": {
    "cell_id": "a476f6101a7e42a6aec3e680376b8cb3",
    "deepnote_cell_height": 137.390625,
    "deepnote_cell_type": "code",
    "deepnote_output_heights": [
     40.390625
    ],
    "deepnote_to_be_reexecuted": false,
    "execution_millis": 9,
    "execution_start": 1653424944529,
    "source_hash": "fcf8e2c1",
    "tags": []
   },
   "outputs": [
    {
     "data": {
      "text/plain": [
       "Pipeline(steps=[('poly', PolynomialFeatures(degree=10, include_bias=False)),\n",
       "                ('scaler', StandardScaler()), ('reg', Ridge(alpha=0))])"
      ]
     },
     "execution_count": 19,
     "metadata": {},
     "output_type": "execute_result"
    }
   ],
   "source": [
    "pipe.fit(df[[\"x\"]], df[\"y\"])"
   ]
  },
  {
   "cell_type": "code",
   "execution_count": 20,
   "metadata": {
    "cell_id": "19fa007a074745cfb0b8fb766022b54c",
    "deepnote_cell_height": 81,
    "deepnote_cell_type": "code",
    "deepnote_to_be_reexecuted": false,
    "execution_millis": 2,
    "execution_start": 1653424963294,
    "source_hash": "1f4447e4",
    "tags": []
   },
   "outputs": [],
   "source": [
    "df[\"pred0\"] = pipe.predict(df[[\"x\"]])"
   ]
  },
  {
   "cell_type": "code",
   "execution_count": 21,
   "metadata": {
    "cell_id": "8630591a40ae44af8a788179c96ca8be",
    "deepnote_cell_height": 135,
    "deepnote_cell_type": "code",
    "deepnote_to_be_reexecuted": false,
    "execution_millis": 1,
    "execution_start": 1653424990734,
    "source_hash": "fe670a5c",
    "tags": []
   },
   "outputs": [],
   "source": [
    "c0 = alt.Chart(df).mark_line(color=\"black\").encode(\n",
    "    x=\"x\",\n",
    "    y=\"pred0\"\n",
    ")"
   ]
  },
  {
   "cell_type": "code",
   "execution_count": 22,
   "metadata": {
    "cell_id": "6513bddcd3fa499fb84f7c2c1e20782d",
    "deepnote_cell_height": 458,
    "deepnote_cell_type": "code",
    "deepnote_output_heights": [
     361
    ],
    "deepnote_to_be_reexecuted": false,
    "execution_millis": 5,
    "execution_start": 1653424993644,
    "source_hash": "adca3941",
    "tags": []
   },
   "outputs": [
    {
     "data": {
      "text/html": [
       "\n",
       "<div id=\"altair-viz-e3fa258348e341debaa6e80a501adc8d\"></div>\n",
       "<script type=\"text/javascript\">\n",
       "  var VEGA_DEBUG = (typeof VEGA_DEBUG == \"undefined\") ? {} : VEGA_DEBUG;\n",
       "  (function(spec, embedOpt){\n",
       "    let outputDiv = document.currentScript.previousElementSibling;\n",
       "    if (outputDiv.id !== \"altair-viz-e3fa258348e341debaa6e80a501adc8d\") {\n",
       "      outputDiv = document.getElementById(\"altair-viz-e3fa258348e341debaa6e80a501adc8d\");\n",
       "    }\n",
       "    const paths = {\n",
       "      \"vega\": \"https://cdn.jsdelivr.net/npm//vega@5?noext\",\n",
       "      \"vega-lib\": \"https://cdn.jsdelivr.net/npm//vega-lib?noext\",\n",
       "      \"vega-lite\": \"https://cdn.jsdelivr.net/npm//vega-lite@4.17.0?noext\",\n",
       "      \"vega-embed\": \"https://cdn.jsdelivr.net/npm//vega-embed@6?noext\",\n",
       "    };\n",
       "\n",
       "    function maybeLoadScript(lib, version) {\n",
       "      var key = `${lib.replace(\"-\", \"\")}_version`;\n",
       "      return (VEGA_DEBUG[key] == version) ?\n",
       "        Promise.resolve(paths[lib]) :\n",
       "        new Promise(function(resolve, reject) {\n",
       "          var s = document.createElement('script');\n",
       "          document.getElementsByTagName(\"head\")[0].appendChild(s);\n",
       "          s.async = true;\n",
       "          s.onload = () => {\n",
       "            VEGA_DEBUG[key] = version;\n",
       "            return resolve(paths[lib]);\n",
       "          };\n",
       "          s.onerror = () => reject(`Error loading script: ${paths[lib]}`);\n",
       "          s.src = paths[lib];\n",
       "        });\n",
       "    }\n",
       "\n",
       "    function showError(err) {\n",
       "      outputDiv.innerHTML = `<div class=\"error\" style=\"color:red;\">${err}</div>`;\n",
       "      throw err;\n",
       "    }\n",
       "\n",
       "    function displayChart(vegaEmbed) {\n",
       "      vegaEmbed(outputDiv, spec, embedOpt)\n",
       "        .catch(err => showError(`Javascript Error: ${err.message}<br>This usually means there's a typo in your chart specification. See the javascript console for the full traceback.`));\n",
       "    }\n",
       "\n",
       "    if(typeof define === \"function\" && define.amd) {\n",
       "      requirejs.config({paths});\n",
       "      require([\"vega-embed\"], displayChart, err => showError(`Error loading script: ${err.message}`));\n",
       "    } else {\n",
       "      maybeLoadScript(\"vega\", \"5\")\n",
       "        .then(() => maybeLoadScript(\"vega-lite\", \"4.17.0\"))\n",
       "        .then(() => maybeLoadScript(\"vega-embed\", \"6\"))\n",
       "        .catch(showError)\n",
       "        .then(() => displayChart(vegaEmbed));\n",
       "    }\n",
       "  })({\"config\": {\"view\": {\"continuousWidth\": 400, \"continuousHeight\": 300}}, \"layer\": [{\"mark\": \"circle\", \"encoding\": {\"x\": {\"field\": \"x\", \"type\": \"quantitative\"}, \"y\": {\"field\": \"y\", \"type\": \"quantitative\"}}}, {\"mark\": {\"type\": \"line\", \"color\": \"black\"}, \"encoding\": {\"x\": {\"field\": \"x\", \"type\": \"quantitative\"}, \"y\": {\"field\": \"pred0\", \"type\": \"quantitative\"}}}], \"data\": {\"name\": \"data-0bf0eac31b03ae1fc5a1322cafa0e0cd\"}, \"$schema\": \"https://vega.github.io/schema/vega-lite/v4.17.0.json\", \"datasets\": {\"data-0bf0eac31b03ae1fc5a1322cafa0e0cd\": [{\"x\": -3.329207948258288, \"y\": -117.48489981507691, \"pred\": -18.228041639723568, \"pred0\": -18.228041646345464}, {\"x\": 6.465018397406531, \"y\": 73.95490734658352, \"pred\": 97.21193134761903, \"pred0\": 97.2119313448677}, {\"x\": -4.478046317204917, \"y\": -13.810088667204978, \"pred\": -20.202867130615793, \"pred0\": -20.202867135454444}, {\"x\": 2.043272001247484, \"y\": 19.46118237861152, \"pred\": -12.328868936431384, \"pred0\": -12.32886891191858}, {\"x\": 4.850593279708996, \"y\": 22.37523008579901, \"pred\": 35.161222293743556, \"pred0\": 35.16122232413589}, {\"x\": -0.5785060804889142, \"y\": -25.44530061571687, \"pred\": -0.5387349798596235, \"pred0\": -0.538734981881607}, {\"x\": -6.557408679959602, \"y\": 76.67574767286865, \"pred\": 26.012963626194264, \"pred0\": 26.012963619266298}, {\"x\": -5.656363051930528, \"y\": 59.65376106978435, \"pred\": 3.4905394628543007, \"pred0\": 3.4905394561159078}, {\"x\": 0.1085383400545652, \"y\": -66.10368783700659, \"pred\": -7.917305072176238, \"pred0\": -7.917305066677745}, {\"x\": 4.556122347821622, \"y\": 1.089803157452213, \"pred\": 28.09483412471593, \"pred0\": 28.094834155905783}, {\"x\": -6.299257105127305, \"y\": -7.25110091586216, \"pred\": 20.27515216333363, \"pred0\": 20.275152156117525}, {\"x\": 6.449735233464434, \"y\": 130.94052037260485, \"pred\": 97.23194114367276, \"pred0\": 97.23194114142949}, {\"x\": 3.6601115365364834, \"y\": 8.061647596412477, \"pred\": 12.6870836077028, \"pred0\": 12.68708363784911}, {\"x\": -8.982275379207888, \"y\": 2.57497436581059, \"pred\": 67.55947323462645, \"pred0\": 67.55947320707445}, {\"x\": -9.026659050812274, \"y\": 15.781692216581398, \"pred\": 69.64839122303532, \"pred0\": 69.64839119352062}, {\"x\": 5.481667038018758, \"y\": 24.44182752029455, \"pred\": 58.20343835360613, \"pred0\": 58.203438377687675}, {\"x\": -3.942981654772611, \"y\": -35.90188825321785, \"pred\": -22.38282818808156, \"pred0\": -22.38282819323901}, {\"x\": 7.135268762431544, \"y\": 27.822957658181807, \"pred\": 12.30592055250132, \"pred0\": 12.305920536802073}, {\"x\": 4.196026495565919, \"y\": 19.89278808558322, \"pred\": 21.34488736445235, \"pred0\": 21.344887395601955}, {\"x\": -9.924587728801344, \"y\": 90.76217468813144, \"pred\": 107.62542113683615, \"pred0\": 107.62542105223518}, {\"x\": -0.6900414588494286, \"y\": 61.59169896339826, \"pred\": 0.3824684495917081, \"pred0\": 0.3824684465287014}, {\"x\": 4.510287644012569, \"y\": 67.75450975334007, \"pred\": 27.144571152692926, \"pred0\": 27.14457118392782}, {\"x\": -9.336060459657736, \"y\": 101.99230853473858, \"pred\": 85.7985574582501, \"pred0\": 85.7985574125182}, {\"x\": 4.441058173200844, \"y\": 75.652070315597, \"pred\": 25.769102898711495, \"pred0\": 25.76910292998239}, {\"x\": -6.563453985661962, \"y\": 3.705401701436681, \"pred\": 26.136038212735784, \"pred0\": 26.136038205818164}, {\"x\": 0.3715928458725752, \"y\": 1.1348634243102325, \"pred\": -10.834342245851571, \"pred0\": -10.834342237215669}, {\"x\": 6.520774235091615, \"y\": 106.2787015891801, \"pred\": 96.715268186827, \"pred0\": 96.71526818223548}, {\"x\": -2.9659640277290773, \"y\": 42.19409663367121, \"pred\": -13.584720171378962, \"pred0\": -13.5847201791121}, {\"x\": 3.165616256477076, \"y\": -125.40319890292574, \"pred\": 4.540373195710757, \"pred0\": 4.540373224616797}, {\"x\": 5.222245052890752, \"y\": -1.9846500432445997, \"pred\": 47.26491643405071, \"pred0\": 47.26491646167095}, {\"x\": -6.47093182334422, \"y\": -11.812893751238208, \"pred\": 24.192764487615406, \"pred0\": 24.19276448055778}, {\"x\": 6.893150314043133, \"y\": 64.8076871161785, \"pred\": 68.48023763950026, \"pred0\": 68.48023762496858}, {\"x\": -3.493022680238049, \"y\": -54.08639152234581, \"pred\": -19.897595498778934, \"pred0\": -19.897595504930468}, {\"x\": -8.747074910351651, \"y\": 183.70684761381912, \"pred\": 57.89180767555739, \"pred0\": 57.891807656863406}, {\"x\": -1.384337371858507, \"y\": -33.87053208902993, \"pred\": 2.7341637208400584, \"pred0\": 2.734163713003891}, {\"x\": 4.852229846751024, \"y\": -13.988942624499913, \"pred\": 35.20597376564051, \"pred0\": 35.20597379602599}, {\"x\": 3.727976805823406, \"y\": 161.0233188781908, \"pred\": 13.772447503178725, \"pred0\": 13.772447533479617}, {\"x\": -2.7383989368584727, \"y\": -35.23602701511189, \"pred\": -10.330991215922467, \"pred0\": -10.330991224304643}, {\"x\": -1.6026752477703532, \"y\": -41.0626241665516, \"pred\": 2.070061048407858, \"pred0\": 2.0700610397452515}, {\"x\": -8.223553165877851, \"y\": 14.428412230630222, \"pred\": 44.97487206294521, \"pred0\": 44.97487205549963}, {\"x\": -0.3640013134943825, \"y\": 21.818198775552545, \"pred\": -2.607848416511507, \"pred0\": -2.6078484163624758}, {\"x\": 6.656568171049994, \"y\": 23.279299839342315, \"pred\": 92.18246866453084, \"pred0\": 92.18246865569084}, {\"x\": -9.804879808964852, \"y\": 131.47624036529035, \"pred\": 106.48985861688764, \"pred0\": 106.48985854035753}, {\"x\": 1.2361742342612168, \"y\": 3.383360389096301, \"pred\": -16.370145061452515, \"pred0\": -16.370145043214297}, {\"x\": -2.76625939296056, \"y\": 129.3356782636361, \"pred\": -10.733638302479187, \"pred0\": -10.733638310786564}, {\"x\": -4.457650184804254, \"y\": -26.760376539006497, \"pred\": -20.397954070014016, \"pred0\": -20.39795407484532}, {\"x\": 4.825670488119888, \"y\": 49.77584336934803, \"pred\": 34.48806029658931, \"pred0\": 34.48806032708943}, {\"x\": -3.012486777485868, \"y\": -12.16411918567957, \"pred\": -14.230053813894958, \"pred0\": -14.230053821487463}, {\"x\": 3.7783291669200896, \"y\": -23.18155368558764, \"pred\": 14.574806795212979, \"pred0\": 14.574806825626393}, {\"x\": 6.068926586911488, \"y\": 182.7524628775764, \"pred\": 86.95585606251164, \"pred0\": 86.95585607269025}]}}, {\"mode\": \"vega-lite\"});\n",
       "</script>"
      ],
      "text/plain": [
       "alt.LayerChart(...)"
      ]
     },
     "execution_count": 22,
     "metadata": {},
     "output_type": "execute_result"
    }
   ],
   "source": [
    "c+c0"
   ]
  },
  {
   "cell_type": "code",
   "execution_count": 23,
   "metadata": {
    "cell_id": "1b2b5ee3259f41e68a90df655c5eed2c",
    "deepnote_cell_height": 189,
    "deepnote_cell_type": "code",
    "deepnote_to_be_reexecuted": false,
    "execution_millis": 3,
    "execution_start": 1653425035844,
    "source_hash": "49dd36e5",
    "tags": []
   },
   "outputs": [],
   "source": [
    "pipe = Pipeline(\n",
    "    [\n",
    "        ('poly', PolynomialFeatures(degree=10, include_bias=False)),\n",
    "        ('scaler', StandardScaler()),\n",
    "        ('reg', Ridge(alpha=10))\n",
    "    ]\n",
    ")"
   ]
  },
  {
   "cell_type": "code",
   "execution_count": 24,
   "metadata": {
    "cell_id": "5d932364d83544f9b06f47b224c8874c",
    "deepnote_cell_height": 137.390625,
    "deepnote_cell_type": "code",
    "deepnote_output_heights": [
     40.390625
    ],
    "deepnote_to_be_reexecuted": false,
    "execution_millis": 5,
    "execution_start": 1653425044568,
    "source_hash": "fcf8e2c1",
    "tags": []
   },
   "outputs": [
    {
     "data": {
      "text/plain": [
       "Pipeline(steps=[('poly', PolynomialFeatures(degree=10, include_bias=False)),\n",
       "                ('scaler', StandardScaler()), ('reg', Ridge(alpha=10))])"
      ]
     },
     "execution_count": 24,
     "metadata": {},
     "output_type": "execute_result"
    }
   ],
   "source": [
    "pipe.fit(df[[\"x\"]], df[\"y\"])"
   ]
  },
  {
   "cell_type": "code",
   "execution_count": 25,
   "metadata": {
    "cell_id": "7ac71ca48cbd41f3b773f73c432760cb",
    "deepnote_cell_height": 81,
    "deepnote_cell_type": "code",
    "deepnote_to_be_reexecuted": false,
    "execution_millis": 2,
    "execution_start": 1653425056314,
    "source_hash": "8836f0c",
    "tags": []
   },
   "outputs": [],
   "source": [
    "df[\"pred10\"] = pipe.predict(df[[\"x\"]])"
   ]
  },
  {
   "cell_type": "code",
   "execution_count": 26,
   "metadata": {
    "cell_id": "3ae69a42540542f9985a92c2ac2499d4",
    "deepnote_cell_height": 135,
    "deepnote_cell_type": "code",
    "deepnote_to_be_reexecuted": false,
    "execution_millis": 3,
    "execution_start": 1653425070875,
    "source_hash": "3a7bcf01",
    "tags": []
   },
   "outputs": [],
   "source": [
    "c10 = alt.Chart(df).mark_line(color=\"black\").encode(\n",
    "    x=\"x\",\n",
    "    y=\"pred10\"\n",
    ")"
   ]
  },
  {
   "cell_type": "code",
   "execution_count": 27,
   "metadata": {
    "cell_id": "8758235d838d449f9976a07a0535533c",
    "deepnote_cell_height": 458,
    "deepnote_cell_type": "code",
    "deepnote_output_heights": [
     361
    ],
    "deepnote_to_be_reexecuted": false,
    "execution_millis": 581,
    "execution_start": 1653425075713,
    "source_hash": "227c5628",
    "tags": []
   },
   "outputs": [
    {
     "data": {
      "text/html": [
       "\n",
       "<div id=\"altair-viz-db9da27bb2464bcba245a4b7574ec014\"></div>\n",
       "<script type=\"text/javascript\">\n",
       "  var VEGA_DEBUG = (typeof VEGA_DEBUG == \"undefined\") ? {} : VEGA_DEBUG;\n",
       "  (function(spec, embedOpt){\n",
       "    let outputDiv = document.currentScript.previousElementSibling;\n",
       "    if (outputDiv.id !== \"altair-viz-db9da27bb2464bcba245a4b7574ec014\") {\n",
       "      outputDiv = document.getElementById(\"altair-viz-db9da27bb2464bcba245a4b7574ec014\");\n",
       "    }\n",
       "    const paths = {\n",
       "      \"vega\": \"https://cdn.jsdelivr.net/npm//vega@5?noext\",\n",
       "      \"vega-lib\": \"https://cdn.jsdelivr.net/npm//vega-lib?noext\",\n",
       "      \"vega-lite\": \"https://cdn.jsdelivr.net/npm//vega-lite@4.17.0?noext\",\n",
       "      \"vega-embed\": \"https://cdn.jsdelivr.net/npm//vega-embed@6?noext\",\n",
       "    };\n",
       "\n",
       "    function maybeLoadScript(lib, version) {\n",
       "      var key = `${lib.replace(\"-\", \"\")}_version`;\n",
       "      return (VEGA_DEBUG[key] == version) ?\n",
       "        Promise.resolve(paths[lib]) :\n",
       "        new Promise(function(resolve, reject) {\n",
       "          var s = document.createElement('script');\n",
       "          document.getElementsByTagName(\"head\")[0].appendChild(s);\n",
       "          s.async = true;\n",
       "          s.onload = () => {\n",
       "            VEGA_DEBUG[key] = version;\n",
       "            return resolve(paths[lib]);\n",
       "          };\n",
       "          s.onerror = () => reject(`Error loading script: ${paths[lib]}`);\n",
       "          s.src = paths[lib];\n",
       "        });\n",
       "    }\n",
       "\n",
       "    function showError(err) {\n",
       "      outputDiv.innerHTML = `<div class=\"error\" style=\"color:red;\">${err}</div>`;\n",
       "      throw err;\n",
       "    }\n",
       "\n",
       "    function displayChart(vegaEmbed) {\n",
       "      vegaEmbed(outputDiv, spec, embedOpt)\n",
       "        .catch(err => showError(`Javascript Error: ${err.message}<br>This usually means there's a typo in your chart specification. See the javascript console for the full traceback.`));\n",
       "    }\n",
       "\n",
       "    if(typeof define === \"function\" && define.amd) {\n",
       "      requirejs.config({paths});\n",
       "      require([\"vega-embed\"], displayChart, err => showError(`Error loading script: ${err.message}`));\n",
       "    } else {\n",
       "      maybeLoadScript(\"vega\", \"5\")\n",
       "        .then(() => maybeLoadScript(\"vega-lite\", \"4.17.0\"))\n",
       "        .then(() => maybeLoadScript(\"vega-embed\", \"6\"))\n",
       "        .catch(showError)\n",
       "        .then(() => displayChart(vegaEmbed));\n",
       "    }\n",
       "  })({\"config\": {\"view\": {\"continuousWidth\": 400, \"continuousHeight\": 300}}, \"layer\": [{\"mark\": \"circle\", \"encoding\": {\"x\": {\"field\": \"x\", \"type\": \"quantitative\"}, \"y\": {\"field\": \"y\", \"type\": \"quantitative\"}}}, {\"mark\": {\"type\": \"line\", \"color\": \"black\"}, \"encoding\": {\"x\": {\"field\": \"x\", \"type\": \"quantitative\"}, \"y\": {\"field\": \"pred10\", \"type\": \"quantitative\"}}}], \"data\": {\"name\": \"data-9d447f94b274486bc2962153f5c956fd\"}, \"$schema\": \"https://vega.github.io/schema/vega-lite/v4.17.0.json\", \"datasets\": {\"data-9d447f94b274486bc2962153f5c956fd\": [{\"x\": -3.329207948258288, \"y\": -117.48489981507691, \"pred\": -18.228041639723568, \"pred0\": -18.228041646345464, \"pred10\": -3.5095104946655944}, {\"x\": 6.465018397406531, \"y\": 73.95490734658352, \"pred\": 97.21193134761903, \"pred0\": 97.2119313448677, \"pred10\": 59.233792775048}, {\"x\": -4.478046317204917, \"y\": -13.810088667204978, \"pred\": -20.202867130615793, \"pred0\": -20.202867135454444, \"pred10\": -0.04894415365590987}, {\"x\": 2.043272001247484, \"y\": 19.46118237861152, \"pred\": -12.328868936431384, \"pred0\": -12.32886891191858, \"pred10\": 6.7838539249951}, {\"x\": 4.850593279708996, \"y\": 22.37523008579901, \"pred\": 35.161222293743556, \"pred0\": 35.16122232413589, \"pred10\": 32.538207741629954}, {\"x\": -0.5785060804889142, \"y\": -25.44530061571687, \"pred\": -0.5387349798596235, \"pred0\": -0.538734981881607, \"pred10\": -3.332459609687934}, {\"x\": -6.557408679959602, \"y\": 76.67574767286865, \"pred\": 26.012963626194264, \"pred0\": 26.012963619266298, \"pred10\": 15.002111071882462}, {\"x\": -5.656363051930528, \"y\": 59.65376106978435, \"pred\": 3.4905394628543007, \"pred0\": 3.4905394561159078, \"pred10\": 6.664541561632667}, {\"x\": 0.1085383400545652, \"y\": -66.10368783700659, \"pred\": -7.917305072176238, \"pred0\": -7.917305066677745, \"pred10\": -1.6686904889567984}, {\"x\": 4.556122347821622, \"y\": 1.089803157452213, \"pred\": 28.09483412471593, \"pred0\": 28.094834155905783, \"pred10\": 28.813957538543946}, {\"x\": -6.299257105127305, \"y\": -7.25110091586216, \"pred\": 20.27515216333363, \"pred0\": 20.275152156117525, \"pred10\": 12.250390322531311}, {\"x\": 6.449735233464434, \"y\": 130.94052037260485, \"pred\": 97.23194114367276, \"pred0\": 97.23194114142949, \"pred10\": 58.92111064643326}, {\"x\": 3.6601115365364834, \"y\": 8.061647596412477, \"pred\": 12.6870836077028, \"pred0\": 12.68708363784911, \"pred10\": 19.149356570054792}, {\"x\": -8.982275379207888, \"y\": 2.57497436581059, \"pred\": 67.55947323462645, \"pred0\": 67.55947320707445, \"pred10\": 66.62152083623036}, {\"x\": -9.026659050812274, \"y\": 15.781692216581398, \"pred\": 69.64839122303532, \"pred0\": 69.64839119352062, \"pred10\": 68.26127739396082}, {\"x\": 5.481667038018758, \"y\": 24.44182752029455, \"pred\": 58.20343835360613, \"pred0\": 58.203438377687675, \"pred10\": 41.59481723639587}, {\"x\": -3.942981654772611, \"y\": -35.90188825321785, \"pred\": -22.38282818808156, \"pred0\": -22.38282819323901, \"pred10\": -1.9763246602570845}, {\"x\": 7.135268762431544, \"y\": 27.822957658181807, \"pred\": 12.30592055250132, \"pred0\": 12.305920536802073, \"pred10\": 74.37243794136523}, {\"x\": 4.196026495565919, \"y\": 19.89278808558322, \"pred\": 21.34488736445235, \"pred0\": 21.344887395601955, \"pred10\": 24.645224186873968}, {\"x\": -9.924587728801344, \"y\": 90.76217468813144, \"pred\": 107.62542113683615, \"pred0\": 107.62542105223518, \"pred10\": 110.94474373580718}, {\"x\": -0.6900414588494286, \"y\": 61.59169896339826, \"pred\": 0.3824684495917081, \"pred0\": 0.3824684465287014, \"pred10\": -3.54179416411743}, {\"x\": 4.510287644012569, \"y\": 67.75450975334007, \"pred\": 27.144571152692926, \"pred0\": 27.14457118392782, \"pred10\": 28.260497422102716}, {\"x\": -9.336060459657736, \"y\": 101.99230853473858, \"pred\": 85.7985574582501, \"pred0\": 85.7985574125182, \"pred10\": 80.78974653643388}, {\"x\": 4.441058173200844, \"y\": 75.652070315597, \"pred\": 25.769102898711495, \"pred0\": 25.76910292998239, \"pred10\": 27.437449097270147}, {\"x\": -6.563453985661962, \"y\": 3.705401701436681, \"pred\": 26.136038212735784, \"pred0\": 26.136038205818164, \"pred10\": 15.070553632682822}, {\"x\": 0.3715928458725752, \"y\": 1.1348634243102325, \"pred\": -10.834342245851571, \"pred0\": -10.834342237215669, \"pred10\": -0.8571846579527183}, {\"x\": 6.520774235091615, \"y\": 106.2787015891801, \"pred\": 96.715268186827, \"pred0\": 96.71526818223548, \"pred10\": 60.38599376600627}, {\"x\": -2.9659640277290773, \"y\": 42.19409663367121, \"pred\": -13.584720171378962, \"pred0\": -13.5847201791121, \"pred10\": -4.114667164553204}, {\"x\": 3.165616256477076, \"y\": -125.40319890292574, \"pred\": 4.540373195710757, \"pred0\": 4.540373224616797, \"pred10\": 14.747967776032475}, {\"x\": 5.222245052890752, \"y\": -1.9846500432445997, \"pred\": 47.26491643405071, \"pred0\": 47.26491646167095, \"pred10\": 37.68304315841366}, {\"x\": -6.47093182334422, \"y\": -11.812893751238208, \"pred\": 24.192764487615406, \"pred0\": 24.19276448055778, \"pred10\": 14.043655601211386}, {\"x\": 6.893150314043133, \"y\": 64.8076871161785, \"pred\": 68.48023763950026, \"pred0\": 68.48023762496858, \"pred10\": 68.56618750417883}, {\"x\": -3.493022680238049, \"y\": -54.08639152234581, \"pred\": -19.897595498778934, \"pred0\": -19.897595504930468, \"pred10\": -3.1654497042601726}, {\"x\": -8.747074910351651, \"y\": 183.70684761381912, \"pred\": 57.89180767555739, \"pred0\": 57.891807656863406, \"pred10\": 58.52383871273187}, {\"x\": -1.384337371858507, \"y\": -33.87053208902993, \"pred\": 2.7341637208400584, \"pred0\": 2.734163713003891, \"pred10\": -4.469607977828783}, {\"x\": 4.852229846751024, \"y\": -13.988942624499913, \"pred\": 35.20597376564051, \"pred0\": 35.20597379602599, \"pred10\": 32.5597461752388}, {\"x\": 3.727976805823406, \"y\": 161.0233188781908, \"pred\": 13.772447503178725, \"pred0\": 13.772447533479617, \"pred10\": 19.80166389398654}, {\"x\": -2.7383989368584727, \"y\": -35.23602701511189, \"pred\": -10.330991215922467, \"pred0\": -10.330991224304643, \"pred10\": -4.388023345304063}, {\"x\": -1.6026752477703532, \"y\": -41.0626241665516, \"pred\": 2.070061048407858, \"pred0\": 2.0700610397452515, \"pred10\": -4.627785946277047}, {\"x\": -8.223553165877851, \"y\": 14.428412230630222, \"pred\": 44.97487206294521, \"pred0\": 44.97487205549963, \"pred10\": 43.59705568628525}, {\"x\": -0.3640013134943825, \"y\": 21.818198775552545, \"pred\": -2.607848416511507, \"pred0\": -2.6078484163624758, \"pred10\": -2.8825520926096466}, {\"x\": 6.656568171049994, \"y\": 23.279299839342315, \"pred\": 92.18246866453084, \"pred0\": 92.18246865569084, \"pred10\": 63.26927655732906}, {\"x\": -9.804879808964852, \"y\": 131.47624036529035, \"pred\": 106.48985861688764, \"pred0\": 106.48985854035753, \"pred10\": 104.03901798570215}, {\"x\": 1.2361742342612168, \"y\": 3.383360389096301, \"pred\": -16.370145061452515, \"pred0\": -16.370145043214297, \"pred10\": 2.5314932142136755}, {\"x\": -2.76625939296056, \"y\": 129.3356782636361, \"pred\": -10.733638302479187, \"pred0\": -10.733638310786564, \"pred10\": -4.358797662968975}, {\"x\": -4.457650184804254, \"y\": -26.760376539006497, \"pred\": -20.397954070014016, \"pred0\": -20.39795407484532, \"pred10\": -0.1335878531029877}, {\"x\": 4.825670488119888, \"y\": 49.77584336934803, \"pred\": 34.48806029658931, \"pred0\": 34.48806032708943, \"pred10\": 32.21138163778245}, {\"x\": -3.012486777485868, \"y\": -12.16411918567957, \"pred\": -14.230053813894958, \"pred0\": -14.230053821487463, \"pred10\": -4.048935544359043}, {\"x\": 3.7783291669200896, \"y\": -23.18155368558764, \"pred\": 14.574806795212979, \"pred0\": 14.574806825626393, \"pred10\": 20.29354145058116}, {\"x\": 6.068926586911488, \"y\": 182.7524628775764, \"pred\": 86.95585606251164, \"pred0\": 86.95585607269025, \"pred10\": 51.546801448714696}]}}, {\"mode\": \"vega-lite\"});\n",
       "</script>"
      ],
      "text/plain": [
       "alt.LayerChart(...)"
      ]
     },
     "execution_count": 27,
     "metadata": {},
     "output_type": "execute_result"
    }
   ],
   "source": [
    "c+c10"
   ]
  },
  {
   "cell_type": "code",
   "execution_count": 28,
   "metadata": {
    "cell_id": "d3039152e53044e9beb5ee82bc7e316e",
    "deepnote_cell_height": 137.390625,
    "deepnote_cell_type": "code",
    "deepnote_output_heights": [
     40.390625
    ],
    "deepnote_to_be_reexecuted": false,
    "execution_millis": 3,
    "execution_start": 1653425106218,
    "source_hash": "da1bbb35",
    "tags": []
   },
   "outputs": [
    {
     "data": {
      "text/plain": [
       "array([14.84789507, 18.57306252,  5.84197442, 10.14676263,  0.66979349,\n",
       "        5.00139616, -1.06236972,  2.59525635, -1.40458682,  1.52149585])"
      ]
     },
     "execution_count": 28,
     "metadata": {},
     "output_type": "execute_result"
    }
   ],
   "source": [
    "pipe.named_steps[\"reg\"].coef_"
   ]
  },
  {
   "cell_type": "code",
   "execution_count": 29,
   "metadata": {
    "cell_id": "59539b5127724a51bf9943cf207a0c2e",
    "deepnote_cell_height": 189,
    "deepnote_cell_type": "code",
    "deepnote_to_be_reexecuted": false,
    "execution_millis": 0,
    "execution_start": 1653425135188,
    "source_hash": "bde29e1d",
    "tags": []
   },
   "outputs": [],
   "source": [
    "pipe = Pipeline(\n",
    "    [\n",
    "        ('poly', PolynomialFeatures(degree=10, include_bias=False)),\n",
    "        ('scaler', StandardScaler()),\n",
    "        ('reg', Ridge(alpha=10**4))\n",
    "    ]\n",
    ")"
   ]
  },
  {
   "cell_type": "code",
   "execution_count": 30,
   "metadata": {
    "cell_id": "53c9fcbb0ec347d8a79b57172886525b",
    "deepnote_cell_height": 137.390625,
    "deepnote_cell_type": "code",
    "deepnote_output_heights": [
     40.390625
    ],
    "deepnote_to_be_reexecuted": false,
    "execution_millis": 11,
    "execution_start": 1653425143561,
    "source_hash": "fcf8e2c1",
    "tags": []
   },
   "outputs": [
    {
     "data": {
      "text/plain": [
       "Pipeline(steps=[('poly', PolynomialFeatures(degree=10, include_bias=False)),\n",
       "                ('scaler', StandardScaler()), ('reg', Ridge(alpha=10000))])"
      ]
     },
     "execution_count": 30,
     "metadata": {},
     "output_type": "execute_result"
    }
   ],
   "source": [
    "pipe.fit(df[[\"x\"]], df[\"y\"])"
   ]
  },
  {
   "cell_type": "code",
   "execution_count": 31,
   "metadata": {
    "cell_id": "1a88e83be6e2427a9bbf9c113eab7ff9",
    "deepnote_cell_height": 81,
    "deepnote_cell_type": "code",
    "deepnote_to_be_reexecuted": false,
    "execution_millis": 3,
    "execution_start": 1653425155604,
    "source_hash": "662a973a",
    "tags": []
   },
   "outputs": [],
   "source": [
    "df[\"pred10000\"] = pipe.predict(df[[\"x\"]])"
   ]
  },
  {
   "cell_type": "code",
   "execution_count": 32,
   "metadata": {
    "cell_id": "c3eb597c461f42ab856424b69aad3dea",
    "deepnote_cell_height": 135,
    "deepnote_cell_type": "code",
    "deepnote_to_be_reexecuted": false,
    "execution_millis": 0,
    "execution_start": 1653425174318,
    "source_hash": "8c4b8cf",
    "tags": []
   },
   "outputs": [],
   "source": [
    "c10000 = alt.Chart(df).mark_line(color=\"black\").encode(\n",
    "    x=\"x\",\n",
    "    y=\"pred10000\"\n",
    ")"
   ]
  },
  {
   "cell_type": "code",
   "execution_count": 33,
   "metadata": {
    "cell_id": "c9534f85f4d74d9ab941c31bf971c3db",
    "deepnote_cell_height": 458,
    "deepnote_cell_type": "code",
    "deepnote_output_heights": [
     361
    ],
    "deepnote_to_be_reexecuted": false,
    "execution_millis": 6,
    "execution_start": 1653425181482,
    "owner_user_id": "02be19f8-8497-4212-b8d0-46ca9f1d48b9",
    "source_hash": "6e256e0f",
    "tags": []
   },
   "outputs": [
    {
     "data": {
      "text/html": [
       "\n",
       "<div id=\"altair-viz-8065a2675d6743a0bf06c7c666e29295\"></div>\n",
       "<script type=\"text/javascript\">\n",
       "  var VEGA_DEBUG = (typeof VEGA_DEBUG == \"undefined\") ? {} : VEGA_DEBUG;\n",
       "  (function(spec, embedOpt){\n",
       "    let outputDiv = document.currentScript.previousElementSibling;\n",
       "    if (outputDiv.id !== \"altair-viz-8065a2675d6743a0bf06c7c666e29295\") {\n",
       "      outputDiv = document.getElementById(\"altair-viz-8065a2675d6743a0bf06c7c666e29295\");\n",
       "    }\n",
       "    const paths = {\n",
       "      \"vega\": \"https://cdn.jsdelivr.net/npm//vega@5?noext\",\n",
       "      \"vega-lib\": \"https://cdn.jsdelivr.net/npm//vega-lib?noext\",\n",
       "      \"vega-lite\": \"https://cdn.jsdelivr.net/npm//vega-lite@4.17.0?noext\",\n",
       "      \"vega-embed\": \"https://cdn.jsdelivr.net/npm//vega-embed@6?noext\",\n",
       "    };\n",
       "\n",
       "    function maybeLoadScript(lib, version) {\n",
       "      var key = `${lib.replace(\"-\", \"\")}_version`;\n",
       "      return (VEGA_DEBUG[key] == version) ?\n",
       "        Promise.resolve(paths[lib]) :\n",
       "        new Promise(function(resolve, reject) {\n",
       "          var s = document.createElement('script');\n",
       "          document.getElementsByTagName(\"head\")[0].appendChild(s);\n",
       "          s.async = true;\n",
       "          s.onload = () => {\n",
       "            VEGA_DEBUG[key] = version;\n",
       "            return resolve(paths[lib]);\n",
       "          };\n",
       "          s.onerror = () => reject(`Error loading script: ${paths[lib]}`);\n",
       "          s.src = paths[lib];\n",
       "        });\n",
       "    }\n",
       "\n",
       "    function showError(err) {\n",
       "      outputDiv.innerHTML = `<div class=\"error\" style=\"color:red;\">${err}</div>`;\n",
       "      throw err;\n",
       "    }\n",
       "\n",
       "    function displayChart(vegaEmbed) {\n",
       "      vegaEmbed(outputDiv, spec, embedOpt)\n",
       "        .catch(err => showError(`Javascript Error: ${err.message}<br>This usually means there's a typo in your chart specification. See the javascript console for the full traceback.`));\n",
       "    }\n",
       "\n",
       "    if(typeof define === \"function\" && define.amd) {\n",
       "      requirejs.config({paths});\n",
       "      require([\"vega-embed\"], displayChart, err => showError(`Error loading script: ${err.message}`));\n",
       "    } else {\n",
       "      maybeLoadScript(\"vega\", \"5\")\n",
       "        .then(() => maybeLoadScript(\"vega-lite\", \"4.17.0\"))\n",
       "        .then(() => maybeLoadScript(\"vega-embed\", \"6\"))\n",
       "        .catch(showError)\n",
       "        .then(() => displayChart(vegaEmbed));\n",
       "    }\n",
       "  })({\"config\": {\"view\": {\"continuousWidth\": 400, \"continuousHeight\": 300}}, \"layer\": [{\"mark\": \"circle\", \"encoding\": {\"x\": {\"field\": \"x\", \"type\": \"quantitative\"}, \"y\": {\"field\": \"y\", \"type\": \"quantitative\"}}}, {\"mark\": {\"type\": \"line\", \"color\": \"black\"}, \"encoding\": {\"x\": {\"field\": \"x\", \"type\": \"quantitative\"}, \"y\": {\"field\": \"pred10000\", \"type\": \"quantitative\"}}}], \"data\": {\"name\": \"data-59f9e4a61a51cde9e12ca8bcedd100e9\"}, \"$schema\": \"https://vega.github.io/schema/vega-lite/v4.17.0.json\", \"datasets\": {\"data-59f9e4a61a51cde9e12ca8bcedd100e9\": [{\"x\": -3.329207948258288, \"y\": -117.48489981507691, \"pred\": -18.228041639723568, \"pred0\": -18.228041646345464, \"pred10\": -3.5095104946655944, \"pred10000\": 26.653589703846166}, {\"x\": 6.465018397406531, \"y\": 73.95490734658352, \"pred\": 97.21193134761903, \"pred0\": 97.2119313448677, \"pred10\": 59.233792775048, \"pred10000\": 26.892937223562456}, {\"x\": -4.478046317204917, \"y\": -13.810088667204978, \"pred\": -20.202867130615793, \"pred0\": -20.202867135454444, \"pred10\": -0.04894415365590987, \"pred10000\": 26.733669441167635}, {\"x\": 2.043272001247484, \"y\": 19.46118237861152, \"pred\": -12.328868936431384, \"pred0\": -12.32886891191858, \"pred10\": 6.7838539249951, \"pred10000\": 26.616669310202504}, {\"x\": 4.850593279708996, \"y\": 22.37523008579901, \"pred\": 35.161222293743556, \"pred0\": 35.16122232413589, \"pred10\": 32.538207741629954, \"pred10000\": 26.744361243332396}, {\"x\": -0.5785060804889142, \"y\": -25.44530061571687, \"pred\": -0.5387349798596235, \"pred0\": -0.538734981881607, \"pred10\": -3.332459609687934, \"pred10000\": 26.587526360894124}, {\"x\": -6.557408679959602, \"y\": 76.67574767286865, \"pred\": 26.012963626194264, \"pred0\": 26.012963619266298, \"pred10\": 15.002111071882462, \"pred10000\": 27.08899220854684}, {\"x\": -5.656363051930528, \"y\": 59.65376106978435, \"pred\": 3.4905394628543007, \"pred0\": 3.4905394561159078, \"pred10\": 6.664541561632667, \"pred10000\": 26.884770400095373}, {\"x\": 0.1085383400545652, \"y\": -66.10368783700659, \"pred\": -7.917305072176238, \"pred0\": -7.917305066677745, \"pred10\": -1.6686904889567984, \"pred10000\": 26.58779243833523}, {\"x\": 4.556122347821622, \"y\": 1.089803157452213, \"pred\": 28.09483412471593, \"pred0\": 28.094834155905783, \"pred10\": 28.813957538543946, \"pred10000\": 26.724722261213618}, {\"x\": -6.299257105127305, \"y\": -7.25110091586216, \"pred\": 20.27515216333363, \"pred0\": 20.275152156117525, \"pred10\": 12.250390322531311, \"pred10000\": 27.019265737896013}, {\"x\": 6.449735233464434, \"y\": 130.94052037260485, \"pred\": 97.23194114367276, \"pred0\": 97.23194114142949, \"pred10\": 58.92111064643326, \"pred10000\": 26.89111125533168}, {\"x\": 3.6601115365364834, \"y\": 8.061647596412477, \"pred\": 12.6870836077028, \"pred0\": 12.68708363784911, \"pred10\": 19.149356570054792, \"pred10000\": 26.675167418647792}, {\"x\": -8.982275379207888, \"y\": 2.57497436581059, \"pred\": 67.55947323462645, \"pred0\": 67.55947320707445, \"pred10\": 66.62152083623036, \"pred10000\": 28.7328668857148}, {\"x\": -9.026659050812274, \"y\": 15.781692216581398, \"pred\": 69.64839122303532, \"pred0\": 69.64839119352062, \"pred10\": 68.26127739396082, \"pred10000\": 28.792819996052117}, {\"x\": 5.481667038018758, \"y\": 24.44182752029455, \"pred\": 58.20343835360613, \"pred0\": 58.203438377687675, \"pred10\": 41.59481723639587, \"pred10000\": 26.793211095883724}, {\"x\": -3.942981654772611, \"y\": -35.90188825321785, \"pred\": -22.38282818808156, \"pred0\": -22.38282819323901, \"pred10\": -1.9763246602570845, \"pred10000\": 26.69047003664682}, {\"x\": 7.135268762431544, \"y\": 27.822957658181807, \"pred\": 12.30592055250132, \"pred0\": 12.305920536802073, \"pred10\": 74.37243794136523, \"pred10000\": 26.98428254036277}, {\"x\": 4.196026495565919, \"y\": 19.89278808558322, \"pred\": 21.34488736445235, \"pred0\": 21.344887395601955, \"pred10\": 24.645224186873968, \"pred10000\": 26.703075799540724}, {\"x\": -9.924587728801344, \"y\": 90.76217468813144, \"pred\": 107.62542113683615, \"pred0\": 107.62542105223518, \"pred10\": 110.94474373580718, \"pred10000\": 30.45775462686634}, {\"x\": -0.6900414588494286, \"y\": 61.59169896339826, \"pred\": 0.3824684495917081, \"pred0\": 0.3824684465287014, \"pred10\": -3.54179416411743, \"pred10000\": 26.58800264444948}, {\"x\": 4.510287644012569, \"y\": 67.75450975334007, \"pred\": 27.144571152692926, \"pred0\": 27.14457118392782, \"pred10\": 28.260497422102716, \"pred10000\": 26.72182721639885}, {\"x\": -9.336060459657736, \"y\": 101.99230853473858, \"pred\": 85.7985574582501, \"pred0\": 85.7985574125182, \"pred10\": 80.78974653643388, \"pred10000\": 29.261938914991617}, {\"x\": 4.441058173200844, \"y\": 75.652070315597, \"pred\": 25.769102898711495, \"pred0\": 25.76910292998239, \"pred10\": 27.437449097270147, \"pred10000\": 26.717533672002926}, {\"x\": -6.563453985661962, \"y\": 3.705401701436681, \"pred\": 26.136038212735784, \"pred0\": 26.136038205818164, \"pred10\": 15.070553632682822, \"pred10000\": 27.09075565100863}, {\"x\": 0.3715928458725752, \"y\": 1.1348634243102325, \"pred\": -10.834342245851571, \"pred0\": -10.834342237215669, \"pred10\": -0.8571846579527183, \"pred10000\": 26.58930120601384}, {\"x\": 6.520774235091615, \"y\": 106.2787015891801, \"pred\": 96.715268186827, \"pred0\": 96.71526818223548, \"pred10\": 60.38599376600627, \"pred10000\": 26.899685514012933}, {\"x\": -2.9659640277290773, \"y\": 42.19409663367121, \"pred\": -13.584720171378962, \"pred0\": -13.5847201791121, \"pred10\": -4.114667164553204, \"pred10000\": 26.636760229049504}, {\"x\": 3.165616256477076, \"y\": -125.40319890292574, \"pred\": 4.540373195710757, \"pred0\": 4.540373224616797, \"pred10\": 14.747967776032475, \"pred10000\": 26.65347481691819}, {\"x\": 5.222245052890752, \"y\": -1.9846500432445997, \"pred\": 47.26491643405071, \"pred0\": 47.26491646167095, \"pred10\": 37.68304315841366, \"pred10000\": 26.77192490409843}, {\"x\": -6.47093182334422, \"y\": -11.812893751238208, \"pred\": 24.192764487615406, \"pred0\": 24.19276448055778, \"pred10\": 14.043655601211386, \"pred10000\": 27.064445449842975}, {\"x\": 6.893150314043133, \"y\": 64.8076871161785, \"pred\": 68.48023763950026, \"pred0\": 68.48023762496858, \"pred10\": 68.56618750417883, \"pred10000\": 26.948534943148825}, {\"x\": -3.493022680238049, \"y\": -54.08639152234581, \"pred\": -19.897595498778934, \"pred0\": -19.897595504930468, \"pred10\": -3.1654497042601726, \"pred10000\": 26.662311397029814}, {\"x\": -8.747074910351651, \"y\": 183.70684761381912, \"pred\": 57.89180767555739, \"pred0\": 57.891807656863406, \"pred10\": 58.52383871273187, \"pred10000\": 28.442243923410036}, {\"x\": -1.384337371858507, \"y\": -33.87053208902993, \"pred\": 2.7341637208400584, \"pred0\": 2.734163713003891, \"pred10\": -4.469607977828783, \"pred10000\": 26.59448292517627}, {\"x\": 4.852229846751024, \"y\": -13.988942624499913, \"pred\": 35.20597376564051, \"pred0\": 35.20597379602599, \"pred10\": 32.5597461752388, \"pred10000\": 26.744475602222845}, {\"x\": 3.727976805823406, \"y\": 161.0233188781908, \"pred\": 13.772447503178725, \"pred0\": 13.772447533479617, \"pred10\": 19.80166389398654, \"pred10000\": 26.678437072703613}, {\"x\": -2.7383989368584727, \"y\": -35.23602701511189, \"pred\": -10.330991215922467, \"pred0\": -10.330991224304643, \"pred10\": -4.388023345304063, \"pred10000\": 26.62780140809089}, {\"x\": -1.6026752477703532, \"y\": -41.0626241665516, \"pred\": 2.070061048407858, \"pred0\": 2.0700610397452515, \"pred10\": -4.627785946277047, \"pred10000\": 26.597860523160794}, {\"x\": -8.223553165877851, \"y\": 14.428412230630222, \"pred\": 44.97487206294521, \"pred0\": 44.97487205549963, \"pred10\": 43.59705568628525, \"pred10000\": 27.93345547081827}, {\"x\": -0.3640013134943825, \"y\": 21.818198775552545, \"pred\": -2.607848416511507, \"pred0\": -2.6078484163624758, \"pred10\": -2.8825520926096466, \"pred10000\": 26.587026003329715}, {\"x\": 6.656568171049994, \"y\": 23.279299839342315, \"pred\": 92.18246866453084, \"pred0\": 92.18246865569084, \"pred10\": 63.26927655732906, \"pred10000\": 26.91671192747176}, {\"x\": -9.804879808964852, \"y\": 131.47624036529035, \"pred\": 106.48985861688764, \"pred0\": 106.48985854035753, \"pred10\": 104.03901798570215, \"pred10000\": 30.17671103386175}, {\"x\": 1.2361742342612168, \"y\": 3.383360389096301, \"pred\": -16.370145061452515, \"pred0\": -16.370145043214297, \"pred10\": 2.5314932142136755, \"pred10000\": 26.59959120602059}, {\"x\": -2.76625939296056, \"y\": 129.3356782636361, \"pred\": -10.733638302479187, \"pred0\": -10.733638310786564, \"pred10\": -4.358797662968975, \"pred10000\": 26.628837517181882}, {\"x\": -4.457650184804254, \"y\": -26.760376539006497, \"pred\": -20.397954070014016, \"pred0\": -20.39795407484532, \"pred10\": -0.1335878531029877, \"pred10000\": 26.731794853841194}, {\"x\": 4.825670488119888, \"y\": 49.77584336934803, \"pred\": 34.48806029658931, \"pred0\": 34.48806032708943, \"pred10\": 32.21138163778245, \"pred10000\": 26.742627035220025}, {\"x\": -3.012486777485868, \"y\": -12.16411918567957, \"pred\": -14.230053813894958, \"pred0\": -14.230053821487463, \"pred10\": -4.048935544359043, \"pred10000\": 26.638735490015726}, {\"x\": 3.7783291669200896, \"y\": -23.18155368558764, \"pred\": 14.574806795212979, \"pred0\": 14.574806825626393, \"pred10\": 20.29354145058116, \"pred10000\": 26.680910816530268}, {\"x\": 6.068926586911488, \"y\": 182.7524628775764, \"pred\": 86.95585606251164, \"pred0\": 86.95585607269025, \"pred10\": 51.546801448714696, \"pred10000\": 26.848683867564677}]}}, {\"mode\": \"vega-lite\"});\n",
       "</script>"
      ],
      "text/plain": [
       "alt.LayerChart(...)"
      ]
     },
     "execution_count": 33,
     "metadata": {},
     "output_type": "execute_result"
    }
   ],
   "source": [
    "c+c10000"
   ]
  }
 ],
 "metadata": {
  "deepnote": {},
  "deepnote_execution_queue": [],
  "deepnote_notebook_id": "006899f4-7ed7-4df4-8994-fdf70affcb67",
  "kernelspec": {
   "display_name": "Python 3 (ipykernel)",
   "language": "python",
   "name": "python3"
  },
  "language_info": {
   "codemirror_mode": {
    "name": "ipython",
    "version": 3
   },
   "file_extension": ".py",
   "mimetype": "text/x-python",
   "name": "python",
   "nbconvert_exporter": "python",
   "pygments_lexer": "ipython3",
   "version": "3.7.12"
  }
 },
 "nbformat": 4,
 "nbformat_minor": 4
}
