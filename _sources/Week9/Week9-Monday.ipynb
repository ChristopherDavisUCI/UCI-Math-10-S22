{
 "cells": [
  {
   "cell_type": "markdown",
   "metadata": {
    "cell_id": "f06184ad-d8de-4823-a526-0a66bbc3031b",
    "deepnote_cell_height": 120.390625,
    "deepnote_cell_type": "markdown",
    "tags": []
   },
   "source": [
    "# Week 9 Monday\n",
    "\n",
    "I want to go over two short topics (where to find datasets, log loss) before we get to the main topic of the week (decision trees)."
   ]
  },
  {
   "cell_type": "markdown",
   "metadata": {
    "cell_id": "15f33d0967b24a6aacceacedd1afb6df",
    "deepnote_cell_height": 173.171875,
    "deepnote_cell_type": "markdown",
    "tags": []
   },
   "source": [
    "## Announcements\n",
    "\n",
    "* Midterms probably returned Thursday\n",
    "* Homework 7 due Tuesday night.  Video quizzes due Thursday before discussion.\n",
    "* I might be a little late to my 11am-12:30pm Tuesday office hours (I'll send an email if I know)."
   ]
  },
  {
   "cell_type": "markdown",
   "metadata": {
    "cell_id": "10a2aec72eb84396ac4d9ab4bc45eb23",
    "deepnote_cell_height": 509.671875,
    "deepnote_cell_type": "markdown",
    "tags": []
   },
   "source": [
    "## Places to find datasets\n",
    "\n",
    "Reminder: for the course project, you need to find a new dataset (one we haven't studied in Math 10).\n",
    "\n",
    "* Many of our datasets have come from Seaborn.  You can see other options by evaluating `sns.get_dataset_names()`.\n",
    "\n",
    "* The library `vega_datasets` has even more datasets, but you need to install it first: `!pip install vega_datasets`.  Then you can use `from vega_datasets import data` followed by `data.list_datasets()` to see the options.  Once you choose an option, like \"iris\", you can load in that data using `df = data.iris()`.\n",
    "\n",
    "* Our Spotify dataset and the stock index dataset both originally came from Kaggle (free account required).  You can search for datasets in the [Datasets section of Kaggle](https://www.kaggle.com/datasets).  (Warning.  These datasets will generally be less clean than what we usually use.  And some of these datasets might be too big to upload to Deepnote; 100mb is the maximum upload file size.)  Once you find a dataset you like on Kaggle, there are often accompanying Code notebooks you can browse for ideas; please list any you use in the References section of the project.\n",
    "\n",
    "* UCI actually has probably the most famous collection of datasets in the world, the [UCI Machine Learning Repository](https://archive-beta.ics.uci.edu/ml/datasets).\n",
    "\n",
    "* If you have an Excel file (with an extension .xlsx or .xls) instead of a csv file, you can try using `pd.read_excel` instead of `pd.read_csv`.  That usually doesn't work for me, but if I first try `!pip install openpyxl` and then try to use `pd.read_excel`, it usually works.  It might be easier to just open the file in Excel, save it as a comma-separated csv file there, and then upload that csv file.\n",
    "\n",
    "* If it's time-consuming to get the file loaded (because of for example a `!pip install` command), consider saving the pandas DataFrame as a csv file, for example using `df.to_csv`, and then you can have faster access to that data."
   ]
  },
  {
   "cell_type": "markdown",
   "metadata": {
    "cell_id": "62259bd2a4be4207a7de5f07a94c2048",
    "deepnote_cell_height": 91.578125,
    "deepnote_cell_type": "markdown",
    "tags": []
   },
   "source": [
    "If you have data cleaning cells that you want to show in your final project, but not to execute, you can put them inside triple backticks in a markdown cell, like this.\n",
    "\n",
    "```\n",
    "df.to_csv(\"cleaned_data.csv\", index=False)\n",
    "more code\n",
    "```"
   ]
  },
  {
   "cell_type": "markdown",
   "metadata": {
    "cell_id": "53eb42c4f31448bb89a0af000c95d7e8",
    "deepnote_cell_height": 454.9375,
    "deepnote_cell_type": "markdown",
    "tags": []
   },
   "source": [
    "## A loss function for classification\n",
    "\n",
    "So far we have only evaluated classification performance using accuracy.  This is not a loss function (because for a loss function, smaller values are better, but for the accuracy score, higher values are better).  More importantly, accuracy is too coarse of a measurement.  For example, if our model thinks the probabilities are [1,0,0] or [0.34, 0.33, 0.33], those predictions can't be distinguished using accuracy.  One commonly used loss function for classification is **log loss**, which is also called **cross entropy**.\n",
    "\n",
    "Here is the definition of log loss.  Assume we have n input-output pairs, $(X_1, y_1), \\ldots, (X_n, y_n)$.  Assume our model predicts $\\pi_{y_i}(X_i)$ is the probability that $y_i$ is the output corresponding to the input $X_i$.  The corresponding log loss is:\n",
    "\n",
    "$$\n",
    "\\text{log loss} = \\frac{1}{n} \\sum_{i=1}^n -\\log(\\pi_{y_i}(X_i))\n",
    "$$\n",
    "\n",
    "It takes some time to get comfortable with this formula, but it has some nice properties.\n",
    "\n",
    "* If we predict each value perfectly, so the probabilities are 1, then the log loss is 0.  (Just like with mean squared error or mean absolute error, if the predictions are perfect, then the error is 0.)\n",
    "\n",
    "* If we make the worst possible prediction, that the probability is 0 for the true output, then the loss is undefined.  You can think of it as being infinite.  (In the scikit-learn implementation, it will be some relatively big positive number.)"
   ]
  },
  {
   "cell_type": "markdown",
   "metadata": {
    "cell_id": "710c85685fe543f3b23bc5cb4d586c47",
    "deepnote_cell_height": 198.34375,
    "deepnote_cell_type": "markdown",
    "tags": []
   },
   "source": [
    "Here is some example data.  Say we have three possible outputs, the three classes of penguin, Adelie, Chinstrap, and Gentoo.  Say we have three data points: \n",
    "* (X_1, Adelie), with predicted probabilities [prob of Adelie 0.8, prob of Chinstrap 0.1, prob of Gentoo 0.1]\n",
    "* (X_2, Gentoo), with predicted probabilities [0.1, 0.5, 0.4]\n",
    "* (X_3, Adelie), with predicted probabilities [0.6, 0.3, 0.1]  \n",
    "\n",
    "Let's compute the log loss in this case."
   ]
  },
  {
   "cell_type": "code",
   "execution_count": 1,
   "metadata": {
    "cell_id": "e1d8763836094f4584ec2650315a152b",
    "deepnote_cell_height": 81,
    "deepnote_cell_type": "code",
    "deepnote_to_be_reexecuted": false,
    "execution_millis": 1,
    "execution_start": 1653337215884,
    "source_hash": "44130e39",
    "tags": []
   },
   "outputs": [],
   "source": [
    "pred_probs = [[0.8, 0.1, 0.1], [0.1, 0.5, 0.4], [0.6, 0.3, 0.1]]"
   ]
  },
  {
   "cell_type": "code",
   "execution_count": 2,
   "metadata": {
    "cell_id": "8a6467c7ad7f4ee585f17768532db3c3",
    "deepnote_cell_height": 81,
    "deepnote_cell_type": "code",
    "deepnote_output_heights": [
     21.1875
    ],
    "deepnote_to_be_reexecuted": false,
    "execution_millis": 9,
    "execution_start": 1653336912133,
    "source_hash": "7a59a3e9",
    "tags": []
   },
   "outputs": [],
   "source": [
    "n = 3"
   ]
  },
  {
   "cell_type": "code",
   "execution_count": 3,
   "metadata": {
    "cell_id": "561078ef84e54f8fa92f81d9d414cc4d",
    "deepnote_cell_height": 81,
    "deepnote_cell_type": "code",
    "deepnote_to_be_reexecuted": false,
    "execution_millis": 0,
    "execution_start": 1653337028157,
    "source_hash": "c2602aa8",
    "tags": []
   },
   "outputs": [],
   "source": [
    "import numpy as np"
   ]
  },
  {
   "cell_type": "code",
   "execution_count": 4,
   "metadata": {
    "cell_id": "f6c66a0f2dd64360ba8dd4436b07c9b4",
    "deepnote_cell_height": 118.1875,
    "deepnote_cell_type": "code",
    "deepnote_output_heights": [
     21.1875
    ],
    "deepnote_to_be_reexecuted": false,
    "execution_millis": 0,
    "execution_start": 1653337044010,
    "source_hash": "bf4115f4",
    "tags": []
   },
   "outputs": [
    {
     "data": {
      "text/plain": [
       "0.5500866356514518"
      ]
     },
     "execution_count": 4,
     "metadata": {},
     "output_type": "execute_result"
    }
   ],
   "source": [
    "(1/n)*(-np.log(0.8)+-np.log(0.4)+-np.log(0.6))"
   ]
  },
  {
   "cell_type": "code",
   "execution_count": 5,
   "metadata": {
    "cell_id": "733131fa26de4f9fbc5f604d80ff65c3",
    "deepnote_cell_height": 99,
    "deepnote_cell_type": "code",
    "deepnote_to_be_reexecuted": false,
    "execution_millis": 0,
    "execution_start": 1653337057392,
    "source_hash": "19f242c2",
    "tags": []
   },
   "outputs": [],
   "source": [
    "# Alternative\n",
    "from numpy import log "
   ]
  },
  {
   "cell_type": "code",
   "execution_count": 6,
   "metadata": {
    "cell_id": "94a430e996e14ebaa11d3dd84b231d72",
    "deepnote_cell_height": 118.1875,
    "deepnote_cell_type": "code",
    "deepnote_output_heights": [
     21.1875
    ],
    "deepnote_to_be_reexecuted": false,
    "execution_millis": 27,
    "execution_start": 1653337064193,
    "source_hash": "eb0cbbb3",
    "tags": []
   },
   "outputs": [
    {
     "data": {
      "text/plain": [
       "1.0224509277025455"
      ]
     },
     "execution_count": 6,
     "metadata": {},
     "output_type": "execute_result"
    }
   ],
   "source": [
    "log(2.78)"
   ]
  },
  {
   "cell_type": "code",
   "execution_count": 7,
   "metadata": {
    "cell_id": "08192a3c7a3e4287b1d1bba4d87aafe3",
    "deepnote_cell_height": 99,
    "deepnote_cell_type": "code",
    "deepnote_to_be_reexecuted": false,
    "execution_millis": 0,
    "execution_start": 1653337104328,
    "source_hash": "56e5a235",
    "tags": []
   },
   "outputs": [],
   "source": [
    "# Alternative\n",
    "from numpy import log as christopher"
   ]
  },
  {
   "cell_type": "code",
   "execution_count": 8,
   "metadata": {
    "cell_id": "9e43fc3c0be54ecea706a41fbbc90746",
    "deepnote_cell_height": 118.1875,
    "deepnote_cell_type": "code",
    "deepnote_output_heights": [
     21.1875
    ],
    "deepnote_to_be_reexecuted": false,
    "execution_millis": 6,
    "execution_start": 1653337107258,
    "source_hash": "82be63a5",
    "tags": []
   },
   "outputs": [
    {
     "data": {
      "text/plain": [
       "2.302585092994046"
      ]
     },
     "execution_count": 8,
     "metadata": {},
     "output_type": "execute_result"
    }
   ],
   "source": [
    "christopher(10)"
   ]
  },
  {
   "cell_type": "markdown",
   "metadata": {},
   "source": [
    "In practice, we will not usually compute log loss by hand.  (The above example was just to get a sense for what the formula means.)  Instead, we will usually compute log loss using a function from scikit-learn."
   ]
  },
  {
   "cell_type": "code",
   "execution_count": 9,
   "metadata": {
    "cell_id": "bacadf9676434448b650577b95580b96",
    "deepnote_cell_height": 81,
    "deepnote_cell_type": "code",
    "deepnote_to_be_reexecuted": false,
    "execution_start": 1653336934741,
    "source_hash": "18cbc5e8",
    "tags": []
   },
   "outputs": [],
   "source": [
    "y_true = [\"Adelie\", \"Gentoo\", \"Adelie\"]"
   ]
  },
  {
   "cell_type": "code",
   "execution_count": 10,
   "metadata": {
    "cell_id": "d9f95a435d844c1ca2defcc196f8d8c6",
    "deepnote_cell_height": 81,
    "deepnote_cell_type": "code",
    "deepnote_to_be_reexecuted": false,
    "execution_millis": 10,
    "execution_start": 1653337220323,
    "source_hash": "44130e39",
    "tags": []
   },
   "outputs": [],
   "source": [
    "pred_probs = [[0.8, 0.1, 0.1], [0.1, 0.5, 0.4], [0.6, 0.3, 0.1]]"
   ]
  },
  {
   "cell_type": "code",
   "execution_count": 11,
   "metadata": {
    "cell_id": "8f9c5f39ad3b406d92ab43b99f728e90",
    "deepnote_cell_height": 81,
    "deepnote_cell_type": "code",
    "deepnote_to_be_reexecuted": false,
    "execution_millis": 0,
    "execution_start": 1653337235482,
    "source_hash": "1e40b449",
    "tags": []
   },
   "outputs": [],
   "source": [
    "from sklearn.metrics import log_loss"
   ]
  },
  {
   "cell_type": "markdown",
   "metadata": {},
   "source": [
    "The following code will often work, but it doesn't in this case.  How would the `log_loss` function be able to interpret something like `[0.8, 0.1, 0.1]`.  These are probabilities, but what are the classes?  In `y_true`, only two class names show up.\n",
    "\n",
    "The error message is helpful in this case."
   ]
  },
  {
   "cell_type": "code",
   "execution_count": 12,
   "metadata": {
    "cell_id": "464b590286284e309a0b00c055350a06",
    "deepnote_cell_height": 163.390625,
    "deepnote_cell_type": "code",
    "deepnote_to_be_reexecuted": false,
    "execution_millis": 602,
    "execution_start": 1653337266530,
    "source_hash": "177134dc",
    "tags": []
   },
   "outputs": [
    {
     "ename": "ValueError",
     "evalue": "y_true and y_pred contain different number of classes 2, 3. Please provide the true labels explicitly through the labels argument. Classes found in y_true: ['Adelie' 'Gentoo']",
     "output_type": "error",
     "traceback": [
      "\u001b[0;31m---------------------------------------------------------------------------\u001b[0m",
      "\u001b[0;31mValueError\u001b[0m                                Traceback (most recent call last)",
      "\u001b[0;32m/var/folders/8j/gshrlmtn7dg4qtztj4d4t_w40000gn/T/ipykernel_25464/1482533660.py\u001b[0m in \u001b[0;36m<module>\u001b[0;34m\u001b[0m\n\u001b[0;32m----> 1\u001b[0;31m \u001b[0mlog_loss\u001b[0m\u001b[0;34m(\u001b[0m\u001b[0my_true\u001b[0m\u001b[0;34m,\u001b[0m \u001b[0mpred_probs\u001b[0m\u001b[0;34m)\u001b[0m\u001b[0;34m\u001b[0m\u001b[0;34m\u001b[0m\u001b[0m\n\u001b[0m",
      "\u001b[0;32m~/miniconda3/envs/math10s22/lib/python3.7/site-packages/sklearn/metrics/_classification.py\u001b[0m in \u001b[0;36mlog_loss\u001b[0;34m(y_true, y_pred, eps, normalize, sample_weight, labels)\u001b[0m\n\u001b[1;32m   2428\u001b[0m                 \u001b[0;34m\"Classes found in \"\u001b[0m\u001b[0;34m\u001b[0m\u001b[0;34m\u001b[0m\u001b[0m\n\u001b[1;32m   2429\u001b[0m                 \"y_true: {2}\".format(\n\u001b[0;32m-> 2430\u001b[0;31m                     \u001b[0mtransformed_labels\u001b[0m\u001b[0;34m.\u001b[0m\u001b[0mshape\u001b[0m\u001b[0;34m[\u001b[0m\u001b[0;36m1\u001b[0m\u001b[0;34m]\u001b[0m\u001b[0;34m,\u001b[0m \u001b[0my_pred\u001b[0m\u001b[0;34m.\u001b[0m\u001b[0mshape\u001b[0m\u001b[0;34m[\u001b[0m\u001b[0;36m1\u001b[0m\u001b[0;34m]\u001b[0m\u001b[0;34m,\u001b[0m \u001b[0mlb\u001b[0m\u001b[0;34m.\u001b[0m\u001b[0mclasses_\u001b[0m\u001b[0;34m\u001b[0m\u001b[0;34m\u001b[0m\u001b[0m\n\u001b[0m\u001b[1;32m   2431\u001b[0m                 )\n\u001b[1;32m   2432\u001b[0m             )\n",
      "\u001b[0;31mValueError\u001b[0m: y_true and y_pred contain different number of classes 2, 3. Please provide the true labels explicitly through the labels argument. Classes found in y_true: ['Adelie' 'Gentoo']"
     ]
    }
   ],
   "source": [
    "log_loss(y_true, pred_probs)"
   ]
  },
  {
   "cell_type": "code",
   "execution_count": 13,
   "metadata": {
    "cell_id": "a4d246a95ee84a34bdbf005d994fcfa8",
    "deepnote_cell_height": 118.1875,
    "deepnote_cell_type": "code",
    "deepnote_output_heights": [
     21.1875
    ],
    "deepnote_to_be_reexecuted": false,
    "execution_millis": 13,
    "execution_start": 1653337359001,
    "source_hash": "193c7a39",
    "tags": []
   },
   "outputs": [
    {
     "data": {
      "text/plain": [
       "0.5500866356514518"
      ]
     },
     "execution_count": 13,
     "metadata": {},
     "output_type": "execute_result"
    }
   ],
   "source": [
    "log_loss(y_true, pred_probs, labels=[\"Adelie\", \"Chinstrap\", \"Gentoo\"])"
   ]
  },
  {
   "cell_type": "markdown",
   "metadata": {},
   "source": [
    "Something I find confusing is that the order of the provided `labels` keyword argument does not matter.  In fact, scikit-learn will always alphabetize them, and the probabilities provided need to be in terms of the alphabetized labels.  Luckily, if we are getting the predicted probabilities from something like `clf.predict_proba`, then the probabilities will automatically be listed in the correct (alphabetized) order."
   ]
  },
  {
   "cell_type": "code",
   "execution_count": 14,
   "metadata": {
    "cell_id": "422aa09c8c8c4d13abc193193c9a1e55",
    "deepnote_cell_height": 118.1875,
    "deepnote_cell_type": "code",
    "deepnote_output_heights": [
     21.1875
    ],
    "deepnote_to_be_reexecuted": false,
    "execution_millis": 710,
    "execution_start": 1653337404555,
    "source_hash": "4514200c",
    "tags": []
   },
   "outputs": [
    {
     "data": {
      "text/plain": [
       "0.5500866356514518"
      ]
     },
     "execution_count": 14,
     "metadata": {},
     "output_type": "execute_result"
    }
   ],
   "source": [
    "log_loss(y_true, pred_probs, labels=[\"Adelie\", \"Gentoo\", \"Chinstrap\"])"
   ]
  },
  {
   "cell_type": "markdown",
   "metadata": {
    "cell_id": "d396f6b2135b49fab6170e9f8b1ae980",
    "deepnote_cell_height": 189.5625,
    "deepnote_cell_type": "markdown",
    "tags": []
   },
   "source": [
    "## Decision trees\n",
    "\n",
    "There are decision trees for both classification and regression.  The basic idea in both cases is the same.  Divide the input space into different regions, and then make the same prediction in each region.\n",
    "\n",
    "On the board, we showed an example of deciding whether to take a class based on whether it has a good professor, whether it's required, and what time it is.  If I were doing this example again, maybe I would include a variable for \"number of quarters before graduation\", which would influence the \"required\" property.\n",
    "\n",
    "We also talked about depth and number of leaf nodes in this context.\n",
    "\n",
    "For the example in this notebook, we will use a new dataset, about Titanic passengers, taken from a famous [Kaggle competition](https://www.kaggle.com/competitions/titanic).  Most Kaggle competitions include a training set (with labels) and a test set (without labels).  Our csv file is the Titanic training set."
   ]
  },
  {
   "cell_type": "code",
   "execution_count": 15,
   "metadata": {
    "cell_id": "a4fb21bbce7247669b210933dee2018d",
    "deepnote_cell_height": 81,
    "deepnote_cell_type": "code",
    "deepnote_to_be_reexecuted": false,
    "execution_millis": 4,
    "execution_start": 1653338109089,
    "source_hash": "9b82ee11",
    "tags": []
   },
   "outputs": [],
   "source": [
    "import pandas as pd"
   ]
  },
  {
   "cell_type": "code",
   "execution_count": 17,
   "metadata": {
    "cell_id": "40cbf66130dd400991a5c56a26069651",
    "deepnote_cell_height": 81,
    "deepnote_cell_type": "code",
    "deepnote_to_be_reexecuted": false,
    "execution_millis": 8,
    "execution_start": 1653338123797,
    "source_hash": "51baaa62",
    "tags": []
   },
   "outputs": [],
   "source": [
    "df = pd.read_csv(\"../data/titanic_train.csv\")"
   ]
  },
  {
   "cell_type": "markdown",
   "metadata": {},
   "source": [
    "It would be a mistake to already run `dropna()`, because notice how the \"Cabin\" column has many missing values.  It would be a waste to delete over half the dataset just because of this column that we aren't going to use anyway (since it contains strings)."
   ]
  },
  {
   "cell_type": "code",
   "execution_count": 19,
   "metadata": {
    "cell_id": "6b68ee09fac5424c9392eaa2bff1a7a5",
    "deepnote_cell_height": 468,
    "deepnote_cell_type": "code",
    "deepnote_to_be_reexecuted": false,
    "execution_millis": 90,
    "execution_start": 1653338133063,
    "source_hash": "de1e323c",
    "tags": []
   },
   "outputs": [
    {
     "name": "stdout",
     "output_type": "stream",
     "text": [
      "<class 'pandas.core.frame.DataFrame'>\n",
      "RangeIndex: 891 entries, 0 to 890\n",
      "Data columns (total 12 columns):\n",
      " #   Column       Non-Null Count  Dtype  \n",
      "---  ------       --------------  -----  \n",
      " 0   PassengerId  891 non-null    int64  \n",
      " 1   Survived     891 non-null    int64  \n",
      " 2   Pclass       891 non-null    int64  \n",
      " 3   Name         891 non-null    object \n",
      " 4   Sex          891 non-null    object \n",
      " 5   Age          714 non-null    float64\n",
      " 6   SibSp        891 non-null    int64  \n",
      " 7   Parch        891 non-null    int64  \n",
      " 8   Ticket       891 non-null    object \n",
      " 9   Fare         891 non-null    float64\n",
      " 10  Cabin        204 non-null    object \n",
      " 11  Embarked     889 non-null    object \n",
      "dtypes: float64(2), int64(5), object(5)\n",
      "memory usage: 83.7+ KB\n"
     ]
    }
   ],
   "source": [
    "df.info()"
   ]
  },
  {
   "cell_type": "code",
   "execution_count": 20,
   "metadata": {
    "cell_id": "a84a173a4acf421fa42516410b7ef820",
    "deepnote_cell_height": 81,
    "deepnote_cell_type": "code",
    "deepnote_to_be_reexecuted": false,
    "execution_millis": 0,
    "execution_start": 1653338214854,
    "source_hash": "bd6a05ae",
    "tags": []
   },
   "outputs": [],
   "source": [
    "from pandas.api.types import is_numeric_dtype"
   ]
  },
  {
   "cell_type": "code",
   "execution_count": 21,
   "metadata": {
    "cell_id": "f0653f965b064f1b9776c61f44fa9408",
    "deepnote_cell_height": 81,
    "deepnote_cell_type": "code",
    "deepnote_to_be_reexecuted": false,
    "execution_millis": 0,
    "execution_start": 1653338249937,
    "source_hash": "2fd46084",
    "tags": []
   },
   "outputs": [],
   "source": [
    "num_cols = [c for c in df.columns if is_numeric_dtype(c)]"
   ]
  },
  {
   "cell_type": "code",
   "execution_count": 22,
   "metadata": {
    "cell_id": "28649fbc34a246168cac08a35a97f1cc",
    "deepnote_cell_height": 118.1875,
    "deepnote_cell_type": "code",
    "deepnote_output_heights": [
     21.1875
    ],
    "deepnote_to_be_reexecuted": false,
    "execution_millis": 6,
    "execution_start": 1653338252747,
    "source_hash": "6e59a8c7",
    "tags": []
   },
   "outputs": [
    {
     "data": {
      "text/plain": [
       "[]"
      ]
     },
     "execution_count": 22,
     "metadata": {},
     "output_type": "execute_result"
    }
   ],
   "source": [
    "num_cols"
   ]
  },
  {
   "cell_type": "markdown",
   "metadata": {},
   "source": [
    "The mistake above is that `c` is something like \"PassengerID\", and `is_numeric_dtype(\"PassengerID\")` will always return `False`.  Instead we want to evaluate `is_numeric_dtype(df[\"PassengerID\"])`."
   ]
  },
  {
   "cell_type": "code",
   "execution_count": 23,
   "metadata": {
    "cell_id": "e1192012f8bc46dcb2897e1faacba993",
    "deepnote_cell_height": 81,
    "deepnote_cell_type": "code",
    "deepnote_to_be_reexecuted": false,
    "execution_millis": 0,
    "execution_start": 1653338289556,
    "source_hash": "2e810623",
    "tags": []
   },
   "outputs": [],
   "source": [
    "num_cols = [c for c in df.columns if is_numeric_dtype(df[c])]"
   ]
  },
  {
   "cell_type": "code",
   "execution_count": 24,
   "metadata": {
    "cell_id": "fa3222bab86e424cb382a66f72573b93",
    "deepnote_cell_height": 118.1875,
    "deepnote_cell_type": "code",
    "deepnote_output_heights": [
     21.1875
    ],
    "deepnote_to_be_reexecuted": false,
    "execution_millis": 11,
    "execution_start": 1653338291891,
    "source_hash": "6e59a8c7",
    "tags": []
   },
   "outputs": [
    {
     "data": {
      "text/plain": [
       "['PassengerId', 'Survived', 'Pclass', 'Age', 'SibSp', 'Parch', 'Fare']"
      ]
     },
     "execution_count": 24,
     "metadata": {},
     "output_type": "execute_result"
    }
   ],
   "source": [
    "num_cols"
   ]
  },
  {
   "cell_type": "code",
   "execution_count": 25,
   "metadata": {
    "cell_id": "5be6dad4da074765a939c6cf9db1c883",
    "deepnote_cell_height": 81,
    "deepnote_cell_type": "code",
    "deepnote_to_be_reexecuted": false,
    "execution_millis": 9,
    "execution_start": 1653338389125,
    "source_hash": "44100943",
    "tags": []
   },
   "outputs": [],
   "source": [
    "df2 = df[num_cols].dropna()"
   ]
  },
  {
   "cell_type": "code",
   "execution_count": 26,
   "metadata": {
    "cell_id": "876f35914ba24f30bd64403ae62a353f",
    "deepnote_cell_height": 118.1875,
    "deepnote_cell_type": "code",
    "deepnote_output_heights": [
     21.1875
    ],
    "deepnote_to_be_reexecuted": false,
    "execution_millis": 8,
    "execution_start": 1653338393764,
    "source_hash": "48de49ab",
    "tags": []
   },
   "outputs": [
    {
     "data": {
      "text/plain": [
       "(714, 7)"
      ]
     },
     "execution_count": 26,
     "metadata": {},
     "output_type": "execute_result"
    }
   ],
   "source": [
    "df2.shape"
   ]
  },
  {
   "cell_type": "markdown",
   "metadata": {},
   "source": [
    "Here is the list of columns we will use for prediction."
   ]
  },
  {
   "cell_type": "code",
   "execution_count": 29,
   "metadata": {
    "cell_id": "6e09fe7642ab48be82e728e66ec9d36a",
    "deepnote_cell_height": 81,
    "deepnote_cell_type": "code",
    "deepnote_to_be_reexecuted": false,
    "execution_millis": 1,
    "execution_start": 1653338450712,
    "source_hash": "7020aa85",
    "tags": []
   },
   "outputs": [],
   "source": [
    "cols = [c for c in num_cols if c != 'Survived']"
   ]
  },
  {
   "cell_type": "code",
   "execution_count": 30,
   "metadata": {
    "cell_id": "2da8832b3f154489ab499fdce09c54e1",
    "deepnote_cell_height": 118.1875,
    "deepnote_cell_type": "code",
    "deepnote_output_heights": [
     21.1875
    ],
    "deepnote_to_be_reexecuted": false,
    "execution_millis": 8,
    "execution_start": 1653338456870,
    "source_hash": "cb73c151",
    "tags": []
   },
   "outputs": [
    {
     "data": {
      "text/plain": [
       "['PassengerId', 'Pclass', 'Age', 'SibSp', 'Parch', 'Fare']"
      ]
     },
     "execution_count": 30,
     "metadata": {},
     "output_type": "execute_result"
    }
   ],
   "source": [
    "cols"
   ]
  },
  {
   "cell_type": "code",
   "execution_count": 31,
   "metadata": {
    "cell_id": "15bb9f2b011d4f1da5c8029ff8642eb2",
    "deepnote_cell_height": 81,
    "deepnote_cell_type": "code",
    "deepnote_to_be_reexecuted": false,
    "execution_millis": 1,
    "execution_start": 1653338513536,
    "source_hash": "1f640c24",
    "tags": []
   },
   "outputs": [],
   "source": [
    "from sklearn.tree import DecisionTreeClassifier"
   ]
  },
  {
   "cell_type": "code",
   "execution_count": 32,
   "metadata": {
    "cell_id": "420260f158d7407fbd43ce97b8987fb2",
    "deepnote_cell_height": 81,
    "deepnote_cell_type": "code",
    "deepnote_to_be_reexecuted": false,
    "execution_millis": 0,
    "execution_start": 1653338557263,
    "source_hash": "dd89a9e9",
    "tags": []
   },
   "outputs": [],
   "source": [
    "clf = DecisionTreeClassifier()"
   ]
  },
  {
   "cell_type": "code",
   "execution_count": 33,
   "metadata": {
    "cell_id": "9310067ae1c0498589fbe92121f09a15",
    "deepnote_cell_height": 81,
    "deepnote_cell_type": "code",
    "deepnote_to_be_reexecuted": false,
    "execution_millis": 0,
    "execution_start": 1653338572700,
    "source_hash": "746a4dbc",
    "tags": []
   },
   "outputs": [],
   "source": [
    "from sklearn.model_selection import train_test_split"
   ]
  },
  {
   "cell_type": "markdown",
   "metadata": {},
   "source": [
    "In class I didn't use the `random_state` keyword argument, but I want to here, so that I can write about the results without worrying the numbers will change.  The outcomes are usually similar."
   ]
  },
  {
   "cell_type": "code",
   "execution_count": 44,
   "metadata": {
    "cell_id": "3a3bdd53429a4026a80e2dfe46ddc4f1",
    "deepnote_cell_height": 81,
    "deepnote_cell_type": "code",
    "deepnote_to_be_reexecuted": false,
    "execution_millis": 3,
    "execution_start": 1653338646167,
    "source_hash": "a391efb3",
    "tags": []
   },
   "outputs": [],
   "source": [
    "X_train, X_test, y_train, y_test = train_test_split(df2[cols], df2[\"Survived\"], test_size=0.2, random_state=0)"
   ]
  },
  {
   "cell_type": "code",
   "execution_count": 45,
   "metadata": {
    "cell_id": "2f0f8ad86baa4cb794a54665445e870f",
    "deepnote_cell_height": 118.1875,
    "deepnote_cell_type": "code",
    "deepnote_output_heights": [
     21.1875
    ],
    "deepnote_to_be_reexecuted": false,
    "execution_millis": 14,
    "execution_start": 1653338689263,
    "source_hash": "e7844c31",
    "tags": []
   },
   "outputs": [
    {
     "data": {
      "text/plain": [
       "DecisionTreeClassifier()"
      ]
     },
     "execution_count": 45,
     "metadata": {},
     "output_type": "execute_result"
    }
   ],
   "source": [
    "clf.fit(X_train, y_train)"
   ]
  },
  {
   "cell_type": "code",
   "execution_count": 46,
   "metadata": {
    "cell_id": "cd44b6251d6247828627603ce3423a7f",
    "deepnote_cell_height": 118.1875,
    "deepnote_cell_type": "code",
    "deepnote_output_heights": [
     21.1875
    ],
    "deepnote_to_be_reexecuted": false,
    "execution_millis": 8,
    "execution_start": 1653338709673,
    "source_hash": "2f42d172",
    "tags": []
   },
   "outputs": [
    {
     "data": {
      "text/plain": [
       "1.0"
      ]
     },
     "execution_count": 46,
     "metadata": {},
     "output_type": "execute_result"
    }
   ],
   "source": [
    "clf.score(X_train, y_train)"
   ]
  },
  {
   "cell_type": "code",
   "execution_count": 47,
   "metadata": {
    "cell_id": "2f54f1217c4d43df8838c99baf3381e2",
    "deepnote_cell_height": 118.1875,
    "deepnote_cell_type": "code",
    "deepnote_output_heights": [
     21.1875
    ],
    "deepnote_to_be_reexecuted": false,
    "execution_millis": 9,
    "execution_start": 1653338730571,
    "source_hash": "234d3646",
    "tags": []
   },
   "outputs": [
    {
     "data": {
      "text/plain": [
       "571"
      ]
     },
     "execution_count": 47,
     "metadata": {},
     "output_type": "execute_result"
    }
   ],
   "source": [
    "len(X_train)"
   ]
  },
  {
   "cell_type": "markdown",
   "metadata": {},
   "source": [
    "All 571 values were predicted correctly!  Is that a good sign?  No, it's very strong evidence of overfitting.  Let's check on the test data."
   ]
  },
  {
   "cell_type": "code",
   "execution_count": 48,
   "metadata": {
    "cell_id": "858d6d742cde40c481329c18326e7361",
    "deepnote_cell_height": 118.1875,
    "deepnote_cell_type": "code",
    "deepnote_output_heights": [
     21.1875
    ],
    "deepnote_to_be_reexecuted": false,
    "execution_millis": 4,
    "execution_start": 1653338776050,
    "source_hash": "a356aeea",
    "tags": []
   },
   "outputs": [
    {
     "data": {
      "text/plain": [
       "0.6433566433566433"
      ]
     },
     "execution_count": 48,
     "metadata": {},
     "output_type": "execute_result"
    }
   ],
   "source": [
    "clf.score(X_test, y_test)"
   ]
  },
  {
   "cell_type": "markdown",
   "metadata": {},
   "source": [
    "Only 64% accuracy on the test data!  We might have gotten higher accuracy just by predicting nobody survived.\n",
    "\n",
    "We can get a more accurate assessment of the performance of the model by evaluating `log_loss`. The log loss on the training set is essentially perfect (0)."
   ]
  },
  {
   "cell_type": "code",
   "execution_count": 49,
   "metadata": {
    "cell_id": "b50ba559fd704ea88989a4be0adfa5df",
    "deepnote_cell_height": 118.1875,
    "deepnote_cell_type": "code",
    "deepnote_output_heights": [
     21.1875
    ],
    "deepnote_to_be_reexecuted": false,
    "execution_millis": 38,
    "execution_start": 1653338830670,
    "source_hash": "5c51461",
    "tags": []
   },
   "outputs": [
    {
     "data": {
      "text/plain": [
       "9.992007221626415e-16"
      ]
     },
     "execution_count": 49,
     "metadata": {},
     "output_type": "execute_result"
    }
   ],
   "source": [
    "log_loss(y_train, clf.predict_proba(X_train))"
   ]
  },
  {
   "cell_type": "markdown",
   "metadata": {},
   "source": [
    "But it is nowhere near perfect on the test set."
   ]
  },
  {
   "cell_type": "code",
   "execution_count": 50,
   "metadata": {
    "cell_id": "39229fa2c5294d72985f2b7d2d818530",
    "deepnote_cell_height": 118.1875,
    "deepnote_cell_type": "code",
    "deepnote_output_heights": [
     21.1875
    ],
    "deepnote_to_be_reexecuted": false,
    "execution_millis": 15,
    "execution_start": 1653338865912,
    "source_hash": "40e7c72",
    "tags": []
   },
   "outputs": [
    {
     "data": {
      "text/plain": [
       "12.318025147835279"
      ]
     },
     "execution_count": 50,
     "metadata": {},
     "output_type": "execute_result"
    }
   ],
   "source": [
    "log_loss(y_test, clf.predict_proba(X_test))"
   ]
  },
  {
   "cell_type": "markdown",
   "metadata": {},
   "source": [
    "One of the most dangerous properties of decision trees is that they are very prone to overfitting.  (One of the best properties of decision trees is that they provide models whose outputs are very interpretable.)\n",
    "\n",
    "We can combat overfitting by restricting the depth of the tree or the maximum number of leaf nodes of the tree.  Here we restrict both."
   ]
  },
  {
   "cell_type": "code",
   "execution_count": 53,
   "metadata": {
    "cell_id": "552d44884e2848c0bd700b396658bd48",
    "deepnote_cell_height": 81,
    "deepnote_cell_type": "code",
    "deepnote_to_be_reexecuted": false,
    "execution_millis": 16,
    "execution_start": 1653338907801,
    "source_hash": "e0403f37",
    "tags": []
   },
   "outputs": [],
   "source": [
    "clf2 = DecisionTreeClassifier(max_depth=4, max_leaf_nodes=8)"
   ]
  },
  {
   "cell_type": "code",
   "execution_count": 54,
   "metadata": {
    "cell_id": "324e137bd22744939b925ed3ae671980",
    "deepnote_cell_height": 118.1875,
    "deepnote_cell_type": "code",
    "deepnote_output_heights": [
     21.1875
    ],
    "deepnote_to_be_reexecuted": false,
    "execution_millis": 8,
    "execution_start": 1653338917134,
    "source_hash": "cfab2d4c",
    "tags": []
   },
   "outputs": [
    {
     "data": {
      "text/plain": [
       "DecisionTreeClassifier(max_depth=4, max_leaf_nodes=8)"
      ]
     },
     "execution_count": 54,
     "metadata": {},
     "output_type": "execute_result"
    }
   ],
   "source": [
    "clf2.fit(X_train, y_train)"
   ]
  },
  {
   "cell_type": "markdown",
   "metadata": {},
   "source": [
    "The performance on the training set is worse, but the performance on the test set is better.  It is the performance on the test set that is important (because that relates to how the performance will be on new unseen data)."
   ]
  },
  {
   "cell_type": "code",
   "execution_count": 56,
   "metadata": {
    "cell_id": "4d21b0a6ff344d48952f92ede5d1076d",
    "deepnote_cell_height": 118.1875,
    "deepnote_cell_type": "code",
    "deepnote_output_heights": [
     21.1875
    ],
    "deepnote_to_be_reexecuted": false,
    "execution_millis": 10,
    "execution_start": 1653338925744,
    "source_hash": "9de62dd9",
    "tags": []
   },
   "outputs": [
    {
     "data": {
      "text/plain": [
       "0.7460595446584939"
      ]
     },
     "execution_count": 56,
     "metadata": {},
     "output_type": "execute_result"
    }
   ],
   "source": [
    "clf2.score(X_train, y_train)"
   ]
  },
  {
   "cell_type": "markdown",
   "metadata": {},
   "source": [
    "Probably we can get the following accuracy higher by further adjusting the parameters.  There might still be some overfitting in this case."
   ]
  },
  {
   "cell_type": "code",
   "execution_count": 59,
   "metadata": {
    "cell_id": "5b0c188d4f9d46aa8f3a5c2ddc48104c",
    "deepnote_cell_height": 118.1875,
    "deepnote_cell_type": "code",
    "deepnote_output_heights": [
     21.1875
    ],
    "deepnote_to_be_reexecuted": false,
    "execution_millis": 22,
    "execution_start": 1653338936547,
    "source_hash": "29a2e09e",
    "tags": []
   },
   "outputs": [
    {
     "data": {
      "text/plain": [
       "0.6993006993006993"
      ]
     },
     "execution_count": 59,
     "metadata": {},
     "output_type": "execute_result"
    }
   ],
   "source": [
    "clf2.score(X_test, y_test)"
   ]
  },
  {
   "cell_type": "markdown",
   "metadata": {},
   "source": [
    "Here is a fun example of visualizing the decision tree.  Yasmeen will go over a much more impressive visualization of a decision tree in Discussion Section on Tuesday."
   ]
  },
  {
   "cell_type": "code",
   "execution_count": 61,
   "metadata": {
    "cell_id": "33f4ce0d6cd642fc8dc9b9e8c20dfefc",
    "deepnote_cell_height": 81,
    "deepnote_cell_type": "code",
    "deepnote_to_be_reexecuted": false,
    "execution_millis": 7,
    "execution_start": 1653338963882,
    "source_hash": "e6286b97",
    "tags": []
   },
   "outputs": [],
   "source": [
    "from sklearn.tree import export_text"
   ]
  },
  {
   "cell_type": "code",
   "execution_count": 62,
   "metadata": {
    "cell_id": "82a443e8b3e544b2a0b1835ef23b9719",
    "deepnote_cell_height": 81,
    "deepnote_cell_type": "code",
    "deepnote_to_be_reexecuted": false,
    "execution_millis": 0,
    "execution_start": 1653338975084,
    "source_hash": "cb21ed1f",
    "tags": []
   },
   "outputs": [],
   "source": [
    "r = export_text(clf2, feature_names=cols)"
   ]
  },
  {
   "cell_type": "code",
   "execution_count": 63,
   "metadata": {
    "cell_id": "24f8acb15fa14286a54aedf942a3e418",
    "deepnote_cell_height": 546.65625,
    "deepnote_cell_type": "code",
    "deepnote_to_be_reexecuted": false,
    "execution_millis": 8,
    "execution_start": 1653338977065,
    "source_hash": "f36f0dfc",
    "tags": []
   },
   "outputs": [
    {
     "name": "stdout",
     "output_type": "stream",
     "text": [
      "|--- Pclass <= 2.50\n",
      "|   |--- Fare <= 13.65\n",
      "|   |   |--- class: 0\n",
      "|   |--- Fare >  13.65\n",
      "|   |   |--- PassengerId <= 179.50\n",
      "|   |   |   |--- class: 0\n",
      "|   |   |--- PassengerId >  179.50\n",
      "|   |   |   |--- Age <= 42.50\n",
      "|   |   |   |   |--- class: 1\n",
      "|   |   |   |--- Age >  42.50\n",
      "|   |   |   |   |--- class: 1\n",
      "|--- Pclass >  2.50\n",
      "|   |--- Age <= 32.50\n",
      "|   |   |--- SibSp <= 1.50\n",
      "|   |   |   |--- Age <= 9.50\n",
      "|   |   |   |   |--- class: 1\n",
      "|   |   |   |--- Age >  9.50\n",
      "|   |   |   |   |--- class: 0\n",
      "|   |   |--- SibSp >  1.50\n",
      "|   |   |   |--- class: 0\n",
      "|   |--- Age >  32.50\n",
      "|   |   |--- class: 0\n",
      "\n"
     ]
    }
   ],
   "source": [
    "print(r)"
   ]
  }
 ],
 "metadata": {
  "deepnote": {},
  "deepnote_execution_queue": [],
  "deepnote_notebook_id": "e67c98ad-6875-47de-a01e-ecbb60ad2ae4",
  "kernelspec": {
   "display_name": "Python 3 (ipykernel)",
   "language": "python",
   "name": "python3"
  },
  "language_info": {
   "codemirror_mode": {
    "name": "ipython",
    "version": 3
   },
   "file_extension": ".py",
   "mimetype": "text/x-python",
   "name": "python",
   "nbconvert_exporter": "python",
   "pygments_lexer": "ipython3",
   "version": "3.7.12"
  }
 },
 "nbformat": 4,
 "nbformat_minor": 4
}
