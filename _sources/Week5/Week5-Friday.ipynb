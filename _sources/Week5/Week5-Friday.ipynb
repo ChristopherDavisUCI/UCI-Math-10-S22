{
 "cells": [
  {
   "cell_type": "markdown",
   "metadata": {
    "cell_id": "6277d2fa6b0645d0acb1eebf9ffe26d8",
    "deepnote_cell_height": 142.796875,
    "deepnote_cell_type": "markdown",
    "tags": []
   },
   "source": [
    "# K-Means clustering 3\n",
    "\n",
    "The main point of this worksheet is to get more comfortable with the different steps involved in the K-Means algorithm.  This worksheet is more about the mathematical algorithm, and less about how to run it using scikit-learn."
   ]
  },
  {
   "cell_type": "code",
   "execution_count": null,
   "metadata": {
    "cell_id": "1fec6127-1869-4412-9976-59693eece3a9",
    "deepnote_cell_height": 99,
    "deepnote_cell_type": "code",
    "deepnote_to_be_reexecuted": false,
    "execution_millis": 356,
    "execution_start": 1651256130060,
    "source_hash": "46e6bd77",
    "tags": []
   },
   "outputs": [],
   "source": [
    "import pandas as pd\n",
    "import altair as alt"
   ]
  },
  {
   "cell_type": "markdown",
   "metadata": {
    "cell_id": "e360911d867742679c54de088fc04151",
    "deepnote_cell_height": 70,
    "deepnote_cell_type": "markdown",
    "tags": []
   },
   "source": [
    "## Finding the closest point"
   ]
  },
  {
   "cell_type": "code",
   "execution_count": null,
   "metadata": {
    "cell_id": "8bbb7342405a4704abeba3aa9f991704",
    "deepnote_cell_height": 136.1875,
    "deepnote_cell_type": "code",
    "deepnote_output_heights": [
     21.1875
    ],
    "deepnote_to_be_reexecuted": false,
    "execution_millis": 2,
    "execution_start": 1651249542000,
    "source_hash": "436f6a8f",
    "tags": []
   },
   "outputs": [
    {
     "data": {
      "text/plain": [
       "7"
      ]
     },
     "execution_count": 4,
     "metadata": {},
     "output_type": "execute_result"
    }
   ],
   "source": [
    "df_centers = pd.DataFrame([[-4,10],[0.2,0.8],[2,-3],[5,-1],[-4,5],[-2,-1],[-7,-1.45]],columns=[\"x\",\"y\"])\n",
    "len(df_centers)"
   ]
  },
  {
   "cell_type": "markdown",
   "metadata": {
    "cell_id": "c93a4b99abd04422a4787715708f0f58",
    "deepnote_cell_height": 91.796875,
    "deepnote_cell_type": "markdown",
    "tags": []
   },
   "source": [
    "* Which of the 7 points in `df_centers` is closest to (-3,3)?  Which is furthest from $(-3,3)$?  Look at the Altair chart below to answer these questions."
   ]
  },
  {
   "cell_type": "code",
   "execution_count": null,
   "metadata": {
    "cell_id": "43365ead0a4a4b4cabb64160bb884ae5",
    "deepnote_cell_height": 512,
    "deepnote_cell_type": "code",
    "deepnote_output_heights": [
     361
    ],
    "deepnote_to_be_reexecuted": false,
    "execution_millis": 50,
    "execution_start": 1651249542748,
    "source_hash": "9da71c1e",
    "tags": []
   },
   "outputs": [
    {
     "data": {
      "text/html": [
       "\n",
       "<div id=\"altair-viz-548656da9bbc4d14a58b31ad16eb340c\"></div>\n",
       "<script type=\"text/javascript\">\n",
       "  (function(spec, embedOpt){\n",
       "    let outputDiv = document.currentScript.previousElementSibling;\n",
       "    if (outputDiv.id !== \"altair-viz-548656da9bbc4d14a58b31ad16eb340c\") {\n",
       "      outputDiv = document.getElementById(\"altair-viz-548656da9bbc4d14a58b31ad16eb340c\");\n",
       "    }\n",
       "    const paths = {\n",
       "      \"vega\": \"https://cdn.jsdelivr.net/npm//vega@5?noext\",\n",
       "      \"vega-lib\": \"https://cdn.jsdelivr.net/npm//vega-lib?noext\",\n",
       "      \"vega-lite\": \"https://cdn.jsdelivr.net/npm//vega-lite@4.8.1?noext\",\n",
       "      \"vega-embed\": \"https://cdn.jsdelivr.net/npm//vega-embed@6?noext\",\n",
       "    };\n",
       "\n",
       "    function loadScript(lib) {\n",
       "      return new Promise(function(resolve, reject) {\n",
       "        var s = document.createElement('script');\n",
       "        s.src = paths[lib];\n",
       "        s.async = true;\n",
       "        s.onload = () => resolve(paths[lib]);\n",
       "        s.onerror = () => reject(`Error loading script: ${paths[lib]}`);\n",
       "        document.getElementsByTagName(\"head\")[0].appendChild(s);\n",
       "      });\n",
       "    }\n",
       "\n",
       "    function showError(err) {\n",
       "      outputDiv.innerHTML = `<div class=\"error\" style=\"color:red;\">${err}</div>`;\n",
       "      throw err;\n",
       "    }\n",
       "\n",
       "    function displayChart(vegaEmbed) {\n",
       "      vegaEmbed(outputDiv, spec, embedOpt)\n",
       "        .catch(err => showError(`Javascript Error: ${err.message}<br>This usually means there's a typo in your chart specification. See the javascript console for the full traceback.`));\n",
       "    }\n",
       "\n",
       "    if(typeof define === \"function\" && define.amd) {\n",
       "      requirejs.config({paths});\n",
       "      require([\"vega-embed\"], displayChart, err => showError(`Error loading script: ${err.message}`));\n",
       "    } else if (typeof vegaEmbed === \"function\") {\n",
       "      displayChart(vegaEmbed);\n",
       "    } else {\n",
       "      loadScript(\"vega\")\n",
       "        .then(() => loadScript(\"vega-lite\"))\n",
       "        .then(() => loadScript(\"vega-embed\"))\n",
       "        .catch(showError)\n",
       "        .then(() => displayChart(vegaEmbed));\n",
       "    }\n",
       "  })({\"config\": {\"view\": {\"continuousWidth\": 400, \"continuousHeight\": 300}}, \"data\": {\"name\": \"data-babee5a96778537fb2d81d921a8b4116\"}, \"mark\": {\"type\": \"circle\", \"size\": 100}, \"encoding\": {\"x\": {\"type\": \"quantitative\", \"field\": \"x\"}, \"y\": {\"type\": \"quantitative\", \"field\": \"y\"}}, \"$schema\": \"https://vega.github.io/schema/vega-lite/v4.8.1.json\", \"datasets\": {\"data-babee5a96778537fb2d81d921a8b4116\": [{\"x\": -4.0, \"y\": 10.0}, {\"x\": 0.2, \"y\": 0.8}, {\"x\": 2.0, \"y\": -3.0}, {\"x\": 5.0, \"y\": -1.0}, {\"x\": -4.0, \"y\": 5.0}, {\"x\": -2.0, \"y\": -1.0}, {\"x\": -7.0, \"y\": -1.45}]}}, {\"mode\": \"vega-lite\"});\n",
       "</script>"
      ],
      "text/plain": [
       "alt.Chart(...)"
      ]
     },
     "execution_count": 5,
     "metadata": {},
     "output_type": "execute_result"
    }
   ],
   "source": [
    "alt.Chart(df_centers).mark_circle(size=100).encode(\n",
    "    x=\"x\",\n",
    "    y=\"y\"\n",
    ")"
   ]
  },
  {
   "cell_type": "markdown",
   "metadata": {
    "cell_id": "3fb722d937534330817cb31966c2ae73",
    "deepnote_cell_height": 91.796875,
    "deepnote_cell_type": "markdown",
    "tags": []
   },
   "source": [
    "* Create a length 2 pandas Series `s` from the dictionary `{\"x\":-3, \"y\":3}`.  We will think of this pandas Series as corresponding to the point $(-3,3)$.  (Use `pd.Series`.)"
   ]
  },
  {
   "cell_type": "code",
   "execution_count": null,
   "metadata": {
    "cell_id": "7481e87b92474937adcb17de77e967e9",
    "deepnote_cell_height": 66,
    "deepnote_cell_type": "code",
    "tags": []
   },
   "outputs": [],
   "source": []
  },
  {
   "cell_type": "markdown",
   "metadata": {
    "cell_id": "10685ac64c604baa9781fbd974c8c930",
    "deepnote_cell_height": 91.796875,
    "deepnote_cell_type": "markdown",
    "tags": []
   },
   "source": [
    "* Create a length 2 pandas Series from the 0-th row of `df_centers`.  Name the result `t`. (You shouldn't have to type `pd.Series` in this problem, nor should you have to type a colon `:` symbol.  Use `iloc`.)"
   ]
  },
  {
   "cell_type": "code",
   "execution_count": null,
   "metadata": {
    "cell_id": "bd82a6c12b8e4ac5b3b714f52dc6506a",
    "deepnote_cell_height": 81,
    "deepnote_cell_type": "code",
    "deepnote_to_be_reexecuted": false,
    "execution_millis": 1,
    "execution_start": 1651258092524,
    "source_hash": "b623e53d",
    "tags": []
   },
   "outputs": [],
   "source": []
  },
  {
   "cell_type": "markdown",
   "metadata": {
    "cell_id": "81677ba0370d4b8cb09c7806cd03d3f3",
    "deepnote_cell_height": 158.984375,
    "deepnote_cell_type": "markdown",
    "tags": []
   },
   "source": [
    "* The compute the square of the distance between `s` and `t`.  (We eventually want to find the point whose distance is closest, but it's the exact same to find the point whose squared distance is smallest.  This saves us from having to compute a square root.)\n",
    "\n",
    "Be sure to solve this problem without typing any numbers.  You should only have to type variables like `s` and labels like `\"x\"`.  The correct answer is `50`."
   ]
  },
  {
   "cell_type": "code",
   "execution_count": null,
   "metadata": {
    "cell_id": "0575312079ed4351ba9acda9747753aa",
    "deepnote_cell_height": 66,
    "deepnote_cell_type": "code",
    "tags": []
   },
   "outputs": [],
   "source": []
  },
  {
   "cell_type": "markdown",
   "metadata": {
    "cell_id": "886f6674d0c94ed784ea269893769382",
    "deepnote_cell_height": 275.171875,
    "deepnote_cell_type": "markdown",
    "tags": []
   },
   "source": [
    "Compute the squared distance between `s` and every point in `df_centers`.  Don't use any for loops.  For example, you can use code like `s[\"x\"] - df_centers[\"x\"]`.  The result should be a pandas Series like the following:\n",
    "\n",
    "```\n",
    "0    50.0000\n",
    "1    15.0800\n",
    "2    61.0000\n",
    "3    80.0000\n",
    "4     5.0000\n",
    "5    17.0000\n",
    "6    35.8025\n",
    "dtype: float64\n",
    "```"
   ]
  },
  {
   "cell_type": "code",
   "execution_count": null,
   "metadata": {
    "cell_id": "4d6f6cc74eaa4657a2b028787012a168",
    "deepnote_cell_height": 66,
    "deepnote_cell_type": "code",
    "tags": []
   },
   "outputs": [],
   "source": []
  },
  {
   "cell_type": "markdown",
   "metadata": {
    "cell_id": "4502ae53e27d4546bc29a440ce480288",
    "deepnote_cell_height": 91.796875,
    "deepnote_cell_type": "markdown",
    "tags": []
   },
   "source": [
    "* What is the integer location of the closest point to `s`?  Of the furthest point?  Use the pandas Series methods `argmin` and `argmax` ([documentation](https://pandas.pydata.org/docs/reference/api/pandas.Series.argmin.html))."
   ]
  },
  {
   "cell_type": "code",
   "execution_count": null,
   "metadata": {
    "cell_id": "45db732bbce4480aa71014c2d6a00003",
    "deepnote_cell_height": 66,
    "deepnote_cell_type": "code",
    "tags": []
   },
   "outputs": [],
   "source": []
  },
  {
   "cell_type": "markdown",
   "metadata": {
    "cell_id": "6744aee90c8c4bbc9c2568e59819bbcb",
    "deepnote_cell_height": 91.796875,
    "deepnote_cell_type": "markdown",
    "tags": []
   },
   "source": [
    "* Look at the points in `df_centers` at these locations (use `iloc`).  Does it match what you expected from the Altair chart above?"
   ]
  },
  {
   "cell_type": "code",
   "execution_count": null,
   "metadata": {
    "cell_id": "b92dc026226640f68ece8ed57c75aa60",
    "deepnote_cell_height": 66,
    "deepnote_cell_type": "code",
    "tags": []
   },
   "outputs": [],
   "source": []
  },
  {
   "cell_type": "markdown",
   "metadata": {
    "cell_id": "a2e6d054af0c4b2cb64a913d696f91b6",
    "deepnote_cell_height": 189.59375,
    "deepnote_cell_type": "markdown",
    "deepnote_to_be_reexecuted": false,
    "execution_millis": 1,
    "execution_start": 1651250241543,
    "source_hash": "18f3c962",
    "tags": []
   },
   "source": [
    "## A function to find the closest point\n",
    "\n",
    "* Write a function `closest_arg` which again takes two inputs, a Series like `s` and a DataFrame like `df_centers`, and which as output returns the integer location of the row containing the closest point in `df_centers` to `s`.\n",
    "\n",
    "For example, if you evaluate `closest_arg(s, df_centers)` with `s` and `df_centers` defined as above, then the output should be `4`."
   ]
  },
  {
   "cell_type": "code",
   "execution_count": null,
   "metadata": {
    "cell_id": "1574b68a798a41d1a0d197a390227ba5",
    "deepnote_cell_height": 66,
    "deepnote_cell_type": "code",
    "tags": []
   },
   "outputs": [],
   "source": []
  },
  {
   "cell_type": "markdown",
   "metadata": {
    "cell_id": "0991006f52004a8e9e0557d9ede68576",
    "deepnote_cell_height": 217.59375,
    "deepnote_cell_type": "markdown",
    "tags": []
   },
   "source": [
    "## K-Means clustering steps\n",
    "\n",
    "Here we're going to switch to a smaller `df_centers` DataFrame, but instead of a single point `s`, we are going to look at many points.\n",
    "\n",
    "We start out by defining `df_centers`.\n",
    "\n",
    "* Execute the following cell.  You don't need to make any changes."
   ]
  },
  {
   "cell_type": "code",
   "execution_count": null,
   "metadata": {
    "cell_id": "43c3c4f3e98f48618eb4b6c36daae0af",
    "deepnote_cell_height": 81,
    "deepnote_cell_type": "code",
    "deepnote_to_be_reexecuted": false,
    "execution_millis": 0,
    "execution_start": 1651256269676,
    "source_hash": "f1c97e07",
    "tags": []
   },
   "outputs": [],
   "source": [
    "df_centers = pd.DataFrame([[0,0], [5,0], [0,5]], columns=[\"x\",\"y\"])"
   ]
  },
  {
   "cell_type": "markdown",
   "metadata": {
    "cell_id": "0df07a75ad0e4c7eb3f7cd155497c83d",
    "deepnote_cell_height": 330.375,
    "deepnote_cell_type": "markdown",
    "tags": []
   },
   "source": [
    "Now we're going to generate a lot of data points using a scikit-learn function `make_blobs`.  This is similar to the `make_regression` function from one of this week's [videos](https://youtu.be/jwkBTZ0ZD7I), but instead of generating data on a line, it generates data in clusters.\n",
    "\n",
    "The `make_blobs` function accepts many different keyword arguments.  Here are the ones we are using.  Feel free to change these to see how the result changes.\n",
    "* `n_samples`: the number of points to generate.\n",
    "* `n_features`: how many columns for the resulting NumPy array.\n",
    "* `random_state`: to make sure we always get the same results.\n",
    "* `cluster_std`: how far spread out each individual cluster will be.  (The smaller this number, the more distinct the clusters will look.)\n",
    "* `centers`: how many clusters we want."
   ]
  },
  {
   "cell_type": "code",
   "execution_count": null,
   "metadata": {
    "cell_id": "01ea2f5970d443989799cd2f0c9f7638",
    "deepnote_cell_height": 99,
    "deepnote_cell_type": "code",
    "deepnote_to_be_reexecuted": false,
    "execution_millis": 1465,
    "execution_start": 1651255908320,
    "source_hash": "d7ba8ef6",
    "tags": []
   },
   "outputs": [],
   "source": [
    "from sklearn.datasets import make_blobs\n",
    "from sklearn.cluster import KMeans"
   ]
  },
  {
   "cell_type": "code",
   "execution_count": null,
   "metadata": {
    "cell_id": "8911f9b6c553442fb5d181e371218306",
    "deepnote_cell_height": 81,
    "deepnote_cell_type": "code",
    "deepnote_to_be_reexecuted": false,
    "execution_millis": 39,
    "execution_start": 1651255947349,
    "source_hash": "14896725",
    "tags": []
   },
   "outputs": [],
   "source": [
    "X, _ = make_blobs(n_samples=100, n_features=2, random_state=5, cluster_std=1.6, centers=4)"
   ]
  },
  {
   "cell_type": "markdown",
   "metadata": {
    "cell_id": "8807700304a64af2baf41e250ed6ca9d",
    "deepnote_cell_height": 120.1875,
    "deepnote_cell_type": "markdown",
    "tags": []
   },
   "source": [
    "* What type of object is `X`?\n",
    "* What type of object is `_`?\n",
    "* What is the shape of `X`?  Does it make sense?"
   ]
  },
  {
   "cell_type": "code",
   "execution_count": null,
   "metadata": {
    "cell_id": "a41e422f8daf4d92aea55403ea6c7453",
    "deepnote_cell_height": 66,
    "deepnote_cell_type": "code",
    "tags": []
   },
   "outputs": [],
   "source": []
  },
  {
   "cell_type": "markdown",
   "metadata": {
    "cell_id": "a8ab4c5feade4a8c89456534a776c304",
    "deepnote_cell_height": 69.390625,
    "deepnote_cell_type": "markdown",
    "tags": []
   },
   "source": [
    "* Convert `X` into a pandas DataFrame and save it with the variable name `df_pts`.  Use the column names \"x\" and \"y\"."
   ]
  },
  {
   "cell_type": "code",
   "execution_count": null,
   "metadata": {
    "cell_id": "9c6a59824abc4a218a5c6becbb5600bd",
    "deepnote_cell_height": 66,
    "deepnote_cell_type": "code",
    "tags": []
   },
   "outputs": [],
   "source": []
  },
  {
   "cell_type": "markdown",
   "metadata": {
    "cell_id": "787d25e766db4267bf9f46619b4de382",
    "deepnote_cell_height": 114.1875,
    "deepnote_cell_type": "markdown",
    "tags": []
   },
   "source": [
    "* Define two Altair charts using the following code.  In the `c_centers` chart, we are putting some keyword arguments into `mark_point()` (so instead of `mark_point()` we are using `mark_point(shape=\"diamond\", size=100, color=\"black\", fill=\"black\")`).  This will make the centers stand out more."
   ]
  },
  {
   "cell_type": "code",
   "execution_count": null,
   "metadata": {
    "cell_id": "7f422cc96f2a49a381c8b990fc61a3cb",
    "deepnote_cell_height": 315,
    "deepnote_cell_type": "code",
    "deepnote_output_heights": [
     361
    ],
    "deepnote_to_be_reexecuted": false,
    "execution_millis": 2,
    "execution_start": 1651256487984,
    "source_hash": "c2920220",
    "tags": []
   },
   "outputs": [],
   "source": [
    "c_pts = alt.Chart(df_pts).mark_circle().encode(\n",
    "    x=\"x\",\n",
    "    y=\"y\"\n",
    ")\n",
    "\n",
    "c_centers = alt.Chart(df_centers).mark_point(\n",
    "    shape=\"diamond\",\n",
    "    size=100,\n",
    "    color=\"black\",\n",
    "    fill=\"black\"\n",
    "    ).encode(\n",
    "    x=\"x\",\n",
    "    y=\"y\"\n",
    ")"
   ]
  },
  {
   "cell_type": "markdown",
   "metadata": {
    "cell_id": "7290f943c4e642b8afec58841a6c6eef",
    "deepnote_cell_height": 158.984375,
    "deepnote_cell_type": "markdown",
    "deepnote_to_be_reexecuted": false,
    "execution_millis": 1,
    "execution_start": 1651162575355,
    "source_hash": "d7ba8ef6",
    "tags": []
   },
   "source": [
    "* Display both of these charts on the same axes.  Instead of using `c_pts|c_centers` (for side-by-side) or `c_pts&c_centers` (for one above the other), use `c_pts+c_centers`.\n",
    "\n",
    "Think of these three diamonds as the random starting points for K-Means clustering.  (We secretly know that there are four clusters, which means it would be better to use 4 center points, but in real situations we won't know the true number of clusters, and we can use any number of center points we want.)"
   ]
  },
  {
   "cell_type": "code",
   "execution_count": null,
   "metadata": {
    "cell_id": "e371d94b4b78471cbc33341ed4421ab9",
    "deepnote_cell_height": 66,
    "deepnote_cell_type": "code",
    "tags": []
   },
   "outputs": [],
   "source": []
  },
  {
   "cell_type": "markdown",
   "metadata": {
    "cell_id": "5f5bec487af643ee9db83e4adbc4afcc",
    "deepnote_cell_height": 167.1875,
    "deepnote_cell_type": "markdown",
    "tags": []
   },
   "source": [
    "## Find which center is closest\n",
    "\n",
    "For each of the 100 points in `df_pts` (each of the 100 blue circles from the Altair chart), we want to find which of the center points is closest.\n",
    "\n",
    "For example, think of `df_pts.iloc[30]` as like the `s` Series from above."
   ]
  },
  {
   "cell_type": "code",
   "execution_count": null,
   "metadata": {
    "cell_id": "66ac629afa00463b988d99469078be5c",
    "deepnote_cell_height": 66,
    "deepnote_cell_type": "code",
    "tags": []
   },
   "outputs": [],
   "source": [
    "df_pts.iloc[30]"
   ]
  },
  {
   "cell_type": "markdown",
   "metadata": {
    "cell_id": "868b9ad89cb94fec89e74f1dd1c54364",
    "deepnote_cell_height": 136.59375,
    "deepnote_cell_type": "markdown",
    "tags": []
   },
   "source": [
    "* If we want to know which of the black diamonds is closest to `df_pts.iloc[30]`, we can use the `closest_arg` function above.\n",
    "\n",
    "If all your numbers are the same as mine, you should find that it's closest to point 2 and that the point at `iloc[29]` is closest to point 1.  The only possible answers you should see are 0,1,2, because there are only 3 center points."
   ]
  },
  {
   "cell_type": "code",
   "execution_count": null,
   "metadata": {
    "cell_id": "a8928006e2c74b18aeb16d2bb58fbe71",
    "deepnote_cell_height": 66,
    "deepnote_cell_type": "code",
    "tags": []
   },
   "outputs": [],
   "source": []
  },
  {
   "cell_type": "markdown",
   "metadata": {
    "cell_id": "61c6ff05086e43fb8972ea021557599c",
    "deepnote_cell_height": 190.09375,
    "deepnote_cell_type": "markdown",
    "tags": []
   },
   "source": [
    "## Using `apply`\n",
    "\n",
    "* Now apply that same function to each row in `df_pts` using `apply` and a lambda function.  Use code of the form `df_pts.apply(lambda s: ???, axis=???)`.  Think of the variable `s` in this lambda function as like `df_pts.iloc[30]` from above.\n",
    "\n",
    "The result should be a length 100 pandas Series."
   ]
  },
  {
   "cell_type": "code",
   "execution_count": null,
   "metadata": {
    "cell_id": "e8d229fa4123418bb2608dd750d10722",
    "deepnote_cell_height": 66,
    "deepnote_cell_type": "code",
    "tags": []
   },
   "outputs": [],
   "source": []
  },
  {
   "cell_type": "markdown",
   "metadata": {
    "cell_id": "cd1bfa6a0f764b03b209a9c1106aecbd",
    "deepnote_cell_height": 69.390625,
    "deepnote_cell_type": "markdown",
    "deepnote_to_be_reexecuted": false,
    "execution_millis": 3,
    "execution_start": 1651257067597,
    "source_hash": "b6a68258",
    "tags": []
   },
   "source": [
    "* Put this resulting pandas Series into a new column in `df_pts` called \"closest\"."
   ]
  },
  {
   "cell_type": "code",
   "execution_count": null,
   "metadata": {
    "cell_id": "c3e899ffa53f4dfcb1d757643f24f7bb",
    "deepnote_cell_height": 66,
    "deepnote_cell_type": "code",
    "tags": []
   },
   "outputs": [],
   "source": []
  },
  {
   "cell_type": "markdown",
   "metadata": {
    "cell_id": "f48457b66bf04b19ad14aa0faec504be",
    "deepnote_cell_height": 164.984375,
    "deepnote_cell_type": "markdown",
    "tags": []
   },
   "source": [
    "* Update the `c_pts` chart from above so that the color is determined by the \"closest\" column.  You shouldn't have to copy-paste anything.  Just use `c_pts = c_pts.encode(color=???)`.  Do you see how the points are now colored according to which of the black diamonds is closest?\n",
    "* Specify a Nominal encoding data type.\n",
    "* Redisplay `c_pts+c_centers`."
   ]
  },
  {
   "cell_type": "code",
   "execution_count": null,
   "metadata": {
    "cell_id": "a2a1978042804fbd9b88ac4330bcd41d",
    "deepnote_cell_height": 66,
    "deepnote_cell_type": "code",
    "tags": []
   },
   "outputs": [],
   "source": []
  },
  {
   "cell_type": "markdown",
   "metadata": {
    "cell_id": "80e908f0af6e4002890b572b6b2424df",
    "deepnote_cell_height": 228.984375,
    "deepnote_cell_type": "markdown",
    "tags": []
   },
   "source": [
    "## Finding the centroids\n",
    "\n",
    "Using pandas `groupby`, it is surprisingly easy to find the centroid of each individual cluster.  The intuition is that the coordinates of the centroid are given by the average value of the points in that group.\n",
    "\n",
    "* Evaluate `df_pts.groupby(\"closest\").???()`.  What method do we want to use to find the averages for each individual cluster?\n",
    "* Save the result with the name `df_new_centers`."
   ]
  },
  {
   "cell_type": "code",
   "execution_count": null,
   "metadata": {
    "cell_id": "ff03b7cd861d4f32b296cd50acf8b0d4",
    "deepnote_cell_height": 66,
    "deepnote_cell_type": "code",
    "tags": []
   },
   "outputs": [],
   "source": []
  },
  {
   "cell_type": "markdown",
   "metadata": {
    "cell_id": "af4ea8bc385c44b999a60e0e31b9d6c8",
    "deepnote_cell_height": 94.796875,
    "deepnote_cell_type": "markdown",
    "tags": []
   },
   "source": [
    "* Make a copy of `c_centers` named `c_new_centers`.\n",
    "* Change the `c_new_centers.data` attribute to use the new DataFrame."
   ]
  },
  {
   "cell_type": "code",
   "execution_count": null,
   "metadata": {
    "cell_id": "2daafa7f771d4c02a8259fdf0ba60da1",
    "deepnote_cell_height": 66,
    "deepnote_cell_type": "code",
    "tags": []
   },
   "outputs": [],
   "source": []
  },
  {
   "cell_type": "markdown",
   "metadata": {
    "cell_id": "cd63c7ae02994ca09e227e4dcfb03d4f",
    "deepnote_cell_height": 139.59375,
    "deepnote_cell_type": "markdown",
    "tags": []
   },
   "source": [
    "* Display `c_pts` and `c_new_centers` on the same axes.  Does it look like the black diamonds are now in the center of the clusters?\n",
    "* Do you see some points that will change color if we repeat the coloring step (because they're now closer to a different center point)?"
   ]
  },
  {
   "cell_type": "code",
   "execution_count": null,
   "metadata": {
    "cell_id": "368ba7f33122475694a5fcaca8fc62fe",
    "deepnote_cell_height": 66,
    "deepnote_cell_type": "code",
    "owner_user_id": "02be19f8-8497-4212-b8d0-46ca9f1d48b9",
    "tags": []
   },
   "outputs": [],
   "source": []
  },
  {
   "cell_type": "markdown",
   "metadata": {
    "cell_id": "dfb0d45a006347ca92dda961c7a6fb48",
    "deepnote_cell_height": 153.1875,
    "deepnote_cell_type": "markdown",
    "tags": []
   },
   "source": [
    "## Summary\n",
    "\n",
    "We have begun the K-Means clustering algorithm.  The next step would be to re-color the points, according to which of the new center points is closest.  Then we would compute the new centroids, and keep repeating this procedure until there is an iteration in which nothing changes."
   ]
  },
  {
   "cell_type": "markdown",
   "metadata": {
    "created_in_deepnote_cell": true,
    "deepnote_cell_type": "markdown",
    "tags": []
   },
   "source": [
    "<a style='text-decoration:none;line-height:16px;display:flex;color:#5B5B62;padding:10px;justify-content:end;' href='https://deepnote.com?utm_source=created-in-deepnote-cell&projectId=04b4bd66-a65d-4808-a623-0c01fa69c77a' target=\"_blank\">\n",
    "<img alt='Created in deepnote.com' style='display:inline;max-height:16px;margin:0px;margin-right:7.5px;' src='data:image/svg+xml;base64,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' > </img>\n",
    "Created in <span style='font-weight:600;margin-left:4px;'>Deepnote</span></a>"
   ]
  }
 ],
 "metadata": {
  "deepnote": {},
  "deepnote_execution_queue": [],
  "deepnote_notebook_id": "fb2d68ba-e035-4cef-b565-56c2359d8c34",
  "kernelspec": {
   "display_name": "Python 3 (ipykernel)",
   "language": "python",
   "name": "python3"
  },
  "language_info": {
   "codemirror_mode": {
    "name": "ipython",
    "version": 3
   },
   "file_extension": ".py",
   "mimetype": "text/x-python",
   "name": "python",
   "nbconvert_exporter": "python",
   "pygments_lexer": "ipython3",
   "version": "3.7.12"
  }
 },
 "nbformat": 4,
 "nbformat_minor": 4
}
