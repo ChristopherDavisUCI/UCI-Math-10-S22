{
 "cells": [
  {
   "cell_type": "markdown",
   "source": "# Homework 4\n\nAuthor: BLANK\n\nCollaborators: BLANK",
   "metadata": {
    "tags": [],
    "cell_id": "e6934dc6-8894-453e-8db2-c61c1e646e97",
    "deepnote_cell_type": "markdown",
    "deepnote_cell_height": 156.796875
   }
  },
  {
   "cell_type": "markdown",
   "source": "## Introduction\n\nIn this homework, we will use K-Means clustering on the \"penguins\" dataset to divide the data into 3 clusters.  The penguins dataset contains 3 different species of penguin.  Do different species of penguin appear in different clusters?",
   "metadata": {
    "cell_id": "b53c18001cfb4443bb04fea74f1ca396",
    "tags": [],
    "deepnote_cell_type": "markdown",
    "deepnote_cell_height": 130.796875
   }
  },
  {
   "cell_type": "markdown",
   "source": "## Question 1\n\n* Load the \"penguins\" dataset from Seaborn.  *Do not* drop any rows yet.\n* Define a list `numcols` containing the names of the columns which contain numeric values.  Create this list using list comprehension and the pandas function `is_numeric_dtype` as described in this [Stack Overflow answer](https://stackoverflow.com/a/45568283).",
   "metadata": {
    "cell_id": "545f5190983549178a3fd59f7487d602",
    "tags": [],
    "deepnote_cell_type": "markdown",
    "deepnote_cell_height": 170.1875
   }
  },
  {
   "cell_type": "markdown",
   "source": "## Question 2\n\n* Drop the rows in the DataFrame which are missing values in any of numeric columns.  (Don't drop any additional rows.)\n* Call the result `df`.  Use `.copy()` after your definition to make sure `df` is a brand new DataFrame.\n* Check your answer.  This resulting DataFrame should have 342 rows and 7 columns.\n",
   "metadata": {
    "cell_id": "4cf82a2937c84ed591b51c6ea60182d1",
    "tags": [],
    "deepnote_cell_type": "markdown",
    "deepnote_cell_height": 173.1875
   }
  },
  {
   "cell_type": "markdown",
   "source": "## Question 3\n\n* Instantiate a new `KMeans` object from the scikit-learn library, and specify that we want to find 3 different clusters.\n* Using the numeric columns from `df` and the `KMeans` object, compute clusters for this dataset, and store them in a new column named \"cluster\".\n* Check your answer: the cluster sizes should be approximately 170, 111, 61.  (There is some randomness in the clustering algorithm, so your numbers could be different.  Another time I got the sizes 165, 107, 70.)",
   "metadata": {
    "cell_id": "289f4ceb413e46bda0db83efcff21ffb",
    "tags": [],
    "deepnote_cell_type": "markdown",
    "deepnote_cell_height": 217.984375
   }
  },
  {
   "cell_type": "markdown",
   "source": "## Question 4\n\n* Make an Altair scatter plot chart, stored with the variable name `c`, that contains \"flipper_length_mm\" for the x-coordinate and \"bill_length_mm\" for the y-coordinate.\n* Use `scale=alt.Scale(zero=False)` in both the x-axis and the y-axis so that zero is not included in the axis domains.\n* Look at this chart.  Do you have a prediction for what the clusters will be?",
   "metadata": {
    "cell_id": "7c6c116419cc4453a3ee86f98c95b676",
    "tags": [],
    "deepnote_cell_type": "markdown",
    "deepnote_cell_height": 195.59375
   }
  },
  {
   "cell_type": "markdown",
   "source": "## Question 5\n\n* Make a new chart `c_cluster` from `c`, which encodes the \"cluster\" column as the color of the chart.  You should not retype any of the definition from `c`.  Instead just use `c.encode(color=???)` to define `c_cluster`.\n* Should the \"cluster\" value be encoded as a quantitative, a nominal, or an ordinal data encoding type?  Make this specification when you make your `c_cluster` chart.\n* Display `c_cluster`.  Does it match what you expected from the clustering?",
   "metadata": {
    "cell_id": "c267a6a0d56b465aafbf7c19ace73918",
    "tags": [],
    "deepnote_cell_type": "markdown",
    "deepnote_cell_height": 217.984375
   }
  },
  {
   "cell_type": "markdown",
   "source": "## Question 6\n\n* Make a new Altair chart, named `c_species`, which is derived from `c` this time by encoding the \"species\" column as the color.\n* Display this new chart.\n* Which chart seems to display more natural clusters?",
   "metadata": {
    "cell_id": "9946e5142a5b4cef96e1498581a5d198",
    "tags": [],
    "deepnote_cell_type": "markdown",
    "deepnote_cell_height": 195.59375
   }
  },
  {
   "cell_type": "markdown",
   "source": "## Question 7\n\n* Define a new Altair chart `c_cluster2` to be a copy of `c_cluster`.  (Altair charts have a `copy` method, just like pandas DataFrames.)\n* Change the x-axis encoding for `c_cluster2` so that it uses \"body_mass_g\" instead of \"flipper_length_mm\".\n* Display `c_cluster2`.\n* Why do you think the divisions in this clustering look so much more even than the divisions for from the original `c_cluster`?",
   "metadata": {
    "cell_id": "4760b9d6b771474a97408ebd5ca3e2a7",
    "tags": [],
    "deepnote_cell_type": "markdown",
    "deepnote_cell_height": 243.390625
   }
  },
  {
   "cell_type": "markdown",
   "source": "## Question 8\n\n* Define a new DataFrame `df1` which has the same data as `df`, but in which the numerical data is rescaled so that the columns from `numcols` have mean 0 and standard deviation 1.  Use `StandardScaler`.\n* Check your work by calling the `describe` method of `df1`.  You should see a mean of (approximately) 0 and a standard deviation of (approximately) 1 in each column.",
   "metadata": {
    "cell_id": "d3b2be263f5c402087833847a3d1f36b",
    "tags": [],
    "deepnote_cell_type": "markdown",
    "deepnote_cell_height": 192.59375
   }
  },
  {
   "cell_type": "markdown",
   "source": "## Question 9\n\n* Use a `KMeans` object to compute three clusters for `df1` using `numcols`, and again store the result in the \"cluster\" column.",
   "metadata": {
    "cell_id": "f39aa5250de64dc4bdb242cc755f3e9d",
    "tags": [],
    "deepnote_to_be_reexecuted": false,
    "source_hash": "7c921034",
    "execution_start": 1650760421331,
    "execution_millis": 1,
    "deepnote_cell_type": "markdown",
    "deepnote_cell_height": 144.796875
   }
  },
  {
   "cell_type": "markdown",
   "source": "## Question 10\n\n* Define new Altair charts `c_cluster_scaled` and `c_cluster2_scaled` to be copies of the `c_cluster` and `c_cluster2` charts from above.\n* You can change the DataFrame used for `c_cluster_scaled` by using `c_cluster_scaled.data = df1`.  Do this for both `c_cluster_scaled` and for `c_cluster2_scaled`.\n* Display the resulting charts.",
   "metadata": {
    "cell_id": "8b0f329713df43839b02178abe2fc933",
    "tags": [],
    "owner_user_id": "02be19f8-8497-4212-b8d0-46ca9f1d48b9",
    "deepnote_cell_type": "markdown",
    "deepnote_cell_height": 217.984375
   }
  },
  {
   "cell_type": "markdown",
   "source": "## Question 11\n\n* Evaluate\n```\nfor a,b in df.groupby(\"species\"):\n    print(a)\n    print(b[\"cluster\"].value_counts())\n```\nand\n```\nfor a,b in df1.groupby(\"species\"):\n    print(a)\n    print(b[\"cluster\"].value_counts())\n```\n* How does this information convey that the `df1` clusters do a better job of capturing the divisions into different species?",
   "metadata": {
    "cell_id": "7992a6d906904bfcbd2b0251595abca8",
    "tags": [],
    "deepnote_cell_type": "markdown",
    "deepnote_cell_height": 362.96875
   }
  },
  {
   "cell_type": "markdown",
   "source": "## Submission\n\nTo submit this homework, go to the Share option at the top right, and share the project to create a link, and then submit that link on Canvas.",
   "metadata": {
    "cell_id": "b82d8e32f036410a871b87f62d4ad81a",
    "tags": [],
    "deepnote_cell_type": "markdown",
    "deepnote_cell_height": 130.796875
   }
  },
  {
   "cell_type": "markdown",
   "source": "<a style='text-decoration:none;line-height:16px;display:flex;color:#5B5B62;padding:10px;justify-content:end;' href='https://deepnote.com?utm_source=created-in-deepnote-cell&projectId=810717f5-ba4a-4326-a0a8-288e8af651b4' target=\"_blank\">\n<img alt='Created in deepnote.com' style='display:inline;max-height:16px;margin:0px;margin-right:7.5px;' src='data:image/svg+xml;base64,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' > </img>\nCreated in <span style='font-weight:600;margin-left:4px;'>Deepnote</span></a>",
   "metadata": {
    "tags": [],
    "created_in_deepnote_cell": true,
    "deepnote_cell_type": "markdown"
   }
  }
 ],
 "nbformat": 4,
 "nbformat_minor": 2,
 "metadata": {
  "orig_nbformat": 2,
  "deepnote": {
   "is_reactive": false
  },
  "deepnote_notebook_id": "a23aed36-5a36-4942-bc42-dec3745bc18b",
  "deepnote_execution_queue": []
 }
}