{
 "cells": [
  {
   "cell_type": "markdown",
   "metadata": {
    "cell_id": "86b8ad67745f4895a92614d1bd7a7641",
    "deepnote_cell_height": 294.390625,
    "deepnote_cell_type": "markdown",
    "owner_user_id": "e590e996-b52f-4e48-8e79-35525bbb42f6",
    "tags": []
   },
   "source": [
    "# Week 5, Thursday Discussion\n",
    "\n",
    "__Reminders__:\n",
    " - Homework #4 due Tuesday 11:59pm\n",
    " - Quiz #4 Tuesday during last 20 minutes of discussion\n",
    "\n",
    "__Today__:\n",
    " - Work on Homework #4\n",
    " - Try this worksheet, if done with homework already"
   ]
  },
  {
   "cell_type": "markdown",
   "metadata": {
    "cell_id": "0a030d13f88d4aa5a3d11abe325fe195",
    "deepnote_cell_height": 130.796875,
    "deepnote_cell_type": "markdown",
    "tags": []
   },
   "source": [
    "## Data cleaning\n",
    "\n",
    "We already know a good way to import the Spotify dataset, by using `na_values`.  In this portion of the worksheet, let's see another way.  This will give practice with slicing, with `pd.to_numeric`, with `apply`, and with lambda functions."
   ]
  },
  {
   "cell_type": "markdown",
   "metadata": {
    "cell_id": "5876b680-0bf8-477d-9bfb-d8544300fce4",
    "deepnote_cell_height": 212.78125,
    "deepnote_cell_type": "markdown",
    "tags": []
   },
   "source": [
    "* Import the Spotify dataset as `df` but **do not** provide the `na_values` keyword argument.\n",
    "* Define `first_col = \"Danceability\"` and `last_col = \"Liveness\"`.\n",
    "* Get the sub-DataFrame of `df` consisting of the columns from `first_col` to `last_col` (including `last_col`).  Get this sub-DataFrame using `loc` and a slice from `first_col` to `last_col`.  (Hint 1.  Make sure you're slicing the columns axis, not the rows axis.  Hint 2.  Unlike most slicing in Python, if you slice using `loc`, the right endpoint *is* included.) Name the resulting DataFrame `df_sub`.  Apply `.copy()` so that `df_sub` is a brand new DataFrame.\n",
    "* Check your answer.  The `shape` of `df_sub` should be `(1556, 6)` and all the `dtypes` in `df_sub` should be \"object\"."
   ]
  },
  {
   "cell_type": "markdown",
   "metadata": {
    "cell_id": "d5d25bfcf58d48999f001f016d8f0a47",
    "deepnote_cell_height": 218.78125,
    "deepnote_cell_type": "markdown",
    "tags": []
   },
   "source": [
    "* Get the third column (in the Python numbering) of `df_sub` using `iloc` and name the result `s` (for Series).\n",
    "* Check the `type` of `s`.  Make sure it's really a Series.\n",
    "* Try applying the pandas `to_numeric` function to `s`.  What happens?\n",
    "* Try again, using the `errors` keyword argument ([documentation](https://pandas.pydata.org/docs/reference/api/pandas.to_numeric.html)) so that the non-numeric strings get converted to not-a-number.\n",
    "* Name the result `s2`.\n",
    "* Check your answer: the `type` of `s2` should be a Series and the `dtype` of `s2` should be \"float64\"."
   ]
  },
  {
   "cell_type": "markdown",
   "metadata": {
    "cell_id": "fb7c358fb98a4e0ab9c0a661b1668f3a",
    "deepnote_cell_height": 167.984375,
    "deepnote_cell_type": "markdown",
    "deepnote_to_be_reexecuted": false,
    "execution_millis": 4,
    "execution_start": 1650997408301,
    "source_hash": "22153669",
    "tags": []
   },
   "source": [
    "* Try evaluating `df_sub.apply(pd.to_numeric, axis=0)`.  What goes wrong?\n",
    "* Using the same approach and a lambda function, try the same thing where you also coerce non-numeric strings into not-a-number.  (In other words, use a mix of this `apply` strategy with the above `errors=` strategy.)\n",
    "* Call the result `df_sub2`.\n",
    "* Check your answer.  All the `dtypes` in `df_sub2` should be \"float64\"."
   ]
  },
  {
   "cell_type": "markdown",
   "metadata": {
    "cell_id": "ab211643e8384eb8bc0c6e171781772c",
    "deepnote_cell_height": 139.59375,
    "deepnote_cell_type": "markdown",
    "tags": []
   },
   "source": [
    "* Once `df_sub2` is correct, put the values from `df_sub2` back into the original DataFrame `df`.  (This should be relatively short.  You shouldn't have to use a for loop or anything.)\n",
    "* Check your answer.  Try evaluating `df.dtypes[\"Liveness\"]`.  You should see that this column is \"float64\".  (Side question.  What type of Python object is `df.dtypes`?)"
   ]
  },
  {
   "cell_type": "markdown",
   "metadata": {
    "cell_id": "d380258bd5934bc792a3066e64769d22",
    "deepnote_cell_height": 94.796875,
    "deepnote_cell_type": "markdown",
    "tags": []
   },
   "source": [
    "* Drop the rows that contain missing values from `df`.\n",
    "* Check your answer: the resulting `df` should be 1545 rows by 23 columns."
   ]
  },
  {
   "cell_type": "markdown",
   "metadata": {
    "cell_id": "b5fb1144f8364e25b521877aa9efa007",
    "deepnote_cell_height": 170.1875,
    "deepnote_cell_type": "markdown",
    "tags": []
   },
   "source": [
    "## Clustering\n",
    "\n",
    "* Divide the songs in the Spotify dataset into 5 distinct clusters by using a `KMeans` object from scikit-learn.  Fit the `KMeans` object using the data from columns `first_col:last_col`.\n",
    "* Add a \"cluster\" column to \"df\" containing the results of this clustering operation."
   ]
  },
  {
   "cell_type": "markdown",
   "metadata": {
    "cell_id": "f134d8a6b3224eae9c8012d681cd6663",
    "deepnote_cell_height": 332.984375,
    "deepnote_cell_type": "markdown",
    "tags": []
   },
   "source": [
    "## Plotting the results\n",
    "\n",
    "* Evaluate the following code.  How much of the code can you understand?  (Some of it is new, like the `bind=\"legend\"` and the `alt.condition`.)\n",
    "* Try clicking on the legend.  (For some reason, clicking on clusters 1-4 works fine for me, but clicking on cluster 0 only works for me if I click between the color and the number 0.)\n",
    "* Notice that the tooltip does not seem to work on the bar chart.  That is a bug in Altair related to interactivity.  One workaround for the bug is to add a meaningless `selection` object to the second chart.  Get the tooltip to work by adding the code `.add_selection(alt.selection_single())` right after the `transform_filter(sel)` part of the code (i.e., add this `selection` to the definition of the `c2` chart).\n",
    "* Which cluster contains the most songs?  Which cluster contains the fewest songs?  (Warning: If you repeat this experiment, it will probably be a different cluster number which is the smallest.)"
   ]
  },
  {
   "cell_type": "code",
   "execution_count": null,
   "metadata": {
    "cell_id": "b1fc84f023b44e21a33d39bebdc3e6be",
    "deepnote_cell_height": 81,
    "deepnote_cell_type": "code",
    "deepnote_to_be_reexecuted": false,
    "execution_millis": 0,
    "execution_start": 1650999689868,
    "source_hash": "3df74024",
    "tags": []
   },
   "outputs": [],
   "source": [
    "import altair as alt"
   ]
  },
  {
   "cell_type": "code",
   "execution_count": null,
   "metadata": {
    "cell_id": "815d2cb1ba954315bfa135e610ef7b36",
    "deepnote_cell_type": "code",
    "owner_user_id": "02be19f8-8497-4212-b8d0-46ca9f1d48b9",
    "tags": []
   },
   "outputs": [],
   "source": [
    "sel = alt.selection_single(fields=[\"cluster\"], bind=\"legend\")\n",
    "\n",
    "c1 = alt.Chart(df).mark_circle().encode(\n",
    "    x = \"Energy\",\n",
    "    y = \"Liveness\",\n",
    "    color = \"cluster:N\",\n",
    "    opacity = alt.condition(sel, alt.value(1), alt.value(0.1)),\n",
    "    tooltip = [\"Song Name\", \"Artist\"]\n",
    ").add_selection(sel)\n",
    "\n",
    "c2 = alt.Chart(df).mark_bar().encode(\n",
    "    y = alt.Y(\"count()\", scale=alt.Scale(domain=(0,1600))),\n",
    "    tooltip = \"count()\"\n",
    ").transform_filter(sel)\n",
    "\n",
    "c1|c2"
   ]
  }
 ],
 "metadata": {
  "deepnote": {},
  "deepnote_execution_queue": [],
  "deepnote_notebook_id": "7e6ec887-60ad-496d-bd0f-730edb91b58e",
  "kernelspec": {
   "display_name": "Python 3 (ipykernel)",
   "language": "python",
   "name": "python3"
  },
  "language_info": {
   "codemirror_mode": {
    "name": "ipython",
    "version": 3
   },
   "file_extension": ".py",
   "mimetype": "text/x-python",
   "name": "python",
   "nbconvert_exporter": "python",
   "pygments_lexer": "ipython3",
   "version": "3.7.12"
  }
 },
 "nbformat": 4,
 "nbformat_minor": 4
}
