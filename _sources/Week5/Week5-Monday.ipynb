{
 "cells": [
  {
   "cell_type": "markdown",
   "metadata": {
    "cell_id": "146e6abf-3ab0-4eb4-a8ce-93878cb50b3e",
    "deepnote_cell_height": 82,
    "deepnote_cell_type": "markdown",
    "tags": []
   },
   "source": [
    "# K-Means clustering"
   ]
  },
  {
   "cell_type": "markdown",
   "metadata": {
    "cell_id": "5b440e1d5e754742b30419de8d3b1f35",
    "deepnote_cell_height": 316.5625,
    "deepnote_cell_type": "markdown",
    "tags": []
   },
   "source": [
    "## Announcements\n",
    "\n",
    "* No in-class quiz this week.  No homework due this week.\n",
    "* Videos and video quizzes are posted.  Due Thursday.\n",
    "* Homework for next Tuesday (Week 6) is posted.  You will have time to work on the homework during discussion section tomorrow.\n",
    "* Midterms returned today.  The median score was high, 34.5/40 (good job!), so there won't be any curving.\n",
    "* Midterm solutions are in the \"Course Updates\" section on the Canvas homepage.\n",
    "* If you see a clear mistake in my grading (e.g., I added the points wrong), you must leave the exam with me today, together with a note explaining what the mistake is."
   ]
  },
  {
   "cell_type": "markdown",
   "metadata": {
    "cell_id": "53399cb433284f7291355f24c12f6d6e",
    "deepnote_cell_height": 1047.53125,
    "deepnote_cell_type": "markdown",
    "tags": []
   },
   "source": [
    "## Brief overview of Machine Learning\n",
    "\n",
    "Machine Learning is roughly divided into two big categories:\n",
    "* Supervised Learning\n",
    "* Unsupervised Learning\n",
    "In *supervised learning*, there is some \"correct\" value that you are aiming to calculate; in other words, in supervised learning, at least some of the data includes correct labels.  In *unsupervised learning*, the key difference is that the data does not include labels.\n",
    "\n",
    "Supervised learning is itself divided into two big categories:\n",
    "* Regression, in which we are seeking to compute some numerical value.\n",
    "* Classification, in which we are seeking to assign discrete labels.\n",
    "\n",
    "Examples of **regression** problems in supervised learning:\n",
    "* Predict the price of a house.\n",
    "* Predict the temperature at a certain time.\n",
    "* Predict the number of clicks on an ad.\n",
    "\n",
    "Examples of **classification** problems in supervised learning:\n",
    "* Identify a species of penguin from some measurements.\n",
    "* Determine if an email is spam or not.\n",
    "* Identify someone from a photograph.\n",
    "\n",
    "The most famous example of unsupervised learning is **clustering**.\n",
    "\n",
    "Here is a flowchart image I downloaded from the website [GeeksforGeeks](https://www.geeksforgeeks.org/flowchart-for-basic-machine-learning-models/).  Don't take it too literally, but it nicely illustrates some different categories of machine learning.\n",
    "\n",
    "![Flowchart](../images/flowchart.jpeg)"
   ]
  },
  {
   "cell_type": "markdown",
   "metadata": {
    "cell_id": "7690fc9f377f4e319c9b95525cba9cd2",
    "deepnote_cell_height": 70,
    "deepnote_cell_type": "markdown",
    "tags": []
   },
   "source": [
    "## Review of StandardScaler"
   ]
  },
  {
   "cell_type": "code",
   "execution_count": null,
   "metadata": {
    "cell_id": "b94a35f800f549f882842abfdd502968",
    "deepnote_cell_height": 81,
    "deepnote_cell_type": "code",
    "deepnote_to_be_reexecuted": false,
    "execution_millis": 1621,
    "execution_start": 1650917386034,
    "source_hash": "c9d2f67b",
    "tags": []
   },
   "outputs": [],
   "source": [
    "import seaborn as sns"
   ]
  },
  {
   "cell_type": "markdown",
   "metadata": {},
   "source": [
    "When we import the Spotify dataset, we always specify `na_values=\" \"`.  We don't have to do that when importing a dataset from Seaborn."
   ]
  },
  {
   "cell_type": "code",
   "execution_count": null,
   "metadata": {
    "cell_id": "31a429c4826644858bf944ffb4e29a3d",
    "deepnote_cell_height": 81,
    "deepnote_cell_type": "code",
    "deepnote_to_be_reexecuted": false,
    "execution_millis": 295,
    "execution_start": 1650917405514,
    "source_hash": "a47677b0",
    "tags": []
   },
   "outputs": [],
   "source": [
    "df = sns.load_dataset(\"iris\")"
   ]
  },
  {
   "cell_type": "code",
   "execution_count": null,
   "metadata": {
    "cell_id": "358b8584a1864b0b9ec00edb83b7a7c5",
    "deepnote_cell_height": 600,
    "deepnote_cell_type": "code",
    "deepnote_to_be_reexecuted": false,
    "execution_millis": 15,
    "execution_start": 1650917501697,
    "source_hash": "6bf2de06",
    "tags": []
   },
   "outputs": [
    {
     "data": {
      "application/vnd.deepnote.dataframe.v3+json": {
       "column_count": 5,
       "columns": [
        {
         "dtype": "bool",
         "name": "sepal_length",
         "stats": {
          "categories": [
           {
            "count": 150,
            "name": "False"
           }
          ],
          "nan_count": 0,
          "unique_count": 1
         }
        },
        {
         "dtype": "bool",
         "name": "sepal_width",
         "stats": {
          "categories": [
           {
            "count": 150,
            "name": "False"
           }
          ],
          "nan_count": 0,
          "unique_count": 1
         }
        },
        {
         "dtype": "bool",
         "name": "petal_length",
         "stats": {
          "categories": [
           {
            "count": 150,
            "name": "False"
           }
          ],
          "nan_count": 0,
          "unique_count": 1
         }
        },
        {
         "dtype": "bool",
         "name": "petal_width",
         "stats": {
          "categories": [
           {
            "count": 150,
            "name": "False"
           }
          ],
          "nan_count": 0,
          "unique_count": 1
         }
        },
        {
         "dtype": "bool",
         "name": "species",
         "stats": {
          "categories": [
           {
            "count": 150,
            "name": "False"
           }
          ],
          "nan_count": 0,
          "unique_count": 1
         }
        },
        {
         "dtype": "int64",
         "name": "_deepnote_index_column"
        }
       ],
       "row_count": 150,
       "rows": [
        {
         "_deepnote_index_column": 0,
         "petal_length": false,
         "petal_width": false,
         "sepal_length": false,
         "sepal_width": false,
         "species": false
        },
        {
         "_deepnote_index_column": 1,
         "petal_length": false,
         "petal_width": false,
         "sepal_length": false,
         "sepal_width": false,
         "species": false
        },
        {
         "_deepnote_index_column": 2,
         "petal_length": false,
         "petal_width": false,
         "sepal_length": false,
         "sepal_width": false,
         "species": false
        },
        {
         "_deepnote_index_column": 3,
         "petal_length": false,
         "petal_width": false,
         "sepal_length": false,
         "sepal_width": false,
         "species": false
        },
        {
         "_deepnote_index_column": 4,
         "petal_length": false,
         "petal_width": false,
         "sepal_length": false,
         "sepal_width": false,
         "species": false
        },
        {
         "_deepnote_index_column": 5,
         "petal_length": false,
         "petal_width": false,
         "sepal_length": false,
         "sepal_width": false,
         "species": false
        },
        {
         "_deepnote_index_column": 6,
         "petal_length": false,
         "petal_width": false,
         "sepal_length": false,
         "sepal_width": false,
         "species": false
        },
        {
         "_deepnote_index_column": 7,
         "petal_length": false,
         "petal_width": false,
         "sepal_length": false,
         "sepal_width": false,
         "species": false
        },
        {
         "_deepnote_index_column": 8,
         "petal_length": false,
         "petal_width": false,
         "sepal_length": false,
         "sepal_width": false,
         "species": false
        },
        {
         "_deepnote_index_column": 9,
         "petal_length": false,
         "petal_width": false,
         "sepal_length": false,
         "sepal_width": false,
         "species": false
        }
       ]
      },
      "text/html": [
       "<div>\n",
       "<style scoped>\n",
       "    .dataframe tbody tr th:only-of-type {\n",
       "        vertical-align: middle;\n",
       "    }\n",
       "\n",
       "    .dataframe tbody tr th {\n",
       "        vertical-align: top;\n",
       "    }\n",
       "\n",
       "    .dataframe thead th {\n",
       "        text-align: right;\n",
       "    }\n",
       "</style>\n",
       "<table border=\"1\" class=\"dataframe\">\n",
       "  <thead>\n",
       "    <tr style=\"text-align: right;\">\n",
       "      <th></th>\n",
       "      <th>sepal_length</th>\n",
       "      <th>sepal_width</th>\n",
       "      <th>petal_length</th>\n",
       "      <th>petal_width</th>\n",
       "      <th>species</th>\n",
       "    </tr>\n",
       "  </thead>\n",
       "  <tbody>\n",
       "    <tr>\n",
       "      <th>0</th>\n",
       "      <td>False</td>\n",
       "      <td>False</td>\n",
       "      <td>False</td>\n",
       "      <td>False</td>\n",
       "      <td>False</td>\n",
       "    </tr>\n",
       "    <tr>\n",
       "      <th>1</th>\n",
       "      <td>False</td>\n",
       "      <td>False</td>\n",
       "      <td>False</td>\n",
       "      <td>False</td>\n",
       "      <td>False</td>\n",
       "    </tr>\n",
       "    <tr>\n",
       "      <th>2</th>\n",
       "      <td>False</td>\n",
       "      <td>False</td>\n",
       "      <td>False</td>\n",
       "      <td>False</td>\n",
       "      <td>False</td>\n",
       "    </tr>\n",
       "    <tr>\n",
       "      <th>3</th>\n",
       "      <td>False</td>\n",
       "      <td>False</td>\n",
       "      <td>False</td>\n",
       "      <td>False</td>\n",
       "      <td>False</td>\n",
       "    </tr>\n",
       "    <tr>\n",
       "      <th>4</th>\n",
       "      <td>False</td>\n",
       "      <td>False</td>\n",
       "      <td>False</td>\n",
       "      <td>False</td>\n",
       "      <td>False</td>\n",
       "    </tr>\n",
       "    <tr>\n",
       "      <th>...</th>\n",
       "      <td>...</td>\n",
       "      <td>...</td>\n",
       "      <td>...</td>\n",
       "      <td>...</td>\n",
       "      <td>...</td>\n",
       "    </tr>\n",
       "    <tr>\n",
       "      <th>145</th>\n",
       "      <td>False</td>\n",
       "      <td>False</td>\n",
       "      <td>False</td>\n",
       "      <td>False</td>\n",
       "      <td>False</td>\n",
       "    </tr>\n",
       "    <tr>\n",
       "      <th>146</th>\n",
       "      <td>False</td>\n",
       "      <td>False</td>\n",
       "      <td>False</td>\n",
       "      <td>False</td>\n",
       "      <td>False</td>\n",
       "    </tr>\n",
       "    <tr>\n",
       "      <th>147</th>\n",
       "      <td>False</td>\n",
       "      <td>False</td>\n",
       "      <td>False</td>\n",
       "      <td>False</td>\n",
       "      <td>False</td>\n",
       "    </tr>\n",
       "    <tr>\n",
       "      <th>148</th>\n",
       "      <td>False</td>\n",
       "      <td>False</td>\n",
       "      <td>False</td>\n",
       "      <td>False</td>\n",
       "      <td>False</td>\n",
       "    </tr>\n",
       "    <tr>\n",
       "      <th>149</th>\n",
       "      <td>False</td>\n",
       "      <td>False</td>\n",
       "      <td>False</td>\n",
       "      <td>False</td>\n",
       "      <td>False</td>\n",
       "    </tr>\n",
       "  </tbody>\n",
       "</table>\n",
       "<p>150 rows × 5 columns</p>\n",
       "</div>"
      ],
      "text/plain": [
       "     sepal_length  sepal_width  petal_length  petal_width  species\n",
       "0           False        False         False        False    False\n",
       "1           False        False         False        False    False\n",
       "2           False        False         False        False    False\n",
       "3           False        False         False        False    False\n",
       "4           False        False         False        False    False\n",
       "..            ...          ...           ...          ...      ...\n",
       "145         False        False         False        False    False\n",
       "146         False        False         False        False    False\n",
       "147         False        False         False        False    False\n",
       "148         False        False         False        False    False\n",
       "149         False        False         False        False    False\n",
       "\n",
       "[150 rows x 5 columns]"
      ]
     },
     "execution_count": 5,
     "metadata": {},
     "output_type": "execute_result"
    }
   ],
   "source": [
    "df.isna()"
   ]
  },
  {
   "cell_type": "code",
   "execution_count": null,
   "metadata": {
    "cell_id": "5b25cca45b524ce2b174d42ae24b52c2",
    "deepnote_cell_height": 214.15625,
    "deepnote_cell_type": "code",
    "deepnote_output_heights": [
     117.171875
    ],
    "deepnote_to_be_reexecuted": false,
    "execution_millis": 471,
    "execution_start": 1650917502755,
    "source_hash": "db139358",
    "tags": []
   },
   "outputs": [
    {
     "data": {
      "text/plain": [
       "sepal_length    False\n",
       "sepal_width     False\n",
       "petal_length    False\n",
       "petal_width     False\n",
       "species         False\n",
       "dtype: bool"
      ]
     },
     "execution_count": 6,
     "metadata": {},
     "output_type": "execute_result"
    }
   ],
   "source": [
    "df.isna().any(axis=0)"
   ]
  },
  {
   "cell_type": "markdown",
   "metadata": {},
   "source": [
    "Notice that the default value of `axis` is `0`, so we could have not specified `axis=0` and gotten the same result."
   ]
  },
  {
   "cell_type": "code",
   "execution_count": null,
   "metadata": {
    "cell_id": "910144c9509f4f1d8adb5dd25081626c",
    "deepnote_cell_height": 701,
    "deepnote_cell_type": "code",
    "deepnote_to_be_reexecuted": false,
    "execution_millis": 7,
    "execution_start": 1650917565368,
    "source_hash": "5a367e98",
    "tags": [
     "output_scroll"
    ]
   },
   "outputs": [
    {
     "name": "stdout",
     "output_type": "stream",
     "text": [
      "Help on method any in module pandas.core.generic:\n",
      "\n",
      "any(axis=0, bool_only=None, skipna=True, level=None, **kwargs) method of pandas.core.frame.DataFrame instance\n",
      "    Return whether any element is True, potentially over an axis.\n",
      "    \n",
      "    Returns False unless there is at least one element within a series or\n",
      "    along a Dataframe axis that is True or equivalent (e.g. non-zero or\n",
      "    non-empty).\n",
      "    \n",
      "    Parameters\n",
      "    ----------\n",
      "    axis : {0 or 'index', 1 or 'columns', None}, default 0\n",
      "        Indicate which axis or axes should be reduced.\n",
      "    \n",
      "        * 0 / 'index' : reduce the index, return a Series whose index is the\n",
      "          original column labels.\n",
      "        * 1 / 'columns' : reduce the columns, return a Series whose index is the\n",
      "          original index.\n",
      "        * None : reduce all axes, return a scalar.\n",
      "    \n",
      "    bool_only : bool, default None\n",
      "        Include only boolean columns. If None, will attempt to use everything,\n",
      "        then use only boolean data. Not implemented for Series.\n",
      "    skipna : bool, default True\n",
      "        Exclude NA/null values. If the entire row/column is NA and skipna is\n",
      "        True, then the result will be False, as for an empty row/column.\n",
      "        If skipna is False, then NA are treated as True, because these are not\n",
      "        equal to zero.\n",
      "    level : int or level name, default None\n",
      "        If the axis is a MultiIndex (hierarchical), count along a\n",
      "        particular level, collapsing into a Series.\n",
      "    **kwargs : any, default None\n",
      "        Additional keywords have no effect but might be accepted for\n",
      "        compatibility with NumPy.\n",
      "    \n",
      "    Returns\n",
      "    -------\n",
      "    Series or DataFrame\n",
      "        If level is specified, then, DataFrame is returned; otherwise, Series\n",
      "        is returned.\n",
      "    \n",
      "    See Also\n",
      "    --------\n",
      "    numpy.any : Numpy version of this method.\n",
      "    Series.any : Return whether any element is True.\n",
      "    Series.all : Return whether all elements are True.\n",
      "    DataFrame.any : Return whether any element is True over requested axis.\n",
      "    DataFrame.all : Return whether all elements are True over requested axis.\n",
      "    \n",
      "    Examples\n",
      "    --------\n",
      "    **Series**\n",
      "    \n",
      "    For Series input, the output is a scalar indicating whether any element\n",
      "    is True.\n",
      "    \n",
      "    >>> pd.Series([False, False]).any()\n",
      "    False\n",
      "    >>> pd.Series([True, False]).any()\n",
      "    True\n",
      "    >>> pd.Series([]).any()\n",
      "    False\n",
      "    >>> pd.Series([np.nan]).any()\n",
      "    False\n",
      "    >>> pd.Series([np.nan]).any(skipna=False)\n",
      "    True\n",
      "    \n",
      "    **DataFrame**\n",
      "    \n",
      "    Whether each column contains at least one True element (the default).\n",
      "    \n",
      "    >>> df = pd.DataFrame({\"A\": [1, 2], \"B\": [0, 2], \"C\": [0, 0]})\n",
      "    >>> df\n",
      "       A  B  C\n",
      "    0  1  0  0\n",
      "    1  2  2  0\n",
      "    \n",
      "    >>> df.any()\n",
      "    A     True\n",
      "    B     True\n",
      "    C    False\n",
      "    dtype: bool\n",
      "    \n",
      "    Aggregating over the columns.\n",
      "    \n",
      "    >>> df = pd.DataFrame({\"A\": [True, False], \"B\": [1, 2]})\n",
      "    >>> df\n",
      "           A  B\n",
      "    0   True  1\n",
      "    1  False  2\n",
      "    \n",
      "    >>> df.any(axis='columns')\n",
      "    0    True\n",
      "    1    True\n",
      "    dtype: bool\n",
      "    \n",
      "    >>> df = pd.DataFrame({\"A\": [True, False], \"B\": [1, 0]})\n",
      "    >>> df\n",
      "           A  B\n",
      "    0   True  1\n",
      "    1  False  0\n",
      "    \n",
      "    >>> df.any(axis='columns')\n",
      "    0    True\n",
      "    1    False\n",
      "    dtype: bool\n",
      "    \n",
      "    Aggregating over the entire DataFrame with ``axis=None``.\n",
      "    \n",
      "    >>> df.any(axis=None)\n",
      "    True\n",
      "    \n",
      "    `any` for an empty DataFrame is an empty Series.\n",
      "    \n",
      "    >>> pd.DataFrame([]).any()\n",
      "    Series([], dtype: bool)\n",
      "\n"
     ]
    }
   ],
   "source": [
    "help(df.any)"
   ]
  },
  {
   "cell_type": "code",
   "execution_count": null,
   "metadata": {
    "cell_id": "5bd5038fe7e244c4ab2a70e4c017be7d",
    "deepnote_cell_height": 214.15625,
    "deepnote_cell_type": "code",
    "deepnote_output_heights": [
     117.171875
    ],
    "deepnote_to_be_reexecuted": false,
    "execution_millis": 8,
    "execution_start": 1650917548666,
    "source_hash": "3ba3a669",
    "tags": []
   },
   "outputs": [
    {
     "data": {
      "text/plain": [
       "sepal_length    False\n",
       "sepal_width     False\n",
       "petal_length    False\n",
       "petal_width     False\n",
       "species         False\n",
       "dtype: bool"
      ]
     },
     "execution_count": 8,
     "metadata": {},
     "output_type": "execute_result"
    }
   ],
   "source": [
    "df.isna().any()"
   ]
  },
  {
   "cell_type": "markdown",
   "metadata": {},
   "source": [
    "Here is a fast way to see if there are any missing values."
   ]
  },
  {
   "cell_type": "code",
   "execution_count": null,
   "metadata": {
    "cell_id": "80f0cb7f59264d8b87e177b9ceef65b0",
    "deepnote_cell_height": 118.1875,
    "deepnote_cell_type": "code",
    "deepnote_output_heights": [
     21.1875
    ],
    "deepnote_to_be_reexecuted": false,
    "execution_millis": 7,
    "execution_start": 1650917518534,
    "source_hash": "a36fbbd4",
    "tags": []
   },
   "outputs": [
    {
     "data": {
      "text/plain": [
       "False"
      ]
     },
     "execution_count": 7,
     "metadata": {},
     "output_type": "execute_result"
    }
   ],
   "source": [
    "df.isna().any().any()"
   ]
  },
  {
   "cell_type": "code",
   "execution_count": null,
   "metadata": {
    "cell_id": "84c0de9dc42b4bd1bfce764af0c5cc8e",
    "deepnote_cell_height": 118.1875,
    "deepnote_cell_type": "code",
    "deepnote_output_heights": [
     21.1875
    ],
    "deepnote_to_be_reexecuted": false,
    "execution_millis": 11,
    "execution_start": 1650917356930,
    "source_hash": "471234a4",
    "tags": []
   },
   "outputs": [
    {
     "data": {
      "text/plain": [
       "4"
      ]
     },
     "execution_count": 1,
     "metadata": {},
     "output_type": "execute_result"
    }
   ],
   "source": [
    "2+2"
   ]
  },
  {
   "cell_type": "code",
   "execution_count": null,
   "metadata": {
    "cell_id": "1e560c22b6f740749c5cc67239fc1b46",
    "deepnote_cell_height": 81,
    "deepnote_cell_type": "code",
    "deepnote_to_be_reexecuted": false,
    "execution_millis": 389,
    "execution_start": 1650917681088,
    "source_hash": "3f451225",
    "tags": []
   },
   "outputs": [],
   "source": [
    "penguin = sns.load_dataset(\"penguins\")"
   ]
  },
  {
   "cell_type": "code",
   "execution_count": null,
   "metadata": {
    "cell_id": "79d59c78a03747cda872033d4b4a1c08",
    "deepnote_cell_height": 329.34375,
    "deepnote_cell_type": "code",
    "deepnote_output_heights": [
     232.34375
    ],
    "deepnote_to_be_reexecuted": false,
    "execution_millis": 5,
    "execution_start": 1650917729676,
    "source_hash": "2beaa112",
    "tags": []
   },
   "outputs": [
    {
     "data": {
      "text/plain": [
       "0      False\n",
       "1      False\n",
       "2      False\n",
       "3       True\n",
       "4      False\n",
       "       ...  \n",
       "339     True\n",
       "340    False\n",
       "341    False\n",
       "342    False\n",
       "343    False\n",
       "Length: 344, dtype: bool"
      ]
     },
     "execution_count": 11,
     "metadata": {},
     "output_type": "execute_result"
    }
   ],
   "source": [
    "penguin.isna().any(axis=1)"
   ]
  },
  {
   "cell_type": "code",
   "execution_count": null,
   "metadata": {
    "cell_id": "2fc7ae2747544304b38256c4f08578a8",
    "deepnote_cell_height": 252.5625,
    "deepnote_cell_type": "code",
    "deepnote_output_heights": [
     155.5625
    ],
    "deepnote_to_be_reexecuted": false,
    "execution_millis": 6,
    "execution_start": 1650917764720,
    "source_hash": "ef0d93cf",
    "tags": []
   },
   "outputs": [
    {
     "data": {
      "text/plain": [
       "species                 Adelie\n",
       "island               Torgersen\n",
       "bill_length_mm             NaN\n",
       "bill_depth_mm              NaN\n",
       "flipper_length_mm          NaN\n",
       "body_mass_g                NaN\n",
       "sex                        NaN\n",
       "Name: 3, dtype: object"
      ]
     },
     "execution_count": 12,
     "metadata": {},
     "output_type": "execute_result"
    }
   ],
   "source": [
    "penguin.loc[3]"
   ]
  },
  {
   "cell_type": "code",
   "execution_count": null,
   "metadata": {
    "cell_id": "0079c3b0273044e89a01d2e36d4c6534",
    "deepnote_cell_height": 118.1875,
    "deepnote_cell_type": "code",
    "deepnote_output_heights": [
     21.1875
    ],
    "deepnote_to_be_reexecuted": false,
    "execution_millis": 8,
    "execution_start": 1650917788905,
    "source_hash": "211dc23b",
    "tags": []
   },
   "outputs": [
    {
     "data": {
      "text/plain": [
       "nan"
      ]
     },
     "execution_count": 13,
     "metadata": {},
     "output_type": "execute_result"
    }
   ],
   "source": [
    "penguin.loc[3,\"bill_depth_mm\"]"
   ]
  },
  {
   "cell_type": "code",
   "execution_count": null,
   "metadata": {
    "cell_id": "a83d70a1dc7146ba9f5c1d571503ed4a",
    "deepnote_cell_height": 118.1875,
    "deepnote_cell_type": "code",
    "deepnote_output_heights": [
     21.1875
    ],
    "deepnote_to_be_reexecuted": false,
    "execution_millis": 10,
    "execution_start": 1650917804712,
    "source_hash": "f0a3312f",
    "tags": []
   },
   "outputs": [
    {
     "data": {
      "text/plain": [
       "numpy.float64"
      ]
     },
     "execution_count": 14,
     "metadata": {},
     "output_type": "execute_result"
    }
   ],
   "source": [
    "type(penguin.loc[3,\"bill_depth_mm\"])"
   ]
  },
  {
   "cell_type": "code",
   "execution_count": null,
   "metadata": {
    "cell_id": "1c39e72c36574d77a72caef10b4653c6",
    "deepnote_cell_height": 81,
    "deepnote_cell_type": "code",
    "deepnote_to_be_reexecuted": false,
    "execution_millis": 2,
    "execution_start": 1650917843352,
    "source_hash": "c2602aa8",
    "tags": []
   },
   "outputs": [],
   "source": [
    "import numpy as np"
   ]
  },
  {
   "cell_type": "code",
   "execution_count": null,
   "metadata": {
    "cell_id": "9cd603deca234a558cffbcbb9990394d",
    "deepnote_cell_height": 118.1875,
    "deepnote_cell_type": "code",
    "deepnote_output_heights": [
     21.1875
    ],
    "deepnote_to_be_reexecuted": false,
    "execution_millis": 7,
    "execution_start": 1650917845978,
    "source_hash": "dafda765",
    "tags": []
   },
   "outputs": [
    {
     "data": {
      "text/plain": [
       "True"
      ]
     },
     "execution_count": 17,
     "metadata": {},
     "output_type": "execute_result"
    }
   ],
   "source": [
    "np.isnan(penguin.loc[3,\"bill_depth_mm\"])"
   ]
  },
  {
   "cell_type": "code",
   "execution_count": null,
   "metadata": {
    "cell_id": "3af22d652b484c2988fccc6dbfc176f7",
    "deepnote_cell_height": 118.1875,
    "deepnote_cell_type": "code",
    "deepnote_output_heights": [
     21.1875
    ],
    "deepnote_to_be_reexecuted": false,
    "execution_millis": 12,
    "execution_start": 1650917857586,
    "source_hash": "20bafa27",
    "tags": []
   },
   "outputs": [
    {
     "data": {
      "text/plain": [
       "False"
      ]
     },
     "execution_count": 18,
     "metadata": {},
     "output_type": "execute_result"
    }
   ],
   "source": [
    "penguin.loc[3,\"bill_depth_mm\"] == np.nan"
   ]
  },
  {
   "cell_type": "markdown",
   "metadata": {},
   "source": [
    "Potential for confusion: `np.nan` is considered by Python to not equal itself."
   ]
  },
  {
   "cell_type": "code",
   "execution_count": null,
   "metadata": {
    "cell_id": "45526768b0f74dc9a31936c5bd89d7ac",
    "deepnote_cell_height": 118.1875,
    "deepnote_cell_type": "code",
    "deepnote_output_heights": [
     21.1875
    ],
    "deepnote_to_be_reexecuted": false,
    "execution_millis": 6,
    "execution_start": 1650917869888,
    "source_hash": "73223eb8",
    "tags": []
   },
   "outputs": [
    {
     "data": {
      "text/plain": [
       "False"
      ]
     },
     "execution_count": 19,
     "metadata": {},
     "output_type": "execute_result"
    }
   ],
   "source": [
    "np.nan == np.nan"
   ]
  },
  {
   "cell_type": "code",
   "execution_count": null,
   "metadata": {
    "cell_id": "963f9c2187d748e5982c00af4b41b0c1",
    "deepnote_cell_height": 600,
    "deepnote_cell_type": "code",
    "deepnote_to_be_reexecuted": false,
    "execution_millis": 72,
    "execution_start": 1650917972956,
    "source_hash": "f804c160",
    "tags": []
   },
   "outputs": [
    {
     "data": {
      "application/vnd.deepnote.dataframe.v3+json": {
       "column_count": 5,
       "columns": [
        {
         "dtype": "float64",
         "name": "sepal_length",
         "stats": {
          "histogram": [
           {
            "bin_end": 4.66,
            "bin_start": 4.3,
            "count": 9
           },
           {
            "bin_end": 5.02,
            "bin_start": 4.66,
            "count": 23
           },
           {
            "bin_end": 5.38,
            "bin_start": 5.02,
            "count": 14
           },
           {
            "bin_end": 5.74,
            "bin_start": 5.38,
            "count": 27
           },
           {
            "bin_end": 6.1,
            "bin_start": 5.74,
            "count": 16
           },
           {
            "bin_end": 6.46,
            "bin_start": 6.1,
            "count": 26
           },
           {
            "bin_end": 6.82,
            "bin_start": 6.46,
            "count": 18
           },
           {
            "bin_end": 7.18,
            "bin_start": 6.82,
            "count": 6
           },
           {
            "bin_end": 7.54,
            "bin_start": 7.18,
            "count": 5
           },
           {
            "bin_end": 7.9,
            "bin_start": 7.54,
            "count": 6
           }
          ],
          "max": "7.9",
          "min": "4.3",
          "nan_count": 0,
          "unique_count": 35
         }
        },
        {
         "dtype": "float64",
         "name": "sepal_width",
         "stats": {
          "histogram": [
           {
            "bin_end": 2.24,
            "bin_start": 2,
            "count": 4
           },
           {
            "bin_end": 2.48,
            "bin_start": 2.24,
            "count": 7
           },
           {
            "bin_end": 2.72,
            "bin_start": 2.48,
            "count": 22
           },
           {
            "bin_end": 2.96,
            "bin_start": 2.72,
            "count": 24
           },
           {
            "bin_end": 3.2,
            "bin_start": 2.96,
            "count": 37
           },
           {
            "bin_end": 3.4400000000000004,
            "bin_start": 3.2,
            "count": 31
           },
           {
            "bin_end": 3.6800000000000006,
            "bin_start": 3.4400000000000004,
            "count": 10
           },
           {
            "bin_end": 3.9200000000000004,
            "bin_start": 3.6800000000000006,
            "count": 11
           },
           {
            "bin_end": 4.16,
            "bin_start": 3.9200000000000004,
            "count": 2
           },
           {
            "bin_end": 4.4,
            "bin_start": 4.16,
            "count": 2
           }
          ],
          "max": "4.4",
          "min": "2.0",
          "nan_count": 0,
          "unique_count": 23
         }
        },
        {
         "dtype": "float64",
         "name": "petal_length",
         "stats": {
          "histogram": [
           {
            "bin_end": 1.59,
            "bin_start": 1,
            "count": 37
           },
           {
            "bin_end": 2.18,
            "bin_start": 1.59,
            "count": 13
           },
           {
            "bin_end": 2.7700000000000005,
            "bin_start": 2.18,
            "count": 0
           },
           {
            "bin_end": 3.3600000000000003,
            "bin_start": 2.7700000000000005,
            "count": 3
           },
           {
            "bin_end": 3.95,
            "bin_start": 3.3600000000000003,
            "count": 8
           },
           {
            "bin_end": 4.540000000000001,
            "bin_start": 3.95,
            "count": 26
           },
           {
            "bin_end": 5.130000000000001,
            "bin_start": 4.540000000000001,
            "count": 29
           },
           {
            "bin_end": 5.720000000000001,
            "bin_start": 5.130000000000001,
            "count": 18
           },
           {
            "bin_end": 6.3100000000000005,
            "bin_start": 5.720000000000001,
            "count": 11
           },
           {
            "bin_end": 6.9,
            "bin_start": 6.3100000000000005,
            "count": 5
           }
          ],
          "max": "6.9",
          "min": "1.0",
          "nan_count": 0,
          "unique_count": 43
         }
        },
        {
         "dtype": "float64",
         "name": "petal_width",
         "stats": {
          "histogram": [
           {
            "bin_end": 0.33999999999999997,
            "bin_start": 0.1,
            "count": 41
           },
           {
            "bin_end": 0.58,
            "bin_start": 0.33999999999999997,
            "count": 8
           },
           {
            "bin_end": 0.82,
            "bin_start": 0.58,
            "count": 1
           },
           {
            "bin_end": 1.06,
            "bin_start": 0.82,
            "count": 7
           },
           {
            "bin_end": 1.3,
            "bin_start": 1.06,
            "count": 8
           },
           {
            "bin_end": 1.54,
            "bin_start": 1.3,
            "count": 33
           },
           {
            "bin_end": 1.78,
            "bin_start": 1.54,
            "count": 6
           },
           {
            "bin_end": 2.02,
            "bin_start": 1.78,
            "count": 23
           },
           {
            "bin_end": 2.2600000000000002,
            "bin_start": 2.02,
            "count": 9
           },
           {
            "bin_end": 2.5,
            "bin_start": 2.2600000000000002,
            "count": 14
           }
          ],
          "max": "2.5",
          "min": "0.1",
          "nan_count": 0,
          "unique_count": 22
         }
        },
        {
         "dtype": "object",
         "name": "species",
         "stats": {
          "categories": [
           {
            "count": 50,
            "name": "setosa"
           },
           {
            "count": 50,
            "name": "versicolor"
           },
           {
            "count": 50,
            "name": "virginica"
           }
          ],
          "nan_count": 0,
          "unique_count": 3
         }
        },
        {
         "dtype": "int64",
         "name": "_deepnote_index_column"
        }
       ],
       "row_count": 150,
       "rows": [
        {
         "_deepnote_index_column": 0,
         "petal_length": 1.4,
         "petal_width": 0.2,
         "sepal_length": 5.1,
         "sepal_width": 3.5,
         "species": "setosa"
        },
        {
         "_deepnote_index_column": 1,
         "petal_length": 1.4,
         "petal_width": 0.2,
         "sepal_length": 4.9,
         "sepal_width": 3,
         "species": "setosa"
        },
        {
         "_deepnote_index_column": 2,
         "petal_length": 1.3,
         "petal_width": 0.2,
         "sepal_length": 4.7,
         "sepal_width": 3.2,
         "species": "setosa"
        },
        {
         "_deepnote_index_column": 3,
         "petal_length": 1.5,
         "petal_width": 0.2,
         "sepal_length": 4.6,
         "sepal_width": 3.1,
         "species": "setosa"
        },
        {
         "_deepnote_index_column": 4,
         "petal_length": 1.4,
         "petal_width": 0.2,
         "sepal_length": 5,
         "sepal_width": 3.6,
         "species": "setosa"
        },
        {
         "_deepnote_index_column": 5,
         "petal_length": 1.7,
         "petal_width": 0.4,
         "sepal_length": 5.4,
         "sepal_width": 3.9,
         "species": "setosa"
        },
        {
         "_deepnote_index_column": 6,
         "petal_length": 1.4,
         "petal_width": 0.3,
         "sepal_length": 4.6,
         "sepal_width": 3.4,
         "species": "setosa"
        },
        {
         "_deepnote_index_column": 7,
         "petal_length": 1.5,
         "petal_width": 0.2,
         "sepal_length": 5,
         "sepal_width": 3.4,
         "species": "setosa"
        },
        {
         "_deepnote_index_column": 8,
         "petal_length": 1.4,
         "petal_width": 0.2,
         "sepal_length": 4.4,
         "sepal_width": 2.9,
         "species": "setosa"
        },
        {
         "_deepnote_index_column": 9,
         "petal_length": 1.5,
         "petal_width": 0.1,
         "sepal_length": 4.9,
         "sepal_width": 3.1,
         "species": "setosa"
        }
       ]
      },
      "text/html": [
       "<div>\n",
       "<style scoped>\n",
       "    .dataframe tbody tr th:only-of-type {\n",
       "        vertical-align: middle;\n",
       "    }\n",
       "\n",
       "    .dataframe tbody tr th {\n",
       "        vertical-align: top;\n",
       "    }\n",
       "\n",
       "    .dataframe thead th {\n",
       "        text-align: right;\n",
       "    }\n",
       "</style>\n",
       "<table border=\"1\" class=\"dataframe\">\n",
       "  <thead>\n",
       "    <tr style=\"text-align: right;\">\n",
       "      <th></th>\n",
       "      <th>sepal_length</th>\n",
       "      <th>sepal_width</th>\n",
       "      <th>petal_length</th>\n",
       "      <th>petal_width</th>\n",
       "      <th>species</th>\n",
       "    </tr>\n",
       "  </thead>\n",
       "  <tbody>\n",
       "    <tr>\n",
       "      <th>0</th>\n",
       "      <td>5.1</td>\n",
       "      <td>3.5</td>\n",
       "      <td>1.4</td>\n",
       "      <td>0.2</td>\n",
       "      <td>setosa</td>\n",
       "    </tr>\n",
       "    <tr>\n",
       "      <th>1</th>\n",
       "      <td>4.9</td>\n",
       "      <td>3.0</td>\n",
       "      <td>1.4</td>\n",
       "      <td>0.2</td>\n",
       "      <td>setosa</td>\n",
       "    </tr>\n",
       "    <tr>\n",
       "      <th>2</th>\n",
       "      <td>4.7</td>\n",
       "      <td>3.2</td>\n",
       "      <td>1.3</td>\n",
       "      <td>0.2</td>\n",
       "      <td>setosa</td>\n",
       "    </tr>\n",
       "    <tr>\n",
       "      <th>3</th>\n",
       "      <td>4.6</td>\n",
       "      <td>3.1</td>\n",
       "      <td>1.5</td>\n",
       "      <td>0.2</td>\n",
       "      <td>setosa</td>\n",
       "    </tr>\n",
       "    <tr>\n",
       "      <th>4</th>\n",
       "      <td>5.0</td>\n",
       "      <td>3.6</td>\n",
       "      <td>1.4</td>\n",
       "      <td>0.2</td>\n",
       "      <td>setosa</td>\n",
       "    </tr>\n",
       "    <tr>\n",
       "      <th>...</th>\n",
       "      <td>...</td>\n",
       "      <td>...</td>\n",
       "      <td>...</td>\n",
       "      <td>...</td>\n",
       "      <td>...</td>\n",
       "    </tr>\n",
       "    <tr>\n",
       "      <th>145</th>\n",
       "      <td>6.7</td>\n",
       "      <td>3.0</td>\n",
       "      <td>5.2</td>\n",
       "      <td>2.3</td>\n",
       "      <td>virginica</td>\n",
       "    </tr>\n",
       "    <tr>\n",
       "      <th>146</th>\n",
       "      <td>6.3</td>\n",
       "      <td>2.5</td>\n",
       "      <td>5.0</td>\n",
       "      <td>1.9</td>\n",
       "      <td>virginica</td>\n",
       "    </tr>\n",
       "    <tr>\n",
       "      <th>147</th>\n",
       "      <td>6.5</td>\n",
       "      <td>3.0</td>\n",
       "      <td>5.2</td>\n",
       "      <td>2.0</td>\n",
       "      <td>virginica</td>\n",
       "    </tr>\n",
       "    <tr>\n",
       "      <th>148</th>\n",
       "      <td>6.2</td>\n",
       "      <td>3.4</td>\n",
       "      <td>5.4</td>\n",
       "      <td>2.3</td>\n",
       "      <td>virginica</td>\n",
       "    </tr>\n",
       "    <tr>\n",
       "      <th>149</th>\n",
       "      <td>5.9</td>\n",
       "      <td>3.0</td>\n",
       "      <td>5.1</td>\n",
       "      <td>1.8</td>\n",
       "      <td>virginica</td>\n",
       "    </tr>\n",
       "  </tbody>\n",
       "</table>\n",
       "<p>150 rows × 5 columns</p>\n",
       "</div>"
      ],
      "text/plain": [
       "     sepal_length  sepal_width  petal_length  petal_width    species\n",
       "0             5.1          3.5           1.4          0.2     setosa\n",
       "1             4.9          3.0           1.4          0.2     setosa\n",
       "2             4.7          3.2           1.3          0.2     setosa\n",
       "3             4.6          3.1           1.5          0.2     setosa\n",
       "4             5.0          3.6           1.4          0.2     setosa\n",
       "..            ...          ...           ...          ...        ...\n",
       "145           6.7          3.0           5.2          2.3  virginica\n",
       "146           6.3          2.5           5.0          1.9  virginica\n",
       "147           6.5          3.0           5.2          2.0  virginica\n",
       "148           6.2          3.4           5.4          2.3  virginica\n",
       "149           5.9          3.0           5.1          1.8  virginica\n",
       "\n",
       "[150 rows x 5 columns]"
      ]
     },
     "execution_count": 20,
     "metadata": {},
     "output_type": "execute_result"
    }
   ],
   "source": [
    "df"
   ]
  },
  {
   "cell_type": "markdown",
   "metadata": {},
   "source": [
    "Here is the general routine for working with scikit-learn.\n",
    "* Import\n",
    "* Instantiate (create an object)\n",
    "* `fit`\n",
    "* `transform` or `predict`"
   ]
  },
  {
   "cell_type": "code",
   "execution_count": null,
   "metadata": {
    "cell_id": "f721bbf2dd17492e9aa9a2dbf99a04bf",
    "deepnote_cell_height": 99,
    "deepnote_cell_type": "code",
    "deepnote_to_be_reexecuted": false,
    "execution_millis": 9,
    "execution_start": 1650918046651,
    "source_hash": "83442f10",
    "tags": []
   },
   "outputs": [],
   "source": [
    "# import\n",
    "from sklearn.preprocessing import StandardScaler"
   ]
  },
  {
   "cell_type": "code",
   "execution_count": null,
   "metadata": {
    "cell_id": "a78f128c0dd24b0a9189de588bcf5d3a",
    "deepnote_cell_height": 99,
    "deepnote_cell_type": "code",
    "deepnote_to_be_reexecuted": false,
    "execution_millis": 0,
    "execution_start": 1650918070799,
    "source_hash": "c7b682e9",
    "tags": []
   },
   "outputs": [],
   "source": [
    "# instantiate\n",
    "scaler = StandardScaler()"
   ]
  },
  {
   "cell_type": "code",
   "execution_count": null,
   "metadata": {
    "cell_id": "5694ec9e0fba4926b969e752f38009d4",
    "deepnote_cell_height": 118.1875,
    "deepnote_cell_type": "code",
    "deepnote_output_heights": [
     21.1875
    ],
    "deepnote_to_be_reexecuted": false,
    "execution_millis": 13,
    "execution_start": 1650918078032,
    "source_hash": "3704af6a",
    "tags": []
   },
   "outputs": [
    {
     "data": {
      "text/plain": [
       "sklearn.preprocessing._data.StandardScaler"
      ]
     },
     "execution_count": 23,
     "metadata": {},
     "output_type": "execute_result"
    }
   ],
   "source": [
    "type(scaler)"
   ]
  },
  {
   "cell_type": "markdown",
   "metadata": {},
   "source": [
    "The following raises an error because `df` has a non-numeric column called \"species\"."
   ]
  },
  {
   "cell_type": "code",
   "execution_count": null,
   "metadata": {
    "cell_id": "2760f61340874855aa9e4c4c1c0c1466",
    "deepnote_cell_height": 144.1875,
    "deepnote_cell_type": "code",
    "deepnote_to_be_reexecuted": false,
    "execution_millis": 68,
    "execution_start": 1650918133183,
    "source_hash": "2ba086d",
    "tags": [
     "output_scroll"
    ]
   },
   "outputs": [
    {
     "ename": "ValueError",
     "evalue": "could not convert string to float: 'setosa'",
     "output_type": "error",
     "traceback": [
      "\u001b[0;31m---------------------------------------------------------------------------\u001b[0m",
      "\u001b[0;31mValueError\u001b[0m                                Traceback (most recent call last)",
      "\u001b[0;32m<ipython-input-24-23cd3abff8cf>\u001b[0m in \u001b[0;36m<module>\u001b[0;34m\u001b[0m\n\u001b[0;32m----> 1\u001b[0;31m \u001b[0mscaler\u001b[0m\u001b[0;34m.\u001b[0m\u001b[0mfit\u001b[0m\u001b[0;34m(\u001b[0m\u001b[0mdf\u001b[0m\u001b[0;34m)\u001b[0m\u001b[0;34m\u001b[0m\u001b[0;34m\u001b[0m\u001b[0m\n\u001b[0m",
      "\u001b[0;32m/shared-libs/python3.7/py/lib/python3.7/site-packages/sklearn/preprocessing/_data.py\u001b[0m in \u001b[0;36mfit\u001b[0;34m(self, X, y, sample_weight)\u001b[0m\n\u001b[1;32m    804\u001b[0m         \u001b[0;31m# Reset internal state before fitting\u001b[0m\u001b[0;34m\u001b[0m\u001b[0;34m\u001b[0m\u001b[0;34m\u001b[0m\u001b[0m\n\u001b[1;32m    805\u001b[0m         \u001b[0mself\u001b[0m\u001b[0;34m.\u001b[0m\u001b[0m_reset\u001b[0m\u001b[0;34m(\u001b[0m\u001b[0;34m)\u001b[0m\u001b[0;34m\u001b[0m\u001b[0;34m\u001b[0m\u001b[0m\n\u001b[0;32m--> 806\u001b[0;31m         \u001b[0;32mreturn\u001b[0m \u001b[0mself\u001b[0m\u001b[0;34m.\u001b[0m\u001b[0mpartial_fit\u001b[0m\u001b[0;34m(\u001b[0m\u001b[0mX\u001b[0m\u001b[0;34m,\u001b[0m \u001b[0my\u001b[0m\u001b[0;34m,\u001b[0m \u001b[0msample_weight\u001b[0m\u001b[0;34m)\u001b[0m\u001b[0;34m\u001b[0m\u001b[0;34m\u001b[0m\u001b[0m\n\u001b[0m\u001b[1;32m    807\u001b[0m \u001b[0;34m\u001b[0m\u001b[0m\n\u001b[1;32m    808\u001b[0m     \u001b[0;32mdef\u001b[0m \u001b[0mpartial_fit\u001b[0m\u001b[0;34m(\u001b[0m\u001b[0mself\u001b[0m\u001b[0;34m,\u001b[0m \u001b[0mX\u001b[0m\u001b[0;34m,\u001b[0m \u001b[0my\u001b[0m\u001b[0;34m=\u001b[0m\u001b[0;32mNone\u001b[0m\u001b[0;34m,\u001b[0m \u001b[0msample_weight\u001b[0m\u001b[0;34m=\u001b[0m\u001b[0;32mNone\u001b[0m\u001b[0;34m)\u001b[0m\u001b[0;34m:\u001b[0m\u001b[0;34m\u001b[0m\u001b[0;34m\u001b[0m\u001b[0m\n",
      "\u001b[0;32m/shared-libs/python3.7/py/lib/python3.7/site-packages/sklearn/preprocessing/_data.py\u001b[0m in \u001b[0;36mpartial_fit\u001b[0;34m(self, X, y, sample_weight)\u001b[0m\n\u001b[1;32m    845\u001b[0m             \u001b[0mdtype\u001b[0m\u001b[0;34m=\u001b[0m\u001b[0mFLOAT_DTYPES\u001b[0m\u001b[0;34m,\u001b[0m\u001b[0;34m\u001b[0m\u001b[0;34m\u001b[0m\u001b[0m\n\u001b[1;32m    846\u001b[0m             \u001b[0mforce_all_finite\u001b[0m\u001b[0;34m=\u001b[0m\u001b[0;34m\"allow-nan\"\u001b[0m\u001b[0;34m,\u001b[0m\u001b[0;34m\u001b[0m\u001b[0;34m\u001b[0m\u001b[0m\n\u001b[0;32m--> 847\u001b[0;31m             \u001b[0mreset\u001b[0m\u001b[0;34m=\u001b[0m\u001b[0mfirst_call\u001b[0m\u001b[0;34m,\u001b[0m\u001b[0;34m\u001b[0m\u001b[0;34m\u001b[0m\u001b[0m\n\u001b[0m\u001b[1;32m    848\u001b[0m         )\n\u001b[1;32m    849\u001b[0m         \u001b[0mn_features\u001b[0m \u001b[0;34m=\u001b[0m \u001b[0mX\u001b[0m\u001b[0;34m.\u001b[0m\u001b[0mshape\u001b[0m\u001b[0;34m[\u001b[0m\u001b[0;36m1\u001b[0m\u001b[0;34m]\u001b[0m\u001b[0;34m\u001b[0m\u001b[0;34m\u001b[0m\u001b[0m\n",
      "\u001b[0;32m/shared-libs/python3.7/py/lib/python3.7/site-packages/sklearn/base.py\u001b[0m in \u001b[0;36m_validate_data\u001b[0;34m(self, X, y, reset, validate_separately, **check_params)\u001b[0m\n\u001b[1;32m    564\u001b[0m             \u001b[0;32mraise\u001b[0m \u001b[0mValueError\u001b[0m\u001b[0;34m(\u001b[0m\u001b[0;34m\"Validation should be done on X, y or both.\"\u001b[0m\u001b[0;34m)\u001b[0m\u001b[0;34m\u001b[0m\u001b[0;34m\u001b[0m\u001b[0m\n\u001b[1;32m    565\u001b[0m         \u001b[0;32melif\u001b[0m \u001b[0;32mnot\u001b[0m \u001b[0mno_val_X\u001b[0m \u001b[0;32mand\u001b[0m \u001b[0mno_val_y\u001b[0m\u001b[0;34m:\u001b[0m\u001b[0;34m\u001b[0m\u001b[0;34m\u001b[0m\u001b[0m\n\u001b[0;32m--> 566\u001b[0;31m             \u001b[0mX\u001b[0m \u001b[0;34m=\u001b[0m \u001b[0mcheck_array\u001b[0m\u001b[0;34m(\u001b[0m\u001b[0mX\u001b[0m\u001b[0;34m,\u001b[0m \u001b[0;34m**\u001b[0m\u001b[0mcheck_params\u001b[0m\u001b[0;34m)\u001b[0m\u001b[0;34m\u001b[0m\u001b[0;34m\u001b[0m\u001b[0m\n\u001b[0m\u001b[1;32m    567\u001b[0m             \u001b[0mout\u001b[0m \u001b[0;34m=\u001b[0m \u001b[0mX\u001b[0m\u001b[0;34m\u001b[0m\u001b[0;34m\u001b[0m\u001b[0m\n\u001b[1;32m    568\u001b[0m         \u001b[0;32melif\u001b[0m \u001b[0mno_val_X\u001b[0m \u001b[0;32mand\u001b[0m \u001b[0;32mnot\u001b[0m \u001b[0mno_val_y\u001b[0m\u001b[0;34m:\u001b[0m\u001b[0;34m\u001b[0m\u001b[0;34m\u001b[0m\u001b[0m\n",
      "\u001b[0;32m/shared-libs/python3.7/py/lib/python3.7/site-packages/sklearn/utils/validation.py\u001b[0m in \u001b[0;36mcheck_array\u001b[0;34m(array, accept_sparse, accept_large_sparse, dtype, order, copy, force_all_finite, ensure_2d, allow_nd, ensure_min_samples, ensure_min_features, estimator)\u001b[0m\n\u001b[1;32m    744\u001b[0m                     \u001b[0marray\u001b[0m \u001b[0;34m=\u001b[0m \u001b[0marray\u001b[0m\u001b[0;34m.\u001b[0m\u001b[0mastype\u001b[0m\u001b[0;34m(\u001b[0m\u001b[0mdtype\u001b[0m\u001b[0;34m,\u001b[0m \u001b[0mcasting\u001b[0m\u001b[0;34m=\u001b[0m\u001b[0;34m\"unsafe\"\u001b[0m\u001b[0;34m,\u001b[0m \u001b[0mcopy\u001b[0m\u001b[0;34m=\u001b[0m\u001b[0;32mFalse\u001b[0m\u001b[0;34m)\u001b[0m\u001b[0;34m\u001b[0m\u001b[0;34m\u001b[0m\u001b[0m\n\u001b[1;32m    745\u001b[0m                 \u001b[0;32melse\u001b[0m\u001b[0;34m:\u001b[0m\u001b[0;34m\u001b[0m\u001b[0;34m\u001b[0m\u001b[0m\n\u001b[0;32m--> 746\u001b[0;31m                     \u001b[0marray\u001b[0m \u001b[0;34m=\u001b[0m \u001b[0mnp\u001b[0m\u001b[0;34m.\u001b[0m\u001b[0masarray\u001b[0m\u001b[0;34m(\u001b[0m\u001b[0marray\u001b[0m\u001b[0;34m,\u001b[0m \u001b[0morder\u001b[0m\u001b[0;34m=\u001b[0m\u001b[0morder\u001b[0m\u001b[0;34m,\u001b[0m \u001b[0mdtype\u001b[0m\u001b[0;34m=\u001b[0m\u001b[0mdtype\u001b[0m\u001b[0;34m)\u001b[0m\u001b[0;34m\u001b[0m\u001b[0;34m\u001b[0m\u001b[0m\n\u001b[0m\u001b[1;32m    747\u001b[0m             \u001b[0;32mexcept\u001b[0m \u001b[0mComplexWarning\u001b[0m \u001b[0;32mas\u001b[0m \u001b[0mcomplex_warning\u001b[0m\u001b[0;34m:\u001b[0m\u001b[0;34m\u001b[0m\u001b[0;34m\u001b[0m\u001b[0m\n\u001b[1;32m    748\u001b[0m                 raise ValueError(\n",
      "\u001b[0;32m/shared-libs/python3.7/py/lib/python3.7/site-packages/pandas/core/generic.py\u001b[0m in \u001b[0;36m__array__\u001b[0;34m(self, dtype)\u001b[0m\n\u001b[1;32m   1897\u001b[0m \u001b[0;34m\u001b[0m\u001b[0m\n\u001b[1;32m   1898\u001b[0m     \u001b[0;32mdef\u001b[0m \u001b[0m__array__\u001b[0m\u001b[0;34m(\u001b[0m\u001b[0mself\u001b[0m\u001b[0;34m,\u001b[0m \u001b[0mdtype\u001b[0m\u001b[0;34m=\u001b[0m\u001b[0;32mNone\u001b[0m\u001b[0;34m)\u001b[0m \u001b[0;34m->\u001b[0m \u001b[0mnp\u001b[0m\u001b[0;34m.\u001b[0m\u001b[0mndarray\u001b[0m\u001b[0;34m:\u001b[0m\u001b[0;34m\u001b[0m\u001b[0;34m\u001b[0m\u001b[0m\n\u001b[0;32m-> 1899\u001b[0;31m         \u001b[0;32mreturn\u001b[0m \u001b[0mnp\u001b[0m\u001b[0;34m.\u001b[0m\u001b[0masarray\u001b[0m\u001b[0;34m(\u001b[0m\u001b[0mself\u001b[0m\u001b[0;34m.\u001b[0m\u001b[0m_values\u001b[0m\u001b[0;34m,\u001b[0m \u001b[0mdtype\u001b[0m\u001b[0;34m=\u001b[0m\u001b[0mdtype\u001b[0m\u001b[0;34m)\u001b[0m\u001b[0;34m\u001b[0m\u001b[0;34m\u001b[0m\u001b[0m\n\u001b[0m\u001b[1;32m   1900\u001b[0m \u001b[0;34m\u001b[0m\u001b[0m\n\u001b[1;32m   1901\u001b[0m     def __array_wrap__(\n",
      "\u001b[0;31mValueError\u001b[0m: could not convert string to float: 'setosa'"
     ]
    }
   ],
   "source": [
    "scaler.fit(df)"
   ]
  },
  {
   "cell_type": "code",
   "execution_count": null,
   "metadata": {
    "cell_id": "568ad85c2096486997e94c9dbcb25349",
    "deepnote_cell_height": 156.5625,
    "deepnote_cell_type": "code",
    "deepnote_output_heights": [
     59.578125
    ],
    "deepnote_to_be_reexecuted": false,
    "execution_millis": 19,
    "execution_start": 1650918222735,
    "source_hash": "25d43fa0",
    "tags": []
   },
   "outputs": [
    {
     "data": {
      "text/plain": [
       "Index(['sepal_length', 'sepal_width', 'petal_length', 'petal_width',\n",
       "       'species'],\n",
       "      dtype='object')"
      ]
     },
     "execution_count": 25,
     "metadata": {},
     "output_type": "execute_result"
    }
   ],
   "source": [
    "df.columns"
   ]
  },
  {
   "cell_type": "code",
   "execution_count": 1,
   "metadata": {
    "cell_id": "761755ad65bf43e9817dd7463ad930a3",
    "deepnote_cell_height": 81,
    "deepnote_cell_type": "code",
    "deepnote_to_be_reexecuted": false,
    "execution_millis": 5,
    "execution_start": 1650918268192,
    "source_hash": "4bd36494",
    "tags": []
   },
   "outputs": [
    {
     "ename": "NameError",
     "evalue": "name 'df' is not defined",
     "output_type": "error",
     "traceback": [
      "\u001b[0;31m---------------------------------------------------------------------------\u001b[0m",
      "\u001b[0;31mNameError\u001b[0m                                 Traceback (most recent call last)",
      "\u001b[0;32m/var/folders/8j/gshrlmtn7dg4qtztj4d4t_w40000gn/T/ipykernel_8832/2656043098.py\u001b[0m in \u001b[0;36m<module>\u001b[0;34m\u001b[0m\n\u001b[0;32m----> 1\u001b[0;31m \u001b[0mnumcols\u001b[0m \u001b[0;34m=\u001b[0m \u001b[0;34m[\u001b[0m\u001b[0mc\u001b[0m \u001b[0;32mfor\u001b[0m \u001b[0mc\u001b[0m \u001b[0;32min\u001b[0m \u001b[0mdf\u001b[0m\u001b[0;34m.\u001b[0m\u001b[0mcolumns\u001b[0m \u001b[0;32mif\u001b[0m \u001b[0mc\u001b[0m \u001b[0;34m!=\u001b[0m \u001b[0;34m\"species\"\u001b[0m\u001b[0;34m]\u001b[0m\u001b[0;34m\u001b[0m\u001b[0;34m\u001b[0m\u001b[0m\n\u001b[0m",
      "\u001b[0;31mNameError\u001b[0m: name 'df' is not defined"
     ]
    }
   ],
   "source": [
    "numcols = [c for c in df.columns if c != \"species\"]"
   ]
  },
  {
   "cell_type": "code",
   "execution_count": null,
   "metadata": {
    "cell_id": "213c87ae0cce4fc7bff2c13a65306ab5",
    "deepnote_cell_height": 118.1875,
    "deepnote_cell_type": "code",
    "deepnote_output_heights": [
     21.1875
    ],
    "deepnote_to_be_reexecuted": false,
    "execution_millis": 9,
    "execution_start": 1650918282161,
    "source_hash": "42a7d54c",
    "tags": []
   },
   "outputs": [
    {
     "data": {
      "text/plain": [
       "['sepal_length', 'sepal_width', 'petal_length', 'petal_width']"
      ]
     },
     "execution_count": 27,
     "metadata": {},
     "output_type": "execute_result"
    }
   ],
   "source": [
    "[c for c in df.columns if not (c == \"species\")]"
   ]
  },
  {
   "cell_type": "code",
   "execution_count": null,
   "metadata": {
    "cell_id": "796007f56cbc49d2a95ffcfda662e8a9",
    "deepnote_cell_height": 118.1875,
    "deepnote_cell_type": "code",
    "deepnote_output_heights": [
     21.1875
    ],
    "deepnote_to_be_reexecuted": false,
    "execution_millis": 7,
    "execution_start": 1650918404583,
    "source_hash": "153c27bb",
    "tags": []
   },
   "outputs": [
    {
     "data": {
      "text/plain": [
       "['sepal_length', 'sepal_width', 'petal_length', 'petal_width']"
      ]
     },
     "execution_count": 28,
     "metadata": {},
     "output_type": "execute_result"
    }
   ],
   "source": [
    "numcols"
   ]
  },
  {
   "cell_type": "code",
   "execution_count": null,
   "metadata": {
    "cell_id": "71477f5aee3948f59bc68715b40d356e",
    "deepnote_cell_height": 118.1875,
    "deepnote_cell_type": "code",
    "deepnote_output_heights": [
     21.1875
    ],
    "deepnote_to_be_reexecuted": false,
    "execution_millis": 21,
    "execution_start": 1650918420779,
    "source_hash": "e1b55986",
    "tags": []
   },
   "outputs": [
    {
     "data": {
      "text/plain": [
       "StandardScaler()"
      ]
     },
     "execution_count": 29,
     "metadata": {},
     "output_type": "execute_result"
    }
   ],
   "source": [
    "# fit\n",
    "scaler.fit(df[numcols])"
   ]
  },
  {
   "cell_type": "code",
   "execution_count": null,
   "metadata": {
    "cell_id": "9bf478b6e4f24436b8189dfaf2a3388a",
    "deepnote_cell_height": 81,
    "deepnote_cell_type": "code",
    "deepnote_output_heights": [
     611
    ],
    "deepnote_to_be_reexecuted": false,
    "execution_millis": 6,
    "execution_start": 1650918485585,
    "source_hash": "780796cf",
    "tags": []
   },
   "outputs": [],
   "source": [
    "# transform\n",
    "df[numcols] = scaler.transform(df[numcols])"
   ]
  },
  {
   "cell_type": "code",
   "execution_count": null,
   "metadata": {
    "cell_id": "490234e346cb4d10a54eada5797495fe",
    "deepnote_cell_height": 600,
    "deepnote_cell_type": "code",
    "deepnote_to_be_reexecuted": false,
    "execution_millis": 36,
    "execution_start": 1650918488579,
    "source_hash": "f804c160",
    "tags": []
   },
   "outputs": [
    {
     "data": {
      "application/vnd.deepnote.dataframe.v3+json": {
       "column_count": 5,
       "columns": [
        {
         "dtype": "float64",
         "name": "sepal_length",
         "stats": {
          "histogram": [
           {
            "bin_end": -1.433819800249874,
            "bin_start": -1.870024133847019,
            "count": 9
           },
           {
            "bin_end": -0.9976154666527295,
            "bin_start": -1.433819800249874,
            "count": 23
           },
           {
            "bin_end": -0.5614111330555847,
            "bin_start": -0.9976154666527295,
            "count": 14
           },
           {
            "bin_end": -0.12520679945844004,
            "bin_start": -0.5614111330555847,
            "count": 27
           },
           {
            "bin_end": 0.31099753413870457,
            "bin_start": -0.12520679945844004,
            "count": 22
           },
           {
            "bin_end": 0.7472018677358496,
            "bin_start": 0.31099753413870457,
            "count": 20
           },
           {
            "bin_end": 1.1834062013329942,
            "bin_start": 0.7472018677358496,
            "count": 18
           },
           {
            "bin_end": 1.6196105349301388,
            "bin_start": 1.1834062013329942,
            "count": 6
           },
           {
            "bin_end": 2.0558148685272837,
            "bin_start": 1.6196105349301388,
            "count": 5
           },
           {
            "bin_end": 2.4920192021244283,
            "bin_start": 2.0558148685272837,
            "count": 6
           }
          ],
          "max": "2.4920192021244283",
          "min": "-1.870024133847019",
          "nan_count": 0,
          "unique_count": 35
         }
        },
        {
         "dtype": "float64",
         "name": "sepal_width",
         "stats": {
          "histogram": [
           {
            "bin_end": -1.8814749028873365,
            "bin_start": -2.433947141908088,
            "count": 4
           },
           {
            "bin_end": -1.3290026638665853,
            "bin_start": -1.8814749028873365,
            "count": 7
           },
           {
            "bin_end": -0.776530424845834,
            "bin_start": -1.3290026638665853,
            "count": 22
           },
           {
            "bin_end": -0.22405818582508275,
            "bin_start": -0.776530424845834,
            "count": 24
           },
           {
            "bin_end": 0.32841405319566874,
            "bin_start": -0.22405818582508275,
            "count": 50
           },
           {
            "bin_end": 0.8808862922164198,
            "bin_start": 0.32841405319566874,
            "count": 18
           },
           {
            "bin_end": 1.4333585312371708,
            "bin_start": 0.8808862922164198,
            "count": 10
           },
           {
            "bin_end": 1.9858307702579223,
            "bin_start": 1.4333585312371708,
            "count": 11
           },
           {
            "bin_end": 2.538303009278674,
            "bin_start": 1.9858307702579223,
            "count": 2
           },
           {
            "bin_end": 3.090775248299425,
            "bin_start": 2.538303009278674,
            "count": 2
           }
          ],
          "max": "3.090775248299425",
          "min": "-2.433947141908088",
          "nan_count": 0,
          "unique_count": 23
         }
        },
        {
         "dtype": "float64",
         "name": "petal_length",
         "stats": {
          "histogram": [
           {
            "bin_end": -1.2322354154869166,
            "bin_start": -1.567576234277175,
            "count": 37
           },
           {
            "bin_end": -0.8968945966966579,
            "bin_start": -1.2322354154869166,
            "count": 13
           },
           {
            "bin_end": -0.5615537779063995,
            "bin_start": -0.8968945966966579,
            "count": 0
           },
           {
            "bin_end": -0.2262129591161408,
            "bin_start": -0.5615537779063995,
            "count": 3
           },
           {
            "bin_end": 0.10912785967411787,
            "bin_start": -0.2262129591161408,
            "count": 8
           },
           {
            "bin_end": 0.4444686784643761,
            "bin_start": 0.10912785967411787,
            "count": 26
           },
           {
            "bin_end": 0.7798094972546348,
            "bin_start": 0.4444686784643761,
            "count": 29
           },
           {
            "bin_end": 1.1151503160448935,
            "bin_start": 0.7798094972546348,
            "count": 18
           },
           {
            "bin_end": 1.4504911348351521,
            "bin_start": 1.1151503160448935,
            "count": 11
           },
           {
            "bin_end": 1.7858319536254108,
            "bin_start": 1.4504911348351521,
            "count": 5
           }
          ],
          "max": "1.7858319536254108",
          "min": "-1.567576234277175",
          "nan_count": 0,
          "unique_count": 43
         }
        },
        {
         "dtype": "float64",
         "name": "petal_width",
         "stats": {
          "histogram": [
           {
            "bin_end": -1.1311592370013188,
            "bin_start": -1.4470764792980408,
            "count": 41
           },
           {
            "bin_end": -0.8152419947045968,
            "bin_start": -1.1311592370013188,
            "count": 8
           },
           {
            "bin_end": -0.4993247524078748,
            "bin_start": -0.8152419947045968,
            "count": 1
           },
           {
            "bin_end": -0.18340751011115275,
            "bin_start": -0.4993247524078748,
            "count": 7
           },
           {
            "bin_end": 0.13250973218556927,
            "bin_start": -0.18340751011115275,
            "count": 21
           },
           {
            "bin_end": 0.4484269744822913,
            "bin_start": 0.13250973218556927,
            "count": 20
           },
           {
            "bin_end": 0.7643442167790133,
            "bin_start": 0.4484269744822913,
            "count": 6
           },
           {
            "bin_end": 1.0802614590757353,
            "bin_start": 0.7643442167790133,
            "count": 23
           },
           {
            "bin_end": 1.3961787013724574,
            "bin_start": 1.0802614590757353,
            "count": 9
           },
           {
            "bin_end": 1.7120959436691794,
            "bin_start": 1.3961787013724574,
            "count": 14
           }
          ],
          "max": "1.7120959436691794",
          "min": "-1.4470764792980408",
          "nan_count": 0,
          "unique_count": 22
         }
        },
        {
         "dtype": "object",
         "name": "species",
         "stats": {
          "categories": [
           {
            "count": 50,
            "name": "setosa"
           },
           {
            "count": 50,
            "name": "versicolor"
           },
           {
            "count": 50,
            "name": "virginica"
           }
          ],
          "nan_count": 0,
          "unique_count": 3
         }
        },
        {
         "dtype": "int64",
         "name": "_deepnote_index_column"
        }
       ],
       "row_count": 150,
       "rows": [
        {
         "_deepnote_index_column": 0,
         "petal_length": -1.3402265266227624,
         "petal_width": -1.3154442950077403,
         "sepal_length": -0.9006811702978088,
         "sepal_width": 1.019004351971607,
         "species": "setosa"
        },
        {
         "_deepnote_index_column": 1,
         "petal_length": -1.3402265266227624,
         "petal_width": -1.3154442950077403,
         "sepal_length": -1.1430169111851105,
         "sepal_width": -0.13197947932162468,
         "species": "setosa"
        },
        {
         "_deepnote_index_column": 2,
         "petal_length": -1.3970639535363654,
         "petal_width": -1.3154442950077403,
         "sepal_length": -1.3853526520724133,
         "sepal_width": 0.32841405319566835,
         "species": "setosa"
        },
        {
         "_deepnote_index_column": 3,
         "petal_length": -1.2833890997091593,
         "petal_width": -1.3154442950077403,
         "sepal_length": -1.5065205225160652,
         "sepal_width": 0.09821728693702184,
         "species": "setosa"
        },
        {
         "_deepnote_index_column": 4,
         "petal_length": -1.3402265266227624,
         "petal_width": -1.3154442950077403,
         "sepal_length": -1.0218490407414595,
         "sepal_width": 1.2492011182302534,
         "species": "setosa"
        },
        {
         "_deepnote_index_column": 5,
         "petal_length": -1.1697142458819532,
         "petal_width": -1.0521799264271385,
         "sepal_length": -0.537177558966854,
         "sepal_width": 1.939791417006192,
         "species": "setosa"
        },
        {
         "_deepnote_index_column": 6,
         "petal_length": -1.3402265266227624,
         "petal_width": -1.1838121107174393,
         "sepal_length": -1.5065205225160652,
         "sepal_width": 0.7888075857129604,
         "species": "setosa"
        },
        {
         "_deepnote_index_column": 7,
         "petal_length": -1.2833890997091593,
         "petal_width": -1.3154442950077403,
         "sepal_length": -1.0218490407414595,
         "sepal_width": 0.7888075857129604,
         "species": "setosa"
        },
        {
         "_deepnote_index_column": 8,
         "petal_length": -1.3402265266227624,
         "petal_width": -1.3154442950077403,
         "sepal_length": -1.7488562634033669,
         "sepal_width": -0.3621762455802712,
         "species": "setosa"
        },
        {
         "_deepnote_index_column": 9,
         "petal_length": -1.2833890997091593,
         "petal_width": -1.4470764792980408,
         "sepal_length": -1.1430169111851105,
         "sepal_width": 0.09821728693702184,
         "species": "setosa"
        }
       ]
      },
      "text/html": [
       "<div>\n",
       "<style scoped>\n",
       "    .dataframe tbody tr th:only-of-type {\n",
       "        vertical-align: middle;\n",
       "    }\n",
       "\n",
       "    .dataframe tbody tr th {\n",
       "        vertical-align: top;\n",
       "    }\n",
       "\n",
       "    .dataframe thead th {\n",
       "        text-align: right;\n",
       "    }\n",
       "</style>\n",
       "<table border=\"1\" class=\"dataframe\">\n",
       "  <thead>\n",
       "    <tr style=\"text-align: right;\">\n",
       "      <th></th>\n",
       "      <th>sepal_length</th>\n",
       "      <th>sepal_width</th>\n",
       "      <th>petal_length</th>\n",
       "      <th>petal_width</th>\n",
       "      <th>species</th>\n",
       "    </tr>\n",
       "  </thead>\n",
       "  <tbody>\n",
       "    <tr>\n",
       "      <th>0</th>\n",
       "      <td>-0.900681</td>\n",
       "      <td>1.019004</td>\n",
       "      <td>-1.340227</td>\n",
       "      <td>-1.315444</td>\n",
       "      <td>setosa</td>\n",
       "    </tr>\n",
       "    <tr>\n",
       "      <th>1</th>\n",
       "      <td>-1.143017</td>\n",
       "      <td>-0.131979</td>\n",
       "      <td>-1.340227</td>\n",
       "      <td>-1.315444</td>\n",
       "      <td>setosa</td>\n",
       "    </tr>\n",
       "    <tr>\n",
       "      <th>2</th>\n",
       "      <td>-1.385353</td>\n",
       "      <td>0.328414</td>\n",
       "      <td>-1.397064</td>\n",
       "      <td>-1.315444</td>\n",
       "      <td>setosa</td>\n",
       "    </tr>\n",
       "    <tr>\n",
       "      <th>3</th>\n",
       "      <td>-1.506521</td>\n",
       "      <td>0.098217</td>\n",
       "      <td>-1.283389</td>\n",
       "      <td>-1.315444</td>\n",
       "      <td>setosa</td>\n",
       "    </tr>\n",
       "    <tr>\n",
       "      <th>4</th>\n",
       "      <td>-1.021849</td>\n",
       "      <td>1.249201</td>\n",
       "      <td>-1.340227</td>\n",
       "      <td>-1.315444</td>\n",
       "      <td>setosa</td>\n",
       "    </tr>\n",
       "    <tr>\n",
       "      <th>...</th>\n",
       "      <td>...</td>\n",
       "      <td>...</td>\n",
       "      <td>...</td>\n",
       "      <td>...</td>\n",
       "      <td>...</td>\n",
       "    </tr>\n",
       "    <tr>\n",
       "      <th>145</th>\n",
       "      <td>1.038005</td>\n",
       "      <td>-0.131979</td>\n",
       "      <td>0.819596</td>\n",
       "      <td>1.448832</td>\n",
       "      <td>virginica</td>\n",
       "    </tr>\n",
       "    <tr>\n",
       "      <th>146</th>\n",
       "      <td>0.553333</td>\n",
       "      <td>-1.282963</td>\n",
       "      <td>0.705921</td>\n",
       "      <td>0.922303</td>\n",
       "      <td>virginica</td>\n",
       "    </tr>\n",
       "    <tr>\n",
       "      <th>147</th>\n",
       "      <td>0.795669</td>\n",
       "      <td>-0.131979</td>\n",
       "      <td>0.819596</td>\n",
       "      <td>1.053935</td>\n",
       "      <td>virginica</td>\n",
       "    </tr>\n",
       "    <tr>\n",
       "      <th>148</th>\n",
       "      <td>0.432165</td>\n",
       "      <td>0.788808</td>\n",
       "      <td>0.933271</td>\n",
       "      <td>1.448832</td>\n",
       "      <td>virginica</td>\n",
       "    </tr>\n",
       "    <tr>\n",
       "      <th>149</th>\n",
       "      <td>0.068662</td>\n",
       "      <td>-0.131979</td>\n",
       "      <td>0.762758</td>\n",
       "      <td>0.790671</td>\n",
       "      <td>virginica</td>\n",
       "    </tr>\n",
       "  </tbody>\n",
       "</table>\n",
       "<p>150 rows × 5 columns</p>\n",
       "</div>"
      ],
      "text/plain": [
       "     sepal_length  sepal_width  petal_length  petal_width    species\n",
       "0       -0.900681     1.019004     -1.340227    -1.315444     setosa\n",
       "1       -1.143017    -0.131979     -1.340227    -1.315444     setosa\n",
       "2       -1.385353     0.328414     -1.397064    -1.315444     setosa\n",
       "3       -1.506521     0.098217     -1.283389    -1.315444     setosa\n",
       "4       -1.021849     1.249201     -1.340227    -1.315444     setosa\n",
       "..            ...          ...           ...          ...        ...\n",
       "145      1.038005    -0.131979      0.819596     1.448832  virginica\n",
       "146      0.553333    -1.282963      0.705921     0.922303  virginica\n",
       "147      0.795669    -0.131979      0.819596     1.053935  virginica\n",
       "148      0.432165     0.788808      0.933271     1.448832  virginica\n",
       "149      0.068662    -0.131979      0.762758     0.790671  virginica\n",
       "\n",
       "[150 rows x 5 columns]"
      ]
     },
     "execution_count": 32,
     "metadata": {},
     "output_type": "execute_result"
    }
   ],
   "source": [
    "df"
   ]
  },
  {
   "cell_type": "code",
   "execution_count": null,
   "metadata": {
    "cell_id": "fc1a6ad18093413bbe580382dd63861d",
    "deepnote_cell_height": 194.96875,
    "deepnote_cell_type": "code",
    "deepnote_output_heights": [
     97.96875
    ],
    "deepnote_to_be_reexecuted": false,
    "execution_millis": 8,
    "execution_start": 1650918514459,
    "source_hash": "b573a80f",
    "tags": []
   },
   "outputs": [
    {
     "data": {
      "text/plain": [
       "sepal_length   -4.736952e-16\n",
       "sepal_width    -7.815970e-16\n",
       "petal_length   -4.263256e-16\n",
       "petal_width    -4.736952e-16\n",
       "dtype: float64"
      ]
     },
     "execution_count": 33,
     "metadata": {},
     "output_type": "execute_result"
    }
   ],
   "source": [
    "df.mean(axis=0)"
   ]
  },
  {
   "cell_type": "code",
   "execution_count": null,
   "metadata": {
    "cell_id": "ad115aa8d9c34a39bfeeed95f9424271",
    "deepnote_cell_height": 194.96875,
    "deepnote_cell_type": "code",
    "deepnote_output_heights": [
     97.96875
    ],
    "deepnote_to_be_reexecuted": false,
    "execution_millis": 12,
    "execution_start": 1650918524308,
    "source_hash": "e82f509e",
    "tags": []
   },
   "outputs": [
    {
     "data": {
      "text/plain": [
       "sepal_length    1.00335\n",
       "sepal_width     1.00335\n",
       "petal_length    1.00335\n",
       "petal_width     1.00335\n",
       "dtype: float64"
      ]
     },
     "execution_count": 34,
     "metadata": {},
     "output_type": "execute_result"
    }
   ],
   "source": [
    "df.std(axis=0)"
   ]
  },
  {
   "cell_type": "markdown",
   "metadata": {
    "cell_id": "3982910f05764b81aa1149d28b648269",
    "deepnote_cell_height": 70,
    "deepnote_cell_type": "markdown",
    "tags": []
   },
   "source": [
    "## K-Means clustering\n",
    "\n",
    "The library scikit-learn uses a very consistent syntax, so what we do with `KMeans` should look very similar to what we did with `StandardScaler`."
   ]
  },
  {
   "cell_type": "code",
   "execution_count": null,
   "metadata": {
    "cell_id": "f60fce6751b140dd9cdf7b400342ec3e",
    "deepnote_cell_height": 99,
    "deepnote_cell_type": "code",
    "deepnote_to_be_reexecuted": false,
    "execution_millis": 7,
    "execution_start": 1650918648075,
    "source_hash": "5c75adad",
    "tags": []
   },
   "outputs": [],
   "source": [
    "# import\n",
    "from sklearn.cluster import KMeans"
   ]
  },
  {
   "cell_type": "code",
   "execution_count": null,
   "metadata": {
    "cell_id": "132c9f6c25154e71a8148fc79886d0b0",
    "deepnote_cell_height": 99,
    "deepnote_cell_type": "code",
    "deepnote_to_be_reexecuted": false,
    "execution_millis": 0,
    "execution_start": 1650918765856,
    "source_hash": "75eabf3",
    "tags": []
   },
   "outputs": [],
   "source": [
    "# instantiate/create\n",
    "kmeans = KMeans()"
   ]
  },
  {
   "cell_type": "code",
   "execution_count": null,
   "metadata": {
    "cell_id": "2133fd6b2d0b4e9389de71d273926617",
    "deepnote_cell_height": 118.1875,
    "deepnote_cell_type": "code",
    "deepnote_output_heights": [
     21.1875
    ],
    "deepnote_to_be_reexecuted": false,
    "execution_millis": 67,
    "execution_start": 1650918777894,
    "source_hash": "e7283cca",
    "tags": []
   },
   "outputs": [
    {
     "data": {
      "text/plain": [
       "sklearn.cluster._kmeans.KMeans"
      ]
     },
     "execution_count": 37,
     "metadata": {},
     "output_type": "execute_result"
    }
   ],
   "source": [
    "type(kmeans)"
   ]
  },
  {
   "cell_type": "code",
   "execution_count": null,
   "metadata": {
    "cell_id": "8d23c21601a2462488a42511ddc840c0",
    "deepnote_cell_height": 136.1875,
    "deepnote_cell_type": "code",
    "deepnote_output_heights": [
     21.1875
    ],
    "deepnote_to_be_reexecuted": false,
    "execution_millis": 103,
    "execution_start": 1650918824092,
    "source_hash": "6ae229e1",
    "tags": []
   },
   "outputs": [
    {
     "data": {
      "text/plain": [
       "KMeans()"
      ]
     },
     "execution_count": 38,
     "metadata": {},
     "output_type": "execute_result"
    }
   ],
   "source": [
    "# fit\n",
    "kmeans.fit(df[numcols])"
   ]
  },
  {
   "cell_type": "markdown",
   "metadata": {},
   "source": [
    "Here we put the predicted clusters into a new column called \"cluster\"."
   ]
  },
  {
   "cell_type": "code",
   "execution_count": null,
   "metadata": {
    "cell_id": "76856ffca1294b07abb493c88176e68f",
    "deepnote_cell_height": 81,
    "deepnote_cell_type": "code",
    "deepnote_output_heights": [
     136.375
    ],
    "deepnote_to_be_reexecuted": false,
    "execution_millis": 1,
    "execution_start": 1650918972349,
    "source_hash": "dd247349",
    "tags": []
   },
   "outputs": [],
   "source": [
    "# predict\n",
    "df[\"cluster\"] = kmeans.predict(df[numcols])"
   ]
  },
  {
   "cell_type": "code",
   "execution_count": null,
   "metadata": {
    "cell_id": "ef729f9649d94702903f009d4895a380",
    "deepnote_cell_height": 600,
    "deepnote_cell_type": "code",
    "deepnote_to_be_reexecuted": false,
    "execution_millis": 21,
    "execution_start": 1650918975072,
    "source_hash": "f804c160",
    "tags": []
   },
   "outputs": [
    {
     "data": {
      "application/vnd.deepnote.dataframe.v3+json": {
       "column_count": 6,
       "columns": [
        {
         "dtype": "float64",
         "name": "sepal_length",
         "stats": {
          "histogram": [
           {
            "bin_end": -1.433819800249874,
            "bin_start": -1.870024133847019,
            "count": 9
           },
           {
            "bin_end": -0.9976154666527295,
            "bin_start": -1.433819800249874,
            "count": 23
           },
           {
            "bin_end": -0.5614111330555847,
            "bin_start": -0.9976154666527295,
            "count": 14
           },
           {
            "bin_end": -0.12520679945844004,
            "bin_start": -0.5614111330555847,
            "count": 27
           },
           {
            "bin_end": 0.31099753413870457,
            "bin_start": -0.12520679945844004,
            "count": 22
           },
           {
            "bin_end": 0.7472018677358496,
            "bin_start": 0.31099753413870457,
            "count": 20
           },
           {
            "bin_end": 1.1834062013329942,
            "bin_start": 0.7472018677358496,
            "count": 18
           },
           {
            "bin_end": 1.6196105349301388,
            "bin_start": 1.1834062013329942,
            "count": 6
           },
           {
            "bin_end": 2.0558148685272837,
            "bin_start": 1.6196105349301388,
            "count": 5
           },
           {
            "bin_end": 2.4920192021244283,
            "bin_start": 2.0558148685272837,
            "count": 6
           }
          ],
          "max": "2.4920192021244283",
          "min": "-1.870024133847019",
          "nan_count": 0,
          "unique_count": 35
         }
        },
        {
         "dtype": "float64",
         "name": "sepal_width",
         "stats": {
          "histogram": [
           {
            "bin_end": -1.8814749028873365,
            "bin_start": -2.433947141908088,
            "count": 4
           },
           {
            "bin_end": -1.3290026638665853,
            "bin_start": -1.8814749028873365,
            "count": 7
           },
           {
            "bin_end": -0.776530424845834,
            "bin_start": -1.3290026638665853,
            "count": 22
           },
           {
            "bin_end": -0.22405818582508275,
            "bin_start": -0.776530424845834,
            "count": 24
           },
           {
            "bin_end": 0.32841405319566874,
            "bin_start": -0.22405818582508275,
            "count": 50
           },
           {
            "bin_end": 0.8808862922164198,
            "bin_start": 0.32841405319566874,
            "count": 18
           },
           {
            "bin_end": 1.4333585312371708,
            "bin_start": 0.8808862922164198,
            "count": 10
           },
           {
            "bin_end": 1.9858307702579223,
            "bin_start": 1.4333585312371708,
            "count": 11
           },
           {
            "bin_end": 2.538303009278674,
            "bin_start": 1.9858307702579223,
            "count": 2
           },
           {
            "bin_end": 3.090775248299425,
            "bin_start": 2.538303009278674,
            "count": 2
           }
          ],
          "max": "3.090775248299425",
          "min": "-2.433947141908088",
          "nan_count": 0,
          "unique_count": 23
         }
        },
        {
         "dtype": "float64",
         "name": "petal_length",
         "stats": {
          "histogram": [
           {
            "bin_end": -1.2322354154869166,
            "bin_start": -1.567576234277175,
            "count": 37
           },
           {
            "bin_end": -0.8968945966966579,
            "bin_start": -1.2322354154869166,
            "count": 13
           },
           {
            "bin_end": -0.5615537779063995,
            "bin_start": -0.8968945966966579,
            "count": 0
           },
           {
            "bin_end": -0.2262129591161408,
            "bin_start": -0.5615537779063995,
            "count": 3
           },
           {
            "bin_end": 0.10912785967411787,
            "bin_start": -0.2262129591161408,
            "count": 8
           },
           {
            "bin_end": 0.4444686784643761,
            "bin_start": 0.10912785967411787,
            "count": 26
           },
           {
            "bin_end": 0.7798094972546348,
            "bin_start": 0.4444686784643761,
            "count": 29
           },
           {
            "bin_end": 1.1151503160448935,
            "bin_start": 0.7798094972546348,
            "count": 18
           },
           {
            "bin_end": 1.4504911348351521,
            "bin_start": 1.1151503160448935,
            "count": 11
           },
           {
            "bin_end": 1.7858319536254108,
            "bin_start": 1.4504911348351521,
            "count": 5
           }
          ],
          "max": "1.7858319536254108",
          "min": "-1.567576234277175",
          "nan_count": 0,
          "unique_count": 43
         }
        },
        {
         "dtype": "float64",
         "name": "petal_width",
         "stats": {
          "histogram": [
           {
            "bin_end": -1.1311592370013188,
            "bin_start": -1.4470764792980408,
            "count": 41
           },
           {
            "bin_end": -0.8152419947045968,
            "bin_start": -1.1311592370013188,
            "count": 8
           },
           {
            "bin_end": -0.4993247524078748,
            "bin_start": -0.8152419947045968,
            "count": 1
           },
           {
            "bin_end": -0.18340751011115275,
            "bin_start": -0.4993247524078748,
            "count": 7
           },
           {
            "bin_end": 0.13250973218556927,
            "bin_start": -0.18340751011115275,
            "count": 21
           },
           {
            "bin_end": 0.4484269744822913,
            "bin_start": 0.13250973218556927,
            "count": 20
           },
           {
            "bin_end": 0.7643442167790133,
            "bin_start": 0.4484269744822913,
            "count": 6
           },
           {
            "bin_end": 1.0802614590757353,
            "bin_start": 0.7643442167790133,
            "count": 23
           },
           {
            "bin_end": 1.3961787013724574,
            "bin_start": 1.0802614590757353,
            "count": 9
           },
           {
            "bin_end": 1.7120959436691794,
            "bin_start": 1.3961787013724574,
            "count": 14
           }
          ],
          "max": "1.7120959436691794",
          "min": "-1.4470764792980408",
          "nan_count": 0,
          "unique_count": 22
         }
        },
        {
         "dtype": "object",
         "name": "species",
         "stats": {
          "categories": [
           {
            "count": 50,
            "name": "setosa"
           },
           {
            "count": 50,
            "name": "versicolor"
           },
           {
            "count": 50,
            "name": "virginica"
           }
          ],
          "nan_count": 0,
          "unique_count": 3
         }
        },
        {
         "dtype": "int32",
         "name": "cluster",
         "stats": {
          "histogram": [
           {
            "bin_end": 0.7,
            "bin_start": 0,
            "count": 20
           },
           {
            "bin_end": 1.4,
            "bin_start": 0.7,
            "count": 21
           },
           {
            "bin_end": 2.0999999999999996,
            "bin_start": 1.4,
            "count": 36
           },
           {
            "bin_end": 2.8,
            "bin_start": 2.0999999999999996,
            "count": 0
           },
           {
            "bin_end": 3.5,
            "bin_start": 2.8,
            "count": 8
           },
           {
            "bin_end": 4.199999999999999,
            "bin_start": 3.5,
            "count": 18
           },
           {
            "bin_end": 4.8999999999999995,
            "bin_start": 4.199999999999999,
            "count": 0
           },
           {
            "bin_end": 5.6,
            "bin_start": 4.8999999999999995,
            "count": 12
           },
           {
            "bin_end": 6.3,
            "bin_start": 5.6,
            "count": 17
           },
           {
            "bin_end": 7,
            "bin_start": 6.3,
            "count": 18
           }
          ],
          "max": "7",
          "min": "0",
          "nan_count": 0,
          "unique_count": 8
         }
        },
        {
         "dtype": "int64",
         "name": "_deepnote_index_column"
        }
       ],
       "row_count": 150,
       "rows": [
        {
         "_deepnote_index_column": 0,
         "cluster": 1,
         "petal_length": -1.3402265266227624,
         "petal_width": -1.3154442950077403,
         "sepal_length": -0.9006811702978088,
         "sepal_width": 1.019004351971607,
         "species": "setosa"
        },
        {
         "_deepnote_index_column": 1,
         "cluster": 6,
         "petal_length": -1.3402265266227624,
         "petal_width": -1.3154442950077403,
         "sepal_length": -1.1430169111851105,
         "sepal_width": -0.13197947932162468,
         "species": "setosa"
        },
        {
         "_deepnote_index_column": 2,
         "cluster": 6,
         "petal_length": -1.3970639535363654,
         "petal_width": -1.3154442950077403,
         "sepal_length": -1.3853526520724133,
         "sepal_width": 0.32841405319566835,
         "species": "setosa"
        },
        {
         "_deepnote_index_column": 3,
         "cluster": 6,
         "petal_length": -1.2833890997091593,
         "petal_width": -1.3154442950077403,
         "sepal_length": -1.5065205225160652,
         "sepal_width": 0.09821728693702184,
         "species": "setosa"
        },
        {
         "_deepnote_index_column": 4,
         "cluster": 1,
         "petal_length": -1.3402265266227624,
         "petal_width": -1.3154442950077403,
         "sepal_length": -1.0218490407414595,
         "sepal_width": 1.2492011182302534,
         "species": "setosa"
        },
        {
         "_deepnote_index_column": 5,
         "cluster": 5,
         "petal_length": -1.1697142458819532,
         "petal_width": -1.0521799264271385,
         "sepal_length": -0.537177558966854,
         "sepal_width": 1.939791417006192,
         "species": "setosa"
        },
        {
         "_deepnote_index_column": 6,
         "cluster": 1,
         "petal_length": -1.3402265266227624,
         "petal_width": -1.1838121107174393,
         "sepal_length": -1.5065205225160652,
         "sepal_width": 0.7888075857129604,
         "species": "setosa"
        },
        {
         "_deepnote_index_column": 7,
         "cluster": 1,
         "petal_length": -1.2833890997091593,
         "petal_width": -1.3154442950077403,
         "sepal_length": -1.0218490407414595,
         "sepal_width": 0.7888075857129604,
         "species": "setosa"
        },
        {
         "_deepnote_index_column": 8,
         "cluster": 6,
         "petal_length": -1.3402265266227624,
         "petal_width": -1.3154442950077403,
         "sepal_length": -1.7488562634033669,
         "sepal_width": -0.3621762455802712,
         "species": "setosa"
        },
        {
         "_deepnote_index_column": 9,
         "cluster": 6,
         "petal_length": -1.2833890997091593,
         "petal_width": -1.4470764792980408,
         "sepal_length": -1.1430169111851105,
         "sepal_width": 0.09821728693702184,
         "species": "setosa"
        }
       ]
      },
      "text/html": [
       "<div>\n",
       "<style scoped>\n",
       "    .dataframe tbody tr th:only-of-type {\n",
       "        vertical-align: middle;\n",
       "    }\n",
       "\n",
       "    .dataframe tbody tr th {\n",
       "        vertical-align: top;\n",
       "    }\n",
       "\n",
       "    .dataframe thead th {\n",
       "        text-align: right;\n",
       "    }\n",
       "</style>\n",
       "<table border=\"1\" class=\"dataframe\">\n",
       "  <thead>\n",
       "    <tr style=\"text-align: right;\">\n",
       "      <th></th>\n",
       "      <th>sepal_length</th>\n",
       "      <th>sepal_width</th>\n",
       "      <th>petal_length</th>\n",
       "      <th>petal_width</th>\n",
       "      <th>species</th>\n",
       "      <th>cluster</th>\n",
       "    </tr>\n",
       "  </thead>\n",
       "  <tbody>\n",
       "    <tr>\n",
       "      <th>0</th>\n",
       "      <td>-0.900681</td>\n",
       "      <td>1.019004</td>\n",
       "      <td>-1.340227</td>\n",
       "      <td>-1.315444</td>\n",
       "      <td>setosa</td>\n",
       "      <td>1</td>\n",
       "    </tr>\n",
       "    <tr>\n",
       "      <th>1</th>\n",
       "      <td>-1.143017</td>\n",
       "      <td>-0.131979</td>\n",
       "      <td>-1.340227</td>\n",
       "      <td>-1.315444</td>\n",
       "      <td>setosa</td>\n",
       "      <td>6</td>\n",
       "    </tr>\n",
       "    <tr>\n",
       "      <th>2</th>\n",
       "      <td>-1.385353</td>\n",
       "      <td>0.328414</td>\n",
       "      <td>-1.397064</td>\n",
       "      <td>-1.315444</td>\n",
       "      <td>setosa</td>\n",
       "      <td>6</td>\n",
       "    </tr>\n",
       "    <tr>\n",
       "      <th>3</th>\n",
       "      <td>-1.506521</td>\n",
       "      <td>0.098217</td>\n",
       "      <td>-1.283389</td>\n",
       "      <td>-1.315444</td>\n",
       "      <td>setosa</td>\n",
       "      <td>6</td>\n",
       "    </tr>\n",
       "    <tr>\n",
       "      <th>4</th>\n",
       "      <td>-1.021849</td>\n",
       "      <td>1.249201</td>\n",
       "      <td>-1.340227</td>\n",
       "      <td>-1.315444</td>\n",
       "      <td>setosa</td>\n",
       "      <td>1</td>\n",
       "    </tr>\n",
       "    <tr>\n",
       "      <th>...</th>\n",
       "      <td>...</td>\n",
       "      <td>...</td>\n",
       "      <td>...</td>\n",
       "      <td>...</td>\n",
       "      <td>...</td>\n",
       "      <td>...</td>\n",
       "    </tr>\n",
       "    <tr>\n",
       "      <th>145</th>\n",
       "      <td>1.038005</td>\n",
       "      <td>-0.131979</td>\n",
       "      <td>0.819596</td>\n",
       "      <td>1.448832</td>\n",
       "      <td>virginica</td>\n",
       "      <td>0</td>\n",
       "    </tr>\n",
       "    <tr>\n",
       "      <th>146</th>\n",
       "      <td>0.553333</td>\n",
       "      <td>-1.282963</td>\n",
       "      <td>0.705921</td>\n",
       "      <td>0.922303</td>\n",
       "      <td>virginica</td>\n",
       "      <td>7</td>\n",
       "    </tr>\n",
       "    <tr>\n",
       "      <th>147</th>\n",
       "      <td>0.795669</td>\n",
       "      <td>-0.131979</td>\n",
       "      <td>0.819596</td>\n",
       "      <td>1.053935</td>\n",
       "      <td>virginica</td>\n",
       "      <td>0</td>\n",
       "    </tr>\n",
       "    <tr>\n",
       "      <th>148</th>\n",
       "      <td>0.432165</td>\n",
       "      <td>0.788808</td>\n",
       "      <td>0.933271</td>\n",
       "      <td>1.448832</td>\n",
       "      <td>virginica</td>\n",
       "      <td>0</td>\n",
       "    </tr>\n",
       "    <tr>\n",
       "      <th>149</th>\n",
       "      <td>0.068662</td>\n",
       "      <td>-0.131979</td>\n",
       "      <td>0.762758</td>\n",
       "      <td>0.790671</td>\n",
       "      <td>virginica</td>\n",
       "      <td>2</td>\n",
       "    </tr>\n",
       "  </tbody>\n",
       "</table>\n",
       "<p>150 rows × 6 columns</p>\n",
       "</div>"
      ],
      "text/plain": [
       "     sepal_length  sepal_width  petal_length  petal_width    species  cluster\n",
       "0       -0.900681     1.019004     -1.340227    -1.315444     setosa        1\n",
       "1       -1.143017    -0.131979     -1.340227    -1.315444     setosa        6\n",
       "2       -1.385353     0.328414     -1.397064    -1.315444     setosa        6\n",
       "3       -1.506521     0.098217     -1.283389    -1.315444     setosa        6\n",
       "4       -1.021849     1.249201     -1.340227    -1.315444     setosa        1\n",
       "..            ...          ...           ...          ...        ...      ...\n",
       "145      1.038005    -0.131979      0.819596     1.448832  virginica        0\n",
       "146      0.553333    -1.282963      0.705921     0.922303  virginica        7\n",
       "147      0.795669    -0.131979      0.819596     1.053935  virginica        0\n",
       "148      0.432165     0.788808      0.933271     1.448832  virginica        0\n",
       "149      0.068662    -0.131979      0.762758     0.790671  virginica        2\n",
       "\n",
       "[150 rows x 6 columns]"
      ]
     },
     "execution_count": 41,
     "metadata": {},
     "output_type": "execute_result"
    }
   ],
   "source": [
    "df"
   ]
  },
  {
   "cell_type": "code",
   "execution_count": null,
   "metadata": {
    "cell_id": "78892833496541b7920301c1312859a9",
    "deepnote_cell_height": 81,
    "deepnote_cell_type": "code",
    "deepnote_to_be_reexecuted": false,
    "execution_millis": 314,
    "execution_start": 1650919001501,
    "source_hash": "3df74024",
    "tags": []
   },
   "outputs": [],
   "source": [
    "import altair as alt"
   ]
  },
  {
   "cell_type": "code",
   "execution_count": null,
   "metadata": {
    "cell_id": "256811b6c8d44b68a3fd7f8687e4fad9",
    "deepnote_cell_height": 118.1875,
    "deepnote_cell_type": "code",
    "deepnote_output_heights": [
     21.1875
    ],
    "deepnote_to_be_reexecuted": false,
    "execution_millis": 28,
    "execution_start": 1650919022996,
    "source_hash": "153c27bb",
    "tags": []
   },
   "outputs": [
    {
     "data": {
      "text/plain": [
       "['sepal_length', 'sepal_width', 'petal_length', 'petal_width']"
      ]
     },
     "execution_count": 43,
     "metadata": {},
     "output_type": "execute_result"
    }
   ],
   "source": [
    "numcols"
   ]
  },
  {
   "cell_type": "code",
   "execution_count": null,
   "metadata": {
    "cell_id": "0c984f5d7ddf49a699a168af4a1a7b97",
    "deepnote_cell_height": 530,
    "deepnote_cell_type": "code",
    "deepnote_output_heights": [
     361
    ],
    "deepnote_to_be_reexecuted": false,
    "execution_millis": 19,
    "execution_start": 1650919100477,
    "source_hash": "5b4af156",
    "tags": []
   },
   "outputs": [
    {
     "data": {
      "text/html": [
       "\n",
       "<div id=\"altair-viz-62cc60f609d64b76ad1f73fc5d006524\"></div>\n",
       "<script type=\"text/javascript\">\n",
       "  (function(spec, embedOpt){\n",
       "    let outputDiv = document.currentScript.previousElementSibling;\n",
       "    if (outputDiv.id !== \"altair-viz-62cc60f609d64b76ad1f73fc5d006524\") {\n",
       "      outputDiv = document.getElementById(\"altair-viz-62cc60f609d64b76ad1f73fc5d006524\");\n",
       "    }\n",
       "    const paths = {\n",
       "      \"vega\": \"https://cdn.jsdelivr.net/npm//vega@5?noext\",\n",
       "      \"vega-lib\": \"https://cdn.jsdelivr.net/npm//vega-lib?noext\",\n",
       "      \"vega-lite\": \"https://cdn.jsdelivr.net/npm//vega-lite@4.8.1?noext\",\n",
       "      \"vega-embed\": \"https://cdn.jsdelivr.net/npm//vega-embed@6?noext\",\n",
       "    };\n",
       "\n",
       "    function loadScript(lib) {\n",
       "      return new Promise(function(resolve, reject) {\n",
       "        var s = document.createElement('script');\n",
       "        s.src = paths[lib];\n",
       "        s.async = true;\n",
       "        s.onload = () => resolve(paths[lib]);\n",
       "        s.onerror = () => reject(`Error loading script: ${paths[lib]}`);\n",
       "        document.getElementsByTagName(\"head\")[0].appendChild(s);\n",
       "      });\n",
       "    }\n",
       "\n",
       "    function showError(err) {\n",
       "      outputDiv.innerHTML = `<div class=\"error\" style=\"color:red;\">${err}</div>`;\n",
       "      throw err;\n",
       "    }\n",
       "\n",
       "    function displayChart(vegaEmbed) {\n",
       "      vegaEmbed(outputDiv, spec, embedOpt)\n",
       "        .catch(err => showError(`Javascript Error: ${err.message}<br>This usually means there's a typo in your chart specification. See the javascript console for the full traceback.`));\n",
       "    }\n",
       "\n",
       "    if(typeof define === \"function\" && define.amd) {\n",
       "      requirejs.config({paths});\n",
       "      require([\"vega-embed\"], displayChart, err => showError(`Error loading script: ${err.message}`));\n",
       "    } else if (typeof vegaEmbed === \"function\") {\n",
       "      displayChart(vegaEmbed);\n",
       "    } else {\n",
       "      loadScript(\"vega\")\n",
       "        .then(() => loadScript(\"vega-lite\"))\n",
       "        .then(() => loadScript(\"vega-embed\"))\n",
       "        .catch(showError)\n",
       "        .then(() => displayChart(vegaEmbed));\n",
       "    }\n",
       "  })({\"config\": {\"view\": {\"continuousWidth\": 400, \"continuousHeight\": 300}}, \"data\": {\"name\": \"data-842556884e454b1120c216665ea09514\"}, \"mark\": \"circle\", \"encoding\": {\"color\": {\"type\": \"nominal\", \"field\": \"cluster\"}, \"x\": {\"type\": \"quantitative\", \"field\": \"sepal_length\"}, \"y\": {\"type\": \"quantitative\", \"field\": \"petal_length\"}}, \"$schema\": \"https://vega.github.io/schema/vega-lite/v4.8.1.json\", \"datasets\": {\"data-842556884e454b1120c216665ea09514\": [{\"sepal_length\": -0.9006811702978088, \"sepal_width\": 1.019004351971607, \"petal_length\": -1.3402265266227624, \"petal_width\": -1.3154442950077403, \"species\": \"setosa\", \"cluster\": 1}, {\"sepal_length\": -1.1430169111851105, \"sepal_width\": -0.13197947932162468, \"petal_length\": -1.3402265266227624, \"petal_width\": -1.3154442950077403, \"species\": \"setosa\", \"cluster\": 6}, {\"sepal_length\": -1.3853526520724133, \"sepal_width\": 0.32841405319566835, \"petal_length\": -1.3970639535363654, \"petal_width\": -1.3154442950077403, \"species\": \"setosa\", \"cluster\": 6}, {\"sepal_length\": -1.5065205225160652, \"sepal_width\": 0.09821728693702184, \"petal_length\": -1.2833890997091593, \"petal_width\": -1.3154442950077403, \"species\": \"setosa\", \"cluster\": 6}, {\"sepal_length\": -1.0218490407414595, \"sepal_width\": 1.2492011182302534, \"petal_length\": -1.3402265266227624, \"petal_width\": -1.3154442950077403, \"species\": \"setosa\", \"cluster\": 1}, {\"sepal_length\": -0.537177558966854, \"sepal_width\": 1.939791417006192, \"petal_length\": -1.1697142458819532, \"petal_width\": -1.0521799264271385, \"species\": \"setosa\", \"cluster\": 5}, {\"sepal_length\": -1.5065205225160652, \"sepal_width\": 0.7888075857129604, \"petal_length\": -1.3402265266227624, \"petal_width\": -1.1838121107174393, \"species\": \"setosa\", \"cluster\": 1}, {\"sepal_length\": -1.0218490407414595, \"sepal_width\": 0.7888075857129604, \"petal_length\": -1.2833890997091593, \"petal_width\": -1.3154442950077403, \"species\": \"setosa\", \"cluster\": 1}, {\"sepal_length\": -1.7488562634033669, \"sepal_width\": -0.3621762455802712, \"petal_length\": -1.3402265266227624, \"petal_width\": -1.3154442950077403, \"species\": \"setosa\", \"cluster\": 6}, {\"sepal_length\": -1.1430169111851105, \"sepal_width\": 0.09821728693702184, \"petal_length\": -1.2833890997091593, \"petal_width\": -1.4470764792980408, \"species\": \"setosa\", \"cluster\": 6}, {\"sepal_length\": -0.537177558966854, \"sepal_width\": 1.4793978844889, \"petal_length\": -1.2833890997091593, \"petal_width\": -1.3154442950077403, \"species\": \"setosa\", \"cluster\": 5}, {\"sepal_length\": -1.2641847816287624, \"sepal_width\": 0.7888075857129604, \"petal_length\": -1.226551672795556, \"petal_width\": -1.3154442950077403, \"species\": \"setosa\", \"cluster\": 1}, {\"sepal_length\": -1.2641847816287624, \"sepal_width\": -0.13197947932162468, \"petal_length\": -1.3402265266227624, \"petal_width\": -1.4470764792980408, \"species\": \"setosa\", \"cluster\": 6}, {\"sepal_length\": -1.870024133847019, \"sepal_width\": -0.13197947932162468, \"petal_length\": -1.5107388073635717, \"petal_width\": -1.4470764792980408, \"species\": \"setosa\", \"cluster\": 6}, {\"sepal_length\": -0.05250607719224957, \"sepal_width\": 2.1699881832648384, \"petal_length\": -1.4539013804499687, \"petal_width\": -1.3154442950077403, \"species\": \"setosa\", \"cluster\": 5}, {\"sepal_length\": -0.1736739476359004, \"sepal_width\": 3.090775248299425, \"petal_length\": -1.2833890997091593, \"petal_width\": -1.0521799264271385, \"species\": \"setosa\", \"cluster\": 5}, {\"sepal_length\": -0.537177558966854, \"sepal_width\": 1.939791417006192, \"petal_length\": -1.3970639535363654, \"petal_width\": -1.0521799264271385, \"species\": \"setosa\", \"cluster\": 5}, {\"sepal_length\": -0.9006811702978088, \"sepal_width\": 1.019004351971607, \"petal_length\": -1.3402265266227624, \"petal_width\": -1.1838121107174393, \"species\": \"setosa\", \"cluster\": 1}, {\"sepal_length\": -0.1736739476359004, \"sepal_width\": 1.7095946507475455, \"petal_length\": -1.1697142458819532, \"petal_width\": -1.1838121107174393, \"species\": \"setosa\", \"cluster\": 5}, {\"sepal_length\": -0.9006811702978088, \"sepal_width\": 1.7095946507475455, \"petal_length\": -1.2833890997091593, \"petal_width\": -1.1838121107174393, \"species\": \"setosa\", \"cluster\": 5}, {\"sepal_length\": -0.537177558966854, \"sepal_width\": 0.7888075857129604, \"petal_length\": -1.1697142458819532, \"petal_width\": -1.3154442950077403, \"species\": \"setosa\", \"cluster\": 1}, {\"sepal_length\": -0.9006811702978088, \"sepal_width\": 1.4793978844889, \"petal_length\": -1.2833890997091593, \"petal_width\": -1.0521799264271385, \"species\": \"setosa\", \"cluster\": 1}, {\"sepal_length\": -1.5065205225160652, \"sepal_width\": 1.2492011182302534, \"petal_length\": -1.567576234277175, \"petal_width\": -1.3154442950077403, \"species\": \"setosa\", \"cluster\": 1}, {\"sepal_length\": -0.9006811702978088, \"sepal_width\": 0.5586108194543139, \"petal_length\": -1.1697142458819532, \"petal_width\": -0.9205477421368377, \"species\": \"setosa\", \"cluster\": 1}, {\"sepal_length\": -1.2641847816287624, \"sepal_width\": 0.7888075857129604, \"petal_length\": -1.0560393920547466, \"petal_width\": -1.3154442950077403, \"species\": \"setosa\", \"cluster\": 1}, {\"sepal_length\": -1.0218490407414595, \"sepal_width\": -0.13197947932162468, \"petal_length\": -1.226551672795556, \"petal_width\": -1.3154442950077403, \"species\": \"setosa\", \"cluster\": 6}, {\"sepal_length\": -1.0218490407414595, \"sepal_width\": 0.7888075857129604, \"petal_length\": -1.226551672795556, \"petal_width\": -1.0521799264271385, \"species\": \"setosa\", \"cluster\": 1}, {\"sepal_length\": -0.7795132998541568, \"sepal_width\": 1.019004351971607, \"petal_length\": -1.2833890997091593, \"petal_width\": -1.3154442950077403, \"species\": \"setosa\", \"cluster\": 1}, {\"sepal_length\": -0.7795132998541568, \"sepal_width\": 0.7888075857129604, \"petal_length\": -1.3402265266227624, \"petal_width\": -1.3154442950077403, \"species\": \"setosa\", \"cluster\": 1}, {\"sepal_length\": -1.3853526520724133, \"sepal_width\": 0.32841405319566835, \"petal_length\": -1.226551672795556, \"petal_width\": -1.3154442950077403, \"species\": \"setosa\", \"cluster\": 6}, {\"sepal_length\": -1.2641847816287624, \"sepal_width\": 0.09821728693702184, \"petal_length\": -1.226551672795556, \"petal_width\": -1.3154442950077403, \"species\": \"setosa\", \"cluster\": 6}, {\"sepal_length\": -0.537177558966854, \"sepal_width\": 0.7888075857129604, \"petal_length\": -1.2833890997091593, \"petal_width\": -1.0521799264271385, \"species\": \"setosa\", \"cluster\": 1}, {\"sepal_length\": -0.7795132998541568, \"sepal_width\": 2.400184949523484, \"petal_length\": -1.2833890997091593, \"petal_width\": -1.4470764792980408, \"species\": \"setosa\", \"cluster\": 5}, {\"sepal_length\": -0.4160096885232032, \"sepal_width\": 2.6303817157821316, \"petal_length\": -1.3402265266227624, \"petal_width\": -1.3154442950077403, \"species\": \"setosa\", \"cluster\": 5}, {\"sepal_length\": -1.1430169111851105, \"sepal_width\": 0.09821728693702184, \"petal_length\": -1.2833890997091593, \"petal_width\": -1.3154442950077403, \"species\": \"setosa\", \"cluster\": 6}, {\"sepal_length\": -1.0218490407414595, \"sepal_width\": 0.32841405319566835, \"petal_length\": -1.4539013804499687, \"petal_width\": -1.3154442950077403, \"species\": \"setosa\", \"cluster\": 6}, {\"sepal_length\": -0.4160096885232032, \"sepal_width\": 1.019004351971607, \"petal_length\": -1.3970639535363654, \"petal_width\": -1.3154442950077403, \"species\": \"setosa\", \"cluster\": 1}, {\"sepal_length\": -1.1430169111851105, \"sepal_width\": 1.2492011182302534, \"petal_length\": -1.3402265266227624, \"petal_width\": -1.4470764792980408, \"species\": \"setosa\", \"cluster\": 1}, {\"sepal_length\": -1.7488562634033669, \"sepal_width\": -0.13197947932162468, \"petal_length\": -1.3970639535363654, \"petal_width\": -1.3154442950077403, \"species\": \"setosa\", \"cluster\": 6}, {\"sepal_length\": -0.9006811702978088, \"sepal_width\": 0.7888075857129604, \"petal_length\": -1.2833890997091593, \"petal_width\": -1.3154442950077403, \"species\": \"setosa\", \"cluster\": 1}, {\"sepal_length\": -1.0218490407414595, \"sepal_width\": 1.019004351971607, \"petal_length\": -1.3970639535363654, \"petal_width\": -1.1838121107174393, \"species\": \"setosa\", \"cluster\": 1}, {\"sepal_length\": -1.6276883929597161, \"sepal_width\": -1.7433568431321493, \"petal_length\": -1.3970639535363654, \"petal_width\": -1.1838121107174393, \"species\": \"setosa\", \"cluster\": 6}, {\"sepal_length\": -1.7488562634033669, \"sepal_width\": 0.32841405319566835, \"petal_length\": -1.3970639535363654, \"petal_width\": -1.3154442950077403, \"species\": \"setosa\", \"cluster\": 6}, {\"sepal_length\": -1.0218490407414595, \"sepal_width\": 1.019004351971607, \"petal_length\": -1.226551672795556, \"petal_width\": -0.7889155578465368, \"species\": \"setosa\", \"cluster\": 1}, {\"sepal_length\": -0.9006811702978088, \"sepal_width\": 1.7095946507475455, \"petal_length\": -1.0560393920547466, \"petal_width\": -1.0521799264271385, \"species\": \"setosa\", \"cluster\": 5}, {\"sepal_length\": -1.2641847816287624, \"sepal_width\": -0.13197947932162468, \"petal_length\": -1.3402265266227624, \"petal_width\": -1.1838121107174393, \"species\": \"setosa\", \"cluster\": 6}, {\"sepal_length\": -0.9006811702978088, \"sepal_width\": 1.7095946507475455, \"petal_length\": -1.226551672795556, \"petal_width\": -1.3154442950077403, \"species\": \"setosa\", \"cluster\": 5}, {\"sepal_length\": -1.5065205225160652, \"sepal_width\": 0.32841405319566835, \"petal_length\": -1.3402265266227624, \"petal_width\": -1.3154442950077403, \"species\": \"setosa\", \"cluster\": 6}, {\"sepal_length\": -0.658345429410506, \"sepal_width\": 1.4793978844889, \"petal_length\": -1.2833890997091593, \"petal_width\": -1.3154442950077403, \"species\": \"setosa\", \"cluster\": 5}, {\"sepal_length\": -1.0218490407414595, \"sepal_width\": 0.5586108194543139, \"petal_length\": -1.3402265266227624, \"petal_width\": -1.3154442950077403, \"species\": \"setosa\", \"cluster\": 1}, {\"sepal_length\": 1.401508368131566, \"sepal_width\": 0.32841405319566835, \"petal_length\": 0.5354085615261415, \"petal_width\": 0.26414191647586993, \"species\": \"versicolor\", \"cluster\": 2}, {\"sepal_length\": 0.6745011454696588, \"sepal_width\": 0.32841405319566835, \"petal_length\": 0.4217337076989351, \"petal_width\": 0.3957741007661709, \"species\": \"versicolor\", \"cluster\": 2}, {\"sepal_length\": 1.2803404976879151, \"sepal_width\": 0.09821728693702184, \"petal_length\": 0.6490834153533479, \"petal_width\": 0.3957741007661709, \"species\": \"versicolor\", \"cluster\": 2}, {\"sepal_length\": -0.4160096885232032, \"sepal_width\": -1.7433568431321493, \"petal_length\": 0.13754657313091936, \"petal_width\": 0.13250973218556925, \"species\": \"versicolor\", \"cluster\": 4}, {\"sepal_length\": 0.7956690159133096, \"sepal_width\": -0.5923730118389178, \"petal_length\": 0.47857113461253803, \"petal_width\": 0.3957741007661709, \"species\": \"versicolor\", \"cluster\": 2}, {\"sepal_length\": -0.1736739476359004, \"sepal_width\": -0.5923730118389178, \"petal_length\": 0.4217337076989351, \"petal_width\": 0.13250973218556925, \"species\": \"versicolor\", \"cluster\": 2}, {\"sepal_length\": 0.5533332750260068, \"sepal_width\": 0.5586108194543139, \"petal_length\": 0.5354085615261415, \"petal_width\": 0.5274062850564719, \"species\": \"versicolor\", \"cluster\": 2}, {\"sepal_length\": -1.1430169111851105, \"sepal_width\": -1.513160076873503, \"petal_length\": -0.26031541526430274, \"petal_width\": -0.26238682068533337, \"species\": \"versicolor\", \"cluster\": 4}, {\"sepal_length\": 0.9168368863569605, \"sepal_width\": -0.3621762455802712, \"petal_length\": 0.47857113461253803, \"petal_width\": 0.13250973218556925, \"species\": \"versicolor\", \"cluster\": 2}, {\"sepal_length\": -0.7795132998541568, \"sepal_width\": -0.8225697780975633, \"petal_length\": 0.08070914621731616, \"petal_width\": 0.26414191647586993, \"species\": \"versicolor\", \"cluster\": 4}, {\"sepal_length\": -1.0218490407414595, \"sepal_width\": -2.433947141908088, \"petal_length\": -0.14664056143709636, \"petal_width\": -0.26238682068533337, \"species\": \"versicolor\", \"cluster\": 4}, {\"sepal_length\": 0.06866179325140237, \"sepal_width\": -0.13197947932162468, \"petal_length\": 0.2512214269581257, \"petal_width\": 0.3957741007661709, \"species\": \"versicolor\", \"cluster\": 2}, {\"sepal_length\": 0.18982966369505322, \"sepal_width\": -1.9735536093907948, \"petal_length\": 0.13754657313091936, \"petal_width\": -0.26238682068533337, \"species\": \"versicolor\", \"cluster\": 4}, {\"sepal_length\": 0.31099753413870407, \"sepal_width\": -0.3621762455802712, \"petal_length\": 0.5354085615261415, \"petal_width\": 0.26414191647586993, \"species\": \"versicolor\", \"cluster\": 2}, {\"sepal_length\": -0.29484181807955234, \"sepal_width\": -0.3621762455802712, \"petal_length\": -0.08980313452349317, \"petal_width\": 0.13250973218556925, \"species\": \"versicolor\", \"cluster\": 2}, {\"sepal_length\": 1.0380047568006125, \"sepal_width\": 0.09821728693702184, \"petal_length\": 0.36489628078533215, \"petal_width\": 0.26414191647586993, \"species\": \"versicolor\", \"cluster\": 2}, {\"sepal_length\": -0.29484181807955234, \"sepal_width\": -0.13197947932162468, \"petal_length\": 0.4217337076989351, \"petal_width\": 0.3957741007661709, \"species\": \"versicolor\", \"cluster\": 2}, {\"sepal_length\": -0.05250607719224957, \"sepal_width\": -0.8225697780975633, \"petal_length\": 0.1943840000445223, \"petal_width\": -0.26238682068533337, \"species\": \"versicolor\", \"cluster\": 4}, {\"sepal_length\": 0.432165404582356, \"sepal_width\": -1.9735536093907948, \"petal_length\": 0.4217337076989351, \"petal_width\": 0.3957741007661709, \"species\": \"versicolor\", \"cluster\": 7}, {\"sepal_length\": -0.29484181807955234, \"sepal_width\": -1.2829633106148564, \"petal_length\": 0.08070914621731616, \"petal_width\": -0.1307546363950324, \"species\": \"versicolor\", \"cluster\": 4}, {\"sepal_length\": 0.06866179325140237, \"sepal_width\": 0.32841405319566835, \"petal_length\": 0.5922459884397444, \"petal_width\": 0.7906706536370736, \"species\": \"versicolor\", \"cluster\": 2}, {\"sepal_length\": 0.31099753413870407, \"sepal_width\": -0.5923730118389178, \"petal_length\": 0.13754657313091936, \"petal_width\": 0.13250973218556925, \"species\": \"versicolor\", \"cluster\": 2}, {\"sepal_length\": 0.5533332750260068, \"sepal_width\": -1.2829633106148564, \"petal_length\": 0.6490834153533479, \"petal_width\": 0.3957741007661709, \"species\": \"versicolor\", \"cluster\": 7}, {\"sepal_length\": 0.31099753413870407, \"sepal_width\": -0.5923730118389178, \"petal_length\": 0.5354085615261415, \"petal_width\": 0.0008775478952682834, \"species\": \"versicolor\", \"cluster\": 2}, {\"sepal_length\": 0.6745011454696588, \"sepal_width\": -0.3621762455802712, \"petal_length\": 0.30805885387172866, \"petal_width\": 0.13250973218556925, \"species\": \"versicolor\", \"cluster\": 2}, {\"sepal_length\": 0.9168368863569605, \"sepal_width\": -0.13197947932162468, \"petal_length\": 0.36489628078533215, \"petal_width\": 0.26414191647586993, \"species\": \"versicolor\", \"cluster\": 2}, {\"sepal_length\": 1.1591726272442633, \"sepal_width\": -0.5923730118389178, \"petal_length\": 0.5922459884397444, \"petal_width\": 0.26414191647586993, \"species\": \"versicolor\", \"cluster\": 2}, {\"sepal_length\": 1.0380047568006125, \"sepal_width\": -0.13197947932162468, \"petal_length\": 0.7059208422669508, \"petal_width\": 0.6590384693467726, \"species\": \"versicolor\", \"cluster\": 2}, {\"sepal_length\": 0.18982966369505322, \"sepal_width\": -0.3621762455802712, \"petal_length\": 0.4217337076989351, \"petal_width\": 0.3957741007661709, \"species\": \"versicolor\", \"cluster\": 2}, {\"sepal_length\": -0.1736739476359004, \"sepal_width\": -1.0527665443562098, \"petal_length\": -0.14664056143709636, \"petal_width\": -0.26238682068533337, \"species\": \"versicolor\", \"cluster\": 4}, {\"sepal_length\": -0.4160096885232032, \"sepal_width\": -1.513160076873503, \"petal_length\": 0.023871719303712964, \"petal_width\": -0.1307546363950324, \"species\": \"versicolor\", \"cluster\": 4}, {\"sepal_length\": -0.4160096885232032, \"sepal_width\": -1.513160076873503, \"petal_length\": -0.032965707609889976, \"petal_width\": -0.26238682068533337, \"species\": \"versicolor\", \"cluster\": 4}, {\"sepal_length\": -0.05250607719224957, \"sepal_width\": -0.8225697780975633, \"petal_length\": 0.08070914621731616, \"petal_width\": 0.0008775478952682834, \"species\": \"versicolor\", \"cluster\": 4}, {\"sepal_length\": 0.18982966369505322, \"sepal_width\": -0.8225697780975633, \"petal_length\": 0.7627582691805538, \"petal_width\": 0.5274062850564719, \"species\": \"versicolor\", \"cluster\": 7}, {\"sepal_length\": -0.537177558966854, \"sepal_width\": -0.13197947932162468, \"petal_length\": 0.4217337076989351, \"petal_width\": 0.3957741007661709, \"species\": \"versicolor\", \"cluster\": 2}, {\"sepal_length\": 0.18982966369505322, \"sepal_width\": 0.7888075857129604, \"petal_length\": 0.4217337076989351, \"petal_width\": 0.5274062850564719, \"species\": \"versicolor\", \"cluster\": 2}, {\"sepal_length\": 1.0380047568006125, \"sepal_width\": 0.09821728693702184, \"petal_length\": 0.5354085615261415, \"petal_width\": 0.3957741007661709, \"species\": \"versicolor\", \"cluster\": 2}, {\"sepal_length\": 0.5533332750260068, \"sepal_width\": -1.7433568431321493, \"petal_length\": 0.36489628078533215, \"petal_width\": 0.13250973218556925, \"species\": \"versicolor\", \"cluster\": 7}, {\"sepal_length\": -0.29484181807955234, \"sepal_width\": -0.13197947932162468, \"petal_length\": 0.1943840000445223, \"petal_width\": 0.13250973218556925, \"species\": \"versicolor\", \"cluster\": 2}, {\"sepal_length\": -0.4160096885232032, \"sepal_width\": -1.2829633106148564, \"petal_length\": 0.13754657313091936, \"petal_width\": 0.13250973218556925, \"species\": \"versicolor\", \"cluster\": 4}, {\"sepal_length\": -0.4160096885232032, \"sepal_width\": -1.0527665443562098, \"petal_length\": 0.36489628078533215, \"petal_width\": 0.0008775478952682834, \"species\": \"versicolor\", \"cluster\": 4}, {\"sepal_length\": 0.31099753413870407, \"sepal_width\": -0.13197947932162468, \"petal_length\": 0.47857113461253803, \"petal_width\": 0.26414191647586993, \"species\": \"versicolor\", \"cluster\": 2}, {\"sepal_length\": -0.05250607719224957, \"sepal_width\": -1.0527665443562098, \"petal_length\": 0.13754657313091936, \"petal_width\": 0.0008775478952682834, \"species\": \"versicolor\", \"cluster\": 4}, {\"sepal_length\": -1.0218490407414595, \"sepal_width\": -1.7433568431321493, \"petal_length\": -0.26031541526430274, \"petal_width\": -0.26238682068533337, \"species\": \"versicolor\", \"cluster\": 4}, {\"sepal_length\": -0.29484181807955234, \"sepal_width\": -0.8225697780975633, \"petal_length\": 0.2512214269581257, \"petal_width\": 0.13250973218556925, \"species\": \"versicolor\", \"cluster\": 4}, {\"sepal_length\": -0.1736739476359004, \"sepal_width\": -0.13197947932162468, \"petal_length\": 0.2512214269581257, \"petal_width\": 0.0008775478952682834, \"species\": \"versicolor\", \"cluster\": 2}, {\"sepal_length\": -0.1736739476359004, \"sepal_width\": -0.3621762455802712, \"petal_length\": 0.2512214269581257, \"petal_width\": 0.13250973218556925, \"species\": \"versicolor\", \"cluster\": 2}, {\"sepal_length\": 0.432165404582356, \"sepal_width\": -0.3621762455802712, \"petal_length\": 0.30805885387172866, \"petal_width\": 0.13250973218556925, \"species\": \"versicolor\", \"cluster\": 2}, {\"sepal_length\": -0.9006811702978088, \"sepal_width\": -1.2829633106148564, \"petal_length\": -0.4308276960051121, \"petal_width\": -0.1307546363950324, \"species\": \"versicolor\", \"cluster\": 4}, {\"sepal_length\": -0.1736739476359004, \"sepal_width\": -0.5923730118389178, \"petal_length\": 0.1943840000445223, \"petal_width\": 0.13250973218556925, \"species\": \"versicolor\", \"cluster\": 2}, {\"sepal_length\": 0.5533332750260068, \"sepal_width\": 0.5586108194543139, \"petal_length\": 1.2742951114029821, \"petal_width\": 1.7120959436691794, \"species\": \"virginica\", \"cluster\": 0}, {\"sepal_length\": -0.05250607719224957, \"sepal_width\": -0.8225697780975633, \"petal_length\": 0.7627582691805538, \"petal_width\": 0.9223028379273742, \"species\": \"virginica\", \"cluster\": 7}, {\"sepal_length\": 1.522676238575217, \"sepal_width\": -0.13197947932162468, \"petal_length\": 1.2174576844893792, \"petal_width\": 1.185567206507976, \"species\": \"virginica\", \"cluster\": 3}, {\"sepal_length\": 0.5533332750260068, \"sepal_width\": -0.3621762455802712, \"petal_length\": 1.0469454037485695, \"petal_width\": 0.7906706536370736, \"species\": \"virginica\", \"cluster\": 2}, {\"sepal_length\": 0.7956690159133096, \"sepal_width\": -0.13197947932162468, \"petal_length\": 1.1606202575757758, \"petal_width\": 1.317199390798277, \"species\": \"virginica\", \"cluster\": 0}, {\"sepal_length\": 2.1285155907934734, \"sepal_width\": -0.13197947932162468, \"petal_length\": 1.6153196728846009, \"petal_width\": 1.185567206507976, \"species\": \"virginica\", \"cluster\": 3}, {\"sepal_length\": -1.1430169111851105, \"sepal_width\": -1.2829633106148564, \"petal_length\": 0.4217337076989351, \"petal_width\": 0.6590384693467726, \"species\": \"virginica\", \"cluster\": 4}, {\"sepal_length\": 1.7650119794625196, \"sepal_width\": -0.3621762455802712, \"petal_length\": 1.4448073921437916, \"petal_width\": 0.7906706536370736, \"species\": \"virginica\", \"cluster\": 3}, {\"sepal_length\": 1.0380047568006125, \"sepal_width\": -1.2829633106148564, \"petal_length\": 1.1606202575757758, \"petal_width\": 0.7906706536370736, \"species\": \"virginica\", \"cluster\": 7}, {\"sepal_length\": 1.643844109018869, \"sepal_width\": 1.2492011182302534, \"petal_length\": 1.331132538316585, \"petal_width\": 1.7120959436691794, \"species\": \"virginica\", \"cluster\": 0}, {\"sepal_length\": 0.7956690159133096, \"sepal_width\": 0.32841405319566835, \"petal_length\": 0.7627582691805538, \"petal_width\": 1.053935022217675, \"species\": \"virginica\", \"cluster\": 0}, {\"sepal_length\": 0.6745011454696588, \"sepal_width\": -0.8225697780975633, \"petal_length\": 0.8764331230077601, \"petal_width\": 0.9223028379273742, \"species\": \"virginica\", \"cluster\": 7}, {\"sepal_length\": 1.1591726272442633, \"sepal_width\": -0.13197947932162468, \"petal_length\": 0.9901079768349665, \"petal_width\": 1.185567206507976, \"species\": \"virginica\", \"cluster\": 0}, {\"sepal_length\": -0.1736739476359004, \"sepal_width\": -1.2829633106148564, \"petal_length\": 0.7059208422669508, \"petal_width\": 1.053935022217675, \"species\": \"virginica\", \"cluster\": 7}, {\"sepal_length\": -0.05250607719224957, \"sepal_width\": -0.5923730118389178, \"petal_length\": 0.7627582691805538, \"petal_width\": 1.5804637593788784, \"species\": \"virginica\", \"cluster\": 7}, {\"sepal_length\": 0.6745011454696588, \"sepal_width\": 0.32841405319566835, \"petal_length\": 0.8764331230077601, \"petal_width\": 1.4488315750885774, \"species\": \"virginica\", \"cluster\": 0}, {\"sepal_length\": 0.7956690159133096, \"sepal_width\": -0.13197947932162468, \"petal_length\": 0.9901079768349665, \"petal_width\": 0.7906706536370736, \"species\": \"virginica\", \"cluster\": 2}, {\"sepal_length\": 2.2496834612371255, \"sepal_width\": 1.7095946507475455, \"petal_length\": 1.6721570997982043, \"petal_width\": 1.317199390798277, \"species\": \"virginica\", \"cluster\": 0}, {\"sepal_length\": 2.2496834612371255, \"sepal_width\": -1.0527665443562098, \"petal_length\": 1.7858319536254108, \"petal_width\": 1.4488315750885774, \"species\": \"virginica\", \"cluster\": 3}, {\"sepal_length\": 0.18982966369505322, \"sepal_width\": -1.9735536093907948, \"petal_length\": 0.7059208422669508, \"petal_width\": 0.3957741007661709, \"species\": \"virginica\", \"cluster\": 7}, {\"sepal_length\": 1.2803404976879151, \"sepal_width\": 0.32841405319566835, \"petal_length\": 1.1037828306621729, \"petal_width\": 1.4488315750885774, \"species\": \"virginica\", \"cluster\": 0}, {\"sepal_length\": -0.29484181807955234, \"sepal_width\": -0.5923730118389178, \"petal_length\": 0.6490834153533479, \"petal_width\": 1.053935022217675, \"species\": \"virginica\", \"cluster\": 7}, {\"sepal_length\": 2.2496834612371255, \"sepal_width\": -0.5923730118389178, \"petal_length\": 1.6721570997982043, \"petal_width\": 1.053935022217675, \"species\": \"virginica\", \"cluster\": 3}, {\"sepal_length\": 0.5533332750260068, \"sepal_width\": -0.8225697780975633, \"petal_length\": 0.6490834153533479, \"petal_width\": 0.7906706536370736, \"species\": \"virginica\", \"cluster\": 7}, {\"sepal_length\": 1.0380047568006125, \"sepal_width\": 0.5586108194543139, \"petal_length\": 1.1037828306621729, \"petal_width\": 1.185567206507976, \"species\": \"virginica\", \"cluster\": 0}, {\"sepal_length\": 1.643844109018869, \"sepal_width\": 0.32841405319566835, \"petal_length\": 1.2742951114029821, \"petal_width\": 0.7906706536370736, \"species\": \"virginica\", \"cluster\": 0}, {\"sepal_length\": 0.432165404582356, \"sepal_width\": -0.5923730118389178, \"petal_length\": 0.5922459884397444, \"petal_width\": 0.7906706536370736, \"species\": \"virginica\", \"cluster\": 7}, {\"sepal_length\": 0.31099753413870407, \"sepal_width\": -0.13197947932162468, \"petal_length\": 0.6490834153533479, \"petal_width\": 0.7906706536370736, \"species\": \"virginica\", \"cluster\": 2}, {\"sepal_length\": 0.6745011454696588, \"sepal_width\": -0.5923730118389178, \"petal_length\": 1.0469454037485695, \"petal_width\": 1.185567206507976, \"species\": \"virginica\", \"cluster\": 7}, {\"sepal_length\": 1.643844109018869, \"sepal_width\": -0.13197947932162468, \"petal_length\": 1.1606202575757758, \"petal_width\": 0.5274062850564719, \"species\": \"virginica\", \"cluster\": 3}, {\"sepal_length\": 1.8861798499061717, \"sepal_width\": -0.5923730118389178, \"petal_length\": 1.331132538316585, \"petal_width\": 0.9223028379273742, \"species\": \"virginica\", \"cluster\": 3}, {\"sepal_length\": 2.4920192021244283, \"sepal_width\": 1.7095946507475455, \"petal_length\": 1.501644819057395, \"petal_width\": 1.053935022217675, \"species\": \"virginica\", \"cluster\": 0}, {\"sepal_length\": 0.6745011454696588, \"sepal_width\": -0.5923730118389178, \"petal_length\": 1.0469454037485695, \"petal_width\": 1.317199390798277, \"species\": \"virginica\", \"cluster\": 7}, {\"sepal_length\": 0.5533332750260068, \"sepal_width\": -0.5923730118389178, \"petal_length\": 0.7627582691805538, \"petal_width\": 0.3957741007661709, \"species\": \"virginica\", \"cluster\": 2}, {\"sepal_length\": 0.31099753413870407, \"sepal_width\": -1.0527665443562098, \"petal_length\": 1.0469454037485695, \"petal_width\": 0.26414191647586993, \"species\": \"virginica\", \"cluster\": 7}, {\"sepal_length\": 2.2496834612371255, \"sepal_width\": -0.13197947932162468, \"petal_length\": 1.331132538316585, \"petal_width\": 1.4488315750885774, \"species\": \"virginica\", \"cluster\": 3}, {\"sepal_length\": 0.5533332750260068, \"sepal_width\": 0.7888075857129604, \"petal_length\": 1.0469454037485695, \"petal_width\": 1.5804637593788784, \"species\": \"virginica\", \"cluster\": 0}, {\"sepal_length\": 0.6745011454696588, \"sepal_width\": 0.09821728693702184, \"petal_length\": 0.9901079768349665, \"petal_width\": 0.7906706536370736, \"species\": \"virginica\", \"cluster\": 2}, {\"sepal_length\": 0.18982966369505322, \"sepal_width\": -0.13197947932162468, \"petal_length\": 0.5922459884397444, \"petal_width\": 0.7906706536370736, \"species\": \"virginica\", \"cluster\": 2}, {\"sepal_length\": 1.2803404976879151, \"sepal_width\": 0.09821728693702184, \"petal_length\": 0.9332705499213636, \"petal_width\": 1.185567206507976, \"species\": \"virginica\", \"cluster\": 0}, {\"sepal_length\": 1.0380047568006125, \"sepal_width\": 0.09821728693702184, \"petal_length\": 1.0469454037485695, \"petal_width\": 1.5804637593788784, \"species\": \"virginica\", \"cluster\": 0}, {\"sepal_length\": 1.2803404976879151, \"sepal_width\": 0.09821728693702184, \"petal_length\": 0.7627582691805538, \"petal_width\": 1.4488315750885774, \"species\": \"virginica\", \"cluster\": 0}, {\"sepal_length\": -0.05250607719224957, \"sepal_width\": -0.8225697780975633, \"petal_length\": 0.7627582691805538, \"petal_width\": 0.9223028379273742, \"species\": \"virginica\", \"cluster\": 7}, {\"sepal_length\": 1.1591726272442633, \"sepal_width\": 0.32841405319566835, \"petal_length\": 1.2174576844893792, \"petal_width\": 1.4488315750885774, \"species\": \"virginica\", \"cluster\": 0}, {\"sepal_length\": 1.0380047568006125, \"sepal_width\": 0.5586108194543139, \"petal_length\": 1.1037828306621729, \"petal_width\": 1.7120959436691794, \"species\": \"virginica\", \"cluster\": 0}, {\"sepal_length\": 1.0380047568006125, \"sepal_width\": -0.13197947932162468, \"petal_length\": 0.8195956960941572, \"petal_width\": 1.4488315750885774, \"species\": \"virginica\", \"cluster\": 0}, {\"sepal_length\": 0.5533332750260068, \"sepal_width\": -1.2829633106148564, \"petal_length\": 0.7059208422669508, \"petal_width\": 0.9223028379273742, \"species\": \"virginica\", \"cluster\": 7}, {\"sepal_length\": 0.7956690159133096, \"sepal_width\": -0.13197947932162468, \"petal_length\": 0.8195956960941572, \"petal_width\": 1.053935022217675, \"species\": \"virginica\", \"cluster\": 0}, {\"sepal_length\": 0.432165404582356, \"sepal_width\": 0.7888075857129604, \"petal_length\": 0.9332705499213636, \"petal_width\": 1.4488315750885774, \"species\": \"virginica\", \"cluster\": 0}, {\"sepal_length\": 0.06866179325140237, \"sepal_width\": -0.13197947932162468, \"petal_length\": 0.7627582691805538, \"petal_width\": 0.7906706536370736, \"species\": \"virginica\", \"cluster\": 2}]}}, {\"mode\": \"vega-lite\"});\n",
       "</script>"
      ],
      "text/plain": [
       "alt.Chart(...)"
      ]
     },
     "execution_count": 46,
     "metadata": {},
     "output_type": "execute_result"
    }
   ],
   "source": [
    "alt.Chart(df).mark_circle().encode(\n",
    "    x = \"sepal_length\",\n",
    "    y = \"petal_length\",\n",
    "    color = \"cluster:N\"\n",
    ")"
   ]
  },
  {
   "cell_type": "markdown",
   "metadata": {},
   "source": [
    "Usually we will specify the number of clusters.  If you don't specify, then it will use 8 as the default value."
   ]
  },
  {
   "cell_type": "code",
   "execution_count": null,
   "metadata": {
    "cell_id": "cc161d42b6c84caa9bf18052dc1c942a",
    "deepnote_cell_height": 701,
    "deepnote_cell_type": "code",
    "deepnote_to_be_reexecuted": false,
    "execution_millis": 6,
    "execution_start": 1650919186635,
    "source_hash": "dd522aa3",
    "tags": [
     "output_scroll"
    ]
   },
   "outputs": [
    {
     "name": "stdout",
     "output_type": "stream",
     "text": [
      "Help on class KMeans in module sklearn.cluster._kmeans:\n",
      "\n",
      "class KMeans(sklearn.base.TransformerMixin, sklearn.base.ClusterMixin, sklearn.base.BaseEstimator)\n",
      " |  KMeans(n_clusters=8, *, init='k-means++', n_init=10, max_iter=300, tol=0.0001, verbose=0, random_state=None, copy_x=True, algorithm='auto')\n",
      " |  \n",
      " |  K-Means clustering.\n",
      " |  \n",
      " |  Read more in the :ref:`User Guide <k_means>`.\n",
      " |  \n",
      " |  Parameters\n",
      " |  ----------\n",
      " |  \n",
      " |  n_clusters : int, default=8\n",
      " |      The number of clusters to form as well as the number of\n",
      " |      centroids to generate.\n",
      " |  \n",
      " |  init : {'k-means++', 'random'}, callable or array-like of shape             (n_clusters, n_features), default='k-means++'\n",
      " |      Method for initialization:\n",
      " |  \n",
      " |      'k-means++' : selects initial cluster centers for k-mean\n",
      " |      clustering in a smart way to speed up convergence. See section\n",
      " |      Notes in k_init for more details.\n",
      " |  \n",
      " |      'random': choose `n_clusters` observations (rows) at random from data\n",
      " |      for the initial centroids.\n",
      " |  \n",
      " |      If an array is passed, it should be of shape (n_clusters, n_features)\n",
      " |      and gives the initial centers.\n",
      " |  \n",
      " |      If a callable is passed, it should take arguments X, n_clusters and a\n",
      " |      random state and return an initialization.\n",
      " |  \n",
      " |  n_init : int, default=10\n",
      " |      Number of time the k-means algorithm will be run with different\n",
      " |      centroid seeds. The final results will be the best output of\n",
      " |      n_init consecutive runs in terms of inertia.\n",
      " |  \n",
      " |  max_iter : int, default=300\n",
      " |      Maximum number of iterations of the k-means algorithm for a\n",
      " |      single run.\n",
      " |  \n",
      " |  tol : float, default=1e-4\n",
      " |      Relative tolerance with regards to Frobenius norm of the difference\n",
      " |      in the cluster centers of two consecutive iterations to declare\n",
      " |      convergence.\n",
      " |  \n",
      " |  verbose : int, default=0\n",
      " |      Verbosity mode.\n",
      " |  \n",
      " |  random_state : int, RandomState instance or None, default=None\n",
      " |      Determines random number generation for centroid initialization. Use\n",
      " |      an int to make the randomness deterministic.\n",
      " |      See :term:`Glossary <random_state>`.\n",
      " |  \n",
      " |  copy_x : bool, default=True\n",
      " |      When pre-computing distances it is more numerically accurate to center\n",
      " |      the data first. If copy_x is True (default), then the original data is\n",
      " |      not modified. If False, the original data is modified, and put back\n",
      " |      before the function returns, but small numerical differences may be\n",
      " |      introduced by subtracting and then adding the data mean. Note that if\n",
      " |      the original data is not C-contiguous, a copy will be made even if\n",
      " |      copy_x is False. If the original data is sparse, but not in CSR format,\n",
      " |      a copy will be made even if copy_x is False.\n",
      " |  \n",
      " |  algorithm : {\"auto\", \"full\", \"elkan\"}, default=\"auto\"\n",
      " |      K-means algorithm to use. The classical EM-style algorithm is \"full\".\n",
      " |      The \"elkan\" variation is more efficient on data with well-defined\n",
      " |      clusters, by using the triangle inequality. However it's more memory\n",
      " |      intensive due to the allocation of an extra array of shape\n",
      " |      (n_samples, n_clusters).\n",
      " |  \n",
      " |      For now \"auto\" (kept for backward compatibility) chooses \"elkan\" but it\n",
      " |      might change in the future for a better heuristic.\n",
      " |  \n",
      " |      .. versionchanged:: 0.18\n",
      " |          Added Elkan algorithm\n",
      " |  \n",
      " |  Attributes\n",
      " |  ----------\n",
      " |  cluster_centers_ : ndarray of shape (n_clusters, n_features)\n",
      " |      Coordinates of cluster centers. If the algorithm stops before fully\n",
      " |      converging (see ``tol`` and ``max_iter``), these will not be\n",
      " |      consistent with ``labels_``.\n",
      " |  \n",
      " |  labels_ : ndarray of shape (n_samples,)\n",
      " |      Labels of each point\n",
      " |  \n",
      " |  inertia_ : float\n",
      " |      Sum of squared distances of samples to their closest cluster center,\n",
      " |      weighted by the sample weights if provided.\n",
      " |  \n",
      " |  n_iter_ : int\n",
      " |      Number of iterations run.\n",
      " |  \n",
      " |  n_features_in_ : int\n",
      " |      Number of features seen during :term:`fit`.\n",
      " |  \n",
      " |      .. versionadded:: 0.24\n",
      " |  \n",
      " |  feature_names_in_ : ndarray of shape (`n_features_in_`,)\n",
      " |      Names of features seen during :term:`fit`. Defined only when `X`\n",
      " |      has feature names that are all strings.\n",
      " |  \n",
      " |      .. versionadded:: 1.0\n",
      " |  \n",
      " |  See Also\n",
      " |  --------\n",
      " |  MiniBatchKMeans : Alternative online implementation that does incremental\n",
      " |      updates of the centers positions using mini-batches.\n",
      " |      For large scale learning (say n_samples > 10k) MiniBatchKMeans is\n",
      " |      probably much faster than the default batch implementation.\n",
      " |  \n",
      " |  Notes\n",
      " |  -----\n",
      " |  The k-means problem is solved using either Lloyd's or Elkan's algorithm.\n",
      " |  \n",
      " |  The average complexity is given by O(k n T), where n is the number of\n",
      " |  samples and T is the number of iteration.\n",
      " |  \n",
      " |  The worst case complexity is given by O(n^(k+2/p)) with\n",
      " |  n = n_samples, p = n_features. (D. Arthur and S. Vassilvitskii,\n",
      " |  'How slow is the k-means method?' SoCG2006)\n",
      " |  \n",
      " |  In practice, the k-means algorithm is very fast (one of the fastest\n",
      " |  clustering algorithms available), but it falls in local minima. That's why\n",
      " |  it can be useful to restart it several times.\n",
      " |  \n",
      " |  If the algorithm stops before fully converging (because of ``tol`` or\n",
      " |  ``max_iter``), ``labels_`` and ``cluster_centers_`` will not be consistent,\n",
      " |  i.e. the ``cluster_centers_`` will not be the means of the points in each\n",
      " |  cluster. Also, the estimator will reassign ``labels_`` after the last\n",
      " |  iteration to make ``labels_`` consistent with ``predict`` on the training\n",
      " |  set.\n",
      " |  \n",
      " |  Examples\n",
      " |  --------\n",
      " |  \n",
      " |  >>> from sklearn.cluster import KMeans\n",
      " |  >>> import numpy as np\n",
      " |  >>> X = np.array([[1, 2], [1, 4], [1, 0],\n",
      " |  ...               [10, 2], [10, 4], [10, 0]])\n",
      " |  >>> kmeans = KMeans(n_clusters=2, random_state=0).fit(X)\n",
      " |  >>> kmeans.labels_\n",
      " |  array([1, 1, 1, 0, 0, 0], dtype=int32)\n",
      " |  >>> kmeans.predict([[0, 0], [12, 3]])\n",
      " |  array([1, 0], dtype=int32)\n",
      " |  >>> kmeans.cluster_centers_\n",
      " |  array([[10.,  2.],\n",
      " |         [ 1.,  2.]])\n",
      " |  \n",
      " |  Method resolution order:\n",
      " |      KMeans\n",
      " |      sklearn.base.TransformerMixin\n",
      " |      sklearn.base.ClusterMixin\n",
      " |      sklearn.base.BaseEstimator\n",
      " |      builtins.object\n",
      " |  \n",
      " |  Methods defined here:\n",
      " |  \n",
      " |  __init__(self, n_clusters=8, *, init='k-means++', n_init=10, max_iter=300, tol=0.0001, verbose=0, random_state=None, copy_x=True, algorithm='auto')\n",
      " |      Initialize self.  See help(type(self)) for accurate signature.\n",
      " |  \n",
      " |  fit(self, X, y=None, sample_weight=None)\n",
      " |      Compute k-means clustering.\n",
      " |      \n",
      " |      Parameters\n",
      " |      ----------\n",
      " |      X : {array-like, sparse matrix} of shape (n_samples, n_features)\n",
      " |          Training instances to cluster. It must be noted that the data\n",
      " |          will be converted to C ordering, which will cause a memory\n",
      " |          copy if the given data is not C-contiguous.\n",
      " |          If a sparse matrix is passed, a copy will be made if it's not in\n",
      " |          CSR format.\n",
      " |      \n",
      " |      y : Ignored\n",
      " |          Not used, present here for API consistency by convention.\n",
      " |      \n",
      " |      sample_weight : array-like of shape (n_samples,), default=None\n",
      " |          The weights for each observation in X. If None, all observations\n",
      " |          are assigned equal weight.\n",
      " |      \n",
      " |          .. versionadded:: 0.20\n",
      " |      \n",
      " |      Returns\n",
      " |      -------\n",
      " |      self : object\n",
      " |          Fitted estimator.\n",
      " |  \n",
      " |  fit_predict(self, X, y=None, sample_weight=None)\n",
      " |      Compute cluster centers and predict cluster index for each sample.\n",
      " |      \n",
      " |      Convenience method; equivalent to calling fit(X) followed by\n",
      " |      predict(X).\n",
      " |      \n",
      " |      Parameters\n",
      " |      ----------\n",
      " |      X : {array-like, sparse matrix} of shape (n_samples, n_features)\n",
      " |          New data to transform.\n",
      " |      \n",
      " |      y : Ignored\n",
      " |          Not used, present here for API consistency by convention.\n",
      " |      \n",
      " |      sample_weight : array-like of shape (n_samples,), default=None\n",
      " |          The weights for each observation in X. If None, all observations\n",
      " |          are assigned equal weight.\n",
      " |      \n",
      " |      Returns\n",
      " |      -------\n",
      " |      labels : ndarray of shape (n_samples,)\n",
      " |          Index of the cluster each sample belongs to.\n",
      " |  \n",
      " |  fit_transform(self, X, y=None, sample_weight=None)\n",
      " |      Compute clustering and transform X to cluster-distance space.\n",
      " |      \n",
      " |      Equivalent to fit(X).transform(X), but more efficiently implemented.\n",
      " |      \n",
      " |      Parameters\n",
      " |      ----------\n",
      " |      X : {array-like, sparse matrix} of shape (n_samples, n_features)\n",
      " |          New data to transform.\n",
      " |      \n",
      " |      y : Ignored\n",
      " |          Not used, present here for API consistency by convention.\n",
      " |      \n",
      " |      sample_weight : array-like of shape (n_samples,), default=None\n",
      " |          The weights for each observation in X. If None, all observations\n",
      " |          are assigned equal weight.\n",
      " |      \n",
      " |      Returns\n",
      " |      -------\n",
      " |      X_new : ndarray of shape (n_samples, n_clusters)\n",
      " |          X transformed in the new space.\n",
      " |  \n",
      " |  predict(self, X, sample_weight=None)\n",
      " |      Predict the closest cluster each sample in X belongs to.\n",
      " |      \n",
      " |      In the vector quantization literature, `cluster_centers_` is called\n",
      " |      the code book and each value returned by `predict` is the index of\n",
      " |      the closest code in the code book.\n",
      " |      \n",
      " |      Parameters\n",
      " |      ----------\n",
      " |      X : {array-like, sparse matrix} of shape (n_samples, n_features)\n",
      " |          New data to predict.\n",
      " |      \n",
      " |      sample_weight : array-like of shape (n_samples,), default=None\n",
      " |          The weights for each observation in X. If None, all observations\n",
      " |          are assigned equal weight.\n",
      " |      \n",
      " |      Returns\n",
      " |      -------\n",
      " |      labels : ndarray of shape (n_samples,)\n",
      " |          Index of the cluster each sample belongs to.\n",
      " |  \n",
      " |  score(self, X, y=None, sample_weight=None)\n",
      " |      Opposite of the value of X on the K-means objective.\n",
      " |      \n",
      " |      Parameters\n",
      " |      ----------\n",
      " |      X : {array-like, sparse matrix} of shape (n_samples, n_features)\n",
      " |          New data.\n",
      " |      \n",
      " |      y : Ignored\n",
      " |          Not used, present here for API consistency by convention.\n",
      " |      \n",
      " |      sample_weight : array-like of shape (n_samples,), default=None\n",
      " |          The weights for each observation in X. If None, all observations\n",
      " |          are assigned equal weight.\n",
      " |      \n",
      " |      Returns\n",
      " |      -------\n",
      " |      score : float\n",
      " |          Opposite of the value of X on the K-means objective.\n",
      " |  \n",
      " |  transform(self, X)\n",
      " |      Transform X to a cluster-distance space.\n",
      " |      \n",
      " |      In the new space, each dimension is the distance to the cluster\n",
      " |      centers. Note that even if X is sparse, the array returned by\n",
      " |      `transform` will typically be dense.\n",
      " |      \n",
      " |      Parameters\n",
      " |      ----------\n",
      " |      X : {array-like, sparse matrix} of shape (n_samples, n_features)\n",
      " |          New data to transform.\n",
      " |      \n",
      " |      Returns\n",
      " |      -------\n",
      " |      X_new : ndarray of shape (n_samples, n_clusters)\n",
      " |          X transformed in the new space.\n",
      " |  \n",
      " |  ----------------------------------------------------------------------\n",
      " |  Data descriptors inherited from sklearn.base.TransformerMixin:\n",
      " |  \n",
      " |  __dict__\n",
      " |      dictionary for instance variables (if defined)\n",
      " |  \n",
      " |  __weakref__\n",
      " |      list of weak references to the object (if defined)\n",
      " |  \n",
      " |  ----------------------------------------------------------------------\n",
      " |  Methods inherited from sklearn.base.BaseEstimator:\n",
      " |  \n",
      " |  __getstate__(self)\n",
      " |  \n",
      " |  __repr__(self, N_CHAR_MAX=700)\n",
      " |      Return repr(self).\n",
      " |  \n",
      " |  __setstate__(self, state)\n",
      " |  \n",
      " |  get_params(self, deep=True)\n",
      " |      Get parameters for this estimator.\n",
      " |      \n",
      " |      Parameters\n",
      " |      ----------\n",
      " |      deep : bool, default=True\n",
      " |          If True, will return the parameters for this estimator and\n",
      " |          contained subobjects that are estimators.\n",
      " |      \n",
      " |      Returns\n",
      " |      -------\n",
      " |      params : dict\n",
      " |          Parameter names mapped to their values.\n",
      " |  \n",
      " |  set_params(self, **params)\n",
      " |      Set the parameters of this estimator.\n",
      " |      \n",
      " |      The method works on simple estimators as well as on nested objects\n",
      " |      (such as :class:`~sklearn.pipeline.Pipeline`). The latter have\n",
      " |      parameters of the form ``<component>__<parameter>`` so that it's\n",
      " |      possible to update each component of a nested object.\n",
      " |      \n",
      " |      Parameters\n",
      " |      ----------\n",
      " |      **params : dict\n",
      " |          Estimator parameters.\n",
      " |      \n",
      " |      Returns\n",
      " |      -------\n",
      " |      self : estimator instance\n",
      " |          Estimator instance.\n",
      "\n"
     ]
    }
   ],
   "source": [
    "help(KMeans)"
   ]
  },
  {
   "cell_type": "markdown",
   "metadata": {},
   "source": [
    "Here we create a new `KMeans` object, and specify that it should use 2 clusters."
   ]
  },
  {
   "cell_type": "code",
   "execution_count": null,
   "metadata": {
    "cell_id": "c8300fff47324edd842c597a21c2b16c",
    "deepnote_cell_height": 81,
    "deepnote_cell_type": "code",
    "deepnote_to_be_reexecuted": false,
    "execution_millis": 2,
    "execution_start": 1650919238797,
    "source_hash": "b415181c",
    "tags": []
   },
   "outputs": [],
   "source": [
    "kmeans2 = KMeans(n_clusters=2)"
   ]
  },
  {
   "cell_type": "code",
   "execution_count": null,
   "metadata": {
    "cell_id": "10b06419538d4aae900192a1e8fe230b",
    "deepnote_cell_height": 118.1875,
    "deepnote_cell_type": "code",
    "deepnote_output_heights": [
     21.1875
    ],
    "deepnote_to_be_reexecuted": false,
    "execution_millis": 20,
    "execution_start": 1650919258371,
    "source_hash": "1aa21c5",
    "tags": []
   },
   "outputs": [
    {
     "data": {
      "text/plain": [
       "KMeans(n_clusters=2)"
      ]
     },
     "execution_count": 49,
     "metadata": {},
     "output_type": "execute_result"
    }
   ],
   "source": [
    "kmeans2.fit(df[numcols])"
   ]
  },
  {
   "cell_type": "markdown",
   "metadata": {},
   "source": [
    "Here we save it as a new column.  (In lecture, I called this \"pred2\" instead of \"cluster2\".)"
   ]
  },
  {
   "cell_type": "code",
   "execution_count": null,
   "metadata": {
    "cell_id": "4e76caf2b61a445796e1a66808428761",
    "deepnote_cell_height": 81,
    "deepnote_cell_type": "code",
    "deepnote_to_be_reexecuted": false,
    "execution_millis": 8,
    "execution_start": 1650919291886,
    "source_hash": "e10b62cd",
    "tags": []
   },
   "outputs": [],
   "source": [
    "df[\"cluster2\"] = kmeans2.predict(df[numcols])"
   ]
  },
  {
   "cell_type": "code",
   "execution_count": null,
   "metadata": {
    "cell_id": "31c051df0a19431c8f19dae6de2596cb",
    "deepnote_cell_height": 600,
    "deepnote_cell_type": "code",
    "deepnote_to_be_reexecuted": false,
    "execution_millis": 59,
    "execution_start": 1650919304832,
    "source_hash": "f804c160",
    "tags": []
   },
   "outputs": [
    {
     "data": {
      "application/vnd.deepnote.dataframe.v3+json": {
       "column_count": 7,
       "columns": [
        {
         "dtype": "float64",
         "name": "sepal_length",
         "stats": {
          "histogram": [
           {
            "bin_end": -1.433819800249874,
            "bin_start": -1.870024133847019,
            "count": 9
           },
           {
            "bin_end": -0.9976154666527295,
            "bin_start": -1.433819800249874,
            "count": 23
           },
           {
            "bin_end": -0.5614111330555847,
            "bin_start": -0.9976154666527295,
            "count": 14
           },
           {
            "bin_end": -0.12520679945844004,
            "bin_start": -0.5614111330555847,
            "count": 27
           },
           {
            "bin_end": 0.31099753413870457,
            "bin_start": -0.12520679945844004,
            "count": 22
           },
           {
            "bin_end": 0.7472018677358496,
            "bin_start": 0.31099753413870457,
            "count": 20
           },
           {
            "bin_end": 1.1834062013329942,
            "bin_start": 0.7472018677358496,
            "count": 18
           },
           {
            "bin_end": 1.6196105349301388,
            "bin_start": 1.1834062013329942,
            "count": 6
           },
           {
            "bin_end": 2.0558148685272837,
            "bin_start": 1.6196105349301388,
            "count": 5
           },
           {
            "bin_end": 2.4920192021244283,
            "bin_start": 2.0558148685272837,
            "count": 6
           }
          ],
          "max": "2.4920192021244283",
          "min": "-1.870024133847019",
          "nan_count": 0,
          "unique_count": 35
         }
        },
        {
         "dtype": "float64",
         "name": "sepal_width",
         "stats": {
          "histogram": [
           {
            "bin_end": -1.8814749028873365,
            "bin_start": -2.433947141908088,
            "count": 4
           },
           {
            "bin_end": -1.3290026638665853,
            "bin_start": -1.8814749028873365,
            "count": 7
           },
           {
            "bin_end": -0.776530424845834,
            "bin_start": -1.3290026638665853,
            "count": 22
           },
           {
            "bin_end": -0.22405818582508275,
            "bin_start": -0.776530424845834,
            "count": 24
           },
           {
            "bin_end": 0.32841405319566874,
            "bin_start": -0.22405818582508275,
            "count": 50
           },
           {
            "bin_end": 0.8808862922164198,
            "bin_start": 0.32841405319566874,
            "count": 18
           },
           {
            "bin_end": 1.4333585312371708,
            "bin_start": 0.8808862922164198,
            "count": 10
           },
           {
            "bin_end": 1.9858307702579223,
            "bin_start": 1.4333585312371708,
            "count": 11
           },
           {
            "bin_end": 2.538303009278674,
            "bin_start": 1.9858307702579223,
            "count": 2
           },
           {
            "bin_end": 3.090775248299425,
            "bin_start": 2.538303009278674,
            "count": 2
           }
          ],
          "max": "3.090775248299425",
          "min": "-2.433947141908088",
          "nan_count": 0,
          "unique_count": 23
         }
        },
        {
         "dtype": "float64",
         "name": "petal_length",
         "stats": {
          "histogram": [
           {
            "bin_end": -1.2322354154869166,
            "bin_start": -1.567576234277175,
            "count": 37
           },
           {
            "bin_end": -0.8968945966966579,
            "bin_start": -1.2322354154869166,
            "count": 13
           },
           {
            "bin_end": -0.5615537779063995,
            "bin_start": -0.8968945966966579,
            "count": 0
           },
           {
            "bin_end": -0.2262129591161408,
            "bin_start": -0.5615537779063995,
            "count": 3
           },
           {
            "bin_end": 0.10912785967411787,
            "bin_start": -0.2262129591161408,
            "count": 8
           },
           {
            "bin_end": 0.4444686784643761,
            "bin_start": 0.10912785967411787,
            "count": 26
           },
           {
            "bin_end": 0.7798094972546348,
            "bin_start": 0.4444686784643761,
            "count": 29
           },
           {
            "bin_end": 1.1151503160448935,
            "bin_start": 0.7798094972546348,
            "count": 18
           },
           {
            "bin_end": 1.4504911348351521,
            "bin_start": 1.1151503160448935,
            "count": 11
           },
           {
            "bin_end": 1.7858319536254108,
            "bin_start": 1.4504911348351521,
            "count": 5
           }
          ],
          "max": "1.7858319536254108",
          "min": "-1.567576234277175",
          "nan_count": 0,
          "unique_count": 43
         }
        },
        {
         "dtype": "float64",
         "name": "petal_width",
         "stats": {
          "histogram": [
           {
            "bin_end": -1.1311592370013188,
            "bin_start": -1.4470764792980408,
            "count": 41
           },
           {
            "bin_end": -0.8152419947045968,
            "bin_start": -1.1311592370013188,
            "count": 8
           },
           {
            "bin_end": -0.4993247524078748,
            "bin_start": -0.8152419947045968,
            "count": 1
           },
           {
            "bin_end": -0.18340751011115275,
            "bin_start": -0.4993247524078748,
            "count": 7
           },
           {
            "bin_end": 0.13250973218556927,
            "bin_start": -0.18340751011115275,
            "count": 21
           },
           {
            "bin_end": 0.4484269744822913,
            "bin_start": 0.13250973218556927,
            "count": 20
           },
           {
            "bin_end": 0.7643442167790133,
            "bin_start": 0.4484269744822913,
            "count": 6
           },
           {
            "bin_end": 1.0802614590757353,
            "bin_start": 0.7643442167790133,
            "count": 23
           },
           {
            "bin_end": 1.3961787013724574,
            "bin_start": 1.0802614590757353,
            "count": 9
           },
           {
            "bin_end": 1.7120959436691794,
            "bin_start": 1.3961787013724574,
            "count": 14
           }
          ],
          "max": "1.7120959436691794",
          "min": "-1.4470764792980408",
          "nan_count": 0,
          "unique_count": 22
         }
        },
        {
         "dtype": "object",
         "name": "species",
         "stats": {
          "categories": [
           {
            "count": 50,
            "name": "setosa"
           },
           {
            "count": 50,
            "name": "versicolor"
           },
           {
            "count": 50,
            "name": "virginica"
           }
          ],
          "nan_count": 0,
          "unique_count": 3
         }
        },
        {
         "dtype": "int32",
         "name": "cluster",
         "stats": {
          "histogram": [
           {
            "bin_end": 0.7,
            "bin_start": 0,
            "count": 20
           },
           {
            "bin_end": 1.4,
            "bin_start": 0.7,
            "count": 21
           },
           {
            "bin_end": 2.0999999999999996,
            "bin_start": 1.4,
            "count": 36
           },
           {
            "bin_end": 2.8,
            "bin_start": 2.0999999999999996,
            "count": 0
           },
           {
            "bin_end": 3.5,
            "bin_start": 2.8,
            "count": 8
           },
           {
            "bin_end": 4.199999999999999,
            "bin_start": 3.5,
            "count": 18
           },
           {
            "bin_end": 4.8999999999999995,
            "bin_start": 4.199999999999999,
            "count": 0
           },
           {
            "bin_end": 5.6,
            "bin_start": 4.8999999999999995,
            "count": 12
           },
           {
            "bin_end": 6.3,
            "bin_start": 5.6,
            "count": 17
           },
           {
            "bin_end": 7,
            "bin_start": 6.3,
            "count": 18
           }
          ],
          "max": "7",
          "min": "0",
          "nan_count": 0,
          "unique_count": 8
         }
        },
        {
         "dtype": "int32",
         "name": "pred2",
         "stats": {
          "histogram": [
           {
            "bin_end": 0.1,
            "bin_start": 0,
            "count": 100
           },
           {
            "bin_end": 0.2,
            "bin_start": 0.1,
            "count": 0
           },
           {
            "bin_end": 0.30000000000000004,
            "bin_start": 0.2,
            "count": 0
           },
           {
            "bin_end": 0.4,
            "bin_start": 0.30000000000000004,
            "count": 0
           },
           {
            "bin_end": 0.5,
            "bin_start": 0.4,
            "count": 0
           },
           {
            "bin_end": 0.6000000000000001,
            "bin_start": 0.5,
            "count": 0
           },
           {
            "bin_end": 0.7000000000000001,
            "bin_start": 0.6000000000000001,
            "count": 0
           },
           {
            "bin_end": 0.8,
            "bin_start": 0.7000000000000001,
            "count": 0
           },
           {
            "bin_end": 0.9,
            "bin_start": 0.8,
            "count": 0
           },
           {
            "bin_end": 1,
            "bin_start": 0.9,
            "count": 50
           }
          ],
          "max": "1",
          "min": "0",
          "nan_count": 0,
          "unique_count": 2
         }
        },
        {
         "dtype": "int64",
         "name": "_deepnote_index_column"
        }
       ],
       "row_count": 150,
       "rows": [
        {
         "_deepnote_index_column": 0,
         "cluster": 1,
         "petal_length": -1.3402265266227624,
         "petal_width": -1.3154442950077403,
         "pred2": 1,
         "sepal_length": -0.9006811702978088,
         "sepal_width": 1.019004351971607,
         "species": "setosa"
        },
        {
         "_deepnote_index_column": 1,
         "cluster": 6,
         "petal_length": -1.3402265266227624,
         "petal_width": -1.3154442950077403,
         "pred2": 1,
         "sepal_length": -1.1430169111851105,
         "sepal_width": -0.13197947932162468,
         "species": "setosa"
        },
        {
         "_deepnote_index_column": 2,
         "cluster": 6,
         "petal_length": -1.3970639535363654,
         "petal_width": -1.3154442950077403,
         "pred2": 1,
         "sepal_length": -1.3853526520724133,
         "sepal_width": 0.32841405319566835,
         "species": "setosa"
        },
        {
         "_deepnote_index_column": 3,
         "cluster": 6,
         "petal_length": -1.2833890997091593,
         "petal_width": -1.3154442950077403,
         "pred2": 1,
         "sepal_length": -1.5065205225160652,
         "sepal_width": 0.09821728693702184,
         "species": "setosa"
        },
        {
         "_deepnote_index_column": 4,
         "cluster": 1,
         "petal_length": -1.3402265266227624,
         "petal_width": -1.3154442950077403,
         "pred2": 1,
         "sepal_length": -1.0218490407414595,
         "sepal_width": 1.2492011182302534,
         "species": "setosa"
        },
        {
         "_deepnote_index_column": 5,
         "cluster": 5,
         "petal_length": -1.1697142458819532,
         "petal_width": -1.0521799264271385,
         "pred2": 1,
         "sepal_length": -0.537177558966854,
         "sepal_width": 1.939791417006192,
         "species": "setosa"
        },
        {
         "_deepnote_index_column": 6,
         "cluster": 1,
         "petal_length": -1.3402265266227624,
         "petal_width": -1.1838121107174393,
         "pred2": 1,
         "sepal_length": -1.5065205225160652,
         "sepal_width": 0.7888075857129604,
         "species": "setosa"
        },
        {
         "_deepnote_index_column": 7,
         "cluster": 1,
         "petal_length": -1.2833890997091593,
         "petal_width": -1.3154442950077403,
         "pred2": 1,
         "sepal_length": -1.0218490407414595,
         "sepal_width": 0.7888075857129604,
         "species": "setosa"
        },
        {
         "_deepnote_index_column": 8,
         "cluster": 6,
         "petal_length": -1.3402265266227624,
         "petal_width": -1.3154442950077403,
         "pred2": 1,
         "sepal_length": -1.7488562634033669,
         "sepal_width": -0.3621762455802712,
         "species": "setosa"
        },
        {
         "_deepnote_index_column": 9,
         "cluster": 6,
         "petal_length": -1.2833890997091593,
         "petal_width": -1.4470764792980408,
         "pred2": 1,
         "sepal_length": -1.1430169111851105,
         "sepal_width": 0.09821728693702184,
         "species": "setosa"
        }
       ]
      },
      "text/html": [
       "<div>\n",
       "<style scoped>\n",
       "    .dataframe tbody tr th:only-of-type {\n",
       "        vertical-align: middle;\n",
       "    }\n",
       "\n",
       "    .dataframe tbody tr th {\n",
       "        vertical-align: top;\n",
       "    }\n",
       "\n",
       "    .dataframe thead th {\n",
       "        text-align: right;\n",
       "    }\n",
       "</style>\n",
       "<table border=\"1\" class=\"dataframe\">\n",
       "  <thead>\n",
       "    <tr style=\"text-align: right;\">\n",
       "      <th></th>\n",
       "      <th>sepal_length</th>\n",
       "      <th>sepal_width</th>\n",
       "      <th>petal_length</th>\n",
       "      <th>petal_width</th>\n",
       "      <th>species</th>\n",
       "      <th>cluster</th>\n",
       "      <th>pred2</th>\n",
       "    </tr>\n",
       "  </thead>\n",
       "  <tbody>\n",
       "    <tr>\n",
       "      <th>0</th>\n",
       "      <td>-0.900681</td>\n",
       "      <td>1.019004</td>\n",
       "      <td>-1.340227</td>\n",
       "      <td>-1.315444</td>\n",
       "      <td>setosa</td>\n",
       "      <td>1</td>\n",
       "      <td>1</td>\n",
       "    </tr>\n",
       "    <tr>\n",
       "      <th>1</th>\n",
       "      <td>-1.143017</td>\n",
       "      <td>-0.131979</td>\n",
       "      <td>-1.340227</td>\n",
       "      <td>-1.315444</td>\n",
       "      <td>setosa</td>\n",
       "      <td>6</td>\n",
       "      <td>1</td>\n",
       "    </tr>\n",
       "    <tr>\n",
       "      <th>2</th>\n",
       "      <td>-1.385353</td>\n",
       "      <td>0.328414</td>\n",
       "      <td>-1.397064</td>\n",
       "      <td>-1.315444</td>\n",
       "      <td>setosa</td>\n",
       "      <td>6</td>\n",
       "      <td>1</td>\n",
       "    </tr>\n",
       "    <tr>\n",
       "      <th>3</th>\n",
       "      <td>-1.506521</td>\n",
       "      <td>0.098217</td>\n",
       "      <td>-1.283389</td>\n",
       "      <td>-1.315444</td>\n",
       "      <td>setosa</td>\n",
       "      <td>6</td>\n",
       "      <td>1</td>\n",
       "    </tr>\n",
       "    <tr>\n",
       "      <th>4</th>\n",
       "      <td>-1.021849</td>\n",
       "      <td>1.249201</td>\n",
       "      <td>-1.340227</td>\n",
       "      <td>-1.315444</td>\n",
       "      <td>setosa</td>\n",
       "      <td>1</td>\n",
       "      <td>1</td>\n",
       "    </tr>\n",
       "    <tr>\n",
       "      <th>...</th>\n",
       "      <td>...</td>\n",
       "      <td>...</td>\n",
       "      <td>...</td>\n",
       "      <td>...</td>\n",
       "      <td>...</td>\n",
       "      <td>...</td>\n",
       "      <td>...</td>\n",
       "    </tr>\n",
       "    <tr>\n",
       "      <th>145</th>\n",
       "      <td>1.038005</td>\n",
       "      <td>-0.131979</td>\n",
       "      <td>0.819596</td>\n",
       "      <td>1.448832</td>\n",
       "      <td>virginica</td>\n",
       "      <td>0</td>\n",
       "      <td>0</td>\n",
       "    </tr>\n",
       "    <tr>\n",
       "      <th>146</th>\n",
       "      <td>0.553333</td>\n",
       "      <td>-1.282963</td>\n",
       "      <td>0.705921</td>\n",
       "      <td>0.922303</td>\n",
       "      <td>virginica</td>\n",
       "      <td>7</td>\n",
       "      <td>0</td>\n",
       "    </tr>\n",
       "    <tr>\n",
       "      <th>147</th>\n",
       "      <td>0.795669</td>\n",
       "      <td>-0.131979</td>\n",
       "      <td>0.819596</td>\n",
       "      <td>1.053935</td>\n",
       "      <td>virginica</td>\n",
       "      <td>0</td>\n",
       "      <td>0</td>\n",
       "    </tr>\n",
       "    <tr>\n",
       "      <th>148</th>\n",
       "      <td>0.432165</td>\n",
       "      <td>0.788808</td>\n",
       "      <td>0.933271</td>\n",
       "      <td>1.448832</td>\n",
       "      <td>virginica</td>\n",
       "      <td>0</td>\n",
       "      <td>0</td>\n",
       "    </tr>\n",
       "    <tr>\n",
       "      <th>149</th>\n",
       "      <td>0.068662</td>\n",
       "      <td>-0.131979</td>\n",
       "      <td>0.762758</td>\n",
       "      <td>0.790671</td>\n",
       "      <td>virginica</td>\n",
       "      <td>2</td>\n",
       "      <td>0</td>\n",
       "    </tr>\n",
       "  </tbody>\n",
       "</table>\n",
       "<p>150 rows × 7 columns</p>\n",
       "</div>"
      ],
      "text/plain": [
       "     sepal_length  sepal_width  petal_length  petal_width    species  cluster  \\\n",
       "0       -0.900681     1.019004     -1.340227    -1.315444     setosa        1   \n",
       "1       -1.143017    -0.131979     -1.340227    -1.315444     setosa        6   \n",
       "2       -1.385353     0.328414     -1.397064    -1.315444     setosa        6   \n",
       "3       -1.506521     0.098217     -1.283389    -1.315444     setosa        6   \n",
       "4       -1.021849     1.249201     -1.340227    -1.315444     setosa        1   \n",
       "..            ...          ...           ...          ...        ...      ...   \n",
       "145      1.038005    -0.131979      0.819596     1.448832  virginica        0   \n",
       "146      0.553333    -1.282963      0.705921     0.922303  virginica        7   \n",
       "147      0.795669    -0.131979      0.819596     1.053935  virginica        0   \n",
       "148      0.432165     0.788808      0.933271     1.448832  virginica        0   \n",
       "149      0.068662    -0.131979      0.762758     0.790671  virginica        2   \n",
       "\n",
       "     pred2  \n",
       "0        1  \n",
       "1        1  \n",
       "2        1  \n",
       "3        1  \n",
       "4        1  \n",
       "..     ...  \n",
       "145      0  \n",
       "146      0  \n",
       "147      0  \n",
       "148      0  \n",
       "149      0  \n",
       "\n",
       "[150 rows x 7 columns]"
      ]
     },
     "execution_count": 51,
     "metadata": {},
     "output_type": "execute_result"
    }
   ],
   "source": [
    "df"
   ]
  },
  {
   "cell_type": "code",
   "execution_count": null,
   "metadata": {
    "cell_id": "8766436694b747129da27ab94039b8fd",
    "deepnote_cell_height": 530,
    "deepnote_cell_type": "code",
    "deepnote_output_heights": [
     361
    ],
    "deepnote_to_be_reexecuted": false,
    "execution_millis": 23,
    "execution_start": 1650919354219,
    "source_hash": "edc09f27",
    "tags": []
   },
   "outputs": [
    {
     "data": {
      "text/html": [
       "\n",
       "<div id=\"altair-viz-2718c6a83b8c46fdbba8023d619f6ae1\"></div>\n",
       "<script type=\"text/javascript\">\n",
       "  (function(spec, embedOpt){\n",
       "    let outputDiv = document.currentScript.previousElementSibling;\n",
       "    if (outputDiv.id !== \"altair-viz-2718c6a83b8c46fdbba8023d619f6ae1\") {\n",
       "      outputDiv = document.getElementById(\"altair-viz-2718c6a83b8c46fdbba8023d619f6ae1\");\n",
       "    }\n",
       "    const paths = {\n",
       "      \"vega\": \"https://cdn.jsdelivr.net/npm//vega@5?noext\",\n",
       "      \"vega-lib\": \"https://cdn.jsdelivr.net/npm//vega-lib?noext\",\n",
       "      \"vega-lite\": \"https://cdn.jsdelivr.net/npm//vega-lite@4.8.1?noext\",\n",
       "      \"vega-embed\": \"https://cdn.jsdelivr.net/npm//vega-embed@6?noext\",\n",
       "    };\n",
       "\n",
       "    function loadScript(lib) {\n",
       "      return new Promise(function(resolve, reject) {\n",
       "        var s = document.createElement('script');\n",
       "        s.src = paths[lib];\n",
       "        s.async = true;\n",
       "        s.onload = () => resolve(paths[lib]);\n",
       "        s.onerror = () => reject(`Error loading script: ${paths[lib]}`);\n",
       "        document.getElementsByTagName(\"head\")[0].appendChild(s);\n",
       "      });\n",
       "    }\n",
       "\n",
       "    function showError(err) {\n",
       "      outputDiv.innerHTML = `<div class=\"error\" style=\"color:red;\">${err}</div>`;\n",
       "      throw err;\n",
       "    }\n",
       "\n",
       "    function displayChart(vegaEmbed) {\n",
       "      vegaEmbed(outputDiv, spec, embedOpt)\n",
       "        .catch(err => showError(`Javascript Error: ${err.message}<br>This usually means there's a typo in your chart specification. See the javascript console for the full traceback.`));\n",
       "    }\n",
       "\n",
       "    if(typeof define === \"function\" && define.amd) {\n",
       "      requirejs.config({paths});\n",
       "      require([\"vega-embed\"], displayChart, err => showError(`Error loading script: ${err.message}`));\n",
       "    } else if (typeof vegaEmbed === \"function\") {\n",
       "      displayChart(vegaEmbed);\n",
       "    } else {\n",
       "      loadScript(\"vega\")\n",
       "        .then(() => loadScript(\"vega-lite\"))\n",
       "        .then(() => loadScript(\"vega-embed\"))\n",
       "        .catch(showError)\n",
       "        .then(() => displayChart(vegaEmbed));\n",
       "    }\n",
       "  })({\"config\": {\"view\": {\"continuousWidth\": 400, \"continuousHeight\": 300}}, \"data\": {\"name\": \"data-a3998929c6ad7493ab440ac14b47ad86\"}, \"mark\": \"circle\", \"encoding\": {\"color\": {\"type\": \"nominal\", \"field\": \"pred2\"}, \"x\": {\"type\": \"quantitative\", \"field\": \"sepal_length\"}, \"y\": {\"type\": \"quantitative\", \"field\": \"petal_length\"}}, \"$schema\": \"https://vega.github.io/schema/vega-lite/v4.8.1.json\", \"datasets\": {\"data-a3998929c6ad7493ab440ac14b47ad86\": [{\"sepal_length\": -0.9006811702978088, \"sepal_width\": 1.019004351971607, \"petal_length\": -1.3402265266227624, \"petal_width\": -1.3154442950077403, \"species\": \"setosa\", \"cluster\": 1, \"pred2\": 1}, {\"sepal_length\": -1.1430169111851105, \"sepal_width\": -0.13197947932162468, \"petal_length\": -1.3402265266227624, \"petal_width\": -1.3154442950077403, \"species\": \"setosa\", \"cluster\": 6, \"pred2\": 1}, {\"sepal_length\": -1.3853526520724133, \"sepal_width\": 0.32841405319566835, \"petal_length\": -1.3970639535363654, \"petal_width\": -1.3154442950077403, \"species\": \"setosa\", \"cluster\": 6, \"pred2\": 1}, {\"sepal_length\": -1.5065205225160652, \"sepal_width\": 0.09821728693702184, \"petal_length\": -1.2833890997091593, \"petal_width\": -1.3154442950077403, \"species\": \"setosa\", \"cluster\": 6, \"pred2\": 1}, {\"sepal_length\": -1.0218490407414595, \"sepal_width\": 1.2492011182302534, \"petal_length\": -1.3402265266227624, \"petal_width\": -1.3154442950077403, \"species\": \"setosa\", \"cluster\": 1, \"pred2\": 1}, {\"sepal_length\": -0.537177558966854, \"sepal_width\": 1.939791417006192, \"petal_length\": -1.1697142458819532, \"petal_width\": -1.0521799264271385, \"species\": \"setosa\", \"cluster\": 5, \"pred2\": 1}, {\"sepal_length\": -1.5065205225160652, \"sepal_width\": 0.7888075857129604, \"petal_length\": -1.3402265266227624, \"petal_width\": -1.1838121107174393, \"species\": \"setosa\", \"cluster\": 1, \"pred2\": 1}, {\"sepal_length\": -1.0218490407414595, \"sepal_width\": 0.7888075857129604, \"petal_length\": -1.2833890997091593, \"petal_width\": -1.3154442950077403, \"species\": \"setosa\", \"cluster\": 1, \"pred2\": 1}, {\"sepal_length\": -1.7488562634033669, \"sepal_width\": -0.3621762455802712, \"petal_length\": -1.3402265266227624, \"petal_width\": -1.3154442950077403, \"species\": \"setosa\", \"cluster\": 6, \"pred2\": 1}, {\"sepal_length\": -1.1430169111851105, \"sepal_width\": 0.09821728693702184, \"petal_length\": -1.2833890997091593, \"petal_width\": -1.4470764792980408, \"species\": \"setosa\", \"cluster\": 6, \"pred2\": 1}, {\"sepal_length\": -0.537177558966854, \"sepal_width\": 1.4793978844889, \"petal_length\": -1.2833890997091593, \"petal_width\": -1.3154442950077403, \"species\": \"setosa\", \"cluster\": 5, \"pred2\": 1}, {\"sepal_length\": -1.2641847816287624, \"sepal_width\": 0.7888075857129604, \"petal_length\": -1.226551672795556, \"petal_width\": -1.3154442950077403, \"species\": \"setosa\", \"cluster\": 1, \"pred2\": 1}, {\"sepal_length\": -1.2641847816287624, \"sepal_width\": -0.13197947932162468, \"petal_length\": -1.3402265266227624, \"petal_width\": -1.4470764792980408, \"species\": \"setosa\", \"cluster\": 6, \"pred2\": 1}, {\"sepal_length\": -1.870024133847019, \"sepal_width\": -0.13197947932162468, \"petal_length\": -1.5107388073635717, \"petal_width\": -1.4470764792980408, \"species\": \"setosa\", \"cluster\": 6, \"pred2\": 1}, {\"sepal_length\": -0.05250607719224957, \"sepal_width\": 2.1699881832648384, \"petal_length\": -1.4539013804499687, \"petal_width\": -1.3154442950077403, \"species\": \"setosa\", \"cluster\": 5, \"pred2\": 1}, {\"sepal_length\": -0.1736739476359004, \"sepal_width\": 3.090775248299425, \"petal_length\": -1.2833890997091593, \"petal_width\": -1.0521799264271385, \"species\": \"setosa\", \"cluster\": 5, \"pred2\": 1}, {\"sepal_length\": -0.537177558966854, \"sepal_width\": 1.939791417006192, \"petal_length\": -1.3970639535363654, \"petal_width\": -1.0521799264271385, \"species\": \"setosa\", \"cluster\": 5, \"pred2\": 1}, {\"sepal_length\": -0.9006811702978088, \"sepal_width\": 1.019004351971607, \"petal_length\": -1.3402265266227624, \"petal_width\": -1.1838121107174393, \"species\": \"setosa\", \"cluster\": 1, \"pred2\": 1}, {\"sepal_length\": -0.1736739476359004, \"sepal_width\": 1.7095946507475455, \"petal_length\": -1.1697142458819532, \"petal_width\": -1.1838121107174393, \"species\": \"setosa\", \"cluster\": 5, \"pred2\": 1}, {\"sepal_length\": -0.9006811702978088, \"sepal_width\": 1.7095946507475455, \"petal_length\": -1.2833890997091593, \"petal_width\": -1.1838121107174393, \"species\": \"setosa\", \"cluster\": 5, \"pred2\": 1}, {\"sepal_length\": -0.537177558966854, \"sepal_width\": 0.7888075857129604, \"petal_length\": -1.1697142458819532, \"petal_width\": -1.3154442950077403, \"species\": \"setosa\", \"cluster\": 1, \"pred2\": 1}, {\"sepal_length\": -0.9006811702978088, \"sepal_width\": 1.4793978844889, \"petal_length\": -1.2833890997091593, \"petal_width\": -1.0521799264271385, \"species\": \"setosa\", \"cluster\": 1, \"pred2\": 1}, {\"sepal_length\": -1.5065205225160652, \"sepal_width\": 1.2492011182302534, \"petal_length\": -1.567576234277175, \"petal_width\": -1.3154442950077403, \"species\": \"setosa\", \"cluster\": 1, \"pred2\": 1}, {\"sepal_length\": -0.9006811702978088, \"sepal_width\": 0.5586108194543139, \"petal_length\": -1.1697142458819532, \"petal_width\": -0.9205477421368377, \"species\": \"setosa\", \"cluster\": 1, \"pred2\": 1}, {\"sepal_length\": -1.2641847816287624, \"sepal_width\": 0.7888075857129604, \"petal_length\": -1.0560393920547466, \"petal_width\": -1.3154442950077403, \"species\": \"setosa\", \"cluster\": 1, \"pred2\": 1}, {\"sepal_length\": -1.0218490407414595, \"sepal_width\": -0.13197947932162468, \"petal_length\": -1.226551672795556, \"petal_width\": -1.3154442950077403, \"species\": \"setosa\", \"cluster\": 6, \"pred2\": 1}, {\"sepal_length\": -1.0218490407414595, \"sepal_width\": 0.7888075857129604, \"petal_length\": -1.226551672795556, \"petal_width\": -1.0521799264271385, \"species\": \"setosa\", \"cluster\": 1, \"pred2\": 1}, {\"sepal_length\": -0.7795132998541568, \"sepal_width\": 1.019004351971607, \"petal_length\": -1.2833890997091593, \"petal_width\": -1.3154442950077403, \"species\": \"setosa\", \"cluster\": 1, \"pred2\": 1}, {\"sepal_length\": -0.7795132998541568, \"sepal_width\": 0.7888075857129604, \"petal_length\": -1.3402265266227624, \"petal_width\": -1.3154442950077403, \"species\": \"setosa\", \"cluster\": 1, \"pred2\": 1}, {\"sepal_length\": -1.3853526520724133, \"sepal_width\": 0.32841405319566835, \"petal_length\": -1.226551672795556, \"petal_width\": -1.3154442950077403, \"species\": \"setosa\", \"cluster\": 6, \"pred2\": 1}, {\"sepal_length\": -1.2641847816287624, \"sepal_width\": 0.09821728693702184, \"petal_length\": -1.226551672795556, \"petal_width\": -1.3154442950077403, \"species\": \"setosa\", \"cluster\": 6, \"pred2\": 1}, {\"sepal_length\": -0.537177558966854, \"sepal_width\": 0.7888075857129604, \"petal_length\": -1.2833890997091593, \"petal_width\": -1.0521799264271385, \"species\": \"setosa\", \"cluster\": 1, \"pred2\": 1}, {\"sepal_length\": -0.7795132998541568, \"sepal_width\": 2.400184949523484, \"petal_length\": -1.2833890997091593, \"petal_width\": -1.4470764792980408, \"species\": \"setosa\", \"cluster\": 5, \"pred2\": 1}, {\"sepal_length\": -0.4160096885232032, \"sepal_width\": 2.6303817157821316, \"petal_length\": -1.3402265266227624, \"petal_width\": -1.3154442950077403, \"species\": \"setosa\", \"cluster\": 5, \"pred2\": 1}, {\"sepal_length\": -1.1430169111851105, \"sepal_width\": 0.09821728693702184, \"petal_length\": -1.2833890997091593, \"petal_width\": -1.3154442950077403, \"species\": \"setosa\", \"cluster\": 6, \"pred2\": 1}, {\"sepal_length\": -1.0218490407414595, \"sepal_width\": 0.32841405319566835, \"petal_length\": -1.4539013804499687, \"petal_width\": -1.3154442950077403, \"species\": \"setosa\", \"cluster\": 6, \"pred2\": 1}, {\"sepal_length\": -0.4160096885232032, \"sepal_width\": 1.019004351971607, \"petal_length\": -1.3970639535363654, \"petal_width\": -1.3154442950077403, \"species\": \"setosa\", \"cluster\": 1, \"pred2\": 1}, {\"sepal_length\": -1.1430169111851105, \"sepal_width\": 1.2492011182302534, \"petal_length\": -1.3402265266227624, \"petal_width\": -1.4470764792980408, \"species\": \"setosa\", \"cluster\": 1, \"pred2\": 1}, {\"sepal_length\": -1.7488562634033669, \"sepal_width\": -0.13197947932162468, \"petal_length\": -1.3970639535363654, \"petal_width\": -1.3154442950077403, \"species\": \"setosa\", \"cluster\": 6, \"pred2\": 1}, {\"sepal_length\": -0.9006811702978088, \"sepal_width\": 0.7888075857129604, \"petal_length\": -1.2833890997091593, \"petal_width\": -1.3154442950077403, \"species\": \"setosa\", \"cluster\": 1, \"pred2\": 1}, {\"sepal_length\": -1.0218490407414595, \"sepal_width\": 1.019004351971607, \"petal_length\": -1.3970639535363654, \"petal_width\": -1.1838121107174393, \"species\": \"setosa\", \"cluster\": 1, \"pred2\": 1}, {\"sepal_length\": -1.6276883929597161, \"sepal_width\": -1.7433568431321493, \"petal_length\": -1.3970639535363654, \"petal_width\": -1.1838121107174393, \"species\": \"setosa\", \"cluster\": 6, \"pred2\": 1}, {\"sepal_length\": -1.7488562634033669, \"sepal_width\": 0.32841405319566835, \"petal_length\": -1.3970639535363654, \"petal_width\": -1.3154442950077403, \"species\": \"setosa\", \"cluster\": 6, \"pred2\": 1}, {\"sepal_length\": -1.0218490407414595, \"sepal_width\": 1.019004351971607, \"petal_length\": -1.226551672795556, \"petal_width\": -0.7889155578465368, \"species\": \"setosa\", \"cluster\": 1, \"pred2\": 1}, {\"sepal_length\": -0.9006811702978088, \"sepal_width\": 1.7095946507475455, \"petal_length\": -1.0560393920547466, \"petal_width\": -1.0521799264271385, \"species\": \"setosa\", \"cluster\": 5, \"pred2\": 1}, {\"sepal_length\": -1.2641847816287624, \"sepal_width\": -0.13197947932162468, \"petal_length\": -1.3402265266227624, \"petal_width\": -1.1838121107174393, \"species\": \"setosa\", \"cluster\": 6, \"pred2\": 1}, {\"sepal_length\": -0.9006811702978088, \"sepal_width\": 1.7095946507475455, \"petal_length\": -1.226551672795556, \"petal_width\": -1.3154442950077403, \"species\": \"setosa\", \"cluster\": 5, \"pred2\": 1}, {\"sepal_length\": -1.5065205225160652, \"sepal_width\": 0.32841405319566835, \"petal_length\": -1.3402265266227624, \"petal_width\": -1.3154442950077403, \"species\": \"setosa\", \"cluster\": 6, \"pred2\": 1}, {\"sepal_length\": -0.658345429410506, \"sepal_width\": 1.4793978844889, \"petal_length\": -1.2833890997091593, \"petal_width\": -1.3154442950077403, \"species\": \"setosa\", \"cluster\": 5, \"pred2\": 1}, {\"sepal_length\": -1.0218490407414595, \"sepal_width\": 0.5586108194543139, \"petal_length\": -1.3402265266227624, \"petal_width\": -1.3154442950077403, \"species\": \"setosa\", \"cluster\": 1, \"pred2\": 1}, {\"sepal_length\": 1.401508368131566, \"sepal_width\": 0.32841405319566835, \"petal_length\": 0.5354085615261415, \"petal_width\": 0.26414191647586993, \"species\": \"versicolor\", \"cluster\": 2, \"pred2\": 0}, {\"sepal_length\": 0.6745011454696588, \"sepal_width\": 0.32841405319566835, \"petal_length\": 0.4217337076989351, \"petal_width\": 0.3957741007661709, \"species\": \"versicolor\", \"cluster\": 2, \"pred2\": 0}, {\"sepal_length\": 1.2803404976879151, \"sepal_width\": 0.09821728693702184, \"petal_length\": 0.6490834153533479, \"petal_width\": 0.3957741007661709, \"species\": \"versicolor\", \"cluster\": 2, \"pred2\": 0}, {\"sepal_length\": -0.4160096885232032, \"sepal_width\": -1.7433568431321493, \"petal_length\": 0.13754657313091936, \"petal_width\": 0.13250973218556925, \"species\": \"versicolor\", \"cluster\": 4, \"pred2\": 0}, {\"sepal_length\": 0.7956690159133096, \"sepal_width\": -0.5923730118389178, \"petal_length\": 0.47857113461253803, \"petal_width\": 0.3957741007661709, \"species\": \"versicolor\", \"cluster\": 2, \"pred2\": 0}, {\"sepal_length\": -0.1736739476359004, \"sepal_width\": -0.5923730118389178, \"petal_length\": 0.4217337076989351, \"petal_width\": 0.13250973218556925, \"species\": \"versicolor\", \"cluster\": 2, \"pred2\": 0}, {\"sepal_length\": 0.5533332750260068, \"sepal_width\": 0.5586108194543139, \"petal_length\": 0.5354085615261415, \"petal_width\": 0.5274062850564719, \"species\": \"versicolor\", \"cluster\": 2, \"pred2\": 0}, {\"sepal_length\": -1.1430169111851105, \"sepal_width\": -1.513160076873503, \"petal_length\": -0.26031541526430274, \"petal_width\": -0.26238682068533337, \"species\": \"versicolor\", \"cluster\": 4, \"pred2\": 0}, {\"sepal_length\": 0.9168368863569605, \"sepal_width\": -0.3621762455802712, \"petal_length\": 0.47857113461253803, \"petal_width\": 0.13250973218556925, \"species\": \"versicolor\", \"cluster\": 2, \"pred2\": 0}, {\"sepal_length\": -0.7795132998541568, \"sepal_width\": -0.8225697780975633, \"petal_length\": 0.08070914621731616, \"petal_width\": 0.26414191647586993, \"species\": \"versicolor\", \"cluster\": 4, \"pred2\": 0}, {\"sepal_length\": -1.0218490407414595, \"sepal_width\": -2.433947141908088, \"petal_length\": -0.14664056143709636, \"petal_width\": -0.26238682068533337, \"species\": \"versicolor\", \"cluster\": 4, \"pred2\": 0}, {\"sepal_length\": 0.06866179325140237, \"sepal_width\": -0.13197947932162468, \"petal_length\": 0.2512214269581257, \"petal_width\": 0.3957741007661709, \"species\": \"versicolor\", \"cluster\": 2, \"pred2\": 0}, {\"sepal_length\": 0.18982966369505322, \"sepal_width\": -1.9735536093907948, \"petal_length\": 0.13754657313091936, \"petal_width\": -0.26238682068533337, \"species\": \"versicolor\", \"cluster\": 4, \"pred2\": 0}, {\"sepal_length\": 0.31099753413870407, \"sepal_width\": -0.3621762455802712, \"petal_length\": 0.5354085615261415, \"petal_width\": 0.26414191647586993, \"species\": \"versicolor\", \"cluster\": 2, \"pred2\": 0}, {\"sepal_length\": -0.29484181807955234, \"sepal_width\": -0.3621762455802712, \"petal_length\": -0.08980313452349317, \"petal_width\": 0.13250973218556925, \"species\": \"versicolor\", \"cluster\": 2, \"pred2\": 0}, {\"sepal_length\": 1.0380047568006125, \"sepal_width\": 0.09821728693702184, \"petal_length\": 0.36489628078533215, \"petal_width\": 0.26414191647586993, \"species\": \"versicolor\", \"cluster\": 2, \"pred2\": 0}, {\"sepal_length\": -0.29484181807955234, \"sepal_width\": -0.13197947932162468, \"petal_length\": 0.4217337076989351, \"petal_width\": 0.3957741007661709, \"species\": \"versicolor\", \"cluster\": 2, \"pred2\": 0}, {\"sepal_length\": -0.05250607719224957, \"sepal_width\": -0.8225697780975633, \"petal_length\": 0.1943840000445223, \"petal_width\": -0.26238682068533337, \"species\": \"versicolor\", \"cluster\": 4, \"pred2\": 0}, {\"sepal_length\": 0.432165404582356, \"sepal_width\": -1.9735536093907948, \"petal_length\": 0.4217337076989351, \"petal_width\": 0.3957741007661709, \"species\": \"versicolor\", \"cluster\": 7, \"pred2\": 0}, {\"sepal_length\": -0.29484181807955234, \"sepal_width\": -1.2829633106148564, \"petal_length\": 0.08070914621731616, \"petal_width\": -0.1307546363950324, \"species\": \"versicolor\", \"cluster\": 4, \"pred2\": 0}, {\"sepal_length\": 0.06866179325140237, \"sepal_width\": 0.32841405319566835, \"petal_length\": 0.5922459884397444, \"petal_width\": 0.7906706536370736, \"species\": \"versicolor\", \"cluster\": 2, \"pred2\": 0}, {\"sepal_length\": 0.31099753413870407, \"sepal_width\": -0.5923730118389178, \"petal_length\": 0.13754657313091936, \"petal_width\": 0.13250973218556925, \"species\": \"versicolor\", \"cluster\": 2, \"pred2\": 0}, {\"sepal_length\": 0.5533332750260068, \"sepal_width\": -1.2829633106148564, \"petal_length\": 0.6490834153533479, \"petal_width\": 0.3957741007661709, \"species\": \"versicolor\", \"cluster\": 7, \"pred2\": 0}, {\"sepal_length\": 0.31099753413870407, \"sepal_width\": -0.5923730118389178, \"petal_length\": 0.5354085615261415, \"petal_width\": 0.0008775478952682834, \"species\": \"versicolor\", \"cluster\": 2, \"pred2\": 0}, {\"sepal_length\": 0.6745011454696588, \"sepal_width\": -0.3621762455802712, \"petal_length\": 0.30805885387172866, \"petal_width\": 0.13250973218556925, \"species\": \"versicolor\", \"cluster\": 2, \"pred2\": 0}, {\"sepal_length\": 0.9168368863569605, \"sepal_width\": -0.13197947932162468, \"petal_length\": 0.36489628078533215, \"petal_width\": 0.26414191647586993, \"species\": \"versicolor\", \"cluster\": 2, \"pred2\": 0}, {\"sepal_length\": 1.1591726272442633, \"sepal_width\": -0.5923730118389178, \"petal_length\": 0.5922459884397444, \"petal_width\": 0.26414191647586993, \"species\": \"versicolor\", \"cluster\": 2, \"pred2\": 0}, {\"sepal_length\": 1.0380047568006125, \"sepal_width\": -0.13197947932162468, \"petal_length\": 0.7059208422669508, \"petal_width\": 0.6590384693467726, \"species\": \"versicolor\", \"cluster\": 2, \"pred2\": 0}, {\"sepal_length\": 0.18982966369505322, \"sepal_width\": -0.3621762455802712, \"petal_length\": 0.4217337076989351, \"petal_width\": 0.3957741007661709, \"species\": \"versicolor\", \"cluster\": 2, \"pred2\": 0}, {\"sepal_length\": -0.1736739476359004, \"sepal_width\": -1.0527665443562098, \"petal_length\": -0.14664056143709636, \"petal_width\": -0.26238682068533337, \"species\": \"versicolor\", \"cluster\": 4, \"pred2\": 0}, {\"sepal_length\": -0.4160096885232032, \"sepal_width\": -1.513160076873503, \"petal_length\": 0.023871719303712964, \"petal_width\": -0.1307546363950324, \"species\": \"versicolor\", \"cluster\": 4, \"pred2\": 0}, {\"sepal_length\": -0.4160096885232032, \"sepal_width\": -1.513160076873503, \"petal_length\": -0.032965707609889976, \"petal_width\": -0.26238682068533337, \"species\": \"versicolor\", \"cluster\": 4, \"pred2\": 0}, {\"sepal_length\": -0.05250607719224957, \"sepal_width\": -0.8225697780975633, \"petal_length\": 0.08070914621731616, \"petal_width\": 0.0008775478952682834, \"species\": \"versicolor\", \"cluster\": 4, \"pred2\": 0}, {\"sepal_length\": 0.18982966369505322, \"sepal_width\": -0.8225697780975633, \"petal_length\": 0.7627582691805538, \"petal_width\": 0.5274062850564719, \"species\": \"versicolor\", \"cluster\": 7, \"pred2\": 0}, {\"sepal_length\": -0.537177558966854, \"sepal_width\": -0.13197947932162468, \"petal_length\": 0.4217337076989351, \"petal_width\": 0.3957741007661709, \"species\": \"versicolor\", \"cluster\": 2, \"pred2\": 0}, {\"sepal_length\": 0.18982966369505322, \"sepal_width\": 0.7888075857129604, \"petal_length\": 0.4217337076989351, \"petal_width\": 0.5274062850564719, \"species\": \"versicolor\", \"cluster\": 2, \"pred2\": 0}, {\"sepal_length\": 1.0380047568006125, \"sepal_width\": 0.09821728693702184, \"petal_length\": 0.5354085615261415, \"petal_width\": 0.3957741007661709, \"species\": \"versicolor\", \"cluster\": 2, \"pred2\": 0}, {\"sepal_length\": 0.5533332750260068, \"sepal_width\": -1.7433568431321493, \"petal_length\": 0.36489628078533215, \"petal_width\": 0.13250973218556925, \"species\": \"versicolor\", \"cluster\": 7, \"pred2\": 0}, {\"sepal_length\": -0.29484181807955234, \"sepal_width\": -0.13197947932162468, \"petal_length\": 0.1943840000445223, \"petal_width\": 0.13250973218556925, \"species\": \"versicolor\", \"cluster\": 2, \"pred2\": 0}, {\"sepal_length\": -0.4160096885232032, \"sepal_width\": -1.2829633106148564, \"petal_length\": 0.13754657313091936, \"petal_width\": 0.13250973218556925, \"species\": \"versicolor\", \"cluster\": 4, \"pred2\": 0}, {\"sepal_length\": -0.4160096885232032, \"sepal_width\": -1.0527665443562098, \"petal_length\": 0.36489628078533215, \"petal_width\": 0.0008775478952682834, \"species\": \"versicolor\", \"cluster\": 4, \"pred2\": 0}, {\"sepal_length\": 0.31099753413870407, \"sepal_width\": -0.13197947932162468, \"petal_length\": 0.47857113461253803, \"petal_width\": 0.26414191647586993, \"species\": \"versicolor\", \"cluster\": 2, \"pred2\": 0}, {\"sepal_length\": -0.05250607719224957, \"sepal_width\": -1.0527665443562098, \"petal_length\": 0.13754657313091936, \"petal_width\": 0.0008775478952682834, \"species\": \"versicolor\", \"cluster\": 4, \"pred2\": 0}, {\"sepal_length\": -1.0218490407414595, \"sepal_width\": -1.7433568431321493, \"petal_length\": -0.26031541526430274, \"petal_width\": -0.26238682068533337, \"species\": \"versicolor\", \"cluster\": 4, \"pred2\": 0}, {\"sepal_length\": -0.29484181807955234, \"sepal_width\": -0.8225697780975633, \"petal_length\": 0.2512214269581257, \"petal_width\": 0.13250973218556925, \"species\": \"versicolor\", \"cluster\": 4, \"pred2\": 0}, {\"sepal_length\": -0.1736739476359004, \"sepal_width\": -0.13197947932162468, \"petal_length\": 0.2512214269581257, \"petal_width\": 0.0008775478952682834, \"species\": \"versicolor\", \"cluster\": 2, \"pred2\": 0}, {\"sepal_length\": -0.1736739476359004, \"sepal_width\": -0.3621762455802712, \"petal_length\": 0.2512214269581257, \"petal_width\": 0.13250973218556925, \"species\": \"versicolor\", \"cluster\": 2, \"pred2\": 0}, {\"sepal_length\": 0.432165404582356, \"sepal_width\": -0.3621762455802712, \"petal_length\": 0.30805885387172866, \"petal_width\": 0.13250973218556925, \"species\": \"versicolor\", \"cluster\": 2, \"pred2\": 0}, {\"sepal_length\": -0.9006811702978088, \"sepal_width\": -1.2829633106148564, \"petal_length\": -0.4308276960051121, \"petal_width\": -0.1307546363950324, \"species\": \"versicolor\", \"cluster\": 4, \"pred2\": 0}, {\"sepal_length\": -0.1736739476359004, \"sepal_width\": -0.5923730118389178, \"petal_length\": 0.1943840000445223, \"petal_width\": 0.13250973218556925, \"species\": \"versicolor\", \"cluster\": 2, \"pred2\": 0}, {\"sepal_length\": 0.5533332750260068, \"sepal_width\": 0.5586108194543139, \"petal_length\": 1.2742951114029821, \"petal_width\": 1.7120959436691794, \"species\": \"virginica\", \"cluster\": 0, \"pred2\": 0}, {\"sepal_length\": -0.05250607719224957, \"sepal_width\": -0.8225697780975633, \"petal_length\": 0.7627582691805538, \"petal_width\": 0.9223028379273742, \"species\": \"virginica\", \"cluster\": 7, \"pred2\": 0}, {\"sepal_length\": 1.522676238575217, \"sepal_width\": -0.13197947932162468, \"petal_length\": 1.2174576844893792, \"petal_width\": 1.185567206507976, \"species\": \"virginica\", \"cluster\": 3, \"pred2\": 0}, {\"sepal_length\": 0.5533332750260068, \"sepal_width\": -0.3621762455802712, \"petal_length\": 1.0469454037485695, \"petal_width\": 0.7906706536370736, \"species\": \"virginica\", \"cluster\": 2, \"pred2\": 0}, {\"sepal_length\": 0.7956690159133096, \"sepal_width\": -0.13197947932162468, \"petal_length\": 1.1606202575757758, \"petal_width\": 1.317199390798277, \"species\": \"virginica\", \"cluster\": 0, \"pred2\": 0}, {\"sepal_length\": 2.1285155907934734, \"sepal_width\": -0.13197947932162468, \"petal_length\": 1.6153196728846009, \"petal_width\": 1.185567206507976, \"species\": \"virginica\", \"cluster\": 3, \"pred2\": 0}, {\"sepal_length\": -1.1430169111851105, \"sepal_width\": -1.2829633106148564, \"petal_length\": 0.4217337076989351, \"petal_width\": 0.6590384693467726, \"species\": \"virginica\", \"cluster\": 4, \"pred2\": 0}, {\"sepal_length\": 1.7650119794625196, \"sepal_width\": -0.3621762455802712, \"petal_length\": 1.4448073921437916, \"petal_width\": 0.7906706536370736, \"species\": \"virginica\", \"cluster\": 3, \"pred2\": 0}, {\"sepal_length\": 1.0380047568006125, \"sepal_width\": -1.2829633106148564, \"petal_length\": 1.1606202575757758, \"petal_width\": 0.7906706536370736, \"species\": \"virginica\", \"cluster\": 7, \"pred2\": 0}, {\"sepal_length\": 1.643844109018869, \"sepal_width\": 1.2492011182302534, \"petal_length\": 1.331132538316585, \"petal_width\": 1.7120959436691794, \"species\": \"virginica\", \"cluster\": 0, \"pred2\": 0}, {\"sepal_length\": 0.7956690159133096, \"sepal_width\": 0.32841405319566835, \"petal_length\": 0.7627582691805538, \"petal_width\": 1.053935022217675, \"species\": \"virginica\", \"cluster\": 0, \"pred2\": 0}, {\"sepal_length\": 0.6745011454696588, \"sepal_width\": -0.8225697780975633, \"petal_length\": 0.8764331230077601, \"petal_width\": 0.9223028379273742, \"species\": \"virginica\", \"cluster\": 7, \"pred2\": 0}, {\"sepal_length\": 1.1591726272442633, \"sepal_width\": -0.13197947932162468, \"petal_length\": 0.9901079768349665, \"petal_width\": 1.185567206507976, \"species\": \"virginica\", \"cluster\": 0, \"pred2\": 0}, {\"sepal_length\": -0.1736739476359004, \"sepal_width\": -1.2829633106148564, \"petal_length\": 0.7059208422669508, \"petal_width\": 1.053935022217675, \"species\": \"virginica\", \"cluster\": 7, \"pred2\": 0}, {\"sepal_length\": -0.05250607719224957, \"sepal_width\": -0.5923730118389178, \"petal_length\": 0.7627582691805538, \"petal_width\": 1.5804637593788784, \"species\": \"virginica\", \"cluster\": 7, \"pred2\": 0}, {\"sepal_length\": 0.6745011454696588, \"sepal_width\": 0.32841405319566835, \"petal_length\": 0.8764331230077601, \"petal_width\": 1.4488315750885774, \"species\": \"virginica\", \"cluster\": 0, \"pred2\": 0}, {\"sepal_length\": 0.7956690159133096, \"sepal_width\": -0.13197947932162468, \"petal_length\": 0.9901079768349665, \"petal_width\": 0.7906706536370736, \"species\": \"virginica\", \"cluster\": 2, \"pred2\": 0}, {\"sepal_length\": 2.2496834612371255, \"sepal_width\": 1.7095946507475455, \"petal_length\": 1.6721570997982043, \"petal_width\": 1.317199390798277, \"species\": \"virginica\", \"cluster\": 0, \"pred2\": 0}, {\"sepal_length\": 2.2496834612371255, \"sepal_width\": -1.0527665443562098, \"petal_length\": 1.7858319536254108, \"petal_width\": 1.4488315750885774, \"species\": \"virginica\", \"cluster\": 3, \"pred2\": 0}, {\"sepal_length\": 0.18982966369505322, \"sepal_width\": -1.9735536093907948, \"petal_length\": 0.7059208422669508, \"petal_width\": 0.3957741007661709, \"species\": \"virginica\", \"cluster\": 7, \"pred2\": 0}, {\"sepal_length\": 1.2803404976879151, \"sepal_width\": 0.32841405319566835, \"petal_length\": 1.1037828306621729, \"petal_width\": 1.4488315750885774, \"species\": \"virginica\", \"cluster\": 0, \"pred2\": 0}, {\"sepal_length\": -0.29484181807955234, \"sepal_width\": -0.5923730118389178, \"petal_length\": 0.6490834153533479, \"petal_width\": 1.053935022217675, \"species\": \"virginica\", \"cluster\": 7, \"pred2\": 0}, {\"sepal_length\": 2.2496834612371255, \"sepal_width\": -0.5923730118389178, \"petal_length\": 1.6721570997982043, \"petal_width\": 1.053935022217675, \"species\": \"virginica\", \"cluster\": 3, \"pred2\": 0}, {\"sepal_length\": 0.5533332750260068, \"sepal_width\": -0.8225697780975633, \"petal_length\": 0.6490834153533479, \"petal_width\": 0.7906706536370736, \"species\": \"virginica\", \"cluster\": 7, \"pred2\": 0}, {\"sepal_length\": 1.0380047568006125, \"sepal_width\": 0.5586108194543139, \"petal_length\": 1.1037828306621729, \"petal_width\": 1.185567206507976, \"species\": \"virginica\", \"cluster\": 0, \"pred2\": 0}, {\"sepal_length\": 1.643844109018869, \"sepal_width\": 0.32841405319566835, \"petal_length\": 1.2742951114029821, \"petal_width\": 0.7906706536370736, \"species\": \"virginica\", \"cluster\": 0, \"pred2\": 0}, {\"sepal_length\": 0.432165404582356, \"sepal_width\": -0.5923730118389178, \"petal_length\": 0.5922459884397444, \"petal_width\": 0.7906706536370736, \"species\": \"virginica\", \"cluster\": 7, \"pred2\": 0}, {\"sepal_length\": 0.31099753413870407, \"sepal_width\": -0.13197947932162468, \"petal_length\": 0.6490834153533479, \"petal_width\": 0.7906706536370736, \"species\": \"virginica\", \"cluster\": 2, \"pred2\": 0}, {\"sepal_length\": 0.6745011454696588, \"sepal_width\": -0.5923730118389178, \"petal_length\": 1.0469454037485695, \"petal_width\": 1.185567206507976, \"species\": \"virginica\", \"cluster\": 7, \"pred2\": 0}, {\"sepal_length\": 1.643844109018869, \"sepal_width\": -0.13197947932162468, \"petal_length\": 1.1606202575757758, \"petal_width\": 0.5274062850564719, \"species\": \"virginica\", \"cluster\": 3, \"pred2\": 0}, {\"sepal_length\": 1.8861798499061717, \"sepal_width\": -0.5923730118389178, \"petal_length\": 1.331132538316585, \"petal_width\": 0.9223028379273742, \"species\": \"virginica\", \"cluster\": 3, \"pred2\": 0}, {\"sepal_length\": 2.4920192021244283, \"sepal_width\": 1.7095946507475455, \"petal_length\": 1.501644819057395, \"petal_width\": 1.053935022217675, \"species\": \"virginica\", \"cluster\": 0, \"pred2\": 0}, {\"sepal_length\": 0.6745011454696588, \"sepal_width\": -0.5923730118389178, \"petal_length\": 1.0469454037485695, \"petal_width\": 1.317199390798277, \"species\": \"virginica\", \"cluster\": 7, \"pred2\": 0}, {\"sepal_length\": 0.5533332750260068, \"sepal_width\": -0.5923730118389178, \"petal_length\": 0.7627582691805538, \"petal_width\": 0.3957741007661709, \"species\": \"virginica\", \"cluster\": 2, \"pred2\": 0}, {\"sepal_length\": 0.31099753413870407, \"sepal_width\": -1.0527665443562098, \"petal_length\": 1.0469454037485695, \"petal_width\": 0.26414191647586993, \"species\": \"virginica\", \"cluster\": 7, \"pred2\": 0}, {\"sepal_length\": 2.2496834612371255, \"sepal_width\": -0.13197947932162468, \"petal_length\": 1.331132538316585, \"petal_width\": 1.4488315750885774, \"species\": \"virginica\", \"cluster\": 3, \"pred2\": 0}, {\"sepal_length\": 0.5533332750260068, \"sepal_width\": 0.7888075857129604, \"petal_length\": 1.0469454037485695, \"petal_width\": 1.5804637593788784, \"species\": \"virginica\", \"cluster\": 0, \"pred2\": 0}, {\"sepal_length\": 0.6745011454696588, \"sepal_width\": 0.09821728693702184, \"petal_length\": 0.9901079768349665, \"petal_width\": 0.7906706536370736, \"species\": \"virginica\", \"cluster\": 2, \"pred2\": 0}, {\"sepal_length\": 0.18982966369505322, \"sepal_width\": -0.13197947932162468, \"petal_length\": 0.5922459884397444, \"petal_width\": 0.7906706536370736, \"species\": \"virginica\", \"cluster\": 2, \"pred2\": 0}, {\"sepal_length\": 1.2803404976879151, \"sepal_width\": 0.09821728693702184, \"petal_length\": 0.9332705499213636, \"petal_width\": 1.185567206507976, \"species\": \"virginica\", \"cluster\": 0, \"pred2\": 0}, {\"sepal_length\": 1.0380047568006125, \"sepal_width\": 0.09821728693702184, \"petal_length\": 1.0469454037485695, \"petal_width\": 1.5804637593788784, \"species\": \"virginica\", \"cluster\": 0, \"pred2\": 0}, {\"sepal_length\": 1.2803404976879151, \"sepal_width\": 0.09821728693702184, \"petal_length\": 0.7627582691805538, \"petal_width\": 1.4488315750885774, \"species\": \"virginica\", \"cluster\": 0, \"pred2\": 0}, {\"sepal_length\": -0.05250607719224957, \"sepal_width\": -0.8225697780975633, \"petal_length\": 0.7627582691805538, \"petal_width\": 0.9223028379273742, \"species\": \"virginica\", \"cluster\": 7, \"pred2\": 0}, {\"sepal_length\": 1.1591726272442633, \"sepal_width\": 0.32841405319566835, \"petal_length\": 1.2174576844893792, \"petal_width\": 1.4488315750885774, \"species\": \"virginica\", \"cluster\": 0, \"pred2\": 0}, {\"sepal_length\": 1.0380047568006125, \"sepal_width\": 0.5586108194543139, \"petal_length\": 1.1037828306621729, \"petal_width\": 1.7120959436691794, \"species\": \"virginica\", \"cluster\": 0, \"pred2\": 0}, {\"sepal_length\": 1.0380047568006125, \"sepal_width\": -0.13197947932162468, \"petal_length\": 0.8195956960941572, \"petal_width\": 1.4488315750885774, \"species\": \"virginica\", \"cluster\": 0, \"pred2\": 0}, {\"sepal_length\": 0.5533332750260068, \"sepal_width\": -1.2829633106148564, \"petal_length\": 0.7059208422669508, \"petal_width\": 0.9223028379273742, \"species\": \"virginica\", \"cluster\": 7, \"pred2\": 0}, {\"sepal_length\": 0.7956690159133096, \"sepal_width\": -0.13197947932162468, \"petal_length\": 0.8195956960941572, \"petal_width\": 1.053935022217675, \"species\": \"virginica\", \"cluster\": 0, \"pred2\": 0}, {\"sepal_length\": 0.432165404582356, \"sepal_width\": 0.7888075857129604, \"petal_length\": 0.9332705499213636, \"petal_width\": 1.4488315750885774, \"species\": \"virginica\", \"cluster\": 0, \"pred2\": 0}, {\"sepal_length\": 0.06866179325140237, \"sepal_width\": -0.13197947932162468, \"petal_length\": 0.7627582691805538, \"petal_width\": 0.7906706536370736, \"species\": \"virginica\", \"cluster\": 2, \"pred2\": 0}]}}, {\"mode\": \"vega-lite\"});\n",
       "</script>"
      ],
      "text/plain": [
       "alt.Chart(...)"
      ]
     },
     "execution_count": 52,
     "metadata": {},
     "output_type": "execute_result"
    }
   ],
   "source": [
    "alt.Chart(df).mark_circle().encode(\n",
    "    x = \"sepal_length\",\n",
    "    y = \"petal_length\",\n",
    "    color = \"cluster2:N\"\n",
    ")"
   ]
  },
  {
   "cell_type": "code",
   "execution_count": null,
   "metadata": {
    "cell_id": "0ca15580dc3f4234a415a9912617e636",
    "deepnote_cell_height": 118.1875,
    "deepnote_cell_type": "code",
    "deepnote_output_heights": [
     21.1875
    ],
    "deepnote_to_be_reexecuted": false,
    "execution_millis": 15,
    "execution_start": 1650919437924,
    "source_hash": "153c27bb",
    "tags": []
   },
   "outputs": [
    {
     "data": {
      "text/plain": [
       "['sepal_length', 'sepal_width', 'petal_length', 'petal_width']"
      ]
     },
     "execution_count": 53,
     "metadata": {},
     "output_type": "execute_result"
    }
   ],
   "source": [
    "numcols"
   ]
  },
  {
   "cell_type": "code",
   "execution_count": null,
   "metadata": {
    "cell_id": "940d74e6f35f4934968d756a840208c6",
    "deepnote_cell_height": 225,
    "deepnote_cell_type": "code",
    "deepnote_to_be_reexecuted": false,
    "execution_millis": 13,
    "execution_start": 1650919470168,
    "source_hash": "d4a8fb60",
    "tags": []
   },
   "outputs": [],
   "source": [
    "chart_list = []\n",
    "\n",
    "for c in numcols:\n",
    "    chart = alt.Chart(df).mark_circle().encode(\n",
    "        x = \"sepal_length\",\n",
    "        y = c,\n",
    "        color = \"cluster2:N\"\n",
    "    )\n",
    "    chart_list.append(chart)"
   ]
  },
  {
   "cell_type": "markdown",
   "metadata": {},
   "source": [
    "An example of list unpacking."
   ]
  },
  {
   "cell_type": "code",
   "execution_count": null,
   "metadata": {
    "cell_id": "c5099680b617470283f41ba535eed742",
    "deepnote_cell_height": 708,
    "deepnote_cell_type": "code",
    "deepnote_output_heights": [
     611
    ],
    "deepnote_to_be_reexecuted": false,
    "execution_millis": 41,
    "execution_start": 1650919494829,
    "owner_user_id": "02be19f8-8497-4212-b8d0-46ca9f1d48b9",
    "source_hash": "dc6993b4",
    "tags": []
   },
   "outputs": [
    {
     "data": {
      "text/html": [
       "\n",
       "<div id=\"altair-viz-4e6bd669764341729f1dabc6edd824b1\"></div>\n",
       "<script type=\"text/javascript\">\n",
       "  (function(spec, embedOpt){\n",
       "    let outputDiv = document.currentScript.previousElementSibling;\n",
       "    if (outputDiv.id !== \"altair-viz-4e6bd669764341729f1dabc6edd824b1\") {\n",
       "      outputDiv = document.getElementById(\"altair-viz-4e6bd669764341729f1dabc6edd824b1\");\n",
       "    }\n",
       "    const paths = {\n",
       "      \"vega\": \"https://cdn.jsdelivr.net/npm//vega@5?noext\",\n",
       "      \"vega-lib\": \"https://cdn.jsdelivr.net/npm//vega-lib?noext\",\n",
       "      \"vega-lite\": \"https://cdn.jsdelivr.net/npm//vega-lite@4.8.1?noext\",\n",
       "      \"vega-embed\": \"https://cdn.jsdelivr.net/npm//vega-embed@6?noext\",\n",
       "    };\n",
       "\n",
       "    function loadScript(lib) {\n",
       "      return new Promise(function(resolve, reject) {\n",
       "        var s = document.createElement('script');\n",
       "        s.src = paths[lib];\n",
       "        s.async = true;\n",
       "        s.onload = () => resolve(paths[lib]);\n",
       "        s.onerror = () => reject(`Error loading script: ${paths[lib]}`);\n",
       "        document.getElementsByTagName(\"head\")[0].appendChild(s);\n",
       "      });\n",
       "    }\n",
       "\n",
       "    function showError(err) {\n",
       "      outputDiv.innerHTML = `<div class=\"error\" style=\"color:red;\">${err}</div>`;\n",
       "      throw err;\n",
       "    }\n",
       "\n",
       "    function displayChart(vegaEmbed) {\n",
       "      vegaEmbed(outputDiv, spec, embedOpt)\n",
       "        .catch(err => showError(`Javascript Error: ${err.message}<br>This usually means there's a typo in your chart specification. See the javascript console for the full traceback.`));\n",
       "    }\n",
       "\n",
       "    if(typeof define === \"function\" && define.amd) {\n",
       "      requirejs.config({paths});\n",
       "      require([\"vega-embed\"], displayChart, err => showError(`Error loading script: ${err.message}`));\n",
       "    } else if (typeof vegaEmbed === \"function\") {\n",
       "      displayChart(vegaEmbed);\n",
       "    } else {\n",
       "      loadScript(\"vega\")\n",
       "        .then(() => loadScript(\"vega-lite\"))\n",
       "        .then(() => loadScript(\"vega-embed\"))\n",
       "        .catch(showError)\n",
       "        .then(() => displayChart(vegaEmbed));\n",
       "    }\n",
       "  })({\"config\": {\"view\": {\"continuousWidth\": 400, \"continuousHeight\": 300}}, \"vconcat\": [{\"mark\": \"circle\", \"encoding\": {\"color\": {\"type\": \"nominal\", \"field\": \"pred2\"}, \"x\": {\"type\": \"quantitative\", \"field\": \"sepal_length\"}, \"y\": {\"type\": \"quantitative\", \"field\": \"sepal_length\"}}}, {\"mark\": \"circle\", \"encoding\": {\"color\": {\"type\": \"nominal\", \"field\": \"pred2\"}, \"x\": {\"type\": \"quantitative\", \"field\": \"sepal_length\"}, \"y\": {\"type\": \"quantitative\", \"field\": \"sepal_width\"}}}, {\"mark\": \"circle\", \"encoding\": {\"color\": {\"type\": \"nominal\", \"field\": \"pred2\"}, \"x\": {\"type\": \"quantitative\", \"field\": \"sepal_length\"}, \"y\": {\"type\": \"quantitative\", \"field\": \"petal_length\"}}}, {\"mark\": \"circle\", \"encoding\": {\"color\": {\"type\": \"nominal\", \"field\": \"pred2\"}, \"x\": {\"type\": \"quantitative\", \"field\": \"sepal_length\"}, \"y\": {\"type\": \"quantitative\", \"field\": \"petal_width\"}}}], \"data\": {\"name\": \"data-a3998929c6ad7493ab440ac14b47ad86\"}, \"$schema\": \"https://vega.github.io/schema/vega-lite/v4.8.1.json\", \"datasets\": {\"data-a3998929c6ad7493ab440ac14b47ad86\": [{\"sepal_length\": -0.9006811702978088, \"sepal_width\": 1.019004351971607, \"petal_length\": -1.3402265266227624, \"petal_width\": -1.3154442950077403, \"species\": \"setosa\", \"cluster\": 1, \"pred2\": 1}, {\"sepal_length\": -1.1430169111851105, \"sepal_width\": -0.13197947932162468, \"petal_length\": -1.3402265266227624, \"petal_width\": -1.3154442950077403, \"species\": \"setosa\", \"cluster\": 6, \"pred2\": 1}, {\"sepal_length\": -1.3853526520724133, \"sepal_width\": 0.32841405319566835, \"petal_length\": -1.3970639535363654, \"petal_width\": -1.3154442950077403, \"species\": \"setosa\", \"cluster\": 6, \"pred2\": 1}, {\"sepal_length\": -1.5065205225160652, \"sepal_width\": 0.09821728693702184, \"petal_length\": -1.2833890997091593, \"petal_width\": -1.3154442950077403, \"species\": \"setosa\", \"cluster\": 6, \"pred2\": 1}, {\"sepal_length\": -1.0218490407414595, \"sepal_width\": 1.2492011182302534, \"petal_length\": -1.3402265266227624, \"petal_width\": -1.3154442950077403, \"species\": \"setosa\", \"cluster\": 1, \"pred2\": 1}, {\"sepal_length\": -0.537177558966854, \"sepal_width\": 1.939791417006192, \"petal_length\": -1.1697142458819532, \"petal_width\": -1.0521799264271385, \"species\": \"setosa\", \"cluster\": 5, \"pred2\": 1}, {\"sepal_length\": -1.5065205225160652, \"sepal_width\": 0.7888075857129604, \"petal_length\": -1.3402265266227624, \"petal_width\": -1.1838121107174393, \"species\": \"setosa\", \"cluster\": 1, \"pred2\": 1}, {\"sepal_length\": -1.0218490407414595, \"sepal_width\": 0.7888075857129604, \"petal_length\": -1.2833890997091593, \"petal_width\": -1.3154442950077403, \"species\": \"setosa\", \"cluster\": 1, \"pred2\": 1}, {\"sepal_length\": -1.7488562634033669, \"sepal_width\": -0.3621762455802712, \"petal_length\": -1.3402265266227624, \"petal_width\": -1.3154442950077403, \"species\": \"setosa\", \"cluster\": 6, \"pred2\": 1}, {\"sepal_length\": -1.1430169111851105, \"sepal_width\": 0.09821728693702184, \"petal_length\": -1.2833890997091593, \"petal_width\": -1.4470764792980408, \"species\": \"setosa\", \"cluster\": 6, \"pred2\": 1}, {\"sepal_length\": -0.537177558966854, \"sepal_width\": 1.4793978844889, \"petal_length\": -1.2833890997091593, \"petal_width\": -1.3154442950077403, \"species\": \"setosa\", \"cluster\": 5, \"pred2\": 1}, {\"sepal_length\": -1.2641847816287624, \"sepal_width\": 0.7888075857129604, \"petal_length\": -1.226551672795556, \"petal_width\": -1.3154442950077403, \"species\": \"setosa\", \"cluster\": 1, \"pred2\": 1}, {\"sepal_length\": -1.2641847816287624, \"sepal_width\": -0.13197947932162468, \"petal_length\": -1.3402265266227624, \"petal_width\": -1.4470764792980408, \"species\": \"setosa\", \"cluster\": 6, \"pred2\": 1}, {\"sepal_length\": -1.870024133847019, \"sepal_width\": -0.13197947932162468, \"petal_length\": -1.5107388073635717, \"petal_width\": -1.4470764792980408, \"species\": \"setosa\", \"cluster\": 6, \"pred2\": 1}, {\"sepal_length\": -0.05250607719224957, \"sepal_width\": 2.1699881832648384, \"petal_length\": -1.4539013804499687, \"petal_width\": -1.3154442950077403, \"species\": \"setosa\", \"cluster\": 5, \"pred2\": 1}, {\"sepal_length\": -0.1736739476359004, \"sepal_width\": 3.090775248299425, \"petal_length\": -1.2833890997091593, \"petal_width\": -1.0521799264271385, \"species\": \"setosa\", \"cluster\": 5, \"pred2\": 1}, {\"sepal_length\": -0.537177558966854, \"sepal_width\": 1.939791417006192, \"petal_length\": -1.3970639535363654, \"petal_width\": -1.0521799264271385, \"species\": \"setosa\", \"cluster\": 5, \"pred2\": 1}, {\"sepal_length\": -0.9006811702978088, \"sepal_width\": 1.019004351971607, \"petal_length\": -1.3402265266227624, \"petal_width\": -1.1838121107174393, \"species\": \"setosa\", \"cluster\": 1, \"pred2\": 1}, {\"sepal_length\": -0.1736739476359004, \"sepal_width\": 1.7095946507475455, \"petal_length\": -1.1697142458819532, \"petal_width\": -1.1838121107174393, \"species\": \"setosa\", \"cluster\": 5, \"pred2\": 1}, {\"sepal_length\": -0.9006811702978088, \"sepal_width\": 1.7095946507475455, \"petal_length\": -1.2833890997091593, \"petal_width\": -1.1838121107174393, \"species\": \"setosa\", \"cluster\": 5, \"pred2\": 1}, {\"sepal_length\": -0.537177558966854, \"sepal_width\": 0.7888075857129604, \"petal_length\": -1.1697142458819532, \"petal_width\": -1.3154442950077403, \"species\": \"setosa\", \"cluster\": 1, \"pred2\": 1}, {\"sepal_length\": -0.9006811702978088, \"sepal_width\": 1.4793978844889, \"petal_length\": -1.2833890997091593, \"petal_width\": -1.0521799264271385, \"species\": \"setosa\", \"cluster\": 1, \"pred2\": 1}, {\"sepal_length\": -1.5065205225160652, \"sepal_width\": 1.2492011182302534, \"petal_length\": -1.567576234277175, \"petal_width\": -1.3154442950077403, \"species\": \"setosa\", \"cluster\": 1, \"pred2\": 1}, {\"sepal_length\": -0.9006811702978088, \"sepal_width\": 0.5586108194543139, \"petal_length\": -1.1697142458819532, \"petal_width\": -0.9205477421368377, \"species\": \"setosa\", \"cluster\": 1, \"pred2\": 1}, {\"sepal_length\": -1.2641847816287624, \"sepal_width\": 0.7888075857129604, \"petal_length\": -1.0560393920547466, \"petal_width\": -1.3154442950077403, \"species\": \"setosa\", \"cluster\": 1, \"pred2\": 1}, {\"sepal_length\": -1.0218490407414595, \"sepal_width\": -0.13197947932162468, \"petal_length\": -1.226551672795556, \"petal_width\": -1.3154442950077403, \"species\": \"setosa\", \"cluster\": 6, \"pred2\": 1}, {\"sepal_length\": -1.0218490407414595, \"sepal_width\": 0.7888075857129604, \"petal_length\": -1.226551672795556, \"petal_width\": -1.0521799264271385, \"species\": \"setosa\", \"cluster\": 1, \"pred2\": 1}, {\"sepal_length\": -0.7795132998541568, \"sepal_width\": 1.019004351971607, \"petal_length\": -1.2833890997091593, \"petal_width\": -1.3154442950077403, \"species\": \"setosa\", \"cluster\": 1, \"pred2\": 1}, {\"sepal_length\": -0.7795132998541568, \"sepal_width\": 0.7888075857129604, \"petal_length\": -1.3402265266227624, \"petal_width\": -1.3154442950077403, \"species\": \"setosa\", \"cluster\": 1, \"pred2\": 1}, {\"sepal_length\": -1.3853526520724133, \"sepal_width\": 0.32841405319566835, \"petal_length\": -1.226551672795556, \"petal_width\": -1.3154442950077403, \"species\": \"setosa\", \"cluster\": 6, \"pred2\": 1}, {\"sepal_length\": -1.2641847816287624, \"sepal_width\": 0.09821728693702184, \"petal_length\": -1.226551672795556, \"petal_width\": -1.3154442950077403, \"species\": \"setosa\", \"cluster\": 6, \"pred2\": 1}, {\"sepal_length\": -0.537177558966854, \"sepal_width\": 0.7888075857129604, \"petal_length\": -1.2833890997091593, \"petal_width\": -1.0521799264271385, \"species\": \"setosa\", \"cluster\": 1, \"pred2\": 1}, {\"sepal_length\": -0.7795132998541568, \"sepal_width\": 2.400184949523484, \"petal_length\": -1.2833890997091593, \"petal_width\": -1.4470764792980408, \"species\": \"setosa\", \"cluster\": 5, \"pred2\": 1}, {\"sepal_length\": -0.4160096885232032, \"sepal_width\": 2.6303817157821316, \"petal_length\": -1.3402265266227624, \"petal_width\": -1.3154442950077403, \"species\": \"setosa\", \"cluster\": 5, \"pred2\": 1}, {\"sepal_length\": -1.1430169111851105, \"sepal_width\": 0.09821728693702184, \"petal_length\": -1.2833890997091593, \"petal_width\": -1.3154442950077403, \"species\": \"setosa\", \"cluster\": 6, \"pred2\": 1}, {\"sepal_length\": -1.0218490407414595, \"sepal_width\": 0.32841405319566835, \"petal_length\": -1.4539013804499687, \"petal_width\": -1.3154442950077403, \"species\": \"setosa\", \"cluster\": 6, \"pred2\": 1}, {\"sepal_length\": -0.4160096885232032, \"sepal_width\": 1.019004351971607, \"petal_length\": -1.3970639535363654, \"petal_width\": -1.3154442950077403, \"species\": \"setosa\", \"cluster\": 1, \"pred2\": 1}, {\"sepal_length\": -1.1430169111851105, \"sepal_width\": 1.2492011182302534, \"petal_length\": -1.3402265266227624, \"petal_width\": -1.4470764792980408, \"species\": \"setosa\", \"cluster\": 1, \"pred2\": 1}, {\"sepal_length\": -1.7488562634033669, \"sepal_width\": -0.13197947932162468, \"petal_length\": -1.3970639535363654, \"petal_width\": -1.3154442950077403, \"species\": \"setosa\", \"cluster\": 6, \"pred2\": 1}, {\"sepal_length\": -0.9006811702978088, \"sepal_width\": 0.7888075857129604, \"petal_length\": -1.2833890997091593, \"petal_width\": -1.3154442950077403, \"species\": \"setosa\", \"cluster\": 1, \"pred2\": 1}, {\"sepal_length\": -1.0218490407414595, \"sepal_width\": 1.019004351971607, \"petal_length\": -1.3970639535363654, \"petal_width\": -1.1838121107174393, \"species\": \"setosa\", \"cluster\": 1, \"pred2\": 1}, {\"sepal_length\": -1.6276883929597161, \"sepal_width\": -1.7433568431321493, \"petal_length\": -1.3970639535363654, \"petal_width\": -1.1838121107174393, \"species\": \"setosa\", \"cluster\": 6, \"pred2\": 1}, {\"sepal_length\": -1.7488562634033669, \"sepal_width\": 0.32841405319566835, \"petal_length\": -1.3970639535363654, \"petal_width\": -1.3154442950077403, \"species\": \"setosa\", \"cluster\": 6, \"pred2\": 1}, {\"sepal_length\": -1.0218490407414595, \"sepal_width\": 1.019004351971607, \"petal_length\": -1.226551672795556, \"petal_width\": -0.7889155578465368, \"species\": \"setosa\", \"cluster\": 1, \"pred2\": 1}, {\"sepal_length\": -0.9006811702978088, \"sepal_width\": 1.7095946507475455, \"petal_length\": -1.0560393920547466, \"petal_width\": -1.0521799264271385, \"species\": \"setosa\", \"cluster\": 5, \"pred2\": 1}, {\"sepal_length\": -1.2641847816287624, \"sepal_width\": -0.13197947932162468, \"petal_length\": -1.3402265266227624, \"petal_width\": -1.1838121107174393, \"species\": \"setosa\", \"cluster\": 6, \"pred2\": 1}, {\"sepal_length\": -0.9006811702978088, \"sepal_width\": 1.7095946507475455, \"petal_length\": -1.226551672795556, \"petal_width\": -1.3154442950077403, \"species\": \"setosa\", \"cluster\": 5, \"pred2\": 1}, {\"sepal_length\": -1.5065205225160652, \"sepal_width\": 0.32841405319566835, \"petal_length\": -1.3402265266227624, \"petal_width\": -1.3154442950077403, \"species\": \"setosa\", \"cluster\": 6, \"pred2\": 1}, {\"sepal_length\": -0.658345429410506, \"sepal_width\": 1.4793978844889, \"petal_length\": -1.2833890997091593, \"petal_width\": -1.3154442950077403, \"species\": \"setosa\", \"cluster\": 5, \"pred2\": 1}, {\"sepal_length\": -1.0218490407414595, \"sepal_width\": 0.5586108194543139, \"petal_length\": -1.3402265266227624, \"petal_width\": -1.3154442950077403, \"species\": \"setosa\", \"cluster\": 1, \"pred2\": 1}, {\"sepal_length\": 1.401508368131566, \"sepal_width\": 0.32841405319566835, \"petal_length\": 0.5354085615261415, \"petal_width\": 0.26414191647586993, \"species\": \"versicolor\", \"cluster\": 2, \"pred2\": 0}, {\"sepal_length\": 0.6745011454696588, \"sepal_width\": 0.32841405319566835, \"petal_length\": 0.4217337076989351, \"petal_width\": 0.3957741007661709, \"species\": \"versicolor\", \"cluster\": 2, \"pred2\": 0}, {\"sepal_length\": 1.2803404976879151, \"sepal_width\": 0.09821728693702184, \"petal_length\": 0.6490834153533479, \"petal_width\": 0.3957741007661709, \"species\": \"versicolor\", \"cluster\": 2, \"pred2\": 0}, {\"sepal_length\": -0.4160096885232032, \"sepal_width\": -1.7433568431321493, \"petal_length\": 0.13754657313091936, \"petal_width\": 0.13250973218556925, \"species\": \"versicolor\", \"cluster\": 4, \"pred2\": 0}, {\"sepal_length\": 0.7956690159133096, \"sepal_width\": -0.5923730118389178, \"petal_length\": 0.47857113461253803, \"petal_width\": 0.3957741007661709, \"species\": \"versicolor\", \"cluster\": 2, \"pred2\": 0}, {\"sepal_length\": -0.1736739476359004, \"sepal_width\": -0.5923730118389178, \"petal_length\": 0.4217337076989351, \"petal_width\": 0.13250973218556925, \"species\": \"versicolor\", \"cluster\": 2, \"pred2\": 0}, {\"sepal_length\": 0.5533332750260068, \"sepal_width\": 0.5586108194543139, \"petal_length\": 0.5354085615261415, \"petal_width\": 0.5274062850564719, \"species\": \"versicolor\", \"cluster\": 2, \"pred2\": 0}, {\"sepal_length\": -1.1430169111851105, \"sepal_width\": -1.513160076873503, \"petal_length\": -0.26031541526430274, \"petal_width\": -0.26238682068533337, \"species\": \"versicolor\", \"cluster\": 4, \"pred2\": 0}, {\"sepal_length\": 0.9168368863569605, \"sepal_width\": -0.3621762455802712, \"petal_length\": 0.47857113461253803, \"petal_width\": 0.13250973218556925, \"species\": \"versicolor\", \"cluster\": 2, \"pred2\": 0}, {\"sepal_length\": -0.7795132998541568, \"sepal_width\": -0.8225697780975633, \"petal_length\": 0.08070914621731616, \"petal_width\": 0.26414191647586993, \"species\": \"versicolor\", \"cluster\": 4, \"pred2\": 0}, {\"sepal_length\": -1.0218490407414595, \"sepal_width\": -2.433947141908088, \"petal_length\": -0.14664056143709636, \"petal_width\": -0.26238682068533337, \"species\": \"versicolor\", \"cluster\": 4, \"pred2\": 0}, {\"sepal_length\": 0.06866179325140237, \"sepal_width\": -0.13197947932162468, \"petal_length\": 0.2512214269581257, \"petal_width\": 0.3957741007661709, \"species\": \"versicolor\", \"cluster\": 2, \"pred2\": 0}, {\"sepal_length\": 0.18982966369505322, \"sepal_width\": -1.9735536093907948, \"petal_length\": 0.13754657313091936, \"petal_width\": -0.26238682068533337, \"species\": \"versicolor\", \"cluster\": 4, \"pred2\": 0}, {\"sepal_length\": 0.31099753413870407, \"sepal_width\": -0.3621762455802712, \"petal_length\": 0.5354085615261415, \"petal_width\": 0.26414191647586993, \"species\": \"versicolor\", \"cluster\": 2, \"pred2\": 0}, {\"sepal_length\": -0.29484181807955234, \"sepal_width\": -0.3621762455802712, \"petal_length\": -0.08980313452349317, \"petal_width\": 0.13250973218556925, \"species\": \"versicolor\", \"cluster\": 2, \"pred2\": 0}, {\"sepal_length\": 1.0380047568006125, \"sepal_width\": 0.09821728693702184, \"petal_length\": 0.36489628078533215, \"petal_width\": 0.26414191647586993, \"species\": \"versicolor\", \"cluster\": 2, \"pred2\": 0}, {\"sepal_length\": -0.29484181807955234, \"sepal_width\": -0.13197947932162468, \"petal_length\": 0.4217337076989351, \"petal_width\": 0.3957741007661709, \"species\": \"versicolor\", \"cluster\": 2, \"pred2\": 0}, {\"sepal_length\": -0.05250607719224957, \"sepal_width\": -0.8225697780975633, \"petal_length\": 0.1943840000445223, \"petal_width\": -0.26238682068533337, \"species\": \"versicolor\", \"cluster\": 4, \"pred2\": 0}, {\"sepal_length\": 0.432165404582356, \"sepal_width\": -1.9735536093907948, \"petal_length\": 0.4217337076989351, \"petal_width\": 0.3957741007661709, \"species\": \"versicolor\", \"cluster\": 7, \"pred2\": 0}, {\"sepal_length\": -0.29484181807955234, \"sepal_width\": -1.2829633106148564, \"petal_length\": 0.08070914621731616, \"petal_width\": -0.1307546363950324, \"species\": \"versicolor\", \"cluster\": 4, \"pred2\": 0}, {\"sepal_length\": 0.06866179325140237, \"sepal_width\": 0.32841405319566835, \"petal_length\": 0.5922459884397444, \"petal_width\": 0.7906706536370736, \"species\": \"versicolor\", \"cluster\": 2, \"pred2\": 0}, {\"sepal_length\": 0.31099753413870407, \"sepal_width\": -0.5923730118389178, \"petal_length\": 0.13754657313091936, \"petal_width\": 0.13250973218556925, \"species\": \"versicolor\", \"cluster\": 2, \"pred2\": 0}, {\"sepal_length\": 0.5533332750260068, \"sepal_width\": -1.2829633106148564, \"petal_length\": 0.6490834153533479, \"petal_width\": 0.3957741007661709, \"species\": \"versicolor\", \"cluster\": 7, \"pred2\": 0}, {\"sepal_length\": 0.31099753413870407, \"sepal_width\": -0.5923730118389178, \"petal_length\": 0.5354085615261415, \"petal_width\": 0.0008775478952682834, \"species\": \"versicolor\", \"cluster\": 2, \"pred2\": 0}, {\"sepal_length\": 0.6745011454696588, \"sepal_width\": -0.3621762455802712, \"petal_length\": 0.30805885387172866, \"petal_width\": 0.13250973218556925, \"species\": \"versicolor\", \"cluster\": 2, \"pred2\": 0}, {\"sepal_length\": 0.9168368863569605, \"sepal_width\": -0.13197947932162468, \"petal_length\": 0.36489628078533215, \"petal_width\": 0.26414191647586993, \"species\": \"versicolor\", \"cluster\": 2, \"pred2\": 0}, {\"sepal_length\": 1.1591726272442633, \"sepal_width\": -0.5923730118389178, \"petal_length\": 0.5922459884397444, \"petal_width\": 0.26414191647586993, \"species\": \"versicolor\", \"cluster\": 2, \"pred2\": 0}, {\"sepal_length\": 1.0380047568006125, \"sepal_width\": -0.13197947932162468, \"petal_length\": 0.7059208422669508, \"petal_width\": 0.6590384693467726, \"species\": \"versicolor\", \"cluster\": 2, \"pred2\": 0}, {\"sepal_length\": 0.18982966369505322, \"sepal_width\": -0.3621762455802712, \"petal_length\": 0.4217337076989351, \"petal_width\": 0.3957741007661709, \"species\": \"versicolor\", \"cluster\": 2, \"pred2\": 0}, {\"sepal_length\": -0.1736739476359004, \"sepal_width\": -1.0527665443562098, \"petal_length\": -0.14664056143709636, \"petal_width\": -0.26238682068533337, \"species\": \"versicolor\", \"cluster\": 4, \"pred2\": 0}, {\"sepal_length\": -0.4160096885232032, \"sepal_width\": -1.513160076873503, \"petal_length\": 0.023871719303712964, \"petal_width\": -0.1307546363950324, \"species\": \"versicolor\", \"cluster\": 4, \"pred2\": 0}, {\"sepal_length\": -0.4160096885232032, \"sepal_width\": -1.513160076873503, \"petal_length\": -0.032965707609889976, \"petal_width\": -0.26238682068533337, \"species\": \"versicolor\", \"cluster\": 4, \"pred2\": 0}, {\"sepal_length\": -0.05250607719224957, \"sepal_width\": -0.8225697780975633, \"petal_length\": 0.08070914621731616, \"petal_width\": 0.0008775478952682834, \"species\": \"versicolor\", \"cluster\": 4, \"pred2\": 0}, {\"sepal_length\": 0.18982966369505322, \"sepal_width\": -0.8225697780975633, \"petal_length\": 0.7627582691805538, \"petal_width\": 0.5274062850564719, \"species\": \"versicolor\", \"cluster\": 7, \"pred2\": 0}, {\"sepal_length\": -0.537177558966854, \"sepal_width\": -0.13197947932162468, \"petal_length\": 0.4217337076989351, \"petal_width\": 0.3957741007661709, \"species\": \"versicolor\", \"cluster\": 2, \"pred2\": 0}, {\"sepal_length\": 0.18982966369505322, \"sepal_width\": 0.7888075857129604, \"petal_length\": 0.4217337076989351, \"petal_width\": 0.5274062850564719, \"species\": \"versicolor\", \"cluster\": 2, \"pred2\": 0}, {\"sepal_length\": 1.0380047568006125, \"sepal_width\": 0.09821728693702184, \"petal_length\": 0.5354085615261415, \"petal_width\": 0.3957741007661709, \"species\": \"versicolor\", \"cluster\": 2, \"pred2\": 0}, {\"sepal_length\": 0.5533332750260068, \"sepal_width\": -1.7433568431321493, \"petal_length\": 0.36489628078533215, \"petal_width\": 0.13250973218556925, \"species\": \"versicolor\", \"cluster\": 7, \"pred2\": 0}, {\"sepal_length\": -0.29484181807955234, \"sepal_width\": -0.13197947932162468, \"petal_length\": 0.1943840000445223, \"petal_width\": 0.13250973218556925, \"species\": \"versicolor\", \"cluster\": 2, \"pred2\": 0}, {\"sepal_length\": -0.4160096885232032, \"sepal_width\": -1.2829633106148564, \"petal_length\": 0.13754657313091936, \"petal_width\": 0.13250973218556925, \"species\": \"versicolor\", \"cluster\": 4, \"pred2\": 0}, {\"sepal_length\": -0.4160096885232032, \"sepal_width\": -1.0527665443562098, \"petal_length\": 0.36489628078533215, \"petal_width\": 0.0008775478952682834, \"species\": \"versicolor\", \"cluster\": 4, \"pred2\": 0}, {\"sepal_length\": 0.31099753413870407, \"sepal_width\": -0.13197947932162468, \"petal_length\": 0.47857113461253803, \"petal_width\": 0.26414191647586993, \"species\": \"versicolor\", \"cluster\": 2, \"pred2\": 0}, {\"sepal_length\": -0.05250607719224957, \"sepal_width\": -1.0527665443562098, \"petal_length\": 0.13754657313091936, \"petal_width\": 0.0008775478952682834, \"species\": \"versicolor\", \"cluster\": 4, \"pred2\": 0}, {\"sepal_length\": -1.0218490407414595, \"sepal_width\": -1.7433568431321493, \"petal_length\": -0.26031541526430274, \"petal_width\": -0.26238682068533337, \"species\": \"versicolor\", \"cluster\": 4, \"pred2\": 0}, {\"sepal_length\": -0.29484181807955234, \"sepal_width\": -0.8225697780975633, \"petal_length\": 0.2512214269581257, \"petal_width\": 0.13250973218556925, \"species\": \"versicolor\", \"cluster\": 4, \"pred2\": 0}, {\"sepal_length\": -0.1736739476359004, \"sepal_width\": -0.13197947932162468, \"petal_length\": 0.2512214269581257, \"petal_width\": 0.0008775478952682834, \"species\": \"versicolor\", \"cluster\": 2, \"pred2\": 0}, {\"sepal_length\": -0.1736739476359004, \"sepal_width\": -0.3621762455802712, \"petal_length\": 0.2512214269581257, \"petal_width\": 0.13250973218556925, \"species\": \"versicolor\", \"cluster\": 2, \"pred2\": 0}, {\"sepal_length\": 0.432165404582356, \"sepal_width\": -0.3621762455802712, \"petal_length\": 0.30805885387172866, \"petal_width\": 0.13250973218556925, \"species\": \"versicolor\", \"cluster\": 2, \"pred2\": 0}, {\"sepal_length\": -0.9006811702978088, \"sepal_width\": -1.2829633106148564, \"petal_length\": -0.4308276960051121, \"petal_width\": -0.1307546363950324, \"species\": \"versicolor\", \"cluster\": 4, \"pred2\": 0}, {\"sepal_length\": -0.1736739476359004, \"sepal_width\": -0.5923730118389178, \"petal_length\": 0.1943840000445223, \"petal_width\": 0.13250973218556925, \"species\": \"versicolor\", \"cluster\": 2, \"pred2\": 0}, {\"sepal_length\": 0.5533332750260068, \"sepal_width\": 0.5586108194543139, \"petal_length\": 1.2742951114029821, \"petal_width\": 1.7120959436691794, \"species\": \"virginica\", \"cluster\": 0, \"pred2\": 0}, {\"sepal_length\": -0.05250607719224957, \"sepal_width\": -0.8225697780975633, \"petal_length\": 0.7627582691805538, \"petal_width\": 0.9223028379273742, \"species\": \"virginica\", \"cluster\": 7, \"pred2\": 0}, {\"sepal_length\": 1.522676238575217, \"sepal_width\": -0.13197947932162468, \"petal_length\": 1.2174576844893792, \"petal_width\": 1.185567206507976, \"species\": \"virginica\", \"cluster\": 3, \"pred2\": 0}, {\"sepal_length\": 0.5533332750260068, \"sepal_width\": -0.3621762455802712, \"petal_length\": 1.0469454037485695, \"petal_width\": 0.7906706536370736, \"species\": \"virginica\", \"cluster\": 2, \"pred2\": 0}, {\"sepal_length\": 0.7956690159133096, \"sepal_width\": -0.13197947932162468, \"petal_length\": 1.1606202575757758, \"petal_width\": 1.317199390798277, \"species\": \"virginica\", \"cluster\": 0, \"pred2\": 0}, {\"sepal_length\": 2.1285155907934734, \"sepal_width\": -0.13197947932162468, \"petal_length\": 1.6153196728846009, \"petal_width\": 1.185567206507976, \"species\": \"virginica\", \"cluster\": 3, \"pred2\": 0}, {\"sepal_length\": -1.1430169111851105, \"sepal_width\": -1.2829633106148564, \"petal_length\": 0.4217337076989351, \"petal_width\": 0.6590384693467726, \"species\": \"virginica\", \"cluster\": 4, \"pred2\": 0}, {\"sepal_length\": 1.7650119794625196, \"sepal_width\": -0.3621762455802712, \"petal_length\": 1.4448073921437916, \"petal_width\": 0.7906706536370736, \"species\": \"virginica\", \"cluster\": 3, \"pred2\": 0}, {\"sepal_length\": 1.0380047568006125, \"sepal_width\": -1.2829633106148564, \"petal_length\": 1.1606202575757758, \"petal_width\": 0.7906706536370736, \"species\": \"virginica\", \"cluster\": 7, \"pred2\": 0}, {\"sepal_length\": 1.643844109018869, \"sepal_width\": 1.2492011182302534, \"petal_length\": 1.331132538316585, \"petal_width\": 1.7120959436691794, \"species\": \"virginica\", \"cluster\": 0, \"pred2\": 0}, {\"sepal_length\": 0.7956690159133096, \"sepal_width\": 0.32841405319566835, \"petal_length\": 0.7627582691805538, \"petal_width\": 1.053935022217675, \"species\": \"virginica\", \"cluster\": 0, \"pred2\": 0}, {\"sepal_length\": 0.6745011454696588, \"sepal_width\": -0.8225697780975633, \"petal_length\": 0.8764331230077601, \"petal_width\": 0.9223028379273742, \"species\": \"virginica\", \"cluster\": 7, \"pred2\": 0}, {\"sepal_length\": 1.1591726272442633, \"sepal_width\": -0.13197947932162468, \"petal_length\": 0.9901079768349665, \"petal_width\": 1.185567206507976, \"species\": \"virginica\", \"cluster\": 0, \"pred2\": 0}, {\"sepal_length\": -0.1736739476359004, \"sepal_width\": -1.2829633106148564, \"petal_length\": 0.7059208422669508, \"petal_width\": 1.053935022217675, \"species\": \"virginica\", \"cluster\": 7, \"pred2\": 0}, {\"sepal_length\": -0.05250607719224957, \"sepal_width\": -0.5923730118389178, \"petal_length\": 0.7627582691805538, \"petal_width\": 1.5804637593788784, \"species\": \"virginica\", \"cluster\": 7, \"pred2\": 0}, {\"sepal_length\": 0.6745011454696588, \"sepal_width\": 0.32841405319566835, \"petal_length\": 0.8764331230077601, \"petal_width\": 1.4488315750885774, \"species\": \"virginica\", \"cluster\": 0, \"pred2\": 0}, {\"sepal_length\": 0.7956690159133096, \"sepal_width\": -0.13197947932162468, \"petal_length\": 0.9901079768349665, \"petal_width\": 0.7906706536370736, \"species\": \"virginica\", \"cluster\": 2, \"pred2\": 0}, {\"sepal_length\": 2.2496834612371255, \"sepal_width\": 1.7095946507475455, \"petal_length\": 1.6721570997982043, \"petal_width\": 1.317199390798277, \"species\": \"virginica\", \"cluster\": 0, \"pred2\": 0}, {\"sepal_length\": 2.2496834612371255, \"sepal_width\": -1.0527665443562098, \"petal_length\": 1.7858319536254108, \"petal_width\": 1.4488315750885774, \"species\": \"virginica\", \"cluster\": 3, \"pred2\": 0}, {\"sepal_length\": 0.18982966369505322, \"sepal_width\": -1.9735536093907948, \"petal_length\": 0.7059208422669508, \"petal_width\": 0.3957741007661709, \"species\": \"virginica\", \"cluster\": 7, \"pred2\": 0}, {\"sepal_length\": 1.2803404976879151, \"sepal_width\": 0.32841405319566835, \"petal_length\": 1.1037828306621729, \"petal_width\": 1.4488315750885774, \"species\": \"virginica\", \"cluster\": 0, \"pred2\": 0}, {\"sepal_length\": -0.29484181807955234, \"sepal_width\": -0.5923730118389178, \"petal_length\": 0.6490834153533479, \"petal_width\": 1.053935022217675, \"species\": \"virginica\", \"cluster\": 7, \"pred2\": 0}, {\"sepal_length\": 2.2496834612371255, \"sepal_width\": -0.5923730118389178, \"petal_length\": 1.6721570997982043, \"petal_width\": 1.053935022217675, \"species\": \"virginica\", \"cluster\": 3, \"pred2\": 0}, {\"sepal_length\": 0.5533332750260068, \"sepal_width\": -0.8225697780975633, \"petal_length\": 0.6490834153533479, \"petal_width\": 0.7906706536370736, \"species\": \"virginica\", \"cluster\": 7, \"pred2\": 0}, {\"sepal_length\": 1.0380047568006125, \"sepal_width\": 0.5586108194543139, \"petal_length\": 1.1037828306621729, \"petal_width\": 1.185567206507976, \"species\": \"virginica\", \"cluster\": 0, \"pred2\": 0}, {\"sepal_length\": 1.643844109018869, \"sepal_width\": 0.32841405319566835, \"petal_length\": 1.2742951114029821, \"petal_width\": 0.7906706536370736, \"species\": \"virginica\", \"cluster\": 0, \"pred2\": 0}, {\"sepal_length\": 0.432165404582356, \"sepal_width\": -0.5923730118389178, \"petal_length\": 0.5922459884397444, \"petal_width\": 0.7906706536370736, \"species\": \"virginica\", \"cluster\": 7, \"pred2\": 0}, {\"sepal_length\": 0.31099753413870407, \"sepal_width\": -0.13197947932162468, \"petal_length\": 0.6490834153533479, \"petal_width\": 0.7906706536370736, \"species\": \"virginica\", \"cluster\": 2, \"pred2\": 0}, {\"sepal_length\": 0.6745011454696588, \"sepal_width\": -0.5923730118389178, \"petal_length\": 1.0469454037485695, \"petal_width\": 1.185567206507976, \"species\": \"virginica\", \"cluster\": 7, \"pred2\": 0}, {\"sepal_length\": 1.643844109018869, \"sepal_width\": -0.13197947932162468, \"petal_length\": 1.1606202575757758, \"petal_width\": 0.5274062850564719, \"species\": \"virginica\", \"cluster\": 3, \"pred2\": 0}, {\"sepal_length\": 1.8861798499061717, \"sepal_width\": -0.5923730118389178, \"petal_length\": 1.331132538316585, \"petal_width\": 0.9223028379273742, \"species\": \"virginica\", \"cluster\": 3, \"pred2\": 0}, {\"sepal_length\": 2.4920192021244283, \"sepal_width\": 1.7095946507475455, \"petal_length\": 1.501644819057395, \"petal_width\": 1.053935022217675, \"species\": \"virginica\", \"cluster\": 0, \"pred2\": 0}, {\"sepal_length\": 0.6745011454696588, \"sepal_width\": -0.5923730118389178, \"petal_length\": 1.0469454037485695, \"petal_width\": 1.317199390798277, \"species\": \"virginica\", \"cluster\": 7, \"pred2\": 0}, {\"sepal_length\": 0.5533332750260068, \"sepal_width\": -0.5923730118389178, \"petal_length\": 0.7627582691805538, \"petal_width\": 0.3957741007661709, \"species\": \"virginica\", \"cluster\": 2, \"pred2\": 0}, {\"sepal_length\": 0.31099753413870407, \"sepal_width\": -1.0527665443562098, \"petal_length\": 1.0469454037485695, \"petal_width\": 0.26414191647586993, \"species\": \"virginica\", \"cluster\": 7, \"pred2\": 0}, {\"sepal_length\": 2.2496834612371255, \"sepal_width\": -0.13197947932162468, \"petal_length\": 1.331132538316585, \"petal_width\": 1.4488315750885774, \"species\": \"virginica\", \"cluster\": 3, \"pred2\": 0}, {\"sepal_length\": 0.5533332750260068, \"sepal_width\": 0.7888075857129604, \"petal_length\": 1.0469454037485695, \"petal_width\": 1.5804637593788784, \"species\": \"virginica\", \"cluster\": 0, \"pred2\": 0}, {\"sepal_length\": 0.6745011454696588, \"sepal_width\": 0.09821728693702184, \"petal_length\": 0.9901079768349665, \"petal_width\": 0.7906706536370736, \"species\": \"virginica\", \"cluster\": 2, \"pred2\": 0}, {\"sepal_length\": 0.18982966369505322, \"sepal_width\": -0.13197947932162468, \"petal_length\": 0.5922459884397444, \"petal_width\": 0.7906706536370736, \"species\": \"virginica\", \"cluster\": 2, \"pred2\": 0}, {\"sepal_length\": 1.2803404976879151, \"sepal_width\": 0.09821728693702184, \"petal_length\": 0.9332705499213636, \"petal_width\": 1.185567206507976, \"species\": \"virginica\", \"cluster\": 0, \"pred2\": 0}, {\"sepal_length\": 1.0380047568006125, \"sepal_width\": 0.09821728693702184, \"petal_length\": 1.0469454037485695, \"petal_width\": 1.5804637593788784, \"species\": \"virginica\", \"cluster\": 0, \"pred2\": 0}, {\"sepal_length\": 1.2803404976879151, \"sepal_width\": 0.09821728693702184, \"petal_length\": 0.7627582691805538, \"petal_width\": 1.4488315750885774, \"species\": \"virginica\", \"cluster\": 0, \"pred2\": 0}, {\"sepal_length\": -0.05250607719224957, \"sepal_width\": -0.8225697780975633, \"petal_length\": 0.7627582691805538, \"petal_width\": 0.9223028379273742, \"species\": \"virginica\", \"cluster\": 7, \"pred2\": 0}, {\"sepal_length\": 1.1591726272442633, \"sepal_width\": 0.32841405319566835, \"petal_length\": 1.2174576844893792, \"petal_width\": 1.4488315750885774, \"species\": \"virginica\", \"cluster\": 0, \"pred2\": 0}, {\"sepal_length\": 1.0380047568006125, \"sepal_width\": 0.5586108194543139, \"petal_length\": 1.1037828306621729, \"petal_width\": 1.7120959436691794, \"species\": \"virginica\", \"cluster\": 0, \"pred2\": 0}, {\"sepal_length\": 1.0380047568006125, \"sepal_width\": -0.13197947932162468, \"petal_length\": 0.8195956960941572, \"petal_width\": 1.4488315750885774, \"species\": \"virginica\", \"cluster\": 0, \"pred2\": 0}, {\"sepal_length\": 0.5533332750260068, \"sepal_width\": -1.2829633106148564, \"petal_length\": 0.7059208422669508, \"petal_width\": 0.9223028379273742, \"species\": \"virginica\", \"cluster\": 7, \"pred2\": 0}, {\"sepal_length\": 0.7956690159133096, \"sepal_width\": -0.13197947932162468, \"petal_length\": 0.8195956960941572, \"petal_width\": 1.053935022217675, \"species\": \"virginica\", \"cluster\": 0, \"pred2\": 0}, {\"sepal_length\": 0.432165404582356, \"sepal_width\": 0.7888075857129604, \"petal_length\": 0.9332705499213636, \"petal_width\": 1.4488315750885774, \"species\": \"virginica\", \"cluster\": 0, \"pred2\": 0}, {\"sepal_length\": 0.06866179325140237, \"sepal_width\": -0.13197947932162468, \"petal_length\": 0.7627582691805538, \"petal_width\": 0.7906706536370736, \"species\": \"virginica\", \"cluster\": 2, \"pred2\": 0}]}}, {\"mode\": \"vega-lite\"});\n",
       "</script>"
      ],
      "text/plain": [
       "alt.VConcatChart(...)"
      ]
     },
     "execution_count": 56,
     "metadata": {},
     "output_type": "execute_result"
    }
   ],
   "source": [
    "alt.vconcat(*chart_list)"
   ]
  }
 ],
 "metadata": {
  "deepnote": {},
  "deepnote_execution_queue": [],
  "deepnote_notebook_id": "96917dcd-c578-4469-9b88-0adc4e355ba6",
  "kernelspec": {
   "display_name": "Python 3 (ipykernel)",
   "language": "python",
   "name": "python3"
  },
  "language_info": {
   "codemirror_mode": {
    "name": "ipython",
    "version": 3
   },
   "file_extension": ".py",
   "mimetype": "text/x-python",
   "name": "python",
   "nbconvert_exporter": "python",
   "pygments_lexer": "ipython3",
   "version": "3.7.12"
  }
 },
 "nbformat": 4,
 "nbformat_minor": 4
}
