{
 "cells": [
  {
   "cell_type": "markdown",
   "metadata": {
    "cell_id": "32682bb0-7539-46ec-8441-b263bfb57048",
    "deepnote_cell_height": 245.171875,
    "deepnote_cell_type": "markdown",
    "tags": []
   },
   "source": [
    "# for loops and ways to avoid for loops"
   ]
  },
  {
   "cell_type": "markdown",
   "metadata": {
    "cell_id": "b8adb98f8f074e6587e1a98302d53bdf",
    "deepnote_cell_height": 70,
    "deepnote_cell_type": "markdown",
    "tags": []
   },
   "source": [
    "## range (similar to colon in Matlab)\n",
    "\n",
    "To get documentation on an object in Python, use `help`."
   ]
  },
  {
   "cell_type": "code",
   "execution_count": 1,
   "metadata": {
    "cell_id": "354e4ccccb2d4f2b80ef4a56a773ac5e",
    "deepnote_cell_height": 701,
    "deepnote_cell_type": "code",
    "deepnote_output_heights": [
     21.1875
    ],
    "deepnote_to_be_reexecuted": false,
    "execution_millis": 9,
    "execution_start": 1648670584625,
    "source_hash": "977e7ac2",
    "tags": [
     "output_scroll"
    ]
   },
   "outputs": [
    {
     "name": "stdout",
     "output_type": "stream",
     "text": [
      "Help on class range in module builtins:\n",
      "\n",
      "class range(object)\n",
      " |  range(stop) -> range object\n",
      " |  range(start, stop[, step]) -> range object\n",
      " |  \n",
      " |  Return an object that produces a sequence of integers from start (inclusive)\n",
      " |  to stop (exclusive) by step.  range(i, j) produces i, i+1, i+2, ..., j-1.\n",
      " |  start defaults to 0, and stop is omitted!  range(4) produces 0, 1, 2, 3.\n",
      " |  These are exactly the valid indices for a list of 4 elements.\n",
      " |  When step is given, it specifies the increment (or decrement).\n",
      " |  \n",
      " |  Methods defined here:\n",
      " |  \n",
      " |  __bool__(self, /)\n",
      " |      self != 0\n",
      " |  \n",
      " |  __contains__(self, key, /)\n",
      " |      Return key in self.\n",
      " |  \n",
      " |  __eq__(self, value, /)\n",
      " |      Return self==value.\n",
      " |  \n",
      " |  __ge__(self, value, /)\n",
      " |      Return self>=value.\n",
      " |  \n",
      " |  __getattribute__(self, name, /)\n",
      " |      Return getattr(self, name).\n",
      " |  \n",
      " |  __getitem__(self, key, /)\n",
      " |      Return self[key].\n",
      " |  \n",
      " |  __gt__(self, value, /)\n",
      " |      Return self>value.\n",
      " |  \n",
      " |  __hash__(self, /)\n",
      " |      Return hash(self).\n",
      " |  \n",
      " |  __iter__(self, /)\n",
      " |      Implement iter(self).\n",
      " |  \n",
      " |  __le__(self, value, /)\n",
      " |      Return self<=value.\n",
      " |  \n",
      " |  __len__(self, /)\n",
      " |      Return len(self).\n",
      " |  \n",
      " |  __lt__(self, value, /)\n",
      " |      Return self<value.\n",
      " |  \n",
      " |  __ne__(self, value, /)\n",
      " |      Return self!=value.\n",
      " |  \n",
      " |  __reduce__(...)\n",
      " |      Helper for pickle.\n",
      " |  \n",
      " |  __repr__(self, /)\n",
      " |      Return repr(self).\n",
      " |  \n",
      " |  __reversed__(...)\n",
      " |      Return a reverse iterator.\n",
      " |  \n",
      " |  count(...)\n",
      " |      rangeobject.count(value) -> integer -- return number of occurrences of value\n",
      " |  \n",
      " |  index(...)\n",
      " |      rangeobject.index(value) -> integer -- return index of value.\n",
      " |      Raise ValueError if the value is not present.\n",
      " |  \n",
      " |  ----------------------------------------------------------------------\n",
      " |  Static methods defined here:\n",
      " |  \n",
      " |  __new__(*args, **kwargs) from builtins.type\n",
      " |      Create and return a new object.  See help(type) for accurate signature.\n",
      " |  \n",
      " |  ----------------------------------------------------------------------\n",
      " |  Data descriptors defined here:\n",
      " |  \n",
      " |  start\n",
      " |  \n",
      " |  step\n",
      " |  \n",
      " |  stop\n",
      "\n"
     ]
    }
   ],
   "source": [
    "help(range)"
   ]
  },
  {
   "cell_type": "code",
   "execution_count": 2,
   "metadata": {
    "cell_id": "3c3b7795756140949e4835b2b02fabf9",
    "deepnote_cell_height": 81,
    "deepnote_cell_type": "code",
    "deepnote_output_heights": [
     21.1875
    ],
    "deepnote_to_be_reexecuted": false,
    "execution_millis": 1,
    "execution_start": 1648670675623,
    "source_hash": "7c085934",
    "tags": []
   },
   "outputs": [],
   "source": [
    "r = range(0,10)"
   ]
  },
  {
   "cell_type": "markdown",
   "metadata": {},
   "source": [
    "I think of `range` as creating something like a list, but the thing that's created is not actually a list, it is a `range` object."
   ]
  },
  {
   "cell_type": "code",
   "execution_count": 3,
   "metadata": {
    "cell_id": "de4b4c4bdfc04d139e1c973f1dcd5ccb",
    "deepnote_cell_height": 118.1875,
    "deepnote_cell_type": "code",
    "deepnote_output_heights": [
     21.1875
    ],
    "deepnote_to_be_reexecuted": false,
    "execution_millis": 91,
    "execution_start": 1648670688131,
    "source_hash": "b457f8a7",
    "tags": []
   },
   "outputs": [
    {
     "data": {
      "text/plain": [
       "range"
      ]
     },
     "execution_count": 3,
     "metadata": {},
     "output_type": "execute_result"
    }
   ],
   "source": [
    "type(r)"
   ]
  },
  {
   "cell_type": "markdown",
   "metadata": {},
   "source": [
    "We can convert it to a list by wrapping it inside `list`.  Notice that the right endpoint 10 is not included."
   ]
  },
  {
   "cell_type": "code",
   "execution_count": 5,
   "metadata": {
    "cell_id": "3f61e42bde344774915736e1e853df85",
    "deepnote_cell_height": 118.1875,
    "deepnote_cell_type": "code",
    "deepnote_output_heights": [
     21.1875
    ],
    "deepnote_to_be_reexecuted": false,
    "execution_millis": 7,
    "execution_start": 1648670734988,
    "source_hash": "52adadb4",
    "tags": []
   },
   "outputs": [
    {
     "data": {
      "text/plain": [
       "[0, 1, 2, 3, 4, 5, 6, 7, 8, 9]"
      ]
     },
     "execution_count": 5,
     "metadata": {},
     "output_type": "execute_result"
    }
   ],
   "source": [
    "list(r)"
   ]
  },
  {
   "cell_type": "markdown",
   "metadata": {},
   "source": [
    "The following is similar to `0:3:99` in Matlab."
   ]
  },
  {
   "cell_type": "code",
   "execution_count": 6,
   "metadata": {
    "cell_id": "4a419fb368cf448a8eec72483b52fb9f",
    "deepnote_cell_height": 99,
    "deepnote_cell_type": "code",
    "deepnote_to_be_reexecuted": false,
    "execution_millis": 10,
    "execution_start": 1648670778897,
    "source_hash": "1ac1727c",
    "tags": []
   },
   "outputs": [],
   "source": [
    "s = range(0,100,3)"
   ]
  },
  {
   "cell_type": "code",
   "execution_count": 7,
   "metadata": {
    "cell_id": "fd3c456ce24d491c88367fe1a74257ec",
    "deepnote_cell_height": 708,
    "deepnote_cell_type": "code",
    "deepnote_output_heights": [
     611
    ],
    "deepnote_to_be_reexecuted": false,
    "execution_millis": 15,
    "execution_start": 1648670781611,
    "source_hash": "fc0372f1",
    "tags": []
   },
   "outputs": [
    {
     "data": {
      "text/plain": [
       "[0,\n",
       " 3,\n",
       " 6,\n",
       " 9,\n",
       " 12,\n",
       " 15,\n",
       " 18,\n",
       " 21,\n",
       " 24,\n",
       " 27,\n",
       " 30,\n",
       " 33,\n",
       " 36,\n",
       " 39,\n",
       " 42,\n",
       " 45,\n",
       " 48,\n",
       " 51,\n",
       " 54,\n",
       " 57,\n",
       " 60,\n",
       " 63,\n",
       " 66,\n",
       " 69,\n",
       " 72,\n",
       " 75,\n",
       " 78,\n",
       " 81,\n",
       " 84,\n",
       " 87,\n",
       " 90,\n",
       " 93,\n",
       " 96,\n",
       " 99]"
      ]
     },
     "execution_count": 7,
     "metadata": {},
     "output_type": "execute_result"
    }
   ],
   "source": [
    "list(s)"
   ]
  },
  {
   "cell_type": "markdown",
   "metadata": {},
   "source": [
    "You are only allowed to use ints when creating a range object."
   ]
  },
  {
   "cell_type": "code",
   "execution_count": 8,
   "metadata": {
    "cell_id": "8fef88b253a0494c9e94121c72009985",
    "deepnote_cell_height": 144.1875,
    "deepnote_cell_type": "code",
    "deepnote_to_be_reexecuted": false,
    "execution_millis": 631,
    "execution_start": 1648670843927,
    "source_hash": "ac5897fb",
    "tags": []
   },
   "outputs": [
    {
     "ename": "TypeError",
     "evalue": "'float' object cannot be interpreted as an integer",
     "output_type": "error",
     "traceback": [
      "\u001b[0;31m---------------------------------------------------------------------------\u001b[0m",
      "\u001b[0;31mTypeError\u001b[0m                                 Traceback (most recent call last)",
      "\u001b[0;32m/var/folders/8j/gshrlmtn7dg4qtztj4d4t_w40000gn/T/ipykernel_90333/361496858.py\u001b[0m in \u001b[0;36m<module>\u001b[0;34m\u001b[0m\n\u001b[0;32m----> 1\u001b[0;31m \u001b[0mrange\u001b[0m\u001b[0;34m(\u001b[0m\u001b[0;36m0\u001b[0m\u001b[0;34m,\u001b[0m\u001b[0;36m1\u001b[0m\u001b[0;34m,\u001b[0m\u001b[0;36m0.1\u001b[0m\u001b[0;34m)\u001b[0m\u001b[0;34m\u001b[0m\u001b[0;34m\u001b[0m\u001b[0m\n\u001b[0m",
      "\u001b[0;31mTypeError\u001b[0m: 'float' object cannot be interpreted as an integer"
     ]
    }
   ],
   "source": [
    "range(0,1,0.1)"
   ]
  },
  {
   "cell_type": "markdown",
   "metadata": {},
   "source": [
    "If you don't specify two input arguments, then the `range` object will start at 0."
   ]
  },
  {
   "cell_type": "code",
   "execution_count": 10,
   "metadata": {
    "cell_id": "a430dec485de43f69b12e6874d639d3a",
    "deepnote_cell_height": 118.1875,
    "deepnote_cell_type": "code",
    "deepnote_output_heights": [
     21.1875
    ],
    "deepnote_to_be_reexecuted": false,
    "execution_millis": 11,
    "execution_start": 1648670915275,
    "source_hash": "86e307cb",
    "tags": []
   },
   "outputs": [
    {
     "data": {
      "text/plain": [
       "[0, 1, 2, 3, 4]"
      ]
     },
     "execution_count": 10,
     "metadata": {},
     "output_type": "execute_result"
    }
   ],
   "source": [
    "list(range(5))"
   ]
  },
  {
   "cell_type": "markdown",
   "metadata": {
    "cell_id": "a0da964cf87447038f361a97333e70ad",
    "deepnote_cell_height": 70,
    "deepnote_cell_type": "markdown",
    "tags": []
   },
   "source": [
    "## for loops\n",
    "\n",
    "`range` objects might seem kind of specialized, but they are very useful when creating a for loop.  For example, here we print the word \"hi\" five times."
   ]
  },
  {
   "cell_type": "code",
   "execution_count": 11,
   "metadata": {
    "cell_id": "574bde3a21d54da6b0287ac119b2176d",
    "deepnote_cell_height": 227,
    "deepnote_cell_type": "code",
    "deepnote_to_be_reexecuted": false,
    "execution_millis": 7,
    "execution_start": 1648670939829,
    "source_hash": "519ce737",
    "tags": []
   },
   "outputs": [
    {
     "name": "stdout",
     "output_type": "stream",
     "text": [
      "hi\n",
      "hi\n",
      "hi\n",
      "hi\n",
      "hi\n"
     ]
    }
   ],
   "source": [
    "for i in range(5):\n",
    "    print(\"hi\")"
   ]
  },
  {
   "cell_type": "markdown",
   "metadata": {},
   "source": [
    "A convention (that I usually won't use) is to use `_` for the variable name if it's never getting referred to again."
   ]
  },
  {
   "cell_type": "code",
   "execution_count": 12,
   "metadata": {
    "cell_id": "25fbb68f9c31463896e6735c7e413144",
    "deepnote_cell_height": 226.828125,
    "deepnote_cell_type": "code",
    "deepnote_to_be_reexecuted": false,
    "execution_millis": 6,
    "execution_start": 1648670966635,
    "source_hash": "c2155a92",
    "tags": []
   },
   "outputs": [
    {
     "name": "stdout",
     "output_type": "stream",
     "text": [
      "hi\n",
      "hi\n",
      "hi\n",
      "hi\n",
      "hi\n"
     ]
    }
   ],
   "source": [
    "for _ in range(5):\n",
    "    print(\"hi\")"
   ]
  },
  {
   "cell_type": "markdown",
   "metadata": {},
   "source": [
    "The indentation is important.  Pay attention to the difference between the following two examples.  The indented part is what is repeated in the for loop, and the unindented part happens after the for loop is finished."
   ]
  },
  {
   "cell_type": "code",
   "execution_count": 13,
   "metadata": {
    "cell_id": "57146395871f4ce7b52e76973f00885c",
    "deepnote_cell_height": 247,
    "deepnote_cell_type": "code",
    "deepnote_to_be_reexecuted": false,
    "execution_millis": 6,
    "execution_start": 1648671022419,
    "source_hash": "142afbe1",
    "tags": []
   },
   "outputs": [
    {
     "name": "stdout",
     "output_type": "stream",
     "text": [
      "hi\n",
      "hi\n",
      "hi\n",
      "hi\n",
      "hi\n",
      "4\n"
     ]
    }
   ],
   "source": [
    "for i in range(5):\n",
    "    print(\"hi\")\n",
    "print(i)"
   ]
  },
  {
   "cell_type": "code",
   "execution_count": 14,
   "metadata": {
    "cell_id": "8628d66d40b74b74bcd15a0be4ae856a",
    "deepnote_cell_height": 325.671875,
    "deepnote_cell_type": "code",
    "deepnote_to_be_reexecuted": false,
    "execution_millis": 11,
    "execution_start": 1648671060403,
    "source_hash": "cd13e128",
    "tags": []
   },
   "outputs": [
    {
     "name": "stdout",
     "output_type": "stream",
     "text": [
      "hi\n",
      "0\n",
      "hi\n",
      "1\n",
      "hi\n",
      "2\n",
      "hi\n",
      "3\n",
      "hi\n",
      "4\n"
     ]
    }
   ],
   "source": [
    "for i in range(5):\n",
    "    print(\"hi\")\n",
    "    print(i)"
   ]
  },
  {
   "cell_type": "markdown",
   "metadata": {},
   "source": [
    "## Example\n",
    "\n",
    "Let's try to make the list `[\"lecture3\", \"lecture5\", ..., \"lecture41\"]`.\n",
    "\n",
    "You aren't allowed to reference non-existent entries in a list.  For example, in the following we've made an empty list, so we are not allowed to refer to its 2nd entry."
   ]
  },
  {
   "cell_type": "code",
   "execution_count": 15,
   "metadata": {
    "cell_id": "d158d4431e3b4c338637e1795b1a10ec",
    "deepnote_cell_height": 180.1875,
    "deepnote_cell_type": "code",
    "deepnote_to_be_reexecuted": false,
    "execution_millis": 20,
    "execution_start": 1648671200461,
    "source_hash": "4bfd7ee",
    "tags": []
   },
   "outputs": [
    {
     "ename": "IndexError",
     "evalue": "list assignment index out of range",
     "output_type": "error",
     "traceback": [
      "\u001b[0;31m---------------------------------------------------------------------------\u001b[0m",
      "\u001b[0;31mIndexError\u001b[0m                                Traceback (most recent call last)",
      "\u001b[0;32m/var/folders/8j/gshrlmtn7dg4qtztj4d4t_w40000gn/T/ipykernel_90333/3788743490.py\u001b[0m in \u001b[0;36m<module>\u001b[0;34m\u001b[0m\n\u001b[1;32m      1\u001b[0m \u001b[0mmy_list\u001b[0m \u001b[0;34m=\u001b[0m \u001b[0;34m[\u001b[0m\u001b[0;34m]\u001b[0m\u001b[0;34m\u001b[0m\u001b[0;34m\u001b[0m\u001b[0m\n\u001b[0;32m----> 2\u001b[0;31m \u001b[0mmy_list\u001b[0m\u001b[0;34m[\u001b[0m\u001b[0;36m2\u001b[0m\u001b[0;34m]\u001b[0m \u001b[0;34m=\u001b[0m \u001b[0;34m\"lecture7\"\u001b[0m\u001b[0;34m\u001b[0m\u001b[0;34m\u001b[0m\u001b[0m\n\u001b[0m",
      "\u001b[0;31mIndexError\u001b[0m: list assignment index out of range"
     ]
    }
   ],
   "source": [
    "my_list = []\n",
    "my_list[2] = \"lecture7\""
   ]
  },
  {
   "cell_type": "markdown",
   "metadata": {},
   "source": [
    "Instead we will start with an empty list, and then gradually `append` elements onto it."
   ]
  },
  {
   "cell_type": "code",
   "execution_count": 16,
   "metadata": {
    "cell_id": "9b7d17399bb3431fa288500e0e9e3337",
    "deepnote_cell_height": 99,
    "deepnote_cell_type": "code",
    "deepnote_to_be_reexecuted": false,
    "execution_millis": 13,
    "execution_start": 1648671266112,
    "source_hash": "8b1afe1f",
    "tags": []
   },
   "outputs": [],
   "source": [
    "my_list = []\n",
    "my_list.append(\"lecture3\")"
   ]
  },
  {
   "cell_type": "code",
   "execution_count": 17,
   "metadata": {
    "cell_id": "e30fc73a3fcf48d18c46b98a0aaff70e",
    "deepnote_cell_height": 118.1875,
    "deepnote_cell_type": "code",
    "deepnote_output_heights": [
     21.1875
    ],
    "deepnote_to_be_reexecuted": false,
    "execution_millis": 1,
    "execution_start": 1648671271005,
    "source_hash": "d76b7c80",
    "tags": []
   },
   "outputs": [
    {
     "data": {
      "text/plain": [
       "['lecture3']"
      ]
     },
     "execution_count": 17,
     "metadata": {},
     "output_type": "execute_result"
    }
   ],
   "source": [
    "my_list"
   ]
  },
  {
   "cell_type": "code",
   "execution_count": 18,
   "metadata": {
    "cell_id": "aa8f7adcb35b4bc3945c88d93b491063",
    "deepnote_cell_height": 81,
    "deepnote_cell_type": "code",
    "deepnote_to_be_reexecuted": false,
    "execution_millis": 14,
    "execution_start": 1648671293464,
    "source_hash": "eccb129f",
    "tags": []
   },
   "outputs": [],
   "source": [
    "my_list.append('lecture5')"
   ]
  },
  {
   "cell_type": "code",
   "execution_count": 19,
   "metadata": {
    "cell_id": "02431fc181564646912b689ea599368a",
    "deepnote_cell_height": 118.1875,
    "deepnote_cell_type": "code",
    "deepnote_output_heights": [
     21.1875
    ],
    "deepnote_to_be_reexecuted": false,
    "execution_millis": 31,
    "execution_start": 1648671295469,
    "source_hash": "d76b7c80",
    "tags": []
   },
   "outputs": [
    {
     "data": {
      "text/plain": [
       "['lecture3', 'lecture5']"
      ]
     },
     "execution_count": 19,
     "metadata": {},
     "output_type": "execute_result"
    }
   ],
   "source": [
    "my_list"
   ]
  },
  {
   "cell_type": "code",
   "execution_count": 20,
   "metadata": {
    "cell_id": "6727eec10a0243b088e68f23516c382c",
    "deepnote_cell_height": 180,
    "deepnote_cell_type": "code",
    "deepnote_to_be_reexecuted": false,
    "execution_millis": 5,
    "execution_start": 1648671548998,
    "source_hash": "5588189b",
    "tags": []
   },
   "outputs": [],
   "source": [
    "my_list = []\n",
    "for i in range(3,43,2):\n",
    "    my_list.append(i)"
   ]
  },
  {
   "cell_type": "code",
   "execution_count": 21,
   "metadata": {
    "cell_id": "9d5dd02b353a42b7978d17282e35cf6c",
    "deepnote_cell_height": 118.1875,
    "deepnote_cell_type": "code",
    "deepnote_output_heights": [
     21.1875
    ],
    "deepnote_to_be_reexecuted": false,
    "execution_millis": 22,
    "execution_start": 1648671425492,
    "source_hash": "d76b7c80",
    "tags": []
   },
   "outputs": [
    {
     "data": {
      "text/plain": [
       "[3, 5, 7, 9, 11, 13, 15, 17, 19, 21, 23, 25, 27, 29, 31, 33, 35, 37, 39, 41]"
      ]
     },
     "execution_count": 21,
     "metadata": {},
     "output_type": "execute_result"
    }
   ],
   "source": [
    "my_list"
   ]
  },
  {
   "cell_type": "markdown",
   "metadata": {},
   "source": [
    "We just need to combine these ideas."
   ]
  },
  {
   "cell_type": "code",
   "execution_count": 22,
   "metadata": {
    "cell_id": "a5bcc793a8ec4708ac4e199a30ecb7bb",
    "deepnote_cell_height": 180.1875,
    "deepnote_cell_type": "code",
    "deepnote_to_be_reexecuted": false,
    "execution_millis": 3,
    "execution_start": 1648671558921,
    "source_hash": "c1050d64",
    "tags": []
   },
   "outputs": [
    {
     "ename": "TypeError",
     "evalue": "can only concatenate str (not \"int\") to str",
     "output_type": "error",
     "traceback": [
      "\u001b[0;31m---------------------------------------------------------------------------\u001b[0m",
      "\u001b[0;31mTypeError\u001b[0m                                 Traceback (most recent call last)",
      "\u001b[0;32m/var/folders/8j/gshrlmtn7dg4qtztj4d4t_w40000gn/T/ipykernel_90333/2841512558.py\u001b[0m in \u001b[0;36m<module>\u001b[0;34m\u001b[0m\n\u001b[1;32m      1\u001b[0m \u001b[0mmy_list\u001b[0m \u001b[0;34m=\u001b[0m \u001b[0;34m[\u001b[0m\u001b[0;34m]\u001b[0m\u001b[0;34m\u001b[0m\u001b[0;34m\u001b[0m\u001b[0m\n\u001b[1;32m      2\u001b[0m \u001b[0;32mfor\u001b[0m \u001b[0mi\u001b[0m \u001b[0;32min\u001b[0m \u001b[0mrange\u001b[0m\u001b[0;34m(\u001b[0m\u001b[0;36m3\u001b[0m\u001b[0;34m,\u001b[0m\u001b[0;36m43\u001b[0m\u001b[0;34m,\u001b[0m\u001b[0;36m2\u001b[0m\u001b[0;34m)\u001b[0m\u001b[0;34m:\u001b[0m\u001b[0;34m\u001b[0m\u001b[0;34m\u001b[0m\u001b[0m\n\u001b[0;32m----> 3\u001b[0;31m     \u001b[0mmy_list\u001b[0m\u001b[0;34m.\u001b[0m\u001b[0mappend\u001b[0m\u001b[0;34m(\u001b[0m\u001b[0;34m\"lecture\"\u001b[0m\u001b[0;34m+\u001b[0m\u001b[0mi\u001b[0m\u001b[0;34m)\u001b[0m\u001b[0;34m\u001b[0m\u001b[0;34m\u001b[0m\u001b[0m\n\u001b[0m",
      "\u001b[0;31mTypeError\u001b[0m: can only concatenate str (not \"int\") to str"
     ]
    }
   ],
   "source": [
    "my_list = []\n",
    "for i in range(3,43,2):\n",
    "    my_list.append(\"lecture\"+i)"
   ]
  },
  {
   "cell_type": "markdown",
   "metadata": {},
   "source": [
    "We're not allowed to use `+` between a string like \"lecture\" and an integer like `i`."
   ]
  },
  {
   "cell_type": "code",
   "execution_count": 23,
   "metadata": {
    "cell_id": "2ff0addacffb4a47b01677d4fee2e4a6",
    "deepnote_cell_height": 118.1875,
    "deepnote_cell_type": "code",
    "deepnote_output_heights": [
     21.1875
    ],
    "deepnote_to_be_reexecuted": false,
    "execution_millis": 9,
    "execution_start": 1648671595931,
    "source_hash": "29d7ecf6",
    "tags": []
   },
   "outputs": [
    {
     "data": {
      "text/plain": [
       "str"
      ]
     },
     "execution_count": 23,
     "metadata": {},
     "output_type": "execute_result"
    }
   ],
   "source": [
    "type(\"lecture\")"
   ]
  },
  {
   "cell_type": "markdown",
   "metadata": {},
   "source": [
    "We convert `i` into a string by wrapping it in `str`.  This is just like how we converted a `range` object into a list by wrapping it in `list`."
   ]
  },
  {
   "cell_type": "code",
   "execution_count": 24,
   "metadata": {
    "cell_id": "243cea8b667246edbb4c0d4b9a491822",
    "deepnote_cell_height": 117,
    "deepnote_cell_type": "code",
    "deepnote_to_be_reexecuted": false,
    "execution_millis": 1,
    "execution_start": 1648671621113,
    "source_hash": "cc357664",
    "tags": []
   },
   "outputs": [],
   "source": [
    "my_list = []\n",
    "for i in range(3,43,2):\n",
    "    my_list.append(\"lecture\"+str(i))"
   ]
  },
  {
   "cell_type": "code",
   "execution_count": 25,
   "metadata": {
    "cell_id": "b32572877a864f67a17b3f6fad2de746",
    "deepnote_cell_height": 482.90625,
    "deepnote_cell_type": "code",
    "deepnote_output_heights": [
     385.921875
    ],
    "deepnote_to_be_reexecuted": false,
    "execution_millis": 14,
    "execution_start": 1648671623880,
    "source_hash": "d76b7c80",
    "tags": []
   },
   "outputs": [
    {
     "data": {
      "text/plain": [
       "['lecture3',\n",
       " 'lecture5',\n",
       " 'lecture7',\n",
       " 'lecture9',\n",
       " 'lecture11',\n",
       " 'lecture13',\n",
       " 'lecture15',\n",
       " 'lecture17',\n",
       " 'lecture19',\n",
       " 'lecture21',\n",
       " 'lecture23',\n",
       " 'lecture25',\n",
       " 'lecture27',\n",
       " 'lecture29',\n",
       " 'lecture31',\n",
       " 'lecture33',\n",
       " 'lecture35',\n",
       " 'lecture37',\n",
       " 'lecture39',\n",
       " 'lecture41']"
      ]
     },
     "execution_count": 25,
     "metadata": {},
     "output_type": "execute_result"
    }
   ],
   "source": [
    "my_list"
   ]
  },
  {
   "cell_type": "markdown",
   "metadata": {},
   "source": [
    "## Miscellaneous comments\n",
    "\n",
    "(Here are a few miscellaneous comments.  We get back to the main lecture below.)\n",
    "\n",
    "A list is allowed to have different data types in it.  For example, the following list has an `int`, a `str`, and a `list` in it."
   ]
  },
  {
   "cell_type": "code",
   "execution_count": 26,
   "metadata": {
    "cell_id": "2eb3116b48394a8a8a610546996e02c6",
    "deepnote_cell_height": 118.1875,
    "deepnote_cell_type": "code",
    "deepnote_output_heights": [
     21.1875
    ],
    "deepnote_to_be_reexecuted": false,
    "execution_millis": 361,
    "execution_start": 1648671648255,
    "source_hash": "fe14e52",
    "tags": []
   },
   "outputs": [
    {
     "data": {
      "text/plain": [
       "[2, 'hi', [5, 10]]"
      ]
     },
     "execution_count": 26,
     "metadata": {},
     "output_type": "execute_result"
    }
   ],
   "source": [
    "[2,\"hi\",[5,10]]"
   ]
  },
  {
   "cell_type": "markdown",
   "metadata": {},
   "source": [
    "The error above was from trying to use `+` between a string and an integer.  We are sometimes allowed to use `+` between different data types.  Here we add an `int` and a `float`."
   ]
  },
  {
   "cell_type": "code",
   "execution_count": 27,
   "metadata": {
    "cell_id": "85b7b9140fe4496192cd58c0b5721400",
    "deepnote_cell_height": 118.1875,
    "deepnote_cell_type": "code",
    "deepnote_output_heights": [
     21.1875
    ],
    "deepnote_to_be_reexecuted": false,
    "execution_millis": 3,
    "execution_start": 1648671672370,
    "source_hash": "2ddf9cdd",
    "tags": []
   },
   "outputs": [
    {
     "data": {
      "text/plain": [
       "5.1"
      ]
     },
     "execution_count": 27,
     "metadata": {},
     "output_type": "execute_result"
    }
   ],
   "source": [
    "4+1.1"
   ]
  },
  {
   "cell_type": "code",
   "execution_count": 28,
   "metadata": {
    "cell_id": "7f4ffdae6c244f7aac51ac3907b3f7aa",
    "deepnote_cell_height": 144.1875,
    "deepnote_cell_type": "code",
    "deepnote_to_be_reexecuted": false,
    "execution_millis": 51,
    "execution_start": 1648671683827,
    "source_hash": "a4982b9f",
    "tags": []
   },
   "outputs": [
    {
     "ename": "TypeError",
     "evalue": "can only concatenate str (not \"int\") to str",
     "output_type": "error",
     "traceback": [
      "\u001b[0;31m---------------------------------------------------------------------------\u001b[0m",
      "\u001b[0;31mTypeError\u001b[0m                                 Traceback (most recent call last)",
      "\u001b[0;32m/var/folders/8j/gshrlmtn7dg4qtztj4d4t_w40000gn/T/ipykernel_90333/349616457.py\u001b[0m in \u001b[0;36m<module>\u001b[0;34m\u001b[0m\n\u001b[0;32m----> 1\u001b[0;31m \u001b[0;34m\"hi\"\u001b[0m\u001b[0;34m+\u001b[0m\u001b[0;36m4\u001b[0m\u001b[0;34m\u001b[0m\u001b[0;34m\u001b[0m\u001b[0m\n\u001b[0m",
      "\u001b[0;31mTypeError\u001b[0m: can only concatenate str (not \"int\") to str"
     ]
    }
   ],
   "source": [
    "\"hi\"+4"
   ]
  },
  {
   "cell_type": "markdown",
   "metadata": {},
   "source": [
    "You can't add an int to a list (but see further below for a way to add 1 to each entry in a list)."
   ]
  },
  {
   "cell_type": "code",
   "execution_count": 30,
   "metadata": {
    "cell_id": "7580dfb1bb6143d2a71ac6ad379063ab",
    "deepnote_cell_height": 144.1875,
    "deepnote_cell_type": "code",
    "deepnote_to_be_reexecuted": false,
    "execution_millis": 49,
    "execution_start": 1648671694635,
    "source_hash": "77a2eaaa",
    "tags": []
   },
   "outputs": [
    {
     "ename": "TypeError",
     "evalue": "can only concatenate list (not \"int\") to list",
     "output_type": "error",
     "traceback": [
      "\u001b[0;31m---------------------------------------------------------------------------\u001b[0m",
      "\u001b[0;31mTypeError\u001b[0m                                 Traceback (most recent call last)",
      "\u001b[0;32m/var/folders/8j/gshrlmtn7dg4qtztj4d4t_w40000gn/T/ipykernel_90333/897864291.py\u001b[0m in \u001b[0;36m<module>\u001b[0;34m\u001b[0m\n\u001b[0;32m----> 1\u001b[0;31m \u001b[0;34m[\u001b[0m\u001b[0;36m2\u001b[0m\u001b[0;34m,\u001b[0m\u001b[0;36m3\u001b[0m\u001b[0;34m,\u001b[0m\u001b[0;36m5\u001b[0m\u001b[0;34m]\u001b[0m\u001b[0;34m+\u001b[0m\u001b[0;36m1\u001b[0m\u001b[0;34m\u001b[0m\u001b[0;34m\u001b[0m\u001b[0m\n\u001b[0m",
      "\u001b[0;31mTypeError\u001b[0m: can only concatenate list (not \"int\") to list"
     ]
    }
   ],
   "source": [
    "[2,3,5]+1"
   ]
  },
  {
   "cell_type": "markdown",
   "metadata": {},
   "source": [
    "You can use `+` between two lists.  In this case, it concatenates them."
   ]
  },
  {
   "cell_type": "code",
   "execution_count": 31,
   "metadata": {
    "cell_id": "2472ce75a6ea40efb41a8b4db41def11",
    "deepnote_cell_height": 118.1875,
    "deepnote_cell_type": "code",
    "deepnote_output_heights": [
     21.1875
    ],
    "deepnote_to_be_reexecuted": false,
    "execution_millis": 26,
    "execution_start": 1648671729576,
    "source_hash": "f2a2f986",
    "tags": []
   },
   "outputs": [
    {
     "data": {
      "text/plain": [
       "[2, 3, 5, 5, 100, 5]"
      ]
     },
     "execution_count": 31,
     "metadata": {},
     "output_type": "execute_result"
    }
   ],
   "source": [
    "[2,3,5]+[5,100,5]"
   ]
  },
  {
   "cell_type": "markdown",
   "metadata": {
    "cell_id": "f8d0a3dd1a504283a32cab58b7dd58dc",
    "deepnote_cell_height": 110,
    "deepnote_cell_type": "markdown",
    "tags": []
   },
   "source": [
    "## Introduction to list comprehension\n",
    "\n",
    "We're going to improve the following code by writing it with list comprehension."
   ]
  },
  {
   "cell_type": "code",
   "execution_count": 32,
   "metadata": {
    "cell_id": "393a6faaab9440e180b41239bd6f7167",
    "deepnote_cell_height": 117,
    "deepnote_cell_type": "code",
    "deepnote_to_be_reexecuted": false,
    "execution_millis": 10,
    "execution_start": 1648671798017,
    "source_hash": "cc357664",
    "tags": []
   },
   "outputs": [],
   "source": [
    "my_list = []\n",
    "for i in range(3,43,2):\n",
    "    my_list.append(\"lecture\"+str(i))"
   ]
  },
  {
   "cell_type": "markdown",
   "metadata": {},
   "source": [
    "Here is the list comprehension way of making the same list."
   ]
  },
  {
   "cell_type": "code",
   "execution_count": 33,
   "metadata": {
    "cell_id": "669c53cf24fe43b7928f3df941646377",
    "deepnote_cell_height": 518.90625,
    "deepnote_cell_type": "code",
    "deepnote_output_heights": [
     385.921875
    ],
    "deepnote_to_be_reexecuted": false,
    "execution_millis": 33,
    "execution_start": 1648671845163,
    "source_hash": "19081501",
    "tags": []
   },
   "outputs": [
    {
     "data": {
      "text/plain": [
       "['lecture3',\n",
       " 'lecture5',\n",
       " 'lecture7',\n",
       " 'lecture9',\n",
       " 'lecture11',\n",
       " 'lecture13',\n",
       " 'lecture15',\n",
       " 'lecture17',\n",
       " 'lecture19',\n",
       " 'lecture21',\n",
       " 'lecture23',\n",
       " 'lecture25',\n",
       " 'lecture27',\n",
       " 'lecture29',\n",
       " 'lecture31',\n",
       " 'lecture33',\n",
       " 'lecture35',\n",
       " 'lecture37',\n",
       " 'lecture39',\n",
       " 'lecture41']"
      ]
     },
     "execution_count": 33,
     "metadata": {},
     "output_type": "execute_result"
    }
   ],
   "source": [
    "my_list2 = [\"lecture\"+str(i) for i in range(3,43,2)]\n",
    "my_list2"
   ]
  },
  {
   "cell_type": "markdown",
   "metadata": {},
   "source": [
    "Here is a more basic example of using list comprehension.  To square a number in Python, you use `**2` (you can't use `^2`).\n",
    "\n",
    "Here is how you can make a list containing the squares of the numbers in `range(5)`."
   ]
  },
  {
   "cell_type": "code",
   "execution_count": 34,
   "metadata": {
    "cell_id": "a12ca42e83e4443cb2413bfa66031cbc",
    "deepnote_cell_height": 136.1875,
    "deepnote_cell_type": "code",
    "deepnote_output_heights": [
     21.1875
    ],
    "deepnote_to_be_reexecuted": false,
    "execution_millis": 13,
    "execution_start": 1648671953386,
    "source_hash": "f1ffc79b",
    "tags": []
   },
   "outputs": [
    {
     "data": {
      "text/plain": [
       "[0, 1, 4, 9, 16]"
      ]
     },
     "execution_count": 34,
     "metadata": {},
     "output_type": "execute_result"
    }
   ],
   "source": [
    "# to square in Python, use **\n",
    "[i**2 for i in range(5)]"
   ]
  },
  {
   "cell_type": "markdown",
   "metadata": {},
   "source": [
    "Here is a fast way to make a list containing the word \"hi\" ten times."
   ]
  },
  {
   "cell_type": "code",
   "execution_count": 37,
   "metadata": {},
   "outputs": [
    {
     "data": {
      "text/plain": [
       "['hi', 'hi', 'hi', 'hi', 'hi', 'hi', 'hi', 'hi', 'hi', 'hi']"
      ]
     },
     "execution_count": 37,
     "metadata": {},
     "output_type": "execute_result"
    }
   ],
   "source": [
    "[\"hi\" for i in range(10)]"
   ]
  },
  {
   "cell_type": "markdown",
   "metadata": {},
   "source": [
    "The variable name we use is not important here."
   ]
  },
  {
   "cell_type": "code",
   "execution_count": 38,
   "metadata": {
    "cell_id": "7edbe944c4f2466283eee79f0d3682e5",
    "deepnote_cell_height": 118.1875,
    "deepnote_cell_type": "code",
    "deepnote_output_heights": [
     21.1875
    ],
    "deepnote_to_be_reexecuted": false,
    "execution_millis": 0,
    "execution_start": 1648671975296,
    "source_hash": "514d43ee",
    "tags": []
   },
   "outputs": [
    {
     "data": {
      "text/plain": [
       "['hi', 'hi', 'hi', 'hi', 'hi', 'hi', 'hi', 'hi', 'hi', 'hi']"
      ]
     },
     "execution_count": 38,
     "metadata": {},
     "output_type": "execute_result"
    }
   ],
   "source": [
    "[\"hi\" for _ in range(10)]"
   ]
  },
  {
   "cell_type": "code",
   "execution_count": 39,
   "metadata": {
    "cell_id": "0c04288f14fa4c379ebfcb6a313d6ef2",
    "deepnote_cell_height": 118.1875,
    "deepnote_cell_type": "code",
    "deepnote_output_heights": [
     21.1875
    ],
    "deepnote_to_be_reexecuted": false,
    "execution_millis": 9,
    "execution_start": 1648671985721,
    "source_hash": "c3f9769f",
    "tags": []
   },
   "outputs": [
    {
     "data": {
      "text/plain": [
       "['hi', 'hi', 'hi', 'hi', 'hi', 'hi', 'hi', 'hi', 'hi', 'hi']"
      ]
     },
     "execution_count": 39,
     "metadata": {},
     "output_type": "execute_result"
    }
   ],
   "source": [
    "[\"hi\" for kdsfjlkdsajf in range(10)]"
   ]
  },
  {
   "cell_type": "markdown",
   "metadata": {},
   "source": [
    "Here is an example of using list comprehension to add 1 to every element in the list `squares`."
   ]
  },
  {
   "cell_type": "code",
   "execution_count": 41,
   "metadata": {
    "cell_id": "bb2e842beca746658c5b70eeaa098adb",
    "deepnote_cell_height": 81,
    "deepnote_cell_type": "code",
    "deepnote_to_be_reexecuted": false,
    "execution_millis": 3,
    "execution_start": 1648672027227,
    "source_hash": "cfe6ce37",
    "tags": []
   },
   "outputs": [],
   "source": [
    "squares = [i**2 for i in range(5)]"
   ]
  },
  {
   "cell_type": "code",
   "execution_count": 42,
   "metadata": {
    "cell_id": "6d4b451f09614ea2ba0bce9307473f6b",
    "deepnote_cell_height": 118.1875,
    "deepnote_cell_type": "code",
    "deepnote_output_heights": [
     21.1875
    ],
    "deepnote_to_be_reexecuted": false,
    "execution_millis": 54,
    "execution_start": 1648672042852,
    "source_hash": "a26730a2",
    "tags": []
   },
   "outputs": [
    {
     "data": {
      "text/plain": [
       "[1, 2, 5, 10, 17]"
      ]
     },
     "execution_count": 42,
     "metadata": {},
     "output_type": "execute_result"
    }
   ],
   "source": [
    "[i+1 for i in squares]"
   ]
  },
  {
   "cell_type": "markdown",
   "metadata": {},
   "source": [
    "## Introduction to f-strings\n",
    "\n",
    "Here is our current version without using f-strings."
   ]
  },
  {
   "cell_type": "code",
   "execution_count": 44,
   "metadata": {},
   "outputs": [],
   "source": [
    "my_list2 = [\"lecture\"+str(i) for i in range(3,43,2)]"
   ]
  },
  {
   "cell_type": "markdown",
   "metadata": {},
   "source": [
    "Here is how we can make the same list using f-strings.  There are two components: we put an `f` before the quotation marks, and we put the variable inside of curly brackets."
   ]
  },
  {
   "cell_type": "code",
   "execution_count": 45,
   "metadata": {
    "cell_id": "4da40e1c195f4e5d9bebb1fd0ec86418",
    "deepnote_cell_height": 500.90625,
    "deepnote_cell_type": "code",
    "deepnote_output_heights": [
     385.921875
    ],
    "deepnote_to_be_reexecuted": false,
    "execution_millis": 13,
    "execution_start": 1648672158371,
    "source_hash": "d86d8bee",
    "tags": []
   },
   "outputs": [
    {
     "data": {
      "text/plain": [
       "['lecture3',\n",
       " 'lecture5',\n",
       " 'lecture7',\n",
       " 'lecture9',\n",
       " 'lecture11',\n",
       " 'lecture13',\n",
       " 'lecture15',\n",
       " 'lecture17',\n",
       " 'lecture19',\n",
       " 'lecture21',\n",
       " 'lecture23',\n",
       " 'lecture25',\n",
       " 'lecture27',\n",
       " 'lecture29',\n",
       " 'lecture31',\n",
       " 'lecture33',\n",
       " 'lecture35',\n",
       " 'lecture37',\n",
       " 'lecture39',\n",
       " 'lecture41']"
      ]
     },
     "execution_count": 45,
     "metadata": {},
     "output_type": "execute_result"
    }
   ],
   "source": [
    "my_list3 = [f\"lecture{i}\" for i in range(3,43,2)]\n",
    "my_list3"
   ]
  },
  {
   "cell_type": "markdown",
   "metadata": {},
   "source": [
    "f-strings are very flexible.  For example, you can have Python expressions like `i+10` inside the curly brackets."
   ]
  },
  {
   "cell_type": "code",
   "execution_count": 46,
   "metadata": {
    "cell_id": "fd286d1a70634b29a3b3142588fbedf7",
    "deepnote_cell_height": 482.90625,
    "deepnote_cell_type": "code",
    "deepnote_output_heights": [
     385.921875
    ],
    "deepnote_to_be_reexecuted": false,
    "execution_millis": 6,
    "execution_start": 1648672206542,
    "source_hash": "8cba177f",
    "tags": []
   },
   "outputs": [
    {
     "data": {
      "text/plain": [
       "['lecture13',\n",
       " 'lecture15',\n",
       " 'lecture17',\n",
       " 'lecture19',\n",
       " 'lecture21',\n",
       " 'lecture23',\n",
       " 'lecture25',\n",
       " 'lecture27',\n",
       " 'lecture29',\n",
       " 'lecture31',\n",
       " 'lecture33',\n",
       " 'lecture35',\n",
       " 'lecture37',\n",
       " 'lecture39',\n",
       " 'lecture41',\n",
       " 'lecture43',\n",
       " 'lecture45',\n",
       " 'lecture47',\n",
       " 'lecture49',\n",
       " 'lecture51']"
      ]
     },
     "execution_count": 46,
     "metadata": {},
     "output_type": "execute_result"
    }
   ],
   "source": [
    "[f\"lecture{i+10}\" for i in range(3,43,2)]"
   ]
  },
  {
   "cell_type": "markdown",
   "metadata": {},
   "source": [
    "f-strings are a relatively new addition to Python.  They were added in Python 3.6, and the default Python version in Deepnote (as I'm writing this in March 2022) is Python 3.7.  If you log on to the Python website (again as of March 2022) and try to download Python, the default is Python 3.10.\n",
    "\n",
    "When reading Python code, you'll often see people using the old way of formatting strings, using the `format` method."
   ]
  },
  {
   "cell_type": "code",
   "execution_count": 47,
   "metadata": {
    "cell_id": "8ee33208ce6244f89cc5244c2848a2e1",
    "deepnote_cell_height": 500.90625,
    "deepnote_cell_type": "code",
    "deepnote_output_heights": [
     385.921875
    ],
    "deepnote_to_be_reexecuted": false,
    "execution_millis": 21,
    "execution_start": 1648672272196,
    "source_hash": "bf0fb989",
    "tags": []
   },
   "outputs": [
    {
     "data": {
      "text/plain": [
       "['lecture3',\n",
       " 'lecture5',\n",
       " 'lecture7',\n",
       " 'lecture9',\n",
       " 'lecture11',\n",
       " 'lecture13',\n",
       " 'lecture15',\n",
       " 'lecture17',\n",
       " 'lecture19',\n",
       " 'lecture21',\n",
       " 'lecture23',\n",
       " 'lecture25',\n",
       " 'lecture27',\n",
       " 'lecture29',\n",
       " 'lecture31',\n",
       " 'lecture33',\n",
       " 'lecture35',\n",
       " 'lecture37',\n",
       " 'lecture39',\n",
       " 'lecture41']"
      ]
     },
     "execution_count": 47,
     "metadata": {},
     "output_type": "execute_result"
    }
   ],
   "source": [
    "# old way\n",
    "[\"lecture{}\".format(i) for i in range(3,43,2)]"
   ]
  },
  {
   "cell_type": "markdown",
   "metadata": {},
   "source": [
    "Especially if there are multiple variables, you'll see why the f-string way is much easier to read."
   ]
  },
  {
   "cell_type": "code",
   "execution_count": 48,
   "metadata": {
    "cell_id": "a0b26801f9eb4532957c4ed098e6850a",
    "deepnote_cell_height": 500.90625,
    "deepnote_cell_type": "code",
    "deepnote_output_heights": [
     385.921875
    ],
    "deepnote_to_be_reexecuted": false,
    "execution_millis": 3,
    "execution_start": 1648672332339,
    "source_hash": "17c1375c",
    "tags": []
   },
   "outputs": [
    {
     "data": {
      "text/plain": [
       "['13lecture3',\n",
       " '15lecture5',\n",
       " '17lecture7',\n",
       " '19lecture9',\n",
       " '21lecture11',\n",
       " '23lecture13',\n",
       " '25lecture15',\n",
       " '27lecture17',\n",
       " '29lecture19',\n",
       " '31lecture21',\n",
       " '33lecture23',\n",
       " '35lecture25',\n",
       " '37lecture27',\n",
       " '39lecture29',\n",
       " '41lecture31',\n",
       " '43lecture33',\n",
       " '45lecture35',\n",
       " '47lecture37',\n",
       " '49lecture39',\n",
       " '51lecture41']"
      ]
     },
     "execution_count": 48,
     "metadata": {},
     "output_type": "execute_result"
    }
   ],
   "source": [
    "# old way\n",
    "[\"{}lecture{}\".format(i+10,i) for i in range(3,43,2)]"
   ]
  },
  {
   "cell_type": "code",
   "execution_count": 49,
   "metadata": {
    "cell_id": "6036cc7780f5487aa6802222996e3f15",
    "deepnote_cell_height": 99,
    "deepnote_cell_type": "code",
    "deepnote_output_heights": [
     385.921875
    ],
    "deepnote_to_be_reexecuted": false,
    "execution_millis": 1,
    "execution_start": 1648672387221,
    "source_hash": "8cef7c40",
    "tags": []
   },
   "outputs": [],
   "source": [
    "# f-string way\n",
    "my_list4 = [f\"{i+10}lecture{i}\" for i in range(3,43,2)]"
   ]
  },
  {
   "cell_type": "markdown",
   "metadata": {
    "cell_id": "f218113f80cb47f8a73b107d90533494",
    "deepnote_cell_height": 189.5625,
    "deepnote_cell_type": "markdown",
    "tags": []
   },
   "source": [
    "## Example\n",
    "\n",
    "We’ll start with a piece of Python code that is correct but which can be improved. The code can be more concise (in fact, some of the code does not do anything). Using list comprehension instead of an explicit for loop probably is not much more efficient, but it is much more *Pythonic*.\n",
    "\n",
    "Try to read this code, step by step, and figure out what it does."
   ]
  },
  {
   "cell_type": "code",
   "execution_count": 51,
   "metadata": {
    "cell_id": "da436b4cda94410c838575dc5e43b2e7",
    "deepnote_cell_height": 81,
    "deepnote_cell_type": "code",
    "deepnote_to_be_reexecuted": false,
    "execution_millis": 0,
    "execution_start": 1648672470022,
    "source_hash": "6401d56c",
    "tags": []
   },
   "outputs": [],
   "source": [
    "my_list = [3.14, 10, -4, 3, 5, 5, -1, 20.3, 14, 0]"
   ]
  },
  {
   "cell_type": "code",
   "execution_count": 52,
   "metadata": {
    "cell_id": "a74b9f4c388f44de9e2f58d26d8fdee8",
    "deepnote_cell_height": 171,
    "deepnote_cell_type": "code",
    "deepnote_to_be_reexecuted": false,
    "execution_millis": 0,
    "execution_start": 1648672471080,
    "source_hash": "d99ac603",
    "tags": []
   },
   "outputs": [],
   "source": [
    "new_list = []\n",
    "for i in range(0,len(my_list)):\n",
    "    if my_list[i] > 4:\n",
    "        new_list.append(my_list[i])\n",
    "    else:\n",
    "        new_list = new_list"
   ]
  },
  {
   "cell_type": "markdown",
   "metadata": {
    "cell_id": "ac808a5637eb4f5c925b3eddfd237753",
    "deepnote_cell_height": 52.390625,
    "deepnote_cell_type": "markdown",
    "tags": []
   },
   "source": [
    "How can this code be improved?\n",
    "\n",
    "First of all, the `else` statement is doing nothing, so we get rid of it."
   ]
  },
  {
   "cell_type": "code",
   "execution_count": 53,
   "metadata": {
    "cell_id": "f6382a61328f46d19088d8b2e2222ac3",
    "deepnote_cell_height": 135,
    "deepnote_cell_type": "code",
    "deepnote_to_be_reexecuted": false,
    "execution_millis": 0,
    "execution_start": 1648672620751,
    "source_hash": "3ea27b5c",
    "tags": []
   },
   "outputs": [],
   "source": [
    "new_list = []\n",
    "for i in range(0,len(my_list)):\n",
    "    if my_list[i] > 4:\n",
    "        new_list.append(my_list[i])"
   ]
  },
  {
   "cell_type": "code",
   "execution_count": 54,
   "metadata": {
    "cell_id": "fcedb240ddd149cf88a8815506a06d81",
    "deepnote_cell_height": 118.1875,
    "deepnote_cell_type": "code",
    "deepnote_output_heights": [
     21.1875
    ],
    "deepnote_to_be_reexecuted": false,
    "execution_millis": 31,
    "execution_start": 1648672625744,
    "source_hash": "912a608f",
    "tags": []
   },
   "outputs": [
    {
     "data": {
      "text/plain": [
       "[10, 5, 5, 20.3, 14]"
      ]
     },
     "execution_count": 54,
     "metadata": {},
     "output_type": "execute_result"
    }
   ],
   "source": [
    "new_list"
   ]
  },
  {
   "cell_type": "markdown",
   "metadata": {},
   "source": [
    "There is no need to mention 0 as the starting value in `range`."
   ]
  },
  {
   "cell_type": "code",
   "execution_count": 55,
   "metadata": {
    "cell_id": "78bca08364374d25b8eee5a9e4a90643",
    "deepnote_cell_height": 135,
    "deepnote_cell_type": "code",
    "deepnote_to_be_reexecuted": false,
    "execution_millis": 1,
    "execution_start": 1648672677183,
    "source_hash": "65ea21d5",
    "tags": []
   },
   "outputs": [],
   "source": [
    "new_list = []\n",
    "for i in range(len(my_list)):\n",
    "    if my_list[i] > 4:\n",
    "        new_list.append(my_list[i])"
   ]
  },
  {
   "cell_type": "markdown",
   "metadata": {},
   "source": [
    "It's much more elegant to iterate over the elements in `my_list` rather than iterating through the numbers 0 through `len(my_list)`."
   ]
  },
  {
   "cell_type": "code",
   "execution_count": 56,
   "metadata": {
    "cell_id": "66050e8f21a74cf2a8c70b7d6461793f",
    "deepnote_cell_height": 135,
    "deepnote_cell_type": "code",
    "deepnote_to_be_reexecuted": false,
    "execution_millis": 0,
    "execution_start": 1648672787635,
    "source_hash": "9d2b3976",
    "tags": []
   },
   "outputs": [],
   "source": [
    "new_list = []\n",
    "for x in my_list:\n",
    "    if x > 4:\n",
    "        new_list.append(x)"
   ]
  },
  {
   "cell_type": "code",
   "execution_count": 59,
   "metadata": {
    "cell_id": "39b1266c5f3142b8be79589a1404fb08",
    "deepnote_cell_height": 118.1875,
    "deepnote_cell_type": "code",
    "deepnote_output_heights": [
     21.1875
    ],
    "deepnote_to_be_reexecuted": false,
    "execution_millis": 10,
    "execution_start": 1648672794212,
    "source_hash": "912a608f",
    "tags": []
   },
   "outputs": [
    {
     "data": {
      "text/plain": [
       "[10, 5, 5, 20.3, 14]"
      ]
     },
     "execution_count": 59,
     "metadata": {},
     "output_type": "execute_result"
    }
   ],
   "source": [
    "new_list"
   ]
  },
  {
   "cell_type": "markdown",
   "metadata": {},
   "source": [
    "We can make the code more compact, and definitely more *Pythonic* (not a precisely defined term) by using list comprehension.  This is similar to what we are doing above with list comprehension in the previous section.  The main difference is the `if` condition here."
   ]
  },
  {
   "cell_type": "code",
   "execution_count": 59,
   "metadata": {
    "cell_id": "d43e382bfcb545bc8efa31f9f96d98c0",
    "deepnote_cell_height": 154.1875,
    "deepnote_cell_type": "code",
    "deepnote_output_heights": [
     21.1875
    ],
    "deepnote_to_be_reexecuted": false,
    "execution_millis": 8,
    "execution_start": 1648672903837,
    "source_hash": "5403da58",
    "tags": []
   },
   "outputs": [
    {
     "data": {
      "text/plain": [
       "[10, 5, 5, 20.3, 14]"
      ]
     },
     "execution_count": 59,
     "metadata": {},
     "output_type": "execute_result"
    }
   ],
   "source": [
    "new_list = [x for x in my_list if x > 4]\n",
    "new_list"
   ]
  },
  {
   "cell_type": "code",
   "execution_count": 60,
   "metadata": {
    "cell_id": "4a884a01422d481d8daa8b85fd581b3d",
    "deepnote_cell_height": 118.1875,
    "deepnote_cell_type": "code",
    "deepnote_output_heights": [
     21.1875
    ],
    "deepnote_to_be_reexecuted": false,
    "execution_millis": 9,
    "execution_start": 1648672957434,
    "source_hash": "d76b7c80",
    "tags": []
   },
   "outputs": [
    {
     "data": {
      "text/plain": [
       "[3.14, 10, -4, 3, 5, 5, -1, 20.3, 14, 0]"
      ]
     },
     "execution_count": 60,
     "metadata": {},
     "output_type": "execute_result"
    }
   ],
   "source": [
    "my_list"
   ]
  },
  {
   "cell_type": "markdown",
   "metadata": {},
   "source": [
    "You can also have an `else` condition, but then both the `if` and the `else` need to come before the `for`."
   ]
  },
  {
   "cell_type": "code",
   "execution_count": 61,
   "metadata": {
    "cell_id": "a24aec4e99d44f9ebe22fbed8371221a",
    "deepnote_cell_height": 118.1875,
    "deepnote_cell_type": "code",
    "deepnote_output_heights": [
     21.1875
    ],
    "deepnote_to_be_reexecuted": false,
    "execution_millis": 17,
    "execution_start": 1648672976318,
    "source_hash": "154ba275",
    "tags": []
   },
   "outputs": [
    {
     "data": {
      "text/plain": [
       "['chris', 10, 'chris', 'chris', 5, 5, 'chris', 20.3, 14, 'chris']"
      ]
     },
     "execution_count": 61,
     "metadata": {},
     "output_type": "execute_result"
    }
   ],
   "source": [
    "[x if x > 4 else \"chris\" for x in my_list]"
   ]
  },
  {
   "cell_type": "markdown",
   "metadata": {
    "cell_id": "5d1c03e3a487430dbb457163bc0eca5c",
    "deepnote_cell_height": 108.390625,
    "deepnote_cell_type": "markdown",
    "tags": []
   },
   "source": [
    "## The *DRY* principle\n",
    "\n",
    "Here is a list of UCInetIDs that we want to turn into email addresses."
   ]
  },
  {
   "cell_type": "code",
   "execution_count": 63,
   "metadata": {
    "cell_id": "a0952294ca144472b94579ff6cbffdd5",
    "deepnote_cell_height": 81,
    "deepnote_cell_type": "code",
    "deepnote_to_be_reexecuted": false,
    "execution_millis": 4,
    "execution_start": 1648673052825,
    "source_hash": "68ca32b5",
    "tags": []
   },
   "outputs": [],
   "source": [
    "uci = [\"DAVISCJ\", \"YBAKI\", \"CHUPENZ\", \"YUFEIR\"]"
   ]
  },
  {
   "cell_type": "markdown",
   "metadata": {
    "cell_id": "16bc132cbeea41fe94296f184e529201",
    "deepnote_cell_height": 97.171875,
    "deepnote_cell_type": "markdown",
    "tags": []
   },
   "source": [
    "Something like the following will always be incorrect in Math 10, because it includes too much repetition.  There is a principle in programming called **DRY**, which stands for *Don't Repeat Yourself*.  We will always try to follow the DRY principle in Math 10."
   ]
  },
  {
   "cell_type": "code",
   "execution_count": 64,
   "metadata": {
    "cell_id": "6d0279ae03d64a1188e40288acf33c38",
    "deepnote_cell_height": 136.1875,
    "deepnote_cell_type": "code",
    "deepnote_output_heights": [
     21.1875
    ],
    "deepnote_to_be_reexecuted": false,
    "execution_millis": 192,
    "execution_start": 1648652225332,
    "source_hash": "27db561d",
    "tags": []
   },
   "outputs": [
    {
     "data": {
      "text/plain": [
       "['DAVISCJ@uci.edu', 'YBAKI@uci.edu', 'CHUPENZ@uci.edu', 'YUFEIR@uci.edu']"
      ]
     },
     "execution_count": 64,
     "metadata": {},
     "output_type": "execute_result"
    }
   ],
   "source": [
    "# Not DRY\n",
    "[uci[0]+\"@uci.edu\", uci[1]+\"@uci.edu\", uci[2]+\"@uci.edu\", uci[3]+\"@uci.edu\"]"
   ]
  },
  {
   "cell_type": "markdown",
   "metadata": {},
   "source": [
    "How can we do the same thing using list comprehension?  We want something in the form `[??0 for ??1 in ??2]`, where ??0 represents what goes in the list, where ??1 represents the name of the variable, and where ??2 indicates what elements the variable runs through (iterates over)."
   ]
  },
  {
   "cell_type": "code",
   "execution_count": 65,
   "metadata": {
    "cell_id": "4aec228caa0e4f3690b85d84d390bc2d",
    "deepnote_cell_height": 84,
    "deepnote_cell_type": "code",
    "deepnote_to_be_reexecuted": false,
    "execution_millis": 13,
    "execution_start": 1648673331414,
    "source_hash": "3e853298",
    "tags": []
   },
   "outputs": [
    {
     "data": {
      "text/plain": [
       "['DAVISCJ@uci.edu', 'YBAKI@uci.edu', 'CHUPENZ@uci.edu', 'YUFEIR@uci.edu']"
      ]
     },
     "execution_count": 65,
     "metadata": {},
     "output_type": "execute_result"
    }
   ],
   "source": [
    "[f\"{uci[i]}@uci.edu\" for i in range(4)]"
   ]
  },
  {
   "cell_type": "markdown",
   "metadata": {},
   "source": [
    "Here's an even nicer way."
   ]
  },
  {
   "cell_type": "code",
   "execution_count": 66,
   "metadata": {
    "cell_id": "39cd477941c249418c69e3c6bae96d16",
    "deepnote_cell_height": 136.1875,
    "deepnote_cell_type": "code",
    "deepnote_output_heights": [
     21.1875
    ],
    "deepnote_to_be_reexecuted": false,
    "execution_millis": 14,
    "execution_start": 1648673217472,
    "source_hash": "883e1c20",
    "tags": []
   },
   "outputs": [
    {
     "data": {
      "text/plain": [
       "['DAVISCJ@uci.edu', 'YBAKI@uci.edu', 'CHUPENZ@uci.edu', 'YUFEIR@uci.edu']"
      ]
     },
     "execution_count": 66,
     "metadata": {},
     "output_type": "execute_result"
    }
   ],
   "source": [
    "[f\"{x}@uci.edu\" for x in uci]"
   ]
  },
  {
   "cell_type": "markdown",
   "metadata": {},
   "source": [
    "If we want to switch to lowercase letters, we can use the `lower` method."
   ]
  },
  {
   "cell_type": "code",
   "execution_count": 69,
   "metadata": {
    "cell_id": "7234cbb7a3664d14a2090a2c85589647",
    "deepnote_cell_height": 118.1875,
    "deepnote_cell_type": "code",
    "deepnote_output_heights": [
     21.1875
    ],
    "deepnote_to_be_reexecuted": false,
    "execution_millis": 9,
    "execution_start": 1648673238242,
    "source_hash": "147dbb55",
    "tags": []
   },
   "outputs": [
    {
     "data": {
      "text/plain": [
       "'ybaki'"
      ]
     },
     "execution_count": 69,
     "metadata": {},
     "output_type": "execute_result"
    }
   ],
   "source": [
    "# example\n",
    "uci[1].lower()"
   ]
  },
  {
   "cell_type": "code",
   "execution_count": 70,
   "metadata": {
    "cell_id": "0a157bc3f0214c6fad58e48fe151ef6a",
    "deepnote_cell_height": 136.1875,
    "deepnote_cell_type": "code",
    "deepnote_output_heights": [
     21.1875
    ],
    "deepnote_to_be_reexecuted": false,
    "execution_millis": 7,
    "execution_start": 1648673285956,
    "source_hash": "c0b8cefa",
    "tags": []
   },
   "outputs": [
    {
     "data": {
      "text/plain": [
       "['daviscj@uci.edu', 'ybaki@uci.edu', 'chupenz@uci.edu', 'yufeir@uci.edu']"
      ]
     },
     "execution_count": 70,
     "metadata": {},
     "output_type": "execute_result"
    }
   ],
   "source": [
    "[f\"{x.lower()}@uci.edu\" for x in uci]"
   ]
  },
  {
   "cell_type": "markdown",
   "metadata": {},
   "source": [
    "If we wanted to use the `lower` method in the non-DRY version, we would have to include `lower` four different places.  That is why it's always preferred to use as little repetition as possible."
   ]
  }
 ],
 "metadata": {
  "deepnote": {
   "is_reactive": false
  },
  "deepnote_execution_queue": [],
  "deepnote_notebook_id": "4c2425d2-0ff4-4562-b18e-78d061dbf89b",
  "kernelspec": {
   "display_name": "Python 3 (ipykernel)",
   "language": "python",
   "name": "python3"
  },
  "language_info": {
   "codemirror_mode": {
    "name": "ipython",
    "version": 3
   },
   "file_extension": ".py",
   "mimetype": "text/x-python",
   "name": "python",
   "nbconvert_exporter": "python",
   "pygments_lexer": "ipython3",
   "version": "3.7.12"
  }
 },
 "nbformat": 4,
 "nbformat_minor": 4
}
