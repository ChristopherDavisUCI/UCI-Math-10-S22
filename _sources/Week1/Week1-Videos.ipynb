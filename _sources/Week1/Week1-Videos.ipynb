{
 "cells": [
  {
   "cell_type": "markdown",
   "metadata": {
    "cell_id": "08e007ad-3f30-47c0-ba76-f136bcaad00b",
    "deepnote_cell_height": 814.1875,
    "deepnote_cell_type": "markdown",
    "tags": []
   },
   "source": [
    "# Week 1 Videos\n",
    "\n",
    "These videos are intended to be watched between lecture on Wednesday and discussion section on Thursday.  See Canvas for the accompanying video quizzes.\n",
    "\n",
    "## Find all numeric columns\n",
    "\n",
    "* Find all numeric columns in the file `indexData.csv`.\n",
    "\n",
    "<iframe width=\"560\" height=\"315\" src=\"https://www.youtube.com/embed/r6BnTIPiUZY\" title=\"YouTube video player\" frameborder=\"0\" allow=\"accelerometer; autoplay; clipboard-write; encrypted-media; gyroscope; picture-in-picture\" allowfullscreen></iframe>"
   ]
  },
  {
   "cell_type": "code",
   "execution_count": 1,
   "metadata": {
    "cell_id": "c857ed49a799495c825fce12492d881a",
    "deepnote_cell_height": 135,
    "deepnote_cell_type": "code",
    "deepnote_to_be_reexecuted": false,
    "execution_millis": 108,
    "execution_start": 1648255049933,
    "source_hash": "a13b10e5",
    "tags": []
   },
   "outputs": [],
   "source": [
    "import pandas as pd\n",
    "from pandas.api.types import is_numeric_dtype\n",
    "\n",
    "df = pd.read_csv(\"../data/indexData.csv\")"
   ]
  },
  {
   "cell_type": "code",
   "execution_count": null,
   "metadata": {
    "cell_id": "505d523d03e245e681fb4f0c02c2bbaa",
    "deepnote_cell_height": 393,
    "deepnote_cell_type": "code",
    "deepnote_to_be_reexecuted": false,
    "execution_millis": 18,
    "execution_start": 1648255106873,
    "source_hash": "c085b6ba",
    "tags": []
   },
   "outputs": [
    {
     "data": {
      "application/vnd.deepnote.dataframe.v3+json": {
       "column_count": 8,
       "columns": [
        {
         "dtype": "object",
         "name": "Name",
         "stats": {
          "categories": [
           {
            "count": 5,
            "name": "NYA"
           }
          ],
          "nan_count": 0,
          "unique_count": 1
         }
        },
        {
         "dtype": "object",
         "name": "Date",
         "stats": {
          "categories": [
           {
            "count": 1,
            "name": "12/31/65"
           },
           {
            "count": 1,
            "name": "1/3/66"
           },
           {
            "count": 3,
            "name": "3 others"
           }
          ],
          "nan_count": 0,
          "unique_count": 5
         }
        },
        {
         "dtype": "float64",
         "name": "Open",
         "stats": {
          "histogram": [
           {
            "bin_end": 527.6960205,
            "bin_start": 527.210022,
            "count": 1
           },
           {
            "bin_end": 528.182019,
            "bin_start": 527.6960205,
            "count": 1
           },
           {
            "bin_end": 528.6680175,
            "bin_start": 528.182019,
            "count": 0
           },
           {
            "bin_end": 529.154016,
            "bin_start": 528.6680175,
            "count": 1
           },
           {
            "bin_end": 529.6400145,
            "bin_start": 529.154016,
            "count": 0
           },
           {
            "bin_end": 530.1260130000001,
            "bin_start": 529.6400145,
            "count": 0
           },
           {
            "bin_end": 530.6120115,
            "bin_start": 530.1260130000001,
            "count": 0
           },
           {
            "bin_end": 531.09801,
            "bin_start": 530.6120115,
            "count": 0
           },
           {
            "bin_end": 531.5840085,
            "bin_start": 531.09801,
            "count": 1
           },
           {
            "bin_end": 532.070007,
            "bin_start": 531.5840085,
            "count": 1
           }
          ],
          "max": "532.070007",
          "min": "527.210022",
          "nan_count": 0,
          "unique_count": 5
         }
        },
        {
         "dtype": "float64",
         "name": "High",
         "stats": {
          "histogram": [
           {
            "bin_end": 527.6960205,
            "bin_start": 527.210022,
            "count": 1
           },
           {
            "bin_end": 528.182019,
            "bin_start": 527.6960205,
            "count": 1
           },
           {
            "bin_end": 528.6680175,
            "bin_start": 528.182019,
            "count": 0
           },
           {
            "bin_end": 529.154016,
            "bin_start": 528.6680175,
            "count": 1
           },
           {
            "bin_end": 529.6400145,
            "bin_start": 529.154016,
            "count": 0
           },
           {
            "bin_end": 530.1260130000001,
            "bin_start": 529.6400145,
            "count": 0
           },
           {
            "bin_end": 530.6120115,
            "bin_start": 530.1260130000001,
            "count": 0
           },
           {
            "bin_end": 531.09801,
            "bin_start": 530.6120115,
            "count": 0
           },
           {
            "bin_end": 531.5840085,
            "bin_start": 531.09801,
            "count": 1
           },
           {
            "bin_end": 532.070007,
            "bin_start": 531.5840085,
            "count": 1
           }
          ],
          "max": "532.070007",
          "min": "527.210022",
          "nan_count": 0,
          "unique_count": 5
         }
        },
        {
         "dtype": "float64",
         "name": "Low",
         "stats": {
          "histogram": [
           {
            "bin_end": 527.6960205,
            "bin_start": 527.210022,
            "count": 1
           },
           {
            "bin_end": 528.182019,
            "bin_start": 527.6960205,
            "count": 1
           },
           {
            "bin_end": 528.6680175,
            "bin_start": 528.182019,
            "count": 0
           },
           {
            "bin_end": 529.154016,
            "bin_start": 528.6680175,
            "count": 1
           },
           {
            "bin_end": 529.6400145,
            "bin_start": 529.154016,
            "count": 0
           },
           {
            "bin_end": 530.1260130000001,
            "bin_start": 529.6400145,
            "count": 0
           },
           {
            "bin_end": 530.6120115,
            "bin_start": 530.1260130000001,
            "count": 0
           },
           {
            "bin_end": 531.09801,
            "bin_start": 530.6120115,
            "count": 0
           },
           {
            "bin_end": 531.5840085,
            "bin_start": 531.09801,
            "count": 1
           },
           {
            "bin_end": 532.070007,
            "bin_start": 531.5840085,
            "count": 1
           }
          ],
          "max": "532.070007",
          "min": "527.210022",
          "nan_count": 0,
          "unique_count": 5
         }
        },
        {
         "dtype": "float64",
         "name": "Close",
         "stats": {
          "histogram": [
           {
            "bin_end": 527.6960205,
            "bin_start": 527.210022,
            "count": 1
           },
           {
            "bin_end": 528.182019,
            "bin_start": 527.6960205,
            "count": 1
           },
           {
            "bin_end": 528.6680175,
            "bin_start": 528.182019,
            "count": 0
           },
           {
            "bin_end": 529.154016,
            "bin_start": 528.6680175,
            "count": 1
           },
           {
            "bin_end": 529.6400145,
            "bin_start": 529.154016,
            "count": 0
           },
           {
            "bin_end": 530.1260130000001,
            "bin_start": 529.6400145,
            "count": 0
           },
           {
            "bin_end": 530.6120115,
            "bin_start": 530.1260130000001,
            "count": 0
           },
           {
            "bin_end": 531.09801,
            "bin_start": 530.6120115,
            "count": 0
           },
           {
            "bin_end": 531.5840085,
            "bin_start": 531.09801,
            "count": 1
           },
           {
            "bin_end": 532.070007,
            "bin_start": 531.5840085,
            "count": 1
           }
          ],
          "max": "532.070007",
          "min": "527.210022",
          "nan_count": 0,
          "unique_count": 5
         }
        },
        {
         "dtype": "float64",
         "name": "Adj Close",
         "stats": {
          "histogram": [
           {
            "bin_end": 527.6960205,
            "bin_start": 527.210022,
            "count": 1
           },
           {
            "bin_end": 528.182019,
            "bin_start": 527.6960205,
            "count": 1
           },
           {
            "bin_end": 528.6680175,
            "bin_start": 528.182019,
            "count": 0
           },
           {
            "bin_end": 529.154016,
            "bin_start": 528.6680175,
            "count": 1
           },
           {
            "bin_end": 529.6400145,
            "bin_start": 529.154016,
            "count": 0
           },
           {
            "bin_end": 530.1260130000001,
            "bin_start": 529.6400145,
            "count": 0
           },
           {
            "bin_end": 530.6120115,
            "bin_start": 530.1260130000001,
            "count": 0
           },
           {
            "bin_end": 531.09801,
            "bin_start": 530.6120115,
            "count": 0
           },
           {
            "bin_end": 531.5840085,
            "bin_start": 531.09801,
            "count": 1
           },
           {
            "bin_end": 532.070007,
            "bin_start": 531.5840085,
            "count": 1
           }
          ],
          "max": "532.070007",
          "min": "527.210022",
          "nan_count": 0,
          "unique_count": 5
         }
        },
        {
         "dtype": "float64",
         "name": "Volume",
         "stats": {
          "histogram": [
           {
            "bin_end": -0.4,
            "bin_start": -0.5,
            "count": 0
           },
           {
            "bin_end": -0.3,
            "bin_start": -0.4,
            "count": 0
           },
           {
            "bin_end": -0.19999999999999996,
            "bin_start": -0.3,
            "count": 0
           },
           {
            "bin_end": -0.09999999999999998,
            "bin_start": -0.19999999999999996,
            "count": 0
           },
           {
            "bin_end": 0,
            "bin_start": -0.09999999999999998,
            "count": 0
           },
           {
            "bin_end": 0.10000000000000009,
            "bin_start": 0,
            "count": 5
           },
           {
            "bin_end": 0.20000000000000007,
            "bin_start": 0.10000000000000009,
            "count": 0
           },
           {
            "bin_end": 0.30000000000000004,
            "bin_start": 0.20000000000000007,
            "count": 0
           },
           {
            "bin_end": 0.4,
            "bin_start": 0.30000000000000004,
            "count": 0
           },
           {
            "bin_end": 0.5,
            "bin_start": 0.4,
            "count": 0
           }
          ],
          "max": "0.0",
          "min": "0.0",
          "nan_count": 0,
          "unique_count": 1
         }
        },
        {
         "dtype": "int64",
         "name": "_deepnote_index_column"
        }
       ],
       "row_count": 5,
       "rows": [
        {
         "Adj Close": 528.690002,
         "Close": 528.690002,
         "Date": "12/31/65",
         "High": 528.690002,
         "Low": 528.690002,
         "Name": "NYA",
         "Open": 528.690002,
         "Volume": 0,
         "_deepnote_index_column": 0
        },
        {
         "Adj Close": 527.210022,
         "Close": 527.210022,
         "Date": "1/3/66",
         "High": 527.210022,
         "Low": 527.210022,
         "Name": "NYA",
         "Open": 527.210022,
         "Volume": 0,
         "_deepnote_index_column": 1
        },
        {
         "Adj Close": 527.840027,
         "Close": 527.840027,
         "Date": "1/4/66",
         "High": 527.840027,
         "Low": 527.840027,
         "Name": "NYA",
         "Open": 527.840027,
         "Volume": 0,
         "_deepnote_index_column": 2
        },
        {
         "Adj Close": 531.119995,
         "Close": 531.119995,
         "Date": "1/5/66",
         "High": 531.119995,
         "Low": 531.119995,
         "Name": "NYA",
         "Open": 531.119995,
         "Volume": 0,
         "_deepnote_index_column": 3
        },
        {
         "Adj Close": 532.070007,
         "Close": 532.070007,
         "Date": "1/6/66",
         "High": 532.070007,
         "Low": 532.070007,
         "Name": "NYA",
         "Open": 532.070007,
         "Volume": 0,
         "_deepnote_index_column": 4
        }
       ]
      },
      "text/html": [
       "<div>\n",
       "<style scoped>\n",
       "    .dataframe tbody tr th:only-of-type {\n",
       "        vertical-align: middle;\n",
       "    }\n",
       "\n",
       "    .dataframe tbody tr th {\n",
       "        vertical-align: top;\n",
       "    }\n",
       "\n",
       "    .dataframe thead th {\n",
       "        text-align: right;\n",
       "    }\n",
       "</style>\n",
       "<table border=\"1\" class=\"dataframe\">\n",
       "  <thead>\n",
       "    <tr style=\"text-align: right;\">\n",
       "      <th></th>\n",
       "      <th>Name</th>\n",
       "      <th>Date</th>\n",
       "      <th>Open</th>\n",
       "      <th>High</th>\n",
       "      <th>Low</th>\n",
       "      <th>Close</th>\n",
       "      <th>Adj Close</th>\n",
       "      <th>Volume</th>\n",
       "    </tr>\n",
       "  </thead>\n",
       "  <tbody>\n",
       "    <tr>\n",
       "      <th>0</th>\n",
       "      <td>NYA</td>\n",
       "      <td>12/31/65</td>\n",
       "      <td>528.690002</td>\n",
       "      <td>528.690002</td>\n",
       "      <td>528.690002</td>\n",
       "      <td>528.690002</td>\n",
       "      <td>528.690002</td>\n",
       "      <td>0.0</td>\n",
       "    </tr>\n",
       "    <tr>\n",
       "      <th>1</th>\n",
       "      <td>NYA</td>\n",
       "      <td>1/3/66</td>\n",
       "      <td>527.210022</td>\n",
       "      <td>527.210022</td>\n",
       "      <td>527.210022</td>\n",
       "      <td>527.210022</td>\n",
       "      <td>527.210022</td>\n",
       "      <td>0.0</td>\n",
       "    </tr>\n",
       "    <tr>\n",
       "      <th>2</th>\n",
       "      <td>NYA</td>\n",
       "      <td>1/4/66</td>\n",
       "      <td>527.840027</td>\n",
       "      <td>527.840027</td>\n",
       "      <td>527.840027</td>\n",
       "      <td>527.840027</td>\n",
       "      <td>527.840027</td>\n",
       "      <td>0.0</td>\n",
       "    </tr>\n",
       "    <tr>\n",
       "      <th>3</th>\n",
       "      <td>NYA</td>\n",
       "      <td>1/5/66</td>\n",
       "      <td>531.119995</td>\n",
       "      <td>531.119995</td>\n",
       "      <td>531.119995</td>\n",
       "      <td>531.119995</td>\n",
       "      <td>531.119995</td>\n",
       "      <td>0.0</td>\n",
       "    </tr>\n",
       "    <tr>\n",
       "      <th>4</th>\n",
       "      <td>NYA</td>\n",
       "      <td>1/6/66</td>\n",
       "      <td>532.070007</td>\n",
       "      <td>532.070007</td>\n",
       "      <td>532.070007</td>\n",
       "      <td>532.070007</td>\n",
       "      <td>532.070007</td>\n",
       "      <td>0.0</td>\n",
       "    </tr>\n",
       "  </tbody>\n",
       "</table>\n",
       "</div>"
      ],
      "text/plain": [
       "  Name      Date        Open        High         Low       Close   Adj Close  \\\n",
       "0  NYA  12/31/65  528.690002  528.690002  528.690002  528.690002  528.690002   \n",
       "1  NYA    1/3/66  527.210022  527.210022  527.210022  527.210022  527.210022   \n",
       "2  NYA    1/4/66  527.840027  527.840027  527.840027  527.840027  527.840027   \n",
       "3  NYA    1/5/66  531.119995  531.119995  531.119995  531.119995  531.119995   \n",
       "4  NYA    1/6/66  532.070007  532.070007  532.070007  532.070007  532.070007   \n",
       "\n",
       "   Volume  \n",
       "0     0.0  \n",
       "1     0.0  \n",
       "2     0.0  \n",
       "3     0.0  \n",
       "4     0.0  "
      ]
     },
     "execution_count": 2,
     "metadata": {},
     "output_type": "execute_result"
    }
   ],
   "source": [
    "df.head()"
   ]
  },
  {
   "cell_type": "code",
   "execution_count": null,
   "metadata": {
    "cell_id": "f7cde6bb655e40c795f716ee41ce9879",
    "deepnote_cell_height": 271.75,
    "deepnote_cell_type": "code",
    "deepnote_output_heights": [
     174.75
    ],
    "deepnote_to_be_reexecuted": false,
    "execution_millis": 19,
    "execution_start": 1648255121744,
    "source_hash": "52430027",
    "tags": []
   },
   "outputs": [
    {
     "data": {
      "text/plain": [
       "Name          object\n",
       "Date          object\n",
       "Open         float64\n",
       "High         float64\n",
       "Low          float64\n",
       "Close        float64\n",
       "Adj Close    float64\n",
       "Volume       float64\n",
       "dtype: object"
      ]
     },
     "execution_count": 3,
     "metadata": {},
     "output_type": "execute_result"
    }
   ],
   "source": [
    "df.dtypes"
   ]
  },
  {
   "cell_type": "code",
   "execution_count": null,
   "metadata": {
    "cell_id": "bbd8a6ce02664feab888b182c57f4bde",
    "deepnote_cell_height": 329.34375,
    "deepnote_cell_type": "code",
    "deepnote_output_heights": [
     232.34375
    ],
    "deepnote_to_be_reexecuted": false,
    "execution_millis": 3,
    "execution_start": 1648255185063,
    "source_hash": "8e11e3e3",
    "tags": []
   },
   "outputs": [
    {
     "data": {
      "text/plain": [
       "0          528.690002\n",
       "1          527.210022\n",
       "2          527.840027\n",
       "3          531.119995\n",
       "4          532.070007\n",
       "             ...     \n",
       "112452    1241.119995\n",
       "112453    1249.469971\n",
       "112454    1256.079956\n",
       "112455    1254.609985\n",
       "112456    1258.489990\n",
       "Name: Open, Length: 112457, dtype: float64"
      ]
     },
     "execution_count": 4,
     "metadata": {},
     "output_type": "execute_result"
    }
   ],
   "source": [
    "df[\"Open\"]"
   ]
  },
  {
   "cell_type": "code",
   "execution_count": null,
   "metadata": {
    "cell_id": "f5fb6ed4622445a480a2ff23cda35cda",
    "deepnote_cell_height": 118.1875,
    "deepnote_cell_type": "code",
    "deepnote_output_heights": [
     21.1875
    ],
    "deepnote_to_be_reexecuted": false,
    "execution_millis": 4,
    "execution_start": 1648255201471,
    "source_hash": "8defcf9d",
    "tags": []
   },
   "outputs": [
    {
     "data": {
      "text/plain": [
       "True"
      ]
     },
     "execution_count": 5,
     "metadata": {},
     "output_type": "execute_result"
    }
   ],
   "source": [
    "is_numeric_dtype(df[\"Open\"])"
   ]
  },
  {
   "cell_type": "code",
   "execution_count": null,
   "metadata": {
    "cell_id": "13ec0bc015be4169bf3c0e0875d368c3",
    "deepnote_cell_height": 118.1875,
    "deepnote_cell_type": "code",
    "deepnote_output_heights": [
     21.1875
    ],
    "deepnote_to_be_reexecuted": false,
    "execution_millis": 4,
    "execution_start": 1648255210016,
    "source_hash": "4de897ae",
    "tags": []
   },
   "outputs": [
    {
     "data": {
      "text/plain": [
       "False"
      ]
     },
     "execution_count": 6,
     "metadata": {},
     "output_type": "execute_result"
    }
   ],
   "source": [
    "is_numeric_dtype(df[\"Name\"])"
   ]
  },
  {
   "cell_type": "code",
   "execution_count": null,
   "metadata": {
    "cell_id": "65111935ab124fa89b0f293a1e8db930",
    "deepnote_cell_height": 118.1875,
    "deepnote_cell_type": "code",
    "deepnote_output_heights": [
     21.1875
    ],
    "deepnote_to_be_reexecuted": false,
    "execution_millis": 276,
    "execution_start": 1648255234694,
    "source_hash": "25d43fa0",
    "tags": []
   },
   "outputs": [
    {
     "data": {
      "text/plain": [
       "Index(['Name', 'Date', 'Open', 'High', 'Low', 'Close', 'Adj Close', 'Volume'], dtype='object')"
      ]
     },
     "execution_count": 7,
     "metadata": {},
     "output_type": "execute_result"
    }
   ],
   "source": [
    "df.columns"
   ]
  },
  {
   "cell_type": "code",
   "execution_count": null,
   "metadata": {
    "cell_id": "d0230b3cbb8d40a4b48a6d1c36c3699e",
    "deepnote_cell_height": 118.1875,
    "deepnote_cell_type": "code",
    "deepnote_output_heights": [
     21.1875
    ],
    "deepnote_to_be_reexecuted": false,
    "execution_millis": 1,
    "execution_start": 1648255258672,
    "source_hash": "1039a82",
    "tags": []
   },
   "outputs": [
    {
     "data": {
      "text/plain": [
       "['Name', 'Date', 'Open', 'High', 'Low', 'Close', 'Adj Close', 'Volume']"
      ]
     },
     "execution_count": 8,
     "metadata": {},
     "output_type": "execute_result"
    }
   ],
   "source": [
    "list(df.columns)"
   ]
  },
  {
   "cell_type": "code",
   "execution_count": null,
   "metadata": {
    "cell_id": "edfede7ccc854730bfdfde3b777b6036",
    "deepnote_cell_height": 118.1875,
    "deepnote_cell_type": "code",
    "deepnote_output_heights": [
     21.1875
    ],
    "deepnote_to_be_reexecuted": false,
    "execution_millis": 4,
    "execution_start": 1648255296726,
    "source_hash": "6cc6a7e1",
    "tags": []
   },
   "outputs": [
    {
     "data": {
      "text/plain": [
       "['Name', 'Date', 'Open', 'High', 'Low', 'Close', 'Adj Close', 'Volume']"
      ]
     },
     "execution_count": 9,
     "metadata": {},
     "output_type": "execute_result"
    }
   ],
   "source": [
    "[c for c in df.columns]"
   ]
  },
  {
   "cell_type": "code",
   "execution_count": null,
   "metadata": {
    "cell_id": "e42e99ecb7bd4f228e331622a19e5c26",
    "deepnote_cell_height": 118.1875,
    "deepnote_cell_type": "code",
    "deepnote_output_heights": [
     21.1875
    ],
    "deepnote_to_be_reexecuted": false,
    "execution_millis": 3,
    "execution_start": 1648255310058,
    "source_hash": "facdb201",
    "tags": []
   },
   "outputs": [
    {
     "data": {
      "text/plain": [
       "['Name', 'Date', 'Open', 'High', 'Low', 'Close', 'Adj Close', 'Volume']"
      ]
     },
     "execution_count": 10,
     "metadata": {},
     "output_type": "execute_result"
    }
   ],
   "source": [
    "list(c for c in df.columns)"
   ]
  },
  {
   "cell_type": "code",
   "execution_count": null,
   "metadata": {
    "cell_id": "779ba4acecbf4f6ba96bd6baf4705e2f",
    "deepnote_cell_height": 118.1875,
    "deepnote_cell_type": "code",
    "deepnote_output_heights": [
     21.1875
    ],
    "deepnote_to_be_reexecuted": false,
    "execution_millis": 1,
    "execution_start": 1648255344609,
    "source_hash": "59443e63",
    "tags": []
   },
   "outputs": [
    {
     "data": {
      "text/plain": [
       "[4, 4, 4, 4, 3, 5, 9, 6]"
      ]
     },
     "execution_count": 11,
     "metadata": {},
     "output_type": "execute_result"
    }
   ],
   "source": [
    "[len(c) for c in df.columns]"
   ]
  },
  {
   "cell_type": "code",
   "execution_count": null,
   "metadata": {
    "cell_id": "44d0bc66c4d4493eb5340810a4c9e583",
    "deepnote_cell_height": 118.1875,
    "deepnote_cell_type": "code",
    "deepnote_output_heights": [
     21.1875
    ],
    "deepnote_to_be_reexecuted": false,
    "execution_millis": 5,
    "execution_start": 1648255388462,
    "source_hash": "19e7d8c8",
    "tags": []
   },
   "outputs": [
    {
     "data": {
      "text/plain": [
       "['Name', 'Date', 'Open', 'High']"
      ]
     },
     "execution_count": 12,
     "metadata": {},
     "output_type": "execute_result"
    }
   ],
   "source": [
    "[c for c in df.columns if len(c) == 4]"
   ]
  },
  {
   "cell_type": "code",
   "execution_count": null,
   "metadata": {
    "cell_id": "43c926945e664e11bc2b155e3b4e9eb7",
    "deepnote_cell_height": 118.1875,
    "deepnote_cell_type": "code",
    "deepnote_output_heights": [
     21.1875
    ],
    "deepnote_to_be_reexecuted": false,
    "execution_millis": 4,
    "execution_start": 1648255473257,
    "source_hash": "ca296ec3",
    "tags": []
   },
   "outputs": [
    {
     "data": {
      "text/plain": [
       "['Open', 'High', 'Low', 'Close', 'Adj Close', 'Volume']"
      ]
     },
     "execution_count": 15,
     "metadata": {},
     "output_type": "execute_result"
    }
   ],
   "source": [
    "[c for c in df.columns if is_numeric_dtype(df[c])]"
   ]
  },
  {
   "cell_type": "markdown",
   "metadata": {
    "cell_id": "29da06f23c0d4b94beca12a42fa08cb5",
    "deepnote_cell_height": 437.390625,
    "deepnote_cell_type": "markdown",
    "tags": []
   },
   "source": [
    "## Display information using f-strings\n",
    "\n",
    "* For each row in the `indexInfo.csv` file, display the abbreviation and full name using f-strings.\n",
    "\n",
    "<iframe width=\"560\" height=\"315\" src=\"https://www.youtube.com/embed/-BnJ4aiDcww\" title=\"YouTube video player\" frameborder=\"0\" allow=\"accelerometer; autoplay; clipboard-write; encrypted-media; gyroscope; picture-in-picture\" allowfullscreen></iframe>"
   ]
  },
  {
   "cell_type": "code",
   "execution_count": 2,
   "metadata": {
    "cell_id": "ba022567f0bf4093bc4585f8e69a8903",
    "deepnote_cell_height": 117,
    "deepnote_cell_type": "code",
    "deepnote_to_be_reexecuted": false,
    "execution_millis": 7,
    "execution_start": 1648255692976,
    "source_hash": "92f71b80",
    "tags": []
   },
   "outputs": [],
   "source": [
    "import pandas as pd\n",
    "\n",
    "df_info = pd.read_csv(\"../data/indexInfo.csv\")"
   ]
  },
  {
   "cell_type": "code",
   "execution_count": null,
   "metadata": {
    "cell_id": "00656f7c5c274c488b6a991828acfc28",
    "deepnote_cell_height": 598,
    "deepnote_cell_type": "code",
    "deepnote_to_be_reexecuted": false,
    "execution_millis": 10,
    "execution_start": 1648255795571,
    "source_hash": "4be3011a",
    "tags": []
   },
   "outputs": [
    {
     "data": {
      "application/vnd.deepnote.dataframe.v3+json": {
       "column_count": 4,
       "columns": [
        {
         "dtype": "object",
         "name": "Region",
         "stats": {
          "categories": [
           {
            "count": 2,
            "name": "United States"
           },
           {
            "count": 2,
            "name": "China"
           },
           {
            "count": 10,
            "name": "10 others"
           }
          ],
          "nan_count": 0,
          "unique_count": 12
         }
        },
        {
         "dtype": "object",
         "name": "Exchange",
         "stats": {
          "categories": [
           {
            "count": 1,
            "name": "New York Stock Exchange"
           },
           {
            "count": 1,
            "name": "NASDAQ"
           },
           {
            "count": 12,
            "name": "12 others"
           }
          ],
          "nan_count": 0,
          "unique_count": 14
         }
        },
        {
         "dtype": "object",
         "name": "Index",
         "stats": {
          "categories": [
           {
            "count": 1,
            "name": "NYA"
           },
           {
            "count": 1,
            "name": "IXIC"
           },
           {
            "count": 12,
            "name": "12 others"
           }
          ],
          "nan_count": 0,
          "unique_count": 14
         }
        },
        {
         "dtype": "object",
         "name": "Currency",
         "stats": {
          "categories": [
           {
            "count": 2,
            "name": "USD"
           },
           {
            "count": 2,
            "name": "CNY"
           },
           {
            "count": 10,
            "name": "9 others"
           }
          ],
          "nan_count": 0,
          "unique_count": 11
         }
        },
        {
         "dtype": "int64",
         "name": "_deepnote_index_column"
        }
       ],
       "row_count": 14,
       "rows": [
        {
         "Currency": "USD",
         "Exchange": "New York Stock Exchange",
         "Index": "NYA",
         "Region": "United States",
         "_deepnote_index_column": 0
        },
        {
         "Currency": "USD",
         "Exchange": "NASDAQ",
         "Index": "IXIC",
         "Region": "United States",
         "_deepnote_index_column": 1
        },
        {
         "Currency": "HKD",
         "Exchange": "Hong Kong Stock Exchange",
         "Index": "HSI",
         "Region": "Hong Kong",
         "_deepnote_index_column": 2
        },
        {
         "Currency": "CNY",
         "Exchange": "Shanghai Stock Exchange",
         "Index": "000001.SS",
         "Region": "China",
         "_deepnote_index_column": 3
        },
        {
         "Currency": "JPY",
         "Exchange": "Tokyo Stock Exchange",
         "Index": "N225",
         "Region": "Japan",
         "_deepnote_index_column": 4
        },
        {
         "Currency": "EUR",
         "Exchange": "Euronext",
         "Index": "N100",
         "Region": "Europe",
         "_deepnote_index_column": 5
        },
        {
         "Currency": "CNY",
         "Exchange": "Shenzhen Stock Exchange",
         "Index": "399001.SZ",
         "Region": "China",
         "_deepnote_index_column": 6
        },
        {
         "Currency": "CAD",
         "Exchange": "Toronto Stock Exchange",
         "Index": "GSPTSE",
         "Region": "Canada",
         "_deepnote_index_column": 7
        },
        {
         "Currency": "INR",
         "Exchange": "National Stock Exchange of India",
         "Index": "NSEI",
         "Region": "India",
         "_deepnote_index_column": 8
        },
        {
         "Currency": "EUR",
         "Exchange": "Frankfurt Stock Exchange",
         "Index": "GDAXI",
         "Region": "Germany",
         "_deepnote_index_column": 9
        }
       ]
      },
      "text/html": [
       "<div>\n",
       "<style scoped>\n",
       "    .dataframe tbody tr th:only-of-type {\n",
       "        vertical-align: middle;\n",
       "    }\n",
       "\n",
       "    .dataframe tbody tr th {\n",
       "        vertical-align: top;\n",
       "    }\n",
       "\n",
       "    .dataframe thead th {\n",
       "        text-align: right;\n",
       "    }\n",
       "</style>\n",
       "<table border=\"1\" class=\"dataframe\">\n",
       "  <thead>\n",
       "    <tr style=\"text-align: right;\">\n",
       "      <th></th>\n",
       "      <th>Region</th>\n",
       "      <th>Exchange</th>\n",
       "      <th>Index</th>\n",
       "      <th>Currency</th>\n",
       "    </tr>\n",
       "  </thead>\n",
       "  <tbody>\n",
       "    <tr>\n",
       "      <th>0</th>\n",
       "      <td>United States</td>\n",
       "      <td>New York Stock Exchange</td>\n",
       "      <td>NYA</td>\n",
       "      <td>USD</td>\n",
       "    </tr>\n",
       "    <tr>\n",
       "      <th>1</th>\n",
       "      <td>United States</td>\n",
       "      <td>NASDAQ</td>\n",
       "      <td>IXIC</td>\n",
       "      <td>USD</td>\n",
       "    </tr>\n",
       "    <tr>\n",
       "      <th>2</th>\n",
       "      <td>Hong Kong</td>\n",
       "      <td>Hong Kong Stock Exchange</td>\n",
       "      <td>HSI</td>\n",
       "      <td>HKD</td>\n",
       "    </tr>\n",
       "    <tr>\n",
       "      <th>3</th>\n",
       "      <td>China</td>\n",
       "      <td>Shanghai Stock Exchange</td>\n",
       "      <td>000001.SS</td>\n",
       "      <td>CNY</td>\n",
       "    </tr>\n",
       "    <tr>\n",
       "      <th>4</th>\n",
       "      <td>Japan</td>\n",
       "      <td>Tokyo Stock Exchange</td>\n",
       "      <td>N225</td>\n",
       "      <td>JPY</td>\n",
       "    </tr>\n",
       "    <tr>\n",
       "      <th>5</th>\n",
       "      <td>Europe</td>\n",
       "      <td>Euronext</td>\n",
       "      <td>N100</td>\n",
       "      <td>EUR</td>\n",
       "    </tr>\n",
       "    <tr>\n",
       "      <th>6</th>\n",
       "      <td>China</td>\n",
       "      <td>Shenzhen Stock Exchange</td>\n",
       "      <td>399001.SZ</td>\n",
       "      <td>CNY</td>\n",
       "    </tr>\n",
       "    <tr>\n",
       "      <th>7</th>\n",
       "      <td>Canada</td>\n",
       "      <td>Toronto Stock Exchange</td>\n",
       "      <td>GSPTSE</td>\n",
       "      <td>CAD</td>\n",
       "    </tr>\n",
       "    <tr>\n",
       "      <th>8</th>\n",
       "      <td>India</td>\n",
       "      <td>National Stock Exchange of India</td>\n",
       "      <td>NSEI</td>\n",
       "      <td>INR</td>\n",
       "    </tr>\n",
       "    <tr>\n",
       "      <th>9</th>\n",
       "      <td>Germany</td>\n",
       "      <td>Frankfurt Stock Exchange</td>\n",
       "      <td>GDAXI</td>\n",
       "      <td>EUR</td>\n",
       "    </tr>\n",
       "    <tr>\n",
       "      <th>10</th>\n",
       "      <td>Korea</td>\n",
       "      <td>Korea Exchange</td>\n",
       "      <td>KS11</td>\n",
       "      <td>KRW</td>\n",
       "    </tr>\n",
       "    <tr>\n",
       "      <th>11</th>\n",
       "      <td>Switzerland</td>\n",
       "      <td>SIX Swiss Exchange</td>\n",
       "      <td>SSMI</td>\n",
       "      <td>CHF</td>\n",
       "    </tr>\n",
       "    <tr>\n",
       "      <th>12</th>\n",
       "      <td>Taiwan</td>\n",
       "      <td>Taiwan Stock Exchange</td>\n",
       "      <td>TWII</td>\n",
       "      <td>TWD</td>\n",
       "    </tr>\n",
       "    <tr>\n",
       "      <th>13</th>\n",
       "      <td>South Africa</td>\n",
       "      <td>Johannesburg Stock Exchange</td>\n",
       "      <td>J203.JO</td>\n",
       "      <td>ZAR</td>\n",
       "    </tr>\n",
       "  </tbody>\n",
       "</table>\n",
       "</div>"
      ],
      "text/plain": [
       "           Region                          Exchange      Index Currency\n",
       "0   United States           New York Stock Exchange        NYA      USD\n",
       "1   United States                            NASDAQ       IXIC      USD\n",
       "2       Hong Kong          Hong Kong Stock Exchange        HSI      HKD\n",
       "3           China           Shanghai Stock Exchange  000001.SS      CNY\n",
       "4           Japan              Tokyo Stock Exchange       N225      JPY\n",
       "5          Europe                          Euronext       N100      EUR\n",
       "6           China           Shenzhen Stock Exchange  399001.SZ      CNY\n",
       "7          Canada            Toronto Stock Exchange     GSPTSE      CAD\n",
       "8           India  National Stock Exchange of India       NSEI      INR\n",
       "9         Germany          Frankfurt Stock Exchange      GDAXI      EUR\n",
       "10          Korea                    Korea Exchange       KS11      KRW\n",
       "11    Switzerland                SIX Swiss Exchange       SSMI      CHF\n",
       "12         Taiwan             Taiwan Stock Exchange       TWII      TWD\n",
       "13   South Africa       Johannesburg Stock Exchange    J203.JO      ZAR"
      ]
     },
     "execution_count": 17,
     "metadata": {},
     "output_type": "execute_result"
    }
   ],
   "source": [
    "df_info"
   ]
  },
  {
   "cell_type": "code",
   "execution_count": null,
   "metadata": {
    "cell_id": "188a06dfe19b4944ae709868618c7a1a",
    "deepnote_cell_height": 385.734375,
    "deepnote_cell_type": "code",
    "deepnote_to_be_reexecuted": false,
    "execution_millis": 3,
    "execution_start": 1648255834629,
    "source_hash": "62de882e",
    "tags": []
   },
   "outputs": [
    {
     "name": "stdout",
     "output_type": "stream",
     "text": [
      "0\n",
      "1\n",
      "2\n",
      "3\n",
      "4\n",
      "5\n",
      "6\n",
      "7\n",
      "8\n",
      "9\n",
      "10\n",
      "11\n",
      "12\n",
      "13\n"
     ]
    }
   ],
   "source": [
    "for i in df_info.index:\n",
    "    print(i)"
   ]
  },
  {
   "cell_type": "code",
   "execution_count": null,
   "metadata": {
    "cell_id": "54238474f78248e187db3d63b47991fe",
    "deepnote_cell_height": 421.734375,
    "deepnote_cell_type": "code",
    "deepnote_to_be_reexecuted": false,
    "execution_millis": 3,
    "execution_start": 1648255981342,
    "source_hash": "1f1bf6aa",
    "tags": []
   },
   "outputs": [
    {
     "name": "stdout",
     "output_type": "stream",
     "text": [
      "NYA New York Stock Exchange\n",
      "IXIC NASDAQ\n",
      "HSI Hong Kong Stock Exchange\n",
      "000001.SS Shanghai Stock Exchange\n",
      "N225 Tokyo Stock Exchange\n",
      "N100 Euronext\n",
      "399001.SZ Shenzhen Stock Exchange\n",
      "GSPTSE Toronto Stock Exchange\n",
      "NSEI National Stock Exchange of India\n",
      "GDAXI Frankfurt Stock Exchange\n",
      "KS11 Korea Exchange\n",
      "SSMI SIX Swiss Exchange\n",
      "TWII Taiwan Stock Exchange\n",
      "J203.JO Johannesburg Stock Exchange\n"
     ]
    }
   ],
   "source": [
    "for i in df_info.index:\n",
    "    abbrev = df_info.loc[i,\"Index\"]\n",
    "    full = df_info.loc[i,\"Exchange\"]\n",
    "    print(abbrev, full)"
   ]
  },
  {
   "cell_type": "code",
   "execution_count": null,
   "metadata": {
    "cell_id": "8ae43e1333c94890af3f2fa3d1f41f55",
    "deepnote_cell_height": 421.734375,
    "deepnote_cell_type": "code",
    "deepnote_to_be_reexecuted": false,
    "execution_millis": 17,
    "execution_start": 1648256026204,
    "source_hash": "b79df0b8",
    "tags": []
   },
   "outputs": [
    {
     "name": "stdout",
     "output_type": "stream",
     "text": [
      "The abbreviation for New York Stock Exchange is NYA\n",
      "The abbreviation for NASDAQ is IXIC\n",
      "The abbreviation for Hong Kong Stock Exchange is HSI\n",
      "The abbreviation for Shanghai Stock Exchange is 000001.SS\n",
      "The abbreviation for Tokyo Stock Exchange is N225\n",
      "The abbreviation for Euronext is N100\n",
      "The abbreviation for Shenzhen Stock Exchange is 399001.SZ\n",
      "The abbreviation for Toronto Stock Exchange is GSPTSE\n",
      "The abbreviation for National Stock Exchange of India is NSEI\n",
      "The abbreviation for Frankfurt Stock Exchange is GDAXI\n",
      "The abbreviation for Korea Exchange is KS11\n",
      "The abbreviation for SIX Swiss Exchange is SSMI\n",
      "The abbreviation for Taiwan Stock Exchange is TWII\n",
      "The abbreviation for Johannesburg Stock Exchange is J203.JO\n"
     ]
    }
   ],
   "source": [
    "for i in df_info.index:\n",
    "    abbrev = df_info.loc[i,\"Index\"]\n",
    "    full = df_info.loc[i,\"Exchange\"]\n",
    "    print(f\"The abbreviation for {full} is {abbrev}\")"
   ]
  },
  {
   "cell_type": "code",
   "execution_count": null,
   "metadata": {
    "cell_id": "47f3f43cb515448d9700c6ad153876d5",
    "deepnote_cell_height": 144.1875,
    "deepnote_cell_type": "code",
    "deepnote_output_heights": [
     98
    ],
    "deepnote_to_be_reexecuted": false,
    "execution_millis": 2,
    "execution_start": 1648256071854,
    "source_hash": "75fa57e6",
    "tags": []
   },
   "outputs": [
    {
     "ename": "IndexingError",
     "evalue": "Too many indexers",
     "output_type": "error",
     "traceback": [
      "\u001b[0;31m---------------------------------------------------------------------------\u001b[0m",
      "\u001b[0;31mIndexingError\u001b[0m                             Traceback (most recent call last)",
      "\u001b[0;32m<ipython-input-25-21543caf0655>\u001b[0m in \u001b[0;36m<module>\u001b[0;34m\u001b[0m\n\u001b[0;32m----> 1\u001b[0;31m \u001b[0mdf_info\u001b[0m\u001b[0;34m.\u001b[0m\u001b[0mloc\u001b[0m\u001b[0;34m[\u001b[0m\u001b[0;36m2\u001b[0m\u001b[0;34m,\u001b[0m\u001b[0;34m\"Index\"\u001b[0m\u001b[0;34m,\u001b[0m\u001b[0;34m\"Exchange\"\u001b[0m\u001b[0;34m]\u001b[0m\u001b[0;34m\u001b[0m\u001b[0;34m\u001b[0m\u001b[0m\n\u001b[0m",
      "\u001b[0;32m/shared-libs/python3.7/py/lib/python3.7/site-packages/pandas/core/indexing.py\u001b[0m in \u001b[0;36m__getitem__\u001b[0;34m(self, key)\u001b[0m\n\u001b[1;32m    887\u001b[0m                     \u001b[0;31m# AttributeError for IntervalTree get_value\u001b[0m\u001b[0;34m\u001b[0m\u001b[0;34m\u001b[0m\u001b[0;34m\u001b[0m\u001b[0m\n\u001b[1;32m    888\u001b[0m                     \u001b[0;32mreturn\u001b[0m \u001b[0mself\u001b[0m\u001b[0;34m.\u001b[0m\u001b[0mobj\u001b[0m\u001b[0;34m.\u001b[0m\u001b[0m_get_value\u001b[0m\u001b[0;34m(\u001b[0m\u001b[0;34m*\u001b[0m\u001b[0mkey\u001b[0m\u001b[0;34m,\u001b[0m \u001b[0mtakeable\u001b[0m\u001b[0;34m=\u001b[0m\u001b[0mself\u001b[0m\u001b[0;34m.\u001b[0m\u001b[0m_takeable\u001b[0m\u001b[0;34m)\u001b[0m\u001b[0;34m\u001b[0m\u001b[0;34m\u001b[0m\u001b[0m\n\u001b[0;32m--> 889\u001b[0;31m             \u001b[0;32mreturn\u001b[0m \u001b[0mself\u001b[0m\u001b[0;34m.\u001b[0m\u001b[0m_getitem_tuple\u001b[0m\u001b[0;34m(\u001b[0m\u001b[0mkey\u001b[0m\u001b[0;34m)\u001b[0m\u001b[0;34m\u001b[0m\u001b[0;34m\u001b[0m\u001b[0m\n\u001b[0m\u001b[1;32m    890\u001b[0m         \u001b[0;32melse\u001b[0m\u001b[0;34m:\u001b[0m\u001b[0;34m\u001b[0m\u001b[0;34m\u001b[0m\u001b[0m\n\u001b[1;32m    891\u001b[0m             \u001b[0;31m# we by definition only have the 0th axis\u001b[0m\u001b[0;34m\u001b[0m\u001b[0;34m\u001b[0m\u001b[0;34m\u001b[0m\u001b[0m\n",
      "\u001b[0;32m/shared-libs/python3.7/py/lib/python3.7/site-packages/pandas/core/indexing.py\u001b[0m in \u001b[0;36m_getitem_tuple\u001b[0;34m(self, tup)\u001b[0m\n\u001b[1;32m   1061\u001b[0m \u001b[0;34m\u001b[0m\u001b[0m\n\u001b[1;32m   1062\u001b[0m         \u001b[0;31m# no multi-index, so validate all of the indexers\u001b[0m\u001b[0;34m\u001b[0m\u001b[0;34m\u001b[0m\u001b[0;34m\u001b[0m\u001b[0m\n\u001b[0;32m-> 1063\u001b[0;31m         \u001b[0mself\u001b[0m\u001b[0;34m.\u001b[0m\u001b[0m_has_valid_tuple\u001b[0m\u001b[0;34m(\u001b[0m\u001b[0mtup\u001b[0m\u001b[0;34m)\u001b[0m\u001b[0;34m\u001b[0m\u001b[0;34m\u001b[0m\u001b[0m\n\u001b[0m\u001b[1;32m   1064\u001b[0m \u001b[0;34m\u001b[0m\u001b[0m\n\u001b[1;32m   1065\u001b[0m         \u001b[0;31m# ugly hack for GH #836\u001b[0m\u001b[0;34m\u001b[0m\u001b[0;34m\u001b[0m\u001b[0;34m\u001b[0m\u001b[0m\n",
      "\u001b[0;32m/shared-libs/python3.7/py/lib/python3.7/site-packages/pandas/core/indexing.py\u001b[0m in \u001b[0;36m_has_valid_tuple\u001b[0;34m(self, key)\u001b[0m\n\u001b[1;32m    718\u001b[0m         \u001b[0mCheck\u001b[0m \u001b[0mthe\u001b[0m \u001b[0mkey\u001b[0m \u001b[0;32mfor\u001b[0m \u001b[0mvalid\u001b[0m \u001b[0mkeys\u001b[0m \u001b[0macross\u001b[0m \u001b[0mmy\u001b[0m \u001b[0mindexer\u001b[0m\u001b[0;34m.\u001b[0m\u001b[0;34m\u001b[0m\u001b[0;34m\u001b[0m\u001b[0m\n\u001b[1;32m    719\u001b[0m         \"\"\"\n\u001b[0;32m--> 720\u001b[0;31m         \u001b[0mself\u001b[0m\u001b[0;34m.\u001b[0m\u001b[0m_validate_key_length\u001b[0m\u001b[0;34m(\u001b[0m\u001b[0mkey\u001b[0m\u001b[0;34m)\u001b[0m\u001b[0;34m\u001b[0m\u001b[0;34m\u001b[0m\u001b[0m\n\u001b[0m\u001b[1;32m    721\u001b[0m         \u001b[0;32mfor\u001b[0m \u001b[0mi\u001b[0m\u001b[0;34m,\u001b[0m \u001b[0mk\u001b[0m \u001b[0;32min\u001b[0m \u001b[0menumerate\u001b[0m\u001b[0;34m(\u001b[0m\u001b[0mkey\u001b[0m\u001b[0;34m)\u001b[0m\u001b[0;34m:\u001b[0m\u001b[0;34m\u001b[0m\u001b[0;34m\u001b[0m\u001b[0m\n\u001b[1;32m    722\u001b[0m             \u001b[0;32mtry\u001b[0m\u001b[0;34m:\u001b[0m\u001b[0;34m\u001b[0m\u001b[0;34m\u001b[0m\u001b[0m\n",
      "\u001b[0;32m/shared-libs/python3.7/py/lib/python3.7/site-packages/pandas/core/indexing.py\u001b[0m in \u001b[0;36m_validate_key_length\u001b[0;34m(self, key)\u001b[0m\n\u001b[1;32m    759\u001b[0m     \u001b[0;32mdef\u001b[0m \u001b[0m_validate_key_length\u001b[0m\u001b[0;34m(\u001b[0m\u001b[0mself\u001b[0m\u001b[0;34m,\u001b[0m \u001b[0mkey\u001b[0m\u001b[0;34m:\u001b[0m \u001b[0mSequence\u001b[0m\u001b[0;34m[\u001b[0m\u001b[0mAny\u001b[0m\u001b[0;34m]\u001b[0m\u001b[0;34m)\u001b[0m \u001b[0;34m->\u001b[0m \u001b[0;32mNone\u001b[0m\u001b[0;34m:\u001b[0m\u001b[0;34m\u001b[0m\u001b[0;34m\u001b[0m\u001b[0m\n\u001b[1;32m    760\u001b[0m         \u001b[0;32mif\u001b[0m \u001b[0mlen\u001b[0m\u001b[0;34m(\u001b[0m\u001b[0mkey\u001b[0m\u001b[0;34m)\u001b[0m \u001b[0;34m>\u001b[0m \u001b[0mself\u001b[0m\u001b[0;34m.\u001b[0m\u001b[0mndim\u001b[0m\u001b[0;34m:\u001b[0m\u001b[0;34m\u001b[0m\u001b[0;34m\u001b[0m\u001b[0m\n\u001b[0;32m--> 761\u001b[0;31m             \u001b[0;32mraise\u001b[0m \u001b[0mIndexingError\u001b[0m\u001b[0;34m(\u001b[0m\u001b[0;34m\"Too many indexers\"\u001b[0m\u001b[0;34m)\u001b[0m\u001b[0;34m\u001b[0m\u001b[0;34m\u001b[0m\u001b[0m\n\u001b[0m\u001b[1;32m    762\u001b[0m \u001b[0;34m\u001b[0m\u001b[0m\n\u001b[1;32m    763\u001b[0m     \u001b[0;32mdef\u001b[0m \u001b[0m_getitem_tuple_same_dim\u001b[0m\u001b[0;34m(\u001b[0m\u001b[0mself\u001b[0m\u001b[0;34m,\u001b[0m \u001b[0mtup\u001b[0m\u001b[0;34m:\u001b[0m \u001b[0mTuple\u001b[0m\u001b[0;34m)\u001b[0m\u001b[0;34m:\u001b[0m\u001b[0;34m\u001b[0m\u001b[0;34m\u001b[0m\u001b[0m\n",
      "\u001b[0;31mIndexingError\u001b[0m: Too many indexers"
     ]
    }
   ],
   "source": [
    "df_info.loc[2,\"Index\",\"Exchange\"]"
   ]
  },
  {
   "cell_type": "code",
   "execution_count": null,
   "metadata": {
    "cell_id": "55494b06eb0042418c71549ec9ef9f5b",
    "deepnote_cell_height": 81,
    "deepnote_cell_type": "code",
    "deepnote_output_heights": [
     59.59375
    ],
    "deepnote_to_be_reexecuted": false,
    "execution_millis": 1,
    "execution_start": 1648256143416,
    "source_hash": "72fff424",
    "tags": []
   },
   "outputs": [],
   "source": [
    "abbrev, full = df_info.loc[2,[\"Index\",\"Exchange\"]]"
   ]
  },
  {
   "cell_type": "code",
   "execution_count": null,
   "metadata": {
    "cell_id": "4f6a8341d5f34d188a2df57450b0851f",
    "deepnote_cell_height": 118.1875,
    "deepnote_cell_type": "code",
    "deepnote_output_heights": [
     21.1875
    ],
    "deepnote_to_be_reexecuted": false,
    "execution_millis": 6,
    "execution_start": 1648256146320,
    "source_hash": "765baf83",
    "tags": []
   },
   "outputs": [
    {
     "data": {
      "text/plain": [
       "'Hong Kong Stock Exchange'"
      ]
     },
     "execution_count": 28,
     "metadata": {},
     "output_type": "execute_result"
    }
   ],
   "source": [
    "full"
   ]
  },
  {
   "cell_type": "code",
   "execution_count": null,
   "metadata": {
    "cell_id": "553116ddc7104b14b765f1da5bb55b0b",
    "deepnote_cell_height": 403.734375,
    "deepnote_cell_type": "code",
    "deepnote_to_be_reexecuted": false,
    "execution_millis": 2,
    "execution_start": 1648256181217,
    "source_hash": "40844e0f",
    "tags": []
   },
   "outputs": [
    {
     "name": "stdout",
     "output_type": "stream",
     "text": [
      "The abbreviation for New York Stock Exchange is NYA\n",
      "The abbreviation for NASDAQ is IXIC\n",
      "The abbreviation for Hong Kong Stock Exchange is HSI\n",
      "The abbreviation for Shanghai Stock Exchange is 000001.SS\n",
      "The abbreviation for Tokyo Stock Exchange is N225\n",
      "The abbreviation for Euronext is N100\n",
      "The abbreviation for Shenzhen Stock Exchange is 399001.SZ\n",
      "The abbreviation for Toronto Stock Exchange is GSPTSE\n",
      "The abbreviation for National Stock Exchange of India is NSEI\n",
      "The abbreviation for Frankfurt Stock Exchange is GDAXI\n",
      "The abbreviation for Korea Exchange is KS11\n",
      "The abbreviation for SIX Swiss Exchange is SSMI\n",
      "The abbreviation for Taiwan Stock Exchange is TWII\n",
      "The abbreviation for Johannesburg Stock Exchange is J203.JO\n"
     ]
    }
   ],
   "source": [
    "for i in df_info.index:\n",
    "    abbrev, full = df_info.loc[i,[\"Index\",\"Exchange\"]]\n",
    "    print(f\"The abbreviation for {full} is {abbrev}\")"
   ]
  },
  {
   "cell_type": "markdown",
   "metadata": {
    "created_in_deepnote_cell": true,
    "deepnote_cell_type": "markdown",
    "tags": []
   },
   "source": [
    "<a style='text-decoration:none;line-height:16px;display:flex;color:#5B5B62;padding:10px;justify-content:end;' href='https://deepnote.com?utm_source=created-in-deepnote-cell&projectId=738c54e0-6fde-41aa-9dcf-9c8c67a63af1' target=\"_blank\">\n",
    "<img alt='Created in deepnote.com' style='display:inline;max-height:16px;margin:0px;margin-right:7.5px;' src='data:image/svg+xml;base64,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' > </img>\n",
    "Created in <span style='font-weight:600;margin-left:4px;'>Deepnote</span></a>"
   ]
  }
 ],
 "metadata": {
  "deepnote": {
   "is_reactive": false
  },
  "deepnote_execution_queue": [],
  "deepnote_notebook_id": "0c9fbc66-9d95-4ff3-b993-b1db06135686",
  "kernelspec": {
   "display_name": "Python 3 (ipykernel)",
   "language": "python",
   "name": "python3"
  },
  "language_info": {
   "codemirror_mode": {
    "name": "ipython",
    "version": 3
   },
   "file_extension": ".py",
   "mimetype": "text/x-python",
   "name": "python",
   "nbconvert_exporter": "python",
   "pygments_lexer": "ipython3",
   "version": "3.7.12"
  }
 },
 "nbformat": 4,
 "nbformat_minor": 4
}
