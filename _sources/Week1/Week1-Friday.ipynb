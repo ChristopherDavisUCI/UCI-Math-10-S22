{
 "cells": [
  {
   "cell_type": "markdown",
   "metadata": {
    "cell_id": "d3bdfad8-32c4-47aa-830a-92cada29ef65",
    "deepnote_cell_height": 218.59375,
    "deepnote_cell_type": "markdown",
    "tags": []
   },
   "source": [
    "# Exploratory Data Analysis\n",
    "\n",
    "In this worksheet, we'll investigate the indexData.csv file using the techniques from class so far as well as some new methods.  These questions are designed to help with [Homework 1](https://christopherdavisuci.github.io/UCI-Math-10-S22/Week1/Homework1.html) (due Tuesday night).\n",
    "\n",
    "* Start by importing the pandas library and abbreviating it by `pd`.\n",
    "* Read in the contents of indexData.csv and save the result with the variable name `df`."
   ]
  },
  {
   "cell_type": "code",
   "execution_count": 2,
   "metadata": {
    "cell_id": "0a7c383652834cf0ace35cf2eba8b990",
    "deepnote_cell_height": 99,
    "deepnote_cell_type": "code",
    "deepnote_to_be_reexecuted": false,
    "execution_millis": 137,
    "execution_start": 1648846987832,
    "source_hash": "e0b89b69",
    "tags": []
   },
   "outputs": [],
   "source": [
    "import pandas as pd\n",
    "df = pd.read_csv(\"../data/indexData.csv\")"
   ]
  },
  {
   "cell_type": "markdown",
   "metadata": {
    "cell_id": "54aa80d134ec47e5b43742356e66eef0",
    "deepnote_cell_height": 70,
    "deepnote_cell_type": "markdown",
    "deepnote_to_be_reexecuted": false,
    "execution_millis": 1,
    "execution_start": 1648773018764,
    "source_hash": "6e6f5757",
    "tags": []
   },
   "source": [
    "## describe and info"
   ]
  },
  {
   "cell_type": "markdown",
   "metadata": {
    "cell_id": "c7df0ae219694dda928fe45eba7b9a62",
    "deepnote_cell_height": 94.796875,
    "deepnote_cell_type": "markdown",
    "tags": []
   },
   "source": [
    "* Change the title of this section from \"Section 1\" to \"describe and info\".  Be sure it still remains a heading.\n",
    "\n",
    "* Evaluate `df.describe()`."
   ]
  },
  {
   "cell_type": "code",
   "execution_count": 3,
   "metadata": {
    "cell_id": "2371c3a5badf49659ad31519ff32a493",
    "deepnote_cell_height": 516,
    "deepnote_cell_type": "code",
    "deepnote_to_be_reexecuted": false,
    "execution_millis": 77,
    "execution_start": 1648846989873,
    "source_hash": "f88152d9",
    "tags": []
   },
   "outputs": [
    {
     "data": {
      "application/vnd.deepnote.dataframe.v3+json": {
       "column_count": 6,
       "columns": [
        {
         "dtype": "float64",
         "name": "Open",
         "stats": {
          "histogram": [
           {
            "bin_end": 11074.6829991,
            "bin_start": 54.869999,
            "count": 6
           },
           {
            "bin_end": 22094.495999199997,
            "bin_start": 11074.6829991,
            "count": 0
           },
           {
            "bin_end": 33114.3089993,
            "bin_start": 22094.495999199997,
            "count": 0
           },
           {
            "bin_end": 44134.1219994,
            "bin_start": 33114.3089993,
            "count": 0
           },
           {
            "bin_end": 55153.934999499994,
            "bin_start": 44134.1219994,
            "count": 0
           },
           {
            "bin_end": 66173.7479996,
            "bin_start": 55153.934999499994,
            "count": 0
           },
           {
            "bin_end": 77193.5609997,
            "bin_start": 66173.7479996,
            "count": 1
           },
           {
            "bin_end": 88213.3739998,
            "bin_start": 77193.5609997,
            "count": 0
           },
           {
            "bin_end": 99233.18699989999,
            "bin_start": 88213.3739998,
            "count": 0
           },
           {
            "bin_end": 110253,
            "bin_start": 99233.18699989999,
            "count": 1
           }
          ],
          "max": "110253.0",
          "min": "54.869999",
          "nan_count": 0,
          "unique_count": 8
         }
        },
        {
         "dtype": "float64",
         "name": "High",
         "stats": {
          "histogram": [
           {
            "bin_end": 11074.6829991,
            "bin_start": 54.869999,
            "count": 6
           },
           {
            "bin_end": 22094.495999199997,
            "bin_start": 11074.6829991,
            "count": 0
           },
           {
            "bin_end": 33114.3089993,
            "bin_start": 22094.495999199997,
            "count": 0
           },
           {
            "bin_end": 44134.1219994,
            "bin_start": 33114.3089993,
            "count": 0
           },
           {
            "bin_end": 55153.934999499994,
            "bin_start": 44134.1219994,
            "count": 0
           },
           {
            "bin_end": 66173.7479996,
            "bin_start": 55153.934999499994,
            "count": 0
           },
           {
            "bin_end": 77193.5609997,
            "bin_start": 66173.7479996,
            "count": 1
           },
           {
            "bin_end": 88213.3739998,
            "bin_start": 77193.5609997,
            "count": 0
           },
           {
            "bin_end": 99233.18699989999,
            "bin_start": 88213.3739998,
            "count": 0
           },
           {
            "bin_end": 110253,
            "bin_start": 99233.18699989999,
            "count": 1
           }
          ],
          "max": "110253.0",
          "min": "54.869999",
          "nan_count": 0,
          "unique_count": 8
         }
        },
        {
         "dtype": "float64",
         "name": "Low",
         "stats": {
          "histogram": [
           {
            "bin_end": 11074.6829991,
            "bin_start": 54.869999,
            "count": 6
           },
           {
            "bin_end": 22094.495999199997,
            "bin_start": 11074.6829991,
            "count": 0
           },
           {
            "bin_end": 33114.3089993,
            "bin_start": 22094.495999199997,
            "count": 0
           },
           {
            "bin_end": 44134.1219994,
            "bin_start": 33114.3089993,
            "count": 0
           },
           {
            "bin_end": 55153.934999499994,
            "bin_start": 44134.1219994,
            "count": 0
           },
           {
            "bin_end": 66173.7479996,
            "bin_start": 55153.934999499994,
            "count": 0
           },
           {
            "bin_end": 77193.5609997,
            "bin_start": 66173.7479996,
            "count": 1
           },
           {
            "bin_end": 88213.3739998,
            "bin_start": 77193.5609997,
            "count": 0
           },
           {
            "bin_end": 99233.18699989999,
            "bin_start": 88213.3739998,
            "count": 0
           },
           {
            "bin_end": 110253,
            "bin_start": 99233.18699989999,
            "count": 1
           }
          ],
          "max": "110253.0",
          "min": "54.869999",
          "nan_count": 0,
          "unique_count": 8
         }
        },
        {
         "dtype": "float64",
         "name": "Close",
         "stats": {
          "histogram": [
           {
            "bin_end": 11074.6829991,
            "bin_start": 54.869999,
            "count": 6
           },
           {
            "bin_end": 22094.495999199997,
            "bin_start": 11074.6829991,
            "count": 0
           },
           {
            "bin_end": 33114.3089993,
            "bin_start": 22094.495999199997,
            "count": 0
           },
           {
            "bin_end": 44134.1219994,
            "bin_start": 33114.3089993,
            "count": 0
           },
           {
            "bin_end": 55153.934999499994,
            "bin_start": 44134.1219994,
            "count": 0
           },
           {
            "bin_end": 66173.7479996,
            "bin_start": 55153.934999499994,
            "count": 0
           },
           {
            "bin_end": 77193.5609997,
            "bin_start": 66173.7479996,
            "count": 1
           },
           {
            "bin_end": 88213.3739998,
            "bin_start": 77193.5609997,
            "count": 0
           },
           {
            "bin_end": 99233.18699989999,
            "bin_start": 88213.3739998,
            "count": 0
           },
           {
            "bin_end": 110253,
            "bin_start": 99233.18699989999,
            "count": 1
           }
          ],
          "max": "110253.0",
          "min": "54.869999",
          "nan_count": 0,
          "unique_count": 8
         }
        },
        {
         "dtype": "float64",
         "name": "Adj Close",
         "stats": {
          "histogram": [
           {
            "bin_end": 11074.6829991,
            "bin_start": 54.869999,
            "count": 6
           },
           {
            "bin_end": 22094.495999199997,
            "bin_start": 11074.6829991,
            "count": 0
           },
           {
            "bin_end": 33114.3089993,
            "bin_start": 22094.495999199997,
            "count": 0
           },
           {
            "bin_end": 44134.1219994,
            "bin_start": 33114.3089993,
            "count": 0
           },
           {
            "bin_end": 55153.934999499994,
            "bin_start": 44134.1219994,
            "count": 0
           },
           {
            "bin_end": 66173.7479996,
            "bin_start": 55153.934999499994,
            "count": 0
           },
           {
            "bin_end": 77193.5609997,
            "bin_start": 66173.7479996,
            "count": 1
           },
           {
            "bin_end": 88213.3739998,
            "bin_start": 77193.5609997,
            "count": 0
           },
           {
            "bin_end": 99233.18699989999,
            "bin_start": 88213.3739998,
            "count": 0
           },
           {
            "bin_end": 110253,
            "bin_start": 99233.18699989999,
            "count": 1
           }
          ],
          "max": "110253.0",
          "min": "54.869999",
          "nan_count": 0,
          "unique_count": 8
         }
        },
        {
         "dtype": "float64",
         "name": "Volume",
         "stats": {
          "histogram": [
           {
            "bin_end": 9440374000,
            "bin_start": 0,
            "count": 7
           },
           {
            "bin_end": 18880748000,
            "bin_start": 9440374000,
            "count": 0
           },
           {
            "bin_end": 28321122000,
            "bin_start": 18880748000,
            "count": 0
           },
           {
            "bin_end": 37761496000,
            "bin_start": 28321122000,
            "count": 0
           },
           {
            "bin_end": 47201870000,
            "bin_start": 37761496000,
            "count": 0
           },
           {
            "bin_end": 56642244000,
            "bin_start": 47201870000,
            "count": 0
           },
           {
            "bin_end": 66082618000,
            "bin_start": 56642244000,
            "count": 0
           },
           {
            "bin_end": 75522992000,
            "bin_start": 66082618000,
            "count": 0
           },
           {
            "bin_end": 84963366000,
            "bin_start": 75522992000,
            "count": 0
           },
           {
            "bin_end": 94403740000,
            "bin_start": 84963366000,
            "count": 1
           }
          ],
          "max": "94403740000.0",
          "min": "0.0",
          "nan_count": 0,
          "unique_count": 7
         }
        },
        {
         "dtype": "object",
         "name": "_deepnote_index_column"
        }
       ],
       "row_count": 8,
       "rows": [
        {
         "Adj Close": 110253,
         "Close": 110253,
         "High": 110253,
         "Low": 110253,
         "Open": 110253,
         "Volume": 110253,
         "_deepnote_index_column": "count"
        },
        {
         "Adj Close": 7657.351729363655,
         "Close": 7657.545871842673,
         "High": 7704.3729612769985,
         "Low": 7608.000422337586,
         "Open": 7658.515221546596,
         "Volume": 1273975162.6030312,
         "_deepnote_index_column": "mean"
        },
        {
         "Adj Close": 9011.608899984882,
         "Close": 9011.510443530433,
         "High": 9066.638548034824,
         "Low": 8954.506981251872,
         "Open": 9011.47891296606,
         "Volume": 4315783120.882315,
         "_deepnote_index_column": "std"
        },
        {
         "Adj Close": 54.869999,
         "Close": 54.869999,
         "High": 54.869999,
         "Low": 54.869999,
         "Open": 54.869999,
         "Volume": 0,
         "_deepnote_index_column": "min"
        },
        {
         "Adj Close": 1854.179565,
         "Close": 1855.060059,
         "High": 1864.51001,
         "Low": 1843.97998,
         "Open": 1855.030029,
         "Volume": 0,
         "_deepnote_index_column": "25%"
        },
        {
         "Adj Close": 5194.75,
         "Close": 5194.75,
         "High": 5226.279785,
         "Low": 5154.049805,
         "Open": 5194.089844,
         "Volume": 432900,
         "_deepnote_index_column": "50%"
        },
        {
         "Adj Close": 10134.83008,
         "Close": 10134.83008,
         "High": 10207.82031,
         "Low": 10060.34961,
         "Open": 10134.29981,
         "Volume": 173431400,
         "_deepnote_index_column": "75%"
        },
        {
         "Adj Close": 68775.0625,
         "Close": 68775.0625,
         "High": 69403.75,
         "Low": 68516.99219,
         "Open": 68775.0625,
         "Volume": 94403740000,
         "_deepnote_index_column": "max"
        }
       ]
      },
      "text/html": [
       "<div>\n",
       "<style scoped>\n",
       "    .dataframe tbody tr th:only-of-type {\n",
       "        vertical-align: middle;\n",
       "    }\n",
       "\n",
       "    .dataframe tbody tr th {\n",
       "        vertical-align: top;\n",
       "    }\n",
       "\n",
       "    .dataframe thead th {\n",
       "        text-align: right;\n",
       "    }\n",
       "</style>\n",
       "<table border=\"1\" class=\"dataframe\">\n",
       "  <thead>\n",
       "    <tr style=\"text-align: right;\">\n",
       "      <th></th>\n",
       "      <th>Open</th>\n",
       "      <th>High</th>\n",
       "      <th>Low</th>\n",
       "      <th>Close</th>\n",
       "      <th>Adj Close</th>\n",
       "      <th>Volume</th>\n",
       "    </tr>\n",
       "  </thead>\n",
       "  <tbody>\n",
       "    <tr>\n",
       "      <th>count</th>\n",
       "      <td>110253.000000</td>\n",
       "      <td>110253.000000</td>\n",
       "      <td>110253.000000</td>\n",
       "      <td>110253.000000</td>\n",
       "      <td>110253.000000</td>\n",
       "      <td>1.102530e+05</td>\n",
       "    </tr>\n",
       "    <tr>\n",
       "      <th>mean</th>\n",
       "      <td>7658.515222</td>\n",
       "      <td>7704.372961</td>\n",
       "      <td>7608.000422</td>\n",
       "      <td>7657.545872</td>\n",
       "      <td>7657.351729</td>\n",
       "      <td>1.273975e+09</td>\n",
       "    </tr>\n",
       "    <tr>\n",
       "      <th>std</th>\n",
       "      <td>9011.478913</td>\n",
       "      <td>9066.638548</td>\n",
       "      <td>8954.506981</td>\n",
       "      <td>9011.510444</td>\n",
       "      <td>9011.608900</td>\n",
       "      <td>4.315783e+09</td>\n",
       "    </tr>\n",
       "    <tr>\n",
       "      <th>min</th>\n",
       "      <td>54.869999</td>\n",
       "      <td>54.869999</td>\n",
       "      <td>54.869999</td>\n",
       "      <td>54.869999</td>\n",
       "      <td>54.869999</td>\n",
       "      <td>0.000000e+00</td>\n",
       "    </tr>\n",
       "    <tr>\n",
       "      <th>25%</th>\n",
       "      <td>1855.030029</td>\n",
       "      <td>1864.510010</td>\n",
       "      <td>1843.979980</td>\n",
       "      <td>1855.060059</td>\n",
       "      <td>1854.179565</td>\n",
       "      <td>0.000000e+00</td>\n",
       "    </tr>\n",
       "    <tr>\n",
       "      <th>50%</th>\n",
       "      <td>5194.089844</td>\n",
       "      <td>5226.279785</td>\n",
       "      <td>5154.049805</td>\n",
       "      <td>5194.750000</td>\n",
       "      <td>5194.750000</td>\n",
       "      <td>4.329000e+05</td>\n",
       "    </tr>\n",
       "    <tr>\n",
       "      <th>75%</th>\n",
       "      <td>10134.299810</td>\n",
       "      <td>10207.820310</td>\n",
       "      <td>10060.349610</td>\n",
       "      <td>10134.830080</td>\n",
       "      <td>10134.830080</td>\n",
       "      <td>1.734314e+08</td>\n",
       "    </tr>\n",
       "    <tr>\n",
       "      <th>max</th>\n",
       "      <td>68775.062500</td>\n",
       "      <td>69403.750000</td>\n",
       "      <td>68516.992190</td>\n",
       "      <td>68775.062500</td>\n",
       "      <td>68775.062500</td>\n",
       "      <td>9.440374e+10</td>\n",
       "    </tr>\n",
       "  </tbody>\n",
       "</table>\n",
       "</div>"
      ],
      "text/plain": [
       "                Open           High            Low          Close  \\\n",
       "count  110253.000000  110253.000000  110253.000000  110253.000000   \n",
       "mean     7658.515222    7704.372961    7608.000422    7657.545872   \n",
       "std      9011.478913    9066.638548    8954.506981    9011.510444   \n",
       "min        54.869999      54.869999      54.869999      54.869999   \n",
       "25%      1855.030029    1864.510010    1843.979980    1855.060059   \n",
       "50%      5194.089844    5226.279785    5154.049805    5194.750000   \n",
       "75%     10134.299810   10207.820310   10060.349610   10134.830080   \n",
       "max     68775.062500   69403.750000   68516.992190   68775.062500   \n",
       "\n",
       "           Adj Close        Volume  \n",
       "count  110253.000000  1.102530e+05  \n",
       "mean     7657.351729  1.273975e+09  \n",
       "std      9011.608900  4.315783e+09  \n",
       "min        54.869999  0.000000e+00  \n",
       "25%      1854.179565  0.000000e+00  \n",
       "50%      5194.750000  4.329000e+05  \n",
       "75%     10134.830080  1.734314e+08  \n",
       "max     68775.062500  9.440374e+10  "
      ]
     },
     "execution_count": 3,
     "metadata": {},
     "output_type": "execute_result"
    }
   ],
   "source": [
    "df.describe()"
   ]
  },
  {
   "cell_type": "markdown",
   "metadata": {
    "cell_id": "e113e934899b46c2bc287e816fa1ec93",
    "deepnote_cell_height": 201.390625,
    "deepnote_cell_type": "markdown",
    "tags": []
   },
   "source": [
    "This `df.describe()` isn't very useful in this case because it combines values for many different stock exchanges.\n",
    "\n",
    "* Make a new DataFrame `dfny` containing only the New York stock exchange info \"NYA\".  (Use Boolean indexing.)\n",
    "* Check your answer: the `shape` of `dfny` should be (13948, 8).\n",
    "* Call the `describe` method on `dfny`.\n",
    "* What is the mean value in the \"Close\" column?  What is the median value in the \"Close\" column?  (Do you find the difference surprising?)\n"
   ]
  },
  {
   "cell_type": "code",
   "execution_count": 4,
   "metadata": {
    "cell_id": "a97aaca25d454747871748f1400fd088",
    "deepnote_cell_height": 136.1875,
    "deepnote_cell_type": "code",
    "deepnote_output_heights": [
     21.1875
    ],
    "deepnote_to_be_reexecuted": false,
    "execution_millis": 8,
    "execution_start": 1648847015027,
    "source_hash": "29de5cb8",
    "tags": []
   },
   "outputs": [
    {
     "data": {
      "text/plain": [
       "(13948, 8)"
      ]
     },
     "execution_count": 4,
     "metadata": {},
     "output_type": "execute_result"
    }
   ],
   "source": [
    "dfny = df[df[\"Name\"]==\"NYA\"]\n",
    "dfny.shape"
   ]
  },
  {
   "cell_type": "code",
   "execution_count": 5,
   "metadata": {
    "cell_id": "0c9b61a3635d46dab6ec8e2b06c7cc97",
    "deepnote_cell_height": 516,
    "deepnote_cell_type": "code",
    "deepnote_to_be_reexecuted": false,
    "execution_millis": 52,
    "execution_start": 1648847023780,
    "source_hash": "a8b871c0",
    "tags": []
   },
   "outputs": [
    {
     "data": {
      "application/vnd.deepnote.dataframe.v3+json": {
       "column_count": 6,
       "columns": [
        {
         "dtype": "float64",
         "name": "Open",
         "stats": {
          "histogram": [
           {
            "bin_end": 1972.0359591000001,
            "bin_start": 347.769989,
            "count": 2
           },
           {
            "bin_end": 3596.3019292,
            "bin_start": 1972.0359591000001,
            "count": 1
           },
           {
            "bin_end": 5220.5678993,
            "bin_start": 3596.3019292,
            "count": 2
           },
           {
            "bin_end": 6844.8338694,
            "bin_start": 5220.5678993,
            "count": 0
           },
           {
            "bin_end": 8469.0998395,
            "bin_start": 6844.8338694,
            "count": 1
           },
           {
            "bin_end": 10093.3658096,
            "bin_start": 8469.0998395,
            "count": 0
           },
           {
            "bin_end": 11717.631779700001,
            "bin_start": 10093.3658096,
            "count": 0
           },
           {
            "bin_end": 13341.8977498,
            "bin_start": 11717.631779700001,
            "count": 0
           },
           {
            "bin_end": 14966.1637199,
            "bin_start": 13341.8977498,
            "count": 1
           },
           {
            "bin_end": 16590.42969,
            "bin_start": 14966.1637199,
            "count": 1
           }
          ],
          "max": "16590.42969",
          "min": "347.769989",
          "nan_count": 0,
          "unique_count": 8
         }
        },
        {
         "dtype": "float64",
         "name": "High",
         "stats": {
          "histogram": [
           {
            "bin_end": 1981.5820531,
            "bin_start": 347.769989,
            "count": 2
           },
           {
            "bin_end": 3615.3941172,
            "bin_start": 1981.5820531,
            "count": 1
           },
           {
            "bin_end": 5249.2061813,
            "bin_start": 3615.3941172,
            "count": 2
           },
           {
            "bin_end": 6883.0182454000005,
            "bin_start": 5249.2061813,
            "count": 0
           },
           {
            "bin_end": 8516.830309500001,
            "bin_start": 6883.0182454000005,
            "count": 1
           },
           {
            "bin_end": 10150.6423736,
            "bin_start": 8516.830309500001,
            "count": 0
           },
           {
            "bin_end": 11784.4544377,
            "bin_start": 10150.6423736,
            "count": 0
           },
           {
            "bin_end": 13418.2665018,
            "bin_start": 11784.4544377,
            "count": 0
           },
           {
            "bin_end": 15052.078565900001,
            "bin_start": 13418.2665018,
            "count": 1
           },
           {
            "bin_end": 16685.89063,
            "bin_start": 15052.078565900001,
            "count": 1
           }
          ],
          "max": "16685.89063",
          "min": "347.769989",
          "nan_count": 0,
          "unique_count": 8
         }
        },
        {
         "dtype": "float64",
         "name": "Low",
         "stats": {
          "histogram": [
           {
            "bin_end": 1966.1879120999997,
            "bin_start": 347.769989,
            "count": 2
           },
           {
            "bin_end": 3584.6058351999995,
            "bin_start": 1966.1879120999997,
            "count": 1
           },
           {
            "bin_end": 5203.0237583,
            "bin_start": 3584.6058351999995,
            "count": 2
           },
           {
            "bin_end": 6821.4416814,
            "bin_start": 5203.0237583,
            "count": 0
           },
           {
            "bin_end": 8439.8596045,
            "bin_start": 6821.4416814,
            "count": 1
           },
           {
            "bin_end": 10058.2775276,
            "bin_start": 8439.8596045,
            "count": 0
           },
           {
            "bin_end": 11676.6954507,
            "bin_start": 10058.2775276,
            "count": 0
           },
           {
            "bin_end": 13295.113373799999,
            "bin_start": 11676.6954507,
            "count": 0
           },
           {
            "bin_end": 14913.531296899999,
            "bin_start": 13295.113373799999,
            "count": 1
           },
           {
            "bin_end": 16531.94922,
            "bin_start": 14913.531296899999,
            "count": 1
           }
          ],
          "max": "16531.94922",
          "min": "347.769989",
          "nan_count": 0,
          "unique_count": 8
         }
        },
        {
         "dtype": "float64",
         "name": "Close",
         "stats": {
          "histogram": [
           {
            "bin_end": 1972.0359591000001,
            "bin_start": 347.769989,
            "count": 2
           },
           {
            "bin_end": 3596.3019292,
            "bin_start": 1972.0359591000001,
            "count": 1
           },
           {
            "bin_end": 5220.5678993,
            "bin_start": 3596.3019292,
            "count": 2
           },
           {
            "bin_end": 6844.8338694,
            "bin_start": 5220.5678993,
            "count": 0
           },
           {
            "bin_end": 8469.0998395,
            "bin_start": 6844.8338694,
            "count": 1
           },
           {
            "bin_end": 10093.3658096,
            "bin_start": 8469.0998395,
            "count": 0
           },
           {
            "bin_end": 11717.631779700001,
            "bin_start": 10093.3658096,
            "count": 0
           },
           {
            "bin_end": 13341.8977498,
            "bin_start": 11717.631779700001,
            "count": 0
           },
           {
            "bin_end": 14966.1637199,
            "bin_start": 13341.8977498,
            "count": 1
           },
           {
            "bin_end": 16590.42969,
            "bin_start": 14966.1637199,
            "count": 1
           }
          ],
          "max": "16590.42969",
          "min": "347.769989",
          "nan_count": 0,
          "unique_count": 8
         }
        },
        {
         "dtype": "float64",
         "name": "Adj Close",
         "stats": {
          "histogram": [
           {
            "bin_end": 1972.0359591000001,
            "bin_start": 347.769989,
            "count": 2
           },
           {
            "bin_end": 3596.3019292,
            "bin_start": 1972.0359591000001,
            "count": 1
           },
           {
            "bin_end": 5220.5678993,
            "bin_start": 3596.3019292,
            "count": 2
           },
           {
            "bin_end": 6844.8338694,
            "bin_start": 5220.5678993,
            "count": 0
           },
           {
            "bin_end": 8469.0998395,
            "bin_start": 6844.8338694,
            "count": 1
           },
           {
            "bin_end": 10093.3658096,
            "bin_start": 8469.0998395,
            "count": 0
           },
           {
            "bin_end": 11717.631779700001,
            "bin_start": 10093.3658096,
            "count": 0
           },
           {
            "bin_end": 13341.8977498,
            "bin_start": 11717.631779700001,
            "count": 0
           },
           {
            "bin_end": 14966.1637199,
            "bin_start": 13341.8977498,
            "count": 1
           },
           {
            "bin_end": 16590.42969,
            "bin_start": 14966.1637199,
            "count": 1
           }
          ],
          "max": "16590.42969",
          "min": "347.769989",
          "nan_count": 0,
          "unique_count": 8
         }
        },
        {
         "dtype": "float64",
         "name": "Volume",
         "stats": {
          "histogram": [
           {
            "bin_end": 1145623000,
            "bin_start": 0,
            "count": 4
           },
           {
            "bin_end": 2291246000,
            "bin_start": 1145623000,
            "count": 2
           },
           {
            "bin_end": 3436869000,
            "bin_start": 2291246000,
            "count": 1
           },
           {
            "bin_end": 4582492000,
            "bin_start": 3436869000,
            "count": 0
           },
           {
            "bin_end": 5728115000,
            "bin_start": 4582492000,
            "count": 0
           },
           {
            "bin_end": 6873738000,
            "bin_start": 5728115000,
            "count": 0
           },
           {
            "bin_end": 8019361000,
            "bin_start": 6873738000,
            "count": 0
           },
           {
            "bin_end": 9164984000,
            "bin_start": 8019361000,
            "count": 0
           },
           {
            "bin_end": 10310607000,
            "bin_start": 9164984000,
            "count": 0
           },
           {
            "bin_end": 11456230000,
            "bin_start": 10310607000,
            "count": 1
           }
          ],
          "max": "11456230000.0",
          "min": "0.0",
          "nan_count": 0,
          "unique_count": 6
         }
        },
        {
         "dtype": "object",
         "name": "_deepnote_index_column"
        }
       ],
       "row_count": 8,
       "rows": [
        {
         "Adj Close": 13947,
         "Close": 13947,
         "High": 13947,
         "Low": 13947,
         "Open": 13947,
         "Volume": 13947,
         "_deepnote_index_column": "count"
        },
        {
         "Adj Close": 4452.174710990822,
         "Close": 4452.174710990822,
         "High": 4468.236551545494,
         "Low": 4433.695014189073,
         "Open": 4451.778150584355,
         "Volume": 1215565480.748548,
         "_deepnote_index_column": "mean"
        },
        {
         "Adj Close": 4075.4593661273752,
         "Close": 4075.4593661273752,
         "High": 4095.1669176418177,
         "Low": 4052.801658000753,
         "Open": 4074.9537350739356,
         "Volume": 1834154566.637309,
         "_deepnote_index_column": "std"
        },
        {
         "Adj Close": 347.769989,
         "Close": 347.769989,
         "High": 347.769989,
         "Low": 347.769989,
         "Open": 347.769989,
         "Volume": 0,
         "_deepnote_index_column": "min"
        },
        {
         "Adj Close": 654.940002,
         "Close": 654.940002,
         "High": 654.940002,
         "Low": 654.940002,
         "Open": 654.940002,
         "Volume": 0,
         "_deepnote_index_column": "25%"
        },
        {
         "Adj Close": 2631.800049,
         "Close": 2631.800049,
         "High": 2631.800049,
         "Low": 2631.800049,
         "Open": 2631.800049,
         "Volume": 0,
         "_deepnote_index_column": "50%"
        },
        {
         "Adj Close": 7337.9350585,
         "Close": 7337.9350585,
         "High": 7375.7199705,
         "Low": 7276.889893,
         "Open": 7339.48999,
         "Volume": 2681975000,
         "_deepnote_index_column": "75%"
        },
        {
         "Adj Close": 16590.42969,
         "Close": 16590.42969,
         "High": 16685.89063,
         "Low": 16531.94922,
         "Open": 16590.42969,
         "Volume": 11456230000,
         "_deepnote_index_column": "max"
        }
       ]
      },
      "text/html": [
       "<div>\n",
       "<style scoped>\n",
       "    .dataframe tbody tr th:only-of-type {\n",
       "        vertical-align: middle;\n",
       "    }\n",
       "\n",
       "    .dataframe tbody tr th {\n",
       "        vertical-align: top;\n",
       "    }\n",
       "\n",
       "    .dataframe thead th {\n",
       "        text-align: right;\n",
       "    }\n",
       "</style>\n",
       "<table border=\"1\" class=\"dataframe\">\n",
       "  <thead>\n",
       "    <tr style=\"text-align: right;\">\n",
       "      <th></th>\n",
       "      <th>Open</th>\n",
       "      <th>High</th>\n",
       "      <th>Low</th>\n",
       "      <th>Close</th>\n",
       "      <th>Adj Close</th>\n",
       "      <th>Volume</th>\n",
       "    </tr>\n",
       "  </thead>\n",
       "  <tbody>\n",
       "    <tr>\n",
       "      <th>count</th>\n",
       "      <td>13947.000000</td>\n",
       "      <td>13947.000000</td>\n",
       "      <td>13947.000000</td>\n",
       "      <td>13947.000000</td>\n",
       "      <td>13947.000000</td>\n",
       "      <td>1.394700e+04</td>\n",
       "    </tr>\n",
       "    <tr>\n",
       "      <th>mean</th>\n",
       "      <td>4451.778151</td>\n",
       "      <td>4468.236552</td>\n",
       "      <td>4433.695014</td>\n",
       "      <td>4452.174711</td>\n",
       "      <td>4452.174711</td>\n",
       "      <td>1.215565e+09</td>\n",
       "    </tr>\n",
       "    <tr>\n",
       "      <th>std</th>\n",
       "      <td>4074.953735</td>\n",
       "      <td>4095.166918</td>\n",
       "      <td>4052.801658</td>\n",
       "      <td>4075.459366</td>\n",
       "      <td>4075.459366</td>\n",
       "      <td>1.834155e+09</td>\n",
       "    </tr>\n",
       "    <tr>\n",
       "      <th>min</th>\n",
       "      <td>347.769989</td>\n",
       "      <td>347.769989</td>\n",
       "      <td>347.769989</td>\n",
       "      <td>347.769989</td>\n",
       "      <td>347.769989</td>\n",
       "      <td>0.000000e+00</td>\n",
       "    </tr>\n",
       "    <tr>\n",
       "      <th>25%</th>\n",
       "      <td>654.940002</td>\n",
       "      <td>654.940002</td>\n",
       "      <td>654.940002</td>\n",
       "      <td>654.940002</td>\n",
       "      <td>654.940002</td>\n",
       "      <td>0.000000e+00</td>\n",
       "    </tr>\n",
       "    <tr>\n",
       "      <th>50%</th>\n",
       "      <td>2631.800049</td>\n",
       "      <td>2631.800049</td>\n",
       "      <td>2631.800049</td>\n",
       "      <td>2631.800049</td>\n",
       "      <td>2631.800049</td>\n",
       "      <td>0.000000e+00</td>\n",
       "    </tr>\n",
       "    <tr>\n",
       "      <th>75%</th>\n",
       "      <td>7339.489990</td>\n",
       "      <td>7375.719971</td>\n",
       "      <td>7276.889893</td>\n",
       "      <td>7337.935059</td>\n",
       "      <td>7337.935059</td>\n",
       "      <td>2.681975e+09</td>\n",
       "    </tr>\n",
       "    <tr>\n",
       "      <th>max</th>\n",
       "      <td>16590.429690</td>\n",
       "      <td>16685.890630</td>\n",
       "      <td>16531.949220</td>\n",
       "      <td>16590.429690</td>\n",
       "      <td>16590.429690</td>\n",
       "      <td>1.145623e+10</td>\n",
       "    </tr>\n",
       "  </tbody>\n",
       "</table>\n",
       "</div>"
      ],
      "text/plain": [
       "               Open          High           Low         Close     Adj Close  \\\n",
       "count  13947.000000  13947.000000  13947.000000  13947.000000  13947.000000   \n",
       "mean    4451.778151   4468.236552   4433.695014   4452.174711   4452.174711   \n",
       "std     4074.953735   4095.166918   4052.801658   4075.459366   4075.459366   \n",
       "min      347.769989    347.769989    347.769989    347.769989    347.769989   \n",
       "25%      654.940002    654.940002    654.940002    654.940002    654.940002   \n",
       "50%     2631.800049   2631.800049   2631.800049   2631.800049   2631.800049   \n",
       "75%     7339.489990   7375.719971   7276.889893   7337.935059   7337.935059   \n",
       "max    16590.429690  16685.890630  16531.949220  16590.429690  16590.429690   \n",
       "\n",
       "             Volume  \n",
       "count  1.394700e+04  \n",
       "mean   1.215565e+09  \n",
       "std    1.834155e+09  \n",
       "min    0.000000e+00  \n",
       "25%    0.000000e+00  \n",
       "50%    0.000000e+00  \n",
       "75%    2.681975e+09  \n",
       "max    1.145623e+10  "
      ]
     },
     "execution_count": 5,
     "metadata": {},
     "output_type": "execute_result"
    }
   ],
   "source": [
    "dfny.describe()"
   ]
  },
  {
   "cell_type": "markdown",
   "metadata": {
    "cell_id": "db8638d284e54816ae886a32b2303271",
    "deepnote_cell_height": 74.796875,
    "deepnote_cell_type": "markdown",
    "tags": []
   },
   "source": [
    "We can see that the mean value of \"Close\" is approximately 4452 and the median value is approximately 2631.  This is an example where mean and median are very different."
   ]
  },
  {
   "cell_type": "markdown",
   "metadata": {
    "cell_id": "9ca20bf84f164b5f8c59f6e8d665b0d2",
    "deepnote_cell_height": 69.390625,
    "deepnote_cell_type": "markdown",
    "tags": []
   },
   "source": [
    "* I personally find this `describe` info easier to read if the DataFrame is transposed.  Use `.T` to transpose the data."
   ]
  },
  {
   "cell_type": "code",
   "execution_count": 6,
   "metadata": {
    "cell_id": "1618ec8c7cfe4c1c8c802e031c93b22d",
    "deepnote_cell_height": 434,
    "deepnote_cell_type": "code",
    "deepnote_to_be_reexecuted": false,
    "execution_millis": 47,
    "execution_start": 1648847096370,
    "source_hash": "d787d7e0",
    "tags": []
   },
   "outputs": [
    {
     "data": {
      "application/vnd.deepnote.dataframe.v3+json": {
       "column_count": 8,
       "columns": [
        {
         "dtype": "float64",
         "name": "count",
         "stats": {
          "histogram": [
           {
            "bin_end": 13946.6,
            "bin_start": 13946.5,
            "count": 0
           },
           {
            "bin_end": 13946.7,
            "bin_start": 13946.6,
            "count": 0
           },
           {
            "bin_end": 13946.8,
            "bin_start": 13946.7,
            "count": 0
           },
           {
            "bin_end": 13946.9,
            "bin_start": 13946.8,
            "count": 0
           },
           {
            "bin_end": 13947,
            "bin_start": 13946.9,
            "count": 0
           },
           {
            "bin_end": 13947.1,
            "bin_start": 13947,
            "count": 6
           },
           {
            "bin_end": 13947.2,
            "bin_start": 13947.1,
            "count": 0
           },
           {
            "bin_end": 13947.3,
            "bin_start": 13947.2,
            "count": 0
           },
           {
            "bin_end": 13947.4,
            "bin_start": 13947.3,
            "count": 0
           },
           {
            "bin_end": 13947.5,
            "bin_start": 13947.4,
            "count": 0
           }
          ],
          "max": "13947.0",
          "min": "13947.0",
          "nan_count": 0,
          "unique_count": 1
         }
        },
        {
         "dtype": "float64",
         "name": "mean",
         "stats": {
          "histogram": [
           {
            "bin_end": 121560538.40036757,
            "bin_start": 4433.695014189073,
            "count": 5
           },
           {
            "bin_end": 243116643.10572094,
            "bin_start": 121560538.40036757,
            "count": 0
           },
           {
            "bin_end": 364672747.8110743,
            "bin_start": 243116643.10572094,
            "count": 0
           },
           {
            "bin_end": 486228852.5164277,
            "bin_start": 364672747.8110743,
            "count": 0
           },
           {
            "bin_end": 607784957.2217811,
            "bin_start": 486228852.5164277,
            "count": 0
           },
           {
            "bin_end": 729341061.9271345,
            "bin_start": 607784957.2217811,
            "count": 0
           },
           {
            "bin_end": 850897166.6324879,
            "bin_start": 729341061.9271345,
            "count": 0
           },
           {
            "bin_end": 972453271.3378413,
            "bin_start": 850897166.6324879,
            "count": 0
           },
           {
            "bin_end": 1094009376.0431945,
            "bin_start": 972453271.3378413,
            "count": 0
           },
           {
            "bin_end": 1215565480.748548,
            "bin_start": 1094009376.0431945,
            "count": 1
           }
          ],
          "max": "1215565480.748548",
          "min": "4433.695014189073",
          "nan_count": 0,
          "unique_count": 5
         }
        },
        {
         "dtype": "float64",
         "name": "std",
         "stats": {
          "histogram": [
           {
            "bin_end": 183419104.18522313,
            "bin_start": 4052.801658000753,
            "count": 5
           },
           {
            "bin_end": 366834155.56878823,
            "bin_start": 183419104.18522313,
            "count": 0
           },
           {
            "bin_end": 550249206.9523534,
            "bin_start": 366834155.56878823,
            "count": 0
           },
           {
            "bin_end": 733664258.3359185,
            "bin_start": 550249206.9523534,
            "count": 0
           },
           {
            "bin_end": 917079309.7194837,
            "bin_start": 733664258.3359185,
            "count": 0
           },
           {
            "bin_end": 1100494361.1030486,
            "bin_start": 917079309.7194837,
            "count": 0
           },
           {
            "bin_end": 1283909412.4866138,
            "bin_start": 1100494361.1030486,
            "count": 0
           },
           {
            "bin_end": 1467324463.870179,
            "bin_start": 1283909412.4866138,
            "count": 0
           },
           {
            "bin_end": 1650739515.2537441,
            "bin_start": 1467324463.870179,
            "count": 0
           },
           {
            "bin_end": 1834154566.637309,
            "bin_start": 1650739515.2537441,
            "count": 1
           }
          ],
          "max": "1834154566.637309",
          "min": "4052.801658000753",
          "nan_count": 0,
          "unique_count": 5
         }
        },
        {
         "dtype": "float64",
         "name": "min",
         "stats": {
          "histogram": [
           {
            "bin_end": 34.7769989,
            "bin_start": 0,
            "count": 1
           },
           {
            "bin_end": 69.5539978,
            "bin_start": 34.7769989,
            "count": 0
           },
           {
            "bin_end": 104.33099670000001,
            "bin_start": 69.5539978,
            "count": 0
           },
           {
            "bin_end": 139.1079956,
            "bin_start": 104.33099670000001,
            "count": 0
           },
           {
            "bin_end": 173.8849945,
            "bin_start": 139.1079956,
            "count": 0
           },
           {
            "bin_end": 208.66199340000003,
            "bin_start": 173.8849945,
            "count": 0
           },
           {
            "bin_end": 243.43899230000002,
            "bin_start": 208.66199340000003,
            "count": 0
           },
           {
            "bin_end": 278.2159912,
            "bin_start": 243.43899230000002,
            "count": 0
           },
           {
            "bin_end": 312.99299010000004,
            "bin_start": 278.2159912,
            "count": 0
           },
           {
            "bin_end": 347.769989,
            "bin_start": 312.99299010000004,
            "count": 5
           }
          ],
          "max": "347.769989",
          "min": "0.0",
          "nan_count": 0,
          "unique_count": 2
         }
        },
        {
         "dtype": "float64",
         "name": "25%",
         "stats": {
          "histogram": [
           {
            "bin_end": 65.4940002,
            "bin_start": 0,
            "count": 1
           },
           {
            "bin_end": 130.9880004,
            "bin_start": 65.4940002,
            "count": 0
           },
           {
            "bin_end": 196.4820006,
            "bin_start": 130.9880004,
            "count": 0
           },
           {
            "bin_end": 261.9760008,
            "bin_start": 196.4820006,
            "count": 0
           },
           {
            "bin_end": 327.470001,
            "bin_start": 261.9760008,
            "count": 0
           },
           {
            "bin_end": 392.9640012,
            "bin_start": 327.470001,
            "count": 0
           },
           {
            "bin_end": 458.4580014,
            "bin_start": 392.9640012,
            "count": 0
           },
           {
            "bin_end": 523.9520016,
            "bin_start": 458.4580014,
            "count": 0
           },
           {
            "bin_end": 589.4460018,
            "bin_start": 523.9520016,
            "count": 0
           },
           {
            "bin_end": 654.940002,
            "bin_start": 589.4460018,
            "count": 5
           }
          ],
          "max": "654.940002",
          "min": "0.0",
          "nan_count": 0,
          "unique_count": 2
         }
        },
        {
         "dtype": "float64",
         "name": "50%",
         "stats": {
          "histogram": [
           {
            "bin_end": 263.1800049,
            "bin_start": 0,
            "count": 1
           },
           {
            "bin_end": 526.3600098,
            "bin_start": 263.1800049,
            "count": 0
           },
           {
            "bin_end": 789.5400146999999,
            "bin_start": 526.3600098,
            "count": 0
           },
           {
            "bin_end": 1052.7200196,
            "bin_start": 789.5400146999999,
            "count": 0
           },
           {
            "bin_end": 1315.9000244999997,
            "bin_start": 1052.7200196,
            "count": 0
           },
           {
            "bin_end": 1579.0800293999998,
            "bin_start": 1315.9000244999997,
            "count": 0
           },
           {
            "bin_end": 1842.2600343,
            "bin_start": 1579.0800293999998,
            "count": 0
           },
           {
            "bin_end": 2105.4400392,
            "bin_start": 1842.2600343,
            "count": 0
           },
           {
            "bin_end": 2368.6200440999996,
            "bin_start": 2105.4400392,
            "count": 0
           },
           {
            "bin_end": 2631.800049,
            "bin_start": 2368.6200440999996,
            "count": 5
           }
          ],
          "max": "2631.800049",
          "min": "0.0",
          "nan_count": 0,
          "unique_count": 2
         }
        },
        {
         "dtype": "float64",
         "name": "75%",
         "stats": {
          "histogram": [
           {
            "bin_end": 268204049.20090368,
            "bin_start": 7276.889893,
            "count": 5
           },
           {
            "bin_end": 536400821.5119144,
            "bin_start": 268204049.20090368,
            "count": 0
           },
           {
            "bin_end": 804597593.8229251,
            "bin_start": 536400821.5119144,
            "count": 0
           },
           {
            "bin_end": 1072794366.1339358,
            "bin_start": 804597593.8229251,
            "count": 0
           },
           {
            "bin_end": 1340991138.4449465,
            "bin_start": 1072794366.1339358,
            "count": 0
           },
           {
            "bin_end": 1609187910.7559571,
            "bin_start": 1340991138.4449465,
            "count": 0
           },
           {
            "bin_end": 1877384683.066968,
            "bin_start": 1609187910.7559571,
            "count": 0
           },
           {
            "bin_end": 2145581455.3779786,
            "bin_start": 1877384683.066968,
            "count": 0
           },
           {
            "bin_end": 2413778227.688989,
            "bin_start": 2145581455.3779786,
            "count": 0
           },
           {
            "bin_end": 2681975000,
            "bin_start": 2413778227.688989,
            "count": 1
           }
          ],
          "max": "2681975000.0",
          "min": "7276.889893",
          "nan_count": 0,
          "unique_count": 5
         }
        },
        {
         "dtype": "float64",
         "name": "max",
         "stats": {
          "histogram": [
           {
            "bin_end": 1145637878.754298,
            "bin_start": 16531.94922,
            "count": 5
           },
           {
            "bin_end": 2291259225.5593762,
            "bin_start": 1145637878.754298,
            "count": 0
           },
           {
            "bin_end": 3436880572.3644543,
            "bin_start": 2291259225.5593762,
            "count": 0
           },
           {
            "bin_end": 4582501919.169532,
            "bin_start": 3436880572.3644543,
            "count": 0
           },
           {
            "bin_end": 5728123265.97461,
            "bin_start": 4582501919.169532,
            "count": 0
           },
           {
            "bin_end": 6873744612.779688,
            "bin_start": 5728123265.97461,
            "count": 0
           },
           {
            "bin_end": 8019365959.584765,
            "bin_start": 6873744612.779688,
            "count": 0
           },
           {
            "bin_end": 9164987306.389845,
            "bin_start": 8019365959.584765,
            "count": 0
           },
           {
            "bin_end": 10310608653.194923,
            "bin_start": 9164987306.389845,
            "count": 0
           },
           {
            "bin_end": 11456230000,
            "bin_start": 10310608653.194923,
            "count": 1
           }
          ],
          "max": "11456230000.0",
          "min": "16531.94922",
          "nan_count": 0,
          "unique_count": 4
         }
        },
        {
         "dtype": "object",
         "name": "_deepnote_index_column"
        }
       ],
       "row_count": 6,
       "rows": [
        {
         "25%": 654.940002,
         "50%": 2631.800049,
         "75%": 7339.48999,
         "_deepnote_index_column": "Open",
         "count": 13947,
         "max": 16590.42969,
         "mean": 4451.778150584355,
         "min": 347.769989,
         "std": 4074.9537350739356
        },
        {
         "25%": 654.940002,
         "50%": 2631.800049,
         "75%": 7375.7199705,
         "_deepnote_index_column": "High",
         "count": 13947,
         "max": 16685.89063,
         "mean": 4468.236551545494,
         "min": 347.769989,
         "std": 4095.1669176418177
        },
        {
         "25%": 654.940002,
         "50%": 2631.800049,
         "75%": 7276.889893,
         "_deepnote_index_column": "Low",
         "count": 13947,
         "max": 16531.94922,
         "mean": 4433.695014189073,
         "min": 347.769989,
         "std": 4052.801658000753
        },
        {
         "25%": 654.940002,
         "50%": 2631.800049,
         "75%": 7337.9350585,
         "_deepnote_index_column": "Close",
         "count": 13947,
         "max": 16590.42969,
         "mean": 4452.174710990822,
         "min": 347.769989,
         "std": 4075.4593661273752
        },
        {
         "25%": 654.940002,
         "50%": 2631.800049,
         "75%": 7337.9350585,
         "_deepnote_index_column": "Adj Close",
         "count": 13947,
         "max": 16590.42969,
         "mean": 4452.174710990822,
         "min": 347.769989,
         "std": 4075.4593661273752
        },
        {
         "25%": 0,
         "50%": 0,
         "75%": 2681975000,
         "_deepnote_index_column": "Volume",
         "count": 13947,
         "max": 11456230000,
         "mean": 1215565480.748548,
         "min": 0,
         "std": 1834154566.637309
        }
       ]
      },
      "text/html": [
       "<div>\n",
       "<style scoped>\n",
       "    .dataframe tbody tr th:only-of-type {\n",
       "        vertical-align: middle;\n",
       "    }\n",
       "\n",
       "    .dataframe tbody tr th {\n",
       "        vertical-align: top;\n",
       "    }\n",
       "\n",
       "    .dataframe thead th {\n",
       "        text-align: right;\n",
       "    }\n",
       "</style>\n",
       "<table border=\"1\" class=\"dataframe\">\n",
       "  <thead>\n",
       "    <tr style=\"text-align: right;\">\n",
       "      <th></th>\n",
       "      <th>count</th>\n",
       "      <th>mean</th>\n",
       "      <th>std</th>\n",
       "      <th>min</th>\n",
       "      <th>25%</th>\n",
       "      <th>50%</th>\n",
       "      <th>75%</th>\n",
       "      <th>max</th>\n",
       "    </tr>\n",
       "  </thead>\n",
       "  <tbody>\n",
       "    <tr>\n",
       "      <th>Open</th>\n",
       "      <td>13947.0</td>\n",
       "      <td>4.451778e+03</td>\n",
       "      <td>4.074954e+03</td>\n",
       "      <td>347.769989</td>\n",
       "      <td>654.940002</td>\n",
       "      <td>2631.800049</td>\n",
       "      <td>7.339490e+03</td>\n",
       "      <td>1.659043e+04</td>\n",
       "    </tr>\n",
       "    <tr>\n",
       "      <th>High</th>\n",
       "      <td>13947.0</td>\n",
       "      <td>4.468237e+03</td>\n",
       "      <td>4.095167e+03</td>\n",
       "      <td>347.769989</td>\n",
       "      <td>654.940002</td>\n",
       "      <td>2631.800049</td>\n",
       "      <td>7.375720e+03</td>\n",
       "      <td>1.668589e+04</td>\n",
       "    </tr>\n",
       "    <tr>\n",
       "      <th>Low</th>\n",
       "      <td>13947.0</td>\n",
       "      <td>4.433695e+03</td>\n",
       "      <td>4.052802e+03</td>\n",
       "      <td>347.769989</td>\n",
       "      <td>654.940002</td>\n",
       "      <td>2631.800049</td>\n",
       "      <td>7.276890e+03</td>\n",
       "      <td>1.653195e+04</td>\n",
       "    </tr>\n",
       "    <tr>\n",
       "      <th>Close</th>\n",
       "      <td>13947.0</td>\n",
       "      <td>4.452175e+03</td>\n",
       "      <td>4.075459e+03</td>\n",
       "      <td>347.769989</td>\n",
       "      <td>654.940002</td>\n",
       "      <td>2631.800049</td>\n",
       "      <td>7.337935e+03</td>\n",
       "      <td>1.659043e+04</td>\n",
       "    </tr>\n",
       "    <tr>\n",
       "      <th>Adj Close</th>\n",
       "      <td>13947.0</td>\n",
       "      <td>4.452175e+03</td>\n",
       "      <td>4.075459e+03</td>\n",
       "      <td>347.769989</td>\n",
       "      <td>654.940002</td>\n",
       "      <td>2631.800049</td>\n",
       "      <td>7.337935e+03</td>\n",
       "      <td>1.659043e+04</td>\n",
       "    </tr>\n",
       "    <tr>\n",
       "      <th>Volume</th>\n",
       "      <td>13947.0</td>\n",
       "      <td>1.215565e+09</td>\n",
       "      <td>1.834155e+09</td>\n",
       "      <td>0.000000</td>\n",
       "      <td>0.000000</td>\n",
       "      <td>0.000000</td>\n",
       "      <td>2.681975e+09</td>\n",
       "      <td>1.145623e+10</td>\n",
       "    </tr>\n",
       "  </tbody>\n",
       "</table>\n",
       "</div>"
      ],
      "text/plain": [
       "             count          mean           std         min         25%  \\\n",
       "Open       13947.0  4.451778e+03  4.074954e+03  347.769989  654.940002   \n",
       "High       13947.0  4.468237e+03  4.095167e+03  347.769989  654.940002   \n",
       "Low        13947.0  4.433695e+03  4.052802e+03  347.769989  654.940002   \n",
       "Close      13947.0  4.452175e+03  4.075459e+03  347.769989  654.940002   \n",
       "Adj Close  13947.0  4.452175e+03  4.075459e+03  347.769989  654.940002   \n",
       "Volume     13947.0  1.215565e+09  1.834155e+09    0.000000    0.000000   \n",
       "\n",
       "                   50%           75%           max  \n",
       "Open       2631.800049  7.339490e+03  1.659043e+04  \n",
       "High       2631.800049  7.375720e+03  1.668589e+04  \n",
       "Low        2631.800049  7.276890e+03  1.653195e+04  \n",
       "Close      2631.800049  7.337935e+03  1.659043e+04  \n",
       "Adj Close  2631.800049  7.337935e+03  1.659043e+04  \n",
       "Volume        0.000000  2.681975e+09  1.145623e+10  "
      ]
     },
     "execution_count": 6,
     "metadata": {},
     "output_type": "execute_result"
    }
   ],
   "source": [
    "dfny.describe().T"
   ]
  },
  {
   "cell_type": "markdown",
   "metadata": {
    "cell_id": "6e8297411daa441880c62ce646e6f76b",
    "deepnote_cell_height": 114.1875,
    "deepnote_cell_type": "markdown",
    "tags": []
   },
   "source": [
    "* For example, this tells us that 75% of the values in the \"Close\" column are below 7337.935, and 25% are above.  Check this using Boolean indexing and then finding the length `len(???)` of the resulting DataFrame (`len` gives the number of rows)."
   ]
  },
  {
   "cell_type": "code",
   "execution_count": 7,
   "metadata": {
    "cell_id": "1b6e4d3b90ad4c24b2bc333749bd5532",
    "deepnote_cell_height": 118.1875,
    "deepnote_cell_type": "code",
    "deepnote_output_heights": [
     21.1875
    ],
    "deepnote_to_be_reexecuted": false,
    "execution_millis": 13,
    "execution_start": 1648847122744,
    "source_hash": "2eaa9d80",
    "tags": []
   },
   "outputs": [
    {
     "data": {
      "text/plain": [
       "0.7499283051333524"
      ]
     },
     "execution_count": 7,
     "metadata": {},
     "output_type": "execute_result"
    }
   ],
   "source": [
    "len(dfny[dfny[\"Close\"]<7337.935])/len(dfny)"
   ]
  },
  {
   "cell_type": "markdown",
   "metadata": {
    "cell_id": "ee7c74aaf2854bceaaaabe9f987d0efa",
    "deepnote_cell_height": 69.390625,
    "deepnote_cell_type": "markdown",
    "tags": []
   },
   "source": [
    "* What is some information visible in the result of `df.info()`?"
   ]
  },
  {
   "cell_type": "code",
   "execution_count": 8,
   "metadata": {
    "cell_id": "b467f0999c96473daa27c7f4b88ed671",
    "deepnote_cell_height": 387.421875,
    "deepnote_cell_type": "code",
    "deepnote_to_be_reexecuted": false,
    "execution_millis": 627,
    "execution_start": 1648847134356,
    "source_hash": "de1e323c",
    "tags": []
   },
   "outputs": [
    {
     "name": "stdout",
     "output_type": "stream",
     "text": [
      "<class 'pandas.core.frame.DataFrame'>\n",
      "RangeIndex: 112457 entries, 0 to 112456\n",
      "Data columns (total 8 columns):\n",
      " #   Column     Non-Null Count   Dtype  \n",
      "---  ------     --------------   -----  \n",
      " 0   Name       112457 non-null  object \n",
      " 1   Date       112457 non-null  object \n",
      " 2   Open       110253 non-null  float64\n",
      " 3   High       110253 non-null  float64\n",
      " 4   Low        110253 non-null  float64\n",
      " 5   Close      110253 non-null  float64\n",
      " 6   Adj Close  110253 non-null  float64\n",
      " 7   Volume     110253 non-null  float64\n",
      "dtypes: float64(6), object(2)\n",
      "memory usage: 6.9+ MB\n"
     ]
    }
   ],
   "source": [
    "df.info()"
   ]
  },
  {
   "cell_type": "markdown",
   "metadata": {
    "cell_id": "764fc84edce741c2ba162fd5a44dcd94",
    "deepnote_cell_height": 52.390625,
    "deepnote_cell_type": "markdown",
    "tags": []
   },
   "source": [
    "dfny shows lots of information.  For example, it says which columns have data type float."
   ]
  },
  {
   "cell_type": "markdown",
   "metadata": {
    "cell_id": "d6d2c641fbb1459d9427370deee88682",
    "deepnote_cell_height": 114.1875,
    "deepnote_cell_type": "markdown",
    "tags": []
   },
   "source": [
    "* Do you see how to count the number of missing values (or null values) in the \"Open\" column using the result of `df.info()`?  Does your result match the result of `df.Open.isna().sum()`, which is the \"usual\" way to count missing values?"
   ]
  },
  {
   "cell_type": "code",
   "execution_count": 10,
   "metadata": {
    "cell_id": "76df787dc9e0458599ed713ad94b3dd3",
    "deepnote_cell_height": 136.1875,
    "deepnote_cell_type": "code",
    "deepnote_output_heights": [
     21.1875
    ],
    "deepnote_to_be_reexecuted": false,
    "execution_millis": 3,
    "execution_start": 1648847180059,
    "source_hash": "a96d66e5",
    "tags": []
   },
   "outputs": [
    {
     "data": {
      "text/plain": [
       "2204"
      ]
     },
     "execution_count": 10,
     "metadata": {},
     "output_type": "execute_result"
    }
   ],
   "source": [
    "# Missing values\n",
    "112457-110253"
   ]
  },
  {
   "cell_type": "code",
   "execution_count": 11,
   "metadata": {
    "cell_id": "686846d7a7804b3292967f3b712c37c8",
    "deepnote_cell_height": 118.1875,
    "deepnote_cell_type": "code",
    "deepnote_output_heights": [
     21.1875
    ],
    "deepnote_to_be_reexecuted": false,
    "execution_millis": 10,
    "execution_start": 1648847186277,
    "source_hash": "b67488ad",
    "tags": []
   },
   "outputs": [
    {
     "data": {
      "text/plain": [
       "2204"
      ]
     },
     "execution_count": 11,
     "metadata": {},
     "output_type": "execute_result"
    }
   ],
   "source": [
    "df.Open.isna().sum()"
   ]
  },
  {
   "cell_type": "markdown",
   "metadata": {
    "cell_id": "e43b9116ee6148b1a9c7b02c5b69066b",
    "deepnote_cell_height": 144.796875,
    "deepnote_cell_type": "markdown",
    "tags": []
   },
   "source": [
    "## value_counts\n",
    "\n",
    "* Define a new DataFrame `dfhk` containing only the info from the Hong Kong stock index, \"HSI\".  (Check: the shape of `dfhk` should be 8750 rows by 8 columns.)"
   ]
  },
  {
   "cell_type": "code",
   "execution_count": 16,
   "metadata": {
    "cell_id": "e404f5e1aa7541d185486c07d7a219e4",
    "deepnote_cell_height": 81,
    "deepnote_cell_type": "code",
    "deepnote_to_be_reexecuted": false,
    "execution_millis": 4,
    "execution_start": 1648847242540,
    "source_hash": "65103fe6",
    "tags": []
   },
   "outputs": [],
   "source": [
    "dfhk = df[df[\"Name\"]==\"HSI\"].copy()"
   ]
  },
  {
   "cell_type": "markdown",
   "metadata": {
    "cell_id": "d22ff3563dd84e9bbeb5a9ae3d5285d1",
    "deepnote_cell_height": 91.796875,
    "deepnote_cell_type": "markdown",
    "tags": []
   },
   "source": [
    "* Evaluate `dfhk[\"Close\"].value_counts()`.  This will tell you, for example, that `3066.00000` occurred 5 times in the \"Close\" column, and no other value occurred more than 3 times."
   ]
  },
  {
   "cell_type": "code",
   "execution_count": 14,
   "metadata": {
    "cell_id": "923e25b14dc24c78a424590a3314fa43",
    "deepnote_cell_height": 329.34375,
    "deepnote_cell_type": "code",
    "deepnote_output_heights": [
     232.34375
    ],
    "deepnote_to_be_reexecuted": false,
    "execution_millis": 7,
    "execution_start": 1648847217563,
    "source_hash": "b7f90029",
    "tags": []
   },
   "outputs": [
    {
     "data": {
      "text/plain": [
       "3066.00000     5\n",
       "10957.20020    3\n",
       "2584.50000     3\n",
       "3356.00000     3\n",
       "3083.00000     3\n",
       "              ..\n",
       "13223.86035    1\n",
       "26502.83984    1\n",
       "29376.85938    1\n",
       "13964.46973    1\n",
       "11847.05957    1\n",
       "Name: Close, Length: 8336, dtype: int64"
      ]
     },
     "execution_count": 14,
     "metadata": {},
     "output_type": "execute_result"
    }
   ],
   "source": [
    "dfhk[\"Close\"].value_counts()"
   ]
  },
  {
   "cell_type": "markdown",
   "metadata": {
    "cell_id": "a5849231edf94c2fb7eeb634c7f5f475",
    "deepnote_cell_height": 147.59375,
    "deepnote_cell_type": "markdown",
    "tags": []
   },
   "source": [
    "It might seem difficult to use `value_counts` on this data, because there isn't much repetition.  Here is a nice way.\n",
    "\n",
    "* Create a new column using the line `dfhk[\"Diff\"] = dfhk[\"High\"] - dfhk[\"Low\"]`.  If you get a pandas warning \"A value is trying to be set on a copy of a slice from a DataFrame\", go back to the line where you defined `dfhk` and add a `.copy()` at the end of the line."
   ]
  },
  {
   "cell_type": "code",
   "execution_count": 17,
   "metadata": {
    "cell_id": "535efea264e746d181a9468921284059",
    "deepnote_cell_height": 81,
    "deepnote_cell_type": "code",
    "deepnote_to_be_reexecuted": false,
    "execution_millis": 0,
    "execution_start": 1648847245890,
    "source_hash": "df37f775",
    "tags": []
   },
   "outputs": [],
   "source": [
    "dfhk[\"Diff\"] = dfhk[\"High\"] - dfhk[\"Low\"]"
   ]
  },
  {
   "cell_type": "markdown",
   "metadata": {
    "cell_id": "3b3ccef6086d429ea3cbb21759cbdbf3",
    "deepnote_cell_height": 91.796875,
    "deepnote_cell_type": "markdown",
    "tags": []
   },
   "source": [
    "* Look at the top 4 rows of `dfhk`, and notice how there is now a ninth column on the right.  Try to access these rows two different ways: using `iloc[:4]` (this is called *slicing*) and using `head(4)`."
   ]
  },
  {
   "cell_type": "code",
   "execution_count": 18,
   "metadata": {
    "cell_id": "8ecc949617eb43afb2947b56b8c41c91",
    "deepnote_cell_height": 352,
    "deepnote_cell_type": "code",
    "deepnote_to_be_reexecuted": false,
    "execution_millis": 6,
    "execution_start": 1648847258734,
    "source_hash": "e96d28ed",
    "tags": []
   },
   "outputs": [
    {
     "data": {
      "application/vnd.deepnote.dataframe.v3+json": {
       "column_count": 9,
       "columns": [
        {
         "dtype": "object",
         "name": "Name",
         "stats": {
          "categories": [
           {
            "count": 4,
            "name": "HSI"
           }
          ],
          "nan_count": 0,
          "unique_count": 1
         }
        },
        {
         "dtype": "object",
         "name": "Date",
         "stats": {
          "categories": [
           {
            "count": 1,
            "name": "12/31/86"
           },
           {
            "count": 1,
            "name": "1/1/87"
           },
           {
            "count": 2,
            "name": "2 others"
           }
          ],
          "nan_count": 0,
          "unique_count": 4
         }
        },
        {
         "dtype": "float64",
         "name": "Open",
         "stats": {
          "histogram": [
           {
            "bin_end": 2542.9200931,
            "bin_start": 2540.100098,
            "count": 1
           },
           {
            "bin_end": 2545.7400881999997,
            "bin_start": 2542.9200931,
            "count": 0
           },
           {
            "bin_end": 2548.5600833,
            "bin_start": 2545.7400881999997,
            "count": 0
           },
           {
            "bin_end": 2551.3800784,
            "bin_start": 2548.5600833,
            "count": 0
           },
           {
            "bin_end": 2554.2000735,
            "bin_start": 2551.3800784,
            "count": 1
           },
           {
            "bin_end": 2557.0200686,
            "bin_start": 2554.2000735,
            "count": 0
           },
           {
            "bin_end": 2559.8400637,
            "bin_start": 2557.0200686,
            "count": 0
           },
           {
            "bin_end": 2562.6600588,
            "bin_start": 2559.8400637,
            "count": 0
           },
           {
            "bin_end": 2565.4800539,
            "bin_start": 2562.6600588,
            "count": 0
           },
           {
            "bin_end": 2568.300049,
            "bin_start": 2565.4800539,
            "count": 1
           }
          ],
          "max": "2568.300049",
          "min": "2540.100098",
          "nan_count": 1,
          "unique_count": 3
         }
        },
        {
         "dtype": "float64",
         "name": "High",
         "stats": {
          "histogram": [
           {
            "bin_end": 2542.9200931,
            "bin_start": 2540.100098,
            "count": 1
           },
           {
            "bin_end": 2545.7400881999997,
            "bin_start": 2542.9200931,
            "count": 0
           },
           {
            "bin_end": 2548.5600833,
            "bin_start": 2545.7400881999997,
            "count": 0
           },
           {
            "bin_end": 2551.3800784,
            "bin_start": 2548.5600833,
            "count": 0
           },
           {
            "bin_end": 2554.2000735,
            "bin_start": 2551.3800784,
            "count": 1
           },
           {
            "bin_end": 2557.0200686,
            "bin_start": 2554.2000735,
            "count": 0
           },
           {
            "bin_end": 2559.8400637,
            "bin_start": 2557.0200686,
            "count": 0
           },
           {
            "bin_end": 2562.6600588,
            "bin_start": 2559.8400637,
            "count": 0
           },
           {
            "bin_end": 2565.4800539,
            "bin_start": 2562.6600588,
            "count": 0
           },
           {
            "bin_end": 2568.300049,
            "bin_start": 2565.4800539,
            "count": 1
           }
          ],
          "max": "2568.300049",
          "min": "2540.100098",
          "nan_count": 1,
          "unique_count": 3
         }
        },
        {
         "dtype": "float64",
         "name": "Low",
         "stats": {
          "histogram": [
           {
            "bin_end": 2542.9200931,
            "bin_start": 2540.100098,
            "count": 1
           },
           {
            "bin_end": 2545.7400881999997,
            "bin_start": 2542.9200931,
            "count": 0
           },
           {
            "bin_end": 2548.5600833,
            "bin_start": 2545.7400881999997,
            "count": 0
           },
           {
            "bin_end": 2551.3800784,
            "bin_start": 2548.5600833,
            "count": 0
           },
           {
            "bin_end": 2554.2000735,
            "bin_start": 2551.3800784,
            "count": 1
           },
           {
            "bin_end": 2557.0200686,
            "bin_start": 2554.2000735,
            "count": 0
           },
           {
            "bin_end": 2559.8400637,
            "bin_start": 2557.0200686,
            "count": 0
           },
           {
            "bin_end": 2562.6600588,
            "bin_start": 2559.8400637,
            "count": 0
           },
           {
            "bin_end": 2565.4800539,
            "bin_start": 2562.6600588,
            "count": 0
           },
           {
            "bin_end": 2568.300049,
            "bin_start": 2565.4800539,
            "count": 1
           }
          ],
          "max": "2568.300049",
          "min": "2540.100098",
          "nan_count": 1,
          "unique_count": 3
         }
        },
        {
         "dtype": "float64",
         "name": "Close",
         "stats": {
          "histogram": [
           {
            "bin_end": 2542.9200931,
            "bin_start": 2540.100098,
            "count": 1
           },
           {
            "bin_end": 2545.7400881999997,
            "bin_start": 2542.9200931,
            "count": 0
           },
           {
            "bin_end": 2548.5600833,
            "bin_start": 2545.7400881999997,
            "count": 0
           },
           {
            "bin_end": 2551.3800784,
            "bin_start": 2548.5600833,
            "count": 0
           },
           {
            "bin_end": 2554.2000735,
            "bin_start": 2551.3800784,
            "count": 1
           },
           {
            "bin_end": 2557.0200686,
            "bin_start": 2554.2000735,
            "count": 0
           },
           {
            "bin_end": 2559.8400637,
            "bin_start": 2557.0200686,
            "count": 0
           },
           {
            "bin_end": 2562.6600588,
            "bin_start": 2559.8400637,
            "count": 0
           },
           {
            "bin_end": 2565.4800539,
            "bin_start": 2562.6600588,
            "count": 0
           },
           {
            "bin_end": 2568.300049,
            "bin_start": 2565.4800539,
            "count": 1
           }
          ],
          "max": "2568.300049",
          "min": "2540.100098",
          "nan_count": 1,
          "unique_count": 3
         }
        },
        {
         "dtype": "float64",
         "name": "Adj Close",
         "stats": {
          "histogram": [
           {
            "bin_end": 2542.9200931,
            "bin_start": 2540.100098,
            "count": 1
           },
           {
            "bin_end": 2545.7400881999997,
            "bin_start": 2542.9200931,
            "count": 0
           },
           {
            "bin_end": 2548.5600833,
            "bin_start": 2545.7400881999997,
            "count": 0
           },
           {
            "bin_end": 2551.3800784,
            "bin_start": 2548.5600833,
            "count": 0
           },
           {
            "bin_end": 2554.2000735,
            "bin_start": 2551.3800784,
            "count": 1
           },
           {
            "bin_end": 2557.0200686,
            "bin_start": 2554.2000735,
            "count": 0
           },
           {
            "bin_end": 2559.8400637,
            "bin_start": 2557.0200686,
            "count": 0
           },
           {
            "bin_end": 2562.6600588,
            "bin_start": 2559.8400637,
            "count": 0
           },
           {
            "bin_end": 2565.4800539,
            "bin_start": 2562.6600588,
            "count": 0
           },
           {
            "bin_end": 2568.300049,
            "bin_start": 2565.4800539,
            "count": 1
           }
          ],
          "max": "2568.300049",
          "min": "2540.100098",
          "nan_count": 1,
          "unique_count": 3
         }
        },
        {
         "dtype": "float64",
         "name": "Volume",
         "stats": {
          "histogram": [
           {
            "bin_end": -0.4,
            "bin_start": -0.5,
            "count": 0
           },
           {
            "bin_end": -0.3,
            "bin_start": -0.4,
            "count": 0
           },
           {
            "bin_end": -0.19999999999999996,
            "bin_start": -0.3,
            "count": 0
           },
           {
            "bin_end": -0.09999999999999998,
            "bin_start": -0.19999999999999996,
            "count": 0
           },
           {
            "bin_end": 0,
            "bin_start": -0.09999999999999998,
            "count": 0
           },
           {
            "bin_end": 0.10000000000000009,
            "bin_start": 0,
            "count": 3
           },
           {
            "bin_end": 0.20000000000000007,
            "bin_start": 0.10000000000000009,
            "count": 0
           },
           {
            "bin_end": 0.30000000000000004,
            "bin_start": 0.20000000000000007,
            "count": 0
           },
           {
            "bin_end": 0.4,
            "bin_start": 0.30000000000000004,
            "count": 0
           },
           {
            "bin_end": 0.5,
            "bin_start": 0.4,
            "count": 0
           }
          ],
          "max": "0.0",
          "min": "0.0",
          "nan_count": 1,
          "unique_count": 1
         }
        },
        {
         "dtype": "float64",
         "name": "Diff",
         "stats": {
          "histogram": [
           {
            "bin_end": -0.4,
            "bin_start": -0.5,
            "count": 0
           },
           {
            "bin_end": -0.3,
            "bin_start": -0.4,
            "count": 0
           },
           {
            "bin_end": -0.19999999999999996,
            "bin_start": -0.3,
            "count": 0
           },
           {
            "bin_end": -0.09999999999999998,
            "bin_start": -0.19999999999999996,
            "count": 0
           },
           {
            "bin_end": 0,
            "bin_start": -0.09999999999999998,
            "count": 0
           },
           {
            "bin_end": 0.10000000000000009,
            "bin_start": 0,
            "count": 3
           },
           {
            "bin_end": 0.20000000000000007,
            "bin_start": 0.10000000000000009,
            "count": 0
           },
           {
            "bin_end": 0.30000000000000004,
            "bin_start": 0.20000000000000007,
            "count": 0
           },
           {
            "bin_end": 0.4,
            "bin_start": 0.30000000000000004,
            "count": 0
           },
           {
            "bin_end": 0.5,
            "bin_start": 0.4,
            "count": 0
           }
          ],
          "max": "0.0",
          "min": "0.0",
          "nan_count": 1,
          "unique_count": 1
         }
        },
        {
         "dtype": "int64",
         "name": "_deepnote_index_column"
        }
       ],
       "row_count": 4,
       "rows": [
        {
         "Adj Close": 2568.300049,
         "Close": 2568.300049,
         "Date": "12/31/86",
         "Diff": 0,
         "High": 2568.300049,
         "Low": 2568.300049,
         "Name": "HSI",
         "Open": 2568.300049,
         "Volume": 0,
         "_deepnote_index_column": 26638
        },
        {
         "Adj Close": "nan",
         "Close": "nan",
         "Date": "1/1/87",
         "Diff": "nan",
         "High": "nan",
         "Low": "nan",
         "Name": "HSI",
         "Open": "nan",
         "Volume": "nan",
         "_deepnote_index_column": 26639
        },
        {
         "Adj Close": 2540.100098,
         "Close": 2540.100098,
         "Date": "1/2/87",
         "Diff": 0,
         "High": 2540.100098,
         "Low": 2540.100098,
         "Name": "HSI",
         "Open": 2540.100098,
         "Volume": 0,
         "_deepnote_index_column": 26640
        },
        {
         "Adj Close": 2552.399902,
         "Close": 2552.399902,
         "Date": "1/5/87",
         "Diff": 0,
         "High": 2552.399902,
         "Low": 2552.399902,
         "Name": "HSI",
         "Open": 2552.399902,
         "Volume": 0,
         "_deepnote_index_column": 26641
        }
       ]
      },
      "text/html": [
       "<div>\n",
       "<style scoped>\n",
       "    .dataframe tbody tr th:only-of-type {\n",
       "        vertical-align: middle;\n",
       "    }\n",
       "\n",
       "    .dataframe tbody tr th {\n",
       "        vertical-align: top;\n",
       "    }\n",
       "\n",
       "    .dataframe thead th {\n",
       "        text-align: right;\n",
       "    }\n",
       "</style>\n",
       "<table border=\"1\" class=\"dataframe\">\n",
       "  <thead>\n",
       "    <tr style=\"text-align: right;\">\n",
       "      <th></th>\n",
       "      <th>Name</th>\n",
       "      <th>Date</th>\n",
       "      <th>Open</th>\n",
       "      <th>High</th>\n",
       "      <th>Low</th>\n",
       "      <th>Close</th>\n",
       "      <th>Adj Close</th>\n",
       "      <th>Volume</th>\n",
       "      <th>Diff</th>\n",
       "    </tr>\n",
       "  </thead>\n",
       "  <tbody>\n",
       "    <tr>\n",
       "      <th>26638</th>\n",
       "      <td>HSI</td>\n",
       "      <td>12/31/86</td>\n",
       "      <td>2568.300049</td>\n",
       "      <td>2568.300049</td>\n",
       "      <td>2568.300049</td>\n",
       "      <td>2568.300049</td>\n",
       "      <td>2568.300049</td>\n",
       "      <td>0.0</td>\n",
       "      <td>0.0</td>\n",
       "    </tr>\n",
       "    <tr>\n",
       "      <th>26639</th>\n",
       "      <td>HSI</td>\n",
       "      <td>1/1/87</td>\n",
       "      <td>NaN</td>\n",
       "      <td>NaN</td>\n",
       "      <td>NaN</td>\n",
       "      <td>NaN</td>\n",
       "      <td>NaN</td>\n",
       "      <td>NaN</td>\n",
       "      <td>NaN</td>\n",
       "    </tr>\n",
       "    <tr>\n",
       "      <th>26640</th>\n",
       "      <td>HSI</td>\n",
       "      <td>1/2/87</td>\n",
       "      <td>2540.100098</td>\n",
       "      <td>2540.100098</td>\n",
       "      <td>2540.100098</td>\n",
       "      <td>2540.100098</td>\n",
       "      <td>2540.100098</td>\n",
       "      <td>0.0</td>\n",
       "      <td>0.0</td>\n",
       "    </tr>\n",
       "    <tr>\n",
       "      <th>26641</th>\n",
       "      <td>HSI</td>\n",
       "      <td>1/5/87</td>\n",
       "      <td>2552.399902</td>\n",
       "      <td>2552.399902</td>\n",
       "      <td>2552.399902</td>\n",
       "      <td>2552.399902</td>\n",
       "      <td>2552.399902</td>\n",
       "      <td>0.0</td>\n",
       "      <td>0.0</td>\n",
       "    </tr>\n",
       "  </tbody>\n",
       "</table>\n",
       "</div>"
      ],
      "text/plain": [
       "      Name      Date         Open         High          Low        Close  \\\n",
       "26638  HSI  12/31/86  2568.300049  2568.300049  2568.300049  2568.300049   \n",
       "26639  HSI    1/1/87          NaN          NaN          NaN          NaN   \n",
       "26640  HSI    1/2/87  2540.100098  2540.100098  2540.100098  2540.100098   \n",
       "26641  HSI    1/5/87  2552.399902  2552.399902  2552.399902  2552.399902   \n",
       "\n",
       "         Adj Close  Volume  Diff  \n",
       "26638  2568.300049     0.0   0.0  \n",
       "26639          NaN     NaN   NaN  \n",
       "26640  2540.100098     0.0   0.0  \n",
       "26641  2552.399902     0.0   0.0  "
      ]
     },
     "execution_count": 18,
     "metadata": {},
     "output_type": "execute_result"
    }
   ],
   "source": [
    "dfhk.iloc[:4]"
   ]
  },
  {
   "cell_type": "code",
   "execution_count": 19,
   "metadata": {
    "cell_id": "3520eeaa01604845a6ca721cd4caa57c",
    "deepnote_cell_height": 352,
    "deepnote_cell_type": "code",
    "deepnote_to_be_reexecuted": false,
    "execution_millis": 24,
    "execution_start": 1648847263617,
    "source_hash": "9f87675",
    "tags": []
   },
   "outputs": [
    {
     "data": {
      "application/vnd.deepnote.dataframe.v3+json": {
       "column_count": 9,
       "columns": [
        {
         "dtype": "object",
         "name": "Name",
         "stats": {
          "categories": [
           {
            "count": 4,
            "name": "HSI"
           }
          ],
          "nan_count": 0,
          "unique_count": 1
         }
        },
        {
         "dtype": "object",
         "name": "Date",
         "stats": {
          "categories": [
           {
            "count": 1,
            "name": "12/31/86"
           },
           {
            "count": 1,
            "name": "1/1/87"
           },
           {
            "count": 2,
            "name": "2 others"
           }
          ],
          "nan_count": 0,
          "unique_count": 4
         }
        },
        {
         "dtype": "float64",
         "name": "Open",
         "stats": {
          "histogram": [
           {
            "bin_end": 2542.9200931,
            "bin_start": 2540.100098,
            "count": 1
           },
           {
            "bin_end": 2545.7400881999997,
            "bin_start": 2542.9200931,
            "count": 0
           },
           {
            "bin_end": 2548.5600833,
            "bin_start": 2545.7400881999997,
            "count": 0
           },
           {
            "bin_end": 2551.3800784,
            "bin_start": 2548.5600833,
            "count": 0
           },
           {
            "bin_end": 2554.2000735,
            "bin_start": 2551.3800784,
            "count": 1
           },
           {
            "bin_end": 2557.0200686,
            "bin_start": 2554.2000735,
            "count": 0
           },
           {
            "bin_end": 2559.8400637,
            "bin_start": 2557.0200686,
            "count": 0
           },
           {
            "bin_end": 2562.6600588,
            "bin_start": 2559.8400637,
            "count": 0
           },
           {
            "bin_end": 2565.4800539,
            "bin_start": 2562.6600588,
            "count": 0
           },
           {
            "bin_end": 2568.300049,
            "bin_start": 2565.4800539,
            "count": 1
           }
          ],
          "max": "2568.300049",
          "min": "2540.100098",
          "nan_count": 1,
          "unique_count": 3
         }
        },
        {
         "dtype": "float64",
         "name": "High",
         "stats": {
          "histogram": [
           {
            "bin_end": 2542.9200931,
            "bin_start": 2540.100098,
            "count": 1
           },
           {
            "bin_end": 2545.7400881999997,
            "bin_start": 2542.9200931,
            "count": 0
           },
           {
            "bin_end": 2548.5600833,
            "bin_start": 2545.7400881999997,
            "count": 0
           },
           {
            "bin_end": 2551.3800784,
            "bin_start": 2548.5600833,
            "count": 0
           },
           {
            "bin_end": 2554.2000735,
            "bin_start": 2551.3800784,
            "count": 1
           },
           {
            "bin_end": 2557.0200686,
            "bin_start": 2554.2000735,
            "count": 0
           },
           {
            "bin_end": 2559.8400637,
            "bin_start": 2557.0200686,
            "count": 0
           },
           {
            "bin_end": 2562.6600588,
            "bin_start": 2559.8400637,
            "count": 0
           },
           {
            "bin_end": 2565.4800539,
            "bin_start": 2562.6600588,
            "count": 0
           },
           {
            "bin_end": 2568.300049,
            "bin_start": 2565.4800539,
            "count": 1
           }
          ],
          "max": "2568.300049",
          "min": "2540.100098",
          "nan_count": 1,
          "unique_count": 3
         }
        },
        {
         "dtype": "float64",
         "name": "Low",
         "stats": {
          "histogram": [
           {
            "bin_end": 2542.9200931,
            "bin_start": 2540.100098,
            "count": 1
           },
           {
            "bin_end": 2545.7400881999997,
            "bin_start": 2542.9200931,
            "count": 0
           },
           {
            "bin_end": 2548.5600833,
            "bin_start": 2545.7400881999997,
            "count": 0
           },
           {
            "bin_end": 2551.3800784,
            "bin_start": 2548.5600833,
            "count": 0
           },
           {
            "bin_end": 2554.2000735,
            "bin_start": 2551.3800784,
            "count": 1
           },
           {
            "bin_end": 2557.0200686,
            "bin_start": 2554.2000735,
            "count": 0
           },
           {
            "bin_end": 2559.8400637,
            "bin_start": 2557.0200686,
            "count": 0
           },
           {
            "bin_end": 2562.6600588,
            "bin_start": 2559.8400637,
            "count": 0
           },
           {
            "bin_end": 2565.4800539,
            "bin_start": 2562.6600588,
            "count": 0
           },
           {
            "bin_end": 2568.300049,
            "bin_start": 2565.4800539,
            "count": 1
           }
          ],
          "max": "2568.300049",
          "min": "2540.100098",
          "nan_count": 1,
          "unique_count": 3
         }
        },
        {
         "dtype": "float64",
         "name": "Close",
         "stats": {
          "histogram": [
           {
            "bin_end": 2542.9200931,
            "bin_start": 2540.100098,
            "count": 1
           },
           {
            "bin_end": 2545.7400881999997,
            "bin_start": 2542.9200931,
            "count": 0
           },
           {
            "bin_end": 2548.5600833,
            "bin_start": 2545.7400881999997,
            "count": 0
           },
           {
            "bin_end": 2551.3800784,
            "bin_start": 2548.5600833,
            "count": 0
           },
           {
            "bin_end": 2554.2000735,
            "bin_start": 2551.3800784,
            "count": 1
           },
           {
            "bin_end": 2557.0200686,
            "bin_start": 2554.2000735,
            "count": 0
           },
           {
            "bin_end": 2559.8400637,
            "bin_start": 2557.0200686,
            "count": 0
           },
           {
            "bin_end": 2562.6600588,
            "bin_start": 2559.8400637,
            "count": 0
           },
           {
            "bin_end": 2565.4800539,
            "bin_start": 2562.6600588,
            "count": 0
           },
           {
            "bin_end": 2568.300049,
            "bin_start": 2565.4800539,
            "count": 1
           }
          ],
          "max": "2568.300049",
          "min": "2540.100098",
          "nan_count": 1,
          "unique_count": 3
         }
        },
        {
         "dtype": "float64",
         "name": "Adj Close",
         "stats": {
          "histogram": [
           {
            "bin_end": 2542.9200931,
            "bin_start": 2540.100098,
            "count": 1
           },
           {
            "bin_end": 2545.7400881999997,
            "bin_start": 2542.9200931,
            "count": 0
           },
           {
            "bin_end": 2548.5600833,
            "bin_start": 2545.7400881999997,
            "count": 0
           },
           {
            "bin_end": 2551.3800784,
            "bin_start": 2548.5600833,
            "count": 0
           },
           {
            "bin_end": 2554.2000735,
            "bin_start": 2551.3800784,
            "count": 1
           },
           {
            "bin_end": 2557.0200686,
            "bin_start": 2554.2000735,
            "count": 0
           },
           {
            "bin_end": 2559.8400637,
            "bin_start": 2557.0200686,
            "count": 0
           },
           {
            "bin_end": 2562.6600588,
            "bin_start": 2559.8400637,
            "count": 0
           },
           {
            "bin_end": 2565.4800539,
            "bin_start": 2562.6600588,
            "count": 0
           },
           {
            "bin_end": 2568.300049,
            "bin_start": 2565.4800539,
            "count": 1
           }
          ],
          "max": "2568.300049",
          "min": "2540.100098",
          "nan_count": 1,
          "unique_count": 3
         }
        },
        {
         "dtype": "float64",
         "name": "Volume",
         "stats": {
          "histogram": [
           {
            "bin_end": -0.4,
            "bin_start": -0.5,
            "count": 0
           },
           {
            "bin_end": -0.3,
            "bin_start": -0.4,
            "count": 0
           },
           {
            "bin_end": -0.19999999999999996,
            "bin_start": -0.3,
            "count": 0
           },
           {
            "bin_end": -0.09999999999999998,
            "bin_start": -0.19999999999999996,
            "count": 0
           },
           {
            "bin_end": 0,
            "bin_start": -0.09999999999999998,
            "count": 0
           },
           {
            "bin_end": 0.10000000000000009,
            "bin_start": 0,
            "count": 3
           },
           {
            "bin_end": 0.20000000000000007,
            "bin_start": 0.10000000000000009,
            "count": 0
           },
           {
            "bin_end": 0.30000000000000004,
            "bin_start": 0.20000000000000007,
            "count": 0
           },
           {
            "bin_end": 0.4,
            "bin_start": 0.30000000000000004,
            "count": 0
           },
           {
            "bin_end": 0.5,
            "bin_start": 0.4,
            "count": 0
           }
          ],
          "max": "0.0",
          "min": "0.0",
          "nan_count": 1,
          "unique_count": 1
         }
        },
        {
         "dtype": "float64",
         "name": "Diff",
         "stats": {
          "histogram": [
           {
            "bin_end": -0.4,
            "bin_start": -0.5,
            "count": 0
           },
           {
            "bin_end": -0.3,
            "bin_start": -0.4,
            "count": 0
           },
           {
            "bin_end": -0.19999999999999996,
            "bin_start": -0.3,
            "count": 0
           },
           {
            "bin_end": -0.09999999999999998,
            "bin_start": -0.19999999999999996,
            "count": 0
           },
           {
            "bin_end": 0,
            "bin_start": -0.09999999999999998,
            "count": 0
           },
           {
            "bin_end": 0.10000000000000009,
            "bin_start": 0,
            "count": 3
           },
           {
            "bin_end": 0.20000000000000007,
            "bin_start": 0.10000000000000009,
            "count": 0
           },
           {
            "bin_end": 0.30000000000000004,
            "bin_start": 0.20000000000000007,
            "count": 0
           },
           {
            "bin_end": 0.4,
            "bin_start": 0.30000000000000004,
            "count": 0
           },
           {
            "bin_end": 0.5,
            "bin_start": 0.4,
            "count": 0
           }
          ],
          "max": "0.0",
          "min": "0.0",
          "nan_count": 1,
          "unique_count": 1
         }
        },
        {
         "dtype": "int64",
         "name": "_deepnote_index_column"
        }
       ],
       "row_count": 4,
       "rows": [
        {
         "Adj Close": 2568.300049,
         "Close": 2568.300049,
         "Date": "12/31/86",
         "Diff": 0,
         "High": 2568.300049,
         "Low": 2568.300049,
         "Name": "HSI",
         "Open": 2568.300049,
         "Volume": 0,
         "_deepnote_index_column": 26638
        },
        {
         "Adj Close": "nan",
         "Close": "nan",
         "Date": "1/1/87",
         "Diff": "nan",
         "High": "nan",
         "Low": "nan",
         "Name": "HSI",
         "Open": "nan",
         "Volume": "nan",
         "_deepnote_index_column": 26639
        },
        {
         "Adj Close": 2540.100098,
         "Close": 2540.100098,
         "Date": "1/2/87",
         "Diff": 0,
         "High": 2540.100098,
         "Low": 2540.100098,
         "Name": "HSI",
         "Open": 2540.100098,
         "Volume": 0,
         "_deepnote_index_column": 26640
        },
        {
         "Adj Close": 2552.399902,
         "Close": 2552.399902,
         "Date": "1/5/87",
         "Diff": 0,
         "High": 2552.399902,
         "Low": 2552.399902,
         "Name": "HSI",
         "Open": 2552.399902,
         "Volume": 0,
         "_deepnote_index_column": 26641
        }
       ]
      },
      "text/html": [
       "<div>\n",
       "<style scoped>\n",
       "    .dataframe tbody tr th:only-of-type {\n",
       "        vertical-align: middle;\n",
       "    }\n",
       "\n",
       "    .dataframe tbody tr th {\n",
       "        vertical-align: top;\n",
       "    }\n",
       "\n",
       "    .dataframe thead th {\n",
       "        text-align: right;\n",
       "    }\n",
       "</style>\n",
       "<table border=\"1\" class=\"dataframe\">\n",
       "  <thead>\n",
       "    <tr style=\"text-align: right;\">\n",
       "      <th></th>\n",
       "      <th>Name</th>\n",
       "      <th>Date</th>\n",
       "      <th>Open</th>\n",
       "      <th>High</th>\n",
       "      <th>Low</th>\n",
       "      <th>Close</th>\n",
       "      <th>Adj Close</th>\n",
       "      <th>Volume</th>\n",
       "      <th>Diff</th>\n",
       "    </tr>\n",
       "  </thead>\n",
       "  <tbody>\n",
       "    <tr>\n",
       "      <th>26638</th>\n",
       "      <td>HSI</td>\n",
       "      <td>12/31/86</td>\n",
       "      <td>2568.300049</td>\n",
       "      <td>2568.300049</td>\n",
       "      <td>2568.300049</td>\n",
       "      <td>2568.300049</td>\n",
       "      <td>2568.300049</td>\n",
       "      <td>0.0</td>\n",
       "      <td>0.0</td>\n",
       "    </tr>\n",
       "    <tr>\n",
       "      <th>26639</th>\n",
       "      <td>HSI</td>\n",
       "      <td>1/1/87</td>\n",
       "      <td>NaN</td>\n",
       "      <td>NaN</td>\n",
       "      <td>NaN</td>\n",
       "      <td>NaN</td>\n",
       "      <td>NaN</td>\n",
       "      <td>NaN</td>\n",
       "      <td>NaN</td>\n",
       "    </tr>\n",
       "    <tr>\n",
       "      <th>26640</th>\n",
       "      <td>HSI</td>\n",
       "      <td>1/2/87</td>\n",
       "      <td>2540.100098</td>\n",
       "      <td>2540.100098</td>\n",
       "      <td>2540.100098</td>\n",
       "      <td>2540.100098</td>\n",
       "      <td>2540.100098</td>\n",
       "      <td>0.0</td>\n",
       "      <td>0.0</td>\n",
       "    </tr>\n",
       "    <tr>\n",
       "      <th>26641</th>\n",
       "      <td>HSI</td>\n",
       "      <td>1/5/87</td>\n",
       "      <td>2552.399902</td>\n",
       "      <td>2552.399902</td>\n",
       "      <td>2552.399902</td>\n",
       "      <td>2552.399902</td>\n",
       "      <td>2552.399902</td>\n",
       "      <td>0.0</td>\n",
       "      <td>0.0</td>\n",
       "    </tr>\n",
       "  </tbody>\n",
       "</table>\n",
       "</div>"
      ],
      "text/plain": [
       "      Name      Date         Open         High          Low        Close  \\\n",
       "26638  HSI  12/31/86  2568.300049  2568.300049  2568.300049  2568.300049   \n",
       "26639  HSI    1/1/87          NaN          NaN          NaN          NaN   \n",
       "26640  HSI    1/2/87  2540.100098  2540.100098  2540.100098  2540.100098   \n",
       "26641  HSI    1/5/87  2552.399902  2552.399902  2552.399902  2552.399902   \n",
       "\n",
       "         Adj Close  Volume  Diff  \n",
       "26638  2568.300049     0.0   0.0  \n",
       "26639          NaN     NaN   NaN  \n",
       "26640  2540.100098     0.0   0.0  \n",
       "26641  2552.399902     0.0   0.0  "
      ]
     },
     "execution_count": 19,
     "metadata": {},
     "output_type": "execute_result"
    }
   ],
   "source": [
    "dfhk.head(4)"
   ]
  },
  {
   "cell_type": "markdown",
   "metadata": {
    "cell_id": "0949119386b74c82b95d2327a06721f9",
    "deepnote_cell_height": 91.796875,
    "deepnote_cell_type": "markdown",
    "tags": []
   },
   "source": [
    "* Make a new column called \"Volatility\" (I'm not sure if this is the technical definition, so I'm just using the word informally) which is the \"Diff\" column divided by the \"Open\" column."
   ]
  },
  {
   "cell_type": "code",
   "execution_count": 21,
   "metadata": {
    "cell_id": "258a837c05db47ab921aa415cd675a92",
    "deepnote_cell_height": 81,
    "deepnote_cell_type": "code",
    "deepnote_to_be_reexecuted": false,
    "execution_millis": 2,
    "execution_start": 1648847296777,
    "source_hash": "eab8973e",
    "tags": []
   },
   "outputs": [],
   "source": [
    "dfhk[\"Volatility\"] = dfhk[\"Diff\"]/dfhk[\"Open\"]"
   ]
  },
  {
   "cell_type": "markdown",
   "metadata": {
    "cell_id": "d4900431a73d47c98b68c234f225b72d",
    "deepnote_cell_height": 69.390625,
    "deepnote_cell_type": "markdown",
    "deepnote_to_be_reexecuted": false,
    "execution_millis": 3,
    "execution_start": 1648774580741,
    "source_hash": "9ab7502d",
    "tags": []
   },
   "source": [
    "* Write a markdown cell explaining in words what the \"Volatility\" column represents."
   ]
  },
  {
   "cell_type": "markdown",
   "metadata": {
    "cell_id": "5346e52d30d54573a25f69925c3e649e",
    "deepnote_cell_height": 52.390625,
    "deepnote_cell_type": "markdown",
    "tags": []
   },
   "source": [
    "This \"Volatility\" column indicates what proportion of the opening value the stocks swung during the day."
   ]
  },
  {
   "cell_type": "markdown",
   "metadata": {
    "cell_id": "426fc966cd1a4d97a09cc72c3f426a3f",
    "deepnote_cell_height": 69.390625,
    "deepnote_cell_type": "markdown",
    "tags": []
   },
   "source": [
    "* Check the `value_counts` for this column using `dfhk[\"Volatility\"].value_counts()`.  It looks pretty useless."
   ]
  },
  {
   "cell_type": "code",
   "execution_count": 22,
   "metadata": {
    "cell_id": "fb5134e3cd604d08bd01c2beeb40375f",
    "deepnote_cell_height": 329.34375,
    "deepnote_cell_type": "code",
    "deepnote_output_heights": [
     232.34375
    ],
    "deepnote_to_be_reexecuted": false,
    "execution_millis": 348,
    "execution_start": 1648847342047,
    "source_hash": "c756bd70",
    "tags": []
   },
   "outputs": [
    {
     "data": {
      "text/plain": [
       "0.000000    576\n",
       "0.000772      2\n",
       "0.007531      2\n",
       "0.013289      2\n",
       "0.007642      2\n",
       "           ... \n",
       "0.006409      1\n",
       "0.009094      1\n",
       "0.017645      1\n",
       "0.010040      1\n",
       "0.007478      1\n",
       "Name: Volatility, Length: 7909, dtype: int64"
      ]
     },
     "execution_count": 22,
     "metadata": {},
     "output_type": "execute_result"
    }
   ],
   "source": [
    "dfhk[\"Volatility\"].value_counts()"
   ]
  },
  {
   "cell_type": "markdown",
   "metadata": {
    "cell_id": "ced69bf1e41d40379c2068ac09c8cc95",
    "deepnote_cell_height": 69.390625,
    "deepnote_cell_type": "markdown",
    "tags": []
   },
   "source": [
    "* But here's a nice trick.  If we compute `dfhk[\"Volatility\"].round(2)`, what is the result?"
   ]
  },
  {
   "cell_type": "markdown",
   "metadata": {
    "cell_id": "bd62354ce7c840cab8f3993a0b7b9c75",
    "deepnote_cell_height": 52.390625,
    "deepnote_cell_type": "markdown",
    "tags": []
   },
   "source": [
    "This rounds each to two decimal places."
   ]
  },
  {
   "cell_type": "code",
   "execution_count": 24,
   "metadata": {
    "cell_id": "59cd4b13740e4bc48b1141a11527ed8f",
    "deepnote_cell_height": 329.34375,
    "deepnote_cell_type": "code",
    "deepnote_output_heights": [
     232.34375
    ],
    "deepnote_to_be_reexecuted": false,
    "execution_millis": 307,
    "execution_start": 1648847376511,
    "source_hash": "518827ff",
    "tags": []
   },
   "outputs": [
    {
     "data": {
      "text/plain": [
       "26638    0.00\n",
       "26639     NaN\n",
       "26640    0.00\n",
       "26641    0.00\n",
       "26642    0.00\n",
       "         ... \n",
       "35383    0.02\n",
       "35384    0.01\n",
       "35385    0.01\n",
       "35386    0.01\n",
       "35387    0.01\n",
       "Name: Volatility, Length: 8750, dtype: float64"
      ]
     },
     "execution_count": 24,
     "metadata": {},
     "output_type": "execute_result"
    }
   ],
   "source": [
    "dfhk[\"Volatility\"].round(2)"
   ]
  },
  {
   "cell_type": "markdown",
   "metadata": {
    "cell_id": "1d1fcf0b35794b3eb9cad96278f68aa6",
    "deepnote_cell_height": 69.390625,
    "deepnote_cell_type": "markdown",
    "tags": []
   },
   "source": [
    "* Now apply `value_counts` to that rounded result."
   ]
  },
  {
   "cell_type": "code",
   "execution_count": 25,
   "metadata": {
    "cell_id": "8930cbb6e7434e5f98cbdf437124ebbe",
    "deepnote_cell_height": 386.921875,
    "deepnote_cell_type": "code",
    "deepnote_output_heights": [
     289.921875
    ],
    "deepnote_to_be_reexecuted": false,
    "execution_millis": 8,
    "execution_start": 1648847392583,
    "source_hash": "fe6f9b40",
    "tags": []
   },
   "outputs": [
    {
     "data": {
      "text/plain": [
       "0.01    4876\n",
       "0.02    1974\n",
       "0.00     826\n",
       "0.03     533\n",
       "0.04     160\n",
       "0.05      59\n",
       "0.06      28\n",
       "0.07      14\n",
       "0.08       9\n",
       "0.09       7\n",
       "0.11       2\n",
       "0.13       2\n",
       "0.17       1\n",
       "0.10       1\n",
       "Name: Volatility, dtype: int64"
      ]
     },
     "execution_count": 25,
     "metadata": {},
     "output_type": "execute_result"
    }
   ],
   "source": [
    "dfhk[\"Volatility\"].round(2).value_counts()"
   ]
  },
  {
   "cell_type": "markdown",
   "metadata": {
    "cell_id": "21a0fe1759694cd69c447c0c3b26ac42",
    "deepnote_cell_height": 91.796875,
    "deepnote_cell_type": "markdown",
    "tags": []
   },
   "source": [
    "* Answer the following quesiton in a markdown cell: How many days in the dataset did the Hong Kong stock market move 6%?"
   ]
  },
  {
   "cell_type": "markdown",
   "metadata": {
    "cell_id": "27f3d03cbb4b4343b68743960ea57267",
    "deepnote_cell_height": 52.390625,
    "deepnote_cell_type": "markdown",
    "tags": []
   },
   "source": [
    "According to this information, it seems like on 28 days, the stock market moved 6% during the day."
   ]
  },
  {
   "cell_type": "markdown",
   "metadata": {
    "created_in_deepnote_cell": true,
    "deepnote_cell_type": "markdown",
    "tags": []
   },
   "source": [
    "<a style='text-decoration:none;line-height:16px;display:flex;color:#5B5B62;padding:10px;justify-content:end;' href='https://deepnote.com?utm_source=created-in-deepnote-cell&projectId=cf652a31-e406-496a-8e3e-711506d9459a' target=\"_blank\">\n",
    "<img alt='Created in deepnote.com' style='display:inline;max-height:16px;margin:0px;margin-right:7.5px;' src='data:image/svg+xml;base64,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' > </img>\n",
    "Created in <span style='font-weight:600;margin-left:4px;'>Deepnote</span></a>"
   ]
  }
 ],
 "metadata": {
  "deepnote": {
   "is_reactive": false
  },
  "deepnote_execution_queue": [],
  "deepnote_notebook_id": "1857ec0d-5f77-4a08-b40b-9d3df562699a",
  "kernelspec": {
   "display_name": "Python 3 (ipykernel)",
   "language": "python",
   "name": "python3"
  },
  "language_info": {
   "codemirror_mode": {
    "name": "ipython",
    "version": 3
   },
   "file_extension": ".py",
   "mimetype": "text/x-python",
   "name": "python",
   "nbconvert_exporter": "python",
   "pygments_lexer": "ipython3",
   "version": "3.7.12"
  }
 },
 "nbformat": 4,
 "nbformat_minor": 4
}
