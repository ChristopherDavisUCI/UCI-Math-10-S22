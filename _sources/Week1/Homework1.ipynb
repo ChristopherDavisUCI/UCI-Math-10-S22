{
 "cells": [
  {
   "cell_type": "markdown",
   "metadata": {
    "cell_id": "da8dd2f3-c83a-4eed-95dd-f15cc108b701",
    "deepnote_cell_height": 193.1875,
    "deepnote_cell_type": "markdown",
    "tags": []
   },
   "source": [
    "# Homework 1\n",
    "\n",
    "(This file might not be updated, so go to Deepnote for the most current version.)\n",
    "\n",
    "Author: BLANK\n",
    "\n",
    "Collaborators: BLANK\n",
    "\n",
    "References: [BLANK](https://www.kaggle.com)"
   ]
  },
  {
   "cell_type": "markdown",
   "metadata": {
    "cell_id": "892d58c871f34ed9952b8e86c33176ce",
    "deepnote_cell_height": 380.78125,
    "deepnote_cell_type": "markdown",
    "tags": []
   },
   "source": [
    "## Question 1\n",
    "\n",
    "* Find a dataset on Kaggle that interests you and upload that to this project.  (Choose a file in csv format, and make sure it is under 100MB.  You will need to sign up for Kaggle to download the file.  Some datasets are more *clean* and hence easier to work with than others, so don't be afraid to switch datasets if you're having trouble.)\n",
    "\n",
    "* Replace the \"References: BLANK\" markdown link above with a link the dataset you found.  You should replace both the word \"BLANK\" as well as the url.\n",
    "\n",
    "* Change the name \"Homework 1\" above to a more descriptive title, related to your dataset.  Leave the pound symbol #, which says that this is a top-level *heading* in markdown.  (The headings like Question 1 are preceded by ##, which says they are second-level headings.)\n",
    "\n",
    "* Replace \"Author: BLANK\" with your name.\n",
    "\n",
    "* Replace \"Collaborators: BLANK\" with the names of any students you worked with.  (It's fine to share code in a group of up to 3 students, as long as you list everyone here.  You can even turn in the exact same answers, as long as the author/collaborator names are correct.)"
   ]
  },
  {
   "cell_type": "markdown",
   "metadata": {
    "cell_id": "a1b1e385ca1a443983a993140446111b",
    "deepnote_cell_height": 122.390625,
    "deepnote_cell_type": "markdown",
    "tags": []
   },
   "source": [
    "## Question 2\n",
    "\n",
    "* Ask a question about your dataset, and use the `describe()` or `info()` method to answer it.  (Your question and answer should be in markdown cells, while the code to answer the question should be in code cells.)"
   ]
  },
  {
   "cell_type": "markdown",
   "metadata": {
    "cell_id": "9f4a2002109f43c7aaf75c9c6452a21b",
    "deepnote_cell_height": 122.390625,
    "deepnote_cell_type": "markdown",
    "tags": []
   },
   "source": [
    "## Question 3\n",
    "\n",
    "* Ask a question about your dataset, and use the `value_counts()` method to answer it."
   ]
  },
  {
   "cell_type": "markdown",
   "metadata": {
    "cell_id": "453142c718564703be50fbbe9f43e2d5",
    "deepnote_cell_height": 122.390625,
    "deepnote_cell_type": "markdown",
    "tags": []
   },
   "source": [
    "## Question 4\n",
    "\n",
    "* Ask a question about your dataset, and use *Boolean indexing* to answer it."
   ]
  },
  {
   "cell_type": "markdown",
   "metadata": {
    "cell_id": "a6afef9ca7fd4cbd869300096d2b6068",
    "deepnote_cell_height": 122.390625,
    "deepnote_cell_type": "markdown",
    "tags": []
   },
   "source": [
    "## Question 5\n",
    "\n",
    "* Ask a question about your dataset, and use *list comprehension* to answer it."
   ]
  },
  {
   "cell_type": "markdown",
   "metadata": {
    "cell_id": "bd0f05aafc0949c29b29fe3bbfcdb29b",
    "deepnote_cell_height": 167.1875,
    "deepnote_cell_type": "markdown",
    "tags": []
   },
   "source": [
    "## Question 6\n",
    "\n",
    "* How many rows are there in your dataset?  Give your answer in two different formats: in a markdown cell, where you write out the answer, and in a code cell, where you use an f-string.  (For the f-string part, don't just type something like `num_rows = 10000`, instead use something like `num_rows = df.shape[?]`.)"
   ]
  },
  {
   "cell_type": "markdown",
   "metadata": {
    "cell_id": "62048a450f8d4feca7b2cc7df7f1caa0",
    "deepnote_cell_height": 455.953125,
    "deepnote_cell_type": "markdown",
    "tags": []
   },
   "source": [
    "## Question 7\n",
    "\n",
    "Rewrite the following code so it follows the DRY (Don't Repeat Yourself) principle and so that it uses f-strings.  Also move the code from this markdown cell into a code cell, so you can execute it.\n",
    "\n",
    "```\n",
    "col0 = df.iloc[:,0]\n",
    "print(\"There are \")\n",
    "print(col0.isna().sum())\n",
    "print(\"missing values in column 0\")\n",
    "\n",
    "col1 = df.iloc[:,1]\n",
    "print(\"There are \")\n",
    "print(col1.isna().sum())\n",
    "print(\"missing values in column 1\")\n",
    "\n",
    "col2 = df.iloc[:,2]\n",
    "print(\"There are \")\n",
    "print(col2.isna().sum())\n",
    "print(\"missing values in column 2\")\n",
    "```"
   ]
  },
  {
   "cell_type": "markdown",
   "metadata": {
    "cell_id": "0916d945b3ef4327b730a7b27646441d",
    "deepnote_cell_height": 130.796875,
    "deepnote_cell_type": "markdown",
    "tags": []
   },
   "source": [
    "## Submission\n",
    "\n",
    "To submit this homework, go to the Share option at the top right, and share the project to create a link, and then submit that link on Canvas."
   ]
  }
 ],
 "metadata": {
  "deepnote": {
   "is_reactive": false
  },
  "deepnote_execution_queue": [],
  "deepnote_notebook_id": "a1370835-9338-4810-998d-6574d58adab0",
  "kernelspec": {
   "display_name": "Python 3 (ipykernel)",
   "language": "python",
   "name": "python3"
  },
  "language_info": {
   "codemirror_mode": {
    "name": "ipython",
    "version": 3
   },
   "file_extension": ".py",
   "mimetype": "text/x-python",
   "name": "python",
   "nbconvert_exporter": "python",
   "pygments_lexer": "ipython3",
   "version": "3.7.12"
  }
 },
 "nbformat": 4,
 "nbformat_minor": 4
}
