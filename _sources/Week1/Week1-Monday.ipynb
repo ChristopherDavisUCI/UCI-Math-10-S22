{
 "cells": [
  {
   "cell_type": "markdown",
   "metadata": {
    "cell_id": "ff7e0ed5-198d-4e29-9bef-cc0ab14aea5f",
    "deepnote_cell_height": 82,
    "deepnote_cell_type": "markdown",
    "tags": []
   },
   "source": [
    "# Introduction to pandas"
   ]
  },
  {
   "cell_type": "markdown",
   "metadata": {},
   "source": [
    "## Making our own pandas DataFrame\n",
    "\n",
    "Usually we will import data (like from a csv file or from a Python library), but here we make our own data.  It starts out as a `list`."
   ]
  },
  {
   "cell_type": "code",
   "execution_count": 1,
   "metadata": {
    "cell_id": "c4de8d78a7144a8dabb7c2cab48ae6e3",
    "deepnote_cell_height": 81,
    "deepnote_cell_type": "code",
    "deepnote_to_be_reexecuted": false,
    "execution_millis": 5,
    "execution_start": 1648498867496,
    "source_hash": "ef94c4b5",
    "tags": []
   },
   "outputs": [],
   "source": [
    "sample_data = [[2,3],[5,1],[10,1]]"
   ]
  },
  {
   "cell_type": "code",
   "execution_count": 2,
   "metadata": {
    "cell_id": "271de4eee0d7483395426bd5c538564b",
    "deepnote_cell_height": 118.1875,
    "deepnote_cell_type": "code",
    "deepnote_output_heights": [
     21.1875
    ],
    "deepnote_to_be_reexecuted": false,
    "execution_millis": 17,
    "execution_start": 1648498876801,
    "source_hash": "8efe5c1",
    "tags": []
   },
   "outputs": [
    {
     "data": {
      "text/plain": [
       "list"
      ]
     },
     "execution_count": 2,
     "metadata": {},
     "output_type": "execute_result"
    }
   ],
   "source": [
    "type(sample_data)"
   ]
  },
  {
   "cell_type": "markdown",
   "metadata": {},
   "source": [
    "Counting in Python starts at 0."
   ]
  },
  {
   "cell_type": "code",
   "execution_count": 3,
   "metadata": {},
   "outputs": [
    {
     "data": {
      "text/plain": [
       "[2, 3]"
      ]
     },
     "execution_count": 3,
     "metadata": {},
     "output_type": "execute_result"
    }
   ],
   "source": [
    "sample_data[0]"
   ]
  },
  {
   "cell_type": "code",
   "execution_count": 4,
   "metadata": {
    "cell_id": "aa844024a632461c8fc6e528bb715f35",
    "deepnote_cell_height": 118.1875,
    "deepnote_cell_type": "code",
    "deepnote_output_heights": [
     21.1875
    ],
    "deepnote_to_be_reexecuted": false,
    "execution_millis": 3,
    "execution_start": 1648498951097,
    "source_hash": "4fa1f0ac",
    "tags": []
   },
   "outputs": [
    {
     "data": {
      "text/plain": [
       "[5, 1]"
      ]
     },
     "execution_count": 4,
     "metadata": {},
     "output_type": "execute_result"
    }
   ],
   "source": [
    "sample_data[1]"
   ]
  },
  {
   "cell_type": "code",
   "execution_count": 5,
   "metadata": {
    "cell_id": "f5678ac221644d1e8c1077fb3c4eae27",
    "deepnote_cell_height": 118.1875,
    "deepnote_cell_type": "code",
    "deepnote_output_heights": [
     21.1875
    ],
    "deepnote_to_be_reexecuted": false,
    "execution_millis": 9,
    "execution_start": 1648498972211,
    "source_hash": "931ca40d",
    "tags": []
   },
   "outputs": [
    {
     "data": {
      "text/plain": [
       "5"
      ]
     },
     "execution_count": 5,
     "metadata": {},
     "output_type": "execute_result"
    }
   ],
   "source": [
    "sample_data[1][0]"
   ]
  },
  {
   "cell_type": "markdown",
   "metadata": {},
   "source": [
    "Here we import the pandas library and give it the abbreviation `pd`.  In theory, we could use any abbreviation we want (or not use an abbreviation), but `pd` is the convention and we will always follow that convention."
   ]
  },
  {
   "cell_type": "code",
   "execution_count": 5,
   "metadata": {
    "cell_id": "739a5b34312b4c40b751bc5a249c965a",
    "deepnote_cell_height": 81,
    "deepnote_cell_type": "code",
    "deepnote_to_be_reexecuted": false,
    "execution_millis": 0,
    "execution_start": 1648499038373,
    "source_hash": "9b82ee11",
    "tags": []
   },
   "outputs": [],
   "source": [
    "import pandas as pd"
   ]
  },
  {
   "cell_type": "markdown",
   "metadata": {},
   "source": [
    "Here we convert `sample_data` into a pandas DataFrame."
   ]
  },
  {
   "cell_type": "code",
   "execution_count": 6,
   "metadata": {},
   "outputs": [
    {
     "data": {
      "text/html": [
       "<div>\n",
       "<style scoped>\n",
       "    .dataframe tbody tr th:only-of-type {\n",
       "        vertical-align: middle;\n",
       "    }\n",
       "\n",
       "    .dataframe tbody tr th {\n",
       "        vertical-align: top;\n",
       "    }\n",
       "\n",
       "    .dataframe thead th {\n",
       "        text-align: right;\n",
       "    }\n",
       "</style>\n",
       "<table border=\"1\" class=\"dataframe\">\n",
       "  <thead>\n",
       "    <tr style=\"text-align: right;\">\n",
       "      <th></th>\n",
       "      <th>0</th>\n",
       "      <th>1</th>\n",
       "    </tr>\n",
       "  </thead>\n",
       "  <tbody>\n",
       "    <tr>\n",
       "      <th>0</th>\n",
       "      <td>2</td>\n",
       "      <td>3</td>\n",
       "    </tr>\n",
       "    <tr>\n",
       "      <th>1</th>\n",
       "      <td>5</td>\n",
       "      <td>1</td>\n",
       "    </tr>\n",
       "    <tr>\n",
       "      <th>2</th>\n",
       "      <td>10</td>\n",
       "      <td>1</td>\n",
       "    </tr>\n",
       "  </tbody>\n",
       "</table>\n",
       "</div>"
      ],
      "text/plain": [
       "    0  1\n",
       "0   2  3\n",
       "1   5  1\n",
       "2  10  1"
      ]
     },
     "execution_count": 6,
     "metadata": {},
     "output_type": "execute_result"
    }
   ],
   "source": [
    "pd.DataFrame(sample_data)"
   ]
  },
  {
   "cell_type": "markdown",
   "metadata": {},
   "source": [
    "Notice how the rows are named 0,1,2 and the columns are named 0,1, by default.  Here we specify labels for the rows and the columns."
   ]
  },
  {
   "cell_type": "code",
   "execution_count": 7,
   "metadata": {
    "cell_id": "be2135a42c3d44648e3ca07580682779",
    "deepnote_cell_height": 81,
    "deepnote_cell_type": "code",
    "deepnote_to_be_reexecuted": false,
    "execution_millis": 6,
    "execution_start": 1648499508885,
    "source_hash": "6c679fc9",
    "tags": []
   },
   "outputs": [],
   "source": [
    "df = pd.DataFrame(sample_data, columns = [\"col0\",\"col1\"], index = [\"a\",\"b\",\"c\"])"
   ]
  },
  {
   "cell_type": "code",
   "execution_count": 8,
   "metadata": {
    "cell_id": "619717baa7164c8aac0036de8ef94980",
    "deepnote_cell_height": 311,
    "deepnote_cell_type": "code",
    "deepnote_to_be_reexecuted": false,
    "execution_millis": 5,
    "execution_start": 1648499510293,
    "source_hash": "f804c160",
    "tags": []
   },
   "outputs": [
    {
     "data": {
      "text/html": [
       "<div>\n",
       "<style scoped>\n",
       "    .dataframe tbody tr th:only-of-type {\n",
       "        vertical-align: middle;\n",
       "    }\n",
       "\n",
       "    .dataframe tbody tr th {\n",
       "        vertical-align: top;\n",
       "    }\n",
       "\n",
       "    .dataframe thead th {\n",
       "        text-align: right;\n",
       "    }\n",
       "</style>\n",
       "<table border=\"1\" class=\"dataframe\">\n",
       "  <thead>\n",
       "    <tr style=\"text-align: right;\">\n",
       "      <th></th>\n",
       "      <th>col0</th>\n",
       "      <th>col1</th>\n",
       "    </tr>\n",
       "  </thead>\n",
       "  <tbody>\n",
       "    <tr>\n",
       "      <th>a</th>\n",
       "      <td>2</td>\n",
       "      <td>3</td>\n",
       "    </tr>\n",
       "    <tr>\n",
       "      <th>b</th>\n",
       "      <td>5</td>\n",
       "      <td>1</td>\n",
       "    </tr>\n",
       "    <tr>\n",
       "      <th>c</th>\n",
       "      <td>10</td>\n",
       "      <td>1</td>\n",
       "    </tr>\n",
       "  </tbody>\n",
       "</table>\n",
       "</div>"
      ],
      "text/plain": [
       "   col0  col1\n",
       "a     2     3\n",
       "b     5     1\n",
       "c    10     1"
      ]
     },
     "execution_count": 8,
     "metadata": {},
     "output_type": "execute_result"
    }
   ],
   "source": [
    "df"
   ]
  },
  {
   "cell_type": "code",
   "execution_count": 9,
   "metadata": {
    "cell_id": "c37e86c7d9d14eabbe001a8dc4c28eca",
    "deepnote_cell_height": 118.1875,
    "deepnote_cell_type": "code",
    "deepnote_output_heights": [
     21.1875
    ],
    "deepnote_to_be_reexecuted": false,
    "execution_millis": 8,
    "execution_start": 1648499110422,
    "source_hash": "61a12043",
    "tags": []
   },
   "outputs": [
    {
     "data": {
      "text/plain": [
       "pandas.core.frame.DataFrame"
      ]
     },
     "execution_count": 9,
     "metadata": {},
     "output_type": "execute_result"
    }
   ],
   "source": [
    "type(df)"
   ]
  },
  {
   "cell_type": "markdown",
   "metadata": {},
   "source": [
    "Here is an example of getting the column named \"col0\"."
   ]
  },
  {
   "cell_type": "code",
   "execution_count": 10,
   "metadata": {
    "cell_id": "94f640de78f546dfa5ed21a98019b898",
    "deepnote_cell_height": 175.78125,
    "deepnote_cell_type": "code",
    "deepnote_output_heights": [
     78.78125
    ],
    "deepnote_to_be_reexecuted": false,
    "execution_millis": 8,
    "execution_start": 1648499233043,
    "source_hash": "ed496667",
    "tags": []
   },
   "outputs": [
    {
     "data": {
      "text/plain": [
       "a     2\n",
       "b     5\n",
       "c    10\n",
       "Name: col0, dtype: int64"
      ]
     },
     "execution_count": 10,
     "metadata": {},
     "output_type": "execute_result"
    }
   ],
   "source": [
    "df[\"col0\"]"
   ]
  },
  {
   "cell_type": "markdown",
   "metadata": {},
   "source": [
    "Here is an example of getting the entry in the \"b\" row and the \"col0\" column."
   ]
  },
  {
   "cell_type": "code",
   "execution_count": 11,
   "metadata": {
    "cell_id": "a334f299fa3c4013ae3ab6d9ecb26be3",
    "deepnote_cell_height": 118.1875,
    "deepnote_cell_type": "code",
    "deepnote_output_heights": [
     21.1875
    ],
    "deepnote_to_be_reexecuted": false,
    "execution_millis": 1,
    "execution_start": 1648499571096,
    "source_hash": "3a09e5f8",
    "tags": []
   },
   "outputs": [
    {
     "data": {
      "text/plain": [
       "5"
      ]
     },
     "execution_count": 11,
     "metadata": {},
     "output_type": "execute_result"
    }
   ],
   "source": [
    "df.loc[\"b\",\"col0\"]"
   ]
  },
  {
   "cell_type": "markdown",
   "metadata": {},
   "source": [
    "Above we used `sample_data[1][0]` to get this element.  We can do something similar in pandas, if we use `iloc` instead of `loc`."
   ]
  },
  {
   "cell_type": "code",
   "execution_count": 12,
   "metadata": {
    "cell_id": "267da736a7a5485d973b8a73bf601cd2",
    "deepnote_cell_height": 118.1875,
    "deepnote_cell_type": "code",
    "deepnote_output_heights": [
     21.1875
    ],
    "deepnote_to_be_reexecuted": false,
    "execution_millis": 9,
    "execution_start": 1648499592833,
    "source_hash": "18a8cac3",
    "tags": []
   },
   "outputs": [
    {
     "data": {
      "text/plain": [
       "5"
      ]
     },
     "execution_count": 12,
     "metadata": {},
     "output_type": "execute_result"
    }
   ],
   "source": [
    "df.iloc[1,0]"
   ]
  },
  {
   "cell_type": "markdown",
   "metadata": {},
   "source": [
    "## Importing data from a csv file\n",
    "\n",
    "Here is the more typical way to access data, in this case by importing data from a csv file."
   ]
  },
  {
   "cell_type": "code",
   "execution_count": 13,
   "metadata": {
    "cell_id": "93524b6789f044398f8b24186484105c",
    "deepnote_cell_height": 81,
    "deepnote_cell_type": "code",
    "deepnote_to_be_reexecuted": false,
    "execution_millis": 249,
    "execution_start": 1648499992845,
    "source_hash": "37bf2353",
    "tags": []
   },
   "outputs": [],
   "source": [
    "df = pd.read_csv(\"../data/indexData.csv\")"
   ]
  },
  {
   "cell_type": "markdown",
   "metadata": {},
   "source": [
    "This is a much bigger DataFrame than what we worked with above.  It has 112,457 rows and 8 columns."
   ]
  },
  {
   "cell_type": "code",
   "execution_count": 14,
   "metadata": {
    "cell_id": "1e1ab422ef3944c4a336575c7ec561c4",
    "deepnote_cell_height": 118.1875,
    "deepnote_cell_type": "code",
    "deepnote_output_heights": [
     21.1875
    ],
    "deepnote_to_be_reexecuted": false,
    "execution_millis": 368,
    "execution_start": 1648500038831,
    "source_hash": "14f60b8f",
    "tags": []
   },
   "outputs": [
    {
     "data": {
      "text/plain": [
       "(112457, 8)"
      ]
     },
     "execution_count": 14,
     "metadata": {},
     "output_type": "execute_result"
    }
   ],
   "source": [
    "df.shape"
   ]
  },
  {
   "cell_type": "code",
   "execution_count": 15,
   "metadata": {
    "cell_id": "d1bc6bcaa20941f0a214784c08184757",
    "deepnote_cell_height": 118.1875,
    "deepnote_cell_type": "code",
    "deepnote_output_heights": [
     21.1875
    ],
    "deepnote_to_be_reexecuted": false,
    "execution_millis": 14,
    "execution_start": 1648500067355,
    "source_hash": "8e5c591e",
    "tags": []
   },
   "outputs": [
    {
     "data": {
      "text/plain": [
       "7601.709961"
      ]
     },
     "execution_count": 15,
     "metadata": {},
     "output_type": "execute_result"
    }
   ],
   "source": [
    "df.iloc[10040,3]"
   ]
  },
  {
   "cell_type": "markdown",
   "metadata": {},
   "source": [
    "Here is getting the row at position 1 (remember that we start counting from 0).  As will often be the case, the default label for this row is the same as its position, so in this case we can use either `loc` or `iloc`."
   ]
  },
  {
   "cell_type": "code",
   "execution_count": 18,
   "metadata": {
    "cell_id": "55e66337a5c146ab8f13c9cc22d8ee11",
    "deepnote_cell_height": 271.78125,
    "deepnote_cell_type": "code",
    "deepnote_output_heights": [
     174.78125
    ],
    "deepnote_to_be_reexecuted": false,
    "execution_millis": 43,
    "execution_start": 1648500081819,
    "source_hash": "195d1b67",
    "tags": []
   },
   "outputs": [
    {
     "data": {
      "text/plain": [
       "Name                NYA\n",
       "Date             1/3/66\n",
       "Open         527.210022\n",
       "High         527.210022\n",
       "Low          527.210022\n",
       "Close        527.210022\n",
       "Adj Close    527.210022\n",
       "Volume              0.0\n",
       "Name: 1, dtype: object"
      ]
     },
     "execution_count": 18,
     "metadata": {},
     "output_type": "execute_result"
    }
   ],
   "source": [
    "df.iloc[1]"
   ]
  },
  {
   "cell_type": "code",
   "execution_count": 19,
   "metadata": {
    "cell_id": "d59693a5bb9649f7831cc3f56de95e49",
    "deepnote_cell_height": 271.78125,
    "deepnote_cell_type": "code",
    "deepnote_output_heights": [
     174.78125
    ],
    "deepnote_to_be_reexecuted": false,
    "execution_millis": 7,
    "execution_start": 1648500097960,
    "source_hash": "177f2ebf",
    "tags": []
   },
   "outputs": [
    {
     "data": {
      "text/plain": [
       "Name                NYA\n",
       "Date             1/3/66\n",
       "Open         527.210022\n",
       "High         527.210022\n",
       "Low          527.210022\n",
       "Close        527.210022\n",
       "Adj Close    527.210022\n",
       "Volume              0.0\n",
       "Name: 1, dtype: object"
      ]
     },
     "execution_count": 19,
     "metadata": {},
     "output_type": "execute_result"
    }
   ],
   "source": [
    "df.loc[1]"
   ]
  },
  {
   "cell_type": "markdown",
   "metadata": {},
   "source": [
    "Here are the first 5 rows of the DataFrame."
   ]
  },
  {
   "cell_type": "code",
   "execution_count": 20,
   "metadata": {
    "cell_id": "ec79e598ba79440d8d43236e63ad9b9a",
    "deepnote_cell_height": 393,
    "deepnote_cell_type": "code",
    "deepnote_to_be_reexecuted": false,
    "execution_millis": 29,
    "execution_start": 1648500108013,
    "source_hash": "c085b6ba",
    "tags": []
   },
   "outputs": [
    {
     "data": {
      "text/html": [
       "<div>\n",
       "<style scoped>\n",
       "    .dataframe tbody tr th:only-of-type {\n",
       "        vertical-align: middle;\n",
       "    }\n",
       "\n",
       "    .dataframe tbody tr th {\n",
       "        vertical-align: top;\n",
       "    }\n",
       "\n",
       "    .dataframe thead th {\n",
       "        text-align: right;\n",
       "    }\n",
       "</style>\n",
       "<table border=\"1\" class=\"dataframe\">\n",
       "  <thead>\n",
       "    <tr style=\"text-align: right;\">\n",
       "      <th></th>\n",
       "      <th>Name</th>\n",
       "      <th>Date</th>\n",
       "      <th>Open</th>\n",
       "      <th>High</th>\n",
       "      <th>Low</th>\n",
       "      <th>Close</th>\n",
       "      <th>Adj Close</th>\n",
       "      <th>Volume</th>\n",
       "    </tr>\n",
       "  </thead>\n",
       "  <tbody>\n",
       "    <tr>\n",
       "      <th>0</th>\n",
       "      <td>NYA</td>\n",
       "      <td>12/31/65</td>\n",
       "      <td>528.690002</td>\n",
       "      <td>528.690002</td>\n",
       "      <td>528.690002</td>\n",
       "      <td>528.690002</td>\n",
       "      <td>528.690002</td>\n",
       "      <td>0.0</td>\n",
       "    </tr>\n",
       "    <tr>\n",
       "      <th>1</th>\n",
       "      <td>NYA</td>\n",
       "      <td>1/3/66</td>\n",
       "      <td>527.210022</td>\n",
       "      <td>527.210022</td>\n",
       "      <td>527.210022</td>\n",
       "      <td>527.210022</td>\n",
       "      <td>527.210022</td>\n",
       "      <td>0.0</td>\n",
       "    </tr>\n",
       "    <tr>\n",
       "      <th>2</th>\n",
       "      <td>NYA</td>\n",
       "      <td>1/4/66</td>\n",
       "      <td>527.840027</td>\n",
       "      <td>527.840027</td>\n",
       "      <td>527.840027</td>\n",
       "      <td>527.840027</td>\n",
       "      <td>527.840027</td>\n",
       "      <td>0.0</td>\n",
       "    </tr>\n",
       "    <tr>\n",
       "      <th>3</th>\n",
       "      <td>NYA</td>\n",
       "      <td>1/5/66</td>\n",
       "      <td>531.119995</td>\n",
       "      <td>531.119995</td>\n",
       "      <td>531.119995</td>\n",
       "      <td>531.119995</td>\n",
       "      <td>531.119995</td>\n",
       "      <td>0.0</td>\n",
       "    </tr>\n",
       "    <tr>\n",
       "      <th>4</th>\n",
       "      <td>NYA</td>\n",
       "      <td>1/6/66</td>\n",
       "      <td>532.070007</td>\n",
       "      <td>532.070007</td>\n",
       "      <td>532.070007</td>\n",
       "      <td>532.070007</td>\n",
       "      <td>532.070007</td>\n",
       "      <td>0.0</td>\n",
       "    </tr>\n",
       "  </tbody>\n",
       "</table>\n",
       "</div>"
      ],
      "text/plain": [
       "  Name      Date        Open        High         Low       Close   Adj Close  \\\n",
       "0  NYA  12/31/65  528.690002  528.690002  528.690002  528.690002  528.690002   \n",
       "1  NYA    1/3/66  527.210022  527.210022  527.210022  527.210022  527.210022   \n",
       "2  NYA    1/4/66  527.840027  527.840027  527.840027  527.840027  527.840027   \n",
       "3  NYA    1/5/66  531.119995  531.119995  531.119995  531.119995  531.119995   \n",
       "4  NYA    1/6/66  532.070007  532.070007  532.070007  532.070007  532.070007   \n",
       "\n",
       "   Volume  \n",
       "0     0.0  \n",
       "1     0.0  \n",
       "2     0.0  \n",
       "3     0.0  \n",
       "4     0.0  "
      ]
     },
     "execution_count": 20,
     "metadata": {},
     "output_type": "execute_result"
    }
   ],
   "source": [
    "df.head()"
   ]
  },
  {
   "cell_type": "markdown",
   "metadata": {},
   "source": [
    "Here are a bunch of different ways to get the column labelled \"High\"."
   ]
  },
  {
   "cell_type": "code",
   "execution_count": 21,
   "metadata": {
    "cell_id": "35e1c0e6bd424ee9a02f158a4e02828c",
    "deepnote_cell_height": 329.375,
    "deepnote_cell_type": "code",
    "deepnote_output_heights": [
     232.375
    ],
    "deepnote_to_be_reexecuted": false,
    "execution_millis": 15,
    "execution_start": 1648500145952,
    "source_hash": "c179136b",
    "tags": []
   },
   "outputs": [
    {
     "data": {
      "text/plain": [
       "0          528.690002\n",
       "1          527.210022\n",
       "2          527.840027\n",
       "3          531.119995\n",
       "4          532.070007\n",
       "             ...     \n",
       "112452    1251.910034\n",
       "112453    1259.209961\n",
       "112454    1258.880005\n",
       "112455    1265.660034\n",
       "112456    1263.709961\n",
       "Name: High, Length: 112457, dtype: float64"
      ]
     },
     "execution_count": 21,
     "metadata": {},
     "output_type": "execute_result"
    }
   ],
   "source": [
    "df[\"High\"]"
   ]
  },
  {
   "cell_type": "code",
   "execution_count": 22,
   "metadata": {
    "cell_id": "737024f5acb543b9ba09976c96dcd72e",
    "deepnote_cell_height": 329.375,
    "deepnote_cell_type": "code",
    "deepnote_output_heights": [
     232.375
    ],
    "deepnote_to_be_reexecuted": false,
    "execution_millis": 26,
    "execution_start": 1648500171578,
    "source_hash": "957d740e",
    "tags": []
   },
   "outputs": [
    {
     "data": {
      "text/plain": [
       "0          528.690002\n",
       "1          527.210022\n",
       "2          527.840027\n",
       "3          531.119995\n",
       "4          532.070007\n",
       "             ...     \n",
       "112452    1251.910034\n",
       "112453    1259.209961\n",
       "112454    1258.880005\n",
       "112455    1265.660034\n",
       "112456    1263.709961\n",
       "Name: High, Length: 112457, dtype: float64"
      ]
     },
     "execution_count": 22,
     "metadata": {},
     "output_type": "execute_result"
    }
   ],
   "source": [
    "df.loc[:,\"High\"]"
   ]
  },
  {
   "cell_type": "markdown",
   "metadata": {},
   "source": [
    "We can't use `iloc` with \"High\" since \"High\" is not an integer."
   ]
  },
  {
   "cell_type": "code",
   "execution_count": 23,
   "metadata": {
    "cell_id": "e0e170a0263d46098093281862d34a65",
    "deepnote_cell_height": 163.390625,
    "deepnote_cell_type": "code",
    "deepnote_to_be_reexecuted": false,
    "execution_millis": 137,
    "execution_start": 1648500188500,
    "source_hash": "5d4e8dc2",
    "tags": [
     "output_scroll"
    ]
   },
   "outputs": [
    {
     "ename": "ValueError",
     "evalue": "Location based indexing can only have [integer, integer slice (START point is INCLUDED, END point is EXCLUDED), listlike of integers, boolean array] types",
     "output_type": "error",
     "traceback": [
      "\u001b[0;31m---------------------------------------------------------------------------\u001b[0m",
      "\u001b[0;31mValueError\u001b[0m                                Traceback (most recent call last)",
      "\u001b[0;32m~/miniconda3/envs/math10s22/lib/python3.7/site-packages/pandas/core/indexing.py\u001b[0m in \u001b[0;36m_has_valid_tuple\u001b[0;34m(self, key)\u001b[0m\n\u001b[1;32m    753\u001b[0m             \u001b[0;32mtry\u001b[0m\u001b[0;34m:\u001b[0m\u001b[0;34m\u001b[0m\u001b[0;34m\u001b[0m\u001b[0m\n\u001b[0;32m--> 754\u001b[0;31m                 \u001b[0mself\u001b[0m\u001b[0;34m.\u001b[0m\u001b[0m_validate_key\u001b[0m\u001b[0;34m(\u001b[0m\u001b[0mk\u001b[0m\u001b[0;34m,\u001b[0m \u001b[0mi\u001b[0m\u001b[0;34m)\u001b[0m\u001b[0;34m\u001b[0m\u001b[0;34m\u001b[0m\u001b[0m\n\u001b[0m\u001b[1;32m    755\u001b[0m             \u001b[0;32mexcept\u001b[0m \u001b[0mValueError\u001b[0m \u001b[0;32mas\u001b[0m \u001b[0merr\u001b[0m\u001b[0;34m:\u001b[0m\u001b[0;34m\u001b[0m\u001b[0;34m\u001b[0m\u001b[0m\n",
      "\u001b[0;32m~/miniconda3/envs/math10s22/lib/python3.7/site-packages/pandas/core/indexing.py\u001b[0m in \u001b[0;36m_validate_key\u001b[0;34m(self, key, axis)\u001b[0m\n\u001b[1;32m   1425\u001b[0m         \u001b[0;32melse\u001b[0m\u001b[0;34m:\u001b[0m\u001b[0;34m\u001b[0m\u001b[0;34m\u001b[0m\u001b[0m\n\u001b[0;32m-> 1426\u001b[0;31m             \u001b[0;32mraise\u001b[0m \u001b[0mValueError\u001b[0m\u001b[0;34m(\u001b[0m\u001b[0;34mf\"Can only index by location with a [{self._valid_types}]\"\u001b[0m\u001b[0;34m)\u001b[0m\u001b[0;34m\u001b[0m\u001b[0;34m\u001b[0m\u001b[0m\n\u001b[0m\u001b[1;32m   1427\u001b[0m \u001b[0;34m\u001b[0m\u001b[0m\n",
      "\u001b[0;31mValueError\u001b[0m: Can only index by location with a [integer, integer slice (START point is INCLUDED, END point is EXCLUDED), listlike of integers, boolean array]",
      "\nThe above exception was the direct cause of the following exception:\n",
      "\u001b[0;31mValueError\u001b[0m                                Traceback (most recent call last)",
      "\u001b[0;32m/var/folders/8j/gshrlmtn7dg4qtztj4d4t_w40000gn/T/ipykernel_56882/2234844422.py\u001b[0m in \u001b[0;36m<module>\u001b[0;34m\u001b[0m\n\u001b[0;32m----> 1\u001b[0;31m \u001b[0mdf\u001b[0m\u001b[0;34m.\u001b[0m\u001b[0miloc\u001b[0m\u001b[0;34m[\u001b[0m\u001b[0;34m:\u001b[0m\u001b[0;34m,\u001b[0m\u001b[0;34m\"High\"\u001b[0m\u001b[0;34m]\u001b[0m\u001b[0;34m\u001b[0m\u001b[0;34m\u001b[0m\u001b[0m\n\u001b[0m",
      "\u001b[0;32m~/miniconda3/envs/math10s22/lib/python3.7/site-packages/pandas/core/indexing.py\u001b[0m in \u001b[0;36m__getitem__\u001b[0;34m(self, key)\u001b[0m\n\u001b[1;32m    923\u001b[0m                 \u001b[0;32mwith\u001b[0m \u001b[0msuppress\u001b[0m\u001b[0;34m(\u001b[0m\u001b[0mKeyError\u001b[0m\u001b[0;34m,\u001b[0m \u001b[0mIndexError\u001b[0m\u001b[0;34m)\u001b[0m\u001b[0;34m:\u001b[0m\u001b[0;34m\u001b[0m\u001b[0;34m\u001b[0m\u001b[0m\n\u001b[1;32m    924\u001b[0m                     \u001b[0;32mreturn\u001b[0m \u001b[0mself\u001b[0m\u001b[0;34m.\u001b[0m\u001b[0mobj\u001b[0m\u001b[0;34m.\u001b[0m\u001b[0m_get_value\u001b[0m\u001b[0;34m(\u001b[0m\u001b[0;34m*\u001b[0m\u001b[0mkey\u001b[0m\u001b[0;34m,\u001b[0m \u001b[0mtakeable\u001b[0m\u001b[0;34m=\u001b[0m\u001b[0mself\u001b[0m\u001b[0;34m.\u001b[0m\u001b[0m_takeable\u001b[0m\u001b[0;34m)\u001b[0m\u001b[0;34m\u001b[0m\u001b[0;34m\u001b[0m\u001b[0m\n\u001b[0;32m--> 925\u001b[0;31m             \u001b[0;32mreturn\u001b[0m \u001b[0mself\u001b[0m\u001b[0;34m.\u001b[0m\u001b[0m_getitem_tuple\u001b[0m\u001b[0;34m(\u001b[0m\u001b[0mkey\u001b[0m\u001b[0;34m)\u001b[0m\u001b[0;34m\u001b[0m\u001b[0;34m\u001b[0m\u001b[0m\n\u001b[0m\u001b[1;32m    926\u001b[0m         \u001b[0;32melse\u001b[0m\u001b[0;34m:\u001b[0m\u001b[0;34m\u001b[0m\u001b[0;34m\u001b[0m\u001b[0m\n\u001b[1;32m    927\u001b[0m             \u001b[0;31m# we by definition only have the 0th axis\u001b[0m\u001b[0;34m\u001b[0m\u001b[0;34m\u001b[0m\u001b[0;34m\u001b[0m\u001b[0m\n",
      "\u001b[0;32m~/miniconda3/envs/math10s22/lib/python3.7/site-packages/pandas/core/indexing.py\u001b[0m in \u001b[0;36m_getitem_tuple\u001b[0;34m(self, tup)\u001b[0m\n\u001b[1;32m   1504\u001b[0m     \u001b[0;32mdef\u001b[0m \u001b[0m_getitem_tuple\u001b[0m\u001b[0;34m(\u001b[0m\u001b[0mself\u001b[0m\u001b[0;34m,\u001b[0m \u001b[0mtup\u001b[0m\u001b[0;34m:\u001b[0m \u001b[0mtuple\u001b[0m\u001b[0;34m)\u001b[0m\u001b[0;34m:\u001b[0m\u001b[0;34m\u001b[0m\u001b[0;34m\u001b[0m\u001b[0m\n\u001b[1;32m   1505\u001b[0m \u001b[0;34m\u001b[0m\u001b[0m\n\u001b[0;32m-> 1506\u001b[0;31m         \u001b[0mself\u001b[0m\u001b[0;34m.\u001b[0m\u001b[0m_has_valid_tuple\u001b[0m\u001b[0;34m(\u001b[0m\u001b[0mtup\u001b[0m\u001b[0;34m)\u001b[0m\u001b[0;34m\u001b[0m\u001b[0;34m\u001b[0m\u001b[0m\n\u001b[0m\u001b[1;32m   1507\u001b[0m         \u001b[0;32mwith\u001b[0m \u001b[0msuppress\u001b[0m\u001b[0;34m(\u001b[0m\u001b[0mIndexingError\u001b[0m\u001b[0;34m)\u001b[0m\u001b[0;34m:\u001b[0m\u001b[0;34m\u001b[0m\u001b[0;34m\u001b[0m\u001b[0m\n\u001b[1;32m   1508\u001b[0m             \u001b[0;32mreturn\u001b[0m \u001b[0mself\u001b[0m\u001b[0;34m.\u001b[0m\u001b[0m_getitem_lowerdim\u001b[0m\u001b[0;34m(\u001b[0m\u001b[0mtup\u001b[0m\u001b[0;34m)\u001b[0m\u001b[0;34m\u001b[0m\u001b[0;34m\u001b[0m\u001b[0m\n",
      "\u001b[0;32m~/miniconda3/envs/math10s22/lib/python3.7/site-packages/pandas/core/indexing.py\u001b[0m in \u001b[0;36m_has_valid_tuple\u001b[0;34m(self, key)\u001b[0m\n\u001b[1;32m    757\u001b[0m                     \u001b[0;34m\"Location based indexing can only have \"\u001b[0m\u001b[0;34m\u001b[0m\u001b[0;34m\u001b[0m\u001b[0m\n\u001b[1;32m    758\u001b[0m                     \u001b[0;34mf\"[{self._valid_types}] types\"\u001b[0m\u001b[0;34m\u001b[0m\u001b[0;34m\u001b[0m\u001b[0m\n\u001b[0;32m--> 759\u001b[0;31m                 ) from err\n\u001b[0m\u001b[1;32m    760\u001b[0m \u001b[0;34m\u001b[0m\u001b[0m\n\u001b[1;32m    761\u001b[0m     \u001b[0;32mdef\u001b[0m \u001b[0m_is_nested_tuple_indexer\u001b[0m\u001b[0;34m(\u001b[0m\u001b[0mself\u001b[0m\u001b[0;34m,\u001b[0m \u001b[0mtup\u001b[0m\u001b[0;34m:\u001b[0m \u001b[0mtuple\u001b[0m\u001b[0;34m)\u001b[0m \u001b[0;34m->\u001b[0m \u001b[0mbool\u001b[0m\u001b[0;34m:\u001b[0m\u001b[0;34m\u001b[0m\u001b[0;34m\u001b[0m\u001b[0m\n",
      "\u001b[0;31mValueError\u001b[0m: Location based indexing can only have [integer, integer slice (START point is INCLUDED, END point is EXCLUDED), listlike of integers, boolean array] types"
     ]
    }
   ],
   "source": [
    "df.iloc[:,\"High\"]"
   ]
  },
  {
   "cell_type": "code",
   "execution_count": 24,
   "metadata": {
    "cell_id": "112f76d295174db897df293f3186c90c",
    "deepnote_cell_height": 329.375,
    "deepnote_cell_type": "code",
    "deepnote_output_heights": [
     232.375
    ],
    "deepnote_to_be_reexecuted": false,
    "execution_millis": 30,
    "execution_start": 1648500215127,
    "source_hash": "f7b511a7",
    "tags": []
   },
   "outputs": [
    {
     "data": {
      "text/plain": [
       "0          528.690002\n",
       "1          527.210022\n",
       "2          527.840027\n",
       "3          531.119995\n",
       "4          532.070007\n",
       "             ...     \n",
       "112452    1251.910034\n",
       "112453    1259.209961\n",
       "112454    1258.880005\n",
       "112455    1265.660034\n",
       "112456    1263.709961\n",
       "Name: High, Length: 112457, dtype: float64"
      ]
     },
     "execution_count": 24,
     "metadata": {},
     "output_type": "execute_result"
    }
   ],
   "source": [
    "df.iloc[:,3]"
   ]
  },
  {
   "cell_type": "code",
   "execution_count": 25,
   "metadata": {
    "cell_id": "b5d070f7da1a45928592b89fa5bfe898",
    "deepnote_cell_height": 329.375,
    "deepnote_cell_type": "code",
    "deepnote_output_heights": [
     232.375
    ],
    "deepnote_to_be_reexecuted": false,
    "execution_millis": 28,
    "execution_start": 1648500229065,
    "source_hash": "a1d781ad",
    "tags": []
   },
   "outputs": [
    {
     "data": {
      "text/plain": [
       "0          528.690002\n",
       "1          527.210022\n",
       "2          527.840027\n",
       "3          531.119995\n",
       "4          532.070007\n",
       "             ...     \n",
       "112452    1251.910034\n",
       "112453    1259.209961\n",
       "112454    1258.880005\n",
       "112455    1265.660034\n",
       "112456    1263.709961\n",
       "Name: High, Length: 112457, dtype: float64"
      ]
     },
     "execution_count": 25,
     "metadata": {},
     "output_type": "execute_result"
    }
   ],
   "source": [
    "df.High"
   ]
  },
  {
   "cell_type": "markdown",
   "metadata": {},
   "source": [
    "## Preview of Boolean indexing\n",
    "\n",
    "First we find all the different values in the \"Name\" column."
   ]
  },
  {
   "cell_type": "code",
   "execution_count": 26,
   "metadata": {
    "cell_id": "8962577f1c3649cdb913f4613c5208f3",
    "deepnote_cell_height": 156.59375,
    "deepnote_cell_type": "code",
    "deepnote_output_heights": [
     59.59375
    ],
    "deepnote_to_be_reexecuted": false,
    "execution_millis": 26,
    "execution_start": 1648500294492,
    "source_hash": "3b4f0c78",
    "tags": []
   },
   "outputs": [
    {
     "data": {
      "text/plain": [
       "array(['NYA', 'IXIC', 'HSI', '000001.SS', 'GSPTSE', '399001.SZ', 'NSEI',\n",
       "       'GDAXI', 'KS11', 'SSMI', 'TWII', 'J203.JO', 'N225', 'N100'],\n",
       "      dtype=object)"
      ]
     },
     "execution_count": 26,
     "metadata": {},
     "output_type": "execute_result"
    }
   ],
   "source": [
    "df[\"Name\"].unique()"
   ]
  },
  {
   "cell_type": "markdown",
   "metadata": {},
   "source": [
    "The following is an example of what's called a Boolean Series."
   ]
  },
  {
   "cell_type": "code",
   "execution_count": 27,
   "metadata": {
    "cell_id": "0f17324429c940abb58829a93e830828",
    "deepnote_cell_height": 329.375,
    "deepnote_cell_type": "code",
    "deepnote_output_heights": [
     232.375
    ],
    "deepnote_to_be_reexecuted": false,
    "execution_millis": 56,
    "execution_start": 1648500333044,
    "source_hash": "36a6fb21",
    "tags": []
   },
   "outputs": [
    {
     "data": {
      "text/plain": [
       "0         False\n",
       "1         False\n",
       "2         False\n",
       "3         False\n",
       "4         False\n",
       "          ...  \n",
       "112452    False\n",
       "112453    False\n",
       "112454    False\n",
       "112455    False\n",
       "112456    False\n",
       "Name: Name, Length: 112457, dtype: bool"
      ]
     },
     "execution_count": 27,
     "metadata": {},
     "output_type": "execute_result"
    }
   ],
   "source": [
    "df[\"Name\"] == \"NSEI\""
   ]
  },
  {
   "cell_type": "markdown",
   "metadata": {},
   "source": [
    "If we plug that Boolean Series into `df[???]`, then we keep only the rows where the value is `True`.  In this case, we are keeping only the rows where the \"Name\" value is \"NSEI\"."
   ]
  },
  {
   "cell_type": "code",
   "execution_count": 28,
   "metadata": {
    "cell_id": "5b4c043a1f90498c9da26c425aa75023",
    "deepnote_cell_height": 616,
    "deepnote_cell_type": "code",
    "deepnote_to_be_reexecuted": false,
    "execution_millis": 67,
    "execution_start": 1648500341328,
    "source_hash": "1c25be24",
    "tags": []
   },
   "outputs": [
    {
     "data": {
      "text/html": [
       "<div>\n",
       "<style scoped>\n",
       "    .dataframe tbody tr th:only-of-type {\n",
       "        vertical-align: middle;\n",
       "    }\n",
       "\n",
       "    .dataframe tbody tr th {\n",
       "        vertical-align: top;\n",
       "    }\n",
       "\n",
       "    .dataframe thead th {\n",
       "        text-align: right;\n",
       "    }\n",
       "</style>\n",
       "<table border=\"1\" class=\"dataframe\">\n",
       "  <thead>\n",
       "    <tr style=\"text-align: right;\">\n",
       "      <th></th>\n",
       "      <th>Name</th>\n",
       "      <th>Date</th>\n",
       "      <th>Open</th>\n",
       "      <th>High</th>\n",
       "      <th>Low</th>\n",
       "      <th>Close</th>\n",
       "      <th>Adj Close</th>\n",
       "      <th>Volume</th>\n",
       "    </tr>\n",
       "  </thead>\n",
       "  <tbody>\n",
       "    <tr>\n",
       "      <th>58055</th>\n",
       "      <td>NSEI</td>\n",
       "      <td>9/17/07</td>\n",
       "      <td>4518.450195</td>\n",
       "      <td>4549.049805</td>\n",
       "      <td>4482.850098</td>\n",
       "      <td>4494.649902</td>\n",
       "      <td>4494.649902</td>\n",
       "      <td>0.0</td>\n",
       "    </tr>\n",
       "    <tr>\n",
       "      <th>58056</th>\n",
       "      <td>NSEI</td>\n",
       "      <td>9/18/07</td>\n",
       "      <td>4494.100098</td>\n",
       "      <td>4551.799805</td>\n",
       "      <td>4481.549805</td>\n",
       "      <td>4546.200195</td>\n",
       "      <td>4546.200195</td>\n",
       "      <td>0.0</td>\n",
       "    </tr>\n",
       "    <tr>\n",
       "      <th>58057</th>\n",
       "      <td>NSEI</td>\n",
       "      <td>9/19/07</td>\n",
       "      <td>4550.250000</td>\n",
       "      <td>4739.000000</td>\n",
       "      <td>4550.250000</td>\n",
       "      <td>4732.350098</td>\n",
       "      <td>4732.350098</td>\n",
       "      <td>0.0</td>\n",
       "    </tr>\n",
       "    <tr>\n",
       "      <th>58058</th>\n",
       "      <td>NSEI</td>\n",
       "      <td>9/20/07</td>\n",
       "      <td>4734.850098</td>\n",
       "      <td>4760.850098</td>\n",
       "      <td>4721.149902</td>\n",
       "      <td>4747.549805</td>\n",
       "      <td>4747.549805</td>\n",
       "      <td>0.0</td>\n",
       "    </tr>\n",
       "    <tr>\n",
       "      <th>58059</th>\n",
       "      <td>NSEI</td>\n",
       "      <td>9/21/07</td>\n",
       "      <td>4752.950195</td>\n",
       "      <td>4855.700195</td>\n",
       "      <td>4733.700195</td>\n",
       "      <td>4837.549805</td>\n",
       "      <td>4837.549805</td>\n",
       "      <td>0.0</td>\n",
       "    </tr>\n",
       "    <tr>\n",
       "      <th>...</th>\n",
       "      <td>...</td>\n",
       "      <td>...</td>\n",
       "      <td>...</td>\n",
       "      <td>...</td>\n",
       "      <td>...</td>\n",
       "      <td>...</td>\n",
       "      <td>...</td>\n",
       "      <td>...</td>\n",
       "    </tr>\n",
       "    <tr>\n",
       "      <th>61431</th>\n",
       "      <td>NSEI</td>\n",
       "      <td>5/25/21</td>\n",
       "      <td>15291.750000</td>\n",
       "      <td>15293.849610</td>\n",
       "      <td>15163.400390</td>\n",
       "      <td>15208.450200</td>\n",
       "      <td>15208.450200</td>\n",
       "      <td>441500.0</td>\n",
       "    </tr>\n",
       "    <tr>\n",
       "      <th>61432</th>\n",
       "      <td>NSEI</td>\n",
       "      <td>5/26/21</td>\n",
       "      <td>15257.049810</td>\n",
       "      <td>15319.900390</td>\n",
       "      <td>15194.950200</td>\n",
       "      <td>15301.450200</td>\n",
       "      <td>15301.450200</td>\n",
       "      <td>384000.0</td>\n",
       "    </tr>\n",
       "    <tr>\n",
       "      <th>61433</th>\n",
       "      <td>NSEI</td>\n",
       "      <td>5/27/21</td>\n",
       "      <td>15323.950200</td>\n",
       "      <td>15384.549810</td>\n",
       "      <td>15272.500000</td>\n",
       "      <td>15337.849610</td>\n",
       "      <td>15337.849610</td>\n",
       "      <td>0.0</td>\n",
       "    </tr>\n",
       "    <tr>\n",
       "      <th>61434</th>\n",
       "      <td>NSEI</td>\n",
       "      <td>5/28/21</td>\n",
       "      <td>15421.200200</td>\n",
       "      <td>15469.650390</td>\n",
       "      <td>15394.750000</td>\n",
       "      <td>15435.650390</td>\n",
       "      <td>15435.650390</td>\n",
       "      <td>468100.0</td>\n",
       "    </tr>\n",
       "    <tr>\n",
       "      <th>61435</th>\n",
       "      <td>NSEI</td>\n",
       "      <td>5/31/21</td>\n",
       "      <td>15437.750000</td>\n",
       "      <td>15606.349610</td>\n",
       "      <td>15374.000000</td>\n",
       "      <td>15582.799810</td>\n",
       "      <td>15582.799810</td>\n",
       "      <td>436000.0</td>\n",
       "    </tr>\n",
       "  </tbody>\n",
       "</table>\n",
       "<p>3381 rows × 8 columns</p>\n",
       "</div>"
      ],
      "text/plain": [
       "       Name     Date          Open          High           Low         Close  \\\n",
       "58055  NSEI  9/17/07   4518.450195   4549.049805   4482.850098   4494.649902   \n",
       "58056  NSEI  9/18/07   4494.100098   4551.799805   4481.549805   4546.200195   \n",
       "58057  NSEI  9/19/07   4550.250000   4739.000000   4550.250000   4732.350098   \n",
       "58058  NSEI  9/20/07   4734.850098   4760.850098   4721.149902   4747.549805   \n",
       "58059  NSEI  9/21/07   4752.950195   4855.700195   4733.700195   4837.549805   \n",
       "...     ...      ...           ...           ...           ...           ...   \n",
       "61431  NSEI  5/25/21  15291.750000  15293.849610  15163.400390  15208.450200   \n",
       "61432  NSEI  5/26/21  15257.049810  15319.900390  15194.950200  15301.450200   \n",
       "61433  NSEI  5/27/21  15323.950200  15384.549810  15272.500000  15337.849610   \n",
       "61434  NSEI  5/28/21  15421.200200  15469.650390  15394.750000  15435.650390   \n",
       "61435  NSEI  5/31/21  15437.750000  15606.349610  15374.000000  15582.799810   \n",
       "\n",
       "          Adj Close    Volume  \n",
       "58055   4494.649902       0.0  \n",
       "58056   4546.200195       0.0  \n",
       "58057   4732.350098       0.0  \n",
       "58058   4747.549805       0.0  \n",
       "58059   4837.549805       0.0  \n",
       "...             ...       ...  \n",
       "61431  15208.450200  441500.0  \n",
       "61432  15301.450200  384000.0  \n",
       "61433  15337.849610       0.0  \n",
       "61434  15435.650390  468100.0  \n",
       "61435  15582.799810  436000.0  \n",
       "\n",
       "[3381 rows x 8 columns]"
      ]
     },
     "execution_count": 28,
     "metadata": {},
     "output_type": "execute_result"
    }
   ],
   "source": [
    "# boolean indexing\n",
    "df[df[\"Name\"] == \"NSEI\"]"
   ]
  }
 ],
 "metadata": {
  "deepnote": {
   "is_reactive": false
  },
  "deepnote_execution_queue": [],
  "deepnote_notebook_id": "fe5b0820-4a6b-4001-8f5d-de22bdecbefa",
  "kernelspec": {
   "display_name": "Python 3 (ipykernel)",
   "language": "python",
   "name": "python3"
  },
  "language_info": {
   "codemirror_mode": {
    "name": "ipython",
    "version": 3
   },
   "file_extension": ".py",
   "mimetype": "text/x-python",
   "name": "python",
   "nbconvert_exporter": "python",
   "pygments_lexer": "ipython3",
   "version": "3.7.12"
  }
 },
 "nbformat": 4,
 "nbformat_minor": 4
}
