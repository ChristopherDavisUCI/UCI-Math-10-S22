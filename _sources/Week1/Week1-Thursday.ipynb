{
 "cells": [
  {
   "cell_type": "markdown",
   "metadata": {},
   "source": [
    "# Week 1 Thursday Discussion"
   ]
  },
  {
   "cell_type": "code",
   "execution_count": 7,
   "metadata": {
    "cell_id": "96001a99-ff47-4680-8e7b-652b3a958b37",
    "deepnote_cell_height": 81,
    "deepnote_cell_type": "code",
    "deepnote_to_be_reexecuted": false,
    "execution_millis": 2,
    "execution_start": 1648691840936,
    "source_hash": "9b82ee11",
    "tags": []
   },
   "outputs": [],
   "source": [
    "import pandas as pd"
   ]
  },
  {
   "cell_type": "markdown",
   "metadata": {
    "cell_id": "ab03afd858744cb0a475de7632272fcd",
    "deepnote_cell_height": 69.390625,
    "deepnote_cell_type": "markdown",
    "tags": []
   },
   "source": [
    "* Make the list `[0,-1,-4,-9,...,-81,-100]` using list comprehension."
   ]
  },
  {
   "cell_type": "code",
   "execution_count": 8,
   "metadata": {
    "cell_id": "f9be10969a614b9087085e02a470dd8b",
    "deepnote_cell_height": 118.1875,
    "deepnote_cell_type": "code",
    "deepnote_output_heights": [
     21.1875
    ],
    "deepnote_to_be_reexecuted": false,
    "execution_millis": 2,
    "execution_start": 1648691882481,
    "source_hash": "95e5d3f8",
    "tags": []
   },
   "outputs": [
    {
     "data": {
      "text/plain": [
       "[0, -1, -4, -9, -16, -25, -36, -49, -64, -81, -100]"
      ]
     },
     "execution_count": 8,
     "metadata": {},
     "output_type": "execute_result"
    }
   ],
   "source": [
    "[-x**2 for x in range(11)]"
   ]
  },
  {
   "cell_type": "markdown",
   "metadata": {
    "cell_id": "f7e6bee3914d4b01b15bc42a13f82b5d",
    "deepnote_cell_height": 172.578125,
    "deepnote_cell_type": "markdown",
    "tags": []
   },
   "source": [
    "* How can you print out the following lines using f-strings?  \n",
    "```\n",
    "the square of 1 is 1\n",
    "the square of 2 is 4\n",
    "...\n",
    "the square of 10 is 100\n",
    "```"
   ]
  },
  {
   "cell_type": "code",
   "execution_count": 9,
   "metadata": {
    "cell_id": "abd49ff4dc4e4bfba113bccc267bea26",
    "deepnote_cell_height": 326.640625,
    "deepnote_cell_type": "code",
    "deepnote_to_be_reexecuted": false,
    "execution_millis": 6,
    "execution_start": 1648692763840,
    "source_hash": "e4964468",
    "tags": []
   },
   "outputs": [
    {
     "name": "stdout",
     "output_type": "stream",
     "text": [
      "the square of 0 is 0\n",
      "the square of 1 is 1\n",
      "the square of 2 is 4\n",
      "the square of 3 is 9\n",
      "the square of 4 is 16\n",
      "the square of 5 is 25\n",
      "the square of 6 is 36\n",
      "the square of 7 is 49\n",
      "the square of 8 is 64\n",
      "the square of 9 is 81\n",
      "the square of 10 is 100\n"
     ]
    }
   ],
   "source": [
    "for x in range(11):\n",
    "    print(f\"the square of {x} is {x**2}\")"
   ]
  },
  {
   "cell_type": "code",
   "execution_count": 10,
   "metadata": {
    "cell_id": "5a8cd8e07e3349d1bac8ae793ed06092",
    "deepnote_cell_height": 99,
    "deepnote_cell_type": "code",
    "deepnote_to_be_reexecuted": false,
    "execution_millis": 3,
    "execution_start": 1648692795761,
    "source_hash": "e505f930",
    "tags": []
   },
   "outputs": [],
   "source": [
    "indexList = ['NYA', 'IXIC', 'HSI', '000001.SS', 'N225', 'N100', '399001.SZ',\n",
    "    'GSPTSE', 'NSEI', 'KS11', 'SSMI', 'TWII', 'J203.JO']"
   ]
  },
  {
   "cell_type": "markdown",
   "metadata": {
    "cell_id": "060eb85a848f4a82b5b54d38e9ff2658",
    "deepnote_cell_height": 91.796875,
    "deepnote_cell_type": "markdown",
    "tags": []
   },
   "source": [
    "* Using list comprehension, find the sublist of indexList containing all the indexes which have the number \"0\" in their abbreviation.  (Hint.  You can use `in`, just make sure \"0\" is a `str` and not an `int`.)"
   ]
  },
  {
   "cell_type": "code",
   "execution_count": 11,
   "metadata": {
    "cell_id": "17b4d937d9be41c081dd22fff951e8a5",
    "deepnote_cell_height": 118.1875,
    "deepnote_cell_type": "code",
    "deepnote_output_heights": [
     21.1875
    ],
    "deepnote_to_be_reexecuted": false,
    "execution_millis": 3,
    "execution_start": 1648692797743,
    "source_hash": "aee0736f",
    "tags": []
   },
   "outputs": [
    {
     "data": {
      "text/plain": [
       "['000001.SS', 'N100', '399001.SZ', 'J203.JO']"
      ]
     },
     "execution_count": 11,
     "metadata": {},
     "output_type": "execute_result"
    }
   ],
   "source": [
    "[x for x in indexList if \"0\" in x]"
   ]
  },
  {
   "cell_type": "markdown",
   "metadata": {
    "cell_id": "712c2cb4803849bc8a11835214b3df10",
    "deepnote_cell_height": 212.78125,
    "deepnote_cell_type": "markdown",
    "tags": []
   },
   "source": [
    "* Define `df` to be the pandas DataFrame from the attached `indexData.csv` file.  For how many values of `i` in `df.index` is `df.loc[i,\"Name\"]` equal to \"HSI\"?  Compute your answer using list comprehension of the form `temp_list = [??? for i in ??? if ???]` and then `len(temp_list)`.  (**Warning**.  This is not nearly as efficient as the next method.)\n",
    "* Compute the same value instead using Boolean indexing from [Monday's lecture](https://christopherdavisuci.github.io/UCI-Math-10-S22/Week1/Week1-Monday.html#preview-of-boolean-indexing) and then taking the length of the resulting DataFrame using `len`.\n",
    "* Compute the same value again using Boolean indexing, but this time using `???.shape[0]`.\n",
    "* Compute the same value by evaluating `df.Name.value_counts()`."
   ]
  },
  {
   "cell_type": "code",
   "execution_count": 12,
   "metadata": {
    "cell_id": "b6ae2e28299a4db1ab54b1fb5b7ac847",
    "deepnote_cell_height": 154.1875,
    "deepnote_cell_type": "code",
    "deepnote_output_heights": [
     21.1875
    ],
    "deepnote_to_be_reexecuted": false,
    "execution_millis": 2292,
    "execution_start": 1648693141233,
    "source_hash": "f78d188c",
    "tags": []
   },
   "outputs": [
    {
     "data": {
      "text/plain": [
       "8750"
      ]
     },
     "execution_count": 12,
     "metadata": {},
     "output_type": "execute_result"
    }
   ],
   "source": [
    "df = pd.read_csv(\"../data/indexData.csv\")\n",
    "temp_list = [i for i in df.index if df.loc[i,\"Name\"] == \"HSI\"]\n",
    "len(temp_list)"
   ]
  },
  {
   "cell_type": "code",
   "execution_count": 13,
   "metadata": {
    "cell_id": "b84386a17b374fad83e6e7b9aa5b5dc0",
    "deepnote_cell_height": 136.1875,
    "deepnote_cell_type": "code",
    "deepnote_output_heights": [
     21.1875
    ],
    "deepnote_to_be_reexecuted": false,
    "execution_millis": 24,
    "execution_start": 1648693195777,
    "source_hash": "b43ce80",
    "tags": []
   },
   "outputs": [
    {
     "data": {
      "text/plain": [
       "8750"
      ]
     },
     "execution_count": 13,
     "metadata": {},
     "output_type": "execute_result"
    }
   ],
   "source": [
    "df2 = df[df[\"Name\"] == \"HSI\"]\n",
    "len(df2)"
   ]
  },
  {
   "cell_type": "code",
   "execution_count": 14,
   "metadata": {
    "cell_id": "81f1c3441e384e3c881960dfd7fdff3c",
    "deepnote_cell_height": 118.1875,
    "deepnote_cell_type": "code",
    "deepnote_output_heights": [
     21.1875
    ],
    "deepnote_to_be_reexecuted": false,
    "execution_millis": 2,
    "execution_start": 1648693220455,
    "source_hash": "5a04d00b",
    "tags": []
   },
   "outputs": [
    {
     "data": {
      "text/plain": [
       "8750"
      ]
     },
     "execution_count": 14,
     "metadata": {},
     "output_type": "execute_result"
    }
   ],
   "source": [
    "df2.shape[0]"
   ]
  },
  {
   "cell_type": "code",
   "execution_count": 15,
   "metadata": {
    "cell_id": "7555d1ed31a341f0a53d217a8a840532",
    "deepnote_cell_height": 386.921875,
    "deepnote_cell_type": "code",
    "deepnote_output_heights": [
     289.921875
    ],
    "deepnote_to_be_reexecuted": false,
    "execution_millis": 24,
    "execution_start": 1648693235890,
    "source_hash": "d58e2ffe",
    "tags": []
   },
   "outputs": [
    {
     "data": {
      "text/plain": [
       "N225         14500\n",
       "NYA          13948\n",
       "IXIC         12690\n",
       "GSPTSE       10776\n",
       "HSI           8750\n",
       "GDAXI         8606\n",
       "SSMI          7830\n",
       "KS11          6181\n",
       "TWII          6010\n",
       "000001.SS     5963\n",
       "399001.SZ     5928\n",
       "N100          5507\n",
       "NSEI          3381\n",
       "J203.JO       2387\n",
       "Name: Name, dtype: int64"
      ]
     },
     "execution_count": 15,
     "metadata": {},
     "output_type": "execute_result"
    }
   ],
   "source": [
    "df.Name.value_counts()"
   ]
  },
  {
   "cell_type": "markdown",
   "metadata": {
    "cell_id": "df6874bc8022454483088d69690f0419",
    "deepnote_cell_height": 114.1875,
    "deepnote_cell_type": "markdown",
    "tags": []
   },
   "source": [
    "* For each index listed in the \"Name\" column from the `indexData.csv` file, print out the index's abbreviation together with how many times it occurs in the file.  Use f-strings, Boolean indexing, and the `unique` method.  For example, one line might be \"The index HSI occurs 8750 times\".  Check your answer using `df[\"Name\"].value_counts()`."
   ]
  },
  {
   "cell_type": "code",
   "execution_count": 16,
   "metadata": {
    "cell_id": "2561ea3efcf14c269ac71364969a2765",
    "deepnote_cell_height": 403.734375,
    "deepnote_cell_type": "code",
    "deepnote_to_be_reexecuted": false,
    "execution_millis": 369,
    "execution_start": 1648682694323,
    "source_hash": "69129acf",
    "tags": []
   },
   "outputs": [
    {
     "name": "stdout",
     "output_type": "stream",
     "text": [
      "The index NYA occurs 13948 times\n",
      "The index IXIC occurs 12690 times\n",
      "The index HSI occurs 8750 times\n",
      "The index 000001.SS occurs 5963 times\n",
      "The index GSPTSE occurs 10776 times\n",
      "The index 399001.SZ occurs 5928 times\n",
      "The index NSEI occurs 3381 times\n",
      "The index GDAXI occurs 8606 times\n",
      "The index KS11 occurs 6181 times\n",
      "The index SSMI occurs 7830 times\n",
      "The index TWII occurs 6010 times\n",
      "The index J203.JO occurs 2387 times\n",
      "The index N225 occurs 14500 times\n",
      "The index N100 occurs 5507 times\n"
     ]
    }
   ],
   "source": [
    "df = pd.read_csv(\"../data/indexData.csv\")\n",
    "for name in df.Name.unique():\n",
    "    print(f\"The index {name} occurs {len(df[df.Name==name])} times\")"
   ]
  },
  {
   "cell_type": "code",
   "execution_count": 17,
   "metadata": {
    "cell_id": "15bdece179524acea01d3985a0f34150",
    "deepnote_cell_height": 99,
    "deepnote_cell_type": "code",
    "deepnote_to_be_reexecuted": false,
    "execution_millis": 3,
    "execution_start": 1648682095805,
    "source_hash": "6e62e665",
    "tags": []
   },
   "outputs": [],
   "source": [
    "listA = range(30)\n",
    "listB = range(0,100,3)"
   ]
  },
  {
   "cell_type": "markdown",
   "metadata": {
    "cell_id": "033469aacf104c93921a9635815a80d5",
    "deepnote_cell_height": 94.796875,
    "deepnote_cell_type": "markdown",
    "tags": []
   },
   "source": [
    "* Using a for loop and `append`, make a list containing all the elements in `listA` which are not in `listB`.  (Hint.  You can use `not in`.)\n",
    "* Make the same list using list comprehension."
   ]
  },
  {
   "cell_type": "code",
   "execution_count": 18,
   "metadata": {
    "cell_id": "6e43a53ee1604bef84bebebafc4aa6fd",
    "deepnote_cell_height": 190.1875,
    "deepnote_cell_type": "code",
    "deepnote_output_heights": [
     21.1875
    ],
    "deepnote_to_be_reexecuted": false,
    "execution_millis": 1,
    "execution_start": 1648682097837,
    "source_hash": "c8e065bf",
    "tags": []
   },
   "outputs": [
    {
     "data": {
      "text/plain": [
       "[1, 2, 4, 5, 7, 8, 10, 11, 13, 14, 16, 17, 19, 20, 22, 23, 25, 26, 28, 29]"
      ]
     },
     "execution_count": 18,
     "metadata": {},
     "output_type": "execute_result"
    }
   ],
   "source": [
    "list_diff = []\n",
    "for x in listA:\n",
    "    if x not in listB:\n",
    "        list_diff.append(x)\n",
    "list_diff"
   ]
  },
  {
   "cell_type": "code",
   "execution_count": 19,
   "metadata": {
    "cell_id": "d62001b1fc5a43128d75735c976e4576",
    "deepnote_cell_height": 118.1875,
    "deepnote_cell_type": "code",
    "deepnote_output_heights": [
     21.1875
    ],
    "deepnote_to_be_reexecuted": false,
    "execution_millis": 14,
    "execution_start": 1648682118258,
    "source_hash": "666ec3d9",
    "tags": []
   },
   "outputs": [
    {
     "data": {
      "text/plain": [
       "[1, 2, 4, 5, 7, 8, 10, 11, 13, 14, 16, 17, 19, 20, 22, 23, 25, 26, 28, 29]"
      ]
     },
     "execution_count": 19,
     "metadata": {},
     "output_type": "execute_result"
    }
   ],
   "source": [
    "[x for x in listA if x not in listB]"
   ]
  },
  {
   "cell_type": "markdown",
   "metadata": {
    "cell_id": "1917718de84f4b1bbb79bf7ee1670872",
    "deepnote_cell_height": 91.796875,
    "deepnote_cell_type": "markdown",
    "tags": []
   },
   "source": [
    "* The above list `indexList` contains the abbreviation for every stock exchange in the `indexData.csv` file except one.  What is the missing stock exchange?  (Use the technique from the previous example.)"
   ]
  },
  {
   "cell_type": "code",
   "execution_count": 20,
   "metadata": {
    "cell_id": "2495e9c2cad544b690c2442a12054895",
    "deepnote_cell_height": 118.1875,
    "deepnote_cell_type": "code",
    "deepnote_output_heights": [
     21.1875
    ],
    "deepnote_to_be_reexecuted": false,
    "execution_millis": 15,
    "execution_start": 1648693346733,
    "source_hash": "82485e01",
    "tags": []
   },
   "outputs": [
    {
     "data": {
      "text/plain": [
       "['GDAXI']"
      ]
     },
     "execution_count": 20,
     "metadata": {},
     "output_type": "execute_result"
    }
   ],
   "source": [
    "[x for x in df.Name.unique() if x not in indexList]"
   ]
  }
 ],
 "metadata": {
  "deepnote": {
   "is_reactive": false
  },
  "deepnote_execution_queue": [],
  "deepnote_notebook_id": "ab5d46c6-004e-4d59-a321-55cc4be39b03",
  "kernelspec": {
   "display_name": "Python 3 (ipykernel)",
   "language": "python",
   "name": "python3"
  },
  "language_info": {
   "codemirror_mode": {
    "name": "ipython",
    "version": 3
   },
   "file_extension": ".py",
   "mimetype": "text/x-python",
   "name": "python",
   "nbconvert_exporter": "python",
   "pygments_lexer": "ipython3",
   "version": "3.7.12"
  }
 },
 "nbformat": 4,
 "nbformat_minor": 4
}
