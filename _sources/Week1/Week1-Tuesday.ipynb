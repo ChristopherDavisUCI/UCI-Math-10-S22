{
 "cells": [
  {
   "cell_type": "markdown",
   "metadata": {
    "cell_id": "805ec585-14d5-4448-9f5e-81d3230a051a",
    "deepnote_cell_height": 405.0625,
    "deepnote_cell_type": "markdown",
    "tags": []
   },
   "source": [
    "# Week 1 Tuesday Discussion\n",
    "## Meeting Times TuTh: 14:00-14:50 in ALP 3600\n",
    "## Office Hours: TBA but will be over Zoom\n",
    "## TA: Yasmeen Baki <ybaki@uci.edu>\n",
    "\n",
    "\n",
    "__Plan for Today:__\n",
    " - Introductions and time to find people to work with ~10 minutes\n",
    " - Overview of discussion policies ~5 minutes\n",
    " - Getting comfortable with Deepnote (e.g. markdown versus code cells)\n",
    " - Practice with uploading data, pandas, and getting started on Homework 1\n",
    "\n",
    "\n"
   ]
  },
  {
   "cell_type": "markdown",
   "metadata": {
    "cell_id": "59aef2f81b074877907cf9ebc81438e4",
    "deepnote_cell_height": 46,
    "deepnote_cell_type": "markdown",
    "tags": []
   },
   "source": [
    "***"
   ]
  },
  {
   "cell_type": "markdown",
   "metadata": {
    "cell_id": "1e6e248ca8ef47618adc2c5704da1c3b",
    "deepnote_cell_height": 562.765625,
    "deepnote_cell_type": "markdown",
    "tags": []
   },
   "source": [
    "## Overview of Our Discussion Sections\n",
    "\n",
    "__Purpose:__ Discussion sections are a time for you to reinforce the material that you have been learning in lecture throughout the week. My general plan is for us to try some exercises and go through some homework all together as a class, but also to leave time for individual work where Chupeng, Yufei, and I can go around answering specific questions you may have.\n",
    "\n",
    "__Quizzes:__ Quizzes will typically be during the last 20 minutes of our __Tuesday__ discussions. I will give a review of the quiz material during the first 30 minutes of our discussion on these days. \n",
    "\n",
    "__Office Hours:__ Office hours (and Ed Discussion!) are some of the best places to get fast help. Please do not ask detailed questions about your code right after or before our discussion times -- this can create serious delays for our class, and those right aftewards.\n",
    "\n",
    "__Email Policy:__ Email should be reserved for personal/private concerns (e.g. illness, family emergency, etc.), and not for homework or lecture related questions  (this is what Ed Discussion, office hours, and discussion is for). Further, please be patient and allow me about 24 hours to get back to your email; in particular, do not send me the same email multiple times.\n",
    "\n",
    "\n",
    "__General Advice and Style Guidelines:__ \n",
    " - Be as organized as possible when saving files on your computer; it helps to have a folder dedicated to this class. Don't save everything in your Downloads folder!\n",
    " - Use descriptive names for variables and files.\n",
    " - Use comments to make your code more readable to yourself and others.\n",
    " - Start early, start often\n",
    " - Ask for help!\n",
    "\n",
    "\n"
   ]
  },
  {
   "cell_type": "markdown",
   "metadata": {
    "cell_id": "3b7be9f6853d4e92bf1fd7776aff3660",
    "deepnote_cell_height": 248.390625,
    "deepnote_cell_type": "markdown",
    "tags": []
   },
   "source": [
    "## Getting Comfortable with Deepnote\n",
    "\n",
    "All of your work in Deepnote will be done in cells. This is an example of a _markdown_ cell. Markdown cells are used for displaying text, and in our class are an important part of answering homework questions each week. \n",
    "\n",
    "To create a markdown cell below this cell, we can first use the shortcut `⌘ + j` on Mac, or `ctrl + j` on PC to create a new code cell. Then, we can convert this new cell to a markdown cell by using the command `⌘+shift+m`, or `ctrl+shift+m`.\n",
    "\n",
    "<font color = red> __Exercise 1:__ </font> Using only keyboard shorcuts, create a new markdown cell below this one. Write a short self-introduction. Using the code from this exercise, change the font color of your self-introduction to blue."
   ]
  },
  {
   "cell_type": "markdown",
   "metadata": {
    "cell_id": "9bda62b26fca44e7b6c55b70d055ce9d",
    "deepnote_cell_height": 170.984375,
    "deepnote_cell_type": "markdown",
    "tags": []
   },
   "source": [
    "***\n",
    "<font color = blue> _Remember:_ </font> Markdown is subtly different on different sites, so what might work in Jupyter or GitHub, for example, might not work in Deepnote.\n",
    "\n",
    "\n",
    "It is worth taking a look at [this](https://docs.deepnote.com/features/keyboard-shortcuts) list of keyboard shortcuts for working in Deepnote. Spending the time to learn at least a few of these shortcuts now will make your life much easier going forward.\n",
    "\n",
    "<font color = red> __Exercise 2__: </font> Use the link above to learn the keyboard shortcut for deleting a cell. Using only keyboard shortcuts, create a new cell and then delete it."
   ]
  },
  {
   "cell_type": "code",
   "execution_count": null,
   "metadata": {
    "cell_id": "03b32cad35e840b784f7f42ba7df763c",
    "deepnote_cell_height": 190.1875,
    "deepnote_cell_type": "code",
    "deepnote_output_heights": [
     21.1875
    ],
    "deepnote_to_be_reexecuted": false,
    "execution_millis": 429,
    "execution_start": 1648512349513,
    "source_hash": "298bacea",
    "tags": []
   },
   "outputs": [
    {
     "data": {
      "text/plain": [
       "8"
      ]
     },
     "execution_count": 5,
     "metadata": {},
     "output_type": "execute_result"
    }
   ],
   "source": [
    "#This is an example of a comment inside of a code cell\n",
    "#Comments can be used to help people reading your code understand it better...\n",
    "#they can also be used to remove portions of code from being evaluated (think debugging!)\n",
    "\n",
    "2**3"
   ]
  },
  {
   "cell_type": "markdown",
   "metadata": {
    "cell_id": "1c5a271e225f416fb914429e3a0931a8",
    "deepnote_cell_height": 52.390625,
    "deepnote_cell_type": "markdown",
    "tags": []
   },
   "source": [
    "<font color = red> __Exercise 3:__</font> Create a new code cell and evaluate `2^3`. Is this different than what you would expect?\n"
   ]
  },
  {
   "cell_type": "markdown",
   "metadata": {
    "cell_id": "51ab0b7d9b57401196286e340168b5bb",
    "deepnote_cell_height": 154.1875,
    "deepnote_cell_type": "markdown",
    "tags": []
   },
   "source": [
    "***\n",
    "## Uploading files, pandas, and getting started on Homework 1\n",
    "\n",
    "<font color = red> __Exercise 4__: </font> Import pandas. Practice uploading a dataset by downloading the csv file found at [this](https://www.kaggle.com/datasets/sashankpillai/spotify-top-200-charts-20202021) link. This is a good time to practice giving your csv file a description name. Load it into this notebook using `df = pd.read_csv(...)`. Explore what `df.head()`, `df.columns`, and `df.shape` return."
   ]
  },
  {
   "cell_type": "code",
   "execution_count": 1,
   "metadata": {
    "cell_id": "0dde01354a344692a637575a61bee87a",
    "deepnote_cell_height": 447,
    "deepnote_cell_type": "code",
    "deepnote_to_be_reexecuted": false,
    "execution_millis": 724,
    "execution_start": 1648565289498,
    "source_hash": "e75a7e9a",
    "tags": []
   },
   "outputs": [
    {
     "data": {
      "text/html": [
       "<div>\n",
       "<style scoped>\n",
       "    .dataframe tbody tr th:only-of-type {\n",
       "        vertical-align: middle;\n",
       "    }\n",
       "\n",
       "    .dataframe tbody tr th {\n",
       "        vertical-align: top;\n",
       "    }\n",
       "\n",
       "    .dataframe thead th {\n",
       "        text-align: right;\n",
       "    }\n",
       "</style>\n",
       "<table border=\"1\" class=\"dataframe\">\n",
       "  <thead>\n",
       "    <tr style=\"text-align: right;\">\n",
       "      <th></th>\n",
       "      <th>Index</th>\n",
       "      <th>Highest Charting Position</th>\n",
       "      <th>Number of Times Charted</th>\n",
       "      <th>Week of Highest Charting</th>\n",
       "      <th>Song Name</th>\n",
       "      <th>Streams</th>\n",
       "      <th>Artist</th>\n",
       "      <th>Artist Followers</th>\n",
       "      <th>Song ID</th>\n",
       "      <th>Genre</th>\n",
       "      <th>...</th>\n",
       "      <th>Danceability</th>\n",
       "      <th>Energy</th>\n",
       "      <th>Loudness</th>\n",
       "      <th>Speechiness</th>\n",
       "      <th>Acousticness</th>\n",
       "      <th>Liveness</th>\n",
       "      <th>Tempo</th>\n",
       "      <th>Duration (ms)</th>\n",
       "      <th>Valence</th>\n",
       "      <th>Chord</th>\n",
       "    </tr>\n",
       "  </thead>\n",
       "  <tbody>\n",
       "    <tr>\n",
       "      <th>0</th>\n",
       "      <td>1</td>\n",
       "      <td>1</td>\n",
       "      <td>8</td>\n",
       "      <td>2021-07-23--2021-07-30</td>\n",
       "      <td>Beggin'</td>\n",
       "      <td>48,633,449</td>\n",
       "      <td>Måneskin</td>\n",
       "      <td>3377762.0</td>\n",
       "      <td>3Wrjm47oTz2sjIgck11l5e</td>\n",
       "      <td>['indie rock italiano', 'italian pop']</td>\n",
       "      <td>...</td>\n",
       "      <td>0.714</td>\n",
       "      <td>0.800</td>\n",
       "      <td>-4.808</td>\n",
       "      <td>0.0504</td>\n",
       "      <td>0.1270</td>\n",
       "      <td>0.3590</td>\n",
       "      <td>134.002</td>\n",
       "      <td>211560.0</td>\n",
       "      <td>0.589</td>\n",
       "      <td>B</td>\n",
       "    </tr>\n",
       "    <tr>\n",
       "      <th>1</th>\n",
       "      <td>2</td>\n",
       "      <td>2</td>\n",
       "      <td>3</td>\n",
       "      <td>2021-07-23--2021-07-30</td>\n",
       "      <td>STAY (with Justin Bieber)</td>\n",
       "      <td>47,248,719</td>\n",
       "      <td>The Kid LAROI</td>\n",
       "      <td>2230022.0</td>\n",
       "      <td>5HCyWlXZPP0y6Gqq8TgA20</td>\n",
       "      <td>['australian hip hop']</td>\n",
       "      <td>...</td>\n",
       "      <td>0.591</td>\n",
       "      <td>0.764</td>\n",
       "      <td>-5.484</td>\n",
       "      <td>0.0483</td>\n",
       "      <td>0.0383</td>\n",
       "      <td>0.1030</td>\n",
       "      <td>169.928</td>\n",
       "      <td>141806.0</td>\n",
       "      <td>0.478</td>\n",
       "      <td>C#/Db</td>\n",
       "    </tr>\n",
       "    <tr>\n",
       "      <th>2</th>\n",
       "      <td>3</td>\n",
       "      <td>1</td>\n",
       "      <td>11</td>\n",
       "      <td>2021-06-25--2021-07-02</td>\n",
       "      <td>good 4 u</td>\n",
       "      <td>40,162,559</td>\n",
       "      <td>Olivia Rodrigo</td>\n",
       "      <td>6266514.0</td>\n",
       "      <td>4ZtFanR9U6ndgddUvNcjcG</td>\n",
       "      <td>['pop']</td>\n",
       "      <td>...</td>\n",
       "      <td>0.563</td>\n",
       "      <td>0.664</td>\n",
       "      <td>-5.044</td>\n",
       "      <td>0.1540</td>\n",
       "      <td>0.3350</td>\n",
       "      <td>0.0849</td>\n",
       "      <td>166.928</td>\n",
       "      <td>178147.0</td>\n",
       "      <td>0.688</td>\n",
       "      <td>A</td>\n",
       "    </tr>\n",
       "    <tr>\n",
       "      <th>3</th>\n",
       "      <td>4</td>\n",
       "      <td>3</td>\n",
       "      <td>5</td>\n",
       "      <td>2021-07-02--2021-07-09</td>\n",
       "      <td>Bad Habits</td>\n",
       "      <td>37,799,456</td>\n",
       "      <td>Ed Sheeran</td>\n",
       "      <td>83293380.0</td>\n",
       "      <td>6PQ88X9TkUIAUIZJHW2upE</td>\n",
       "      <td>['pop', 'uk pop']</td>\n",
       "      <td>...</td>\n",
       "      <td>0.808</td>\n",
       "      <td>0.897</td>\n",
       "      <td>-3.712</td>\n",
       "      <td>0.0348</td>\n",
       "      <td>0.0469</td>\n",
       "      <td>0.3640</td>\n",
       "      <td>126.026</td>\n",
       "      <td>231041.0</td>\n",
       "      <td>0.591</td>\n",
       "      <td>B</td>\n",
       "    </tr>\n",
       "    <tr>\n",
       "      <th>4</th>\n",
       "      <td>5</td>\n",
       "      <td>5</td>\n",
       "      <td>1</td>\n",
       "      <td>2021-07-23--2021-07-30</td>\n",
       "      <td>INDUSTRY BABY (feat. Jack Harlow)</td>\n",
       "      <td>33,948,454</td>\n",
       "      <td>Lil Nas X</td>\n",
       "      <td>5473565.0</td>\n",
       "      <td>27NovPIUIRrOZoCHxABJwK</td>\n",
       "      <td>['lgbtq+ hip hop', 'pop rap']</td>\n",
       "      <td>...</td>\n",
       "      <td>0.736</td>\n",
       "      <td>0.704</td>\n",
       "      <td>-7.409</td>\n",
       "      <td>0.0615</td>\n",
       "      <td>0.0203</td>\n",
       "      <td>0.0501</td>\n",
       "      <td>149.995</td>\n",
       "      <td>212000.0</td>\n",
       "      <td>0.894</td>\n",
       "      <td>D#/Eb</td>\n",
       "    </tr>\n",
       "  </tbody>\n",
       "</table>\n",
       "<p>5 rows × 23 columns</p>\n",
       "</div>"
      ],
      "text/plain": [
       "   Index  Highest Charting Position  Number of Times Charted  \\\n",
       "0      1                          1                        8   \n",
       "1      2                          2                        3   \n",
       "2      3                          1                       11   \n",
       "3      4                          3                        5   \n",
       "4      5                          5                        1   \n",
       "\n",
       "  Week of Highest Charting                          Song Name     Streams  \\\n",
       "0   2021-07-23--2021-07-30                            Beggin'  48,633,449   \n",
       "1   2021-07-23--2021-07-30          STAY (with Justin Bieber)  47,248,719   \n",
       "2   2021-06-25--2021-07-02                           good 4 u  40,162,559   \n",
       "3   2021-07-02--2021-07-09                         Bad Habits  37,799,456   \n",
       "4   2021-07-23--2021-07-30  INDUSTRY BABY (feat. Jack Harlow)  33,948,454   \n",
       "\n",
       "           Artist  Artist Followers                 Song ID  \\\n",
       "0        Måneskin         3377762.0  3Wrjm47oTz2sjIgck11l5e   \n",
       "1   The Kid LAROI         2230022.0  5HCyWlXZPP0y6Gqq8TgA20   \n",
       "2  Olivia Rodrigo         6266514.0  4ZtFanR9U6ndgddUvNcjcG   \n",
       "3      Ed Sheeran        83293380.0  6PQ88X9TkUIAUIZJHW2upE   \n",
       "4       Lil Nas X         5473565.0  27NovPIUIRrOZoCHxABJwK   \n",
       "\n",
       "                                    Genre  ... Danceability Energy  Loudness  \\\n",
       "0  ['indie rock italiano', 'italian pop']  ...        0.714  0.800    -4.808   \n",
       "1                  ['australian hip hop']  ...        0.591  0.764    -5.484   \n",
       "2                                 ['pop']  ...        0.563  0.664    -5.044   \n",
       "3                       ['pop', 'uk pop']  ...        0.808  0.897    -3.712   \n",
       "4           ['lgbtq+ hip hop', 'pop rap']  ...        0.736  0.704    -7.409   \n",
       "\n",
       "   Speechiness  Acousticness  Liveness    Tempo  Duration (ms)  Valence  Chord  \n",
       "0       0.0504        0.1270    0.3590  134.002       211560.0    0.589      B  \n",
       "1       0.0483        0.0383    0.1030  169.928       141806.0    0.478  C#/Db  \n",
       "2       0.1540        0.3350    0.0849  166.928       178147.0    0.688      A  \n",
       "3       0.0348        0.0469    0.3640  126.026       231041.0    0.591      B  \n",
       "4       0.0615        0.0203    0.0501  149.995       212000.0    0.894  D#/Eb  \n",
       "\n",
       "[5 rows x 23 columns]"
      ]
     },
     "execution_count": 1,
     "metadata": {},
     "output_type": "execute_result"
    }
   ],
   "source": [
    "import pandas as pd\n",
    "\n",
    "df = pd.read_csv(\"../data/spotify_dataset.csv\",na_values = \" \")\n",
    "df.head()"
   ]
  },
  {
   "cell_type": "code",
   "execution_count": null,
   "metadata": {
    "cell_id": "1b1431cef7f943f9bbbe4bf4ef0eeeb7",
    "deepnote_cell_height": 233.359375,
    "deepnote_cell_type": "code",
    "deepnote_output_heights": [
     136.359375
    ],
    "deepnote_to_be_reexecuted": false,
    "execution_millis": 22,
    "execution_start": 1648565042582,
    "source_hash": "25d43fa0",
    "tags": []
   },
   "outputs": [
    {
     "data": {
      "text/plain": [
       "Index(['Index', 'Highest Charting Position', 'Number of Times Charted',\n",
       "       'Week of Highest Charting', 'Song Name', 'Streams', 'Artist',\n",
       "       'Artist Followers', 'Song ID', 'Genre', 'Release Date', 'Weeks Charted',\n",
       "       'Popularity', 'Danceability', 'Energy', 'Loudness', 'Speechiness',\n",
       "       'Acousticness', 'Liveness', 'Tempo', 'Duration (ms)', 'Valence',\n",
       "       'Chord'],\n",
       "      dtype='object')"
      ]
     },
     "execution_count": 2,
     "metadata": {},
     "output_type": "execute_result"
    }
   ],
   "source": [
    "df.columns"
   ]
  },
  {
   "cell_type": "code",
   "execution_count": null,
   "metadata": {
    "cell_id": "69e05715ae4143e3b7c07f46bcb631c3",
    "deepnote_cell_height": 118.1875,
    "deepnote_cell_type": "code",
    "deepnote_output_heights": [
     21.1875
    ],
    "deepnote_to_be_reexecuted": false,
    "execution_millis": 3,
    "execution_start": 1648565045202,
    "source_hash": "14f60b8f",
    "tags": []
   },
   "outputs": [
    {
     "data": {
      "text/plain": [
       "(1556, 23)"
      ]
     },
     "execution_count": 3,
     "metadata": {},
     "output_type": "execute_result"
    }
   ],
   "source": [
    "df.shape"
   ]
  },
  {
   "cell_type": "markdown",
   "metadata": {
    "cell_id": "280962bd9854497a822f21fb378d05da",
    "deepnote_cell_height": 74.796875,
    "deepnote_cell_type": "markdown",
    "deepnote_to_be_reexecuted": false,
    "execution_millis": 179,
    "execution_start": 1648513554751,
    "source_hash": "3d4a5450",
    "tags": []
   },
   "source": [
    "<font color = red> __Exercise 5__: </font> Use `info()` to see what data is stored as numerically; then use `describe()` to find out the average number of a times a song in the dataset has charted. Write your answers to these questions in a markdown cell."
   ]
  },
  {
   "cell_type": "code",
   "execution_count": null,
   "metadata": {
    "cell_id": "ffa81cf99dbb49a4aa250eae0e174234",
    "deepnote_cell_height": 682.859375,
    "deepnote_cell_type": "code",
    "deepnote_to_be_reexecuted": false,
    "execution_millis": 11,
    "execution_start": 1648565295883,
    "source_hash": "de1e323c",
    "tags": []
   },
   "outputs": [
    {
     "name": "stdout",
     "output_type": "stream",
     "text": [
      "<class 'pandas.core.frame.DataFrame'>\n",
      "RangeIndex: 1556 entries, 0 to 1555\n",
      "Data columns (total 23 columns):\n",
      " #   Column                     Non-Null Count  Dtype  \n",
      "---  ------                     --------------  -----  \n",
      " 0   Index                      1556 non-null   int64  \n",
      " 1   Highest Charting Position  1556 non-null   int64  \n",
      " 2   Number of Times Charted    1556 non-null   int64  \n",
      " 3   Week of Highest Charting   1556 non-null   object \n",
      " 4   Song Name                  1556 non-null   object \n",
      " 5   Streams                    1556 non-null   object \n",
      " 6   Artist                     1556 non-null   object \n",
      " 7   Artist Followers           1545 non-null   float64\n",
      " 8   Song ID                    1545 non-null   object \n",
      " 9   Genre                      1545 non-null   object \n",
      " 10  Release Date               1545 non-null   object \n",
      " 11  Weeks Charted              1556 non-null   object \n",
      " 12  Popularity                 1545 non-null   float64\n",
      " 13  Danceability               1545 non-null   float64\n",
      " 14  Energy                     1545 non-null   float64\n",
      " 15  Loudness                   1545 non-null   float64\n",
      " 16  Speechiness                1545 non-null   float64\n",
      " 17  Acousticness               1545 non-null   float64\n",
      " 18  Liveness                   1545 non-null   float64\n",
      " 19  Tempo                      1545 non-null   float64\n",
      " 20  Duration (ms)              1545 non-null   float64\n",
      " 21  Valence                    1545 non-null   float64\n",
      " 22  Chord                      1545 non-null   object \n",
      "dtypes: float64(11), int64(3), object(9)\n",
      "memory usage: 279.7+ KB\n"
     ]
    }
   ],
   "source": [
    "df.info()"
   ]
  },
  {
   "cell_type": "code",
   "execution_count": null,
   "metadata": {
    "cell_id": "21d3373af71f42b8ba61397661a037ef",
    "deepnote_cell_height": 516,
    "deepnote_cell_type": "code",
    "deepnote_to_be_reexecuted": false,
    "execution_millis": 22,
    "execution_start": 1648513616078,
    "source_hash": "f88152d9",
    "tags": []
   },
   "outputs": [
    {
     "data": {
      "application/vnd.deepnote.dataframe.v3+json": {
       "column_count": 3,
       "columns": [
        {
         "dtype": "float64",
         "name": "Index",
         "stats": {
          "histogram": [
           {
            "bin_end": 156.5,
            "bin_start": 1,
            "count": 1
           },
           {
            "bin_end": 312,
            "bin_start": 156.5,
            "count": 0
           },
           {
            "bin_end": 467.5,
            "bin_start": 312,
            "count": 2
           },
           {
            "bin_end": 623,
            "bin_start": 467.5,
            "count": 0
           },
           {
            "bin_end": 778.5,
            "bin_start": 623,
            "count": 0
           },
           {
            "bin_end": 934,
            "bin_start": 778.5,
            "count": 2
           },
           {
            "bin_end": 1089.5,
            "bin_start": 934,
            "count": 0
           },
           {
            "bin_end": 1245,
            "bin_start": 1089.5,
            "count": 1
           },
           {
            "bin_end": 1400.5,
            "bin_start": 1245,
            "count": 0
           },
           {
            "bin_end": 1556,
            "bin_start": 1400.5,
            "count": 2
           }
          ],
          "max": "1556.0",
          "min": "1.0",
          "nan_count": 0,
          "unique_count": 6
         }
        },
        {
         "dtype": "float64",
         "name": "Highest Charting Position",
         "stats": {
          "histogram": [
           {
            "bin_end": 156.5,
            "bin_start": 1,
            "count": 6
           },
           {
            "bin_end": 312,
            "bin_start": 156.5,
            "count": 1
           },
           {
            "bin_end": 467.5,
            "bin_start": 312,
            "count": 0
           },
           {
            "bin_end": 623,
            "bin_start": 467.5,
            "count": 0
           },
           {
            "bin_end": 778.5,
            "bin_start": 623,
            "count": 0
           },
           {
            "bin_end": 934,
            "bin_start": 778.5,
            "count": 0
           },
           {
            "bin_end": 1089.5,
            "bin_start": 934,
            "count": 0
           },
           {
            "bin_end": 1245,
            "bin_start": 1089.5,
            "count": 0
           },
           {
            "bin_end": 1400.5,
            "bin_start": 1245,
            "count": 0
           },
           {
            "bin_end": 1556,
            "bin_start": 1400.5,
            "count": 1
           }
          ],
          "max": "1556.0",
          "min": "1.0",
          "nan_count": 0,
          "unique_count": 8
         }
        },
        {
         "dtype": "float64",
         "name": "Number of Times Charted",
         "stats": {
          "histogram": [
           {
            "bin_end": 156.5,
            "bin_start": 1,
            "count": 7
           },
           {
            "bin_end": 312,
            "bin_start": 156.5,
            "count": 0
           },
           {
            "bin_end": 467.5,
            "bin_start": 312,
            "count": 0
           },
           {
            "bin_end": 623,
            "bin_start": 467.5,
            "count": 0
           },
           {
            "bin_end": 778.5,
            "bin_start": 623,
            "count": 0
           },
           {
            "bin_end": 934,
            "bin_start": 778.5,
            "count": 0
           },
           {
            "bin_end": 1089.5,
            "bin_start": 934,
            "count": 0
           },
           {
            "bin_end": 1245,
            "bin_start": 1089.5,
            "count": 0
           },
           {
            "bin_end": 1400.5,
            "bin_start": 1245,
            "count": 0
           },
           {
            "bin_end": 1556,
            "bin_start": 1400.5,
            "count": 1
           }
          ],
          "max": "1556.0",
          "min": "1.0",
          "nan_count": 0,
          "unique_count": 7
         }
        },
        {
         "dtype": "object",
         "name": "_deepnote_index_column"
        }
       ],
       "row_count": 8,
       "rows": [
        {
         "Highest Charting Position": 1556,
         "Index": 1556,
         "Number of Times Charted": 1556,
         "_deepnote_index_column": "count"
        },
        {
         "Highest Charting Position": 87.74421593830334,
         "Index": 778.5,
         "Number of Times Charted": 10.668380462724937,
         "_deepnote_index_column": "mean"
        },
        {
         "Highest Charting Position": 58.147225262702015,
         "Index": 449.322823813792,
         "Number of Times Charted": 16.36054552032661,
         "_deepnote_index_column": "std"
        },
        {
         "Highest Charting Position": 1,
         "Index": 1,
         "Number of Times Charted": 1,
         "_deepnote_index_column": "min"
        },
        {
         "Highest Charting Position": 37,
         "Index": 389.75,
         "Number of Times Charted": 1,
         "_deepnote_index_column": "25%"
        },
        {
         "Highest Charting Position": 80,
         "Index": 778.5,
         "Number of Times Charted": 4,
         "_deepnote_index_column": "50%"
        },
        {
         "Highest Charting Position": 137,
         "Index": 1167.25,
         "Number of Times Charted": 12,
         "_deepnote_index_column": "75%"
        },
        {
         "Highest Charting Position": 200,
         "Index": 1556,
         "Number of Times Charted": 142,
         "_deepnote_index_column": "max"
        }
       ]
      },
      "text/html": [
       "<div>\n",
       "<style scoped>\n",
       "    .dataframe tbody tr th:only-of-type {\n",
       "        vertical-align: middle;\n",
       "    }\n",
       "\n",
       "    .dataframe tbody tr th {\n",
       "        vertical-align: top;\n",
       "    }\n",
       "\n",
       "    .dataframe thead th {\n",
       "        text-align: right;\n",
       "    }\n",
       "</style>\n",
       "<table border=\"1\" class=\"dataframe\">\n",
       "  <thead>\n",
       "    <tr style=\"text-align: right;\">\n",
       "      <th></th>\n",
       "      <th>Index</th>\n",
       "      <th>Highest Charting Position</th>\n",
       "      <th>Number of Times Charted</th>\n",
       "    </tr>\n",
       "  </thead>\n",
       "  <tbody>\n",
       "    <tr>\n",
       "      <th>count</th>\n",
       "      <td>1556.000000</td>\n",
       "      <td>1556.000000</td>\n",
       "      <td>1556.000000</td>\n",
       "    </tr>\n",
       "    <tr>\n",
       "      <th>mean</th>\n",
       "      <td>778.500000</td>\n",
       "      <td>87.744216</td>\n",
       "      <td>10.668380</td>\n",
       "    </tr>\n",
       "    <tr>\n",
       "      <th>std</th>\n",
       "      <td>449.322824</td>\n",
       "      <td>58.147225</td>\n",
       "      <td>16.360546</td>\n",
       "    </tr>\n",
       "    <tr>\n",
       "      <th>min</th>\n",
       "      <td>1.000000</td>\n",
       "      <td>1.000000</td>\n",
       "      <td>1.000000</td>\n",
       "    </tr>\n",
       "    <tr>\n",
       "      <th>25%</th>\n",
       "      <td>389.750000</td>\n",
       "      <td>37.000000</td>\n",
       "      <td>1.000000</td>\n",
       "    </tr>\n",
       "    <tr>\n",
       "      <th>50%</th>\n",
       "      <td>778.500000</td>\n",
       "      <td>80.000000</td>\n",
       "      <td>4.000000</td>\n",
       "    </tr>\n",
       "    <tr>\n",
       "      <th>75%</th>\n",
       "      <td>1167.250000</td>\n",
       "      <td>137.000000</td>\n",
       "      <td>12.000000</td>\n",
       "    </tr>\n",
       "    <tr>\n",
       "      <th>max</th>\n",
       "      <td>1556.000000</td>\n",
       "      <td>200.000000</td>\n",
       "      <td>142.000000</td>\n",
       "    </tr>\n",
       "  </tbody>\n",
       "</table>\n",
       "</div>"
      ],
      "text/plain": [
       "             Index  Highest Charting Position  Number of Times Charted\n",
       "count  1556.000000                1556.000000              1556.000000\n",
       "mean    778.500000                  87.744216                10.668380\n",
       "std     449.322824                  58.147225                16.360546\n",
       "min       1.000000                   1.000000                 1.000000\n",
       "25%     389.750000                  37.000000                 1.000000\n",
       "50%     778.500000                  80.000000                 4.000000\n",
       "75%    1167.250000                 137.000000                12.000000\n",
       "max    1556.000000                 200.000000               142.000000"
      ]
     },
     "execution_count": 12,
     "metadata": {},
     "output_type": "execute_result"
    }
   ],
   "source": [
    "df.describe()"
   ]
  },
  {
   "cell_type": "markdown",
   "metadata": {
    "cell_id": "df7912364574488a9ae98b36c51e572d",
    "deepnote_cell_height": 74.796875,
    "deepnote_cell_type": "markdown",
    "tags": []
   },
   "source": [
    "<font color = red> __Exercise 6__: </font> Using slicing techniques from Monday's lecture, create a new dataframe which has just the \"Song Name\" column from the original dataframe."
   ]
  },
  {
   "cell_type": "code",
   "execution_count": null,
   "metadata": {
    "cell_id": "5c4fed41a21146d9b14263cf176dd3e4",
    "deepnote_cell_height": 81,
    "deepnote_cell_type": "code",
    "deepnote_to_be_reexecuted": false,
    "execution_millis": 3,
    "execution_start": 1648530571084,
    "source_hash": "257dc176",
    "tags": []
   },
   "outputs": [],
   "source": [
    "df2 = df.loc[:,\"Song Name\"]"
   ]
  },
  {
   "cell_type": "markdown",
   "metadata": {
    "cell_id": "a2e9f10dd721420e993c31f5dda8c5c8",
    "deepnote_cell_height": 74.796875,
    "deepnote_cell_type": "markdown",
    "tags": []
   },
   "source": [
    "<font color = red> __Exercise 7__: </font> Using `value_counts()`, determine how many times each artist appears in the dataset. Then pick an artist and use boolean indexing to find all songs by that artist in the original dataframe."
   ]
  },
  {
   "cell_type": "code",
   "execution_count": null,
   "metadata": {
    "cell_id": "8bad7d836b994beeba01361b6e910624",
    "deepnote_cell_height": 329.34375,
    "deepnote_cell_type": "code",
    "deepnote_output_heights": [
     232.34375
    ],
    "deepnote_to_be_reexecuted": false,
    "execution_millis": 7,
    "execution_start": 1648531542456,
    "source_hash": "4374355f",
    "tags": []
   },
   "outputs": [
    {
     "data": {
      "text/plain": [
       "Taylor Swift                                            52\n",
       "Lil Uzi Vert                                            32\n",
       "Justin Bieber                                           32\n",
       "Juice WRLD                                              30\n",
       "Pop Smoke                                               29\n",
       "                                                        ..\n",
       "G Herbo, Juice WRLD, Lil Uzi Vert, Chance the Rapper     1\n",
       "Rauw Alejandro, Mr. Naisgai                              1\n",
       "Go_A                                                     1\n",
       "Dadá Boladão, Tati Zaqui, OIK                            1\n",
       "Maluma, Lenny Tavárez                                    1\n",
       "Name: Artist, Length: 716, dtype: int64"
      ]
     },
     "execution_count": 10,
     "metadata": {},
     "output_type": "execute_result"
    }
   ],
   "source": [
    "df[\"Artist\"].value_counts()"
   ]
  },
  {
   "cell_type": "code",
   "execution_count": null,
   "metadata": {
    "cell_id": "1d8e0091f7f14aef87e69ba0478a69b4",
    "deepnote_cell_height": 726,
    "deepnote_cell_type": "code",
    "deepnote_output_heights": [
     611
    ],
    "deepnote_to_be_reexecuted": false,
    "execution_millis": 442,
    "execution_start": 1648531743378,
    "source_hash": "fdb0e6af",
    "tags": []
   },
   "outputs": [
    {
     "data": {
      "text/plain": [
       "398     Mr. Perfectly Fine (Taylor’s Version) (From Th...\n",
       "421                         Love Story (Taylor’s Version)\n",
       "424                                                willow\n",
       "428                 You Belong With Me (Taylor’s Version)\n",
       "429                           Fearless (Taylor’s Version)\n",
       "431                            Fifteen (Taylor’s Version)\n",
       "432                The Way I Loved You (Taylor’s Version)\n",
       "433     You All Over Me (feat. Maren Morris) (Taylor’s...\n",
       "434                        Hey Stephen (Taylor’s Version)\n",
       "435                        White Horse (Taylor’s Version)\n",
       "436                   Forever & Always (Taylor’s Version)\n",
       "437     Breathe (feat. Colbie Caillat) (Taylor’s Version)\n",
       "439     That’s When (feat. Keith Urban) (Taylor’s Vers...\n",
       "440                        Tell Me Why (Taylor’s Version)\n",
       "441                   You’re Not Sorry (Taylor’s Version)\n",
       "444         Don’t You (Taylor’s Version) (From The Vault)\n",
       "445     We Were Happy (Taylor’s Version) (From The Vault)\n",
       "585                                    champagne problems\n",
       "608                        no body, no crime (feat. HAIM)\n",
       "667                                  ‘tis the damn season\n",
       "671                                             gold rush\n",
       "688                                   Christmas Tree Farm\n",
       "691                                           tolerate it\n",
       "694                                             happiness\n",
       "695                                                   ivy\n",
       "696                                              dorothea\n",
       "697                     coney island (feat. The National)\n",
       "698                             evermore (feat. Bon Iver)\n",
       "699                                      long story short\n",
       "700                                        cowboy like me\n",
       "701                                              marjorie\n",
       "702                                               closure\n",
       "713                                              cardigan\n",
       "889                                exile (feat. Bon Iver)\n",
       "921                                                 the 1\n",
       "942                                                august\n",
       "948                       the last great american dynasty\n",
       "950                                     my tears ricochet\n",
       "960                                      invisible string\n",
       "965                                            mirrorball\n",
       "966                                                 seven\n",
       "967                                     this is me trying\n",
       "968                                                 betty\n",
       "970                                       illicit affairs\n",
       "976                                             mad woman\n",
       "977                                              epiphany\n",
       "978                                                 peace\n",
       "983                                                  hoax\n",
       "1374                                You Need To Calm Down\n",
       "1425          Only The Young - Featured in Miss Americana\n",
       "1466      ME! (feat. Brendon Urie of Panic! At The Disco)\n",
       "1555                   Lover (Remix) [feat. Shawn Mendes]\n",
       "Name: Song Name, dtype: object"
      ]
     },
     "execution_count": 14,
     "metadata": {},
     "output_type": "execute_result"
    }
   ],
   "source": [
    "df3 = df[df[\"Artist\"] == \"Taylor Swift\"][\"Song Name\"]\n",
    "df3"
   ]
  },
  {
   "cell_type": "markdown",
   "metadata": {
    "cell_id": "c40f13c57e824f60bbc802553ef05f5c",
    "deepnote_cell_height": 300.1875,
    "deepnote_cell_type": "markdown",
    "tags": []
   },
   "source": [
    "***\n",
    "## Getting Started on Homework 1\n",
    "\n",
    "- Remember that you can work in groups of 2-3 students on the homework, and you all can submit the same work. Just remember to include the names of your collaborators. Let's quickly see how to add collaborators to a project.\n",
    "- Thursday we will work on Homework 1 together. It helps if you come prepared to discussion having already found a dataset you would like to use from Kaggle (you will need to create an account). When picking a dataset, here are a few things to keep in mind:\n",
    "\n",
    "     - Find a dataset that interests you, but spend the majority of your time working on the homework questions. It can be easy to waste time trying to find the perfect dataset.\n",
    "     - The data you use for this homework should be relatively \"clean\" already (I will show you an example of a dataset that would be a bad choice to use for this homework). We will have opportunities later in the quarter to work on data cleaning."
   ]
  }
 ],
 "metadata": {
  "deepnote": {
   "is_reactive": false
  },
  "deepnote_execution_queue": [],
  "deepnote_notebook_id": "095f238a-76d1-4ca8-8668-4d41792fbf82",
  "kernelspec": {
   "display_name": "Python 3 (ipykernel)",
   "language": "python",
   "name": "python3"
  },
  "language_info": {
   "codemirror_mode": {
    "name": "ipython",
    "version": 3
   },
   "file_extension": ".py",
   "mimetype": "text/x-python",
   "name": "python",
   "nbconvert_exporter": "python",
   "pygments_lexer": "ipython3",
   "version": "3.7.12"
  }
 },
 "nbformat": 4,
 "nbformat_minor": 4
}
