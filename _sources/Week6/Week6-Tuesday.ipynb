{
 "cells": [
  {
   "cell_type": "markdown",
   "metadata": {
    "cell_id": "d63328c8-8d13-4c78-98a7-9586b32cde3f",
    "deepnote_cell_height": 294.390625,
    "deepnote_cell_type": "markdown",
    "owner_user_id": "e590e996-b52f-4e48-8e79-35525bbb42f6",
    "tags": []
   },
   "source": [
    "# Week 6, Tuesday Discussion\n",
    "\n",
    "__Reminders__:\n",
    " - Homework #4 due tonight at 11:59pm\n",
    " - Quiz #3 today during last 25 minutes of discussion\n",
    "\n",
    "__Today__:\n",
    " - Review for Quiz #3 ~25 (first 25 minutes of discussion)\n",
    " - Quiz #3 (remainder of discussion)"
   ]
  },
  {
   "cell_type": "markdown",
   "metadata": {
    "cell_id": "73878dcbb9b24922a3a2999448d7d89a",
    "deepnote_cell_height": 111.1875,
    "deepnote_cell_type": "markdown",
    "tags": []
   },
   "source": [
    "__Question 1__: Using the following dataset, run the KMeans algorithm by hand, starting with the initial points $(3,0)$ and $(1,0)$. _(How many clusters do you expect with this setup?)_\n",
    "\n",
    "_Warning_: Notice the scaling on the $x$- and $y$-axes!"
   ]
  },
  {
   "cell_type": "code",
   "execution_count": 1,
   "metadata": {
    "cell_id": "85bc3eee296d4494a5195de8e7bd84e9",
    "deepnote_cell_height": 225,
    "deepnote_cell_type": "code",
    "deepnote_to_be_reexecuted": false,
    "execution_millis": 2155,
    "execution_start": 1651611554119,
    "source_hash": "4886af03",
    "tags": []
   },
   "outputs": [],
   "source": [
    "import pandas as pd\n",
    "import altair as alt\n",
    "from sklearn.cluster import KMeans\n",
    "\n",
    "df = pd.DataFrame({\"x\":[0,0,1,1,3,4],\"y\":[0,10,0,10,0,0]})\n",
    "datapoints = alt.Chart(df).mark_circle(size = 100, color = \"black\").encode(\n",
    "    x = \"x\",\n",
    "    y = \"y\"\n",
    ")"
   ]
  },
  {
   "cell_type": "markdown",
   "metadata": {
    "cell_id": "c87f9a187e044a9cb4e1ecd5513b5235",
    "deepnote_cell_height": 183.984375,
    "deepnote_cell_type": "markdown",
    "tags": []
   },
   "source": [
    "__First Iteration of KMeans:__\n",
    "\n",
    "Let Cluster 1 be the points closest to $(3,0)$ and Cluster 2 the points closest to $(1,0)$. Then, our first clusters are as follows:\n",
    "\n",
    "<font color = blue> Cluster 1: $(3,0), (4,0)$ </font>\n",
    "\n",
    "<font color = red> Cluster 2: $(1,0),(1,10),(0,0),(0,10)$ </font>"
   ]
  },
  {
   "cell_type": "markdown",
   "metadata": {
    "cell_id": "c7320917c2034883a8ec4f1aa987e310",
    "deepnote_cell_height": 111.1875,
    "deepnote_cell_type": "markdown",
    "tags": []
   },
   "source": [
    "Let us now compute the centroid of each cluster. This can be accomplished by taking the component-wise average of each point in a given cluster. \n",
    "\n",
    "We see that Cluster 1 has average $(3.5,0)$ and Cluster 2 has average $(0.5, 5)$. These two points become our new centers."
   ]
  },
  {
   "cell_type": "code",
   "execution_count": 2,
   "metadata": {
    "cell_id": "2cb66db487054cdfbca31775990f1247",
    "deepnote_cell_height": 566,
    "deepnote_cell_type": "code",
    "deepnote_output_heights": [
     361
    ],
    "deepnote_to_be_reexecuted": false,
    "execution_millis": 185,
    "execution_start": 1651611556275,
    "source_hash": "be6a9fbb",
    "tags": []
   },
   "outputs": [
    {
     "data": {
      "text/html": [
       "\n",
       "<div id=\"altair-viz-1d0512c152fa410ba8b63a5e9d91d69e\"></div>\n",
       "<script type=\"text/javascript\">\n",
       "  var VEGA_DEBUG = (typeof VEGA_DEBUG == \"undefined\") ? {} : VEGA_DEBUG;\n",
       "  (function(spec, embedOpt){\n",
       "    let outputDiv = document.currentScript.previousElementSibling;\n",
       "    if (outputDiv.id !== \"altair-viz-1d0512c152fa410ba8b63a5e9d91d69e\") {\n",
       "      outputDiv = document.getElementById(\"altair-viz-1d0512c152fa410ba8b63a5e9d91d69e\");\n",
       "    }\n",
       "    const paths = {\n",
       "      \"vega\": \"https://cdn.jsdelivr.net/npm//vega@5?noext\",\n",
       "      \"vega-lib\": \"https://cdn.jsdelivr.net/npm//vega-lib?noext\",\n",
       "      \"vega-lite\": \"https://cdn.jsdelivr.net/npm//vega-lite@4.17.0?noext\",\n",
       "      \"vega-embed\": \"https://cdn.jsdelivr.net/npm//vega-embed@6?noext\",\n",
       "    };\n",
       "\n",
       "    function maybeLoadScript(lib, version) {\n",
       "      var key = `${lib.replace(\"-\", \"\")}_version`;\n",
       "      return (VEGA_DEBUG[key] == version) ?\n",
       "        Promise.resolve(paths[lib]) :\n",
       "        new Promise(function(resolve, reject) {\n",
       "          var s = document.createElement('script');\n",
       "          document.getElementsByTagName(\"head\")[0].appendChild(s);\n",
       "          s.async = true;\n",
       "          s.onload = () => {\n",
       "            VEGA_DEBUG[key] = version;\n",
       "            return resolve(paths[lib]);\n",
       "          };\n",
       "          s.onerror = () => reject(`Error loading script: ${paths[lib]}`);\n",
       "          s.src = paths[lib];\n",
       "        });\n",
       "    }\n",
       "\n",
       "    function showError(err) {\n",
       "      outputDiv.innerHTML = `<div class=\"error\" style=\"color:red;\">${err}</div>`;\n",
       "      throw err;\n",
       "    }\n",
       "\n",
       "    function displayChart(vegaEmbed) {\n",
       "      vegaEmbed(outputDiv, spec, embedOpt)\n",
       "        .catch(err => showError(`Javascript Error: ${err.message}<br>This usually means there's a typo in your chart specification. See the javascript console for the full traceback.`));\n",
       "    }\n",
       "\n",
       "    if(typeof define === \"function\" && define.amd) {\n",
       "      requirejs.config({paths});\n",
       "      require([\"vega-embed\"], displayChart, err => showError(`Error loading script: ${err.message}`));\n",
       "    } else {\n",
       "      maybeLoadScript(\"vega\", \"5\")\n",
       "        .then(() => maybeLoadScript(\"vega-lite\", \"4.17.0\"))\n",
       "        .then(() => maybeLoadScript(\"vega-embed\", \"6\"))\n",
       "        .catch(showError)\n",
       "        .then(() => displayChart(vegaEmbed));\n",
       "    }\n",
       "  })({\"config\": {\"view\": {\"continuousWidth\": 400, \"continuousHeight\": 300}}, \"layer\": [{\"data\": {\"name\": \"data-94131af95bdb0397aa4e973f5f50880e\"}, \"mark\": {\"type\": \"circle\", \"color\": \"black\", \"size\": 100}, \"encoding\": {\"x\": {\"field\": \"x\", \"type\": \"quantitative\"}, \"y\": {\"field\": \"y\", \"type\": \"quantitative\"}}}, {\"data\": {\"name\": \"data-1aad7ad9f5ded75a32aa52cba1158594\"}, \"mark\": {\"type\": \"point\", \"color\": \"green\", \"size\": 100}, \"encoding\": {\"x\": {\"field\": \"x\", \"type\": \"quantitative\"}, \"y\": {\"field\": \"y\", \"type\": \"quantitative\"}}}], \"$schema\": \"https://vega.github.io/schema/vega-lite/v4.17.0.json\", \"datasets\": {\"data-94131af95bdb0397aa4e973f5f50880e\": [{\"x\": 0, \"y\": 0}, {\"x\": 0, \"y\": 10}, {\"x\": 1, \"y\": 0}, {\"x\": 1, \"y\": 10}, {\"x\": 3, \"y\": 0}, {\"x\": 4, \"y\": 0}], \"data-1aad7ad9f5ded75a32aa52cba1158594\": [{\"x\": 3.5, \"y\": 0}, {\"x\": 0.5, \"y\": 5}]}}, {\"mode\": \"vega-lite\"});\n",
       "</script>"
      ],
      "text/plain": [
       "alt.LayerChart(...)"
      ]
     },
     "execution_count": 2,
     "metadata": {},
     "output_type": "execute_result"
    }
   ],
   "source": [
    "round1 = pd.DataFrame({\"x\":[3.5,0.5],\"y\":[0,5]})\n",
    "average1 = alt.Chart(round1).mark_point(size = 100, color = \"green\").encode(\n",
    "    x = \"x\",\n",
    "    y = \"y\"\n",
    ")\n",
    "\n",
    "datapoints+average1"
   ]
  },
  {
   "cell_type": "markdown",
   "metadata": {
    "cell_id": "16c769a5f8de480d8489eac2de08d1c5",
    "deepnote_cell_height": 52.390625,
    "deepnote_cell_type": "markdown",
    "tags": []
   },
   "source": [
    "__Remark__: Notice that the new centers are the centers of mass of the two original clusters. "
   ]
  },
  {
   "cell_type": "markdown",
   "metadata": {
    "cell_id": "5d653970b42a4d6787f5889cc17fec6f",
    "deepnote_cell_height": 321.59375,
    "deepnote_cell_type": "markdown",
    "tags": []
   },
   "source": [
    "__Second Iteration of KMeans__:\n",
    "\n",
    "Let Cluster 1 be the set of points closest to $(3.5,0)$ and Cluster 2 those closest to $(0.5,5)$. Then, \n",
    "\n",
    "<font color = blue> Cluster 1: (3,0),(4,0),(1,0),(0,0) </font>\n",
    "\n",
    "<font color = red> Cluster 2: (0,10), (1,10) </font>"
   ]
  },
  {
   "cell_type": "markdown",
   "metadata": {
    "cell_id": "a00899643f7d4f9794417063bcae6d65",
    "deepnote_cell_height": 52.390625,
    "deepnote_cell_type": "markdown",
    "tags": []
   },
   "source": [
    "We compute the centroid again. For Cluster 1 it is $(2,0)$ and for Cluster 2 it is $(0.5,10)$."
   ]
  },
  {
   "cell_type": "code",
   "execution_count": 3,
   "metadata": {
    "cell_id": "b7d056124ca3497eab00e220609d21a0",
    "deepnote_cell_height": 568,
    "deepnote_cell_type": "code",
    "deepnote_output_heights": [
     363
    ],
    "deepnote_to_be_reexecuted": false,
    "execution_millis": 69,
    "execution_start": 1651611556392,
    "source_hash": "a3c66899",
    "tags": []
   },
   "outputs": [
    {
     "data": {
      "text/html": [
       "\n",
       "<div id=\"altair-viz-b8578b4be3964b6daf6a5ac60ca68de8\"></div>\n",
       "<script type=\"text/javascript\">\n",
       "  var VEGA_DEBUG = (typeof VEGA_DEBUG == \"undefined\") ? {} : VEGA_DEBUG;\n",
       "  (function(spec, embedOpt){\n",
       "    let outputDiv = document.currentScript.previousElementSibling;\n",
       "    if (outputDiv.id !== \"altair-viz-b8578b4be3964b6daf6a5ac60ca68de8\") {\n",
       "      outputDiv = document.getElementById(\"altair-viz-b8578b4be3964b6daf6a5ac60ca68de8\");\n",
       "    }\n",
       "    const paths = {\n",
       "      \"vega\": \"https://cdn.jsdelivr.net/npm//vega@5?noext\",\n",
       "      \"vega-lib\": \"https://cdn.jsdelivr.net/npm//vega-lib?noext\",\n",
       "      \"vega-lite\": \"https://cdn.jsdelivr.net/npm//vega-lite@4.17.0?noext\",\n",
       "      \"vega-embed\": \"https://cdn.jsdelivr.net/npm//vega-embed@6?noext\",\n",
       "    };\n",
       "\n",
       "    function maybeLoadScript(lib, version) {\n",
       "      var key = `${lib.replace(\"-\", \"\")}_version`;\n",
       "      return (VEGA_DEBUG[key] == version) ?\n",
       "        Promise.resolve(paths[lib]) :\n",
       "        new Promise(function(resolve, reject) {\n",
       "          var s = document.createElement('script');\n",
       "          document.getElementsByTagName(\"head\")[0].appendChild(s);\n",
       "          s.async = true;\n",
       "          s.onload = () => {\n",
       "            VEGA_DEBUG[key] = version;\n",
       "            return resolve(paths[lib]);\n",
       "          };\n",
       "          s.onerror = () => reject(`Error loading script: ${paths[lib]}`);\n",
       "          s.src = paths[lib];\n",
       "        });\n",
       "    }\n",
       "\n",
       "    function showError(err) {\n",
       "      outputDiv.innerHTML = `<div class=\"error\" style=\"color:red;\">${err}</div>`;\n",
       "      throw err;\n",
       "    }\n",
       "\n",
       "    function displayChart(vegaEmbed) {\n",
       "      vegaEmbed(outputDiv, spec, embedOpt)\n",
       "        .catch(err => showError(`Javascript Error: ${err.message}<br>This usually means there's a typo in your chart specification. See the javascript console for the full traceback.`));\n",
       "    }\n",
       "\n",
       "    if(typeof define === \"function\" && define.amd) {\n",
       "      requirejs.config({paths});\n",
       "      require([\"vega-embed\"], displayChart, err => showError(`Error loading script: ${err.message}`));\n",
       "    } else {\n",
       "      maybeLoadScript(\"vega\", \"5\")\n",
       "        .then(() => maybeLoadScript(\"vega-lite\", \"4.17.0\"))\n",
       "        .then(() => maybeLoadScript(\"vega-embed\", \"6\"))\n",
       "        .catch(showError)\n",
       "        .then(() => displayChart(vegaEmbed));\n",
       "    }\n",
       "  })({\"config\": {\"view\": {\"continuousWidth\": 400, \"continuousHeight\": 300}}, \"layer\": [{\"data\": {\"name\": \"data-94131af95bdb0397aa4e973f5f50880e\"}, \"mark\": {\"type\": \"circle\", \"color\": \"black\", \"size\": 100}, \"encoding\": {\"x\": {\"field\": \"x\", \"type\": \"quantitative\"}, \"y\": {\"field\": \"y\", \"type\": \"quantitative\"}}}, {\"data\": {\"name\": \"data-1aad7ad9f5ded75a32aa52cba1158594\"}, \"mark\": {\"type\": \"point\", \"color\": \"green\", \"size\": 100}, \"encoding\": {\"x\": {\"field\": \"x\", \"type\": \"quantitative\"}, \"y\": {\"field\": \"y\", \"type\": \"quantitative\"}}}, {\"data\": {\"name\": \"data-b7185365ff0cff8667390d320e1773e2\"}, \"mark\": {\"type\": \"point\", \"color\": \"orange\", \"size\": 100}, \"encoding\": {\"x\": {\"field\": \"x\", \"type\": \"quantitative\"}, \"y\": {\"field\": \"y\", \"type\": \"quantitative\"}}}], \"$schema\": \"https://vega.github.io/schema/vega-lite/v4.17.0.json\", \"datasets\": {\"data-94131af95bdb0397aa4e973f5f50880e\": [{\"x\": 0, \"y\": 0}, {\"x\": 0, \"y\": 10}, {\"x\": 1, \"y\": 0}, {\"x\": 1, \"y\": 10}, {\"x\": 3, \"y\": 0}, {\"x\": 4, \"y\": 0}], \"data-1aad7ad9f5ded75a32aa52cba1158594\": [{\"x\": 3.5, \"y\": 0}, {\"x\": 0.5, \"y\": 5}], \"data-b7185365ff0cff8667390d320e1773e2\": [{\"x\": 0.5, \"y\": 10}, {\"x\": 2.0, \"y\": 0}]}}, {\"mode\": \"vega-lite\"});\n",
       "</script>"
      ],
      "text/plain": [
       "alt.LayerChart(...)"
      ]
     },
     "execution_count": 3,
     "metadata": {},
     "output_type": "execute_result"
    }
   ],
   "source": [
    "round2 = pd.DataFrame({\"x\":[0.5,2],\"y\":[10,0]})\n",
    "average2 = alt.Chart(round2).mark_point(size = 100, color = \"orange\").encode(\n",
    "    x = \"x\",\n",
    "    y = \"y\"\n",
    ")\n",
    "\n",
    "datapoints+average1+average2"
   ]
  },
  {
   "cell_type": "markdown",
   "metadata": {
    "cell_id": "89e268d8abd5495f899c94ccfa90e651",
    "deepnote_cell_height": 111.1875,
    "deepnote_cell_type": "markdown",
    "tags": []
   },
   "source": [
    "__Notice!__ If we were to repeat the process again, our clusters would not change. This is how we know to terminate the process. We conclude that the clusters we found in the second iteration are the final result.\n",
    "\n",
    "Let's see how well we did...."
   ]
  },
  {
   "cell_type": "code",
   "execution_count": 4,
   "metadata": {
    "cell_id": "6664569c3841456691a335e0a6ad0924",
    "deepnote_cell_height": 584,
    "deepnote_cell_type": "code",
    "deepnote_output_heights": [
     361
    ],
    "deepnote_to_be_reexecuted": false,
    "execution_millis": 562,
    "execution_start": 1651611556437,
    "source_hash": "76c80c37",
    "tags": []
   },
   "outputs": [
    {
     "data": {
      "text/html": [
       "\n",
       "<div id=\"altair-viz-085815352ee24151b42e1804e2adfb03\"></div>\n",
       "<script type=\"text/javascript\">\n",
       "  var VEGA_DEBUG = (typeof VEGA_DEBUG == \"undefined\") ? {} : VEGA_DEBUG;\n",
       "  (function(spec, embedOpt){\n",
       "    let outputDiv = document.currentScript.previousElementSibling;\n",
       "    if (outputDiv.id !== \"altair-viz-085815352ee24151b42e1804e2adfb03\") {\n",
       "      outputDiv = document.getElementById(\"altair-viz-085815352ee24151b42e1804e2adfb03\");\n",
       "    }\n",
       "    const paths = {\n",
       "      \"vega\": \"https://cdn.jsdelivr.net/npm//vega@5?noext\",\n",
       "      \"vega-lib\": \"https://cdn.jsdelivr.net/npm//vega-lib?noext\",\n",
       "      \"vega-lite\": \"https://cdn.jsdelivr.net/npm//vega-lite@4.17.0?noext\",\n",
       "      \"vega-embed\": \"https://cdn.jsdelivr.net/npm//vega-embed@6?noext\",\n",
       "    };\n",
       "\n",
       "    function maybeLoadScript(lib, version) {\n",
       "      var key = `${lib.replace(\"-\", \"\")}_version`;\n",
       "      return (VEGA_DEBUG[key] == version) ?\n",
       "        Promise.resolve(paths[lib]) :\n",
       "        new Promise(function(resolve, reject) {\n",
       "          var s = document.createElement('script');\n",
       "          document.getElementsByTagName(\"head\")[0].appendChild(s);\n",
       "          s.async = true;\n",
       "          s.onload = () => {\n",
       "            VEGA_DEBUG[key] = version;\n",
       "            return resolve(paths[lib]);\n",
       "          };\n",
       "          s.onerror = () => reject(`Error loading script: ${paths[lib]}`);\n",
       "          s.src = paths[lib];\n",
       "        });\n",
       "    }\n",
       "\n",
       "    function showError(err) {\n",
       "      outputDiv.innerHTML = `<div class=\"error\" style=\"color:red;\">${err}</div>`;\n",
       "      throw err;\n",
       "    }\n",
       "\n",
       "    function displayChart(vegaEmbed) {\n",
       "      vegaEmbed(outputDiv, spec, embedOpt)\n",
       "        .catch(err => showError(`Javascript Error: ${err.message}<br>This usually means there's a typo in your chart specification. See the javascript console for the full traceback.`));\n",
       "    }\n",
       "\n",
       "    if(typeof define === \"function\" && define.amd) {\n",
       "      requirejs.config({paths});\n",
       "      require([\"vega-embed\"], displayChart, err => showError(`Error loading script: ${err.message}`));\n",
       "    } else {\n",
       "      maybeLoadScript(\"vega\", \"5\")\n",
       "        .then(() => maybeLoadScript(\"vega-lite\", \"4.17.0\"))\n",
       "        .then(() => maybeLoadScript(\"vega-embed\", \"6\"))\n",
       "        .catch(showError)\n",
       "        .then(() => displayChart(vegaEmbed));\n",
       "    }\n",
       "  })({\"config\": {\"view\": {\"continuousWidth\": 400, \"continuousHeight\": 300}}, \"data\": {\"name\": \"data-0b5e1f66ecd21146453a53005a735c7b\"}, \"mark\": {\"type\": \"circle\", \"color\": \"black\", \"size\": 100}, \"encoding\": {\"color\": {\"field\": \"Clusters\", \"type\": \"nominal\"}, \"x\": {\"field\": \"x\", \"type\": \"quantitative\"}, \"y\": {\"field\": \"y\", \"type\": \"quantitative\"}}, \"$schema\": \"https://vega.github.io/schema/vega-lite/v4.17.0.json\", \"datasets\": {\"data-0b5e1f66ecd21146453a53005a735c7b\": [{\"x\": 0, \"y\": 0, \"Clusters\": 0}, {\"x\": 0, \"y\": 10, \"Clusters\": 1}, {\"x\": 1, \"y\": 0, \"Clusters\": 0}, {\"x\": 1, \"y\": 10, \"Clusters\": 1}, {\"x\": 3, \"y\": 0, \"Clusters\": 0}, {\"x\": 4, \"y\": 0, \"Clusters\": 0}]}}, {\"mode\": \"vega-lite\"});\n",
       "</script>"
      ],
      "text/plain": [
       "alt.Chart(...)"
      ]
     },
     "execution_count": 4,
     "metadata": {},
     "output_type": "execute_result"
    }
   ],
   "source": [
    "kmeans = KMeans(n_clusters=2)\n",
    "\n",
    "kmeans.fit(df)\n",
    "df[\"Clusters\"] = kmeans.predict(df)\n",
    "\n",
    "datapoints.encode(\n",
    "    color = \"Clusters:N\"\n",
    ")"
   ]
  },
  {
   "cell_type": "markdown",
   "metadata": {
    "cell_id": "23248bc213a74ef4b59187365d9e1f4f",
    "deepnote_cell_height": 161.59375,
    "deepnote_cell_type": "markdown",
    "tags": []
   },
   "source": [
    "__Question 2:__\n",
    "\n",
    "Consider `df` as below. What will be the result of the following?\n",
    "\n",
    "`df.apply(lambda f: f[\"y\"] + 2**f[\"x\"], axis = 1)`\n",
    "\n",
    "`df.apply(lambda g: g[0] + g[5], axis = 0)`\n"
   ]
  },
  {
   "cell_type": "code",
   "execution_count": 5,
   "metadata": {
    "cell_id": "575295b988b048e0a7775c194404b540",
    "deepnote_cell_height": 454,
    "deepnote_cell_type": "code",
    "deepnote_to_be_reexecuted": false,
    "execution_millis": 47,
    "execution_start": 1651611557002,
    "source_hash": "2c4c0578",
    "tags": []
   },
   "outputs": [
    {
     "data": {
      "text/html": [
       "<div>\n",
       "<style scoped>\n",
       "    .dataframe tbody tr th:only-of-type {\n",
       "        vertical-align: middle;\n",
       "    }\n",
       "\n",
       "    .dataframe tbody tr th {\n",
       "        vertical-align: top;\n",
       "    }\n",
       "\n",
       "    .dataframe thead th {\n",
       "        text-align: right;\n",
       "    }\n",
       "</style>\n",
       "<table border=\"1\" class=\"dataframe\">\n",
       "  <thead>\n",
       "    <tr style=\"text-align: right;\">\n",
       "      <th></th>\n",
       "      <th>x</th>\n",
       "      <th>y</th>\n",
       "    </tr>\n",
       "  </thead>\n",
       "  <tbody>\n",
       "    <tr>\n",
       "      <th>0</th>\n",
       "      <td>0</td>\n",
       "      <td>0</td>\n",
       "    </tr>\n",
       "    <tr>\n",
       "      <th>1</th>\n",
       "      <td>0</td>\n",
       "      <td>10</td>\n",
       "    </tr>\n",
       "    <tr>\n",
       "      <th>2</th>\n",
       "      <td>1</td>\n",
       "      <td>0</td>\n",
       "    </tr>\n",
       "    <tr>\n",
       "      <th>3</th>\n",
       "      <td>1</td>\n",
       "      <td>10</td>\n",
       "    </tr>\n",
       "    <tr>\n",
       "      <th>4</th>\n",
       "      <td>3</td>\n",
       "      <td>0</td>\n",
       "    </tr>\n",
       "    <tr>\n",
       "      <th>5</th>\n",
       "      <td>4</td>\n",
       "      <td>0</td>\n",
       "    </tr>\n",
       "  </tbody>\n",
       "</table>\n",
       "</div>"
      ],
      "text/plain": [
       "   x   y\n",
       "0  0   0\n",
       "1  0  10\n",
       "2  1   0\n",
       "3  1  10\n",
       "4  3   0\n",
       "5  4   0"
      ]
     },
     "execution_count": 5,
     "metadata": {},
     "output_type": "execute_result"
    }
   ],
   "source": [
    "df2 = df.drop(\"Clusters\", axis = 1).copy()\n",
    "df2"
   ]
  },
  {
   "cell_type": "markdown",
   "metadata": {
    "cell_id": "90cc98c32c074022ae0b4fd584cef227",
    "deepnote_cell_height": 52.390625,
    "deepnote_cell_type": "markdown",
    "tags": []
   },
   "source": [
    "Before we answer, let's take a look at the [documentation](https://pandas.pydata.org/docs/reference/api/pandas.DataFrame.apply.html) for `apply`. In particular, pay attention to the `axis` argument."
   ]
  },
  {
   "cell_type": "code",
   "execution_count": 6,
   "metadata": {
    "cell_id": "7298768cbc384e9fb0f9a3a0ff0e5b87",
    "deepnote_cell_height": 233.359375,
    "deepnote_cell_type": "code",
    "deepnote_output_heights": [
     136.359375
    ],
    "deepnote_to_be_reexecuted": false,
    "execution_millis": 5,
    "execution_start": 1651611557082,
    "source_hash": "fdb2961f",
    "tags": []
   },
   "outputs": [
    {
     "data": {
      "text/plain": [
       "0     1\n",
       "1    11\n",
       "2     2\n",
       "3    12\n",
       "4     8\n",
       "5    16\n",
       "dtype: int64"
      ]
     },
     "execution_count": 6,
     "metadata": {},
     "output_type": "execute_result"
    }
   ],
   "source": [
    "df2.apply(lambda f: f[\"y\"] + 2**f[\"x\"], axis = 1 )"
   ]
  },
  {
   "cell_type": "code",
   "execution_count": 7,
   "metadata": {
    "cell_id": "456e9d84fca64489ae6099305e5ef154",
    "deepnote_cell_height": 156.578125,
    "deepnote_cell_type": "code",
    "deepnote_output_heights": [
     59.578125
    ],
    "deepnote_to_be_reexecuted": false,
    "execution_millis": 4,
    "execution_start": 1651611557083,
    "source_hash": "843e0576",
    "tags": []
   },
   "outputs": [
    {
     "data": {
      "text/plain": [
       "x    4\n",
       "y    0\n",
       "dtype: int64"
      ]
     },
     "execution_count": 7,
     "metadata": {},
     "output_type": "execute_result"
    }
   ],
   "source": [
    "df2.apply(lambda g: g[0] + g[5], axis = 0)"
   ]
  },
  {
   "cell_type": "code",
   "execution_count": 8,
   "metadata": {
    "cell_id": "5ab086ab952d4597a379060e39e95790",
    "deepnote_cell_height": 118.1875,
    "deepnote_cell_type": "code",
    "deepnote_output_heights": [
     21.1875
    ],
    "deepnote_to_be_reexecuted": false,
    "execution_millis": 4,
    "execution_start": 1651611557084,
    "source_hash": "f3e3282b",
    "tags": []
   },
   "outputs": [
    {
     "data": {
      "text/plain": [
       "pandas.core.series.Series"
      ]
     },
     "execution_count": 8,
     "metadata": {},
     "output_type": "execute_result"
    }
   ],
   "source": [
    "type(df2.apply(lambda g: g[0] + g[5], axis = 0))"
   ]
  }
 ],
 "metadata": {
  "deepnote": {},
  "deepnote_execution_queue": [],
  "deepnote_notebook_id": "c365608a-25c5-4506-993c-99234fe5915b",
  "kernelspec": {
   "display_name": "Python 3 (ipykernel)",
   "language": "python",
   "name": "python3"
  },
  "language_info": {
   "codemirror_mode": {
    "name": "ipython",
    "version": 3
   },
   "file_extension": ".py",
   "mimetype": "text/x-python",
   "name": "python",
   "nbconvert_exporter": "python",
   "pygments_lexer": "ipython3",
   "version": "3.7.12"
  }
 },
 "nbformat": 4,
 "nbformat_minor": 4
}
